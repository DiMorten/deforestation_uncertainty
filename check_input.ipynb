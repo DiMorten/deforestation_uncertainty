{
 "cells": [
  {
   "cell_type": "code",
   "execution_count": 13,
   "metadata": {},
   "outputs": [],
   "source": [
    "import utils_v1\n",
    "from src.dataset import (\n",
    "    MultipleDates,\n",
    "    PAMultipleDates,\n",
    "    MTMultipleDates,\n",
    "    MAMultipleDates,\n",
    "    MSMultipleDates,\n",
    "    PIMultipleDates,\n",
    "    MOMultipleDates\n",
    ")\n",
    "import numpy as np\n",
    "from src.paths import PathsPA, PathsMT, PathsMA, PathsMS, PathsPI, PathsMO\n",
    "import os\n",
    "# import matplotlib as plt\n",
    "import matplotlib.pyplot as plt"
   ]
  },
  {
   "cell_type": "code",
   "execution_count": null,
   "metadata": {},
   "outputs": [],
   "source": []
  },
  {
   "cell_type": "code",
   "execution_count": 8,
   "metadata": {},
   "outputs": [],
   "source": [
    "def loadInputImage(path): \n",
    "    return np.load(\n",
    "        os.path.join(path, 'optical_im.npy')\n",
    "        ).astype('float32') \n"
   ]
  },
  {
   "cell_type": "code",
   "execution_count": 9,
   "metadata": {},
   "outputs": [],
   "source": [
    "paths = PathsMS()\n"
   ]
  },
  {
   "cell_type": "code",
   "execution_count": 10,
   "metadata": {},
   "outputs": [
    {
     "data": {
      "text/plain": [
       "'D:/Jorge/datasets/sentinel2/MS/'"
      ]
     },
     "execution_count": 10,
     "metadata": {},
     "output_type": "execute_result"
    }
   ],
   "source": [
    "paths.optical_im_folder"
   ]
  },
  {
   "cell_type": "code",
   "execution_count": 11,
   "metadata": {},
   "outputs": [],
   "source": [
    "im_2018 = loadInputImage(paths.optical_im_past_dates[2018])\n",
    "im_2019 = loadInputImage(paths.optical_im_past_dates[2019])\n",
    "im_2020 = loadInputImage(paths.optical_im_past_dates[2020])\n"
   ]
  },
  {
   "cell_type": "code",
   "execution_count": 14,
   "metadata": {},
   "outputs": [
    {
     "name": "stderr",
     "output_type": "stream",
     "text": [
      "Clipping input data to the valid range for imshow with RGB data ([0..1] for floats or [0..255] for integers).\n"
     ]
    }
   ],
   "source": [
    "plt.imshow(im_2018[:,:,[0,1,2]])\n"
   ]
  },
  {
   "cell_type": "code",
   "execution_count": null,
   "metadata": {},
   "outputs": [],
   "source": [
    "plt.imshow(im_2019[:,:,[0,1,2]])\n"
   ]
  },
  {
   "cell_type": "code",
   "execution_count": null,
   "metadata": {},
   "outputs": [],
   "source": [
    "plt.imshow(im_2020[:,:,[0,1,2]])\n"
   ]
  }
 ],
 "metadata": {
  "kernelspec": {
   "display_name": "tf2",
   "language": "python",
   "name": "python3"
  },
  "language_info": {
   "codemirror_mode": {
    "name": "ipython",
    "version": 3
   },
   "file_extension": ".py",
   "mimetype": "text/x-python",
   "name": "python",
   "nbconvert_exporter": "python",
   "pygments_lexer": "ipython3",
   "version": "3.9.12"
  },
  "orig_nbformat": 4
 },
 "nbformat": 4,
 "nbformat_minor": 2
}
