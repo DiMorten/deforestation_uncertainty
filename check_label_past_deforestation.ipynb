{
 "cells": [
  {
   "cell_type": "code",
   "execution_count": 1,
   "metadata": {},
   "outputs": [],
   "source": [
    "import numpy as np\n",
    "import matplotlib.pyplot as plt\n",
    "from icecream import ic\n",
    "from src.dataset import Para, ParaDeforestationTime, ParaDistanceMap, ParaMultipleDates, MTMultipleDates\n",
    "import src.plot as _plt\n",
    "import utils_v1"
   ]
  },
  {
   "cell_type": "code",
   "execution_count": 2,
   "metadata": {},
   "outputs": [],
   "source": [
    "path = 'D:/Jorge/datasets/regeneration/Para/'"
   ]
  },
  {
   "cell_type": "code",
   "execution_count": 8,
   "metadata": {},
   "outputs": [],
   "source": [
    "deforestation_time = np.load(path + 'deforestation_time_normalized_2019.npy')\n",
    "deforestation_time_old = np.load(path + 'deforestation_time_normalized_2019_old.npy')\n"
   ]
  },
  {
   "cell_type": "code",
   "execution_count": 9,
   "metadata": {},
   "outputs": [
    {
     "name": "stderr",
     "output_type": "stream",
     "text": [
      "ic| np.unique(deforestation_time, return_counts = True): (array([0.        , 0.07692308, 0.15384616, 0.23076925, 0.30769232,\n",
      "                                                                0.3846154 , 0.4615385 , 0.53846157, 0.61538464, 0.6923077 ,\n",
      "                                                                0.7692308 , 0.84615386, 0.923077  , 1.        ], dtype=float32),\n",
      "                                                          array([101999213,   2100204,   2209014,    644976,    969060,   1459696,\n",
      "                                                                  1561686,   2477969,   1299508,    903608,    864429,   4571354,\n",
      "                                                                  3150503,  38957970], dtype=int64))\n",
      "    np.unique(deforestation_time_old, return_counts = True): (array([0.        , 0.07692308, 0.15384616, 0.23076925, 0.30769232,\n",
      "                                                                    0.3846154 , 0.4615385 , 0.53846157, 0.61538464, 0.6923077 ,\n",
      "                                                                    0.7692308 , 0.84615386, 0.923077  , 1.        ], dtype=float32),\n",
      "                                                              array([101999213,   2100204,   2209014,    644976,    969060,   1459696,\n",
      "                                                                      1561686,   2477969,   1299508,    903608,    864429,   4571354,\n",
      "                                                                      3150503,  38957970], dtype=int64))\n"
     ]
    },
    {
     "data": {
      "text/plain": [
       "((array([0.        , 0.07692308, 0.15384616, 0.23076925, 0.30769232,\n",
       "         0.3846154 , 0.4615385 , 0.53846157, 0.61538464, 0.6923077 ,\n",
       "         0.7692308 , 0.84615386, 0.923077  , 1.        ], dtype=float32),\n",
       "  array([101999213,   2100204,   2209014,    644976,    969060,   1459696,\n",
       "           1561686,   2477969,   1299508,    903608,    864429,   4571354,\n",
       "           3150503,  38957970], dtype=int64)),\n",
       " (array([0.        , 0.07692308, 0.15384616, 0.23076925, 0.30769232,\n",
       "         0.3846154 , 0.4615385 , 0.53846157, 0.61538464, 0.6923077 ,\n",
       "         0.7692308 , 0.84615386, 0.923077  , 1.        ], dtype=float32),\n",
       "  array([101999213,   2100204,   2209014,    644976,    969060,   1459696,\n",
       "           1561686,   2477969,   1299508,    903608,    864429,   4571354,\n",
       "           3150503,  38957970], dtype=int64)))"
      ]
     },
     "execution_count": 9,
     "metadata": {},
     "output_type": "execute_result"
    }
   ],
   "source": [
    "ic(np.unique(deforestation_time, return_counts = True),\n",
    "np.unique(deforestation_time_old, return_counts = True))\n"
   ]
  },
  {
   "cell_type": "code",
   "execution_count": 10,
   "metadata": {},
   "outputs": [
    {
     "data": {
      "text/plain": [
       "(-0.5, 9202.5, 17729.5, -0.5)"
      ]
     },
     "execution_count": 10,
     "metadata": {},
     "output_type": "execute_result"
    },
    {
     "data": {
      "image/png": "[encoded data removed]",
      "text/plain": [
       "<Figure size 1080x1080 with 1 Axes>"
      ]
     },
     "metadata": {},
     "output_type": "display_data"
    }
   ],
   "source": [
    "fig, ax = plt.subplots(figsize=(15,15))\n",
    "ax.set_xticks([])\n",
    "ax.set_yticks([])\n",
    "ax.imshow(np.abs(deforestation_time_old - deforestation_time), cmap=plt.cm.gray)\n",
    "plt.axis('off')\n"
   ]
  }
 ],
 "metadata": {
  "kernelspec": {
   "display_name": "Python 3.9.12 ('tf2')",
   "language": "python",
   "name": "python3"
  },
  "language_info": {
   "codemirror_mode": {
    "name": "ipython",
    "version": 3
   },
   "file_extension": ".py",
   "mimetype": "text/x-python",
   "name": "python",
   "nbconvert_exporter": "python",
   "pygments_lexer": "ipython3",
   "version": "3.9.12"
  },
  "orig_nbformat": 4,
  "vscode": {
   "interpreter": {
    "hash": "0593c6bd4eb743cc503a3c17025f83c5676f297db573750215a1bc8c88a990c4"
   }
  }
 },
 "nbformat": 4,
 "nbformat_minor": 2
}
