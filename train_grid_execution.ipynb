{
 "cells": [
  {
   "cell_type": "code",
   "execution_count": 1,
   "id": "dbd5b7cf",
   "metadata": {},
   "outputs": [],
   "source": [
    "import tracemalloc\n",
    "\n",
    "from utils_v1 import *\n"
   ]
  },
  {
   "cell_type": "code",
   "execution_count": 2,
   "id": "123e793c",
   "metadata": {},
   "outputs": [],
   "source": [
    "from icecream import ic\n",
    "\n",
    "import numpy as np\n",
    "from src.dataset import (\n",
    "    MultipleDates,\n",
    "    PA, PADeforestationTime, PADistanceMap, PAMultipleDates,\n",
    "    MTDeforestationTime,\n",
    "    MTMultipleDates\n",
    ")\n",
    "\n",
    "# from src.dataset_legacy import MTDeforestationTime\n",
    "from src import training_generator as generator\n",
    "from src.patchesHandler import PatchesHandler, PatchesHandlerMultipleDates, PatchesHandlerEvidential\n",
    "\n",
    "from src.trainer.evidential import TrainerEvidential\n",
    "\n",
    "from mpl_toolkits.axes_grid1 import make_axes_locatable\n",
    "\n",
    "import cv2\n",
    "from src import metrics as _metric\n",
    "import json\n",
    "import pickle \n",
    "import src.trainer.evidential as evidential\n"
   ]
  },
  {
   "cell_type": "code",
   "execution_count": 3,
   "id": "603a5df7",
   "metadata": {},
   "outputs": [
    {
     "name": "stderr",
     "output_type": "stream",
     "text": [
      "ic| list(self.date_ids): [0]\n",
      "ic| self.image_channels: [[0, 1, 2, 3, 4, 5, 6, 7, 8, 9, 10, 11, 12, 13, 14, 15, 16, 17, 18, 19, 20]]\n",
      "ic| dates: [2018, 2019]\n",
      "ic| self.input_image_shape: 21\n",
      "ic| self.dataset.image_channels: [[0, 1, 2, 3, 4, 5, 6, 7, 8, 9, 10, 11, 12, 13, 14, 15, 16, 17, 18, 19, 20]]\n"
     ]
    }
   ],
   "source": [
    "'''\n",
    "if config[\"training\"] == True:\n",
    "\tdates = [2017, 2018]\n",
    "else:\n",
    "\tdates = [2018, 2019]\n",
    "if config[\"training\"] == True:\n",
    "\tdates = [2018, 2019]\n",
    "else:\n",
    "\tdates = [2019, 2020]\n",
    "'''\n",
    "\n",
    "\t\n",
    "dates = [2018, 2019]\n",
    "\n",
    "dataset = PAMultipleDates(dates = dates, # dates = [2016,2017,2018,2019]\n",
    "\taddPastDeforestationInput = True,\n",
    "\tborderBuffer = 2)\t\n",
    "\n",
    "\n",
    "ic(dates)\n",
    "\n",
    "if issubclass(type(dataset), MultipleDates):\n",
    "\tpatchesHandler = PatchesHandlerEvidential(\n",
    "\t\tdataset)\n",
    "else:\n",
    "\tpatchesHandler = PatchesHandler()\n",
    "\n"
   ]
  },
  {
   "cell_type": "code",
   "execution_count": 4,
   "id": "1bb339c8",
   "metadata": {},
   "outputs": [],
   "source": [
    "repetition_n = 6\n",
    "experiment_values = np.ones(repetition_n).astype(np.uint8)\n",
    "\n",
    "\n",
    "# experiment_values = [int(x) for x in experiment_values]\n",
    "results = []\n",
    "\n",
    "#exp_id_base = 148\n",
    "# exp_id_base = 155\n",
    "exp_id_base = 194\n",
    "exp_id_base = 198\n",
    "\n",
    "\n",
    "exp_ids = range(exp_id_base, exp_id_base+len(experiment_values))\n"
   ]
  },
  {
   "cell_type": "code",
   "execution_count": 5,
   "id": "c7ae3a0c",
   "metadata": {},
   "outputs": [
    {
     "data": {
      "text/plain": [
       "range(198, 204)"
      ]
     },
     "execution_count": 5,
     "metadata": {},
     "output_type": "execute_result"
    }
   ],
   "source": [
    "exp_ids"
   ]
  },
  {
   "cell_type": "code",
   "execution_count": 6,
   "id": "cfa1145d",
   "metadata": {},
   "outputs": [],
   "source": [
    "from enum import Enum\n",
    "UncertaintyMethod = Enum('Predictor', 'pred_var MI pred_entropy KL pred_entropy_single evidential')\n",
    "uncertaintyMethod = \"evidential\"\n"
   ]
  },
  {
   "cell_type": "code",
   "execution_count": 7,
   "id": "55da0bd1",
   "metadata": {},
   "outputs": [
    {
     "name": "stdout",
     "output_type": "stream",
     "text": [
      "Beginning run number 0\n",
      "D:/Jorge/datasets/deforestation/Para/deforestation_past_years.tif\n",
      "Loaded deforestation past years\n"
     ]
    },
    {
     "name": "stderr",
     "output_type": "stream",
     "text": [
      "ic| np.unique(deforestation_past_years, return_counts=True): (array([   0, 2008, 2009, 2010, 2011, 2012, 2013, 2014, 2015, 2016, 2017,\n",
      "                                                                    2018, 2019, 2020, 2021], dtype=uint16),\n",
      "                                                              array([132185553,   3150503,   4571354,    864429,    903608,   1299506,\n",
      "                                                                      2477971,   1561686,   1459696,    969060,    644976,   2209014,\n",
      "                                                                      2100204,   5257014,   3514616], dtype=int64))\n"
     ]
    },
    {
     "name": "stdout",
     "output_type": "stream",
     "text": [
      "Label where deforestation past years is actual date (2019) = 1\n"
     ]
    },
    {
     "name": "stderr",
     "output_type": "stream",
     "text": [
      "ic| np.unique(deforestation_past_years, return_counts=True): (array([   0, 2008, 2009, 2010, 2011, 2012, 2013, 2014, 2015, 2016, 2017,\n",
      "                                                                    2018, 2019, 2020, 2021], dtype=uint16),\n",
      "                                                              array([132185553,   3150503,   4571354,    864429,    903608,   1299506,\n",
      "                                                                      2477971,   1561686,   1459696,    969060,    644976,   2209014,\n",
      "                                                                      2100204,   5257014,   3514616], dtype=int64))\n"
     ]
    },
    {
     "name": "stdout",
     "output_type": "stream",
     "text": [
      "Past deforestation different from 0 (no deforestation)\n"
     ]
    },
    {
     "name": "stderr",
     "output_type": "stream",
     "text": [
      "ic| np.unique(deforestation_past_years, return_counts=True): (array([   0, 2008, 2009, 2010, 2011, 2012, 2013, 2014, 2015, 2016, 2017,\n",
      "                                                                    2018, 2019, 2020, 2021], dtype=uint16),\n",
      "                                                              array([132185553,   3150503,   4571354,    864429,    903608,   1299506,\n",
      "                                                                      2477971,   1561686,   1459696,    969060,    644976,   2209014,\n",
      "                                                                      2100204,   5257014,   3514616], dtype=int64))\n"
     ]
    },
    {
     "name": "stdout",
     "output_type": "stream",
     "text": [
      "Past deforestation before 2008 is 2\n",
      "D:/Jorge/datasets/deforestation/deforestation_before_2008/deforestation_before_2008_para.tif\n"
     ]
    },
    {
     "name": "stderr",
     "output_type": "stream",
     "text": [
      "ic| np.unique(label_past_deforestation_before_2008, return_counts=True): (array([  0, 215], dtype=uint8), array([124211220,  38957970], dtype=int64))\n",
      "ic| np.unique(deforestation_past_years, return_counts=True): (array([   0, 2008, 2009, 2010, 2011, 2012, 2013, 2014, 2015, 2016, 2017,\n",
      "                                                                    2018, 2019, 2020, 2021], dtype=uint16),\n",
      "                                                              array([132185553,   3150503,   4571354,    864429,    903608,   1299506,\n",
      "                                                                      2477971,   1561686,   1459696,    969060,    644976,   2209014,\n",
      "                                                                      2100204,   5257014,   3514616], dtype=int64))\n",
      "ic| label_per_date.shape: (17730, 9203, 1)\n"
     ]
    },
    {
     "name": "stdout",
     "output_type": "stream",
     "text": [
      "Mask label shape:  \n",
      " (17730, 9203, 1) \n",
      " Unique values:  \n",
      " [0 1 2]\n",
      "Tiles size:  3546 2300\n",
      "Mask size:  (17730, 9200)\n"
     ]
    },
    {
     "name": "stderr",
     "output_type": "stream",
     "text": [
      "ic| image_stack.shape: (17730, 9203, 21)\n"
     ]
    },
    {
     "name": "stdout",
     "output_type": "stream",
     "text": [
      "Image shape:  (17730, 9203, 21)\n",
      "mask:  (17730, 9200)\n",
      "image stack:  (17730, 9200, 21)\n",
      "ref : (17730, 9200, 1)\n",
      "Training tiles:  [1, 3, 5, 8, 11, 13, 14, 20]\n",
      "Validation tiles:  [6, 19]\n",
      "Test tiles:  [2, 4, 7, 9, 10, 12, 15, 16, 17, 18]\n"
     ]
    },
    {
     "name": "stderr",
     "output_type": "stream",
     "text": [
      "ic| im_idx_row.shape: (17730, 9200, 1)\n",
      "    im_idx_col.shape: (17730, 9200, 1)\n",
      "ic| im_idx_row.dtype: dtype('uint16')\n",
      "    im_idx_col.dtype: dtype('uint16')\n",
      "ic| im_idx.shape: (17730, 9200, 2), im_idx.dtype: dtype('uint16')\n",
      "ic| coords.shape: (464, 239, 1, 128, 128, 2)\n",
      "    coords.dtype: dtype('uint16')\n",
      "ic| coords.shape: (110896, 2), coords.dtype: dtype('uint16')\n",
      "ic| self.coords_train.shape: (41812, 3)\n",
      "    self.coords_val.shape: (10260, 3)\n"
     ]
    },
    {
     "name": "stdout",
     "output_type": "stream",
     "text": [
      "training samples:  (3753, 3) validation samples:  (1032, 3)\n",
      "time:  0\n",
      "Model: \"model\"\n",
      "__________________________________________________________________________________________________\n",
      "Layer (type)                    Output Shape         Param #     Connected to                     \n",
      "==================================================================================================\n",
      "input_enc_net (InputLayer)      [(None, 128, 128, 21 0                                            \n",
      "__________________________________________________________________________________________________\n",
      "res1_net1 (Conv2D)              (None, 128, 128, 16) 3040        input_enc_net[0][0]              \n",
      "__________________________________________________________________________________________________\n",
      "drop_net1 (Dropout)             (None, 128, 128, 16) 0           res1_net1[0][0]                  \n",
      "__________________________________________________________________________________________________\n",
      "res2_net1 (Conv2D)              (None, 128, 128, 16) 2320        drop_net1[0][0]                  \n",
      "__________________________________________________________________________________________________\n",
      "res3_net1 (Conv2D)              (None, 128, 128, 16) 352         input_enc_net[0][0]              \n",
      "__________________________________________________________________________________________________\n",
      "add (Add)                       (None, 128, 128, 16) 0           res2_net1[0][0]                  \n",
      "                                                                 res3_net1[0][0]                  \n",
      "__________________________________________________________________________________________________\n",
      "pool_net1 (MaxPooling2D)        (None, 64, 64, 16)   0           add[0][0]                        \n",
      "__________________________________________________________________________________________________\n",
      "res1_net2 (Conv2D)              (None, 64, 64, 32)   4640        pool_net1[0][0]                  \n",
      "__________________________________________________________________________________________________\n",
      "drop_net2 (Dropout)             (None, 64, 64, 32)   0           res1_net2[0][0]                  \n",
      "__________________________________________________________________________________________________\n",
      "res2_net2 (Conv2D)              (None, 64, 64, 32)   9248        drop_net2[0][0]                  \n",
      "__________________________________________________________________________________________________\n",
      "res3_net2 (Conv2D)              (None, 64, 64, 32)   544         pool_net1[0][0]                  \n",
      "__________________________________________________________________________________________________\n",
      "add_1 (Add)                     (None, 64, 64, 32)   0           res2_net2[0][0]                  \n",
      "                                                                 res3_net2[0][0]                  \n",
      "__________________________________________________________________________________________________\n",
      "pool_net2 (MaxPooling2D)        (None, 32, 32, 32)   0           add_1[0][0]                      \n",
      "__________________________________________________________________________________________________\n",
      "res1_net3 (Conv2D)              (None, 32, 32, 64)   18496       pool_net2[0][0]                  \n",
      "__________________________________________________________________________________________________\n",
      "drop_net3 (Dropout)             (None, 32, 32, 64)   0           res1_net3[0][0]                  \n",
      "__________________________________________________________________________________________________\n",
      "res2_net3 (Conv2D)              (None, 32, 32, 64)   36928       drop_net3[0][0]                  \n",
      "__________________________________________________________________________________________________\n",
      "res3_net3 (Conv2D)              (None, 32, 32, 64)   2112        pool_net2[0][0]                  \n",
      "__________________________________________________________________________________________________\n",
      "add_2 (Add)                     (None, 32, 32, 64)   0           res2_net3[0][0]                  \n",
      "                                                                 res3_net3[0][0]                  \n",
      "__________________________________________________________________________________________________\n",
      "pool_net3 (MaxPooling2D)        (None, 16, 16, 64)   0           add_2[0][0]                      \n",
      "__________________________________________________________________________________________________\n",
      "res1_net4 (Conv2D)              (None, 16, 16, 64)   36928       pool_net3[0][0]                  \n",
      "__________________________________________________________________________________________________\n",
      "drop_net4 (Dropout)             (None, 16, 16, 64)   0           res1_net4[0][0]                  \n",
      "__________________________________________________________________________________________________\n",
      "res2_net4 (Conv2D)              (None, 16, 16, 64)   36928       drop_net4[0][0]                  \n",
      "__________________________________________________________________________________________________\n",
      "res3_net4 (Conv2D)              (None, 16, 16, 64)   4160        pool_net3[0][0]                  \n",
      "__________________________________________________________________________________________________\n",
      "add_3 (Add)                     (None, 16, 16, 64)   0           res2_net4[0][0]                  \n",
      "                                                                 res3_net4[0][0]                  \n",
      "__________________________________________________________________________________________________\n",
      "res1_net5 (Conv2D)              (None, 16, 16, 64)   36928       add_3[0][0]                      \n",
      "__________________________________________________________________________________________________\n",
      "drop_net5 (Dropout)             (None, 16, 16, 64)   0           res1_net5[0][0]                  \n",
      "__________________________________________________________________________________________________\n",
      "res2_net5 (Conv2D)              (None, 16, 16, 64)   36928       drop_net5[0][0]                  \n",
      "__________________________________________________________________________________________________\n",
      "res3_net5 (Conv2D)              (None, 16, 16, 64)   4160        add_3[0][0]                      \n",
      "__________________________________________________________________________________________________\n",
      "add_4 (Add)                     (None, 16, 16, 64)   0           res2_net5[0][0]                  \n",
      "                                                                 res3_net5[0][0]                  \n",
      "__________________________________________________________________________________________________\n",
      "res1_net6 (Conv2D)              (None, 16, 16, 64)   36928       add_4[0][0]                      \n",
      "__________________________________________________________________________________________________\n",
      "drop_net6 (Dropout)             (None, 16, 16, 64)   0           res1_net6[0][0]                  \n",
      "__________________________________________________________________________________________________\n",
      "res2_net6 (Conv2D)              (None, 16, 16, 64)   36928       drop_net6[0][0]                  \n",
      "__________________________________________________________________________________________________\n",
      "res3_net6 (Conv2D)              (None, 16, 16, 64)   4160        add_4[0][0]                      \n",
      "__________________________________________________________________________________________________\n",
      "add_5 (Add)                     (None, 16, 16, 64)   0           res2_net6[0][0]                  \n",
      "                                                                 res3_net6[0][0]                  \n",
      "__________________________________________________________________________________________________\n",
      "up_sampling2d (UpSampling2D)    (None, 32, 32, 64)   0           add_5[0][0]                      \n",
      "__________________________________________________________________________________________________\n",
      "upsampling_net3 (Conv2D)        (None, 32, 32, 64)   36928       up_sampling2d[0][0]              \n",
      "__________________________________________________________________________________________________\n",
      "concatenate3 (Concatenate)      (None, 32, 32, 128)  0           add_2[0][0]                      \n",
      "                                                                 upsampling_net3[0][0]            \n",
      "__________________________________________________________________________________________________\n",
      "up_sampling2d_1 (UpSampling2D)  (None, 64, 64, 128)  0           concatenate3[0][0]               \n",
      "__________________________________________________________________________________________________\n",
      "upsampling_net2 (Conv2D)        (None, 64, 64, 32)   36896       up_sampling2d_1[0][0]            \n",
      "__________________________________________________________________________________________________\n",
      "concatenate2 (Concatenate)      (None, 64, 64, 64)   0           add_1[0][0]                      \n",
      "                                                                 upsampling_net2[0][0]            \n",
      "__________________________________________________________________________________________________\n",
      "up_sampling2d_2 (UpSampling2D)  (None, 128, 128, 64) 0           concatenate2[0][0]               \n",
      "__________________________________________________________________________________________________\n",
      "upsampling_net1 (Conv2D)        (None, 128, 128, 16) 9232        up_sampling2d_2[0][0]            \n",
      "__________________________________________________________________________________________________\n",
      "concatenate1 (Concatenate)      (None, 128, 128, 32) 0           add[0][0]                        \n",
      "                                                                 upsampling_net1[0][0]            \n",
      "__________________________________________________________________________________________________\n",
      "output (Conv2D)                 (None, 128, 128, 3)  99          concatenate1[0][0]               \n",
      "==================================================================================================\n",
      "Total params: 394,883\n",
      "Trainable params: 394,883\n",
      "Non-trainable params: 0\n",
      "__________________________________________________________________________________________________\n"
     ]
    },
    {
     "name": "stderr",
     "output_type": "stream",
     "text": [
      "c:\\Users\\jchamorro\\Anaconda3\\envs\\tf2\\lib\\site-packages\\tensorflow\\python\\keras\\optimizer_v2\\optimizer_v2.py:374: UserWarning: The `lr` argument is deprecated, use `learning_rate` instead.\n",
      "  warnings.warn(\n",
      "c:\\Users\\jchamorro\\Anaconda3\\envs\\tf2\\lib\\site-packages\\tensorflow\\python\\keras\\engine\\training.py:1969: UserWarning: `Model.fit_generator` is deprecated and will be removed in a future version. Please use `Model.fit`, which supports generators.\n",
      "  warnings.warn('`Model.fit_generator` is deprecated and '\n"
     ]
    },
    {
     "name": "stdout",
     "output_type": "stream",
     "text": [
      "Epoch 1/100\n",
      "self.global_step 0.0\n",
      "alpha Tensor(\"loss/add:0\", shape=(None, 128, 128, 3), dtype=float32)\n",
      "u Tensor(\"loss/truediv:0\", shape=(None, 128, 128, 1), dtype=float32)\n",
      "A Tensor(\"loss/Sum_3:0\", shape=(None, 3), dtype=float32)\n",
      "B Tensor(\"loss/Sum_4:0\", shape=(None, 1, 1, 3), dtype=float32)\n",
      "term1 Tensor(\"loss/truediv_7:0\", shape=(None, 1, 1, 3), dtype=float32)\n",
      "term2 Tensor(\"loss/mul_5:0\", shape=(None, 1, 1, 3), dtype=float32)\n",
      "Tensor(\"loss/Repeat_1/Reshape_1:0\", shape=(None, None, None, 1), dtype=float32)\n",
      "alpha Tensor(\"add:0\", shape=(None, 128, 128, 3), dtype=float32)\n",
      "u Tensor(\"truediv:0\", shape=(None, 128, 128, 1), dtype=float32)\n",
      "K.int_shape(KL_reg) Tensor(\"mul_6:0\", shape=(None, 128, 128, 1), dtype=float32)\n",
      "alpha Tensor(\"add_7:0\", shape=(None, 128, 128, 3), dtype=float32)\n",
      "u Tensor(\"truediv_5:0\", shape=(None, 128, 128, 1), dtype=float32)\n",
      "K.int_shape(KL_reg) Tensor(\"mul_12:0\", shape=(None, 128, 128, 1), dtype=float32)\n",
      "alpha Tensor(\"add_16:0\", shape=(None, 128, 128, 3), dtype=float32)\n",
      "u Tensor(\"truediv_13:0\", shape=(None, 128, 128, 1), dtype=float32)\n",
      "K.int_shape(Y) Tensor(\"IteratorGetNext:1\", shape=(None, None, None, None), dtype=float32)\n",
      "K.int_shape(prob) Tensor(\"truediv_15:0\", shape=(None, 128, 128, 3), dtype=float32)\n",
      "alpha Tensor(\"loss/add:0\", shape=(None, 128, 128, 3), dtype=float32)\n",
      "u Tensor(\"loss/truediv:0\", shape=(None, 128, 128, 1), dtype=float32)\n",
      "A Tensor(\"loss/Sum_3:0\", shape=(None, 3), dtype=float32)\n",
      "B Tensor(\"loss/Sum_4:0\", shape=(None, 1, 1, 3), dtype=float32)\n",
      "term1 Tensor(\"loss/truediv_7:0\", shape=(None, 1, 1, 3), dtype=float32)\n",
      "term2 Tensor(\"loss/mul_5:0\", shape=(None, 1, 1, 3), dtype=float32)\n",
      "Tensor(\"loss/Repeat_1/Reshape_1:0\", shape=(None, None, None, 1), dtype=float32)\n",
      "alpha Tensor(\"add:0\", shape=(None, 128, 128, 3), dtype=float32)\n",
      "u Tensor(\"truediv:0\", shape=(None, 128, 128, 1), dtype=float32)\n",
      "K.int_shape(KL_reg) Tensor(\"mul_6:0\", shape=(None, 128, 128, 1), dtype=float32)\n",
      "alpha Tensor(\"add_7:0\", shape=(None, 128, 128, 3), dtype=float32)\n",
      "u Tensor(\"truediv_5:0\", shape=(None, 128, 128, 1), dtype=float32)\n",
      "K.int_shape(KL_reg) Tensor(\"mul_12:0\", shape=(None, 128, 128, 1), dtype=float32)\n",
      "alpha Tensor(\"add_16:0\", shape=(None, 128, 128, 3), dtype=float32)\n",
      "u Tensor(\"truediv_13:0\", shape=(None, 128, 128, 1), dtype=float32)\n",
      "K.int_shape(Y) Tensor(\"IteratorGetNext:1\", shape=(None, None, None, None), dtype=float32)\n",
      "K.int_shape(prob) Tensor(\"truediv_15:0\", shape=(None, 128, 128, 3), dtype=float32)\n",
      "351/351 [==============================] - ETA: 0s - loss: 0.8687 - accuracy: 0.4989 - KL_term: 0.0163 - loglikelihood_term: 0.6695 - evidential_success: 6.1352 - evidential_fail: 3.0012 - acc: 0.4993 - annealing_coef: 0.0467 - global_step_get: 175.0000 - annealing_step_get: 3750.0000 - UEO_term: 0.7395alpha Tensor(\"loss/add:0\", shape=(None, 128, 128, 3), dtype=float32)\n",
      "u Tensor(\"loss/truediv:0\", shape=(None, 128, 128, 1), dtype=float32)\n",
      "A Tensor(\"loss/Sum_3:0\", shape=(None, 3), dtype=float32)\n",
      "B Tensor(\"loss/Sum_4:0\", shape=(None, 1, 1, 3), dtype=float32)\n",
      "term1 Tensor(\"loss/truediv_7:0\", shape=(None, 1, 1, 3), dtype=float32)\n",
      "term2 Tensor(\"loss/mul_5:0\", shape=(None, 1, 1, 3), dtype=float32)\n",
      "Tensor(\"loss/Repeat_1/Reshape_1:0\", shape=(None, None, None, 1), dtype=float32)\n",
      "alpha Tensor(\"add:0\", shape=(None, 128, 128, 3), dtype=float32)\n",
      "u Tensor(\"truediv:0\", shape=(None, 128, 128, 1), dtype=float32)\n",
      "K.int_shape(KL_reg) Tensor(\"mul_6:0\", shape=(None, 128, 128, 1), dtype=float32)\n",
      "alpha Tensor(\"add_7:0\", shape=(None, 128, 128, 3), dtype=float32)\n",
      "u Tensor(\"truediv_5:0\", shape=(None, 128, 128, 1), dtype=float32)\n",
      "K.int_shape(KL_reg) Tensor(\"mul_12:0\", shape=(None, 128, 128, 1), dtype=float32)\n",
      "alpha Tensor(\"add_16:0\", shape=(None, 128, 128, 3), dtype=float32)\n",
      "u Tensor(\"truediv_13:0\", shape=(None, 128, 128, 1), dtype=float32)\n",
      "K.int_shape(Y) Tensor(\"IteratorGetNext:1\", shape=(None, None, None, None), dtype=float32)\n",
      "K.int_shape(prob) Tensor(\"truediv_15:0\", shape=(None, 128, 128, 3), dtype=float32)\n",
      "351/351 [==============================] - 45s 99ms/step - loss: 0.8687 - accuracy: 0.4989 - KL_term: 0.0163 - loglikelihood_term: 0.6695 - evidential_success: 6.1352 - evidential_fail: 3.0012 - acc: 0.4993 - annealing_coef: 0.0467 - global_step_get: 175.0000 - annealing_step_get: 3750.0000 - UEO_term: 0.7395 - val_loss: 0.8365 - val_accuracy: 0.6914 - val_KL_term: 0.0147 - val_loglikelihood_term: 0.4308 - val_evidential_success: 9.1635 - val_evidential_fail: 2.2550 - val_acc: 0.6941 - val_annealing_coef: 0.0933 - val_global_step_get: 350.0000 - val_annealing_step_get: 3750.0000 - val_UEO_term: 0.8128\n",
      "\n",
      "Epoch 00001: val_loss improved from inf to 0.83647, saving model to D:/Jorge/datasets/deforestation/experiments/exp198/models\\resunet_0.h5\n",
      "Epoch 2/100\n",
      "self.global_step 350.0\n",
      "  1/351 [..............................] - ETA: 32s - loss: 0.8726 - accuracy: 0.4474 - KL_term: 0.0000e+00 - loglikelihood_term: 0.6026 - evidential_success: 10.4638 - evidential_fail: 1.0580 - acc: 0.4474 - annealing_coef: 0.0000e+00 - global_step_get: 0.0000e+00 - annealing_step_get: 3750.0000 - UEO_term: 1.0556"
     ]
    },
    {
     "name": "stderr",
     "output_type": "stream",
     "text": [
      "c:\\Users\\jchamorro\\Anaconda3\\envs\\tf2\\lib\\site-packages\\tensorflow\\python\\keras\\utils\\generic_utils.py:494: CustomMaskWarning: Custom mask layers require a config and must override get_config. When loading, the custom mask layer must be passed to the custom_objects argument.\n",
      "  warnings.warn('Custom mask layers require a config and must override '\n"
     ]
    },
    {
     "name": "stdout",
     "output_type": "stream",
     "text": [
      "351/351 [==============================] - 33s 95ms/step - loss: 0.8295 - accuracy: 0.6700 - KL_term: 0.0192 - loglikelihood_term: 0.4662 - evidential_success: 19.2604 - evidential_fail: 5.3397 - acc: 0.6702 - annealing_coef: 0.0933 - global_step_get: 350.0000 - annealing_step_get: 3750.0000 - UEO_term: 0.6443 - val_loss: 0.8185 - val_accuracy: 0.8665 - val_KL_term: 0.0295 - val_loglikelihood_term: 0.2375 - val_evidential_success: 15.1098 - val_evidential_fail: 4.6324 - val_acc: 0.8679 - val_annealing_coef: 0.1867 - val_global_step_get: 700.0000 - val_annealing_step_get: 3750.0000 - val_UEO_term: 0.3631\n",
      "\n",
      "Epoch 00002: val_loss improved from 0.83647 to 0.81848, saving model to D:/Jorge/datasets/deforestation/experiments/exp198/models\\resunet_0.h5\n",
      "Epoch 3/100\n",
      "self.global_step 700.0\n",
      "351/351 [==============================] - 33s 93ms/step - loss: 0.7971 - accuracy: 0.8937 - KL_term: 0.0174 - loglikelihood_term: 0.1832 - evidential_success: 32.2909 - evidential_fail: 7.1599 - acc: 0.8938 - annealing_coef: 0.1400 - global_step_get: 525.0000 - annealing_step_get: 3750.0000 - UEO_term: 0.4131 - val_loss: 0.8069 - val_accuracy: 0.8967 - val_KL_term: 0.0352 - val_loglikelihood_term: 0.1839 - val_evidential_success: 24.8870 - val_evidential_fail: 4.8191 - val_acc: 0.8979 - val_annealing_coef: 0.2800 - val_global_step_get: 1050.0000 - val_annealing_step_get: 3750.0000 - val_UEO_term: 0.3703\n",
      "\n",
      "Epoch 00003: val_loss improved from 0.81848 to 0.80693, saving model to D:/Jorge/datasets/deforestation/experiments/exp198/models\\resunet_0.h5\n",
      "Epoch 4/100\n",
      "self.global_step 1050.0\n",
      "351/351 [==============================] - 33s 94ms/step - loss: 0.7944 - accuracy: 0.9052 - KL_term: 0.0186 - loglikelihood_term: 0.1664 - evidential_success: 40.3184 - evidential_fail: 6.3605 - acc: 0.9054 - annealing_coef: 0.1867 - global_step_get: 700.0000 - annealing_step_get: 3750.0000 - UEO_term: 0.4275 - val_loss: 0.8029 - val_accuracy: 0.9097 - val_KL_term: 0.0304 - val_loglikelihood_term: 0.1719 - val_evidential_success: 29.2187 - val_evidential_fail: 3.5731 - val_acc: 0.9107 - val_annealing_coef: 0.3733 - val_global_step_get: 1400.0000 - val_annealing_step_get: 3750.0000 - val_UEO_term: 0.4006\n",
      "\n",
      "Epoch 00004: val_loss improved from 0.80693 to 0.80291, saving model to D:/Jorge/datasets/deforestation/experiments/exp198/models\\resunet_0.h5\n",
      "Epoch 5/100\n",
      "self.global_step 1400.0\n",
      "351/351 [==============================] - 33s 94ms/step - loss: 0.7928 - accuracy: 0.9110 - KL_term: 0.0199 - loglikelihood_term: 0.1596 - evidential_success: 44.7964 - evidential_fail: 6.0212 - acc: 0.9110 - annealing_coef: 0.2333 - global_step_get: 875.0000 - annealing_step_get: 3750.0000 - UEO_term: 0.4309 - val_loss: 0.8140 - val_accuracy: 0.9082 - val_KL_term: 0.0443 - val_loglikelihood_term: 0.1675 - val_evidential_success: 36.9617 - val_evidential_fail: 4.1214 - val_acc: 0.9093 - val_annealing_coef: 0.4667 - val_global_step_get: 1750.0000 - val_annealing_step_get: 3750.0000 - val_UEO_term: 0.4015\n",
      "\n",
      "Epoch 00005: val_loss did not improve from 0.80291\n",
      "Epoch 6/100\n",
      "self.global_step 1750.0\n",
      "351/351 [==============================] - 33s 93ms/step - loss: 0.7925 - accuracy: 0.9147 - KL_term: 0.0207 - loglikelihood_term: 0.1561 - evidential_success: 47.4962 - evidential_fail: 5.4164 - acc: 0.9147 - annealing_coef: 0.2800 - global_step_get: 1050.0000 - annealing_step_get: 3750.0000 - UEO_term: 0.4396 - val_loss: 0.8129 - val_accuracy: 0.9136 - val_KL_term: 0.0439 - val_loglikelihood_term: 0.1627 - val_evidential_success: 40.7052 - val_evidential_fail: 3.5721 - val_acc: 0.9146 - val_annealing_coef: 0.5600 - val_global_step_get: 2100.0000 - val_annealing_step_get: 3750.0000 - val_UEO_term: 0.4102\n",
      "\n",
      "Epoch 00006: val_loss did not improve from 0.80291\n",
      "Epoch 7/100\n",
      "self.global_step 2100.0\n",
      "351/351 [==============================] - 33s 93ms/step - loss: 0.7927 - accuracy: 0.9175 - KL_term: 0.0212 - loglikelihood_term: 0.1537 - evidential_success: 49.0078 - evidential_fail: 5.0909 - acc: 0.9174 - annealing_coef: 0.3267 - global_step_get: 1225.0000 - annealing_step_get: 3750.0000 - UEO_term: 0.4421 - val_loss: 0.8131 - val_accuracy: 0.9164 - val_KL_term: 0.0413 - val_loglikelihood_term: 0.1683 - val_evidential_success: 40.7096 - val_evidential_fail: 2.8860 - val_acc: 0.9173 - val_annealing_coef: 0.6533 - val_global_step_get: 2450.0000 - val_annealing_step_get: 3750.0000 - val_UEO_term: 0.4156\n",
      "\n",
      "Epoch 00007: val_loss did not improve from 0.80291\n",
      "Epoch 8/100\n",
      "self.global_step 2450.0\n",
      "351/351 [==============================] - 33s 93ms/step - loss: 0.7927 - accuracy: 0.9202 - KL_term: 0.0219 - loglikelihood_term: 0.1513 - evidential_success: 52.4289 - evidential_fail: 4.8884 - acc: 0.9202 - annealing_coef: 0.3733 - global_step_get: 1400.0000 - annealing_step_get: 3750.0000 - UEO_term: 0.4425 - val_loss: 0.8210 - val_accuracy: 0.9171 - val_KL_term: 0.0477 - val_loglikelihood_term: 0.1692 - val_evidential_success: 37.5784 - val_evidential_fail: 2.9406 - val_acc: 0.9180 - val_annealing_coef: 0.7467 - val_global_step_get: 2800.0000 - val_annealing_step_get: 3750.0000 - val_UEO_term: 0.4133\n",
      "\n",
      "Epoch 00008: val_loss did not improve from 0.80291\n",
      "Epoch 9/100\n",
      "self.global_step 2800.0\n",
      "351/351 [==============================] - 33s 94ms/step - loss: 0.7931 - accuracy: 0.9222 - KL_term: 0.0222 - loglikelihood_term: 0.1502 - evidential_success: 52.8195 - evidential_fail: 4.5545 - acc: 0.9222 - annealing_coef: 0.4200 - global_step_get: 1575.0000 - annealing_step_get: 3750.0000 - UEO_term: 0.4452 - val_loss: 0.8295 - val_accuracy: 0.9156 - val_KL_term: 0.0593 - val_loglikelihood_term: 0.1696 - val_evidential_success: 42.7148 - val_evidential_fail: 3.1392 - val_acc: 0.9165 - val_annealing_coef: 0.8400 - val_global_step_get: 3150.0000 - val_annealing_step_get: 3750.0000 - val_UEO_term: 0.4029\n",
      "\n",
      "Epoch 00009: val_loss did not improve from 0.80291\n",
      "Epoch 10/100\n",
      "self.global_step 3150.0\n",
      "351/351 [==============================] - 33s 95ms/step - loss: 0.7923 - accuracy: 0.9247 - KL_term: 0.0225 - loglikelihood_term: 0.1477 - evidential_success: 54.3546 - evidential_fail: 4.2282 - acc: 0.9247 - annealing_coef: 0.4667 - global_step_get: 1750.0000 - annealing_step_get: 3750.0000 - UEO_term: 0.4459 - val_loss: 0.8303 - val_accuracy: 0.9175 - val_KL_term: 0.0597 - val_loglikelihood_term: 0.1682 - val_evidential_success: 39.5320 - val_evidential_fail: 2.8246 - val_acc: 0.9184 - val_annealing_coef: 0.9333 - val_global_step_get: 3500.0000 - val_annealing_step_get: 3750.0000 - val_UEO_term: 0.4046\n",
      "\n",
      "Epoch 00010: val_loss did not improve from 0.80291\n",
      "Epoch 11/100\n",
      "self.global_step 3500.0\n",
      "351/351 [==============================] - 33s 94ms/step - loss: 0.7921 - accuracy: 0.9262 - KL_term: 0.0226 - loglikelihood_term: 0.1468 - evidential_success: 56.8185 - evidential_fail: 3.9851 - acc: 0.9260 - annealing_coef: 0.5129 - global_step_get: 1925.0000 - annealing_step_get: 3750.0000 - UEO_term: 0.4519 - val_loss: 0.8276 - val_accuracy: 0.9187 - val_KL_term: 0.0574 - val_loglikelihood_term: 0.1703 - val_evidential_success: 46.4596 - val_evidential_fail: 2.5578 - val_acc: 0.9196 - val_annealing_coef: 1.0000 - val_global_step_get: 3850.0000 - val_annealing_step_get: 3750.0000 - val_UEO_term: 0.4218\n",
      "\n",
      "Epoch 00011: val_loss did not improve from 0.80291\n",
      "Epoch 12/100\n",
      "self.global_step 3850.0\n",
      "351/351 [==============================] - 34s 98ms/step - loss: 0.7932 - accuracy: 0.9267 - KL_term: 0.0233 - loglikelihood_term: 0.1476 - evidential_success: 58.3057 - evidential_fail: 4.0226 - acc: 0.9267 - annealing_coef: 0.5534 - global_step_get: 2100.0000 - annealing_step_get: 3750.0000 - UEO_term: 0.4510 - val_loss: 0.8282 - val_accuracy: 0.9183 - val_KL_term: 0.0547 - val_loglikelihood_term: 0.1747 - val_evidential_success: 41.0346 - val_evidential_fail: 2.3434 - val_acc: 0.9192 - val_annealing_coef: 1.0000 - val_global_step_get: 4200.0000 - val_annealing_step_get: 3750.0000 - val_UEO_term: 0.4152\n",
      "\n",
      "Epoch 00012: val_loss did not improve from 0.80291\n",
      "Epoch 13/100\n",
      "self.global_step 4200.0\n",
      "351/351 [==============================] - 34s 98ms/step - loss: 0.7917 - accuracy: 0.9284 - KL_term: 0.0232 - loglikelihood_term: 0.1453 - evidential_success: 59.4245 - evidential_fail: 3.6494 - acc: 0.9284 - annealing_coef: 0.5877 - global_step_get: 2275.0000 - annealing_step_get: 3750.0000 - UEO_term: 0.4526 - val_loss: 0.8300 - val_accuracy: 0.9168 - val_KL_term: 0.0549 - val_loglikelihood_term: 0.1773 - val_evidential_success: 38.4562 - val_evidential_fail: 2.2535 - val_acc: 0.9177 - val_annealing_coef: 1.0000 - val_global_step_get: 4550.0000 - val_annealing_step_get: 3750.0000 - val_UEO_term: 0.4146\n",
      "\n",
      "Epoch 00013: val_loss did not improve from 0.80291\n",
      "Epoch 14/100\n",
      "self.global_step 4550.0\n",
      "351/351 [==============================] - 34s 98ms/step - loss: 0.7923 - accuracy: 0.9291 - KL_term: 0.0234 - loglikelihood_term: 0.1446 - evidential_success: 63.1235 - evidential_fail: 3.5589 - acc: 0.9291 - annealing_coef: 0.6170 - global_step_get: 2450.0000 - annealing_step_get: 3750.0000 - UEO_term: 0.4586 - val_loss: 0.8338 - val_accuracy: 0.9138 - val_KL_term: 0.0603 - val_loglikelihood_term: 0.1803 - val_evidential_success: 46.2924 - val_evidential_fail: 2.4055 - val_acc: 0.9148 - val_annealing_coef: 1.0000 - val_global_step_get: 4900.0000 - val_annealing_step_get: 3750.0000 - val_UEO_term: 0.4081\n",
      "\n",
      "Epoch 00014: val_loss did not improve from 0.80291\n",
      "Epoch 00014: early stopping\n",
      "-30.0 -16.0\n"
     ]
    },
    {
     "name": "stderr",
     "output_type": "stream",
     "text": [
      "ic| self.path_models+ '/' + self.method +'_'+str(0)+'.h5': 'D:/Jorge/datasets/deforestation/experiments/exp198/models/resunet_0.h5'\n"
     ]
    },
    {
     "name": "stdout",
     "output_type": "stream",
     "text": [
      "time:  0\n",
      "(54236371,)\n",
      "(array([0, 1], dtype=uint8), array([53470765,   765606], dtype=int64))\n",
      "(17730, 9200)\n",
      "(array([0., 1.], dtype=float32), array([160660596,   2455404], dtype=int64))\n"
     ]
    },
    {
     "name": "stderr",
     "output_type": "stream",
     "text": [
      "ic| self.predicted_unpad.shape: (17730, 9200)\n",
      "    self.predicted.shape: (17730, 9200)\n",
      "ic| predicted_test.shape: (81558000,)\n",
      "ic| predicted_test.shape: (54236371,)\n",
      "ic| np.unique(predicted, return_counts=True): (array([0., 1.], dtype=float32), array([160660596,   2455404], dtype=int64))\n",
      "    np.unique(predicted_larger_than_min_area, return_counts=True): (array([0., 1.], dtype=float32), array([161198301,   1917699], dtype=int64))\n",
      "ic| np.unique(ignored_polygons, return_counts=True): (array([0., 1.], dtype=float32), array([162578295,    537705], dtype=int64))\n",
      "ic| self.f1: 77.86, self.precision: 74.14, self.recall: 81.97\n",
      "ic| self.label_mask_val.shape: (16311600,)\n",
      "ic| self.label_mask_val_valid.shape: (9398945,)\n",
      "ic| f1_val: 84.54\n",
      "    precision_val: 81.08\n",
      "    recall_val: 88.31\n",
      "    mAP_val: 88.24\n"
     ]
    },
    {
     "name": "stdout",
     "output_type": "stream",
     "text": [
      "(array([0., 1.], dtype=float32), array([162257473,    858527], dtype=int64))\n",
      "[0. 1.]\n"
     ]
    },
    {
     "name": "stderr",
     "output_type": "stream",
     "text": [
      "ic| self.label_mask.shape: (17730, 9200)\n",
      "ic| self.mask_amazon_ts.shape: (17730, 9200)\n",
      "ic| self.label_mask_test.shape: (81558000,)\n",
      "ic| self.error_mask_test.shape: (53976998,)\n"
     ]
    },
    {
     "name": "stdout",
     "output_type": "stream",
     "text": [
      "'TrainerEvidential' object has no attribute 'uncertainty_to_show'\n",
      "Execution error in idx 0. Retrying...\n",
      "Beginning run number 0\n",
      "D:/Jorge/datasets/deforestation/Para/deforestation_past_years.tif\n",
      "Loaded deforestation past years\n"
     ]
    },
    {
     "name": "stderr",
     "output_type": "stream",
     "text": [
      "ic| np.unique(deforestation_past_years, return_counts=True): (array([   0, 2008, 2009, 2010, 2011, 2012, 2013, 2014, 2015, 2016, 2017,\n",
      "                                                                    2018, 2019, 2020, 2021], dtype=uint16),\n",
      "                                                              array([132185553,   3150503,   4571354,    864429,    903608,   1299506,\n",
      "                                                                      2477971,   1561686,   1459696,    969060,    644976,   2209014,\n",
      "                                                                      2100204,   5257014,   3514616], dtype=int64))\n"
     ]
    },
    {
     "name": "stdout",
     "output_type": "stream",
     "text": [
      "Label where deforestation past years is actual date (2019) = 1\n"
     ]
    },
    {
     "name": "stderr",
     "output_type": "stream",
     "text": [
      "ic| np.unique(deforestation_past_years, return_counts=True): (array([   0, 2008, 2009, 2010, 2011, 2012, 2013, 2014, 2015, 2016, 2017,\n",
      "                                                                    2018, 2019, 2020, 2021], dtype=uint16),\n",
      "                                                              array([132185553,   3150503,   4571354,    864429,    903608,   1299506,\n",
      "                                                                      2477971,   1561686,   1459696,    969060,    644976,   2209014,\n",
      "                                                                      2100204,   5257014,   3514616], dtype=int64))\n"
     ]
    },
    {
     "name": "stdout",
     "output_type": "stream",
     "text": [
      "Past deforestation different from 0 (no deforestation)\n"
     ]
    },
    {
     "name": "stderr",
     "output_type": "stream",
     "text": [
      "ic| np.unique(deforestation_past_years, return_counts=True): (array([   0, 2008, 2009, 2010, 2011, 2012, 2013, 2014, 2015, 2016, 2017,\n",
      "                                                                    2018, 2019, 2020, 2021], dtype=uint16),\n",
      "                                                              array([132185553,   3150503,   4571354,    864429,    903608,   1299506,\n",
      "                                                                      2477971,   1561686,   1459696,    969060,    644976,   2209014,\n",
      "                                                                      2100204,   5257014,   3514616], dtype=int64))\n"
     ]
    },
    {
     "name": "stdout",
     "output_type": "stream",
     "text": [
      "Past deforestation before 2008 is 2\n",
      "D:/Jorge/datasets/deforestation/deforestation_before_2008/deforestation_before_2008_para.tif\n"
     ]
    },
    {
     "name": "stderr",
     "output_type": "stream",
     "text": [
      "ic| np.unique(label_past_deforestation_before_2008, return_counts=True): (array([  0, 215], dtype=uint8), array([124211220,  38957970], dtype=int64))\n",
      "ic| np.unique(deforestation_past_years, return_counts=True): (array([   0, 2008, 2009, 2010, 2011, 2012, 2013, 2014, 2015, 2016, 2017,\n",
      "                                                                    2018, 2019, 2020, 2021], dtype=uint16),\n",
      "                                                              array([132185553,   3150503,   4571354,    864429,    903608,   1299506,\n",
      "                                                                      2477971,   1561686,   1459696,    969060,    644976,   2209014,\n",
      "                                                                      2100204,   5257014,   3514616], dtype=int64))\n",
      "ic| label_per_date.shape: (17730, 9203, 1)\n"
     ]
    },
    {
     "name": "stdout",
     "output_type": "stream",
     "text": [
      "Mask label shape:  \n",
      " (17730, 9203, 1) \n",
      " Unique values:  \n",
      " [0 1 2]\n",
      "Tiles size:  3546 2300\n",
      "Mask size:  (17730, 9200)\n"
     ]
    },
    {
     "name": "stderr",
     "output_type": "stream",
     "text": [
      "ic| image_stack.shape: (17730, 9203, 21)\n"
     ]
    },
    {
     "name": "stdout",
     "output_type": "stream",
     "text": [
      "Image shape:  (17730, 9203, 21)\n",
      "mask:  (17730, 9200)\n",
      "image stack:  (17730, 9200, 21)\n",
      "ref : (17730, 9200, 1)\n",
      "Training tiles:  [1, 3, 5, 8, 11, 13, 14, 20]\n",
      "Validation tiles:  [6, 19]\n",
      "Test tiles:  [2, 4, 7, 9, 10, 12, 15, 16, 17, 18]\n"
     ]
    },
    {
     "name": "stderr",
     "output_type": "stream",
     "text": [
      "ic| im_idx_row.shape: (17730, 9200, 1)\n",
      "    im_idx_col.shape: (17730, 9200, 1)\n",
      "ic| im_idx_row.dtype: dtype('uint16')\n",
      "    im_idx_col.dtype: dtype('uint16')\n",
      "ic| im_idx.shape: (17730, 9200, 2), im_idx.dtype: dtype('uint16')\n",
      "ic| coords.shape: (464, 239, 1, 128, 128, 2)\n",
      "    coords.dtype: dtype('uint16')\n",
      "ic| coords.shape: (110896, 2), coords.dtype: dtype('uint16')\n",
      "ic| self.coords_train.shape: (41812, 3)\n",
      "    self.coords_val.shape: (10260, 3)\n",
      "c:\\Users\\jchamorro\\Anaconda3\\envs\\tf2\\lib\\site-packages\\tensorflow\\python\\keras\\optimizer_v2\\optimizer_v2.py:374: UserWarning: The `lr` argument is deprecated, use `learning_rate` instead.\n",
      "  warnings.warn(\n",
      "c:\\Users\\jchamorro\\Anaconda3\\envs\\tf2\\lib\\site-packages\\tensorflow\\python\\keras\\engine\\training.py:1969: UserWarning: `Model.fit_generator` is deprecated and will be removed in a future version. Please use `Model.fit`, which supports generators.\n",
      "  warnings.warn('`Model.fit_generator` is deprecated and '\n"
     ]
    },
    {
     "name": "stdout",
     "output_type": "stream",
     "text": [
      "training samples:  (3753, 3) validation samples:  (1032, 3)\n",
      "time:  0\n",
      "Model: \"model_2\"\n",
      "__________________________________________________________________________________________________\n",
      "Layer (type)                    Output Shape         Param #     Connected to                     \n",
      "==================================================================================================\n",
      "input_enc_net (InputLayer)      [(None, 128, 128, 21 0                                            \n",
      "__________________________________________________________________________________________________\n",
      "res1_net1 (Conv2D)              (None, 128, 128, 16) 3040        input_enc_net[0][0]              \n",
      "__________________________________________________________________________________________________\n",
      "drop_net1 (Dropout)             (None, 128, 128, 16) 0           res1_net1[0][0]                  \n",
      "__________________________________________________________________________________________________\n",
      "res2_net1 (Conv2D)              (None, 128, 128, 16) 2320        drop_net1[0][0]                  \n",
      "__________________________________________________________________________________________________\n",
      "res3_net1 (Conv2D)              (None, 128, 128, 16) 352         input_enc_net[0][0]              \n",
      "__________________________________________________________________________________________________\n",
      "add_12 (Add)                    (None, 128, 128, 16) 0           res2_net1[0][0]                  \n",
      "                                                                 res3_net1[0][0]                  \n",
      "__________________________________________________________________________________________________\n",
      "pool_net1 (MaxPooling2D)        (None, 64, 64, 16)   0           add_12[0][0]                     \n",
      "__________________________________________________________________________________________________\n",
      "res1_net2 (Conv2D)              (None, 64, 64, 32)   4640        pool_net1[0][0]                  \n",
      "__________________________________________________________________________________________________\n",
      "drop_net2 (Dropout)             (None, 64, 64, 32)   0           res1_net2[0][0]                  \n",
      "__________________________________________________________________________________________________\n",
      "res2_net2 (Conv2D)              (None, 64, 64, 32)   9248        drop_net2[0][0]                  \n",
      "__________________________________________________________________________________________________\n",
      "res3_net2 (Conv2D)              (None, 64, 64, 32)   544         pool_net1[0][0]                  \n",
      "__________________________________________________________________________________________________\n",
      "add_13 (Add)                    (None, 64, 64, 32)   0           res2_net2[0][0]                  \n",
      "                                                                 res3_net2[0][0]                  \n",
      "__________________________________________________________________________________________________\n",
      "pool_net2 (MaxPooling2D)        (None, 32, 32, 32)   0           add_13[0][0]                     \n",
      "__________________________________________________________________________________________________\n",
      "res1_net3 (Conv2D)              (None, 32, 32, 64)   18496       pool_net2[0][0]                  \n",
      "__________________________________________________________________________________________________\n",
      "drop_net3 (Dropout)             (None, 32, 32, 64)   0           res1_net3[0][0]                  \n",
      "__________________________________________________________________________________________________\n",
      "res2_net3 (Conv2D)              (None, 32, 32, 64)   36928       drop_net3[0][0]                  \n",
      "__________________________________________________________________________________________________\n",
      "res3_net3 (Conv2D)              (None, 32, 32, 64)   2112        pool_net2[0][0]                  \n",
      "__________________________________________________________________________________________________\n",
      "add_14 (Add)                    (None, 32, 32, 64)   0           res2_net3[0][0]                  \n",
      "                                                                 res3_net3[0][0]                  \n",
      "__________________________________________________________________________________________________\n",
      "pool_net3 (MaxPooling2D)        (None, 16, 16, 64)   0           add_14[0][0]                     \n",
      "__________________________________________________________________________________________________\n",
      "res1_net4 (Conv2D)              (None, 16, 16, 64)   36928       pool_net3[0][0]                  \n",
      "__________________________________________________________________________________________________\n",
      "drop_net4 (Dropout)             (None, 16, 16, 64)   0           res1_net4[0][0]                  \n",
      "__________________________________________________________________________________________________\n",
      "res2_net4 (Conv2D)              (None, 16, 16, 64)   36928       drop_net4[0][0]                  \n",
      "__________________________________________________________________________________________________\n",
      "res3_net4 (Conv2D)              (None, 16, 16, 64)   4160        pool_net3[0][0]                  \n",
      "__________________________________________________________________________________________________\n",
      "add_15 (Add)                    (None, 16, 16, 64)   0           res2_net4[0][0]                  \n",
      "                                                                 res3_net4[0][0]                  \n",
      "__________________________________________________________________________________________________\n",
      "res1_net5 (Conv2D)              (None, 16, 16, 64)   36928       add_15[0][0]                     \n",
      "__________________________________________________________________________________________________\n",
      "drop_net5 (Dropout)             (None, 16, 16, 64)   0           res1_net5[0][0]                  \n",
      "__________________________________________________________________________________________________\n",
      "res2_net5 (Conv2D)              (None, 16, 16, 64)   36928       drop_net5[0][0]                  \n",
      "__________________________________________________________________________________________________\n",
      "res3_net5 (Conv2D)              (None, 16, 16, 64)   4160        add_15[0][0]                     \n",
      "__________________________________________________________________________________________________\n",
      "add_16 (Add)                    (None, 16, 16, 64)   0           res2_net5[0][0]                  \n",
      "                                                                 res3_net5[0][0]                  \n",
      "__________________________________________________________________________________________________\n",
      "res1_net6 (Conv2D)              (None, 16, 16, 64)   36928       add_16[0][0]                     \n",
      "__________________________________________________________________________________________________\n",
      "drop_net6 (Dropout)             (None, 16, 16, 64)   0           res1_net6[0][0]                  \n",
      "__________________________________________________________________________________________________\n",
      "res2_net6 (Conv2D)              (None, 16, 16, 64)   36928       drop_net6[0][0]                  \n",
      "__________________________________________________________________________________________________\n",
      "res3_net6 (Conv2D)              (None, 16, 16, 64)   4160        add_16[0][0]                     \n",
      "__________________________________________________________________________________________________\n",
      "add_17 (Add)                    (None, 16, 16, 64)   0           res2_net6[0][0]                  \n",
      "                                                                 res3_net6[0][0]                  \n",
      "__________________________________________________________________________________________________\n",
      "up_sampling2d_6 (UpSampling2D)  (None, 32, 32, 64)   0           add_17[0][0]                     \n",
      "__________________________________________________________________________________________________\n",
      "upsampling_net3 (Conv2D)        (None, 32, 32, 64)   36928       up_sampling2d_6[0][0]            \n",
      "__________________________________________________________________________________________________\n",
      "concatenate3 (Concatenate)      (None, 32, 32, 128)  0           add_14[0][0]                     \n",
      "                                                                 upsampling_net3[0][0]            \n",
      "__________________________________________________________________________________________________\n",
      "up_sampling2d_7 (UpSampling2D)  (None, 64, 64, 128)  0           concatenate3[0][0]               \n",
      "__________________________________________________________________________________________________\n",
      "upsampling_net2 (Conv2D)        (None, 64, 64, 32)   36896       up_sampling2d_7[0][0]            \n",
      "__________________________________________________________________________________________________\n",
      "concatenate2 (Concatenate)      (None, 64, 64, 64)   0           add_13[0][0]                     \n",
      "                                                                 upsampling_net2[0][0]            \n",
      "__________________________________________________________________________________________________\n",
      "up_sampling2d_8 (UpSampling2D)  (None, 128, 128, 64) 0           concatenate2[0][0]               \n",
      "__________________________________________________________________________________________________\n",
      "upsampling_net1 (Conv2D)        (None, 128, 128, 16) 9232        up_sampling2d_8[0][0]            \n",
      "__________________________________________________________________________________________________\n",
      "concatenate1 (Concatenate)      (None, 128, 128, 32) 0           add_12[0][0]                     \n",
      "                                                                 upsampling_net1[0][0]            \n",
      "__________________________________________________________________________________________________\n",
      "output (Conv2D)                 (None, 128, 128, 3)  99          concatenate1[0][0]               \n",
      "==================================================================================================\n",
      "Total params: 394,883\n",
      "Trainable params: 394,883\n",
      "Non-trainable params: 0\n",
      "__________________________________________________________________________________________________\n",
      "Epoch 1/100\n",
      "self.global_step 0.0\n",
      "alpha Tensor(\"loss/add:0\", shape=(None, 128, 128, 3), dtype=float32)\n",
      "u Tensor(\"loss/truediv:0\", shape=(None, 128, 128, 1), dtype=float32)\n",
      "A Tensor(\"loss/Sum_3:0\", shape=(None, 3), dtype=float32)\n",
      "B Tensor(\"loss/Sum_4:0\", shape=(None, 1, 1, 3), dtype=float32)\n",
      "term1 Tensor(\"loss/truediv_7:0\", shape=(None, 1, 1, 3), dtype=float32)\n",
      "term2 Tensor(\"loss/mul_5:0\", shape=(None, 1, 1, 3), dtype=float32)\n",
      "Tensor(\"loss/Repeat_1/Reshape_1:0\", shape=(None, None, None, 1), dtype=float32)\n",
      "alpha Tensor(\"add:0\", shape=(None, 128, 128, 3), dtype=float32)\n",
      "u Tensor(\"truediv:0\", shape=(None, 128, 128, 1), dtype=float32)\n",
      "K.int_shape(KL_reg) Tensor(\"mul_6:0\", shape=(None, 128, 128, 1), dtype=float32)\n",
      "alpha Tensor(\"add_7:0\", shape=(None, 128, 128, 3), dtype=float32)\n",
      "u Tensor(\"truediv_5:0\", shape=(None, 128, 128, 1), dtype=float32)\n",
      "K.int_shape(KL_reg) Tensor(\"mul_12:0\", shape=(None, 128, 128, 1), dtype=float32)\n",
      "alpha Tensor(\"add_16:0\", shape=(None, 128, 128, 3), dtype=float32)\n",
      "u Tensor(\"truediv_13:0\", shape=(None, 128, 128, 1), dtype=float32)\n",
      "K.int_shape(Y) Tensor(\"IteratorGetNext:1\", shape=(None, None, None, None), dtype=float32)\n",
      "K.int_shape(prob) Tensor(\"truediv_15:0\", shape=(None, 128, 128, 3), dtype=float32)\n",
      "alpha Tensor(\"loss/add:0\", shape=(None, 128, 128, 3), dtype=float32)\n",
      "u Tensor(\"loss/truediv:0\", shape=(None, 128, 128, 1), dtype=float32)\n",
      "A Tensor(\"loss/Sum_3:0\", shape=(None, 3), dtype=float32)\n",
      "B Tensor(\"loss/Sum_4:0\", shape=(None, 1, 1, 3), dtype=float32)\n",
      "term1 Tensor(\"loss/truediv_7:0\", shape=(None, 1, 1, 3), dtype=float32)\n",
      "term2 Tensor(\"loss/mul_5:0\", shape=(None, 1, 1, 3), dtype=float32)\n",
      "Tensor(\"loss/Repeat_1/Reshape_1:0\", shape=(None, None, None, 1), dtype=float32)\n",
      "alpha Tensor(\"add:0\", shape=(None, 128, 128, 3), dtype=float32)\n",
      "u Tensor(\"truediv:0\", shape=(None, 128, 128, 1), dtype=float32)\n",
      "K.int_shape(KL_reg) Tensor(\"mul_6:0\", shape=(None, 128, 128, 1), dtype=float32)\n",
      "alpha Tensor(\"add_7:0\", shape=(None, 128, 128, 3), dtype=float32)\n",
      "u Tensor(\"truediv_5:0\", shape=(None, 128, 128, 1), dtype=float32)\n",
      "K.int_shape(KL_reg) Tensor(\"mul_12:0\", shape=(None, 128, 128, 1), dtype=float32)\n",
      "alpha Tensor(\"add_16:0\", shape=(None, 128, 128, 3), dtype=float32)\n",
      "u Tensor(\"truediv_13:0\", shape=(None, 128, 128, 1), dtype=float32)\n",
      "K.int_shape(Y) Tensor(\"IteratorGetNext:1\", shape=(None, None, None, None), dtype=float32)\n",
      "K.int_shape(prob) Tensor(\"truediv_15:0\", shape=(None, 128, 128, 3), dtype=float32)\n",
      "351/351 [==============================] - ETA: 0s - loss: 0.8429 - accuracy: 0.7653 - KL_term: 0.0144 - loglikelihood_term: 0.3992 - evidential_success: 11.4526 - evidential_fail: 6.0976 - acc: 0.7655 - annealing_coef: 0.0467 - global_step_get: 175.0000 - annealing_step_get: 3750.0000 - UEO_term: 0.3959alpha Tensor(\"loss/add:0\", shape=(None, 128, 128, 3), dtype=float32)\n",
      "u Tensor(\"loss/truediv:0\", shape=(None, 128, 128, 1), dtype=float32)\n",
      "A Tensor(\"loss/Sum_3:0\", shape=(None, 3), dtype=float32)\n",
      "B Tensor(\"loss/Sum_4:0\", shape=(None, 1, 1, 3), dtype=float32)\n",
      "term1 Tensor(\"loss/truediv_7:0\", shape=(None, 1, 1, 3), dtype=float32)\n",
      "term2 Tensor(\"loss/mul_5:0\", shape=(None, 1, 1, 3), dtype=float32)\n",
      "Tensor(\"loss/Repeat_1/Reshape_1:0\", shape=(None, None, None, 1), dtype=float32)\n",
      "alpha Tensor(\"add:0\", shape=(None, 128, 128, 3), dtype=float32)\n",
      "u Tensor(\"truediv:0\", shape=(None, 128, 128, 1), dtype=float32)\n",
      "K.int_shape(KL_reg) Tensor(\"mul_6:0\", shape=(None, 128, 128, 1), dtype=float32)\n",
      "alpha Tensor(\"add_7:0\", shape=(None, 128, 128, 3), dtype=float32)\n",
      "u Tensor(\"truediv_5:0\", shape=(None, 128, 128, 1), dtype=float32)\n",
      "K.int_shape(KL_reg) Tensor(\"mul_12:0\", shape=(None, 128, 128, 1), dtype=float32)\n",
      "alpha Tensor(\"add_16:0\", shape=(None, 128, 128, 3), dtype=float32)\n",
      "u Tensor(\"truediv_13:0\", shape=(None, 128, 128, 1), dtype=float32)\n",
      "K.int_shape(Y) Tensor(\"IteratorGetNext:1\", shape=(None, None, None, None), dtype=float32)\n",
      "K.int_shape(prob) Tensor(\"truediv_15:0\", shape=(None, 128, 128, 3), dtype=float32)\n",
      "351/351 [==============================] - 38s 102ms/step - loss: 0.8429 - accuracy: 0.7653 - KL_term: 0.0144 - loglikelihood_term: 0.3992 - evidential_success: 11.4526 - evidential_fail: 6.0976 - acc: 0.7655 - annealing_coef: 0.0467 - global_step_get: 175.0000 - annealing_step_get: 3750.0000 - UEO_term: 0.3959 - val_loss: 0.8197 - val_accuracy: 0.8433 - val_KL_term: 0.0181 - val_loglikelihood_term: 0.2738 - val_evidential_success: 11.8864 - val_evidential_fail: 4.6158 - val_acc: 0.8443 - val_annealing_coef: 0.0933 - val_global_step_get: 350.0000 - val_annealing_step_get: 3750.0000 - val_UEO_term: 0.3508\n",
      "\n",
      "Epoch 00001: val_loss improved from inf to 0.81973, saving model to D:/Jorge/datasets/deforestation/experiments/exp198/models\\resunet_0.h5\n",
      "Epoch 2/100\n",
      "self.global_step 350.0\n",
      "  1/351 [..............................] - ETA: 29s - loss: 0.8045 - accuracy: 0.8567 - KL_term: 0.0000e+00 - loglikelihood_term: 0.2395 - evidential_success: 21.5864 - evidential_fail: 6.6783 - acc: 0.8567 - annealing_coef: 0.0000e+00 - global_step_get: 0.0000e+00 - annealing_step_get: 3750.0000 - UEO_term: 0.3751"
     ]
    },
    {
     "name": "stderr",
     "output_type": "stream",
     "text": [
      "c:\\Users\\jchamorro\\Anaconda3\\envs\\tf2\\lib\\site-packages\\tensorflow\\python\\keras\\utils\\generic_utils.py:494: CustomMaskWarning: Custom mask layers require a config and must override get_config. When loading, the custom mask layer must be passed to the custom_objects argument.\n",
      "  warnings.warn('Custom mask layers require a config and must override '\n"
     ]
    },
    {
     "name": "stdout",
     "output_type": "stream",
     "text": [
      "351/351 [==============================] - 33s 95ms/step - loss: 0.8003 - accuracy: 0.8838 - KL_term: 0.0154 - loglikelihood_term: 0.1968 - evidential_success: 29.9515 - evidential_fail: 8.1005 - acc: 0.8838 - annealing_coef: 0.0933 - global_step_get: 350.0000 - annealing_step_get: 3750.0000 - UEO_term: 0.3666 - val_loss: 0.8091 - val_accuracy: 0.8799 - val_KL_term: 0.0253 - val_loglikelihood_term: 0.2109 - val_evidential_success: 17.9818 - val_evidential_fail: 4.3803 - val_acc: 0.8813 - val_annealing_coef: 0.1867 - val_global_step_get: 700.0000 - val_annealing_step_get: 3750.0000 - val_UEO_term: 0.3605\n",
      "\n",
      "Epoch 00002: val_loss improved from 0.81973 to 0.80912, saving model to D:/Jorge/datasets/deforestation/experiments/exp198/models\\resunet_0.h5\n",
      "Epoch 3/100\n",
      "self.global_step 700.0\n",
      "351/351 [==============================] - 32s 92ms/step - loss: 0.7953 - accuracy: 0.8977 - KL_term: 0.0168 - loglikelihood_term: 0.1756 - evidential_success: 38.0564 - evidential_fail: 6.9271 - acc: 0.8977 - annealing_coef: 0.1400 - global_step_get: 525.0000 - annealing_step_get: 3750.0000 - UEO_term: 0.4098 - val_loss: 0.8171 - val_accuracy: 0.8874 - val_KL_term: 0.0372 - val_loglikelihood_term: 0.2058 - val_evidential_success: 20.3391 - val_evidential_fail: 4.5392 - val_acc: 0.8887 - val_annealing_coef: 0.2800 - val_global_step_get: 1050.0000 - val_annealing_step_get: 3750.0000 - val_UEO_term: 0.3598\n",
      "\n",
      "Epoch 00003: val_loss did not improve from 0.80912\n",
      "Epoch 4/100\n",
      "self.global_step 1050.0\n",
      "351/351 [==============================] - 33s 95ms/step - loss: 0.7939 - accuracy: 0.9051 - KL_term: 0.0184 - loglikelihood_term: 0.1665 - evidential_success: 42.8328 - evidential_fail: 6.2870 - acc: 0.9049 - annealing_coef: 0.1867 - global_step_get: 700.0000 - annealing_step_get: 3750.0000 - UEO_term: 0.4286 - val_loss: 0.8126 - val_accuracy: 0.8967 - val_KL_term: 0.0320 - val_loglikelihood_term: 0.1930 - val_evidential_success: 22.9597 - val_evidential_fail: 3.0406 - val_acc: 0.8980 - val_annealing_coef: 0.3733 - val_global_step_get: 1400.0000 - val_annealing_step_get: 3750.0000 - val_UEO_term: 0.3919\n",
      "\n",
      "Epoch 00004: val_loss did not improve from 0.80912\n",
      "Epoch 5/100\n",
      "self.global_step 1400.0\n",
      "351/351 [==============================] - 34s 98ms/step - loss: 0.7942 - accuracy: 0.9100 - KL_term: 0.0196 - loglikelihood_term: 0.1613 - evidential_success: 45.5228 - evidential_fail: 5.8870 - acc: 0.9100 - annealing_coef: 0.2333 - global_step_get: 875.0000 - annealing_step_get: 3750.0000 - UEO_term: 0.4311 - val_loss: 0.8282 - val_accuracy: 0.8905 - val_KL_term: 0.0473 - val_loglikelihood_term: 0.2005 - val_evidential_success: 28.7602 - val_evidential_fail: 3.4369 - val_acc: 0.8919 - val_annealing_coef: 0.4667 - val_global_step_get: 1750.0000 - val_annealing_step_get: 3750.0000 - val_UEO_term: 0.3905\n",
      "\n",
      "Epoch 00005: val_loss did not improve from 0.80912\n",
      "Epoch 6/100\n",
      "self.global_step 1750.0\n",
      "351/351 [==============================] - 35s 101ms/step - loss: 0.7938 - accuracy: 0.9143 - KL_term: 0.0205 - loglikelihood_term: 0.1572 - evidential_success: 48.1738 - evidential_fail: 5.2915 - acc: 0.9142 - annealing_coef: 0.2800 - global_step_get: 1050.0000 - annealing_step_get: 3750.0000 - UEO_term: 0.4413 - val_loss: 0.8236 - val_accuracy: 0.9023 - val_KL_term: 0.0449 - val_loglikelihood_term: 0.1809 - val_evidential_success: 31.4107 - val_evidential_fail: 3.0817 - val_acc: 0.9036 - val_annealing_coef: 0.5600 - val_global_step_get: 2100.0000 - val_annealing_step_get: 3750.0000 - val_UEO_term: 0.4061\n",
      "\n",
      "Epoch 00006: val_loss did not improve from 0.80912\n",
      "Epoch 7/100\n",
      "self.global_step 2100.0\n",
      "351/351 [==============================] - 35s 100ms/step - loss: 0.7933 - accuracy: 0.9178 - KL_term: 0.0211 - loglikelihood_term: 0.1533 - evidential_success: 51.7198 - evidential_fail: 4.9581 - acc: 0.9178 - annealing_coef: 0.3267 - global_step_get: 1225.0000 - annealing_step_get: 3750.0000 - UEO_term: 0.4438 - val_loss: 0.8206 - val_accuracy: 0.9051 - val_KL_term: 0.0395 - val_loglikelihood_term: 0.1823 - val_evidential_success: 37.6729 - val_evidential_fail: 2.4931 - val_acc: 0.9063 - val_annealing_coef: 0.6533 - val_global_step_get: 2450.0000 - val_annealing_step_get: 3750.0000 - val_UEO_term: 0.4242\n",
      "\n",
      "Epoch 00007: val_loss did not improve from 0.80912\n",
      "Epoch 8/100\n",
      "self.global_step 2450.0\n",
      "351/351 [==============================] - 35s 100ms/step - loss: 0.7928 - accuracy: 0.9208 - KL_term: 0.0215 - loglikelihood_term: 0.1508 - evidential_success: 52.2963 - evidential_fail: 4.5129 - acc: 0.9208 - annealing_coef: 0.3733 - global_step_get: 1400.0000 - annealing_step_get: 3750.0000 - UEO_term: 0.4475 - val_loss: 0.8258 - val_accuracy: 0.9055 - val_KL_term: 0.0421 - val_loglikelihood_term: 0.1888 - val_evidential_success: 37.2246 - val_evidential_fail: 2.4504 - val_acc: 0.9067 - val_annealing_coef: 0.7467 - val_global_step_get: 2800.0000 - val_annealing_step_get: 3750.0000 - val_UEO_term: 0.4308\n",
      "\n",
      "Epoch 00008: val_loss did not improve from 0.80912\n",
      "Epoch 9/100\n",
      "self.global_step 2800.0\n",
      "351/351 [==============================] - 35s 101ms/step - loss: 0.7929 - accuracy: 0.9228 - KL_term: 0.0219 - loglikelihood_term: 0.1493 - evidential_success: 55.3668 - evidential_fail: 4.2642 - acc: 0.9228 - annealing_coef: 0.4200 - global_step_get: 1575.0000 - annealing_step_get: 3750.0000 - UEO_term: 0.4503 - val_loss: 0.8247 - val_accuracy: 0.9091 - val_KL_term: 0.0393 - val_loglikelihood_term: 0.1872 - val_evidential_success: 41.9902 - val_evidential_fail: 2.2015 - val_acc: 0.9102 - val_annealing_coef: 0.8400 - val_global_step_get: 3150.0000 - val_annealing_step_get: 3750.0000 - val_UEO_term: 0.4380\n",
      "\n",
      "Epoch 00009: val_loss did not improve from 0.80912\n",
      "Epoch 10/100\n",
      "self.global_step 3150.0\n",
      " 73/351 [=====>........................] - ETA: 22s - loss: 0.7703 - accuracy: 0.9229 - KL_term: 0.0117 - loglikelihood_term: 0.1319 - evidential_success: 83.8166 - evidential_fail: 8.8114 - acc: 0.9230 - annealing_coef: 0.0960 - global_step_get: 360.0000 - annealing_step_get: 3750.0000 - UEO_term: 0.3867"
     ]
    }
   ],
   "source": [
    "idx = 0\n",
    "while idx < len(exp_ids):\n",
    "# for experiment_value, exp_id in zip(experiment_values, exp_ids):\n",
    "    try:\n",
    "        config = {\n",
    "        \"training\": True,\n",
    "        \"learning_rate\": 1e-4,\n",
    "        \"weights\": [0.1, 0.9, 0],\n",
    "        \"save_probabilities\": False,\n",
    "        \"loadInference\": False,\n",
    "        \"addPastDeforestationInput\": True,\n",
    "        \"inference_times\": 1,\n",
    "        \"Uncertainty\": {\n",
    "            \"annealing_step\": 10*375 # 1875\n",
    "        },\n",
    "        \"uncertainty_method\": uncertaintyMethod,\n",
    "        \"evidence_function\": evidential.relu_evidence\n",
    "        }\n",
    "        print(\"Beginning run number {}\".format(idx))\n",
    "        trainer = TrainerEvidential(config, dataset, patchesHandler)\n",
    "\n",
    "        trainer.defineExperiment(exp_ids[idx])\n",
    "\n",
    "        trainer.setExperimentPath()\n",
    "        trainer.createLogFolders()\n",
    "\n",
    "        trainer.loadDataset()\n",
    "\n",
    "        # %%\n",
    "        if config[\"training\"] == True:\n",
    "            trainer.run()\n",
    "\n",
    "        # %%\n",
    "        result = trainer.run_predictor()\n",
    "        print(\"Result idx {}: {}\".format(idx, result))\n",
    "        results.append(result)\n",
    "\n",
    "\n",
    "        with open('log.pkl', 'wb') as f:\n",
    "            pickle.dump(results, f)\n",
    "        idx += 1\n",
    "        print(\"Grid execution idx: {}\".format(idx))\n",
    "    except Exception as e: \n",
    "        print(e)\n",
    "        print(\"Execution error in idx {}. Retrying...\".format(idx))\n",
    "        continue"
   ]
  },
  {
   "cell_type": "code",
   "execution_count": null,
   "id": "64080745",
   "metadata": {},
   "outputs": [
    {
     "name": "stdout",
     "output_type": "stream",
     "text": [
      "[{'metrics': {'precision_L': array([nan]), 'recall_L': array([0.]), 'recall_Ltotal': array([0.]), 'AA': array([0.03000046]), 'precision_H': array([nan]), 'recall_H': array([0.]), 'f1_L': array([nan]), 'f1_H': array([nan]), 'f1': 0.0}, 'metrics_audited': {'precision': array([1.]), 'recall': array([0.88574556]), 'f1': array([0.93941153])}, 'exp': 175}, {'metrics': {'precision_L': array([0.53704756]), 'recall_L': array([0.9351188]), 'recall_Ltotal': array([0.85489489]), 'AA': array([0.02999747]), 'precision_H': array([0.16052591]), 'recall_H': array([0.41546518]), 'f1_L': array([0.68226429]), 'f1_H': array([0.23157625]), 'f1': 63.3}, 'metrics_audited': {'precision': array([0.56072183]), 'recall': array([0.94068496]), 'f1': array([0.70262449])}, 'exp': 176}, {'metrics': {'precision_L': array([0.70278881]), 'recall_L': array([0.93463832]), 'recall_Ltotal': array([0.76870477]), 'AA': array([0.02999925]), 'precision_H': array([0.36952487]), 'recall_H': array([0.37348836]), 'f1_L': array([0.80229934]), 'f1_H': array([0.37149604]), 'f1': 73.46}, 'metrics_audited': {'precision': array([0.74429354]), 'recall': array([0.94624249]), 'f1': array([0.83320575])}, 'exp': 177}, {'metrics': {'precision_L': array([0.95460893]), 'recall_L': array([0.90481066]), 'recall_Ltotal': array([0.61444564]), 'AA': array([0.03000161]), 'precision_H': array([0.75037323]), 'recall_H': array([0.52827851]), 'f1_L': array([0.92904296]), 'f1_H': array([0.62003756]), 'f1': 83.87}, 'metrics_audited': {'precision': array([0.96971047]), 'recall': array([0.93535811]), 'f1': array([0.95222456])}, 'exp': 178}, {'metrics': {'precision_L': array([nan]), 'recall_L': array([0.]), 'recall_Ltotal': array([0.]), 'AA': array([0.02999878]), 'precision_H': array([nan]), 'recall_H': array([0.]), 'f1_L': array([nan]), 'f1_H': array([nan]), 'f1': 0.0}, 'metrics_audited': {'precision': array([1.]), 'recall': array([0.87987273]), 'f1': array([0.93609819])}, 'exp': 179}, {'metrics': {'precision_L': array([0.64427416]), 'recall_L': array([0.93753839]), 'recall_Ltotal': array([0.85740668]), 'AA': array([0.03000044]), 'precision_H': array([0.27843432]), 'recall_H': array([0.08130564]), 'f1_L': array([0.76372104]), 'f1_H': array([0.12585914]), 'f1': 73.38}, 'metrics_audited': {'precision': array([0.66574166]), 'recall': array([0.942877]), 'f1': array([0.78043668])}, 'exp': 180}, {'metrics': {'precision_L': array([0.80324329]), 'recall_L': array([0.74715275]), 'recall_Ltotal': array([0.53747226]), 'AA': array([0.03000138]), 'precision_H': array([0.48823329]), 'recall_H': array([0.24274061]), 'f1_L': array([0.77418339]), 'f1_H': array([0.32426342]), 'f1': 66.97}, 'metrics_audited': {'precision': array([0.86138142]), 'recall': array([0.81811164]), 'f1': array([0.83918914])}, 'exp': 181}, {'metrics': {'precision_L': array([0.71368072]), 'recall_L': array([0.90153512]), 'recall_Ltotal': array([0.784148]), 'AA': array([0.03000074]), 'precision_H': array([0.38670017]), 'recall_H': array([0.12398216]), 'f1_L': array([0.79668391]), 'f1_H': array([0.18776417]), 'f1': 74.78}, 'metrics_audited': {'precision': array([0.74401654]), 'recall': array([0.91435604]), 'f1': array([0.82043809])}, 'exp': 182}, {'metrics': {'precision_L': array([0.75249738]), 'recall_L': array([0.91000718]), 'recall_Ltotal': array([0.75073213]), 'AA': array([0.03000107]), 'precision_H': array([0.42518744]), 'recall_H': array([0.37020571]), 'f1_L': array([0.82379084]), 'f1_H': array([0.39579626]), 'f1': 75.86}, 'metrics_audited': {'precision': array([0.78943791]), 'recall': array([0.92575827]), 'f1': array([0.85218086])}, 'exp': 183}, {'metrics': {'precision_L': array([0.55948833]), 'recall_L': array([0.97207271]), 'recall_Ltotal': array([0.81048642]), 'AA': array([0.03000037]), 'precision_H': array([0.23222709]), 'recall_H': array([0.31127071]), 'f1_L': array([0.71020785]), 'f1_H': array([0.26600104]), 'f1': 64.55}, 'metrics_audited': {'precision': array([0.60483352]), 'recall': array([0.97671502]), 'f1': array([0.74705261])}, 'exp': 184}]\n"
     ]
    }
   ],
   "source": [
    "print(results)"
   ]
  },
  {
   "cell_type": "code",
   "execution_count": null,
   "id": "cd4f4d1d",
   "metadata": {},
   "outputs": [
    {
     "name": "stdout",
     "output_type": "stream",
     "text": [
      "10\n"
     ]
    }
   ],
   "source": [
    "print(len(results))"
   ]
  },
  {
   "cell_type": "code",
   "execution_count": null,
   "id": "6cc43863",
   "metadata": {},
   "outputs": [
    {
     "ename": "NameError",
     "evalue": "name 'results' is not defined",
     "output_type": "error",
     "traceback": [
      "\u001b[1;31m---------------------------------------------------------------------------\u001b[0m",
      "\u001b[1;31mNameError\u001b[0m                                 Traceback (most recent call last)",
      "\u001b[1;32md:\\Jorge\\deforestation_uncertainty\\train_grid_search.ipynb Cell 11\u001b[0m in \u001b[0;36m<cell line: 1>\u001b[1;34m()\u001b[0m\n\u001b[1;32m----> <a href='vscode-notebook-cell:/d%3A/Jorge/deforestation_uncertainty/train_grid_search.ipynb#X15sZmlsZQ%3D%3D?line=0'>1</a>\u001b[0m results[\u001b[39m9\u001b[39m]\n",
      "\u001b[1;31mNameError\u001b[0m: name 'results' is not defined"
     ]
    }
   ],
   "source": [
    "results[9]"
   ]
  },
  {
   "cell_type": "code",
   "execution_count": null,
   "id": "4819ba4f",
   "metadata": {},
   "outputs": [
    {
     "data": {
      "text/plain": [
       "64.55"
      ]
     },
     "execution_count": 10,
     "metadata": {},
     "output_type": "execute_result"
    }
   ],
   "source": [
    "trainer.f1"
   ]
  },
  {
   "cell_type": "code",
   "execution_count": null,
   "id": "13437081",
   "metadata": {},
   "outputs": [
    {
     "name": "stdout",
     "output_type": "stream",
     "text": [
      "64.55\n"
     ]
    }
   ],
   "source": [
    "print(trainer.f1)"
   ]
  }
 ],
 "metadata": {
  "kernelspec": {
   "display_name": "Python 3.9.12 ('tf2')",
   "language": "python",
   "name": "python3"
  },
  "language_info": {
   "codemirror_mode": {
    "name": "ipython",
    "version": 3
   },
   "file_extension": ".py",
   "mimetype": "text/x-python",
   "name": "python",
   "nbconvert_exporter": "python",
   "pygments_lexer": "ipython3",
   "version": "3.9.12"
  },
  "vscode": {
   "interpreter": {
    "hash": "0593c6bd4eb743cc503a3c17025f83c5676f297db573750215a1bc8c88a990c4"
   }
  }
 },
 "nbformat": 4,
 "nbformat_minor": 5
}
