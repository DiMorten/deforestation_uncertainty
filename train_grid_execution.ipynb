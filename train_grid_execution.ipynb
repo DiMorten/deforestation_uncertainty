{
 "cells": [
  {
   "cell_type": "code",
   "execution_count": 1,
   "id": "dbd5b7cf",
   "metadata": {},
   "outputs": [],
   "source": [
    "from utils_v1 import *\n"
   ]
  },
  {
   "cell_type": "code",
   "execution_count": null,
   "id": "123e793c",
   "metadata": {},
   "outputs": [],
   "source": [
    "from icecream import ic\n",
    "\n",
    "import numpy as np\n",
    "from src.dataset import (\n",
    "    MultipleDates,\n",
    "    PA, PADeforestationTime, PADistanceMap, PAMultipleDates,\n",
    "    MTDeforestationTime,\n",
    "    MTMultipleDates\n",
    ")\n",
    "\n",
    "# from src.dataset_legacy import MTDeforestationTime\n",
    "from src import training_generator as generator\n",
    "from src.patchesHandler import PatchesHandler, PatchesHandlerMultipleDates, PatchesHandlerEvidential\n",
    "\n",
    "from src.trainer.evidential import TrainerEvidential\n",
    "\n",
    "from mpl_toolkits.axes_grid1 import make_axes_locatable\n",
    "\n",
    "import cv2\n",
    "from src import metrics as _metric\n",
    "import json\n",
    "import pickle \n",
    "import src.trainer.evidential as evidential\n"
   ]
  },
  {
   "cell_type": "code",
   "execution_count": null,
   "id": "603a5df7",
   "metadata": {},
   "outputs": [
    {
     "name": "stderr",
     "output_type": "stream",
     "text": [
      "ic| list(self.date_ids): [0]\n",
      "ic| self.image_channels: [[0, 1, 2, 3, 4, 5, 6, 7, 8, 9, 10, 11, 12, 13, 14, 15, 16, 17, 18, 19, 20]]\n",
      "ic| dates: [2018, 2019]\n",
      "ic| self.input_image_shape: 21\n",
      "ic| self.dataset.image_channels: [[0, 1, 2, 3, 4, 5, 6, 7, 8, 9, 10, 11, 12, 13, 14, 15, 16, 17, 18, 19, 20]]\n"
     ]
    }
   ],
   "source": [
    "'''\n",
    "if config[\"training\"] == True:\n",
    "\tdates = [2017, 2018]\n",
    "else:\n",
    "\tdates = [2018, 2019]\n",
    "if config[\"training\"] == True:\n",
    "\tdates = [2018, 2019]\n",
    "else:\n",
    "\tdates = [2019, 2020]\n",
    "'''\n",
    "\n",
    "\t\n",
    "dates = [2018, 2019]\n",
    "\n",
    "dataset = PAMultipleDates(dates = dates, # dates = [2016,2017,2018,2019]\n",
    "\taddPastDeforestationInput = True,\n",
    "\tborderBuffer = 2)\t\n",
    "\n",
    "\n",
    "ic(dates)\n",
    "\n",
    "if issubclass(type(dataset), MultipleDates):\n",
    "\tpatchesHandler = PatchesHandlerEvidential(\n",
    "\t\tdataset)\n",
    "else:\n",
    "\tpatchesHandler = PatchesHandler()\n",
    "\n"
   ]
  },
  {
   "cell_type": "code",
   "execution_count": null,
   "id": "1bb339c8",
   "metadata": {},
   "outputs": [],
   "source": [
    "repetition_n = 6\n",
    "experiment_values = np.ones(repetition_n).astype(np.uint8)\n",
    "\n",
    "\n",
    "# experiment_values = [int(x) for x in experiment_values]\n",
    "results = []\n",
    "\n",
    "#exp_id_base = 148\n",
    "# exp_id_base = 155\n",
    "exp_id_base = 194\n",
    "exp_id_base = 198\n",
    "\n",
    "\n",
    "exp_ids = range(exp_id_base, exp_id_base+len(experiment_values))\n"
   ]
  },
  {
   "cell_type": "code",
   "execution_count": null,
   "id": "c7ae3a0c",
   "metadata": {},
   "outputs": [
    {
     "data": {
      "text/plain": [
       "range(194, 204)"
      ]
     },
     "execution_count": 5,
     "metadata": {},
     "output_type": "execute_result"
    }
   ],
   "source": [
    "exp_ids"
   ]
  },
  {
   "cell_type": "code",
   "execution_count": null,
   "id": "cfa1145d",
   "metadata": {},
   "outputs": [],
   "source": [
    "from enum import Enum\n",
    "UncertaintyMethod = Enum('Predictor', 'pred_var MI pred_entropy KL pred_entropy_single evidential')\n",
    "uncertaintyMethod = \"evidential\"\n"
   ]
  },
  {
   "cell_type": "code",
   "execution_count": null,
   "id": "55da0bd1",
   "metadata": {},
   "outputs": [
    {
     "name": "stdout",
     "output_type": "stream",
     "text": [
      "Beginning run number 0\n",
      "D:/Jorge/datasets/deforestation/Para/deforestation_past_years.tif\n",
      "Loaded deforestation past years\n"
     ]
    },
    {
     "name": "stderr",
     "output_type": "stream",
     "text": [
      "ic| np.unique(deforestation_past_years, return_counts=True): (array([   0, 2008, 2009, 2010, 2011, 2012, 2013, 2014, 2015, 2016, 2017,\n",
      "                                                                    2018, 2019, 2020, 2021], dtype=uint16),\n",
      "                                                              array([132185553,   3150503,   4571354,    864429,    903608,   1299506,\n",
      "                                                                      2477971,   1561686,   1459696,    969060,    644976,   2209014,\n",
      "                                                                      2100204,   5257014,   3514616], dtype=int64))\n"
     ]
    },
    {
     "name": "stdout",
     "output_type": "stream",
     "text": [
      "Label where deforestation past years is actual date (2019) = 1\n"
     ]
    },
    {
     "name": "stderr",
     "output_type": "stream",
     "text": [
      "ic| np.unique(deforestation_past_years, return_counts=True): (array([   0, 2008, 2009, 2010, 2011, 2012, 2013, 2014, 2015, 2016, 2017,\n",
      "                                                                    2018, 2019, 2020, 2021], dtype=uint16),\n",
      "                                                              array([132185553,   3150503,   4571354,    864429,    903608,   1299506,\n",
      "                                                                      2477971,   1561686,   1459696,    969060,    644976,   2209014,\n",
      "                                                                      2100204,   5257014,   3514616], dtype=int64))\n"
     ]
    },
    {
     "name": "stdout",
     "output_type": "stream",
     "text": [
      "Past deforestation different from 0 (no deforestation)\n"
     ]
    },
    {
     "name": "stderr",
     "output_type": "stream",
     "text": [
      "ic| np.unique(deforestation_past_years, return_counts=True): (array([   0, 2008, 2009, 2010, 2011, 2012, 2013, 2014, 2015, 2016, 2017,\n",
      "                                                                    2018, 2019, 2020, 2021], dtype=uint16),\n",
      "                                                              array([132185553,   3150503,   4571354,    864429,    903608,   1299506,\n",
      "                                                                      2477971,   1561686,   1459696,    969060,    644976,   2209014,\n",
      "                                                                      2100204,   5257014,   3514616], dtype=int64))\n"
     ]
    },
    {
     "name": "stdout",
     "output_type": "stream",
     "text": [
      "Past deforestation before 2008 is 2\n",
      "D:/Jorge/datasets/deforestation/deforestation_before_2008/deforestation_before_2008_para.tif\n"
     ]
    },
    {
     "name": "stderr",
     "output_type": "stream",
     "text": [
      "ic| np.unique(label_past_deforestation_before_2008, return_counts=True): (array([  0, 215], dtype=uint8), array([124211220,  38957970], dtype=int64))\n",
      "ic| np.unique(deforestation_past_years, return_counts=True): (array([   0, 2008, 2009, 2010, 2011, 2012, 2013, 2014, 2015, 2016, 2017,\n",
      "                                                                    2018, 2019, 2020, 2021], dtype=uint16),\n",
      "                                                              array([132185553,   3150503,   4571354,    864429,    903608,   1299506,\n",
      "                                                                      2477971,   1561686,   1459696,    969060,    644976,   2209014,\n",
      "                                                                      2100204,   5257014,   3514616], dtype=int64))\n",
      "ic| label_per_date.shape: (17730, 9203, 1)\n"
     ]
    },
    {
     "name": "stdout",
     "output_type": "stream",
     "text": [
      "Mask label shape:  \n",
      " (17730, 9203, 1) \n",
      " Unique values:  \n",
      " [0 1 2]\n",
      "Tiles size:  3546 2300\n",
      "Mask size:  (17730, 9200)\n"
     ]
    },
    {
     "name": "stderr",
     "output_type": "stream",
     "text": [
      "ic| image_stack.shape: (17730, 9203, 21)\n"
     ]
    },
    {
     "name": "stdout",
     "output_type": "stream",
     "text": [
      "Image shape:  (17730, 9203, 21)\n",
      "mask:  (17730, 9200)\n",
      "image stack:  (17730, 9200, 21)\n",
      "ref : (17730, 9200, 1)\n",
      "Training tiles:  [1, 3, 5, 8, 11, 13, 14, 20]\n",
      "Validation tiles:  [6, 19]\n",
      "Test tiles:  [2, 4, 7, 9, 10, 12, 15, 16, 17, 18]\n"
     ]
    },
    {
     "name": "stderr",
     "output_type": "stream",
     "text": [
      "ic| im_idx_row.shape: (17730, 9200, 1)\n",
      "    im_idx_col.shape: (17730, 9200, 1)\n",
      "ic| im_idx_row.dtype: dtype('uint16')\n",
      "    im_idx_col.dtype: dtype('uint16')\n",
      "ic| im_idx.shape: (17730, 9200, 2), im_idx.dtype: dtype('uint16')\n",
      "ic| coords.shape: (464, 239, 1, 128, 128, 2)\n",
      "    coords.dtype: dtype('uint16')\n",
      "ic| coords.shape: (110896, 2), coords.dtype: dtype('uint16')\n",
      "ic| self.coords_train.shape: (41812, 3)\n",
      "    self.coords_val.shape: (10260, 3)\n"
     ]
    },
    {
     "name": "stdout",
     "output_type": "stream",
     "text": [
      "training samples:  (3753, 3) validation samples:  (1032, 3)\n",
      "time:  0\n",
      "Model: \"model\"\n",
      "__________________________________________________________________________________________________\n",
      "Layer (type)                    Output Shape         Param #     Connected to                     \n",
      "==================================================================================================\n",
      "input_enc_net (InputLayer)      [(None, 128, 128, 21 0                                            \n",
      "__________________________________________________________________________________________________\n",
      "res1_net1 (Conv2D)              (None, 128, 128, 16) 3040        input_enc_net[0][0]              \n",
      "__________________________________________________________________________________________________\n",
      "drop_net1 (Dropout)             (None, 128, 128, 16) 0           res1_net1[0][0]                  \n",
      "__________________________________________________________________________________________________\n",
      "res2_net1 (Conv2D)              (None, 128, 128, 16) 2320        drop_net1[0][0]                  \n",
      "__________________________________________________________________________________________________\n",
      "res3_net1 (Conv2D)              (None, 128, 128, 16) 352         input_enc_net[0][0]              \n",
      "__________________________________________________________________________________________________\n",
      "add (Add)                       (None, 128, 128, 16) 0           res2_net1[0][0]                  \n",
      "                                                                 res3_net1[0][0]                  \n",
      "__________________________________________________________________________________________________\n",
      "pool_net1 (MaxPooling2D)        (None, 64, 64, 16)   0           add[0][0]                        \n",
      "__________________________________________________________________________________________________\n",
      "res1_net2 (Conv2D)              (None, 64, 64, 32)   4640        pool_net1[0][0]                  \n",
      "__________________________________________________________________________________________________\n",
      "drop_net2 (Dropout)             (None, 64, 64, 32)   0           res1_net2[0][0]                  \n",
      "__________________________________________________________________________________________________\n",
      "res2_net2 (Conv2D)              (None, 64, 64, 32)   9248        drop_net2[0][0]                  \n",
      "__________________________________________________________________________________________________\n",
      "res3_net2 (Conv2D)              (None, 64, 64, 32)   544         pool_net1[0][0]                  \n",
      "__________________________________________________________________________________________________\n",
      "add_1 (Add)                     (None, 64, 64, 32)   0           res2_net2[0][0]                  \n",
      "                                                                 res3_net2[0][0]                  \n",
      "__________________________________________________________________________________________________\n",
      "pool_net2 (MaxPooling2D)        (None, 32, 32, 32)   0           add_1[0][0]                      \n",
      "__________________________________________________________________________________________________\n",
      "res1_net3 (Conv2D)              (None, 32, 32, 64)   18496       pool_net2[0][0]                  \n",
      "__________________________________________________________________________________________________\n",
      "drop_net3 (Dropout)             (None, 32, 32, 64)   0           res1_net3[0][0]                  \n",
      "__________________________________________________________________________________________________\n",
      "res2_net3 (Conv2D)              (None, 32, 32, 64)   36928       drop_net3[0][0]                  \n",
      "__________________________________________________________________________________________________\n",
      "res3_net3 (Conv2D)              (None, 32, 32, 64)   2112        pool_net2[0][0]                  \n",
      "__________________________________________________________________________________________________\n",
      "add_2 (Add)                     (None, 32, 32, 64)   0           res2_net3[0][0]                  \n",
      "                                                                 res3_net3[0][0]                  \n",
      "__________________________________________________________________________________________________\n",
      "pool_net3 (MaxPooling2D)        (None, 16, 16, 64)   0           add_2[0][0]                      \n",
      "__________________________________________________________________________________________________\n",
      "res1_net4 (Conv2D)              (None, 16, 16, 64)   36928       pool_net3[0][0]                  \n",
      "__________________________________________________________________________________________________\n",
      "drop_net4 (Dropout)             (None, 16, 16, 64)   0           res1_net4[0][0]                  \n",
      "__________________________________________________________________________________________________\n",
      "res2_net4 (Conv2D)              (None, 16, 16, 64)   36928       drop_net4[0][0]                  \n",
      "__________________________________________________________________________________________________\n",
      "res3_net4 (Conv2D)              (None, 16, 16, 64)   4160        pool_net3[0][0]                  \n",
      "__________________________________________________________________________________________________\n",
      "add_3 (Add)                     (None, 16, 16, 64)   0           res2_net4[0][0]                  \n",
      "                                                                 res3_net4[0][0]                  \n",
      "__________________________________________________________________________________________________\n",
      "res1_net5 (Conv2D)              (None, 16, 16, 64)   36928       add_3[0][0]                      \n",
      "__________________________________________________________________________________________________\n",
      "drop_net5 (Dropout)             (None, 16, 16, 64)   0           res1_net5[0][0]                  \n",
      "__________________________________________________________________________________________________\n",
      "res2_net5 (Conv2D)              (None, 16, 16, 64)   36928       drop_net5[0][0]                  \n",
      "__________________________________________________________________________________________________\n",
      "res3_net5 (Conv2D)              (None, 16, 16, 64)   4160        add_3[0][0]                      \n",
      "__________________________________________________________________________________________________\n",
      "add_4 (Add)                     (None, 16, 16, 64)   0           res2_net5[0][0]                  \n",
      "                                                                 res3_net5[0][0]                  \n",
      "__________________________________________________________________________________________________\n",
      "res1_net6 (Conv2D)              (None, 16, 16, 64)   36928       add_4[0][0]                      \n",
      "__________________________________________________________________________________________________\n",
      "drop_net6 (Dropout)             (None, 16, 16, 64)   0           res1_net6[0][0]                  \n",
      "__________________________________________________________________________________________________\n",
      "res2_net6 (Conv2D)              (None, 16, 16, 64)   36928       drop_net6[0][0]                  \n",
      "__________________________________________________________________________________________________\n",
      "res3_net6 (Conv2D)              (None, 16, 16, 64)   4160        add_4[0][0]                      \n",
      "__________________________________________________________________________________________________\n",
      "add_5 (Add)                     (None, 16, 16, 64)   0           res2_net6[0][0]                  \n",
      "                                                                 res3_net6[0][0]                  \n",
      "__________________________________________________________________________________________________\n",
      "up_sampling2d (UpSampling2D)    (None, 32, 32, 64)   0           add_5[0][0]                      \n",
      "__________________________________________________________________________________________________\n",
      "upsampling_net3 (Conv2D)        (None, 32, 32, 64)   36928       up_sampling2d[0][0]              \n",
      "__________________________________________________________________________________________________\n",
      "concatenate3 (Concatenate)      (None, 32, 32, 128)  0           add_2[0][0]                      \n",
      "                                                                 upsampling_net3[0][0]            \n",
      "__________________________________________________________________________________________________\n",
      "up_sampling2d_1 (UpSampling2D)  (None, 64, 64, 128)  0           concatenate3[0][0]               \n",
      "__________________________________________________________________________________________________\n",
      "upsampling_net2 (Conv2D)        (None, 64, 64, 32)   36896       up_sampling2d_1[0][0]            \n",
      "__________________________________________________________________________________________________\n",
      "concatenate2 (Concatenate)      (None, 64, 64, 64)   0           add_1[0][0]                      \n",
      "                                                                 upsampling_net2[0][0]            \n",
      "__________________________________________________________________________________________________\n",
      "up_sampling2d_2 (UpSampling2D)  (None, 128, 128, 64) 0           concatenate2[0][0]               \n",
      "__________________________________________________________________________________________________\n",
      "upsampling_net1 (Conv2D)        (None, 128, 128, 16) 9232        up_sampling2d_2[0][0]            \n",
      "__________________________________________________________________________________________________\n",
      "concatenate1 (Concatenate)      (None, 128, 128, 32) 0           add[0][0]                        \n",
      "                                                                 upsampling_net1[0][0]            \n",
      "__________________________________________________________________________________________________\n",
      "output (Conv2D)                 (None, 128, 128, 3)  99          concatenate1[0][0]               \n",
      "==================================================================================================\n",
      "Total params: 394,883\n",
      "Trainable params: 394,883\n",
      "Non-trainable params: 0\n",
      "__________________________________________________________________________________________________\n"
     ]
    },
    {
     "name": "stderr",
     "output_type": "stream",
     "text": [
      "c:\\Users\\jchamorro\\Anaconda3\\envs\\tf2\\lib\\site-packages\\tensorflow\\python\\keras\\optimizer_v2\\optimizer_v2.py:374: UserWarning: The `lr` argument is deprecated, use `learning_rate` instead.\n",
      "  warnings.warn(\n",
      "c:\\Users\\jchamorro\\Anaconda3\\envs\\tf2\\lib\\site-packages\\tensorflow\\python\\keras\\engine\\training.py:1969: UserWarning: `Model.fit_generator` is deprecated and will be removed in a future version. Please use `Model.fit`, which supports generators.\n",
      "  warnings.warn('`Model.fit_generator` is deprecated and '\n"
     ]
    },
    {
     "name": "stdout",
     "output_type": "stream",
     "text": [
      "Epoch 1/100\n",
      "self.global_step 0.0\n",
      "alpha Tensor(\"loss/add:0\", shape=(None, 128, 128, 3), dtype=float32)\n",
      "u Tensor(\"loss/truediv:0\", shape=(None, 128, 128, 1), dtype=float32)\n",
      "A Tensor(\"loss/Sum_3:0\", shape=(None, 3), dtype=float32)\n",
      "B Tensor(\"loss/Sum_4:0\", shape=(None, 1, 1, 3), dtype=float32)\n",
      "term1 Tensor(\"loss/truediv_7:0\", shape=(None, 1, 1, 3), dtype=float32)\n",
      "term2 Tensor(\"loss/mul_5:0\", shape=(None, 1, 1, 3), dtype=float32)\n",
      "Tensor(\"loss/Repeat_1/Reshape_1:0\", shape=(None, None, None, 1), dtype=float32)\n",
      "alpha Tensor(\"add:0\", shape=(None, 128, 128, 3), dtype=float32)\n",
      "u Tensor(\"truediv:0\", shape=(None, 128, 128, 1), dtype=float32)\n",
      "K.int_shape(KL_reg) Tensor(\"mul_6:0\", shape=(None, 128, 128, 1), dtype=float32)\n",
      "alpha Tensor(\"add_7:0\", shape=(None, 128, 128, 3), dtype=float32)\n",
      "u Tensor(\"truediv_5:0\", shape=(None, 128, 128, 1), dtype=float32)\n",
      "K.int_shape(KL_reg) Tensor(\"mul_12:0\", shape=(None, 128, 128, 1), dtype=float32)\n",
      "alpha Tensor(\"add_16:0\", shape=(None, 128, 128, 3), dtype=float32)\n",
      "u Tensor(\"truediv_13:0\", shape=(None, 128, 128, 1), dtype=float32)\n",
      "K.int_shape(Y) Tensor(\"IteratorGetNext:1\", shape=(None, None, None, None), dtype=float32)\n",
      "K.int_shape(prob) Tensor(\"truediv_15:0\", shape=(None, 128, 128, 3), dtype=float32)\n",
      "alpha Tensor(\"loss/add:0\", shape=(None, 128, 128, 3), dtype=float32)\n",
      "u Tensor(\"loss/truediv:0\", shape=(None, 128, 128, 1), dtype=float32)\n",
      "A Tensor(\"loss/Sum_3:0\", shape=(None, 3), dtype=float32)\n",
      "B Tensor(\"loss/Sum_4:0\", shape=(None, 1, 1, 3), dtype=float32)\n",
      "term1 Tensor(\"loss/truediv_7:0\", shape=(None, 1, 1, 3), dtype=float32)\n",
      "term2 Tensor(\"loss/mul_5:0\", shape=(None, 1, 1, 3), dtype=float32)\n",
      "Tensor(\"loss/Repeat_1/Reshape_1:0\", shape=(None, None, None, 1), dtype=float32)\n",
      "alpha Tensor(\"add:0\", shape=(None, 128, 128, 3), dtype=float32)\n",
      "u Tensor(\"truediv:0\", shape=(None, 128, 128, 1), dtype=float32)\n",
      "K.int_shape(KL_reg) Tensor(\"mul_6:0\", shape=(None, 128, 128, 1), dtype=float32)\n",
      "alpha Tensor(\"add_7:0\", shape=(None, 128, 128, 3), dtype=float32)\n",
      "u Tensor(\"truediv_5:0\", shape=(None, 128, 128, 1), dtype=float32)\n",
      "K.int_shape(KL_reg) Tensor(\"mul_12:0\", shape=(None, 128, 128, 1), dtype=float32)\n",
      "alpha Tensor(\"add_16:0\", shape=(None, 128, 128, 3), dtype=float32)\n",
      "u Tensor(\"truediv_13:0\", shape=(None, 128, 128, 1), dtype=float32)\n",
      "K.int_shape(Y) Tensor(\"IteratorGetNext:1\", shape=(None, None, None, None), dtype=float32)\n",
      "K.int_shape(prob) Tensor(\"truediv_15:0\", shape=(None, 128, 128, 3), dtype=float32)\n",
      "351/351 [==============================] - ETA: 0s - loss: 0.8466 - accuracy: 0.7607 - KL_term: 0.0124 - loglikelihood_term: 0.3959 - evidential_success: 12.8154 - evidential_fail: 6.1441 - acc: 0.7610 - annealing_coef: 0.0467 - global_step_get: 175.0000 - annealing_step_get: 3750.0000 - UEO_term: 0.4105alpha Tensor(\"loss/add:0\", shape=(None, 128, 128, 3), dtype=float32)\n",
      "u Tensor(\"loss/truediv:0\", shape=(None, 128, 128, 1), dtype=float32)\n",
      "A Tensor(\"loss/Sum_3:0\", shape=(None, 3), dtype=float32)\n",
      "B Tensor(\"loss/Sum_4:0\", shape=(None, 1, 1, 3), dtype=float32)\n",
      "term1 Tensor(\"loss/truediv_7:0\", shape=(None, 1, 1, 3), dtype=float32)\n",
      "term2 Tensor(\"loss/mul_5:0\", shape=(None, 1, 1, 3), dtype=float32)\n",
      "Tensor(\"loss/Repeat_1/Reshape_1:0\", shape=(None, None, None, 1), dtype=float32)\n",
      "alpha Tensor(\"add:0\", shape=(None, 128, 128, 3), dtype=float32)\n",
      "u Tensor(\"truediv:0\", shape=(None, 128, 128, 1), dtype=float32)\n",
      "K.int_shape(KL_reg) Tensor(\"mul_6:0\", shape=(None, 128, 128, 1), dtype=float32)\n",
      "alpha Tensor(\"add_7:0\", shape=(None, 128, 128, 3), dtype=float32)\n",
      "u Tensor(\"truediv_5:0\", shape=(None, 128, 128, 1), dtype=float32)\n",
      "K.int_shape(KL_reg) Tensor(\"mul_12:0\", shape=(None, 128, 128, 1), dtype=float32)\n",
      "alpha Tensor(\"add_16:0\", shape=(None, 128, 128, 3), dtype=float32)\n",
      "u Tensor(\"truediv_13:0\", shape=(None, 128, 128, 1), dtype=float32)\n",
      "K.int_shape(Y) Tensor(\"IteratorGetNext:1\", shape=(None, None, None, None), dtype=float32)\n",
      "K.int_shape(prob) Tensor(\"truediv_15:0\", shape=(None, 128, 128, 3), dtype=float32)\n",
      "351/351 [==============================] - 39s 95ms/step - loss: 0.8466 - accuracy: 0.7607 - KL_term: 0.0124 - loglikelihood_term: 0.3959 - evidential_success: 12.8154 - evidential_fail: 6.1441 - acc: 0.7610 - annealing_coef: 0.0467 - global_step_get: 175.0000 - annealing_step_get: 3750.0000 - UEO_term: 0.4105 - val_loss: 0.9334 - val_accuracy: 0.4239 - val_KL_term: 0.0577 - val_loglikelihood_term: 0.7508 - val_evidential_success: 15.4288 - val_evidential_fail: 3.8954 - val_acc: 0.4195 - val_annealing_coef: 0.0933 - val_global_step_get: 350.0000 - val_annealing_step_get: 3750.0000 - val_UEO_term: 0.5990\n",
      "\n",
      "Epoch 00001: val_loss improved from inf to 0.93336, saving model to D:/Jorge/datasets/deforestation/experiments/exp194/models\\resunet_0.h5\n",
      "Epoch 2/100\n",
      "self.global_step 350.0\n",
      "  1/351 [..............................] - ETA: 25s - loss: 0.7830 - accuracy: 0.8679 - KL_term: 0.0000e+00 - loglikelihood_term: 0.2281 - evidential_success: 22.0675 - evidential_fail: 5.8216 - acc: 0.8679 - annealing_coef: 0.0000e+00 - global_step_get: 0.0000e+00 - annealing_step_get: 3750.0000 - UEO_term: 0.3945"
     ]
    },
    {
     "name": "stderr",
     "output_type": "stream",
     "text": [
      "c:\\Users\\jchamorro\\Anaconda3\\envs\\tf2\\lib\\site-packages\\tensorflow\\python\\keras\\utils\\generic_utils.py:494: CustomMaskWarning: Custom mask layers require a config and must override get_config. When loading, the custom mask layer must be passed to the custom_objects argument.\n",
      "  warnings.warn('Custom mask layers require a config and must override '\n"
     ]
    },
    {
     "name": "stdout",
     "output_type": "stream",
     "text": [
      "351/351 [==============================] - 32s 91ms/step - loss: 0.8026 - accuracy: 0.8789 - KL_term: 0.0159 - loglikelihood_term: 0.2052 - evidential_success: 30.3942 - evidential_fail: 7.9433 - acc: 0.8789 - annealing_coef: 0.0933 - global_step_get: 350.0000 - annealing_step_get: 3750.0000 - UEO_term: 0.3818 - val_loss: 0.9303 - val_accuracy: 0.5278 - val_KL_term: 0.0762 - val_loglikelihood_term: 0.6221 - val_evidential_success: 18.9896 - val_evidential_fail: 3.5484 - val_acc: 0.5190 - val_annealing_coef: 0.1867 - val_global_step_get: 700.0000 - val_annealing_step_get: 3750.0000 - val_UEO_term: 0.4936\n",
      "\n",
      "Epoch 00002: val_loss improved from 0.93336 to 0.93030, saving model to D:/Jorge/datasets/deforestation/experiments/exp194/models\\resunet_0.h5\n",
      "Epoch 3/100\n",
      "self.global_step 700.0\n",
      "351/351 [==============================] - 32s 91ms/step - loss: 0.7953 - accuracy: 0.8979 - KL_term: 0.0174 - loglikelihood_term: 0.1761 - evidential_success: 35.9400 - evidential_fail: 7.0291 - acc: 0.8978 - annealing_coef: 0.1400 - global_step_get: 525.0000 - annealing_step_get: 3750.0000 - UEO_term: 0.4048 - val_loss: 0.9856 - val_accuracy: 0.5044 - val_KL_term: 0.1317 - val_loglikelihood_term: 0.6435 - val_evidential_success: 21.5727 - val_evidential_fail: 3.8602 - val_acc: 0.4962 - val_annealing_coef: 0.2800 - val_global_step_get: 1050.0000 - val_annealing_step_get: 3750.0000 - val_UEO_term: 0.5298\n",
      "\n",
      "Epoch 00003: val_loss did not improve from 0.93030\n",
      "Epoch 4/100\n",
      "self.global_step 1050.0\n",
      "351/351 [==============================] - 32s 91ms/step - loss: 0.7934 - accuracy: 0.9066 - KL_term: 0.0189 - loglikelihood_term: 0.1639 - evidential_success: 38.1778 - evidential_fail: 6.4366 - acc: 0.9067 - annealing_coef: 0.1867 - global_step_get: 700.0000 - annealing_step_get: 3750.0000 - UEO_term: 0.4139 - val_loss: 0.9251 - val_accuracy: 0.6566 - val_KL_term: 0.0884 - val_loglikelihood_term: 0.5146 - val_evidential_success: 18.2936 - val_evidential_fail: 2.8835 - val_acc: 0.6468 - val_annealing_coef: 0.3733 - val_global_step_get: 1400.0000 - val_annealing_step_get: 3750.0000 - val_UEO_term: 0.3779\n",
      "\n",
      "Epoch 00004: val_loss improved from 0.93030 to 0.92508, saving model to D:/Jorge/datasets/deforestation/experiments/exp194/models\\resunet_0.h5\n",
      "Epoch 5/100\n",
      "self.global_step 1400.0\n",
      "351/351 [==============================] - 32s 91ms/step - loss: 0.7932 - accuracy: 0.9115 - KL_term: 0.0201 - loglikelihood_term: 0.1585 - evidential_success: 39.4446 - evidential_fail: 5.8759 - acc: 0.9115 - annealing_coef: 0.2333 - global_step_get: 875.0000 - annealing_step_get: 3750.0000 - UEO_term: 0.4230 - val_loss: 0.9262 - val_accuracy: 0.7041 - val_KL_term: 0.0931 - val_loglikelihood_term: 0.4778 - val_evidential_success: 16.6399 - val_evidential_fail: 2.6553 - val_acc: 0.6961 - val_annealing_coef: 0.4667 - val_global_step_get: 1750.0000 - val_annealing_step_get: 3750.0000 - val_UEO_term: 0.3622\n",
      "\n",
      "Epoch 00005: val_loss did not improve from 0.92508\n",
      "Epoch 6/100\n",
      "self.global_step 1750.0\n",
      "351/351 [==============================] - 32s 91ms/step - loss: 0.7932 - accuracy: 0.9143 - KL_term: 0.0212 - loglikelihood_term: 0.1563 - evidential_success: 41.1206 - evidential_fail: 5.6352 - acc: 0.9143 - annealing_coef: 0.2800 - global_step_get: 1050.0000 - annealing_step_get: 3750.0000 - UEO_term: 0.4238 - val_loss: 0.8689 - val_accuracy: 0.8538 - val_KL_term: 0.0652 - val_loglikelihood_term: 0.3044 - val_evidential_success: 16.6646 - val_evidential_fail: 2.7982 - val_acc: 0.8551 - val_annealing_coef: 0.5600 - val_global_step_get: 2100.0000 - val_annealing_step_get: 3750.0000 - val_UEO_term: 0.3031\n",
      "\n",
      "Epoch 00006: val_loss improved from 0.92508 to 0.86892, saving model to D:/Jorge/datasets/deforestation/experiments/exp194/models\\resunet_0.h5\n",
      "Epoch 7/100\n",
      "self.global_step 2100.0\n",
      "351/351 [==============================] - 32s 91ms/step - loss: 0.7935 - accuracy: 0.9176 - KL_term: 0.0217 - loglikelihood_term: 0.1532 - evidential_success: 41.9941 - evidential_fail: 5.0456 - acc: 0.9176 - annealing_coef: 0.3267 - global_step_get: 1225.0000 - annealing_step_get: 3750.0000 - UEO_term: 0.4324 - val_loss: 0.9122 - val_accuracy: 0.7759 - val_KL_term: 0.0903 - val_loglikelihood_term: 0.4080 - val_evidential_success: 16.3614 - val_evidential_fail: 2.4296 - val_acc: 0.7742 - val_annealing_coef: 0.6533 - val_global_step_get: 2450.0000 - val_annealing_step_get: 3750.0000 - val_UEO_term: 0.3195\n",
      "\n",
      "Epoch 00007: val_loss did not improve from 0.86892\n",
      "Epoch 8/100\n",
      "self.global_step 2450.0\n",
      "351/351 [==============================] - 32s 91ms/step - loss: 0.7934 - accuracy: 0.9202 - KL_term: 0.0221 - loglikelihood_term: 0.1514 - evidential_success: 43.8436 - evidential_fail: 4.7109 - acc: 0.9201 - annealing_coef: 0.3733 - global_step_get: 1400.0000 - annealing_step_get: 3750.0000 - UEO_term: 0.4362 - val_loss: 0.8800 - val_accuracy: 0.8357 - val_KL_term: 0.0702 - val_loglikelihood_term: 0.3352 - val_evidential_success: 17.7304 - val_evidential_fail: 1.9799 - val_acc: 0.8370 - val_annealing_coef: 0.7467 - val_global_step_get: 2800.0000 - val_annealing_step_get: 3750.0000 - val_UEO_term: 0.3059\n",
      "\n",
      "Epoch 00008: val_loss did not improve from 0.86892\n",
      "Epoch 9/100\n",
      "self.global_step 2800.0\n",
      "351/351 [==============================] - 32s 91ms/step - loss: 0.7941 - accuracy: 0.9217 - KL_term: 0.0226 - loglikelihood_term: 0.1512 - evidential_success: 44.3958 - evidential_fail: 4.3948 - acc: 0.9216 - annealing_coef: 0.4200 - global_step_get: 1575.0000 - annealing_step_get: 3750.0000 - UEO_term: 0.4375 - val_loss: 0.8674 - val_accuracy: 0.8659 - val_KL_term: 0.0669 - val_loglikelihood_term: 0.2931 - val_evidential_success: 20.0710 - val_evidential_fail: 2.0709 - val_acc: 0.8673 - val_annealing_coef: 0.8400 - val_global_step_get: 3150.0000 - val_annealing_step_get: 3750.0000 - val_UEO_term: 0.3033\n",
      "\n",
      "Epoch 00009: val_loss improved from 0.86892 to 0.86735, saving model to D:/Jorge/datasets/deforestation/experiments/exp194/models\\resunet_0.h5\n",
      "Epoch 10/100\n",
      "self.global_step 3150.0\n",
      "351/351 [==============================] - 32s 91ms/step - loss: 0.7937 - accuracy: 0.9238 - KL_term: 0.0228 - loglikelihood_term: 0.1497 - evidential_success: 46.0921 - evidential_fail: 4.1939 - acc: 0.9238 - annealing_coef: 0.4667 - global_step_get: 1750.0000 - annealing_step_get: 3750.0000 - UEO_term: 0.4387 - val_loss: 0.8852 - val_accuracy: 0.8324 - val_KL_term: 0.0767 - val_loglikelihood_term: 0.3398 - val_evidential_success: 19.3996 - val_evidential_fail: 1.7727 - val_acc: 0.8329 - val_annealing_coef: 0.9333 - val_global_step_get: 3500.0000 - val_annealing_step_get: 3750.0000 - val_UEO_term: 0.3121\n",
      "\n",
      "Epoch 00010: val_loss did not improve from 0.86735\n",
      "Epoch 11/100\n",
      "self.global_step 3500.0\n",
      "351/351 [==============================] - 32s 91ms/step - loss: 0.7941 - accuracy: 0.9246 - KL_term: 0.0232 - loglikelihood_term: 0.1493 - evidential_success: 47.5910 - evidential_fail: 3.9099 - acc: 0.9247 - annealing_coef: 0.5129 - global_step_get: 1925.0000 - annealing_step_get: 3750.0000 - UEO_term: 0.4410 - val_loss: 0.8597 - val_accuracy: 0.8793 - val_KL_term: 0.0660 - val_loglikelihood_term: 0.2569 - val_evidential_success: 22.0559 - val_evidential_fail: 1.7729 - val_acc: 0.8806 - val_annealing_coef: 1.0000 - val_global_step_get: 3850.0000 - val_annealing_step_get: 3750.0000 - val_UEO_term: 0.3352\n",
      "\n",
      "Epoch 00011: val_loss improved from 0.86735 to 0.85965, saving model to D:/Jorge/datasets/deforestation/experiments/exp194/models\\resunet_0.h5\n",
      "Epoch 12/100\n",
      "self.global_step 3850.0\n",
      "351/351 [==============================] - 32s 91ms/step - loss: 0.7937 - accuracy: 0.9262 - KL_term: 0.0233 - loglikelihood_term: 0.1479 - evidential_success: 48.7826 - evidential_fail: 3.8397 - acc: 0.9262 - annealing_coef: 0.5534 - global_step_get: 2100.0000 - annealing_step_get: 3750.0000 - UEO_term: 0.4428 - val_loss: 0.9117 - val_accuracy: 0.7863 - val_KL_term: 0.0974 - val_loglikelihood_term: 0.3726 - val_evidential_success: 19.8599 - val_evidential_fail: 1.7589 - val_acc: 0.7850 - val_annealing_coef: 1.0000 - val_global_step_get: 4200.0000 - val_annealing_step_get: 3750.0000 - val_UEO_term: 0.3230\n",
      "\n",
      "Epoch 00012: val_loss did not improve from 0.85965\n",
      "Epoch 13/100\n",
      "self.global_step 4200.0\n",
      "351/351 [==============================] - 32s 91ms/step - loss: 0.7929 - accuracy: 0.9272 - KL_term: 0.0235 - loglikelihood_term: 0.1466 - evidential_success: 50.3223 - evidential_fail: 3.6239 - acc: 0.9272 - annealing_coef: 0.5877 - global_step_get: 2275.0000 - annealing_step_get: 3750.0000 - UEO_term: 0.4434 - val_loss: 0.8563 - val_accuracy: 0.8909 - val_KL_term: 0.0721 - val_loglikelihood_term: 0.2177 - val_evidential_success: 28.9140 - val_evidential_fail: 2.2648 - val_acc: 0.8922 - val_annealing_coef: 1.0000 - val_global_step_get: 4550.0000 - val_annealing_step_get: 3750.0000 - val_UEO_term: 0.3510\n",
      "\n",
      "Epoch 00013: val_loss improved from 0.85965 to 0.85629, saving model to D:/Jorge/datasets/deforestation/experiments/exp194/models\\resunet_0.h5\n",
      "Epoch 14/100\n",
      "self.global_step 4550.0\n",
      "351/351 [==============================] - 32s 91ms/step - loss: 0.7936 - accuracy: 0.9280 - KL_term: 0.0237 - loglikelihood_term: 0.1463 - evidential_success: 51.7851 - evidential_fail: 3.4725 - acc: 0.9278 - annealing_coef: 0.6170 - global_step_get: 2450.0000 - annealing_step_get: 3750.0000 - UEO_term: 0.4452 - val_loss: 0.8594 - val_accuracy: 0.8762 - val_KL_term: 0.0698 - val_loglikelihood_term: 0.2430 - val_evidential_success: 27.2750 - val_evidential_fail: 1.8866 - val_acc: 0.8778 - val_annealing_coef: 1.0000 - val_global_step_get: 4900.0000 - val_annealing_step_get: 3750.0000 - val_UEO_term: 0.3376\n",
      "\n",
      "Epoch 00014: val_loss did not improve from 0.85629\n",
      "Epoch 15/100\n",
      "self.global_step 4900.0\n",
      "351/351 [==============================] - 32s 91ms/step - loss: 0.7915 - accuracy: 0.9296 - KL_term: 0.0235 - loglikelihood_term: 0.1435 - evidential_success: 52.3760 - evidential_fail: 3.3367 - acc: 0.9296 - annealing_coef: 0.6425 - global_step_get: 2625.0000 - annealing_step_get: 3750.0000 - UEO_term: 0.4468 - val_loss: 0.8375 - val_accuracy: 0.9054 - val_KL_term: 0.0624 - val_loglikelihood_term: 0.1879 - val_evidential_success: 32.9940 - val_evidential_fail: 2.2567 - val_acc: 0.9067 - val_annealing_coef: 1.0000 - val_global_step_get: 5250.0000 - val_annealing_step_get: 3750.0000 - val_UEO_term: 0.3833\n",
      "\n",
      "Epoch 00015: val_loss improved from 0.85629 to 0.83754, saving model to D:/Jorge/datasets/deforestation/experiments/exp194/models\\resunet_0.h5\n",
      "Epoch 16/100\n",
      "self.global_step 5250.0\n",
      "351/351 [==============================] - 32s 91ms/step - loss: 0.7915 - accuracy: 0.9302 - KL_term: 0.0238 - loglikelihood_term: 0.1423 - evidential_success: 54.0919 - evidential_fail: 3.2234 - acc: 0.9302 - annealing_coef: 0.6647 - global_step_get: 2800.0000 - annealing_step_get: 3750.0000 - UEO_term: 0.4452 - val_loss: 0.9446 - val_accuracy: 0.7741 - val_KL_term: 0.1299 - val_loglikelihood_term: 0.3762 - val_evidential_success: 25.8099 - val_evidential_fail: 2.1754 - val_acc: 0.7686 - val_annealing_coef: 1.0000 - val_global_step_get: 5600.0000 - val_annealing_step_get: 3750.0000 - val_UEO_term: 0.3585\n",
      "\n",
      "Epoch 00016: val_loss did not improve from 0.83754\n",
      "Epoch 17/100\n",
      "self.global_step 5600.0\n",
      "351/351 [==============================] - 32s 91ms/step - loss: 0.7909 - accuracy: 0.9300 - KL_term: 0.0235 - loglikelihood_term: 0.1428 - evidential_success: 55.3303 - evidential_fail: 2.9948 - acc: 0.9301 - annealing_coef: 0.6843 - global_step_get: 2975.0000 - annealing_step_get: 3750.0000 - UEO_term: 0.4495 - val_loss: 0.8508 - val_accuracy: 0.9012 - val_KL_term: 0.0727 - val_loglikelihood_term: 0.1930 - val_evidential_success: 33.1544 - val_evidential_fail: 2.4734 - val_acc: 0.9021 - val_annealing_coef: 1.0000 - val_global_step_get: 5950.0000 - val_annealing_step_get: 3750.0000 - val_UEO_term: 0.3805\n",
      "\n",
      "Epoch 00017: val_loss did not improve from 0.83754\n",
      "Epoch 18/100\n",
      "self.global_step 5950.0\n",
      "351/351 [==============================] - 33s 93ms/step - loss: 0.7902 - accuracy: 0.9315 - KL_term: 0.0236 - loglikelihood_term: 0.1401 - evidential_success: 56.7809 - evidential_fail: 3.0140 - acc: 0.9315 - annealing_coef: 0.7018 - global_step_get: 3150.0000 - annealing_step_get: 3750.0000 - UEO_term: 0.4503 - val_loss: 0.8469 - val_accuracy: 0.8966 - val_KL_term: 0.0622 - val_loglikelihood_term: 0.2157 - val_evidential_success: 31.9123 - val_evidential_fail: 2.0484 - val_acc: 0.8979 - val_annealing_coef: 1.0000 - val_global_step_get: 6300.0000 - val_annealing_step_get: 3750.0000 - val_UEO_term: 0.3514\n",
      "\n",
      "Epoch 00018: val_loss did not improve from 0.83754\n",
      "Epoch 19/100\n",
      "self.global_step 6300.0\n",
      "351/351 [==============================] - 33s 94ms/step - loss: 0.7892 - accuracy: 0.9318 - KL_term: 0.0237 - loglikelihood_term: 0.1399 - evidential_success: 58.6445 - evidential_fail: 3.0011 - acc: 0.9316 - annealing_coef: 0.7174 - global_step_get: 3325.0000 - annealing_step_get: 3750.0000 - UEO_term: 0.4510 - val_loss: 0.8443 - val_accuracy: 0.9003 - val_KL_term: 0.0667 - val_loglikelihood_term: 0.1906 - val_evidential_success: 35.8623 - val_evidential_fail: 2.4119 - val_acc: 0.9016 - val_annealing_coef: 1.0000 - val_global_step_get: 6650.0000 - val_annealing_step_get: 3750.0000 - val_UEO_term: 0.3610\n",
      "\n",
      "Epoch 00019: val_loss did not improve from 0.83754\n",
      "Epoch 20/100\n",
      "self.global_step 6650.0\n",
      "351/351 [==============================] - 33s 94ms/step - loss: 0.7885 - accuracy: 0.9323 - KL_term: 0.0235 - loglikelihood_term: 0.1378 - evidential_success: 60.6803 - evidential_fail: 2.8269 - acc: 0.9323 - annealing_coef: 0.7315 - global_step_get: 3500.0000 - annealing_step_get: 3750.0000 - UEO_term: 0.4531 - val_loss: 0.8416 - val_accuracy: 0.9069 - val_KL_term: 0.0661 - val_loglikelihood_term: 0.1818 - val_evidential_success: 37.6708 - val_evidential_fail: 2.3793 - val_acc: 0.9081 - val_annealing_coef: 1.0000 - val_global_step_get: 7000.0000 - val_annealing_step_get: 3750.0000 - val_UEO_term: 0.3835\n",
      "\n",
      "Epoch 00020: val_loss did not improve from 0.83754\n",
      "Epoch 21/100\n",
      "self.global_step 7000.0\n",
      "351/351 [==============================] - 33s 94ms/step - loss: 0.7875 - accuracy: 0.9330 - KL_term: 0.0236 - loglikelihood_term: 0.1371 - evidential_success: 61.6962 - evidential_fail: 2.8425 - acc: 0.9329 - annealing_coef: 0.7442 - global_step_get: 3675.0000 - annealing_step_get: 3750.0000 - UEO_term: 0.4544 - val_loss: 0.8452 - val_accuracy: 0.8985 - val_KL_term: 0.0625 - val_loglikelihood_term: 0.2032 - val_evidential_success: 32.1859 - val_evidential_fail: 2.1504 - val_acc: 0.8999 - val_annealing_coef: 1.0000 - val_global_step_get: 7350.0000 - val_annealing_step_get: 3750.0000 - val_UEO_term: 0.3652\n",
      "\n",
      "Epoch 00021: val_loss did not improve from 0.83754\n",
      "Epoch 22/100\n",
      "self.global_step 7350.0\n",
      "351/351 [==============================] - 33s 94ms/step - loss: 0.7871 - accuracy: 0.9336 - KL_term: 0.0234 - loglikelihood_term: 0.1355 - evidential_success: 63.4120 - evidential_fail: 2.7589 - acc: 0.9336 - annealing_coef: 0.7558 - global_step_get: 3850.0000 - annealing_step_get: 3750.0000 - UEO_term: 0.4558 - val_loss: 0.8261 - val_accuracy: 0.9124 - val_KL_term: 0.0509 - val_loglikelihood_term: 0.1698 - val_evidential_success: 39.3493 - val_evidential_fail: 1.9599 - val_acc: 0.9136 - val_annealing_coef: 1.0000 - val_global_step_get: 7700.0000 - val_annealing_step_get: 3750.0000 - val_UEO_term: 0.4109\n",
      "\n",
      "Epoch 00022: val_loss improved from 0.83754 to 0.82611, saving model to D:/Jorge/datasets/deforestation/experiments/exp194/models\\resunet_0.h5\n",
      "Epoch 23/100\n",
      "self.global_step 7700.0\n",
      "351/351 [==============================] - 33s 94ms/step - loss: 0.7861 - accuracy: 0.9338 - KL_term: 0.0232 - loglikelihood_term: 0.1346 - evidential_success: 65.4061 - evidential_fail: 2.6681 - acc: 0.9339 - annealing_coef: 0.7663 - global_step_get: 4025.0000 - annealing_step_get: 3750.0000 - UEO_term: 0.4582 - val_loss: 0.8361 - val_accuracy: 0.9148 - val_KL_term: 0.0648 - val_loglikelihood_term: 0.1668 - val_evidential_success: 47.0204 - val_evidential_fail: 2.6124 - val_acc: 0.9159 - val_annealing_coef: 1.0000 - val_global_step_get: 8050.0000 - val_annealing_step_get: 3750.0000 - val_UEO_term: 0.4106\n",
      "\n",
      "Epoch 00023: val_loss did not improve from 0.82611\n",
      "Epoch 24/100\n",
      "self.global_step 8050.0\n",
      "351/351 [==============================] - 33s 94ms/step - loss: 0.7848 - accuracy: 0.9345 - KL_term: 0.0233 - loglikelihood_term: 0.1336 - evidential_success: 66.4324 - evidential_fail: 2.6107 - acc: 0.9346 - annealing_coef: 0.7760 - global_step_get: 4200.0000 - annealing_step_get: 3750.0000 - UEO_term: 0.4607 - val_loss: 0.8353 - val_accuracy: 0.9085 - val_KL_term: 0.0595 - val_loglikelihood_term: 0.1800 - val_evidential_success: 45.6261 - val_evidential_fail: 2.1550 - val_acc: 0.9098 - val_annealing_coef: 1.0000 - val_global_step_get: 8400.0000 - val_annealing_step_get: 3750.0000 - val_UEO_term: 0.4065\n",
      "\n",
      "Epoch 00024: val_loss did not improve from 0.82611\n",
      "Epoch 25/100\n",
      "self.global_step 8400.0\n",
      "351/351 [==============================] - 33s 94ms/step - loss: 0.7843 - accuracy: 0.9354 - KL_term: 0.0230 - loglikelihood_term: 0.1319 - evidential_success: 70.2774 - evidential_fail: 2.6343 - acc: 0.9353 - annealing_coef: 0.7849 - global_step_get: 4375.0000 - annealing_step_get: 3750.0000 - UEO_term: 0.4623 - val_loss: 0.8289 - val_accuracy: 0.9184 - val_KL_term: 0.0605 - val_loglikelihood_term: 0.1590 - val_evidential_success: 53.6907 - val_evidential_fail: 2.5494 - val_acc: 0.9195 - val_annealing_coef: 1.0000 - val_global_step_get: 8750.0000 - val_annealing_step_get: 3750.0000 - val_UEO_term: 0.4264\n",
      "\n",
      "Epoch 00025: val_loss did not improve from 0.82611\n",
      "Epoch 26/100\n",
      "self.global_step 8750.0\n",
      "351/351 [==============================] - 33s 94ms/step - loss: 0.7832 - accuracy: 0.9360 - KL_term: 0.0228 - loglikelihood_term: 0.1305 - evidential_success: 72.2776 - evidential_fail: 2.5341 - acc: 0.9361 - annealing_coef: 0.7931 - global_step_get: 4550.0000 - annealing_step_get: 3750.0000 - UEO_term: 0.4654 - val_loss: 0.8352 - val_accuracy: 0.9133 - val_KL_term: 0.0665 - val_loglikelihood_term: 0.1627 - val_evidential_success: 52.9077 - val_evidential_fail: 2.6637 - val_acc: 0.9145 - val_annealing_coef: 1.0000 - val_global_step_get: 9100.0000 - val_annealing_step_get: 3750.0000 - val_UEO_term: 0.4165\n",
      "\n",
      "Epoch 00026: val_loss did not improve from 0.82611\n",
      "Epoch 27/100\n",
      "self.global_step 9100.0\n",
      "351/351 [==============================] - 33s 94ms/step - loss: 0.7823 - accuracy: 0.9362 - KL_term: 0.0228 - loglikelihood_term: 0.1300 - evidential_success: 72.5185 - evidential_fail: 2.5950 - acc: 0.9362 - annealing_coef: 0.8007 - global_step_get: 4725.0000 - annealing_step_get: 3750.0000 - UEO_term: 0.4682 - val_loss: 0.8293 - val_accuracy: 0.9202 - val_KL_term: 0.0634 - val_loglikelihood_term: 0.1552 - val_evidential_success: 56.1392 - val_evidential_fail: 2.7581 - val_acc: 0.9212 - val_annealing_coef: 1.0000 - val_global_step_get: 9450.0000 - val_annealing_step_get: 3750.0000 - val_UEO_term: 0.4416\n",
      "\n",
      "Epoch 00027: val_loss did not improve from 0.82611\n",
      "Epoch 28/100\n",
      "self.global_step 9450.0\n",
      "351/351 [==============================] - 33s 94ms/step - loss: 0.7816 - accuracy: 0.9371 - KL_term: 0.0227 - loglikelihood_term: 0.1289 - evidential_success: 75.7203 - evidential_fail: 2.5688 - acc: 0.9371 - annealing_coef: 0.8078 - global_step_get: 4900.0000 - annealing_step_get: 3750.0000 - UEO_term: 0.4687 - val_loss: 0.8290 - val_accuracy: 0.9153 - val_KL_term: 0.0613 - val_loglikelihood_term: 0.1627 - val_evidential_success: 52.2378 - val_evidential_fail: 2.5799 - val_acc: 0.9165 - val_annealing_coef: 1.0000 - val_global_step_get: 9800.0000 - val_annealing_step_get: 3750.0000 - val_UEO_term: 0.4180\n",
      "\n",
      "Epoch 00028: val_loss did not improve from 0.82611\n",
      "Epoch 29/100\n",
      "self.global_step 9800.0\n",
      "351/351 [==============================] - 33s 93ms/step - loss: 0.7810 - accuracy: 0.9375 - KL_term: 0.0227 - loglikelihood_term: 0.1283 - evidential_success: 75.5175 - evidential_fail: 2.4623 - acc: 0.9375 - annealing_coef: 0.8144 - global_step_get: 5075.0000 - annealing_step_get: 3750.0000 - UEO_term: 0.4686 - val_loss: 0.8234 - val_accuracy: 0.9217 - val_KL_term: 0.0539 - val_loglikelihood_term: 0.1546 - val_evidential_success: 53.0248 - val_evidential_fail: 2.4401 - val_acc: 0.9227 - val_annealing_coef: 1.0000 - val_global_step_get: 10150.0000 - val_annealing_step_get: 3750.0000 - val_UEO_term: 0.4383\n",
      "\n",
      "Epoch 00029: val_loss improved from 0.82611 to 0.82339, saving model to D:/Jorge/datasets/deforestation/experiments/exp194/models\\resunet_0.h5\n",
      "Epoch 30/100\n",
      "self.global_step 10150.0\n",
      "351/351 [==============================] - 33s 93ms/step - loss: 0.7799 - accuracy: 0.9384 - KL_term: 0.0225 - loglikelihood_term: 0.1265 - evidential_success: 78.1304 - evidential_fail: 2.4715 - acc: 0.9384 - annealing_coef: 0.8205 - global_step_get: 5250.0000 - annealing_step_get: 3750.0000 - UEO_term: 0.4705 - val_loss: 0.8304 - val_accuracy: 0.9218 - val_KL_term: 0.0661 - val_loglikelihood_term: 0.1460 - val_evidential_success: 77.8639 - val_evidential_fail: 3.0066 - val_acc: 0.9228 - val_annealing_coef: 1.0000 - val_global_step_get: 10500.0000 - val_annealing_step_get: 3750.0000 - val_UEO_term: 0.4602\n",
      "\n",
      "Epoch 00030: val_loss did not improve from 0.82339\n",
      "Epoch 31/100\n",
      "self.global_step 10500.0\n",
      "351/351 [==============================] - 33s 93ms/step - loss: 0.7786 - accuracy: 0.9395 - KL_term: 0.0225 - loglikelihood_term: 0.1245 - evidential_success: 80.1233 - evidential_fail: 2.4604 - acc: 0.9395 - annealing_coef: 0.8263 - global_step_get: 5425.0000 - annealing_step_get: 3750.0000 - UEO_term: 0.4703 - val_loss: 0.8369 - val_accuracy: 0.9184 - val_KL_term: 0.0716 - val_loglikelihood_term: 0.1525 - val_evidential_success: 71.6761 - val_evidential_fail: 3.1286 - val_acc: 0.9195 - val_annealing_coef: 1.0000 - val_global_step_get: 10850.0000 - val_annealing_step_get: 3750.0000 - val_UEO_term: 0.4515\n",
      "\n",
      "Epoch 00031: val_loss did not improve from 0.82339\n",
      "Epoch 32/100\n",
      "self.global_step 10850.0\n",
      "351/351 [==============================] - 33s 93ms/step - loss: 0.7780 - accuracy: 0.9398 - KL_term: 0.0222 - loglikelihood_term: 0.1243 - evidential_success: 80.5165 - evidential_fail: 2.3852 - acc: 0.9398 - annealing_coef: 0.8316 - global_step_get: 5600.0000 - annealing_step_get: 3750.0000 - UEO_term: 0.4720 - val_loss: 0.8286 - val_accuracy: 0.9207 - val_KL_term: 0.0613 - val_loglikelihood_term: 0.1577 - val_evidential_success: 61.2645 - val_evidential_fail: 2.7251 - val_acc: 0.9218 - val_annealing_coef: 1.0000 - val_global_step_get: 11200.0000 - val_annealing_step_get: 3750.0000 - val_UEO_term: 0.4486\n",
      "\n",
      "Epoch 00032: val_loss did not improve from 0.82339\n",
      "Epoch 33/100\n",
      "self.global_step 11200.0\n",
      "351/351 [==============================] - 33s 93ms/step - loss: 0.7780 - accuracy: 0.9401 - KL_term: 0.0224 - loglikelihood_term: 0.1237 - evidential_success: 82.4161 - evidential_fail: 2.4735 - acc: 0.9402 - annealing_coef: 0.8367 - global_step_get: 5775.0000 - annealing_step_get: 3750.0000 - UEO_term: 0.4720 - val_loss: 0.8263 - val_accuracy: 0.9190 - val_KL_term: 0.0600 - val_loglikelihood_term: 0.1547 - val_evidential_success: 69.0679 - val_evidential_fail: 2.8431 - val_acc: 0.9197 - val_annealing_coef: 1.0000 - val_global_step_get: 11550.0000 - val_annealing_step_get: 3750.0000 - val_UEO_term: 0.4514\n",
      "\n",
      "Epoch 00033: val_loss did not improve from 0.82339\n",
      "Epoch 34/100\n",
      "self.global_step 11550.0\n",
      "351/351 [==============================] - 33s 93ms/step - loss: 0.7771 - accuracy: 0.9406 - KL_term: 0.0222 - loglikelihood_term: 0.1224 - evidential_success: 84.3589 - evidential_fail: 2.4414 - acc: 0.9406 - annealing_coef: 0.8415 - global_step_get: 5950.0000 - annealing_step_get: 3750.0000 - UEO_term: 0.4757 - val_loss: 0.8093 - val_accuracy: 0.9285 - val_KL_term: 0.0417 - val_loglikelihood_term: 0.1441 - val_evidential_success: 70.2259 - val_evidential_fail: 2.2676 - val_acc: 0.9290 - val_annealing_coef: 1.0000 - val_global_step_get: 11900.0000 - val_annealing_step_get: 3750.0000 - val_UEO_term: 0.4891\n",
      "\n",
      "Epoch 00034: val_loss improved from 0.82339 to 0.80932, saving model to D:/Jorge/datasets/deforestation/experiments/exp194/models\\resunet_0.h5\n",
      "Epoch 35/100\n",
      "self.global_step 11900.0\n",
      "351/351 [==============================] - 33s 93ms/step - loss: 0.7763 - accuracy: 0.9411 - KL_term: 0.0221 - loglikelihood_term: 0.1217 - evidential_success: 85.3777 - evidential_fail: 2.3891 - acc: 0.9412 - annealing_coef: 0.8459 - global_step_get: 6125.0000 - annealing_step_get: 3750.0000 - UEO_term: 0.4757 - val_loss: 0.8126 - val_accuracy: 0.9285 - val_KL_term: 0.0456 - val_loglikelihood_term: 0.1403 - val_evidential_success: 75.0574 - val_evidential_fail: 2.4601 - val_acc: 0.9294 - val_annealing_coef: 1.0000 - val_global_step_get: 12250.0000 - val_annealing_step_get: 3750.0000 - val_UEO_term: 0.4812\n",
      "\n",
      "Epoch 00035: val_loss did not improve from 0.80932\n",
      "Epoch 36/100\n",
      "self.global_step 12250.0\n",
      "351/351 [==============================] - 33s 93ms/step - loss: 0.7757 - accuracy: 0.9414 - KL_term: 0.0220 - loglikelihood_term: 0.1211 - evidential_success: 85.5506 - evidential_fail: 2.4191 - acc: 0.9414 - annealing_coef: 0.8502 - global_step_get: 6300.0000 - annealing_step_get: 3750.0000 - UEO_term: 0.4772 - val_loss: 0.8217 - val_accuracy: 0.9266 - val_KL_term: 0.0593 - val_loglikelihood_term: 0.1435 - val_evidential_success: 70.5580 - val_evidential_fail: 3.1417 - val_acc: 0.9276 - val_annealing_coef: 1.0000 - val_global_step_get: 12600.0000 - val_annealing_step_get: 3750.0000 - val_UEO_term: 0.4557\n",
      "\n",
      "Epoch 00036: val_loss did not improve from 0.80932\n",
      "Epoch 37/100\n",
      "self.global_step 12600.0\n",
      "351/351 [==============================] - 33s 93ms/step - loss: 0.7750 - accuracy: 0.9418 - KL_term: 0.0218 - loglikelihood_term: 0.1205 - evidential_success: 88.1612 - evidential_fail: 2.3665 - acc: 0.9418 - annealing_coef: 0.8542 - global_step_get: 6475.0000 - annealing_step_get: 3750.0000 - UEO_term: 0.4792 - val_loss: 0.8155 - val_accuracy: 0.9231 - val_KL_term: 0.0482 - val_loglikelihood_term: 0.1508 - val_evidential_success: 78.1771 - val_evidential_fail: 2.6433 - val_acc: 0.9241 - val_annealing_coef: 1.0000 - val_global_step_get: 12950.0000 - val_annealing_step_get: 3750.0000 - val_UEO_term: 0.4631\n",
      "\n",
      "Epoch 00037: val_loss did not improve from 0.80932\n",
      "Epoch 38/100\n",
      "self.global_step 12950.0\n",
      "351/351 [==============================] - 33s 93ms/step - loss: 0.7741 - accuracy: 0.9423 - KL_term: 0.0216 - loglikelihood_term: 0.1198 - evidential_success: 91.6230 - evidential_fail: 2.3442 - acc: 0.9422 - annealing_coef: 0.8580 - global_step_get: 6650.0000 - annealing_step_get: 3750.0000 - UEO_term: 0.4802 - val_loss: 0.8262 - val_accuracy: 0.9248 - val_KL_term: 0.0596 - val_loglikelihood_term: 0.1463 - val_evidential_success: 92.7736 - val_evidential_fail: 3.3630 - val_acc: 0.9257 - val_annealing_coef: 1.0000 - val_global_step_get: 13300.0000 - val_annealing_step_get: 3750.0000 - val_UEO_term: 0.4845\n",
      "\n",
      "Epoch 00038: val_loss did not improve from 0.80932\n",
      "Epoch 39/100\n",
      "self.global_step 13300.0\n",
      "351/351 [==============================] - 33s 93ms/step - loss: 0.7735 - accuracy: 0.9428 - KL_term: 0.0215 - loglikelihood_term: 0.1186 - evidential_success: 93.4942 - evidential_fail: 2.3249 - acc: 0.9428 - annealing_coef: 0.8616 - global_step_get: 6825.0000 - annealing_step_get: 3750.0000 - UEO_term: 0.4812 - val_loss: 0.8248 - val_accuracy: 0.9281 - val_KL_term: 0.0591 - val_loglikelihood_term: 0.1390 - val_evidential_success: 82.6519 - val_evidential_fail: 3.2836 - val_acc: 0.9289 - val_annealing_coef: 1.0000 - val_global_step_get: 13650.0000 - val_annealing_step_get: 3750.0000 - val_UEO_term: 0.4819\n",
      "\n",
      "Epoch 00039: val_loss did not improve from 0.80932\n",
      "Epoch 40/100\n",
      "self.global_step 13650.0\n",
      "351/351 [==============================] - 33s 93ms/step - loss: 0.7730 - accuracy: 0.9430 - KL_term: 0.0215 - loglikelihood_term: 0.1184 - evidential_success: 94.2252 - evidential_fail: 2.3118 - acc: 0.9430 - annealing_coef: 0.8650 - global_step_get: 7000.0000 - annealing_step_get: 3750.0000 - UEO_term: 0.4836 - val_loss: 0.8293 - val_accuracy: 0.9243 - val_KL_term: 0.0621 - val_loglikelihood_term: 0.1449 - val_evidential_success: 82.9489 - val_evidential_fail: 3.2348 - val_acc: 0.9253 - val_annealing_coef: 1.0000 - val_global_step_get: 14000.0000 - val_annealing_step_get: 3750.0000 - val_UEO_term: 0.4730\n",
      "\n",
      "Epoch 00040: val_loss did not improve from 0.80932\n",
      "Epoch 41/100\n",
      "self.global_step 14000.0\n",
      "351/351 [==============================] - 33s 93ms/step - loss: 0.7718 - accuracy: 0.9437 - KL_term: 0.0215 - loglikelihood_term: 0.1160 - evidential_success: 95.7935 - evidential_fail: 2.3843 - acc: 0.9438 - annealing_coef: 0.8683 - global_step_get: 7175.0000 - annealing_step_get: 3750.0000 - UEO_term: 0.4818 - val_loss: 0.8404 - val_accuracy: 0.9218 - val_KL_term: 0.0749 - val_loglikelihood_term: 0.1487 - val_evidential_success: 86.9123 - val_evidential_fail: 3.7916 - val_acc: 0.9228 - val_annealing_coef: 1.0000 - val_global_step_get: 14350.0000 - val_annealing_step_get: 3750.0000 - val_UEO_term: 0.4580\n",
      "\n",
      "Epoch 00041: val_loss did not improve from 0.80932\n",
      "Epoch 42/100\n",
      "self.global_step 14350.0\n",
      "351/351 [==============================] - 33s 93ms/step - loss: 0.7716 - accuracy: 0.9438 - KL_term: 0.0214 - loglikelihood_term: 0.1164 - evidential_success: 97.0829 - evidential_fail: 2.3137 - acc: 0.9438 - annealing_coef: 0.8714 - global_step_get: 7350.0000 - annealing_step_get: 3750.0000 - UEO_term: 0.4828 - val_loss: 0.8214 - val_accuracy: 0.9270 - val_KL_term: 0.0562 - val_loglikelihood_term: 0.1398 - val_evidential_success: 87.9709 - val_evidential_fail: 3.3081 - val_acc: 0.9280 - val_annealing_coef: 1.0000 - val_global_step_get: 14700.0000 - val_annealing_step_get: 3750.0000 - val_UEO_term: 0.4884\n",
      "\n",
      "Epoch 00042: val_loss did not improve from 0.80932\n",
      "Epoch 43/100\n",
      "self.global_step 14700.0\n",
      "351/351 [==============================] - 33s 93ms/step - loss: 0.7706 - accuracy: 0.9441 - KL_term: 0.0212 - loglikelihood_term: 0.1157 - evidential_success: 99.0803 - evidential_fail: 2.3002 - acc: 0.9439 - annealing_coef: 0.8743 - global_step_get: 7525.0000 - annealing_step_get: 3750.0000 - UEO_term: 0.4835 - val_loss: 0.8309 - val_accuracy: 0.9181 - val_KL_term: 0.0639 - val_loglikelihood_term: 0.1557 - val_evidential_success: 90.2186 - val_evidential_fail: 3.0003 - val_acc: 0.9193 - val_annealing_coef: 1.0000 - val_global_step_get: 15050.0000 - val_annealing_step_get: 3750.0000 - val_UEO_term: 0.4670\n",
      "\n",
      "Epoch 00043: val_loss did not improve from 0.80932\n",
      "Epoch 44/100\n",
      "self.global_step 15050.0\n",
      "351/351 [==============================] - 33s 93ms/step - loss: 0.7709 - accuracy: 0.9442 - KL_term: 0.0213 - loglikelihood_term: 0.1155 - evidential_success: 99.7494 - evidential_fail: 2.2838 - acc: 0.9442 - annealing_coef: 0.8772 - global_step_get: 7700.0000 - annealing_step_get: 3750.0000 - UEO_term: 0.4829 - val_loss: 0.8236 - val_accuracy: 0.9213 - val_KL_term: 0.0582 - val_loglikelihood_term: 0.1498 - val_evidential_success: 91.4467 - val_evidential_fail: 2.9576 - val_acc: 0.9225 - val_annealing_coef: 1.0000 - val_global_step_get: 15400.0000 - val_annealing_step_get: 3750.0000 - val_UEO_term: 0.4644\n",
      "\n",
      "Epoch 00044: val_loss did not improve from 0.80932\n",
      "Epoch 00044: early stopping\n",
      "-30.0 -16.0\n"
     ]
    },
    {
     "name": "stderr",
     "output_type": "stream",
     "text": [
      "ic| self.path_models+ '/' + self.method +'_'+str(0)+'.h5': 'D:/Jorge/datasets/deforestation/experiments/exp194/models/resunet_0.h5'\n"
     ]
    },
    {
     "name": "stdout",
     "output_type": "stream",
     "text": [
      "time:  0\n",
      "(54236371,)\n",
      "(array([0, 1], dtype=uint8), array([53470765,   765606], dtype=int64))\n",
      "(17730, 9200)\n",
      "(array([0., 1.], dtype=float32), array([161359966,   1756034], dtype=int64))\n"
     ]
    },
    {
     "name": "stderr",
     "output_type": "stream",
     "text": [
      "ic| self.predicted_unpad.shape: (17730, 9200)\n",
      "    self.predicted.shape: (17730, 9200)\n",
      "ic| predicted_test.shape: (81558000,)\n",
      "ic| predicted_test.shape: (54236371,)\n",
      "ic| np.unique(predicted, return_counts=True): (array([0., 1.], dtype=float32), array([161359966,   1756034], dtype=int64))\n",
      "    np.unique(predicted_larger_than_min_area, return_counts=True): (array([0., 1.], dtype=float32), array([161681613,   1434387], dtype=int64))\n",
      "ic| np.unique(ignored_polygons, return_counts=True): (array([0., 1.], dtype=float32), array([162794353,    321647], dtype=int64))\n",
      "ic| self.f1: 77.05, self.precision: 86.96, self.recall: 69.16\n",
      "ic| self.label_mask_val.shape: (16311600,)\n",
      "ic| self.label_mask_val_valid.shape: (9417288,)\n",
      "ic| f1_val: 78.85\n",
      "    precision_val: 85.01\n",
      "    recall_val: 73.53\n",
      "    mAP_val: 88.17\n"
     ]
    },
    {
     "name": "stdout",
     "output_type": "stream",
     "text": [
      "(array([0., 1.], dtype=float32), array([162297181,    818819], dtype=int64))\n",
      "[0. 1.]\n"
     ]
    },
    {
     "name": "stderr",
     "output_type": "stream",
     "text": [
      "ic| self.label_mask.shape: (17730, 9200)\n",
      "ic| self.mask_amazon_ts.shape: (17730, 9200)\n",
      "ic| self.label_mask_test.shape: (81558000,)\n",
      "ic| self.error_mask_test.shape: (54079850,)\n"
     ]
    },
    {
     "name": "stdout",
     "output_type": "stream",
     "text": [
      "(54079850,) (54079850,)\n"
     ]
    },
    {
     "name": "stderr",
     "output_type": "stream",
     "text": [
      "ic| bounds: (0.0015, 0.9985)\n"
     ]
    },
    {
     "name": "stdout",
     "output_type": "stream",
     "text": [
      "0.3845722890780702\n",
      "0\n",
      "0.38232011321635484\n",
      "threshold 0.38232011321635484\n"
     ]
    },
    {
     "name": "stderr",
     "output_type": "stream",
     "text": [
      "c:\\Users\\jchamorro\\Anaconda3\\envs\\tf2\\lib\\site-packages\\scipy\\optimize\\_minimize.py:783: RuntimeWarning: Method 'bounded' does not support relative tolerance in x; defaulting to absolute tolerance.\n",
      "  warn(\"Method 'bounded' does not support relative tolerance in x; \"\n"
     ]
    },
    {
     "name": "stdout",
     "output_type": "stream",
     "text": [
      "(51707761,) (51707761,)\n"
     ]
    },
    {
     "name": "stderr",
     "output_type": "stream",
     "text": [
      "ic| label_current_deforestation_test_classified_incorrect.shape: (2372089,)\n",
      "    predicted_test_classified_incorrect.shape: (2372089,)\n"
     ]
    },
    {
     "name": "stdout",
     "output_type": "stream",
     "text": [
      "cm_correct [[51222549    42344]\n",
      " [   19989   422879]]\n"
     ]
    },
    {
     "name": "stderr",
     "output_type": "stream",
     "text": [
      "ic| TP_H + FN_H + FP_H + TN_H: 2372089\n",
      "    len(label_mask_current_deforestation_test): 54079850\n",
      "ic| TP_H + FN_H + FP_H + TN_H: 2372089\n",
      "    len(label_mask_current_deforestation_test): 54079850\n"
     ]
    },
    {
     "name": "stdout",
     "output_type": "stream",
     "text": [
      "cm_incorrect [[2056630   32860]\n",
      " [ 203744   78855]]\n",
      "[0.90898128 0.95486465 0.58290591 0.04386271 0.70585866 0.27903496\n",
      " 0.09719104]\n",
      "0.6176798867836452\n",
      "threshold 0.6176798867836452\n",
      "(52624483,) (52624483,)\n"
     ]
    },
    {
     "name": "stderr",
     "output_type": "stream",
     "text": [
      "ic| label_current_deforestation_test_classified_incorrect.shape: (1455367,)\n",
      "    predicted_test_classified_incorrect.shape: (1455367,)\n",
      "ic| TP_H + FN_H + FP_H + TN_H: 1455367\n",
      "    len(label_mask_current_deforestation_test): 54079850\n",
      "ic|"
     ]
    },
    {
     "name": "stdout",
     "output_type": "stream",
     "text": [
      "cm_correct [[52063531    62943]\n",
      " [   26200   471809]]\n",
      "cm_incorrect [[1215648   12261]\n",
      " [ 197533   29925]]\n"
     ]
    },
    {
     "name": "stderr",
     "output_type": "stream",
     "text": [
      " TP_H + FN_H + FP_H + TN_H: 1455367\n",
      "    len(label_mask_current_deforestation_test): 54079850\n"
     ]
    },
    {
     "name": "stdout",
     "output_type": "stream",
     "text": [
      "[0.88229497 0.94739051 0.65035212 0.02691145 0.70935855 0.13156275\n",
      " 0.13583208]\n",
      "0.7631402264327096\n",
      "threshold 0.7631402264327096\n",
      "(53003500,) (53003500,)\n"
     ]
    },
    {
     "name": "stderr",
     "output_type": "stream",
     "text": [
      "ic| label_current_deforestation_test_classified_incorrect.shape: (1076350,)\n",
      "    predicted_test_classified_incorrect.shape: (1076350,)\n",
      "d:\\Jorge\\deforestation_uncertainty\\src\\metrics.py:295: RuntimeWarning: invalid value encountered in longlong_scalars\n",
      "  precision_H = TP_H / (TP_H + FP_H)\n",
      "ic| TP_H + FN_H + FP_H + TN_H: 1076350\n",
      "    len(label_mask_current_deforestation_test): 54079850\n",
      "ic| TP_H + FN_H + FP_H + TN_H: 1076350\n",
      "    len(label_mask_current_deforestation_test): 54079850\n"
     ]
    },
    {
     "name": "stdout",
     "output_type": "stream",
     "text": [
      "cm_correct [[52391680    75204]\n",
      " [   34882   501734]]\n",
      "cm_incorrect [[887499      0]\n",
      " [188851      0]]\n",
      "[0.86964977 0.93499635 0.69160141 0.01990298        nan 0.\n",
      " 0.15917504]\n",
      "0.5927692406058288\n",
      "threshold 0.5927692406058288\n",
      "(52547493,) (52547493,)\n"
     ]
    },
    {
     "name": "stderr",
     "output_type": "stream",
     "text": [
      "ic| label_current_deforestation_test_classified_incorrect.shape: (1532357,)\n",
      "    predicted_test_classified_incorrect.shape: (1532357,)\n",
      "ic"
     ]
    },
    {
     "name": "stdout",
     "output_type": "stream",
     "text": [
      "cm_correct [[51994902    60790]\n",
      " [   25554   466247]]\n",
      "cm_incorrect [[1284277   14414]\n",
      " [ 198179   35487]]\n"
     ]
    },
    {
     "name": "stderr",
     "output_type": "stream",
     "text": [
      "| TP_H + FN_H + FP_H + TN_H: 1532357\n",
      "    len(label_mask_current_deforestation_test): 54079850\n",
      "ic| TP_H + FN_H + FP_H + TN_H: 1532357\n",
      "    len(label_mask_current_deforestation_test): 54079850\n"
     ]
    },
    {
     "name": "stdout",
     "output_type": "stream",
     "text": [
      "[0.88465705 0.94803996 0.64268533 0.02833508 0.71114807 0.15187062\n",
      " 0.13133556]\n",
      "0.5123848268458062\n",
      "threshold 0.5123848268458062\n",
      "(52272916,) (52272916,)\n"
     ]
    },
    {
     "name": "stderr",
     "output_type": "stream",
     "text": [
      "ic| label_current_deforestation_test_classified_incorrect.shape: (1806934,)\n",
      "    predicted_test_classified_incorrect.shape: (1806934,)\n"
     ]
    },
    {
     "name": "stdout",
     "output_type": "stream",
     "text": [
      "cm_correct [[51745329    54008]\n",
      " [   23576   450003]]\n"
     ]
    },
    {
     "name": "stderr",
     "output_type": "stream",
     "text": [
      "ic| TP_H + FN_H + FP_H + TN_H: 1806934\n",
      "    len(label_mask_current_deforestation_test): 54079850\n",
      "ic| TP_H + FN_H + FP_H + TN_H: 1806934\n",
      "    len(label_mask_current_deforestation_test): 54079850\n"
     ]
    },
    {
     "name": "stdout",
     "output_type": "stream",
     "text": [
      "cm_incorrect [[1533850   21196]\n",
      " [ 200157   51731]]\n",
      "[0.89284361 0.95021739 0.62029424 0.03341233 0.70935319 0.20537302\n",
      " 0.11745868]\n",
      "0.5670845115586073\n",
      "threshold 0.5670845115586073\n",
      "(52464159,) (52464159,)\n"
     ]
    },
    {
     "name": "stderr",
     "output_type": "stream",
     "text": [
      "ic| label_current_deforestation_test_classified_incorrect.shape: (1615691,)\n",
      "    predicted_test_classified_incorrect.shape: (1615691,)\n",
      "ic"
     ]
    },
    {
     "name": "stdout",
     "output_type": "stream",
     "text": [
      "cm_correct [[51919800    58596]\n",
      " [   24902   460861]]\n",
      "cm_incorrect [[1359379   16608]\n",
      " [ 198831   40873]]\n"
     ]
    },
    {
     "name": "stderr",
     "output_type": "stream",
     "text": [
      "| TP_H + FN_H + FP_H + TN_H: 1615691\n",
      "    len(label_mask_current_deforestation_test): 54079850\n",
      "ic| TP_H + FN_H + FP_H + TN_H: 1615691\n",
      "    len(label_mask_current_deforestation_test): 54079850\n"
     ]
    },
    {
     "name": "stdout",
     "output_type": "stream",
     "text": [
      "[0.88719759 0.94873632 0.63526115 0.02987603 0.71106974 0.17051447\n",
      " 0.12678931]\n",
      "0.5461910911722203\n",
      "threshold 0.5461910911722203\n",
      "(52393086,) (52393086,)\n"
     ]
    },
    {
     "name": "stderr",
     "output_type": "stream",
     "text": [
      "ic| label_current_deforestation_test_classified_incorrect.shape: (1686764,)\n",
      "    predicted_test_classified_incorrect.shape: (1686764,)\n"
     ]
    },
    {
     "name": "stdout",
     "output_type": "stream",
     "text": [
      "cm_correct [[51855279    56797]\n",
      " [   24385   456625]]\n"
     ]
    },
    {
     "name": "stderr",
     "output_type": "stream",
     "text": [
      "ic| TP_H + FN_H + FP_H + TN_H: 1686764\n",
      "    len(label_mask_current_deforestation_test): 54079850\n",
      "ic| TP_H + FN_H + FP_H + TN_H: 1686764\n",
      "    len(label_mask_current_deforestation_test): 54079850\n"
     ]
    },
    {
     "name": "stdout",
     "output_type": "stream",
     "text": [
      "cm_incorrect [[1423900   18407]\n",
      " [ 199348   45109]]\n",
      "[0.8893756  0.94930459 0.62942215 0.03119025 0.710199   0.18452734\n",
      " 0.12316835]\n",
      "0.5673425696059541\n",
      "threshold 0.5673425696059541\n",
      "(52465026,) (52465026,)\n"
     ]
    },
    {
     "name": "stderr",
     "output_type": "stream",
     "text": [
      "ic| label_current_deforestation_test_classified_incorrect.shape: (1614824,)\n",
      "    predicted_test_classified_incorrect.shape: (1614824,)\n",
      "ic"
     ]
    },
    {
     "name": "stdout",
     "output_type": "stream",
     "text": [
      "cm_correct [[51920580    58619]\n",
      " [   24908   460919]]\n",
      "cm_incorrect [[1358599   16585]\n",
      " [ 198825   40815]]\n"
     ]
    },
    {
     "name": "stderr",
     "output_type": "stream",
     "text": [
      "| TP_H + FN_H + FP_H + TN_H: 1614824\n",
      "    len(label_mask_current_deforestation_test): 54079850\n",
      "ic| TP_H + FN_H + FP_H + TN_H: 1614824\n",
      "    len(label_mask_current_deforestation_test): 54079850\n"
     ]
    },
    {
     "name": "stdout",
     "output_type": "stream",
     "text": [
      "[0.88717091 0.94873072 0.6353411  0.02985999 0.71106272 0.17031798\n",
      " 0.12683479]\n",
      "0.5614073954440004\n",
      "threshold 0.5614073954440004\n",
      "(52445361,) (52445361,)\n"
     ]
    },
    {
     "name": "stderr",
     "output_type": "stream",
     "text": [
      "ic| label_current_deforestation_test_classified_incorrect.shape: (1634489,)\n",
      "    predicted_test_classified_incorrect.shape: (1634489,)\n",
      "ic"
     ]
    },
    {
     "name": "stdout",
     "output_type": "stream",
     "text": [
      "cm_correct [[51902757    58086]\n",
      " [   24771   459747]]\n",
      "cm_incorrect [[1376422   17118]\n",
      " [ 198962   41987]]\n"
     ]
    },
    {
     "name": "stderr",
     "output_type": "stream",
     "text": [
      "| TP_H + FN_H + FP_H + TN_H: 1634489\n",
      "    len(label_mask_current_deforestation_test): 54079850\n",
      "ic| TP_H + FN_H + FP_H + TN_H: 1634489\n",
      "    len(label_mask_current_deforestation_test): 54079850\n"
     ]
    },
    {
     "name": "stdout",
     "output_type": "stream",
     "text": [
      "[0.8878287  0.94887496 0.63372559 0.03022362 0.71037983 0.17425679\n",
      " 0.12582205]\n",
      "0.5649160461609072\n",
      "threshold 0.5649160461609072\n",
      "(52456962,) (52456962,)\n"
     ]
    },
    {
     "name": "stderr",
     "output_type": "stream",
     "text": [
      "ic| label_current_deforestation_test_classified_incorrect.shape: (1622888,)\n",
      "    predicted_test_classified_incorrect.shape: (1622888,)\n",
      "ic"
     ]
    },
    {
     "name": "stdout",
     "output_type": "stream",
     "text": [
      "cm_correct [[51913272    58405]\n",
      " [   24848   460437]]\n",
      "cm_incorrect [[1365907   16799]\n",
      " [ 198885   41297]]\n"
     ]
    },
    {
     "name": "stderr",
     "output_type": "stream",
     "text": [
      "| TP_H + FN_H + FP_H + TN_H: 1622888\n",
      "    len(label_mask_current_deforestation_test): 54079850\n",
      "ic| TP_H + FN_H + FP_H + TN_H: 1622888\n",
      "    len(label_mask_current_deforestation_test): 54079850\n"
     ]
    },
    {
     "name": "stdout",
     "output_type": "stream",
     "text": [
      "[0.88743201 0.9487971  0.6346767  0.03000911 0.71084068 0.17194045\n",
      " 0.12641628]\n",
      "0.5635758608417005\n",
      "threshold 0.5635758608417005\n",
      "(52452627,) (52452627,)\n"
     ]
    },
    {
     "name": "stderr",
     "output_type": "stream",
     "text": [
      "ic| label_current_deforestation_test_classified_incorrect.shape: (1627223,)\n",
      "    predicted_test_classified_incorrect.shape: (1627223,)\n",
      "ic"
     ]
    },
    {
     "name": "stdout",
     "output_type": "stream",
     "text": [
      "cm_correct [[51909350    58284]\n",
      " [   24822   460171]]\n",
      "cm_incorrect [[1369829   16920]\n",
      " [ 198911   41563]]\n"
     ]
    },
    {
     "name": "stderr",
     "output_type": "stream",
     "text": [
      "| TP_H + FN_H + FP_H + TN_H: 1627223\n",
      "    len(label_mask_current_deforestation_test): 54079850\n",
      "ic| TP_H + FN_H + FP_H + TN_H: 1627223\n",
      "    len(label_mask_current_deforestation_test): 54079850\n"
     ]
    },
    {
     "name": "stdout",
     "output_type": "stream",
     "text": [
      "[0.88758137 0.94881988 0.63431004 0.03008927 0.71068516 0.17283781\n",
      " 0.12619268]\n",
      "0.565176316739369\n",
      "threshold 0.565176316739369\n",
      "(52457818,) (52457818,)\n"
     ]
    },
    {
     "name": "stderr",
     "output_type": "stream",
     "text": [
      "ic| label_current_deforestation_test_classified_incorrect.shape: (1622032,)\n",
      "    predicted_test_classified_incorrect.shape: (1622032,)\n",
      "ic"
     ]
    },
    {
     "name": "stdout",
     "output_type": "stream",
     "text": [
      "cm_correct [[51914035    58433]\n",
      " [   24860   460490]]\n",
      "cm_incorrect [[1365144   16771]\n",
      " [ 198873   41244]]\n"
     ]
    },
    {
     "name": "stderr",
     "output_type": "stream",
     "text": [
      "| TP_H + FN_H + FP_H + TN_H: 1622032\n",
      "    len(label_mask_current_deforestation_test): 54079850\n",
      "ic| TP_H + FN_H + FP_H + TN_H: 1622032\n",
      "    len(label_mask_current_deforestation_test): 54079850\n"
     ]
    },
    {
     "name": "stdout",
     "output_type": "stream",
     "text": [
      "[0.88739563 0.94877923 0.63474975 0.02999328 0.71091959 0.17176626\n",
      " 0.12645332]\n",
      "0.5652096584556218\n",
      "threshold 0.5652096584556218\n",
      "(52457939,) (52457939,)\n"
     ]
    },
    {
     "name": "stderr",
     "output_type": "stream",
     "text": [
      "ic| label_current_deforestation_test_classified_incorrect.shape: (1621911,)\n",
      "    predicted_test_classified_incorrect.shape: (1621911,)\n",
      "ic"
     ]
    },
    {
     "name": "stdout",
     "output_type": "stream",
     "text": [
      "cm_correct [[51914143    58436]\n",
      " [   24862   460498]]\n",
      "cm_incorrect [[1365036   16768]\n",
      " [ 198871   41236]]\n"
     ]
    },
    {
     "name": "stderr",
     "output_type": "stream",
     "text": [
      "| TP_H + FN_H + FP_H + TN_H: 1621911\n",
      "    len(label_mask_current_deforestation_test): 54079850\n",
      "ic| TP_H + FN_H + FP_H + TN_H: 1621911\n",
      "    len(label_mask_current_deforestation_test): 54079850\n"
     ]
    },
    {
     "name": "stdout",
     "output_type": "stream",
     "text": [
      "[0.88739223 0.94877617 0.63476078 0.02999104 0.71091649 0.1717401\n",
      " 0.12645899]\n",
      "0.5650638220697976\n",
      "threshold 0.5650638220697976\n",
      "(52457454,) (52457454,)\n"
     ]
    },
    {
     "name": "stderr",
     "output_type": "stream",
     "text": [
      "ic| label_current_deforestation_test_classified_incorrect.shape: (1622396,)\n",
      "    predicted_test_classified_incorrect.shape: (1622396,)\n",
      "ic"
     ]
    },
    {
     "name": "stdout",
     "output_type": "stream",
     "text": [
      "cm_correct [[51913707    58423]\n",
      " [   24857   460467]]\n",
      "cm_incorrect [[1365472   16781]\n",
      " [ 198876   41267]]\n"
     ]
    },
    {
     "name": "stderr",
     "output_type": "stream",
     "text": [
      "| TP_H + FN_H + FP_H + TN_H: 1622396\n",
      "    len(label_mask_current_deforestation_test): 54079850\n",
      "ic| TP_H + FN_H + FP_H + TN_H: 1622396\n",
      "    len(label_mask_current_deforestation_test): 54079850\n"
     ]
    },
    {
     "name": "stdout",
     "output_type": "stream",
     "text": [
      "[0.88740774 0.94878267 0.63471805 0.03000001 0.71091166 0.17184344\n",
      " 0.12643491]\n",
      "0.5650073766953199\n",
      "threshold 0.5650073766953199\n",
      "(52457264,) (52457264,)\n"
     ]
    },
    {
     "name": "stderr",
     "output_type": "stream",
     "text": [
      "ic| label_current_deforestation_test_classified_incorrect.shape: (1622586,)\n",
      "    predicted_test_classified_incorrect.shape: (1622586,)\n",
      "ic"
     ]
    },
    {
     "name": "stdout",
     "output_type": "stream",
     "text": [
      "cm_correct [[51913540    58414]\n",
      " [   24852   460458]]\n",
      "cm_incorrect [[1365639   16790]\n",
      " [ 198881   41276]]\n"
     ]
    },
    {
     "name": "stderr",
     "output_type": "stream",
     "text": [
      "| TP_H + FN_H + FP_H + TN_H: 1622586\n",
      "    len(label_mask_current_deforestation_test): 54079850\n",
      "ic| TP_H + FN_H + FP_H + TN_H: 1622586\n",
      "    len(label_mask_current_deforestation_test): 54079850\n"
     ]
    },
    {
     "name": "stdout",
     "output_type": "stream",
     "text": [
      "[0.88742118 0.94879149 0.63470564 0.03000352 0.71084628 0.1718709\n",
      " 0.12643008]\n",
      "0.5650971637843818\n",
      "threshold 0.5650971637843818\n",
      "(52457577,) (52457577,)\n"
     ]
    },
    {
     "name": "stderr",
     "output_type": "stream",
     "text": [
      "ic| label_current_deforestation_test_classified_incorrect.shape: (1622273,)\n",
      "    predicted_test_classified_incorrect.shape: (1622273,)\n",
      "ic"
     ]
    },
    {
     "name": "stdout",
     "output_type": "stream",
     "text": [
      "cm_correct [[51913818    58424]\n",
      " [   24859   460476]]\n",
      "cm_incorrect [[1365361   16780]\n",
      " [ 198874   41258]]\n"
     ]
    },
    {
     "name": "stderr",
     "output_type": "stream",
     "text": [
      "| TP_H + FN_H + FP_H + TN_H: 1622273\n",
      "    len(label_mask_current_deforestation_test): 54079850\n",
      "ic| TP_H + FN_H + FP_H + TN_H: 1622273\n",
      "    len(label_mask_current_deforestation_test): 54079850\n",
      "ic| self.threshold_optimal: 0.5650638220697976\n"
     ]
    },
    {
     "name": "stdout",
     "output_type": "stream",
     "text": [
      "[0.88740798 0.94877971 0.63473046 0.02999773 0.71087908 0.17181384\n",
      " 0.12644205]\n",
      "threshold 0.5650638220697976\n",
      "(52457454,) (52457454,)\n"
     ]
    },
    {
     "name": "stderr",
     "output_type": "stream",
     "text": [
      "ic| label_current_deforestation_test_classified_incorrect.shape: (1622396,)\n",
      "    predicted_test_classified_incorrect.shape: (1622396,)\n",
      "ic"
     ]
    },
    {
     "name": "stdout",
     "output_type": "stream",
     "text": [
      "cm_correct [[51913707    58423]\n",
      " [   24857   460467]]\n",
      "cm_incorrect [[1365472   16781]\n",
      " [ 198876   41267]]\n"
     ]
    },
    {
     "name": "stderr",
     "output_type": "stream",
     "text": [
      "| TP_H + FN_H + FP_H + TN_H: 1622396\n",
      "    len(label_mask_current_deforestation_test): 54079850\n",
      "ic| TP_H + FN_H + FP_H + TN_H: 1622396\n",
      "    len(label_mask_current_deforestation_test): 54079850\n"
     ]
    },
    {
     "name": "stdout",
     "output_type": "stream",
     "text": [
      "[0.88740774 0.94878267 0.63471805 0.03000001 0.71091166 0.17184344\n",
      " 0.12643491]\n",
      "threshold 0.5650638220697976\n",
      "(54079850,) (54079850,)\n"
     ]
    },
    {
     "name": "stderr",
     "output_type": "stream",
     "text": [
      "ic| self.m_optimal: {'AA': array([0.03000001]),\n",
      "                     'UEO': array([0.12643491]),\n",
      "                     'f1': 77.05,\n",
      "                     'f1_H': array([0.27678233]),\n",
      "                     'f1_L': array([0.91706947]),\n",
      "                     'precision_H': array([0.71091166]),\n",
      "                     'precision_L': array([0.88740774]),\n",
      "                     'recall_H': array([0.17184344]),\n",
      "                     'recall_L': array([0.94878267]),\n",
      "                     'recall_Ltotal': array([0.63471805])}\n",
      "ic| self.m_audited_optimal: {'f1': array([0.9439003]),\n",
      "                             'precision': array([0.9230297]),\n",
      "                             'recall': array([0.96573655])}\n"
     ]
    },
    {
     "name": "stdout",
     "output_type": "stream",
     "text": [
      "cm_audited [[53295960    58423]\n",
      " [   24857   700610]]\n",
      "[0.9230297  0.96573655]\n",
      "Result idx 0: {'other_uncertainty_metrics': {'sUEO': 0.3845722890780702, 'ece_score': 0}, 'snippet_poi_results': [{'snippet_id': 0, 'coords': [550, 550], 'reference': 0, 'predicted': 0.0, 'alpha': array([132.42505,   1.     ,   1.     ], dtype=float32)}, {'snippet_id': 0, 'coords': [210, 610], 'reference': 1, 'predicted': 0.0, 'alpha': array([1., 1., 1.], dtype=float32)}, {'snippet_id': 0, 'coords': [207, 617], 'reference': 1, 'predicted': 0.0, 'alpha': array([1., 1., 1.], dtype=float32)}, {'snippet_id': 0, 'coords': [800, 200], 'reference': 1, 'predicted': 1.0, 'alpha': array([ 1.     , 49.57395,  1.     ], dtype=float32)}, {'snippet_id': 1, 'coords': [550, 115], 'reference': 1, 'predicted': 0.0, 'alpha': array([1.       , 1.5210117, 1.       ], dtype=float32)}, {'snippet_id': 1, 'coords': [430, 950], 'reference': 0, 'predicted': 0.0, 'alpha': array([1., 1., 1.], dtype=float32)}], 'uncertainty_result': {'metrics': {'precision_L': array([0.88740774]), 'recall_L': array([0.94878267]), 'recall_Ltotal': array([0.63471805]), 'AA': array([0.03000001]), 'precision_H': array([0.71091166]), 'recall_H': array([0.17184344]), 'UEO': array([0.12643491]), 'f1_L': array([0.91706947]), 'f1_H': array([0.27678233]), 'f1': 77.05}, 'metrics_audited': {'precision': array([0.9230297]), 'recall': array([0.96573655]), 'f1': array([0.9439003])}, 'exp': 194}}\n",
      "Grid execution idx: 1\n",
      "Beginning run number 1\n",
      "D:/Jorge/datasets/deforestation/Para/deforestation_past_years.tif\n",
      "Loaded deforestation past years\n"
     ]
    },
    {
     "name": "stderr",
     "output_type": "stream",
     "text": [
      "ic| np.unique(deforestation_past_years, return_counts=True): (array([   0, 2008, 2009, 2010, 2011, 2012, 2013, 2014, 2015, 2016, 2017,\n",
      "                                                                    2018, 2019, 2020, 2021], dtype=uint16),\n",
      "                                                              array([132185553,   3150503,   4571354,    864429,    903608,   1299506,\n",
      "                                                                      2477971,   1561686,   1459696,    969060,    644976,   2209014,\n",
      "                                                                      2100204,   5257014,   3514616], dtype=int64))\n"
     ]
    },
    {
     "name": "stdout",
     "output_type": "stream",
     "text": [
      "Label where deforestation past years is actual date (2019) = 1\n"
     ]
    },
    {
     "name": "stderr",
     "output_type": "stream",
     "text": [
      "ic| np.unique(deforestation_past_years, return_counts=True): (array([   0, 2008, 2009, 2010, 2011, 2012, 2013, 2014, 2015, 2016, 2017,\n",
      "                                                                    2018, 2019, 2020, 2021], dtype=uint16),\n",
      "                                                              array([132185553,   3150503,   4571354,    864429,    903608,   1299506,\n",
      "                                                                      2477971,   1561686,   1459696,    969060,    644976,   2209014,\n",
      "                                                                      2100204,   5257014,   3514616], dtype=int64))\n"
     ]
    },
    {
     "name": "stdout",
     "output_type": "stream",
     "text": [
      "Past deforestation different from 0 (no deforestation)\n"
     ]
    },
    {
     "name": "stderr",
     "output_type": "stream",
     "text": [
      "ic| np.unique(deforestation_past_years, return_counts=True): (array([   0, 2008, 2009, 2010, 2011, 2012, 2013, 2014, 2015, 2016, 2017,\n",
      "                                                                    2018, 2019, 2020, 2021], dtype=uint16),\n",
      "                                                              array([132185553,   3150503,   4571354,    864429,    903608,   1299506,\n",
      "                                                                      2477971,   1561686,   1459696,    969060,    644976,   2209014,\n",
      "                                                                      2100204,   5257014,   3514616], dtype=int64))\n"
     ]
    },
    {
     "name": "stdout",
     "output_type": "stream",
     "text": [
      "Past deforestation before 2008 is 2\n",
      "D:/Jorge/datasets/deforestation/deforestation_before_2008/deforestation_before_2008_para.tif\n"
     ]
    },
    {
     "name": "stderr",
     "output_type": "stream",
     "text": [
      "ic| np.unique(label_past_deforestation_before_2008, return_counts=True): (array([  0, 215], dtype=uint8), array([124211220,  38957970], dtype=int64))\n",
      "ic| np.unique(deforestation_past_years, return_counts=True): (array([   0, 2008, 2009, 2010, 2011, 2012, 2013, 2014, 2015, 2016, 2017,\n",
      "                                                                    2018, 2019, 2020, 2021], dtype=uint16),\n",
      "                                                              array([132185553,   3150503,   4571354,    864429,    903608,   1299506,\n",
      "                                                                      2477971,   1561686,   1459696,    969060,    644976,   2209014,\n",
      "                                                                      2100204,   5257014,   3514616], dtype=int64))\n",
      "ic| label_per_date.shape: (17730, 9203, 1)\n"
     ]
    },
    {
     "name": "stdout",
     "output_type": "stream",
     "text": [
      "Mask label shape:  \n",
      " (17730, 9203, 1) \n",
      " Unique values:  \n",
      " [0 1 2]\n",
      "Tiles size:  3546 2300\n",
      "Mask size:  (17730, 9200)\n"
     ]
    },
    {
     "name": "stderr",
     "output_type": "stream",
     "text": [
      "ic| image_stack.shape: (17730, 9203, 21)\n"
     ]
    },
    {
     "name": "stdout",
     "output_type": "stream",
     "text": [
      "Image shape:  (17730, 9203, 21)\n",
      "mask:  (17730, 9200)\n",
      "image stack:  (17730, 9200, 21)\n",
      "ref : (17730, 9200, 1)\n",
      "Training tiles:  [1, 3, 5, 8, 11, 13, 14, 20]\n",
      "Validation tiles:  [6, 19]\n",
      "Test tiles:  [2, 4, 7, 9, 10, 12, 15, 16, 17, 18]\n"
     ]
    },
    {
     "name": "stderr",
     "output_type": "stream",
     "text": [
      "ic| im_idx_row.shape: (17730, 9200, 1)\n",
      "    im_idx_col.shape: (17730, 9200, 1)\n",
      "ic| im_idx_row.dtype: dtype('uint16')\n",
      "    im_idx_col.dtype: dtype('uint16')\n",
      "ic| im_idx.shape: (17730, 9200, 2), im_idx.dtype: dtype('uint16')\n",
      "ic| coords.shape: (464, 239, 1, 128, 128, 2)\n",
      "    coords.dtype: dtype('uint16')\n",
      "ic| coords.shape: (110896, 2), coords.dtype: dtype('uint16')\n",
      "ic| self.coords_train.shape: (41812, 3)\n",
      "    self.coords_val.shape: (10260, 3)\n"
     ]
    },
    {
     "name": "stdout",
     "output_type": "stream",
     "text": [
      "training samples:  (3753, 3) validation samples:  (1032, 3)\n",
      "time:  0\n",
      "Model: \"model_2\"\n",
      "__________________________________________________________________________________________________\n",
      "Layer (type)                    Output Shape         Param #     Connected to                     \n",
      "==================================================================================================\n",
      "input_enc_net (InputLayer)      [(None, 128, 128, 21 0                                            \n",
      "__________________________________________________________________________________________________\n",
      "res1_net1 (Conv2D)              (None, 128, 128, 16) 3040        input_enc_net[0][0]              \n",
      "__________________________________________________________________________________________________\n",
      "drop_net1 (Dropout)             (None, 128, 128, 16) 0           res1_net1[0][0]                  \n",
      "__________________________________________________________________________________________________\n",
      "res2_net1 (Conv2D)              (None, 128, 128, 16) 2320        drop_net1[0][0]                  \n",
      "__________________________________________________________________________________________________\n",
      "res3_net1 (Conv2D)              (None, 128, 128, 16) 352         input_enc_net[0][0]              \n",
      "__________________________________________________________________________________________________\n",
      "add_12 (Add)                    (None, 128, 128, 16) 0           res2_net1[0][0]                  \n",
      "                                                                 res3_net1[0][0]                  \n",
      "__________________________________________________________________________________________________\n",
      "pool_net1 (MaxPooling2D)        (None, 64, 64, 16)   0           add_12[0][0]                     \n",
      "__________________________________________________________________________________________________\n",
      "res1_net2 (Conv2D)              (None, 64, 64, 32)   4640        pool_net1[0][0]                  \n",
      "__________________________________________________________________________________________________\n",
      "drop_net2 (Dropout)             (None, 64, 64, 32)   0           res1_net2[0][0]                  \n",
      "__________________________________________________________________________________________________\n",
      "res2_net2 (Conv2D)              (None, 64, 64, 32)   9248        drop_net2[0][0]                  \n",
      "__________________________________________________________________________________________________\n",
      "res3_net2 (Conv2D)              (None, 64, 64, 32)   544         pool_net1[0][0]                  \n",
      "__________________________________________________________________________________________________\n",
      "add_13 (Add)                    (None, 64, 64, 32)   0           res2_net2[0][0]                  \n",
      "                                                                 res3_net2[0][0]                  \n",
      "__________________________________________________________________________________________________\n",
      "pool_net2 (MaxPooling2D)        (None, 32, 32, 32)   0           add_13[0][0]                     \n",
      "__________________________________________________________________________________________________\n",
      "res1_net3 (Conv2D)              (None, 32, 32, 64)   18496       pool_net2[0][0]                  \n",
      "__________________________________________________________________________________________________\n",
      "drop_net3 (Dropout)             (None, 32, 32, 64)   0           res1_net3[0][0]                  \n",
      "__________________________________________________________________________________________________\n",
      "res2_net3 (Conv2D)              (None, 32, 32, 64)   36928       drop_net3[0][0]                  \n",
      "__________________________________________________________________________________________________\n",
      "res3_net3 (Conv2D)              (None, 32, 32, 64)   2112        pool_net2[0][0]                  \n",
      "__________________________________________________________________________________________________\n",
      "add_14 (Add)                    (None, 32, 32, 64)   0           res2_net3[0][0]                  \n",
      "                                                                 res3_net3[0][0]                  \n",
      "__________________________________________________________________________________________________\n",
      "pool_net3 (MaxPooling2D)        (None, 16, 16, 64)   0           add_14[0][0]                     \n",
      "__________________________________________________________________________________________________\n",
      "res1_net4 (Conv2D)              (None, 16, 16, 64)   36928       pool_net3[0][0]                  \n",
      "__________________________________________________________________________________________________\n",
      "drop_net4 (Dropout)             (None, 16, 16, 64)   0           res1_net4[0][0]                  \n",
      "__________________________________________________________________________________________________\n",
      "res2_net4 (Conv2D)              (None, 16, 16, 64)   36928       drop_net4[0][0]                  \n",
      "__________________________________________________________________________________________________\n",
      "res3_net4 (Conv2D)              (None, 16, 16, 64)   4160        pool_net3[0][0]                  \n",
      "__________________________________________________________________________________________________\n",
      "add_15 (Add)                    (None, 16, 16, 64)   0           res2_net4[0][0]                  \n",
      "                                                                 res3_net4[0][0]                  \n",
      "__________________________________________________________________________________________________\n",
      "res1_net5 (Conv2D)              (None, 16, 16, 64)   36928       add_15[0][0]                     \n",
      "__________________________________________________________________________________________________\n",
      "drop_net5 (Dropout)             (None, 16, 16, 64)   0           res1_net5[0][0]                  \n",
      "__________________________________________________________________________________________________\n",
      "res2_net5 (Conv2D)              (None, 16, 16, 64)   36928       drop_net5[0][0]                  \n",
      "__________________________________________________________________________________________________\n",
      "res3_net5 (Conv2D)              (None, 16, 16, 64)   4160        add_15[0][0]                     \n",
      "__________________________________________________________________________________________________\n",
      "add_16 (Add)                    (None, 16, 16, 64)   0           res2_net5[0][0]                  \n",
      "                                                                 res3_net5[0][0]                  \n",
      "__________________________________________________________________________________________________\n",
      "res1_net6 (Conv2D)              (None, 16, 16, 64)   36928       add_16[0][0]                     \n",
      "__________________________________________________________________________________________________\n",
      "drop_net6 (Dropout)             (None, 16, 16, 64)   0           res1_net6[0][0]                  \n",
      "__________________________________________________________________________________________________\n",
      "res2_net6 (Conv2D)              (None, 16, 16, 64)   36928       drop_net6[0][0]                  \n",
      "__________________________________________________________________________________________________\n",
      "res3_net6 (Conv2D)              (None, 16, 16, 64)   4160        add_16[0][0]                     \n",
      "__________________________________________________________________________________________________\n",
      "add_17 (Add)                    (None, 16, 16, 64)   0           res2_net6[0][0]                  \n",
      "                                                                 res3_net6[0][0]                  \n",
      "__________________________________________________________________________________________________\n",
      "up_sampling2d_6 (UpSampling2D)  (None, 32, 32, 64)   0           add_17[0][0]                     \n",
      "__________________________________________________________________________________________________\n",
      "upsampling_net3 (Conv2D)        (None, 32, 32, 64)   36928       up_sampling2d_6[0][0]            \n",
      "__________________________________________________________________________________________________\n",
      "concatenate3 (Concatenate)      (None, 32, 32, 128)  0           add_14[0][0]                     \n",
      "                                                                 upsampling_net3[0][0]            \n",
      "__________________________________________________________________________________________________\n",
      "up_sampling2d_7 (UpSampling2D)  (None, 64, 64, 128)  0           concatenate3[0][0]               \n",
      "__________________________________________________________________________________________________\n",
      "upsampling_net2 (Conv2D)        (None, 64, 64, 32)   36896       up_sampling2d_7[0][0]            \n",
      "__________________________________________________________________________________________________\n",
      "concatenate2 (Concatenate)      (None, 64, 64, 64)   0           add_13[0][0]                     \n",
      "                                                                 upsampling_net2[0][0]            \n",
      "__________________________________________________________________________________________________\n",
      "up_sampling2d_8 (UpSampling2D)  (None, 128, 128, 64) 0           concatenate2[0][0]               \n",
      "__________________________________________________________________________________________________\n",
      "upsampling_net1 (Conv2D)        (None, 128, 128, 16) 9232        up_sampling2d_8[0][0]            \n",
      "__________________________________________________________________________________________________\n",
      "concatenate1 (Concatenate)      (None, 128, 128, 32) 0           add_12[0][0]                     \n",
      "                                                                 upsampling_net1[0][0]            \n",
      "__________________________________________________________________________________________________\n",
      "output (Conv2D)                 (None, 128, 128, 3)  99          concatenate1[0][0]               \n",
      "==================================================================================================\n",
      "Total params: 394,883\n",
      "Trainable params: 394,883\n",
      "Non-trainable params: 0\n",
      "__________________________________________________________________________________________________\n"
     ]
    },
    {
     "name": "stderr",
     "output_type": "stream",
     "text": [
      "c:\\Users\\jchamorro\\Anaconda3\\envs\\tf2\\lib\\site-packages\\tensorflow\\python\\keras\\optimizer_v2\\optimizer_v2.py:374: UserWarning: The `lr` argument is deprecated, use `learning_rate` instead.\n",
      "  warnings.warn(\n",
      "c:\\Users\\jchamorro\\Anaconda3\\envs\\tf2\\lib\\site-packages\\tensorflow\\python\\keras\\engine\\training.py:1969: UserWarning: `Model.fit_generator` is deprecated and will be removed in a future version. Please use `Model.fit`, which supports generators.\n",
      "  warnings.warn('`Model.fit_generator` is deprecated and '\n"
     ]
    },
    {
     "name": "stdout",
     "output_type": "stream",
     "text": [
      "Epoch 1/100\n",
      "self.global_step 0.0\n",
      "alpha Tensor(\"loss/add:0\", shape=(None, 128, 128, 3), dtype=float32)\n",
      "u Tensor(\"loss/truediv:0\", shape=(None, 128, 128, 1), dtype=float32)\n",
      "A Tensor(\"loss/Sum_3:0\", shape=(None, 3), dtype=float32)\n",
      "B Tensor(\"loss/Sum_4:0\", shape=(None, 1, 1, 3), dtype=float32)\n",
      "term1 Tensor(\"loss/truediv_7:0\", shape=(None, 1, 1, 3), dtype=float32)\n",
      "term2 Tensor(\"loss/mul_5:0\", shape=(None, 1, 1, 3), dtype=float32)\n",
      "Tensor(\"loss/Repeat_1/Reshape_1:0\", shape=(None, None, None, 1), dtype=float32)\n",
      "alpha Tensor(\"add:0\", shape=(None, 128, 128, 3), dtype=float32)\n",
      "u Tensor(\"truediv:0\", shape=(None, 128, 128, 1), dtype=float32)\n",
      "K.int_shape(KL_reg) Tensor(\"mul_6:0\", shape=(None, 128, 128, 1), dtype=float32)\n",
      "alpha Tensor(\"add_7:0\", shape=(None, 128, 128, 3), dtype=float32)\n",
      "u Tensor(\"truediv_5:0\", shape=(None, 128, 128, 1), dtype=float32)\n",
      "K.int_shape(KL_reg) Tensor(\"mul_12:0\", shape=(None, 128, 128, 1), dtype=float32)\n",
      "alpha Tensor(\"add_16:0\", shape=(None, 128, 128, 3), dtype=float32)\n",
      "u Tensor(\"truediv_13:0\", shape=(None, 128, 128, 1), dtype=float32)\n",
      "K.int_shape(Y) Tensor(\"IteratorGetNext:1\", shape=(None, None, None, None), dtype=float32)\n",
      "K.int_shape(prob) Tensor(\"truediv_15:0\", shape=(None, 128, 128, 3), dtype=float32)\n",
      "alpha Tensor(\"loss/add:0\", shape=(None, 128, 128, 3), dtype=float32)\n",
      "u Tensor(\"loss/truediv:0\", shape=(None, 128, 128, 1), dtype=float32)\n",
      "A Tensor(\"loss/Sum_3:0\", shape=(None, 3), dtype=float32)\n",
      "B Tensor(\"loss/Sum_4:0\", shape=(None, 1, 1, 3), dtype=float32)\n",
      "term1 Tensor(\"loss/truediv_7:0\", shape=(None, 1, 1, 3), dtype=float32)\n",
      "term2 Tensor(\"loss/mul_5:0\", shape=(None, 1, 1, 3), dtype=float32)\n",
      "Tensor(\"loss/Repeat_1/Reshape_1:0\", shape=(None, None, None, 1), dtype=float32)\n",
      "alpha Tensor(\"add:0\", shape=(None, 128, 128, 3), dtype=float32)\n",
      "u Tensor(\"truediv:0\", shape=(None, 128, 128, 1), dtype=float32)\n",
      "K.int_shape(KL_reg) Tensor(\"mul_6:0\", shape=(None, 128, 128, 1), dtype=float32)\n",
      "alpha Tensor(\"add_7:0\", shape=(None, 128, 128, 3), dtype=float32)\n",
      "u Tensor(\"truediv_5:0\", shape=(None, 128, 128, 1), dtype=float32)\n",
      "K.int_shape(KL_reg) Tensor(\"mul_12:0\", shape=(None, 128, 128, 1), dtype=float32)\n",
      "alpha Tensor(\"add_16:0\", shape=(None, 128, 128, 3), dtype=float32)\n",
      "u Tensor(\"truediv_13:0\", shape=(None, 128, 128, 1), dtype=float32)\n",
      "K.int_shape(Y) Tensor(\"IteratorGetNext:1\", shape=(None, None, None, None), dtype=float32)\n",
      "K.int_shape(prob) Tensor(\"truediv_15:0\", shape=(None, 128, 128, 3), dtype=float32)\n",
      "351/351 [==============================] - ETA: 0s - loss: 0.8817 - accuracy: 0.7278 - KL_term: 0.0062 - loglikelihood_term: 0.4290 - evidential_success: 14.0969 - evidential_fail: 2.5512 - acc: 0.7280 - annealing_coef: 0.0467 - global_step_get: 175.0000 - annealing_step_get: 3750.0000 - UEO_term: 0.6998alpha Tensor(\"loss/add:0\", shape=(None, 128, 128, 3), dtype=float32)\n",
      "u Tensor(\"loss/truediv:0\", shape=(None, 128, 128, 1), dtype=float32)\n",
      "A Tensor(\"loss/Sum_3:0\", shape=(None, 3), dtype=float32)\n",
      "B Tensor(\"loss/Sum_4:0\", shape=(None, 1, 1, 3), dtype=float32)\n",
      "term1 Tensor(\"loss/truediv_7:0\", shape=(None, 1, 1, 3), dtype=float32)\n",
      "term2 Tensor(\"loss/mul_5:0\", shape=(None, 1, 1, 3), dtype=float32)\n",
      "Tensor(\"loss/Repeat_1/Reshape_1:0\", shape=(None, None, None, 1), dtype=float32)\n",
      "alpha Tensor(\"add:0\", shape=(None, 128, 128, 3), dtype=float32)\n",
      "u Tensor(\"truediv:0\", shape=(None, 128, 128, 1), dtype=float32)\n",
      "K.int_shape(KL_reg) Tensor(\"mul_6:0\", shape=(None, 128, 128, 1), dtype=float32)\n",
      "alpha Tensor(\"add_7:0\", shape=(None, 128, 128, 3), dtype=float32)\n",
      "u Tensor(\"truediv_5:0\", shape=(None, 128, 128, 1), dtype=float32)\n",
      "K.int_shape(KL_reg) Tensor(\"mul_12:0\", shape=(None, 128, 128, 1), dtype=float32)\n",
      "alpha Tensor(\"add_16:0\", shape=(None, 128, 128, 3), dtype=float32)\n",
      "u Tensor(\"truediv_13:0\", shape=(None, 128, 128, 1), dtype=float32)\n",
      "K.int_shape(Y) Tensor(\"IteratorGetNext:1\", shape=(None, None, None, None), dtype=float32)\n",
      "K.int_shape(prob) Tensor(\"truediv_15:0\", shape=(None, 128, 128, 3), dtype=float32)\n",
      "351/351 [==============================] - 36s 93ms/step - loss: 0.8817 - accuracy: 0.7278 - KL_term: 0.0062 - loglikelihood_term: 0.4290 - evidential_success: 14.0969 - evidential_fail: 2.5512 - acc: 0.7280 - annealing_coef: 0.0467 - global_step_get: 175.0000 - annealing_step_get: 3750.0000 - UEO_term: 0.6998 - val_loss: 0.8793 - val_accuracy: 0.8470 - val_KL_term: 0.0260 - val_loglikelihood_term: 0.3158 - val_evidential_success: 47.0752 - val_evidential_fail: 12.5877 - val_acc: 0.8485 - val_annealing_coef: 0.0933 - val_global_step_get: 350.0000 - val_annealing_step_get: 3750.0000 - val_UEO_term: 0.6715\n",
      "\n",
      "Epoch 00001: val_loss improved from inf to 0.87933, saving model to D:/Jorge/datasets/deforestation/experiments/exp195/models\\resunet_0.h5\n",
      "Epoch 2/100\n",
      "self.global_step 350.0\n",
      "  1/351 [..............................] - ETA: 28s - loss: 0.8556 - accuracy: 0.8425 - KL_term: 0.0000e+00 - loglikelihood_term: 0.2852 - evidential_success: 31.2731 - evidential_fail: 2.5885 - acc: 0.8425 - annealing_coef: 0.0000e+00 - global_step_get: 0.0000e+00 - annealing_step_get: 3750.0000 - UEO_term: 0.7634"
     ]
    },
    {
     "name": "stderr",
     "output_type": "stream",
     "text": [
      "c:\\Users\\jchamorro\\Anaconda3\\envs\\tf2\\lib\\site-packages\\tensorflow\\python\\keras\\utils\\generic_utils.py:494: CustomMaskWarning: Custom mask layers require a config and must override get_config. When loading, the custom mask layer must be passed to the custom_objects argument.\n",
      "  warnings.warn('Custom mask layers require a config and must override '\n"
     ]
    },
    {
     "name": "stdout",
     "output_type": "stream",
     "text": [
      "351/351 [==============================] - 32s 92ms/step - loss: 0.8090 - accuracy: 0.8860 - KL_term: 0.0158 - loglikelihood_term: 0.1991 - evidential_success: 31.7483 - evidential_fail: 8.1952 - acc: 0.8860 - annealing_coef: 0.0933 - global_step_get: 350.0000 - annealing_step_get: 3750.0000 - UEO_term: 0.3896 - val_loss: 0.8129 - val_accuracy: 0.8946 - val_KL_term: 0.0318 - val_loglikelihood_term: 0.1846 - val_evidential_success: 34.4563 - val_evidential_fail: 7.4932 - val_acc: 0.8958 - val_annealing_coef: 0.1867 - val_global_step_get: 700.0000 - val_annealing_step_get: 3750.0000 - val_UEO_term: 0.3886\n",
      "\n",
      "Epoch 00002: val_loss improved from 0.87933 to 0.81290, saving model to D:/Jorge/datasets/deforestation/experiments/exp195/models\\resunet_0.h5\n",
      "Epoch 3/100\n",
      "self.global_step 700.0\n",
      "351/351 [==============================] - 32s 91ms/step - loss: 0.7955 - accuracy: 0.9030 - KL_term: 0.0172 - loglikelihood_term: 0.1697 - evidential_success: 38.7231 - evidential_fail: 7.3930 - acc: 0.9030 - annealing_coef: 0.1400 - global_step_get: 525.0000 - annealing_step_get: 3750.0000 - UEO_term: 0.3850 - val_loss: 0.8098 - val_accuracy: 0.9050 - val_KL_term: 0.0367 - val_loglikelihood_term: 0.1643 - val_evidential_success: 42.8045 - val_evidential_fail: 6.4320 - val_acc: 0.9061 - val_annealing_coef: 0.2800 - val_global_step_get: 1050.0000 - val_annealing_step_get: 3750.0000 - val_UEO_term: 0.4134kelihood_term: 0.1687 - evidential_success: 40.3582 - evidential_fail: 8.4503 - acc: 0.9019 - annealin\n",
      "\n",
      "Epoch 00003: val_loss improved from 0.81290 to 0.80976, saving model to D:/Jorge/datasets/deforestation/experiments/exp195/models\\resunet_0.h5\n",
      "Epoch 4/100\n",
      "self.global_step 1050.0\n",
      "351/351 [==============================] - 32s 91ms/step - loss: 0.7927 - accuracy: 0.9107 - KL_term: 0.0186 - loglikelihood_term: 0.1596 - evidential_success: 43.6612 - evidential_fail: 6.6931 - acc: 0.9107 - annealing_coef: 0.1867 - global_step_get: 700.0000 - annealing_step_get: 3750.0000 - UEO_term: 0.4098 - val_loss: 0.8116 - val_accuracy: 0.9112 - val_KL_term: 0.0366 - val_loglikelihood_term: 0.1562 - val_evidential_success: 40.1704 - val_evidential_fail: 4.8372 - val_acc: 0.9122 - val_annealing_coef: 0.3733 - val_global_step_get: 1400.0000 - val_annealing_step_get: 3750.0000 - val_UEO_term: 0.4333ikelihood_term: 0.1585 - evidential_success: 44.7827 - evidential_fail: 7.0810 - acc: 0.9104 - annealing_coef: 0.1659 - global_step_get: 622.0000 - annealin\n",
      "\n",
      "Epoch 00004: val_loss did not improve from 0.80976\n",
      "Epoch 5/100\n",
      "self.global_step 1400.0\n",
      "351/351 [==============================] - 32s 91ms/step - loss: 0.7915 - accuracy: 0.9159 - KL_term: 0.0199 - loglikelihood_term: 0.1537 - evidential_success: 45.2811 - evidential_fail: 6.0655 - acc: 0.9159 - annealing_coef: 0.2333 - global_step_get: 875.0000 - annealing_step_get: 3750.0000 - UEO_term: 0.4234 - val_loss: 0.8083 - val_accuracy: 0.9141 - val_KL_term: 0.0363 - val_loglikelihood_term: 0.1571 - val_evidential_success: 36.8425 - val_evidential_fail: 3.6376 - val_acc: 0.9151 - val_annealing_coef: 0.4667 - val_global_step_get: 1750.0000 - val_annealing_step_get: 3750.0000 - val_UEO_term: 0.4249\n",
      "\n",
      "Epoch 00005: val_loss improved from 0.80976 to 0.80828, saving model to D:/Jorge/datasets/deforestation/experiments/exp195/models\\resunet_0.h5\n",
      "Epoch 6/100\n",
      "self.global_step 1750.0\n",
      "351/351 [==============================] - 32s 91ms/step - loss: 0.7922 - accuracy: 0.9183 - KL_term: 0.0210 - loglikelihood_term: 0.1523 - evidential_success: 47.5107 - evidential_fail: 5.6987 - acc: 0.9182 - annealing_coef: 0.2800 - global_step_get: 1050.0000 - annealing_step_get: 3750.0000 - UEO_term: 0.4298 - val_loss: 0.8128 - val_accuracy: 0.9173 - val_KL_term: 0.0405 - val_loglikelihood_term: 0.1536 - val_evidential_success: 42.4609 - val_evidential_fail: 3.7136 - val_acc: 0.9182 - val_annealing_coef: 0.5600 - val_global_step_get: 2100.0000 - val_annealing_step_get: 3750.0000 - val_UEO_term: 0.4496\n",
      "\n",
      "Epoch 00006: val_loss did not improve from 0.80828\n",
      "Epoch 7/100\n",
      "self.global_step 2100.0\n",
      "351/351 [==============================] - 32s 92ms/step - loss: 0.7918 - accuracy: 0.9213 - KL_term: 0.0216 - loglikelihood_term: 0.1501 - evidential_success: 48.5486 - evidential_fail: 5.2071 - acc: 0.9212 - annealing_coef: 0.3267 - global_step_get: 1225.0000 - annealing_step_get: 3750.0000 - UEO_term: 0.4351 - val_loss: 0.8118 - val_accuracy: 0.9198 - val_KL_term: 0.0389 - val_loglikelihood_term: 0.1553 - val_evidential_success: 40.4290 - val_evidential_fail: 2.9495 - val_acc: 0.9207 - val_annealing_coef: 0.6533 - val_global_step_get: 2450.0000 - val_annealing_step_get: 3750.0000 - val_UEO_term: 0.4510\n",
      "\n",
      "Epoch 00007: val_loss did not improve from 0.80828\n",
      "Epoch 8/100\n",
      "self.global_step 2450.0\n",
      "351/351 [==============================] - 32s 92ms/step - loss: 0.7922 - accuracy: 0.9235 - KL_term: 0.0221 - loglikelihood_term: 0.1479 - evidential_success: 51.3999 - evidential_fail: 4.8868 - acc: 0.9235 - annealing_coef: 0.3733 - global_step_get: 1400.0000 - annealing_step_get: 3750.0000 - UEO_term: 0.4401 - val_loss: 0.8134 - val_accuracy: 0.9190 - val_KL_term: 0.0402 - val_loglikelihood_term: 0.1605 - val_evidential_success: 36.8117 - val_evidential_fail: 2.5716 - val_acc: 0.9199 - val_annealing_coef: 0.7467 - val_global_step_get: 2800.0000 - val_annealing_step_get: 3750.0000 - val_UEO_term: 0.4425\n",
      "\n",
      "Epoch 00008: val_loss did not improve from 0.80828\n",
      "Epoch 9/100\n",
      "self.global_step 2800.0\n",
      "351/351 [==============================] - 32s 91ms/step - loss: 0.7917 - accuracy: 0.9251 - KL_term: 0.0222 - loglikelihood_term: 0.1468 - evidential_success: 52.3615 - evidential_fail: 4.4922 - acc: 0.9251 - annealing_coef: 0.4200 - global_step_get: 1575.0000 - annealing_step_get: 3750.0000 - UEO_term: 0.4432 - val_loss: 0.8114 - val_accuracy: 0.9238 - val_KL_term: 0.0409 - val_loglikelihood_term: 0.1533 - val_evidential_success: 41.4171 - val_evidential_fail: 2.4147 - val_acc: 0.9246 - val_annealing_coef: 0.8400 - val_global_step_get: 3150.0000 - val_annealing_step_get: 3750.0000 - val_UEO_term: 0.4425\n",
      "\n",
      "Epoch 00009: val_loss did not improve from 0.80828\n",
      "Epoch 10/100\n",
      "self.global_step 3150.0\n",
      "351/351 [==============================] - 32s 91ms/step - loss: 0.7916 - accuracy: 0.9269 - KL_term: 0.0226 - loglikelihood_term: 0.1452 - evidential_success: 54.6124 - evidential_fail: 4.2622 - acc: 0.9269 - annealing_coef: 0.4667 - global_step_get: 1750.0000 - annealing_step_get: 3750.0000 - UEO_term: 0.4454 - val_loss: 0.8143 - val_accuracy: 0.9232 - val_KL_term: 0.0460 - val_loglikelihood_term: 0.1541 - val_evidential_success: 39.4967 - val_evidential_fail: 2.4212 - val_acc: 0.9241 - val_annealing_coef: 0.9333 - val_global_step_get: 3500.0000 - val_annealing_step_get: 3750.0000 - val_UEO_term: 0.4471\n",
      "\n",
      "Epoch 00010: val_loss did not improve from 0.80828\n",
      "Epoch 11/100\n",
      "self.global_step 3500.0\n",
      "351/351 [==============================] - 32s 91ms/step - loss: 0.7919 - accuracy: 0.9280 - KL_term: 0.0232 - loglikelihood_term: 0.1452 - evidential_success: 56.5967 - evidential_fail: 4.1964 - acc: 0.9280 - annealing_coef: 0.5129 - global_step_get: 1925.0000 - annealing_step_get: 3750.0000 - UEO_term: 0.4454 - val_loss: 0.8174 - val_accuracy: 0.9211 - val_KL_term: 0.0473 - val_loglikelihood_term: 0.1554 - val_evidential_success: 42.0688 - val_evidential_fail: 2.3527 - val_acc: 0.9221 - val_annealing_coef: 1.0000 - val_global_step_get: 3850.0000 - val_annealing_step_get: 3750.0000 - val_UEO_term: 0.4608\n",
      "\n",
      "Epoch 00011: val_loss did not improve from 0.80828\n",
      "Epoch 12/100\n",
      "self.global_step 3850.0\n",
      "351/351 [==============================] - 32s 91ms/step - loss: 0.7913 - accuracy: 0.9299 - KL_term: 0.0233 - loglikelihood_term: 0.1431 - evidential_success: 58.3170 - evidential_fail: 3.8833 - acc: 0.9299 - annealing_coef: 0.5534 - global_step_get: 2100.0000 - annealing_step_get: 3750.0000 - UEO_term: 0.4470 - val_loss: 0.8170 - val_accuracy: 0.9231 - val_KL_term: 0.0483 - val_loglikelihood_term: 0.1500 - val_evidential_success: 41.1258 - val_evidential_fail: 2.3369 - val_acc: 0.9240 - val_annealing_coef: 1.0000 - val_global_step_get: 4200.0000 - val_annealing_step_get: 3750.0000 - val_UEO_term: 0.4501\n",
      "\n",
      "Epoch 00012: val_loss did not improve from 0.80828\n",
      "Epoch 13/100\n",
      "self.global_step 4200.0\n",
      "351/351 [==============================] - 32s 91ms/step - loss: 0.7904 - accuracy: 0.9306 - KL_term: 0.0232 - loglikelihood_term: 0.1432 - evidential_success: 60.1664 - evidential_fail: 3.7059 - acc: 0.9306 - annealing_coef: 0.5877 - global_step_get: 2275.0000 - annealing_step_get: 3750.0000 - UEO_term: 0.4525 - val_loss: 0.8131 - val_accuracy: 0.9255 - val_KL_term: 0.0440 - val_loglikelihood_term: 0.1477 - val_evidential_success: 53.0641 - val_evidential_fail: 2.4942 - val_acc: 0.9263 - val_annealing_coef: 1.0000 - val_global_step_get: 4550.0000 - val_annealing_step_get: 3750.0000 - val_UEO_term: 0.4713\n",
      "\n",
      "Epoch 00013: val_loss did not improve from 0.80828\n",
      "Epoch 14/100\n",
      "self.global_step 4550.0\n",
      "351/351 [==============================] - 32s 91ms/step - loss: 0.7901 - accuracy: 0.9315 - KL_term: 0.0233 - loglikelihood_term: 0.1420 - evidential_success: 62.2093 - evidential_fail: 3.5373 - acc: 0.9316 - annealing_coef: 0.6170 - global_step_get: 2450.0000 - annealing_step_get: 3750.0000 - UEO_term: 0.4534 - val_loss: 0.8074 - val_accuracy: 0.9249 - val_KL_term: 0.0385 - val_loglikelihood_term: 0.1575 - val_evidential_success: 55.4884 - val_evidential_fail: 2.1930 - val_acc: 0.9258 - val_annealing_coef: 1.0000 - val_global_step_get: 4900.0000 - val_annealing_step_get: 3750.0000 - val_UEO_term: 0.4614\n",
      "\n",
      "Epoch 00014: val_loss improved from 0.80828 to 0.80744, saving model to D:/Jorge/datasets/deforestation/experiments/exp195/models\\resunet_0.h5\n",
      "Epoch 15/100\n",
      "self.global_step 4900.0\n",
      "351/351 [==============================] - 32s 91ms/step - loss: 0.7901 - accuracy: 0.9324 - KL_term: 0.0233 - loglikelihood_term: 0.1407 - evidential_success: 64.1921 - evidential_fail: 3.5083 - acc: 0.9325 - annealing_coef: 0.6425 - global_step_get: 2625.0000 - annealing_step_get: 3750.0000 - UEO_term: 0.4563 - val_loss: 0.8101 - val_accuracy: 0.9261 - val_KL_term: 0.0456 - val_loglikelihood_term: 0.1438 - val_evidential_success: 61.0669 - val_evidential_fail: 2.5386 - val_acc: 0.9270 - val_annealing_coef: 1.0000 - val_global_step_get: 5250.0000 - val_annealing_step_get: 3750.0000 - val_UEO_term: 0.4774\n",
      "\n",
      "Epoch 00015: val_loss did not improve from 0.80744\n",
      "Epoch 16/100\n",
      "self.global_step 5250.0\n",
      "351/351 [==============================] - 32s 91ms/step - loss: 0.7888 - accuracy: 0.9331 - KL_term: 0.0233 - loglikelihood_term: 0.1400 - evidential_success: 66.9581 - evidential_fail: 3.3584 - acc: 0.9330 - annealing_coef: 0.6647 - global_step_get: 2800.0000 - annealing_step_get: 3750.0000 - UEO_term: 0.4616 - val_loss: 0.8079 - val_accuracy: 0.9271 - val_KL_term: 0.0433 - val_loglikelihood_term: 0.1438 - val_evidential_success: 57.3638 - val_evidential_fail: 2.4210 - val_acc: 0.9280 - val_annealing_coef: 1.0000 - val_global_step_get: 5600.0000 - val_annealing_step_get: 3750.0000 - val_UEO_term: 0.4668\n",
      "\n",
      "Epoch 00016: val_loss did not improve from 0.80744\n",
      "Epoch 17/100\n",
      "self.global_step 5600.0\n",
      "351/351 [==============================] - 32s 91ms/step - loss: 0.7886 - accuracy: 0.9339 - KL_term: 0.0233 - loglikelihood_term: 0.1383 - evidential_success: 68.8324 - evidential_fail: 3.1522 - acc: 0.9339 - annealing_coef: 0.6843 - global_step_get: 2975.0000 - annealing_step_get: 3750.0000 - UEO_term: 0.4626 - val_loss: 0.8120 - val_accuracy: 0.9274 - val_KL_term: 0.0473 - val_loglikelihood_term: 0.1429 - val_evidential_success: 69.4669 - val_evidential_fail: 2.6730 - val_acc: 0.9279 - val_annealing_coef: 1.0000 - val_global_step_get: 5950.0000 - val_annealing_step_get: 3750.0000 - val_UEO_term: 0.4665\n",
      "\n",
      "Epoch 00017: val_loss did not improve from 0.80744\n",
      "Epoch 18/100\n",
      "self.global_step 5950.0\n",
      "351/351 [==============================] - 32s 91ms/step - loss: 0.7875 - accuracy: 0.9345 - KL_term: 0.0232 - loglikelihood_term: 0.1369 - evidential_success: 71.0576 - evidential_fail: 3.1309 - acc: 0.9346 - annealing_coef: 0.7018 - global_step_get: 3150.0000 - annealing_step_get: 3750.0000 - UEO_term: 0.4660 - val_loss: 0.8097 - val_accuracy: 0.9298 - val_KL_term: 0.0419 - val_loglikelihood_term: 0.1435 - val_evidential_success: 70.5569 - val_evidential_fail: 2.4619 - val_acc: 0.9306 - val_annealing_coef: 1.0000 - val_global_step_get: 6300.0000 - val_annealing_step_get: 3750.0000 - val_UEO_term: 0.4807\n",
      "\n",
      "Epoch 00018: val_loss did not improve from 0.80744\n",
      "Epoch 19/100\n",
      "self.global_step 6300.0\n",
      "351/351 [==============================] - 32s 91ms/step - loss: 0.7872 - accuracy: 0.9348 - KL_term: 0.0231 - loglikelihood_term: 0.1374 - evidential_success: 71.5041 - evidential_fail: 3.0291 - acc: 0.9347 - annealing_coef: 0.7174 - global_step_get: 3325.0000 - annealing_step_get: 3750.0000 - UEO_term: 0.4674 - val_loss: 0.8043 - val_accuracy: 0.9337 - val_KL_term: 0.0386 - val_loglikelihood_term: 0.1381 - val_evidential_success: 70.4721 - val_evidential_fail: 2.6286 - val_acc: 0.9343 - val_annealing_coef: 1.0000 - val_global_step_get: 6650.0000 - val_annealing_step_get: 3750.0000 - val_UEO_term: 0.4695\n",
      "\n",
      "Epoch 00019: val_loss improved from 0.80744 to 0.80426, saving model to D:/Jorge/datasets/deforestation/experiments/exp195/models\\resunet_0.h5\n",
      "Epoch 20/100\n",
      "self.global_step 6650.0\n",
      "351/351 [==============================] - 32s 91ms/step - loss: 0.7863 - accuracy: 0.9354 - KL_term: 0.0232 - loglikelihood_term: 0.1354 - evidential_success: 73.0622 - evidential_fail: 3.0919 - acc: 0.9354 - annealing_coef: 0.7315 - global_step_get: 3500.0000 - annealing_step_get: 3750.0000 - UEO_term: 0.4677 - val_loss: 0.8261 - val_accuracy: 0.9246 - val_KL_term: 0.0657 - val_loglikelihood_term: 0.1423 - val_evidential_success: 66.4306 - val_evidential_fail: 3.3604 - val_acc: 0.9255 - val_annealing_coef: 1.0000 - val_global_step_get: 7000.0000 - val_annealing_step_get: 3750.0000 - val_UEO_term: 0.4401\n",
      "\n",
      "Epoch 00020: val_loss did not improve from 0.80426\n",
      "Epoch 21/100\n",
      "self.global_step 7000.0\n",
      "351/351 [==============================] - 32s 91ms/step - loss: 0.7854 - accuracy: 0.9358 - KL_term: 0.0230 - loglikelihood_term: 0.1352 - evidential_success: 74.2226 - evidential_fail: 2.8572 - acc: 0.9358 - annealing_coef: 0.7442 - global_step_get: 3675.0000 - annealing_step_get: 3750.0000 - UEO_term: 0.4722 - val_loss: 0.8173 - val_accuracy: 0.9286 - val_KL_term: 0.0519 - val_loglikelihood_term: 0.1402 - val_evidential_success: 62.8006 - val_evidential_fail: 2.9955 - val_acc: 0.9293 - val_annealing_coef: 1.0000 - val_global_step_get: 7350.0000 - val_annealing_step_get: 3750.0000 - val_UEO_term: 0.4656 - ETA: 8s - loss: 0.7817 - accuracy: 0.93\n",
      "\n",
      "Epoch 00021: val_loss did not improve from 0.80426\n",
      "Epoch 22/100\n",
      "self.global_step 7350.0\n",
      "351/351 [==============================] - 32s 91ms/step - loss: 0.7852 - accuracy: 0.9366 - KL_term: 0.0231 - loglikelihood_term: 0.1335 - evidential_success: 76.4414 - evidential_fail: 2.9376 - acc: 0.9367 - annealing_coef: 0.7558 - global_step_get: 3850.0000 - annealing_step_get: 3750.0000 - UEO_term: 0.4721 - val_loss: 0.8110 - val_accuracy: 0.9313 - val_KL_term: 0.0434 - val_loglikelihood_term: 0.1430 - val_evidential_success: 74.1097 - val_evidential_fail: 2.6627 - val_acc: 0.9320 - val_annealing_coef: 1.0000 - val_global_step_get: 7700.0000 - val_annealing_step_get: 3750.0000 - val_UEO_term: 0.4770\n",
      "\n",
      "Epoch 00022: val_loss did not improve from 0.80426\n",
      "Epoch 23/100\n",
      "self.global_step 7700.0\n",
      "351/351 [==============================] - 32s 91ms/step - loss: 0.7842 - accuracy: 0.9370 - KL_term: 0.0230 - loglikelihood_term: 0.1327 - evidential_success: 78.6141 - evidential_fail: 2.8149 - acc: 0.9371 - annealing_coef: 0.7663 - global_step_get: 4025.0000 - annealing_step_get: 3750.0000 - UEO_term: 0.4714 - val_loss: 0.8251 - val_accuracy: 0.9274 - val_KL_term: 0.0611 - val_loglikelihood_term: 0.1440 - val_evidential_success: 74.3151 - val_evidential_fail: 3.2982 - val_acc: 0.9281 - val_annealing_coef: 1.0000 - val_global_step_get: 8050.0000 - val_annealing_step_get: 3750.0000 - val_UEO_term: 0.4431\n",
      "\n",
      "Epoch 00023: val_loss did not improve from 0.80426\n",
      "Epoch 24/100\n",
      "self.global_step 8050.0\n",
      "351/351 [==============================] - 32s 91ms/step - loss: 0.7834 - accuracy: 0.9375 - KL_term: 0.0227 - loglikelihood_term: 0.1318 - evidential_success: 79.1534 - evidential_fail: 2.7470 - acc: 0.9375 - annealing_coef: 0.7760 - global_step_get: 4200.0000 - annealing_step_get: 3750.0000 - UEO_term: 0.4730 - val_loss: 0.8148 - val_accuracy: 0.9278 - val_KL_term: 0.0477 - val_loglikelihood_term: 0.1485 - val_evidential_success: 83.6799 - val_evidential_fail: 2.7600 - val_acc: 0.9286 - val_annealing_coef: 1.0000 - val_global_step_get: 8400.0000 - val_annealing_step_get: 3750.0000 - val_UEO_term: 0.4704\n",
      "\n",
      "Epoch 00024: val_loss did not improve from 0.80426\n",
      "Epoch 25/100\n",
      "self.global_step 8400.0\n",
      "351/351 [==============================] - 32s 91ms/step - loss: 0.7837 - accuracy: 0.9378 - KL_term: 0.0229 - loglikelihood_term: 0.1315 - evidential_success: 83.3667 - evidential_fail: 2.7592 - acc: 0.9377 - annealing_coef: 0.7849 - global_step_get: 4375.0000 - annealing_step_get: 3750.0000 - UEO_term: 0.4749 - val_loss: 0.8114 - val_accuracy: 0.9284 - val_KL_term: 0.0445 - val_loglikelihood_term: 0.1508 - val_evidential_success: 72.2663 - val_evidential_fail: 2.3983 - val_acc: 0.9292 - val_annealing_coef: 1.0000 - val_global_step_get: 8750.0000 - val_annealing_step_get: 3750.0000 - val_UEO_term: 0.4639\n",
      "\n",
      "Epoch 00025: val_loss did not improve from 0.80426\n",
      "Epoch 26/100\n",
      "self.global_step 8750.0\n",
      "351/351 [==============================] - 32s 91ms/step - loss: 0.7822 - accuracy: 0.9382 - KL_term: 0.0226 - loglikelihood_term: 0.1307 - evidential_success: 82.8330 - evidential_fail: 2.6138 - acc: 0.9383 - annealing_coef: 0.7931 - global_step_get: 4550.0000 - annealing_step_get: 3750.0000 - UEO_term: 0.4759 - val_loss: 0.8264 - val_accuracy: 0.9279 - val_KL_term: 0.0627 - val_loglikelihood_term: 0.1473 - val_evidential_success: 84.1653 - val_evidential_fail: 3.3055 - val_acc: 0.9288 - val_annealing_coef: 1.0000 - val_global_step_get: 9100.0000 - val_annealing_step_get: 3750.0000 - val_UEO_term: 0.4457\n",
      "\n",
      "Epoch 00026: val_loss did not improve from 0.80426\n",
      "Epoch 27/100\n",
      "self.global_step 9100.0\n",
      "351/351 [==============================] - 32s 91ms/step - loss: 0.7812 - accuracy: 0.9391 - KL_term: 0.0226 - loglikelihood_term: 0.1287 - evidential_success: 87.2732 - evidential_fail: 2.6564 - acc: 0.9391 - annealing_coef: 0.8007 - global_step_get: 4725.0000 - annealing_step_get: 3750.0000 - UEO_term: 0.4768 - val_loss: 0.8086 - val_accuracy: 0.9299 - val_KL_term: 0.0389 - val_loglikelihood_term: 0.1606 - val_evidential_success: 74.7318 - val_evidential_fail: 2.1932 - val_acc: 0.9307 - val_annealing_coef: 1.0000 - val_global_step_get: 9450.0000 - val_annealing_step_get: 3750.0000 - val_UEO_term: 0.4978\n",
      "\n",
      "Epoch 00027: val_loss did not improve from 0.80426\n",
      "Epoch 28/100\n",
      "self.global_step 9450.0\n",
      "351/351 [==============================] - 32s 91ms/step - loss: 0.7809 - accuracy: 0.9395 - KL_term: 0.0225 - loglikelihood_term: 0.1274 - evidential_success: 89.4563 - evidential_fail: 2.6103 - acc: 0.9396 - annealing_coef: 0.8078 - global_step_get: 4900.0000 - annealing_step_get: 3750.0000 - UEO_term: 0.4754 - val_loss: 0.8144 - val_accuracy: 0.9304 - val_KL_term: 0.0534 - val_loglikelihood_term: 0.1407 - val_evidential_success: 94.7935 - val_evidential_fail: 3.3316 - val_acc: 0.9312 - val_annealing_coef: 1.0000 - val_global_step_get: 9800.0000 - val_annealing_step_get: 3750.0000 - val_UEO_term: 0.4839\n",
      "\n",
      "Epoch 00028: val_loss did not improve from 0.80426\n",
      "Epoch 29/100\n",
      "self.global_step 9800.0\n",
      "351/351 [==============================] - 32s 92ms/step - loss: 0.7795 - accuracy: 0.9398 - KL_term: 0.0223 - loglikelihood_term: 0.1279 - evidential_success: 93.1391 - evidential_fail: 2.5907 - acc: 0.9397 - annealing_coef: 0.8144 - global_step_get: 5075.0000 - annealing_step_get: 3750.0000 - UEO_term: 0.4791 - val_loss: 0.8278 - val_accuracy: 0.9278 - val_KL_term: 0.0644 - val_loglikelihood_term: 0.1464 - val_evidential_success: 82.5886 - val_evidential_fail: 3.3411 - val_acc: 0.9287 - val_annealing_coef: 1.0000 - val_global_step_get: 10150.0000 - val_annealing_step_get: 3750.0000 - val_UEO_term: 0.4478_term: 0.0219 - loglikelihood_term: 0.1258 - evidential_success: 95.6863 - evidential_fail: 2\n",
      "\n",
      "Epoch 00029: val_loss did not improve from 0.80426\n",
      "Epoch 00029: early stopping\n",
      "-30.0 -16.0\n"
     ]
    },
    {
     "name": "stderr",
     "output_type": "stream",
     "text": [
      "ic| self.path_models+ '/' + self.method +'_'+str(0)+'.h5': 'D:/Jorge/datasets/deforestation/experiments/exp195/models/resunet_0.h5'\n"
     ]
    },
    {
     "name": "stdout",
     "output_type": "stream",
     "text": [
      "time:  0\n",
      "(54236371,)\n",
      "(array([0, 1], dtype=uint8), array([53470765,   765606], dtype=int64))\n",
      "(17730, 9200)\n",
      "(array([0., 1.], dtype=float32), array([161465114,   1650886], dtype=int64))\n"
     ]
    },
    {
     "name": "stderr",
     "output_type": "stream",
     "text": [
      "ic| self.predicted_unpad.shape: (17730, 9200)\n",
      "    self.predicted.shape: (17730, 9200)\n",
      "ic| predicted_test.shape: (81558000,)\n",
      "ic| predicted_test.shape: (54236371,)\n",
      "ic| np.unique(predicted, return_counts=True): (array([0., 1.], dtype=float32), array([161465114,   1650886], dtype=int64))\n",
      "    np.unique(predicted_larger_than_min_area, return_counts=True): (array([0., 1.], dtype=float32), array([161736422,   1379578], dtype=int64))\n",
      "ic| np.unique(ignored_polygons, return_counts=True): (array([0., 1.], dtype=float32), array([162844692,    271308], dtype=int64))\n",
      "ic| self.f1: 78.78, self.precision: 88.6, self.recall: 70.91\n",
      "ic| self.label_mask_val.shape: (16311600,)\n",
      "ic| self.label_mask_val_valid.shape: (9418680,)\n",
      "ic| f1_val: 78.96\n",
      "    precision_val: 87.89\n",
      "    recall_val: 71.68\n",
      "    mAP_val: 86.7\n"
     ]
    },
    {
     "name": "stdout",
     "output_type": "stream",
     "text": [
      "(array([0., 1.], dtype=float32), array([162316504,    799496], dtype=int64))\n",
      "[0. 1.]\n"
     ]
    },
    {
     "name": "stderr",
     "output_type": "stream",
     "text": [
      "ic| self.label_mask.shape: (17730, 9200)\n",
      "ic| self.mask_amazon_ts.shape: (17730, 9200)\n",
      "ic| self.label_mask_test.shape: (81558000,)\n",
      "ic| self.error_mask_test.shape: (54102424,)\n"
     ]
    },
    {
     "name": "stdout",
     "output_type": "stream",
     "text": [
      "(54102424,) (54102424,)\n"
     ]
    },
    {
     "name": "stderr",
     "output_type": "stream",
     "text": [
      "ic| bounds: (0.0015, 0.9985)\n"
     ]
    },
    {
     "name": "stdout",
     "output_type": "stream",
     "text": [
      "0.4216257755386668\n",
      "0\n",
      "0.38232011321635484\n",
      "threshold 0.38232011321635484\n"
     ]
    },
    {
     "name": "stderr",
     "output_type": "stream",
     "text": [
      "c:\\Users\\jchamorro\\Anaconda3\\envs\\tf2\\lib\\site-packages\\scipy\\optimize\\_minimize.py:783: RuntimeWarning: Method 'bounded' does not support relative tolerance in x; defaulting to absolute tolerance.\n",
      "  warn(\"Method 'bounded' does not support relative tolerance in x; \"\n"
     ]
    },
    {
     "name": "stdout",
     "output_type": "stream",
     "text": [
      "(52069355,) (52069355,)\n"
     ]
    },
    {
     "name": "stderr",
     "output_type": "stream",
     "text": [
      "ic| label_current_deforestation_test_classified_incorrect.shape: (2033069,)\n",
      "    predicted_test_classified_incorrect.shape: (2033069,)\n"
     ]
    },
    {
     "name": "stdout",
     "output_type": "stream",
     "text": [
      "cm_correct [[51617474    26174]\n",
      " [   28566   397141]]\n"
     ]
    },
    {
     "name": "stderr",
     "output_type": "stream",
     "text": [
      "ic| TP_H + FN_H + FP_H + TN_H: 2033069\n",
      "    len(label_mask_current_deforestation_test): 54102424\n",
      "ic| TP_H + FN_H + FP_H + TN_H: 2033069\n",
      "    len(label_mask_current_deforestation_test): 54102424\n"
     ]
    },
    {
     "name": "stdout",
     "output_type": "stream",
     "text": [
      "cm_incorrect [[1687657   40458]\n",
      " [ 183981  120973]]\n",
      "[0.93816898 0.93289751 0.54353661 0.03757815 0.74937899 0.39669262\n",
      " 0.10749978]\n",
      "0.6176798867836452\n",
      "threshold 0.6176798867836452\n",
      "(52918904,) (52918904,)\n"
     ]
    },
    {
     "name": "stderr",
     "output_type": "stream",
     "text": [
      "ic| label_current_deforestation_test_classified_incorrect.shape: (1183520,)\n",
      "    predicted_test_classified_incorrect.shape: (1183520,)\n",
      "ic| TP_H + FN_H + FP_H + TN_H: 1183520\n",
      "    len(label_mask_current_deforestation_test): 54102424\n",
      "ic| TP_H + FN_H + FP_H + TN_H: 1183520\n",
      "    len(label_mask_current_deforestation_test): 54102424\n"
     ]
    },
    {
     "name": "stdout",
     "output_type": "stream",
     "text": [
      "cm_correct [[52357567    49698]\n",
      " [   35666   475973]]\n",
      "cm_incorrect [[947564  16934]\n",
      " [176881  42141]]\n",
      "[0.90545798 0.93029069 0.65142795 0.02187554 0.71334744 0.19240533\n",
      " 0.15274446]\n",
      "0.23685977356729035\n",
      "threshold 0.23685977356729035\n",
      "(51165547,) (51165547,)\n"
     ]
    },
    {
     "name": "stderr",
     "output_type": "stream",
     "text": [
      "ic| label_current_deforestation_test_classified_incorrect.shape: (2936877,)\n",
      "    predicted_test_classified_incorrect.shape: (2936877,)\n"
     ]
    },
    {
     "name": "stdout",
     "output_type": "stream",
     "text": [
      "cm_correct [[50827195     9787]\n",
      " [   23008   305557]]\n"
     ]
    },
    {
     "name": "stderr",
     "output_type": "stream",
     "text": [
      "ic| TP_H + FN_H + FP_H + TN_H: 2936877\n",
      "    len(label_mask_current_deforestation_test): 54102424\n",
      "ic| TP_H + FN_H + FP_H + TN_H: 2936877\n",
      "    len(label_mask_current_deforestation_test): 54102424\n"
     ]
    },
    {
     "name": "stdout",
     "output_type": "stream",
     "text": [
      "cm_incorrect [[2477936   56845]\n",
      " [ 189539  212557]]\n",
      "[0.96896405 0.92997428 0.41819257 0.05428365 0.78899563 0.52862252\n",
      " 0.08296674]\n",
      "0.49622785679192494\n",
      "threshold 0.49622785679192494\n",
      "(52509697,) (52509697,)\n"
     ]
    },
    {
     "name": "stderr",
     "output_type": "stream",
     "text": [
      "ic| label_current_deforestation_test_classified_incorrect.shape: (1592727,)\n",
      "    predicted_test_classified_incorrect.shape: (1592727,)\n",
      "ic"
     ]
    },
    {
     "name": "stdout",
     "output_type": "stream",
     "text": [
      "cm_correct [[52000666    37375]\n",
      " [   31919   439737]]\n",
      "cm_incorrect [[1304465   29257]\n",
      " [ 180628   78377]]\n"
     ]
    },
    {
     "name": "stderr",
     "output_type": "stream",
     "text": [
      "| TP_H + FN_H + FP_H + TN_H: 1592727\n",
      "    len(label_mask_current_deforestation_test): 54102424\n",
      "ic| TP_H + FN_H + FP_H + TN_H: 1592727\n",
      "    len(label_mask_current_deforestation_test): 54102424\n"
     ]
    },
    {
     "name": "stdout",
     "output_type": "stream",
     "text": [
      "[0.9216641  0.93232568 0.6018345  0.02943911 0.72818069 0.30260806\n",
      " 0.126283  ]\n",
      "0.4977950374501111\n",
      "threshold 0.4977950374501111\n",
      "(52514959,) (52514959,)\n"
     ]
    },
    {
     "name": "stderr",
     "output_type": "stream",
     "text": [
      "ic| label_current_deforestation_test_classified_incorrect.shape: (1587465,)\n",
      "    predicted_test_classified_incorrect.shape: (1587465,)\n",
      "ic"
     ]
    },
    {
     "name": "stdout",
     "output_type": "stream",
     "text": [
      "cm_correct [[52005259    37526]\n",
      " [   31963   440211]]\n",
      "cm_incorrect [[1299872   29106]\n",
      " [ 180584   77903]]\n"
     ]
    },
    {
     "name": "stderr",
     "output_type": "stream",
     "text": [
      "| TP_H + FN_H + FP_H + TN_H: 1587465\n",
      "    len(label_mask_current_deforestation_test): 54102424\n",
      "ic| TP_H + FN_H + FP_H + TN_H: 1587465\n",
      "    len(label_mask_current_deforestation_test): 54102424\n"
     ]
    },
    {
     "name": "stdout",
     "output_type": "stream",
     "text": [
      "[0.92145051 0.93230673 0.60248323 0.02934185 0.72800419 0.30138073\n",
      " 0.12655149]\n",
      "0.46803632747768253\n",
      "threshold 0.46803632747768253\n",
      "(52412780,) (52412780,)\n"
     ]
    },
    {
     "name": "stderr",
     "output_type": "stream",
     "text": [
      "ic| label_current_deforestation_test_classified_incorrect.shape: (1689644,)\n",
      "    predicted_test_classified_incorrect.shape: (1689644,)\n",
      "ic"
     ]
    },
    {
     "name": "stdout",
     "output_type": "stream",
     "text": [
      "cm_correct [[51916506    34713]\n",
      " [   31110   430451]]\n",
      "cm_incorrect [[1388625   31919]\n",
      " [ 181437   87663]]\n"
     ]
    },
    {
     "name": "stderr",
     "output_type": "stream",
     "text": [
      "| TP_H + FN_H + FP_H + TN_H: 1689644\n",
      "    len(label_mask_current_deforestation_test): 54102424\n",
      "ic| TP_H + FN_H + FP_H + TN_H: 1689644\n",
      "    len(label_mask_current_deforestation_test): 54102424\n"
     ]
    },
    {
     "name": "stdout",
     "output_type": "stream",
     "text": [
      "[0.92537471 0.93259829 0.58912546 0.03123047 0.73307856 0.32576366\n",
      " 0.12153803]\n",
      "0.48545965078872333\n",
      "threshold 0.48545965078872333\n",
      "(52473097,) (52473097,)\n"
     ]
    },
    {
     "name": "stderr",
     "output_type": "stream",
     "text": [
      "ic| label_current_deforestation_test_classified_incorrect.shape: (1629327,)\n",
      "    predicted_test_classified_incorrect.shape: (1629327,)\n",
      "ic"
     ]
    },
    {
     "name": "stdout",
     "output_type": "stream",
     "text": [
      "cm_correct [[51968899    36365]\n",
      " [   31618   436215]]\n",
      "cm_incorrect [[1336232   30267]\n",
      " [ 180929   81899]]\n"
     ]
    },
    {
     "name": "stderr",
     "output_type": "stream",
     "text": [
      "| TP_H + FN_H + FP_H + TN_H: 1629327\n",
      "    len(label_mask_current_deforestation_test): 54102424\n",
      "ic| TP_H + FN_H + FP_H + TN_H: 1629327\n",
      "    len(label_mask_current_deforestation_test): 54102424\n"
     ]
    },
    {
     "name": "stdout",
     "output_type": "stream",
     "text": [
      "[0.92305007 0.93241605 0.59701421 0.0301156  0.73015887 0.31160683\n",
      " 0.12442983]\n",
      "0.4785271845547386\n",
      "threshold 0.4785271845547386\n",
      "(52449264,) (52449264,)\n"
     ]
    },
    {
     "name": "stderr",
     "output_type": "stream",
     "text": [
      "ic| label_current_deforestation_test_classified_incorrect.shape: (1653160,)\n",
      "    predicted_test_classified_incorrect.shape: (1653160,)\n",
      "ic"
     ]
    },
    {
     "name": "stdout",
     "output_type": "stream",
     "text": [
      "cm_correct [[51948215    35691]\n",
      " [   31403   433955]]\n",
      "cm_incorrect [[1356916   30941]\n",
      " [ 181144   84159]]\n"
     ]
    },
    {
     "name": "stderr",
     "output_type": "stream",
     "text": [
      "| TP_H + FN_H + FP_H + TN_H: 1653160\n",
      "    len(label_mask_current_deforestation_test): 54102424\n",
      "ic| TP_H + FN_H + FP_H + TN_H: 1653160\n",
      "    len(label_mask_current_deforestation_test): 54102424\n"
     ]
    },
    {
     "name": "stdout",
     "output_type": "stream",
     "text": [
      "[0.92400446 0.93251862 0.59392112 0.03055612 0.73118158 0.31721843\n",
      " 0.12328703]\n",
      "0.48735475125940236\n",
      "threshold 0.48735475125940236\n",
      "(52479647,) (52479647,)\n"
     ]
    },
    {
     "name": "stderr",
     "output_type": "stream",
     "text": [
      "ic| label_current_deforestation_test_classified_incorrect.shape: (1622777,)\n",
      "    predicted_test_classified_incorrect.shape: (1622777,)\n",
      "ic"
     ]
    },
    {
     "name": "stdout",
     "output_type": "stream",
     "text": [
      "cm_correct [[51974582    36545]\n",
      " [   31682   436838]]\n",
      "cm_incorrect [[1330549   30087]\n",
      " [ 180865   81276]]\n"
     ]
    },
    {
     "name": "stderr",
     "output_type": "stream",
     "text": [
      "| TP_H + FN_H + FP_H + TN_H: 1622777\n",
      "    len(label_mask_current_deforestation_test): 54102424\n",
      "ic| TP_H + FN_H + FP_H + TN_H: 1622777\n",
      "    len(label_mask_current_deforestation_test): 54102424\n"
     ]
    },
    {
     "name": "stdout",
     "output_type": "stream",
     "text": [
      "[0.92280035 0.93237855 0.59786686 0.02999453 0.72982948 0.31004688\n",
      " 0.12474956]\n",
      "0.49074397598706126\n",
      "threshold 0.49074397598706126\n",
      "(52491066,) (52491066,)\n"
     ]
    },
    {
     "name": "stderr",
     "output_type": "stream",
     "text": [
      "ic| label_current_deforestation_test_classified_incorrect.shape: (1611358,)\n",
      "    predicted_test_classified_incorrect.shape: (1611358,)\n",
      "ic"
     ]
    },
    {
     "name": "stdout",
     "output_type": "stream",
     "text": [
      "cm_correct [[51984444    36891]\n",
      " [   31768   437963]]\n",
      "cm_incorrect [[1320687   29741]\n",
      " [ 180779   80151]]\n"
     ]
    },
    {
     "name": "stderr",
     "output_type": "stream",
     "text": [
      "| TP_H + FN_H + FP_H + TN_H: 1611358\n",
      "    len(label_mask_current_deforestation_test): 54102424\n",
      "ic| TP_H + FN_H + FP_H + TN_H: 1611358\n",
      "    len(label_mask_current_deforestation_test): 54102424\n"
     ]
    },
    {
     "name": "stdout",
     "output_type": "stream",
     "text": [
      "[0.92231086 0.9323698  0.59940656 0.02978347 0.72936155 0.30717434\n",
      " 0.12530826]\n",
      "0.48768264362685876\n",
      "threshold 0.48768264362685876\n",
      "(52480734,) (52480734,)\n"
     ]
    },
    {
     "name": "stderr",
     "output_type": "stream",
     "text": [
      "ic| label_current_deforestation_test_classified_incorrect.shape: (1621690,)\n",
      "    predicted_test_classified_incorrect.shape: (1621690,)\n",
      "ic"
     ]
    },
    {
     "name": "stdout",
     "output_type": "stream",
     "text": [
      "cm_correct [[51975517    36581]\n",
      " [   31692   436944]]\n",
      "cm_incorrect [[1329614   30051]\n",
      " [ 180855   81170]]\n"
     ]
    },
    {
     "name": "stderr",
     "output_type": "stream",
     "text": [
      "| TP_H + FN_H + FP_H + TN_H: 1621690\n",
      "    len(label_mask_current_deforestation_test): 54102424\n",
      "ic| TP_H + FN_H + FP_H + TN_H: 1621690\n",
      "    len(label_mask_current_deforestation_test): 54102424\n"
     ]
    },
    {
     "name": "stdout",
     "output_type": "stream",
     "text": [
      "[0.92274748 0.93237395 0.59801194 0.02997444 0.72980822 0.3097796\n",
      " 0.12479918]\n",
      "0.48694824354176974\n",
      "threshold 0.48694824354176974\n",
      "(52478206,) (52478206,)\n"
     ]
    },
    {
     "name": "stderr",
     "output_type": "stream",
     "text": [
      "ic| label_current_deforestation_test_classified_incorrect.shape: (1624218,)\n",
      "    predicted_test_classified_incorrect.shape: (1624218,)\n",
      "ic"
     ]
    },
    {
     "name": "stdout",
     "output_type": "stream",
     "text": [
      "cm_correct [[51973311    36504]\n",
      " [   31666   436725]]\n",
      "cm_incorrect [[1331820   30128]\n",
      " [ 180881   81389]]\n"
     ]
    },
    {
     "name": "stderr",
     "output_type": "stream",
     "text": [
      "| TP_H + FN_H + FP_H + TN_H: 1624218\n",
      "    len(label_mask_current_deforestation_test): 54102424\n",
      "ic| TP_H + FN_H + FP_H + TN_H: 1624218\n",
      "    len(label_mask_current_deforestation_test): 54102424\n"
     ]
    },
    {
     "name": "stdout",
     "output_type": "stream",
     "text": [
      "[0.92286187 0.93239409 0.59771221 0.03002117 0.72983491 0.31032524\n",
      " 0.12468122]\n",
      "0.4872934787818929\n",
      "threshold 0.4872934787818929\n",
      "(52479420,) (52479420,)\n"
     ]
    },
    {
     "name": "stderr",
     "output_type": "stream",
     "text": [
      "ic| label_current_deforestation_test_classified_incorrect.shape: (1623004,)\n",
      "    predicted_test_classified_incorrect.shape: (1623004,)\n",
      "ic"
     ]
    },
    {
     "name": "stdout",
     "output_type": "stream",
     "text": [
      "cm_correct [[51974389    36531]\n",
      " [   31678   436822]]\n",
      "cm_incorrect [[1330742   30101]\n",
      " [ 180869   81292]]\n"
     ]
    },
    {
     "name": "stderr",
     "output_type": "stream",
     "text": [
      "| TP_H + FN_H + FP_H + TN_H: 1623004\n",
      "    len(label_mask_current_deforestation_test): 54102424\n",
      "ic| TP_H + FN_H + FP_H + TN_H: 1623004\n",
      "    len(label_mask_current_deforestation_test): 54102424\n"
     ]
    },
    {
     "name": "stdout",
     "output_type": "stream",
     "text": [
      "[0.92282504 0.9323842  0.59784497 0.02999873 0.72977656 0.31008426\n",
      " 0.12474478]\n",
      "0.4872137535562624\n",
      "threshold 0.4872137535562624\n",
      "(52479140,) (52479140,)\n"
     ]
    },
    {
     "name": "stderr",
     "output_type": "stream",
     "text": [
      "ic| label_current_deforestation_test_classified_incorrect.shape: (1623284,)\n",
      "    predicted_test_classified_incorrect.shape: (1623284,)\n",
      "ic"
     ]
    },
    {
     "name": "stdout",
     "output_type": "stream",
     "text": [
      "cm_correct [[51974138    36526]\n",
      " [   31675   436801]]\n",
      "cm_incorrect [[1330993   30106]\n",
      " [ 180872   81313]]\n"
     ]
    },
    {
     "name": "stderr",
     "output_type": "stream",
     "text": [
      "| TP_H + FN_H + FP_H + TN_H: 1623284\n",
      "    len(label_mask_current_deforestation_test): 54102424\n",
      "ic| TP_H + FN_H + FP_H + TN_H: 1623284\n",
      "    len(label_mask_current_deforestation_test): 54102424\n"
     ]
    },
    {
     "name": "stdout",
     "output_type": "stream",
     "text": [
      "[0.92283136 0.93238714 0.59781622 0.03000391 0.72979474 0.31013597\n",
      " 0.12472945]\n",
      "0.48726013822082925\n",
      "threshold 0.48726013822082925\n",
      "(52479297,) (52479297,)\n"
     ]
    },
    {
     "name": "stderr",
     "output_type": "stream",
     "text": [
      "ic| label_current_deforestation_test_classified_incorrect.shape: (1623127,)\n",
      "    predicted_test_classified_incorrect.shape: (1623127,)\n",
      "ic"
     ]
    },
    {
     "name": "stdout",
     "output_type": "stream",
     "text": [
      "cm_correct [[51974282    36529]\n",
      " [   31676   436810]]\n",
      "cm_incorrect [[1330849   30103]\n",
      " [ 180871   81304]]\n"
     ]
    },
    {
     "name": "stderr",
     "output_type": "stream",
     "text": [
      "| TP_H + FN_H + FP_H + TN_H: 1623127\n",
      "    len(label_mask_current_deforestation_test): 54102424\n",
      "ic| TP_H + FN_H + FP_H + TN_H: 1623127\n",
      "    len(label_mask_current_deforestation_test): 54102424\n",
      "ic| self.threshold_optimal: 0.48726013822082925\n"
     ]
    },
    {
     "name": "stdout",
     "output_type": "stream",
     "text": [
      "[0.92282698 0.93238645 0.59782854 0.030001   0.72979256 0.31011347\n",
      " 0.12473837]\n",
      "threshold 0.48726013822082925\n",
      "(52479297,) (52479297,)\n"
     ]
    },
    {
     "name": "stderr",
     "output_type": "stream",
     "text": [
      "ic| label_current_deforestation_test_classified_incorrect.shape: (1623127,)\n",
      "    predicted_test_classified_incorrect.shape: (1623127,)\n",
      "ic"
     ]
    },
    {
     "name": "stdout",
     "output_type": "stream",
     "text": [
      "cm_correct [[51974282    36529]\n",
      " [   31676   436810]]\n",
      "cm_incorrect [[1330849   30103]\n",
      " [ 180871   81304]]\n"
     ]
    },
    {
     "name": "stderr",
     "output_type": "stream",
     "text": [
      "| TP_H + FN_H + FP_H + TN_H: 1623127\n",
      "    len(label_mask_current_deforestation_test): 54102424\n",
      "ic| TP_H + FN_H + FP_H + TN_H: 1623127\n",
      "    len(label_mask_current_deforestation_test): 54102424\n"
     ]
    },
    {
     "name": "stdout",
     "output_type": "stream",
     "text": [
      "[0.92282698 0.93238645 0.59782854 0.030001   0.72979256 0.31011347\n",
      " 0.12473837]\n",
      "threshold 0.48726013822082925\n",
      "(54102424,) (54102424,)\n"
     ]
    },
    {
     "name": "stderr",
     "output_type": "stream",
     "text": [
      "ic| self.m_optimal: {'AA': array([0.030001]),\n",
      "                     'UEO': array([0.12473837]),\n",
      "                     'f1': 78.78,\n",
      "                     'f1_H': array([0.43526722]),\n",
      "                     'f1_L': array([0.92758209]),\n",
      "                     'precision_H': array([0.72979256]),\n",
      "                     'precision_L': array([0.92282698]),\n",
      "                     'recall_H': array([0.31011347]),\n",
      "                     'recall_L': array([0.93238645]),\n",
      "                     'recall_Ltotal': array([0.59782854])}\n",
      "ic| self.m_audited_optimal: {'f1': array([0.953481]),\n",
      "                             'precision': array([0.95033541]),\n",
      "                             'recall': array([0.95664747])}\n"
     ]
    },
    {
     "name": "stdout",
     "output_type": "stream",
     "text": [
      "cm_audited [[53335234    36529]\n",
      " [   31676   698985]]\n",
      "[0.95033541 0.95664747]\n",
      "Result idx 1: {'other_uncertainty_metrics': {'sUEO': 0.4216257755386668, 'ece_score': 0}, 'snippet_poi_results': [{'snippet_id': 0, 'coords': [550, 550], 'reference': 0, 'predicted': 0.0, 'alpha': array([136.90787,   1.     ,   1.     ], dtype=float32)}, {'snippet_id': 0, 'coords': [210, 610], 'reference': 1, 'predicted': 0.0, 'alpha': array([1., 1., 1.], dtype=float32)}, {'snippet_id': 0, 'coords': [207, 617], 'reference': 1, 'predicted': 0.0, 'alpha': array([1., 1., 1.], dtype=float32)}, {'snippet_id': 0, 'coords': [800, 200], 'reference': 1, 'predicted': 1.0, 'alpha': array([1.     , 5.56545, 1.     ], dtype=float32)}, {'snippet_id': 1, 'coords': [550, 115], 'reference': 1, 'predicted': 0.0, 'alpha': array([1., 1., 1.], dtype=float32)}, {'snippet_id': 1, 'coords': [430, 950], 'reference': 0, 'predicted': 0.0, 'alpha': array([1., 1., 1.], dtype=float32)}], 'uncertainty_result': {'metrics': {'precision_L': array([0.92282698]), 'recall_L': array([0.93238645]), 'recall_Ltotal': array([0.59782854]), 'AA': array([0.030001]), 'precision_H': array([0.72979256]), 'recall_H': array([0.31011347]), 'UEO': array([0.12473837]), 'f1_L': array([0.92758209]), 'f1_H': array([0.43526722]), 'f1': 78.78}, 'metrics_audited': {'precision': array([0.95033541]), 'recall': array([0.95664747]), 'f1': array([0.953481])}, 'exp': 195}}\n",
      "Grid execution idx: 2\n",
      "Beginning run number 2\n",
      "D:/Jorge/datasets/deforestation/Para/deforestation_past_years.tif\n",
      "Loaded deforestation past years\n"
     ]
    },
    {
     "name": "stderr",
     "output_type": "stream",
     "text": [
      "ic| np.unique(deforestation_past_years, return_counts=True): (array([   0, 2008, 2009, 2010, 2011, 2012, 2013, 2014, 2015, 2016, 2017,\n",
      "                                                                    2018, 2019, 2020, 2021], dtype=uint16),\n",
      "                                                              array([132185553,   3150503,   4571354,    864429,    903608,   1299506,\n",
      "                                                                      2477971,   1561686,   1459696,    969060,    644976,   2209014,\n",
      "                                                                      2100204,   5257014,   3514616], dtype=int64))\n"
     ]
    },
    {
     "name": "stdout",
     "output_type": "stream",
     "text": [
      "Label where deforestation past years is actual date (2019) = 1\n"
     ]
    },
    {
     "name": "stderr",
     "output_type": "stream",
     "text": [
      "ic| np.unique(deforestation_past_years, return_counts=True): (array([   0, 2008, 2009, 2010, 2011, 2012, 2013, 2014, 2015, 2016, 2017,\n",
      "                                                                    2018, 2019, 2020, 2021], dtype=uint16),\n",
      "                                                              array([132185553,   3150503,   4571354,    864429,    903608,   1299506,\n",
      "                                                                      2477971,   1561686,   1459696,    969060,    644976,   2209014,\n",
      "                                                                      2100204,   5257014,   3514616], dtype=int64))\n"
     ]
    },
    {
     "name": "stdout",
     "output_type": "stream",
     "text": [
      "Past deforestation different from 0 (no deforestation)\n"
     ]
    },
    {
     "name": "stderr",
     "output_type": "stream",
     "text": [
      "ic| np.unique(deforestation_past_years, return_counts=True): (array([   0, 2008, 2009, 2010, 2011, 2012, 2013, 2014, 2015, 2016, 2017,\n",
      "                                                                    2018, 2019, 2020, 2021], dtype=uint16),\n",
      "                                                              array([132185553,   3150503,   4571354,    864429,    903608,   1299506,\n",
      "                                                                      2477971,   1561686,   1459696,    969060,    644976,   2209014,\n",
      "                                                                      2100204,   5257014,   3514616], dtype=int64))\n"
     ]
    },
    {
     "name": "stdout",
     "output_type": "stream",
     "text": [
      "Past deforestation before 2008 is 2\n",
      "D:/Jorge/datasets/deforestation/deforestation_before_2008/deforestation_before_2008_para.tif\n"
     ]
    },
    {
     "name": "stderr",
     "output_type": "stream",
     "text": [
      "ic| np.unique(label_past_deforestation_before_2008, return_counts=True): (array([  0, 215], dtype=uint8), array([124211220,  38957970], dtype=int64))\n",
      "ic| np.unique(deforestation_past_years, return_counts=True): (array([   0, 2008, 2009, 2010, 2011, 2012, 2013, 2014, 2015, 2016, 2017,\n",
      "                                                                    2018, 2019, 2020, 2021], dtype=uint16),\n",
      "                                                              array([132185553,   3150503,   4571354,    864429,    903608,   1299506,\n",
      "                                                                      2477971,   1561686,   1459696,    969060,    644976,   2209014,\n",
      "                                                                      2100204,   5257014,   3514616], dtype=int64))\n",
      "ic| label_per_date.shape: (17730, 9203, 1)\n"
     ]
    },
    {
     "name": "stdout",
     "output_type": "stream",
     "text": [
      "Mask label shape:  \n",
      " (17730, 9203, 1) \n",
      " Unique values:  \n",
      " [0 1 2]\n",
      "Tiles size:  3546 2300\n",
      "Mask size:  (17730, 9200)\n"
     ]
    },
    {
     "name": "stderr",
     "output_type": "stream",
     "text": [
      "ic| image_stack.shape: (17730, 9203, 21)\n"
     ]
    },
    {
     "name": "stdout",
     "output_type": "stream",
     "text": [
      "Image shape:  (17730, 9203, 21)\n",
      "mask:  (17730, 9200)\n",
      "image stack:  (17730, 9200, 21)\n",
      "ref : (17730, 9200, 1)\n",
      "Training tiles:  [1, 3, 5, 8, 11, 13, 14, 20]\n",
      "Validation tiles:  [6, 19]\n",
      "Test tiles:  [2, 4, 7, 9, 10, 12, 15, 16, 17, 18]\n"
     ]
    },
    {
     "name": "stderr",
     "output_type": "stream",
     "text": [
      "ic| im_idx_row.shape: (17730, 9200, 1)\n",
      "    im_idx_col.shape: (17730, 9200, 1)\n",
      "ic| im_idx_row.dtype: dtype('uint16')\n",
      "    im_idx_col.dtype: dtype('uint16')\n",
      "ic| im_idx.shape: (17730, 9200, 2), im_idx.dtype: dtype('uint16')\n",
      "ic| coords.shape: (464, 239, 1, 128, 128, 2)\n",
      "    coords.dtype: dtype('uint16')\n",
      "ic| coords.shape: (110896, 2), coords.dtype: dtype('uint16')\n",
      "ic| self.coords_train.shape: (41812, 3)\n",
      "    self.coords_val.shape: (10260, 3)\n"
     ]
    },
    {
     "name": "stdout",
     "output_type": "stream",
     "text": [
      "training samples:  (3753, 3) validation samples:  (1032, 3)\n",
      "time:  0\n",
      "Model: \"model_4\"\n",
      "__________________________________________________________________________________________________\n",
      "Layer (type)                    Output Shape         Param #     Connected to                     \n",
      "==================================================================================================\n",
      "input_enc_net (InputLayer)      [(None, 128, 128, 21 0                                            \n",
      "__________________________________________________________________________________________________\n",
      "res1_net1 (Conv2D)              (None, 128, 128, 16) 3040        input_enc_net[0][0]              \n",
      "__________________________________________________________________________________________________\n",
      "drop_net1 (Dropout)             (None, 128, 128, 16) 0           res1_net1[0][0]                  \n",
      "__________________________________________________________________________________________________\n",
      "res2_net1 (Conv2D)              (None, 128, 128, 16) 2320        drop_net1[0][0]                  \n",
      "__________________________________________________________________________________________________\n",
      "res3_net1 (Conv2D)              (None, 128, 128, 16) 352         input_enc_net[0][0]              \n",
      "__________________________________________________________________________________________________\n",
      "add_24 (Add)                    (None, 128, 128, 16) 0           res2_net1[0][0]                  \n",
      "                                                                 res3_net1[0][0]                  \n",
      "__________________________________________________________________________________________________\n",
      "pool_net1 (MaxPooling2D)        (None, 64, 64, 16)   0           add_24[0][0]                     \n",
      "__________________________________________________________________________________________________\n",
      "res1_net2 (Conv2D)              (None, 64, 64, 32)   4640        pool_net1[0][0]                  \n",
      "__________________________________________________________________________________________________\n",
      "drop_net2 (Dropout)             (None, 64, 64, 32)   0           res1_net2[0][0]                  \n",
      "__________________________________________________________________________________________________\n",
      "res2_net2 (Conv2D)              (None, 64, 64, 32)   9248        drop_net2[0][0]                  \n",
      "__________________________________________________________________________________________________\n",
      "res3_net2 (Conv2D)              (None, 64, 64, 32)   544         pool_net1[0][0]                  \n",
      "__________________________________________________________________________________________________\n",
      "add_25 (Add)                    (None, 64, 64, 32)   0           res2_net2[0][0]                  \n",
      "                                                                 res3_net2[0][0]                  \n",
      "__________________________________________________________________________________________________\n",
      "pool_net2 (MaxPooling2D)        (None, 32, 32, 32)   0           add_25[0][0]                     \n",
      "__________________________________________________________________________________________________\n",
      "res1_net3 (Conv2D)              (None, 32, 32, 64)   18496       pool_net2[0][0]                  \n",
      "__________________________________________________________________________________________________\n",
      "drop_net3 (Dropout)             (None, 32, 32, 64)   0           res1_net3[0][0]                  \n",
      "__________________________________________________________________________________________________\n",
      "res2_net3 (Conv2D)              (None, 32, 32, 64)   36928       drop_net3[0][0]                  \n",
      "__________________________________________________________________________________________________\n",
      "res3_net3 (Conv2D)              (None, 32, 32, 64)   2112        pool_net2[0][0]                  \n",
      "__________________________________________________________________________________________________\n",
      "add_26 (Add)                    (None, 32, 32, 64)   0           res2_net3[0][0]                  \n",
      "                                                                 res3_net3[0][0]                  \n",
      "__________________________________________________________________________________________________\n",
      "pool_net3 (MaxPooling2D)        (None, 16, 16, 64)   0           add_26[0][0]                     \n",
      "__________________________________________________________________________________________________\n",
      "res1_net4 (Conv2D)              (None, 16, 16, 64)   36928       pool_net3[0][0]                  \n",
      "__________________________________________________________________________________________________\n",
      "drop_net4 (Dropout)             (None, 16, 16, 64)   0           res1_net4[0][0]                  \n",
      "__________________________________________________________________________________________________\n",
      "res2_net4 (Conv2D)              (None, 16, 16, 64)   36928       drop_net4[0][0]                  \n",
      "__________________________________________________________________________________________________\n",
      "res3_net4 (Conv2D)              (None, 16, 16, 64)   4160        pool_net3[0][0]                  \n",
      "__________________________________________________________________________________________________\n",
      "add_27 (Add)                    (None, 16, 16, 64)   0           res2_net4[0][0]                  \n",
      "                                                                 res3_net4[0][0]                  \n",
      "__________________________________________________________________________________________________\n",
      "res1_net5 (Conv2D)              (None, 16, 16, 64)   36928       add_27[0][0]                     \n",
      "__________________________________________________________________________________________________\n",
      "drop_net5 (Dropout)             (None, 16, 16, 64)   0           res1_net5[0][0]                  \n",
      "__________________________________________________________________________________________________\n",
      "res2_net5 (Conv2D)              (None, 16, 16, 64)   36928       drop_net5[0][0]                  \n",
      "__________________________________________________________________________________________________\n",
      "res3_net5 (Conv2D)              (None, 16, 16, 64)   4160        add_27[0][0]                     \n",
      "__________________________________________________________________________________________________\n",
      "add_28 (Add)                    (None, 16, 16, 64)   0           res2_net5[0][0]                  \n",
      "                                                                 res3_net5[0][0]                  \n",
      "__________________________________________________________________________________________________\n",
      "res1_net6 (Conv2D)              (None, 16, 16, 64)   36928       add_28[0][0]                     \n",
      "__________________________________________________________________________________________________\n",
      "drop_net6 (Dropout)             (None, 16, 16, 64)   0           res1_net6[0][0]                  \n",
      "__________________________________________________________________________________________________\n",
      "res2_net6 (Conv2D)              (None, 16, 16, 64)   36928       drop_net6[0][0]                  \n",
      "__________________________________________________________________________________________________\n",
      "res3_net6 (Conv2D)              (None, 16, 16, 64)   4160        add_28[0][0]                     \n",
      "__________________________________________________________________________________________________\n",
      "add_29 (Add)                    (None, 16, 16, 64)   0           res2_net6[0][0]                  \n",
      "                                                                 res3_net6[0][0]                  \n",
      "__________________________________________________________________________________________________\n",
      "up_sampling2d_12 (UpSampling2D) (None, 32, 32, 64)   0           add_29[0][0]                     \n",
      "__________________________________________________________________________________________________\n",
      "upsampling_net3 (Conv2D)        (None, 32, 32, 64)   36928       up_sampling2d_12[0][0]           \n",
      "__________________________________________________________________________________________________\n",
      "concatenate3 (Concatenate)      (None, 32, 32, 128)  0           add_26[0][0]                     \n",
      "                                                                 upsampling_net3[0][0]            \n",
      "__________________________________________________________________________________________________\n",
      "up_sampling2d_13 (UpSampling2D) (None, 64, 64, 128)  0           concatenate3[0][0]               \n",
      "__________________________________________________________________________________________________\n",
      "upsampling_net2 (Conv2D)        (None, 64, 64, 32)   36896       up_sampling2d_13[0][0]           \n",
      "__________________________________________________________________________________________________\n",
      "concatenate2 (Concatenate)      (None, 64, 64, 64)   0           add_25[0][0]                     \n",
      "                                                                 upsampling_net2[0][0]            \n",
      "__________________________________________________________________________________________________\n",
      "up_sampling2d_14 (UpSampling2D) (None, 128, 128, 64) 0           concatenate2[0][0]               \n",
      "__________________________________________________________________________________________________\n",
      "upsampling_net1 (Conv2D)        (None, 128, 128, 16) 9232        up_sampling2d_14[0][0]           \n",
      "__________________________________________________________________________________________________\n",
      "concatenate1 (Concatenate)      (None, 128, 128, 32) 0           add_24[0][0]                     \n",
      "                                                                 upsampling_net1[0][0]            \n",
      "__________________________________________________________________________________________________\n",
      "output (Conv2D)                 (None, 128, 128, 3)  99          concatenate1[0][0]               \n",
      "==================================================================================================\n",
      "Total params: 394,883\n",
      "Trainable params: 394,883\n",
      "Non-trainable params: 0\n",
      "__________________________________________________________________________________________________\n"
     ]
    },
    {
     "name": "stderr",
     "output_type": "stream",
     "text": [
      "c:\\Users\\jchamorro\\Anaconda3\\envs\\tf2\\lib\\site-packages\\tensorflow\\python\\keras\\optimizer_v2\\optimizer_v2.py:374: UserWarning: The `lr` argument is deprecated, use `learning_rate` instead.\n",
      "  warnings.warn(\n",
      "c:\\Users\\jchamorro\\Anaconda3\\envs\\tf2\\lib\\site-packages\\tensorflow\\python\\keras\\engine\\training.py:1969: UserWarning: `Model.fit_generator` is deprecated and will be removed in a future version. Please use `Model.fit`, which supports generators.\n",
      "  warnings.warn('`Model.fit_generator` is deprecated and '\n"
     ]
    },
    {
     "name": "stdout",
     "output_type": "stream",
     "text": [
      "Epoch 1/100\n",
      "self.global_step 0.0\n",
      "alpha Tensor(\"loss/add:0\", shape=(None, 128, 128, 3), dtype=float32)\n",
      "u Tensor(\"loss/truediv:0\", shape=(None, 128, 128, 1), dtype=float32)\n",
      "A Tensor(\"loss/Sum_3:0\", shape=(None, 3), dtype=float32)\n",
      "B Tensor(\"loss/Sum_4:0\", shape=(None, 1, 1, 3), dtype=float32)\n",
      "term1 Tensor(\"loss/truediv_7:0\", shape=(None, 1, 1, 3), dtype=float32)\n",
      "term2 Tensor(\"loss/mul_5:0\", shape=(None, 1, 1, 3), dtype=float32)\n",
      "Tensor(\"loss/Repeat_1/Reshape_1:0\", shape=(None, None, None, 1), dtype=float32)\n",
      "alpha Tensor(\"add:0\", shape=(None, 128, 128, 3), dtype=float32)\n",
      "u Tensor(\"truediv:0\", shape=(None, 128, 128, 1), dtype=float32)\n",
      "K.int_shape(KL_reg) Tensor(\"mul_6:0\", shape=(None, 128, 128, 1), dtype=float32)\n",
      "alpha Tensor(\"add_7:0\", shape=(None, 128, 128, 3), dtype=float32)\n",
      "u Tensor(\"truediv_5:0\", shape=(None, 128, 128, 1), dtype=float32)\n",
      "K.int_shape(KL_reg) Tensor(\"mul_12:0\", shape=(None, 128, 128, 1), dtype=float32)\n",
      "alpha Tensor(\"add_16:0\", shape=(None, 128, 128, 3), dtype=float32)\n",
      "u Tensor(\"truediv_13:0\", shape=(None, 128, 128, 1), dtype=float32)\n",
      "K.int_shape(Y) Tensor(\"IteratorGetNext:1\", shape=(None, None, None, None), dtype=float32)\n",
      "K.int_shape(prob) Tensor(\"truediv_15:0\", shape=(None, 128, 128, 3), dtype=float32)\n",
      "alpha Tensor(\"loss/add:0\", shape=(None, 128, 128, 3), dtype=float32)\n",
      "u Tensor(\"loss/truediv:0\", shape=(None, 128, 128, 1), dtype=float32)\n",
      "A Tensor(\"loss/Sum_3:0\", shape=(None, 3), dtype=float32)\n",
      "B Tensor(\"loss/Sum_4:0\", shape=(None, 1, 1, 3), dtype=float32)\n",
      "term1 Tensor(\"loss/truediv_7:0\", shape=(None, 1, 1, 3), dtype=float32)\n",
      "term2 Tensor(\"loss/mul_5:0\", shape=(None, 1, 1, 3), dtype=float32)\n",
      "Tensor(\"loss/Repeat_1/Reshape_1:0\", shape=(None, None, None, 1), dtype=float32)\n",
      "alpha Tensor(\"add:0\", shape=(None, 128, 128, 3), dtype=float32)\n",
      "u Tensor(\"truediv:0\", shape=(None, 128, 128, 1), dtype=float32)\n",
      "K.int_shape(KL_reg) Tensor(\"mul_6:0\", shape=(None, 128, 128, 1), dtype=float32)\n",
      "alpha Tensor(\"add_7:0\", shape=(None, 128, 128, 3), dtype=float32)\n",
      "u Tensor(\"truediv_5:0\", shape=(None, 128, 128, 1), dtype=float32)\n",
      "K.int_shape(KL_reg) Tensor(\"mul_12:0\", shape=(None, 128, 128, 1), dtype=float32)\n",
      "alpha Tensor(\"add_16:0\", shape=(None, 128, 128, 3), dtype=float32)\n",
      "u Tensor(\"truediv_13:0\", shape=(None, 128, 128, 1), dtype=float32)\n",
      "K.int_shape(Y) Tensor(\"IteratorGetNext:1\", shape=(None, None, None, None), dtype=float32)\n",
      "K.int_shape(prob) Tensor(\"truediv_15:0\", shape=(None, 128, 128, 3), dtype=float32)\n",
      "351/351 [==============================] - ETA: 0s - loss: 0.8695 - accuracy: 0.4728 - KL_term: 0.0156 - loglikelihood_term: 0.6743 - evidential_success: 9.1082 - evidential_fail: 3.0828 - acc: 0.4730 - annealing_coef: 0.0467 - global_step_get: 175.0000 - annealing_step_get: 3750.0000 - UEO_term: 0.7781alpha Tensor(\"loss/add:0\", shape=(None, 128, 128, 3), dtype=float32)\n",
      "u Tensor(\"loss/truediv:0\", shape=(None, 128, 128, 1), dtype=float32)\n",
      "A Tensor(\"loss/Sum_3:0\", shape=(None, 3), dtype=float32)\n",
      "B Tensor(\"loss/Sum_4:0\", shape=(None, 1, 1, 3), dtype=float32)\n",
      "term1 Tensor(\"loss/truediv_7:0\", shape=(None, 1, 1, 3), dtype=float32)\n",
      "term2 Tensor(\"loss/mul_5:0\", shape=(None, 1, 1, 3), dtype=float32)\n",
      "Tensor(\"loss/Repeat_1/Reshape_1:0\", shape=(None, None, None, 1), dtype=float32)\n",
      "alpha Tensor(\"add:0\", shape=(None, 128, 128, 3), dtype=float32)\n",
      "u Tensor(\"truediv:0\", shape=(None, 128, 128, 1), dtype=float32)\n",
      "K.int_shape(KL_reg) Tensor(\"mul_6:0\", shape=(None, 128, 128, 1), dtype=float32)\n",
      "alpha Tensor(\"add_7:0\", shape=(None, 128, 128, 3), dtype=float32)\n",
      "u Tensor(\"truediv_5:0\", shape=(None, 128, 128, 1), dtype=float32)\n",
      "K.int_shape(KL_reg) Tensor(\"mul_12:0\", shape=(None, 128, 128, 1), dtype=float32)\n",
      "alpha Tensor(\"add_16:0\", shape=(None, 128, 128, 3), dtype=float32)\n",
      "u Tensor(\"truediv_13:0\", shape=(None, 128, 128, 1), dtype=float32)\n",
      "K.int_shape(Y) Tensor(\"IteratorGetNext:1\", shape=(None, None, None, None), dtype=float32)\n",
      "K.int_shape(prob) Tensor(\"truediv_15:0\", shape=(None, 128, 128, 3), dtype=float32)\n",
      "351/351 [==============================] - 35s 93ms/step - loss: 0.8695 - accuracy: 0.4728 - KL_term: 0.0156 - loglikelihood_term: 0.6743 - evidential_success: 9.1082 - evidential_fail: 3.0828 - acc: 0.4730 - annealing_coef: 0.0467 - global_step_get: 175.0000 - annealing_step_get: 3750.0000 - UEO_term: 0.7781 - val_loss: 0.8367 - val_accuracy: 0.6435 - val_KL_term: 0.0171 - val_loglikelihood_term: 0.4064 - val_evidential_success: 18.8983 - val_evidential_fail: 2.6586 - val_acc: 0.6464 - val_annealing_coef: 0.0933 - val_global_step_get: 350.0000 - val_annealing_step_get: 3750.0000 - val_UEO_term: 0.8987\n",
      "\n",
      "Epoch 00001: val_loss improved from inf to 0.83667, saving model to D:/Jorge/datasets/deforestation/experiments/exp196/models\\resunet_0.h5\n",
      "Epoch 2/100\n",
      "self.global_step 350.0\n",
      "  1/351 [..............................] - ETA: 27s - loss: 0.8480 - accuracy: 0.5288 - KL_term: 0.0000e+00 - loglikelihood_term: 0.5211 - evidential_success: 19.7974 - evidential_fail: 1.2504 - acc: 0.5288 - annealing_coef: 0.0000e+00 - global_step_get: 0.0000e+00 - annealing_step_get: 3750.0000 - UEO_term: 1.0477"
     ]
    },
    {
     "name": "stderr",
     "output_type": "stream",
     "text": [
      "c:\\Users\\jchamorro\\Anaconda3\\envs\\tf2\\lib\\site-packages\\tensorflow\\python\\keras\\utils\\generic_utils.py:494: CustomMaskWarning: Custom mask layers require a config and must override get_config. When loading, the custom mask layer must be passed to the custom_objects argument.\n",
      "  warnings.warn('Custom mask layers require a config and must override '\n"
     ]
    },
    {
     "name": "stdout",
     "output_type": "stream",
     "text": [
      "351/351 [==============================] - 32s 91ms/step - loss: 0.8432 - accuracy: 0.5462 - KL_term: 0.0159 - loglikelihood_term: 0.5527 - evidential_success: 23.5257 - evidential_fail: 3.8706 - acc: 0.5463 - annealing_coef: 0.0933 - global_step_get: 350.0000 - annealing_step_get: 3750.0000 - UEO_term: 0.8976 - val_loss: 0.8431 - val_accuracy: 0.6397 - val_KL_term: 0.0233 - val_loglikelihood_term: 0.3986 - val_evidential_success: 23.2289 - val_evidential_fail: 1.8940 - val_acc: 0.6441 - val_annealing_coef: 0.1867 - val_global_step_get: 700.0000 - val_annealing_step_get: 3750.0000 - val_UEO_term: 0.9610 0.0159 - loglikelihood_term: 0.5528 - evidential_success: 23.6266 - evidential_fail: 3.9083 - acc: 0.5469 - annealing_coef: 0.0923 - global_step_get: 346.0000 - annealing_step_get: 3750.0000 - UEO_term: 0\n",
      "\n",
      "Epoch 00002: val_loss did not improve from 0.83667\n",
      "Epoch 3/100\n",
      "self.global_step 700.0\n",
      "351/351 [==============================] - 32s 90ms/step - loss: 0.8421 - accuracy: 0.5526 - KL_term: 0.0159 - loglikelihood_term: 0.5184 - evidential_success: 27.6524 - evidential_fail: 2.8435 - acc: 0.5523 - annealing_coef: 0.1400 - global_step_get: 525.0000 - annealing_step_get: 3750.0000 - UEO_term: 0.9795 - val_loss: 0.8448 - val_accuracy: 0.6468 - val_KL_term: 0.0285 - val_loglikelihood_term: 0.3868 - val_evidential_success: 27.5484 - val_evidential_fail: 1.5105 - val_acc: 0.6510 - val_annealing_coef: 0.2800 - val_global_step_get: 1050.0000 - val_annealing_step_get: 3750.0000 - val_UEO_term: 0.9837\n",
      "\n",
      "Epoch 00003: val_loss did not improve from 0.83667\n",
      "Epoch 4/100\n",
      "self.global_step 1050.0\n",
      "351/351 [==============================] - 32s 91ms/step - loss: 0.8424 - accuracy: 0.5549 - KL_term: 0.0161 - loglikelihood_term: 0.5014 - evidential_success: 29.3203 - evidential_fail: 1.9460 - acc: 0.5546 - annealing_coef: 0.1867 - global_step_get: 700.0000 - annealing_step_get: 3750.0000 - UEO_term: 1.0255 - val_loss: 0.8489 - val_accuracy: 0.6386 - val_KL_term: 0.0285 - val_loglikelihood_term: 0.3905 - val_evidential_success: 29.3338 - val_evidential_fail: 1.0272 - val_acc: 0.6431 - val_annealing_coef: 0.3733 - val_global_step_get: 1400.0000 - val_annealing_step_get: 3750.0000 - val_UEO_term: 1.0116\n",
      "\n",
      "Epoch 00004: val_loss did not improve from 0.83667\n",
      "Epoch 5/100\n",
      "self.global_step 1400.0\n",
      "351/351 [==============================] - 32s 91ms/step - loss: 0.8439 - accuracy: 0.5582 - KL_term: 0.0161 - loglikelihood_term: 0.4895 - evidential_success: 31.7615 - evidential_fail: 1.5963 - acc: 0.5582 - annealing_coef: 0.2333 - global_step_get: 875.0000 - annealing_step_get: 3750.0000 - UEO_term: 1.0587 - val_loss: 0.8514 - val_accuracy: 0.6463 - val_KL_term: 0.0248 - val_loglikelihood_term: 0.3952 - val_evidential_success: 29.9208 - val_evidential_fail: 0.7001 - val_acc: 0.6506 - val_annealing_coef: 0.4667 - val_global_step_get: 1750.0000 - val_annealing_step_get: 3750.0000 - val_UEO_term: 1.0129\n",
      "\n",
      "Epoch 00005: val_loss did not improve from 0.83667\n",
      "Epoch 6/100\n",
      "self.global_step 1750.0\n",
      "351/351 [==============================] - 32s 91ms/step - loss: 0.8416 - accuracy: 0.6348 - KL_term: 0.0168 - loglikelihood_term: 0.4547 - evidential_success: 31.5055 - evidential_fail: 1.3945 - acc: 0.6345 - annealing_coef: 0.2800 - global_step_get: 1050.0000 - annealing_step_get: 3750.0000 - UEO_term: 0.9813 - val_loss: 0.8341 - val_accuracy: 0.9030 - val_KL_term: 0.0353 - val_loglikelihood_term: 0.2286 - val_evidential_success: 27.5759 - val_evidential_fail: 2.3304 - val_acc: 0.9040 - val_annealing_coef: 0.5600 - val_global_step_get: 2100.0000 - val_annealing_step_get: 3750.0000 - val_UEO_term: 0.3920\n",
      "\n",
      "Epoch 00006: val_loss improved from 0.83667 to 0.83409, saving model to D:/Jorge/datasets/deforestation/experiments/exp196/models\\resunet_0.h5\n",
      "Epoch 7/100\n",
      "self.global_step 2100.0\n",
      "351/351 [==============================] - 32s 90ms/step - loss: 0.8027 - accuracy: 0.9122 - KL_term: 0.0228 - loglikelihood_term: 0.1757 - evidential_success: 33.1572 - evidential_fail: 4.8134 - acc: 0.9120 - annealing_coef: 0.3267 - global_step_get: 1225.0000 - annealing_step_get: 3750.0000 - UEO_term: 0.4181 - val_loss: 0.8237 - val_accuracy: 0.9113 - val_KL_term: 0.0424 - val_loglikelihood_term: 0.1754 - val_evidential_success: 33.6752 - val_evidential_fail: 2.6542 - val_acc: 0.9122 - val_annealing_coef: 0.6533 - val_global_step_get: 2450.0000 - val_annealing_step_get: 3750.0000 - val_UEO_term: 0.4001\n",
      "\n",
      "Epoch 00007: val_loss improved from 0.83409 to 0.82365, saving model to D:/Jorge/datasets/deforestation/experiments/exp196/models\\resunet_0.h5\n",
      "Epoch 8/100\n",
      "self.global_step 2450.0\n",
      "351/351 [==============================] - 32s 91ms/step - loss: 0.7972 - accuracy: 0.9191 - KL_term: 0.0227 - loglikelihood_term: 0.1592 - evidential_success: 36.9854 - evidential_fail: 4.6189 - acc: 0.9190 - annealing_coef: 0.3733 - global_step_get: 1400.0000 - annealing_step_get: 3750.0000 - UEO_term: 0.4285 - val_loss: 0.8245 - val_accuracy: 0.9152 - val_KL_term: 0.0413 - val_loglikelihood_term: 0.1696 - val_evidential_success: 34.3477 - val_evidential_fail: 2.4496 - val_acc: 0.9160 - val_annealing_coef: 0.7467 - val_global_step_get: 2800.0000 - val_annealing_step_get: 3750.0000 - val_UEO_term: 0.4217\n",
      "\n",
      "Epoch 00008: val_loss did not improve from 0.82365\n",
      "Epoch 9/100\n",
      "self.global_step 2800.0\n",
      "351/351 [==============================] - 32s 91ms/step - loss: 0.7953 - accuracy: 0.9226 - KL_term: 0.0227 - loglikelihood_term: 0.1531 - evidential_success: 40.4140 - evidential_fail: 4.4498 - acc: 0.9227 - annealing_coef: 0.4200 - global_step_get: 1575.0000 - annealing_step_get: 3750.0000 - UEO_term: 0.4358 - val_loss: 0.8282 - val_accuracy: 0.9181 - val_KL_term: 0.0480 - val_loglikelihood_term: 0.1629 - val_evidential_success: 37.8754 - val_evidential_fail: 2.5945 - val_acc: 0.9190 - val_annealing_coef: 0.8400 - val_global_step_get: 3150.0000 - val_annealing_step_get: 3750.0000 - val_UEO_term: 0.4245\n",
      "\n",
      "Epoch 00009: val_loss did not improve from 0.82365\n",
      "Epoch 10/100\n",
      "self.global_step 3150.0\n",
      "351/351 [==============================] - 32s 91ms/step - loss: 0.7948 - accuracy: 0.9245 - KL_term: 0.0230 - loglikelihood_term: 0.1509 - evidential_success: 42.7377 - evidential_fail: 4.1413 - acc: 0.9244 - annealing_coef: 0.4667 - global_step_get: 1750.0000 - annealing_step_get: 3750.0000 - UEO_term: 0.4415 - val_loss: 0.8234 - val_accuracy: 0.9180 - val_KL_term: 0.0418 - val_loglikelihood_term: 0.1703 - val_evidential_success: 35.4815 - val_evidential_fail: 2.0163 - val_acc: 0.9189 - val_annealing_coef: 0.9333 - val_global_step_get: 3500.0000 - val_annealing_step_get: 3750.0000 - val_UEO_term: 0.4252\n",
      "\n",
      "Epoch 00010: val_loss improved from 0.82365 to 0.82344, saving model to D:/Jorge/datasets/deforestation/experiments/exp196/models\\resunet_0.h5\n",
      "Epoch 11/100\n",
      "self.global_step 3500.0\n",
      "351/351 [==============================] - 32s 91ms/step - loss: 0.7934 - accuracy: 0.9267 - KL_term: 0.0232 - loglikelihood_term: 0.1480 - evidential_success: 43.9259 - evidential_fail: 3.9835 - acc: 0.9267 - annealing_coef: 0.5129 - global_step_get: 1925.0000 - annealing_step_get: 3750.0000 - UEO_term: 0.4414 - val_loss: 0.8264 - val_accuracy: 0.9195 - val_KL_term: 0.0482 - val_loglikelihood_term: 0.1656 - val_evidential_success: 39.8129 - val_evidential_fail: 2.2029 - val_acc: 0.9203 - val_annealing_coef: 1.0000 - val_global_step_get: 3850.0000 - val_annealing_step_get: 3750.0000 - val_UEO_term: 0.4285\n",
      "\n",
      "Epoch 00011: val_loss did not improve from 0.82344\n",
      "Epoch 12/100\n",
      "self.global_step 3850.0\n",
      "351/351 [==============================] - 32s 91ms/step - loss: 0.7923 - accuracy: 0.9286 - KL_term: 0.0232 - loglikelihood_term: 0.1451 - evidential_success: 47.5247 - evidential_fail: 3.7025 - acc: 0.9287 - annealing_coef: 0.5534 - global_step_get: 2100.0000 - annealing_step_get: 3750.0000 - UEO_term: 0.4484 - val_loss: 0.8292 - val_accuracy: 0.9166 - val_KL_term: 0.0413 - val_loglikelihood_term: 0.1862 - val_evidential_success: 41.2936 - val_evidential_fail: 2.0873 - val_acc: 0.9174 - val_annealing_coef: 1.0000 - val_global_step_get: 4200.0000 - val_annealing_step_get: 3750.0000 - val_UEO_term: 0.4422\n",
      "\n",
      "Epoch 00012: val_loss did not improve from 0.82344\n",
      "Epoch 13/100\n",
      "self.global_step 4200.0\n",
      "351/351 [==============================] - 32s 92ms/step - loss: 0.7920 - accuracy: 0.9298 - KL_term: 0.0238 - loglikelihood_term: 0.1440 - evidential_success: 48.9308 - evidential_fail: 3.7419 - acc: 0.9298 - annealing_coef: 0.5877 - global_step_get: 2275.0000 - annealing_step_get: 3750.0000 - UEO_term: 0.4473 - val_loss: 0.8301 - val_accuracy: 0.9177 - val_KL_term: 0.0520 - val_loglikelihood_term: 0.1648 - val_evidential_success: 54.5277 - val_evidential_fail: 2.4926 - val_acc: 0.9186 - val_annealing_coef: 1.0000 - val_global_step_get: 4550.0000 - val_annealing_step_get: 3750.0000 - val_UEO_term: 0.43698s - loss: 0.7849 - accuracy: 0.9295 - KL_term: 0.0211 - l - ETA: 0s - loss: 0.7917 - accuracy: 0.9298 - KL_term: 0.0236 - loglikelihood_term: 0.1438 - evidential_success: 48.8296 - evidential_fail: 3.8021 - acc: 0.9297 - annealing_coef: 0.5743 - global_step_get: 2203.5000 - annealing_step_get: 3750.0\n",
      "\n",
      "Epoch 00013: val_loss did not improve from 0.82344\n",
      "Epoch 14/100\n",
      "self.global_step 4550.0\n",
      "351/351 [==============================] - 33s 93ms/step - loss: 0.7910 - accuracy: 0.9311 - KL_term: 0.0236 - loglikelihood_term: 0.1423 - evidential_success: 50.0254 - evidential_fail: 3.4684 - acc: 0.9311 - annealing_coef: 0.6170 - global_step_get: 2450.0000 - annealing_step_get: 3750.0000 - UEO_term: 0.4533 - val_loss: 0.8328 - val_accuracy: 0.9228 - val_KL_term: 0.0563 - val_loglikelihood_term: 0.1531 - val_evidential_success: 54.4493 - val_evidential_fail: 2.8523 - val_acc: 0.9235 - val_annealing_coef: 1.0000 - val_global_step_get: 4900.0000 - val_annealing_step_get: 3750.0000 - val_UEO_term: 0.4496\n",
      "\n",
      "Epoch 00014: val_loss did not improve from 0.82344\n",
      "Epoch 15/100\n",
      "self.global_step 4900.0\n",
      "351/351 [==============================] - 32s 92ms/step - loss: 0.7909 - accuracy: 0.9320 - KL_term: 0.0239 - loglikelihood_term: 0.1407 - evidential_success: 53.0993 - evidential_fail: 3.4266 - acc: 0.9320 - annealing_coef: 0.6425 - global_step_get: 2625.0000 - annealing_step_get: 3750.0000 - UEO_term: 0.4580 - val_loss: 0.8240 - val_accuracy: 0.9173 - val_KL_term: 0.0505 - val_loglikelihood_term: 0.1677 - val_evidential_success: 38.8529 - val_evidential_fail: 2.2245 - val_acc: 0.9181 - val_annealing_coef: 1.0000 - val_global_step_get: 5250.0000 - val_annealing_step_get: 3750.0000 - val_UEO_term: 0.4132\n",
      "\n",
      "Epoch 00015: val_loss did not improve from 0.82344\n",
      "Epoch 16/100\n",
      "self.global_step 5250.0\n",
      "351/351 [==============================] - 32s 91ms/step - loss: 0.7887 - accuracy: 0.9332 - KL_term: 0.0238 - loglikelihood_term: 0.1388 - evidential_success: 54.9418 - evidential_fail: 3.3283 - acc: 0.9332 - annealing_coef: 0.6647 - global_step_get: 2800.0000 - annealing_step_get: 3750.0000 - UEO_term: 0.4594 - val_loss: 0.8353 - val_accuracy: 0.9203 - val_KL_term: 0.0647 - val_loglikelihood_term: 0.1544 - val_evidential_success: 48.7764 - val_evidential_fail: 2.9871 - val_acc: 0.9211 - val_annealing_coef: 1.0000 - val_global_step_get: 5600.0000 - val_annealing_step_get: 3750.0000 - val_UEO_term: 0.4273\n",
      "\n",
      "Epoch 00016: val_loss did not improve from 0.82344\n",
      "Epoch 17/100\n",
      "self.global_step 5600.0\n",
      "351/351 [==============================] - 32s 91ms/step - loss: 0.7885 - accuracy: 0.9334 - KL_term: 0.0238 - loglikelihood_term: 0.1384 - evidential_success: 56.8742 - evidential_fail: 3.2008 - acc: 0.9334 - annealing_coef: 0.6843 - global_step_get: 2975.0000 - annealing_step_get: 3750.0000 - UEO_term: 0.4639 - val_loss: 0.8338 - val_accuracy: 0.9209 - val_KL_term: 0.0600 - val_loglikelihood_term: 0.1559 - val_evidential_success: 51.8455 - val_evidential_fail: 2.7728 - val_acc: 0.9214 - val_annealing_coef: 1.0000 - val_global_step_get: 5950.0000 - val_annealing_step_get: 3750.0000 - val_UEO_term: 0.4286\n",
      "\n",
      "Epoch 00017: val_loss did not improve from 0.82344\n",
      "Epoch 18/100\n",
      "self.global_step 5950.0\n",
      "351/351 [==============================] - 32s 91ms/step - loss: 0.7878 - accuracy: 0.9343 - KL_term: 0.0237 - loglikelihood_term: 0.1375 - evidential_success: 59.0876 - evidential_fail: 3.1184 - acc: 0.9343 - annealing_coef: 0.7018 - global_step_get: 3150.0000 - annealing_step_get: 3750.0000 - UEO_term: 0.4672 - val_loss: 0.8215 - val_accuracy: 0.9261 - val_KL_term: 0.0451 - val_loglikelihood_term: 0.1532 - val_evidential_success: 57.7283 - val_evidential_fail: 2.4727 - val_acc: 0.9267 - val_annealing_coef: 1.0000 - val_global_step_get: 6300.0000 - val_annealing_step_get: 3750.0000 - val_UEO_term: 0.4400\n",
      "\n",
      "Epoch 00018: val_loss improved from 0.82344 to 0.82149, saving model to D:/Jorge/datasets/deforestation/experiments/exp196/models\\resunet_0.h5\n",
      "Epoch 19/100\n",
      "self.global_step 6300.0\n",
      "351/351 [==============================] - 32s 91ms/step - loss: 0.7878 - accuracy: 0.9352 - KL_term: 0.0239 - loglikelihood_term: 0.1362 - evidential_success: 61.8795 - evidential_fail: 3.1431 - acc: 0.9351 - annealing_coef: 0.7174 - global_step_get: 3325.0000 - annealing_step_get: 3750.0000 - UEO_term: 0.4659 - val_loss: 0.8345 - val_accuracy: 0.9245 - val_KL_term: 0.0648 - val_loglikelihood_term: 0.1434 - val_evidential_success: 59.4796 - val_evidential_fail: 3.1574 - val_acc: 0.9252 - val_annealing_coef: 1.0000 - val_global_step_get: 6650.0000 - val_annealing_step_get: 3750.0000 - val_UEO_term: 0.4250\n",
      "\n",
      "Epoch 00019: val_loss did not improve from 0.82149\n",
      "Epoch 20/100\n",
      "self.global_step 6650.0\n",
      "351/351 [==============================] - 32s 91ms/step - loss: 0.7867 - accuracy: 0.9354 - KL_term: 0.0240 - loglikelihood_term: 0.1357 - evidential_success: 63.5229 - evidential_fail: 3.0650 - acc: 0.9354 - annealing_coef: 0.7315 - global_step_get: 3500.0000 - annealing_step_get: 3750.0000 - UEO_term: 0.4675 - val_loss: 0.8285 - val_accuracy: 0.9251 - val_KL_term: 0.0560 - val_loglikelihood_term: 0.1452 - val_evidential_success: 75.6678 - val_evidential_fail: 2.8718 - val_acc: 0.9257 - val_annealing_coef: 1.0000 - val_global_step_get: 7000.0000 - val_annealing_step_get: 3750.0000 - val_UEO_term: 0.4568\n",
      "\n",
      "Epoch 00020: val_loss did not improve from 0.82149\n",
      "Epoch 21/100\n",
      "self.global_step 7000.0\n",
      "351/351 [==============================] - 32s 91ms/step - loss: 0.7859 - accuracy: 0.9364 - KL_term: 0.0240 - loglikelihood_term: 0.1342 - evidential_success: 65.2519 - evidential_fail: 3.0096 - acc: 0.9363 - annealing_coef: 0.7442 - global_step_get: 3675.0000 - annealing_step_get: 3750.0000 - UEO_term: 0.4703 - val_loss: 0.8379 - val_accuracy: 0.9195 - val_KL_term: 0.0642 - val_loglikelihood_term: 0.1574 - val_evidential_success: 55.5183 - val_evidential_fail: 2.8015 - val_acc: 0.9203 - val_annealing_coef: 1.0000 - val_global_step_get: 7350.0000 - val_annealing_step_get: 3750.0000 - val_UEO_term: 0.4329\n",
      "\n",
      "Epoch 00021: val_loss did not improve from 0.82149\n",
      "Epoch 22/100\n",
      "self.global_step 7350.0\n",
      "351/351 [==============================] - 32s 90ms/step - loss: 0.7848 - accuracy: 0.9371 - KL_term: 0.0237 - loglikelihood_term: 0.1330 - evidential_success: 65.9544 - evidential_fail: 2.9192 - acc: 0.9370 - annealing_coef: 0.7558 - global_step_get: 3850.0000 - annealing_step_get: 3750.0000 - UEO_term: 0.4702 - val_loss: 0.8348 - val_accuracy: 0.9232 - val_KL_term: 0.0641 - val_loglikelihood_term: 0.1457 - val_evidential_success: 79.9711 - val_evidential_fail: 3.0822 - val_acc: 0.9240 - val_annealing_coef: 1.0000 - val_global_step_get: 7700.0000 - val_annealing_step_get: 3750.0000 - val_UEO_term: 0.4599\n",
      "\n",
      "Epoch 00022: val_loss did not improve from 0.82149\n",
      "Epoch 23/100\n",
      "self.global_step 7700.0\n",
      "351/351 [==============================] - 32s 91ms/step - loss: 0.7846 - accuracy: 0.9372 - KL_term: 0.0236 - loglikelihood_term: 0.1326 - evidential_success: 69.9743 - evidential_fail: 2.8671 - acc: 0.9372 - annealing_coef: 0.7663 - global_step_get: 4025.0000 - annealing_step_get: 3750.0000 - UEO_term: 0.4734 - val_loss: 0.8368 - val_accuracy: 0.9255 - val_KL_term: 0.0673 - val_loglikelihood_term: 0.1415 - val_evidential_success: 76.6193 - val_evidential_fail: 3.3630 - val_acc: 0.9262 - val_annealing_coef: 1.0000 - val_global_step_get: 8050.0000 - val_annealing_step_get: 3750.0000 - val_UEO_term: 0.4490\n",
      "\n",
      "Epoch 00023: val_loss did not improve from 0.82149\n",
      "Epoch 24/100\n",
      "self.global_step 8050.0\n",
      "351/351 [==============================] - 32s 91ms/step - loss: 0.7836 - accuracy: 0.9379 - KL_term: 0.0235 - loglikelihood_term: 0.1313 - evidential_success: 72.0786 - evidential_fail: 2.8572 - acc: 0.9378 - annealing_coef: 0.7760 - global_step_get: 4200.0000 - annealing_step_get: 3750.0000 - UEO_term: 0.4762 - val_loss: 0.8454 - val_accuracy: 0.9224 - val_KL_term: 0.0778 - val_loglikelihood_term: 0.1446 - val_evidential_success: 78.7459 - val_evidential_fail: 3.7550 - val_acc: 0.9231 - val_annealing_coef: 1.0000 - val_global_step_get: 8400.0000 - val_annealing_step_get: 3750.0000 - val_UEO_term: 0.4459\n",
      "\n",
      "Epoch 00024: val_loss did not improve from 0.82149\n",
      "Epoch 25/100\n",
      "self.global_step 8400.0\n",
      "351/351 [==============================] - 32s 91ms/step - loss: 0.7830 - accuracy: 0.9383 - KL_term: 0.0235 - loglikelihood_term: 0.1309 - evidential_success: 75.5184 - evidential_fail: 2.8250 - acc: 0.9383 - annealing_coef: 0.7849 - global_step_get: 4375.0000 - annealing_step_get: 3750.0000 - UEO_term: 0.4803 - val_loss: 0.8416 - val_accuracy: 0.9231 - val_KL_term: 0.0713 - val_loglikelihood_term: 0.1426 - val_evidential_success: 83.8137 - val_evidential_fail: 3.6206 - val_acc: 0.9238 - val_annealing_coef: 1.0000 - val_global_step_get: 8750.0000 - val_annealing_step_get: 3750.0000 - val_UEO_term: 0.4412\n",
      "\n",
      "Epoch 00025: val_loss did not improve from 0.82149\n",
      "Epoch 26/100\n",
      "self.global_step 8750.0\n",
      "351/351 [==============================] - 32s 91ms/step - loss: 0.7822 - accuracy: 0.9392 - KL_term: 0.0235 - loglikelihood_term: 0.1288 - evidential_success: 75.5267 - evidential_fail: 2.7718 - acc: 0.9393 - annealing_coef: 0.7931 - global_step_get: 4550.0000 - annealing_step_get: 3750.0000 - UEO_term: 0.4766 - val_loss: 0.8246 - val_accuracy: 0.9267 - val_KL_term: 0.0537 - val_loglikelihood_term: 0.1421 - val_evidential_success: 88.5032 - val_evidential_fail: 2.9581 - val_acc: 0.9273 - val_annealing_coef: 1.0000 - val_global_step_get: 9100.0000 - val_annealing_step_get: 3750.0000 - val_UEO_term: 0.4654\n",
      "\n",
      "Epoch 00026: val_loss did not improve from 0.82149\n",
      "Epoch 27/100\n",
      "self.global_step 9100.0\n",
      "351/351 [==============================] - 32s 91ms/step - loss: 0.7820 - accuracy: 0.9393 - KL_term: 0.0233 - loglikelihood_term: 0.1285 - evidential_success: 76.0105 - evidential_fail: 2.7321 - acc: 0.9393 - annealing_coef: 0.8007 - global_step_get: 4725.0000 - annealing_step_get: 3750.0000 - UEO_term: 0.4796 - val_loss: 0.8410 - val_accuracy: 0.9253 - val_KL_term: 0.0711 - val_loglikelihood_term: 0.1428 - val_evidential_success: 93.4679 - val_evidential_fail: 3.6715 - val_acc: 0.9260 - val_annealing_coef: 1.0000 - val_global_step_get: 9450.0000 - val_annealing_step_get: 3750.0000 - val_UEO_term: 0.4580\n",
      "\n",
      "Epoch 00027: val_loss did not improve from 0.82149\n",
      "Epoch 28/100\n",
      "self.global_step 9450.0\n",
      "351/351 [==============================] - 32s 91ms/step - loss: 0.7809 - accuracy: 0.9396 - KL_term: 0.0234 - loglikelihood_term: 0.1281 - evidential_success: 79.2377 - evidential_fail: 2.7402 - acc: 0.9396 - annealing_coef: 0.8078 - global_step_get: 4900.0000 - annealing_step_get: 3750.0000 - UEO_term: 0.4816 - val_loss: 0.8457 - val_accuracy: 0.9240 - val_KL_term: 0.0788 - val_loglikelihood_term: 0.1420 - val_evidential_success: 97.2257 - val_evidential_fail: 4.0171 - val_acc: 0.9247 - val_annealing_coef: 1.0000 - val_global_step_get: 9800.0000 - val_annealing_step_get: 3750.0000 - val_UEO_term: 0.4453\n",
      "\n",
      "Epoch 00028: val_loss did not improve from 0.82149\n",
      "Epoch 00028: early stopping\n",
      "-30.0 -16.0\n"
     ]
    },
    {
     "name": "stderr",
     "output_type": "stream",
     "text": [
      "ic| self.path_models+ '/' + self.method +'_'+str(0)+'.h5': 'D:/Jorge/datasets/deforestation/experiments/exp196/models/resunet_0.h5'\n"
     ]
    },
    {
     "name": "stdout",
     "output_type": "stream",
     "text": [
      "time:  0\n",
      "(54236371,)\n",
      "(array([0, 1], dtype=uint8), array([53470765,   765606], dtype=int64))\n",
      "(17730, 9200)\n",
      "(array([0., 1.], dtype=float32), array([161358252,   1757748], dtype=int64))\n"
     ]
    },
    {
     "name": "stderr",
     "output_type": "stream",
     "text": [
      "ic| self.predicted_unpad.shape: (17730, 9200)\n",
      "    self.predicted.shape: (17730, 9200)\n",
      "ic| predicted_test.shape: (81558000,)\n",
      "ic| predicted_test.shape: (54236371,)\n",
      "ic| np.unique(predicted, return_counts=True): (array([0., 1.], dtype=float32), array([161358252,   1757748], dtype=int64))\n",
      "    np.unique(predicted_larger_than_min_area, return_counts=True): (array([0., 1.], dtype=float32), array([161579182,   1536818], dtype=int64))\n",
      "ic| np.unique(ignored_polygons, return_counts=True): (array([0., 1.], dtype=float32), array([162895070,    220930], dtype=int64))\n",
      "ic| self.f1: 79.16, self.precision: 84.93, self.recall: 74.12\n",
      "ic| self.label_mask_val.shape: (16311600,)\n",
      "ic| self.label_mask_val_valid.shape: (9428331,)\n",
      "ic| f1_val: 80.8\n",
      "    precision_val: 82.73\n",
      "    recall_val: 78.96\n",
      "    mAP_val: 86.92\n"
     ]
    },
    {
     "name": "stdout",
     "output_type": "stream",
     "text": [
      "(array([0., 1.], dtype=float32), array([162388438,    727562], dtype=int64))\n",
      "[0. 1.]\n"
     ]
    },
    {
     "name": "stderr",
     "output_type": "stream",
     "text": [
      "ic| self.label_mask.shape: (17730, 9200)\n",
      "ic| self.mask_amazon_ts.shape: (17730, 9200)\n",
      "ic| self.label_mask_test.shape: (81558000,)\n",
      "ic| self.error_mask_test.shape: (54122584,)\n"
     ]
    },
    {
     "name": "stdout",
     "output_type": "stream",
     "text": [
      "(54122584,) (54122584,)\n"
     ]
    },
    {
     "name": "stderr",
     "output_type": "stream",
     "text": [
      "ic| bounds: (0.0015, 0.9985)\n"
     ]
    },
    {
     "name": "stdout",
     "output_type": "stream",
     "text": [
      "0.35993511082351887\n",
      "0\n",
      "0.38232011321635484\n",
      "threshold 0.38232011321635484\n"
     ]
    },
    {
     "name": "stderr",
     "output_type": "stream",
     "text": [
      "c:\\Users\\jchamorro\\Anaconda3\\envs\\tf2\\lib\\site-packages\\scipy\\optimize\\_minimize.py:783: RuntimeWarning: Method 'bounded' does not support relative tolerance in x; defaulting to absolute tolerance.\n",
      "  warn(\"Method 'bounded' does not support relative tolerance in x; \"\n"
     ]
    },
    {
     "name": "stdout",
     "output_type": "stream",
     "text": [
      "(51502180,) (51502180,)\n"
     ]
    },
    {
     "name": "stderr",
     "output_type": "stream",
     "text": [
      "ic| label_current_deforestation_test_classified_incorrect.shape: (2620404,)\n",
      "    predicted_test_classified_incorrect.shape: (2620404,)\n"
     ]
    },
    {
     "name": "stdout",
     "output_type": "stream",
     "text": [
      "cm_correct [[51091339    14465]\n",
      " [   27868   368508]]\n"
     ]
    },
    {
     "name": "stderr",
     "output_type": "stream",
     "text": [
      "ic| TP_H + FN_H + FP_H + TN_H: 2620404\n",
      "    len(label_mask_current_deforestation_test): 54122584\n",
      "ic| TP_H + FN_H + FP_H + TN_H: 2620404\n",
      "    len(label_mask_current_deforestation_test): 54122584\n"
     ]
    },
    {
     "name": "stdout",
     "output_type": "stream",
     "text": [
      "cm_incorrect [[2200045   82125]\n",
      " [ 162240  175994]]\n",
      "[0.96222971 0.92969302 0.5016376  0.04841609 0.6818328  0.52033208\n",
      " 0.09177211]\n",
      "0.6176798867836452\n",
      "threshold 0.6176798867836452\n",
      "(52585215,) (52585215,)\n"
     ]
    },
    {
     "name": "stderr",
     "output_type": "stream",
     "text": [
      "ic| label_current_deforestation_test_classified_incorrect.shape: (1537369,)\n",
      "    predicted_test_classified_incorrect.shape: (1537369,)\n",
      "ic| "
     ]
    },
    {
     "name": "stdout",
     "output_type": "stream",
     "text": [
      "cm_correct [[51997378    63752]\n",
      " [   37092   486993]]\n",
      "cm_incorrect [[1294006   32838]\n",
      " [ 153016   57509]]\n"
     ]
    },
    {
     "name": "stderr",
     "output_type": "stream",
     "text": [
      "TP_H + FN_H + FP_H + TN_H: 1537369\n",
      "    len(label_mask_current_deforestation_test): 54122584\n",
      "ic| TP_H + FN_H + FP_H + TN_H: 1537369\n",
      "    len(label_mask_current_deforestation_test): 54122584\n"
     ]
    },
    {
     "name": "stdout",
     "output_type": "stream",
     "text": [
      "[0.88424407 0.92922522 0.66292727 0.02840531 0.63653469 0.27316946\n",
      " 0.11344923]\n",
      "0.7631402264327096\n",
      "threshold 0.7631402264327096\n",
      "(53003421,) (53003421,)\n"
     ]
    },
    {
     "name": "stderr",
     "output_type": "stream",
     "text": [
      "ic| label_current_deforestation_test_classified_incorrect.shape: (1119163,)\n",
      "    predicted_test_classified_incorrect.shape: (1119163,)\n",
      "d:\\Jorge\\deforestation_uncertainty\\src\\metrics.py:295: RuntimeWarning: invalid value encountered in longlong_scalars\n",
      "  precision_H = TP_H / (TP_H + FP_H)\n",
      "ic| TP_H + FN_H + FP_H + TN_H: 1119163\n",
      "    len(label_mask_current_deforestation_test): 54122584\n",
      "ic| TP_H + FN_H + FP_H + TN_H: 1119163\n",
      "    len(label_mask_current_deforestation_test): 54122584\n"
     ]
    },
    {
     "name": "stdout",
     "output_type": "stream",
     "text": [
      "cm_correct [[52313551    96590]\n",
      " [   48778   544502]]\n",
      "cm_incorrect [[977833      0]\n",
      " [141330      0]]\n",
      "[0.8493352  0.9177825  0.74121234 0.0206783         nan 0.\n",
      " 0.11176476]\n",
      "0.6092268187988832\n",
      "threshold 0.6092268187988832\n",
      "(52557574,) (52557574,)\n"
     ]
    },
    {
     "name": "stderr",
     "output_type": "stream",
     "text": [
      "ic| label_current_deforestation_test_classified_incorrect.shape: (1565010,)\n",
      "    predicted_test_classified_incorrect.shape: (1565010,)\n",
      "ic"
     ]
    },
    {
     "name": "stdout",
     "output_type": "stream",
     "text": [
      "cm_correct [[51976129    61817]\n",
      " [   36742   482886]]\n",
      "cm_incorrect [[1315255   34773]\n",
      " [ 153366   61616]]\n"
     ]
    },
    {
     "name": "stderr",
     "output_type": "stream",
     "text": [
      "| TP_H + FN_H + FP_H + TN_H: 1565010\n",
      "    len(label_mask_current_deforestation_test): 54122584\n",
      "ic| TP_H + FN_H + FP_H + TN_H: 1565010\n",
      "    len(label_mask_current_deforestation_test): 54122584\n"
     ]
    },
    {
     "name": "stdout",
     "output_type": "stream",
     "text": [
      "[0.88651247 0.92929172 0.65733655 0.02891603 0.63924307 0.28661004\n",
      " 0.1130936 ]\n",
      "0.5225561695416229\n",
      "threshold 0.5225561695416229\n",
      "(52231731,) (52231731,)\n"
     ]
    },
    {
     "name": "stderr",
     "output_type": "stream",
     "text": [
      "ic| label_current_deforestation_test_classified_incorrect.shape: (1890853,)\n",
      "    predicted_test_classified_incorrect.shape: (1890853,)\n"
     ]
    },
    {
     "name": "stdout",
     "output_type": "stream",
     "text": [
      "cm_correct [[51714760    41962]\n",
      " [   33448   441561]]\n"
     ]
    },
    {
     "name": "stderr",
     "output_type": "stream",
     "text": [
      "ic| TP_H + FN_H + FP_H + TN_H: 1890853\n",
      "    len(label_mask_current_deforestation_test): 54122584\n",
      "ic| TP_H + FN_H + FP_H + TN_H: 1890853\n",
      "    len(label_mask_current_deforestation_test): 54122584\n"
     ]
    },
    {
     "name": "stdout",
     "output_type": "stream",
     "text": [
      "cm_incorrect [[1576624   54628]\n",
      " [ 156660  102941]]\n",
      "[0.91321612 0.92958449 0.60108221 0.03493649 0.65330744 0.39653545\n",
      " 0.10745663]\n",
      "0.5860515127235045\n",
      "threshold 0.5860515127235045\n",
      "(52479186,) (52479186,)\n"
     ]
    },
    {
     "name": "stderr",
     "output_type": "stream",
     "text": [
      "ic| label_current_deforestation_test_classified_incorrect.shape: (1643398,)\n",
      "    predicted_test_classified_incorrect.shape: (1643398,)\n",
      "ic"
     ]
    },
    {
     "name": "stdout",
     "output_type": "stream",
     "text": [
      "cm_correct [[51915127    56678]\n",
      " [   35875   471506]]\n",
      "cm_incorrect [[1376257   39912]\n",
      " [ 154233   72996]]\n"
     ]
    },
    {
     "name": "stderr",
     "output_type": "stream",
     "text": [
      "| TP_H + FN_H + FP_H + TN_H: 1643398\n",
      "    len(label_mask_current_deforestation_test): 54122584\n",
      "ic| TP_H + FN_H + FP_H + TN_H: 1643398\n",
      "    len(label_mask_current_deforestation_test): 54122584\n"
     ]
    },
    {
     "name": "stdout",
     "output_type": "stream",
     "text": [
      "[0.8926927  0.92929377 0.64184533 0.03036437 0.64650866 0.32124421\n",
      " 0.11183783]\n",
      "0.5809181142977544\n",
      "threshold 0.5809181142977544\n",
      "(52461063,) (52461063,)\n"
     ]
    },
    {
     "name": "stderr",
     "output_type": "stream",
     "text": [
      "ic| label_current_deforestation_test_classified_incorrect.shape: (1661521,)\n",
      "    predicted_test_classified_incorrect.shape: (1661521,)\n",
      "ic"
     ]
    },
    {
     "name": "stdout",
     "output_type": "stream",
     "text": [
      "cm_correct [[51900833    55526]\n",
      " [   35669   469035]]\n",
      "cm_incorrect [[1390551   41064]\n",
      " [ 154439   75467]]\n"
     ]
    },
    {
     "name": "stderr",
     "output_type": "stream",
     "text": [
      "| TP_H + FN_H + FP_H + TN_H: 1661521\n",
      "    len(label_mask_current_deforestation_test): 54122584\n",
      "ic| TP_H + FN_H + FP_H + TN_H: 1661521\n",
      "    len(label_mask_current_deforestation_test): 54122584\n"
     ]
    },
    {
     "name": "stdout",
     "output_type": "stream",
     "text": [
      "[0.89414768 0.92932689 0.63848164 0.03069922 0.64761308 0.32825155\n",
      " 0.11154289]\n",
      "0.5930743626550092\n",
      "threshold 0.5930743626550092\n",
      "(52503604,) (52503604,)\n"
     ]
    },
    {
     "name": "stderr",
     "output_type": "stream",
     "text": [
      "ic| label_current_deforestation_test_classified_incorrect.shape: (1618980,)\n",
      "    predicted_test_classified_incorrect.shape: (1618980,)\n",
      "ic"
     ]
    },
    {
     "name": "stdout",
     "output_type": "stream",
     "text": [
      "cm_correct [[51934348    58228]\n",
      " [   36141   474887]]\n",
      "cm_incorrect [[1357036   38362]\n",
      " [ 153967   69615]]\n"
     ]
    },
    {
     "name": "stderr",
     "output_type": "stream",
     "text": [
      "| TP_H + FN_H + FP_H + TN_H: 1618980\n",
      "    len(label_mask_current_deforestation_test): 54122584\n",
      "ic| TP_H + FN_H + FP_H + TN_H: 1618980\n",
      "    len(label_mask_current_deforestation_test): 54122584\n"
     ]
    },
    {
     "name": "stdout",
     "output_type": "stream",
     "text": [
      "[0.89077779 0.92927785 0.64644778 0.02991321 0.64472063 0.31136227\n",
      " 0.11225325]\n",
      "0.599244051900177\n",
      "threshold 0.599244051900177\n",
      "(52524408,) (52524408,)\n"
     ]
    },
    {
     "name": "stderr",
     "output_type": "stream",
     "text": [
      "ic| label_current_deforestation_test_classified_incorrect.shape: (1598176,)\n",
      "    predicted_test_classified_incorrect.shape: (1598176,)\n",
      "ic"
     ]
    },
    {
     "name": "stdout",
     "output_type": "stream",
     "text": [
      "cm_correct [[51950456    59614]\n",
      " [   36386   477952]]\n",
      "cm_incorrect [[1340928   36976]\n",
      " [ 153722   66550]]\n"
     ]
    },
    {
     "name": "stderr",
     "output_type": "stream",
     "text": [
      "| TP_H + FN_H + FP_H + TN_H: 1598176\n",
      "    len(label_mask_current_deforestation_test): 54122584\n",
      "ic| TP_H + FN_H + FP_H + TN_H: 1598176\n",
      "    len(label_mask_current_deforestation_test): 54122584\n"
     ]
    },
    {
     "name": "stdout",
     "output_type": "stream",
     "text": [
      "[0.88910385 0.92925664 0.65062006 0.02952882 0.64283368 0.30212646\n",
      " 0.11256091]\n",
      "0.5921232939472567\n",
      "threshold 0.5921232939472567\n",
      "(52500226,) (52500226,)\n"
     ]
    },
    {
     "name": "stderr",
     "output_type": "stream",
     "text": [
      "ic| label_current_deforestation_test_classified_incorrect.shape: (1622358,)\n",
      "    predicted_test_classified_incorrect.shape: (1622358,)\n",
      "ic"
     ]
    },
    {
     "name": "stdout",
     "output_type": "stream",
     "text": [
      "cm_correct [[51931719    58026]\n",
      " [   36098   474383]]\n",
      "cm_incorrect [[1359665   38564]\n",
      " [ 154010   70119]]\n"
     ]
    },
    {
     "name": "stderr",
     "output_type": "stream",
     "text": [
      "| TP_H + FN_H + FP_H + TN_H: 1622358\n",
      "    len(label_mask_current_deforestation_test): 54122584\n",
      "ic| TP_H + FN_H + FP_H + TN_H: 1622358\n",
      "    len(label_mask_current_deforestation_test): 54122584\n"
     ]
    },
    {
     "name": "stdout",
     "output_type": "stream",
     "text": [
      "[0.89101236 0.9292863  0.6457617  0.02997562 0.6451699  0.31285108\n",
      " 0.1121911 ]\n",
      "0.5907040899841175\n",
      "threshold 0.5907040899841175\n",
      "(52495258,) (52495258,)\n"
     ]
    },
    {
     "name": "stderr",
     "output_type": "stream",
     "text": [
      "ic| label_current_deforestation_test_classified_incorrect.shape: (1627326,)\n",
      "    predicted_test_classified_incorrect.shape: (1627326,)\n",
      "ic"
     ]
    },
    {
     "name": "stdout",
     "output_type": "stream",
     "text": [
      "cm_correct [[51927795    57705]\n",
      " [   36048   473710]]\n",
      "cm_incorrect [[1363589   38885]\n",
      " [ 154060   70792]]\n"
     ]
    },
    {
     "name": "stderr",
     "output_type": "stream",
     "text": [
      "| TP_H + FN_H + FP_H + TN_H: 1627326\n",
      "    len(label_mask_current_deforestation_test): 54122584\n",
      "ic| TP_H + FN_H + FP_H + TN_H: 1627326\n",
      "    len(label_mask_current_deforestation_test): 54122584\n"
     ]
    },
    {
     "name": "stdout",
     "output_type": "stream",
     "text": [
      "[0.89141255 0.92928409 0.64484556 0.03006741 0.64545894 0.3148382\n",
      " 0.112107  ]\n",
      "0.5917882177452318\n",
      "threshold 0.5917882177452318\n",
      "(52499059,) (52499059,)\n"
     ]
    },
    {
     "name": "stderr",
     "output_type": "stream",
     "text": [
      "ic| label_current_deforestation_test_classified_incorrect.shape: (1623525,)\n",
      "    predicted_test_classified_incorrect.shape: (1623525,)\n",
      "ic"
     ]
    },
    {
     "name": "stdout",
     "output_type": "stream",
     "text": [
      "cm_correct [[51930802    57950]\n",
      " [   36085   474222]]\n",
      "cm_incorrect [[1360582   38640]\n",
      " [ 154023   70280]]\n"
     ]
    },
    {
     "name": "stderr",
     "output_type": "stream",
     "text": [
      "| TP_H + FN_H + FP_H + TN_H: 1623525\n",
      "    len(label_mask_current_deforestation_test): 54122584\n",
      "ic| TP_H + FN_H + FP_H + TN_H: 1623525\n",
      "    len(label_mask_current_deforestation_test): 54122584\n"
     ]
    },
    {
     "name": "stdout",
     "output_type": "stream",
     "text": [
      "[0.89110663 0.92928766 0.64554253 0.02999718 0.64524422 0.31332617\n",
      " 0.1121725 ]\n",
      "0.5915873015147046\n",
      "threshold 0.5915873015147046\n",
      "(52498339,) (52498339,)\n"
     ]
    },
    {
     "name": "stderr",
     "output_type": "stream",
     "text": [
      "ic| label_current_deforestation_test_classified_incorrect.shape: (1624245,)\n",
      "    predicted_test_classified_incorrect.shape: (1624245,)\n",
      "ic"
     ]
    },
    {
     "name": "stdout",
     "output_type": "stream",
     "text": [
      "cm_correct [[51930234    57894]\n",
      " [   36082   474129]]\n",
      "cm_incorrect [[1361150   38696]\n",
      " [ 154026   70373]]\n"
     ]
    },
    {
     "name": "stderr",
     "output_type": "stream",
     "text": [
      "| TP_H + FN_H + FP_H + TN_H: 1624245\n",
      "    len(label_mask_current_deforestation_test): 54122584\n",
      "ic| TP_H + FN_H + FP_H + TN_H: 1624245\n",
      "    len(label_mask_current_deforestation_test): 54122584\n"
     ]
    },
    {
     "name": "stdout",
     "output_type": "stream",
     "text": [
      "[0.8911814  0.92928024 0.64541593 0.03001049 0.64521541 0.31360657\n",
      " 0.11216369]\n",
      "0.5917548756342608\n",
      "threshold 0.5917548756342608\n",
      "(52498962,) (52498962,)\n"
     ]
    },
    {
     "name": "stderr",
     "output_type": "stream",
     "text": [
      "ic| label_current_deforestation_test_classified_incorrect.shape: (1623622,)\n",
      "    predicted_test_classified_incorrect.shape: (1623622,)\n",
      "ic"
     ]
    },
    {
     "name": "stdout",
     "output_type": "stream",
     "text": [
      "cm_correct [[51930721    57941]\n",
      " [   36085   474215]]\n",
      "cm_incorrect [[1360663   38649]\n",
      " [ 154023   70287]]\n"
     ]
    },
    {
     "name": "stderr",
     "output_type": "stream",
     "text": [
      "| TP_H + FN_H + FP_H + TN_H: 1623622\n",
      "    len(label_mask_current_deforestation_test): 54122584\n",
      "ic| TP_H + FN_H + FP_H + TN_H: 1623622\n",
      "    len(label_mask_current_deforestation_test): 54122584\n"
     ]
    },
    {
     "name": "stdout",
     "output_type": "stream",
     "text": [
      "[0.89112027 0.92928669 0.645533   0.02999897 0.6452137  0.3133476\n",
      " 0.11217199]\n",
      "0.5917215335237842\n",
      "threshold 0.5917215335237842\n",
      "(52498842,) (52498842,)\n"
     ]
    },
    {
     "name": "stderr",
     "output_type": "stream",
     "text": [
      "ic| label_current_deforestation_test_classified_incorrect.shape: (1623742,)\n",
      "    predicted_test_classified_incorrect.shape: (1623742,)\n",
      "ic"
     ]
    },
    {
     "name": "stdout",
     "output_type": "stream",
     "text": [
      "cm_correct [[51930626    57932]\n",
      " [   36085   474199]]\n",
      "cm_incorrect [[1360758   38658]\n",
      " [ 154023   70303]]\n"
     ]
    },
    {
     "name": "stderr",
     "output_type": "stream",
     "text": [
      "| TP_H + FN_H + FP_H + TN_H: 1623742\n",
      "    len(label_mask_current_deforestation_test): 54122584\n",
      "ic| TP_H + FN_H + FP_H + TN_H: 1623742\n",
      "    len(label_mask_current_deforestation_test): 54122584\n",
      "ic| self.threshold_optimal: 0.5917548756342608\n"
     ]
    },
    {
     "name": "stdout",
     "output_type": "stream",
     "text": [
      "[0.89113207 0.92928448 0.64551122 0.03000119 0.64521251 0.31339657\n",
      " 0.11216998]\n",
      "threshold 0.5917548756342608\n",
      "(52498962,) (52498962,)\n"
     ]
    },
    {
     "name": "stderr",
     "output_type": "stream",
     "text": [
      "ic| label_current_deforestation_test_classified_incorrect.shape: (1623622,)\n",
      "    predicted_test_classified_incorrect.shape: (1623622,)\n",
      "ic"
     ]
    },
    {
     "name": "stdout",
     "output_type": "stream",
     "text": [
      "cm_correct [[51930721    57941]\n",
      " [   36085   474215]]\n",
      "cm_incorrect [[1360663   38649]\n",
      " [ 154023   70287]]\n"
     ]
    },
    {
     "name": "stderr",
     "output_type": "stream",
     "text": [
      "| TP_H + FN_H + FP_H + TN_H: 1623622\n",
      "    len(label_mask_current_deforestation_test): 54122584\n",
      "ic| TP_H + FN_H + FP_H + TN_H: 1623622\n",
      "    len(label_mask_current_deforestation_test): 54122584\n"
     ]
    },
    {
     "name": "stdout",
     "output_type": "stream",
     "text": [
      "[0.89112027 0.92928669 0.645533   0.02999897 0.6452137  0.3133476\n",
      " 0.11217199]\n",
      "threshold 0.5917548756342608\n",
      "(54122584,) (54122584,)\n"
     ]
    },
    {
     "name": "stderr",
     "output_type": "stream",
     "text": [
      "ic| self.m_optimal: {'AA': array([0.02999897]),\n",
      "                     'UEO': array([0.11217199]),\n",
      "                     'f1': 79.16,\n",
      "                     'f1_H': array([0.42183252]),\n",
      "                     'f1_L': array([0.90980339]),\n",
      "                     'precision_H': array([0.6452137]),\n",
      "                     'precision_L': array([0.89112027]),\n",
      "                     'recall_H': array([0.3133476]),\n",
      "                     'recall_L': array([0.92928669]),\n",
      "                     'recall_Ltotal': array([0.645533])}\n",
      "ic| self.m_audited_optimal: {'f1': array([0.93694084]),\n",
      "                             'precision': array([0.92340568]),\n",
      "                             'recall': array([0.9508787])}\n"
     ]
    },
    {
     "name": "stdout",
     "output_type": "stream",
     "text": [
      "cm_audited [[53330033    57941]\n",
      " [   36085   698525]]\n",
      "[0.92340568 0.9508787 ]\n",
      "Result idx 2: {'other_uncertainty_metrics': {'sUEO': 0.35993511082351887, 'ece_score': 0}, 'snippet_poi_results': [{'snippet_id': 0, 'coords': [550, 550], 'reference': 0, 'predicted': 0.0, 'alpha': array([168.6423,   1.    ,   1.    ], dtype=float32)}, {'snippet_id': 0, 'coords': [210, 610], 'reference': 1, 'predicted': 0.0, 'alpha': array([1., 1., 1.], dtype=float32)}, {'snippet_id': 0, 'coords': [207, 617], 'reference': 1, 'predicted': 0.0, 'alpha': array([1., 1., 1.], dtype=float32)}, {'snippet_id': 0, 'coords': [800, 200], 'reference': 1, 'predicted': 1.0, 'alpha': array([1.       , 7.0894217, 1.       ], dtype=float32)}, {'snippet_id': 1, 'coords': [550, 115], 'reference': 1, 'predicted': 0.0, 'alpha': array([1., 1., 1.], dtype=float32)}, {'snippet_id': 1, 'coords': [430, 950], 'reference': 0, 'predicted': 1.0, 'alpha': array([1.      , 2.757742, 1.      ], dtype=float32)}], 'uncertainty_result': {'metrics': {'precision_L': array([0.89112027]), 'recall_L': array([0.92928669]), 'recall_Ltotal': array([0.645533]), 'AA': array([0.02999897]), 'precision_H': array([0.6452137]), 'recall_H': array([0.3133476]), 'UEO': array([0.11217199]), 'f1_L': array([0.90980339]), 'f1_H': array([0.42183252]), 'f1': 79.16}, 'metrics_audited': {'precision': array([0.92340568]), 'recall': array([0.9508787]), 'f1': array([0.93694084])}, 'exp': 196}}\n",
      "Grid execution idx: 3\n",
      "Beginning run number 3\n",
      "D:/Jorge/datasets/deforestation/Para/deforestation_past_years.tif\n",
      "Loaded deforestation past years\n"
     ]
    },
    {
     "name": "stderr",
     "output_type": "stream",
     "text": [
      "ic| np.unique(deforestation_past_years, return_counts=True): (array([   0, 2008, 2009, 2010, 2011, 2012, 2013, 2014, 2015, 2016, 2017,\n",
      "                                                                    2018, 2019, 2020, 2021], dtype=uint16),\n",
      "                                                              array([132185553,   3150503,   4571354,    864429,    903608,   1299506,\n",
      "                                                                      2477971,   1561686,   1459696,    969060,    644976,   2209014,\n",
      "                                                                      2100204,   5257014,   3514616], dtype=int64))\n"
     ]
    },
    {
     "name": "stdout",
     "output_type": "stream",
     "text": [
      "Label where deforestation past years is actual date (2019) = 1\n"
     ]
    },
    {
     "name": "stderr",
     "output_type": "stream",
     "text": [
      "ic| np.unique(deforestation_past_years, return_counts=True): (array([   0, 2008, 2009, 2010, 2011, 2012, 2013, 2014, 2015, 2016, 2017,\n",
      "                                                                    2018, 2019, 2020, 2021], dtype=uint16),\n",
      "                                                              array([132185553,   3150503,   4571354,    864429,    903608,   1299506,\n",
      "                                                                      2477971,   1561686,   1459696,    969060,    644976,   2209014,\n",
      "                                                                      2100204,   5257014,   3514616], dtype=int64))\n"
     ]
    },
    {
     "name": "stdout",
     "output_type": "stream",
     "text": [
      "Past deforestation different from 0 (no deforestation)\n"
     ]
    },
    {
     "name": "stderr",
     "output_type": "stream",
     "text": [
      "ic| np.unique(deforestation_past_years, return_counts=True): (array([   0, 2008, 2009, 2010, 2011, 2012, 2013, 2014, 2015, 2016, 2017,\n",
      "                                                                    2018, 2019, 2020, 2021], dtype=uint16),\n",
      "                                                              array([132185553,   3150503,   4571354,    864429,    903608,   1299506,\n",
      "                                                                      2477971,   1561686,   1459696,    969060,    644976,   2209014,\n",
      "                                                                      2100204,   5257014,   3514616], dtype=int64))\n"
     ]
    },
    {
     "name": "stdout",
     "output_type": "stream",
     "text": [
      "Past deforestation before 2008 is 2\n",
      "D:/Jorge/datasets/deforestation/deforestation_before_2008/deforestation_before_2008_para.tif\n"
     ]
    },
    {
     "name": "stderr",
     "output_type": "stream",
     "text": [
      "ic| np.unique(label_past_deforestation_before_2008, return_counts=True): (array([  0, 215], dtype=uint8), array([124211220,  38957970], dtype=int64))\n",
      "ic| np.unique(deforestation_past_years, return_counts=True): (array([   0, 2008, 2009, 2010, 2011, 2012, 2013, 2014, 2015, 2016, 2017,\n",
      "                                                                    2018, 2019, 2020, 2021], dtype=uint16),\n",
      "                                                              array([132185553,   3150503,   4571354,    864429,    903608,   1299506,\n",
      "                                                                      2477971,   1561686,   1459696,    969060,    644976,   2209014,\n",
      "                                                                      2100204,   5257014,   3514616], dtype=int64))\n",
      "ic| label_per_date.shape: (17730, 9203, 1)\n"
     ]
    },
    {
     "name": "stdout",
     "output_type": "stream",
     "text": [
      "Mask label shape:  \n",
      " (17730, 9203, 1) \n",
      " Unique values:  \n",
      " [0 1 2]\n",
      "Tiles size:  3546 2300\n",
      "Mask size:  (17730, 9200)\n"
     ]
    },
    {
     "name": "stderr",
     "output_type": "stream",
     "text": [
      "ic| image_stack.shape: (17730, 9203, 21)\n"
     ]
    },
    {
     "name": "stdout",
     "output_type": "stream",
     "text": [
      "Image shape:  (17730, 9203, 21)\n",
      "mask:  (17730, 9200)\n",
      "image stack:  (17730, 9200, 21)\n",
      "ref : (17730, 9200, 1)\n",
      "Training tiles:  [1, 3, 5, 8, 11, 13, 14, 20]\n",
      "Validation tiles:  [6, 19]\n",
      "Test tiles:  [2, 4, 7, 9, 10, 12, 15, 16, 17, 18]\n"
     ]
    },
    {
     "name": "stderr",
     "output_type": "stream",
     "text": [
      "ic| im_idx_row.shape: (17730, 9200, 1)\n",
      "    im_idx_col.shape: (17730, 9200, 1)\n",
      "ic| im_idx_row.dtype: dtype('uint16')\n",
      "    im_idx_col.dtype: dtype('uint16')\n",
      "ic| im_idx.shape: (17730, 9200, 2), im_idx.dtype: dtype('uint16')\n",
      "ic| coords.shape: (464, 239, 1, 128, 128, 2)\n",
      "    coords.dtype: dtype('uint16')\n",
      "ic| coords.shape: (110896, 2), coords.dtype: dtype('uint16')\n",
      "ic| self.coords_train.shape: (41812, 3)\n",
      "    self.coords_val.shape: (10260, 3)\n"
     ]
    },
    {
     "name": "stdout",
     "output_type": "stream",
     "text": [
      "training samples:  (3753, 3) validation samples:  (1032, 3)\n",
      "time:  0\n",
      "Model: \"model_6\"\n",
      "__________________________________________________________________________________________________\n",
      "Layer (type)                    Output Shape         Param #     Connected to                     \n",
      "==================================================================================================\n",
      "input_enc_net (InputLayer)      [(None, 128, 128, 21 0                                            \n",
      "__________________________________________________________________________________________________\n",
      "res1_net1 (Conv2D)              (None, 128, 128, 16) 3040        input_enc_net[0][0]              \n",
      "__________________________________________________________________________________________________\n",
      "drop_net1 (Dropout)             (None, 128, 128, 16) 0           res1_net1[0][0]                  \n",
      "__________________________________________________________________________________________________\n",
      "res2_net1 (Conv2D)              (None, 128, 128, 16) 2320        drop_net1[0][0]                  \n",
      "__________________________________________________________________________________________________\n",
      "res3_net1 (Conv2D)              (None, 128, 128, 16) 352         input_enc_net[0][0]              \n",
      "__________________________________________________________________________________________________\n",
      "add_36 (Add)                    (None, 128, 128, 16) 0           res2_net1[0][0]                  \n",
      "                                                                 res3_net1[0][0]                  \n",
      "__________________________________________________________________________________________________\n",
      "pool_net1 (MaxPooling2D)        (None, 64, 64, 16)   0           add_36[0][0]                     \n",
      "__________________________________________________________________________________________________\n",
      "res1_net2 (Conv2D)              (None, 64, 64, 32)   4640        pool_net1[0][0]                  \n",
      "__________________________________________________________________________________________________\n",
      "drop_net2 (Dropout)             (None, 64, 64, 32)   0           res1_net2[0][0]                  \n",
      "__________________________________________________________________________________________________\n",
      "res2_net2 (Conv2D)              (None, 64, 64, 32)   9248        drop_net2[0][0]                  \n",
      "__________________________________________________________________________________________________\n",
      "res3_net2 (Conv2D)              (None, 64, 64, 32)   544         pool_net1[0][0]                  \n",
      "__________________________________________________________________________________________________\n",
      "add_37 (Add)                    (None, 64, 64, 32)   0           res2_net2[0][0]                  \n",
      "                                                                 res3_net2[0][0]                  \n",
      "__________________________________________________________________________________________________\n",
      "pool_net2 (MaxPooling2D)        (None, 32, 32, 32)   0           add_37[0][0]                     \n",
      "__________________________________________________________________________________________________\n",
      "res1_net3 (Conv2D)              (None, 32, 32, 64)   18496       pool_net2[0][0]                  \n",
      "__________________________________________________________________________________________________\n",
      "drop_net3 (Dropout)             (None, 32, 32, 64)   0           res1_net3[0][0]                  \n",
      "__________________________________________________________________________________________________\n",
      "res2_net3 (Conv2D)              (None, 32, 32, 64)   36928       drop_net3[0][0]                  \n",
      "__________________________________________________________________________________________________\n",
      "res3_net3 (Conv2D)              (None, 32, 32, 64)   2112        pool_net2[0][0]                  \n",
      "__________________________________________________________________________________________________\n",
      "add_38 (Add)                    (None, 32, 32, 64)   0           res2_net3[0][0]                  \n",
      "                                                                 res3_net3[0][0]                  \n",
      "__________________________________________________________________________________________________\n",
      "pool_net3 (MaxPooling2D)        (None, 16, 16, 64)   0           add_38[0][0]                     \n",
      "__________________________________________________________________________________________________\n",
      "res1_net4 (Conv2D)              (None, 16, 16, 64)   36928       pool_net3[0][0]                  \n",
      "__________________________________________________________________________________________________\n",
      "drop_net4 (Dropout)             (None, 16, 16, 64)   0           res1_net4[0][0]                  \n",
      "__________________________________________________________________________________________________\n",
      "res2_net4 (Conv2D)              (None, 16, 16, 64)   36928       drop_net4[0][0]                  \n",
      "__________________________________________________________________________________________________\n",
      "res3_net4 (Conv2D)              (None, 16, 16, 64)   4160        pool_net3[0][0]                  \n",
      "__________________________________________________________________________________________________\n",
      "add_39 (Add)                    (None, 16, 16, 64)   0           res2_net4[0][0]                  \n",
      "                                                                 res3_net4[0][0]                  \n",
      "__________________________________________________________________________________________________\n",
      "res1_net5 (Conv2D)              (None, 16, 16, 64)   36928       add_39[0][0]                     \n",
      "__________________________________________________________________________________________________\n",
      "drop_net5 (Dropout)             (None, 16, 16, 64)   0           res1_net5[0][0]                  \n",
      "__________________________________________________________________________________________________\n",
      "res2_net5 (Conv2D)              (None, 16, 16, 64)   36928       drop_net5[0][0]                  \n",
      "__________________________________________________________________________________________________\n",
      "res3_net5 (Conv2D)              (None, 16, 16, 64)   4160        add_39[0][0]                     \n",
      "__________________________________________________________________________________________________\n",
      "add_40 (Add)                    (None, 16, 16, 64)   0           res2_net5[0][0]                  \n",
      "                                                                 res3_net5[0][0]                  \n",
      "__________________________________________________________________________________________________\n",
      "res1_net6 (Conv2D)              (None, 16, 16, 64)   36928       add_40[0][0]                     \n",
      "__________________________________________________________________________________________________\n",
      "drop_net6 (Dropout)             (None, 16, 16, 64)   0           res1_net6[0][0]                  \n",
      "__________________________________________________________________________________________________\n",
      "res2_net6 (Conv2D)              (None, 16, 16, 64)   36928       drop_net6[0][0]                  \n",
      "__________________________________________________________________________________________________\n",
      "res3_net6 (Conv2D)              (None, 16, 16, 64)   4160        add_40[0][0]                     \n",
      "__________________________________________________________________________________________________\n",
      "add_41 (Add)                    (None, 16, 16, 64)   0           res2_net6[0][0]                  \n",
      "                                                                 res3_net6[0][0]                  \n",
      "__________________________________________________________________________________________________\n",
      "up_sampling2d_18 (UpSampling2D) (None, 32, 32, 64)   0           add_41[0][0]                     \n",
      "__________________________________________________________________________________________________\n",
      "upsampling_net3 (Conv2D)        (None, 32, 32, 64)   36928       up_sampling2d_18[0][0]           \n",
      "__________________________________________________________________________________________________\n",
      "concatenate3 (Concatenate)      (None, 32, 32, 128)  0           add_38[0][0]                     \n",
      "                                                                 upsampling_net3[0][0]            \n",
      "__________________________________________________________________________________________________\n",
      "up_sampling2d_19 (UpSampling2D) (None, 64, 64, 128)  0           concatenate3[0][0]               \n",
      "__________________________________________________________________________________________________\n",
      "upsampling_net2 (Conv2D)        (None, 64, 64, 32)   36896       up_sampling2d_19[0][0]           \n",
      "__________________________________________________________________________________________________\n",
      "concatenate2 (Concatenate)      (None, 64, 64, 64)   0           add_37[0][0]                     \n",
      "                                                                 upsampling_net2[0][0]            \n",
      "__________________________________________________________________________________________________\n",
      "up_sampling2d_20 (UpSampling2D) (None, 128, 128, 64) 0           concatenate2[0][0]               \n",
      "__________________________________________________________________________________________________\n",
      "upsampling_net1 (Conv2D)        (None, 128, 128, 16) 9232        up_sampling2d_20[0][0]           \n",
      "__________________________________________________________________________________________________\n",
      "concatenate1 (Concatenate)      (None, 128, 128, 32) 0           add_36[0][0]                     \n",
      "                                                                 upsampling_net1[0][0]            \n",
      "__________________________________________________________________________________________________\n",
      "output (Conv2D)                 (None, 128, 128, 3)  99          concatenate1[0][0]               \n",
      "==================================================================================================\n",
      "Total params: 394,883\n",
      "Trainable params: 394,883\n",
      "Non-trainable params: 0\n",
      "__________________________________________________________________________________________________\n"
     ]
    },
    {
     "name": "stderr",
     "output_type": "stream",
     "text": [
      "c:\\Users\\jchamorro\\Anaconda3\\envs\\tf2\\lib\\site-packages\\tensorflow\\python\\keras\\optimizer_v2\\optimizer_v2.py:374: UserWarning: The `lr` argument is deprecated, use `learning_rate` instead.\n",
      "  warnings.warn(\n",
      "c:\\Users\\jchamorro\\Anaconda3\\envs\\tf2\\lib\\site-packages\\tensorflow\\python\\keras\\engine\\training.py:1969: UserWarning: `Model.fit_generator` is deprecated and will be removed in a future version. Please use `Model.fit`, which supports generators.\n",
      "  warnings.warn('`Model.fit_generator` is deprecated and '\n"
     ]
    },
    {
     "name": "stdout",
     "output_type": "stream",
     "text": [
      "Epoch 1/100\n",
      "self.global_step 0.0\n",
      "alpha Tensor(\"loss/add:0\", shape=(None, 128, 128, 3), dtype=float32)\n",
      "u Tensor(\"loss/truediv:0\", shape=(None, 128, 128, 1), dtype=float32)\n",
      "A Tensor(\"loss/Sum_3:0\", shape=(None, 3), dtype=float32)\n",
      "B Tensor(\"loss/Sum_4:0\", shape=(None, 1, 1, 3), dtype=float32)\n",
      "term1 Tensor(\"loss/truediv_7:0\", shape=(None, 1, 1, 3), dtype=float32)\n",
      "term2 Tensor(\"loss/mul_5:0\", shape=(None, 1, 1, 3), dtype=float32)\n",
      "Tensor(\"loss/Repeat_1/Reshape_1:0\", shape=(None, None, None, 1), dtype=float32)\n",
      "alpha Tensor(\"add:0\", shape=(None, 128, 128, 3), dtype=float32)\n",
      "u Tensor(\"truediv:0\", shape=(None, 128, 128, 1), dtype=float32)\n",
      "K.int_shape(KL_reg) Tensor(\"mul_6:0\", shape=(None, 128, 128, 1), dtype=float32)\n",
      "alpha Tensor(\"add_7:0\", shape=(None, 128, 128, 3), dtype=float32)\n",
      "u Tensor(\"truediv_5:0\", shape=(None, 128, 128, 1), dtype=float32)\n",
      "K.int_shape(KL_reg) Tensor(\"mul_12:0\", shape=(None, 128, 128, 1), dtype=float32)\n",
      "alpha Tensor(\"add_16:0\", shape=(None, 128, 128, 3), dtype=float32)\n",
      "u Tensor(\"truediv_13:0\", shape=(None, 128, 128, 1), dtype=float32)\n",
      "K.int_shape(Y) Tensor(\"IteratorGetNext:1\", shape=(None, None, None, None), dtype=float32)\n",
      "K.int_shape(prob) Tensor(\"truediv_15:0\", shape=(None, 128, 128, 3), dtype=float32)\n",
      "alpha Tensor(\"loss/add:0\", shape=(None, 128, 128, 3), dtype=float32)\n",
      "u Tensor(\"loss/truediv:0\", shape=(None, 128, 128, 1), dtype=float32)\n",
      "A Tensor(\"loss/Sum_3:0\", shape=(None, 3), dtype=float32)\n",
      "B Tensor(\"loss/Sum_4:0\", shape=(None, 1, 1, 3), dtype=float32)\n",
      "term1 Tensor(\"loss/truediv_7:0\", shape=(None, 1, 1, 3), dtype=float32)\n",
      "term2 Tensor(\"loss/mul_5:0\", shape=(None, 1, 1, 3), dtype=float32)\n",
      "Tensor(\"loss/Repeat_1/Reshape_1:0\", shape=(None, None, None, 1), dtype=float32)\n",
      "alpha Tensor(\"add:0\", shape=(None, 128, 128, 3), dtype=float32)\n",
      "u Tensor(\"truediv:0\", shape=(None, 128, 128, 1), dtype=float32)\n",
      "K.int_shape(KL_reg) Tensor(\"mul_6:0\", shape=(None, 128, 128, 1), dtype=float32)\n",
      "alpha Tensor(\"add_7:0\", shape=(None, 128, 128, 3), dtype=float32)\n",
      "u Tensor(\"truediv_5:0\", shape=(None, 128, 128, 1), dtype=float32)\n",
      "K.int_shape(KL_reg) Tensor(\"mul_12:0\", shape=(None, 128, 128, 1), dtype=float32)\n",
      "alpha Tensor(\"add_16:0\", shape=(None, 128, 128, 3), dtype=float32)\n",
      "u Tensor(\"truediv_13:0\", shape=(None, 128, 128, 1), dtype=float32)\n",
      "K.int_shape(Y) Tensor(\"IteratorGetNext:1\", shape=(None, None, None, None), dtype=float32)\n",
      "K.int_shape(prob) Tensor(\"truediv_15:0\", shape=(None, 128, 128, 3), dtype=float32)\n",
      "351/351 [==============================] - ETA: 0s - loss: 0.8625 - accuracy: 0.5183 - KL_term: 0.0181 - loglikelihood_term: 0.6587 - evidential_success: 10.1233 - evidential_fail: 4.2465 - acc: 0.5183 - annealing_coef: 0.0467 - global_step_get: 175.0000 - annealing_step_get: 3750.0000 - UEO_term: 0.7067alpha Tensor(\"loss/add:0\", shape=(None, 128, 128, 3), dtype=float32)\n",
      "u Tensor(\"loss/truediv:0\", shape=(None, 128, 128, 1), dtype=float32)\n",
      "A Tensor(\"loss/Sum_3:0\", shape=(None, 3), dtype=float32)\n",
      "B Tensor(\"loss/Sum_4:0\", shape=(None, 1, 1, 3), dtype=float32)\n",
      "term1 Tensor(\"loss/truediv_7:0\", shape=(None, 1, 1, 3), dtype=float32)\n",
      "term2 Tensor(\"loss/mul_5:0\", shape=(None, 1, 1, 3), dtype=float32)\n",
      "Tensor(\"loss/Repeat_1/Reshape_1:0\", shape=(None, None, None, 1), dtype=float32)\n",
      "alpha Tensor(\"add:0\", shape=(None, 128, 128, 3), dtype=float32)\n",
      "u Tensor(\"truediv:0\", shape=(None, 128, 128, 1), dtype=float32)\n",
      "K.int_shape(KL_reg) Tensor(\"mul_6:0\", shape=(None, 128, 128, 1), dtype=float32)\n",
      "alpha Tensor(\"add_7:0\", shape=(None, 128, 128, 3), dtype=float32)\n",
      "u Tensor(\"truediv_5:0\", shape=(None, 128, 128, 1), dtype=float32)\n",
      "K.int_shape(KL_reg) Tensor(\"mul_12:0\", shape=(None, 128, 128, 1), dtype=float32)\n",
      "alpha Tensor(\"add_16:0\", shape=(None, 128, 128, 3), dtype=float32)\n",
      "u Tensor(\"truediv_13:0\", shape=(None, 128, 128, 1), dtype=float32)\n",
      "K.int_shape(Y) Tensor(\"IteratorGetNext:1\", shape=(None, None, None, None), dtype=float32)\n",
      "K.int_shape(prob) Tensor(\"truediv_15:0\", shape=(None, 128, 128, 3), dtype=float32)\n",
      "351/351 [==============================] - 37s 100ms/step - loss: 0.8625 - accuracy: 0.5183 - KL_term: 0.0181 - loglikelihood_term: 0.6587 - evidential_success: 10.1233 - evidential_fail: 4.2465 - acc: 0.5183 - annealing_coef: 0.0467 - global_step_get: 175.0000 - annealing_step_get: 3750.0000 - UEO_term: 0.7067 - val_loss: 0.8352 - val_accuracy: 0.6510 - val_KL_term: 0.0199 - val_loglikelihood_term: 0.4063 - val_evidential_success: 19.2084 - val_evidential_fail: 3.2889 - val_acc: 0.6538 - val_annealing_coef: 0.0933 - val_global_step_get: 350.0000 - val_annealing_step_get: 3750.0000 - val_UEO_term: 0.8593\n",
      "\n",
      "Epoch 00001: val_loss improved from inf to 0.83519, saving model to D:/Jorge/datasets/deforestation/experiments/exp197/models\\resunet_0.h5\n",
      "Epoch 2/100\n",
      "self.global_step 350.0\n",
      "  1/351 [..............................] - ETA: 28s - loss: 0.8353 - accuracy: 0.6065 - KL_term: 0.0000e+00 - loglikelihood_term: 0.4404 - evidential_success: 24.7732 - evidential_fail: 1.6615 - acc: 0.6065 - annealing_coef: 0.0000e+00 - global_step_get: 0.0000e+00 - annealing_step_get: 3750.0000 - UEO_term: 1.0103"
     ]
    },
    {
     "name": "stderr",
     "output_type": "stream",
     "text": [
      "c:\\Users\\jchamorro\\Anaconda3\\envs\\tf2\\lib\\site-packages\\tensorflow\\python\\keras\\utils\\generic_utils.py:494: CustomMaskWarning: Custom mask layers require a config and must override get_config. When loading, the custom mask layer must be passed to the custom_objects argument.\n",
      "  warnings.warn('Custom mask layers require a config and must override '\n"
     ]
    },
    {
     "name": "stdout",
     "output_type": "stream",
     "text": [
      "351/351 [==============================] - 33s 93ms/step - loss: 0.8388 - accuracy: 0.5504 - KL_term: 0.0166 - loglikelihood_term: 0.5492 - evidential_success: 26.6284 - evidential_fail: 5.1849 - acc: 0.5502 - annealing_coef: 0.0933 - global_step_get: 350.0000 - annealing_step_get: 3750.0000 - UEO_term: 0.8861 - val_loss: 0.8342 - val_accuracy: 0.6493 - val_KL_term: 0.0167 - val_loglikelihood_term: 0.3850 - val_evidential_success: 20.9813 - val_evidential_fail: 1.3259 - val_acc: 0.6536 - val_annealing_coef: 0.1867 - val_global_step_get: 700.0000 - val_annealing_step_get: 3750.0000 - val_UEO_term: 0.9752\n",
      "\n",
      "Epoch 00002: val_loss improved from 0.83519 to 0.83420, saving model to D:/Jorge/datasets/deforestation/experiments/exp197/models\\resunet_0.h5\n",
      "Epoch 3/100\n",
      "self.global_step 700.0\n",
      "351/351 [==============================] - 32s 92ms/step - loss: 0.8400 - accuracy: 0.5529 - KL_term: 0.0163 - loglikelihood_term: 0.5171 - evidential_success: 30.7874 - evidential_fail: 2.8828 - acc: 0.5530 - annealing_coef: 0.1400 - global_step_get: 525.0000 - annealing_step_get: 3750.0000 - UEO_term: 0.9794 - val_loss: 0.8373 - val_accuracy: 0.6506 - val_KL_term: 0.0215 - val_loglikelihood_term: 0.3805 - val_evidential_success: 28.2293 - val_evidential_fail: 1.0984 - val_acc: 0.6549 - val_annealing_coef: 0.2800 - val_global_step_get: 1050.0000 - val_annealing_step_get: 3750.0000 - val_UEO_term: 0.9921\n",
      "\n",
      "Epoch 00003: val_loss did not improve from 0.83420\n",
      "Epoch 4/100\n",
      "self.global_step 1050.0\n",
      "351/351 [==============================] - 32s 92ms/step - loss: 0.8412 - accuracy: 0.5556 - KL_term: 0.0163 - loglikelihood_term: 0.5008 - evidential_success: 32.3689 - evidential_fail: 2.3466 - acc: 0.5558 - annealing_coef: 0.1867 - global_step_get: 700.0000 - annealing_step_get: 3750.0000 - UEO_term: 1.0235 - val_loss: 0.8433 - val_accuracy: 0.6434 - val_KL_term: 0.0227 - val_loglikelihood_term: 0.3883 - val_evidential_success: 28.4285 - val_evidential_fail: 0.7961 - val_acc: 0.6478 - val_annealing_coef: 0.3733 - val_global_step_get: 1400.0000 - val_annealing_step_get: 3750.0000 - val_UEO_term: 1.0168\n",
      "\n",
      "Epoch 00004: val_loss did not improve from 0.83420\n",
      "Epoch 5/100\n",
      "self.global_step 1400.0\n",
      "351/351 [==============================] - 32s 92ms/step - loss: 0.8428 - accuracy: 0.5568 - KL_term: 0.0164 - loglikelihood_term: 0.4923 - evidential_success: 32.9529 - evidential_fail: 1.5682 - acc: 0.5572 - annealing_coef: 0.2333 - global_step_get: 875.0000 - annealing_step_get: 3750.0000 - UEO_term: 1.0525 - val_loss: 0.8540 - val_accuracy: 0.6658 - val_KL_term: 0.0327 - val_loglikelihood_term: 0.3987 - val_evidential_success: 31.8036 - val_evidential_fail: 0.9854 - val_acc: 0.6710 - val_annealing_coef: 0.4667 - val_global_step_get: 1750.0000 - val_annealing_step_get: 3750.0000 - val_UEO_term: 1.0057\n",
      "\n",
      "Epoch 00005: val_loss did not improve from 0.83420\n",
      "Epoch 6/100\n",
      "self.global_step 1750.0\n",
      "351/351 [==============================] - 32s 93ms/step - loss: 0.8441 - accuracy: 0.5591 - KL_term: 0.0160 - loglikelihood_term: 0.4848 - evidential_success: 33.6739 - evidential_fail: 1.2524 - acc: 0.5586 - annealing_coef: 0.2800 - global_step_get: 1050.0000 - annealing_step_get: 3750.0000 - UEO_term: 1.0778 - val_loss: 0.8472 - val_accuracy: 0.7048 - val_KL_term: 0.0220 - val_loglikelihood_term: 0.3963 - val_evidential_success: 27.1966 - val_evidential_fail: 0.5663 - val_acc: 0.7096 - val_annealing_coef: 0.5600 - val_global_step_get: 2100.0000 - val_annealing_step_get: 3750.0000 - val_UEO_term: 1.0081\n",
      "\n",
      "Epoch 00006: val_loss did not improve from 0.83420\n",
      "Epoch 7/100\n",
      "self.global_step 2100.0\n",
      "351/351 [==============================] - 33s 93ms/step - loss: 0.8450 - accuracy: 0.5652 - KL_term: 0.0161 - loglikelihood_term: 0.4796 - evidential_success: 34.3767 - evidential_fail: 1.0806 - acc: 0.5654 - annealing_coef: 0.3267 - global_step_get: 1225.0000 - annealing_step_get: 3750.0000 - UEO_term: 1.0913 - val_loss: 0.8498 - val_accuracy: 0.8177 - val_KL_term: 0.0292 - val_loglikelihood_term: 0.3811 - val_evidential_success: 31.9211 - val_evidential_fail: 0.9880 - val_acc: 0.8205 - val_annealing_coef: 0.6533 - val_global_step_get: 2450.0000 - val_annealing_step_get: 3750.0000 - val_UEO_term: 1.0215\n",
      "\n",
      "Epoch 00007: val_loss did not improve from 0.83420\n",
      "Epoch 8/100\n",
      "self.global_step 2450.0\n",
      "351/351 [==============================] - 33s 93ms/step - loss: 0.8323 - accuracy: 0.7180 - KL_term: 0.0193 - loglikelihood_term: 0.3636 - evidential_success: 34.2180 - evidential_fail: 1.5454 - acc: 0.7174 - annealing_coef: 0.3733 - global_step_get: 1400.0000 - annealing_step_get: 3750.0000 - UEO_term: 0.8189 - val_loss: 0.8272 - val_accuracy: 0.9115 - val_KL_term: 0.0465 - val_loglikelihood_term: 0.1850 - val_evidential_success: 26.0427 - val_evidential_fail: 2.4570 - val_acc: 0.9124 - val_annealing_coef: 0.7467 - val_global_step_get: 2800.0000 - val_annealing_step_get: 3750.0000 - val_UEO_term: 0.4038\n",
      "\n",
      "Epoch 00008: val_loss improved from 0.83420 to 0.82721, saving model to D:/Jorge/datasets/deforestation/experiments/exp197/models\\resunet_0.h5\n",
      "Epoch 9/100\n",
      "self.global_step 2800.0\n",
      "351/351 [==============================] - 32s 92ms/step - loss: 0.8007 - accuracy: 0.9135 - KL_term: 0.0227 - loglikelihood_term: 0.1682 - evidential_success: 38.2377 - evidential_fail: 4.0556 - acc: 0.9135 - annealing_coef: 0.4200 - global_step_get: 1575.0000 - annealing_step_get: 3750.0000 - UEO_term: 0.4589 - val_loss: 0.8206 - val_accuracy: 0.9188 - val_KL_term: 0.0437 - val_loglikelihood_term: 0.1667 - val_evidential_success: 31.7741 - val_evidential_fail: 2.2806 - val_acc: 0.9196 - val_annealing_coef: 0.8400 - val_global_step_get: 3150.0000 - val_annealing_step_get: 3750.0000 - val_UEO_term: 0.4119\n",
      "\n",
      "Epoch 00009: val_loss improved from 0.82721 to 0.82055, saving model to D:/Jorge/datasets/deforestation/experiments/exp197/models\\resunet_0.h5\n",
      "Epoch 10/100\n",
      "self.global_step 3150.0\n",
      "351/351 [==============================] - 34s 96ms/step - loss: 0.7979 - accuracy: 0.9176 - KL_term: 0.0229 - loglikelihood_term: 0.1607 - evidential_success: 41.5483 - evidential_fail: 3.9142 - acc: 0.9176 - annealing_coef: 0.4667 - global_step_get: 1750.0000 - annealing_step_get: 3750.0000 - UEO_term: 0.4664 - val_loss: 0.8242 - val_accuracy: 0.9167 - val_KL_term: 0.0505 - val_loglikelihood_term: 0.1691 - val_evidential_success: 37.2789 - val_evidential_fail: 2.3015 - val_acc: 0.9176 - val_annealing_coef: 0.9333 - val_global_step_get: 3500.0000 - val_annealing_step_get: 3750.0000 - val_UEO_term: 0.4278\n",
      "\n",
      "Epoch 00010: val_loss did not improve from 0.82055\n",
      "Epoch 11/100\n",
      "self.global_step 3500.0\n",
      "351/351 [==============================] - 31s 89ms/step - loss: 0.7964 - accuracy: 0.9205 - KL_term: 0.0229 - loglikelihood_term: 0.1557 - evidential_success: 44.6787 - evidential_fail: 3.7451 - acc: 0.9205 - annealing_coef: 0.5129 - global_step_get: 1925.0000 - annealing_step_get: 3750.0000 - UEO_term: 0.4720 - val_loss: 0.8151 - val_accuracy: 0.9211 - val_KL_term: 0.0363 - val_loglikelihood_term: 0.1799 - val_evidential_success: 39.2940 - val_evidential_fail: 1.6852 - val_acc: 0.9219 - val_annealing_coef: 1.0000 - val_global_step_get: 3850.0000 - val_annealing_step_get: 3750.0000 - val_UEO_term: 0.4534\n",
      "\n",
      "Epoch 00011: val_loss improved from 0.82055 to 0.81514, saving model to D:/Jorge/datasets/deforestation/experiments/exp197/models\\resunet_0.h5\n",
      "Epoch 12/100\n",
      "self.global_step 3850.0\n",
      "351/351 [==============================] - 31s 89ms/step - loss: 0.7955 - accuracy: 0.9220 - KL_term: 0.0230 - loglikelihood_term: 0.1541 - evidential_success: 47.0349 - evidential_fail: 3.5650 - acc: 0.9220 - annealing_coef: 0.5534 - global_step_get: 2100.0000 - annealing_step_get: 3750.0000 - UEO_term: 0.4722 - val_loss: 0.8187 - val_accuracy: 0.9213 - val_KL_term: 0.0464 - val_loglikelihood_term: 0.1652 - val_evidential_success: 38.0699 - val_evidential_fail: 2.1275 - val_acc: 0.9221 - val_annealing_coef: 1.0000 - val_global_step_get: 4200.0000 - val_annealing_step_get: 3750.0000 - val_UEO_term: 0.4255\n",
      "\n",
      "Epoch 00012: val_loss did not improve from 0.81514\n",
      "Epoch 13/100\n",
      "self.global_step 4200.0\n",
      "351/351 [==============================] - 31s 89ms/step - loss: 0.7944 - accuracy: 0.9241 - KL_term: 0.0230 - loglikelihood_term: 0.1516 - evidential_success: 48.0618 - evidential_fail: 3.5000 - acc: 0.9241 - annealing_coef: 0.5877 - global_step_get: 2275.0000 - annealing_step_get: 3750.0000 - UEO_term: 0.4744 - val_loss: 0.8166 - val_accuracy: 0.9227 - val_KL_term: 0.0416 - val_loglikelihood_term: 0.1655 - val_evidential_success: 46.9582 - val_evidential_fail: 2.0199 - val_acc: 0.9235 - val_annealing_coef: 1.0000 - val_global_step_get: 4550.0000 - val_annealing_step_get: 3750.0000 - val_UEO_term: 0.4429\n",
      "\n",
      "Epoch 00013: val_loss did not improve from 0.81514\n",
      "Epoch 14/100\n",
      "self.global_step 4550.0\n",
      "351/351 [==============================] - 31s 89ms/step - loss: 0.7944 - accuracy: 0.9251 - KL_term: 0.0231 - loglikelihood_term: 0.1504 - evidential_success: 50.3771 - evidential_fail: 3.2609 - acc: 0.9251 - annealing_coef: 0.6170 - global_step_get: 2450.0000 - annealing_step_get: 3750.0000 - UEO_term: 0.4755 - val_loss: 0.8156 - val_accuracy: 0.9240 - val_KL_term: 0.0459 - val_loglikelihood_term: 0.1557 - val_evidential_success: 54.4509 - val_evidential_fail: 2.4230 - val_acc: 0.9247 - val_annealing_coef: 1.0000 - val_global_step_get: 4900.0000 - val_annealing_step_get: 3750.0000 - val_UEO_term: 0.4378\n",
      "\n",
      "Epoch 00014: val_loss did not improve from 0.81514\n",
      "Epoch 15/100\n",
      "self.global_step 4900.0\n",
      "351/351 [==============================] - 31s 89ms/step - loss: 0.7917 - accuracy: 0.9277 - KL_term: 0.0227 - loglikelihood_term: 0.1457 - evidential_success: 54.3580 - evidential_fail: 3.1435 - acc: 0.9278 - annealing_coef: 0.6425 - global_step_get: 2625.0000 - annealing_step_get: 3750.0000 - UEO_term: 0.4773 - val_loss: 0.8089 - val_accuracy: 0.9255 - val_KL_term: 0.0346 - val_loglikelihood_term: 0.1652 - val_evidential_success: 43.5069 - val_evidential_fail: 1.8417 - val_acc: 0.9262 - val_annealing_coef: 1.0000 - val_global_step_get: 5250.0000 - val_annealing_step_get: 3750.0000 - val_UEO_term: 0.4396\n",
      "\n",
      "Epoch 00015: val_loss improved from 0.81514 to 0.80888, saving model to D:/Jorge/datasets/deforestation/experiments/exp197/models\\resunet_0.h5\n",
      "Epoch 16/100\n",
      "self.global_step 5250.0\n",
      "351/351 [==============================] - 31s 89ms/step - loss: 0.7914 - accuracy: 0.9284 - KL_term: 0.0229 - loglikelihood_term: 0.1453 - evidential_success: 55.8741 - evidential_fail: 3.1433 - acc: 0.9283 - annealing_coef: 0.6647 - global_step_get: 2800.0000 - annealing_step_get: 3750.0000 - UEO_term: 0.4770 - val_loss: 0.8078 - val_accuracy: 0.9248 - val_KL_term: 0.0288 - val_loglikelihood_term: 0.1746 - val_evidential_success: 43.3221 - val_evidential_fail: 1.5480 - val_acc: 0.9257 - val_annealing_coef: 1.0000 - val_global_step_get: 5600.0000 - val_annealing_step_get: 3750.0000 - val_UEO_term: 0.4414\n",
      "\n",
      "Epoch 00016: val_loss improved from 0.80888 to 0.80777, saving model to D:/Jorge/datasets/deforestation/experiments/exp197/models\\resunet_0.h5\n",
      "Epoch 17/100\n",
      "self.global_step 5600.0\n",
      "351/351 [==============================] - 31s 89ms/step - loss: 0.7904 - accuracy: 0.9297 - KL_term: 0.0230 - loglikelihood_term: 0.1431 - evidential_success: 57.8109 - evidential_fail: 3.0387 - acc: 0.9298 - annealing_coef: 0.6843 - global_step_get: 2975.0000 - annealing_step_get: 3750.0000 - UEO_term: 0.4751 - val_loss: 0.8140 - val_accuracy: 0.9246 - val_KL_term: 0.0447 - val_loglikelihood_term: 0.1585 - val_evidential_success: 58.0747 - val_evidential_fail: 2.3963 - val_acc: 0.9251 - val_annealing_coef: 1.0000 - val_global_step_get: 5950.0000 - val_annealing_step_get: 3750.0000 - val_UEO_term: 0.4367\n",
      "\n",
      "Epoch 00017: val_loss did not improve from 0.80777\n",
      "Epoch 18/100\n",
      "self.global_step 5950.0\n",
      "351/351 [==============================] - 31s 89ms/step - loss: 0.7892 - accuracy: 0.9312 - KL_term: 0.0229 - loglikelihood_term: 0.1411 - evidential_success: 60.6821 - evidential_fail: 2.9049 - acc: 0.9312 - annealing_coef: 0.7018 - global_step_get: 3150.0000 - annealing_step_get: 3750.0000 - UEO_term: 0.4765 - val_loss: 0.8092 - val_accuracy: 0.9274 - val_KL_term: 0.0400 - val_loglikelihood_term: 0.1482 - val_evidential_success: 59.7598 - val_evidential_fail: 2.2838 - val_acc: 0.9281 - val_annealing_coef: 1.0000 - val_global_step_get: 6300.0000 - val_annealing_step_get: 3750.0000 - val_UEO_term: 0.4360\n",
      "\n",
      "Epoch 00018: val_loss did not improve from 0.80777\n",
      "Epoch 19/100\n",
      "self.global_step 6300.0\n",
      "351/351 [==============================] - 31s 88ms/step - loss: 0.7882 - accuracy: 0.9321 - KL_term: 0.0228 - loglikelihood_term: 0.1396 - evidential_success: 62.9403 - evidential_fail: 2.8500 - acc: 0.9321 - annealing_coef: 0.7174 - global_step_get: 3325.0000 - annealing_step_get: 3750.0000 - UEO_term: 0.4802 - val_loss: 0.8066 - val_accuracy: 0.9306 - val_KL_term: 0.0387 - val_loglikelihood_term: 0.1464 - val_evidential_success: 73.9134 - val_evidential_fail: 2.2674 - val_acc: 0.9312 - val_annealing_coef: 1.0000 - val_global_step_get: 6650.0000 - val_annealing_step_get: 3750.0000 - val_UEO_term: 0.4400\n",
      "\n",
      "Epoch 00019: val_loss improved from 0.80777 to 0.80657, saving model to D:/Jorge/datasets/deforestation/experiments/exp197/models\\resunet_0.h5\n",
      "Epoch 20/100\n",
      "self.global_step 6650.0\n",
      "351/351 [==============================] - 31s 89ms/step - loss: 0.7879 - accuracy: 0.9325 - KL_term: 0.0229 - loglikelihood_term: 0.1390 - evidential_success: 66.3030 - evidential_fail: 2.8364 - acc: 0.9326 - annealing_coef: 0.7315 - global_step_get: 3500.0000 - annealing_step_get: 3750.0000 - UEO_term: 0.4825 - val_loss: 0.8075 - val_accuracy: 0.9282 - val_KL_term: 0.0366 - val_loglikelihood_term: 0.1509 - val_evidential_success: 72.5273 - val_evidential_fail: 2.3589 - val_acc: 0.9289 - val_annealing_coef: 1.0000 - val_global_step_get: 7000.0000 - val_annealing_step_get: 3750.0000 - val_UEO_term: 0.4712\n",
      "\n",
      "Epoch 00020: val_loss did not improve from 0.80657\n",
      "Epoch 21/100\n",
      "self.global_step 7000.0\n",
      "351/351 [==============================] - 31s 89ms/step - loss: 0.7868 - accuracy: 0.9334 - KL_term: 0.0225 - loglikelihood_term: 0.1376 - evidential_success: 68.0817 - evidential_fail: 2.6847 - acc: 0.9333 - annealing_coef: 0.7442 - global_step_get: 3675.0000 - annealing_step_get: 3750.0000 - UEO_term: 0.4841 - val_loss: 0.8088 - val_accuracy: 0.9267 - val_KL_term: 0.0344 - val_loglikelihood_term: 0.1547 - val_evidential_success: 70.7011 - val_evidential_fail: 2.1403 - val_acc: 0.9274 - val_annealing_coef: 1.0000 - val_global_step_get: 7350.0000 - val_annealing_step_get: 3750.0000 - val_UEO_term: 0.4657\n",
      "\n",
      "Epoch 00021: val_loss did not improve from 0.80657\n",
      "Epoch 22/100\n",
      "self.global_step 7350.0\n",
      "351/351 [==============================] - 31s 89ms/step - loss: 0.7859 - accuracy: 0.9344 - KL_term: 0.0225 - loglikelihood_term: 0.1355 - evidential_success: 71.3177 - evidential_fail: 2.7708 - acc: 0.9344 - annealing_coef: 0.7558 - global_step_get: 3850.0000 - annealing_step_get: 3750.0000 - UEO_term: 0.4843 - val_loss: 0.8072 - val_accuracy: 0.9282 - val_KL_term: 0.0338 - val_loglikelihood_term: 0.1506 - val_evidential_success: 73.1163 - val_evidential_fail: 2.1541 - val_acc: 0.9289 - val_annealing_coef: 1.0000 - val_global_step_get: 7700.0000 - val_annealing_step_get: 3750.0000 - val_UEO_term: 0.4732\n",
      "\n",
      "Epoch 00022: val_loss did not improve from 0.80657\n",
      "Epoch 23/100\n",
      "self.global_step 7700.0\n",
      "351/351 [==============================] - 31s 89ms/step - loss: 0.7846 - accuracy: 0.9352 - KL_term: 0.0225 - loglikelihood_term: 0.1337 - evidential_success: 73.5973 - evidential_fail: 2.7436 - acc: 0.9352 - annealing_coef: 0.7663 - global_step_get: 4025.0000 - annealing_step_get: 3750.0000 - UEO_term: 0.4866 - val_loss: 0.8048 - val_accuracy: 0.9300 - val_KL_term: 0.0330 - val_loglikelihood_term: 0.1486 - val_evidential_success: 71.9160 - val_evidential_fail: 2.1723 - val_acc: 0.9307 - val_annealing_coef: 1.0000 - val_global_step_get: 8050.0000 - val_annealing_step_get: 3750.0000 - val_UEO_term: 0.4643\n",
      "\n",
      "Epoch 00023: val_loss improved from 0.80657 to 0.80479, saving model to D:/Jorge/datasets/deforestation/experiments/exp197/models\\resunet_0.h5\n",
      "Epoch 24/100\n",
      "self.global_step 8050.0\n",
      "351/351 [==============================] - 31s 89ms/step - loss: 0.7849 - accuracy: 0.9354 - KL_term: 0.0226 - loglikelihood_term: 0.1337 - evidential_success: 74.2984 - evidential_fail: 2.6965 - acc: 0.9354 - annealing_coef: 0.7760 - global_step_get: 4200.0000 - annealing_step_get: 3750.0000 - UEO_term: 0.4850 - val_loss: 0.8067 - val_accuracy: 0.9274 - val_KL_term: 0.0386 - val_loglikelihood_term: 0.1494 - val_evidential_success: 76.8587 - val_evidential_fail: 2.3636 - val_acc: 0.9281 - val_annealing_coef: 1.0000 - val_global_step_get: 8400.0000 - val_annealing_step_get: 3750.0000 - val_UEO_term: 0.4537\n",
      "\n",
      "Epoch 00024: val_loss did not improve from 0.80479\n",
      "Epoch 25/100\n",
      "self.global_step 8400.0\n",
      "351/351 [==============================] - 31s 89ms/step - loss: 0.7834 - accuracy: 0.9363 - KL_term: 0.0223 - loglikelihood_term: 0.1313 - evidential_success: 77.4529 - evidential_fail: 2.5736 - acc: 0.9363 - annealing_coef: 0.7849 - global_step_get: 4375.0000 - annealing_step_get: 3750.0000 - UEO_term: 0.4911 - val_loss: 0.8091 - val_accuracy: 0.9272 - val_KL_term: 0.0431 - val_loglikelihood_term: 0.1467 - val_evidential_success: 84.3512 - val_evidential_fail: 2.5620 - val_acc: 0.9281 - val_annealing_coef: 1.0000 - val_global_step_get: 8750.0000 - val_annealing_step_get: 3750.0000 - val_UEO_term: 0.4522\n",
      "\n",
      "Epoch 00025: val_loss did not improve from 0.80479\n",
      "Epoch 26/100\n",
      "self.global_step 8750.0\n",
      "351/351 [==============================] - 31s 89ms/step - loss: 0.7824 - accuracy: 0.9366 - KL_term: 0.0224 - loglikelihood_term: 0.1314 - evidential_success: 80.8382 - evidential_fail: 2.6383 - acc: 0.9366 - annealing_coef: 0.7931 - global_step_get: 4550.0000 - annealing_step_get: 3750.0000 - UEO_term: 0.4896 - val_loss: 0.8051 - val_accuracy: 0.9291 - val_KL_term: 0.0354 - val_loglikelihood_term: 0.1490 - val_evidential_success: 84.5932 - val_evidential_fail: 2.1719 - val_acc: 0.9299 - val_annealing_coef: 1.0000 - val_global_step_get: 9100.0000 - val_annealing_step_get: 3750.0000 - val_UEO_term: 0.4596\n",
      "\n",
      "Epoch 00026: val_loss did not improve from 0.80479\n",
      "Epoch 27/100\n",
      "self.global_step 9100.0\n",
      "351/351 [==============================] - 31s 89ms/step - loss: 0.7817 - accuracy: 0.9375 - KL_term: 0.0222 - loglikelihood_term: 0.1294 - evidential_success: 82.9135 - evidential_fail: 2.5437 - acc: 0.9375 - annealing_coef: 0.8007 - global_step_get: 4725.0000 - annealing_step_get: 3750.0000 - UEO_term: 0.4924 - val_loss: 0.8116 - val_accuracy: 0.9275 - val_KL_term: 0.0453 - val_loglikelihood_term: 0.1426 - val_evidential_success: 79.0374 - val_evidential_fail: 2.4422 - val_acc: 0.9283 - val_annealing_coef: 1.0000 - val_global_step_get: 9450.0000 - val_annealing_step_get: 3750.0000 - val_UEO_term: 0.4552\n",
      "\n",
      "Epoch 00027: val_loss did not improve from 0.80479\n",
      "Epoch 28/100\n",
      "self.global_step 9450.0\n",
      "351/351 [==============================] - 31s 88ms/step - loss: 0.7821 - accuracy: 0.9371 - KL_term: 0.0223 - loglikelihood_term: 0.1304 - evidential_success: 82.5002 - evidential_fail: 2.4840 - acc: 0.9371 - annealing_coef: 0.8078 - global_step_get: 4900.0000 - annealing_step_get: 3750.0000 - UEO_term: 0.4931 - val_loss: 0.8077 - val_accuracy: 0.9293 - val_KL_term: 0.0412 - val_loglikelihood_term: 0.1466 - val_evidential_success: 88.2538 - val_evidential_fail: 2.5170 - val_acc: 0.9301 - val_annealing_coef: 1.0000 - val_global_step_get: 9800.0000 - val_annealing_step_get: 3750.0000 - val_UEO_term: 0.4651\n",
      "\n",
      "Epoch 00028: val_loss did not improve from 0.80479\n",
      "Epoch 29/100\n",
      "self.global_step 9800.0\n",
      "351/351 [==============================] - 31s 90ms/step - loss: 0.7803 - accuracy: 0.9379 - KL_term: 0.0221 - loglikelihood_term: 0.1285 - evidential_success: 85.2300 - evidential_fail: 2.4673 - acc: 0.9378 - annealing_coef: 0.8144 - global_step_get: 5075.0000 - annealing_step_get: 3750.0000 - UEO_term: 0.4963 - val_loss: 0.8075 - val_accuracy: 0.9295 - val_KL_term: 0.0392 - val_loglikelihood_term: 0.1422 - val_evidential_success: 93.0957 - val_evidential_fail: 2.4369 - val_acc: 0.9303 - val_annealing_coef: 1.0000 - val_global_step_get: 10150.0000 - val_annealing_step_get: 3750.0000 - val_UEO_term: 0.4733\n",
      "\n",
      "Epoch 00029: val_loss did not improve from 0.80479\n",
      "Epoch 30/100\n",
      "self.global_step 10150.0\n",
      "351/351 [==============================] - 31s 89ms/step - loss: 0.7798 - accuracy: 0.9386 - KL_term: 0.0221 - loglikelihood_term: 0.1270 - evidential_success: 87.8215 - evidential_fail: 2.5011 - acc: 0.9387 - annealing_coef: 0.8205 - global_step_get: 5250.0000 - annealing_step_get: 3750.0000 - UEO_term: 0.4961 - val_loss: 0.8071 - val_accuracy: 0.9297 - val_KL_term: 0.0327 - val_loglikelihood_term: 0.1563 - val_evidential_success: 93.4838 - val_evidential_fail: 2.3580 - val_acc: 0.9304 - val_annealing_coef: 1.0000 - val_global_step_get: 10500.0000 - val_annealing_step_get: 3750.0000 - val_UEO_term: 0.4785\n",
      "\n",
      "Epoch 00030: val_loss did not improve from 0.80479\n",
      "Epoch 31/100\n",
      "self.global_step 10500.0\n",
      "351/351 [==============================] - 31s 89ms/step - loss: 0.7791 - accuracy: 0.9389 - KL_term: 0.0221 - loglikelihood_term: 0.1266 - evidential_success: 87.0433 - evidential_fail: 2.4259 - acc: 0.9389 - annealing_coef: 0.8263 - global_step_get: 5425.0000 - annealing_step_get: 3750.0000 - UEO_term: 0.4954 - val_loss: 0.8068 - val_accuracy: 0.9293 - val_KL_term: 0.0396 - val_loglikelihood_term: 0.1471 - val_evidential_success: 89.0150 - val_evidential_fail: 2.7616 - val_acc: 0.9301 - val_annealing_coef: 1.0000 - val_global_step_get: 10850.0000 - val_annealing_step_get: 3750.0000 - val_UEO_term: 0.4604\n",
      "\n",
      "Epoch 00031: val_loss did not improve from 0.80479\n",
      "Epoch 32/100\n",
      "self.global_step 10850.0\n",
      "351/351 [==============================] - 31s 89ms/step - loss: 0.7790 - accuracy: 0.9394 - KL_term: 0.0219 - loglikelihood_term: 0.1251 - evidential_success: 90.9360 - evidential_fail: 2.4500 - acc: 0.9394 - annealing_coef: 0.8316 - global_step_get: 5600.0000 - annealing_step_get: 3750.0000 - UEO_term: 0.4979 - val_loss: 0.8019 - val_accuracy: 0.9304 - val_KL_term: 0.0327 - val_loglikelihood_term: 0.1453 - val_evidential_success: 90.7093 - val_evidential_fail: 2.1965 - val_acc: 0.9311 - val_annealing_coef: 1.0000 - val_global_step_get: 11200.0000 - val_annealing_step_get: 3750.0000 - val_UEO_term: 0.4735\n",
      "\n",
      "Epoch 00032: val_loss improved from 0.80479 to 0.80193, saving model to D:/Jorge/datasets/deforestation/experiments/exp197/models\\resunet_0.h5\n",
      "Epoch 33/100\n",
      "self.global_step 11200.0\n",
      "351/351 [==============================] - 32s 90ms/step - loss: 0.7775 - accuracy: 0.9398 - KL_term: 0.0219 - loglikelihood_term: 0.1244 - evidential_success: 92.4976 - evidential_fail: 2.4256 - acc: 0.9398 - annealing_coef: 0.8367 - global_step_get: 5775.0000 - annealing_step_get: 3750.0000 - UEO_term: 0.4986 - val_loss: 0.8097 - val_accuracy: 0.9306 - val_KL_term: 0.0431 - val_loglikelihood_term: 0.1418 - val_evidential_success: 102.4757 - val_evidential_fail: 3.1915 - val_acc: 0.9311 - val_annealing_coef: 1.0000 - val_global_step_get: 11550.0000 - val_annealing_step_get: 3750.0000 - val_UEO_term: 0.4642\n",
      "\n",
      "Epoch 00033: val_loss did not improve from 0.80193\n",
      "Epoch 34/100\n",
      "self.global_step 11550.0\n",
      "351/351 [==============================] - 32s 90ms/step - loss: 0.7776 - accuracy: 0.9398 - KL_term: 0.0219 - loglikelihood_term: 0.1242 - evidential_success: 93.1136 - evidential_fail: 2.3893 - acc: 0.9398 - annealing_coef: 0.8415 - global_step_get: 5950.0000 - annealing_step_get: 3750.0000 - UEO_term: 0.5009 - val_loss: 0.8062 - val_accuracy: 0.9306 - val_KL_term: 0.0335 - val_loglikelihood_term: 0.1464 - val_evidential_success: 85.9454 - val_evidential_fail: 2.3075 - val_acc: 0.9311 - val_annealing_coef: 1.0000 - val_global_step_get: 11900.0000 - val_annealing_step_get: 3750.0000 - val_UEO_term: 0.4765\n",
      "\n",
      "Epoch 00034: val_loss did not improve from 0.80193\n",
      "Epoch 35/100\n",
      "self.global_step 11900.0\n",
      "351/351 [==============================] - 32s 91ms/step - loss: 0.7765 - accuracy: 0.9402 - KL_term: 0.0218 - loglikelihood_term: 0.1233 - evidential_success: 94.4089 - evidential_fail: 2.3456 - acc: 0.9401 - annealing_coef: 0.8459 - global_step_get: 6125.0000 - annealing_step_get: 3750.0000 - UEO_term: 0.5023 - val_loss: 0.8055 - val_accuracy: 0.9348 - val_KL_term: 0.0379 - val_loglikelihood_term: 0.1326 - val_evidential_success: 124.8915 - val_evidential_fail: 3.0378 - val_acc: 0.9355 - val_annealing_coef: 1.0000 - val_global_step_get: 12250.0000 - val_annealing_step_get: 3750.0000 - val_UEO_term: 0.4826\n",
      "\n",
      "Epoch 00035: val_loss did not improve from 0.80193\n",
      "Epoch 36/100\n",
      "self.global_step 12250.0\n",
      "351/351 [==============================] - 31s 88ms/step - loss: 0.7762 - accuracy: 0.9407 - KL_term: 0.0218 - loglikelihood_term: 0.1221 - evidential_success: 100.2129 - evidential_fail: 2.4138 - acc: 0.9407 - annealing_coef: 0.8502 - global_step_get: 6300.0000 - annealing_step_get: 3750.0000 - UEO_term: 0.5030 - val_loss: 0.8069 - val_accuracy: 0.9320 - val_KL_term: 0.0384 - val_loglikelihood_term: 0.1407 - val_evidential_success: 105.5394 - val_evidential_fail: 2.5762 - val_acc: 0.9327 - val_annealing_coef: 1.0000 - val_global_step_get: 12600.0000 - val_annealing_step_get: 3750.0000 - val_UEO_term: 0.4660\n",
      "\n",
      "Epoch 00036: val_loss did not improve from 0.80193\n",
      "Epoch 37/100\n",
      "self.global_step 12600.0\n",
      "351/351 [==============================] - 31s 88ms/step - loss: 0.7750 - accuracy: 0.9413 - KL_term: 0.0216 - loglikelihood_term: 0.1211 - evidential_success: 100.2120 - evidential_fail: 2.3648 - acc: 0.9413 - annealing_coef: 0.8542 - global_step_get: 6475.0000 - annealing_step_get: 3750.0000 - UEO_term: 0.5006 - val_loss: 0.8126 - val_accuracy: 0.9278 - val_KL_term: 0.0378 - val_loglikelihood_term: 0.1477 - val_evidential_success: 81.7320 - val_evidential_fail: 2.6942 - val_acc: 0.9286 - val_annealing_coef: 1.0000 - val_global_step_get: 12950.0000 - val_annealing_step_get: 3750.0000 - val_UEO_term: 0.4784\n",
      "\n",
      "Epoch 00037: val_loss did not improve from 0.80193\n",
      "Epoch 38/100\n",
      "self.global_step 12950.0\n",
      "351/351 [==============================] - 31s 88ms/step - loss: 0.7742 - accuracy: 0.9417 - KL_term: 0.0215 - loglikelihood_term: 0.1201 - evidential_success: 99.1778 - evidential_fail: 2.3641 - acc: 0.9417 - annealing_coef: 0.8580 - global_step_get: 6650.0000 - annealing_step_get: 3750.0000 - UEO_term: 0.5029 - val_loss: 0.8176 - val_accuracy: 0.9295 - val_KL_term: 0.0487 - val_loglikelihood_term: 0.1369 - val_evidential_success: 104.1529 - val_evidential_fail: 3.2670 - val_acc: 0.9303 - val_annealing_coef: 1.0000 - val_global_step_get: 13300.0000 - val_annealing_step_get: 3750.0000 - val_UEO_term: 0.4676\n",
      "\n",
      "Epoch 00038: val_loss did not improve from 0.80193\n",
      "Epoch 39/100\n",
      "self.global_step 13300.0\n",
      "351/351 [==============================] - 31s 87ms/step - loss: 0.7735 - accuracy: 0.9420 - KL_term: 0.0214 - loglikelihood_term: 0.1194 - evidential_success: 101.0025 - evidential_fail: 2.3257 - acc: 0.9419 - annealing_coef: 0.8616 - global_step_get: 6825.0000 - annealing_step_get: 3750.0000 - UEO_term: 0.5020 - val_loss: 0.8143 - val_accuracy: 0.9308 - val_KL_term: 0.0468 - val_loglikelihood_term: 0.1355 - val_evidential_success: 93.9460 - val_evidential_fail: 3.1510 - val_acc: 0.9316 - val_annealing_coef: 1.0000 - val_global_step_get: 13650.0000 - val_annealing_step_get: 3750.0000 - val_UEO_term: 0.4563\n",
      "\n",
      "Epoch 00039: val_loss did not improve from 0.80193\n",
      "Epoch 40/100\n",
      "self.global_step 13650.0\n",
      "351/351 [==============================] - 31s 88ms/step - loss: 0.7735 - accuracy: 0.9419 - KL_term: 0.0214 - loglikelihood_term: 0.1190 - evidential_success: 101.7290 - evidential_fail: 2.3466 - acc: 0.9419 - annealing_coef: 0.8650 - global_step_get: 7000.0000 - annealing_step_get: 3750.0000 - UEO_term: 0.5053 - val_loss: 0.8112 - val_accuracy: 0.9309 - val_KL_term: 0.0415 - val_loglikelihood_term: 0.1396 - val_evidential_success: 101.8432 - val_evidential_fail: 3.1299 - val_acc: 0.9318 - val_annealing_coef: 1.0000 - val_global_step_get: 14000.0000 - val_annealing_step_get: 3750.0000 - val_UEO_term: 0.4742\n",
      "\n",
      "Epoch 00040: val_loss did not improve from 0.80193\n",
      "Epoch 41/100\n",
      "self.global_step 14000.0\n",
      "351/351 [==============================] - 31s 90ms/step - loss: 0.7733 - accuracy: 0.9424 - KL_term: 0.0213 - loglikelihood_term: 0.1187 - evidential_success: 105.5393 - evidential_fail: 2.3216 - acc: 0.9424 - annealing_coef: 0.8683 - global_step_get: 7175.0000 - annealing_step_get: 3750.0000 - UEO_term: 0.5035 - val_loss: 0.8170 - val_accuracy: 0.9298 - val_KL_term: 0.0447 - val_loglikelihood_term: 0.1406 - val_evidential_success: 114.7805 - val_evidential_fail: 3.5075 - val_acc: 0.9306 - val_annealing_coef: 1.0000 - val_global_step_get: 14350.0000 - val_annealing_step_get: 3750.0000 - val_UEO_term: 0.4907\n",
      "\n",
      "Epoch 00041: val_loss did not improve from 0.80193\n",
      "Epoch 42/100\n",
      "self.global_step 14350.0\n",
      "351/351 [==============================] - 31s 89ms/step - loss: 0.7724 - accuracy: 0.9425 - KL_term: 0.0213 - loglikelihood_term: 0.1181 - evidential_success: 103.9182 - evidential_fail: 2.2963 - acc: 0.9425 - annealing_coef: 0.8714 - global_step_get: 7350.0000 - annealing_step_get: 3750.0000 - UEO_term: 0.5060 - val_loss: 0.8210 - val_accuracy: 0.9302 - val_KL_term: 0.0550 - val_loglikelihood_term: 0.1391 - val_evidential_success: 107.9604 - val_evidential_fail: 3.5734 - val_acc: 0.9310 - val_annealing_coef: 1.0000 - val_global_step_get: 14700.0000 - val_annealing_step_get: 3750.0000 - val_UEO_term: 0.4549\n",
      "\n",
      "Epoch 00042: val_loss did not improve from 0.80193\n",
      "Epoch 00042: early stopping\n",
      "-30.0 -16.0\n"
     ]
    },
    {
     "name": "stderr",
     "output_type": "stream",
     "text": [
      "ic| self.path_models+ '/' + self.method +'_'+str(0)+'.h5': 'D:/Jorge/datasets/deforestation/experiments/exp197/models/resunet_0.h5'\n"
     ]
    },
    {
     "name": "stdout",
     "output_type": "stream",
     "text": [
      "time:  0\n",
      "(54236371,)\n",
      "(array([0, 1], dtype=uint8), array([53470765,   765606], dtype=int64))\n",
      "(17730, 9200)\n",
      "(array([0., 1.], dtype=float32), array([161611284,   1504716], dtype=int64))\n"
     ]
    },
    {
     "name": "stderr",
     "output_type": "stream",
     "text": [
      "ic| self.predicted_unpad.shape: (17730, 9200)\n",
      "    self.predicted.shape: (17730, 9200)\n",
      "ic| predicted_test.shape: (81558000,)\n",
      "ic| predicted_test.shape: (54236371,)\n",
      "ic| np.unique(predicted, return_counts=True): (array([0., 1.], dtype=float32), array([161611284,   1504716], dtype=int64))\n",
      "    np.unique(predicted_larger_than_min_area, return_counts=True): (array([0., 1.], dtype=float32), array([161820575,   1295425], dtype=int64))\n",
      "ic| np.unique(ignored_polygons, return_counts=True): (array([0., 1.], dtype=float32), array([162906709,    209291], dtype=int64))\n",
      "ic| self.f1: 76.28, self.precision: 91.0, self.recall: 65.66\n",
      "ic| self.label_mask_val.shape: (16311600,)\n",
      "ic| self.label_mask_val_valid.shape: (9429314,)\n",
      "ic| f1_val: 78.5\n",
      "    precision_val: 88.0\n",
      "    recall_val: 70.84\n",
      "    mAP_val: 88.06\n"
     ]
    },
    {
     "name": "stdout",
     "output_type": "stream",
     "text": [
      "(array([0., 1.], dtype=float32), array([162353865,    762135], dtype=int64))\n",
      "[0. 1.]\n"
     ]
    },
    {
     "name": "stderr",
     "output_type": "stream",
     "text": [
      "ic| self.label_mask.shape: (17730, 9200)\n",
      "ic| self.mask_amazon_ts.shape: (17730, 9200)\n",
      "ic| self.label_mask_test.shape: (81558000,)\n",
      "ic| self.error_mask_test.shape: (54135156,)\n"
     ]
    },
    {
     "name": "stdout",
     "output_type": "stream",
     "text": [
      "(54135156,) (54135156,)\n"
     ]
    },
    {
     "name": "stderr",
     "output_type": "stream",
     "text": [
      "ic| bounds: (0.0015, 0.9985)\n"
     ]
    },
    {
     "name": "stdout",
     "output_type": "stream",
     "text": [
      "0.39539940415724506\n",
      "0\n",
      "0.38232011321635484\n",
      "threshold 0.38232011321635484\n"
     ]
    },
    {
     "name": "stderr",
     "output_type": "stream",
     "text": [
      "c:\\Users\\jchamorro\\Anaconda3\\envs\\tf2\\lib\\site-packages\\scipy\\optimize\\_minimize.py:783: RuntimeWarning: Method 'bounded' does not support relative tolerance in x; defaulting to absolute tolerance.\n",
      "  warn(\"Method 'bounded' does not support relative tolerance in x; \"\n"
     ]
    },
    {
     "name": "stdout",
     "output_type": "stream",
     "text": [
      "(52011154,) (52011154,)\n"
     ]
    },
    {
     "name": "stderr",
     "output_type": "stream",
     "text": [
      "ic| label_current_deforestation_test_classified_incorrect.shape: (2124002,)\n",
      "    predicted_test_classified_incorrect.shape: (2124002,)\n"
     ]
    },
    {
     "name": "stdout",
     "output_type": "stream",
     "text": [
      "cm_correct [[51596587    20188]\n",
      " [   35170   359209]]\n"
     ]
    },
    {
     "name": "stderr",
     "output_type": "stream",
     "text": [
      "ic| TP_H + FN_H + FP_H + TN_H: 2124002\n",
      "    len(label_mask_current_deforestation_test): 54135156\n",
      "ic| TP_H + FN_H + FP_H + TN_H: 2124002\n",
      "    len(label_mask_current_deforestation_test): 54135156\n"
     ]
    },
    {
     "name": "stdout",
     "output_type": "stream",
     "text": [
      "cm_incorrect [[1756822   27462]\n",
      " [ 216927  122791]]\n",
      "[0.94678925 0.91082182 0.48932089 0.03923517 0.81722827 0.36144979\n",
      " 0.11213797]\n",
      "0.6176798867836452\n",
      "threshold 0.6176798867836452\n",
      "(52835410,) (52835410,)\n"
     ]
    },
    {
     "name": "stderr",
     "output_type": "stream",
     "text": [
      "ic| label_current_deforestation_test_classified_incorrect.shape: (1299746,)\n",
      "    predicted_test_classified_incorrect.shape: (1299746,)\n",
      "ic| TP_H + FN_H + FP_H + TN_H: 1299746\n",
      "    len(label_mask_current_deforestation_test): 54135156\n",
      "ic| TP_H + FN_H + FP_H + TN_H: 1299746\n",
      "    len(label_mask_current_deforestation_test"
     ]
    },
    {
     "name": "stdout",
     "output_type": "stream",
     "text": [
      "cm_correct [[52316997    37759]\n",
      " [   42695   437959]]\n",
      "cm_incorrect [[1036412    9891]\n",
      " [ 209402   44041]]\n"
     ]
    },
    {
     "name": "stderr",
     "output_type": "stream",
     "text": [
      "): 54135156\n"
     ]
    },
    {
     "name": "stdout",
     "output_type": "stream",
     "text": [
      "[0.92062735 0.91117311 0.59659555 0.02400928 0.81660239 0.17377083\n",
      " 0.15888494]\n",
      "0.7631402264327096\n",
      "threshold 0.7631402264327096\n",
      "(53237495,) (53237495,)\n"
     ]
    },
    {
     "name": "stderr",
     "output_type": "stream",
     "text": [
      "ic| label_current_deforestation_test_classified_incorrect.shape: (897661,)\n",
      "    predicted_test_classified_incorrect.shape: (897661,)\n",
      "d:\\Jorge\\deforestation_uncertainty\\src\\metrics.py:295: RuntimeWarning: invalid value encountered in longlong_scalars\n",
      "  precision_H = TP_H / (TP_H + FP_H)\n",
      "ic| TP_H + FN_H + FP_H + TN_H: 897661\n",
      "    len(label_mask_current_deforestation_test): 54135156\n",
      "ic| TP_H + FN_H + FP_H + TN_H: 897661\n",
      "    len(label_mask_current_deforestation_test): 54135156\n"
     ]
    },
    {
     "name": "stdout",
     "output_type": "stream",
     "text": [
      "cm_correct [[52654166    47650]\n",
      " [   53679   482000]]\n",
      "cm_incorrect [[699243      0]\n",
      " [198418      0]]\n",
      "[0.91003493 0.8997926  0.65658898 0.01658185        nan 0.\n",
      " 0.1986186 ]\n",
      "0.5404772665208066\n",
      "threshold 0.5404772665208066\n",
      "(52593437,) (52593437,)\n"
     ]
    },
    {
     "name": "stderr",
     "output_type": "stream",
     "text": [
      "ic| label_current_deforestation_test_classified_incorrect.shape: (1541719,)\n",
      "    predicted_test_classified_incorrect.shape: (1541719,)\n",
      "ic"
     ]
    },
    {
     "name": "stdout",
     "output_type": "stream",
     "text": [
      "cm_correct [[52109373    31968]\n",
      " [   40224   411872]]\n",
      "cm_incorrect [[1244036   15682]\n",
      " [ 211873   70128]]\n"
     ]
    },
    {
     "name": "stderr",
     "output_type": "stream",
     "text": [
      "| TP_H + FN_H + FP_H + TN_H: 1541719\n",
      "    len(label_mask_current_deforestation_test): 54135156\n",
      "ic| TP_H + FN_H + FP_H + TN_H: 1541719\n",
      "    len(label_mask_current_deforestation_test): 54135156\n"
     ]
    },
    {
     "name": "stdout",
     "output_type": "stream",
     "text": [
      "[0.92797404 0.91102775 0.56105937 0.02847907 0.81724741 0.24867997\n",
      " 0.140996  ]\n",
      "0.5152074822255608\n",
      "threshold 0.5152074822255608\n",
      "(52509604,) (52509604,)\n"
     ]
    },
    {
     "name": "stderr",
     "output_type": "stream",
     "text": [
      "ic| label_current_deforestation_test_classified_incorrect.shape: (1625552,)\n",
      "    predicted_test_classified_incorrect.shape: (1625552,)\n",
      "ic"
     ]
    },
    {
     "name": "stdout",
     "output_type": "stream",
     "text": [
      "cm_correct [[52036511    30130]\n",
      " [   39465   403498]]\n",
      "cm_incorrect [[1316898   17520]\n",
      " [ 212632   78502]]\n"
     ]
    },
    {
     "name": "stderr",
     "output_type": "stream",
     "text": [
      "| TP_H + FN_H + FP_H + TN_H: 1625552\n",
      "    len(label_mask_current_deforestation_test): 54135156\n",
      "ic| TP_H + FN_H + FP_H + TN_H: 1625552\n",
      "    len(label_mask_current_deforestation_test): 54135156\n"
     ]
    },
    {
     "name": "stdout",
     "output_type": "stream",
     "text": [
      "[0.93051648 0.91090678 0.54965216 0.03002766 0.81754181 0.26964216\n",
      " 0.13577112]\n",
      "0.46444902393959353\n",
      "threshold 0.46444902393959353\n",
      "(52334199,) (52334199,)\n"
     ]
    },
    {
     "name": "stderr",
     "output_type": "stream",
     "text": [
      "ic| label_current_deforestation_test_classified_incorrect.shape: (1800957,)\n",
      "    predicted_test_classified_incorrect.shape: (1800957,)\n"
     ]
    },
    {
     "name": "stdout",
     "output_type": "stream",
     "text": [
      "cm_correct [[51882658    26413]\n",
      " [   38000   387128]]\n"
     ]
    },
    {
     "name": "stderr",
     "output_type": "stream",
     "text": [
      "ic| TP_H + FN_H + FP_H + TN_H: 1800957\n",
      "    len(label_mask_current_deforestation_test): 54135156\n",
      "ic| TP_H + FN_H + FP_H + TN_H: 1800957\n",
      "    len(label_mask_current_deforestation_test): 54135156\n"
     ]
    },
    {
     "name": "stdout",
     "output_type": "stream",
     "text": [
      "cm_incorrect [[1470751   21237]\n",
      " [ 214097   94872]]\n",
      "[0.93612967 0.91061516 0.52735265 0.03326779 0.81709428 0.30705993\n",
      " 0.12615942]\n",
      "0.5095684047604685\n",
      "threshold 0.5095684047604685\n",
      "(52490595,) (52490595,)\n"
     ]
    },
    {
     "name": "stderr",
     "output_type": "stream",
     "text": [
      "ic| label_current_deforestation_test_classified_incorrect.shape: (1644561,)\n",
      "    predicted_test_classified_incorrect.shape: (1644561,)\n"
     ]
    },
    {
     "name": "stdout",
     "output_type": "stream",
     "text": [
      "cm_correct [[52019973    29707]\n",
      " [   39294   401621]]\n",
      "cm_incorrect [[1333436   17943]\n",
      " [ 212803   80379]]\n"
     ]
    },
    {
     "name": "stderr",
     "output_type": "stream",
     "text": [
      "ic| TP_H + FN_H + FP_H + TN_H: 1644561\n",
      "    len(label_mask_current_deforestation_test): 54135156\n",
      "ic| TP_H + FN_H + FP_H + TN_H: 1644561\n",
      "    len(label_mask_current_deforestation_test): 54135156\n"
     ]
    },
    {
     "name": "stdout",
     "output_type": "stream",
     "text": [
      "[0.93112666 0.91088078 0.54709527 0.0303788  0.81750778 0.27416076\n",
      " 0.13465868]\n",
      "0.5203173720359255\n",
      "threshold 0.5203173720359255\n",
      "(52526502,) (52526502,)\n"
     ]
    },
    {
     "name": "stderr",
     "output_type": "stream",
     "text": [
      "ic| label_current_deforestation_test_classified_incorrect.shape: (1608654,)\n",
      "    predicted_test_classified_incorrect.shape: (1608654,)\n",
      "ic"
     ]
    },
    {
     "name": "stdout",
     "output_type": "stream",
     "text": [
      "cm_correct [[52051182    30510]\n",
      " [   39624   405186]]\n",
      "cm_incorrect [[1302227   17140]\n",
      " [ 212473   76814]]\n"
     ]
    },
    {
     "name": "stderr",
     "output_type": "stream",
     "text": [
      "| TP_H + FN_H + FP_H + TN_H: 1608654\n",
      "    len(label_mask_current_deforestation_test): 54135156\n",
      "ic| TP_H + FN_H + FP_H + TN_H: 1608654\n",
      "    len(label_mask_current_deforestation_test): 54135156\n"
     ]
    },
    {
     "name": "stdout",
     "output_type": "stream",
     "text": [
      "[0.92997411 0.91091927 0.55195158 0.02971551 0.8175703  0.2655287\n",
      " 0.13677308]\n",
      "0.5153619458265504\n",
      "threshold 0.5153619458265504\n",
      "(52510100,) (52510100,)\n"
     ]
    },
    {
     "name": "stderr",
     "output_type": "stream",
     "text": [
      "ic| label_current_deforestation_test_classified_incorrect.shape: (1625056,)\n",
      "    predicted_test_classified_incorrect.shape: (1625056,)\n",
      "ic"
     ]
    },
    {
     "name": "stdout",
     "output_type": "stream",
     "text": [
      "cm_correct [[52036940    30149]\n",
      " [   39469   403542]]\n",
      "cm_incorrect [[1316469   17501]\n",
      " [ 212628   78458]]\n"
     ]
    },
    {
     "name": "stderr",
     "output_type": "stream",
     "text": [
      "| TP_H + FN_H + FP_H + TN_H: 1625056\n",
      "    len(label_mask_current_deforestation_test): 54135156\n",
      "ic| TP_H + FN_H + FP_H + TN_H: 1625056\n",
      "    len(label_mask_current_deforestation_test): 54135156\n"
     ]
    },
    {
     "name": "stdout",
     "output_type": "stream",
     "text": [
      "[0.93048276 0.9109074  0.5497121  0.0300185  0.81762003 0.26953546\n",
      " 0.13579544]\n",
      "0.5166259539603189\n",
      "threshold 0.5166259539603189\n",
      "(52514245,) (52514245,)\n"
     ]
    },
    {
     "name": "stderr",
     "output_type": "stream",
     "text": [
      "ic| label_current_deforestation_test_classified_incorrect.shape: (1620911,)\n",
      "    predicted_test_classified_incorrect.shape: (1620911,)\n",
      "ic"
     ]
    },
    {
     "name": "stdout",
     "output_type": "stream",
     "text": [
      "cm_correct [[52040590    30238]\n",
      " [   39505   403912]]\n",
      "cm_incorrect [[1312819   17412]\n",
      " [ 212592   78088]]\n"
     ]
    },
    {
     "name": "stderr",
     "output_type": "stream",
     "text": [
      "| TP_H + FN_H + FP_H + TN_H: 1620911\n",
      "    len(label_mask_current_deforestation_test): 54135156\n",
      "ic| TP_H + FN_H + FP_H + TN_H: 1620911\n",
      "    len(label_mask_current_deforestation_test): 54135156\n"
     ]
    },
    {
     "name": "stdout",
     "output_type": "stream",
     "text": [
      "[0.93035126 0.91090779 0.55021612 0.02994193 0.81767539 0.26863905\n",
      " 0.13604439]\n",
      "0.5158447539715936\n",
      "threshold 0.5158447539715936\n",
      "(52511698,) (52511698,)\n"
     ]
    },
    {
     "name": "stderr",
     "output_type": "stream",
     "text": [
      "ic| label_current_deforestation_test_classified_incorrect.shape: (1623458,)\n",
      "    predicted_test_classified_incorrect.shape: (1623458,)\n"
     ]
    },
    {
     "name": "stdout",
     "output_type": "stream",
     "text": [
      "cm_correct [[52038341    30188]\n",
      " [   39487   403682]]\n"
     ]
    },
    {
     "name": "stderr",
     "output_type": "stream",
     "text": [
      "ic| TP_H + FN_H + FP_H + TN_H: 1623458\n",
      "    len(label_mask_current_deforestation_test): 54135156\n",
      "ic| TP_H + FN_H + FP_H + TN_H: 1623458\n",
      "    len(label_mask_current_deforestation_test): 54135156\n"
     ]
    },
    {
     "name": "stdout",
     "output_type": "stream",
     "text": [
      "cm_incorrect [[1315068   17462]\n",
      " [ 212610   78318]]\n",
      "[0.93042155 0.91089855 0.54990281 0.02998898 0.81768636 0.26920063\n",
      " 0.13588537]\n",
      "0.5157158850752975\n",
      "threshold 0.5157158850752975\n",
      "(52511261,) (52511261,)\n"
     ]
    },
    {
     "name": "stderr",
     "output_type": "stream",
     "text": [
      "ic| label_current_deforestation_test_classified_incorrect.shape: (1623895,)\n",
      "    predicted_test_classified_incorrect.shape: (1623895,)\n",
      "ic"
     ]
    },
    {
     "name": "stdout",
     "output_type": "stream",
     "text": [
      "cm_correct [[52037969    30176]\n",
      " [   39481   403635]]\n",
      "cm_incorrect [[1315440   17474]\n",
      " [ 212616   78365]]\n"
     ]
    },
    {
     "name": "stderr",
     "output_type": "stream",
     "text": [
      "| TP_H + FN_H + FP_H + TN_H: 1623895\n",
      "    len(label_mask_current_deforestation_test): 54135156\n",
      "ic| TP_H + FN_H + FP_H + TN_H: 1623895\n",
      "    len(label_mask_current_deforestation_test): 54135156\n"
     ]
    },
    {
     "name": "stdout",
     "output_type": "stream",
     "text": [
      "[0.93043975 0.91090143 0.54983878 0.02999705 0.81767339 0.26931312\n",
      " 0.13586238]\n",
      "0.5156384203119062\n",
      "threshold 0.5156384203119062\n",
      "(52511026,) (52511026,)\n"
     ]
    },
    {
     "name": "stderr",
     "output_type": "stream",
     "text": [
      "ic| label_current_deforestation_test_classified_incorrect.shape: (1624130,)\n",
      "    predicted_test_classified_incorrect.shape: (1624130,)\n",
      "ic"
     ]
    },
    {
     "name": "stdout",
     "output_type": "stream",
     "text": [
      "cm_correct [[52037762    30168]\n",
      " [   39481   403615]]\n",
      "cm_incorrect [[1315647   17482]\n",
      " [ 212616   78385]]\n"
     ]
    },
    {
     "name": "stderr",
     "output_type": "stream",
     "text": [
      "| TP_H + FN_H + FP_H + TN_H: 1624130\n",
      "    len(label_mask_current_deforestation_test): 54135156\n",
      "ic| TP_H + FN_H + FP_H + TN_H: 1624130\n",
      "    len(label_mask_current_deforestation_test): 54135156\n"
     ]
    },
    {
     "name": "stdout",
     "output_type": "stream",
     "text": [
      "[0.93045371 0.91089741 0.54981154 0.03000139 0.81764319 0.26936334\n",
      " 0.13584889]\n",
      "0.5156050793304191\n",
      "threshold 0.5156050793304191\n",
      "(52510903,) (52510903,)\n"
     ]
    },
    {
     "name": "stderr",
     "output_type": "stream",
     "text": [
      "ic| label_current_deforestation_test_classified_incorrect.shape: (1624253,)\n",
      "    predicted_test_classified_incorrect.shape: (1624253,)\n",
      "ic"
     ]
    },
    {
     "name": "stdout",
     "output_type": "stream",
     "text": [
      "cm_correct [[52037653    30164]\n",
      " [   39477   403609]]\n",
      "cm_incorrect [[1315756   17486]\n",
      " [ 212620   78391]]\n"
     ]
    },
    {
     "name": "stderr",
     "output_type": "stream",
     "text": [
      "| TP_H + FN_H + FP_H + TN_H: 1624253\n",
      "    len(label_mask_current_deforestation_test): 54135156\n",
      "ic| TP_H + FN_H + FP_H + TN_H: 1624253\n",
      "    len(label_mask_current_deforestation_test): 54135156\n"
     ]
    },
    {
     "name": "stdout",
     "output_type": "stream",
     "text": [
      "[0.93046132 0.91090443 0.54980336 0.03000366 0.81762049 0.2693747\n",
      " 0.13584439]\n",
      "0.5156717612933933\n",
      "threshold 0.5156717612933933\n",
      "(52511131,) (52511131,)\n"
     ]
    },
    {
     "name": "stderr",
     "output_type": "stream",
     "text": [
      "ic| label_current_deforestation_test_classified_incorrect.shape: (1624025,)\n",
      "    predicted_test_classified_incorrect.shape: (1624025,)\n",
      "ic"
     ]
    },
    {
     "name": "stdout",
     "output_type": "stream",
     "text": [
      "cm_correct [[52037854    30170]\n",
      " [   39481   403626]]\n",
      "cm_incorrect [[1315555   17480]\n",
      " [ 212616   78374]]\n"
     ]
    },
    {
     "name": "stderr",
     "output_type": "stream",
     "text": [
      "| TP_H + FN_H + FP_H + TN_H: 1624025\n",
      "    len(label_mask_current_deforestation_test): 54135156\n",
      "ic| TP_H + FN_H + FP_H + TN_H: 1624025\n",
      "    len(label_mask_current_deforestation_test): 54135156\n",
      "ic| self.threshold_optimal: 0.5156717612933933\n"
     ]
    },
    {
     "name": "stdout",
     "output_type": "stream",
     "text": [
      "[0.93045118 0.91089962 0.54982652 0.02999945 0.81763933 0.26933572\n",
      " 0.13585597]\n",
      "threshold 0.5156717612933933\n",
      "(52511131,) (52511131,)\n"
     ]
    },
    {
     "name": "stderr",
     "output_type": "stream",
     "text": [
      "ic| label_current_deforestation_test_classified_incorrect.shape: (1624025,)\n",
      "    predicted_test_classified_incorrect.shape: (1624025,)\n",
      "ic"
     ]
    },
    {
     "name": "stdout",
     "output_type": "stream",
     "text": [
      "cm_correct [[52037854    30170]\n",
      " [   39481   403626]]\n",
      "cm_incorrect [[1315555   17480]\n",
      " [ 212616   78374]]\n"
     ]
    },
    {
     "name": "stderr",
     "output_type": "stream",
     "text": [
      "| TP_H + FN_H + FP_H + TN_H: 1624025\n",
      "    len(label_mask_current_deforestation_test): 54135156\n",
      "ic| TP_H + FN_H + FP_H + TN_H: 1624025\n",
      "    len(label_mask_current_deforestation_test): 54135156\n"
     ]
    },
    {
     "name": "stdout",
     "output_type": "stream",
     "text": [
      "[0.93045118 0.91089962 0.54982652 0.02999945 0.81763933 0.26933572\n",
      " 0.13585597]\n",
      "threshold 0.5156717612933933\n",
      "(54135156,) (54135156,)\n"
     ]
    },
    {
     "name": "stderr",
     "output_type": "stream",
     "text": [
      "ic| self.m_optimal: {'AA': array([0.02999945]),\n",
      "                     'UEO': array([0.13585597]),\n",
      "                     'f1': 76.28,\n",
      "                     'f1_H': array([0.40519693]),\n",
      "                     'f1_L': array([0.9205716]),\n",
      "                     'precision_H': array([0.81763933]),\n",
      "                     'precision_L': array([0.93045118]),\n",
      "                     'recall_H': array([0.26933572]),\n",
      "                     'recall_L': array([0.91089962]),\n",
      "                     'recall_Ltotal': array([0.54982652])}\n",
      "ic| self.m_audited_optimal: {'f1': array([0.95225731]),\n",
      "                             'precision': array([0.95837392]),\n",
      "                             'recall': array([0.94621828])}\n"
     ]
    },
    {
     "name": "stdout",
     "output_type": "stream",
     "text": [
      "cm_audited [[53370889    30170]\n",
      " [   39481   694616]]\n",
      "[0.95837392 0.94621828]\n",
      "Result idx 3: {'other_uncertainty_metrics': {'sUEO': 0.39539940415724506, 'ece_score': 0}, 'snippet_poi_results': [{'snippet_id': 0, 'coords': [550, 550], 'reference': 0, 'predicted': 0.0, 'alpha': array([445.66052,   1.     ,   1.     ], dtype=float32)}, {'snippet_id': 0, 'coords': [210, 610], 'reference': 1, 'predicted': 0.0, 'alpha': array([1., 1., 1.], dtype=float32)}, {'snippet_id': 0, 'coords': [207, 617], 'reference': 1, 'predicted': 0.0, 'alpha': array([1., 1., 1.], dtype=float32)}, {'snippet_id': 0, 'coords': [800, 200], 'reference': 1, 'predicted': 1.0, 'alpha': array([ 1.     , 36.08136,  1.     ], dtype=float32)}, {'snippet_id': 1, 'coords': [550, 115], 'reference': 1, 'predicted': 0.0, 'alpha': array([1., 1., 1.], dtype=float32)}, {'snippet_id': 1, 'coords': [430, 950], 'reference': 0, 'predicted': 0.0, 'alpha': array([1., 1., 1.], dtype=float32)}], 'uncertainty_result': {'metrics': {'precision_L': array([0.93045118]), 'recall_L': array([0.91089962]), 'recall_Ltotal': array([0.54982652]), 'AA': array([0.02999945]), 'precision_H': array([0.81763933]), 'recall_H': array([0.26933572]), 'UEO': array([0.13585597]), 'f1_L': array([0.9205716]), 'f1_H': array([0.40519693]), 'f1': 76.28}, 'metrics_audited': {'precision': array([0.95837392]), 'recall': array([0.94621828]), 'f1': array([0.95225731])}, 'exp': 197}}\n",
      "Grid execution idx: 4\n",
      "Beginning run number 4\n",
      "D:/Jorge/datasets/deforestation/Para/deforestation_past_years.tif\n",
      "Loaded deforestation past years\n"
     ]
    },
    {
     "name": "stderr",
     "output_type": "stream",
     "text": [
      "ic| np.unique(deforestation_past_years, return_counts=True): (array([   0, 2008, 2009, 2010, 2011, 2012, 2013, 2014, 2015, 2016, 2017,\n",
      "                                                                    2018, 2019, 2020, 2021], dtype=uint16),\n",
      "                                                              array([132185553,   3150503,   4571354,    864429,    903608,   1299506,\n",
      "                                                                      2477971,   1561686,   1459696,    969060,    644976,   2209014,\n",
      "                                                                      2100204,   5257014,   3514616], dtype=int64))\n"
     ]
    },
    {
     "name": "stdout",
     "output_type": "stream",
     "text": [
      "Label where deforestation past years is actual date (2019) = 1\n"
     ]
    },
    {
     "name": "stderr",
     "output_type": "stream",
     "text": [
      "ic| np.unique(deforestation_past_years, return_counts=True): (array([   0, 2008, 2009, 2010, 2011, 2012, 2013, 2014, 2015, 2016, 2017,\n",
      "                                                                    2018, 2019, 2020, 2021], dtype=uint16),\n",
      "                                                              array([132185553,   3150503,   4571354,    864429,    903608,   1299506,\n",
      "                                                                      2477971,   1561686,   1459696,    969060,    644976,   2209014,\n",
      "                                                                      2100204,   5257014,   3514616], dtype=int64))\n"
     ]
    },
    {
     "name": "stdout",
     "output_type": "stream",
     "text": [
      "Past deforestation different from 0 (no deforestation)\n"
     ]
    },
    {
     "name": "stderr",
     "output_type": "stream",
     "text": [
      "ic| np.unique(deforestation_past_years, return_counts=True): (array([   0, 2008, 2009, 2010, 2011, 2012, 2013, 2014, 2015, 2016, 2017,\n",
      "                                                                    2018, 2019, 2020, 2021], dtype=uint16),\n",
      "                                                              array([132185553,   3150503,   4571354,    864429,    903608,   1299506,\n",
      "                                                                      2477971,   1561686,   1459696,    969060,    644976,   2209014,\n",
      "                                                                      2100204,   5257014,   3514616], dtype=int64))\n"
     ]
    },
    {
     "name": "stdout",
     "output_type": "stream",
     "text": [
      "Past deforestation before 2008 is 2\n",
      "D:/Jorge/datasets/deforestation/deforestation_before_2008/deforestation_before_2008_para.tif\n"
     ]
    },
    {
     "name": "stderr",
     "output_type": "stream",
     "text": [
      "ic| np.unique(label_past_deforestation_before_2008, return_counts=True): (array([  0, 215], dtype=uint8), array([124211220,  38957970], dtype=int64))\n",
      "ic| np.unique(deforestation_past_years, return_counts=True): (array([   0, 2008, 2009, 2010, 2011, 2012, 2013, 2014, 2015, 2016, 2017,\n",
      "                                                                    2018, 2019, 2020, 2021], dtype=uint16),\n",
      "                                                              array([132185553,   3150503,   4571354,    864429,    903608,   1299506,\n",
      "                                                                      2477971,   1561686,   1459696,    969060,    644976,   2209014,\n",
      "                                                                      2100204,   5257014,   3514616], dtype=int64))\n",
      "ic| label_per_date.shape: (17730, 9203, 1)\n"
     ]
    },
    {
     "name": "stdout",
     "output_type": "stream",
     "text": [
      "Mask label shape:  \n",
      " (17730, 9203, 1) \n",
      " Unique values:  \n",
      " [0 1 2]\n",
      "Tiles size:  3546 2300\n",
      "Mask size:  (17730, 9200)\n"
     ]
    },
    {
     "name": "stderr",
     "output_type": "stream",
     "text": [
      "ic| image_stack.shape: (17730, 9203, 21)\n"
     ]
    },
    {
     "name": "stdout",
     "output_type": "stream",
     "text": [
      "Image shape:  (17730, 9203, 21)\n",
      "mask:  (17730, 9200)\n",
      "image stack:  (17730, 9200, 21)\n",
      "ref : (17730, 9200, 1)\n",
      "Training tiles:  [1, 3, 5, 8, 11, 13, 14, 20]\n",
      "Validation tiles:  [6, 19]\n",
      "Test tiles:  [2, 4, 7, 9, 10, 12, 15, 16, 17, 18]\n"
     ]
    },
    {
     "name": "stderr",
     "output_type": "stream",
     "text": [
      "ic| im_idx_row.shape: (17730, 9200, 1)\n",
      "    im_idx_col.shape: (17730, 9200, 1)\n",
      "ic| im_idx_row.dtype: dtype('uint16')\n",
      "    im_idx_col.dtype: dtype('uint16')\n",
      "ic| im_idx.shape: (17730, 9200, 2), im_idx.dtype: dtype('uint16')\n",
      "ic| coords.shape: (464, 239, 1, 128, 128, 2)\n",
      "    coords.dtype: dtype('uint16')\n",
      "ic| coords.shape: (110896, 2), coords.dtype: dtype('uint16')\n",
      "ic| self.coords_train.shape: (41812, 3)\n",
      "    self.coords_val.shape: (10260, 3)\n"
     ]
    },
    {
     "name": "stdout",
     "output_type": "stream",
     "text": [
      "training samples:  (3753, 3) validation samples:  (1032, 3)\n",
      "time:  0\n",
      "Model: \"model_8\"\n",
      "__________________________________________________________________________________________________\n",
      "Layer (type)                    Output Shape         Param #     Connected to                     \n",
      "==================================================================================================\n",
      "input_enc_net (InputLayer)      [(None, 128, 128, 21 0                                            \n",
      "__________________________________________________________________________________________________\n",
      "res1_net1 (Conv2D)              (None, 128, 128, 16) 3040        input_enc_net[0][0]              \n",
      "__________________________________________________________________________________________________\n",
      "drop_net1 (Dropout)             (None, 128, 128, 16) 0           res1_net1[0][0]                  \n",
      "__________________________________________________________________________________________________\n",
      "res2_net1 (Conv2D)              (None, 128, 128, 16) 2320        drop_net1[0][0]                  \n",
      "__________________________________________________________________________________________________\n",
      "res3_net1 (Conv2D)              (None, 128, 128, 16) 352         input_enc_net[0][0]              \n",
      "__________________________________________________________________________________________________\n",
      "add_48 (Add)                    (None, 128, 128, 16) 0           res2_net1[0][0]                  \n",
      "                                                                 res3_net1[0][0]                  \n",
      "__________________________________________________________________________________________________\n",
      "pool_net1 (MaxPooling2D)        (None, 64, 64, 16)   0           add_48[0][0]                     \n",
      "__________________________________________________________________________________________________\n",
      "res1_net2 (Conv2D)              (None, 64, 64, 32)   4640        pool_net1[0][0]                  \n",
      "__________________________________________________________________________________________________\n",
      "drop_net2 (Dropout)             (None, 64, 64, 32)   0           res1_net2[0][0]                  \n",
      "__________________________________________________________________________________________________\n",
      "res2_net2 (Conv2D)              (None, 64, 64, 32)   9248        drop_net2[0][0]                  \n",
      "__________________________________________________________________________________________________\n",
      "res3_net2 (Conv2D)              (None, 64, 64, 32)   544         pool_net1[0][0]                  \n",
      "__________________________________________________________________________________________________\n",
      "add_49 (Add)                    (None, 64, 64, 32)   0           res2_net2[0][0]                  \n",
      "                                                                 res3_net2[0][0]                  \n",
      "__________________________________________________________________________________________________\n",
      "pool_net2 (MaxPooling2D)        (None, 32, 32, 32)   0           add_49[0][0]                     \n",
      "__________________________________________________________________________________________________\n",
      "res1_net3 (Conv2D)              (None, 32, 32, 64)   18496       pool_net2[0][0]                  \n",
      "__________________________________________________________________________________________________\n",
      "drop_net3 (Dropout)             (None, 32, 32, 64)   0           res1_net3[0][0]                  \n",
      "__________________________________________________________________________________________________\n",
      "res2_net3 (Conv2D)              (None, 32, 32, 64)   36928       drop_net3[0][0]                  \n",
      "__________________________________________________________________________________________________\n",
      "res3_net3 (Conv2D)              (None, 32, 32, 64)   2112        pool_net2[0][0]                  \n",
      "__________________________________________________________________________________________________\n",
      "add_50 (Add)                    (None, 32, 32, 64)   0           res2_net3[0][0]                  \n",
      "                                                                 res3_net3[0][0]                  \n",
      "__________________________________________________________________________________________________\n",
      "pool_net3 (MaxPooling2D)        (None, 16, 16, 64)   0           add_50[0][0]                     \n",
      "__________________________________________________________________________________________________\n",
      "res1_net4 (Conv2D)              (None, 16, 16, 64)   36928       pool_net3[0][0]                  \n",
      "__________________________________________________________________________________________________\n",
      "drop_net4 (Dropout)             (None, 16, 16, 64)   0           res1_net4[0][0]                  \n",
      "__________________________________________________________________________________________________\n",
      "res2_net4 (Conv2D)              (None, 16, 16, 64)   36928       drop_net4[0][0]                  \n",
      "__________________________________________________________________________________________________\n",
      "res3_net4 (Conv2D)              (None, 16, 16, 64)   4160        pool_net3[0][0]                  \n",
      "__________________________________________________________________________________________________\n",
      "add_51 (Add)                    (None, 16, 16, 64)   0           res2_net4[0][0]                  \n",
      "                                                                 res3_net4[0][0]                  \n",
      "__________________________________________________________________________________________________\n",
      "res1_net5 (Conv2D)              (None, 16, 16, 64)   36928       add_51[0][0]                     \n",
      "__________________________________________________________________________________________________\n",
      "drop_net5 (Dropout)             (None, 16, 16, 64)   0           res1_net5[0][0]                  \n",
      "__________________________________________________________________________________________________\n",
      "res2_net5 (Conv2D)              (None, 16, 16, 64)   36928       drop_net5[0][0]                  \n",
      "__________________________________________________________________________________________________\n",
      "res3_net5 (Conv2D)              (None, 16, 16, 64)   4160        add_51[0][0]                     \n",
      "__________________________________________________________________________________________________\n",
      "add_52 (Add)                    (None, 16, 16, 64)   0           res2_net5[0][0]                  \n",
      "                                                                 res3_net5[0][0]                  \n",
      "__________________________________________________________________________________________________\n",
      "res1_net6 (Conv2D)              (None, 16, 16, 64)   36928       add_52[0][0]                     \n",
      "__________________________________________________________________________________________________\n",
      "drop_net6 (Dropout)             (None, 16, 16, 64)   0           res1_net6[0][0]                  \n",
      "__________________________________________________________________________________________________\n",
      "res2_net6 (Conv2D)              (None, 16, 16, 64)   36928       drop_net6[0][0]                  \n",
      "__________________________________________________________________________________________________\n",
      "res3_net6 (Conv2D)              (None, 16, 16, 64)   4160        add_52[0][0]                     \n",
      "__________________________________________________________________________________________________\n",
      "add_53 (Add)                    (None, 16, 16, 64)   0           res2_net6[0][0]                  \n",
      "                                                                 res3_net6[0][0]                  \n",
      "__________________________________________________________________________________________________\n",
      "up_sampling2d_24 (UpSampling2D) (None, 32, 32, 64)   0           add_53[0][0]                     \n",
      "__________________________________________________________________________________________________\n",
      "upsampling_net3 (Conv2D)        (None, 32, 32, 64)   36928       up_sampling2d_24[0][0]           \n",
      "__________________________________________________________________________________________________\n",
      "concatenate3 (Concatenate)      (None, 32, 32, 128)  0           add_50[0][0]                     \n",
      "                                                                 upsampling_net3[0][0]            \n",
      "__________________________________________________________________________________________________\n",
      "up_sampling2d_25 (UpSampling2D) (None, 64, 64, 128)  0           concatenate3[0][0]               \n",
      "__________________________________________________________________________________________________\n",
      "upsampling_net2 (Conv2D)        (None, 64, 64, 32)   36896       up_sampling2d_25[0][0]           \n",
      "__________________________________________________________________________________________________\n",
      "concatenate2 (Concatenate)      (None, 64, 64, 64)   0           add_49[0][0]                     \n",
      "                                                                 upsampling_net2[0][0]            \n",
      "__________________________________________________________________________________________________\n",
      "up_sampling2d_26 (UpSampling2D) (None, 128, 128, 64) 0           concatenate2[0][0]               \n",
      "__________________________________________________________________________________________________\n",
      "upsampling_net1 (Conv2D)        (None, 128, 128, 16) 9232        up_sampling2d_26[0][0]           \n",
      "__________________________________________________________________________________________________\n",
      "concatenate1 (Concatenate)      (None, 128, 128, 32) 0           add_48[0][0]                     \n",
      "                                                                 upsampling_net1[0][0]            \n",
      "__________________________________________________________________________________________________\n",
      "output (Conv2D)                 (None, 128, 128, 3)  99          concatenate1[0][0]               \n",
      "==================================================================================================\n",
      "Total params: 394,883\n",
      "Trainable params: 394,883\n",
      "Non-trainable params: 0\n",
      "__________________________________________________________________________________________________\n"
     ]
    },
    {
     "name": "stderr",
     "output_type": "stream",
     "text": [
      "c:\\Users\\jchamorro\\Anaconda3\\envs\\tf2\\lib\\site-packages\\tensorflow\\python\\keras\\optimizer_v2\\optimizer_v2.py:374: UserWarning: The `lr` argument is deprecated, use `learning_rate` instead.\n",
      "  warnings.warn(\n",
      "c:\\Users\\jchamorro\\Anaconda3\\envs\\tf2\\lib\\site-packages\\tensorflow\\python\\keras\\engine\\training.py:1969: UserWarning: `Model.fit_generator` is deprecated and will be removed in a future version. Please use `Model.fit`, which supports generators.\n",
      "  warnings.warn('`Model.fit_generator` is deprecated and '\n"
     ]
    },
    {
     "name": "stdout",
     "output_type": "stream",
     "text": [
      "Epoch 1/100\n",
      "self.global_step 0.0\n",
      "alpha Tensor(\"loss/add:0\", shape=(None, 128, 128, 3), dtype=float32)\n",
      "u Tensor(\"loss/truediv:0\", shape=(None, 128, 128, 1), dtype=float32)\n",
      "A Tensor(\"loss/Sum_3:0\", shape=(None, 3), dtype=float32)\n",
      "B Tensor(\"loss/Sum_4:0\", shape=(None, 1, 1, 3), dtype=float32)\n",
      "term1 Tensor(\"loss/truediv_7:0\", shape=(None, 1, 1, 3), dtype=float32)\n",
      "term2 Tensor(\"loss/mul_5:0\", shape=(None, 1, 1, 3), dtype=float32)\n",
      "Tensor(\"loss/Repeat_1/Reshape_1:0\", shape=(None, None, None, 1), dtype=float32)\n",
      "alpha Tensor(\"add:0\", shape=(None, 128, 128, 3), dtype=float32)\n",
      "u Tensor(\"truediv:0\", shape=(None, 128, 128, 1), dtype=float32)\n",
      "K.int_shape(KL_reg) Tensor(\"mul_6:0\", shape=(None, 128, 128, 1), dtype=float32)\n",
      "alpha Tensor(\"add_7:0\", shape=(None, 128, 128, 3), dtype=float32)\n",
      "u Tensor(\"truediv_5:0\", shape=(None, 128, 128, 1), dtype=float32)\n",
      "K.int_shape(KL_reg) Tensor(\"mul_12:0\", shape=(None, 128, 128, 1), dtype=float32)\n",
      "alpha Tensor(\"add_16:0\", shape=(None, 128, 128, 3), dtype=float32)\n",
      "u Tensor(\"truediv_13:0\", shape=(None, 128, 128, 1), dtype=float32)\n",
      "K.int_shape(Y) Tensor(\"IteratorGetNext:1\", shape=(None, None, None, None), dtype=float32)\n",
      "K.int_shape(prob) Tensor(\"truediv_15:0\", shape=(None, 128, 128, 3), dtype=float32)\n",
      "alpha Tensor(\"loss/add:0\", shape=(None, 128, 128, 3), dtype=float32)\n",
      "u Tensor(\"loss/truediv:0\", shape=(None, 128, 128, 1), dtype=float32)\n",
      "A Tensor(\"loss/Sum_3:0\", shape=(None, 3), dtype=float32)\n",
      "B Tensor(\"loss/Sum_4:0\", shape=(None, 1, 1, 3), dtype=float32)\n",
      "term1 Tensor(\"loss/truediv_7:0\", shape=(None, 1, 1, 3), dtype=float32)\n",
      "term2 Tensor(\"loss/mul_5:0\", shape=(None, 1, 1, 3), dtype=float32)\n",
      "Tensor(\"loss/Repeat_1/Reshape_1:0\", shape=(None, None, None, 1), dtype=float32)\n",
      "alpha Tensor(\"add:0\", shape=(None, 128, 128, 3), dtype=float32)\n",
      "u Tensor(\"truediv:0\", shape=(None, 128, 128, 1), dtype=float32)\n",
      "K.int_shape(KL_reg) Tensor(\"mul_6:0\", shape=(None, 128, 128, 1), dtype=float32)\n",
      "alpha Tensor(\"add_7:0\", shape=(None, 128, 128, 3), dtype=float32)\n",
      "u Tensor(\"truediv_5:0\", shape=(None, 128, 128, 1), dtype=float32)\n",
      "K.int_shape(KL_reg) Tensor(\"mul_12:0\", shape=(None, 128, 128, 1), dtype=float32)\n",
      "alpha Tensor(\"add_16:0\", shape=(None, 128, 128, 3), dtype=float32)\n",
      "u Tensor(\"truediv_13:0\", shape=(None, 128, 128, 1), dtype=float32)\n",
      "K.int_shape(Y) Tensor(\"IteratorGetNext:1\", shape=(None, None, None, None), dtype=float32)\n",
      "K.int_shape(prob) Tensor(\"truediv_15:0\", shape=(None, 128, 128, 3), dtype=float32)\n",
      "351/351 [==============================] - ETA: 0s - loss: 0.8693 - accuracy: 0.5236 - KL_term: 0.0164 - loglikelihood_term: 0.6569 - evidential_success: 8.1501 - evidential_fail: 3.3841 - acc: 0.5235 - annealing_coef: 0.0467 - global_step_get: 175.0000 - annealing_step_get: 3750.0000 - UEO_term: 0.7766alpha Tensor(\"loss/add:0\", shape=(None, 128, 128, 3), dtype=float32)\n",
      "u Tensor(\"loss/truediv:0\", shape=(None, 128, 128, 1), dtype=float32)\n",
      "A Tensor(\"loss/Sum_3:0\", shape=(None, 3), dtype=float32)\n",
      "B Tensor(\"loss/Sum_4:0\", shape=(None, 1, 1, 3), dtype=float32)\n",
      "term1 Tensor(\"loss/truediv_7:0\", shape=(None, 1, 1, 3), dtype=float32)\n",
      "term2 Tensor(\"loss/mul_5:0\", shape=(None, 1, 1, 3), dtype=float32)\n",
      "Tensor(\"loss/Repeat_1/Reshape_1:0\", shape=(None, None, None, 1), dtype=float32)\n",
      "alpha Tensor(\"add:0\", shape=(None, 128, 128, 3), dtype=float32)\n",
      "u Tensor(\"truediv:0\", shape=(None, 128, 128, 1), dtype=float32)\n",
      "K.int_shape(KL_reg) Tensor(\"mul_6:0\", shape=(None, 128, 128, 1), dtype=float32)\n",
      "alpha Tensor(\"add_7:0\", shape=(None, 128, 128, 3), dtype=float32)\n",
      "u Tensor(\"truediv_5:0\", shape=(None, 128, 128, 1), dtype=float32)\n",
      "K.int_shape(KL_reg) Tensor(\"mul_12:0\", shape=(None, 128, 128, 1), dtype=float32)\n",
      "alpha Tensor(\"add_16:0\", shape=(None, 128, 128, 3), dtype=float32)\n",
      "u Tensor(\"truediv_13:0\", shape=(None, 128, 128, 1), dtype=float32)\n",
      "K.int_shape(Y) Tensor(\"IteratorGetNext:1\", shape=(None, None, None, None), dtype=float32)\n",
      "K.int_shape(prob) Tensor(\"truediv_15:0\", shape=(None, 128, 128, 3), dtype=float32)\n",
      "351/351 [==============================] - 35s 92ms/step - loss: 0.8693 - accuracy: 0.5236 - KL_term: 0.0164 - loglikelihood_term: 0.6569 - evidential_success: 8.1501 - evidential_fail: 3.3841 - acc: 0.5235 - annealing_coef: 0.0467 - global_step_get: 175.0000 - annealing_step_get: 3750.0000 - UEO_term: 0.7766 - val_loss: 0.8496 - val_accuracy: 0.6483 - val_KL_term: 0.0352 - val_loglikelihood_term: 0.4288 - val_evidential_success: 33.4351 - val_evidential_fail: 7.4915 - val_acc: 0.6511 - val_annealing_coef: 0.0933 - val_global_step_get: 350.0000 - val_annealing_step_get: 3750.0000 - val_UEO_term: 0.7862\n",
      "\n",
      "Epoch 00001: val_loss improved from inf to 0.84956, saving model to D:/Jorge/datasets/deforestation/experiments/exp198/models\\resunet_0.h5\n",
      "Epoch 2/100\n",
      "self.global_step 350.0\n",
      "  1/351 [..............................] - ETA: 27s - loss: 0.8238 - accuracy: 0.4844 - KL_term: 0.0000e+00 - loglikelihood_term: 0.5653 - evidential_success: 12.4489 - evidential_fail: 1.0275 - acc: 0.4844 - annealing_coef: 0.0000e+00 - global_step_get: 0.0000e+00 - annealing_step_get: 3750.0000 - UEO_term: 1.0779"
     ]
    },
    {
     "name": "stderr",
     "output_type": "stream",
     "text": [
      "c:\\Users\\jchamorro\\Anaconda3\\envs\\tf2\\lib\\site-packages\\tensorflow\\python\\keras\\utils\\generic_utils.py:494: CustomMaskWarning: Custom mask layers require a config and must override get_config. When loading, the custom mask layer must be passed to the custom_objects argument.\n",
      "  warnings.warn('Custom mask layers require a config and must override '\n"
     ]
    },
    {
     "name": "stdout",
     "output_type": "stream",
     "text": [
      "351/351 [==============================] - 32s 91ms/step - loss: 0.8411 - accuracy: 0.5495 - KL_term: 0.0171 - loglikelihood_term: 0.5547 - evidential_success: 22.7891 - evidential_fail: 4.5554 - acc: 0.5501 - annealing_coef: 0.0933 - global_step_get: 350.0000 - annealing_step_get: 3750.0000 - UEO_term: 0.8800 - val_loss: 0.8658 - val_accuracy: 0.6511 - val_KL_term: 0.0522 - val_loglikelihood_term: 0.3994 - val_evidential_success: 44.8080 - val_evidential_fail: 6.9092 - val_acc: 0.6553 - val_annealing_coef: 0.1867 - val_global_step_get: 700.0000 - val_annealing_step_get: 3750.0000 - val_UEO_term: 0.8958m: 0.0180 - loglikelihood_term: 0.5788 - evidential_success: 23.8546 - evidential_fail: 5.8117 - acc: 0.5500 - annealing_c\n",
      "\n",
      "Epoch 00002: val_loss did not improve from 0.84956\n",
      "Epoch 3/100\n",
      "self.global_step 700.0\n",
      "351/351 [==============================] - 32s 91ms/step - loss: 0.8403 - accuracy: 0.5560 - KL_term: 0.0171 - loglikelihood_term: 0.5213 - evidential_success: 26.5687 - evidential_fail: 3.2664 - acc: 0.5560 - annealing_coef: 0.1400 - global_step_get: 525.0000 - annealing_step_get: 3750.0000 - UEO_term: 0.9611 - val_loss: 0.8953 - val_accuracy: 0.6523 - val_KL_term: 0.0797 - val_loglikelihood_term: 0.3976 - val_evidential_success: 53.6479 - val_evidential_fail: 7.8098 - val_acc: 0.6565 - val_annealing_coef: 0.2800 - val_global_step_get: 1050.0000 - val_annealing_step_get: 3750.0000 - val_UEO_term: 0.9190\n",
      "\n",
      "Epoch 00003: val_loss did not improve from 0.84956\n",
      "Epoch 4/100\n",
      "self.global_step 1050.0\n",
      "351/351 [==============================] - 32s 91ms/step - loss: 0.8300 - accuracy: 0.7273 - KL_term: 0.0188 - loglikelihood_term: 0.4058 - evidential_success: 26.7700 - evidential_fail: 3.3069 - acc: 0.7271 - annealing_coef: 0.1867 - global_step_get: 700.0000 - annealing_step_get: 3750.0000 - UEO_term: 0.6798 - val_loss: 0.8598 - val_accuracy: 0.8843 - val_KL_term: 0.0741 - val_loglikelihood_term: 0.2124 - val_evidential_success: 50.7426 - val_evidential_fail: 9.5292 - val_acc: 0.8858 - val_annealing_coef: 0.3733 - val_global_step_get: 1400.0000 - val_annealing_step_get: 3750.0000 - val_UEO_term: 0.4044\n",
      "\n",
      "Epoch 00004: val_loss did not improve from 0.84956\n",
      "Epoch 5/100\n",
      "self.global_step 1400.0\n",
      "351/351 [==============================] - 32s 91ms/step - loss: 0.7995 - accuracy: 0.9053 - KL_term: 0.0206 - loglikelihood_term: 0.1748 - evidential_success: 33.4909 - evidential_fail: 5.4638 - acc: 0.9053 - annealing_coef: 0.2333 - global_step_get: 875.0000 - annealing_step_get: 3750.0000 - UEO_term: 0.4325 - val_loss: 0.8325 - val_accuracy: 0.8992 - val_KL_term: 0.0566 - val_loglikelihood_term: 0.1764 - val_evidential_success: 44.7345 - val_evidential_fail: 5.4353 - val_acc: 0.9005 - val_annealing_coef: 0.4667 - val_global_step_get: 1750.0000 - val_annealing_step_get: 3750.0000 - val_UEO_term: 0.4475\n",
      "\n",
      "Epoch 00005: val_loss improved from 0.84956 to 0.83253, saving model to D:/Jorge/datasets/deforestation/experiments/exp198/models\\resunet_0.h5\n",
      "Epoch 6/100\n",
      "self.global_step 1750.0\n",
      "351/351 [==============================] - 32s 91ms/step - loss: 0.7958 - accuracy: 0.9119 - KL_term: 0.0214 - loglikelihood_term: 0.1633 - evidential_success: 39.8136 - evidential_fail: 5.4219 - acc: 0.9118 - annealing_coef: 0.2800 - global_step_get: 1050.0000 - annealing_step_get: 3750.0000 - UEO_term: 0.4406 - val_loss: 0.8359 - val_accuracy: 0.9064 - val_KL_term: 0.0535 - val_loglikelihood_term: 0.1721 - val_evidential_success: 47.0941 - val_evidential_fail: 4.7688 - val_acc: 0.9076 - val_annealing_coef: 0.5600 - val_global_step_get: 2100.0000 - val_annealing_step_get: 3750.0000 - val_UEO_term: 0.4673\n",
      "\n",
      "Epoch 00006: val_loss did not improve from 0.83253\n",
      "Epoch 7/100\n",
      "self.global_step 2100.0\n",
      "351/351 [==============================] - 32s 91ms/step - loss: 0.7954 - accuracy: 0.9154 - KL_term: 0.0217 - loglikelihood_term: 0.1593 - evidential_success: 42.0855 - evidential_fail: 4.9252 - acc: 0.9153 - annealing_coef: 0.3267 - global_step_get: 1225.0000 - annealing_step_get: 3750.0000 - UEO_term: 0.4523 - val_loss: 0.8279 - val_accuracy: 0.9103 - val_KL_term: 0.0524 - val_loglikelihood_term: 0.1662 - val_evidential_success: 43.9058 - val_evidential_fail: 3.6716 - val_acc: 0.9113 - val_annealing_coef: 0.6533 - val_global_step_get: 2450.0000 - val_annealing_step_get: 3750.0000 - val_UEO_term: 0.4584\n",
      "\n",
      "Epoch 00007: val_loss improved from 0.83253 to 0.82792, saving model to D:/Jorge/datasets/deforestation/experiments/exp198/models\\resunet_0.h5\n",
      "Epoch 8/100\n",
      "self.global_step 2450.0\n",
      "351/351 [==============================] - ETA: 0s - loss: 0.7953 - accuracy: 0.9177 - KL_term: 0.0224 - loglikelihood_term: 0.1568 - evidential_success: 44.3372 - evidential_fail: 4.6834 - acc: 0.9177 - annealing_coef: 0.3733 - global_step_get: 1400.0000 - annealing_step_get: 3750.0000 - UEO_term: 0.4594 ETA: 18s - loss: 0.7767 - accuracy: 0.9168 - KL_term: 0.0125 - loglikelihood_term: 0.1426 - evidential_success: 61.0734 - evidential_fail: 8.6485 - acc:  - ETA: 14s - loss: 0.7814 - accuracy: 0.9167 - KL_term: 0.0159 - loglikelihood_term: 0.1464 - evidential_success: 55.0035 - evidential_fail: 7.1382 - - ETA: 10s - loss: 0.7868 - accuracy: 0.9169 - KL_term: 0.0185 - loglikelihood_term: 0.1498 - evidential_success: 50.7287 - evidential_fail: 6.1297 - acc: 0.9 - ETA: 4s - loss: 0.7914 - accuracy: 0.9179 - KL_term: 0.0208 - loglikelihood_term: 0.1523 - evidential_success: 47.1178 - eviden"
     ]
    }
   ],
   "source": [
    "idx = 0\n",
    "while idx < len(exp_ids):\n",
    "# for experiment_value, exp_id in zip(experiment_values, exp_ids):\n",
    "    try:\n",
    "        config = {\n",
    "        \"training\": True,\n",
    "        \"learning_rate\": 1e-4,\n",
    "        \"weights\": [0.1, 0.9, 0],\n",
    "        \"save_probabilities\": False,\n",
    "        \"loadInference\": False,\n",
    "        \"addPastDeforestationInput\": True,\n",
    "        \"inference_times\": 1,\n",
    "        \"Uncertainty\": {\n",
    "            \"annealing_step\": 10*375 # 1875\n",
    "        },\n",
    "        \"uncertainty_method\": uncertaintyMethod,\n",
    "        \"evidence_function\": evidential.relu_evidence\n",
    "        }\n",
    "        print(\"Beginning run number {}\".format(idx))\n",
    "        trainer = TrainerEvidential(config, dataset, patchesHandler)\n",
    "\n",
    "        trainer.defineExperiment(exp_ids[idx])\n",
    "\n",
    "        trainer.setExperimentPath()\n",
    "        trainer.createLogFolders()\n",
    "\n",
    "        trainer.loadDataset()\n",
    "\n",
    "        # %%\n",
    "        if config[\"training\"] == True:\n",
    "            trainer.run()\n",
    "\n",
    "        # %%\n",
    "        result = trainer.run_predictor()\n",
    "        print(\"Result idx {}: {}\".format(idx, result))\n",
    "        results.append(result)\n",
    "\n",
    "\n",
    "        with open('log.pkl', 'wb') as f:\n",
    "            pickle.dump(results, f)\n",
    "        idx += 1\n",
    "        print(\"Grid execution idx: {}\".format(idx))\n",
    "    except Exception as e: \n",
    "        print(e)\n",
    "        print(\"Execution error in idx {}. Retrying...\".format(idx))\n",
    "        continue"
   ]
  },
  {
   "cell_type": "code",
   "execution_count": null,
   "id": "64080745",
   "metadata": {},
   "outputs": [
    {
     "name": "stdout",
     "output_type": "stream",
     "text": [
      "[{'metrics': {'precision_L': array([nan]), 'recall_L': array([0.]), 'recall_Ltotal': array([0.]), 'AA': array([0.03000046]), 'precision_H': array([nan]), 'recall_H': array([0.]), 'f1_L': array([nan]), 'f1_H': array([nan]), 'f1': 0.0}, 'metrics_audited': {'precision': array([1.]), 'recall': array([0.88574556]), 'f1': array([0.93941153])}, 'exp': 175}, {'metrics': {'precision_L': array([0.53704756]), 'recall_L': array([0.9351188]), 'recall_Ltotal': array([0.85489489]), 'AA': array([0.02999747]), 'precision_H': array([0.16052591]), 'recall_H': array([0.41546518]), 'f1_L': array([0.68226429]), 'f1_H': array([0.23157625]), 'f1': 63.3}, 'metrics_audited': {'precision': array([0.56072183]), 'recall': array([0.94068496]), 'f1': array([0.70262449])}, 'exp': 176}, {'metrics': {'precision_L': array([0.70278881]), 'recall_L': array([0.93463832]), 'recall_Ltotal': array([0.76870477]), 'AA': array([0.02999925]), 'precision_H': array([0.36952487]), 'recall_H': array([0.37348836]), 'f1_L': array([0.80229934]), 'f1_H': array([0.37149604]), 'f1': 73.46}, 'metrics_audited': {'precision': array([0.74429354]), 'recall': array([0.94624249]), 'f1': array([0.83320575])}, 'exp': 177}, {'metrics': {'precision_L': array([0.95460893]), 'recall_L': array([0.90481066]), 'recall_Ltotal': array([0.61444564]), 'AA': array([0.03000161]), 'precision_H': array([0.75037323]), 'recall_H': array([0.52827851]), 'f1_L': array([0.92904296]), 'f1_H': array([0.62003756]), 'f1': 83.87}, 'metrics_audited': {'precision': array([0.96971047]), 'recall': array([0.93535811]), 'f1': array([0.95222456])}, 'exp': 178}, {'metrics': {'precision_L': array([nan]), 'recall_L': array([0.]), 'recall_Ltotal': array([0.]), 'AA': array([0.02999878]), 'precision_H': array([nan]), 'recall_H': array([0.]), 'f1_L': array([nan]), 'f1_H': array([nan]), 'f1': 0.0}, 'metrics_audited': {'precision': array([1.]), 'recall': array([0.87987273]), 'f1': array([0.93609819])}, 'exp': 179}, {'metrics': {'precision_L': array([0.64427416]), 'recall_L': array([0.93753839]), 'recall_Ltotal': array([0.85740668]), 'AA': array([0.03000044]), 'precision_H': array([0.27843432]), 'recall_H': array([0.08130564]), 'f1_L': array([0.76372104]), 'f1_H': array([0.12585914]), 'f1': 73.38}, 'metrics_audited': {'precision': array([0.66574166]), 'recall': array([0.942877]), 'f1': array([0.78043668])}, 'exp': 180}, {'metrics': {'precision_L': array([0.80324329]), 'recall_L': array([0.74715275]), 'recall_Ltotal': array([0.53747226]), 'AA': array([0.03000138]), 'precision_H': array([0.48823329]), 'recall_H': array([0.24274061]), 'f1_L': array([0.77418339]), 'f1_H': array([0.32426342]), 'f1': 66.97}, 'metrics_audited': {'precision': array([0.86138142]), 'recall': array([0.81811164]), 'f1': array([0.83918914])}, 'exp': 181}, {'metrics': {'precision_L': array([0.71368072]), 'recall_L': array([0.90153512]), 'recall_Ltotal': array([0.784148]), 'AA': array([0.03000074]), 'precision_H': array([0.38670017]), 'recall_H': array([0.12398216]), 'f1_L': array([0.79668391]), 'f1_H': array([0.18776417]), 'f1': 74.78}, 'metrics_audited': {'precision': array([0.74401654]), 'recall': array([0.91435604]), 'f1': array([0.82043809])}, 'exp': 182}, {'metrics': {'precision_L': array([0.75249738]), 'recall_L': array([0.91000718]), 'recall_Ltotal': array([0.75073213]), 'AA': array([0.03000107]), 'precision_H': array([0.42518744]), 'recall_H': array([0.37020571]), 'f1_L': array([0.82379084]), 'f1_H': array([0.39579626]), 'f1': 75.86}, 'metrics_audited': {'precision': array([0.78943791]), 'recall': array([0.92575827]), 'f1': array([0.85218086])}, 'exp': 183}, {'metrics': {'precision_L': array([0.55948833]), 'recall_L': array([0.97207271]), 'recall_Ltotal': array([0.81048642]), 'AA': array([0.03000037]), 'precision_H': array([0.23222709]), 'recall_H': array([0.31127071]), 'f1_L': array([0.71020785]), 'f1_H': array([0.26600104]), 'f1': 64.55}, 'metrics_audited': {'precision': array([0.60483352]), 'recall': array([0.97671502]), 'f1': array([0.74705261])}, 'exp': 184}]\n"
     ]
    }
   ],
   "source": [
    "print(results)"
   ]
  },
  {
   "cell_type": "code",
   "execution_count": null,
   "id": "cd4f4d1d",
   "metadata": {},
   "outputs": [
    {
     "name": "stdout",
     "output_type": "stream",
     "text": [
      "10\n"
     ]
    }
   ],
   "source": [
    "print(len(results))"
   ]
  },
  {
   "cell_type": "code",
   "execution_count": null,
   "id": "6cc43863",
   "metadata": {},
   "outputs": [
    {
     "ename": "NameError",
     "evalue": "name 'results' is not defined",
     "output_type": "error",
     "traceback": [
      "\u001b[1;31m---------------------------------------------------------------------------\u001b[0m",
      "\u001b[1;31mNameError\u001b[0m                                 Traceback (most recent call last)",
      "\u001b[1;32md:\\Jorge\\deforestation_uncertainty\\train_grid_search.ipynb Cell 11\u001b[0m in \u001b[0;36m<cell line: 1>\u001b[1;34m()\u001b[0m\n\u001b[1;32m----> <a href='vscode-notebook-cell:/d%3A/Jorge/deforestation_uncertainty/train_grid_search.ipynb#X15sZmlsZQ%3D%3D?line=0'>1</a>\u001b[0m results[\u001b[39m9\u001b[39m]\n",
      "\u001b[1;31mNameError\u001b[0m: name 'results' is not defined"
     ]
    }
   ],
   "source": [
    "results[9]"
   ]
  },
  {
   "cell_type": "code",
   "execution_count": null,
   "id": "4819ba4f",
   "metadata": {},
   "outputs": [
    {
     "data": {
      "text/plain": [
       "64.55"
      ]
     },
     "execution_count": 10,
     "metadata": {},
     "output_type": "execute_result"
    }
   ],
   "source": [
    "trainer.f1"
   ]
  },
  {
   "cell_type": "code",
   "execution_count": null,
   "id": "13437081",
   "metadata": {},
   "outputs": [
    {
     "name": "stdout",
     "output_type": "stream",
     "text": [
      "64.55\n"
     ]
    }
   ],
   "source": [
    "print(trainer.f1)"
   ]
  }
 ],
 "metadata": {
  "kernelspec": {
   "display_name": "Python 3.9.12 ('tf2')",
   "language": "python",
   "name": "python3"
  },
  "language_info": {
   "codemirror_mode": {
    "name": "ipython",
    "version": 3
   },
   "file_extension": ".py",
   "mimetype": "text/x-python",
   "name": "python",
   "nbconvert_exporter": "python",
   "pygments_lexer": "ipython3",
   "version": "3.9.12"
  },
  "vscode": {
   "interpreter": {
    "hash": "0593c6bd4eb743cc503a3c17025f83c5676f297db573750215a1bc8c88a990c4"
   }
  }
 },
 "nbformat": 4,
 "nbformat_minor": 5
}
