{
 "cells": [
  {
   "cell_type": "code",
   "execution_count": 1,
   "id": "dbd5b7cf",
   "metadata": {},
   "outputs": [],
   "source": [
    "import tracemalloc\n",
    "\n",
    "from utils_v1 import *\n"
   ]
  },
  {
   "cell_type": "code",
   "execution_count": 2,
   "id": "123e793c",
   "metadata": {},
   "outputs": [],
   "source": [
    "from icecream import ic\n",
    "\n",
    "import numpy as np\n",
    "from src.dataset import (\n",
    "    MultipleDates,\n",
    "    PA, PADeforestationTime, PADistanceMap, PAMultipleDates,\n",
    "    MTDeforestationTime,\n",
    "    MTMultipleDates\n",
    ")\n",
    "\n",
    "# from src.dataset_legacy import MTDeforestationTime\n",
    "from src import training_generator as generator\n",
    "from src.patchesHandler import PatchesHandler, PatchesHandlerMultipleDates, PatchesHandlerEvidential\n",
    "\n",
    "from src.trainer.evidential import TrainerEvidential\n",
    "\n",
    "from mpl_toolkits.axes_grid1 import make_axes_locatable\n",
    "\n",
    "import cv2\n",
    "from src import metrics as _metric\n",
    "import json\n",
    "import pickle \n",
    "import src.trainer.evidential as evidential\n"
   ]
  },
  {
   "cell_type": "code",
   "execution_count": 3,
   "id": "603a5df7",
   "metadata": {},
   "outputs": [
    {
     "name": "stderr",
     "output_type": "stream",
     "text": [
      "ic| list(self.date_ids): [0]\n",
      "ic| self.image_channels: [[0, 1, 2, 3, 4, 5, 6, 7, 8, 9, 10, 11, 12, 13, 14, 15, 16, 17, 18, 19, 20]]\n",
      "ic| dates: [2017, 2018]\n",
      "ic| self.input_image_shape: 21\n",
      "ic| self.dataset.image_channels: [[0, 1, 2, 3, 4, 5, 6, 7, 8, 9, 10, 11, 12, 13, 14, 15, 16, 17, 18, 19, 20]]\n"
     ]
    }
   ],
   "source": [
    "'''\n",
    "if config[\"training\"] == True:\n",
    "\tdates = [2017, 2018]\n",
    "else:\n",
    "\tdates = [2018, 2019]\n",
    "if config[\"training\"] == True:\n",
    "\tdates = [2018, 2019]\n",
    "else:\n",
    "\tdates = [2019, 2020]\n",
    "'''\n",
    "\n",
    "\n",
    "#dates = [2018, 2019]\n",
    "dates = [2017, 2018]\n",
    "\n",
    "dataset = PAMultipleDates(dates = dates, # dates = [2016,2017,2018,2019]\n",
    "\taddPastDeforestationInput = True,\n",
    "\tborderBuffer = 2)\t\n",
    "\n",
    "\n",
    "'''\n",
    "dates = [2019, 2020]\n",
    "\n",
    "dataset = MTMultipleDates(dates = dates, # dates = [2016,2017,2018,2019]\n",
    "\taddPastDeforestationInput = True,\n",
    "\tborderBuffer = 2)\t\n",
    "'''\n",
    "\n",
    "ic(dates)\n",
    "\n",
    "if issubclass(type(dataset), MultipleDates):\n",
    "\tpatchesHandler = PatchesHandlerEvidential(\n",
    "\t\tdataset)\n",
    "else:\n",
    "\tpatchesHandler = PatchesHandler()\n",
    "\n"
   ]
  },
  {
   "cell_type": "code",
   "execution_count": 4,
   "id": "1bb339c8",
   "metadata": {},
   "outputs": [],
   "source": [
    "repetition_n = 10\n",
    "experiment_values = np.ones(repetition_n).astype(np.uint8)\n",
    "\n",
    "\n",
    "# experiment_values = [int(x) for x in experiment_values]\n",
    "results = []\n",
    "\n",
    "#exp_id_base = 148\n",
    "# exp_id_base = 155\n",
    "exp_id_base = 194\n",
    "exp_id_base = 198\n",
    "exp_id_base = 214\n",
    "\n",
    "# earlier date\n",
    "exp_id_base = 224\n",
    "\n",
    "# MT\n",
    "# exp_id_base = 196\n",
    "\n",
    "\n",
    "exp_ids = range(exp_id_base, exp_id_base+len(experiment_values))\n"
   ]
  },
  {
   "cell_type": "code",
   "execution_count": 5,
   "id": "c7ae3a0c",
   "metadata": {},
   "outputs": [
    {
     "data": {
      "text/plain": [
       "range(224, 234)"
      ]
     },
     "execution_count": 5,
     "metadata": {},
     "output_type": "execute_result"
    }
   ],
   "source": [
    "exp_ids"
   ]
  },
  {
   "cell_type": "code",
   "execution_count": 6,
   "id": "cfa1145d",
   "metadata": {},
   "outputs": [],
   "source": [
    "from enum import Enum\n",
    "UncertaintyMethod = Enum('Predictor', 'pred_var MI pred_entropy KL pred_entropy_single evidential')\n",
    "uncertaintyMethod = \"evidential\"\n"
   ]
  },
  {
   "cell_type": "code",
   "execution_count": 7,
   "id": "55da0bd1",
   "metadata": {},
   "outputs": [
    {
     "name": "stdout",
     "output_type": "stream",
     "text": [
      "Beginning run number 0\n",
      "D:/Jorge/datasets/deforestation/Para/deforestation_past_years.tif\n",
      "Loaded deforestation past years\n"
     ]
    },
    {
     "name": "stderr",
     "output_type": "stream",
     "text": [
      "ic| np.unique(deforestation_past_years, return_counts=True): (array([   0, 2008, 2009, 2010, 2011, 2012, 2013, 2014, 2015, 2016, 2017,\n",
      "                                                                    2018, 2019, 2020, 2021], dtype=uint16),\n",
      "                                                              array([132185553,   3150503,   4571354,    864429,    903608,   1299506,\n",
      "                                                                      2477971,   1561686,   1459696,    969060,    644976,   2209014,\n",
      "                                                                      2100204,   5257014,   3514616], dtype=int64))\n"
     ]
    },
    {
     "name": "stdout",
     "output_type": "stream",
     "text": [
      "Label where deforestation past years is actual date (2018) = 1\n"
     ]
    },
    {
     "name": "stderr",
     "output_type": "stream",
     "text": [
      "ic| np.unique(deforestation_past_years, return_counts=True): (array([   0, 2008, 2009, 2010, 2011, 2012, 2013, 2014, 2015, 2016, 2017,\n",
      "                                                                    2018, 2019, 2020, 2021], dtype=uint16),\n",
      "                                                              array([132185553,   3150503,   4571354,    864429,    903608,   1299506,\n",
      "                                                                      2477971,   1561686,   1459696,    969060,    644976,   2209014,\n",
      "                                                                      2100204,   5257014,   3514616], dtype=int64))\n"
     ]
    },
    {
     "name": "stdout",
     "output_type": "stream",
     "text": [
      "Past deforestation different from 0 (no deforestation)\n"
     ]
    },
    {
     "name": "stderr",
     "output_type": "stream",
     "text": [
      "ic| np.unique(deforestation_past_years, return_counts=True): (array([   0, 2008, 2009, 2010, 2011, 2012, 2013, 2014, 2015, 2016, 2017,\n",
      "                                                                    2018, 2019, 2020, 2021], dtype=uint16),\n",
      "                                                              array([132185553,   3150503,   4571354,    864429,    903608,   1299506,\n",
      "                                                                      2477971,   1561686,   1459696,    969060,    644976,   2209014,\n",
      "                                                                      2100204,   5257014,   3514616], dtype=int64))\n"
     ]
    },
    {
     "name": "stdout",
     "output_type": "stream",
     "text": [
      "Past deforestation before 2008 is 2\n",
      "D:/Jorge/datasets/deforestation/deforestation_before_2008/deforestation_before_2008_para.tif\n"
     ]
    },
    {
     "name": "stderr",
     "output_type": "stream",
     "text": [
      "ic| np.unique(label_past_deforestation_before_2008, return_counts=True): (array([  0, 215], dtype=uint8), array([124211220,  38957970], dtype=int64))\n",
      "ic| np.unique(deforestation_past_years, return_counts=True): (array([   0, 2008, 2009, 2010, 2011, 2012, 2013, 2014, 2015, 2016, 2017,\n",
      "                                                                    2018, 2019, 2020, 2021], dtype=uint16),\n",
      "                                                              array([132185553,   3150503,   4571354,    864429,    903608,   1299506,\n",
      "                                                                      2477971,   1561686,   1459696,    969060,    644976,   2209014,\n",
      "                                                                      2100204,   5257014,   3514616], dtype=int64))\n",
      "ic| label_per_date.shape: (17730, 9203, 1)\n"
     ]
    },
    {
     "name": "stdout",
     "output_type": "stream",
     "text": [
      "Mask label shape:  \n",
      " (17730, 9203, 1) \n",
      " Unique values:  \n",
      " [0 1 2]\n",
      "Tiles size:  3546 2300\n",
      "Mask size:  (17730, 9200)\n"
     ]
    },
    {
     "name": "stderr",
     "output_type": "stream",
     "text": [
      "ic| image_stack.shape: (17730, 9203, 21)\n"
     ]
    },
    {
     "name": "stdout",
     "output_type": "stream",
     "text": [
      "Image shape:  (17730, 9203, 21)\n",
      "mask:  (17730, 9200)\n",
      "image stack:  (17730, 9200, 21)\n",
      "ref : (17730, 9200, 1)\n",
      "Training tiles:  [1, 3, 5, 8, 11, 13, 14, 20]\n",
      "Validation tiles:  [6, 19]\n",
      "Test tiles:  [2, 4, 7, 9, 10, 12, 15, 16, 17, 18]\n"
     ]
    },
    {
     "name": "stderr",
     "output_type": "stream",
     "text": [
      "ic| im_idx_row.shape: (17730, 9200, 1)\n",
      "    im_idx_col.shape: (17730, 9200, 1)\n",
      "ic| im_idx_row.dtype: dtype('uint16')\n",
      "    im_idx_col.dtype: dtype('uint16')\n",
      "ic| im_idx.shape: (17730, 9200, 2), im_idx.dtype: dtype('uint16')\n",
      "ic| coords.shape: (464, 239, 1, 128, 128, 2)\n",
      "    coords.dtype: dtype('uint16')\n",
      "ic| coords.shape: (110896, 2), coords.dtype: dtype('uint16')\n",
      "ic| self.coords_train.shape: (41812, 3)\n",
      "    self.coords_val.shape: (10260, 3)\n"
     ]
    },
    {
     "name": "stdout",
     "output_type": "stream",
     "text": [
      "training samples:  (3369, 3) validation samples:  (1184, 3)\n",
      "time:  0\n",
      "Model: \"model\"\n",
      "__________________________________________________________________________________________________\n",
      "Layer (type)                    Output Shape         Param #     Connected to                     \n",
      "==================================================================================================\n",
      "input_enc_net (InputLayer)      [(None, 128, 128, 21 0                                            \n",
      "__________________________________________________________________________________________________\n",
      "res1_net1 (Conv2D)              (None, 128, 128, 16) 3040        input_enc_net[0][0]              \n",
      "__________________________________________________________________________________________________\n",
      "drop_net1 (Dropout)             (None, 128, 128, 16) 0           res1_net1[0][0]                  \n",
      "__________________________________________________________________________________________________\n",
      "res2_net1 (Conv2D)              (None, 128, 128, 16) 2320        drop_net1[0][0]                  \n",
      "__________________________________________________________________________________________________\n",
      "res3_net1 (Conv2D)              (None, 128, 128, 16) 352         input_enc_net[0][0]              \n",
      "__________________________________________________________________________________________________\n",
      "add (Add)                       (None, 128, 128, 16) 0           res2_net1[0][0]                  \n",
      "                                                                 res3_net1[0][0]                  \n",
      "__________________________________________________________________________________________________\n",
      "pool_net1 (MaxPooling2D)        (None, 64, 64, 16)   0           add[0][0]                        \n",
      "__________________________________________________________________________________________________\n",
      "res1_net2 (Conv2D)              (None, 64, 64, 32)   4640        pool_net1[0][0]                  \n",
      "__________________________________________________________________________________________________\n",
      "drop_net2 (Dropout)             (None, 64, 64, 32)   0           res1_net2[0][0]                  \n",
      "__________________________________________________________________________________________________\n",
      "res2_net2 (Conv2D)              (None, 64, 64, 32)   9248        drop_net2[0][0]                  \n",
      "__________________________________________________________________________________________________\n",
      "res3_net2 (Conv2D)              (None, 64, 64, 32)   544         pool_net1[0][0]                  \n",
      "__________________________________________________________________________________________________\n",
      "add_1 (Add)                     (None, 64, 64, 32)   0           res2_net2[0][0]                  \n",
      "                                                                 res3_net2[0][0]                  \n",
      "__________________________________________________________________________________________________\n",
      "pool_net2 (MaxPooling2D)        (None, 32, 32, 32)   0           add_1[0][0]                      \n",
      "__________________________________________________________________________________________________\n",
      "res1_net3 (Conv2D)              (None, 32, 32, 64)   18496       pool_net2[0][0]                  \n",
      "__________________________________________________________________________________________________\n",
      "drop_net3 (Dropout)             (None, 32, 32, 64)   0           res1_net3[0][0]                  \n",
      "__________________________________________________________________________________________________\n",
      "res2_net3 (Conv2D)              (None, 32, 32, 64)   36928       drop_net3[0][0]                  \n",
      "__________________________________________________________________________________________________\n",
      "res3_net3 (Conv2D)              (None, 32, 32, 64)   2112        pool_net2[0][0]                  \n",
      "__________________________________________________________________________________________________\n",
      "add_2 (Add)                     (None, 32, 32, 64)   0           res2_net3[0][0]                  \n",
      "                                                                 res3_net3[0][0]                  \n",
      "__________________________________________________________________________________________________\n",
      "pool_net3 (MaxPooling2D)        (None, 16, 16, 64)   0           add_2[0][0]                      \n",
      "__________________________________________________________________________________________________\n",
      "res1_net4 (Conv2D)              (None, 16, 16, 64)   36928       pool_net3[0][0]                  \n",
      "__________________________________________________________________________________________________\n",
      "drop_net4 (Dropout)             (None, 16, 16, 64)   0           res1_net4[0][0]                  \n",
      "__________________________________________________________________________________________________\n",
      "res2_net4 (Conv2D)              (None, 16, 16, 64)   36928       drop_net4[0][0]                  \n",
      "__________________________________________________________________________________________________\n",
      "res3_net4 (Conv2D)              (None, 16, 16, 64)   4160        pool_net3[0][0]                  \n",
      "__________________________________________________________________________________________________\n",
      "add_3 (Add)                     (None, 16, 16, 64)   0           res2_net4[0][0]                  \n",
      "                                                                 res3_net4[0][0]                  \n",
      "__________________________________________________________________________________________________\n",
      "res1_net5 (Conv2D)              (None, 16, 16, 64)   36928       add_3[0][0]                      \n",
      "__________________________________________________________________________________________________\n",
      "drop_net5 (Dropout)             (None, 16, 16, 64)   0           res1_net5[0][0]                  \n",
      "__________________________________________________________________________________________________\n",
      "res2_net5 (Conv2D)              (None, 16, 16, 64)   36928       drop_net5[0][0]                  \n",
      "__________________________________________________________________________________________________\n",
      "res3_net5 (Conv2D)              (None, 16, 16, 64)   4160        add_3[0][0]                      \n",
      "__________________________________________________________________________________________________\n",
      "add_4 (Add)                     (None, 16, 16, 64)   0           res2_net5[0][0]                  \n",
      "                                                                 res3_net5[0][0]                  \n",
      "__________________________________________________________________________________________________\n",
      "res1_net6 (Conv2D)              (None, 16, 16, 64)   36928       add_4[0][0]                      \n",
      "__________________________________________________________________________________________________\n",
      "drop_net6 (Dropout)             (None, 16, 16, 64)   0           res1_net6[0][0]                  \n",
      "__________________________________________________________________________________________________\n",
      "res2_net6 (Conv2D)              (None, 16, 16, 64)   36928       drop_net6[0][0]                  \n",
      "__________________________________________________________________________________________________\n",
      "res3_net6 (Conv2D)              (None, 16, 16, 64)   4160        add_4[0][0]                      \n",
      "__________________________________________________________________________________________________\n",
      "add_5 (Add)                     (None, 16, 16, 64)   0           res2_net6[0][0]                  \n",
      "                                                                 res3_net6[0][0]                  \n",
      "__________________________________________________________________________________________________\n",
      "up_sampling2d (UpSampling2D)    (None, 32, 32, 64)   0           add_5[0][0]                      \n",
      "__________________________________________________________________________________________________\n",
      "upsampling_net3 (Conv2D)        (None, 32, 32, 64)   36928       up_sampling2d[0][0]              \n",
      "__________________________________________________________________________________________________\n",
      "concatenate3 (Concatenate)      (None, 32, 32, 128)  0           add_2[0][0]                      \n",
      "                                                                 upsampling_net3[0][0]            \n",
      "__________________________________________________________________________________________________\n",
      "up_sampling2d_1 (UpSampling2D)  (None, 64, 64, 128)  0           concatenate3[0][0]               \n",
      "__________________________________________________________________________________________________\n",
      "upsampling_net2 (Conv2D)        (None, 64, 64, 32)   36896       up_sampling2d_1[0][0]            \n",
      "__________________________________________________________________________________________________\n",
      "concatenate2 (Concatenate)      (None, 64, 64, 64)   0           add_1[0][0]                      \n",
      "                                                                 upsampling_net2[0][0]            \n",
      "__________________________________________________________________________________________________\n",
      "up_sampling2d_2 (UpSampling2D)  (None, 128, 128, 64) 0           concatenate2[0][0]               \n",
      "__________________________________________________________________________________________________\n",
      "upsampling_net1 (Conv2D)        (None, 128, 128, 16) 9232        up_sampling2d_2[0][0]            \n",
      "__________________________________________________________________________________________________\n",
      "concatenate1 (Concatenate)      (None, 128, 128, 32) 0           add[0][0]                        \n",
      "                                                                 upsampling_net1[0][0]            \n",
      "__________________________________________________________________________________________________\n",
      "output (Conv2D)                 (None, 128, 128, 3)  99          concatenate1[0][0]               \n",
      "==================================================================================================\n",
      "Total params: 394,883\n",
      "Trainable params: 394,883\n",
      "Non-trainable params: 0\n",
      "__________________________________________________________________________________________________\n"
     ]
    },
    {
     "name": "stderr",
     "output_type": "stream",
     "text": [
      "c:\\Users\\jchamorro\\Anaconda3\\envs\\tf2\\lib\\site-packages\\tensorflow\\python\\keras\\optimizer_v2\\optimizer_v2.py:374: UserWarning: The `lr` argument is deprecated, use `learning_rate` instead.\n",
      "  warnings.warn(\n",
      "c:\\Users\\jchamorro\\Anaconda3\\envs\\tf2\\lib\\site-packages\\tensorflow\\python\\keras\\engine\\training.py:1969: UserWarning: `Model.fit_generator` is deprecated and will be removed in a future version. Please use `Model.fit`, which supports generators.\n",
      "  warnings.warn('`Model.fit_generator` is deprecated and '\n"
     ]
    },
    {
     "name": "stdout",
     "output_type": "stream",
     "text": [
      "Epoch 1/100\n",
      "self.global_step 0.0\n",
      "alpha Tensor(\"loss/add:0\", shape=(None, 128, 128, 3), dtype=float32)\n",
      "u Tensor(\"loss/truediv:0\", shape=(None, 128, 128, 1), dtype=float32)\n",
      "A Tensor(\"loss/Sum_3:0\", shape=(None, 3), dtype=float32)\n",
      "B Tensor(\"loss/Sum_4:0\", shape=(None, 1, 1, 3), dtype=float32)\n",
      "term1 Tensor(\"loss/truediv_7:0\", shape=(None, 1, 1, 3), dtype=float32)\n",
      "term2 Tensor(\"loss/mul_5:0\", shape=(None, 1, 1, 3), dtype=float32)\n",
      "Tensor(\"loss/Repeat_1/Reshape_1:0\", shape=(None, None, None, 1), dtype=float32)\n",
      "alpha Tensor(\"add:0\", shape=(None, 128, 128, 3), dtype=float32)\n",
      "u Tensor(\"truediv:0\", shape=(None, 128, 128, 1), dtype=float32)\n",
      "K.int_shape(KL_reg) Tensor(\"mul_6:0\", shape=(None, 128, 128, 1), dtype=float32)\n",
      "alpha Tensor(\"add_7:0\", shape=(None, 128, 128, 3), dtype=float32)\n",
      "u Tensor(\"truediv_5:0\", shape=(None, 128, 128, 1), dtype=float32)\n",
      "K.int_shape(KL_reg) Tensor(\"mul_12:0\", shape=(None, 128, 128, 1), dtype=float32)\n",
      "alpha Tensor(\"add_16:0\", shape=(None, 128, 128, 3), dtype=float32)\n",
      "u Tensor(\"truediv_13:0\", shape=(None, 128, 128, 1), dtype=float32)\n",
      "K.int_shape(Y) Tensor(\"IteratorGetNext:1\", shape=(None, None, None, None), dtype=float32)\n",
      "K.int_shape(prob) Tensor(\"truediv_15:0\", shape=(None, 128, 128, 3), dtype=float32)\n",
      "alpha Tensor(\"loss/add:0\", shape=(None, 128, 128, 3), dtype=float32)\n",
      "u Tensor(\"loss/truediv:0\", shape=(None, 128, 128, 1), dtype=float32)\n",
      "A Tensor(\"loss/Sum_3:0\", shape=(None, 3), dtype=float32)\n",
      "B Tensor(\"loss/Sum_4:0\", shape=(None, 1, 1, 3), dtype=float32)\n",
      "term1 Tensor(\"loss/truediv_7:0\", shape=(None, 1, 1, 3), dtype=float32)\n",
      "term2 Tensor(\"loss/mul_5:0\", shape=(None, 1, 1, 3), dtype=float32)\n",
      "Tensor(\"loss/Repeat_1/Reshape_1:0\", shape=(None, None, None, 1), dtype=float32)\n",
      "alpha Tensor(\"add:0\", shape=(None, 128, 128, 3), dtype=float32)\n",
      "u Tensor(\"truediv:0\", shape=(None, 128, 128, 1), dtype=float32)\n",
      "K.int_shape(KL_reg) Tensor(\"mul_6:0\", shape=(None, 128, 128, 1), dtype=float32)\n",
      "alpha Tensor(\"add_7:0\", shape=(None, 128, 128, 3), dtype=float32)\n",
      "u Tensor(\"truediv_5:0\", shape=(None, 128, 128, 1), dtype=float32)\n",
      "K.int_shape(KL_reg) Tensor(\"mul_12:0\", shape=(None, 128, 128, 1), dtype=float32)\n",
      "alpha Tensor(\"add_16:0\", shape=(None, 128, 128, 3), dtype=float32)\n",
      "u Tensor(\"truediv_13:0\", shape=(None, 128, 128, 1), dtype=float32)\n",
      "K.int_shape(Y) Tensor(\"IteratorGetNext:1\", shape=(None, None, None, None), dtype=float32)\n",
      "K.int_shape(prob) Tensor(\"truediv_15:0\", shape=(None, 128, 128, 3), dtype=float32)\n",
      "315/315 [==============================] - ETA: 0s - loss: 0.8694 - accuracy: 0.7850 - KL_term: 0.0097 - loglikelihood_term: 0.4349 - evidential_success: 8.3930 - evidential_fail: 3.9227 - acc: 0.7852 - annealing_coef: 0.0419 - global_step_get: 157.0000 - annealing_step_get: 3750.0000 - UEO_term: 0.4456alpha Tensor(\"loss/add:0\", shape=(None, 128, 128, 3), dtype=float32)\n",
      "u Tensor(\"loss/truediv:0\", shape=(None, 128, 128, 1), dtype=float32)\n",
      "A Tensor(\"loss/Sum_3:0\", shape=(None, 3), dtype=float32)\n",
      "B Tensor(\"loss/Sum_4:0\", shape=(None, 1, 1, 3), dtype=float32)\n",
      "term1 Tensor(\"loss/truediv_7:0\", shape=(None, 1, 1, 3), dtype=float32)\n",
      "term2 Tensor(\"loss/mul_5:0\", shape=(None, 1, 1, 3), dtype=float32)\n",
      "Tensor(\"loss/Repeat_1/Reshape_1:0\", shape=(None, None, None, 1), dtype=float32)\n",
      "alpha Tensor(\"add:0\", shape=(None, 128, 128, 3), dtype=float32)\n",
      "u Tensor(\"truediv:0\", shape=(None, 128, 128, 1), dtype=float32)\n",
      "K.int_shape(KL_reg) Tensor(\"mul_6:0\", shape=(None, 128, 128, 1), dtype=float32)\n",
      "alpha Tensor(\"add_7:0\", shape=(None, 128, 128, 3), dtype=float32)\n",
      "u Tensor(\"truediv_5:0\", shape=(None, 128, 128, 1), dtype=float32)\n",
      "K.int_shape(KL_reg) Tensor(\"mul_12:0\", shape=(None, 128, 128, 1), dtype=float32)\n",
      "alpha Tensor(\"add_16:0\", shape=(None, 128, 128, 3), dtype=float32)\n",
      "u Tensor(\"truediv_13:0\", shape=(None, 128, 128, 1), dtype=float32)\n",
      "K.int_shape(Y) Tensor(\"IteratorGetNext:1\", shape=(None, None, None, None), dtype=float32)\n",
      "K.int_shape(prob) Tensor(\"truediv_15:0\", shape=(None, 128, 128, 3), dtype=float32)\n",
      "315/315 [==============================] - 38s 100ms/step - loss: 0.8694 - accuracy: 0.7850 - KL_term: 0.0097 - loglikelihood_term: 0.4349 - evidential_success: 8.3930 - evidential_fail: 3.9227 - acc: 0.7852 - annealing_coef: 0.0419 - global_step_get: 157.0000 - annealing_step_get: 3750.0000 - UEO_term: 0.4456 - val_loss: 0.8735 - val_accuracy: 0.8178 - val_KL_term: 0.0193 - val_loglikelihood_term: 0.3217 - val_evidential_success: 14.9716 - val_evidential_fail: 5.6682 - val_acc: 0.8178 - val_annealing_coef: 0.0837 - val_global_step_get: 314.0000 - val_annealing_step_get: 3750.0000 - val_UEO_term: 0.4205\n",
      "\n",
      "Epoch 00001: val_loss improved from inf to 0.87350, saving model to D:/Jorge/datasets/deforestation/experiments/exp224/models\\resunet_0.h5\n",
      "Epoch 2/100\n",
      "self.global_step 314.0\n",
      "  1/315 [..............................] - ETA: 21s - loss: 0.8311 - accuracy: 0.8099 - KL_term: 0.0000e+00 - loglikelihood_term: 0.3163 - evidential_success: 22.9491 - evidential_fail: 7.0340 - acc: 0.8099 - annealing_coef: 0.0000e+00 - global_step_get: 0.0000e+00 - annealing_step_get: 3750.0000 - UEO_term: 0.4251"
     ]
    },
    {
     "name": "stderr",
     "output_type": "stream",
     "text": [
      "c:\\Users\\jchamorro\\Anaconda3\\envs\\tf2\\lib\\site-packages\\tensorflow\\python\\keras\\utils\\generic_utils.py:494: CustomMaskWarning: Custom mask layers require a config and must override get_config. When loading, the custom mask layer must be passed to the custom_objects argument.\n",
      "  warnings.warn('Custom mask layers require a config and must override '\n"
     ]
    },
    {
     "name": "stdout",
     "output_type": "stream",
     "text": [
      "315/315 [==============================] - 30s 97ms/step - loss: 0.8193 - accuracy: 0.8699 - KL_term: 0.0158 - loglikelihood_term: 0.2175 - evidential_success: 27.4840 - evidential_fail: 8.0182 - acc: 0.8698 - annealing_coef: 0.0837 - global_step_get: 314.0000 - annealing_step_get: 3750.0000 - UEO_term: 0.3646 - val_loss: 0.9157 - val_accuracy: 0.6589 - val_KL_term: 0.0513 - val_loglikelihood_term: 0.5098 - val_evidential_success: 15.8682 - val_evidential_fail: 3.4930 - val_acc: 0.6589 - val_annealing_coef: 0.1675 - val_global_step_get: 628.0000 - val_annealing_step_get: 3750.0000 - val_UEO_term: 0.6303\n",
      "\n",
      "Epoch 00002: val_loss did not improve from 0.87350\n",
      "Epoch 3/100\n",
      "self.global_step 628.0\n",
      "315/315 [==============================] - 30s 97ms/step - loss: 0.8142 - accuracy: 0.8854 - KL_term: 0.0174 - loglikelihood_term: 0.1937 - evidential_success: 33.6106 - evidential_fail: 6.9578 - acc: 0.8855 - annealing_coef: 0.1256 - global_step_get: 471.0000 - annealing_step_get: 3750.0000 - UEO_term: 0.3868 - val_loss: 0.9676 - val_accuracy: 0.5274 - val_KL_term: 0.1016 - val_loglikelihood_term: 0.6547 - val_evidential_success: 19.2289 - val_evidential_fail: 3.2867 - val_acc: 0.5274 - val_annealing_coef: 0.2512 - val_global_step_get: 942.0000 - val_annealing_step_get: 3750.0000 - val_UEO_term: 0.7271\n",
      "\n",
      "Epoch 00003: val_loss did not improve from 0.87350\n",
      "Epoch 4/100\n",
      "self.global_step 942.0\n",
      "315/315 [==============================] - 30s 96ms/step - loss: 0.8118 - accuracy: 0.8940 - KL_term: 0.0184 - loglikelihood_term: 0.1829 - evidential_success: 37.6606 - evidential_fail: 5.9446 - acc: 0.8939 - annealing_coef: 0.1675 - global_step_get: 628.0000 - annealing_step_get: 3750.0000 - UEO_term: 0.4091 - val_loss: 0.9112 - val_accuracy: 0.7007 - val_KL_term: 0.0588 - val_loglikelihood_term: 0.4699 - val_evidential_success: 17.5636 - val_evidential_fail: 2.2333 - val_acc: 0.7007 - val_annealing_coef: 0.3349 - val_global_step_get: 1256.0000 - val_annealing_step_get: 3750.0000 - val_UEO_term: 0.6895\n",
      "\n",
      "Epoch 00004: val_loss did not improve from 0.87350\n",
      "Epoch 5/100\n",
      "self.global_step 1256.0\n",
      "315/315 [==============================] - 30s 97ms/step - loss: 0.8120 - accuracy: 0.9007 - KL_term: 0.0192 - loglikelihood_term: 0.1763 - evidential_success: 39.3398 - evidential_fail: 5.2577 - acc: 0.9007 - annealing_coef: 0.2093 - global_step_get: 785.0000 - annealing_step_get: 3750.0000 - UEO_term: 0.4204 - val_loss: 0.9568 - val_accuracy: 0.6699 - val_KL_term: 0.1080 - val_loglikelihood_term: 0.4962 - val_evidential_success: 20.2287 - val_evidential_fail: 2.8640 - val_acc: 0.6699 - val_annealing_coef: 0.4187 - val_global_step_get: 1570.0000 - val_annealing_step_get: 3750.0000 - val_UEO_term: 0.6781\n",
      "\n",
      "Epoch 00005: val_loss did not improve from 0.87350\n",
      "Epoch 6/100\n",
      "self.global_step 1570.0\n",
      "315/315 [==============================] - 30s 97ms/step - loss: 0.8107 - accuracy: 0.9057 - KL_term: 0.0201 - loglikelihood_term: 0.1708 - evidential_success: 41.6804 - evidential_fail: 4.8527 - acc: 0.9058 - annealing_coef: 0.2512 - global_step_get: 942.0000 - annealing_step_get: 3750.0000 - UEO_term: 0.4306 - val_loss: 0.8886 - val_accuracy: 0.8201 - val_KL_term: 0.0486 - val_loglikelihood_term: 0.3100 - val_evidential_success: 21.5905 - val_evidential_fail: 2.1647 - val_acc: 0.8201 - val_annealing_coef: 0.5024 - val_global_step_get: 1884.0000 - val_annealing_step_get: 3750.0000 - val_UEO_term: 0.5816\n",
      "\n",
      "Epoch 00006: val_loss did not improve from 0.87350\n",
      "Epoch 7/100\n",
      "self.global_step 1884.0\n",
      "315/315 [==============================] - 30s 97ms/step - loss: 0.8110 - accuracy: 0.9104 - KL_term: 0.0207 - loglikelihood_term: 0.1663 - evidential_success: 42.9114 - evidential_fail: 4.4819 - acc: 0.9104 - annealing_coef: 0.2931 - global_step_get: 1099.0000 - annealing_step_get: 3750.0000 - UEO_term: 0.4359 - val_loss: 1.0341 - val_accuracy: 0.6275 - val_KL_term: 0.1729 - val_loglikelihood_term: 0.5505 - val_evidential_success: 26.4221 - val_evidential_fail: 3.0740 - val_acc: 0.6275 - val_annealing_coef: 0.5861 - val_global_step_get: 2198.0000 - val_annealing_step_get: 3750.0000 - val_UEO_term: 0.7114\n",
      "\n",
      "Epoch 00007: val_loss did not improve from 0.87350\n",
      "Epoch 8/100\n",
      "self.global_step 2198.0\n",
      "315/315 [==============================] - 30s 97ms/step - loss: 0.8105 - accuracy: 0.9141 - KL_term: 0.0211 - loglikelihood_term: 0.1624 - evidential_success: 45.8488 - evidential_fail: 4.2684 - acc: 0.9142 - annealing_coef: 0.3349 - global_step_get: 1256.0000 - annealing_step_get: 3750.0000 - UEO_term: 0.4414 - val_loss: 0.8992 - val_accuracy: 0.8143 - val_KL_term: 0.0378 - val_loglikelihood_term: 0.4373 - val_evidential_success: 21.3737 - val_evidential_fail: 1.3556 - val_acc: 0.8143 - val_annealing_coef: 0.6699 - val_global_step_get: 2512.0000 - val_annealing_step_get: 3750.0000 - val_UEO_term: 0.4289\n",
      "\n",
      "Epoch 00008: val_loss did not improve from 0.87350\n",
      "Epoch 9/100\n",
      "self.global_step 2512.0\n",
      "315/315 [==============================] - 31s 97ms/step - loss: 0.8099 - accuracy: 0.9161 - KL_term: 0.0214 - loglikelihood_term: 0.1610 - evidential_success: 47.6297 - evidential_fail: 4.1351 - acc: 0.9160 - annealing_coef: 0.3768 - global_step_get: 1413.0000 - annealing_step_get: 3750.0000 - UEO_term: 0.4407 - val_loss: 0.9710 - val_accuracy: 0.6458 - val_KL_term: 0.1009 - val_loglikelihood_term: 0.5503 - val_evidential_success: 25.4981 - val_evidential_fail: 1.6119 - val_acc: 0.6458 - val_annealing_coef: 0.7536 - val_global_step_get: 2826.0000 - val_annealing_step_get: 3750.0000 - val_UEO_term: 0.6070\n",
      "\n",
      "Epoch 00009: val_loss did not improve from 0.87350\n",
      "Epoch 10/100\n",
      "self.global_step 2826.0\n",
      "315/315 [==============================] - 31s 97ms/step - loss: 0.8103 - accuracy: 0.9182 - KL_term: 0.0218 - loglikelihood_term: 0.1589 - evidential_success: 50.4847 - evidential_fail: 4.0649 - acc: 0.9181 - annealing_coef: 0.4187 - global_step_get: 1570.0000 - annealing_step_get: 3750.0000 - UEO_term: 0.4476 - val_loss: 0.9248 - val_accuracy: 0.7586 - val_KL_term: 0.0553 - val_loglikelihood_term: 0.4819 - val_evidential_success: 24.9997 - val_evidential_fail: 1.2697 - val_acc: 0.7586 - val_annealing_coef: 0.8373 - val_global_step_get: 3140.0000 - val_annealing_step_get: 3750.0000 - val_UEO_term: 0.4453\n",
      "\n",
      "Epoch 00010: val_loss did not improve from 0.87350\n",
      "Epoch 11/100\n",
      "self.global_step 3140.0\n",
      "315/315 [==============================] - 31s 97ms/step - loss: 0.8104 - accuracy: 0.9184 - KL_term: 0.0221 - loglikelihood_term: 0.1603 - evidential_success: 51.2382 - evidential_fail: 3.6825 - acc: 0.9185 - annealing_coef: 0.4605 - global_step_get: 1727.0000 - annealing_step_get: 3750.0000 - UEO_term: 0.4530 - val_loss: 0.9490 - val_accuracy: 0.7260 - val_KL_term: 0.0720 - val_loglikelihood_term: 0.5189 - val_evidential_success: 25.0384 - val_evidential_fail: 1.3325 - val_acc: 0.7260 - val_annealing_coef: 0.9211 - val_global_step_get: 3454.0000 - val_annealing_step_get: 3750.0000 - val_UEO_term: 0.4453\n",
      "\n",
      "Epoch 00011: val_loss did not improve from 0.87350\n",
      "Epoch 00011: early stopping\n",
      "-30.0 -16.0\n"
     ]
    },
    {
     "name": "stderr",
     "output_type": "stream",
     "text": [
      "ic| self.path_models+ '/' + self.method +'_'+str(0)+'.h5': 'D:/Jorge/datasets/deforestation/experiments/exp224/models/resunet_0.h5'\n"
     ]
    },
    {
     "name": "stdout",
     "output_type": "stream",
     "text": [
      "time:  0\n"
     ]
    }
   ],
   "source": [
    "idx = 0\n",
    "while idx < len(exp_ids):\n",
    "# for experiment_value, exp_id in zip(experiment_values, exp_ids):\n",
    "    try:\n",
    "        config = {\n",
    "        \"training\": True,\n",
    "        \"learning_rate\": 1e-4,\n",
    "        \"weights\": [0.1, 0.9, 0],\n",
    "        \"save_probabilities\": False,\n",
    "        \"loadInference\": False,\n",
    "        \"addPastDeforestationInput\": True,\n",
    "        \"inference_times\": 1,\n",
    "        \"Uncertainty\": {\n",
    "            \"annealing_step\": 10*375 # 1875\n",
    "        },\n",
    "        \"uncertainty_method\": uncertaintyMethod,\n",
    "        \"evidence_function\": evidential.relu_evidence\n",
    "        }\n",
    "        print(\"Beginning run number {}\".format(idx))\n",
    "        trainer = TrainerEvidential(config, dataset, patchesHandler)\n",
    "\n",
    "        trainer.defineExperiment(exp_ids[idx])\n",
    "\n",
    "        trainer.setExperimentPath()\n",
    "        trainer.createLogFolders()\n",
    "\n",
    "        trainer.loadDataset()\n",
    "\n",
    "        # %%\n",
    "        if config[\"training\"] == True:\n",
    "            trainer.run()\n",
    "\n",
    "        # %%\n",
    "        result = trainer.run_predictor()\n",
    "        print(\"Result idx {}: {}\".format(idx, result))\n",
    "        results.append(result)\n",
    "\n",
    "\n",
    "        with open('log.pkl', 'wb') as f:\n",
    "            pickle.dump(results, f)\n",
    "        idx += 1\n",
    "        print(\"Grid execution idx: {}\".format(idx))\n",
    "    except Exception as e: \n",
    "        print(e)\n",
    "        print(\"Execution error in idx {}. Retrying...\".format(idx))\n",
    "        continue"
   ]
  },
  {
   "cell_type": "code",
   "execution_count": null,
   "id": "64080745",
   "metadata": {},
   "outputs": [
    {
     "name": "stdout",
     "output_type": "stream",
     "text": [
      "[{'other_uncertainty_metrics': {'sUEO': 0.3670126015642983, 'ece_score': 0.04906518334555479}, 'uncertainty_result': {'metrics': {'precision_L': array([0.8460478]), 'recall_L': array([0.92707223]), 'recall_Ltotal': array([0.55478324]), 'AA': array([0.03000072]), 'precision_H': array([nan]), 'recall_H': array([0.]), 'UEO': array([0.23447353]), 'f1_L': array([0.88470877]), 'f1_H': array([nan]), 'f1': 67.01}, 'metrics_audited': {'precision': array([0.90452009]), 'recall': array([0.9563582]), 'f1': array([0.92971712])}, 'exp': 196}}, {'other_uncertainty_metrics': {'sUEO': 0.0, 'ece_score': 0.01947295218764906}, 'uncertainty_result': {'metrics': {'precision_L': array([nan]), 'recall_L': array([0.]), 'recall_Ltotal': array([0.]), 'AA': array([0.03435077]), 'precision_H': array([nan]), 'recall_H': array([0.]), 'UEO': array([0.54008159]), 'f1_L': array([nan]), 'f1_H': array([nan]), 'f1': 0.0}, 'metrics_audited': {'precision': array([1.]), 'recall': array([0.96602314]), 'f1': array([0.98271797])}, 'exp': 197}}, {'other_uncertainty_metrics': {'sUEO': 0.4184570618416211, 'ece_score': 0.05410147353633453}, 'uncertainty_result': {'metrics': {'precision_L': array([0.95409861]), 'recall_L': array([0.96725732]), 'recall_Ltotal': array([0.69939176]), 'AA': array([0.03000082]), 'precision_H': array([0.86349618]), 'recall_H': array([0.08183486]), 'UEO': array([0.15854507]), 'f1_L': array([0.9606329]), 'f1_H': array([0.14950125]), 'f1': 82.09}, 'metrics_audited': {'precision': array([0.96668471]), 'recall': array([0.97632485]), 'f1': array([0.97148086])}, 'exp': 198}}, {'other_uncertainty_metrics': {'sUEO': 0.3254891061701938, 'ece_score': 0.07870611240393574}, 'uncertainty_result': {'metrics': {'precision_L': array([0.95746491]), 'recall_L': array([0.88986992]), 'recall_Ltotal': array([0.46853837]), 'AA': array([0.03]), 'precision_H': array([0.8731019]), 'recall_H': array([0.0855679]), 'UEO': array([0.26356529]), 'f1_L': array([0.92243074]), 'f1_H': array([0.15586075]), 'f1': 66.29}, 'metrics_audited': {'precision': array([0.97838174]), 'recall': array([0.94201381]), 'f1': array([0.95985341])}, 'exp': 199}}, {'other_uncertainty_metrics': {'sUEO': 0.3265588479958401, 'ece_score': 0.04715176596960263}, 'uncertainty_result': {'metrics': {'precision_L': array([0.91330688]), 'recall_L': array([0.84980722]), 'recall_Ltotal': array([0.57591964]), 'AA': array([0.0300003]), 'precision_H': array([nan]), 'recall_H': array([0.]), 'UEO': array([0.18830931]), 'f1_L': array([0.88041356]), 'f1_H': array([nan]), 'f1': 70.64}, 'metrics_audited': {'precision': array([0.94262917]), 'recall': array([0.89821342]), 'f1': array([0.91988546])}, 'exp': 200}}, {'other_uncertainty_metrics': {'sUEO': 0.2742005585078956, 'ece_score': 0.06695836172293756}, 'uncertainty_result': {'metrics': {'precision_L': array([0.95372474]), 'recall_L': array([0.8288247]), 'recall_Ltotal': array([0.54983605]), 'AA': array([0.03000111]), 'precision_H': array([nan]), 'recall_H': array([0.]), 'UEO': array([0.19685367]), 'f1_L': array([0.88689896]), 'f1_H': array([nan]), 'f1': 69.75}, 'metrics_audited': {'precision': array([0.97078336]), 'recall': array([0.8864436]), 'f1': array([0.92669847])}, 'exp': 201}}, {'other_uncertainty_metrics': {'sUEO': 0.4426829877139664, 'ece_score': 0.06853109890589568}, 'uncertainty_result': {'metrics': {'precision_L': array([0.87828771]), 'recall_L': array([0.98085185]), 'recall_Ltotal': array([0.73066592]), 'AA': array([0.02999875]), 'precision_H': array([0.61947421]), 'recall_H': array([0.23250147]), 'UEO': array([0.13850355]), 'f1_L': array([0.92674068]), 'f1_H': array([0.3381051]), 'f1': 81.96}, 'metrics_audited': {'precision': array([0.90684836]), 'recall': array([0.98573597]), 'f1': array([0.94464805])}, 'exp': 202}}, {'other_uncertainty_metrics': {'sUEO': 0.5162214605056792, 'ece_score': 0.03318585973172579}, 'uncertainty_result': {'metrics': {'precision_L': array([0.65690135]), 'recall_L': array([0.97379809]), 'recall_Ltotal': array([0.65097188]), 'AA': array([0.03000057]), 'precision_H': array([0.54819449]), 'recall_H': array([0.18194317]), 'UEO': array([0.16765879]), 'f1_L': array([0.78455817]), 'f1_H': array([0.27320942]), 'f1': 67.71}, 'metrics_audited': {'precision': array([0.74290716]), 'recall': array([0.98248435]), 'f1': array([0.84606265])}, 'exp': 203}}, {'other_uncertainty_metrics': {'sUEO': 0.43012130625754635, 'ece_score': 0.08723323156077828}, 'uncertainty_result': {'metrics': {'precision_L': array([0.93088892]), 'recall_L': array([0.90612177]), 'recall_Ltotal': array([0.54723851]), 'AA': array([0.02999984]), 'precision_H': array([0.66647137]), 'recall_H': array([0.3209019]), 'UEO': array([0.19915063]), 'f1_L': array([0.91833839]), 'f1_H': array([0.43321394]), 'f1': 75.83}, 'metrics_audited': {'precision': array([0.95870842]), 'recall': array([0.94330367]), 'f1': array([0.95094366])}, 'exp': 204}}, {'other_uncertainty_metrics': {'sUEO': 0.5404739587669327, 'ece_score': 0.03641546979657238}, 'uncertainty_result': {'metrics': {'precision_L': array([0.92989761]), 'recall_L': array([0.93764161]), 'recall_Ltotal': array([0.503057]), 'AA': array([0.02999948]), 'precision_H': array([0.58242773]), 'recall_H': array([0.18413217]), 'UEO': array([0.26910476]), 'f1_L': array([0.93375355]), 'f1_H': array([0.27980509]), 'f1': 69.74}, 'metrics_audited': {'precision': array([0.96224463]), 'recall': array([0.9665439]), 'f1': array([0.96438947])}, 'exp': 205}}]\n"
     ]
    }
   ],
   "source": [
    "print(results)"
   ]
  },
  {
   "cell_type": "code",
   "execution_count": null,
   "id": "cd4f4d1d",
   "metadata": {},
   "outputs": [
    {
     "name": "stdout",
     "output_type": "stream",
     "text": [
      "10\n"
     ]
    }
   ],
   "source": [
    "print(len(results))"
   ]
  },
  {
   "cell_type": "code",
   "execution_count": null,
   "id": "6cc43863",
   "metadata": {},
   "outputs": [
    {
     "data": {
      "text/plain": [
       "{'other_uncertainty_metrics': {'sUEO': 0.5404739587669327,\n",
       "  'ece_score': 0.03641546979657238},\n",
       " 'uncertainty_result': {'metrics': {'precision_L': array([0.92989761]),\n",
       "   'recall_L': array([0.93764161]),\n",
       "   'recall_Ltotal': array([0.503057]),\n",
       "   'AA': array([0.02999948]),\n",
       "   'precision_H': array([0.58242773]),\n",
       "   'recall_H': array([0.18413217]),\n",
       "   'UEO': array([0.26910476]),\n",
       "   'f1_L': array([0.93375355]),\n",
       "   'f1_H': array([0.27980509]),\n",
       "   'f1': 69.74},\n",
       "  'metrics_audited': {'precision': array([0.96224463]),\n",
       "   'recall': array([0.9665439]),\n",
       "   'f1': array([0.96438947])},\n",
       "  'exp': 205}}"
      ]
     },
     "execution_count": 10,
     "metadata": {},
     "output_type": "execute_result"
    }
   ],
   "source": [
    "results[9]"
   ]
  },
  {
   "cell_type": "code",
   "execution_count": null,
   "id": "4819ba4f",
   "metadata": {},
   "outputs": [
    {
     "data": {
      "text/plain": [
       "69.74"
      ]
     },
     "execution_count": 11,
     "metadata": {},
     "output_type": "execute_result"
    }
   ],
   "source": [
    "trainer.f1"
   ]
  },
  {
   "cell_type": "code",
   "execution_count": null,
   "id": "13437081",
   "metadata": {},
   "outputs": [
    {
     "name": "stdout",
     "output_type": "stream",
     "text": [
      "69.74\n"
     ]
    }
   ],
   "source": [
    "print(trainer.f1)"
   ]
  }
 ],
 "metadata": {
  "kernelspec": {
   "display_name": "Python 3.9.12 ('tf2')",
   "language": "python",
   "name": "python3"
  },
  "language_info": {
   "codemirror_mode": {
    "name": "ipython",
    "version": 3
   },
   "file_extension": ".py",
   "mimetype": "text/x-python",
   "name": "python",
   "nbconvert_exporter": "python",
   "pygments_lexer": "ipython3",
   "version": "3.9.12"
  },
  "vscode": {
   "interpreter": {
    "hash": "0593c6bd4eb743cc503a3c17025f83c5676f297db573750215a1bc8c88a990c4"
   }
  }
 },
 "nbformat": 4,
 "nbformat_minor": 5
}
