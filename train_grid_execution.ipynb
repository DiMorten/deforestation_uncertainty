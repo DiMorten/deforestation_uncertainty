{
 "cells": [
  {
   "cell_type": "code",
   "execution_count": 1,
   "id": "dbd5b7cf",
   "metadata": {},
   "outputs": [],
   "source": [
    "import tracemalloc\n",
    "\n",
    "from utils_v1 import *\n"
   ]
  },
  {
   "cell_type": "code",
   "execution_count": 2,
   "id": "123e793c",
   "metadata": {},
   "outputs": [],
   "source": [
    "from icecream import ic\n",
    "\n",
    "import numpy as np\n",
    "from src.dataset import (\n",
    "    MultipleDates,\n",
    "    PA, PADeforestationTime, PADistanceMap, PAMultipleDates,\n",
    "    MTDeforestationTime,\n",
    "    MTMultipleDates\n",
    ")\n",
    "\n",
    "# from src.dataset_legacy import MTDeforestationTime\n",
    "from src import training_generator as generator\n",
    "from src.patchesHandler import PatchesHandler, PatchesHandlerMultipleDates, PatchesHandlerEvidential\n",
    "\n",
    "from src.trainer.evidential import TrainerEvidential\n",
    "\n",
    "from mpl_toolkits.axes_grid1 import make_axes_locatable\n",
    "\n",
    "import cv2\n",
    "from src import metrics as _metric\n",
    "import json\n",
    "import pickle \n",
    "import src.trainer.evidential as evidential\n",
    "from src.backend.Logger import Logger\n",
    "\n"
   ]
  },
  {
   "cell_type": "code",
   "execution_count": 3,
   "id": "603a5df7",
   "metadata": {},
   "outputs": [
    {
     "name": "stderr",
     "output_type": "stream",
     "text": [
      "ic| list(self.date_ids): [0]\n",
      "ic| self.image_channels: [[0, 1, 2, 3, 4, 5, 6, 7, 8, 9, 10, 11, 12, 13, 14, 15, 16, 17, 18, 19, 20]]\n",
      "ic| dates: [2018, 2019]\n",
      "ic| self.input_image_shape: 21\n",
      "ic| self.dataset.image_channels: [[0, 1, 2, 3, 4, 5, 6, 7, 8, 9, 10, 11, 12, 13, 14, 15, 16, 17, 18, 19, 20]]\n"
     ]
    }
   ],
   "source": [
    "'''\n",
    "if config[\"training\"] == True:\n",
    "\tdates = [2017, 2018]\n",
    "else:\n",
    "\tdates = [2018, 2019]\n",
    "if config[\"training\"] == True:\n",
    "\tdates = [2018, 2019]\n",
    "else:\n",
    "\tdates = [2019, 2020]\n",
    "'''\n",
    "\n",
    "site = 'PA'\n",
    "if site == 'PA':\n",
    "\t#dates = [2018, 2019]\n",
    "\tdates = [2018, 2019]\n",
    "\n",
    "\tdataset = PAMultipleDates(dates = dates, # dates = [2016,2017,2018,2019]\n",
    "\t\taddPastDeforestationInput = True,\n",
    "\t\tborderBuffer = 2)\t\t\t\n",
    "\n",
    "\t#exp_id_base = 148\n",
    "\t# exp_id_base = 155\n",
    "\texp_id_base = 194\n",
    "\texp_id_base = 198\n",
    "\texp_id_base = 214\n",
    "\n",
    "\t# earlier date\n",
    "\texp_id_base = 224\n",
    "\texp_id_base = 194\n",
    "\n",
    "\n",
    "else:\n",
    "\t\n",
    "\tdates = [2019, 2020]\n",
    "\n",
    "\tdataset = MTMultipleDates(dates = dates, # dates = [2016,2017,2018,2019]\n",
    "\t\taddPastDeforestationInput = True,\n",
    "\t\tborderBuffer = 2)\t\n",
    "\t\n",
    "\t# MT\n",
    "\t# exp_id_base = 196\n",
    "\n",
    "ic(dates)\n",
    "\n",
    "if issubclass(type(dataset), MultipleDates):\n",
    "\tpatchesHandler = PatchesHandlerEvidential(\n",
    "\t\tdataset)\n",
    "else:\n",
    "\tpatchesHandler = PatchesHandler()\n",
    "\n"
   ]
  },
  {
   "cell_type": "code",
   "execution_count": 4,
   "id": "1bb339c8",
   "metadata": {},
   "outputs": [],
   "source": [
    "repetition_n = 10\n",
    "experiment_values = np.ones(repetition_n).astype(np.uint8)\n",
    "\n",
    "\n",
    "# experiment_values = [int(x) for x in experiment_values]\n",
    "results = []\n",
    "\n",
    "\n",
    "\n",
    "exp_ids = range(exp_id_base, exp_id_base+len(experiment_values))\n"
   ]
  },
  {
   "cell_type": "code",
   "execution_count": 5,
   "id": "c7ae3a0c",
   "metadata": {},
   "outputs": [
    {
     "data": {
      "text/plain": [
       "range(194, 204)"
      ]
     },
     "execution_count": 5,
     "metadata": {},
     "output_type": "execute_result"
    }
   ],
   "source": [
    "exp_ids"
   ]
  },
  {
   "cell_type": "code",
   "execution_count": 6,
   "id": "cfa1145d",
   "metadata": {},
   "outputs": [],
   "source": [
    "from enum import Enum\n",
    "UncertaintyMethod = Enum('Predictor', 'pred_var MI pred_entropy KL pred_entropy_single evidential')\n",
    "uncertaintyMethod = \"evidential\"\n"
   ]
  },
  {
   "cell_type": "code",
   "execution_count": 7,
   "id": "55da0bd1",
   "metadata": {},
   "outputs": [
    {
     "name": "stdout",
     "output_type": "stream",
     "text": [
      "Beginning run number 0\n",
      "D:/Jorge/datasets/deforestation/Para/deforestation_past_years.tif\n",
      "Loaded deforestation past years\n"
     ]
    },
    {
     "name": "stderr",
     "output_type": "stream",
     "text": [
      "ic| np.unique(deforestation_past_years, return_counts=True): (array([   0, 2008, 2009, 2010, 2011, 2012, 2013, 2014, 2015, 2016, 2017,\n",
      "                                                                    2018, 2019, 2020, 2021], dtype=uint16),\n",
      "                                                              array([132185553,   3150503,   4571354,    864429,    903608,   1299506,\n",
      "                                                                      2477971,   1561686,   1459696,    969060,    644976,   2209014,\n",
      "                                                                      2100204,   5257014,   3514616], dtype=int64))\n"
     ]
    },
    {
     "name": "stdout",
     "output_type": "stream",
     "text": [
      "Label where deforestation past years is actual date (2019) = 1\n"
     ]
    },
    {
     "name": "stderr",
     "output_type": "stream",
     "text": [
      "ic| np.unique(deforestation_past_years, return_counts=True): (array([   0, 2008, 2009, 2010, 2011, 2012, 2013, 2014, 2015, 2016, 2017,\n",
      "                                                                    2018, 2019, 2020, 2021], dtype=uint16),\n",
      "                                                              array([132185553,   3150503,   4571354,    864429,    903608,   1299506,\n",
      "                                                                      2477971,   1561686,   1459696,    969060,    644976,   2209014,\n",
      "                                                                      2100204,   5257014,   3514616], dtype=int64))\n"
     ]
    },
    {
     "name": "stdout",
     "output_type": "stream",
     "text": [
      "Past deforestation different from 0 (no deforestation)\n"
     ]
    },
    {
     "name": "stderr",
     "output_type": "stream",
     "text": [
      "ic| np.unique(deforestation_past_years, return_counts=True): (array([   0, 2008, 2009, 2010, 2011, 2012, 2013, 2014, 2015, 2016, 2017,\n",
      "                                                                    2018, 2019, 2020, 2021], dtype=uint16),\n",
      "                                                              array([132185553,   3150503,   4571354,    864429,    903608,   1299506,\n",
      "                                                                      2477971,   1561686,   1459696,    969060,    644976,   2209014,\n",
      "                                                                      2100204,   5257014,   3514616], dtype=int64))\n"
     ]
    },
    {
     "name": "stdout",
     "output_type": "stream",
     "text": [
      "Past deforestation before 2008 is 2\n",
      "D:/Jorge/datasets/deforestation/deforestation_before_2008/deforestation_before_2008_para.tif\n"
     ]
    },
    {
     "name": "stderr",
     "output_type": "stream",
     "text": [
      "ic| np.unique(label_past_deforestation_before_2008, return_counts=True): (array([  0, 215], dtype=uint8), array([124211220,  38957970], dtype=int64))\n",
      "ic| np.unique(deforestation_past_years, return_counts=True): (array([   0, 2008, 2009, 2010, 2011, 2012, 2013, 2014, 2015, 2016, 2017,\n",
      "                                                                    2018, 2019, 2020, 2021], dtype=uint16),\n",
      "                                                              array([132185553,   3150503,   4571354,    864429,    903608,   1299506,\n",
      "                                                                      2477971,   1561686,   1459696,    969060,    644976,   2209014,\n",
      "                                                                      2100204,   5257014,   3514616], dtype=int64))\n",
      "ic| label_per_date.shape: (17730, 9203, 1)\n"
     ]
    },
    {
     "name": "stdout",
     "output_type": "stream",
     "text": [
      "Removing bufer................\n",
      "Mask label shape:  \n",
      " (17730, 9203, 1) \n",
      " Unique values:  \n",
      " [0 1 2]\n",
      "Tiles size:  3546 2300\n",
      "Mask size:  (17730, 9200)\n"
     ]
    },
    {
     "name": "stderr",
     "output_type": "stream",
     "text": [
      "ic| image_stack.shape: (17730, 9203, 21)\n"
     ]
    },
    {
     "name": "stdout",
     "output_type": "stream",
     "text": [
      "Image shape:  (17730, 9203, 21)\n",
      "mask:  (17730, 9200)\n",
      "image stack:  (17730, 9200, 21)\n",
      "ref : (17730, 9200, 1)\n",
      "Training tiles:  [1, 3, 5, 8, 11, 13, 14, 20]\n",
      "Validation tiles:  [6, 19]\n",
      "Test tiles:  [2, 4, 7, 9, 10, 12, 15, 16, 17, 18]\n",
      "-30.0 -16.0\n"
     ]
    },
    {
     "name": "stderr",
     "output_type": "stream",
     "text": [
      "ic| self.path_models+ '/' + self.method +'_'+str(0)+'.h5': 'D:/Jorge/datasets/deforestation/experiments/exp194/models/resunet_0.h5'\n"
     ]
    },
    {
     "name": "stdout",
     "output_type": "stream",
     "text": [
      "time:  0\n",
      "(54236371,)\n",
      "(array([0, 1], dtype=uint8), array([53470765,   765606], dtype=int64))\n",
      "(17730, 9200)\n",
      "(array([0., 1.], dtype=float32), array([161359966,   1756034], dtype=int64))\n"
     ]
    },
    {
     "name": "stderr",
     "output_type": "stream",
     "text": [
      "ic| self.predicted_unpad.shape: (17730, 9200)\n",
      "    self.predicted.shape: (17730, 9200)\n",
      "ic| predicted_test.shape: (81558000,)\n",
      "ic| predicted_test.shape: (54236371,)\n",
      "ic| np.unique(predicted, return_counts=True): (array([0., 1.], dtype=float32), array([161359966,   1756034], dtype=int64))\n",
      "    np.unique(predicted_larger_than_min_area, return_counts=True): (array([0., 1.], dtype=float32), array([161681613,   1434387], dtype=int64))\n",
      "ic| np.unique(ignored_polygons, return_counts=True): (array([0., 1.], dtype=float32), array([162794353,    321647], dtype=int64))\n",
      "ic| self.f1: 77.05, self.precision: 86.96, self.recall: 69.16\n",
      "ic| self.label_mask_val.shape: (16311600,)\n",
      "ic| self.label_mask_val_valid.shape: (9417288,)\n",
      "ic| f1_val: 78.85\n",
      "    precision_val: 85.01\n",
      "    recall_val: 73.53\n",
      "    mAP_val: 88.17\n"
     ]
    },
    {
     "name": "stdout",
     "output_type": "stream",
     "text": [
      "D:/Jorge/datasets/deforestation/Para/deforestation_past_years.tif\n",
      "Loaded deforestation past years\n"
     ]
    },
    {
     "name": "stderr",
     "output_type": "stream",
     "text": [
      "ic| np.unique(deforestation_past_years, return_counts=True): (array([   0, 2008, 2009, 2010, 2011, 2012, 2013, 2014, 2015, 2016, 2017,\n",
      "                                                                    2018, 2019, 2020, 2021], dtype=uint16),\n",
      "                                                              array([132185553,   3150503,   4571354,    864429,    903608,   1299506,\n",
      "                                                                      2477971,   1561686,   1459696,    969060,    644976,   2209014,\n",
      "                                                                      2100204,   5257014,   3514616], dtype=int64))\n"
     ]
    },
    {
     "name": "stdout",
     "output_type": "stream",
     "text": [
      "Label where deforestation past years is actual date (2019) = 1\n"
     ]
    },
    {
     "name": "stderr",
     "output_type": "stream",
     "text": [
      "ic| np.unique(deforestation_past_years, return_counts=True): (array([   0, 2008, 2009, 2010, 2011, 2012, 2013, 2014, 2015, 2016, 2017,\n",
      "                                                                    2018, 2019, 2020, 2021], dtype=uint16),\n",
      "                                                              array([132185553,   3150503,   4571354,    864429,    903608,   1299506,\n",
      "                                                                      2477971,   1561686,   1459696,    969060,    644976,   2209014,\n",
      "                                                                      2100204,   5257014,   3514616], dtype=int64))\n"
     ]
    },
    {
     "name": "stdout",
     "output_type": "stream",
     "text": [
      "Past deforestation different from 0 (no deforestation)\n"
     ]
    },
    {
     "name": "stderr",
     "output_type": "stream",
     "text": [
      "ic| np.unique(deforestation_past_years, return_counts=True): (array([   0, 2008, 2009, 2010, 2011, 2012, 2013, 2014, 2015, 2016, 2017,\n",
      "                                                                    2018, 2019, 2020, 2021], dtype=uint16),\n",
      "                                                              array([132185553,   3150503,   4571354,    864429,    903608,   1299506,\n",
      "                                                                      2477971,   1561686,   1459696,    969060,    644976,   2209014,\n",
      "                                                                      2100204,   5257014,   3514616], dtype=int64))\n"
     ]
    },
    {
     "name": "stdout",
     "output_type": "stream",
     "text": [
      "Past deforestation before 2008 is 2\n",
      "D:/Jorge/datasets/deforestation/deforestation_before_2008/deforestation_before_2008_para.tif\n"
     ]
    },
    {
     "name": "stderr",
     "output_type": "stream",
     "text": [
      "ic| np.unique(label_past_deforestation_before_2008, return_counts=True): (array([  0, 215], dtype=uint8), array([124211220,  38957970], dtype=int64))\n",
      "ic| np.unique(deforestation_past_years, return_counts=True): (array([   0, 2008, 2009, 2010, 2011, 2012, 2013, 2014, 2015, 2016, 2017,\n",
      "                                                                    2018, 2019, 2020, 2021], dtype=uint16),\n",
      "                                                              array([132185553,   3150503,   4571354,    864429,    903608,   1299506,\n",
      "                                                                      2477971,   1561686,   1459696,    969060,    644976,   2209014,\n",
      "                                                                      2100204,   5257014,   3514616], dtype=int64))\n",
      "ic| label_per_date.shape: (17730, 9203, 1)\n"
     ]
    },
    {
     "name": "stdout",
     "output_type": "stream",
     "text": [
      "(array([0., 1.], dtype=float32), array([162297181,    818819], dtype=int64))\n",
      "[0. 1.]\n"
     ]
    },
    {
     "name": "stderr",
     "output_type": "stream",
     "text": [
      "ic| self.label_mask.shape: (17730, 9200)\n",
      "ic| self.mask_amazon_ts.shape: (17730, 9200)\n",
      "ic| self.label_mask_test.shape: (81558000,)\n",
      "ic| self.error_mask_test.shape: (54079850,)\n",
      "ic| trainer.dataset.previewLims1: array([2200, 3200, 6900, 7900])\n",
      "    trainer.dataset.previewLims2: array([ 500, 1500, 3500, 4500])\n",
      "ic| np.unique(trainer.mask_amazon_ts[lims[0]:lims[1], lims[2]:lims[3]]): array([1], dtype=uint8)\n",
      "ic| np.unique(trainer.mask_amazon_ts[lims[0]:lims[1], lims[2]:lims[3]], return_counts=True): (array([1], dtype=uint8), array([1000000], dtype=int64))\n",
      "Clipping input data to the valid range for imshow with RGB data ([0..1] for floats or [0..255] for integers).\n",
      "Clipping input data to the valid range for imshow with RGB data ([0..1] for floats or [0..255] for integers).\n",
      "Clipping input data to the valid range for imshow with RGB data ([0..1] for floats or [0..255] for integers).\n"
     ]
    },
    {
     "name": "stdout",
     "output_type": "stream",
     "text": [
      "(54079850,) (54079850,)\n",
      "0.3845722890780702\n"
     ]
    },
    {
     "name": "stderr",
     "output_type": "stream",
     "text": [
      "ic| bounds: (0.0015, 0.9985)\n"
     ]
    },
    {
     "name": "stdout",
     "output_type": "stream",
     "text": [
      "0.053347713360914366\n",
      "0.38232011321635484\n",
      "threshold 0.38232011321635484\n"
     ]
    },
    {
     "name": "stderr",
     "output_type": "stream",
     "text": [
      "c:\\Users\\jchamorro\\Anaconda3\\envs\\tf2\\lib\\site-packages\\scipy\\optimize\\_minimize.py:783: RuntimeWarning: Method 'bounded' does not support relative tolerance in x; defaulting to absolute tolerance.\n",
      "  warn(\"Method 'bounded' does not support relative tolerance in x; \"\n",
      "ic| label_current_deforestation_test_classified_incorrect.shape: (2372089,)\n",
      "    predicted_test_classified_incorrect.shape: (2372089,)\n",
      "ic| TP_H + FN_H + FP_H + TN_H: 2372089\n",
      "    len(label_mask_current_deforestation_test): 54079850\n",
      "ic| TP_H + FN_H + FP_H + TN_H: 2372089\n",
      "    len(label_mask_current_deforestation_test): 54079850\n"
     ]
    },
    {
     "name": "stdout",
     "output_type": "stream",
     "text": [
      "[0.90898128 0.95486465 0.58290591 0.04386271 0.70585866 0.27903496\n",
      " 0.09719104]\n",
      "0.6176798867836452\n",
      "threshold 0.6176798867836452\n"
     ]
    },
    {
     "name": "stderr",
     "output_type": "stream",
     "text": [
      "ic| label_current_deforestation_test_classified_incorrect.shape: (1455367,)\n",
      "    predicted_test_classified_incorrect.shape: (1455367,)\n",
      "ic| TP_H + FN_H + FP_H + TN_H: 1455367\n",
      "    len(label_mask_current_deforestation_test): 54079850\n",
      "ic| TP_H + FN_H + FP_H + TN_H: 1455367\n",
      "    len(label_mask_current_deforestation_test): 54079850\n"
     ]
    },
    {
     "name": "stdout",
     "output_type": "stream",
     "text": [
      "[0.88229497 0.94739051 0.65035212 0.02691145 0.70935855 0.13156275\n",
      " 0.13583208]\n",
      "0.7631402264327096\n",
      "threshold 0.7631402264327096\n"
     ]
    },
    {
     "name": "stderr",
     "output_type": "stream",
     "text": [
      "ic| label_current_deforestation_test_classified_incorrect.shape: (1076350,)\n",
      "    predicted_test_classified_incorrect.shape: (1076350,)\n",
      "d:\\Jorge\\deforestation_uncertainty\\src\\metrics.py:296: RuntimeWarning: invalid value encountered in longlong_scalars\n",
      "  precision_H = TP_H / (TP_H + FP_H)\n",
      "ic| TP_H + FN_H + FP_H + TN_H: 1076350\n",
      "    len(label_mask_current_deforestation_test): 54079850\n",
      "ic| TP_H + FN_H + FP_H + TN_H: 1076350\n",
      "    len(label_mask_current_deforestation_test): 54079850\n"
     ]
    },
    {
     "name": "stdout",
     "output_type": "stream",
     "text": [
      "[0.86964977 0.93499635 0.69160141 0.01990298        nan 0.\n",
      " 0.15917504]\n",
      "0.5927692406058288\n",
      "threshold 0.5927692406058288\n"
     ]
    },
    {
     "name": "stderr",
     "output_type": "stream",
     "text": [
      "ic| label_current_deforestation_test_classified_incorrect.shape: (1532357,)\n",
      "    predicted_test_classified_incorrect.shape: (1532357,)\n",
      "ic| TP_H + FN_H + FP_H + TN_H: 1532357\n",
      "    len(label_mask_current_deforestation_test): 54079850\n",
      "ic| TP_H + FN_H + FP_H + TN_H: 1532357\n",
      "    len(label_mask_current_deforestation_test): 54079850\n"
     ]
    },
    {
     "name": "stdout",
     "output_type": "stream",
     "text": [
      "[0.88465705 0.94803996 0.64268533 0.02833508 0.71114807 0.15187062\n",
      " 0.13133556]\n",
      "0.5123848268458062\n",
      "threshold 0.5123848268458062\n"
     ]
    },
    {
     "name": "stderr",
     "output_type": "stream",
     "text": [
      "ic| label_current_deforestation_test_classified_incorrect.shape: (1806934,)\n",
      "    predicted_test_classified_incorrect.shape: (1806934,)\n",
      "ic| TP_H + FN_H + FP_H + TN_H: 1806934\n",
      "    len(label_mask_current_deforestation_test): 54079850\n",
      "ic| TP_H + FN_H + FP_H + TN_H: 1806934\n",
      "    len(label_mask_current_deforestation_test): 54079850\n"
     ]
    },
    {
     "name": "stdout",
     "output_type": "stream",
     "text": [
      "[0.89284361 0.95021739 0.62029424 0.03341233 0.70935319 0.20537302\n",
      " 0.11745868]\n",
      "0.5670845115586073\n",
      "threshold 0.5670845115586073\n"
     ]
    },
    {
     "name": "stderr",
     "output_type": "stream",
     "text": [
      "ic| label_current_deforestation_test_classified_incorrect.shape: (1615691,)\n",
      "    predicted_test_classified_incorrect.shape: (1615691,)\n",
      "ic| TP_H + FN_H + FP_H + TN_H: 1615691\n",
      "    len(label_mask_current_deforestation_test): 54079850\n",
      "ic| TP_H + FN_H + FP_H + TN_H: 1615691\n",
      "    len(label_mask_current_deforestation_test): 54079850\n"
     ]
    },
    {
     "name": "stdout",
     "output_type": "stream",
     "text": [
      "[0.88719759 0.94873632 0.63526115 0.02987603 0.71106974 0.17051447\n",
      " 0.12678931]\n",
      "0.5461910911722203\n",
      "threshold 0.5461910911722203\n"
     ]
    },
    {
     "name": "stderr",
     "output_type": "stream",
     "text": [
      "ic| label_current_deforestation_test_classified_incorrect.shape: (1686764,)\n",
      "    predicted_test_classified_incorrect.shape: (1686764,)\n",
      "ic| TP_H + FN_H + FP_H + TN_H: 1686764\n",
      "    len(label_mask_current_deforestation_test): 54079850\n",
      "ic| TP_H + FN_H + FP_H + TN_H: 1686764\n",
      "    len(label_mask_current_deforestation_test): 54079850\n"
     ]
    },
    {
     "name": "stdout",
     "output_type": "stream",
     "text": [
      "[0.8893756  0.94930459 0.62942215 0.03119025 0.710199   0.18452734\n",
      " 0.12316835]\n",
      "0.5673425696059541\n",
      "threshold 0.5673425696059541\n"
     ]
    },
    {
     "name": "stderr",
     "output_type": "stream",
     "text": [
      "ic| label_current_deforestation_test_classified_incorrect.shape: (1614824,)\n",
      "    predicted_test_classified_incorrect.shape: (1614824,)\n",
      "ic| TP_H + FN_H + FP_H + TN_H: 1614824\n",
      "    len(label_mask_current_deforestation_test): 54079850\n",
      "ic| TP_H + FN_H + FP_H + TN_H: 1614824\n",
      "    len(label_mask_current_deforestation_test): 54079850\n"
     ]
    },
    {
     "name": "stdout",
     "output_type": "stream",
     "text": [
      "[0.88717091 0.94873072 0.6353411  0.02985999 0.71106272 0.17031798\n",
      " 0.12683479]\n",
      "0.5614073954440004\n",
      "threshold 0.5614073954440004\n"
     ]
    },
    {
     "name": "stderr",
     "output_type": "stream",
     "text": [
      "ic| label_current_deforestation_test_classified_incorrect.shape: (1634489,)\n",
      "    predicted_test_classified_incorrect.shape: (1634489,)\n",
      "ic| TP_H + FN_H + FP_H + TN_H: 1634489\n",
      "    len(label_mask_current_deforestation_test): 54079850\n",
      "ic| TP_H + FN_H + FP_H + TN_H: 1634489\n",
      "    len(label_mask_current_deforestation_test): 54079850\n"
     ]
    },
    {
     "name": "stdout",
     "output_type": "stream",
     "text": [
      "[0.8878287  0.94887496 0.63372559 0.03022362 0.71037983 0.17425679\n",
      " 0.12582205]\n",
      "0.5649160461609072\n",
      "threshold 0.5649160461609072\n"
     ]
    },
    {
     "name": "stderr",
     "output_type": "stream",
     "text": [
      "ic| label_current_deforestation_test_classified_incorrect.shape: (1622888,)\n",
      "    predicted_test_classified_incorrect.shape: (1622888,)\n",
      "ic| TP_H + FN_H + FP_H + TN_H: 1622888\n",
      "    len(label_mask_current_deforestation_test): 54079850\n",
      "ic| TP_H + FN_H + FP_H + TN_H: 1622888\n",
      "    len(label_mask_current_deforestation_test): 54079850\n"
     ]
    },
    {
     "name": "stdout",
     "output_type": "stream",
     "text": [
      "[0.88743201 0.9487971  0.6346767  0.03000911 0.71084068 0.17194045\n",
      " 0.12641628]\n",
      "0.5635758608417005\n",
      "threshold 0.5635758608417005\n"
     ]
    },
    {
     "name": "stderr",
     "output_type": "stream",
     "text": [
      "ic| label_current_deforestation_test_classified_incorrect.shape: (1627223,)\n",
      "    predicted_test_classified_incorrect.shape: (1627223,)\n",
      "ic| TP_H + FN_H + FP_H + TN_H: 1627223\n",
      "    len(label_mask_current_deforestation_test): 54079850\n",
      "ic| TP_H + FN_H + FP_H + TN_H: 1627223\n",
      "    len(label_mask_current_deforestation_test): 54079850\n"
     ]
    },
    {
     "name": "stdout",
     "output_type": "stream",
     "text": [
      "[0.88758137 0.94881988 0.63431004 0.03008927 0.71068516 0.17283781\n",
      " 0.12619268]\n",
      "0.565176316739369\n",
      "threshold 0.565176316739369\n"
     ]
    },
    {
     "name": "stderr",
     "output_type": "stream",
     "text": [
      "ic| label_current_deforestation_test_classified_incorrect.shape: (1622032,)\n",
      "    predicted_test_classified_incorrect.shape: (1622032,)\n",
      "ic| TP_H + FN_H + FP_H + TN_H: 1622032\n",
      "    len(label_mask_current_deforestation_test): 54079850\n",
      "ic| TP_H + FN_H + FP_H + TN_H: 1622032\n",
      "    len(label_mask_current_deforestation_test): 54079850\n"
     ]
    },
    {
     "name": "stdout",
     "output_type": "stream",
     "text": [
      "[0.88739563 0.94877923 0.63474975 0.02999328 0.71091959 0.17176626\n",
      " 0.12645332]\n",
      "0.5652096584556218\n",
      "threshold 0.5652096584556218\n"
     ]
    },
    {
     "name": "stderr",
     "output_type": "stream",
     "text": [
      "ic| label_current_deforestation_test_classified_incorrect.shape: (1621911,)\n",
      "    predicted_test_classified_incorrect.shape: (1621911,)\n",
      "ic| TP_H + FN_H + FP_H + TN_H: 1621911\n",
      "    len(label_mask_current_deforestation_test): 54079850\n",
      "ic| TP_H + FN_H + FP_H + TN_H: 1621911\n",
      "    len(label_mask_current_deforestation_test): 54079850\n"
     ]
    },
    {
     "name": "stdout",
     "output_type": "stream",
     "text": [
      "[0.88739223 0.94877617 0.63476078 0.02999104 0.71091649 0.1717401\n",
      " 0.12645899]\n",
      "0.5650638220697976\n",
      "threshold 0.5650638220697976\n"
     ]
    },
    {
     "name": "stderr",
     "output_type": "stream",
     "text": [
      "ic| label_current_deforestation_test_classified_incorrect.shape: (1622396,)\n",
      "    predicted_test_classified_incorrect.shape: (1622396,)\n",
      "ic| TP_H + FN_H + FP_H + TN_H: 1622396\n",
      "    len(label_mask_current_deforestation_test): 54079850\n",
      "ic| TP_H + FN_H + FP_H + TN_H: 1622396\n",
      "    len(label_mask_current_deforestation_test): 54079850\n"
     ]
    },
    {
     "name": "stdout",
     "output_type": "stream",
     "text": [
      "[0.88740774 0.94878267 0.63471805 0.03000001 0.71091166 0.17184344\n",
      " 0.12643491]\n",
      "0.5650073766953199\n",
      "threshold 0.5650073766953199\n"
     ]
    },
    {
     "name": "stderr",
     "output_type": "stream",
     "text": [
      "ic| label_current_deforestation_test_classified_incorrect.shape: (1622586,)\n",
      "    predicted_test_classified_incorrect.shape: (1622586,)\n",
      "ic| TP_H + FN_H + FP_H + TN_H: 1622586\n",
      "    len(label_mask_current_deforestation_test): 54079850\n",
      "ic| TP_H + FN_H + FP_H + TN_H: 1622586\n",
      "    len(label_mask_current_deforestation_test): 54079850\n"
     ]
    },
    {
     "name": "stdout",
     "output_type": "stream",
     "text": [
      "[0.88742118 0.94879149 0.63470564 0.03000352 0.71084628 0.1718709\n",
      " 0.12643008]\n",
      "0.5650971637843818\n",
      "threshold 0.5650971637843818\n"
     ]
    },
    {
     "name": "stderr",
     "output_type": "stream",
     "text": [
      "ic| label_current_deforestation_test_classified_incorrect.shape: (1622273,)\n",
      "    predicted_test_classified_incorrect.shape: (1622273,)\n",
      "ic| TP_H + FN_H + FP_H + TN_H: 1622273\n",
      "    len(label_mask_current_deforestation_test): 54079850\n",
      "ic| TP_H + FN_H + FP_H + TN_H: 1622273\n",
      "    len(label_mask_current_deforestation_test): 54079850\n",
      "ic| self.threshold_optimal: 0.5650638220697976\n"
     ]
    },
    {
     "name": "stdout",
     "output_type": "stream",
     "text": [
      "[0.88740798 0.94877971 0.63473046 0.02999773 0.71087908 0.17181384\n",
      " 0.12644205]\n",
      "threshold 0.5650638220697976\n"
     ]
    },
    {
     "name": "stderr",
     "output_type": "stream",
     "text": [
      "ic| label_current_deforestation_test_classified_incorrect.shape: (1622396,)\n",
      "    predicted_test_classified_incorrect.shape: (1622396,)\n",
      "ic| TP_H + FN_H + FP_H + TN_H: 1622396\n",
      "    len(label_mask_current_deforestation_test): 54079850\n",
      "ic| TP_H + FN_H + FP_H + TN_H: 1622396\n",
      "    len(label_mask_current_deforestation_test): 54079850\n"
     ]
    },
    {
     "name": "stdout",
     "output_type": "stream",
     "text": [
      "[0.88740774 0.94878267 0.63471805 0.03000001 0.71091166 0.17184344\n",
      " 0.12643491]\n",
      "threshold 0.5650638220697976\n",
      "(54079850,) (54079850,)\n"
     ]
    },
    {
     "name": "stderr",
     "output_type": "stream",
     "text": [
      "ic| self.m_optimal: {'AA': array([0.03000001]),\n",
      "                     'UEO': array([0.12643491]),\n",
      "                     'f1': 77.05,\n",
      "                     'f1_H': array([0.27678233]),\n",
      "                     'f1_L': array([0.91706947]),\n",
      "                     'precision_H': array([0.71091166]),\n",
      "                     'precision_L': array([0.88740774]),\n",
      "                     'recall_H': array([0.17184344]),\n",
      "                     'recall_L': array([0.94878267]),\n",
      "                     'recall_Ltotal': array([0.63471805])}\n",
      "ic| self.m_audited_optimal: {'f1': array([0.9439003]),\n",
      "                             'precision': array([0.9230297]),\n",
      "                             'recall': array([0.96573655])}\n"
     ]
    },
    {
     "name": "stdout",
     "output_type": "stream",
     "text": [
      "cm_audited [[53295960    58423]\n",
      " [   24857   700610]]\n",
      "[0.9230297  0.96573655]\n",
      "Result idx 0: {'other_uncertainty_metrics': {'sUEO': 0.3845722890780702, 'ece_score': 0.053347713360914366}, 'snippet_poi_results': [{'snippet_id': 0, 'coords': [550, 550], 'reference': 0, 'predicted': 0.0, 'alpha': array([132.42505,   1.     ,   1.     ], dtype=float32)}, {'snippet_id': 0, 'coords': [210, 610], 'reference': 1, 'predicted': 0.0, 'alpha': array([1., 1., 1.], dtype=float32)}, {'snippet_id': 0, 'coords': [207, 617], 'reference': 1, 'predicted': 0.0, 'alpha': array([1., 1., 1.], dtype=float32)}, {'snippet_id': 0, 'coords': [800, 200], 'reference': 1, 'predicted': 1.0, 'alpha': array([ 1.     , 49.57395,  1.     ], dtype=float32)}, {'snippet_id': 1, 'coords': [550, 115], 'reference': 1, 'predicted': 0.0, 'alpha': array([1.       , 1.5210117, 1.       ], dtype=float32)}, {'snippet_id': 1, 'coords': [430, 950], 'reference': 0, 'predicted': 0.0, 'alpha': array([1., 1., 1.], dtype=float32)}], 'uncertainty_result': {'metrics': {'precision_L': array([0.88740774]), 'recall_L': array([0.94878267]), 'recall_Ltotal': array([0.63471805]), 'AA': array([0.03000001]), 'precision_H': array([0.71091166]), 'recall_H': array([0.17184344]), 'UEO': array([0.12643491]), 'f1_L': array([0.91706947]), 'f1_H': array([0.27678233]), 'f1': 77.05}, 'metrics_audited': {'precision': array([0.9230297]), 'recall': array([0.96573655]), 'f1': array([0.9439003])}, 'exp': 194}}\n",
      "Grid execution idx: 1\n",
      "Beginning run number 1\n",
      "D:/Jorge/datasets/deforestation/Para/deforestation_past_years.tif\n",
      "Loaded deforestation past years\n"
     ]
    },
    {
     "name": "stderr",
     "output_type": "stream",
     "text": [
      "ic| np.unique(deforestation_past_years, return_counts=True): (array([   0, 2008, 2009, 2010, 2011, 2012, 2013, 2014, 2015, 2016, 2017,\n",
      "                                                                    2018, 2019, 2020, 2021], dtype=uint16),\n",
      "                                                              array([132185553,   3150503,   4571354,    864429,    903608,   1299506,\n",
      "                                                                      2477971,   1561686,   1459696,    969060,    644976,   2209014,\n",
      "                                                                      2100204,   5257014,   3514616], dtype=int64))\n"
     ]
    },
    {
     "name": "stdout",
     "output_type": "stream",
     "text": [
      "Label where deforestation past years is actual date (2019) = 1\n"
     ]
    },
    {
     "name": "stderr",
     "output_type": "stream",
     "text": [
      "ic| np.unique(deforestation_past_years, return_counts=True): (array([   0, 2008, 2009, 2010, 2011, 2012, 2013, 2014, 2015, 2016, 2017,\n",
      "                                                                    2018, 2019, 2020, 2021], dtype=uint16),\n",
      "                                                              array([132185553,   3150503,   4571354,    864429,    903608,   1299506,\n",
      "                                                                      2477971,   1561686,   1459696,    969060,    644976,   2209014,\n",
      "                                                                      2100204,   5257014,   3514616], dtype=int64))\n"
     ]
    },
    {
     "name": "stdout",
     "output_type": "stream",
     "text": [
      "Past deforestation different from 0 (no deforestation)\n"
     ]
    },
    {
     "name": "stderr",
     "output_type": "stream",
     "text": [
      "ic| np.unique(deforestation_past_years, return_counts=True): (array([   0, 2008, 2009, 2010, 2011, 2012, 2013, 2014, 2015, 2016, 2017,\n",
      "                                                                    2018, 2019, 2020, 2021], dtype=uint16),\n",
      "                                                              array([132185553,   3150503,   4571354,    864429,    903608,   1299506,\n",
      "                                                                      2477971,   1561686,   1459696,    969060,    644976,   2209014,\n",
      "                                                                      2100204,   5257014,   3514616], dtype=int64))\n"
     ]
    },
    {
     "name": "stdout",
     "output_type": "stream",
     "text": [
      "Past deforestation before 2008 is 2\n",
      "D:/Jorge/datasets/deforestation/deforestation_before_2008/deforestation_before_2008_para.tif\n"
     ]
    },
    {
     "name": "stderr",
     "output_type": "stream",
     "text": [
      "ic| np.unique(label_past_deforestation_before_2008, return_counts=True): (array([  0, 215], dtype=uint8), array([124211220,  38957970], dtype=int64))\n",
      "ic| np.unique(deforestation_past_years, return_counts=True): (array([   0, 2008, 2009, 2010, 2011, 2012, 2013, 2014, 2015, 2016, 2017,\n",
      "                                                                    2018, 2019, 2020, 2021], dtype=uint16),\n",
      "                                                              array([132185553,   3150503,   4571354,    864429,    903608,   1299506,\n",
      "                                                                      2477971,   1561686,   1459696,    969060,    644976,   2209014,\n",
      "                                                                      2100204,   5257014,   3514616], dtype=int64))\n",
      "ic| label_per_date.shape: (17730, 9203, 1)\n"
     ]
    },
    {
     "name": "stdout",
     "output_type": "stream",
     "text": [
      "Removing bufer................\n",
      "Mask label shape:  \n",
      " (17730, 9203, 1) \n",
      " Unique values:  \n",
      " [0 1 2]\n",
      "Tiles size:  3546 2300\n",
      "Mask size:  (17730, 9200)\n"
     ]
    },
    {
     "name": "stderr",
     "output_type": "stream",
     "text": [
      "ic| image_stack.shape: (17730, 9203, 21)\n"
     ]
    },
    {
     "name": "stdout",
     "output_type": "stream",
     "text": [
      "Image shape:  (17730, 9203, 21)\n",
      "mask:  (17730, 9200)\n",
      "image stack:  (17730, 9200, 21)\n",
      "ref : (17730, 9200, 1)\n",
      "Training tiles:  [1, 3, 5, 8, 11, 13, 14, 20]\n",
      "Validation tiles:  [6, 19]\n",
      "Test tiles:  [2, 4, 7, 9, 10, 12, 15, 16, 17, 18]\n",
      "-30.0 -16.0\n"
     ]
    },
    {
     "name": "stderr",
     "output_type": "stream",
     "text": [
      "ic| self.path_models+ '/' + self.method +'_'+str(0)+'.h5': 'D:/Jorge/datasets/deforestation/experiments/exp195/models/resunet_0.h5'\n"
     ]
    },
    {
     "name": "stdout",
     "output_type": "stream",
     "text": [
      "time:  0\n",
      "(54236371,)\n",
      "(array([0, 1], dtype=uint8), array([53470765,   765606], dtype=int64))\n",
      "(17730, 9200)\n",
      "(array([0., 1.], dtype=float32), array([161465114,   1650886], dtype=int64))\n"
     ]
    },
    {
     "name": "stderr",
     "output_type": "stream",
     "text": [
      "ic| self.predicted_unpad.shape: (17730, 9200)\n",
      "    self.predicted.shape: (17730, 9200)\n",
      "ic| predicted_test.shape: (81558000,)\n",
      "ic| predicted_test.shape: (54236371,)\n",
      "ic| np.unique(predicted, return_counts=True): (array([0., 1.], dtype=float32), array([161465114,   1650886], dtype=int64))\n",
      "    np.unique(predicted_larger_than_min_area, return_counts=True): (array([0., 1.], dtype=float32), array([161736422,   1379578], dtype=int64))\n",
      "ic| np.unique(ignored_polygons, return_counts=True): (array([0., 1.], dtype=float32), array([162844692,    271308], dtype=int64))\n",
      "ic| self.f1: 78.78, self.precision: 88.6, self.recall: 70.91\n",
      "ic| self.label_mask_val.shape: (16311600,)\n",
      "ic| self.label_mask_val_valid.shape: (9418680,)\n",
      "ic| f1_val: 78.96\n",
      "    precision_val: 87.89\n",
      "    recall_val: 71.68\n",
      "    mAP_val: 86.7\n"
     ]
    },
    {
     "name": "stdout",
     "output_type": "stream",
     "text": [
      "D:/Jorge/datasets/deforestation/Para/deforestation_past_years.tif\n",
      "Loaded deforestation past years\n"
     ]
    },
    {
     "name": "stderr",
     "output_type": "stream",
     "text": [
      "ic| np.unique(deforestation_past_years, return_counts=True): (array([   0, 2008, 2009, 2010, 2011, 2012, 2013, 2014, 2015, 2016, 2017,\n",
      "                                                                    2018, 2019, 2020, 2021], dtype=uint16),\n",
      "                                                              array([132185553,   3150503,   4571354,    864429,    903608,   1299506,\n",
      "                                                                      2477971,   1561686,   1459696,    969060,    644976,   2209014,\n",
      "                                                                      2100204,   5257014,   3514616], dtype=int64))\n"
     ]
    },
    {
     "name": "stdout",
     "output_type": "stream",
     "text": [
      "Label where deforestation past years is actual date (2019) = 1\n"
     ]
    },
    {
     "name": "stderr",
     "output_type": "stream",
     "text": [
      "ic| np.unique(deforestation_past_years, return_counts=True): (array([   0, 2008, 2009, 2010, 2011, 2012, 2013, 2014, 2015, 2016, 2017,\n",
      "                                                                    2018, 2019, 2020, 2021], dtype=uint16),\n",
      "                                                              array([132185553,   3150503,   4571354,    864429,    903608,   1299506,\n",
      "                                                                      2477971,   1561686,   1459696,    969060,    644976,   2209014,\n",
      "                                                                      2100204,   5257014,   3514616], dtype=int64))\n"
     ]
    },
    {
     "name": "stdout",
     "output_type": "stream",
     "text": [
      "Past deforestation different from 0 (no deforestation)\n"
     ]
    },
    {
     "name": "stderr",
     "output_type": "stream",
     "text": [
      "ic| np.unique(deforestation_past_years, return_counts=True): (array([   0, 2008, 2009, 2010, 2011, 2012, 2013, 2014, 2015, 2016, 2017,\n",
      "                                                                    2018, 2019, 2020, 2021], dtype=uint16),\n",
      "                                                              array([132185553,   3150503,   4571354,    864429,    903608,   1299506,\n",
      "                                                                      2477971,   1561686,   1459696,    969060,    644976,   2209014,\n",
      "                                                                      2100204,   5257014,   3514616], dtype=int64))\n"
     ]
    },
    {
     "name": "stdout",
     "output_type": "stream",
     "text": [
      "Past deforestation before 2008 is 2\n",
      "D:/Jorge/datasets/deforestation/deforestation_before_2008/deforestation_before_2008_para.tif\n"
     ]
    },
    {
     "name": "stderr",
     "output_type": "stream",
     "text": [
      "ic| np.unique(label_past_deforestation_before_2008, return_counts=True): (array([  0, 215], dtype=uint8), array([124211220,  38957970], dtype=int64))\n",
      "ic| np.unique(deforestation_past_years, return_counts=True): (array([   0, 2008, 2009, 2010, 2011, 2012, 2013, 2014, 2015, 2016, 2017,\n",
      "                                                                    2018, 2019, 2020, 2021], dtype=uint16),\n",
      "                                                              array([132185553,   3150503,   4571354,    864429,    903608,   1299506,\n",
      "                                                                      2477971,   1561686,   1459696,    969060,    644976,   2209014,\n",
      "                                                                      2100204,   5257014,   3514616], dtype=int64))\n",
      "ic| label_per_date.shape: (17730, 9203, 1)\n"
     ]
    },
    {
     "name": "stdout",
     "output_type": "stream",
     "text": [
      "(array([0., 1.], dtype=float32), array([162316504,    799496], dtype=int64))\n",
      "[0. 1.]\n"
     ]
    },
    {
     "name": "stderr",
     "output_type": "stream",
     "text": [
      "ic| self.label_mask.shape: (17730, 9200)\n",
      "ic| self.mask_amazon_ts.shape: (17730, 9200)\n",
      "ic| self.label_mask_test.shape: (81558000,)\n",
      "ic| self.error_mask_test.shape: (54102424,)\n",
      "ic| trainer.dataset.previewLims1: array([2200, 3200, 6900, 7900])\n",
      "    trainer.dataset.previewLims2: array([ 500, 1500, 3500, 4500])\n",
      "ic| np.unique(trainer.mask_amazon_ts[lims[0]:lims[1], lims[2]:lims[3]]): array([1], dtype=uint8)\n",
      "ic| np.unique(trainer.mask_amazon_ts[lims[0]:lims[1], lims[2]:lims[3]], return_counts=True): (array([1], dtype=uint8), array([1000000], dtype=int64))\n",
      "Clipping input data to the valid range for imshow with RGB data ([0..1] for floats or [0..255] for integers).\n",
      "Clipping input data to the valid range for imshow with RGB data ([0..1] for floats or [0..255] for integers).\n",
      "Clipping input data to the valid range for imshow with RGB data ([0..1] for floats or [0..255] for integers).\n"
     ]
    },
    {
     "name": "stdout",
     "output_type": "stream",
     "text": [
      "(54102424,) (54102424,)\n",
      "0.4216257755386668\n"
     ]
    },
    {
     "name": "stderr",
     "output_type": "stream",
     "text": [
      "ic| bounds: (0.0015, 0.9985)\n"
     ]
    },
    {
     "name": "stdout",
     "output_type": "stream",
     "text": [
      "0.048271416877271794\n",
      "0.38232011321635484\n",
      "threshold 0.38232011321635484\n"
     ]
    },
    {
     "name": "stderr",
     "output_type": "stream",
     "text": [
      "c:\\Users\\jchamorro\\Anaconda3\\envs\\tf2\\lib\\site-packages\\scipy\\optimize\\_minimize.py:783: RuntimeWarning: Method 'bounded' does not support relative tolerance in x; defaulting to absolute tolerance.\n",
      "  warn(\"Method 'bounded' does not support relative tolerance in x; \"\n",
      "ic| label_current_deforestation_test_classified_incorrect.shape: (2033069,)\n",
      "    predicted_test_classified_incorrect.shape: (2033069,)\n",
      "ic| TP_H + FN_H + FP_H + TN_H: 2033069\n",
      "    len(label_mask_current_deforestation_test): 54102424\n",
      "ic| TP_H + FN_H + FP_H + TN_H: 2033069\n",
      "    len(label_mask_current_deforestation_test): 54102424\n"
     ]
    },
    {
     "name": "stdout",
     "output_type": "stream",
     "text": [
      "[0.93816898 0.93289751 0.54353661 0.03757815 0.74937899 0.39669262\n",
      " 0.10749978]\n",
      "0.6176798867836452\n",
      "threshold 0.6176798867836452\n"
     ]
    },
    {
     "name": "stderr",
     "output_type": "stream",
     "text": [
      "ic| label_current_deforestation_test_classified_incorrect.shape: (1183520,)\n",
      "    predicted_test_classified_incorrect.shape: (1183520,)\n",
      "ic| TP_H + FN_H + FP_H + TN_H: 1183520\n",
      "    len(label_mask_current_deforestation_test): 54102424\n",
      "ic| TP_H + FN_H + FP_H + TN_H: 1183520\n",
      "    len(label_mask_current_deforestation_test): 54102424\n"
     ]
    },
    {
     "name": "stdout",
     "output_type": "stream",
     "text": [
      "[0.90545798 0.93029069 0.65142795 0.02187554 0.71334744 0.19240533\n",
      " 0.15274446]\n",
      "0.23685977356729035\n",
      "threshold 0.23685977356729035\n"
     ]
    },
    {
     "name": "stderr",
     "output_type": "stream",
     "text": [
      "ic| label_current_deforestation_test_classified_incorrect.shape: (2936877,)\n",
      "    predicted_test_classified_incorrect.shape: (2936877,)\n",
      "ic| TP_H + FN_H + FP_H + TN_H: 2936877\n",
      "    len(label_mask_current_deforestation_test): 54102424\n",
      "ic| TP_H + FN_H + FP_H + TN_H: 2936877\n",
      "    len(label_mask_current_deforestation_test): 54102424\n"
     ]
    },
    {
     "name": "stdout",
     "output_type": "stream",
     "text": [
      "[0.96896405 0.92997428 0.41819257 0.05428365 0.78899563 0.52862252\n",
      " 0.08296674]\n",
      "0.49622785679192494\n",
      "threshold 0.49622785679192494\n"
     ]
    },
    {
     "name": "stderr",
     "output_type": "stream",
     "text": [
      "ic| label_current_deforestation_test_classified_incorrect.shape: (1592727,)\n",
      "    predicted_test_classified_incorrect.shape: (1592727,)\n",
      "ic| TP_H + FN_H + FP_H + TN_H: 1592727\n",
      "    len(label_mask_current_deforestation_test): 54102424\n",
      "ic| TP_H + FN_H + FP_H + TN_H: 1592727\n",
      "    len(label_mask_current_deforestation_test): 54102424\n"
     ]
    },
    {
     "name": "stdout",
     "output_type": "stream",
     "text": [
      "[0.9216641  0.93232568 0.6018345  0.02943911 0.72818069 0.30260806\n",
      " 0.126283  ]\n",
      "0.4977950374501111\n",
      "threshold 0.4977950374501111\n"
     ]
    },
    {
     "name": "stderr",
     "output_type": "stream",
     "text": [
      "ic| label_current_deforestation_test_classified_incorrect.shape: (1587465,)\n",
      "    predicted_test_classified_incorrect.shape: (1587465,)\n",
      "ic| TP_H + FN_H + FP_H + TN_H: 1587465\n",
      "    len(label_mask_current_deforestation_test): 54102424\n",
      "ic| TP_H + FN_H + FP_H + TN_H: 1587465\n",
      "    len(label_mask_current_deforestation_test): 54102424\n"
     ]
    },
    {
     "name": "stdout",
     "output_type": "stream",
     "text": [
      "[0.92145051 0.93230673 0.60248323 0.02934185 0.72800419 0.30138073\n",
      " 0.12655149]\n",
      "0.46803632747768253\n",
      "threshold 0.46803632747768253\n"
     ]
    },
    {
     "name": "stderr",
     "output_type": "stream",
     "text": [
      "ic| label_current_deforestation_test_classified_incorrect.shape: (1689644,)\n",
      "    predicted_test_classified_incorrect.shape: (1689644,)\n",
      "ic| TP_H + FN_H + FP_H + TN_H: 1689644\n",
      "    len(label_mask_current_deforestation_test): 54102424\n",
      "ic| TP_H + FN_H + FP_H + TN_H: 1689644\n",
      "    len(label_mask_current_deforestation_test): 54102424\n"
     ]
    },
    {
     "name": "stdout",
     "output_type": "stream",
     "text": [
      "[0.92537471 0.93259829 0.58912546 0.03123047 0.73307856 0.32576366\n",
      " 0.12153803]\n",
      "0.48545965078872333\n",
      "threshold 0.48545965078872333\n"
     ]
    },
    {
     "name": "stderr",
     "output_type": "stream",
     "text": [
      "ic| label_current_deforestation_test_classified_incorrect.shape: (1629327,)\n",
      "    predicted_test_classified_incorrect.shape: (1629327,)\n",
      "ic| TP_H + FN_H + FP_H + TN_H: 1629327\n",
      "    len(label_mask_current_deforestation_test): 54102424\n",
      "ic| TP_H + FN_H + FP_H + TN_H: 1629327\n",
      "    len(label_mask_current_deforestation_test): 54102424\n"
     ]
    },
    {
     "name": "stdout",
     "output_type": "stream",
     "text": [
      "[0.92305007 0.93241605 0.59701421 0.0301156  0.73015887 0.31160683\n",
      " 0.12442983]\n",
      "0.4785271845547386\n",
      "threshold 0.4785271845547386\n"
     ]
    },
    {
     "name": "stderr",
     "output_type": "stream",
     "text": [
      "ic| label_current_deforestation_test_classified_incorrect.shape: (1653160,)\n",
      "    predicted_test_classified_incorrect.shape: (1653160,)\n",
      "ic| TP_H + FN_H + FP_H + TN_H: 1653160\n",
      "    len(label_mask_current_deforestation_test): 54102424\n",
      "ic| TP_H + FN_H + FP_H + TN_H: 1653160\n",
      "    len(label_mask_current_deforestation_test): 54102424\n"
     ]
    },
    {
     "name": "stdout",
     "output_type": "stream",
     "text": [
      "[0.92400446 0.93251862 0.59392112 0.03055612 0.73118158 0.31721843\n",
      " 0.12328703]\n",
      "0.48735475125940236\n",
      "threshold 0.48735475125940236\n"
     ]
    },
    {
     "name": "stderr",
     "output_type": "stream",
     "text": [
      "ic| label_current_deforestation_test_classified_incorrect.shape: (1622777,)\n",
      "    predicted_test_classified_incorrect.shape: (1622777,)\n",
      "ic| TP_H + FN_H + FP_H + TN_H: 1622777\n",
      "    len(label_mask_current_deforestation_test): 54102424\n",
      "ic| TP_H + FN_H + FP_H + TN_H: 1622777\n",
      "    len(label_mask_current_deforestation_test): 54102424\n"
     ]
    },
    {
     "name": "stdout",
     "output_type": "stream",
     "text": [
      "[0.92280035 0.93237855 0.59786686 0.02999453 0.72982948 0.31004688\n",
      " 0.12474956]\n",
      "0.49074397598706126\n",
      "threshold 0.49074397598706126\n"
     ]
    },
    {
     "name": "stderr",
     "output_type": "stream",
     "text": [
      "ic| label_current_deforestation_test_classified_incorrect.shape: (1611358,)\n",
      "    predicted_test_classified_incorrect.shape: (1611358,)\n",
      "ic| TP_H + FN_H + FP_H + TN_H: 1611358\n",
      "    len(label_mask_current_deforestation_test): 54102424\n",
      "ic| TP_H + FN_H + FP_H + TN_H: 1611358\n",
      "    len(label_mask_current_deforestation_test): 54102424\n"
     ]
    },
    {
     "name": "stdout",
     "output_type": "stream",
     "text": [
      "[0.92231086 0.9323698  0.59940656 0.02978347 0.72936155 0.30717434\n",
      " 0.12530826]\n",
      "0.48768264362685876\n",
      "threshold 0.48768264362685876\n"
     ]
    },
    {
     "name": "stderr",
     "output_type": "stream",
     "text": [
      "ic| label_current_deforestation_test_classified_incorrect.shape: (1621690,)\n",
      "    predicted_test_classified_incorrect.shape: (1621690,)\n",
      "ic| TP_H + FN_H + FP_H + TN_H: 1621690\n",
      "    len(label_mask_current_deforestation_test): 54102424\n",
      "ic| TP_H + FN_H + FP_H + TN_H: 1621690\n",
      "    len(label_mask_current_deforestation_test): 54102424\n"
     ]
    },
    {
     "name": "stdout",
     "output_type": "stream",
     "text": [
      "[0.92274748 0.93237395 0.59801194 0.02997444 0.72980822 0.3097796\n",
      " 0.12479918]\n",
      "0.48694824354176974\n",
      "threshold 0.48694824354176974\n"
     ]
    },
    {
     "name": "stderr",
     "output_type": "stream",
     "text": [
      "ic| label_current_deforestation_test_classified_incorrect.shape: (1624218,)\n",
      "    predicted_test_classified_incorrect.shape: (1624218,)\n",
      "ic| TP_H + FN_H + FP_H + TN_H: 1624218\n",
      "    len(label_mask_current_deforestation_test): 54102424\n",
      "ic| TP_H + FN_H + FP_H + TN_H: 1624218\n",
      "    len(label_mask_current_deforestation_test): 54102424\n"
     ]
    },
    {
     "name": "stdout",
     "output_type": "stream",
     "text": [
      "[0.92286187 0.93239409 0.59771221 0.03002117 0.72983491 0.31032524\n",
      " 0.12468122]\n",
      "0.4872934787818929\n",
      "threshold 0.4872934787818929\n"
     ]
    },
    {
     "name": "stderr",
     "output_type": "stream",
     "text": [
      "ic| label_current_deforestation_test_classified_incorrect.shape: (1623004,)\n",
      "    predicted_test_classified_incorrect.shape: (1623004,)\n",
      "ic| TP_H + FN_H + FP_H + TN_H: 1623004\n",
      "    len(label_mask_current_deforestation_test): 54102424\n",
      "ic| TP_H + FN_H + FP_H + TN_H: 1623004\n",
      "    len(label_mask_current_deforestation_test): 54102424\n"
     ]
    },
    {
     "name": "stdout",
     "output_type": "stream",
     "text": [
      "[0.92282504 0.9323842  0.59784497 0.02999873 0.72977656 0.31008426\n",
      " 0.12474478]\n",
      "0.4872137535562624\n",
      "threshold 0.4872137535562624\n"
     ]
    },
    {
     "name": "stderr",
     "output_type": "stream",
     "text": [
      "ic| label_current_deforestation_test_classified_incorrect.shape: (1623284,)\n",
      "    predicted_test_classified_incorrect.shape: (1623284,)\n",
      "ic| TP_H + FN_H + FP_H + TN_H: 1623284\n",
      "    len(label_mask_current_deforestation_test): 54102424\n",
      "ic| TP_H + FN_H + FP_H + TN_H: 1623284\n",
      "    len(label_mask_current_deforestation_test): 54102424\n"
     ]
    },
    {
     "name": "stdout",
     "output_type": "stream",
     "text": [
      "[0.92283136 0.93238714 0.59781622 0.03000391 0.72979474 0.31013597\n",
      " 0.12472945]\n",
      "0.48726013822082925\n",
      "threshold 0.48726013822082925\n"
     ]
    },
    {
     "name": "stderr",
     "output_type": "stream",
     "text": [
      "ic| label_current_deforestation_test_classified_incorrect.shape: (1623127,)\n",
      "    predicted_test_classified_incorrect.shape: (1623127,)\n",
      "ic| TP_H + FN_H + FP_H + TN_H: 1623127\n",
      "    len(label_mask_current_deforestation_test): 54102424\n",
      "ic| TP_H + FN_H + FP_H + TN_H: 1623127\n",
      "    len(label_mask_current_deforestation_test): 54102424\n",
      "ic| self.threshold_optimal: 0.48726013822082925\n"
     ]
    },
    {
     "name": "stdout",
     "output_type": "stream",
     "text": [
      "[0.92282698 0.93238645 0.59782854 0.030001   0.72979256 0.31011347\n",
      " 0.12473837]\n",
      "threshold 0.48726013822082925\n"
     ]
    },
    {
     "name": "stderr",
     "output_type": "stream",
     "text": [
      "ic| label_current_deforestation_test_classified_incorrect.shape: (1623127,)\n",
      "    predicted_test_classified_incorrect.shape: (1623127,)\n",
      "ic| TP_H + FN_H + FP_H + TN_H: 1623127\n",
      "    len(label_mask_current_deforestation_test): 54102424\n",
      "ic| TP_H + FN_H + FP_H + TN_H: 1623127\n",
      "    len(label_mask_current_deforestation_test): 54102424\n"
     ]
    },
    {
     "name": "stdout",
     "output_type": "stream",
     "text": [
      "[0.92282698 0.93238645 0.59782854 0.030001   0.72979256 0.31011347\n",
      " 0.12473837]\n",
      "threshold 0.48726013822082925\n",
      "(54102424,) (54102424,)\n"
     ]
    },
    {
     "name": "stderr",
     "output_type": "stream",
     "text": [
      "ic| self.m_optimal: {'AA': array([0.030001]),\n",
      "                     'UEO': array([0.12473837]),\n",
      "                     'f1': 78.78,\n",
      "                     'f1_H': array([0.43526722]),\n",
      "                     'f1_L': array([0.92758209]),\n",
      "                     'precision_H': array([0.72979256]),\n",
      "                     'precision_L': array([0.92282698]),\n",
      "                     'recall_H': array([0.31011347]),\n",
      "                     'recall_L': array([0.93238645]),\n",
      "                     'recall_Ltotal': array([0.59782854])}\n",
      "ic| self.m_audited_optimal: {'f1': array([0.953481]),\n",
      "                             'precision': array([0.95033541]),\n",
      "                             'recall': array([0.95664747])}\n"
     ]
    },
    {
     "name": "stdout",
     "output_type": "stream",
     "text": [
      "cm_audited [[53335234    36529]\n",
      " [   31676   698985]]\n",
      "[0.95033541 0.95664747]\n",
      "Result idx 1: {'other_uncertainty_metrics': {'sUEO': 0.4216257755386668, 'ece_score': 0.048271416877271794}, 'snippet_poi_results': [{'snippet_id': 0, 'coords': [550, 550], 'reference': 0, 'predicted': 0.0, 'alpha': array([136.90787,   1.     ,   1.     ], dtype=float32)}, {'snippet_id': 0, 'coords': [210, 610], 'reference': 1, 'predicted': 0.0, 'alpha': array([1., 1., 1.], dtype=float32)}, {'snippet_id': 0, 'coords': [207, 617], 'reference': 1, 'predicted': 0.0, 'alpha': array([1., 1., 1.], dtype=float32)}, {'snippet_id': 0, 'coords': [800, 200], 'reference': 1, 'predicted': 1.0, 'alpha': array([1.     , 5.56545, 1.     ], dtype=float32)}, {'snippet_id': 1, 'coords': [550, 115], 'reference': 1, 'predicted': 0.0, 'alpha': array([1., 1., 1.], dtype=float32)}, {'snippet_id': 1, 'coords': [430, 950], 'reference': 0, 'predicted': 0.0, 'alpha': array([1., 1., 1.], dtype=float32)}], 'uncertainty_result': {'metrics': {'precision_L': array([0.92282698]), 'recall_L': array([0.93238645]), 'recall_Ltotal': array([0.59782854]), 'AA': array([0.030001]), 'precision_H': array([0.72979256]), 'recall_H': array([0.31011347]), 'UEO': array([0.12473837]), 'f1_L': array([0.92758209]), 'f1_H': array([0.43526722]), 'f1': 78.78}, 'metrics_audited': {'precision': array([0.95033541]), 'recall': array([0.95664747]), 'f1': array([0.953481])}, 'exp': 195}}\n",
      "Grid execution idx: 2\n",
      "Beginning run number 2\n",
      "D:/Jorge/datasets/deforestation/Para/deforestation_past_years.tif\n",
      "Loaded deforestation past years\n"
     ]
    },
    {
     "name": "stderr",
     "output_type": "stream",
     "text": [
      "ic| np.unique(deforestation_past_years, return_counts=True): (array([   0, 2008, 2009, 2010, 2011, 2012, 2013, 2014, 2015, 2016, 2017,\n",
      "                                                                    2018, 2019, 2020, 2021], dtype=uint16),\n",
      "                                                              array([132185553,   3150503,   4571354,    864429,    903608,   1299506,\n",
      "                                                                      2477971,   1561686,   1459696,    969060,    644976,   2209014,\n",
      "                                                                      2100204,   5257014,   3514616], dtype=int64))\n"
     ]
    },
    {
     "name": "stdout",
     "output_type": "stream",
     "text": [
      "Label where deforestation past years is actual date (2019) = 1\n"
     ]
    },
    {
     "name": "stderr",
     "output_type": "stream",
     "text": [
      "ic| np.unique(deforestation_past_years, return_counts=True): (array([   0, 2008, 2009, 2010, 2011, 2012, 2013, 2014, 2015, 2016, 2017,\n",
      "                                                                    2018, 2019, 2020, 2021], dtype=uint16),\n",
      "                                                              array([132185553,   3150503,   4571354,    864429,    903608,   1299506,\n",
      "                                                                      2477971,   1561686,   1459696,    969060,    644976,   2209014,\n",
      "                                                                      2100204,   5257014,   3514616], dtype=int64))\n"
     ]
    },
    {
     "name": "stdout",
     "output_type": "stream",
     "text": [
      "Past deforestation different from 0 (no deforestation)\n"
     ]
    },
    {
     "name": "stderr",
     "output_type": "stream",
     "text": [
      "ic| np.unique(deforestation_past_years, return_counts=True): (array([   0, 2008, 2009, 2010, 2011, 2012, 2013, 2014, 2015, 2016, 2017,\n",
      "                                                                    2018, 2019, 2020, 2021], dtype=uint16),\n",
      "                                                              array([132185553,   3150503,   4571354,    864429,    903608,   1299506,\n",
      "                                                                      2477971,   1561686,   1459696,    969060,    644976,   2209014,\n",
      "                                                                      2100204,   5257014,   3514616], dtype=int64))\n"
     ]
    },
    {
     "name": "stdout",
     "output_type": "stream",
     "text": [
      "Past deforestation before 2008 is 2\n",
      "D:/Jorge/datasets/deforestation/deforestation_before_2008/deforestation_before_2008_para.tif\n"
     ]
    },
    {
     "name": "stderr",
     "output_type": "stream",
     "text": [
      "ic| np.unique(label_past_deforestation_before_2008, return_counts=True): (array([  0, 215], dtype=uint8), array([124211220,  38957970], dtype=int64))\n",
      "ic| np.unique(deforestation_past_years, return_counts=True): (array([   0, 2008, 2009, 2010, 2011, 2012, 2013, 2014, 2015, 2016, 2017,\n",
      "                                                                    2018, 2019, 2020, 2021], dtype=uint16),\n",
      "                                                              array([132185553,   3150503,   4571354,    864429,    903608,   1299506,\n",
      "                                                                      2477971,   1561686,   1459696,    969060,    644976,   2209014,\n",
      "                                                                      2100204,   5257014,   3514616], dtype=int64))\n",
      "ic| label_per_date.shape: (17730, 9203, 1)\n"
     ]
    },
    {
     "name": "stdout",
     "output_type": "stream",
     "text": [
      "Removing bufer................\n",
      "Mask label shape:  \n",
      " (17730, 9203, 1) \n",
      " Unique values:  \n",
      " [0 1 2]\n",
      "Tiles size:  3546 2300\n",
      "Mask size:  (17730, 9200)\n"
     ]
    },
    {
     "name": "stderr",
     "output_type": "stream",
     "text": [
      "ic| image_stack.shape: (17730, 9203, 21)\n"
     ]
    },
    {
     "name": "stdout",
     "output_type": "stream",
     "text": [
      "Image shape:  (17730, 9203, 21)\n",
      "mask:  (17730, 9200)\n",
      "image stack:  (17730, 9200, 21)\n",
      "ref : (17730, 9200, 1)\n",
      "Training tiles:  [1, 3, 5, 8, 11, 13, 14, 20]\n",
      "Validation tiles:  [6, 19]\n",
      "Test tiles:  [2, 4, 7, 9, 10, 12, 15, 16, 17, 18]\n",
      "-30.0 -16.0\n"
     ]
    },
    {
     "name": "stderr",
     "output_type": "stream",
     "text": [
      "ic| self.path_models+ '/' + self.method +'_'+str(0)+'.h5': 'D:/Jorge/datasets/deforestation/experiments/exp196/models/resunet_0.h5'\n"
     ]
    },
    {
     "name": "stdout",
     "output_type": "stream",
     "text": [
      "time:  0\n",
      "(54236371,)\n",
      "(array([0, 1], dtype=uint8), array([53470765,   765606], dtype=int64))\n",
      "(17730, 9200)\n",
      "(array([0., 1.], dtype=float32), array([160902353,   2213647], dtype=int64))\n"
     ]
    },
    {
     "name": "stderr",
     "output_type": "stream",
     "text": [
      "ic| self.predicted_unpad.shape: (17730, 9200)\n",
      "    self.predicted.shape: (17730, 9200)\n",
      "ic| predicted_test.shape: (81558000,)\n",
      "ic| predicted_test.shape: (54236371,)\n",
      "ic| np.unique(predicted, return_counts=True): (array([0., 1.], dtype=float32), array([160902353,   2213647], dtype=int64))\n",
      "    np.unique(predicted_larger_than_min_area, return_counts=True): (array([0., 1.], dtype=float32), array([161505108,   1610892], dtype=int64))\n",
      "ic| np.unique(ignored_polygons, return_counts=True): (array([0., 1.], dtype=float32), array([162513245,    602755], dtype=int64))\n",
      "ic| self.f1: 78.28, self.precision: 80.64, self.recall: 76.06\n",
      "ic| self.label_mask_val.shape: (16311600,)\n",
      "ic| self.label_mask_val_valid.shape: (9393985,)\n",
      "ic| f1_val: 86.43\n",
      "    precision_val: 89.66\n",
      "    recall_val: 83.42\n",
      "    mAP_val: 86.01\n"
     ]
    },
    {
     "name": "stdout",
     "output_type": "stream",
     "text": [
      "D:/Jorge/datasets/deforestation/Para/deforestation_past_years.tif\n",
      "Loaded deforestation past years\n"
     ]
    },
    {
     "name": "stderr",
     "output_type": "stream",
     "text": [
      "ic| np.unique(deforestation_past_years, return_counts=True): (array([   0, 2008, 2009, 2010, 2011, 2012, 2013, 2014, 2015, 2016, 2017,\n",
      "                                                                    2018, 2019, 2020, 2021], dtype=uint16),\n",
      "                                                              array([132185553,   3150503,   4571354,    864429,    903608,   1299506,\n",
      "                                                                      2477971,   1561686,   1459696,    969060,    644976,   2209014,\n",
      "                                                                      2100204,   5257014,   3514616], dtype=int64))\n"
     ]
    },
    {
     "name": "stdout",
     "output_type": "stream",
     "text": [
      "Label where deforestation past years is actual date (2019) = 1\n"
     ]
    },
    {
     "name": "stderr",
     "output_type": "stream",
     "text": [
      "ic| np.unique(deforestation_past_years, return_counts=True): (array([   0, 2008, 2009, 2010, 2011, 2012, 2013, 2014, 2015, 2016, 2017,\n",
      "                                                                    2018, 2019, 2020, 2021], dtype=uint16),\n",
      "                                                              array([132185553,   3150503,   4571354,    864429,    903608,   1299506,\n",
      "                                                                      2477971,   1561686,   1459696,    969060,    644976,   2209014,\n",
      "                                                                      2100204,   5257014,   3514616], dtype=int64))\n"
     ]
    },
    {
     "name": "stdout",
     "output_type": "stream",
     "text": [
      "Past deforestation different from 0 (no deforestation)\n"
     ]
    },
    {
     "name": "stderr",
     "output_type": "stream",
     "text": [
      "ic| np.unique(deforestation_past_years, return_counts=True): (array([   0, 2008, 2009, 2010, 2011, 2012, 2013, 2014, 2015, 2016, 2017,\n",
      "                                                                    2018, 2019, 2020, 2021], dtype=uint16),\n",
      "                                                              array([132185553,   3150503,   4571354,    864429,    903608,   1299506,\n",
      "                                                                      2477971,   1561686,   1459696,    969060,    644976,   2209014,\n",
      "                                                                      2100204,   5257014,   3514616], dtype=int64))\n"
     ]
    },
    {
     "name": "stdout",
     "output_type": "stream",
     "text": [
      "Past deforestation before 2008 is 2\n",
      "D:/Jorge/datasets/deforestation/deforestation_before_2008/deforestation_before_2008_para.tif\n"
     ]
    },
    {
     "name": "stderr",
     "output_type": "stream",
     "text": [
      "ic| np.unique(label_past_deforestation_before_2008, return_counts=True): (array([  0, 215], dtype=uint8), array([124211220,  38957970], dtype=int64))\n",
      "ic| np.unique(deforestation_past_years, return_counts=True): (array([   0, 2008, 2009, 2010, 2011, 2012, 2013, 2014, 2015, 2016, 2017,\n",
      "                                                                    2018, 2019, 2020, 2021], dtype=uint16),\n",
      "                                                              array([132185553,   3150503,   4571354,    864429,    903608,   1299506,\n",
      "                                                                      2477971,   1561686,   1459696,    969060,    644976,   2209014,\n",
      "                                                                      2100204,   5257014,   3514616], dtype=int64))\n",
      "ic| label_per_date.shape: (17730, 9203, 1)\n"
     ]
    },
    {
     "name": "stdout",
     "output_type": "stream",
     "text": [
      "(array([0., 1.], dtype=float32), array([162296140,    819860], dtype=int64))\n",
      "[0. 1.]\n"
     ]
    },
    {
     "name": "stderr",
     "output_type": "stream",
     "text": [
      "ic| self.label_mask.shape: (17730, 9200)\n",
      "ic| self.mask_amazon_ts.shape: (17730, 9200)\n",
      "ic| self.label_mask_test.shape: (81558000,)\n",
      "ic| self.error_mask_test.shape: (53942169,)\n",
      "ic| trainer.dataset.previewLims1: array([2200, 3200, 6900, 7900])\n",
      "    trainer.dataset.previewLims2: array([ 500, 1500, 3500, 4500])\n",
      "ic| np.unique(trainer.mask_amazon_ts[lims[0]:lims[1], lims[2]:lims[3]]): array([1], dtype=uint8)\n",
      "ic| np.unique(trainer.mask_amazon_ts[lims[0]:lims[1], lims[2]:lims[3]], return_counts=True): (array([1], dtype=uint8), array([1000000], dtype=int64))\n",
      "Clipping input data to the valid range for imshow with RGB data ([0..1] for floats or [0..255] for integers).\n",
      "Clipping input data to the valid range for imshow with RGB data ([0..1] for floats or [0..255] for integers).\n",
      "Clipping input data to the valid range for imshow with RGB data ([0..1] for floats or [0..255] for integers).\n"
     ]
    },
    {
     "name": "stdout",
     "output_type": "stream",
     "text": [
      "(53942169,) (53942169,)\n",
      "0.2857458654145891\n"
     ]
    }
   ],
   "source": [
    "idx = 0\n",
    "while idx < len(exp_ids):\n",
    "# for experiment_value, exp_id in zip(experiment_values, exp_ids):\n",
    "    try:\n",
    "        config = {\n",
    "        \"training\": False,\n",
    "        \"learning_rate\": 1e-4,\n",
    "        \"weights\": [0.1, 0.9, 0],\n",
    "        \"save_probabilities\": False,\n",
    "        \"loadInference\": False,\n",
    "        \"addPastDeforestationInput\": True,\n",
    "        \"inference_times\": 1,\n",
    "        \"Uncertainty\": {\n",
    "            \"annealing_step\": 10*375 # 1875\n",
    "        },\n",
    "        \"uncertainty_method\": uncertaintyMethod,\n",
    "        \"evidence_function\": evidential.relu_evidence\n",
    "        }\n",
    "        print(\"Beginning run number {}\".format(idx))\n",
    "\n",
    "        logger = Logger()\n",
    "        trainer = TrainerEvidential(config, dataset, patchesHandler, logger)\n",
    "\n",
    "        trainer.defineExperiment(exp_ids[idx])\n",
    "\n",
    "        trainer.setExperimentPath()\n",
    "        trainer.createLogFolders()\n",
    "\n",
    "        trainer.loadDataset()\n",
    "\n",
    "        # %%\n",
    "        if config[\"training\"] == True:\n",
    "            trainer.run()\n",
    "\n",
    "        # %%\n",
    "        result = trainer.run_predictor()\n",
    "        print(\"Result idx {}: {}\".format(idx, result))\n",
    "        results.append(result)\n",
    "\n",
    "\n",
    "        with open('log.pkl', 'wb') as f:\n",
    "            pickle.dump(results, f)\n",
    "        idx += 1\n",
    "        print(\"Grid execution idx: {}\".format(idx))\n",
    "    except Exception as e: \n",
    "        print(e)\n",
    "        print(\"Execution error in idx {}. Retrying...\".format(idx))\n",
    "        continue"
   ]
  },
  {
   "cell_type": "code",
   "execution_count": null,
   "id": "64080745",
   "metadata": {},
   "outputs": [
    {
     "name": "stdout",
     "output_type": "stream",
     "text": [
      "[{'other_uncertainty_metrics': {'sUEO': 0.3670126015642983, 'ece_score': 0.04906518334555479}, 'uncertainty_result': {'metrics': {'precision_L': array([0.8460478]), 'recall_L': array([0.92707223]), 'recall_Ltotal': array([0.55478324]), 'AA': array([0.03000072]), 'precision_H': array([nan]), 'recall_H': array([0.]), 'UEO': array([0.23447353]), 'f1_L': array([0.88470877]), 'f1_H': array([nan]), 'f1': 67.01}, 'metrics_audited': {'precision': array([0.90452009]), 'recall': array([0.9563582]), 'f1': array([0.92971712])}, 'exp': 196}}, {'other_uncertainty_metrics': {'sUEO': 0.0, 'ece_score': 0.01947295218764906}, 'uncertainty_result': {'metrics': {'precision_L': array([nan]), 'recall_L': array([0.]), 'recall_Ltotal': array([0.]), 'AA': array([0.03435077]), 'precision_H': array([nan]), 'recall_H': array([0.]), 'UEO': array([0.54008159]), 'f1_L': array([nan]), 'f1_H': array([nan]), 'f1': 0.0}, 'metrics_audited': {'precision': array([1.]), 'recall': array([0.96602314]), 'f1': array([0.98271797])}, 'exp': 197}}, {'other_uncertainty_metrics': {'sUEO': 0.4184570618416211, 'ece_score': 0.05410147353633453}, 'uncertainty_result': {'metrics': {'precision_L': array([0.95409861]), 'recall_L': array([0.96725732]), 'recall_Ltotal': array([0.69939176]), 'AA': array([0.03000082]), 'precision_H': array([0.86349618]), 'recall_H': array([0.08183486]), 'UEO': array([0.15854507]), 'f1_L': array([0.9606329]), 'f1_H': array([0.14950125]), 'f1': 82.09}, 'metrics_audited': {'precision': array([0.96668471]), 'recall': array([0.97632485]), 'f1': array([0.97148086])}, 'exp': 198}}, {'other_uncertainty_metrics': {'sUEO': 0.3254891061701938, 'ece_score': 0.07870611240393574}, 'uncertainty_result': {'metrics': {'precision_L': array([0.95746491]), 'recall_L': array([0.88986992]), 'recall_Ltotal': array([0.46853837]), 'AA': array([0.03]), 'precision_H': array([0.8731019]), 'recall_H': array([0.0855679]), 'UEO': array([0.26356529]), 'f1_L': array([0.92243074]), 'f1_H': array([0.15586075]), 'f1': 66.29}, 'metrics_audited': {'precision': array([0.97838174]), 'recall': array([0.94201381]), 'f1': array([0.95985341])}, 'exp': 199}}, {'other_uncertainty_metrics': {'sUEO': 0.3265588479958401, 'ece_score': 0.04715176596960263}, 'uncertainty_result': {'metrics': {'precision_L': array([0.91330688]), 'recall_L': array([0.84980722]), 'recall_Ltotal': array([0.57591964]), 'AA': array([0.0300003]), 'precision_H': array([nan]), 'recall_H': array([0.]), 'UEO': array([0.18830931]), 'f1_L': array([0.88041356]), 'f1_H': array([nan]), 'f1': 70.64}, 'metrics_audited': {'precision': array([0.94262917]), 'recall': array([0.89821342]), 'f1': array([0.91988546])}, 'exp': 200}}, {'other_uncertainty_metrics': {'sUEO': 0.2742005585078956, 'ece_score': 0.06695836172293756}, 'uncertainty_result': {'metrics': {'precision_L': array([0.95372474]), 'recall_L': array([0.8288247]), 'recall_Ltotal': array([0.54983605]), 'AA': array([0.03000111]), 'precision_H': array([nan]), 'recall_H': array([0.]), 'UEO': array([0.19685367]), 'f1_L': array([0.88689896]), 'f1_H': array([nan]), 'f1': 69.75}, 'metrics_audited': {'precision': array([0.97078336]), 'recall': array([0.8864436]), 'f1': array([0.92669847])}, 'exp': 201}}, {'other_uncertainty_metrics': {'sUEO': 0.4426829877139664, 'ece_score': 0.06853109890589568}, 'uncertainty_result': {'metrics': {'precision_L': array([0.87828771]), 'recall_L': array([0.98085185]), 'recall_Ltotal': array([0.73066592]), 'AA': array([0.02999875]), 'precision_H': array([0.61947421]), 'recall_H': array([0.23250147]), 'UEO': array([0.13850355]), 'f1_L': array([0.92674068]), 'f1_H': array([0.3381051]), 'f1': 81.96}, 'metrics_audited': {'precision': array([0.90684836]), 'recall': array([0.98573597]), 'f1': array([0.94464805])}, 'exp': 202}}, {'other_uncertainty_metrics': {'sUEO': 0.5162214605056792, 'ece_score': 0.03318585973172579}, 'uncertainty_result': {'metrics': {'precision_L': array([0.65690135]), 'recall_L': array([0.97379809]), 'recall_Ltotal': array([0.65097188]), 'AA': array([0.03000057]), 'precision_H': array([0.54819449]), 'recall_H': array([0.18194317]), 'UEO': array([0.16765879]), 'f1_L': array([0.78455817]), 'f1_H': array([0.27320942]), 'f1': 67.71}, 'metrics_audited': {'precision': array([0.74290716]), 'recall': array([0.98248435]), 'f1': array([0.84606265])}, 'exp': 203}}, {'other_uncertainty_metrics': {'sUEO': 0.43012130625754635, 'ece_score': 0.08723323156077828}, 'uncertainty_result': {'metrics': {'precision_L': array([0.93088892]), 'recall_L': array([0.90612177]), 'recall_Ltotal': array([0.54723851]), 'AA': array([0.02999984]), 'precision_H': array([0.66647137]), 'recall_H': array([0.3209019]), 'UEO': array([0.19915063]), 'f1_L': array([0.91833839]), 'f1_H': array([0.43321394]), 'f1': 75.83}, 'metrics_audited': {'precision': array([0.95870842]), 'recall': array([0.94330367]), 'f1': array([0.95094366])}, 'exp': 204}}, {'other_uncertainty_metrics': {'sUEO': 0.5404739587669327, 'ece_score': 0.03641546979657238}, 'uncertainty_result': {'metrics': {'precision_L': array([0.92989761]), 'recall_L': array([0.93764161]), 'recall_Ltotal': array([0.503057]), 'AA': array([0.02999948]), 'precision_H': array([0.58242773]), 'recall_H': array([0.18413217]), 'UEO': array([0.26910476]), 'f1_L': array([0.93375355]), 'f1_H': array([0.27980509]), 'f1': 69.74}, 'metrics_audited': {'precision': array([0.96224463]), 'recall': array([0.9665439]), 'f1': array([0.96438947])}, 'exp': 205}}]\n"
     ]
    }
   ],
   "source": [
    "print(results)"
   ]
  },
  {
   "cell_type": "code",
   "execution_count": null,
   "id": "cd4f4d1d",
   "metadata": {},
   "outputs": [
    {
     "name": "stdout",
     "output_type": "stream",
     "text": [
      "10\n"
     ]
    }
   ],
   "source": [
    "print(len(results))"
   ]
  },
  {
   "cell_type": "code",
   "execution_count": null,
   "id": "6cc43863",
   "metadata": {},
   "outputs": [
    {
     "data": {
      "text/plain": [
       "{'other_uncertainty_metrics': {'sUEO': 0.5404739587669327,\n",
       "  'ece_score': 0.03641546979657238},\n",
       " 'uncertainty_result': {'metrics': {'precision_L': array([0.92989761]),\n",
       "   'recall_L': array([0.93764161]),\n",
       "   'recall_Ltotal': array([0.503057]),\n",
       "   'AA': array([0.02999948]),\n",
       "   'precision_H': array([0.58242773]),\n",
       "   'recall_H': array([0.18413217]),\n",
       "   'UEO': array([0.26910476]),\n",
       "   'f1_L': array([0.93375355]),\n",
       "   'f1_H': array([0.27980509]),\n",
       "   'f1': 69.74},\n",
       "  'metrics_audited': {'precision': array([0.96224463]),\n",
       "   'recall': array([0.9665439]),\n",
       "   'f1': array([0.96438947])},\n",
       "  'exp': 205}}"
      ]
     },
     "execution_count": 10,
     "metadata": {},
     "output_type": "execute_result"
    }
   ],
   "source": [
    "results[9]"
   ]
  },
  {
   "cell_type": "code",
   "execution_count": null,
   "id": "4819ba4f",
   "metadata": {},
   "outputs": [
    {
     "data": {
      "text/plain": [
       "69.74"
      ]
     },
     "execution_count": 11,
     "metadata": {},
     "output_type": "execute_result"
    }
   ],
   "source": [
    "trainer.f1"
   ]
  },
  {
   "cell_type": "code",
   "execution_count": null,
   "id": "13437081",
   "metadata": {},
   "outputs": [
    {
     "name": "stdout",
     "output_type": "stream",
     "text": [
      "69.74\n"
     ]
    }
   ],
   "source": [
    "print(trainer.f1)"
   ]
  }
 ],
 "metadata": {
  "kernelspec": {
   "display_name": "Python 3.9.12 ('tf2')",
   "language": "python",
   "name": "python3"
  },
  "language_info": {
   "codemirror_mode": {
    "name": "ipython",
    "version": 3
   },
   "file_extension": ".py",
   "mimetype": "text/x-python",
   "name": "python",
   "nbconvert_exporter": "python",
   "pygments_lexer": "ipython3",
   "version": "3.9.12"
  },
  "vscode": {
   "interpreter": {
    "hash": "0593c6bd4eb743cc503a3c17025f83c5676f297db573750215a1bc8c88a990c4"
   }
  }
 },
 "nbformat": 4,
 "nbformat_minor": 5
}
