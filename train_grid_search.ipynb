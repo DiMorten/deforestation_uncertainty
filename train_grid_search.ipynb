{
 "cells": [
  {
   "cell_type": "code",
   "execution_count": 1,
   "id": "dbd5b7cf",
   "metadata": {},
   "outputs": [],
   "source": [
    "from utils_v1 import *\n"
   ]
  },
  {
   "cell_type": "code",
   "execution_count": 2,
   "id": "123e793c",
   "metadata": {},
   "outputs": [],
   "source": [
    "from icecream import ic\n",
    "\n",
    "import numpy as np\n",
    "from src.dataset import (\n",
    "    MultipleDates,\n",
    "    PA, PADeforestationTime, PADistanceMap, PAMultipleDates,\n",
    "    MTDeforestationTime,\n",
    "    MTMultipleDates\n",
    ")\n",
    "\n",
    "# from src.dataset_legacy import MTDeforestationTime\n",
    "from src import training_generator as generator\n",
    "from src.patchesHandler import PatchesHandler, PatchesHandlerMultipleDates, PatchesHandlerEvidential\n",
    "\n",
    "from src.trainer.evidential import TrainerEvidential\n",
    "\n",
    "from mpl_toolkits.axes_grid1 import make_axes_locatable\n",
    "\n",
    "import cv2\n",
    "from src import metrics as _metric\n",
    "import json\n",
    "import pickle \n",
    "import src.trainer.evidential as evidential\n"
   ]
  },
  {
   "cell_type": "code",
   "execution_count": 3,
   "id": "603a5df7",
   "metadata": {},
   "outputs": [
    {
     "name": "stderr",
     "output_type": "stream",
     "text": [
      "ic| list(self.date_ids): [0]\n",
      "ic| self.image_channels: [[0, 1, 2, 3, 4, 5, 6, 7, 8, 9, 10, 11, 12, 13, 14, 15, 16, 17, 18, 19, 20]]\n",
      "ic| dates: [2018, 2019]\n",
      "ic| self.input_image_shape: 21\n",
      "ic| self.dataset.image_channels: [[0, 1, 2, 3, 4, 5, 6, 7, 8, 9, 10, 11, 12, 13, 14, 15, 16, 17, 18, 19, 20]]\n"
     ]
    }
   ],
   "source": [
    "\n",
    "config = {\n",
    "\t\"training\": True,\n",
    "\t\"learning_rate\": 1e-4,\n",
    "\t\"weights\": [0.1, 0.9, 0],\n",
    "\t\"save_probabilities\": False,\n",
    "\t\"loadInference\": False,\n",
    "\t\"addPastDeforestationInput\": True,\n",
    "\t\"inference_times\": 1,\n",
    "\t\"Uncertainty\": {\n",
    "\t\t\"annealing_step\": 10*375/2 # 1875\n",
    "\t}\n",
    "}\n",
    "\n",
    "\n",
    "\n",
    "\n",
    "'''\n",
    "if config[\"training\"] == True:\n",
    "\tdates = [2017, 2018]\n",
    "else:\n",
    "\tdates = [2018, 2019]\n",
    "if config[\"training\"] == True:\n",
    "\tdates = [2018, 2019]\n",
    "else:\n",
    "\tdates = [2019, 2020]\n",
    "'''\n",
    "# dates = [2018, 2019]\n",
    "# dates = [2017, 2018]\n",
    "\n",
    "# dataset = PAMultipleDates(dates = dates, # dates = [2017, 2018, 2019]. [2018, 2019]. [2015, 2016, 2017, 2018]\n",
    "# \taddPastDeforestationInput = config['addPastDeforestationInput'],\n",
    "# \tborderBuffer = 2)\t\n",
    "dates = [2018, 2019]\n",
    "# dates = [2019, 2020]\n",
    "\n",
    "dataset = PAMultipleDates(dates = dates, # dates = [2016,2017,2018,2019]\n",
    "\taddPastDeforestationInput = config['addPastDeforestationInput'],\n",
    "\tborderBuffer = 2)\t\n",
    "# dataset = MTDeforestationTime()\t\n",
    "# [2016, 2017, 2018]\n",
    "\n",
    "ic(dates)\n",
    "\n",
    "if issubclass(type(dataset), MultipleDates):\n",
    "\tpatchesHandler = PatchesHandlerEvidential(\n",
    "\t\tdataset)\n",
    "else:\n",
    "\tpatchesHandler = PatchesHandler()\n",
    "\n"
   ]
  },
  {
   "cell_type": "code",
   "execution_count": 4,
   "id": "453870ef",
   "metadata": {},
   "outputs": [
    {
     "data": {
      "text/plain": [
       "[3750, 2500.0, 1875, 1250, 937]"
      ]
     },
     "execution_count": 4,
     "metadata": {},
     "output_type": "execute_result"
    }
   ],
   "source": [
    "[10*375//1, 10*375//1.5, 10*375//2, 10*375//3, 10*375//4]\n"
   ]
  },
  {
   "cell_type": "code",
   "execution_count": 5,
   "id": "1bb339c8",
   "metadata": {},
   "outputs": [],
   "source": [
    "# if config[\"training\"] == True:\n",
    "# experiment_values = [10*375//1, 10*375//1.5, 10*375//2, 10*375//3, 10*375//4]\n",
    "# experiment_values = [10*375//3, 10*375//3, 10*375//3, 10*375//3, 10*375//3]\n",
    "# experiment_values = [10*375//2, 10*375//2, 10*375//2, 10*375//2, 10*375//2, 10*375//2, 10*375//2]\n",
    "# experiment_values = [10*375, 10*375, 10*375, 10*375, 10*375, 10*375, 10*375, 10*375, 10*375, 10*375]\n",
    "experiment_values = [10*375, 10*375, 10*375, 10*375, 10*375, 10*375, 10*375, 10*375, 10*375, 10*375]\n",
    "\n",
    "experiment_values = [int(x) for x in experiment_values]\n",
    "results = []\n",
    "\n",
    "#exp_id_base = 148\n",
    "# exp_id_base = 155\n",
    "exp_id_base = 185\n",
    "\n",
    "\n",
    "exp_ids = range(exp_id_base, exp_id_base+len(experiment_values))\n"
   ]
  },
  {
   "cell_type": "code",
   "execution_count": 6,
   "id": "c7ae3a0c",
   "metadata": {},
   "outputs": [
    {
     "data": {
      "text/plain": [
       "range(175, 185)"
      ]
     },
     "execution_count": 6,
     "metadata": {},
     "output_type": "execute_result"
    }
   ],
   "source": [
    "exp_ids"
   ]
  },
  {
   "cell_type": "code",
   "execution_count": 7,
   "id": "cfa1145d",
   "metadata": {},
   "outputs": [],
   "source": [
    "from enum import Enum\n",
    "UncertaintyMethod = Enum('Predictor', 'pred_var MI pred_entropy KL pred_entropy_single evidential')\n",
    "uncertaintyMethod = \"evidential\"\n"
   ]
  },
  {
   "cell_type": "code",
   "execution_count": 8,
   "id": "55da0bd1",
   "metadata": {},
   "outputs": [
    {
     "name": "stdout",
     "output_type": "stream",
     "text": [
      "D:/Jorge/datasets/deforestation/MT/deforestation_past_years.tif\n",
      "Loaded deforestation past years\n"
     ]
    },
    {
     "name": "stderr",
     "output_type": "stream",
     "text": [
      "ic| np.unique(deforestation_past_years, return_counts=True): (array([   0, 2008, 2009, 2010, 2011, 2012, 2013, 2014, 2015, 2016, 2017,\n",
      "                                                                    2018, 2019, 2020, 2021], dtype=uint16),\n",
      "                                                              array([161124576,   1332784,    240796,    338545,    313901,    287191,\n",
      "                                                                       708581,    648966,    876898,   1007787,   1098901,   1054092,\n",
      "                                                                      2096062,   2473828,   1400992], dtype=int64))\n"
     ]
    },
    {
     "name": "stdout",
     "output_type": "stream",
     "text": [
      "Label where deforestation past years is actual date (2019) = 1\n"
     ]
    },
    {
     "name": "stderr",
     "output_type": "stream",
     "text": [
      "ic| np.unique(deforestation_past_years, return_counts=True): (array([   0, 2008, 2009, 2010, 2011, 2012, 2013, 2014, 2015, 2016, 2017,\n",
      "                                                                    2018, 2019, 2020, 2021], dtype=uint16),\n",
      "                                                              array([161124576,   1332784,    240796,    338545,    313901,    287191,\n",
      "                                                                       708581,    648966,    876898,   1007787,   1098901,   1054092,\n",
      "                                                                      2096062,   2473828,   1400992], dtype=int64))\n"
     ]
    },
    {
     "name": "stdout",
     "output_type": "stream",
     "text": [
      "Past deforestation different from 0 (no deforestation)\n"
     ]
    },
    {
     "name": "stderr",
     "output_type": "stream",
     "text": [
      "ic| np.unique(deforestation_past_years, return_counts=True): (array([   0, 2008, 2009, 2010, 2011, 2012, 2013, 2014, 2015, 2016, 2017,\n",
      "                                                                    2018, 2019, 2020, 2021], dtype=uint16),\n",
      "                                                              array([161124576,   1332784,    240796,    338545,    313901,    287191,\n",
      "                                                                       708581,    648966,    876898,   1007787,   1098901,   1054092,\n",
      "                                                                      2096062,   2473828,   1400992], dtype=int64))\n"
     ]
    },
    {
     "name": "stdout",
     "output_type": "stream",
     "text": [
      "Past deforestation before 2008 is 2\n",
      "D:/Jorge/datasets/deforestation/MT/deforestation_before_2008/deforestation_before_2008_MT.tif\n"
     ]
    },
    {
     "name": "stderr",
     "output_type": "stream",
     "text": [
      "ic| np.unique(label_past_deforestation_before_2008, return_counts=True): (array([  0, 215], dtype=uint8), array([122623260,  52380640], dtype=int64))\n",
      "ic| np.unique(deforestation_past_years, return_counts=True): (array([   0, 2008, 2009, 2010, 2011, 2012, 2013, 2014, 2015, 2016, 2017,\n",
      "                                                                    2018, 2019, 2020, 2021], dtype=uint16),\n",
      "                                                              array([161124576,   1332784,    240796,    338545,    313901,    287191,\n",
      "                                                                       708581,    648966,    876898,   1007787,   1098901,   1054092,\n",
      "                                                                      2096062,   2473828,   1400992], dtype=int64))\n",
      "ic| label_per_date.shape: (16795, 10420, 1)\n"
     ]
    },
    {
     "name": "stdout",
     "output_type": "stream",
     "text": [
      "Mask label shape:  \n",
      " (16795, 10420, 1) \n",
      " Unique values:  \n",
      " [0 1 2]\n",
      "Tiles size:  3359 2084\n",
      "Mask size:  (16795, 10420)\n"
     ]
    },
    {
     "name": "stderr",
     "output_type": "stream",
     "text": [
      "ic| image_stack.shape: (16795, 10420, 21)\n"
     ]
    },
    {
     "name": "stdout",
     "output_type": "stream",
     "text": [
      "Image shape:  (16795, 10420, 21)\n",
      "mask:  (16795, 10420)\n",
      "image stack:  (16795, 10420, 21)\n",
      "ref : (16795, 10420, 1)\n",
      "Training tiles:  [2, 4, 5, 6, 7, 12, 14, 15, 18, 21, 23, 24]\n",
      "Validation tiles:  [9, 11, 25]\n",
      "Test tiles:  [1, 3, 8, 10, 13, 16, 17, 19, 20, 22]\n"
     ]
    },
    {
     "name": "stderr",
     "output_type": "stream",
     "text": [
      "ic| im_idx_row.shape: (16795, 10420, 1)\n",
      "    im_idx_col.shape: (16795, 10420, 1)\n",
      "ic| im_idx_row.dtype: dtype('uint16')\n",
      "    im_idx_col.dtype: dtype('uint16')\n",
      "ic| im_idx.shape: (16795, 10420, 2), im_idx.dtype: dtype('uint16')\n",
      "ic| coords.shape: (439, 271, 1, 128, 128, 2)\n",
      "    coords.dtype: dtype('uint16')\n",
      "ic| coords.shape: (118969, 2), coords.dtype: dtype('uint16')\n",
      "ic| self.coords_train.shape: (54516, 3)\n",
      "    self.coords_val.shape: (13175, 3)\n"
     ]
    },
    {
     "name": "stdout",
     "output_type": "stream",
     "text": [
      "training samples:  (2962, 3) validation samples:  (623, 3)\n",
      "time:  0\n",
      "Model: \"model\"\n",
      "__________________________________________________________________________________________________\n",
      "Layer (type)                    Output Shape         Param #     Connected to                     \n",
      "==================================================================================================\n",
      "input_enc_net (InputLayer)      [(None, 128, 128, 21 0                                            \n",
      "__________________________________________________________________________________________________\n",
      "res1_net1 (Conv2D)              (None, 128, 128, 16) 3040        input_enc_net[0][0]              \n",
      "__________________________________________________________________________________________________\n",
      "drop_net1 (Dropout)             (None, 128, 128, 16) 0           res1_net1[0][0]                  \n",
      "__________________________________________________________________________________________________\n",
      "res2_net1 (Conv2D)              (None, 128, 128, 16) 2320        drop_net1[0][0]                  \n",
      "__________________________________________________________________________________________________\n",
      "res3_net1 (Conv2D)              (None, 128, 128, 16) 352         input_enc_net[0][0]              \n",
      "__________________________________________________________________________________________________\n",
      "add (Add)                       (None, 128, 128, 16) 0           res2_net1[0][0]                  \n",
      "                                                                 res3_net1[0][0]                  \n",
      "__________________________________________________________________________________________________\n",
      "pool_net1 (MaxPooling2D)        (None, 64, 64, 16)   0           add[0][0]                        \n",
      "__________________________________________________________________________________________________\n",
      "res1_net2 (Conv2D)              (None, 64, 64, 32)   4640        pool_net1[0][0]                  \n",
      "__________________________________________________________________________________________________\n",
      "drop_net2 (Dropout)             (None, 64, 64, 32)   0           res1_net2[0][0]                  \n",
      "__________________________________________________________________________________________________\n",
      "res2_net2 (Conv2D)              (None, 64, 64, 32)   9248        drop_net2[0][0]                  \n",
      "__________________________________________________________________________________________________\n",
      "res3_net2 (Conv2D)              (None, 64, 64, 32)   544         pool_net1[0][0]                  \n",
      "__________________________________________________________________________________________________\n",
      "add_1 (Add)                     (None, 64, 64, 32)   0           res2_net2[0][0]                  \n",
      "                                                                 res3_net2[0][0]                  \n",
      "__________________________________________________________________________________________________\n",
      "pool_net2 (MaxPooling2D)        (None, 32, 32, 32)   0           add_1[0][0]                      \n",
      "__________________________________________________________________________________________________\n",
      "res1_net3 (Conv2D)              (None, 32, 32, 64)   18496       pool_net2[0][0]                  \n",
      "__________________________________________________________________________________________________\n",
      "drop_net3 (Dropout)             (None, 32, 32, 64)   0           res1_net3[0][0]                  \n",
      "__________________________________________________________________________________________________\n",
      "res2_net3 (Conv2D)              (None, 32, 32, 64)   36928       drop_net3[0][0]                  \n",
      "__________________________________________________________________________________________________\n",
      "res3_net3 (Conv2D)              (None, 32, 32, 64)   2112        pool_net2[0][0]                  \n",
      "__________________________________________________________________________________________________\n",
      "add_2 (Add)                     (None, 32, 32, 64)   0           res2_net3[0][0]                  \n",
      "                                                                 res3_net3[0][0]                  \n",
      "__________________________________________________________________________________________________\n",
      "pool_net3 (MaxPooling2D)        (None, 16, 16, 64)   0           add_2[0][0]                      \n",
      "__________________________________________________________________________________________________\n",
      "res1_net4 (Conv2D)              (None, 16, 16, 64)   36928       pool_net3[0][0]                  \n",
      "__________________________________________________________________________________________________\n",
      "drop_net4 (Dropout)             (None, 16, 16, 64)   0           res1_net4[0][0]                  \n",
      "__________________________________________________________________________________________________\n",
      "res2_net4 (Conv2D)              (None, 16, 16, 64)   36928       drop_net4[0][0]                  \n",
      "__________________________________________________________________________________________________\n",
      "res3_net4 (Conv2D)              (None, 16, 16, 64)   4160        pool_net3[0][0]                  \n",
      "__________________________________________________________________________________________________\n",
      "add_3 (Add)                     (None, 16, 16, 64)   0           res2_net4[0][0]                  \n",
      "                                                                 res3_net4[0][0]                  \n",
      "__________________________________________________________________________________________________\n",
      "res1_net5 (Conv2D)              (None, 16, 16, 64)   36928       add_3[0][0]                      \n",
      "__________________________________________________________________________________________________\n",
      "drop_net5 (Dropout)             (None, 16, 16, 64)   0           res1_net5[0][0]                  \n",
      "__________________________________________________________________________________________________\n",
      "res2_net5 (Conv2D)              (None, 16, 16, 64)   36928       drop_net5[0][0]                  \n",
      "__________________________________________________________________________________________________\n",
      "res3_net5 (Conv2D)              (None, 16, 16, 64)   4160        add_3[0][0]                      \n",
      "__________________________________________________________________________________________________\n",
      "add_4 (Add)                     (None, 16, 16, 64)   0           res2_net5[0][0]                  \n",
      "                                                                 res3_net5[0][0]                  \n",
      "__________________________________________________________________________________________________\n",
      "res1_net6 (Conv2D)              (None, 16, 16, 64)   36928       add_4[0][0]                      \n",
      "__________________________________________________________________________________________________\n",
      "drop_net6 (Dropout)             (None, 16, 16, 64)   0           res1_net6[0][0]                  \n",
      "__________________________________________________________________________________________________\n",
      "res2_net6 (Conv2D)              (None, 16, 16, 64)   36928       drop_net6[0][0]                  \n",
      "__________________________________________________________________________________________________\n",
      "res3_net6 (Conv2D)              (None, 16, 16, 64)   4160        add_4[0][0]                      \n",
      "__________________________________________________________________________________________________\n",
      "add_5 (Add)                     (None, 16, 16, 64)   0           res2_net6[0][0]                  \n",
      "                                                                 res3_net6[0][0]                  \n",
      "__________________________________________________________________________________________________\n",
      "up_sampling2d (UpSampling2D)    (None, 32, 32, 64)   0           add_5[0][0]                      \n",
      "__________________________________________________________________________________________________\n",
      "upsampling_net3 (Conv2D)        (None, 32, 32, 64)   36928       up_sampling2d[0][0]              \n",
      "__________________________________________________________________________________________________\n",
      "concatenate3 (Concatenate)      (None, 32, 32, 128)  0           add_2[0][0]                      \n",
      "                                                                 upsampling_net3[0][0]            \n",
      "__________________________________________________________________________________________________\n",
      "up_sampling2d_1 (UpSampling2D)  (None, 64, 64, 128)  0           concatenate3[0][0]               \n",
      "__________________________________________________________________________________________________\n",
      "upsampling_net2 (Conv2D)        (None, 64, 64, 32)   36896       up_sampling2d_1[0][0]            \n",
      "__________________________________________________________________________________________________\n",
      "concatenate2 (Concatenate)      (None, 64, 64, 64)   0           add_1[0][0]                      \n",
      "                                                                 upsampling_net2[0][0]            \n",
      "__________________________________________________________________________________________________\n",
      "up_sampling2d_2 (UpSampling2D)  (None, 128, 128, 64) 0           concatenate2[0][0]               \n",
      "__________________________________________________________________________________________________\n",
      "upsampling_net1 (Conv2D)        (None, 128, 128, 16) 9232        up_sampling2d_2[0][0]            \n",
      "__________________________________________________________________________________________________\n",
      "concatenate1 (Concatenate)      (None, 128, 128, 32) 0           add[0][0]                        \n",
      "                                                                 upsampling_net1[0][0]            \n",
      "__________________________________________________________________________________________________\n",
      "output (Conv2D)                 (None, 128, 128, 3)  99          concatenate1[0][0]               \n",
      "==================================================================================================\n",
      "Total params: 394,883\n",
      "Trainable params: 394,883\n",
      "Non-trainable params: 0\n",
      "__________________________________________________________________________________________________\n"
     ]
    },
    {
     "name": "stderr",
     "output_type": "stream",
     "text": [
      "c:\\Users\\jchamorro\\Anaconda3\\envs\\tf2\\lib\\site-packages\\tensorflow\\python\\keras\\optimizer_v2\\optimizer_v2.py:374: UserWarning: The `lr` argument is deprecated, use `learning_rate` instead.\n",
      "  warnings.warn(\n",
      "c:\\Users\\jchamorro\\Anaconda3\\envs\\tf2\\lib\\site-packages\\tensorflow\\python\\keras\\engine\\training.py:1969: UserWarning: `Model.fit_generator` is deprecated and will be removed in a future version. Please use `Model.fit`, which supports generators.\n",
      "  warnings.warn('`Model.fit_generator` is deprecated and '\n"
     ]
    },
    {
     "name": "stdout",
     "output_type": "stream",
     "text": [
      "Epoch 1/100\n",
      "self.global_step 0.0\n",
      "alpha Tensor(\"loss/add:0\", shape=(None, 128, 128, 3), dtype=float32)\n",
      "u Tensor(\"loss/truediv:0\", shape=(None, 128, 128, 1), dtype=float32)\n",
      "alpha Tensor(\"add:0\", shape=(None, 128, 128, 3), dtype=float32)\n",
      "u Tensor(\"truediv:0\", shape=(None, 128, 128, 1), dtype=float32)\n",
      "K.int_shape(KL_reg) Tensor(\"mul_6:0\", shape=(None, 128, 128, 1), dtype=float32)\n",
      "alpha Tensor(\"add_7:0\", shape=(None, 128, 128, 3), dtype=float32)\n",
      "u Tensor(\"truediv_5:0\", shape=(None, 128, 128, 1), dtype=float32)\n",
      "K.int_shape(KL_reg) Tensor(\"mul_12:0\", shape=(None, 128, 128, 1), dtype=float32)\n",
      "alpha Tensor(\"loss/add:0\", shape=(None, 128, 128, 3), dtype=float32)\n",
      "u Tensor(\"loss/truediv:0\", shape=(None, 128, 128, 1), dtype=float32)\n",
      "alpha Tensor(\"add:0\", shape=(None, 128, 128, 3), dtype=float32)\n",
      "u Tensor(\"truediv:0\", shape=(None, 128, 128, 1), dtype=float32)\n",
      "K.int_shape(KL_reg) Tensor(\"mul_6:0\", shape=(None, 128, 128, 1), dtype=float32)\n",
      "alpha Tensor(\"add_7:0\", shape=(None, 128, 128, 3), dtype=float32)\n",
      "u Tensor(\"truediv_5:0\", shape=(None, 128, 128, 1), dtype=float32)\n",
      "K.int_shape(KL_reg) Tensor(\"mul_12:0\", shape=(None, 128, 128, 1), dtype=float32)\n",
      "277/277 [==============================] - ETA: 0s - loss: 0.1628 - accuracy: 0.6382 - KL_term: 0.0062 - loglikelihood_term: 0.4821 - evidential_success: 11.3165 - evidential_fail: 2.0523 - acc: 0.6383 - annealing_coef: 0.0368 - global_step_get: 138.0000 - annealing_step_get: 3750.0000alpha Tensor(\"loss/add:0\", shape=(None, 128, 128, 3), dtype=float32)\n",
      "u Tensor(\"loss/truediv:0\", shape=(None, 128, 128, 1), dtype=float32)\n",
      "alpha Tensor(\"add:0\", shape=(None, 128, 128, 3), dtype=float32)\n",
      "u Tensor(\"truediv:0\", shape=(None, 128, 128, 1), dtype=float32)\n",
      "K.int_shape(KL_reg) Tensor(\"mul_6:0\", shape=(None, 128, 128, 1), dtype=float32)\n",
      "alpha Tensor(\"add_7:0\", shape=(None, 128, 128, 3), dtype=float32)\n",
      "u Tensor(\"truediv_5:0\", shape=(None, 128, 128, 1), dtype=float32)\n",
      "K.int_shape(KL_reg) Tensor(\"mul_12:0\", shape=(None, 128, 128, 1), dtype=float32)\n",
      "277/277 [==============================] - 32s 91ms/step - loss: 0.1628 - accuracy: 0.6382 - KL_term: 0.0062 - loglikelihood_term: 0.4821 - evidential_success: 11.3165 - evidential_fail: 2.0523 - acc: 0.6383 - annealing_coef: 0.0368 - global_step_get: 138.0000 - annealing_step_get: 3750.0000 - val_loss: 0.1095 - val_accuracy: 0.7154 - val_KL_term: 0.0067 - val_loglikelihood_term: 0.3204 - val_evidential_success: 16.4609 - val_evidential_fail: 1.9163 - val_acc: 0.7165 - val_annealing_coef: 0.0736 - val_global_step_get: 276.0000 - val_annealing_step_get: 3750.0000\n",
      "\n",
      "Epoch 00001: val_loss improved from inf to 0.10945, saving model to D:/Jorge/datasets/deforestation/experiments/MT/exp175/models\\resunet_0.h5\n"
     ]
    },
    {
     "name": "stderr",
     "output_type": "stream",
     "text": [
      "c:\\Users\\jchamorro\\Anaconda3\\envs\\tf2\\lib\\site-packages\\tensorflow\\python\\keras\\utils\\generic_utils.py:494: CustomMaskWarning: Custom mask layers require a config and must override get_config. When loading, the custom mask layer must be passed to the custom_objects argument.\n",
      "  warnings.warn('Custom mask layers require a config and must override '\n"
     ]
    },
    {
     "name": "stdout",
     "output_type": "stream",
     "text": [
      "Epoch 2/100\n",
      "self.global_step 276.0\n",
      "277/277 [==============================] - 24s 87ms/step - loss: 0.1143 - accuracy: 0.7041 - KL_term: 0.0094 - loglikelihood_term: 0.3337 - evidential_success: 33.0649 - evidential_fail: 2.5026 - acc: 0.7039 - annealing_coef: 0.0736 - global_step_get: 276.0000 - annealing_step_get: 3750.0000 - val_loss: 0.1025 - val_accuracy: 0.7222 - val_KL_term: 0.0144 - val_loglikelihood_term: 0.2914 - val_evidential_success: 28.9683 - val_evidential_fail: 2.5373 - val_acc: 0.7237 - val_annealing_coef: 0.1472 - val_global_step_get: 552.0000 - val_annealing_step_get: 3750.0000\n",
      "\n",
      "Epoch 00002: val_loss improved from 0.10945 to 0.10245, saving model to D:/Jorge/datasets/deforestation/experiments/MT/exp175/models\\resunet_0.h5\n",
      "Epoch 3/100\n",
      "self.global_step 552.0\n",
      "277/277 [==============================] - 24s 87ms/step - loss: 0.1101 - accuracy: 0.7070 - KL_term: 0.0120 - loglikelihood_term: 0.3179 - evidential_success: 43.1145 - evidential_fail: 2.5398 - acc: 0.7072 - annealing_coef: 0.1104 - global_step_get: 414.0000 - annealing_step_get: 3750.0000 - val_loss: 0.1052 - val_accuracy: 0.7169 - val_KL_term: 0.0160 - val_loglikelihood_term: 0.2980 - val_evidential_success: 28.5381 - val_evidential_fail: 1.9747 - val_acc: 0.7187 - val_annealing_coef: 0.2208 - val_global_step_get: 828.0000 - val_annealing_step_get: 3750.0000\n",
      "\n",
      "Epoch 00003: val_loss did not improve from 0.10245\n",
      "Epoch 4/100\n",
      "self.global_step 828.0\n",
      "277/277 [==============================] - 24s 88ms/step - loss: 0.1089 - accuracy: 0.7107 - KL_term: 0.0143 - loglikelihood_term: 0.3126 - evidential_success: 44.2711 - evidential_fail: 2.2734 - acc: 0.7104 - annealing_coef: 0.1472 - global_step_get: 552.0000 - annealing_step_get: 3750.0000 - val_loss: 0.1018 - val_accuracy: 0.7242 - val_KL_term: 0.0199 - val_loglikelihood_term: 0.2838 - val_evidential_success: 31.6127 - val_evidential_fail: 1.8156 - val_acc: 0.7258 - val_annealing_coef: 0.2944 - val_global_step_get: 1104.0000 - val_annealing_step_get: 3750.0000\n",
      "\n",
      "Epoch 00004: val_loss improved from 0.10245 to 0.10175, saving model to D:/Jorge/datasets/deforestation/experiments/MT/exp175/models\\resunet_0.h5\n",
      "Epoch 5/100\n",
      "self.global_step 1104.0\n",
      "277/277 [==============================] - 24s 88ms/step - loss: 0.1079 - accuracy: 0.7121 - KL_term: 0.0160 - loglikelihood_term: 0.3077 - evidential_success: 45.5654 - evidential_fail: 2.0669 - acc: 0.7121 - annealing_coef: 0.1840 - global_step_get: 690.0000 - annealing_step_get: 3750.0000 - val_loss: 0.1012 - val_accuracy: 0.7359 - val_KL_term: 0.0234 - val_loglikelihood_term: 0.2785 - val_evidential_success: 30.7012 - val_evidential_fail: 1.5888 - val_acc: 0.7373 - val_annealing_coef: 0.3680 - val_global_step_get: 1380.0000 - val_annealing_step_get: 3750.0000\n",
      "\n",
      "Epoch 00005: val_loss improved from 0.10175 to 0.10116, saving model to D:/Jorge/datasets/deforestation/experiments/MT/exp175/models\\resunet_0.h5\n",
      "Epoch 6/100\n",
      "self.global_step 1380.0\n",
      "277/277 [==============================] - 24s 88ms/step - loss: 0.1065 - accuracy: 0.7146 - KL_term: 0.0171 - loglikelihood_term: 0.3021 - evidential_success: 46.7875 - evidential_fail: 1.8660 - acc: 0.7147 - annealing_coef: 0.2208 - global_step_get: 828.0000 - annealing_step_get: 3750.0000 - val_loss: 0.1028 - val_accuracy: 0.7377 - val_KL_term: 0.0327 - val_loglikelihood_term: 0.2740 - val_evidential_success: 35.5733 - val_evidential_fail: 1.9153 - val_acc: 0.7391 - val_annealing_coef: 0.4416 - val_global_step_get: 1656.0000 - val_annealing_step_get: 3750.0000\n",
      "\n",
      "Epoch 00006: val_loss did not improve from 0.10116\n",
      "Epoch 7/100\n",
      "self.global_step 1656.0\n",
      "277/277 [==============================] - 24s 88ms/step - loss: 0.1062 - accuracy: 0.7162 - KL_term: 0.0185 - loglikelihood_term: 0.3001 - evidential_success: 48.7775 - evidential_fail: 1.6352 - acc: 0.7162 - annealing_coef: 0.2576 - global_step_get: 966.0000 - annealing_step_get: 3750.0000 - val_loss: 0.1044 - val_accuracy: 0.7328 - val_KL_term: 0.0356 - val_loglikelihood_term: 0.2755 - val_evidential_success: 40.3485 - val_evidential_fail: 2.0417 - val_acc: 0.7344 - val_annealing_coef: 0.5152 - val_global_step_get: 1932.0000 - val_annealing_step_get: 3750.0000\n",
      "\n",
      "Epoch 00007: val_loss did not improve from 0.10116\n",
      "Epoch 8/100\n",
      "self.global_step 1932.0\n",
      "277/277 [==============================] - 25s 89ms/step - loss: 0.1054 - accuracy: 0.7159 - KL_term: 0.0178 - loglikelihood_term: 0.2985 - evidential_success: 49.0952 - evidential_fail: 1.4105 - acc: 0.7157 - annealing_coef: 0.2944 - global_step_get: 1104.0000 - annealing_step_get: 3750.0000 - val_loss: 0.1154 - val_accuracy: 0.7266 - val_KL_term: 0.0565 - val_loglikelihood_term: 0.2869 - val_evidential_success: 44.3627 - val_evidential_fail: 2.2829 - val_acc: 0.7283 - val_annealing_coef: 0.5888 - val_global_step_get: 2208.0000 - val_annealing_step_get: 3750.0000\n",
      "\n",
      "Epoch 00008: val_loss did not improve from 0.10116\n",
      "Epoch 9/100\n",
      "self.global_step 2208.0\n",
      "277/277 [==============================] - 24s 88ms/step - loss: 0.1039 - accuracy: 0.7159 - KL_term: 0.0159 - loglikelihood_term: 0.2959 - evidential_success: 54.0475 - evidential_fail: 1.2984 - acc: 0.7157 - annealing_coef: 0.3312 - global_step_get: 1242.0000 - annealing_step_get: 3750.0000 - val_loss: 0.1086 - val_accuracy: 0.7241 - val_KL_term: 0.0375 - val_loglikelihood_term: 0.2863 - val_evidential_success: 41.6813 - val_evidential_fail: 1.5911 - val_acc: 0.7259 - val_annealing_coef: 0.6624 - val_global_step_get: 2484.0000 - val_annealing_step_get: 3750.0000\n",
      "\n",
      "Epoch 00009: val_loss did not improve from 0.10116\n",
      "Epoch 10/100\n",
      "self.global_step 2484.0\n",
      "277/277 [==============================] - 24s 87ms/step - loss: 0.1015 - accuracy: 0.7186 - KL_term: 0.0141 - loglikelihood_term: 0.2904 - evidential_success: 59.7592 - evidential_fail: 0.9004 - acc: 0.7183 - annealing_coef: 0.3680 - global_step_get: 1380.0000 - annealing_step_get: 3750.0000 - val_loss: 0.1116 - val_accuracy: 0.7255 - val_KL_term: 0.0504 - val_loglikelihood_term: 0.2820 - val_evidential_success: 46.7262 - val_evidential_fail: 2.1793 - val_acc: 0.7272 - val_annealing_coef: 0.7360 - val_global_step_get: 2760.0000 - val_annealing_step_get: 3750.0000\n",
      "\n",
      "Epoch 00010: val_loss did not improve from 0.10116\n",
      "Epoch 11/100\n",
      "self.global_step 2760.0\n",
      "277/277 [==============================] - 24s 87ms/step - loss: 0.1015 - accuracy: 0.7175 - KL_term: 0.0143 - loglikelihood_term: 0.2901 - evidential_success: 63.1212 - evidential_fail: 0.8588 - acc: 0.7176 - annealing_coef: 0.4048 - global_step_get: 1518.0000 - annealing_step_get: 3750.0000 - val_loss: 0.1231 - val_accuracy: 0.7313 - val_KL_term: 0.0840 - val_loglikelihood_term: 0.2819 - val_evidential_success: 55.6401 - val_evidential_fail: 3.1422 - val_acc: 0.7329 - val_annealing_coef: 0.8096 - val_global_step_get: 3036.0000 - val_annealing_step_get: 3750.0000\n",
      "\n",
      "Epoch 00011: val_loss did not improve from 0.10116\n",
      "Epoch 12/100\n",
      "self.global_step 3036.0\n",
      "277/277 [==============================] - 24s 88ms/step - loss: 0.1008 - accuracy: 0.7202 - KL_term: 0.0149 - loglikelihood_term: 0.2876 - evidential_success: 65.7901 - evidential_fail: 0.7791 - acc: 0.7201 - annealing_coef: 0.4416 - global_step_get: 1656.0000 - annealing_step_get: 3750.0000 - val_loss: 0.1147 - val_accuracy: 0.7324 - val_KL_term: 0.0692 - val_loglikelihood_term: 0.2721 - val_evidential_success: 60.4954 - val_evidential_fail: 2.8884 - val_acc: 0.7339 - val_annealing_coef: 0.8832 - val_global_step_get: 3312.0000 - val_annealing_step_get: 3750.0000\n",
      "\n",
      "Epoch 00012: val_loss did not improve from 0.10116\n",
      "Epoch 13/100\n",
      "self.global_step 3312.0\n",
      "277/277 [==============================] - 24s 88ms/step - loss: 0.1005 - accuracy: 0.7195 - KL_term: 0.0145 - loglikelihood_term: 0.2872 - evidential_success: 67.7728 - evidential_fail: 0.7333 - acc: 0.7195 - annealing_coef: 0.4784 - global_step_get: 1794.0000 - annealing_step_get: 3750.0000 - val_loss: 0.1371 - val_accuracy: 0.7302 - val_KL_term: 0.1220 - val_loglikelihood_term: 0.2846 - val_evidential_success: 65.5047 - val_evidential_fail: 3.9572 - val_acc: 0.7319 - val_annealing_coef: 0.9568 - val_global_step_get: 3588.0000 - val_annealing_step_get: 3750.0000\n",
      "\n",
      "Epoch 00013: val_loss did not improve from 0.10116\n",
      "Epoch 14/100\n",
      "self.global_step 3588.0\n",
      "277/277 [==============================] - 24s 87ms/step - loss: 0.1004 - accuracy: 0.7201 - KL_term: 0.0150 - loglikelihood_term: 0.2863 - evidential_success: 68.9730 - evidential_fail: 0.7419 - acc: 0.7201 - annealing_coef: 0.5147 - global_step_get: 1932.0000 - annealing_step_get: 3750.0000 - val_loss: 0.1250 - val_accuracy: 0.7255 - val_KL_term: 0.0907 - val_loglikelihood_term: 0.2810 - val_evidential_success: 65.2173 - val_evidential_fail: 3.1845 - val_acc: 0.7272 - val_annealing_coef: 1.0000 - val_global_step_get: 3864.0000 - val_annealing_step_get: 3750.0000\n",
      "\n",
      "Epoch 00014: val_loss did not improve from 0.10116\n",
      "Epoch 15/100\n",
      "self.global_step 3864.0\n",
      "277/277 [==============================] - 24s 87ms/step - loss: 0.1006 - accuracy: 0.7193 - KL_term: 0.0149 - loglikelihood_term: 0.2869 - evidential_success: 69.6584 - evidential_fail: 0.6440 - acc: 0.7192 - annealing_coef: 0.5469 - global_step_get: 2070.0000 - annealing_step_get: 3750.0000 - val_loss: 0.1486 - val_accuracy: 0.7235 - val_KL_term: 0.1458 - val_loglikelihood_term: 0.2945 - val_evidential_success: 68.7739 - val_evidential_fail: 4.3343 - val_acc: 0.7253 - val_annealing_coef: 1.0000 - val_global_step_get: 4140.0000 - val_annealing_step_get: 3750.0000\n",
      "\n",
      "Epoch 00015: val_loss did not improve from 0.10116\n",
      "Epoch 00015: early stopping\n",
      "-5.0 -12.0\n"
     ]
    },
    {
     "name": "stderr",
     "output_type": "stream",
     "text": [
      "ic| self.path_models+ '/' + self.method +'_'+str(0)+'.h5': 'D:/Jorge/datasets/deforestation/experiments/MT/exp175/models/resunet_0.h5'\n"
     ]
    },
    {
     "name": "stdout",
     "output_type": "stream",
     "text": [
      "time:  0\n",
      "(39774655,)\n",
      "(array([0, 1], dtype=uint8), array([39234711,   539944], dtype=int64))\n",
      "(16795, 10420)\n",
      "(array([0.], dtype=float32), array([175003900], dtype=int64))\n"
     ]
    },
    {
     "name": "stderr",
     "output_type": "stream",
     "text": [
      "ic| self.predicted_unpad.shape: (16795, 10420)\n",
      "    self.predicted.shape: (16795, 10420)\n",
      "ic| predicted_test.shape: (70001560,)\n",
      "ic| predicted_test.shape: (39774655,)\n",
      "ic| np.unique(predicted, return_counts=True): (array([0.], dtype=float32), array([175003900], dtype=int64))\n",
      "    np.unique(predicted_larger_than_min_area, return_counts=True): (array([0.], dtype=float32), array([175003900], dtype=int64))\n",
      "ic| np.unique(ignored_polygons, return_counts=True): (array([0.], dtype=float32), array([175003900], dtype=int64))\n",
      "c:\\Users\\jchamorro\\Anaconda3\\envs\\tf2\\lib\\site-packages\\sklearn\\metrics\\_classification.py:1327: UndefinedMetricWarning: Precision is ill-defined and being set to 0.0 due to no predicted samples. Use `zero_division` parameter to control this behavior.\n",
      "  _warn_prf(average, modifier, msg_start, len(result))\n",
      "ic| self.f1: 0.0, self.precision: 0.0, self.recall: 0.0\n",
      "ic| self.label_mask_val.shape: (21000468,)\n",
      "ic| self.label_mask_val_valid.shape: (10906966,)\n",
      "c:\\Users\\jchamorro\\Anaconda3\\envs\\tf2\\lib\\site-packages\\sklearn\\metrics\\_classification.py:1327: UndefinedMetricWarning: Precision is ill-defined and being set to 0.0 due to no predicted samples. Use `zero_division` parameter to control this behavior.\n",
      "  _warn_prf(average, modifier, msg_start, len(result))\n",
      "ic| f1_val: 0.0, precision_val: 0.0, recall_val: 0.0, mAP_val: 77.75\n"
     ]
    },
    {
     "name": "stdout",
     "output_type": "stream",
     "text": [
      "(array([0., 1.], dtype=float32), array([173103734,   1900166], dtype=int64))\n",
      "[0.]\n"
     ]
    },
    {
     "name": "stderr",
     "output_type": "stream",
     "text": [
      "ic| self.label_mask.shape: (16795, 10420)\n",
      "ic| self.mask_amazon_ts.shape: (16795, 10420)\n",
      "ic| self.label_mask_test.shape: (70001560,)\n",
      "ic| self.error_mask_test.shape: (39774655,)\n",
      "ic| bounds: (0.0015, 0.9985)\n",
      "c:\\Users\\jchamorro\\Anaconda3\\envs\\tf2\\lib\\site-packages\\scipy\\optimize\\_minimize.py:783: RuntimeWarning: Method 'bounded' does not support relative tolerance in x; defaulting to absolute tolerance.\n",
      "  warn(\"Method 'bounded' does not support relative tolerance in x; \"\n"
     ]
    },
    {
     "name": "stdout",
     "output_type": "stream",
     "text": [
      "0.38232011321635484\n",
      "threshold 0.38232011321635484\n",
      "(37864426,) (37864426,)\n"
     ]
    },
    {
     "name": "stderr",
     "output_type": "stream",
     "text": [
      "ic| label_current_deforestation_test_classified_incorrect.shape: (1910229,)\n",
      "    predicted_test_classified_incorrect.shape: (1910229,)\n"
     ]
    },
    {
     "name": "stdout",
     "output_type": "stream",
     "text": [
      "cm_correct [[37814821        0]\n",
      " [   49605        0]]\n"
     ]
    },
    {
     "name": "stderr",
     "output_type": "stream",
     "text": [
      "d:\\Jorge\\deforestation_uncertainty\\src\\metrics.py:292: RuntimeWarning: invalid value encountered in longlong_scalars\n",
      "  precision_L = TP_L / (TP_L + FP_L)\n",
      "d:\\Jorge\\deforestation_uncertainty\\src\\metrics.py:295: RuntimeWarning: invalid value encountered in longlong_scalars\n",
      "  precision_H = TP_H / (TP_H + FP_H)\n",
      "ic| TP_H + FN_H + FP_H + TN_H: 1910229\n",
      "    len(label_mask_current_deforestation_test): 39774655\n",
      "ic| TP_H + FN_H + FP_H + TN_H: 1910229\n",
      "    len(label_mask_current_deforestation_test): 39774655\n"
     ]
    },
    {
     "name": "stdout",
     "output_type": "stream",
     "text": [
      "cm_incorrect [[1419890       0]\n",
      " [ 490339       0]]\n",
      "[       nan 0.         0.         0.04802629        nan 0.        ]\n",
      "0.6176798867836452\n",
      "threshold 0.6176798867836452\n",
      "(38669539,) (38669539,)\n"
     ]
    },
    {
     "name": "stderr",
     "output_type": "stream",
     "text": [
      "ic| label_current_deforestation_test_classified_incorrect.shape: (1105116,)\n",
      "    predicted_test_classified_incorrect.shape: (1105116,)\n",
      "d:\\Jorge\\deforestation_uncertainty\\src\\metrics.py:292: RuntimeWarning: invalid value encountered in longlong_scalars\n",
      "  precision_L = TP_L / (TP_L + FP_L)\n",
      "d:\\Jorge\\deforestation_uncertainty\\src\\metrics.py:295: RuntimeWarning: invalid value encountered in longlong_scalars\n",
      "  precision_H = TP_H / (TP_H + FP_H)\n",
      "ic| TP_H + FN_H + FP_H + TN_H: 1105116\n",
      "    len(label_mask_current_deforestation_test): 39774655\n",
      "ic| TP_H + FN_H + FP_H + TN_H: 1105116\n",
      "    len(label_mask_current_deforestation_test): 39774655\n"
     ]
    },
    {
     "name": "stdout",
     "output_type": "stream",
     "text": [
      "cm_correct [[38606022        0]\n",
      " [   63517        0]]\n",
      "cm_incorrect [[628689      0]\n",
      " [476427      0]]\n",
      "[       nan 0.         0.         0.02778443        nan 0.        ]\n",
      "0.7631402264327096\n",
      "threshold 0.7631402264327096\n",
      "(38889929,) (38889929,)\n"
     ]
    },
    {
     "name": "stderr",
     "output_type": "stream",
     "text": [
      "ic| label_current_deforestation_test_classified_incorrect.shape: (884726,)\n",
      "    predicted_test_classified_incorrect.shape: (884726,)\n",
      "d:\\Jorge\\deforestation_uncertainty\\src\\metrics.py:292: RuntimeWarning: invalid value encountered in longlong_scalars\n",
      "  precision_L = TP_L / (TP_L + FP_L)\n",
      "d:\\Jorge\\deforestation_uncertainty\\src\\metrics.py:295: RuntimeWarning: invalid value encountered in longlong_scalars\n",
      "  precision_H = TP_H / (TP_H + FP_H)\n",
      "ic| TP_H + FN_H + FP_H + TN_H: 884726\n",
      "    len(label_mask_current_deforestation_test): 39774655\n",
      "ic| TP_H + FN_H + FP_H + TN_H: 884726\n",
      "    len(label_mask_current_deforestation_test): 39774655\n"
     ]
    },
    {
     "name": "stdout",
     "output_type": "stream",
     "text": [
      "cm_correct [[38818651        0]\n",
      " [   71278        0]]\n",
      "cm_incorrect [[416060      0]\n",
      " [468666      0]]\n",
      "[       nan 0.         0.         0.02224346        nan 0.        ]\n",
      "0.6215085765936571\n",
      "threshold 0.6215085765936571\n",
      "(38677593,) (38677593,)\n"
     ]
    },
    {
     "name": "stderr",
     "output_type": "stream",
     "text": [
      "ic| label_current_deforestation_test_classified_incorrect.shape: (1097062,)\n",
      "    predicted_test_classified_incorrect.shape: (1097062,)\n",
      "d:\\Jorge\\deforestation_uncertainty\\src\\metrics.py:292: RuntimeWarning: invalid value encountered in longlong_scalars\n",
      "  precision_L = TP_L / (TP_L + FP_L)\n",
      "d:\\Jorge\\deforestation_uncertainty\\src\\metrics.py:295: RuntimeWarning: invalid value encountered in longlong_scalars\n",
      "  precision_H = TP_H / (TP_H + FP_H)\n",
      "ic| TP_H + FN_H + FP_H + TN_H: 1097062\n",
      "    len(label_mask_current_deforestation_test): 39774655\n",
      "ic| TP_H + FN_H + FP_H + TN_H: 1097062\n",
      "    len(label_mask_current_deforestation_test): 39774655\n"
     ]
    },
    {
     "name": "stdout",
     "output_type": "stream",
     "text": [
      "cm_correct [[38613896        0]\n",
      " [   63697        0]]\n",
      "cm_incorrect [[620815      0]\n",
      " [476247      0]]\n",
      "[       nan 0.         0.         0.02758194        nan 0.        ]\n",
      "0.5277804528654193\n",
      "threshold 0.5277804528654193\n",
      "(38431864,) (38431864,)\n"
     ]
    },
    {
     "name": "stderr",
     "output_type": "stream",
     "text": [
      "ic| label_current_deforestation_test_classified_incorrect.shape: (1342791,)\n",
      "    predicted_test_classified_incorrect.shape: (1342791,)\n",
      "d:\\Jorge\\deforestation_uncertainty\\src\\metrics.py:292: RuntimeWarning: invalid value encountered in longlong_scalars\n",
      "  precision_L = TP_L / (TP_L + FP_L)\n",
      "d:\\Jorge\\deforestation_uncertainty\\src\\metrics.py:295: RuntimeWarning: invalid value encountered in longlong_scalars\n",
      "  precision_H = TP_H / (TP_H + FP_H)\n",
      "ic| TP_H + FN_H + FP_H + TN_H: 1342791\n",
      "    len(label_mask_current_deforestation_test): 39774655\n",
      "ic| TP_H + FN_H + FP_H + TN_H: 1342791\n",
      "    len(label_mask_current_deforestation_test): 39774655\n"
     ]
    },
    {
     "name": "stdout",
     "output_type": "stream",
     "text": [
      "cm_correct [[38372806        0]\n",
      " [   59058        0]]\n",
      "cm_incorrect [[861905      0]\n",
      " [480886      0]]\n",
      "[       nan 0.         0.         0.03375997        nan 0.        ]\n",
      "0.5842203846445098\n",
      "threshold 0.5842203846445098\n",
      "(38592192,) (38592192,)\n"
     ]
    },
    {
     "name": "stderr",
     "output_type": "stream",
     "text": [
      "ic| label_current_deforestation_test_classified_incorrect.shape: (1182463,)\n",
      "    predicted_test_classified_incorrect.shape: (1182463,)\n",
      "d:\\Jorge\\deforestation_uncertainty\\src\\metrics.py:292: RuntimeWarning: invalid value encountered in longlong_scalars\n",
      "  precision_L = TP_L / (TP_L + FP_L)\n",
      "d:\\Jorge\\deforestation_uncertainty\\src\\metrics.py:295: RuntimeWarning: invalid value encountered in longlong_scalars\n",
      "  precision_H = TP_H / (TP_H + FP_H)\n",
      "ic| TP_H + FN_H + FP_H + TN_H: 1182463\n",
      "    len(label_mask_current_deforestation_test): 39774655\n",
      "ic| TP_H + FN_H + FP_H + TN_H: 1182463\n",
      "    len(label_mask_current_deforestation_test): 39774655\n"
     ]
    },
    {
     "name": "stdout",
     "output_type": "stream",
     "text": [
      "cm_correct [[38530291        0]\n",
      " [   61901        0]]\n",
      "cm_incorrect [[704420      0]\n",
      " [478043      0]]\n",
      "[       nan 0.         0.         0.02972906        nan 0.        ]\n",
      "0.5626622490276225\n",
      "threshold 0.5626622490276225\n",
      "(38535077,) (38535077,)\n"
     ]
    },
    {
     "name": "stderr",
     "output_type": "stream",
     "text": [
      "ic| label_current_deforestation_test_classified_incorrect.shape: (1239578,)\n",
      "    predicted_test_classified_incorrect.shape: (1239578,)\n",
      "d:\\Jorge\\deforestation_uncertainty\\src\\metrics.py:292: RuntimeWarning: invalid value encountered in longlong_scalars\n",
      "  precision_L = TP_L / (TP_L + FP_L)\n",
      "d:\\Jorge\\deforestation_uncertainty\\src\\metrics.py:295: RuntimeWarning: invalid value encountered in longlong_scalars\n",
      "  precision_H = TP_H / (TP_H + FP_H)\n",
      "ic| TP_H + FN_H + FP_H + TN_H: 1239578\n",
      "    len(label_mask_current_deforestation_test): 39774655\n",
      "ic| TP_H + FN_H + FP_H + TN_H: 1239578\n",
      "    len(label_mask_current_deforestation_test): 39774655\n"
     ]
    },
    {
     "name": "stdout",
     "output_type": "stream",
     "text": [
      "cm_correct [[38474243        0]\n",
      " [   60834        0]]\n",
      "cm_incorrect [[760468      0]\n",
      " [479110      0]]\n",
      "[       nan 0.         0.         0.03116502        nan 0.        ]\n",
      "0.584896787558068\n",
      "threshold 0.584896787558068\n",
      "(38593922,) (38593922,)\n"
     ]
    },
    {
     "name": "stderr",
     "output_type": "stream",
     "text": [
      "ic| label_current_deforestation_test_classified_incorrect.shape: (1180733,)\n",
      "    predicted_test_classified_incorrect.shape: (1180733,)\n",
      "d:\\Jorge\\deforestation_uncertainty\\src\\metrics.py:292: RuntimeWarning: invalid value encountered in longlong_scalars\n",
      "  precision_L = TP_L / (TP_L + FP_L)\n",
      "d:\\Jorge\\deforestation_uncertainty\\src\\metrics.py:295: RuntimeWarning: invalid value encountered in longlong_scalars\n",
      "  precision_H = TP_H / (TP_H + FP_H)\n",
      "ic| TP_H + FN_H + FP_H + TN_H: 1180733\n",
      "    len(label_mask_current_deforestation_test): 39774655\n",
      "ic| TP_H + FN_H + FP_H + TN_H: 1180733\n",
      "    len(label_mask_current_deforestation_test): 39774655\n"
     ]
    },
    {
     "name": "stdout",
     "output_type": "stream",
     "text": [
      "cm_correct [[38531987        0]\n",
      " [   61935        0]]\n",
      "cm_incorrect [[702724      0]\n",
      " [478009      0]]\n",
      "[       nan 0.         0.         0.02968556        nan 0.        ]\n",
      "0.5778001905520411\n",
      "threshold 0.5778001905520411\n",
      "(38575720,) (38575720,)\n"
     ]
    },
    {
     "name": "stderr",
     "output_type": "stream",
     "text": [
      "ic| label_current_deforestation_test_classified_incorrect.shape: (1198935,)\n",
      "    predicted_test_classified_incorrect.shape: (1198935,)\n",
      "d:\\Jorge\\deforestation_uncertainty\\src\\metrics.py:292: RuntimeWarning: invalid value encountered in longlong_scalars\n",
      "  precision_L = TP_L / (TP_L + FP_L)\n",
      "d:\\Jorge\\deforestation_uncertainty\\src\\metrics.py:295: RuntimeWarning: invalid value encountered in longlong_scalars\n",
      "  precision_H = TP_H / (TP_H + FP_H)\n",
      "ic| TP_H + FN_H + FP_H + TN_H: 1198935\n",
      "    len(label_mask_current_deforestation_test): 39774655\n",
      "ic| TP_H + FN_H + FP_H + TN_H: 1198935\n",
      "    len(label_mask_current_deforestation_test): 39774655\n"
     ]
    },
    {
     "name": "stdout",
     "output_type": "stream",
     "text": [
      "cm_correct [[38514129        0]\n",
      " [   61591        0]]\n",
      "cm_incorrect [[720582      0]\n",
      " [478353      0]]\n",
      "[       nan 0.         0.         0.03014319        nan 0.        ]\n",
      "0.5720180114094217\n",
      "threshold 0.5720180114094217\n",
      "(38560659,) (38560659,)\n"
     ]
    },
    {
     "name": "stderr",
     "output_type": "stream",
     "text": [
      "ic| label_current_deforestation_test_classified_incorrect.shape: (1213996,)\n",
      "    predicted_test_classified_incorrect.shape: (1213996,)\n",
      "d:\\Jorge\\deforestation_uncertainty\\src\\metrics.py:292: RuntimeWarning: invalid value encountered in longlong_scalars\n",
      "  precision_L = TP_L / (TP_L + FP_L)\n",
      "d:\\Jorge\\deforestation_uncertainty\\src\\metrics.py:295: RuntimeWarning: invalid value encountered in longlong_scalars\n",
      "  precision_H = TP_H / (TP_H + FP_H)\n",
      "ic| TP_H + FN_H + FP_H + TN_H: 1213996\n",
      "    len(label_mask_current_deforestation_test): 39774655\n",
      "ic| TP_H + FN_H + FP_H + TN_H: 1213996\n",
      "    len(label_mask_current_deforestation_test): 39774655\n"
     ]
    },
    {
     "name": "stdout",
     "output_type": "stream",
     "text": [
      "cm_correct [[38499358        0]\n",
      " [   61301        0]]\n",
      "cm_incorrect [[735353      0]\n",
      " [478643      0]]\n",
      "[       nan 0.         0.         0.03052185        nan 0.        ]\n",
      "0.579420243851453\n",
      "threshold 0.579420243851453\n",
      "(38579913,) (38579913,)\n"
     ]
    },
    {
     "name": "stderr",
     "output_type": "stream",
     "text": [
      "ic| label_current_deforestation_test_classified_incorrect.shape: (1194742,)\n",
      "    predicted_test_classified_incorrect.shape: (1194742,)\n",
      "d:\\Jorge\\deforestation_uncertainty\\src\\metrics.py:292: RuntimeWarning: invalid value encountered in longlong_scalars\n",
      "  precision_L = TP_L / (TP_L + FP_L)\n",
      "d:\\Jorge\\deforestation_uncertainty\\src\\metrics.py:295: RuntimeWarning: invalid value encountered in longlong_scalars\n",
      "  precision_H = TP_H / (TP_H + FP_H)\n",
      "ic| TP_H + FN_H + FP_H + TN_H: 1194742\n",
      "    len(label_mask_current_deforestation_test): 39774655\n",
      "ic| TP_H + FN_H + FP_H + TN_H: 1194742\n",
      "    len(label_mask_current_deforestation_test): 39774655\n"
     ]
    },
    {
     "name": "stdout",
     "output_type": "stream",
     "text": [
      "cm_correct [[38518260        0]\n",
      " [   61653        0]]\n",
      "cm_incorrect [[716451      0]\n",
      " [478291      0]]\n",
      "[       nan 0.         0.         0.03003777        nan 0.        ]\n",
      "0.5804482311624308\n",
      "threshold 0.5804482311624308\n",
      "(38582638,) (38582638,)\n"
     ]
    },
    {
     "name": "stderr",
     "output_type": "stream",
     "text": [
      "ic| label_current_deforestation_test_classified_incorrect.shape: (1192017,)\n",
      "    predicted_test_classified_incorrect.shape: (1192017,)\n",
      "d:\\Jorge\\deforestation_uncertainty\\src\\metrics.py:292: RuntimeWarning: invalid value encountered in longlong_scalars\n",
      "  precision_L = TP_L / (TP_L + FP_L)\n",
      "d:\\Jorge\\deforestation_uncertainty\\src\\metrics.py:295: RuntimeWarning: invalid value encountered in longlong_scalars\n",
      "  precision_H = TP_H / (TP_H + FP_H)\n",
      "ic| TP_H + FN_H + FP_H + TN_H: 1192017\n",
      "    len(label_mask_current_deforestation_test): 39774655\n",
      "ic| TP_H + FN_H + FP_H + TN_H: 1192017\n",
      "    len(label_mask_current_deforestation_test): 39774655\n"
     ]
    },
    {
     "name": "stdout",
     "output_type": "stream",
     "text": [
      "cm_correct [[38520922        0]\n",
      " [   61716        0]]\n",
      "cm_incorrect [[713789      0]\n",
      " [478228      0]]\n",
      "[       nan 0.         0.         0.02996926        nan 0.        ]\n",
      "0.5800897773987141\n",
      "threshold 0.5800897773987141\n",
      "(38581640,) (38581640,)\n"
     ]
    },
    {
     "name": "stderr",
     "output_type": "stream",
     "text": [
      "ic| label_current_deforestation_test_classified_incorrect.shape: (1193015,)\n",
      "    predicted_test_classified_incorrect.shape: (1193015,)\n",
      "d:\\Jorge\\deforestation_uncertainty\\src\\metrics.py:292: RuntimeWarning: invalid value encountered in longlong_scalars\n",
      "  precision_L = TP_L / (TP_L + FP_L)\n",
      "d:\\Jorge\\deforestation_uncertainty\\src\\metrics.py:295: RuntimeWarning: invalid value encountered in longlong_scalars\n",
      "  precision_H = TP_H / (TP_H + FP_H)\n",
      "ic| TP_H + FN_H + FP_H + TN_H: 1193015\n",
      "    len(label_mask_current_deforestation_test): 39774655\n",
      "ic| TP_H + FN_H + FP_H + TN_H: 1193015\n",
      "    len(label_mask_current_deforestation_test): 39774655\n"
     ]
    },
    {
     "name": "stdout",
     "output_type": "stream",
     "text": [
      "cm_correct [[38519942        0]\n",
      " [   61698        0]]\n",
      "cm_incorrect [[714769      0]\n",
      " [478246      0]]\n",
      "[       nan 0.         0.         0.02999435        nan 0.        ]\n",
      "0.5799640402310084\n",
      "threshold 0.5799640402310084\n",
      "(38581295,) (38581295,)\n"
     ]
    },
    {
     "name": "stderr",
     "output_type": "stream",
     "text": [
      "ic| label_current_deforestation_test_classified_incorrect.shape: (1193360,)\n",
      "    predicted_test_classified_incorrect.shape: (1193360,)\n",
      "d:\\Jorge\\deforestation_uncertainty\\src\\metrics.py:292: RuntimeWarning: invalid value encountered in longlong_scalars\n",
      "  precision_L = TP_L / (TP_L + FP_L)\n",
      "d:\\Jorge\\deforestation_uncertainty\\src\\metrics.py:295: RuntimeWarning: invalid value encountered in longlong_scalars\n",
      "  precision_H = TP_H / (TP_H + FP_H)\n",
      "ic| TP_H + FN_H + FP_H + TN_H: 1193360\n",
      "    len(label_mask_current_deforestation_test): 39774655\n",
      "ic| TP_H + FN_H + FP_H + TN_H: 1193360\n",
      "    len(label_mask_current_deforestation_test): 39774655\n"
     ]
    },
    {
     "name": "stdout",
     "output_type": "stream",
     "text": [
      "cm_correct [[38519609        0]\n",
      " [   61686        0]]\n",
      "cm_incorrect [[715102      0]\n",
      " [478258      0]]\n",
      "[       nan 0.         0.         0.03000303        nan 0.        ]\n",
      "0.579924170296477\n",
      "threshold 0.579924170296477\n",
      "(38581203,) (38581203,)\n"
     ]
    },
    {
     "name": "stderr",
     "output_type": "stream",
     "text": [
      "ic| label_current_deforestation_test_classified_incorrect.shape: (1193452,)\n",
      "    predicted_test_classified_incorrect.shape: (1193452,)\n",
      "d:\\Jorge\\deforestation_uncertainty\\src\\metrics.py:292: RuntimeWarning: invalid value encountered in longlong_scalars\n",
      "  precision_L = TP_L / (TP_L + FP_L)\n",
      "d:\\Jorge\\deforestation_uncertainty\\src\\metrics.py:295: RuntimeWarning: invalid value encountered in longlong_scalars\n",
      "  precision_H = TP_H / (TP_H + FP_H)\n",
      "ic| TP_H + FN_H + FP_H + TN_H: 1193452\n",
      "    len(label_mask_current_deforestation_test): 39774655\n",
      "ic| TP_H + FN_H + FP_H + TN_H: 1193452\n",
      "    len(label_mask_current_deforestation_test): 39774655\n"
     ]
    },
    {
     "name": "stdout",
     "output_type": "stream",
     "text": [
      "cm_correct [[38519520        0]\n",
      " [   61683        0]]\n",
      "cm_incorrect [[715191      0]\n",
      " [478261      0]]\n",
      "[       nan 0.         0.         0.03000534        nan 0.        ]\n",
      "0.58000501338285\n",
      "threshold 0.58000501338285\n",
      "(38581397,) (38581397,)\n"
     ]
    },
    {
     "name": "stderr",
     "output_type": "stream",
     "text": [
      "ic| label_current_deforestation_test_classified_incorrect.shape: (1193258,)\n",
      "    predicted_test_classified_incorrect.shape: (1193258,)\n",
      "d:\\Jorge\\deforestation_uncertainty\\src\\metrics.py:292: RuntimeWarning: invalid value encountered in longlong_scalars\n",
      "  precision_L = TP_L / (TP_L + FP_L)\n",
      "d:\\Jorge\\deforestation_uncertainty\\src\\metrics.py:295: RuntimeWarning: invalid value encountered in longlong_scalars\n",
      "  precision_H = TP_H / (TP_H + FP_H)\n",
      "ic| TP_H + FN_H + FP_H + TN_H: 1193258\n",
      "    len(label_mask_current_deforestation_test): 39774655\n",
      "ic| TP_H + FN_H + FP_H + TN_H: 1193258\n",
      "    len(label_mask_current_deforestation_test): 39774655\n"
     ]
    },
    {
     "name": "stdout",
     "output_type": "stream",
     "text": [
      "cm_correct [[38519706        0]\n",
      " [   61691        0]]\n",
      "cm_incorrect [[715005      0]\n",
      " [478253      0]]\n",
      "[       nan 0.         0.         0.03000046        nan 0.        ]\n",
      "0.580038355319048\n",
      "threshold 0.580038355319048\n",
      "(38581491,) (38581491,)\n"
     ]
    },
    {
     "name": "stderr",
     "output_type": "stream",
     "text": [
      "ic| label_current_deforestation_test_classified_incorrect.shape: (1193164,)\n",
      "    predicted_test_classified_incorrect.shape: (1193164,)\n",
      "d:\\Jorge\\deforestation_uncertainty\\src\\metrics.py:292: RuntimeWarning: invalid value encountered in longlong_scalars\n",
      "  precision_L = TP_L / (TP_L + FP_L)\n",
      "d:\\Jorge\\deforestation_uncertainty\\src\\metrics.py:295: RuntimeWarning: invalid value encountered in longlong_scalars\n",
      "  precision_H = TP_H / (TP_H + FP_H)\n",
      "ic| TP_H + FN_H + FP_H + TN_H: 1193164\n",
      "    len(label_mask_current_deforestation_test): 39774655\n",
      "ic| TP_H + FN_H + FP_H + TN_H: 1193164\n",
      "    len(label_mask_current_deforestation_test): 39774655\n"
     ]
    },
    {
     "name": "stdout",
     "output_type": "stream",
     "text": [
      "cm_correct [[38519798        0]\n",
      " [   61693        0]]\n",
      "cm_incorrect [[714913      0]\n",
      " [478251      0]]\n",
      "[      nan 0.        0.        0.0299981       nan 0.       ]\n"
     ]
    },
    {
     "name": "stderr",
     "output_type": "stream",
     "text": [
      "ic| self.threshold_optimal: 0.58000501338285\n"
     ]
    },
    {
     "name": "stdout",
     "output_type": "stream",
     "text": [
      "threshold 0.58000501338285\n",
      "(38581397,) (38581397,)\n"
     ]
    },
    {
     "name": "stderr",
     "output_type": "stream",
     "text": [
      "ic| label_current_deforestation_test_classified_incorrect.shape: (1193258,)\n",
      "    predicted_test_classified_incorrect.shape: (1193258,)\n",
      "d:\\Jorge\\deforestation_uncertainty\\src\\metrics.py:292: RuntimeWarning: invalid value encountered in longlong_scalars\n",
      "  precision_L = TP_L / (TP_L + FP_L)\n",
      "d:\\Jorge\\deforestation_uncertainty\\src\\metrics.py:295: RuntimeWarning: invalid value encountered in longlong_scalars\n",
      "  precision_H = TP_H / (TP_H + FP_H)\n",
      "ic| TP_H + FN_H + FP_H + TN_H: 1193258\n",
      "    len(label_mask_current_deforestation_test): 39774655\n",
      "ic| TP_H + FN_H + FP_H + TN_H: 1193258\n",
      "    len(label_mask_current_deforestation_test): 39774655\n"
     ]
    },
    {
     "name": "stdout",
     "output_type": "stream",
     "text": [
      "cm_correct [[38519706        0]\n",
      " [   61691        0]]\n",
      "cm_incorrect [[715005      0]\n",
      " [478253      0]]\n",
      "[       nan 0.         0.         0.03000046        nan 0.        ]\n",
      "threshold 0.58000501338285\n",
      "(39774655,) (39774655,)\n"
     ]
    },
    {
     "name": "stderr",
     "output_type": "stream",
     "text": [
      "ic| self.m_optimal: {'AA': array([0.03000046]),\n",
      "                     'f1': 0.0,\n",
      "                     'f1_H': array([nan]),\n",
      "                     'f1_L': array([nan]),\n",
      "                     'precision_H': array([nan]),\n",
      "                     'precision_L': array([nan]),\n",
      "                     'recall_H': array([0.]),\n",
      "                     'recall_L': array([0.]),\n",
      "                     'recall_Ltotal': array([0.])}\n",
      "ic| self.m_audited_optimal: {'f1': array([0.93941153]),\n",
      "                             'precision': array([1.]),\n",
      "                             'recall': array([0.88574556])}\n"
     ]
    },
    {
     "name": "stdout",
     "output_type": "stream",
     "text": [
      "cm_audited [[39234711        0]\n",
      " [   61691   478253]]\n",
      "[1.         0.88574556]\n",
      "D:/Jorge/datasets/deforestation/MT/deforestation_past_years.tif\n",
      "Loaded deforestation past years\n"
     ]
    },
    {
     "name": "stderr",
     "output_type": "stream",
     "text": [
      "ic| np.unique(deforestation_past_years, return_counts=True): (array([   0, 2008, 2009, 2010, 2011, 2012, 2013, 2014, 2015, 2016, 2017,\n",
      "                                                                    2018, 2019, 2020, 2021], dtype=uint16),\n",
      "                                                              array([161124576,   1332784,    240796,    338545,    313901,    287191,\n",
      "                                                                       708581,    648966,    876898,   1007787,   1098901,   1054092,\n",
      "                                                                      2096062,   2473828,   1400992], dtype=int64))\n"
     ]
    },
    {
     "name": "stdout",
     "output_type": "stream",
     "text": [
      "Label where deforestation past years is actual date (2019) = 1\n"
     ]
    },
    {
     "name": "stderr",
     "output_type": "stream",
     "text": [
      "ic| np.unique(deforestation_past_years, return_counts=True): (array([   0, 2008, 2009, 2010, 2011, 2012, 2013, 2014, 2015, 2016, 2017,\n",
      "                                                                    2018, 2019, 2020, 2021], dtype=uint16),\n",
      "                                                              array([161124576,   1332784,    240796,    338545,    313901,    287191,\n",
      "                                                                       708581,    648966,    876898,   1007787,   1098901,   1054092,\n",
      "                                                                      2096062,   2473828,   1400992], dtype=int64))\n"
     ]
    },
    {
     "name": "stdout",
     "output_type": "stream",
     "text": [
      "Past deforestation different from 0 (no deforestation)\n"
     ]
    },
    {
     "name": "stderr",
     "output_type": "stream",
     "text": [
      "ic| np.unique(deforestation_past_years, return_counts=True): (array([   0, 2008, 2009, 2010, 2011, 2012, 2013, 2014, 2015, 2016, 2017,\n",
      "                                                                    2018, 2019, 2020, 2021], dtype=uint16),\n",
      "                                                              array([161124576,   1332784,    240796,    338545,    313901,    287191,\n",
      "                                                                       708581,    648966,    876898,   1007787,   1098901,   1054092,\n",
      "                                                                      2096062,   2473828,   1400992], dtype=int64))\n"
     ]
    },
    {
     "name": "stdout",
     "output_type": "stream",
     "text": [
      "Past deforestation before 2008 is 2\n",
      "D:/Jorge/datasets/deforestation/MT/deforestation_before_2008/deforestation_before_2008_MT.tif\n"
     ]
    },
    {
     "name": "stderr",
     "output_type": "stream",
     "text": [
      "ic| np.unique(label_past_deforestation_before_2008, return_counts=True): (array([  0, 215], dtype=uint8), array([122623260,  52380640], dtype=int64))\n",
      "ic| np.unique(deforestation_past_years, return_counts=True): (array([   0, 2008, 2009, 2010, 2011, 2012, 2013, 2014, 2015, 2016, 2017,\n",
      "                                                                    2018, 2019, 2020, 2021], dtype=uint16),\n",
      "                                                              array([161124576,   1332784,    240796,    338545,    313901,    287191,\n",
      "                                                                       708581,    648966,    876898,   1007787,   1098901,   1054092,\n",
      "                                                                      2096062,   2473828,   1400992], dtype=int64))\n",
      "ic| label_per_date.shape: (16795, 10420, 1)\n"
     ]
    },
    {
     "name": "stdout",
     "output_type": "stream",
     "text": [
      "Mask label shape:  \n",
      " (16795, 10420, 1) \n",
      " Unique values:  \n",
      " [0 1 2]\n",
      "Tiles size:  3359 2084\n",
      "Mask size:  (16795, 10420)\n"
     ]
    },
    {
     "name": "stderr",
     "output_type": "stream",
     "text": [
      "ic| image_stack.shape: (16795, 10420, 21)\n"
     ]
    },
    {
     "name": "stdout",
     "output_type": "stream",
     "text": [
      "Image shape:  (16795, 10420, 21)\n",
      "mask:  (16795, 10420)\n",
      "image stack:  (16795, 10420, 21)\n",
      "ref : (16795, 10420, 1)\n",
      "Training tiles:  [2, 4, 5, 6, 7, 12, 14, 15, 18, 21, 23, 24]\n",
      "Validation tiles:  [9, 11, 25]\n",
      "Test tiles:  [1, 3, 8, 10, 13, 16, 17, 19, 20, 22]\n"
     ]
    },
    {
     "name": "stderr",
     "output_type": "stream",
     "text": [
      "ic| im_idx_row.shape: (16795, 10420, 1)\n",
      "    im_idx_col.shape: (16795, 10420, 1)\n",
      "ic| im_idx_row.dtype: dtype('uint16')\n",
      "    im_idx_col.dtype: dtype('uint16')\n",
      "ic| im_idx.shape: (16795, 10420, 2), im_idx.dtype: dtype('uint16')\n",
      "ic| coords.shape: (439, 271, 1, 128, 128, 2)\n",
      "    coords.dtype: dtype('uint16')\n",
      "ic| coords.shape: (118969, 2), coords.dtype: dtype('uint16')\n",
      "ic| self.coords_train.shape: (54516, 3)\n",
      "    self.coords_val.shape: (13175, 3)\n"
     ]
    },
    {
     "name": "stdout",
     "output_type": "stream",
     "text": [
      "training samples:  (2962, 3) validation samples:  (623, 3)\n",
      "time:  0\n",
      "Model: \"model_2\"\n",
      "__________________________________________________________________________________________________\n",
      "Layer (type)                    Output Shape         Param #     Connected to                     \n",
      "==================================================================================================\n",
      "input_enc_net (InputLayer)      [(None, 128, 128, 21 0                                            \n",
      "__________________________________________________________________________________________________\n",
      "res1_net1 (Conv2D)              (None, 128, 128, 16) 3040        input_enc_net[0][0]              \n",
      "__________________________________________________________________________________________________\n",
      "drop_net1 (Dropout)             (None, 128, 128, 16) 0           res1_net1[0][0]                  \n",
      "__________________________________________________________________________________________________\n",
      "res2_net1 (Conv2D)              (None, 128, 128, 16) 2320        drop_net1[0][0]                  \n",
      "__________________________________________________________________________________________________\n",
      "res3_net1 (Conv2D)              (None, 128, 128, 16) 352         input_enc_net[0][0]              \n",
      "__________________________________________________________________________________________________\n",
      "add_12 (Add)                    (None, 128, 128, 16) 0           res2_net1[0][0]                  \n",
      "                                                                 res3_net1[0][0]                  \n",
      "__________________________________________________________________________________________________\n",
      "pool_net1 (MaxPooling2D)        (None, 64, 64, 16)   0           add_12[0][0]                     \n",
      "__________________________________________________________________________________________________\n",
      "res1_net2 (Conv2D)              (None, 64, 64, 32)   4640        pool_net1[0][0]                  \n",
      "__________________________________________________________________________________________________\n",
      "drop_net2 (Dropout)             (None, 64, 64, 32)   0           res1_net2[0][0]                  \n",
      "__________________________________________________________________________________________________\n",
      "res2_net2 (Conv2D)              (None, 64, 64, 32)   9248        drop_net2[0][0]                  \n",
      "__________________________________________________________________________________________________\n",
      "res3_net2 (Conv2D)              (None, 64, 64, 32)   544         pool_net1[0][0]                  \n",
      "__________________________________________________________________________________________________\n",
      "add_13 (Add)                    (None, 64, 64, 32)   0           res2_net2[0][0]                  \n",
      "                                                                 res3_net2[0][0]                  \n",
      "__________________________________________________________________________________________________\n",
      "pool_net2 (MaxPooling2D)        (None, 32, 32, 32)   0           add_13[0][0]                     \n",
      "__________________________________________________________________________________________________\n",
      "res1_net3 (Conv2D)              (None, 32, 32, 64)   18496       pool_net2[0][0]                  \n",
      "__________________________________________________________________________________________________\n",
      "drop_net3 (Dropout)             (None, 32, 32, 64)   0           res1_net3[0][0]                  \n",
      "__________________________________________________________________________________________________\n",
      "res2_net3 (Conv2D)              (None, 32, 32, 64)   36928       drop_net3[0][0]                  \n",
      "__________________________________________________________________________________________________\n",
      "res3_net3 (Conv2D)              (None, 32, 32, 64)   2112        pool_net2[0][0]                  \n",
      "__________________________________________________________________________________________________\n",
      "add_14 (Add)                    (None, 32, 32, 64)   0           res2_net3[0][0]                  \n",
      "                                                                 res3_net3[0][0]                  \n",
      "__________________________________________________________________________________________________\n",
      "pool_net3 (MaxPooling2D)        (None, 16, 16, 64)   0           add_14[0][0]                     \n",
      "__________________________________________________________________________________________________\n",
      "res1_net4 (Conv2D)              (None, 16, 16, 64)   36928       pool_net3[0][0]                  \n",
      "__________________________________________________________________________________________________\n",
      "drop_net4 (Dropout)             (None, 16, 16, 64)   0           res1_net4[0][0]                  \n",
      "__________________________________________________________________________________________________\n",
      "res2_net4 (Conv2D)              (None, 16, 16, 64)   36928       drop_net4[0][0]                  \n",
      "__________________________________________________________________________________________________\n",
      "res3_net4 (Conv2D)              (None, 16, 16, 64)   4160        pool_net3[0][0]                  \n",
      "__________________________________________________________________________________________________\n",
      "add_15 (Add)                    (None, 16, 16, 64)   0           res2_net4[0][0]                  \n",
      "                                                                 res3_net4[0][0]                  \n",
      "__________________________________________________________________________________________________\n",
      "res1_net5 (Conv2D)              (None, 16, 16, 64)   36928       add_15[0][0]                     \n",
      "__________________________________________________________________________________________________\n",
      "drop_net5 (Dropout)             (None, 16, 16, 64)   0           res1_net5[0][0]                  \n",
      "__________________________________________________________________________________________________\n",
      "res2_net5 (Conv2D)              (None, 16, 16, 64)   36928       drop_net5[0][0]                  \n",
      "__________________________________________________________________________________________________\n",
      "res3_net5 (Conv2D)              (None, 16, 16, 64)   4160        add_15[0][0]                     \n",
      "__________________________________________________________________________________________________\n",
      "add_16 (Add)                    (None, 16, 16, 64)   0           res2_net5[0][0]                  \n",
      "                                                                 res3_net5[0][0]                  \n",
      "__________________________________________________________________________________________________\n",
      "res1_net6 (Conv2D)              (None, 16, 16, 64)   36928       add_16[0][0]                     \n",
      "__________________________________________________________________________________________________\n",
      "drop_net6 (Dropout)             (None, 16, 16, 64)   0           res1_net6[0][0]                  \n",
      "__________________________________________________________________________________________________\n",
      "res2_net6 (Conv2D)              (None, 16, 16, 64)   36928       drop_net6[0][0]                  \n",
      "__________________________________________________________________________________________________\n",
      "res3_net6 (Conv2D)              (None, 16, 16, 64)   4160        add_16[0][0]                     \n",
      "__________________________________________________________________________________________________\n",
      "add_17 (Add)                    (None, 16, 16, 64)   0           res2_net6[0][0]                  \n",
      "                                                                 res3_net6[0][0]                  \n",
      "__________________________________________________________________________________________________\n",
      "up_sampling2d_6 (UpSampling2D)  (None, 32, 32, 64)   0           add_17[0][0]                     \n",
      "__________________________________________________________________________________________________\n",
      "upsampling_net3 (Conv2D)        (None, 32, 32, 64)   36928       up_sampling2d_6[0][0]            \n",
      "__________________________________________________________________________________________________\n",
      "concatenate3 (Concatenate)      (None, 32, 32, 128)  0           add_14[0][0]                     \n",
      "                                                                 upsampling_net3[0][0]            \n",
      "__________________________________________________________________________________________________\n",
      "up_sampling2d_7 (UpSampling2D)  (None, 64, 64, 128)  0           concatenate3[0][0]               \n",
      "__________________________________________________________________________________________________\n",
      "upsampling_net2 (Conv2D)        (None, 64, 64, 32)   36896       up_sampling2d_7[0][0]            \n",
      "__________________________________________________________________________________________________\n",
      "concatenate2 (Concatenate)      (None, 64, 64, 64)   0           add_13[0][0]                     \n",
      "                                                                 upsampling_net2[0][0]            \n",
      "__________________________________________________________________________________________________\n",
      "up_sampling2d_8 (UpSampling2D)  (None, 128, 128, 64) 0           concatenate2[0][0]               \n",
      "__________________________________________________________________________________________________\n",
      "upsampling_net1 (Conv2D)        (None, 128, 128, 16) 9232        up_sampling2d_8[0][0]            \n",
      "__________________________________________________________________________________________________\n",
      "concatenate1 (Concatenate)      (None, 128, 128, 32) 0           add_12[0][0]                     \n",
      "                                                                 upsampling_net1[0][0]            \n",
      "__________________________________________________________________________________________________\n",
      "output (Conv2D)                 (None, 128, 128, 3)  99          concatenate1[0][0]               \n",
      "==================================================================================================\n",
      "Total params: 394,883\n",
      "Trainable params: 394,883\n",
      "Non-trainable params: 0\n",
      "__________________________________________________________________________________________________\n"
     ]
    },
    {
     "name": "stderr",
     "output_type": "stream",
     "text": [
      "c:\\Users\\jchamorro\\Anaconda3\\envs\\tf2\\lib\\site-packages\\tensorflow\\python\\keras\\optimizer_v2\\optimizer_v2.py:374: UserWarning: The `lr` argument is deprecated, use `learning_rate` instead.\n",
      "  warnings.warn(\n",
      "c:\\Users\\jchamorro\\Anaconda3\\envs\\tf2\\lib\\site-packages\\tensorflow\\python\\keras\\engine\\training.py:1969: UserWarning: `Model.fit_generator` is deprecated and will be removed in a future version. Please use `Model.fit`, which supports generators.\n",
      "  warnings.warn('`Model.fit_generator` is deprecated and '\n"
     ]
    },
    {
     "name": "stdout",
     "output_type": "stream",
     "text": [
      "Epoch 1/100\n",
      "self.global_step 0.0\n",
      "alpha Tensor(\"loss/add:0\", shape=(None, 128, 128, 3), dtype=float32)\n",
      "u Tensor(\"loss/truediv:0\", shape=(None, 128, 128, 1), dtype=float32)\n",
      "alpha Tensor(\"add:0\", shape=(None, 128, 128, 3), dtype=float32)\n",
      "u Tensor(\"truediv:0\", shape=(None, 128, 128, 1), dtype=float32)\n",
      "K.int_shape(KL_reg) Tensor(\"mul_6:0\", shape=(None, 128, 128, 1), dtype=float32)\n",
      "alpha Tensor(\"add_7:0\", shape=(None, 128, 128, 3), dtype=float32)\n",
      "u Tensor(\"truediv_5:0\", shape=(None, 128, 128, 1), dtype=float32)\n",
      "K.int_shape(KL_reg) Tensor(\"mul_12:0\", shape=(None, 128, 128, 1), dtype=float32)\n",
      "alpha Tensor(\"loss/add:0\", shape=(None, 128, 128, 3), dtype=float32)\n",
      "u Tensor(\"loss/truediv:0\", shape=(None, 128, 128, 1), dtype=float32)\n",
      "alpha Tensor(\"add:0\", shape=(None, 128, 128, 3), dtype=float32)\n",
      "u Tensor(\"truediv:0\", shape=(None, 128, 128, 1), dtype=float32)\n",
      "K.int_shape(KL_reg) Tensor(\"mul_6:0\", shape=(None, 128, 128, 1), dtype=float32)\n",
      "alpha Tensor(\"add_7:0\", shape=(None, 128, 128, 3), dtype=float32)\n",
      "u Tensor(\"truediv_5:0\", shape=(None, 128, 128, 1), dtype=float32)\n",
      "K.int_shape(KL_reg) Tensor(\"mul_12:0\", shape=(None, 128, 128, 1), dtype=float32)\n",
      "277/277 [==============================] - ETA: 0s - loss: 0.1200 - accuracy: 0.7804 - KL_term: 0.0142 - loglikelihood_term: 0.3459 - evidential_success: 16.5131 - evidential_fail: 8.9057 - acc: 0.7804 - annealing_coef: 0.0368 - global_step_get: 138.0000 - annealing_step_get: 3750.0000alpha Tensor(\"loss/add:0\", shape=(None, 128, 128, 3), dtype=float32)\n",
      "u Tensor(\"loss/truediv:0\", shape=(None, 128, 128, 1), dtype=float32)\n",
      "alpha Tensor(\"add:0\", shape=(None, 128, 128, 3), dtype=float32)\n",
      "u Tensor(\"truediv:0\", shape=(None, 128, 128, 1), dtype=float32)\n",
      "K.int_shape(KL_reg) Tensor(\"mul_6:0\", shape=(None, 128, 128, 1), dtype=float32)\n",
      "alpha Tensor(\"add_7:0\", shape=(None, 128, 128, 3), dtype=float32)\n",
      "u Tensor(\"truediv_5:0\", shape=(None, 128, 128, 1), dtype=float32)\n",
      "K.int_shape(KL_reg) Tensor(\"mul_12:0\", shape=(None, 128, 128, 1), dtype=float32)\n",
      "277/277 [==============================] - 27s 89ms/step - loss: 0.1200 - accuracy: 0.7804 - KL_term: 0.0142 - loglikelihood_term: 0.3459 - evidential_success: 16.5131 - evidential_fail: 8.9057 - acc: 0.7804 - annealing_coef: 0.0368 - global_step_get: 138.0000 - annealing_step_get: 3750.0000 - val_loss: 0.0636 - val_accuracy: 0.9129 - val_KL_term: 0.0106 - val_loglikelihood_term: 0.1796 - val_evidential_success: 14.1606 - val_evidential_fail: 6.5814 - val_acc: 0.9132 - val_annealing_coef: 0.0736 - val_global_step_get: 276.0000 - val_annealing_step_get: 3750.0000\n",
      "\n",
      "Epoch 00001: val_loss improved from inf to 0.06359, saving model to D:/Jorge/datasets/deforestation/experiments/MT/exp176/models\\resunet_0.h5\n"
     ]
    },
    {
     "name": "stderr",
     "output_type": "stream",
     "text": [
      "c:\\Users\\jchamorro\\Anaconda3\\envs\\tf2\\lib\\site-packages\\tensorflow\\python\\keras\\utils\\generic_utils.py:494: CustomMaskWarning: Custom mask layers require a config and must override get_config. When loading, the custom mask layer must be passed to the custom_objects argument.\n",
      "  warnings.warn('Custom mask layers require a config and must override '\n"
     ]
    },
    {
     "name": "stdout",
     "output_type": "stream",
     "text": [
      "Epoch 2/100\n",
      "self.global_step 276.0\n",
      "277/277 [==============================] - 23s 84ms/step - loss: 0.0695 - accuracy: 0.8891 - KL_term: 0.0200 - loglikelihood_term: 0.1883 - evidential_success: 27.6940 - evidential_fail: 12.8706 - acc: 0.8892 - annealing_coef: 0.0736 - global_step_get: 276.0000 - annealing_step_get: 3750.0000 - val_loss: 0.0577 - val_accuracy: 0.9225 - val_KL_term: 0.0178 - val_loglikelihood_term: 0.1550 - val_evidential_success: 16.3796 - val_evidential_fail: 6.0261 - val_acc: 0.9226 - val_annealing_coef: 0.1472 - val_global_step_get: 552.0000 - val_annealing_step_get: 3750.0000\n",
      "\n",
      "Epoch 00002: val_loss improved from 0.06359 to 0.05774, saving model to D:/Jorge/datasets/deforestation/experiments/MT/exp176/models\\resunet_0.h5\n",
      "Epoch 3/100\n",
      "self.global_step 552.0\n",
      "277/277 [==============================] - 23s 84ms/step - loss: 0.0646 - accuracy: 0.9008 - KL_term: 0.0221 - loglikelihood_term: 0.1718 - evidential_success: 28.3123 - evidential_fail: 10.9078 - acc: 0.9008 - annealing_coef: 0.1104 - global_step_get: 414.0000 - annealing_step_get: 3750.0000 - val_loss: 0.0546 - val_accuracy: 0.9283 - val_KL_term: 0.0225 - val_loglikelihood_term: 0.1407 - val_evidential_success: 19.2295 - val_evidential_fail: 5.4852 - val_acc: 0.9283 - val_annealing_coef: 0.2208 - val_global_step_get: 828.0000 - val_annealing_step_get: 3750.0000\n",
      "\n",
      "Epoch 00003: val_loss improved from 0.05774 to 0.05456, saving model to D:/Jorge/datasets/deforestation/experiments/MT/exp176/models\\resunet_0.h5\n",
      "Epoch 4/100\n",
      "self.global_step 828.0\n",
      "277/277 [==============================] - 23s 84ms/step - loss: 0.0608 - accuracy: 0.9093 - KL_term: 0.0233 - loglikelihood_term: 0.1593 - evidential_success: 31.0669 - evidential_fail: 9.8097 - acc: 0.9092 - annealing_coef: 0.1472 - global_step_get: 552.0000 - annealing_step_get: 3750.0000 - val_loss: 0.0634 - val_accuracy: 0.9202 - val_KL_term: 0.0373 - val_loglikelihood_term: 0.1523 - val_evidential_success: 22.7360 - val_evidential_fail: 6.3314 - val_acc: 0.9203 - val_annealing_coef: 0.2944 - val_global_step_get: 1104.0000 - val_annealing_step_get: 3750.0000\n",
      "\n",
      "Epoch 00004: val_loss did not improve from 0.05456\n",
      "Epoch 5/100\n",
      "self.global_step 1104.0\n",
      "277/277 [==============================] - 23s 84ms/step - loss: 0.0586 - accuracy: 0.9147 - KL_term: 0.0248 - loglikelihood_term: 0.1511 - evidential_success: 33.8400 - evidential_fail: 9.0553 - acc: 0.9147 - annealing_coef: 0.1840 - global_step_get: 690.0000 - annealing_step_get: 3750.0000 - val_loss: 0.0649 - val_accuracy: 0.9235 - val_KL_term: 0.0453 - val_loglikelihood_term: 0.1486 - val_evidential_success: 25.1257 - val_evidential_fail: 6.5645 - val_acc: 0.9236 - val_annealing_coef: 0.3680 - val_global_step_get: 1380.0000 - val_annealing_step_get: 3750.0000\n",
      "\n",
      "Epoch 00005: val_loss did not improve from 0.05456\n",
      "Epoch 6/100\n",
      "self.global_step 1380.0\n",
      "277/277 [==============================] - 23s 84ms/step - loss: 0.0571 - accuracy: 0.9185 - KL_term: 0.0261 - loglikelihood_term: 0.1452 - evidential_success: 35.2462 - evidential_fail: 8.2997 - acc: 0.9185 - annealing_coef: 0.2208 - global_step_get: 828.0000 - annealing_step_get: 3750.0000 - val_loss: 0.0554 - val_accuracy: 0.9341 - val_KL_term: 0.0406 - val_loglikelihood_term: 0.1249 - val_evidential_success: 28.1334 - val_evidential_fail: 5.6207 - val_acc: 0.9342 - val_annealing_coef: 0.4416 - val_global_step_get: 1656.0000 - val_annealing_step_get: 3750.0000\n",
      "\n",
      "Epoch 00006: val_loss did not improve from 0.05456\n",
      "Epoch 7/100\n",
      "self.global_step 1656.0\n",
      "277/277 [==============================] - 23s 83ms/step - loss: 0.0561 - accuracy: 0.9208 - KL_term: 0.0264 - loglikelihood_term: 0.1419 - evidential_success: 37.5095 - evidential_fail: 7.2892 - acc: 0.9207 - annealing_coef: 0.2576 - global_step_get: 966.0000 - annealing_step_get: 3750.0000 - val_loss: 0.0554 - val_accuracy: 0.9372 - val_KL_term: 0.0467 - val_loglikelihood_term: 0.1188 - val_evidential_success: 32.4597 - val_evidential_fail: 6.0669 - val_acc: 0.9373 - val_annealing_coef: 0.5152 - val_global_step_get: 1932.0000 - val_annealing_step_get: 3750.0000\n",
      "\n",
      "Epoch 00007: val_loss did not improve from 0.05456\n",
      "Epoch 8/100\n",
      "self.global_step 1932.0\n",
      "277/277 [==============================] - 23s 84ms/step - loss: 0.0540 - accuracy: 0.9234 - KL_term: 0.0252 - loglikelihood_term: 0.1367 - evidential_success: 42.6090 - evidential_fail: 6.4528 - acc: 0.9234 - annealing_coef: 0.2944 - global_step_get: 1104.0000 - annealing_step_get: 3750.0000 - val_loss: 0.0564 - val_accuracy: 0.9388 - val_KL_term: 0.0568 - val_loglikelihood_term: 0.1113 - val_evidential_success: 39.7496 - val_evidential_fail: 6.8775 - val_acc: 0.9390 - val_annealing_coef: 0.5888 - val_global_step_get: 2208.0000 - val_annealing_step_get: 3750.0000\n",
      "\n",
      "Epoch 00008: val_loss did not improve from 0.05456\n",
      "Epoch 9/100\n",
      "self.global_step 2208.0\n",
      "277/277 [==============================] - 23s 83ms/step - loss: 0.0521 - accuracy: 0.9257 - KL_term: 0.0245 - loglikelihood_term: 0.1316 - evidential_success: 45.9212 - evidential_fail: 6.2511 - acc: 0.9258 - annealing_coef: 0.3312 - global_step_get: 1242.0000 - annealing_step_get: 3750.0000 - val_loss: 0.0586 - val_accuracy: 0.9385 - val_KL_term: 0.0587 - val_loglikelihood_term: 0.1160 - val_evidential_success: 34.6404 - val_evidential_fail: 5.9204 - val_acc: 0.9387 - val_annealing_coef: 0.6624 - val_global_step_get: 2484.0000 - val_annealing_step_get: 3750.0000\n",
      "\n",
      "Epoch 00009: val_loss did not improve from 0.05456\n",
      "Epoch 10/100\n",
      "self.global_step 2484.0\n",
      "277/277 [==============================] - 23s 84ms/step - loss: 0.0519 - accuracy: 0.9268 - KL_term: 0.0254 - loglikelihood_term: 0.1303 - evidential_success: 47.2572 - evidential_fail: 5.3876 - acc: 0.9268 - annealing_coef: 0.3680 - global_step_get: 1380.0000 - annealing_step_get: 3750.0000 - val_loss: 0.0573 - val_accuracy: 0.9406 - val_KL_term: 0.0615 - val_loglikelihood_term: 0.1097 - val_evidential_success: 36.0188 - val_evidential_fail: 6.1714 - val_acc: 0.9406 - val_annealing_coef: 0.7360 - val_global_step_get: 2760.0000 - val_annealing_step_get: 3750.0000\n",
      "\n",
      "Epoch 00010: val_loss did not improve from 0.05456\n",
      "Epoch 11/100\n",
      "self.global_step 2760.0\n",
      "277/277 [==============================] - 23s 83ms/step - loss: 0.0502 - accuracy: 0.9290 - KL_term: 0.0243 - loglikelihood_term: 0.1263 - evidential_success: 48.6965 - evidential_fail: 4.9362 - acc: 0.9289 - annealing_coef: 0.4048 - global_step_get: 1518.0000 - annealing_step_get: 3750.0000 - val_loss: 0.0630 - val_accuracy: 0.9396 - val_KL_term: 0.0764 - val_loglikelihood_term: 0.1115 - val_evidential_success: 39.6576 - val_evidential_fail: 6.8486 - val_acc: 0.9397 - val_annealing_coef: 0.8096 - val_global_step_get: 3036.0000 - val_annealing_step_get: 3750.0000\n",
      "\n",
      "Epoch 00011: val_loss did not improve from 0.05456\n",
      "Epoch 12/100\n",
      "self.global_step 3036.0\n",
      "277/277 [==============================] - 23s 84ms/step - loss: 0.0495 - accuracy: 0.9312 - KL_term: 0.0251 - loglikelihood_term: 0.1232 - evidential_success: 51.0489 - evidential_fail: 4.8401 - acc: 0.9312 - annealing_coef: 0.4416 - global_step_get: 1656.0000 - annealing_step_get: 3750.0000 - val_loss: 0.0564 - val_accuracy: 0.9451 - val_KL_term: 0.0677 - val_loglikelihood_term: 0.1010 - val_evidential_success: 39.7866 - val_evidential_fail: 6.2376 - val_acc: 0.9450 - val_annealing_coef: 0.8832 - val_global_step_get: 3312.0000 - val_annealing_step_get: 3750.0000\n",
      "\n",
      "Epoch 00012: val_loss did not improve from 0.05456\n",
      "Epoch 13/100\n",
      "self.global_step 3312.0\n",
      "277/277 [==============================] - 23s 84ms/step - loss: 0.0494 - accuracy: 0.9313 - KL_term: 0.0248 - loglikelihood_term: 0.1230 - evidential_success: 49.9951 - evidential_fail: 4.6099 - acc: 0.9314 - annealing_coef: 0.4784 - global_step_get: 1794.0000 - annealing_step_get: 3750.0000 - val_loss: 0.0617 - val_accuracy: 0.9433 - val_KL_term: 0.0805 - val_loglikelihood_term: 0.1036 - val_evidential_success: 43.3035 - val_evidential_fail: 6.7500 - val_acc: 0.9433 - val_annealing_coef: 0.9568 - val_global_step_get: 3588.0000 - val_annealing_step_get: 3750.0000\n",
      "\n",
      "Epoch 00013: val_loss did not improve from 0.05456\n",
      "Epoch 00013: early stopping\n",
      "-5.0 -12.0\n"
     ]
    },
    {
     "name": "stderr",
     "output_type": "stream",
     "text": [
      "ic| self.path_models+ '/' + self.method +'_'+str(0)+'.h5': 'D:/Jorge/datasets/deforestation/experiments/MT/exp176/models/resunet_0.h5'\n"
     ]
    },
    {
     "name": "stdout",
     "output_type": "stream",
     "text": [
      "time:  0\n",
      "(39774655,)\n",
      "(array([0, 1], dtype=uint8), array([39234711,   539944], dtype=int64))\n",
      "(16795, 10420)\n",
      "(array([0., 1.], dtype=float32), array([172149064,   2854836], dtype=int64))\n"
     ]
    },
    {
     "name": "stderr",
     "output_type": "stream",
     "text": [
      "ic| self.predicted_unpad.shape: (16795, 10420)\n",
      "    self.predicted.shape: (16795, 10420)\n",
      "ic| predicted_test.shape: (70001560,)\n",
      "ic| predicted_test.shape: (39774655,)\n",
      "ic| np.unique(predicted, return_counts=True): (array([0., 1.], dtype=float32), array([172149064,   2854836], dtype=int64))\n",
      "    np.unique(predicted_larger_than_min_area, return_counts=True): (array([0., 1.], dtype=float32), array([172307904,   2695996], dtype=int64))\n",
      "ic| np.unique(ignored_polygons, return_counts=True): (array([0., 1.], dtype=float32), array([174845060,    158840], dtype=int64))\n",
      "ic| self.f1: 63.3, self.precision: 49.1, self.recall: 89.05\n",
      "ic| self.label_mask_val.shape: (21000468,)\n",
      "ic| self.label_mask_val_valid.shape: (10886190,)\n",
      "ic| f1_val: 95.43\n",
      "    precision_val: 93.74\n",
      "    recall_val: 97.19\n",
      "    mAP_val: 98.05\n"
     ]
    },
    {
     "name": "stdout",
     "output_type": "stream",
     "text": [
      "(array([0., 1.], dtype=float32), array([173935204,   1068696], dtype=int64))\n",
      "[0. 1.]\n"
     ]
    },
    {
     "name": "stderr",
     "output_type": "stream",
     "text": [
      "ic| self.label_mask.shape: (16795, 10420)\n",
      "ic| self.mask_amazon_ts.shape: (16795, 10420)\n",
      "ic| self.label_mask_test.shape: (70001560,)\n",
      "ic| self.error_mask_test.shape: (39717110,)\n",
      "ic| bounds: (0.0015, 0.9985)\n",
      "c:\\Users\\jchamorro\\Anaconda3\\envs\\tf2\\lib\\site-packages\\scipy\\optimize\\_minimize.py:783: RuntimeWarning: Method 'bounded' does not support relative tolerance in x; defaulting to absolute tolerance.\n",
      "  warn(\"Method 'bounded' does not support relative tolerance in x; \"\n"
     ]
    },
    {
     "name": "stdout",
     "output_type": "stream",
     "text": [
      "0.38232011321635484\n",
      "threshold 0.38232011321635484\n",
      "(37541943,) (37541943,)\n"
     ]
    },
    {
     "name": "stderr",
     "output_type": "stream",
     "text": [
      "ic| label_current_deforestation_test_classified_incorrect.shape: (2175167,)\n",
      "    predicted_test_classified_incorrect.shape: (2175167,)\n"
     ]
    },
    {
     "name": "stdout",
     "output_type": "stream",
     "text": [
      "cm_correct [[36785503   310002]\n",
      " [   18367   428071]]\n"
     ]
    },
    {
     "name": "stderr",
     "output_type": "stream",
     "text": [
      "ic| TP_H + FN_H + FP_H + TN_H: 2175167\n",
      "    len(label_mask_current_deforestation_test): 39717110\n",
      "ic| TP_H + FN_H + FP_H + TN_H: 2175167\n",
      "    len(label_mask_current_deforestation_test): 39717110\n"
     ]
    },
    {
     "name": "stdout",
     "output_type": "stream",
     "text": [
      "cm_incorrect [[1908441  181191]\n",
      " [  39864   45671]]\n",
      "[0.57998464 0.95885879 0.80468558 0.0547665  0.20131622 0.53394517]\n",
      "0.6176798867836452\n",
      "threshold 0.6176798867836452\n",
      "(39040228,) (39040228,)\n"
     ]
    },
    {
     "name": "stderr",
     "output_type": "stream",
     "text": [
      "ic| label_current_deforestation_test_classified_incorrect.shape: (676882,)\n",
      "    predicted_test_classified_incorrect.shape: (676882,)\n",
      "ic| TP_H + FN_H + FP_H + TN_H: 676882\n",
      "    len(label_mask_current_deforestation_test): 39717110\n",
      "ic| TP_H + FN_H + FP_H + TN_H: 676882\n",
      "    len(label_mask_current_deforestation_test): 39717110\n"
     ]
    },
    {
     "name": "stdout",
     "output_type": "stream",
     "text": [
      "cm_correct [[38077264   453242]\n",
      " [   42129   467593]]\n",
      "cm_incorrect [[616680  37951]\n",
      " [ 16102   6149]]\n",
      "[0.50779238 0.91734906 0.87897882 0.01704258 0.13943311 0.27634713]\n",
      "0.7631402264327096\n",
      "threshold 0.7631402264327096\n",
      "(39457607,) (39457607,)\n"
     ]
    },
    {
     "name": "stderr",
     "output_type": "stream",
     "text": [
      "ic| label_current_deforestation_test_classified_incorrect.shape: (259503,)\n",
      "    predicted_test_classified_incorrect.shape: (259503,)\n",
      "d:\\Jorge\\deforestation_uncertainty\\src\\metrics.py:295: RuntimeWarning: invalid value encountered in longlong_scalars\n",
      "  precision_H = TP_H / (TP_H + FP_H)\n",
      "ic| TP_H + FN_H + FP_H + TN_H: 259503\n",
      "    len(label_mask_current_deforestation_test): 39717110\n",
      "ic| TP_H + FN_H + FP_H + TN_H: 259503\n",
      "    len(label_mask_current_deforestation_test): 39717110\n"
     ]
    },
    {
     "name": "stdout",
     "output_type": "stream",
     "text": [
      "cm_correct [[38442677   491193]\n",
      " [   49995   473742]]\n",
      "cm_incorrect [[251267      0]\n",
      " [  8236      0]]\n",
      "[0.49095742 0.90454178 0.89053768 0.00653378        nan 0.        ]\n",
      "0.5780409214470827\n",
      "threshold 0.5780409214470827\n",
      "(38867763,) (38867763,)\n"
     ]
    },
    {
     "name": "stderr",
     "output_type": "stream",
     "text": [
      "ic| label_current_deforestation_test_classified_incorrect.shape: (849347,)\n",
      "    predicted_test_classified_incorrect.shape: (849347,)\n",
      "ic| TP_H + FN_H + FP_H + TN_H: 849347\n",
      "    len(label_mask_current_deforestation_test): 39717110\n",
      "ic| TP_H + FN_H + FP_H + TN_H: 849347\n",
      "    len(label_mask_current_deforestation_test): 39717110\n"
     ]
    },
    {
     "name": "stdout",
     "output_type": "stream",
     "text": [
      "cm_correct [[37933712   431717]\n",
      " [   38765   463569]]\n",
      "cm_incorrect [[760232  59476]\n",
      " [ 19466  10173]]\n",
      "[0.51778873 0.92283023 0.87141453 0.02138491 0.14606096 0.3432302 ]\n",
      "0.5032822250085449\n",
      "threshold 0.5032822250085449\n",
      "(38455619,) (38455619,)\n"
     ]
    },
    {
     "name": "stderr",
     "output_type": "stream",
     "text": [
      "ic| label_current_deforestation_test_classified_incorrect.shape: (1261491,)\n",
      "    predicted_test_classified_incorrect.shape: (1261491,)\n",
      "ic| TP_H + FN_H + FP_H + TN_H: 1261491\n",
      "    len(label_mask_current_deforestation_test): 39717110\n",
      "ic| TP_H + FN_H + FP_H + TN_H: 1261491\n",
      "    len(label_mask_current_deforestation_test): 39717110\n"
     ]
    },
    {
     "name": "stdout",
     "output_type": "stream",
     "text": [
      "cm_correct [[37587638   384806]\n",
      " [   30267   452908]]\n",
      "cm_incorrect [[1106306  106387]\n",
      " [  27964   20834]]\n",
      "[0.54064752 0.9373581  0.85137404 0.0317619  0.16376227 0.42694373]\n",
      "0.4570788096548928\n",
      "threshold 0.4570788096548928\n",
      "(38143264,) (38143264,)\n"
     ]
    },
    {
     "name": "stderr",
     "output_type": "stream",
     "text": [
      "ic| label_current_deforestation_test_classified_incorrect.shape: (1573846,)\n",
      "    predicted_test_classified_incorrect.shape: (1573846,)\n",
      "ic"
     ]
    },
    {
     "name": "stdout",
     "output_type": "stream",
     "text": [
      "cm_correct [[37316571   356251]\n",
      " [   25952   444490]]\n",
      "cm_incorrect [[1377373  134942]\n",
      " [  32279   29252]]\n"
     ]
    },
    {
     "name": "stderr",
     "output_type": "stream",
     "text": [
      "| TP_H + FN_H + FP_H + TN_H: 1573846\n",
      "    len(label_mask_current_deforestation_test): 39717110\n",
      "ic| TP_H + FN_H + FP_H + TN_H: 1573846\n",
      "    len(label_mask_current_deforestation_test): 39717110\n"
     ]
    },
    {
     "name": "stdout",
     "output_type": "stream",
     "text": [
      "[0.55509834 0.94483486 0.83554992 0.0396264  0.17815511 0.47540264]\n",
      "0.5194906962098031\n",
      "threshold 0.5194906962098031\n",
      "(38554497,) (38554497,)\n"
     ]
    },
    {
     "name": "stderr",
     "output_type": "stream",
     "text": [
      "ic| label_current_deforestation_test_classified_incorrect.shape: (1162613,)\n",
      "    predicted_test_classified_incorrect.shape: (1162613,)\n",
      "ic| TP_H + FN_H + FP_H + TN_H: 1162613\n",
      "    len(label_mask_current_deforestation_test): 39717110\n",
      "ic| TP_H + FN_H + FP_H + TN_H: 1162613\n",
      "    len(label_mask_current_deforestation_test): 39717110\n"
     ]
    },
    {
     "name": "stdout",
     "output_type": "stream",
     "text": [
      "cm_correct [[37671745   395096]\n",
      " [   32072   455584]]\n",
      "cm_incorrect [[1022199   96097]\n",
      " [  26159   18158]]\n",
      "[0.53555273 0.93423233 0.85640437 0.02927235 0.15892521 0.4097299 ]\n",
      "0.5234010125688187\n",
      "threshold 0.5234010125688187\n",
      "(38577460,) (38577460,)\n"
     ]
    },
    {
     "name": "stderr",
     "output_type": "stream",
     "text": [
      "ic| label_current_deforestation_test_classified_incorrect.shape: (1139650,)\n",
      "    predicted_test_classified_incorrect.shape: (1139650,)\n",
      "ic| TP_H + FN_H + FP_H + TN_H: 1139650\n",
      "    len(label_mask_current_deforestation_test): 39717110\n",
      "ic| TP_H + FN_H + FP_H + TN_H: 1139650\n",
      "    len(label_mask_current_deforestation_test): 39717110\n"
     ]
    },
    {
     "name": "stdout",
     "output_type": "stream",
     "text": [
      "cm_correct [[37691137   397597]\n",
      " [   32494   456232]]\n",
      "cm_incorrect [[1002807   93596]\n",
      " [  25737   17510]]\n",
      "[0.5343365  0.93351285 0.85762247 0.02869418 0.15759725 0.40488358]\n",
      "0.514418993492047\n",
      "threshold 0.514418993492047\n",
      "(38524058,) (38524058,)\n"
     ]
    },
    {
     "name": "stderr",
     "output_type": "stream",
     "text": [
      "ic| label_current_deforestation_test_classified_incorrect.shape: (1193052,)\n",
      "    predicted_test_classified_incorrect.shape: (1193052,)\n",
      "ic| TP_H + FN_H + FP_H + TN_H: 1193052\n",
      "    len(label_mask_current_deforestation_test): 39717110\n",
      "ic| TP_H + FN_H + FP_H + TN_H: 1193052\n",
      "    len(label_mask_current_deforestation_test): 39717110\n"
     ]
    },
    {
     "name": "stdout",
     "output_type": "stream",
     "text": [
      "cm_correct [[37645962   391832]\n",
      " [   31522   454742]]\n",
      "cm_incorrect [[1047982   99361]\n",
      " [  26709   19000]]\n",
      "[0.53715564 0.93517513 0.85482158 0.03003874 0.16052585 0.41567306]\n",
      "0.5101651264561878\n",
      "threshold 0.5101651264561878\n",
      "(38498336,) (38498336,)\n"
     ]
    },
    {
     "name": "stderr",
     "output_type": "stream",
     "text": [
      "ic| label_current_deforestation_test_classified_incorrect.shape: (1218774,)\n",
      "    predicted_test_classified_incorrect.shape: (1218774,)\n",
      "ic| TP_H + FN_H + FP_H + TN_H: 1218774\n",
      "    len(label_mask_current_deforestation_test): 39717110\n",
      "ic| TP_H + FN_H + FP_H + TN_H: 1218774\n",
      "    len(label_mask_current_deforestation_test): 39717110\n"
     ]
    },
    {
     "name": "stdout",
     "output_type": "stream",
     "text": [
      "cm_correct [[37624028   389210]\n",
      " [   31026   454072]]\n",
      "cm_incorrect [[1069916  101983]\n",
      " [  27205   19670]]\n",
      "[0.53845807 0.93604179 0.85356212 0.03068637 0.1616894  0.41962667]\n",
      "0.5147562610588828\n",
      "threshold 0.5147562610588828\n",
      "(38526136,) (38526136,)\n"
     ]
    },
    {
     "name": "stderr",
     "output_type": "stream",
     "text": [
      "ic| label_current_deforestation_test_classified_incorrect.shape: (1190974,)\n",
      "    predicted_test_classified_incorrect.shape: (1190974,)\n",
      "ic| TP_H + FN_H + FP_H + TN_H: 1190974\n",
      "    len(label_mask_current_deforestation_test): 39717110\n",
      "ic| TP_H + FN_H + FP_H + TN_H: 1190974\n",
      "    len(label_mask_current_deforestation_test): 39717110\n"
     ]
    },
    {
     "name": "stdout",
     "output_type": "stream",
     "text": [
      "cm_correct [[37647700   392083]\n",
      " [   31561   454792]]\n",
      "cm_incorrect [[1046244   99110]\n",
      " [  26670   18950]]\n",
      "[0.53702376 0.93510681 0.85491557 0.02998642 0.1605116  0.41538799]\n",
      "0.5167936490107649\n",
      "threshold 0.5167936490107649\n",
      "(38538355,) (38538355,)\n"
     ]
    },
    {
     "name": "stderr",
     "output_type": "stream",
     "text": [
      "ic| label_current_deforestation_test_classified_incorrect.shape: (1178755,)\n",
      "    predicted_test_classified_incorrect.shape: (1178755,)\n",
      "ic| TP_H + FN_H + FP_H + TN_H: 1178755\n",
      "    len(label_mask_current_deforestation_test): 39717110\n",
      "ic| TP_H + FN_H + FP_H + TN_H: 1178755\n",
      "    len(label_mask_current_deforestation_test): 39717110\n"
     ]
    },
    {
     "name": "stdout",
     "output_type": "stream",
     "text": [
      "cm_correct [[37658065   393364]\n",
      " [   31781   455145]]\n",
      "cm_incorrect [[1035879   97829]\n",
      " [  26450   18597]]\n",
      "[0.53640562 0.93473136 0.85557914 0.02967877 0.15973236 0.41283548]\n",
      "0.5155344740082323\n",
      "threshold 0.5155344740082323\n",
      "(38530811,) (38530811,)\n"
     ]
    },
    {
     "name": "stderr",
     "output_type": "stream",
     "text": [
      "ic| label_current_deforestation_test_classified_incorrect.shape: (1186299,)\n",
      "    predicted_test_classified_incorrect.shape: (1186299,)\n",
      "ic| TP_H + FN_H + FP_H + TN_H: 1186299\n",
      "    len(label_mask_current_deforestation_test): 39717110\n",
      "ic| TP_H + FN_H + FP_H + TN_H: 1186299\n",
      "    len(label_mask_current_deforestation_test): 39717110\n"
     ]
    },
    {
     "name": "stdout",
     "output_type": "stream",
     "text": [
      "cm_correct [[37651694   392541]\n",
      " [   31653   454923]]\n",
      "cm_incorrect [[1042250   98652]\n",
      " [  26578   18819]]\n",
      "[0.5368051  0.93494747 0.85516182 0.02986871 0.16020124 0.41454281]\n",
      "0.5147896020272854\n",
      "threshold 0.5147896020272854\n",
      "(38526333,) (38526333,)\n"
     ]
    },
    {
     "name": "stderr",
     "output_type": "stream",
     "text": [
      "ic| label_current_deforestation_test_classified_incorrect.shape: (1190777,)\n",
      "    predicted_test_classified_incorrect.shape: (1190777,)\n",
      "ic| TP_H + FN_H + FP_H + TN_H: 1190777\n",
      "    len(label_mask_current_deforestation_test): 39717110\n",
      "ic| TP_H + FN_H + FP_H + TN_H: 1190777\n",
      "    len(label_mask_current_deforestation_test): 39717110\n"
     ]
    },
    {
     "name": "stdout",
     "output_type": "stream",
     "text": [
      "cm_correct [[37647873   392100]\n",
      " [   31565   454795]]\n",
      "cm_incorrect [[1046071   99093]\n",
      " [  26666   18947]]\n",
      "[0.53701462 0.93509951 0.85492121 0.02998146 0.16051339 0.41538596]\n",
      "0.5146495193290711\n",
      "threshold 0.5146495193290711\n",
      "(38525460,) (38525460,)\n"
     ]
    },
    {
     "name": "stderr",
     "output_type": "stream",
     "text": [
      "ic| label_current_deforestation_test_classified_incorrect.shape: (1191650,)\n",
      "    predicted_test_classified_incorrect.shape: (1191650,)\n",
      "ic| TP_H + FN_H + FP_H + TN_H: 1191650\n",
      "    len(label_mask_current_deforestation_test): 39717110\n",
      "ic| TP_H + FN_H + FP_H + TN_H: 1191650\n",
      "    len(label_mask_current_deforestation_test): 39717110\n"
     ]
    },
    {
     "name": "stdout",
     "output_type": "stream",
     "text": [
      "cm_correct [[37647127   392008]\n",
      " [   31549   454776]]\n",
      "cm_incorrect [[1046817   99185]\n",
      " [  26682   18966]]\n",
      "[0.53706258 0.93512774 0.85488549 0.03000344 0.1605234  0.4154837 ]\n",
      "0.514561466294613\n",
      "threshold 0.514561466294613\n",
      "(38524940,) (38524940,)\n"
     ]
    },
    {
     "name": "stderr",
     "output_type": "stream",
     "text": [
      "ic| label_current_deforestation_test_classified_incorrect.shape: (1192170,)\n",
      "    predicted_test_classified_incorrect.shape: (1192170,)\n",
      "ic| TP_H + FN_H + FP_H + TN_H: 1192170\n",
      "    len(label_mask_current_deforestation_test): 39717110\n",
      "ic| TP_H + FN_H + FP_H + TN_H: 1192170\n",
      "    len(label_mask_current_deforestation_test): 39717110\n"
     ]
    },
    {
     "name": "stdout",
     "output_type": "stream",
     "text": [
      "cm_correct [[37646701   391940]\n",
      " [   31536   454763]]\n",
      "cm_incorrect [[1047243   99253]\n",
      " [  26695   18979]]\n",
      "[0.5370986  0.93515101 0.85486105 0.03001653 0.16052338 0.41553181]\n",
      "0.5146828602958904\n",
      "threshold 0.5146828602958904\n",
      "(38525697,) (38525697,)\n"
     ]
    },
    {
     "name": "stderr",
     "output_type": "stream",
     "text": [
      "ic| label_current_deforestation_test_classified_incorrect.shape: (1191413,)\n",
      "    predicted_test_classified_incorrect.shape: (1191413,)\n",
      "ic| TP_H + FN_H + FP_H + TN_H: 1191413\n",
      "    len(label_mask_current_deforestation_test): 39717110\n",
      "ic| TP_H + FN_H + FP_H + TN_H: 1191413\n",
      "    len(label_mask_current_deforestation_test): 39717110\n"
     ]
    },
    {
     "name": "stdout",
     "output_type": "stream",
     "text": [
      "cm_correct [[37647326   392036]\n",
      " [   31554   454781]]\n",
      "cm_incorrect [[1046618   99157]\n",
      " [  26677   18961]]\n",
      "[0.53704756 0.9351188  0.85489489 0.02999747 0.16052591 0.41546518]\n",
      "0.5147162012632043\n",
      "threshold 0.5147162012632043\n",
      "(38525898,) (38525898,)\n"
     ]
    },
    {
     "name": "stderr",
     "output_type": "stream",
     "text": [
      "ic| label_current_deforestation_test_classified_incorrect.shape: (1191212,)\n",
      "    predicted_test_classified_incorrect.shape: (1191212,)\n",
      "ic| TP_H + FN_H + FP_H + TN_H: 1191212\n",
      "    len(label_mask_current_deforestation_test): 39717110\n",
      "ic| TP_H + FN_H + FP_H + TN_H: 1191212\n",
      "    len(label_mask_current_deforestation_test): 39717110\n"
     ]
    },
    {
     "name": "stdout",
     "output_type": "stream",
     "text": [
      "cm_correct [[37647494   392063]\n",
      " [   31556   454785]]\n",
      "cm_incorrect [[1046450   99130]\n",
      " [  26675   18957]]\n",
      "[0.53703262 0.93511548 0.85490241 0.02999241 0.16053418 0.41543215]\n"
     ]
    },
    {
     "name": "stderr",
     "output_type": "stream",
     "text": [
      "ic| self.threshold_optimal: 0.5146828602958904\n"
     ]
    },
    {
     "name": "stdout",
     "output_type": "stream",
     "text": [
      "threshold 0.5146828602958904\n",
      "(38525697,) (38525697,)\n"
     ]
    },
    {
     "name": "stderr",
     "output_type": "stream",
     "text": [
      "ic| label_current_deforestation_test_classified_incorrect.shape: (1191413,)\n",
      "    predicted_test_classified_incorrect.shape: (1191413,)\n",
      "ic| TP_H + FN_H + FP_H + TN_H: 1191413\n",
      "    len(label_mask_current_deforestation_test): 39717110\n",
      "ic| TP_H + FN_H + FP_H + TN_H: 1191413\n",
      "    len(label_mask_current_deforestation_test): 39717110\n"
     ]
    },
    {
     "name": "stdout",
     "output_type": "stream",
     "text": [
      "cm_correct [[37647326   392036]\n",
      " [   31554   454781]]\n",
      "cm_incorrect [[1046618   99157]\n",
      " [  26677   18961]]\n",
      "[0.53704756 0.9351188  0.85489489 0.02999747 0.16052591 0.41546518]\n",
      "threshold 0.5146828602958904\n",
      "(39717110,) (39717110,)\n"
     ]
    },
    {
     "name": "stderr",
     "output_type": "stream",
     "text": [
      "ic| self.m_optimal: {'AA': array([0.02999747]),\n",
      "                     'f1': 63.3,\n",
      "                     'f1_H': array([0.23157625]),\n",
      "                     'f1_L': array([0.68226429]),\n",
      "                     'precision_H': array([0.16052591]),\n",
      "                     'precision_L': array([0.53704756]),\n",
      "                     'recall_H': array([0.41546518]),\n",
      "                     'recall_L': array([0.9351188]),\n",
      "                     'recall_Ltotal': array([0.85489489])}\n",
      "ic| self.m_audited_optimal: {'f1': array([0.70262449]),\n",
      "                             'precision': array([0.56072183]),\n",
      "                             'recall': array([0.94068496])}\n"
     ]
    },
    {
     "name": "stdout",
     "output_type": "stream",
     "text": [
      "cm_audited [[38793101   392036]\n",
      " [   31554   500419]]\n",
      "[0.56072183 0.94068496]\n",
      "D:/Jorge/datasets/deforestation/MT/deforestation_past_years.tif\n",
      "Loaded deforestation past years\n"
     ]
    },
    {
     "name": "stderr",
     "output_type": "stream",
     "text": [
      "ic| np.unique(deforestation_past_years, return_counts=True): (array([   0, 2008, 2009, 2010, 2011, 2012, 2013, 2014, 2015, 2016, 2017,\n",
      "                                                                    2018, 2019, 2020, 2021], dtype=uint16),\n",
      "                                                              array([161124576,   1332784,    240796,    338545,    313901,    287191,\n",
      "                                                                       708581,    648966,    876898,   1007787,   1098901,   1054092,\n",
      "                                                                      2096062,   2473828,   1400992], dtype=int64))\n"
     ]
    },
    {
     "name": "stdout",
     "output_type": "stream",
     "text": [
      "Label where deforestation past years is actual date (2019) = 1\n"
     ]
    },
    {
     "name": "stderr",
     "output_type": "stream",
     "text": [
      "ic| np.unique(deforestation_past_years, return_counts=True): (array([   0, 2008, 2009, 2010, 2011, 2012, 2013, 2014, 2015, 2016, 2017,\n",
      "                                                                    2018, 2019, 2020, 2021], dtype=uint16),\n",
      "                                                              array([161124576,   1332784,    240796,    338545,    313901,    287191,\n",
      "                                                                       708581,    648966,    876898,   1007787,   1098901,   1054092,\n",
      "                                                                      2096062,   2473828,   1400992], dtype=int64))\n"
     ]
    },
    {
     "name": "stdout",
     "output_type": "stream",
     "text": [
      "Past deforestation different from 0 (no deforestation)\n"
     ]
    },
    {
     "name": "stderr",
     "output_type": "stream",
     "text": [
      "ic| np.unique(deforestation_past_years, return_counts=True): (array([   0, 2008, 2009, 2010, 2011, 2012, 2013, 2014, 2015, 2016, 2017,\n",
      "                                                                    2018, 2019, 2020, 2021], dtype=uint16),\n",
      "                                                              array([161124576,   1332784,    240796,    338545,    313901,    287191,\n",
      "                                                                       708581,    648966,    876898,   1007787,   1098901,   1054092,\n",
      "                                                                      2096062,   2473828,   1400992], dtype=int64))\n"
     ]
    },
    {
     "name": "stdout",
     "output_type": "stream",
     "text": [
      "Past deforestation before 2008 is 2\n",
      "D:/Jorge/datasets/deforestation/MT/deforestation_before_2008/deforestation_before_2008_MT.tif\n"
     ]
    },
    {
     "name": "stderr",
     "output_type": "stream",
     "text": [
      "ic| np.unique(label_past_deforestation_before_2008, return_counts=True): (array([  0, 215], dtype=uint8), array([122623260,  52380640], dtype=int64))\n",
      "ic| np.unique(deforestation_past_years, return_counts=True): (array([   0, 2008, 2009, 2010, 2011, 2012, 2013, 2014, 2015, 2016, 2017,\n",
      "                                                                    2018, 2019, 2020, 2021], dtype=uint16),\n",
      "                                                              array([161124576,   1332784,    240796,    338545,    313901,    287191,\n",
      "                                                                       708581,    648966,    876898,   1007787,   1098901,   1054092,\n",
      "                                                                      2096062,   2473828,   1400992], dtype=int64))\n",
      "ic| label_per_date.shape: (16795, 10420, 1)\n"
     ]
    },
    {
     "name": "stdout",
     "output_type": "stream",
     "text": [
      "Mask label shape:  \n",
      " (16795, 10420, 1) \n",
      " Unique values:  \n",
      " [0 1 2]\n",
      "Tiles size:  3359 2084\n",
      "Mask size:  (16795, 10420)\n"
     ]
    },
    {
     "name": "stderr",
     "output_type": "stream",
     "text": [
      "ic| image_stack.shape: (16795, 10420, 21)\n"
     ]
    },
    {
     "name": "stdout",
     "output_type": "stream",
     "text": [
      "Image shape:  (16795, 10420, 21)\n",
      "mask:  (16795, 10420)\n",
      "image stack:  (16795, 10420, 21)\n",
      "ref : (16795, 10420, 1)\n",
      "Training tiles:  [2, 4, 5, 6, 7, 12, 14, 15, 18, 21, 23, 24]\n",
      "Validation tiles:  [9, 11, 25]\n",
      "Test tiles:  [1, 3, 8, 10, 13, 16, 17, 19, 20, 22]\n"
     ]
    },
    {
     "name": "stderr",
     "output_type": "stream",
     "text": [
      "ic| im_idx_row.shape: (16795, 10420, 1)\n",
      "    im_idx_col.shape: (16795, 10420, 1)\n",
      "ic| im_idx_row.dtype: dtype('uint16')\n",
      "    im_idx_col.dtype: dtype('uint16')\n",
      "ic| im_idx.shape: (16795, 10420, 2), im_idx.dtype: dtype('uint16')\n",
      "ic| coords.shape: (439, 271, 1, 128, 128, 2)\n",
      "    coords.dtype: dtype('uint16')\n",
      "ic| coords.shape: (118969, 2), coords.dtype: dtype('uint16')\n",
      "ic| self.coords_train.shape: (54516, 3)\n",
      "    self.coords_val.shape: (13175, 3)\n"
     ]
    },
    {
     "name": "stdout",
     "output_type": "stream",
     "text": [
      "training samples:  (2962, 3) validation samples:  (623, 3)\n",
      "time:  0\n",
      "Model: \"model_4\"\n",
      "__________________________________________________________________________________________________\n",
      "Layer (type)                    Output Shape         Param #     Connected to                     \n",
      "==================================================================================================\n",
      "input_enc_net (InputLayer)      [(None, 128, 128, 21 0                                            \n",
      "__________________________________________________________________________________________________\n",
      "res1_net1 (Conv2D)              (None, 128, 128, 16) 3040        input_enc_net[0][0]              \n",
      "__________________________________________________________________________________________________\n",
      "drop_net1 (Dropout)             (None, 128, 128, 16) 0           res1_net1[0][0]                  \n",
      "__________________________________________________________________________________________________\n",
      "res2_net1 (Conv2D)              (None, 128, 128, 16) 2320        drop_net1[0][0]                  \n",
      "__________________________________________________________________________________________________\n",
      "res3_net1 (Conv2D)              (None, 128, 128, 16) 352         input_enc_net[0][0]              \n",
      "__________________________________________________________________________________________________\n",
      "add_24 (Add)                    (None, 128, 128, 16) 0           res2_net1[0][0]                  \n",
      "                                                                 res3_net1[0][0]                  \n",
      "__________________________________________________________________________________________________\n",
      "pool_net1 (MaxPooling2D)        (None, 64, 64, 16)   0           add_24[0][0]                     \n",
      "__________________________________________________________________________________________________\n",
      "res1_net2 (Conv2D)              (None, 64, 64, 32)   4640        pool_net1[0][0]                  \n",
      "__________________________________________________________________________________________________\n",
      "drop_net2 (Dropout)             (None, 64, 64, 32)   0           res1_net2[0][0]                  \n",
      "__________________________________________________________________________________________________\n",
      "res2_net2 (Conv2D)              (None, 64, 64, 32)   9248        drop_net2[0][0]                  \n",
      "__________________________________________________________________________________________________\n",
      "res3_net2 (Conv2D)              (None, 64, 64, 32)   544         pool_net1[0][0]                  \n",
      "__________________________________________________________________________________________________\n",
      "add_25 (Add)                    (None, 64, 64, 32)   0           res2_net2[0][0]                  \n",
      "                                                                 res3_net2[0][0]                  \n",
      "__________________________________________________________________________________________________\n",
      "pool_net2 (MaxPooling2D)        (None, 32, 32, 32)   0           add_25[0][0]                     \n",
      "__________________________________________________________________________________________________\n",
      "res1_net3 (Conv2D)              (None, 32, 32, 64)   18496       pool_net2[0][0]                  \n",
      "__________________________________________________________________________________________________\n",
      "drop_net3 (Dropout)             (None, 32, 32, 64)   0           res1_net3[0][0]                  \n",
      "__________________________________________________________________________________________________\n",
      "res2_net3 (Conv2D)              (None, 32, 32, 64)   36928       drop_net3[0][0]                  \n",
      "__________________________________________________________________________________________________\n",
      "res3_net3 (Conv2D)              (None, 32, 32, 64)   2112        pool_net2[0][0]                  \n",
      "__________________________________________________________________________________________________\n",
      "add_26 (Add)                    (None, 32, 32, 64)   0           res2_net3[0][0]                  \n",
      "                                                                 res3_net3[0][0]                  \n",
      "__________________________________________________________________________________________________\n",
      "pool_net3 (MaxPooling2D)        (None, 16, 16, 64)   0           add_26[0][0]                     \n",
      "__________________________________________________________________________________________________\n",
      "res1_net4 (Conv2D)              (None, 16, 16, 64)   36928       pool_net3[0][0]                  \n",
      "__________________________________________________________________________________________________\n",
      "drop_net4 (Dropout)             (None, 16, 16, 64)   0           res1_net4[0][0]                  \n",
      "__________________________________________________________________________________________________\n",
      "res2_net4 (Conv2D)              (None, 16, 16, 64)   36928       drop_net4[0][0]                  \n",
      "__________________________________________________________________________________________________\n",
      "res3_net4 (Conv2D)              (None, 16, 16, 64)   4160        pool_net3[0][0]                  \n",
      "__________________________________________________________________________________________________\n",
      "add_27 (Add)                    (None, 16, 16, 64)   0           res2_net4[0][0]                  \n",
      "                                                                 res3_net4[0][0]                  \n",
      "__________________________________________________________________________________________________\n",
      "res1_net5 (Conv2D)              (None, 16, 16, 64)   36928       add_27[0][0]                     \n",
      "__________________________________________________________________________________________________\n",
      "drop_net5 (Dropout)             (None, 16, 16, 64)   0           res1_net5[0][0]                  \n",
      "__________________________________________________________________________________________________\n",
      "res2_net5 (Conv2D)              (None, 16, 16, 64)   36928       drop_net5[0][0]                  \n",
      "__________________________________________________________________________________________________\n",
      "res3_net5 (Conv2D)              (None, 16, 16, 64)   4160        add_27[0][0]                     \n",
      "__________________________________________________________________________________________________\n",
      "add_28 (Add)                    (None, 16, 16, 64)   0           res2_net5[0][0]                  \n",
      "                                                                 res3_net5[0][0]                  \n",
      "__________________________________________________________________________________________________\n",
      "res1_net6 (Conv2D)              (None, 16, 16, 64)   36928       add_28[0][0]                     \n",
      "__________________________________________________________________________________________________\n",
      "drop_net6 (Dropout)             (None, 16, 16, 64)   0           res1_net6[0][0]                  \n",
      "__________________________________________________________________________________________________\n",
      "res2_net6 (Conv2D)              (None, 16, 16, 64)   36928       drop_net6[0][0]                  \n",
      "__________________________________________________________________________________________________\n",
      "res3_net6 (Conv2D)              (None, 16, 16, 64)   4160        add_28[0][0]                     \n",
      "__________________________________________________________________________________________________\n",
      "add_29 (Add)                    (None, 16, 16, 64)   0           res2_net6[0][0]                  \n",
      "                                                                 res3_net6[0][0]                  \n",
      "__________________________________________________________________________________________________\n",
      "up_sampling2d_12 (UpSampling2D) (None, 32, 32, 64)   0           add_29[0][0]                     \n",
      "__________________________________________________________________________________________________\n",
      "upsampling_net3 (Conv2D)        (None, 32, 32, 64)   36928       up_sampling2d_12[0][0]           \n",
      "__________________________________________________________________________________________________\n",
      "concatenate3 (Concatenate)      (None, 32, 32, 128)  0           add_26[0][0]                     \n",
      "                                                                 upsampling_net3[0][0]            \n",
      "__________________________________________________________________________________________________\n",
      "up_sampling2d_13 (UpSampling2D) (None, 64, 64, 128)  0           concatenate3[0][0]               \n",
      "__________________________________________________________________________________________________\n",
      "upsampling_net2 (Conv2D)        (None, 64, 64, 32)   36896       up_sampling2d_13[0][0]           \n",
      "__________________________________________________________________________________________________\n",
      "concatenate2 (Concatenate)      (None, 64, 64, 64)   0           add_25[0][0]                     \n",
      "                                                                 upsampling_net2[0][0]            \n",
      "__________________________________________________________________________________________________\n",
      "up_sampling2d_14 (UpSampling2D) (None, 128, 128, 64) 0           concatenate2[0][0]               \n",
      "__________________________________________________________________________________________________\n",
      "upsampling_net1 (Conv2D)        (None, 128, 128, 16) 9232        up_sampling2d_14[0][0]           \n",
      "__________________________________________________________________________________________________\n",
      "concatenate1 (Concatenate)      (None, 128, 128, 32) 0           add_24[0][0]                     \n",
      "                                                                 upsampling_net1[0][0]            \n",
      "__________________________________________________________________________________________________\n",
      "output (Conv2D)                 (None, 128, 128, 3)  99          concatenate1[0][0]               \n",
      "==================================================================================================\n",
      "Total params: 394,883\n",
      "Trainable params: 394,883\n",
      "Non-trainable params: 0\n",
      "__________________________________________________________________________________________________\n"
     ]
    },
    {
     "name": "stderr",
     "output_type": "stream",
     "text": [
      "c:\\Users\\jchamorro\\Anaconda3\\envs\\tf2\\lib\\site-packages\\tensorflow\\python\\keras\\optimizer_v2\\optimizer_v2.py:374: UserWarning: The `lr` argument is deprecated, use `learning_rate` instead.\n",
      "  warnings.warn(\n",
      "c:\\Users\\jchamorro\\Anaconda3\\envs\\tf2\\lib\\site-packages\\tensorflow\\python\\keras\\engine\\training.py:1969: UserWarning: `Model.fit_generator` is deprecated and will be removed in a future version. Please use `Model.fit`, which supports generators.\n",
      "  warnings.warn('`Model.fit_generator` is deprecated and '\n"
     ]
    },
    {
     "name": "stdout",
     "output_type": "stream",
     "text": [
      "Epoch 1/100\n",
      "self.global_step 0.0\n",
      "alpha Tensor(\"loss/add:0\", shape=(None, 128, 128, 3), dtype=float32)\n",
      "u Tensor(\"loss/truediv:0\", shape=(None, 128, 128, 1), dtype=float32)\n",
      "alpha Tensor(\"add:0\", shape=(None, 128, 128, 3), dtype=float32)\n",
      "u Tensor(\"truediv:0\", shape=(None, 128, 128, 1), dtype=float32)\n",
      "K.int_shape(KL_reg) Tensor(\"mul_6:0\", shape=(None, 128, 128, 1), dtype=float32)\n",
      "alpha Tensor(\"add_7:0\", shape=(None, 128, 128, 3), dtype=float32)\n",
      "u Tensor(\"truediv_5:0\", shape=(None, 128, 128, 1), dtype=float32)\n",
      "K.int_shape(KL_reg) Tensor(\"mul_12:0\", shape=(None, 128, 128, 1), dtype=float32)\n",
      "alpha Tensor(\"loss/add:0\", shape=(None, 128, 128, 3), dtype=float32)\n",
      "u Tensor(\"loss/truediv:0\", shape=(None, 128, 128, 1), dtype=float32)\n",
      "alpha Tensor(\"add:0\", shape=(None, 128, 128, 3), dtype=float32)\n",
      "u Tensor(\"truediv:0\", shape=(None, 128, 128, 1), dtype=float32)\n",
      "K.int_shape(KL_reg) Tensor(\"mul_6:0\", shape=(None, 128, 128, 1), dtype=float32)\n",
      "alpha Tensor(\"add_7:0\", shape=(None, 128, 128, 3), dtype=float32)\n",
      "u Tensor(\"truediv_5:0\", shape=(None, 128, 128, 1), dtype=float32)\n",
      "K.int_shape(KL_reg) Tensor(\"mul_12:0\", shape=(None, 128, 128, 1), dtype=float32)\n",
      "277/277 [==============================] - ETA: 0s - loss: 0.1532 - accuracy: 0.7054 - KL_term: 0.0152 - loglikelihood_term: 0.4444 - evidential_success: 13.8869 - evidential_fail: 8.2661 - acc: 0.7055 - annealing_coef: 0.0368 - global_step_get: 138.0000 - annealing_step_get: 3750.0000alpha Tensor(\"loss/add:0\", shape=(None, 128, 128, 3), dtype=float32)\n",
      "u Tensor(\"loss/truediv:0\", shape=(None, 128, 128, 1), dtype=float32)\n",
      "alpha Tensor(\"add:0\", shape=(None, 128, 128, 3), dtype=float32)\n",
      "u Tensor(\"truediv:0\", shape=(None, 128, 128, 1), dtype=float32)\n",
      "K.int_shape(KL_reg) Tensor(\"mul_6:0\", shape=(None, 128, 128, 1), dtype=float32)\n",
      "alpha Tensor(\"add_7:0\", shape=(None, 128, 128, 3), dtype=float32)\n",
      "u Tensor(\"truediv_5:0\", shape=(None, 128, 128, 1), dtype=float32)\n",
      "K.int_shape(KL_reg) Tensor(\"mul_12:0\", shape=(None, 128, 128, 1), dtype=float32)\n",
      "277/277 [==============================] - 26s 85ms/step - loss: 0.1532 - accuracy: 0.7054 - KL_term: 0.0152 - loglikelihood_term: 0.4444 - evidential_success: 13.8869 - evidential_fail: 8.2661 - acc: 0.7055 - annealing_coef: 0.0368 - global_step_get: 138.0000 - annealing_step_get: 3750.0000 - val_loss: 0.0680 - val_accuracy: 0.9090 - val_KL_term: 0.0113 - val_loglikelihood_term: 0.1932 - val_evidential_success: 14.0185 - val_evidential_fail: 6.6743 - val_acc: 0.9086 - val_annealing_coef: 0.0736 - val_global_step_get: 276.0000 - val_annealing_step_get: 3750.0000\n",
      "\n",
      "Epoch 00001: val_loss improved from inf to 0.06802, saving model to D:/Jorge/datasets/deforestation/experiments/MT/exp177/models\\resunet_0.h5\n"
     ]
    },
    {
     "name": "stderr",
     "output_type": "stream",
     "text": [
      "c:\\Users\\jchamorro\\Anaconda3\\envs\\tf2\\lib\\site-packages\\tensorflow\\python\\keras\\utils\\generic_utils.py:494: CustomMaskWarning: Custom mask layers require a config and must override get_config. When loading, the custom mask layer must be passed to the custom_objects argument.\n",
      "  warnings.warn('Custom mask layers require a config and must override '\n"
     ]
    },
    {
     "name": "stdout",
     "output_type": "stream",
     "text": [
      "Epoch 2/100\n",
      "self.global_step 276.0\n",
      "277/277 [==============================] - 23s 83ms/step - loss: 0.0706 - accuracy: 0.8862 - KL_term: 0.0194 - loglikelihood_term: 0.1925 - evidential_success: 27.1742 - evidential_fail: 12.5256 - acc: 0.8863 - annealing_coef: 0.0736 - global_step_get: 276.0000 - annealing_step_get: 3750.0000 - val_loss: 0.0542 - val_accuracy: 0.9266 - val_KL_term: 0.0161 - val_loglikelihood_term: 0.1464 - val_evidential_success: 18.5088 - val_evidential_fail: 6.1441 - val_acc: 0.9265 - val_annealing_coef: 0.1472 - val_global_step_get: 552.0000 - val_annealing_step_get: 3750.0000\n",
      "\n",
      "Epoch 00002: val_loss improved from 0.06802 to 0.05420, saving model to D:/Jorge/datasets/deforestation/experiments/MT/exp177/models\\resunet_0.h5\n",
      "Epoch 3/100\n",
      "self.global_step 552.0\n",
      "277/277 [==============================] - 23s 83ms/step - loss: 0.0627 - accuracy: 0.9026 - KL_term: 0.0207 - loglikelihood_term: 0.1675 - evidential_success: 31.3337 - evidential_fail: 11.2935 - acc: 0.9026 - annealing_coef: 0.1104 - global_step_get: 414.0000 - annealing_step_get: 3750.0000 - val_loss: 0.0540 - val_accuracy: 0.9296 - val_KL_term: 0.0203 - val_loglikelihood_term: 0.1417 - val_evidential_success: 19.3538 - val_evidential_fail: 5.0757 - val_acc: 0.9294 - val_annealing_coef: 0.2208 - val_global_step_get: 828.0000 - val_annealing_step_get: 3750.0000\n",
      "\n",
      "Epoch 00003: val_loss improved from 0.05420 to 0.05403, saving model to D:/Jorge/datasets/deforestation/experiments/MT/exp177/models\\resunet_0.h5\n",
      "Epoch 4/100\n",
      "self.global_step 828.0\n",
      "277/277 [==============================] - 23s 83ms/step - loss: 0.0601 - accuracy: 0.9098 - KL_term: 0.0233 - loglikelihood_term: 0.1569 - evidential_success: 33.1480 - evidential_fail: 10.6371 - acc: 0.9098 - annealing_coef: 0.1472 - global_step_get: 552.0000 - annealing_step_get: 3750.0000 - val_loss: 0.0535 - val_accuracy: 0.9333 - val_KL_term: 0.0238 - val_loglikelihood_term: 0.1359 - val_evidential_success: 20.3961 - val_evidential_fail: 4.8241 - val_acc: 0.9334 - val_annealing_coef: 0.2944 - val_global_step_get: 1104.0000 - val_annealing_step_get: 3750.0000\n",
      "\n",
      "Epoch 00004: val_loss improved from 0.05403 to 0.05345, saving model to D:/Jorge/datasets/deforestation/experiments/MT/exp177/models\\resunet_0.h5\n",
      "Epoch 5/100\n",
      "self.global_step 1104.0\n",
      "277/277 [==============================] - 23s 83ms/step - loss: 0.0588 - accuracy: 0.9143 - KL_term: 0.0256 - loglikelihood_term: 0.1507 - evidential_success: 33.8046 - evidential_fail: 9.8363 - acc: 0.9144 - annealing_coef: 0.1840 - global_step_get: 690.0000 - annealing_step_get: 3750.0000 - val_loss: 0.0535 - val_accuracy: 0.9326 - val_KL_term: 0.0324 - val_loglikelihood_term: 0.1273 - val_evidential_success: 24.6444 - val_evidential_fail: 5.6422 - val_acc: 0.9328 - val_annealing_coef: 0.3680 - val_global_step_get: 1380.0000 - val_annealing_step_get: 3750.0000\n",
      "\n",
      "Epoch 00005: val_loss did not improve from 0.05345\n",
      "Epoch 6/100\n",
      "self.global_step 1380.0\n",
      "277/277 [==============================] - 23s 84ms/step - loss: 0.0576 - accuracy: 0.9179 - KL_term: 0.0272 - loglikelihood_term: 0.1454 - evidential_success: 34.1156 - evidential_fail: 8.6619 - acc: 0.9179 - annealing_coef: 0.2208 - global_step_get: 828.0000 - annealing_step_get: 3750.0000 - val_loss: 0.0553 - val_accuracy: 0.9310 - val_KL_term: 0.0376 - val_loglikelihood_term: 0.1270 - val_evidential_success: 25.6796 - val_evidential_fail: 5.5501 - val_acc: 0.9314 - val_annealing_coef: 0.4416 - val_global_step_get: 1656.0000 - val_annealing_step_get: 3750.0000\n",
      "\n",
      "Epoch 00006: val_loss did not improve from 0.05345\n",
      "Epoch 7/100\n",
      "self.global_step 1656.0\n",
      "277/277 [==============================] - 23s 83ms/step - loss: 0.0564 - accuracy: 0.9213 - KL_term: 0.0285 - loglikelihood_term: 0.1407 - evidential_success: 34.8495 - evidential_fail: 8.2327 - acc: 0.9213 - annealing_coef: 0.2576 - global_step_get: 966.0000 - annealing_step_get: 3750.0000 - val_loss: 0.0525 - val_accuracy: 0.9381 - val_KL_term: 0.0362 - val_loglikelihood_term: 0.1202 - val_evidential_success: 25.4598 - val_evidential_fail: 4.6611 - val_acc: 0.9384 - val_annealing_coef: 0.5152 - val_global_step_get: 1932.0000 - val_annealing_step_get: 3750.0000\n",
      "\n",
      "Epoch 00007: val_loss improved from 0.05345 to 0.05246, saving model to D:/Jorge/datasets/deforestation/experiments/MT/exp177/models\\resunet_0.h5\n",
      "Epoch 8/100\n",
      "self.global_step 1932.0\n",
      "277/277 [==============================] - 23s 83ms/step - loss: 0.0565 - accuracy: 0.9227 - KL_term: 0.0302 - loglikelihood_term: 0.1394 - evidential_success: 35.1185 - evidential_fail: 7.8243 - acc: 0.9227 - annealing_coef: 0.2944 - global_step_get: 1104.0000 - annealing_step_get: 3750.0000 - val_loss: 0.0562 - val_accuracy: 0.9346 - val_KL_term: 0.0425 - val_loglikelihood_term: 0.1252 - val_evidential_success: 26.8607 - val_evidential_fail: 4.6300 - val_acc: 0.9349 - val_annealing_coef: 0.5888 - val_global_step_get: 2208.0000 - val_annealing_step_get: 3750.0000\n",
      "\n",
      "Epoch 00008: val_loss did not improve from 0.05246\n",
      "Epoch 9/100\n",
      "self.global_step 2208.0\n",
      "277/277 [==============================] - 23s 84ms/step - loss: 0.0548 - accuracy: 0.9265 - KL_term: 0.0304 - loglikelihood_term: 0.1337 - evidential_success: 37.7783 - evidential_fail: 7.6413 - acc: 0.9266 - annealing_coef: 0.3312 - global_step_get: 1242.0000 - annealing_step_get: 3750.0000 - val_loss: 0.0578 - val_accuracy: 0.9391 - val_KL_term: 0.0569 - val_loglikelihood_term: 0.1155 - val_evidential_success: 34.4561 - val_evidential_fail: 6.2286 - val_acc: 0.9392 - val_annealing_coef: 0.6624 - val_global_step_get: 2484.0000 - val_annealing_step_get: 3750.0000\n",
      "\n",
      "Epoch 00009: val_loss did not improve from 0.05246\n",
      "Epoch 10/100\n",
      "self.global_step 2484.0\n",
      "277/277 [==============================] - 23s 83ms/step - loss: 0.0540 - accuracy: 0.9276 - KL_term: 0.0300 - loglikelihood_term: 0.1319 - evidential_success: 40.0202 - evidential_fail: 6.7300 - acc: 0.9277 - annealing_coef: 0.3680 - global_step_get: 1380.0000 - annealing_step_get: 3750.0000 - val_loss: 0.0596 - val_accuracy: 0.9375 - val_KL_term: 0.0568 - val_loglikelihood_term: 0.1207 - val_evidential_success: 29.4973 - val_evidential_fail: 5.3234 - val_acc: 0.9377 - val_annealing_coef: 0.7360 - val_global_step_get: 2760.0000 - val_annealing_step_get: 3750.0000\n",
      "\n",
      "Epoch 00010: val_loss did not improve from 0.05246\n",
      "Epoch 11/100\n",
      "self.global_step 2760.0\n",
      "277/277 [==============================] - 23s 83ms/step - loss: 0.0515 - accuracy: 0.9285 - KL_term: 0.0266 - loglikelihood_term: 0.1277 - evidential_success: 42.5938 - evidential_fail: 5.5093 - acc: 0.9285 - annealing_coef: 0.4048 - global_step_get: 1518.0000 - annealing_step_get: 3750.0000 - val_loss: 0.0659 - val_accuracy: 0.9328 - val_KL_term: 0.0729 - val_loglikelihood_term: 0.1229 - val_evidential_success: 33.3993 - val_evidential_fail: 5.7343 - val_acc: 0.9332 - val_annealing_coef: 0.8096 - val_global_step_get: 3036.0000 - val_annealing_step_get: 3750.0000\n",
      "\n",
      "Epoch 00011: val_loss did not improve from 0.05246\n",
      "Epoch 12/100\n",
      "self.global_step 3036.0\n",
      "277/277 [==============================] - 23s 83ms/step - loss: 0.0497 - accuracy: 0.9297 - KL_term: 0.0260 - loglikelihood_term: 0.1228 - evidential_success: 46.3284 - evidential_fail: 5.2961 - acc: 0.9298 - annealing_coef: 0.4416 - global_step_get: 1656.0000 - annealing_step_get: 3750.0000 - val_loss: 0.0813 - val_accuracy: 0.9219 - val_KL_term: 0.0957 - val_loglikelihood_term: 0.1460 - val_evidential_success: 35.2197 - val_evidential_fail: 5.8838 - val_acc: 0.9223 - val_annealing_coef: 0.8832 - val_global_step_get: 3312.0000 - val_annealing_step_get: 3750.0000\n",
      "\n",
      "Epoch 00012: val_loss did not improve from 0.05246\n",
      "Epoch 13/100\n",
      "self.global_step 3312.0\n",
      "277/277 [==============================] - 23s 83ms/step - loss: 0.0499 - accuracy: 0.9315 - KL_term: 0.0267 - loglikelihood_term: 0.1228 - evidential_success: 46.6735 - evidential_fail: 5.0068 - acc: 0.9315 - annealing_coef: 0.4784 - global_step_get: 1794.0000 - annealing_step_get: 3750.0000 - val_loss: 0.1028 - val_accuracy: 0.8995 - val_KL_term: 0.1237 - val_loglikelihood_term: 0.1811 - val_evidential_success: 33.7607 - val_evidential_fail: 5.8167 - val_acc: 0.9003 - val_annealing_coef: 0.9568 - val_global_step_get: 3588.0000 - val_annealing_step_get: 3750.0000\n",
      "\n",
      "Epoch 00013: val_loss did not improve from 0.05246\n",
      "Epoch 14/100\n",
      "self.global_step 3588.0\n",
      "277/277 [==============================] - 23s 83ms/step - loss: 0.0497 - accuracy: 0.9336 - KL_term: 0.0278 - loglikelihood_term: 0.1212 - evidential_success: 46.5683 - evidential_fail: 5.3016 - acc: 0.9336 - annealing_coef: 0.5147 - global_step_get: 1932.0000 - annealing_step_get: 3750.0000 - val_loss: 0.0672 - val_accuracy: 0.9398 - val_KL_term: 0.0860 - val_loglikelihood_term: 0.1140 - val_evidential_success: 39.4210 - val_evidential_fail: 6.4368 - val_acc: 0.9400 - val_annealing_coef: 1.0000 - val_global_step_get: 3864.0000 - val_annealing_step_get: 3750.0000\n",
      "\n",
      "Epoch 00014: val_loss did not improve from 0.05246\n",
      "Epoch 15/100\n",
      "self.global_step 3864.0\n",
      "277/277 [==============================] - 23s 83ms/step - loss: 0.0486 - accuracy: 0.9347 - KL_term: 0.0267 - loglikelihood_term: 0.1191 - evidential_success: 49.4901 - evidential_fail: 4.7745 - acc: 0.9347 - annealing_coef: 0.5469 - global_step_get: 2070.0000 - annealing_step_get: 3750.0000 - val_loss: 0.0861 - val_accuracy: 0.9227 - val_KL_term: 0.1200 - val_loglikelihood_term: 0.1346 - val_evidential_success: 46.0186 - val_evidential_fail: 7.5479 - val_acc: 0.9235 - val_annealing_coef: 1.0000 - val_global_step_get: 4140.0000 - val_annealing_step_get: 3750.0000\n",
      "\n",
      "Epoch 00015: val_loss did not improve from 0.05246\n",
      "Epoch 16/100\n",
      "self.global_step 4140.0\n",
      "277/277 [==============================] - 23s 83ms/step - loss: 0.0484 - accuracy: 0.9353 - KL_term: 0.0271 - loglikelihood_term: 0.1183 - evidential_success: 51.5276 - evidential_fail: 4.6625 - acc: 0.9352 - annealing_coef: 0.5751 - global_step_get: 2208.0000 - annealing_step_get: 3750.0000 - val_loss: 0.0870 - val_accuracy: 0.9193 - val_KL_term: 0.1138 - val_loglikelihood_term: 0.1437 - val_evidential_success: 44.5113 - val_evidential_fail: 6.4907 - val_acc: 0.9201 - val_annealing_coef: 1.0000 - val_global_step_get: 4416.0000 - val_annealing_step_get: 3750.0000\n",
      "\n",
      "Epoch 00016: val_loss did not improve from 0.05246\n",
      "Epoch 17/100\n",
      "self.global_step 4416.0\n",
      "277/277 [==============================] - 23s 83ms/step - loss: 0.0482 - accuracy: 0.9359 - KL_term: 0.0271 - loglikelihood_term: 0.1175 - evidential_success: 52.0142 - evidential_fail: 4.4865 - acc: 0.9359 - annealing_coef: 0.6000 - global_step_get: 2346.0000 - annealing_step_get: 3750.0000 - val_loss: 0.1742 - val_accuracy: 0.8581 - val_KL_term: 0.2773 - val_loglikelihood_term: 0.2370 - val_evidential_success: 47.0732 - val_evidential_fail: 11.1485 - val_acc: 0.8599 - val_annealing_coef: 1.0000 - val_global_step_get: 4692.0000 - val_annealing_step_get: 3750.0000\n",
      "\n",
      "Epoch 00017: val_loss did not improve from 0.05246\n",
      "Epoch 00017: early stopping\n",
      "-5.0 -12.0\n"
     ]
    },
    {
     "name": "stderr",
     "output_type": "stream",
     "text": [
      "ic| self.path_models+ '/' + self.method +'_'+str(0)+'.h5': 'D:/Jorge/datasets/deforestation/experiments/MT/exp177/models/resunet_0.h5'\n"
     ]
    },
    {
     "name": "stdout",
     "output_type": "stream",
     "text": [
      "time:  0\n",
      "(39774655,)\n",
      "(array([0, 1], dtype=uint8), array([39234711,   539944], dtype=int64))\n",
      "(16795, 10420)\n",
      "(array([0., 1.], dtype=float32), array([172836127,   2167773], dtype=int64))\n"
     ]
    },
    {
     "name": "stderr",
     "output_type": "stream",
     "text": [
      "ic| self.predicted_unpad.shape: (16795, 10420)\n",
      "    self.predicted.shape: (16795, 10420)\n",
      "ic| predicted_test.shape: (70001560,)\n",
      "ic| predicted_test.shape: (39774655,)\n",
      "ic| np.unique(predicted, return_counts=True): (array([0., 1.], dtype=float32), array([172836127,   2167773], dtype=int64))\n",
      "    np.unique(predicted_larger_than_min_area, return_counts=True): (array([0., 1.], dtype=float32), array([172907422,   2096478], dtype=int64))\n",
      "ic| np.unique(ignored_polygons, return_counts=True): (array([0., 1.], dtype=float32), array([174932605,     71295], dtype=int64))\n",
      "ic| self.f1: 73.46, self.precision: 65.58, self.recall: 83.5\n",
      "ic| self.label_mask_val.shape: (21000468,)\n",
      "ic| self.label_mask_val_valid.shape: (10899092,)\n",
      "ic| f1_val: 93.81\n",
      "    precision_val: 96.8\n",
      "    recall_val: 91.0\n",
      "    mAP_val: 97.09\n"
     ]
    },
    {
     "name": "stdout",
     "output_type": "stream",
     "text": [
      "(array([0., 1.], dtype=float32), array([174352382,    651518], dtype=int64))\n",
      "[0. 1.]\n"
     ]
    },
    {
     "name": "stderr",
     "output_type": "stream",
     "text": [
      "ic| self.label_mask.shape: (16795, 10420)\n",
      "ic| self.mask_amazon_ts.shape: (16795, 10420)\n",
      "ic| self.label_mask_test.shape: (70001560,)\n",
      "ic| self.error_mask_test.shape: (39745799,)\n",
      "ic| bounds: (0.0015, 0.9985)\n",
      "c:\\Users\\jchamorro\\Anaconda3\\envs\\tf2\\lib\\site-packages\\scipy\\optimize\\_minimize.py:783: RuntimeWarning: Method 'bounded' does not support relative tolerance in x; defaulting to absolute tolerance.\n",
      "  warn(\"Method 'bounded' does not support relative tolerance in x; \"\n"
     ]
    },
    {
     "name": "stdout",
     "output_type": "stream",
     "text": [
      "0.38232011321635484\n",
      "threshold 0.38232011321635484\n",
      "(38362634,) (38362634,)\n"
     ]
    },
    {
     "name": "stderr",
     "output_type": "stream",
     "text": [
      "ic| label_current_deforestation_test_classified_incorrect.shape: (1383165,)\n",
      "    predicted_test_classified_incorrect.shape: (1383165,)\n",
      "ic| TP_H + FN_H + FP_H +"
     ]
    },
    {
     "name": "stdout",
     "output_type": "stream",
     "text": [
      "cm_correct [[37772952   163453]\n",
      " [   25677   400552]]\n",
      "cm_incorrect [[1208516   69436]\n",
      " [  62004   43209]]\n"
     ]
    },
    {
     "name": "stderr",
     "output_type": "stream",
     "text": [
      " TN_H: 1383165\n",
      "    len(label_mask_current_deforestation_test): 39745799\n",
      "ic| TP_H + FN_H + FP_H + TN_H: 1383165\n",
      "    len(label_mask_current_deforestation_test): 39745799\n"
     ]
    },
    {
     "name": "stdout",
     "output_type": "stream",
     "text": [
      "[0.71019229 0.93975774 0.75370784 0.03480028 0.3835856  0.41068119]\n",
      "0.6176798867836452\n",
      "threshold 0.6176798867836452\n",
      "(39172155,) (39172155,)\n"
     ]
    },
    {
     "name": "stderr",
     "output_type": "stream",
     "text": [
      "ic| label_current_deforestation_test_classified_incorrect.shape: (573644,)\n",
      "    predicted_test_classified_incorrect.shape: (573644,)\n",
      "ic| TP_H + FN_H + FP_H + TN_H: 573644\n",
      "    len(label_mask_current_deforestation_test): 39745799\n",
      "ic| TP_H + FN_H + FP_H + TN_H: 573644\n",
      "    len(label_mask_current_deforestation_test): 39745799\n"
     ]
    },
    {
     "name": "stdout",
     "output_type": "stream",
     "text": [
      "cm_correct [[38494466   205013]\n",
      " [   41272   431404]]\n",
      "cm_incorrect [[487002  27876]\n",
      " [ 46409  12357]]\n",
      "[0.67786373 0.91268438 0.81176121 0.01443282 0.30713593 0.21027465]\n",
      "0.23685977356729035\n",
      "threshold 0.23685977356729035\n",
      "(37425079,) (37425079,)\n"
     ]
    },
    {
     "name": "stderr",
     "output_type": "stream",
     "text": [
      "ic| label_current_deforestation_test_classified_incorrect.shape: (2320720,)\n",
      "    predicted_test_classified_incorrect.shape: (2320720,)\n"
     ]
    },
    {
     "name": "stdout",
     "output_type": "stream",
     "text": [
      "cm_correct [[36927401   119681]\n",
      " [   13993   364004]]\n"
     ]
    },
    {
     "name": "stderr",
     "output_type": "stream",
     "text": [
      "ic| TP_H + FN_H + FP_H + TN_H: 2320720\n",
      "    len(label_mask_current_deforestation_test): 39745799\n",
      "ic| TP_H + FN_H + FP_H + TN_H: 2320720\n",
      "    len(label_mask_current_deforestation_test): 39745799\n"
     ]
    },
    {
     "name": "stdout",
     "output_type": "stream",
     "text": [
      "cm_incorrect [[2054067  113208]\n",
      " [  73688   79757]]\n",
      "[0.75256417 0.96298119 0.68493646 0.05838906 0.41332366 0.51977582]\n",
      "0.4581045709376388\n",
      "threshold 0.4581045709376388\n",
      "(38656502,) (38656502,)\n"
     ]
    },
    {
     "name": "stderr",
     "output_type": "stream",
     "text": [
      "ic| label_current_deforestation_test_classified_incorrect.shape: (1089297,)\n",
      "    predicted_test_classified_incorrect.shape: (1089297,)\n",
      "ic| TP_H + FN_H + FP_H + TN_H: 1089297\n",
      "    len(label_mask_current_deforestation_test): 39745799\n",
      "ic| TP_H + FN_H + FP_H + TN_H: 1089297\n",
      "    len(label_mask_current_deforestation_test): 39745799\n"
     ]
    },
    {
     "name": "stdout",
     "output_type": "stream",
     "text": [
      "cm_correct [[38035962   177584]\n",
      " [   30351   412605]]\n",
      "cm_incorrect [[945506  55305]\n",
      " [ 57330  31156]]\n",
      "[0.69910656 0.93148078 0.77638764 0.02740659 0.36034744 0.3521009 ]\n",
      "0.4512467327488643\n",
      "threshold 0.4512467327488643\n",
      "(38631392,) (38631392,)\n"
     ]
    },
    {
     "name": "stderr",
     "output_type": "stream",
     "text": [
      "ic| label_current_deforestation_test_classified_incorrect.shape: (1114407,)\n",
      "    predicted_test_classified_incorrect.shape: (1114407,)\n",
      "ic| TP_H + FN_H + FP_H + TN_H: 1114407\n",
      "    len(label_mask_current_deforestation_test): 39745799\n",
      "ic| TP_H + FN_H + FP_H + TN_H: 1114407\n",
      "    len(label_mask_current_deforestation_test): 39745799\n"
     ]
    },
    {
     "name": "stdout",
     "output_type": "stream",
     "text": [
      "cm_correct [[38013408   176431]\n",
      " [   29948   411605]]\n",
      "cm_incorrect [[968060  56458]\n",
      " [ 57733  32156]]\n",
      "[0.69996565 0.93217575 0.77450597 0.02803836 0.3628772  0.35773009]\n",
      "0.4284897900332564\n",
      "threshold 0.4284897900332564\n",
      "(38546987,) (38546987,)\n"
     ]
    },
    {
     "name": "stderr",
     "output_type": "stream",
     "text": [
      "ic| label_current_deforestation_test_classified_incorrect.shape: (1198812,)\n",
      "    predicted_test_classified_incorrect.shape: (1198812,)\n",
      "ic| TP_H + FN_H + FP_H + TN_H: 1198812\n",
      "    len(label_mask_current_deforestation_test): 39745799\n",
      "ic| TP_H + FN_H + FP_H + TN_H: 1198812\n",
      "    len(label_mask_current_deforestation_test): 39745799\n"
     ]
    },
    {
     "name": "stdout",
     "output_type": "stream",
     "text": [
      "cm_correct [[37937798   172447]\n",
      " [   28477   408265]]\n",
      "cm_incorrect [[1043670   60442]\n",
      " [  59204   35496]]\n",
      "[0.70304213 0.93479674 0.76822118 0.03016198 0.36998895 0.37482577]\n",
      "0.41085454273879807\n",
      "threshold 0.41085454273879807\n",
      "(38479136,) (38479136,)\n"
     ]
    },
    {
     "name": "stderr",
     "output_type": "stream",
     "text": [
      "ic| label_current_deforestation_test_classified_incorrect.shape: (1266663,)\n",
      "    predicted_test_classified_incorrect.shape: (1266663,)\n",
      "ic| TP_H + FN_H + FP_H + TN_H: 1266663\n",
      "    len(label_mask_current_deforestation_test): 39745799\n",
      "ic| TP_H + FN_H + FP_H + TN_H: 1266663\n",
      "    len(label_mask_current_deforestation_test): 39745799\n"
     ]
    },
    {
     "name": "stdout",
     "output_type": "stream",
     "text": [
      "cm_correct [[37877240   169142]\n",
      " [   27381   405373]]\n",
      "cm_incorrect [[1104228   63747]\n",
      " [  60300   38388]]\n",
      "[0.70559167 0.93672849 0.76277938 0.0318691  0.37585549 0.38898346]\n",
      "0.4307875758121134\n",
      "threshold 0.4307875758121134\n",
      "(38555661,) (38555661,)\n"
     ]
    },
    {
     "name": "stderr",
     "output_type": "stream",
     "text": [
      "ic| label_current_deforestation_test_classified_incorrect.shape: (1190138,)\n",
      "    predicted_test_classified_incorrect.shape: (1190138,)\n",
      "ic| TP_H + FN_H + FP_H + TN_H: 1190138\n",
      "    len(label_mask_current_deforestation_test): 39745799\n",
      "ic| TP_H + FN_H + FP_H + TN_H: 1190138\n",
      "    len(label_mask_current_deforestation_test): 39745799\n"
     ]
    },
    {
     "name": "stdout",
     "output_type": "stream",
     "text": [
      "cm_correct [[37945581   172863]\n",
      " [   28612   408605]]\n",
      "cm_incorrect [[1035887   60026]\n",
      " [  59069   35156]]\n",
      "[0.70271279 0.93455881 0.76886095 0.02994374 0.36935555 0.37310692]\n",
      "0.4386672656101319\n",
      "threshold 0.4386672656101319\n",
      "(38585069,) (38585069,)\n"
     ]
    },
    {
     "name": "stderr",
     "output_type": "stream",
     "text": [
      "ic| label_current_deforestation_test_classified_incorrect.shape: (1160730,)\n",
      "    predicted_test_classified_incorrect.shape: (1160730,)\n",
      "ic| TP_H + FN_H + FP_H + TN_H: 1160730\n",
      "    len(label_mask_current_deforestation_test): 39745799\n",
      "ic| TP_H + FN_H + FP_H + TN_H: 1160730\n",
      "    len(label_mask_current_deforestation_test): 39745799\n"
     ]
    },
    {
     "name": "stdout",
     "output_type": "stream",
     "text": [
      "cm_correct [[37971908   174271]\n",
      " [   29132   409758]]\n",
      "cm_incorrect [[1009560   58618]\n",
      " [  58549   34003]]\n",
      "[0.70160557 0.93362346 0.77103052 0.02920384 0.36711977 0.36739347]\n",
      "0.4313121611309461\n",
      "threshold 0.4313121611309461\n",
      "(38557607,) (38557607,)\n"
     ]
    },
    {
     "name": "stderr",
     "output_type": "stream",
     "text": [
      "ic| label_current_deforestation_test_classified_incorrect.shape: (1188192,)\n",
      "    predicted_test_classified_incorrect.shape: (1188192,)\n",
      "ic| TP_H + FN_H + FP_H + TN_H: 1188192\n",
      "    len(label_mask_current_deforestation_test): 39745799\n",
      "ic| TP_H + FN_H + FP_H + TN_H: 1188192\n",
      "    len(label_mask_current_deforestation_test): 39745799\n"
     ]
    },
    {
     "name": "stdout",
     "output_type": "stream",
     "text": [
      "cm_correct [[37947315   172952]\n",
      " [   28653   408687]]\n",
      "cm_incorrect [[1034153   59937]\n",
      " [  59028   35074]]\n",
      "[0.70264717 0.93448347 0.76901525 0.02989478 0.36915726 0.37272322]\n",
      "0.4301046521383011\n",
      "threshold 0.4301046521383011\n",
      "(38553069,) (38553069,)\n"
     ]
    },
    {
     "name": "stderr",
     "output_type": "stream",
     "text": [
      "ic| label_current_deforestation_test_classified_incorrect.shape: (1192730,)\n",
      "    predicted_test_classified_incorrect.shape: (1192730,)\n",
      "ic| TP_H + FN_H + FP_H + TN_H: 1192730\n",
      "    len(label_mask_current_deforestation_test): 39745799\n",
      "ic| TP_H + FN_H + FP_H + TN_H: 1192730\n",
      "    len(label_mask_current_deforestation_test): 39745799\n"
     ]
    },
    {
     "name": "stdout",
     "output_type": "stream",
     "text": [
      "cm_correct [[37943257   172744]\n",
      " [   28562   408506]]\n",
      "cm_incorrect [[1038211   60145]\n",
      " [  59119   35255]]\n",
      "[0.70280602 0.9346509  0.76867466 0.03000896 0.36954927 0.37356687]\n",
      "0.4294878297013182\n",
      "threshold 0.4294878297013182\n",
      "(38550745,) (38550745,)\n"
     ]
    },
    {
     "name": "stderr",
     "output_type": "stream",
     "text": [
      "ic| label_current_deforestation_test_classified_incorrect.shape: (1195054,)\n",
      "    predicted_test_classified_incorrect.shape: (1195054,)\n",
      "ic| TP_H + FN_H + FP_H + TN_H: 1195054\n",
      "    len(label_mask_current_deforestation_test): 39745799\n",
      "ic| TP_H + FN_H + FP_H + TN_H: 1195054\n",
      "    len(label_mask_current_deforestation_test): 39745799\n"
     ]
    },
    {
     "name": "stdout",
     "output_type": "stream",
     "text": [
      "cm_correct [[37941174   172636]\n",
      " [   28526   408409]]\n",
      "cm_incorrect [[1040294   60253]\n",
      " [  59155   35352]]\n",
      "[0.70288704 0.9347134  0.76849214 0.03006743 0.36977146 0.37406753]\n",
      "0.430171753936443\n",
      "threshold 0.430171753936443\n",
      "(38553326,) (38553326,)\n"
     ]
    },
    {
     "name": "stderr",
     "output_type": "stream",
     "text": [
      "ic| label_current_deforestation_test_classified_incorrect.shape: (1192473,)\n",
      "    predicted_test_classified_incorrect.shape: (1192473,)\n",
      "ic| TP_H + FN_H + FP_H + TN_H: 1192473\n",
      "    len(label_mask_current_deforestation_test): 39745799\n",
      "ic| TP_H + FN_H + FP_H + TN_H: 1192473\n",
      "    len(label_mask_current_deforestation_test): 39745799\n"
     ]
    },
    {
     "name": "stdout",
     "output_type": "stream",
     "text": [
      "cm_correct [[37943487   172759]\n",
      " [   28566   408514]]\n",
      "cm_incorrect [[1037981   60130]\n",
      " [  59115   35247]]\n",
      "[0.70279198 0.93464354 0.76868972 0.03000249 0.3695545  0.3735296 ]\n",
      "0.4303173520822726\n",
      "threshold 0.4303173520822726\n",
      "(38553865,) (38553865,)\n"
     ]
    },
    {
     "name": "stderr",
     "output_type": "stream",
     "text": [
      "ic| label_current_deforestation_test_classified_incorrect.shape: (1191934,)\n",
      "    predicted_test_classified_incorrect.shape: (1191934,)\n",
      "ic| TP_H + FN_H + FP_H + TN_H: 1191934\n",
      "    len(label_mask_current_deforestation_test): 39745799\n",
      "ic| TP_H + FN_H + FP_H + TN_H: 1191934\n",
      "    len(label_mask_current_deforestation_test): 39745799\n"
     ]
    },
    {
     "name": "stdout",
     "output_type": "stream",
     "text": [
      "cm_correct [[37943968   172783]\n",
      " [   28577   408537]]\n",
      "cm_incorrect [[1037500   60106]\n",
      " [  59104   35224]]\n",
      "[0.70277472 0.93462346 0.76873299 0.02998893 0.36949544 0.37342041]\n",
      "0.43020509365025456\n",
      "threshold 0.43020509365025456\n",
      "(38553455,) (38553455,)\n"
     ]
    },
    {
     "name": "stderr",
     "output_type": "stream",
     "text": [
      "ic| label_current_deforestation_test_classified_incorrect.shape: (1192344,)\n",
      "    predicted_test_classified_incorrect.shape: (1192344,)\n",
      "ic| TP_H + FN_H + FP_H + TN_H: 1192344\n",
      "    len(label_mask_current_deforestation_test): 39745799\n",
      "ic| TP_H + FN_H + FP_H + TN_H: 1192344\n",
      "    len(label_mask_current_deforestation_test): 39745799\n"
     ]
    },
    {
     "name": "stdout",
     "output_type": "stream",
     "text": [
      "cm_correct [[37943599   172765]\n",
      " [   28569   408522]]\n",
      "cm_incorrect [[1037869   60124]\n",
      " [  59112   35239]]\n",
      "[0.70278881 0.93463832 0.76870477 0.02999925 0.36952487 0.37348836]\n",
      "0.4302475774140825\n",
      "threshold 0.4302475774140825\n",
      "(38553618,) (38553618,)\n"
     ]
    },
    {
     "name": "stderr",
     "output_type": "stream",
     "text": [
      "ic| label_current_deforestation_test_classified_incorrect.shape: (1192181,)\n",
      "    predicted_test_classified_incorrect.shape: (1192181,)\n",
      "ic| TP_H + FN_H + FP_H + TN_H: 1192181\n",
      "    len(label_mask_current_deforestation_test): 39745799\n",
      "ic| TP_H + FN_H + FP_H + TN_H: 1192181\n",
      "    len(label_mask_current_deforestation_test): 39745799\n",
      "ic| self.threshold_optimal: 0.43020509365025456\n"
     ]
    },
    {
     "name": "stdout",
     "output_type": "stream",
     "text": [
      "cm_correct [[37943745   172773]\n",
      " [   28572   408528]]\n",
      "cm_incorrect [[1037723   60116]\n",
      " [  59109   35233]]\n",
      "[0.70278221 0.93463281 0.76871606 0.02999514 0.3695162  0.37346039]\n",
      "threshold 0.43020509365025456\n",
      "(38553455,) (38553455,)\n"
     ]
    },
    {
     "name": "stderr",
     "output_type": "stream",
     "text": [
      "ic| label_current_deforestation_test_classified_incorrect.shape: (1192344,)\n",
      "    predicted_test_classified_incorrect.shape: (1192344,)\n",
      "ic| TP_H + FN_H + FP_H + TN_H: 1192344\n",
      "    len(label_mask_current_deforestation_test): 39745799\n",
      "ic| TP_H + FN_H + FP_H + TN_H: 1192344\n",
      "    len(label_mask_current_deforestation_test): 39745799\n"
     ]
    },
    {
     "name": "stdout",
     "output_type": "stream",
     "text": [
      "cm_correct [[37943599   172765]\n",
      " [   28569   408522]]\n",
      "cm_incorrect [[1037869   60124]\n",
      " [  59112   35239]]\n",
      "[0.70278881 0.93463832 0.76870477 0.02999925 0.36952487 0.37348836]\n",
      "threshold 0.43020509365025456\n",
      "(39745799,) (39745799,)\n"
     ]
    },
    {
     "name": "stderr",
     "output_type": "stream",
     "text": [
      "ic| self.m_optimal: {'AA': array([0.02999925]),\n",
      "                     'f1': 73.46,\n",
      "                     'f1_H': array([0.37149604]),\n",
      "                     'f1_L': array([0.80229934]),\n",
      "                     'precision_H': array([0.36952487]),\n",
      "                     'precision_L': array([0.70278881]),\n",
      "                     'recall_H': array([0.37348836]),\n",
      "                     'recall_L': array([0.93463832]),\n",
      "                     'recall_Ltotal': array([0.76870477])}\n",
      "ic| self.m_audited_optimal: {'f1': array([0.83320575]),\n",
      "                             'precision': array([0.74429354]),\n",
      "                             'recall': array([0.94624249])}\n"
     ]
    },
    {
     "name": "stdout",
     "output_type": "stream",
     "text": [
      "cm_audited [[39041592   172765]\n",
      " [   28569   502873]]\n",
      "[0.74429354 0.94624249]\n",
      "D:/Jorge/datasets/deforestation/MT/deforestation_past_years.tif\n",
      "Loaded deforestation past years\n"
     ]
    },
    {
     "name": "stderr",
     "output_type": "stream",
     "text": [
      "ic| np.unique(deforestation_past_years, return_counts=True): (array([   0, 2008, 2009, 2010, 2011, 2012, 2013, 2014, 2015, 2016, 2017,\n",
      "                                                                    2018, 2019, 2020, 2021], dtype=uint16),\n",
      "                                                              array([161124576,   1332784,    240796,    338545,    313901,    287191,\n",
      "                                                                       708581,    648966,    876898,   1007787,   1098901,   1054092,\n",
      "                                                                      2096062,   2473828,   1400992], dtype=int64))\n"
     ]
    },
    {
     "name": "stdout",
     "output_type": "stream",
     "text": [
      "Label where deforestation past years is actual date (2019) = 1\n"
     ]
    },
    {
     "name": "stderr",
     "output_type": "stream",
     "text": [
      "ic| np.unique(deforestation_past_years, return_counts=True): (array([   0, 2008, 2009, 2010, 2011, 2012, 2013, 2014, 2015, 2016, 2017,\n",
      "                                                                    2018, 2019, 2020, 2021], dtype=uint16),\n",
      "                                                              array([161124576,   1332784,    240796,    338545,    313901,    287191,\n",
      "                                                                       708581,    648966,    876898,   1007787,   1098901,   1054092,\n",
      "                                                                      2096062,   2473828,   1400992], dtype=int64))\n"
     ]
    },
    {
     "name": "stdout",
     "output_type": "stream",
     "text": [
      "Past deforestation different from 0 (no deforestation)\n"
     ]
    },
    {
     "name": "stderr",
     "output_type": "stream",
     "text": [
      "ic| np.unique(deforestation_past_years, return_counts=True): (array([   0, 2008, 2009, 2010, 2011, 2012, 2013, 2014, 2015, 2016, 2017,\n",
      "                                                                    2018, 2019, 2020, 2021], dtype=uint16),\n",
      "                                                              array([161124576,   1332784,    240796,    338545,    313901,    287191,\n",
      "                                                                       708581,    648966,    876898,   1007787,   1098901,   1054092,\n",
      "                                                                      2096062,   2473828,   1400992], dtype=int64))\n"
     ]
    },
    {
     "name": "stdout",
     "output_type": "stream",
     "text": [
      "Past deforestation before 2008 is 2\n",
      "D:/Jorge/datasets/deforestation/MT/deforestation_before_2008/deforestation_before_2008_MT.tif\n"
     ]
    },
    {
     "name": "stderr",
     "output_type": "stream",
     "text": [
      "ic| np.unique(label_past_deforestation_before_2008, return_counts=True): (array([  0, 215], dtype=uint8), array([122623260,  52380640], dtype=int64))\n",
      "ic| np.unique(deforestation_past_years, return_counts=True): (array([   0, 2008, 2009, 2010, 2011, 2012, 2013, 2014, 2015, 2016, 2017,\n",
      "                                                                    2018, 2019, 2020, 2021], dtype=uint16),\n",
      "                                                              array([161124576,   1332784,    240796,    338545,    313901,    287191,\n",
      "                                                                       708581,    648966,    876898,   1007787,   1098901,   1054092,\n",
      "                                                                      2096062,   2473828,   1400992], dtype=int64))\n",
      "ic| label_per_date.shape: (16795, 10420, 1)\n"
     ]
    },
    {
     "name": "stdout",
     "output_type": "stream",
     "text": [
      "Mask label shape:  \n",
      " (16795, 10420, 1) \n",
      " Unique values:  \n",
      " [0 1 2]\n",
      "Tiles size:  3359 2084\n",
      "Mask size:  (16795, 10420)\n"
     ]
    },
    {
     "name": "stderr",
     "output_type": "stream",
     "text": [
      "ic| image_stack.shape: (16795, 10420, 21)\n"
     ]
    },
    {
     "name": "stdout",
     "output_type": "stream",
     "text": [
      "Image shape:  (16795, 10420, 21)\n",
      "mask:  (16795, 10420)\n",
      "image stack:  (16795, 10420, 21)\n",
      "ref : (16795, 10420, 1)\n",
      "Training tiles:  [2, 4, 5, 6, 7, 12, 14, 15, 18, 21, 23, 24]\n",
      "Validation tiles:  [9, 11, 25]\n",
      "Test tiles:  [1, 3, 8, 10, 13, 16, 17, 19, 20, 22]\n"
     ]
    },
    {
     "name": "stderr",
     "output_type": "stream",
     "text": [
      "ic| im_idx_row.shape: (16795, 10420, 1)\n",
      "    im_idx_col.shape: (16795, 10420, 1)\n",
      "ic| im_idx_row.dtype: dtype('uint16')\n",
      "    im_idx_col.dtype: dtype('uint16')\n",
      "ic| im_idx.shape: (16795, 10420, 2), im_idx.dtype: dtype('uint16')\n",
      "ic| coords.shape: (439, 271, 1, 128, 128, 2)\n",
      "    coords.dtype: dtype('uint16')\n",
      "ic| coords.shape: (118969, 2), coords.dtype: dtype('uint16')\n",
      "ic| self.coords_train.shape: (54516, 3)\n",
      "    self.coords_val.shape: (13175, 3)\n"
     ]
    },
    {
     "name": "stdout",
     "output_type": "stream",
     "text": [
      "training samples:  (2962, 3) validation samples:  (623, 3)\n",
      "time:  0\n",
      "Model: \"model_6\"\n",
      "__________________________________________________________________________________________________\n",
      "Layer (type)                    Output Shape         Param #     Connected to                     \n",
      "==================================================================================================\n",
      "input_enc_net (InputLayer)      [(None, 128, 128, 21 0                                            \n",
      "__________________________________________________________________________________________________\n",
      "res1_net1 (Conv2D)              (None, 128, 128, 16) 3040        input_enc_net[0][0]              \n",
      "__________________________________________________________________________________________________\n",
      "drop_net1 (Dropout)             (None, 128, 128, 16) 0           res1_net1[0][0]                  \n",
      "__________________________________________________________________________________________________\n",
      "res2_net1 (Conv2D)              (None, 128, 128, 16) 2320        drop_net1[0][0]                  \n",
      "__________________________________________________________________________________________________\n",
      "res3_net1 (Conv2D)              (None, 128, 128, 16) 352         input_enc_net[0][0]              \n",
      "__________________________________________________________________________________________________\n",
      "add_36 (Add)                    (None, 128, 128, 16) 0           res2_net1[0][0]                  \n",
      "                                                                 res3_net1[0][0]                  \n",
      "__________________________________________________________________________________________________\n",
      "pool_net1 (MaxPooling2D)        (None, 64, 64, 16)   0           add_36[0][0]                     \n",
      "__________________________________________________________________________________________________\n",
      "res1_net2 (Conv2D)              (None, 64, 64, 32)   4640        pool_net1[0][0]                  \n",
      "__________________________________________________________________________________________________\n",
      "drop_net2 (Dropout)             (None, 64, 64, 32)   0           res1_net2[0][0]                  \n",
      "__________________________________________________________________________________________________\n",
      "res2_net2 (Conv2D)              (None, 64, 64, 32)   9248        drop_net2[0][0]                  \n",
      "__________________________________________________________________________________________________\n",
      "res3_net2 (Conv2D)              (None, 64, 64, 32)   544         pool_net1[0][0]                  \n",
      "__________________________________________________________________________________________________\n",
      "add_37 (Add)                    (None, 64, 64, 32)   0           res2_net2[0][0]                  \n",
      "                                                                 res3_net2[0][0]                  \n",
      "__________________________________________________________________________________________________\n",
      "pool_net2 (MaxPooling2D)        (None, 32, 32, 32)   0           add_37[0][0]                     \n",
      "__________________________________________________________________________________________________\n",
      "res1_net3 (Conv2D)              (None, 32, 32, 64)   18496       pool_net2[0][0]                  \n",
      "__________________________________________________________________________________________________\n",
      "drop_net3 (Dropout)             (None, 32, 32, 64)   0           res1_net3[0][0]                  \n",
      "__________________________________________________________________________________________________\n",
      "res2_net3 (Conv2D)              (None, 32, 32, 64)   36928       drop_net3[0][0]                  \n",
      "__________________________________________________________________________________________________\n",
      "res3_net3 (Conv2D)              (None, 32, 32, 64)   2112        pool_net2[0][0]                  \n",
      "__________________________________________________________________________________________________\n",
      "add_38 (Add)                    (None, 32, 32, 64)   0           res2_net3[0][0]                  \n",
      "                                                                 res3_net3[0][0]                  \n",
      "__________________________________________________________________________________________________\n",
      "pool_net3 (MaxPooling2D)        (None, 16, 16, 64)   0           add_38[0][0]                     \n",
      "__________________________________________________________________________________________________\n",
      "res1_net4 (Conv2D)              (None, 16, 16, 64)   36928       pool_net3[0][0]                  \n",
      "__________________________________________________________________________________________________\n",
      "drop_net4 (Dropout)             (None, 16, 16, 64)   0           res1_net4[0][0]                  \n",
      "__________________________________________________________________________________________________\n",
      "res2_net4 (Conv2D)              (None, 16, 16, 64)   36928       drop_net4[0][0]                  \n",
      "__________________________________________________________________________________________________\n",
      "res3_net4 (Conv2D)              (None, 16, 16, 64)   4160        pool_net3[0][0]                  \n",
      "__________________________________________________________________________________________________\n",
      "add_39 (Add)                    (None, 16, 16, 64)   0           res2_net4[0][0]                  \n",
      "                                                                 res3_net4[0][0]                  \n",
      "__________________________________________________________________________________________________\n",
      "res1_net5 (Conv2D)              (None, 16, 16, 64)   36928       add_39[0][0]                     \n",
      "__________________________________________________________________________________________________\n",
      "drop_net5 (Dropout)             (None, 16, 16, 64)   0           res1_net5[0][0]                  \n",
      "__________________________________________________________________________________________________\n",
      "res2_net5 (Conv2D)              (None, 16, 16, 64)   36928       drop_net5[0][0]                  \n",
      "__________________________________________________________________________________________________\n",
      "res3_net5 (Conv2D)              (None, 16, 16, 64)   4160        add_39[0][0]                     \n",
      "__________________________________________________________________________________________________\n",
      "add_40 (Add)                    (None, 16, 16, 64)   0           res2_net5[0][0]                  \n",
      "                                                                 res3_net5[0][0]                  \n",
      "__________________________________________________________________________________________________\n",
      "res1_net6 (Conv2D)              (None, 16, 16, 64)   36928       add_40[0][0]                     \n",
      "__________________________________________________________________________________________________\n",
      "drop_net6 (Dropout)             (None, 16, 16, 64)   0           res1_net6[0][0]                  \n",
      "__________________________________________________________________________________________________\n",
      "res2_net6 (Conv2D)              (None, 16, 16, 64)   36928       drop_net6[0][0]                  \n",
      "__________________________________________________________________________________________________\n",
      "res3_net6 (Conv2D)              (None, 16, 16, 64)   4160        add_40[0][0]                     \n",
      "__________________________________________________________________________________________________\n",
      "add_41 (Add)                    (None, 16, 16, 64)   0           res2_net6[0][0]                  \n",
      "                                                                 res3_net6[0][0]                  \n",
      "__________________________________________________________________________________________________\n",
      "up_sampling2d_18 (UpSampling2D) (None, 32, 32, 64)   0           add_41[0][0]                     \n",
      "__________________________________________________________________________________________________\n",
      "upsampling_net3 (Conv2D)        (None, 32, 32, 64)   36928       up_sampling2d_18[0][0]           \n",
      "__________________________________________________________________________________________________\n",
      "concatenate3 (Concatenate)      (None, 32, 32, 128)  0           add_38[0][0]                     \n",
      "                                                                 upsampling_net3[0][0]            \n",
      "__________________________________________________________________________________________________\n",
      "up_sampling2d_19 (UpSampling2D) (None, 64, 64, 128)  0           concatenate3[0][0]               \n",
      "__________________________________________________________________________________________________\n",
      "upsampling_net2 (Conv2D)        (None, 64, 64, 32)   36896       up_sampling2d_19[0][0]           \n",
      "__________________________________________________________________________________________________\n",
      "concatenate2 (Concatenate)      (None, 64, 64, 64)   0           add_37[0][0]                     \n",
      "                                                                 upsampling_net2[0][0]            \n",
      "__________________________________________________________________________________________________\n",
      "up_sampling2d_20 (UpSampling2D) (None, 128, 128, 64) 0           concatenate2[0][0]               \n",
      "__________________________________________________________________________________________________\n",
      "upsampling_net1 (Conv2D)        (None, 128, 128, 16) 9232        up_sampling2d_20[0][0]           \n",
      "__________________________________________________________________________________________________\n",
      "concatenate1 (Concatenate)      (None, 128, 128, 32) 0           add_36[0][0]                     \n",
      "                                                                 upsampling_net1[0][0]            \n",
      "__________________________________________________________________________________________________\n",
      "output (Conv2D)                 (None, 128, 128, 3)  99          concatenate1[0][0]               \n",
      "==================================================================================================\n",
      "Total params: 394,883\n",
      "Trainable params: 394,883\n",
      "Non-trainable params: 0\n",
      "__________________________________________________________________________________________________\n"
     ]
    },
    {
     "name": "stderr",
     "output_type": "stream",
     "text": [
      "c:\\Users\\jchamorro\\Anaconda3\\envs\\tf2\\lib\\site-packages\\tensorflow\\python\\keras\\optimizer_v2\\optimizer_v2.py:374: UserWarning: The `lr` argument is deprecated, use `learning_rate` instead.\n",
      "  warnings.warn(\n",
      "c:\\Users\\jchamorro\\Anaconda3\\envs\\tf2\\lib\\site-packages\\tensorflow\\python\\keras\\engine\\training.py:1969: UserWarning: `Model.fit_generator` is deprecated and will be removed in a future version. Please use `Model.fit`, which supports generators.\n",
      "  warnings.warn('`Model.fit_generator` is deprecated and '\n"
     ]
    },
    {
     "name": "stdout",
     "output_type": "stream",
     "text": [
      "Epoch 1/100\n",
      "self.global_step 0.0\n",
      "alpha Tensor(\"loss/add:0\", shape=(None, 128, 128, 3), dtype=float32)\n",
      "u Tensor(\"loss/truediv:0\", shape=(None, 128, 128, 1), dtype=float32)\n",
      "alpha Tensor(\"add:0\", shape=(None, 128, 128, 3), dtype=float32)\n",
      "u Tensor(\"truediv:0\", shape=(None, 128, 128, 1), dtype=float32)\n",
      "K.int_shape(KL_reg) Tensor(\"mul_6:0\", shape=(None, 128, 128, 1), dtype=float32)\n",
      "alpha Tensor(\"add_7:0\", shape=(None, 128, 128, 3), dtype=float32)\n",
      "u Tensor(\"truediv_5:0\", shape=(None, 128, 128, 1), dtype=float32)\n",
      "K.int_shape(KL_reg) Tensor(\"mul_12:0\", shape=(None, 128, 128, 1), dtype=float32)\n",
      "alpha Tensor(\"loss/add:0\", shape=(None, 128, 128, 3), dtype=float32)\n",
      "u Tensor(\"loss/truediv:0\", shape=(None, 128, 128, 1), dtype=float32)\n",
      "alpha Tensor(\"add:0\", shape=(None, 128, 128, 3), dtype=float32)\n",
      "u Tensor(\"truediv:0\", shape=(None, 128, 128, 1), dtype=float32)\n",
      "K.int_shape(KL_reg) Tensor(\"mul_6:0\", shape=(None, 128, 128, 1), dtype=float32)\n",
      "alpha Tensor(\"add_7:0\", shape=(None, 128, 128, 3), dtype=float32)\n",
      "u Tensor(\"truediv_5:0\", shape=(None, 128, 128, 1), dtype=float32)\n",
      "K.int_shape(KL_reg) Tensor(\"mul_12:0\", shape=(None, 128, 128, 1), dtype=float32)\n",
      "277/277 [==============================] - ETA: 0s - loss: 0.1613 - accuracy: 0.6696 - KL_term: 0.0224 - loglikelihood_term: 0.4617 - evidential_success: 23.9695 - evidential_fail: 20.4344 - acc: 0.6694 - annealing_coef: 0.0368 - global_step_get: 138.0000 - annealing_step_get: 3750.0000alpha Tensor(\"loss/add:0\", shape=(None, 128, 128, 3), dtype=float32)\n",
      "u Tensor(\"loss/truediv:0\", shape=(None, 128, 128, 1), dtype=float32)\n",
      "alpha Tensor(\"add:0\", shape=(None, 128, 128, 3), dtype=float32)\n",
      "u Tensor(\"truediv:0\", shape=(None, 128, 128, 1), dtype=float32)\n",
      "K.int_shape(KL_reg) Tensor(\"mul_6:0\", shape=(None, 128, 128, 1), dtype=float32)\n",
      "alpha Tensor(\"add_7:0\", shape=(None, 128, 128, 3), dtype=float32)\n",
      "u Tensor(\"truediv_5:0\", shape=(None, 128, 128, 1), dtype=float32)\n",
      "K.int_shape(KL_reg) Tensor(\"mul_12:0\", shape=(None, 128, 128, 1), dtype=float32)\n",
      "277/277 [==============================] - 27s 86ms/step - loss: 0.1613 - accuracy: 0.6696 - KL_term: 0.0224 - loglikelihood_term: 0.4617 - evidential_success: 23.9695 - evidential_fail: 20.4344 - acc: 0.6694 - annealing_coef: 0.0368 - global_step_get: 138.0000 - annealing_step_get: 3750.0000 - val_loss: 0.0751 - val_accuracy: 0.8928 - val_KL_term: 0.0115 - val_loglikelihood_term: 0.2144 - val_evidential_success: 10.9066 - val_evidential_fail: 5.3576 - val_acc: 0.8921 - val_annealing_coef: 0.0736 - val_global_step_get: 276.0000 - val_annealing_step_get: 3750.0000\n",
      "\n",
      "Epoch 00001: val_loss improved from inf to 0.07513, saving model to D:/Jorge/datasets/deforestation/experiments/MT/exp178/models\\resunet_0.h5\n"
     ]
    },
    {
     "name": "stderr",
     "output_type": "stream",
     "text": [
      "c:\\Users\\jchamorro\\Anaconda3\\envs\\tf2\\lib\\site-packages\\tensorflow\\python\\keras\\utils\\generic_utils.py:494: CustomMaskWarning: Custom mask layers require a config and must override get_config. When loading, the custom mask layer must be passed to the custom_objects argument.\n",
      "  warnings.warn('Custom mask layers require a config and must override '\n"
     ]
    },
    {
     "name": "stdout",
     "output_type": "stream",
     "text": [
      "Epoch 2/100\n",
      "self.global_step 276.0\n",
      "277/277 [==============================] - 23s 84ms/step - loss: 0.0731 - accuracy: 0.8819 - KL_term: 0.0207 - loglikelihood_term: 0.1988 - evidential_success: 24.5146 - evidential_fail: 12.2703 - acc: 0.8819 - annealing_coef: 0.0736 - global_step_get: 276.0000 - annealing_step_get: 3750.0000 - val_loss: 0.0562 - val_accuracy: 0.9255 - val_KL_term: 0.0159 - val_loglikelihood_term: 0.1521 - val_evidential_success: 15.5292 - val_evidential_fail: 5.6150 - val_acc: 0.9257 - val_annealing_coef: 0.1472 - val_global_step_get: 552.0000 - val_annealing_step_get: 3750.0000\n",
      "\n",
      "Epoch 00002: val_loss improved from 0.07513 to 0.05615, saving model to D:/Jorge/datasets/deforestation/experiments/MT/exp178/models\\resunet_0.h5\n",
      "Epoch 3/100\n",
      "self.global_step 552.0\n",
      "277/277 [==============================] - 23s 84ms/step - loss: 0.0653 - accuracy: 0.8986 - KL_term: 0.0221 - loglikelihood_term: 0.1737 - evidential_success: 27.6765 - evidential_fail: 10.7723 - acc: 0.8986 - annealing_coef: 0.1104 - global_step_get: 414.0000 - annealing_step_get: 3750.0000 - val_loss: 0.0517 - val_accuracy: 0.9335 - val_KL_term: 0.0198 - val_loglikelihood_term: 0.1346 - val_evidential_success: 18.8942 - val_evidential_fail: 5.3348 - val_acc: 0.9336 - val_annealing_coef: 0.2208 - val_global_step_get: 828.0000 - val_annealing_step_get: 3750.0000\n",
      "\n",
      "Epoch 00003: val_loss improved from 0.05615 to 0.05166, saving model to D:/Jorge/datasets/deforestation/experiments/MT/exp178/models\\resunet_0.h5\n",
      "Epoch 4/100\n",
      "self.global_step 828.0\n",
      "277/277 [==============================] - 23s 84ms/step - loss: 0.0623 - accuracy: 0.9056 - KL_term: 0.0234 - loglikelihood_term: 0.1633 - evidential_success: 30.4901 - evidential_fail: 9.5781 - acc: 0.9056 - annealing_coef: 0.1472 - global_step_get: 552.0000 - annealing_step_get: 3750.0000 - val_loss: 0.0538 - val_accuracy: 0.9319 - val_KL_term: 0.0239 - val_loglikelihood_term: 0.1375 - val_evidential_success: 17.7240 - val_evidential_fail: 4.4294 - val_acc: 0.9319 - val_annealing_coef: 0.2944 - val_global_step_get: 1104.0000 - val_annealing_step_get: 3750.0000\n",
      "\n",
      "Epoch 00004: val_loss did not improve from 0.05166\n",
      "Epoch 5/100\n",
      "self.global_step 1104.0\n",
      "277/277 [==============================] - 23s 84ms/step - loss: 0.0597 - accuracy: 0.9125 - KL_term: 0.0252 - loglikelihood_term: 0.1541 - evidential_success: 32.4355 - evidential_fail: 9.0061 - acc: 0.9123 - annealing_coef: 0.1840 - global_step_get: 690.0000 - annealing_step_get: 3750.0000 - val_loss: 0.0505 - val_accuracy: 0.9380 - val_KL_term: 0.0255 - val_loglikelihood_term: 0.1257 - val_evidential_success: 21.0382 - val_evidential_fail: 4.5727 - val_acc: 0.9380 - val_annealing_coef: 0.3680 - val_global_step_get: 1380.0000 - val_annealing_step_get: 3750.0000\n",
      "\n",
      "Epoch 00005: val_loss improved from 0.05166 to 0.05055, saving model to D:/Jorge/datasets/deforestation/experiments/MT/exp178/models\\resunet_0.h5\n",
      "Epoch 6/100\n",
      "self.global_step 1380.0\n",
      "277/277 [==============================] - 23s 84ms/step - loss: 0.0586 - accuracy: 0.9165 - KL_term: 0.0276 - loglikelihood_term: 0.1482 - evidential_success: 34.3821 - evidential_fail: 8.8150 - acc: 0.9165 - annealing_coef: 0.2208 - global_step_get: 828.0000 - annealing_step_get: 3750.0000 - val_loss: 0.0531 - val_accuracy: 0.9371 - val_KL_term: 0.0306 - val_loglikelihood_term: 0.1286 - val_evidential_success: 19.8757 - val_evidential_fail: 4.1831 - val_acc: 0.9370 - val_annealing_coef: 0.4416 - val_global_step_get: 1656.0000 - val_annealing_step_get: 3750.0000\n",
      "\n",
      "Epoch 00006: val_loss did not improve from 0.05055\n",
      "Epoch 7/100\n",
      "self.global_step 1656.0\n",
      "277/277 [==============================] - 23s 83ms/step - loss: 0.0567 - accuracy: 0.9205 - KL_term: 0.0279 - loglikelihood_term: 0.1421 - evidential_success: 35.6176 - evidential_fail: 7.8586 - acc: 0.9205 - annealing_coef: 0.2576 - global_step_get: 966.0000 - annealing_step_get: 3750.0000 - val_loss: 0.0514 - val_accuracy: 0.9405 - val_KL_term: 0.0322 - val_loglikelihood_term: 0.1215 - val_evidential_success: 25.1738 - val_evidential_fail: 4.1756 - val_acc: 0.9404 - val_annealing_coef: 0.5152 - val_global_step_get: 1932.0000 - val_annealing_step_get: 3750.0000\n",
      "\n",
      "Epoch 00007: val_loss did not improve from 0.05055\n",
      "Epoch 8/100\n",
      "self.global_step 1932.0\n",
      "277/277 [==============================] - 23s 84ms/step - loss: 0.0559 - accuracy: 0.9235 - KL_term: 0.0297 - loglikelihood_term: 0.1381 - evidential_success: 37.9785 - evidential_fail: 7.7653 - acc: 0.9235 - annealing_coef: 0.2944 - global_step_get: 1104.0000 - annealing_step_get: 3750.0000 - val_loss: 0.0526 - val_accuracy: 0.9413 - val_KL_term: 0.0285 - val_loglikelihood_term: 0.1287 - val_evidential_success: 20.5629 - val_evidential_fail: 3.3721 - val_acc: 0.9413 - val_annealing_coef: 0.5888 - val_global_step_get: 2208.0000 - val_annealing_step_get: 3750.0000\n",
      "\n",
      "Epoch 00008: val_loss did not improve from 0.05055\n",
      "Epoch 9/100\n",
      "self.global_step 2208.0\n",
      "277/277 [==============================] - 23s 84ms/step - loss: 0.0547 - accuracy: 0.9255 - KL_term: 0.0293 - loglikelihood_term: 0.1348 - evidential_success: 39.1372 - evidential_fail: 6.9534 - acc: 0.9255 - annealing_coef: 0.3312 - global_step_get: 1242.0000 - annealing_step_get: 3750.0000 - val_loss: 0.0520 - val_accuracy: 0.9411 - val_KL_term: 0.0342 - val_loglikelihood_term: 0.1213 - val_evidential_success: 25.9881 - val_evidential_fail: 3.8465 - val_acc: 0.9411 - val_annealing_coef: 0.6624 - val_global_step_get: 2484.0000 - val_annealing_step_get: 3750.0000\n",
      "\n",
      "Epoch 00009: val_loss did not improve from 0.05055\n",
      "Epoch 10/100\n",
      "self.global_step 2484.0\n",
      "277/277 [==============================] - 23s 84ms/step - loss: 0.0517 - accuracy: 0.9276 - KL_term: 0.0258 - loglikelihood_term: 0.1293 - evidential_success: 41.8114 - evidential_fail: 5.9742 - acc: 0.9275 - annealing_coef: 0.3680 - global_step_get: 1380.0000 - annealing_step_get: 3750.0000 - val_loss: 0.0558 - val_accuracy: 0.9385 - val_KL_term: 0.0426 - val_loglikelihood_term: 0.1240 - val_evidential_success: 29.3908 - val_evidential_fail: 4.2626 - val_acc: 0.9385 - val_annealing_coef: 0.7360 - val_global_step_get: 2760.0000 - val_annealing_step_get: 3750.0000\n",
      "\n",
      "Epoch 00010: val_loss did not improve from 0.05055\n",
      "Epoch 11/100\n",
      "self.global_step 2760.0\n",
      "277/277 [==============================] - 23s 84ms/step - loss: 0.0510 - accuracy: 0.9278 - KL_term: 0.0258 - loglikelihood_term: 0.1272 - evidential_success: 44.7416 - evidential_fail: 5.3115 - acc: 0.9278 - annealing_coef: 0.4048 - global_step_get: 1518.0000 - annealing_step_get: 3750.0000 - val_loss: 0.0554 - val_accuracy: 0.9382 - val_KL_term: 0.0504 - val_loglikelihood_term: 0.1150 - val_evidential_success: 35.8206 - val_evidential_fail: 5.1976 - val_acc: 0.9384 - val_annealing_coef: 0.8096 - val_global_step_get: 3036.0000 - val_annealing_step_get: 3750.0000\n",
      "\n",
      "Epoch 00011: val_loss did not improve from 0.05055\n",
      "Epoch 12/100\n",
      "self.global_step 3036.0\n",
      "277/277 [==============================] - 23s 84ms/step - loss: 0.0499 - accuracy: 0.9300 - KL_term: 0.0261 - loglikelihood_term: 0.1238 - evidential_success: 47.1554 - evidential_fail: 5.1464 - acc: 0.9299 - annealing_coef: 0.4416 - global_step_get: 1656.0000 - annealing_step_get: 3750.0000 - val_loss: 0.0550 - val_accuracy: 0.9406 - val_KL_term: 0.0475 - val_loglikelihood_term: 0.1168 - val_evidential_success: 32.1371 - val_evidential_fail: 4.3347 - val_acc: 0.9408 - val_annealing_coef: 0.8832 - val_global_step_get: 3312.0000 - val_annealing_step_get: 3750.0000\n",
      "\n",
      "Epoch 00012: val_loss did not improve from 0.05055\n",
      "Epoch 13/100\n",
      "self.global_step 3312.0\n",
      "277/277 [==============================] - 23s 84ms/step - loss: 0.0496 - accuracy: 0.9305 - KL_term: 0.0264 - loglikelihood_term: 0.1223 - evidential_success: 48.0511 - evidential_fail: 4.9417 - acc: 0.9305 - annealing_coef: 0.4784 - global_step_get: 1794.0000 - annealing_step_get: 3750.0000 - val_loss: 0.0570 - val_accuracy: 0.9421 - val_KL_term: 0.0544 - val_loglikelihood_term: 0.1155 - val_evidential_success: 34.9859 - val_evidential_fail: 4.6858 - val_acc: 0.9423 - val_annealing_coef: 0.9568 - val_global_step_get: 3588.0000 - val_annealing_step_get: 3750.0000\n",
      "\n",
      "Epoch 00013: val_loss did not improve from 0.05055\n",
      "Epoch 14/100\n",
      "self.global_step 3588.0\n",
      "277/277 [==============================] - 23s 84ms/step - loss: 0.0493 - accuracy: 0.9313 - KL_term: 0.0266 - loglikelihood_term: 0.1212 - evidential_success: 48.9682 - evidential_fail: 4.7011 - acc: 0.9313 - annealing_coef: 0.5147 - global_step_get: 1932.0000 - annealing_step_get: 3750.0000 - val_loss: 0.0657 - val_accuracy: 0.9322 - val_KL_term: 0.0754 - val_loglikelihood_term: 0.1201 - val_evidential_success: 38.8176 - val_evidential_fail: 5.7171 - val_acc: 0.9326 - val_annealing_coef: 1.0000 - val_global_step_get: 3864.0000 - val_annealing_step_get: 3750.0000\n",
      "\n",
      "Epoch 00014: val_loss did not improve from 0.05055\n",
      "Epoch 15/100\n",
      "self.global_step 3864.0\n",
      "277/277 [==============================] - 23s 84ms/step - loss: 0.0488 - accuracy: 0.9320 - KL_term: 0.0269 - loglikelihood_term: 0.1195 - evidential_success: 50.6477 - evidential_fail: 4.4500 - acc: 0.9319 - annealing_coef: 0.5469 - global_step_get: 2070.0000 - annealing_step_get: 3750.0000 - val_loss: 0.0699 - val_accuracy: 0.9268 - val_KL_term: 0.0839 - val_loglikelihood_term: 0.1236 - val_evidential_success: 41.0185 - val_evidential_fail: 6.0637 - val_acc: 0.9274 - val_annealing_coef: 1.0000 - val_global_step_get: 4140.0000 - val_annealing_step_get: 3750.0000\n",
      "\n",
      "Epoch 00015: val_loss did not improve from 0.05055\n",
      "Epoch 00015: early stopping\n",
      "-5.0 -12.0\n"
     ]
    },
    {
     "name": "stderr",
     "output_type": "stream",
     "text": [
      "ic| self.path_models+ '/' + self.method +'_'+str(0)+'.h5': 'D:/Jorge/datasets/deforestation/experiments/MT/exp178/models/resunet_0.h5'\n"
     ]
    },
    {
     "name": "stdout",
     "output_type": "stream",
     "text": [
      "time:  0\n",
      "(39774655,)\n",
      "(array([0, 1], dtype=uint8), array([39234711,   539944], dtype=int64))\n",
      "(16795, 10420)\n",
      "(array([0., 1.], dtype=float32), array([173287533,   1716367], dtype=int64))\n"
     ]
    },
    {
     "name": "stderr",
     "output_type": "stream",
     "text": [
      "ic| self.predicted_unpad.shape: (16795, 10420)\n",
      "    self.predicted.shape: (16795, 10420)\n",
      "ic| predicted_test.shape: (70001560,)\n",
      "ic| predicted_test.shape: (39774655,)\n",
      "ic| np.unique(predicted, return_counts=True): (array([0., 1.], dtype=float32), array([173287533,   1716367], dtype=int64))\n",
      "    np.unique(predicted_larger_than_min_area, return_counts=True): (array([0., 1.], dtype=float32), array([173367277,   1636623], dtype=int64))\n",
      "ic| np.unique(ignored_polygons, return_counts=True): (array([0., 1.], dtype=float32), array([174924156,     79744], dtype=int64))\n",
      "ic| self.f1: 83.87, self.precision: 90.15, self.recall: 78.4\n",
      "ic| self.label_mask_val.shape: (21000468,)\n",
      "ic| self.label_mask_val_valid.shape: (10900638,)\n",
      "ic| f1_val: 94.98\n",
      "    precision_val: 99.2\n",
      "    recall_val: 91.11\n",
      "    mAP_val: 98.88\n"
     ]
    },
    {
     "name": "stdout",
     "output_type": "stream",
     "text": [
      "(array([0., 1.], dtype=float32), array([174579333,    424567], dtype=int64))\n",
      "[0. 1.]\n"
     ]
    },
    {
     "name": "stderr",
     "output_type": "stream",
     "text": [
      "ic| self.label_mask.shape: (16795, 10420)\n",
      "ic| self.mask_amazon_ts.shape: (16795, 10420)\n",
      "ic| self.label_mask_test.shape: (70001560,)\n",
      "ic| self.error_mask_test.shape: (39741734,)\n",
      "ic| bounds: (0.0015, 0.9985)\n",
      "c:\\Users\\jchamorro\\Anaconda3\\envs\\tf2\\lib\\site-packages\\scipy\\optimize\\_minimize.py:783: RuntimeWarning: Method 'bounded' does not support relative tolerance in x; defaulting to absolute tolerance.\n",
      "  warn(\"Method 'bounded' does not support relative tolerance in x; \"\n"
     ]
    },
    {
     "name": "stdout",
     "output_type": "stream",
     "text": [
      "0.38232011321635484\n",
      "threshold 0.38232011321635484\n",
      "(38602085,) (38602085,)\n"
     ]
    },
    {
     "name": "stderr",
     "output_type": "stream",
     "text": [
      "ic| label_current_deforestation_test_classified_incorrect.shape: (1139649,)\n",
      "    predicted_test_classified_incorrect.shape: (1139649,)\n",
      "ic| TP_H + FN_H + FP_H + TN_H: 1139649\n",
      "    len(label_mask_current_deforestation_test): 39741734\n",
      "ic| TP_H + FN_H + FP_H + TN_H: 1139649\n",
      "    len(label_mask_current_deforestation_test): 39741734\n"
     ]
    },
    {
     "name": "stdout",
     "output_type": "stream",
     "text": [
      "cm_correct [[38219930    16407]\n",
      " [   34921   330827]]\n",
      "cm_incorrect [[945676  29028]\n",
      " [ 79721  85224]]\n",
      "[0.95274944 0.90452169 0.62338678 0.02867638 0.74593005 0.51668132]\n",
      "0.6176798867836452\n",
      "threshold 0.6176798867836452\n",
      "(39254832,) (39254832,)\n"
     ]
    },
    {
     "name": "stderr",
     "output_type": "stream",
     "text": [
      "ic| label_current_deforestation_test_classified_incorrect.shape: (486902,)\n",
      "    predicted_test_classified_incorrect.shape: (486902,)\n",
      "ic| TP_H + FN_H + FP_H + TN_H: 486902\n",
      "    len(label_mask_current_deforestation_test): 39741734\n",
      "ic| TP_H + FN_H + FP_H + TN_H: 486902\n",
      "    len(label_mask_current_deforestation_test): 39741734\n"
     ]
    },
    {
     "name": "stdout",
     "output_type": "stream",
     "text": [
      "cm_correct [[38780087    36181]\n",
      " [   46167   392397]]\n",
      "cm_incorrect [[385519   9254]\n",
      " [ 68475  23654]]\n",
      "[0.91557896 0.89473144 0.73940489 0.01225165 0.71879178 0.25674869]\n",
      "0.23685977356729035\n",
      "threshold 0.23685977356729035\n",
      "(37749929,) (37749929,)\n"
     ]
    },
    {
     "name": "stderr",
     "output_type": "stream",
     "text": [
      "ic| label_current_deforestation_test_classified_incorrect.shape: (1991805,)\n",
      "    predicted_test_classified_incorrect.shape: (1991805,)\n"
     ]
    },
    {
     "name": "stdout",
     "output_type": "stream",
     "text": [
      "cm_correct [[37448175     7801]\n",
      " [   25701   268252]]\n"
     ]
    },
    {
     "name": "stderr",
     "output_type": "stream",
     "text": [
      "ic| TP_H + FN_H + FP_H + TN_H: 1991805\n",
      "    len(label_mask_current_deforestation_test): 39741734\n",
      "ic| TP_H + FN_H + FP_H + TN_H: 1991805\n",
      "    len(label_mask_current_deforestation_test): 39741734\n"
     ]
    },
    {
     "name": "stdout",
     "output_type": "stream",
     "text": [
      "cm_incorrect [[1717431   37634]\n",
      " [  88941  147799]]\n",
      "[0.97174093 0.91256766 0.50547492 0.05011872 0.79704799 0.62430937]\n",
      "0.43322565179569406\n",
      "threshold 0.43322565179569406\n",
      "(38779574,) (38779574,)\n"
     ]
    },
    {
     "name": "stderr",
     "output_type": "stream",
     "text": [
      "ic| label_current_deforestation_test_classified_incorrect.shape: (962160,)\n",
      "    predicted_test_classified_incorrect.shape: (962160,)\n",
      "ic| TP_H + FN_H + FP_H + TN_H: 962160\n",
      "    len(label_mask_current_deforestation_test): 39741734\n",
      "ic| TP_H + FN_H + FP_H + TN_H: 962160\n",
      "    len(label_mask_current_deforestation_test): 39741734\n"
     ]
    },
    {
     "name": "stdout",
     "output_type": "stream",
     "text": [
      "cm_correct [[38375278    20085]\n",
      " [   37055   347156]]\n",
      "cm_incorrect [[790328  25350]\n",
      " [ 77587  68895]]\n",
      "[0.94530839 0.9035556  0.65415598 0.02421032 0.73102021 0.47033083]\n",
      "0.3267592074855162\n",
      "threshold 0.3267592074855162\n",
      "(38363760,) (38363760,)\n"
     ]
    },
    {
     "name": "stderr",
     "output_type": "stream",
     "text": [
      "ic| label_current_deforestation_test_classified_incorrect.shape: (1377974,)\n",
      "    predicted_test_classified_incorrect.shape: (1377974,)\n",
      "ic| TP_H + FN_H + FP_H "
     ]
    },
    {
     "name": "stdout",
     "output_type": "stream",
     "text": [
      "cm_correct [[38008183    12806]\n",
      " [   32226   310545]]\n",
      "cm_incorrect [[1157423   32629]\n",
      " [  82416  105506]]\n"
     ]
    },
    {
     "name": "stderr",
     "output_type": "stream",
     "text": [
      "+ TN_H: 1377974\n",
      "    len(label_mask_current_deforestation_test): 39741734\n",
      "ic| TP_H + FN_H + FP_H + TN_H: 1377974\n",
      "    len(label_mask_current_deforestation_test): 39741734\n"
     ]
    },
    {
     "name": "stdout",
     "output_type": "stream",
     "text": [
      "[0.96039598 0.90598388 0.58516883 0.03467322 0.76378905 0.56143506]\n",
      "0.3762210993153821\n",
      "threshold 0.3762210993153821\n",
      "(38578221,) (38578221,)\n"
     ]
    },
    {
     "name": "stderr",
     "output_type": "stream",
     "text": [
      "ic| label_current_deforestation_test_classified_incorrect.shape: (1163513,)\n",
      "    predicted_test_classified_incorrect.shape: (1163513,)\n",
      "ic| TP_H + FN_H + FP_H + TN_H: 1163513\n",
      "    len(label_mask_current_deforestation_test): 39741734\n",
      "ic| TP_H + FN_H + FP_H "
     ]
    },
    {
     "name": "stdout",
     "output_type": "stream",
     "text": [
      "cm_correct [[38198931    15982]\n",
      " [   34644   328664]]\n",
      "cm_incorrect [[966675  29453]\n",
      " [ 79998  87387]]\n"
     ]
    },
    {
     "name": "stderr",
     "output_type": "stream",
     "text": [
      "+ TN_H: 1163513\n",
      "    len(label_mask_current_deforestation_test): 39741734\n"
     ]
    },
    {
     "name": "stdout",
     "output_type": "stream",
     "text": [
      "[0.95362778 0.90464289 0.61931098 0.02927686 0.74792023 0.52207187]\n",
      "0.36393198782382785\n",
      "threshold 0.36393198782382785\n",
      "(38529085,) (38529085,)\n"
     ]
    },
    {
     "name": "stderr",
     "output_type": "stream",
     "text": [
      "ic| label_current_deforestation_test_classified_incorrect.shape: (1212649,)\n",
      "    predicted_test_classified_incorrect.shape: (1212649,)\n",
      "ic| TP_H + FN_H + FP_H + TN_H: 1212649\n",
      "    len(label_mask_current_deforestation_test): 39741734\n",
      "ic| TP_H + FN_H + FP_H + TN_H: 1212649\n",
      "    len(label_mask_current_deforestation_test): 39741734\n"
     ]
    },
    {
     "name": "stdout",
     "output_type": "stream",
     "text": [
      "cm_correct [[38155617    15192]\n",
      " [   34072   324204]]\n",
      "cm_incorrect [[1009989   30243]\n",
      " [  80570   91847]]\n",
      "[0.95523813 0.90490013 0.61090687 0.03051324 0.75228929 0.53270269]\n",
      "0.34973324919092663\n",
      "threshold 0.34973324919092663\n",
      "(38469301,) (38469301,)\n"
     ]
    },
    {
     "name": "stderr",
     "output_type": "stream",
     "text": [
      "ic| label_current_deforestation_test_classified_incorrect.shape: (1272433,)\n",
      "    predicted_test_classified_incorrect.shape: (1272433,)\n",
      "ic| TP_H + FN_H + FP_H + TN_H: 1272433\n",
      "    len(label_mask_current_deforestation_test): 39741734\n",
      "ic| TP_H + FN_H + FP_H + TN_H: 1272433\n",
      "    len(label_mask_current_deforestation_test): 39741734\n"
     ]
    },
    {
     "name": "stdout",
     "output_type": "stream",
     "text": [
      "cm_correct [[38102494    14312]\n",
      " [   33387   319108]]\n",
      "cm_incorrect [[1063112   31123]\n",
      " [  81255   96943]]\n",
      "[0.95707516 0.90528376 0.60130433 0.03201755 0.75697687 0.54401845]\n",
      "0.36814668182770083\n",
      "threshold 0.36814668182770083\n",
      "(38546124,) (38546124,)\n"
     ]
    },
    {
     "name": "stderr",
     "output_type": "stream",
     "text": [
      "ic| label_current_deforestation_test_classified_incorrect.shape: (1195610,)\n",
      "    predicted_test_classified_incorrect.shape: (1195610,)\n",
      "ic| TP_H + FN_H + FP_H + TN_H: 1195610\n",
      "    len(label_mask_current_deforestation_test): 39741734\n",
      "ic| TP_H + FN_H + FP_H + TN_H: 1195610\n",
      "    len(label_mask_current_deforestation_test): 39741734\n"
     ]
    },
    {
     "name": "stdout",
     "output_type": "stream",
     "text": [
      "cm_correct [[38170654    15460]\n",
      " [   34267   325743]]\n",
      "cm_incorrect [[994952  29975]\n",
      " [ 80375  90308]]\n",
      "[0.95468973 0.90481653 0.61380685 0.0300845  0.75079604 0.5290978 ]\n",
      "0.36949611876302485\n",
      "threshold 0.36949611876302485\n",
      "(38551582,) (38551582,)\n"
     ]
    },
    {
     "name": "stderr",
     "output_type": "stream",
     "text": [
      "ic| label_current_deforestation_test_classified_incorrect.shape: (1190152,)\n",
      "    predicted_test_classified_incorrect.shape: (1190152,)\n",
      "ic| TP_H + FN_H + FP_H + TN_H: 1190152\n",
      "    len(label_mask_current_deforestation_test): 39741734\n",
      "ic| TP_H + FN_H + FP_H + TN_H: 1190152\n",
      "    len(label_mask_current_deforestation_test): 39741734\n"
     ]
    },
    {
     "name": "stdout",
     "output_type": "stream",
     "text": [
      "cm_correct [[38175431    15537]\n",
      " [   34330   326284]]\n",
      "cm_incorrect [[990175  29898]\n",
      " [ 80312  89767]]\n",
      "[0.95454639 0.90480126 0.61482627 0.02994716 0.75015251 0.52779591]\n",
      "0.36965516675539584\n",
      "threshold 0.36965516675539584\n",
      "(38552263,) (38552263,)\n"
     ]
    },
    {
     "name": "stderr",
     "output_type": "stream",
     "text": [
      "ic| label_current_deforestation_test_classified_incorrect.shape: (1189471,)\n",
      "    predicted_test_classified_incorrect.shape: (1189471,)\n",
      "ic| TP_H + FN_H + FP_H + TN_H: 1189471\n",
      "    len(label_mask_current_deforestation_test): 39741734\n",
      "ic| TP_H + FN_H + FP_H + TN_H: 1189471\n",
      "    len(label_mask_current_deforestation_test): 39741734\n"
     ]
    },
    {
     "name": "stdout",
     "output_type": "stream",
     "text": [
      "cm_correct [[38176031    15547]\n",
      " [   34340   326345]]\n",
      "cm_incorrect [[989575  29888]\n",
      " [ 80302  89706]]\n",
      "[0.95452658 0.90479227 0.61494122 0.02993002 0.7500878  0.52765752]\n",
      "0.3689562529178391\n",
      "threshold 0.3689562529178391\n",
      "(38549418,) (38549418,)\n"
     ]
    },
    {
     "name": "stderr",
     "output_type": "stream",
     "text": [
      "ic| label_current_deforestation_test_classified_incorrect.shape: (1192316,)\n",
      "    predicted_test_classified_incorrect.shape: (1192316,)\n",
      "ic| TP_H + FN_H + FP_H + TN_H: 1192316\n",
      "    len(label_mask_current_deforestation_test): 39741734\n",
      "ic| TP_H + FN_H + FP_H + TN_H: 1192316\n",
      "    len(label_mask_current_deforestation_test): 39741734\n"
     ]
    },
    {
     "name": "stdout",
     "output_type": "stream",
     "text": [
      "cm_correct [[38173526    15505]\n",
      " [   34305   326082]]\n",
      "cm_incorrect [[992080  29930]\n",
      " [ 80337  89969]]\n",
      "[0.95460893 0.90481066 0.61444564 0.03000161 0.75037323 0.52827851]\n",
      "0.3686470242777156\n",
      "threshold 0.3686470242777156\n",
      "(38548154,) (38548154,)\n"
     ]
    },
    {
     "name": "stderr",
     "output_type": "stream",
     "text": [
      "ic| label_current_deforestation_test_classified_incorrect.shape: (1193580,)\n",
      "    predicted_test_classified_incorrect.shape: (1193580,)\n",
      "ic| TP_H + FN_H + FP_H + TN_H: 1193580\n",
      "    len(label_mask_current_deforestation_test): 39741734\n",
      "ic| TP_H + FN_H + FP_H + TN_H: 1193580\n",
      "    len(label_mask_current_deforestation_test): 39741734\n"
     ]
    },
    {
     "name": "stdout",
     "output_type": "stream",
     "text": [
      "cm_correct [[38172427    15484]\n",
      " [   34293   325950]]\n",
      "cm_incorrect [[993179  29951]\n",
      " [ 80349  90101]]\n",
      "[0.95465009 0.90480592 0.61419691 0.03003342 0.75051644 0.52860663]\n",
      "0.3690224531351968\n",
      "threshold 0.3690224531351968\n",
      "(38549669,) (38549669,)\n"
     ]
    },
    {
     "name": "stderr",
     "output_type": "stream",
     "text": [
      "ic| label_current_deforestation_test_classified_incorrect.shape: (1192065,)\n",
      "    predicted_test_classified_incorrect.shape: (1192065,)\n",
      "ic| TP_H + FN_H + FP_H + TN_H: 1192065\n",
      "    len(label_mask_current_deforestation_test): 39741734\n",
      "ic| TP_H + FN_H + FP_H + TN_H: 1192065\n",
      "    len(label_mask_current_deforestation_test): 39741734\n"
     ]
    },
    {
     "name": "stdout",
     "output_type": "stream",
     "text": [
      "cm_correct [[38173740    15511]\n",
      " [   34307   326111]]\n",
      "cm_incorrect [[991866  29924]\n",
      " [ 80335  89940]]\n",
      "[0.95459602 0.9048133  0.61450029 0.02999529 0.7503504  0.52820438]\n",
      "0.3689229141120002\n",
      "threshold 0.3689229141120002\n",
      "(38549289,) (38549289,)\n"
     ]
    },
    {
     "name": "stderr",
     "output_type": "stream",
     "text": [
      "ic| label_current_deforestation_test_classified_incorrect.shape: (1192445,)\n",
      "    predicted_test_classified_incorrect.shape: (1192445,)\n",
      "ic| TP_H + FN_H + FP_H + TN_H: 1192445\n",
      "    len(label_mask_current_deforestation_test): 39741734\n",
      "ic| TP_H + FN_H + FP_H + TN_H: 1192445\n",
      "    len(label_mask_current_deforestation_test): 39741734\n",
      "ic| self.threshold_optimal: 0.3689562529178391\n"
     ]
    },
    {
     "name": "stdout",
     "output_type": "stream",
     "text": [
      "cm_correct [[38173411    15505]\n",
      " [   34302   326071]]\n",
      "cm_incorrect [[992195  29930]\n",
      " [ 80340  89980]]\n",
      "[0.95460747 0.90481529 0.61442491 0.03000486 0.75039613 0.52829967]\n",
      "threshold 0.3689562529178391\n",
      "(38549418,) (38549418,)\n"
     ]
    },
    {
     "name": "stderr",
     "output_type": "stream",
     "text": [
      "ic| label_current_deforestation_test_classified_incorrect.shape: (1192316,)\n",
      "    predicted_test_classified_incorrect.shape: (1192316,)\n",
      "ic| TP_H + FN_H + FP_H + TN_H: 1192316\n",
      "    len(label_mask_current_deforestation_test): 39741734\n",
      "ic| TP_H + FN_H + FP_H + TN_H: 1192316\n",
      "    len(label_mask_current_deforestation_test): 39741734\n"
     ]
    },
    {
     "name": "stdout",
     "output_type": "stream",
     "text": [
      "cm_correct [[38173526    15505]\n",
      " [   34305   326082]]\n",
      "cm_incorrect [[992080  29930]\n",
      " [ 80337  89969]]\n",
      "[0.95460893 0.90481066 0.61444564 0.03000161 0.75037323 0.52827851]\n",
      "threshold 0.3689562529178391\n",
      "(39741734,) (39741734,)\n"
     ]
    },
    {
     "name": "stderr",
     "output_type": "stream",
     "text": [
      "ic| self.m_optimal: {'AA': array([0.03000161]),\n",
      "                     'f1': 83.87,\n",
      "                     'f1_H': array([0.62003756]),\n",
      "                     'f1_L': array([0.92904296]),\n",
      "                     'precision_H': array([0.75037323]),\n",
      "                     'precision_L': array([0.95460893]),\n",
      "                     'recall_H': array([0.52827851]),\n",
      "                     'recall_L': array([0.90481066]),\n",
      "                     'recall_Ltotal': array([0.61444564])}\n",
      "ic| self.m_audited_optimal: {'f1': array([0.95222456]),\n",
      "                             'precision': array([0.96971047]),\n",
      "                             'recall': array([0.93535811])}\n"
     ]
    },
    {
     "name": "stdout",
     "output_type": "stream",
     "text": [
      "cm_audited [[39195536    15505]\n",
      " [   34305   496388]]\n",
      "[0.96971047 0.93535811]\n",
      "D:/Jorge/datasets/deforestation/MT/deforestation_past_years.tif\n",
      "Loaded deforestation past years\n"
     ]
    },
    {
     "name": "stderr",
     "output_type": "stream",
     "text": [
      "ic| np.unique(deforestation_past_years, return_counts=True): (array([   0, 2008, 2009, 2010, 2011, 2012, 2013, 2014, 2015, 2016, 2017,\n",
      "                                                                    2018, 2019, 2020, 2021], dtype=uint16),\n",
      "                                                              array([161124576,   1332784,    240796,    338545,    313901,    287191,\n",
      "                                                                       708581,    648966,    876898,   1007787,   1098901,   1054092,\n",
      "                                                                      2096062,   2473828,   1400992], dtype=int64))\n"
     ]
    },
    {
     "name": "stdout",
     "output_type": "stream",
     "text": [
      "Label where deforestation past years is actual date (2019) = 1\n"
     ]
    },
    {
     "name": "stderr",
     "output_type": "stream",
     "text": [
      "ic| np.unique(deforestation_past_years, return_counts=True): (array([   0, 2008, 2009, 2010, 2011, 2012, 2013, 2014, 2015, 2016, 2017,\n",
      "                                                                    2018, 2019, 2020, 2021], dtype=uint16),\n",
      "                                                              array([161124576,   1332784,    240796,    338545,    313901,    287191,\n",
      "                                                                       708581,    648966,    876898,   1007787,   1098901,   1054092,\n",
      "                                                                      2096062,   2473828,   1400992], dtype=int64))\n"
     ]
    },
    {
     "name": "stdout",
     "output_type": "stream",
     "text": [
      "Past deforestation different from 0 (no deforestation)\n"
     ]
    },
    {
     "name": "stderr",
     "output_type": "stream",
     "text": [
      "ic| np.unique(deforestation_past_years, return_counts=True): (array([   0, 2008, 2009, 2010, 2011, 2012, 2013, 2014, 2015, 2016, 2017,\n",
      "                                                                    2018, 2019, 2020, 2021], dtype=uint16),\n",
      "                                                              array([161124576,   1332784,    240796,    338545,    313901,    287191,\n",
      "                                                                       708581,    648966,    876898,   1007787,   1098901,   1054092,\n",
      "                                                                      2096062,   2473828,   1400992], dtype=int64))\n"
     ]
    },
    {
     "name": "stdout",
     "output_type": "stream",
     "text": [
      "Past deforestation before 2008 is 2\n",
      "D:/Jorge/datasets/deforestation/MT/deforestation_before_2008/deforestation_before_2008_MT.tif\n"
     ]
    },
    {
     "name": "stderr",
     "output_type": "stream",
     "text": [
      "ic| np.unique(label_past_deforestation_before_2008, return_counts=True): (array([  0, 215], dtype=uint8), array([122623260,  52380640], dtype=int64))\n",
      "ic| np.unique(deforestation_past_years, return_counts=True): (array([   0, 2008, 2009, 2010, 2011, 2012, 2013, 2014, 2015, 2016, 2017,\n",
      "                                                                    2018, 2019, 2020, 2021], dtype=uint16),\n",
      "                                                              array([161124576,   1332784,    240796,    338545,    313901,    287191,\n",
      "                                                                       708581,    648966,    876898,   1007787,   1098901,   1054092,\n",
      "                                                                      2096062,   2473828,   1400992], dtype=int64))\n",
      "ic| label_per_date.shape: (16795, 10420, 1)\n"
     ]
    },
    {
     "name": "stdout",
     "output_type": "stream",
     "text": [
      "Mask label shape:  \n",
      " (16795, 10420, 1) \n",
      " Unique values:  \n",
      " [0 1 2]\n",
      "Tiles size:  3359 2084\n",
      "Mask size:  (16795, 10420)\n"
     ]
    },
    {
     "name": "stderr",
     "output_type": "stream",
     "text": [
      "ic| image_stack.shape: (16795, 10420, 21)\n"
     ]
    },
    {
     "name": "stdout",
     "output_type": "stream",
     "text": [
      "Image shape:  (16795, 10420, 21)\n",
      "mask:  (16795, 10420)\n",
      "image stack:  (16795, 10420, 21)\n",
      "ref : (16795, 10420, 1)\n",
      "Training tiles:  [2, 4, 5, 6, 7, 12, 14, 15, 18, 21, 23, 24]\n",
      "Validation tiles:  [9, 11, 25]\n",
      "Test tiles:  [1, 3, 8, 10, 13, 16, 17, 19, 20, 22]\n"
     ]
    },
    {
     "name": "stderr",
     "output_type": "stream",
     "text": [
      "ic| im_idx_row.shape: (16795, 10420, 1)\n",
      "    im_idx_col.shape: (16795, 10420, 1)\n",
      "ic| im_idx_row.dtype: dtype('uint16')\n",
      "    im_idx_col.dtype: dtype('uint16')\n",
      "ic| im_idx.shape: (16795, 10420, 2), im_idx.dtype: dtype('uint16')\n",
      "ic| coords.shape: (439, 271, 1, 128, 128, 2)\n",
      "    coords.dtype: dtype('uint16')\n",
      "ic| coords.shape: (118969, 2), coords.dtype: dtype('uint16')\n",
      "ic| self.coords_train.shape: (54516, 3)\n",
      "    self.coords_val.shape: (13175, 3)\n"
     ]
    },
    {
     "name": "stdout",
     "output_type": "stream",
     "text": [
      "training samples:  (2962, 3) validation samples:  (623, 3)\n",
      "time:  0\n",
      "Model: \"model_8\"\n",
      "__________________________________________________________________________________________________\n",
      "Layer (type)                    Output Shape         Param #     Connected to                     \n",
      "==================================================================================================\n",
      "input_enc_net (InputLayer)      [(None, 128, 128, 21 0                                            \n",
      "__________________________________________________________________________________________________\n",
      "res1_net1 (Conv2D)              (None, 128, 128, 16) 3040        input_enc_net[0][0]              \n",
      "__________________________________________________________________________________________________\n",
      "drop_net1 (Dropout)             (None, 128, 128, 16) 0           res1_net1[0][0]                  \n",
      "__________________________________________________________________________________________________\n",
      "res2_net1 (Conv2D)              (None, 128, 128, 16) 2320        drop_net1[0][0]                  \n",
      "__________________________________________________________________________________________________\n",
      "res3_net1 (Conv2D)              (None, 128, 128, 16) 352         input_enc_net[0][0]              \n",
      "__________________________________________________________________________________________________\n",
      "add_48 (Add)                    (None, 128, 128, 16) 0           res2_net1[0][0]                  \n",
      "                                                                 res3_net1[0][0]                  \n",
      "__________________________________________________________________________________________________\n",
      "pool_net1 (MaxPooling2D)        (None, 64, 64, 16)   0           add_48[0][0]                     \n",
      "__________________________________________________________________________________________________\n",
      "res1_net2 (Conv2D)              (None, 64, 64, 32)   4640        pool_net1[0][0]                  \n",
      "__________________________________________________________________________________________________\n",
      "drop_net2 (Dropout)             (None, 64, 64, 32)   0           res1_net2[0][0]                  \n",
      "__________________________________________________________________________________________________\n",
      "res2_net2 (Conv2D)              (None, 64, 64, 32)   9248        drop_net2[0][0]                  \n",
      "__________________________________________________________________________________________________\n",
      "res3_net2 (Conv2D)              (None, 64, 64, 32)   544         pool_net1[0][0]                  \n",
      "__________________________________________________________________________________________________\n",
      "add_49 (Add)                    (None, 64, 64, 32)   0           res2_net2[0][0]                  \n",
      "                                                                 res3_net2[0][0]                  \n",
      "__________________________________________________________________________________________________\n",
      "pool_net2 (MaxPooling2D)        (None, 32, 32, 32)   0           add_49[0][0]                     \n",
      "__________________________________________________________________________________________________\n",
      "res1_net3 (Conv2D)              (None, 32, 32, 64)   18496       pool_net2[0][0]                  \n",
      "__________________________________________________________________________________________________\n",
      "drop_net3 (Dropout)             (None, 32, 32, 64)   0           res1_net3[0][0]                  \n",
      "__________________________________________________________________________________________________\n",
      "res2_net3 (Conv2D)              (None, 32, 32, 64)   36928       drop_net3[0][0]                  \n",
      "__________________________________________________________________________________________________\n",
      "res3_net3 (Conv2D)              (None, 32, 32, 64)   2112        pool_net2[0][0]                  \n",
      "__________________________________________________________________________________________________\n",
      "add_50 (Add)                    (None, 32, 32, 64)   0           res2_net3[0][0]                  \n",
      "                                                                 res3_net3[0][0]                  \n",
      "__________________________________________________________________________________________________\n",
      "pool_net3 (MaxPooling2D)        (None, 16, 16, 64)   0           add_50[0][0]                     \n",
      "__________________________________________________________________________________________________\n",
      "res1_net4 (Conv2D)              (None, 16, 16, 64)   36928       pool_net3[0][0]                  \n",
      "__________________________________________________________________________________________________\n",
      "drop_net4 (Dropout)             (None, 16, 16, 64)   0           res1_net4[0][0]                  \n",
      "__________________________________________________________________________________________________\n",
      "res2_net4 (Conv2D)              (None, 16, 16, 64)   36928       drop_net4[0][0]                  \n",
      "__________________________________________________________________________________________________\n",
      "res3_net4 (Conv2D)              (None, 16, 16, 64)   4160        pool_net3[0][0]                  \n",
      "__________________________________________________________________________________________________\n",
      "add_51 (Add)                    (None, 16, 16, 64)   0           res2_net4[0][0]                  \n",
      "                                                                 res3_net4[0][0]                  \n",
      "__________________________________________________________________________________________________\n",
      "res1_net5 (Conv2D)              (None, 16, 16, 64)   36928       add_51[0][0]                     \n",
      "__________________________________________________________________________________________________\n",
      "drop_net5 (Dropout)             (None, 16, 16, 64)   0           res1_net5[0][0]                  \n",
      "__________________________________________________________________________________________________\n",
      "res2_net5 (Conv2D)              (None, 16, 16, 64)   36928       drop_net5[0][0]                  \n",
      "__________________________________________________________________________________________________\n",
      "res3_net5 (Conv2D)              (None, 16, 16, 64)   4160        add_51[0][0]                     \n",
      "__________________________________________________________________________________________________\n",
      "add_52 (Add)                    (None, 16, 16, 64)   0           res2_net5[0][0]                  \n",
      "                                                                 res3_net5[0][0]                  \n",
      "__________________________________________________________________________________________________\n",
      "res1_net6 (Conv2D)              (None, 16, 16, 64)   36928       add_52[0][0]                     \n",
      "__________________________________________________________________________________________________\n",
      "drop_net6 (Dropout)             (None, 16, 16, 64)   0           res1_net6[0][0]                  \n",
      "__________________________________________________________________________________________________\n",
      "res2_net6 (Conv2D)              (None, 16, 16, 64)   36928       drop_net6[0][0]                  \n",
      "__________________________________________________________________________________________________\n",
      "res3_net6 (Conv2D)              (None, 16, 16, 64)   4160        add_52[0][0]                     \n",
      "__________________________________________________________________________________________________\n",
      "add_53 (Add)                    (None, 16, 16, 64)   0           res2_net6[0][0]                  \n",
      "                                                                 res3_net6[0][0]                  \n",
      "__________________________________________________________________________________________________\n",
      "up_sampling2d_24 (UpSampling2D) (None, 32, 32, 64)   0           add_53[0][0]                     \n",
      "__________________________________________________________________________________________________\n",
      "upsampling_net3 (Conv2D)        (None, 32, 32, 64)   36928       up_sampling2d_24[0][0]           \n",
      "__________________________________________________________________________________________________\n",
      "concatenate3 (Concatenate)      (None, 32, 32, 128)  0           add_50[0][0]                     \n",
      "                                                                 upsampling_net3[0][0]            \n",
      "__________________________________________________________________________________________________\n",
      "up_sampling2d_25 (UpSampling2D) (None, 64, 64, 128)  0           concatenate3[0][0]               \n",
      "__________________________________________________________________________________________________\n",
      "upsampling_net2 (Conv2D)        (None, 64, 64, 32)   36896       up_sampling2d_25[0][0]           \n",
      "__________________________________________________________________________________________________\n",
      "concatenate2 (Concatenate)      (None, 64, 64, 64)   0           add_49[0][0]                     \n",
      "                                                                 upsampling_net2[0][0]            \n",
      "__________________________________________________________________________________________________\n",
      "up_sampling2d_26 (UpSampling2D) (None, 128, 128, 64) 0           concatenate2[0][0]               \n",
      "__________________________________________________________________________________________________\n",
      "upsampling_net1 (Conv2D)        (None, 128, 128, 16) 9232        up_sampling2d_26[0][0]           \n",
      "__________________________________________________________________________________________________\n",
      "concatenate1 (Concatenate)      (None, 128, 128, 32) 0           add_48[0][0]                     \n",
      "                                                                 upsampling_net1[0][0]            \n",
      "__________________________________________________________________________________________________\n",
      "output (Conv2D)                 (None, 128, 128, 3)  99          concatenate1[0][0]               \n",
      "==================================================================================================\n",
      "Total params: 394,883\n",
      "Trainable params: 394,883\n",
      "Non-trainable params: 0\n",
      "__________________________________________________________________________________________________\n"
     ]
    },
    {
     "name": "stderr",
     "output_type": "stream",
     "text": [
      "c:\\Users\\jchamorro\\Anaconda3\\envs\\tf2\\lib\\site-packages\\tensorflow\\python\\keras\\optimizer_v2\\optimizer_v2.py:374: UserWarning: The `lr` argument is deprecated, use `learning_rate` instead.\n",
      "  warnings.warn(\n",
      "c:\\Users\\jchamorro\\Anaconda3\\envs\\tf2\\lib\\site-packages\\tensorflow\\python\\keras\\engine\\training.py:1969: UserWarning: `Model.fit_generator` is deprecated and will be removed in a future version. Please use `Model.fit`, which supports generators.\n",
      "  warnings.warn('`Model.fit_generator` is deprecated and '\n"
     ]
    },
    {
     "name": "stdout",
     "output_type": "stream",
     "text": [
      "Epoch 1/100\n",
      "self.global_step 0.0\n",
      "alpha Tensor(\"loss/add:0\", shape=(None, 128, 128, 3), dtype=float32)\n",
      "u Tensor(\"loss/truediv:0\", shape=(None, 128, 128, 1), dtype=float32)\n",
      "alpha Tensor(\"add:0\", shape=(None, 128, 128, 3), dtype=float32)\n",
      "u Tensor(\"truediv:0\", shape=(None, 128, 128, 1), dtype=float32)\n",
      "K.int_shape(KL_reg) Tensor(\"mul_6:0\", shape=(None, 128, 128, 1), dtype=float32)\n",
      "alpha Tensor(\"add_7:0\", shape=(None, 128, 128, 3), dtype=float32)\n",
      "u Tensor(\"truediv_5:0\", shape=(None, 128, 128, 1), dtype=float32)\n",
      "K.int_shape(KL_reg) Tensor(\"mul_12:0\", shape=(None, 128, 128, 1), dtype=float32)\n",
      "alpha Tensor(\"loss/add:0\", shape=(None, 128, 128, 3), dtype=float32)\n",
      "u Tensor(\"loss/truediv:0\", shape=(None, 128, 128, 1), dtype=float32)\n",
      "alpha Tensor(\"add:0\", shape=(None, 128, 128, 3), dtype=float32)\n",
      "u Tensor(\"truediv:0\", shape=(None, 128, 128, 1), dtype=float32)\n",
      "K.int_shape(KL_reg) Tensor(\"mul_6:0\", shape=(None, 128, 128, 1), dtype=float32)\n",
      "alpha Tensor(\"add_7:0\", shape=(None, 128, 128, 3), dtype=float32)\n",
      "u Tensor(\"truediv_5:0\", shape=(None, 128, 128, 1), dtype=float32)\n",
      "K.int_shape(KL_reg) Tensor(\"mul_12:0\", shape=(None, 128, 128, 1), dtype=float32)\n",
      "277/277 [==============================] - ETA: 0s - loss: 0.1488 - accuracy: 0.6706 - KL_term: 0.0063 - loglikelihood_term: 0.4401 - evidential_success: 15.7925 - evidential_fail: 2.8737 - acc: 0.6707 - annealing_coef: 0.0368 - global_step_get: 138.0000 - annealing_step_get: 3750.0000alpha Tensor(\"loss/add:0\", shape=(None, 128, 128, 3), dtype=float32)\n",
      "u Tensor(\"loss/truediv:0\", shape=(None, 128, 128, 1), dtype=float32)\n",
      "alpha Tensor(\"add:0\", shape=(None, 128, 128, 3), dtype=float32)\n",
      "u Tensor(\"truediv:0\", shape=(None, 128, 128, 1), dtype=float32)\n",
      "K.int_shape(KL_reg) Tensor(\"mul_6:0\", shape=(None, 128, 128, 1), dtype=float32)\n",
      "alpha Tensor(\"add_7:0\", shape=(None, 128, 128, 3), dtype=float32)\n",
      "u Tensor(\"truediv_5:0\", shape=(None, 128, 128, 1), dtype=float32)\n",
      "K.int_shape(KL_reg) Tensor(\"mul_12:0\", shape=(None, 128, 128, 1), dtype=float32)\n",
      "277/277 [==============================] - 26s 85ms/step - loss: 0.1488 - accuracy: 0.6706 - KL_term: 0.0063 - loglikelihood_term: 0.4401 - evidential_success: 15.7925 - evidential_fail: 2.8737 - acc: 0.6707 - annealing_coef: 0.0368 - global_step_get: 138.0000 - annealing_step_get: 3750.0000 - val_loss: 0.1026 - val_accuracy: 0.7180 - val_KL_term: 0.0070 - val_loglikelihood_term: 0.2997 - val_evidential_success: 22.1475 - val_evidential_fail: 2.2613 - val_acc: 0.7191 - val_annealing_coef: 0.0736 - val_global_step_get: 276.0000 - val_annealing_step_get: 3750.0000\n",
      "\n",
      "Epoch 00001: val_loss improved from inf to 0.10261, saving model to D:/Jorge/datasets/deforestation/experiments/MT/exp179/models\\resunet_0.h5\n"
     ]
    },
    {
     "name": "stderr",
     "output_type": "stream",
     "text": [
      "c:\\Users\\jchamorro\\Anaconda3\\envs\\tf2\\lib\\site-packages\\tensorflow\\python\\keras\\utils\\generic_utils.py:494: CustomMaskWarning: Custom mask layers require a config and must override get_config. When loading, the custom mask layer must be passed to the custom_objects argument.\n",
      "  warnings.warn('Custom mask layers require a config and must override '\n"
     ]
    },
    {
     "name": "stdout",
     "output_type": "stream",
     "text": [
      "Epoch 2/100\n",
      "self.global_step 276.0\n",
      "277/277 [==============================] - 23s 83ms/step - loss: 0.1117 - accuracy: 0.7070 - KL_term: 0.0089 - loglikelihood_term: 0.3260 - evidential_success: 33.5833 - evidential_fail: 2.4910 - acc: 0.7071 - annealing_coef: 0.0736 - global_step_get: 276.0000 - annealing_step_get: 3750.0000 - val_loss: 0.0989 - val_accuracy: 0.7248 - val_KL_term: 0.0109 - val_loglikelihood_term: 0.2842 - val_evidential_success: 22.6505 - val_evidential_fail: 1.9419 - val_acc: 0.7263 - val_annealing_coef: 0.1472 - val_global_step_get: 552.0000 - val_annealing_step_get: 3750.0000\n",
      "\n",
      "Epoch 00002: val_loss improved from 0.10261 to 0.09887, saving model to D:/Jorge/datasets/deforestation/experiments/MT/exp179/models\\resunet_0.h5\n",
      "Epoch 3/100\n",
      "self.global_step 552.0\n",
      "277/277 [==============================] - 23s 83ms/step - loss: 0.1088 - accuracy: 0.7092 - KL_term: 0.0114 - loglikelihood_term: 0.3151 - evidential_success: 36.8394 - evidential_fail: 2.3086 - acc: 0.7089 - annealing_coef: 0.1104 - global_step_get: 414.0000 - annealing_step_get: 3750.0000 - val_loss: 0.1010 - val_accuracy: 0.7198 - val_KL_term: 0.0163 - val_loglikelihood_term: 0.2851 - val_evidential_success: 24.5523 - val_evidential_fail: 1.9865 - val_acc: 0.7214 - val_annealing_coef: 0.2208 - val_global_step_get: 828.0000 - val_annealing_step_get: 3750.0000\n",
      "\n",
      "Epoch 00003: val_loss did not improve from 0.09887\n",
      "Epoch 4/100\n",
      "self.global_step 828.0\n",
      "277/277 [==============================] - 23s 83ms/step - loss: 0.1074 - accuracy: 0.7110 - KL_term: 0.0134 - loglikelihood_term: 0.3087 - evidential_success: 38.7631 - evidential_fail: 2.0158 - acc: 0.7109 - annealing_coef: 0.1472 - global_step_get: 552.0000 - annealing_step_get: 3750.0000 - val_loss: 0.1037 - val_accuracy: 0.7235 - val_KL_term: 0.0167 - val_loglikelihood_term: 0.2927 - val_evidential_success: 19.8273 - val_evidential_fail: 1.4186 - val_acc: 0.7250 - val_annealing_coef: 0.2944 - val_global_step_get: 1104.0000 - val_annealing_step_get: 3750.0000\n",
      "\n",
      "Epoch 00004: val_loss did not improve from 0.09887\n",
      "Epoch 5/100\n",
      "self.global_step 1104.0\n",
      "277/277 [==============================] - 23s 83ms/step - loss: 0.1070 - accuracy: 0.7115 - KL_term: 0.0147 - loglikelihood_term: 0.3063 - evidential_success: 39.9157 - evidential_fail: 1.7586 - acc: 0.7114 - annealing_coef: 0.1840 - global_step_get: 690.0000 - annealing_step_get: 3750.0000 - val_loss: 0.1040 - val_accuracy: 0.7340 - val_KL_term: 0.0189 - val_loglikelihood_term: 0.2915 - val_evidential_success: 19.1170 - val_evidential_fail: 1.2219 - val_acc: 0.7352 - val_annealing_coef: 0.3680 - val_global_step_get: 1380.0000 - val_annealing_step_get: 3750.0000\n",
      "\n",
      "Epoch 00005: val_loss did not improve from 0.09887\n",
      "Epoch 6/100\n",
      "self.global_step 1380.0\n",
      "277/277 [==============================] - 23s 83ms/step - loss: 0.1061 - accuracy: 0.7118 - KL_term: 0.0149 - loglikelihood_term: 0.3034 - evidential_success: 45.3898 - evidential_fail: 1.4873 - acc: 0.7116 - annealing_coef: 0.2208 - global_step_get: 828.0000 - annealing_step_get: 3750.0000 - val_loss: 0.1060 - val_accuracy: 0.7329 - val_KL_term: 0.0287 - val_loglikelihood_term: 0.2873 - val_evidential_success: 31.2768 - val_evidential_fail: 2.0464 - val_acc: 0.7341 - val_annealing_coef: 0.4416 - val_global_step_get: 1656.0000 - val_annealing_step_get: 3750.0000\n",
      "\n",
      "Epoch 00006: val_loss did not improve from 0.09887\n",
      "Epoch 7/100\n",
      "self.global_step 1656.0\n",
      "277/277 [==============================] - 23s 83ms/step - loss: 0.1041 - accuracy: 0.7137 - KL_term: 0.0139 - loglikelihood_term: 0.2981 - evidential_success: 50.3789 - evidential_fail: 1.2186 - acc: 0.7140 - annealing_coef: 0.2576 - global_step_get: 966.0000 - annealing_step_get: 3750.0000 - val_loss: 0.1508 - val_accuracy: 0.7284 - val_KL_term: 0.0497 - val_loglikelihood_term: 0.3968 - val_evidential_success: 24.1814 - val_evidential_fail: 2.1353 - val_acc: 0.7299 - val_annealing_coef: 0.5152 - val_global_step_get: 1932.0000 - val_annealing_step_get: 3750.0000\n",
      "\n",
      "Epoch 00007: val_loss did not improve from 0.09887\n",
      "Epoch 8/100\n",
      "self.global_step 1932.0\n",
      "277/277 [==============================] - 23s 83ms/step - loss: 0.1034 - accuracy: 0.7131 - KL_term: 0.0144 - loglikelihood_term: 0.2961 - evidential_success: 51.4041 - evidential_fail: 1.3530 - acc: 0.7130 - annealing_coef: 0.2944 - global_step_get: 1104.0000 - annealing_step_get: 3750.0000 - val_loss: 0.1320 - val_accuracy: 0.7238 - val_KL_term: 0.0636 - val_loglikelihood_term: 0.3282 - val_evidential_success: 36.4718 - val_evidential_fail: 2.6944 - val_acc: 0.7254 - val_annealing_coef: 0.5888 - val_global_step_get: 2208.0000 - val_annealing_step_get: 3750.0000\n",
      "\n",
      "Epoch 00008: val_loss did not improve from 0.09887\n",
      "Epoch 9/100\n",
      "self.global_step 2208.0\n",
      "277/277 [==============================] - 23s 83ms/step - loss: 0.1023 - accuracy: 0.7145 - KL_term: 0.0140 - loglikelihood_term: 0.2931 - evidential_success: 57.7718 - evidential_fail: 0.9864 - acc: 0.7144 - annealing_coef: 0.3312 - global_step_get: 1242.0000 - annealing_step_get: 3750.0000 - val_loss: 0.1423 - val_accuracy: 0.7226 - val_KL_term: 0.0876 - val_loglikelihood_term: 0.3341 - val_evidential_success: 39.0765 - val_evidential_fail: 3.2806 - val_acc: 0.7243 - val_annealing_coef: 0.6624 - val_global_step_get: 2484.0000 - val_annealing_step_get: 3750.0000\n",
      "\n",
      "Epoch 00009: val_loss did not improve from 0.09887\n",
      "Epoch 10/100\n",
      "self.global_step 2484.0\n",
      "277/277 [==============================] - 23s 83ms/step - loss: 0.1027 - accuracy: 0.7145 - KL_term: 0.0147 - loglikelihood_term: 0.2933 - evidential_success: 59.1595 - evidential_fail: 0.9548 - acc: 0.7145 - annealing_coef: 0.3680 - global_step_get: 1380.0000 - annealing_step_get: 3750.0000 - val_loss: 0.1466 - val_accuracy: 0.7226 - val_KL_term: 0.0845 - val_loglikelihood_term: 0.3497 - val_evidential_success: 34.5616 - val_evidential_fail: 2.9295 - val_acc: 0.7244 - val_annealing_coef: 0.7360 - val_global_step_get: 2760.0000 - val_annealing_step_get: 3750.0000\n",
      "\n",
      "Epoch 00010: val_loss did not improve from 0.09887\n",
      "Epoch 11/100\n",
      "self.global_step 2760.0\n",
      "277/277 [==============================] - 23s 83ms/step - loss: 0.1015 - accuracy: 0.7138 - KL_term: 0.0143 - loglikelihood_term: 0.2904 - evidential_success: 60.9960 - evidential_fail: 0.8564 - acc: 0.7136 - annealing_coef: 0.4048 - global_step_get: 1518.0000 - annealing_step_get: 3750.0000 - val_loss: 0.1418 - val_accuracy: 0.7282 - val_KL_term: 0.0896 - val_loglikelihood_term: 0.3308 - val_evidential_success: 37.2478 - val_evidential_fail: 2.9577 - val_acc: 0.7297 - val_annealing_coef: 0.8096 - val_global_step_get: 3036.0000 - val_annealing_step_get: 3750.0000\n",
      "\n",
      "Epoch 00011: val_loss did not improve from 0.09887\n",
      "Epoch 12/100\n",
      "self.global_step 3036.0\n",
      "277/277 [==============================] - 23s 83ms/step - loss: 0.1007 - accuracy: 0.7161 - KL_term: 0.0145 - loglikelihood_term: 0.2875 - evidential_success: 63.2302 - evidential_fail: 0.8394 - acc: 0.7163 - annealing_coef: 0.4416 - global_step_get: 1656.0000 - annealing_step_get: 3750.0000 - val_loss: 0.1513 - val_accuracy: 0.7325 - val_KL_term: 0.1388 - val_loglikelihood_term: 0.3093 - val_evidential_success: 43.4540 - val_evidential_fail: 4.6413 - val_acc: 0.7339 - val_annealing_coef: 0.8832 - val_global_step_get: 3312.0000 - val_annealing_step_get: 3750.0000\n",
      "\n",
      "Epoch 00012: val_loss did not improve from 0.09887\n",
      "Epoch 00012: early stopping\n",
      "-5.0 -12.0\n"
     ]
    },
    {
     "name": "stderr",
     "output_type": "stream",
     "text": [
      "ic| self.path_models+ '/' + self.method +'_'+str(0)+'.h5': 'D:/Jorge/datasets/deforestation/experiments/MT/exp179/models/resunet_0.h5'\n"
     ]
    },
    {
     "name": "stdout",
     "output_type": "stream",
     "text": [
      "time:  0\n",
      "(39774655,)\n",
      "(array([0, 1], dtype=uint8), array([39234711,   539944], dtype=int64))\n",
      "(16795, 10420)\n",
      "(array([0.], dtype=float32), array([175003900], dtype=int64))\n"
     ]
    },
    {
     "name": "stderr",
     "output_type": "stream",
     "text": [
      "ic| self.predicted_unpad.shape: (16795, 10420)\n",
      "    self.predicted.shape: (16795, 10420)\n",
      "ic| predicted_test.shape: (70001560,)\n",
      "ic| predicted_test.shape: (39774655,)\n",
      "ic| np.unique(predicted, return_counts=True): (array([0.], dtype=float32), array([175003900], dtype=int64))\n",
      "    np.unique(predicted_larger_than_min_area, return_counts=True): (array([0.], dtype=float32), array([175003900], dtype=int64))\n",
      "ic| np.unique(ignored_polygons, return_counts=True): (array([0.], dtype=float32), array([175003900], dtype=int64))\n",
      "c:\\Users\\jchamorro\\Anaconda3\\envs\\tf2\\lib\\site-packages\\sklearn\\metrics\\_classification.py:1327: UndefinedMetricWarning: Precision is ill-defined and being set to 0.0 due to no predicted samples. Use `zero_division` parameter to control this behavior.\n",
      "  _warn_prf(average, modifier, msg_start, len(result))\n",
      "ic| self.f1: 0.0, self.precision: 0.0, self.recall: 0.0\n",
      "ic| self.label_mask_val.shape: (21000468,)\n",
      "ic| self.label_mask_val_valid.shape: (10906966,)\n",
      "c:\\Users\\jchamorro\\Anaconda3\\envs\\tf2\\lib\\site-packages\\sklearn\\metrics\\_classification.py:1327: UndefinedMetricWarning: Precision is ill-defined and being set to 0.0 due to no predicted samples. Use `zero_division` parameter to control this behavior.\n",
      "  _warn_prf(average, modifier, msg_start, len(result))\n",
      "ic| f1_val: 0.0, precision_val: 0.0, recall_val: 0.0, mAP_val: 83.44\n"
     ]
    },
    {
     "name": "stdout",
     "output_type": "stream",
     "text": [
      "(array([0., 1.], dtype=float32), array([173103734,   1900166], dtype=int64))\n",
      "[0.]\n"
     ]
    },
    {
     "name": "stderr",
     "output_type": "stream",
     "text": [
      "ic| self.label_mask.shape: (16795, 10420)\n",
      "ic| self.mask_amazon_ts.shape: (16795, 10420)\n",
      "ic| self.label_mask_test.shape: (70001560,)\n",
      "ic| self.error_mask_test.shape: (39774655,)\n",
      "ic| bounds: (0.0015, 0.9985)\n",
      "c:\\Users\\jchamorro\\Anaconda3\\envs\\tf2\\lib\\site-packages\\scipy\\optimize\\_minimize.py:783: RuntimeWarning: Method 'bounded' does not support relative tolerance in x; defaulting to absolute tolerance.\n",
      "  warn(\"Method 'bounded' does not support relative tolerance in x; \"\n"
     ]
    },
    {
     "name": "stdout",
     "output_type": "stream",
     "text": [
      "0.38232011321635484\n",
      "threshold 0.38232011321635484\n",
      "(38347502,) (38347502,)\n"
     ]
    },
    {
     "name": "stderr",
     "output_type": "stream",
     "text": [
      "ic| label_current_deforestation_test_classified_incorrect.shape: (1427153,)\n",
      "    predicted_test_classified_incorrect.shape: (1427153,)\n",
      "d:\\Jorge\\deforestation_uncertainty\\src\\metrics.py:292: RuntimeWarning: invalid value encountered in longlong_scalars\n",
      "  precision_L = TP_L / (TP_L + FP_L)\n",
      "d:\\Jorge\\deforestation_uncertainty\\src\\metrics.py:295: RuntimeWarning: invalid value encountered in longlong_scalars\n",
      "  precision_H = TP_H / (TP_H + FP_H)\n",
      "ic| TP_H + FN_H + FP_H + TN_H: 1427153\n",
      "    len(label_mask_current_deforestation_test): 39774655"
     ]
    },
    {
     "name": "stdout",
     "output_type": "stream",
     "text": [
      "cm_correct [[38291430        0]\n",
      " [   56072        0]]\n",
      "cm_incorrect [[943281      0]\n",
      " [483872      0]]\n"
     ]
    },
    {
     "name": "stderr",
     "output_type": "stream",
     "text": [
      "\n",
      "ic| TP_H + FN_H + FP_H + TN_H: 1427153\n",
      "    len(label_mask_current_deforestation_test): 39774655\n"
     ]
    },
    {
     "name": "stdout",
     "output_type": "stream",
     "text": [
      "[       nan 0.         0.         0.03588096        nan 0.        ]\n",
      "0.6176798867836452\n",
      "threshold 0.6176798867836452\n",
      "(38896112,) (38896112,)\n"
     ]
    },
    {
     "name": "stderr",
     "output_type": "stream",
     "text": [
      "ic| label_current_deforestation_test_classified_incorrect.shape: (878543,)\n",
      "    predicted_test_classified_incorrect.shape: (878543,)\n",
      "d:\\Jorge\\deforestation_uncertainty\\src\\metrics.py:292: RuntimeWarning: invalid value encountered in longlong_scalars\n",
      "  precision_L = TP_L / (TP_L + FP_L)\n",
      "d:\\Jorge\\deforestation_uncertainty\\src\\metrics.py:295: RuntimeWarning: invalid value encountered in longlong_scalars\n",
      "  precision_H = TP_H / (TP_H + FP_H)\n",
      "ic| TP_H + FN_H + FP_H + TN_H: 878543\n",
      "    len(label_mask_current_deforestation_test): 39774655\n",
      "ic| TP_H + FN_H + FP_H + TN_H: 878543\n",
      "    len(label_mask_current_deforestation_test): 39774655\n"
     ]
    },
    {
     "name": "stdout",
     "output_type": "stream",
     "text": [
      "cm_correct [[38810190        0]\n",
      " [   85922        0]]\n",
      "cm_incorrect [[424521      0]\n",
      " [454022      0]]\n",
      "[       nan 0.         0.         0.02208801        nan 0.        ]\n",
      "0.23685977356729035\n",
      "threshold 0.23685977356729035\n",
      "(37263778,) (37263778,)\n"
     ]
    },
    {
     "name": "stderr",
     "output_type": "stream",
     "text": [
      "ic| label_current_deforestation_test_classified_incorrect.shape: (2510877,)\n",
      "    predicted_test_classified_incorrect.shape: (2510877,)\n"
     ]
    },
    {
     "name": "stdout",
     "output_type": "stream",
     "text": [
      "cm_correct [[37230226        0]\n",
      " [   33552        0]]\n"
     ]
    },
    {
     "name": "stderr",
     "output_type": "stream",
     "text": [
      "d:\\Jorge\\deforestation_uncertainty\\src\\metrics.py:292: RuntimeWarning: invalid value encountered in longlong_scalars\n",
      "  precision_L = TP_L / (TP_L + FP_L)\n",
      "d:\\Jorge\\deforestation_uncertainty\\src\\metrics.py:295: RuntimeWarning: invalid value encountered in longlong_scalars\n",
      "  precision_H = TP_H / (TP_H + FP_H)\n",
      "ic| TP_H + FN_H + FP_H + TN_H: 2510877\n",
      "    len(label_mask_current_deforestation_test): 39774655\n",
      "ic| TP_H + FN_H + FP_H + TN_H: 2510877\n",
      "    len(label_mask_current_deforestation_test): 39774655\n"
     ]
    },
    {
     "name": "stdout",
     "output_type": "stream",
     "text": [
      "cm_incorrect [[2004485       0]\n",
      " [ 506392       0]]\n",
      "[       nan 0.         0.         0.06312756        nan 0.        ]\n",
      "0.49161419955128194\n",
      "threshold 0.49161419955128194\n",
      "(38699043,) (38699043,)\n"
     ]
    },
    {
     "name": "stderr",
     "output_type": "stream",
     "text": [
      "ic| label_current_deforestation_test_classified_incorrect.shape: (1075612,)\n",
      "    predicted_test_classified_incorrect.shape: (1075612,)\n",
      "d:\\Jorge\\deforestation_uncertainty\\src\\metrics.py:292: RuntimeWarning: invalid value encountered in longlong_scalars\n",
      "  precision_L = TP_L / (TP_L + FP_L)\n",
      "d:\\Jorge\\deforestation_uncertainty\\src\\metrics.py:295: RuntimeWarning: invalid value encountered in longlong_scalars\n",
      "  precision_H = TP_H / (TP_H + FP_H)\n",
      "ic| TP_H + FN_H + FP_H + TN_H: 1075612\n",
      "    len(label_mask_current_deforestation_test): 39774655\n",
      "ic| TP_H + FN_H + FP_H + TN_H: 1075612\n",
      "    len(label_mask_current_deforestation_test): 39774655\n"
     ]
    },
    {
     "name": "stdout",
     "output_type": "stream",
     "text": [
      "cm_correct [[38628337        0]\n",
      " [   70706        0]]\n",
      "cm_incorrect [[606374      0]\n",
      " [469238      0]]\n",
      "[       nan 0.         0.         0.02704265        nan 0.        ]\n",
      "0.4846255629464417\n",
      "threshold 0.4846255629464417\n",
      "(38683333,) (38683333,)\n"
     ]
    },
    {
     "name": "stderr",
     "output_type": "stream",
     "text": [
      "ic| label_current_deforestation_test_classified_incorrect.shape: (1091322,)\n",
      "    predicted_test_classified_incorrect.shape: (1091322,)\n",
      "d:\\Jorge\\deforestation_uncertainty\\src\\metrics.py:292: RuntimeWarning: invalid value encountered in longlong_scalars\n",
      "  precision_L = TP_L / (TP_L + FP_L)\n",
      "d:\\Jorge\\deforestation_uncertainty\\src\\metrics.py:295: RuntimeWarning: invalid value encountered in longlong_scalars\n",
      "  precision_H = TP_H / (TP_H + FP_H)\n",
      "ic| TP_H + FN_H + FP_H + TN_H: 1091322\n",
      "    len(label_mask_current_deforestation_test): 39774655\n",
      "ic| TP_H + FN_H + FP_H + TN_H: 1091322\n",
      "    len(label_mask_current_deforestation_test): 39774655\n"
     ]
    },
    {
     "name": "stdout",
     "output_type": "stream",
     "text": [
      "cm_correct [[38613519        0]\n",
      " [   69814        0]]\n",
      "cm_incorrect [[621192      0]\n",
      " [470130      0]]\n",
      "[       nan 0.         0.         0.02743762        nan 0.        ]\n",
      "0.45340029355420564\n",
      "threshold 0.45340029355420564\n",
      "(38604467,) (38604467,)\n"
     ]
    },
    {
     "name": "stderr",
     "output_type": "stream",
     "text": [
      "ic| label_current_deforestation_test_classified_incorrect.shape: (1170188,)\n",
      "    predicted_test_classified_incorrect.shape: (1170188,)\n",
      "d:\\Jorge\\deforestation_uncertainty\\src\\metrics.py:292: RuntimeWarning: invalid value encountered in longlong_scalars\n",
      "  precision_L = TP_L / (TP_L + FP_L)\n",
      "d:\\Jorge\\deforestation_uncertainty\\src\\metrics.py:295: RuntimeWarning: invalid value encountered in longlong_scalars\n",
      "  precision_H = TP_H / (TP_H + FP_H)\n",
      "ic| TP_H + FN_H + FP_H + TN_H: 1170188\n",
      "    len(label_mask_current_deforestation_test): 39774655\n",
      "ic| TP_H + FN_H + FP_H + TN_H: 1170188\n",
      "    len(label_mask_current_deforestation_test): 39774655\n"
     ]
    },
    {
     "name": "stdout",
     "output_type": "stream",
     "text": [
      "cm_correct [[38538586        0]\n",
      " [   65881        0]]\n",
      "cm_incorrect [[696125      0]\n",
      " [474063      0]]\n",
      "[       nan 0.         0.         0.02942044        nan 0.        ]\n",
      "0.4262500805916186\n",
      "threshold 0.4262500805916186\n",
      "(38520769,) (38520769,)\n"
     ]
    },
    {
     "name": "stderr",
     "output_type": "stream",
     "text": [
      "ic| label_current_deforestation_test_classified_incorrect.shape: (1253886,)\n",
      "    predicted_test_classified_incorrect.shape: (1253886,)\n",
      "d:\\Jorge\\deforestation_uncertainty\\src\\metrics.py:292: RuntimeWarning: invalid value encountered in longlong_scalars\n",
      "  precision_L = TP_L / (TP_L + FP_L)\n",
      "d:\\Jorge\\deforestation_uncertainty\\src\\metrics.py:295: RuntimeWarning: invalid value encountered in longlong_scalars\n",
      "  precision_H = TP_H / (TP_H + FP_H)\n",
      "ic| TP_H + FN_H + FP_H + TN_H: 1253886\n",
      "    len(label_mask_current_deforestation_test): 39774655\n",
      "ic| TP_H + FN_H + FP_H + TN_H: 1253886\n",
      "    len(label_mask_current_deforestation_test): 39774655\n"
     ]
    },
    {
     "name": "stdout",
     "output_type": "stream",
     "text": [
      "cm_correct [[38458504        0]\n",
      " [   62265        0]]\n",
      "cm_incorrect [[776207      0]\n",
      " [477679      0]]\n",
      "[       nan 0.         0.         0.03152475        nan 0.        ]\n",
      "0.4501607064145287\n",
      "threshold 0.4501607064145287\n",
      "(38595499,) (38595499,)\n"
     ]
    },
    {
     "name": "stderr",
     "output_type": "stream",
     "text": [
      "ic| label_current_deforestation_test_classified_incorrect.shape: (1179156,)\n",
      "    predicted_test_classified_incorrect.shape: (1179156,)\n",
      "d:\\Jorge\\deforestation_uncertainty\\src\\metrics.py:292: RuntimeWarning: invalid value encountered in longlong_scalars\n",
      "  precision_L = TP_L / (TP_L + FP_L)\n",
      "d:\\Jorge\\deforestation_uncertainty\\src\\metrics.py:295: RuntimeWarning: invalid value encountered in longlong_scalars\n",
      "  precision_H = TP_H / (TP_H + FP_H)\n",
      "ic| TP_H + FN_H + FP_H + TN_H: 1179156\n",
      "    len(label_mask_current_deforestation_test): 39774655\n",
      "ic| TP_H + FN_H + FP_H + TN_H: 1179156\n",
      "    len(label_mask_current_deforestation_test): 39774655\n"
     ]
    },
    {
     "name": "stdout",
     "output_type": "stream",
     "text": [
      "cm_correct [[38530026        0]\n",
      " [   65473        0]]\n",
      "cm_incorrect [[704685      0]\n",
      " [474471      0]]\n",
      "[       nan 0.         0.         0.02964591        nan 0.        ]\n",
      "0.4438113769483867\n",
      "threshold 0.4438113769483867\n",
      "(38576858,) (38576858,)\n"
     ]
    },
    {
     "name": "stderr",
     "output_type": "stream",
     "text": [
      "ic| label_current_deforestation_test_classified_incorrect.shape: (1197797,)\n",
      "    predicted_test_classified_incorrect.shape: (1197797,)\n",
      "d:\\Jorge\\deforestation_uncertainty\\src\\metrics.py:292: RuntimeWarning: invalid value encountered in longlong_scalars\n",
      "  precision_L = TP_L / (TP_L + FP_L)\n",
      "d:\\Jorge\\deforestation_uncertainty\\src\\metrics.py:295: RuntimeWarning: invalid value encountered in longlong_scalars\n",
      "  precision_H = TP_H / (TP_H + FP_H)\n",
      "ic| TP_H + FN_H + FP_H + TN_H: 1197797\n",
      "    len(label_mask_current_deforestation_test): 39774655\n",
      "ic| TP_H + FN_H + FP_H + TN_H: 1197797\n",
      "    len(label_mask_current_deforestation_test): 39774655\n"
     ]
    },
    {
     "name": "stdout",
     "output_type": "stream",
     "text": [
      "cm_correct [[38512188        0]\n",
      " [   64670        0]]\n",
      "cm_incorrect [[722523      0]\n",
      " [475274      0]]\n",
      "[       nan 0.         0.         0.03011458        nan 0.        ]\n",
      "0.437103558626611\n",
      "threshold 0.437103558626611\n",
      "(38556137,) (38556137,)\n"
     ]
    },
    {
     "name": "stderr",
     "output_type": "stream",
     "text": [
      "ic| label_current_deforestation_test_classified_incorrect.shape: (1218518,)\n",
      "    predicted_test_classified_incorrect.shape: (1218518,)\n",
      "d:\\Jorge\\deforestation_uncertainty\\src\\metrics.py:292: RuntimeWarning: invalid value encountered in longlong_scalars\n",
      "  precision_L = TP_L / (TP_L + FP_L)\n",
      "d:\\Jorge\\deforestation_uncertainty\\src\\metrics.py:295: RuntimeWarning: invalid value encountered in longlong_scalars\n",
      "  precision_H = TP_H / (TP_H + FP_H)\n",
      "ic| TP_H + FN_H + FP_H + TN_H: 1218518\n",
      "    len(label_mask_current_deforestation_test): 39774655\n",
      "ic| TP_H + FN_H + FP_H + TN_H: 1218518\n",
      "    len(label_mask_current_deforestation_test): 39774655\n"
     ]
    },
    {
     "name": "stdout",
     "output_type": "stream",
     "text": [
      "cm_correct [[38492372        0]\n",
      " [   63765        0]]\n",
      "cm_incorrect [[742339      0]\n",
      " [476179      0]]\n",
      "[       nan 0.         0.         0.03063554        nan 0.        ]\n",
      "0.44131250225024266\n",
      "threshold 0.44131250225024266\n",
      "(38569244,) (38569244,)\n"
     ]
    },
    {
     "name": "stderr",
     "output_type": "stream",
     "text": [
      "ic| label_current_deforestation_test_classified_incorrect.shape: (1205411,)\n",
      "    predicted_test_classified_incorrect.shape: (1205411,)\n",
      "d:\\Jorge\\deforestation_uncertainty\\src\\metrics.py:292: RuntimeWarning: invalid value encountered in longlong_scalars\n",
      "  precision_L = TP_L / (TP_L + FP_L)\n",
      "d:\\Jorge\\deforestation_uncertainty\\src\\metrics.py:295: RuntimeWarning: invalid value encountered in longlong_scalars\n",
      "  precision_H = TP_H / (TP_H + FP_H)\n",
      "ic| TP_H + FN_H + FP_H + TN_H: 1205411\n",
      "    len(label_mask_current_deforestation_test): 39774655\n",
      "ic| TP_H + FN_H + FP_H + TN_H: 1205411\n",
      "    len(label_mask_current_deforestation_test): 39774655\n"
     ]
    },
    {
     "name": "stdout",
     "output_type": "stream",
     "text": [
      "cm_correct [[38504903        0]\n",
      " [   64341        0]]\n",
      "cm_incorrect [[729808      0]\n",
      " [475603      0]]\n",
      "[       nan 0.         0.         0.03030601        nan 0.        ]\n",
      "0.4455263383037905\n",
      "threshold 0.4455263383037905\n",
      "(38581924,) (38581924,)\n"
     ]
    },
    {
     "name": "stderr",
     "output_type": "stream",
     "text": [
      "ic| label_current_deforestation_test_classified_incorrect.shape: (1192731,)\n",
      "    predicted_test_classified_incorrect.shape: (1192731,)\n",
      "d:\\Jorge\\deforestation_uncertainty\\src\\metrics.py:292: RuntimeWarning: invalid value encountered in longlong_scalars\n",
      "  precision_L = TP_L / (TP_L + FP_L)\n",
      "d:\\Jorge\\deforestation_uncertainty\\src\\metrics.py:295: RuntimeWarning: invalid value encountered in longlong_scalars\n",
      "  precision_H = TP_H / (TP_H + FP_H)\n",
      "ic| TP_H + FN_H + FP_H + TN_H: 1192731\n",
      "    len(label_mask_current_deforestation_test): 39774655\n",
      "ic| TP_H + FN_H + FP_H + TN_H: 1192731\n",
      "    len(label_mask_current_deforestation_test): 39774655\n"
     ]
    },
    {
     "name": "stdout",
     "output_type": "stream",
     "text": [
      "cm_correct [[38517039        0]\n",
      " [   64885        0]]\n",
      "cm_incorrect [[717672      0]\n",
      " [475059      0]]\n",
      "[       nan 0.         0.         0.02998721        nan 0.        ]\n",
      "0.44729650940571386\n",
      "threshold 0.44729650940571386\n",
      "(38587160,) (38587160,)\n"
     ]
    },
    {
     "name": "stderr",
     "output_type": "stream",
     "text": [
      "ic| label_current_deforestation_test_classified_incorrect.shape: (1187495,)\n",
      "    predicted_test_classified_incorrect.shape: (1187495,)\n",
      "d:\\Jorge\\deforestation_uncertainty\\src\\metrics.py:292: RuntimeWarning: invalid value encountered in longlong_scalars\n",
      "  precision_L = TP_L / (TP_L + FP_L)\n",
      "d:\\Jorge\\deforestation_uncertainty\\src\\metrics.py:295: RuntimeWarning: invalid value encountered in longlong_scalars\n",
      "  precision_H = TP_H / (TP_H + FP_H)\n",
      "ic| TP_H + FN_H + FP_H + TN_H: 1187495\n",
      "    len(label_mask_current_deforestation_test): 39774655\n",
      "ic| TP_H + FN_H + FP_H + TN_H: 1187495\n",
      "    len(label_mask_current_deforestation_test): 39774655\n"
     ]
    },
    {
     "name": "stdout",
     "output_type": "stream",
     "text": [
      "cm_correct [[38522043        0]\n",
      " [   65117        0]]\n",
      "cm_incorrect [[712668      0]\n",
      " [474827      0]]\n",
      "[       nan 0.         0.         0.02985557        nan 0.        ]\n",
      "0.44544232792122146\n",
      "threshold 0.44544232792122146\n",
      "(38581680,) (38581680,)\n"
     ]
    },
    {
     "name": "stderr",
     "output_type": "stream",
     "text": [
      "ic| label_current_deforestation_test_classified_incorrect.shape: (1192975,)\n",
      "    predicted_test_classified_incorrect.shape: (1192975,)\n",
      "d:\\Jorge\\deforestation_uncertainty\\src\\metrics.py:292: RuntimeWarning: invalid value encountered in longlong_scalars\n",
      "  precision_L = TP_L / (TP_L + FP_L)\n",
      "d:\\Jorge\\deforestation_uncertainty\\src\\metrics.py:295: RuntimeWarning: invalid value encountered in longlong_scalars\n",
      "  precision_H = TP_H / (TP_H + FP_H)\n",
      "ic| TP_H + FN_H + FP_H + TN_H: 1192975\n",
      "    len(label_mask_current_deforestation_test): 39774655\n",
      "ic| TP_H + FN_H + FP_H + TN_H: 1192975\n",
      "    len(label_mask_current_deforestation_test): 39774655\n"
     ]
    },
    {
     "name": "stdout",
     "output_type": "stream",
     "text": [
      "cm_correct [[38516806        0]\n",
      " [   64874        0]]\n",
      "cm_incorrect [[717905      0]\n",
      " [475070      0]]\n",
      "[       nan 0.         0.         0.02999335        nan 0.        ]\n",
      "0.44503449967333797\n",
      "threshold 0.44503449967333797\n",
      "(38580513,) (38580513,)\n"
     ]
    },
    {
     "name": "stderr",
     "output_type": "stream",
     "text": [
      "ic| label_current_deforestation_test_classified_incorrect.shape: (1194142,)\n",
      "    predicted_test_classified_incorrect.shape: (1194142,)\n",
      "d:\\Jorge\\deforestation_uncertainty\\src\\metrics.py:292: RuntimeWarning: invalid value encountered in longlong_scalars\n",
      "  precision_L = TP_L / (TP_L + FP_L)\n",
      "d:\\Jorge\\deforestation_uncertainty\\src\\metrics.py:295: RuntimeWarning: invalid value encountered in longlong_scalars\n",
      "  precision_H = TP_H / (TP_H + FP_H)\n",
      "ic| TP_H + FN_H + FP_H + TN_H: 1194142\n",
      "    len(label_mask_current_deforestation_test): 39774655\n",
      "ic| TP_H + FN_H + FP_H + TN_H: 1194142\n",
      "    len(label_mask_current_deforestation_test): 39774655\n"
     ]
    },
    {
     "name": "stdout",
     "output_type": "stream",
     "text": [
      "cm_correct [[38515697        0]\n",
      " [   64816        0]]\n",
      "cm_incorrect [[719014      0]\n",
      " [475128      0]]\n",
      "[       nan 0.         0.         0.03002269        nan 0.        ]\n",
      "0.44528655139210227\n",
      "threshold 0.44528655139210227\n",
      "(38581235,) (38581235,)\n"
     ]
    },
    {
     "name": "stderr",
     "output_type": "stream",
     "text": [
      "ic| label_current_deforestation_test_classified_incorrect.shape: (1193420,)\n",
      "    predicted_test_classified_incorrect.shape: (1193420,)\n",
      "d:\\Jorge\\deforestation_uncertainty\\src\\metrics.py:292: RuntimeWarning: invalid value encountered in longlong_scalars\n",
      "  precision_L = TP_L / (TP_L + FP_L)\n",
      "d:\\Jorge\\deforestation_uncertainty\\src\\metrics.py:295: RuntimeWarning: invalid value encountered in longlong_scalars\n",
      "  precision_H = TP_H / (TP_H + FP_H)\n",
      "ic| TP_H + FN_H + FP_H + TN_H: 1193420\n",
      "    len(label_mask_current_deforestation_test): 39774655\n",
      "ic| TP_H + FN_H + FP_H + TN_H: 1193420\n",
      "    len(label_mask_current_deforestation_test): 39774655\n"
     ]
    },
    {
     "name": "stdout",
     "output_type": "stream",
     "text": [
      "cm_correct [[38516380        0]\n",
      " [   64855        0]]\n",
      "cm_incorrect [[718331      0]\n",
      " [475089      0]]\n",
      "[       nan 0.         0.         0.03000453        nan 0.        ]\n",
      "0.44533698521382986\n",
      "threshold 0.44533698521382986\n",
      "(38581364,) (38581364,)\n"
     ]
    },
    {
     "name": "stderr",
     "output_type": "stream",
     "text": [
      "ic| label_current_deforestation_test_classified_incorrect.shape: (1193291,)\n",
      "    predicted_test_classified_incorrect.shape: (1193291,)\n",
      "d:\\Jorge\\deforestation_uncertainty\\src\\metrics.py:292: RuntimeWarning: invalid value encountered in longlong_scalars\n",
      "  precision_L = TP_L / (TP_L + FP_L)\n",
      "d:\\Jorge\\deforestation_uncertainty\\src\\metrics.py:295: RuntimeWarning: invalid value encountered in longlong_scalars\n",
      "  precision_H = TP_H / (TP_H + FP_H)\n",
      "ic| TP_H + FN_H + FP_H + TN_H: 1193291\n",
      "    len(label_mask_current_deforestation_test): 39774655\n",
      "ic| TP_H + FN_H + FP_H + TN_H: 1193291\n",
      "    len(label_mask_current_deforestation_test): 39774655\n"
     ]
    },
    {
     "name": "stdout",
     "output_type": "stream",
     "text": [
      "cm_correct [[38516506        0]\n",
      " [   64858        0]]\n",
      "cm_incorrect [[718205      0]\n",
      " [475086      0]]\n",
      "[       nan 0.         0.         0.03000129        nan 0.        ]\n",
      "0.44537032515257813\n",
      "threshold 0.44537032515257813\n",
      "(38581464,) (38581464,)\n"
     ]
    },
    {
     "name": "stderr",
     "output_type": "stream",
     "text": [
      "ic| label_current_deforestation_test_classified_incorrect.shape: (1193191,)\n",
      "    predicted_test_classified_incorrect.shape: (1193191,)\n",
      "d:\\Jorge\\deforestation_uncertainty\\src\\metrics.py:292: RuntimeWarning: invalid value encountered in longlong_scalars\n",
      "  precision_L = TP_L / (TP_L + FP_L)\n",
      "d:\\Jorge\\deforestation_uncertainty\\src\\metrics.py:295: RuntimeWarning: invalid value encountered in longlong_scalars\n",
      "  precision_H = TP_H / (TP_H + FP_H)\n",
      "ic| TP_H + FN_H + FP_H + TN_H: 1193191\n",
      "    len(label_mask_current_deforestation_test): 39774655\n",
      "ic| TP_H + FN_H + FP_H + TN_H: 1193191\n",
      "    len(label_mask_current_deforestation_test): 39774655\n"
     ]
    },
    {
     "name": "stdout",
     "output_type": "stream",
     "text": [
      "cm_correct [[38516602        0]\n",
      " [   64862        0]]\n",
      "cm_incorrect [[718109      0]\n",
      " [475082      0]]\n",
      "[       nan 0.         0.         0.02999878        nan 0.        ]\n",
      "0.44540366509182094\n",
      "threshold 0.44540366509182094\n",
      "(38581568,) (38581568,)\n"
     ]
    },
    {
     "name": "stderr",
     "output_type": "stream",
     "text": [
      "ic| label_current_deforestation_test_classified_incorrect.shape: (1193087,)\n",
      "    predicted_test_classified_incorrect.shape: (1193087,)\n",
      "d:\\Jorge\\deforestation_uncertainty\\src\\metrics.py:292: RuntimeWarning: invalid value encountered in longlong_scalars\n",
      "  precision_L = TP_L / (TP_L + FP_L)\n",
      "d:\\Jorge\\deforestation_uncertainty\\src\\metrics.py:295: RuntimeWarning: invalid value encountered in longlong_scalars\n",
      "  precision_H = TP_H / (TP_H + FP_H)\n",
      "ic| TP_H + FN_H + FP_H + TN_H: 1193087\n",
      "    len(label_mask_current_deforestation_test): 39774655\n",
      "ic| TP_H + FN_H + FP_H + TN_H: 1193087\n",
      "    len(label_mask_current_deforestation_test): 39774655\n",
      "ic| self.threshold_optimal: 0.44537032515257813\n"
     ]
    },
    {
     "name": "stdout",
     "output_type": "stream",
     "text": [
      "cm_correct [[38516699        0]\n",
      " [   64869        0]]\n",
      "cm_incorrect [[718012      0]\n",
      " [475075      0]]\n",
      "[       nan 0.         0.         0.02999616        nan 0.        ]\n",
      "threshold 0.44537032515257813\n",
      "(38581464,) (38581464,)\n"
     ]
    },
    {
     "name": "stderr",
     "output_type": "stream",
     "text": [
      "ic| label_current_deforestation_test_classified_incorrect.shape: (1193191,)\n",
      "    predicted_test_classified_incorrect.shape: (1193191,)\n",
      "d:\\Jorge\\deforestation_uncertainty\\src\\metrics.py:292: RuntimeWarning: invalid value encountered in longlong_scalars\n",
      "  precision_L = TP_L / (TP_L + FP_L)\n",
      "d:\\Jorge\\deforestation_uncertainty\\src\\metrics.py:295: RuntimeWarning: invalid value encountered in longlong_scalars\n",
      "  precision_H = TP_H / (TP_H + FP_H)\n",
      "ic| TP_H + FN_H + FP_H + TN_H: 1193191\n",
      "    len(label_mask_current_deforestation_test): 39774655\n",
      "ic| TP_H + FN_H + FP_H + TN_H: 1193191\n",
      "    len(label_mask_current_deforestation_test): 39774655\n"
     ]
    },
    {
     "name": "stdout",
     "output_type": "stream",
     "text": [
      "cm_correct [[38516602        0]\n",
      " [   64862        0]]\n",
      "cm_incorrect [[718109      0]\n",
      " [475082      0]]\n",
      "[       nan 0.         0.         0.02999878        nan 0.        ]\n",
      "threshold 0.44537032515257813\n",
      "(39774655,) (39774655,)\n"
     ]
    },
    {
     "name": "stderr",
     "output_type": "stream",
     "text": [
      "ic| self.m_optimal: {'AA': array([0.02999878]),\n",
      "                     'f1': 0.0,\n",
      "                     'f1_H': array([nan]),\n",
      "                     'f1_L': array([nan]),\n",
      "                     'precision_H': array([nan]),\n",
      "                     'precision_L': array([nan]),\n",
      "                     'recall_H': array([0.]),\n",
      "                     'recall_L': array([0.]),\n",
      "                     'recall_Ltotal': array([0.])}\n",
      "ic| self.m_audited_optimal: {'f1': array([0.93609819]),\n",
      "                             'precision': array([1.]),\n",
      "                             'recall': array([0.87987273])}\n"
     ]
    },
    {
     "name": "stdout",
     "output_type": "stream",
     "text": [
      "cm_audited [[39234711        0]\n",
      " [   64862   475082]]\n",
      "[1.         0.87987273]\n",
      "D:/Jorge/datasets/deforestation/MT/deforestation_past_years.tif\n",
      "Loaded deforestation past years\n"
     ]
    },
    {
     "name": "stderr",
     "output_type": "stream",
     "text": [
      "ic| np.unique(deforestation_past_years, return_counts=True): (array([   0, 2008, 2009, 2010, 2011, 2012, 2013, 2014, 2015, 2016, 2017,\n",
      "                                                                    2018, 2019, 2020, 2021], dtype=uint16),\n",
      "                                                              array([161124576,   1332784,    240796,    338545,    313901,    287191,\n",
      "                                                                       708581,    648966,    876898,   1007787,   1098901,   1054092,\n",
      "                                                                      2096062,   2473828,   1400992], dtype=int64))\n"
     ]
    },
    {
     "name": "stdout",
     "output_type": "stream",
     "text": [
      "Label where deforestation past years is actual date (2019) = 1\n"
     ]
    },
    {
     "name": "stderr",
     "output_type": "stream",
     "text": [
      "ic| np.unique(deforestation_past_years, return_counts=True): (array([   0, 2008, 2009, 2010, 2011, 2012, 2013, 2014, 2015, 2016, 2017,\n",
      "                                                                    2018, 2019, 2020, 2021], dtype=uint16),\n",
      "                                                              array([161124576,   1332784,    240796,    338545,    313901,    287191,\n",
      "                                                                       708581,    648966,    876898,   1007787,   1098901,   1054092,\n",
      "                                                                      2096062,   2473828,   1400992], dtype=int64))\n"
     ]
    },
    {
     "name": "stdout",
     "output_type": "stream",
     "text": [
      "Past deforestation different from 0 (no deforestation)\n"
     ]
    },
    {
     "name": "stderr",
     "output_type": "stream",
     "text": [
      "ic| np.unique(deforestation_past_years, return_counts=True): (array([   0, 2008, 2009, 2010, 2011, 2012, 2013, 2014, 2015, 2016, 2017,\n",
      "                                                                    2018, 2019, 2020, 2021], dtype=uint16),\n",
      "                                                              array([161124576,   1332784,    240796,    338545,    313901,    287191,\n",
      "                                                                       708581,    648966,    876898,   1007787,   1098901,   1054092,\n",
      "                                                                      2096062,   2473828,   1400992], dtype=int64))\n"
     ]
    },
    {
     "name": "stdout",
     "output_type": "stream",
     "text": [
      "Past deforestation before 2008 is 2\n",
      "D:/Jorge/datasets/deforestation/MT/deforestation_before_2008/deforestation_before_2008_MT.tif\n"
     ]
    },
    {
     "name": "stderr",
     "output_type": "stream",
     "text": [
      "ic| np.unique(label_past_deforestation_before_2008, return_counts=True): (array([  0, 215], dtype=uint8), array([122623260,  52380640], dtype=int64))\n",
      "ic| np.unique(deforestation_past_years, return_counts=True): (array([   0, 2008, 2009, 2010, 2011, 2012, 2013, 2014, 2015, 2016, 2017,\n",
      "                                                                    2018, 2019, 2020, 2021], dtype=uint16),\n",
      "                                                              array([161124576,   1332784,    240796,    338545,    313901,    287191,\n",
      "                                                                       708581,    648966,    876898,   1007787,   1098901,   1054092,\n",
      "                                                                      2096062,   2473828,   1400992], dtype=int64))\n",
      "ic| label_per_date.shape: (16795, 10420, 1)\n"
     ]
    },
    {
     "name": "stdout",
     "output_type": "stream",
     "text": [
      "Mask label shape:  \n",
      " (16795, 10420, 1) \n",
      " Unique values:  \n",
      " [0 1 2]\n",
      "Tiles size:  3359 2084\n",
      "Mask size:  (16795, 10420)\n"
     ]
    },
    {
     "name": "stderr",
     "output_type": "stream",
     "text": [
      "ic| image_stack.shape: (16795, 10420, 21)\n"
     ]
    },
    {
     "name": "stdout",
     "output_type": "stream",
     "text": [
      "Image shape:  (16795, 10420, 21)\n",
      "mask:  (16795, 10420)\n",
      "image stack:  (16795, 10420, 21)\n",
      "ref : (16795, 10420, 1)\n",
      "Training tiles:  [2, 4, 5, 6, 7, 12, 14, 15, 18, 21, 23, 24]\n",
      "Validation tiles:  [9, 11, 25]\n",
      "Test tiles:  [1, 3, 8, 10, 13, 16, 17, 19, 20, 22]\n"
     ]
    },
    {
     "name": "stderr",
     "output_type": "stream",
     "text": [
      "ic| im_idx_row.shape: (16795, 10420, 1)\n",
      "    im_idx_col.shape: (16795, 10420, 1)\n",
      "ic| im_idx_row.dtype: dtype('uint16')\n",
      "    im_idx_col.dtype: dtype('uint16')\n",
      "ic| im_idx.shape: (16795, 10420, 2), im_idx.dtype: dtype('uint16')\n",
      "ic| coords.shape: (439, 271, 1, 128, 128, 2)\n",
      "    coords.dtype: dtype('uint16')\n",
      "ic| coords.shape: (118969, 2), coords.dtype: dtype('uint16')\n",
      "ic| self.coords_train.shape: (54516, 3)\n",
      "    self.coords_val.shape: (13175, 3)\n"
     ]
    },
    {
     "name": "stdout",
     "output_type": "stream",
     "text": [
      "training samples:  (2962, 3) validation samples:  (623, 3)\n",
      "time:  0\n",
      "Model: \"model_10\"\n",
      "__________________________________________________________________________________________________\n",
      "Layer (type)                    Output Shape         Param #     Connected to                     \n",
      "==================================================================================================\n",
      "input_enc_net (InputLayer)      [(None, 128, 128, 21 0                                            \n",
      "__________________________________________________________________________________________________\n",
      "res1_net1 (Conv2D)              (None, 128, 128, 16) 3040        input_enc_net[0][0]              \n",
      "__________________________________________________________________________________________________\n",
      "drop_net1 (Dropout)             (None, 128, 128, 16) 0           res1_net1[0][0]                  \n",
      "__________________________________________________________________________________________________\n",
      "res2_net1 (Conv2D)              (None, 128, 128, 16) 2320        drop_net1[0][0]                  \n",
      "__________________________________________________________________________________________________\n",
      "res3_net1 (Conv2D)              (None, 128, 128, 16) 352         input_enc_net[0][0]              \n",
      "__________________________________________________________________________________________________\n",
      "add_60 (Add)                    (None, 128, 128, 16) 0           res2_net1[0][0]                  \n",
      "                                                                 res3_net1[0][0]                  \n",
      "__________________________________________________________________________________________________\n",
      "pool_net1 (MaxPooling2D)        (None, 64, 64, 16)   0           add_60[0][0]                     \n",
      "__________________________________________________________________________________________________\n",
      "res1_net2 (Conv2D)              (None, 64, 64, 32)   4640        pool_net1[0][0]                  \n",
      "__________________________________________________________________________________________________\n",
      "drop_net2 (Dropout)             (None, 64, 64, 32)   0           res1_net2[0][0]                  \n",
      "__________________________________________________________________________________________________\n",
      "res2_net2 (Conv2D)              (None, 64, 64, 32)   9248        drop_net2[0][0]                  \n",
      "__________________________________________________________________________________________________\n",
      "res3_net2 (Conv2D)              (None, 64, 64, 32)   544         pool_net1[0][0]                  \n",
      "__________________________________________________________________________________________________\n",
      "add_61 (Add)                    (None, 64, 64, 32)   0           res2_net2[0][0]                  \n",
      "                                                                 res3_net2[0][0]                  \n",
      "__________________________________________________________________________________________________\n",
      "pool_net2 (MaxPooling2D)        (None, 32, 32, 32)   0           add_61[0][0]                     \n",
      "__________________________________________________________________________________________________\n",
      "res1_net3 (Conv2D)              (None, 32, 32, 64)   18496       pool_net2[0][0]                  \n",
      "__________________________________________________________________________________________________\n",
      "drop_net3 (Dropout)             (None, 32, 32, 64)   0           res1_net3[0][0]                  \n",
      "__________________________________________________________________________________________________\n",
      "res2_net3 (Conv2D)              (None, 32, 32, 64)   36928       drop_net3[0][0]                  \n",
      "__________________________________________________________________________________________________\n",
      "res3_net3 (Conv2D)              (None, 32, 32, 64)   2112        pool_net2[0][0]                  \n",
      "__________________________________________________________________________________________________\n",
      "add_62 (Add)                    (None, 32, 32, 64)   0           res2_net3[0][0]                  \n",
      "                                                                 res3_net3[0][0]                  \n",
      "__________________________________________________________________________________________________\n",
      "pool_net3 (MaxPooling2D)        (None, 16, 16, 64)   0           add_62[0][0]                     \n",
      "__________________________________________________________________________________________________\n",
      "res1_net4 (Conv2D)              (None, 16, 16, 64)   36928       pool_net3[0][0]                  \n",
      "__________________________________________________________________________________________________\n",
      "drop_net4 (Dropout)             (None, 16, 16, 64)   0           res1_net4[0][0]                  \n",
      "__________________________________________________________________________________________________\n",
      "res2_net4 (Conv2D)              (None, 16, 16, 64)   36928       drop_net4[0][0]                  \n",
      "__________________________________________________________________________________________________\n",
      "res3_net4 (Conv2D)              (None, 16, 16, 64)   4160        pool_net3[0][0]                  \n",
      "__________________________________________________________________________________________________\n",
      "add_63 (Add)                    (None, 16, 16, 64)   0           res2_net4[0][0]                  \n",
      "                                                                 res3_net4[0][0]                  \n",
      "__________________________________________________________________________________________________\n",
      "res1_net5 (Conv2D)              (None, 16, 16, 64)   36928       add_63[0][0]                     \n",
      "__________________________________________________________________________________________________\n",
      "drop_net5 (Dropout)             (None, 16, 16, 64)   0           res1_net5[0][0]                  \n",
      "__________________________________________________________________________________________________\n",
      "res2_net5 (Conv2D)              (None, 16, 16, 64)   36928       drop_net5[0][0]                  \n",
      "__________________________________________________________________________________________________\n",
      "res3_net5 (Conv2D)              (None, 16, 16, 64)   4160        add_63[0][0]                     \n",
      "__________________________________________________________________________________________________\n",
      "add_64 (Add)                    (None, 16, 16, 64)   0           res2_net5[0][0]                  \n",
      "                                                                 res3_net5[0][0]                  \n",
      "__________________________________________________________________________________________________\n",
      "res1_net6 (Conv2D)              (None, 16, 16, 64)   36928       add_64[0][0]                     \n",
      "__________________________________________________________________________________________________\n",
      "drop_net6 (Dropout)             (None, 16, 16, 64)   0           res1_net6[0][0]                  \n",
      "__________________________________________________________________________________________________\n",
      "res2_net6 (Conv2D)              (None, 16, 16, 64)   36928       drop_net6[0][0]                  \n",
      "__________________________________________________________________________________________________\n",
      "res3_net6 (Conv2D)              (None, 16, 16, 64)   4160        add_64[0][0]                     \n",
      "__________________________________________________________________________________________________\n",
      "add_65 (Add)                    (None, 16, 16, 64)   0           res2_net6[0][0]                  \n",
      "                                                                 res3_net6[0][0]                  \n",
      "__________________________________________________________________________________________________\n",
      "up_sampling2d_30 (UpSampling2D) (None, 32, 32, 64)   0           add_65[0][0]                     \n",
      "__________________________________________________________________________________________________\n",
      "upsampling_net3 (Conv2D)        (None, 32, 32, 64)   36928       up_sampling2d_30[0][0]           \n",
      "__________________________________________________________________________________________________\n",
      "concatenate3 (Concatenate)      (None, 32, 32, 128)  0           add_62[0][0]                     \n",
      "                                                                 upsampling_net3[0][0]            \n",
      "__________________________________________________________________________________________________\n",
      "up_sampling2d_31 (UpSampling2D) (None, 64, 64, 128)  0           concatenate3[0][0]               \n",
      "__________________________________________________________________________________________________\n",
      "upsampling_net2 (Conv2D)        (None, 64, 64, 32)   36896       up_sampling2d_31[0][0]           \n",
      "__________________________________________________________________________________________________\n",
      "concatenate2 (Concatenate)      (None, 64, 64, 64)   0           add_61[0][0]                     \n",
      "                                                                 upsampling_net2[0][0]            \n",
      "__________________________________________________________________________________________________\n",
      "up_sampling2d_32 (UpSampling2D) (None, 128, 128, 64) 0           concatenate2[0][0]               \n",
      "__________________________________________________________________________________________________\n",
      "upsampling_net1 (Conv2D)        (None, 128, 128, 16) 9232        up_sampling2d_32[0][0]           \n",
      "__________________________________________________________________________________________________\n",
      "concatenate1 (Concatenate)      (None, 128, 128, 32) 0           add_60[0][0]                     \n",
      "                                                                 upsampling_net1[0][0]            \n",
      "__________________________________________________________________________________________________\n",
      "output (Conv2D)                 (None, 128, 128, 3)  99          concatenate1[0][0]               \n",
      "==================================================================================================\n",
      "Total params: 394,883\n",
      "Trainable params: 394,883\n",
      "Non-trainable params: 0\n",
      "__________________________________________________________________________________________________\n"
     ]
    },
    {
     "name": "stderr",
     "output_type": "stream",
     "text": [
      "c:\\Users\\jchamorro\\Anaconda3\\envs\\tf2\\lib\\site-packages\\tensorflow\\python\\keras\\optimizer_v2\\optimizer_v2.py:374: UserWarning: The `lr` argument is deprecated, use `learning_rate` instead.\n",
      "  warnings.warn(\n",
      "c:\\Users\\jchamorro\\Anaconda3\\envs\\tf2\\lib\\site-packages\\tensorflow\\python\\keras\\engine\\training.py:1969: UserWarning: `Model.fit_generator` is deprecated and will be removed in a future version. Please use `Model.fit`, which supports generators.\n",
      "  warnings.warn('`Model.fit_generator` is deprecated and '\n"
     ]
    },
    {
     "name": "stdout",
     "output_type": "stream",
     "text": [
      "Epoch 1/100\n",
      "self.global_step 0.0\n",
      "alpha Tensor(\"loss/add:0\", shape=(None, 128, 128, 3), dtype=float32)\n",
      "u Tensor(\"loss/truediv:0\", shape=(None, 128, 128, 1), dtype=float32)\n",
      "alpha Tensor(\"add:0\", shape=(None, 128, 128, 3), dtype=float32)\n",
      "u Tensor(\"truediv:0\", shape=(None, 128, 128, 1), dtype=float32)\n",
      "K.int_shape(KL_reg) Tensor(\"mul_6:0\", shape=(None, 128, 128, 1), dtype=float32)\n",
      "alpha Tensor(\"add_7:0\", shape=(None, 128, 128, 3), dtype=float32)\n",
      "u Tensor(\"truediv_5:0\", shape=(None, 128, 128, 1), dtype=float32)\n",
      "K.int_shape(KL_reg) Tensor(\"mul_12:0\", shape=(None, 128, 128, 1), dtype=float32)\n",
      "alpha Tensor(\"loss/add:0\", shape=(None, 128, 128, 3), dtype=float32)\n",
      "u Tensor(\"loss/truediv:0\", shape=(None, 128, 128, 1), dtype=float32)\n",
      "alpha Tensor(\"add:0\", shape=(None, 128, 128, 3), dtype=float32)\n",
      "u Tensor(\"truediv:0\", shape=(None, 128, 128, 1), dtype=float32)\n",
      "K.int_shape(KL_reg) Tensor(\"mul_6:0\", shape=(None, 128, 128, 1), dtype=float32)\n",
      "alpha Tensor(\"add_7:0\", shape=(None, 128, 128, 3), dtype=float32)\n",
      "u Tensor(\"truediv_5:0\", shape=(None, 128, 128, 1), dtype=float32)\n",
      "K.int_shape(KL_reg) Tensor(\"mul_12:0\", shape=(None, 128, 128, 1), dtype=float32)\n",
      "277/277 [==============================] - ETA: 0s - loss: 0.1874 - accuracy: 0.4988 - KL_term: 0.0041 - loglikelihood_term: 0.5579 - evidential_success: 18.8828 - evidential_fail: 1.1831 - acc: 0.4988 - annealing_coef: 0.0368 - global_step_get: 138.0000 - annealing_step_get: 3750.0000alpha Tensor(\"loss/add:0\", shape=(None, 128, 128, 3), dtype=float32)\n",
      "u Tensor(\"loss/truediv:0\", shape=(None, 128, 128, 1), dtype=float32)\n",
      "alpha Tensor(\"add:0\", shape=(None, 128, 128, 3), dtype=float32)\n",
      "u Tensor(\"truediv:0\", shape=(None, 128, 128, 1), dtype=float32)\n",
      "K.int_shape(KL_reg) Tensor(\"mul_6:0\", shape=(None, 128, 128, 1), dtype=float32)\n",
      "alpha Tensor(\"add_7:0\", shape=(None, 128, 128, 3), dtype=float32)\n",
      "u Tensor(\"truediv_5:0\", shape=(None, 128, 128, 1), dtype=float32)\n",
      "K.int_shape(KL_reg) Tensor(\"mul_12:0\", shape=(None, 128, 128, 1), dtype=float32)\n",
      "277/277 [==============================] - 27s 88ms/step - loss: 0.1874 - accuracy: 0.4988 - KL_term: 0.0041 - loglikelihood_term: 0.5579 - evidential_success: 18.8828 - evidential_fail: 1.1831 - acc: 0.4988 - annealing_coef: 0.0368 - global_step_get: 138.0000 - annealing_step_get: 3750.0000 - val_loss: 0.1689 - val_accuracy: 0.6672 - val_KL_term: 0.0031 - val_loglikelihood_term: 0.5060 - val_evidential_success: 12.3724 - val_evidential_fail: 0.6320 - val_acc: 0.6635 - val_annealing_coef: 0.0736 - val_global_step_get: 276.0000 - val_annealing_step_get: 3750.0000\n",
      "\n",
      "Epoch 00001: val_loss improved from inf to 0.16893, saving model to D:/Jorge/datasets/deforestation/experiments/MT/exp180/models\\resunet_0.h5\n"
     ]
    },
    {
     "name": "stderr",
     "output_type": "stream",
     "text": [
      "c:\\Users\\jchamorro\\Anaconda3\\envs\\tf2\\lib\\site-packages\\tensorflow\\python\\keras\\utils\\generic_utils.py:494: CustomMaskWarning: Custom mask layers require a config and must override get_config. When loading, the custom mask layer must be passed to the custom_objects argument.\n",
      "  warnings.warn('Custom mask layers require a config and must override '\n"
     ]
    },
    {
     "name": "stdout",
     "output_type": "stream",
     "text": [
      "Epoch 2/100\n",
      "self.global_step 276.0\n",
      "277/277 [==============================] - 24s 88ms/step - loss: 0.1711 - accuracy: 0.5336 - KL_term: 0.0070 - loglikelihood_term: 0.5063 - evidential_success: 31.5808 - evidential_fail: 1.3964 - acc: 0.5336 - annealing_coef: 0.0736 - global_step_get: 276.0000 - annealing_step_get: 3750.0000 - val_loss: 0.1687 - val_accuracy: 0.6460 - val_KL_term: 0.0046 - val_loglikelihood_term: 0.5051 - val_evidential_success: 13.0236 - val_evidential_fail: 0.4514 - val_acc: 0.6406 - val_annealing_coef: 0.1472 - val_global_step_get: 552.0000 - val_annealing_step_get: 3750.0000\n",
      "\n",
      "Epoch 00002: val_loss improved from 0.16893 to 0.16870, saving model to D:/Jorge/datasets/deforestation/experiments/MT/exp180/models\\resunet_0.h5\n",
      "Epoch 3/100\n",
      "self.global_step 552.0\n",
      "277/277 [==============================] - 24s 88ms/step - loss: 0.1688 - accuracy: 0.5489 - KL_term: 0.0094 - loglikelihood_term: 0.4969 - evidential_success: 31.2214 - evidential_fail: 1.3966 - acc: 0.5491 - annealing_coef: 0.1104 - global_step_get: 414.0000 - annealing_step_get: 3750.0000 - val_loss: 0.1694 - val_accuracy: 0.6326 - val_KL_term: 0.0070 - val_loglikelihood_term: 0.5046 - val_evidential_success: 11.3928 - val_evidential_fail: 0.4149 - val_acc: 0.6274 - val_annealing_coef: 0.2208 - val_global_step_get: 828.0000 - val_annealing_step_get: 3750.0000\n",
      "\n",
      "Epoch 00003: val_loss did not improve from 0.16870\n",
      "Epoch 4/100\n",
      "self.global_step 828.0\n",
      "277/277 [==============================] - 24s 88ms/step - loss: 0.1686 - accuracy: 0.5683 - KL_term: 0.0119 - loglikelihood_term: 0.4939 - evidential_success: 28.4415 - evidential_fail: 1.3003 - acc: 0.5684 - annealing_coef: 0.1472 - global_step_get: 552.0000 - annealing_step_get: 3750.0000 - val_loss: 0.1707 - val_accuracy: 0.6543 - val_KL_term: 0.0073 - val_loglikelihood_term: 0.5083 - val_evidential_success: 10.2946 - val_evidential_fail: 0.3374 - val_acc: 0.6487 - val_annealing_coef: 0.2944 - val_global_step_get: 1104.0000 - val_annealing_step_get: 3750.0000\n",
      "\n",
      "Epoch 00004: val_loss did not improve from 0.16870\n",
      "Epoch 5/100\n",
      "self.global_step 1104.0\n",
      "277/277 [==============================] - 24s 88ms/step - loss: 0.1681 - accuracy: 0.5975 - KL_term: 0.0133 - loglikelihood_term: 0.4908 - evidential_success: 27.1621 - evidential_fail: 1.1926 - acc: 0.5975 - annealing_coef: 0.1840 - global_step_get: 690.0000 - annealing_step_get: 3750.0000 - val_loss: 0.1700 - val_accuracy: 0.6586 - val_KL_term: 0.0100 - val_loglikelihood_term: 0.5035 - val_evidential_success: 10.2799 - val_evidential_fail: 0.4067 - val_acc: 0.6530 - val_annealing_coef: 0.3680 - val_global_step_get: 1380.0000 - val_annealing_step_get: 3750.0000\n",
      "\n",
      "Epoch 00005: val_loss did not improve from 0.16870\n",
      "Epoch 6/100\n",
      "self.global_step 1380.0\n",
      "277/277 [==============================] - 24s 88ms/step - loss: 0.1676 - accuracy: 0.6185 - KL_term: 0.0141 - loglikelihood_term: 0.4885 - evidential_success: 26.8061 - evidential_fail: 1.1347 - acc: 0.6185 - annealing_coef: 0.2208 - global_step_get: 828.0000 - annealing_step_get: 3750.0000 - val_loss: 0.1705 - val_accuracy: 0.6592 - val_KL_term: 0.0156 - val_loglikelihood_term: 0.4992 - val_evidential_success: 16.4137 - val_evidential_fail: 0.6452 - val_acc: 0.6537 - val_annealing_coef: 0.4416 - val_global_step_get: 1656.0000 - val_annealing_step_get: 3750.0000\n",
      "\n",
      "Epoch 00006: val_loss did not improve from 0.16870\n",
      "Epoch 7/100\n",
      "self.global_step 1656.0\n",
      "277/277 [==============================] - 24s 88ms/step - loss: 0.1617 - accuracy: 0.6509 - KL_term: 0.0175 - loglikelihood_term: 0.4679 - evidential_success: 28.7384 - evidential_fail: 1.2344 - acc: 0.6507 - annealing_coef: 0.2576 - global_step_get: 966.0000 - annealing_step_get: 3750.0000 - val_loss: 0.1335 - val_accuracy: 0.6812 - val_KL_term: 0.0307 - val_loglikelihood_term: 0.3735 - val_evidential_success: 14.2543 - val_evidential_fail: 0.9812 - val_acc: 0.6752 - val_annealing_coef: 0.5152 - val_global_step_get: 1932.0000 - val_annealing_step_get: 3750.0000\n",
      "\n",
      "Epoch 00007: val_loss improved from 0.16870 to 0.13353, saving model to D:/Jorge/datasets/deforestation/experiments/MT/exp180/models\\resunet_0.h5\n",
      "Epoch 8/100\n",
      "self.global_step 1932.0\n",
      "277/277 [==============================] - 24s 88ms/step - loss: 0.1218 - accuracy: 0.6936 - KL_term: 0.0253 - loglikelihood_term: 0.3399 - evidential_success: 32.0461 - evidential_fail: 1.7047 - acc: 0.6939 - annealing_coef: 0.2944 - global_step_get: 1104.0000 - annealing_step_get: 3750.0000 - val_loss: 0.1410 - val_accuracy: 0.6860 - val_KL_term: 0.0810 - val_loglikelihood_term: 0.3526 - val_evidential_success: 31.9069 - val_evidential_fail: 2.7305 - val_acc: 0.6798 - val_annealing_coef: 0.5888 - val_global_step_get: 2208.0000 - val_annealing_step_get: 3750.0000\n",
      "\n",
      "Epoch 00008: val_loss did not improve from 0.13353\n",
      "Epoch 9/100\n",
      "self.global_step 2208.0\n",
      "277/277 [==============================] - 24s 88ms/step - loss: 0.1175 - accuracy: 0.6961 - KL_term: 0.0235 - loglikelihood_term: 0.3291 - evidential_success: 39.1618 - evidential_fail: 1.4143 - acc: 0.6958 - annealing_coef: 0.3312 - global_step_get: 1242.0000 - annealing_step_get: 3750.0000 - val_loss: 0.1331 - val_accuracy: 0.6934 - val_KL_term: 0.0701 - val_loglikelihood_term: 0.3367 - val_evidential_success: 36.4389 - val_evidential_fail: 2.4556 - val_acc: 0.6871 - val_annealing_coef: 0.6624 - val_global_step_get: 2484.0000 - val_annealing_step_get: 3750.0000\n",
      "\n",
      "Epoch 00009: val_loss improved from 0.13353 to 0.13307, saving model to D:/Jorge/datasets/deforestation/experiments/MT/exp180/models\\resunet_0.h5\n",
      "Epoch 10/100\n",
      "self.global_step 2484.0\n",
      "277/277 [==============================] - 24s 87ms/step - loss: 0.1153 - accuracy: 0.7012 - KL_term: 0.0242 - loglikelihood_term: 0.3219 - evidential_success: 42.7169 - evidential_fail: 1.4686 - acc: 0.7011 - annealing_coef: 0.3680 - global_step_get: 1380.0000 - annealing_step_get: 3750.0000 - val_loss: 0.1352 - val_accuracy: 0.6911 - val_KL_term: 0.0789 - val_loglikelihood_term: 0.3326 - val_evidential_success: 40.0963 - val_evidential_fail: 2.6248 - val_acc: 0.6849 - val_annealing_coef: 0.7360 - val_global_step_get: 2760.0000 - val_annealing_step_get: 3750.0000\n",
      "\n",
      "Epoch 00010: val_loss did not improve from 0.13307\n",
      "Epoch 11/100\n",
      "self.global_step 2760.0\n",
      "277/277 [==============================] - 24s 88ms/step - loss: 0.1131 - accuracy: 0.6997 - KL_term: 0.0221 - loglikelihood_term: 0.3171 - evidential_success: 47.9733 - evidential_fail: 1.1011 - acc: 0.6998 - annealing_coef: 0.4048 - global_step_get: 1518.0000 - annealing_step_get: 3750.0000 - val_loss: 0.1484 - val_accuracy: 0.6783 - val_KL_term: 0.0991 - val_loglikelihood_term: 0.3512 - val_evidential_success: 46.5890 - val_evidential_fail: 3.0380 - val_acc: 0.6724 - val_annealing_coef: 0.8096 - val_global_step_get: 3036.0000 - val_annealing_step_get: 3750.0000\n",
      "\n",
      "Epoch 00011: val_loss did not improve from 0.13307\n",
      "Epoch 12/100\n",
      "self.global_step 3036.0\n",
      "277/277 [==============================] - 24s 88ms/step - loss: 0.1117 - accuracy: 0.7038 - KL_term: 0.0224 - loglikelihood_term: 0.3128 - evidential_success: 52.9588 - evidential_fail: 1.0964 - acc: 0.7039 - annealing_coef: 0.4416 - global_step_get: 1656.0000 - annealing_step_get: 3750.0000 - val_loss: 0.1449 - val_accuracy: 0.6782 - val_KL_term: 0.0990 - val_loglikelihood_term: 0.3411 - val_evidential_success: 46.2755 - val_evidential_fail: 2.8155 - val_acc: 0.6723 - val_annealing_coef: 0.8832 - val_global_step_get: 3312.0000 - val_annealing_step_get: 3750.0000\n",
      "\n",
      "Epoch 00012: val_loss did not improve from 0.13307\n",
      "Epoch 13/100\n",
      "self.global_step 3312.0\n",
      "277/277 [==============================] - 24s 88ms/step - loss: 0.1129 - accuracy: 0.7001 - KL_term: 0.0228 - loglikelihood_term: 0.3159 - evidential_success: 51.9536 - evidential_fail: 1.0192 - acc: 0.7000 - annealing_coef: 0.4784 - global_step_get: 1794.0000 - annealing_step_get: 3750.0000 - val_loss: 0.1382 - val_accuracy: 0.6841 - val_KL_term: 0.0854 - val_loglikelihood_term: 0.3329 - val_evidential_success: 45.7561 - val_evidential_fail: 2.4942 - val_acc: 0.6781 - val_annealing_coef: 0.9568 - val_global_step_get: 3588.0000 - val_annealing_step_get: 3750.0000\n",
      "\n",
      "Epoch 00013: val_loss did not improve from 0.13307\n",
      "Epoch 14/100\n",
      "self.global_step 3588.0\n",
      "277/277 [==============================] - 24s 88ms/step - loss: 0.1114 - accuracy: 0.7064 - KL_term: 0.0243 - loglikelihood_term: 0.3097 - evidential_success: 53.8646 - evidential_fail: 1.0227 - acc: 0.7065 - annealing_coef: 0.5147 - global_step_get: 1932.0000 - annealing_step_get: 3750.0000 - val_loss: 0.1608 - val_accuracy: 0.6831 - val_KL_term: 0.1432 - val_loglikelihood_term: 0.3470 - val_evidential_success: 41.1914 - val_evidential_fail: 3.9707 - val_acc: 0.6770 - val_annealing_coef: 1.0000 - val_global_step_get: 3864.0000 - val_annealing_step_get: 3750.0000\n",
      "\n",
      "Epoch 00014: val_loss did not improve from 0.13307\n",
      "Epoch 15/100\n",
      "self.global_step 3864.0\n",
      "277/277 [==============================] - 24s 88ms/step - loss: 0.1127 - accuracy: 0.7056 - KL_term: 0.0257 - loglikelihood_term: 0.3125 - evidential_success: 41.8537 - evidential_fail: 1.2116 - acc: 0.7056 - annealing_coef: 0.5469 - global_step_get: 2070.0000 - annealing_step_get: 3750.0000 - val_loss: 0.1461 - val_accuracy: 0.6869 - val_KL_term: 0.1099 - val_loglikelihood_term: 0.3313 - val_evidential_success: 51.5271 - val_evidential_fail: 3.3145 - val_acc: 0.6808 - val_annealing_coef: 1.0000 - val_global_step_get: 4140.0000 - val_annealing_step_get: 3750.0000\n",
      "\n",
      "Epoch 00015: val_loss did not improve from 0.13307\n",
      "Epoch 16/100\n",
      "self.global_step 4140.0\n",
      "277/277 [==============================] - 24s 88ms/step - loss: 0.1105 - accuracy: 0.7041 - KL_term: 0.0221 - loglikelihood_term: 0.3094 - evidential_success: 54.5283 - evidential_fail: 0.8369 - acc: 0.7039 - annealing_coef: 0.5751 - global_step_get: 2208.0000 - annealing_step_get: 3750.0000 - val_loss: 0.1446 - val_accuracy: 0.6861 - val_KL_term: 0.1064 - val_loglikelihood_term: 0.3303 - val_evidential_success: 52.7056 - val_evidential_fail: 3.1922 - val_acc: 0.6801 - val_annealing_coef: 1.0000 - val_global_step_get: 4416.0000 - val_annealing_step_get: 3750.0000\n",
      "\n",
      "Epoch 00016: val_loss did not improve from 0.13307\n",
      "Epoch 17/100\n",
      "self.global_step 4416.0\n",
      "277/277 [==============================] - 24s 88ms/step - loss: 0.1092 - accuracy: 0.7073 - KL_term: 0.0225 - loglikelihood_term: 0.3052 - evidential_success: 56.9440 - evidential_fail: 0.8721 - acc: 0.7074 - annealing_coef: 0.6000 - global_step_get: 2346.0000 - annealing_step_get: 3750.0000 - val_loss: 0.1473 - val_accuracy: 0.6856 - val_KL_term: 0.1151 - val_loglikelihood_term: 0.3305 - val_evidential_success: 57.0136 - val_evidential_fail: 3.7181 - val_acc: 0.6796 - val_annealing_coef: 1.0000 - val_global_step_get: 4692.0000 - val_annealing_step_get: 3750.0000\n",
      "\n",
      "Epoch 00017: val_loss did not improve from 0.13307\n",
      "Epoch 18/100\n",
      "self.global_step 4692.0\n",
      "277/277 [==============================] - 24s 88ms/step - loss: 0.1095 - accuracy: 0.7064 - KL_term: 0.0228 - loglikelihood_term: 0.3057 - evidential_success: 57.6933 - evidential_fail: 0.7913 - acc: 0.7063 - annealing_coef: 0.6221 - global_step_get: 2484.0000 - annealing_step_get: 3750.0000 - val_loss: 0.1560 - val_accuracy: 0.6843 - val_KL_term: 0.1327 - val_loglikelihood_term: 0.3376 - val_evidential_success: 56.8349 - val_evidential_fail: 4.4306 - val_acc: 0.6782 - val_annealing_coef: 1.0000 - val_global_step_get: 4968.0000 - val_annealing_step_get: 3750.0000\n",
      "\n",
      "Epoch 00018: val_loss did not improve from 0.13307\n",
      "Epoch 19/100\n",
      "self.global_step 4968.0\n",
      "277/277 [==============================] - 24s 88ms/step - loss: 0.1083 - accuracy: 0.7090 - KL_term: 0.0225 - loglikelihood_term: 0.3024 - evidential_success: 60.0708 - evidential_fail: 0.7802 - acc: 0.7093 - annealing_coef: 0.6419 - global_step_get: 2622.0000 - annealing_step_get: 3750.0000 - val_loss: 0.1373 - val_accuracy: 0.6940 - val_KL_term: 0.0940 - val_loglikelihood_term: 0.3212 - val_evidential_success: 65.5720 - val_evidential_fail: 3.3196 - val_acc: 0.6878 - val_annealing_coef: 1.0000 - val_global_step_get: 5244.0000 - val_annealing_step_get: 3750.0000\n",
      "\n",
      "Epoch 00019: val_loss did not improve from 0.13307\n",
      "Epoch 00019: early stopping\n",
      "-5.0 -12.0\n"
     ]
    },
    {
     "name": "stderr",
     "output_type": "stream",
     "text": [
      "ic| self.path_models+ '/' + self.method +'_'+str(0)+'.h5': 'D:/Jorge/datasets/deforestation/experiments/MT/exp180/models/resunet_0.h5'\n"
     ]
    },
    {
     "name": "stdout",
     "output_type": "stream",
     "text": [
      "time:  0\n",
      "(39774655,)\n",
      "(array([0, 1], dtype=uint8), array([39234711,   539944], dtype=int64))\n",
      "(16795, 10420)\n",
      "(array([0., 1.], dtype=float32), array([172734290,   2269610], dtype=int64))\n"
     ]
    },
    {
     "name": "stderr",
     "output_type": "stream",
     "text": [
      "ic| self.predicted_unpad.shape: (16795, 10420)\n",
      "    self.predicted.shape: (16795, 10420)\n",
      "ic| predicted_test.shape: (70001560,)\n",
      "ic| predicted_test.shape: (39774655,)\n",
      "ic| np.unique(predicted, return_counts=True): (array([0., 1.], dtype=float32), array([172734290,   2269610], dtype=int64))\n",
      "    np.unique(predicted_larger_than_min_area, return_counts=True): (array([0., 1.], dtype=float32), array([172824867,   2179033], dtype=int64))\n",
      "ic| np.unique(ignored_polygons, return_counts=True): (array([0., 1.], dtype=float32), array([174913323,     90577], dtype=int64))\n",
      "ic| self.f1: 73.38, self.precision: 63.75, self.recall: 86.44\n",
      "ic| self.label_mask_val.shape: (21000468,)\n",
      "ic| self.label_mask_val_valid.shape: (10898860,)\n",
      "ic| f1_val: 95.1\n",
      "    precision_val: 94.6\n",
      "    recall_val: 95.61\n",
      "    mAP_val: 97.46\n"
     ]
    },
    {
     "name": "stdout",
     "output_type": "stream",
     "text": [
      "(array([0., 1.], dtype=float32), array([174360239,    643661], dtype=int64))\n",
      "[0. 1.]\n"
     ]
    },
    {
     "name": "stderr",
     "output_type": "stream",
     "text": [
      "ic| self.label_mask.shape: (16795, 10420)\n",
      "ic| self.mask_amazon_ts.shape: (16795, 10420)\n",
      "ic| self.label_mask_test.shape: (70001560,)\n",
      "ic| self.error_mask_test.shape: (39739256,)\n",
      "ic| bounds: (0.0015, 0.9985)\n",
      "c:\\Users\\jchamorro\\Anaconda3\\envs\\tf2\\lib\\site-packages\\scipy\\optimize\\_minimize.py:783: RuntimeWarning: Method 'bounded' does not support relative tolerance in x; defaulting to absolute tolerance.\n",
      "  warn(\"Method 'bounded' does not support relative tolerance in x; \"\n"
     ]
    },
    {
     "name": "stdout",
     "output_type": "stream",
     "text": [
      "0.38232011321635484\n",
      "threshold 0.38232011321635484\n",
      "(37673868,) (37673868,)\n"
     ]
    },
    {
     "name": "stderr",
     "output_type": "stream",
     "text": [
      "ic| label_current_deforestation_test_classified_incorrect.shape: (2065388,)\n",
      "    predicted_test_classified_incorrect.shape: (2065388,)\n"
     ]
    },
    {
     "name": "stdout",
     "output_type": "stream",
     "text": [
      "cm_correct [[37046944   184912]\n",
      " [   23024   418988]]\n"
     ]
    },
    {
     "name": "stderr",
     "output_type": "stream",
     "text": [
      "ic| TP_H + FN_H + FP_H + TN_H: 2065388\n",
      "    len(label_mask_current_deforestation_test): 39739256\n",
      "ic| TP_H + FN_H + FP_H + TN_H: 2065388\n",
      "    len(label_mask_current_deforestation_test): 39739256\n"
     ]
    },
    {
     "name": "stdout",
     "output_type": "stream",
     "text": [
      "cm_incorrect [[1898448   76662]\n",
      " [  49178   41100]]\n",
      "[0.69380361 0.94791092 0.78714235 0.05197349 0.34900902 0.45526042]\n",
      "0.6176798867836452\n",
      "threshold 0.6176798867836452\n",
      "(38394272,) (38394272,)\n"
     ]
    },
    {
     "name": "stderr",
     "output_type": "stream",
     "text": [
      "ic| label_current_deforestation_test_classified_incorrect.shape: (1344984,)\n",
      "    predicted_test_classified_incorrect.shape: (1344984,)\n",
      "ic| TP_H + FN_H + FP_H + TN_H: 1344984\n",
      "    len(label_mask_current_deforestation_test): 39739256\n",
      "ic| TP_H + FN_H + "
     ]
    },
    {
     "name": "stdout",
     "output_type": "stream",
     "text": [
      "cm_correct [[37675610   238897]\n",
      " [   28760   451005]]\n",
      "cm_incorrect [[1269782   22677]\n",
      " [  43442    9083]]\n"
     ]
    },
    {
     "name": "stderr",
     "output_type": "stream",
     "text": [
      "FP_H + TN_H: 1344984\n",
      "    len(label_mask_current_deforestation_test): 39739256\n"
     ]
    },
    {
     "name": "stdout",
     "output_type": "stream",
     "text": [
      "[0.65372328 0.94005398 0.84729189 0.03384522 0.28598866 0.17292718]\n",
      "0.7631402264327096\n",
      "threshold 0.7631402264327096\n",
      "(38702211,) (38702211,)\n"
     ]
    },
    {
     "name": "stderr",
     "output_type": "stream",
     "text": [
      "ic| label_current_deforestation_test_classified_incorrect.shape: (1037045,)\n",
      "    predicted_test_classified_incorrect.shape: (1037045,)\n",
      "d:\\Jorge\\deforestation_uncertainty\\src\\metrics.py:295: RuntimeWarning: invalid value encountered in longlong_scalars\n",
      "  precision_H = TP_H / (TP_H + FP_H)\n",
      "ic| TP_H + FN_H + FP_H + TN_H: 1037045\n",
      "    len(label_mask_current_deforestation_test): 39739256\n",
      "ic| TP_H + FN_H + FP_H + TN_H: 1037045\n",
      "    len(label_mask_current_deforestation_test): 39739256\n"
     ]
    },
    {
     "name": "stdout",
     "output_type": "stream",
     "text": [
      "cm_correct [[37947443   261574]\n",
      " [   33106   460088]]\n",
      "cm_incorrect [[997949      0]\n",
      " [ 39096      0]]\n",
      "[0.63753946 0.93287428 0.8643559  0.02609624        nan 0.        ]\n",
      "0.6894203304776525\n",
      "threshold 0.6894203304776525\n",
      "(38549746,) (38549746,)\n"
     ]
    },
    {
     "name": "stderr",
     "output_type": "stream",
     "text": [
      "ic| label_current_deforestation_test_classified_incorrect.shape: (1189510,)\n",
      "    predicted_test_classified_incorrect.shape: (1189510,)\n",
      "ic| TP_H + FN_H + FP_H + TN_H: 1189510\n",
      "    len(label_mask_current_deforestation_test): 39739256\n",
      "ic| TP_H + FN_H + FP_H + TN_H: 1189510\n",
      "    len(label_mask_current_deforestation_test): 39739256\n"
     ]
    },
    {
     "name": "stdout",
     "output_type": "stream",
     "text": [
      "cm_correct [[37810615   252220]\n",
      " [   30430   456481]]\n",
      "cm_incorrect [[1134777    9354]\n",
      " [  41772    3607]]\n",
      "[0.64410943 0.93750398 0.85757951 0.02993287 0.27829643 0.07948611]\n",
      "0.6901305111853048\n",
      "threshold 0.6901305111853048\n",
      "(38551201,) (38551201,)\n"
     ]
    },
    {
     "name": "stderr",
     "output_type": "stream",
     "text": [
      "ic| label_current_deforestation_test_classified_incorrect.shape: (1188055,)\n",
      "    predicted_test_classified_incorrect.shape: (1188055,)\n",
      "ic| TP_H + FN_H + FP_H + TN_H: 1188055\n",
      "    len(label_mask_current_deforestation_test): 39739256\n",
      "ic| TP_H + FN_H + FP_H + TN_H: 1188055\n",
      "    len(label_mask_current_deforestation_test): 39739256\n"
     ]
    },
    {
     "name": "stdout",
     "output_type": "stream",
     "text": [
      "cm_correct [[37811878   252340]\n",
      " [   30448   456535]]\n",
      "cm_incorrect [[1133514    9234]\n",
      " [  41754    3553]]\n",
      "[0.64402751 0.93747626 0.85768096 0.02989626 0.27786033 0.07842055]\n",
      "0.6718553199422344\n",
      "threshold 0.6718553199422344\n",
      "(38513061,) (38513061,)\n"
     ]
    },
    {
     "name": "stderr",
     "output_type": "stream",
     "text": [
      "ic| label_current_deforestation_test_classified_incorrect.shape: (1226195,)\n",
      "    predicted_test_classified_incorrect.shape: (1226195,)\n",
      "ic| TP_H + FN_H + FP_H + TN_H: 1226195\n",
      "    len(label_mask_current_deforestation_test): 39739256\n",
      "ic| TP_H + FN_H + FP_H + TN_H: 1226195\n",
      "    len(label_mask_current_deforestation_test): 39739256\n"
     ]
    },
    {
     "name": "stdout",
     "output_type": "stream",
     "text": [
      "cm_correct [[37778521   249258]\n",
      " [   30025   455257]]\n",
      "cm_incorrect [[1166871   12316]\n",
      " [  42177    4831]]\n",
      "[0.64619916 0.93812876 0.85528002 0.03085601 0.28174025 0.10276974]\n",
      "0.6827110934658728\n",
      "threshold 0.6827110934658728\n",
      "(38535694,) (38535694,)\n"
     ]
    },
    {
     "name": "stderr",
     "output_type": "stream",
     "text": [
      "ic| label_current_deforestation_test_classified_incorrect.shape: (1203562,)\n",
      "    predicted_test_classified_incorrect.shape: (1203562,)\n",
      "ic| TP_H + FN_H + FP_H + TN_H: 1203562\n",
      "    len(label_mask_current_deforestation_test): 39739256\n",
      "ic| TP_H + FN_H + FP_H + TN_H: 1203562\n",
      "    len(label_mask_current_deforestation_test): 39739256\n"
     ]
    },
    {
     "name": "stdout",
     "output_type": "stream",
     "text": [
      "cm_correct [[37798312   251097]\n",
      " [   30285   456000]]\n",
      "cm_incorrect [[1147080   10477]\n",
      " [  41917    4088]]\n",
      "[0.64489031 0.93772171 0.85667587 0.03028648 0.28067285 0.08885991]\n",
      "0.6875052849902592\n",
      "threshold 0.6875052849902592\n",
      "(38545729,) (38545729,)\n"
     ]
    },
    {
     "name": "stderr",
     "output_type": "stream",
     "text": [
      "ic| label_current_deforestation_test_classified_incorrect.shape: (1193527,)\n",
      "    predicted_test_classified_incorrect.shape: (1193527,)\n",
      "ic| TP_H + FN_H + FP_H + TN_H: 1193527\n",
      "    len(label_mask_current_deforestation_test): 39739256\n",
      "ic| TP_H + FN_H + FP_H + TN_H: 1193527\n",
      "    len(label_mask_current_deforestation_test): 39739256\n"
     ]
    },
    {
     "name": "stdout",
     "output_type": "stream",
     "text": [
      "cm_correct [[37807111   251877]\n",
      " [   30391   456350]]\n",
      "cm_incorrect [[1138281    9697]\n",
      " [  41811    3738]]\n",
      "[0.64435555 0.93756228 0.85733341 0.03003395 0.27822851 0.08206547]\n",
      "0.6877985442997114\n",
      "threshold 0.6877985442997114\n",
      "(38546307,) (38546307,)\n"
     ]
    },
    {
     "name": "stderr",
     "output_type": "stream",
     "text": [
      "ic| label_current_deforestation_test_classified_incorrect.shape: (1192949,)\n",
      "    predicted_test_classified_incorrect.shape: (1192949,)\n",
      "ic| TP_H + FN_H + FP_H + TN_H: 1192949\n",
      "    len(label_mask_current_deforestation_test): 39739256\n",
      "ic| TP_H + FN_H + FP_H + TN_H: 1192949\n",
      "    len(label_mask_current_deforestation_test): 39739256\n"
     ]
    },
    {
     "name": "stdout",
     "output_type": "stream",
     "text": [
      "cm_correct [[37807614   251927]\n",
      " [   30396   456370]]\n",
      "cm_incorrect [[1137778    9647]\n",
      " [  41806    3718]]\n",
      "[0.64432011 0.93755521 0.85737098 0.03001941 0.2781893  0.08167121]\n",
      "0.6882528948625398\n",
      "threshold 0.6882528948625398\n",
      "(38547279,) (38547279,)\n"
     ]
    },
    {
     "name": "stderr",
     "output_type": "stream",
     "text": [
      "ic| label_current_deforestation_test_classified_incorrect.shape: (1191977,)\n",
      "    predicted_test_classified_incorrect.shape: (1191977,)\n",
      "ic| TP_H + FN_H + FP_H + TN_H: 1191977\n",
      "    len(label_mask_current_deforestation_test): 39739256\n",
      "ic| TP_H + FN_H + FP_H + TN_H: 1191977\n",
      "    len(label_mask_current_deforestation_test): 39739256\n"
     ]
    },
    {
     "name": "stdout",
     "output_type": "stream",
     "text": [
      "cm_correct [[37808469   252005]\n",
      " [   30408   456397]]\n",
      "cm_incorrect [[1136923    9569]\n",
      " [  41794    3691]]\n",
      "[0.64426272 0.93753556 0.85742171 0.02999495 0.27835596 0.08114763]\n",
      "0.6886988155878357\n",
      "threshold 0.6886988155878357\n",
      "(38548234,) (38548234,)\n"
     ]
    },
    {
     "name": "stderr",
     "output_type": "stream",
     "text": [
      "ic| label_current_deforestation_test_classified_incorrect.shape: (1191022,)\n",
      "    predicted_test_classified_incorrect.shape: (1191022,)\n",
      "ic| TP_H + FN_H + FP_H + TN_H: 1191022\n",
      "    len(label_mask_current_deforestation_test): 39739256\n",
      "ic| TP_H + FN_H + FP_H + TN_H: 1191022\n",
      "    len(label_mask_current_deforestation_test): 39739256\n"
     ]
    },
    {
     "name": "stdout",
     "output_type": "stream",
     "text": [
      "cm_correct [[37809298   252084]\n",
      " [   30414   456438]]\n",
      "cm_incorrect [[1136094    9490]\n",
      " [  41788    3650]]\n",
      "[0.64421147 0.93752927 0.85749873 0.02997092 0.27777778 0.08032924]\n",
      "0.6881921162004427\n",
      "threshold 0.6881921162004427\n",
      "(38547134,) (38547134,)\n"
     ]
    },
    {
     "name": "stderr",
     "output_type": "stream",
     "text": [
      "ic| label_current_deforestation_test_classified_incorrect.shape: (1192122,)\n",
      "    predicted_test_classified_incorrect.shape: (1192122,)\n",
      "ic| TP_H + FN_H + FP_H + TN_H: 1192122\n",
      "    len(label_mask_current_deforestation_test): 39739256\n",
      "ic| TP_H + FN_H + FP_H + TN_H: 1192122\n",
      "    len(label_mask_current_deforestation_test): 39739256\n"
     ]
    },
    {
     "name": "stdout",
     "output_type": "stream",
     "text": [
      "cm_correct [[37808340   251995]\n",
      " [   30406   456393]]\n",
      "cm_incorrect [[1137052    9579]\n",
      " [  41796    3695]]\n",
      "[0.64426981 0.9375389  0.85741419 0.0299986  0.27836372 0.08122486]\n",
      "0.6880935878488651\n",
      "threshold 0.6880935878488651\n",
      "(38546920,) (38546920,)\n"
     ]
    },
    {
     "name": "stderr",
     "output_type": "stream",
     "text": [
      "ic| label_current_deforestation_test_classified_incorrect.shape: (1192336,)\n",
      "    predicted_test_classified_incorrect.shape: (1192336,)\n",
      "ic| TP_H + FN_H + FP_H + TN_H: 1192336\n",
      "    len(label_mask_current_deforestation_test): 39739256\n",
      "ic| TP_H + FN_H + FP_H + TN_H: 1192336\n",
      "    len(label_mask_current_deforestation_test): 39739256\n"
     ]
    },
    {
     "name": "stdout",
     "output_type": "stream",
     "text": [
      "cm_correct [[37808157   251975]\n",
      " [   30405   456383]]\n",
      "cm_incorrect [[1137235    9599]\n",
      " [  41797    3705]]\n",
      "[0.64428298 0.93753954 0.8573954  0.03000398 0.27848767 0.08142499]\n",
      "0.6881587726595707\n",
      "threshold 0.6881587726595707\n",
      "(38547061,) (38547061,)\n"
     ]
    },
    {
     "name": "stderr",
     "output_type": "stream",
     "text": [
      "ic| label_current_deforestation_test_classified_incorrect.shape: (1192195,)\n",
      "    predicted_test_classified_incorrect.shape: (1192195,)\n",
      "ic| TP_H + FN_H + FP_H + TN_H: 1192195\n",
      "    len(label_mask_current_deforestation_test): 39739256\n",
      "ic| TP_H + FN_H + FP_H + TN_H: 1192195\n",
      "    len(label_mask_current_deforestation_test): 39739256\n",
      "ic| self"
     ]
    },
    {
     "name": "stdout",
     "output_type": "stream",
     "text": [
      "cm_correct [[37808278   251988]\n",
      " [   30406   456389]]\n",
      "cm_incorrect [[1137114    9586]\n",
      " [  41796    3699]]\n",
      "[0.64427416 0.93753839 0.85740668 0.03000044 0.27843432 0.08130564]\n"
     ]
    },
    {
     "name": "stderr",
     "output_type": "stream",
     "text": [
      ".threshold_optimal: 0.6881587726595707\n"
     ]
    },
    {
     "name": "stdout",
     "output_type": "stream",
     "text": [
      "threshold 0.6881587726595707\n",
      "(38547061,) (38547061,)\n"
     ]
    },
    {
     "name": "stderr",
     "output_type": "stream",
     "text": [
      "ic| label_current_deforestation_test_classified_incorrect.shape: (1192195,)\n",
      "    predicted_test_classified_incorrect.shape: (1192195,)\n",
      "ic| TP_H + FN_H + FP_H + TN_H: 1192195\n",
      "    len(label_mask_current_deforestation_test): 39739256\n",
      "ic| TP_H + FN_H + FP_H + TN_H: 1192195\n",
      "    len(label_mask_current_deforestation_test): 39739256\n"
     ]
    },
    {
     "name": "stdout",
     "output_type": "stream",
     "text": [
      "cm_correct [[37808278   251988]\n",
      " [   30406   456389]]\n",
      "cm_incorrect [[1137114    9586]\n",
      " [  41796    3699]]\n",
      "[0.64427416 0.93753839 0.85740668 0.03000044 0.27843432 0.08130564]\n",
      "threshold 0.6881587726595707\n",
      "(39739256,) (39739256,)\n"
     ]
    },
    {
     "name": "stderr",
     "output_type": "stream",
     "text": [
      "ic| self.m_optimal: {'AA': array([0.03000044]),\n",
      "                     'f1': 73.38,\n",
      "                     'f1_H': array([0.12585914]),\n",
      "                     'f1_L': array([0.76372104]),\n",
      "                     'precision_H': array([0.27843432]),\n",
      "                     'precision_L': array([0.64427416]),\n",
      "                     'recall_H': array([0.08130564]),\n",
      "                     'recall_L': array([0.93753839]),\n",
      "                     'recall_Ltotal': array([0.85740668])}\n",
      "ic| self.m_audited_optimal: {'f1': array([0.78043668]),\n",
      "                             'precision': array([0.66574166]),\n",
      "                             'recall': array([0.942877])}\n"
     ]
    },
    {
     "name": "stdout",
     "output_type": "stream",
     "text": [
      "cm_audited [[38954978   251988]\n",
      " [   30406   501884]]\n",
      "[0.66574166 0.942877  ]\n",
      "D:/Jorge/datasets/deforestation/MT/deforestation_past_years.tif\n",
      "Loaded deforestation past years\n"
     ]
    },
    {
     "name": "stderr",
     "output_type": "stream",
     "text": [
      "ic| np.unique(deforestation_past_years, return_counts=True): (array([   0, 2008, 2009, 2010, 2011, 2012, 2013, 2014, 2015, 2016, 2017,\n",
      "                                                                    2018, 2019, 2020, 2021], dtype=uint16),\n",
      "                                                              array([161124576,   1332784,    240796,    338545,    313901,    287191,\n",
      "                                                                       708581,    648966,    876898,   1007787,   1098901,   1054092,\n",
      "                                                                      2096062,   2473828,   1400992], dtype=int64))\n"
     ]
    },
    {
     "name": "stdout",
     "output_type": "stream",
     "text": [
      "Label where deforestation past years is actual date (2019) = 1\n"
     ]
    },
    {
     "name": "stderr",
     "output_type": "stream",
     "text": [
      "ic| np.unique(deforestation_past_years, return_counts=True): (array([   0, 2008, 2009, 2010, 2011, 2012, 2013, 2014, 2015, 2016, 2017,\n",
      "                                                                    2018, 2019, 2020, 2021], dtype=uint16),\n",
      "                                                              array([161124576,   1332784,    240796,    338545,    313901,    287191,\n",
      "                                                                       708581,    648966,    876898,   1007787,   1098901,   1054092,\n",
      "                                                                      2096062,   2473828,   1400992], dtype=int64))\n"
     ]
    },
    {
     "name": "stdout",
     "output_type": "stream",
     "text": [
      "Past deforestation different from 0 (no deforestation)\n"
     ]
    },
    {
     "name": "stderr",
     "output_type": "stream",
     "text": [
      "ic| np.unique(deforestation_past_years, return_counts=True): (array([   0, 2008, 2009, 2010, 2011, 2012, 2013, 2014, 2015, 2016, 2017,\n",
      "                                                                    2018, 2019, 2020, 2021], dtype=uint16),\n",
      "                                                              array([161124576,   1332784,    240796,    338545,    313901,    287191,\n",
      "                                                                       708581,    648966,    876898,   1007787,   1098901,   1054092,\n",
      "                                                                      2096062,   2473828,   1400992], dtype=int64))\n"
     ]
    },
    {
     "name": "stdout",
     "output_type": "stream",
     "text": [
      "Past deforestation before 2008 is 2\n",
      "D:/Jorge/datasets/deforestation/MT/deforestation_before_2008/deforestation_before_2008_MT.tif\n"
     ]
    },
    {
     "name": "stderr",
     "output_type": "stream",
     "text": [
      "ic| np.unique(label_past_deforestation_before_2008, return_counts=True): (array([  0, 215], dtype=uint8), array([122623260,  52380640], dtype=int64))\n",
      "ic| np.unique(deforestation_past_years, return_counts=True): (array([   0, 2008, 2009, 2010, 2011, 2012, 2013, 2014, 2015, 2016, 2017,\n",
      "                                                                    2018, 2019, 2020, 2021], dtype=uint16),\n",
      "                                                              array([161124576,   1332784,    240796,    338545,    313901,    287191,\n",
      "                                                                       708581,    648966,    876898,   1007787,   1098901,   1054092,\n",
      "                                                                      2096062,   2473828,   1400992], dtype=int64))\n",
      "ic| label_per_date.shape: (16795, 10420, 1)\n"
     ]
    },
    {
     "name": "stdout",
     "output_type": "stream",
     "text": [
      "Mask label shape:  \n",
      " (16795, 10420, 1) \n",
      " Unique values:  \n",
      " [0 1 2]\n",
      "Tiles size:  3359 2084\n",
      "Mask size:  (16795, 10420)\n"
     ]
    },
    {
     "name": "stderr",
     "output_type": "stream",
     "text": [
      "ic| image_stack.shape: (16795, 10420, 21)\n"
     ]
    },
    {
     "name": "stdout",
     "output_type": "stream",
     "text": [
      "Image shape:  (16795, 10420, 21)\n",
      "mask:  (16795, 10420)\n",
      "image stack:  (16795, 10420, 21)\n",
      "ref : (16795, 10420, 1)\n",
      "Training tiles:  [2, 4, 5, 6, 7, 12, 14, 15, 18, 21, 23, 24]\n",
      "Validation tiles:  [9, 11, 25]\n",
      "Test tiles:  [1, 3, 8, 10, 13, 16, 17, 19, 20, 22]\n"
     ]
    },
    {
     "name": "stderr",
     "output_type": "stream",
     "text": [
      "ic| im_idx_row.shape: (16795, 10420, 1)\n",
      "    im_idx_col.shape: (16795, 10420, 1)\n",
      "ic| im_idx_row.dtype: dtype('uint16')\n",
      "    im_idx_col.dtype: dtype('uint16')\n",
      "ic| im_idx.shape: (16795, 10420, 2), im_idx.dtype: dtype('uint16')\n",
      "ic| coords.shape: (439, 271, 1, 128, 128, 2)\n",
      "    coords.dtype: dtype('uint16')\n",
      "ic| coords.shape: (118969, 2), coords.dtype: dtype('uint16')\n",
      "ic| self.coords_train.shape: (54516, 3)\n",
      "    self.coords_val.shape: (13175, 3)\n"
     ]
    },
    {
     "name": "stdout",
     "output_type": "stream",
     "text": [
      "training samples:  (2962, 3) validation samples:  (623, 3)\n",
      "time:  0\n",
      "Model: \"model_12\"\n",
      "__________________________________________________________________________________________________\n",
      "Layer (type)                    Output Shape         Param #     Connected to                     \n",
      "==================================================================================================\n",
      "input_enc_net (InputLayer)      [(None, 128, 128, 21 0                                            \n",
      "__________________________________________________________________________________________________\n",
      "res1_net1 (Conv2D)              (None, 128, 128, 16) 3040        input_enc_net[0][0]              \n",
      "__________________________________________________________________________________________________\n",
      "drop_net1 (Dropout)             (None, 128, 128, 16) 0           res1_net1[0][0]                  \n",
      "__________________________________________________________________________________________________\n",
      "res2_net1 (Conv2D)              (None, 128, 128, 16) 2320        drop_net1[0][0]                  \n",
      "__________________________________________________________________________________________________\n",
      "res3_net1 (Conv2D)              (None, 128, 128, 16) 352         input_enc_net[0][0]              \n",
      "__________________________________________________________________________________________________\n",
      "add_72 (Add)                    (None, 128, 128, 16) 0           res2_net1[0][0]                  \n",
      "                                                                 res3_net1[0][0]                  \n",
      "__________________________________________________________________________________________________\n",
      "pool_net1 (MaxPooling2D)        (None, 64, 64, 16)   0           add_72[0][0]                     \n",
      "__________________________________________________________________________________________________\n",
      "res1_net2 (Conv2D)              (None, 64, 64, 32)   4640        pool_net1[0][0]                  \n",
      "__________________________________________________________________________________________________\n",
      "drop_net2 (Dropout)             (None, 64, 64, 32)   0           res1_net2[0][0]                  \n",
      "__________________________________________________________________________________________________\n",
      "res2_net2 (Conv2D)              (None, 64, 64, 32)   9248        drop_net2[0][0]                  \n",
      "__________________________________________________________________________________________________\n",
      "res3_net2 (Conv2D)              (None, 64, 64, 32)   544         pool_net1[0][0]                  \n",
      "__________________________________________________________________________________________________\n",
      "add_73 (Add)                    (None, 64, 64, 32)   0           res2_net2[0][0]                  \n",
      "                                                                 res3_net2[0][0]                  \n",
      "__________________________________________________________________________________________________\n",
      "pool_net2 (MaxPooling2D)        (None, 32, 32, 32)   0           add_73[0][0]                     \n",
      "__________________________________________________________________________________________________\n",
      "res1_net3 (Conv2D)              (None, 32, 32, 64)   18496       pool_net2[0][0]                  \n",
      "__________________________________________________________________________________________________\n",
      "drop_net3 (Dropout)             (None, 32, 32, 64)   0           res1_net3[0][0]                  \n",
      "__________________________________________________________________________________________________\n",
      "res2_net3 (Conv2D)              (None, 32, 32, 64)   36928       drop_net3[0][0]                  \n",
      "__________________________________________________________________________________________________\n",
      "res3_net3 (Conv2D)              (None, 32, 32, 64)   2112        pool_net2[0][0]                  \n",
      "__________________________________________________________________________________________________\n",
      "add_74 (Add)                    (None, 32, 32, 64)   0           res2_net3[0][0]                  \n",
      "                                                                 res3_net3[0][0]                  \n",
      "__________________________________________________________________________________________________\n",
      "pool_net3 (MaxPooling2D)        (None, 16, 16, 64)   0           add_74[0][0]                     \n",
      "__________________________________________________________________________________________________\n",
      "res1_net4 (Conv2D)              (None, 16, 16, 64)   36928       pool_net3[0][0]                  \n",
      "__________________________________________________________________________________________________\n",
      "drop_net4 (Dropout)             (None, 16, 16, 64)   0           res1_net4[0][0]                  \n",
      "__________________________________________________________________________________________________\n",
      "res2_net4 (Conv2D)              (None, 16, 16, 64)   36928       drop_net4[0][0]                  \n",
      "__________________________________________________________________________________________________\n",
      "res3_net4 (Conv2D)              (None, 16, 16, 64)   4160        pool_net3[0][0]                  \n",
      "__________________________________________________________________________________________________\n",
      "add_75 (Add)                    (None, 16, 16, 64)   0           res2_net4[0][0]                  \n",
      "                                                                 res3_net4[0][0]                  \n",
      "__________________________________________________________________________________________________\n",
      "res1_net5 (Conv2D)              (None, 16, 16, 64)   36928       add_75[0][0]                     \n",
      "__________________________________________________________________________________________________\n",
      "drop_net5 (Dropout)             (None, 16, 16, 64)   0           res1_net5[0][0]                  \n",
      "__________________________________________________________________________________________________\n",
      "res2_net5 (Conv2D)              (None, 16, 16, 64)   36928       drop_net5[0][0]                  \n",
      "__________________________________________________________________________________________________\n",
      "res3_net5 (Conv2D)              (None, 16, 16, 64)   4160        add_75[0][0]                     \n",
      "__________________________________________________________________________________________________\n",
      "add_76 (Add)                    (None, 16, 16, 64)   0           res2_net5[0][0]                  \n",
      "                                                                 res3_net5[0][0]                  \n",
      "__________________________________________________________________________________________________\n",
      "res1_net6 (Conv2D)              (None, 16, 16, 64)   36928       add_76[0][0]                     \n",
      "__________________________________________________________________________________________________\n",
      "drop_net6 (Dropout)             (None, 16, 16, 64)   0           res1_net6[0][0]                  \n",
      "__________________________________________________________________________________________________\n",
      "res2_net6 (Conv2D)              (None, 16, 16, 64)   36928       drop_net6[0][0]                  \n",
      "__________________________________________________________________________________________________\n",
      "res3_net6 (Conv2D)              (None, 16, 16, 64)   4160        add_76[0][0]                     \n",
      "__________________________________________________________________________________________________\n",
      "add_77 (Add)                    (None, 16, 16, 64)   0           res2_net6[0][0]                  \n",
      "                                                                 res3_net6[0][0]                  \n",
      "__________________________________________________________________________________________________\n",
      "up_sampling2d_36 (UpSampling2D) (None, 32, 32, 64)   0           add_77[0][0]                     \n",
      "__________________________________________________________________________________________________\n",
      "upsampling_net3 (Conv2D)        (None, 32, 32, 64)   36928       up_sampling2d_36[0][0]           \n",
      "__________________________________________________________________________________________________\n",
      "concatenate3 (Concatenate)      (None, 32, 32, 128)  0           add_74[0][0]                     \n",
      "                                                                 upsampling_net3[0][0]            \n",
      "__________________________________________________________________________________________________\n",
      "up_sampling2d_37 (UpSampling2D) (None, 64, 64, 128)  0           concatenate3[0][0]               \n",
      "__________________________________________________________________________________________________\n",
      "upsampling_net2 (Conv2D)        (None, 64, 64, 32)   36896       up_sampling2d_37[0][0]           \n",
      "__________________________________________________________________________________________________\n",
      "concatenate2 (Concatenate)      (None, 64, 64, 64)   0           add_73[0][0]                     \n",
      "                                                                 upsampling_net2[0][0]            \n",
      "__________________________________________________________________________________________________\n",
      "up_sampling2d_38 (UpSampling2D) (None, 128, 128, 64) 0           concatenate2[0][0]               \n",
      "__________________________________________________________________________________________________\n",
      "upsampling_net1 (Conv2D)        (None, 128, 128, 16) 9232        up_sampling2d_38[0][0]           \n",
      "__________________________________________________________________________________________________\n",
      "concatenate1 (Concatenate)      (None, 128, 128, 32) 0           add_72[0][0]                     \n",
      "                                                                 upsampling_net1[0][0]            \n",
      "__________________________________________________________________________________________________\n",
      "output (Conv2D)                 (None, 128, 128, 3)  99          concatenate1[0][0]               \n",
      "==================================================================================================\n",
      "Total params: 394,883\n",
      "Trainable params: 394,883\n",
      "Non-trainable params: 0\n",
      "__________________________________________________________________________________________________\n"
     ]
    },
    {
     "name": "stderr",
     "output_type": "stream",
     "text": [
      "c:\\Users\\jchamorro\\Anaconda3\\envs\\tf2\\lib\\site-packages\\tensorflow\\python\\keras\\optimizer_v2\\optimizer_v2.py:374: UserWarning: The `lr` argument is deprecated, use `learning_rate` instead.\n",
      "  warnings.warn(\n",
      "c:\\Users\\jchamorro\\Anaconda3\\envs\\tf2\\lib\\site-packages\\tensorflow\\python\\keras\\engine\\training.py:1969: UserWarning: `Model.fit_generator` is deprecated and will be removed in a future version. Please use `Model.fit`, which supports generators.\n",
      "  warnings.warn('`Model.fit_generator` is deprecated and '\n"
     ]
    },
    {
     "name": "stdout",
     "output_type": "stream",
     "text": [
      "Epoch 1/100\n",
      "self.global_step 0.0\n",
      "alpha Tensor(\"loss/add:0\", shape=(None, 128, 128, 3), dtype=float32)\n",
      "u Tensor(\"loss/truediv:0\", shape=(None, 128, 128, 1), dtype=float32)\n",
      "alpha Tensor(\"add:0\", shape=(None, 128, 128, 3), dtype=float32)\n",
      "u Tensor(\"truediv:0\", shape=(None, 128, 128, 1), dtype=float32)\n",
      "K.int_shape(KL_reg) Tensor(\"mul_6:0\", shape=(None, 128, 128, 1), dtype=float32)\n",
      "alpha Tensor(\"add_7:0\", shape=(None, 128, 128, 3), dtype=float32)\n",
      "u Tensor(\"truediv_5:0\", shape=(None, 128, 128, 1), dtype=float32)\n",
      "K.int_shape(KL_reg) Tensor(\"mul_12:0\", shape=(None, 128, 128, 1), dtype=float32)\n",
      "alpha Tensor(\"loss/add:0\", shape=(None, 128, 128, 3), dtype=float32)\n",
      "u Tensor(\"loss/truediv:0\", shape=(None, 128, 128, 1), dtype=float32)\n",
      "alpha Tensor(\"add:0\", shape=(None, 128, 128, 3), dtype=float32)\n",
      "u Tensor(\"truediv:0\", shape=(None, 128, 128, 1), dtype=float32)\n",
      "K.int_shape(KL_reg) Tensor(\"mul_6:0\", shape=(None, 128, 128, 1), dtype=float32)\n",
      "alpha Tensor(\"add_7:0\", shape=(None, 128, 128, 3), dtype=float32)\n",
      "u Tensor(\"truediv_5:0\", shape=(None, 128, 128, 1), dtype=float32)\n",
      "K.int_shape(KL_reg) Tensor(\"mul_12:0\", shape=(None, 128, 128, 1), dtype=float32)\n",
      "277/277 [==============================] - ETA: 0s - loss: 0.1524 - accuracy: 0.6748 - KL_term: 0.0068 - loglikelihood_term: 0.4503 - evidential_success: 14.3965 - evidential_fail: 3.2928 - acc: 0.6747 - annealing_coef: 0.0368 - global_step_get: 138.0000 - annealing_step_get: 3750.0000alpha Tensor(\"loss/add:0\", shape=(None, 128, 128, 3), dtype=float32)\n",
      "u Tensor(\"loss/truediv:0\", shape=(None, 128, 128, 1), dtype=float32)\n",
      "alpha Tensor(\"add:0\", shape=(None, 128, 128, 3), dtype=float32)\n",
      "u Tensor(\"truediv:0\", shape=(None, 128, 128, 1), dtype=float32)\n",
      "K.int_shape(KL_reg) Tensor(\"mul_6:0\", shape=(None, 128, 128, 1), dtype=float32)\n",
      "alpha Tensor(\"add_7:0\", shape=(None, 128, 128, 3), dtype=float32)\n",
      "u Tensor(\"truediv_5:0\", shape=(None, 128, 128, 1), dtype=float32)\n",
      "K.int_shape(KL_reg) Tensor(\"mul_12:0\", shape=(None, 128, 128, 1), dtype=float32)\n",
      "277/277 [==============================] - 27s 89ms/step - loss: 0.1524 - accuracy: 0.6748 - KL_term: 0.0068 - loglikelihood_term: 0.4503 - evidential_success: 14.3965 - evidential_fail: 3.2928 - acc: 0.6747 - annealing_coef: 0.0368 - global_step_get: 138.0000 - annealing_step_get: 3750.0000 - val_loss: 0.1175 - val_accuracy: 0.7654 - val_KL_term: 0.0146 - val_loglikelihood_term: 0.3369 - val_evidential_success: 26.5961 - val_evidential_fail: 5.1470 - val_acc: 0.7658 - val_annealing_coef: 0.0736 - val_global_step_get: 276.0000 - val_annealing_step_get: 3750.0000\n",
      "\n",
      "Epoch 00001: val_loss improved from inf to 0.11747, saving model to D:/Jorge/datasets/deforestation/experiments/MT/exp181/models\\resunet_0.h5\n",
      "Epoch 2/100\n",
      "self.global_step 276.0\n",
      "  1/277 [..............................] - ETA: 23s - loss: 0.1248 - accuracy: 0.7542 - KL_term: 0.0000e+00 - loglikelihood_term: 0.3743 - evidential_success: 23.9679 - evidential_fail: 1.9205 - acc: 0.7542 - annealing_coef: 0.0000e+00 - global_step_get: 0.0000e+00 - annealing_step_get: 3750.0000"
     ]
    },
    {
     "name": "stderr",
     "output_type": "stream",
     "text": [
      "c:\\Users\\jchamorro\\Anaconda3\\envs\\tf2\\lib\\site-packages\\tensorflow\\python\\keras\\utils\\generic_utils.py:494: CustomMaskWarning: Custom mask layers require a config and must override get_config. When loading, the custom mask layer must be passed to the custom_objects argument.\n",
      "  warnings.warn('Custom mask layers require a config and must override '\n"
     ]
    },
    {
     "name": "stdout",
     "output_type": "stream",
     "text": [
      "277/277 [==============================] - 25s 90ms/step - loss: 0.0825 - accuracy: 0.8691 - KL_term: 0.0171 - loglikelihood_term: 0.2305 - evidential_success: 32.1710 - evidential_fail: 10.0252 - acc: 0.8690 - annealing_coef: 0.0736 - global_step_get: 276.0000 - annealing_step_get: 3750.0000 - val_loss: 0.0814 - val_accuracy: 0.8834 - val_KL_term: 0.0291 - val_loglikelihood_term: 0.2141 - val_evidential_success: 19.8256 - val_evidential_fail: 7.1342 - val_acc: 0.8841 - val_annealing_coef: 0.1472 - val_global_step_get: 552.0000 - val_annealing_step_get: 3750.0000\n",
      "\n",
      "Epoch 00002: val_loss improved from 0.11747 to 0.08139, saving model to D:/Jorge/datasets/deforestation/experiments/MT/exp181/models\\resunet_0.h5\n",
      "Epoch 3/100\n",
      "self.global_step 552.0\n",
      "277/277 [==============================] - 24s 88ms/step - loss: 0.0611 - accuracy: 0.9066 - KL_term: 0.0198 - loglikelihood_term: 0.1636 - evidential_success: 30.8290 - evidential_fail: 11.1016 - acc: 0.9065 - annealing_coef: 0.1104 - global_step_get: 414.0000 - annealing_step_get: 3750.0000 - val_loss: 0.0569 - val_accuracy: 0.9207 - val_KL_term: 0.0209 - val_loglikelihood_term: 0.1484 - val_evidential_success: 18.4671 - val_evidential_fail: 4.9850 - val_acc: 0.9215 - val_annealing_coef: 0.2208 - val_global_step_get: 828.0000 - val_annealing_step_get: 3750.0000\n",
      "\n",
      "Epoch 00003: val_loss improved from 0.08139 to 0.05694, saving model to D:/Jorge/datasets/deforestation/experiments/MT/exp181/models\\resunet_0.h5\n",
      "Epoch 4/100\n",
      "self.global_step 828.0\n",
      "277/277 [==============================] - 24s 87ms/step - loss: 0.0590 - accuracy: 0.9127 - KL_term: 0.0226 - loglikelihood_term: 0.1543 - evidential_success: 31.2239 - evidential_fail: 9.9973 - acc: 0.9127 - annealing_coef: 0.1472 - global_step_get: 552.0000 - annealing_step_get: 3750.0000 - val_loss: 0.0535 - val_accuracy: 0.9302 - val_KL_term: 0.0264 - val_loglikelihood_term: 0.1330 - val_evidential_success: 19.4897 - val_evidential_fail: 5.2511 - val_acc: 0.9307 - val_annealing_coef: 0.2944 - val_global_step_get: 1104.0000 - val_annealing_step_get: 3750.0000\n",
      "\n",
      "Epoch 00004: val_loss improved from 0.05694 to 0.05350, saving model to D:/Jorge/datasets/deforestation/experiments/MT/exp181/models\\resunet_0.h5\n",
      "Epoch 5/100\n",
      "self.global_step 1104.0\n",
      "277/277 [==============================] - 24s 86ms/step - loss: 0.0566 - accuracy: 0.9184 - KL_term: 0.0243 - loglikelihood_term: 0.1456 - evidential_success: 31.9404 - evidential_fail: 9.2254 - acc: 0.9184 - annealing_coef: 0.1840 - global_step_get: 690.0000 - annealing_step_get: 3750.0000 - val_loss: 0.0568 - val_accuracy: 0.9246 - val_KL_term: 0.0335 - val_loglikelihood_term: 0.1357 - val_evidential_success: 21.2909 - val_evidential_fail: 5.6296 - val_acc: 0.9252 - val_annealing_coef: 0.3680 - val_global_step_get: 1380.0000 - val_annealing_step_get: 3750.0000\n",
      "\n",
      "Epoch 00005: val_loss did not improve from 0.05350\n",
      "Epoch 6/100\n",
      "self.global_step 1380.0\n",
      "277/277 [==============================] - 24s 86ms/step - loss: 0.0566 - accuracy: 0.9205 - KL_term: 0.0266 - loglikelihood_term: 0.1433 - evidential_success: 32.2557 - evidential_fail: 8.7571 - acc: 0.9204 - annealing_coef: 0.2208 - global_step_get: 828.0000 - annealing_step_get: 3750.0000 - val_loss: 0.0586 - val_accuracy: 0.9269 - val_KL_term: 0.0348 - val_loglikelihood_term: 0.1400 - val_evidential_success: 19.2646 - val_evidential_fail: 4.9602 - val_acc: 0.9274 - val_annealing_coef: 0.4416 - val_global_step_get: 1656.0000 - val_annealing_step_get: 3750.0000\n",
      "\n",
      "Epoch 00006: val_loss did not improve from 0.05350\n",
      "Epoch 7/100\n",
      "self.global_step 1656.0\n",
      "277/277 [==============================] - 24s 87ms/step - loss: 0.0551 - accuracy: 0.9244 - KL_term: 0.0279 - loglikelihood_term: 0.1376 - evidential_success: 32.2818 - evidential_fail: 8.1580 - acc: 0.9243 - annealing_coef: 0.2576 - global_step_get: 966.0000 - annealing_step_get: 3750.0000 - val_loss: 0.0602 - val_accuracy: 0.9226 - val_KL_term: 0.0451 - val_loglikelihood_term: 0.1336 - val_evidential_success: 23.3475 - val_evidential_fail: 5.2213 - val_acc: 0.9234 - val_annealing_coef: 0.5152 - val_global_step_get: 1932.0000 - val_annealing_step_get: 3750.0000\n",
      "\n",
      "Epoch 00007: val_loss did not improve from 0.05350\n",
      "Epoch 8/100\n",
      "self.global_step 1932.0\n",
      "277/277 [==============================] - 24s 86ms/step - loss: 0.0543 - accuracy: 0.9258 - KL_term: 0.0280 - loglikelihood_term: 0.1349 - evidential_success: 35.0340 - evidential_fail: 7.1960 - acc: 0.9258 - annealing_coef: 0.2944 - global_step_get: 1104.0000 - annealing_step_get: 3750.0000 - val_loss: 0.0578 - val_accuracy: 0.9384 - val_KL_term: 0.0419 - val_loglikelihood_term: 0.1304 - val_evidential_success: 23.5654 - val_evidential_fail: 4.8616 - val_acc: 0.9386 - val_annealing_coef: 0.5888 - val_global_step_get: 2208.0000 - val_annealing_step_get: 3750.0000\n",
      "\n",
      "Epoch 00008: val_loss did not improve from 0.05350\n",
      "Epoch 9/100\n",
      "self.global_step 2208.0\n",
      "277/277 [==============================] - 24s 86ms/step - loss: 0.0528 - accuracy: 0.9276 - KL_term: 0.0269 - loglikelihood_term: 0.1313 - evidential_success: 39.8337 - evidential_fail: 6.4510 - acc: 0.9276 - annealing_coef: 0.3312 - global_step_get: 1242.0000 - annealing_step_get: 3750.0000 - val_loss: 0.0599 - val_accuracy: 0.9292 - val_KL_term: 0.0573 - val_loglikelihood_term: 0.1207 - val_evidential_success: 34.1977 - val_evidential_fail: 6.3191 - val_acc: 0.9299 - val_annealing_coef: 0.6624 - val_global_step_get: 2484.0000 - val_annealing_step_get: 3750.0000\n",
      "\n",
      "Epoch 00009: val_loss did not improve from 0.05350\n",
      "Epoch 10/100\n",
      "self.global_step 2484.0\n",
      "277/277 [==============================] - 24s 86ms/step - loss: 0.0511 - accuracy: 0.9287 - KL_term: 0.0255 - loglikelihood_term: 0.1278 - evidential_success: 43.1369 - evidential_fail: 5.7230 - acc: 0.9286 - annealing_coef: 0.3680 - global_step_get: 1380.0000 - annealing_step_get: 3750.0000 - val_loss: 0.0708 - val_accuracy: 0.9175 - val_KL_term: 0.0735 - val_loglikelihood_term: 0.1363 - val_evidential_success: 37.0644 - val_evidential_fail: 6.5662 - val_acc: 0.9184 - val_annealing_coef: 0.7360 - val_global_step_get: 2760.0000 - val_annealing_step_get: 3750.0000\n",
      "\n",
      "Epoch 00010: val_loss did not improve from 0.05350\n",
      "Epoch 11/100\n",
      "self.global_step 2760.0\n",
      "277/277 [==============================] - 24s 86ms/step - loss: 0.0508 - accuracy: 0.9299 - KL_term: 0.0263 - loglikelihood_term: 0.1260 - evidential_success: 44.7517 - evidential_fail: 5.7519 - acc: 0.9299 - annealing_coef: 0.4048 - global_step_get: 1518.0000 - annealing_step_get: 3750.0000 - val_loss: 0.0563 - val_accuracy: 0.9436 - val_KL_term: 0.0564 - val_loglikelihood_term: 0.1115 - val_evidential_success: 34.9650 - val_evidential_fail: 6.0752 - val_acc: 0.9438 - val_annealing_coef: 0.8096 - val_global_step_get: 3036.0000 - val_annealing_step_get: 3750.0000\n",
      "\n",
      "Epoch 00011: val_loss did not improve from 0.05350\n",
      "Epoch 12/100\n",
      "self.global_step 3036.0\n",
      "277/277 [==============================] - 24s 87ms/step - loss: 0.0497 - accuracy: 0.9316 - KL_term: 0.0260 - loglikelihood_term: 0.1229 - evidential_success: 46.5607 - evidential_fail: 5.4138 - acc: 0.9316 - annealing_coef: 0.4416 - global_step_get: 1656.0000 - annealing_step_get: 3750.0000 - val_loss: 0.0641 - val_accuracy: 0.9334 - val_KL_term: 0.0739 - val_loglikelihood_term: 0.1168 - val_evidential_success: 36.8909 - val_evidential_fail: 6.2086 - val_acc: 0.9338 - val_annealing_coef: 0.8832 - val_global_step_get: 3312.0000 - val_annealing_step_get: 3750.0000\n",
      "\n",
      "Epoch 00012: val_loss did not improve from 0.05350\n",
      "Epoch 13/100\n",
      "self.global_step 3312.0\n",
      "277/277 [==============================] - 24s 86ms/step - loss: 0.0500 - accuracy: 0.9309 - KL_term: 0.0266 - loglikelihood_term: 0.1234 - evidential_success: 47.4724 - evidential_fail: 5.0414 - acc: 0.9308 - annealing_coef: 0.4784 - global_step_get: 1794.0000 - annealing_step_get: 3750.0000 - val_loss: 0.0575 - val_accuracy: 0.9460 - val_KL_term: 0.0646 - val_loglikelihood_term: 0.1066 - val_evidential_success: 37.1451 - val_evidential_fail: 6.1345 - val_acc: 0.9461 - val_annealing_coef: 0.9568 - val_global_step_get: 3588.0000 - val_annealing_step_get: 3750.0000\n",
      "\n",
      "Epoch 00013: val_loss did not improve from 0.05350\n",
      "Epoch 14/100\n",
      "self.global_step 3588.0\n",
      "277/277 [==============================] - 24s 87ms/step - loss: 0.0488 - accuracy: 0.9332 - KL_term: 0.0263 - loglikelihood_term: 0.1200 - evidential_success: 48.6795 - evidential_fail: 4.7676 - acc: 0.9331 - annealing_coef: 0.5147 - global_step_get: 1932.0000 - annealing_step_get: 3750.0000 - val_loss: 0.0651 - val_accuracy: 0.9337 - val_KL_term: 0.0768 - val_loglikelihood_term: 0.1167 - val_evidential_success: 39.0788 - val_evidential_fail: 6.2341 - val_acc: 0.9342 - val_annealing_coef: 1.0000 - val_global_step_get: 3864.0000 - val_annealing_step_get: 3750.0000\n",
      "\n",
      "Epoch 00014: val_loss did not improve from 0.05350\n",
      "Epoch 00014: early stopping\n",
      "-5.0 -12.0\n"
     ]
    },
    {
     "name": "stderr",
     "output_type": "stream",
     "text": [
      "ic| self.path_models+ '/' + self.method +'_'+str(0)+'.h5': 'D:/Jorge/datasets/deforestation/experiments/MT/exp181/models/resunet_0.h5'\n"
     ]
    },
    {
     "name": "stdout",
     "output_type": "stream",
     "text": [
      "time:  0\n",
      "(39774655,)\n",
      "(array([0, 1], dtype=uint8), array([39234711,   539944], dtype=int64))\n",
      "(16795, 10420)\n",
      "(array([0., 1.], dtype=float32), array([173399653,   1604247], dtype=int64))\n"
     ]
    },
    {
     "name": "stderr",
     "output_type": "stream",
     "text": [
      "ic| self.predicted_unpad.shape: (16795, 10420)\n",
      "    self.predicted.shape: (16795, 10420)\n",
      "ic| predicted_test.shape: (70001560,)\n",
      "ic| predicted_test.shape: (39774655,)\n",
      "ic| np.unique(predicted, return_counts=True): (array([0., 1.], dtype=float32), array([173399653,   1604247], dtype=int64))\n",
      "    np.unique(predicted_larger_than_min_area, return_counts=True): (array([0., 1.], dtype=float32), array([173505962,   1497938], dtype=int64))\n",
      "ic| np.unique(ignored_polygons, return_counts=True): (array([0., 1.], dtype=float32), array([174897591,    106309], dtype=int64))\n",
      "ic| self.f1: 66.97, self.precision: 74.89, self.recall: 60.56\n",
      "ic| self.label_mask_val.shape: (21000468,)\n",
      "ic| self.label_mask_val_valid.shape: (10894121,)\n",
      "ic| f1_val: 94.81\n",
      "    precision_val: 97.91\n",
      "    recall_val: 91.9\n",
      "    mAP_val: 97.87\n"
     ]
    },
    {
     "name": "stdout",
     "output_type": "stream",
     "text": [
      "(array([0., 1.], dtype=float32), array([174263834,    740066], dtype=int64))\n",
      "[0. 1.]\n"
     ]
    },
    {
     "name": "stderr",
     "output_type": "stream",
     "text": [
      "ic| self.label_mask.shape: (16795, 10420)\n",
      "ic| self.mask_amazon_ts.shape: (16795, 10420)\n",
      "ic| self.label_mask_test.shape: (70001560,)\n",
      "ic| self.error_mask_test.shape: (39733071,)\n",
      "ic| bounds: (0.0015, 0.9985)\n",
      "c:\\Users\\jchamorro\\Anaconda3\\envs\\tf2\\lib\\site-packages\\scipy\\optimize\\_minimize.py:783: RuntimeWarning: Method 'bounded' does not support relative tolerance in x; defaulting to absolute tolerance.\n",
      "  warn(\"Method 'bounded' does not support relative tolerance in x; \"\n"
     ]
    },
    {
     "name": "stdout",
     "output_type": "stream",
     "text": [
      "0.38232011321635484\n",
      "threshold 0.38232011321635484\n",
      "(38444156,) (38444156,)\n"
     ]
    },
    {
     "name": "stderr",
     "output_type": "stream",
     "text": [
      "ic| label_current_deforestation_test_classified_incorrect.shape: (1288915,)\n",
      "    predicted_test_classified_incorrect.shape: (1288915,)\n",
      "ic| TP_H + FN_H + FP_H + TN_H: 1288915\n",
      "    len(label_mask_current_deforestation_test): 39733071\n",
      "ic| TP_H + FN_H + FP_H + TN_H: 1288915\n",
      "    len(label_mask_current_deforestation_test)"
     ]
    },
    {
     "name": "stdout",
     "output_type": "stream",
     "text": [
      "cm_correct [[38005996    66028]\n",
      " [   92819   279313]]\n",
      "cm_incorrect [[1094326   40772]\n",
      " [ 114618   39199]]\n"
     ]
    },
    {
     "name": "stderr",
     "output_type": "stream",
     "text": [
      ": 39733071\n"
     ]
    },
    {
     "name": "stdout",
     "output_type": "stream",
     "text": [
      "[0.80880347 0.75057506 0.5310648  0.03243935 0.49016518 0.25484179]\n",
      "0.6176798867836452\n",
      "threshold 0.6176798867836452\n",
      "(39251355,) (39251355,)\n"
     ]
    },
    {
     "name": "stderr",
     "output_type": "stream",
     "text": [
      "ic| label_current_deforestation_test_classified_incorrect.shape: (481716,)\n",
      "    predicted_test_classified_incorrect.shape: (481716,)\n",
      "ic| TP_H + FN_H + FP_H + TN_H: 481716\n",
      "    len(label_mask_current_deforestation_test): 39733071\n",
      "ic| TP_H + FN_H + FP_H + TN_H: 481716\n",
      "    len(label_mask_current_deforestation_test): 39733071\n"
     ]
    },
    {
     "name": "stdout",
     "output_type": "stream",
     "text": [
      "cm_correct [[38712415    97600]\n",
      " [  130594   310746]]\n",
      "cm_incorrect [[387907   9200]\n",
      " [ 76843   7766]]\n",
      "[0.76098701 0.70409661 0.59082915 0.0121238  0.45773901 0.09178693]\n",
      "0.23685977356729035\n",
      "threshold 0.23685977356729035\n",
      "(37007185,) (37007185,)\n"
     ]
    },
    {
     "name": "stderr",
     "output_type": "stream",
     "text": [
      "ic| label_current_deforestation_test_classified_incorrect.shape: (2725886,)\n",
      "    predicted_test_classified_incorrect.shape: (2725886,)\n"
     ]
    },
    {
     "name": "stdout",
     "output_type": "stream",
     "text": [
      "cm_correct [[36678150    29569]\n",
      " [   56698   242768]]\n"
     ]
    },
    {
     "name": "stderr",
     "output_type": "stream",
     "text": [
      "ic| TP_H + FN_H + FP_H + TN_H: 2725886\n",
      "    len(label_mask_current_deforestation_test): 39733071\n",
      "ic| TP_H + FN_H + FP_H + TN_H: 2725886\n",
      "    len(label_mask_current_deforestation_test): 39733071\n"
     ]
    },
    {
     "name": "stdout",
     "output_type": "stream",
     "text": [
      "cm_incorrect [[2422172   77231]\n",
      " [ 150739   75744]]\n",
      "[0.89142496 0.81066966 0.46158088 0.06860497 0.49513973 0.3344357 ]\n",
      "0.46025463272654477\n",
      "threshold 0.46025463272654477\n",
      "(38822642,) (38822642,)\n"
     ]
    },
    {
     "name": "stderr",
     "output_type": "stream",
     "text": [
      "ic| label_current_deforestation_test_classified_incorrect.shape: (910429,)\n",
      "    predicted_test_classified_incorrect.shape: (910429,)\n",
      "ic| TP_H + FN_H + FP_H + TN_H: 910429\n",
      "    len(label_mask_current_deforestation_test): 39733071\n",
      "ic| TP_H + FN_H + FP_H + TN_H: 910429\n",
      "    len(label_mask_current_deforestation_test): 39733071\n"
     ]
    },
    {
     "name": "stdout",
     "output_type": "stream",
     "text": [
      "cm_correct [[38345560    79030]\n",
      " [  104972   293080]]\n",
      "cm_incorrect [[754762  27770]\n",
      " [102465  25432]]\n",
      "[0.78761656 0.73628571 0.55724034 0.02291363 0.47802714 0.19884751]\n",
      "0.3267592074855162\n",
      "threshold 0.3267592074855162\n",
      "(38064141,) (38064141,)\n"
     ]
    },
    {
     "name": "stderr",
     "output_type": "stream",
     "text": [
      "ic| label_current_deforestation_test_classified_incorrect.shape: (1668930,)\n",
      "    predicted_test_classified_incorrect.shape: (1668930,)\n",
      "ic"
     ]
    },
    {
     "name": "stdout",
     "output_type": "stream",
     "text": [
      "cm_correct [[37661236    53568]\n",
      " [   82360   266977]]\n",
      "cm_incorrect [[1439086   53232]\n",
      " [ 125077   51535]]\n"
     ]
    },
    {
     "name": "stderr",
     "output_type": "stream",
     "text": [
      "| TP_H + FN_H + FP_H + TN_H: 1668930\n",
      "    len(label_mask_current_deforestation_test): 39733071\n",
      "ic| TP_H + FN_H + FP_H + TN_H: 1668930\n",
      "    len(label_mask_current_deforestation_test): 39733071\n"
     ]
    },
    {
     "name": "stdout",
     "output_type": "stream",
     "text": [
      "[0.83288462 0.76423912 0.50761005 0.04200355 0.49190108 0.29179784]\n",
      "0.40411498519836686\n",
      "threshold 0.40411498519836686\n",
      "(38565450,) (38565450,)\n"
     ]
    },
    {
     "name": "stderr",
     "output_type": "stream",
     "text": [
      "ic| label_current_deforestation_test_classified_incorrect.shape: (1167621,)\n",
      "    predicted_test_classified_incorrect.shape: (1167621,)\n",
      "ic| TP_H + FN_H + FP_H + TN_H: 1167621\n",
      "    len(label_mask_current_deforestation_test): 39733071\n",
      "ic| TP_H + FN_H + FP_H + TN_H: 1167621\n",
      "    len(label_mask_current_deforestation_test): 39733071\n"
     ]
    },
    {
     "name": "stdout",
     "output_type": "stream",
     "text": [
      "cm_correct [[38115493    70040]\n",
      " [   96385   283532]]\n",
      "cm_incorrect [[984829  36760]\n",
      " [111052  34980]]\n",
      "[0.80190739 0.74629985 0.53908649 0.02938663 0.48759409 0.23953654]\n",
      "0.40961625270619106\n",
      "threshold 0.40961625270619106\n",
      "(38594300,) (38594300,)\n"
     ]
    },
    {
     "name": "stderr",
     "output_type": "stream",
     "text": [
      "ic| label_current_deforestation_test_classified_incorrect.shape: (1138771,)\n",
      "    predicted_test_classified_incorrect.shape: (1138771,)\n",
      "ic| TP_H + FN_H + FP_H + TN_H: 1138771\n",
      "    len(label_mask_current_deforestation_test): 39733071\n",
      "ic| TP_H + FN_H + FP_H + TN_H: 1138771\n",
      "    len(label_mask_current_deforestation_test): 39733071\n"
     ]
    },
    {
     "name": "stdout",
     "output_type": "stream",
     "text": [
      "cm_correct [[38141408    71041]\n",
      " [   97322   284529]]\n",
      "cm_incorrect [[958914  35759]\n",
      " [110115  33983]]\n",
      "[0.8002053  0.74513095 0.54098211 0.02866053 0.48726736 0.23583256]\n",
      "0.3985169569447989\n",
      "threshold 0.3985169569447989\n",
      "(38535428,) (38535428,)\n"
     ]
    },
    {
     "name": "stderr",
     "output_type": "stream",
     "text": [
      "ic| label_current_deforestation_test_classified_incorrect.shape: (1197643,)\n",
      "    predicted_test_classified_incorrect.shape: (1197643,)\n",
      "ic| TP_H + FN_H + FP_H + TN_H: 1197643\n",
      "    len(label_mask_current_deforestation_test): 39733071\n",
      "ic| TP_H + FN_H + FP_H + TN_H: 1197643\n",
      "    len(label_mask_current_deforestation_test): 39733071\n"
     ]
    },
    {
     "name": "stdout",
     "output_type": "stream",
     "text": [
      "cm_correct [[38088404    69057]\n",
      " [   95501   282466]]\n",
      "cm_incorrect [[1011918   37743]\n",
      " [ 111936   36046]]\n",
      "[0.80354913 0.74732979 0.53705968 0.03014222 0.488501   0.24358368]\n",
      "0.3923303131510038\n",
      "threshold 0.3923303131510038\n",
      "(38501423,) (38501423,)\n"
     ]
    },
    {
     "name": "stderr",
     "output_type": "stream",
     "text": [
      "ic| label_current_deforestation_test_classified_incorrect.shape: (1231648,)\n",
      "    predicted_test_classified_incorrect.shape: (1231648,)\n",
      "ic| TP_H + FN_H + FP_H + TN_H: 1231648\n",
      "    len(label_mask_current_deforestation_test): 39733071\n",
      "ic| TP_H + FN_H + FP_H + TN_H: 1231648\n",
      "    len(label_mask_current_deforestation_test): 39733071\n"
     ]
    },
    {
     "name": "stdout",
     "output_type": "stream",
     "text": [
      "cm_correct [[38057750    67942]\n",
      " [   94480   281251]]\n",
      "cm_incorrect [[1042572   38858]\n",
      " [ 112957   37261]]\n",
      "[0.80543138 0.74854351 0.53474957 0.03099806 0.48950985 0.24804617]\n",
      "0.39908711207409553\n",
      "threshold 0.39908711207409553\n",
      "(38538633,) (38538633,)\n"
     ]
    },
    {
     "name": "stderr",
     "output_type": "stream",
     "text": [
      "ic| label_current_deforestation_test_classified_incorrect.shape: (1194438,)\n",
      "    predicted_test_classified_incorrect.shape: (1194438,)\n",
      "ic| TP_H + FN_H + FP_H + TN_H: 1194438\n",
      "    len(label_mask_current_deforestation_test): 39733071\n",
      "ic| TP_H + FN_H + FP_H + TN_H: 1194438\n",
      "    len(label_mask_current_deforestation_test): 39733071\n"
     ]
    },
    {
     "name": "stdout",
     "output_type": "stream",
     "text": [
      "cm_correct [[38091296    69157]\n",
      " [   95587   282593]]\n",
      "cm_incorrect [[1009026   37643]\n",
      " [ 111850   35919]]\n",
      "[0.80339161 0.7472447  0.53730115 0.03006156 0.48828199 0.24307534]\n",
      "0.40037827205555954\n",
      "threshold 0.40037827205555954\n",
      "(38545607,) (38545607,)\n"
     ]
    },
    {
     "name": "stderr",
     "output_type": "stream",
     "text": [
      "ic| label_current_deforestation_test_classified_incorrect.shape: (1187464,)\n",
      "    predicted_test_classified_incorrect.shape: (1187464,)\n",
      "ic| TP_H + FN_H + FP_H + TN_H: 1187464\n",
      "    len(label_mask_current_deforestation_test): 39733071\n",
      "ic| TP_H + FN_H + FP_H + TN_H: 1187464\n",
      "    len(label_mask_current_deforestation_test): 39733071\n"
     ]
    },
    {
     "name": "stdout",
     "output_type": "stream",
     "text": [
      "cm_correct [[38097553    69389]\n",
      " [   95795   282870]]\n",
      "cm_incorrect [[1002769   37411]\n",
      " [ 111642   35642]]\n",
      "[0.8030171  0.74701913 0.53782781 0.02988604 0.48789235 0.24199506]\n",
      "0.3995802913021011\n",
      "threshold 0.3995802913021011\n",
      "(38541284,) (38541284,)\n"
     ]
    },
    {
     "name": "stderr",
     "output_type": "stream",
     "text": [
      "ic| label_current_deforestation_test_classified_incorrect.shape: (1191787,)\n",
      "    predicted_test_classified_incorrect.shape: (1191787,)\n",
      "ic| TP_H + FN_H + FP_H + TN_H: 1191787\n",
      "    len(label_mask_current_deforestation_test): 39733071\n",
      "ic| TP_H + FN_H + FP_H + TN_H: 1191787\n",
      "    len(label_mask_current_deforestation_test): 39733071\n"
     ]
    },
    {
     "name": "stdout",
     "output_type": "stream",
     "text": [
      "cm_correct [[38093665    69251]\n",
      " [   95672   282696]]\n",
      "cm_incorrect [[1006657   37549]\n",
      " [ 111765   35816]]\n",
      "[0.80323458 0.74714564 0.53749698 0.02999484 0.48818919 0.24268707]\n",
      "0.39962817021401914\n",
      "threshold 0.39962817021401914\n",
      "(38541539,) (38541539,)\n"
     ]
    },
    {
     "name": "stderr",
     "output_type": "stream",
     "text": [
      "ic| label_current_deforestation_test_classified_incorrect.shape: (1191532,)\n",
      "    predicted_test_classified_incorrect.shape: (1191532,)\n",
      "ic| TP_H + FN_H + FP_H + TN_H: 1191532\n",
      "    len(label_mask_current_deforestation_test): 39733071\n",
      "ic| TP_H + FN_H + FP_H + TN_H: 1191532\n",
      "    len(label_mask_current_deforestation_test): 39733071\n"
     ]
    },
    {
     "name": "stdout",
     "output_type": "stream",
     "text": [
      "cm_correct [[38093891    69263]\n",
      " [   95679   282706]]\n",
      "cm_incorrect [[1006431   37537]\n",
      " [ 111758   35806]]\n",
      "[0.80321278 0.7471385  0.53751599 0.02998842 0.48819928 0.24264726]\n",
      "0.399458242038253\n",
      "threshold 0.399458242038253\n",
      "(38540624,) (38540624,)\n"
     ]
    },
    {
     "name": "stderr",
     "output_type": "stream",
     "text": [
      "ic| label_current_deforestation_test_classified_incorrect.shape: (1192447,)\n",
      "    predicted_test_classified_incorrect.shape: (1192447,)\n",
      "ic| TP_H + FN_H + FP_H + TN_H: 1192447\n",
      "    len(label_mask_current_deforestation_test): 39733071\n",
      "ic| TP_H + FN_H + FP_H + TN_H: 1192447\n",
      "    len(label_mask_current_deforestation_test): 39733071\n"
     ]
    },
    {
     "name": "stdout",
     "output_type": "stream",
     "text": [
      "cm_correct [[38093080    69229]\n",
      " [   95650   282665]]\n",
      "cm_incorrect [[1007242   37571]\n",
      " [ 111787   35847]]\n",
      "[0.80326746 0.74716836 0.53743804 0.03001145 0.48825901 0.24280992]\n",
      "0.39953367263161305\n",
      "threshold 0.39953367263161305\n",
      "(38541024,) (38541024,)\n"
     ]
    },
    {
     "name": "stderr",
     "output_type": "stream",
     "text": [
      "ic| label_current_deforestation_test_classified_incorrect.shape: (1192047,)\n",
      "    predicted_test_classified_incorrect.shape: (1192047,)\n",
      "ic| TP_H + FN_H + FP_H + TN_H: 1192047\n",
      "    len(label_mask_current_deforestation_test): 39733071\n",
      "ic| TP_H + FN_H + FP_H + TN_H: 1192047\n",
      "    len(label_mask_current_deforestation_test): 39733071\n"
     ]
    },
    {
     "name": "stdout",
     "output_type": "stream",
     "text": [
      "cm_correct [[38093433    69244]\n",
      " [   95664   282683]]\n",
      "cm_incorrect [[1006889   37556]\n",
      " [ 111773   35829]]\n",
      "[0.80324329 0.74715275 0.53747226 0.03000138 0.48823329 0.24274061]\n",
      "0.39950033337223767\n",
      "threshold 0.39950033337223767\n",
      "(38540854,) (38540854,)\n"
     ]
    },
    {
     "name": "stderr",
     "output_type": "stream",
     "text": [
      "ic| label_current_deforestation_test_classified_incorrect.shape: (1192217,)\n",
      "    predicted_test_classified_incorrect.shape: (1192217,)\n",
      "ic| TP_H + FN_H + FP_H + TN_H: 1192217\n",
      "    len(label_mask_current_deforestation_test): 39733071\n",
      "ic| TP_H + FN_H + FP_H + TN_H: 1192217\n",
      "    len(label_mask_current_deforestation_test): 39733071\n"
     ]
    },
    {
     "name": "stdout",
     "output_type": "stream",
     "text": [
      "cm_correct [[38093287    69236]\n",
      " [   95656   282675]]\n",
      "cm_incorrect [[1007035   37564]\n",
      " [ 111781   35837]]\n",
      "[0.80325707 0.7471632  0.53745705 0.03000566 0.48823586 0.2427685 ]\n"
     ]
    },
    {
     "name": "stderr",
     "output_type": "stream",
     "text": [
      "ic| self.threshold_optimal: 0.39953367263161305\n"
     ]
    },
    {
     "name": "stdout",
     "output_type": "stream",
     "text": [
      "threshold 0.39953367263161305\n",
      "(38541024,) (38541024,)\n"
     ]
    },
    {
     "name": "stderr",
     "output_type": "stream",
     "text": [
      "ic| label_current_deforestation_test_classified_incorrect.shape: (1192047,)\n",
      "    predicted_test_classified_incorrect.shape: (1192047,)\n",
      "ic| TP_H + FN_H + FP_H + TN_H: 1192047\n",
      "    len(label_mask_current_deforestation_test): 39733071\n",
      "ic| TP_H + FN_H + FP_H + TN_H: 1192047\n",
      "    len(label_mask_current_deforestation_test): 39733071\n"
     ]
    },
    {
     "name": "stdout",
     "output_type": "stream",
     "text": [
      "cm_correct [[38093433    69244]\n",
      " [   95664   282683]]\n",
      "cm_incorrect [[1006889   37556]\n",
      " [ 111773   35829]]\n",
      "[0.80324329 0.74715275 0.53747226 0.03000138 0.48823329 0.24274061]\n",
      "threshold 0.39953367263161305\n",
      "(39733071,) (39733071,)\n"
     ]
    },
    {
     "name": "stderr",
     "output_type": "stream",
     "text": [
      "ic| self.m_optimal: {'AA': array([0.03000138]),\n",
      "                     'f1': 66.97,\n",
      "                     'f1_H': array([0.32426342]),\n",
      "                     'f1_L': array([0.77418339]),\n",
      "                     'precision_H': array([0.48823329]),\n",
      "                     'precision_L': array([0.80324329]),\n",
      "                     'recall_H': array([0.24274061]),\n",
      "                     'recall_L': array([0.74715275]),\n",
      "                     'recall_Ltotal': array([0.53747226])}\n",
      "ic| self.m_audited_optimal: {'f1': array([0.83918914]),\n",
      "                             'precision': array([0.86138142]),\n",
      "                             'recall': array([0.81811164])}\n"
     ]
    },
    {
     "name": "stdout",
     "output_type": "stream",
     "text": [
      "cm_audited [[39137878    69244]\n",
      " [   95664   430285]]\n",
      "[0.86138142 0.81811164]\n",
      "D:/Jorge/datasets/deforestation/MT/deforestation_past_years.tif\n",
      "Loaded deforestation past years\n"
     ]
    },
    {
     "name": "stderr",
     "output_type": "stream",
     "text": [
      "ic| np.unique(deforestation_past_years, return_counts=True): (array([   0, 2008, 2009, 2010, 2011, 2012, 2013, 2014, 2015, 2016, 2017,\n",
      "                                                                    2018, 2019, 2020, 2021], dtype=uint16),\n",
      "                                                              array([161124576,   1332784,    240796,    338545,    313901,    287191,\n",
      "                                                                       708581,    648966,    876898,   1007787,   1098901,   1054092,\n",
      "                                                                      2096062,   2473828,   1400992], dtype=int64))\n"
     ]
    },
    {
     "name": "stdout",
     "output_type": "stream",
     "text": [
      "Label where deforestation past years is actual date (2019) = 1\n"
     ]
    },
    {
     "name": "stderr",
     "output_type": "stream",
     "text": [
      "ic| np.unique(deforestation_past_years, return_counts=True): (array([   0, 2008, 2009, 2010, 2011, 2012, 2013, 2014, 2015, 2016, 2017,\n",
      "                                                                    2018, 2019, 2020, 2021], dtype=uint16),\n",
      "                                                              array([161124576,   1332784,    240796,    338545,    313901,    287191,\n",
      "                                                                       708581,    648966,    876898,   1007787,   1098901,   1054092,\n",
      "                                                                      2096062,   2473828,   1400992], dtype=int64))\n"
     ]
    },
    {
     "name": "stdout",
     "output_type": "stream",
     "text": [
      "Past deforestation different from 0 (no deforestation)\n"
     ]
    },
    {
     "name": "stderr",
     "output_type": "stream",
     "text": [
      "ic| np.unique(deforestation_past_years, return_counts=True): (array([   0, 2008, 2009, 2010, 2011, 2012, 2013, 2014, 2015, 2016, 2017,\n",
      "                                                                    2018, 2019, 2020, 2021], dtype=uint16),\n",
      "                                                              array([161124576,   1332784,    240796,    338545,    313901,    287191,\n",
      "                                                                       708581,    648966,    876898,   1007787,   1098901,   1054092,\n",
      "                                                                      2096062,   2473828,   1400992], dtype=int64))\n"
     ]
    },
    {
     "name": "stdout",
     "output_type": "stream",
     "text": [
      "Past deforestation before 2008 is 2\n",
      "D:/Jorge/datasets/deforestation/MT/deforestation_before_2008/deforestation_before_2008_MT.tif\n"
     ]
    },
    {
     "name": "stderr",
     "output_type": "stream",
     "text": [
      "ic| np.unique(label_past_deforestation_before_2008, return_counts=True): (array([  0, 215], dtype=uint8), array([122623260,  52380640], dtype=int64))\n",
      "ic| np.unique(deforestation_past_years, return_counts=True): (array([   0, 2008, 2009, 2010, 2011, 2012, 2013, 2014, 2015, 2016, 2017,\n",
      "                                                                    2018, 2019, 2020, 2021], dtype=uint16),\n",
      "                                                              array([161124576,   1332784,    240796,    338545,    313901,    287191,\n",
      "                                                                       708581,    648966,    876898,   1007787,   1098901,   1054092,\n",
      "                                                                      2096062,   2473828,   1400992], dtype=int64))\n",
      "ic| label_per_date.shape: (16795, 10420, 1)\n"
     ]
    },
    {
     "name": "stdout",
     "output_type": "stream",
     "text": [
      "Mask label shape:  \n",
      " (16795, 10420, 1) \n",
      " Unique values:  \n",
      " [0 1 2]\n",
      "Tiles size:  3359 2084\n",
      "Mask size:  (16795, 10420)\n"
     ]
    },
    {
     "name": "stderr",
     "output_type": "stream",
     "text": [
      "ic| image_stack.shape: (16795, 10420, 21)\n"
     ]
    },
    {
     "name": "stdout",
     "output_type": "stream",
     "text": [
      "Image shape:  (16795, 10420, 21)\n",
      "mask:  (16795, 10420)\n",
      "image stack:  (16795, 10420, 21)\n",
      "ref : (16795, 10420, 1)\n",
      "Training tiles:  [2, 4, 5, 6, 7, 12, 14, 15, 18, 21, 23, 24]\n",
      "Validation tiles:  [9, 11, 25]\n",
      "Test tiles:  [1, 3, 8, 10, 13, 16, 17, 19, 20, 22]\n"
     ]
    },
    {
     "name": "stderr",
     "output_type": "stream",
     "text": [
      "ic| im_idx_row.shape: (16795, 10420, 1)\n",
      "    im_idx_col.shape: (16795, 10420, 1)\n",
      "ic| im_idx_row.dtype: dtype('uint16')\n",
      "    im_idx_col.dtype: dtype('uint16')\n",
      "ic| im_idx.shape: (16795, 10420, 2), im_idx.dtype: dtype('uint16')\n",
      "ic| coords.shape: (439, 271, 1, 128, 128, 2)\n",
      "    coords.dtype: dtype('uint16')\n",
      "ic| coords.shape: (118969, 2), coords.dtype: dtype('uint16')\n",
      "ic| self.coords_train.shape: (54516, 3)\n",
      "    self.coords_val.shape: (13175, 3)\n"
     ]
    },
    {
     "name": "stdout",
     "output_type": "stream",
     "text": [
      "training samples:  (2962, 3) validation samples:  (623, 3)\n",
      "time:  0\n",
      "Model: \"model_14\"\n",
      "__________________________________________________________________________________________________\n",
      "Layer (type)                    Output Shape         Param #     Connected to                     \n",
      "==================================================================================================\n",
      "input_enc_net (InputLayer)      [(None, 128, 128, 21 0                                            \n",
      "__________________________________________________________________________________________________\n",
      "res1_net1 (Conv2D)              (None, 128, 128, 16) 3040        input_enc_net[0][0]              \n",
      "__________________________________________________________________________________________________\n",
      "drop_net1 (Dropout)             (None, 128, 128, 16) 0           res1_net1[0][0]                  \n",
      "__________________________________________________________________________________________________\n",
      "res2_net1 (Conv2D)              (None, 128, 128, 16) 2320        drop_net1[0][0]                  \n",
      "__________________________________________________________________________________________________\n",
      "res3_net1 (Conv2D)              (None, 128, 128, 16) 352         input_enc_net[0][0]              \n",
      "__________________________________________________________________________________________________\n",
      "add_84 (Add)                    (None, 128, 128, 16) 0           res2_net1[0][0]                  \n",
      "                                                                 res3_net1[0][0]                  \n",
      "__________________________________________________________________________________________________\n",
      "pool_net1 (MaxPooling2D)        (None, 64, 64, 16)   0           add_84[0][0]                     \n",
      "__________________________________________________________________________________________________\n",
      "res1_net2 (Conv2D)              (None, 64, 64, 32)   4640        pool_net1[0][0]                  \n",
      "__________________________________________________________________________________________________\n",
      "drop_net2 (Dropout)             (None, 64, 64, 32)   0           res1_net2[0][0]                  \n",
      "__________________________________________________________________________________________________\n",
      "res2_net2 (Conv2D)              (None, 64, 64, 32)   9248        drop_net2[0][0]                  \n",
      "__________________________________________________________________________________________________\n",
      "res3_net2 (Conv2D)              (None, 64, 64, 32)   544         pool_net1[0][0]                  \n",
      "__________________________________________________________________________________________________\n",
      "add_85 (Add)                    (None, 64, 64, 32)   0           res2_net2[0][0]                  \n",
      "                                                                 res3_net2[0][0]                  \n",
      "__________________________________________________________________________________________________\n",
      "pool_net2 (MaxPooling2D)        (None, 32, 32, 32)   0           add_85[0][0]                     \n",
      "__________________________________________________________________________________________________\n",
      "res1_net3 (Conv2D)              (None, 32, 32, 64)   18496       pool_net2[0][0]                  \n",
      "__________________________________________________________________________________________________\n",
      "drop_net3 (Dropout)             (None, 32, 32, 64)   0           res1_net3[0][0]                  \n",
      "__________________________________________________________________________________________________\n",
      "res2_net3 (Conv2D)              (None, 32, 32, 64)   36928       drop_net3[0][0]                  \n",
      "__________________________________________________________________________________________________\n",
      "res3_net3 (Conv2D)              (None, 32, 32, 64)   2112        pool_net2[0][0]                  \n",
      "__________________________________________________________________________________________________\n",
      "add_86 (Add)                    (None, 32, 32, 64)   0           res2_net3[0][0]                  \n",
      "                                                                 res3_net3[0][0]                  \n",
      "__________________________________________________________________________________________________\n",
      "pool_net3 (MaxPooling2D)        (None, 16, 16, 64)   0           add_86[0][0]                     \n",
      "__________________________________________________________________________________________________\n",
      "res1_net4 (Conv2D)              (None, 16, 16, 64)   36928       pool_net3[0][0]                  \n",
      "__________________________________________________________________________________________________\n",
      "drop_net4 (Dropout)             (None, 16, 16, 64)   0           res1_net4[0][0]                  \n",
      "__________________________________________________________________________________________________\n",
      "res2_net4 (Conv2D)              (None, 16, 16, 64)   36928       drop_net4[0][0]                  \n",
      "__________________________________________________________________________________________________\n",
      "res3_net4 (Conv2D)              (None, 16, 16, 64)   4160        pool_net3[0][0]                  \n",
      "__________________________________________________________________________________________________\n",
      "add_87 (Add)                    (None, 16, 16, 64)   0           res2_net4[0][0]                  \n",
      "                                                                 res3_net4[0][0]                  \n",
      "__________________________________________________________________________________________________\n",
      "res1_net5 (Conv2D)              (None, 16, 16, 64)   36928       add_87[0][0]                     \n",
      "__________________________________________________________________________________________________\n",
      "drop_net5 (Dropout)             (None, 16, 16, 64)   0           res1_net5[0][0]                  \n",
      "__________________________________________________________________________________________________\n",
      "res2_net5 (Conv2D)              (None, 16, 16, 64)   36928       drop_net5[0][0]                  \n",
      "__________________________________________________________________________________________________\n",
      "res3_net5 (Conv2D)              (None, 16, 16, 64)   4160        add_87[0][0]                     \n",
      "__________________________________________________________________________________________________\n",
      "add_88 (Add)                    (None, 16, 16, 64)   0           res2_net5[0][0]                  \n",
      "                                                                 res3_net5[0][0]                  \n",
      "__________________________________________________________________________________________________\n",
      "res1_net6 (Conv2D)              (None, 16, 16, 64)   36928       add_88[0][0]                     \n",
      "__________________________________________________________________________________________________\n",
      "drop_net6 (Dropout)             (None, 16, 16, 64)   0           res1_net6[0][0]                  \n",
      "__________________________________________________________________________________________________\n",
      "res2_net6 (Conv2D)              (None, 16, 16, 64)   36928       drop_net6[0][0]                  \n",
      "__________________________________________________________________________________________________\n",
      "res3_net6 (Conv2D)              (None, 16, 16, 64)   4160        add_88[0][0]                     \n",
      "__________________________________________________________________________________________________\n",
      "add_89 (Add)                    (None, 16, 16, 64)   0           res2_net6[0][0]                  \n",
      "                                                                 res3_net6[0][0]                  \n",
      "__________________________________________________________________________________________________\n",
      "up_sampling2d_42 (UpSampling2D) (None, 32, 32, 64)   0           add_89[0][0]                     \n",
      "__________________________________________________________________________________________________\n",
      "upsampling_net3 (Conv2D)        (None, 32, 32, 64)   36928       up_sampling2d_42[0][0]           \n",
      "__________________________________________________________________________________________________\n",
      "concatenate3 (Concatenate)      (None, 32, 32, 128)  0           add_86[0][0]                     \n",
      "                                                                 upsampling_net3[0][0]            \n",
      "__________________________________________________________________________________________________\n",
      "up_sampling2d_43 (UpSampling2D) (None, 64, 64, 128)  0           concatenate3[0][0]               \n",
      "__________________________________________________________________________________________________\n",
      "upsampling_net2 (Conv2D)        (None, 64, 64, 32)   36896       up_sampling2d_43[0][0]           \n",
      "__________________________________________________________________________________________________\n",
      "concatenate2 (Concatenate)      (None, 64, 64, 64)   0           add_85[0][0]                     \n",
      "                                                                 upsampling_net2[0][0]            \n",
      "__________________________________________________________________________________________________\n",
      "up_sampling2d_44 (UpSampling2D) (None, 128, 128, 64) 0           concatenate2[0][0]               \n",
      "__________________________________________________________________________________________________\n",
      "upsampling_net1 (Conv2D)        (None, 128, 128, 16) 9232        up_sampling2d_44[0][0]           \n",
      "__________________________________________________________________________________________________\n",
      "concatenate1 (Concatenate)      (None, 128, 128, 32) 0           add_84[0][0]                     \n",
      "                                                                 upsampling_net1[0][0]            \n",
      "__________________________________________________________________________________________________\n",
      "output (Conv2D)                 (None, 128, 128, 3)  99          concatenate1[0][0]               \n",
      "==================================================================================================\n",
      "Total params: 394,883\n",
      "Trainable params: 394,883\n",
      "Non-trainable params: 0\n",
      "__________________________________________________________________________________________________\n"
     ]
    },
    {
     "name": "stderr",
     "output_type": "stream",
     "text": [
      "c:\\Users\\jchamorro\\Anaconda3\\envs\\tf2\\lib\\site-packages\\tensorflow\\python\\keras\\optimizer_v2\\optimizer_v2.py:374: UserWarning: The `lr` argument is deprecated, use `learning_rate` instead.\n",
      "  warnings.warn(\n",
      "c:\\Users\\jchamorro\\Anaconda3\\envs\\tf2\\lib\\site-packages\\tensorflow\\python\\keras\\engine\\training.py:1969: UserWarning: `Model.fit_generator` is deprecated and will be removed in a future version. Please use `Model.fit`, which supports generators.\n",
      "  warnings.warn('`Model.fit_generator` is deprecated and '\n"
     ]
    },
    {
     "name": "stdout",
     "output_type": "stream",
     "text": [
      "Epoch 1/100\n",
      "self.global_step 0.0\n",
      "alpha Tensor(\"loss/add:0\", shape=(None, 128, 128, 3), dtype=float32)\n",
      "u Tensor(\"loss/truediv:0\", shape=(None, 128, 128, 1), dtype=float32)\n",
      "alpha Tensor(\"add:0\", shape=(None, 128, 128, 3), dtype=float32)\n",
      "u Tensor(\"truediv:0\", shape=(None, 128, 128, 1), dtype=float32)\n",
      "K.int_shape(KL_reg) Tensor(\"mul_6:0\", shape=(None, 128, 128, 1), dtype=float32)\n",
      "alpha Tensor(\"add_7:0\", shape=(None, 128, 128, 3), dtype=float32)\n",
      "u Tensor(\"truediv_5:0\", shape=(None, 128, 128, 1), dtype=float32)\n",
      "K.int_shape(KL_reg) Tensor(\"mul_12:0\", shape=(None, 128, 128, 1), dtype=float32)\n",
      "alpha Tensor(\"loss/add:0\", shape=(None, 128, 128, 3), dtype=float32)\n",
      "u Tensor(\"loss/truediv:0\", shape=(None, 128, 128, 1), dtype=float32)\n",
      "alpha Tensor(\"add:0\", shape=(None, 128, 128, 3), dtype=float32)\n",
      "u Tensor(\"truediv:0\", shape=(None, 128, 128, 1), dtype=float32)\n",
      "K.int_shape(KL_reg) Tensor(\"mul_6:0\", shape=(None, 128, 128, 1), dtype=float32)\n",
      "alpha Tensor(\"add_7:0\", shape=(None, 128, 128, 3), dtype=float32)\n",
      "u Tensor(\"truediv_5:0\", shape=(None, 128, 128, 1), dtype=float32)\n",
      "K.int_shape(KL_reg) Tensor(\"mul_12:0\", shape=(None, 128, 128, 1), dtype=float32)\n",
      "277/277 [==============================] - ETA: 0s - loss: 0.1758 - accuracy: 0.6160 - KL_term: 0.0085 - loglikelihood_term: 0.5187 - evidential_success: 12.3816 - evidential_fail: 2.5235 - acc: 0.6161 - annealing_coef: 0.0368 - global_step_get: 138.0000 - annealing_step_get: 3750.0000alpha Tensor(\"loss/add:0\", shape=(None, 128, 128, 3), dtype=float32)\n",
      "u Tensor(\"loss/truediv:0\", shape=(None, 128, 128, 1), dtype=float32)\n",
      "alpha Tensor(\"add:0\", shape=(None, 128, 128, 3), dtype=float32)\n",
      "u Tensor(\"truediv:0\", shape=(None, 128, 128, 1), dtype=float32)\n",
      "K.int_shape(KL_reg) Tensor(\"mul_6:0\", shape=(None, 128, 128, 1), dtype=float32)\n",
      "alpha Tensor(\"add_7:0\", shape=(None, 128, 128, 3), dtype=float32)\n",
      "u Tensor(\"truediv_5:0\", shape=(None, 128, 128, 1), dtype=float32)\n",
      "K.int_shape(KL_reg) Tensor(\"mul_12:0\", shape=(None, 128, 128, 1), dtype=float32)\n",
      "277/277 [==============================] - 27s 87ms/step - loss: 0.1758 - accuracy: 0.6160 - KL_term: 0.0085 - loglikelihood_term: 0.5187 - evidential_success: 12.3816 - evidential_fail: 2.5235 - acc: 0.6161 - annealing_coef: 0.0368 - global_step_get: 138.0000 - annealing_step_get: 3750.0000 - val_loss: 0.1276 - val_accuracy: 0.7026 - val_KL_term: 0.0074 - val_loglikelihood_term: 0.3779 - val_evidential_success: 12.7900 - val_evidential_fail: 2.0096 - val_acc: 0.6989 - val_annealing_coef: 0.0736 - val_global_step_get: 276.0000 - val_annealing_step_get: 3750.0000\n",
      "\n",
      "Epoch 00001: val_loss improved from inf to 0.12762, saving model to D:/Jorge/datasets/deforestation/experiments/MT/exp182/models\\resunet_0.h5\n",
      "Epoch 2/100\n",
      "self.global_step 276.0\n"
     ]
    },
    {
     "name": "stderr",
     "output_type": "stream",
     "text": [
      "c:\\Users\\jchamorro\\Anaconda3\\envs\\tf2\\lib\\site-packages\\tensorflow\\python\\keras\\utils\\generic_utils.py:494: CustomMaskWarning: Custom mask layers require a config and must override get_config. When loading, the custom mask layer must be passed to the custom_objects argument.\n",
      "  warnings.warn('Custom mask layers require a config and must override '\n"
     ]
    },
    {
     "name": "stdout",
     "output_type": "stream",
     "text": [
      "277/277 [==============================] - 23s 83ms/step - loss: 0.1259 - accuracy: 0.6875 - KL_term: 0.0147 - loglikelihood_term: 0.3634 - evidential_success: 25.3474 - evidential_fail: 3.5204 - acc: 0.6875 - annealing_coef: 0.0736 - global_step_get: 276.0000 - annealing_step_get: 3750.0000 - val_loss: 0.1238 - val_accuracy: 0.8708 - val_KL_term: 0.0120 - val_loglikelihood_term: 0.3634 - val_evidential_success: 11.7910 - val_evidential_fail: 2.6186 - val_acc: 0.8691 - val_annealing_coef: 0.1472 - val_global_step_get: 552.0000 - val_annealing_step_get: 3750.0000\n",
      "\n",
      "Epoch 00002: val_loss improved from 0.12762 to 0.12384, saving model to D:/Jorge/datasets/deforestation/experiments/MT/exp182/models\\resunet_0.h5\n",
      "Epoch 3/100\n",
      "self.global_step 552.0\n",
      "277/277 [==============================] - 23s 82ms/step - loss: 0.1212 - accuracy: 0.7168 - KL_term: 0.0174 - loglikelihood_term: 0.3463 - evidential_success: 25.9976 - evidential_fail: 3.3020 - acc: 0.7167 - annealing_coef: 0.1104 - global_step_get: 414.0000 - annealing_step_get: 3750.0000 - val_loss: 0.1294 - val_accuracy: 0.8508 - val_KL_term: 0.0249 - val_loglikelihood_term: 0.3664 - val_evidential_success: 16.2533 - val_evidential_fail: 3.1225 - val_acc: 0.8496 - val_annealing_coef: 0.2208 - val_global_step_get: 828.0000 - val_annealing_step_get: 3750.0000\n",
      "\n",
      "Epoch 00003: val_loss did not improve from 0.12384\n",
      "Epoch 4/100\n",
      "self.global_step 828.0\n",
      "277/277 [==============================] - 23s 83ms/step - loss: 0.1183 - accuracy: 0.7395 - KL_term: 0.0190 - loglikelihood_term: 0.3360 - evidential_success: 28.2952 - evidential_fail: 3.1612 - acc: 0.7394 - annealing_coef: 0.1472 - global_step_get: 552.0000 - annealing_step_get: 3750.0000 - val_loss: 0.1315 - val_accuracy: 0.8715 - val_KL_term: 0.0309 - val_loglikelihood_term: 0.3667 - val_evidential_success: 17.9504 - val_evidential_fail: 3.3748 - val_acc: 0.8708 - val_annealing_coef: 0.2944 - val_global_step_get: 1104.0000 - val_annealing_step_get: 3750.0000\n",
      "\n",
      "Epoch 00004: val_loss did not improve from 0.12384\n",
      "Epoch 5/100\n",
      "self.global_step 1104.0\n",
      "277/277 [==============================] - 23s 83ms/step - loss: 0.1174 - accuracy: 0.7731 - KL_term: 0.0210 - loglikelihood_term: 0.3313 - evidential_success: 28.2905 - evidential_fail: 3.2959 - acc: 0.7729 - annealing_coef: 0.1840 - global_step_get: 690.0000 - annealing_step_get: 3750.0000 - val_loss: 0.1357 - val_accuracy: 0.8872 - val_KL_term: 0.0306 - val_loglikelihood_term: 0.3797 - val_evidential_success: 12.8747 - val_evidential_fail: 2.7419 - val_acc: 0.8865 - val_annealing_coef: 0.3680 - val_global_step_get: 1380.0000 - val_annealing_step_get: 3750.0000\n",
      "\n",
      "Epoch 00005: val_loss did not improve from 0.12384\n",
      "Epoch 6/100\n",
      "self.global_step 1380.0\n",
      "277/277 [==============================] - 23s 82ms/step - loss: 0.1162 - accuracy: 0.7735 - KL_term: 0.0225 - loglikelihood_term: 0.3264 - evidential_success: 27.7160 - evidential_fail: 2.8940 - acc: 0.7733 - annealing_coef: 0.2208 - global_step_get: 828.0000 - annealing_step_get: 3750.0000 - val_loss: 0.1412 - val_accuracy: 0.8761 - val_KL_term: 0.0454 - val_loglikelihood_term: 0.3809 - val_evidential_success: 14.8197 - val_evidential_fail: 2.9173 - val_acc: 0.8743 - val_annealing_coef: 0.4416 - val_global_step_get: 1656.0000 - val_annealing_step_get: 3750.0000\n",
      "\n",
      "Epoch 00006: val_loss did not improve from 0.12384\n",
      "Epoch 7/100\n",
      "self.global_step 1656.0\n",
      "277/277 [==============================] - 23s 83ms/step - loss: 0.1158 - accuracy: 0.7983 - KL_term: 0.0240 - loglikelihood_term: 0.3233 - evidential_success: 27.3393 - evidential_fail: 2.8444 - acc: 0.7982 - annealing_coef: 0.2576 - global_step_get: 966.0000 - annealing_step_get: 3750.0000 - val_loss: 0.1406 - val_accuracy: 0.8829 - val_KL_term: 0.0558 - val_loglikelihood_term: 0.3688 - val_evidential_success: 17.2394 - val_evidential_fail: 3.5049 - val_acc: 0.8810 - val_annealing_coef: 0.5152 - val_global_step_get: 1932.0000 - val_annealing_step_get: 3750.0000\n",
      "\n",
      "Epoch 00007: val_loss did not improve from 0.12384\n",
      "Epoch 8/100\n",
      "self.global_step 1932.0\n",
      "277/277 [==============================] - 23s 83ms/step - loss: 0.1151 - accuracy: 0.8057 - KL_term: 0.0256 - loglikelihood_term: 0.3198 - evidential_success: 27.5453 - evidential_fail: 2.7249 - acc: 0.8057 - annealing_coef: 0.2944 - global_step_get: 1104.0000 - annealing_step_get: 3750.0000 - val_loss: 0.1327 - val_accuracy: 0.8914 - val_KL_term: 0.0446 - val_loglikelihood_term: 0.3567 - val_evidential_success: 15.9058 - val_evidential_fail: 2.4595 - val_acc: 0.8889 - val_annealing_coef: 0.5888 - val_global_step_get: 2208.0000 - val_annealing_step_get: 3750.0000\n",
      "\n",
      "Epoch 00008: val_loss did not improve from 0.12384\n",
      "Epoch 9/100\n",
      "self.global_step 2208.0\n",
      "277/277 [==============================] - 23s 83ms/step - loss: 0.1150 - accuracy: 0.8227 - KL_term: 0.0264 - loglikelihood_term: 0.3183 - evidential_success: 26.7082 - evidential_fail: 2.6637 - acc: 0.8227 - annealing_coef: 0.3312 - global_step_get: 1242.0000 - annealing_step_get: 3750.0000 - val_loss: 0.1469 - val_accuracy: 0.8902 - val_KL_term: 0.0718 - val_loglikelihood_term: 0.3707 - val_evidential_success: 14.7394 - val_evidential_fail: 3.0942 - val_acc: 0.8882 - val_annealing_coef: 0.6624 - val_global_step_get: 2484.0000 - val_annealing_step_get: 3750.0000\n",
      "\n",
      "Epoch 00009: val_loss did not improve from 0.12384\n",
      "Epoch 10/100\n",
      "self.global_step 2484.0\n",
      "277/277 [==============================] - 23s 82ms/step - loss: 0.1140 - accuracy: 0.8356 - KL_term: 0.0263 - loglikelihood_term: 0.3157 - evidential_success: 28.2680 - evidential_fail: 2.6978 - acc: 0.8354 - annealing_coef: 0.3680 - global_step_get: 1380.0000 - annealing_step_get: 3750.0000 - val_loss: 0.1684 - val_accuracy: 0.8640 - val_KL_term: 0.1304 - val_loglikelihood_term: 0.3748 - val_evidential_success: 28.4532 - val_evidential_fail: 5.7603 - val_acc: 0.8619 - val_annealing_coef: 0.7360 - val_global_step_get: 2760.0000 - val_annealing_step_get: 3750.0000\n",
      "\n",
      "Epoch 00010: val_loss did not improve from 0.12384\n",
      "Epoch 11/100\n",
      "self.global_step 2760.0\n",
      "277/277 [==============================] - 23s 83ms/step - loss: 0.1136 - accuracy: 0.8474 - KL_term: 0.0256 - loglikelihood_term: 0.3156 - evidential_success: 33.9767 - evidential_fail: 2.5593 - acc: 0.8471 - annealing_coef: 0.4048 - global_step_get: 1518.0000 - annealing_step_get: 3750.0000 - val_loss: 0.1450 - val_accuracy: 0.8974 - val_KL_term: 0.0705 - val_loglikelihood_term: 0.3666 - val_evidential_success: 23.1037 - val_evidential_fail: 3.4464 - val_acc: 0.8949 - val_annealing_coef: 0.8096 - val_global_step_get: 3036.0000 - val_annealing_step_get: 3750.0000\n",
      "\n",
      "Epoch 00011: val_loss did not improve from 0.12384\n",
      "Epoch 12/100\n",
      "self.global_step 3036.0\n",
      "277/277 [==============================] - 23s 83ms/step - loss: 0.1112 - accuracy: 0.8472 - KL_term: 0.0228 - loglikelihood_term: 0.3110 - evidential_success: 40.3941 - evidential_fail: 2.1612 - acc: 0.8472 - annealing_coef: 0.4416 - global_step_get: 1656.0000 - annealing_step_get: 3750.0000 - val_loss: 0.1523 - val_accuracy: 0.9014 - val_KL_term: 0.1015 - val_loglikelihood_term: 0.3573 - val_evidential_success: 40.3366 - val_evidential_fail: 6.0290 - val_acc: 0.8985 - val_annealing_coef: 0.8832 - val_global_step_get: 3312.0000 - val_annealing_step_get: 3750.0000\n",
      "\n",
      "Epoch 00012: val_loss did not improve from 0.12384\n",
      "Epoch 00012: early stopping\n",
      "-5.0 -12.0\n"
     ]
    },
    {
     "name": "stderr",
     "output_type": "stream",
     "text": [
      "ic| self.path_models+ '/' + self.method +'_'+str(0)+'.h5': 'D:/Jorge/datasets/deforestation/experiments/MT/exp182/models/resunet_0.h5'\n"
     ]
    },
    {
     "name": "stdout",
     "output_type": "stream",
     "text": [
      "time:  0\n",
      "(39774655,)\n",
      "(array([0, 1], dtype=uint8), array([39234711,   539944], dtype=int64))\n",
      "(16795, 10420)\n",
      "(array([0., 1.], dtype=float32), array([173094214,   1909686], dtype=int64))\n"
     ]
    },
    {
     "name": "stderr",
     "output_type": "stream",
     "text": [
      "ic| self.predicted_unpad.shape: (16795, 10420)\n",
      "    self.predicted.shape: (16795, 10420)\n",
      "ic| predicted_test.shape: (70001560,)\n",
      "ic| predicted_test.shape: (39774655,)\n",
      "ic| np.unique(predicted, return_counts=True): (array([0., 1.], dtype=float32), array([173094214,   1909686], dtype=int64))\n",
      "    np.unique(predicted_larger_than_min_area, return_counts=True): (array([0., 1.], dtype=float32), array([173164268,   1839632], dtype=int64))\n",
      "ic| np.unique(ignored_polygons, return_counts=True): (array([0., 1.], dtype=float32), array([174933846,     70054], dtype=int64))\n",
      "ic| self.f1: 74.78, self.precision: 70.17, self.recall: 80.03\n",
      "ic| self.label_mask_val.shape: (21000468,)\n",
      "ic| self.label_mask_val_valid.shape: (10900410,)\n",
      "ic| f1_val: 92.93\n",
      "    precision_val: 99.18\n",
      "    recall_val: 87.41\n",
      "    mAP_val: 94.2\n"
     ]
    },
    {
     "name": "stdout",
     "output_type": "stream",
     "text": [
      "(array([0., 1.], dtype=float32), array([174392332,    611568], dtype=int64))\n",
      "[0. 1.]\n"
     ]
    },
    {
     "name": "stderr",
     "output_type": "stream",
     "text": [
      "ic| self.label_mask.shape: (16795, 10420)\n",
      "ic| self.mask_amazon_ts.shape: (16795, 10420)\n",
      "ic| self.label_mask_test.shape: (70001560,)\n",
      "ic| self.error_mask_test.shape: (39746282,)\n",
      "ic| bounds: (0.0015, 0.9985)\n",
      "c:\\Users\\jchamorro\\Anaconda3\\envs\\tf2\\lib\\site-packages\\scipy\\optimize\\_minimize.py:783: RuntimeWarning: Method 'bounded' does not support relative tolerance in x; defaulting to absolute tolerance.\n",
      "  warn(\"Method 'bounded' does not support relative tolerance in x; \"\n"
     ]
    },
    {
     "name": "stdout",
     "output_type": "stream",
     "text": [
      "0.38232011321635484\n",
      "threshold 0.38232011321635484\n",
      "(37118651,) (37118651,)\n"
     ]
    },
    {
     "name": "stderr",
     "output_type": "stream",
     "text": [
      "ic| label_current_deforestation_test_classified_incorrect.shape: (2627631,)\n",
      "    predicted_test_classified_incorrect.shape: (2627631,)\n"
     ]
    },
    {
     "name": "stdout",
     "output_type": "stream",
     "text": [
      "cm_correct [[36712271    28716]\n",
      " [   29656   348008]]\n"
     ]
    },
    {
     "name": "stderr",
     "output_type": "stream",
     "text": [
      "ic| TP_H + FN_H + FP_H + TN_H: 2627631\n",
      "    len(label_mask_current_deforestation_test): 39746282\n",
      "ic| TP_H + FN_H + FP_H + TN_H: 2627631\n",
      "    len(label_mask_current_deforestation_test): 39746282\n"
     ]
    },
    {
     "name": "stdout",
     "output_type": "stream",
     "text": [
      "cm_incorrect [[2318565  152892]\n",
      " [  76956   79218]]\n",
      "[0.92377443 0.92147517 0.65189814 0.06611011 0.34129508 0.50724192]\n",
      "0.6176798867836452\n",
      "threshold 0.6176798867836452\n",
      "(38392915,) (38392915,)\n"
     ]
    },
    {
     "name": "stderr",
     "output_type": "stream",
     "text": [
      "ic| label_current_deforestation_test_classified_incorrect.shape: (1353367,)\n",
      "    predicted_test_classified_incorrect.shape: (1353367,)\n",
      "ic| TP_H + FN_H + FP_H + TN_H: 1353367\n",
      "    len(label_mask_current_deforestation_test): 39746282\n",
      "ic| TP_H + FN_H + FP_H + TN_H: 1353367\n",
      "    len(label_mask_current_deforestation_test"
     ]
    },
    {
     "name": "stdout",
     "output_type": "stream",
     "text": [
      "cm_correct [[37784322   153322]\n",
      " [   43642   411629]]\n",
      "cm_incorrect [[1246514   28286]\n",
      " [  62970   15597]]\n"
     ]
    },
    {
     "name": "stderr",
     "output_type": "stream",
     "text": [
      "): 39746282\n"
     ]
    },
    {
     "name": "stdout",
     "output_type": "stream",
     "text": [
      "[0.72861009 0.90414061 0.77107475 0.03405015 0.35542237 0.19851846]\n",
      "0.7631402264327096\n",
      "threshold 0.7631402264327096\n",
      "(38782833,) (38782833,)\n"
     ]
    },
    {
     "name": "stderr",
     "output_type": "stream",
     "text": [
      "ic| label_current_deforestation_test_classified_incorrect.shape: (963449,)\n",
      "    predicted_test_classified_incorrect.shape: (963449,)\n",
      "d:\\Jorge\\deforestation_uncertainty\\src\\metrics.py:295: RuntimeWarning: invalid value encountered in longlong_scalars\n",
      "  precision_H = TP_H / (TP_H + FP_H)\n",
      "ic| TP_H + FN_H + FP_H + TN_H: 963449\n",
      "    len(label_mask_current_deforestation_test): 39746282\n",
      "ic| TP_H + FN_H + FP_H + TN_H: 963449\n",
      "    len(label_mask_current_deforestation_test): 39746282\n"
     ]
    },
    {
     "name": "stdout",
     "output_type": "stream",
     "text": [
      "cm_correct [[38123019   181608]\n",
      " [   50980   427226]]\n",
      "cm_incorrect [[907817      0]\n",
      " [ 55632      0]]\n",
      "[0.7017118  0.89339322 0.80029147 0.02423998        nan 0.        ]\n",
      "0.6752838707956235\n",
      "threshold 0.6752838707956235\n",
      "(38570894,) (38570894,)\n"
     ]
    },
    {
     "name": "stderr",
     "output_type": "stream",
     "text": [
      "ic| label_current_deforestation_test_classified_incorrect.shape: (1175388,)\n",
      "    predicted_test_classified_incorrect.shape: (1175388,)\n",
      "ic| TP_H + FN_H + FP_H + TN_H: 1175388\n",
      "    len(label_mask_current_deforestation_test): 39746282\n",
      "ic| TP_H + FN_H + FP_H + TN_H: 1175388\n",
      "    len(label_mask_current_deforestation_test): 39746282\n"
     ]
    },
    {
     "name": "stdout",
     "output_type": "stream",
     "text": [
      "cm_correct [[37936340   169234]\n",
      " [   45987   419333]]\n",
      "cm_incorrect [[1094496   12374]\n",
      " [  60625    7893]]\n",
      "[0.71246434 0.90117124 0.78550609 0.02957228 0.38945083 0.11519601]\n",
      "0.6834919034841418\n",
      "threshold 0.6834919034841418\n",
      "(38593091,) (38593091,)\n"
     ]
    },
    {
     "name": "stderr",
     "output_type": "stream",
     "text": [
      "ic| label_current_deforestation_test_classified_incorrect.shape: (1153191,)\n",
      "    predicted_test_classified_incorrect.shape: (1153191,)\n",
      "ic| TP_H + FN_H + FP_H + TN_H: 1153191\n",
      "    len(label_mask_current_deforestation_test): 39746282\n",
      "ic| TP_H + FN_H + FP_H + TN_H: 1153191\n",
      "    len(label_mask_current_deforestation_test): 39746282\n"
     ]
    },
    {
     "name": "stdout",
     "output_type": "stream",
     "text": [
      "cm_correct [[37955556   170917]\n",
      " [   46303   420315]]\n",
      "cm_incorrect [[1075280   10691]\n",
      " [  60309    6911]]\n",
      "[0.71091382 0.90076894 0.7873456  0.02901381 0.39262584 0.10281166]\n",
      "0.6622871789516903\n",
      "threshold 0.6622871789516903\n",
      "(38534778,) (38534778,)\n"
     ]
    },
    {
     "name": "stderr",
     "output_type": "stream",
     "text": [
      "ic| label_current_deforestation_test_classified_incorrect.shape: (1211504,)\n",
      "    predicted_test_classified_incorrect.shape: (1211504,)\n",
      "ic| TP_H + FN_H + FP_H + TN_H: 1211504\n",
      "    len(label_mask_current_deforestation_test): 39746282\n",
      "ic| TP_H + FN_H + FP_H + TN_H: 1211504\n",
      "    len(label_mask_current_deforestation_test): 39746282\n"
     ]
    },
    {
     "name": "stdout",
     "output_type": "stream",
     "text": [
      "cm_correct [[37905090   166501]\n",
      " [   45442   417745]]\n",
      "cm_incorrect [[1125746   15107]\n",
      " [  61170    9481]]\n",
      "[0.71501559 0.90189276 0.7825314  0.03048094 0.3855946  0.13419485]\n",
      "0.6703195762525496\n",
      "threshold 0.6703195762525496\n",
      "(38557227,) (38557227,)\n"
     ]
    },
    {
     "name": "stderr",
     "output_type": "stream",
     "text": [
      "ic| label_current_deforestation_test_classified_incorrect.shape: (1189055,)\n",
      "    predicted_test_classified_incorrect.shape: (1189055,)\n",
      "ic| TP_H + FN_H + FP_H + TN_H: 1189055\n",
      "    len(label_mask_current_deforestation_test): 39746282\n",
      "ic| TP_H + FN_H + FP_H + TN_H: 1189055\n",
      "    len(label_mask_current_deforestation_test): 39746282\n"
     ]
    },
    {
     "name": "stdout",
     "output_type": "stream",
     "text": [
      "cm_correct [[37924517   168187]\n",
      " [   45772   418751]]\n",
      "cm_incorrect [[1106319   13421]\n",
      " [  60840    8475]]\n",
      "[0.71345014 0.90146451 0.78441587 0.02991613 0.387057   0.12226791]\n",
      "0.6690096814432996\n",
      "threshold 0.6690096814432996\n",
      "(38553534,) (38553534,)\n"
     ]
    },
    {
     "name": "stderr",
     "output_type": "stream",
     "text": [
      "ic| label_current_deforestation_test_classified_incorrect.shape: (1192748,)\n",
      "    predicted_test_classified_incorrect.shape: (1192748,)\n",
      "ic| TP_H + FN_H + FP_H + TN_H: 1192748\n",
      "    len(label_mask_current_deforestation_test): 39746282\n",
      "ic| TP_H + FN_H + FP_H + TN_H: 1192748\n",
      "    len(label_mask_current_deforestation_test): 39746282\n"
     ]
    },
    {
     "name": "stdout",
     "output_type": "stream",
     "text": [
      "cm_correct [[37921312   167913]\n",
      " [   45715   418594]]\n",
      "cm_incorrect [[1109524   13695]\n",
      " [  60897    8632]]\n",
      "[0.71370674 0.90154186 0.78412177 0.03000905 0.3866171  0.12414964]\n",
      "0.6664419139809608\n",
      "threshold 0.6664419139809608\n",
      "(38546446,) (38546446,)\n"
     ]
    },
    {
     "name": "stderr",
     "output_type": "stream",
     "text": [
      "ic| label_current_deforestation_test_classified_incorrect.shape: (1199836,)\n",
      "    predicted_test_classified_incorrect.shape: (1199836,)\n",
      "ic| TP_H + FN_H + FP_H + TN_H: 1199836\n",
      "    len(label_mask_current_deforestation_test): 39746282\n",
      "ic| TP_H + FN_H + FP_H + TN_H: 1199836\n",
      "    len(label_mask_current_deforestation_test): 39746282\n"
     ]
    },
    {
     "name": "stdout",
     "output_type": "stream",
     "text": [
      "cm_correct [[37915227   167347]\n",
      " [   45607   418265]]\n",
      "cm_incorrect [[1115609   14261]\n",
      " [  61005    8961]]\n",
      "[0.71423571 0.90168193 0.78350548 0.03018738 0.38588408 0.12807649]\n",
      "0.6687896404701568\n",
      "threshold 0.6687896404701568\n",
      "(38552926,) (38552926,)\n"
     ]
    },
    {
     "name": "stderr",
     "output_type": "stream",
     "text": [
      "ic| label_current_deforestation_test_classified_incorrect.shape: (1193356,)\n",
      "    predicted_test_classified_incorrect.shape: (1193356,)\n",
      "ic| TP_H + FN_H + FP_H + TN_H: 1193356\n",
      "    len(label_mask_current_deforestation_test): 39746282\n",
      "ic| TP_H + FN_H + FP_H + TN_H: 1193356\n",
      "    len(label_mask_current_deforestation_test): 39746282\n"
     ]
    },
    {
     "name": "stdout",
     "output_type": "stream",
     "text": [
      "cm_correct [[37920803   167856]\n",
      " [   45708   418559]]\n",
      "cm_incorrect [[1110033   13752]\n",
      " [  60904    8667]]\n",
      "[0.71375903 0.90154803 0.78405621 0.03002434 0.38659173 0.12457777]\n",
      "0.6693195896704629\n",
      "threshold 0.6693195896704629\n",
      "(38554392,) (38554392,)\n"
     ]
    },
    {
     "name": "stderr",
     "output_type": "stream",
     "text": [
      "ic| label_current_deforestation_test_classified_incorrect.shape: (1191890,)\n",
      "    predicted_test_classified_incorrect.shape: (1191890,)\n",
      "ic| TP_H + FN_H + FP_H + TN_H: 1191890\n",
      "    len(label_mask_current_deforestation_test): 39746282\n",
      "ic| TP_H + FN_H + FP_H + TN_H: 1191890\n",
      "    len(label_mask_current_deforestation_test): 39746282\n"
     ]
    },
    {
     "name": "stdout",
     "output_type": "stream",
     "text": [
      "cm_correct [[37922040   167981]\n",
      " [   45731   418640]]\n",
      "cm_incorrect [[1108796   13627]\n",
      " [  60881    8586]]\n",
      "[0.71364646 0.90152055 0.78420794 0.02998746 0.38653041 0.12359826]\n",
      "0.6691280558526828\n",
      "threshold 0.6691280558526828\n",
      "(38553864,) (38553864,)\n"
     ]
    },
    {
     "name": "stderr",
     "output_type": "stream",
     "text": [
      "ic| label_current_deforestation_test_classified_incorrect.shape: (1192418,)\n",
      "    predicted_test_classified_incorrect.shape: (1192418,)\n",
      "ic| TP_H + FN_H + FP_H + TN_H: 1192418\n",
      "    len(label_mask_current_deforestation_test): 39746282\n",
      "ic| TP_H + FN_H + FP_H + TN_H: 1192418\n",
      "    len(label_mask_current_deforestation_test): 39746282\n"
     ]
    },
    {
     "name": "stdout",
     "output_type": "stream",
     "text": [
      "cm_correct [[37921596   167940]\n",
      " [   45720   418608]]\n",
      "cm_incorrect [[1109240   13668]\n",
      " [  60892    8618]]\n",
      "[0.71368072 0.90153512 0.784148   0.03000074 0.38670017 0.12398216]\n",
      "0.6691613991107891\n",
      "threshold 0.6691613991107891\n",
      "(38553952,) (38553952,)\n"
     ]
    },
    {
     "name": "stderr",
     "output_type": "stream",
     "text": [
      "ic| label_current_deforestation_test_classified_incorrect.shape: (1192330,)\n",
      "    predicted_test_classified_incorrect.shape: (1192330,)\n",
      "ic| TP_H + FN_H + FP_H + TN_H: 1192330\n",
      "    len(label_mask_current_deforestation_test): 39746282\n",
      "ic| TP_H + FN_H + FP_H + TN_H: 1192330\n",
      "    len(label_mask_current_deforestation_test): 39746282\n"
     ]
    },
    {
     "name": "stdout",
     "output_type": "stream",
     "text": [
      "cm_correct [[37921670   167944]\n",
      " [   45723   418615]]\n",
      "cm_incorrect [[1109166   13664]\n",
      " [  60889    8611]]\n",
      "[0.71367927 0.90153078 0.78416111 0.02999853 0.38657688 0.12389928]\n",
      "0.6690947125945764\n",
      "threshold 0.6690947125945764\n",
      "(38553759,) (38553759,)\n"
     ]
    },
    {
     "name": "stderr",
     "output_type": "stream",
     "text": [
      "ic| label_current_deforestation_test_classified_incorrect.shape: (1192523,)\n",
      "    predicted_test_classified_incorrect.shape: (1192523,)\n",
      "ic| TP_H + FN_H + FP_H + TN_H: 1192523\n",
      "    len(label_mask_current_deforestation_test): 39746282\n",
      "ic| TP_H + FN_H + FP_H + TN_H: 1192523\n",
      "    len(label_mask_current_deforestation_test): 39746282\n",
      "ic| self."
     ]
    },
    {
     "name": "stdout",
     "output_type": "stream",
     "text": [
      "cm_correct [[37921505   167932]\n",
      " [   45718   418604]]\n",
      "cm_incorrect [[1109331   13676]\n",
      " [  60894    8622]]\n",
      "[0.7136885  0.90153816 0.78414051 0.03000338 0.38667145 0.124029  ]\n"
     ]
    },
    {
     "name": "stderr",
     "output_type": "stream",
     "text": [
      "threshold_optimal: 0.6691280558526828\n"
     ]
    },
    {
     "name": "stdout",
     "output_type": "stream",
     "text": [
      "threshold 0.6691280558526828\n",
      "(38553864,) (38553864,)\n"
     ]
    },
    {
     "name": "stderr",
     "output_type": "stream",
     "text": [
      "ic| label_current_deforestation_test_classified_incorrect.shape: (1192418,)\n",
      "    predicted_test_classified_incorrect.shape: (1192418,)\n",
      "ic| TP_H + FN_H + FP_H + TN_H: 1192418\n",
      "    len(label_mask_current_deforestation_test): 39746282\n",
      "ic| TP_H + FN_H + FP_H + TN_H: 1192418\n",
      "    len(label_mask_current_deforestation_test): 39746282\n"
     ]
    },
    {
     "name": "stdout",
     "output_type": "stream",
     "text": [
      "cm_correct [[37921596   167940]\n",
      " [   45720   418608]]\n",
      "cm_incorrect [[1109240   13668]\n",
      " [  60892    8618]]\n",
      "[0.71368072 0.90153512 0.784148   0.03000074 0.38670017 0.12398216]\n",
      "threshold 0.6691280558526828\n",
      "(39746282,) (39746282,)\n"
     ]
    },
    {
     "name": "stderr",
     "output_type": "stream",
     "text": [
      "ic| self.m_optimal: {'AA': array([0.03000074]),\n",
      "                     'f1': 74.78,\n",
      "                     'f1_H': array([0.18776417]),\n",
      "                     'f1_L': array([0.79668391]),\n",
      "                     'precision_H': array([0.38670017]),\n",
      "                     'precision_L': array([0.71368072]),\n",
      "                     'recall_H': array([0.12398216]),\n",
      "                     'recall_L': array([0.90153512]),\n",
      "                     'recall_Ltotal': array([0.784148])}\n",
      "ic| self.m_audited_optimal: {'f1': array([0.82043809]),\n",
      "                             'precision': array([0.74401654]),\n",
      "                             'recall': array([0.91435604])}\n"
     ]
    },
    {
     "name": "stdout",
     "output_type": "stream",
     "text": [
      "cm_audited [[39044504   167940]\n",
      " [   45720   488118]]\n",
      "[0.74401654 0.91435604]\n",
      "D:/Jorge/datasets/deforestation/MT/deforestation_past_years.tif\n",
      "Loaded deforestation past years\n"
     ]
    },
    {
     "name": "stderr",
     "output_type": "stream",
     "text": [
      "ic| np.unique(deforestation_past_years, return_counts=True): (array([   0, 2008, 2009, 2010, 2011, 2012, 2013, 2014, 2015, 2016, 2017,\n",
      "                                                                    2018, 2019, 2020, 2021], dtype=uint16),\n",
      "                                                              array([161124576,   1332784,    240796,    338545,    313901,    287191,\n",
      "                                                                       708581,    648966,    876898,   1007787,   1098901,   1054092,\n",
      "                                                                      2096062,   2473828,   1400992], dtype=int64))\n"
     ]
    },
    {
     "name": "stdout",
     "output_type": "stream",
     "text": [
      "Label where deforestation past years is actual date (2019) = 1\n"
     ]
    },
    {
     "name": "stderr",
     "output_type": "stream",
     "text": [
      "ic| np.unique(deforestation_past_years, return_counts=True): (array([   0, 2008, 2009, 2010, 2011, 2012, 2013, 2014, 2015, 2016, 2017,\n",
      "                                                                    2018, 2019, 2020, 2021], dtype=uint16),\n",
      "                                                              array([161124576,   1332784,    240796,    338545,    313901,    287191,\n",
      "                                                                       708581,    648966,    876898,   1007787,   1098901,   1054092,\n",
      "                                                                      2096062,   2473828,   1400992], dtype=int64))\n"
     ]
    },
    {
     "name": "stdout",
     "output_type": "stream",
     "text": [
      "Past deforestation different from 0 (no deforestation)\n"
     ]
    },
    {
     "name": "stderr",
     "output_type": "stream",
     "text": [
      "ic| np.unique(deforestation_past_years, return_counts=True): (array([   0, 2008, 2009, 2010, 2011, 2012, 2013, 2014, 2015, 2016, 2017,\n",
      "                                                                    2018, 2019, 2020, 2021], dtype=uint16),\n",
      "                                                              array([161124576,   1332784,    240796,    338545,    313901,    287191,\n",
      "                                                                       708581,    648966,    876898,   1007787,   1098901,   1054092,\n",
      "                                                                      2096062,   2473828,   1400992], dtype=int64))\n"
     ]
    },
    {
     "name": "stdout",
     "output_type": "stream",
     "text": [
      "Past deforestation before 2008 is 2\n",
      "D:/Jorge/datasets/deforestation/MT/deforestation_before_2008/deforestation_before_2008_MT.tif\n"
     ]
    },
    {
     "name": "stderr",
     "output_type": "stream",
     "text": [
      "ic| np.unique(label_past_deforestation_before_2008, return_counts=True): (array([  0, 215], dtype=uint8), array([122623260,  52380640], dtype=int64))\n",
      "ic| np.unique(deforestation_past_years, return_counts=True): (array([   0, 2008, 2009, 2010, 2011, 2012, 2013, 2014, 2015, 2016, 2017,\n",
      "                                                                    2018, 2019, 2020, 2021], dtype=uint16),\n",
      "                                                              array([161124576,   1332784,    240796,    338545,    313901,    287191,\n",
      "                                                                       708581,    648966,    876898,   1007787,   1098901,   1054092,\n",
      "                                                                      2096062,   2473828,   1400992], dtype=int64))\n",
      "ic| label_per_date.shape: (16795, 10420, 1)\n"
     ]
    },
    {
     "name": "stdout",
     "output_type": "stream",
     "text": [
      "Mask label shape:  \n",
      " (16795, 10420, 1) \n",
      " Unique values:  \n",
      " [0 1 2]\n",
      "Tiles size:  3359 2084\n",
      "Mask size:  (16795, 10420)\n"
     ]
    },
    {
     "name": "stderr",
     "output_type": "stream",
     "text": [
      "ic| image_stack.shape: (16795, 10420, 21)\n"
     ]
    },
    {
     "name": "stdout",
     "output_type": "stream",
     "text": [
      "Image shape:  (16795, 10420, 21)\n",
      "mask:  (16795, 10420)\n",
      "image stack:  (16795, 10420, 21)\n",
      "ref : (16795, 10420, 1)\n",
      "Training tiles:  [2, 4, 5, 6, 7, 12, 14, 15, 18, 21, 23, 24]\n",
      "Validation tiles:  [9, 11, 25]\n",
      "Test tiles:  [1, 3, 8, 10, 13, 16, 17, 19, 20, 22]\n"
     ]
    },
    {
     "name": "stderr",
     "output_type": "stream",
     "text": [
      "ic| im_idx_row.shape: (16795, 10420, 1)\n",
      "    im_idx_col.shape: (16795, 10420, 1)\n",
      "ic| im_idx_row.dtype: dtype('uint16')\n",
      "    im_idx_col.dtype: dtype('uint16')\n",
      "ic| im_idx.shape: (16795, 10420, 2), im_idx.dtype: dtype('uint16')\n",
      "ic| coords.shape: (439, 271, 1, 128, 128, 2)\n",
      "    coords.dtype: dtype('uint16')\n",
      "ic| coords.shape: (118969, 2), coords.dtype: dtype('uint16')\n",
      "ic| self.coords_train.shape: (54516, 3)\n",
      "    self.coords_val.shape: (13175, 3)\n"
     ]
    },
    {
     "name": "stdout",
     "output_type": "stream",
     "text": [
      "training samples:  (2962, 3) validation samples:  (623, 3)\n",
      "time:  0\n"
     ]
    },
    {
     "name": "stderr",
     "output_type": "stream",
     "text": [
      "c:\\Users\\jchamorro\\Anaconda3\\envs\\tf2\\lib\\site-packages\\tensorflow\\python\\keras\\optimizer_v2\\optimizer_v2.py:374: UserWarning: The `lr` argument is deprecated, use `learning_rate` instead.\n",
      "  warnings.warn(\n"
     ]
    },
    {
     "name": "stdout",
     "output_type": "stream",
     "text": [
      "Model: \"model_16\"\n",
      "__________________________________________________________________________________________________\n",
      "Layer (type)                    Output Shape         Param #     Connected to                     \n",
      "==================================================================================================\n",
      "input_enc_net (InputLayer)      [(None, 128, 128, 21 0                                            \n",
      "__________________________________________________________________________________________________\n",
      "res1_net1 (Conv2D)              (None, 128, 128, 16) 3040        input_enc_net[0][0]              \n",
      "__________________________________________________________________________________________________\n",
      "drop_net1 (Dropout)             (None, 128, 128, 16) 0           res1_net1[0][0]                  \n",
      "__________________________________________________________________________________________________\n",
      "res2_net1 (Conv2D)              (None, 128, 128, 16) 2320        drop_net1[0][0]                  \n",
      "__________________________________________________________________________________________________\n",
      "res3_net1 (Conv2D)              (None, 128, 128, 16) 352         input_enc_net[0][0]              \n",
      "__________________________________________________________________________________________________\n",
      "add_96 (Add)                    (None, 128, 128, 16) 0           res2_net1[0][0]                  \n",
      "                                                                 res3_net1[0][0]                  \n",
      "__________________________________________________________________________________________________\n",
      "pool_net1 (MaxPooling2D)        (None, 64, 64, 16)   0           add_96[0][0]                     \n",
      "__________________________________________________________________________________________________\n",
      "res1_net2 (Conv2D)              (None, 64, 64, 32)   4640        pool_net1[0][0]                  \n",
      "__________________________________________________________________________________________________\n",
      "drop_net2 (Dropout)             (None, 64, 64, 32)   0           res1_net2[0][0]                  \n",
      "__________________________________________________________________________________________________\n",
      "res2_net2 (Conv2D)              (None, 64, 64, 32)   9248        drop_net2[0][0]                  \n",
      "__________________________________________________________________________________________________\n",
      "res3_net2 (Conv2D)              (None, 64, 64, 32)   544         pool_net1[0][0]                  \n",
      "__________________________________________________________________________________________________\n",
      "add_97 (Add)                    (None, 64, 64, 32)   0           res2_net2[0][0]                  \n",
      "                                                                 res3_net2[0][0]                  \n",
      "__________________________________________________________________________________________________\n",
      "pool_net2 (MaxPooling2D)        (None, 32, 32, 32)   0           add_97[0][0]                     \n",
      "__________________________________________________________________________________________________\n",
      "res1_net3 (Conv2D)              (None, 32, 32, 64)   18496       pool_net2[0][0]                  \n",
      "__________________________________________________________________________________________________\n",
      "drop_net3 (Dropout)             (None, 32, 32, 64)   0           res1_net3[0][0]                  \n",
      "__________________________________________________________________________________________________\n",
      "res2_net3 (Conv2D)              (None, 32, 32, 64)   36928       drop_net3[0][0]                  \n",
      "__________________________________________________________________________________________________\n",
      "res3_net3 (Conv2D)              (None, 32, 32, 64)   2112        pool_net2[0][0]                  \n",
      "__________________________________________________________________________________________________\n",
      "add_98 (Add)                    (None, 32, 32, 64)   0           res2_net3[0][0]                  \n",
      "                                                                 res3_net3[0][0]                  \n",
      "__________________________________________________________________________________________________\n",
      "pool_net3 (MaxPooling2D)        (None, 16, 16, 64)   0           add_98[0][0]                     \n",
      "__________________________________________________________________________________________________\n",
      "res1_net4 (Conv2D)              (None, 16, 16, 64)   36928       pool_net3[0][0]                  \n",
      "__________________________________________________________________________________________________\n",
      "drop_net4 (Dropout)             (None, 16, 16, 64)   0           res1_net4[0][0]                  \n",
      "__________________________________________________________________________________________________\n",
      "res2_net4 (Conv2D)              (None, 16, 16, 64)   36928       drop_net4[0][0]                  \n",
      "__________________________________________________________________________________________________\n",
      "res3_net4 (Conv2D)              (None, 16, 16, 64)   4160        pool_net3[0][0]                  \n",
      "__________________________________________________________________________________________________\n",
      "add_99 (Add)                    (None, 16, 16, 64)   0           res2_net4[0][0]                  \n",
      "                                                                 res3_net4[0][0]                  \n",
      "__________________________________________________________________________________________________\n",
      "res1_net5 (Conv2D)              (None, 16, 16, 64)   36928       add_99[0][0]                     \n",
      "__________________________________________________________________________________________________\n",
      "drop_net5 (Dropout)             (None, 16, 16, 64)   0           res1_net5[0][0]                  \n",
      "__________________________________________________________________________________________________\n",
      "res2_net5 (Conv2D)              (None, 16, 16, 64)   36928       drop_net5[0][0]                  \n",
      "__________________________________________________________________________________________________\n",
      "res3_net5 (Conv2D)              (None, 16, 16, 64)   4160        add_99[0][0]                     \n",
      "__________________________________________________________________________________________________\n",
      "add_100 (Add)                   (None, 16, 16, 64)   0           res2_net5[0][0]                  \n",
      "                                                                 res3_net5[0][0]                  \n",
      "__________________________________________________________________________________________________\n",
      "res1_net6 (Conv2D)              (None, 16, 16, 64)   36928       add_100[0][0]                    \n",
      "__________________________________________________________________________________________________\n",
      "drop_net6 (Dropout)             (None, 16, 16, 64)   0           res1_net6[0][0]                  \n",
      "__________________________________________________________________________________________________\n",
      "res2_net6 (Conv2D)              (None, 16, 16, 64)   36928       drop_net6[0][0]                  \n",
      "__________________________________________________________________________________________________\n",
      "res3_net6 (Conv2D)              (None, 16, 16, 64)   4160        add_100[0][0]                    \n",
      "__________________________________________________________________________________________________\n",
      "add_101 (Add)                   (None, 16, 16, 64)   0           res2_net6[0][0]                  \n",
      "                                                                 res3_net6[0][0]                  \n",
      "__________________________________________________________________________________________________\n",
      "up_sampling2d_48 (UpSampling2D) (None, 32, 32, 64)   0           add_101[0][0]                    \n",
      "__________________________________________________________________________________________________\n",
      "upsampling_net3 (Conv2D)        (None, 32, 32, 64)   36928       up_sampling2d_48[0][0]           \n",
      "__________________________________________________________________________________________________\n",
      "concatenate3 (Concatenate)      (None, 32, 32, 128)  0           add_98[0][0]                     \n",
      "                                                                 upsampling_net3[0][0]            \n",
      "__________________________________________________________________________________________________\n",
      "up_sampling2d_49 (UpSampling2D) (None, 64, 64, 128)  0           concatenate3[0][0]               \n",
      "__________________________________________________________________________________________________\n",
      "upsampling_net2 (Conv2D)        (None, 64, 64, 32)   36896       up_sampling2d_49[0][0]           \n",
      "__________________________________________________________________________________________________\n",
      "concatenate2 (Concatenate)      (None, 64, 64, 64)   0           add_97[0][0]                     \n",
      "                                                                 upsampling_net2[0][0]            \n",
      "__________________________________________________________________________________________________\n",
      "up_sampling2d_50 (UpSampling2D) (None, 128, 128, 64) 0           concatenate2[0][0]               \n",
      "__________________________________________________________________________________________________\n",
      "upsampling_net1 (Conv2D)        (None, 128, 128, 16) 9232        up_sampling2d_50[0][0]           \n",
      "__________________________________________________________________________________________________\n",
      "concatenate1 (Concatenate)      (None, 128, 128, 32) 0           add_96[0][0]                     \n",
      "                                                                 upsampling_net1[0][0]            \n",
      "__________________________________________________________________________________________________\n",
      "output (Conv2D)                 (None, 128, 128, 3)  99          concatenate1[0][0]               \n",
      "==================================================================================================\n",
      "Total params: 394,883\n",
      "Trainable params: 394,883\n",
      "Non-trainable params: 0\n",
      "__________________________________________________________________________________________________\n"
     ]
    },
    {
     "name": "stderr",
     "output_type": "stream",
     "text": [
      "c:\\Users\\jchamorro\\Anaconda3\\envs\\tf2\\lib\\site-packages\\tensorflow\\python\\keras\\engine\\training.py:1969: UserWarning: `Model.fit_generator` is deprecated and will be removed in a future version. Please use `Model.fit`, which supports generators.\n",
      "  warnings.warn('`Model.fit_generator` is deprecated and '\n"
     ]
    },
    {
     "name": "stdout",
     "output_type": "stream",
     "text": [
      "Epoch 1/100\n",
      "self.global_step 0.0\n",
      "alpha Tensor(\"loss/add:0\", shape=(None, 128, 128, 3), dtype=float32)\n",
      "u Tensor(\"loss/truediv:0\", shape=(None, 128, 128, 1), dtype=float32)\n",
      "alpha Tensor(\"add:0\", shape=(None, 128, 128, 3), dtype=float32)\n",
      "u Tensor(\"truediv:0\", shape=(None, 128, 128, 1), dtype=float32)\n",
      "K.int_shape(KL_reg) Tensor(\"mul_6:0\", shape=(None, 128, 128, 1), dtype=float32)\n",
      "alpha Tensor(\"add_7:0\", shape=(None, 128, 128, 3), dtype=float32)\n",
      "u Tensor(\"truediv_5:0\", shape=(None, 128, 128, 1), dtype=float32)\n",
      "K.int_shape(KL_reg) Tensor(\"mul_12:0\", shape=(None, 128, 128, 1), dtype=float32)\n",
      "alpha Tensor(\"loss/add:0\", shape=(None, 128, 128, 3), dtype=float32)\n",
      "u Tensor(\"loss/truediv:0\", shape=(None, 128, 128, 1), dtype=float32)\n",
      "alpha Tensor(\"add:0\", shape=(None, 128, 128, 3), dtype=float32)\n",
      "u Tensor(\"truediv:0\", shape=(None, 128, 128, 1), dtype=float32)\n",
      "K.int_shape(KL_reg) Tensor(\"mul_6:0\", shape=(None, 128, 128, 1), dtype=float32)\n",
      "alpha Tensor(\"add_7:0\", shape=(None, 128, 128, 3), dtype=float32)\n",
      "u Tensor(\"truediv_5:0\", shape=(None, 128, 128, 1), dtype=float32)\n",
      "K.int_shape(KL_reg) Tensor(\"mul_12:0\", shape=(None, 128, 128, 1), dtype=float32)\n",
      "277/277 [==============================] - ETA: 0s - loss: 0.1583 - accuracy: 0.6483 - KL_term: 0.0070 - loglikelihood_term: 0.4677 - evidential_success: 15.5889 - evidential_fail: 3.4196 - acc: 0.6485 - annealing_coef: 0.0368 - global_step_get: 138.0000 - annealing_step_get: 3750.0000alpha Tensor(\"loss/add:0\", shape=(None, 128, 128, 3), dtype=float32)\n",
      "u Tensor(\"loss/truediv:0\", shape=(None, 128, 128, 1), dtype=float32)\n",
      "alpha Tensor(\"add:0\", shape=(None, 128, 128, 3), dtype=float32)\n",
      "u Tensor(\"truediv:0\", shape=(None, 128, 128, 1), dtype=float32)\n",
      "K.int_shape(KL_reg) Tensor(\"mul_6:0\", shape=(None, 128, 128, 1), dtype=float32)\n",
      "alpha Tensor(\"add_7:0\", shape=(None, 128, 128, 3), dtype=float32)\n",
      "u Tensor(\"truediv_5:0\", shape=(None, 128, 128, 1), dtype=float32)\n",
      "K.int_shape(KL_reg) Tensor(\"mul_12:0\", shape=(None, 128, 128, 1), dtype=float32)\n",
      "277/277 [==============================] - 29s 89ms/step - loss: 0.1583 - accuracy: 0.6483 - KL_term: 0.0070 - loglikelihood_term: 0.4677 - evidential_success: 15.5889 - evidential_fail: 3.4196 - acc: 0.6485 - annealing_coef: 0.0368 - global_step_get: 138.0000 - annealing_step_get: 3750.0000 - val_loss: 0.1051 - val_accuracy: 0.7853 - val_KL_term: 0.0056 - val_loglikelihood_term: 0.3087 - val_evidential_success: 15.4695 - val_evidential_fail: 1.9183 - val_acc: 0.7872 - val_annealing_coef: 0.0736 - val_global_step_get: 276.0000 - val_annealing_step_get: 3750.0000\n",
      "\n",
      "Epoch 00001: val_loss improved from inf to 0.10510, saving model to D:/Jorge/datasets/deforestation/experiments/MT/exp183/models\\resunet_0.h5\n"
     ]
    },
    {
     "name": "stderr",
     "output_type": "stream",
     "text": [
      "c:\\Users\\jchamorro\\Anaconda3\\envs\\tf2\\lib\\site-packages\\tensorflow\\python\\keras\\utils\\generic_utils.py:494: CustomMaskWarning: Custom mask layers require a config and must override get_config. When loading, the custom mask layer must be passed to the custom_objects argument.\n",
      "  warnings.warn('Custom mask layers require a config and must override '\n"
     ]
    },
    {
     "name": "stdout",
     "output_type": "stream",
     "text": [
      "Epoch 2/100\n",
      "self.global_step 276.0\n",
      "277/277 [==============================] - 25s 92ms/step - loss: 0.1118 - accuracy: 0.7111 - KL_term: 0.0090 - loglikelihood_term: 0.3261 - evidential_success: 33.4493 - evidential_fail: 2.6617 - acc: 0.7114 - annealing_coef: 0.0736 - global_step_get: 276.0000 - annealing_step_get: 3750.0000 - val_loss: 0.1007 - val_accuracy: 0.8049 - val_KL_term: 0.0115 - val_loglikelihood_term: 0.2892 - val_evidential_success: 19.8956 - val_evidential_fail: 2.3573 - val_acc: 0.8048 - val_annealing_coef: 0.1472 - val_global_step_get: 552.0000 - val_annealing_step_get: 3750.0000\n",
      "\n",
      "Epoch 00002: val_loss improved from 0.10510 to 0.10073, saving model to D:/Jorge/datasets/deforestation/experiments/MT/exp183/models\\resunet_0.h5\n",
      "Epoch 3/100\n",
      "self.global_step 552.0\n",
      "277/277 [==============================] - 25s 90ms/step - loss: 0.1085 - accuracy: 0.7282 - KL_term: 0.0115 - loglikelihood_term: 0.3139 - evidential_success: 36.9463 - evidential_fail: 2.5947 - acc: 0.7283 - annealing_coef: 0.1104 - global_step_get: 414.0000 - annealing_step_get: 3750.0000 - val_loss: 0.1029 - val_accuracy: 0.8185 - val_KL_term: 0.0140 - val_loglikelihood_term: 0.2930 - val_evidential_success: 19.8503 - val_evidential_fail: 2.0677 - val_acc: 0.8178 - val_annealing_coef: 0.2208 - val_global_step_get: 828.0000 - val_annealing_step_get: 3750.0000\n",
      "\n",
      "Epoch 00003: val_loss did not improve from 0.10073\n",
      "Epoch 4/100\n",
      "self.global_step 828.0\n",
      "277/277 [==============================] - 24s 88ms/step - loss: 0.1069 - accuracy: 0.7693 - KL_term: 0.0137 - loglikelihood_term: 0.3068 - evidential_success: 36.6710 - evidential_fail: 2.6861 - acc: 0.7694 - annealing_coef: 0.1472 - global_step_get: 552.0000 - annealing_step_get: 3750.0000 - val_loss: 0.1046 - val_accuracy: 0.8832 - val_KL_term: 0.0184 - val_loglikelihood_term: 0.2939 - val_evidential_success: 20.7138 - val_evidential_fail: 2.6349 - val_acc: 0.8827 - val_annealing_coef: 0.2944 - val_global_step_get: 1104.0000 - val_annealing_step_get: 3750.0000\n",
      "\n",
      "Epoch 00004: val_loss did not improve from 0.10073\n",
      "Epoch 5/100\n",
      "self.global_step 1104.0\n",
      "277/277 [==============================] - 24s 88ms/step - loss: 0.1067 - accuracy: 0.8470 - KL_term: 0.0156 - loglikelihood_term: 0.3046 - evidential_success: 33.5467 - evidential_fail: 3.7209 - acc: 0.8469 - annealing_coef: 0.1840 - global_step_get: 690.0000 - annealing_step_get: 3750.0000 - val_loss: 0.0989 - val_accuracy: 0.9387 - val_KL_term: 0.0180 - val_loglikelihood_term: 0.2775 - val_evidential_success: 19.6753 - val_evidential_fail: 3.1524 - val_acc: 0.9387 - val_annealing_coef: 0.3680 - val_global_step_get: 1380.0000 - val_annealing_step_get: 3750.0000\n",
      "\n",
      "Epoch 00005: val_loss improved from 0.10073 to 0.09893, saving model to D:/Jorge/datasets/deforestation/experiments/MT/exp183/models\\resunet_0.h5\n",
      "Epoch 6/100\n",
      "self.global_step 1380.0\n",
      "277/277 [==============================] - 24s 88ms/step - loss: 0.0632 - accuracy: 0.9171 - KL_term: 0.0300 - loglikelihood_term: 0.1598 - evidential_success: 33.0033 - evidential_fail: 9.3189 - acc: 0.9171 - annealing_coef: 0.2208 - global_step_get: 828.0000 - annealing_step_get: 3750.0000 - val_loss: 0.0591 - val_accuracy: 0.9321 - val_KL_term: 0.0376 - val_loglikelihood_term: 0.1391 - val_evidential_success: 21.0108 - val_evidential_fail: 4.6266 - val_acc: 0.9322 - val_annealing_coef: 0.4416 - val_global_step_get: 1656.0000 - val_annealing_step_get: 3750.0000\n",
      "\n",
      "Epoch 00006: val_loss improved from 0.09893 to 0.05914, saving model to D:/Jorge/datasets/deforestation/experiments/MT/exp183/models\\resunet_0.h5\n",
      "Epoch 7/100\n",
      "self.global_step 1656.0\n",
      "277/277 [==============================] - 24s 88ms/step - loss: 0.0571 - accuracy: 0.9223 - KL_term: 0.0294 - loglikelihood_term: 0.1417 - evidential_success: 33.5962 - evidential_fail: 8.1960 - acc: 0.9224 - annealing_coef: 0.2576 - global_step_get: 966.0000 - annealing_step_get: 3750.0000 - val_loss: 0.0562 - val_accuracy: 0.9407 - val_KL_term: 0.0323 - val_loglikelihood_term: 0.1354 - val_evidential_success: 20.2217 - val_evidential_fail: 3.7155 - val_acc: 0.9408 - val_annealing_coef: 0.5152 - val_global_step_get: 1932.0000 - val_annealing_step_get: 3750.0000\n",
      "\n",
      "Epoch 00007: val_loss improved from 0.05914 to 0.05622, saving model to D:/Jorge/datasets/deforestation/experiments/MT/exp183/models\\resunet_0.h5\n",
      "Epoch 8/100\n",
      "self.global_step 1932.0\n",
      "277/277 [==============================] - 24s 88ms/step - loss: 0.0547 - accuracy: 0.9268 - KL_term: 0.0295 - loglikelihood_term: 0.1344 - evidential_success: 35.1986 - evidential_fail: 7.5582 - acc: 0.9269 - annealing_coef: 0.2944 - global_step_get: 1104.0000 - annealing_step_get: 3750.0000 - val_loss: 0.0538 - val_accuracy: 0.9422 - val_KL_term: 0.0484 - val_loglikelihood_term: 0.1126 - val_evidential_success: 27.0927 - val_evidential_fail: 5.4394 - val_acc: 0.9422 - val_annealing_coef: 0.5888 - val_global_step_get: 2208.0000 - val_annealing_step_get: 3750.0000\n",
      "\n",
      "Epoch 00008: val_loss improved from 0.05622 to 0.05380, saving model to D:/Jorge/datasets/deforestation/experiments/MT/exp183/models\\resunet_0.h5\n",
      "Epoch 9/100\n",
      "self.global_step 2208.0\n",
      "277/277 [==============================] - 24s 88ms/step - loss: 0.0544 - accuracy: 0.9280 - KL_term: 0.0307 - loglikelihood_term: 0.1327 - evidential_success: 36.2149 - evidential_fail: 7.1653 - acc: 0.9279 - annealing_coef: 0.3312 - global_step_get: 1242.0000 - annealing_step_get: 3750.0000 - val_loss: 0.0568 - val_accuracy: 0.9405 - val_KL_term: 0.0514 - val_loglikelihood_term: 0.1185 - val_evidential_success: 26.4565 - val_evidential_fail: 4.9254 - val_acc: 0.9405 - val_annealing_coef: 0.6624 - val_global_step_get: 2484.0000 - val_annealing_step_get: 3750.0000\n",
      "\n",
      "Epoch 00009: val_loss did not improve from 0.05380\n",
      "Epoch 10/100\n",
      "self.global_step 2484.0\n",
      "277/277 [==============================] - 24s 88ms/step - loss: 0.0534 - accuracy: 0.9300 - KL_term: 0.0309 - loglikelihood_term: 0.1293 - evidential_success: 38.7103 - evidential_fail: 6.7292 - acc: 0.9301 - annealing_coef: 0.3680 - global_step_get: 1380.0000 - annealing_step_get: 3750.0000 - val_loss: 0.0627 - val_accuracy: 0.9395 - val_KL_term: 0.0692 - val_loglikelihood_term: 0.1173 - val_evidential_success: 32.4476 - val_evidential_fail: 6.0950 - val_acc: 0.9395 - val_annealing_coef: 0.7360 - val_global_step_get: 2760.0000 - val_annealing_step_get: 3750.0000\n",
      "\n",
      "Epoch 00010: val_loss did not improve from 0.05380\n",
      "Epoch 11/100\n",
      "self.global_step 2760.0\n",
      "277/277 [==============================] - 24s 88ms/step - loss: 0.0522 - accuracy: 0.9312 - KL_term: 0.0297 - loglikelihood_term: 0.1267 - evidential_success: 43.3271 - evidential_fail: 6.4085 - acc: 0.9312 - annealing_coef: 0.4048 - global_step_get: 1518.0000 - annealing_step_get: 3750.0000 - val_loss: 0.0880 - val_accuracy: 0.9248 - val_KL_term: 0.0479 - val_loglikelihood_term: 0.2124 - val_evidential_success: 22.7976 - val_evidential_fail: 2.9520 - val_acc: 0.9252 - val_annealing_coef: 0.8096 - val_global_step_get: 3036.0000 - val_annealing_step_get: 3750.0000\n",
      "\n",
      "Epoch 00011: val_loss did not improve from 0.05380\n",
      "Epoch 12/100\n",
      "self.global_step 3036.0\n",
      "277/277 [==============================] - 24s 88ms/step - loss: 0.0502 - accuracy: 0.9327 - KL_term: 0.0269 - loglikelihood_term: 0.1239 - evidential_success: 45.0351 - evidential_fail: 5.3548 - acc: 0.9326 - annealing_coef: 0.4416 - global_step_get: 1656.0000 - annealing_step_get: 3750.0000 - val_loss: 0.0818 - val_accuracy: 0.8928 - val_KL_term: 0.0659 - val_loglikelihood_term: 0.1766 - val_evidential_success: 33.9297 - val_evidential_fail: 3.7581 - val_acc: 0.8942 - val_annealing_coef: 0.8832 - val_global_step_get: 3312.0000 - val_annealing_step_get: 3750.0000\n",
      "\n",
      "Epoch 00012: val_loss did not improve from 0.05380\n",
      "Epoch 13/100\n",
      "self.global_step 3312.0\n",
      "277/277 [==============================] - 24s 88ms/step - loss: 0.0490 - accuracy: 0.9354 - KL_term: 0.0275 - loglikelihood_term: 0.1194 - evidential_success: 47.0650 - evidential_fail: 5.3364 - acc: 0.9354 - annealing_coef: 0.4784 - global_step_get: 1794.0000 - annealing_step_get: 3750.0000 - val_loss: 0.0827 - val_accuracy: 0.8934 - val_KL_term: 0.0765 - val_loglikelihood_term: 0.1683 - val_evidential_success: 33.4544 - val_evidential_fail: 3.8519 - val_acc: 0.8948 - val_annealing_coef: 0.9568 - val_global_step_get: 3588.0000 - val_annealing_step_get: 3750.0000\n",
      "\n",
      "Epoch 00013: val_loss did not improve from 0.05380\n",
      "Epoch 14/100\n",
      "self.global_step 3588.0\n",
      "277/277 [==============================] - 24s 88ms/step - loss: 0.0511 - accuracy: 0.9358 - KL_term: 0.0323 - loglikelihood_term: 0.1209 - evidential_success: 46.3459 - evidential_fail: 5.4447 - acc: 0.9358 - annealing_coef: 0.5147 - global_step_get: 1932.0000 - annealing_step_get: 3750.0000 - val_loss: 0.0624 - val_accuracy: 0.9439 - val_KL_term: 0.0733 - val_loglikelihood_term: 0.1125 - val_evidential_success: 29.4284 - val_evidential_fail: 4.7361 - val_acc: 0.9439 - val_annealing_coef: 1.0000 - val_global_step_get: 3864.0000 - val_annealing_step_get: 3750.0000\n",
      "\n",
      "Epoch 00014: val_loss did not improve from 0.05380\n",
      "Epoch 15/100\n",
      "self.global_step 3864.0\n",
      "277/277 [==============================] - 24s 88ms/step - loss: 0.0478 - accuracy: 0.9381 - KL_term: 0.0271 - loglikelihood_term: 0.1165 - evidential_success: 46.1814 - evidential_fail: 4.8939 - acc: 0.9380 - annealing_coef: 0.5469 - global_step_get: 2070.0000 - annealing_step_get: 3750.0000 - val_loss: 0.0884 - val_accuracy: 0.8726 - val_KL_term: 0.0737 - val_loglikelihood_term: 0.1879 - val_evidential_success: 34.2937 - val_evidential_fail: 3.3584 - val_acc: 0.8745 - val_annealing_coef: 1.0000 - val_global_step_get: 4140.0000 - val_annealing_step_get: 3750.0000\n",
      "\n",
      "Epoch 00015: val_loss did not improve from 0.05380\n",
      "Epoch 16/100\n",
      "self.global_step 4140.0\n",
      "277/277 [==============================] - 25s 89ms/step - loss: 0.0468 - accuracy: 0.9399 - KL_term: 0.0271 - loglikelihood_term: 0.1133 - evidential_success: 50.5000 - evidential_fail: 4.7642 - acc: 0.9399 - annealing_coef: 0.5751 - global_step_get: 2208.0000 - annealing_step_get: 3750.0000 - val_loss: 0.0690 - val_accuracy: 0.9306 - val_KL_term: 0.0839 - val_loglikelihood_term: 0.1210 - val_evidential_success: 39.9167 - val_evidential_fail: 5.2944 - val_acc: 0.9309 - val_annealing_coef: 1.0000 - val_global_step_get: 4416.0000 - val_annealing_step_get: 3750.0000\n",
      "\n",
      "Epoch 00016: val_loss did not improve from 0.05380\n",
      "Epoch 17/100\n",
      "self.global_step 4416.0\n",
      "277/277 [==============================] - 24s 88ms/step - loss: 0.0463 - accuracy: 0.9409 - KL_term: 0.0270 - loglikelihood_term: 0.1120 - evidential_success: 51.3397 - evidential_fail: 4.4461 - acc: 0.9408 - annealing_coef: 0.6000 - global_step_get: 2346.0000 - annealing_step_get: 3750.0000 - val_loss: 0.0685 - val_accuracy: 0.9321 - val_KL_term: 0.0858 - val_loglikelihood_term: 0.1177 - val_evidential_success: 41.2505 - val_evidential_fail: 5.5679 - val_acc: 0.9325 - val_annealing_coef: 1.0000 - val_global_step_get: 4692.0000 - val_annealing_step_get: 3750.0000\n",
      "\n",
      "Epoch 00017: val_loss did not improve from 0.05380\n",
      "Epoch 18/100\n",
      "self.global_step 4692.0\n",
      "277/277 [==============================] - 24s 88ms/step - loss: 0.0459 - accuracy: 0.9417 - KL_term: 0.0268 - loglikelihood_term: 0.1107 - evidential_success: 52.7053 - evidential_fail: 4.4004 - acc: 0.9418 - annealing_coef: 0.6221 - global_step_get: 2484.0000 - annealing_step_get: 3750.0000 - val_loss: 0.0715 - val_accuracy: 0.9284 - val_KL_term: 0.0902 - val_loglikelihood_term: 0.1221 - val_evidential_success: 43.6446 - val_evidential_fail: 5.7689 - val_acc: 0.9288 - val_annealing_coef: 1.0000 - val_global_step_get: 4968.0000 - val_annealing_step_get: 3750.0000\n",
      "\n",
      "Epoch 00018: val_loss did not improve from 0.05380\n",
      "Epoch 00018: early stopping\n",
      "-5.0 -12.0\n"
     ]
    },
    {
     "name": "stderr",
     "output_type": "stream",
     "text": [
      "ic| self.path_models+ '/' + self.method +'_'+str(0)+'.h5': 'D:/Jorge/datasets/deforestation/experiments/MT/exp183/models/resunet_0.h5'\n"
     ]
    },
    {
     "name": "stdout",
     "output_type": "stream",
     "text": [
      "time:  0\n",
      "(39774655,)\n",
      "(array([0, 1], dtype=uint8), array([39234711,   539944], dtype=int64))\n",
      "(16795, 10420)\n",
      "(array([0., 1.], dtype=float32), array([172893217,   2110683], dtype=int64))\n"
     ]
    },
    {
     "name": "stderr",
     "output_type": "stream",
     "text": [
      "ic| self.predicted_unpad.shape: (16795, 10420)\n",
      "    self.predicted.shape: (16795, 10420)\n",
      "ic| predicted_test.shape: (70001560,)\n",
      "ic| predicted_test.shape: (39774655,)\n",
      "ic| np.unique(predicted, return_counts=True): (array([0., 1.], dtype=float32), array([172893217,   2110683], dtype=int64))\n",
      "    np.unique(predicted_larger_than_min_area, return_counts=True): (array([0., 1.], dtype=float32), array([173020681,   1983219], dtype=int64))\n",
      "ic| np.unique(ignored_polygons, return_counts=True): (array([0., 1.], dtype=float32), array([174876436,    127464], dtype=int64))\n",
      "ic| self.f1: 75.86, self.precision: 70.91, self.recall: 81.55\n",
      "ic| self.label_mask_val.shape: (21000468,)\n",
      "ic| self.label_mask_val_valid.shape: (10891619,)\n",
      "ic| f1_val: 95.43\n",
      "    precision_val: 93.71\n",
      "    recall_val: 97.21\n",
      "    mAP_val: 98.64\n"
     ]
    },
    {
     "name": "stdout",
     "output_type": "stream",
     "text": [
      "(array([0., 1.], dtype=float32), array([174476777,    527123], dtype=int64))\n",
      "[0. 1.]\n"
     ]
    },
    {
     "name": "stderr",
     "output_type": "stream",
     "text": [
      "ic| self.label_mask.shape: (16795, 10420)\n",
      "ic| self.mask_amazon_ts.shape: (16795, 10420)\n",
      "ic| self.label_mask_test.shape: (70001560,)\n",
      "ic| self.error_mask_test.shape: (39723751,)\n",
      "ic| bounds: (0.0015, 0.9985)\n",
      "c:\\Users\\jchamorro\\Anaconda3\\envs\\tf2\\lib\\site-packages\\scipy\\optimize\\_minimize.py:783: RuntimeWarning: Method 'bounded' does not support relative tolerance in x; defaulting to absolute tolerance.\n",
      "  warn(\"Method 'bounded' does not support relative tolerance in x; \"\n"
     ]
    },
    {
     "name": "stdout",
     "output_type": "stream",
     "text": [
      "0.38232011321635484\n",
      "threshold 0.38232011321635484\n",
      "(38449079,) (38449079,)\n"
     ]
    },
    {
     "name": "stderr",
     "output_type": "stream",
     "text": [
      "ic| label_current_deforestation_test_classified_incorrect.shape: (1274672,)\n",
      "    predicted_test_classified_incorrect.shape: (1274672,)\n",
      "ic| TP_H + FN_H + FP_H + TN_H: 1274672\n",
      "    len(label_mask_current_deforestation_test): 39723751\n",
      "ic| TP_H + FN_H + FP_H + TN_H: 1274672\n",
      "    len(label_mask_current_deforestation_test): 39723751\n"
     ]
    },
    {
     "name": "stdout",
     "output_type": "stream",
     "text": [
      "cm_correct [[37892173   126438]\n",
      " [   38214   392254]]\n",
      "cm_incorrect [[1128437   49816]\n",
      " [  58982   37437]]\n",
      "[0.75623684 0.91122685 0.74447462 0.03208841 0.42906261 0.3882741 ]\n",
      "0.6176798867836452\n",
      "threshold 0.6176798867836452\n",
      "(39179542,) (39179542,)\n"
     ]
    },
    {
     "name": "stderr",
     "output_type": "stream",
     "text": [
      "ic| label_current_deforestation_test_classified_incorrect.shape: (544209,)\n",
      "    predicted_test_classified_incorrect.shape: (544209,)\n",
      "ic| TP_H + FN_H + FP_H + TN_H: 544209\n",
      "    len(label_mask_current_deforestation_test): 39723751\n",
      "ic| TP_H + FN_H + FP_H + TN_H: 544209\n",
      "    len(label_mask_current_deforestation_test): 39723751\n"
     ]
    },
    {
     "name": "stdout",
     "output_type": "stream",
     "text": [
      "cm_correct [[38545722   161831]\n",
      " [   51011   420978]]\n",
      "cm_incorrect [[474888  14423]\n",
      " [ 46185   8713]]\n",
      "[0.72232584 0.89192333 0.79899106 0.01369984 0.37659924 0.15871252]\n",
      "0.23685977356729035\n",
      "threshold 0.23685977356729035\n",
      "(37129599,) (37129599,)\n"
     ]
    },
    {
     "name": "stderr",
     "output_type": "stream",
     "text": [
      "ic| label_current_deforestation_test_classified_incorrect.shape: (2594152,)\n",
      "    predicted_test_classified_incorrect.shape: (2594152,)\n"
     ]
    },
    {
     "name": "stdout",
     "output_type": "stream",
     "text": [
      "cm_correct [[36673220    83582]\n",
      " [   28129   344668]]\n"
     ]
    },
    {
     "name": "stderr",
     "output_type": "stream",
     "text": [
      "ic| TP_H + FN_H + FP_H + TN_H: 2594152\n",
      "    len(label_mask_current_deforestation_test): 39723751\n",
      "ic| TP_H + FN_H + FP_H + TN_H: 2594152\n",
      "    len(label_mask_current_deforestation_test): 39723751\n"
     ]
    },
    {
     "name": "stdout",
     "output_type": "stream",
     "text": [
      "cm_incorrect [[2347390   92672]\n",
      " [  69067   85023]]\n",
      "[0.80482896 0.92454607 0.65415924 0.06530481 0.47847717 0.55177494]\n",
      "0.4601798237152817\n",
      "threshold 0.4601798237152817\n",
      "(38759979,) (38759979,)\n"
     ]
    },
    {
     "name": "stderr",
     "output_type": "stream",
     "text": [
      "ic| label_current_deforestation_test_classified_incorrect.shape: (963772,)\n",
      "    predicted_test_classified_incorrect.shape: (963772,)\n",
      "ic| TP_H + FN_H + FP_H + TN_H: 963772\n",
      "    len(label_mask_current_deforestation_test): 39723751\n",
      "ic| TP_H + FN_H + FP_H + TN_H: 963772\n",
      "    len(label_mask_current_deforestation_test): 39723751\n"
     ]
    },
    {
     "name": "stdout",
     "output_type": "stream",
     "text": [
      "cm_correct [[38172581   140500]\n",
      " [   42056   404842]]\n",
      "cm_incorrect [[848029  35754]\n",
      " [ 55140  24849]]\n",
      "[0.74236351 0.90589351 0.76836589 0.02426186 0.41002921 0.31065522]\n",
      "0.3267592074855162\n",
      "threshold 0.3267592074855162\n",
      "(38138403,) (38138403,)\n"
     ]
    },
    {
     "name": "stderr",
     "output_type": "stream",
     "text": [
      "ic| label_current_deforestation_test_classified_incorrect.shape: (1585348,)\n",
      "    predicted_test_classified_incorrect.shape: (1585348,)\n",
      "ic"
     ]
    },
    {
     "name": "stdout",
     "output_type": "stream",
     "text": [
      "cm_correct [[37610666   113477]\n",
      " [   35216   379044]]\n",
      "cm_incorrect [[1409944   62777]\n",
      " [  61980   50647]]\n"
     ]
    },
    {
     "name": "stderr",
     "output_type": "stream",
     "text": [
      "| TP_H + FN_H + FP_H + TN_H: 1585348\n",
      "    len(label_mask_current_deforestation_test): 39723751\n",
      "ic| TP_H + FN_H + FP_H + TN_H: 1585348\n",
      "    len(label_mask_current_deforestation_test): 39723751\n"
     ]
    },
    {
     "name": "stdout",
     "output_type": "stream",
     "text": [
      "[0.76959967 0.91499059 0.71940283 0.03990932 0.44652807 0.44968791]\n",
      "0.4045844460560735\n",
      "threshold 0.4045844460560735\n",
      "(38548233,) (38548233,)\n"
     ]
    },
    {
     "name": "stderr",
     "output_type": "stream",
     "text": [
      "ic| label_current_deforestation_test_classified_incorrect.shape: (1175518,)\n",
      "    predicted_test_classified_incorrect.shape: (1175518,)\n",
      "ic| TP_H + FN_H + FP_H + TN_H: 1175518\n",
      "    len(label_mask_current_deforestation_test): 39723751\n",
      "ic| TP_H + FN_H + FP_H + TN_H: 1175518\n",
      "    len(label_mask_current_deforestation_test): 39723751\n"
     ]
    },
    {
     "name": "stdout",
     "output_type": "stream",
     "text": [
      "cm_correct [[37981871   130816]\n",
      " [   39309   396237]]\n",
      "cm_incorrect [[1038739   45438]\n",
      " [  57887   33454]]\n",
      "[0.75179726 0.90974776 0.75203412 0.02959232 0.42404807 0.36625393]\n",
      "0.4106012437444166\n",
      "threshold 0.4106012437444166\n",
      "(38573562,) (38573562,)\n"
     ]
    },
    {
     "name": "stderr",
     "output_type": "stream",
     "text": [
      "ic| label_current_deforestation_test_classified_incorrect.shape: (1150189,)\n",
      "    predicted_test_classified_incorrect.shape: (1150189,)\n",
      "ic| TP_H + FN_H + FP_H + TN_H: 1150189\n",
      "    len(label_mask_current_deforestation_test): 39723751\n",
      "ic| TP_H + FN_H + FP_H + TN_H: 1150189\n",
      "    len(label_mask_current_deforestation_test): 39723751\n"
     ]
    },
    {
     "name": "stdout",
     "output_type": "stream",
     "text": [
      "cm_correct [[38004660   131982]\n",
      " [   39603   397317]]\n",
      "cm_incorrect [[1015950   44272]\n",
      " [  57593   32374]]\n",
      "[0.75064755 0.90935869 0.75408389 0.02895469 0.42238343 0.35984305]\n",
      "0.3993347995461928\n",
      "threshold 0.3993347995461928\n",
      "(38525877,) (38525877,)\n"
     ]
    },
    {
     "name": "stderr",
     "output_type": "stream",
     "text": [
      "ic| label_current_deforestation_test_classified_incorrect.shape: (1197874,)\n",
      "    predicted_test_classified_incorrect.shape: (1197874,)\n",
      "ic| TP_H + FN_H + FP_H + TN_H: 1197874\n",
      "    len(label_mask_current_deforestation_test): 39723751\n",
      "ic| TP_H + FN_H + FP_H + TN_H: 1197874\n",
      "    len(label_mask_current_deforestation_test): 39723751\n"
     ]
    },
    {
     "name": "stdout",
     "output_type": "stream",
     "text": [
      "cm_correct [[37961717   129810]\n",
      " [   39049   395301]]\n",
      "cm_incorrect [[1058893   46444]\n",
      " [  58147   34390]]\n",
      "[0.75279512 0.91009785 0.75025765 0.03015511 0.42543979 0.37163513]\n",
      "0.3972756898267053\n",
      "threshold 0.3972756898267053\n",
      "(38516822,) (38516822,)\n"
     ]
    },
    {
     "name": "stderr",
     "output_type": "stream",
     "text": [
      "ic| label_current_deforestation_test_classified_incorrect.shape: (1206929,)\n",
      "    predicted_test_classified_incorrect.shape: (1206929,)\n",
      "ic| TP_H + FN_H + FP_H + TN_H: 1206929\n",
      "    len(label_mask_current_deforestation_test): 39723751\n",
      "ic| TP_H + FN_H + FP_H + TN_H: 1206929\n",
      "    len(label_mask_current_deforestation_test): 39723751\n"
     ]
    },
    {
     "name": "stdout",
     "output_type": "stream",
     "text": [
      "cm_correct [[37953525   129384]\n",
      " [   38939   394974]]\n",
      "cm_incorrect [[1067085   46870]\n",
      " [  58257   34717]]\n",
      "[0.75325255 0.91026081 0.74963702 0.03038306 0.42552122 0.37340547]\n",
      "0.40085255141599\n",
      "threshold 0.40085255141599\n",
      "(38532429,) (38532429,)\n"
     ]
    },
    {
     "name": "stderr",
     "output_type": "stream",
     "text": [
      "ic| label_current_deforestation_test_classified_incorrect.shape: (1191322,)\n",
      "    predicted_test_classified_incorrect.shape: (1191322,)\n",
      "ic| TP_H + FN_H + FP_H + TN_H: 1191322\n",
      "    len(label_mask_current_deforestation_test): 39723751\n",
      "ic| TP_H + FN_H + FP_H + TN_H: 1191322\n",
      "    len(label_mask_current_deforestation_test): 39723751\n"
     ]
    },
    {
     "name": "stdout",
     "output_type": "stream",
     "text": [
      "cm_correct [[37967618   130120]\n",
      " [   39124   395567]]\n",
      "cm_incorrect [[1052992   46134]\n",
      " [  58072   34124]]\n",
      "[0.75247628 0.90999584 0.7507625  0.02999017 0.4251788  0.37012452]\n",
      "0.40227800832606836\n",
      "threshold 0.40227800832606836\n",
      "(38538517,) (38538517,)\n"
     ]
    },
    {
     "name": "stderr",
     "output_type": "stream",
     "text": [
      "ic| label_current_deforestation_test_classified_incorrect.shape: (1185234,)\n",
      "    predicted_test_classified_incorrect.shape: (1185234,)\n",
      "ic| TP_H + FN_H + FP_H + TN_H: 1185234\n",
      "    len(label_mask_current_deforestation_test): 39723751\n",
      "ic| TP_H + FN_H + FP_H + TN_H: 1185234\n",
      "    len(label_mask_current_deforestation_test): 39723751\n"
     ]
    },
    {
     "name": "stdout",
     "output_type": "stream",
     "text": [
      "cm_correct [[37973121   130390]\n",
      " [   39199   395807]]\n",
      "cm_incorrect [[1047489   45864]\n",
      " [  57997   33884]]\n",
      "[0.75220307 0.9098886  0.751218   0.02983691 0.4248884  0.36878136]\n",
      "0.4007867673755218\n",
      "threshold 0.4007867673755218\n",
      "(38532151,) (38532151,)\n"
     ]
    },
    {
     "name": "stderr",
     "output_type": "stream",
     "text": [
      "ic| label_current_deforestation_test_classified_incorrect.shape: (1191600,)\n",
      "    predicted_test_classified_incorrect.shape: (1191600,)\n",
      "ic| TP_H + FN_H + FP_H + TN_H: 1191600\n",
      "    len(label_mask_current_deforestation_test): 39723751\n",
      "ic| TP_H + FN_H + FP_H + TN_H: 1191600\n",
      "    len(label_mask_current_deforestation_test): 39723751\n"
     ]
    },
    {
     "name": "stdout",
     "output_type": "stream",
     "text": [
      "cm_correct [[37967368   130105]\n",
      " [   39120   395558]]\n",
      "cm_incorrect [[1053242   46149]\n",
      " [  58076   34133]]\n",
      "[0.75249352 0.91000235 0.75074542 0.02999717 0.4251638  0.37016994]\n",
      "0.4004375121808628\n",
      "threshold 0.4004375121808628\n",
      "(38530640,) (38530640,)\n"
     ]
    },
    {
     "name": "stderr",
     "output_type": "stream",
     "text": [
      "ic| label_current_deforestation_test_classified_incorrect.shape: (1193111,)\n",
      "    predicted_test_classified_incorrect.shape: (1193111,)\n",
      "ic| TP_H + FN_H + FP_H + TN_H: 1193111\n",
      "    len(label_mask_current_deforestation_test): 39723751\n",
      "ic| TP_H + FN_H + FP_H + TN_H: 1193111\n",
      "    len(label_mask_current_deforestation_test): 39723751\n"
     ]
    },
    {
     "name": "stdout",
     "output_type": "stream",
     "text": [
      "cm_correct [[37965992   130038]\n",
      " [   39104   395506]]\n",
      "cm_incorrect [[1054618   46216]\n",
      " [  58092   34185]]\n",
      "[0.75256496 0.91002508 0.75064672 0.0300352  0.42518128 0.37046068]\n",
      "0.4006533637619095\n",
      "threshold 0.4006533637619095\n",
      "(38531553,) (38531553,)\n"
     ]
    },
    {
     "name": "stderr",
     "output_type": "stream",
     "text": [
      "ic| label_current_deforestation_test_classified_incorrect.shape: (1192198,)\n",
      "    predicted_test_classified_incorrect.shape: (1192198,)\n",
      "ic| TP_H + FN_H + FP_H + TN_H: 1192198\n",
      "    len(label_mask_current_deforestation_test): 39723751\n",
      "ic| TP_H + FN_H + FP_H + TN_H: 1192198\n",
      "    len(label_mask_current_deforestation_test): 39723751\n"
     ]
    },
    {
     "name": "stdout",
     "output_type": "stream",
     "text": [
      "cm_correct [[37966831   130073]\n",
      " [   39115   395534]]\n",
      "cm_incorrect [[1053779   46181]\n",
      " [  58081   34157]]\n",
      "[0.75252803 0.91000785 0.75069987 0.03001222 0.42516617 0.37031375]\n",
      "0.40075342809756004\n",
      "threshold 0.40075342809756004\n",
      "(38531996,) (38531996,)\n"
     ]
    },
    {
     "name": "stderr",
     "output_type": "stream",
     "text": [
      "ic| label_current_deforestation_test_classified_incorrect.shape: (1191755,)\n",
      "    predicted_test_classified_incorrect.shape: (1191755,)\n",
      "ic| TP_H + FN_H + FP_H + TN_H: 1191755\n",
      "    len(label_mask_current_deforestation_test): 39723751\n",
      "ic| TP_H + FN_H + FP_H + TN_H: 1191755\n",
      "    len(label_mask_current_deforestation_test): 39723751\n"
     ]
    },
    {
     "name": "stdout",
     "output_type": "stream",
     "text": [
      "cm_correct [[37967228   130100]\n",
      " [   39117   395551]]\n",
      "cm_incorrect [[1053382   46154]\n",
      " [  58079   34140]]\n",
      "[0.75249738 0.91000718 0.75073213 0.03000107 0.42518744 0.37020571]\n",
      "0.40072008882009275\n",
      "threshold 0.40072008882009275\n",
      "(38531853,) (38531853,)\n"
     ]
    },
    {
     "name": "stderr",
     "output_type": "stream",
     "text": [
      "ic| label_current_deforestation_test_classified_incorrect.shape: (1191898,)\n",
      "    predicted_test_classified_incorrect.shape: (1191898,)\n",
      "ic| TP_H + FN_H + FP_H + TN_H: 1191898\n",
      "    len(label_mask_current_deforestation_test): 39723751\n",
      "ic| TP_H + FN_H + FP_H + TN_H: 1191898\n",
      "    len(label_mask_current_deforestation_test): 39723751\n",
      "ic| self.threshold_optimal: 0.40075342809756004\n"
     ]
    },
    {
     "name": "stdout",
     "output_type": "stream",
     "text": [
      "cm_correct [[37967098   130093]\n",
      " [   39115   395547]]\n",
      "cm_incorrect [[1053512   46161]\n",
      " [  58081   34144]]\n",
      "[0.75250552 0.91001054 0.75072454 0.03000467 0.42517901 0.37022499]\n",
      "threshold 0.40075342809756004\n",
      "(38531996,) (38531996,)\n"
     ]
    },
    {
     "name": "stderr",
     "output_type": "stream",
     "text": [
      "ic| label_current_deforestation_test_classified_incorrect.shape: (1191755,)\n",
      "    predicted_test_classified_incorrect.shape: (1191755,)\n",
      "ic| TP_H + FN_H + FP_H + TN_H: 1191755\n",
      "    len(label_mask_current_deforestation_test): 39723751\n",
      "ic| TP_H + FN_H + FP_H + TN_H: 1191755\n",
      "    len(label_mask_current_deforestation_test): 39723751\n"
     ]
    },
    {
     "name": "stdout",
     "output_type": "stream",
     "text": [
      "cm_correct [[37967228   130100]\n",
      " [   39117   395551]]\n",
      "cm_incorrect [[1053382   46154]\n",
      " [  58079   34140]]\n",
      "[0.75249738 0.91000718 0.75073213 0.03000107 0.42518744 0.37020571]\n",
      "threshold 0.40075342809756004\n",
      "(39723751,) (39723751,)\n"
     ]
    },
    {
     "name": "stderr",
     "output_type": "stream",
     "text": [
      "ic| self.m_optimal: {'AA': array([0.03000107]),\n",
      "                     'f1': 75.86,\n",
      "                     'f1_H': array([0.39579626]),\n",
      "                     'f1_L': array([0.82379084]),\n",
      "                     'precision_H': array([0.42518744]),\n",
      "                     'precision_L': array([0.75249738]),\n",
      "                     'recall_H': array([0.37020571]),\n",
      "                     'recall_L': array([0.91000718]),\n",
      "                     'recall_Ltotal': array([0.75073213])}\n",
      "ic| self.m_audited_optimal: {'f1': array([0.85218086]),\n",
      "                             'precision': array([0.78943791]),\n",
      "                             'recall': array([0.92575827])}\n"
     ]
    },
    {
     "name": "stdout",
     "output_type": "stream",
     "text": [
      "cm_audited [[39066764   130100]\n",
      " [   39117   487770]]\n",
      "[0.78943791 0.92575827]\n",
      "D:/Jorge/datasets/deforestation/MT/deforestation_past_years.tif\n",
      "Loaded deforestation past years\n"
     ]
    },
    {
     "name": "stderr",
     "output_type": "stream",
     "text": [
      "ic| np.unique(deforestation_past_years, return_counts=True): (array([   0, 2008, 2009, 2010, 2011, 2012, 2013, 2014, 2015, 2016, 2017,\n",
      "                                                                    2018, 2019, 2020, 2021], dtype=uint16),\n",
      "                                                              array([161124576,   1332784,    240796,    338545,    313901,    287191,\n",
      "                                                                       708581,    648966,    876898,   1007787,   1098901,   1054092,\n",
      "                                                                      2096062,   2473828,   1400992], dtype=int64))\n"
     ]
    },
    {
     "name": "stdout",
     "output_type": "stream",
     "text": [
      "Label where deforestation past years is actual date (2019) = 1\n"
     ]
    },
    {
     "name": "stderr",
     "output_type": "stream",
     "text": [
      "ic| np.unique(deforestation_past_years, return_counts=True): (array([   0, 2008, 2009, 2010, 2011, 2012, 2013, 2014, 2015, 2016, 2017,\n",
      "                                                                    2018, 2019, 2020, 2021], dtype=uint16),\n",
      "                                                              array([161124576,   1332784,    240796,    338545,    313901,    287191,\n",
      "                                                                       708581,    648966,    876898,   1007787,   1098901,   1054092,\n",
      "                                                                      2096062,   2473828,   1400992], dtype=int64))\n"
     ]
    },
    {
     "name": "stdout",
     "output_type": "stream",
     "text": [
      "Past deforestation different from 0 (no deforestation)\n"
     ]
    },
    {
     "name": "stderr",
     "output_type": "stream",
     "text": [
      "ic| np.unique(deforestation_past_years, return_counts=True): (array([   0, 2008, 2009, 2010, 2011, 2012, 2013, 2014, 2015, 2016, 2017,\n",
      "                                                                    2018, 2019, 2020, 2021], dtype=uint16),\n",
      "                                                              array([161124576,   1332784,    240796,    338545,    313901,    287191,\n",
      "                                                                       708581,    648966,    876898,   1007787,   1098901,   1054092,\n",
      "                                                                      2096062,   2473828,   1400992], dtype=int64))\n"
     ]
    },
    {
     "name": "stdout",
     "output_type": "stream",
     "text": [
      "Past deforestation before 2008 is 2\n",
      "D:/Jorge/datasets/deforestation/MT/deforestation_before_2008/deforestation_before_2008_MT.tif\n"
     ]
    },
    {
     "name": "stderr",
     "output_type": "stream",
     "text": [
      "ic| np.unique(label_past_deforestation_before_2008, return_counts=True): (array([  0, 215], dtype=uint8), array([122623260,  52380640], dtype=int64))\n",
      "ic| np.unique(deforestation_past_years, return_counts=True): (array([   0, 2008, 2009, 2010, 2011, 2012, 2013, 2014, 2015, 2016, 2017,\n",
      "                                                                    2018, 2019, 2020, 2021], dtype=uint16),\n",
      "                                                              array([161124576,   1332784,    240796,    338545,    313901,    287191,\n",
      "                                                                       708581,    648966,    876898,   1007787,   1098901,   1054092,\n",
      "                                                                      2096062,   2473828,   1400992], dtype=int64))\n",
      "ic| label_per_date.shape: (16795, 10420, 1)\n"
     ]
    },
    {
     "name": "stdout",
     "output_type": "stream",
     "text": [
      "Mask label shape:  \n",
      " (16795, 10420, 1) \n",
      " Unique values:  \n",
      " [0 1 2]\n",
      "Tiles size:  3359 2084\n",
      "Mask size:  (16795, 10420)\n"
     ]
    },
    {
     "name": "stderr",
     "output_type": "stream",
     "text": [
      "ic| image_stack.shape: (16795, 10420, 21)\n"
     ]
    },
    {
     "name": "stdout",
     "output_type": "stream",
     "text": [
      "Image shape:  (16795, 10420, 21)\n",
      "mask:  (16795, 10420)\n",
      "image stack:  (16795, 10420, 21)\n",
      "ref : (16795, 10420, 1)\n",
      "Training tiles:  [2, 4, 5, 6, 7, 12, 14, 15, 18, 21, 23, 24]\n",
      "Validation tiles:  [9, 11, 25]\n",
      "Test tiles:  [1, 3, 8, 10, 13, 16, 17, 19, 20, 22]\n"
     ]
    },
    {
     "name": "stderr",
     "output_type": "stream",
     "text": [
      "ic| im_idx_row.shape: (16795, 10420, 1)\n",
      "    im_idx_col.shape: (16795, 10420, 1)\n",
      "ic| im_idx_row.dtype: dtype('uint16')\n",
      "    im_idx_col.dtype: dtype('uint16')\n",
      "ic| im_idx.shape: (16795, 10420, 2), im_idx.dtype: dtype('uint16')\n",
      "ic| coords.shape: (439, 271, 1, 128, 128, 2)\n",
      "    coords.dtype: dtype('uint16')\n",
      "ic| coords.shape: (118969, 2), coords.dtype: dtype('uint16')\n",
      "ic| self.coords_train.shape: (54516, 3)\n",
      "    self.coords_val.shape: (13175, 3)\n"
     ]
    },
    {
     "name": "stdout",
     "output_type": "stream",
     "text": [
      "training samples:  (2962, 3) validation samples:  (623, 3)\n",
      "time:  0\n"
     ]
    },
    {
     "name": "stderr",
     "output_type": "stream",
     "text": [
      "c:\\Users\\jchamorro\\Anaconda3\\envs\\tf2\\lib\\site-packages\\tensorflow\\python\\keras\\optimizer_v2\\optimizer_v2.py:374: UserWarning: The `lr` argument is deprecated, use `learning_rate` instead.\n",
      "  warnings.warn(\n"
     ]
    },
    {
     "name": "stdout",
     "output_type": "stream",
     "text": [
      "Model: \"model_18\"\n",
      "__________________________________________________________________________________________________\n",
      "Layer (type)                    Output Shape         Param #     Connected to                     \n",
      "==================================================================================================\n",
      "input_enc_net (InputLayer)      [(None, 128, 128, 21 0                                            \n",
      "__________________________________________________________________________________________________\n",
      "res1_net1 (Conv2D)              (None, 128, 128, 16) 3040        input_enc_net[0][0]              \n",
      "__________________________________________________________________________________________________\n",
      "drop_net1 (Dropout)             (None, 128, 128, 16) 0           res1_net1[0][0]                  \n",
      "__________________________________________________________________________________________________\n",
      "res2_net1 (Conv2D)              (None, 128, 128, 16) 2320        drop_net1[0][0]                  \n",
      "__________________________________________________________________________________________________\n",
      "res3_net1 (Conv2D)              (None, 128, 128, 16) 352         input_enc_net[0][0]              \n",
      "__________________________________________________________________________________________________\n",
      "add_108 (Add)                   (None, 128, 128, 16) 0           res2_net1[0][0]                  \n",
      "                                                                 res3_net1[0][0]                  \n",
      "__________________________________________________________________________________________________\n",
      "pool_net1 (MaxPooling2D)        (None, 64, 64, 16)   0           add_108[0][0]                    \n",
      "__________________________________________________________________________________________________\n",
      "res1_net2 (Conv2D)              (None, 64, 64, 32)   4640        pool_net1[0][0]                  \n",
      "__________________________________________________________________________________________________\n",
      "drop_net2 (Dropout)             (None, 64, 64, 32)   0           res1_net2[0][0]                  \n",
      "__________________________________________________________________________________________________\n",
      "res2_net2 (Conv2D)              (None, 64, 64, 32)   9248        drop_net2[0][0]                  \n",
      "__________________________________________________________________________________________________\n",
      "res3_net2 (Conv2D)              (None, 64, 64, 32)   544         pool_net1[0][0]                  \n",
      "__________________________________________________________________________________________________\n",
      "add_109 (Add)                   (None, 64, 64, 32)   0           res2_net2[0][0]                  \n",
      "                                                                 res3_net2[0][0]                  \n",
      "__________________________________________________________________________________________________\n",
      "pool_net2 (MaxPooling2D)        (None, 32, 32, 32)   0           add_109[0][0]                    \n",
      "__________________________________________________________________________________________________\n",
      "res1_net3 (Conv2D)              (None, 32, 32, 64)   18496       pool_net2[0][0]                  \n",
      "__________________________________________________________________________________________________\n",
      "drop_net3 (Dropout)             (None, 32, 32, 64)   0           res1_net3[0][0]                  \n",
      "__________________________________________________________________________________________________\n",
      "res2_net3 (Conv2D)              (None, 32, 32, 64)   36928       drop_net3[0][0]                  \n",
      "__________________________________________________________________________________________________\n",
      "res3_net3 (Conv2D)              (None, 32, 32, 64)   2112        pool_net2[0][0]                  \n",
      "__________________________________________________________________________________________________\n",
      "add_110 (Add)                   (None, 32, 32, 64)   0           res2_net3[0][0]                  \n",
      "                                                                 res3_net3[0][0]                  \n",
      "__________________________________________________________________________________________________\n",
      "pool_net3 (MaxPooling2D)        (None, 16, 16, 64)   0           add_110[0][0]                    \n",
      "__________________________________________________________________________________________________\n",
      "res1_net4 (Conv2D)              (None, 16, 16, 64)   36928       pool_net3[0][0]                  \n",
      "__________________________________________________________________________________________________\n",
      "drop_net4 (Dropout)             (None, 16, 16, 64)   0           res1_net4[0][0]                  \n",
      "__________________________________________________________________________________________________\n",
      "res2_net4 (Conv2D)              (None, 16, 16, 64)   36928       drop_net4[0][0]                  \n",
      "__________________________________________________________________________________________________\n",
      "res3_net4 (Conv2D)              (None, 16, 16, 64)   4160        pool_net3[0][0]                  \n",
      "__________________________________________________________________________________________________\n",
      "add_111 (Add)                   (None, 16, 16, 64)   0           res2_net4[0][0]                  \n",
      "                                                                 res3_net4[0][0]                  \n",
      "__________________________________________________________________________________________________\n",
      "res1_net5 (Conv2D)              (None, 16, 16, 64)   36928       add_111[0][0]                    \n",
      "__________________________________________________________________________________________________\n",
      "drop_net5 (Dropout)             (None, 16, 16, 64)   0           res1_net5[0][0]                  \n",
      "__________________________________________________________________________________________________\n",
      "res2_net5 (Conv2D)              (None, 16, 16, 64)   36928       drop_net5[0][0]                  \n",
      "__________________________________________________________________________________________________\n",
      "res3_net5 (Conv2D)              (None, 16, 16, 64)   4160        add_111[0][0]                    \n",
      "__________________________________________________________________________________________________\n",
      "add_112 (Add)                   (None, 16, 16, 64)   0           res2_net5[0][0]                  \n",
      "                                                                 res3_net5[0][0]                  \n",
      "__________________________________________________________________________________________________\n",
      "res1_net6 (Conv2D)              (None, 16, 16, 64)   36928       add_112[0][0]                    \n",
      "__________________________________________________________________________________________________\n",
      "drop_net6 (Dropout)             (None, 16, 16, 64)   0           res1_net6[0][0]                  \n",
      "__________________________________________________________________________________________________\n",
      "res2_net6 (Conv2D)              (None, 16, 16, 64)   36928       drop_net6[0][0]                  \n",
      "__________________________________________________________________________________________________\n",
      "res3_net6 (Conv2D)              (None, 16, 16, 64)   4160        add_112[0][0]                    \n",
      "__________________________________________________________________________________________________\n",
      "add_113 (Add)                   (None, 16, 16, 64)   0           res2_net6[0][0]                  \n",
      "                                                                 res3_net6[0][0]                  \n",
      "__________________________________________________________________________________________________\n",
      "up_sampling2d_54 (UpSampling2D) (None, 32, 32, 64)   0           add_113[0][0]                    \n",
      "__________________________________________________________________________________________________\n",
      "upsampling_net3 (Conv2D)        (None, 32, 32, 64)   36928       up_sampling2d_54[0][0]           \n",
      "__________________________________________________________________________________________________\n",
      "concatenate3 (Concatenate)      (None, 32, 32, 128)  0           add_110[0][0]                    \n",
      "                                                                 upsampling_net3[0][0]            \n",
      "__________________________________________________________________________________________________\n",
      "up_sampling2d_55 (UpSampling2D) (None, 64, 64, 128)  0           concatenate3[0][0]               \n",
      "__________________________________________________________________________________________________\n",
      "upsampling_net2 (Conv2D)        (None, 64, 64, 32)   36896       up_sampling2d_55[0][0]           \n",
      "__________________________________________________________________________________________________\n",
      "concatenate2 (Concatenate)      (None, 64, 64, 64)   0           add_109[0][0]                    \n",
      "                                                                 upsampling_net2[0][0]            \n",
      "__________________________________________________________________________________________________\n",
      "up_sampling2d_56 (UpSampling2D) (None, 128, 128, 64) 0           concatenate2[0][0]               \n",
      "__________________________________________________________________________________________________\n",
      "upsampling_net1 (Conv2D)        (None, 128, 128, 16) 9232        up_sampling2d_56[0][0]           \n",
      "__________________________________________________________________________________________________\n",
      "concatenate1 (Concatenate)      (None, 128, 128, 32) 0           add_108[0][0]                    \n",
      "                                                                 upsampling_net1[0][0]            \n",
      "__________________________________________________________________________________________________\n",
      "output (Conv2D)                 (None, 128, 128, 3)  99          concatenate1[0][0]               \n",
      "==================================================================================================\n",
      "Total params: 394,883\n",
      "Trainable params: 394,883\n",
      "Non-trainable params: 0\n",
      "__________________________________________________________________________________________________\n",
      "Epoch 1/100\n",
      "self.global_step 0.0\n"
     ]
    },
    {
     "name": "stderr",
     "output_type": "stream",
     "text": [
      "c:\\Users\\jchamorro\\Anaconda3\\envs\\tf2\\lib\\site-packages\\tensorflow\\python\\keras\\engine\\training.py:1969: UserWarning: `Model.fit_generator` is deprecated and will be removed in a future version. Please use `Model.fit`, which supports generators.\n",
      "  warnings.warn('`Model.fit_generator` is deprecated and '\n"
     ]
    },
    {
     "name": "stdout",
     "output_type": "stream",
     "text": [
      "alpha Tensor(\"loss/add:0\", shape=(None, 128, 128, 3), dtype=float32)\n",
      "u Tensor(\"loss/truediv:0\", shape=(None, 128, 128, 1), dtype=float32)\n",
      "alpha Tensor(\"add:0\", shape=(None, 128, 128, 3), dtype=float32)\n",
      "u Tensor(\"truediv:0\", shape=(None, 128, 128, 1), dtype=float32)\n",
      "K.int_shape(KL_reg) Tensor(\"mul_6:0\", shape=(None, 128, 128, 1), dtype=float32)\n",
      "alpha Tensor(\"add_7:0\", shape=(None, 128, 128, 3), dtype=float32)\n",
      "u Tensor(\"truediv_5:0\", shape=(None, 128, 128, 1), dtype=float32)\n",
      "K.int_shape(KL_reg) Tensor(\"mul_12:0\", shape=(None, 128, 128, 1), dtype=float32)\n",
      "alpha Tensor(\"loss/add:0\", shape=(None, 128, 128, 3), dtype=float32)\n",
      "u Tensor(\"loss/truediv:0\", shape=(None, 128, 128, 1), dtype=float32)\n",
      "alpha Tensor(\"add:0\", shape=(None, 128, 128, 3), dtype=float32)\n",
      "u Tensor(\"truediv:0\", shape=(None, 128, 128, 1), dtype=float32)\n",
      "K.int_shape(KL_reg) Tensor(\"mul_6:0\", shape=(None, 128, 128, 1), dtype=float32)\n",
      "alpha Tensor(\"add_7:0\", shape=(None, 128, 128, 3), dtype=float32)\n",
      "u Tensor(\"truediv_5:0\", shape=(None, 128, 128, 1), dtype=float32)\n",
      "K.int_shape(KL_reg) Tensor(\"mul_12:0\", shape=(None, 128, 128, 1), dtype=float32)\n",
      "277/277 [==============================] - ETA: 0s - loss: 0.1549 - accuracy: 0.7111 - KL_term: 0.0135 - loglikelihood_term: 0.4514 - evidential_success: 12.8763 - evidential_fail: 7.6566 - acc: 0.7110 - annealing_coef: 0.0368 - global_step_get: 138.0000 - annealing_step_get: 3750.0000alpha Tensor(\"loss/add:0\", shape=(None, 128, 128, 3), dtype=float32)\n",
      "u Tensor(\"loss/truediv:0\", shape=(None, 128, 128, 1), dtype=float32)\n",
      "alpha Tensor(\"add:0\", shape=(None, 128, 128, 3), dtype=float32)\n",
      "u Tensor(\"truediv:0\", shape=(None, 128, 128, 1), dtype=float32)\n",
      "K.int_shape(KL_reg) Tensor(\"mul_6:0\", shape=(None, 128, 128, 1), dtype=float32)\n",
      "alpha Tensor(\"add_7:0\", shape=(None, 128, 128, 3), dtype=float32)\n",
      "u Tensor(\"truediv_5:0\", shape=(None, 128, 128, 1), dtype=float32)\n",
      "K.int_shape(KL_reg) Tensor(\"mul_12:0\", shape=(None, 128, 128, 1), dtype=float32)\n",
      "277/277 [==============================] - 28s 87ms/step - loss: 0.1549 - accuracy: 0.7111 - KL_term: 0.0135 - loglikelihood_term: 0.4514 - evidential_success: 12.8763 - evidential_fail: 7.6566 - acc: 0.7110 - annealing_coef: 0.0368 - global_step_get: 138.0000 - annealing_step_get: 3750.0000 - val_loss: 0.0702 - val_accuracy: 0.9001 - val_KL_term: 0.0098 - val_loglikelihood_term: 0.2005 - val_evidential_success: 11.8876 - val_evidential_fail: 5.2734 - val_acc: 0.9003 - val_annealing_coef: 0.0736 - val_global_step_get: 276.0000 - val_annealing_step_get: 3750.0000\n",
      "\n",
      "Epoch 00001: val_loss improved from inf to 0.07018, saving model to D:/Jorge/datasets/deforestation/experiments/MT/exp184/models\\resunet_0.h5\n"
     ]
    },
    {
     "name": "stderr",
     "output_type": "stream",
     "text": [
      "c:\\Users\\jchamorro\\Anaconda3\\envs\\tf2\\lib\\site-packages\\tensorflow\\python\\keras\\utils\\generic_utils.py:494: CustomMaskWarning: Custom mask layers require a config and must override get_config. When loading, the custom mask layer must be passed to the custom_objects argument.\n",
      "  warnings.warn('Custom mask layers require a config and must override '\n"
     ]
    },
    {
     "name": "stdout",
     "output_type": "stream",
     "text": [
      "Epoch 2/100\n",
      "self.global_step 276.0\n",
      "277/277 [==============================] - 23s 84ms/step - loss: 0.0705 - accuracy: 0.8878 - KL_term: 0.0203 - loglikelihood_term: 0.1911 - evidential_success: 26.6303 - evidential_fail: 13.8130 - acc: 0.8879 - annealing_coef: 0.0736 - global_step_get: 276.0000 - annealing_step_get: 3750.0000 - val_loss: 0.0641 - val_accuracy: 0.9117 - val_KL_term: 0.0182 - val_loglikelihood_term: 0.1741 - val_evidential_success: 13.3448 - val_evidential_fail: 5.4896 - val_acc: 0.9117 - val_annealing_coef: 0.1472 - val_global_step_get: 552.0000 - val_annealing_step_get: 3750.0000\n",
      "\n",
      "Epoch 00002: val_loss improved from 0.07018 to 0.06408, saving model to D:/Jorge/datasets/deforestation/experiments/MT/exp184/models\\resunet_0.h5\n",
      "Epoch 3/100\n",
      "self.global_step 552.0\n",
      "277/277 [==============================] - 23s 84ms/step - loss: 0.0641 - accuracy: 0.9023 - KL_term: 0.0217 - loglikelihood_term: 0.1705 - evidential_success: 27.4127 - evidential_fail: 12.0182 - acc: 0.9024 - annealing_coef: 0.1104 - global_step_get: 414.0000 - annealing_step_get: 3750.0000 - val_loss: 0.0645 - val_accuracy: 0.9139 - val_KL_term: 0.0279 - val_loglikelihood_term: 0.1656 - val_evidential_success: 16.2372 - val_evidential_fail: 5.9771 - val_acc: 0.9140 - val_annealing_coef: 0.2208 - val_global_step_get: 828.0000 - val_annealing_step_get: 3750.0000\n",
      "\n",
      "Epoch 00003: val_loss did not improve from 0.06408\n",
      "Epoch 4/100\n",
      "self.global_step 828.0\n",
      "277/277 [==============================] - 23s 84ms/step - loss: 0.0614 - accuracy: 0.9087 - KL_term: 0.0233 - loglikelihood_term: 0.1608 - evidential_success: 28.3116 - evidential_fail: 10.3964 - acc: 0.9088 - annealing_coef: 0.1472 - global_step_get: 552.0000 - annealing_step_get: 3750.0000 - val_loss: 0.0580 - val_accuracy: 0.9257 - val_KL_term: 0.0316 - val_loglikelihood_term: 0.1421 - val_evidential_success: 18.5782 - val_evidential_fail: 5.6755 - val_acc: 0.9259 - val_annealing_coef: 0.2944 - val_global_step_get: 1104.0000 - val_annealing_step_get: 3750.0000\n",
      "\n",
      "Epoch 00004: val_loss improved from 0.06408 to 0.05796, saving model to D:/Jorge/datasets/deforestation/experiments/MT/exp184/models\\resunet_0.h5\n",
      "Epoch 5/100\n",
      "self.global_step 1104.0\n",
      "277/277 [==============================] - 23s 83ms/step - loss: 0.0595 - accuracy: 0.9137 - KL_term: 0.0255 - loglikelihood_term: 0.1531 - evidential_success: 30.2922 - evidential_fail: 9.6853 - acc: 0.9136 - annealing_coef: 0.1840 - global_step_get: 690.0000 - annealing_step_get: 3750.0000 - val_loss: 0.0639 - val_accuracy: 0.9221 - val_KL_term: 0.0379 - val_loglikelihood_term: 0.1536 - val_evidential_success: 18.7483 - val_evidential_fail: 5.1316 - val_acc: 0.9222 - val_annealing_coef: 0.3680 - val_global_step_get: 1380.0000 - val_annealing_step_get: 3750.0000\n",
      "\n",
      "Epoch 00005: val_loss did not improve from 0.05796\n",
      "Epoch 6/100\n",
      "self.global_step 1380.0\n",
      "277/277 [==============================] - 23s 84ms/step - loss: 0.0592 - accuracy: 0.9157 - KL_term: 0.0271 - loglikelihood_term: 0.1507 - evidential_success: 31.3651 - evidential_fail: 8.6135 - acc: 0.9157 - annealing_coef: 0.2208 - global_step_get: 828.0000 - annealing_step_get: 3750.0000 - val_loss: 0.0612 - val_accuracy: 0.9271 - val_KL_term: 0.0403 - val_loglikelihood_term: 0.1426 - val_evidential_success: 21.5974 - val_evidential_fail: 5.4208 - val_acc: 0.9274 - val_annealing_coef: 0.4416 - val_global_step_get: 1656.0000 - val_annealing_step_get: 3750.0000\n",
      "\n",
      "Epoch 00006: val_loss did not improve from 0.05796\n",
      "Epoch 7/100\n",
      "self.global_step 1656.0\n",
      "277/277 [==============================] - 23s 84ms/step - loss: 0.0576 - accuracy: 0.9192 - KL_term: 0.0278 - loglikelihood_term: 0.1449 - evidential_success: 34.2392 - evidential_fail: 8.1291 - acc: 0.9191 - annealing_coef: 0.2576 - global_step_get: 966.0000 - annealing_step_get: 3750.0000 - val_loss: 0.0640 - val_accuracy: 0.9260 - val_KL_term: 0.0507 - val_loglikelihood_term: 0.1411 - val_evidential_success: 27.5436 - val_evidential_fail: 5.8554 - val_acc: 0.9260 - val_annealing_coef: 0.5152 - val_global_step_get: 1932.0000 - val_annealing_step_get: 3750.0000\n",
      "\n",
      "Epoch 00007: val_loss did not improve from 0.05796\n",
      "Epoch 8/100\n",
      "self.global_step 1932.0\n",
      "277/277 [==============================] - 23s 84ms/step - loss: 0.0559 - accuracy: 0.9217 - KL_term: 0.0271 - loglikelihood_term: 0.1407 - evidential_success: 36.9800 - evidential_fail: 7.2475 - acc: 0.9217 - annealing_coef: 0.2944 - global_step_get: 1104.0000 - annealing_step_get: 3750.0000 - val_loss: 0.0567 - val_accuracy: 0.9365 - val_KL_term: 0.0508 - val_loglikelihood_term: 0.1192 - val_evidential_success: 29.5610 - val_evidential_fail: 5.7086 - val_acc: 0.9365 - val_annealing_coef: 0.5888 - val_global_step_get: 2208.0000 - val_annealing_step_get: 3750.0000\n",
      "\n",
      "Epoch 00008: val_loss improved from 0.05796 to 0.05668, saving model to D:/Jorge/datasets/deforestation/experiments/MT/exp184/models\\resunet_0.h5\n",
      "Epoch 9/100\n",
      "self.global_step 2208.0\n",
      "277/277 [==============================] - 23s 84ms/step - loss: 0.0547 - accuracy: 0.9233 - KL_term: 0.0269 - loglikelihood_term: 0.1373 - evidential_success: 39.6665 - evidential_fail: 6.4482 - acc: 0.9233 - annealing_coef: 0.3312 - global_step_get: 1242.0000 - annealing_step_get: 3750.0000 - val_loss: 0.0583 - val_accuracy: 0.9364 - val_KL_term: 0.0567 - val_loglikelihood_term: 0.1181 - val_evidential_success: 31.7993 - val_evidential_fail: 5.8262 - val_acc: 0.9364 - val_annealing_coef: 0.6624 - val_global_step_get: 2484.0000 - val_annealing_step_get: 3750.0000\n",
      "\n",
      "Epoch 00009: val_loss did not improve from 0.05668\n",
      "Epoch 10/100\n",
      "self.global_step 2484.0\n",
      "277/277 [==============================] - 23s 83ms/step - loss: 0.0538 - accuracy: 0.9252 - KL_term: 0.0268 - loglikelihood_term: 0.1344 - evidential_success: 41.8128 - evidential_fail: 6.0565 - acc: 0.9253 - annealing_coef: 0.3680 - global_step_get: 1380.0000 - annealing_step_get: 3750.0000 - val_loss: 0.0615 - val_accuracy: 0.9379 - val_KL_term: 0.0684 - val_loglikelihood_term: 0.1160 - val_evidential_success: 33.9863 - val_evidential_fail: 6.6702 - val_acc: 0.9379 - val_annealing_coef: 0.7360 - val_global_step_get: 2760.0000 - val_annealing_step_get: 3750.0000\n",
      "\n",
      "Epoch 00010: val_loss did not improve from 0.05668\n",
      "Epoch 11/100\n",
      "self.global_step 2760.0\n",
      "277/277 [==============================] - 23s 83ms/step - loss: 0.0524 - accuracy: 0.9269 - KL_term: 0.0264 - loglikelihood_term: 0.1306 - evidential_success: 44.1636 - evidential_fail: 5.8591 - acc: 0.9270 - annealing_coef: 0.4048 - global_step_get: 1518.0000 - annealing_step_get: 3750.0000 - val_loss: 0.0638 - val_accuracy: 0.9361 - val_KL_term: 0.0714 - val_loglikelihood_term: 0.1199 - val_evidential_success: 34.7557 - val_evidential_fail: 6.1343 - val_acc: 0.9361 - val_annealing_coef: 0.8096 - val_global_step_get: 3036.0000 - val_annealing_step_get: 3750.0000\n",
      "\n",
      "Epoch 00011: val_loss did not improve from 0.05668\n",
      "Epoch 12/100\n",
      "self.global_step 3036.0\n",
      "277/277 [==============================] - 23s 83ms/step - loss: 0.0528 - accuracy: 0.9273 - KL_term: 0.0272 - loglikelihood_term: 0.1310 - evidential_success: 45.5538 - evidential_fail: 5.2738 - acc: 0.9273 - annealing_coef: 0.4416 - global_step_get: 1656.0000 - annealing_step_get: 3750.0000 - val_loss: 0.0591 - val_accuracy: 0.9437 - val_KL_term: 0.0697 - val_loglikelihood_term: 0.1073 - val_evidential_success: 37.3613 - val_evidential_fail: 6.4354 - val_acc: 0.9436 - val_annealing_coef: 0.8832 - val_global_step_get: 3312.0000 - val_annealing_step_get: 3750.0000\n",
      "\n",
      "Epoch 00012: val_loss did not improve from 0.05668\n",
      "Epoch 13/100\n",
      "self.global_step 3312.0\n",
      "277/277 [==============================] - 23s 83ms/step - loss: 0.0526 - accuracy: 0.9292 - KL_term: 0.0285 - loglikelihood_term: 0.1290 - evidential_success: 45.8474 - evidential_fail: 5.1001 - acc: 0.9292 - annealing_coef: 0.4784 - global_step_get: 1794.0000 - annealing_step_get: 3750.0000 - val_loss: 0.0654 - val_accuracy: 0.9408 - val_KL_term: 0.0831 - val_loglikelihood_term: 0.1123 - val_evidential_success: 36.3651 - val_evidential_fail: 6.3971 - val_acc: 0.9408 - val_annealing_coef: 0.9568 - val_global_step_get: 3588.0000 - val_annealing_step_get: 3750.0000\n",
      "\n",
      "Epoch 00013: val_loss did not improve from 0.05668\n",
      "Epoch 14/100\n",
      "self.global_step 3588.0\n",
      "277/277 [==============================] - 23s 83ms/step - loss: 0.0508 - accuracy: 0.9320 - KL_term: 0.0274 - loglikelihood_term: 0.1248 - evidential_success: 46.3812 - evidential_fail: 4.7620 - acc: 0.9320 - annealing_coef: 0.5147 - global_step_get: 1932.0000 - annealing_step_get: 3750.0000 - val_loss: 0.0720 - val_accuracy: 0.9385 - val_KL_term: 0.0997 - val_loglikelihood_term: 0.1151 - val_evidential_success: 40.6506 - val_evidential_fail: 7.2452 - val_acc: 0.9386 - val_annealing_coef: 1.0000 - val_global_step_get: 3864.0000 - val_annealing_step_get: 3750.0000\n",
      "\n",
      "Epoch 00014: val_loss did not improve from 0.05668\n",
      "Epoch 15/100\n",
      "self.global_step 3864.0\n",
      "277/277 [==============================] - 23s 83ms/step - loss: 0.0520 - accuracy: 0.9318 - KL_term: 0.0295 - loglikelihood_term: 0.1262 - evidential_success: 45.9281 - evidential_fail: 4.8482 - acc: 0.9319 - annealing_coef: 0.5469 - global_step_get: 2070.0000 - annealing_step_get: 3750.0000 - val_loss: 0.0654 - val_accuracy: 0.9393 - val_KL_term: 0.0824 - val_loglikelihood_term: 0.1127 - val_evidential_success: 38.6020 - val_evidential_fail: 6.4843 - val_acc: 0.9394 - val_annealing_coef: 1.0000 - val_global_step_get: 4140.0000 - val_annealing_step_get: 3750.0000\n",
      "\n",
      "Epoch 00015: val_loss did not improve from 0.05668\n",
      "Epoch 16/100\n",
      "self.global_step 4140.0\n",
      "277/277 [==============================] - 23s 83ms/step - loss: 0.0499 - accuracy: 0.9341 - KL_term: 0.0273 - loglikelihood_term: 0.1224 - evidential_success: 47.1704 - evidential_fail: 4.4663 - acc: 0.9340 - annealing_coef: 0.5751 - global_step_get: 2208.0000 - annealing_step_get: 3750.0000 - val_loss: 0.0730 - val_accuracy: 0.9355 - val_KL_term: 0.0992 - val_loglikelihood_term: 0.1183 - val_evidential_success: 41.9510 - val_evidential_fail: 7.1960 - val_acc: 0.9356 - val_annealing_coef: 1.0000 - val_global_step_get: 4416.0000 - val_annealing_step_get: 3750.0000\n",
      "\n",
      "Epoch 00016: val_loss did not improve from 0.05668\n",
      "Epoch 17/100\n",
      "self.global_step 4416.0\n",
      "277/277 [==============================] - 23s 83ms/step - loss: 0.0505 - accuracy: 0.9341 - KL_term: 0.0285 - loglikelihood_term: 0.1229 - evidential_success: 48.1166 - evidential_fail: 4.6348 - acc: 0.9342 - annealing_coef: 0.6000 - global_step_get: 2346.0000 - annealing_step_get: 3750.0000 - val_loss: 0.0712 - val_accuracy: 0.9383 - val_KL_term: 0.0977 - val_loglikelihood_term: 0.1140 - val_evidential_success: 39.8091 - val_evidential_fail: 6.9751 - val_acc: 0.9385 - val_annealing_coef: 1.0000 - val_global_step_get: 4692.0000 - val_annealing_step_get: 3750.0000\n",
      "\n",
      "Epoch 00017: val_loss did not improve from 0.05668\n",
      "Epoch 18/100\n",
      "self.global_step 4692.0\n",
      "277/277 [==============================] - 23s 83ms/step - loss: 0.0517 - accuracy: 0.9329 - KL_term: 0.0300 - loglikelihood_term: 0.1252 - evidential_success: 46.0159 - evidential_fail: 4.4372 - acc: 0.9328 - annealing_coef: 0.6221 - global_step_get: 2484.0000 - annealing_step_get: 3750.0000 - val_loss: 0.0658 - val_accuracy: 0.9433 - val_KL_term: 0.0934 - val_loglikelihood_term: 0.1031 - val_evidential_success: 47.3360 - val_evidential_fail: 8.4006 - val_acc: 0.9433 - val_annealing_coef: 1.0000 - val_global_step_get: 4968.0000 - val_annealing_step_get: 3750.0000\n",
      "\n",
      "Epoch 00018: val_loss did not improve from 0.05668\n",
      "Epoch 00018: early stopping\n",
      "-5.0 -12.0\n"
     ]
    },
    {
     "name": "stderr",
     "output_type": "stream",
     "text": [
      "ic| self.path_models+ '/' + self.method +'_'+str(0)+'.h5': 'D:/Jorge/datasets/deforestation/experiments/MT/exp184/models/resunet_0.h5'\n"
     ]
    },
    {
     "name": "stdout",
     "output_type": "stream",
     "text": [
      "time:  0\n",
      "(39774655,)\n",
      "(array([0, 1], dtype=uint8), array([39234711,   539944], dtype=int64))\n",
      "(16795, 10420)\n",
      "(array([0., 1.], dtype=float32), array([172344186,   2659714], dtype=int64))\n"
     ]
    },
    {
     "name": "stderr",
     "output_type": "stream",
     "text": [
      "ic| self.predicted_unpad.shape: (16795, 10420)\n",
      "    self.predicted.shape: (16795, 10420)\n",
      "ic| predicted_test.shape: (70001560,)\n",
      "ic| predicted_test.shape: (39774655,)\n",
      "ic| np.unique(predicted, return_counts=True): (array([0., 1.], dtype=float32), array([172344186,   2659714], dtype=int64))\n",
      "    np.unique(predicted_larger_than_min_area, return_counts=True): (array([0., 1.], dtype=float32), array([172462314,   2541586], dtype=int64))\n",
      "ic| np.unique(ignored_polygons, return_counts=True): (array([0., 1.], dtype=float32), array([174885772,    118128], dtype=int64))\n",
      "ic| self.f1: 64.55, self.precision: 51.59, self.recall: 86.22\n",
      "ic| self.label_mask_val.shape: (21000468,)\n",
      "ic| self.label_mask_val_valid.shape: (10888220,)\n",
      "ic| f1_val: 92.97\n",
      "    precision_val: 90.81\n",
      "    recall_val: 95.23\n",
      "    mAP_val: 97.76\n"
     ]
    },
    {
     "name": "stdout",
     "output_type": "stream",
     "text": [
      "(array([0., 1.], dtype=float32), array([173985466,   1018434], dtype=int64))\n",
      "[0. 1.]\n"
     ]
    },
    {
     "name": "stderr",
     "output_type": "stream",
     "text": [
      "ic| self.label_mask.shape: (16795, 10420)\n",
      "ic| self.mask_amazon_ts.shape: (16795, 10420)\n",
      "ic| self.label_mask_test.shape: (70001560,)\n",
      "ic| self.error_mask_test.shape: (39734879,)\n",
      "ic| bounds: (0.0015, 0.9985)\n",
      "c:\\Users\\jchamorro\\Anaconda3\\envs\\tf2\\lib\\site-packages\\scipy\\optimize\\_minimize.py:783: RuntimeWarning: Method 'bounded' does not support relative tolerance in x; defaulting to absolute tolerance.\n",
      "  warn(\"Method 'bounded' does not support relative tolerance in x; \"\n"
     ]
    },
    {
     "name": "stdout",
     "output_type": "stream",
     "text": [
      "0.38232011321635484\n",
      "threshold 0.38232011321635484\n",
      "(37896963,) (37896963,)\n"
     ]
    },
    {
     "name": "stderr",
     "output_type": "stream",
     "text": [
      "ic| label_current_deforestation_test_classified_incorrect.shape: (1837916,)\n",
      "    predicted_test_classified_incorrect.shape: (1837916,)\n"
     ]
    },
    {
     "name": "stdout",
     "output_type": "stream",
     "text": [
      "cm_correct [[37228654   263098]\n",
      " [    8110   397101]]\n"
     ]
    },
    {
     "name": "stderr",
     "output_type": "stream",
     "text": [
      "ic| TP_H + FN_H + FP_H + TN_H: 1837916\n",
      "    len(label_mask_current_deforestation_test): 39734879\n",
      "ic| TP_H + FN_H + FP_H + TN_H: 1837916\n",
      "    len(label_mask_current_deforestation_test): 39734879\n"
     ]
    },
    {
     "name": "stdout",
     "output_type": "stream",
     "text": [
      "cm_incorrect [[1543933  167306]\n",
      " [  65169   61508]]\n",
      "[0.60148682 0.97998574 0.74658763 0.04625448 0.26881222 0.48554986]\n",
      "0.6176798867836452\n",
      "threshold 0.6176798867836452\n",
      "(38824126,) (38824126,)\n"
     ]
    },
    {
     "name": "stderr",
     "output_type": "stream",
     "text": [
      "ic| label_current_deforestation_test_classified_incorrect.shape: (910753,)\n",
      "    predicted_test_classified_incorrect.shape: (910753,)\n",
      "ic| TP_H + FN_H + FP_H + TN_H: 910753\n",
      "    len(label_mask_current_deforestation_test): 39734879\n",
      "ic| TP_H + FN_H + FP_H + TN_H: 910753\n",
      "    len(label_mask_current_deforestation_test): 39734879\n"
     ]
    },
    {
     "name": "stdout",
     "output_type": "stream",
     "text": [
      "cm_correct [[37988156   376639]\n",
      " [   15745   443586]]\n",
      "cm_incorrect [[784431  53765]\n",
      " [ 57534  15023]]\n",
      "[0.54081014 0.96572189 0.83398385 0.02292074 0.21839565 0.20705101]\n",
      "0.7631402264327096\n",
      "threshold 0.7631402264327096\n",
      "(39232464,) (39232464,)\n"
     ]
    },
    {
     "name": "stderr",
     "output_type": "stream",
     "text": [
      "ic| label_current_deforestation_test_classified_incorrect.shape: (502415,)\n",
      "    predicted_test_classified_incorrect.shape: (502415,)\n",
      "d:\\Jorge\\deforestation_uncertainty\\src\\metrics.py:295: RuntimeWarning: invalid value encountered in longlong_scalars\n",
      "  precision_H = TP_H / (TP_H + FP_H)\n",
      "ic| TP_H + FN_H + FP_H + TN_H: 502415\n",
      "    len(label_mask_current_deforestation_test): 39734879\n",
      "ic| TP_H + FN_H + FP_H + TN_H: 502415\n",
      "    len(label_mask_current_deforestation_test): 39734879\n"
     ]
    },
    {
     "name": "stdout",
     "output_type": "stream",
     "text": [
      "cm_correct [[38316937   430404]\n",
      " [   26514   458609]]\n",
      "cm_incorrect [[455650      0]\n",
      " [ 46765      0]]\n",
      "[0.5158631  0.94534582 0.86222851 0.01264418        nan 0.        ]\n",
      "0.5677072770823081\n",
      "threshold 0.5677072770823081\n",
      "(38650273,) (38650273,)\n"
     ]
    },
    {
     "name": "stderr",
     "output_type": "stream",
     "text": [
      "ic| label_current_deforestation_test_classified_incorrect.shape: (1084606,)\n",
      "    predicted_test_classified_incorrect.shape: (1084606,)\n",
      "ic| TP_H + FN_H + FP_H + TN_H: 1084606\n",
      "    len(label_mask_current_deforestation_test): 39734879\n",
      "ic| TP_H + FN_H + FP_H + TN_H: 1084606\n",
      "    len(label_mask_current_deforestation_test): 39734879\n"
     ]
    },
    {
     "name": "stdout",
     "output_type": "stream",
     "text": [
      "cm_correct [[37847852   353000]\n",
      " [   13503   435918]]\n",
      "cm_incorrect [[924735  77404]\n",
      " [ 59776  22691]]\n",
      "[0.55255172 0.96995468 0.81956728 0.02729607 0.22669464 0.27515249]\n",
      "0.5285569644308872\n",
      "threshold 0.5285569644308872\n",
      "(38505266,) (38505266,)\n"
     ]
    },
    {
     "name": "stderr",
     "output_type": "stream",
     "text": [
      "ic| label_current_deforestation_test_classified_incorrect.shape: (1229613,)\n",
      "    predicted_test_classified_incorrect.shape: (1229613,)\n",
      "ic| TP_H + FN_H + FP_H + TN_H: 1229613\n",
      "    len(label_mask_current_deforestation_test): 39734879\n",
      "ic| TP_H + FN_H + FP_H + TN_H: 1229613\n",
      "    len(label_mask_current_deforestation_test): 39734879\n"
     ]
    },
    {
     "name": "stdout",
     "output_type": "stream",
     "text": [
      "cm_correct [[37729063   334802]\n",
      " [   12039   429362]]\n",
      "cm_incorrect [[1043524   95602]\n",
      " [  61240   29247]]\n",
      "[0.56187154 0.97272548 0.80724137 0.03094543 0.23425898 0.3232177 ]\n",
      "0.4726994576746972\n",
      "threshold 0.4726994576746972\n",
      "(38286111,) (38286111,)\n"
     ]
    },
    {
     "name": "stderr",
     "output_type": "stream",
     "text": [
      "ic| label_current_deforestation_test_classified_incorrect.shape: (1448768,)\n",
      "    predicted_test_classified_incorrect.shape: (1448768,)\n",
      "ic| TP_H + FN_H + FP_H"
     ]
    },
    {
     "name": "stdout",
     "output_type": "stream",
     "text": [
      "cm_correct [[37548659   308485]\n",
      " [   10424   418543]]\n",
      "cm_incorrect [[1223928  121919]\n",
      " [  62855   40066]]\n"
     ]
    },
    {
     "name": "stderr",
     "output_type": "stream",
     "text": [
      " + TN_H: 1448768\n",
      "    len(label_mask_current_deforestation_test): 39734879\n",
      "ic| TP_H + FN_H + FP_H + TN_H: 1448768\n",
      "    len(label_mask_current_deforestation_test): 39734879\n"
     ]
    },
    {
     "name": "stdout",
     "output_type": "stream",
     "text": [
      "[0.57569034 0.97569976 0.78690063 0.03646086 0.24734389 0.38928887]\n",
      "0.5332793552853226\n",
      "threshold 0.5332793552853226\n",
      "(38523064,) (38523064,)\n"
     ]
    },
    {
     "name": "stderr",
     "output_type": "stream",
     "text": [
      "ic| label_current_deforestation_test_classified_incorrect.shape: (1211815,)\n",
      "    predicted_test_classified_incorrect.shape: (1211815,)\n",
      "ic| TP_H + FN_H + FP_H + TN_H: 1211815\n",
      "    len(label_mask_current_deforestation_test): 39734879\n",
      "ic| TP_H + FN_H + FP_H + TN_H: 1211815\n",
      "    len(label_mask_current_deforestation_test): 39734879\n"
     ]
    },
    {
     "name": "stdout",
     "output_type": "stream",
     "text": [
      "cm_correct [[37743754   336969]\n",
      " [   12214   430127]]\n",
      "cm_incorrect [[1028833   93435]\n",
      " [  61065   28482]]\n",
      "[0.56072121 0.97238782 0.80867965 0.03049751 0.23361795 0.31806761]\n",
      "0.5426000943185905\n",
      "threshold 0.5426000943185905\n",
      "(38558073,) (38558073,)\n"
     ]
    },
    {
     "name": "stderr",
     "output_type": "stream",
     "text": [
      "ic| label_current_deforestation_test_classified_incorrect.shape: (1176806,)\n",
      "    predicted_test_classified_incorrect.shape: (1176806,)\n",
      "ic| TP_H + FN_H + FP_H + TN_H: 1176806\n",
      "    len(label_mask_current_deforestation_test): 39734879\n",
      "ic| TP_H + FN_H + FP_H + TN_H: 1176806\n",
      "    len(label_mask_current_deforestation_test): 39734879\n"
     ]
    },
    {
     "name": "stdout",
     "output_type": "stream",
     "text": [
      "cm_correct [[37772563   341235]\n",
      " [   12522   431753]]\n",
      "cm_incorrect [[1000024   89169]\n",
      " [  60757   26856]]\n",
      "[0.55855071 0.97181475 0.81173668 0.02961645 0.23146736 0.30652985]\n",
      "0.5521901847725751\n",
      "threshold 0.5521901847725751\n",
      "(38593605,) (38593605,)\n"
     ]
    },
    {
     "name": "stderr",
     "output_type": "stream",
     "text": [
      "ic| label_current_deforestation_test_classified_incorrect.shape: (1141274,)\n",
      "    predicted_test_classified_incorrect.shape: (1141274,)\n",
      "ic| TP_H + FN_H + FP_H + TN_H: 1141274\n",
      "    len(label_mask_current_deforestation_test): 39734879\n",
      "ic| TP_H + FN_H + FP_H + TN_H: 1141274\n",
      "    len(label_mask_current_deforestation_test): 39734879\n"
     ]
    },
    {
     "name": "stdout",
     "output_type": "stream",
     "text": [
      "cm_correct [[37801794   345657]\n",
      " [   12886   433268]]\n",
      "cm_incorrect [[970793  84747]\n",
      " [ 60393  25341]]\n",
      "[0.55623841 0.9711176  0.81458503 0.02872222 0.23018858 0.29557702]\n",
      "0.5389787843097242\n",
      "threshold 0.5389787843097242\n",
      "(38544570,) (38544570,)\n"
     ]
    },
    {
     "name": "stderr",
     "output_type": "stream",
     "text": [
      "ic| label_current_deforestation_test_classified_incorrect.shape: (1190309,)\n",
      "    predicted_test_classified_incorrect.shape: (1190309,)\n",
      "ic| TP_H + FN_H + FP_H + TN_H: 1190309\n",
      "    len(label_mask_current_deforestation_test): 39734879\n",
      "ic| TP_H + FN_H + FP_H + TN_H: 1190309\n",
      "    len(label_mask_current_deforestation_test): 39734879\n"
     ]
    },
    {
     "name": "stdout",
     "output_type": "stream",
     "text": [
      "cm_correct [[37761361   339643]\n",
      " [   12400   431166]]\n",
      "cm_incorrect [[1011226   90761]\n",
      " [  60879   27443]]\n",
      "[0.55936814 0.97204475 0.81063307 0.02995628 0.23216642 0.31071534]\n",
      "0.5382682186908357\n",
      "threshold 0.5382682186908357\n",
      "(38541847,) (38541847,)\n"
     ]
    },
    {
     "name": "stderr",
     "output_type": "stream",
     "text": [
      "ic| label_current_deforestation_test_classified_incorrect.shape: (1193032,)\n",
      "    predicted_test_classified_incorrect.shape: (1193032,)\n",
      "ic| TP_H + FN_H + FP_H + TN_H: 1193032\n",
      "    len(label_mask_current_deforestation_test): 39734879\n",
      "ic| TP_H + FN_H + FP_H + TN_H: 1193032\n",
      "    len(label_mask_current_deforestation_test): 39734879\n"
     ]
    },
    {
     "name": "stdout",
     "output_type": "stream",
     "text": [
      "cm_correct [[37759114   339304]\n",
      " [   12379   431050]]\n",
      "cm_incorrect [[1013473   91100]\n",
      " [  60900   27559]]\n",
      "[0.55954795 0.97208347 0.81041497 0.03002481 0.23225377 0.31154546]\n",
      "0.5377655443208222\n",
      "threshold 0.5377655443208222\n",
      "(38539832,) (38539832,)\n"
     ]
    },
    {
     "name": "stderr",
     "output_type": "stream",
     "text": [
      "ic| label_current_deforestation_test_classified_incorrect.shape: (1195047,)\n",
      "    predicted_test_classified_incorrect.shape: (1195047,)\n",
      "ic| TP_H + FN_H + FP_H + TN_H: 1195047\n",
      "    len(label_mask_current_deforestation_test): 39734879\n",
      "ic| TP_H + FN_H + FP_H + TN_H: 1195047\n",
      "    len(label_mask_current_deforestation_test): 39734879\n"
     ]
    },
    {
     "name": "stdout",
     "output_type": "stream",
     "text": [
      "cm_correct [[37757452   339077]\n",
      " [   12360   430943]]\n",
      "cm_incorrect [[1015135   91327]\n",
      " [  60919   27666]]\n",
      "[0.5596517  0.97211839 0.8102138  0.03007552 0.23250107 0.31231021]\n",
      "0.5384968321044636\n",
      "threshold 0.5384968321044636\n",
      "(38542691,) (38542691,)\n"
     ]
    },
    {
     "name": "stderr",
     "output_type": "stream",
     "text": [
      "ic| label_current_deforestation_test_classified_incorrect.shape: (1192188,)\n",
      "    predicted_test_classified_incorrect.shape: (1192188,)\n",
      "ic| TP_H + FN_H + FP_H + TN_H: 1192188\n",
      "    len(label_mask_current_deforestation_test): 39734879\n",
      "ic| TP_H + FN_H + FP_H + TN_H: 1192188\n",
      "    len(label_mask_current_deforestation_test): 39734879\n"
     ]
    },
    {
     "name": "stdout",
     "output_type": "stream",
     "text": [
      "cm_correct [[37759823   339397]\n",
      " [   12385   431086]]\n",
      "cm_incorrect [[1012764   91007]\n",
      " [  60894   27523]]\n",
      "[0.55950099 0.97207258 0.81048266 0.03000356 0.23220282 0.31128629]\n",
      "0.5385698273636481\n",
      "threshold 0.5385698273636481\n",
      "(38542992,) (38542992,)\n"
     ]
    },
    {
     "name": "stderr",
     "output_type": "stream",
     "text": [
      "ic| label_current_deforestation_test_classified_incorrect.shape: (1191887,)\n",
      "    predicted_test_classified_incorrect.shape: (1191887,)\n",
      "ic| TP_H + FN_H + FP_H + TN_H: 1191887\n",
      "    len(label_mask_current_deforestation_test): 39734879\n",
      "ic| TP_H + FN_H + FP_H + TN_H: 1191887\n",
      "    len(label_mask_current_deforestation_test): 39734879\n"
     ]
    },
    {
     "name": "stdout",
     "output_type": "stream",
     "text": [
      "cm_correct [[37760073   339437]\n",
      " [   12386   431096]]\n",
      "cm_incorrect [[1012514   90967]\n",
      " [  60893   27513]]\n",
      "[0.55947766 0.97207102 0.81050146 0.02999599 0.23221641 0.31121191]\n",
      "0.5384634907839315\n",
      "threshold 0.5384634907839315\n",
      "(38542560,) (38542560,)\n"
     ]
    },
    {
     "name": "stderr",
     "output_type": "stream",
     "text": [
      "ic| label_current_deforestation_test_classified_incorrect.shape: (1192319,)\n",
      "    predicted_test_classified_incorrect.shape: (1192319,)\n",
      "ic| TP_H + FN_H + FP_H + TN_H: 1192319\n",
      "    len(label_mask_current_deforestation_test): 39734879\n",
      "ic| TP_H + FN_H + FP_H + TN_H: 1192319\n",
      "    len(label_mask_current_deforestation_test): 39734879\n"
     ]
    },
    {
     "name": "stdout",
     "output_type": "stream",
     "text": [
      "cm_correct [[37759706   339388]\n",
      " [   12384   431082]]\n",
      "cm_incorrect [[1012881   91016]\n",
      " [  60895   27527]]\n",
      "[0.55950524 0.97207452 0.81047514 0.03000686 0.2322111  0.31131393]\n",
      "0.5385301734249958\n",
      "threshold 0.5385301734249958\n",
      "(38542818,) (38542818,)\n"
     ]
    },
    {
     "name": "stderr",
     "output_type": "stream",
     "text": [
      "ic| label_current_deforestation_test_classified_incorrect.shape: (1192061,)\n",
      "    predicted_test_classified_incorrect.shape: (1192061,)\n",
      "ic| TP_H + FN_H + FP_H + TN_H: 1192061\n",
      "    len(label_mask_current_deforestation_test): 39734879\n",
      "ic| TP_H + FN_H + FP_H + TN_H: 1192061\n",
      "    len(label_mask_current_deforestation_test): 39734879\n",
      "ic| self.threshold_optimal: 0.5385301734249958\n"
     ]
    },
    {
     "name": "stdout",
     "output_type": "stream",
     "text": [
      "cm_correct [[37759929   339416]\n",
      " [   12385   431088]]\n",
      "cm_incorrect [[1012658   90988]\n",
      " [  60894   27521]]\n",
      "[0.55948833 0.97207271 0.81048642 0.03000037 0.23222709 0.31127071]\n",
      "threshold 0.5385301734249958\n",
      "(38542818,) (38542818,)\n"
     ]
    },
    {
     "name": "stderr",
     "output_type": "stream",
     "text": [
      "ic| label_current_deforestation_test_classified_incorrect.shape: (1192061,)\n",
      "    predicted_test_classified_incorrect.shape: (1192061,)\n",
      "ic| TP_H + FN_H + FP_H + TN_H: 1192061\n",
      "    len(label_mask_current_deforestation_test): 39734879\n",
      "ic| TP_H + FN_H + FP_H + TN_H: 1192061\n",
      "    len(label_mask_current_deforestation_test): 39734879\n"
     ]
    },
    {
     "name": "stdout",
     "output_type": "stream",
     "text": [
      "cm_correct [[37759929   339416]\n",
      " [   12385   431088]]\n",
      "cm_incorrect [[1012658   90988]\n",
      " [  60894   27521]]\n",
      "[0.55948833 0.97207271 0.81048642 0.03000037 0.23222709 0.31127071]\n",
      "threshold 0.5385301734249958\n",
      "(39734879,) (39734879,)\n"
     ]
    },
    {
     "name": "stderr",
     "output_type": "stream",
     "text": [
      "ic| self.m_optimal: {'AA': array([0.03000037]),\n",
      "                     'f1': 64.55,\n",
      "                     'f1_H': array([0.26600104]),\n",
      "                     'f1_L': array([0.71020785]),\n",
      "                     'precision_H': array([0.23222709]),\n",
      "                     'precision_L': array([0.55948833]),\n",
      "                     'recall_H': array([0.31127071]),\n",
      "                     'recall_L': array([0.97207271]),\n",
      "                     'recall_Ltotal': array([0.81048642])}\n",
      "ic| self.m_audited_optimal: {'f1': array([0.74705261]),\n",
      "                             'precision': array([0.60483352]),\n",
      "                             'recall': array([0.97671502])}\n"
     ]
    },
    {
     "name": "stdout",
     "output_type": "stream",
     "text": [
      "cm_audited [[38863575   339416]\n",
      " [   12385   519503]]\n",
      "[0.60483352 0.97671502]\n"
     ]
    }
   ],
   "source": [
    "\n",
    "\n",
    "for experiment_value, exp_id in zip(experiment_values, exp_ids):\n",
    "    config = {\n",
    "        \"training\": True,\n",
    "    \t\"learning_rate\": 1e-4,\n",
    "        \"weights\": [0.1, 0.9, 0],\n",
    "        \"save_probabilities\": False,\n",
    "        \"loadInference\": False,\n",
    "        \"addPastDeforestationInput\": True,\n",
    "        \"inference_times\": 1,\n",
    "        \"Uncertainty\": {\n",
    "            \"annealing_step\": 10*375/2 # 1875\n",
    "        },\n",
    "    \t\"uncertainty_method\": uncertaintyMethod,\n",
    "        \"evidence_function\": evidential.relu_evidence\n",
    "    }\n",
    "\n",
    "    trainer = TrainerEvidential(config, dataset, patchesHandler)\n",
    "\n",
    "    trainer.defineExperiment(exp_id)\n",
    "\n",
    "    trainer.setExperimentPath()\n",
    "    trainer.createLogFolders()\n",
    "\n",
    "    trainer.loadDataset()\n",
    "\n",
    "    # %%\n",
    "    if config[\"training\"] == True:\n",
    "        trainer.run()\n",
    "\n",
    "    # %%\n",
    "    result = trainer.run_predictor()\n",
    "    results.append(result)\n",
    "\n",
    "\n",
    "    with open('log.pkl', 'wb') as f:\n",
    "        pickle.dump(results, f)"
   ]
  },
  {
   "cell_type": "code",
   "execution_count": 9,
   "id": "64080745",
   "metadata": {},
   "outputs": [
    {
     "name": "stdout",
     "output_type": "stream",
     "text": [
      "[{'metrics': {'precision_L': array([nan]), 'recall_L': array([0.]), 'recall_Ltotal': array([0.]), 'AA': array([0.03000046]), 'precision_H': array([nan]), 'recall_H': array([0.]), 'f1_L': array([nan]), 'f1_H': array([nan]), 'f1': 0.0}, 'metrics_audited': {'precision': array([1.]), 'recall': array([0.88574556]), 'f1': array([0.93941153])}, 'exp': 175}, {'metrics': {'precision_L': array([0.53704756]), 'recall_L': array([0.9351188]), 'recall_Ltotal': array([0.85489489]), 'AA': array([0.02999747]), 'precision_H': array([0.16052591]), 'recall_H': array([0.41546518]), 'f1_L': array([0.68226429]), 'f1_H': array([0.23157625]), 'f1': 63.3}, 'metrics_audited': {'precision': array([0.56072183]), 'recall': array([0.94068496]), 'f1': array([0.70262449])}, 'exp': 176}, {'metrics': {'precision_L': array([0.70278881]), 'recall_L': array([0.93463832]), 'recall_Ltotal': array([0.76870477]), 'AA': array([0.02999925]), 'precision_H': array([0.36952487]), 'recall_H': array([0.37348836]), 'f1_L': array([0.80229934]), 'f1_H': array([0.37149604]), 'f1': 73.46}, 'metrics_audited': {'precision': array([0.74429354]), 'recall': array([0.94624249]), 'f1': array([0.83320575])}, 'exp': 177}, {'metrics': {'precision_L': array([0.95460893]), 'recall_L': array([0.90481066]), 'recall_Ltotal': array([0.61444564]), 'AA': array([0.03000161]), 'precision_H': array([0.75037323]), 'recall_H': array([0.52827851]), 'f1_L': array([0.92904296]), 'f1_H': array([0.62003756]), 'f1': 83.87}, 'metrics_audited': {'precision': array([0.96971047]), 'recall': array([0.93535811]), 'f1': array([0.95222456])}, 'exp': 178}, {'metrics': {'precision_L': array([nan]), 'recall_L': array([0.]), 'recall_Ltotal': array([0.]), 'AA': array([0.02999878]), 'precision_H': array([nan]), 'recall_H': array([0.]), 'f1_L': array([nan]), 'f1_H': array([nan]), 'f1': 0.0}, 'metrics_audited': {'precision': array([1.]), 'recall': array([0.87987273]), 'f1': array([0.93609819])}, 'exp': 179}, {'metrics': {'precision_L': array([0.64427416]), 'recall_L': array([0.93753839]), 'recall_Ltotal': array([0.85740668]), 'AA': array([0.03000044]), 'precision_H': array([0.27843432]), 'recall_H': array([0.08130564]), 'f1_L': array([0.76372104]), 'f1_H': array([0.12585914]), 'f1': 73.38}, 'metrics_audited': {'precision': array([0.66574166]), 'recall': array([0.942877]), 'f1': array([0.78043668])}, 'exp': 180}, {'metrics': {'precision_L': array([0.80324329]), 'recall_L': array([0.74715275]), 'recall_Ltotal': array([0.53747226]), 'AA': array([0.03000138]), 'precision_H': array([0.48823329]), 'recall_H': array([0.24274061]), 'f1_L': array([0.77418339]), 'f1_H': array([0.32426342]), 'f1': 66.97}, 'metrics_audited': {'precision': array([0.86138142]), 'recall': array([0.81811164]), 'f1': array([0.83918914])}, 'exp': 181}, {'metrics': {'precision_L': array([0.71368072]), 'recall_L': array([0.90153512]), 'recall_Ltotal': array([0.784148]), 'AA': array([0.03000074]), 'precision_H': array([0.38670017]), 'recall_H': array([0.12398216]), 'f1_L': array([0.79668391]), 'f1_H': array([0.18776417]), 'f1': 74.78}, 'metrics_audited': {'precision': array([0.74401654]), 'recall': array([0.91435604]), 'f1': array([0.82043809])}, 'exp': 182}, {'metrics': {'precision_L': array([0.75249738]), 'recall_L': array([0.91000718]), 'recall_Ltotal': array([0.75073213]), 'AA': array([0.03000107]), 'precision_H': array([0.42518744]), 'recall_H': array([0.37020571]), 'f1_L': array([0.82379084]), 'f1_H': array([0.39579626]), 'f1': 75.86}, 'metrics_audited': {'precision': array([0.78943791]), 'recall': array([0.92575827]), 'f1': array([0.85218086])}, 'exp': 183}, {'metrics': {'precision_L': array([0.55948833]), 'recall_L': array([0.97207271]), 'recall_Ltotal': array([0.81048642]), 'AA': array([0.03000037]), 'precision_H': array([0.23222709]), 'recall_H': array([0.31127071]), 'f1_L': array([0.71020785]), 'f1_H': array([0.26600104]), 'f1': 64.55}, 'metrics_audited': {'precision': array([0.60483352]), 'recall': array([0.97671502]), 'f1': array([0.74705261])}, 'exp': 184}]\n"
     ]
    }
   ],
   "source": [
    "print(results)"
   ]
  },
  {
   "cell_type": "code",
   "execution_count": 12,
   "id": "cd4f4d1d",
   "metadata": {},
   "outputs": [
    {
     "name": "stdout",
     "output_type": "stream",
     "text": [
      "10\n"
     ]
    }
   ],
   "source": [
    "print(len(results))"
   ]
  },
  {
   "cell_type": "code",
   "execution_count": 1,
   "id": "6cc43863",
   "metadata": {},
   "outputs": [
    {
     "ename": "NameError",
     "evalue": "name 'results' is not defined",
     "output_type": "error",
     "traceback": [
      "\u001b[1;31m---------------------------------------------------------------------------\u001b[0m",
      "\u001b[1;31mNameError\u001b[0m                                 Traceback (most recent call last)",
      "\u001b[1;32md:\\Jorge\\deforestation_uncertainty\\train_grid_search.ipynb Cell 11\u001b[0m in \u001b[0;36m<cell line: 1>\u001b[1;34m()\u001b[0m\n\u001b[1;32m----> <a href='vscode-notebook-cell:/d%3A/Jorge/deforestation_uncertainty/train_grid_search.ipynb#X15sZmlsZQ%3D%3D?line=0'>1</a>\u001b[0m results[\u001b[39m9\u001b[39m]\n",
      "\u001b[1;31mNameError\u001b[0m: name 'results' is not defined"
     ]
    }
   ],
   "source": [
    "results[9]"
   ]
  },
  {
   "cell_type": "code",
   "execution_count": 10,
   "id": "4819ba4f",
   "metadata": {},
   "outputs": [
    {
     "data": {
      "text/plain": [
       "64.55"
      ]
     },
     "execution_count": 10,
     "metadata": {},
     "output_type": "execute_result"
    }
   ],
   "source": [
    "trainer.f1"
   ]
  },
  {
   "cell_type": "code",
   "execution_count": 11,
   "id": "13437081",
   "metadata": {},
   "outputs": [
    {
     "name": "stdout",
     "output_type": "stream",
     "text": [
      "64.55\n"
     ]
    }
   ],
   "source": [
    "print(trainer.f1)"
   ]
  }
 ],
 "metadata": {
  "kernelspec": {
   "display_name": "Python 3.9.12 ('tf2')",
   "language": "python",
   "name": "python3"
  },
  "language_info": {
   "codemirror_mode": {
    "name": "ipython",
    "version": 3
   },
   "file_extension": ".py",
   "mimetype": "text/x-python",
   "name": "python",
   "nbconvert_exporter": "python",
   "pygments_lexer": "ipython3",
   "version": "3.9.12"
  },
  "vscode": {
   "interpreter": {
    "hash": "0593c6bd4eb743cc503a3c17025f83c5676f297db573750215a1bc8c88a990c4"
   }
  }
 },
 "nbformat": 4,
 "nbformat_minor": 5
}
