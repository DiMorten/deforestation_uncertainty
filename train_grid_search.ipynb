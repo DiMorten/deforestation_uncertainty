{
 "cells": [
  {
   "cell_type": "code",
   "execution_count": 1,
   "id": "dbd5b7cf",
   "metadata": {},
   "outputs": [],
   "source": [
    "from utils_v1 import *\n"
   ]
  },
  {
   "cell_type": "code",
   "execution_count": 2,
   "id": "123e793c",
   "metadata": {},
   "outputs": [],
   "source": [
    "from icecream import ic\n",
    "\n",
    "import numpy as np\n",
    "from src.dataset import (\n",
    "    MultipleDates,\n",
    "    PA, PADeforestationTime, PADistanceMap, PAMultipleDates,\n",
    "    MTDeforestationTime,\n",
    "    MTMultipleDates\n",
    ")\n",
    "\n",
    "# from src.dataset_legacy import MTDeforestationTime\n",
    "from src import training_generator as generator\n",
    "from src.patchesHandler import PatchesHandler, PatchesHandlerMultipleDates, PatchesHandlerEvidential\n",
    "\n",
    "from src.trainer.evidential import TrainerEvidential\n",
    "\n",
    "from mpl_toolkits.axes_grid1 import make_axes_locatable\n",
    "\n",
    "import cv2\n",
    "from src import metrics as _metric\n",
    "import json\n",
    "import pickle \n",
    "import src.trainer.evidential as evidential\n"
   ]
  },
  {
   "cell_type": "code",
   "execution_count": 3,
   "id": "603a5df7",
   "metadata": {},
   "outputs": [
    {
     "name": "stderr",
     "output_type": "stream",
     "text": [
      "ic| list(self.date_ids): [0]\n",
      "ic| self.image_channels: [[0, 1, 2, 3, 4, 5, 6, 7, 8, 9, 10, 11, 12, 13, 14, 15, 16, 17, 18, 19, 20]]\n",
      "ic| dates: [2018, 2019]\n",
      "ic| self.input_image_shape: 21\n",
      "ic| self.dataset.image_channels: [[0, 1, 2, 3, 4, 5, 6, 7, 8, 9, 10, 11, 12, 13, 14, 15, 16, 17, 18, 19, 20]]\n"
     ]
    }
   ],
   "source": [
    "\n",
    "config = {\n",
    "\t\"training\": False,\n",
    "\t\"save_probabilities\": False,\n",
    "\t\"loadInference\": False,\n",
    "\t\"addPastDeforestationInput\": True,\n",
    "\t\"inference_times\": 1,\n",
    "\t\"Uncertainty\": {\n",
    "\t\t\"annealing_step\": 10*375/2 # 1875\n",
    "\t}\n",
    "}\n",
    "\n",
    "\n",
    "\n",
    "\n",
    "'''\n",
    "if config[\"training\"] == True:\n",
    "\tdates = [2017, 2018]\n",
    "else:\n",
    "\tdates = [2018, 2019]\n",
    "if config[\"training\"] == True:\n",
    "\tdates = [2018, 2019]\n",
    "else:\n",
    "\tdates = [2019, 2020]\n",
    "'''\n",
    "# dates = [2018, 2019]\n",
    "# dates = [2017, 2018]\n",
    "\n",
    "# dataset = PAMultipleDates(dates = dates, # dates = [2017, 2018, 2019]. [2018, 2019]. [2015, 2016, 2017, 2018]\n",
    "# \taddPastDeforestationInput = config['addPastDeforestationInput'],\n",
    "# \tborderBuffer = 2)\t\n",
    "dates = [2018, 2019]\n",
    "# dates = [2019, 2020]\n",
    "\n",
    "dataset = MTMultipleDates(dates = dates, # dates = [2016,2017,2018,2019]\n",
    "\taddPastDeforestationInput = config['addPastDeforestationInput'],\n",
    "\tborderBuffer = 2)\t\n",
    "# dataset = MTDeforestationTime()\t\n",
    "# [2016, 2017, 2018]\n",
    "\n",
    "ic(dates)\n",
    "\n",
    "if issubclass(type(dataset), MultipleDates):\n",
    "\tpatchesHandler = PatchesHandlerEvidential(\n",
    "\t\tdataset)\n",
    "else:\n",
    "\tpatchesHandler = PatchesHandler()\n",
    "\n"
   ]
  },
  {
   "cell_type": "code",
   "execution_count": 4,
   "id": "453870ef",
   "metadata": {},
   "outputs": [
    {
     "data": {
      "text/plain": [
       "[3750, 2500.0, 1875, 1250, 937]"
      ]
     },
     "execution_count": 4,
     "metadata": {},
     "output_type": "execute_result"
    }
   ],
   "source": [
    "[10*375//1, 10*375//1.5, 10*375//2, 10*375//3, 10*375//4]\n"
   ]
  },
  {
   "cell_type": "code",
   "execution_count": 5,
   "id": "1bb339c8",
   "metadata": {},
   "outputs": [],
   "source": [
    "# if config[\"training\"] == True:\n",
    "# experiment_values = [10*375//1, 10*375//1.5, 10*375//2, 10*375//3, 10*375//4]\n",
    "# experiment_values = [10*375//3, 10*375//3, 10*375//3, 10*375//3, 10*375//3]\n",
    "# experiment_values = [10*375//2, 10*375//2, 10*375//2, 10*375//2, 10*375//2, 10*375//2, 10*375//2]\n",
    "# experiment_values = [10*375, 10*375, 10*375, 10*375, 10*375, 10*375, 10*375, 10*375, 10*375, 10*375]\n",
    "experiment_values = [10*375, 10*375, 10*375, 10*375, 10*375, 10*375, 10*375, 10*375, 10*375, 10*375]\n",
    "\n",
    "experiment_values = [int(x) for x in experiment_values]\n",
    "results = []\n",
    "\n",
    "#exp_id_base = 148\n",
    "# exp_id_base = 155\n",
    "exp_id_base = 175\n",
    "\n",
    "\n",
    "exp_ids = range(exp_id_base, exp_id_base+len(experiment_values))\n"
   ]
  },
  {
   "cell_type": "code",
   "execution_count": 6,
   "id": "c7ae3a0c",
   "metadata": {},
   "outputs": [
    {
     "data": {
      "text/plain": [
       "range(191, 201)"
      ]
     },
     "execution_count": 6,
     "metadata": {},
     "output_type": "execute_result"
    }
   ],
   "source": [
    "exp_ids"
   ]
  },
  {
   "cell_type": "code",
   "execution_count": null,
   "id": "cfa1145d",
   "metadata": {},
   "outputs": [],
   "source": [
    "from enum import Enum\n",
    "UncertaintyMethod = Enum('Predictor', 'pred_var MI pred_entropy KL pred_entropy_single evidential')\n",
    "uncertaintyMethod = \"evidential\"\n"
   ]
  },
  {
   "cell_type": "code",
   "execution_count": 7,
   "id": "55da0bd1",
   "metadata": {},
   "outputs": [
    {
     "name": "stdout",
     "output_type": "stream",
     "text": [
      "D:/Jorge/datasets/deforestation/MT/deforestation_past_years.tif\n",
      "Loaded deforestation past years\n"
     ]
    },
    {
     "name": "stderr",
     "output_type": "stream",
     "text": [
      "ic| np.unique(deforestation_past_years, return_counts=True): (array([   0, 2008, 2009, 2010, 2011, 2012, 2013, 2014, 2015, 2016, 2017,\n",
      "                                                                    2018, 2019, 2020, 2021], dtype=uint16),\n",
      "                                                              array([161124576,   1332784,    240796,    338545,    313901,    287191,\n",
      "                                                                       708581,    648966,    876898,   1007787,   1098901,   1054092,\n",
      "                                                                      2096062,   2473828,   1400992], dtype=int64))\n"
     ]
    },
    {
     "name": "stdout",
     "output_type": "stream",
     "text": [
      "Label where deforestation past years is actual date (2019) = 1\n"
     ]
    },
    {
     "name": "stderr",
     "output_type": "stream",
     "text": [
      "ic| np.unique(deforestation_past_years, return_counts=True): (array([   0, 2008, 2009, 2010, 2011, 2012, 2013, 2014, 2015, 2016, 2017,\n",
      "                                                                    2018, 2019, 2020, 2021], dtype=uint16),\n",
      "                                                              array([161124576,   1332784,    240796,    338545,    313901,    287191,\n",
      "                                                                       708581,    648966,    876898,   1007787,   1098901,   1054092,\n",
      "                                                                      2096062,   2473828,   1400992], dtype=int64))\n"
     ]
    },
    {
     "name": "stdout",
     "output_type": "stream",
     "text": [
      "Past deforestation different from 0 (no deforestation)\n"
     ]
    },
    {
     "name": "stderr",
     "output_type": "stream",
     "text": [
      "ic| np.unique(deforestation_past_years, return_counts=True): (array([   0, 2008, 2009, 2010, 2011, 2012, 2013, 2014, 2015, 2016, 2017,\n",
      "                                                                    2018, 2019, 2020, 2021], dtype=uint16),\n",
      "                                                              array([161124576,   1332784,    240796,    338545,    313901,    287191,\n",
      "                                                                       708581,    648966,    876898,   1007787,   1098901,   1054092,\n",
      "                                                                      2096062,   2473828,   1400992], dtype=int64))\n"
     ]
    },
    {
     "name": "stdout",
     "output_type": "stream",
     "text": [
      "Past deforestation before 2008 is 2\n",
      "D:/Jorge/datasets/deforestation/MT/deforestation_before_2008/deforestation_before_2008_MT.tif\n"
     ]
    },
    {
     "name": "stderr",
     "output_type": "stream",
     "text": [
      "ic| np.unique(label_past_deforestation_before_2008, return_counts=True): (array([  0, 215], dtype=uint8), array([122623260,  52380640], dtype=int64))\n",
      "ic| np.unique(deforestation_past_years, return_counts=True): (array([   0, 2008, 2009, 2010, 2011, 2012, 2013, 2014, 2015, 2016, 2017,\n",
      "                                                                    2018, 2019, 2020, 2021], dtype=uint16),\n",
      "                                                              array([161124576,   1332784,    240796,    338545,    313901,    287191,\n",
      "                                                                       708581,    648966,    876898,   1007787,   1098901,   1054092,\n",
      "                                                                      2096062,   2473828,   1400992], dtype=int64))\n",
      "ic| label_per_date.shape: (16795, 10420, 1)\n"
     ]
    },
    {
     "name": "stdout",
     "output_type": "stream",
     "text": [
      "Mask label shape:  \n",
      " (16795, 10420, 1) \n",
      " Unique values:  \n",
      " [0 1 2]\n",
      "Tiles size:  3359 2084\n",
      "Mask size:  (16795, 10420)\n"
     ]
    },
    {
     "name": "stderr",
     "output_type": "stream",
     "text": [
      "ic| image_stack.shape: (16795, 10420, 21)\n"
     ]
    },
    {
     "name": "stdout",
     "output_type": "stream",
     "text": [
      "Image shape:  (16795, 10420, 21)\n",
      "mask:  (16795, 10420)\n",
      "image stack:  (16795, 10420, 21)\n",
      "ref : (16795, 10420, 1)\n",
      "Training tiles:  [2, 4, 5, 6, 7, 12, 14, 15, 18, 21, 23, 24]\n",
      "Validation tiles:  [9, 11, 25]\n",
      "Test tiles:  [1, 3, 8, 10, 13, 16, 17, 19, 20, 22]\n"
     ]
    },
    {
     "name": "stderr",
     "output_type": "stream",
     "text": [
      "ic| im_idx_row.shape: (16795, 10420, 1)\n",
      "    im_idx_col.shape: (16795, 10420, 1)\n",
      "ic| im_idx_row.dtype: dtype('uint16')\n",
      "    im_idx_col.dtype: dtype('uint16')\n",
      "ic| im_idx.shape: (16795, 10420, 2), im_idx.dtype: dtype('uint16')\n",
      "ic| coords.shape: (439, 271, 1, 128, 128, 2)\n",
      "    coords.dtype: dtype('uint16')\n",
      "ic| coords.shape: (118969, 2), coords.dtype: dtype('uint16')\n",
      "ic| self.coords_train.shape: (54516, 3)\n",
      "    self.coords_val.shape: (13175, 3)\n"
     ]
    },
    {
     "name": "stdout",
     "output_type": "stream",
     "text": [
      "training samples:  (2962, 3) validation samples:  (623, 3)\n",
      "time:  0\n",
      "Model: \"model\"\n",
      "__________________________________________________________________________________________________\n",
      "Layer (type)                    Output Shape         Param #     Connected to                     \n",
      "==================================================================================================\n",
      "input_enc_net (InputLayer)      [(None, 128, 128, 21 0                                            \n",
      "__________________________________________________________________________________________________\n",
      "res1_net1 (Conv2D)              (None, 128, 128, 16) 3040        input_enc_net[0][0]              \n",
      "__________________________________________________________________________________________________\n",
      "drop_net1 (Dropout)             (None, 128, 128, 16) 0           res1_net1[0][0]                  \n",
      "__________________________________________________________________________________________________\n",
      "res2_net1 (Conv2D)              (None, 128, 128, 16) 2320        drop_net1[0][0]                  \n",
      "__________________________________________________________________________________________________\n",
      "res3_net1 (Conv2D)              (None, 128, 128, 16) 352         input_enc_net[0][0]              \n",
      "__________________________________________________________________________________________________\n",
      "add (Add)                       (None, 128, 128, 16) 0           res2_net1[0][0]                  \n",
      "                                                                 res3_net1[0][0]                  \n",
      "__________________________________________________________________________________________________\n",
      "pool_net1 (MaxPooling2D)        (None, 64, 64, 16)   0           add[0][0]                        \n",
      "__________________________________________________________________________________________________\n",
      "res1_net2 (Conv2D)              (None, 64, 64, 32)   4640        pool_net1[0][0]                  \n",
      "__________________________________________________________________________________________________\n",
      "drop_net2 (Dropout)             (None, 64, 64, 32)   0           res1_net2[0][0]                  \n",
      "__________________________________________________________________________________________________\n",
      "res2_net2 (Conv2D)              (None, 64, 64, 32)   9248        drop_net2[0][0]                  \n",
      "__________________________________________________________________________________________________\n",
      "res3_net2 (Conv2D)              (None, 64, 64, 32)   544         pool_net1[0][0]                  \n",
      "__________________________________________________________________________________________________\n",
      "add_1 (Add)                     (None, 64, 64, 32)   0           res2_net2[0][0]                  \n",
      "                                                                 res3_net2[0][0]                  \n",
      "__________________________________________________________________________________________________\n",
      "pool_net2 (MaxPooling2D)        (None, 32, 32, 32)   0           add_1[0][0]                      \n",
      "__________________________________________________________________________________________________\n",
      "res1_net3 (Conv2D)              (None, 32, 32, 64)   18496       pool_net2[0][0]                  \n",
      "__________________________________________________________________________________________________\n",
      "drop_net3 (Dropout)             (None, 32, 32, 64)   0           res1_net3[0][0]                  \n",
      "__________________________________________________________________________________________________\n",
      "res2_net3 (Conv2D)              (None, 32, 32, 64)   36928       drop_net3[0][0]                  \n",
      "__________________________________________________________________________________________________\n",
      "res3_net3 (Conv2D)              (None, 32, 32, 64)   2112        pool_net2[0][0]                  \n",
      "__________________________________________________________________________________________________\n",
      "add_2 (Add)                     (None, 32, 32, 64)   0           res2_net3[0][0]                  \n",
      "                                                                 res3_net3[0][0]                  \n",
      "__________________________________________________________________________________________________\n",
      "pool_net3 (MaxPooling2D)        (None, 16, 16, 64)   0           add_2[0][0]                      \n",
      "__________________________________________________________________________________________________\n",
      "res1_net4 (Conv2D)              (None, 16, 16, 64)   36928       pool_net3[0][0]                  \n",
      "__________________________________________________________________________________________________\n",
      "drop_net4 (Dropout)             (None, 16, 16, 64)   0           res1_net4[0][0]                  \n",
      "__________________________________________________________________________________________________\n",
      "res2_net4 (Conv2D)              (None, 16, 16, 64)   36928       drop_net4[0][0]                  \n",
      "__________________________________________________________________________________________________\n",
      "res3_net4 (Conv2D)              (None, 16, 16, 64)   4160        pool_net3[0][0]                  \n",
      "__________________________________________________________________________________________________\n",
      "add_3 (Add)                     (None, 16, 16, 64)   0           res2_net4[0][0]                  \n",
      "                                                                 res3_net4[0][0]                  \n",
      "__________________________________________________________________________________________________\n",
      "res1_net5 (Conv2D)              (None, 16, 16, 64)   36928       add_3[0][0]                      \n",
      "__________________________________________________________________________________________________\n",
      "drop_net5 (Dropout)             (None, 16, 16, 64)   0           res1_net5[0][0]                  \n",
      "__________________________________________________________________________________________________\n",
      "res2_net5 (Conv2D)              (None, 16, 16, 64)   36928       drop_net5[0][0]                  \n",
      "__________________________________________________________________________________________________\n",
      "res3_net5 (Conv2D)              (None, 16, 16, 64)   4160        add_3[0][0]                      \n",
      "__________________________________________________________________________________________________\n",
      "add_4 (Add)                     (None, 16, 16, 64)   0           res2_net5[0][0]                  \n",
      "                                                                 res3_net5[0][0]                  \n",
      "__________________________________________________________________________________________________\n",
      "res1_net6 (Conv2D)              (None, 16, 16, 64)   36928       add_4[0][0]                      \n",
      "__________________________________________________________________________________________________\n",
      "drop_net6 (Dropout)             (None, 16, 16, 64)   0           res1_net6[0][0]                  \n",
      "__________________________________________________________________________________________________\n",
      "res2_net6 (Conv2D)              (None, 16, 16, 64)   36928       drop_net6[0][0]                  \n",
      "__________________________________________________________________________________________________\n",
      "res3_net6 (Conv2D)              (None, 16, 16, 64)   4160        add_4[0][0]                      \n",
      "__________________________________________________________________________________________________\n",
      "add_5 (Add)                     (None, 16, 16, 64)   0           res2_net6[0][0]                  \n",
      "                                                                 res3_net6[0][0]                  \n",
      "__________________________________________________________________________________________________\n",
      "up_sampling2d (UpSampling2D)    (None, 32, 32, 64)   0           add_5[0][0]                      \n",
      "__________________________________________________________________________________________________\n",
      "upsampling_net3 (Conv2D)        (None, 32, 32, 64)   36928       up_sampling2d[0][0]              \n",
      "__________________________________________________________________________________________________\n",
      "concatenate3 (Concatenate)      (None, 32, 32, 128)  0           add_2[0][0]                      \n",
      "                                                                 upsampling_net3[0][0]            \n",
      "__________________________________________________________________________________________________\n",
      "up_sampling2d_1 (UpSampling2D)  (None, 64, 64, 128)  0           concatenate3[0][0]               \n",
      "__________________________________________________________________________________________________\n",
      "upsampling_net2 (Conv2D)        (None, 64, 64, 32)   36896       up_sampling2d_1[0][0]            \n",
      "__________________________________________________________________________________________________\n",
      "concatenate2 (Concatenate)      (None, 64, 64, 64)   0           add_1[0][0]                      \n",
      "                                                                 upsampling_net2[0][0]            \n",
      "__________________________________________________________________________________________________\n",
      "up_sampling2d_2 (UpSampling2D)  (None, 128, 128, 64) 0           concatenate2[0][0]               \n",
      "__________________________________________________________________________________________________\n",
      "upsampling_net1 (Conv2D)        (None, 128, 128, 16) 9232        up_sampling2d_2[0][0]            \n",
      "__________________________________________________________________________________________________\n",
      "concatenate1 (Concatenate)      (None, 128, 128, 32) 0           add[0][0]                        \n",
      "                                                                 upsampling_net1[0][0]            \n",
      "__________________________________________________________________________________________________\n",
      "output (Conv2D)                 (None, 128, 128, 3)  99          concatenate1[0][0]               \n",
      "==================================================================================================\n",
      "Total params: 394,883\n",
      "Trainable params: 394,883\n",
      "Non-trainable params: 0\n",
      "__________________________________________________________________________________________________\n"
     ]
    },
    {
     "name": "stderr",
     "output_type": "stream",
     "text": [
      "c:\\Users\\jchamorro\\Anaconda3\\envs\\tf2\\lib\\site-packages\\tensorflow\\python\\keras\\optimizer_v2\\optimizer_v2.py:374: UserWarning: The `lr` argument is deprecated, use `learning_rate` instead.\n",
      "  warnings.warn(\n",
      "c:\\Users\\jchamorro\\Anaconda3\\envs\\tf2\\lib\\site-packages\\tensorflow\\python\\keras\\engine\\training.py:1969: UserWarning: `Model.fit_generator` is deprecated and will be removed in a future version. Please use `Model.fit`, which supports generators.\n",
      "  warnings.warn('`Model.fit_generator` is deprecated and '\n"
     ]
    },
    {
     "name": "stdout",
     "output_type": "stream",
     "text": [
      "Epoch 1/100\n",
      "self.global_step 0.0\n",
      "alpha Tensor(\"loss/add:0\", shape=(None, 128, 128, 3), dtype=float32)\n",
      "u Tensor(\"loss/truediv:0\", shape=(None, 128, 128, 1), dtype=float32)\n",
      "alpha Tensor(\"add:0\", shape=(None, 128, 128, 3), dtype=float32)\n",
      "u Tensor(\"truediv:0\", shape=(None, 128, 128, 1), dtype=float32)\n",
      "K.int_shape(KL_reg) Tensor(\"mul_6:0\", shape=(None, 128, 128, 1), dtype=float32)\n",
      "alpha Tensor(\"add_7:0\", shape=(None, 128, 128, 3), dtype=float32)\n",
      "u Tensor(\"truediv_5:0\", shape=(None, 128, 128, 1), dtype=float32)\n",
      "K.int_shape(KL_reg) Tensor(\"mul_12:0\", shape=(None, 128, 128, 1), dtype=float32)\n",
      "alpha Tensor(\"loss/add:0\", shape=(None, 128, 128, 3), dtype=float32)\n",
      "u Tensor(\"loss/truediv:0\", shape=(None, 128, 128, 1), dtype=float32)\n",
      "alpha Tensor(\"add:0\", shape=(None, 128, 128, 3), dtype=float32)\n",
      "u Tensor(\"truediv:0\", shape=(None, 128, 128, 1), dtype=float32)\n",
      "K.int_shape(KL_reg) Tensor(\"mul_6:0\", shape=(None, 128, 128, 1), dtype=float32)\n",
      "alpha Tensor(\"add_7:0\", shape=(None, 128, 128, 3), dtype=float32)\n",
      "u Tensor(\"truediv_5:0\", shape=(None, 128, 128, 1), dtype=float32)\n",
      "K.int_shape(KL_reg) Tensor(\"mul_12:0\", shape=(None, 128, 128, 1), dtype=float32)\n",
      "277/277 [==============================] - ETA: 0s - loss: 0.2502 - accuracy: 0.8487 - KL_term: 0.0128 - loglikelihood_term: 0.2372 - evidential_success: 34.3549 - evidential_fail: 16.9093 - acc: 0.8488 - annealing_coef: 0.0368 - global_step_get: 138.0000 - annealing_step_get: 3750.0000alpha Tensor(\"loss/add:0\", shape=(None, 128, 128, 3), dtype=float32)\n",
      "u Tensor(\"loss/truediv:0\", shape=(None, 128, 128, 1), dtype=float32)\n",
      "alpha Tensor(\"add:0\", shape=(None, 128, 128, 3), dtype=float32)\n",
      "u Tensor(\"truediv:0\", shape=(None, 128, 128, 1), dtype=float32)\n",
      "K.int_shape(KL_reg) Tensor(\"mul_6:0\", shape=(None, 128, 128, 1), dtype=float32)\n",
      "alpha Tensor(\"add_7:0\", shape=(None, 128, 128, 3), dtype=float32)\n",
      "u Tensor(\"truediv_5:0\", shape=(None, 128, 128, 1), dtype=float32)\n",
      "K.int_shape(KL_reg) Tensor(\"mul_12:0\", shape=(None, 128, 128, 1), dtype=float32)\n",
      "277/277 [==============================] - 31s 90ms/step - loss: 0.2502 - accuracy: 0.8487 - KL_term: 0.0128 - loglikelihood_term: 0.2372 - evidential_success: 34.3549 - evidential_fail: 16.9093 - acc: 0.8488 - annealing_coef: 0.0368 - global_step_get: 138.0000 - annealing_step_get: 3750.0000 - val_loss: 0.1163 - val_accuracy: 0.9435 - val_KL_term: 0.0093 - val_loglikelihood_term: 0.1065 - val_evidential_success: 29.4075 - val_evidential_fail: 10.8317 - val_acc: 0.9437 - val_annealing_coef: 0.0736 - val_global_step_get: 276.0000 - val_annealing_step_get: 3750.0000\n",
      "\n",
      "Epoch 00001: val_loss improved from inf to 0.11625, saving model to D:/Jorge/datasets/deforestation/experiments/MT/exp191/models\\resunet_0.h5\n",
      "Epoch 2/100\n",
      "self.global_step 276.0\n",
      "  1/277 [..............................] - ETA: 17s - loss: 0.1648 - accuracy: 0.9006 - KL_term: 0.0000e+00 - loglikelihood_term: 0.1648 - evidential_success: 38.6707 - evidential_fail: 12.9679 - acc: 0.9006 - annealing_coef: 0.0000e+00 - global_step_get: 0.0000e+00 - annealing_step_get: 3750.0000"
     ]
    },
    {
     "name": "stderr",
     "output_type": "stream",
     "text": [
      "c:\\Users\\jchamorro\\Anaconda3\\envs\\tf2\\lib\\site-packages\\tensorflow\\python\\keras\\utils\\generic_utils.py:494: CustomMaskWarning: Custom mask layers require a config and must override get_config. When loading, the custom mask layer must be passed to the custom_objects argument.\n",
      "  warnings.warn('Custom mask layers require a config and must override '\n"
     ]
    },
    {
     "name": "stdout",
     "output_type": "stream",
     "text": [
      "277/277 [==============================] - 24s 86ms/step - loss: 0.1612 - accuracy: 0.9125 - KL_term: 0.0148 - loglikelihood_term: 0.1463 - evidential_success: 48.3302 - evidential_fail: 15.4146 - acc: 0.9126 - annealing_coef: 0.0736 - global_step_get: 276.0000 - annealing_step_get: 3750.0000 - val_loss: 0.1232 - val_accuracy: 0.9445 - val_KL_term: 0.0120 - val_loglikelihood_term: 0.1104 - val_evidential_success: 38.7166 - val_evidential_fail: 7.1284 - val_acc: 0.9446 - val_annealing_coef: 0.1472 - val_global_step_get: 552.0000 - val_annealing_step_get: 3750.0000\n",
      "\n",
      "Epoch 00002: val_loss did not improve from 0.11625\n",
      "Epoch 3/100\n",
      "self.global_step 552.0\n",
      "277/277 [==============================] - 24s 86ms/step - loss: 0.1586 - accuracy: 0.9167 - KL_term: 0.0175 - loglikelihood_term: 0.1409 - evidential_success: 55.6426 - evidential_fail: 12.5242 - acc: 0.9168 - annealing_coef: 0.1104 - global_step_get: 414.0000 - annealing_step_get: 3750.0000 - val_loss: 0.1348 - val_accuracy: 0.9323 - val_KL_term: 0.0174 - val_loglikelihood_term: 0.1161 - val_evidential_success: 42.1482 - val_evidential_fail: 7.1452 - val_acc: 0.9329 - val_annealing_coef: 0.2208 - val_global_step_get: 828.0000 - val_annealing_step_get: 3750.0000\n",
      "\n",
      "Epoch 00003: val_loss did not improve from 0.11625\n",
      "Epoch 4/100\n",
      "self.global_step 828.0\n",
      "277/277 [==============================] - 24s 86ms/step - loss: 0.1436 - accuracy: 0.9259 - KL_term: 0.0171 - loglikelihood_term: 0.1266 - evidential_success: 61.6890 - evidential_fail: 10.9155 - acc: 0.9258 - annealing_coef: 0.1472 - global_step_get: 552.0000 - annealing_step_get: 3750.0000 - val_loss: 0.1225 - val_accuracy: 0.9447 - val_KL_term: 0.0210 - val_loglikelihood_term: 0.1008 - val_evidential_success: 44.0870 - val_evidential_fail: 5.8711 - val_acc: 0.9450 - val_annealing_coef: 0.2944 - val_global_step_get: 1104.0000 - val_annealing_step_get: 3750.0000\n",
      "\n",
      "Epoch 00004: val_loss did not improve from 0.11625\n",
      "Epoch 5/100\n",
      "self.global_step 1104.0\n",
      "277/277 [==============================] - 24s 86ms/step - loss: 0.1431 - accuracy: 0.9278 - KL_term: 0.0197 - loglikelihood_term: 0.1236 - evidential_success: 66.1735 - evidential_fail: 9.5051 - acc: 0.9276 - annealing_coef: 0.1840 - global_step_get: 690.0000 - annealing_step_get: 3750.0000 - val_loss: 0.1204 - val_accuracy: 0.9508 - val_KL_term: 0.0218 - val_loglikelihood_term: 0.0979 - val_evidential_success: 38.7883 - val_evidential_fail: 4.8176 - val_acc: 0.9508 - val_annealing_coef: 0.3680 - val_global_step_get: 1380.0000 - val_annealing_step_get: 3750.0000\n",
      "\n",
      "Epoch 00005: val_loss did not improve from 0.11625\n",
      "Epoch 6/100\n",
      "self.global_step 1380.0\n",
      "277/277 [==============================] - 24s 86ms/step - loss: 0.1330 - accuracy: 0.9346 - KL_term: 0.0193 - loglikelihood_term: 0.1137 - evidential_success: 67.5629 - evidential_fail: 9.3361 - acc: 0.9346 - annealing_coef: 0.2208 - global_step_get: 828.0000 - annealing_step_get: 3750.0000 - val_loss: 0.1278 - val_accuracy: 0.9495 - val_KL_term: 0.0301 - val_loglikelihood_term: 0.0970 - val_evidential_success: 61.1162 - val_evidential_fail: 6.5431 - val_acc: 0.9495 - val_annealing_coef: 0.4416 - val_global_step_get: 1656.0000 - val_annealing_step_get: 3750.0000\n",
      "\n",
      "Epoch 00006: val_loss did not improve from 0.11625\n",
      "Epoch 7/100\n",
      "self.global_step 1656.0\n",
      "277/277 [==============================] - 24s 87ms/step - loss: 0.1240 - accuracy: 0.9391 - KL_term: 0.0186 - loglikelihood_term: 0.1054 - evidential_success: 80.9685 - evidential_fail: 7.3772 - acc: 0.9391 - annealing_coef: 0.2576 - global_step_get: 966.0000 - annealing_step_get: 3750.0000 - val_loss: 0.1370 - val_accuracy: 0.9475 - val_KL_term: 0.0351 - val_loglikelihood_term: 0.1009 - val_evidential_success: 46.4982 - val_evidential_fail: 5.5155 - val_acc: 0.9477 - val_annealing_coef: 0.5152 - val_global_step_get: 1932.0000 - val_annealing_step_get: 3750.0000\n",
      "\n",
      "Epoch 00007: val_loss did not improve from 0.11625\n",
      "Epoch 8/100\n",
      "self.global_step 1932.0\n",
      "277/277 [==============================] - 24s 86ms/step - loss: 0.1249 - accuracy: 0.9403 - KL_term: 0.0202 - loglikelihood_term: 0.1048 - evidential_success: 81.5268 - evidential_fail: 6.9774 - acc: 0.9403 - annealing_coef: 0.2944 - global_step_get: 1104.0000 - annealing_step_get: 3750.0000 - val_loss: 0.1284 - val_accuracy: 0.9511 - val_KL_term: 0.0344 - val_loglikelihood_term: 0.0934 - val_evidential_success: 61.6174 - val_evidential_fail: 5.4084 - val_acc: 0.9511 - val_annealing_coef: 0.5888 - val_global_step_get: 2208.0000 - val_annealing_step_get: 3750.0000\n",
      "\n",
      "Epoch 00008: val_loss did not improve from 0.11625\n",
      "Epoch 9/100\n",
      "self.global_step 2208.0\n",
      "277/277 [==============================] - 24s 85ms/step - loss: 0.1293 - accuracy: 0.9402 - KL_term: 0.0226 - loglikelihood_term: 0.1067 - evidential_success: 79.2885 - evidential_fail: 8.8123 - acc: 0.9402 - annealing_coef: 0.3312 - global_step_get: 1242.0000 - annealing_step_get: 3750.0000 - val_loss: 0.1460 - val_accuracy: 0.9463 - val_KL_term: 0.0458 - val_loglikelihood_term: 0.0990 - val_evidential_success: 54.1355 - val_evidential_fail: 5.9350 - val_acc: 0.9466 - val_annealing_coef: 0.6624 - val_global_step_get: 2484.0000 - val_annealing_step_get: 3750.0000\n",
      "\n",
      "Epoch 00009: val_loss did not improve from 0.11625\n",
      "Epoch 10/100\n",
      "self.global_step 2484.0\n",
      "277/277 [==============================] - 24s 86ms/step - loss: 0.1135 - accuracy: 0.9469 - KL_term: 0.0191 - loglikelihood_term: 0.0943 - evidential_success: 90.3783 - evidential_fail: 6.2006 - acc: 0.9469 - annealing_coef: 0.3680 - global_step_get: 1380.0000 - annealing_step_get: 3750.0000 - val_loss: 0.1479 - val_accuracy: 0.9507 - val_KL_term: 0.0539 - val_loglikelihood_term: 0.0928 - val_evidential_success: 74.8859 - val_evidential_fail: 8.0398 - val_acc: 0.9507 - val_annealing_coef: 0.7360 - val_global_step_get: 2760.0000 - val_annealing_step_get: 3750.0000\n",
      "\n",
      "Epoch 00010: val_loss did not improve from 0.11625\n",
      "Epoch 11/100\n",
      "self.global_step 2760.0\n",
      "277/277 [==============================] - 24s 86ms/step - loss: 0.1126 - accuracy: 0.9482 - KL_term: 0.0198 - loglikelihood_term: 0.0927 - evidential_success: 94.3346 - evidential_fail: 6.1210 - acc: 0.9483 - annealing_coef: 0.4048 - global_step_get: 1518.0000 - annealing_step_get: 3750.0000 - val_loss: 0.1513 - val_accuracy: 0.9506 - val_KL_term: 0.0569 - val_loglikelihood_term: 0.0931 - val_evidential_success: 71.9209 - val_evidential_fail: 7.4652 - val_acc: 0.9507 - val_annealing_coef: 0.8096 - val_global_step_get: 3036.0000 - val_annealing_step_get: 3750.0000\n",
      "\n",
      "Epoch 00011: val_loss did not improve from 0.11625\n",
      "Epoch 00011: early stopping\n",
      "-5.0 -12.0\n"
     ]
    },
    {
     "name": "stderr",
     "output_type": "stream",
     "text": [
      "ic| self.path_models+ '/' + self.method +'_'+str(0)+'.h5': 'D:/Jorge/datasets/deforestation/experiments/MT/exp191/models/resunet_0.h5'\n"
     ]
    },
    {
     "name": "stdout",
     "output_type": "stream",
     "text": [
      "time:  0\n",
      "(39774655,)\n",
      "(array([0, 1], dtype=uint8), array([39234711,   539944], dtype=int64))\n",
      "(16795, 10420)\n",
      "(array([0., 1.], dtype=float32), array([173041282,   1962618], dtype=int64))\n"
     ]
    },
    {
     "name": "stderr",
     "output_type": "stream",
     "text": [
      "ic| self.predicted_unpad.shape: (16795, 10420)\n",
      "    self.predicted.shape: (16795, 10420)\n",
      "ic| predicted_test.shape: (70001560,)\n",
      "ic| predicted_test.shape: (39774655,)\n",
      "ic| np.unique(predicted, return_counts=True): (array([0., 1.], dtype=float32), array([173041282,   1962618], dtype=int64))\n",
      "    np.unique(predicted_larger_than_min_area, return_counts=True): (array([0., 1.], dtype=float32), array([173163506,   1840394], dtype=int64))\n",
      "ic| np.unique(ignored_polygons, return_counts=True): (array([0., 1.], dtype=float32), array([174881676,    122224], dtype=int64))\n",
      "ic| self.f1: 82.14, self.precision: 80.48, self.recall: 83.87\n",
      "ic| self.label_mask_val.shape: (21000468,)\n",
      "ic| self.label_mask_val_valid.shape: (10890035,)\n",
      "ic| f1_val: 96.52\n",
      "    precision_val: 97.3\n",
      "    recall_val: 95.75\n",
      "    mAP_val: 98.73\n"
     ]
    },
    {
     "name": "stdout",
     "output_type": "stream",
     "text": [
      "(array([0., 1.], dtype=float32), array([174516896,    487004], dtype=int64))\n"
     ]
    },
    {
     "name": "stderr",
     "output_type": "stream",
     "text": [
      "ic| self.label_mask.shape: (16795, 10420)\n",
      "ic| self.mask_amazon_ts.shape: (16795, 10420)\n",
      "ic| self.label_mask_test.shape: (70001560,)\n",
      "ic| self.error_mask_test.shape: (39725070,)\n",
      "ic| bounds: (0.0015, 0.8637791976928711)\n",
      "c:\\Users\\jchamorro\\Anaconda3\\envs\\tf2\\lib\\site-packages\\scipy\\optimize\\_minimize.py:783: RuntimeWarning: Method 'bounded' does not support relative tolerance in x; defaulting to absolute tolerance.\n",
      "  warn(\"Method 'bounded' does not support relative tolerance in x; \"\n"
     ]
    },
    {
     "name": "stdout",
     "output_type": "stream",
     "text": [
      "0.33086134572668685\n",
      "threshold 0.33086134572668685\n",
      "(39034420,) (39034420,)\n"
     ]
    },
    {
     "name": "stderr",
     "output_type": "stream",
     "text": [
      "ic| label_current_deforestation_test_classified_incorrect.shape: (690650,)\n",
      "    predicted_test_classified_incorrect.shape: (690650,)\n",
      "ic| TP_H + FN_H + FP_H + TN_H: 690650\n",
      "    len(label_mask_current_deforestation_test): 39725070\n",
      "ic| TP_H + FN_H + FP_H + TN_H: 690650\n",
      "    len(label_mask_current_deforestation_test): 39725070\n"
     ]
    },
    {
     "name": "stdout",
     "output_type": "stream",
     "text": [
      "cm_correct [[38584502    21701]\n",
      " [   46518   381699]]\n",
      "cm_incorrect [[504187  85884]\n",
      " [ 38764  61815]]\n",
      "[0.94620476 0.89136816 0.72182656 0.01738575 0.4185201  0.61459152]\n",
      "0.5344178519661843\n",
      "threshold 0.5344178519661843\n",
      "(39635116,) (39635116,)\n"
     ]
    },
    {
     "name": "stderr",
     "output_type": "stream",
     "text": [
      "ic| label_current_deforestation_test_classified_incorrect.shape: (89954,)\n",
      "    predicted_test_classified_incorrect.shape: (89954,)\n",
      "ic| TP_H + FN_H + FP_H + TN_H: 89954\n",
      "    len(label_mask_current_deforestation_test): 39725070\n",
      "ic| TP_H + FN_H + FP_H + TN_H: 89954\n",
      "    len(label_mask_current_deforestation_test): 39725070\n"
     ]
    },
    {
     "name": "stdout",
     "output_type": "stream",
     "text": [
      "cm_correct [[39018384    94970]\n",
      " [   80283   441479]]\n",
      "cm_incorrect [[70305 12615]\n",
      " [ 4999  2035]]\n",
      "[0.82296546 0.84613099 0.83487583 0.00226441 0.13890785 0.28930907]\n",
      "0.20505650623949742\n",
      "threshold 0.20505650623949742\n",
      "(37929713,) (37929713,)\n"
     ]
    },
    {
     "name": "stderr",
     "output_type": "stream",
     "text": [
      "ic| label_current_deforestation_test_classified_incorrect.shape: (1795357,)\n",
      "    predicted_test_classified_incorrect.shape: (1795357,)\n"
     ]
    },
    {
     "name": "stdout",
     "output_type": "stream",
     "text": [
      "cm_correct [[37654010     1416]\n",
      " [   24966   249321]]\n"
     ]
    },
    {
     "name": "stderr",
     "output_type": "stream",
     "text": [
      "ic| TP_H + FN_H + FP_H + TN_H: 1795357\n",
      "    len(label_mask_current_deforestation_test): 39725070\n",
      "ic| TP_H + FN_H + FP_H + TN_H: 1795357\n",
      "    len(label_mask_current_deforestation_test): 39725070\n"
     ]
    },
    {
     "name": "stdout",
     "output_type": "stream",
     "text": [
      "cm_incorrect [[1434679  106169]\n",
      " [  60316  194193]]\n",
      "[0.99435265 0.90897855 0.47148806 0.04519456 0.64652985 0.76301035]\n",
      "0.30358976691725426\n",
      "threshold 0.30358976691725426\n",
      "(38875737,) (38875737,)\n"
     ]
    },
    {
     "name": "stderr",
     "output_type": "stream",
     "text": [
      "ic| label_current_deforestation_test_classified_incorrect.shape: (849333,)\n",
      "    predicted_test_classified_incorrect.shape: (849333,)\n",
      "ic| TP_H + FN_H + FP_H + TN_H: 849333\n",
      "    len(label_mask_current_deforestation_test): 39725070\n",
      "ic| TP_H + FN_H + FP_H + TN_H: 849333\n",
      "    len(label_mask_current_deforestation_test): 39725070\n"
     ]
    },
    {
     "name": "stdout",
     "output_type": "stream",
     "text": [
      "cm_correct [[38459482    13289]\n",
      " [   42158   360808]]\n",
      "cm_incorrect [[629207  94296]\n",
      " [ 43124  82706]]\n",
      "[0.96447713 0.89538075 0.68231984 0.02138028 0.46726026 0.65728364]\n",
      "0.27401031657870056\n",
      "threshold 0.27401031657870056\n",
      "(38659707,) (38659707,)\n"
     ]
    },
    {
     "name": "stderr",
     "output_type": "stream",
     "text": [
      "ic| label_current_deforestation_test_classified_incorrect.shape: (1065363,)\n",
      "    predicted_test_classified_incorrect.shape: (1065363,)\n",
      "ic| TP_H + FN_H + FP_H + TN_H: 1065363\n",
      "    len(label_mask_current_deforestation_test): 39725070\n",
      "ic| TP_H + FN_H + FP_H + TN_H: 1065363\n",
      "    len(label_mask_current_deforestation_test): 39725070\n"
     ]
    },
    {
     "name": "stdout",
     "output_type": "stream",
     "text": [
      "cm_correct [[38280235     7622]\n",
      " [   37257   334593]]\n",
      "cm_incorrect [[808454  99963]\n",
      " [ 48025 108921]]\n",
      "[0.97772745 0.89980637 0.63274495 0.0268184  0.52144252 0.69400303]\n",
      "0.24767230468293888\n",
      "threshold 0.24767230468293888\n",
      "(38420355,) (38420355,)\n"
     ]
    },
    {
     "name": "stderr",
     "output_type": "stream",
     "text": [
      "ic| label_current_deforestation_test_classified_incorrect.shape: (1304715,)\n",
      "    predicted_test_classified_incorrect.shape: (1304715,)\n",
      "ic| TP_H + FN_H + FP_H + TN_H: 1304715\n",
      "    len(label_mask_current_deforestation_test): 39725070\n",
      "ic| TP_H + FN_H + FP_H + TN_H: 1304715\n",
      "    len(label_mask_current_deforestation_test): 39725070"
     ]
    },
    {
     "name": "stdout",
     "output_type": "stream",
     "text": [
      "cm_correct [[38076140     4527]\n",
      " [   32547   307141]]\n",
      "cm_incorrect [[1012549  103058]\n",
      " [  52735  136373]]\n"
     ]
    },
    {
     "name": "stderr",
     "output_type": "stream",
     "text": [
      "\n"
     ]
    },
    {
     "name": "stdout",
     "output_type": "stream",
     "text": [
      "[0.98547493 0.90418561 0.58083079 0.03284362 0.56957119 0.72113819]\n",
      "0.25874340193292333\n",
      "threshold 0.25874340193292333\n",
      "(38525981,) (38525981,)\n"
     ]
    },
    {
     "name": "stderr",
     "output_type": "stream",
     "text": [
      "ic| label_current_deforestation_test_classified_incorrect.shape: (1199089,)\n",
      "    predicted_test_classified_incorrect.shape: (1199089,)\n",
      "ic| TP_H + FN_H + FP_H + TN_H: 1199089\n",
      "    len(label_mask_current_deforestation_test): 39725070\n",
      "ic| TP_H + FN_H + FP_H + TN_H: 1199089\n",
      "    len(label_mask_current_deforestation_test): 39725070\n"
     ]
    },
    {
     "name": "stdout",
     "output_type": "stream",
     "text": [
      "cm_correct [[38166414     5718]\n",
      " [   34610   319239]]\n",
      "cm_incorrect [[922275 101867]\n",
      " [ 50672 124275]]\n",
      "[0.98240383 0.90218992 0.60370918 0.03018469 0.54954409 0.71035799]\n",
      "0.26045413740934\n",
      "threshold 0.26045413740934\n",
      "(38541724,) (38541724,)\n"
     ]
    },
    {
     "name": "stderr",
     "output_type": "stream",
     "text": [
      "ic| label_current_deforestation_test_classified_incorrect.shape: (1183346,)\n",
      "    predicted_test_classified_incorrect.shape: (1183346,)\n",
      "ic| TP_H + FN_H + FP_H + TN_H: 1183346\n",
      "    len(label_mask_current_deforestation_test): 39725070\n",
      "ic| TP_H + FN_H + FP_H + TN_H: 1183346\n",
      "    len(label_mask_current_deforestation_test): 39725070\n"
     ]
    },
    {
     "name": "stdout",
     "output_type": "stream",
     "text": [
      "cm_correct [[38179845     5918]\n",
      " [   34912   321049]]\n",
      "cm_incorrect [[908844 101667]\n",
      " [ 50370 122465]]\n",
      "[0.98190031 0.90192184 0.60713205 0.02978839 0.54639677 0.70856597]\n",
      "0.25920585138359103\n",
      "threshold 0.25920585138359103\n",
      "(38530361,) (38530361,)\n"
     ]
    },
    {
     "name": "stderr",
     "output_type": "stream",
     "text": [
      "ic| label_current_deforestation_test_classified_incorrect.shape: (1194709,)\n",
      "    predicted_test_classified_incorrect.shape: (1194709,)\n",
      "ic| TP_H + FN_H + FP_H + TN_H: 1194709\n",
      "    len(label_mask_current_deforestation_test): 39725070\n",
      "ic| TP_H + FN_H + FP_H + TN_H: 1194709\n",
      "    len(label_mask_current_deforestation_test): 39725070\n"
     ]
    },
    {
     "name": "stdout",
     "output_type": "stream",
     "text": [
      "cm_correct [[38170164     5778]\n",
      " [   34695   319724]]\n",
      "cm_incorrect [[918525 101807]\n",
      " [ 50587 123790]]\n",
      "[0.98224896 0.90210739 0.60462636 0.03007443 0.54872184 0.70989867]\n",
      "0.25956013315457216\n",
      "threshold 0.25956013315457216\n",
      "(38533567,) (38533567,)\n"
     ]
    },
    {
     "name": "stderr",
     "output_type": "stream",
     "text": [
      "ic| label_current_deforestation_test_classified_incorrect.shape: (1191503,)\n",
      "    predicted_test_classified_incorrect.shape: (1191503,)\n",
      "ic| TP_H + FN_H + FP_H + TN_H: 1191503\n",
      "    len(label_mask_current_deforestation_test): 39725070\n",
      "ic| TP_H + FN_H + FP_H + TN_H: 1191503\n",
      "    len(label_mask_current_deforestation_test): 39725070\n"
     ]
    },
    {
     "name": "stdout",
     "output_type": "stream",
     "text": [
      "cm_correct [[38172911     5812]\n",
      " [   34759   320085]]\n",
      "cm_incorrect [[915778 101773]\n",
      " [ 50523 123429]]\n",
      "[0.98216614 0.90204428 0.60530904 0.02999373 0.54808128 0.70955781]\n",
      "0.25990161239380644\n",
      "threshold 0.25990161239380644\n",
      "(38536614,) (38536614,)\n"
     ]
    },
    {
     "name": "stderr",
     "output_type": "stream",
     "text": [
      "ic| label_current_deforestation_test_classified_incorrect.shape: (1188456,)\n",
      "    predicted_test_classified_incorrect.shape: (1188456,)\n",
      "ic| TP_H + FN_H + FP_H + TN_H: 1188456\n",
      "    len(label_mask_current_deforestation_test): 39725070\n",
      "ic| TP_H + FN_H + FP_H + TN_H: 1188456\n",
      "    len(label_mask_current_deforestation_test): 39725070\n"
     ]
    },
    {
     "name": "stdout",
     "output_type": "stream",
     "text": [
      "cm_correct [[38175507     5844]\n",
      " [   34819   320444]]\n",
      "cm_incorrect [[913182 101741]\n",
      " [ 50463 123070]]\n",
      "[0.98208944 0.90199092 0.60598794 0.02991703 0.54743763 0.70920228]\n",
      "0.2595267959713399\n",
      "threshold 0.2595267959713399\n",
      "(38533276,) (38533276,)\n"
     ]
    },
    {
     "name": "stderr",
     "output_type": "stream",
     "text": [
      "ic| label_current_deforestation_test_classified_incorrect.shape: (1191794,)\n",
      "    predicted_test_classified_incorrect.shape: (1191794,)\n",
      "ic| TP_H + FN_H + FP_H + TN_H: 1191794\n",
      "    len(label_mask_current_deforestation_test): 39725070\n",
      "ic| TP_H + FN_H + FP_H + TN_H: 1191794\n",
      "    len(label_mask_current_deforestation_test): 39725070\n"
     ]
    },
    {
     "name": "stdout",
     "output_type": "stream",
     "text": [
      "cm_correct [[38172660     5811]\n",
      " [   34753   320052]]\n",
      "cm_incorrect [[916029 101774]\n",
      " [ 50529 123462]]\n",
      "[0.98216735 0.90205042 0.60524664 0.03000105 0.54814506 0.70958843]\n",
      "0.2594714949197063\n",
      "threshold 0.2594714949197063\n",
      "(38532771,) (38532771,)\n"
     ]
    },
    {
     "name": "stderr",
     "output_type": "stream",
     "text": [
      "ic| label_current_deforestation_test_classified_incorrect.shape: (1192299,)\n",
      "    predicted_test_classified_incorrect.shape: (1192299,)\n",
      "ic| TP_H + FN_H + FP_H + TN_H: 1192299\n",
      "    len(label_mask_current_deforestation_test): 39725070\n",
      "ic| TP_H + FN_H + FP_H + TN_H: 1192299\n",
      "    len(label_mask_current_deforestation_test): 39725070\n",
      "ic| self.threshold_optimal: 0.2595267959713399\n"
     ]
    },
    {
     "name": "stdout",
     "output_type": "stream",
     "text": [
      "cm_correct [[38172227     5803]\n",
      " [   34748   319993]]\n",
      "cm_incorrect [[916462 101782]\n",
      " [ 50534 123521]]\n",
      "[0.98218824 0.90204685 0.60513506 0.03001377 0.54824392 0.70966648]\n",
      "threshold 0.2595267959713399\n",
      "(38533276,) (38533276,)\n"
     ]
    },
    {
     "name": "stderr",
     "output_type": "stream",
     "text": [
      "ic| label_current_deforestation_test_classified_incorrect.shape: (1191794,)\n",
      "    predicted_test_classified_incorrect.shape: (1191794,)\n",
      "ic| TP_H + FN_H + FP_H + TN_H: 1191794\n",
      "    len(label_mask_current_deforestation_test): 39725070\n",
      "ic| TP_H + FN_H + FP_H + TN_H: 1191794\n",
      "    len(label_mask_current_deforestation_test): 39725070\n"
     ]
    },
    {
     "name": "stdout",
     "output_type": "stream",
     "text": [
      "cm_correct [[38172660     5811]\n",
      " [   34753   320052]]\n",
      "cm_incorrect [[916029 101774]\n",
      " [ 50529 123462]]\n",
      "[0.98216735 0.90205042 0.60524664 0.03000105 0.54814506 0.70958843]\n",
      "threshold 0.2595267959713399\n",
      "(39725070,) (39725070,)\n"
     ]
    },
    {
     "name": "stderr",
     "output_type": "stream",
     "text": [
      "ic| self.m_optimal: {'AA': array([0.03000105]),\n",
      "                     'f1': 82.14,\n",
      "                     'f1_H': array([0.61850526]),\n",
      "                     'f1_L': array([0.9404056]),\n",
      "                     'precision_H': array([0.54814506]),\n",
      "                     'precision_L': array([0.98216735]),\n",
      "                     'recall_H': array([0.70958843]),\n",
      "                     'recall_L': array([0.90205042]),\n",
      "                     'recall_Ltotal': array([0.60524664])}\n",
      "ic| self.m_audited_optimal: {'f1': array([0.96056579]),\n",
      "                             'precision': array([0.98837461]),\n",
      "                             'recall': array([0.934279])}\n"
     ]
    },
    {
     "name": "stdout",
     "output_type": "stream",
     "text": [
      "cm_audited [[39190463     5811]\n",
      " [   34753   494043]]\n",
      "[0.98837461 0.934279  ]\n",
      "D:/Jorge/datasets/deforestation/MT/deforestation_past_years.tif\n",
      "Loaded deforestation past years\n"
     ]
    },
    {
     "name": "stderr",
     "output_type": "stream",
     "text": [
      "ic| np.unique(deforestation_past_years, return_counts=True): (array([   0, 2008, 2009, 2010, 2011, 2012, 2013, 2014, 2015, 2016, 2017,\n",
      "                                                                    2018, 2019, 2020, 2021], dtype=uint16),\n",
      "                                                              array([161124576,   1332784,    240796,    338545,    313901,    287191,\n",
      "                                                                       708581,    648966,    876898,   1007787,   1098901,   1054092,\n",
      "                                                                      2096062,   2473828,   1400992], dtype=int64))\n"
     ]
    },
    {
     "name": "stdout",
     "output_type": "stream",
     "text": [
      "Label where deforestation past years is actual date (2019) = 1\n"
     ]
    },
    {
     "name": "stderr",
     "output_type": "stream",
     "text": [
      "ic| np.unique(deforestation_past_years, return_counts=True): (array([   0, 2008, 2009, 2010, 2011, 2012, 2013, 2014, 2015, 2016, 2017,\n",
      "                                                                    2018, 2019, 2020, 2021], dtype=uint16),\n",
      "                                                              array([161124576,   1332784,    240796,    338545,    313901,    287191,\n",
      "                                                                       708581,    648966,    876898,   1007787,   1098901,   1054092,\n",
      "                                                                      2096062,   2473828,   1400992], dtype=int64))\n"
     ]
    },
    {
     "name": "stdout",
     "output_type": "stream",
     "text": [
      "Past deforestation different from 0 (no deforestation)\n"
     ]
    },
    {
     "name": "stderr",
     "output_type": "stream",
     "text": [
      "ic| np.unique(deforestation_past_years, return_counts=True): (array([   0, 2008, 2009, 2010, 2011, 2012, 2013, 2014, 2015, 2016, 2017,\n",
      "                                                                    2018, 2019, 2020, 2021], dtype=uint16),\n",
      "                                                              array([161124576,   1332784,    240796,    338545,    313901,    287191,\n",
      "                                                                       708581,    648966,    876898,   1007787,   1098901,   1054092,\n",
      "                                                                      2096062,   2473828,   1400992], dtype=int64))\n"
     ]
    },
    {
     "name": "stdout",
     "output_type": "stream",
     "text": [
      "Past deforestation before 2008 is 2\n",
      "D:/Jorge/datasets/deforestation/MT/deforestation_before_2008/deforestation_before_2008_MT.tif\n"
     ]
    },
    {
     "name": "stderr",
     "output_type": "stream",
     "text": [
      "ic| np.unique(label_past_deforestation_before_2008, return_counts=True): (array([  0, 215], dtype=uint8), array([122623260,  52380640], dtype=int64))\n",
      "ic| np.unique(deforestation_past_years, return_counts=True): (array([   0, 2008, 2009, 2010, 2011, 2012, 2013, 2014, 2015, 2016, 2017,\n",
      "                                                                    2018, 2019, 2020, 2021], dtype=uint16),\n",
      "                                                              array([161124576,   1332784,    240796,    338545,    313901,    287191,\n",
      "                                                                       708581,    648966,    876898,   1007787,   1098901,   1054092,\n",
      "                                                                      2096062,   2473828,   1400992], dtype=int64))\n",
      "ic| label_per_date.shape: (16795, 10420, 1)\n"
     ]
    },
    {
     "name": "stdout",
     "output_type": "stream",
     "text": [
      "Mask label shape:  \n",
      " (16795, 10420, 1) \n",
      " Unique values:  \n",
      " [0 1 2]\n",
      "Tiles size:  3359 2084\n",
      "Mask size:  (16795, 10420)\n"
     ]
    },
    {
     "name": "stderr",
     "output_type": "stream",
     "text": [
      "ic| image_stack.shape: (16795, 10420, 21)\n"
     ]
    },
    {
     "name": "stdout",
     "output_type": "stream",
     "text": [
      "Image shape:  (16795, 10420, 21)\n",
      "mask:  (16795, 10420)\n",
      "image stack:  (16795, 10420, 21)\n",
      "ref : (16795, 10420, 1)\n",
      "Training tiles:  [2, 4, 5, 6, 7, 12, 14, 15, 18, 21, 23, 24]\n",
      "Validation tiles:  [9, 11, 25]\n",
      "Test tiles:  [1, 3, 8, 10, 13, 16, 17, 19, 20, 22]\n"
     ]
    },
    {
     "name": "stderr",
     "output_type": "stream",
     "text": [
      "ic| im_idx_row.shape: (16795, 10420, 1)\n",
      "    im_idx_col.shape: (16795, 10420, 1)\n",
      "ic| im_idx_row.dtype: dtype('uint16')\n",
      "    im_idx_col.dtype: dtype('uint16')\n",
      "ic| im_idx.shape: (16795, 10420, 2), im_idx.dtype: dtype('uint16')\n",
      "ic| coords.shape: (439, 271, 1, 128, 128, 2)\n",
      "    coords.dtype: dtype('uint16')\n",
      "ic| coords.shape: (118969, 2), coords.dtype: dtype('uint16')\n",
      "ic| self.coords_train.shape: (54516, 3)\n",
      "    self.coords_val.shape: (13175, 3)\n"
     ]
    },
    {
     "name": "stdout",
     "output_type": "stream",
     "text": [
      "training samples:  (2962, 3) validation samples:  (623, 3)\n",
      "time:  0\n",
      "Model: \"model_2\"\n",
      "__________________________________________________________________________________________________\n",
      "Layer (type)                    Output Shape         Param #     Connected to                     \n",
      "==================================================================================================\n",
      "input_enc_net (InputLayer)      [(None, 128, 128, 21 0                                            \n",
      "__________________________________________________________________________________________________\n",
      "res1_net1 (Conv2D)              (None, 128, 128, 16) 3040        input_enc_net[0][0]              \n",
      "__________________________________________________________________________________________________\n",
      "drop_net1 (Dropout)             (None, 128, 128, 16) 0           res1_net1[0][0]                  \n",
      "__________________________________________________________________________________________________\n",
      "res2_net1 (Conv2D)              (None, 128, 128, 16) 2320        drop_net1[0][0]                  \n",
      "__________________________________________________________________________________________________\n",
      "res3_net1 (Conv2D)              (None, 128, 128, 16) 352         input_enc_net[0][0]              \n",
      "__________________________________________________________________________________________________\n",
      "add_12 (Add)                    (None, 128, 128, 16) 0           res2_net1[0][0]                  \n",
      "                                                                 res3_net1[0][0]                  \n",
      "__________________________________________________________________________________________________\n",
      "pool_net1 (MaxPooling2D)        (None, 64, 64, 16)   0           add_12[0][0]                     \n",
      "__________________________________________________________________________________________________\n",
      "res1_net2 (Conv2D)              (None, 64, 64, 32)   4640        pool_net1[0][0]                  \n",
      "__________________________________________________________________________________________________\n",
      "drop_net2 (Dropout)             (None, 64, 64, 32)   0           res1_net2[0][0]                  \n",
      "__________________________________________________________________________________________________\n",
      "res2_net2 (Conv2D)              (None, 64, 64, 32)   9248        drop_net2[0][0]                  \n",
      "__________________________________________________________________________________________________\n",
      "res3_net2 (Conv2D)              (None, 64, 64, 32)   544         pool_net1[0][0]                  \n",
      "__________________________________________________________________________________________________\n",
      "add_13 (Add)                    (None, 64, 64, 32)   0           res2_net2[0][0]                  \n",
      "                                                                 res3_net2[0][0]                  \n",
      "__________________________________________________________________________________________________\n",
      "pool_net2 (MaxPooling2D)        (None, 32, 32, 32)   0           add_13[0][0]                     \n",
      "__________________________________________________________________________________________________\n",
      "res1_net3 (Conv2D)              (None, 32, 32, 64)   18496       pool_net2[0][0]                  \n",
      "__________________________________________________________________________________________________\n",
      "drop_net3 (Dropout)             (None, 32, 32, 64)   0           res1_net3[0][0]                  \n",
      "__________________________________________________________________________________________________\n",
      "res2_net3 (Conv2D)              (None, 32, 32, 64)   36928       drop_net3[0][0]                  \n",
      "__________________________________________________________________________________________________\n",
      "res3_net3 (Conv2D)              (None, 32, 32, 64)   2112        pool_net2[0][0]                  \n",
      "__________________________________________________________________________________________________\n",
      "add_14 (Add)                    (None, 32, 32, 64)   0           res2_net3[0][0]                  \n",
      "                                                                 res3_net3[0][0]                  \n",
      "__________________________________________________________________________________________________\n",
      "pool_net3 (MaxPooling2D)        (None, 16, 16, 64)   0           add_14[0][0]                     \n",
      "__________________________________________________________________________________________________\n",
      "res1_net4 (Conv2D)              (None, 16, 16, 64)   36928       pool_net3[0][0]                  \n",
      "__________________________________________________________________________________________________\n",
      "drop_net4 (Dropout)             (None, 16, 16, 64)   0           res1_net4[0][0]                  \n",
      "__________________________________________________________________________________________________\n",
      "res2_net4 (Conv2D)              (None, 16, 16, 64)   36928       drop_net4[0][0]                  \n",
      "__________________________________________________________________________________________________\n",
      "res3_net4 (Conv2D)              (None, 16, 16, 64)   4160        pool_net3[0][0]                  \n",
      "__________________________________________________________________________________________________\n",
      "add_15 (Add)                    (None, 16, 16, 64)   0           res2_net4[0][0]                  \n",
      "                                                                 res3_net4[0][0]                  \n",
      "__________________________________________________________________________________________________\n",
      "res1_net5 (Conv2D)              (None, 16, 16, 64)   36928       add_15[0][0]                     \n",
      "__________________________________________________________________________________________________\n",
      "drop_net5 (Dropout)             (None, 16, 16, 64)   0           res1_net5[0][0]                  \n",
      "__________________________________________________________________________________________________\n",
      "res2_net5 (Conv2D)              (None, 16, 16, 64)   36928       drop_net5[0][0]                  \n",
      "__________________________________________________________________________________________________\n",
      "res3_net5 (Conv2D)              (None, 16, 16, 64)   4160        add_15[0][0]                     \n",
      "__________________________________________________________________________________________________\n",
      "add_16 (Add)                    (None, 16, 16, 64)   0           res2_net5[0][0]                  \n",
      "                                                                 res3_net5[0][0]                  \n",
      "__________________________________________________________________________________________________\n",
      "res1_net6 (Conv2D)              (None, 16, 16, 64)   36928       add_16[0][0]                     \n",
      "__________________________________________________________________________________________________\n",
      "drop_net6 (Dropout)             (None, 16, 16, 64)   0           res1_net6[0][0]                  \n",
      "__________________________________________________________________________________________________\n",
      "res2_net6 (Conv2D)              (None, 16, 16, 64)   36928       drop_net6[0][0]                  \n",
      "__________________________________________________________________________________________________\n",
      "res3_net6 (Conv2D)              (None, 16, 16, 64)   4160        add_16[0][0]                     \n",
      "__________________________________________________________________________________________________\n",
      "add_17 (Add)                    (None, 16, 16, 64)   0           res2_net6[0][0]                  \n",
      "                                                                 res3_net6[0][0]                  \n",
      "__________________________________________________________________________________________________\n",
      "up_sampling2d_6 (UpSampling2D)  (None, 32, 32, 64)   0           add_17[0][0]                     \n",
      "__________________________________________________________________________________________________\n",
      "upsampling_net3 (Conv2D)        (None, 32, 32, 64)   36928       up_sampling2d_6[0][0]            \n",
      "__________________________________________________________________________________________________\n",
      "concatenate3 (Concatenate)      (None, 32, 32, 128)  0           add_14[0][0]                     \n",
      "                                                                 upsampling_net3[0][0]            \n",
      "__________________________________________________________________________________________________\n",
      "up_sampling2d_7 (UpSampling2D)  (None, 64, 64, 128)  0           concatenate3[0][0]               \n",
      "__________________________________________________________________________________________________\n",
      "upsampling_net2 (Conv2D)        (None, 64, 64, 32)   36896       up_sampling2d_7[0][0]            \n",
      "__________________________________________________________________________________________________\n",
      "concatenate2 (Concatenate)      (None, 64, 64, 64)   0           add_13[0][0]                     \n",
      "                                                                 upsampling_net2[0][0]            \n",
      "__________________________________________________________________________________________________\n",
      "up_sampling2d_8 (UpSampling2D)  (None, 128, 128, 64) 0           concatenate2[0][0]               \n",
      "__________________________________________________________________________________________________\n",
      "upsampling_net1 (Conv2D)        (None, 128, 128, 16) 9232        up_sampling2d_8[0][0]            \n",
      "__________________________________________________________________________________________________\n",
      "concatenate1 (Concatenate)      (None, 128, 128, 32) 0           add_12[0][0]                     \n",
      "                                                                 upsampling_net1[0][0]            \n",
      "__________________________________________________________________________________________________\n",
      "output (Conv2D)                 (None, 128, 128, 3)  99          concatenate1[0][0]               \n",
      "==================================================================================================\n",
      "Total params: 394,883\n",
      "Trainable params: 394,883\n",
      "Non-trainable params: 0\n",
      "__________________________________________________________________________________________________\n"
     ]
    },
    {
     "name": "stderr",
     "output_type": "stream",
     "text": [
      "c:\\Users\\jchamorro\\Anaconda3\\envs\\tf2\\lib\\site-packages\\tensorflow\\python\\keras\\optimizer_v2\\optimizer_v2.py:374: UserWarning: The `lr` argument is deprecated, use `learning_rate` instead.\n",
      "  warnings.warn(\n",
      "c:\\Users\\jchamorro\\Anaconda3\\envs\\tf2\\lib\\site-packages\\tensorflow\\python\\keras\\engine\\training.py:1969: UserWarning: `Model.fit_generator` is deprecated and will be removed in a future version. Please use `Model.fit`, which supports generators.\n",
      "  warnings.warn('`Model.fit_generator` is deprecated and '\n"
     ]
    },
    {
     "name": "stdout",
     "output_type": "stream",
     "text": [
      "Epoch 1/100\n",
      "self.global_step 0.0\n",
      "alpha Tensor(\"loss/add:0\", shape=(None, 128, 128, 3), dtype=float32)\n",
      "u Tensor(\"loss/truediv:0\", shape=(None, 128, 128, 1), dtype=float32)\n",
      "alpha Tensor(\"add:0\", shape=(None, 128, 128, 3), dtype=float32)\n",
      "u Tensor(\"truediv:0\", shape=(None, 128, 128, 1), dtype=float32)\n",
      "K.int_shape(KL_reg) Tensor(\"mul_6:0\", shape=(None, 128, 128, 1), dtype=float32)\n",
      "alpha Tensor(\"add_7:0\", shape=(None, 128, 128, 3), dtype=float32)\n",
      "u Tensor(\"truediv_5:0\", shape=(None, 128, 128, 1), dtype=float32)\n",
      "K.int_shape(KL_reg) Tensor(\"mul_12:0\", shape=(None, 128, 128, 1), dtype=float32)\n",
      "alpha Tensor(\"loss/add:0\", shape=(None, 128, 128, 3), dtype=float32)\n",
      "u Tensor(\"loss/truediv:0\", shape=(None, 128, 128, 1), dtype=float32)\n",
      "alpha Tensor(\"add:0\", shape=(None, 128, 128, 3), dtype=float32)\n",
      "u Tensor(\"truediv:0\", shape=(None, 128, 128, 1), dtype=float32)\n",
      "K.int_shape(KL_reg) Tensor(\"mul_6:0\", shape=(None, 128, 128, 1), dtype=float32)\n",
      "alpha Tensor(\"add_7:0\", shape=(None, 128, 128, 3), dtype=float32)\n",
      "u Tensor(\"truediv_5:0\", shape=(None, 128, 128, 1), dtype=float32)\n",
      "K.int_shape(KL_reg) Tensor(\"mul_12:0\", shape=(None, 128, 128, 1), dtype=float32)\n",
      "277/277 [==============================] - ETA: 0s - loss: 0.2605 - accuracy: 0.8356 - KL_term: 0.0099 - loglikelihood_term: 0.2503 - evidential_success: 38.0370 - evidential_fail: 12.4954 - acc: 0.8358 - annealing_coef: 0.0368 - global_step_get: 138.0000 - annealing_step_get: 3750.0000alpha Tensor(\"loss/add:0\", shape=(None, 128, 128, 3), dtype=float32)\n",
      "u Tensor(\"loss/truediv:0\", shape=(None, 128, 128, 1), dtype=float32)\n",
      "alpha Tensor(\"add:0\", shape=(None, 128, 128, 3), dtype=float32)\n",
      "u Tensor(\"truediv:0\", shape=(None, 128, 128, 1), dtype=float32)\n",
      "K.int_shape(KL_reg) Tensor(\"mul_6:0\", shape=(None, 128, 128, 1), dtype=float32)\n",
      "alpha Tensor(\"add_7:0\", shape=(None, 128, 128, 3), dtype=float32)\n",
      "u Tensor(\"truediv_5:0\", shape=(None, 128, 128, 1), dtype=float32)\n",
      "K.int_shape(KL_reg) Tensor(\"mul_12:0\", shape=(None, 128, 128, 1), dtype=float32)\n",
      "277/277 [==============================] - 27s 91ms/step - loss: 0.2605 - accuracy: 0.8356 - KL_term: 0.0099 - loglikelihood_term: 0.2503 - evidential_success: 38.0370 - evidential_fail: 12.4954 - acc: 0.8358 - annealing_coef: 0.0368 - global_step_get: 138.0000 - annealing_step_get: 3750.0000 - val_loss: 0.1454 - val_accuracy: 0.9294 - val_KL_term: 0.0126 - val_loglikelihood_term: 0.1323 - val_evidential_success: 38.8420 - val_evidential_fail: 11.5636 - val_acc: 0.9296 - val_annealing_coef: 0.0736 - val_global_step_get: 276.0000 - val_annealing_step_get: 3750.0000\n",
      "\n",
      "Epoch 00001: val_loss improved from inf to 0.14539, saving model to D:/Jorge/datasets/deforestation/experiments/MT/exp192/models\\resunet_0.h5\n",
      "Epoch 2/100\n",
      "self.global_step 276.0\n",
      "  1/277 [..............................] - ETA: 19s - loss: 0.1825 - accuracy: 0.8872 - KL_term: 0.0000e+00 - loglikelihood_term: 0.1825 - evidential_success: 52.1600 - evidential_fail: 10.5189 - acc: 0.8872 - annealing_coef: 0.0000e+00 - global_step_get: 0.0000e+00 - annealing_step_get: 3750.0000"
     ]
    },
    {
     "name": "stderr",
     "output_type": "stream",
     "text": [
      "c:\\Users\\jchamorro\\Anaconda3\\envs\\tf2\\lib\\site-packages\\tensorflow\\python\\keras\\utils\\generic_utils.py:494: CustomMaskWarning: Custom mask layers require a config and must override get_config. When loading, the custom mask layer must be passed to the custom_objects argument.\n",
      "  warnings.warn('Custom mask layers require a config and must override '\n"
     ]
    },
    {
     "name": "stdout",
     "output_type": "stream",
     "text": [
      "277/277 [==============================] - 24s 87ms/step - loss: 0.1606 - accuracy: 0.9124 - KL_term: 0.0141 - loglikelihood_term: 0.1466 - evidential_success: 53.0892 - evidential_fail: 13.6169 - acc: 0.9123 - annealing_coef: 0.0736 - global_step_get: 276.0000 - annealing_step_get: 3750.0000 - val_loss: 0.1219 - val_accuracy: 0.9428 - val_KL_term: 0.0149 - val_loglikelihood_term: 0.1065 - val_evidential_success: 44.6723 - val_evidential_fail: 7.8990 - val_acc: 0.9429 - val_annealing_coef: 0.1472 - val_global_step_get: 552.0000 - val_annealing_step_get: 3750.0000\n",
      "\n",
      "Epoch 00002: val_loss improved from 0.14539 to 0.12195, saving model to D:/Jorge/datasets/deforestation/experiments/MT/exp192/models\\resunet_0.h5\n",
      "Epoch 3/100\n",
      "self.global_step 552.0\n",
      "277/277 [==============================] - 24s 87ms/step - loss: 0.1438 - accuracy: 0.9251 - KL_term: 0.0165 - loglikelihood_term: 0.1274 - evidential_success: 61.8927 - evidential_fail: 13.1384 - acc: 0.9250 - annealing_coef: 0.1104 - global_step_get: 414.0000 - annealing_step_get: 3750.0000 - val_loss: 0.1182 - val_accuracy: 0.9439 - val_KL_term: 0.0173 - val_loglikelihood_term: 0.1000 - val_evidential_success: 46.2098 - val_evidential_fail: 6.3949 - val_acc: 0.9442 - val_annealing_coef: 0.2208 - val_global_step_get: 828.0000 - val_annealing_step_get: 3750.0000\n",
      "\n",
      "Epoch 00003: val_loss improved from 0.12195 to 0.11818, saving model to D:/Jorge/datasets/deforestation/experiments/MT/exp192/models\\resunet_0.h5\n",
      "Epoch 4/100\n",
      "self.global_step 828.0\n",
      "277/277 [==============================] - 24s 87ms/step - loss: 0.1410 - accuracy: 0.9283 - KL_term: 0.0184 - loglikelihood_term: 0.1225 - evidential_success: 65.4689 - evidential_fail: 10.6860 - acc: 0.9284 - annealing_coef: 0.1472 - global_step_get: 552.0000 - annealing_step_get: 3750.0000 - val_loss: 0.1767 - val_accuracy: 0.9244 - val_KL_term: 0.0484 - val_loglikelihood_term: 0.1261 - val_evidential_success: 65.5715 - val_evidential_fail: 10.2610 - val_acc: 0.9251 - val_annealing_coef: 0.2944 - val_global_step_get: 1104.0000 - val_annealing_step_get: 3750.0000\n",
      "\n",
      "Epoch 00004: val_loss did not improve from 0.11818\n",
      "Epoch 5/100\n",
      "self.global_step 1104.0\n",
      "277/277 [==============================] - 24s 87ms/step - loss: 0.1352 - accuracy: 0.9320 - KL_term: 0.0187 - loglikelihood_term: 0.1163 - evidential_success: 78.6952 - evidential_fail: 9.5296 - acc: 0.9321 - annealing_coef: 0.1840 - global_step_get: 690.0000 - annealing_step_get: 3750.0000 - val_loss: 0.2053 - val_accuracy: 0.9182 - val_KL_term: 0.0588 - val_loglikelihood_term: 0.1435 - val_evidential_success: 67.0794 - val_evidential_fail: 7.6998 - val_acc: 0.9191 - val_annealing_coef: 0.3680 - val_global_step_get: 1380.0000 - val_annealing_step_get: 3750.0000\n",
      "\n",
      "Epoch 00005: val_loss did not improve from 0.11818\n",
      "Epoch 6/100\n",
      "self.global_step 1380.0\n",
      "277/277 [==============================] - 24s 87ms/step - loss: 0.1217 - accuracy: 0.9392 - KL_term: 0.0171 - loglikelihood_term: 0.1045 - evidential_success: 91.4685 - evidential_fail: 8.6563 - acc: 0.9392 - annealing_coef: 0.2208 - global_step_get: 828.0000 - annealing_step_get: 3750.0000 - val_loss: 0.2592 - val_accuracy: 0.9160 - val_KL_term: 0.1046 - val_loglikelihood_term: 0.1506 - val_evidential_success: 75.4306 - val_evidential_fail: 12.3832 - val_acc: 0.9168 - val_annealing_coef: 0.4416 - val_global_step_get: 1656.0000 - val_annealing_step_get: 3750.0000\n",
      "\n",
      "Epoch 00006: val_loss did not improve from 0.11818\n",
      "Epoch 7/100\n",
      "self.global_step 1656.0\n",
      "277/277 [==============================] - 24s 87ms/step - loss: 0.1246 - accuracy: 0.9402 - KL_term: 0.0204 - loglikelihood_term: 0.1043 - evidential_success: 93.2310 - evidential_fail: 8.3437 - acc: 0.9401 - annealing_coef: 0.2576 - global_step_get: 966.0000 - annealing_step_get: 3750.0000 - val_loss: 0.1972 - val_accuracy: 0.9310 - val_KL_term: 0.0731 - val_loglikelihood_term: 0.1214 - val_evidential_success: 79.0952 - val_evidential_fail: 9.3867 - val_acc: 0.9317 - val_annealing_coef: 0.5152 - val_global_step_get: 1932.0000 - val_annealing_step_get: 3750.0000\n",
      "\n",
      "Epoch 00007: val_loss did not improve from 0.11818\n",
      "Epoch 8/100\n",
      "self.global_step 1932.0\n",
      "277/277 [==============================] - 24s 87ms/step - loss: 0.1115 - accuracy: 0.9462 - KL_term: 0.0176 - loglikelihood_term: 0.0938 - evidential_success: 103.6594 - evidential_fail: 7.1351 - acc: 0.9462 - annealing_coef: 0.2944 - global_step_get: 1104.0000 - annealing_step_get: 3750.0000 - val_loss: 0.1558 - val_accuracy: 0.9394 - val_KL_term: 0.0497 - val_loglikelihood_term: 0.1045 - val_evidential_success: 79.9327 - val_evidential_fail: 7.0788 - val_acc: 0.9398 - val_annealing_coef: 0.5888 - val_global_step_get: 2208.0000 - val_annealing_step_get: 3750.0000\n",
      "\n",
      "Epoch 00008: val_loss did not improve from 0.11818\n",
      "Epoch 9/100\n",
      "self.global_step 2208.0\n",
      "277/277 [==============================] - 24s 87ms/step - loss: 0.1176 - accuracy: 0.9447 - KL_term: 0.0202 - loglikelihood_term: 0.0972 - evidential_success: 106.4635 - evidential_fail: 7.1765 - acc: 0.9447 - annealing_coef: 0.3312 - global_step_get: 1242.0000 - annealing_step_get: 3750.0000 - val_loss: 0.1785 - val_accuracy: 0.9304 - val_KL_term: 0.0502 - val_loglikelihood_term: 0.1263 - val_evidential_success: 85.9025 - val_evidential_fail: 6.0158 - val_acc: 0.9311 - val_annealing_coef: 0.6624 - val_global_step_get: 2484.0000 - val_annealing_step_get: 3750.0000\n",
      "\n",
      "Epoch 00009: val_loss did not improve from 0.11818\n",
      "Epoch 10/100\n",
      "self.global_step 2484.0\n",
      "277/277 [==============================] - 24s 87ms/step - loss: 0.1363 - accuracy: 0.9392 - KL_term: 0.0259 - loglikelihood_term: 0.1102 - evidential_success: 81.5200 - evidential_fail: 8.8626 - acc: 0.9392 - annealing_coef: 0.3680 - global_step_get: 1380.0000 - annealing_step_get: 3750.0000 - val_loss: 0.1654 - val_accuracy: 0.9408 - val_KL_term: 0.0531 - val_loglikelihood_term: 0.1107 - val_evidential_success: 60.7992 - val_evidential_fail: 5.3465 - val_acc: 0.9411 - val_annealing_coef: 0.7360 - val_global_step_get: 2760.0000 - val_annealing_step_get: 3750.0000\n",
      "\n",
      "Epoch 00010: val_loss did not improve from 0.11818\n",
      "Epoch 11/100\n",
      "self.global_step 2760.0\n",
      "277/277 [==============================] - 24s 87ms/step - loss: 0.1137 - accuracy: 0.9475 - KL_term: 0.0194 - loglikelihood_term: 0.0942 - evidential_success: 101.7507 - evidential_fail: 6.0832 - acc: 0.9475 - annealing_coef: 0.4048 - global_step_get: 1518.0000 - annealing_step_get: 3750.0000 - val_loss: 0.2281 - val_accuracy: 0.9352 - val_KL_term: 0.1085 - val_loglikelihood_term: 0.1165 - val_evidential_success: 110.2905 - val_evidential_fail: 9.8949 - val_acc: 0.9356 - val_annealing_coef: 0.8096 - val_global_step_get: 3036.0000 - val_annealing_step_get: 3750.0000\n",
      "\n",
      "Epoch 00011: val_loss did not improve from 0.11818\n",
      "Epoch 12/100\n",
      "self.global_step 3036.0\n",
      "277/277 [==============================] - 24s 87ms/step - loss: 0.1107 - accuracy: 0.9496 - KL_term: 0.0198 - loglikelihood_term: 0.0910 - evidential_success: 114.3524 - evidential_fail: 5.7887 - acc: 0.9496 - annealing_coef: 0.4416 - global_step_get: 1656.0000 - annealing_step_get: 3750.0000 - val_loss: 0.2416 - val_accuracy: 0.9327 - val_KL_term: 0.1095 - val_loglikelihood_term: 0.1286 - val_evidential_success: 74.8074 - val_evidential_fail: 6.6437 - val_acc: 0.9333 - val_annealing_coef: 0.8832 - val_global_step_get: 3312.0000 - val_annealing_step_get: 3750.0000\n",
      "\n",
      "Epoch 00012: val_loss did not improve from 0.11818\n",
      "Epoch 13/100\n",
      "self.global_step 3312.0\n",
      "277/277 [==============================] - 24s 87ms/step - loss: 0.1161 - accuracy: 0.9478 - KL_term: 0.0215 - loglikelihood_term: 0.0945 - evidential_success: 106.1400 - evidential_fail: 5.7311 - acc: 0.9479 - annealing_coef: 0.4784 - global_step_get: 1794.0000 - annealing_step_get: 3750.0000 - val_loss: 0.2996 - val_accuracy: 0.9275 - val_KL_term: 0.1602 - val_loglikelihood_term: 0.1343 - val_evidential_success: 85.6214 - val_evidential_fail: 8.9203 - val_acc: 0.9282 - val_annealing_coef: 0.9568 - val_global_step_get: 3588.0000 - val_annealing_step_get: 3750.0000\n",
      "\n",
      "Epoch 00013: val_loss did not improve from 0.11818\n",
      "Epoch 00013: early stopping\n",
      "-5.0 -12.0\n"
     ]
    },
    {
     "name": "stderr",
     "output_type": "stream",
     "text": [
      "ic| self.path_models+ '/' + self.method +'_'+str(0)+'.h5': 'D:/Jorge/datasets/deforestation/experiments/MT/exp192/models/resunet_0.h5'\n"
     ]
    },
    {
     "name": "stdout",
     "output_type": "stream",
     "text": [
      "time:  0\n",
      "(39774655,)\n",
      "(array([0, 1], dtype=uint8), array([39234711,   539944], dtype=int64))\n",
      "(16795, 10420)\n",
      "(array([0., 1.], dtype=float32), array([173037749,   1966151], dtype=int64))\n"
     ]
    },
    {
     "name": "stderr",
     "output_type": "stream",
     "text": [
      "ic| self.predicted_unpad.shape: (16795, 10420)\n",
      "    self.predicted.shape: (16795, 10420)\n",
      "ic| predicted_test.shape: (70001560,)\n",
      "ic| predicted_test.shape: (39774655,)\n",
      "ic| np.unique(predicted, return_counts=True): (array([0., 1.], dtype=float32), array([173037749,   1966151], dtype=int64))\n",
      "    np.unique(predicted_larger_than_min_area, return_counts=True): (array([0., 1.], dtype=float32), array([173107891,   1896009], dtype=int64))\n",
      "ic| np.unique(ignored_polygons, return_counts=True): (array([0., 1.], dtype=float32), array([174933758,     70142], dtype=int64))\n",
      "ic| self.f1: 77.4, self.precision: 73.49, self.recall: 81.75\n",
      "ic| self.label_mask_val.shape: (21000468,)\n",
      "ic| self.label_mask_val_valid.shape: (10899563,)\n",
      "ic| f1_val: 94.36\n",
      "    precision_val: 96.82\n",
      "    recall_val: 92.01\n",
      "    mAP_val: 98.64\n"
     ]
    },
    {
     "name": "stdout",
     "output_type": "stream",
     "text": [
      "(array([0., 1.], dtype=float32), array([174478637,    525263], dtype=int64))\n"
     ]
    },
    {
     "name": "stderr",
     "output_type": "stream",
     "text": [
      "ic| self.label_mask.shape: (16795, 10420)\n",
      "ic| self.mask_amazon_ts.shape: (16795, 10420)\n",
      "ic| self.label_mask_test.shape: (70001560,)\n",
      "ic| self.error_mask_test.shape: (39745021,)\n",
      "ic| bounds: (0.0015, 0.9985)\n",
      "c:\\Users\\jchamorro\\Anaconda3\\envs\\tf2\\lib\\site-packages\\scipy\\optimize\\_minimize.py:783: RuntimeWarning: Method 'bounded' does not support relative tolerance in x; defaulting to absolute tolerance.\n",
      "  warn(\"Method 'bounded' does not support relative tolerance in x; \"\n"
     ]
    },
    {
     "name": "stdout",
     "output_type": "stream",
     "text": [
      "0.38232011321635484\n",
      "threshold 0.38232011321635484\n",
      "(38867732,) (38867732,)\n"
     ]
    },
    {
     "name": "stderr",
     "output_type": "stream",
     "text": [
      "ic| label_current_deforestation_test_classified_incorrect.shape: (877289,)\n",
      "    predicted_test_classified_incorrect.shape: (877289,)\n",
      "ic| TP_H + FN_H + FP_H + TN_H: 877289\n",
      "    len(label_mask_current_deforestation_test): 39745021\n",
      "ic| TP_H + FN_H + FP_H + TN_H: 877289\n",
      "    len(label_mask_current_deforestation_test): 39745021\n"
     ]
    },
    {
     "name": "stdout",
     "output_type": "stream",
     "text": [
      "cm_correct [[38348850   103851]\n",
      " [   25401   389630]]\n",
      "cm_incorrect [[709082  52604]\n",
      " [ 71462  44141]]\n",
      "[0.78955421 0.93879734 0.73427259 0.02207293 0.45626131 0.38183265]\n",
      "0.6176798867836452\n",
      "threshold 0.6176798867836452\n",
      "(39487027,) (39487027,)\n"
     ]
    },
    {
     "name": "stderr",
     "output_type": "stream",
     "text": [
      "ic| label_current_deforestation_test_classified_incorrect.shape: (257994,)\n",
      "    predicted_test_classified_incorrect.shape: (257994,)\n",
      "ic| TP_H + FN_H + FP_H + TN_H: 257994\n",
      "    len(label_mask_current_deforestation_test): 39745021\n",
      "ic| TP_H + FN_H + FP_H + TN_H: 257994\n",
      "    len(label_mask_current_deforestation_test): 39745021\n"
     ]
    },
    {
     "name": "stdout",
     "output_type": "stream",
     "text": [
      "cm_correct [[38858682   146942]\n",
      " [   54323   427080]]\n",
      "cm_incorrect [[199250   9513]\n",
      " [ 42540   6691]]\n",
      "[0.7440133  0.88715691 0.80484854 0.00649123 0.41292274 0.1359103 ]\n",
      "0.23685977356729035\n",
      "threshold 0.23685977356729035\n",
      "(37678774,) (37678774,)\n"
     ]
    },
    {
     "name": "stderr",
     "output_type": "stream",
     "text": [
      "ic| label_current_deforestation_test_classified_incorrect.shape: (2066247,)\n",
      "    predicted_test_classified_incorrect.shape: (2066247,)\n"
     ]
    },
    {
     "name": "stdout",
     "output_type": "stream",
     "text": [
      "cm_correct [[37271810    54641]\n",
      " [   11151   341172]]\n"
     ]
    },
    {
     "name": "stderr",
     "output_type": "stream",
     "text": [
      "ic| TP_H + FN_H + FP_H + TN_H: 2066247\n",
      "    len(label_mask_current_deforestation_test): 39745021\n",
      "ic| TP_H + FN_H + FP_H + TN_H: 2066247\n",
      "    len(label_mask_current_deforestation_test): 39745021\n"
     ]
    },
    {
     "name": "stdout",
     "output_type": "stream",
     "text": [
      "cm_incorrect [[1786122  101814]\n",
      " [  85712   92599]]\n",
      "[0.86195249 0.96835007 0.64295164 0.05198757 0.47630045 0.51931176]\n",
      "0.42259971768922056\n",
      "threshold 0.42259971768922056\n",
      "(39039417,) (39039417,)\n"
     ]
    },
    {
     "name": "stderr",
     "output_type": "stream",
     "text": [
      "ic| label_current_deforestation_test_classified_incorrect.shape: (705604,)\n",
      "    predicted_test_classified_incorrect.shape: (705604,)\n",
      "ic| TP_H + FN_H + FP_H + TN_H: 705604\n",
      "    len(label_mask_current_deforestation_test): 39745021\n",
      "ic| TP_H + FN_H + FP_H + TN_H: 705604\n",
      "    len(label_mask_current_deforestation_test): 39745021\n"
     ]
    },
    {
     "name": "stdout",
     "output_type": "stream",
     "text": [
      "cm_correct [[38498722   113356]\n",
      " [   28439   398900]]\n",
      "cm_incorrect [[559210  43099]\n",
      " [ 68424  34871]]\n",
      "[0.77871221 0.93345096 0.75174226 0.01775327 0.44723612 0.33758652]\n",
      "0.3536155908821139\n",
      "threshold 0.3536155908821139\n",
      "(38708529,) (38708529,)\n"
     ]
    },
    {
     "name": "stderr",
     "output_type": "stream",
     "text": [
      "ic| label_current_deforestation_test_classified_incorrect.shape: (1036492,)\n",
      "    predicted_test_classified_incorrect.shape: (1036492,)\n",
      "ic| TP_H + FN_H + FP_H + TN_H: 1036492\n",
      "    len(label_mask_current_deforestation_test): 39745021\n",
      "ic| TP_H + FN_H + FP_H + TN_H: 1036492\n",
      "    len(label_mask_current_deforestation_test): 39745021\n"
     ]
    },
    {
     "name": "stdout",
     "output_type": "stream",
     "text": [
      "cm_correct [[38207258    95978]\n",
      " [   23470   381823]]\n",
      "cm_incorrect [[850674  60477]\n",
      " [ 73393  51948]]\n",
      "[0.79912558 0.94209128 0.71956    0.02607854 0.46206805 0.41445337]\n",
      "0.3090188370521248\n",
      "threshold 0.3090188370521248\n",
      "(38393272,) (38393272,)\n"
     ]
    },
    {
     "name": "stderr",
     "output_type": "stream",
     "text": [
      "ic| label_current_deforestation_test_classified_incorrect.shape: (1351749,)\n",
      "    predicted_test_classified_incorrect.shape: (1351749,)\n",
      "ic| TP_H + FN_H + FP_H + TN_H: 1351749\n",
      "    len(label_mask_current_deforestation_test): 39745021\n",
      "ic| TP_H + FN_H + "
     ]
    },
    {
     "name": "stdout",
     "output_type": "stream",
     "text": [
      "cm_correct [[37922238    82328]\n",
      " [   19928   368778]]\n",
      "cm_incorrect [[1135694   74127]\n",
      " [  76935   64993]]\n"
     ]
    },
    {
     "name": "stderr",
     "output_type": "stream",
     "text": [
      "FP_H + TN_H: 1351749\n",
      "    len(label_mask_current_deforestation_test): 39745021\n"
     ]
    },
    {
     "name": "stdout",
     "output_type": "stream",
     "text": [
      "[0.81749744 0.94873246 0.6949762  0.03401052 0.46717223 0.45792937]\n",
      "0.3318343176569557\n",
      "threshold 0.3318343176569557\n",
      "(38566199,) (38566199,)\n"
     ]
    },
    {
     "name": "stderr",
     "output_type": "stream",
     "text": [
      "ic| label_current_deforestation_test_classified_incorrect.shape: (1178822,)\n",
      "    predicted_test_classified_incorrect.shape: (1178822,)\n",
      "ic| TP_H + FN_H + FP_H + TN_H: 1178822\n",
      "    len(label_mask_current_deforestation_test): 39745021\n",
      "ic| TP_H + FN_H + FP_H + TN_H: 1178822\n",
      "    len(label_mask_current_deforestation_test): 39745021\n"
     ]
    },
    {
     "name": "stdout",
     "output_type": "stream",
     "text": [
      "cm_correct [[38079064    89651]\n",
      " [   21876   375608]]\n",
      "cm_incorrect [[978868  66804]\n",
      " [ 74987  58163]]\n",
      "[0.80730948 0.94496382 0.70784759 0.02965961 0.46542687 0.43682313]\n",
      "0.331454116389318\n",
      "threshold 0.331454116389318\n",
      "(38563407,) (38563407,)\n"
     ]
    },
    {
     "name": "stderr",
     "output_type": "stream",
     "text": [
      "ic| label_current_deforestation_test_classified_incorrect.shape: (1181614,)\n",
      "    predicted_test_classified_incorrect.shape: (1181614,)\n",
      "ic| TP_H + FN_H + FP_H + TN_H: 1181614\n",
      "    len(label_mask_current_deforestation_test): 39745021\n",
      "ic| TP_H + FN_H + FP_H + TN_H: 1181614\n",
      "    len(label_mask_current_deforestation_test): 39745021\n"
     ]
    },
    {
     "name": "stdout",
     "output_type": "stream",
     "text": [
      "cm_correct [[38076544    89517]\n",
      " [   21852   375494]]\n",
      "cm_incorrect [[981388  66938]\n",
      " [ 75011  58277]]\n",
      "[0.80749488 0.94500511 0.70763276 0.02972986 0.46541549 0.43722616]\n",
      "0.3228846022296084\n",
      "threshold 0.3228846022296084\n",
      "(38501588,) (38501588,)\n"
     ]
    },
    {
     "name": "stderr",
     "output_type": "stream",
     "text": [
      "ic| label_current_deforestation_test_classified_incorrect.shape: (1243433,)\n",
      "    predicted_test_classified_incorrect.shape: (1243433,)\n",
      "ic| TP_H + FN_H + FP_H + TN_H: 1243433\n",
      "    len(label_mask_current_deforestation_test): 39745021\n",
      "ic| TP_H + FN_H + FP_H + TN_H: 1243433\n",
      "    len(label_mask_current_deforestation_test): 39745021\n"
     ]
    },
    {
     "name": "stdout",
     "output_type": "stream",
     "text": [
      "cm_correct [[38020476    86919]\n",
      " [   21158   373035]]\n",
      "cm_incorrect [[1037456   69536]\n",
      " [  75705   60736]]\n",
      "[0.81102675 0.94632578 0.70299868 0.03128525 0.46622451 0.44514479]\n",
      "0.32891750814079973\n",
      "threshold 0.32891750814079973\n",
      "(38545618,) (38545618,)\n"
     ]
    },
    {
     "name": "stderr",
     "output_type": "stream",
     "text": [
      "ic| label_current_deforestation_test_classified_incorrect.shape: (1199403,)\n",
      "    predicted_test_classified_incorrect.shape: (1199403,)\n",
      "ic| TP_H + FN_H + FP_H + TN_H: 1199403\n",
      "    len(label_mask_current_deforestation_test): 39745021\n",
      "ic| TP_H + FN_H + FP_H + TN_H: 1199403\n",
      "    len(label_mask_current_deforestation_test): 39745021\n"
     ]
    },
    {
     "name": "stdout",
     "output_type": "stream",
     "text": [
      "cm_correct [[38060344    88828]\n",
      " [   21660   374786]]\n",
      "cm_incorrect [[997588  67627]\n",
      " [ 75203  58985]]\n",
      "[0.80840095 0.94536456 0.7062985  0.03017744 0.46587211 0.43956986]\n",
      "0.32982624286777135\n",
      "threshold 0.32982624286777135\n",
      "(38552087,) (38552087,)\n"
     ]
    },
    {
     "name": "stderr",
     "output_type": "stream",
     "text": [
      "ic| label_current_deforestation_test_classified_incorrect.shape: (1192934,)\n",
      "    predicted_test_classified_incorrect.shape: (1192934,)\n",
      "ic| TP_H + FN_H + FP_H + TN_H: 1192934\n",
      "    len(label_mask_current_deforestation_test): 39745021\n",
      "ic| TP_H + FN_H + FP_H + TN_H: 1192934\n",
      "    len(label_mask_current_deforestation_test): 39745021\n"
     ]
    },
    {
     "name": "stdout",
     "output_type": "stream",
     "text": [
      "cm_correct [[38066233    89082]\n",
      " [   21728   375044]]\n",
      "cm_incorrect [[991699  67373]\n",
      " [ 75135  58727]]\n",
      "[0.80806505 0.94523807 0.70678471 0.03001468 0.46571768 0.438713  ]\n",
      "0.33004788512768396\n",
      "threshold 0.33004788512768396\n",
      "(38553662,) (38553662,)\n"
     ]
    },
    {
     "name": "stderr",
     "output_type": "stream",
     "text": [
      "ic| label_current_deforestation_test_classified_incorrect.shape: (1191359,)\n",
      "    predicted_test_classified_incorrect.shape: (1191359,)\n",
      "ic| TP_H + FN_H + FP_H + TN_H: 1191359\n",
      "    len(label_mask_current_deforestation_test): 39745021\n",
      "ic| TP_H + FN_H + FP_H + TN_H: 1191359\n",
      "    len(label_mask_current_deforestation_test): 39745021\n"
     ]
    },
    {
     "name": "stdout",
     "output_type": "stream",
     "text": [
      "cm_correct [[38067657    89149]\n",
      " [   21749   375107]]\n",
      "cm_incorrect [[990275  67306]\n",
      " [ 75114  58664]]\n",
      "[0.80797448 0.94519675 0.70690344 0.02997505 0.46569818 0.43851754]\n",
      "0.32979290464232425\n",
      "threshold 0.32979290464232425\n",
      "(38551855,) (38551855,)\n"
     ]
    },
    {
     "name": "stderr",
     "output_type": "stream",
     "text": [
      "ic| label_current_deforestation_test_classified_incorrect.shape: (1193166,)\n",
      "    predicted_test_classified_incorrect.shape: (1193166,)\n",
      "ic| TP_H + FN_H + FP_H + TN_H: 1193166\n",
      "    len(label_mask_current_deforestation_test): 39745021\n",
      "ic| TP_H + FN_H + FP_H + TN_H: 1193166\n",
      "    len(label_mask_current_deforestation_test): 39745021\n"
     ]
    },
    {
     "name": "stdout",
     "output_type": "stream",
     "text": [
      "cm_correct [[38066023    89070]\n",
      " [   21724   375038]]\n",
      "cm_incorrect [[991909  67385]\n",
      " [ 75139  58733]]\n",
      "[0.80808346 0.94524677 0.70677341 0.03002052 0.46569879 0.43872505]\n",
      "0.3299103812000415\n",
      "threshold 0.3299103812000415\n",
      "(38552684,) (38552684,)\n"
     ]
    },
    {
     "name": "stderr",
     "output_type": "stream",
     "text": [
      "ic| label_current_deforestation_test_classified_incorrect.shape: (1192337,)\n",
      "    predicted_test_classified_incorrect.shape: (1192337,)\n",
      "ic| TP_H + FN_H + FP_H + TN_H: 1192337\n",
      "    len(label_mask_current_deforestation_test): 39745021\n",
      "ic| TP_H + FN_H + FP_H + TN_H: 1192337\n",
      "    len(label_mask_current_deforestation_test): 39745021\n"
     ]
    },
    {
     "name": "stdout",
     "output_type": "stream",
     "text": [
      "cm_correct [[38066765    89111]\n",
      " [   21741   375067]]\n",
      "cm_incorrect [[991167  67344]\n",
      " [ 75122  58704]]\n",
      "[0.80802408 0.94521028 0.70682806 0.02999966 0.46572734 0.43865915]\n",
      "0.3299629030268143\n",
      "threshold 0.3299629030268143\n",
      "(38553053,) (38553053,)\n"
     ]
    },
    {
     "name": "stderr",
     "output_type": "stream",
     "text": [
      "ic| label_current_deforestation_test_classified_incorrect.shape: (1191968,)\n",
      "    predicted_test_classified_incorrect.shape: (1191968,)\n",
      "ic| TP_H + FN_H + FP_H + TN_H: 1191968\n",
      "    len(label_mask_current_deforestation_test): 39745021\n",
      "ic| TP_H + FN_H + FP_H + TN_H: 1191968\n",
      "    len(label_mask_current_deforestation_test): 39745021\n"
     ]
    },
    {
     "name": "stdout",
     "output_type": "stream",
     "text": [
      "cm_correct [[38067106    89122]\n",
      " [   21744   375081]]\n",
      "cm_incorrect [[990826  67333]\n",
      " [ 75119  58690]]\n",
      "[0.80801072 0.94520507 0.70685444 0.02999037 0.46570864 0.43861026]\n",
      "0.32987704297334647\n",
      "threshold 0.32987704297334647\n",
      "(38552444,) (38552444,)\n"
     ]
    },
    {
     "name": "stderr",
     "output_type": "stream",
     "text": [
      "ic| label_current_deforestation_test_classified_incorrect.shape: (1192577,)\n",
      "    predicted_test_classified_incorrect.shape: (1192577,)\n",
      "ic| TP_H + FN_H + FP_H + TN_H: 1192577\n",
      "    len(label_mask_current_deforestation_test): 39745021"
     ]
    },
    {
     "name": "stdout",
     "output_type": "stream",
     "text": [
      "cm_correct [[38066550    89104]\n",
      " [   21733   375057]]\n",
      "cm_incorrect [[991382  67351]\n",
      " [ 75130  58714]]\n"
     ]
    },
    {
     "name": "stderr",
     "output_type": "stream",
     "text": [
      "\n",
      "ic| TP_H + FN_H + FP_H + TN_H: 1192577\n",
      "    len(label_mask_current_deforestation_test): 39745021\n",
      "ic| self.threshold_optimal: 0.3299103812000415\n"
     ]
    },
    {
     "name": "stdout",
     "output_type": "stream",
     "text": [
      "[0.80803213 0.94522795 0.70680921 0.0300057  0.46574386 0.43867488]\n",
      "threshold 0.3299103812000415\n",
      "(38552684,) (38552684,)\n"
     ]
    },
    {
     "name": "stderr",
     "output_type": "stream",
     "text": [
      "ic| label_current_deforestation_test_classified_incorrect.shape: (1192337,)\n",
      "    predicted_test_classified_incorrect.shape: (1192337,)\n",
      "ic| TP_H + FN_H + FP_H + TN_H: 1192337\n",
      "    len(label_mask_current_deforestation_test): 39745021\n",
      "ic| TP_H + FN_H + FP_H + TN_H: 1192337\n",
      "    len(label_mask_current_deforestation_test): "
     ]
    },
    {
     "name": "stdout",
     "output_type": "stream",
     "text": [
      "cm_correct [[38066765    89111]\n",
      " [   21741   375067]]\n",
      "cm_incorrect [[991167  67344]\n",
      " [ 75122  58704]]\n"
     ]
    },
    {
     "name": "stderr",
     "output_type": "stream",
     "text": [
      "39745021\n"
     ]
    },
    {
     "name": "stdout",
     "output_type": "stream",
     "text": [
      "[0.80802408 0.94521028 0.70682806 0.02999966 0.46572734 0.43865915]\n",
      "threshold 0.3299103812000415\n",
      "(39745021,) (39745021,)\n"
     ]
    },
    {
     "name": "stderr",
     "output_type": "stream",
     "text": [
      "ic| self.m_optimal: {'AA': array([0.02999966]),\n",
      "                     'f1': 77.4,\n",
      "                     'f1_H': array([0.45178817]),\n",
      "                     'f1_L': array([0.87124994]),\n",
      "                     'precision_H': array([0.46572734]),\n",
      "                     'precision_L': array([0.80802408]),\n",
      "                     'recall_H': array([0.43865915]),\n",
      "                     'recall_L': array([0.94521028]),\n",
      "                     'recall_Ltotal': array([0.70682806])}\n",
      "ic| self.m_audited_optimal: {'f1': array([0.9017825]),\n",
      "                             'precision': array([0.85098595]),\n",
      "                             'recall': array([0.95902826])}\n"
     ]
    },
    {
     "name": "stdout",
     "output_type": "stream",
     "text": [
      "cm_audited [[39125276    89111]\n",
      " [   21741   508893]]\n",
      "[0.85098595 0.95902826]\n",
      "D:/Jorge/datasets/deforestation/MT/deforestation_past_years.tif\n",
      "Loaded deforestation past years\n"
     ]
    },
    {
     "name": "stderr",
     "output_type": "stream",
     "text": [
      "ic| np.unique(deforestation_past_years, return_counts=True): (array([   0, 2008, 2009, 2010, 2011, 2012, 2013, 2014, 2015, 2016, 2017,\n",
      "                                                                    2018, 2019, 2020, 2021], dtype=uint16),\n",
      "                                                              array([161124576,   1332784,    240796,    338545,    313901,    287191,\n",
      "                                                                       708581,    648966,    876898,   1007787,   1098901,   1054092,\n",
      "                                                                      2096062,   2473828,   1400992], dtype=int64))\n"
     ]
    },
    {
     "name": "stdout",
     "output_type": "stream",
     "text": [
      "Label where deforestation past years is actual date (2019) = 1\n"
     ]
    },
    {
     "name": "stderr",
     "output_type": "stream",
     "text": [
      "ic| np.unique(deforestation_past_years, return_counts=True): (array([   0, 2008, 2009, 2010, 2011, 2012, 2013, 2014, 2015, 2016, 2017,\n",
      "                                                                    2018, 2019, 2020, 2021], dtype=uint16),\n",
      "                                                              array([161124576,   1332784,    240796,    338545,    313901,    287191,\n",
      "                                                                       708581,    648966,    876898,   1007787,   1098901,   1054092,\n",
      "                                                                      2096062,   2473828,   1400992], dtype=int64))\n"
     ]
    },
    {
     "name": "stdout",
     "output_type": "stream",
     "text": [
      "Past deforestation different from 0 (no deforestation)\n"
     ]
    },
    {
     "name": "stderr",
     "output_type": "stream",
     "text": [
      "ic| np.unique(deforestation_past_years, return_counts=True): (array([   0, 2008, 2009, 2010, 2011, 2012, 2013, 2014, 2015, 2016, 2017,\n",
      "                                                                    2018, 2019, 2020, 2021], dtype=uint16),\n",
      "                                                              array([161124576,   1332784,    240796,    338545,    313901,    287191,\n",
      "                                                                       708581,    648966,    876898,   1007787,   1098901,   1054092,\n",
      "                                                                      2096062,   2473828,   1400992], dtype=int64))\n"
     ]
    },
    {
     "name": "stdout",
     "output_type": "stream",
     "text": [
      "Past deforestation before 2008 is 2\n",
      "D:/Jorge/datasets/deforestation/MT/deforestation_before_2008/deforestation_before_2008_MT.tif\n"
     ]
    },
    {
     "name": "stderr",
     "output_type": "stream",
     "text": [
      "ic| np.unique(label_past_deforestation_before_2008, return_counts=True): (array([  0, 215], dtype=uint8), array([122623260,  52380640], dtype=int64))\n",
      "ic| np.unique(deforestation_past_years, return_counts=True): (array([   0, 2008, 2009, 2010, 2011, 2012, 2013, 2014, 2015, 2016, 2017,\n",
      "                                                                    2018, 2019, 2020, 2021], dtype=uint16),\n",
      "                                                              array([161124576,   1332784,    240796,    338545,    313901,    287191,\n",
      "                                                                       708581,    648966,    876898,   1007787,   1098901,   1054092,\n",
      "                                                                      2096062,   2473828,   1400992], dtype=int64))\n",
      "ic| label_per_date.shape: (16795, 10420, 1)\n"
     ]
    },
    {
     "name": "stdout",
     "output_type": "stream",
     "text": [
      "Mask label shape:  \n",
      " (16795, 10420, 1) \n",
      " Unique values:  \n",
      " [0 1 2]\n",
      "Tiles size:  3359 2084\n",
      "Mask size:  (16795, 10420)\n"
     ]
    },
    {
     "name": "stderr",
     "output_type": "stream",
     "text": [
      "ic| image_stack.shape: (16795, 10420, 21)\n"
     ]
    },
    {
     "name": "stdout",
     "output_type": "stream",
     "text": [
      "Image shape:  (16795, 10420, 21)\n",
      "mask:  (16795, 10420)\n",
      "image stack:  (16795, 10420, 21)\n",
      "ref : (16795, 10420, 1)\n",
      "Training tiles:  [2, 4, 5, 6, 7, 12, 14, 15, 18, 21, 23, 24]\n",
      "Validation tiles:  [9, 11, 25]\n",
      "Test tiles:  [1, 3, 8, 10, 13, 16, 17, 19, 20, 22]\n"
     ]
    },
    {
     "name": "stderr",
     "output_type": "stream",
     "text": [
      "ic| im_idx_row.shape: (16795, 10420, 1)\n",
      "    im_idx_col.shape: (16795, 10420, 1)\n",
      "ic| im_idx_row.dtype: dtype('uint16')\n",
      "    im_idx_col.dtype: dtype('uint16')\n",
      "ic| im_idx.shape: (16795, 10420, 2), im_idx.dtype: dtype('uint16')\n",
      "ic| coords.shape: (439, 271, 1, 128, 128, 2)\n",
      "    coords.dtype: dtype('uint16')\n",
      "ic| coords.shape: (118969, 2), coords.dtype: dtype('uint16')\n",
      "ic| self.coords_train.shape: (54516, 3)\n",
      "    self.coords_val.shape: (13175, 3)\n"
     ]
    },
    {
     "name": "stdout",
     "output_type": "stream",
     "text": [
      "training samples:  (2962, 3) validation samples:  (623, 3)\n",
      "time:  0\n",
      "Model: \"model_4\"\n",
      "__________________________________________________________________________________________________\n",
      "Layer (type)                    Output Shape         Param #     Connected to                     \n",
      "==================================================================================================\n",
      "input_enc_net (InputLayer)      [(None, 128, 128, 21 0                                            \n",
      "__________________________________________________________________________________________________\n",
      "res1_net1 (Conv2D)              (None, 128, 128, 16) 3040        input_enc_net[0][0]              \n",
      "__________________________________________________________________________________________________\n",
      "drop_net1 (Dropout)             (None, 128, 128, 16) 0           res1_net1[0][0]                  \n",
      "__________________________________________________________________________________________________\n",
      "res2_net1 (Conv2D)              (None, 128, 128, 16) 2320        drop_net1[0][0]                  \n",
      "__________________________________________________________________________________________________\n",
      "res3_net1 (Conv2D)              (None, 128, 128, 16) 352         input_enc_net[0][0]              \n",
      "__________________________________________________________________________________________________\n",
      "add_24 (Add)                    (None, 128, 128, 16) 0           res2_net1[0][0]                  \n",
      "                                                                 res3_net1[0][0]                  \n",
      "__________________________________________________________________________________________________\n",
      "pool_net1 (MaxPooling2D)        (None, 64, 64, 16)   0           add_24[0][0]                     \n",
      "__________________________________________________________________________________________________\n",
      "res1_net2 (Conv2D)              (None, 64, 64, 32)   4640        pool_net1[0][0]                  \n",
      "__________________________________________________________________________________________________\n",
      "drop_net2 (Dropout)             (None, 64, 64, 32)   0           res1_net2[0][0]                  \n",
      "__________________________________________________________________________________________________\n",
      "res2_net2 (Conv2D)              (None, 64, 64, 32)   9248        drop_net2[0][0]                  \n",
      "__________________________________________________________________________________________________\n",
      "res3_net2 (Conv2D)              (None, 64, 64, 32)   544         pool_net1[0][0]                  \n",
      "__________________________________________________________________________________________________\n",
      "add_25 (Add)                    (None, 64, 64, 32)   0           res2_net2[0][0]                  \n",
      "                                                                 res3_net2[0][0]                  \n",
      "__________________________________________________________________________________________________\n",
      "pool_net2 (MaxPooling2D)        (None, 32, 32, 32)   0           add_25[0][0]                     \n",
      "__________________________________________________________________________________________________\n",
      "res1_net3 (Conv2D)              (None, 32, 32, 64)   18496       pool_net2[0][0]                  \n",
      "__________________________________________________________________________________________________\n",
      "drop_net3 (Dropout)             (None, 32, 32, 64)   0           res1_net3[0][0]                  \n",
      "__________________________________________________________________________________________________\n",
      "res2_net3 (Conv2D)              (None, 32, 32, 64)   36928       drop_net3[0][0]                  \n",
      "__________________________________________________________________________________________________\n",
      "res3_net3 (Conv2D)              (None, 32, 32, 64)   2112        pool_net2[0][0]                  \n",
      "__________________________________________________________________________________________________\n",
      "add_26 (Add)                    (None, 32, 32, 64)   0           res2_net3[0][0]                  \n",
      "                                                                 res3_net3[0][0]                  \n",
      "__________________________________________________________________________________________________\n",
      "pool_net3 (MaxPooling2D)        (None, 16, 16, 64)   0           add_26[0][0]                     \n",
      "__________________________________________________________________________________________________\n",
      "res1_net4 (Conv2D)              (None, 16, 16, 64)   36928       pool_net3[0][0]                  \n",
      "__________________________________________________________________________________________________\n",
      "drop_net4 (Dropout)             (None, 16, 16, 64)   0           res1_net4[0][0]                  \n",
      "__________________________________________________________________________________________________\n",
      "res2_net4 (Conv2D)              (None, 16, 16, 64)   36928       drop_net4[0][0]                  \n",
      "__________________________________________________________________________________________________\n",
      "res3_net4 (Conv2D)              (None, 16, 16, 64)   4160        pool_net3[0][0]                  \n",
      "__________________________________________________________________________________________________\n",
      "add_27 (Add)                    (None, 16, 16, 64)   0           res2_net4[0][0]                  \n",
      "                                                                 res3_net4[0][0]                  \n",
      "__________________________________________________________________________________________________\n",
      "res1_net5 (Conv2D)              (None, 16, 16, 64)   36928       add_27[0][0]                     \n",
      "__________________________________________________________________________________________________\n",
      "drop_net5 (Dropout)             (None, 16, 16, 64)   0           res1_net5[0][0]                  \n",
      "__________________________________________________________________________________________________\n",
      "res2_net5 (Conv2D)              (None, 16, 16, 64)   36928       drop_net5[0][0]                  \n",
      "__________________________________________________________________________________________________\n",
      "res3_net5 (Conv2D)              (None, 16, 16, 64)   4160        add_27[0][0]                     \n",
      "__________________________________________________________________________________________________\n",
      "add_28 (Add)                    (None, 16, 16, 64)   0           res2_net5[0][0]                  \n",
      "                                                                 res3_net5[0][0]                  \n",
      "__________________________________________________________________________________________________\n",
      "res1_net6 (Conv2D)              (None, 16, 16, 64)   36928       add_28[0][0]                     \n",
      "__________________________________________________________________________________________________\n",
      "drop_net6 (Dropout)             (None, 16, 16, 64)   0           res1_net6[0][0]                  \n",
      "__________________________________________________________________________________________________\n",
      "res2_net6 (Conv2D)              (None, 16, 16, 64)   36928       drop_net6[0][0]                  \n",
      "__________________________________________________________________________________________________\n",
      "res3_net6 (Conv2D)              (None, 16, 16, 64)   4160        add_28[0][0]                     \n",
      "__________________________________________________________________________________________________\n",
      "add_29 (Add)                    (None, 16, 16, 64)   0           res2_net6[0][0]                  \n",
      "                                                                 res3_net6[0][0]                  \n",
      "__________________________________________________________________________________________________\n",
      "up_sampling2d_12 (UpSampling2D) (None, 32, 32, 64)   0           add_29[0][0]                     \n",
      "__________________________________________________________________________________________________\n",
      "upsampling_net3 (Conv2D)        (None, 32, 32, 64)   36928       up_sampling2d_12[0][0]           \n",
      "__________________________________________________________________________________________________\n",
      "concatenate3 (Concatenate)      (None, 32, 32, 128)  0           add_26[0][0]                     \n",
      "                                                                 upsampling_net3[0][0]            \n",
      "__________________________________________________________________________________________________\n",
      "up_sampling2d_13 (UpSampling2D) (None, 64, 64, 128)  0           concatenate3[0][0]               \n",
      "__________________________________________________________________________________________________\n",
      "upsampling_net2 (Conv2D)        (None, 64, 64, 32)   36896       up_sampling2d_13[0][0]           \n",
      "__________________________________________________________________________________________________\n",
      "concatenate2 (Concatenate)      (None, 64, 64, 64)   0           add_25[0][0]                     \n",
      "                                                                 upsampling_net2[0][0]            \n",
      "__________________________________________________________________________________________________\n",
      "up_sampling2d_14 (UpSampling2D) (None, 128, 128, 64) 0           concatenate2[0][0]               \n",
      "__________________________________________________________________________________________________\n",
      "upsampling_net1 (Conv2D)        (None, 128, 128, 16) 9232        up_sampling2d_14[0][0]           \n",
      "__________________________________________________________________________________________________\n",
      "concatenate1 (Concatenate)      (None, 128, 128, 32) 0           add_24[0][0]                     \n",
      "                                                                 upsampling_net1[0][0]            \n",
      "__________________________________________________________________________________________________\n",
      "output (Conv2D)                 (None, 128, 128, 3)  99          concatenate1[0][0]               \n",
      "==================================================================================================\n",
      "Total params: 394,883\n",
      "Trainable params: 394,883\n",
      "Non-trainable params: 0\n",
      "__________________________________________________________________________________________________\n"
     ]
    },
    {
     "name": "stderr",
     "output_type": "stream",
     "text": [
      "c:\\Users\\jchamorro\\Anaconda3\\envs\\tf2\\lib\\site-packages\\tensorflow\\python\\keras\\optimizer_v2\\optimizer_v2.py:374: UserWarning: The `lr` argument is deprecated, use `learning_rate` instead.\n",
      "  warnings.warn(\n",
      "c:\\Users\\jchamorro\\Anaconda3\\envs\\tf2\\lib\\site-packages\\tensorflow\\python\\keras\\engine\\training.py:1969: UserWarning: `Model.fit_generator` is deprecated and will be removed in a future version. Please use `Model.fit`, which supports generators.\n",
      "  warnings.warn('`Model.fit_generator` is deprecated and '\n"
     ]
    },
    {
     "name": "stdout",
     "output_type": "stream",
     "text": [
      "Epoch 1/100\n",
      "self.global_step 0.0\n",
      "alpha Tensor(\"loss/add:0\", shape=(None, 128, 128, 3), dtype=float32)\n",
      "u Tensor(\"loss/truediv:0\", shape=(None, 128, 128, 1), dtype=float32)\n",
      "alpha Tensor(\"add:0\", shape=(None, 128, 128, 3), dtype=float32)\n",
      "u Tensor(\"truediv:0\", shape=(None, 128, 128, 1), dtype=float32)\n",
      "K.int_shape(KL_reg) Tensor(\"mul_6:0\", shape=(None, 128, 128, 1), dtype=float32)\n",
      "alpha Tensor(\"add_7:0\", shape=(None, 128, 128, 3), dtype=float32)\n",
      "u Tensor(\"truediv_5:0\", shape=(None, 128, 128, 1), dtype=float32)\n",
      "K.int_shape(KL_reg) Tensor(\"mul_12:0\", shape=(None, 128, 128, 1), dtype=float32)\n",
      "alpha Tensor(\"loss/add:0\", shape=(None, 128, 128, 3), dtype=float32)\n",
      "u Tensor(\"loss/truediv:0\", shape=(None, 128, 128, 1), dtype=float32)\n",
      "alpha Tensor(\"add:0\", shape=(None, 128, 128, 3), dtype=float32)\n",
      "u Tensor(\"truediv:0\", shape=(None, 128, 128, 1), dtype=float32)\n",
      "K.int_shape(KL_reg) Tensor(\"mul_6:0\", shape=(None, 128, 128, 1), dtype=float32)\n",
      "alpha Tensor(\"add_7:0\", shape=(None, 128, 128, 3), dtype=float32)\n",
      "u Tensor(\"truediv_5:0\", shape=(None, 128, 128, 1), dtype=float32)\n",
      "K.int_shape(KL_reg) Tensor(\"mul_12:0\", shape=(None, 128, 128, 1), dtype=float32)\n",
      "277/277 [==============================] - ETA: 0s - loss: 0.5257 - accuracy: 0.5860 - KL_term: 0.0042 - loglikelihood_term: 0.5213 - evidential_success: 30.4184 - evidential_fail: 2.0792 - acc: 0.5861 - annealing_coef: 0.0368 - global_step_get: 138.0000 - annealing_step_get: 3750.0000alpha Tensor(\"loss/add:0\", shape=(None, 128, 128, 3), dtype=float32)\n",
      "u Tensor(\"loss/truediv:0\", shape=(None, 128, 128, 1), dtype=float32)\n",
      "alpha Tensor(\"add:0\", shape=(None, 128, 128, 3), dtype=float32)\n",
      "u Tensor(\"truediv:0\", shape=(None, 128, 128, 1), dtype=float32)\n",
      "K.int_shape(KL_reg) Tensor(\"mul_6:0\", shape=(None, 128, 128, 1), dtype=float32)\n",
      "alpha Tensor(\"add_7:0\", shape=(None, 128, 128, 3), dtype=float32)\n",
      "u Tensor(\"truediv_5:0\", shape=(None, 128, 128, 1), dtype=float32)\n",
      "K.int_shape(KL_reg) Tensor(\"mul_12:0\", shape=(None, 128, 128, 1), dtype=float32)\n",
      "277/277 [==============================] - 27s 87ms/step - loss: 0.5257 - accuracy: 0.5860 - KL_term: 0.0042 - loglikelihood_term: 0.5213 - evidential_success: 30.4184 - evidential_fail: 2.0792 - acc: 0.5861 - annealing_coef: 0.0368 - global_step_get: 138.0000 - annealing_step_get: 3750.0000 - val_loss: 0.4941 - val_accuracy: 0.7066 - val_KL_term: 0.0067 - val_loglikelihood_term: 0.4895 - val_evidential_success: 28.2301 - val_evidential_fail: 2.2268 - val_acc: 0.7078 - val_annealing_coef: 0.0736 - val_global_step_get: 276.0000 - val_annealing_step_get: 3750.0000\n",
      "\n",
      "Epoch 00001: val_loss improved from inf to 0.49406, saving model to D:/Jorge/datasets/deforestation/experiments/MT/exp193/models\\resunet_0.h5\n",
      "Epoch 2/100\n",
      "self.global_step 276.0\n",
      "  1/277 [..............................] - ETA: 18s - loss: 0.3918 - accuracy: 0.7273 - KL_term: 0.0000e+00 - loglikelihood_term: 0.3918 - evidential_success: 40.5509 - evidential_fail: 7.8394 - acc: 0.7273 - annealing_coef: 0.0000e+00 - global_step_get: 0.0000e+00 - annealing_step_get: 3750.0000"
     ]
    },
    {
     "name": "stderr",
     "output_type": "stream",
     "text": [
      "c:\\Users\\jchamorro\\Anaconda3\\envs\\tf2\\lib\\site-packages\\tensorflow\\python\\keras\\utils\\generic_utils.py:494: CustomMaskWarning: Custom mask layers require a config and must override get_config. When loading, the custom mask layer must be passed to the custom_objects argument.\n",
      "  warnings.warn('Custom mask layers require a config and must override '\n"
     ]
    },
    {
     "name": "stdout",
     "output_type": "stream",
     "text": [
      "277/277 [==============================] - 24s 85ms/step - loss: 0.4912 - accuracy: 0.6144 - KL_term: 0.0065 - loglikelihood_term: 0.4848 - evidential_success: 43.3738 - evidential_fail: 1.9848 - acc: 0.6144 - annealing_coef: 0.0736 - global_step_get: 276.0000 - annealing_step_get: 3750.0000 - val_loss: 0.4947 - val_accuracy: 0.7055 - val_KL_term: 0.0100 - val_loglikelihood_term: 0.4881 - val_evidential_success: 20.8141 - val_evidential_fail: 1.4216 - val_acc: 0.7064 - val_annealing_coef: 0.1472 - val_global_step_get: 552.0000 - val_annealing_step_get: 3750.0000\n",
      "\n",
      "Epoch 00002: val_loss did not improve from 0.49406\n",
      "Epoch 3/100\n",
      "self.global_step 552.0\n",
      "277/277 [==============================] - 24s 86ms/step - loss: 0.3727 - accuracy: 0.6884 - KL_term: 0.0150 - loglikelihood_term: 0.3579 - evidential_success: 38.0267 - evidential_fail: 3.0131 - acc: 0.6882 - annealing_coef: 0.1104 - global_step_get: 414.0000 - annealing_step_get: 3750.0000 - val_loss: 0.3622 - val_accuracy: 0.6692 - val_KL_term: 0.0204 - val_loglikelihood_term: 0.3454 - val_evidential_success: 34.8026 - val_evidential_fail: 1.6842 - val_acc: 0.6637 - val_annealing_coef: 0.2208 - val_global_step_get: 828.0000 - val_annealing_step_get: 3750.0000\n",
      "\n",
      "Epoch 00003: val_loss improved from 0.49406 to 0.36215, saving model to D:/Jorge/datasets/deforestation/experiments/MT/exp193/models\\resunet_0.h5\n",
      "Epoch 4/100\n",
      "self.global_step 828.0\n",
      "277/277 [==============================] - 24s 86ms/step - loss: 0.3220 - accuracy: 0.7040 - KL_term: 0.0143 - loglikelihood_term: 0.3077 - evidential_success: 59.9432 - evidential_fail: 2.6365 - acc: 0.7040 - annealing_coef: 0.1472 - global_step_get: 552.0000 - annealing_step_get: 3750.0000 - val_loss: 0.3723 - val_accuracy: 0.6744 - val_KL_term: 0.0367 - val_loglikelihood_term: 0.3388 - val_evidential_success: 59.7409 - val_evidential_fail: 2.8223 - val_acc: 0.6689 - val_annealing_coef: 0.2944 - val_global_step_get: 1104.0000 - val_annealing_step_get: 3750.0000\n",
      "\n",
      "Epoch 00004: val_loss did not improve from 0.36215\n",
      "Epoch 5/100\n",
      "self.global_step 1104.0\n",
      "277/277 [==============================] - 24s 86ms/step - loss: 0.2967 - accuracy: 0.7954 - KL_term: 0.0150 - loglikelihood_term: 0.2817 - evidential_success: 78.4189 - evidential_fail: 3.3136 - acc: 0.7952 - annealing_coef: 0.1840 - global_step_get: 690.0000 - annealing_step_get: 3750.0000 - val_loss: 0.1939 - val_accuracy: 0.9194 - val_KL_term: 0.0456 - val_loglikelihood_term: 0.1462 - val_evidential_success: 30.5606 - val_evidential_fail: 5.6742 - val_acc: 0.9203 - val_annealing_coef: 0.3680 - val_global_step_get: 1380.0000 - val_annealing_step_get: 3750.0000\n",
      "\n",
      "Epoch 00005: val_loss improved from 0.36215 to 0.19387, saving model to D:/Jorge/datasets/deforestation/experiments/MT/exp193/models\\resunet_0.h5\n",
      "Epoch 6/100\n",
      "self.global_step 1380.0\n",
      "277/277 [==============================] - 24s 86ms/step - loss: 0.1204 - accuracy: 0.9402 - KL_term: 0.0171 - loglikelihood_term: 0.1034 - evidential_success: 82.0700 - evidential_fail: 8.1831 - acc: 0.9401 - annealing_coef: 0.2208 - global_step_get: 828.0000 - annealing_step_get: 3750.0000 - val_loss: 0.2354 - val_accuracy: 0.9216 - val_KL_term: 0.0907 - val_loglikelihood_term: 0.1409 - val_evidential_success: 65.7492 - val_evidential_fail: 11.0362 - val_acc: 0.9226 - val_annealing_coef: 0.4416 - val_global_step_get: 1656.0000 - val_annealing_step_get: 3750.0000\n",
      "\n",
      "Epoch 00006: val_loss did not improve from 0.19387\n",
      "Epoch 7/100\n",
      "self.global_step 1656.0\n",
      "277/277 [==============================] - 24s 86ms/step - loss: 0.1154 - accuracy: 0.9442 - KL_term: 0.0180 - loglikelihood_term: 0.0974 - evidential_success: 89.0414 - evidential_fail: 7.8703 - acc: 0.9442 - annealing_coef: 0.2576 - global_step_get: 966.0000 - annealing_step_get: 3750.0000 - val_loss: 0.2019 - val_accuracy: 0.9312 - val_KL_term: 0.0745 - val_loglikelihood_term: 0.1247 - val_evidential_success: 51.9414 - val_evidential_fail: 8.0439 - val_acc: 0.9318 - val_annealing_coef: 0.5152 - val_global_step_get: 1932.0000 - val_annealing_step_get: 3750.0000\n",
      "\n",
      "Epoch 00007: val_loss did not improve from 0.19387\n",
      "Epoch 8/100\n",
      "self.global_step 1932.0\n",
      "277/277 [==============================] - 24s 86ms/step - loss: 0.1090 - accuracy: 0.9476 - KL_term: 0.0172 - loglikelihood_term: 0.0918 - evidential_success: 94.0815 - evidential_fail: 7.1961 - acc: 0.9476 - annealing_coef: 0.2944 - global_step_get: 1104.0000 - annealing_step_get: 3750.0000 - val_loss: 0.2532 - val_accuracy: 0.9240 - val_KL_term: 0.1126 - val_loglikelihood_term: 0.1366 - val_evidential_success: 67.5726 - val_evidential_fail: 9.9404 - val_acc: 0.9248 - val_annealing_coef: 0.5888 - val_global_step_get: 2208.0000 - val_annealing_step_get: 3750.0000\n",
      "\n",
      "Epoch 00008: val_loss did not improve from 0.19387\n",
      "Epoch 9/100\n",
      "self.global_step 2208.0\n",
      "277/277 [==============================] - 24s 86ms/step - loss: 0.1126 - accuracy: 0.9470 - KL_term: 0.0189 - loglikelihood_term: 0.0936 - evidential_success: 92.4188 - evidential_fail: 6.9727 - acc: 0.9471 - annealing_coef: 0.3312 - global_step_get: 1242.0000 - annealing_step_get: 3750.0000 - val_loss: 0.1630 - val_accuracy: 0.9443 - val_KL_term: 0.0557 - val_loglikelihood_term: 0.1059 - val_evidential_success: 49.9023 - val_evidential_fail: 6.9426 - val_acc: 0.9445 - val_annealing_coef: 0.6624 - val_global_step_get: 2484.0000 - val_annealing_step_get: 3750.0000\n",
      "\n",
      "Epoch 00009: val_loss improved from 0.19387 to 0.16304, saving model to D:/Jorge/datasets/deforestation/experiments/MT/exp193/models\\resunet_0.h5\n",
      "Epoch 10/100\n",
      "self.global_step 2484.0\n",
      "277/277 [==============================] - 24s 86ms/step - loss: 0.1068 - accuracy: 0.9500 - KL_term: 0.0182 - loglikelihood_term: 0.0886 - evidential_success: 95.7484 - evidential_fail: 6.1705 - acc: 0.9500 - annealing_coef: 0.3680 - global_step_get: 1380.0000 - annealing_step_get: 3750.0000 - val_loss: 0.2461 - val_accuracy: 0.9228 - val_KL_term: 0.1050 - val_loglikelihood_term: 0.1373 - val_evidential_success: 59.8800 - val_evidential_fail: 8.0447 - val_acc: 0.9236 - val_annealing_coef: 0.7360 - val_global_step_get: 2760.0000 - val_annealing_step_get: 3750.0000\n",
      "\n",
      "Epoch 00010: val_loss did not improve from 0.16304\n",
      "Epoch 11/100\n",
      "self.global_step 2760.0\n",
      "277/277 [==============================] - 24s 86ms/step - loss: 0.1061 - accuracy: 0.9510 - KL_term: 0.0184 - loglikelihood_term: 0.0876 - evidential_success: 95.7265 - evidential_fail: 6.0164 - acc: 0.9510 - annealing_coef: 0.4048 - global_step_get: 1518.0000 - annealing_step_get: 3750.0000 - val_loss: 0.1697 - val_accuracy: 0.9459 - val_KL_term: 0.0681 - val_loglikelihood_term: 0.1002 - val_evidential_success: 62.9883 - val_evidential_fail: 7.4316 - val_acc: 0.9460 - val_annealing_coef: 0.8096 - val_global_step_get: 3036.0000 - val_annealing_step_get: 3750.0000\n",
      "\n",
      "Epoch 00011: val_loss did not improve from 0.16304\n",
      "Epoch 12/100\n",
      "self.global_step 3036.0\n",
      "277/277 [==============================] - 24s 86ms/step - loss: 0.1059 - accuracy: 0.9516 - KL_term: 0.0187 - loglikelihood_term: 0.0871 - evidential_success: 98.6713 - evidential_fail: 5.8637 - acc: 0.9516 - annealing_coef: 0.4416 - global_step_get: 1656.0000 - annealing_step_get: 3750.0000 - val_loss: 0.2062 - val_accuracy: 0.9387 - val_KL_term: 0.0911 - val_loglikelihood_term: 0.1127 - val_evidential_success: 69.7447 - val_evidential_fail: 8.5115 - val_acc: 0.9389 - val_annealing_coef: 0.8832 - val_global_step_get: 3312.0000 - val_annealing_step_get: 3750.0000\n",
      "\n",
      "Epoch 00012: val_loss did not improve from 0.16304\n",
      "Epoch 13/100\n",
      "self.global_step 3312.0\n",
      "277/277 [==============================] - 24s 86ms/step - loss: 0.1051 - accuracy: 0.9524 - KL_term: 0.0189 - loglikelihood_term: 0.0863 - evidential_success: 99.7202 - evidential_fail: 5.7112 - acc: 0.9524 - annealing_coef: 0.4784 - global_step_get: 1794.0000 - annealing_step_get: 3750.0000 - val_loss: 0.1768 - val_accuracy: 0.9471 - val_KL_term: 0.0764 - val_loglikelihood_term: 0.0987 - val_evidential_success: 75.5201 - val_evidential_fail: 8.7735 - val_acc: 0.9472 - val_annealing_coef: 0.9568 - val_global_step_get: 3588.0000 - val_annealing_step_get: 3750.0000\n",
      "\n",
      "Epoch 00013: val_loss did not improve from 0.16304\n",
      "Epoch 14/100\n",
      "self.global_step 3588.0\n",
      "277/277 [==============================] - 24s 86ms/step - loss: 0.1064 - accuracy: 0.9528 - KL_term: 0.0202 - loglikelihood_term: 0.0863 - evidential_success: 105.1885 - evidential_fail: 5.1779 - acc: 0.9528 - annealing_coef: 0.5147 - global_step_get: 1932.0000 - annealing_step_get: 3750.0000 - val_loss: 0.2691 - val_accuracy: 0.9264 - val_KL_term: 0.1328 - val_loglikelihood_term: 0.1319 - val_evidential_success: 58.1683 - val_evidential_fail: 7.0887 - val_acc: 0.9271 - val_annealing_coef: 1.0000 - val_global_step_get: 3864.0000 - val_annealing_step_get: 3750.0000\n",
      "\n",
      "Epoch 00014: val_loss did not improve from 0.16304\n",
      "Epoch 15/100\n",
      "self.global_step 3864.0\n",
      "277/277 [==============================] - 24s 86ms/step - loss: 0.1008 - accuracy: 0.9555 - KL_term: 0.0190 - loglikelihood_term: 0.0819 - evidential_success: 108.3260 - evidential_fail: 5.1097 - acc: 0.9554 - annealing_coef: 0.5469 - global_step_get: 2070.0000 - annealing_step_get: 3750.0000 - val_loss: 0.3082 - val_accuracy: 0.9213 - val_KL_term: 0.1678 - val_loglikelihood_term: 0.1354 - val_evidential_success: 79.5734 - val_evidential_fail: 10.4824 - val_acc: 0.9220 - val_annealing_coef: 1.0000 - val_global_step_get: 4140.0000 - val_annealing_step_get: 3750.0000\n",
      "\n",
      "Epoch 00015: val_loss did not improve from 0.16304\n",
      "Epoch 16/100\n",
      "self.global_step 4140.0\n",
      "277/277 [==============================] - 24s 86ms/step - loss: 0.0997 - accuracy: 0.9561 - KL_term: 0.0190 - loglikelihood_term: 0.0809 - evidential_success: 108.3718 - evidential_fail: 5.0221 - acc: 0.9561 - annealing_coef: 0.5751 - global_step_get: 2208.0000 - annealing_step_get: 3750.0000 - val_loss: 0.3548 - val_accuracy: 0.9170 - val_KL_term: 0.2019 - val_loglikelihood_term: 0.1466 - val_evidential_success: 75.1088 - val_evidential_fail: 9.5797 - val_acc: 0.9179 - val_annealing_coef: 1.0000 - val_global_step_get: 4416.0000 - val_annealing_step_get: 3750.0000\n",
      "\n",
      "Epoch 00016: val_loss did not improve from 0.16304\n",
      "Epoch 17/100\n",
      "self.global_step 4416.0\n",
      "277/277 [==============================] - 24s 86ms/step - loss: 0.0995 - accuracy: 0.9566 - KL_term: 0.0190 - loglikelihood_term: 0.0804 - evidential_success: 113.9349 - evidential_fail: 4.6933 - acc: 0.9566 - annealing_coef: 0.6000 - global_step_get: 2346.0000 - annealing_step_get: 3750.0000 - val_loss: 0.3181 - val_accuracy: 0.9272 - val_KL_term: 0.1842 - val_loglikelihood_term: 0.1286 - val_evidential_success: 86.3554 - val_evidential_fail: 14.1107 - val_acc: 0.9278 - val_annealing_coef: 1.0000 - val_global_step_get: 4692.0000 - val_annealing_step_get: 3750.0000\n",
      "\n",
      "Epoch 00017: val_loss did not improve from 0.16304\n",
      "Epoch 18/100\n",
      "self.global_step 4692.0\n",
      "277/277 [==============================] - 24s 86ms/step - loss: 0.1005 - accuracy: 0.9563 - KL_term: 0.0194 - loglikelihood_term: 0.0810 - evidential_success: 114.2919 - evidential_fail: 4.4260 - acc: 0.9563 - annealing_coef: 0.6221 - global_step_get: 2484.0000 - annealing_step_get: 3750.0000 - val_loss: 0.1964 - val_accuracy: 0.9469 - val_KL_term: 0.0934 - val_loglikelihood_term: 0.1016 - val_evidential_success: 73.0249 - val_evidential_fail: 10.7944 - val_acc: 0.9469 - val_annealing_coef: 1.0000 - val_global_step_get: 4968.0000 - val_annealing_step_get: 3750.0000\n",
      "\n",
      "Epoch 00018: val_loss did not improve from 0.16304\n",
      "Epoch 19/100\n",
      "self.global_step 4968.0\n",
      "277/277 [==============================] - 24s 86ms/step - loss: 0.0953 - accuracy: 0.9584 - KL_term: 0.0180 - loglikelihood_term: 0.0772 - evidential_success: 125.9654 - evidential_fail: 4.3275 - acc: 0.9584 - annealing_coef: 0.6419 - global_step_get: 2622.0000 - annealing_step_get: 3750.0000 - val_loss: 0.2413 - val_accuracy: 0.9378 - val_KL_term: 0.1268 - val_loglikelihood_term: 0.1114 - val_evidential_success: 86.2454 - val_evidential_fail: 10.3968 - val_acc: 0.9381 - val_annealing_coef: 1.0000 - val_global_step_get: 5244.0000 - val_annealing_step_get: 3750.0000\n",
      "\n",
      "Epoch 00019: val_loss did not improve from 0.16304\n",
      "Epoch 00019: early stopping\n",
      "-5.0 -12.0\n"
     ]
    },
    {
     "name": "stderr",
     "output_type": "stream",
     "text": [
      "ic| self.path_models+ '/' + self.method +'_'+str(0)+'.h5': 'D:/Jorge/datasets/deforestation/experiments/MT/exp193/models/resunet_0.h5'\n"
     ]
    },
    {
     "name": "stdout",
     "output_type": "stream",
     "text": [
      "time:  0\n",
      "(39774655,)\n",
      "(array([0, 1], dtype=uint8), array([39234711,   539944], dtype=int64))\n",
      "(16795, 10420)\n",
      "(array([0., 1.], dtype=float32), array([172570182,   2433718], dtype=int64))\n"
     ]
    },
    {
     "name": "stderr",
     "output_type": "stream",
     "text": [
      "ic| self.predicted_unpad.shape: (16795, 10420)\n",
      "    self.predicted.shape: (16795, 10420)\n",
      "ic| predicted_test.shape: (70001560,)\n",
      "ic| predicted_test.shape: (39774655,)\n",
      "ic| np.unique(predicted, return_counts=True): (array([0., 1.], dtype=float32), array([172570182,   2433718], dtype=int64))\n",
      "    np.unique(predicted_larger_than_min_area, return_counts=True): (array([0., 1.], dtype=float32), array([172649769,   2354131], dtype=int64))\n",
      "ic| np.unique(ignored_polygons, return_counts=True): (array([0., 1.], dtype=float32), array([174924313,     79587], dtype=int64))\n",
      "ic| self.f1: 64.79, self.precision: 52.1, self.recall: 85.67\n",
      "ic| self.label_mask_val.shape: (21000468,)\n",
      "ic| self.label_mask_val_valid.shape: (10901852,)\n",
      "ic| f1_val: 90.83\n",
      "    precision_val: 93.24\n",
      "    recall_val: 88.55\n",
      "    mAP_val: 90.07\n"
     ]
    },
    {
     "name": "stdout",
     "output_type": "stream",
     "text": [
      "(array([0., 1.], dtype=float32), array([174173601,    830299], dtype=int64))\n"
     ]
    },
    {
     "name": "stderr",
     "output_type": "stream",
     "text": [
      "ic| self.label_mask.shape: (16795, 10420)\n",
      "ic| self.mask_amazon_ts.shape: (16795, 10420)\n",
      "ic| self.label_mask_test.shape: (70001560,)\n",
      "ic| self.error_mask_test.shape: (39740011,)\n",
      "ic| bounds: (0.0015, 0.9985)\n",
      "c:\\Users\\jchamorro\\Anaconda3\\envs\\tf2\\lib\\site-packages\\scipy\\optimize\\_minimize.py:783: RuntimeWarning: Method 'bounded' does not support relative tolerance in x; defaulting to absolute tolerance.\n",
      "  warn(\"Method 'bounded' does not support relative tolerance in x; \"\n"
     ]
    },
    {
     "name": "stdout",
     "output_type": "stream",
     "text": [
      "0.38232011321635484\n",
      "threshold 0.38232011321635484\n",
      "(37828204,) (37828204,)\n"
     ]
    },
    {
     "name": "stderr",
     "output_type": "stream",
     "text": [
      "ic| label_current_deforestation_test_classified_incorrect.shape: (1911807,)\n",
      "    predicted_test_classified_incorrect.shape: (1911807,)\n"
     ]
    },
    {
     "name": "stdout",
     "output_type": "stream",
     "text": [
      "cm_correct [[37081236   322671]\n",
      " [   19070   405227]]\n"
     ]
    },
    {
     "name": "stderr",
     "output_type": "stream",
     "text": [
      "ic| TP_H + FN_H + FP_H + TN_H: 1911807\n",
      "    len(label_mask_current_deforestation_test): 39740011\n",
      "ic| TP_H + FN_H + FP_H + TN_H: 1911807\n",
      "    len(label_mask_current_deforestation_test): 39740011\n"
     ]
    },
    {
     "name": "stdout",
     "output_type": "stream",
     "text": [
      "cm_incorrect [[1710978   94936]\n",
      " [  56903   48990]]\n",
      "[0.55670849 0.95505507 0.76430525 0.04810786 0.34038325 0.46263681]\n",
      "0.6176798867836452\n",
      "threshold 0.6176798867836452\n",
      "(38764704,) (38764704,)\n"
     ]
    },
    {
     "name": "stderr",
     "output_type": "stream",
     "text": [
      "ic| label_current_deforestation_test_classified_incorrect.shape: (975307,)\n",
      "    predicted_test_classified_incorrect.shape: (975307,)\n",
      "ic| TP_H + FN_H + FP_H + TN_H: 975307\n",
      "    len(label_mask_current_deforestation_test): 39740011\n",
      "ic| TP_H + FN_H + FP_H + TN_H: 975307\n",
      "    len(label_mask_current_deforestation_test): 39740011\n"
     ]
    },
    {
     "name": "stdout",
     "output_type": "stream",
     "text": [
      "cm_correct [[37899189   395589]\n",
      " [   28958   440968]]\n",
      "cm_incorrect [[893025  22018]\n",
      " [ 47015  13249]]\n",
      "[0.52712248 0.93837753 0.83171693 0.02454219 0.37567698 0.21984933]\n",
      "0.7631402264327096\n",
      "threshold 0.7631402264327096\n",
      "(39399509,) (39399509,)\n"
     ]
    },
    {
     "name": "stderr",
     "output_type": "stream",
     "text": [
      "ic| label_current_deforestation_test_classified_incorrect.shape: (340502,)\n",
      "    predicted_test_classified_incorrect.shape: (340502,)\n",
      "d:\\Jorge\\deforestation_uncertainty\\src\\metrics.py:299: RuntimeWarning: invalid value encountered in longlong_scalars\n",
      "  precision_H = TP_H / (TP_H + FP_H)\n",
      "ic| TP_H + FN_H + FP_H + TN_H: 340502\n",
      "    len(label_mask_current_deforestation_test): 39740011\n",
      "ic| TP_H + FN_H + FP_H + TN_H: 340502\n",
      "    len(label_mask_current_deforestation_test): 39740011\n"
     ]
    },
    {
     "name": "stdout",
     "output_type": "stream",
     "text": [
      "cm_correct [[38487598   417607]\n",
      " [   40087   454217]]\n",
      "cm_incorrect [[304616      0]\n",
      " [ 35886      0]]\n",
      "[0.52099621 0.91890213 0.85670609 0.00856824        nan 0.        ]\n",
      "0.5625693451508236\n",
      "threshold 0.5625693451508236\n",
      "(38553510,) (38553510,)\n"
     ]
    },
    {
     "name": "stderr",
     "output_type": "stream",
     "text": [
      "ic| label_current_deforestation_test_classified_incorrect.shape: (1186501,)\n",
      "    predicted_test_classified_incorrect.shape: (1186501,)\n",
      "ic| TP_H + FN_H + FP_H + TN_H: 1186501\n",
      "    len(label_mask_current_deforestation_test): 39740011\n",
      "ic| TP_H + FN_H + FP_H + TN_H: 1186501\n",
      "    len(label_mask_current_deforestation_test): 39740011\n"
     ]
    },
    {
     "name": "stdout",
     "output_type": "stream",
     "text": [
      "cm_correct [[37711715   381251]\n",
      " [   26958   433586]]\n",
      "cm_incorrect [[1080499   36356]\n",
      " [  49015   20631]]\n",
      "[0.53211378 0.94146488 0.81779362 0.02985658 0.36202994 0.29622663]\n",
      "0.5322547534432517\n",
      "threshold 0.5322547534432517\n",
      "(38439791,) (38439791,)\n"
     ]
    },
    {
     "name": "stderr",
     "output_type": "stream",
     "text": [
      "ic| label_current_deforestation_test_classified_incorrect.shape: (1300220,)\n",
      "    predicted_test_classified_incorrect.shape: (1300220,)\n",
      "ic| TP_H + FN_H + FP_H + TN_H: 1300220\n",
      "    len(label_mask_current_deforestation_test): 39740011\n",
      "ic| TP_H + FN_H + FP_H + TN_H: 1300220\n",
      "    len(label_mask_current_deforestation_test"
     ]
    },
    {
     "name": "stdout",
     "output_type": "stream",
     "text": [
      "cm_correct [[37611922   372423]\n",
      " [   25975   429471]]\n",
      "cm_incorrect [[1180292   45184]\n",
      " [  49998   24746]]\n"
     ]
    },
    {
     "name": "stderr",
     "output_type": "stream",
     "text": [
      "): 39740011\n"
     ]
    },
    {
     "name": "stdout",
     "output_type": "stream",
     "text": [
      "[0.53557079 0.94296799 0.81003225 0.03271816 0.35386815 0.33107674]\n",
      "0.5674144877071775\n",
      "threshold 0.5674144877071775\n",
      "(38572008,) (38572008,)\n"
     ]
    },
    {
     "name": "stderr",
     "output_type": "stream",
     "text": [
      "ic| label_current_deforestation_test_classified_incorrect.shape: (1168003,)\n",
      "    predicted_test_classified_incorrect.shape: (1168003,)\n",
      "ic| TP_H + FN_H + FP_H + TN_H: 1168003\n",
      "    len(label_mask_current_deforestation_test): 39740011\n",
      "ic| TP_H + FN_H + FP_H + TN_H: 1168003\n",
      "    len(label_mask_current_deforestation_test): 39740011\n"
     ]
    },
    {
     "name": "stdout",
     "output_type": "stream",
     "text": [
      "cm_correct [[37728074   382626]\n",
      " [   27101   434207]]\n",
      "cm_incorrect [[1064140   34981]\n",
      " [  48872   20010]]\n",
      "[0.53157377 0.94125183 0.8189649  0.02939111 0.36387773 0.29049679]\n",
      "0.5556611777093843\n",
      "threshold 0.5556611777093843\n",
      "(38527075,) (38527075,)\n"
     ]
    },
    {
     "name": "stderr",
     "output_type": "stream",
     "text": [
      "ic| label_current_deforestation_test_classified_incorrect.shape: (1212936,)\n",
      "    predicted_test_classified_incorrect.shape: (1212936,)\n",
      "ic| TP_H + FN_H + FP_H + TN_H: 1212936\n",
      "    len(label_mask_current_deforestation_test): 39740011\n",
      "ic| TP_H + FN_H + FP_H + TN_H: 1212936\n",
      "    len(label_mask_current_deforestation_test): 39740011\n"
     ]
    },
    {
     "name": "stdout",
     "output_type": "stream",
     "text": [
      "cm_correct [[37688493   379216]\n",
      " [   26731   432635]]\n",
      "cm_incorrect [[1103721   38391]\n",
      " [  49242   21582]]\n",
      "[0.53289951 0.94180893 0.81599992 0.03052178 0.35986194 0.30472721]\n",
      "0.5612490938433985\n",
      "threshold 0.5612490938433985\n",
      "(38548450,) (38548450,)\n"
     ]
    },
    {
     "name": "stderr",
     "output_type": "stream",
     "text": [
      "ic| label_current_deforestation_test_classified_incorrect.shape: (1191561,)\n",
      "    predicted_test_classified_incorrect.shape: (1191561,)\n",
      "ic| TP_H + FN_H + FP_H + TN_H: 1191561\n",
      "    len(label_mask_current_deforestation_test): 39740011\n",
      "ic| TP_H + FN_H + FP_H + TN_H: 1191561\n"
     ]
    },
    {
     "name": "stdout",
     "output_type": "stream",
     "text": [
      "cm_correct [[37707213   380890]\n",
      " [   26925   433422]]\n",
      "cm_incorrect [[1085001   36717]\n",
      " [  49048   20795]]\n"
     ]
    },
    {
     "name": "stderr",
     "output_type": "stream",
     "text": [
      "    len(label_mask_current_deforestation_test): 39740011\n"
     ]
    },
    {
     "name": "stdout",
     "output_type": "stream",
     "text": [
      "[0.53225545 0.94151151 0.8174843  0.02998391 0.36157671 0.29773922]\n",
      "0.5601272649059197\n",
      "threshold 0.5601272649059197\n",
      "(38544083,) (38544083,)\n"
     ]
    },
    {
     "name": "stderr",
     "output_type": "stream",
     "text": [
      "ic| label_current_deforestation_test_classified_incorrect.shape: (1195928,)\n",
      "    predicted_test_classified_incorrect.shape: (1195928,)\n",
      "ic| TP_H + FN_H + FP_H + TN_H: 1195928\n",
      "    len(label_mask_current_deforestation_test): 39740011\n",
      "ic| TP_H + FN_H + FP_H + TN_H: 1195928\n",
      "    len(label_mask_current_deforestation_test): 39740011\n"
     ]
    },
    {
     "name": "stdout",
     "output_type": "stream",
     "text": [
      "cm_correct [[37703375   380570]\n",
      " [   26879   433259]]\n",
      "cm_incorrect [[1088839   37037]\n",
      " [  49094   20958]]\n",
      "[0.53237105 0.94158492 0.81717686 0.0300938  0.36137598 0.29917775]\n",
      "0.5611986092073195\n",
      "threshold 0.5611986092073195\n",
      "(38548233,) (38548233,)\n"
     ]
    },
    {
     "name": "stderr",
     "output_type": "stream",
     "text": [
      "ic| label_current_deforestation_test_classified_incorrect.shape: (1191778,)\n",
      "    predicted_test_classified_incorrect.shape: (1191778,)\n",
      "ic| TP_H + FN_H + FP_H + TN_H: 1191778\n",
      "    len(label_mask_current_deforestation_test): 39740011\n",
      "ic| TP_H + FN_H + FP_H + TN_H: 1191778\n",
      "    len(label_mask_current_deforestation_test): 39740011\n"
     ]
    },
    {
     "name": "stdout",
     "output_type": "stream",
     "text": [
      "cm_correct [[37707026   380870]\n",
      " [   26923   433414]]\n",
      "cm_incorrect [[1085188   36737]\n",
      " [  49050   20803]]\n",
      "[0.53226393 0.94151459 0.81746921 0.02998937 0.3615398  0.29781112]\n",
      "0.5608973155025561\n",
      "threshold 0.5608973155025561\n",
      "(38546981,) (38546981,)\n"
     ]
    },
    {
     "name": "stderr",
     "output_type": "stream",
     "text": [
      "ic| label_current_deforestation_test_classified_incorrect.shape: (1193030,)\n",
      "    predicted_test_classified_incorrect.shape: (1193030,)\n",
      "ic| TP_H + FN_H + FP_H + TN_H: 1193030\n",
      "    len(label_mask_current_deforestation_test): 39740011\n",
      "ic| TP_H + FN_H + FP_H + TN_H: 1193030\n",
      "    len(label_mask_current_deforestation_test): 39740011\n"
     ]
    },
    {
     "name": "stdout",
     "output_type": "stream",
     "text": [
      "cm_correct [[37705929   380777]\n",
      " [   26910   433365]]\n",
      "cm_incorrect [[1086285   36830]\n",
      " [  49063   20852]]\n",
      "[0.53229658 0.94153495 0.81737679 0.03002088 0.36149925 0.29824787]\n",
      "0.5610835252526962\n",
      "threshold 0.5610835252526962\n",
      "(38547761,) (38547761,)\n"
     ]
    },
    {
     "name": "stderr",
     "output_type": "stream",
     "text": [
      "ic| label_current_deforestation_test_classified_incorrect.shape: (1192250,)\n",
      "    predicted_test_classified_incorrect.shape: (1192250,)\n",
      "ic| TP_H + FN_H + FP_H + TN_H: 1192250\n",
      "    len(label_mask_current_deforestation_test): 39740011\n",
      "ic| TP_H + FN_H + FP_H + TN_H: 1192250\n",
      "    len(label_mask_current_deforestation_test): 39740011\n"
     ]
    },
    {
     "name": "stdout",
     "output_type": "stream",
     "text": [
      "cm_correct [[37706619   380827]\n",
      " [   26918   433397]]\n",
      "cm_incorrect [[1085595   36780]\n",
      " [  49055   20820]]\n",
      "[0.53228227 0.94152265 0.81743715 0.03000125 0.36145833 0.29796064]\n",
      "0.5610123994571793\n",
      "threshold 0.5610123994571793\n",
      "(38547433,) (38547433,)\n"
     ]
    },
    {
     "name": "stderr",
     "output_type": "stream",
     "text": [
      "ic| label_current_deforestation_test_classified_incorrect.shape: (1192578,)\n",
      "    predicted_test_classified_incorrect.shape: (1192578,)\n",
      "ic| TP_H + FN_H + FP_H + TN_H: 1192578\n",
      "    len(label_mask_current_deforestation_test): 39740011\n",
      "ic| TP_H + FN_H + FP_H + TN_H: 1192578\n",
      "    len(label_mask_current_deforestation_test): 39740011\n"
     ]
    },
    {
     "name": "stdout",
     "output_type": "stream",
     "text": [
      "cm_correct [[37706324   380808]\n",
      " [   26915   433386]]\n",
      "cm_incorrect [[1085890   36799]\n",
      " [  49058   20831]]\n",
      "[0.53228837 0.94152739 0.8174164  0.0300095  0.36146104 0.29805835]\n",
      "0.5611168669082431\n",
      "threshold 0.5611168669082431\n",
      "(38547909,) (38547909,)\n"
     ]
    },
    {
     "name": "stderr",
     "output_type": "stream",
     "text": [
      "ic| label_current_deforestation_test_classified_incorrect.shape: (1192102,)\n",
      "    predicted_test_classified_incorrect.shape: (1192102,)\n",
      "ic| TP_H + FN_H + FP_H + TN_H: 1192102\n",
      "    len(label_mask_current_deforestation_test): 39740011\n",
      "ic| TP_H + FN_H + FP_H + TN_H:"
     ]
    },
    {
     "name": "stdout",
     "output_type": "stream",
     "text": [
      "cm_correct [[37706742   380843]\n",
      " [   26921   433403]]\n",
      "cm_incorrect [[1085472   36764]\n",
      " [  49052   20814]]\n"
     ]
    },
    {
     "name": "stderr",
     "output_type": "stream",
     "text": [
      " 1192102\n",
      "    len(label_mask_current_deforestation_test): 39740011\n"
     ]
    },
    {
     "name": "stdout",
     "output_type": "stream",
     "text": [
      "[0.53227526 0.94151728 0.81744846 0.02999753 0.36149224 0.29791315]\n",
      "0.5610501835971493\n",
      "threshold 0.5610501835971493\n",
      "(38547602,) (38547602,)\n"
     ]
    },
    {
     "name": "stderr",
     "output_type": "stream",
     "text": [
      "ic| label_current_deforestation_test_classified_incorrect.shape: (1192409,)\n",
      "    predicted_test_classified_incorrect.shape: (1192409,)\n",
      "ic| TP_H + FN_H + FP_H + TN_H: 1192409\n",
      "    len(label_mask_current_deforestation_test): 39740011\n",
      "ic| TP_H + FN_H + FP_H + TN_H: 1192409\n",
      "    len(label_mask_current_deforestation_test): 39740011\n",
      "ic| self.threshold_optimal: 0.5610835252526962\n"
     ]
    },
    {
     "name": "stdout",
     "output_type": "stream",
     "text": [
      "cm_correct [[37706476   380818]\n",
      " [   26916   433392]]\n",
      "cm_incorrect [[1085738   36789]\n",
      " [  49057   20825]]\n",
      "[0.53228528 0.94152611 0.81742771 0.03000525 0.36145728 0.29800235]\n",
      "threshold 0.5610835252526962\n",
      "(38547761,) (38547761,)\n"
     ]
    },
    {
     "name": "stderr",
     "output_type": "stream",
     "text": [
      "ic| label_current_deforestation_test_classified_incorrect.shape: (1192250,)\n",
      "    predicted_test_classified_incorrect.shape: (1192250,)\n",
      "ic| TP_H + FN_H + FP_H + TN_H: 1192250\n",
      "    len(label_mask_current_deforestation_test): 39740011\n",
      "ic| TP_H + FN_H + FP_H + TN_H: 1192250\n",
      "    len(label_mask_current_deforestation_test): 39740011\n"
     ]
    },
    {
     "name": "stdout",
     "output_type": "stream",
     "text": [
      "cm_correct [[37706619   380827]\n",
      " [   26918   433397]]\n",
      "cm_incorrect [[1085595   36780]\n",
      " [  49055   20820]]\n",
      "[0.53228227 0.94152265 0.81743715 0.03000125 0.36145833 0.29796064]\n",
      "threshold 0.5610835252526962\n",
      "(39740011,) (39740011,)\n"
     ]
    },
    {
     "name": "stderr",
     "output_type": "stream",
     "text": [
      "ic| self.m_optimal: {'AA': array([0.03000125]),\n",
      "                     'f1': 64.79,\n",
      "                     'f1_H': array([0.32665228]),\n",
      "                     'f1_L': array([0.68008433]),\n",
      "                     'precision_H': array([0.36145833]),\n",
      "                     'precision_L': array([0.53228227]),\n",
      "                     'recall_H': array([0.29796064]),\n",
      "                     'recall_L': array([0.94152265]),\n",
      "                     'recall_Ltotal': array([0.81743715])}\n",
      "ic| self.m_audited_optimal: {'f1': array([0.71169612]),\n",
      "                             'precision': array([0.56924847]),\n",
      "                             'recall': array([0.94922952])}\n"
     ]
    },
    {
     "name": "stdout",
     "output_type": "stream",
     "text": [
      "cm_audited [[38828994   380827]\n",
      " [   26918   503272]]\n",
      "[0.56924847 0.94922952]\n",
      "D:/Jorge/datasets/deforestation/MT/deforestation_past_years.tif\n",
      "Loaded deforestation past years\n"
     ]
    },
    {
     "name": "stderr",
     "output_type": "stream",
     "text": [
      "ic| np.unique(deforestation_past_years, return_counts=True): (array([   0, 2008, 2009, 2010, 2011, 2012, 2013, 2014, 2015, 2016, 2017,\n",
      "                                                                    2018, 2019, 2020, 2021], dtype=uint16),\n",
      "                                                              array([161124576,   1332784,    240796,    338545,    313901,    287191,\n",
      "                                                                       708581,    648966,    876898,   1007787,   1098901,   1054092,\n",
      "                                                                      2096062,   2473828,   1400992], dtype=int64))\n"
     ]
    },
    {
     "name": "stdout",
     "output_type": "stream",
     "text": [
      "Label where deforestation past years is actual date (2019) = 1\n"
     ]
    },
    {
     "name": "stderr",
     "output_type": "stream",
     "text": [
      "ic| np.unique(deforestation_past_years, return_counts=True): (array([   0, 2008, 2009, 2010, 2011, 2012, 2013, 2014, 2015, 2016, 2017,\n",
      "                                                                    2018, 2019, 2020, 2021], dtype=uint16),\n",
      "                                                              array([161124576,   1332784,    240796,    338545,    313901,    287191,\n",
      "                                                                       708581,    648966,    876898,   1007787,   1098901,   1054092,\n",
      "                                                                      2096062,   2473828,   1400992], dtype=int64))\n"
     ]
    },
    {
     "name": "stdout",
     "output_type": "stream",
     "text": [
      "Past deforestation different from 0 (no deforestation)\n"
     ]
    },
    {
     "name": "stderr",
     "output_type": "stream",
     "text": [
      "ic| np.unique(deforestation_past_years, return_counts=True): (array([   0, 2008, 2009, 2010, 2011, 2012, 2013, 2014, 2015, 2016, 2017,\n",
      "                                                                    2018, 2019, 2020, 2021], dtype=uint16),\n",
      "                                                              array([161124576,   1332784,    240796,    338545,    313901,    287191,\n",
      "                                                                       708581,    648966,    876898,   1007787,   1098901,   1054092,\n",
      "                                                                      2096062,   2473828,   1400992], dtype=int64))\n"
     ]
    },
    {
     "name": "stdout",
     "output_type": "stream",
     "text": [
      "Past deforestation before 2008 is 2\n",
      "D:/Jorge/datasets/deforestation/MT/deforestation_before_2008/deforestation_before_2008_MT.tif\n"
     ]
    },
    {
     "name": "stderr",
     "output_type": "stream",
     "text": [
      "ic| np.unique(label_past_deforestation_before_2008, return_counts=True): (array([  0, 215], dtype=uint8), array([122623260,  52380640], dtype=int64))\n",
      "ic| np.unique(deforestation_past_years, return_counts=True): (array([   0, 2008, 2009, 2010, 2011, 2012, 2013, 2014, 2015, 2016, 2017,\n",
      "                                                                    2018, 2019, 2020, 2021], dtype=uint16),\n",
      "                                                              array([161124576,   1332784,    240796,    338545,    313901,    287191,\n",
      "                                                                       708581,    648966,    876898,   1007787,   1098901,   1054092,\n",
      "                                                                      2096062,   2473828,   1400992], dtype=int64))\n",
      "ic| label_per_date.shape: (16795, 10420, 1)\n"
     ]
    },
    {
     "name": "stdout",
     "output_type": "stream",
     "text": [
      "Mask label shape:  \n",
      " (16795, 10420, 1) \n",
      " Unique values:  \n",
      " [0 1 2]\n",
      "Tiles size:  3359 2084\n",
      "Mask size:  (16795, 10420)\n"
     ]
    },
    {
     "name": "stderr",
     "output_type": "stream",
     "text": [
      "ic| image_stack.shape: (16795, 10420, 21)\n"
     ]
    },
    {
     "name": "stdout",
     "output_type": "stream",
     "text": [
      "Image shape:  (16795, 10420, 21)\n",
      "mask:  (16795, 10420)\n",
      "image stack:  (16795, 10420, 21)\n",
      "ref : (16795, 10420, 1)\n",
      "Training tiles:  [2, 4, 5, 6, 7, 12, 14, 15, 18, 21, 23, 24]\n",
      "Validation tiles:  [9, 11, 25]\n",
      "Test tiles:  [1, 3, 8, 10, 13, 16, 17, 19, 20, 22]\n"
     ]
    },
    {
     "name": "stderr",
     "output_type": "stream",
     "text": [
      "ic| im_idx_row.shape: (16795, 10420, 1)\n",
      "    im_idx_col.shape: (16795, 10420, 1)\n",
      "ic| im_idx_row.dtype: dtype('uint16')\n",
      "    im_idx_col.dtype: dtype('uint16')\n",
      "ic| im_idx.shape: (16795, 10420, 2), im_idx.dtype: dtype('uint16')\n",
      "ic| coords.shape: (439, 271, 1, 128, 128, 2)\n",
      "    coords.dtype: dtype('uint16')\n",
      "ic| coords.shape: (118969, 2), coords.dtype: dtype('uint16')\n",
      "ic| self.coords_train.shape: (54516, 3)\n",
      "    self.coords_val.shape: (13175, 3)\n"
     ]
    },
    {
     "name": "stdout",
     "output_type": "stream",
     "text": [
      "training samples:  (2962, 3) validation samples:  (623, 3)\n",
      "time:  0\n",
      "Model: \"model_6\"\n",
      "__________________________________________________________________________________________________\n",
      "Layer (type)                    Output Shape         Param #     Connected to                     \n",
      "==================================================================================================\n",
      "input_enc_net (InputLayer)      [(None, 128, 128, 21 0                                            \n",
      "__________________________________________________________________________________________________\n",
      "res1_net1 (Conv2D)              (None, 128, 128, 16) 3040        input_enc_net[0][0]              \n",
      "__________________________________________________________________________________________________\n",
      "drop_net1 (Dropout)             (None, 128, 128, 16) 0           res1_net1[0][0]                  \n",
      "__________________________________________________________________________________________________\n",
      "res2_net1 (Conv2D)              (None, 128, 128, 16) 2320        drop_net1[0][0]                  \n",
      "__________________________________________________________________________________________________\n",
      "res3_net1 (Conv2D)              (None, 128, 128, 16) 352         input_enc_net[0][0]              \n",
      "__________________________________________________________________________________________________\n",
      "add_36 (Add)                    (None, 128, 128, 16) 0           res2_net1[0][0]                  \n",
      "                                                                 res3_net1[0][0]                  \n",
      "__________________________________________________________________________________________________\n",
      "pool_net1 (MaxPooling2D)        (None, 64, 64, 16)   0           add_36[0][0]                     \n",
      "__________________________________________________________________________________________________\n",
      "res1_net2 (Conv2D)              (None, 64, 64, 32)   4640        pool_net1[0][0]                  \n",
      "__________________________________________________________________________________________________\n",
      "drop_net2 (Dropout)             (None, 64, 64, 32)   0           res1_net2[0][0]                  \n",
      "__________________________________________________________________________________________________\n",
      "res2_net2 (Conv2D)              (None, 64, 64, 32)   9248        drop_net2[0][0]                  \n",
      "__________________________________________________________________________________________________\n",
      "res3_net2 (Conv2D)              (None, 64, 64, 32)   544         pool_net1[0][0]                  \n",
      "__________________________________________________________________________________________________\n",
      "add_37 (Add)                    (None, 64, 64, 32)   0           res2_net2[0][0]                  \n",
      "                                                                 res3_net2[0][0]                  \n",
      "__________________________________________________________________________________________________\n",
      "pool_net2 (MaxPooling2D)        (None, 32, 32, 32)   0           add_37[0][0]                     \n",
      "__________________________________________________________________________________________________\n",
      "res1_net3 (Conv2D)              (None, 32, 32, 64)   18496       pool_net2[0][0]                  \n",
      "__________________________________________________________________________________________________\n",
      "drop_net3 (Dropout)             (None, 32, 32, 64)   0           res1_net3[0][0]                  \n",
      "__________________________________________________________________________________________________\n",
      "res2_net3 (Conv2D)              (None, 32, 32, 64)   36928       drop_net3[0][0]                  \n",
      "__________________________________________________________________________________________________\n",
      "res3_net3 (Conv2D)              (None, 32, 32, 64)   2112        pool_net2[0][0]                  \n",
      "__________________________________________________________________________________________________\n",
      "add_38 (Add)                    (None, 32, 32, 64)   0           res2_net3[0][0]                  \n",
      "                                                                 res3_net3[0][0]                  \n",
      "__________________________________________________________________________________________________\n",
      "pool_net3 (MaxPooling2D)        (None, 16, 16, 64)   0           add_38[0][0]                     \n",
      "__________________________________________________________________________________________________\n",
      "res1_net4 (Conv2D)              (None, 16, 16, 64)   36928       pool_net3[0][0]                  \n",
      "__________________________________________________________________________________________________\n",
      "drop_net4 (Dropout)             (None, 16, 16, 64)   0           res1_net4[0][0]                  \n",
      "__________________________________________________________________________________________________\n",
      "res2_net4 (Conv2D)              (None, 16, 16, 64)   36928       drop_net4[0][0]                  \n",
      "__________________________________________________________________________________________________\n",
      "res3_net4 (Conv2D)              (None, 16, 16, 64)   4160        pool_net3[0][0]                  \n",
      "__________________________________________________________________________________________________\n",
      "add_39 (Add)                    (None, 16, 16, 64)   0           res2_net4[0][0]                  \n",
      "                                                                 res3_net4[0][0]                  \n",
      "__________________________________________________________________________________________________\n",
      "res1_net5 (Conv2D)              (None, 16, 16, 64)   36928       add_39[0][0]                     \n",
      "__________________________________________________________________________________________________\n",
      "drop_net5 (Dropout)             (None, 16, 16, 64)   0           res1_net5[0][0]                  \n",
      "__________________________________________________________________________________________________\n",
      "res2_net5 (Conv2D)              (None, 16, 16, 64)   36928       drop_net5[0][0]                  \n",
      "__________________________________________________________________________________________________\n",
      "res3_net5 (Conv2D)              (None, 16, 16, 64)   4160        add_39[0][0]                     \n",
      "__________________________________________________________________________________________________\n",
      "add_40 (Add)                    (None, 16, 16, 64)   0           res2_net5[0][0]                  \n",
      "                                                                 res3_net5[0][0]                  \n",
      "__________________________________________________________________________________________________\n",
      "res1_net6 (Conv2D)              (None, 16, 16, 64)   36928       add_40[0][0]                     \n",
      "__________________________________________________________________________________________________\n",
      "drop_net6 (Dropout)             (None, 16, 16, 64)   0           res1_net6[0][0]                  \n",
      "__________________________________________________________________________________________________\n",
      "res2_net6 (Conv2D)              (None, 16, 16, 64)   36928       drop_net6[0][0]                  \n",
      "__________________________________________________________________________________________________\n",
      "res3_net6 (Conv2D)              (None, 16, 16, 64)   4160        add_40[0][0]                     \n",
      "__________________________________________________________________________________________________\n",
      "add_41 (Add)                    (None, 16, 16, 64)   0           res2_net6[0][0]                  \n",
      "                                                                 res3_net6[0][0]                  \n",
      "__________________________________________________________________________________________________\n",
      "up_sampling2d_18 (UpSampling2D) (None, 32, 32, 64)   0           add_41[0][0]                     \n",
      "__________________________________________________________________________________________________\n",
      "upsampling_net3 (Conv2D)        (None, 32, 32, 64)   36928       up_sampling2d_18[0][0]           \n",
      "__________________________________________________________________________________________________\n",
      "concatenate3 (Concatenate)      (None, 32, 32, 128)  0           add_38[0][0]                     \n",
      "                                                                 upsampling_net3[0][0]            \n",
      "__________________________________________________________________________________________________\n",
      "up_sampling2d_19 (UpSampling2D) (None, 64, 64, 128)  0           concatenate3[0][0]               \n",
      "__________________________________________________________________________________________________\n",
      "upsampling_net2 (Conv2D)        (None, 64, 64, 32)   36896       up_sampling2d_19[0][0]           \n",
      "__________________________________________________________________________________________________\n",
      "concatenate2 (Concatenate)      (None, 64, 64, 64)   0           add_37[0][0]                     \n",
      "                                                                 upsampling_net2[0][0]            \n",
      "__________________________________________________________________________________________________\n",
      "up_sampling2d_20 (UpSampling2D) (None, 128, 128, 64) 0           concatenate2[0][0]               \n",
      "__________________________________________________________________________________________________\n",
      "upsampling_net1 (Conv2D)        (None, 128, 128, 16) 9232        up_sampling2d_20[0][0]           \n",
      "__________________________________________________________________________________________________\n",
      "concatenate1 (Concatenate)      (None, 128, 128, 32) 0           add_36[0][0]                     \n",
      "                                                                 upsampling_net1[0][0]            \n",
      "__________________________________________________________________________________________________\n",
      "output (Conv2D)                 (None, 128, 128, 3)  99          concatenate1[0][0]               \n",
      "==================================================================================================\n",
      "Total params: 394,883\n",
      "Trainable params: 394,883\n",
      "Non-trainable params: 0\n",
      "__________________________________________________________________________________________________\n"
     ]
    },
    {
     "name": "stderr",
     "output_type": "stream",
     "text": [
      "c:\\Users\\jchamorro\\Anaconda3\\envs\\tf2\\lib\\site-packages\\tensorflow\\python\\keras\\optimizer_v2\\optimizer_v2.py:374: UserWarning: The `lr` argument is deprecated, use `learning_rate` instead.\n",
      "  warnings.warn(\n",
      "c:\\Users\\jchamorro\\Anaconda3\\envs\\tf2\\lib\\site-packages\\tensorflow\\python\\keras\\engine\\training.py:1969: UserWarning: `Model.fit_generator` is deprecated and will be removed in a future version. Please use `Model.fit`, which supports generators.\n",
      "  warnings.warn('`Model.fit_generator` is deprecated and '\n"
     ]
    },
    {
     "name": "stdout",
     "output_type": "stream",
     "text": [
      "Epoch 1/100\n",
      "self.global_step 0.0\n",
      "alpha Tensor(\"loss/add:0\", shape=(None, 128, 128, 3), dtype=float32)\n",
      "u Tensor(\"loss/truediv:0\", shape=(None, 128, 128, 1), dtype=float32)\n",
      "alpha Tensor(\"add:0\", shape=(None, 128, 128, 3), dtype=float32)\n",
      "u Tensor(\"truediv:0\", shape=(None, 128, 128, 1), dtype=float32)\n",
      "K.int_shape(KL_reg) Tensor(\"mul_6:0\", shape=(None, 128, 128, 1), dtype=float32)\n",
      "alpha Tensor(\"add_7:0\", shape=(None, 128, 128, 3), dtype=float32)\n",
      "u Tensor(\"truediv_5:0\", shape=(None, 128, 128, 1), dtype=float32)\n",
      "K.int_shape(KL_reg) Tensor(\"mul_12:0\", shape=(None, 128, 128, 1), dtype=float32)\n",
      "alpha Tensor(\"loss/add:0\", shape=(None, 128, 128, 3), dtype=float32)\n",
      "u Tensor(\"loss/truediv:0\", shape=(None, 128, 128, 1), dtype=float32)\n",
      "alpha Tensor(\"add:0\", shape=(None, 128, 128, 3), dtype=float32)\n",
      "u Tensor(\"truediv:0\", shape=(None, 128, 128, 1), dtype=float32)\n",
      "K.int_shape(KL_reg) Tensor(\"mul_6:0\", shape=(None, 128, 128, 1), dtype=float32)\n",
      "alpha Tensor(\"add_7:0\", shape=(None, 128, 128, 3), dtype=float32)\n",
      "u Tensor(\"truediv_5:0\", shape=(None, 128, 128, 1), dtype=float32)\n",
      "K.int_shape(KL_reg) Tensor(\"mul_12:0\", shape=(None, 128, 128, 1), dtype=float32)\n",
      "277/277 [==============================] - ETA: 0s - loss: 0.8334 - accuracy: 0.2964 - KL_term: -4.2880e-08 - loglikelihood_term: 0.8334 - evidential_success: 1.8055e-04 - evidential_fail: 2.5741e-04 - acc: 0.2964 - annealing_coef: 0.0368 - global_step_get: 138.0000 - annealing_step_get: 3750.0000alpha Tensor(\"loss/add:0\", shape=(None, 128, 128, 3), dtype=float32)\n",
      "u Tensor(\"loss/truediv:0\", shape=(None, 128, 128, 1), dtype=float32)\n",
      "alpha Tensor(\"add:0\", shape=(None, 128, 128, 3), dtype=float32)\n",
      "u Tensor(\"truediv:0\", shape=(None, 128, 128, 1), dtype=float32)\n",
      "K.int_shape(KL_reg) Tensor(\"mul_6:0\", shape=(None, 128, 128, 1), dtype=float32)\n",
      "alpha Tensor(\"add_7:0\", shape=(None, 128, 128, 3), dtype=float32)\n",
      "u Tensor(\"truediv_5:0\", shape=(None, 128, 128, 1), dtype=float32)\n",
      "K.int_shape(KL_reg) Tensor(\"mul_12:0\", shape=(None, 128, 128, 1), dtype=float32)\n",
      "277/277 [==============================] - 27s 88ms/step - loss: 0.8334 - accuracy: 0.2964 - KL_term: -4.2880e-08 - loglikelihood_term: 0.8334 - evidential_success: 1.8055e-04 - evidential_fail: 2.5741e-04 - acc: 0.2964 - annealing_coef: 0.0368 - global_step_get: 138.0000 - annealing_step_get: 3750.0000 - val_loss: 0.8333 - val_accuracy: 0.2575 - val_KL_term: -8.7738e-08 - val_loglikelihood_term: 0.8333 - val_evidential_success: 0.0000e+00 - val_evidential_fail: 0.0000e+00 - val_acc: 0.2565 - val_annealing_coef: 0.0736 - val_global_step_get: 276.0000 - val_annealing_step_get: 3750.0000\n",
      "\n",
      "Epoch 00001: val_loss improved from inf to 0.83333, saving model to D:/Jorge/datasets/deforestation/experiments/MT/exp194/models\\resunet_0.h5\n",
      "Epoch 2/100\n",
      "self.global_step 276.0\n",
      "  1/277 [..............................] - ETA: 19s - loss: 0.8333 - accuracy: 0.2785 - KL_term: 0.0000e+00 - loglikelihood_term: 0.8333 - evidential_success: 0.0000e+00 - evidential_fail: 0.0000e+00 - acc: 0.2785 - annealing_coef: 0.0000e+00 - global_step_get: 0.0000e+00 - annealing_step_get: 3750.0000"
     ]
    },
    {
     "name": "stderr",
     "output_type": "stream",
     "text": [
      "c:\\Users\\jchamorro\\Anaconda3\\envs\\tf2\\lib\\site-packages\\tensorflow\\python\\keras\\utils\\generic_utils.py:494: CustomMaskWarning: Custom mask layers require a config and must override get_config. When loading, the custom mask layer must be passed to the custom_objects argument.\n",
      "  warnings.warn('Custom mask layers require a config and must override '\n"
     ]
    },
    {
     "name": "stdout",
     "output_type": "stream",
     "text": [
      "277/277 [==============================] - 24s 86ms/step - loss: 0.8333 - accuracy: 0.3026 - KL_term: -8.7738e-08 - loglikelihood_term: 0.8333 - evidential_success: 0.0000e+00 - evidential_fail: 0.0000e+00 - acc: 0.3027 - annealing_coef: 0.0736 - global_step_get: 276.0000 - annealing_step_get: 3750.0000 - val_loss: 0.8333 - val_accuracy: 0.2543 - val_KL_term: -1.7548e-07 - val_loglikelihood_term: 0.8333 - val_evidential_success: 0.0000e+00 - val_evidential_fail: 0.0000e+00 - val_acc: 0.2526 - val_annealing_coef: 0.1472 - val_global_step_get: 552.0000 - val_annealing_step_get: 3750.0000\n",
      "\n",
      "Epoch 00002: val_loss did not improve from 0.83333\n",
      "Epoch 3/100\n",
      "self.global_step 552.0\n",
      "277/277 [==============================] - 24s 86ms/step - loss: 0.8333 - accuracy: 0.3037 - KL_term: -1.3161e-07 - loglikelihood_term: 0.8333 - evidential_success: 0.0000e+00 - evidential_fail: 0.0000e+00 - acc: 0.3036 - annealing_coef: 0.1104 - global_step_get: 414.0000 - annealing_step_get: 3750.0000 - val_loss: 0.8333 - val_accuracy: 0.2599 - val_KL_term: -2.6321e-07 - val_loglikelihood_term: 0.8333 - val_evidential_success: 0.0000e+00 - val_evidential_fail: 0.0000e+00 - val_acc: 0.2581 - val_annealing_coef: 0.2208 - val_global_step_get: 828.0000 - val_annealing_step_get: 3750.0000\n",
      "\n",
      "Epoch 00003: val_loss did not improve from 0.83333\n",
      "Epoch 4/100\n",
      "self.global_step 828.0\n",
      "277/277 [==============================] - 24s 86ms/step - loss: 0.8333 - accuracy: 0.3034 - KL_term: -1.7548e-07 - loglikelihood_term: 0.8333 - evidential_success: 0.0000e+00 - evidential_fail: 0.0000e+00 - acc: 0.3035 - annealing_coef: 0.1472 - global_step_get: 552.0000 - annealing_step_get: 3750.0000 - val_loss: 0.8333 - val_accuracy: 0.2588 - val_KL_term: -3.5095e-07 - val_loglikelihood_term: 0.8333 - val_evidential_success: 0.0000e+00 - val_evidential_fail: 0.0000e+00 - val_acc: 0.2572 - val_annealing_coef: 0.2944 - val_global_step_get: 1104.0000 - val_annealing_step_get: 3750.0000\n",
      "\n",
      "Epoch 00004: val_loss improved from 0.83333 to 0.83333, saving model to D:/Jorge/datasets/deforestation/experiments/MT/exp194/models\\resunet_0.h5\n",
      "Epoch 5/100\n",
      "self.global_step 1104.0\n",
      "277/277 [==============================] - 24s 87ms/step - loss: 0.8333 - accuracy: 0.3019 - KL_term: -2.1935e-07 - loglikelihood_term: 0.8333 - evidential_success: 0.0000e+00 - evidential_fail: 0.0000e+00 - acc: 0.3018 - annealing_coef: 0.1840 - global_step_get: 690.0000 - annealing_step_get: 3750.0000 - val_loss: 0.8333 - val_accuracy: 0.2505 - val_KL_term: -4.3869e-07 - val_loglikelihood_term: 0.8333 - val_evidential_success: 0.0000e+00 - val_evidential_fail: 0.0000e+00 - val_acc: 0.2491 - val_annealing_coef: 0.3680 - val_global_step_get: 1380.0000 - val_annealing_step_get: 3750.0000\n",
      "\n",
      "Epoch 00005: val_loss did not improve from 0.83333\n",
      "Epoch 6/100\n",
      "self.global_step 1380.0\n",
      "277/277 [==============================] - 24s 87ms/step - loss: 0.8333 - accuracy: 0.3026 - KL_term: -2.6321e-07 - loglikelihood_term: 0.8333 - evidential_success: 0.0000e+00 - evidential_fail: 0.0000e+00 - acc: 0.3026 - annealing_coef: 0.2208 - global_step_get: 828.0000 - annealing_step_get: 3750.0000 - val_loss: 0.8333 - val_accuracy: 0.2513 - val_KL_term: -5.2643e-07 - val_loglikelihood_term: 0.8333 - val_evidential_success: 0.0000e+00 - val_evidential_fail: 0.0000e+00 - val_acc: 0.2499 - val_annealing_coef: 0.4416 - val_global_step_get: 1656.0000 - val_annealing_step_get: 3750.0000\n",
      "\n",
      "Epoch 00006: val_loss did not improve from 0.83333\n",
      "Epoch 7/100\n",
      "self.global_step 1656.0\n",
      "277/277 [==============================] - 24s 87ms/step - loss: 0.8333 - accuracy: 0.3026 - KL_term: -3.0708e-07 - loglikelihood_term: 0.8333 - evidential_success: 0.0000e+00 - evidential_fail: 0.0000e+00 - acc: 0.3028 - annealing_coef: 0.2576 - global_step_get: 966.0000 - annealing_step_get: 3750.0000 - val_loss: 0.8333 - val_accuracy: 0.2572 - val_KL_term: -6.1417e-07 - val_loglikelihood_term: 0.8333 - val_evidential_success: 0.0000e+00 - val_evidential_fail: 0.0000e+00 - val_acc: 0.2556 - val_annealing_coef: 0.5152 - val_global_step_get: 1932.0000 - val_annealing_step_get: 3750.0000\n",
      "\n",
      "Epoch 00007: val_loss did not improve from 0.83333\n",
      "Epoch 8/100\n",
      "self.global_step 1932.0\n",
      "277/277 [==============================] - 24s 87ms/step - loss: 0.8333 - accuracy: 0.3028 - KL_term: -3.5095e-07 - loglikelihood_term: 0.8333 - evidential_success: 0.0000e+00 - evidential_fail: 0.0000e+00 - acc: 0.3027 - annealing_coef: 0.2944 - global_step_get: 1104.0000 - annealing_step_get: 3750.0000 - val_loss: 0.8333 - val_accuracy: 0.2640 - val_KL_term: -7.0190e-07 - val_loglikelihood_term: 0.8333 - val_evidential_success: 0.0000e+00 - val_evidential_fail: 0.0000e+00 - val_acc: 0.2621 - val_annealing_coef: 0.5888 - val_global_step_get: 2208.0000 - val_annealing_step_get: 3750.0000\n",
      "\n",
      "Epoch 00008: val_loss did not improve from 0.83333\n",
      "Epoch 9/100\n",
      "self.global_step 2208.0\n",
      "277/277 [==============================] - 24s 87ms/step - loss: 0.8333 - accuracy: 0.3025 - KL_term: -3.9482e-07 - loglikelihood_term: 0.8333 - evidential_success: 0.0000e+00 - evidential_fail: 0.0000e+00 - acc: 0.3024 - annealing_coef: 0.3312 - global_step_get: 1242.0000 - annealing_step_get: 3750.0000 - val_loss: 0.8333 - val_accuracy: 0.2667 - val_KL_term: -7.8964e-07 - val_loglikelihood_term: 0.8333 - val_evidential_success: 0.0000e+00 - val_evidential_fail: 0.0000e+00 - val_acc: 0.2648 - val_annealing_coef: 0.6624 - val_global_step_get: 2484.0000 - val_annealing_step_get: 3750.0000\n",
      "\n",
      "Epoch 00009: val_loss improved from 0.83333 to 0.83333, saving model to D:/Jorge/datasets/deforestation/experiments/MT/exp194/models\\resunet_0.h5\n",
      "Epoch 10/100\n",
      "self.global_step 2484.0\n",
      "277/277 [==============================] - 24s 87ms/step - loss: 0.8333 - accuracy: 0.3037 - KL_term: -4.3869e-07 - loglikelihood_term: 0.8333 - evidential_success: 0.0000e+00 - evidential_fail: 0.0000e+00 - acc: 0.3039 - annealing_coef: 0.3680 - global_step_get: 1380.0000 - annealing_step_get: 3750.0000 - val_loss: 0.8333 - val_accuracy: 0.2644 - val_KL_term: -8.7738e-07 - val_loglikelihood_term: 0.8333 - val_evidential_success: 0.0000e+00 - val_evidential_fail: 0.0000e+00 - val_acc: 0.2626 - val_annealing_coef: 0.7360 - val_global_step_get: 2760.0000 - val_annealing_step_get: 3750.0000\n",
      "\n",
      "Epoch 00010: val_loss improved from 0.83333 to 0.83333, saving model to D:/Jorge/datasets/deforestation/experiments/MT/exp194/models\\resunet_0.h5\n",
      "Epoch 11/100\n",
      "self.global_step 2760.0\n",
      "277/277 [==============================] - 24s 87ms/step - loss: 0.8333 - accuracy: 0.3009 - KL_term: -4.8256e-07 - loglikelihood_term: 0.8333 - evidential_success: 0.0000e+00 - evidential_fail: 0.0000e+00 - acc: 0.3008 - annealing_coef: 0.4048 - global_step_get: 1518.0000 - annealing_step_get: 3750.0000 - val_loss: 0.8333 - val_accuracy: 0.2604 - val_KL_term: -9.6512e-07 - val_loglikelihood_term: 0.8333 - val_evidential_success: 0.0000e+00 - val_evidential_fail: 0.0000e+00 - val_acc: 0.2587 - val_annealing_coef: 0.8096 - val_global_step_get: 3036.0000 - val_annealing_step_get: 3750.0000\n",
      "\n",
      "Epoch 00011: val_loss did not improve from 0.83333\n",
      "Epoch 00011: early stopping\n",
      "-5.0 -12.0\n"
     ]
    },
    {
     "name": "stderr",
     "output_type": "stream",
     "text": [
      "ic| self.path_models+ '/' + self.method +'_'+str(0)+'.h5': 'D:/Jorge/datasets/deforestation/experiments/MT/exp194/models/resunet_0.h5'\n"
     ]
    },
    {
     "name": "stdout",
     "output_type": "stream",
     "text": [
      "time:  0\n",
      "(39774655,)\n",
      "(array([0, 1], dtype=uint8), array([39234711,   539944], dtype=int64))\n",
      "(16795, 10420)\n",
      "(array([0.], dtype=float32), array([175003900], dtype=int64))\n"
     ]
    },
    {
     "name": "stderr",
     "output_type": "stream",
     "text": [
      "ic| self.predicted_unpad.shape: (16795, 10420)\n",
      "    self.predicted.shape: (16795, 10420)\n",
      "ic| predicted_test.shape: (70001560,)\n",
      "ic| predicted_test.shape: (39774655,)\n",
      "ic| np.unique(predicted, return_counts=True): (array([0.], dtype=float32), array([175003900], dtype=int64))\n",
      "    np.unique(predicted_larger_than_min_area, return_counts=True): (array([0.], dtype=float32), array([175003900], dtype=int64))\n",
      "ic| np.unique(ignored_polygons, return_counts=True): (array([0.], dtype=float32), array([175003900], dtype=int64))\n",
      "c:\\Users\\jchamorro\\Anaconda3\\envs\\tf2\\lib\\site-packages\\sklearn\\metrics\\_classification.py:1327: UndefinedMetricWarning: Precision is ill-defined and being set to 0.0 due to no predicted samples. Use `zero_division` parameter to control this behavior.\n",
      "  _warn_prf(average, modifier, msg_start, len(result))\n",
      "ic| self.f1: 0.0, self.precision: 0.0, self.recall: 0.0\n",
      "ic| self.label_mask_val.shape: (21000468,)\n",
      "ic| self.label_mask_val_valid.shape: (10906966,)\n",
      "c:\\Users\\jchamorro\\Anaconda3\\envs\\tf2\\lib\\site-packages\\sklearn\\metrics\\_classification.py:1327: UndefinedMetricWarning: Precision is ill-defined and being set to 0.0 due to no predicted samples. Use `zero_division` parameter to control this behavior.\n",
      "  _warn_prf(average, modifier, msg_start, len(result))\n",
      "ic| f1_val: 0.0, precision_val: 0.0, recall_val: 0.0, mAP_val: 2.05\n"
     ]
    },
    {
     "name": "stdout",
     "output_type": "stream",
     "text": [
      "(array([0., 1.], dtype=float32), array([173103734,   1900166], dtype=int64))\n"
     ]
    },
    {
     "name": "stderr",
     "output_type": "stream",
     "text": [
      "ic| self.label_mask.shape: (16795, 10420)\n",
      "ic| self.mask_amazon_ts.shape: (16795, 10420)\n",
      "ic| self.label_mask_test.shape: (70001560,)\n",
      "ic| self.error_mask_test.shape: (39774655,)\n",
      "ic| bounds: (0.0015, 0.9985)\n",
      "c:\\Users\\jchamorro\\Anaconda3\\envs\\tf2\\lib\\site-packages\\scipy\\optimize\\_minimize.py:783: RuntimeWarning: Method 'bounded' does not support relative tolerance in x; defaulting to absolute tolerance.\n",
      "  warn(\"Method 'bounded' does not support relative tolerance in x; \"\n"
     ]
    },
    {
     "name": "stdout",
     "output_type": "stream",
     "text": [
      "0.38232011321635484\n",
      "threshold 0.38232011321635484\n",
      "(0,) (0,)\n",
      "cm_correct []\n"
     ]
    },
    {
     "ename": "IndexError",
     "evalue": "index 0 is out of bounds for axis 0 with size 0",
     "output_type": "error",
     "traceback": [
      "\u001b[1;31m---------------------------------------------------------------------------\u001b[0m",
      "\u001b[1;31mIndexError\u001b[0m                                Traceback (most recent call last)",
      "\u001b[1;32md:\\Jorge\\deforestation_uncertainty\\train_grid_search.ipynb Cell 7\u001b[0m in \u001b[0;36m<cell line: 1>\u001b[1;34m()\u001b[0m\n\u001b[0;32m     <a href='vscode-notebook-cell:/d%3A/Jorge/deforestation_uncertainty/train_grid_search.ipynb#W6sZmlsZQ%3D%3D?line=23'>24</a>\u001b[0m     trainer\u001b[39m.\u001b[39mrun()\n\u001b[0;32m     <a href='vscode-notebook-cell:/d%3A/Jorge/deforestation_uncertainty/train_grid_search.ipynb#W6sZmlsZQ%3D%3D?line=25'>26</a>\u001b[0m \u001b[39m# %%\u001b[39;00m\n\u001b[1;32m---> <a href='vscode-notebook-cell:/d%3A/Jorge/deforestation_uncertainty/train_grid_search.ipynb#W6sZmlsZQ%3D%3D?line=26'>27</a>\u001b[0m result \u001b[39m=\u001b[39m trainer\u001b[39m.\u001b[39;49mrun_predictor()\n\u001b[0;32m     <a href='vscode-notebook-cell:/d%3A/Jorge/deforestation_uncertainty/train_grid_search.ipynb#W6sZmlsZQ%3D%3D?line=27'>28</a>\u001b[0m results\u001b[39m.\u001b[39mappend(result)\n\u001b[0;32m     <a href='vscode-notebook-cell:/d%3A/Jorge/deforestation_uncertainty/train_grid_search.ipynb#W6sZmlsZQ%3D%3D?line=30'>31</a>\u001b[0m \u001b[39mwith\u001b[39;00m \u001b[39mopen\u001b[39m(\u001b[39m'\u001b[39m\u001b[39mlog.pkl\u001b[39m\u001b[39m'\u001b[39m, \u001b[39m'\u001b[39m\u001b[39mwb\u001b[39m\u001b[39m'\u001b[39m) \u001b[39mas\u001b[39;00m f:\n",
      "File \u001b[1;32md:\\Jorge\\deforestation_uncertainty\\src\\trainer\\base.py:214\u001b[0m, in \u001b[0;36mTrainer.run_predictor\u001b[1;34m(self)\u001b[0m\n\u001b[0;32m    211\u001b[0m \u001b[39mself\u001b[39m\u001b[39m.\u001b[39mgetTestValues2()\n\u001b[0;32m    212\u001b[0m \u001b[39m# self.getUncertaintyAAValues()\u001b[39;00m\n\u001b[0;32m    213\u001b[0m \u001b[39m# trainer.getUncertaintyAAAuditedValues()\u001b[39;00m\n\u001b[1;32m--> 214\u001b[0m \u001b[39mself\u001b[39;49m\u001b[39m.\u001b[39;49mgetOptimalUncertaintyThreshold()\n\u001b[0;32m    215\u001b[0m result \u001b[39m=\u001b[39m \u001b[39mself\u001b[39m\u001b[39m.\u001b[39mgetUncertaintyMetricsFromOptimalThreshold()\n\u001b[0;32m    216\u001b[0m \u001b[39mreturn\u001b[39;00m result\n",
      "File \u001b[1;32md:\\Jorge\\deforestation_uncertainty\\src\\trainer\\base.py:693\u001b[0m, in \u001b[0;36mTrainer.getOptimalUncertaintyThreshold\u001b[1;34m(self, AA, bound)\u001b[0m\n\u001b[0;32m    691\u001b[0m bounds \u001b[39m=\u001b[39m (bound, np\u001b[39m.\u001b[39mmax(\u001b[39mself\u001b[39m\u001b[39m.\u001b[39muncertainty)\u001b[39m-\u001b[39m\u001b[39m0.0015\u001b[39m)\n\u001b[0;32m    692\u001b[0m ic(bounds)\n\u001b[1;32m--> 693\u001b[0m minimum \u001b[39m=\u001b[39m optimize\u001b[39m.\u001b[39;49mminimize_scalar(getAAFromUncertaintyThreshold, \n\u001b[0;32m    694\u001b[0m     method\u001b[39m=\u001b[39;49m\u001b[39m'\u001b[39;49m\u001b[39mbounded\u001b[39;49m\u001b[39m'\u001b[39;49m, bounds\u001b[39m=\u001b[39;49mbounds, tol\u001b[39m=\u001b[39;49m\u001b[39m0.0001\u001b[39;49m)\n\u001b[0;32m    695\u001b[0m \u001b[39mself\u001b[39m\u001b[39m.\u001b[39mthreshold_optimal \u001b[39m=\u001b[39m minimum\u001b[39m.\u001b[39mx\n\u001b[0;32m    696\u001b[0m ic(\u001b[39mself\u001b[39m\u001b[39m.\u001b[39mthreshold_optimal)\n",
      "File \u001b[1;32mc:\\Users\\jchamorro\\Anaconda3\\envs\\tf2\\lib\\site-packages\\scipy\\optimize\\_minimize.py:804\u001b[0m, in \u001b[0;36mminimize_scalar\u001b[1;34m(fun, bracket, bounds, args, method, tol, options)\u001b[0m\n\u001b[0;32m    802\u001b[0m     \u001b[39mif\u001b[39;00m \u001b[39misinstance\u001b[39m(disp, \u001b[39mbool\u001b[39m):\n\u001b[0;32m    803\u001b[0m         options[\u001b[39m'\u001b[39m\u001b[39mdisp\u001b[39m\u001b[39m'\u001b[39m] \u001b[39m=\u001b[39m \u001b[39m2\u001b[39m \u001b[39m*\u001b[39m \u001b[39mint\u001b[39m(disp)\n\u001b[1;32m--> 804\u001b[0m     \u001b[39mreturn\u001b[39;00m _minimize_scalar_bounded(fun, bounds, args, \u001b[39m*\u001b[39m\u001b[39m*\u001b[39moptions)\n\u001b[0;32m    805\u001b[0m \u001b[39melif\u001b[39;00m meth \u001b[39m==\u001b[39m \u001b[39m'\u001b[39m\u001b[39mgolden\u001b[39m\u001b[39m'\u001b[39m:\n\u001b[0;32m    806\u001b[0m     \u001b[39mreturn\u001b[39;00m _minimize_scalar_golden(fun, bracket, args, \u001b[39m*\u001b[39m\u001b[39m*\u001b[39moptions)\n",
      "File \u001b[1;32mc:\\Users\\jchamorro\\Anaconda3\\envs\\tf2\\lib\\site-packages\\scipy\\optimize\\optimize.py:2024\u001b[0m, in \u001b[0;36m_minimize_scalar_bounded\u001b[1;34m(func, bounds, args, xatol, maxiter, disp, **unknown_options)\u001b[0m\n\u001b[0;32m   2022\u001b[0m rat \u001b[39m=\u001b[39m e \u001b[39m=\u001b[39m \u001b[39m0.0\u001b[39m\n\u001b[0;32m   2023\u001b[0m x \u001b[39m=\u001b[39m xf\n\u001b[1;32m-> 2024\u001b[0m fx \u001b[39m=\u001b[39m func(x, \u001b[39m*\u001b[39;49margs)\n\u001b[0;32m   2025\u001b[0m num \u001b[39m=\u001b[39m \u001b[39m1\u001b[39m\n\u001b[0;32m   2026\u001b[0m fmin_data \u001b[39m=\u001b[39m (\u001b[39m1\u001b[39m, xf, fx)\n",
      "File \u001b[1;32md:\\Jorge\\deforestation_uncertainty\\src\\trainer\\base.py:686\u001b[0m, in \u001b[0;36mTrainer.getOptimalUncertaintyThreshold.<locals>.getAAFromUncertaintyThreshold\u001b[1;34m(threshold)\u001b[0m\n\u001b[0;32m    684\u001b[0m \u001b[39mdef\u001b[39;00m \u001b[39mgetAAFromUncertaintyThreshold\u001b[39m(threshold): \n\u001b[0;32m    685\u001b[0m     \u001b[39mprint\u001b[39m(threshold)\n\u001b[1;32m--> 686\u001b[0m     metrics_values2 \u001b[39m=\u001b[39m _metrics\u001b[39m.\u001b[39;49mgetAA_Recall(\u001b[39mself\u001b[39;49m\u001b[39m.\u001b[39;49muncertainty, \n\u001b[0;32m    687\u001b[0m                     \u001b[39mself\u001b[39;49m\u001b[39m.\u001b[39;49mlabel_mask_current_deforestation_test, \n\u001b[0;32m    688\u001b[0m                     \u001b[39mself\u001b[39;49m\u001b[39m.\u001b[39;49mpredicted_test, [threshold])\n\u001b[0;32m    689\u001b[0m     \u001b[39mreturn\u001b[39;00m np\u001b[39m.\u001b[39mabs(AA \u001b[39m-\u001b[39m metrics_values2[:,\u001b[39m3\u001b[39m]\u001b[39m.\u001b[39msqueeze())\n",
      "File \u001b[1;32md:\\Jorge\\deforestation_uncertainty\\src\\metrics.py:265\u001b[0m, in \u001b[0;36mgetAA_Recall\u001b[1;34m(uncertainty, label_mask_current_deforestation_test, predicted_test, threshold_list)\u001b[0m\n\u001b[0;32m    260\u001b[0m cm_correct \u001b[39m=\u001b[39m metrics\u001b[39m.\u001b[39mconfusion_matrix(\n\u001b[0;32m    261\u001b[0m     label_current_deforestation_test_classified_correct,\n\u001b[0;32m    262\u001b[0m     predicted_test_classified_correct)\n\u001b[0;32m    263\u001b[0m \u001b[39mprint\u001b[39m(\u001b[39m\"\u001b[39m\u001b[39mcm_correct\u001b[39m\u001b[39m\"\u001b[39m, cm_correct)\n\u001b[1;32m--> 265\u001b[0m TN_L \u001b[39m=\u001b[39m cm_correct[\u001b[39m0\u001b[39;49m,\u001b[39m0\u001b[39;49m]\n\u001b[0;32m    266\u001b[0m FN_L \u001b[39m=\u001b[39m cm_correct[\u001b[39m1\u001b[39m,\u001b[39m0\u001b[39m]\n\u001b[0;32m    267\u001b[0m TP_L \u001b[39m=\u001b[39m cm_correct[\u001b[39m1\u001b[39m,\u001b[39m1\u001b[39m]\n",
      "\u001b[1;31mIndexError\u001b[0m: index 0 is out of bounds for axis 0 with size 0"
     ]
    }
   ],
   "source": [
    "\n",
    "\n",
    "for experiment_value, exp_id in zip(experiment_values, exp_ids):\n",
    "    config = {\n",
    "        \"training\": True,\n",
    "    \t\"learning_rate\": 1e-4,\n",
    "        \"weights\": [0.1, 0.9, 0],\n",
    "        \"save_probabilities\": False,\n",
    "        \"loadInference\": False,\n",
    "        \"addPastDeforestationInput\": True,\n",
    "        \"inference_times\": 1,\n",
    "        \"Uncertainty\": {\n",
    "            \"annealing_step\": experiment_value# 10*375/2 # 1875\n",
    "        },\n",
    "    \t\"uncertainty_method\": uncertaintyMethod,\n",
    "        \"evidence_function\": evidential.relu_evidence\n",
    "    }\n",
    "\n",
    "    trainer = TrainerEvidential(config, dataset, patchesHandler)\n",
    "\n",
    "    trainer.defineExperiment(exp_id)\n",
    "\n",
    "    trainer.setExperimentPath()\n",
    "    trainer.createLogFolders()\n",
    "\n",
    "    trainer.loadDataset()\n",
    "\n",
    "    # %%\n",
    "    if config[\"training\"] == True:\n",
    "        trainer.run()\n",
    "\n",
    "    # %%\n",
    "    result = trainer.run_predictor()\n",
    "    results.append(result)\n",
    "\n",
    "\n",
    "    with open('log.pkl', 'wb') as f:\n",
    "        pickle.dump(results, f)"
   ]
  },
  {
   "cell_type": "code",
   "execution_count": null,
   "id": "64080745",
   "metadata": {},
   "outputs": [
    {
     "name": "stdout",
     "output_type": "stream",
     "text": [
      "[{'metrics': {'precision_L': array([nan]), 'recall_L': array([0.]), 'recall_Ltotal': array([0.]), 'AA': array([0.03000042]), 'precision_H': array([nan]), 'recall_H': array([0.]), 'f1_L': array([nan]), 'f1_H': array([nan]), 'f1': 0.0}, 'metrics_audited': {'precision': array([1.]), 'recall': array([0.87966265]), 'f1': array([0.93597928])}, 'exp': 181}, {'metrics': {'precision_L': array([0.9266887]), 'recall_L': array([0.84085823]), 'recall_Ltotal': array([0.50764546]), 'AA': array([0.02999879]), 'precision_H': array([0.75952801]), 'recall_H': array([0.31876432]), 'f1_L': array([0.88168954]), 'f1_H': array([0.44906269]), 'f1': 73.97}, 'metrics_audited': {'precision': array([0.95746098]), 'recall': array([0.90392245]), 'f1': array([0.92992176])}, 'exp': 182}, {'metrics': {'precision_L': array([0.94748293]), 'recall_L': array([0.89449666]), 'recall_Ltotal': array([0.63664633]), 'AA': array([0.03000292]), 'precision_H': array([0.64688705]), 'recall_H': array([0.43562819]), 'f1_L': array([0.9202277]), 'f1_H': array([0.52064345]), 'f1': 81.69}, 'metrics_audited': {'precision': array([0.9632492]), 'recall': array([0.92490938]), 'f1': array([0.94369004])}, 'exp': 183}, {'metrics': {'precision_L': array([0.99427357]), 'recall_L': array([0.83065408]), 'recall_Ltotal': array([0.51175832]), 'AA': array([0.03000194]), 'precision_H': array([0.91722852]), 'recall_H': array([0.41929334]), 'f1_L': array([0.90512892]), 'f1_H': array([0.57550546]), 'f1': 79.6}, 'metrics_audited': {'precision': array([0.99672003]), 'recall': array([0.89566754]), 'f1': array([0.94349571])}, 'exp': 184}, {'metrics': {'precision_L': array([nan]), 'recall_L': array([0.]), 'recall_Ltotal': array([0.]), 'AA': array([0.02999902]), 'precision_H': array([nan]), 'recall_H': array([0.]), 'f1_L': array([nan]), 'f1_H': array([nan]), 'f1': 0.0}, 'metrics_audited': {'precision': array([1.]), 'recall': array([0.89371818]), 'f1': array([0.94387664])}, 'exp': 185}, {'metrics': {'precision_L': array([nan]), 'recall_L': array([0.]), 'recall_Ltotal': array([0.]), 'AA': array([0.0299988]), 'precision_H': array([nan]), 'recall_H': array([0.]), 'f1_L': array([nan]), 'f1_H': array([nan]), 'f1': 0.0}, 'metrics_audited': {'precision': array([1.]), 'recall': array([0.87879928]), 'f1': array([0.93549033])}, 'exp': 186}, {'metrics': {'precision_L': array([0.36992105]), 'recall_L': array([0.83177338]), 'recall_Ltotal': array([0.60845105]), 'AA': array([0.02999987]), 'precision_H': array([0.30496815]), 'recall_H': array([0.41505401]), 'f1_L': array([0.51209438]), 'f1_H': array([0.35159544]), 'f1': 47.83}, 'metrics_audited': {'precision': array([0.45833859]), 'recall': array([0.87694044]), 'f1': array([0.60202495])}, 'exp': 187}, {'metrics': {'precision_L': array([0.61161237]), 'recall_L': array([0.8906958]), 'recall_Ltotal': array([0.64787662]), 'AA': array([0.03000192]), 'precision_H': array([0.549653]), 'recall_H': array([0.29101954]), 'f1_L': array([0.72523146]), 'f1_H': array([0.38055189]), 'f1': 66.0}, 'metrics_audited': {'precision': array([0.69110814]), 'recall': array([0.92049403]), 'f1': array([0.78947637])}, 'exp': 188}, {'metrics': {'precision_L': array([nan]), 'recall_L': array([0.]), 'recall_Ltotal': array([0.]), 'AA': array([0.0300007]), 'precision_H': array([nan]), 'recall_H': array([0.]), 'f1_L': array([nan]), 'f1_H': array([nan]), 'f1': 0.0}, 'metrics_audited': {'precision': array([1.]), 'recall': array([0.8762993]), 'f1': array([0.93407198])}, 'exp': 189}, {'metrics': {'precision_L': array([0.96418165]), 'recall_L': array([0.86568377]), 'recall_Ltotal': array([0.55998816]), 'AA': array([0.03000078]), 'precision_H': array([0.7527915]), 'recall_H': array([0.3813993]), 'f1_L': array([0.91228174]), 'f1_H': array([0.50628898]), 'f1': 78.95}, 'metrics_audited': {'precision': array([0.97772503]), 'recall': array([0.91311435]), 'f1': array([0.94431581])}, 'exp': 190}]\n"
     ]
    }
   ],
   "source": [
    "print(results)"
   ]
  },
  {
   "cell_type": "code",
   "execution_count": null,
   "id": "4819ba4f",
   "metadata": {},
   "outputs": [
    {
     "data": {
      "text/plain": [
       "78.95"
      ]
     },
     "execution_count": 9,
     "metadata": {},
     "output_type": "execute_result"
    }
   ],
   "source": [
    "trainer.f1"
   ]
  },
  {
   "cell_type": "code",
   "execution_count": null,
   "id": "13437081",
   "metadata": {},
   "outputs": [
    {
     "name": "stdout",
     "output_type": "stream",
     "text": [
      "78.95\n"
     ]
    }
   ],
   "source": [
    "print(trainer.f1)"
   ]
  }
 ],
 "metadata": {
  "kernelspec": {
   "display_name": "Python 3.9.12 ('tf2')",
   "language": "python",
   "name": "python3"
  },
  "language_info": {
   "codemirror_mode": {
    "name": "ipython",
    "version": 3
   },
   "file_extension": ".py",
   "mimetype": "text/x-python",
   "name": "python",
   "nbconvert_exporter": "python",
   "pygments_lexer": "ipython3",
   "version": "3.9.12"
  },
  "vscode": {
   "interpreter": {
    "hash": "0593c6bd4eb743cc503a3c17025f83c5676f297db573750215a1bc8c88a990c4"
   }
  }
 },
 "nbformat": 4,
 "nbformat_minor": 5
}
