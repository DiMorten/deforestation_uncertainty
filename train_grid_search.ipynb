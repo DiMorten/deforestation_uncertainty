{
 "cells": [
  {
   "cell_type": "code",
   "execution_count": 1,
   "id": "dbd5b7cf",
   "metadata": {},
   "outputs": [],
   "source": [
    "from utils_v1 import *\n"
   ]
  },
  {
   "cell_type": "code",
   "execution_count": 2,
   "id": "123e793c",
   "metadata": {},
   "outputs": [],
   "source": [
    "from icecream import ic\n",
    "\n",
    "import numpy as np\n",
    "from src.dataset import (\n",
    "    MultipleDates,\n",
    "    PA, PADeforestationTime, PADistanceMap, PAMultipleDates,\n",
    "    MTDeforestationTime,\n",
    "    MTMultipleDates\n",
    ")\n",
    "\n",
    "# from src.dataset_legacy import MTDeforestationTime\n",
    "from src import training_generator as generator\n",
    "from src.patchesHandler import PatchesHandler, PatchesHandlerMultipleDates, PatchesHandlerEvidential\n",
    "\n",
    "from src.backend.Trainer import Trainer\n",
    "\n",
    "from mpl_toolkits.axes_grid1 import make_axes_locatable\n",
    "\n",
    "import cv2\n",
    "from src import metrics as _metric\n"
   ]
  },
  {
   "cell_type": "code",
   "execution_count": 3,
   "id": "603a5df7",
   "metadata": {},
   "outputs": [
    {
     "name": "stderr",
     "output_type": "stream",
     "text": [
      "ic| dates: [2018, 2019]\n",
      "ic| list(self.date_ids): [0]\n",
      "ic| self.image_channels: [[0, 1, 2, 3, 4, 5, 6, 7, 8, 9, 10, 11, 12, 13, 14, 15, 16, 17, 18, 19, 20]]\n",
      "ic| self.input_image_shape: 21\n",
      "ic| self.dataset.image_channels: [[0, 1, 2, 3, 4, 5, 6, 7, 8, 9, 10, 11, 12, 13, 14, 15, 16, 17, 18, 19, 20]]\n"
     ]
    }
   ],
   "source": [
    "\n",
    "config = {\n",
    "\t\"training\": False,\n",
    "\t\"save_probabilities\": False,\n",
    "\t\"loadInference\": False,\n",
    "\t\"addPastDeforestationInput\": True,\n",
    "\t\"inference_times\": 1,\n",
    "\t\"Uncertainty\": {\n",
    "\t\t\"annealing_step\": 10*375/2 # 1875\n",
    "\t}\n",
    "}\n",
    "\n",
    "\n",
    "\n",
    "\n",
    "'''\n",
    "if config[\"training\"] == True:\n",
    "\tdates = [2017, 2018]\n",
    "else:\n",
    "\tdates = [2018, 2019]\n",
    "if config[\"training\"] == True:\n",
    "\tdates = [2018, 2019]\n",
    "else:\n",
    "\tdates = [2019, 2020]\n",
    "'''\n",
    "dates = [2018, 2019]\n",
    "ic(dates)\n",
    "dataset = PAMultipleDates(dates = dates, # dates = [2017, 2018, 2019]. [2018, 2019]. [2015, 2016, 2017, 2018]\n",
    "\taddPastDeforestationInput = config['addPastDeforestationInput'],\n",
    "\tborderBuffer = 2)\t\n",
    "# dataset = MTMultipleDates(dates = dates, # dates = [2016,2017,2018,2019]\n",
    "# \taddPastDeforestationInput = addPastDeforestationInput,\n",
    "# \tborderBuffer = 2)\t\n",
    "# dataset = MTDeforestationTime()\t\n",
    "# [2016, 2017, 2018]\n",
    "\n",
    "\n",
    "if issubclass(type(dataset), MultipleDates):\n",
    "\tpatchesHandler = PatchesHandlerEvidential(\n",
    "\t\tdataset)\n",
    "else:\n",
    "\tpatchesHandler = PatchesHandler()\n",
    "\n",
    "exp = 143\n"
   ]
  },
  {
   "cell_type": "code",
   "execution_count": 4,
   "id": "48f4c409",
   "metadata": {},
   "outputs": [
    {
     "data": {
      "text/plain": [
       "143"
      ]
     },
     "execution_count": 4,
     "metadata": {},
     "output_type": "execute_result"
    }
   ],
   "source": [
    "exp"
   ]
  },
  {
   "cell_type": "code",
   "execution_count": 5,
   "id": "453870ef",
   "metadata": {},
   "outputs": [
    {
     "data": {
      "text/plain": [
       "[3750, 2500.0, 1875, 1250, 937]"
      ]
     },
     "execution_count": 5,
     "metadata": {},
     "output_type": "execute_result"
    }
   ],
   "source": [
    "[10*375//1, 10*375//1.5, 10*375//2, 10*375//3, 10*375//4]\n"
   ]
  },
  {
   "cell_type": "code",
   "execution_count": 6,
   "id": "55da0bd1",
   "metadata": {},
   "outputs": [
    {
     "name": "stdout",
     "output_type": "stream",
     "text": [
      "D:/Jorge/datasets/deforestation/Para/deforestation_past_years.tif\n",
      "Loaded deforestation past years\n"
     ]
    },
    {
     "name": "stderr",
     "output_type": "stream",
     "text": [
      "ic| np.unique(deforestation_past_years, return_counts=True): (array([   0, 2008, 2009, 2010, 2011, 2012, 2013, 2014, 2015, 2016, 2017,\n",
      "                                                                    2018, 2019, 2020, 2021], dtype=uint16),\n",
      "                                                              array([132185553,   3150503,   4571354,    864429,    903608,   1299506,\n",
      "                                                                      2477971,   1561686,   1459696,    969060,    644976,   2209014,\n",
      "                                                                      2100204,   5257014,   3514616], dtype=int64))\n"
     ]
    },
    {
     "name": "stdout",
     "output_type": "stream",
     "text": [
      "Label where deforestation past years is actual date (2019) = 1\n"
     ]
    },
    {
     "name": "stderr",
     "output_type": "stream",
     "text": [
      "ic| np.unique(deforestation_past_years, return_counts=True): (array([   0, 2008, 2009, 2010, 2011, 2012, 2013, 2014, 2015, 2016, 2017,\n",
      "                                                                    2018, 2019, 2020, 2021], dtype=uint16),\n",
      "                                                              array([132185553,   3150503,   4571354,    864429,    903608,   1299506,\n",
      "                                                                      2477971,   1561686,   1459696,    969060,    644976,   2209014,\n",
      "                                                                      2100204,   5257014,   3514616], dtype=int64))\n"
     ]
    },
    {
     "name": "stdout",
     "output_type": "stream",
     "text": [
      "Past deforestation different from 0 (no deforestation)\n"
     ]
    },
    {
     "name": "stderr",
     "output_type": "stream",
     "text": [
      "ic| np.unique(deforestation_past_years, return_counts=True): (array([   0, 2008, 2009, 2010, 2011, 2012, 2013, 2014, 2015, 2016, 2017,\n",
      "                                                                    2018, 2019, 2020, 2021], dtype=uint16),\n",
      "                                                              array([132185553,   3150503,   4571354,    864429,    903608,   1299506,\n",
      "                                                                      2477971,   1561686,   1459696,    969060,    644976,   2209014,\n",
      "                                                                      2100204,   5257014,   3514616], dtype=int64))\n"
     ]
    },
    {
     "name": "stdout",
     "output_type": "stream",
     "text": [
      "Past deforestation before 2008 is 2\n",
      "D:/Jorge/datasets/deforestation/deforestation_before_2008/deforestation_before_2008_para.tif\n"
     ]
    },
    {
     "name": "stderr",
     "output_type": "stream",
     "text": [
      "ic| np.unique(label_past_deforestation_before_2008, return_counts=True): (array([  0, 215], dtype=uint8), array([124211220,  38957970], dtype=int64))\n",
      "ic| np.unique(deforestation_past_years, return_counts=True): (array([   0, 2008, 2009, 2010, 2011, 2012, 2013, 2014, 2015, 2016, 2017,\n",
      "                                                                    2018, 2019, 2020, 2021], dtype=uint16),\n",
      "                                                              array([132185553,   3150503,   4571354,    864429,    903608,   1299506,\n",
      "                                                                      2477971,   1561686,   1459696,    969060,    644976,   2209014,\n",
      "                                                                      2100204,   5257014,   3514616], dtype=int64))\n",
      "ic| label_per_date.shape: (17730, 9203, 1)\n"
     ]
    },
    {
     "name": "stdout",
     "output_type": "stream",
     "text": [
      "Mask label shape:  \n",
      " (17730, 9203, 1) \n",
      " Unique values:  \n",
      " [0 1 2]\n",
      "Tiles size:  3546 2300\n",
      "Mask size:  (17730, 9200)\n"
     ]
    },
    {
     "name": "stderr",
     "output_type": "stream",
     "text": [
      "ic| image_stack.shape: (17730, 9203, 21)\n"
     ]
    },
    {
     "name": "stdout",
     "output_type": "stream",
     "text": [
      "Image shape:  (17730, 9203, 21)\n",
      "mask:  (17730, 9200)\n",
      "image stack:  (17730, 9200, 21)\n",
      "ref : (17730, 9200, 1)\n",
      "Training tiles:  [1, 3, 5, 8, 11, 13, 14, 20]\n",
      "Validation tiles:  [6, 19]\n",
      "Test tiles:  [2, 4, 7, 9, 10, 12, 15, 16, 17, 18]\n"
     ]
    },
    {
     "name": "stderr",
     "output_type": "stream",
     "text": [
      "ic| im_idx_row.shape: (17730, 9200, 1)\n",
      "    im_idx_col.shape: (17730, 9200, 1)\n",
      "ic| im_idx_row.dtype: dtype('uint16')\n",
      "    im_idx_col.dtype: dtype('uint16')\n",
      "ic| im_idx.shape: (17730, 9200, 2), im_idx.dtype: dtype('uint16')\n",
      "ic| coords.shape: (464, 239, 1, 128, 128, 2)\n",
      "    coords.dtype: dtype('uint16')\n",
      "ic| coords.shape: (110896, 2), coords.dtype: dtype('uint16')\n",
      "ic| self.coords_train.shape: (41812, 3)\n",
      "    self.coords_val.shape: (10260, 3)\n"
     ]
    },
    {
     "name": "stdout",
     "output_type": "stream",
     "text": [
      "training samples:  (3753, 3) validation samples:  (1032, 3)\n",
      "time:  0\n",
      "Model: \"model\"\n",
      "__________________________________________________________________________________________________\n",
      "Layer (type)                    Output Shape         Param #     Connected to                     \n",
      "==================================================================================================\n",
      "input_enc_net (InputLayer)      [(None, 128, 128, 21 0                                            \n",
      "__________________________________________________________________________________________________\n",
      "res1_net1 (Conv2D)              (None, 128, 128, 16) 3040        input_enc_net[0][0]              \n",
      "__________________________________________________________________________________________________\n",
      "drop_net1 (Dropout)             (None, 128, 128, 16) 0           res1_net1[0][0]                  \n",
      "__________________________________________________________________________________________________\n",
      "res2_net1 (Conv2D)              (None, 128, 128, 16) 2320        drop_net1[0][0]                  \n",
      "__________________________________________________________________________________________________\n",
      "res3_net1 (Conv2D)              (None, 128, 128, 16) 352         input_enc_net[0][0]              \n",
      "__________________________________________________________________________________________________\n",
      "add (Add)                       (None, 128, 128, 16) 0           res2_net1[0][0]                  \n",
      "                                                                 res3_net1[0][0]                  \n",
      "__________________________________________________________________________________________________\n",
      "pool_net1 (MaxPooling2D)        (None, 64, 64, 16)   0           add[0][0]                        \n",
      "__________________________________________________________________________________________________\n",
      "res1_net2 (Conv2D)              (None, 64, 64, 32)   4640        pool_net1[0][0]                  \n",
      "__________________________________________________________________________________________________\n",
      "drop_net2 (Dropout)             (None, 64, 64, 32)   0           res1_net2[0][0]                  \n",
      "__________________________________________________________________________________________________\n",
      "res2_net2 (Conv2D)              (None, 64, 64, 32)   9248        drop_net2[0][0]                  \n",
      "__________________________________________________________________________________________________\n",
      "res3_net2 (Conv2D)              (None, 64, 64, 32)   544         pool_net1[0][0]                  \n",
      "__________________________________________________________________________________________________\n",
      "add_1 (Add)                     (None, 64, 64, 32)   0           res2_net2[0][0]                  \n",
      "                                                                 res3_net2[0][0]                  \n",
      "__________________________________________________________________________________________________\n",
      "pool_net2 (MaxPooling2D)        (None, 32, 32, 32)   0           add_1[0][0]                      \n",
      "__________________________________________________________________________________________________\n",
      "res1_net3 (Conv2D)              (None, 32, 32, 64)   18496       pool_net2[0][0]                  \n",
      "__________________________________________________________________________________________________\n",
      "drop_net3 (Dropout)             (None, 32, 32, 64)   0           res1_net3[0][0]                  \n",
      "__________________________________________________________________________________________________\n",
      "res2_net3 (Conv2D)              (None, 32, 32, 64)   36928       drop_net3[0][0]                  \n",
      "__________________________________________________________________________________________________\n",
      "res3_net3 (Conv2D)              (None, 32, 32, 64)   2112        pool_net2[0][0]                  \n",
      "__________________________________________________________________________________________________\n",
      "add_2 (Add)                     (None, 32, 32, 64)   0           res2_net3[0][0]                  \n",
      "                                                                 res3_net3[0][0]                  \n",
      "__________________________________________________________________________________________________\n",
      "pool_net3 (MaxPooling2D)        (None, 16, 16, 64)   0           add_2[0][0]                      \n",
      "__________________________________________________________________________________________________\n",
      "res1_net4 (Conv2D)              (None, 16, 16, 64)   36928       pool_net3[0][0]                  \n",
      "__________________________________________________________________________________________________\n",
      "drop_net4 (Dropout)             (None, 16, 16, 64)   0           res1_net4[0][0]                  \n",
      "__________________________________________________________________________________________________\n",
      "res2_net4 (Conv2D)              (None, 16, 16, 64)   36928       drop_net4[0][0]                  \n",
      "__________________________________________________________________________________________________\n",
      "res3_net4 (Conv2D)              (None, 16, 16, 64)   4160        pool_net3[0][0]                  \n",
      "__________________________________________________________________________________________________\n",
      "add_3 (Add)                     (None, 16, 16, 64)   0           res2_net4[0][0]                  \n",
      "                                                                 res3_net4[0][0]                  \n",
      "__________________________________________________________________________________________________\n",
      "res1_net5 (Conv2D)              (None, 16, 16, 64)   36928       add_3[0][0]                      \n",
      "__________________________________________________________________________________________________\n",
      "drop_net5 (Dropout)             (None, 16, 16, 64)   0           res1_net5[0][0]                  \n",
      "__________________________________________________________________________________________________\n",
      "res2_net5 (Conv2D)              (None, 16, 16, 64)   36928       drop_net5[0][0]                  \n",
      "__________________________________________________________________________________________________\n",
      "res3_net5 (Conv2D)              (None, 16, 16, 64)   4160        add_3[0][0]                      \n",
      "__________________________________________________________________________________________________\n",
      "add_4 (Add)                     (None, 16, 16, 64)   0           res2_net5[0][0]                  \n",
      "                                                                 res3_net5[0][0]                  \n",
      "__________________________________________________________________________________________________\n",
      "res1_net6 (Conv2D)              (None, 16, 16, 64)   36928       add_4[0][0]                      \n",
      "__________________________________________________________________________________________________\n",
      "drop_net6 (Dropout)             (None, 16, 16, 64)   0           res1_net6[0][0]                  \n",
      "__________________________________________________________________________________________________\n",
      "res2_net6 (Conv2D)              (None, 16, 16, 64)   36928       drop_net6[0][0]                  \n",
      "__________________________________________________________________________________________________\n",
      "res3_net6 (Conv2D)              (None, 16, 16, 64)   4160        add_4[0][0]                      \n",
      "__________________________________________________________________________________________________\n",
      "add_5 (Add)                     (None, 16, 16, 64)   0           res2_net6[0][0]                  \n",
      "                                                                 res3_net6[0][0]                  \n",
      "__________________________________________________________________________________________________\n",
      "up_sampling2d (UpSampling2D)    (None, 32, 32, 64)   0           add_5[0][0]                      \n",
      "__________________________________________________________________________________________________\n",
      "upsampling_net3 (Conv2D)        (None, 32, 32, 64)   36928       up_sampling2d[0][0]              \n",
      "__________________________________________________________________________________________________\n",
      "concatenate3 (Concatenate)      (None, 32, 32, 128)  0           add_2[0][0]                      \n",
      "                                                                 upsampling_net3[0][0]            \n",
      "__________________________________________________________________________________________________\n",
      "up_sampling2d_1 (UpSampling2D)  (None, 64, 64, 128)  0           concatenate3[0][0]               \n",
      "__________________________________________________________________________________________________\n",
      "upsampling_net2 (Conv2D)        (None, 64, 64, 32)   36896       up_sampling2d_1[0][0]            \n",
      "__________________________________________________________________________________________________\n",
      "concatenate2 (Concatenate)      (None, 64, 64, 64)   0           add_1[0][0]                      \n",
      "                                                                 upsampling_net2[0][0]            \n",
      "__________________________________________________________________________________________________\n",
      "up_sampling2d_2 (UpSampling2D)  (None, 128, 128, 64) 0           concatenate2[0][0]               \n",
      "__________________________________________________________________________________________________\n",
      "upsampling_net1 (Conv2D)        (None, 128, 128, 16) 9232        up_sampling2d_2[0][0]            \n",
      "__________________________________________________________________________________________________\n",
      "concatenate1 (Concatenate)      (None, 128, 128, 32) 0           add[0][0]                        \n",
      "                                                                 upsampling_net1[0][0]            \n",
      "__________________________________________________________________________________________________\n",
      "output (Conv2D)                 (None, 128, 128, 3)  99          concatenate1[0][0]               \n",
      "==================================================================================================\n",
      "Total params: 394,883\n",
      "Trainable params: 394,883\n",
      "Non-trainable params: 0\n",
      "__________________________________________________________________________________________________\n"
     ]
    },
    {
     "name": "stderr",
     "output_type": "stream",
     "text": [
      "c:\\Users\\jchamorro\\Anaconda3\\envs\\tf2\\lib\\site-packages\\tensorflow\\python\\keras\\optimizer_v2\\optimizer_v2.py:374: UserWarning: The `lr` argument is deprecated, use `learning_rate` instead.\n",
      "  warnings.warn(\n",
      "c:\\Users\\jchamorro\\Anaconda3\\envs\\tf2\\lib\\site-packages\\tensorflow\\python\\keras\\engine\\training.py:1969: UserWarning: `Model.fit_generator` is deprecated and will be removed in a future version. Please use `Model.fit`, which supports generators.\n",
      "  warnings.warn('`Model.fit_generator` is deprecated and '\n"
     ]
    },
    {
     "name": "stdout",
     "output_type": "stream",
     "text": [
      "Epoch 1/100\n",
      "self.global_step 0.0\n",
      "alpha Tensor(\"loss/add:0\", shape=(None, 128, 128, 3), dtype=float32)\n",
      "u Tensor(\"loss/truediv:0\", shape=(None, 128, 128, 1), dtype=float32)\n",
      "alpha Tensor(\"add:0\", shape=(None, 128, 128, 3), dtype=float32)\n",
      "u Tensor(\"truediv:0\", shape=(None, 128, 128, 1), dtype=float32)\n",
      "K.int_shape(KL_reg) Tensor(\"mul_6:0\", shape=(None, 128, 128, 1), dtype=float32)\n",
      "alpha Tensor(\"add_7:0\", shape=(None, 128, 128, 3), dtype=float32)\n",
      "u Tensor(\"truediv_5:0\", shape=(None, 128, 128, 1), dtype=float32)\n",
      "K.int_shape(KL_reg) Tensor(\"mul_12:0\", shape=(None, 128, 128, 1), dtype=float32)\n",
      "alpha Tensor(\"loss/add:0\", shape=(None, 128, 128, 3), dtype=float32)\n",
      "u Tensor(\"loss/truediv:0\", shape=(None, 128, 128, 1), dtype=float32)\n",
      "alpha Tensor(\"add:0\", shape=(None, 128, 128, 3), dtype=float32)\n",
      "u Tensor(\"truediv:0\", shape=(None, 128, 128, 1), dtype=float32)\n",
      "K.int_shape(KL_reg) Tensor(\"mul_6:0\", shape=(None, 128, 128, 1), dtype=float32)\n",
      "alpha Tensor(\"add_7:0\", shape=(None, 128, 128, 3), dtype=float32)\n",
      "u Tensor(\"truediv_5:0\", shape=(None, 128, 128, 1), dtype=float32)\n",
      "K.int_shape(KL_reg) Tensor(\"mul_12:0\", shape=(None, 128, 128, 1), dtype=float32)\n",
      "351/351 [==============================] - ETA: 0s - loss: 0.5398 - accuracy: 0.4566 - KL_term: 0.0039 - loglikelihood_term: 0.5357 - evidential_success: 35.4270 - evidential_fail: 0.9204 - acc: 0.4567 - annealing_coef: 0.0467 - global_step_get: 175.0000 - annealing_step_get: 3750.0000alpha Tensor(\"loss/add:0\", shape=(None, 128, 128, 3), dtype=float32)\n",
      "u Tensor(\"loss/truediv:0\", shape=(None, 128, 128, 1), dtype=float32)\n",
      "alpha Tensor(\"add:0\", shape=(None, 128, 128, 3), dtype=float32)\n",
      "u Tensor(\"truediv:0\", shape=(None, 128, 128, 1), dtype=float32)\n",
      "K.int_shape(KL_reg) Tensor(\"mul_6:0\", shape=(None, 128, 128, 1), dtype=float32)\n",
      "alpha Tensor(\"add_7:0\", shape=(None, 128, 128, 3), dtype=float32)\n",
      "u Tensor(\"truediv_5:0\", shape=(None, 128, 128, 1), dtype=float32)\n",
      "K.int_shape(KL_reg) Tensor(\"mul_12:0\", shape=(None, 128, 128, 1), dtype=float32)\n",
      "351/351 [==============================] - 41s 92ms/step - loss: 0.5398 - accuracy: 0.4566 - KL_term: 0.0039 - loglikelihood_term: 0.5357 - evidential_success: 35.4270 - evidential_fail: 0.9204 - acc: 0.4567 - annealing_coef: 0.0467 - global_step_get: 175.0000 - annealing_step_get: 3750.0000 - val_loss: 0.4648 - val_accuracy: 0.6269 - val_KL_term: 0.0037 - val_loglikelihood_term: 0.4567 - val_evidential_success: 32.8169 - val_evidential_fail: 0.6616 - val_acc: 0.6316 - val_annealing_coef: 0.0933 - val_global_step_get: 350.0000 - val_annealing_step_get: 3750.0000\n",
      "\n",
      "Epoch 00001: val_loss improved from inf to 0.46477, saving model to D:/Jorge/datasets/deforestation/experiments/exp143/models\\resunet_0.h5\n",
      "Epoch 2/100\n",
      "self.global_step 350.0\n",
      "  1/351 [..............................] - ETA: 25s - loss: 0.5289 - accuracy: 0.4367 - KL_term: 0.0000e+00 - loglikelihood_term: 0.5289 - evidential_success: 41.1062 - evidential_fail: 0.3809 - acc: 0.4367 - annealing_coef: 0.0000e+00 - global_step_get: 0.0000e+00 - annealing_step_get: 3750.0000"
     ]
    },
    {
     "name": "stderr",
     "output_type": "stream",
     "text": [
      "c:\\Users\\jchamorro\\Anaconda3\\envs\\tf2\\lib\\site-packages\\tensorflow\\python\\keras\\utils\\generic_utils.py:494: CustomMaskWarning: Custom mask layers require a config and must override get_config. When loading, the custom mask layer must be passed to the custom_objects argument.\n",
      "  warnings.warn('Custom mask layers require a config and must override '\n"
     ]
    },
    {
     "name": "stdout",
     "output_type": "stream",
     "text": [
      "351/351 [==============================] - 31s 88ms/step - loss: 0.2506 - accuracy: 0.7917 - KL_term: 0.0081 - loglikelihood_term: 0.2427 - evidential_success: 66.5757 - evidential_fail: 2.8250 - acc: 0.7914 - annealing_coef: 0.0933 - global_step_get: 350.0000 - annealing_step_get: 3750.0000 - val_loss: 0.2385 - val_accuracy: 0.7916 - val_KL_term: 0.0064 - val_loglikelihood_term: 0.2287 - val_evidential_success: 70.0177 - val_evidential_fail: 1.6382 - val_acc: 0.7953 - val_annealing_coef: 0.1867 - val_global_step_get: 700.0000 - val_annealing_step_get: 3750.0000\n",
      "\n",
      "Epoch 00002: val_loss improved from 0.46477 to 0.23851, saving model to D:/Jorge/datasets/deforestation/experiments/exp143/models\\resunet_0.h5\n",
      "Epoch 3/100\n",
      "self.global_step 700.0\n",
      "351/351 [==============================] - 31s 88ms/step - loss: 0.2069 - accuracy: 0.8226 - KL_term: 0.0087 - loglikelihood_term: 0.1983 - evidential_success: 110.0313 - evidential_fail: 2.4643 - acc: 0.8225 - annealing_coef: 0.1400 - global_step_get: 525.0000 - annealing_step_get: 3750.0000 - val_loss: 0.2510 - val_accuracy: 0.7852 - val_KL_term: 0.0066 - val_loglikelihood_term: 0.2406 - val_evidential_success: 74.9249 - val_evidential_fail: 1.1106 - val_acc: 0.7891 - val_annealing_coef: 0.2800 - val_global_step_get: 1050.0000 - val_annealing_step_get: 3750.0000\n",
      "\n",
      "Epoch 00003: val_loss did not improve from 0.23851\n",
      "Epoch 4/100\n",
      "self.global_step 1050.0\n",
      "351/351 [==============================] - 31s 88ms/step - loss: 0.2058 - accuracy: 0.8236 - KL_term: 0.0097 - loglikelihood_term: 0.1962 - evidential_success: 113.5167 - evidential_fail: 2.1321 - acc: 0.8235 - annealing_coef: 0.1867 - global_step_get: 700.0000 - annealing_step_get: 3750.0000 - val_loss: 0.2404 - val_accuracy: 0.7930 - val_KL_term: 0.0168 - val_loglikelihood_term: 0.2209 - val_evidential_success: 89.7610 - val_evidential_fail: 2.2222 - val_acc: 0.7968 - val_annealing_coef: 0.3733 - val_global_step_get: 1400.0000 - val_annealing_step_get: 3750.0000\n",
      "\n",
      "Epoch 00004: val_loss did not improve from 0.23851\n",
      "Epoch 5/100\n",
      "self.global_step 1400.0\n",
      "351/351 [==============================] - 31s 87ms/step - loss: 0.1397 - accuracy: 0.9259 - KL_term: 0.0190 - loglikelihood_term: 0.1207 - evidential_success: 99.5372 - evidential_fail: 6.9177 - acc: 0.9259 - annealing_coef: 0.2333 - global_step_get: 875.0000 - annealing_step_get: 3750.0000 - val_loss: 0.1672 - val_accuracy: 0.9264 - val_KL_term: 0.0338 - val_loglikelihood_term: 0.1323 - val_evidential_success: 68.7210 - val_evidential_fail: 3.4894 - val_acc: 0.9270 - val_annealing_coef: 0.4667 - val_global_step_get: 1750.0000 - val_annealing_step_get: 3750.0000\n",
      "\n",
      "Epoch 00005: val_loss improved from 0.23851 to 0.16716, saving model to D:/Jorge/datasets/deforestation/experiments/exp143/models\\resunet_0.h5\n",
      "Epoch 6/100\n",
      "self.global_step 1750.0\n",
      "351/351 [==============================] - 30s 87ms/step - loss: 0.1275 - accuracy: 0.9384 - KL_term: 0.0194 - loglikelihood_term: 0.1080 - evidential_success: 102.6690 - evidential_fail: 6.9077 - acc: 0.9385 - annealing_coef: 0.2800 - global_step_get: 1050.0000 - annealing_step_get: 3750.0000 - val_loss: 0.1669 - val_accuracy: 0.9307 - val_KL_term: 0.0430 - val_loglikelihood_term: 0.1230 - val_evidential_success: 71.5133 - val_evidential_fail: 3.9589 - val_acc: 0.9312 - val_annealing_coef: 0.5600 - val_global_step_get: 2100.0000 - val_annealing_step_get: 3750.0000\n",
      "\n",
      "Epoch 00006: val_loss improved from 0.16716 to 0.16692, saving model to D:/Jorge/datasets/deforestation/experiments/exp143/models\\resunet_0.h5\n",
      "Epoch 7/100\n",
      "self.global_step 2100.0\n",
      "351/351 [==============================] - 31s 87ms/step - loss: 0.1248 - accuracy: 0.9408 - KL_term: 0.0198 - loglikelihood_term: 0.1049 - evidential_success: 107.1142 - evidential_fail: 6.2765 - acc: 0.9408 - annealing_coef: 0.3267 - global_step_get: 1225.0000 - annealing_step_get: 3750.0000 - val_loss: 0.1890 - val_accuracy: 0.9292 - val_KL_term: 0.0573 - val_loglikelihood_term: 0.1305 - val_evidential_success: 68.5744 - val_evidential_fail: 4.3657 - val_acc: 0.9298 - val_annealing_coef: 0.6533 - val_global_step_get: 2450.0000 - val_annealing_step_get: 3750.0000\n",
      "\n",
      "Epoch 00007: val_loss did not improve from 0.16692\n",
      "Epoch 8/100\n",
      "self.global_step 2450.0\n",
      "351/351 [==============================] - 31s 87ms/step - loss: 0.1242 - accuracy: 0.9422 - KL_term: 0.0207 - loglikelihood_term: 0.1033 - evidential_success: 110.3770 - evidential_fail: 6.0488 - acc: 0.9423 - annealing_coef: 0.3733 - global_step_get: 1400.0000 - annealing_step_get: 3750.0000 - val_loss: 0.1848 - val_accuracy: 0.9294 - val_KL_term: 0.0529 - val_loglikelihood_term: 0.1311 - val_evidential_success: 77.9394 - val_evidential_fail: 3.4209 - val_acc: 0.9300 - val_annealing_coef: 0.7467 - val_global_step_get: 2800.0000 - val_annealing_step_get: 3750.0000\n",
      "\n",
      "Epoch 00008: val_loss did not improve from 0.16692\n",
      "Epoch 9/100\n",
      "self.global_step 2800.0\n",
      "351/351 [==============================] - 31s 87ms/step - loss: 0.1224 - accuracy: 0.9440 - KL_term: 0.0211 - loglikelihood_term: 0.1012 - evidential_success: 109.8648 - evidential_fail: 5.5306 - acc: 0.9440 - annealing_coef: 0.4200 - global_step_get: 1575.0000 - annealing_step_get: 3750.0000 - val_loss: 0.1732 - val_accuracy: 0.9337 - val_KL_term: 0.0464 - val_loglikelihood_term: 0.1268 - val_evidential_success: 82.1756 - val_evidential_fail: 3.2983 - val_acc: 0.9342 - val_annealing_coef: 0.8400 - val_global_step_get: 3150.0000 - val_annealing_step_get: 3750.0000\n",
      "\n",
      "Epoch 00009: val_loss did not improve from 0.16692\n",
      "Epoch 10/100\n",
      "self.global_step 3150.0\n",
      "351/351 [==============================] - 31s 87ms/step - loss: 0.1234 - accuracy: 0.9443 - KL_term: 0.0219 - loglikelihood_term: 0.1015 - evidential_success: 112.7505 - evidential_fail: 5.2454 - acc: 0.9443 - annealing_coef: 0.4667 - global_step_get: 1750.0000 - annealing_step_get: 3750.0000 - val_loss: 0.1999 - val_accuracy: 0.9316 - val_KL_term: 0.0689 - val_loglikelihood_term: 0.1308 - val_evidential_success: 83.4218 - val_evidential_fail: 3.7871 - val_acc: 0.9321 - val_annealing_coef: 0.9333 - val_global_step_get: 3500.0000 - val_annealing_step_get: 3750.0000\n",
      "\n",
      "Epoch 00010: val_loss did not improve from 0.16692\n",
      "Epoch 11/100\n",
      "self.global_step 3500.0\n",
      "351/351 [==============================] - 31s 87ms/step - loss: 0.1232 - accuracy: 0.9452 - KL_term: 0.0224 - loglikelihood_term: 0.1008 - evidential_success: 117.9478 - evidential_fail: 4.9361 - acc: 0.9452 - annealing_coef: 0.5129 - global_step_get: 1925.0000 - annealing_step_get: 3750.0000 - val_loss: 0.1915 - val_accuracy: 0.9322 - val_KL_term: 0.0541 - val_loglikelihood_term: 0.1370 - val_evidential_success: 84.4442 - val_evidential_fail: 2.7225 - val_acc: 0.9327 - val_annealing_coef: 1.0000 - val_global_step_get: 3850.0000 - val_annealing_step_get: 3750.0000\n",
      "\n",
      "Epoch 00011: val_loss did not improve from 0.16692\n",
      "Epoch 12/100\n",
      "self.global_step 3850.0\n",
      "351/351 [==============================] - 31s 88ms/step - loss: 0.1205 - accuracy: 0.9469 - KL_term: 0.0221 - loglikelihood_term: 0.0984 - evidential_success: 132.3962 - evidential_fail: 4.7325 - acc: 0.9469 - annealing_coef: 0.5534 - global_step_get: 2100.0000 - annealing_step_get: 3750.0000 - val_loss: 0.2160 - val_accuracy: 0.9267 - val_KL_term: 0.0774 - val_loglikelihood_term: 0.1370 - val_evidential_success: 88.4158 - val_evidential_fail: 3.6779 - val_acc: 0.9274 - val_annealing_coef: 1.0000 - val_global_step_get: 4200.0000 - val_annealing_step_get: 3750.0000\n",
      "\n",
      "Epoch 00012: val_loss did not improve from 0.16692\n",
      "Epoch 13/100\n",
      "self.global_step 4200.0\n",
      "351/351 [==============================] - 31s 87ms/step - loss: 0.1187 - accuracy: 0.9478 - KL_term: 0.0219 - loglikelihood_term: 0.0966 - evidential_success: 130.2676 - evidential_fail: 4.5909 - acc: 0.9479 - annealing_coef: 0.5877 - global_step_get: 2275.0000 - annealing_step_get: 3750.0000 - val_loss: 0.1925 - val_accuracy: 0.9308 - val_KL_term: 0.0599 - val_loglikelihood_term: 0.1318 - val_evidential_success: 89.2516 - val_evidential_fail: 2.9870 - val_acc: 0.9314 - val_annealing_coef: 1.0000 - val_global_step_get: 4550.0000 - val_annealing_step_get: 3750.0000\n",
      "\n",
      "Epoch 00013: val_loss did not improve from 0.16692\n",
      "Epoch 14/100\n",
      "self.global_step 4550.0\n",
      "351/351 [==============================] - 31s 87ms/step - loss: 0.1230 - accuracy: 0.9465 - KL_term: 0.0232 - loglikelihood_term: 0.0999 - evidential_success: 132.2376 - evidential_fail: 4.3172 - acc: 0.9465 - annealing_coef: 0.6170 - global_step_get: 2450.0000 - annealing_step_get: 3750.0000 - val_loss: 0.1996 - val_accuracy: 0.9316 - val_KL_term: 0.0643 - val_loglikelihood_term: 0.1346 - val_evidential_success: 101.3709 - val_evidential_fail: 3.3584 - val_acc: 0.9322 - val_annealing_coef: 1.0000 - val_global_step_get: 4900.0000 - val_annealing_step_get: 3750.0000\n",
      "\n",
      "Epoch 00014: val_loss did not improve from 0.16692\n",
      "Epoch 15/100\n",
      "self.global_step 4900.0\n",
      "351/351 [==============================] - 31s 87ms/step - loss: 0.1179 - accuracy: 0.9489 - KL_term: 0.0224 - loglikelihood_term: 0.0957 - evidential_success: 135.9862 - evidential_fail: 4.2465 - acc: 0.9488 - annealing_coef: 0.6425 - global_step_get: 2625.0000 - annealing_step_get: 3750.0000 - val_loss: 0.2149 - val_accuracy: 0.9287 - val_KL_term: 0.0735 - val_loglikelihood_term: 0.1401 - val_evidential_success: 95.7576 - val_evidential_fail: 3.8794 - val_acc: 0.9293 - val_annealing_coef: 1.0000 - val_global_step_get: 5250.0000 - val_annealing_step_get: 3750.0000\n",
      "\n",
      "Epoch 00015: val_loss did not improve from 0.16692\n",
      "Epoch 16/100\n",
      "self.global_step 5250.0\n",
      "351/351 [==============================] - 31s 88ms/step - loss: 0.1148 - accuracy: 0.9502 - KL_term: 0.0217 - loglikelihood_term: 0.0930 - evidential_success: 129.5834 - evidential_fail: 4.0212 - acc: 0.9502 - annealing_coef: 0.6647 - global_step_get: 2800.0000 - annealing_step_get: 3750.0000 - val_loss: 0.2282 - val_accuracy: 0.9271 - val_KL_term: 0.0913 - val_loglikelihood_term: 0.1341 - val_evidential_success: 97.9762 - val_evidential_fail: 4.8802 - val_acc: 0.9279 - val_annealing_coef: 1.0000 - val_global_step_get: 5600.0000 - val_annealing_step_get: 3750.0000\n",
      "\n",
      "Epoch 00016: val_loss did not improve from 0.16692\n",
      "Epoch 00016: early stopping\n",
      "-30.0 -16.0\n"
     ]
    },
    {
     "name": "stderr",
     "output_type": "stream",
     "text": [
      "ic| self.path_models+ '/' + self.method +'_'+str(0)+'.h5': 'D:/Jorge/datasets/deforestation/experiments/exp143/models/resunet_0.h5'\n"
     ]
    },
    {
     "name": "stdout",
     "output_type": "stream",
     "text": [
      "time:  0\n",
      "(54236371,)\n",
      "(array([0, 1], dtype=uint8), array([53470765,   765606], dtype=int64))\n",
      "(17730, 9200)\n",
      "(array([0., 1.], dtype=float32), array([160830085,   2285915], dtype=int64))\n"
     ]
    },
    {
     "name": "stderr",
     "output_type": "stream",
     "text": [
      "ic| self.predicted_unpad.shape: (17730, 9200)\n",
      "    self.predicted.shape: (17730, 9200)\n",
      "ic| predicted_test.shape: (81558000,)\n",
      "ic| predicted_test.shape: (54236371,)\n",
      "ic| np.unique(predicted, return_counts=True): (array([0., 1.], dtype=float32), array([160830085,   2285915], dtype=int64))\n",
      "    np.unique(predicted_larger_than_min_area, return_counts=True): (array([0., 1.], dtype=float32), array([161144626,   1971374], dtype=int64))\n",
      "ic| np.unique(ignored_polygons, return_counts=True): (array([0., 1.], dtype=float32), array([162801459,    314541], dtype=int64))\n",
      "ic| predicted.shape: (17730, 9200), label_mask.shape: (17730, 9200)\n",
      "ic| predicted_masked.shape: (81558000,)\n",
      "    label_masked.shape: (81558000,)\n",
      "ic| np.unique(label_masked, return_counts=True): (array([0, 1, 2], dtype=uint8),\n",
      "                                                  array([53346316,   735180, 27476504], dtype=int64))\n",
      "ic| predicted_masked.shape: (54081496,)\n",
      "    label_masked.shape: (54081496,)\n",
      "ic| self.f1: 81.79, self.precision: 77.07, self.recall: 87.13\n",
      "ic| self.label_mask_val.shape: (16311600,)\n",
      "ic| self.label_mask_val_valid.shape: (9415164,)\n",
      "ic| f1_val: 85.14\n",
      "    precision_val: 79.69\n",
      "    recall_val: 91.38\n",
      "    mAP_val: 87.14\n"
     ]
    },
    {
     "name": "stdout",
     "output_type": "stream",
     "text": [
      "(array([0., 1.], dtype=float32), array([162429696,    686304], dtype=int64))\n"
     ]
    },
    {
     "name": "stderr",
     "output_type": "stream",
     "text": [
      "ic| self.label_mask.shape: (17730, 9200)\n",
      "ic| self.mask_amazon_ts.shape: (17730, 9200)\n",
      "ic| self.label_mask_test.shape: (81558000,)\n",
      "ic| self.error_mask_test.shape: (54081496,)\n",
      "ic| bounds: (0.015, 0.9985)\n",
      "c:\\Users\\jchamorro\\Anaconda3\\envs\\tf2\\lib\\site-packages\\scipy\\optimize\\_minimize.py:783: RuntimeWarning: Method 'bounded' does not support relative tolerance in x; defaulting to absolute tolerance.\n",
      "  warn(\"Method 'bounded' does not support relative tolerance in x; \"\n"
     ]
    },
    {
     "name": "stdout",
     "output_type": "stream",
     "text": [
      "0.3906635720644784\n",
      "threshold 0.3906635720644784\n",
      "(52176337,) (52176337,)\n"
     ]
    },
    {
     "name": "stderr",
     "output_type": "stream",
     "text": [
      "ic| label_current_deforestation_test_classified_incorrect.shape: (1905159,)\n",
      "    predicted_test_classified_incorrect.shape: (1905159,)\n"
     ]
    },
    {
     "name": "stdout",
     "output_type": "stream",
     "text": [
      "cm_correct [[51548869    58323]\n",
      " [   24776   544369]]\n",
      "cm_incorrect [[1606864  132260]\n",
      " [  69864   96171]]\n"
     ]
    },
    {
     "name": "stderr",
     "output_type": "stream",
     "text": [
      "ic| TP_H + FN_H + FP_H + TN_H: 1905159\n",
      "    len(label_mask_current_deforestation_test): 54081496\n",
      "ic| TP_H + FN_H + FP_H + TN_H: 1905159\n",
      "    len(label_mask_current_deforestation_test): 54081496\n"
     ]
    },
    {
     "name": "stdout",
     "output_type": "stream",
     "text": [
      "[0.90322918 0.95646804 0.74045676 0.03522756 0.42100678 0.57922125]\n",
      "0.6228364279355216\n",
      "threshold 0.6228364279355216\n",
      "(53325597,) (53325597,)\n"
     ]
    },
    {
     "name": "stderr",
     "output_type": "stream",
     "text": [
      "ic| label_current_deforestation_test_classified_incorrect.shape: (755899,)\n",
      "    predicted_test_classified_incorrect.shape: (755899,)\n",
      "ic| TP_H + FN_H + FP_H + TN_H: 755899\n",
      "    len(label_mask_current_deforestation_test): 54081496\n",
      "ic| TP_H + FN_H + FP_H + TN_H: 755899\n",
      "    len(label_mask_current_deforestation_test): 54081496\n"
     ]
    },
    {
     "name": "stdout",
     "output_type": "stream",
     "text": [
      "cm_correct [[52539741   135673]\n",
      " [   38901   611282]]\n",
      "cm_incorrect [[615992  54910]\n",
      " [ 55739  29258]]\n",
      "[0.81836523 0.94016915 0.83147256 0.01397704 0.3476143  0.34422391]\n",
      "0.24717285587104318\n",
      "threshold 0.24717285587104318\n",
      "(51000496,) (51000496,)\n"
     ]
    },
    {
     "name": "stderr",
     "output_type": "stream",
     "text": [
      "ic| label_current_deforestation_test_classified_incorrect.shape: (3081000,)\n",
      "    predicted_test_classified_incorrect.shape: (3081000,)\n"
     ]
    },
    {
     "name": "stdout",
     "output_type": "stream",
     "text": [
      "cm_correct [[50513184    15942]\n",
      " [   16969   454401]]\n"
     ]
    },
    {
     "name": "stderr",
     "output_type": "stream",
     "text": [
      "ic| TP_H + FN_H + FP_H + TN_H: 3081000\n",
      "    len(label_mask_current_deforestation_test): 54081496\n",
      "ic| TP_H + FN_H + FP_H + TN_H: 3081000\n",
      "    len(label_mask_current_deforestation_test): 54081496\n"
     ]
    },
    {
     "name": "stdout",
     "output_type": "stream",
     "text": [
      "cm_incorrect [[2642549  174641]\n",
      " [  77671  186139]]\n",
      "[0.96610559 0.96400068 0.61808129 0.05696958 0.51593492 0.70557977]\n",
      "0.4626448939517927\n",
      "threshold 0.4626448939517927\n",
      "(52575288,) (52575288,)\n"
     ]
    },
    {
     "name": "stderr",
     "output_type": "stream",
     "text": [
      "ic| label_current_deforestation_test_classified_incorrect.shape: (1506208,)\n",
      "    predicted_test_classified_incorrect.shape: (1506208,)\n",
      "ic"
     ]
    },
    {
     "name": "stdout",
     "output_type": "stream",
     "text": [
      "cm_correct [[51901981    78314]\n",
      " [   28245   566748]]\n",
      "cm_incorrect [[1253752  112269]\n",
      " [  66395   73792]]\n"
     ]
    },
    {
     "name": "stderr",
     "output_type": "stream",
     "text": [
      "| TP_H + FN_H + FP_H + TN_H: 1506208\n",
      "    len(label_mask_current_deforestation_test): 54081496\n",
      "ic| TP_H + FN_H + FP_H + TN_H: 1506208\n",
      "    len(label_mask_current_deforestation_test): 54081496\n"
     ]
    },
    {
     "name": "stdout",
     "output_type": "stream",
     "text": [
      "[0.87859462 0.95252885 0.77089692 0.02785071 0.39660111 0.52638262]\n",
      "0.4650275149184738\n",
      "threshold 0.4650275149184738\n",
      "(52587704,) (52587704,)\n"
     ]
    },
    {
     "name": "stderr",
     "output_type": "stream",
     "text": [
      "ic| label_current_deforestation_test_classified_incorrect.shape: (1493792,)\n",
      "    predicted_test_classified_incorrect.shape: (1493792,)\n",
      "ic"
     ]
    },
    {
     "name": "stdout",
     "output_type": "stream",
     "text": [
      "cm_correct [[51913027    78887]\n",
      " [   28378   567412]]\n",
      "cm_incorrect [[1242706  111696]\n",
      " [  66262   73128]]\n"
     ]
    },
    {
     "name": "stderr",
     "output_type": "stream",
     "text": [
      "| TP_H + FN_H + FP_H + TN_H: 1493792\n",
      "    len(label_mask_current_deforestation_test): 54081496\n",
      "ic| TP_H + FN_H + FP_H + TN_H: 1493792\n",
      "    len(label_mask_current_deforestation_test): 54081496\n"
     ]
    },
    {
     "name": "stdout",
     "output_type": "stream",
     "text": [
      "[0.8779404  0.95236912 0.7718001  0.02762113 0.3956629  0.52462874]\n",
      "0.4380837327627678\n",
      "threshold 0.4380837327627678\n",
      "(52444462,) (52444462,)\n"
     ]
    },
    {
     "name": "stderr",
     "output_type": "stream",
     "text": [
      "ic| label_current_deforestation_test_classified_incorrect.shape: (1637034,)\n",
      "    predicted_test_classified_incorrect.shape: (1637034,)\n",
      "ic"
     ]
    },
    {
     "name": "stdout",
     "output_type": "stream",
     "text": [
      "cm_correct [[51785913    71756]\n",
      " [   27034   559759]]\n",
      "cm_incorrect [[1369820  118827]\n",
      " [  67606   80781]]\n"
     ]
    },
    {
     "name": "stderr",
     "output_type": "stream",
     "text": [
      "| TP_H + FN_H + FP_H + TN_H: 1637034\n",
      "    len(label_mask_current_deforestation_test): 54081496\n",
      "ic| TP_H + FN_H + FP_H + TN_H: 1637034\n",
      "    len(label_mask_current_deforestation_test): 54081496\n"
     ]
    },
    {
     "name": "stdout",
     "output_type": "stream",
     "text": [
      "[0.88637483 0.95392924 0.76139041 0.03026976 0.40469821 0.54439405]\n",
      "0.4199708431280032\n",
      "threshold 0.4199708431280032\n",
      "(52344670,) (52344670,)\n"
     ]
    },
    {
     "name": "stderr",
     "output_type": "stream",
     "text": [
      "ic| label_current_deforestation_test_classified_incorrect.shape: (1736826,)\n",
      "    predicted_test_classified_incorrect.shape: (1736826,)\n"
     ]
    },
    {
     "name": "stdout",
     "output_type": "stream",
     "text": [
      "cm_correct [[51697662    66617]\n",
      " [   26153   554238]]\n"
     ]
    },
    {
     "name": "stderr",
     "output_type": "stream",
     "text": [
      "ic| TP_H + FN_H + FP_H + TN_H: 1736826\n",
      "    len(label_mask_current_deforestation_test): 54081496\n",
      "ic| TP_H + FN_H + FP_H + TN_H: 1736826\n",
      "    len(label_mask_current_deforestation_test): 54081496\n"
     ]
    },
    {
     "name": "stdout",
     "output_type": "stream",
     "text": [
      "cm_incorrect [[1458071  123966]\n",
      " [  68487   86302]]\n",
      "[0.89270119 0.954939   0.75388068 0.03211498 0.41043811 0.55754608]\n",
      "0.44121169527434095\n",
      "threshold 0.44121169527434095\n",
      "(52461329,) (52461329,)\n"
     ]
    },
    {
     "name": "stderr",
     "output_type": "stream",
     "text": [
      "ic| label_current_deforestation_test_classified_incorrect.shape: (1620167,)\n",
      "    predicted_test_classified_incorrect.shape: (1620167,)\n",
      "ic"
     ]
    },
    {
     "name": "stdout",
     "output_type": "stream",
     "text": [
      "cm_correct [[51800960    72595]\n",
      " [   27203   560571]]\n",
      "cm_incorrect [[1354773  117988]\n",
      " [  67437   79969]]\n"
     ]
    },
    {
     "name": "stderr",
     "output_type": "stream",
     "text": [
      "| TP_H + FN_H + FP_H + TN_H: 1620167\n",
      "    len(label_mask_current_deforestation_test): 54081496\n",
      "ic| TP_H + FN_H + FP_H + TN_H: 1620167\n",
      "    len(label_mask_current_deforestation_test): 54081496\n"
     ]
    },
    {
     "name": "stdout",
     "output_type": "stream",
     "text": [
      "[0.88534602 0.95371861 0.7624949  0.02995788 0.40397157 0.54250845]\n",
      "0.44939844868149825\n",
      "threshold 0.44939844868149825\n",
      "(52505038,) (52505038,)\n"
     ]
    },
    {
     "name": "stderr",
     "output_type": "stream",
     "text": [
      "ic| label_current_deforestation_test_classified_incorrect.shape: (1576458,)\n",
      "    predicted_test_classified_incorrect.shape: (1576458,)\n",
      "ic"
     ]
    },
    {
     "name": "stdout",
     "output_type": "stream",
     "text": [
      "cm_correct [[51839696    74802]\n",
      " [   27600   562940]]\n",
      "cm_incorrect [[1316037  115781]\n",
      " [  67040   77600]]\n"
     ]
    },
    {
     "name": "stderr",
     "output_type": "stream",
     "text": [
      "| TP_H + FN_H + FP_H + TN_H: 1576458\n",
      "    len(label_mask_current_deforestation_test): 54081496\n",
      "ic| TP_H + FN_H + FP_H + TN_H: 1576458\n",
      "    len(label_mask_current_deforestation_test): 54081496\n"
     ]
    },
    {
     "name": "stdout",
     "output_type": "stream",
     "text": [
      "[0.88270805 0.95326312 0.76571724 0.02914967 0.40128037 0.53650442]\n",
      "0.4420484628710149\n",
      "threshold 0.4420484628710149\n",
      "(52465918,) (52465918,)\n"
     ]
    },
    {
     "name": "stderr",
     "output_type": "stream",
     "text": [
      "ic| label_current_deforestation_test_classified_incorrect.shape: (1615578,)\n",
      "    predicted_test_classified_incorrect.shape: (1615578,)\n",
      "ic"
     ]
    },
    {
     "name": "stdout",
     "output_type": "stream",
     "text": [
      "cm_correct [[51805032    72819]\n",
      " [   27249   560818]]\n",
      "cm_incorrect [[1350701  117764]\n",
      " [  67391   79722]]\n"
     ]
    },
    {
     "name": "stderr",
     "output_type": "stream",
     "text": [
      "| TP_H + FN_H + FP_H + TN_H: 1615578\n",
      "    len(label_mask_current_deforestation_test): 54081496\n",
      "ic| TP_H + FN_H + FP_H + TN_H: 1615578\n",
      "    len(label_mask_current_deforestation_test): 54081496\n"
     ]
    },
    {
     "name": "stdout",
     "output_type": "stream",
     "text": [
      "[0.88507773 0.95366344 0.76283087 0.02987303 0.40368431 0.54190996]\n",
      "0.44047598035787666\n",
      "threshold 0.44047598035787666\n",
      "(52457359,) (52457359,)\n"
     ]
    },
    {
     "name": "stderr",
     "output_type": "stream",
     "text": [
      "ic| label_current_deforestation_test_classified_incorrect.shape: (1624137,)\n",
      "    predicted_test_classified_incorrect.shape: (1624137,)\n"
     ]
    },
    {
     "name": "stdout",
     "output_type": "stream",
     "text": [
      "cm_correct [[51797397    72403]\n",
      " [   27172   560387]]\n",
      "cm_incorrect [[1358336  118180]\n",
      " [  67468   80153]]\n"
     ]
    },
    {
     "name": "stderr",
     "output_type": "stream",
     "text": [
      "ic| TP_H + FN_H + FP_H + TN_H: 1624137\n",
      "    len(label_mask_current_deforestation_test): 54081496\n",
      "ic| TP_H + FN_H + FP_H + TN_H: 1624137\n",
      "    len(label_mask_current_deforestation_test): 54081496\n"
     ]
    },
    {
     "name": "stdout",
     "output_type": "stream",
     "text": [
      "[0.88558131 0.95375443 0.76224462 0.03003129 0.40413345 0.54296475]\n",
      "0.44071030856028526\n",
      "threshold 0.44071030856028526\n",
      "(52458603,) (52458603,)\n"
     ]
    },
    {
     "name": "stderr",
     "output_type": "stream",
     "text": [
      "ic| label_current_deforestation_test_classified_incorrect.shape: (1622893,)\n",
      "    predicted_test_classified_incorrect.shape: (1622893,)\n",
      "ic"
     ]
    },
    {
     "name": "stdout",
     "output_type": "stream",
     "text": [
      "cm_correct [[51798511    72459]\n",
      " [   27183   560450]]\n",
      "cm_incorrect [[1357222  118124]\n",
      " [  67457   80090]]\n"
     ]
    },
    {
     "name": "stderr",
     "output_type": "stream",
     "text": [
      "| TP_H + FN_H + FP_H + TN_H: 1622893\n",
      "    len(label_mask_current_deforestation_test): 54081496\n",
      "ic| TP_H + FN_H + FP_H + TN_H: 1622893\n",
      "    len(label_mask_current_deforestation_test): 54081496\n"
     ]
    },
    {
     "name": "stdout",
     "output_type": "stream",
     "text": [
      "[0.88551435 0.95374154 0.76233031 0.03000829 0.40405824 0.54281009]\n",
      "0.44081114371888447\n",
      "threshold 0.44081114371888447\n",
      "(52459151,) (52459151,)\n"
     ]
    },
    {
     "name": "stderr",
     "output_type": "stream",
     "text": [
      "ic| label_current_deforestation_test_classified_incorrect.shape: (1622345,)\n",
      "    predicted_test_classified_incorrect.shape: (1622345,)\n",
      "ic"
     ]
    },
    {
     "name": "stdout",
     "output_type": "stream",
     "text": [
      "cm_correct [[51799001    72492]\n",
      " [   27187   560471]]\n",
      "cm_incorrect [[1356732  118091]\n",
      " [  67453   80069]]\n"
     ]
    },
    {
     "name": "stderr",
     "output_type": "stream",
     "text": [
      "| TP_H + FN_H + FP_H + TN_H: 1622345\n",
      "    len(label_mask_current_deforestation_test): 54081496\n",
      "ic| TP_H + FN_H + FP_H + TN_H: 1622345\n",
      "    len(label_mask_current_deforestation_test): 54081496\n"
     ]
    },
    {
     "name": "stdout",
     "output_type": "stream",
     "text": [
      "[0.88547198 0.9537367  0.76235888 0.02999815 0.40406237 0.54275972]\n",
      "0.44096414079882224\n",
      "threshold 0.44096414079882224\n",
      "(52459960,) (52459960,)\n"
     ]
    },
    {
     "name": "stderr",
     "output_type": "stream",
     "text": [
      "ic| label_current_deforestation_test_classified_incorrect.shape: (1621536,)\n",
      "    predicted_test_classified_incorrect.shape: (1621536,)\n",
      "ic"
     ]
    },
    {
     "name": "stdout",
     "output_type": "stream",
     "text": [
      "cm_correct [[51799718    72532]\n",
      " [   27196   560514]]\n",
      "cm_incorrect [[1356015  118051]\n",
      " [  67444   80026]]\n"
     ]
    },
    {
     "name": "stderr",
     "output_type": "stream",
     "text": [
      "| TP_H + FN_H + FP_H + TN_H: 1621536\n",
      "    len(label_mask_current_deforestation_test): 54081496\n",
      "ic| TP_H + FN_H + FP_H + TN_H: 1621536\n",
      "    len(label_mask_current_deforestation_test): 54081496\n"
     ]
    },
    {
     "name": "stdout",
     "output_type": "stream",
     "text": [
      "[0.88542381 0.95372548 0.76241737 0.02998319 0.4040146  0.54265952]\n",
      "0.4407778038472653\n",
      "threshold 0.4407778038472653\n",
      "(52458972,) (52458972,)\n"
     ]
    },
    {
     "name": "stderr",
     "output_type": "stream",
     "text": [
      "ic| label_current_deforestation_test_classified_incorrect.shape: (1622524,)\n",
      "    predicted_test_classified_incorrect.shape: (1622524,)\n",
      "ic"
     ]
    },
    {
     "name": "stdout",
     "output_type": "stream",
     "text": [
      "cm_correct [[51798838    72482]\n",
      " [   27187   560465]]\n",
      "cm_incorrect [[1356895  118101]\n",
      " [  67453   80075]]\n"
     ]
    },
    {
     "name": "stderr",
     "output_type": "stream",
     "text": [
      "| TP_H + FN_H + FP_H + TN_H: 1622524\n",
      "    len(label_mask_current_deforestation_test): 54081496\n",
      "ic| TP_H + FN_H + FP_H + TN_H: 1622524\n",
      "    len(label_mask_current_deforestation_test): 54081496\n"
     ]
    },
    {
     "name": "stdout",
     "output_type": "stream",
     "text": [
      "[0.88548488 0.95373622 0.76235072 0.03000146 0.40406003 0.54277832]\n",
      "0.4407444639761406\n",
      "threshold 0.4407444639761406\n",
      "(52458790,) (52458790,)\n"
     ]
    },
    {
     "name": "stderr",
     "output_type": "stream",
     "text": [
      "ic| label_current_deforestation_test_classified_incorrect.shape: (1622706,)\n",
      "    predicted_test_classified_incorrect.shape: (1622706,)\n",
      "ic"
     ]
    },
    {
     "name": "stdout",
     "output_type": "stream",
     "text": [
      "cm_correct [[51798679    72469]\n",
      " [   27183   560459]]\n",
      "cm_incorrect [[1357054  118114]\n",
      " [  67457   80081]]\n"
     ]
    },
    {
     "name": "stderr",
     "output_type": "stream",
     "text": [
      "| TP_H + FN_H + FP_H + TN_H: 1622706\n",
      "    len(label_mask_current_deforestation_test): 54081496\n",
      "ic| TP_H + FN_H + FP_H + TN_H: 1622706\n",
      "    len(label_mask_current_deforestation_test): 54081496\n",
      "ic| self.threshold_optimal: 0.4407778038472653\n"
     ]
    },
    {
     "name": "stdout",
     "output_type": "stream",
     "text": [
      "[0.88550198 0.95374224 0.76234256 0.03000483 0.40405157 0.5427822 ]\n",
      "threshold 0.4407778038472653\n",
      "(52458972,) (52458972,)\n"
     ]
    },
    {
     "name": "stderr",
     "output_type": "stream",
     "text": [
      "ic| label_current_deforestation_test_classified_incorrect.shape: (1622524,)\n",
      "    predicted_test_classified_incorrect.shape: (1622524,)\n",
      "ic"
     ]
    },
    {
     "name": "stdout",
     "output_type": "stream",
     "text": [
      "cm_correct [[51798838    72482]\n",
      " [   27187   560465]]\n",
      "cm_incorrect [[1356895  118101]\n",
      " [  67453   80075]]\n"
     ]
    },
    {
     "name": "stderr",
     "output_type": "stream",
     "text": [
      "| TP_H + FN_H + FP_H + TN_H: 1622524\n",
      "    len(label_mask_current_deforestation_test): 54081496\n",
      "ic| TP_H + FN_H + FP_H + TN_H: 1622524\n",
      "    len(label_mask_current_deforestation_test): 54081496\n"
     ]
    },
    {
     "name": "stdout",
     "output_type": "stream",
     "text": [
      "[0.88548488 0.95373622 0.76235072 0.03000146 0.40406003 0.54277832]\n",
      "threshold 0.4407778038472653\n",
      "(54081496,) (54081496,)\n"
     ]
    },
    {
     "name": "stderr",
     "output_type": "stream",
     "text": [
      "ic| self.m_optimal: {'AA': array([0.03000146]),\n",
      "                     'f1_H': array([0.46325758]),\n",
      "                     'f1_L': array([0.91834419]),\n",
      "                     'precision_H': array([0.40406003]),\n",
      "                     'precision_L': array([0.88548488]),\n",
      "                     'recall_H': array([0.54277832]),\n",
      "                     'recall_L': array([0.95373622]),\n",
      "                     'recall_Ltotal': array([0.76235072])}\n",
      "ic| self.m_audited_optimal: {'f1': array([0.93424031]),\n",
      "                             'precision': array([0.90713091]),\n",
      "                             'recall': array([0.96301994])}\n"
     ]
    },
    {
     "name": "stdout",
     "output_type": "stream",
     "text": [
      "cm_audited [[53273834    72482]\n",
      " [   27187   707993]]\n",
      "[0.90713091 0.96301994]\n",
      "D:/Jorge/datasets/deforestation/Para/deforestation_past_years.tif\n",
      "Loaded deforestation past years\n"
     ]
    },
    {
     "name": "stderr",
     "output_type": "stream",
     "text": [
      "ic| np.unique(deforestation_past_years, return_counts=True): (array([   0, 2008, 2009, 2010, 2011, 2012, 2013, 2014, 2015, 2016, 2017,\n",
      "                                                                    2018, 2019, 2020, 2021], dtype=uint16),\n",
      "                                                              array([132185553,   3150503,   4571354,    864429,    903608,   1299506,\n",
      "                                                                      2477971,   1561686,   1459696,    969060,    644976,   2209014,\n",
      "                                                                      2100204,   5257014,   3514616], dtype=int64))\n"
     ]
    },
    {
     "name": "stdout",
     "output_type": "stream",
     "text": [
      "Label where deforestation past years is actual date (2019) = 1\n"
     ]
    },
    {
     "name": "stderr",
     "output_type": "stream",
     "text": [
      "ic| np.unique(deforestation_past_years, return_counts=True): (array([   0, 2008, 2009, 2010, 2011, 2012, 2013, 2014, 2015, 2016, 2017,\n",
      "                                                                    2018, 2019, 2020, 2021], dtype=uint16),\n",
      "                                                              array([132185553,   3150503,   4571354,    864429,    903608,   1299506,\n",
      "                                                                      2477971,   1561686,   1459696,    969060,    644976,   2209014,\n",
      "                                                                      2100204,   5257014,   3514616], dtype=int64))\n"
     ]
    },
    {
     "name": "stdout",
     "output_type": "stream",
     "text": [
      "Past deforestation different from 0 (no deforestation)\n"
     ]
    },
    {
     "name": "stderr",
     "output_type": "stream",
     "text": [
      "ic| np.unique(deforestation_past_years, return_counts=True): (array([   0, 2008, 2009, 2010, 2011, 2012, 2013, 2014, 2015, 2016, 2017,\n",
      "                                                                    2018, 2019, 2020, 2021], dtype=uint16),\n",
      "                                                              array([132185553,   3150503,   4571354,    864429,    903608,   1299506,\n",
      "                                                                      2477971,   1561686,   1459696,    969060,    644976,   2209014,\n",
      "                                                                      2100204,   5257014,   3514616], dtype=int64))\n"
     ]
    },
    {
     "name": "stdout",
     "output_type": "stream",
     "text": [
      "Past deforestation before 2008 is 2\n",
      "D:/Jorge/datasets/deforestation/deforestation_before_2008/deforestation_before_2008_para.tif\n"
     ]
    },
    {
     "name": "stderr",
     "output_type": "stream",
     "text": [
      "ic| np.unique(label_past_deforestation_before_2008, return_counts=True): (array([  0, 215], dtype=uint8), array([124211220,  38957970], dtype=int64))\n",
      "ic| np.unique(deforestation_past_years, return_counts=True): (array([   0, 2008, 2009, 2010, 2011, 2012, 2013, 2014, 2015, 2016, 2017,\n",
      "                                                                    2018, 2019, 2020, 2021], dtype=uint16),\n",
      "                                                              array([132185553,   3150503,   4571354,    864429,    903608,   1299506,\n",
      "                                                                      2477971,   1561686,   1459696,    969060,    644976,   2209014,\n",
      "                                                                      2100204,   5257014,   3514616], dtype=int64))\n",
      "ic| label_per_date.shape: (17730, 9203, 1)\n"
     ]
    },
    {
     "name": "stdout",
     "output_type": "stream",
     "text": [
      "Mask label shape:  \n",
      " (17730, 9203, 1) \n",
      " Unique values:  \n",
      " [0 1 2]\n",
      "Tiles size:  3546 2300\n",
      "Mask size:  (17730, 9200)\n"
     ]
    },
    {
     "name": "stderr",
     "output_type": "stream",
     "text": [
      "ic| image_stack.shape: (17730, 9203, 21)\n"
     ]
    },
    {
     "name": "stdout",
     "output_type": "stream",
     "text": [
      "Image shape:  (17730, 9203, 21)\n",
      "mask:  (17730, 9200)\n",
      "image stack:  (17730, 9200, 21)\n",
      "ref : (17730, 9200, 1)\n",
      "Training tiles:  [1, 3, 5, 8, 11, 13, 14, 20]\n",
      "Validation tiles:  [6, 19]\n",
      "Test tiles:  [2, 4, 7, 9, 10, 12, 15, 16, 17, 18]\n"
     ]
    },
    {
     "name": "stderr",
     "output_type": "stream",
     "text": [
      "ic| im_idx_row.shape: (17730, 9200, 1)\n",
      "    im_idx_col.shape: (17730, 9200, 1)\n",
      "ic| im_idx_row.dtype: dtype('uint16')\n",
      "    im_idx_col.dtype: dtype('uint16')\n",
      "ic| im_idx.shape: (17730, 9200, 2), im_idx.dtype: dtype('uint16')\n",
      "ic| coords.shape: (464, 239, 1, 128, 128, 2)\n",
      "    coords.dtype: dtype('uint16')\n",
      "ic| coords.shape: (110896, 2), coords.dtype: dtype('uint16')\n",
      "ic| self.coords_train.shape: (41812, 3)\n",
      "    self.coords_val.shape: (10260, 3)\n"
     ]
    },
    {
     "name": "stdout",
     "output_type": "stream",
     "text": [
      "training samples:  (3753, 3) validation samples:  (1032, 3)\n",
      "time:  0\n",
      "Model: \"model_2\"\n",
      "__________________________________________________________________________________________________\n",
      "Layer (type)                    Output Shape         Param #     Connected to                     \n",
      "==================================================================================================\n",
      "input_enc_net (InputLayer)      [(None, 128, 128, 21 0                                            \n",
      "__________________________________________________________________________________________________\n",
      "res1_net1 (Conv2D)              (None, 128, 128, 16) 3040        input_enc_net[0][0]              \n",
      "__________________________________________________________________________________________________\n",
      "drop_net1 (Dropout)             (None, 128, 128, 16) 0           res1_net1[0][0]                  \n",
      "__________________________________________________________________________________________________\n",
      "res2_net1 (Conv2D)              (None, 128, 128, 16) 2320        drop_net1[0][0]                  \n",
      "__________________________________________________________________________________________________\n",
      "res3_net1 (Conv2D)              (None, 128, 128, 16) 352         input_enc_net[0][0]              \n",
      "__________________________________________________________________________________________________\n",
      "add_12 (Add)                    (None, 128, 128, 16) 0           res2_net1[0][0]                  \n",
      "                                                                 res3_net1[0][0]                  \n",
      "__________________________________________________________________________________________________\n",
      "pool_net1 (MaxPooling2D)        (None, 64, 64, 16)   0           add_12[0][0]                     \n",
      "__________________________________________________________________________________________________\n",
      "res1_net2 (Conv2D)              (None, 64, 64, 32)   4640        pool_net1[0][0]                  \n",
      "__________________________________________________________________________________________________\n",
      "drop_net2 (Dropout)             (None, 64, 64, 32)   0           res1_net2[0][0]                  \n",
      "__________________________________________________________________________________________________\n",
      "res2_net2 (Conv2D)              (None, 64, 64, 32)   9248        drop_net2[0][0]                  \n",
      "__________________________________________________________________________________________________\n",
      "res3_net2 (Conv2D)              (None, 64, 64, 32)   544         pool_net1[0][0]                  \n",
      "__________________________________________________________________________________________________\n",
      "add_13 (Add)                    (None, 64, 64, 32)   0           res2_net2[0][0]                  \n",
      "                                                                 res3_net2[0][0]                  \n",
      "__________________________________________________________________________________________________\n",
      "pool_net2 (MaxPooling2D)        (None, 32, 32, 32)   0           add_13[0][0]                     \n",
      "__________________________________________________________________________________________________\n",
      "res1_net3 (Conv2D)              (None, 32, 32, 64)   18496       pool_net2[0][0]                  \n",
      "__________________________________________________________________________________________________\n",
      "drop_net3 (Dropout)             (None, 32, 32, 64)   0           res1_net3[0][0]                  \n",
      "__________________________________________________________________________________________________\n",
      "res2_net3 (Conv2D)              (None, 32, 32, 64)   36928       drop_net3[0][0]                  \n",
      "__________________________________________________________________________________________________\n",
      "res3_net3 (Conv2D)              (None, 32, 32, 64)   2112        pool_net2[0][0]                  \n",
      "__________________________________________________________________________________________________\n",
      "add_14 (Add)                    (None, 32, 32, 64)   0           res2_net3[0][0]                  \n",
      "                                                                 res3_net3[0][0]                  \n",
      "__________________________________________________________________________________________________\n",
      "pool_net3 (MaxPooling2D)        (None, 16, 16, 64)   0           add_14[0][0]                     \n",
      "__________________________________________________________________________________________________\n",
      "res1_net4 (Conv2D)              (None, 16, 16, 64)   36928       pool_net3[0][0]                  \n",
      "__________________________________________________________________________________________________\n",
      "drop_net4 (Dropout)             (None, 16, 16, 64)   0           res1_net4[0][0]                  \n",
      "__________________________________________________________________________________________________\n",
      "res2_net4 (Conv2D)              (None, 16, 16, 64)   36928       drop_net4[0][0]                  \n",
      "__________________________________________________________________________________________________\n",
      "res3_net4 (Conv2D)              (None, 16, 16, 64)   4160        pool_net3[0][0]                  \n",
      "__________________________________________________________________________________________________\n",
      "add_15 (Add)                    (None, 16, 16, 64)   0           res2_net4[0][0]                  \n",
      "                                                                 res3_net4[0][0]                  \n",
      "__________________________________________________________________________________________________\n",
      "res1_net5 (Conv2D)              (None, 16, 16, 64)   36928       add_15[0][0]                     \n",
      "__________________________________________________________________________________________________\n",
      "drop_net5 (Dropout)             (None, 16, 16, 64)   0           res1_net5[0][0]                  \n",
      "__________________________________________________________________________________________________\n",
      "res2_net5 (Conv2D)              (None, 16, 16, 64)   36928       drop_net5[0][0]                  \n",
      "__________________________________________________________________________________________________\n",
      "res3_net5 (Conv2D)              (None, 16, 16, 64)   4160        add_15[0][0]                     \n",
      "__________________________________________________________________________________________________\n",
      "add_16 (Add)                    (None, 16, 16, 64)   0           res2_net5[0][0]                  \n",
      "                                                                 res3_net5[0][0]                  \n",
      "__________________________________________________________________________________________________\n",
      "res1_net6 (Conv2D)              (None, 16, 16, 64)   36928       add_16[0][0]                     \n",
      "__________________________________________________________________________________________________\n",
      "drop_net6 (Dropout)             (None, 16, 16, 64)   0           res1_net6[0][0]                  \n",
      "__________________________________________________________________________________________________\n",
      "res2_net6 (Conv2D)              (None, 16, 16, 64)   36928       drop_net6[0][0]                  \n",
      "__________________________________________________________________________________________________\n",
      "res3_net6 (Conv2D)              (None, 16, 16, 64)   4160        add_16[0][0]                     \n",
      "__________________________________________________________________________________________________\n",
      "add_17 (Add)                    (None, 16, 16, 64)   0           res2_net6[0][0]                  \n",
      "                                                                 res3_net6[0][0]                  \n",
      "__________________________________________________________________________________________________\n",
      "up_sampling2d_6 (UpSampling2D)  (None, 32, 32, 64)   0           add_17[0][0]                     \n",
      "__________________________________________________________________________________________________\n",
      "upsampling_net3 (Conv2D)        (None, 32, 32, 64)   36928       up_sampling2d_6[0][0]            \n",
      "__________________________________________________________________________________________________\n",
      "concatenate3 (Concatenate)      (None, 32, 32, 128)  0           add_14[0][0]                     \n",
      "                                                                 upsampling_net3[0][0]            \n",
      "__________________________________________________________________________________________________\n",
      "up_sampling2d_7 (UpSampling2D)  (None, 64, 64, 128)  0           concatenate3[0][0]               \n",
      "__________________________________________________________________________________________________\n",
      "upsampling_net2 (Conv2D)        (None, 64, 64, 32)   36896       up_sampling2d_7[0][0]            \n",
      "__________________________________________________________________________________________________\n",
      "concatenate2 (Concatenate)      (None, 64, 64, 64)   0           add_13[0][0]                     \n",
      "                                                                 upsampling_net2[0][0]            \n",
      "__________________________________________________________________________________________________\n",
      "up_sampling2d_8 (UpSampling2D)  (None, 128, 128, 64) 0           concatenate2[0][0]               \n",
      "__________________________________________________________________________________________________\n",
      "upsampling_net1 (Conv2D)        (None, 128, 128, 16) 9232        up_sampling2d_8[0][0]            \n",
      "__________________________________________________________________________________________________\n",
      "concatenate1 (Concatenate)      (None, 128, 128, 32) 0           add_12[0][0]                     \n",
      "                                                                 upsampling_net1[0][0]            \n",
      "__________________________________________________________________________________________________\n",
      "output (Conv2D)                 (None, 128, 128, 3)  99          concatenate1[0][0]               \n",
      "==================================================================================================\n",
      "Total params: 394,883\n",
      "Trainable params: 394,883\n",
      "Non-trainable params: 0\n",
      "__________________________________________________________________________________________________\n"
     ]
    },
    {
     "name": "stderr",
     "output_type": "stream",
     "text": [
      "c:\\Users\\jchamorro\\Anaconda3\\envs\\tf2\\lib\\site-packages\\tensorflow\\python\\keras\\optimizer_v2\\optimizer_v2.py:374: UserWarning: The `lr` argument is deprecated, use `learning_rate` instead.\n",
      "  warnings.warn(\n",
      "c:\\Users\\jchamorro\\Anaconda3\\envs\\tf2\\lib\\site-packages\\tensorflow\\python\\keras\\engine\\training.py:1969: UserWarning: `Model.fit_generator` is deprecated and will be removed in a future version. Please use `Model.fit`, which supports generators.\n",
      "  warnings.warn('`Model.fit_generator` is deprecated and '\n"
     ]
    },
    {
     "name": "stdout",
     "output_type": "stream",
     "text": [
      "Epoch 1/100\n",
      "self.global_step 0.0\n",
      "alpha Tensor(\"loss/add:0\", shape=(None, 128, 128, 3), dtype=float32)\n",
      "u Tensor(\"loss/truediv:0\", shape=(None, 128, 128, 1), dtype=float32)\n",
      "alpha Tensor(\"add:0\", shape=(None, 128, 128, 3), dtype=float32)\n",
      "u Tensor(\"truediv:0\", shape=(None, 128, 128, 1), dtype=float32)\n",
      "K.int_shape(KL_reg) Tensor(\"mul_6:0\", shape=(None, 128, 128, 1), dtype=float32)\n",
      "alpha Tensor(\"add_7:0\", shape=(None, 128, 128, 3), dtype=float32)\n",
      "u Tensor(\"truediv_5:0\", shape=(None, 128, 128, 1), dtype=float32)\n",
      "K.int_shape(KL_reg) Tensor(\"mul_12:0\", shape=(None, 128, 128, 1), dtype=float32)\n",
      "alpha Tensor(\"loss/add:0\", shape=(None, 128, 128, 3), dtype=float32)\n",
      "u Tensor(\"loss/truediv:0\", shape=(None, 128, 128, 1), dtype=float32)\n",
      "alpha Tensor(\"add:0\", shape=(None, 128, 128, 3), dtype=float32)\n",
      "u Tensor(\"truediv:0\", shape=(None, 128, 128, 1), dtype=float32)\n",
      "K.int_shape(KL_reg) Tensor(\"mul_6:0\", shape=(None, 128, 128, 1), dtype=float32)\n",
      "alpha Tensor(\"add_7:0\", shape=(None, 128, 128, 3), dtype=float32)\n",
      "u Tensor(\"truediv_5:0\", shape=(None, 128, 128, 1), dtype=float32)\n",
      "K.int_shape(KL_reg) Tensor(\"mul_12:0\", shape=(None, 128, 128, 1), dtype=float32)\n",
      "351/351 [==============================] - ETA: 0s - loss: 0.2558 - accuracy: 0.8371 - KL_term: 0.0107 - loglikelihood_term: 0.2447 - evidential_success: 49.2908 - evidential_fail: 6.2035 - acc: 0.8374 - annealing_coef: 0.0700 - global_step_get: 175.0000 - annealing_step_get: 2500.0000alpha Tensor(\"loss/add:0\", shape=(None, 128, 128, 3), dtype=float32)\n",
      "u Tensor(\"loss/truediv:0\", shape=(None, 128, 128, 1), dtype=float32)\n",
      "alpha Tensor(\"add:0\", shape=(None, 128, 128, 3), dtype=float32)\n",
      "u Tensor(\"truediv:0\", shape=(None, 128, 128, 1), dtype=float32)\n",
      "K.int_shape(KL_reg) Tensor(\"mul_6:0\", shape=(None, 128, 128, 1), dtype=float32)\n",
      "alpha Tensor(\"add_7:0\", shape=(None, 128, 128, 3), dtype=float32)\n",
      "u Tensor(\"truediv_5:0\", shape=(None, 128, 128, 1), dtype=float32)\n",
      "K.int_shape(KL_reg) Tensor(\"mul_12:0\", shape=(None, 128, 128, 1), dtype=float32)\n",
      "351/351 [==============================] - 33s 90ms/step - loss: 0.2558 - accuracy: 0.8371 - KL_term: 0.0107 - loglikelihood_term: 0.2447 - evidential_success: 49.2908 - evidential_fail: 6.2035 - acc: 0.8374 - annealing_coef: 0.0700 - global_step_get: 175.0000 - annealing_step_get: 2500.0000 - val_loss: 0.1720 - val_accuracy: 0.9094 - val_KL_term: 0.0204 - val_loglikelihood_term: 0.1506 - val_evidential_success: 53.4429 - val_evidential_fail: 6.7810 - val_acc: 0.9100 - val_annealing_coef: 0.1400 - val_global_step_get: 350.0000 - val_annealing_step_get: 2500.0000\n",
      "\n",
      "Epoch 00001: val_loss improved from inf to 0.17196, saving model to D:/Jorge/datasets/deforestation/experiments/exp143/models\\resunet_0.h5\n",
      "Epoch 2/100\n",
      "self.global_step 350.0\n",
      "  1/351 [..............................] - ETA: 25s - loss: 0.1520 - accuracy: 0.9099 - KL_term: 0.0000e+00 - loglikelihood_term: 0.1520 - evidential_success: 65.0769 - evidential_fail: 7.2975 - acc: 0.9099 - annealing_coef: 0.0000e+00 - global_step_get: 0.0000e+00 - annealing_step_get: 2500.0000"
     ]
    },
    {
     "name": "stderr",
     "output_type": "stream",
     "text": [
      "c:\\Users\\jchamorro\\Anaconda3\\envs\\tf2\\lib\\site-packages\\tensorflow\\python\\keras\\utils\\generic_utils.py:494: CustomMaskWarning: Custom mask layers require a config and must override get_config. When loading, the custom mask layer must be passed to the custom_objects argument.\n",
      "  warnings.warn('Custom mask layers require a config and must override '\n"
     ]
    },
    {
     "name": "stdout",
     "output_type": "stream",
     "text": [
      "351/351 [==============================] - 31s 88ms/step - loss: 0.1437 - accuracy: 0.9245 - KL_term: 0.0161 - loglikelihood_term: 0.1276 - evidential_success: 90.5731 - evidential_fail: 9.0361 - acc: 0.9245 - annealing_coef: 0.1400 - global_step_get: 350.0000 - annealing_step_get: 2500.0000 - val_loss: 0.1517 - val_accuracy: 0.9282 - val_KL_term: 0.0291 - val_loglikelihood_term: 0.1224 - val_evidential_success: 65.0986 - val_evidential_fail: 7.6974 - val_acc: 0.9287 - val_annealing_coef: 0.2800 - val_global_step_get: 700.0000 - val_annealing_step_get: 2500.0000\n",
      "\n",
      "Epoch 00002: val_loss improved from 0.17196 to 0.15170, saving model to D:/Jorge/datasets/deforestation/experiments/exp143/models\\resunet_0.h5\n",
      "Epoch 3/100\n",
      "self.global_step 700.0\n",
      "351/351 [==============================] - 31s 88ms/step - loss: 0.1385 - accuracy: 0.9306 - KL_term: 0.0188 - loglikelihood_term: 0.1197 - evidential_success: 96.9045 - evidential_fail: 7.7750 - acc: 0.9306 - annealing_coef: 0.2100 - global_step_get: 525.0000 - annealing_step_get: 2500.0000 - val_loss: 0.1685 - val_accuracy: 0.9279 - val_KL_term: 0.0406 - val_loglikelihood_term: 0.1273 - val_evidential_success: 60.9750 - val_evidential_fail: 5.3550 - val_acc: 0.9285 - val_annealing_coef: 0.4200 - val_global_step_get: 1050.0000 - val_annealing_step_get: 2500.0000\n",
      "\n",
      "Epoch 00003: val_loss did not improve from 0.15170\n",
      "Epoch 4/100\n",
      "self.global_step 1050.0\n",
      "351/351 [==============================] - 31s 88ms/step - loss: 0.1347 - accuracy: 0.9350 - KL_term: 0.0205 - loglikelihood_term: 0.1143 - evidential_success: 101.2723 - evidential_fail: 6.7927 - acc: 0.9349 - annealing_coef: 0.2800 - global_step_get: 700.0000 - annealing_step_get: 2500.0000 - val_loss: 0.1780 - val_accuracy: 0.9273 - val_KL_term: 0.0462 - val_loglikelihood_term: 0.1306 - val_evidential_success: 55.4355 - val_evidential_fail: 4.1387 - val_acc: 0.9278 - val_annealing_coef: 0.5600 - val_global_step_get: 1400.0000 - val_annealing_step_get: 2500.0000\n",
      "\n",
      "Epoch 00004: val_loss did not improve from 0.15170\n",
      "Epoch 5/100\n",
      "self.global_step 1400.0\n",
      "351/351 [==============================] - 31s 88ms/step - loss: 0.1318 - accuracy: 0.9384 - KL_term: 0.0217 - loglikelihood_term: 0.1099 - evidential_success: 104.6351 - evidential_fail: 6.2666 - acc: 0.9385 - annealing_coef: 0.3500 - global_step_get: 875.0000 - annealing_step_get: 2500.0000 - val_loss: 0.1939 - val_accuracy: 0.9266 - val_KL_term: 0.0629 - val_loglikelihood_term: 0.1307 - val_evidential_success: 63.3066 - val_evidential_fail: 4.6461 - val_acc: 0.9271 - val_annealing_coef: 0.7000 - val_global_step_get: 1750.0000 - val_annealing_step_get: 2500.0000\n",
      "\n",
      "Epoch 00005: val_loss did not improve from 0.15170\n",
      "Epoch 6/100\n",
      "self.global_step 1750.0\n",
      "351/351 [==============================] - 31s 88ms/step - loss: 0.1334 - accuracy: 0.9392 - KL_term: 0.0233 - loglikelihood_term: 0.1101 - evidential_success: 103.6932 - evidential_fail: 5.6591 - acc: 0.9392 - annealing_coef: 0.4200 - global_step_get: 1050.0000 - annealing_step_get: 2500.0000 - val_loss: 0.1782 - val_accuracy: 0.9332 - val_KL_term: 0.0442 - val_loglikelihood_term: 0.1340 - val_evidential_success: 53.0476 - val_evidential_fail: 2.7298 - val_acc: 0.9337 - val_annealing_coef: 0.8400 - val_global_step_get: 2100.0000 - val_annealing_step_get: 2500.0000\n",
      "\n",
      "Epoch 00006: val_loss did not improve from 0.15170\n",
      "Epoch 7/100\n",
      "self.global_step 2100.0\n",
      "351/351 [==============================] - 31s 88ms/step - loss: 0.1307 - accuracy: 0.9420 - KL_term: 0.0238 - loglikelihood_term: 0.1070 - evidential_success: 107.9998 - evidential_fail: 5.2920 - acc: 0.9419 - annealing_coef: 0.4900 - global_step_get: 1225.0000 - annealing_step_get: 2500.0000 - val_loss: 0.1955 - val_accuracy: 0.9302 - val_KL_term: 0.0641 - val_loglikelihood_term: 0.1318 - val_evidential_success: 70.8990 - val_evidential_fail: 3.4003 - val_acc: 0.9307 - val_annealing_coef: 0.9800 - val_global_step_get: 2450.0000 - val_annealing_step_get: 2500.0000\n",
      "\n",
      "Epoch 00007: val_loss did not improve from 0.15170\n",
      "Epoch 8/100\n",
      "self.global_step 2450.0\n",
      "351/351 [==============================] - 31s 89ms/step - loss: 0.1298 - accuracy: 0.9434 - KL_term: 0.0242 - loglikelihood_term: 0.1054 - evidential_success: 110.2810 - evidential_fail: 4.9390 - acc: 0.9434 - annealing_coef: 0.5534 - global_step_get: 1400.0000 - annealing_step_get: 2500.0000 - val_loss: 0.1962 - val_accuracy: 0.9313 - val_KL_term: 0.0624 - val_loglikelihood_term: 0.1336 - val_evidential_success: 63.6382 - val_evidential_fail: 2.9626 - val_acc: 0.9318 - val_annealing_coef: 1.0000 - val_global_step_get: 2800.0000 - val_annealing_step_get: 2500.0000\n",
      "\n",
      "Epoch 00008: val_loss did not improve from 0.15170\n",
      "Epoch 9/100\n",
      "self.global_step 2800.0\n",
      "351/351 [==============================] - 31s 89ms/step - loss: 0.1271 - accuracy: 0.9449 - KL_term: 0.0240 - loglikelihood_term: 0.1032 - evidential_success: 111.2703 - evidential_fail: 4.4975 - acc: 0.9449 - annealing_coef: 0.6029 - global_step_get: 1575.0000 - annealing_step_get: 2500.0000 - val_loss: 0.2099 - val_accuracy: 0.9281 - val_KL_term: 0.0612 - val_loglikelihood_term: 0.1482 - val_evidential_success: 72.5541 - val_evidential_fail: 3.1715 - val_acc: 0.9287 - val_annealing_coef: 1.0000 - val_global_step_get: 3150.0000 - val_annealing_step_get: 2500.0000\n",
      "\n",
      "Epoch 00009: val_loss did not improve from 0.15170\n",
      "Epoch 10/100\n",
      "self.global_step 3150.0\n",
      "351/351 [==============================] - 31s 88ms/step - loss: 0.1278 - accuracy: 0.9454 - KL_term: 0.0246 - loglikelihood_term: 0.1032 - evidential_success: 114.7830 - evidential_fail: 4.3953 - acc: 0.9454 - annealing_coef: 0.6425 - global_step_get: 1750.0000 - annealing_step_get: 2500.0000 - val_loss: 0.1923 - val_accuracy: 0.9281 - val_KL_term: 0.0502 - val_loglikelihood_term: 0.1417 - val_evidential_success: 89.6662 - val_evidential_fail: 2.5389 - val_acc: 0.9288 - val_annealing_coef: 1.0000 - val_global_step_get: 3500.0000 - val_annealing_step_get: 2500.0000\n",
      "\n",
      "Epoch 00010: val_loss did not improve from 0.15170\n",
      "Epoch 11/100\n",
      "self.global_step 3500.0\n",
      "351/351 [==============================] - 31s 88ms/step - loss: 0.1228 - accuracy: 0.9476 - KL_term: 0.0236 - loglikelihood_term: 0.0994 - evidential_success: 118.5625 - evidential_fail: 4.1220 - acc: 0.9475 - annealing_coef: 0.6748 - global_step_get: 1925.0000 - annealing_step_get: 2500.0000 - val_loss: 0.2205 - val_accuracy: 0.9305 - val_KL_term: 0.0883 - val_loglikelihood_term: 0.1321 - val_evidential_success: 88.9300 - val_evidential_fail: 5.4691 - val_acc: 0.9310 - val_annealing_coef: 1.0000 - val_global_step_get: 3850.0000 - val_annealing_step_get: 2500.0000\n",
      "\n",
      "Epoch 00011: val_loss did not improve from 0.15170\n",
      "Epoch 12/100\n",
      "self.global_step 3850.0\n",
      "351/351 [==============================] - 31s 89ms/step - loss: 0.1188 - accuracy: 0.9495 - KL_term: 0.0230 - loglikelihood_term: 0.0957 - evidential_success: 125.2547 - evidential_fail: 3.9815 - acc: 0.9495 - annealing_coef: 0.7018 - global_step_get: 2100.0000 - annealing_step_get: 2500.0000 - val_loss: 0.2267 - val_accuracy: 0.9209 - val_KL_term: 0.0791 - val_loglikelihood_term: 0.1466 - val_evidential_success: 104.4676 - val_evidential_fail: 4.2327 - val_acc: 0.9217 - val_annealing_coef: 1.0000 - val_global_step_get: 4200.0000 - val_annealing_step_get: 2500.0000\n",
      "\n",
      "Epoch 00012: val_loss did not improve from 0.15170\n",
      "Epoch 00012: early stopping\n",
      "-30.0 -16.0\n"
     ]
    },
    {
     "name": "stderr",
     "output_type": "stream",
     "text": [
      "ic| self.path_models+ '/' + self.method +'_'+str(0)+'.h5': 'D:/Jorge/datasets/deforestation/experiments/exp143/models/resunet_0.h5'\n"
     ]
    },
    {
     "name": "stdout",
     "output_type": "stream",
     "text": [
      "time:  0\n",
      "(54236371,)\n",
      "(array([0, 1], dtype=uint8), array([53470765,   765606], dtype=int64))\n",
      "(17730, 9200)\n",
      "(array([0., 1.], dtype=float32), array([161450790,   1665210], dtype=int64))\n"
     ]
    },
    {
     "name": "stderr",
     "output_type": "stream",
     "text": [
      "ic| self.predicted_unpad.shape: (17730, 9200)\n",
      "    self.predicted.shape: (17730, 9200)\n",
      "ic| predicted_test.shape: (81558000,)\n",
      "ic| predicted_test.shape: (54236371,)\n",
      "ic| np.unique(predicted, return_counts=True): (array([0., 1.], dtype=float32), array([161450790,   1665210], dtype=int64))\n",
      "    np.unique(predicted_larger_than_min_area, return_counts=True): (array([0., 1.], dtype=float32), array([161583262,   1532738], dtype=int64))\n",
      "ic| np.unique(ignored_polygons, return_counts=True): (array([0., 1.], dtype=float32), array([162983528,    132472], dtype=int64))\n",
      "ic| predicted.shape: (17730, 9200), label_mask.shape: (17730, 9200)\n",
      "ic| predicted_masked.shape: (81558000,)\n",
      "    label_masked.shape: (81558000,)\n",
      "ic| np.unique(label_masked, return_counts=True): (array([0, 1, 2], dtype=uint8),\n",
      "                                                  array([53433732,   737291, 27386977], dtype=int64))\n",
      "ic| predicted_masked.shape: (54171023,)\n",
      "    label_masked.shape: (54171023,)\n",
      "ic| self.f1: 81.4, self.precision: 88.68, self.recall: 75.24\n",
      "ic| self.label_mask_val.shape: (16311600,)\n",
      "ic| self.label_mask_val_valid.shape: (9432807,)\n",
      "ic| f1_val: 86.4\n",
      "    precision_val: 86.57\n",
      "    recall_val: 86.23\n",
      "    mAP_val: 92.39\n"
     ]
    },
    {
     "name": "stdout",
     "output_type": "stream",
     "text": [
      "(array([0., 1.], dtype=float32), array([162441398,    674602], dtype=int64))\n"
     ]
    },
    {
     "name": "stderr",
     "output_type": "stream",
     "text": [
      "ic| self.label_mask.shape: (17730, 9200)\n",
      "ic| self.mask_amazon_ts.shape: (17730, 9200)\n",
      "ic| self.label_mask_test.shape: (81558000,)\n",
      "ic| self.error_mask_test.shape: (54171023,)\n",
      "ic| bounds: (0.015, 0.9985)\n",
      "c:\\Users\\jchamorro\\Anaconda3\\envs\\tf2\\lib\\site-packages\\scipy\\optimize\\_minimize.py:783: RuntimeWarning: Method 'bounded' does not support relative tolerance in x; defaulting to absolute tolerance.\n",
      "  warn(\"Method 'bounded' does not support relative tolerance in x; \"\n"
     ]
    },
    {
     "name": "stdout",
     "output_type": "stream",
     "text": [
      "0.3906635720644784\n",
      "threshold 0.3906635720644784\n",
      "(53214278,) (53214278,)\n"
     ]
    },
    {
     "name": "stderr",
     "output_type": "stream",
     "text": [
      "ic| label_current_deforestation_test_classified_incorrect.shape: (956745,)\n",
      "    predicted_test_classified_incorrect.shape: (956745,)\n",
      "ic| TP_H + FN_H + FP_H + TN_H: 956745\n",
      "    len(label_mask_current_deforestation_test): 54171023\n",
      "ic| TP_H + FN_H + FP_H + TN_H: 956745\n",
      "    len(label_mask_current_deforestation_test): 54171023\n"
     ]
    },
    {
     "name": "stdout",
     "output_type": "stream",
     "text": [
      "cm_correct [[52659381    11711]\n",
      " [   85816   457370]]\n",
      "cm_incorrect [[703509  59131]\n",
      " [ 96766  97339]]\n",
      "[0.97503416 0.8420136  0.62033851 0.01766156 0.62209369 0.50147601]\n",
      "0.6228364279355216\n",
      "threshold 0.6228364279355216\n",
      "(53865490,) (53865490,)\n"
     ]
    },
    {
     "name": "stderr",
     "output_type": "stream",
     "text": [
      "ic| label_current_deforestation_test_classified_incorrect.shape: (305533,)\n",
      "    predicted_test_classified_incorrect.shape: (305533,)\n",
      "ic| TP_H + FN_H + FP_H + TN_H: 305533\n",
      "    len(label_mask_current_deforestation_test): 54171023\n",
      "ic| TP_H + FN_H + FP_H + TN_H: 305533\n",
      "    len(label_mask_current_deforestation_test): 54171023\n"
     ]
    },
    {
     "name": "stdout",
     "output_type": "stream",
     "text": [
      "cm_correct [[53155702    58866]\n",
      " [  115018   535904]]\n",
      "cm_incorrect [[207188  11976]\n",
      " [ 67564  18805]]\n",
      "[0.90102729 0.82329987 0.72685547 0.00564016 0.61092882 0.21772858]\n",
      "0.24717285587104318\n",
      "threshold 0.24717285587104318\n",
      "(52473292,) (52473292,)\n"
     ]
    },
    {
     "name": "stderr",
     "output_type": "stream",
     "text": [
      "ic| label_current_deforestation_test_classified_incorrect.shape: (1697731,)\n",
      "    predicted_test_classified_incorrect.shape: (1697731,)\n",
      "ic"
     ]
    },
    {
     "name": "stdout",
     "output_type": "stream",
     "text": [
      "cm_correct [[52099089     1245]\n",
      " [   69809   303149]]\n",
      "cm_incorrect [[1263801   69597]\n",
      " [ 112773  251560]]\n"
     ]
    },
    {
     "name": "stderr",
     "output_type": "stream",
     "text": [
      "| TP_H + FN_H + FP_H + TN_H: 1697731\n",
      "    len(label_mask_current_deforestation_test): 54171023\n",
      "ic| TP_H + FN_H + FP_H + TN_H: 1697731\n",
      "    len(label_mask_current_deforestation_test): 54171023\n"
     ]
    },
    {
     "name": "stdout",
     "output_type": "stream",
     "text": [
      "[0.99590991 0.81282343 0.41116601 0.03134021 0.78329291 0.69046724]\n",
      "0.15849071619343527\n",
      "threshold 0.15849071619343527\n",
      "(51613540,) (51613540,)\n"
     ]
    },
    {
     "name": "stderr",
     "output_type": "stream",
     "text": [
      "ic| label_current_deforestation_test_classified_incorrect.shape: (2557483,)\n",
      "    predicted_test_classified_incorrect.shape: (2557483,)\n"
     ]
    },
    {
     "name": "stdout",
     "output_type": "stream",
     "text": [
      "cm_correct [[51516819        0]\n",
      " [   56673    40048]]\n"
     ]
    },
    {
     "name": "stderr",
     "output_type": "stream",
     "text": [
      "ic| TP_H + FN_H + FP_H + TN_H: 2557483\n",
      "    len(label_mask_current_deforestation_test): 54171023\n",
      "ic| TP_H + FN_H + FP_H + TN_H: 2557483\n",
      "    len(label_mask_current_deforestation_test): 54171023\n"
     ]
    },
    {
     "name": "stdout",
     "output_type": "stream",
     "text": [
      "cm_incorrect [[1846071   70842]\n",
      " [ 125909  514661]]\n",
      "[1.         0.41405693 0.05431777 0.04721127 0.8790066  0.80344225]\n",
      "0.2841087980513247\n",
      "threshold 0.2841087980513247\n",
      "(52693899,) (52693899,)\n"
     ]
    },
    {
     "name": "stderr",
     "output_type": "stream",
     "text": [
      "ic| label_current_deforestation_test_classified_incorrect.shape: (1477124,)\n",
      "    predicted_test_classified_incorrect.shape: (1477124,)\n",
      "ic"
     ]
    },
    {
     "name": "stdout",
     "output_type": "stream",
     "text": [
      "cm_correct [[52261418     2528]\n",
      " [   73964   355989]]\n",
      "cm_incorrect [[1101472   68314]\n",
      " [ 108618  198720]]\n"
     ]
    },
    {
     "name": "stderr",
     "output_type": "stream",
     "text": [
      "| TP_H + FN_H + FP_H + TN_H: 1477124\n",
      "    len(label_mask_current_deforestation_test): 54171023\n",
      "ic| TP_H + FN_H + FP_H + TN_H: 1477124\n",
      "    len(label_mask_current_deforestation_test): 54171023\n"
     ]
    },
    {
     "name": "stdout",
     "output_type": "stream",
     "text": [
      "[0.99294873 0.82797189 0.48283378 0.02726779 0.7441749  0.64658454]\n",
      "0.21410507912939386\n",
      "threshold 0.21410507912939386\n",
      "(52234975,) (52234975,)\n"
     ]
    },
    {
     "name": "stderr",
     "output_type": "stream",
     "text": [
      "ic| label_current_deforestation_test_classified_incorrect.shape: (1936048,)\n",
      "    predicted_test_classified_incorrect.shape: (1936048,)\n"
     ]
    },
    {
     "name": "stdout",
     "output_type": "stream",
     "text": [
      "cm_correct [[51927681      367]\n",
      " [   65770   241157]]\n"
     ]
    },
    {
     "name": "stderr",
     "output_type": "stream",
     "text": [
      "ic| TP_H + FN_H + FP_H + TN_H: 1936048\n",
      "    len(label_mask_current_deforestation_test): 54171023\n",
      "ic| TP_H + FN_H + FP_H + TN_H: 1936048\n",
      "    len(label_mask_current_deforestation_test): 54171023\n"
     ]
    },
    {
     "name": "stdout",
     "output_type": "stream",
     "text": [
      "cm_incorrect [[1435209   70475]\n",
      " [ 116812  313552]]\n",
      "[0.99848048 0.78571452 0.32708524 0.03573955 0.81648426 0.72857395]\n",
      "0.25791437467822576\n",
      "threshold 0.25791437467822576\n",
      "(52541386,) (52541386,)\n"
     ]
    },
    {
     "name": "stderr",
     "output_type": "stream",
     "text": [
      "ic| label_current_deforestation_test_classified_incorrect.shape: (1629637,)\n",
      "    predicted_test_classified_incorrect.shape: (1629637,)\n",
      "ic"
     ]
    },
    {
     "name": "stdout",
     "output_type": "stream",
     "text": [
      "cm_correct [[52148687     1569]\n",
      " [   71051   320079]]\n",
      "cm_incorrect [[1214203   69273]\n",
      " [ 111531  234630]]\n"
     ]
    },
    {
     "name": "stderr",
     "output_type": "stream",
     "text": [
      "| TP_H + FN_H + FP_H + TN_H: 1629637\n",
      "    len(label_mask_current_deforestation_test): 54171023\n",
      "ic| TP_H + FN_H + FP_H + TN_H: 1629637\n",
      "    len(label_mask_current_deforestation_test): 54171023\n"
     ]
    },
    {
     "name": "stdout",
     "output_type": "stream",
     "text": [
      "[0.995122   0.81834428 0.43412845 0.03008319 0.77205556 0.67780599]\n",
      "0.26245040179732443\n",
      "threshold 0.26245040179732443\n",
      "(52569403,) (52569403,)\n"
     ]
    },
    {
     "name": "stderr",
     "output_type": "stream",
     "text": [
      "ic| label_current_deforestation_test_classified_incorrect.shape: (1601620,)\n",
      "    predicted_test_classified_incorrect.shape: (1601620,)\n",
      "ic"
     ]
    },
    {
     "name": "stdout",
     "output_type": "stream",
     "text": [
      "cm_correct [[52169114     1738]\n",
      " [   71568   326983]]\n",
      "cm_incorrect [[1193776   69104]\n",
      " [ 111014  227726]]\n"
     ]
    },
    {
     "name": "stderr",
     "output_type": "stream",
     "text": [
      "| TP_H + FN_H + FP_H + TN_H: 1601620\n",
      "    len(label_mask_current_deforestation_test): 54171023\n",
      "ic| TP_H + FN_H + FP_H + TN_H: 1601620\n",
      "    len(label_mask_current_deforestation_test): 54171023\n"
     ]
    },
    {
     "name": "stdout",
     "output_type": "stream",
     "text": [
      "[0.99471284 0.82042951 0.44349246 0.02956599 0.76719334 0.67227372]\n",
      "0.2571427957516843\n",
      "threshold 0.2571427957516843\n",
      "(52536618,) (52536618,)\n"
     ]
    },
    {
     "name": "stderr",
     "output_type": "stream",
     "text": [
      "ic| label_current_deforestation_test_classified_incorrect.shape: (1634405,)\n",
      "    predicted_test_classified_incorrect.shape: (1634405,)\n",
      "ic"
     ]
    },
    {
     "name": "stdout",
     "output_type": "stream",
     "text": [
      "cm_correct [[52145270     1539]\n",
      " [   70968   318841]]\n",
      "cm_incorrect [[1217620   69303]\n",
      " [ 111614  235868]]\n"
     ]
    },
    {
     "name": "stderr",
     "output_type": "stream",
     "text": [
      "| TP_H + FN_H + FP_H + TN_H: 1634405\n",
      "    len(label_mask_current_deforestation_test): 54171023\n",
      "ic| TP_H + FN_H + FP_H + TN_H: 1634405\n",
      "    len(label_mask_current_deforestation_test): 54171023\n"
     ]
    },
    {
     "name": "stdout",
     "output_type": "stream",
     "text": [
      "[0.99519633 0.81794161 0.43244933 0.0301712  0.77290437 0.67879199]\n",
      "0.25911012370646896\n",
      "threshold 0.25911012370646896\n",
      "(52548764,) (52548764,)\n"
     ]
    },
    {
     "name": "stderr",
     "output_type": "stream",
     "text": [
      "ic| label_current_deforestation_test_classified_incorrect.shape: (1622259,)\n",
      "    predicted_test_classified_incorrect.shape: (1622259,)\n",
      "ic"
     ]
    },
    {
     "name": "stdout",
     "output_type": "stream",
     "text": [
      "cm_correct [[52154075     1608]\n",
      " [   71194   321887]]\n",
      "cm_incorrect [[1208815   69234]\n",
      " [ 111388  232822]]\n"
     ]
    },
    {
     "name": "stderr",
     "output_type": "stream",
     "text": [
      "| TP_H + FN_H + FP_H + TN_H: 1622259\n",
      "    len(label_mask_current_deforestation_test): 54171023\n",
      "ic| TP_H + FN_H + FP_H + TN_H: 1622259\n",
      "    len(label_mask_current_deforestation_test): 54171023\n"
     ]
    },
    {
     "name": "stdout",
     "output_type": "stream",
     "text": [
      "[0.99502929 0.81888211 0.43658067 0.02994699 0.77079085 0.67639522]\n",
      "0.25879166557410044\n",
      "threshold 0.25879166557410044\n",
      "(52546851,) (52546851,)\n"
     ]
    },
    {
     "name": "stderr",
     "output_type": "stream",
     "text": [
      "ic| label_current_deforestation_test_classified_incorrect.shape: (1624172,)\n",
      "    predicted_test_classified_incorrect.shape: (1624172,)\n",
      "ic"
     ]
    },
    {
     "name": "stdout",
     "output_type": "stream",
     "text": [
      "cm_correct [[52152686     1604]\n",
      " [   71163   321398]]\n",
      "cm_incorrect [[1210204   69238]\n",
      " [ 111419  233311]]\n"
     ]
    },
    {
     "name": "stderr",
     "output_type": "stream",
     "text": [
      "| TP_H + FN_H + FP_H + TN_H: 1624172\n",
      "    len(label_mask_current_deforestation_test): 54171023\n",
      "ic| TP_H + FN_H + FP_H + TN_H: 1624172\n",
      "    len(label_mask_current_deforestation_test): 54171023\n"
     ]
    },
    {
     "name": "stdout",
     "output_type": "stream",
     "text": [
      "[0.99503409 0.81872117 0.43591743 0.0299823  0.77115112 0.67679343]\n",
      "0.25859356625191227\n",
      "threshold 0.25859356625191227\n",
      "(52545611,) (52545611,)\n"
     ]
    },
    {
     "name": "stderr",
     "output_type": "stream",
     "text": [
      "ic| label_current_deforestation_test_classified_incorrect.shape: (1625412,)\n",
      "    predicted_test_classified_incorrect.shape: (1625412,)\n",
      "ic"
     ]
    },
    {
     "name": "stdout",
     "output_type": "stream",
     "text": [
      "cm_correct [[52151805     1596]\n",
      " [   71135   321075]]\n",
      "cm_incorrect [[1211085   69246]\n",
      " [ 111447  233634]]\n"
     ]
    },
    {
     "name": "stderr",
     "output_type": "stream",
     "text": [
      "| TP_H + FN_H + FP_H + TN_H: 1625412\n",
      "    len(label_mask_current_deforestation_test): 54171023\n",
      "ic| TP_H + FN_H + FP_H + TN_H: 1625412\n",
      "    len(label_mask_current_deforestation_test): 54171023\n"
     ]
    },
    {
     "name": "stdout",
     "output_type": "stream",
     "text": [
      "[0.99505379 0.81863033 0.43547934 0.03000519 0.7713748  0.67704104]\n",
      "0.25833413815563655\n",
      "threshold 0.25833413815563655\n",
      "(52544013,) (52544013,)\n"
     ]
    },
    {
     "name": "stderr",
     "output_type": "stream",
     "text": [
      "ic| label_current_deforestation_test_classified_incorrect.shape: (1627010,)\n",
      "    predicted_test_classified_incorrect.shape: (1627010,)\n",
      "ic"
     ]
    },
    {
     "name": "stdout",
     "output_type": "stream",
     "text": [
      "cm_correct [[52150622     1587]\n",
      " [   71105   320699]]\n",
      "cm_incorrect [[1212268   69255]\n",
      " [ 111477  234010]]\n"
     ]
    },
    {
     "name": "stderr",
     "output_type": "stream",
     "text": [
      "| TP_H + FN_H + FP_H + TN_H: 1627010\n",
      "    len(label_mask_current_deforestation_test): 54171023\n",
      "ic| TP_H + FN_H + FP_H + TN_H: 1627010\n",
      "    len(label_mask_current_deforestation_test): 54171023\n"
     ]
    },
    {
     "name": "stdout",
     "output_type": "stream",
     "text": [
      "[0.9950758  0.81851895 0.43496937 0.03003469 0.77163537 0.67733373]\n",
      "0.258626903420808\n",
      "threshold 0.258626903420808\n",
      "(52545836,) (52545836,)\n"
     ]
    },
    {
     "name": "stderr",
     "output_type": "stream",
     "text": [
      "ic| label_current_deforestation_test_classified_incorrect.shape: (1625187,)\n",
      "    predicted_test_classified_incorrect.shape: (1625187,)\n",
      "ic"
     ]
    },
    {
     "name": "stdout",
     "output_type": "stream",
     "text": [
      "cm_correct [[52151974     1597]\n",
      " [   71140   321125]]\n",
      "cm_incorrect [[1210916   69245]\n",
      " [ 111442  233584]]\n"
     ]
    },
    {
     "name": "stderr",
     "output_type": "stream",
     "text": [
      "| TP_H + FN_H + FP_H + TN_H: 1625187\n",
      "    len(label_mask_current_deforestation_test): 54171023\n",
      "ic| TP_H + FN_H + FP_H + TN_H: 1625187\n",
      "    len(label_mask_current_deforestation_test): 54171023\n"
     ]
    },
    {
     "name": "stdout",
     "output_type": "stream",
     "text": [
      "[0.99505147 0.81864301 0.43554716 0.03000104 0.7713396  0.67700405]\n",
      "0.2586649136748793\n",
      "threshold 0.2586649136748793\n",
      "(52546049,) (52546049,)\n"
     ]
    },
    {
     "name": "stderr",
     "output_type": "stream",
     "text": [
      "ic| label_current_deforestation_test_classified_incorrect.shape: (1624974,)\n",
      "    predicted_test_classified_incorrect.shape: (1624974,)\n",
      "ic"
     ]
    },
    {
     "name": "stdout",
     "output_type": "stream",
     "text": [
      "cm_correct [[52152126     1598]\n",
      " [   71145   321180]]\n",
      "cm_incorrect [[1210764   69244]\n",
      " [ 111437  233529]]\n"
     ]
    },
    {
     "name": "stderr",
     "output_type": "stream",
     "text": [
      "| TP_H + FN_H + FP_H + TN_H: 1624974\n",
      "    len(label_mask_current_deforestation_test): 54171023\n",
      "ic| TP_H + FN_H + FP_H + TN_H: 1624974\n",
      "    len(label_mask_current_deforestation_test): 54171023\n",
      "ic| self.threshold_optimal: 0.258626903420808\n"
     ]
    },
    {
     "name": "stdout",
     "output_type": "stream",
     "text": [
      "[0.99504923 0.818658   0.43562176 0.02999711 0.77130061 0.67696237]\n",
      "threshold 0.258626903420808\n",
      "(52545836,) (52545836,)\n"
     ]
    },
    {
     "name": "stderr",
     "output_type": "stream",
     "text": [
      "ic| label_current_deforestation_test_classified_incorrect.shape: (1625187,)\n",
      "    predicted_test_classified_incorrect.shape: (1625187,)\n",
      "ic"
     ]
    },
    {
     "name": "stdout",
     "output_type": "stream",
     "text": [
      "cm_correct [[52151974     1597]\n",
      " [   71140   321125]]\n",
      "cm_incorrect [[1210916   69245]\n",
      " [ 111442  233584]]\n"
     ]
    },
    {
     "name": "stderr",
     "output_type": "stream",
     "text": [
      "| TP_H + FN_H + FP_H + TN_H: 1625187\n",
      "    len(label_mask_current_deforestation_test): 54171023\n",
      "ic| TP_H + FN_H + FP_H + TN_H: 1625187\n",
      "    len(label_mask_current_deforestation_test): 54171023\n"
     ]
    },
    {
     "name": "stdout",
     "output_type": "stream",
     "text": [
      "[0.99505147 0.81864301 0.43554716 0.03000104 0.7713396  0.67700405]\n",
      "threshold 0.258626903420808\n",
      "(54171023,) (54171023,)\n"
     ]
    },
    {
     "name": "stderr",
     "output_type": "stream",
     "text": [
      "ic| self.m_optimal: {'AA': array([0.03000104]),\n",
      "                     'f1_H': array([0.72109963]),\n",
      "                     'f1_L': array([0.89826808]),\n",
      "                     'precision_H': array([0.7713396]),\n",
      "                     'precision_L': array([0.99505147]),\n",
      "                     'recall_H': array([0.67700405]),\n",
      "                     'recall_L': array([0.81864301]),\n",
      "                     'recall_Ltotal': array([0.43554716])}\n",
      "ic| self.m_audited_optimal: {'f1': array([0.94823133]),\n",
      "                             'precision': array([0.99760838]),\n",
      "                             'recall': array([0.90351164])}\n"
     ]
    },
    {
     "name": "stdout",
     "output_type": "stream",
     "text": [
      "cm_audited [[53432135     1597]\n",
      " [   71140   666151]]\n",
      "[0.99760838 0.90351164]\n",
      "D:/Jorge/datasets/deforestation/Para/deforestation_past_years.tif\n",
      "Loaded deforestation past years\n"
     ]
    },
    {
     "name": "stderr",
     "output_type": "stream",
     "text": [
      "ic| np.unique(deforestation_past_years, return_counts=True): (array([   0, 2008, 2009, 2010, 2011, 2012, 2013, 2014, 2015, 2016, 2017,\n",
      "                                                                    2018, 2019, 2020, 2021], dtype=uint16),\n",
      "                                                              array([132185553,   3150503,   4571354,    864429,    903608,   1299506,\n",
      "                                                                      2477971,   1561686,   1459696,    969060,    644976,   2209014,\n",
      "                                                                      2100204,   5257014,   3514616], dtype=int64))\n"
     ]
    },
    {
     "name": "stdout",
     "output_type": "stream",
     "text": [
      "Label where deforestation past years is actual date (2019) = 1\n"
     ]
    },
    {
     "name": "stderr",
     "output_type": "stream",
     "text": [
      "ic| np.unique(deforestation_past_years, return_counts=True): (array([   0, 2008, 2009, 2010, 2011, 2012, 2013, 2014, 2015, 2016, 2017,\n",
      "                                                                    2018, 2019, 2020, 2021], dtype=uint16),\n",
      "                                                              array([132185553,   3150503,   4571354,    864429,    903608,   1299506,\n",
      "                                                                      2477971,   1561686,   1459696,    969060,    644976,   2209014,\n",
      "                                                                      2100204,   5257014,   3514616], dtype=int64))\n"
     ]
    },
    {
     "name": "stdout",
     "output_type": "stream",
     "text": [
      "Past deforestation different from 0 (no deforestation)\n"
     ]
    },
    {
     "name": "stderr",
     "output_type": "stream",
     "text": [
      "ic| np.unique(deforestation_past_years, return_counts=True): (array([   0, 2008, 2009, 2010, 2011, 2012, 2013, 2014, 2015, 2016, 2017,\n",
      "                                                                    2018, 2019, 2020, 2021], dtype=uint16),\n",
      "                                                              array([132185553,   3150503,   4571354,    864429,    903608,   1299506,\n",
      "                                                                      2477971,   1561686,   1459696,    969060,    644976,   2209014,\n",
      "                                                                      2100204,   5257014,   3514616], dtype=int64))\n"
     ]
    },
    {
     "name": "stdout",
     "output_type": "stream",
     "text": [
      "Past deforestation before 2008 is 2\n",
      "D:/Jorge/datasets/deforestation/deforestation_before_2008/deforestation_before_2008_para.tif\n"
     ]
    },
    {
     "name": "stderr",
     "output_type": "stream",
     "text": [
      "ic| np.unique(label_past_deforestation_before_2008, return_counts=True): (array([  0, 215], dtype=uint8), array([124211220,  38957970], dtype=int64))\n",
      "ic| np.unique(deforestation_past_years, return_counts=True): (array([   0, 2008, 2009, 2010, 2011, 2012, 2013, 2014, 2015, 2016, 2017,\n",
      "                                                                    2018, 2019, 2020, 2021], dtype=uint16),\n",
      "                                                              array([132185553,   3150503,   4571354,    864429,    903608,   1299506,\n",
      "                                                                      2477971,   1561686,   1459696,    969060,    644976,   2209014,\n",
      "                                                                      2100204,   5257014,   3514616], dtype=int64))\n",
      "ic| label_per_date.shape: (17730, 9203, 1)\n"
     ]
    },
    {
     "name": "stdout",
     "output_type": "stream",
     "text": [
      "Mask label shape:  \n",
      " (17730, 9203, 1) \n",
      " Unique values:  \n",
      " [0 1 2]\n",
      "Tiles size:  3546 2300\n",
      "Mask size:  (17730, 9200)\n"
     ]
    },
    {
     "name": "stderr",
     "output_type": "stream",
     "text": [
      "ic| image_stack.shape: (17730, 9203, 21)\n"
     ]
    },
    {
     "name": "stdout",
     "output_type": "stream",
     "text": [
      "Image shape:  (17730, 9203, 21)\n",
      "mask:  (17730, 9200)\n",
      "image stack:  (17730, 9200, 21)\n",
      "ref : (17730, 9200, 1)\n",
      "Training tiles:  [1, 3, 5, 8, 11, 13, 14, 20]\n",
      "Validation tiles:  [6, 19]\n",
      "Test tiles:  [2, 4, 7, 9, 10, 12, 15, 16, 17, 18]\n"
     ]
    },
    {
     "name": "stderr",
     "output_type": "stream",
     "text": [
      "ic| im_idx_row.shape: (17730, 9200, 1)\n",
      "    im_idx_col.shape: (17730, 9200, 1)\n",
      "ic| im_idx_row.dtype: dtype('uint16')\n",
      "    im_idx_col.dtype: dtype('uint16')\n",
      "ic| im_idx.shape: (17730, 9200, 2), im_idx.dtype: dtype('uint16')\n",
      "ic| coords.shape: (464, 239, 1, 128, 128, 2)\n",
      "    coords.dtype: dtype('uint16')\n",
      "ic| coords.shape: (110896, 2), coords.dtype: dtype('uint16')\n",
      "ic| self.coords_train.shape: (41812, 3)\n",
      "    self.coords_val.shape: (10260, 3)\n"
     ]
    },
    {
     "name": "stdout",
     "output_type": "stream",
     "text": [
      "training samples:  (3753, 3) validation samples:  (1032, 3)\n",
      "time:  0\n",
      "Model: \"model_4\"\n",
      "__________________________________________________________________________________________________\n",
      "Layer (type)                    Output Shape         Param #     Connected to                     \n",
      "==================================================================================================\n",
      "input_enc_net (InputLayer)      [(None, 128, 128, 21 0                                            \n",
      "__________________________________________________________________________________________________\n",
      "res1_net1 (Conv2D)              (None, 128, 128, 16) 3040        input_enc_net[0][0]              \n",
      "__________________________________________________________________________________________________\n",
      "drop_net1 (Dropout)             (None, 128, 128, 16) 0           res1_net1[0][0]                  \n",
      "__________________________________________________________________________________________________\n",
      "res2_net1 (Conv2D)              (None, 128, 128, 16) 2320        drop_net1[0][0]                  \n",
      "__________________________________________________________________________________________________\n",
      "res3_net1 (Conv2D)              (None, 128, 128, 16) 352         input_enc_net[0][0]              \n",
      "__________________________________________________________________________________________________\n",
      "add_24 (Add)                    (None, 128, 128, 16) 0           res2_net1[0][0]                  \n",
      "                                                                 res3_net1[0][0]                  \n",
      "__________________________________________________________________________________________________\n",
      "pool_net1 (MaxPooling2D)        (None, 64, 64, 16)   0           add_24[0][0]                     \n",
      "__________________________________________________________________________________________________\n",
      "res1_net2 (Conv2D)              (None, 64, 64, 32)   4640        pool_net1[0][0]                  \n",
      "__________________________________________________________________________________________________\n",
      "drop_net2 (Dropout)             (None, 64, 64, 32)   0           res1_net2[0][0]                  \n",
      "__________________________________________________________________________________________________\n",
      "res2_net2 (Conv2D)              (None, 64, 64, 32)   9248        drop_net2[0][0]                  \n",
      "__________________________________________________________________________________________________\n",
      "res3_net2 (Conv2D)              (None, 64, 64, 32)   544         pool_net1[0][0]                  \n",
      "__________________________________________________________________________________________________\n",
      "add_25 (Add)                    (None, 64, 64, 32)   0           res2_net2[0][0]                  \n",
      "                                                                 res3_net2[0][0]                  \n",
      "__________________________________________________________________________________________________\n",
      "pool_net2 (MaxPooling2D)        (None, 32, 32, 32)   0           add_25[0][0]                     \n",
      "__________________________________________________________________________________________________\n",
      "res1_net3 (Conv2D)              (None, 32, 32, 64)   18496       pool_net2[0][0]                  \n",
      "__________________________________________________________________________________________________\n",
      "drop_net3 (Dropout)             (None, 32, 32, 64)   0           res1_net3[0][0]                  \n",
      "__________________________________________________________________________________________________\n",
      "res2_net3 (Conv2D)              (None, 32, 32, 64)   36928       drop_net3[0][0]                  \n",
      "__________________________________________________________________________________________________\n",
      "res3_net3 (Conv2D)              (None, 32, 32, 64)   2112        pool_net2[0][0]                  \n",
      "__________________________________________________________________________________________________\n",
      "add_26 (Add)                    (None, 32, 32, 64)   0           res2_net3[0][0]                  \n",
      "                                                                 res3_net3[0][0]                  \n",
      "__________________________________________________________________________________________________\n",
      "pool_net3 (MaxPooling2D)        (None, 16, 16, 64)   0           add_26[0][0]                     \n",
      "__________________________________________________________________________________________________\n",
      "res1_net4 (Conv2D)              (None, 16, 16, 64)   36928       pool_net3[0][0]                  \n",
      "__________________________________________________________________________________________________\n",
      "drop_net4 (Dropout)             (None, 16, 16, 64)   0           res1_net4[0][0]                  \n",
      "__________________________________________________________________________________________________\n",
      "res2_net4 (Conv2D)              (None, 16, 16, 64)   36928       drop_net4[0][0]                  \n",
      "__________________________________________________________________________________________________\n",
      "res3_net4 (Conv2D)              (None, 16, 16, 64)   4160        pool_net3[0][0]                  \n",
      "__________________________________________________________________________________________________\n",
      "add_27 (Add)                    (None, 16, 16, 64)   0           res2_net4[0][0]                  \n",
      "                                                                 res3_net4[0][0]                  \n",
      "__________________________________________________________________________________________________\n",
      "res1_net5 (Conv2D)              (None, 16, 16, 64)   36928       add_27[0][0]                     \n",
      "__________________________________________________________________________________________________\n",
      "drop_net5 (Dropout)             (None, 16, 16, 64)   0           res1_net5[0][0]                  \n",
      "__________________________________________________________________________________________________\n",
      "res2_net5 (Conv2D)              (None, 16, 16, 64)   36928       drop_net5[0][0]                  \n",
      "__________________________________________________________________________________________________\n",
      "res3_net5 (Conv2D)              (None, 16, 16, 64)   4160        add_27[0][0]                     \n",
      "__________________________________________________________________________________________________\n",
      "add_28 (Add)                    (None, 16, 16, 64)   0           res2_net5[0][0]                  \n",
      "                                                                 res3_net5[0][0]                  \n",
      "__________________________________________________________________________________________________\n",
      "res1_net6 (Conv2D)              (None, 16, 16, 64)   36928       add_28[0][0]                     \n",
      "__________________________________________________________________________________________________\n",
      "drop_net6 (Dropout)             (None, 16, 16, 64)   0           res1_net6[0][0]                  \n",
      "__________________________________________________________________________________________________\n",
      "res2_net6 (Conv2D)              (None, 16, 16, 64)   36928       drop_net6[0][0]                  \n",
      "__________________________________________________________________________________________________\n",
      "res3_net6 (Conv2D)              (None, 16, 16, 64)   4160        add_28[0][0]                     \n",
      "__________________________________________________________________________________________________\n",
      "add_29 (Add)                    (None, 16, 16, 64)   0           res2_net6[0][0]                  \n",
      "                                                                 res3_net6[0][0]                  \n",
      "__________________________________________________________________________________________________\n",
      "up_sampling2d_12 (UpSampling2D) (None, 32, 32, 64)   0           add_29[0][0]                     \n",
      "__________________________________________________________________________________________________\n",
      "upsampling_net3 (Conv2D)        (None, 32, 32, 64)   36928       up_sampling2d_12[0][0]           \n",
      "__________________________________________________________________________________________________\n",
      "concatenate3 (Concatenate)      (None, 32, 32, 128)  0           add_26[0][0]                     \n",
      "                                                                 upsampling_net3[0][0]            \n",
      "__________________________________________________________________________________________________\n",
      "up_sampling2d_13 (UpSampling2D) (None, 64, 64, 128)  0           concatenate3[0][0]               \n",
      "__________________________________________________________________________________________________\n",
      "upsampling_net2 (Conv2D)        (None, 64, 64, 32)   36896       up_sampling2d_13[0][0]           \n",
      "__________________________________________________________________________________________________\n",
      "concatenate2 (Concatenate)      (None, 64, 64, 64)   0           add_25[0][0]                     \n",
      "                                                                 upsampling_net2[0][0]            \n",
      "__________________________________________________________________________________________________\n",
      "up_sampling2d_14 (UpSampling2D) (None, 128, 128, 64) 0           concatenate2[0][0]               \n",
      "__________________________________________________________________________________________________\n",
      "upsampling_net1 (Conv2D)        (None, 128, 128, 16) 9232        up_sampling2d_14[0][0]           \n",
      "__________________________________________________________________________________________________\n",
      "concatenate1 (Concatenate)      (None, 128, 128, 32) 0           add_24[0][0]                     \n",
      "                                                                 upsampling_net1[0][0]            \n",
      "__________________________________________________________________________________________________\n",
      "output (Conv2D)                 (None, 128, 128, 3)  99          concatenate1[0][0]               \n",
      "==================================================================================================\n",
      "Total params: 394,883\n",
      "Trainable params: 394,883\n",
      "Non-trainable params: 0\n",
      "__________________________________________________________________________________________________\n"
     ]
    },
    {
     "name": "stderr",
     "output_type": "stream",
     "text": [
      "c:\\Users\\jchamorro\\Anaconda3\\envs\\tf2\\lib\\site-packages\\tensorflow\\python\\keras\\optimizer_v2\\optimizer_v2.py:374: UserWarning: The `lr` argument is deprecated, use `learning_rate` instead.\n",
      "  warnings.warn(\n",
      "c:\\Users\\jchamorro\\Anaconda3\\envs\\tf2\\lib\\site-packages\\tensorflow\\python\\keras\\engine\\training.py:1969: UserWarning: `Model.fit_generator` is deprecated and will be removed in a future version. Please use `Model.fit`, which supports generators.\n",
      "  warnings.warn('`Model.fit_generator` is deprecated and '\n"
     ]
    },
    {
     "name": "stdout",
     "output_type": "stream",
     "text": [
      "Epoch 1/100\n",
      "self.global_step 0.0\n",
      "alpha Tensor(\"loss/add:0\", shape=(None, 128, 128, 3), dtype=float32)\n",
      "u Tensor(\"loss/truediv:0\", shape=(None, 128, 128, 1), dtype=float32)\n",
      "alpha Tensor(\"add:0\", shape=(None, 128, 128, 3), dtype=float32)\n",
      "u Tensor(\"truediv:0\", shape=(None, 128, 128, 1), dtype=float32)\n",
      "K.int_shape(KL_reg) Tensor(\"mul_6:0\", shape=(None, 128, 128, 1), dtype=float32)\n",
      "alpha Tensor(\"add_7:0\", shape=(None, 128, 128, 3), dtype=float32)\n",
      "u Tensor(\"truediv_5:0\", shape=(None, 128, 128, 1), dtype=float32)\n",
      "K.int_shape(KL_reg) Tensor(\"mul_12:0\", shape=(None, 128, 128, 1), dtype=float32)\n",
      "alpha Tensor(\"loss/add:0\", shape=(None, 128, 128, 3), dtype=float32)\n",
      "u Tensor(\"loss/truediv:0\", shape=(None, 128, 128, 1), dtype=float32)\n",
      "alpha Tensor(\"add:0\", shape=(None, 128, 128, 3), dtype=float32)\n",
      "u Tensor(\"truediv:0\", shape=(None, 128, 128, 1), dtype=float32)\n",
      "K.int_shape(KL_reg) Tensor(\"mul_6:0\", shape=(None, 128, 128, 1), dtype=float32)\n",
      "alpha Tensor(\"add_7:0\", shape=(None, 128, 128, 3), dtype=float32)\n",
      "u Tensor(\"truediv_5:0\", shape=(None, 128, 128, 1), dtype=float32)\n",
      "K.int_shape(KL_reg) Tensor(\"mul_12:0\", shape=(None, 128, 128, 1), dtype=float32)\n",
      "351/351 [==============================] - ETA: 0s - loss: 0.2446 - accuracy: 0.8611 - KL_term: 0.0184 - loglikelihood_term: 0.2260 - evidential_success: 31.8930 - evidential_fail: 8.8006 - acc: 0.8613 - annealing_coef: 0.0933 - global_step_get: 175.0000 - annealing_step_get: 1875.0000alpha Tensor(\"loss/add:0\", shape=(None, 128, 128, 3), dtype=float32)\n",
      "u Tensor(\"loss/truediv:0\", shape=(None, 128, 128, 1), dtype=float32)\n",
      "alpha Tensor(\"add:0\", shape=(None, 128, 128, 3), dtype=float32)\n",
      "u Tensor(\"truediv:0\", shape=(None, 128, 128, 1), dtype=float32)\n",
      "K.int_shape(KL_reg) Tensor(\"mul_6:0\", shape=(None, 128, 128, 1), dtype=float32)\n",
      "alpha Tensor(\"add_7:0\", shape=(None, 128, 128, 3), dtype=float32)\n",
      "u Tensor(\"truediv_5:0\", shape=(None, 128, 128, 1), dtype=float32)\n",
      "K.int_shape(KL_reg) Tensor(\"mul_12:0\", shape=(None, 128, 128, 1), dtype=float32)\n",
      "351/351 [==============================] - 33s 89ms/step - loss: 0.2446 - accuracy: 0.8611 - KL_term: 0.0184 - loglikelihood_term: 0.2260 - evidential_success: 31.8930 - evidential_fail: 8.8006 - acc: 0.8613 - annealing_coef: 0.0933 - global_step_get: 175.0000 - annealing_step_get: 1875.0000 - val_loss: 0.2024 - val_accuracy: 0.9006 - val_KL_term: 0.0199 - val_loglikelihood_term: 0.1812 - val_evidential_success: 27.5408 - val_evidential_fail: 3.9069 - val_acc: 0.9014 - val_annealing_coef: 0.1867 - val_global_step_get: 350.0000 - val_annealing_step_get: 1875.0000\n",
      "\n",
      "Epoch 00001: val_loss improved from inf to 0.20239, saving model to D:/Jorge/datasets/deforestation/experiments/exp143/models\\resunet_0.h5\n",
      "Epoch 2/100\n",
      "self.global_step 350.0\n",
      "  1/351 [..............................] - ETA: 27s - loss: 0.1307 - accuracy: 0.9288 - KL_term: 0.0000e+00 - loglikelihood_term: 0.1307 - evidential_success: 38.2086 - evidential_fail: 4.7814 - acc: 0.9288 - annealing_coef: 0.0000e+00 - global_step_get: 0.0000e+00 - annealing_step_get: 1875.0000"
     ]
    },
    {
     "name": "stderr",
     "output_type": "stream",
     "text": [
      "c:\\Users\\jchamorro\\Anaconda3\\envs\\tf2\\lib\\site-packages\\tensorflow\\python\\keras\\utils\\generic_utils.py:494: CustomMaskWarning: Custom mask layers require a config and must override get_config. When loading, the custom mask layer must be passed to the custom_objects argument.\n",
      "  warnings.warn('Custom mask layers require a config and must override '\n"
     ]
    },
    {
     "name": "stdout",
     "output_type": "stream",
     "text": [
      "351/351 [==============================] - 30s 87ms/step - loss: 0.1509 - accuracy: 0.9234 - KL_term: 0.0191 - loglikelihood_term: 0.1316 - evidential_success: 59.7218 - evidential_fail: 7.8349 - acc: 0.9235 - annealing_coef: 0.1867 - global_step_get: 350.0000 - annealing_step_get: 1875.0000 - val_loss: 0.2039 - val_accuracy: 0.9058 - val_KL_term: 0.0394 - val_loglikelihood_term: 0.1619 - val_evidential_success: 52.6828 - val_evidential_fail: 4.5060 - val_acc: 0.9070 - val_annealing_coef: 0.3733 - val_global_step_get: 700.0000 - val_annealing_step_get: 1875.0000\n",
      "\n",
      "Epoch 00002: val_loss did not improve from 0.20239\n",
      "Epoch 3/100\n",
      "self.global_step 700.0\n",
      "351/351 [==============================] - 30s 87ms/step - loss: 0.1441 - accuracy: 0.9300 - KL_term: 0.0215 - loglikelihood_term: 0.1227 - evidential_success: 73.7971 - evidential_fail: 6.6824 - acc: 0.9299 - annealing_coef: 0.2800 - global_step_get: 525.0000 - annealing_step_get: 1875.0000 - val_loss: 0.1769 - val_accuracy: 0.9253 - val_KL_term: 0.0446 - val_loglikelihood_term: 0.1305 - val_evidential_success: 68.2304 - val_evidential_fail: 4.0585 - val_acc: 0.9260 - val_annealing_coef: 0.5600 - val_global_step_get: 1050.0000 - val_annealing_step_get: 1875.0000\n",
      "\n",
      "Epoch 00003: val_loss improved from 0.20239 to 0.17686, saving model to D:/Jorge/datasets/deforestation/experiments/exp143/models\\resunet_0.h5\n",
      "Epoch 4/100\n",
      "self.global_step 1050.0\n",
      "351/351 [==============================] - 31s 87ms/step - loss: 0.1424 - accuracy: 0.9338 - KL_term: 0.0236 - loglikelihood_term: 0.1188 - evidential_success: 79.2276 - evidential_fail: 5.8285 - acc: 0.9337 - annealing_coef: 0.3733 - global_step_get: 700.0000 - annealing_step_get: 1875.0000 - val_loss: 0.1932 - val_accuracy: 0.9236 - val_KL_term: 0.0515 - val_loglikelihood_term: 0.1400 - val_evidential_success: 59.9983 - val_evidential_fail: 3.2322 - val_acc: 0.9243 - val_annealing_coef: 0.7467 - val_global_step_get: 1400.0000 - val_annealing_step_get: 1875.0000\n",
      "\n",
      "Epoch 00004: val_loss did not improve from 0.17686\n",
      "Epoch 5/100\n",
      "self.global_step 1400.0\n",
      "351/351 [==============================] - 31s 87ms/step - loss: 0.1397 - accuracy: 0.9375 - KL_term: 0.0249 - loglikelihood_term: 0.1148 - evidential_success: 87.1339 - evidential_fail: 5.2458 - acc: 0.9374 - annealing_coef: 0.4667 - global_step_get: 875.0000 - annealing_step_get: 1875.0000 - val_loss: 0.1968 - val_accuracy: 0.9263 - val_KL_term: 0.0593 - val_loglikelihood_term: 0.1360 - val_evidential_success: 56.6188 - val_evidential_fail: 2.9460 - val_acc: 0.9269 - val_annealing_coef: 0.9333 - val_global_step_get: 1750.0000 - val_annealing_step_get: 1875.0000\n",
      "\n",
      "Epoch 00005: val_loss did not improve from 0.17686\n",
      "Epoch 6/100\n",
      "self.global_step 1750.0\n",
      "351/351 [==============================] - 31s 87ms/step - loss: 0.1410 - accuracy: 0.9386 - KL_term: 0.0262 - loglikelihood_term: 0.1146 - evidential_success: 88.7693 - evidential_fail: 4.7926 - acc: 0.9386 - annealing_coef: 0.5534 - global_step_get: 1050.0000 - annealing_step_get: 1875.0000 - val_loss: 0.2156 - val_accuracy: 0.9239 - val_KL_term: 0.0728 - val_loglikelihood_term: 0.1408 - val_evidential_success: 69.2747 - val_evidential_fail: 3.2331 - val_acc: 0.9247 - val_annealing_coef: 1.0000 - val_global_step_get: 2100.0000 - val_annealing_step_get: 1875.0000\n",
      "\n",
      "Epoch 00006: val_loss did not improve from 0.17686\n",
      "Epoch 7/100\n",
      "self.global_step 2100.0\n",
      "351/351 [==============================] - 31s 87ms/step - loss: 0.1388 - accuracy: 0.9406 - KL_term: 0.0264 - loglikelihood_term: 0.1122 - evidential_success: 95.8443 - evidential_fail: 4.4450 - acc: 0.9406 - annealing_coef: 0.6170 - global_step_get: 1225.0000 - annealing_step_get: 1875.0000 - val_loss: 0.1934 - val_accuracy: 0.9307 - val_KL_term: 0.0596 - val_loglikelihood_term: 0.1325 - val_evidential_success: 80.2316 - val_evidential_fail: 2.9087 - val_acc: 0.9313 - val_annealing_coef: 1.0000 - val_global_step_get: 2450.0000 - val_annealing_step_get: 1875.0000\n",
      "\n",
      "Epoch 00007: val_loss did not improve from 0.17686\n",
      "Epoch 8/100\n",
      "self.global_step 2450.0\n",
      "351/351 [==============================] - 31s 87ms/step - loss: 0.1346 - accuracy: 0.9429 - KL_term: 0.0260 - loglikelihood_term: 0.1088 - evidential_success: 98.9838 - evidential_fail: 4.1791 - acc: 0.9428 - annealing_coef: 0.6647 - global_step_get: 1400.0000 - annealing_step_get: 1875.0000 - val_loss: 0.1907 - val_accuracy: 0.9313 - val_KL_term: 0.0610 - val_loglikelihood_term: 0.1285 - val_evidential_success: 83.5289 - val_evidential_fail: 2.9389 - val_acc: 0.9319 - val_annealing_coef: 1.0000 - val_global_step_get: 2800.0000 - val_annealing_step_get: 1875.0000\n",
      "\n",
      "Epoch 00008: val_loss did not improve from 0.17686\n",
      "Epoch 9/100\n",
      "self.global_step 2800.0\n",
      "351/351 [==============================] - 31s 87ms/step - loss: 0.1315 - accuracy: 0.9446 - KL_term: 0.0257 - loglikelihood_term: 0.1058 - evidential_success: 111.1854 - evidential_fail: 3.8651 - acc: 0.9446 - annealing_coef: 0.7018 - global_step_get: 1575.0000 - annealing_step_get: 1875.0000 - val_loss: 0.1888 - val_accuracy: 0.9314 - val_KL_term: 0.0600 - val_loglikelihood_term: 0.1274 - val_evidential_success: 99.8409 - val_evidential_fail: 3.1136 - val_acc: 0.9320 - val_annealing_coef: 1.0000 - val_global_step_get: 3150.0000 - val_annealing_step_get: 1875.0000\n",
      "\n",
      "Epoch 00009: val_loss did not improve from 0.17686\n",
      "Epoch 10/100\n",
      "self.global_step 3150.0\n",
      "351/351 [==============================] - 31s 87ms/step - loss: 0.1297 - accuracy: 0.9455 - KL_term: 0.0253 - loglikelihood_term: 0.1043 - evidential_success: 113.9724 - evidential_fail: 3.6973 - acc: 0.9456 - annealing_coef: 0.7315 - global_step_get: 1750.0000 - annealing_step_get: 1875.0000 - val_loss: 0.1908 - val_accuracy: 0.9333 - val_KL_term: 0.0681 - val_loglikelihood_term: 0.1217 - val_evidential_success: 99.5980 - val_evidential_fail: 3.6923 - val_acc: 0.9338 - val_annealing_coef: 1.0000 - val_global_step_get: 3500.0000 - val_annealing_step_get: 1875.0000\n",
      "\n",
      "Epoch 00010: val_loss did not improve from 0.17686\n",
      "Epoch 11/100\n",
      "self.global_step 3500.0\n",
      "351/351 [==============================] - 31s 87ms/step - loss: 0.1272 - accuracy: 0.9465 - KL_term: 0.0248 - loglikelihood_term: 0.1024 - evidential_success: 123.1716 - evidential_fail: 3.5681 - acc: 0.9465 - annealing_coef: 0.7558 - global_step_get: 1925.0000 - annealing_step_get: 1875.0000 - val_loss: 0.1967 - val_accuracy: 0.9331 - val_KL_term: 0.0706 - val_loglikelihood_term: 0.1255 - val_evidential_success: 108.4879 - val_evidential_fail: 3.8936 - val_acc: 0.9336 - val_annealing_coef: 1.0000 - val_global_step_get: 3850.0000 - val_annealing_step_get: 1875.0000\n",
      "\n",
      "Epoch 00011: val_loss did not improve from 0.17686\n",
      "Epoch 12/100\n",
      "self.global_step 3850.0\n",
      "351/351 [==============================] - 30s 87ms/step - loss: 0.1238 - accuracy: 0.9479 - KL_term: 0.0240 - loglikelihood_term: 0.0997 - evidential_success: 124.4681 - evidential_fail: 3.3982 - acc: 0.9479 - annealing_coef: 0.7760 - global_step_get: 2100.0000 - annealing_step_get: 1875.0000 - val_loss: 0.1897 - val_accuracy: 0.9346 - val_KL_term: 0.0666 - val_loglikelihood_term: 0.1233 - val_evidential_success: 126.7691 - val_evidential_fail: 4.3292 - val_acc: 0.9351 - val_annealing_coef: 1.0000 - val_global_step_get: 4200.0000 - val_annealing_step_get: 1875.0000\n",
      "\n",
      "Epoch 00012: val_loss did not improve from 0.17686\n",
      "Epoch 13/100\n",
      "self.global_step 4200.0\n",
      "351/351 [==============================] - 31s 87ms/step - loss: 0.1254 - accuracy: 0.9474 - KL_term: 0.0246 - loglikelihood_term: 0.1008 - evidential_success: 126.6137 - evidential_fail: 3.4112 - acc: 0.9474 - annealing_coef: 0.7931 - global_step_get: 2275.0000 - annealing_step_get: 1875.0000 - val_loss: 0.2165 - val_accuracy: 0.9296 - val_KL_term: 0.0850 - val_loglikelihood_term: 0.1299 - val_evidential_success: 107.7167 - val_evidential_fail: 4.7788 - val_acc: 0.9302 - val_annealing_coef: 1.0000 - val_global_step_get: 4550.0000 - val_annealing_step_get: 1875.0000\n",
      "\n",
      "Epoch 00013: val_loss did not improve from 0.17686\n",
      "Epoch 00013: early stopping\n",
      "-30.0 -16.0\n"
     ]
    },
    {
     "name": "stderr",
     "output_type": "stream",
     "text": [
      "ic| self.path_models+ '/' + self.method +'_'+str(0)+'.h5': 'D:/Jorge/datasets/deforestation/experiments/exp143/models/resunet_0.h5'\n"
     ]
    },
    {
     "name": "stdout",
     "output_type": "stream",
     "text": [
      "time:  0\n",
      "(54236371,)\n",
      "(array([0, 1], dtype=uint8), array([53470765,   765606], dtype=int64))\n",
      "(17730, 9200)\n",
      "(array([0., 1.], dtype=float32), array([160878724,   2237276], dtype=int64))\n"
     ]
    },
    {
     "name": "stderr",
     "output_type": "stream",
     "text": [
      "ic| self.predicted_unpad.shape: (17730, 9200)\n",
      "    self.predicted.shape: (17730, 9200)\n",
      "ic| predicted_test.shape: (81558000,)\n",
      "ic| predicted_test.shape: (54236371,)\n",
      "ic| np.unique(predicted, return_counts=True): (array([0., 1.], dtype=float32), array([160878724,   2237276], dtype=int64))\n",
      "    np.unique(predicted_larger_than_min_area, return_counts=True): (array([0., 1.], dtype=float32), array([161107579,   2008421], dtype=int64))\n",
      "ic| np.unique(ignored_polygons, return_counts=True): (array([0., 1.], dtype=float32), array([162887145,    228855], dtype=int64))\n",
      "ic| predicted.shape: (17730, 9200), label_mask.shape: (17730, 9200)\n",
      "ic| predicted_masked.shape: (81558000,)\n",
      "    label_masked.shape: (81558000,)\n",
      "ic| np.unique(label_masked, return_counts=True): (array([0, 1, 2], dtype=uint8),\n",
      "                                                  array([53387711,   737154, 27433135], dtype=int64))\n",
      "ic| predicted_masked.shape: (54124865,)\n",
      "    label_masked.shape: (54124865,)\n",
      "ic| self.f1: 77.83, self.precision: 73.62, self.recall: 82.54\n",
      "ic| self.label_mask_val.shape: (16311600,)\n",
      "ic| self.label_mask_val_valid.shape: (9428412,)\n",
      "ic| f1_val: 83.88\n",
      "    precision_val: 79.21\n",
      "    recall_val: 89.14\n",
      "    mAP_val: 91.26\n"
     ]
    },
    {
     "name": "stdout",
     "output_type": "stream",
     "text": [
      "(array([0., 1.], dtype=float32), array([162257151,    858849], dtype=int64))\n"
     ]
    },
    {
     "name": "stderr",
     "output_type": "stream",
     "text": [
      "ic| self.label_mask.shape: (17730, 9200)\n",
      "ic| self.mask_amazon_ts.shape: (17730, 9200)\n",
      "ic| self.label_mask_test.shape: (81558000,)\n",
      "ic| self.error_mask_test.shape: (54124865,)\n",
      "ic| bounds: (0.015, 0.9985)\n",
      "c:\\Users\\jchamorro\\Anaconda3\\envs\\tf2\\lib\\site-packages\\scipy\\optimize\\_minimize.py:783: RuntimeWarning: Method 'bounded' does not support relative tolerance in x; defaulting to absolute tolerance.\n",
      "  warn(\"Method 'bounded' does not support relative tolerance in x; \"\n"
     ]
    },
    {
     "name": "stdout",
     "output_type": "stream",
     "text": [
      "0.3906635720644784\n",
      "threshold 0.3906635720644784\n",
      "(51636782,) (51636782,)\n"
     ]
    },
    {
     "name": "stderr",
     "output_type": "stream",
     "text": [
      "ic| label_current_deforestation_test_classified_incorrect.shape: (2488083,)\n",
      "    predicted_test_classified_incorrect.shape: (2488083,)\n"
     ]
    },
    {
     "name": "stdout",
     "output_type": "stream",
     "text": [
      "cm_correct [[51024614    76436]\n",
      " [   19929   515803]]\n"
     ]
    },
    {
     "name": "stderr",
     "output_type": "stream",
     "text": [
      "ic| TP_H + FN_H + FP_H + TN_H: 2488083\n",
      "    len(label_mask_current_deforestation_test): 54124865\n",
      "ic| TP_H + FN_H + FP_H + TN_H: 2488083\n",
      "    len(label_mask_current_deforestation_test): 54124865\n"
     ]
    },
    {
     "name": "stdout",
     "output_type": "stream",
     "text": [
      "cm_incorrect [[2145082  141579]\n",
      " [ 108752   92670]]\n",
      "[0.87093724 0.96280043 0.69972217 0.04596932 0.39560468 0.46007884]\n",
      "0.6228364279355216\n",
      "threshold 0.6228364279355216\n",
      "(52882396,) (52882396,)\n"
     ]
    },
    {
     "name": "stderr",
     "output_type": "stream",
     "text": [
      "ic| label_current_deforestation_test_classified_incorrect.shape: (1242469,)\n",
      "    predicted_test_classified_incorrect.shape: (1242469,)\n",
      "ic| TP_H + FN_H + FP_H + TN_H: 1242469\n",
      "    len(label_mask_current_deforestation_test): 54124865\n",
      "ic| TP_H + FN_H + FP_H + TN_H: 1242469\n",
      "    len(label_mask_current_deforestation_test): 54124865\n"
     ]
    },
    {
     "name": "stdout",
     "output_type": "stream",
     "text": [
      "cm_correct [[52112750   156606]\n",
      " [   33291   579749]]\n",
      "cm_incorrect [[1056946   61409]\n",
      " [  95390   28724]]\n",
      "[0.78732269 0.94569522 0.78646931 0.0229556  0.31868461 0.23143239]\n",
      "0.7663271441289569\n",
      "threshold 0.7663271441289569\n",
      "(53458637,) (53458637,)\n"
     ]
    },
    {
     "name": "stderr",
     "output_type": "stream",
     "text": [
      "ic| label_current_deforestation_test_classified_incorrect.shape: (666228,)\n",
      "    predicted_test_classified_incorrect.shape: (666228,)\n",
      "d:\\Jorge\\deforestation_uncertainty\\src\\metrics.py:299: RuntimeWarning: invalid value encountered in longlong_scalars\n",
      "  precision_H = TP_H / (TP_H + FP_H)\n",
      "ic| TP_H + FN_H + FP_H + TN_H: 666228\n",
      "    len(label_mask_current_deforestation_test): 54124865\n",
      "ic| TP_H + FN_H + FP_H + TN_H: 666228\n",
      "    len(label_mask_current_deforestation_test): 54124865\n"
     ]
    },
    {
     "name": "stdout",
     "output_type": "stream",
     "text": [
      "cm_correct [[52581667   218015]\n",
      " [   50482   608473]]\n",
      "cm_incorrect [[588029      0]\n",
      " [ 78199      0]]\n",
      "[0.73621517 0.92339082 0.82543539 0.01230909        nan 0.        ]\n",
      "0.5708531719264397\n",
      "threshold 0.5708531719264397\n",
      "(52632172,) (52632172,)\n"
     ]
    },
    {
     "name": "stderr",
     "output_type": "stream",
     "text": [
      "ic| label_current_deforestation_test_classified_incorrect.shape: (1492693,)\n",
      "    predicted_test_classified_incorrect.shape: (1492693,)\n",
      "ic"
     ]
    },
    {
     "name": "stdout",
     "output_type": "stream",
     "text": [
      "cm_correct [[51896055   136845]\n",
      " [   29738   569534]]\n",
      "cm_incorrect [[1273641   81170]\n",
      " [  98943   38939]]\n"
     ]
    },
    {
     "name": "stderr",
     "output_type": "stream",
     "text": [
      "| TP_H + FN_H + FP_H + TN_H: 1492693\n",
      "    len(label_mask_current_deforestation_test): 54124865\n",
      "ic| TP_H + FN_H + FP_H + TN_H: 1492693\n",
      "    len(label_mask_current_deforestation_test): 54124865\n"
     ]
    },
    {
     "name": "stdout",
     "output_type": "stream",
     "text": [
      "[0.80627255 0.95037646 0.77261196 0.02757869 0.32419719 0.28240815]\n",
      "0.5339399483015952\n",
      "threshold 0.5339399483015952\n",
      "(52438808,) (52438808,)\n"
     ]
    },
    {
     "name": "stderr",
     "output_type": "stream",
     "text": [
      "ic| label_current_deforestation_test_classified_incorrect.shape: (1686057,)\n",
      "    predicted_test_classified_incorrect.shape: (1686057,)\n"
     ]
    },
    {
     "name": "stdout",
     "output_type": "stream",
     "text": [
      "cm_correct [[51725211   124883]\n",
      " [   27410   561304]]\n"
     ]
    },
    {
     "name": "stderr",
     "output_type": "stream",
     "text": [
      "ic| TP_H + FN_H + FP_H + TN_H: 1686057\n",
      "    len(label_mask_current_deforestation_test): 54124865\n",
      "ic| TP_H + FN_H + FP_H + TN_H: 1686057\n",
      "    len(label_mask_current_deforestation_test): 54124865\n"
     ]
    },
    {
     "name": "stdout",
     "output_type": "stream",
     "text": [
      "cm_incorrect [[1444485   93132]\n",
      " [ 101271   47169]]\n",
      "[0.81800442 0.95344089 0.7614474  0.03115125 0.3361986  0.31776475]\n",
      "0.5243498602615763\n",
      "threshold 0.5243498602615763\n",
      "(52387450,) (52387450,)\n"
     ]
    },
    {
     "name": "stderr",
     "output_type": "stream",
     "text": [
      "ic| label_current_deforestation_test_classified_incorrect.shape: (1737415,)\n",
      "    predicted_test_classified_incorrect.shape: (1737415,)\n",
      "ic"
     ]
    },
    {
     "name": "stdout",
     "output_type": "stream",
     "text": [
      "cm_correct [[51679672   121949]\n",
      " [   26819   559010]]\n",
      "cm_incorrect [[1490024   96066]\n",
      " [ 101862   49463]]\n"
     ]
    },
    {
     "name": "stderr",
     "output_type": "stream",
     "text": [
      "| TP_H + FN_H + FP_H + TN_H: 1737415\n",
      "    len(label_mask_current_deforestation_test): 54124865\n",
      "ic| TP_H + FN_H + FP_H + TN_H: 1737415\n",
      "    len(label_mask_current_deforestation_test): 54124865\n"
     ]
    },
    {
     "name": "stdout",
     "output_type": "stream",
     "text": [
      "[0.8209158  0.95422043 0.75833544 0.03210013 0.33988415 0.32686602]\n",
      "0.5463972408813971\n",
      "threshold 0.5463972408813971\n",
      "(52505019,) (52505019,)\n"
     ]
    },
    {
     "name": "stderr",
     "output_type": "stream",
     "text": [
      "ic| label_current_deforestation_test_classified_incorrect.shape: (1619846,)\n",
      "    predicted_test_classified_incorrect.shape: (1619846,)\n",
      "ic"
     ]
    },
    {
     "name": "stdout",
     "output_type": "stream",
     "text": [
      "cm_correct [[51783853   128790]\n",
      " [   28199   564177]]\n",
      "cm_incorrect [[1385843   89225]\n",
      " [ 100482   44296]]\n"
     ]
    },
    {
     "name": "stderr",
     "output_type": "stream",
     "text": [
      "| TP_H + FN_H + FP_H + TN_H: 1619846\n",
      "    len(label_mask_current_deforestation_test): 54124865\n",
      "ic| TP_H + FN_H + FP_H + TN_H: 1619846\n",
      "    len(label_mask_current_deforestation_test): 54124865\n"
     ]
    },
    {
     "name": "stdout",
     "output_type": "stream",
     "text": [
      "[0.81414699 0.95239679 0.76534483 0.02992795 0.33175306 0.30595809]\n",
      "0.5557385753140797\n",
      "threshold 0.5557385753140797\n",
      "(52554000,) (52554000,)\n"
     ]
    },
    {
     "name": "stderr",
     "output_type": "stream",
     "text": [
      "ic| label_current_deforestation_test_classified_incorrect.shape: (1570865,)\n",
      "    predicted_test_classified_incorrect.shape: (1570865,)\n",
      "ic"
     ]
    },
    {
     "name": "stdout",
     "output_type": "stream",
     "text": [
      "cm_correct [[51827199   131780]\n",
      " [   28763   566258]]\n",
      "cm_incorrect [[1342497   86235]\n",
      " [  99918   42215]]\n"
     ]
    },
    {
     "name": "stderr",
     "output_type": "stream",
     "text": [
      "| TP_H + FN_H + FP_H + TN_H: 1570865\n",
      "    len(label_mask_current_deforestation_test): 54124865\n",
      "ic| TP_H + FN_H + FP_H + TN_H: 1570865\n",
      "    len(label_mask_current_deforestation_test): 54124865\n"
     ]
    },
    {
     "name": "stdout",
     "output_type": "stream",
     "text": [
      "[0.81121372 0.95166053 0.76816785 0.02902298 0.32864928 0.29701055]\n",
      "0.545313976957033\n",
      "threshold 0.545313976957033\n",
      "(52499285,) (52499285,)\n"
     ]
    },
    {
     "name": "stderr",
     "output_type": "stream",
     "text": [
      "ic| label_current_deforestation_test_classified_incorrect.shape: (1625580,)\n",
      "    predicted_test_classified_incorrect.shape: (1625580,)\n"
     ]
    },
    {
     "name": "stdout",
     "output_type": "stream",
     "text": [
      "cm_correct [[51778810   128433]\n",
      " [   28118   563924]]\n"
     ]
    },
    {
     "name": "stderr",
     "output_type": "stream",
     "text": [
      "ic| TP_H + FN_H + FP_H + TN_H: 1625580\n",
      "    len(label_mask_current_deforestation_test): 54124865\n",
      "ic| TP_H + FN_H + FP_H + TN_H: 1625580\n",
      "    len(label_mask_current_deforestation_test): 54124865\n"
     ]
    },
    {
     "name": "stdout",
     "output_type": "stream",
     "text": [
      "cm_incorrect [[1390886   89582]\n",
      " [ 100563   44549]]\n",
      "[0.81449888 0.95250675 0.76500161 0.03003389 0.33213053 0.30699735]\n",
      "0.5428761930624899\n",
      "threshold 0.5428761930624899\n",
      "(52486626,) (52486626,)\n"
     ]
    },
    {
     "name": "stderr",
     "output_type": "stream",
     "text": [
      "ic| label_current_deforestation_test_classified_incorrect.shape: (1638239,)\n",
      "    predicted_test_classified_incorrect.shape: (1638239,)\n",
      "ic"
     ]
    },
    {
     "name": "stdout",
     "output_type": "stream",
     "text": [
      "cm_correct [[51767559   127717]\n",
      " [   27975   563375]]\n",
      "cm_incorrect [[1402137   90298]\n",
      " [ 100706   45098]]\n"
     ]
    },
    {
     "name": "stderr",
     "output_type": "stream",
     "text": [
      "| TP_H + FN_H + FP_H + TN_H: 1638239\n",
      "    len(label_mask_current_deforestation_test): 54124865\n",
      "ic| TP_H + FN_H + FP_H + TN_H: 1638239\n",
      "    len(label_mask_current_deforestation_test): 54124865\n"
     ]
    },
    {
     "name": "stdout",
     "output_type": "stream",
     "text": [
      "[0.81519537 0.95269299 0.76425686 0.03026777 0.33308222 0.30930564]\n",
      "0.5453827164551814\n",
      "threshold 0.5453827164551814\n",
      "(52499634,) (52499634,)\n"
     ]
    },
    {
     "name": "stderr",
     "output_type": "stream",
     "text": [
      "ic| label_current_deforestation_test_classified_incorrect.shape: (1625231,)\n",
      "    predicted_test_classified_incorrect.shape: (1625231,)\n",
      "ic"
     ]
    },
    {
     "name": "stdout",
     "output_type": "stream",
     "text": [
      "cm_correct [[51779117   128453]\n",
      " [   28124   563940]]\n",
      "cm_incorrect [[1390579   89562]\n",
      " [ 100557   44533]]\n"
     ]
    },
    {
     "name": "stderr",
     "output_type": "stream",
     "text": [
      "| TP_H + FN_H + FP_H + TN_H: 1625231\n",
      "    len(label_mask_current_deforestation_test): 54124865\n",
      "ic| TP_H + FN_H + FP_H + TN_H: 1625231\n",
      "    len(label_mask_current_deforestation_test): 54124865\n"
     ]
    },
    {
     "name": "stdout",
     "output_type": "stream",
     "text": [
      "[0.81447964 0.95249838 0.76502332 0.03002744 0.33210038 0.30693363]\n",
      "0.5457170967278449\n",
      "threshold 0.5457170967278449\n",
      "(52501384,) (52501384,)\n"
     ]
    },
    {
     "name": "stderr",
     "output_type": "stream",
     "text": [
      "ic| label_current_deforestation_test_classified_incorrect.shape: (1623481,)\n",
      "    predicted_test_classified_incorrect.shape: (1623481,)\n",
      "ic"
     ]
    },
    {
     "name": "stdout",
     "output_type": "stream",
     "text": [
      "cm_correct [[51780672   128553]\n",
      " [   28146   564013]]\n",
      "cm_incorrect [[1389024   89462]\n",
      " [ 100535   44460]]\n"
     ]
    },
    {
     "name": "stderr",
     "output_type": "stream",
     "text": [
      "| TP_H + FN_H + FP_H + TN_H: 1623481\n",
      "    len(label_mask_current_deforestation_test): 54124865\n",
      "ic| TP_H + FN_H + FP_H + TN_H: 1623481\n",
      "    len(label_mask_current_deforestation_test): 54124865\n"
     ]
    },
    {
     "name": "stdout",
     "output_type": "stream",
     "text": [
      "[0.81438159 0.95246885 0.76512235 0.0299951  0.33198429 0.30663126]\n",
      "0.5459768886772522\n",
      "threshold 0.5459768886772522\n",
      "(52502754,) (52502754,)\n"
     ]
    },
    {
     "name": "stderr",
     "output_type": "stream",
     "text": [
      "ic| label_current_deforestation_test_classified_incorrect.shape: (1622111,)\n",
      "    predicted_test_classified_incorrect.shape: (1622111,)\n",
      "ic"
     ]
    },
    {
     "name": "stdout",
     "output_type": "stream",
     "text": [
      "cm_correct [[51781865   128650]\n",
      " [   28166   564073]]\n",
      "cm_incorrect [[1387831   89365]\n",
      " [ 100515   44400]]\n"
     ]
    },
    {
     "name": "stderr",
     "output_type": "stream",
     "text": [
      "| TP_H + FN_H + FP_H + TN_H: 1622111\n",
      "    len(label_mask_current_deforestation_test): 54124865\n",
      "ic| TP_H + FN_H + FP_H + TN_H: 1622111\n",
      "    len(label_mask_current_deforestation_test): 54124865\n"
     ]
    },
    {
     "name": "stdout",
     "output_type": "stream",
     "text": [
      "[0.81428363 0.9524415  0.76520374 0.02996979 0.33192539 0.3063865 ]\n",
      "0.5456714022566329\n",
      "threshold 0.5456714022566329\n",
      "(52501140,) (52501140,)\n"
     ]
    },
    {
     "name": "stderr",
     "output_type": "stream",
     "text": [
      "ic| label_current_deforestation_test_classified_incorrect.shape: (1623725,)\n",
      "    predicted_test_classified_incorrect.shape: (1623725,)\n",
      "ic"
     ]
    },
    {
     "name": "stdout",
     "output_type": "stream",
     "text": [
      "cm_correct [[51780458   128540]\n",
      " [   28144   563998]]\n",
      "cm_incorrect [[1389238   89475]\n",
      " [ 100537   44475]]\n"
     ]
    },
    {
     "name": "stderr",
     "output_type": "stream",
     "text": [
      "| TP_H + FN_H + FP_H + TN_H: 1623725\n",
      "    len(label_mask_current_deforestation_test): 54124865\n",
      "ic| TP_H + FN_H + FP_H + TN_H: 1623725\n",
      "    len(label_mask_current_deforestation_test): 54124865\n"
     ]
    },
    {
     "name": "stdout",
     "output_type": "stream",
     "text": [
      "[0.81439286 0.95247086 0.765102   0.02999961 0.33202688 0.30669876]\n",
      "0.5456085009140066\n",
      "threshold 0.5456085009140066\n",
      "(52500795,) (52500795,)\n"
     ]
    },
    {
     "name": "stderr",
     "output_type": "stream",
     "text": [
      "ic| label_current_deforestation_test_classified_incorrect.shape: (1624070,)\n",
      "    predicted_test_classified_incorrect.shape: (1624070,)\n",
      "ic"
     ]
    },
    {
     "name": "stdout",
     "output_type": "stream",
     "text": [
      "cm_correct [[51780149   128520]\n",
      " [   28137   563989]]\n",
      "cm_incorrect [[1389547   89495]\n",
      " [ 100544   44484]]\n"
     ]
    },
    {
     "name": "stderr",
     "output_type": "stream",
     "text": [
      "| TP_H + FN_H + FP_H + TN_H: 1624070\n",
      "    len(label_mask_current_deforestation_test): 54124865\n",
      "ic| TP_H + FN_H + FP_H + TN_H: 1624070\n",
      "    len(label_mask_current_deforestation_test): 54124865\n",
      "ic| self.threshold_optimal: 0.5456714022566329\n"
     ]
    },
    {
     "name": "stdout",
     "output_type": "stream",
     "text": [
      "[0.81441396 0.9524814  0.76508979 0.03000599 0.33202218 0.30672698]\n",
      "threshold 0.5456714022566329\n",
      "(52501140,) (52501140,)\n"
     ]
    },
    {
     "name": "stderr",
     "output_type": "stream",
     "text": [
      "ic| label_current_deforestation_test_classified_incorrect.shape: (1623725,)\n",
      "    predicted_test_classified_incorrect.shape: (1623725,)\n",
      "ic"
     ]
    },
    {
     "name": "stdout",
     "output_type": "stream",
     "text": [
      "cm_correct [[51780458   128540]\n",
      " [   28144   563998]]\n",
      "cm_incorrect [[1389238   89475]\n",
      " [ 100537   44475]]\n"
     ]
    },
    {
     "name": "stderr",
     "output_type": "stream",
     "text": [
      "| TP_H + FN_H + FP_H + TN_H: 1623725\n",
      "    len(label_mask_current_deforestation_test): 54124865\n",
      "ic| TP_H + FN_H + FP_H + TN_H: 1623725\n",
      "    len(label_mask_current_deforestation_test): 54124865\n"
     ]
    },
    {
     "name": "stdout",
     "output_type": "stream",
     "text": [
      "[0.81439286 0.95247086 0.765102   0.02999961 0.33202688 0.30669876]\n",
      "threshold 0.5456714022566329\n",
      "(54124865,) (54124865,)\n"
     ]
    },
    {
     "name": "stderr",
     "output_type": "stream",
     "text": [
      "ic| self.m_optimal: {'AA': array([0.02999961]),\n",
      "                     'f1_H': array([0.31886063]),\n",
      "                     'f1_L': array([0.87803655]),\n",
      "                     'precision_H': array([0.33202688]),\n",
      "                     'precision_L': array([0.81439286]),\n",
      "                     'recall_H': array([0.30669876]),\n",
      "                     'recall_L': array([0.95247086]),\n",
      "                     'recall_Ltotal': array([0.765102])}\n",
      "ic| self.m_audited_optimal: {'f1': array([0.9004994]),\n",
      "                             'precision': array([0.84652857]),\n",
      "                             'recall': array([0.96182073])}\n"
     ]
    },
    {
     "name": "stdout",
     "output_type": "stream",
     "text": [
      "cm_audited [[53259171   128540]\n",
      " [   28144   709010]]\n",
      "[0.84652857 0.96182073]\n",
      "D:/Jorge/datasets/deforestation/Para/deforestation_past_years.tif\n",
      "Loaded deforestation past years\n"
     ]
    },
    {
     "name": "stderr",
     "output_type": "stream",
     "text": [
      "ic| np.unique(deforestation_past_years, return_counts=True): (array([   0, 2008, 2009, 2010, 2011, 2012, 2013, 2014, 2015, 2016, 2017,\n",
      "                                                                    2018, 2019, 2020, 2021], dtype=uint16),\n",
      "                                                              array([132185553,   3150503,   4571354,    864429,    903608,   1299506,\n",
      "                                                                      2477971,   1561686,   1459696,    969060,    644976,   2209014,\n",
      "                                                                      2100204,   5257014,   3514616], dtype=int64))\n"
     ]
    },
    {
     "name": "stdout",
     "output_type": "stream",
     "text": [
      "Label where deforestation past years is actual date (2019) = 1\n"
     ]
    },
    {
     "name": "stderr",
     "output_type": "stream",
     "text": [
      "ic| np.unique(deforestation_past_years, return_counts=True): (array([   0, 2008, 2009, 2010, 2011, 2012, 2013, 2014, 2015, 2016, 2017,\n",
      "                                                                    2018, 2019, 2020, 2021], dtype=uint16),\n",
      "                                                              array([132185553,   3150503,   4571354,    864429,    903608,   1299506,\n",
      "                                                                      2477971,   1561686,   1459696,    969060,    644976,   2209014,\n",
      "                                                                      2100204,   5257014,   3514616], dtype=int64))\n"
     ]
    },
    {
     "name": "stdout",
     "output_type": "stream",
     "text": [
      "Past deforestation different from 0 (no deforestation)\n"
     ]
    },
    {
     "name": "stderr",
     "output_type": "stream",
     "text": [
      "ic| np.unique(deforestation_past_years, return_counts=True): (array([   0, 2008, 2009, 2010, 2011, 2012, 2013, 2014, 2015, 2016, 2017,\n",
      "                                                                    2018, 2019, 2020, 2021], dtype=uint16),\n",
      "                                                              array([132185553,   3150503,   4571354,    864429,    903608,   1299506,\n",
      "                                                                      2477971,   1561686,   1459696,    969060,    644976,   2209014,\n",
      "                                                                      2100204,   5257014,   3514616], dtype=int64))\n"
     ]
    },
    {
     "name": "stdout",
     "output_type": "stream",
     "text": [
      "Past deforestation before 2008 is 2\n",
      "D:/Jorge/datasets/deforestation/deforestation_before_2008/deforestation_before_2008_para.tif\n"
     ]
    },
    {
     "name": "stderr",
     "output_type": "stream",
     "text": [
      "ic| np.unique(label_past_deforestation_before_2008, return_counts=True): (array([  0, 215], dtype=uint8), array([124211220,  38957970], dtype=int64))\n",
      "ic| np.unique(deforestation_past_years, return_counts=True): (array([   0, 2008, 2009, 2010, 2011, 2012, 2013, 2014, 2015, 2016, 2017,\n",
      "                                                                    2018, 2019, 2020, 2021], dtype=uint16),\n",
      "                                                              array([132185553,   3150503,   4571354,    864429,    903608,   1299506,\n",
      "                                                                      2477971,   1561686,   1459696,    969060,    644976,   2209014,\n",
      "                                                                      2100204,   5257014,   3514616], dtype=int64))\n",
      "ic| label_per_date.shape: (17730, 9203, 1)\n"
     ]
    },
    {
     "name": "stdout",
     "output_type": "stream",
     "text": [
      "Mask label shape:  \n",
      " (17730, 9203, 1) \n",
      " Unique values:  \n",
      " [0 1 2]\n",
      "Tiles size:  3546 2300\n",
      "Mask size:  (17730, 9200)\n"
     ]
    },
    {
     "name": "stderr",
     "output_type": "stream",
     "text": [
      "ic| image_stack.shape: (17730, 9203, 21)\n"
     ]
    },
    {
     "name": "stdout",
     "output_type": "stream",
     "text": [
      "Image shape:  (17730, 9203, 21)\n",
      "mask:  (17730, 9200)\n",
      "image stack:  (17730, 9200, 21)\n",
      "ref : (17730, 9200, 1)\n",
      "Training tiles:  [1, 3, 5, 8, 11, 13, 14, 20]\n",
      "Validation tiles:  [6, 19]\n",
      "Test tiles:  [2, 4, 7, 9, 10, 12, 15, 16, 17, 18]\n"
     ]
    },
    {
     "name": "stderr",
     "output_type": "stream",
     "text": [
      "ic| im_idx_row.shape: (17730, 9200, 1)\n",
      "    im_idx_col.shape: (17730, 9200, 1)\n",
      "ic| im_idx_row.dtype: dtype('uint16')\n",
      "    im_idx_col.dtype: dtype('uint16')\n",
      "ic| im_idx.shape: (17730, 9200, 2), im_idx.dtype: dtype('uint16')\n",
      "ic| coords.shape: (464, 239, 1, 128, 128, 2)\n",
      "    coords.dtype: dtype('uint16')\n",
      "ic| coords.shape: (110896, 2), coords.dtype: dtype('uint16')\n",
      "ic| self.coords_train.shape: (41812, 3)\n",
      "    self.coords_val.shape: (10260, 3)\n"
     ]
    },
    {
     "name": "stdout",
     "output_type": "stream",
     "text": [
      "training samples:  (3753, 3) validation samples:  (1032, 3)\n",
      "time:  0\n",
      "Model: \"model_6\"\n",
      "__________________________________________________________________________________________________\n",
      "Layer (type)                    Output Shape         Param #     Connected to                     \n",
      "==================================================================================================\n",
      "input_enc_net (InputLayer)      [(None, 128, 128, 21 0                                            \n",
      "__________________________________________________________________________________________________\n",
      "res1_net1 (Conv2D)              (None, 128, 128, 16) 3040        input_enc_net[0][0]              \n",
      "__________________________________________________________________________________________________\n",
      "drop_net1 (Dropout)             (None, 128, 128, 16) 0           res1_net1[0][0]                  \n",
      "__________________________________________________________________________________________________\n",
      "res2_net1 (Conv2D)              (None, 128, 128, 16) 2320        drop_net1[0][0]                  \n",
      "__________________________________________________________________________________________________\n",
      "res3_net1 (Conv2D)              (None, 128, 128, 16) 352         input_enc_net[0][0]              \n",
      "__________________________________________________________________________________________________\n",
      "add_36 (Add)                    (None, 128, 128, 16) 0           res2_net1[0][0]                  \n",
      "                                                                 res3_net1[0][0]                  \n",
      "__________________________________________________________________________________________________\n",
      "pool_net1 (MaxPooling2D)        (None, 64, 64, 16)   0           add_36[0][0]                     \n",
      "__________________________________________________________________________________________________\n",
      "res1_net2 (Conv2D)              (None, 64, 64, 32)   4640        pool_net1[0][0]                  \n",
      "__________________________________________________________________________________________________\n",
      "drop_net2 (Dropout)             (None, 64, 64, 32)   0           res1_net2[0][0]                  \n",
      "__________________________________________________________________________________________________\n",
      "res2_net2 (Conv2D)              (None, 64, 64, 32)   9248        drop_net2[0][0]                  \n",
      "__________________________________________________________________________________________________\n",
      "res3_net2 (Conv2D)              (None, 64, 64, 32)   544         pool_net1[0][0]                  \n",
      "__________________________________________________________________________________________________\n",
      "add_37 (Add)                    (None, 64, 64, 32)   0           res2_net2[0][0]                  \n",
      "                                                                 res3_net2[0][0]                  \n",
      "__________________________________________________________________________________________________\n",
      "pool_net2 (MaxPooling2D)        (None, 32, 32, 32)   0           add_37[0][0]                     \n",
      "__________________________________________________________________________________________________\n",
      "res1_net3 (Conv2D)              (None, 32, 32, 64)   18496       pool_net2[0][0]                  \n",
      "__________________________________________________________________________________________________\n",
      "drop_net3 (Dropout)             (None, 32, 32, 64)   0           res1_net3[0][0]                  \n",
      "__________________________________________________________________________________________________\n",
      "res2_net3 (Conv2D)              (None, 32, 32, 64)   36928       drop_net3[0][0]                  \n",
      "__________________________________________________________________________________________________\n",
      "res3_net3 (Conv2D)              (None, 32, 32, 64)   2112        pool_net2[0][0]                  \n",
      "__________________________________________________________________________________________________\n",
      "add_38 (Add)                    (None, 32, 32, 64)   0           res2_net3[0][0]                  \n",
      "                                                                 res3_net3[0][0]                  \n",
      "__________________________________________________________________________________________________\n",
      "pool_net3 (MaxPooling2D)        (None, 16, 16, 64)   0           add_38[0][0]                     \n",
      "__________________________________________________________________________________________________\n",
      "res1_net4 (Conv2D)              (None, 16, 16, 64)   36928       pool_net3[0][0]                  \n",
      "__________________________________________________________________________________________________\n",
      "drop_net4 (Dropout)             (None, 16, 16, 64)   0           res1_net4[0][0]                  \n",
      "__________________________________________________________________________________________________\n",
      "res2_net4 (Conv2D)              (None, 16, 16, 64)   36928       drop_net4[0][0]                  \n",
      "__________________________________________________________________________________________________\n",
      "res3_net4 (Conv2D)              (None, 16, 16, 64)   4160        pool_net3[0][0]                  \n",
      "__________________________________________________________________________________________________\n",
      "add_39 (Add)                    (None, 16, 16, 64)   0           res2_net4[0][0]                  \n",
      "                                                                 res3_net4[0][0]                  \n",
      "__________________________________________________________________________________________________\n",
      "res1_net5 (Conv2D)              (None, 16, 16, 64)   36928       add_39[0][0]                     \n",
      "__________________________________________________________________________________________________\n",
      "drop_net5 (Dropout)             (None, 16, 16, 64)   0           res1_net5[0][0]                  \n",
      "__________________________________________________________________________________________________\n",
      "res2_net5 (Conv2D)              (None, 16, 16, 64)   36928       drop_net5[0][0]                  \n",
      "__________________________________________________________________________________________________\n",
      "res3_net5 (Conv2D)              (None, 16, 16, 64)   4160        add_39[0][0]                     \n",
      "__________________________________________________________________________________________________\n",
      "add_40 (Add)                    (None, 16, 16, 64)   0           res2_net5[0][0]                  \n",
      "                                                                 res3_net5[0][0]                  \n",
      "__________________________________________________________________________________________________\n",
      "res1_net6 (Conv2D)              (None, 16, 16, 64)   36928       add_40[0][0]                     \n",
      "__________________________________________________________________________________________________\n",
      "drop_net6 (Dropout)             (None, 16, 16, 64)   0           res1_net6[0][0]                  \n",
      "__________________________________________________________________________________________________\n",
      "res2_net6 (Conv2D)              (None, 16, 16, 64)   36928       drop_net6[0][0]                  \n",
      "__________________________________________________________________________________________________\n",
      "res3_net6 (Conv2D)              (None, 16, 16, 64)   4160        add_40[0][0]                     \n",
      "__________________________________________________________________________________________________\n",
      "add_41 (Add)                    (None, 16, 16, 64)   0           res2_net6[0][0]                  \n",
      "                                                                 res3_net6[0][0]                  \n",
      "__________________________________________________________________________________________________\n",
      "up_sampling2d_18 (UpSampling2D) (None, 32, 32, 64)   0           add_41[0][0]                     \n",
      "__________________________________________________________________________________________________\n",
      "upsampling_net3 (Conv2D)        (None, 32, 32, 64)   36928       up_sampling2d_18[0][0]           \n",
      "__________________________________________________________________________________________________\n",
      "concatenate3 (Concatenate)      (None, 32, 32, 128)  0           add_38[0][0]                     \n",
      "                                                                 upsampling_net3[0][0]            \n",
      "__________________________________________________________________________________________________\n",
      "up_sampling2d_19 (UpSampling2D) (None, 64, 64, 128)  0           concatenate3[0][0]               \n",
      "__________________________________________________________________________________________________\n",
      "upsampling_net2 (Conv2D)        (None, 64, 64, 32)   36896       up_sampling2d_19[0][0]           \n",
      "__________________________________________________________________________________________________\n",
      "concatenate2 (Concatenate)      (None, 64, 64, 64)   0           add_37[0][0]                     \n",
      "                                                                 upsampling_net2[0][0]            \n",
      "__________________________________________________________________________________________________\n",
      "up_sampling2d_20 (UpSampling2D) (None, 128, 128, 64) 0           concatenate2[0][0]               \n",
      "__________________________________________________________________________________________________\n",
      "upsampling_net1 (Conv2D)        (None, 128, 128, 16) 9232        up_sampling2d_20[0][0]           \n",
      "__________________________________________________________________________________________________\n",
      "concatenate1 (Concatenate)      (None, 128, 128, 32) 0           add_36[0][0]                     \n",
      "                                                                 upsampling_net1[0][0]            \n",
      "__________________________________________________________________________________________________\n",
      "output (Conv2D)                 (None, 128, 128, 3)  99          concatenate1[0][0]               \n",
      "==================================================================================================\n",
      "Total params: 394,883\n",
      "Trainable params: 394,883\n",
      "Non-trainable params: 0\n",
      "__________________________________________________________________________________________________\n"
     ]
    },
    {
     "name": "stderr",
     "output_type": "stream",
     "text": [
      "c:\\Users\\jchamorro\\Anaconda3\\envs\\tf2\\lib\\site-packages\\tensorflow\\python\\keras\\optimizer_v2\\optimizer_v2.py:374: UserWarning: The `lr` argument is deprecated, use `learning_rate` instead.\n",
      "  warnings.warn(\n",
      "c:\\Users\\jchamorro\\Anaconda3\\envs\\tf2\\lib\\site-packages\\tensorflow\\python\\keras\\engine\\training.py:1969: UserWarning: `Model.fit_generator` is deprecated and will be removed in a future version. Please use `Model.fit`, which supports generators.\n",
      "  warnings.warn('`Model.fit_generator` is deprecated and '\n"
     ]
    },
    {
     "name": "stdout",
     "output_type": "stream",
     "text": [
      "Epoch 1/100\n",
      "self.global_step 0.0\n",
      "alpha Tensor(\"loss/add:0\", shape=(None, 128, 128, 3), dtype=float32)\n",
      "u Tensor(\"loss/truediv:0\", shape=(None, 128, 128, 1), dtype=float32)\n",
      "alpha Tensor(\"add:0\", shape=(None, 128, 128, 3), dtype=float32)\n",
      "u Tensor(\"truediv:0\", shape=(None, 128, 128, 1), dtype=float32)\n",
      "K.int_shape(KL_reg) Tensor(\"mul_6:0\", shape=(None, 128, 128, 1), dtype=float32)\n",
      "alpha Tensor(\"add_7:0\", shape=(None, 128, 128, 3), dtype=float32)\n",
      "u Tensor(\"truediv_5:0\", shape=(None, 128, 128, 1), dtype=float32)\n",
      "K.int_shape(KL_reg) Tensor(\"mul_12:0\", shape=(None, 128, 128, 1), dtype=float32)\n",
      "alpha Tensor(\"loss/add:0\", shape=(None, 128, 128, 3), dtype=float32)\n",
      "u Tensor(\"loss/truediv:0\", shape=(None, 128, 128, 1), dtype=float32)\n",
      "alpha Tensor(\"add:0\", shape=(None, 128, 128, 3), dtype=float32)\n",
      "u Tensor(\"truediv:0\", shape=(None, 128, 128, 1), dtype=float32)\n",
      "K.int_shape(KL_reg) Tensor(\"mul_6:0\", shape=(None, 128, 128, 1), dtype=float32)\n",
      "alpha Tensor(\"add_7:0\", shape=(None, 128, 128, 3), dtype=float32)\n",
      "u Tensor(\"truediv_5:0\", shape=(None, 128, 128, 1), dtype=float32)\n",
      "K.int_shape(KL_reg) Tensor(\"mul_12:0\", shape=(None, 128, 128, 1), dtype=float32)\n",
      "351/351 [==============================] - ETA: 0s - loss: 0.2643 - accuracy: 0.8308 - KL_term: 0.0176 - loglikelihood_term: 0.2466 - evidential_success: 37.9538 - evidential_fail: 6.7673 - acc: 0.8310 - annealing_coef: 0.1400 - global_step_get: 175.0000 - annealing_step_get: 1250.0000alpha Tensor(\"loss/add:0\", shape=(None, 128, 128, 3), dtype=float32)\n",
      "u Tensor(\"loss/truediv:0\", shape=(None, 128, 128, 1), dtype=float32)\n",
      "alpha Tensor(\"add:0\", shape=(None, 128, 128, 3), dtype=float32)\n",
      "u Tensor(\"truediv:0\", shape=(None, 128, 128, 1), dtype=float32)\n",
      "K.int_shape(KL_reg) Tensor(\"mul_6:0\", shape=(None, 128, 128, 1), dtype=float32)\n",
      "alpha Tensor(\"add_7:0\", shape=(None, 128, 128, 3), dtype=float32)\n",
      "u Tensor(\"truediv_5:0\", shape=(None, 128, 128, 1), dtype=float32)\n",
      "K.int_shape(KL_reg) Tensor(\"mul_12:0\", shape=(None, 128, 128, 1), dtype=float32)\n",
      "351/351 [==============================] - 34s 90ms/step - loss: 0.2643 - accuracy: 0.8308 - KL_term: 0.0176 - loglikelihood_term: 0.2466 - evidential_success: 37.9538 - evidential_fail: 6.7673 - acc: 0.8310 - annealing_coef: 0.1400 - global_step_get: 175.0000 - annealing_step_get: 1250.0000 - val_loss: 0.1936 - val_accuracy: 0.9117 - val_KL_term: 0.0290 - val_loglikelihood_term: 0.1630 - val_evidential_success: 40.4914 - val_evidential_fail: 4.2569 - val_acc: 0.9123 - val_annealing_coef: 0.2800 - val_global_step_get: 350.0000 - val_annealing_step_get: 1250.0000\n",
      "\n",
      "Epoch 00001: val_loss improved from inf to 0.19356, saving model to D:/Jorge/datasets/deforestation/experiments/exp143/models\\resunet_0.h5\n",
      "Epoch 2/100\n",
      "self.global_step 350.0\n",
      "  1/351 [..............................] - ETA: 27s - loss: 0.1287 - accuracy: 0.9298 - KL_term: 0.0000e+00 - loglikelihood_term: 0.1287 - evidential_success: 44.8374 - evidential_fail: 3.4657 - acc: 0.9298 - annealing_coef: 0.0000e+00 - global_step_get: 0.0000e+00 - annealing_step_get: 1250.0000"
     ]
    },
    {
     "name": "stderr",
     "output_type": "stream",
     "text": [
      "c:\\Users\\jchamorro\\Anaconda3\\envs\\tf2\\lib\\site-packages\\tensorflow\\python\\keras\\utils\\generic_utils.py:494: CustomMaskWarning: Custom mask layers require a config and must override get_config. When loading, the custom mask layer must be passed to the custom_objects argument.\n",
      "  warnings.warn('Custom mask layers require a config and must override '\n"
     ]
    },
    {
     "name": "stdout",
     "output_type": "stream",
     "text": [
      "351/351 [==============================] - 31s 88ms/step - loss: 0.1549 - accuracy: 0.9255 - KL_term: 0.0229 - loglikelihood_term: 0.1320 - evidential_success: 64.3912 - evidential_fail: 6.3921 - acc: 0.9254 - annealing_coef: 0.2800 - global_step_get: 350.0000 - annealing_step_get: 1250.0000 - val_loss: 0.1632 - val_accuracy: 0.9320 - val_KL_term: 0.0348 - val_loglikelihood_term: 0.1276 - val_evidential_success: 51.1843 - val_evidential_fail: 3.3381 - val_acc: 0.9325 - val_annealing_coef: 0.5600 - val_global_step_get: 700.0000 - val_annealing_step_get: 1250.0000\n",
      "\n",
      "Epoch 00002: val_loss improved from 0.19356 to 0.16316, saving model to D:/Jorge/datasets/deforestation/experiments/exp143/models\\resunet_0.h5\n",
      "Epoch 3/100\n",
      "self.global_step 700.0\n",
      "351/351 [==============================] - 31s 88ms/step - loss: 0.1498 - accuracy: 0.9322 - KL_term: 0.0261 - loglikelihood_term: 0.1237 - evidential_success: 74.1395 - evidential_fail: 5.4612 - acc: 0.9322 - annealing_coef: 0.4200 - global_step_get: 525.0000 - annealing_step_get: 1250.0000 - val_loss: 0.1825 - val_accuracy: 0.9301 - val_KL_term: 0.0518 - val_loglikelihood_term: 0.1298 - val_evidential_success: 61.4240 - val_evidential_fail: 3.0727 - val_acc: 0.9307 - val_annealing_coef: 0.8400 - val_global_step_get: 1050.0000 - val_annealing_step_get: 1250.0000\n",
      "\n",
      "Epoch 00003: val_loss did not improve from 0.16316\n",
      "Epoch 4/100\n",
      "self.global_step 1050.0\n",
      "351/351 [==============================] - 31s 89ms/step - loss: 0.1478 - accuracy: 0.9361 - KL_term: 0.0278 - loglikelihood_term: 0.1199 - evidential_success: 86.5942 - evidential_fail: 4.8973 - acc: 0.9361 - annealing_coef: 0.5534 - global_step_get: 700.0000 - annealing_step_get: 1250.0000 - val_loss: 0.1997 - val_accuracy: 0.9281 - val_KL_term: 0.0637 - val_loglikelihood_term: 0.1358 - val_evidential_success: 66.9233 - val_evidential_fail: 3.0088 - val_acc: 0.9287 - val_annealing_coef: 1.0000 - val_global_step_get: 1400.0000 - val_annealing_step_get: 1250.0000\n",
      "\n",
      "Epoch 00004: val_loss did not improve from 0.16316\n",
      "Epoch 5/100\n",
      "self.global_step 1400.0\n",
      "351/351 [==============================] - 31s 88ms/step - loss: 0.1443 - accuracy: 0.9393 - KL_term: 0.0282 - loglikelihood_term: 0.1160 - evidential_success: 94.5076 - evidential_fail: 4.5673 - acc: 0.9393 - annealing_coef: 0.6425 - global_step_get: 875.0000 - annealing_step_get: 1250.0000 - val_loss: 0.2130 - val_accuracy: 0.9266 - val_KL_term: 0.0774 - val_loglikelihood_term: 0.1339 - val_evidential_success: 83.2915 - val_evidential_fail: 3.5367 - val_acc: 0.9273 - val_annealing_coef: 1.0000 - val_global_step_get: 1750.0000 - val_annealing_step_get: 1250.0000\n",
      "\n",
      "Epoch 00005: val_loss did not improve from 0.16316\n",
      "Epoch 6/100\n",
      "self.global_step 1750.0\n",
      "351/351 [==============================] - 31s 88ms/step - loss: 0.1425 - accuracy: 0.9407 - KL_term: 0.0283 - loglikelihood_term: 0.1143 - evidential_success: 101.5617 - evidential_fail: 4.0777 - acc: 0.9407 - annealing_coef: 0.7018 - global_step_get: 1050.0000 - annealing_step_get: 1250.0000 - val_loss: 0.1958 - val_accuracy: 0.9319 - val_KL_term: 0.0661 - val_loglikelihood_term: 0.1284 - val_evidential_success: 86.8144 - val_evidential_fail: 3.0481 - val_acc: 0.9324 - val_annealing_coef: 1.0000 - val_global_step_get: 2100.0000 - val_annealing_step_get: 1250.0000\n",
      "\n",
      "Epoch 00006: val_loss did not improve from 0.16316\n",
      "Epoch 7/100\n",
      "self.global_step 2100.0\n",
      "351/351 [==============================] - 31s 88ms/step - loss: 0.1421 - accuracy: 0.9415 - KL_term: 0.0286 - loglikelihood_term: 0.1136 - evidential_success: 107.0586 - evidential_fail: 3.8526 - acc: 0.9415 - annealing_coef: 0.7442 - global_step_get: 1225.0000 - annealing_step_get: 1250.0000 - val_loss: 0.2027 - val_accuracy: 0.9276 - val_KL_term: 0.0665 - val_loglikelihood_term: 0.1344 - val_evidential_success: 90.3476 - val_evidential_fail: 2.8832 - val_acc: 0.9282 - val_annealing_coef: 1.0000 - val_global_step_get: 2450.0000 - val_annealing_step_get: 1250.0000\n",
      "\n",
      "Epoch 00007: val_loss did not improve from 0.16316\n",
      "Epoch 8/100\n",
      "self.global_step 2450.0\n",
      "351/351 [==============================] - 31s 88ms/step - loss: 0.1366 - accuracy: 0.9440 - KL_term: 0.0275 - loglikelihood_term: 0.1089 - evidential_success: 112.5506 - evidential_fail: 3.6846 - acc: 0.9440 - annealing_coef: 0.7760 - global_step_get: 1400.0000 - annealing_step_get: 1250.0000 - val_loss: 0.1874 - val_accuracy: 0.9344 - val_KL_term: 0.0595 - val_loglikelihood_term: 0.1281 - val_evidential_success: 83.6947 - val_evidential_fail: 3.2175 - val_acc: 0.9349 - val_annealing_coef: 1.0000 - val_global_step_get: 2800.0000 - val_annealing_step_get: 1250.0000\n",
      "\n",
      "Epoch 00008: val_loss did not improve from 0.16316\n",
      "Epoch 9/100\n",
      "self.global_step 2800.0\n",
      "351/351 [==============================] - 31s 88ms/step - loss: 0.1338 - accuracy: 0.9448 - KL_term: 0.0267 - loglikelihood_term: 0.1070 - evidential_success: 116.1097 - evidential_fail: 3.4613 - acc: 0.9448 - annealing_coef: 0.8007 - global_step_get: 1575.0000 - annealing_step_get: 1250.0000 - val_loss: 0.1910 - val_accuracy: 0.9355 - val_KL_term: 0.0674 - val_loglikelihood_term: 0.1238 - val_evidential_success: 83.9292 - val_evidential_fail: 3.4274 - val_acc: 0.9359 - val_annealing_coef: 1.0000 - val_global_step_get: 3150.0000 - val_annealing_step_get: 1250.0000\n",
      "\n",
      "Epoch 00009: val_loss did not improve from 0.16316\n",
      "Epoch 10/100\n",
      "self.global_step 3150.0\n",
      "351/351 [==============================] - 31s 88ms/step - loss: 0.1307 - accuracy: 0.9463 - KL_term: 0.0263 - loglikelihood_term: 0.1042 - evidential_success: 126.4511 - evidential_fail: 3.4353 - acc: 0.9463 - annealing_coef: 0.8205 - global_step_get: 1750.0000 - annealing_step_get: 1250.0000 - val_loss: 0.2016 - val_accuracy: 0.9315 - val_KL_term: 0.0749 - val_loglikelihood_term: 0.1267 - val_evidential_success: 111.1010 - val_evidential_fail: 4.1035 - val_acc: 0.9320 - val_annealing_coef: 1.0000 - val_global_step_get: 3500.0000 - val_annealing_step_get: 1250.0000\n",
      "\n",
      "Epoch 00010: val_loss did not improve from 0.16316\n",
      "Epoch 11/100\n",
      "self.global_step 3500.0\n",
      "351/351 [==============================] - 31s 88ms/step - loss: 0.1280 - accuracy: 0.9473 - KL_term: 0.0258 - loglikelihood_term: 0.1022 - evidential_success: 124.2598 - evidential_fail: 3.2573 - acc: 0.9474 - annealing_coef: 0.8367 - global_step_get: 1925.0000 - annealing_step_get: 1250.0000 - val_loss: 0.1979 - val_accuracy: 0.9320 - val_KL_term: 0.0670 - val_loglikelihood_term: 0.1291 - val_evidential_success: 85.3392 - val_evidential_fail: 3.3652 - val_acc: 0.9326 - val_annealing_coef: 1.0000 - val_global_step_get: 3850.0000 - val_annealing_step_get: 1250.0000\n",
      "\n",
      "Epoch 00011: val_loss did not improve from 0.16316\n",
      "Epoch 12/100\n",
      "self.global_step 3850.0\n",
      "351/351 [==============================] - 31s 88ms/step - loss: 0.1250 - accuracy: 0.9488 - KL_term: 0.0253 - loglikelihood_term: 0.0998 - evidential_success: 131.7971 - evidential_fail: 3.2291 - acc: 0.9487 - annealing_coef: 0.8502 - global_step_get: 2100.0000 - annealing_step_get: 1250.0000 - val_loss: 0.2118 - val_accuracy: 0.9308 - val_KL_term: 0.0812 - val_loglikelihood_term: 0.1300 - val_evidential_success: 100.6293 - val_evidential_fail: 4.5898 - val_acc: 0.9313 - val_annealing_coef: 1.0000 - val_global_step_get: 4200.0000 - val_annealing_step_get: 1250.0000\n",
      "\n",
      "Epoch 00012: val_loss did not improve from 0.16316\n",
      "Epoch 00012: early stopping\n",
      "-30.0 -16.0\n"
     ]
    },
    {
     "name": "stderr",
     "output_type": "stream",
     "text": [
      "ic| self.path_models+ '/' + self.method +'_'+str(0)+'.h5': 'D:/Jorge/datasets/deforestation/experiments/exp143/models/resunet_0.h5'\n"
     ]
    },
    {
     "name": "stdout",
     "output_type": "stream",
     "text": [
      "time:  0\n",
      "(54236371,)\n",
      "(array([0, 1], dtype=uint8), array([53470765,   765606], dtype=int64))\n",
      "(17730, 9200)\n",
      "(array([0., 1.], dtype=float32), array([161334224,   1781776], dtype=int64))\n"
     ]
    },
    {
     "name": "stderr",
     "output_type": "stream",
     "text": [
      "ic| self.predicted_unpad.shape: (17730, 9200)\n",
      "    self.predicted.shape: (17730, 9200)\n",
      "ic| predicted_test.shape: (81558000,)\n",
      "ic| predicted_test.shape: (54236371,)\n",
      "ic| np.unique(predicted, return_counts=True): (array([0., 1.], dtype=float32), array([161334224,   1781776], dtype=int64))\n",
      "    np.unique(predicted_larger_than_min_area, return_counts=True): (array([0., 1.], dtype=float32), array([161501282,   1614718], dtype=int64))\n",
      "ic| np.unique(ignored_polygons, return_counts=True): (array([0., 1.], dtype=float32), array([162948942,    167058], dtype=int64))\n",
      "ic| predicted.shape: (17730, 9200), label_mask.shape: (17730, 9200)\n",
      "ic| predicted_masked.shape: (81558000,)\n",
      "    label_masked.shape: (81558000,)\n",
      "ic| np.unique(label_masked, return_counts=True): (array([0, 1, 2], dtype=uint8),\n",
      "                                                  array([53416582,   736094, 27405324], dtype=int64))\n",
      "ic| predicted_masked.shape: (54152676,)\n",
      "    label_masked.shape: (54152676,)\n",
      "ic| self.f1: 83.28, self.precision: 89.12, self.recall: 78.16\n",
      "ic| self.label_mask_val.shape: (16311600,)\n",
      "ic| self.label_mask_val_valid.shape: (9434236,)\n",
      "ic| f1_val: 86.5\n",
      "    precision_val: 85.67\n",
      "    recall_val: 87.34\n",
      "    mAP_val: 91.64\n"
     ]
    },
    {
     "name": "stdout",
     "output_type": "stream",
     "text": [
      "(array([0., 1.], dtype=float32), array([162477036,    638964], dtype=int64))\n"
     ]
    },
    {
     "name": "stderr",
     "output_type": "stream",
     "text": [
      "ic| self.label_mask.shape: (17730, 9200)\n",
      "ic| self.mask_amazon_ts.shape: (17730, 9200)\n",
      "ic| self.label_mask_test.shape: (81558000,)\n",
      "ic| self.error_mask_test.shape: (54152676,)\n",
      "ic| bounds: (0.015, 0.9985)\n",
      "c:\\Users\\jchamorro\\Anaconda3\\envs\\tf2\\lib\\site-packages\\scipy\\optimize\\_minimize.py:783: RuntimeWarning: Method 'bounded' does not support relative tolerance in x; defaulting to absolute tolerance.\n",
      "  warn(\"Method 'bounded' does not support relative tolerance in x; \"\n"
     ]
    },
    {
     "name": "stdout",
     "output_type": "stream",
     "text": [
      "0.3906635720644784\n",
      "threshold 0.3906635720644784\n",
      "(51747345,) (51747345,)\n"
     ]
    },
    {
     "name": "stderr",
     "output_type": "stream",
     "text": [
      "ic| label_current_deforestation_test_classified_incorrect.shape: (2405331,)\n",
      "    predicted_test_classified_incorrect.shape: (2405331,)\n"
     ]
    },
    {
     "name": "stdout",
     "output_type": "stream",
     "text": [
      "cm_correct [[51213413    24099]\n",
      " [   26104   483729]]\n"
     ]
    },
    {
     "name": "stderr",
     "output_type": "stream",
     "text": [
      "ic| TP_H + FN_H + FP_H + TN_H: 2405331\n",
      "    len(label_mask_current_deforestation_test): 54152676\n",
      "ic| TP_H + FN_H + FP_H + TN_H: 2405331\n",
      "    len(label_mask_current_deforestation_test): 54152676\n"
     ]
    },
    {
     "name": "stdout",
     "output_type": "stream",
     "text": [
      "cm_incorrect [[2132924   46146]\n",
      " [ 134629   91632]]\n",
      "[0.95254496 0.94879892 0.65715656 0.04441758 0.6650699  0.40498363]\n",
      "0.6228364279355216\n",
      "threshold 0.6228364279355216\n",
      "(52951028,) (52951028,)\n"
     ]
    },
    {
     "name": "stderr",
     "output_type": "stream",
     "text": [
      "ic| label_current_deforestation_test_classified_incorrect.shape: (1201648,)\n",
      "    predicted_test_classified_incorrect.shape: (1201648,)\n",
      "ic| TP_H + FN_H + FP_H + TN_H: 1201648\n",
      "    len(label_mask_current_deforestation_test): 54152676\n",
      "ic| TP_H + FN_H + FP_H + TN_H: 1201648\n",
      "    len(label_mask_current_deforestation_test): 54152676\n"
     ]
    },
    {
     "name": "stdout",
     "output_type": "stream",
     "text": [
      "cm_correct [[52311737    50657]\n",
      " [   43015   545619]]\n",
      "cm_incorrect [[1034600   19588]\n",
      " [ 117718   29742]]\n",
      "[0.91504438 0.92692403 0.74123549 0.02219    0.60291912 0.20169538]\n",
      "0.7663271441289569\n",
      "threshold 0.7663271441289569\n",
      "(53531840,) (53531840,)\n"
     ]
    },
    {
     "name": "stderr",
     "output_type": "stream",
     "text": [
      "ic| label_current_deforestation_test_classified_incorrect.shape: (620836,)\n",
      "    predicted_test_classified_incorrect.shape: (620836,)\n",
      "d:\\Jorge\\deforestation_uncertainty\\src\\metrics.py:299: RuntimeWarning: invalid value encountered in longlong_scalars\n",
      "  precision_H = TP_H / (TP_H + FP_H)\n",
      "ic| TP_H + FN_H + FP_H + TN_H: 620836\n",
      "    len(label_mask_current_deforestation_test): 54152676\n",
      "ic| TP_H + FN_H + FP_H + TN_H: 620836\n",
      "    len(label_mask_current_deforestation_test): 54152676\n"
     ]
    },
    {
     "name": "stdout",
     "output_type": "stream",
     "text": [
      "cm_correct [[52823630    70245]\n",
      " [   62604   575361]]\n",
      "cm_incorrect [[522707      0]\n",
      " [ 98129      0]]\n",
      "[0.89119525 0.90186922 0.78164066 0.01146455        nan 0.        ]\n",
      "0.5585456929543601\n",
      "threshold 0.5585456929543601\n",
      "(52638568,) (52638568,)\n"
     ]
    },
    {
     "name": "stderr",
     "output_type": "stream",
     "text": [
      "ic| label_current_deforestation_test_classified_incorrect.shape: (1514108,)\n",
      "    predicted_test_classified_incorrect.shape: (1514108,)\n",
      "ic"
     ]
    },
    {
     "name": "stdout",
     "output_type": "stream",
     "text": [
      "cm_correct [[52028848    42054]\n",
      " [   38000   529666]]\n",
      "cm_incorrect [[1317489   28191]\n",
      " [ 122733   45695]]\n"
     ]
    },
    {
     "name": "stderr",
     "output_type": "stream",
     "text": [
      "| TP_H + FN_H + FP_H + TN_H: 1514108\n",
      "    len(label_mask_current_deforestation_test): 54152676\n",
      "ic| TP_H + FN_H + FP_H + TN_H: 1514108\n",
      "    len(label_mask_current_deforestation_test): 54152676\n"
     ]
    },
    {
     "name": "stdout",
     "output_type": "stream",
     "text": [
      "[0.92644301 0.93305923 0.71956299 0.02795998 0.61845275 0.27130287]\n",
      "0.5269596490977033\n",
      "threshold 0.5269596490977033\n",
      "(52488883,) (52488883,)\n"
     ]
    },
    {
     "name": "stderr",
     "output_type": "stream",
     "text": [
      "ic| label_current_deforestation_test_classified_incorrect.shape: (1663793,)\n",
      "    predicted_test_classified_incorrect.shape: (1663793,)\n",
      "ic"
     ]
    },
    {
     "name": "stdout",
     "output_type": "stream",
     "text": [
      "cm_correct [[51892836    38258]\n",
      " [   35872   521917]]\n",
      "cm_incorrect [[1453501   31987]\n",
      " [ 124861   53444]]\n"
     ]
    },
    {
     "name": "stderr",
     "output_type": "stream",
     "text": [
      "| TP_H + FN_H + FP_H + TN_H: 1663793\n",
      "    len(label_mask_current_deforestation_test): 54152676\n",
      "ic| TP_H + FN_H + FP_H + TN_H: 1663793\n",
      "    len(label_mask_current_deforestation_test): 54152676\n"
     ]
    },
    {
     "name": "stdout",
     "output_type": "stream",
     "text": [
      "[0.93170349 0.93568894 0.7090358  0.03072411 0.62558088 0.2997336 ]\n",
      "0.5012209660685346\n",
      "threshold 0.5012209660685346\n",
      "(52364723,) (52364723,)\n"
     ]
    },
    {
     "name": "stderr",
     "output_type": "stream",
     "text": [
      "ic| label_current_deforestation_test_classified_incorrect.shape: (1787953,)\n",
      "    predicted_test_classified_incorrect.shape: (1787953,)\n"
     ]
    },
    {
     "name": "stdout",
     "output_type": "stream",
     "text": [
      "cm_correct [[51779873    35534]\n",
      " [   34045   515271]]\n"
     ]
    },
    {
     "name": "stderr",
     "output_type": "stream",
     "text": [
      "ic| TP_H + FN_H + FP_H + TN_H: 1787953\n",
      "    len(label_mask_current_deforestation_test): 54152676\n",
      "ic| TP_H + FN_H + FP_H + TN_H: 1787953\n",
      "    len(label_mask_current_deforestation_test): 54152676\n"
     ]
    },
    {
     "name": "stdout",
     "output_type": "stream",
     "text": [
      "cm_incorrect [[1566464   34711]\n",
      " [ 126688   60090]]\n",
      "[0.93548715 0.93802292 0.70000706 0.03301689 0.63385407 0.32171883]\n",
      "0.5336192819965336\n",
      "threshold 0.5336192819965336\n",
      "(52520890,) (52520890,)\n"
     ]
    },
    {
     "name": "stderr",
     "output_type": "stream",
     "text": [
      "ic| label_current_deforestation_test_classified_incorrect.shape: (1631786,)\n",
      "    predicted_test_classified_incorrect.shape: (1631786,)\n",
      "ic"
     ]
    },
    {
     "name": "stdout",
     "output_type": "stream",
     "text": [
      "cm_correct [[51922027    39015]\n",
      " [   36310   523538]]\n",
      "cm_incorrect [[1424310   31230]\n",
      " [ 124423   51823]]\n"
     ]
    },
    {
     "name": "stderr",
     "output_type": "stream",
     "text": [
      "| TP_H + FN_H + FP_H + TN_H: 1631786\n",
      "    len(label_mask_current_deforestation_test): 54152676\n",
      "ic| TP_H + FN_H + FP_H + TN_H: 1631786\n",
      "    len(label_mask_current_deforestation_test): 54152676\n"
     ]
    },
    {
     "name": "stdout",
     "output_type": "stream",
     "text": [
      "[0.93064653 0.93514311 0.71123797 0.03013306 0.62397505 0.29403788]\n",
      "0.5387712353477203\n",
      "threshold 0.5387712353477203\n",
      "(52545367,) (52545367,)\n"
     ]
    },
    {
     "name": "stderr",
     "output_type": "stream",
     "text": [
      "ic| label_current_deforestation_test_classified_incorrect.shape: (1607309,)\n",
      "    predicted_test_classified_incorrect.shape: (1607309,)\n",
      "ic"
     ]
    },
    {
     "name": "stdout",
     "output_type": "stream",
     "text": [
      "cm_correct [[51944305    39584]\n",
      " [   36645   524833]]\n",
      "cm_incorrect [[1402032   30661]\n",
      " [ 124088   50528]]\n"
     ]
    },
    {
     "name": "stderr",
     "output_type": "stream",
     "text": [
      "| TP_H + FN_H + FP_H + TN_H: 1607309\n",
      "    len(label_mask_current_deforestation_test): 54152676\n",
      "ic| TP_H + FN_H + FP_H + TN_H: 1607309\n",
      "    len(label_mask_current_deforestation_test): 54152676\n"
     ]
    },
    {
     "name": "stdout",
     "output_type": "stream",
     "text": [
      "[0.92986746 0.93473475 0.71299725 0.02968106 0.62235032 0.28936638]\n",
      "0.5344883640305138\n",
      "threshold 0.5344883640305138\n",
      "(52524993,) (52524993,)\n"
     ]
    },
    {
     "name": "stderr",
     "output_type": "stream",
     "text": [
      "ic| label_current_deforestation_test_classified_incorrect.shape: (1627683,)\n",
      "    predicted_test_classified_incorrect.shape: (1627683,)\n",
      "ic"
     ]
    },
    {
     "name": "stdout",
     "output_type": "stream",
     "text": [
      "cm_correct [[51925748    39116]\n",
      " [   36367   523762]]\n",
      "cm_incorrect [[1420589   31129]\n",
      " [ 124366   51599]]\n"
     ]
    },
    {
     "name": "stderr",
     "output_type": "stream",
     "text": [
      "| TP_H + FN_H + FP_H + TN_H: 1627683\n",
      "    len(label_mask_current_deforestation_test): 54152676\n",
      "ic| TP_H + FN_H + FP_H + TN_H: 1627683\n",
      "    len(label_mask_current_deforestation_test): 54152676\n"
     ]
    },
    {
     "name": "stdout",
     "output_type": "stream",
     "text": [
      "[0.93050714 0.93507388 0.71154228 0.0300573  0.62371869 0.29323445]\n",
      "0.5355684541148037\n",
      "threshold 0.5355684541148037\n",
      "(52530139,) (52530139,)\n"
     ]
    },
    {
     "name": "stderr",
     "output_type": "stream",
     "text": [
      "ic| label_current_deforestation_test_classified_incorrect.shape: (1622537,)\n",
      "    predicted_test_classified_incorrect.shape: (1622537,)\n",
      "ic"
     ]
    },
    {
     "name": "stdout",
     "output_type": "stream",
     "text": [
      "cm_correct [[51930449    39231]\n",
      " [   36436   524023]]\n",
      "cm_incorrect [[1415888   31014]\n",
      " [ 124297   51338]]\n"
     ]
    },
    {
     "name": "stderr",
     "output_type": "stream",
     "text": [
      "| TP_H + FN_H + FP_H + TN_H: 1622537\n",
      "    len(label_mask_current_deforestation_test): 54152676\n",
      "ic| TP_H + FN_H + FP_H + TN_H: 1622537\n",
      "    len(label_mask_current_deforestation_test): 54152676\n"
     ]
    },
    {
     "name": "stdout",
     "output_type": "stream",
     "text": [
      "[0.93034936 0.934989   0.71189685 0.02996227 0.62339712 0.29229937]\n",
      "0.5352839983706165\n",
      "threshold 0.5352839983706165\n",
      "(52528794,) (52528794,)\n"
     ]
    },
    {
     "name": "stderr",
     "output_type": "stream",
     "text": [
      "ic| label_current_deforestation_test_classified_incorrect.shape: (1623882,)\n",
      "    predicted_test_classified_incorrect.shape: (1623882,)\n",
      "ic"
     ]
    },
    {
     "name": "stdout",
     "output_type": "stream",
     "text": [
      "cm_correct [[51929207    39206]\n",
      " [   36420   523961]]\n",
      "cm_incorrect [[1417130   31039]\n",
      " [ 124313   51400]]\n"
     ]
    },
    {
     "name": "stderr",
     "output_type": "stream",
     "text": [
      "| TP_H + FN_H + FP_H + TN_H: 1623882\n",
      "    len(label_mask_current_deforestation_test): 54152676\n",
      "ic| TP_H + FN_H + FP_H + TN_H: 1623882\n",
      "    len(label_mask_current_deforestation_test): 54152676\n"
     ]
    },
    {
     "name": "stdout",
     "output_type": "stream",
     "text": [
      "[0.93038299 0.9350085  0.71181262 0.02998711 0.62349131 0.29252247]\n",
      "0.5350967567835587\n",
      "threshold 0.5350967567835587\n",
      "(52527881,) (52527881,)\n"
     ]
    },
    {
     "name": "stderr",
     "output_type": "stream",
     "text": [
      "ic| label_current_deforestation_test_classified_incorrect.shape: (1624795,)\n",
      "    predicted_test_classified_incorrect.shape: (1624795,)\n",
      "ic"
     ]
    },
    {
     "name": "stdout",
     "output_type": "stream",
     "text": [
      "cm_correct [[51928377    39184]\n",
      " [   36408   523912]]\n",
      "cm_incorrect [[1417960   31061]\n",
      " [ 124325   51449]]\n"
     ]
    },
    {
     "name": "stderr",
     "output_type": "stream",
     "text": [
      "| TP_H + FN_H + FP_H + TN_H: 1624795\n",
      "    len(label_mask_current_deforestation_test): 54152676\n",
      "ic| TP_H + FN_H + FP_H + TN_H: 1624795\n",
      "    len(label_mask_current_deforestation_test): 54152676\n"
     ]
    },
    {
     "name": "stdout",
     "output_type": "stream",
     "text": [
      "[0.93041329 0.93502284 0.71174605 0.03000397 0.62354866 0.29269972]\n",
      "0.5348643714304047\n",
      "threshold 0.5348643714304047\n",
      "(52526768,) (52526768,)\n"
     ]
    },
    {
     "name": "stderr",
     "output_type": "stream",
     "text": [
      "ic| label_current_deforestation_test_classified_incorrect.shape: (1625908,)\n",
      "    predicted_test_classified_incorrect.shape: (1625908,)\n"
     ]
    },
    {
     "name": "stdout",
     "output_type": "stream",
     "text": [
      "cm_correct [[51927376    39155]\n",
      " [   36392   523845]]\n"
     ]
    },
    {
     "name": "stderr",
     "output_type": "stream",
     "text": [
      "ic| TP_H + FN_H + FP_H + TN_H: 1625908\n",
      "    len(label_mask_current_deforestation_test): 54152676\n",
      "ic| TP_H + FN_H + FP_H + TN_H: 1625908\n",
      "    len(label_mask_current_deforestation_test): 54152676\n"
     ]
    },
    {
     "name": "stdout",
     "output_type": "stream",
     "text": [
      "cm_incorrect [[1418961   31090]\n",
      " [ 124341   51516]]\n",
      "[0.93045293 0.93504178 0.71165503 0.03002452 0.62363509 0.29294256]\n",
      "0.5351300980536595\n",
      "threshold 0.5351300980536595\n",
      "(52528051,) (52528051,)\n"
     ]
    },
    {
     "name": "stderr",
     "output_type": "stream",
     "text": [
      "ic| label_current_deforestation_test_classified_incorrect.shape: (1624625,)\n",
      "    predicted_test_classified_incorrect.shape: (1624625,)\n",
      "ic"
     ]
    },
    {
     "name": "stdout",
     "output_type": "stream",
     "text": [
      "cm_correct [[51928534    39189]\n",
      " [   36410   523918]]\n",
      "cm_incorrect [[1417803   31056]\n",
      " [ 124323   51443]]\n"
     ]
    },
    {
     "name": "stderr",
     "output_type": "stream",
     "text": [
      "| TP_H + FN_H + FP_H + TN_H: 1624625\n",
      "    len(label_mask_current_deforestation_test): 54152676\n",
      "ic| TP_H + FN_H + FP_H + TN_H: 1624625\n",
      "    len(label_mask_current_deforestation_test): 54152676\n"
     ]
    },
    {
     "name": "stdout",
     "output_type": "stream",
     "text": [
      "[0.93040577 0.9350202  0.71175421 0.03000083 0.62355907 0.2926789 ]\n",
      "0.5351645061108198\n",
      "threshold 0.5351645061108198\n",
      "(52528228,) (52528228,)\n"
     ]
    },
    {
     "name": "stderr",
     "output_type": "stream",
     "text": [
      "ic| label_current_deforestation_test_classified_incorrect.shape: (1624448,)\n",
      "    predicted_test_classified_incorrect.shape: (1624448,)\n",
      "ic"
     ]
    },
    {
     "name": "stdout",
     "output_type": "stream",
     "text": [
      "cm_correct [[51928688    39194]\n",
      " [   36415   523931]]\n",
      "cm_incorrect [[1417649   31051]\n",
      " [ 124318   51430]]\n"
     ]
    },
    {
     "name": "stderr",
     "output_type": "stream",
     "text": [
      "| TP_H + FN_H + FP_H + TN_H: 1624448\n",
      "    len(label_mask_current_deforestation_test): 54152676\n",
      "ic| TP_H + FN_H + FP_H + TN_H: 1624448\n",
      "    len(label_mask_current_deforestation_test): 54152676\n",
      "ic| self.threshold_optimal: 0.5351300980536595\n"
     ]
    },
    {
     "name": "stdout",
     "output_type": "stream",
     "text": [
      "[0.93039911 0.93501337 0.71177187 0.02999756 0.62353754 0.29263491]\n",
      "threshold 0.5351300980536595\n",
      "(52528051,) (52528051,)\n"
     ]
    },
    {
     "name": "stderr",
     "output_type": "stream",
     "text": [
      "ic| label_current_deforestation_test_classified_incorrect.shape: (1624625,)\n",
      "    predicted_test_classified_incorrect.shape: (1624625,)\n",
      "ic"
     ]
    },
    {
     "name": "stdout",
     "output_type": "stream",
     "text": [
      "cm_correct [[51928534    39189]\n",
      " [   36410   523918]]\n",
      "cm_incorrect [[1417803   31056]\n",
      " [ 124323   51443]]\n"
     ]
    },
    {
     "name": "stderr",
     "output_type": "stream",
     "text": [
      "| TP_H + FN_H + FP_H + TN_H: 1624625\n",
      "    len(label_mask_current_deforestation_test): 54152676\n",
      "ic| TP_H + FN_H + FP_H + TN_H: 1624625\n",
      "    len(label_mask_current_deforestation_test): 54152676\n"
     ]
    },
    {
     "name": "stdout",
     "output_type": "stream",
     "text": [
      "[0.93040577 0.9350202  0.71175421 0.03000083 0.62355907 0.2926789 ]\n",
      "threshold 0.5351300980536595\n",
      "(54152676,) (54152676,)\n"
     ]
    },
    {
     "name": "stderr",
     "output_type": "stream",
     "text": [
      "ic| self.m_optimal: {'AA': array([0.03000083]),\n",
      "                     'f1_H': array([0.39837376]),\n",
      "                     'f1_L': array([0.93270728]),\n",
      "                     'precision_H': array([0.62355907]),\n",
      "                     'precision_L': array([0.93040577]),\n",
      "                     'recall_H': array([0.2926789]),\n",
      "                     'recall_L': array([0.9350202]),\n",
      "                     'recall_Ltotal': array([0.71175421])}\n",
      "ic| self.m_audited_optimal: {'f1': array([0.94874529]),\n",
      "                             'precision': array([0.94696112]),\n",
      "                             'recall': array([0.95053621])}\n"
     ]
    },
    {
     "name": "stdout",
     "output_type": "stream",
     "text": [
      "cm_audited [[53377393    39189]\n",
      " [   36410   699684]]\n",
      "[0.94696112 0.95053621]\n",
      "D:/Jorge/datasets/deforestation/Para/deforestation_past_years.tif\n",
      "Loaded deforestation past years\n"
     ]
    },
    {
     "name": "stderr",
     "output_type": "stream",
     "text": [
      "ic| np.unique(deforestation_past_years, return_counts=True): (array([   0, 2008, 2009, 2010, 2011, 2012, 2013, 2014, 2015, 2016, 2017,\n",
      "                                                                    2018, 2019, 2020, 2021], dtype=uint16),\n",
      "                                                              array([132185553,   3150503,   4571354,    864429,    903608,   1299506,\n",
      "                                                                      2477971,   1561686,   1459696,    969060,    644976,   2209014,\n",
      "                                                                      2100204,   5257014,   3514616], dtype=int64))\n"
     ]
    },
    {
     "name": "stdout",
     "output_type": "stream",
     "text": [
      "Label where deforestation past years is actual date (2019) = 1\n"
     ]
    },
    {
     "name": "stderr",
     "output_type": "stream",
     "text": [
      "ic| np.unique(deforestation_past_years, return_counts=True): (array([   0, 2008, 2009, 2010, 2011, 2012, 2013, 2014, 2015, 2016, 2017,\n",
      "                                                                    2018, 2019, 2020, 2021], dtype=uint16),\n",
      "                                                              array([132185553,   3150503,   4571354,    864429,    903608,   1299506,\n",
      "                                                                      2477971,   1561686,   1459696,    969060,    644976,   2209014,\n",
      "                                                                      2100204,   5257014,   3514616], dtype=int64))\n"
     ]
    },
    {
     "name": "stdout",
     "output_type": "stream",
     "text": [
      "Past deforestation different from 0 (no deforestation)\n"
     ]
    },
    {
     "name": "stderr",
     "output_type": "stream",
     "text": [
      "ic| np.unique(deforestation_past_years, return_counts=True): (array([   0, 2008, 2009, 2010, 2011, 2012, 2013, 2014, 2015, 2016, 2017,\n",
      "                                                                    2018, 2019, 2020, 2021], dtype=uint16),\n",
      "                                                              array([132185553,   3150503,   4571354,    864429,    903608,   1299506,\n",
      "                                                                      2477971,   1561686,   1459696,    969060,    644976,   2209014,\n",
      "                                                                      2100204,   5257014,   3514616], dtype=int64))\n"
     ]
    },
    {
     "name": "stdout",
     "output_type": "stream",
     "text": [
      "Past deforestation before 2008 is 2\n",
      "D:/Jorge/datasets/deforestation/deforestation_before_2008/deforestation_before_2008_para.tif\n"
     ]
    },
    {
     "name": "stderr",
     "output_type": "stream",
     "text": [
      "ic| np.unique(label_past_deforestation_before_2008, return_counts=True): (array([  0, 215], dtype=uint8), array([124211220,  38957970], dtype=int64))\n",
      "ic| np.unique(deforestation_past_years, return_counts=True): (array([   0, 2008, 2009, 2010, 2011, 2012, 2013, 2014, 2015, 2016, 2017,\n",
      "                                                                    2018, 2019, 2020, 2021], dtype=uint16),\n",
      "                                                              array([132185553,   3150503,   4571354,    864429,    903608,   1299506,\n",
      "                                                                      2477971,   1561686,   1459696,    969060,    644976,   2209014,\n",
      "                                                                      2100204,   5257014,   3514616], dtype=int64))\n",
      "ic| label_per_date.shape: (17730, 9203, 1)\n"
     ]
    },
    {
     "name": "stdout",
     "output_type": "stream",
     "text": [
      "Mask label shape:  \n",
      " (17730, 9203, 1) \n",
      " Unique values:  \n",
      " [0 1 2]\n",
      "Tiles size:  3546 2300\n",
      "Mask size:  (17730, 9200)\n"
     ]
    },
    {
     "name": "stderr",
     "output_type": "stream",
     "text": [
      "ic| image_stack.shape: (17730, 9203, 21)\n"
     ]
    },
    {
     "name": "stdout",
     "output_type": "stream",
     "text": [
      "Image shape:  (17730, 9203, 21)\n",
      "mask:  (17730, 9200)\n",
      "image stack:  (17730, 9200, 21)\n",
      "ref : (17730, 9200, 1)\n",
      "Training tiles:  [1, 3, 5, 8, 11, 13, 14, 20]\n",
      "Validation tiles:  [6, 19]\n",
      "Test tiles:  [2, 4, 7, 9, 10, 12, 15, 16, 17, 18]\n"
     ]
    },
    {
     "name": "stderr",
     "output_type": "stream",
     "text": [
      "ic| im_idx_row.shape: (17730, 9200, 1)\n",
      "    im_idx_col.shape: (17730, 9200, 1)\n",
      "ic| im_idx_row.dtype: dtype('uint16')\n",
      "    im_idx_col.dtype: dtype('uint16')\n",
      "ic| im_idx.shape: (17730, 9200, 2), im_idx.dtype: dtype('uint16')\n",
      "ic| coords.shape: (464, 239, 1, 128, 128, 2)\n",
      "    coords.dtype: dtype('uint16')\n",
      "ic| coords.shape: (110896, 2), coords.dtype: dtype('uint16')\n",
      "ic| self.coords_train.shape: (41812, 3)\n",
      "    self.coords_val.shape: (10260, 3)\n"
     ]
    },
    {
     "name": "stdout",
     "output_type": "stream",
     "text": [
      "training samples:  (3753, 3) validation samples:  (1032, 3)\n",
      "time:  0\n",
      "Model: \"model_8\"\n",
      "__________________________________________________________________________________________________\n",
      "Layer (type)                    Output Shape         Param #     Connected to                     \n",
      "==================================================================================================\n",
      "input_enc_net (InputLayer)      [(None, 128, 128, 21 0                                            \n",
      "__________________________________________________________________________________________________\n",
      "res1_net1 (Conv2D)              (None, 128, 128, 16) 3040        input_enc_net[0][0]              \n",
      "__________________________________________________________________________________________________\n",
      "drop_net1 (Dropout)             (None, 128, 128, 16) 0           res1_net1[0][0]                  \n",
      "__________________________________________________________________________________________________\n",
      "res2_net1 (Conv2D)              (None, 128, 128, 16) 2320        drop_net1[0][0]                  \n",
      "__________________________________________________________________________________________________\n",
      "res3_net1 (Conv2D)              (None, 128, 128, 16) 352         input_enc_net[0][0]              \n",
      "__________________________________________________________________________________________________\n",
      "add_48 (Add)                    (None, 128, 128, 16) 0           res2_net1[0][0]                  \n",
      "                                                                 res3_net1[0][0]                  \n",
      "__________________________________________________________________________________________________\n",
      "pool_net1 (MaxPooling2D)        (None, 64, 64, 16)   0           add_48[0][0]                     \n",
      "__________________________________________________________________________________________________\n",
      "res1_net2 (Conv2D)              (None, 64, 64, 32)   4640        pool_net1[0][0]                  \n",
      "__________________________________________________________________________________________________\n",
      "drop_net2 (Dropout)             (None, 64, 64, 32)   0           res1_net2[0][0]                  \n",
      "__________________________________________________________________________________________________\n",
      "res2_net2 (Conv2D)              (None, 64, 64, 32)   9248        drop_net2[0][0]                  \n",
      "__________________________________________________________________________________________________\n",
      "res3_net2 (Conv2D)              (None, 64, 64, 32)   544         pool_net1[0][0]                  \n",
      "__________________________________________________________________________________________________\n",
      "add_49 (Add)                    (None, 64, 64, 32)   0           res2_net2[0][0]                  \n",
      "                                                                 res3_net2[0][0]                  \n",
      "__________________________________________________________________________________________________\n",
      "pool_net2 (MaxPooling2D)        (None, 32, 32, 32)   0           add_49[0][0]                     \n",
      "__________________________________________________________________________________________________\n",
      "res1_net3 (Conv2D)              (None, 32, 32, 64)   18496       pool_net2[0][0]                  \n",
      "__________________________________________________________________________________________________\n",
      "drop_net3 (Dropout)             (None, 32, 32, 64)   0           res1_net3[0][0]                  \n",
      "__________________________________________________________________________________________________\n",
      "res2_net3 (Conv2D)              (None, 32, 32, 64)   36928       drop_net3[0][0]                  \n",
      "__________________________________________________________________________________________________\n",
      "res3_net3 (Conv2D)              (None, 32, 32, 64)   2112        pool_net2[0][0]                  \n",
      "__________________________________________________________________________________________________\n",
      "add_50 (Add)                    (None, 32, 32, 64)   0           res2_net3[0][0]                  \n",
      "                                                                 res3_net3[0][0]                  \n",
      "__________________________________________________________________________________________________\n",
      "pool_net3 (MaxPooling2D)        (None, 16, 16, 64)   0           add_50[0][0]                     \n",
      "__________________________________________________________________________________________________\n",
      "res1_net4 (Conv2D)              (None, 16, 16, 64)   36928       pool_net3[0][0]                  \n",
      "__________________________________________________________________________________________________\n",
      "drop_net4 (Dropout)             (None, 16, 16, 64)   0           res1_net4[0][0]                  \n",
      "__________________________________________________________________________________________________\n",
      "res2_net4 (Conv2D)              (None, 16, 16, 64)   36928       drop_net4[0][0]                  \n",
      "__________________________________________________________________________________________________\n",
      "res3_net4 (Conv2D)              (None, 16, 16, 64)   4160        pool_net3[0][0]                  \n",
      "__________________________________________________________________________________________________\n",
      "add_51 (Add)                    (None, 16, 16, 64)   0           res2_net4[0][0]                  \n",
      "                                                                 res3_net4[0][0]                  \n",
      "__________________________________________________________________________________________________\n",
      "res1_net5 (Conv2D)              (None, 16, 16, 64)   36928       add_51[0][0]                     \n",
      "__________________________________________________________________________________________________\n",
      "drop_net5 (Dropout)             (None, 16, 16, 64)   0           res1_net5[0][0]                  \n",
      "__________________________________________________________________________________________________\n",
      "res2_net5 (Conv2D)              (None, 16, 16, 64)   36928       drop_net5[0][0]                  \n",
      "__________________________________________________________________________________________________\n",
      "res3_net5 (Conv2D)              (None, 16, 16, 64)   4160        add_51[0][0]                     \n",
      "__________________________________________________________________________________________________\n",
      "add_52 (Add)                    (None, 16, 16, 64)   0           res2_net5[0][0]                  \n",
      "                                                                 res3_net5[0][0]                  \n",
      "__________________________________________________________________________________________________\n",
      "res1_net6 (Conv2D)              (None, 16, 16, 64)   36928       add_52[0][0]                     \n",
      "__________________________________________________________________________________________________\n",
      "drop_net6 (Dropout)             (None, 16, 16, 64)   0           res1_net6[0][0]                  \n",
      "__________________________________________________________________________________________________\n",
      "res2_net6 (Conv2D)              (None, 16, 16, 64)   36928       drop_net6[0][0]                  \n",
      "__________________________________________________________________________________________________\n",
      "res3_net6 (Conv2D)              (None, 16, 16, 64)   4160        add_52[0][0]                     \n",
      "__________________________________________________________________________________________________\n",
      "add_53 (Add)                    (None, 16, 16, 64)   0           res2_net6[0][0]                  \n",
      "                                                                 res3_net6[0][0]                  \n",
      "__________________________________________________________________________________________________\n",
      "up_sampling2d_24 (UpSampling2D) (None, 32, 32, 64)   0           add_53[0][0]                     \n",
      "__________________________________________________________________________________________________\n",
      "upsampling_net3 (Conv2D)        (None, 32, 32, 64)   36928       up_sampling2d_24[0][0]           \n",
      "__________________________________________________________________________________________________\n",
      "concatenate3 (Concatenate)      (None, 32, 32, 128)  0           add_50[0][0]                     \n",
      "                                                                 upsampling_net3[0][0]            \n",
      "__________________________________________________________________________________________________\n",
      "up_sampling2d_25 (UpSampling2D) (None, 64, 64, 128)  0           concatenate3[0][0]               \n",
      "__________________________________________________________________________________________________\n",
      "upsampling_net2 (Conv2D)        (None, 64, 64, 32)   36896       up_sampling2d_25[0][0]           \n",
      "__________________________________________________________________________________________________\n",
      "concatenate2 (Concatenate)      (None, 64, 64, 64)   0           add_49[0][0]                     \n",
      "                                                                 upsampling_net2[0][0]            \n",
      "__________________________________________________________________________________________________\n",
      "up_sampling2d_26 (UpSampling2D) (None, 128, 128, 64) 0           concatenate2[0][0]               \n",
      "__________________________________________________________________________________________________\n",
      "upsampling_net1 (Conv2D)        (None, 128, 128, 16) 9232        up_sampling2d_26[0][0]           \n",
      "__________________________________________________________________________________________________\n",
      "concatenate1 (Concatenate)      (None, 128, 128, 32) 0           add_48[0][0]                     \n",
      "                                                                 upsampling_net1[0][0]            \n",
      "__________________________________________________________________________________________________\n",
      "output (Conv2D)                 (None, 128, 128, 3)  99          concatenate1[0][0]               \n",
      "==================================================================================================\n",
      "Total params: 394,883\n",
      "Trainable params: 394,883\n",
      "Non-trainable params: 0\n",
      "__________________________________________________________________________________________________\n"
     ]
    },
    {
     "name": "stderr",
     "output_type": "stream",
     "text": [
      "c:\\Users\\jchamorro\\Anaconda3\\envs\\tf2\\lib\\site-packages\\tensorflow\\python\\keras\\optimizer_v2\\optimizer_v2.py:374: UserWarning: The `lr` argument is deprecated, use `learning_rate` instead.\n",
      "  warnings.warn(\n",
      "c:\\Users\\jchamorro\\Anaconda3\\envs\\tf2\\lib\\site-packages\\tensorflow\\python\\keras\\engine\\training.py:1969: UserWarning: `Model.fit_generator` is deprecated and will be removed in a future version. Please use `Model.fit`, which supports generators.\n",
      "  warnings.warn('`Model.fit_generator` is deprecated and '\n"
     ]
    },
    {
     "name": "stdout",
     "output_type": "stream",
     "text": [
      "Epoch 1/100\n",
      "self.global_step 0.0\n",
      "alpha Tensor(\"loss/add:0\", shape=(None, 128, 128, 3), dtype=float32)\n",
      "u Tensor(\"loss/truediv:0\", shape=(None, 128, 128, 1), dtype=float32)\n",
      "alpha Tensor(\"add:0\", shape=(None, 128, 128, 3), dtype=float32)\n",
      "u Tensor(\"truediv:0\", shape=(None, 128, 128, 1), dtype=float32)\n",
      "K.int_shape(KL_reg) Tensor(\"mul_6:0\", shape=(None, 128, 128, 1), dtype=float32)\n",
      "alpha Tensor(\"add_7:0\", shape=(None, 128, 128, 3), dtype=float32)\n",
      "u Tensor(\"truediv_5:0\", shape=(None, 128, 128, 1), dtype=float32)\n",
      "K.int_shape(KL_reg) Tensor(\"mul_12:0\", shape=(None, 128, 128, 1), dtype=float32)\n",
      "alpha Tensor(\"loss/add:0\", shape=(None, 128, 128, 3), dtype=float32)\n",
      "u Tensor(\"loss/truediv:0\", shape=(None, 128, 128, 1), dtype=float32)\n",
      "alpha Tensor(\"add:0\", shape=(None, 128, 128, 3), dtype=float32)\n",
      "u Tensor(\"truediv:0\", shape=(None, 128, 128, 1), dtype=float32)\n",
      "K.int_shape(KL_reg) Tensor(\"mul_6:0\", shape=(None, 128, 128, 1), dtype=float32)\n",
      "alpha Tensor(\"add_7:0\", shape=(None, 128, 128, 3), dtype=float32)\n",
      "u Tensor(\"truediv_5:0\", shape=(None, 128, 128, 1), dtype=float32)\n",
      "K.int_shape(KL_reg) Tensor(\"mul_12:0\", shape=(None, 128, 128, 1), dtype=float32)\n",
      "351/351 [==============================] - ETA: 0s - loss: 0.2482 - accuracy: 0.8640 - KL_term: 0.0282 - loglikelihood_term: 0.2197 - evidential_success: 33.8556 - evidential_fail: 13.2174 - acc: 0.8642 - annealing_coef: 0.1868 - global_step_get: 175.0000 - annealing_step_get: 937.0000alpha Tensor(\"loss/add:0\", shape=(None, 128, 128, 3), dtype=float32)\n",
      "u Tensor(\"loss/truediv:0\", shape=(None, 128, 128, 1), dtype=float32)\n",
      "alpha Tensor(\"add:0\", shape=(None, 128, 128, 3), dtype=float32)\n",
      "u Tensor(\"truediv:0\", shape=(None, 128, 128, 1), dtype=float32)\n",
      "K.int_shape(KL_reg) Tensor(\"mul_6:0\", shape=(None, 128, 128, 1), dtype=float32)\n",
      "alpha Tensor(\"add_7:0\", shape=(None, 128, 128, 3), dtype=float32)\n",
      "u Tensor(\"truediv_5:0\", shape=(None, 128, 128, 1), dtype=float32)\n",
      "K.int_shape(KL_reg) Tensor(\"mul_12:0\", shape=(None, 128, 128, 1), dtype=float32)\n",
      "351/351 [==============================] - 34s 90ms/step - loss: 0.2482 - accuracy: 0.8640 - KL_term: 0.0282 - loglikelihood_term: 0.2197 - evidential_success: 33.8556 - evidential_fail: 13.2174 - acc: 0.8642 - annealing_coef: 0.1868 - global_step_get: 175.0000 - annealing_step_get: 937.0000 - val_loss: 0.1712 - val_accuracy: 0.9232 - val_KL_term: 0.0240 - val_loglikelihood_term: 0.1462 - val_evidential_success: 31.4660 - val_evidential_fail: 3.1517 - val_acc: 0.9236 - val_annealing_coef: 0.3735 - val_global_step_get: 350.0000 - val_annealing_step_get: 937.0000\n",
      "\n",
      "Epoch 00001: val_loss improved from inf to 0.17121, saving model to D:/Jorge/datasets/deforestation/experiments/exp143/models\\resunet_0.h5\n",
      "Epoch 2/100\n",
      "self.global_step 350.0\n",
      "  1/351 [..............................] - ETA: 28s - loss: 0.1390 - accuracy: 0.9244 - KL_term: 0.0000e+00 - loglikelihood_term: 0.1390 - evidential_success: 41.6852 - evidential_fail: 4.8107 - acc: 0.9244 - annealing_coef: 0.0000e+00 - global_step_get: 0.0000e+00 - annealing_step_get: 937.0000"
     ]
    },
    {
     "name": "stderr",
     "output_type": "stream",
     "text": [
      "c:\\Users\\jchamorro\\Anaconda3\\envs\\tf2\\lib\\site-packages\\tensorflow\\python\\keras\\utils\\generic_utils.py:494: CustomMaskWarning: Custom mask layers require a config and must override get_config. When loading, the custom mask layer must be passed to the custom_objects argument.\n",
      "  warnings.warn('Custom mask layers require a config and must override '\n"
     ]
    },
    {
     "name": "stdout",
     "output_type": "stream",
     "text": [
      "351/351 [==============================] - 31s 89ms/step - loss: 0.1631 - accuracy: 0.9249 - KL_term: 0.0272 - loglikelihood_term: 0.1361 - evidential_success: 52.5027 - evidential_fail: 5.7346 - acc: 0.9248 - annealing_coef: 0.3735 - global_step_get: 350.0000 - annealing_step_get: 937.0000 - val_loss: 0.1710 - val_accuracy: 0.9310 - val_KL_term: 0.0349 - val_loglikelihood_term: 0.1348 - val_evidential_success: 42.6227 - val_evidential_fail: 2.3316 - val_acc: 0.9315 - val_annealing_coef: 0.7471 - val_global_step_get: 700.0000 - val_annealing_step_get: 937.0000\n",
      "\n",
      "Epoch 00002: val_loss improved from 0.17121 to 0.17096, saving model to D:/Jorge/datasets/deforestation/experiments/exp143/models\\resunet_0.h5\n",
      "Epoch 3/100\n",
      "self.global_step 700.0\n",
      "351/351 [==============================] - 31s 89ms/step - loss: 0.1606 - accuracy: 0.9305 - KL_term: 0.0300 - loglikelihood_term: 0.1306 - evidential_success: 62.9745 - evidential_fail: 4.7062 - acc: 0.9304 - annealing_coef: 0.5537 - global_step_get: 525.0000 - annealing_step_get: 937.0000 - val_loss: 0.1826 - val_accuracy: 0.9317 - val_KL_term: 0.0455 - val_loglikelihood_term: 0.1362 - val_evidential_success: 44.1359 - val_evidential_fail: 2.1546 - val_acc: 0.9322 - val_annealing_coef: 1.0000 - val_global_step_get: 1050.0000 - val_annealing_step_get: 937.0000\n",
      "\n",
      "Epoch 00003: val_loss did not improve from 0.17096\n",
      "Epoch 4/100\n",
      "self.global_step 1050.0\n",
      "351/351 [==============================] - 31s 89ms/step - loss: 0.1574 - accuracy: 0.9341 - KL_term: 0.0308 - loglikelihood_term: 0.1265 - evidential_success: 66.4357 - evidential_fail: 4.0683 - acc: 0.9341 - annealing_coef: 0.6649 - global_step_get: 700.0000 - annealing_step_get: 937.0000 - val_loss: 0.2080 - val_accuracy: 0.9254 - val_KL_term: 0.0511 - val_loglikelihood_term: 0.1552 - val_evidential_success: 39.0722 - val_evidential_fail: 2.0088 - val_acc: 0.9261 - val_annealing_coef: 1.0000 - val_global_step_get: 1400.0000 - val_annealing_step_get: 937.0000\n",
      "\n",
      "Epoch 00004: val_loss did not improve from 0.17096\n",
      "Epoch 5/100\n",
      "self.global_step 1400.0\n",
      "351/351 [==============================] - 31s 89ms/step - loss: 0.1532 - accuracy: 0.9371 - KL_term: 0.0305 - loglikelihood_term: 0.1227 - evidential_success: 70.3430 - evidential_fail: 3.8229 - acc: 0.9371 - annealing_coef: 0.7316 - global_step_get: 875.0000 - annealing_step_get: 937.0000 - val_loss: 0.1871 - val_accuracy: 0.9290 - val_KL_term: 0.0478 - val_loglikelihood_term: 0.1384 - val_evidential_success: 58.3397 - val_evidential_fail: 2.2158 - val_acc: 0.9296 - val_annealing_coef: 1.0000 - val_global_step_get: 1750.0000 - val_annealing_step_get: 937.0000\n",
      "\n",
      "Epoch 00005: val_loss did not improve from 0.17096\n",
      "Epoch 6/100\n",
      "self.global_step 1750.0\n",
      "351/351 [==============================] - 31s 89ms/step - loss: 0.1483 - accuracy: 0.9393 - KL_term: 0.0297 - loglikelihood_term: 0.1185 - evidential_success: 77.9554 - evidential_fail: 3.5131 - acc: 0.9394 - annealing_coef: 0.7761 - global_step_get: 1050.0000 - annealing_step_get: 937.0000 - val_loss: 0.1908 - val_accuracy: 0.9318 - val_KL_term: 0.0493 - val_loglikelihood_term: 0.1406 - val_evidential_success: 57.5684 - val_evidential_fail: 2.2046 - val_acc: 0.9323 - val_annealing_coef: 1.0000 - val_global_step_get: 2100.0000 - val_annealing_step_get: 937.0000\n",
      "\n",
      "Epoch 00006: val_loss did not improve from 0.17096\n",
      "Epoch 7/100\n",
      "self.global_step 2100.0\n",
      "351/351 [==============================] - 31s 89ms/step - loss: 0.1442 - accuracy: 0.9411 - KL_term: 0.0289 - loglikelihood_term: 0.1153 - evidential_success: 85.1129 - evidential_fail: 3.3886 - acc: 0.9411 - annealing_coef: 0.8079 - global_step_get: 1225.0000 - annealing_step_get: 937.0000 - val_loss: 0.1981 - val_accuracy: 0.9270 - val_KL_term: 0.0473 - val_loglikelihood_term: 0.1503 - val_evidential_success: 58.1855 - val_evidential_fail: 2.1228 - val_acc: 0.9276 - val_annealing_coef: 1.0000 - val_global_step_get: 2450.0000 - val_annealing_step_get: 937.0000\n",
      "\n",
      "Epoch 00007: val_loss did not improve from 0.17096\n",
      "Epoch 8/100\n",
      "self.global_step 2450.0\n",
      "351/351 [==============================] - 31s 89ms/step - loss: 0.1435 - accuracy: 0.9414 - KL_term: 0.0288 - loglikelihood_term: 0.1150 - evidential_success: 89.9617 - evidential_fail: 3.2400 - acc: 0.9413 - annealing_coef: 0.8317 - global_step_get: 1400.0000 - annealing_step_get: 937.0000 - val_loss: 0.2141 - val_accuracy: 0.9265 - val_KL_term: 0.0761 - val_loglikelihood_term: 0.1372 - val_evidential_success: 70.4606 - val_evidential_fail: 3.3926 - val_acc: 0.9272 - val_annealing_coef: 1.0000 - val_global_step_get: 2800.0000 - val_annealing_step_get: 937.0000\n",
      "\n",
      "Epoch 00008: val_loss did not improve from 0.17096\n",
      "Epoch 9/100\n",
      "self.global_step 2800.0\n",
      "351/351 [==============================] - 31s 89ms/step - loss: 0.1403 - accuracy: 0.9430 - KL_term: 0.0283 - loglikelihood_term: 0.1120 - evidential_success: 90.0716 - evidential_fail: 3.0671 - acc: 0.9431 - annealing_coef: 0.8503 - global_step_get: 1575.0000 - annealing_step_get: 937.0000 - val_loss: 0.1997 - val_accuracy: 0.9319 - val_KL_term: 0.0716 - val_loglikelihood_term: 0.1272 - val_evidential_success: 82.6360 - val_evidential_fail: 3.6240 - val_acc: 0.9324 - val_annealing_coef: 1.0000 - val_global_step_get: 3150.0000 - val_annealing_step_get: 937.0000\n",
      "\n",
      "Epoch 00009: val_loss did not improve from 0.17096\n",
      "Epoch 10/100\n",
      "self.global_step 3150.0\n",
      "351/351 [==============================] - 31s 89ms/step - loss: 0.1389 - accuracy: 0.9435 - KL_term: 0.0280 - loglikelihood_term: 0.1112 - evidential_success: 91.8223 - evidential_fail: 2.9972 - acc: 0.9434 - annealing_coef: 0.8651 - global_step_get: 1750.0000 - annealing_step_get: 937.0000 - val_loss: 0.2015 - val_accuracy: 0.9288 - val_KL_term: 0.0637 - val_loglikelihood_term: 0.1384 - val_evidential_success: 59.3407 - val_evidential_fail: 3.2786 - val_acc: 0.9294 - val_annealing_coef: 1.0000 - val_global_step_get: 3500.0000 - val_annealing_step_get: 937.0000\n",
      "\n",
      "Epoch 00010: val_loss did not improve from 0.17096\n",
      "Epoch 11/100\n",
      "self.global_step 3500.0\n",
      "351/351 [==============================] - 31s 89ms/step - loss: 0.1342 - accuracy: 0.9454 - KL_term: 0.0270 - loglikelihood_term: 0.1072 - evidential_success: 93.9555 - evidential_fail: 3.0106 - acc: 0.9453 - annealing_coef: 0.8772 - global_step_get: 1925.0000 - annealing_step_get: 937.0000 - val_loss: 0.1933 - val_accuracy: 0.9304 - val_KL_term: 0.0638 - val_loglikelihood_term: 0.1291 - val_evidential_success: 71.0803 - val_evidential_fail: 3.1717 - val_acc: 0.9310 - val_annealing_coef: 1.0000 - val_global_step_get: 3850.0000 - val_annealing_step_get: 937.0000\n",
      "\n",
      "Epoch 00011: val_loss did not improve from 0.17096\n",
      "Epoch 12/100\n",
      "self.global_step 3850.0\n",
      "351/351 [==============================] - 31s 89ms/step - loss: 0.1303 - accuracy: 0.9468 - KL_term: 0.0261 - loglikelihood_term: 0.1039 - evidential_success: 100.3108 - evidential_fail: 2.9075 - acc: 0.9469 - annealing_coef: 0.8873 - global_step_get: 2100.0000 - annealing_step_get: 937.0000 - val_loss: 0.2026 - val_accuracy: 0.9316 - val_KL_term: 0.0673 - val_loglikelihood_term: 0.1348 - val_evidential_success: 88.3769 - val_evidential_fail: 3.4963 - val_acc: 0.9321 - val_annealing_coef: 1.0000 - val_global_step_get: 4200.0000 - val_annealing_step_get: 937.0000\n",
      "\n",
      "Epoch 00012: val_loss did not improve from 0.17096\n",
      "Epoch 00012: early stopping\n",
      "-30.0 -16.0\n"
     ]
    },
    {
     "name": "stderr",
     "output_type": "stream",
     "text": [
      "ic| self.path_models+ '/' + self.method +'_'+str(0)+'.h5': 'D:/Jorge/datasets/deforestation/experiments/exp143/models/resunet_0.h5'\n"
     ]
    },
    {
     "name": "stdout",
     "output_type": "stream",
     "text": [
      "time:  0\n",
      "(54236371,)\n",
      "(array([0, 1], dtype=uint8), array([53470765,   765606], dtype=int64))\n",
      "(17730, 9200)\n",
      "(array([0., 1.], dtype=float32), array([161514758,   1601242], dtype=int64))\n"
     ]
    },
    {
     "name": "stderr",
     "output_type": "stream",
     "text": [
      "ic| self.predicted_unpad.shape: (17730, 9200)\n",
      "    self.predicted.shape: (17730, 9200)\n",
      "ic| predicted_test.shape: (81558000,)\n",
      "ic| predicted_test.shape: (54236371,)\n",
      "ic| np.unique(predicted, return_counts=True): (array([0., 1.], dtype=float32), array([161514758,   1601242], dtype=int64))\n",
      "    np.unique(predicted_larger_than_min_area, return_counts=True): (array([0., 1.], dtype=float32), array([161643513,   1472487], dtype=int64))\n",
      "ic| np.unique(ignored_polygons, return_counts=True): (array([0., 1.], dtype=float32), array([162987245,    128755], dtype=int64))\n",
      "ic| predicted.shape: (17730, 9200), label_mask.shape: (17730, 9200)\n",
      "ic| predicted_masked.shape: (81558000,)\n",
      "    label_masked.shape: (81558000,)\n",
      "ic| np.unique(label_masked, return_counts=True): (array([0, 1, 2], dtype=uint8),\n",
      "                                                  array([53436848,   738350, 27382802], dtype=int64))\n",
      "ic| predicted_masked.shape: (54175198,)\n",
      "    label_masked.shape: (54175198,)\n",
      "ic| self.f1: 78.73, self.precision: 87.73, self.recall: 71.42\n",
      "ic| self.label_mask_val.shape: (16311600,)\n",
      "ic| self.label_mask_val_valid.shape: (9436648,)\n",
      "ic| f1_val: 85.25\n",
      "    precision_val: 87.39\n",
      "    recall_val: 83.21\n",
      "    mAP_val: 91.65\n"
     ]
    },
    {
     "name": "stdout",
     "output_type": "stream",
     "text": [
      "(array([0., 1.], dtype=float32), array([162368655,    747345], dtype=int64))\n"
     ]
    },
    {
     "name": "stderr",
     "output_type": "stream",
     "text": [
      "ic| self.label_mask.shape: (17730, 9200)\n",
      "ic| self.mask_amazon_ts.shape: (17730, 9200)\n",
      "ic| self.label_mask_test.shape: (81558000,)\n",
      "ic| self.error_mask_test.shape: (54175198,)\n",
      "ic| bounds: (0.015, 0.9985)\n",
      "c:\\Users\\jchamorro\\Anaconda3\\envs\\tf2\\lib\\site-packages\\scipy\\optimize\\_minimize.py:783: RuntimeWarning: Method 'bounded' does not support relative tolerance in x; defaulting to absolute tolerance.\n",
      "  warn(\"Method 'bounded' does not support relative tolerance in x; \"\n"
     ]
    },
    {
     "name": "stdout",
     "output_type": "stream",
     "text": [
      "0.3906635720644784\n",
      "threshold 0.3906635720644784\n",
      "(51253865,) (51253865,)\n"
     ]
    },
    {
     "name": "stderr",
     "output_type": "stream",
     "text": [
      "ic| label_current_deforestation_test_classified_incorrect.shape: (2921333,)\n",
      "    predicted_test_classified_incorrect.shape: (2921333,)\n"
     ]
    },
    {
     "name": "stdout",
     "output_type": "stream",
     "text": [
      "cm_correct [[50825212    20521]\n",
      " [   20159   387973]]\n"
     ]
    },
    {
     "name": "stderr",
     "output_type": "stream",
     "text": [
      "ic| TP_H + FN_H + FP_H + TN_H: 2921333\n",
      "    len(label_mask_current_deforestation_test): 54175198\n",
      "ic| TP_H + FN_H + FP_H + TN_H: 2921333\n",
      "    len(label_mask_current_deforestation_test): 54175198\n"
     ]
    },
    {
     "name": "stdout",
     "output_type": "stream",
     "text": [
      "cm_incorrect [[2537857   53258]\n",
      " [ 190898  139320]]\n",
      "[0.94976426 0.95060667 0.52545947 0.05392381 0.72344712 0.42190311]\n",
      "0.6228364279355216\n",
      "threshold 0.6228364279355216\n",
      "(52827214,) (52827214,)\n"
     ]
    },
    {
     "name": "stderr",
     "output_type": "stream",
     "text": [
      "ic| label_current_deforestation_test_classified_incorrect.shape: (1347984,)\n",
      "    predicted_test_classified_incorrect.shape: (1347984,)\n",
      "ic| TP_H + FN_H + FP_H + TN_H: 1347984\n",
      "    len(label_mask_current_deforestation_test): 54175198\n",
      "ic| TP_H + FN_H + FP_H + TN_H: 1347984\n",
      "    len(label_mask_current_deforestation_test): 54175198\n"
     ]
    },
    {
     "name": "stdout",
     "output_type": "stream",
     "text": [
      "cm_correct [[52225862    59033]\n",
      " [   44387   497932]]\n",
      "cm_incorrect [[1137207   14746]\n",
      " [ 166670   29361]]\n",
      "[0.8940095  0.91815334 0.67438478 0.02488194 0.66567665 0.14977733]\n",
      "0.7663271441289569\n",
      "threshold 0.7663271441289569\n",
      "(53558797,) (53558797,)\n"
     ]
    },
    {
     "name": "stderr",
     "output_type": "stream",
     "text": [
      "ic| label_current_deforestation_test_classified_incorrect.shape: (616401,)\n",
      "    predicted_test_classified_incorrect.shape: (616401,)\n",
      "d:\\Jorge\\deforestation_uncertainty\\src\\metrics.py:299: RuntimeWarning: invalid value encountered in longlong_scalars\n",
      "  precision_H = TP_H / (TP_H + FP_H)\n",
      "ic| TP_H + FN_H + FP_H + TN_H: 616401\n",
      "    len(label_mask_current_deforestation_test): 54175198\n",
      "ic| TP_H + FN_H + FP_H + TN_H: 616401\n",
      "    len(label_mask_current_deforestation_test): 54175198\n"
     ]
    },
    {
     "name": "stdout",
     "output_type": "stream",
     "text": [
      "cm_correct [[52881637    73779]\n",
      " [   76088   527293]]\n",
      "cm_incorrect [[481432      0]\n",
      " [134969      0]]\n",
      "[0.87725431 0.87389726 0.71415047 0.01137792        nan 0.        ]\n",
      "0.5936336629388854\n",
      "threshold 0.5936336629388854\n",
      "(52675277,) (52675277,)\n"
     ]
    },
    {
     "name": "stderr",
     "output_type": "stream",
     "text": [
      "ic| label_current_deforestation_test_classified_incorrect.shape: (1499921,)\n",
      "    predicted_test_classified_incorrect.shape: (1499921,)\n",
      "ic"
     ]
    },
    {
     "name": "stdout",
     "output_type": "stream",
     "text": [
      "cm_correct [[52090207    55240]\n",
      " [   40105   489725]]\n",
      "cm_incorrect [[1272862   18539]\n",
      " [ 170952   37568]]\n"
     ]
    },
    {
     "name": "stderr",
     "output_type": "stream",
     "text": [
      "| TP_H + FN_H + FP_H + TN_H: 1499921\n",
      "    len(label_mask_current_deforestation_test): 54175198\n",
      "ic| TP_H + FN_H + FP_H + TN_H: 1499921\n",
      "    len(label_mask_current_deforestation_test): 54175198\n"
     ]
    },
    {
     "name": "stdout",
     "output_type": "stream",
     "text": [
      "[0.89863569 0.92430591 0.66326945 0.02768649 0.66957777 0.18016497]\n",
      "0.5161059869245168\n",
      "threshold 0.5161059869245168\n",
      "(52235008,) (52235008,)\n"
     ]
    },
    {
     "name": "stderr",
     "output_type": "stream",
     "text": [
      "ic| label_current_deforestation_test_classified_incorrect.shape: (1940190,)\n",
      "    predicted_test_classified_incorrect.shape: (1940190,)\n"
     ]
    },
    {
     "name": "stdout",
     "output_type": "stream",
     "text": [
      "cm_correct [[51695594    44521]\n",
      " [   30963   463930]]\n"
     ]
    },
    {
     "name": "stderr",
     "output_type": "stream",
     "text": [
      "ic| TP_H + FN_H + FP_H + TN_H: 1940190\n",
      "    len(label_mask_current_deforestation_test): 54175198\n",
      "ic| TP_H + FN_H + FP_H + TN_H: 1940190\n",
      "    len(label_mask_current_deforestation_test): 54175198\n"
     ]
    },
    {
     "name": "stdout",
     "output_type": "stream",
     "text": [
      "cm_incorrect [[1667475   29258]\n",
      " [ 180094   63363]]\n",
      "[0.91243797 0.93743496 0.62833345 0.03581325 0.68411051 0.26026362]\n",
      "0.5719333000790597\n",
      "threshold 0.5719333000790597\n",
      "(52557860,) (52557860,)\n"
     ]
    },
    {
     "name": "stderr",
     "output_type": "stream",
     "text": [
      "ic| label_current_deforestation_test_classified_incorrect.shape: (1617338,)\n",
      "    predicted_test_classified_incorrect.shape: (1617338,)\n",
      "ic"
     ]
    },
    {
     "name": "stdout",
     "output_type": "stream",
     "text": [
      "cm_correct [[51985128    52355]\n",
      " [   37285   483092]]\n",
      "cm_incorrect [[1377941   21424]\n",
      " [ 173772   44201]]\n"
     ]
    },
    {
     "name": "stderr",
     "output_type": "stream",
     "text": [
      "| TP_H + FN_H + FP_H + TN_H: 1617338\n",
      "    len(label_mask_current_deforestation_test): 54175198\n",
      "ic| TP_H + FN_H + FP_H + TN_H: 1617338\n",
      "    len(label_mask_current_deforestation_test): 54175198\n"
     ]
    },
    {
     "name": "stdout",
     "output_type": "stream",
     "text": [
      "[0.90222188 0.92835002 0.65428591 0.02985385 0.67353905 0.202782  ]\n",
      "0.5506091639546085\n",
      "threshold 0.5506091639546085\n",
      "(52438116,) (52438116,)\n"
     ]
    },
    {
     "name": "stderr",
     "output_type": "stream",
     "text": [
      "ic| label_current_deforestation_test_classified_incorrect.shape: (1737082,)\n",
      "    predicted_test_classified_incorrect.shape: (1737082,)\n",
      "ic"
     ]
    },
    {
     "name": "stdout",
     "output_type": "stream",
     "text": [
      "cm_correct [[51877788    49532]\n",
      " [   34641   476155]]\n",
      "cm_incorrect [[1485281   24247]\n",
      " [ 176416   51138]]\n"
     ]
    },
    {
     "name": "stderr",
     "output_type": "stream",
     "text": [
      "| TP_H + FN_H + FP_H + TN_H: 1737082\n",
      "    len(label_mask_current_deforestation_test): 54175198\n",
      "ic| TP_H + FN_H + FP_H + TN_H: 1737082\n",
      "    len(label_mask_current_deforestation_test): 54175198\n"
     ]
    },
    {
     "name": "stdout",
     "output_type": "stream",
     "text": [
      "[0.90577663 0.93218232 0.64489063 0.03206416 0.67835776 0.22472908]\n",
      "0.5714645983683995\n",
      "threshold 0.5714645983683995\n",
      "(52555374,) (52555374,)\n"
     ]
    },
    {
     "name": "stderr",
     "output_type": "stream",
     "text": [
      "ic| label_current_deforestation_test_classified_incorrect.shape: (1619824,)\n",
      "    predicted_test_classified_incorrect.shape: (1619824,)\n",
      "ic"
     ]
    },
    {
     "name": "stdout",
     "output_type": "stream",
     "text": [
      "cm_correct [[51982922    52283]\n",
      " [   37231   482938]]\n",
      "cm_incorrect [[1380147   21496]\n",
      " [ 173826   44355]]\n"
     ]
    },
    {
     "name": "stderr",
     "output_type": "stream",
     "text": [
      "| TP_H + FN_H + FP_H + TN_H: 1619824\n",
      "    len(label_mask_current_deforestation_test): 54175198\n",
      "ic| TP_H + FN_H + FP_H + TN_H: 1619824\n",
      "    len(label_mask_current_deforestation_test): 54175198\n"
     ]
    },
    {
     "name": "stdout",
     "output_type": "stream",
     "text": [
      "[0.90231512 0.92842518 0.65407733 0.02989973 0.67356608 0.20329451]\n",
      "0.5662641651469545\n",
      "threshold 0.5662641651469545\n",
      "(52526417,) (52526417,)\n"
     ]
    },
    {
     "name": "stderr",
     "output_type": "stream",
     "text": [
      "ic| label_current_deforestation_test_classified_incorrect.shape: (1648781,)\n",
      "    predicted_test_classified_incorrect.shape: (1648781,)\n"
     ]
    },
    {
     "name": "stdout",
     "output_type": "stream",
     "text": [
      "cm_correct [[51956999    51626]\n",
      " [   36535   481257]]\n"
     ]
    },
    {
     "name": "stderr",
     "output_type": "stream",
     "text": [
      "ic| TP_H + FN_H + FP_H + TN_H: 1648781\n",
      "    len(label_mask_current_deforestation_test): 54175198\n",
      "ic| TP_H + FN_H + FP_H + TN_H: 1648781\n",
      "    len(label_mask_current_deforestation_test): 54175198\n"
     ]
    },
    {
     "name": "stdout",
     "output_type": "stream",
     "text": [
      "cm_incorrect [[1406070   22153]\n",
      " [ 174522   46036]]\n",
      "[0.90311945 0.92944078 0.65180064 0.03043424 0.67512355 0.20872514]\n",
      "0.5694782096340316\n",
      "threshold 0.5694782096340316\n",
      "(52544350,) (52544350,)\n"
     ]
    },
    {
     "name": "stderr",
     "output_type": "stream",
     "text": [
      "ic| label_current_deforestation_test_classified_incorrect.shape: (1630848,)\n",
      "    predicted_test_classified_incorrect.shape: (1630848,)\n",
      "ic"
     ]
    },
    {
     "name": "stdout",
     "output_type": "stream",
     "text": [
      "cm_correct [[51973086    52034]\n",
      " [   36962   482268]]\n",
      "cm_incorrect [[1389983   21745]\n",
      " [ 174095   45025]]\n"
     ]
    },
    {
     "name": "stderr",
     "output_type": "stream",
     "text": [
      "| TP_H + FN_H + FP_H + TN_H: 1630848\n",
      "    len(label_mask_current_deforestation_test): 54175198\n",
      "ic| TP_H + FN_H + FP_H + TN_H: 1630848\n",
      "    len(label_mask_current_deforestation_test): 54175198\n"
     ]
    },
    {
     "name": "stdout",
     "output_type": "stream",
     "text": [
      "[0.90261313 0.92881382 0.65316991 0.03010322 0.67432979 0.20548101]\n",
      "0.5704897805369815\n",
      "threshold 0.5704897805369815\n",
      "(52550051,) (52550051,)\n"
     ]
    },
    {
     "name": "stderr",
     "output_type": "stream",
     "text": [
      "ic| label_current_deforestation_test_classified_incorrect.shape: (1625147,)\n",
      "    predicted_test_classified_incorrect.shape: (1625147,)\n",
      "ic"
     ]
    },
    {
     "name": "stdout",
     "output_type": "stream",
     "text": [
      "cm_correct [[51978202    52169]\n",
      " [   37097   482583]]\n",
      "cm_incorrect [[1384867   21610]\n",
      " [ 173960   44710]]\n"
     ]
    },
    {
     "name": "stderr",
     "output_type": "stream",
     "text": [
      "| TP_H + FN_H + FP_H + TN_H: 1625147\n",
      "    len(label_mask_current_deforestation_test): 54175198\n",
      "ic| TP_H + FN_H + FP_H + TN_H: 1625147\n",
      "    len(label_mask_current_deforestation_test): 54175198\n"
     ]
    },
    {
     "name": "stdout",
     "output_type": "stream",
     "text": [
      "[0.90244263 0.92861569 0.65359653 0.02999799 0.67415561 0.20446335]\n",
      "0.5704564387419173\n",
      "threshold 0.5704564387419173\n",
      "(52549865,) (52549865,)\n"
     ]
    },
    {
     "name": "stderr",
     "output_type": "stream",
     "text": [
      "ic| label_current_deforestation_test_classified_incorrect.shape: (1625333,)\n",
      "    predicted_test_classified_incorrect.shape: (1625333,)\n",
      "ic"
     ]
    },
    {
     "name": "stdout",
     "output_type": "stream",
     "text": [
      "cm_correct [[51978038    52163]\n",
      " [   37088   482576]]\n",
      "cm_incorrect [[1385031   21616]\n",
      " [ 173969   44717]]\n"
     ]
    },
    {
     "name": "stderr",
     "output_type": "stream",
     "text": [
      "| TP_H + FN_H + FP_H + TN_H: 1625333\n",
      "    len(label_mask_current_deforestation_test): 54175198\n",
      "ic| TP_H + FN_H + FP_H + TN_H: 1625333\n",
      "    len(label_mask_current_deforestation_test): 54175198\n"
     ]
    },
    {
     "name": "stdout",
     "output_type": "stream",
     "text": [
      "[0.90245148 0.92863081 0.65358705 0.03000142 0.67412902 0.2044804 ]\n",
      "0.5703661065053953\n",
      "threshold 0.5703661065053953\n",
      "(52549371,) (52549371,)\n"
     ]
    },
    {
     "name": "stderr",
     "output_type": "stream",
     "text": [
      "ic| label_current_deforestation_test_classified_incorrect.shape: (1625827,)\n",
      "    predicted_test_classified_incorrect.shape: (1625827,)\n",
      "ic"
     ]
    },
    {
     "name": "stdout",
     "output_type": "stream",
     "text": [
      "cm_correct [[51977598    52148]\n",
      " [   37082   482543]]\n",
      "cm_incorrect [[1385471   21631]\n",
      " [ 173975   44750]]\n"
     ]
    },
    {
     "name": "stderr",
     "output_type": "stream",
     "text": [
      "| TP_H + FN_H + FP_H + TN_H: 1625827\n",
      "    len(label_mask_current_deforestation_test): 54175198\n",
      "ic| TP_H + FN_H + FP_H + TN_H: 1625827\n",
      "    len(label_mask_current_deforestation_test): 54175198\n"
     ]
    },
    {
     "name": "stdout",
     "output_type": "stream",
     "text": [
      "[0.90247077 0.928637   0.65354236 0.03001054 0.67413868 0.20459481]\n",
      "0.5704219348978458\n",
      "threshold 0.5704219348978458\n",
      "(52549666,) (52549666,)\n"
     ]
    },
    {
     "name": "stderr",
     "output_type": "stream",
     "text": [
      "ic| label_current_deforestation_test_classified_incorrect.shape: (1625532,)\n",
      "    predicted_test_classified_incorrect.shape: (1625532,)\n"
     ]
    },
    {
     "name": "stdout",
     "output_type": "stream",
     "text": [
      "cm_correct [[51977857    52160]\n",
      " [   37086   482563]]\n",
      "cm_incorrect [[1385212   21619]\n",
      " [ 173971   44730]]\n"
     ]
    },
    {
     "name": "stderr",
     "output_type": "stream",
     "text": [
      "ic| TP_H + FN_H + FP_H + TN_H: 1625532\n",
      "    len(label_mask_current_deforestation_test): 54175198\n",
      "ic| TP_H + FN_H + FP_H + TN_H: 1625532\n",
      "    len(label_mask_current_deforestation_test): 54175198\n",
      "ic| self.threshold_optimal: 0.5704564387419173\n"
     ]
    },
    {
     "name": "stdout",
     "output_type": "stream",
     "text": [
      "[0.90245417 0.9286326  0.65356945 0.0300051  0.67416238 0.20452581]\n",
      "threshold 0.5704564387419173\n",
      "(52549865,) (52549865,)\n"
     ]
    },
    {
     "name": "stderr",
     "output_type": "stream",
     "text": [
      "ic| label_current_deforestation_test_classified_incorrect.shape: (1625333,)\n",
      "    predicted_test_classified_incorrect.shape: (1625333,)\n",
      "ic"
     ]
    },
    {
     "name": "stdout",
     "output_type": "stream",
     "text": [
      "cm_correct [[51978038    52163]\n",
      " [   37088   482576]]\n",
      "cm_incorrect [[1385031   21616]\n",
      " [ 173969   44717]]\n"
     ]
    },
    {
     "name": "stderr",
     "output_type": "stream",
     "text": [
      "| TP_H + FN_H + FP_H + TN_H: 1625333\n",
      "    len(label_mask_current_deforestation_test): 54175198\n",
      "ic| TP_H + FN_H + FP_H + TN_H: 1625333\n",
      "    len(label_mask_current_deforestation_test): 54175198\n"
     ]
    },
    {
     "name": "stdout",
     "output_type": "stream",
     "text": [
      "[0.90245148 0.92863081 0.65358705 0.03000142 0.67412902 0.2044804 ]\n",
      "threshold 0.5704564387419173\n",
      "(54175198,) (54175198,)\n"
     ]
    },
    {
     "name": "stderr",
     "output_type": "stream",
     "text": [
      "ic| self.m_optimal: {'AA': array([0.03000142]),\n",
      "                     'f1_H': array([0.31378259]),\n",
      "                     'f1_L': array([0.915354]),\n",
      "                     'precision_H': array([0.67412902]),\n",
      "                     'precision_L': array([0.90245148]),\n",
      "                     'recall_H': array([0.2044804]),\n",
      "                     'recall_L': array([0.92863081]),\n",
      "                     'recall_Ltotal': array([0.65358705])}\n",
      "ic| self.m_audited_optimal: {'f1': array([0.94017127]),\n",
      "                             'precision': array([0.9307655]),\n",
      "                             'recall': array([0.94976908])}\n"
     ]
    },
    {
     "name": "stdout",
     "output_type": "stream",
     "text": [
      "cm_audited [[53384685    52163]\n",
      " [   37088   701262]]\n",
      "[0.9307655  0.94976908]\n"
     ]
    }
   ],
   "source": [
    "\n",
    "# if config[\"training\"] == True:\n",
    "# experiment_values = [10*375//1, 10*375//1.5, 10*375//2, 10*375//3, 10*375//4]\n",
    "experiment_values = [10*375//3, 10*375//3, 10*375//3, 10*375//3, 10*375//3]\n",
    "\n",
    "experiment_values = [int(x) for x in experiment_values]\n",
    "for experiment_value in experiment_values:\n",
    "    config = {\n",
    "        \"training\": True,\n",
    "        \"save_probabilities\": False,\n",
    "        \"loadInference\": False,\n",
    "        \"addPastDeforestationInput\": True,\n",
    "        \"inference_times\": 1,\n",
    "        \"Uncertainty\": {\n",
    "            \"annealing_step\": experiment_value# 10*375/2 # 1875\n",
    "        }\n",
    "    }\n",
    "\n",
    "    trainer = Trainer(config, dataset, patchesHandler)\n",
    "\n",
    "    trainer.defineExperiment(exp)\n",
    "\n",
    "    trainer.createLogFolders()\n",
    "\n",
    "    trainer.loadDataset()\n",
    "\n",
    "    # %%\n",
    "    if config[\"training\"] == True:\n",
    "        trainer.run()\n",
    "\n",
    "    # %%\n",
    "    trainer.run_predictor()"
   ]
  },
  {
   "cell_type": "code",
   "execution_count": null,
   "id": "64080745",
   "metadata": {},
   "outputs": [],
   "source": []
  },
  {
   "cell_type": "code",
   "execution_count": null,
   "id": "4819ba4f",
   "metadata": {},
   "outputs": [],
   "source": []
  },
  {
   "cell_type": "code",
   "execution_count": null,
   "id": "13437081",
   "metadata": {},
   "outputs": [],
   "source": []
  }
 ],
 "metadata": {
  "kernelspec": {
   "display_name": "Python 3.9.12 ('tf2')",
   "language": "python",
   "name": "python3"
  },
  "language_info": {
   "codemirror_mode": {
    "name": "ipython",
    "version": 3
   },
   "file_extension": ".py",
   "mimetype": "text/x-python",
   "name": "python",
   "nbconvert_exporter": "python",
   "pygments_lexer": "ipython3",
   "version": "3.9.12 (main, Apr  4 2022, 05:22:27) [MSC v.1916 64 bit (AMD64)]"
  },
  "vscode": {
   "interpreter": {
    "hash": "0593c6bd4eb743cc503a3c17025f83c5676f297db573750215a1bc8c88a990c4"
   }
  }
 },
 "nbformat": 4,
 "nbformat_minor": 5
}
