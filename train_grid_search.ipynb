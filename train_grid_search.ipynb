{
 "cells": [
  {
   "cell_type": "code",
   "execution_count": 1,
   "id": "dbd5b7cf",
   "metadata": {},
   "outputs": [],
   "source": [
    "from utils_v1 import *\n"
   ]
  },
  {
   "cell_type": "code",
   "execution_count": 2,
   "id": "123e793c",
   "metadata": {},
   "outputs": [],
   "source": [
    "from icecream import ic\n",
    "\n",
    "import numpy as np\n",
    "from src.dataset import (\n",
    "    MultipleDates,\n",
    "    PA, PADeforestationTime, PADistanceMap, PAMultipleDates,\n",
    "    MTDeforestationTime,\n",
    "    MTMultipleDates\n",
    ")\n",
    "\n",
    "# from src.dataset_legacy import MTDeforestationTime\n",
    "from src import training_generator as generator\n",
    "from src.patchesHandler import PatchesHandler, PatchesHandlerMultipleDates, PatchesHandlerEvidential\n",
    "\n",
    "from src.trainer.evidential import TrainerEvidential\n",
    "\n",
    "from mpl_toolkits.axes_grid1 import make_axes_locatable\n",
    "\n",
    "import cv2\n",
    "from src import metrics as _metric\n",
    "import json\n",
    "import pickle \n",
    "\n"
   ]
  },
  {
   "cell_type": "code",
   "execution_count": 3,
   "id": "603a5df7",
   "metadata": {},
   "outputs": [
    {
     "name": "stderr",
     "output_type": "stream",
     "text": [
      "ic| dates: [2018, 2019]\n",
      "ic| list(self.date_ids): [0]\n",
      "ic| self.image_channels: [[0, 1, 2, 3, 4, 5, 6, 7, 8, 9, 10, 11, 12, 13, 14, 15, 16, 17, 18, 19, 20]]\n",
      "ic| self.input_image_shape: 21\n",
      "ic| self.dataset.image_channels: [[0, 1, 2, 3, 4, 5, 6, 7, 8, 9, 10, 11, 12, 13, 14, 15, 16, 17, 18, 19, 20]]\n"
     ]
    }
   ],
   "source": [
    "\n",
    "config = {\n",
    "\t\"training\": False,\n",
    "\t\"save_probabilities\": False,\n",
    "\t\"loadInference\": False,\n",
    "\t\"addPastDeforestationInput\": True,\n",
    "\t\"inference_times\": 1,\n",
    "\t\"Uncertainty\": {\n",
    "\t\t\"annealing_step\": 10*375/2 # 1875\n",
    "\t}\n",
    "}\n",
    "\n",
    "\n",
    "\n",
    "\n",
    "'''\n",
    "if config[\"training\"] == True:\n",
    "\tdates = [2017, 2018]\n",
    "else:\n",
    "\tdates = [2018, 2019]\n",
    "if config[\"training\"] == True:\n",
    "\tdates = [2018, 2019]\n",
    "else:\n",
    "\tdates = [2019, 2020]\n",
    "'''\n",
    "dates = [2018, 2019]\n",
    "ic(dates)\n",
    "dataset = PAMultipleDates(dates = dates, # dates = [2017, 2018, 2019]. [2018, 2019]. [2015, 2016, 2017, 2018]\n",
    "\taddPastDeforestationInput = config['addPastDeforestationInput'],\n",
    "\tborderBuffer = 2)\t\n",
    "# dataset = MTMultipleDates(dates = dates, # dates = [2016,2017,2018,2019]\n",
    "# \taddPastDeforestationInput = addPastDeforestationInput,\n",
    "# \tborderBuffer = 2)\t\n",
    "# dataset = MTDeforestationTime()\t\n",
    "# [2016, 2017, 2018]\n",
    "\n",
    "\n",
    "if issubclass(type(dataset), MultipleDates):\n",
    "\tpatchesHandler = PatchesHandlerEvidential(\n",
    "\t\tdataset)\n",
    "else:\n",
    "\tpatchesHandler = PatchesHandler()\n",
    "\n"
   ]
  },
  {
   "cell_type": "code",
   "execution_count": 4,
   "id": "453870ef",
   "metadata": {},
   "outputs": [
    {
     "data": {
      "text/plain": [
       "[3750, 2500.0, 1875, 1250, 937]"
      ]
     },
     "execution_count": 4,
     "metadata": {},
     "output_type": "execute_result"
    }
   ],
   "source": [
    "[10*375//1, 10*375//1.5, 10*375//2, 10*375//3, 10*375//4]\n"
   ]
  },
  {
   "cell_type": "code",
   "execution_count": null,
   "id": "1bb339c8",
   "metadata": {},
   "outputs": [],
   "source": [
    "# if config[\"training\"] == True:\n",
    "# experiment_values = [10*375//1, 10*375//1.5, 10*375//2, 10*375//3, 10*375//4]\n",
    "# experiment_values = [10*375//3, 10*375//3, 10*375//3, 10*375//3, 10*375//3]\n",
    "# experiment_values = [10*375//2, 10*375//2, 10*375//2, 10*375//2, 10*375//2, 10*375//2, 10*375//2]\n",
    "experiment_values = [10*375, 10*375, 10*375, 10*375, 10*375, 10*375, 10*375, 10*375, 10*375, 10*375]\n",
    "\n",
    "experiment_values = [int(x) for x in experiment_values]\n",
    "results = []\n",
    "\n",
    "#exp_id_base = 148\n",
    "# exp_id_base = 155\n",
    "exp_id_base = 159\n",
    "\n",
    "\n",
    "exp_ids = range(exp_id_base, exp_id_base+len(experiment_values))\n"
   ]
  },
  {
   "cell_type": "code",
   "execution_count": null,
   "id": "c7ae3a0c",
   "metadata": {},
   "outputs": [],
   "source": [
    "exp_ids"
   ]
  },
  {
   "cell_type": "code",
   "execution_count": 5,
   "id": "55da0bd1",
   "metadata": {},
   "outputs": [
    {
     "name": "stdout",
     "output_type": "stream",
     "text": [
      "D:/Jorge/datasets/deforestation/Para/deforestation_past_years.tif\n",
      "Loaded deforestation past years\n"
     ]
    },
    {
     "name": "stderr",
     "output_type": "stream",
     "text": [
      "ic| np.unique(deforestation_past_years, return_counts=True): (array([   0, 2008, 2009, 2010, 2011, 2012, 2013, 2014, 2015, 2016, 2017,\n",
      "                                                                    2018, 2019, 2020, 2021], dtype=uint16),\n",
      "                                                              array([132185553,   3150503,   4571354,    864429,    903608,   1299506,\n",
      "                                                                      2477971,   1561686,   1459696,    969060,    644976,   2209014,\n",
      "                                                                      2100204,   5257014,   3514616], dtype=int64))\n"
     ]
    },
    {
     "name": "stdout",
     "output_type": "stream",
     "text": [
      "Label where deforestation past years is actual date (2019) = 1\n"
     ]
    },
    {
     "name": "stderr",
     "output_type": "stream",
     "text": [
      "ic| np.unique(deforestation_past_years, return_counts=True): (array([   0, 2008, 2009, 2010, 2011, 2012, 2013, 2014, 2015, 2016, 2017,\n",
      "                                                                    2018, 2019, 2020, 2021], dtype=uint16),\n",
      "                                                              array([132185553,   3150503,   4571354,    864429,    903608,   1299506,\n",
      "                                                                      2477971,   1561686,   1459696,    969060,    644976,   2209014,\n",
      "                                                                      2100204,   5257014,   3514616], dtype=int64))\n"
     ]
    },
    {
     "name": "stdout",
     "output_type": "stream",
     "text": [
      "Past deforestation different from 0 (no deforestation)\n"
     ]
    },
    {
     "name": "stderr",
     "output_type": "stream",
     "text": [
      "ic| np.unique(deforestation_past_years, return_counts=True): (array([   0, 2008, 2009, 2010, 2011, 2012, 2013, 2014, 2015, 2016, 2017,\n",
      "                                                                    2018, 2019, 2020, 2021], dtype=uint16),\n",
      "                                                              array([132185553,   3150503,   4571354,    864429,    903608,   1299506,\n",
      "                                                                      2477971,   1561686,   1459696,    969060,    644976,   2209014,\n",
      "                                                                      2100204,   5257014,   3514616], dtype=int64))\n"
     ]
    },
    {
     "name": "stdout",
     "output_type": "stream",
     "text": [
      "Past deforestation before 2008 is 2\n",
      "D:/Jorge/datasets/deforestation/deforestation_before_2008/deforestation_before_2008_para.tif\n"
     ]
    },
    {
     "name": "stderr",
     "output_type": "stream",
     "text": [
      "ic| np.unique(label_past_deforestation_before_2008, return_counts=True): (array([  0, 215], dtype=uint8), array([124211220,  38957970], dtype=int64))\n",
      "ic| np.unique(deforestation_past_years, return_counts=True): (array([   0, 2008, 2009, 2010, 2011, 2012, 2013, 2014, 2015, 2016, 2017,\n",
      "                                                                    2018, 2019, 2020, 2021], dtype=uint16),\n",
      "                                                              array([132185553,   3150503,   4571354,    864429,    903608,   1299506,\n",
      "                                                                      2477971,   1561686,   1459696,    969060,    644976,   2209014,\n",
      "                                                                      2100204,   5257014,   3514616], dtype=int64))\n",
      "ic| label_per_date.shape: (17730, 9203, 1)\n"
     ]
    },
    {
     "name": "stdout",
     "output_type": "stream",
     "text": [
      "Mask label shape:  \n",
      " (17730, 9203, 1) \n",
      " Unique values:  \n",
      " [0 1 2]\n",
      "Tiles size:  3546 2300\n",
      "Mask size:  (17730, 9200)\n"
     ]
    },
    {
     "name": "stderr",
     "output_type": "stream",
     "text": [
      "ic| image_stack.shape: (17730, 9203, 21)\n"
     ]
    },
    {
     "name": "stdout",
     "output_type": "stream",
     "text": [
      "Image shape:  (17730, 9203, 21)\n",
      "mask:  (17730, 9200)\n",
      "image stack:  (17730, 9200, 21)\n",
      "ref : (17730, 9200, 1)\n",
      "Training tiles:  [1, 3, 5, 8, 11, 13, 14, 20]\n",
      "Validation tiles:  [6, 19]\n",
      "Test tiles:  [2, 4, 7, 9, 10, 12, 15, 16, 17, 18]\n"
     ]
    },
    {
     "name": "stderr",
     "output_type": "stream",
     "text": [
      "ic| im_idx_row.shape: (17730, 9200, 1)\n",
      "    im_idx_col.shape: (17730, 9200, 1)\n",
      "ic| im_idx_row.dtype: dtype('uint16')\n",
      "    im_idx_col.dtype: dtype('uint16')\n",
      "ic| im_idx.shape: (17730, 9200, 2), im_idx.dtype: dtype('uint16')\n",
      "ic| coords.shape: (464, 239, 1, 128, 128, 2)\n",
      "    coords.dtype: dtype('uint16')\n",
      "ic| coords.shape: (110896, 2), coords.dtype: dtype('uint16')\n",
      "ic| self.coords_train.shape: (41812, 3)\n",
      "    self.coords_val.shape: (10260, 3)\n"
     ]
    },
    {
     "name": "stdout",
     "output_type": "stream",
     "text": [
      "training samples:  (3753, 3) validation samples:  (1032, 3)\n",
      "time:  0\n",
      "Model: \"model\"\n",
      "__________________________________________________________________________________________________\n",
      "Layer (type)                    Output Shape         Param #     Connected to                     \n",
      "==================================================================================================\n",
      "input_enc_net (InputLayer)      [(None, 128, 128, 21 0                                            \n",
      "__________________________________________________________________________________________________\n",
      "res1_net1 (Conv2D)              (None, 128, 128, 16) 3040        input_enc_net[0][0]              \n",
      "__________________________________________________________________________________________________\n",
      "drop_net1 (Dropout)             (None, 128, 128, 16) 0           res1_net1[0][0]                  \n",
      "__________________________________________________________________________________________________\n",
      "res2_net1 (Conv2D)              (None, 128, 128, 16) 2320        drop_net1[0][0]                  \n",
      "__________________________________________________________________________________________________\n",
      "res3_net1 (Conv2D)              (None, 128, 128, 16) 352         input_enc_net[0][0]              \n",
      "__________________________________________________________________________________________________\n",
      "add (Add)                       (None, 128, 128, 16) 0           res2_net1[0][0]                  \n",
      "                                                                 res3_net1[0][0]                  \n",
      "__________________________________________________________________________________________________\n",
      "pool_net1 (MaxPooling2D)        (None, 64, 64, 16)   0           add[0][0]                        \n",
      "__________________________________________________________________________________________________\n",
      "res1_net2 (Conv2D)              (None, 64, 64, 32)   4640        pool_net1[0][0]                  \n",
      "__________________________________________________________________________________________________\n",
      "drop_net2 (Dropout)             (None, 64, 64, 32)   0           res1_net2[0][0]                  \n",
      "__________________________________________________________________________________________________\n",
      "res2_net2 (Conv2D)              (None, 64, 64, 32)   9248        drop_net2[0][0]                  \n",
      "__________________________________________________________________________________________________\n",
      "res3_net2 (Conv2D)              (None, 64, 64, 32)   544         pool_net1[0][0]                  \n",
      "__________________________________________________________________________________________________\n",
      "add_1 (Add)                     (None, 64, 64, 32)   0           res2_net2[0][0]                  \n",
      "                                                                 res3_net2[0][0]                  \n",
      "__________________________________________________________________________________________________\n",
      "pool_net2 (MaxPooling2D)        (None, 32, 32, 32)   0           add_1[0][0]                      \n",
      "__________________________________________________________________________________________________\n",
      "res1_net3 (Conv2D)              (None, 32, 32, 64)   18496       pool_net2[0][0]                  \n",
      "__________________________________________________________________________________________________\n",
      "drop_net3 (Dropout)             (None, 32, 32, 64)   0           res1_net3[0][0]                  \n",
      "__________________________________________________________________________________________________\n",
      "res2_net3 (Conv2D)              (None, 32, 32, 64)   36928       drop_net3[0][0]                  \n",
      "__________________________________________________________________________________________________\n",
      "res3_net3 (Conv2D)              (None, 32, 32, 64)   2112        pool_net2[0][0]                  \n",
      "__________________________________________________________________________________________________\n",
      "add_2 (Add)                     (None, 32, 32, 64)   0           res2_net3[0][0]                  \n",
      "                                                                 res3_net3[0][0]                  \n",
      "__________________________________________________________________________________________________\n",
      "pool_net3 (MaxPooling2D)        (None, 16, 16, 64)   0           add_2[0][0]                      \n",
      "__________________________________________________________________________________________________\n",
      "res1_net4 (Conv2D)              (None, 16, 16, 64)   36928       pool_net3[0][0]                  \n",
      "__________________________________________________________________________________________________\n",
      "drop_net4 (Dropout)             (None, 16, 16, 64)   0           res1_net4[0][0]                  \n",
      "__________________________________________________________________________________________________\n",
      "res2_net4 (Conv2D)              (None, 16, 16, 64)   36928       drop_net4[0][0]                  \n",
      "__________________________________________________________________________________________________\n",
      "res3_net4 (Conv2D)              (None, 16, 16, 64)   4160        pool_net3[0][0]                  \n",
      "__________________________________________________________________________________________________\n",
      "add_3 (Add)                     (None, 16, 16, 64)   0           res2_net4[0][0]                  \n",
      "                                                                 res3_net4[0][0]                  \n",
      "__________________________________________________________________________________________________\n",
      "res1_net5 (Conv2D)              (None, 16, 16, 64)   36928       add_3[0][0]                      \n",
      "__________________________________________________________________________________________________\n",
      "drop_net5 (Dropout)             (None, 16, 16, 64)   0           res1_net5[0][0]                  \n",
      "__________________________________________________________________________________________________\n",
      "res2_net5 (Conv2D)              (None, 16, 16, 64)   36928       drop_net5[0][0]                  \n",
      "__________________________________________________________________________________________________\n",
      "res3_net5 (Conv2D)              (None, 16, 16, 64)   4160        add_3[0][0]                      \n",
      "__________________________________________________________________________________________________\n",
      "add_4 (Add)                     (None, 16, 16, 64)   0           res2_net5[0][0]                  \n",
      "                                                                 res3_net5[0][0]                  \n",
      "__________________________________________________________________________________________________\n",
      "res1_net6 (Conv2D)              (None, 16, 16, 64)   36928       add_4[0][0]                      \n",
      "__________________________________________________________________________________________________\n",
      "drop_net6 (Dropout)             (None, 16, 16, 64)   0           res1_net6[0][0]                  \n",
      "__________________________________________________________________________________________________\n",
      "res2_net6 (Conv2D)              (None, 16, 16, 64)   36928       drop_net6[0][0]                  \n",
      "__________________________________________________________________________________________________\n",
      "res3_net6 (Conv2D)              (None, 16, 16, 64)   4160        add_4[0][0]                      \n",
      "__________________________________________________________________________________________________\n",
      "add_5 (Add)                     (None, 16, 16, 64)   0           res2_net6[0][0]                  \n",
      "                                                                 res3_net6[0][0]                  \n",
      "__________________________________________________________________________________________________\n",
      "up_sampling2d (UpSampling2D)    (None, 32, 32, 64)   0           add_5[0][0]                      \n",
      "__________________________________________________________________________________________________\n",
      "upsampling_net3 (Conv2D)        (None, 32, 32, 64)   36928       up_sampling2d[0][0]              \n",
      "__________________________________________________________________________________________________\n",
      "concatenate3 (Concatenate)      (None, 32, 32, 128)  0           add_2[0][0]                      \n",
      "                                                                 upsampling_net3[0][0]            \n",
      "__________________________________________________________________________________________________\n",
      "up_sampling2d_1 (UpSampling2D)  (None, 64, 64, 128)  0           concatenate3[0][0]               \n",
      "__________________________________________________________________________________________________\n",
      "upsampling_net2 (Conv2D)        (None, 64, 64, 32)   36896       up_sampling2d_1[0][0]            \n",
      "__________________________________________________________________________________________________\n",
      "concatenate2 (Concatenate)      (None, 64, 64, 64)   0           add_1[0][0]                      \n",
      "                                                                 upsampling_net2[0][0]            \n",
      "__________________________________________________________________________________________________\n",
      "up_sampling2d_2 (UpSampling2D)  (None, 128, 128, 64) 0           concatenate2[0][0]               \n",
      "__________________________________________________________________________________________________\n",
      "upsampling_net1 (Conv2D)        (None, 128, 128, 16) 9232        up_sampling2d_2[0][0]            \n",
      "__________________________________________________________________________________________________\n",
      "concatenate1 (Concatenate)      (None, 128, 128, 32) 0           add[0][0]                        \n",
      "                                                                 upsampling_net1[0][0]            \n",
      "__________________________________________________________________________________________________\n",
      "output (Conv2D)                 (None, 128, 128, 3)  99          concatenate1[0][0]               \n",
      "==================================================================================================\n",
      "Total params: 394,883\n",
      "Trainable params: 394,883\n",
      "Non-trainable params: 0\n",
      "__________________________________________________________________________________________________\n"
     ]
    },
    {
     "name": "stderr",
     "output_type": "stream",
     "text": [
      "c:\\Users\\jchamorro\\Anaconda3\\envs\\tf2\\lib\\site-packages\\tensorflow\\python\\keras\\optimizer_v2\\optimizer_v2.py:374: UserWarning: The `lr` argument is deprecated, use `learning_rate` instead.\n",
      "  warnings.warn(\n",
      "c:\\Users\\jchamorro\\Anaconda3\\envs\\tf2\\lib\\site-packages\\tensorflow\\python\\keras\\engine\\training.py:1969: UserWarning: `Model.fit_generator` is deprecated and will be removed in a future version. Please use `Model.fit`, which supports generators.\n",
      "  warnings.warn('`Model.fit_generator` is deprecated and '\n"
     ]
    },
    {
     "name": "stdout",
     "output_type": "stream",
     "text": [
      "Epoch 1/100\n",
      "self.global_step 0.0\n",
      "alpha Tensor(\"loss/add:0\", shape=(None, 128, 128, 3), dtype=float32)\n",
      "u Tensor(\"loss/truediv:0\", shape=(None, 128, 128, 1), dtype=float32)\n",
      "alpha Tensor(\"add:0\", shape=(None, 128, 128, 3), dtype=float32)\n",
      "u Tensor(\"truediv:0\", shape=(None, 128, 128, 1), dtype=float32)\n",
      "K.int_shape(KL_reg) Tensor(\"mul_6:0\", shape=(None, 128, 128, 1), dtype=float32)\n",
      "alpha Tensor(\"add_7:0\", shape=(None, 128, 128, 3), dtype=float32)\n",
      "u Tensor(\"truediv_5:0\", shape=(None, 128, 128, 1), dtype=float32)\n",
      "K.int_shape(KL_reg) Tensor(\"mul_12:0\", shape=(None, 128, 128, 1), dtype=float32)\n",
      "alpha Tensor(\"loss/add:0\", shape=(None, 128, 128, 3), dtype=float32)\n",
      "u Tensor(\"loss/truediv:0\", shape=(None, 128, 128, 1), dtype=float32)\n",
      "alpha Tensor(\"add:0\", shape=(None, 128, 128, 3), dtype=float32)\n",
      "u Tensor(\"truediv:0\", shape=(None, 128, 128, 1), dtype=float32)\n",
      "K.int_shape(KL_reg) Tensor(\"mul_6:0\", shape=(None, 128, 128, 1), dtype=float32)\n",
      "alpha Tensor(\"add_7:0\", shape=(None, 128, 128, 3), dtype=float32)\n",
      "u Tensor(\"truediv_5:0\", shape=(None, 128, 128, 1), dtype=float32)\n",
      "K.int_shape(KL_reg) Tensor(\"mul_12:0\", shape=(None, 128, 128, 1), dtype=float32)\n",
      "351/351 [==============================] - ETA: 0s - loss: 0.2510 - accuracy: 0.8519 - KL_term: 0.0076 - loglikelihood_term: 0.2436 - evidential_success: 45.6540 - evidential_fail: 6.8806 - acc: 0.8518 - annealing_coef: 0.0467 - global_step_get: 175.0000 - annealing_step_get: 3750.0000alpha Tensor(\"loss/add:0\", shape=(None, 128, 128, 3), dtype=float32)\n",
      "u Tensor(\"loss/truediv:0\", shape=(None, 128, 128, 1), dtype=float32)\n",
      "alpha Tensor(\"add:0\", shape=(None, 128, 128, 3), dtype=float32)\n",
      "u Tensor(\"truediv:0\", shape=(None, 128, 128, 1), dtype=float32)\n",
      "K.int_shape(KL_reg) Tensor(\"mul_6:0\", shape=(None, 128, 128, 1), dtype=float32)\n",
      "alpha Tensor(\"add_7:0\", shape=(None, 128, 128, 3), dtype=float32)\n",
      "u Tensor(\"truediv_5:0\", shape=(None, 128, 128, 1), dtype=float32)\n",
      "K.int_shape(KL_reg) Tensor(\"mul_12:0\", shape=(None, 128, 128, 1), dtype=float32)\n",
      "351/351 [==============================] - 38s 93ms/step - loss: 0.2510 - accuracy: 0.8519 - KL_term: 0.0076 - loglikelihood_term: 0.2436 - evidential_success: 45.6540 - evidential_fail: 6.8806 - acc: 0.8518 - annealing_coef: 0.0467 - global_step_get: 175.0000 - annealing_step_get: 3750.0000 - val_loss: 0.1918 - val_accuracy: 0.8923 - val_KL_term: 0.0161 - val_loglikelihood_term: 0.1742 - val_evidential_success: 33.9319 - val_evidential_fail: 6.3995 - val_acc: 0.8932 - val_annealing_coef: 0.0933 - val_global_step_get: 350.0000 - val_annealing_step_get: 3750.0000\n",
      "\n",
      "Epoch 00001: val_loss improved from inf to 0.19177, saving model to D:/Jorge/datasets/deforestation/experiments/exp155/models\\resunet_0.h5\n",
      "Epoch 2/100\n",
      "self.global_step 350.0\n",
      "  1/351 [..............................] - ETA: 23s - loss: 0.1834 - accuracy: 0.8873 - KL_term: 0.0000e+00 - loglikelihood_term: 0.1834 - evidential_success: 47.9313 - evidential_fail: 11.5732 - acc: 0.8873 - annealing_coef: 0.0000e+00 - global_step_get: 0.0000e+00 - annealing_step_get: 3750.0000"
     ]
    },
    {
     "name": "stderr",
     "output_type": "stream",
     "text": [
      "c:\\Users\\jchamorro\\Anaconda3\\envs\\tf2\\lib\\site-packages\\tensorflow\\python\\keras\\utils\\generic_utils.py:494: CustomMaskWarning: Custom mask layers require a config and must override get_config. When loading, the custom mask layer must be passed to the custom_objects argument.\n",
      "  warnings.warn('Custom mask layers require a config and must override '\n"
     ]
    },
    {
     "name": "stdout",
     "output_type": "stream",
     "text": [
      "351/351 [==============================] - 32s 90ms/step - loss: 0.1370 - accuracy: 0.9255 - KL_term: 0.0122 - loglikelihood_term: 0.1247 - evidential_success: 78.7712 - evidential_fail: 10.7019 - acc: 0.9255 - annealing_coef: 0.0933 - global_step_get: 350.0000 - annealing_step_get: 3750.0000 - val_loss: 0.1382 - val_accuracy: 0.9294 - val_KL_term: 0.0186 - val_loglikelihood_term: 0.1185 - val_evidential_success: 66.0699 - val_evidential_fail: 5.7938 - val_acc: 0.9300 - val_annealing_coef: 0.1867 - val_global_step_get: 700.0000 - val_annealing_step_get: 3750.0000\n",
      "\n",
      "Epoch 00002: val_loss improved from 0.19177 to 0.13817, saving model to D:/Jorge/datasets/deforestation/experiments/exp155/models\\resunet_0.h5\n",
      "Epoch 3/100\n",
      "self.global_step 700.0\n",
      "351/351 [==============================] - 32s 90ms/step - loss: 0.1293 - accuracy: 0.9316 - KL_term: 0.0144 - loglikelihood_term: 0.1147 - evidential_success: 91.1030 - evidential_fail: 9.3434 - acc: 0.9317 - annealing_coef: 0.1400 - global_step_get: 525.0000 - annealing_step_get: 3750.0000 - val_loss: 0.1489 - val_accuracy: 0.9281 - val_KL_term: 0.0262 - val_loglikelihood_term: 0.1216 - val_evidential_success: 73.4745 - val_evidential_fail: 5.0808 - val_acc: 0.9287 - val_annealing_coef: 0.2800 - val_global_step_get: 1050.0000 - val_annealing_step_get: 3750.0000\n",
      "\n",
      "Epoch 00003: val_loss did not improve from 0.13817\n",
      "Epoch 4/100\n",
      "self.global_step 1050.0\n",
      "351/351 [==============================] - 32s 90ms/step - loss: 0.1269 - accuracy: 0.9352 - KL_term: 0.0164 - loglikelihood_term: 0.1105 - evidential_success: 104.8841 - evidential_fail: 8.5041 - acc: 0.9351 - annealing_coef: 0.1867 - global_step_get: 700.0000 - annealing_step_get: 3750.0000 - val_loss: 0.1584 - val_accuracy: 0.9282 - val_KL_term: 0.0332 - val_loglikelihood_term: 0.1240 - val_evidential_success: 69.9420 - val_evidential_fail: 4.6312 - val_acc: 0.9288 - val_annealing_coef: 0.3733 - val_global_step_get: 1400.0000 - val_annealing_step_get: 3750.0000\n",
      "\n",
      "Epoch 00004: val_loss did not improve from 0.13817\n",
      "Epoch 5/100\n",
      "self.global_step 1400.0\n",
      "351/351 [==============================] - 32s 90ms/step - loss: 0.1238 - accuracy: 0.9384 - KL_term: 0.0175 - loglikelihood_term: 0.1063 - evidential_success: 109.2948 - evidential_fail: 7.5571 - acc: 0.9385 - annealing_coef: 0.2333 - global_step_get: 875.0000 - annealing_step_get: 3750.0000 - val_loss: 0.1697 - val_accuracy: 0.9250 - val_KL_term: 0.0379 - val_loglikelihood_term: 0.1303 - val_evidential_success: 64.0725 - val_evidential_fail: 3.9025 - val_acc: 0.9257 - val_annealing_coef: 0.4667 - val_global_step_get: 1750.0000 - val_annealing_step_get: 3750.0000\n",
      "\n",
      "Epoch 00005: val_loss did not improve from 0.13817\n",
      "Epoch 6/100\n",
      "self.global_step 1750.0\n",
      "351/351 [==============================] - 32s 90ms/step - loss: 0.1246 - accuracy: 0.9398 - KL_term: 0.0192 - loglikelihood_term: 0.1055 - evidential_success: 110.1992 - evidential_fail: 7.1642 - acc: 0.9397 - annealing_coef: 0.2800 - global_step_get: 1050.0000 - annealing_step_get: 3750.0000 - val_loss: 0.1669 - val_accuracy: 0.9292 - val_KL_term: 0.0408 - val_loglikelihood_term: 0.1243 - val_evidential_success: 72.8064 - val_evidential_fail: 3.5455 - val_acc: 0.9299 - val_annealing_coef: 0.5600 - val_global_step_get: 2100.0000 - val_annealing_step_get: 3750.0000\n",
      "\n",
      "Epoch 00006: val_loss did not improve from 0.13817\n",
      "Epoch 7/100\n",
      "self.global_step 2100.0\n",
      "351/351 [==============================] - 32s 90ms/step - loss: 0.1214 - accuracy: 0.9426 - KL_term: 0.0197 - loglikelihood_term: 0.1016 - evidential_success: 114.7745 - evidential_fail: 6.4998 - acc: 0.9426 - annealing_coef: 0.3267 - global_step_get: 1225.0000 - annealing_step_get: 3750.0000 - val_loss: 0.1805 - val_accuracy: 0.9274 - val_KL_term: 0.0470 - val_loglikelihood_term: 0.1317 - val_evidential_success: 58.0076 - val_evidential_fail: 3.1708 - val_acc: 0.9281 - val_annealing_coef: 0.6533 - val_global_step_get: 2450.0000 - val_annealing_step_get: 3750.0000\n",
      "\n",
      "Epoch 00007: val_loss did not improve from 0.13817\n",
      "Epoch 8/100\n",
      "self.global_step 2450.0\n",
      "351/351 [==============================] - 31s 90ms/step - loss: 0.1218 - accuracy: 0.9435 - KL_term: 0.0205 - loglikelihood_term: 0.1013 - evidential_success: 113.1765 - evidential_fail: 6.1913 - acc: 0.9435 - annealing_coef: 0.3733 - global_step_get: 1400.0000 - annealing_step_get: 3750.0000 - val_loss: 0.1901 - val_accuracy: 0.9277 - val_KL_term: 0.0582 - val_loglikelihood_term: 0.1296 - val_evidential_success: 74.8463 - val_evidential_fail: 3.7218 - val_acc: 0.9285 - val_annealing_coef: 0.7467 - val_global_step_get: 2800.0000 - val_annealing_step_get: 3750.0000\n",
      "\n",
      "Epoch 00008: val_loss did not improve from 0.13817\n",
      "Epoch 9/100\n",
      "self.global_step 2800.0\n",
      "351/351 [==============================] - 31s 89ms/step - loss: 0.1227 - accuracy: 0.9441 - KL_term: 0.0214 - loglikelihood_term: 0.1013 - evidential_success: 115.9708 - evidential_fail: 5.8657 - acc: 0.9440 - annealing_coef: 0.4200 - global_step_get: 1575.0000 - annealing_step_get: 3750.0000 - val_loss: 0.1911 - val_accuracy: 0.9294 - val_KL_term: 0.0628 - val_loglikelihood_term: 0.1265 - val_evidential_success: 67.2161 - val_evidential_fail: 3.6250 - val_acc: 0.9300 - val_annealing_coef: 0.8400 - val_global_step_get: 3150.0000 - val_annealing_step_get: 3750.0000\n",
      "\n",
      "Epoch 00009: val_loss did not improve from 0.13817\n",
      "Epoch 10/100\n",
      "self.global_step 3150.0\n",
      "351/351 [==============================] - 32s 90ms/step - loss: 0.1226 - accuracy: 0.9451 - KL_term: 0.0219 - loglikelihood_term: 0.1006 - evidential_success: 114.6175 - evidential_fail: 5.2640 - acc: 0.9451 - annealing_coef: 0.4667 - global_step_get: 1750.0000 - annealing_step_get: 3750.0000 - val_loss: 0.1777 - val_accuracy: 0.9304 - val_KL_term: 0.0452 - val_loglikelihood_term: 0.1315 - val_evidential_success: 61.5214 - val_evidential_fail: 2.3052 - val_acc: 0.9310 - val_annealing_coef: 0.9333 - val_global_step_get: 3500.0000 - val_annealing_step_get: 3750.0000\n",
      "\n",
      "Epoch 00010: val_loss did not improve from 0.13817\n",
      "Epoch 11/100\n",
      "self.global_step 3500.0\n",
      "351/351 [==============================] - 32s 90ms/step - loss: 0.1184 - accuracy: 0.9474 - KL_term: 0.0215 - loglikelihood_term: 0.0970 - evidential_success: 116.8535 - evidential_fail: 5.1131 - acc: 0.9473 - annealing_coef: 0.5129 - global_step_get: 1925.0000 - annealing_step_get: 3750.0000 - val_loss: 0.1920 - val_accuracy: 0.9299 - val_KL_term: 0.0624 - val_loglikelihood_term: 0.1279 - val_evidential_success: 78.5747 - val_evidential_fail: 3.2291 - val_acc: 0.9306 - val_annealing_coef: 1.0000 - val_global_step_get: 3850.0000 - val_annealing_step_get: 3750.0000\n",
      "\n",
      "Epoch 00011: val_loss did not improve from 0.13817\n",
      "Epoch 12/100\n",
      "self.global_step 3850.0\n",
      "351/351 [==============================] - 31s 90ms/step - loss: 0.1182 - accuracy: 0.9480 - KL_term: 0.0220 - loglikelihood_term: 0.0962 - evidential_success: 121.9916 - evidential_fail: 4.9640 - acc: 0.9480 - annealing_coef: 0.5534 - global_step_get: 2100.0000 - annealing_step_get: 3750.0000 - val_loss: 0.1867 - val_accuracy: 0.9289 - val_KL_term: 0.0561 - val_loglikelihood_term: 0.1284 - val_evidential_success: 56.5781 - val_evidential_fail: 2.5953 - val_acc: 0.9297 - val_annealing_coef: 1.0000 - val_global_step_get: 4200.0000 - val_annealing_step_get: 3750.0000\n",
      "\n",
      "Epoch 00012: val_loss did not improve from 0.13817\n",
      "Epoch 00012: early stopping\n",
      "-30.0 -16.0\n"
     ]
    },
    {
     "name": "stderr",
     "output_type": "stream",
     "text": [
      "ic| self.path_models+ '/' + self.method +'_'+str(0)+'.h5': 'D:/Jorge/datasets/deforestation/experiments/exp155/models/resunet_0.h5'\n"
     ]
    },
    {
     "name": "stdout",
     "output_type": "stream",
     "text": [
      "time:  0\n",
      "(54236371,)\n",
      "(array([0, 1], dtype=uint8), array([53470765,   765606], dtype=int64))\n",
      "(17730, 9200)\n",
      "(array([0., 1.], dtype=float32), array([161262430,   1853570], dtype=int64))\n"
     ]
    },
    {
     "name": "stderr",
     "output_type": "stream",
     "text": [
      "ic| self.predicted_unpad.shape: (17730, 9200)\n",
      "    self.predicted.shape: (17730, 9200)\n",
      "ic| predicted_test.shape: (81558000,)\n",
      "ic| predicted_test.shape: (54236371,)\n",
      "ic| np.unique(predicted, return_counts=True): (array([0., 1.], dtype=float32), array([161262430,   1853570], dtype=int64))\n",
      "    np.unique(predicted_larger_than_min_area, return_counts=True): (array([0., 1.], dtype=float32), array([161469212,   1646788], dtype=int64))\n",
      "ic| np.unique(ignored_polygons, return_counts=True): (array([0., 1.], dtype=float32), array([162909218,    206782], dtype=int64))\n",
      "ic| self.f1: 84.63, self.precision: 90.32, self.recall: 79.61\n",
      "ic| self.label_mask_val.shape: (16311600,)\n",
      "ic| self.label_mask_val_valid.shape: (9430457,)\n",
      "ic| f1_val: 87.48\n",
      "    precision_val: 85.74\n",
      "    recall_val: 89.3\n",
      "    mAP_val: 91.66\n"
     ]
    },
    {
     "name": "stdout",
     "output_type": "stream",
     "text": [
      "(array([0., 1.], dtype=float32), array([162499084,    616916], dtype=int64))\n"
     ]
    },
    {
     "name": "stderr",
     "output_type": "stream",
     "text": [
      "ic| self.label_mask.shape: (17730, 9200)\n",
      "ic| self.mask_amazon_ts.shape: (17730, 9200)\n",
      "ic| self.label_mask_test.shape: (81558000,)\n",
      "ic| self.error_mask_test.shape: (54132127,)\n",
      "ic| bounds: (0.0015, 0.9985)\n",
      "c:\\Users\\jchamorro\\Anaconda3\\envs\\tf2\\lib\\site-packages\\scipy\\optimize\\_minimize.py:783: RuntimeWarning: Method 'bounded' does not support relative tolerance in x; defaulting to absolute tolerance.\n",
      "  warn(\"Method 'bounded' does not support relative tolerance in x; \"\n"
     ]
    },
    {
     "name": "stdout",
     "output_type": "stream",
     "text": [
      "0.38232011321635484\n",
      "threshold 0.38232011321635484\n",
      "(52672094,) (52672094,)\n"
     ]
    },
    {
     "name": "stderr",
     "output_type": "stream",
     "text": [
      "ic| label_current_deforestation_test_classified_incorrect.shape: (1460033,)\n",
      "    predicted_test_classified_incorrect.shape: (1460033,)\n",
      "ic| TP_H + FN_H + FP_H"
     ]
    },
    {
     "name": "stdout",
     "output_type": "stream",
     "text": [
      "cm_correct [[52103219    26811]\n",
      " [   42653   499411]]\n",
      "cm_incorrect [[1233161   35730]\n",
      " [ 106827   84315]]\n"
     ]
    },
    {
     "name": "stderr",
     "output_type": "stream",
     "text": [
      " + TN_H: 1460033\n",
      "    len(label_mask_current_deforestation_test): 54132127\n",
      "ic| TP_H + FN_H + FP_H + TN_H: 1460033\n",
      "    len(label_mask_current_deforestation_test): 54132127\n"
     ]
    },
    {
     "name": "stdout",
     "output_type": "stream",
     "text": [
      "[0.94905002 0.92131372 0.68113327 0.02697165 0.70236161 0.44111184]\n",
      "0.6176798867836452\n",
      "threshold 0.6176798867836452\n",
      "(53841259,) (53841259,)\n"
     ]
    },
    {
     "name": "stderr",
     "output_type": "stream",
     "text": [
      "ic| label_current_deforestation_test_classified_incorrect.shape: (290868,)\n",
      "    predicted_test_classified_incorrect.shape: (290868,)\n",
      "ic| TP_H + FN_H + FP_H + TN_H: 290868\n",
      "    len(label_mask_current_deforestation_test): 54132127\n",
      "ic| TP_H + FN_H + FP_H + TN_H: 290868\n",
      "    len(label_mask_current_deforestation_test): 54132127\n"
     ]
    },
    {
     "name": "stdout",
     "output_type": "stream",
     "text": [
      "cm_correct [[53120440    53963]\n",
      " [   99301   567555]]\n",
      "cm_incorrect [[215940   8578]\n",
      " [ 50179  16171]]\n",
      "[0.91317548 0.85109079 0.77407304 0.0053733  0.65340014 0.24372268]\n",
      "0.23685977356729035\n",
      "threshold 0.23685977356729035\n",
      "(51395646,) (51395646,)\n"
     ]
    },
    {
     "name": "stderr",
     "output_type": "stream",
     "text": [
      "ic| label_current_deforestation_test_classified_incorrect.shape: (2736481,)\n",
      "    predicted_test_classified_incorrect.shape: (2736481,)\n"
     ]
    },
    {
     "name": "stdout",
     "output_type": "stream",
     "text": [
      "cm_correct [[50940604    10880]\n",
      " [   26237   417925]]\n"
     ]
    },
    {
     "name": "stderr",
     "output_type": "stream",
     "text": [
      "ic| TP_H + FN_H + FP_H + TN_H: 2736481\n",
      "    len(label_mask_current_deforestation_test): 54132127\n",
      "ic| TP_H + FN_H + FP_H + TN_H: 2736481\n",
      "    len(label_mask_current_deforestation_test): 54132127\n"
     ]
    },
    {
     "name": "stdout",
     "output_type": "stream",
     "text": [
      "cm_incorrect [[2395776   51661]\n",
      " [ 123243  165801]]\n",
      "[0.97462716 0.94092921 0.5699967  0.05055188 0.76243666 0.57361855]\n",
      "0.41767013676121123\n",
      "threshold 0.41767013676121123\n",
      "(52918263,) (52918263,)\n"
     ]
    },
    {
     "name": "stderr",
     "output_type": "stream",
     "text": [
      "ic| label_current_deforestation_test_classified_incorrect.shape: (1213864,)\n",
      "    predicted_test_classified_incorrect.shape: (1213864,)\n",
      "ic| TP_H + FN_H + FP_H + TN_H: 1213864\n",
      "    len(label_mask_current_deforestation_test): 54132127\n",
      "ic| TP_H + FN_H + FP_H + TN_H: 1213864\n",
      "    len(label_mask_current_deforestation_test): 54132127\n"
     ]
    },
    {
     "name": "stdout",
     "output_type": "stream",
     "text": [
      "cm_correct [[52329003    30707]\n",
      " [   47074   511479]]\n",
      "cm_incorrect [[1007377   31834]\n",
      " [ 102406   72247]]\n",
      "[0.94336445 0.91572152 0.69759249 0.0224241  0.69414206 0.41366023]\n",
      "0.3533092952641373\n",
      "threshold 0.3533092952641373\n",
      "(52455688,) (52455688,)\n"
     ]
    },
    {
     "name": "stderr",
     "output_type": "stream",
     "text": [
      "ic| label_current_deforestation_test_classified_incorrect.shape: (1676439,)\n",
      "    predicted_test_classified_incorrect.shape: (1676439,)\n"
     ]
    },
    {
     "name": "stdout",
     "output_type": "stream",
     "text": [
      "cm_correct [[51904826    23536]\n",
      " [   39211   488115]]\n"
     ]
    },
    {
     "name": "stderr",
     "output_type": "stream",
     "text": [
      "ic| TP_H + FN_H + FP_H + TN_H: 1676439\n",
      "    len(label_mask_current_deforestation_test): 54132127\n",
      "ic| TP_H + FN_H + FP_H + TN_H: 1676439\n",
      "    len(label_mask_current_deforestation_test): 54132127\n"
     ]
    },
    {
     "name": "stdout",
     "output_type": "stream",
     "text": [
      "cm_incorrect [[1431554   39005]\n",
      " [ 110269   95611]]\n",
      "[0.95399989 0.92564182 0.66572696 0.03096939 0.7102499  0.46440159]\n",
      "0.3088295359496101\n",
      "threshold 0.3088295359496101\n",
      "(52098475,) (52098475,)\n"
     ]
    },
    {
     "name": "stderr",
     "output_type": "stream",
     "text": [
      "ic| label_current_deforestation_test_classified_incorrect.shape: (2033652,)\n",
      "    predicted_test_classified_incorrect.shape: (2033652,)\n"
     ]
    },
    {
     "name": "stdout",
     "output_type": "stream",
     "text": [
      "cm_correct [[51578245    18562]\n",
      " [   33860   467808]]\n"
     ]
    },
    {
     "name": "stderr",
     "output_type": "stream",
     "text": [
      "ic| TP_H + FN_H + FP_H + TN_H: 2033652\n",
      "    len(label_mask_current_deforestation_test): 54132127\n",
      "ic| TP_H + FN_H + FP_H + TN_H: 2033652\n",
      "    len(label_mask_current_deforestation_test): 54132127\n"
     ]
    },
    {
     "name": "stdout",
     "output_type": "stream",
     "text": [
      "cm_incorrect [[1758135   43979]\n",
      " [ 115620  115918]]\n",
      "[0.96183564 0.93250516 0.63803079 0.0375683  0.72495419 0.50064352]\n",
      "0.3559244426172324\n",
      "threshold 0.3559244426172324\n",
      "(52475733,) (52475733,)\n"
     ]
    },
    {
     "name": "stderr",
     "output_type": "stream",
     "text": [
      "ic| label_current_deforestation_test_classified_incorrect.shape: (1656394,)\n",
      "    predicted_test_classified_incorrect.shape: (1656394,)\n",
      "ic"
     ]
    },
    {
     "name": "stdout",
     "output_type": "stream",
     "text": [
      "cm_correct [[51923238    23816]\n",
      " [   39505   489174]]\n",
      "cm_incorrect [[1413142   38725]\n",
      " [ 109975   94552]]\n"
     ]
    },
    {
     "name": "stderr",
     "output_type": "stream",
     "text": [
      "| TP_H + FN_H + FP_H + TN_H: 1656394\n",
      "    len(label_mask_current_deforestation_test): 54132127\n",
      "ic| TP_H + FN_H + FP_H + TN_H: 1656394\n",
      "    len(label_mask_current_deforestation_test): 54132127\n"
     ]
    },
    {
     "name": "stdout",
     "output_type": "stream",
     "text": [
      "[0.95357414 0.92527602 0.6671713  0.03059909 0.70943974 0.46229593]\n",
      "0.3634082503872609\n",
      "threshold 0.3634082503872609\n",
      "(52532195,) (52532195,)\n"
     ]
    },
    {
     "name": "stderr",
     "output_type": "stream",
     "text": [
      "ic| label_current_deforestation_test_classified_incorrect.shape: (1599932,)\n",
      "    predicted_test_classified_incorrect.shape: (1599932,)\n",
      "ic"
     ]
    },
    {
     "name": "stdout",
     "output_type": "stream",
     "text": [
      "cm_correct [[51974927    24658]\n",
      " [   40387   492223]]\n",
      "cm_incorrect [[1361453   37883]\n",
      " [ 109093   91503]]\n"
     ]
    },
    {
     "name": "stderr",
     "output_type": "stream",
     "text": [
      "| TP_H + FN_H + FP_H + TN_H: 1599932\n",
      "    len(label_mask_current_deforestation_test): 54132127\n",
      "ic| TP_H + FN_H + FP_H + TN_H: 1599932\n",
      "    len(label_mask_current_deforestation_test): 54132127\n"
     ]
    },
    {
     "name": "stdout",
     "output_type": "stream",
     "text": [
      "[0.95229463 0.92417153 0.67132975 0.02955605 0.70720944 0.45615566]\n",
      "0.370631939197399\n",
      "threshold 0.370631939197399\n",
      "(52586284,) (52586284,)\n"
     ]
    },
    {
     "name": "stderr",
     "output_type": "stream",
     "text": [
      "ic| label_current_deforestation_test_classified_incorrect.shape: (1545843,)\n",
      "    predicted_test_classified_incorrect.shape: (1545843,)\n",
      "ic"
     ]
    },
    {
     "name": "stdout",
     "output_type": "stream",
     "text": [
      "cm_correct [[52024597    25498]\n",
      " [   41231   494958]]\n",
      "cm_incorrect [[1311783   37043]\n",
      " [ 108249   88768]]\n"
     ]
    },
    {
     "name": "stderr",
     "output_type": "stream",
     "text": [
      "| TP_H + FN_H + FP_H + TN_H: 1545843\n",
      "    len(label_mask_current_deforestation_test): 54132127\n",
      "ic| TP_H + FN_H + FP_H + TN_H: 1545843\n",
      "    len(label_mask_current_deforestation_test): 54132127\n"
     ]
    },
    {
     "name": "stdout",
     "output_type": "stream",
     "text": [
      "[0.95100835 0.92310361 0.67505994 0.02855685 0.70556629 0.4505601 ]\n",
      "0.3605324280827617\n",
      "threshold 0.3605324280827617\n",
      "(52510897,) (52510897,)\n"
     ]
    },
    {
     "name": "stderr",
     "output_type": "stream",
     "text": [
      "ic| label_current_deforestation_test_classified_incorrect.shape: (1621230,)\n",
      "    predicted_test_classified_incorrect.shape: (1621230,)\n"
     ]
    },
    {
     "name": "stdout",
     "output_type": "stream",
     "text": [
      "cm_correct [[51955405    24340]\n",
      " [   40066   491086]]\n"
     ]
    },
    {
     "name": "stderr",
     "output_type": "stream",
     "text": [
      "ic| TP_H + FN_H + FP_H + TN_H: 1621230\n",
      "    len(label_mask_current_deforestation_test): 54132127\n",
      "ic| TP_H + FN_H + FP_H + TN_H: 1621230\n",
      "    len(label_mask_current_deforestation_test): 54132127\n"
     ]
    },
    {
     "name": "stdout",
     "output_type": "stream",
     "text": [
      "cm_incorrect [[1380975   38201]\n",
      " [ 109414   92640]]\n",
      "[0.95277693 0.92456773 0.66977903 0.0299495  0.70803494 0.45849129]\n",
      "0.3599695277246931\n",
      "threshold 0.3599695277246931\n",
      "(52506623,) (52506623,)\n"
     ]
    },
    {
     "name": "stderr",
     "output_type": "stream",
     "text": [
      "ic| label_current_deforestation_test_classified_incorrect.shape: (1625504,)\n",
      "    predicted_test_classified_incorrect.shape: (1625504,)\n",
      "ic"
     ]
    },
    {
     "name": "stdout",
     "output_type": "stream",
     "text": [
      "cm_correct [[51951522    24273]\n",
      " [   39990   490838]]\n",
      "cm_incorrect [[1384858   38268]\n",
      " [ 109490   92888]]\n"
     ]
    },
    {
     "name": "stderr",
     "output_type": "stream",
     "text": [
      "| TP_H + FN_H + FP_H + TN_H: 1625504\n",
      "    len(label_mask_current_deforestation_test): 54132127\n",
      "ic| TP_H + FN_H + FP_H + TN_H: 1625504\n",
      "    len(label_mask_current_deforestation_test): 54132127\n"
     ]
    },
    {
     "name": "stdout",
     "output_type": "stream",
     "text": [
      "[0.95287812 0.92466486 0.66944078 0.03002845 0.70822532 0.4589827 ]\n",
      "0.35956117683320693\n",
      "threshold 0.35956117683320693\n",
      "(52503502,) (52503502,)\n"
     ]
    },
    {
     "name": "stderr",
     "output_type": "stream",
     "text": [
      "ic| label_current_deforestation_test_classified_incorrect.shape: (1628625,)\n",
      "    predicted_test_classified_incorrect.shape: (1628625,)\n",
      "ic"
     ]
    },
    {
     "name": "stdout",
     "output_type": "stream",
     "text": [
      "cm_correct [[51948655    24230]\n",
      " [   39933   490684]]\n",
      "cm_incorrect [[1387725   38311]\n",
      " [ 109547   93042]]\n"
     ]
    },
    {
     "name": "stderr",
     "output_type": "stream",
     "text": [
      "| TP_H + FN_H + FP_H + TN_H: 1628625\n",
      "    len(label_mask_current_deforestation_test): 54132127\n",
      "ic| TP_H + FN_H + FP_H + TN_H: 1628625\n",
      "    len(label_mask_current_deforestation_test): 54132127\n"
     ]
    },
    {
     "name": "stdout",
     "output_type": "stream",
     "text": [
      "[0.9529436  0.92474233 0.66923075 0.03008611 0.70833555 0.45926482]\n",
      "0.36014550661548866\n",
      "threshold 0.36014550661548866\n",
      "(52507951,) (52507951,)\n"
     ]
    },
    {
     "name": "stderr",
     "output_type": "stream",
     "text": [
      "ic| label_current_deforestation_test_classified_incorrect.shape: (1624176,)\n",
      "    predicted_test_classified_incorrect.shape: (1624176,)\n",
      "ic"
     ]
    },
    {
     "name": "stdout",
     "output_type": "stream",
     "text": [
      "cm_correct [[51952728    24293]\n",
      " [   40016   490914]]\n",
      "cm_incorrect [[1383652   38248]\n",
      " [ 109464   92812]]\n"
     ]
    },
    {
     "name": "stderr",
     "output_type": "stream",
     "text": [
      "| TP_H + FN_H + FP_H + TN_H: 1624176\n",
      "    len(label_mask_current_deforestation_test): 54132127\n",
      "ic| TP_H + FN_H + FP_H + TN_H: 1624176\n",
      "    len(label_mask_current_deforestation_test): 54132127\n"
     ]
    },
    {
     "name": "stdout",
     "output_type": "stream",
     "text": [
      "[0.95284808 0.92463037 0.66954444 0.03000392 0.7081642  0.45883842]\n",
      "0.36020854108747064\n",
      "threshold 0.36020854108747064\n",
      "(52508405,) (52508405,)\n"
     ]
    },
    {
     "name": "stderr",
     "output_type": "stream",
     "text": [
      "ic| label_current_deforestation_test_classified_incorrect.shape: (1623722,)\n",
      "    predicted_test_classified_incorrect.shape: (1623722,)\n",
      "ic"
     ]
    },
    {
     "name": "stdout",
     "output_type": "stream",
     "text": [
      "cm_correct [[51953150    24298]\n",
      " [   40023   490934]]\n",
      "cm_incorrect [[1383230   38243]\n",
      " [ 109457   92792]]\n"
     ]
    },
    {
     "name": "stderr",
     "output_type": "stream",
     "text": [
      "| TP_H + FN_H + FP_H + TN_H: 1623722\n",
      "    len(label_mask_current_deforestation_test): 54132127\n",
      "ic| TP_H + FN_H + FP_H + TN_H: 1623722\n",
      "    len(label_mask_current_deforestation_test): 54132127\n"
     ]
    },
    {
     "name": "stdout",
     "output_type": "stream",
     "text": [
      "[0.95284066 0.92462101 0.66957172 0.02999553 0.70814668 0.45880079]\n",
      "0.3601121679403342\n",
      "threshold 0.3601121679403342\n",
      "(52507693,) (52507693,)\n"
     ]
    },
    {
     "name": "stderr",
     "output_type": "stream",
     "text": [
      "ic| label_current_deforestation_test_classified_incorrect.shape: (1624434,)\n",
      "    predicted_test_classified_incorrect.shape: (1624434,)\n",
      "ic"
     ]
    },
    {
     "name": "stdout",
     "output_type": "stream",
     "text": [
      "cm_correct [[51952486    24291]\n",
      " [   40014   490902]]\n",
      "cm_incorrect [[1383894   38250]\n",
      " [ 109466   92824]]\n"
     ]
    },
    {
     "name": "stderr",
     "output_type": "stream",
     "text": [
      "| TP_H + FN_H + FP_H + TN_H: 1624434\n",
      "    len(label_mask_current_deforestation_test): 54132127\n",
      "ic| TP_H + FN_H + FP_H + TN_H: 1624434\n",
      "    len(label_mask_current_deforestation_test): 54132127\n",
      "ic| self.threshold_optimal: 0.36014550661548866\n"
     ]
    },
    {
     "name": "stdout",
     "output_type": "stream",
     "text": [
      "[0.95285068 0.92463215 0.66952807 0.03000869 0.70818011 0.45886598]\n",
      "threshold 0.36014550661548866\n",
      "(52507951,) (52507951,)\n"
     ]
    },
    {
     "name": "stderr",
     "output_type": "stream",
     "text": [
      "ic| label_current_deforestation_test_classified_incorrect.shape: (1624176,)\n",
      "    predicted_test_classified_incorrect.shape: (1624176,)\n",
      "ic"
     ]
    },
    {
     "name": "stdout",
     "output_type": "stream",
     "text": [
      "cm_correct [[51952728    24293]\n",
      " [   40016   490914]]\n",
      "cm_incorrect [[1383652   38248]\n",
      " [ 109464   92812]]\n"
     ]
    },
    {
     "name": "stderr",
     "output_type": "stream",
     "text": [
      "| TP_H + FN_H + FP_H + TN_H: 1624176\n",
      "    len(label_mask_current_deforestation_test): 54132127\n",
      "ic| TP_H + FN_H + FP_H + TN_H: 1624176\n",
      "    len(label_mask_current_deforestation_test): 54132127\n"
     ]
    },
    {
     "name": "stdout",
     "output_type": "stream",
     "text": [
      "[0.95284808 0.92463037 0.66954444 0.03000392 0.7081642  0.45883842]\n",
      "threshold 0.36014550661548866\n",
      "(54132127,) (54132127,)\n"
     ]
    },
    {
     "name": "stderr",
     "output_type": "stream",
     "text": [
      "ic| self.m_optimal: {'AA': array([0.03000392]),\n",
      "                     'f1': 84.63,\n",
      "                     'f1_H': array([0.55686755]),\n",
      "                     'f1_L': array([0.93852717]),\n",
      "                     'precision_H': array([0.7081642]),\n",
      "                     'precision_L': array([0.95284808]),\n",
      "                     'recall_H': array([0.45883842]),\n",
      "                     'recall_L': array([0.92463037]),\n",
      "                     'recall_Ltotal': array([0.66954444])}\n",
      "ic| self.m_audited_optimal: {'f1': array([0.95567003]),\n",
      "                             'precision': array([0.96614136]),\n",
      "                             'recall': array([0.94542325])}\n"
     ]
    },
    {
     "name": "stdout",
     "output_type": "stream",
     "text": [
      "cm_audited [[53374628    24293]\n",
      " [   40016   693190]]\n",
      "[0.96614136 0.94542325]\n",
      "D:/Jorge/datasets/deforestation/Para/deforestation_past_years.tif\n",
      "Loaded deforestation past years\n"
     ]
    },
    {
     "name": "stderr",
     "output_type": "stream",
     "text": [
      "ic| np.unique(deforestation_past_years, return_counts=True): (array([   0, 2008, 2009, 2010, 2011, 2012, 2013, 2014, 2015, 2016, 2017,\n",
      "                                                                    2018, 2019, 2020, 2021], dtype=uint16),\n",
      "                                                              array([132185553,   3150503,   4571354,    864429,    903608,   1299506,\n",
      "                                                                      2477971,   1561686,   1459696,    969060,    644976,   2209014,\n",
      "                                                                      2100204,   5257014,   3514616], dtype=int64))\n"
     ]
    },
    {
     "name": "stdout",
     "output_type": "stream",
     "text": [
      "Label where deforestation past years is actual date (2019) = 1\n"
     ]
    },
    {
     "name": "stderr",
     "output_type": "stream",
     "text": [
      "ic| np.unique(deforestation_past_years, return_counts=True): (array([   0, 2008, 2009, 2010, 2011, 2012, 2013, 2014, 2015, 2016, 2017,\n",
      "                                                                    2018, 2019, 2020, 2021], dtype=uint16),\n",
      "                                                              array([132185553,   3150503,   4571354,    864429,    903608,   1299506,\n",
      "                                                                      2477971,   1561686,   1459696,    969060,    644976,   2209014,\n",
      "                                                                      2100204,   5257014,   3514616], dtype=int64))\n"
     ]
    },
    {
     "name": "stdout",
     "output_type": "stream",
     "text": [
      "Past deforestation different from 0 (no deforestation)\n"
     ]
    },
    {
     "name": "stderr",
     "output_type": "stream",
     "text": [
      "ic| np.unique(deforestation_past_years, return_counts=True): (array([   0, 2008, 2009, 2010, 2011, 2012, 2013, 2014, 2015, 2016, 2017,\n",
      "                                                                    2018, 2019, 2020, 2021], dtype=uint16),\n",
      "                                                              array([132185553,   3150503,   4571354,    864429,    903608,   1299506,\n",
      "                                                                      2477971,   1561686,   1459696,    969060,    644976,   2209014,\n",
      "                                                                      2100204,   5257014,   3514616], dtype=int64))\n"
     ]
    },
    {
     "name": "stdout",
     "output_type": "stream",
     "text": [
      "Past deforestation before 2008 is 2\n",
      "D:/Jorge/datasets/deforestation/deforestation_before_2008/deforestation_before_2008_para.tif\n"
     ]
    },
    {
     "name": "stderr",
     "output_type": "stream",
     "text": [
      "ic| np.unique(label_past_deforestation_before_2008, return_counts=True): (array([  0, 215], dtype=uint8), array([124211220,  38957970], dtype=int64))\n",
      "ic| np.unique(deforestation_past_years, return_counts=True): (array([   0, 2008, 2009, 2010, 2011, 2012, 2013, 2014, 2015, 2016, 2017,\n",
      "                                                                    2018, 2019, 2020, 2021], dtype=uint16),\n",
      "                                                              array([132185553,   3150503,   4571354,    864429,    903608,   1299506,\n",
      "                                                                      2477971,   1561686,   1459696,    969060,    644976,   2209014,\n",
      "                                                                      2100204,   5257014,   3514616], dtype=int64))\n",
      "ic| label_per_date.shape: (17730, 9203, 1)\n"
     ]
    },
    {
     "name": "stdout",
     "output_type": "stream",
     "text": [
      "Mask label shape:  \n",
      " (17730, 9203, 1) \n",
      " Unique values:  \n",
      " [0 1 2]\n",
      "Tiles size:  3546 2300\n",
      "Mask size:  (17730, 9200)\n"
     ]
    },
    {
     "name": "stderr",
     "output_type": "stream",
     "text": [
      "ic| image_stack.shape: (17730, 9203, 21)\n"
     ]
    },
    {
     "name": "stdout",
     "output_type": "stream",
     "text": [
      "Image shape:  (17730, 9203, 21)\n",
      "mask:  (17730, 9200)\n",
      "image stack:  (17730, 9200, 21)\n",
      "ref : (17730, 9200, 1)\n",
      "Training tiles:  [1, 3, 5, 8, 11, 13, 14, 20]\n",
      "Validation tiles:  [6, 19]\n",
      "Test tiles:  [2, 4, 7, 9, 10, 12, 15, 16, 17, 18]\n"
     ]
    },
    {
     "name": "stderr",
     "output_type": "stream",
     "text": [
      "ic| im_idx_row.shape: (17730, 9200, 1)\n",
      "    im_idx_col.shape: (17730, 9200, 1)\n",
      "ic| im_idx_row.dtype: dtype('uint16')\n",
      "    im_idx_col.dtype: dtype('uint16')\n",
      "ic| im_idx.shape: (17730, 9200, 2), im_idx.dtype: dtype('uint16')\n",
      "ic| coords.shape: (464, 239, 1, 128, 128, 2)\n",
      "    coords.dtype: dtype('uint16')\n",
      "ic| coords.shape: (110896, 2), coords.dtype: dtype('uint16')\n",
      "ic| self.coords_train.shape: (41812, 3)\n",
      "    self.coords_val.shape: (10260, 3)\n"
     ]
    },
    {
     "name": "stdout",
     "output_type": "stream",
     "text": [
      "training samples:  (3753, 3) validation samples:  (1032, 3)\n",
      "time:  0\n",
      "Model: \"model_2\"\n",
      "__________________________________________________________________________________________________\n",
      "Layer (type)                    Output Shape         Param #     Connected to                     \n",
      "==================================================================================================\n",
      "input_enc_net (InputLayer)      [(None, 128, 128, 21 0                                            \n",
      "__________________________________________________________________________________________________\n",
      "res1_net1 (Conv2D)              (None, 128, 128, 16) 3040        input_enc_net[0][0]              \n",
      "__________________________________________________________________________________________________\n",
      "drop_net1 (Dropout)             (None, 128, 128, 16) 0           res1_net1[0][0]                  \n",
      "__________________________________________________________________________________________________\n",
      "res2_net1 (Conv2D)              (None, 128, 128, 16) 2320        drop_net1[0][0]                  \n",
      "__________________________________________________________________________________________________\n",
      "res3_net1 (Conv2D)              (None, 128, 128, 16) 352         input_enc_net[0][0]              \n",
      "__________________________________________________________________________________________________\n",
      "add_12 (Add)                    (None, 128, 128, 16) 0           res2_net1[0][0]                  \n",
      "                                                                 res3_net1[0][0]                  \n",
      "__________________________________________________________________________________________________\n",
      "pool_net1 (MaxPooling2D)        (None, 64, 64, 16)   0           add_12[0][0]                     \n",
      "__________________________________________________________________________________________________\n",
      "res1_net2 (Conv2D)              (None, 64, 64, 32)   4640        pool_net1[0][0]                  \n",
      "__________________________________________________________________________________________________\n",
      "drop_net2 (Dropout)             (None, 64, 64, 32)   0           res1_net2[0][0]                  \n",
      "__________________________________________________________________________________________________\n",
      "res2_net2 (Conv2D)              (None, 64, 64, 32)   9248        drop_net2[0][0]                  \n",
      "__________________________________________________________________________________________________\n",
      "res3_net2 (Conv2D)              (None, 64, 64, 32)   544         pool_net1[0][0]                  \n",
      "__________________________________________________________________________________________________\n",
      "add_13 (Add)                    (None, 64, 64, 32)   0           res2_net2[0][0]                  \n",
      "                                                                 res3_net2[0][0]                  \n",
      "__________________________________________________________________________________________________\n",
      "pool_net2 (MaxPooling2D)        (None, 32, 32, 32)   0           add_13[0][0]                     \n",
      "__________________________________________________________________________________________________\n",
      "res1_net3 (Conv2D)              (None, 32, 32, 64)   18496       pool_net2[0][0]                  \n",
      "__________________________________________________________________________________________________\n",
      "drop_net3 (Dropout)             (None, 32, 32, 64)   0           res1_net3[0][0]                  \n",
      "__________________________________________________________________________________________________\n",
      "res2_net3 (Conv2D)              (None, 32, 32, 64)   36928       drop_net3[0][0]                  \n",
      "__________________________________________________________________________________________________\n",
      "res3_net3 (Conv2D)              (None, 32, 32, 64)   2112        pool_net2[0][0]                  \n",
      "__________________________________________________________________________________________________\n",
      "add_14 (Add)                    (None, 32, 32, 64)   0           res2_net3[0][0]                  \n",
      "                                                                 res3_net3[0][0]                  \n",
      "__________________________________________________________________________________________________\n",
      "pool_net3 (MaxPooling2D)        (None, 16, 16, 64)   0           add_14[0][0]                     \n",
      "__________________________________________________________________________________________________\n",
      "res1_net4 (Conv2D)              (None, 16, 16, 64)   36928       pool_net3[0][0]                  \n",
      "__________________________________________________________________________________________________\n",
      "drop_net4 (Dropout)             (None, 16, 16, 64)   0           res1_net4[0][0]                  \n",
      "__________________________________________________________________________________________________\n",
      "res2_net4 (Conv2D)              (None, 16, 16, 64)   36928       drop_net4[0][0]                  \n",
      "__________________________________________________________________________________________________\n",
      "res3_net4 (Conv2D)              (None, 16, 16, 64)   4160        pool_net3[0][0]                  \n",
      "__________________________________________________________________________________________________\n",
      "add_15 (Add)                    (None, 16, 16, 64)   0           res2_net4[0][0]                  \n",
      "                                                                 res3_net4[0][0]                  \n",
      "__________________________________________________________________________________________________\n",
      "res1_net5 (Conv2D)              (None, 16, 16, 64)   36928       add_15[0][0]                     \n",
      "__________________________________________________________________________________________________\n",
      "drop_net5 (Dropout)             (None, 16, 16, 64)   0           res1_net5[0][0]                  \n",
      "__________________________________________________________________________________________________\n",
      "res2_net5 (Conv2D)              (None, 16, 16, 64)   36928       drop_net5[0][0]                  \n",
      "__________________________________________________________________________________________________\n",
      "res3_net5 (Conv2D)              (None, 16, 16, 64)   4160        add_15[0][0]                     \n",
      "__________________________________________________________________________________________________\n",
      "add_16 (Add)                    (None, 16, 16, 64)   0           res2_net5[0][0]                  \n",
      "                                                                 res3_net5[0][0]                  \n",
      "__________________________________________________________________________________________________\n",
      "res1_net6 (Conv2D)              (None, 16, 16, 64)   36928       add_16[0][0]                     \n",
      "__________________________________________________________________________________________________\n",
      "drop_net6 (Dropout)             (None, 16, 16, 64)   0           res1_net6[0][0]                  \n",
      "__________________________________________________________________________________________________\n",
      "res2_net6 (Conv2D)              (None, 16, 16, 64)   36928       drop_net6[0][0]                  \n",
      "__________________________________________________________________________________________________\n",
      "res3_net6 (Conv2D)              (None, 16, 16, 64)   4160        add_16[0][0]                     \n",
      "__________________________________________________________________________________________________\n",
      "add_17 (Add)                    (None, 16, 16, 64)   0           res2_net6[0][0]                  \n",
      "                                                                 res3_net6[0][0]                  \n",
      "__________________________________________________________________________________________________\n",
      "up_sampling2d_6 (UpSampling2D)  (None, 32, 32, 64)   0           add_17[0][0]                     \n",
      "__________________________________________________________________________________________________\n",
      "upsampling_net3 (Conv2D)        (None, 32, 32, 64)   36928       up_sampling2d_6[0][0]            \n",
      "__________________________________________________________________________________________________\n",
      "concatenate3 (Concatenate)      (None, 32, 32, 128)  0           add_14[0][0]                     \n",
      "                                                                 upsampling_net3[0][0]            \n",
      "__________________________________________________________________________________________________\n",
      "up_sampling2d_7 (UpSampling2D)  (None, 64, 64, 128)  0           concatenate3[0][0]               \n",
      "__________________________________________________________________________________________________\n",
      "upsampling_net2 (Conv2D)        (None, 64, 64, 32)   36896       up_sampling2d_7[0][0]            \n",
      "__________________________________________________________________________________________________\n",
      "concatenate2 (Concatenate)      (None, 64, 64, 64)   0           add_13[0][0]                     \n",
      "                                                                 upsampling_net2[0][0]            \n",
      "__________________________________________________________________________________________________\n",
      "up_sampling2d_8 (UpSampling2D)  (None, 128, 128, 64) 0           concatenate2[0][0]               \n",
      "__________________________________________________________________________________________________\n",
      "upsampling_net1 (Conv2D)        (None, 128, 128, 16) 9232        up_sampling2d_8[0][0]            \n",
      "__________________________________________________________________________________________________\n",
      "concatenate1 (Concatenate)      (None, 128, 128, 32) 0           add_12[0][0]                     \n",
      "                                                                 upsampling_net1[0][0]            \n",
      "__________________________________________________________________________________________________\n",
      "output (Conv2D)                 (None, 128, 128, 3)  99          concatenate1[0][0]               \n",
      "==================================================================================================\n",
      "Total params: 394,883\n",
      "Trainable params: 394,883\n",
      "Non-trainable params: 0\n",
      "__________________________________________________________________________________________________\n"
     ]
    },
    {
     "name": "stderr",
     "output_type": "stream",
     "text": [
      "c:\\Users\\jchamorro\\Anaconda3\\envs\\tf2\\lib\\site-packages\\tensorflow\\python\\keras\\optimizer_v2\\optimizer_v2.py:374: UserWarning: The `lr` argument is deprecated, use `learning_rate` instead.\n",
      "  warnings.warn(\n",
      "c:\\Users\\jchamorro\\Anaconda3\\envs\\tf2\\lib\\site-packages\\tensorflow\\python\\keras\\engine\\training.py:1969: UserWarning: `Model.fit_generator` is deprecated and will be removed in a future version. Please use `Model.fit`, which supports generators.\n",
      "  warnings.warn('`Model.fit_generator` is deprecated and '\n"
     ]
    },
    {
     "name": "stdout",
     "output_type": "stream",
     "text": [
      "Epoch 1/100\n",
      "self.global_step 0.0\n",
      "alpha Tensor(\"loss/add:0\", shape=(None, 128, 128, 3), dtype=float32)\n",
      "u Tensor(\"loss/truediv:0\", shape=(None, 128, 128, 1), dtype=float32)\n",
      "alpha Tensor(\"add:0\", shape=(None, 128, 128, 3), dtype=float32)\n",
      "u Tensor(\"truediv:0\", shape=(None, 128, 128, 1), dtype=float32)\n",
      "K.int_shape(KL_reg) Tensor(\"mul_6:0\", shape=(None, 128, 128, 1), dtype=float32)\n",
      "alpha Tensor(\"add_7:0\", shape=(None, 128, 128, 3), dtype=float32)\n",
      "u Tensor(\"truediv_5:0\", shape=(None, 128, 128, 1), dtype=float32)\n",
      "K.int_shape(KL_reg) Tensor(\"mul_12:0\", shape=(None, 128, 128, 1), dtype=float32)\n",
      "alpha Tensor(\"loss/add:0\", shape=(None, 128, 128, 3), dtype=float32)\n",
      "u Tensor(\"loss/truediv:0\", shape=(None, 128, 128, 1), dtype=float32)\n",
      "alpha Tensor(\"add:0\", shape=(None, 128, 128, 3), dtype=float32)\n",
      "u Tensor(\"truediv:0\", shape=(None, 128, 128, 1), dtype=float32)\n",
      "K.int_shape(KL_reg) Tensor(\"mul_6:0\", shape=(None, 128, 128, 1), dtype=float32)\n",
      "alpha Tensor(\"add_7:0\", shape=(None, 128, 128, 3), dtype=float32)\n",
      "u Tensor(\"truediv_5:0\", shape=(None, 128, 128, 1), dtype=float32)\n",
      "K.int_shape(KL_reg) Tensor(\"mul_12:0\", shape=(None, 128, 128, 1), dtype=float32)\n",
      "351/351 [==============================] - ETA: 0s - loss: 0.2247 - accuracy: 0.8634 - KL_term: 0.0127 - loglikelihood_term: 0.2116 - evidential_success: 45.8502 - evidential_fail: 22.6082 - acc: 0.8637 - annealing_coef: 0.0467 - global_step_get: 175.0000 - annealing_step_get: 3750.0000alpha Tensor(\"loss/add:0\", shape=(None, 128, 128, 3), dtype=float32)\n",
      "u Tensor(\"loss/truediv:0\", shape=(None, 128, 128, 1), dtype=float32)\n",
      "alpha Tensor(\"add:0\", shape=(None, 128, 128, 3), dtype=float32)\n",
      "u Tensor(\"truediv:0\", shape=(None, 128, 128, 1), dtype=float32)\n",
      "K.int_shape(KL_reg) Tensor(\"mul_6:0\", shape=(None, 128, 128, 1), dtype=float32)\n",
      "alpha Tensor(\"add_7:0\", shape=(None, 128, 128, 3), dtype=float32)\n",
      "u Tensor(\"truediv_5:0\", shape=(None, 128, 128, 1), dtype=float32)\n",
      "K.int_shape(KL_reg) Tensor(\"mul_12:0\", shape=(None, 128, 128, 1), dtype=float32)\n",
      "351/351 [==============================] - 34s 92ms/step - loss: 0.2247 - accuracy: 0.8634 - KL_term: 0.0127 - loglikelihood_term: 0.2116 - evidential_success: 45.8502 - evidential_fail: 22.6082 - acc: 0.8637 - annealing_coef: 0.0467 - global_step_get: 175.0000 - annealing_step_get: 3750.0000 - val_loss: 0.1564 - val_accuracy: 0.9168 - val_KL_term: 0.0127 - val_loglikelihood_term: 0.1427 - val_evidential_success: 33.7548 - val_evidential_fail: 6.0773 - val_acc: 0.9174 - val_annealing_coef: 0.0933 - val_global_step_get: 350.0000 - val_annealing_step_get: 3750.0000\n",
      "\n",
      "Epoch 00001: val_loss improved from inf to 0.15645, saving model to D:/Jorge/datasets/deforestation/experiments/exp156/models\\resunet_0.h5\n",
      "Epoch 2/100\n",
      "self.global_step 350.0\n",
      "  1/351 [..............................] - ETA: 27s - loss: 0.1393 - accuracy: 0.9173 - KL_term: 0.0000e+00 - loglikelihood_term: 0.1393 - evidential_success: 45.6462 - evidential_fail: 9.0508 - acc: 0.9173 - annealing_coef: 0.0000e+00 - global_step_get: 0.0000e+00 - annealing_step_get: 3750.0000"
     ]
    },
    {
     "name": "stderr",
     "output_type": "stream",
     "text": [
      "c:\\Users\\jchamorro\\Anaconda3\\envs\\tf2\\lib\\site-packages\\tensorflow\\python\\keras\\utils\\generic_utils.py:494: CustomMaskWarning: Custom mask layers require a config and must override get_config. When loading, the custom mask layer must be passed to the custom_objects argument.\n",
      "  warnings.warn('Custom mask layers require a config and must override '\n"
     ]
    },
    {
     "name": "stdout",
     "output_type": "stream",
     "text": [
      "351/351 [==============================] - 32s 91ms/step - loss: 0.1364 - accuracy: 0.9254 - KL_term: 0.0130 - loglikelihood_term: 0.1234 - evidential_success: 70.1498 - evidential_fail: 11.0263 - acc: 0.9253 - annealing_coef: 0.0933 - global_step_get: 350.0000 - annealing_step_get: 3750.0000 - val_loss: 0.1505 - val_accuracy: 0.9248 - val_KL_term: 0.0231 - val_loglikelihood_term: 0.1262 - val_evidential_success: 53.4664 - val_evidential_fail: 6.7649 - val_acc: 0.9254 - val_annealing_coef: 0.1867 - val_global_step_get: 700.0000 - val_annealing_step_get: 3750.0000\n",
      "\n",
      "Epoch 00002: val_loss improved from 0.15645 to 0.15052, saving model to D:/Jorge/datasets/deforestation/experiments/exp156/models\\resunet_0.h5\n",
      "Epoch 3/100\n",
      "self.global_step 700.0\n",
      "351/351 [==============================] - 32s 91ms/step - loss: 0.1298 - accuracy: 0.9313 - KL_term: 0.0147 - loglikelihood_term: 0.1151 - evidential_success: 90.3696 - evidential_fail: 9.3550 - acc: 0.9313 - annealing_coef: 0.1400 - global_step_get: 525.0000 - annealing_step_get: 3750.0000 - val_loss: 0.1630 - val_accuracy: 0.9247 - val_KL_term: 0.0335 - val_loglikelihood_term: 0.1282 - val_evidential_success: 54.5135 - val_evidential_fail: 6.3402 - val_acc: 0.9254 - val_annealing_coef: 0.2800 - val_global_step_get: 1050.0000 - val_annealing_step_get: 3750.0000\n",
      "\n",
      "Epoch 00003: val_loss did not improve from 0.15052\n",
      "Epoch 4/100\n",
      "self.global_step 1050.0\n",
      "351/351 [==============================] - 32s 90ms/step - loss: 0.1278 - accuracy: 0.9347 - KL_term: 0.0164 - loglikelihood_term: 0.1113 - evidential_success: 98.5197 - evidential_fail: 8.3110 - acc: 0.9347 - annealing_coef: 0.1867 - global_step_get: 700.0000 - annealing_step_get: 3750.0000 - val_loss: 0.1640 - val_accuracy: 0.9280 - val_KL_term: 0.0400 - val_loglikelihood_term: 0.1230 - val_evidential_success: 70.7609 - val_evidential_fail: 6.0331 - val_acc: 0.9286 - val_annealing_coef: 0.3733 - val_global_step_get: 1400.0000 - val_annealing_step_get: 3750.0000\n",
      "\n",
      "Epoch 00004: val_loss did not improve from 0.15052\n",
      "Epoch 5/100\n",
      "self.global_step 1400.0\n",
      "351/351 [==============================] - 32s 90ms/step - loss: 0.1241 - accuracy: 0.9383 - KL_term: 0.0175 - loglikelihood_term: 0.1067 - evidential_success: 101.3898 - evidential_fail: 7.6501 - acc: 0.9382 - annealing_coef: 0.2333 - global_step_get: 875.0000 - annealing_step_get: 3750.0000 - val_loss: 0.1753 - val_accuracy: 0.9291 - val_KL_term: 0.0512 - val_loglikelihood_term: 0.1233 - val_evidential_success: 69.6448 - val_evidential_fail: 6.2651 - val_acc: 0.9297 - val_annealing_coef: 0.4667 - val_global_step_get: 1750.0000 - val_annealing_step_get: 3750.0000\n",
      "\n",
      "Epoch 00005: val_loss did not improve from 0.15052\n",
      "Epoch 6/100\n",
      "self.global_step 1750.0\n",
      "351/351 [==============================] - 32s 90ms/step - loss: 0.1228 - accuracy: 0.9402 - KL_term: 0.0184 - loglikelihood_term: 0.1046 - evidential_success: 104.6765 - evidential_fail: 6.8246 - acc: 0.9401 - annealing_coef: 0.2800 - global_step_get: 1050.0000 - annealing_step_get: 3750.0000 - val_loss: 0.1870 - val_accuracy: 0.9280 - val_KL_term: 0.0591 - val_loglikelihood_term: 0.1266 - val_evidential_success: 71.3719 - val_evidential_fail: 5.5555 - val_acc: 0.9286 - val_annealing_coef: 0.5600 - val_global_step_get: 2100.0000 - val_annealing_step_get: 3750.0000\n",
      "\n",
      "Epoch 00006: val_loss did not improve from 0.15052\n",
      "Epoch 7/100\n",
      "self.global_step 2100.0\n",
      "351/351 [==============================] - 32s 90ms/step - loss: 0.1206 - accuracy: 0.9426 - KL_term: 0.0192 - loglikelihood_term: 0.1014 - evidential_success: 107.8587 - evidential_fail: 6.4247 - acc: 0.9426 - annealing_coef: 0.3267 - global_step_get: 1225.0000 - annealing_step_get: 3750.0000 - val_loss: 0.1781 - val_accuracy: 0.9311 - val_KL_term: 0.0537 - val_loglikelihood_term: 0.1235 - val_evidential_success: 71.4596 - val_evidential_fail: 4.2400 - val_acc: 0.9317 - val_annealing_coef: 0.6533 - val_global_step_get: 2450.0000 - val_annealing_step_get: 3750.0000\n",
      "\n",
      "Epoch 00007: val_loss did not improve from 0.15052\n",
      "Epoch 8/100\n",
      "self.global_step 2450.0\n",
      "351/351 [==============================] - 32s 91ms/step - loss: 0.1203 - accuracy: 0.9437 - KL_term: 0.0197 - loglikelihood_term: 0.1008 - evidential_success: 110.4492 - evidential_fail: 6.0520 - acc: 0.9436 - annealing_coef: 0.3733 - global_step_get: 1400.0000 - annealing_step_get: 3750.0000 - val_loss: 0.2028 - val_accuracy: 0.9284 - val_KL_term: 0.0730 - val_loglikelihood_term: 0.1283 - val_evidential_success: 72.5710 - val_evidential_fail: 5.1877 - val_acc: 0.9290 - val_annealing_coef: 0.7467 - val_global_step_get: 2800.0000 - val_annealing_step_get: 3750.0000\n",
      "\n",
      "Epoch 00008: val_loss did not improve from 0.15052\n",
      "Epoch 9/100\n",
      "self.global_step 2800.0\n",
      "351/351 [==============================] - 32s 90ms/step - loss: 0.1198 - accuracy: 0.9451 - KL_term: 0.0205 - loglikelihood_term: 0.0991 - evidential_success: 113.8705 - evidential_fail: 5.7368 - acc: 0.9452 - annealing_coef: 0.4200 - global_step_get: 1575.0000 - annealing_step_get: 3750.0000 - val_loss: 0.1926 - val_accuracy: 0.9328 - val_KL_term: 0.0662 - val_loglikelihood_term: 0.1255 - val_evidential_success: 71.3053 - val_evidential_fail: 4.2456 - val_acc: 0.9333 - val_annealing_coef: 0.8400 - val_global_step_get: 3150.0000 - val_annealing_step_get: 3750.0000\n",
      "\n",
      "Epoch 00009: val_loss did not improve from 0.15052\n",
      "Epoch 10/100\n",
      "self.global_step 3150.0\n",
      "351/351 [==============================] - 32s 90ms/step - loss: 0.1195 - accuracy: 0.9460 - KL_term: 0.0211 - loglikelihood_term: 0.0983 - evidential_success: 116.7445 - evidential_fail: 5.3519 - acc: 0.9460 - annealing_coef: 0.4667 - global_step_get: 1750.0000 - annealing_step_get: 3750.0000 - val_loss: 0.1927 - val_accuracy: 0.9302 - val_KL_term: 0.0608 - val_loglikelihood_term: 0.1310 - val_evidential_success: 92.7620 - val_evidential_fail: 3.4047 - val_acc: 0.9308 - val_annealing_coef: 0.9333 - val_global_step_get: 3500.0000 - val_annealing_step_get: 3750.0000\n",
      "\n",
      "Epoch 00010: val_loss did not improve from 0.15052\n",
      "Epoch 11/100\n",
      "self.global_step 3500.0\n",
      "351/351 [==============================] - 32s 91ms/step - loss: 0.1171 - accuracy: 0.9476 - KL_term: 0.0210 - loglikelihood_term: 0.0963 - evidential_success: 122.8370 - evidential_fail: 4.9621 - acc: 0.9475 - annealing_coef: 0.5129 - global_step_get: 1925.0000 - annealing_step_get: 3750.0000 - val_loss: 0.2310 - val_accuracy: 0.9246 - val_KL_term: 0.0927 - val_loglikelihood_term: 0.1376 - val_evidential_success: 85.5361 - val_evidential_fail: 4.8995 - val_acc: 0.9253 - val_annealing_coef: 1.0000 - val_global_step_get: 3850.0000 - val_annealing_step_get: 3750.0000\n",
      "\n",
      "Epoch 00011: val_loss did not improve from 0.15052\n",
      "Epoch 12/100\n",
      "self.global_step 3850.0\n",
      "351/351 [==============================] - 32s 90ms/step - loss: 0.1199 - accuracy: 0.9470 - KL_term: 0.0220 - loglikelihood_term: 0.0981 - evidential_success: 122.0859 - evidential_fail: 4.7942 - acc: 0.9469 - annealing_coef: 0.5534 - global_step_get: 2100.0000 - annealing_step_get: 3750.0000 - val_loss: 0.2302 - val_accuracy: 0.9228 - val_KL_term: 0.0856 - val_loglikelihood_term: 0.1434 - val_evidential_success: 79.3664 - val_evidential_fail: 3.9718 - val_acc: 0.9235 - val_annealing_coef: 1.0000 - val_global_step_get: 4200.0000 - val_annealing_step_get: 3750.0000\n",
      "\n",
      "Epoch 00012: val_loss did not improve from 0.15052\n",
      "Epoch 00012: early stopping\n",
      "-30.0 -16.0\n"
     ]
    },
    {
     "name": "stderr",
     "output_type": "stream",
     "text": [
      "ic| self.path_models+ '/' + self.method +'_'+str(0)+'.h5': 'D:/Jorge/datasets/deforestation/experiments/exp156/models/resunet_0.h5'\n"
     ]
    },
    {
     "name": "stdout",
     "output_type": "stream",
     "text": [
      "time:  0\n",
      "(54236371,)\n",
      "(array([0, 1], dtype=uint8), array([53470765,   765606], dtype=int64))\n",
      "(17730, 9200)\n",
      "(array([0., 1.], dtype=float32), array([160487227,   2628773], dtype=int64))\n"
     ]
    },
    {
     "name": "stderr",
     "output_type": "stream",
     "text": [
      "ic| self.predicted_unpad.shape: (17730, 9200)\n",
      "    self.predicted.shape: (17730, 9200)\n",
      "ic| predicted_test.shape: (81558000,)\n",
      "ic| predicted_test.shape: (54236371,)\n",
      "ic| np.unique(predicted, return_counts=True): (array([0., 1.], dtype=float32), array([160487227,   2628773], dtype=int64))\n",
      "    np.unique(predicted_larger_than_min_area, return_counts=True): (array([0., 1.], dtype=float32), array([160751173,   2364827], dtype=int64))\n",
      "ic| np.unique(ignored_polygons, return_counts=True): (array([0., 1.], dtype=float32), array([162852054,    263946], dtype=int64))\n",
      "ic| self.f1: 72.65, self.precision: 63.0, self.recall: 85.8\n",
      "ic| self.label_mask_val.shape: (16311600,)\n",
      "ic| self.label_mask_val_valid.shape: (9417418,)\n",
      "ic| f1_val: 81.31\n",
      "    precision_val: 71.79\n",
      "    recall_val: 93.73\n",
      "    mAP_val: 79.15\n"
     ]
    },
    {
     "name": "stdout",
     "output_type": "stream",
     "text": [
      "(array([0., 1.], dtype=float32), array([162053571,   1062429], dtype=int64))\n"
     ]
    },
    {
     "name": "stderr",
     "output_type": "stream",
     "text": [
      "ic| self.label_mask.shape: (17730, 9200)\n",
      "ic| self.mask_amazon_ts.shape: (17730, 9200)\n",
      "ic| self.label_mask_test.shape: (81558000,)\n",
      "ic| self.error_mask_test.shape: (54111444,)\n",
      "ic| bounds: (0.0015, 0.9627519354820252)\n",
      "c:\\Users\\jchamorro\\Anaconda3\\envs\\tf2\\lib\\site-packages\\scipy\\optimize\\_minimize.py:783: RuntimeWarning: Method 'bounded' does not support relative tolerance in x; defaulting to absolute tolerance.\n",
      "  warn(\"Method 'bounded' does not support relative tolerance in x; \"\n"
     ]
    },
    {
     "name": "stdout",
     "output_type": "stream",
     "text": [
      "0.36866556760251257\n",
      "threshold 0.36866556760251257\n",
      "(51850888,) (51850888,)\n"
     ]
    },
    {
     "name": "stderr",
     "output_type": "stream",
     "text": [
      "ic| label_current_deforestation_test_classified_incorrect.shape: (2260556,)\n",
      "    predicted_test_classified_incorrect.shape: (2260556,)\n"
     ]
    },
    {
     "name": "stdout",
     "output_type": "stream",
     "text": [
      "cm_correct [[51058633   193237]\n",
      " [   29055   569963]]\n"
     ]
    },
    {
     "name": "stderr",
     "output_type": "stream",
     "text": [
      "ic| TP_H + FN_H + FP_H + TN_H: 2260556\n",
      "    len(label_mask_current_deforestation_test): 54111444\n",
      "ic| TP_H + FN_H + FP_H + TN_H: 2260556\n",
      "    len(label_mask_current_deforestation_test): 54111444\n"
     ]
    },
    {
     "name": "stdout",
     "output_type": "stream",
     "text": [
      "cm_incorrect [[1947524  177095]\n",
      " [  75313   60624]]\n",
      "[0.74680687 0.95149561 0.77550734 0.04177593 0.25502379 0.4459713 ]\n",
      "0.5955863678795126\n",
      "threshold 0.5955863678795126\n",
      "(53462796,) (53462796,)\n"
     ]
    },
    {
     "name": "stderr",
     "output_type": "stream",
     "text": [
      "ic| label_current_deforestation_test_classified_incorrect.shape: (648648,)\n",
      "    predicted_test_classified_incorrect.shape: (648648,)\n",
      "ic| TP_H + FN_H + FP_H + TN_H: 648648\n",
      "    len(label_mask_current_deforestation_test): 54111444\n",
      "ic| TP_H + FN_H + FP_H + TN_H: 648648\n",
      "    len(label_mask_current_deforestation_test): 54111444\n"
     ]
    },
    {
     "name": "stdout",
     "output_type": "stream",
     "text": [
      "cm_correct [[52436679   339531]\n",
      " [   62080   624506]]\n",
      "cm_incorrect [[569478  30801]\n",
      " [ 42288   6081]]\n",
      "[0.64780294 0.90958161 0.84972005 0.01198726 0.16487718 0.12572102]\n",
      "0.22842080027700004\n",
      "threshold 0.22842080027700004\n",
      "(50470578,) (50470578,)\n"
     ]
    },
    {
     "name": "stderr",
     "output_type": "stream",
     "text": [
      "ic| label_current_deforestation_test_classified_incorrect.shape: (3640866,)\n",
      "    predicted_test_classified_incorrect.shape: (3640866,)\n"
     ]
    },
    {
     "name": "stdout",
     "output_type": "stream",
     "text": [
      "cm_correct [[49883468    94398]\n",
      " [   17789   474923]]\n"
     ]
    },
    {
     "name": "stderr",
     "output_type": "stream",
     "text": [
      "ic| TP_H + FN_H + FP_H + TN_H: 3640866\n",
      "    len(label_mask_current_deforestation_test): 54111444\n",
      "ic| TP_H + FN_H + FP_H + TN_H: 3640866\n",
      "    len(label_mask_current_deforestation_test): 54111444\n"
     ]
    },
    {
     "name": "stdout",
     "output_type": "stream",
     "text": [
      "cm_incorrect [[3122689  275934]\n",
      " [  86579  155664]]\n",
      "[0.83419196 0.96389574 0.6461933  0.06728458 0.36066896 0.64259442]\n",
      "0.4580267425048464\n",
      "threshold 0.4580267425048464\n",
      "(52564516,) (52564516,)\n"
     ]
    },
    {
     "name": "stderr",
     "output_type": "stream",
     "text": [
      "ic| label_current_deforestation_test_classified_incorrect.shape: (1546928,)\n",
      "    predicted_test_classified_incorrect.shape: (1546928,)\n",
      "ic"
     ]
    },
    {
     "name": "stdout",
     "output_type": "stream",
     "text": [
      "cm_correct [[51677362   250766]\n",
      " [   38098   598290]]\n",
      "cm_incorrect [[1328795  119566]\n",
      " [  66270   32297]]\n"
     ]
    },
    {
     "name": "stderr",
     "output_type": "stream",
     "text": [
      "| TP_H + FN_H + FP_H + TN_H: 1546928\n",
      "    len(label_mask_current_deforestation_test): 54111444\n",
      "ic| TP_H + FN_H + FP_H + TN_H: 1546928\n",
      "    len(label_mask_current_deforestation_test): 54111444\n"
     ]
    },
    {
     "name": "stdout",
     "output_type": "stream",
     "text": [
      "[0.70465317 0.94013401 0.81404984 0.02858782 0.21267195 0.32766545]\n",
      "0.4689489614601085\n",
      "threshold 0.4689489614601085\n",
      "(52649210,) (52649210,)\n"
     ]
    },
    {
     "name": "stderr",
     "output_type": "stream",
     "text": [
      "ic| label_current_deforestation_test_classified_incorrect.shape: (1462234,)\n",
      "    predicted_test_classified_incorrect.shape: (1462234,)\n",
      "ic"
     ]
    },
    {
     "name": "stdout",
     "output_type": "stream",
     "text": [
      "cm_correct [[51750577   258250]\n",
      " [   39422   600961]]\n",
      "cm_incorrect [[1255580  112082]\n",
      " [  64946   29626]]\n"
     ]
    },
    {
     "name": "stderr",
     "output_type": "stream",
     "text": [
      "| TP_H + FN_H + FP_H + TN_H: 1462234\n",
      "    len(label_mask_current_deforestation_test): 54111444\n",
      "ic| TP_H + FN_H + FP_H + TN_H: 1462234\n",
      "    len(label_mask_current_deforestation_test): 54111444\n"
     ]
    },
    {
     "name": "stdout",
     "output_type": "stream",
     "text": [
      "[0.69943355 0.93843996 0.81768408 0.02702264 0.20906371 0.31326397]\n",
      "0.4357747042281399\n",
      "threshold 0.4357747042281399\n",
      "(52390779,) (52390779,)\n"
     ]
    },
    {
     "name": "stderr",
     "output_type": "stream",
     "text": [
      "ic| label_current_deforestation_test_classified_incorrect.shape: (1720665,)\n",
      "    predicted_test_classified_incorrect.shape: (1720665,)\n"
     ]
    },
    {
     "name": "stdout",
     "output_type": "stream",
     "text": [
      "cm_correct [[51526656   236221]\n",
      " [   35589   592313]]\n"
     ]
    },
    {
     "name": "stderr",
     "output_type": "stream",
     "text": [
      "ic| TP_H + FN_H + FP_H + TN_H: 1720665\n",
      "    len(label_mask_current_deforestation_test): 54111444\n",
      "ic| TP_H + FN_H + FP_H + TN_H: 1720665\n",
      "    len(label_mask_current_deforestation_test): 54111444\n"
     ]
    },
    {
     "name": "stdout",
     "output_type": "stream",
     "text": [
      "cm_incorrect [[1479501  134111]\n",
      " [  68779   38274]]\n",
      "[0.71489281 0.94332077 0.80591737 0.03179854 0.22202628 0.35752384]\n",
      "0.44952722020210817\n",
      "threshold 0.44952722020210817\n",
      "(52498610,) (52498610,)\n"
     ]
    },
    {
     "name": "stderr",
     "output_type": "stream",
     "text": [
      "ic| label_current_deforestation_test_classified_incorrect.shape: (1612834,)\n",
      "    predicted_test_classified_incorrect.shape: (1612834,)\n",
      "ic"
     ]
    },
    {
     "name": "stdout",
     "output_type": "stream",
     "text": [
      "cm_correct [[51620342   245108]\n",
      " [   37102   596058]]\n",
      "cm_incorrect [[1385815  125224]\n",
      " [  67266   34529]]\n"
     ]
    },
    {
     "name": "stderr",
     "output_type": "stream",
     "text": [
      "| TP_H + FN_H + FP_H + TN_H: 1612834\n",
      "    len(label_mask_current_deforestation_test): 54111444\n",
      "ic| TP_H + FN_H + FP_H + TN_H: 1612834\n",
      "    len(label_mask_current_deforestation_test): 54111444\n"
     ]
    },
    {
     "name": "stdout",
     "output_type": "stream",
     "text": [
      "[0.70860924 0.94140186 0.81101292 0.02980578 0.21613992 0.33920134]\n",
      "0.44764384638213434\n",
      "threshold 0.44764384638213434\n",
      "(52483758,) (52483758,)\n"
     ]
    },
    {
     "name": "stderr",
     "output_type": "stream",
     "text": [
      "ic| label_current_deforestation_test_classified_incorrect.shape: (1627686,)\n",
      "    predicted_test_classified_incorrect.shape: (1627686,)\n",
      "ic"
     ]
    },
    {
     "name": "stdout",
     "output_type": "stream",
     "text": [
      "cm_correct [[51607387   243880]\n",
      " [   36917   595574]]\n",
      "cm_incorrect [[1398770  126452]\n",
      " [  67451   35013]]\n"
     ]
    },
    {
     "name": "stderr",
     "output_type": "stream",
     "text": [
      "| TP_H + FN_H + FP_H + TN_H: 1627686\n",
      "    len(label_mask_current_deforestation_test): 54111444\n",
      "ic| TP_H + FN_H + FP_H + TN_H: 1627686\n",
      "    len(label_mask_current_deforestation_test): 54111444\n"
     ]
    },
    {
     "name": "stdout",
     "output_type": "stream",
     "text": [
      "[0.70947783 0.94163237 0.81035438 0.03008025 0.21684576 0.34171026]\n",
      "0.4447911697434479\n",
      "threshold 0.4447911697434479\n",
      "(52461510,) (52461510,)\n"
     ]
    },
    {
     "name": "stderr",
     "output_type": "stream",
     "text": [
      "ic| label_current_deforestation_test_classified_incorrect.shape: (1649934,)\n",
      "    predicted_test_classified_incorrect.shape: (1649934,)\n",
      "ic"
     ]
    },
    {
     "name": "stdout",
     "output_type": "stream",
     "text": [
      "cm_correct [[51588090   241983]\n",
      " [   36592   594845]]\n",
      "cm_incorrect [[1418067  128349]\n",
      " [  67776   35742]]\n"
     ]
    },
    {
     "name": "stderr",
     "output_type": "stream",
     "text": [
      "| TP_H + FN_H + FP_H + TN_H: 1649934\n",
      "    len(label_mask_current_deforestation_test): 54111444\n",
      "ic| TP_H + FN_H + FP_H + TN_H: 1649934\n",
      "    len(label_mask_current_deforestation_test): 54111444\n"
     ]
    },
    {
     "name": "stdout",
     "output_type": "stream",
     "text": [
      "[0.71083305 0.94204964 0.80936248 0.03049141 0.21781816 0.34527329]\n",
      "0.4478853309427654\n",
      "threshold 0.4478853309427654\n",
      "(52485583,) (52485583,)\n"
     ]
    },
    {
     "name": "stderr",
     "output_type": "stream",
     "text": [
      "ic| label_current_deforestation_test_classified_incorrect.shape: (1625861,)\n",
      "    predicted_test_classified_incorrect.shape: (1625861,)\n",
      "ic"
     ]
    },
    {
     "name": "stdout",
     "output_type": "stream",
     "text": [
      "cm_correct [[51608984   244022]\n",
      " [   36936   595641]]\n",
      "cm_incorrect [[1397173  126310]\n",
      " [  67432   34946]]\n"
     ]
    },
    {
     "name": "stderr",
     "output_type": "stream",
     "text": [
      "| TP_H + FN_H + FP_H + TN_H: 1625861\n",
      "    len(label_mask_current_deforestation_test): 54111444\n",
      "ic| TP_H + FN_H + FP_H + TN_H: 1625861\n",
      "    len(label_mask_current_deforestation_test): 54111444\n"
     ]
    },
    {
     "name": "stdout",
     "output_type": "stream",
     "text": [
      "[0.70938103 0.94161027 0.81044554 0.03004653 0.21671132 0.34134287]\n",
      "0.4483373740329075\n",
      "threshold 0.4483373740329075\n",
      "(52489141,) (52489141,)\n"
     ]
    },
    {
     "name": "stderr",
     "output_type": "stream",
     "text": [
      "ic| label_current_deforestation_test_classified_incorrect.shape: (1622303,)\n",
      "    predicted_test_classified_incorrect.shape: (1622303,)\n",
      "ic"
     ]
    },
    {
     "name": "stdout",
     "output_type": "stream",
     "text": [
      "cm_correct [[51612102   244317]\n",
      " [   36977   595745]]\n",
      "cm_incorrect [[1394055  126015]\n",
      " [  67391   34842]]\n"
     ]
    },
    {
     "name": "stderr",
     "output_type": "stream",
     "text": [
      "| TP_H + FN_H + FP_H + TN_H: 1622303\n",
      "    len(label_mask_current_deforestation_test): 54111444\n",
      "ic| TP_H + FN_H + FP_H + TN_H: 1622303\n",
      "    len(label_mask_current_deforestation_test): 54111444\n"
     ]
    },
    {
     "name": "stdout",
     "output_type": "stream",
     "text": [
      "[0.70916789 0.94155885 0.81058704 0.02998077 0.21660232 0.34080972]\n",
      "0.44837556930054917\n",
      "threshold 0.44837556930054917\n",
      "(52489468,) (52489468,)\n"
     ]
    },
    {
     "name": "stderr",
     "output_type": "stream",
     "text": [
      "ic| label_current_deforestation_test_classified_incorrect.shape: (1621976,)\n",
      "    predicted_test_classified_incorrect.shape: (1621976,)\n",
      "ic"
     ]
    },
    {
     "name": "stdout",
     "output_type": "stream",
     "text": [
      "cm_correct [[51612385   244347]\n",
      " [   36980   595756]]\n",
      "cm_incorrect [[1393772  125985]\n",
      " [  67388   34831]]\n"
     ]
    },
    {
     "name": "stderr",
     "output_type": "stream",
     "text": [
      "| TP_H + FN_H + FP_H + TN_H: 1621976\n",
      "    len(label_mask_current_deforestation_test): 54111444\n",
      "ic| TP_H + FN_H + FP_H + TN_H: 1621976\n",
      "    len(label_mask_current_deforestation_test): 54111444\n"
     ]
    },
    {
     "name": "stdout",
     "output_type": "stream",
     "text": [
      "[0.70914638 0.9415554  0.81060201 0.02997473 0.21658915 0.34074878]\n",
      "0.4481790728220913\n",
      "threshold 0.4481790728220913\n",
      "(52487852,) (52487852,)\n"
     ]
    },
    {
     "name": "stderr",
     "output_type": "stream",
     "text": [
      "ic| label_current_deforestation_test_classified_incorrect.shape: (1623592,)\n",
      "    predicted_test_classified_incorrect.shape: (1623592,)\n",
      "ic"
     ]
    },
    {
     "name": "stdout",
     "output_type": "stream",
     "text": [
      "cm_correct [[51610981   244204]\n",
      " [   36964   595703]]\n",
      "cm_incorrect [[1395176  126128]\n",
      " [  67404   34884]]\n"
     ]
    },
    {
     "name": "stderr",
     "output_type": "stream",
     "text": [
      "| TP_H + FN_H + FP_H + TN_H: 1623592\n",
      "    len(label_mask_current_deforestation_test): 54111444\n",
      "ic| TP_H + FN_H + FP_H + TN_H: 1623592\n",
      "    len(label_mask_current_deforestation_test): 54111444\n"
     ]
    },
    {
     "name": "stdout",
     "output_type": "stream",
     "text": [
      "[0.70924876 0.94157432 0.8105299  0.0300046  0.21665466 0.34103707]\n",
      "0.4480668734081081\n",
      "threshold 0.4480668734081081\n",
      "(52486998,) (52486998,)\n"
     ]
    },
    {
     "name": "stderr",
     "output_type": "stream",
     "text": [
      "ic| label_current_deforestation_test_classified_incorrect.shape: (1624446,)\n",
      "    predicted_test_classified_incorrect.shape: (1624446,)\n",
      "ic"
     ]
    },
    {
     "name": "stdout",
     "output_type": "stream",
     "text": [
      "cm_correct [[51610228   244131]\n",
      " [   36956   595683]]\n",
      "cm_incorrect [[1395929  126201]\n",
      " [  67412   34904]]\n"
     ]
    },
    {
     "name": "stderr",
     "output_type": "stream",
     "text": [
      "| TP_H + FN_H + FP_H + TN_H: 1624446\n",
      "    len(label_mask_current_deforestation_test): 54111444\n",
      "ic| TP_H + FN_H + FP_H + TN_H: 1624446\n",
      "    len(label_mask_current_deforestation_test): 54111444\n"
     ]
    },
    {
     "name": "stdout",
     "output_type": "stream",
     "text": [
      "[0.70930349 0.94158438 0.81050268 0.03002038 0.21665374 0.34113922]\n",
      "0.44821241280299456\n",
      "threshold 0.44821241280299456\n",
      "(52488120,) (52488120,)\n"
     ]
    },
    {
     "name": "stderr",
     "output_type": "stream",
     "text": [
      "ic| label_current_deforestation_test_classified_incorrect.shape: (1623324,)\n",
      "    predicted_test_classified_incorrect.shape: (1623324,)\n",
      "ic"
     ]
    },
    {
     "name": "stdout",
     "output_type": "stream",
     "text": [
      "cm_correct [[51611213   244227]\n",
      " [   36965   595715]]\n",
      "cm_incorrect [[1394944  126105]\n",
      " [  67403   34872]]\n"
     ]
    },
    {
     "name": "stderr",
     "output_type": "stream",
     "text": [
      "| TP_H + FN_H + FP_H + TN_H: 1623324\n",
      "    len(label_mask_current_deforestation_test): 54111444\n",
      "ic| TP_H + FN_H + FP_H + TN_H: 1623324\n",
      "    len(label_mask_current_deforestation_test): 54111444\n"
     ]
    },
    {
     "name": "stdout",
     "output_type": "stream",
     "text": [
      "[0.70923349 0.94157394 0.81054622 0.02999964 0.21662722 0.34096309]\n",
      "0.4482457527843923\n",
      "threshold 0.4482457527843923\n",
      "(52488383,) (52488383,)\n"
     ]
    },
    {
     "name": "stderr",
     "output_type": "stream",
     "text": [
      "ic| label_current_deforestation_test_classified_incorrect.shape: (1623061,)\n",
      "    predicted_test_classified_incorrect.shape: (1623061,)\n",
      "ic"
     ]
    },
    {
     "name": "stdout",
     "output_type": "stream",
     "text": [
      "cm_correct [[51611438   244253]\n",
      " [   36969   595723]]\n",
      "cm_incorrect [[1394719  126079]\n",
      " [  67399   34864]]\n"
     ]
    },
    {
     "name": "stderr",
     "output_type": "stream",
     "text": [
      "| TP_H + FN_H + FP_H + TN_H: 1623061\n",
      "    len(label_mask_current_deforestation_test): 54111444\n",
      "ic| TP_H + FN_H + FP_H + TN_H: 1623061\n",
      "    len(label_mask_current_deforestation_test): 54111444\n",
      "ic| self.threshold_optimal: 0.44821241280299456\n"
     ]
    },
    {
     "name": "stdout",
     "output_type": "stream",
     "text": [
      "[0.70921431 0.94156873 0.81055711 0.02999478 0.21662328 0.34092487]\n",
      "threshold 0.44821241280299456\n",
      "(52488120,) (52488120,)\n"
     ]
    },
    {
     "name": "stderr",
     "output_type": "stream",
     "text": [
      "ic| label_current_deforestation_test_classified_incorrect.shape: (1623324,)\n",
      "    predicted_test_classified_incorrect.shape: (1623324,)\n",
      "ic"
     ]
    },
    {
     "name": "stdout",
     "output_type": "stream",
     "text": [
      "cm_correct [[51611213   244227]\n",
      " [   36965   595715]]\n",
      "cm_incorrect [[1394944  126105]\n",
      " [  67403   34872]]\n"
     ]
    },
    {
     "name": "stderr",
     "output_type": "stream",
     "text": [
      "| TP_H + FN_H + FP_H + TN_H: 1623324\n",
      "    len(label_mask_current_deforestation_test): 54111444\n",
      "ic| TP_H + FN_H + FP_H + TN_H: 1623324\n",
      "    len(label_mask_current_deforestation_test): 54111444\n"
     ]
    },
    {
     "name": "stdout",
     "output_type": "stream",
     "text": [
      "[0.70923349 0.94157394 0.81054622 0.02999964 0.21662722 0.34096309]\n",
      "threshold 0.44821241280299456\n",
      "(54111444,) (54111444,)\n"
     ]
    },
    {
     "name": "stderr",
     "output_type": "stream",
     "text": [
      "ic| self.m_optimal: {'AA': array([0.02999964]),\n",
      "                     'f1': 72.65,\n",
      "                     'f1_H': array([0.26493246]),\n",
      "                     'f1_L': array([0.80905351]),\n",
      "                     'precision_H': array([0.21662722]),\n",
      "                     'precision_L': array([0.70923349]),\n",
      "                     'recall_H': array([0.34096309]),\n",
      "                     'recall_L': array([0.94157394]),\n",
      "                     'recall_Ltotal': array([0.81054622])}\n",
      "ic| self.m_audited_optimal: {'f1': array([0.83234158]),\n",
      "                             'precision': array([0.74079538]),\n",
      "                             'recall': array([0.9497044])}\n"
     ]
    },
    {
     "name": "stdout",
     "output_type": "stream",
     "text": [
      "cm_audited [[53132262   244227]\n",
      " [   36965   697990]]\n",
      "[0.74079538 0.9497044 ]\n",
      "D:/Jorge/datasets/deforestation/Para/deforestation_past_years.tif\n",
      "Loaded deforestation past years\n"
     ]
    },
    {
     "name": "stderr",
     "output_type": "stream",
     "text": [
      "ic| np.unique(deforestation_past_years, return_counts=True): (array([   0, 2008, 2009, 2010, 2011, 2012, 2013, 2014, 2015, 2016, 2017,\n",
      "                                                                    2018, 2019, 2020, 2021], dtype=uint16),\n",
      "                                                              array([132185553,   3150503,   4571354,    864429,    903608,   1299506,\n",
      "                                                                      2477971,   1561686,   1459696,    969060,    644976,   2209014,\n",
      "                                                                      2100204,   5257014,   3514616], dtype=int64))\n"
     ]
    },
    {
     "name": "stdout",
     "output_type": "stream",
     "text": [
      "Label where deforestation past years is actual date (2019) = 1\n"
     ]
    },
    {
     "name": "stderr",
     "output_type": "stream",
     "text": [
      "ic| np.unique(deforestation_past_years, return_counts=True): (array([   0, 2008, 2009, 2010, 2011, 2012, 2013, 2014, 2015, 2016, 2017,\n",
      "                                                                    2018, 2019, 2020, 2021], dtype=uint16),\n",
      "                                                              array([132185553,   3150503,   4571354,    864429,    903608,   1299506,\n",
      "                                                                      2477971,   1561686,   1459696,    969060,    644976,   2209014,\n",
      "                                                                      2100204,   5257014,   3514616], dtype=int64))\n"
     ]
    },
    {
     "name": "stdout",
     "output_type": "stream",
     "text": [
      "Past deforestation different from 0 (no deforestation)\n"
     ]
    },
    {
     "name": "stderr",
     "output_type": "stream",
     "text": [
      "ic| np.unique(deforestation_past_years, return_counts=True): (array([   0, 2008, 2009, 2010, 2011, 2012, 2013, 2014, 2015, 2016, 2017,\n",
      "                                                                    2018, 2019, 2020, 2021], dtype=uint16),\n",
      "                                                              array([132185553,   3150503,   4571354,    864429,    903608,   1299506,\n",
      "                                                                      2477971,   1561686,   1459696,    969060,    644976,   2209014,\n",
      "                                                                      2100204,   5257014,   3514616], dtype=int64))\n"
     ]
    },
    {
     "name": "stdout",
     "output_type": "stream",
     "text": [
      "Past deforestation before 2008 is 2\n",
      "D:/Jorge/datasets/deforestation/deforestation_before_2008/deforestation_before_2008_para.tif\n"
     ]
    },
    {
     "name": "stderr",
     "output_type": "stream",
     "text": [
      "ic| np.unique(label_past_deforestation_before_2008, return_counts=True): (array([  0, 215], dtype=uint8), array([124211220,  38957970], dtype=int64))\n",
      "ic| np.unique(deforestation_past_years, return_counts=True): (array([   0, 2008, 2009, 2010, 2011, 2012, 2013, 2014, 2015, 2016, 2017,\n",
      "                                                                    2018, 2019, 2020, 2021], dtype=uint16),\n",
      "                                                              array([132185553,   3150503,   4571354,    864429,    903608,   1299506,\n",
      "                                                                      2477971,   1561686,   1459696,    969060,    644976,   2209014,\n",
      "                                                                      2100204,   5257014,   3514616], dtype=int64))\n",
      "ic| label_per_date.shape: (17730, 9203, 1)\n"
     ]
    },
    {
     "name": "stdout",
     "output_type": "stream",
     "text": [
      "Mask label shape:  \n",
      " (17730, 9203, 1) \n",
      " Unique values:  \n",
      " [0 1 2]\n",
      "Tiles size:  3546 2300\n",
      "Mask size:  (17730, 9200)\n"
     ]
    },
    {
     "name": "stderr",
     "output_type": "stream",
     "text": [
      "ic| image_stack.shape: (17730, 9203, 21)\n"
     ]
    },
    {
     "name": "stdout",
     "output_type": "stream",
     "text": [
      "Image shape:  (17730, 9203, 21)\n",
      "mask:  (17730, 9200)\n",
      "image stack:  (17730, 9200, 21)\n",
      "ref : (17730, 9200, 1)\n",
      "Training tiles:  [1, 3, 5, 8, 11, 13, 14, 20]\n",
      "Validation tiles:  [6, 19]\n",
      "Test tiles:  [2, 4, 7, 9, 10, 12, 15, 16, 17, 18]\n"
     ]
    },
    {
     "name": "stderr",
     "output_type": "stream",
     "text": [
      "ic| im_idx_row.shape: (17730, 9200, 1)\n",
      "    im_idx_col.shape: (17730, 9200, 1)\n",
      "ic| im_idx_row.dtype: dtype('uint16')\n",
      "    im_idx_col.dtype: dtype('uint16')\n",
      "ic| im_idx.shape: (17730, 9200, 2), im_idx.dtype: dtype('uint16')\n",
      "ic| coords.shape: (464, 239, 1, 128, 128, 2)\n",
      "    coords.dtype: dtype('uint16')\n",
      "ic| coords.shape: (110896, 2), coords.dtype: dtype('uint16')\n",
      "ic| self.coords_train.shape: (41812, 3)\n",
      "    self.coords_val.shape: (10260, 3)\n"
     ]
    },
    {
     "name": "stdout",
     "output_type": "stream",
     "text": [
      "training samples:  (3753, 3) validation samples:  (1032, 3)\n",
      "time:  0\n",
      "Model: \"model_4\"\n",
      "__________________________________________________________________________________________________\n",
      "Layer (type)                    Output Shape         Param #     Connected to                     \n",
      "==================================================================================================\n",
      "input_enc_net (InputLayer)      [(None, 128, 128, 21 0                                            \n",
      "__________________________________________________________________________________________________\n",
      "res1_net1 (Conv2D)              (None, 128, 128, 16) 3040        input_enc_net[0][0]              \n",
      "__________________________________________________________________________________________________\n",
      "drop_net1 (Dropout)             (None, 128, 128, 16) 0           res1_net1[0][0]                  \n",
      "__________________________________________________________________________________________________\n",
      "res2_net1 (Conv2D)              (None, 128, 128, 16) 2320        drop_net1[0][0]                  \n",
      "__________________________________________________________________________________________________\n",
      "res3_net1 (Conv2D)              (None, 128, 128, 16) 352         input_enc_net[0][0]              \n",
      "__________________________________________________________________________________________________\n",
      "add_24 (Add)                    (None, 128, 128, 16) 0           res2_net1[0][0]                  \n",
      "                                                                 res3_net1[0][0]                  \n",
      "__________________________________________________________________________________________________\n",
      "pool_net1 (MaxPooling2D)        (None, 64, 64, 16)   0           add_24[0][0]                     \n",
      "__________________________________________________________________________________________________\n",
      "res1_net2 (Conv2D)              (None, 64, 64, 32)   4640        pool_net1[0][0]                  \n",
      "__________________________________________________________________________________________________\n",
      "drop_net2 (Dropout)             (None, 64, 64, 32)   0           res1_net2[0][0]                  \n",
      "__________________________________________________________________________________________________\n",
      "res2_net2 (Conv2D)              (None, 64, 64, 32)   9248        drop_net2[0][0]                  \n",
      "__________________________________________________________________________________________________\n",
      "res3_net2 (Conv2D)              (None, 64, 64, 32)   544         pool_net1[0][0]                  \n",
      "__________________________________________________________________________________________________\n",
      "add_25 (Add)                    (None, 64, 64, 32)   0           res2_net2[0][0]                  \n",
      "                                                                 res3_net2[0][0]                  \n",
      "__________________________________________________________________________________________________\n",
      "pool_net2 (MaxPooling2D)        (None, 32, 32, 32)   0           add_25[0][0]                     \n",
      "__________________________________________________________________________________________________\n",
      "res1_net3 (Conv2D)              (None, 32, 32, 64)   18496       pool_net2[0][0]                  \n",
      "__________________________________________________________________________________________________\n",
      "drop_net3 (Dropout)             (None, 32, 32, 64)   0           res1_net3[0][0]                  \n",
      "__________________________________________________________________________________________________\n",
      "res2_net3 (Conv2D)              (None, 32, 32, 64)   36928       drop_net3[0][0]                  \n",
      "__________________________________________________________________________________________________\n",
      "res3_net3 (Conv2D)              (None, 32, 32, 64)   2112        pool_net2[0][0]                  \n",
      "__________________________________________________________________________________________________\n",
      "add_26 (Add)                    (None, 32, 32, 64)   0           res2_net3[0][0]                  \n",
      "                                                                 res3_net3[0][0]                  \n",
      "__________________________________________________________________________________________________\n",
      "pool_net3 (MaxPooling2D)        (None, 16, 16, 64)   0           add_26[0][0]                     \n",
      "__________________________________________________________________________________________________\n",
      "res1_net4 (Conv2D)              (None, 16, 16, 64)   36928       pool_net3[0][0]                  \n",
      "__________________________________________________________________________________________________\n",
      "drop_net4 (Dropout)             (None, 16, 16, 64)   0           res1_net4[0][0]                  \n",
      "__________________________________________________________________________________________________\n",
      "res2_net4 (Conv2D)              (None, 16, 16, 64)   36928       drop_net4[0][0]                  \n",
      "__________________________________________________________________________________________________\n",
      "res3_net4 (Conv2D)              (None, 16, 16, 64)   4160        pool_net3[0][0]                  \n",
      "__________________________________________________________________________________________________\n",
      "add_27 (Add)                    (None, 16, 16, 64)   0           res2_net4[0][0]                  \n",
      "                                                                 res3_net4[0][0]                  \n",
      "__________________________________________________________________________________________________\n",
      "res1_net5 (Conv2D)              (None, 16, 16, 64)   36928       add_27[0][0]                     \n",
      "__________________________________________________________________________________________________\n",
      "drop_net5 (Dropout)             (None, 16, 16, 64)   0           res1_net5[0][0]                  \n",
      "__________________________________________________________________________________________________\n",
      "res2_net5 (Conv2D)              (None, 16, 16, 64)   36928       drop_net5[0][0]                  \n",
      "__________________________________________________________________________________________________\n",
      "res3_net5 (Conv2D)              (None, 16, 16, 64)   4160        add_27[0][0]                     \n",
      "__________________________________________________________________________________________________\n",
      "add_28 (Add)                    (None, 16, 16, 64)   0           res2_net5[0][0]                  \n",
      "                                                                 res3_net5[0][0]                  \n",
      "__________________________________________________________________________________________________\n",
      "res1_net6 (Conv2D)              (None, 16, 16, 64)   36928       add_28[0][0]                     \n",
      "__________________________________________________________________________________________________\n",
      "drop_net6 (Dropout)             (None, 16, 16, 64)   0           res1_net6[0][0]                  \n",
      "__________________________________________________________________________________________________\n",
      "res2_net6 (Conv2D)              (None, 16, 16, 64)   36928       drop_net6[0][0]                  \n",
      "__________________________________________________________________________________________________\n",
      "res3_net6 (Conv2D)              (None, 16, 16, 64)   4160        add_28[0][0]                     \n",
      "__________________________________________________________________________________________________\n",
      "add_29 (Add)                    (None, 16, 16, 64)   0           res2_net6[0][0]                  \n",
      "                                                                 res3_net6[0][0]                  \n",
      "__________________________________________________________________________________________________\n",
      "up_sampling2d_12 (UpSampling2D) (None, 32, 32, 64)   0           add_29[0][0]                     \n",
      "__________________________________________________________________________________________________\n",
      "upsampling_net3 (Conv2D)        (None, 32, 32, 64)   36928       up_sampling2d_12[0][0]           \n",
      "__________________________________________________________________________________________________\n",
      "concatenate3 (Concatenate)      (None, 32, 32, 128)  0           add_26[0][0]                     \n",
      "                                                                 upsampling_net3[0][0]            \n",
      "__________________________________________________________________________________________________\n",
      "up_sampling2d_13 (UpSampling2D) (None, 64, 64, 128)  0           concatenate3[0][0]               \n",
      "__________________________________________________________________________________________________\n",
      "upsampling_net2 (Conv2D)        (None, 64, 64, 32)   36896       up_sampling2d_13[0][0]           \n",
      "__________________________________________________________________________________________________\n",
      "concatenate2 (Concatenate)      (None, 64, 64, 64)   0           add_25[0][0]                     \n",
      "                                                                 upsampling_net2[0][0]            \n",
      "__________________________________________________________________________________________________\n",
      "up_sampling2d_14 (UpSampling2D) (None, 128, 128, 64) 0           concatenate2[0][0]               \n",
      "__________________________________________________________________________________________________\n",
      "upsampling_net1 (Conv2D)        (None, 128, 128, 16) 9232        up_sampling2d_14[0][0]           \n",
      "__________________________________________________________________________________________________\n",
      "concatenate1 (Concatenate)      (None, 128, 128, 32) 0           add_24[0][0]                     \n",
      "                                                                 upsampling_net1[0][0]            \n",
      "__________________________________________________________________________________________________\n",
      "output (Conv2D)                 (None, 128, 128, 3)  99          concatenate1[0][0]               \n",
      "==================================================================================================\n",
      "Total params: 394,883\n",
      "Trainable params: 394,883\n",
      "Non-trainable params: 0\n",
      "__________________________________________________________________________________________________\n"
     ]
    },
    {
     "name": "stderr",
     "output_type": "stream",
     "text": [
      "c:\\Users\\jchamorro\\Anaconda3\\envs\\tf2\\lib\\site-packages\\tensorflow\\python\\keras\\optimizer_v2\\optimizer_v2.py:374: UserWarning: The `lr` argument is deprecated, use `learning_rate` instead.\n",
      "  warnings.warn(\n",
      "c:\\Users\\jchamorro\\Anaconda3\\envs\\tf2\\lib\\site-packages\\tensorflow\\python\\keras\\engine\\training.py:1969: UserWarning: `Model.fit_generator` is deprecated and will be removed in a future version. Please use `Model.fit`, which supports generators.\n",
      "  warnings.warn('`Model.fit_generator` is deprecated and '\n"
     ]
    },
    {
     "name": "stdout",
     "output_type": "stream",
     "text": [
      "Epoch 1/100\n",
      "self.global_step 0.0\n",
      "alpha Tensor(\"loss/add:0\", shape=(None, 128, 128, 3), dtype=float32)\n",
      "u Tensor(\"loss/truediv:0\", shape=(None, 128, 128, 1), dtype=float32)\n",
      "alpha Tensor(\"add:0\", shape=(None, 128, 128, 3), dtype=float32)\n",
      "u Tensor(\"truediv:0\", shape=(None, 128, 128, 1), dtype=float32)\n",
      "K.int_shape(KL_reg) Tensor(\"mul_6:0\", shape=(None, 128, 128, 1), dtype=float32)\n",
      "alpha Tensor(\"add_7:0\", shape=(None, 128, 128, 3), dtype=float32)\n",
      "u Tensor(\"truediv_5:0\", shape=(None, 128, 128, 1), dtype=float32)\n",
      "K.int_shape(KL_reg) Tensor(\"mul_12:0\", shape=(None, 128, 128, 1), dtype=float32)\n",
      "alpha Tensor(\"loss/add:0\", shape=(None, 128, 128, 3), dtype=float32)\n",
      "u Tensor(\"loss/truediv:0\", shape=(None, 128, 128, 1), dtype=float32)\n",
      "alpha Tensor(\"add:0\", shape=(None, 128, 128, 3), dtype=float32)\n",
      "u Tensor(\"truediv:0\", shape=(None, 128, 128, 1), dtype=float32)\n",
      "K.int_shape(KL_reg) Tensor(\"mul_6:0\", shape=(None, 128, 128, 1), dtype=float32)\n",
      "alpha Tensor(\"add_7:0\", shape=(None, 128, 128, 3), dtype=float32)\n",
      "u Tensor(\"truediv_5:0\", shape=(None, 128, 128, 1), dtype=float32)\n",
      "K.int_shape(KL_reg) Tensor(\"mul_12:0\", shape=(None, 128, 128, 1), dtype=float32)\n",
      "351/351 [==============================] - ETA: 0s - loss: 0.2647 - accuracy: 0.8297 - KL_term: 0.0092 - loglikelihood_term: 0.2554 - evidential_success: 44.9188 - evidential_fail: 8.0928 - acc: 0.8298 - annealing_coef: 0.0467 - global_step_get: 175.0000 - annealing_step_get: 3750.0000alpha Tensor(\"loss/add:0\", shape=(None, 128, 128, 3), dtype=float32)\n",
      "u Tensor(\"loss/truediv:0\", shape=(None, 128, 128, 1), dtype=float32)\n",
      "alpha Tensor(\"add:0\", shape=(None, 128, 128, 3), dtype=float32)\n",
      "u Tensor(\"truediv:0\", shape=(None, 128, 128, 1), dtype=float32)\n",
      "K.int_shape(KL_reg) Tensor(\"mul_6:0\", shape=(None, 128, 128, 1), dtype=float32)\n",
      "alpha Tensor(\"add_7:0\", shape=(None, 128, 128, 3), dtype=float32)\n",
      "u Tensor(\"truediv_5:0\", shape=(None, 128, 128, 1), dtype=float32)\n",
      "K.int_shape(KL_reg) Tensor(\"mul_12:0\", shape=(None, 128, 128, 1), dtype=float32)\n",
      "351/351 [==============================] - 35s 91ms/step - loss: 0.2647 - accuracy: 0.8297 - KL_term: 0.0092 - loglikelihood_term: 0.2554 - evidential_success: 44.9188 - evidential_fail: 8.0928 - acc: 0.8298 - annealing_coef: 0.0467 - global_step_get: 175.0000 - annealing_step_get: 3750.0000 - val_loss: 0.1562 - val_accuracy: 0.9137 - val_KL_term: 0.0141 - val_loglikelihood_term: 0.1411 - val_evidential_success: 66.8650 - val_evidential_fail: 7.6471 - val_acc: 0.9143 - val_annealing_coef: 0.0933 - val_global_step_get: 350.0000 - val_annealing_step_get: 3750.0000\n",
      "\n",
      "Epoch 00001: val_loss improved from inf to 0.15620, saving model to D:/Jorge/datasets/deforestation/experiments/exp157/models\\resunet_0.h5\n",
      "Epoch 2/100\n",
      "self.global_step 350.0\n",
      "  1/351 [..............................] - ETA: 26s - loss: 0.1670 - accuracy: 0.9001 - KL_term: 0.0000e+00 - loglikelihood_term: 0.1670 - evidential_success: 67.3658 - evidential_fail: 10.8603 - acc: 0.9001 - annealing_coef: 0.0000e+00 - global_step_get: 0.0000e+00 - annealing_step_get: 3750.0000"
     ]
    },
    {
     "name": "stderr",
     "output_type": "stream",
     "text": [
      "c:\\Users\\jchamorro\\Anaconda3\\envs\\tf2\\lib\\site-packages\\tensorflow\\python\\keras\\utils\\generic_utils.py:494: CustomMaskWarning: Custom mask layers require a config and must override get_config. When loading, the custom mask layer must be passed to the custom_objects argument.\n",
      "  warnings.warn('Custom mask layers require a config and must override '\n"
     ]
    },
    {
     "name": "stdout",
     "output_type": "stream",
     "text": [
      "351/351 [==============================] - 32s 90ms/step - loss: 0.1383 - accuracy: 0.9245 - KL_term: 0.0129 - loglikelihood_term: 0.1256 - evidential_success: 81.2897 - evidential_fail: 11.4574 - acc: 0.9244 - annealing_coef: 0.0933 - global_step_get: 350.0000 - annealing_step_get: 3750.0000 - val_loss: 0.1398 - val_accuracy: 0.9293 - val_KL_term: 0.0184 - val_loglikelihood_term: 0.1205 - val_evidential_success: 73.6986 - val_evidential_fail: 5.9821 - val_acc: 0.9298 - val_annealing_coef: 0.1867 - val_global_step_get: 700.0000 - val_annealing_step_get: 3750.0000\n",
      "\n",
      "Epoch 00002: val_loss improved from 0.15620 to 0.13984, saving model to D:/Jorge/datasets/deforestation/experiments/exp157/models\\resunet_0.h5\n",
      "Epoch 3/100\n",
      "self.global_step 700.0\n",
      "351/351 [==============================] - 31s 90ms/step - loss: 0.1310 - accuracy: 0.9308 - KL_term: 0.0149 - loglikelihood_term: 0.1161 - evidential_success: 96.1280 - evidential_fail: 10.2653 - acc: 0.9308 - annealing_coef: 0.1400 - global_step_get: 525.0000 - annealing_step_get: 3750.0000 - val_loss: 0.1535 - val_accuracy: 0.9284 - val_KL_term: 0.0283 - val_loglikelihood_term: 0.1239 - val_evidential_success: 71.2801 - val_evidential_fail: 5.4262 - val_acc: 0.9290 - val_annealing_coef: 0.2800 - val_global_step_get: 1050.0000 - val_annealing_step_get: 3750.0000\n",
      "\n",
      "Epoch 00003: val_loss did not improve from 0.13984\n",
      "Epoch 4/100\n",
      "self.global_step 1050.0\n",
      "351/351 [==============================] - 32s 90ms/step - loss: 0.1281 - accuracy: 0.9345 - KL_term: 0.0166 - loglikelihood_term: 0.1113 - evidential_success: 104.1599 - evidential_fail: 8.8136 - acc: 0.9345 - annealing_coef: 0.1867 - global_step_get: 700.0000 - annealing_step_get: 3750.0000 - val_loss: 0.1597 - val_accuracy: 0.9287 - val_KL_term: 0.0326 - val_loglikelihood_term: 0.1258 - val_evidential_success: 68.3481 - val_evidential_fail: 4.3697 - val_acc: 0.9293 - val_annealing_coef: 0.3733 - val_global_step_get: 1400.0000 - val_annealing_step_get: 3750.0000 - loglikelihood_term: 0.1104 \n",
      "\n",
      "Epoch 00004: val_loss did not improve from 0.13984\n",
      "Epoch 5/100\n",
      "self.global_step 1400.0\n",
      "351/351 [==============================] - 31s 90ms/step - loss: 0.1224 - accuracy: 0.9387 - KL_term: 0.0172 - loglikelihood_term: 0.1053 - evidential_success: 105.7614 - evidential_fail: 7.4953 - acc: 0.9387 - annealing_coef: 0.2333 - global_step_get: 875.0000 - annealing_step_get: 3750.0000 - val_loss: 0.1633 - val_accuracy: 0.9282 - val_KL_term: 0.0332 - val_loglikelihood_term: 0.1297 - val_evidential_success: 70.1998 - val_evidential_fail: 4.0882 - val_acc: 0.9288 - val_annealing_coef: 0.4667 - val_global_step_get: 1750.0000 - val_annealing_step_get: 3750.0000\n",
      "\n",
      "Epoch 00005: val_loss did not improve from 0.13984\n",
      "Epoch 6/100\n",
      "self.global_step 1750.0\n",
      "351/351 [==============================] - 31s 90ms/step - loss: 0.1224 - accuracy: 0.9406 - KL_term: 0.0185 - loglikelihood_term: 0.1039 - evidential_success: 104.0278 - evidential_fail: 6.9056 - acc: 0.9406 - annealing_coef: 0.2800 - global_step_get: 1050.0000 - annealing_step_get: 3750.0000 - val_loss: 0.1732 - val_accuracy: 0.9302 - val_KL_term: 0.0469 - val_loglikelihood_term: 0.1252 - val_evidential_success: 76.8623 - val_evidential_fail: 4.2786 - val_acc: 0.9308 - val_annealing_coef: 0.5600 - val_global_step_get: 2100.0000 - val_annealing_step_get: 3750.0000: 7.2236 - acc: 0.9405 - annealing_coef: 0.2512 - glo\n",
      "\n",
      "Epoch 00006: val_loss did not improve from 0.13984\n",
      "Epoch 7/100\n",
      "self.global_step 2100.0\n",
      "351/351 [==============================] - 31s 89ms/step - loss: 0.1183 - accuracy: 0.9436 - KL_term: 0.0188 - loglikelihood_term: 0.0994 - evidential_success: 106.7577 - evidential_fail: 6.3714 - acc: 0.9436 - annealing_coef: 0.3267 - global_step_get: 1225.0000 - annealing_step_get: 3750.0000 - val_loss: 0.1786 - val_accuracy: 0.9295 - val_KL_term: 0.0496 - val_loglikelihood_term: 0.1282 - val_evidential_success: 66.7581 - val_evidential_fail: 3.8503 - val_acc: 0.9301 - val_annealing_coef: 0.6533 - val_global_step_get: 2450.0000 - val_annealing_step_get: 3750.0000\n",
      "\n",
      "Epoch 00007: val_loss did not improve from 0.13984\n",
      "Epoch 8/100\n",
      "self.global_step 2450.0\n",
      "351/351 [==============================] - 31s 90ms/step - loss: 0.1219 - accuracy: 0.9433 - KL_term: 0.0205 - loglikelihood_term: 0.1014 - evidential_success: 106.4553 - evidential_fail: 6.0428 - acc: 0.9433 - annealing_coef: 0.3733 - global_step_get: 1400.0000 - annealing_step_get: 3750.0000 - val_loss: 0.1945 - val_accuracy: 0.9237 - val_KL_term: 0.0551 - val_loglikelihood_term: 0.1379 - val_evidential_success: 64.2258 - val_evidential_fail: 3.3433 - val_acc: 0.9244 - val_annealing_coef: 0.7467 - val_global_step_get: 2800.0000 - val_annealing_step_get: 3750.0000\n",
      "\n",
      "Epoch 00008: val_loss did not improve from 0.13984\n",
      "Epoch 9/100\n",
      "self.global_step 2800.0\n",
      "351/351 [==============================] - 31s 90ms/step - loss: 0.1204 - accuracy: 0.9448 - KL_term: 0.0207 - loglikelihood_term: 0.0997 - evidential_success: 101.8660 - evidential_fail: 5.5712 - acc: 0.9448 - annealing_coef: 0.4200 - global_step_get: 1575.0000 - annealing_step_get: 3750.0000 - val_loss: 0.1827 - val_accuracy: 0.9315 - val_KL_term: 0.0565 - val_loglikelihood_term: 0.1256 - val_evidential_success: 61.3581 - val_evidential_fail: 3.4499 - val_acc: 0.9320 - val_annealing_coef: 0.8400 - val_global_step_get: 3150.0000 - val_annealing_step_get: 3750.0000\n",
      "\n",
      "Epoch 00009: val_loss did not improve from 0.13984\n",
      "Epoch 10/100\n",
      "self.global_step 3150.0\n",
      "351/351 [==============================] - 32s 91ms/step - loss: 0.1165 - accuracy: 0.9475 - KL_term: 0.0208 - loglikelihood_term: 0.0957 - evidential_success: 105.7684 - evidential_fail: 5.3470 - acc: 0.9475 - annealing_coef: 0.4667 - global_step_get: 1750.0000 - annealing_step_get: 3750.0000 - val_loss: 0.2058 - val_accuracy: 0.9317 - val_KL_term: 0.0734 - val_loglikelihood_term: 0.1316 - val_evidential_success: 70.5603 - val_evidential_fail: 4.5168 - val_acc: 0.9322 - val_annealing_coef: 0.9333 - val_global_step_get: 3500.0000 - val_annealing_step_get: 3750.0000\n",
      "\n",
      "Epoch 00010: val_loss did not improve from 0.13984\n",
      "Epoch 11/100\n",
      "self.global_step 3500.0\n",
      "351/351 [==============================] - 32s 90ms/step - loss: 0.1148 - accuracy: 0.9486 - KL_term: 0.0207 - loglikelihood_term: 0.0943 - evidential_success: 109.5588 - evidential_fail: 5.0816 - acc: 0.9485 - annealing_coef: 0.5129 - global_step_get: 1925.0000 - annealing_step_get: 3750.0000 - val_loss: 0.2020 - val_accuracy: 0.9320 - val_KL_term: 0.0746 - val_loglikelihood_term: 0.1265 - val_evidential_success: 75.9754 - val_evidential_fail: 3.8608 - val_acc: 0.9326 - val_annealing_coef: 1.0000 - val_global_step_get: 3850.0000 - val_annealing_step_get: 3750.0000\n",
      "\n",
      "Epoch 00011: val_loss did not improve from 0.13984\n",
      "Epoch 12/100\n",
      "self.global_step 3850.0\n",
      "351/351 [==============================] - 31s 90ms/step - loss: 0.1135 - accuracy: 0.9497 - KL_term: 0.0208 - loglikelihood_term: 0.0928 - evidential_success: 107.8784 - evidential_fail: 4.8516 - acc: 0.9497 - annealing_coef: 0.5534 - global_step_get: 2100.0000 - annealing_step_get: 3750.0000 - val_loss: 0.2014 - val_accuracy: 0.9306 - val_KL_term: 0.0729 - val_loglikelihood_term: 0.1283 - val_evidential_success: 66.8301 - val_evidential_fail: 3.8305 - val_acc: 0.9311 - val_annealing_coef: 1.0000 - val_global_step_get: 4200.0000 - val_annealing_step_get: 3750.0000\n",
      "\n",
      "Epoch 00012: val_loss did not improve from 0.13984\n",
      "Epoch 00012: early stopping\n",
      "-30.0 -16.0\n"
     ]
    },
    {
     "name": "stderr",
     "output_type": "stream",
     "text": [
      "ic| self.path_models+ '/' + self.method +'_'+str(0)+'.h5': 'D:/Jorge/datasets/deforestation/experiments/exp157/models/resunet_0.h5'\n"
     ]
    },
    {
     "name": "stdout",
     "output_type": "stream",
     "text": [
      "time:  0\n",
      "(54236371,)\n",
      "(array([0, 1], dtype=uint8), array([53470765,   765606], dtype=int64))\n",
      "(17730, 9200)\n",
      "(array([0., 1.], dtype=float32), array([161120387,   1995613], dtype=int64))\n"
     ]
    },
    {
     "name": "stderr",
     "output_type": "stream",
     "text": [
      "ic| self.predicted_unpad.shape: (17730, 9200)\n",
      "    self.predicted.shape: (17730, 9200)\n",
      "ic| predicted_test.shape: (81558000,)\n",
      "ic| predicted_test.shape: (54236371,)\n",
      "ic| np.unique(predicted, return_counts=True): (array([0., 1.], dtype=float32), array([161120387,   1995613], dtype=int64))\n",
      "    np.unique(predicted_larger_than_min_area, return_counts=True): (array([0., 1.], dtype=float32), array([161327831,   1788169], dtype=int64))\n",
      "ic| np.unique(ignored_polygons, return_counts=True): (array([0., 1.], dtype=float32), array([162908556,    207444], dtype=int64))\n",
      "ic| self.f1: 82.86, self.precision: 82.79, self.recall: 82.93\n",
      "ic| self.label_mask_val.shape: (16311600,)\n",
      "ic| self.label_mask_val_valid.shape: (9428827,)\n",
      "ic| f1_val: 86.22\n",
      "    precision_val: 83.36\n",
      "    recall_val: 89.28\n",
      "    mAP_val: 91.67\n"
     ]
    },
    {
     "name": "stdout",
     "output_type": "stream",
     "text": [
      "(array([0., 1.], dtype=float32), array([162464107,    651893], dtype=int64))\n"
     ]
    },
    {
     "name": "stderr",
     "output_type": "stream",
     "text": [
      "ic| self.label_mask.shape: (17730, 9200)\n",
      "ic| self.mask_amazon_ts.shape: (17730, 9200)\n",
      "ic| self.label_mask_test.shape: (81558000,)\n",
      "ic| self.error_mask_test.shape: (54135853,)\n",
      "ic| bounds: (0.0015, 0.9985)\n",
      "c:\\Users\\jchamorro\\Anaconda3\\envs\\tf2\\lib\\site-packages\\scipy\\optimize\\_minimize.py:783: RuntimeWarning: Method 'bounded' does not support relative tolerance in x; defaulting to absolute tolerance.\n",
      "  warn(\"Method 'bounded' does not support relative tolerance in x; \"\n"
     ]
    },
    {
     "name": "stdout",
     "output_type": "stream",
     "text": [
      "0.38232011321635484\n",
      "threshold 0.38232011321635484\n",
      "(52271923,) (52271923,)\n"
     ]
    },
    {
     "name": "stderr",
     "output_type": "stream",
     "text": [
      "ic| label_current_deforestation_test_classified_incorrect.shape: (1863930,)\n",
      "    predicted_test_classified_incorrect.shape: (1863930,)\n"
     ]
    },
    {
     "name": "stdout",
     "output_type": "stream",
     "text": [
      "cm_correct [[51673499    49000]\n",
      " [   33925   515499]]\n"
     ]
    },
    {
     "name": "stderr",
     "output_type": "stream",
     "text": [
      "ic| TP_H + FN_H + FP_H + TN_H: 1863930\n",
      "    len(label_mask_current_deforestation_test): 54135853\n",
      "ic| TP_H + FN_H + FP_H + TN_H: 1863930\n",
      "    len(label_mask_current_deforestation_test): 54135853\n"
     ]
    },
    {
     "name": "stdout",
     "output_type": "stream",
     "text": [
      "cm_incorrect [[1600099   77817]\n",
      " [  91628   94386]]\n",
      "[0.91319737 0.93825352 0.70094148 0.0344306  0.54810892 0.50741342]\n",
      "0.6176798867836452\n",
      "threshold 0.6176798867836452\n",
      "(53655178,) (53655178,)\n"
     ]
    },
    {
     "name": "stderr",
     "output_type": "stream",
     "text": [
      "ic| label_current_deforestation_test_classified_incorrect.shape: (480675,)\n",
      "    predicted_test_classified_incorrect.shape: (480675,)\n",
      "ic| TP_H + FN_H + FP_H + TN_H: 480675\n",
      "    len(label_mask_current_deforestation_test): 54135853\n",
      "ic| TP_H + FN_H + FP_H + TN_H: 480675\n",
      "    len(label_mask_current_deforestation_test): 54135853\n"
     ]
    },
    {
     "name": "stdout",
     "output_type": "stream",
     "text": [
      "cm_correct [[52893203   105259]\n",
      " [   68673   588043]]\n",
      "cm_incorrect [[380395  21558]\n",
      " [ 56880  21842]]\n",
      "[0.84817727 0.89542968 0.79958202 0.00887905 0.50327189 0.27745738]\n",
      "0.23685977356729035\n",
      "threshold 0.23685977356729035\n",
      "(50788794,) (50788794,)\n"
     ]
    },
    {
     "name": "stderr",
     "output_type": "stream",
     "text": [
      "ic| label_current_deforestation_test_classified_incorrect.shape: (3347059,)\n",
      "    predicted_test_classified_incorrect.shape: (3347059,)\n"
     ]
    },
    {
     "name": "stdout",
     "output_type": "stream",
     "text": [
      "cm_correct [[50307225    17406]\n",
      " [   21770   442393]]\n"
     ]
    },
    {
     "name": "stderr",
     "output_type": "stream",
     "text": [
      "ic| TP_H + FN_H + FP_H + TN_H: 3347059\n",
      "    len(label_mask_current_deforestation_test): 54135853\n",
      "ic| TP_H + FN_H + FP_H + TN_H: 3347059\n",
      "    len(label_mask_current_deforestation_test): 54135853\n"
     ]
    },
    {
     "name": "stdout",
     "output_type": "stream",
     "text": [
      "cm_incorrect [[2966373  109411]\n",
      " [ 103783  167492]]\n",
      "[0.96214433 0.95309837 0.60153677 0.06182703 0.60487608 0.61742512]\n",
      "0.4479174416098163\n",
      "threshold 0.4479174416098163\n",
      "(52756758,) (52756758,)\n"
     ]
    },
    {
     "name": "stderr",
     "output_type": "stream",
     "text": [
      "ic| label_current_deforestation_test_classified_incorrect.shape: (1379095,)\n",
      "    predicted_test_classified_incorrect.shape: (1379095,)\n",
      "ic| TP_H + FN_H + FP_H + TN_H: 1379095\n",
      "    len(label_mask_current_deforestation_test): 54135853\n",
      "ic| TP_H + FN_H + FP_H + TN_H: 1379095\n",
      "    len(label_mask_current_deforestation_test): 54135853\n"
     ]
    },
    {
     "name": "stdout",
     "output_type": "stream",
     "text": [
      "cm_correct [[52114165    64227]\n",
      " [   39855   538511]]\n",
      "cm_incorrect [[1159433   62590]\n",
      " [  85698   71374]]\n",
      "[0.89344126 0.93109035 0.73223168 0.02547471 0.53278493 0.45440308]\n",
      "0.41335504430569175\n",
      "threshold 0.41335504430569175\n",
      "(52514142,) (52514142,)\n"
     ]
    },
    {
     "name": "stderr",
     "output_type": "stream",
     "text": [
      "ic| label_current_deforestation_test_classified_incorrect.shape: (1621711,)\n",
      "    predicted_test_classified_incorrect.shape: (1621711,)\n",
      "ic"
     ]
    },
    {
     "name": "stdout",
     "output_type": "stream",
     "text": [
      "cm_correct [[51894494    56130]\n",
      " [   36611   526907]]\n",
      "cm_incorrect [[1379104   70687]\n",
      " [  88942   82978]]\n"
     ]
    },
    {
     "name": "stderr",
     "output_type": "stream",
     "text": [
      "| TP_H + FN_H + FP_H + TN_H: 1621711\n",
      "    len(label_mask_current_deforestation_test): 54135853\n",
      "ic| TP_H + FN_H + FP_H + TN_H: 1621711\n",
      "    len(label_mask_current_deforestation_test): 54135853\n"
     ]
    },
    {
     "name": "stdout",
     "output_type": "stream",
     "text": [
      "[0.90372824 0.93503136 0.71645332 0.02995632 0.53999284 0.48265472]\n",
      "0.4149440846961599\n",
      "threshold 0.4149440846961599\n",
      "(52525909,) (52525909,)\n"
     ]
    },
    {
     "name": "stderr",
     "output_type": "stream",
     "text": [
      "ic| label_current_deforestation_test_classified_incorrect.shape: (1609944,)\n",
      "    predicted_test_classified_incorrect.shape: (1609944,)\n",
      "ic"
     ]
    },
    {
     "name": "stdout",
     "output_type": "stream",
     "text": [
      "cm_correct [[51905227    56515]\n",
      " [   36743   527424]]\n",
      "cm_incorrect [[1368371   70302]\n",
      " [  88810   82461]]\n"
     ]
    },
    {
     "name": "stderr",
     "output_type": "stream",
     "text": [
      "| TP_H + FN_H + FP_H + TN_H: 1609944\n",
      "    len(label_mask_current_deforestation_test): 54135853\n",
      "ic| TP_H + FN_H + FP_H + TN_H: 1609944\n",
      "    len(label_mask_current_deforestation_test): 54135853\n"
     ]
    },
    {
     "name": "stdout",
     "output_type": "stream",
     "text": [
      "[0.90321763 0.93487212 0.71715631 0.02973896 0.53979694 0.48146505]\n",
      "0.4061274919356681\n",
      "threshold 0.4061274919356681\n",
      "(52459948,) (52459948,)\n"
     ]
    },
    {
     "name": "stderr",
     "output_type": "stream",
     "text": [
      "ic| label_current_deforestation_test_classified_incorrect.shape: (1675905,)\n",
      "    predicted_test_classified_incorrect.shape: (1675905,)\n",
      "ic"
     ]
    },
    {
     "name": "stdout",
     "output_type": "stream",
     "text": [
      "cm_correct [[51845170    54418]\n",
      " [   35993   524367]]\n",
      "cm_incorrect [[1428428   72399]\n",
      " [  89560   85518]]\n"
     ]
    },
    {
     "name": "stderr",
     "output_type": "stream",
     "text": [
      "| TP_H + FN_H + FP_H + TN_H: 1675905\n",
      "    len(label_mask_current_deforestation_test): 54135853\n",
      "ic| TP_H + FN_H + FP_H + TN_H: 1675905\n",
      "    len(label_mask_current_deforestation_test): 54135853\n"
     ]
    },
    {
     "name": "stdout",
     "output_type": "stream",
     "text": [
      "[0.9059789  0.93576808 0.7129996  0.0309574  0.54153764 0.48845657]\n",
      "0.4105943649558126\n",
      "threshold 0.4105943649558126\n",
      "(52493581,) (52493581,)\n"
     ]
    },
    {
     "name": "stderr",
     "output_type": "stream",
     "text": [
      "ic| label_current_deforestation_test_classified_incorrect.shape: (1642272,)\n",
      "    predicted_test_classified_incorrect.shape: (1642272,)\n",
      "ic"
     ]
    },
    {
     "name": "stdout",
     "output_type": "stream",
     "text": [
      "cm_correct [[51875823    55447]\n",
      " [   36396   525915]]\n",
      "cm_incorrect [[1397775   71370]\n",
      " [  89157   83970]]\n"
     ]
    },
    {
     "name": "stderr",
     "output_type": "stream",
     "text": [
      "| TP_H + FN_H + FP_H + TN_H: 1642272\n",
      "    len(label_mask_current_deforestation_test): 54135853\n",
      "ic| TP_H + FN_H + FP_H + TN_H: 1642272\n",
      "    len(label_mask_current_deforestation_test): 54135853\n"
     ]
    },
    {
     "name": "stdout",
     "output_type": "stream",
     "text": [
      "[0.90462569 0.93527425 0.71510447 0.03033612 0.5405562  0.48501967]\n",
      "0.4129239000697429\n",
      "threshold 0.4129239000697429\n",
      "(52510934,) (52510934,)\n"
     ]
    },
    {
     "name": "stderr",
     "output_type": "stream",
     "text": [
      "ic| label_current_deforestation_test_classified_incorrect.shape: (1624919,)\n",
      "    predicted_test_classified_incorrect.shape: (1624919,)\n",
      "ic"
     ]
    },
    {
     "name": "stdout",
     "output_type": "stream",
     "text": [
      "cm_correct [[51891596    56004]\n",
      " [   36582   526752]]\n",
      "cm_incorrect [[1382002   70813]\n",
      " [  88971   83133]]\n"
     ]
    },
    {
     "name": "stderr",
     "output_type": "stream",
     "text": [
      "| TP_H + FN_H + FP_H + TN_H: 1624919\n",
      "    len(label_mask_current_deforestation_test): 54135853\n",
      "ic| TP_H + FN_H + FP_H + TN_H: 1624919\n",
      "    len(label_mask_current_deforestation_test): 54135853\n"
     ]
    },
    {
     "name": "stdout",
     "output_type": "stream",
     "text": [
      "[0.90389803 0.93506162 0.71624257 0.03001558 0.54001403 0.48303933]\n",
      "0.41222021064130643\n",
      "threshold 0.41222021064130643\n",
      "(52505760,) (52505760,)\n"
     ]
    },
    {
     "name": "stderr",
     "output_type": "stream",
     "text": [
      "ic| label_current_deforestation_test_classified_incorrect.shape: (1630093,)\n",
      "    predicted_test_classified_incorrect.shape: (1630093,)\n",
      "ic"
     ]
    },
    {
     "name": "stdout",
     "output_type": "stream",
     "text": [
      "cm_correct [[51886882    55819]\n",
      " [   36536   526523]]\n",
      "cm_incorrect [[1386716   70998]\n",
      " [  89017   83362]]\n"
     ]
    },
    {
     "name": "stderr",
     "output_type": "stream",
     "text": [
      "| TP_H + FN_H + FP_H + TN_H: 1630093\n",
      "    len(label_mask_current_deforestation_test): 54135853\n",
      "ic| TP_H + FN_H + FP_H + TN_H: 1630093\n",
      "    len(label_mask_current_deforestation_test): 54135853\n"
     ]
    },
    {
     "name": "stdout",
     "output_type": "stream",
     "text": [
      "[0.90414739 0.9351116  0.71593119 0.03011115 0.54004924 0.48359719]\n",
      "0.41295723952772745\n",
      "threshold 0.41295723952772745\n",
      "(52511180,) (52511180,)\n"
     ]
    },
    {
     "name": "stderr",
     "output_type": "stream",
     "text": [
      "ic| label_current_deforestation_test_classified_incorrect.shape: (1624673,)\n",
      "    predicted_test_classified_incorrect.shape: (1624673,)\n",
      "ic"
     ]
    },
    {
     "name": "stdout",
     "output_type": "stream",
     "text": [
      "cm_correct [[51891822    56011]\n",
      " [   36585   526762]]\n",
      "cm_incorrect [[1381776   70806]\n",
      " [  88968   83123]]\n"
     ]
    },
    {
     "name": "stderr",
     "output_type": "stream",
     "text": [
      "| TP_H + FN_H + FP_H + TN_H: 1624673\n",
      "    len(label_mask_current_deforestation_test): 54135853\n",
      "ic| TP_H + FN_H + FP_H + TN_H: 1624673\n",
      "    len(label_mask_current_deforestation_test): 54135853\n"
     ]
    },
    {
     "name": "stdout",
     "output_type": "stream",
     "text": [
      "[0.90388882 0.93505779 0.71625616 0.03001104 0.54000871 0.48301771]\n",
      "0.4130751297739797\n",
      "threshold 0.4130751297739797\n",
      "(52512039,) (52512039,)\n"
     ]
    },
    {
     "name": "stderr",
     "output_type": "stream",
     "text": [
      "ic| label_current_deforestation_test_classified_incorrect.shape: (1623814,)\n",
      "    predicted_test_classified_incorrect.shape: (1623814,)\n",
      "ic"
     ]
    },
    {
     "name": "stdout",
     "output_type": "stream",
     "text": [
      "cm_correct [[51892585    56050]\n",
      " [   36593   526811]]\n",
      "cm_incorrect [[1381013   70767]\n",
      " [  88960   83074]]\n"
     ]
    },
    {
     "name": "stderr",
     "output_type": "stream",
     "text": [
      "| TP_H + FN_H + FP_H + TN_H: 1623814\n",
      "    len(label_mask_current_deforestation_test): 54135853\n",
      "ic| TP_H + FN_H + FP_H + TN_H: 1623814\n",
      "    len(label_mask_current_deforestation_test): 54135853\n"
     ]
    },
    {
     "name": "stdout",
     "output_type": "stream",
     "text": [
      "[0.90383642 0.93505016 0.71632279 0.02999517 0.53999909 0.48289292]\n",
      "0.4131820476111487\n",
      "threshold 0.4131820476111487\n",
      "(52512826,) (52512826,)\n"
     ]
    },
    {
     "name": "stderr",
     "output_type": "stream",
     "text": [
      "ic| label_current_deforestation_test_classified_incorrect.shape: (1623027,)\n",
      "    predicted_test_classified_incorrect.shape: (1623027,)\n",
      "ic"
     ]
    },
    {
     "name": "stdout",
     "output_type": "stream",
     "text": [
      "cm_correct [[51893309    56076]\n",
      " [   36599   526842]]\n",
      "cm_incorrect [[1380289   70741]\n",
      " [  88954   83043]]\n"
     ]
    },
    {
     "name": "stderr",
     "output_type": "stream",
     "text": [
      "| TP_H + FN_H + FP_H + TN_H: 1623027\n",
      "    len(label_mask_current_deforestation_test): 54135853\n",
      "ic| TP_H + FN_H + FP_H + TN_H: 1623027\n",
      "    len(label_mask_current_deforestation_test): 54135853\n"
     ]
    },
    {
     "name": "stdout",
     "output_type": "stream",
     "text": [
      "[0.90380122 0.93504378 0.71636494 0.02998063 0.53999766 0.48281656]\n",
      "0.41304179031375204\n",
      "threshold 0.41304179031375204\n",
      "(52511785,) (52511785,)\n"
     ]
    },
    {
     "name": "stderr",
     "output_type": "stream",
     "text": [
      "ic| label_current_deforestation_test_classified_incorrect.shape: (1624068,)\n",
      "    predicted_test_classified_incorrect.shape: (1624068,)\n",
      "ic"
     ]
    },
    {
     "name": "stdout",
     "output_type": "stream",
     "text": [
      "cm_correct [[51892363    56041]\n",
      " [   36591   526790]]\n",
      "cm_incorrect [[1381235   70776]\n",
      " [  88962   83095]]\n"
     ]
    },
    {
     "name": "stderr",
     "output_type": "stream",
     "text": [
      "| TP_H + FN_H + FP_H + TN_H: 1624068\n",
      "    len(label_mask_current_deforestation_test): 54135853\n",
      "ic| TP_H + FN_H + FP_H + TN_H: 1624068\n",
      "    len(label_mask_current_deforestation_test): 54135853\n"
     ]
    },
    {
     "name": "stdout",
     "output_type": "stream",
     "text": [
      "[0.90384691 0.93505106 0.71629424 0.02999986 0.54003029 0.48295042]\n",
      "0.4130084508540189\n",
      "threshold 0.4130084508540189\n",
      "(52511558,) (52511558,)\n"
     ]
    },
    {
     "name": "stderr",
     "output_type": "stream",
     "text": [
      "ic| label_current_deforestation_test_classified_incorrect.shape: (1624295,)\n",
      "    predicted_test_classified_incorrect.shape: (1624295,)\n",
      "ic"
     ]
    },
    {
     "name": "stdout",
     "output_type": "stream",
     "text": [
      "cm_correct [[51892159    56028]\n",
      " [   36589   526782]]\n",
      "cm_incorrect [[1381439   70789]\n",
      " [  88964   83103]]\n"
     ]
    },
    {
     "name": "stderr",
     "output_type": "stream",
     "text": [
      "| TP_H + FN_H + FP_H + TN_H: 1624295\n",
      "    len(label_mask_current_deforestation_test): 54135853\n",
      "ic| TP_H + FN_H + FP_H + TN_H: 1624295\n",
      "    len(label_mask_current_deforestation_test): 54135853\n",
      "ic| self.threshold_optimal: 0.41304179031375204\n"
     ]
    },
    {
     "name": "stdout",
     "output_type": "stream",
     "text": [
      "[0.90386575 0.93505346 0.71628336 0.03000405 0.54000858 0.48296884]\n",
      "threshold 0.41304179031375204\n",
      "(52511785,) (52511785,)\n"
     ]
    },
    {
     "name": "stderr",
     "output_type": "stream",
     "text": [
      "ic| label_current_deforestation_test_classified_incorrect.shape: (1624068,)\n",
      "    predicted_test_classified_incorrect.shape: (1624068,)\n",
      "ic"
     ]
    },
    {
     "name": "stdout",
     "output_type": "stream",
     "text": [
      "cm_correct [[51892363    56041]\n",
      " [   36591   526790]]\n",
      "cm_incorrect [[1381235   70776]\n",
      " [  88962   83095]]\n"
     ]
    },
    {
     "name": "stderr",
     "output_type": "stream",
     "text": [
      "| TP_H + FN_H + FP_H + TN_H: 1624068\n",
      "    len(label_mask_current_deforestation_test): 54135853\n",
      "ic| TP_H + FN_H + FP_H + TN_H: 1624068\n",
      "    len(label_mask_current_deforestation_test): 54135853\n"
     ]
    },
    {
     "name": "stdout",
     "output_type": "stream",
     "text": [
      "[0.90384691 0.93505106 0.71629424 0.02999986 0.54003029 0.48295042]\n",
      "threshold 0.41304179031375204\n",
      "(54135853,) (54135853,)\n"
     ]
    },
    {
     "name": "stderr",
     "output_type": "stream",
     "text": [
      "ic| self.m_optimal: {'AA': array([0.02999986]),\n",
      "                     'f1': 82.86,\n",
      "                     'f1_H': array([0.50989789]),\n",
      "                     'f1_L': array([0.91918423]),\n",
      "                     'precision_H': array([0.54003029]),\n",
      "                     'precision_L': array([0.90384691]),\n",
      "                     'recall_H': array([0.48295042]),\n",
      "                     'recall_L': array([0.93505106]),\n",
      "                     'recall_Ltotal': array([0.71629424])}\n",
      "ic| self.m_audited_optimal: {'f1': array([0.93784447]),\n",
      "                             'precision': array([0.9257625]),\n",
      "                             'recall': array([0.95024598])}\n"
     ]
    },
    {
     "name": "stdout",
     "output_type": "stream",
     "text": [
      "cm_audited [[53344374    56041]\n",
      " [   36591   698847]]\n",
      "[0.9257625  0.95024598]\n",
      "D:/Jorge/datasets/deforestation/Para/deforestation_past_years.tif\n",
      "Loaded deforestation past years\n"
     ]
    },
    {
     "name": "stderr",
     "output_type": "stream",
     "text": [
      "ic| np.unique(deforestation_past_years, return_counts=True): (array([   0, 2008, 2009, 2010, 2011, 2012, 2013, 2014, 2015, 2016, 2017,\n",
      "                                                                    2018, 2019, 2020, 2021], dtype=uint16),\n",
      "                                                              array([132185553,   3150503,   4571354,    864429,    903608,   1299506,\n",
      "                                                                      2477971,   1561686,   1459696,    969060,    644976,   2209014,\n",
      "                                                                      2100204,   5257014,   3514616], dtype=int64))\n"
     ]
    },
    {
     "name": "stdout",
     "output_type": "stream",
     "text": [
      "Label where deforestation past years is actual date (2019) = 1\n"
     ]
    },
    {
     "name": "stderr",
     "output_type": "stream",
     "text": [
      "ic| np.unique(deforestation_past_years, return_counts=True): (array([   0, 2008, 2009, 2010, 2011, 2012, 2013, 2014, 2015, 2016, 2017,\n",
      "                                                                    2018, 2019, 2020, 2021], dtype=uint16),\n",
      "                                                              array([132185553,   3150503,   4571354,    864429,    903608,   1299506,\n",
      "                                                                      2477971,   1561686,   1459696,    969060,    644976,   2209014,\n",
      "                                                                      2100204,   5257014,   3514616], dtype=int64))\n"
     ]
    },
    {
     "name": "stdout",
     "output_type": "stream",
     "text": [
      "Past deforestation different from 0 (no deforestation)\n"
     ]
    },
    {
     "name": "stderr",
     "output_type": "stream",
     "text": [
      "ic| np.unique(deforestation_past_years, return_counts=True): (array([   0, 2008, 2009, 2010, 2011, 2012, 2013, 2014, 2015, 2016, 2017,\n",
      "                                                                    2018, 2019, 2020, 2021], dtype=uint16),\n",
      "                                                              array([132185553,   3150503,   4571354,    864429,    903608,   1299506,\n",
      "                                                                      2477971,   1561686,   1459696,    969060,    644976,   2209014,\n",
      "                                                                      2100204,   5257014,   3514616], dtype=int64))\n"
     ]
    },
    {
     "name": "stdout",
     "output_type": "stream",
     "text": [
      "Past deforestation before 2008 is 2\n",
      "D:/Jorge/datasets/deforestation/deforestation_before_2008/deforestation_before_2008_para.tif\n"
     ]
    },
    {
     "name": "stderr",
     "output_type": "stream",
     "text": [
      "ic| np.unique(label_past_deforestation_before_2008, return_counts=True): (array([  0, 215], dtype=uint8), array([124211220,  38957970], dtype=int64))\n",
      "ic| np.unique(deforestation_past_years, return_counts=True): (array([   0, 2008, 2009, 2010, 2011, 2012, 2013, 2014, 2015, 2016, 2017,\n",
      "                                                                    2018, 2019, 2020, 2021], dtype=uint16),\n",
      "                                                              array([132185553,   3150503,   4571354,    864429,    903608,   1299506,\n",
      "                                                                      2477971,   1561686,   1459696,    969060,    644976,   2209014,\n",
      "                                                                      2100204,   5257014,   3514616], dtype=int64))\n",
      "ic| label_per_date.shape: (17730, 9203, 1)\n"
     ]
    },
    {
     "name": "stdout",
     "output_type": "stream",
     "text": [
      "Mask label shape:  \n",
      " (17730, 9203, 1) \n",
      " Unique values:  \n",
      " [0 1 2]\n",
      "Tiles size:  3546 2300\n",
      "Mask size:  (17730, 9200)\n"
     ]
    },
    {
     "name": "stderr",
     "output_type": "stream",
     "text": [
      "ic| image_stack.shape: (17730, 9203, 21)\n"
     ]
    },
    {
     "name": "stdout",
     "output_type": "stream",
     "text": [
      "Image shape:  (17730, 9203, 21)\n",
      "mask:  (17730, 9200)\n",
      "image stack:  (17730, 9200, 21)\n",
      "ref : (17730, 9200, 1)\n",
      "Training tiles:  [1, 3, 5, 8, 11, 13, 14, 20]\n",
      "Validation tiles:  [6, 19]\n",
      "Test tiles:  [2, 4, 7, 9, 10, 12, 15, 16, 17, 18]\n"
     ]
    },
    {
     "name": "stderr",
     "output_type": "stream",
     "text": [
      "ic| im_idx_row.shape: (17730, 9200, 1)\n",
      "    im_idx_col.shape: (17730, 9200, 1)\n",
      "ic| im_idx_row.dtype: dtype('uint16')\n",
      "    im_idx_col.dtype: dtype('uint16')\n",
      "ic| im_idx.shape: (17730, 9200, 2), im_idx.dtype: dtype('uint16')\n",
      "ic| coords.shape: (464, 239, 1, 128, 128, 2)\n",
      "    coords.dtype: dtype('uint16')\n",
      "ic| coords.shape: (110896, 2), coords.dtype: dtype('uint16')\n",
      "ic| self.coords_train.shape: (41812, 3)\n",
      "    self.coords_val.shape: (10260, 3)\n"
     ]
    },
    {
     "name": "stdout",
     "output_type": "stream",
     "text": [
      "training samples:  (3753, 3) validation samples:  (1032, 3)\n",
      "time:  0\n",
      "Model: \"model_6\"\n",
      "__________________________________________________________________________________________________\n",
      "Layer (type)                    Output Shape         Param #     Connected to                     \n",
      "==================================================================================================\n",
      "input_enc_net (InputLayer)      [(None, 128, 128, 21 0                                            \n",
      "__________________________________________________________________________________________________\n",
      "res1_net1 (Conv2D)              (None, 128, 128, 16) 3040        input_enc_net[0][0]              \n",
      "__________________________________________________________________________________________________\n",
      "drop_net1 (Dropout)             (None, 128, 128, 16) 0           res1_net1[0][0]                  \n",
      "__________________________________________________________________________________________________\n",
      "res2_net1 (Conv2D)              (None, 128, 128, 16) 2320        drop_net1[0][0]                  \n",
      "__________________________________________________________________________________________________\n",
      "res3_net1 (Conv2D)              (None, 128, 128, 16) 352         input_enc_net[0][0]              \n",
      "__________________________________________________________________________________________________\n",
      "add_36 (Add)                    (None, 128, 128, 16) 0           res2_net1[0][0]                  \n",
      "                                                                 res3_net1[0][0]                  \n",
      "__________________________________________________________________________________________________\n",
      "pool_net1 (MaxPooling2D)        (None, 64, 64, 16)   0           add_36[0][0]                     \n",
      "__________________________________________________________________________________________________\n",
      "res1_net2 (Conv2D)              (None, 64, 64, 32)   4640        pool_net1[0][0]                  \n",
      "__________________________________________________________________________________________________\n",
      "drop_net2 (Dropout)             (None, 64, 64, 32)   0           res1_net2[0][0]                  \n",
      "__________________________________________________________________________________________________\n",
      "res2_net2 (Conv2D)              (None, 64, 64, 32)   9248        drop_net2[0][0]                  \n",
      "__________________________________________________________________________________________________\n",
      "res3_net2 (Conv2D)              (None, 64, 64, 32)   544         pool_net1[0][0]                  \n",
      "__________________________________________________________________________________________________\n",
      "add_37 (Add)                    (None, 64, 64, 32)   0           res2_net2[0][0]                  \n",
      "                                                                 res3_net2[0][0]                  \n",
      "__________________________________________________________________________________________________\n",
      "pool_net2 (MaxPooling2D)        (None, 32, 32, 32)   0           add_37[0][0]                     \n",
      "__________________________________________________________________________________________________\n",
      "res1_net3 (Conv2D)              (None, 32, 32, 64)   18496       pool_net2[0][0]                  \n",
      "__________________________________________________________________________________________________\n",
      "drop_net3 (Dropout)             (None, 32, 32, 64)   0           res1_net3[0][0]                  \n",
      "__________________________________________________________________________________________________\n",
      "res2_net3 (Conv2D)              (None, 32, 32, 64)   36928       drop_net3[0][0]                  \n",
      "__________________________________________________________________________________________________\n",
      "res3_net3 (Conv2D)              (None, 32, 32, 64)   2112        pool_net2[0][0]                  \n",
      "__________________________________________________________________________________________________\n",
      "add_38 (Add)                    (None, 32, 32, 64)   0           res2_net3[0][0]                  \n",
      "                                                                 res3_net3[0][0]                  \n",
      "__________________________________________________________________________________________________\n",
      "pool_net3 (MaxPooling2D)        (None, 16, 16, 64)   0           add_38[0][0]                     \n",
      "__________________________________________________________________________________________________\n",
      "res1_net4 (Conv2D)              (None, 16, 16, 64)   36928       pool_net3[0][0]                  \n",
      "__________________________________________________________________________________________________\n",
      "drop_net4 (Dropout)             (None, 16, 16, 64)   0           res1_net4[0][0]                  \n",
      "__________________________________________________________________________________________________\n",
      "res2_net4 (Conv2D)              (None, 16, 16, 64)   36928       drop_net4[0][0]                  \n",
      "__________________________________________________________________________________________________\n",
      "res3_net4 (Conv2D)              (None, 16, 16, 64)   4160        pool_net3[0][0]                  \n",
      "__________________________________________________________________________________________________\n",
      "add_39 (Add)                    (None, 16, 16, 64)   0           res2_net4[0][0]                  \n",
      "                                                                 res3_net4[0][0]                  \n",
      "__________________________________________________________________________________________________\n",
      "res1_net5 (Conv2D)              (None, 16, 16, 64)   36928       add_39[0][0]                     \n",
      "__________________________________________________________________________________________________\n",
      "drop_net5 (Dropout)             (None, 16, 16, 64)   0           res1_net5[0][0]                  \n",
      "__________________________________________________________________________________________________\n",
      "res2_net5 (Conv2D)              (None, 16, 16, 64)   36928       drop_net5[0][0]                  \n",
      "__________________________________________________________________________________________________\n",
      "res3_net5 (Conv2D)              (None, 16, 16, 64)   4160        add_39[0][0]                     \n",
      "__________________________________________________________________________________________________\n",
      "add_40 (Add)                    (None, 16, 16, 64)   0           res2_net5[0][0]                  \n",
      "                                                                 res3_net5[0][0]                  \n",
      "__________________________________________________________________________________________________\n",
      "res1_net6 (Conv2D)              (None, 16, 16, 64)   36928       add_40[0][0]                     \n",
      "__________________________________________________________________________________________________\n",
      "drop_net6 (Dropout)             (None, 16, 16, 64)   0           res1_net6[0][0]                  \n",
      "__________________________________________________________________________________________________\n",
      "res2_net6 (Conv2D)              (None, 16, 16, 64)   36928       drop_net6[0][0]                  \n",
      "__________________________________________________________________________________________________\n",
      "res3_net6 (Conv2D)              (None, 16, 16, 64)   4160        add_40[0][0]                     \n",
      "__________________________________________________________________________________________________\n",
      "add_41 (Add)                    (None, 16, 16, 64)   0           res2_net6[0][0]                  \n",
      "                                                                 res3_net6[0][0]                  \n",
      "__________________________________________________________________________________________________\n",
      "up_sampling2d_18 (UpSampling2D) (None, 32, 32, 64)   0           add_41[0][0]                     \n",
      "__________________________________________________________________________________________________\n",
      "upsampling_net3 (Conv2D)        (None, 32, 32, 64)   36928       up_sampling2d_18[0][0]           \n",
      "__________________________________________________________________________________________________\n",
      "concatenate3 (Concatenate)      (None, 32, 32, 128)  0           add_38[0][0]                     \n",
      "                                                                 upsampling_net3[0][0]            \n",
      "__________________________________________________________________________________________________\n",
      "up_sampling2d_19 (UpSampling2D) (None, 64, 64, 128)  0           concatenate3[0][0]               \n",
      "__________________________________________________________________________________________________\n",
      "upsampling_net2 (Conv2D)        (None, 64, 64, 32)   36896       up_sampling2d_19[0][0]           \n",
      "__________________________________________________________________________________________________\n",
      "concatenate2 (Concatenate)      (None, 64, 64, 64)   0           add_37[0][0]                     \n",
      "                                                                 upsampling_net2[0][0]            \n",
      "__________________________________________________________________________________________________\n",
      "up_sampling2d_20 (UpSampling2D) (None, 128, 128, 64) 0           concatenate2[0][0]               \n",
      "__________________________________________________________________________________________________\n",
      "upsampling_net1 (Conv2D)        (None, 128, 128, 16) 9232        up_sampling2d_20[0][0]           \n",
      "__________________________________________________________________________________________________\n",
      "concatenate1 (Concatenate)      (None, 128, 128, 32) 0           add_36[0][0]                     \n",
      "                                                                 upsampling_net1[0][0]            \n",
      "__________________________________________________________________________________________________\n",
      "output (Conv2D)                 (None, 128, 128, 3)  99          concatenate1[0][0]               \n",
      "==================================================================================================\n",
      "Total params: 394,883\n",
      "Trainable params: 394,883\n",
      "Non-trainable params: 0\n",
      "__________________________________________________________________________________________________\n"
     ]
    },
    {
     "name": "stderr",
     "output_type": "stream",
     "text": [
      "c:\\Users\\jchamorro\\Anaconda3\\envs\\tf2\\lib\\site-packages\\tensorflow\\python\\keras\\optimizer_v2\\optimizer_v2.py:374: UserWarning: The `lr` argument is deprecated, use `learning_rate` instead.\n",
      "  warnings.warn(\n",
      "c:\\Users\\jchamorro\\Anaconda3\\envs\\tf2\\lib\\site-packages\\tensorflow\\python\\keras\\engine\\training.py:1969: UserWarning: `Model.fit_generator` is deprecated and will be removed in a future version. Please use `Model.fit`, which supports generators.\n",
      "  warnings.warn('`Model.fit_generator` is deprecated and '\n"
     ]
    },
    {
     "name": "stdout",
     "output_type": "stream",
     "text": [
      "Epoch 1/100\n",
      "self.global_step 0.0\n",
      "alpha Tensor(\"loss/add:0\", shape=(None, 128, 128, 3), dtype=float32)\n",
      "u Tensor(\"loss/truediv:0\", shape=(None, 128, 128, 1), dtype=float32)\n",
      "alpha Tensor(\"add:0\", shape=(None, 128, 128, 3), dtype=float32)\n",
      "u Tensor(\"truediv:0\", shape=(None, 128, 128, 1), dtype=float32)\n",
      "K.int_shape(KL_reg) Tensor(\"mul_6:0\", shape=(None, 128, 128, 1), dtype=float32)\n",
      "alpha Tensor(\"add_7:0\", shape=(None, 128, 128, 3), dtype=float32)\n",
      "u Tensor(\"truediv_5:0\", shape=(None, 128, 128, 1), dtype=float32)\n",
      "K.int_shape(KL_reg) Tensor(\"mul_12:0\", shape=(None, 128, 128, 1), dtype=float32)\n",
      "alpha Tensor(\"loss/add:0\", shape=(None, 128, 128, 3), dtype=float32)\n",
      "u Tensor(\"loss/truediv:0\", shape=(None, 128, 128, 1), dtype=float32)\n",
      "alpha Tensor(\"add:0\", shape=(None, 128, 128, 3), dtype=float32)\n",
      "u Tensor(\"truediv:0\", shape=(None, 128, 128, 1), dtype=float32)\n",
      "K.int_shape(KL_reg) Tensor(\"mul_6:0\", shape=(None, 128, 128, 1), dtype=float32)\n",
      "alpha Tensor(\"add_7:0\", shape=(None, 128, 128, 3), dtype=float32)\n",
      "u Tensor(\"truediv_5:0\", shape=(None, 128, 128, 1), dtype=float32)\n",
      "K.int_shape(KL_reg) Tensor(\"mul_12:0\", shape=(None, 128, 128, 1), dtype=float32)\n",
      "351/351 [==============================] - ETA: 0s - loss: 0.2458 - accuracy: 0.8490 - KL_term: 0.0136 - loglikelihood_term: 0.2320 - evidential_success: 51.1223 - evidential_fail: 27.9962 - acc: 0.8491 - annealing_coef: 0.0467 - global_step_get: 175.0000 - annealing_step_get: 3750.0000alpha Tensor(\"loss/add:0\", shape=(None, 128, 128, 3), dtype=float32)\n",
      "u Tensor(\"loss/truediv:0\", shape=(None, 128, 128, 1), dtype=float32)\n",
      "alpha Tensor(\"add:0\", shape=(None, 128, 128, 3), dtype=float32)\n",
      "u Tensor(\"truediv:0\", shape=(None, 128, 128, 1), dtype=float32)\n",
      "K.int_shape(KL_reg) Tensor(\"mul_6:0\", shape=(None, 128, 128, 1), dtype=float32)\n",
      "alpha Tensor(\"add_7:0\", shape=(None, 128, 128, 3), dtype=float32)\n",
      "u Tensor(\"truediv_5:0\", shape=(None, 128, 128, 1), dtype=float32)\n",
      "K.int_shape(KL_reg) Tensor(\"mul_12:0\", shape=(None, 128, 128, 1), dtype=float32)\n",
      "351/351 [==============================] - 35s 92ms/step - loss: 0.2458 - accuracy: 0.8490 - KL_term: 0.0136 - loglikelihood_term: 0.2320 - evidential_success: 51.1223 - evidential_fail: 27.9962 - acc: 0.8491 - annealing_coef: 0.0467 - global_step_get: 175.0000 - annealing_step_get: 3750.0000 - val_loss: 0.1483 - val_accuracy: 0.9205 - val_KL_term: 0.0140 - val_loglikelihood_term: 0.1333 - val_evidential_success: 41.5989 - val_evidential_fail: 7.5376 - val_acc: 0.9210 - val_annealing_coef: 0.0933 - val_global_step_get: 350.0000 - val_annealing_step_get: 3750.0000\n",
      "\n",
      "Epoch 00001: val_loss improved from inf to 0.14830, saving model to D:/Jorge/datasets/deforestation/experiments/exp158/models\\resunet_0.h5\n",
      "Epoch 2/100\n",
      "self.global_step 350.0\n",
      "  1/351 [..............................] - ETA: 27s - loss: 0.1430 - accuracy: 0.9144 - KL_term: 0.0000e+00 - loglikelihood_term: 0.1430 - evidential_success: 53.9332 - evidential_fail: 9.4878 - acc: 0.9144 - annealing_coef: 0.0000e+00 - global_step_get: 0.0000e+00 - annealing_step_get: 3750.0000"
     ]
    },
    {
     "name": "stderr",
     "output_type": "stream",
     "text": [
      "c:\\Users\\jchamorro\\Anaconda3\\envs\\tf2\\lib\\site-packages\\tensorflow\\python\\keras\\utils\\generic_utils.py:494: CustomMaskWarning: Custom mask layers require a config and must override get_config. When loading, the custom mask layer must be passed to the custom_objects argument.\n",
      "  warnings.warn('Custom mask layers require a config and must override '\n"
     ]
    },
    {
     "name": "stdout",
     "output_type": "stream",
     "text": [
      "351/351 [==============================] - 32s 91ms/step - loss: 0.1355 - accuracy: 0.9259 - KL_term: 0.0136 - loglikelihood_term: 0.1218 - evidential_success: 70.6629 - evidential_fail: 11.7266 - acc: 0.9260 - annealing_coef: 0.0933 - global_step_get: 350.0000 - annealing_step_get: 3750.0000 - val_loss: 0.1372 - val_accuracy: 0.9309 - val_KL_term: 0.0169 - val_loglikelihood_term: 0.1191 - val_evidential_success: 57.1152 - val_evidential_fail: 4.9578 - val_acc: 0.9314 - val_annealing_coef: 0.1867 - val_global_step_get: 700.0000 - val_annealing_step_get: 3750.0000\n",
      "\n",
      "Epoch 00002: val_loss improved from 0.14830 to 0.13720, saving model to D:/Jorge/datasets/deforestation/experiments/exp158/models\\resunet_0.h5\n",
      "Epoch 3/100\n",
      "self.global_step 700.0\n",
      "351/351 [==============================] - 32s 91ms/step - loss: 0.1292 - accuracy: 0.9318 - KL_term: 0.0150 - loglikelihood_term: 0.1142 - evidential_success: 89.2670 - evidential_fail: 9.4995 - acc: 0.9317 - annealing_coef: 0.1400 - global_step_get: 525.0000 - annealing_step_get: 3750.0000 - val_loss: 0.1471 - val_accuracy: 0.9285 - val_KL_term: 0.0252 - val_loglikelihood_term: 0.1205 - val_evidential_success: 68.1027 - val_evidential_fail: 4.7921 - val_acc: 0.9291 - val_annealing_coef: 0.2800 - val_global_step_get: 1050.0000 - val_annealing_step_get: 3750.0000\n",
      "\n",
      "Epoch 00003: val_loss did not improve from 0.13720\n",
      "Epoch 4/100\n",
      "self.global_step 1050.0\n",
      "351/351 [==============================] - 32s 91ms/step - loss: 0.1253 - accuracy: 0.9361 - KL_term: 0.0164 - loglikelihood_term: 0.1088 - evidential_success: 95.4469 - evidential_fail: 8.4775 - acc: 0.9361 - annealing_coef: 0.1867 - global_step_get: 700.0000 - annealing_step_get: 3750.0000 - val_loss: 0.1527 - val_accuracy: 0.9284 - val_KL_term: 0.0293 - val_loglikelihood_term: 0.1221 - val_evidential_success: 80.2772 - val_evidential_fail: 4.2513 - val_acc: 0.9290 - val_annealing_coef: 0.3733 - val_global_step_get: 1400.0000 - val_annealing_step_get: 3750.0000\n",
      "\n",
      "Epoch 00004: val_loss did not improve from 0.13720\n",
      "Epoch 5/100\n",
      "self.global_step 1400.0\n",
      "351/351 [==============================] - 32s 90ms/step - loss: 0.1252 - accuracy: 0.9376 - KL_term: 0.0177 - loglikelihood_term: 0.1076 - evidential_success: 96.4274 - evidential_fail: 7.4207 - acc: 0.9375 - annealing_coef: 0.2333 - global_step_get: 875.0000 - annealing_step_get: 3750.0000 - val_loss: 0.1583 - val_accuracy: 0.9296 - val_KL_term: 0.0322 - val_loglikelihood_term: 0.1248 - val_evidential_success: 74.1428 - val_evidential_fail: 3.5882 - val_acc: 0.9302 - val_annealing_coef: 0.4667 - val_global_step_get: 1750.0000 - val_annealing_step_get: 3750.0000\n",
      "\n",
      "Epoch 00005: val_loss did not improve from 0.13720\n",
      "Epoch 6/100\n",
      "self.global_step 1750.0\n",
      "351/351 [==============================] - 32s 90ms/step - loss: 0.1221 - accuracy: 0.9408 - KL_term: 0.0186 - loglikelihood_term: 0.1037 - evidential_success: 97.0283 - evidential_fail: 6.8268 - acc: 0.9407 - annealing_coef: 0.2800 - global_step_get: 1050.0000 - annealing_step_get: 3750.0000 - val_loss: 0.1650 - val_accuracy: 0.9315 - val_KL_term: 0.0454 - val_loglikelihood_term: 0.1185 - val_evidential_success: 73.7352 - val_evidential_fail: 4.3765 - val_acc: 0.9321 - val_annealing_coef: 0.5600 - val_global_step_get: 2100.0000 - val_annealing_step_get: 3750.0000\n",
      "\n",
      "Epoch 00006: val_loss did not improve from 0.13720\n",
      "Epoch 7/100\n",
      "self.global_step 2100.0\n",
      "351/351 [==============================] - 32s 90ms/step - loss: 0.1215 - accuracy: 0.9420 - KL_term: 0.0193 - loglikelihood_term: 0.1021 - evidential_success: 98.0679 - evidential_fail: 6.2418 - acc: 0.9420 - annealing_coef: 0.3267 - global_step_get: 1225.0000 - annealing_step_get: 3750.0000 - val_loss: 0.1814 - val_accuracy: 0.9271 - val_KL_term: 0.0490 - val_loglikelihood_term: 0.1306 - val_evidential_success: 72.5400 - val_evidential_fail: 3.3656 - val_acc: 0.9279 - val_annealing_coef: 0.6533 - val_global_step_get: 2450.0000 - val_annealing_step_get: 3750.0000\n",
      "\n",
      "Epoch 00007: val_loss did not improve from 0.13720\n",
      "Epoch 8/100\n",
      "self.global_step 2450.0\n",
      "351/351 [==============================] - 32s 91ms/step - loss: 0.1198 - accuracy: 0.9438 - KL_term: 0.0199 - loglikelihood_term: 0.0999 - evidential_success: 101.5927 - evidential_fail: 5.9311 - acc: 0.9438 - annealing_coef: 0.3733 - global_step_get: 1400.0000 - annealing_step_get: 3750.0000 - val_loss: 0.1702 - val_accuracy: 0.9315 - val_KL_term: 0.0420 - val_loglikelihood_term: 0.1270 - val_evidential_success: 86.1093 - val_evidential_fail: 3.0188 - val_acc: 0.9321 - val_annealing_coef: 0.7467 - val_global_step_get: 2800.0000 - val_annealing_step_get: 3750.0000\n",
      "\n",
      "Epoch 00008: val_loss did not improve from 0.13720\n",
      "Epoch 9/100\n",
      "self.global_step 2800.0\n",
      "351/351 [==============================] - 32s 90ms/step - loss: 0.1190 - accuracy: 0.9450 - KL_term: 0.0205 - loglikelihood_term: 0.0986 - evidential_success: 106.0018 - evidential_fail: 5.5210 - acc: 0.9449 - annealing_coef: 0.4200 - global_step_get: 1575.0000 - annealing_step_get: 3750.0000 - val_loss: 0.1797 - val_accuracy: 0.9340 - val_KL_term: 0.0526 - val_loglikelihood_term: 0.1255 - val_evidential_success: 82.2255 - val_evidential_fail: 3.2348 - val_acc: 0.9346 - val_annealing_coef: 0.8400 - val_global_step_get: 3150.0000 - val_annealing_step_get: 3750.0000\n",
      "\n",
      "Epoch 00009: val_loss did not improve from 0.13720\n",
      "Epoch 10/100\n",
      "self.global_step 3150.0\n",
      "351/351 [==============================] - 32s 91ms/step - loss: 0.1169 - accuracy: 0.9469 - KL_term: 0.0206 - loglikelihood_term: 0.0962 - evidential_success: 108.6305 - evidential_fail: 5.3421 - acc: 0.9469 - annealing_coef: 0.4667 - global_step_get: 1750.0000 - annealing_step_get: 3750.0000 - val_loss: 0.1836 - val_accuracy: 0.9307 - val_KL_term: 0.0560 - val_loglikelihood_term: 0.1263 - val_evidential_success: 101.1466 - val_evidential_fail: 3.1299 - val_acc: 0.9314 - val_annealing_coef: 0.9333 - val_global_step_get: 3500.0000 - val_annealing_step_get: 3750.0000\n",
      "\n",
      "Epoch 00010: val_loss did not improve from 0.13720\n",
      "Epoch 11/100\n",
      "self.global_step 3500.0\n",
      "351/351 [==============================] - 32s 90ms/step - loss: 0.1175 - accuracy: 0.9472 - KL_term: 0.0213 - loglikelihood_term: 0.0961 - evidential_success: 115.2702 - evidential_fail: 5.0372 - acc: 0.9472 - annealing_coef: 0.5129 - global_step_get: 1925.0000 - annealing_step_get: 3750.0000 - val_loss: 0.2016 - val_accuracy: 0.9267 - val_KL_term: 0.0610 - val_loglikelihood_term: 0.1384 - val_evidential_success: 76.4702 - val_evidential_fail: 2.7668 - val_acc: 0.9275 - val_annealing_coef: 1.0000 - val_global_step_get: 3850.0000 - val_annealing_step_get: 3750.0000 116.7302 - evidential_fail: 5.1134 - acc: 0.9473 - annealing_coef: 0.4899 - global_step_get: 1837.00\n",
      "\n",
      "Epoch 00011: val_loss did not improve from 0.13720\n",
      "Epoch 12/100\n",
      "self.global_step 3850.0\n",
      "351/351 [==============================] - 32s 91ms/step - loss: 0.1156 - accuracy: 0.9487 - KL_term: 0.0213 - loglikelihood_term: 0.0941 - evidential_success: 118.9566 - evidential_fail: 4.7665 - acc: 0.9488 - annealing_coef: 0.5534 - global_step_get: 2100.0000 - annealing_step_get: 3750.0000 - val_loss: 0.2017 - val_accuracy: 0.9305 - val_KL_term: 0.0670 - val_loglikelihood_term: 0.1323 - val_evidential_success: 79.3445 - val_evidential_fail: 3.1539 - val_acc: 0.9312 - val_annealing_coef: 1.0000 - val_global_step_get: 4200.0000 - val_annealing_step_get: 3750.0000\n",
      "\n",
      "Epoch 00012: val_loss did not improve from 0.13720\n",
      "Epoch 00012: early stopping\n",
      "-30.0 -16.0\n"
     ]
    },
    {
     "name": "stderr",
     "output_type": "stream",
     "text": [
      "ic| self.path_models+ '/' + self.method +'_'+str(0)+'.h5': 'D:/Jorge/datasets/deforestation/experiments/exp158/models/resunet_0.h5'\n"
     ]
    },
    {
     "name": "stdout",
     "output_type": "stream",
     "text": [
      "time:  0\n",
      "(54236371,)\n",
      "(array([0, 1], dtype=uint8), array([53470765,   765606], dtype=int64))\n",
      "(17730, 9200)\n",
      "(array([0., 1.], dtype=float32), array([160842871,   2273129], dtype=int64))\n"
     ]
    },
    {
     "name": "stderr",
     "output_type": "stream",
     "text": [
      "ic| self.predicted_unpad.shape: (17730, 9200)\n",
      "    self.predicted.shape: (17730, 9200)\n",
      "ic| predicted_test.shape: (81558000,)\n",
      "ic| predicted_test.shape: (54236371,)\n",
      "ic| np.unique(predicted, return_counts=True): (array([0., 1.], dtype=float32), array([160842871,   2273129], dtype=int64))\n",
      "    np.unique(predicted_larger_than_min_area, return_counts=True): (array([0., 1.], dtype=float32), array([161099998,   2016002], dtype=int64))\n",
      "ic| np.unique(ignored_polygons, return_counts=True): (array([0., 1.], dtype=float32), array([162858873,    257127], dtype=int64))\n",
      "ic| self.f1: 81.49, self.precision: 77.25, self.recall: 86.23\n",
      "ic| self.label_mask_val.shape: (16311600,)\n",
      "ic| self.label_mask_val_valid.shape: (9419709,)\n",
      "ic| f1_val: 85.15\n",
      "    precision_val: 78.56\n",
      "    recall_val: 92.94\n",
      "    mAP_val: 89.14\n"
     ]
    },
    {
     "name": "stdout",
     "output_type": "stream",
     "text": [
      "(array([0., 1.], dtype=float32), array([162378944,    737056], dtype=int64))\n"
     ]
    },
    {
     "name": "stderr",
     "output_type": "stream",
     "text": [
      "ic| self.label_mask.shape: (17730, 9200)\n",
      "ic| self.mask_amazon_ts.shape: (17730, 9200)\n",
      "ic| self.label_mask_test.shape: (81558000,)\n",
      "ic| self.error_mask_test.shape: (54111151,)\n",
      "ic| bounds: (0.0015, 0.9985)\n",
      "c:\\Users\\jchamorro\\Anaconda3\\envs\\tf2\\lib\\site-packages\\scipy\\optimize\\_minimize.py:783: RuntimeWarning: Method 'bounded' does not support relative tolerance in x; defaulting to absolute tolerance.\n",
      "  warn(\"Method 'bounded' does not support relative tolerance in x; \"\n"
     ]
    },
    {
     "name": "stdout",
     "output_type": "stream",
     "text": [
      "0.38232011321635484\n",
      "threshold 0.38232011321635484\n",
      "(52251277,) (52251277,)\n"
     ]
    },
    {
     "name": "stderr",
     "output_type": "stream",
     "text": [
      "ic| label_current_deforestation_test_classified_incorrect.shape: (1859874,)\n",
      "    predicted_test_classified_incorrect.shape: (1859874,)\n"
     ]
    },
    {
     "name": "stdout",
     "output_type": "stream",
     "text": [
      "cm_correct [[51612167    70226]\n",
      " [   26699   542185]]\n"
     ]
    },
    {
     "name": "stderr",
     "output_type": "stream",
     "text": [
      "ic| TP_H + FN_H + FP_H + TN_H: 1859874\n",
      "    len(label_mask_current_deforestation_test): 54111151\n",
      "ic| TP_H + FN_H + FP_H + TN_H: 1859874\n",
      "    len(label_mask_current_deforestation_test): 54111151\n"
     ]
    },
    {
     "name": "stdout",
     "output_type": "stream",
     "text": [
      "cm_incorrect [[1573875  117130]\n",
      " [  74893   93976]]\n",
      "[0.88532864 0.95306776 0.73491399 0.03437136 0.44516025 0.55650238]\n",
      "0.6176798867836452\n",
      "threshold 0.6176798867836452\n",
      "(53771150,) (53771150,)\n"
     ]
    },
    {
     "name": "stderr",
     "output_type": "stream",
     "text": [
      "ic| label_current_deforestation_test_classified_incorrect.shape: (340001,)\n",
      "    predicted_test_classified_incorrect.shape: (340001,)\n",
      "ic| TP_H + FN_H + FP_H + TN_H: 340001\n",
      "    len(label_mask_current_deforestation_test): 54111151\n",
      "ic| TP_H + FN_H + FP_H + TN_H: 340001\n",
      "    len(label_mask_current_deforestation_test): 54111151\n"
     ]
    },
    {
     "name": "stdout",
     "output_type": "stream",
     "text": [
      "cm_correct [[52898897   173716]\n",
      " [   73028   625509]]\n",
      "cm_incorrect [[287145  13640]\n",
      " [ 28564  10652]]\n",
      "[0.78264444 0.89545579 0.84785694 0.00628338 0.43849827 0.27162383]\n",
      "0.23685977356729035\n",
      "threshold 0.23685977356729035\n",
      "(50615607,) (50615607,)\n"
     ]
    },
    {
     "name": "stderr",
     "output_type": "stream",
     "text": [
      "ic| label_current_deforestation_test_classified_incorrect.shape: (3495544,)\n",
      "    predicted_test_classified_incorrect.shape: (3495544,)\n"
     ]
    },
    {
     "name": "stdout",
     "output_type": "stream",
     "text": [
      "cm_correct [[50144243    20246]\n",
      " [   15792   435326]]\n"
     ]
    },
    {
     "name": "stderr",
     "output_type": "stream",
     "text": [
      "ic| TP_H + FN_H + FP_H + TN_H: 3495544\n",
      "    len(label_mask_current_deforestation_test): 54111151\n",
      "ic| TP_H + FN_H + FP_H + TN_H: 3495544\n",
      "    len(label_mask_current_deforestation_test): 54111151\n"
     ]
    },
    {
     "name": "stdout",
     "output_type": "stream",
     "text": [
      "cm_incorrect [[3041799  167110]\n",
      " [  85800  200835]]\n",
      "[0.95555917 0.96499364 0.59007012 0.06459933 0.54582886 0.70066461]\n",
      "0.4460329034354955\n",
      "threshold 0.4460329034354955\n",
      "(52747803,) (52747803,)\n"
     ]
    },
    {
     "name": "stderr",
     "output_type": "stream",
     "text": [
      "ic| label_current_deforestation_test_classified_incorrect.shape: (1363348,)\n",
      "    predicted_test_classified_incorrect.shape: (1363348,)\n",
      "ic| TP_H + FN_H + FP_H + TN_H: 1363348\n",
      "    len(label_mask_current_deforestation_test): 54111151\n"
     ]
    },
    {
     "name": "stdout",
     "output_type": "stream",
     "text": [
      "cm_correct [[52052312    94336]\n",
      " [   32327   568828]]\n",
      "cm_incorrect [[1133730   93020]\n",
      " [  69265   67333]]\n"
     ]
    },
    {
     "name": "stderr",
     "output_type": "stream",
     "text": [
      "ic| TP_H + FN_H + FP_H + TN_H: 1363348\n",
      "    len(label_mask_current_deforestation_test): 54111151\n"
     ]
    },
    {
     "name": "stdout",
     "output_type": "stream",
     "text": [
      "[0.85774861 0.94622518 0.7710277  0.02519532 0.41990483 0.49292815]\n",
      "0.4064345997657033\n",
      "threshold 0.4064345997657033\n",
      "(52452910,) (52452910,)\n"
     ]
    },
    {
     "name": "stderr",
     "output_type": "stream",
     "text": [
      "ic| label_current_deforestation_test_classified_incorrect.shape: (1658241,)\n",
      "    predicted_test_classified_incorrect.shape: (1658241,)\n",
      "ic"
     ]
    },
    {
     "name": "stdout",
     "output_type": "stream",
     "text": [
      "cm_correct [[51792572    78819]\n",
      " [   28677   552842]]\n",
      "cm_incorrect [[1393470  108537]\n",
      " [  72915   83319]]\n"
     ]
    },
    {
     "name": "stderr",
     "output_type": "stream",
     "text": [
      "| TP_H + FN_H + FP_H + TN_H: 1658241\n",
      "    len(label_mask_current_deforestation_test): 54111151\n",
      "ic| TP_H + FN_H + FP_H + TN_H: 1658241\n",
      "    len(label_mask_current_deforestation_test): 54111151\n"
     ]
    },
    {
     "name": "stdout",
     "output_type": "stream",
     "text": [
      "[0.87521946 0.95068605 0.7493592  0.03064509 0.43427883 0.53329621]\n",
      "0.4133418303104436\n",
      "threshold 0.4133418303104436\n",
      "(52507974,) (52507974,)\n"
     ]
    },
    {
     "name": "stderr",
     "output_type": "stream",
     "text": [
      "ic| label_current_deforestation_test_classified_incorrect.shape: (1603177,)\n",
      "    predicted_test_classified_incorrect.shape: (1603177,)\n",
      "ic"
     ]
    },
    {
     "name": "stdout",
     "output_type": "stream",
     "text": [
      "cm_correct [[51841622    81387]\n",
      " [   29315   555650]]\n",
      "cm_incorrect [[1344420  105969]\n",
      " [  72277   80511]]\n"
     ]
    },
    {
     "name": "stderr",
     "output_type": "stream",
     "text": [
      "| TP_H + FN_H + FP_H + TN_H: 1603177\n",
      "    len(label_mask_current_deforestation_test): 54111151\n",
      "ic| TP_H + FN_H + FP_H + TN_H: 1603177\n",
      "    len(label_mask_current_deforestation_test): 54111151\n"
     ]
    },
    {
     "name": "stdout",
     "output_type": "stream",
     "text": [
      "[0.87224133 0.94988589 0.75316535 0.02962748 0.43174067 0.52694583]\n",
      "0.4152077018237977\n",
      "threshold 0.4152077018237977\n",
      "(52522662,) (52522662,)\n"
     ]
    },
    {
     "name": "stderr",
     "output_type": "stream",
     "text": [
      "ic| label_current_deforestation_test_classified_incorrect.shape: (1588489,)\n",
      "    predicted_test_classified_incorrect.shape: (1588489,)\n",
      "ic"
     ]
    },
    {
     "name": "stdout",
     "output_type": "stream",
     "text": [
      "cm_correct [[51854665    82083]\n",
      " [   29479   556435]]\n",
      "cm_incorrect [[1331377  105273]\n",
      " [  72113   79726]]\n"
     ]
    },
    {
     "name": "stderr",
     "output_type": "stream",
     "text": [
      "| TP_H + FN_H + FP_H + TN_H: 1588489\n",
      "    len(label_mask_current_deforestation_test): 54111151\n",
      "ic| TP_H + FN_H + FP_H + TN_H: 1588489\n",
      "    len(label_mask_current_deforestation_test): 54111151\n"
     ]
    },
    {
     "name": "stdout",
     "output_type": "stream",
     "text": [
      "[0.87144763 0.94968716 0.7542294  0.02935604 0.43095368 0.52506932]\n",
      "0.41082419559803857\n",
      "threshold 0.41082419559803857\n",
      "(52487853,) (52487853,)\n"
     ]
    },
    {
     "name": "stderr",
     "output_type": "stream",
     "text": [
      "ic| label_current_deforestation_test_classified_incorrect.shape: (1623298,)\n",
      "    predicted_test_classified_incorrect.shape: (1623298,)\n",
      "ic"
     ]
    },
    {
     "name": "stdout",
     "output_type": "stream",
     "text": [
      "cm_correct [[51823742    80436]\n",
      " [   29069   554606]]\n",
      "cm_incorrect [[1362300  106920]\n",
      " [  72523   81555]]\n"
     ]
    },
    {
     "name": "stderr",
     "output_type": "stream",
     "text": [
      "| TP_H + FN_H + FP_H + TN_H: 1623298\n",
      "    len(label_mask_current_deforestation_test): 54111151\n",
      "ic| TP_H + FN_H + FP_H + TN_H: 1623298\n",
      "    len(label_mask_current_deforestation_test): 54111151\n"
     ]
    },
    {
     "name": "stdout",
     "output_type": "stream",
     "text": [
      "[0.87333751 0.9501966  0.75175025 0.02999932 0.43270991 0.52930983]\n",
      "0.40914751918696135\n",
      "threshold 0.40914751918696135\n",
      "(52474802,) (52474802,)\n"
     ]
    },
    {
     "name": "stderr",
     "output_type": "stream",
     "text": [
      "ic| label_current_deforestation_test_classified_incorrect.shape: (1636349,)\n",
      "    predicted_test_classified_incorrect.shape: (1636349,)\n",
      "ic"
     ]
    },
    {
     "name": "stdout",
     "output_type": "stream",
     "text": [
      "cm_correct [[51812096    79818]\n",
      " [   28930   553958]]\n",
      "cm_incorrect [[1373946  107538]\n",
      " [  72662   82203]]\n"
     ]
    },
    {
     "name": "stderr",
     "output_type": "stream",
     "text": [
      "| TP_H + FN_H + FP_H + TN_H: 1636349\n",
      "    len(label_mask_current_deforestation_test): 54111151\n",
      "ic| TP_H + FN_H + FP_H + TN_H: 1636349\n",
      "    len(label_mask_current_deforestation_test): 54111151\n"
     ]
    },
    {
     "name": "stdout",
     "output_type": "stream",
     "text": [
      "[0.8740596  0.95036782 0.7508719  0.03024051 0.43323794 0.53080425]\n",
      "0.41101765584570055\n",
      "threshold 0.41101765584570055\n",
      "(52489432,) (52489432,)\n"
     ]
    },
    {
     "name": "stderr",
     "output_type": "stream",
     "text": [
      "ic| label_current_deforestation_test_classified_incorrect.shape: (1621719,)\n",
      "    predicted_test_classified_incorrect.shape: (1621719,)\n",
      "ic"
     ]
    },
    {
     "name": "stdout",
     "output_type": "stream",
     "text": [
      "cm_correct [[51825140    80516]\n",
      " [   29091   554685]]\n",
      "cm_incorrect [[1360902  106840]\n",
      " [  72501   81476]]\n"
     ]
    },
    {
     "name": "stderr",
     "output_type": "stream",
     "text": [
      "| TP_H + FN_H + FP_H + TN_H: 1621719\n",
      "    len(label_mask_current_deforestation_test): 54111151\n",
      "ic| TP_H + FN_H + FP_H + TN_H: 1621719\n",
      "    len(label_mask_current_deforestation_test): 54111151\n"
     ]
    },
    {
     "name": "stdout",
     "output_type": "stream",
     "text": [
      "[0.87324327 0.95016753 0.75185733 0.02997014 0.43265575 0.52914396]\n",
      "0.4104409960468209\n",
      "threshold 0.4104409960468209\n",
      "(52484919,) (52484919,)\n"
     ]
    },
    {
     "name": "stderr",
     "output_type": "stream",
     "text": [
      "ic| label_current_deforestation_test_classified_incorrect.shape: (1626232,)\n",
      "    predicted_test_classified_incorrect.shape: (1626232,)\n"
     ]
    },
    {
     "name": "stdout",
     "output_type": "stream",
     "text": [
      "cm_correct [[51821136    80301]\n",
      " [   29028   554454]]\n"
     ]
    },
    {
     "name": "stderr",
     "output_type": "stream",
     "text": [
      "ic| TP_H + FN_H + FP_H + TN_H: 1626232\n",
      "    len(label_mask_current_deforestation_test): 54111151\n",
      "ic| TP_H + FN_H + FP_H + TN_H: 1626232\n",
      "    len(label_mask_current_deforestation_test): 54111151\n"
     ]
    },
    {
     "name": "stdout",
     "output_type": "stream",
     "text": [
      "cm_incorrect [[1364906  107055]\n",
      " [  72564   81707]]\n",
      "[0.87349292 0.95025039 0.75154422 0.03005355 0.43285725 0.52963292]\n",
      "0.4107703406480584\n",
      "threshold 0.4107703406480584\n",
      "(52487462,) (52487462,)\n"
     ]
    },
    {
     "name": "stderr",
     "output_type": "stream",
     "text": [
      "ic| label_current_deforestation_test_classified_incorrect.shape: (1623689,)\n",
      "    predicted_test_classified_incorrect.shape: (1623689,)\n",
      "ic"
     ]
    },
    {
     "name": "stdout",
     "output_type": "stream",
     "text": [
      "cm_correct [[51823399    80410]\n",
      " [   29061   554592]]\n",
      "cm_incorrect [[1362643  106946]\n",
      " [  72531   81569]]\n"
     ]
    },
    {
     "name": "stderr",
     "output_type": "stream",
     "text": [
      "| TP_H + FN_H + FP_H + TN_H: 1623689\n",
      "    len(label_mask_current_deforestation_test): 54111151\n",
      "ic| TP_H + FN_H + FP_H + TN_H: 1623689\n",
      "    len(label_mask_current_deforestation_test): 54111151\n"
     ]
    },
    {
     "name": "stdout",
     "output_type": "stream",
     "text": [
      "[0.87337048 0.95020843 0.75173127 0.03000655 0.43269236 0.52932511]\n",
      "0.41085753502487943\n",
      "threshold 0.41085753502487943\n",
      "(52488124,) (52488124,)\n"
     ]
    },
    {
     "name": "stderr",
     "output_type": "stream",
     "text": [
      "ic| label_current_deforestation_test_classified_incorrect.shape: (1623027,)\n",
      "    predicted_test_classified_incorrect.shape: (1623027,)\n",
      "ic"
     ]
    },
    {
     "name": "stdout",
     "output_type": "stream",
     "text": [
      "cm_correct [[51823987    80451]\n",
      " [   29070   554616]]\n",
      "cm_incorrect [[1362055  106905]\n",
      " [  72522   81545]]\n"
     ]
    },
    {
     "name": "stderr",
     "output_type": "stream",
     "text": [
      "| TP_H + FN_H + FP_H + TN_H: 1623027\n",
      "    len(label_mask_current_deforestation_test): 54111151\n",
      "ic| TP_H + FN_H + FP_H + TN_H: 1623027\n",
      "    len(label_mask_current_deforestation_test): 54111151\n",
      "ic| self.threshold_optimal: 0.41082419559803857\n"
     ]
    },
    {
     "name": "stdout",
     "output_type": "stream",
     "text": [
      "[0.87331888 0.95019582 0.7517638  0.02999432 0.43271425 0.52928271]\n",
      "threshold 0.41082419559803857\n",
      "(52487853,) (52487853,)\n"
     ]
    },
    {
     "name": "stderr",
     "output_type": "stream",
     "text": [
      "ic| label_current_deforestation_test_classified_incorrect.shape: (1623298,)\n",
      "    predicted_test_classified_incorrect.shape: (1623298,)\n",
      "ic"
     ]
    },
    {
     "name": "stdout",
     "output_type": "stream",
     "text": [
      "cm_correct [[51823742    80436]\n",
      " [   29069   554606]]\n",
      "cm_incorrect [[1362300  106920]\n",
      " [  72523   81555]]\n"
     ]
    },
    {
     "name": "stderr",
     "output_type": "stream",
     "text": [
      "| TP_H + FN_H + FP_H + TN_H: 1623298\n",
      "    len(label_mask_current_deforestation_test): 54111151\n",
      "ic| TP_H + FN_H + FP_H + TN_H: 1623298\n",
      "    len(label_mask_current_deforestation_test): 54111151\n"
     ]
    },
    {
     "name": "stdout",
     "output_type": "stream",
     "text": [
      "[0.87333751 0.9501966  0.75175025 0.02999932 0.43270991 0.52930983]\n",
      "threshold 0.41082419559803857\n",
      "(54111151,) (54111151,)\n"
     ]
    },
    {
     "name": "stderr",
     "output_type": "stream",
     "text": [
      "ic| self.m_optimal: {'AA': array([0.02999932]),\n",
      "                     'f1': 81.49,\n",
      "                     'f1_H': array([0.47615989]),\n",
      "                     'f1_L': array([0.91014731]),\n",
      "                     'precision_H': array([0.43270991]),\n",
      "                     'precision_L': array([0.87333751]),\n",
      "                     'recall_H': array([0.52930983]),\n",
      "                     'recall_L': array([0.9501966]),\n",
      "                     'recall_Ltotal': array([0.75175025])}\n",
      "ic| self.m_audited_optimal: {'f1': array([0.92828153]),\n",
      "                             'precision': array([0.89806873]),\n",
      "                             'recall': array([0.96059792])}\n"
     ]
    },
    {
     "name": "stdout",
     "output_type": "stream",
     "text": [
      "cm_audited [[53292962    80436]\n",
      " [   29069   708684]]\n",
      "[0.89806873 0.96059792]\n",
      "D:/Jorge/datasets/deforestation/Para/deforestation_past_years.tif\n",
      "Loaded deforestation past years\n"
     ]
    },
    {
     "name": "stderr",
     "output_type": "stream",
     "text": [
      "ic| np.unique(deforestation_past_years, return_counts=True): (array([   0, 2008, 2009, 2010, 2011, 2012, 2013, 2014, 2015, 2016, 2017,\n",
      "                                                                    2018, 2019, 2020, 2021], dtype=uint16),\n",
      "                                                              array([132185553,   3150503,   4571354,    864429,    903608,   1299506,\n",
      "                                                                      2477971,   1561686,   1459696,    969060,    644976,   2209014,\n",
      "                                                                      2100204,   5257014,   3514616], dtype=int64))\n"
     ]
    },
    {
     "name": "stdout",
     "output_type": "stream",
     "text": [
      "Label where deforestation past years is actual date (2019) = 1\n"
     ]
    },
    {
     "name": "stderr",
     "output_type": "stream",
     "text": [
      "ic| np.unique(deforestation_past_years, return_counts=True): (array([   0, 2008, 2009, 2010, 2011, 2012, 2013, 2014, 2015, 2016, 2017,\n",
      "                                                                    2018, 2019, 2020, 2021], dtype=uint16),\n",
      "                                                              array([132185553,   3150503,   4571354,    864429,    903608,   1299506,\n",
      "                                                                      2477971,   1561686,   1459696,    969060,    644976,   2209014,\n",
      "                                                                      2100204,   5257014,   3514616], dtype=int64))\n"
     ]
    },
    {
     "name": "stdout",
     "output_type": "stream",
     "text": [
      "Past deforestation different from 0 (no deforestation)\n"
     ]
    },
    {
     "name": "stderr",
     "output_type": "stream",
     "text": [
      "ic| np.unique(deforestation_past_years, return_counts=True): (array([   0, 2008, 2009, 2010, 2011, 2012, 2013, 2014, 2015, 2016, 2017,\n",
      "                                                                    2018, 2019, 2020, 2021], dtype=uint16),\n",
      "                                                              array([132185553,   3150503,   4571354,    864429,    903608,   1299506,\n",
      "                                                                      2477971,   1561686,   1459696,    969060,    644976,   2209014,\n",
      "                                                                      2100204,   5257014,   3514616], dtype=int64))\n"
     ]
    },
    {
     "name": "stdout",
     "output_type": "stream",
     "text": [
      "Past deforestation before 2008 is 2\n",
      "D:/Jorge/datasets/deforestation/deforestation_before_2008/deforestation_before_2008_para.tif\n"
     ]
    },
    {
     "name": "stderr",
     "output_type": "stream",
     "text": [
      "ic| np.unique(label_past_deforestation_before_2008, return_counts=True): (array([  0, 215], dtype=uint8), array([124211220,  38957970], dtype=int64))\n",
      "ic| np.unique(deforestation_past_years, return_counts=True): (array([   0, 2008, 2009, 2010, 2011, 2012, 2013, 2014, 2015, 2016, 2017,\n",
      "                                                                    2018, 2019, 2020, 2021], dtype=uint16),\n",
      "                                                              array([132185553,   3150503,   4571354,    864429,    903608,   1299506,\n",
      "                                                                      2477971,   1561686,   1459696,    969060,    644976,   2209014,\n",
      "                                                                      2100204,   5257014,   3514616], dtype=int64))\n",
      "ic| label_per_date.shape: (17730, 9203, 1)\n"
     ]
    },
    {
     "name": "stdout",
     "output_type": "stream",
     "text": [
      "Mask label shape:  \n",
      " (17730, 9203, 1) \n",
      " Unique values:  \n",
      " [0 1 2]\n",
      "Tiles size:  3546 2300\n",
      "Mask size:  (17730, 9200)\n"
     ]
    },
    {
     "name": "stderr",
     "output_type": "stream",
     "text": [
      "ic| image_stack.shape: (17730, 9203, 21)\n"
     ]
    },
    {
     "name": "stdout",
     "output_type": "stream",
     "text": [
      "Image shape:  (17730, 9203, 21)\n",
      "mask:  (17730, 9200)\n",
      "image stack:  (17730, 9200, 21)\n",
      "ref : (17730, 9200, 1)\n",
      "Training tiles:  [1, 3, 5, 8, 11, 13, 14, 20]\n",
      "Validation tiles:  [6, 19]\n",
      "Test tiles:  [2, 4, 7, 9, 10, 12, 15, 16, 17, 18]\n"
     ]
    },
    {
     "name": "stderr",
     "output_type": "stream",
     "text": [
      "ic| im_idx_row.shape: (17730, 9200, 1)\n",
      "    im_idx_col.shape: (17730, 9200, 1)\n",
      "ic| im_idx_row.dtype: dtype('uint16')\n",
      "    im_idx_col.dtype: dtype('uint16')\n",
      "ic| im_idx.shape: (17730, 9200, 2), im_idx.dtype: dtype('uint16')\n",
      "ic| coords.shape: (464, 239, 1, 128, 128, 2)\n",
      "    coords.dtype: dtype('uint16')\n",
      "ic| coords.shape: (110896, 2), coords.dtype: dtype('uint16')\n",
      "ic| self.coords_train.shape: (41812, 3)\n",
      "    self.coords_val.shape: (10260, 3)\n"
     ]
    },
    {
     "name": "stdout",
     "output_type": "stream",
     "text": [
      "training samples:  (3753, 3) validation samples:  (1032, 3)\n",
      "time:  0\n",
      "Model: \"model_8\"\n",
      "__________________________________________________________________________________________________\n",
      "Layer (type)                    Output Shape         Param #     Connected to                     \n",
      "==================================================================================================\n",
      "input_enc_net (InputLayer)      [(None, 128, 128, 21 0                                            \n",
      "__________________________________________________________________________________________________\n",
      "res1_net1 (Conv2D)              (None, 128, 128, 16) 3040        input_enc_net[0][0]              \n",
      "__________________________________________________________________________________________________\n",
      "drop_net1 (Dropout)             (None, 128, 128, 16) 0           res1_net1[0][0]                  \n",
      "__________________________________________________________________________________________________\n",
      "res2_net1 (Conv2D)              (None, 128, 128, 16) 2320        drop_net1[0][0]                  \n",
      "__________________________________________________________________________________________________\n",
      "res3_net1 (Conv2D)              (None, 128, 128, 16) 352         input_enc_net[0][0]              \n",
      "__________________________________________________________________________________________________\n",
      "add_48 (Add)                    (None, 128, 128, 16) 0           res2_net1[0][0]                  \n",
      "                                                                 res3_net1[0][0]                  \n",
      "__________________________________________________________________________________________________\n",
      "pool_net1 (MaxPooling2D)        (None, 64, 64, 16)   0           add_48[0][0]                     \n",
      "__________________________________________________________________________________________________\n",
      "res1_net2 (Conv2D)              (None, 64, 64, 32)   4640        pool_net1[0][0]                  \n",
      "__________________________________________________________________________________________________\n",
      "drop_net2 (Dropout)             (None, 64, 64, 32)   0           res1_net2[0][0]                  \n",
      "__________________________________________________________________________________________________\n",
      "res2_net2 (Conv2D)              (None, 64, 64, 32)   9248        drop_net2[0][0]                  \n",
      "__________________________________________________________________________________________________\n",
      "res3_net2 (Conv2D)              (None, 64, 64, 32)   544         pool_net1[0][0]                  \n",
      "__________________________________________________________________________________________________\n",
      "add_49 (Add)                    (None, 64, 64, 32)   0           res2_net2[0][0]                  \n",
      "                                                                 res3_net2[0][0]                  \n",
      "__________________________________________________________________________________________________\n",
      "pool_net2 (MaxPooling2D)        (None, 32, 32, 32)   0           add_49[0][0]                     \n",
      "__________________________________________________________________________________________________\n",
      "res1_net3 (Conv2D)              (None, 32, 32, 64)   18496       pool_net2[0][0]                  \n",
      "__________________________________________________________________________________________________\n",
      "drop_net3 (Dropout)             (None, 32, 32, 64)   0           res1_net3[0][0]                  \n",
      "__________________________________________________________________________________________________\n",
      "res2_net3 (Conv2D)              (None, 32, 32, 64)   36928       drop_net3[0][0]                  \n",
      "__________________________________________________________________________________________________\n",
      "res3_net3 (Conv2D)              (None, 32, 32, 64)   2112        pool_net2[0][0]                  \n",
      "__________________________________________________________________________________________________\n",
      "add_50 (Add)                    (None, 32, 32, 64)   0           res2_net3[0][0]                  \n",
      "                                                                 res3_net3[0][0]                  \n",
      "__________________________________________________________________________________________________\n",
      "pool_net3 (MaxPooling2D)        (None, 16, 16, 64)   0           add_50[0][0]                     \n",
      "__________________________________________________________________________________________________\n",
      "res1_net4 (Conv2D)              (None, 16, 16, 64)   36928       pool_net3[0][0]                  \n",
      "__________________________________________________________________________________________________\n",
      "drop_net4 (Dropout)             (None, 16, 16, 64)   0           res1_net4[0][0]                  \n",
      "__________________________________________________________________________________________________\n",
      "res2_net4 (Conv2D)              (None, 16, 16, 64)   36928       drop_net4[0][0]                  \n",
      "__________________________________________________________________________________________________\n",
      "res3_net4 (Conv2D)              (None, 16, 16, 64)   4160        pool_net3[0][0]                  \n",
      "__________________________________________________________________________________________________\n",
      "add_51 (Add)                    (None, 16, 16, 64)   0           res2_net4[0][0]                  \n",
      "                                                                 res3_net4[0][0]                  \n",
      "__________________________________________________________________________________________________\n",
      "res1_net5 (Conv2D)              (None, 16, 16, 64)   36928       add_51[0][0]                     \n",
      "__________________________________________________________________________________________________\n",
      "drop_net5 (Dropout)             (None, 16, 16, 64)   0           res1_net5[0][0]                  \n",
      "__________________________________________________________________________________________________\n",
      "res2_net5 (Conv2D)              (None, 16, 16, 64)   36928       drop_net5[0][0]                  \n",
      "__________________________________________________________________________________________________\n",
      "res3_net5 (Conv2D)              (None, 16, 16, 64)   4160        add_51[0][0]                     \n",
      "__________________________________________________________________________________________________\n",
      "add_52 (Add)                    (None, 16, 16, 64)   0           res2_net5[0][0]                  \n",
      "                                                                 res3_net5[0][0]                  \n",
      "__________________________________________________________________________________________________\n",
      "res1_net6 (Conv2D)              (None, 16, 16, 64)   36928       add_52[0][0]                     \n",
      "__________________________________________________________________________________________________\n",
      "drop_net6 (Dropout)             (None, 16, 16, 64)   0           res1_net6[0][0]                  \n",
      "__________________________________________________________________________________________________\n",
      "res2_net6 (Conv2D)              (None, 16, 16, 64)   36928       drop_net6[0][0]                  \n",
      "__________________________________________________________________________________________________\n",
      "res3_net6 (Conv2D)              (None, 16, 16, 64)   4160        add_52[0][0]                     \n",
      "__________________________________________________________________________________________________\n",
      "add_53 (Add)                    (None, 16, 16, 64)   0           res2_net6[0][0]                  \n",
      "                                                                 res3_net6[0][0]                  \n",
      "__________________________________________________________________________________________________\n",
      "up_sampling2d_24 (UpSampling2D) (None, 32, 32, 64)   0           add_53[0][0]                     \n",
      "__________________________________________________________________________________________________\n",
      "upsampling_net3 (Conv2D)        (None, 32, 32, 64)   36928       up_sampling2d_24[0][0]           \n",
      "__________________________________________________________________________________________________\n",
      "concatenate3 (Concatenate)      (None, 32, 32, 128)  0           add_50[0][0]                     \n",
      "                                                                 upsampling_net3[0][0]            \n",
      "__________________________________________________________________________________________________\n",
      "up_sampling2d_25 (UpSampling2D) (None, 64, 64, 128)  0           concatenate3[0][0]               \n",
      "__________________________________________________________________________________________________\n",
      "upsampling_net2 (Conv2D)        (None, 64, 64, 32)   36896       up_sampling2d_25[0][0]           \n",
      "__________________________________________________________________________________________________\n",
      "concatenate2 (Concatenate)      (None, 64, 64, 64)   0           add_49[0][0]                     \n",
      "                                                                 upsampling_net2[0][0]            \n",
      "__________________________________________________________________________________________________\n",
      "up_sampling2d_26 (UpSampling2D) (None, 128, 128, 64) 0           concatenate2[0][0]               \n",
      "__________________________________________________________________________________________________\n",
      "upsampling_net1 (Conv2D)        (None, 128, 128, 16) 9232        up_sampling2d_26[0][0]           \n",
      "__________________________________________________________________________________________________\n",
      "concatenate1 (Concatenate)      (None, 128, 128, 32) 0           add_48[0][0]                     \n",
      "                                                                 upsampling_net1[0][0]            \n",
      "__________________________________________________________________________________________________\n",
      "output (Conv2D)                 (None, 128, 128, 3)  99          concatenate1[0][0]               \n",
      "==================================================================================================\n",
      "Total params: 394,883\n",
      "Trainable params: 394,883\n",
      "Non-trainable params: 0\n",
      "__________________________________________________________________________________________________\n"
     ]
    },
    {
     "name": "stderr",
     "output_type": "stream",
     "text": [
      "c:\\Users\\jchamorro\\Anaconda3\\envs\\tf2\\lib\\site-packages\\tensorflow\\python\\keras\\optimizer_v2\\optimizer_v2.py:374: UserWarning: The `lr` argument is deprecated, use `learning_rate` instead.\n",
      "  warnings.warn(\n",
      "c:\\Users\\jchamorro\\Anaconda3\\envs\\tf2\\lib\\site-packages\\tensorflow\\python\\keras\\engine\\training.py:1969: UserWarning: `Model.fit_generator` is deprecated and will be removed in a future version. Please use `Model.fit`, which supports generators.\n",
      "  warnings.warn('`Model.fit_generator` is deprecated and '\n"
     ]
    },
    {
     "name": "stdout",
     "output_type": "stream",
     "text": [
      "Epoch 1/100\n",
      "self.global_step 0.0\n",
      "alpha Tensor(\"loss/add:0\", shape=(None, 128, 128, 3), dtype=float32)\n",
      "u Tensor(\"loss/truediv:0\", shape=(None, 128, 128, 1), dtype=float32)\n",
      "alpha Tensor(\"add:0\", shape=(None, 128, 128, 3), dtype=float32)\n",
      "u Tensor(\"truediv:0\", shape=(None, 128, 128, 1), dtype=float32)\n",
      "K.int_shape(KL_reg) Tensor(\"mul_6:0\", shape=(None, 128, 128, 1), dtype=float32)\n",
      "alpha Tensor(\"add_7:0\", shape=(None, 128, 128, 3), dtype=float32)\n",
      "u Tensor(\"truediv_5:0\", shape=(None, 128, 128, 1), dtype=float32)\n",
      "K.int_shape(KL_reg) Tensor(\"mul_12:0\", shape=(None, 128, 128, 1), dtype=float32)\n",
      "alpha Tensor(\"loss/add:0\", shape=(None, 128, 128, 3), dtype=float32)\n",
      "u Tensor(\"loss/truediv:0\", shape=(None, 128, 128, 1), dtype=float32)\n",
      "alpha Tensor(\"add:0\", shape=(None, 128, 128, 3), dtype=float32)\n",
      "u Tensor(\"truediv:0\", shape=(None, 128, 128, 1), dtype=float32)\n",
      "K.int_shape(KL_reg) Tensor(\"mul_6:0\", shape=(None, 128, 128, 1), dtype=float32)\n",
      "alpha Tensor(\"add_7:0\", shape=(None, 128, 128, 3), dtype=float32)\n",
      "u Tensor(\"truediv_5:0\", shape=(None, 128, 128, 1), dtype=float32)\n",
      "K.int_shape(KL_reg) Tensor(\"mul_12:0\", shape=(None, 128, 128, 1), dtype=float32)\n",
      "351/351 [==============================] - ETA: 0s - loss: 0.8333 - accuracy: 0.4011 - KL_term: -5.5631e-08 - loglikelihood_term: 0.8333 - evidential_success: 3.1046e-05 - evidential_fail: 3.5824e-05 - acc: 0.4013 - annealing_coef: 0.0467 - global_step_get: 175.0000 - annealing_step_get: 3750.0000alpha Tensor(\"loss/add:0\", shape=(None, 128, 128, 3), dtype=float32)\n",
      "u Tensor(\"loss/truediv:0\", shape=(None, 128, 128, 1), dtype=float32)\n",
      "alpha Tensor(\"add:0\", shape=(None, 128, 128, 3), dtype=float32)\n",
      "u Tensor(\"truediv:0\", shape=(None, 128, 128, 1), dtype=float32)\n",
      "K.int_shape(KL_reg) Tensor(\"mul_6:0\", shape=(None, 128, 128, 1), dtype=float32)\n",
      "alpha Tensor(\"add_7:0\", shape=(None, 128, 128, 3), dtype=float32)\n",
      "u Tensor(\"truediv_5:0\", shape=(None, 128, 128, 1), dtype=float32)\n",
      "K.int_shape(KL_reg) Tensor(\"mul_12:0\", shape=(None, 128, 128, 1), dtype=float32)\n",
      "351/351 [==============================] - 35s 92ms/step - loss: 0.8333 - accuracy: 0.4011 - KL_term: -5.5631e-08 - loglikelihood_term: 0.8333 - evidential_success: 3.1046e-05 - evidential_fail: 3.5824e-05 - acc: 0.4013 - annealing_coef: 0.0467 - global_step_get: 175.0000 - annealing_step_get: 3750.0000 - val_loss: 0.8333 - val_accuracy: 0.3052 - val_KL_term: -1.1126e-07 - val_loglikelihood_term: 0.8333 - val_evidential_success: 0.0000e+00 - val_evidential_fail: 0.0000e+00 - val_acc: 0.3029 - val_annealing_coef: 0.0933 - val_global_step_get: 350.0000 - val_annealing_step_get: 3750.0000\n",
      "\n",
      "Epoch 00001: val_loss improved from inf to 0.83333, saving model to D:/Jorge/datasets/deforestation/experiments/exp159/models\\resunet_0.h5\n",
      "Epoch 2/100\n",
      "self.global_step 350.0\n",
      "  1/351 [..............................] - ETA: 27s - loss: 0.8333 - accuracy: 0.3780 - KL_term: 0.0000e+00 - loglikelihood_term: 0.8333 - evidential_success: 0.0000e+00 - evidential_fail: 0.0000e+00 - acc: 0.3780 - annealing_coef: 0.0000e+00 - global_step_get: 0.0000e+00 - annealing_step_get: 3750.0000"
     ]
    },
    {
     "name": "stderr",
     "output_type": "stream",
     "text": [
      "c:\\Users\\jchamorro\\Anaconda3\\envs\\tf2\\lib\\site-packages\\tensorflow\\python\\keras\\utils\\generic_utils.py:494: CustomMaskWarning: Custom mask layers require a config and must override get_config. When loading, the custom mask layer must be passed to the custom_objects argument.\n",
      "  warnings.warn('Custom mask layers require a config and must override '\n"
     ]
    },
    {
     "name": "stdout",
     "output_type": "stream",
     "text": [
      "351/351 [==============================] - 32s 90ms/step - loss: 0.8333 - accuracy: 0.4023 - KL_term: -1.1126e-07 - loglikelihood_term: 0.8333 - evidential_success: 0.0000e+00 - evidential_fail: 0.0000e+00 - acc: 0.4028 - annealing_coef: 0.0933 - global_step_get: 350.0000 - annealing_step_get: 3750.0000 - val_loss: 0.8333 - val_accuracy: 0.3097 - val_KL_term: -2.2252e-07 - val_loglikelihood_term: 0.8333 - val_evidential_success: 0.0000e+00 - val_evidential_fail: 0.0000e+00 - val_acc: 0.3060 - val_annealing_coef: 0.1867 - val_global_step_get: 700.0000 - val_annealing_step_get: 3750.0000\n",
      "\n",
      "Epoch 00002: val_loss did not improve from 0.83333\n",
      "Epoch 3/100\n",
      "self.global_step 700.0\n",
      "351/351 [==============================] - 32s 90ms/step - loss: 0.8333 - accuracy: 0.4007 - KL_term: -1.6689e-07 - loglikelihood_term: 0.8333 - evidential_success: 0.0000e+00 - evidential_fail: 0.0000e+00 - acc: 0.4001 - annealing_coef: 0.1400 - global_step_get: 525.0000 - annealing_step_get: 3750.0000 - val_loss: 0.8333 - val_accuracy: 0.3078 - val_KL_term: -3.3379e-07 - val_loglikelihood_term: 0.8333 - val_evidential_success: 0.0000e+00 - val_evidential_fail: 0.0000e+00 - val_acc: 0.3041 - val_annealing_coef: 0.2800 - val_global_step_get: 1050.0000 - val_annealing_step_get: 3750.0000\n",
      "\n",
      "Epoch 00003: val_loss improved from 0.83333 to 0.83333, saving model to D:/Jorge/datasets/deforestation/experiments/exp159/models\\resunet_0.h5\n",
      "Epoch 4/100\n",
      "self.global_step 1050.0\n",
      "351/351 [==============================] - 32s 90ms/step - loss: 0.8333 - accuracy: 0.4024 - KL_term: -2.2252e-07 - loglikelihood_term: 0.8333 - evidential_success: 0.0000e+00 - evidential_fail: 0.0000e+00 - acc: 0.4021 - annealing_coef: 0.1867 - global_step_get: 700.0000 - annealing_step_get: 3750.0000 - val_loss: 0.8333 - val_accuracy: 0.3139 - val_KL_term: -4.4505e-07 - val_loglikelihood_term: 0.8333 - val_evidential_success: 0.0000e+00 - val_evidential_fail: 0.0000e+00 - val_acc: 0.3101 - val_annealing_coef: 0.3733 - val_global_step_get: 1400.0000 - val_annealing_step_get: 3750.0000\n",
      "\n",
      "Epoch 00004: val_loss did not improve from 0.83333\n",
      "Epoch 5/100\n",
      "self.global_step 1400.0\n",
      "351/351 [==============================] - 32s 90ms/step - loss: 0.8333 - accuracy: 0.4015 - KL_term: -2.7815e-07 - loglikelihood_term: 0.8333 - evidential_success: 0.0000e+00 - evidential_fail: 0.0000e+00 - acc: 0.4014 - annealing_coef: 0.2333 - global_step_get: 875.0000 - annealing_step_get: 3750.0000 - val_loss: 0.8333 - val_accuracy: 0.3142 - val_KL_term: -5.5631e-07 - val_loglikelihood_term: 0.8333 - val_evidential_success: 0.0000e+00 - val_evidential_fail: 0.0000e+00 - val_acc: 0.3104 - val_annealing_coef: 0.4667 - val_global_step_get: 1750.0000 - val_annealing_step_get: 3750.0000\n",
      "\n",
      "Epoch 00005: val_loss did not improve from 0.83333\n",
      "Epoch 6/100\n",
      "self.global_step 1750.0\n",
      "351/351 [==============================] - 32s 90ms/step - loss: 0.8333 - accuracy: 0.4029 - KL_term: -3.3379e-07 - loglikelihood_term: 0.8333 - evidential_success: 0.0000e+00 - evidential_fail: 0.0000e+00 - acc: 0.4034 - annealing_coef: 0.2800 - global_step_get: 1050.0000 - annealing_step_get: 3750.0000 - val_loss: 0.8333 - val_accuracy: 0.3125 - val_KL_term: -6.6757e-07 - val_loglikelihood_term: 0.8333 - val_evidential_success: 0.0000e+00 - val_evidential_fail: 0.0000e+00 - val_acc: 0.3088 - val_annealing_coef: 0.5600 - val_global_step_get: 2100.0000 - val_annealing_step_get: 3750.0000s: 0.0000e+00 - evidential_fail: 0.0000e+00 - acc: 0.4034 - annealing_coef: 0.2800 - global_step_get: 1050.0000 - annealing_step_get: 3750.000\n",
      "\n",
      "Epoch 00006: val_loss did not improve from 0.83333\n",
      "Epoch 7/100\n",
      "self.global_step 2100.0\n",
      "351/351 [==============================] - 32s 90ms/step - loss: 0.8333 - accuracy: 0.4017 - KL_term: -3.8942e-07 - loglikelihood_term: 0.8333 - evidential_success: 0.0000e+00 - evidential_fail: 0.0000e+00 - acc: 0.4020 - annealing_coef: 0.3267 - global_step_get: 1225.0000 - annealing_step_get: 3750.0000 - val_loss: 0.8333 - val_accuracy: 0.3075 - val_KL_term: -7.7883e-07 - val_loglikelihood_term: 0.8333 - val_evidential_success: 0.0000e+00 - val_evidential_fail: 0.0000e+00 - val_acc: 0.3039 - val_annealing_coef: 0.6533 - val_global_step_get: 2450.0000 - val_annealing_step_get: 3750.0000\n",
      "\n",
      "Epoch 00007: val_loss improved from 0.83333 to 0.83333, saving model to D:/Jorge/datasets/deforestation/experiments/exp159/models\\resunet_0.h5\n",
      "Epoch 8/100\n",
      "self.global_step 2450.0\n",
      "351/351 [==============================] - 32s 90ms/step - loss: 0.8333 - accuracy: 0.4022 - KL_term: -4.4505e-07 - loglikelihood_term: 0.8333 - evidential_success: 0.0000e+00 - evidential_fail: 0.0000e+00 - acc: 0.4026 - annealing_coef: 0.3733 - global_step_get: 1400.0000 - annealing_step_get: 3750.0000 - val_loss: 0.8333 - val_accuracy: 0.3018 - val_KL_term: -8.9010e-07 - val_loglikelihood_term: 0.8333 - val_evidential_success: 0.0000e+00 - val_evidential_fail: 0.0000e+00 - val_acc: 0.2983 - val_annealing_coef: 0.7467 - val_global_step_get: 2800.0000 - val_annealing_step_get: 3750.0000\n",
      "\n",
      "Epoch 00008: val_loss did not improve from 0.83333\n",
      "Epoch 9/100\n",
      "self.global_step 2800.0\n",
      "351/351 [==============================] - 32s 90ms/step - loss: 0.8333 - accuracy: 0.4012 - KL_term: -5.0068e-07 - loglikelihood_term: 0.8333 - evidential_success: 0.0000e+00 - evidential_fail: 0.0000e+00 - acc: 0.4015 - annealing_coef: 0.4200 - global_step_get: 1575.0000 - annealing_step_get: 3750.0000 - val_loss: 0.8333 - val_accuracy: 0.3086 - val_KL_term: -1.0014e-06 - val_loglikelihood_term: 0.8333 - val_evidential_success: 0.0000e+00 - val_evidential_fail: 0.0000e+00 - val_acc: 0.3050 - val_annealing_coef: 0.8400 - val_global_step_get: 3150.0000 - val_annealing_step_get: 3750.0000\n",
      "\n",
      "Epoch 00009: val_loss did not improve from 0.83333\n",
      "Epoch 10/100\n",
      "self.global_step 3150.0\n",
      "351/351 [==============================] - 32s 90ms/step - loss: 0.8333 - accuracy: 0.4019 - KL_term: -5.5631e-07 - loglikelihood_term: 0.8333 - evidential_success: 0.0000e+00 - evidential_fail: 0.0000e+00 - acc: 0.4010 - annealing_coef: 0.4667 - global_step_get: 1750.0000 - annealing_step_get: 3750.0000 - val_loss: 0.8333 - val_accuracy: 0.3100 - val_KL_term: -1.1126e-06 - val_loglikelihood_term: 0.8333 - val_evidential_success: 0.0000e+00 - val_evidential_fail: 0.0000e+00 - val_acc: 0.3063 - val_annealing_coef: 0.9333 - val_global_step_get: 3500.0000 - val_annealing_step_get: 3750.0000L_term: -4.0849e-07 - loglikelihood_term: 0.8333 - evidential_success: 0.0000e+00 - evidential_fail: 0.0000e+00 - acc: 0.4011 - an - ETA: 0s - loss: 0.8333 - accuracy: 0.4024 - KL_term: -5.3883e-07 - loglikelihood_term: 0.8333 - evidential_success: 0.0000e+00 - evidential_fail: 0.0000e+00 - acc: 0.4014 - annealing_coef: 0.4520 - global_step_get: 1695.0000 - annealing_step_ge\n",
      "\n",
      "Epoch 00010: val_loss did not improve from 0.83333\n",
      "Epoch 11/100\n",
      "self.global_step 3500.0\n",
      "351/351 [==============================] - 32s 90ms/step - loss: 0.8333 - accuracy: 0.4020 - KL_term: -6.1148e-07 - loglikelihood_term: 0.8333 - evidential_success: 0.0000e+00 - evidential_fail: 0.0000e+00 - acc: 0.4022 - annealing_coef: 0.5129 - global_step_get: 1925.0000 - annealing_step_get: 3750.0000 - val_loss: 0.8333 - val_accuracy: 0.3068 - val_KL_term: -1.1921e-06 - val_loglikelihood_term: 0.8333 - val_evidential_success: 0.0000e+00 - val_evidential_fail: 0.0000e+00 - val_acc: 0.3032 - val_annealing_coef: 1.0000 - val_global_step_get: 3850.0000 - val_annealing_step_get: 3750.0000\n",
      "\n",
      "Epoch 00011: val_loss did not improve from 0.83333\n",
      "Epoch 00011: early stopping\n",
      "-30.0 -16.0\n"
     ]
    },
    {
     "name": "stderr",
     "output_type": "stream",
     "text": [
      "ic| self.path_models+ '/' + self.method +'_'+str(0)+'.h5': 'D:/Jorge/datasets/deforestation/experiments/exp159/models/resunet_0.h5'\n"
     ]
    },
    {
     "name": "stdout",
     "output_type": "stream",
     "text": [
      "time:  0\n",
      "(54236371,)\n",
      "(array([0, 1], dtype=uint8), array([53470765,   765606], dtype=int64))\n",
      "(17730, 9200)\n",
      "(array([0.], dtype=float32), array([163116000], dtype=int64))\n"
     ]
    },
    {
     "name": "stderr",
     "output_type": "stream",
     "text": [
      "ic| self.predicted_unpad.shape: (17730, 9200)\n",
      "    self.predicted.shape: (17730, 9200)\n",
      "ic| predicted_test.shape: (81558000,)\n",
      "ic| predicted_test.shape: (54236371,)\n",
      "ic| np.unique(predicted, return_counts=True): (array([0.], dtype=float32), array([163116000], dtype=int64))\n",
      "    np.unique(predicted_larger_than_min_area, return_counts=True): (array([0.], dtype=float32), array([163116000], dtype=int64))\n",
      "ic| np.unique(ignored_polygons, return_counts=True): (array([0.], dtype=float32), array([163116000], dtype=int64))\n",
      "c:\\Users\\jchamorro\\Anaconda3\\envs\\tf2\\lib\\site-packages\\sklearn\\metrics\\_classification.py:1327: UndefinedMetricWarning: Precision is ill-defined and being set to 0.0 due to no predicted samples. Use `zero_division` parameter to control this behavior.\n",
      "  _warn_prf(average, modifier, msg_start, len(result))\n",
      "ic| self.f1: 0.0, self.precision: 0.0, self.recall: 0.0\n",
      "ic| self.label_mask_val.shape: (16311600,)\n",
      "ic| self.label_mask_val_valid.shape: (9450701,)\n",
      "c:\\Users\\jchamorro\\Anaconda3\\envs\\tf2\\lib\\site-packages\\sklearn\\metrics\\_classification.py:1327: UndefinedMetricWarning: Precision is ill-defined and being set to 0.0 due to no predicted samples. Use `zero_division` parameter to control this behavior.\n",
      "  _warn_prf(average, modifier, msg_start, len(result))\n",
      "ic| f1_val: 0.0, precision_val: 0.0, recall_val: 0.0, mAP_val: 2.87\n"
     ]
    },
    {
     "name": "stdout",
     "output_type": "stream",
     "text": [
      "(array([0., 1.], dtype=float32), array([161277492,   1838508], dtype=int64))\n"
     ]
    },
    {
     "name": "stderr",
     "output_type": "stream",
     "text": [
      "ic| self.label_mask.shape: (17730, 9200)\n",
      "ic| self.mask_amazon_ts.shape: (17730, 9200)\n",
      "ic| self.label_mask_test.shape: (81558000,)\n",
      "ic| self.error_mask_test.shape: (54236371,)\n",
      "ic| bounds: (0.0015, 0.9985)\n",
      "c:\\Users\\jchamorro\\Anaconda3\\envs\\tf2\\lib\\site-packages\\scipy\\optimize\\_minimize.py:783: RuntimeWarning: Method 'bounded' does not support relative tolerance in x; defaulting to absolute tolerance.\n",
      "  warn(\"Method 'bounded' does not support relative tolerance in x; \"\n"
     ]
    },
    {
     "name": "stdout",
     "output_type": "stream",
     "text": [
      "0.38232011321635484\n",
      "threshold 0.38232011321635484\n",
      "(0,) (0,)\n",
      "cm_correct []\n"
     ]
    },
    {
     "ename": "IndexError",
     "evalue": "index 0 is out of bounds for axis 0 with size 0",
     "output_type": "error",
     "traceback": [
      "\u001b[1;31m---------------------------------------------------------------------------\u001b[0m",
      "\u001b[1;31mIndexError\u001b[0m                                Traceback (most recent call last)",
      "\u001b[1;32md:\\Jorge\\deforestation_uncertainty\\train_grid_search.ipynb Cell 6\u001b[0m in \u001b[0;36m<cell line: 15>\u001b[1;34m()\u001b[0m\n\u001b[0;32m     <a href='vscode-notebook-cell:/d%3A/Jorge/deforestation_uncertainty/train_grid_search.ipynb#W5sZmlsZQ%3D%3D?line=37'>38</a>\u001b[0m     trainer\u001b[39m.\u001b[39mrun()\n\u001b[0;32m     <a href='vscode-notebook-cell:/d%3A/Jorge/deforestation_uncertainty/train_grid_search.ipynb#W5sZmlsZQ%3D%3D?line=39'>40</a>\u001b[0m \u001b[39m# %%\u001b[39;00m\n\u001b[1;32m---> <a href='vscode-notebook-cell:/d%3A/Jorge/deforestation_uncertainty/train_grid_search.ipynb#W5sZmlsZQ%3D%3D?line=40'>41</a>\u001b[0m result \u001b[39m=\u001b[39m trainer\u001b[39m.\u001b[39;49mrun_predictor()\n\u001b[0;32m     <a href='vscode-notebook-cell:/d%3A/Jorge/deforestation_uncertainty/train_grid_search.ipynb#W5sZmlsZQ%3D%3D?line=41'>42</a>\u001b[0m results\u001b[39m.\u001b[39mappend(result)\n\u001b[0;32m     <a href='vscode-notebook-cell:/d%3A/Jorge/deforestation_uncertainty/train_grid_search.ipynb#W5sZmlsZQ%3D%3D?line=44'>45</a>\u001b[0m \u001b[39mwith\u001b[39;00m \u001b[39mopen\u001b[39m(\u001b[39m'\u001b[39m\u001b[39mlog.pkl\u001b[39m\u001b[39m'\u001b[39m, \u001b[39m'\u001b[39m\u001b[39mwb\u001b[39m\u001b[39m'\u001b[39m) \u001b[39mas\u001b[39;00m f:\n",
      "File \u001b[1;32md:\\Jorge\\deforestation_uncertainty\\src\\trainer\\base.py:214\u001b[0m, in \u001b[0;36mTrainer.run_predictor\u001b[1;34m(self)\u001b[0m\n\u001b[0;32m    211\u001b[0m \u001b[39mself\u001b[39m\u001b[39m.\u001b[39mgetTestValues2()\n\u001b[0;32m    212\u001b[0m \u001b[39m# self.getUncertaintyAAValues()\u001b[39;00m\n\u001b[0;32m    213\u001b[0m \u001b[39m# trainer.getUncertaintyAAAuditedValues()\u001b[39;00m\n\u001b[1;32m--> 214\u001b[0m \u001b[39mself\u001b[39;49m\u001b[39m.\u001b[39;49mgetOptimalUncertaintyThreshold()\n\u001b[0;32m    215\u001b[0m result \u001b[39m=\u001b[39m \u001b[39mself\u001b[39m\u001b[39m.\u001b[39mgetUncertaintyMetricsFromOptimalThreshold()\n\u001b[0;32m    216\u001b[0m \u001b[39mreturn\u001b[39;00m result\n",
      "File \u001b[1;32md:\\Jorge\\deforestation_uncertainty\\src\\trainer\\base.py:690\u001b[0m, in \u001b[0;36mTrainer.getOptimalUncertaintyThreshold\u001b[1;34m(self, AA, bound)\u001b[0m\n\u001b[0;32m    688\u001b[0m bounds \u001b[39m=\u001b[39m (bound, np\u001b[39m.\u001b[39mmax(\u001b[39mself\u001b[39m\u001b[39m.\u001b[39muncertainty)\u001b[39m-\u001b[39m\u001b[39m0.0015\u001b[39m)\n\u001b[0;32m    689\u001b[0m ic(bounds)\n\u001b[1;32m--> 690\u001b[0m minimum \u001b[39m=\u001b[39m optimize\u001b[39m.\u001b[39;49mminimize_scalar(getAAFromUncertaintyThreshold, \n\u001b[0;32m    691\u001b[0m     method\u001b[39m=\u001b[39;49m\u001b[39m'\u001b[39;49m\u001b[39mbounded\u001b[39;49m\u001b[39m'\u001b[39;49m, bounds\u001b[39m=\u001b[39;49mbounds, tol\u001b[39m=\u001b[39;49m\u001b[39m0.0001\u001b[39;49m)\n\u001b[0;32m    692\u001b[0m \u001b[39mself\u001b[39m\u001b[39m.\u001b[39mthreshold_optimal \u001b[39m=\u001b[39m minimum\u001b[39m.\u001b[39mx\n\u001b[0;32m    693\u001b[0m ic(\u001b[39mself\u001b[39m\u001b[39m.\u001b[39mthreshold_optimal)\n",
      "File \u001b[1;32mc:\\Users\\jchamorro\\Anaconda3\\envs\\tf2\\lib\\site-packages\\scipy\\optimize\\_minimize.py:804\u001b[0m, in \u001b[0;36mminimize_scalar\u001b[1;34m(fun, bracket, bounds, args, method, tol, options)\u001b[0m\n\u001b[0;32m    802\u001b[0m     \u001b[39mif\u001b[39;00m \u001b[39misinstance\u001b[39m(disp, \u001b[39mbool\u001b[39m):\n\u001b[0;32m    803\u001b[0m         options[\u001b[39m'\u001b[39m\u001b[39mdisp\u001b[39m\u001b[39m'\u001b[39m] \u001b[39m=\u001b[39m \u001b[39m2\u001b[39m \u001b[39m*\u001b[39m \u001b[39mint\u001b[39m(disp)\n\u001b[1;32m--> 804\u001b[0m     \u001b[39mreturn\u001b[39;00m _minimize_scalar_bounded(fun, bounds, args, \u001b[39m*\u001b[39m\u001b[39m*\u001b[39moptions)\n\u001b[0;32m    805\u001b[0m \u001b[39melif\u001b[39;00m meth \u001b[39m==\u001b[39m \u001b[39m'\u001b[39m\u001b[39mgolden\u001b[39m\u001b[39m'\u001b[39m:\n\u001b[0;32m    806\u001b[0m     \u001b[39mreturn\u001b[39;00m _minimize_scalar_golden(fun, bracket, args, \u001b[39m*\u001b[39m\u001b[39m*\u001b[39moptions)\n",
      "File \u001b[1;32mc:\\Users\\jchamorro\\Anaconda3\\envs\\tf2\\lib\\site-packages\\scipy\\optimize\\optimize.py:2024\u001b[0m, in \u001b[0;36m_minimize_scalar_bounded\u001b[1;34m(func, bounds, args, xatol, maxiter, disp, **unknown_options)\u001b[0m\n\u001b[0;32m   2022\u001b[0m rat \u001b[39m=\u001b[39m e \u001b[39m=\u001b[39m \u001b[39m0.0\u001b[39m\n\u001b[0;32m   2023\u001b[0m x \u001b[39m=\u001b[39m xf\n\u001b[1;32m-> 2024\u001b[0m fx \u001b[39m=\u001b[39m func(x, \u001b[39m*\u001b[39;49margs)\n\u001b[0;32m   2025\u001b[0m num \u001b[39m=\u001b[39m \u001b[39m1\u001b[39m\n\u001b[0;32m   2026\u001b[0m fmin_data \u001b[39m=\u001b[39m (\u001b[39m1\u001b[39m, xf, fx)\n",
      "File \u001b[1;32md:\\Jorge\\deforestation_uncertainty\\src\\trainer\\base.py:683\u001b[0m, in \u001b[0;36mTrainer.getOptimalUncertaintyThreshold.<locals>.getAAFromUncertaintyThreshold\u001b[1;34m(threshold)\u001b[0m\n\u001b[0;32m    681\u001b[0m \u001b[39mdef\u001b[39;00m \u001b[39mgetAAFromUncertaintyThreshold\u001b[39m(threshold): \n\u001b[0;32m    682\u001b[0m     \u001b[39mprint\u001b[39m(threshold)\n\u001b[1;32m--> 683\u001b[0m     metrics_values2 \u001b[39m=\u001b[39m _metrics\u001b[39m.\u001b[39;49mgetAA_Recall(\u001b[39mself\u001b[39;49m\u001b[39m.\u001b[39;49muncertainty, \n\u001b[0;32m    684\u001b[0m                     \u001b[39mself\u001b[39;49m\u001b[39m.\u001b[39;49mlabel_mask_current_deforestation_test, \n\u001b[0;32m    685\u001b[0m                     \u001b[39mself\u001b[39;49m\u001b[39m.\u001b[39;49mpredicted_test, [threshold])\n\u001b[0;32m    686\u001b[0m     \u001b[39mreturn\u001b[39;00m np\u001b[39m.\u001b[39mabs(AA \u001b[39m-\u001b[39m metrics_values2[:,\u001b[39m3\u001b[39m]\u001b[39m.\u001b[39msqueeze())\n",
      "File \u001b[1;32md:\\Jorge\\deforestation_uncertainty\\src\\metrics.py:265\u001b[0m, in \u001b[0;36mgetAA_Recall\u001b[1;34m(uncertainty, label_mask_current_deforestation_test, predicted_test, threshold_list)\u001b[0m\n\u001b[0;32m    260\u001b[0m cm_correct \u001b[39m=\u001b[39m metrics\u001b[39m.\u001b[39mconfusion_matrix(\n\u001b[0;32m    261\u001b[0m     label_current_deforestation_test_classified_correct,\n\u001b[0;32m    262\u001b[0m     predicted_test_classified_correct)\n\u001b[0;32m    263\u001b[0m \u001b[39mprint\u001b[39m(\u001b[39m\"\u001b[39m\u001b[39mcm_correct\u001b[39m\u001b[39m\"\u001b[39m, cm_correct)\n\u001b[1;32m--> 265\u001b[0m TN_L \u001b[39m=\u001b[39m cm_correct[\u001b[39m0\u001b[39;49m,\u001b[39m0\u001b[39;49m]\n\u001b[0;32m    266\u001b[0m FN_L \u001b[39m=\u001b[39m cm_correct[\u001b[39m1\u001b[39m,\u001b[39m0\u001b[39m]\n\u001b[0;32m    267\u001b[0m TP_L \u001b[39m=\u001b[39m cm_correct[\u001b[39m1\u001b[39m,\u001b[39m1\u001b[39m]\n",
      "\u001b[1;31mIndexError\u001b[0m: index 0 is out of bounds for axis 0 with size 0"
     ]
    }
   ],
   "source": [
    "\n",
    "\n",
    "for experiment_value, exp_id in zip(experiment_values, exp_ids):\n",
    "    config = {\n",
    "        \"training\": True,\n",
    "        \"save_probabilities\": False,\n",
    "        \"loadInference\": False,\n",
    "        \"addPastDeforestationInput\": True,\n",
    "        \"inference_times\": 1,\n",
    "        \"Uncertainty\": {\n",
    "            \"annealing_step\": experiment_value# 10*375/2 # 1875\n",
    "        }\n",
    "    }\n",
    "\n",
    "    trainer = TrainerEvidential(config, dataset, patchesHandler)\n",
    "\n",
    "    trainer.defineExperiment(exp_id)\n",
    "\n",
    "    trainer.setExperimentPath()\n",
    "    trainer.createLogFolders()\n",
    "\n",
    "    trainer.loadDataset()\n",
    "\n",
    "    # %%\n",
    "    if config[\"training\"] == True:\n",
    "        trainer.run()\n",
    "\n",
    "    # %%\n",
    "    result = trainer.run_predictor()\n",
    "    results.append(result)\n",
    "\n",
    "\n",
    "    with open('log.pkl', 'wb') as f:\n",
    "        pickle.dump(results, f)"
   ]
  },
  {
   "cell_type": "code",
   "execution_count": 7,
   "id": "64080745",
   "metadata": {},
   "outputs": [
    {
     "name": "stdout",
     "output_type": "stream",
     "text": [
      "[{'metrics': {'precision_L': array([0.95284808]), 'recall_L': array([0.92463037]), 'recall_Ltotal': array([0.66954444]), 'AA': array([0.03000392]), 'precision_H': array([0.7081642]), 'recall_H': array([0.45883842]), 'f1_L': array([0.93852717]), 'f1_H': array([0.55686755]), 'f1': 84.63}, 'metrics_audited': {'precision': array([0.96614136]), 'recall': array([0.94542325]), 'f1': array([0.95567003])}}, {'metrics': {'precision_L': array([0.70923349]), 'recall_L': array([0.94157394]), 'recall_Ltotal': array([0.81054622]), 'AA': array([0.02999964]), 'precision_H': array([0.21662722]), 'recall_H': array([0.34096309]), 'f1_L': array([0.80905351]), 'f1_H': array([0.26493246]), 'f1': 72.65}, 'metrics_audited': {'precision': array([0.74079538]), 'recall': array([0.9497044]), 'f1': array([0.83234158])}}, {'metrics': {'precision_L': array([0.90384691]), 'recall_L': array([0.93505106]), 'recall_Ltotal': array([0.71629424]), 'AA': array([0.02999986]), 'precision_H': array([0.54003029]), 'recall_H': array([0.48295042]), 'f1_L': array([0.91918423]), 'f1_H': array([0.50989789]), 'f1': 82.86}, 'metrics_audited': {'precision': array([0.9257625]), 'recall': array([0.95024598]), 'f1': array([0.93784447])}}, {'metrics': {'precision_L': array([0.87333751]), 'recall_L': array([0.9501966]), 'recall_Ltotal': array([0.75175025]), 'AA': array([0.02999932]), 'precision_H': array([0.43270991]), 'recall_H': array([0.52930983]), 'f1_L': array([0.91014731]), 'f1_H': array([0.47615989]), 'f1': 81.49}, 'metrics_audited': {'precision': array([0.89806873]), 'recall': array([0.96059792]), 'f1': array([0.92828153])}}]\n"
     ]
    }
   ],
   "source": [
    "print(results)"
   ]
  },
  {
   "cell_type": "code",
   "execution_count": 12,
   "id": "4819ba4f",
   "metadata": {},
   "outputs": [
    {
     "data": {
      "text/plain": [
       "0.0"
      ]
     },
     "execution_count": 12,
     "metadata": {},
     "output_type": "execute_result"
    }
   ],
   "source": [
    "trainer.f1"
   ]
  },
  {
   "cell_type": "code",
   "execution_count": 11,
   "id": "13437081",
   "metadata": {},
   "outputs": [
    {
     "name": "stdout",
     "output_type": "stream",
     "text": [
      "0.0\n"
     ]
    }
   ],
   "source": [
    "print(trainer.f1)"
   ]
  }
 ],
 "metadata": {
  "kernelspec": {
   "display_name": "Python 3.9.12 ('tf2')",
   "language": "python",
   "name": "python3"
  },
  "language_info": {
   "codemirror_mode": {
    "name": "ipython",
    "version": 3
   },
   "file_extension": ".py",
   "mimetype": "text/x-python",
   "name": "python",
   "nbconvert_exporter": "python",
   "pygments_lexer": "ipython3",
   "version": "3.9.12"
  },
  "vscode": {
   "interpreter": {
    "hash": "0593c6bd4eb743cc503a3c17025f83c5676f297db573750215a1bc8c88a990c4"
   }
  }
 },
 "nbformat": 4,
 "nbformat_minor": 5
}
