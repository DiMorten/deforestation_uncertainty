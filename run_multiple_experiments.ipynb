{
 "cells": [
  {
   "cell_type": "code",
   "execution_count": 1,
   "id": "dbd5b7cf",
   "metadata": {},
   "outputs": [],
   "source": [
    "import tracemalloc\n",
    "\n",
    "from utils_v1 import *\n",
    "import traceback\n"
   ]
  },
  {
   "cell_type": "code",
   "execution_count": 2,
   "id": "123e793c",
   "metadata": {},
   "outputs": [],
   "source": [
    "from icecream import ic\n",
    "\n",
    "import numpy as np\n",
    "from src.dataset import (\n",
    "    MultipleDates,\n",
    "    PA, PADistanceMap, PAMultipleDates,\n",
    "    MTMultipleDates\n",
    ")\n",
    "\n",
    "# from src.dataset_legacy import MTDeforestationTime\n",
    "from src import training_generator as generator\n",
    "from src.patchesHandler import PatchesHandler, PatchesHandlerMultipleDates, PatchesHandlerEvidential\n",
    "\n",
    "from src.trainer.evidential import TrainerEvidential\n",
    "from src.trainer.multioutput import TrainerMCDropout, TrainerSingleRun\n",
    "from mpl_toolkits.axes_grid1 import make_axes_locatable\n",
    "\n",
    "import cv2\n",
    "from src import metrics as _metric\n",
    "import json\n",
    "import pickle \n",
    "import src.trainer.evidential as evidential\n",
    "from src.Logger import Logger\n",
    "import pdb\n"
   ]
  },
  {
   "cell_type": "code",
   "execution_count": 3,
   "id": "b7a6829f",
   "metadata": {},
   "outputs": [
    {
     "name": "stdout",
     "output_type": "stream",
     "text": [
      "Mode: single_run. Site: PA. Training: False. Training date: current\n",
      "{'training': False, 'inferring': True, 'site': 'PA', 'training_date': 'current', 'mode': 'single_run', 'learning_rate': 0.0001, 'weights': [0.1, 0.9, 0], 'save_probabilities': False, 'loadInference': False, 'addPastDeforestationInput': True, 'Uncertainty': {}, 'uncertainty_method': 'pred_entropy'}\n"
     ]
    }
   ],
   "source": [
    "\n",
    "config = {\n",
    "    \"training\": False,\n",
    "    \"inferring\": True,\n",
    "    \"site\" : 'PA',\n",
    "    \"training_date\": \"current\", # values: earlier, current\n",
    "    \"mode\" : 'single_run', # values: mcd, single_run, ensemble, evidential\n",
    "    \"training_times\": 10,\n",
    "    \"learning_rate\": 1e-4,\n",
    "    \"weights\": [0.1, 0.9, 0],\n",
    "    \"save_probabilities\": False,\n",
    "    \"loadInference\": False,\n",
    "    \"addPastDeforestationInput\": True,\n",
    "    \"Uncertainty\": {},\n",
    "    \"uncertainty_method\": \"pred_entropy\", # values: pred_entropy, pred_variance, MI, KL\n",
    "    }\n",
    "print(\"Mode: {}. Site: {}. Training: {}. Training date: {}\".format(\n",
    "    config['mode'], config['site'], config['training'], config['training_date']))\n",
    "print(config)\n"
   ]
  },
  {
   "cell_type": "code",
   "execution_count": 4,
   "id": "603a5df7",
   "metadata": {},
   "outputs": [
    {
     "name": "stderr",
     "output_type": "stream",
     "text": [
      "ic| list(self.date_ids): [0]\n",
      "ic| self.image_channels: [[0, 1, 2, 3, 4, 5, 6, 7, 8, 9, 10, 11, 12, 13, 14, 15, 16, 17, 18, 19, 20]]\n",
      "ic| dates: [2018, 2019]\n",
      "ic| self.input_image_shape: 21\n",
      "ic| self.dataset.image_channels: [[0, 1, 2, 3, 4, 5, 6, 7, 8, 9, 10, 11, 12, 13, 14, 15, 16, 17, 18, 19, 20]]\n"
     ]
    }
   ],
   "source": [
    "\n",
    "\n",
    "#dates = [2018, 2019]\n",
    "\n",
    "if config['site'] == 'PA':\n",
    "\tif config['training_date'] == \"earlier\":\n",
    "\t\tdates = [2017, 2018]\n",
    "\telse:\n",
    "\t\tdates = [2018, 2019]\n",
    "\n",
    "\tdataset = PAMultipleDates(config = config,\n",
    "\t\tdates = dates, # dates = [2016,2017,2018,2019]\n",
    "\t\taddPastDeforestationInput = True,\n",
    "\t\tborderBuffer = 2)\n",
    "\n",
    "\n",
    "\tif config['mode'] == 'ensemble':\n",
    "\t\tif config['training'] == True:\n",
    "\t\t\tconfig['mode'] = 'single_run'\n",
    "\t\telse:\n",
    "\t\t\tsys.exit(\"Ensure that training is True for ensemble mode. Use infer_ensemble.ipynb for inference.\")\n",
    "\n",
    "\tif config['mode'] == 'mcd' or config['mode'] == 'single_run': # MCD will do 10 inference on each of the 10 repetitions = 100 runs\n",
    "\t\tif config['training_date'] == 'current': exp = 0\n",
    "\t\t\t# exp_ids = [103, 104, 105, 106, 107, 118, 119, 120, 121, 122]\n",
    "\t\t\t\n",
    "\t\telif config['training_date'] == 'earlier': exp = 1\n",
    "\t\t\t# exp_ids = [123, 124, 125, 126, 127, 128, 129, 131, 1122, 1121]\n",
    "\t\t\t\n",
    "\tif config['mode'] == 'evidential':\t\n",
    "\t\t#exp_id_base = 148\n",
    "\t\t# exp_id_base = 155\n",
    "\t\t# exp_id_base = 194\n",
    "\t\t# exp_id_base = 198\n",
    "\t\t\n",
    "\t\tif config['training_date'] == 'current': exp = 4; repetition_id = 0\n",
    "\t\telif config['training_date'] == 'earlier': exp = 6; repetition_id = 0\n",
    "\t\t# exp_id_base = 224 if config['training_date'] == 'earlier' else 214\n",
    "else:\n",
    "\tif config['training_date'] == \"earlier\":\n",
    "\t\tdates = [2018, 2019]\n",
    "\telse:\n",
    "\t\tdates = [2019, 2020]\n",
    "\n",
    "\tdataset = MTMultipleDates(config = config,\n",
    "\t\tdates = dates, # dates = [2016,2017,2018,2019]\n",
    "\t\taddPastDeforestationInput = True,\n",
    "\t\tborderBuffer = 2)\t\n",
    "\tif config['mode'] == 'evidential':\t\n",
    "\n",
    "\t\t# MT\n",
    "\t\t# exp_id_base = 196\n",
    "\t\t# early date\n",
    "\t\texp_id_base = 206\n",
    "\t\t# early date inference\n",
    "\t\texp_id_base = 210\n",
    "\t\texp_id_base = 210 if config['training_date'] == 'earlier' else 206\n",
    "\n",
    "\telif config['mode'] == 'mcd' or config['mode'] == 'single_run':\n",
    "\t\tif config['training_date'] == 'current': exp = 2\n",
    "#\t\t\texp_ids = [108, 109, 110, 111, 112, 113, 114, 115, 116, 117]\n",
    "\t\telif config['training_date'] == 'earlier': exp = 3\n",
    "#\t\t\texp_ids = [130, 132, 133, 134, 135, 136, 137, 1125, 1124, 1123]\n",
    "\n",
    "ic(dates)\n",
    "\n",
    "\n",
    "if issubclass(type(dataset), MultipleDates):\n",
    "\tif config['mode'] == 'evidential':\n",
    "\t\tpatchesHandler = PatchesHandlerEvidential(\n",
    "\t\t\tdataset)\n",
    "\telse:\n",
    "\t\tpatchesHandler = PatchesHandlerMultipleDates(\n",
    "\t\t\tdataset)\n",
    "\t\t\n",
    "else:\n",
    "\tpatchesHandler = PatchesHandler()\n",
    "\n"
   ]
  },
  {
   "cell_type": "code",
   "execution_count": 5,
   "id": "1bb339c8",
   "metadata": {},
   "outputs": [],
   "source": [
    "\n",
    "\n",
    "if config['mode'] == 'evidential':\n",
    "    config[\"inference_times\"] = 1\n",
    "    config['Uncertainty']['annealing_step'] = 10*375\n",
    "    config['evidence_function'] = evidential.relu_evidence\n",
    "    trainer_class = TrainerEvidential\n",
    "    config['uncertainty_method'] = \"evidential\"\n",
    "    config['classes_mode'] = None\n",
    "    config['evidence_function']\n",
    "\n",
    "    repetition_n = 10\n",
    "\n",
    "    experiment_values = np.ones(repetition_n).astype(np.uint8)\n",
    "\n",
    "\n",
    "    # experiment_values = [int(x) for x in experiment_values]\n",
    "\n",
    "    exp_ids = range(exp_id_base, exp_id_base+len(experiment_values))\n",
    "\n",
    "if config['mode'] == 'mcd':\n",
    "    config[\"inference_times\"] = 10\n",
    "    trainer_class = TrainerMCDropout\n",
    "    config['uncertainty_method'] = \"pred_entropy\"\n",
    "    config['classes_mode'] = False\n",
    "\n",
    "elif config['mode'] == 'single_run':\n",
    "    config[\"inference_times\"] = 1\n",
    "    trainer_class = TrainerSingleRun\n",
    "    config['uncertainty_method'] = \"pred_entropy_single\"\n",
    "    config['classes_mode'] = False\n",
    "\n"
   ]
  },
  {
   "cell_type": "code",
   "execution_count": 6,
   "id": "c7ae3a0c",
   "metadata": {},
   "outputs": [
    {
     "data": {
      "text/plain": [
       "[103, 104, 105, 106, 107, 118, 119, 120, 121, 122]"
      ]
     },
     "execution_count": 6,
     "metadata": {},
     "output_type": "execute_result"
    }
   ],
   "source": [
    "exp"
   ]
  },
  {
   "cell_type": "code",
   "execution_count": null,
   "id": "cfa1145d",
   "metadata": {},
   "outputs": [],
   "source": []
  },
  {
   "cell_type": "code",
   "execution_count": 7,
   "id": "55da0bd1",
   "metadata": {},
   "outputs": [],
   "source": [
    "if config['training'] == True:\n",
    "    idx = 0\n",
    "    error_count = 0\n",
    "    \n",
    "    while idx < config[\"training_times\"]:\n",
    "        try:\n",
    "\n",
    "            print(\"Beginning run number {}\".format(idx))\n",
    "            logger = Logger()\n",
    "            trainer = trainer_class(config, dataset, patchesHandler, logger)\n",
    "            print(\"trainer.config['dropout_training']\", trainer.config['dropout_training'])\n",
    "            trainer.defineExperiment(exp) # fixed\n",
    "            trainer.defineRepetitionId(idx) # varying from 0 to 10\n",
    "            \n",
    "            trainer.setExperimentPath()\n",
    "            trainer.createLogFolders()\n",
    "\n",
    "            trainer.loadDataset()\n",
    "\n",
    "            # %%\n",
    "            if config[\"training\"] == True:\n",
    "                trainer.run()\n",
    "            idx += 1\n",
    "            print(\"Grid execution idx: {}\".format(idx))            \n",
    "        except Exception as e: \n",
    "            print(traceback.format_exc())\n",
    "            error_count += 1\n",
    "            if error_count > 10:\n",
    "                sys.exit()\n",
    "            print(\"Execution error in idx {}. Retrying...\".format(idx))\n",
    "            continue\n"
   ]
  },
  {
   "cell_type": "code",
   "execution_count": 8,
   "id": "a13e82bc",
   "metadata": {},
   "outputs": [
    {
     "name": "stderr",
     "output_type": "stream",
     "text": [
      "ic| list(self.date_ids): [0]\n",
      "ic| self.image_channels: [[0, 1, 2, 3, 4, 5, 6, 7, 8, 9, 10, 11, 12, 13, 14, 15, 16, 17, 18, 19, 20]]\n",
      "ic| dates: [2018, 2019]\n",
      "ic| self.input_image_shape: 21\n",
      "ic| self.dataset.image_channels: [[0, 1, 2, 3, 4, 5, 6, 7, 8, 9, 10, 11, 12, 13, 14, 15, 16, 17, 18, 19, 20]]\n"
     ]
    }
   ],
   "source": [
    "\n",
    "if config['site'] == 'PA':\n",
    "\n",
    "\tdates = [2018, 2019]\n",
    "\n",
    "\tdataset = PAMultipleDates(dates = dates, # dates = [2016,2017,2018,2019]\n",
    "\t\taddPastDeforestationInput = True,\n",
    "\t\tborderBuffer = 2)\t\n",
    "\n",
    "elif config['site'] == 'MT':\n",
    "\n",
    "\tdates = [2019, 2020]\n",
    "\n",
    "\tdataset = MTMultipleDates(dates = dates, # dates = [2016,2017,2018,2019]\n",
    "\t\taddPastDeforestationInput = True,\n",
    "\t\tborderBuffer = 2)\t\n",
    "\n",
    "\n",
    "ic(dates)\n",
    "\n",
    "if issubclass(type(dataset), MultipleDates):\n",
    "\tif config['mode'] == 'evidential':\n",
    "\t\tpatchesHandler = PatchesHandlerEvidential(\n",
    "\t\t\tdataset)\n",
    "\telse:\n",
    "\t\tpatchesHandler = PatchesHandlerMultipleDates(\n",
    "\t\t\tdataset)\n",
    "\t\t\n",
    "else:\n",
    "\tpatchesHandler = PatchesHandler()\n",
    "\n"
   ]
  },
  {
   "cell_type": "code",
   "execution_count": 9,
   "id": "597049da",
   "metadata": {},
   "outputs": [
    {
     "data": {
      "text/plain": [
       "src.trainer.multioutput.TrainerSingleRun"
      ]
     },
     "execution_count": 9,
     "metadata": {},
     "output_type": "execute_result"
    }
   ],
   "source": [
    "trainer_class"
   ]
  },
  {
   "cell_type": "code",
   "execution_count": null,
   "id": "0e69f832",
   "metadata": {},
   "outputs": [],
   "source": [
    "repetition_ids = trainer_class(config, dataset, patchesHandler, logger).get_repetition_ids(exp)  \n",
    "repetition_n = len(repetition_ids)\n",
    "print(\"repetition_ids {}, repetition_n {}\".format(repetition_ids, repetition_n))\n"
   ]
  },
  {
   "cell_type": "code",
   "execution_count": 10,
   "id": "5997b986",
   "metadata": {},
   "outputs": [
    {
     "name": "stdout",
     "output_type": "stream",
     "text": [
      "Beginning run number 0\n",
      "trainer.config {'training': False, 'inferring': True, 'site': 'PA', 'training_date': 'current', 'mode': 'single_run', 'learning_rate': 0.0001, 'weights': [0.1, 0.9, 0], 'save_probabilities': False, 'loadInference': False, 'addPastDeforestationInput': True, 'Uncertainty': {}, 'uncertainty_method': 'pred_entropy_single', 'inference_times': 1, 'classes_mode': False, 'dropout_training': False}\n",
      "D:/Jorge/datasets/deforestation/PA/deforestation_past_years.tif\n",
      "Loaded deforestation past years\n"
     ]
    },
    {
     "name": "stderr",
     "output_type": "stream",
     "text": [
      "ic| np.unique(deforestation_past_years, return_counts=True): (array([   0, 2008, 2009, 2010, 2011, 2012, 2013, 2014, 2015, 2016, 2017,\n",
      "                                                                    2018, 2019, 2020, 2021], dtype=uint16),\n",
      "                                                              array([132185553,   3150503,   4571354,    864429,    903608,   1299506,\n",
      "                                                                      2477971,   1561686,   1459696,    969060,    644976,   2209014,\n",
      "                                                                      2100204,   5257014,   3514616], dtype=int64))\n"
     ]
    },
    {
     "name": "stdout",
     "output_type": "stream",
     "text": [
      "Label where deforestation past years is actual date (2019) = 1\n"
     ]
    },
    {
     "name": "stderr",
     "output_type": "stream",
     "text": [
      "ic| np.unique(deforestation_past_years, return_counts=True): (array([   0, 2008, 2009, 2010, 2011, 2012, 2013, 2014, 2015, 2016, 2017,\n",
      "                                                                    2018, 2019, 2020, 2021], dtype=uint16),\n",
      "                                                              array([132185553,   3150503,   4571354,    864429,    903608,   1299506,\n",
      "                                                                      2477971,   1561686,   1459696,    969060,    644976,   2209014,\n",
      "                                                                      2100204,   5257014,   3514616], dtype=int64))\n"
     ]
    },
    {
     "name": "stdout",
     "output_type": "stream",
     "text": [
      "Past deforestation different from 0 (no deforestation)\n"
     ]
    },
    {
     "name": "stderr",
     "output_type": "stream",
     "text": [
      "ic| np.unique(deforestation_past_years, return_counts=True): (array([   0, 2008, 2009, 2010, 2011, 2012, 2013, 2014, 2015, 2016, 2017,\n",
      "                                                                    2018, 2019, 2020, 2021], dtype=uint16),\n",
      "                                                              array([132185553,   3150503,   4571354,    864429,    903608,   1299506,\n",
      "                                                                      2477971,   1561686,   1459696,    969060,    644976,   2209014,\n",
      "                                                                      2100204,   5257014,   3514616], dtype=int64))\n"
     ]
    },
    {
     "name": "stdout",
     "output_type": "stream",
     "text": [
      "Past deforestation before 2008 is 2\n",
      "D:/Jorge/datasets/deforestation/deforestation_before_2008/deforestation_before_2008_para.tif\n"
     ]
    },
    {
     "name": "stderr",
     "output_type": "stream",
     "text": [
      "ic| np.unique(label_past_deforestation_before_2008, return_counts=True): (array([  0, 215], dtype=uint8), array([124211220,  38957970], dtype=int64))\n",
      "ic| np.unique(deforestation_past_years, return_counts=True): (array([   0, 2008, 2009, 2010, 2011, 2012, 2013, 2014, 2015, 2016, 2017,\n",
      "                                                                    2018, 2019, 2020, 2021], dtype=uint16),\n",
      "                                                              array([132185553,   3150503,   4571354,    864429,    903608,   1299506,\n",
      "                                                                      2477971,   1561686,   1459696,    969060,    644976,   2209014,\n",
      "                                                                      2100204,   5257014,   3514616], dtype=int64))\n",
      "ic| label_per_date.shape: (17730, 9203, 1)\n"
     ]
    },
    {
     "name": "stdout",
     "output_type": "stream",
     "text": [
      "Removing bufer................\n",
      "Mask label shape:  \n",
      " (17730, 9203, 1) \n",
      " Unique values:  \n",
      " [0 1 2]\n",
      "Tiles size:  3546 2300\n",
      "Mask size:  (17730, 9200)\n"
     ]
    },
    {
     "name": "stderr",
     "output_type": "stream",
     "text": [
      "ic| image_stack.shape: (17730, 9203, 21)\n"
     ]
    },
    {
     "name": "stdout",
     "output_type": "stream",
     "text": [
      "Image shape:  (17730, 9203, 21)\n",
      "mask:  (17730, 9200)\n",
      "image stack:  (17730, 9200, 21)\n",
      "ref : (17730, 9200, 1)\n",
      "Training tiles:  [1, 3, 5, 8, 11, 13, 14, 20]\n",
      "Validation tiles:  [6, 19]\n",
      "Test tiles:  [2, 4, 7, 9, 10, 12, 15, 16, 17, 18]\n",
      "-30.0 -16.0\n"
     ]
    },
    {
     "name": "stderr",
     "output_type": "stream",
     "text": [
      "ic| self.path_models+ '/' + self.method +'_'+str(0)+'.h5': 'D:/Jorge/datasets/deforestation/experiments/exp103/models/resunet_0.h5'\n"
     ]
    },
    {
     "name": "stdout",
     "output_type": "stream",
     "text": [
      "Dropout training mode: False\n",
      "time:  0\n",
      "(54236371,)\n",
      "(array([0, 1], dtype=uint8), array([53470765,   765606], dtype=int64))\n",
      "(17730, 9200)\n",
      "Single entropy\n",
      "(array([0., 1.], dtype=float32), array([161073907,   2042093], dtype=int64))\n"
     ]
    },
    {
     "name": "stderr",
     "output_type": "stream",
     "text": [
      "ic| self.predicted_unpad.shape: (17730, 9200)\n",
      "    self.predicted.shape: (17730, 9200)\n",
      "ic| predicted_test.shape: (81558000,)\n",
      "ic| predicted_test.shape: (54236371,)\n",
      "ic| np.unique(predicted, return_counts=True): (array([0., 1.], dtype=float32), array([161191379,   1924621], dtype=int64))\n",
      "    np.unique(predicted_larger_than_min_area, return_counts=True): (array([0., 1.], dtype=float32), array([161384703,   1731297], dtype=int64))\n",
      "ic| np.unique(ignored_polygons, return_counts=True): (array([0., 1.], dtype=float32), array([162922676,    193324], dtype=int64))\n",
      "ic| self.f1: 84.54, self.precision: 87.17, self.recall: 82.06\n",
      "ic| self.label_mask_val.shape: (16311600,)\n",
      "ic| self.label_mask_val_valid.shape: (9430607,)\n",
      "ic| f1_val: 87.09\n",
      "    precision_val: 84.22\n",
      "    recall_val: 90.17\n",
      "    mAP_val: 91.87\n"
     ]
    },
    {
     "name": "stdout",
     "output_type": "stream",
     "text": [
      "D:/Jorge/datasets/deforestation/PA/deforestation_past_years.tif\n",
      "Loaded deforestation past years\n"
     ]
    },
    {
     "name": "stderr",
     "output_type": "stream",
     "text": [
      "ic| np.unique(deforestation_past_years, return_counts=True): (array([   0, 2008, 2009, 2010, 2011, 2012, 2013, 2014, 2015, 2016, 2017,\n",
      "                                                                    2018, 2019, 2020, 2021], dtype=uint16),\n",
      "                                                              array([132185553,   3150503,   4571354,    864429,    903608,   1299506,\n",
      "                                                                      2477971,   1561686,   1459696,    969060,    644976,   2209014,\n",
      "                                                                      2100204,   5257014,   3514616], dtype=int64))\n"
     ]
    },
    {
     "name": "stdout",
     "output_type": "stream",
     "text": [
      "Label where deforestation past years is actual date (2019) = 1\n"
     ]
    },
    {
     "name": "stderr",
     "output_type": "stream",
     "text": [
      "ic| np.unique(deforestation_past_years, return_counts=True): (array([   0, 2008, 2009, 2010, 2011, 2012, 2013, 2014, 2015, 2016, 2017,\n",
      "                                                                    2018, 2019, 2020, 2021], dtype=uint16),\n",
      "                                                              array([132185553,   3150503,   4571354,    864429,    903608,   1299506,\n",
      "                                                                      2477971,   1561686,   1459696,    969060,    644976,   2209014,\n",
      "                                                                      2100204,   5257014,   3514616], dtype=int64))\n"
     ]
    },
    {
     "name": "stdout",
     "output_type": "stream",
     "text": [
      "Past deforestation different from 0 (no deforestation)\n"
     ]
    },
    {
     "name": "stderr",
     "output_type": "stream",
     "text": [
      "ic| np.unique(deforestation_past_years, return_counts=True): (array([   0, 2008, 2009, 2010, 2011, 2012, 2013, 2014, 2015, 2016, 2017,\n",
      "                                                                    2018, 2019, 2020, 2021], dtype=uint16),\n",
      "                                                              array([132185553,   3150503,   4571354,    864429,    903608,   1299506,\n",
      "                                                                      2477971,   1561686,   1459696,    969060,    644976,   2209014,\n",
      "                                                                      2100204,   5257014,   3514616], dtype=int64))\n"
     ]
    },
    {
     "name": "stdout",
     "output_type": "stream",
     "text": [
      "Past deforestation before 2008 is 2\n",
      "D:/Jorge/datasets/deforestation/deforestation_before_2008/deforestation_before_2008_para.tif\n"
     ]
    },
    {
     "name": "stderr",
     "output_type": "stream",
     "text": [
      "ic| np.unique(label_past_deforestation_before_2008, return_counts=True): (array([  0, 215], dtype=uint8), array([124211220,  38957970], dtype=int64))\n",
      "ic| np.unique(deforestation_past_years, return_counts=True): (array([   0, 2008, 2009, 2010, 2011, 2012, 2013, 2014, 2015, 2016, 2017,\n",
      "                                                                    2018, 2019, 2020, 2021], dtype=uint16),\n",
      "                                                              array([132185553,   3150503,   4571354,    864429,    903608,   1299506,\n",
      "                                                                      2477971,   1561686,   1459696,    969060,    644976,   2209014,\n",
      "                                                                      2100204,   5257014,   3514616], dtype=int64))\n",
      "ic| label_per_date.shape: (17730, 9203, 1)\n"
     ]
    },
    {
     "name": "stdout",
     "output_type": "stream",
     "text": [
      "(array([0., 1.], dtype=float32), array([162506439,    609561], dtype=int64))\n",
      "[0. 1.]\n"
     ]
    },
    {
     "name": "stderr",
     "output_type": "stream",
     "text": [
      "ic| pred_entropy.shape: (17760, 9216)\n",
      "ic| self.label_mask.shape: (17730, 9200)\n",
      "ic| self.mask_amazon_ts.shape: (17730, 9200)\n",
      "ic| self.label_mask_test.shape: (81558000,)\n",
      "ic| self.error_mask_test.shape: (54145132,)\n",
      "ic| trainer.dataset.previewLims1: array([2200, 3200, 6900, 7900])\n",
      "    trainer.dataset.previewLims2: array([ 500, 1500, 3500, 4500])\n",
      "ic| np.unique(trainer.mask_amazon_ts[lims[0]:lims[1], lims[2]:lims[3]]): array([1], dtype=uint8)\n",
      "ic| np.unique(trainer.mask_amazon_ts[lims[0]:lims[1], lims[2]:lims[3]], return_counts=True): (array([1], dtype=uint8), array([1000000], dtype=int64))\n",
      "Clipping input data to the valid range for imshow with RGB data ([0..1] for floats or [0..255] for integers).\n",
      "Clipping input data to the valid range for imshow with RGB data ([0..1] for floats or [0..255] for integers).\n",
      "Clipping input data to the valid range for imshow with RGB data ([0..1] for floats or [0..255] for integers).\n"
     ]
    },
    {
     "name": "stdout",
     "output_type": "stream",
     "text": [
      "(54145132,) (54145132,)\n",
      "0.841080483916035\n",
      "ECE. Starting bin 0...\n",
      "ECE. Starting bin 1...\n",
      "ECE. Starting bin 2...\n",
      "ECE. Starting bin 3...\n",
      "ECE. Starting bin 4...\n",
      "ECE. Starting bin 5...\n",
      "ECE. Starting bin 6...\n",
      "ECE. Starting bin 7...\n",
      "ECE. Starting bin 8...\n",
      "ECE. Starting bin 9...\n"
     ]
    },
    {
     "name": "stderr",
     "output_type": "stream",
     "text": [
      "ic| bounds: (0.0015, 0.3663794801235199)\n"
     ]
    },
    {
     "name": "stdout",
     "output_type": "stream",
     "text": [
      "0.004285987396271022\n",
      "0.1408715596097929\n",
      "threshold 0.1408715596097929\n"
     ]
    },
    {
     "name": "stderr",
     "output_type": "stream",
     "text": [
      "c:\\Users\\jchamorro\\Anaconda3\\envs\\tf2\\lib\\site-packages\\scipy\\optimize\\_minimize.py:783: RuntimeWarning: Method 'bounded' does not support relative tolerance in x; defaulting to absolute tolerance.\n",
      "  warn(\"Method 'bounded' does not support relative tolerance in x; \"\n",
      "ic| label_current_deforestation_test_classified_incorrect.shape: (1219929,)\n",
      "    predicted_test_classified_incorrect.shape: (1219929,)\n",
      "ic| TP_H + FN_H + FP_H + TN_H: 1219929\n",
      "    len(label_mask_current_deforestation_test): 54145132\n",
      "ic| TP_H + FN_H + FP_H + TN_H: 1219929\n",
      "    len(label_mask_current_deforestation_test): 54145132\n"
     ]
    },
    {
     "name": "stdout",
     "output_type": "stream",
     "text": [
      "[0.97035925 0.9333513  0.60674357 0.02253072 0.67654021 0.61128061\n",
      " 0.13863523]\n",
      "0.22700792051372695\n",
      "threshold 0.22700792051372695\n"
     ]
    },
    {
     "name": "stderr",
     "output_type": "stream",
     "text": [
      "ic| label_current_deforestation_test_classified_incorrect.shape: (813225,)\n",
      "    predicted_test_classified_incorrect.shape: (813225,)\n",
      "ic| TP_H + FN_H + FP_H + TN_H: 813225\n",
      "    len(label_mask_current_deforestation_test): 54145132\n",
      "ic| TP_H + FN_H + FP_H + TN_H: 813225\n",
      "    len(label_mask_current_deforestation_test): 54145132\n"
     ]
    },
    {
     "name": "stdout",
     "output_type": "stream",
     "text": [
      "[0.93900553 0.92200914 0.70939126 0.01501936 0.598218   0.48246513\n",
      " 0.16029901]\n",
      "0.08763636090393405\n",
      "threshold 0.08763636090393405\n"
     ]
    },
    {
     "name": "stderr",
     "output_type": "stream",
     "text": [
      "ic| label_current_deforestation_test_classified_incorrect.shape: (1599767,)\n",
      "    predicted_test_classified_incorrect.shape: (1599767,)\n",
      "ic| TP_H + FN_H + FP_H + TN_H: 1599767\n",
      "    len(label_mask_current_deforestation_test): 54145132\n",
      "ic| TP_H + FN_H + FP_H + TN_H: 1599767\n",
      "    len(label_mask_current_deforestation_test): 54145132\n"
     ]
    },
    {
     "name": "stdout",
     "output_type": "stream",
     "text": [
      "[0.98764588 0.93820913 0.52002304 0.02954591 0.72453098 0.6744607\n",
      " 0.11718088]\n",
      "0.05473519870585886\n",
      "threshold 0.05473519870585886\n"
     ]
    },
    {
     "name": "stderr",
     "output_type": "stream",
     "text": [
      "ic| label_current_deforestation_test_classified_incorrect.shape: (1988680,)\n",
      "    predicted_test_classified_incorrect.shape: (1988680,)\n",
      "ic| TP_H + FN_H + FP_H + TN_H: 1988680\n",
      "    len(label_mask_current_deforestation_test): 54145132\n",
      "ic| TP_H + FN_H + FP_H + TN_H: 1988680\n",
      "    len(label_mask_current_deforestation_test): 54145132\n"
     ]
    },
    {
     "name": "stdout",
     "output_type": "stream",
     "text": [
      "[0.9948642  0.93911858 0.43334868 0.03672869 0.7656169  0.71914321\n",
      " 0.0987822 ]\n",
      "0.09665514614523395\n",
      "threshold 0.09665514614523395\n"
     ]
    },
    {
     "name": "stderr",
     "output_type": "stream",
     "text": [
      "ic| label_current_deforestation_test_classified_incorrect.shape: (1521475,)\n",
      "    predicted_test_classified_incorrect.shape: (1521475,)\n",
      "ic| TP_H + FN_H + FP_H + TN_H: 1521475\n",
      "    len(label_mask_current_deforestation_test): 54145132\n",
      "ic| TP_H + FN_H + FP_H + TN_H: 1521475\n",
      "    len(label_mask_current_deforestation_test): 54145132\n"
     ]
    },
    {
     "name": "stdout",
     "output_type": "stream",
     "text": [
      "[0.98471904 0.93737986 0.53716313 0.02809994 0.7159568  0.66397526\n",
      " 0.12124983]\n",
      "0.08257280939840696\n",
      "threshold 0.08257280939840696\n"
     ]
    },
    {
     "name": "stderr",
     "output_type": "stream",
     "text": [
      "ic| label_current_deforestation_test_classified_incorrect.shape: (1647560,)\n",
      "    predicted_test_classified_incorrect.shape: (1647560,)\n",
      "ic| TP_H + FN_H + FP_H + TN_H: 1647560\n",
      "    len(label_mask_current_deforestation_test): 54145132\n",
      "ic| TP_H + FN_H + FP_H + TN_H: 1647560\n",
      "    len(label_mask_current_deforestation_test): 54145132\n"
     ]
    },
    {
     "name": "stdout",
     "output_type": "stream",
     "text": [
      "[0.98906635 0.93856852 0.50929944 0.03042859 0.72997089 0.68074542\n",
      " 0.11471758]\n",
      "0.08487620878441943\n",
      "threshold 0.08487620878441943\n"
     ]
    },
    {
     "name": "stderr",
     "output_type": "stream",
     "text": [
      "ic| label_current_deforestation_test_classified_incorrect.shape: (1625387,)\n",
      "    predicted_test_classified_incorrect.shape: (1625387,)\n",
      "ic| TP_H + FN_H + FP_H + TN_H: 1625387\n",
      "    len(label_mask_current_deforestation_test): 54145132\n",
      "ic| TP_H + FN_H + FP_H + TN_H: 1625387\n",
      "    len(label_mask_current_deforestation_test): 54145132\n"
     ]
    },
    {
     "name": "stdout",
     "output_type": "stream",
     "text": [
      "[0.98842651 0.93846078 0.51435631 0.03001908 0.7274085  0.67776636\n",
      " 0.11586478]\n",
      "0.08506656373605025\n",
      "threshold 0.08506656373605025\n"
     ]
    },
    {
     "name": "stderr",
     "output_type": "stream",
     "text": [
      "ic| label_current_deforestation_test_classified_incorrect.shape: (1623564,)\n",
      "    predicted_test_classified_incorrect.shape: (1623564,)\n",
      "ic| TP_H + FN_H + FP_H + TN_H: 1623564\n",
      "    len(label_mask_current_deforestation_test): 54145132\n",
      "ic| TP_H + FN_H + FP_H + TN_H: 1623564\n",
      "    len(label_mask_current_deforestation_test): 54145132\n"
     ]
    },
    {
     "name": "stdout",
     "output_type": "stream",
     "text": [
      "[0.98835535 0.9384306  0.51475021 0.02998541 0.72722605 0.67755047\n",
      " 0.11595003]\n",
      "0.08516209148125282\n",
      "threshold 0.08516209148125282\n"
     ]
    },
    {
     "name": "stderr",
     "output_type": "stream",
     "text": [
      "ic| label_current_deforestation_test_classified_incorrect.shape: (1622647,)\n",
      "    predicted_test_classified_incorrect.shape: (1622647,)\n",
      "ic| TP_H + FN_H + FP_H + TN_H: 1622647\n",
      "    len(label_mask_current_deforestation_test): 54145132\n",
      "ic| TP_H + FN_H + FP_H + TN_H: 1622647\n",
      "    len(label_mask_current_deforestation_test): 54145132\n"
     ]
    },
    {
     "name": "stdout",
     "output_type": "stream",
     "text": [
      "[0.98833451 0.93842045 0.51497025 0.02996847 0.72710678 0.67742382\n",
      " 0.11599751]\n",
      "0.08498816897513024\n",
      "threshold 0.08498816897513024\n"
     ]
    },
    {
     "name": "stderr",
     "output_type": "stream",
     "text": [
      "ic| label_current_deforestation_test_classified_incorrect.shape: (1624292,)\n",
      "    predicted_test_classified_incorrect.shape: (1624292,)\n",
      "ic| TP_H + FN_H + FP_H + TN_H: 1624292\n",
      "    len(label_mask_current_deforestation_test): 54145132\n",
      "ic| TP_H + FN_H + FP_H + TN_H: 1624292\n",
      "    len(label_mask_current_deforestation_test): 54145132\n"
     ]
    },
    {
     "name": "stdout",
     "output_type": "stream",
     "text": [
      "[0.98837792 0.93844698 0.51460623 0.02999886 0.72729591 0.67762473\n",
      " 0.11591518]\n",
      "0.08495483438121865\n",
      "threshold 0.08495483438121865\n"
     ]
    },
    {
     "name": "stderr",
     "output_type": "stream",
     "text": [
      "ic| label_current_deforestation_test_classified_incorrect.shape: (1624621,)\n",
      "    predicted_test_classified_incorrect.shape: (1624621,)\n",
      "ic| TP_H + FN_H + FP_H + TN_H: 1624621\n",
      "    len(label_mask_current_deforestation_test): 54145132\n",
      "ic| TP_H + FN_H + FP_H + TN_H: 1624621\n",
      "    len(label_mask_current_deforestation_test): 54145132\n"
     ]
    },
    {
     "name": "stdout",
     "output_type": "stream",
     "text": [
      "[0.98838647 0.93844976 0.51452745 0.03000493 0.72733757 0.67767077\n",
      " 0.1158982 ]\n",
      "0.08502150356904184\n",
      "threshold 0.08502150356904184\n"
     ]
    },
    {
     "name": "stderr",
     "output_type": "stream",
     "text": [
      "ic| label_current_deforestation_test_classified_incorrect.shape: (1623985,)\n",
      "    predicted_test_classified_incorrect.shape: (1623985,)\n",
      "ic| TP_H + FN_H + FP_H + TN_H: 1623985\n",
      "    len(label_mask_current_deforestation_test): 54145132\n",
      "ic| TP_H + FN_H + FP_H + TN_H: 1623985\n",
      "    len(label_mask_current_deforestation_test): 54145132\n",
      "ic| self.threshold_optimal: 0.08498816897513024\n"
     ]
    },
    {
     "name": "stdout",
     "output_type": "stream",
     "text": [
      "[0.98837161 0.93844485 0.51467007 0.02999319 0.72726157 0.67758731\n",
      " 0.11593198]\n",
      "threshold 0.08498816897513024\n"
     ]
    },
    {
     "name": "stderr",
     "output_type": "stream",
     "text": [
      "ic| label_current_deforestation_test_classified_incorrect.shape: (1624292,)\n",
      "    predicted_test_classified_incorrect.shape: (1624292,)\n",
      "ic| TP_H + FN_H + FP_H + TN_H: 1624292\n",
      "    len(label_mask_current_deforestation_test): 54145132\n",
      "ic| TP_H + FN_H + FP_H + TN_H: 1624292\n",
      "    len(label_mask_current_deforestation_test): 54145132\n"
     ]
    },
    {
     "name": "stdout",
     "output_type": "stream",
     "text": [
      "[0.98837792 0.93844698 0.51460623 0.02999886 0.72729591 0.67762473\n",
      " 0.11591518]\n",
      "threshold 0.08498816897513024\n",
      "(54145132,) (54145132,)\n"
     ]
    },
    {
     "name": "stderr",
     "output_type": "stream",
     "text": [
      "ic| self.m_optimal: {'AA': array([0.02999886]),\n",
      "                     'UEO': array([0.11591518]),\n",
      "                     'f1': 84.54,\n",
      "                     'f1_H': array([0.70158226]),\n",
      "                     'f1_L': array([0.9627655]),\n",
      "                     'precision_H': array([0.72729591]),\n",
      "                     'precision_L': array([0.98837792]),\n",
      "                     'recall_H': array([0.67762473]),\n",
      "                     'recall_L': array([0.93844698]),\n",
      "                     'recall_Ltotal': array([0.51460623])}\n",
      "ic| self.m_audited_optimal: {'f1': array([0.97981831]),\n",
      "                             'precision': array([0.99377647]),\n",
      "                             'recall': array([0.96624682])}\n"
     ]
    },
    {
     "name": "stdout",
     "output_type": "stream",
     "text": [
      "cm_audited [[53404450     4455]\n",
      " [   24850   711377]]\n",
      "[0.99377647 0.96624682]\n",
      "Result idx 0: {'other_uncertainty_metrics': {'sUEO': 0.841080483916035, 'ece_score': 0.004285987396271022}, 'uncertainty_result': {'metrics': {'precision_L': array([0.98837792]), 'recall_L': array([0.93844698]), 'recall_Ltotal': array([0.51460623]), 'AA': array([0.02999886]), 'precision_H': array([0.72729591]), 'recall_H': array([0.67762473]), 'UEO': array([0.11591518]), 'f1_L': array([0.9627655]), 'f1_H': array([0.70158226]), 'f1': 84.54}, 'metrics_audited': {'precision': array([0.99377647]), 'recall': array([0.96624682]), 'f1': array([0.97981831])}, 'exp': 103}}\n",
      "Grid execution idx: 0\n",
      "Grid execution idx: 1\n",
      "Beginning run number 1\n",
      "trainer.config {'training': False, 'inferring': True, 'site': 'PA', 'training_date': 'current', 'mode': 'single_run', 'learning_rate': 0.0001, 'weights': [0.1, 0.9, 0], 'save_probabilities': False, 'loadInference': False, 'addPastDeforestationInput': True, 'Uncertainty': {}, 'uncertainty_method': 'pred_entropy_single', 'inference_times': 1, 'classes_mode': False, 'dropout_training': False}\n",
      "D:/Jorge/datasets/deforestation/PA/deforestation_past_years.tif\n",
      "Loaded deforestation past years\n"
     ]
    },
    {
     "name": "stderr",
     "output_type": "stream",
     "text": [
      "ic| np.unique(deforestation_past_years, return_counts=True): (array([   0, 2008, 2009, 2010, 2011, 2012, 2013, 2014, 2015, 2016, 2017,\n",
      "                                                                    2018, 2019, 2020, 2021], dtype=uint16),\n",
      "                                                              array([132185553,   3150503,   4571354,    864429,    903608,   1299506,\n",
      "                                                                      2477971,   1561686,   1459696,    969060,    644976,   2209014,\n",
      "                                                                      2100204,   5257014,   3514616], dtype=int64))\n"
     ]
    },
    {
     "name": "stdout",
     "output_type": "stream",
     "text": [
      "Label where deforestation past years is actual date (2019) = 1\n"
     ]
    },
    {
     "name": "stderr",
     "output_type": "stream",
     "text": [
      "ic| np.unique(deforestation_past_years, return_counts=True): (array([   0, 2008, 2009, 2010, 2011, 2012, 2013, 2014, 2015, 2016, 2017,\n",
      "                                                                    2018, 2019, 2020, 2021], dtype=uint16),\n",
      "                                                              array([132185553,   3150503,   4571354,    864429,    903608,   1299506,\n",
      "                                                                      2477971,   1561686,   1459696,    969060,    644976,   2209014,\n",
      "                                                                      2100204,   5257014,   3514616], dtype=int64))\n"
     ]
    },
    {
     "name": "stdout",
     "output_type": "stream",
     "text": [
      "Past deforestation different from 0 (no deforestation)\n"
     ]
    },
    {
     "name": "stderr",
     "output_type": "stream",
     "text": [
      "ic| np.unique(deforestation_past_years, return_counts=True): (array([   0, 2008, 2009, 2010, 2011, 2012, 2013, 2014, 2015, 2016, 2017,\n",
      "                                                                    2018, 2019, 2020, 2021], dtype=uint16),\n",
      "                                                              array([132185553,   3150503,   4571354,    864429,    903608,   1299506,\n",
      "                                                                      2477971,   1561686,   1459696,    969060,    644976,   2209014,\n",
      "                                                                      2100204,   5257014,   3514616], dtype=int64))\n"
     ]
    },
    {
     "name": "stdout",
     "output_type": "stream",
     "text": [
      "Past deforestation before 2008 is 2\n",
      "D:/Jorge/datasets/deforestation/deforestation_before_2008/deforestation_before_2008_para.tif\n"
     ]
    },
    {
     "name": "stderr",
     "output_type": "stream",
     "text": [
      "ic| np.unique(label_past_deforestation_before_2008, return_counts=True): (array([  0, 215], dtype=uint8), array([124211220,  38957970], dtype=int64))\n",
      "ic| np.unique(deforestation_past_years, return_counts=True): (array([   0, 2008, 2009, 2010, 2011, 2012, 2013, 2014, 2015, 2016, 2017,\n",
      "                                                                    2018, 2019, 2020, 2021], dtype=uint16),\n",
      "                                                              array([132185553,   3150503,   4571354,    864429,    903608,   1299506,\n",
      "                                                                      2477971,   1561686,   1459696,    969060,    644976,   2209014,\n",
      "                                                                      2100204,   5257014,   3514616], dtype=int64))\n",
      "ic| label_per_date.shape: (17730, 9203, 1)\n"
     ]
    },
    {
     "name": "stdout",
     "output_type": "stream",
     "text": [
      "Removing bufer................\n",
      "Mask label shape:  \n",
      " (17730, 9203, 1) \n",
      " Unique values:  \n",
      " [0 1 2]\n",
      "Tiles size:  3546 2300\n",
      "Mask size:  (17730, 9200)\n"
     ]
    },
    {
     "name": "stderr",
     "output_type": "stream",
     "text": [
      "ic| image_stack.shape: (17730, 9203, 21)\n"
     ]
    },
    {
     "name": "stdout",
     "output_type": "stream",
     "text": [
      "Image shape:  (17730, 9203, 21)\n",
      "mask:  (17730, 9200)\n",
      "image stack:  (17730, 9200, 21)\n",
      "ref : (17730, 9200, 1)\n",
      "Training tiles:  [1, 3, 5, 8, 11, 13, 14, 20]\n",
      "Validation tiles:  [6, 19]\n",
      "Test tiles:  [2, 4, 7, 9, 10, 12, 15, 16, 17, 18]\n",
      "-30.0 -16.0\n"
     ]
    },
    {
     "name": "stderr",
     "output_type": "stream",
     "text": [
      "ic| self.path_models+ '/' + self.method +'_'+str(0)+'.h5': 'D:/Jorge/datasets/deforestation/experiments/exp104/models/resunet_0.h5'\n"
     ]
    },
    {
     "name": "stdout",
     "output_type": "stream",
     "text": [
      "Dropout training mode: False\n",
      "time:  0\n",
      "(54236371,)\n",
      "(array([0, 1], dtype=uint8), array([53470765,   765606], dtype=int64))\n",
      "(17730, 9200)\n",
      "Single entropy\n",
      "(array([0., 1.], dtype=float32), array([160910243,   2205757], dtype=int64))\n"
     ]
    },
    {
     "name": "stderr",
     "output_type": "stream",
     "text": [
      "ic| self.predicted_unpad.shape: (17730, 9200)\n",
      "    self.predicted.shape: (17730, 9200)\n",
      "ic| predicted_test.shape: (81558000,)\n",
      "ic| predicted_test.shape: (54236371,)\n",
      "ic| np.unique(predicted, return_counts=True): (array([0., 1.], dtype=float32), array([161018218,   2097782], dtype=int64))\n",
      "    np.unique(predicted_larger_than_min_area, return_counts=True): (array([0., 1.], dtype=float32), array([161237653,   1878347], dtype=int64))\n",
      "ic| np.unique(ignored_polygons, return_counts=True): (array([0., 1.], dtype=float32), array([162896565,    219435], dtype=int64))\n",
      "ic| self.f1: 81.95, self.precision: 80.33, self.recall: 83.63\n",
      "ic| self.label_mask_val.shape: (16311600,)\n",
      "ic| self.label_mask_val_valid.shape: (9423838,)\n",
      "ic| f1_val: 85.56\n",
      "    precision_val: 80.7\n",
      "    recall_val: 91.04\n",
      "    mAP_val: 85.46\n"
     ]
    },
    {
     "name": "stdout",
     "output_type": "stream",
     "text": [
      "D:/Jorge/datasets/deforestation/PA/deforestation_past_years.tif\n",
      "Loaded deforestation past years\n"
     ]
    },
    {
     "name": "stderr",
     "output_type": "stream",
     "text": [
      "ic| np.unique(deforestation_past_years, return_counts=True): (array([   0, 2008, 2009, 2010, 2011, 2012, 2013, 2014, 2015, 2016, 2017,\n",
      "                                                                    2018, 2019, 2020, 2021], dtype=uint16),\n",
      "                                                              array([132185553,   3150503,   4571354,    864429,    903608,   1299506,\n",
      "                                                                      2477971,   1561686,   1459696,    969060,    644976,   2209014,\n",
      "                                                                      2100204,   5257014,   3514616], dtype=int64))\n"
     ]
    },
    {
     "name": "stdout",
     "output_type": "stream",
     "text": [
      "Label where deforestation past years is actual date (2019) = 1\n"
     ]
    },
    {
     "name": "stderr",
     "output_type": "stream",
     "text": [
      "ic| np.unique(deforestation_past_years, return_counts=True): (array([   0, 2008, 2009, 2010, 2011, 2012, 2013, 2014, 2015, 2016, 2017,\n",
      "                                                                    2018, 2019, 2020, 2021], dtype=uint16),\n",
      "                                                              array([132185553,   3150503,   4571354,    864429,    903608,   1299506,\n",
      "                                                                      2477971,   1561686,   1459696,    969060,    644976,   2209014,\n",
      "                                                                      2100204,   5257014,   3514616], dtype=int64))\n"
     ]
    },
    {
     "name": "stdout",
     "output_type": "stream",
     "text": [
      "Past deforestation different from 0 (no deforestation)\n"
     ]
    },
    {
     "name": "stderr",
     "output_type": "stream",
     "text": [
      "ic| np.unique(deforestation_past_years, return_counts=True): (array([   0, 2008, 2009, 2010, 2011, 2012, 2013, 2014, 2015, 2016, 2017,\n",
      "                                                                    2018, 2019, 2020, 2021], dtype=uint16),\n",
      "                                                              array([132185553,   3150503,   4571354,    864429,    903608,   1299506,\n",
      "                                                                      2477971,   1561686,   1459696,    969060,    644976,   2209014,\n",
      "                                                                      2100204,   5257014,   3514616], dtype=int64))\n"
     ]
    },
    {
     "name": "stdout",
     "output_type": "stream",
     "text": [
      "Past deforestation before 2008 is 2\n",
      "D:/Jorge/datasets/deforestation/deforestation_before_2008/deforestation_before_2008_para.tif\n"
     ]
    },
    {
     "name": "stderr",
     "output_type": "stream",
     "text": [
      "ic| np.unique(label_past_deforestation_before_2008, return_counts=True): (array([  0, 215], dtype=uint8), array([124211220,  38957970], dtype=int64))\n",
      "ic| np.unique(deforestation_past_years, return_counts=True): (array([   0, 2008, 2009, 2010, 2011, 2012, 2013, 2014, 2015, 2016, 2017,\n",
      "                                                                    2018, 2019, 2020, 2021], dtype=uint16),\n",
      "                                                              array([132185553,   3150503,   4571354,    864429,    903608,   1299506,\n",
      "                                                                      2477971,   1561686,   1459696,    969060,    644976,   2209014,\n",
      "                                                                      2100204,   5257014,   3514616], dtype=int64))\n",
      "ic| label_per_date.shape: (17730, 9203, 1)\n"
     ]
    },
    {
     "name": "stdout",
     "output_type": "stream",
     "text": [
      "(array([0., 1.], dtype=float32), array([162438489,    677511], dtype=int64))\n",
      "[0. 1.]\n"
     ]
    },
    {
     "name": "stderr",
     "output_type": "stream",
     "text": [
      "ic| pred_entropy.shape: (17760, 9216)\n",
      "ic| self.label_mask.shape: (17730, 9200)\n",
      "ic| self.mask_amazon_ts.shape: (17730, 9200)\n",
      "ic| self.label_mask_test.shape: (81558000,)\n",
      "ic| self.error_mask_test.shape: (54127510,)\n",
      "ic| trainer.dataset.previewLims1: array([2200, 3200, 6900, 7900])\n",
      "    trainer.dataset.previewLims2: array([ 500, 1500, 3500, 4500])\n",
      "ic| np.unique(trainer.mask_amazon_ts[lims[0]:lims[1], lims[2]:lims[3]]): array([1], dtype=uint8)\n",
      "ic| np.unique(trainer.mask_amazon_ts[lims[0]:lims[1], lims[2]:lims[3]], return_counts=True): (array([1], dtype=uint8), array([1000000], dtype=int64))\n",
      "Clipping input data to the valid range for imshow with RGB data ([0..1] for floats or [0..255] for integers).\n",
      "Clipping input data to the valid range for imshow with RGB data ([0..1] for floats or [0..255] for integers).\n",
      "Clipping input data to the valid range for imshow with RGB data ([0..1] for floats or [0..255] for integers).\n"
     ]
    },
    {
     "name": "stdout",
     "output_type": "stream",
     "text": [
      "(54127510,) (54127510,)\n",
      "0.8141570958729208\n",
      "ECE. Starting bin 0...\n",
      "ECE. Starting bin 1...\n",
      "ECE. Starting bin 2...\n",
      "ECE. Starting bin 3...\n",
      "ECE. Starting bin 4...\n",
      "ECE. Starting bin 5...\n",
      "ECE. Starting bin 6...\n",
      "ECE. Starting bin 7...\n",
      "ECE. Starting bin 8...\n",
      "ECE. Starting bin 9...\n"
     ]
    },
    {
     "name": "stderr",
     "output_type": "stream",
     "text": [
      "ic| bounds: (0.0015, 0.3663794801235199)\n"
     ]
    },
    {
     "name": "stdout",
     "output_type": "stream",
     "text": [
      "0.0053843853543005735\n",
      "0.1408715596097929\n",
      "threshold 0.1408715596097929\n"
     ]
    },
    {
     "name": "stderr",
     "output_type": "stream",
     "text": [
      "c:\\Users\\jchamorro\\Anaconda3\\envs\\tf2\\lib\\site-packages\\scipy\\optimize\\_minimize.py:783: RuntimeWarning: Method 'bounded' does not support relative tolerance in x; defaulting to absolute tolerance.\n",
      "  warn(\"Method 'bounded' does not support relative tolerance in x; \"\n",
      "ic| label_current_deforestation_test_classified_incorrect.shape: (1593153,)\n",
      "    predicted_test_classified_incorrect.shape: (1593153,)\n",
      "ic| TP_H + FN_H + FP_H + TN_H: 1593153\n",
      "    len(label_mask_current_deforestation_test): 54127510\n",
      "ic| TP_H + FN_H + FP_H + TN_H: 1593153\n",
      "    len(label_mask_current_deforestation_test): 54127510\n"
     ]
    },
    {
     "name": "stdout",
     "output_type": "stream",
     "text": [
      "[0.95145138 0.94738973 0.61278463 0.02943333 0.56295306 0.63292943\n",
      " 0.13543126]\n",
      "0.22700792051372695\n",
      "threshold 0.22700792051372695\n"
     ]
    },
    {
     "name": "stderr",
     "output_type": "stream",
     "text": [
      "ic| label_current_deforestation_test_classified_incorrect.shape: (1051381,)\n",
      "    predicted_test_classified_incorrect.shape: (1051381,)\n",
      "ic| TP_H + FN_H + FP_H + TN_H: 1051381\n",
      "    len(label_mask_current_deforestation_test): 54127510\n",
      "ic| TP_H + FN_H + FP_H + TN_H: 1051381\n",
      "    len(label_mask_current_deforestation_test): 54127510\n"
     ]
    },
    {
     "name": "stdout",
     "output_type": "stream",
     "text": [
      "[0.89546155 0.93849393 0.72554129 0.01942415 0.47980243 0.48823717\n",
      " 0.1507989 ]\n",
      "0.08763636090393405\n",
      "threshold 0.08763636090393405\n"
     ]
    },
    {
     "name": "stderr",
     "output_type": "stream",
     "text": [
      "ic| label_current_deforestation_test_classified_incorrect.shape: (2058173,)\n",
      "    predicted_test_classified_incorrect.shape: (2058173,)\n",
      "ic| TP_H + FN_H + FP_H + TN_H: 2058173\n",
      "    len(label_mask_current_deforestation_test): 54127510\n",
      "ic| TP_H + FN_H + FP_H + TN_H: 2058173\n",
      "    len(label_mask_current_deforestation_test): 54127510\n"
     ]
    },
    {
     "name": "stdout",
     "output_type": "stream",
     "text": [
      "[0.97683317 0.94992008 0.50671536 0.03802453 0.63094616 0.70645544\n",
      " 0.115845  ]\n",
      "0.15234481420637816\n",
      "threshold 0.15234481420637816\n"
     ]
    },
    {
     "name": "stderr",
     "output_type": "stream",
     "text": [
      "ic| label_current_deforestation_test_classified_incorrect.shape: (1510921,)\n",
      "    predicted_test_classified_incorrect.shape: (1510921,)\n",
      "ic| TP_H + FN_H + FP_H + TN_H: 1510921\n",
      "    len(label_mask_current_deforestation_test): 54127510\n",
      "ic| TP_H + FN_H + FP_H + TN_H: 1510921\n",
      "    len(label_mask_current_deforestation_test): 54127510\n"
     ]
    },
    {
     "name": "stdout",
     "output_type": "stream",
     "text": [
      "[0.94495177 0.94643021 0.63130251 0.02791411 0.54957179 0.61575368\n",
      " 0.13871356]\n",
      "0.13088686765562862\n",
      "threshold 0.13088686765562862\n"
     ]
    },
    {
     "name": "stderr",
     "output_type": "stream",
     "text": [
      "ic| label_current_deforestation_test_classified_incorrect.shape: (1667986,)\n",
      "    predicted_test_classified_incorrect.shape: (1667986,)\n",
      "ic| TP_H + FN_H + FP_H + TN_H: 1667986\n",
      "    len(label_mask_current_deforestation_test): 54127510\n",
      "ic| TP_H + FN_H + FP_H + TN_H: 1667986\n",
      "    len(label_mask_current_deforestation_test): 54127510\n"
     ]
    },
    {
     "name": "stdout",
     "output_type": "stream",
     "text": [
      "[0.95688632 0.94803772 0.59608524 0.03081586 0.57446795 0.64712691\n",
      " 0.13231485]\n",
      "0.13758073275823626\n",
      "threshold 0.13758073275823626\n"
     ]
    },
    {
     "name": "stderr",
     "output_type": "stream",
     "text": [
      "ic| label_current_deforestation_test_classified_incorrect.shape: (1617412,)\n",
      "    predicted_test_classified_incorrect.shape: (1617412,)\n",
      "ic| TP_H + FN_H + FP_H + TN_H: 1617412\n",
      "    len(label_mask_current_deforestation_test): 54127510\n",
      "ic| TP_H + FN_H + FP_H + TN_H: 1617412\n",
      "    len(label_mask_current_deforestation_test): 54127510\n"
     ]
    },
    {
     "name": "stdout",
     "output_type": "stream",
     "text": [
      "[0.95325882 0.94761824 0.60736323 0.02988151 0.56674591 0.63766855\n",
      " 0.13442842]\n",
      "0.13639756732335104\n",
      "threshold 0.13639756732335104\n"
     ]
    },
    {
     "name": "stderr",
     "output_type": "stream",
     "text": [
      "ic| label_current_deforestation_test_classified_incorrect.shape: (1626109,)\n",
      "    predicted_test_classified_incorrect.shape: (1626109,)\n",
      "ic| TP_H + FN_H + FP_H + TN_H: 1626109\n",
      "    len(label_mask_current_deforestation_test): 54127510\n",
      "ic| TP_H + FN_H + FP_H + TN_H: 1626109\n",
      "    len(label_mask_current_deforestation_test): 54127510\n"
     ]
    },
    {
     "name": "stdout",
     "output_type": "stream",
     "text": [
      "[0.95388366 0.94768248 0.60535783 0.03004219 0.56816618 0.63940797\n",
      " 0.13406166]\n",
      "0.1349775634569797\n",
      "threshold 0.1349775634569797\n"
     ]
    },
    {
     "name": "stderr",
     "output_type": "stream",
     "text": [
      "ic| label_current_deforestation_test_classified_incorrect.shape: (1636791,)\n",
      "    predicted_test_classified_incorrect.shape: (1636791,)\n",
      "ic| TP_H + FN_H + FP_H + TN_H: 1636791\n",
      "    len(label_mask_current_deforestation_test): 54127510\n",
      "ic| TP_H + FN_H + FP_H + TN_H: 1636791\n",
      "    len(label_mask_current_deforestation_test): 54127510\n"
     ]
    },
    {
     "name": "stdout",
     "output_type": "stream",
     "text": [
      "[0.95472895 0.94777876 0.602995   0.03023954 0.56972263 0.64140719\n",
      " 0.13363977]\n",
      "0.13657663795587063\n",
      "threshold 0.13657663795587063\n"
     ]
    },
    {
     "name": "stderr",
     "output_type": "stream",
     "text": [
      "ic| label_current_deforestation_test_classified_incorrect.shape: (1624767,)\n",
      "    predicted_test_classified_incorrect.shape: (1624767,)\n",
      "ic| TP_H + FN_H + FP_H + TN_H: 1624767\n",
      "    len(label_mask_current_deforestation_test): 54127510\n",
      "ic| TP_H + FN_H + FP_H + TN_H: 1624767\n",
      "    len(label_mask_current_deforestation_test): 54127510\n"
     ]
    },
    {
     "name": "stdout",
     "output_type": "stream",
     "text": [
      "[0.95378914 0.94767524 0.60566478 0.0300174  0.56794859 0.63913995\n",
      " 0.13411979]\n",
      "0.13682962639606971\n",
      "threshold 0.13682962639606971\n"
     ]
    },
    {
     "name": "stderr",
     "output_type": "stream",
     "text": [
      "ic| label_current_deforestation_test_classified_incorrect.shape: (1622950,)\n",
      "    predicted_test_classified_incorrect.shape: (1622950,)\n",
      "ic| TP_H + FN_H + FP_H + TN_H: 1622950\n",
      "    len(label_mask_current_deforestation_test): 54127510\n",
      "ic| TP_H + FN_H + FP_H + TN_H: 1622950\n",
      "    len(label_mask_current_deforestation_test): 54127510\n"
     ]
    },
    {
     "name": "stdout",
     "output_type": "stream",
     "text": [
      "[0.95367582 0.94767086 0.60610542 0.02998383 0.56761484 0.63874716\n",
      " 0.13420396]\n",
      "0.13711652349725104\n",
      "threshold 0.13711652349725104\n"
     ]
    },
    {
     "name": "stderr",
     "output_type": "stream",
     "text": [
      "ic| label_current_deforestation_test_classified_incorrect.shape: (1620845,)\n",
      "    predicted_test_classified_incorrect.shape: (1620845,)\n",
      "ic| TP_H + FN_H + FP_H + TN_H: 1620845\n",
      "    len(label_mask_current_deforestation_test): 54127510\n",
      "ic| TP_H + FN_H + FP_H + TN_H: 1620845\n",
      "    len(label_mask_current_deforestation_test): 54127510\n"
     ]
    },
    {
     "name": "stdout",
     "output_type": "stream",
     "text": [
      "[0.95348837 0.94764806 0.60659244 0.02994494 0.56730325 0.63833336\n",
      " 0.13427817]\n",
      "0.13671097251628261\n",
      "threshold 0.13671097251628261\n"
     ]
    },
    {
     "name": "stderr",
     "output_type": "stream",
     "text": [
      "ic| label_current_deforestation_test_classified_incorrect.shape: (1623823,)\n",
      "    predicted_test_classified_incorrect.shape: (1623823,)\n",
      "ic| TP_H + FN_H + FP_H + TN_H: 1623823\n",
      "    len(label_mask_current_deforestation_test): 54127510\n",
      "ic| TP_H + FN_H + FP_H + TN_H: 1623823\n",
      "    len(label_mask_current_deforestation_test): 54127510\n"
     ]
    },
    {
     "name": "stdout",
     "output_type": "stream",
     "text": [
      "[0.95372597 0.9476741  0.60592261 0.02999996 0.56775046 0.63890854\n",
      " 0.13416097]\n",
      "0.13667763715519787\n",
      "threshold 0.13667763715519787\n"
     ]
    },
    {
     "name": "stderr",
     "output_type": "stream",
     "text": [
      "ic| label_current_deforestation_test_classified_incorrect.shape: (1624046,)\n",
      "    predicted_test_classified_incorrect.shape: (1624046,)\n",
      "ic| TP_H + FN_H + FP_H + TN_H: 1624046\n",
      "    len(label_mask_current_deforestation_test): 54127510\n",
      "ic| TP_H + FN_H + FP_H + TN_H: 1624046\n",
      "    len(label_mask_current_deforestation_test): 54127510\n"
     ]
    },
    {
     "name": "stdout",
     "output_type": "stream",
     "text": [
      "[0.95373874 0.94766975 0.60584485 0.03000408 0.56781609 0.63898397\n",
      " 0.13414985]\n",
      "0.13674430787736735\n",
      "threshold 0.13674430787736735\n"
     ]
    },
    {
     "name": "stderr",
     "output_type": "stream",
     "text": [
      "ic| label_current_deforestation_test_classified_incorrect.shape: (1623590,)\n",
      "    predicted_test_classified_incorrect.shape: (1623590,)\n",
      "ic| TP_H + FN_H + FP_H + TN_H: 1623590\n",
      "    len(label_mask_current_deforestation_test): 54127510\n",
      "ic| TP_H + FN_H + FP_H + TN_H: 1623590\n",
      "    len(label_mask_current_deforestation_test): 54127510\n",
      "ic| self.threshold_optimal: 0.13671097251628261\n"
     ]
    },
    {
     "name": "stdout",
     "output_type": "stream",
     "text": [
      "[0.95370828 0.94767116 0.60596081 0.02999565 0.56772886 0.63887754\n",
      " 0.13417086]\n",
      "threshold 0.13671097251628261\n"
     ]
    },
    {
     "name": "stderr",
     "output_type": "stream",
     "text": [
      "ic| label_current_deforestation_test_classified_incorrect.shape: (1623823,)\n",
      "    predicted_test_classified_incorrect.shape: (1623823,)\n",
      "ic| TP_H + FN_H + FP_H + TN_H: 1623823\n",
      "    len(label_mask_current_deforestation_test): 54127510\n",
      "ic| TP_H + FN_H + FP_H + TN_H: 1623823\n",
      "    len(label_mask_current_deforestation_test): 54127510\n"
     ]
    },
    {
     "name": "stdout",
     "output_type": "stream",
     "text": [
      "[0.95372597 0.9476741  0.60592261 0.02999996 0.56775046 0.63890854\n",
      " 0.13416097]\n",
      "threshold 0.13671097251628261\n",
      "(54127510,) (54127510,)\n"
     ]
    },
    {
     "name": "stderr",
     "output_type": "stream",
     "text": [
      "ic| self.m_optimal: {'AA': array([0.02999996]),\n",
      "                     'UEO': array([0.13416097]),\n",
      "                     'f1': 81.95,\n",
      "                     'f1_H': array([0.60123136]),\n",
      "                     'f1_L': array([0.9506904]),\n",
      "                     'precision_H': array([0.56775046]),\n",
      "                     'precision_L': array([0.95372597]),\n",
      "                     'recall_H': array([0.63890854]),\n",
      "                     'recall_L': array([0.9476741]),\n",
      "                     'recall_Ltotal': array([0.60592261])}\n",
      "ic| self.m_audited_optimal: {'f1': array([0.96850864]),\n",
      "                             'precision': array([0.97048135]),\n",
      "                             'recall': array([0.96654393])}\n"
     ]
    },
    {
     "name": "stdout",
     "output_type": "stream",
     "text": [
      "cm_audited [[53372939    21550]\n",
      " [   24524   708497]]\n",
      "[0.97048135 0.96654393]\n",
      "Result idx 1: {'other_uncertainty_metrics': {'sUEO': 0.8141570958729208, 'ece_score': 0.0053843853543005735}, 'uncertainty_result': {'metrics': {'precision_L': array([0.95372597]), 'recall_L': array([0.9476741]), 'recall_Ltotal': array([0.60592261]), 'AA': array([0.02999996]), 'precision_H': array([0.56775046]), 'recall_H': array([0.63890854]), 'UEO': array([0.13416097]), 'f1_L': array([0.9506904]), 'f1_H': array([0.60123136]), 'f1': 81.95}, 'metrics_audited': {'precision': array([0.97048135]), 'recall': array([0.96654393]), 'f1': array([0.96850864])}, 'exp': 104}}\n",
      "Grid execution idx: 1\n",
      "Grid execution idx: 2\n",
      "Beginning run number 2\n",
      "trainer.config {'training': False, 'inferring': True, 'site': 'PA', 'training_date': 'current', 'mode': 'single_run', 'learning_rate': 0.0001, 'weights': [0.1, 0.9, 0], 'save_probabilities': False, 'loadInference': False, 'addPastDeforestationInput': True, 'Uncertainty': {}, 'uncertainty_method': 'pred_entropy_single', 'inference_times': 1, 'classes_mode': False, 'dropout_training': False}\n",
      "D:/Jorge/datasets/deforestation/PA/deforestation_past_years.tif\n",
      "Loaded deforestation past years\n"
     ]
    },
    {
     "name": "stderr",
     "output_type": "stream",
     "text": [
      "ic| np.unique(deforestation_past_years, return_counts=True): (array([   0, 2008, 2009, 2010, 2011, 2012, 2013, 2014, 2015, 2016, 2017,\n",
      "                                                                    2018, 2019, 2020, 2021], dtype=uint16),\n",
      "                                                              array([132185553,   3150503,   4571354,    864429,    903608,   1299506,\n",
      "                                                                      2477971,   1561686,   1459696,    969060,    644976,   2209014,\n",
      "                                                                      2100204,   5257014,   3514616], dtype=int64))\n"
     ]
    },
    {
     "name": "stdout",
     "output_type": "stream",
     "text": [
      "Label where deforestation past years is actual date (2019) = 1\n"
     ]
    },
    {
     "name": "stderr",
     "output_type": "stream",
     "text": [
      "ic| np.unique(deforestation_past_years, return_counts=True): (array([   0, 2008, 2009, 2010, 2011, 2012, 2013, 2014, 2015, 2016, 2017,\n",
      "                                                                    2018, 2019, 2020, 2021], dtype=uint16),\n",
      "                                                              array([132185553,   3150503,   4571354,    864429,    903608,   1299506,\n",
      "                                                                      2477971,   1561686,   1459696,    969060,    644976,   2209014,\n",
      "                                                                      2100204,   5257014,   3514616], dtype=int64))\n"
     ]
    },
    {
     "name": "stdout",
     "output_type": "stream",
     "text": [
      "Past deforestation different from 0 (no deforestation)\n"
     ]
    },
    {
     "name": "stderr",
     "output_type": "stream",
     "text": [
      "ic| np.unique(deforestation_past_years, return_counts=True): (array([   0, 2008, 2009, 2010, 2011, 2012, 2013, 2014, 2015, 2016, 2017,\n",
      "                                                                    2018, 2019, 2020, 2021], dtype=uint16),\n",
      "                                                              array([132185553,   3150503,   4571354,    864429,    903608,   1299506,\n",
      "                                                                      2477971,   1561686,   1459696,    969060,    644976,   2209014,\n",
      "                                                                      2100204,   5257014,   3514616], dtype=int64))\n"
     ]
    },
    {
     "name": "stdout",
     "output_type": "stream",
     "text": [
      "Past deforestation before 2008 is 2\n",
      "D:/Jorge/datasets/deforestation/deforestation_before_2008/deforestation_before_2008_para.tif\n"
     ]
    },
    {
     "name": "stderr",
     "output_type": "stream",
     "text": [
      "ic| np.unique(label_past_deforestation_before_2008, return_counts=True): (array([  0, 215], dtype=uint8), array([124211220,  38957970], dtype=int64))\n",
      "ic| np.unique(deforestation_past_years, return_counts=True): (array([   0, 2008, 2009, 2010, 2011, 2012, 2013, 2014, 2015, 2016, 2017,\n",
      "                                                                    2018, 2019, 2020, 2021], dtype=uint16),\n",
      "                                                              array([132185553,   3150503,   4571354,    864429,    903608,   1299506,\n",
      "                                                                      2477971,   1561686,   1459696,    969060,    644976,   2209014,\n",
      "                                                                      2100204,   5257014,   3514616], dtype=int64))\n",
      "ic| label_per_date.shape: (17730, 9203, 1)\n"
     ]
    },
    {
     "name": "stdout",
     "output_type": "stream",
     "text": [
      "Removing bufer................\n",
      "Mask label shape:  \n",
      " (17730, 9203, 1) \n",
      " Unique values:  \n",
      " [0 1 2]\n",
      "Tiles size:  3546 2300\n",
      "Mask size:  (17730, 9200)\n"
     ]
    },
    {
     "name": "stderr",
     "output_type": "stream",
     "text": [
      "ic| image_stack.shape: (17730, 9203, 21)\n"
     ]
    },
    {
     "name": "stdout",
     "output_type": "stream",
     "text": [
      "Image shape:  (17730, 9203, 21)\n",
      "mask:  (17730, 9200)\n",
      "image stack:  (17730, 9200, 21)\n",
      "ref : (17730, 9200, 1)\n",
      "Training tiles:  [1, 3, 5, 8, 11, 13, 14, 20]\n",
      "Validation tiles:  [6, 19]\n",
      "Test tiles:  [2, 4, 7, 9, 10, 12, 15, 16, 17, 18]\n",
      "-30.0 -16.0\n"
     ]
    },
    {
     "name": "stderr",
     "output_type": "stream",
     "text": [
      "ic| self.path_models+ '/' + self.method +'_'+str(0)+'.h5': 'D:/Jorge/datasets/deforestation/experiments/exp105/models/resunet_0.h5'\n"
     ]
    },
    {
     "name": "stdout",
     "output_type": "stream",
     "text": [
      "Dropout training mode: False\n",
      "time:  0\n",
      "(54236371,)\n",
      "(array([0, 1], dtype=uint8), array([53470765,   765606], dtype=int64))\n",
      "(17730, 9200)\n",
      "Single entropy\n",
      "(array([0., 1.], dtype=float32), array([160969212,   2146788], dtype=int64))\n"
     ]
    },
    {
     "name": "stderr",
     "output_type": "stream",
     "text": [
      "ic| self.predicted_unpad.shape: (17730, 9200)\n",
      "    self.predicted.shape: (17730, 9200)\n",
      "ic| predicted_test.shape: (81558000,)\n",
      "ic| predicted_test.shape: (54236371,)\n",
      "ic| np.unique(predicted, return_counts=True): (array([0., 1.], dtype=float32), array([161086764,   2029236], dtype=int64))\n",
      "    np.unique(predicted_larger_than_min_area, return_counts=True): (array([0., 1.], dtype=float32), array([161306413,   1809587], dtype=int64))\n",
      "ic| np.unique(ignored_polygons, return_counts=True): (array([0., 1.], dtype=float32), array([162896351,    219649], dtype=int64))\n",
      "ic| self.f1: 86.02, self.precision: 86.88, self.recall: 85.18\n",
      "ic| self.label_mask_val.shape: (16311600,)\n",
      "ic| self.label_mask_val_valid.shape: (9426726,)\n",
      "ic| f1_val: 87.15\n",
      "    precision_val: 83.58\n",
      "    recall_val: 91.03\n",
      "    mAP_val: 90.11\n"
     ]
    },
    {
     "name": "stdout",
     "output_type": "stream",
     "text": [
      "D:/Jorge/datasets/deforestation/PA/deforestation_past_years.tif\n",
      "Loaded deforestation past years\n"
     ]
    },
    {
     "name": "stderr",
     "output_type": "stream",
     "text": [
      "ic| np.unique(deforestation_past_years, return_counts=True): (array([   0, 2008, 2009, 2010, 2011, 2012, 2013, 2014, 2015, 2016, 2017,\n",
      "                                                                    2018, 2019, 2020, 2021], dtype=uint16),\n",
      "                                                              array([132185553,   3150503,   4571354,    864429,    903608,   1299506,\n",
      "                                                                      2477971,   1561686,   1459696,    969060,    644976,   2209014,\n",
      "                                                                      2100204,   5257014,   3514616], dtype=int64))\n"
     ]
    },
    {
     "name": "stdout",
     "output_type": "stream",
     "text": [
      "Label where deforestation past years is actual date (2019) = 1\n"
     ]
    },
    {
     "name": "stderr",
     "output_type": "stream",
     "text": [
      "ic| np.unique(deforestation_past_years, return_counts=True): (array([   0, 2008, 2009, 2010, 2011, 2012, 2013, 2014, 2015, 2016, 2017,\n",
      "                                                                    2018, 2019, 2020, 2021], dtype=uint16),\n",
      "                                                              array([132185553,   3150503,   4571354,    864429,    903608,   1299506,\n",
      "                                                                      2477971,   1561686,   1459696,    969060,    644976,   2209014,\n",
      "                                                                      2100204,   5257014,   3514616], dtype=int64))\n"
     ]
    },
    {
     "name": "stdout",
     "output_type": "stream",
     "text": [
      "Past deforestation different from 0 (no deforestation)\n"
     ]
    },
    {
     "name": "stderr",
     "output_type": "stream",
     "text": [
      "ic| np.unique(deforestation_past_years, return_counts=True): (array([   0, 2008, 2009, 2010, 2011, 2012, 2013, 2014, 2015, 2016, 2017,\n",
      "                                                                    2018, 2019, 2020, 2021], dtype=uint16),\n",
      "                                                              array([132185553,   3150503,   4571354,    864429,    903608,   1299506,\n",
      "                                                                      2477971,   1561686,   1459696,    969060,    644976,   2209014,\n",
      "                                                                      2100204,   5257014,   3514616], dtype=int64))\n"
     ]
    },
    {
     "name": "stdout",
     "output_type": "stream",
     "text": [
      "Past deforestation before 2008 is 2\n",
      "D:/Jorge/datasets/deforestation/deforestation_before_2008/deforestation_before_2008_para.tif\n"
     ]
    },
    {
     "name": "stderr",
     "output_type": "stream",
     "text": [
      "ic| np.unique(label_past_deforestation_before_2008, return_counts=True): (array([  0, 215], dtype=uint8), array([124211220,  38957970], dtype=int64))\n",
      "ic| np.unique(deforestation_past_years, return_counts=True): (array([   0, 2008, 2009, 2010, 2011, 2012, 2013, 2014, 2015, 2016, 2017,\n",
      "                                                                    2018, 2019, 2020, 2021], dtype=uint16),\n",
      "                                                              array([132185553,   3150503,   4571354,    864429,    903608,   1299506,\n",
      "                                                                      2477971,   1561686,   1459696,    969060,    644976,   2209014,\n",
      "                                                                      2100204,   5257014,   3514616], dtype=int64))\n",
      "ic| label_per_date.shape: (17730, 9203, 1)\n"
     ]
    },
    {
     "name": "stdout",
     "output_type": "stream",
     "text": [
      "(array([0., 1.], dtype=float32), array([162579301,    536699], dtype=int64))\n",
      "[0. 1.]\n"
     ]
    },
    {
     "name": "stderr",
     "output_type": "stream",
     "text": [
      "ic| pred_entropy.shape: (17760, 9216)\n",
      "ic| self.label_mask.shape: (17730, 9200)\n",
      "ic| self.mask_amazon_ts.shape: (17730, 9200)\n",
      "ic| self.label_mask_test.shape: (81558000,)\n",
      "ic| self.error_mask_test.shape: (54124102,)\n",
      "ic| trainer.dataset.previewLims1: array([2200, 3200, 6900, 7900])\n",
      "    trainer.dataset.previewLims2: array([ 500, 1500, 3500, 4500])\n",
      "ic| np.unique(trainer.mask_amazon_ts[lims[0]:lims[1], lims[2]:lims[3]]): array([1], dtype=uint8)\n",
      "ic| np.unique(trainer.mask_amazon_ts[lims[0]:lims[1], lims[2]:lims[3]], return_counts=True): (array([1], dtype=uint8), array([1000000], dtype=int64))\n",
      "Clipping input data to the valid range for imshow with RGB data ([0..1] for floats or [0..255] for integers).\n",
      "Clipping input data to the valid range for imshow with RGB data ([0..1] for floats or [0..255] for integers).\n",
      "Clipping input data to the valid range for imshow with RGB data ([0..1] for floats or [0..255] for integers).\n"
     ]
    },
    {
     "name": "stdout",
     "output_type": "stream",
     "text": [
      "(54124102,) (54124102,)\n",
      "0.8569092307938756\n",
      "ECE. Starting bin 0...\n",
      "ECE. Starting bin 1...\n",
      "ECE. Starting bin 2...\n",
      "ECE. Starting bin 3...\n",
      "ECE. Starting bin 4...\n",
      "ECE. Starting bin 5...\n",
      "ECE. Starting bin 6...\n",
      "ECE. Starting bin 7...\n",
      "ECE. Starting bin 8...\n",
      "ECE. Starting bin 9...\n"
     ]
    },
    {
     "name": "stderr",
     "output_type": "stream",
     "text": [
      "ic| bounds: (0.0015, 0.3663794801235199)\n"
     ]
    },
    {
     "name": "stdout",
     "output_type": "stream",
     "text": [
      "0.003562886009663188\n",
      "0.1408715596097929\n",
      "threshold 0.1408715596097929\n"
     ]
    },
    {
     "name": "stderr",
     "output_type": "stream",
     "text": [
      "c:\\Users\\jchamorro\\Anaconda3\\envs\\tf2\\lib\\site-packages\\scipy\\optimize\\_minimize.py:783: RuntimeWarning: Method 'bounded' does not support relative tolerance in x; defaulting to absolute tolerance.\n",
      "  warn(\"Method 'bounded' does not support relative tolerance in x; \"\n",
      "ic| label_current_deforestation_test_classified_incorrect.shape: (1054094,)\n",
      "    predicted_test_classified_incorrect.shape: (1054094,)\n",
      "ic| TP_H + FN_H + FP_H + TN_H: 1054094\n",
      "    len(label_mask_current_deforestation_test): 54124102\n",
      "ic| TP_H + FN_H + FP_H + TN_H: 1054094\n",
      "    len(label_mask_current_deforestation_test): 54124102\n"
     ]
    },
    {
     "name": "stdout",
     "output_type": "stream",
     "text": [
      "[0.95497173 0.94746587 0.68887556 0.0194755  0.62896214 0.59711311\n",
      " 0.13729292]\n",
      "0.22700792051372695\n",
      "threshold 0.22700792051372695\n"
     ]
    },
    {
     "name": "stderr",
     "output_type": "stream",
     "text": [
      "ic| label_current_deforestation_test_classified_incorrect.shape: (695674,)\n",
      "    predicted_test_classified_incorrect.shape: (695674,)\n",
      "ic| TP_H + FN_H + FP_H + TN_H: 695674\n",
      "    len(label_mask_current_deforestation_test): 54124102\n",
      "ic| TP_H + FN_H + FP_H + TN_H: 695674\n",
      "    len(label_mask_current_deforestation_test): 54124102\n"
     ]
    },
    {
     "name": "stdout",
     "output_type": "stream",
     "text": [
      "[0.91866566 0.93898329 0.76871467 0.01285331 0.57852933 0.45843842\n",
      " 0.14948367]\n",
      "0.08763636090393405\n",
      "threshold 0.08763636090393405\n"
     ]
    },
    {
     "name": "stderr",
     "output_type": "stream",
     "text": [
      "ic| label_current_deforestation_test_classified_incorrect.shape: (1403735,)\n",
      "    predicted_test_classified_incorrect.shape: (1403735,)\n",
      "ic| TP_H + FN_H + FP_H + TN_H: 1403735\n",
      "    len(label_mask_current_deforestation_test): 54124102\n",
      "ic| TP_H + FN_H + FP_H + TN_H: 1403735\n",
      "    len(label_mask_current_deforestation_test): 54124102\n"
     ]
    },
    {
     "name": "stdout",
     "output_type": "stream",
     "text": [
      "[0.97795257 0.95142097 0.6057442  0.02593549 0.68159677 0.67735285\n",
      " 0.11909948]\n",
      "0.05473519870585886\n",
      "threshold 0.05473519870585886\n"
     ]
    },
    {
     "name": "stderr",
     "output_type": "stream",
     "text": [
      "ic| label_current_deforestation_test_classified_incorrect.shape: (1764071,)\n",
      "    predicted_test_classified_incorrect.shape: (1764071,)\n",
      "ic| TP_H + FN_H + FP_H + TN_H: 1764071\n",
      "    len(label_mask_current_deforestation_test): 54124102\n",
      "ic| TP_H + FN_H + FP_H + TN_H: 1764071\n",
      "    len(label_mask_current_deforestation_test): 54124102\n"
     ]
    },
    {
     "name": "stdout",
     "output_type": "stream",
     "text": [
      "[0.98996536 0.95130444 0.50647322 0.03259308 0.73662274 0.73860236\n",
      " 0.10132527]\n",
      "0.04604867810963195\n",
      "threshold 0.04604867810963195\n"
     ]
    },
    {
     "name": "stderr",
     "output_type": "stream",
     "text": [
      "ic| label_current_deforestation_test_classified_incorrect.shape: (1900875,)\n",
      "    predicted_test_classified_incorrect.shape: (1900875,)\n",
      "ic| TP_H + FN_H + FP_H + TN_H: 1900875\n",
      "    len(label_mask_current_deforestation_test): 54124102\n",
      "ic| TP_H + FN_H + FP_H + TN_H: 1900875\n",
      "    len(label_mask_current_deforestation_test): 54124102\n"
     ]
    },
    {
     "name": "stdout",
     "output_type": "stream",
     "text": [
      "[0.99250904 0.94995554 0.46533231 0.03512068 0.75546679 0.7576392\n",
      " 0.09539236]\n",
      "0.06841558457390301\n",
      "threshold 0.06841558457390301\n"
     ]
    },
    {
     "name": "stderr",
     "output_type": "stream",
     "text": [
      "ic| label_current_deforestation_test_classified_incorrect.shape: (1591977,)\n",
      "    predicted_test_classified_incorrect.shape: (1591977,)\n",
      "ic| TP_H + FN_H + FP_H + TN_H: 1591977\n",
      "    len(label_mask_current_deforestation_test): 54124102\n",
      "ic| TP_H + FN_H + FP_H + TN_H: 1591977\n",
      "    len(label_mask_current_deforestation_test): 54124102\n"
     ]
    },
    {
     "name": "stdout",
     "output_type": "stream",
     "text": [
      "[0.9854154  0.95190512 0.5553725  0.02941346 0.7111815  0.71170279\n",
      " 0.10948032]\n",
      "0.0689401420404715\n",
      "threshold 0.0689401420404715\n"
     ]
    },
    {
     "name": "stderr",
     "output_type": "stream",
     "text": [
      "ic| label_current_deforestation_test_classified_incorrect.shape: (1586260,)\n",
      "    predicted_test_classified_incorrect.shape: (1586260,)\n",
      "ic| TP_H + FN_H + FP_H + TN_H: 1586260\n",
      "    len(label_mask_current_deforestation_test): 54124102\n",
      "ic| TP_H + FN_H + FP_H + TN_H: 1586260\n",
      "    len(label_mask_current_deforestation_test): 54124102\n"
     ]
    },
    {
     "name": "stdout",
     "output_type": "stream",
     "text": [
      "[0.9852424  0.95192274 0.55701048 0.02930783 0.71025343 0.71068789\n",
      " 0.10976928]\n",
      "0.0645685637043089\n",
      "threshold 0.0645685637043089\n"
     ]
    },
    {
     "name": "stderr",
     "output_type": "stream",
     "text": [
      "ic| label_current_deforestation_test_classified_incorrect.shape: (1636212,)\n",
      "    predicted_test_classified_incorrect.shape: (1636212,)\n",
      "ic| TP_H + FN_H + FP_H + TN_H: 1636212\n",
      "    len(label_mask_current_deforestation_test): 54124102\n",
      "ic| TP_H + FN_H + FP_H + TN_H: 1636212\n",
      "    len(label_mask_current_deforestation_test): 54124102\n"
     ]
    },
    {
     "name": "stdout",
     "output_type": "stream",
     "text": [
      "[0.98668073 0.95185889 0.54316702 0.03023075 0.71791222 0.71892196\n",
      " 0.10729256]\n",
      "0.06463538360486197\n",
      "threshold 0.06463538360486197\n"
     ]
    },
    {
     "name": "stderr",
     "output_type": "stream",
     "text": [
      "ic| label_current_deforestation_test_classified_incorrect.shape: (1635374,)\n",
      "    predicted_test_classified_incorrect.shape: (1635374,)\n",
      "ic| TP_H + FN_H + FP_H + TN_H: 1635374\n",
      "    len(label_mask_current_deforestation_test): 54124102\n",
      "ic| TP_H + FN_H + FP_H + TN_H: 1635374\n",
      "    len(label_mask_current_deforestation_test): 54124102\n"
     ]
    },
    {
     "name": "stdout",
     "output_type": "stream",
     "text": [
      "[0.9866573  0.95186081 0.54340451 0.03021526 0.71778353 0.71878459\n",
      " 0.10733336]\n",
      "0.0659528722981361\n",
      "threshold 0.0659528722981361\n"
     ]
    },
    {
     "name": "stderr",
     "output_type": "stream",
     "text": [
      "ic| label_current_deforestation_test_classified_incorrect.shape: (1619960,)\n",
      "    predicted_test_classified_incorrect.shape: (1619960,)\n",
      "ic| TP_H + FN_H + FP_H + TN_H: 1619960\n",
      "    len(label_mask_current_deforestation_test): 54124102\n",
      "ic| TP_H + FN_H + FP_H + TN_H: 1619960\n",
      "    len(label_mask_current_deforestation_test): 54124102\n"
     ]
    },
    {
     "name": "stdout",
     "output_type": "stream",
     "text": [
      "[0.98624271 0.95188851 0.54762635 0.02993047 0.71547162 0.7163221\n",
      " 0.10809698]\n",
      "0.06591953798656358\n",
      "threshold 0.06591953798656358\n"
     ]
    },
    {
     "name": "stderr",
     "output_type": "stream",
     "text": [
      "ic| label_current_deforestation_test_classified_incorrect.shape: (1620365,)\n",
      "    predicted_test_classified_incorrect.shape: (1620365,)\n",
      "ic| TP_H + FN_H + FP_H + TN_H: 1620365\n",
      "    len(label_mask_current_deforestation_test): 54124102\n",
      "ic| TP_H + FN_H + FP_H + TN_H: 1620365\n",
      "    len(label_mask_current_deforestation_test): 54124102\n"
     ]
    },
    {
     "name": "stdout",
     "output_type": "stream",
     "text": [
      "[0.98624967 0.95188392 0.54751778 0.02993796 0.71553512 0.71639002\n",
      " 0.10807442]\n",
      "0.06550608231352673\n",
      "threshold 0.06550608231352673\n"
     ]
    },
    {
     "name": "stderr",
     "output_type": "stream",
     "text": [
      "ic| label_current_deforestation_test_classified_incorrect.shape: (1625175,)\n",
      "    predicted_test_classified_incorrect.shape: (1625175,)\n",
      "ic| TP_H + FN_H + FP_H + TN_H: 1625175\n",
      "    len(label_mask_current_deforestation_test): 54124102\n",
      "ic| TP_H + FN_H + FP_H + TN_H: 1625175\n",
      "    len(label_mask_current_deforestation_test): 54124102\n"
     ]
    },
    {
     "name": "stdout",
     "output_type": "stream",
     "text": [
      "[0.98638301 0.95188279 0.54626928 0.03002683 0.71621278 0.71711603\n",
      " 0.10783608]\n",
      "0.06517350500077743\n",
      "threshold 0.06517350500077743\n"
     ]
    },
    {
     "name": "stderr",
     "output_type": "stream",
     "text": [
      "ic| label_current_deforestation_test_classified_incorrect.shape: (1629015,)\n",
      "    predicted_test_classified_incorrect.shape: (1629015,)\n",
      "ic| TP_H + FN_H + FP_H + TN_H: 1629015\n",
      "    len(label_mask_current_deforestation_test): 54124102\n",
      "ic| TP_H + FN_H + FP_H + TN_H: 1629015\n",
      "    len(label_mask_current_deforestation_test): 54124102\n"
     ]
    },
    {
     "name": "stdout",
     "output_type": "stream",
     "text": [
      "[0.98647053 0.951872   0.54520127 0.03009777 0.7168145  0.71774347\n",
      " 0.10764075]\n",
      "0.0655762083707567\n",
      "threshold 0.0655762083707567\n"
     ]
    },
    {
     "name": "stderr",
     "output_type": "stream",
     "text": [
      "ic| label_current_deforestation_test_classified_incorrect.shape: (1624352,)\n",
      "    predicted_test_classified_incorrect.shape: (1624352,)\n",
      "ic| TP_H + FN_H + FP_H + TN_H: 1624352\n",
      "    len(label_mask_current_deforestation_test): 54124102\n",
      "ic| TP_H + FN_H + FP_H + TN_H: 1624352\n",
      "    len(label_mask_current_deforestation_test): 54124102\n"
     ]
    },
    {
     "name": "stdout",
     "output_type": "stream",
     "text": [
      "[0.98635925 0.95188039 0.54648234 0.03001162 0.71609834 0.71699508\n",
      " 0.10787576]\n",
      "0.06566439457501204\n",
      "threshold 0.06566439457501204\n"
     ]
    },
    {
     "name": "stderr",
     "output_type": "stream",
     "text": [
      "ic| label_current_deforestation_test_classified_incorrect.shape: (1623320,)\n",
      "    predicted_test_classified_incorrect.shape: (1623320,)\n",
      "ic| TP_H + FN_H + FP_H + TN_H: 1623320\n",
      "    len(label_mask_current_deforestation_test): 54124102\n",
      "ic| TP_H + FN_H + FP_H + TN_H: 1623320\n",
      "    len(label_mask_current_deforestation_test): 54124102\n"
     ]
    },
    {
     "name": "stdout",
     "output_type": "stream",
     "text": [
      "[0.9863345  0.95187378 0.5467524  0.02999255 0.71594807 0.71684523\n",
      " 0.1079258 ]\n",
      "0.06569772888230574\n",
      "threshold 0.06569772888230574\n"
     ]
    },
    {
     "name": "stderr",
     "output_type": "stream",
     "text": [
      "ic| label_current_deforestation_test_classified_incorrect.shape: (1622954,)\n",
      "    predicted_test_classified_incorrect.shape: (1622954,)\n",
      "ic| TP_H + FN_H + FP_H + TN_H: 1622954\n",
      "    len(label_mask_current_deforestation_test): 54124102\n",
      "ic| TP_H + FN_H + FP_H + TN_H: 1622954\n",
      "    len(label_mask_current_deforestation_test): 54124102\n"
     ]
    },
    {
     "name": "stdout",
     "output_type": "stream",
     "text": [
      "[0.98632464 0.95187454 0.54684196 0.02998579 0.71589975 0.71679248\n",
      " 0.10794438]\n",
      "0.06563106026771834\n",
      "threshold 0.06563106026771834\n"
     ]
    },
    {
     "name": "stderr",
     "output_type": "stream",
     "text": [
      "ic| label_current_deforestation_test_classified_incorrect.shape: (1623688,)\n",
      "    predicted_test_classified_incorrect.shape: (1623688,)\n",
      "ic| TP_H + FN_H + FP_H + TN_H: 1623688\n",
      "    len(label_mask_current_deforestation_test): 54124102\n",
      "ic| TP_H + FN_H + FP_H + TN_H: 1623688\n",
      "    len(label_mask_current_deforestation_test): 54124102\n",
      "ic| self.threshold_optimal: 0.06563106026771834\n"
     ]
    },
    {
     "name": "stdout",
     "output_type": "stream",
     "text": [
      "[0.98634186 0.95187718 0.54665876 0.02999935 0.71600135 0.71689608\n",
      " 0.10790777]\n",
      "threshold 0.06563106026771834\n"
     ]
    },
    {
     "name": "stderr",
     "output_type": "stream",
     "text": [
      "ic| label_current_deforestation_test_classified_incorrect.shape: (1623688,)\n",
      "    predicted_test_classified_incorrect.shape: (1623688,)\n",
      "ic| TP_H + FN_H + FP_H + TN_H: 1623688\n",
      "    len(label_mask_current_deforestation_test): 54124102\n",
      "ic| TP_H + FN_H + FP_H + TN_H: 1623688\n",
      "    len(label_mask_current_deforestation_test): 54124102\n"
     ]
    },
    {
     "name": "stdout",
     "output_type": "stream",
     "text": [
      "[0.98634186 0.95187718 0.54665876 0.02999935 0.71600135 0.71689608\n",
      " 0.10790777]\n",
      "threshold 0.06563106026771834\n",
      "(54124102,) (54124102,)\n"
     ]
    },
    {
     "name": "stderr",
     "output_type": "stream",
     "text": [
      "ic| self.m_optimal: {'AA': array([0.02999935]),\n",
      "                     'UEO': array([0.10790777]),\n",
      "                     'f1': 86.02,\n",
      "                     'f1_H': array([0.71644844]),\n",
      "                     'f1_L': array([0.9688031]),\n",
      "                     'precision_H': array([0.71600135]),\n",
      "                     'precision_L': array([0.98634186]),\n",
      "                     'recall_H': array([0.71689608]),\n",
      "                     'recall_L': array([0.95187718]),\n",
      "                     'recall_Ltotal': array([0.54665876])}\n",
      "ic| self.m_audited_optimal: {'f1': array([0.98221836]),\n",
      "                             'precision': array([0.99227525]),\n",
      "                             'recall': array([0.97236328])}\n"
     ]
    },
    {
     "name": "stdout",
     "output_type": "stream",
     "text": [
      "cm_audited [[53381642     5578]\n",
      " [   20365   716517]]\n",
      "[0.99227525 0.97236328]\n",
      "Result idx 2: {'other_uncertainty_metrics': {'sUEO': 0.8569092307938756, 'ece_score': 0.003562886009663188}, 'uncertainty_result': {'metrics': {'precision_L': array([0.98634186]), 'recall_L': array([0.95187718]), 'recall_Ltotal': array([0.54665876]), 'AA': array([0.02999935]), 'precision_H': array([0.71600135]), 'recall_H': array([0.71689608]), 'UEO': array([0.10790777]), 'f1_L': array([0.9688031]), 'f1_H': array([0.71644844]), 'f1': 86.02}, 'metrics_audited': {'precision': array([0.99227525]), 'recall': array([0.97236328]), 'f1': array([0.98221836])}, 'exp': 105}}\n",
      "Grid execution idx: 2\n",
      "Grid execution idx: 3\n",
      "Beginning run number 3\n",
      "trainer.config {'training': False, 'inferring': True, 'site': 'PA', 'training_date': 'current', 'mode': 'single_run', 'learning_rate': 0.0001, 'weights': [0.1, 0.9, 0], 'save_probabilities': False, 'loadInference': False, 'addPastDeforestationInput': True, 'Uncertainty': {}, 'uncertainty_method': 'pred_entropy_single', 'inference_times': 1, 'classes_mode': False, 'dropout_training': False}\n",
      "D:/Jorge/datasets/deforestation/PA/deforestation_past_years.tif\n",
      "Loaded deforestation past years\n"
     ]
    },
    {
     "name": "stderr",
     "output_type": "stream",
     "text": [
      "ic| np.unique(deforestation_past_years, return_counts=True): (array([   0, 2008, 2009, 2010, 2011, 2012, 2013, 2014, 2015, 2016, 2017,\n",
      "                                                                    2018, 2019, 2020, 2021], dtype=uint16),\n",
      "                                                              array([132185553,   3150503,   4571354,    864429,    903608,   1299506,\n",
      "                                                                      2477971,   1561686,   1459696,    969060,    644976,   2209014,\n",
      "                                                                      2100204,   5257014,   3514616], dtype=int64))\n"
     ]
    },
    {
     "name": "stdout",
     "output_type": "stream",
     "text": [
      "Label where deforestation past years is actual date (2019) = 1\n"
     ]
    },
    {
     "name": "stderr",
     "output_type": "stream",
     "text": [
      "ic| np.unique(deforestation_past_years, return_counts=True): (array([   0, 2008, 2009, 2010, 2011, 2012, 2013, 2014, 2015, 2016, 2017,\n",
      "                                                                    2018, 2019, 2020, 2021], dtype=uint16),\n",
      "                                                              array([132185553,   3150503,   4571354,    864429,    903608,   1299506,\n",
      "                                                                      2477971,   1561686,   1459696,    969060,    644976,   2209014,\n",
      "                                                                      2100204,   5257014,   3514616], dtype=int64))\n"
     ]
    },
    {
     "name": "stdout",
     "output_type": "stream",
     "text": [
      "Past deforestation different from 0 (no deforestation)\n"
     ]
    },
    {
     "name": "stderr",
     "output_type": "stream",
     "text": [
      "ic| np.unique(deforestation_past_years, return_counts=True): (array([   0, 2008, 2009, 2010, 2011, 2012, 2013, 2014, 2015, 2016, 2017,\n",
      "                                                                    2018, 2019, 2020, 2021], dtype=uint16),\n",
      "                                                              array([132185553,   3150503,   4571354,    864429,    903608,   1299506,\n",
      "                                                                      2477971,   1561686,   1459696,    969060,    644976,   2209014,\n",
      "                                                                      2100204,   5257014,   3514616], dtype=int64))\n"
     ]
    },
    {
     "name": "stdout",
     "output_type": "stream",
     "text": [
      "Past deforestation before 2008 is 2\n",
      "D:/Jorge/datasets/deforestation/deforestation_before_2008/deforestation_before_2008_para.tif\n"
     ]
    },
    {
     "name": "stderr",
     "output_type": "stream",
     "text": [
      "ic| np.unique(label_past_deforestation_before_2008, return_counts=True): (array([  0, 215], dtype=uint8), array([124211220,  38957970], dtype=int64))\n",
      "ic| np.unique(deforestation_past_years, return_counts=True): (array([   0, 2008, 2009, 2010, 2011, 2012, 2013, 2014, 2015, 2016, 2017,\n",
      "                                                                    2018, 2019, 2020, 2021], dtype=uint16),\n",
      "                                                              array([132185553,   3150503,   4571354,    864429,    903608,   1299506,\n",
      "                                                                      2477971,   1561686,   1459696,    969060,    644976,   2209014,\n",
      "                                                                      2100204,   5257014,   3514616], dtype=int64))\n",
      "ic| label_per_date.shape: (17730, 9203, 1)\n"
     ]
    },
    {
     "name": "stdout",
     "output_type": "stream",
     "text": [
      "Removing bufer................\n",
      "Mask label shape:  \n",
      " (17730, 9203, 1) \n",
      " Unique values:  \n",
      " [0 1 2]\n",
      "Tiles size:  3546 2300\n",
      "Mask size:  (17730, 9200)\n"
     ]
    },
    {
     "name": "stderr",
     "output_type": "stream",
     "text": [
      "ic| image_stack.shape: (17730, 9203, 21)\n"
     ]
    },
    {
     "name": "stdout",
     "output_type": "stream",
     "text": [
      "Image shape:  (17730, 9203, 21)\n",
      "mask:  (17730, 9200)\n",
      "image stack:  (17730, 9200, 21)\n",
      "ref : (17730, 9200, 1)\n",
      "Training tiles:  [1, 3, 5, 8, 11, 13, 14, 20]\n",
      "Validation tiles:  [6, 19]\n",
      "Test tiles:  [2, 4, 7, 9, 10, 12, 15, 16, 17, 18]\n",
      "-30.0 -16.0\n"
     ]
    },
    {
     "name": "stderr",
     "output_type": "stream",
     "text": [
      "ic| self.path_models+ '/' + self.method +'_'+str(0)+'.h5': 'D:/Jorge/datasets/deforestation/experiments/exp106/models/resunet_0.h5'\n"
     ]
    },
    {
     "name": "stdout",
     "output_type": "stream",
     "text": [
      "Dropout training mode: False\n",
      "time:  0\n",
      "(54236371,)\n",
      "(array([0, 1], dtype=uint8), array([53470765,   765606], dtype=int64))\n",
      "(17730, 9200)\n",
      "Single entropy\n",
      "(array([0., 1.], dtype=float32), array([161053226,   2062774], dtype=int64))\n"
     ]
    },
    {
     "name": "stderr",
     "output_type": "stream",
     "text": [
      "ic| self.predicted_unpad.shape: (17730, 9200)\n",
      "    self.predicted.shape: (17730, 9200)\n",
      "ic| predicted_test.shape: (81558000,)\n",
      "ic| predicted_test.shape: (54236371,)\n",
      "ic| np.unique(predicted, return_counts=True): (array([0., 1.], dtype=float32), array([161159400,   1956600], dtype=int64))\n",
      "    np.unique(predicted_larger_than_min_area, return_counts=True): (array([0., 1.], dtype=float32), array([161359279,   1756721], dtype=int64))\n",
      "ic| np.unique(ignored_polygons, return_counts=True): (array([0., 1.], dtype=float32), array([162916121,    199879], dtype=int64))\n",
      "ic| self.f1: 85.33, self.precision: 87.15, self.recall: 83.59\n",
      "ic| self.label_mask_val.shape: (16311600,)\n",
      "ic| self.label_mask_val_valid.shape: (9430852,)\n",
      "ic| f1_val: 86.34\n",
      "    precision_val: 82.67\n",
      "    recall_val: 90.35\n",
      "    mAP_val: 92.91\n"
     ]
    },
    {
     "name": "stdout",
     "output_type": "stream",
     "text": [
      "D:/Jorge/datasets/deforestation/PA/deforestation_past_years.tif\n",
      "Loaded deforestation past years\n"
     ]
    },
    {
     "name": "stderr",
     "output_type": "stream",
     "text": [
      "ic| np.unique(deforestation_past_years, return_counts=True): (array([   0, 2008, 2009, 2010, 2011, 2012, 2013, 2014, 2015, 2016, 2017,\n",
      "                                                                    2018, 2019, 2020, 2021], dtype=uint16),\n",
      "                                                              array([132185553,   3150503,   4571354,    864429,    903608,   1299506,\n",
      "                                                                      2477971,   1561686,   1459696,    969060,    644976,   2209014,\n",
      "                                                                      2100204,   5257014,   3514616], dtype=int64))\n"
     ]
    },
    {
     "name": "stdout",
     "output_type": "stream",
     "text": [
      "Label where deforestation past years is actual date (2019) = 1\n"
     ]
    },
    {
     "name": "stderr",
     "output_type": "stream",
     "text": [
      "ic| np.unique(deforestation_past_years, return_counts=True): (array([   0, 2008, 2009, 2010, 2011, 2012, 2013, 2014, 2015, 2016, 2017,\n",
      "                                                                    2018, 2019, 2020, 2021], dtype=uint16),\n",
      "                                                              array([132185553,   3150503,   4571354,    864429,    903608,   1299506,\n",
      "                                                                      2477971,   1561686,   1459696,    969060,    644976,   2209014,\n",
      "                                                                      2100204,   5257014,   3514616], dtype=int64))\n"
     ]
    },
    {
     "name": "stdout",
     "output_type": "stream",
     "text": [
      "Past deforestation different from 0 (no deforestation)\n"
     ]
    },
    {
     "name": "stderr",
     "output_type": "stream",
     "text": [
      "ic| np.unique(deforestation_past_years, return_counts=True): (array([   0, 2008, 2009, 2010, 2011, 2012, 2013, 2014, 2015, 2016, 2017,\n",
      "                                                                    2018, 2019, 2020, 2021], dtype=uint16),\n",
      "                                                              array([132185553,   3150503,   4571354,    864429,    903608,   1299506,\n",
      "                                                                      2477971,   1561686,   1459696,    969060,    644976,   2209014,\n",
      "                                                                      2100204,   5257014,   3514616], dtype=int64))\n"
     ]
    },
    {
     "name": "stdout",
     "output_type": "stream",
     "text": [
      "Past deforestation before 2008 is 2\n",
      "D:/Jorge/datasets/deforestation/deforestation_before_2008/deforestation_before_2008_para.tif\n"
     ]
    },
    {
     "name": "stderr",
     "output_type": "stream",
     "text": [
      "ic| np.unique(label_past_deforestation_before_2008, return_counts=True): (array([  0, 215], dtype=uint8), array([124211220,  38957970], dtype=int64))\n",
      "ic| np.unique(deforestation_past_years, return_counts=True): (array([   0, 2008, 2009, 2010, 2011, 2012, 2013, 2014, 2015, 2016, 2017,\n",
      "                                                                    2018, 2019, 2020, 2021], dtype=uint16),\n",
      "                                                              array([132185553,   3150503,   4571354,    864429,    903608,   1299506,\n",
      "                                                                      2477971,   1561686,   1459696,    969060,    644976,   2209014,\n",
      "                                                                      2100204,   5257014,   3514616], dtype=int64))\n",
      "ic| label_per_date.shape: (17730, 9203, 1)\n"
     ]
    },
    {
     "name": "stdout",
     "output_type": "stream",
     "text": [
      "(array([0., 1.], dtype=float32), array([162534673,    581327], dtype=int64))\n",
      "[0. 1.]\n"
     ]
    },
    {
     "name": "stderr",
     "output_type": "stream",
     "text": [
      "ic| pred_entropy.shape: (17760, 9216)\n",
      "ic| self.label_mask.shape: (17730, 9200)\n",
      "ic| self.mask_amazon_ts.shape: (17730, 9200)\n",
      "ic| self.label_mask_test.shape: (81558000,)\n",
      "ic| self.error_mask_test.shape: (54135604,)\n",
      "ic| trainer.dataset.previewLims1: array([2200, 3200, 6900, 7900])\n",
      "    trainer.dataset.previewLims2: array([ 500, 1500, 3500, 4500])\n",
      "ic| np.unique(trainer.mask_amazon_ts[lims[0]:lims[1], lims[2]:lims[3]]): array([1], dtype=uint8)\n",
      "ic| np.unique(trainer.mask_amazon_ts[lims[0]:lims[1], lims[2]:lims[3]], return_counts=True): (array([1], dtype=uint8), array([1000000], dtype=int64))\n",
      "Clipping input data to the valid range for imshow with RGB data ([0..1] for floats or [0..255] for integers).\n",
      "Clipping input data to the valid range for imshow with RGB data ([0..1] for floats or [0..255] for integers).\n",
      "Clipping input data to the valid range for imshow with RGB data ([0..1] for floats or [0..255] for integers).\n"
     ]
    },
    {
     "name": "stdout",
     "output_type": "stream",
     "text": [
      "(54135604,) (54135604,)\n",
      "0.8275843097139371\n",
      "ECE. Starting bin 0...\n",
      "ECE. Starting bin 1...\n",
      "ECE. Starting bin 2...\n",
      "ECE. Starting bin 3...\n",
      "ECE. Starting bin 4...\n"
     ]
    }
   ],
   "source": [
    "if config['inferring'] == True:\n",
    "    idx = 0\n",
    "    results = []\n",
    "    error_count = 0\n",
    "\n",
    "    while idx < len(repetition_n):\n",
    "    # for experiment_value, exp_id in zip(experiment_values, exp_ids):\n",
    "        try:\n",
    "\n",
    "            print(\"Beginning run number {}\".format(idx))\n",
    "            logger = Logger()\n",
    "            trainer = trainer_class(config, dataset, patchesHandler, logger)\n",
    "            print(\"trainer.config\", trainer.config)\n",
    "\n",
    "            trainer.defineExperiment(exp) # fixed\n",
    "            trainer.defineRepetitionId(idx) # varying from 0 to 10\n",
    "            trainer.setExperimentPath()\n",
    "            trainer.createLogFolders()\n",
    "\n",
    "            trainer.loadDataset()\n",
    "\n",
    "            # %%\n",
    "            result = trainer.run_predictor()\n",
    "            print(\"Result idx {}: {}\".format(idx, result))\n",
    "            results.append(result)\n",
    "\n",
    "\n",
    "            with open(trainer.default_log_name, 'wb') as f:\n",
    "                pickle.dump(results, f)\n",
    "            print(\"Grid execution idx: {}\".format(idx))\n",
    "            idx += 1\n",
    "            print(\"Grid execution idx: {}\".format(idx))\n",
    "            error_count = 0\n",
    "        except Exception as e: \n",
    "            print(traceback.format_exc())\n",
    "            error_count += 1\n",
    "            if error_count > 10:\n",
    "                sys.exit()\n",
    "            print(\"Execution error in idx {}. Retrying...\".format(idx))\n",
    "            continue"
   ]
  },
  {
   "cell_type": "code",
   "execution_count": null,
   "id": "f07bf7d7",
   "metadata": {},
   "outputs": [
    {
     "data": {
      "text/plain": [
       "0"
      ]
     },
     "execution_count": 11,
     "metadata": {},
     "output_type": "execute_result"
    }
   ],
   "source": [
    "error_count"
   ]
  },
  {
   "cell_type": "code",
   "execution_count": null,
   "id": "64080745",
   "metadata": {},
   "outputs": [
    {
     "name": "stdout",
     "output_type": "stream",
     "text": [
      "[{'other_uncertainty_metrics': {'sUEO': 0.7995724287077376, 'ece_score': 0.004703061421809009}, 'uncertainty_result': {'metrics': {'precision_L': array([0.75129831]), 'recall_L': array([0.97057467]), 'recall_Ltotal': array([0.61832539]), 'AA': array([0.02999947]), 'precision_H': array([0.65686753]), 'recall_H': array([0.67027312]), 'UEO': array([0.13832113]), 'f1_L': array([0.84697433]), 'f1_H': array([0.66350262]), 'f1': 78.56}, 'metrics_audited': {'precision': array([0.82740766]), 'recall': array([0.98125396]), 'f1': array([0.89778766])}, 'exp': 108}}, {'other_uncertainty_metrics': {'sUEO': 0.8040191984323906, 'ece_score': 0.004066924262362896}, 'uncertainty_result': {'metrics': {'precision_L': array([0.80184449]), 'recall_L': array([0.9597654]), 'recall_Ltotal': array([0.66484832]), 'AA': array([0.02999988]), 'precision_H': array([0.54334729]), 'recall_H': array([0.61293739]), 'UEO': array([0.15867725]), 'f1_L': array([0.87372647]), 'f1_H': array([0.57604823]), 'f1': 78.43}, 'metrics_audited': {'precision': array([0.85542399]), 'recall': array([0.9721287]), 'f1': array([0.91005005])}, 'exp': 109}}, {'other_uncertainty_metrics': {'sUEO': 0.8544722161340583, 'ece_score': 0.0016002804054901932}, 'uncertainty_result': {'metrics': {'precision_L': array([0.93018779]), 'recall_L': array([0.95656277]), 'recall_Ltotal': array([0.55401178]), 'AA': array([0.02999748]), 'precision_H': array([0.65944193]), 'recall_H': array([0.74858659]), 'UEO': array([0.16547541]), 'f1_L': array([0.94319093]), 'f1_H': array([0.70119231]), 'f1': 83.83}, 'metrics_audited': {'precision': array([0.95909224]), 'recall': array([0.97484249]), 'f1': array([0.96690323])}, 'exp': 110}}, {'other_uncertainty_metrics': {'sUEO': 0.820374517174952, 'ece_score': 0.0013818842873508511}, 'uncertainty_result': {'metrics': {'precision_L': array([0.90456448]), 'recall_L': array([0.9592559]), 'recall_Ltotal': array([0.510722]), 'AA': array([0.02999889]), 'precision_H': array([0.64081063]), 'recall_H': array([0.53424658]), 'UEO': array([0.21744063]), 'f1_L': array([0.93110777]), 'f1_H': array([0.58269654]), 'f1': 77.83}, 'metrics_audited': {'precision': array([0.94779704]), 'recall': array([0.97830724]), 'f1': array([0.96281049])}, 'exp': 111}}, {'other_uncertainty_metrics': {'sUEO': 0.782950448216457, 'ece_score': 0.0026254625831538974}, 'uncertainty_result': {'metrics': {'precision_L': array([0.85867337]), 'recall_L': array([0.9429024]), 'recall_Ltotal': array([0.51763194]), 'AA': array([0.03000113]), 'precision_H': array([0.65002702]), 'recall_H': array([0.38708648]), 'UEO': array([0.22007283]), 'f1_L': array([0.89881891]), 'f1_H': array([0.48522494]), 'f1': 73.98}, 'metrics_audited': {'precision': array([0.91915779]), 'recall': array([0.96865472]), 'f1': array([0.94325737])}, 'exp': 112}}, {'other_uncertainty_metrics': {'sUEO': 0.8153315732771294, 'ece_score': 0.0015211680152729772}, 'uncertainty_result': {'metrics': {'precision_L': array([0.94557422]), 'recall_L': array([0.92134442]), 'recall_Ltotal': array([0.51836171]), 'AA': array([0.03000013]), 'precision_H': array([0.82132768]), 'recall_H': array([0.41282411]), 'UEO': array([0.18096447]), 'f1_L': array([0.93330209]), 'f1_H': array([0.54946866]), 'f1': 79.06}, 'metrics_audited': {'precision': array([0.96972748]), 'recall': array([0.95574723]), 'f1': array([0.9626866])}, 'exp': 113}}, {'other_uncertainty_metrics': {'sUEO': 0.7903187975156954, 'ece_score': 0.003166226952840055}, 'uncertainty_result': {'metrics': {'precision_L': array([0.89996871]), 'recall_L': array([0.86013017]), 'recall_Ltotal': array([0.52055783]), 'AA': array([0.03000011]), 'precision_H': array([0.77189956]), 'recall_H': array([0.42865917]), 'UEO': array([0.16249399]), 'f1_L': array([0.87959858]), 'f1_H': array([0.55121306]), 'f1': 76.74}, 'metrics_audited': {'precision': array([0.94054736]), 'recall': array([0.91534963]), 'f1': array([0.92777744])}, 'exp': 114}}, {'other_uncertainty_metrics': {'sUEO': 0.8316825162241425, 'ece_score': 0.00311356365330777}, 'uncertainty_result': {'metrics': {'precision_L': array([0.84423852]), 'recall_L': array([0.96924086]), 'recall_Ltotal': array([0.60963999]), 'AA': array([0.02999977]), 'precision_H': array([0.67569952]), 'recall_H': array([0.63267069]), 'UEO': array([0.1471728]), 'f1_L': array([0.90243151]), 'f1_H': array([0.65347755]), 'f1': 81.6}, 'metrics_audited': {'precision': array([0.89710457]), 'recall': array([0.9806529]), 'f1': array([0.93702005])}, 'exp': 115}}, {'other_uncertainty_metrics': {'sUEO': 0.7991072661524431, 'ece_score': 0.002241915993469394}, 'uncertainty_result': {'metrics': {'precision_L': array([0.84939785]), 'recall_L': array([0.96330919]), 'recall_Ltotal': array([0.58893441]), 'AA': array([0.02999901]), 'precision_H': array([0.54184568]), 'recall_H': array([0.47973841]), 'UEO': array([0.21325285]), 'f1_L': array([0.9027744]), 'f1_H': array([0.50890414]), 'f1': 76.11}, 'metrics_audited': {'precision': array([0.90349185]), 'recall': array([0.97756849]), 'f1': array([0.93907159])}, 'exp': 116}}, {'other_uncertainty_metrics': {'sUEO': 0.8294632050056114, 'ece_score': 0.002519055584323931}, 'uncertainty_result': {'metrics': {'precision_L': array([0.9204966]), 'recall_L': array([0.95676972]), 'recall_Ltotal': array([0.54593542]), 'AA': array([0.0300014]), 'precision_H': array([0.65583408]), 'recall_H': array([0.6257548]), 'UEO': array([0.18470053]), 'f1_L': array([0.93828272]), 'f1_H': array([0.64044145]), 'f1': 81.35}, 'metrics_audited': {'precision': array([0.95388441]), 'recall': array([0.97533269]), 'f1': array([0.96448932])}, 'exp': 117}}]\n"
     ]
    }
   ],
   "source": [
    "print(results)"
   ]
  },
  {
   "cell_type": "code",
   "execution_count": null,
   "id": "cd4f4d1d",
   "metadata": {},
   "outputs": [
    {
     "name": "stdout",
     "output_type": "stream",
     "text": [
      "10\n"
     ]
    }
   ],
   "source": [
    "print(len(results))"
   ]
  },
  {
   "cell_type": "code",
   "execution_count": null,
   "id": "6cc43863",
   "metadata": {},
   "outputs": [
    {
     "data": {
      "text/plain": [
       "{'other_uncertainty_metrics': {'sUEO': 0.7995724287077376,\n",
       "  'ece_score': 0.004703061421809009},\n",
       " 'uncertainty_result': {'metrics': {'precision_L': array([0.75129831]),\n",
       "   'recall_L': array([0.97057467]),\n",
       "   'recall_Ltotal': array([0.61832539]),\n",
       "   'AA': array([0.02999947]),\n",
       "   'precision_H': array([0.65686753]),\n",
       "   'recall_H': array([0.67027312]),\n",
       "   'UEO': array([0.13832113]),\n",
       "   'f1_L': array([0.84697433]),\n",
       "   'f1_H': array([0.66350262]),\n",
       "   'f1': 78.56},\n",
       "  'metrics_audited': {'precision': array([0.82740766]),\n",
       "   'recall': array([0.98125396]),\n",
       "   'f1': array([0.89778766])},\n",
       "  'exp': 108}}"
      ]
     },
     "execution_count": 14,
     "metadata": {},
     "output_type": "execute_result"
    }
   ],
   "source": [
    "results[0]"
   ]
  },
  {
   "cell_type": "code",
   "execution_count": null,
   "id": "4819ba4f",
   "metadata": {},
   "outputs": [
    {
     "data": {
      "text/plain": [
       "81.35"
      ]
     },
     "execution_count": 15,
     "metadata": {},
     "output_type": "execute_result"
    }
   ],
   "source": [
    "trainer.f1"
   ]
  },
  {
   "cell_type": "code",
   "execution_count": null,
   "id": "13437081",
   "metadata": {},
   "outputs": [
    {
     "name": "stdout",
     "output_type": "stream",
     "text": [
      "81.35\n"
     ]
    }
   ],
   "source": [
    "print(trainer.f1)"
   ]
  }
 ],
 "metadata": {
  "kernelspec": {
   "display_name": "Python 3.9.12 ('tf2')",
   "language": "python",
   "name": "python3"
  },
  "language_info": {
   "codemirror_mode": {
    "name": "ipython",
    "version": 3
   },
   "file_extension": ".py",
   "mimetype": "text/x-python",
   "name": "python",
   "nbconvert_exporter": "python",
   "pygments_lexer": "ipython3",
   "version": "3.9.12"
  },
  "vscode": {
   "interpreter": {
    "hash": "0593c6bd4eb743cc503a3c17025f83c5676f297db573750215a1bc8c88a990c4"
   }
  }
 },
 "nbformat": 4,
 "nbformat_minor": 5
}
