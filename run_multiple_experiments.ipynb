{
 "cells": [
  {
   "cell_type": "code",
   "execution_count": 1,
   "id": "dbd5b7cf",
   "metadata": {},
   "outputs": [],
   "source": [
    "import tracemalloc\n",
    "\n",
    "from utils_v1 import *\n",
    "import traceback\n"
   ]
  },
  {
   "cell_type": "code",
   "execution_count": 2,
   "id": "123e793c",
   "metadata": {},
   "outputs": [
    {
     "name": "stdout",
     "output_type": "stream",
     "text": [
      "Tensorflow ver. 2.6.0\n"
     ]
    }
   ],
   "source": [
    "from icecream import ic\n",
    "\n",
    "import numpy as np\n",
    "from src.dataset import (\n",
    "    MultipleDates, PAMultipleDates,\n",
    "    MTMultipleDates, MSMultipleDates, PIMultipleDates\n",
    ")\n",
    "\n",
    "# from src.dataset_legacy import MTDeforestationTime\n",
    "from src import training_generator as generator\n",
    "from src.patchesHandler import PatchesHandler, PatchesHandlerMultipleDates, PatchesHandlerEvidential2\n",
    "\n",
    "from src.manager.evidential import ManagerEvidential\n",
    "from src.manager.multioutput import ManagerMCDropout, ManagerSingleRun, ManagerEvidential2\n",
    "from mpl_toolkits.axes_grid1 import make_axes_locatable\n",
    "\n",
    "import cv2\n",
    "from src import metrics as _metric\n",
    "import json\n",
    "import pickle \n",
    "import src.manager.evidential as evidential\n",
    "from src.Logger import Logger\n",
    "import pdb\n",
    "import gc\n"
   ]
  },
  {
   "cell_type": "code",
   "execution_count": 3,
   "id": "b7a6829f",
   "metadata": {},
   "outputs": [
    {
     "name": "stdout",
     "output_type": "stream",
     "text": [
      "Mode: single_run. Site: PI. Training: False. Training date: earlier\n",
      "{'training': False, 'inferring': True, 'site': 'PI', 'training_date': 'earlier', 'mode': 'single_run', 'training_times': 10, 'uncertainty_method': 'pred_entropy', 'loadInference': False, 'removePolygons': True, 'plotLandsat': False, 'plotPOI': False, 'training_experiment_id': 27, 'get_multiple_metrics': False, 'start_repetition_id': 0, 'save_probabilities': False, 'addPastDeforestationInput': True, 'classes_mode': False, 'learning_rate': 0.0001, 'use_cloud_mask': False, 'mask_out_non_biome': True, 'log_filename': 'log.pkl'}\n"
     ]
    }
   ],
   "source": [
    "\n",
    "with open('config/config.json', 'r') as f:\n",
    "    config = json.load(f)\n",
    "    \n",
    "print(\"Mode: {}. Site: {}. Training: {}. Training date: {}\".format(\n",
    "    config['mode'], config['site'], config['training'], config['training_date']))\n",
    "print(config)\n"
   ]
  },
  {
   "cell_type": "code",
   "execution_count": 4,
   "id": "603a5df7",
   "metadata": {},
   "outputs": [
    {
     "name": "stderr",
     "output_type": "stream",
     "text": [
      "ic| list(self.date_ids): [0]\n",
      "ic| self.image_channels: [[0, 1, 2, 3, 4, 5, 6, 7, 8]]\n",
      "ic| dates: [2018, 2019]\n",
      "ic| self.input_image_shape: 9\n",
      "ic| self.dataset.image_channels: [[0, 1, 2, 3, 4, 5, 6, 7, 8]]\n"
     ]
    }
   ],
   "source": [
    "\n",
    "if config['site'] == 'PA':\n",
    "\tif config['training_date'] == 'earlier':\n",
    "\t\tdates = [2017, 2018]\n",
    "\telse:\n",
    "\t\tdates = [2018, 2019]\n",
    "\tdatasetClass = PAMultipleDates\n",
    "elif config['site'] == 'MT':\n",
    "\tif config['training_date'] == 'earlier':\n",
    "\t\tdates = [2018, 2019]\n",
    "\telse:\n",
    "\t\tdates = [2019, 2020]\n",
    "\tdatasetClass = MTMultipleDates\n",
    "elif config['site'] == 'MS':\n",
    "\tif config['training_date'] == 'earlier':\n",
    "\t\tdates = [2018, 2019]\n",
    "\telse:\n",
    "\t\tdates = [2019, 2020]\n",
    "\tdatasetClass = MSMultipleDates\n",
    "elif config['site'] == 'PI':\n",
    "\tif config['training_date'] == 'earlier':\n",
    "\t\tdates = [2018, 2019]\n",
    "\telse:\n",
    "\t\tdates = [2019, 2020]\n",
    "\tdatasetClass = PIMultipleDates\n",
    "else:\n",
    "\traise ValueError('Invalid site')\n",
    "\n",
    "dataset = datasetClass(config = config,\n",
    "\t\t\t   dates = dates, \n",
    "\t \taddPastDeforestationInput = config['addPastDeforestationInput'],\n",
    "\t\tborderBuffer = 2)\t\n",
    "\n",
    "if config['mode'] == 'ensemble':\n",
    "\tif config['training'] == True:\n",
    "\t\tconfig['mode'] = 'single_run'\n",
    "\telse:\n",
    "\t\tsys.exit(\"Ensure that training is True for ensemble mode. Use infer_ensemble.ipynb for inference.\")\n",
    "\n",
    "if config['training'] == False:\n",
    "\tif config['site'] == 'PA':\n",
    "\t\tif config['mode'] == 'mcd' or config['mode'] == 'single_run': # MCD will do 10 inference on each of the 10 repetitions = 100 runs\n",
    "\t\t\tif config['training_date'] == 'current': exp = 0\n",
    "\t\t\telif config['training_date'] == 'earlier': exp = 1\n",
    "\t\t\t\t\n",
    "\t\tif config['mode'] == 'evidential2':\n",
    "\t\t\tif config['training_date'] == 'current': exp = 8; repetition_id = 0\n",
    "\t\t\telif config['training_date'] == 'earlier': exp = 9; repetition_id = 0\n",
    "\n",
    "\telif config['site'] == 'MT':\n",
    "\n",
    "\t\tif config['mode'] == 'mcd' or config['mode'] == 'single_run':\n",
    "\t\t\tif config['training_date'] == 'current': exp = 2\n",
    "\t\t\telif config['training_date'] == 'earlier': exp = 3\n",
    "\t\tif config['mode'] == 'evidential2':\n",
    "\t\t\tif config['training_date'] == 'current': exp = 10; repetition_id = 0\n",
    "\t\t\telif config['training_date'] == 'earlier': exp = 11; repetition_id = 0\n",
    "\n",
    "\telif config['site'] == 'MS':\n",
    "\n",
    "\t\tif config['mode'] == 'mcd' or config['mode'] == 'single_run':\n",
    "\t\t\tif config['training_date'] == 'current': exp = 4\n",
    "\t\t\telif config['training_date'] == 'earlier': \n",
    "\t\t\t\texp = 5\n",
    "\t\t\t\texp = 30\n",
    "\n",
    "\t\tif config['mode'] == 'evidential2':\n",
    "\t\t\tif config['training_date'] == 'current': exp = 12; repetition_id = 0\n",
    "\t\t\telif config['training_date'] == 'earlier': exp = 13; repetition_id = 0\n",
    "\telif config['site'] == 'PI':\n",
    "\n",
    "\t\tif config['mode'] == 'mcd' or config['mode'] == 'single_run':\n",
    "\t\t\tif config['training_date'] == 'current': exp = 6\n",
    "\t\t\telif config['training_date'] == 'earlier': exp = 27\n",
    "\t\tif config['mode'] == 'evidential2':\n",
    "\t\t\tif config['training_date'] == 'current': exp = 14; repetition_id = 0\n",
    "\t\t\telif config['training_date'] == 'earlier': exp = 35; repetition_id = 0\n",
    "\n",
    "else:\n",
    "\texp = config['training_experiment_id']\n",
    "ic(dates)\n",
    "\n",
    "\n",
    "if issubclass(type(dataset), MultipleDates):\n",
    "\tpatchesHandler = PatchesHandlerMultipleDates(\n",
    "\t\tdataset)\n",
    "elif config['mode'] == 'evidential2':\n",
    "\tpatchesHandler = PatchesHandlerEvidential2()\n",
    "else:\n",
    "\tpatchesHandler = PatchesHandler()\n",
    "\n"
   ]
  },
  {
   "cell_type": "code",
   "execution_count": 5,
   "id": "1bb339c8",
   "metadata": {},
   "outputs": [],
   "source": [
    "\n",
    "\n",
    "if config['mode'] == 'evidential2':\n",
    "    config[\"inference_times\"] = 1\n",
    "    manager_class = ManagerEvidential2\n",
    "    config['uncertainty_method'] = \"pred_entropy\"\n",
    "    config['classes_mode'] = True\n",
    "    \n",
    "if config['mode'] == 'mcd':\n",
    "    config[\"inference_times\"] = 10\n",
    "    manager_class = ManagerMCDropout\n",
    "    config['uncertainty_method'] = \"pred_entropy\"\n",
    "    config['classes_mode'] = False\n",
    "\n",
    "elif config['mode'] == 'single_run':\n",
    "    config[\"inference_times\"] = 1\n",
    "    manager_class = ManagerSingleRun\n",
    "    config['uncertainty_method'] = \"pred_entropy_single\"\n",
    "    config['classes_mode'] = False\n",
    "\n"
   ]
  },
  {
   "cell_type": "code",
   "execution_count": 6,
   "id": "c7ae3a0c",
   "metadata": {},
   "outputs": [
    {
     "data": {
      "text/plain": [
       "27"
      ]
     },
     "execution_count": 6,
     "metadata": {},
     "output_type": "execute_result"
    }
   ],
   "source": [
    "exp"
   ]
  },
  {
   "cell_type": "code",
   "execution_count": 7,
   "id": "cfa1145d",
   "metadata": {},
   "outputs": [],
   "source": [
    "logger = Logger()\n"
   ]
  },
  {
   "cell_type": "code",
   "execution_count": 8,
   "id": "55da0bd1",
   "metadata": {},
   "outputs": [],
   "source": [
    "if config['training'] == True:\n",
    "    \n",
    "\n",
    "    manager = manager_class(config, dataset, patchesHandler, logger)\n",
    "    print(\"manager.config['dropout_training']\", manager.config['dropout_training'])\n",
    "    manager.defineExperiment(exp) # fixed\n",
    "    \n",
    "    manager.setExperimentPath()\n",
    "    manager.createLogFolders()\n",
    "\n",
    "    manager.loadDataset()\n",
    "\n",
    "    # %%\n",
    "    if config[\"training\"] == True:\n",
    "        manager.run()\n"
   ]
  },
  {
   "cell_type": "code",
   "execution_count": 9,
   "id": "a13e82bc",
   "metadata": {},
   "outputs": [
    {
     "name": "stderr",
     "output_type": "stream",
     "text": [
      "ic| list(self.date_ids): [0]\n",
      "ic| self.image_channels: [[0, 1, 2, 3, 4, 5, 6, 7, 8]]\n",
      "ic| dates: [2019, 2020]\n",
      "ic| self.input_image_shape: 9\n",
      "ic| self.dataset.image_channels: [[0, 1, 2, 3, 4, 5, 6, 7, 8]]\n"
     ]
    }
   ],
   "source": [
    "\n",
    "\n",
    "\n",
    "if config['site'] == 'PA':\n",
    "\tdates = [2018, 2019]\n",
    "\tdatasetClass = PAMultipleDates\n",
    "elif config['site'] == 'MT':\n",
    "\tdates = [2019, 2020]\n",
    "\tdatasetClass = MTMultipleDates\n",
    "elif config['site'] == 'MS':\n",
    "\tdates = [2019, 2020]\n",
    "\tdatasetClass = MSMultipleDates\n",
    "elif config['site'] == 'PI':\n",
    "\tdates = [2019, 2020]\n",
    "\tdatasetClass = PIMultipleDates\n",
    "else:\n",
    "\traise ValueError('Invalid site')\n",
    "\n",
    "dataset = datasetClass(config = config,\n",
    "\t\t\t   dates = dates, \n",
    "\t \taddPastDeforestationInput = config['addPastDeforestationInput'],\n",
    "\t\tborderBuffer = 2)\n",
    "\n",
    "\n",
    "ic(dates)\n",
    "\n",
    "if issubclass(type(dataset), MultipleDates):\n",
    "\tpatchesHandler = PatchesHandlerMultipleDates(\n",
    "\t\tdataset)\n",
    "elif config['mode'] == 'evidential2':\n",
    "\tpatchesHandler = PatchesHandlerEvidential2()\n",
    "else:\n",
    "\tpatchesHandler = PatchesHandler()\n"
   ]
  },
  {
   "cell_type": "code",
   "execution_count": 10,
   "id": "597049da",
   "metadata": {},
   "outputs": [
    {
     "data": {
      "text/plain": [
       "src.manager.multioutput.ManagerSingleRun"
      ]
     },
     "execution_count": 10,
     "metadata": {},
     "output_type": "execute_result"
    }
   ],
   "source": [
    "manager_class"
   ]
  },
  {
   "cell_type": "code",
   "execution_count": 11,
   "id": "82354e9e",
   "metadata": {},
   "outputs": [
    {
     "data": {
      "text/plain": [
       "27"
      ]
     },
     "execution_count": 11,
     "metadata": {},
     "output_type": "execute_result"
    }
   ],
   "source": [
    "exp"
   ]
  },
  {
   "cell_type": "code",
   "execution_count": 12,
   "id": "0e69f832",
   "metadata": {},
   "outputs": [
    {
     "name": "stdout",
     "output_type": "stream",
     "text": [
      "repetition_ids [0, 1, 2, 3, 4, 5, 6, 7, 8, 9], repetition_n 10\n"
     ]
    }
   ],
   "source": [
    "repetition_ids = manager_class(config, dataset, patchesHandler, logger).get_repetition_ids(exp)  \n",
    "repetition_n = len(repetition_ids)\n",
    "print(\"repetition_ids {}, repetition_n {}\".format(repetition_ids, repetition_n))\n"
   ]
  },
  {
   "cell_type": "code",
   "execution_count": 13,
   "id": "49e0d9f0",
   "metadata": {},
   "outputs": [
    {
     "data": {
      "text/plain": [
       "0"
      ]
     },
     "execution_count": 13,
     "metadata": {},
     "output_type": "execute_result"
    }
   ],
   "source": [
    "config['start_repetition_id']"
   ]
  },
  {
   "cell_type": "code",
   "execution_count": 14,
   "id": "5997b986",
   "metadata": {},
   "outputs": [
    {
     "name": "stdout",
     "output_type": "stream",
     "text": [
      "Beginning run number 0\n",
      "manager.config {'training': False, 'inferring': True, 'site': 'PI', 'training_date': 'earlier', 'mode': 'single_run', 'training_times': 10, 'uncertainty_method': 'pred_entropy_single', 'loadInference': False, 'removePolygons': True, 'plotLandsat': False, 'plotPOI': False, 'training_experiment_id': 27, 'get_multiple_metrics': False, 'start_repetition_id': 0, 'save_probabilities': False, 'addPastDeforestationInput': True, 'classes_mode': False, 'learning_rate': 0.0001, 'use_cloud_mask': False, 'mask_out_non_biome': True, 'log_filename': 'log.pkl', 'inference_times': 1, 'dropout_training': False}\n",
      "D:/Jorge/datasets/deforestation/PI/deforestation_past_years.tif\n",
      "Loaded deforestation past years\n"
     ]
    },
    {
     "name": "stderr",
     "output_type": "stream",
     "text": [
      "ic| np.unique(deforestation_past_years, return_counts=True): (array([   0, 2002, 2004, 2006, 2008, 2010, 2012, 2013, 2014, 2015, 2016,\n",
      "                                                                    2017, 2018, 2019, 2020, 2021], dtype=uint16),\n",
      "                                                              array([340580606,   4312043,   6953620,   5659916,   7162776,   6261432,\n",
      "                                                                      8191420,   3233962,   3270293,   3044419,   1817289,   2359424,\n",
      "                                                                      2201926,   3050229,   2901307,   2418575], dtype=int64))\n"
     ]
    },
    {
     "name": "stdout",
     "output_type": "stream",
     "text": [
      "Label where deforestation past years is actual date (2020) = 1\n"
     ]
    },
    {
     "name": "stderr",
     "output_type": "stream",
     "text": [
      "ic| np.unique(deforestation_past_years, return_counts=True): (array([   0, 2002, 2004, 2006, 2008, 2010, 2012, 2013, 2014, 2015, 2016,\n",
      "                                                                    2017, 2018, 2019, 2020, 2021], dtype=uint16),\n",
      "                                                              array([340580606,   4312043,   6953620,   5659916,   7162776,   6261432,\n",
      "                                                                      8191420,   3233962,   3270293,   3044419,   1817289,   2359424,\n",
      "                                                                      2201926,   3050229,   2901307,   2418575], dtype=int64))\n"
     ]
    },
    {
     "name": "stdout",
     "output_type": "stream",
     "text": [
      "Past deforestation different from 0 (no deforestation)\n"
     ]
    },
    {
     "name": "stderr",
     "output_type": "stream",
     "text": [
      "ic| np.unique(deforestation_past_years, return_counts=True): (array([   0, 2002, 2004, 2006, 2008, 2010, 2012, 2013, 2014, 2015, 2016,\n",
      "                                                                    2017, 2018, 2019, 2020, 2021], dtype=uint16),\n",
      "                                                              array([340580606,   4312043,   6953620,   5659916,   7162776,   6261432,\n",
      "                                                                      8191420,   3233962,   3270293,   3044419,   1817289,   2359424,\n",
      "                                                                      2201926,   3050229,   2901307,   2418575], dtype=int64))\n"
     ]
    },
    {
     "name": "stdout",
     "output_type": "stream",
     "text": [
      "Past deforestation before 2008 is 2\n",
      "D:/Jorge/datasets/deforestation/PI/deforestation_before_2000_PI.tif\n"
     ]
    },
    {
     "name": "stderr",
     "output_type": "stream",
     "text": [
      "ic| np.unique(label_past_deforestation_before_2008, return_counts=True): (array([  0, 208], dtype=uint8), array([385251297,  18167940], dtype=int64))\n",
      "ic| np.unique(deforestation_past_years, return_counts=True): (array([   0, 2002, 2004, 2006, 2008, 2010, 2012, 2013, 2014, 2015, 2016,\n",
      "                                                                    2017, 2018, 2019, 2020, 2021], dtype=uint16),\n",
      "                                                              array([340580606,   4312043,   6953620,   5659916,   7162776,   6261432,\n",
      "                                                                      8191420,   3233962,   3270293,   3044419,   1817289,   2359424,\n",
      "                                                                      2201926,   3050229,   2901307,   2418575], dtype=int64))\n"
     ]
    },
    {
     "name": "stdout",
     "output_type": "stream",
     "text": [
      "D:/Jorge/datasets/sentinel2/PI/biome_limits.tif\n"
     ]
    },
    {
     "name": "stderr",
     "output_type": "stream",
     "text": [
      "ic| label_per_date.shape: (19357, 20841, 1)\n"
     ]
    },
    {
     "name": "stdout",
     "output_type": "stream",
     "text": [
      "Removing bufer................\n",
      "Mask label shape:  \n",
      " (19357, 20841, 1) \n",
      " Unique values:  \n",
      " [0 1 2]\n",
      "Tiles size:  3871 4168\n",
      "Mask size:  (19355, 20840)\n"
     ]
    },
    {
     "name": "stderr",
     "output_type": "stream",
     "text": [
      "ic| image_stack.shape: (19357, 20841, 9)\n"
     ]
    },
    {
     "name": "stdout",
     "output_type": "stream",
     "text": [
      "Image shape:  (19357, 20841, 9)\n",
      "mask:  (19355, 20840)\n",
      "image stack:  (19355, 20840, 9)\n",
      "ref : (19355, 20840, 1)\n",
      "Training tiles:  [2, 4, 5, 6, 7, 12, 14, 15, 18, 21, 23, 25]\n",
      "Validation tiles:  [9, 11, 24]\n",
      "Test tiles:  [1, 3, 8, 10, 13, 16, 17, 19, 20, 22]\n",
      "-5.0 -24.0\n"
     ]
    },
    {
     "name": "stderr",
     "output_type": "stream",
     "text": [
      "ic| self.path_models+ '/' + self.method +'_'+str(self.repetition_id)+'.h5': 'D:/Jorge/datasets/deforestation/experiments/PI/exp27/models/resunet_0.h5'\n"
     ]
    },
    {
     "name": "stdout",
     "output_type": "stream",
     "text": [
      "Dropout training mode: False\n",
      "time:  0\n",
      "(89644896,)\n",
      "(array([0, 1], dtype=uint8), array([88315686,  1329210], dtype=int64))\n",
      "(19355, 20840)\n",
      "Single entropy\n",
      "(array([0., 1.], dtype=float32), array([397049116,   6309084], dtype=int64))\n"
     ]
    },
    {
     "name": "stderr",
     "output_type": "stream",
     "text": [
      "ic| self.predicted_unpad.shape: (19355, 20840)\n",
      "    self.predicted.shape: (19355, 20840)\n",
      "ic| predicted_test.shape: (161343280,)\n",
      "ic| predicted_test.shape: (89644896,)\n",
      "ic| np.unique(predicted, return_counts=True): (array([0., 1.], dtype=float32), array([398733970,   4624230], dtype=int64))\n",
      "    np.unique(predicted_larger_than_min_area, return_counts=True): (array([0., 1.], dtype=float32), array([399030920,   4327280], dtype=int64))\n",
      "ic| np.unique(ignored_polygons, return_counts=True): (array([0., 1.], dtype=float32), array([403061250,    296950], dtype=int64))\n",
      "ic| self.f1: 51.54, self.precision: 44.13, self.recall: 61.93\n",
      "ic| self.label_mask_val.shape: (48402984,)\n",
      "ic| self.label_mask_val_valid.shape: (36724562,)\n",
      "ic| f1_val: 33.55\n",
      "    precision_val: 22.3\n",
      "    recall_val: 67.71\n",
      "    mAP_val: 32.09\n"
     ]
    },
    {
     "name": "stdout",
     "output_type": "stream",
     "text": [
      "(array([0., 1.], dtype=float32), array([399757676,   3600524], dtype=int64))\n",
      "[0. 1.]\n"
     ]
    },
    {
     "name": "stderr",
     "output_type": "stream",
     "text": [
      "ic| pred_entropy.shape: (19360, 20864)\n",
      "ic| self.label_mask.shape: (19355, 20840)\n",
      "ic| self.mask_amazon_ts.shape: (19355, 20840)\n",
      "ic| self.label_mask_test.shape: (161343280,)\n",
      "ic| self.error_mask_test.shape: (89554454,)\n",
      "ic| bounds: (0.0015, 0.3663794801235199)\n",
      "c:\\Users\\jchamorro\\Anaconda3\\envs\\tf2\\lib\\site-packages\\scipy\\optimize\\_minimize.py:783: RuntimeWarning: Method 'bounded' does not support relative tolerance in x; defaulting to absolute tolerance.\n",
      "  warn(\"Method 'bounded' does not support relative tolerance in x; \"\n"
     ]
    },
    {
     "name": "stdout",
     "output_type": "stream",
     "text": [
      "0.1408715596097929\n",
      "threshold 0.1408715596097929\n"
     ]
    },
    {
     "name": "stderr",
     "output_type": "stream",
     "text": [
      "ic| label_current_deforestation_test_classified_incorrect.shape: (3140654,)\n",
      "    predicted_test_classified_incorrect.shape: (3140654,)\n",
      "ic| TP_H + FN_H + FP_H + TN_H: 3140654\n",
      "    len(label_mask_current_deforestation_test): 89554454\n",
      "ic| TP_H + FN_H + FP_H + TN_H: 3140654\n",
      "    len(label_mask_current_deforestation_test): 89554454\n"
     ]
    },
    {
     "name": "stdout",
     "output_type": "stream",
     "text": [
      "[0.55795186 0.66966399 0.57045795 0.03506977 0.12830485 0.32983965\n",
      " 0.13795152]\n",
      "0.22700792051372695\n",
      "threshold 0.22700792051372695\n"
     ]
    },
    {
     "name": "stderr",
     "output_type": "stream",
     "text": [
      "ic| label_current_deforestation_test_classified_incorrect.shape: (1986212,)\n",
      "    predicted_test_classified_incorrect.shape: (1986212,)\n",
      "ic| TP_H + FN_H + FP_H + TN_H: 1986212\n",
      "    len(label_mask_current_deforestation_test): 89554454\n",
      "ic| TP_H + FN_H + FP_H + TN_H: 1986212\n",
      "    len(label_mask_current_deforestation_test): 89554454\n"
     ]
    },
    {
     "name": "stdout",
     "output_type": "stream",
     "text": [
      "[0.51037009 0.65878284 0.59058052 0.02217882 0.11678932 0.27761506\n",
      " 0.122453  ]\n",
      "0.08763636090393405\n",
      "threshold 0.08763636090393405\n"
     ]
    },
    {
     "name": "stderr",
     "output_type": "stream",
     "text": [
      "ic| label_current_deforestation_test_classified_incorrect.shape: (4230746,)\n",
      "    predicted_test_classified_incorrect.shape: (4230746,)\n",
      "ic| TP_H + FN_H + FP_H + TN_H: 4230746\n",
      "    len(label_mask_current_deforestation_test): 89554454\n",
      "ic| TP_H + FN_H + FP_H + TN_H: 4230746\n",
      "    len(label_mask_current_deforestation_test): 89554454\n"
     ]
    },
    {
     "name": "stdout",
     "output_type": "stream",
     "text": [
      "[0.59817798 0.677562   0.55332953 0.04724216 0.13799245 0.35991856\n",
      " 0.13726155]\n",
      "0.17539800217117618\n",
      "threshold 0.17539800217117618\n"
     ]
    },
    {
     "name": "stderr",
     "output_type": "stream",
     "text": [
      "ic| label_current_deforestation_test_classified_incorrect.shape: (2624874,)\n",
      "    predicted_test_classified_incorrect.shape: (2624874,)\n",
      "ic| TP_H + FN_H + FP_H + TN_H: 2624874\n",
      "    len(label_mask_current_deforestation_test): 89554454\n",
      "ic| TP_H + FN_H + FP_H + TN_H: 2624874\n",
      "    len(label_mask_current_deforestation_test): 89554454\n"
     ]
    },
    {
     "name": "stdout",
     "output_type": "stream",
     "text": [
      "[0.53760304 0.66488997 0.57897111 0.02931037 0.12365863 0.31225385\n",
      " 0.13436533]\n",
      "0.17874927742163957\n",
      "threshold 0.17874927742163957\n"
     ]
    },
    {
     "name": "stderr",
     "output_type": "stream",
     "text": [
      "ic| label_current_deforestation_test_classified_incorrect.shape: (2579344,)\n",
      "    predicted_test_classified_incorrect.shape: (2579344,)\n",
      "ic| TP_H + FN_H + FP_H + TN_H: 2579344\n",
      "    len(label_mask_current_deforestation_test): 89554454\n",
      "ic| TP_H + FN_H + FP_H + TN_H: 2579344\n",
      "    len(label_mask_current_deforestation_test): 89554454\n"
     ]
    },
    {
     "name": "stdout",
     "output_type": "stream",
     "text": [
      "[0.53571831 0.6644464  0.57973146 0.02880196 0.12329638 0.31051647\n",
      " 0.13382932]\n",
      "0.16675975453899727\n",
      "threshold 0.16675975453899727\n"
     ]
    },
    {
     "name": "stderr",
     "output_type": "stream",
     "text": [
      "ic| label_current_deforestation_test_classified_incorrect.shape: (2745736,)\n",
      "    predicted_test_classified_incorrect.shape: (2745736,)\n",
      "ic| TP_H + FN_H + FP_H + TN_H: 2745736\n",
      "    len(label_mask_current_deforestation_test): 89554454\n",
      "ic| TP_H + FN_H + FP_H + TN_H: 2745736\n",
      "    len(label_mask_current_deforestation_test): 89554454\n"
     ]
    },
    {
     "name": "stdout",
     "output_type": "stream",
     "text": [
      "[0.54251889 0.66608002 0.57697119 0.03065996 0.12465158 0.31656368\n",
      " 0.13559009]\n",
      "0.15687134398342387\n",
      "threshold 0.15687134398342387\n"
     ]
    },
    {
     "name": "stderr",
     "output_type": "stream",
     "text": [
      "ic| label_current_deforestation_test_classified_incorrect.shape: (2890100,)\n",
      "    predicted_test_classified_incorrect.shape: (2890100,)\n",
      "ic| TP_H + FN_H + FP_H + TN_H: 2890100\n",
      "    len(label_mask_current_deforestation_test): 89554454\n",
      "ic| TP_H + FN_H + FP_H + TN_H: 2890100\n",
      "    len(label_mask_current_deforestation_test): 89554454\n"
     ]
    },
    {
     "name": "stdout",
     "output_type": "stream",
     "text": [
      "[0.54829507 0.66741917 0.57459415 0.03227199 0.12589019 0.32159232\n",
      " 0.13672206]\n",
      "0.17093999957970143\n",
      "threshold 0.17093999957970143\n"
     ]
    },
    {
     "name": "stderr",
     "output_type": "stream",
     "text": [
      "ic| label_current_deforestation_test_classified_incorrect.shape: (2686697,)\n",
      "    predicted_test_classified_incorrect.shape: (2686697,)\n",
      "ic| TP_H + FN_H + FP_H + TN_H: 2686697\n",
      "    len(label_mask_current_deforestation_test): 89554454\n",
      "ic| TP_H + FN_H + FP_H + TN_H: 2686697\n",
      "    len(label_mask_current_deforestation_test): 89554454\n"
     ]
    },
    {
     "name": "stdout",
     "output_type": "stream",
     "text": [
      "[0.54010115 0.6654695  0.57793953 0.03000071 0.12419713 0.31461637\n",
      " 0.13498966]\n",
      "0.17103136446495906\n",
      "threshold 0.17103136446495906\n"
     ]
    },
    {
     "name": "stderr",
     "output_type": "stream",
     "text": [
      "ic| label_current_deforestation_test_classified_incorrect.shape: (2685435,)\n",
      "    predicted_test_classified_incorrect.shape: (2685435,)\n",
      "ic| TP_H + FN_H + FP_H + TN_H: 2685435\n",
      "    len(label_mask_current_deforestation_test): 89554454\n",
      "ic| TP_H + FN_H + FP_H + TN_H: 2685435\n",
      "    len(label_mask_current_deforestation_test): 89554454\n"
     ]
    },
    {
     "name": "stdout",
     "output_type": "stream",
     "text": [
      "[0.54004596 0.66545172 0.57795248 0.02998662 0.12420796 0.31461996\n",
      " 0.13497532]\n",
      "0.1699860801196994\n",
      "threshold 0.1699860801196994\n"
     ]
    },
    {
     "name": "stderr",
     "output_type": "stream",
     "text": [
      "ic| label_current_deforestation_test_classified_incorrect.shape: (2700124,)\n",
      "    predicted_test_classified_incorrect.shape: (2700124,)\n",
      "ic| TP_H + FN_H + FP_H + TN_H: 2700124\n",
      "    len(label_mask_current_deforestation_test): 89554454\n",
      "ic| TP_H + FN_H + FP_H + TN_H: 2700124\n",
      "    len(label_mask_current_deforestation_test): 89554454\n"
     ]
    },
    {
     "name": "stdout",
     "output_type": "stream",
     "text": [
      "[0.5406344  0.66560307 0.57769954 0.03015064 0.12435779 0.31515945\n",
      " 0.13512464]\n",
      "0.1705756347685106\n",
      "threshold 0.1705756347685106\n"
     ]
    },
    {
     "name": "stderr",
     "output_type": "stream",
     "text": [
      "ic| label_current_deforestation_test_classified_incorrect.shape: (2691872,)\n",
      "    predicted_test_classified_incorrect.shape: (2691872,)\n",
      "ic| TP_H + FN_H + FP_H + TN_H: 2691872\n",
      "    len(label_mask_current_deforestation_test): 89554454\n",
      "ic| TP_H + FN_H + FP_H + TN_H: 2691872\n",
      "    len(label_mask_current_deforestation_test): 89554454\n"
     ]
    },
    {
     "name": "stdout",
     "output_type": "stream",
     "text": [
      "[0.54031664 0.66551983 0.57785192 0.03005849 0.12424049 0.31481021\n",
      " 0.13504659]\n",
      "0.17087935470522592\n",
      "threshold 0.17087935470522592\n"
     ]
    },
    {
     "name": "stderr",
     "output_type": "stream",
     "text": [
      "ic| label_current_deforestation_test_classified_incorrect.shape: (2687572,)\n",
      "    predicted_test_classified_incorrect.shape: (2687572,)\n",
      "ic| TP_H + FN_H + FP_H + TN_H: 2687572\n",
      "    len(label_mask_current_deforestation_test): 89554454\n",
      "ic| TP_H + FN_H + FP_H + TN_H: 2687572\n",
      "    len(label_mask_current_deforestation_test): 89554454\n"
     ]
    },
    {
     "name": "stdout",
     "output_type": "stream",
     "text": [
      "[0.54013475 0.66547648 0.57792734 0.03001048 0.12420049 0.31464344\n",
      " 0.13499483]\n",
      "0.1709733354484847\n",
      "threshold 0.1709733354484847\n"
     ]
    },
    {
     "name": "stderr",
     "output_type": "stream",
     "text": [
      "ic| label_current_deforestation_test_classified_incorrect.shape: (2686261,)\n",
      "    predicted_test_classified_incorrect.shape: (2686261,)\n",
      "ic| TP_H + FN_H + FP_H + TN_H: 2686261\n",
      "    len(label_mask_current_deforestation_test): 89554454\n",
      "ic| TP_H + FN_H + FP_H + TN_H: 2686261\n",
      "    len(label_mask_current_deforestation_test): 89554454\n",
      "ic| self.threshold_optimal: 0.17093999957970143\n"
     ]
    },
    {
     "name": "stdout",
     "output_type": "stream",
     "text": [
      "[0.54008196 0.66546134 0.5779441  0.02999584 0.12420073 0.31462354\n",
      " 0.1349835 ]\n",
      "threshold:  0.17093999957970143\n",
      "threshold 0.17093999957970143\n"
     ]
    },
    {
     "name": "stderr",
     "output_type": "stream",
     "text": [
      "ic| label_current_deforestation_test_classified_incorrect.shape: (2686697,)\n",
      "    predicted_test_classified_incorrect.shape: (2686697,)\n",
      "ic| TP_H + FN_H + FP_H + TN_H: 2686697\n",
      "    len(label_mask_current_deforestation_test): 89554454\n",
      "ic| TP_H + FN_H + FP_H + TN_H: 2686697\n",
      "    len(label_mask_current_deforestation_test): 89554454\n"
     ]
    },
    {
     "name": "stdout",
     "output_type": "stream",
     "text": [
      "[0.54010115 0.6654695  0.57793953 0.03000071 0.12419713 0.31461637\n",
      " 0.13498966]\n",
      "threshold 0.17093999957970143\n",
      "(89554454,) (89554454,)\n"
     ]
    },
    {
     "name": "stderr",
     "output_type": "stream",
     "text": [
      "ic| self.m_optimal: {'AA': array([0.03000071]),\n",
      "                     'UEO': array([0.13498966]),\n",
      "                     'f1': 51.54,\n",
      "                     'f1_H': array([0.17809138]),\n",
      "                     'f1_L': array([0.59626674]),\n",
      "                     'precision_H': array([0.12419713]),\n",
      "                     'precision_L': array([0.54010115]),\n",
      "                     'recall_H': array([0.31461637]),\n",
      "                     'recall_L': array([0.6654695]),\n",
      "                     'recall_Ltotal': array([0.57793953])}\n",
      "ic| self.m_audited_optimal: {'f1': array([0.6445078]),\n",
      "                             'precision': array([0.59044367]),\n",
      "                             'recall': array([0.70947068])}\n"
     ]
    },
    {
     "name": "stdout",
     "output_type": "stream",
     "text": [
      "cm_audited [[87595965   645933]\n",
      " [  381336   931220]]\n",
      "[0.59044367 0.70947068]\n",
      "Result idx 0: {'uncertainty_result': {'metrics': {'precision_L': array([0.54010115]), 'recall_L': array([0.6654695]), 'recall_Ltotal': array([0.57793953]), 'AA': array([0.03000071]), 'precision_H': array([0.12419713]), 'recall_H': array([0.31461637]), 'UEO': array([0.13498966]), 'f1_L': array([0.59626674]), 'f1_H': array([0.17809138]), 'f1': 51.54}, 'metrics_audited': {'precision': array([0.59044367]), 'recall': array([0.70947068]), 'f1': array([0.6445078])}, 'exp': 27}}\n",
      "Grid execution idx: 0\n",
      "Beginning run number 1\n",
      "manager.config {'training': False, 'inferring': True, 'site': 'PI', 'training_date': 'earlier', 'mode': 'single_run', 'training_times': 10, 'uncertainty_method': 'pred_entropy_single', 'loadInference': False, 'removePolygons': True, 'plotLandsat': False, 'plotPOI': False, 'training_experiment_id': 27, 'get_multiple_metrics': False, 'start_repetition_id': 0, 'save_probabilities': False, 'addPastDeforestationInput': True, 'classes_mode': False, 'learning_rate': 0.0001, 'use_cloud_mask': False, 'mask_out_non_biome': True, 'log_filename': 'log.pkl', 'inference_times': 1, 'dropout_training': False}\n",
      "D:/Jorge/datasets/deforestation/PI/deforestation_past_years.tif\n",
      "Loaded deforestation past years\n"
     ]
    },
    {
     "name": "stderr",
     "output_type": "stream",
     "text": [
      "ic| np.unique(deforestation_past_years, return_counts=True): (array([   0, 2002, 2004, 2006, 2008, 2010, 2012, 2013, 2014, 2015, 2016,\n",
      "                                                                    2017, 2018, 2019, 2020, 2021], dtype=uint16),\n",
      "                                                              array([340580606,   4312043,   6953620,   5659916,   7162776,   6261432,\n",
      "                                                                      8191420,   3233962,   3270293,   3044419,   1817289,   2359424,\n",
      "                                                                      2201926,   3050229,   2901307,   2418575], dtype=int64))\n"
     ]
    },
    {
     "name": "stdout",
     "output_type": "stream",
     "text": [
      "Label where deforestation past years is actual date (2020) = 1\n"
     ]
    },
    {
     "name": "stderr",
     "output_type": "stream",
     "text": [
      "ic| np.unique(deforestation_past_years, return_counts=True): (array([   0, 2002, 2004, 2006, 2008, 2010, 2012, 2013, 2014, 2015, 2016,\n",
      "                                                                    2017, 2018, 2019, 2020, 2021], dtype=uint16),\n",
      "                                                              array([340580606,   4312043,   6953620,   5659916,   7162776,   6261432,\n",
      "                                                                      8191420,   3233962,   3270293,   3044419,   1817289,   2359424,\n",
      "                                                                      2201926,   3050229,   2901307,   2418575], dtype=int64))\n"
     ]
    },
    {
     "name": "stdout",
     "output_type": "stream",
     "text": [
      "Past deforestation different from 0 (no deforestation)\n"
     ]
    },
    {
     "name": "stderr",
     "output_type": "stream",
     "text": [
      "ic| np.unique(deforestation_past_years, return_counts=True): (array([   0, 2002, 2004, 2006, 2008, 2010, 2012, 2013, 2014, 2015, 2016,\n",
      "                                                                    2017, 2018, 2019, 2020, 2021], dtype=uint16),\n",
      "                                                              array([340580606,   4312043,   6953620,   5659916,   7162776,   6261432,\n",
      "                                                                      8191420,   3233962,   3270293,   3044419,   1817289,   2359424,\n",
      "                                                                      2201926,   3050229,   2901307,   2418575], dtype=int64))\n"
     ]
    },
    {
     "name": "stdout",
     "output_type": "stream",
     "text": [
      "Past deforestation before 2008 is 2\n",
      "D:/Jorge/datasets/deforestation/PI/deforestation_before_2000_PI.tif\n"
     ]
    },
    {
     "name": "stderr",
     "output_type": "stream",
     "text": [
      "ic| np.unique(label_past_deforestation_before_2008, return_counts=True): (array([  0, 208], dtype=uint8), array([385251297,  18167940], dtype=int64))\n",
      "ic| np.unique(deforestation_past_years, return_counts=True): (array([   0, 2002, 2004, 2006, 2008, 2010, 2012, 2013, 2014, 2015, 2016,\n",
      "                                                                    2017, 2018, 2019, 2020, 2021], dtype=uint16),\n",
      "                                                              array([340580606,   4312043,   6953620,   5659916,   7162776,   6261432,\n",
      "                                                                      8191420,   3233962,   3270293,   3044419,   1817289,   2359424,\n",
      "                                                                      2201926,   3050229,   2901307,   2418575], dtype=int64))\n"
     ]
    },
    {
     "name": "stdout",
     "output_type": "stream",
     "text": [
      "D:/Jorge/datasets/sentinel2/PI/biome_limits.tif\n"
     ]
    },
    {
     "name": "stderr",
     "output_type": "stream",
     "text": [
      "ic| label_per_date.shape: (19357, 20841, 1)\n"
     ]
    },
    {
     "name": "stdout",
     "output_type": "stream",
     "text": [
      "Removing bufer................\n",
      "Mask label shape:  \n",
      " (19357, 20841, 1) \n",
      " Unique values:  \n",
      " [0 1 2]\n",
      "Tiles size:  3871 4168\n",
      "Mask size:  (19355, 20840)\n"
     ]
    },
    {
     "name": "stderr",
     "output_type": "stream",
     "text": [
      "ic| image_stack.shape: (19357, 20841, 9)\n"
     ]
    },
    {
     "name": "stdout",
     "output_type": "stream",
     "text": [
      "Image shape:  (19357, 20841, 9)\n",
      "mask:  (19355, 20840)\n",
      "image stack:  (19355, 20840, 9)\n",
      "ref : (19355, 20840, 1)\n",
      "Training tiles:  [2, 4, 5, 6, 7, 12, 14, 15, 18, 21, 23, 25]\n",
      "Validation tiles:  [9, 11, 24]\n",
      "Test tiles:  [1, 3, 8, 10, 13, 16, 17, 19, 20, 22]\n",
      "-5.0 -24.0\n"
     ]
    },
    {
     "name": "stderr",
     "output_type": "stream",
     "text": [
      "ic| self.path_models+ '/' + self.method +'_'+str(self.repetition_id)+'.h5': 'D:/Jorge/datasets/deforestation/experiments/PI/exp27/models/resunet_1.h5'\n"
     ]
    },
    {
     "name": "stdout",
     "output_type": "stream",
     "text": [
      "Dropout training mode: False\n",
      "time:  0\n",
      "(89644896,)\n",
      "(array([0, 1], dtype=uint8), array([88315686,  1329210], dtype=int64))\n",
      "(19355, 20840)\n",
      "Single entropy\n",
      "(array([0., 1.], dtype=float32), array([398048525,   5309675], dtype=int64))\n"
     ]
    },
    {
     "name": "stderr",
     "output_type": "stream",
     "text": [
      "ic| self.predicted_unpad.shape: (19355, 20840)\n",
      "    self.predicted.shape: (19355, 20840)\n",
      "ic| predicted_test.shape: (161343280,)\n",
      "ic| predicted_test.shape: (89644896,)\n",
      "ic| np.unique(predicted, return_counts=True): (array([0., 1.], dtype=float32), array([399394650,   3963550], dtype=int64))\n",
      "    np.unique(predicted_larger_than_min_area, return_counts=True): (array([0., 1.], dtype=float32), array([399715272,   3642928], dtype=int64))\n",
      "ic| np.unique(ignored_polygons, return_counts=True): (array([0., 1.], dtype=float32), array([403037578,    320622], dtype=int64))\n",
      "ic| self.f1: 60.83, self.precision: 57.15, self.recall: 65.01\n",
      "ic| self.label_mask_val.shape: (48402984,)\n",
      "ic| self.label_mask_val_valid.shape: (36727774,)\n",
      "ic| f1_val: 39.94\n",
      "    precision_val: 28.84\n",
      "    recall_val: 64.9\n",
      "    mAP_val: 40.55\n"
     ]
    },
    {
     "name": "stdout",
     "output_type": "stream",
     "text": [
      "(array([0., 1.], dtype=float32), array([400572442,   2785758], dtype=int64))\n",
      "[0. 1.]\n"
     ]
    },
    {
     "name": "stderr",
     "output_type": "stream",
     "text": [
      "ic| pred_entropy.shape: (19360, 20864)\n",
      "ic| self.label_mask.shape: (19355, 20840)\n",
      "ic| self.mask_amazon_ts.shape: (19355, 20840)\n",
      "ic| self.label_mask_test.shape: (161343280,)\n",
      "ic| self.error_mask_test.shape: (89542890,)\n",
      "ic| bounds: (0.0015, 0.3663794801235199)\n",
      "c:\\Users\\jchamorro\\Anaconda3\\envs\\tf2\\lib\\site-packages\\scipy\\optimize\\_minimize.py:783: RuntimeWarning: Method 'bounded' does not support relative tolerance in x; defaulting to absolute tolerance.\n",
      "  warn(\"Method 'bounded' does not support relative tolerance in x; \"\n"
     ]
    },
    {
     "name": "stdout",
     "output_type": "stream",
     "text": [
      "0.1408715596097929\n",
      "threshold 0.1408715596097929\n"
     ]
    },
    {
     "name": "stderr",
     "output_type": "stream",
     "text": [
      "ic| label_current_deforestation_test_classified_incorrect.shape: (1598047,)\n",
      "    predicted_test_classified_incorrect.shape: (1598047,)\n",
      "ic| TP_H + FN_H + FP_H + TN_H: 1598047\n",
      "    len(label_mask_current_deforestation_test): 89542890\n",
      "ic| TP_H + FN_H + FP_H + TN_H: 1598047\n",
      "    len(label_mask_current_deforestation_test): 89542890\n"
     ]
    },
    {
     "name": "stdout",
     "output_type": "stream",
     "text": [
      "[0.63780422 0.68504182 0.61499868 0.01784672 0.20262299 0.34366968\n",
      " 0.11084777]\n",
      "0.22700792051372695\n",
      "threshold 0.22700792051372695\n"
     ]
    },
    {
     "name": "stderr",
     "output_type": "stream",
     "text": [
      "ic| label_current_deforestation_test_classified_incorrect.shape: (1031458,)\n",
      "    predicted_test_classified_incorrect.shape: (1031458,)\n",
      "ic| TP_H + FN_H + FP_H + TN_H: 1031458\n",
      "    len(label_mask_current_deforestation_test): 89542890\n",
      "ic| TP_H + FN_H + FP_H + TN_H: 1031458\n",
      "    len(label_mask_current_deforestation_test): 89542890\n"
     ]
    },
    {
     "name": "stdout",
     "output_type": "stream",
     "text": [
      "[0.61094959 0.68132656 0.63046111 0.01151915 0.18610583 0.26356185\n",
      " 0.09501006]\n",
      "0.08763636090393405\n",
      "threshold 0.08763636090393405\n"
     ]
    },
    {
     "name": "stderr",
     "output_type": "stream",
     "text": [
      "ic| label_current_deforestation_test_classified_incorrect.shape: (2149256,)\n",
      "    predicted_test_classified_incorrect.shape: (2149256,)\n",
      "ic| TP_H + FN_H + FP_H + TN_H: 2149256\n",
      "    len(label_mask_current_deforestation_test): 89542890\n",
      "ic| TP_H + FN_H + FP_H + TN_H: 2149256\n",
      "    len(label_mask_current_deforestation_test): 89542890\n"
     ]
    },
    {
     "name": "stdout",
     "output_type": "stream",
     "text": [
      "[0.65881063 0.68656869 0.60081441 0.02400253 0.21853854 0.39489378\n",
      " 0.11311238]\n",
      "0.05473519870585886\n",
      "threshold 0.05473519870585886\n"
     ]
    },
    {
     "name": "stderr",
     "output_type": "stream",
     "text": [
      "ic| label_current_deforestation_test_classified_incorrect.shape: (2726203,)\n",
      "    predicted_test_classified_incorrect.shape: (2726203,)\n",
      "ic| TP_H + FN_H + FP_H + TN_H: 2726203\n",
      "    len(label_mask_current_deforestation_test): 89542890\n",
      "ic| TP_H + FN_H + FP_H + TN_H: 2726203\n",
      "    len(label_mask_current_deforestation_test): 89542890\n"
     ]
    },
    {
     "name": "stdout",
     "output_type": "stream",
     "text": [
      "[0.67792127 0.68730437 0.58681962 0.03044578 0.23274584 0.4330886\n",
      " 0.11093982]\n",
      "0.034401162198075194\n",
      "threshold 0.034401162198075194\n"
     ]
    },
    {
     "name": "stderr",
     "output_type": "stream",
     "text": [
      "ic| label_current_deforestation_test_classified_incorrect.shape: (3350394,)\n",
      "    predicted_test_classified_incorrect.shape: (3350394,)\n",
      "ic| TP_H + FN_H + FP_H + TN_H: 3350394\n",
      "    len(label_mask_current_deforestation_test): 89542890\n",
      "ic| TP_H + FN_H + FP_H + TN_H: 3350394\n",
      "    len(label_mask_current_deforestation_test): 89542890\n"
     ]
    },
    {
     "name": "stdout",
     "output_type": "stream",
     "text": [
      "[0.69666475 0.68653099 0.57159174 0.03741664 0.24762634 0.46915428\n",
      " 0.10670139]\n",
      "0.06240587342038049\n",
      "threshold 0.06240587342038049\n"
     ]
    },
    {
     "name": "stderr",
     "output_type": "stream",
     "text": [
      "ic| label_current_deforestation_test_classified_incorrect.shape: (2561877,)\n",
      "    predicted_test_classified_incorrect.shape: (2561877,)\n",
      "ic| TP_H + FN_H + FP_H + TN_H: 2561877\n",
      "    len(label_mask_current_deforestation_test): 89542890\n",
      "ic| TP_H + FN_H + FP_H + TN_H: 2561877\n",
      "    len(label_mask_current_deforestation_test): 89542890\n"
     ]
    },
    {
     "name": "stdout",
     "output_type": "stream",
     "text": [
      "[0.6726721  0.68718398 0.59069687 0.02861061 0.22903309 0.42333935\n",
      " 0.11181532]\n",
      "0.04696828788836672\n",
      "threshold 0.04696828788836672\n"
     ]
    },
    {
     "name": "stderr",
     "output_type": "stream",
     "text": [
      "ic| label_current_deforestation_test_classified_incorrect.shape: (2924324,)\n",
      "    predicted_test_classified_incorrect.shape: (2924324,)\n",
      "ic| TP_H + FN_H + FP_H + TN_H: 2924324\n",
      "    len(label_mask_current_deforestation_test): 89542890\n",
      "ic| TP_H + FN_H + FP_H + TN_H: 2924324\n",
      "    len(label_mask_current_deforestation_test): 89542890\n"
     ]
    },
    {
     "name": "stdout",
     "output_type": "stream",
     "text": [
      "[0.68389355 0.68719067 0.58194917 0.03265836 0.23781521 0.44524761\n",
      " 0.10964384]\n",
      "0.056242623335054205\n",
      "threshold 0.056242623335054205\n"
     ]
    },
    {
     "name": "stderr",
     "output_type": "stream",
     "text": [
      "ic| label_current_deforestation_test_classified_incorrect.shape: (2691734,)\n",
      "    predicted_test_classified_incorrect.shape: (2691734,)\n",
      "ic| TP_H + FN_H + FP_H + TN_H: 2691734\n",
      "    len(label_mask_current_deforestation_test): 89542890\n",
      "ic| TP_H + FN_H + FP_H + TN_H: 2691734\n",
      "    len(label_mask_current_deforestation_test): 89542890\n"
     ]
    },
    {
     "name": "stdout",
     "output_type": "stream",
     "text": [
      "[0.6768508  0.68729409 0.58762945 0.03006083 0.23195645 0.43106119\n",
      " 0.11115006]\n",
      "0.057568670801460595\n",
      "threshold 0.057568670801460595\n"
     ]
    },
    {
     "name": "stderr",
     "output_type": "stream",
     "text": [
      "ic| label_current_deforestation_test_classified_incorrect.shape: (2662422,)\n",
      "    predicted_test_classified_incorrect.shape: (2662422,)\n",
      "ic| TP_H + FN_H + FP_H + TN_H: 2662422\n",
      "    len(label_mask_current_deforestation_test): 89542890\n",
      "ic| TP_H + FN_H + FP_H + TN_H: 2662422\n",
      "    len(label_mask_current_deforestation_test): 89542890\n"
     ]
    },
    {
     "name": "stdout",
     "output_type": "stream",
     "text": [
      "[0.67590763 0.68727688 0.58832621 0.02973348 0.23129547 0.42932115\n",
      " 0.1113032 ]\n",
      "0.05637029358850163\n",
      "threshold 0.05637029358850163\n"
     ]
    },
    {
     "name": "stderr",
     "output_type": "stream",
     "text": [
      "ic| label_current_deforestation_test_classified_incorrect.shape: (2688810,)\n",
      "    predicted_test_classified_incorrect.shape: (2688810,)\n",
      "ic| TP_H + FN_H + FP_H + TN_H: 2688810\n",
      "    len(label_mask_current_deforestation_test): 89542890\n",
      "ic| TP_H + FN_H + FP_H + TN_H: 2688810\n",
      "    len(label_mask_current_deforestation_test): 89542890\n"
     ]
    },
    {
     "name": "stdout",
     "output_type": "stream",
     "text": [
      "[0.67675524 0.68729076 0.58769592 0.03002818 0.23189981 0.4309025\n",
      " 0.1111649 ]\n",
      "0.05667945207165722\n",
      "threshold 0.05667945207165722\n"
     ]
    },
    {
     "name": "stderr",
     "output_type": "stream",
     "text": [
      "ic| label_current_deforestation_test_classified_incorrect.shape: (2681878,)\n",
      "    predicted_test_classified_incorrect.shape: (2681878,)\n",
      "ic| TP_H + FN_H + FP_H + TN_H: 2681878\n",
      "    len(label_mask_current_deforestation_test): 89542890\n",
      "ic| TP_H + FN_H + FP_H + TN_H: 2681878\n",
      "    len(label_mask_current_deforestation_test): 89542890\n"
     ]
    },
    {
     "name": "stdout",
     "output_type": "stream",
     "text": [
      "[0.67653141 0.68728591 0.58785559 0.02995076 0.23175724 0.43050876\n",
      " 0.11120232]\n",
      "0.05648838162115671\n",
      "threshold 0.05648838162115671\n"
     ]
    },
    {
     "name": "stderr",
     "output_type": "stream",
     "text": [
      "ic| label_current_deforestation_test_classified_incorrect.shape: (2686159,)\n",
      "    predicted_test_classified_incorrect.shape: (2686159,)\n",
      "ic| TP_H + FN_H + FP_H + TN_H: 2686159\n",
      "    len(label_mask_current_deforestation_test): 89542890\n",
      "ic| TP_H + FN_H + FP_H + TN_H: 2686159\n",
      "    len(label_mask_current_deforestation_test): 89542890\n"
     ]
    },
    {
     "name": "stdout",
     "output_type": "stream",
     "text": [
      "[0.67666562 0.68728453 0.5877494  0.02999857 0.2318683  0.43078782\n",
      " 0.1111777 ]\n",
      "0.05652171579234814\n",
      "threshold 0.05652171579234814\n"
     ]
    },
    {
     "name": "stderr",
     "output_type": "stream",
     "text": [
      "ic| label_current_deforestation_test_classified_incorrect.shape: (2685444,)\n",
      "    predicted_test_classified_incorrect.shape: (2685444,)\n",
      "ic| TP_H + FN_H + FP_H + TN_H: 2685444\n",
      "    len(label_mask_current_deforestation_test): 89542890\n",
      "ic| TP_H + FN_H + FP_H + TN_H: 2685444\n",
      "    len(label_mask_current_deforestation_test): 89542890\n"
     ]
    },
    {
     "name": "stdout",
     "output_type": "stream",
     "text": [
      "[0.67663951 0.68728498 0.58776238 0.02999059 0.23186545 0.43075267\n",
      " 0.1111818 ]\n",
      "0.056455047449965275\n",
      "threshold 0.056455047449965275\n"
     ]
    },
    {
     "name": "stderr",
     "output_type": "stream",
     "text": [
      "ic| label_current_deforestation_test_classified_incorrect.shape: (2686920,)\n",
      "    predicted_test_classified_incorrect.shape: (2686920,)\n",
      "ic| TP_H + FN_H + FP_H + TN_H: 2686920\n",
      "    len(label_mask_current_deforestation_test): 89542890\n",
      "ic| TP_H + FN_H + FP_H + TN_H: 2686920\n",
      "    len(label_mask_current_deforestation_test): 89542890\n",
      "ic| self.threshold_optimal: 0.05648838162115671\n"
     ]
    },
    {
     "name": "stdout",
     "output_type": "stream",
     "text": [
      "[0.67668612 0.68728631 0.58773412 0.03000707 0.23188295 0.4308206\n",
      " 0.11117113]\n",
      "threshold:  0.05648838162115671\n",
      "threshold 0.05648838162115671\n"
     ]
    },
    {
     "name": "stderr",
     "output_type": "stream",
     "text": [
      "ic| label_current_deforestation_test_classified_incorrect.shape: (2686159,)\n",
      "    predicted_test_classified_incorrect.shape: (2686159,)\n",
      "ic| TP_H + FN_H + FP_H + TN_H: 2686159\n",
      "    len(label_mask_current_deforestation_test): 89542890\n",
      "ic| TP_H + FN_H + FP_H + TN_H: 2686159\n",
      "    len(label_mask_current_deforestation_test): 89542890\n"
     ]
    },
    {
     "name": "stdout",
     "output_type": "stream",
     "text": [
      "[0.67666562 0.68728453 0.5877494  0.02999857 0.2318683  0.43078782\n",
      " 0.1111777 ]\n",
      "threshold 0.05648838162115671\n",
      "(89542890,) (89542890,)\n"
     ]
    },
    {
     "name": "stderr",
     "output_type": "stream",
     "text": [
      "ic| self.m_optimal: {'AA': array([0.02999857]),\n",
      "                     'UEO': array([0.1111777]),\n",
      "                     'f1': 60.83,\n",
      "                     'f1_H': array([0.30147171]),\n",
      "                     'f1_L': array([0.68193374]),\n",
      "                     'precision_H': array([0.2318683]),\n",
      "                     'precision_L': array([0.67666562]),\n",
      "                     'recall_H': array([0.43078782]),\n",
      "                     'recall_L': array([0.68728453]),\n",
      "                     'recall_Ltotal': array([0.5877494])}\n",
      "ic| self.m_audited_optimal: {'f1': array([0.72769026]),\n",
      "                             'precision': array([0.72287202]),\n",
      "                             'recall': array([0.73257316])}\n"
     ]
    },
    {
     "name": "stdout",
     "output_type": "stream",
     "text": [
      "cm_audited [[87866370   367605]\n",
      " [  350039   958876]]\n",
      "[0.72287202 0.73257316]\n",
      "Result idx 1: {'uncertainty_result': {'metrics': {'precision_L': array([0.67666562]), 'recall_L': array([0.68728453]), 'recall_Ltotal': array([0.5877494]), 'AA': array([0.02999857]), 'precision_H': array([0.2318683]), 'recall_H': array([0.43078782]), 'UEO': array([0.1111777]), 'f1_L': array([0.68193374]), 'f1_H': array([0.30147171]), 'f1': 60.83}, 'metrics_audited': {'precision': array([0.72287202]), 'recall': array([0.73257316]), 'f1': array([0.72769026])}, 'exp': 27}}\n",
      "Grid execution idx: 1\n",
      "Beginning run number 2\n",
      "manager.config {'training': False, 'inferring': True, 'site': 'PI', 'training_date': 'earlier', 'mode': 'single_run', 'training_times': 10, 'uncertainty_method': 'pred_entropy_single', 'loadInference': False, 'removePolygons': True, 'plotLandsat': False, 'plotPOI': False, 'training_experiment_id': 27, 'get_multiple_metrics': False, 'start_repetition_id': 0, 'save_probabilities': False, 'addPastDeforestationInput': True, 'classes_mode': False, 'learning_rate': 0.0001, 'use_cloud_mask': False, 'mask_out_non_biome': True, 'log_filename': 'log.pkl', 'inference_times': 1, 'dropout_training': False}\n",
      "D:/Jorge/datasets/deforestation/PI/deforestation_past_years.tif\n",
      "Loaded deforestation past years\n"
     ]
    },
    {
     "name": "stderr",
     "output_type": "stream",
     "text": [
      "ic| np.unique(deforestation_past_years, return_counts=True): (array([   0, 2002, 2004, 2006, 2008, 2010, 2012, 2013, 2014, 2015, 2016,\n",
      "                                                                    2017, 2018, 2019, 2020, 2021], dtype=uint16),\n",
      "                                                              array([340580606,   4312043,   6953620,   5659916,   7162776,   6261432,\n",
      "                                                                      8191420,   3233962,   3270293,   3044419,   1817289,   2359424,\n",
      "                                                                      2201926,   3050229,   2901307,   2418575], dtype=int64))\n"
     ]
    },
    {
     "name": "stdout",
     "output_type": "stream",
     "text": [
      "Label where deforestation past years is actual date (2020) = 1\n"
     ]
    },
    {
     "name": "stderr",
     "output_type": "stream",
     "text": [
      "ic| np.unique(deforestation_past_years, return_counts=True): (array([   0, 2002, 2004, 2006, 2008, 2010, 2012, 2013, 2014, 2015, 2016,\n",
      "                                                                    2017, 2018, 2019, 2020, 2021], dtype=uint16),\n",
      "                                                              array([340580606,   4312043,   6953620,   5659916,   7162776,   6261432,\n",
      "                                                                      8191420,   3233962,   3270293,   3044419,   1817289,   2359424,\n",
      "                                                                      2201926,   3050229,   2901307,   2418575], dtype=int64))\n"
     ]
    },
    {
     "name": "stdout",
     "output_type": "stream",
     "text": [
      "Past deforestation different from 0 (no deforestation)\n"
     ]
    },
    {
     "name": "stderr",
     "output_type": "stream",
     "text": [
      "ic| np.unique(deforestation_past_years, return_counts=True): (array([   0, 2002, 2004, 2006, 2008, 2010, 2012, 2013, 2014, 2015, 2016,\n",
      "                                                                    2017, 2018, 2019, 2020, 2021], dtype=uint16),\n",
      "                                                              array([340580606,   4312043,   6953620,   5659916,   7162776,   6261432,\n",
      "                                                                      8191420,   3233962,   3270293,   3044419,   1817289,   2359424,\n",
      "                                                                      2201926,   3050229,   2901307,   2418575], dtype=int64))\n"
     ]
    },
    {
     "name": "stdout",
     "output_type": "stream",
     "text": [
      "Past deforestation before 2008 is 2\n",
      "D:/Jorge/datasets/deforestation/PI/deforestation_before_2000_PI.tif\n"
     ]
    },
    {
     "name": "stderr",
     "output_type": "stream",
     "text": [
      "ic| np.unique(label_past_deforestation_before_2008, return_counts=True): (array([  0, 208], dtype=uint8), array([385251297,  18167940], dtype=int64))\n",
      "ic| np.unique(deforestation_past_years, return_counts=True): (array([   0, 2002, 2004, 2006, 2008, 2010, 2012, 2013, 2014, 2015, 2016,\n",
      "                                                                    2017, 2018, 2019, 2020, 2021], dtype=uint16),\n",
      "                                                              array([340580606,   4312043,   6953620,   5659916,   7162776,   6261432,\n",
      "                                                                      8191420,   3233962,   3270293,   3044419,   1817289,   2359424,\n",
      "                                                                      2201926,   3050229,   2901307,   2418575], dtype=int64))\n"
     ]
    },
    {
     "name": "stdout",
     "output_type": "stream",
     "text": [
      "D:/Jorge/datasets/sentinel2/PI/biome_limits.tif\n"
     ]
    },
    {
     "name": "stderr",
     "output_type": "stream",
     "text": [
      "ic| label_per_date.shape: (19357, 20841, 1)\n"
     ]
    },
    {
     "name": "stdout",
     "output_type": "stream",
     "text": [
      "Removing bufer................\n",
      "Mask label shape:  \n",
      " (19357, 20841, 1) \n",
      " Unique values:  \n",
      " [0 1 2]\n",
      "Tiles size:  3871 4168\n",
      "Mask size:  (19355, 20840)\n"
     ]
    },
    {
     "name": "stderr",
     "output_type": "stream",
     "text": [
      "ic| image_stack.shape: (19357, 20841, 9)\n"
     ]
    },
    {
     "name": "stdout",
     "output_type": "stream",
     "text": [
      "Image shape:  (19357, 20841, 9)\n",
      "mask:  (19355, 20840)\n",
      "image stack:  (19355, 20840, 9)\n",
      "ref : (19355, 20840, 1)\n",
      "Training tiles:  [2, 4, 5, 6, 7, 12, 14, 15, 18, 21, 23, 25]\n",
      "Validation tiles:  [9, 11, 24]\n",
      "Test tiles:  [1, 3, 8, 10, 13, 16, 17, 19, 20, 22]\n",
      "-5.0 -24.0\n"
     ]
    },
    {
     "name": "stderr",
     "output_type": "stream",
     "text": [
      "ic| self.path_models+ '/' + self.method +'_'+str(self.repetition_id)+'.h5': 'D:/Jorge/datasets/deforestation/experiments/PI/exp27/models/resunet_2.h5'\n"
     ]
    },
    {
     "name": "stdout",
     "output_type": "stream",
     "text": [
      "Dropout training mode: False\n",
      "time:  0\n",
      "(89644896,)\n",
      "(array([0, 1], dtype=uint8), array([88315686,  1329210], dtype=int64))\n",
      "(19355, 20840)\n",
      "Single entropy\n",
      "(array([0., 1.], dtype=float32), array([398116893,   5241307], dtype=int64))\n"
     ]
    },
    {
     "name": "stderr",
     "output_type": "stream",
     "text": [
      "ic| self.predicted_unpad.shape: (19355, 20840)\n",
      "    self.predicted.shape: (19355, 20840)\n",
      "ic| predicted_test.shape: (161343280,)\n",
      "ic| predicted_test.shape: (89644896,)\n",
      "ic| np.unique(predicted, return_counts=True): (array([0., 1.], dtype=float32), array([399839015,   3519185], dtype=int64))\n",
      "    np.unique(predicted_larger_than_min_area, return_counts=True): (array([0., 1.], dtype=float32), array([400120440,   3237760], dtype=int64))\n",
      "ic| np.unique(ignored_polygons, return_counts=True): (array([0., 1.], dtype=float32), array([403076775,    281425], dtype=int64))\n",
      "ic| self.f1: 63.11, self.precision: 61.93, self.recall: 64.34\n",
      "ic| self.label_mask_val.shape: (48402984,)\n",
      "ic| self.label_mask_val_valid.shape: (36730117,)\n",
      "ic| f1_val: 38.96\n",
      "    precision_val: 27.3\n",
      "    recall_val: 67.99\n",
      "    mAP_val: 51.6\n"
     ]
    },
    {
     "name": "stdout",
     "output_type": "stream",
     "text": [
      "(array([0., 1.], dtype=float32), array([400962622,   2395578], dtype=int64))\n",
      "[0. 1.]\n"
     ]
    },
    {
     "name": "stderr",
     "output_type": "stream",
     "text": [
      "ic| pred_entropy.shape: (19360, 20864)\n",
      "ic| self.label_mask.shape: (19355, 20840)\n",
      "ic| self.mask_amazon_ts.shape: (19355, 20840)\n",
      "ic| self.label_mask_test.shape: (161343280,)\n",
      "ic| self.error_mask_test.shape: (89558955,)\n",
      "ic| bounds: (0.0015, 0.3663794801235199)\n",
      "c:\\Users\\jchamorro\\Anaconda3\\envs\\tf2\\lib\\site-packages\\scipy\\optimize\\_minimize.py:783: RuntimeWarning: Method 'bounded' does not support relative tolerance in x; defaulting to absolute tolerance.\n",
      "  warn(\"Method 'bounded' does not support relative tolerance in x; \"\n"
     ]
    },
    {
     "name": "stdout",
     "output_type": "stream",
     "text": [
      "0.1408715596097929\n",
      "threshold 0.1408715596097929\n"
     ]
    },
    {
     "name": "stderr",
     "output_type": "stream",
     "text": [
      "ic| label_current_deforestation_test_classified_incorrect.shape: (1609079,)\n",
      "    predicted_test_classified_incorrect.shape: (1609079,)\n",
      "ic| TP_H + FN_H + FP_H + TN_H: 1609079\n",
      "    len(label_mask_current_deforestation_test): 89558955\n",
      "ic| TP_H + FN_H + FP_H + TN_H: 1609079\n",
      "    len(label_mask_current_deforestation_test): 89558955\n"
     ]
    },
    {
     "name": "stdout",
     "output_type": "stream",
     "text": [
      "[0.72681264 0.67358034 0.60096565 0.0179667  0.20002957 0.39329292\n",
      " 0.13450033]\n",
      "0.22700792051372695\n",
      "threshold 0.22700792051372695\n"
     ]
    },
    {
     "name": "stderr",
     "output_type": "stream",
     "text": [
      "ic| label_current_deforestation_test_classified_incorrect.shape: (1030869,)\n",
      "    predicted_test_classified_incorrect.shape: (1030869,)\n",
      "ic| TP_H + FN_H + FP_H + TN_H: 1030869\n",
      "    len(label_mask_current_deforestation_test): 89558955\n",
      "ic| TP_H + FN_H + FP_H + TN_H: 1030869\n",
      "    len(label_mask_current_deforestation_test): 89558955\n"
     ]
    },
    {
     "name": "stdout",
     "output_type": "stream",
     "text": [
      "[0.6816301  0.67177959 0.61971298 0.01151051 0.18242486 0.30515562\n",
      " 0.11582239]\n",
      "0.08763636090393405\n",
      "threshold 0.08763636090393405\n"
     ]
    },
    {
     "name": "stderr",
     "output_type": "stream",
     "text": [
      "ic| label_current_deforestation_test_classified_incorrect.shape: (2182736,)\n",
      "    predicted_test_classified_incorrect.shape: (2182736,)\n",
      "ic| TP_H + FN_H + FP_H + TN_H: 2182736\n",
      "    len(label_mask_current_deforestation_test): 89558955\n",
      "ic| TP_H + FN_H + FP_H + TN_H: 2182736\n",
      "    len(label_mask_current_deforestation_test): 89558955\n"
     ]
    },
    {
     "name": "stdout",
     "output_type": "stream",
     "text": [
      "[0.76308031 0.67331858 0.58200048 0.02437206 0.22224098 0.45245515\n",
      " 0.13559686]\n",
      "0.05473519870585886\n",
      "threshold 0.05473519870585886\n"
     ]
    },
    {
     "name": "stderr",
     "output_type": "stream",
     "text": [
      "ic| label_current_deforestation_test_classified_incorrect.shape: (2786788,)\n",
      "    predicted_test_classified_incorrect.shape: (2786788,)\n",
      "ic| TP_H + FN_H + FP_H + TN_H: 2786788\n",
      "    len(label_mask_current_deforestation_test): 89558955\n",
      "ic| TP_H + FN_H + FP_H + TN_H: 2786788\n",
      "    len(label_mask_current_deforestation_test): 89558955\n"
     ]
    },
    {
     "name": "stdout",
     "output_type": "stream",
     "text": [
      "[0.79309521 0.67182767 0.56334028 0.0311168  0.24359935 0.49556261\n",
      " 0.12927889]\n",
      "0.034401162198075194\n",
      "threshold 0.034401162198075194\n"
     ]
    },
    {
     "name": "stderr",
     "output_type": "stream",
     "text": [
      "ic| label_current_deforestation_test_classified_incorrect.shape: (3445544,)\n",
      "    predicted_test_classified_incorrect.shape: (3445544,)\n",
      "ic| TP_H + FN_H + FP_H + TN_H: 3445544\n",
      "    len(label_mask_current_deforestation_test): 89558955\n",
      "ic| TP_H + FN_H + FP_H + TN_H: 3445544\n",
      "    len(label_mask_current_deforestation_test): 89558955\n"
     ]
    },
    {
     "name": "stdout",
     "output_type": "stream",
     "text": [
      "[0.8160811  0.66923753 0.54450275 0.03847236 0.26604563 0.53041984\n",
      " 0.11907968]\n",
      "0.0638697426944561\n",
      "threshold 0.0638697426944561\n"
     ]
    },
    {
     "name": "stderr",
     "output_type": "stream",
     "text": [
      "ic| label_current_deforestation_test_classified_incorrect.shape: (2582807,)\n",
      "    predicted_test_classified_incorrect.shape: (2582807,)\n",
      "ic| TP_H + FN_H + FP_H + TN_H: 2582807\n",
      "    len(label_mask_current_deforestation_test): 89558955\n",
      "ic| TP_H + FN_H + FP_H + TN_H: 2582807\n",
      "    len(label_mask_current_deforestation_test): 89558955\n"
     ]
    },
    {
     "name": "stdout",
     "output_type": "stream",
     "text": [
      "[0.7839628  0.67248211 0.56949003 0.02883918 0.2364825  0.48235817\n",
      " 0.13195158]\n",
      "0.058869603919836866\n",
      "threshold 0.058869603919836866\n"
     ]
    },
    {
     "name": "stderr",
     "output_type": "stream",
     "text": [
      "ic| label_current_deforestation_test_classified_incorrect.shape: (2689562,)\n",
      "    predicted_test_classified_incorrect.shape: (2689562,)\n",
      "ic| TP_H + FN_H + FP_H + TN_H: 2689562\n",
      "    len(label_mask_current_deforestation_test): 89558955\n",
      "ic| TP_H + FN_H + FP_H + TN_H: 2689562\n",
      "    len(label_mask_current_deforestation_test): 89558955\n"
     ]
    },
    {
     "name": "stdout",
     "output_type": "stream",
     "text": [
      "[0.78896134 0.67217577 0.56625388 0.03003119 0.24015054 0.4893389\n",
      " 0.13065192]\n",
      "0.05925741524508411\n",
      "threshold 0.05925741524508411\n"
     ]
    },
    {
     "name": "stderr",
     "output_type": "stream",
     "text": [
      "ic| label_current_deforestation_test_classified_incorrect.shape: (2680896,)\n",
      "    predicted_test_classified_incorrect.shape: (2680896,)\n",
      "ic| TP_H + FN_H + FP_H + TN_H: 2680896\n",
      "    len(label_mask_current_deforestation_test): 89558955\n",
      "ic| TP_H + FN_H + FP_H + TN_H: 2680896\n",
      "    len(label_mask_current_deforestation_test): 89558955\n"
     ]
    },
    {
     "name": "stdout",
     "output_type": "stream",
     "text": [
      "[0.78856167 0.67220597 0.56653057 0.02993443 0.2398226  0.48874228\n",
      " 0.13075706]\n",
      "0.05849276451660153\n",
      "threshold 0.05849276451660153\n"
     ]
    },
    {
     "name": "stderr",
     "output_type": "stream",
     "text": [
      "ic| label_current_deforestation_test_classified_incorrect.shape: (2698141,)\n",
      "    predicted_test_classified_incorrect.shape: (2698141,)\n",
      "ic| TP_H + FN_H + FP_H + TN_H: 2698141\n",
      "    len(label_mask_current_deforestation_test): 89558955\n",
      "ic| TP_H + FN_H + FP_H + TN_H: 2698141\n",
      "    len(label_mask_current_deforestation_test): 89558955\n"
     ]
    },
    {
     "name": "stdout",
     "output_type": "stream",
     "text": [
      "[0.78934425 0.67213938 0.56598331 0.03012698 0.24047572 0.48994614\n",
      " 0.13053793]\n",
      "0.05896464442649749\n",
      "threshold 0.05896464442649749\n"
     ]
    },
    {
     "name": "stderr",
     "output_type": "stream",
     "text": [
      "ic| label_current_deforestation_test_classified_incorrect.shape: (2687387,)\n",
      "    predicted_test_classified_incorrect.shape: (2687387,)\n",
      "ic| TP_H + FN_H + FP_H + TN_H: 2687387\n",
      "    len(label_mask_current_deforestation_test): 89558955\n",
      "ic| TP_H + FN_H + FP_H + TN_H: 2687387\n",
      "    len(label_mask_current_deforestation_test): 89558955\n"
     ]
    },
    {
     "name": "stdout",
     "output_type": "stream",
     "text": [
      "[0.78886503 0.67218027 0.56632343 0.0300069  0.24006535 0.48920123\n",
      " 0.13067815]\n",
      "0.05902580243497233\n",
      "threshold 0.05902580243497233\n"
     ]
    },
    {
     "name": "stderr",
     "output_type": "stream",
     "text": [
      "ic| label_current_deforestation_test_classified_incorrect.shape: (2686047,)\n",
      "    predicted_test_classified_incorrect.shape: (2686047,)\n",
      "ic| TP_H + FN_H + FP_H + TN_H: 2686047\n",
      "    len(label_mask_current_deforestation_test): 89558955\n",
      "ic| TP_H + FN_H + FP_H + TN_H: 2686047\n",
      "    len(label_mask_current_deforestation_test): 89558955\n"
     ]
    },
    {
     "name": "stdout",
     "output_type": "stream",
     "text": [
      "[0.7888109  0.67219039 0.56637923 0.02999194 0.23998123 0.48906531\n",
      " 0.13069622]\n",
      "0.05893131021857714\n",
      "threshold 0.05893131021857714\n"
     ]
    },
    {
     "name": "stderr",
     "output_type": "stream",
     "text": [
      "ic| label_current_deforestation_test_classified_incorrect.shape: (2688157,)\n",
      "    predicted_test_classified_incorrect.shape: (2688157,)\n",
      "ic| TP_H + FN_H + FP_H + TN_H: 2688157\n",
      "    len(label_mask_current_deforestation_test): 89558955\n",
      "ic| TP_H + FN_H + FP_H + TN_H: 2688157\n",
      "    len(label_mask_current_deforestation_test): 89558955\n",
      "ic| self.threshold_optimal: 0.05896464442649749\n"
     ]
    },
    {
     "name": "stdout",
     "output_type": "stream",
     "text": [
      "[0.78890045 0.67217777 0.56629821 0.0300155  0.24009592 0.48925454\n",
      " 0.1306691 ]\n",
      "threshold:  0.05896464442649749\n",
      "threshold 0.05896464442649749\n"
     ]
    },
    {
     "name": "stderr",
     "output_type": "stream",
     "text": [
      "ic| label_current_deforestation_test_classified_incorrect.shape: (2687387,)\n",
      "    predicted_test_classified_incorrect.shape: (2687387,)\n",
      "ic| TP_H + FN_H + FP_H + TN_H: 2687387\n",
      "    len(label_mask_current_deforestation_test): 89558955\n",
      "ic| TP_H + FN_H + FP_H + TN_H: 2687387\n",
      "    len(label_mask_current_deforestation_test): 89558955\n"
     ]
    },
    {
     "name": "stdout",
     "output_type": "stream",
     "text": [
      "[0.78886503 0.67218027 0.56632343 0.0300069  0.24006535 0.48920123\n",
      " 0.13067815]\n",
      "threshold 0.05896464442649749\n",
      "(89558955,) (89558955,)\n"
     ]
    },
    {
     "name": "stderr",
     "output_type": "stream",
     "text": [
      "ic| self.m_optimal: {'AA': array([0.0300069]),\n",
      "                     'UEO': array([0.13067815]),\n",
      "                     'f1': 63.11,\n",
      "                     'f1_H': array([0.32207774]),\n",
      "                     'f1_L': array([0.7258632]),\n",
      "                     'precision_H': array([0.24006535]),\n",
      "                     'precision_L': array([0.78886503]),\n",
      "                     'recall_H': array([0.48920123]),\n",
      "                     'recall_L': array([0.67218027]),\n",
      "                     'recall_Ltotal': array([0.56632343])}\n",
      "ic| self.m_audited_optimal: {'f1': array([0.77190384]),\n",
      "                             'precision': array([0.82684871]),\n",
      "                             'recall': array([0.72380624])}\n"
     ]
    },
    {
     "name": "stdout",
     "output_type": "stream",
     "text": [
      "cm_audited [[88052299   198310]\n",
      " [  361357   946989]]\n",
      "[0.82684871 0.72380624]\n",
      "Result idx 2: {'uncertainty_result': {'metrics': {'precision_L': array([0.78886503]), 'recall_L': array([0.67218027]), 'recall_Ltotal': array([0.56632343]), 'AA': array([0.0300069]), 'precision_H': array([0.24006535]), 'recall_H': array([0.48920123]), 'UEO': array([0.13067815]), 'f1_L': array([0.7258632]), 'f1_H': array([0.32207774]), 'f1': 63.11}, 'metrics_audited': {'precision': array([0.82684871]), 'recall': array([0.72380624]), 'f1': array([0.77190384])}, 'exp': 27}}\n",
      "Grid execution idx: 2\n",
      "Beginning run number 3\n",
      "manager.config {'training': False, 'inferring': True, 'site': 'PI', 'training_date': 'earlier', 'mode': 'single_run', 'training_times': 10, 'uncertainty_method': 'pred_entropy_single', 'loadInference': False, 'removePolygons': True, 'plotLandsat': False, 'plotPOI': False, 'training_experiment_id': 27, 'get_multiple_metrics': False, 'start_repetition_id': 0, 'save_probabilities': False, 'addPastDeforestationInput': True, 'classes_mode': False, 'learning_rate': 0.0001, 'use_cloud_mask': False, 'mask_out_non_biome': True, 'log_filename': 'log.pkl', 'inference_times': 1, 'dropout_training': False}\n",
      "D:/Jorge/datasets/deforestation/PI/deforestation_past_years.tif\n",
      "Loaded deforestation past years\n"
     ]
    },
    {
     "name": "stderr",
     "output_type": "stream",
     "text": [
      "ic| np.unique(deforestation_past_years, return_counts=True): (array([   0, 2002, 2004, 2006, 2008, 2010, 2012, 2013, 2014, 2015, 2016,\n",
      "                                                                    2017, 2018, 2019, 2020, 2021], dtype=uint16),\n",
      "                                                              array([340580606,   4312043,   6953620,   5659916,   7162776,   6261432,\n",
      "                                                                      8191420,   3233962,   3270293,   3044419,   1817289,   2359424,\n",
      "                                                                      2201926,   3050229,   2901307,   2418575], dtype=int64))\n"
     ]
    },
    {
     "name": "stdout",
     "output_type": "stream",
     "text": [
      "Label where deforestation past years is actual date (2020) = 1\n"
     ]
    },
    {
     "name": "stderr",
     "output_type": "stream",
     "text": [
      "ic| np.unique(deforestation_past_years, return_counts=True): (array([   0, 2002, 2004, 2006, 2008, 2010, 2012, 2013, 2014, 2015, 2016,\n",
      "                                                                    2017, 2018, 2019, 2020, 2021], dtype=uint16),\n",
      "                                                              array([340580606,   4312043,   6953620,   5659916,   7162776,   6261432,\n",
      "                                                                      8191420,   3233962,   3270293,   3044419,   1817289,   2359424,\n",
      "                                                                      2201926,   3050229,   2901307,   2418575], dtype=int64))\n"
     ]
    },
    {
     "name": "stdout",
     "output_type": "stream",
     "text": [
      "Past deforestation different from 0 (no deforestation)\n"
     ]
    },
    {
     "name": "stderr",
     "output_type": "stream",
     "text": [
      "ic| np.unique(deforestation_past_years, return_counts=True): (array([   0, 2002, 2004, 2006, 2008, 2010, 2012, 2013, 2014, 2015, 2016,\n",
      "                                                                    2017, 2018, 2019, 2020, 2021], dtype=uint16),\n",
      "                                                              array([340580606,   4312043,   6953620,   5659916,   7162776,   6261432,\n",
      "                                                                      8191420,   3233962,   3270293,   3044419,   1817289,   2359424,\n",
      "                                                                      2201926,   3050229,   2901307,   2418575], dtype=int64))\n"
     ]
    },
    {
     "name": "stdout",
     "output_type": "stream",
     "text": [
      "Past deforestation before 2008 is 2\n",
      "D:/Jorge/datasets/deforestation/PI/deforestation_before_2000_PI.tif\n"
     ]
    },
    {
     "name": "stderr",
     "output_type": "stream",
     "text": [
      "ic| np.unique(label_past_deforestation_before_2008, return_counts=True): (array([  0, 208], dtype=uint8), array([385251297,  18167940], dtype=int64))\n",
      "ic| np.unique(deforestation_past_years, return_counts=True): (array([   0, 2002, 2004, 2006, 2008, 2010, 2012, 2013, 2014, 2015, 2016,\n",
      "                                                                    2017, 2018, 2019, 2020, 2021], dtype=uint16),\n",
      "                                                              array([340580606,   4312043,   6953620,   5659916,   7162776,   6261432,\n",
      "                                                                      8191420,   3233962,   3270293,   3044419,   1817289,   2359424,\n",
      "                                                                      2201926,   3050229,   2901307,   2418575], dtype=int64))\n"
     ]
    },
    {
     "name": "stdout",
     "output_type": "stream",
     "text": [
      "D:/Jorge/datasets/sentinel2/PI/biome_limits.tif\n"
     ]
    },
    {
     "name": "stderr",
     "output_type": "stream",
     "text": [
      "ic| label_per_date.shape: (19357, 20841, 1)\n"
     ]
    },
    {
     "name": "stdout",
     "output_type": "stream",
     "text": [
      "Removing bufer................\n",
      "Mask label shape:  \n",
      " (19357, 20841, 1) \n",
      " Unique values:  \n",
      " [0 1 2]\n",
      "Tiles size:  3871 4168\n",
      "Mask size:  (19355, 20840)\n"
     ]
    },
    {
     "name": "stderr",
     "output_type": "stream",
     "text": [
      "ic| image_stack.shape: (19357, 20841, 9)\n"
     ]
    },
    {
     "name": "stdout",
     "output_type": "stream",
     "text": [
      "Image shape:  (19357, 20841, 9)\n",
      "mask:  (19355, 20840)\n",
      "image stack:  (19355, 20840, 9)\n",
      "ref : (19355, 20840, 1)\n",
      "Training tiles:  [2, 4, 5, 6, 7, 12, 14, 15, 18, 21, 23, 25]\n",
      "Validation tiles:  [9, 11, 24]\n",
      "Test tiles:  [1, 3, 8, 10, 13, 16, 17, 19, 20, 22]\n",
      "-5.0 -24.0\n"
     ]
    },
    {
     "name": "stderr",
     "output_type": "stream",
     "text": [
      "ic| self.path_models+ '/' + self.method +'_'+str(self.repetition_id)+'.h5': 'D:/Jorge/datasets/deforestation/experiments/PI/exp27/models/resunet_3.h5'\n"
     ]
    },
    {
     "name": "stdout",
     "output_type": "stream",
     "text": [
      "Dropout training mode: False\n",
      "time:  0\n",
      "(89644896,)\n",
      "(array([0, 1], dtype=uint8), array([88315686,  1329210], dtype=int64))\n",
      "(19355, 20840)\n",
      "Single entropy\n",
      "(array([0., 1.], dtype=float32), array([397489917,   5868283], dtype=int64))\n"
     ]
    },
    {
     "name": "stderr",
     "output_type": "stream",
     "text": [
      "ic| self.predicted_unpad.shape: (19355, 20840)\n",
      "    self.predicted.shape: (19355, 20840)\n",
      "ic| predicted_test.shape: (161343280,)\n",
      "ic| predicted_test.shape: (89644896,)\n",
      "ic| np.unique(predicted, return_counts=True): (array([0., 1.], dtype=float32), array([398867592,   4490608], dtype=int64))\n",
      "    np.unique(predicted_larger_than_min_area, return_counts=True): (array([0., 1.], dtype=float32), array([399116064,   4242136], dtype=int64))\n",
      "ic| np.unique(ignored_polygons, return_counts=True): (array([0., 1.], dtype=float32), array([403109728,    248472], dtype=int64))\n",
      "ic| self.f1: 56.54, self.precision: 47.93, self.recall: 68.93\n",
      "ic| self.label_mask_val.shape: (48402984,)\n",
      "ic| self.label_mask_val_valid.shape: (36733089,)\n",
      "ic| f1_val: 37.55\n",
      "    precision_val: 25.86\n",
      "    recall_val: 68.56\n",
      "    mAP_val: 35.08\n"
     ]
    },
    {
     "name": "stdout",
     "output_type": "stream",
     "text": [
      "(array([0., 1.], dtype=float32), array([400094560,   3263640], dtype=int64))\n",
      "[0. 1.]\n"
     ]
    },
    {
     "name": "stderr",
     "output_type": "stream",
     "text": [
      "ic| pred_entropy.shape: (19360, 20864)\n",
      "ic| self.label_mask.shape: (19355, 20840)\n",
      "ic| self.mask_amazon_ts.shape: (19355, 20840)\n",
      "ic| self.label_mask_test.shape: (161343280,)\n",
      "ic| self.error_mask_test.shape: (89572292,)\n",
      "ic| bounds: (0.0015, 0.3663794801235199)\n",
      "c:\\Users\\jchamorro\\Anaconda3\\envs\\tf2\\lib\\site-packages\\scipy\\optimize\\_minimize.py:783: RuntimeWarning: Method 'bounded' does not support relative tolerance in x; defaulting to absolute tolerance.\n",
      "  warn(\"Method 'bounded' does not support relative tolerance in x; \"\n"
     ]
    },
    {
     "name": "stdout",
     "output_type": "stream",
     "text": [
      "0.1408715596097929\n",
      "threshold 0.1408715596097929\n"
     ]
    },
    {
     "name": "stderr",
     "output_type": "stream",
     "text": [
      "ic| label_current_deforestation_test_classified_incorrect.shape: (2383745,)\n",
      "    predicted_test_classified_incorrect.shape: (2383745,)\n",
      "ic| TP_H + FN_H + FP_H + TN_H: 2383745\n",
      "    len(label_mask_current_deforestation_test): 89572292\n",
      "ic| TP_H + FN_H + FP_H + TN_H: 2383745\n",
      "    len(label_mask_current_deforestation_test): 89572292\n"
     ]
    },
    {
     "name": "stdout",
     "output_type": "stream",
     "text": [
      "[0.57998302 0.73195063 0.6430538  0.02661253 0.1403756  0.38076441\n",
      " 0.14249477]\n",
      "0.22700792051372695\n",
      "threshold 0.22700792051372695\n"
     ]
    },
    {
     "name": "stderr",
     "output_type": "stream",
     "text": [
      "ic| label_current_deforestation_test_classified_incorrect.shape: (1592744,)\n",
      "    predicted_test_classified_incorrect.shape: (1592744,)\n",
      "ic| TP_H + FN_H + FP_H + TN_H: 1592744\n",
      "    len(label_mask_current_deforestation_test): 89572292\n",
      "ic| TP_H + FN_H + FP_H + TN_H: 1592744\n",
      "    len(label_mask_current_deforestation_test): 89572292\n"
     ]
    },
    {
     "name": "stdout",
     "output_type": "stream",
     "text": [
      "[0.53939644 0.7259132  0.66296629 0.01778166 0.12593579 0.30366561\n",
      " 0.11986355]\n",
      "0.08763636090393405\n",
      "threshold 0.08763636090393405\n"
     ]
    },
    {
     "name": "stderr",
     "output_type": "stream",
     "text": [
      "ic| label_current_deforestation_test_classified_incorrect.shape: (3123617,)\n",
      "    predicted_test_classified_incorrect.shape: (3123617,)\n",
      "ic| TP_H + FN_H + FP_H + TN_H: 3123617\n",
      "    len(label_mask_current_deforestation_test): 89572292\n",
      "ic| TP_H + FN_H + FP_H + TN_H: 3123617\n",
      "    len(label_mask_current_deforestation_test): 89572292\n"
     ]
    },
    {
     "name": "stdout",
     "output_type": "stream",
     "text": [
      "[0.61221385 0.73528996 0.62568526 0.03487258 0.15285145 0.42675257\n",
      " 0.14607391]\n",
      "0.12915999649048812\n",
      "threshold 0.12915999649048812\n"
     ]
    },
    {
     "name": "stderr",
     "output_type": "stream",
     "text": [
      "ic| label_current_deforestation_test_classified_incorrect.shape: (2520932,)\n",
      "    predicted_test_classified_incorrect.shape: (2520932,)\n",
      "ic| TP_H + FN_H + FP_H + TN_H: 2520932\n",
      "    len(label_mask_current_deforestation_test): 89572292\n",
      "ic| TP_H + FN_H + FP_H + TN_H: 2520932\n",
      "    len(label_mask_current_deforestation_test): 89572292\n"
     ]
    },
    {
     "name": "stdout",
     "output_type": "stream",
     "text": [
      "[0.58631893 0.73273885 0.63981356 0.02814411 0.14263122 0.3902\n",
      " 0.14397555]\n",
      "0.11790422263837683\n",
      "threshold 0.11790422263837683\n"
     ]
    },
    {
     "name": "stderr",
     "output_type": "stream",
     "text": [
      "ic| label_current_deforestation_test_classified_incorrect.shape: (2662999,)\n",
      "    predicted_test_classified_incorrect.shape: (2662999,)\n",
      "ic| TP_H + FN_H + FP_H + TN_H: 2662999\n",
      "    len(label_mask_current_deforestation_test): 89572292\n",
      "ic| TP_H + FN_H + FP_H + TN_H: 2662999\n",
      "    len(label_mask_current_deforestation_test): 89572292\n"
     ]
    },
    {
     "name": "stdout",
     "output_type": "stream",
     "text": [
      "[0.59283745 0.73345417 0.63651777 0.02973016 0.14480261 0.39935628\n",
      " 0.14512393]\n",
      "0.10634292822260202\n",
      "threshold 0.10634292822260202\n"
     ]
    },
    {
     "name": "stderr",
     "output_type": "stream",
     "text": [
      "ic| label_current_deforestation_test_classified_incorrect.shape: (2823707,)\n",
      "    predicted_test_classified_incorrect.shape: (2823707,)\n",
      "ic| TP_H + FN_H + FP_H + TN_H: 2823707\n",
      "    len(label_mask_current_deforestation_test): 89572292\n",
      "ic| TP_H + FN_H + FP_H + TN_H: 2823707\n",
      "    len(label_mask_current_deforestation_test): 89572292\n"
     ]
    },
    {
     "name": "stdout",
     "output_type": "stream",
     "text": [
      "[0.59985803 0.73422243 0.63278061 0.03152434 0.14745181 0.40906813\n",
      " 0.14586874]\n",
      "0.11708680031977267\n",
      "threshold 0.11708680031977267\n"
     ]
    },
    {
     "name": "stderr",
     "output_type": "stream",
     "text": [
      "ic| label_current_deforestation_test_classified_incorrect.shape: (2673647,)\n",
      "    predicted_test_classified_incorrect.shape: (2673647,)\n",
      "ic| TP_H + FN_H + FP_H + TN_H: 2673647\n",
      "    len(label_mask_current_deforestation_test): 89572292\n",
      "ic| TP_H + FN_H + FP_H + TN_H: 2673647\n",
      "    len(label_mask_current_deforestation_test): 89572292\n"
     ]
    },
    {
     "name": "stdout",
     "output_type": "stream",
     "text": [
      "[0.59330277 0.73350417 0.63625751 0.02984904 0.1450071  0.40007232\n",
      " 0.14518636]\n",
      "0.11441903634837364\n",
      "threshold 0.11441903634837364\n"
     ]
    },
    {
     "name": "stderr",
     "output_type": "stream",
     "text": [
      "ic| label_current_deforestation_test_classified_incorrect.shape: (2709467,)\n",
      "    predicted_test_classified_incorrect.shape: (2709467,)\n",
      "ic| TP_H + FN_H + FP_H + TN_H: 2709467\n",
      "    len(label_mask_current_deforestation_test): 89572292\n",
      "ic| TP_H + FN_H + FP_H + TN_H: 2709467\n",
      "    len(label_mask_current_deforestation_test): 89572292\n"
     ]
    },
    {
     "name": "stdout",
     "output_type": "stream",
     "text": [
      "[0.59487242 0.73366237 0.63538087 0.03024894 0.14568974 0.40248925\n",
      " 0.14538646]\n",
      "0.11606780515666064\n",
      "threshold 0.11606780515666064\n"
     ]
    },
    {
     "name": "stderr",
     "output_type": "stream",
     "text": [
      "ic| label_current_deforestation_test_classified_incorrect.shape: (2687232,)\n",
      "    predicted_test_classified_incorrect.shape: (2687232,)\n",
      "ic| TP_H + FN_H + FP_H + TN_H: 2687232\n",
      "    len(label_mask_current_deforestation_test): 89572292\n",
      "ic| TP_H + FN_H + FP_H + TN_H: 2687232\n",
      "    len(label_mask_current_deforestation_test): 89572292\n"
     ]
    },
    {
     "name": "stdout",
     "output_type": "stream",
     "text": [
      "[0.59390424 0.73356027 0.63593943 0.03000071 0.14523285 0.40095953\n",
      " 0.1452602 ]\n",
      "0.11591731216473723\n",
      "threshold 0.11591731216473723\n"
     ]
    },
    {
     "name": "stderr",
     "output_type": "stream",
     "text": [
      "ic| label_current_deforestation_test_classified_incorrect.shape: (2689224,)\n",
      "    predicted_test_classified_incorrect.shape: (2689224,)\n",
      "ic| TP_H + FN_H + FP_H + TN_H: 2689224\n",
      "    len(label_mask_current_deforestation_test): 89572292\n",
      "ic| TP_H + FN_H + FP_H + TN_H: 2689224\n",
      "    len(label_mask_current_deforestation_test): 89572292\n"
     ]
    },
    {
     "name": "stdout",
     "output_type": "stream",
     "text": [
      "[0.59399817 0.73356562 0.63588768 0.03002295 0.14527229 0.40111671\n",
      " 0.14527606]\n",
      "0.11628524975983719\n",
      "threshold 0.11628524975983719\n"
     ]
    },
    {
     "name": "stderr",
     "output_type": "stream",
     "text": [
      "ic| label_current_deforestation_test_classified_incorrect.shape: (2684312,)\n",
      "    predicted_test_classified_incorrect.shape: (2684312,)\n",
      "ic| TP_H + FN_H + FP_H + TN_H: 2684312\n",
      "    len(label_mask_current_deforestation_test): 89572292\n",
      "ic| TP_H + FN_H + FP_H + TN_H: 2684312\n",
      "    len(label_mask_current_deforestation_test): 89572292\n"
     ]
    },
    {
     "name": "stdout",
     "output_type": "stream",
     "text": [
      "[0.59376803 0.73354995 0.63600639 0.02996811 0.14519222 0.40076799\n",
      " 0.14524069]\n",
      "0.11610114021155774\n",
      "threshold 0.11610114021155774\n"
     ]
    },
    {
     "name": "stderr",
     "output_type": "stream",
     "text": [
      "ic| label_current_deforestation_test_classified_incorrect.shape: (2686804,)\n",
      "    predicted_test_classified_incorrect.shape: (2686804,)\n",
      "ic| TP_H + FN_H + FP_H + TN_H: 2686804\n",
      "    len(label_mask_current_deforestation_test): 89572292\n",
      "ic| TP_H + FN_H + FP_H + TN_H: 2686804\n",
      "    len(label_mask_current_deforestation_test): 89572292\n"
     ]
    },
    {
     "name": "stdout",
     "output_type": "stream",
     "text": [
      "[0.5938896  0.73356191 0.63595312 0.02999593 0.14521512 0.40090703\n",
      " 0.14526126]\n",
      "0.11603447010176354\n",
      "threshold 0.11603447010176354\n"
     ]
    },
    {
     "name": "stderr",
     "output_type": "stream",
     "text": [
      "ic| label_current_deforestation_test_classified_incorrect.shape: (2687687,)\n",
      "    predicted_test_classified_incorrect.shape: (2687687,)\n",
      "ic| TP_H + FN_H + FP_H + TN_H: 2687687\n",
      "    len(label_mask_current_deforestation_test): 89572292\n",
      "ic| TP_H + FN_H + FP_H + TN_H: 2687687\n",
      "    len(label_mask_current_deforestation_test): 89572292\n",
      "ic| self.threshold_optimal: 0.11606780515666064\n"
     ]
    },
    {
     "name": "stdout",
     "output_type": "stream",
     "text": [
      "[0.59393243 0.73356133 0.63593029 0.03000579 0.14523153 0.40098687\n",
      " 0.14526769]\n",
      "threshold:  0.11606780515666064\n",
      "threshold 0.11606780515666064\n"
     ]
    },
    {
     "name": "stderr",
     "output_type": "stream",
     "text": [
      "ic| label_current_deforestation_test_classified_incorrect.shape: (2687232,)\n",
      "    predicted_test_classified_incorrect.shape: (2687232,)\n",
      "ic| TP_H + FN_H + FP_H + TN_H: 2687232\n",
      "    len(label_mask_current_deforestation_test): 89572292\n",
      "ic| TP_H + FN_H + FP_H + TN_H: 2687232\n",
      "    len(label_mask_current_deforestation_test): 89572292\n"
     ]
    },
    {
     "name": "stdout",
     "output_type": "stream",
     "text": [
      "[0.59390424 0.73356027 0.63593943 0.03000071 0.14523285 0.40095953\n",
      " 0.1452602 ]\n",
      "threshold 0.11606780515666064\n",
      "(89572292,) (89572292,)\n"
     ]
    },
    {
     "name": "stderr",
     "output_type": "stream",
     "text": [
      "ic| self.m_optimal: {'AA': array([0.03000071]),\n",
      "                     'UEO': array([0.1452602]),\n",
      "                     'f1': 56.54,\n",
      "                     'f1_H': array([0.21323071]),\n",
      "                     'f1_L': array([0.65638599]),\n",
      "                     'precision_H': array([0.14523285]),\n",
      "                     'precision_L': array([0.59390424]),\n",
      "                     'recall_H': array([0.40095953]),\n",
      "                     'recall_L': array([0.73356027]),\n",
      "                     'recall_Ltotal': array([0.63593943])}\n",
      "ic| self.m_audited_optimal: {'f1': array([0.69788373]),\n",
      "                             'precision': array([0.63879539]),\n",
      "                             'recall': array([0.76901758])}\n"
     ]
    },
    {
     "name": "stdout",
     "output_type": "stream",
     "text": [
      "cm_audited [[87686771   571421]\n",
      " [  303534  1010566]]\n",
      "[0.63879539 0.76901758]\n",
      "Result idx 3: {'uncertainty_result': {'metrics': {'precision_L': array([0.59390424]), 'recall_L': array([0.73356027]), 'recall_Ltotal': array([0.63593943]), 'AA': array([0.03000071]), 'precision_H': array([0.14523285]), 'recall_H': array([0.40095953]), 'UEO': array([0.1452602]), 'f1_L': array([0.65638599]), 'f1_H': array([0.21323071]), 'f1': 56.54}, 'metrics_audited': {'precision': array([0.63879539]), 'recall': array([0.76901758]), 'f1': array([0.69788373])}, 'exp': 27}}\n",
      "Grid execution idx: 3\n",
      "Beginning run number 4\n",
      "manager.config {'training': False, 'inferring': True, 'site': 'PI', 'training_date': 'earlier', 'mode': 'single_run', 'training_times': 10, 'uncertainty_method': 'pred_entropy_single', 'loadInference': False, 'removePolygons': True, 'plotLandsat': False, 'plotPOI': False, 'training_experiment_id': 27, 'get_multiple_metrics': False, 'start_repetition_id': 0, 'save_probabilities': False, 'addPastDeforestationInput': True, 'classes_mode': False, 'learning_rate': 0.0001, 'use_cloud_mask': False, 'mask_out_non_biome': True, 'log_filename': 'log.pkl', 'inference_times': 1, 'dropout_training': False}\n",
      "D:/Jorge/datasets/deforestation/PI/deforestation_past_years.tif\n",
      "Loaded deforestation past years\n"
     ]
    },
    {
     "name": "stderr",
     "output_type": "stream",
     "text": [
      "ic| np.unique(deforestation_past_years, return_counts=True): (array([   0, 2002, 2004, 2006, 2008, 2010, 2012, 2013, 2014, 2015, 2016,\n",
      "                                                                    2017, 2018, 2019, 2020, 2021], dtype=uint16),\n",
      "                                                              array([340580606,   4312043,   6953620,   5659916,   7162776,   6261432,\n",
      "                                                                      8191420,   3233962,   3270293,   3044419,   1817289,   2359424,\n",
      "                                                                      2201926,   3050229,   2901307,   2418575], dtype=int64))\n"
     ]
    },
    {
     "name": "stdout",
     "output_type": "stream",
     "text": [
      "Label where deforestation past years is actual date (2020) = 1\n"
     ]
    },
    {
     "name": "stderr",
     "output_type": "stream",
     "text": [
      "ic| np.unique(deforestation_past_years, return_counts=True): (array([   0, 2002, 2004, 2006, 2008, 2010, 2012, 2013, 2014, 2015, 2016,\n",
      "                                                                    2017, 2018, 2019, 2020, 2021], dtype=uint16),\n",
      "                                                              array([340580606,   4312043,   6953620,   5659916,   7162776,   6261432,\n",
      "                                                                      8191420,   3233962,   3270293,   3044419,   1817289,   2359424,\n",
      "                                                                      2201926,   3050229,   2901307,   2418575], dtype=int64))\n"
     ]
    },
    {
     "name": "stdout",
     "output_type": "stream",
     "text": [
      "Past deforestation different from 0 (no deforestation)\n"
     ]
    },
    {
     "name": "stderr",
     "output_type": "stream",
     "text": [
      "ic| np.unique(deforestation_past_years, return_counts=True): (array([   0, 2002, 2004, 2006, 2008, 2010, 2012, 2013, 2014, 2015, 2016,\n",
      "                                                                    2017, 2018, 2019, 2020, 2021], dtype=uint16),\n",
      "                                                              array([340580606,   4312043,   6953620,   5659916,   7162776,   6261432,\n",
      "                                                                      8191420,   3233962,   3270293,   3044419,   1817289,   2359424,\n",
      "                                                                      2201926,   3050229,   2901307,   2418575], dtype=int64))\n"
     ]
    },
    {
     "name": "stdout",
     "output_type": "stream",
     "text": [
      "Past deforestation before 2008 is 2\n",
      "D:/Jorge/datasets/deforestation/PI/deforestation_before_2000_PI.tif\n"
     ]
    },
    {
     "name": "stderr",
     "output_type": "stream",
     "text": [
      "ic| np.unique(label_past_deforestation_before_2008, return_counts=True): (array([  0, 208], dtype=uint8), array([385251297,  18167940], dtype=int64))\n",
      "ic| np.unique(deforestation_past_years, return_counts=True): (array([   0, 2002, 2004, 2006, 2008, 2010, 2012, 2013, 2014, 2015, 2016,\n",
      "                                                                    2017, 2018, 2019, 2020, 2021], dtype=uint16),\n",
      "                                                              array([340580606,   4312043,   6953620,   5659916,   7162776,   6261432,\n",
      "                                                                      8191420,   3233962,   3270293,   3044419,   1817289,   2359424,\n",
      "                                                                      2201926,   3050229,   2901307,   2418575], dtype=int64))\n"
     ]
    },
    {
     "name": "stdout",
     "output_type": "stream",
     "text": [
      "D:/Jorge/datasets/sentinel2/PI/biome_limits.tif\n"
     ]
    },
    {
     "name": "stderr",
     "output_type": "stream",
     "text": [
      "ic| label_per_date.shape: (19357, 20841, 1)\n"
     ]
    },
    {
     "name": "stdout",
     "output_type": "stream",
     "text": [
      "Removing bufer................\n",
      "Mask label shape:  \n",
      " (19357, 20841, 1) \n",
      " Unique values:  \n",
      " [0 1 2]\n",
      "Tiles size:  3871 4168\n",
      "Mask size:  (19355, 20840)\n"
     ]
    },
    {
     "name": "stderr",
     "output_type": "stream",
     "text": [
      "ic| image_stack.shape: (19357, 20841, 9)\n"
     ]
    },
    {
     "name": "stdout",
     "output_type": "stream",
     "text": [
      "Image shape:  (19357, 20841, 9)\n",
      "mask:  (19355, 20840)\n",
      "image stack:  (19355, 20840, 9)\n",
      "ref : (19355, 20840, 1)\n",
      "Training tiles:  [2, 4, 5, 6, 7, 12, 14, 15, 18, 21, 23, 25]\n",
      "Validation tiles:  [9, 11, 24]\n",
      "Test tiles:  [1, 3, 8, 10, 13, 16, 17, 19, 20, 22]\n",
      "-5.0 -24.0\n"
     ]
    },
    {
     "name": "stderr",
     "output_type": "stream",
     "text": [
      "ic| self.path_models+ '/' + self.method +'_'+str(self.repetition_id)+'.h5': 'D:/Jorge/datasets/deforestation/experiments/PI/exp27/models/resunet_4.h5'\n"
     ]
    },
    {
     "name": "stdout",
     "output_type": "stream",
     "text": [
      "Dropout training mode: False\n",
      "time:  0\n",
      "(89644896,)\n",
      "(array([0, 1], dtype=uint8), array([88315686,  1329210], dtype=int64))\n",
      "(19355, 20840)\n",
      "Single entropy\n",
      "(array([0., 1.], dtype=float32), array([397911366,   5446834], dtype=int64))\n"
     ]
    },
    {
     "name": "stderr",
     "output_type": "stream",
     "text": [
      "ic| self.predicted_unpad.shape: (19355, 20840)\n",
      "    self.predicted.shape: (19355, 20840)\n",
      "ic| predicted_test.shape: (161343280,)\n",
      "ic| predicted_test.shape: (89644896,)\n",
      "ic| np.unique(predicted, return_counts=True): (array([0., 1.], dtype=float32), array([399389871,   3968329], dtype=int64))\n",
      "    np.unique(predicted_larger_than_min_area, return_counts=True): (array([0., 1.], dtype=float32), array([399751092,   3607108], dtype=int64))\n",
      "ic| np.unique(ignored_polygons, return_counts=True): (array([0., 1.], dtype=float32), array([402996979,    361221], dtype=int64))\n",
      "ic| self.f1: 61.33, self.precision: 58.54, self.recall: 64.4\n",
      "ic| self.label_mask_val.shape: (48402984,)\n",
      "ic| self.label_mask_val_valid.shape: (36718859,)\n",
      "ic| f1_val: 33.89\n",
      "    precision_val: 23.82\n",
      "    recall_val: 58.75\n",
      "    mAP_val: 40.25\n"
     ]
    },
    {
     "name": "stdout",
     "output_type": "stream",
     "text": [
      "(array([0., 1.], dtype=float32), array([400529060,   2829140], dtype=int64))\n",
      "[0. 1.]\n"
     ]
    },
    {
     "name": "stderr",
     "output_type": "stream",
     "text": [
      "ic| pred_entropy.shape: (19360, 20864)\n",
      "ic| self.label_mask.shape: (19355, 20840)\n",
      "ic| self.mask_amazon_ts.shape: (19355, 20840)\n",
      "ic| self.label_mask_test.shape: (161343280,)\n",
      "ic| self.error_mask_test.shape: (89526059,)\n",
      "ic| bounds: (0.0015, 0.3663794801235199)\n",
      "c:\\Users\\jchamorro\\Anaconda3\\envs\\tf2\\lib\\site-packages\\scipy\\optimize\\_minimize.py:783: RuntimeWarning: Method 'bounded' does not support relative tolerance in x; defaulting to absolute tolerance.\n",
      "  warn(\"Method 'bounded' does not support relative tolerance in x; \"\n"
     ]
    },
    {
     "name": "stdout",
     "output_type": "stream",
     "text": [
      "0.1408715596097929\n",
      "threshold 0.1408715596097929\n"
     ]
    },
    {
     "name": "stderr",
     "output_type": "stream",
     "text": [
      "ic| label_current_deforestation_test_classified_incorrect.shape: (2095967,)\n",
      "    predicted_test_classified_incorrect.shape: (2095967,)\n",
      "ic| TP_H + FN_H + FP_H + TN_H: 2095967\n",
      "    len(label_mask_current_deforestation_test): 89526059\n",
      "ic| TP_H + FN_H + FP_H + TN_H: 2095967\n",
      "    len(label_mask_current_deforestation_test): 89526059\n"
     ]
    },
    {
     "name": "stdout",
     "output_type": "stream",
     "text": [
      "[0.68794491 0.67007741 0.60593515 0.02341181 0.1734782  0.39759046\n",
      " 0.1098799 ]\n",
      "0.22700792051372695\n",
      "threshold 0.22700792051372695\n"
     ]
    },
    {
     "name": "stderr",
     "output_type": "stream",
     "text": [
      "ic| label_current_deforestation_test_classified_incorrect.shape: (1402671,)\n",
      "    predicted_test_classified_incorrect.shape: (1402671,)\n",
      "ic| TP_H + FN_H + FP_H + TN_H: 1402671\n",
      "    len(label_mask_current_deforestation_test): 89526059\n",
      "ic| TP_H + FN_H + FP_H + TN_H: 1402671\n",
      "    len(label_mask_current_deforestation_test): 89526059\n"
     ]
    },
    {
     "name": "stdout",
     "output_type": "stream",
     "text": [
      "[0.64984948 0.66777846 0.62214257 0.01566774 0.15300722 0.31974592\n",
      " 0.09754013]\n",
      "0.08763636090393405\n",
      "threshold 0.08763636090393405\n"
     ]
    },
    {
     "name": "stderr",
     "output_type": "stream",
     "text": [
      "ic| label_current_deforestation_test_classified_incorrect.shape: (2723662,)\n",
      "    predicted_test_classified_incorrect.shape: (2723662,)\n",
      "ic| TP_H + FN_H + FP_H + TN_H: 2723662\n",
      "    len(label_mask_current_deforestation_test): 89526059\n",
      "ic| TP_H + FN_H + FP_H + TN_H: 2723662\n",
      "    len(label_mask_current_deforestation_test): 89526059\n"
     ]
    },
    {
     "name": "stdout",
     "output_type": "stream",
     "text": [
      "[0.71463085 0.67150723 0.59251266 0.03042312 0.18992599 0.43762587\n",
      " 0.10956058]\n",
      "0.05473519870585886\n",
      "threshold 0.05473519870585886\n"
     ]
    },
    {
     "name": "stderr",
     "output_type": "stream",
     "text": [
      "ic| label_current_deforestation_test_classified_incorrect.shape: (3341913,)\n",
      "    predicted_test_classified_incorrect.shape: (3341913,)\n",
      "ic| TP_H + FN_H + FP_H + TN_H: 3341913\n",
      "    len(label_mask_current_deforestation_test): 89526059\n",
      "ic| TP_H + FN_H + FP_H + TN_H: 3341913\n",
      "    len(label_mask_current_deforestation_test): 89526059\n"
     ]
    },
    {
     "name": "stdout",
     "output_type": "stream",
     "text": [
      "[0.73571696 0.67265649 0.58066299 0.03732894 0.20368299 0.46307607\n",
      " 0.10542079]\n",
      "0.09894053129103436\n",
      "threshold 0.09894053129103436\n"
     ]
    },
    {
     "name": "stderr",
     "output_type": "stream",
     "text": [
      "ic| label_current_deforestation_test_classified_incorrect.shape: (2565145,)\n",
      "    predicted_test_classified_incorrect.shape: (2565145,)\n",
      "ic| TP_H + FN_H + FP_H + TN_H: 2565145\n",
      "    len(label_mask_current_deforestation_test): 89526059\n",
      "ic| TP_H + FN_H + FP_H + TN_H: 2565145\n",
      "    len(label_mask_current_deforestation_test): 89526059\n"
     ]
    },
    {
     "name": "stdout",
     "output_type": "stream",
     "text": [
      "[0.7083735  0.67114284 0.59582415 0.0286525  0.18593997 0.42922713\n",
      " 0.11008184]\n",
      "0.07506923521364253\n",
      "threshold 0.07506923521364253\n"
     ]
    },
    {
     "name": "stderr",
     "output_type": "stream",
     "text": [
      "ic| label_current_deforestation_test_classified_incorrect.shape: (2925454,)\n",
      "    predicted_test_classified_incorrect.shape: (2925454,)\n",
      "ic| TP_H + FN_H + FP_H + TN_H: 2925454\n",
      "    len(label_mask_current_deforestation_test): 89526059\n",
      "ic| TP_H + FN_H + FP_H + TN_H: 2925454\n",
      "    len(label_mask_current_deforestation_test): 89526059\n"
     ]
    },
    {
     "name": "stdout",
     "output_type": "stream",
     "text": [
      "[0.72199452 0.67189684 0.58845526 0.03267712 0.19477985 0.44721441\n",
      " 0.10846444]\n",
      "0.08955076758771197\n",
      "threshold 0.08955076758771197\n"
     ]
    },
    {
     "name": "stderr",
     "output_type": "stream",
     "text": [
      "ic| label_current_deforestation_test_classified_incorrect.shape: (2695493,)\n",
      "    predicted_test_classified_incorrect.shape: (2695493,)\n",
      "ic| TP_H + FN_H + FP_H + TN_H: 2695493\n",
      "    len(label_mask_current_deforestation_test): 89526059\n",
      "ic| TP_H + FN_H + FP_H + TN_H: 2695493\n",
      "    len(label_mask_current_deforestation_test): 89526059\n"
     ]
    },
    {
     "name": "stdout",
     "output_type": "stream",
     "text": [
      "[0.71354146 0.6714471  0.59307744 0.03010847 0.18927903 0.43623708\n",
      " 0.10967966]\n",
      "0.09172863082040367\n",
      "threshold 0.09172863082040367\n"
     ]
    },
    {
     "name": "stderr",
     "output_type": "stream",
     "text": [
      "ic| label_current_deforestation_test_classified_incorrect.shape: (2663996,)\n",
      "    predicted_test_classified_incorrect.shape: (2663996,)\n",
      "ic| TP_H + FN_H + FP_H + TN_H: 2663996\n",
      "    len(label_mask_current_deforestation_test): 89526059\n",
      "ic| TP_H + FN_H + FP_H + TN_H: 2663996\n",
      "    len(label_mask_current_deforestation_test): 89526059\n"
     ]
    },
    {
     "name": "stdout",
     "output_type": "stream",
     "text": [
      "[0.71231042 0.67137956 0.59374998 0.02975665 0.18844663 0.43453518\n",
      " 0.10978908]\n",
      "0.09007972450280856\n",
      "threshold 0.09007972450280856\n"
     ]
    },
    {
     "name": "stderr",
     "output_type": "stream",
     "text": [
      "ic| label_current_deforestation_test_classified_incorrect.shape: (2687851,)\n",
      "    predicted_test_classified_incorrect.shape: (2687851,)\n",
      "ic| TP_H + FN_H + FP_H + TN_H: 2687851\n",
      "    len(label_mask_current_deforestation_test): 89526059\n",
      "ic| TP_H + FN_H + FP_H + TN_H: 2687851\n",
      "    len(label_mask_current_deforestation_test): 89526059\n"
     ]
    },
    {
     "name": "stdout",
     "output_type": "stream",
     "text": [
      "[0.71324729 0.67143038 0.59324175 0.03002311 0.18907107 0.43582524\n",
      " 0.109708  ]\n",
      "0.09041105496708077\n",
      "threshold 0.09041105496708077\n"
     ]
    },
    {
     "name": "stderr",
     "output_type": "stream",
     "text": [
      "ic| label_current_deforestation_test_classified_incorrect.shape: (2682961,)\n",
      "    predicted_test_classified_incorrect.shape: (2682961,)\n",
      "ic| TP_H + FN_H + FP_H + TN_H: 2682961\n",
      "    len(label_mask_current_deforestation_test): 89526059\n",
      "ic| TP_H + FN_H + FP_H + TN_H: 2682961\n",
      "    len(label_mask_current_deforestation_test): 89526059\n"
     ]
    },
    {
     "name": "stdout",
     "output_type": "stream",
     "text": [
      "[0.71306194 0.67141362 0.59333881 0.02996849 0.1889575  0.435615\n",
      " 0.10972721]\n",
      "0.09018702055326198\n",
      "threshold 0.09018702055326198\n"
     ]
    },
    {
     "name": "stderr",
     "output_type": "stream",
     "text": [
      "ic| label_current_deforestation_test_classified_incorrect.shape: (2686212,)\n",
      "    predicted_test_classified_incorrect.shape: (2686212,)\n",
      "ic| TP_H + FN_H + FP_H + TN_H: 2686212\n",
      "    len(label_mask_current_deforestation_test): 89526059\n",
      "ic| TP_H + FN_H + FP_H + TN_H: 2686212\n",
      "    len(label_mask_current_deforestation_test): 89526059\n"
     ]
    },
    {
     "name": "stdout",
     "output_type": "stream",
     "text": [
      "[0.71318955 0.67142805 0.59327767 0.03000481 0.18902014 0.4357284\n",
      " 0.10971721]\n",
      "0.09023090691090549\n",
      "threshold 0.09023090691090549\n"
     ]
    },
    {
     "name": "stderr",
     "output_type": "stream",
     "text": [
      "ic| label_current_deforestation_test_classified_incorrect.shape: (2685578,)\n",
      "    predicted_test_classified_incorrect.shape: (2685578,)\n",
      "ic| TP_H + FN_H + FP_H + TN_H: 2685578\n",
      "    len(label_mask_current_deforestation_test): 89526059\n",
      "ic| TP_H + FN_H + FP_H + TN_H: 2685578\n",
      "    len(label_mask_current_deforestation_test): 89526059\n"
     ]
    },
    {
     "name": "stdout",
     "output_type": "stream",
     "text": [
      "[0.71316481 0.67142678 0.59329143 0.02999772 0.18900278 0.43569318\n",
      " 0.1097194 ]\n",
      "0.09026424158257945\n",
      "threshold 0.09026424158257945\n"
     ]
    },
    {
     "name": "stderr",
     "output_type": "stream",
     "text": [
      "ic| label_current_deforestation_test_classified_incorrect.shape: (2685081,)\n",
      "    predicted_test_classified_incorrect.shape: (2685081,)\n",
      "ic| TP_H + FN_H + FP_H + TN_H: 2685081\n",
      "    len(label_mask_current_deforestation_test): 89526059\n",
      "ic| TP_H + FN_H + FP_H + TN_H: 2685081\n",
      "    len(label_mask_current_deforestation_test): 89526059\n",
      "ic| self.threshold_optimal: 0.09023090691090549\n"
     ]
    },
    {
     "name": "stdout",
     "output_type": "stream",
     "text": [
      "[0.71313758 0.67142468 0.59329983 0.02999217 0.18900213 0.43567816\n",
      " 0.10971748]\n",
      "threshold:  0.09023090691090549\n",
      "threshold 0.09023090691090549\n"
     ]
    },
    {
     "name": "stderr",
     "output_type": "stream",
     "text": [
      "ic| label_current_deforestation_test_classified_incorrect.shape: (2685578,)\n",
      "    predicted_test_classified_incorrect.shape: (2685578,)\n",
      "ic| TP_H + FN_H + FP_H + TN_H: 2685578\n",
      "    len(label_mask_current_deforestation_test): 89526059\n",
      "ic| TP_H + FN_H + FP_H + TN_H: 2685578\n",
      "    len(label_mask_current_deforestation_test): 89526059\n"
     ]
    },
    {
     "name": "stdout",
     "output_type": "stream",
     "text": [
      "[0.71316481 0.67142678 0.59329143 0.02999772 0.18900278 0.43569318\n",
      " 0.1097194 ]\n",
      "threshold 0.09023090691090549\n",
      "(89526059,) (89526059,)\n"
     ]
    },
    {
     "name": "stderr",
     "output_type": "stream",
     "text": [
      "ic| self.m_optimal: {'AA': array([0.02999772]),\n",
      "                     'UEO': array([0.1097194]),\n",
      "                     'f1': 61.33,\n",
      "                     'f1_H': array([0.26363936]),\n",
      "                     'f1_L': array([0.69166671]),\n",
      "                     'precision_H': array([0.18900278]),\n",
      "                     'precision_L': array([0.71316481]),\n",
      "                     'recall_H': array([0.43569318]),\n",
      "                     'recall_L': array([0.67142678]),\n",
      "                     'recall_Ltotal': array([0.59329143])}\n",
      "ic| self.m_audited_optimal: {'f1': array([0.72850052]),\n",
      "                             'precision': array([0.74836478]),\n",
      "                             'recall': array([0.70966354])}\n"
     ]
    },
    {
     "name": "stdout",
     "output_type": "stream",
     "text": [
      "cm_audited [[87905353   312231]\n",
      " [  379898   928577]]\n",
      "[0.74836478 0.70966354]\n",
      "Result idx 4: {'uncertainty_result': {'metrics': {'precision_L': array([0.71316481]), 'recall_L': array([0.67142678]), 'recall_Ltotal': array([0.59329143]), 'AA': array([0.02999772]), 'precision_H': array([0.18900278]), 'recall_H': array([0.43569318]), 'UEO': array([0.1097194]), 'f1_L': array([0.69166671]), 'f1_H': array([0.26363936]), 'f1': 61.33}, 'metrics_audited': {'precision': array([0.74836478]), 'recall': array([0.70966354]), 'f1': array([0.72850052])}, 'exp': 27}}\n",
      "Grid execution idx: 4\n",
      "Beginning run number 5\n",
      "manager.config {'training': False, 'inferring': True, 'site': 'PI', 'training_date': 'earlier', 'mode': 'single_run', 'training_times': 10, 'uncertainty_method': 'pred_entropy_single', 'loadInference': False, 'removePolygons': True, 'plotLandsat': False, 'plotPOI': False, 'training_experiment_id': 27, 'get_multiple_metrics': False, 'start_repetition_id': 0, 'save_probabilities': False, 'addPastDeforestationInput': True, 'classes_mode': False, 'learning_rate': 0.0001, 'use_cloud_mask': False, 'mask_out_non_biome': True, 'log_filename': 'log.pkl', 'inference_times': 1, 'dropout_training': False}\n",
      "D:/Jorge/datasets/deforestation/PI/deforestation_past_years.tif\n",
      "Loaded deforestation past years\n"
     ]
    },
    {
     "name": "stderr",
     "output_type": "stream",
     "text": [
      "ic| np.unique(deforestation_past_years, return_counts=True): (array([   0, 2002, 2004, 2006, 2008, 2010, 2012, 2013, 2014, 2015, 2016,\n",
      "                                                                    2017, 2018, 2019, 2020, 2021], dtype=uint16),\n",
      "                                                              array([340580606,   4312043,   6953620,   5659916,   7162776,   6261432,\n",
      "                                                                      8191420,   3233962,   3270293,   3044419,   1817289,   2359424,\n",
      "                                                                      2201926,   3050229,   2901307,   2418575], dtype=int64))\n"
     ]
    },
    {
     "name": "stdout",
     "output_type": "stream",
     "text": [
      "Label where deforestation past years is actual date (2020) = 1\n"
     ]
    },
    {
     "name": "stderr",
     "output_type": "stream",
     "text": [
      "ic| np.unique(deforestation_past_years, return_counts=True): (array([   0, 2002, 2004, 2006, 2008, 2010, 2012, 2013, 2014, 2015, 2016,\n",
      "                                                                    2017, 2018, 2019, 2020, 2021], dtype=uint16),\n",
      "                                                              array([340580606,   4312043,   6953620,   5659916,   7162776,   6261432,\n",
      "                                                                      8191420,   3233962,   3270293,   3044419,   1817289,   2359424,\n",
      "                                                                      2201926,   3050229,   2901307,   2418575], dtype=int64))\n"
     ]
    },
    {
     "name": "stdout",
     "output_type": "stream",
     "text": [
      "Past deforestation different from 0 (no deforestation)\n"
     ]
    },
    {
     "name": "stderr",
     "output_type": "stream",
     "text": [
      "ic| np.unique(deforestation_past_years, return_counts=True): (array([   0, 2002, 2004, 2006, 2008, 2010, 2012, 2013, 2014, 2015, 2016,\n",
      "                                                                    2017, 2018, 2019, 2020, 2021], dtype=uint16),\n",
      "                                                              array([340580606,   4312043,   6953620,   5659916,   7162776,   6261432,\n",
      "                                                                      8191420,   3233962,   3270293,   3044419,   1817289,   2359424,\n",
      "                                                                      2201926,   3050229,   2901307,   2418575], dtype=int64))\n"
     ]
    },
    {
     "name": "stdout",
     "output_type": "stream",
     "text": [
      "Past deforestation before 2008 is 2\n",
      "D:/Jorge/datasets/deforestation/PI/deforestation_before_2000_PI.tif\n"
     ]
    },
    {
     "name": "stderr",
     "output_type": "stream",
     "text": [
      "ic| np.unique(label_past_deforestation_before_2008, return_counts=True): (array([  0, 208], dtype=uint8), array([385251297,  18167940], dtype=int64))\n",
      "ic| np.unique(deforestation_past_years, return_counts=True): (array([   0, 2002, 2004, 2006, 2008, 2010, 2012, 2013, 2014, 2015, 2016,\n",
      "                                                                    2017, 2018, 2019, 2020, 2021], dtype=uint16),\n",
      "                                                              array([340580606,   4312043,   6953620,   5659916,   7162776,   6261432,\n",
      "                                                                      8191420,   3233962,   3270293,   3044419,   1817289,   2359424,\n",
      "                                                                      2201926,   3050229,   2901307,   2418575], dtype=int64))\n"
     ]
    },
    {
     "name": "stdout",
     "output_type": "stream",
     "text": [
      "D:/Jorge/datasets/sentinel2/PI/biome_limits.tif\n"
     ]
    },
    {
     "name": "stderr",
     "output_type": "stream",
     "text": [
      "ic| label_per_date.shape: (19357, 20841, 1)\n"
     ]
    },
    {
     "name": "stdout",
     "output_type": "stream",
     "text": [
      "Removing bufer................\n",
      "Mask label shape:  \n",
      " (19357, 20841, 1) \n",
      " Unique values:  \n",
      " [0 1 2]\n",
      "Tiles size:  3871 4168\n",
      "Mask size:  (19355, 20840)\n"
     ]
    },
    {
     "name": "stderr",
     "output_type": "stream",
     "text": [
      "ic| image_stack.shape: (19357, 20841, 9)\n"
     ]
    },
    {
     "name": "stdout",
     "output_type": "stream",
     "text": [
      "Image shape:  (19357, 20841, 9)\n",
      "mask:  (19355, 20840)\n",
      "image stack:  (19355, 20840, 9)\n",
      "ref : (19355, 20840, 1)\n",
      "Training tiles:  [2, 4, 5, 6, 7, 12, 14, 15, 18, 21, 23, 25]\n",
      "Validation tiles:  [9, 11, 24]\n",
      "Test tiles:  [1, 3, 8, 10, 13, 16, 17, 19, 20, 22]\n",
      "-5.0 -24.0\n"
     ]
    },
    {
     "name": "stderr",
     "output_type": "stream",
     "text": [
      "ic| self.path_models+ '/' + self.method +'_'+str(self.repetition_id)+'.h5': 'D:/Jorge/datasets/deforestation/experiments/PI/exp27/models/resunet_5.h5'\n"
     ]
    },
    {
     "name": "stdout",
     "output_type": "stream",
     "text": [
      "Dropout training mode: False\n",
      "time:  0\n",
      "(89644896,)\n",
      "(array([0, 1], dtype=uint8), array([88315686,  1329210], dtype=int64))\n",
      "(19355, 20840)\n",
      "Single entropy\n",
      "(array([0., 1.], dtype=float32), array([394864039,   8494161], dtype=int64))\n"
     ]
    },
    {
     "name": "stderr",
     "output_type": "stream",
     "text": [
      "ic| self.predicted_unpad.shape: (19355, 20840)\n",
      "    self.predicted.shape: (19355, 20840)\n",
      "ic| predicted_test.shape: (161343280,)\n",
      "ic| predicted_test.shape: (89644896,)\n",
      "ic| np.unique(predicted, return_counts=True): (array([0., 1.], dtype=float32), array([396659366,   6698834], dtype=int64))\n",
      "    np.unique(predicted_larger_than_min_area, return_counts=True): (array([0., 1.], dtype=float32), array([397088232,   6269968], dtype=int64))\n",
      "ic| np.unique(ignored_polygons, return_counts=True): (array([0., 1.], dtype=float32), array([402929334,    428866], dtype=int64))\n",
      "ic| self.f1: 58.88, self.precision: 49.91, self.recall: 71.77\n",
      "ic| self.label_mask_val.shape: (48402984,)\n",
      "ic| self.label_mask_val_valid.shape: (36708157,)\n",
      "ic| f1_val: 25.55\n",
      "    precision_val: 15.56\n",
      "    recall_val: 71.41\n",
      "    mAP_val: 21.3\n"
     ]
    },
    {
     "name": "stdout",
     "output_type": "stream",
     "text": [
      "(array([0., 1.], dtype=float32), array([398166774,   5191426], dtype=int64))\n",
      "[0. 1.]\n"
     ]
    },
    {
     "name": "stderr",
     "output_type": "stream",
     "text": [
      "ic| pred_entropy.shape: (19360, 20864)\n",
      "ic| self.label_mask.shape: (19355, 20840)\n",
      "ic| self.mask_amazon_ts.shape: (19355, 20840)\n",
      "ic| self.label_mask_test.shape: (161343280,)\n",
      "ic| self.error_mask_test.shape: (89512904,)\n",
      "ic| bounds: (0.0015, 0.3663794801235199)\n",
      "c:\\Users\\jchamorro\\Anaconda3\\envs\\tf2\\lib\\site-packages\\scipy\\optimize\\_minimize.py:783: RuntimeWarning: Method 'bounded' does not support relative tolerance in x; defaulting to absolute tolerance.\n",
      "  warn(\"Method 'bounded' does not support relative tolerance in x; \"\n"
     ]
    },
    {
     "name": "stdout",
     "output_type": "stream",
     "text": [
      "0.1408715596097929\n",
      "threshold 0.1408715596097929\n"
     ]
    },
    {
     "name": "stderr",
     "output_type": "stream",
     "text": [
      "ic| label_current_deforestation_test_classified_incorrect.shape: (2405897,)\n",
      "    predicted_test_classified_incorrect.shape: (2405897,)\n",
      "ic| TP_H + FN_H + FP_H + TN_H: 2405897\n",
      "    len(label_mask_current_deforestation_test): 89512904\n",
      "ic| TP_H + FN_H + FP_H + TN_H: 2405897\n",
      "    len(label_mask_current_deforestation_test): 89512904\n"
     ]
    },
    {
     "name": "stdout",
     "output_type": "stream",
     "text": [
      "[0.59441485 0.76225863 0.6660901  0.02687766 0.16263581 0.40937771\n",
      " 0.13606626]\n",
      "0.22700792051372695\n",
      "threshold 0.22700792051372695\n"
     ]
    },
    {
     "name": "stderr",
     "output_type": "stream",
     "text": [
      "ic| label_current_deforestation_test_classified_incorrect.shape: (1633295,)\n",
      "    predicted_test_classified_incorrect.shape: (1633295,)\n",
      "ic| TP_H + FN_H + FP_H + TN_H: 1633295\n",
      "    len(label_mask_current_deforestation_test): 89512904\n",
      "ic| TP_H + FN_H + FP_H + TN_H: 1633295\n",
      "    len(label_mask_current_deforestation_test): 89512904\n"
     ]
    },
    {
     "name": "stdout",
     "output_type": "stream",
     "text": [
      "[0.55631866 0.75729633 0.68841346 0.01824648 0.14610813 0.32239596\n",
      " 0.11543361]\n",
      "0.08763636090393405\n",
      "threshold 0.08763636090393405\n"
     ]
    },
    {
     "name": "stderr",
     "output_type": "stream",
     "text": [
      "ic| label_current_deforestation_test_classified_incorrect.shape: (3086773,)\n",
      "    predicted_test_classified_incorrect.shape: (3086773,)\n",
      "ic| TP_H + FN_H + FP_H + TN_H: 3086773\n",
      "    len(label_mask_current_deforestation_test): 89512904\n",
      "ic| TP_H + FN_H + FP_H + TN_H: 3086773\n",
      "    len(label_mask_current_deforestation_test): 89512904\n"
     ]
    },
    {
     "name": "stdout",
     "output_type": "stream",
     "text": [
      "[0.62335064 0.76500952 0.64800995 0.03448411 0.17493683 0.45592316\n",
      " 0.13963853]\n",
      "0.12842570202777284\n",
      "threshold 0.12842570202777284\n"
     ]
    },
    {
     "name": "stderr",
     "output_type": "stream",
     "text": [
      "ic| label_current_deforestation_test_classified_incorrect.shape: (2541679,)\n",
      "    predicted_test_classified_incorrect.shape: (2541679,)\n",
      "ic| TP_H + FN_H + FP_H + TN_H: 2541679\n",
      "    len(label_mask_current_deforestation_test): 89512904\n",
      "ic| TP_H + FN_H + FP_H + TN_H: 2541679\n",
      "    len(label_mask_current_deforestation_test): 89512904\n"
     ]
    },
    {
     "name": "stdout",
     "output_type": "stream",
     "text": [
      "[0.60066133 0.76295721 0.66244333 0.02839455 0.16491476 0.41971977\n",
      " 0.1376346 ]\n",
      "0.11779186812204193\n",
      "threshold 0.11779186812204193\n"
     ]
    },
    {
     "name": "stderr",
     "output_type": "stream",
     "text": [
      "ic| label_current_deforestation_test_classified_incorrect.shape: (2667243,)\n",
      "    predicted_test_classified_incorrect.shape: (2667243,)\n",
      "ic| TP_H + FN_H + FP_H + TN_H: 2667243\n",
      "    len(label_mask_current_deforestation_test): 89512904\n",
      "ic| TP_H + FN_H + FP_H + TN_H: 2667243\n",
      "    len(label_mask_current_deforestation_test): 89512904\n"
     ]
    },
    {
     "name": "stdout",
     "output_type": "stream",
     "text": [
      "[0.60629465 0.76356731 0.6590359  0.0297973  0.16716642 0.42880124\n",
      " 0.13873841]\n",
      "0.1062734893127175\n",
      "threshold 0.1062734893127175\n"
     ]
    },
    {
     "name": "stderr",
     "output_type": "stream",
     "text": [
      "ic| label_current_deforestation_test_classified_incorrect.shape: (2814837,)\n",
      "    predicted_test_classified_incorrect.shape: (2814837,)\n",
      "ic| TP_H + FN_H + FP_H + TN_H: 2814837\n",
      "    len(label_mask_current_deforestation_test): 89512904\n",
      "ic| TP_H + FN_H + FP_H + TN_H: 2814837\n",
      "    len(label_mask_current_deforestation_test): 89512904\n"
     ]
    },
    {
     "name": "stdout",
     "output_type": "stream",
     "text": [
      "[0.61267247 0.76413793 0.65511385 0.03144616 0.16976994 0.43892766\n",
      " 0.13951956]\n",
      "0.11701756530188659\n",
      "threshold 0.11701756530188659\n"
     ]
    },
    {
     "name": "stderr",
     "output_type": "stream",
     "text": [
      "ic| label_current_deforestation_test_classified_incorrect.shape: (2676675,)\n",
      "    predicted_test_classified_incorrect.shape: (2676675,)\n",
      "ic| TP_H + FN_H + FP_H + TN_H: 2676675\n",
      "    len(label_mask_current_deforestation_test): 89512904\n",
      "ic| TP_H + FN_H + FP_H + TN_H: 2676675\n",
      "    len(label_mask_current_deforestation_test): 89512904\n"
     ]
    },
    {
     "name": "stdout",
     "output_type": "stream",
     "text": [
      "[0.60670818 0.76360323 0.65876444 0.02990267 0.16737308 0.42954134\n",
      " 0.13880762]\n",
      "0.1144090882302129\n",
      "threshold 0.1144090882302129\n"
     ]
    },
    {
     "name": "stderr",
     "output_type": "stream",
     "text": [
      "ic| label_current_deforestation_test_classified_incorrect.shape: (2709314,)\n",
      "    predicted_test_classified_incorrect.shape: (2709314,)\n",
      "ic| TP_H + FN_H + FP_H + TN_H: 2709314\n",
      "    len(label_mask_current_deforestation_test): 89512904\n",
      "ic| TP_H + FN_H + FP_H + TN_H: 2709314\n",
      "    len(label_mask_current_deforestation_test): 89512904\n"
     ]
    },
    {
     "name": "stdout",
     "output_type": "stream",
     "text": [
      "[0.60814483 0.76374219 0.657895   0.0302673  0.16793669 0.4318\n",
      " 0.13902239]\n",
      "0.11602121571938204\n",
      "threshold 0.11602121571938204\n"
     ]
    },
    {
     "name": "stderr",
     "output_type": "stream",
     "text": [
      "ic| label_current_deforestation_test_classified_incorrect.shape: (2689013,)\n",
      "    predicted_test_classified_incorrect.shape: (2689013,)\n",
      "ic| TP_H + FN_H + FP_H + TN_H: 2689013\n",
      "    len(label_mask_current_deforestation_test): 89512904\n",
      "ic| TP_H + FN_H + FP_H + TN_H: 2689013\n",
      "    len(label_mask_current_deforestation_test): 89512904\n"
     ]
    },
    {
     "name": "stdout",
     "output_type": "stream",
     "text": [
      "[0.60727003 0.76366007 0.65845551 0.03004051 0.16753033 0.43032227\n",
      " 0.13889845]\n",
      "0.11588072171913429\n",
      "threshold 0.11588072171913429\n"
     ]
    },
    {
     "name": "stderr",
     "output_type": "stream",
     "text": [
      "ic| label_current_deforestation_test_classified_incorrect.shape: (2690752,)\n",
      "    predicted_test_classified_incorrect.shape: (2690752,)\n",
      "ic| TP_H + FN_H + FP_H + TN_H: 2690752\n",
      "    len(label_mask_current_deforestation_test): 89512904\n",
      "ic| TP_H + FN_H + FP_H + TN_H: 2690752\n",
      "    len(label_mask_current_deforestation_test): 89512904\n"
     ]
    },
    {
     "name": "stdout",
     "output_type": "stream",
     "text": [
      "[0.60734722 0.76366849 0.65840963 0.03005993 0.16755896 0.43043789\n",
      " 0.13891074]\n",
      "0.11635341304997991\n",
      "threshold 0.11635341304997991\n"
     ]
    },
    {
     "name": "stderr",
     "output_type": "stream",
     "text": [
      "ic| label_current_deforestation_test_classified_incorrect.shape: (2684920,)\n",
      "    predicted_test_classified_incorrect.shape: (2684920,)\n",
      "ic| TP_H + FN_H + FP_H + TN_H: 2684920\n",
      "    len(label_mask_current_deforestation_test): 89512904\n",
      "ic| TP_H + FN_H + FP_H + TN_H: 2684920\n",
      "    len(label_mask_current_deforestation_test): 89512904\n"
     ]
    },
    {
     "name": "stdout",
     "output_type": "stream",
     "text": [
      "[0.60708201 0.76364559 0.65855339 0.02999478 0.16748899 0.43006296\n",
      " 0.13887124]\n",
      "0.11660709663650348\n",
      "threshold 0.11660709663650348\n"
     ]
    },
    {
     "name": "stderr",
     "output_type": "stream",
     "text": [
      "ic| label_current_deforestation_test_classified_incorrect.shape: (2681759,)\n",
      "    predicted_test_classified_incorrect.shape: (2681759,)\n",
      "ic| TP_H + FN_H + FP_H + TN_H: 2681759\n",
      "    len(label_mask_current_deforestation_test): 89512904\n",
      "ic| TP_H + FN_H + FP_H + TN_H: 2681759\n",
      "    len(label_mask_current_deforestation_test): 89512904\n"
     ]
    },
    {
     "name": "stdout",
     "output_type": "stream",
     "text": [
      "[0.60693609 0.76363098 0.65863598 0.02995947 0.16744333 0.42985217\n",
      " 0.13884508]\n",
      "0.11631410519722342\n",
      "threshold 0.11631410519722342\n"
     ]
    },
    {
     "name": "stderr",
     "output_type": "stream",
     "text": [
      "ic| label_current_deforestation_test_classified_incorrect.shape: (2685393,)\n",
      "    predicted_test_classified_incorrect.shape: (2685393,)\n",
      "ic| TP_H + FN_H + FP_H + TN_H: 2685393\n",
      "    len(label_mask_current_deforestation_test): 89512904\n",
      "ic| TP_H + FN_H + FP_H + TN_H: 2685393\n",
      "    len(label_mask_current_deforestation_test): 89512904\n"
     ]
    },
    {
     "name": "stdout",
     "output_type": "stream",
     "text": [
      "[0.60710227 0.76364655 0.65853963 0.03000007 0.16750003 0.43010323\n",
      " 0.13887394]\n",
      "0.11625286608805548\n",
      "threshold 0.11625286608805548\n"
     ]
    },
    {
     "name": "stderr",
     "output_type": "stream",
     "text": [
      "ic| label_current_deforestation_test_classified_incorrect.shape: (2686136,)\n",
      "    predicted_test_classified_incorrect.shape: (2686136,)\n",
      "ic| TP_H + FN_H + FP_H + TN_H: 2686136\n",
      "    len(label_mask_current_deforestation_test): 89512904\n",
      "ic| TP_H + FN_H + FP_H + TN_H: 2686136\n",
      "    len(label_mask_current_deforestation_test): 89512904\n",
      "ic| self.threshold_optimal: 0.11631410519722342\n"
     ]
    },
    {
     "name": "stdout",
     "output_type": "stream",
     "text": [
      "[0.60713588 0.7636497  0.65851898 0.03000837 0.16751387 0.43015764\n",
      " 0.13887991]\n",
      "threshold:  0.11631410519722342\n",
      "threshold 0.11631410519722342\n"
     ]
    },
    {
     "name": "stderr",
     "output_type": "stream",
     "text": [
      "ic| label_current_deforestation_test_classified_incorrect.shape: (2685393,)\n",
      "    predicted_test_classified_incorrect.shape: (2685393,)\n",
      "ic| TP_H + FN_H + FP_H + TN_H: 2685393\n",
      "    len(label_mask_current_deforestation_test): 89512904\n",
      "ic| TP_H + FN_H + FP_H + TN_H: 2685393\n",
      "    len(label_mask_current_deforestation_test): 89512904\n"
     ]
    },
    {
     "name": "stdout",
     "output_type": "stream",
     "text": [
      "[0.60710227 0.76364655 0.65853963 0.03000007 0.16750003 0.43010323\n",
      " 0.13887394]\n",
      "threshold 0.11631410519722342\n",
      "(89512904,) (89512904,)\n"
     ]
    },
    {
     "name": "stderr",
     "output_type": "stream",
     "text": [
      "ic| self.m_optimal: {'AA': array([0.03000007]),\n",
      "                     'UEO': array([0.13887394]),\n",
      "                     'f1': 58.88,\n",
      "                     'f1_H': array([0.24110412]),\n",
      "                     'f1_L': array([0.67643546]),\n",
      "                     'precision_H': array([0.16750003]),\n",
      "                     'precision_L': array([0.60710227]),\n",
      "                     'recall_H': array([0.43010323]),\n",
      "                     'recall_L': array([0.76364655]),\n",
      "                     'recall_Ltotal': array([0.65853963])}\n",
      "ic| self.m_audited_optimal: {'f1': array([0.71651425]),\n",
      "                             'precision': array([0.65134255]),\n",
      "                             'recall': array([0.79617781])}\n"
     ]
    },
    {
     "name": "stdout",
     "output_type": "stream",
     "text": [
      "cm_audited [[87647833   557338]\n",
      " [  266545  1041188]]\n",
      "[0.65134255 0.79617781]\n",
      "Result idx 5: {'uncertainty_result': {'metrics': {'precision_L': array([0.60710227]), 'recall_L': array([0.76364655]), 'recall_Ltotal': array([0.65853963]), 'AA': array([0.03000007]), 'precision_H': array([0.16750003]), 'recall_H': array([0.43010323]), 'UEO': array([0.13887394]), 'f1_L': array([0.67643546]), 'f1_H': array([0.24110412]), 'f1': 58.88}, 'metrics_audited': {'precision': array([0.65134255]), 'recall': array([0.79617781]), 'f1': array([0.71651425])}, 'exp': 27}}\n",
      "Grid execution idx: 5\n",
      "Beginning run number 6\n",
      "manager.config {'training': False, 'inferring': True, 'site': 'PI', 'training_date': 'earlier', 'mode': 'single_run', 'training_times': 10, 'uncertainty_method': 'pred_entropy_single', 'loadInference': False, 'removePolygons': True, 'plotLandsat': False, 'plotPOI': False, 'training_experiment_id': 27, 'get_multiple_metrics': False, 'start_repetition_id': 0, 'save_probabilities': False, 'addPastDeforestationInput': True, 'classes_mode': False, 'learning_rate': 0.0001, 'use_cloud_mask': False, 'mask_out_non_biome': True, 'log_filename': 'log.pkl', 'inference_times': 1, 'dropout_training': False}\n",
      "D:/Jorge/datasets/deforestation/PI/deforestation_past_years.tif\n",
      "Loaded deforestation past years\n"
     ]
    },
    {
     "name": "stderr",
     "output_type": "stream",
     "text": [
      "ic| np.unique(deforestation_past_years, return_counts=True): (array([   0, 2002, 2004, 2006, 2008, 2010, 2012, 2013, 2014, 2015, 2016,\n",
      "                                                                    2017, 2018, 2019, 2020, 2021], dtype=uint16),\n",
      "                                                              array([340580606,   4312043,   6953620,   5659916,   7162776,   6261432,\n",
      "                                                                      8191420,   3233962,   3270293,   3044419,   1817289,   2359424,\n",
      "                                                                      2201926,   3050229,   2901307,   2418575], dtype=int64))\n"
     ]
    },
    {
     "name": "stdout",
     "output_type": "stream",
     "text": [
      "Label where deforestation past years is actual date (2020) = 1\n"
     ]
    },
    {
     "name": "stderr",
     "output_type": "stream",
     "text": [
      "ic| np.unique(deforestation_past_years, return_counts=True): (array([   0, 2002, 2004, 2006, 2008, 2010, 2012, 2013, 2014, 2015, 2016,\n",
      "                                                                    2017, 2018, 2019, 2020, 2021], dtype=uint16),\n",
      "                                                              array([340580606,   4312043,   6953620,   5659916,   7162776,   6261432,\n",
      "                                                                      8191420,   3233962,   3270293,   3044419,   1817289,   2359424,\n",
      "                                                                      2201926,   3050229,   2901307,   2418575], dtype=int64))\n"
     ]
    },
    {
     "name": "stdout",
     "output_type": "stream",
     "text": [
      "Past deforestation different from 0 (no deforestation)\n"
     ]
    },
    {
     "name": "stderr",
     "output_type": "stream",
     "text": [
      "ic| np.unique(deforestation_past_years, return_counts=True): (array([   0, 2002, 2004, 2006, 2008, 2010, 2012, 2013, 2014, 2015, 2016,\n",
      "                                                                    2017, 2018, 2019, 2020, 2021], dtype=uint16),\n",
      "                                                              array([340580606,   4312043,   6953620,   5659916,   7162776,   6261432,\n",
      "                                                                      8191420,   3233962,   3270293,   3044419,   1817289,   2359424,\n",
      "                                                                      2201926,   3050229,   2901307,   2418575], dtype=int64))\n"
     ]
    },
    {
     "name": "stdout",
     "output_type": "stream",
     "text": [
      "Past deforestation before 2008 is 2\n",
      "D:/Jorge/datasets/deforestation/PI/deforestation_before_2000_PI.tif\n"
     ]
    },
    {
     "name": "stderr",
     "output_type": "stream",
     "text": [
      "ic| np.unique(label_past_deforestation_before_2008, return_counts=True): (array([  0, 208], dtype=uint8), array([385251297,  18167940], dtype=int64))\n",
      "ic| np.unique(deforestation_past_years, return_counts=True): (array([   0, 2002, 2004, 2006, 2008, 2010, 2012, 2013, 2014, 2015, 2016,\n",
      "                                                                    2017, 2018, 2019, 2020, 2021], dtype=uint16),\n",
      "                                                              array([340580606,   4312043,   6953620,   5659916,   7162776,   6261432,\n",
      "                                                                      8191420,   3233962,   3270293,   3044419,   1817289,   2359424,\n",
      "                                                                      2201926,   3050229,   2901307,   2418575], dtype=int64))\n"
     ]
    },
    {
     "name": "stdout",
     "output_type": "stream",
     "text": [
      "D:/Jorge/datasets/sentinel2/PI/biome_limits.tif\n"
     ]
    },
    {
     "name": "stderr",
     "output_type": "stream",
     "text": [
      "ic| label_per_date.shape: (19357, 20841, 1)\n"
     ]
    },
    {
     "name": "stdout",
     "output_type": "stream",
     "text": [
      "Removing bufer................\n",
      "Mask label shape:  \n",
      " (19357, 20841, 1) \n",
      " Unique values:  \n",
      " [0 1 2]\n",
      "Tiles size:  3871 4168\n",
      "Mask size:  (19355, 20840)\n"
     ]
    },
    {
     "name": "stderr",
     "output_type": "stream",
     "text": [
      "ic| image_stack.shape: (19357, 20841, 9)\n"
     ]
    },
    {
     "name": "stdout",
     "output_type": "stream",
     "text": [
      "Image shape:  (19357, 20841, 9)\n",
      "mask:  (19355, 20840)\n",
      "image stack:  (19355, 20840, 9)\n",
      "ref : (19355, 20840, 1)\n",
      "Training tiles:  [2, 4, 5, 6, 7, 12, 14, 15, 18, 21, 23, 25]\n",
      "Validation tiles:  [9, 11, 24]\n",
      "Test tiles:  [1, 3, 8, 10, 13, 16, 17, 19, 20, 22]\n",
      "-5.0 -24.0\n"
     ]
    },
    {
     "name": "stderr",
     "output_type": "stream",
     "text": [
      "ic| self.path_models+ '/' + self.method +'_'+str(self.repetition_id)+'.h5': 'D:/Jorge/datasets/deforestation/experiments/PI/exp27/models/resunet_6.h5'\n"
     ]
    },
    {
     "name": "stdout",
     "output_type": "stream",
     "text": [
      "Dropout training mode: False\n",
      "time:  0\n",
      "(89644896,)\n",
      "(array([0, 1], dtype=uint8), array([88315686,  1329210], dtype=int64))\n",
      "(19355, 20840)\n",
      "Single entropy\n",
      "(array([0., 1.], dtype=float32), array([397512961,   5845239], dtype=int64))\n"
     ]
    },
    {
     "name": "stderr",
     "output_type": "stream",
     "text": [
      "ic| self.predicted_unpad.shape: (19355, 20840)\n",
      "    self.predicted.shape: (19355, 20840)\n",
      "ic| predicted_test.shape: (161343280,)\n",
      "ic| predicted_test.shape: (89644896,)\n",
      "ic| np.unique(predicted, return_counts=True): (array([0., 1.], dtype=float32), array([399048166,   4310034], dtype=int64))\n",
      "    np.unique(predicted_larger_than_min_area, return_counts=True): (array([0., 1.], dtype=float32), array([399416209,   3941991], dtype=int64))\n",
      "ic| np.unique(ignored_polygons, return_counts=True): (array([0., 1.], dtype=float32), array([402990157,    368043], dtype=int64))\n",
      "ic| self.f1: 62.62, self.precision: 61.31, self.recall: 63.99\n",
      "ic| self.label_mask_val.shape: (48402984,)\n",
      "ic| self.label_mask_val_valid.shape: (36716865,)\n",
      "ic| f1_val: 34.53\n",
      "    precision_val: 24.08\n",
      "    recall_val: 60.98\n",
      "    mAP_val: 35.27\n"
     ]
    },
    {
     "name": "stdout",
     "output_type": "stream",
     "text": [
      "(array([0., 1.], dtype=float32), array([400257667,   3100533], dtype=int64))\n",
      "[0. 1.]\n"
     ]
    },
    {
     "name": "stderr",
     "output_type": "stream",
     "text": [
      "ic| pred_entropy.shape: (19360, 20864)\n",
      "ic| self.label_mask.shape: (19355, 20840)\n",
      "ic| self.mask_amazon_ts.shape: (19355, 20840)\n",
      "ic| self.label_mask_test.shape: (161343280,)\n",
      "ic| self.error_mask_test.shape: (89528717,)\n",
      "ic| bounds: (0.0015, 0.3663794801235199)\n",
      "c:\\Users\\jchamorro\\Anaconda3\\envs\\tf2\\lib\\site-packages\\scipy\\optimize\\_minimize.py:783: RuntimeWarning: Method 'bounded' does not support relative tolerance in x; defaulting to absolute tolerance.\n",
      "  warn(\"Method 'bounded' does not support relative tolerance in x; \"\n"
     ]
    },
    {
     "name": "stdout",
     "output_type": "stream",
     "text": [
      "0.1408715596097929\n",
      "threshold 0.1408715596097929\n"
     ]
    },
    {
     "name": "stderr",
     "output_type": "stream",
     "text": [
      "ic| label_current_deforestation_test_classified_incorrect.shape: (1561813,)\n",
      "    predicted_test_classified_incorrect.shape: (1561813,)\n",
      "ic| TP_H + FN_H + FP_H + TN_H: 1561813\n",
      "    len(label_mask_current_deforestation_test): 89528717\n",
      "ic| TP_H + FN_H + FP_H + TN_H: 1561813\n",
      "    len(label_mask_current_deforestation_test): 89528717\n"
     ]
    },
    {
     "name": "stdout",
     "output_type": "stream",
     "text": [
      "[0.6924747  0.66608545 0.60554329 0.01744483 0.20313015 0.3784886\n",
      " 0.10839667]\n",
      "0.22700792051372695\n",
      "threshold 0.22700792051372695\n"
     ]
    },
    {
     "name": "stderr",
     "output_type": "stream",
     "text": [
      "ic| label_current_deforestation_test_classified_incorrect.shape: (1025996,)\n",
      "    predicted_test_classified_incorrect.shape: (1025996,)\n",
      "ic| TP_H + FN_H + FP_H + TN_H: 1025996\n",
      "    len(label_mask_current_deforestation_test): 89528717\n",
      "ic| TP_H + FN_H + FP_H + TN_H: 1025996\n",
      "    len(label_mask_current_deforestation_test): 89528717\n"
     ]
    },
    {
     "name": "stdout",
     "output_type": "stream",
     "text": [
      "[0.65977546 0.66387739 0.6200122  0.01145997 0.19149858 0.30167378\n",
      " 0.09190113]\n",
      "0.08763636090393405\n",
      "threshold 0.08763636090393405\n"
     ]
    },
    {
     "name": "stderr",
     "output_type": "stream",
     "text": [
      "ic| label_current_deforestation_test_classified_incorrect.shape: (2076999,)\n",
      "    predicted_test_classified_incorrect.shape: (2076999,)\n",
      "ic| TP_H + FN_H + FP_H + TN_H: 2076999\n",
      "    len(label_mask_current_deforestation_test): 89528717\n",
      "ic| TP_H + FN_H + FP_H + TN_H: 2076999\n",
      "    len(label_mask_current_deforestation_test): 89528717\n"
     ]
    },
    {
     "name": "stdout",
     "output_type": "stream",
     "text": [
      "[0.71935367 0.66659097 0.5922537  0.02319925 0.2162802  0.42765403\n",
      " 0.11190221]\n",
      "0.05473519870585886\n",
      "threshold 0.05473519870585886\n"
     ]
    },
    {
     "name": "stderr",
     "output_type": "stream",
     "text": [
      "ic| label_current_deforestation_test_classified_incorrect.shape: (2612137,)\n",
      "    predicted_test_classified_incorrect.shape: (2612137,)\n",
      "ic| TP_H + FN_H + FP_H + TN_H: 2612137\n",
      "    len(label_mask_current_deforestation_test): 89528717\n",
      "ic| TP_H + FN_H + FP_H + TN_H: 2612137\n",
      "    len(label_mask_current_deforestation_test): 89528717\n"
     ]
    },
    {
     "name": "stdout",
     "output_type": "stream",
     "text": [
      "[0.74234854 0.66627462 0.57974292 0.02917653 0.22902468 0.46354295\n",
      " 0.10945646]\n",
      "0.034401162198075194\n",
      "threshold 0.034401162198075194\n"
     ]
    },
    {
     "name": "stderr",
     "output_type": "stream",
     "text": [
      "ic| label_current_deforestation_test_classified_incorrect.shape: (3183376,)\n",
      "    predicted_test_classified_incorrect.shape: (3183376,)\n",
      "ic| TP_H + FN_H + FP_H + TN_H: 3183376\n",
      "    len(label_mask_current_deforestation_test): 89528717\n",
      "ic| TP_H + FN_H + FP_H + TN_H: 3183376\n",
      "    len(label_mask_current_deforestation_test): 89528717\n"
     ]
    },
    {
     "name": "stdout",
     "output_type": "stream",
     "text": [
      "[0.76397084 0.66554611 0.56849553 0.03555704 0.23841269 0.48998118\n",
      " 0.10455156]\n",
      "0.05951837432266041\n",
      "threshold 0.05951837432266041\n"
     ]
    },
    {
     "name": "stderr",
     "output_type": "stream",
     "text": [
      "ic| label_current_deforestation_test_classified_incorrect.shape: (2513986,)\n",
      "    predicted_test_classified_incorrect.shape: (2513986,)\n",
      "ic| TP_H + FN_H + FP_H + TN_H: 2513986\n",
      "    len(label_mask_current_deforestation_test): 89528717\n",
      "ic| TP_H + FN_H + FP_H + TN_H: 2513986\n",
      "    len(label_mask_current_deforestation_test): 89528717\n"
     ]
    },
    {
     "name": "stdout",
     "output_type": "stream",
     "text": [
      "[0.73839516 0.66636354 0.58189212 0.02808022 0.22697214 0.45795801\n",
      " 0.11014366]\n",
      "0.05089627085491354\n",
      "threshold 0.05089627085491354\n"
     ]
    },
    {
     "name": "stderr",
     "output_type": "stream",
     "text": [
      "ic| label_current_deforestation_test_classified_incorrect.shape: (2697554,)\n",
      "    predicted_test_classified_incorrect.shape: (2697554,)\n",
      "ic| TP_H + FN_H + FP_H + TN_H: 2697554\n",
      "    len(label_mask_current_deforestation_test): 89528717\n",
      "ic| TP_H + FN_H + FP_H + TN_H: 2697554\n",
      "    len(label_mask_current_deforestation_test): 89528717\n"
     ]
    },
    {
     "name": "stdout",
     "output_type": "stream",
     "text": [
      "[0.74577124 0.66618511 0.57800873 0.0301306  0.23044134 0.4679378\n",
      " 0.10879762]\n",
      "0.04459569999612392\n",
      "threshold 0.04459569999612392\n"
     ]
    },
    {
     "name": "stderr",
     "output_type": "stream",
     "text": [
      "ic| label_current_deforestation_test_classified_incorrect.shape: (2857269,)\n",
      "    predicted_test_classified_incorrect.shape: (2857269,)\n",
      "ic| TP_H + FN_H + FP_H + TN_H: 2857269\n",
      "    len(label_mask_current_deforestation_test): 89528717\n",
      "ic| TP_H + FN_H + FP_H + TN_H: 2857269\n",
      "    len(label_mask_current_deforestation_test): 89528717\n"
     ]
    },
    {
     "name": "stdout",
     "output_type": "stream",
     "text": [
      "[0.75192878 0.66600519 0.57483766 0.03191455 0.23307851 0.47562841\n",
      " 0.10745258]\n",
      "0.05084212663779997\n",
      "threshold 0.05084212663779997\n"
     ]
    },
    {
     "name": "stderr",
     "output_type": "stream",
     "text": [
      "ic| label_current_deforestation_test_classified_incorrect.shape: (2698870,)\n",
      "    predicted_test_classified_incorrect.shape: (2698870,)\n",
      "ic| TP_H + FN_H + FP_H + TN_H: 2698870\n",
      "    len(label_mask_current_deforestation_test): 89528717\n",
      "ic| TP_H + FN_H + FP_H + TN_H: 2698870\n",
      "    len(label_mask_current_deforestation_test): 89528717\n"
     ]
    },
    {
     "name": "stdout",
     "output_type": "stream",
     "text": [
      "[0.74582182 0.66618744 0.5779858  0.0301453  0.23045521 0.46797862\n",
      " 0.10878727]\n",
      "0.052038417916119815\n",
      "threshold 0.052038417916119815\n"
     ]
    },
    {
     "name": "stderr",
     "output_type": "stream",
     "text": [
      "ic| label_current_deforestation_test_classified_incorrect.shape: (2671472,)\n",
      "    predicted_test_classified_incorrect.shape: (2671472,)\n",
      "ic| TP_H + FN_H + FP_H + TN_H: 2671472\n",
      "    len(label_mask_current_deforestation_test): 89528717\n",
      "ic| TP_H + FN_H + FP_H + TN_H: 2671472\n",
      "    len(label_mask_current_deforestation_test): 89528717\n"
     ]
    },
    {
     "name": "stdout",
     "output_type": "stream",
     "text": [
      "[0.74469925 0.66622455 0.57853992 0.02983927 0.23003032 0.46655401\n",
      " 0.10899198]\n",
      "0.05133253221214353\n",
      "threshold 0.05133253221214353\n"
     ]
    },
    {
     "name": "stderr",
     "output_type": "stream",
     "text": [
      "ic| label_current_deforestation_test_classified_incorrect.shape: (2687448,)\n",
      "    predicted_test_classified_incorrect.shape: (2687448,)\n",
      "ic| TP_H + FN_H + FP_H + TN_H: 2687448\n",
      "    len(label_mask_current_deforestation_test): 89528717\n",
      "ic| TP_H + FN_H + FP_H + TN_H: 2687448\n",
      "    len(label_mask_current_deforestation_test): 89528717\n"
     ]
    },
    {
     "name": "stdout",
     "output_type": "stream",
     "text": [
      "[0.74535128 0.66620142 0.57822044 0.03001772 0.23027113 0.46738545\n",
      " 0.10886919]\n",
      "0.051602156558889826\n",
      "threshold 0.051602156558889826\n"
     ]
    },
    {
     "name": "stderr",
     "output_type": "stream",
     "text": [
      "ic| label_current_deforestation_test_classified_incorrect.shape: (2681278,)\n",
      "    predicted_test_classified_incorrect.shape: (2681278,)\n",
      "ic| TP_H + FN_H + FP_H + TN_H: 2681278\n",
      "    len(label_mask_current_deforestation_test): 89528717\n",
      "ic| TP_H + FN_H + FP_H + TN_H: 2681278\n",
      "    len(label_mask_current_deforestation_test): 89528717\n"
     ]
    },
    {
     "name": "stdout",
     "output_type": "stream",
     "text": [
      "[0.7451042  0.66620915 0.57834426 0.0299488  0.23017281 0.46706962\n",
      " 0.10891789]\n",
      "0.05136586630686136\n",
      "threshold 0.05136586630686136\n"
     ]
    },
    {
     "name": "stderr",
     "output_type": "stream",
     "text": [
      "ic| label_current_deforestation_test_classified_incorrect.shape: (2686690,)\n",
      "    predicted_test_classified_incorrect.shape: (2686690,)\n",
      "ic| TP_H + FN_H + FP_H + TN_H: 2686690\n",
      "    len(label_mask_current_deforestation_test): 89528717\n",
      "ic| TP_H + FN_H + FP_H + TN_H: 2686690\n",
      "    len(label_mask_current_deforestation_test): 89528717\n"
     ]
    },
    {
     "name": "stdout",
     "output_type": "stream",
     "text": [
      "[0.74531784 0.66620319 0.57823267 0.03000925 0.2302695  0.46734966\n",
      " 0.10887534]\n",
      "0.051428554073511164\n",
      "threshold 0.051428554073511164\n"
     ]
    },
    {
     "name": "stderr",
     "output_type": "stream",
     "text": [
      "ic| label_current_deforestation_test_classified_incorrect.shape: (2685246,)\n",
      "    predicted_test_classified_incorrect.shape: (2685246,)\n",
      "ic| TP_H + FN_H + FP_H + TN_H: 2685246\n",
      "    len(label_mask_current_deforestation_test): 89528717\n",
      "ic| TP_H + FN_H + FP_H + TN_H: 2685246\n",
      "    len(label_mask_current_deforestation_test): 89528717\n"
     ]
    },
    {
     "name": "stdout",
     "output_type": "stream",
     "text": [
      "[0.74526519 0.66620057 0.57825789 0.02999312 0.23025156 0.46730471\n",
      " 0.10888795]\n",
      "0.051494864322394356\n",
      "threshold 0.051494864322394356\n"
     ]
    },
    {
     "name": "stderr",
     "output_type": "stream",
     "text": [
      "ic| label_current_deforestation_test_classified_incorrect.shape: (2683703,)\n",
      "    predicted_test_classified_incorrect.shape: (2683703,)\n",
      "ic| TP_H + FN_H + FP_H + TN_H: 2683703\n",
      "    len(label_mask_current_deforestation_test): 89528717\n",
      "ic| TP_H + FN_H + FP_H + TN_H: 2683703\n",
      "    len(label_mask_current_deforestation_test): 89528717\n",
      "ic| self.threshold_optimal: 0.051428554073511164\n"
     ]
    },
    {
     "name": "stdout",
     "output_type": "stream",
     "text": [
      "[0.74520012 0.66620236 0.57828999 0.02997589 0.23022698 0.46722384\n",
      " 0.10889813]\n",
      "threshold:  0.051428554073511164\n",
      "threshold 0.051428554073511164\n"
     ]
    },
    {
     "name": "stderr",
     "output_type": "stream",
     "text": [
      "ic| label_current_deforestation_test_classified_incorrect.shape: (2685246,)\n",
      "    predicted_test_classified_incorrect.shape: (2685246,)\n",
      "ic| TP_H + FN_H + FP_H + TN_H: 2685246\n",
      "    len(label_mask_current_deforestation_test): 89528717\n",
      "ic| TP_H + FN_H + FP_H + TN_H: 2685246\n",
      "    len(label_mask_current_deforestation_test): 89528717\n"
     ]
    },
    {
     "name": "stdout",
     "output_type": "stream",
     "text": [
      "[0.74526519 0.66620057 0.57825789 0.02999312 0.23025156 0.46730471\n",
      " 0.10888795]\n",
      "threshold 0.051428554073511164\n",
      "(89528717,) (89528717,)\n"
     ]
    },
    {
     "name": "stderr",
     "output_type": "stream",
     "text": [
      "ic| self.m_optimal: {'AA': array([0.02999312]),\n",
      "                     'UEO': array([0.10888795]),\n",
      "                     'f1': 62.62,\n",
      "                     'f1_H': array([0.30849881]),\n",
      "                     'f1_L': array([0.70351844]),\n",
      "                     'precision_H': array([0.23025156]),\n",
      "                     'precision_L': array([0.74526519]),\n",
      "                     'recall_H': array([0.46730471]),\n",
      "                     'recall_L': array([0.66620057]),\n",
      "                     'recall_Ltotal': array([0.57825789])}\n",
      "ic| self.m_audited_optimal: {'f1': array([0.74454483]),\n",
      "                             'precision': array([0.78230235]),\n",
      "                             'recall': array([0.7102642])}\n"
     ]
    },
    {
     "name": "stdout",
     "output_type": "stream",
     "text": [
      "cm_audited [[87961720   258605]\n",
      " [  379088   929304]]\n",
      "[0.78230235 0.7102642 ]\n",
      "Result idx 6: {'uncertainty_result': {'metrics': {'precision_L': array([0.74526519]), 'recall_L': array([0.66620057]), 'recall_Ltotal': array([0.57825789]), 'AA': array([0.02999312]), 'precision_H': array([0.23025156]), 'recall_H': array([0.46730471]), 'UEO': array([0.10888795]), 'f1_L': array([0.70351844]), 'f1_H': array([0.30849881]), 'f1': 62.62}, 'metrics_audited': {'precision': array([0.78230235]), 'recall': array([0.7102642]), 'f1': array([0.74454483])}, 'exp': 27}}\n",
      "Grid execution idx: 6\n",
      "Beginning run number 7\n",
      "manager.config {'training': False, 'inferring': True, 'site': 'PI', 'training_date': 'earlier', 'mode': 'single_run', 'training_times': 10, 'uncertainty_method': 'pred_entropy_single', 'loadInference': False, 'removePolygons': True, 'plotLandsat': False, 'plotPOI': False, 'training_experiment_id': 27, 'get_multiple_metrics': False, 'start_repetition_id': 0, 'save_probabilities': False, 'addPastDeforestationInput': True, 'classes_mode': False, 'learning_rate': 0.0001, 'use_cloud_mask': False, 'mask_out_non_biome': True, 'log_filename': 'log.pkl', 'inference_times': 1, 'dropout_training': False}\n",
      "D:/Jorge/datasets/deforestation/PI/deforestation_past_years.tif\n",
      "Loaded deforestation past years\n"
     ]
    },
    {
     "name": "stderr",
     "output_type": "stream",
     "text": [
      "ic| np.unique(deforestation_past_years, return_counts=True): (array([   0, 2002, 2004, 2006, 2008, 2010, 2012, 2013, 2014, 2015, 2016,\n",
      "                                                                    2017, 2018, 2019, 2020, 2021], dtype=uint16),\n",
      "                                                              array([340580606,   4312043,   6953620,   5659916,   7162776,   6261432,\n",
      "                                                                      8191420,   3233962,   3270293,   3044419,   1817289,   2359424,\n",
      "                                                                      2201926,   3050229,   2901307,   2418575], dtype=int64))\n"
     ]
    },
    {
     "name": "stdout",
     "output_type": "stream",
     "text": [
      "Label where deforestation past years is actual date (2020) = 1\n"
     ]
    },
    {
     "name": "stderr",
     "output_type": "stream",
     "text": [
      "ic| np.unique(deforestation_past_years, return_counts=True): (array([   0, 2002, 2004, 2006, 2008, 2010, 2012, 2013, 2014, 2015, 2016,\n",
      "                                                                    2017, 2018, 2019, 2020, 2021], dtype=uint16),\n",
      "                                                              array([340580606,   4312043,   6953620,   5659916,   7162776,   6261432,\n",
      "                                                                      8191420,   3233962,   3270293,   3044419,   1817289,   2359424,\n",
      "                                                                      2201926,   3050229,   2901307,   2418575], dtype=int64))\n"
     ]
    },
    {
     "name": "stdout",
     "output_type": "stream",
     "text": [
      "Past deforestation different from 0 (no deforestation)\n"
     ]
    },
    {
     "name": "stderr",
     "output_type": "stream",
     "text": [
      "ic| np.unique(deforestation_past_years, return_counts=True): (array([   0, 2002, 2004, 2006, 2008, 2010, 2012, 2013, 2014, 2015, 2016,\n",
      "                                                                    2017, 2018, 2019, 2020, 2021], dtype=uint16),\n",
      "                                                              array([340580606,   4312043,   6953620,   5659916,   7162776,   6261432,\n",
      "                                                                      8191420,   3233962,   3270293,   3044419,   1817289,   2359424,\n",
      "                                                                      2201926,   3050229,   2901307,   2418575], dtype=int64))\n"
     ]
    },
    {
     "name": "stdout",
     "output_type": "stream",
     "text": [
      "Past deforestation before 2008 is 2\n",
      "D:/Jorge/datasets/deforestation/PI/deforestation_before_2000_PI.tif\n"
     ]
    },
    {
     "name": "stderr",
     "output_type": "stream",
     "text": [
      "ic| np.unique(label_past_deforestation_before_2008, return_counts=True): (array([  0, 208], dtype=uint8), array([385251297,  18167940], dtype=int64))\n",
      "ic| np.unique(deforestation_past_years, return_counts=True): (array([   0, 2002, 2004, 2006, 2008, 2010, 2012, 2013, 2014, 2015, 2016,\n",
      "                                                                    2017, 2018, 2019, 2020, 2021], dtype=uint16),\n",
      "                                                              array([340580606,   4312043,   6953620,   5659916,   7162776,   6261432,\n",
      "                                                                      8191420,   3233962,   3270293,   3044419,   1817289,   2359424,\n",
      "                                                                      2201926,   3050229,   2901307,   2418575], dtype=int64))\n"
     ]
    },
    {
     "name": "stdout",
     "output_type": "stream",
     "text": [
      "D:/Jorge/datasets/sentinel2/PI/biome_limits.tif\n"
     ]
    },
    {
     "name": "stderr",
     "output_type": "stream",
     "text": [
      "ic| label_per_date.shape: (19357, 20841, 1)\n"
     ]
    },
    {
     "name": "stdout",
     "output_type": "stream",
     "text": [
      "Removing bufer................\n",
      "Mask label shape:  \n",
      " (19357, 20841, 1) \n",
      " Unique values:  \n",
      " [0 1 2]\n",
      "Tiles size:  3871 4168\n",
      "Mask size:  (19355, 20840)\n"
     ]
    },
    {
     "name": "stderr",
     "output_type": "stream",
     "text": [
      "ic| image_stack.shape: (19357, 20841, 9)\n"
     ]
    },
    {
     "name": "stdout",
     "output_type": "stream",
     "text": [
      "Image shape:  (19357, 20841, 9)\n",
      "mask:  (19355, 20840)\n",
      "image stack:  (19355, 20840, 9)\n",
      "ref : (19355, 20840, 1)\n",
      "Training tiles:  [2, 4, 5, 6, 7, 12, 14, 15, 18, 21, 23, 25]\n",
      "Validation tiles:  [9, 11, 24]\n",
      "Test tiles:  [1, 3, 8, 10, 13, 16, 17, 19, 20, 22]\n",
      "-5.0 -24.0\n"
     ]
    },
    {
     "name": "stderr",
     "output_type": "stream",
     "text": [
      "ic| self.path_models+ '/' + self.method +'_'+str(self.repetition_id)+'.h5': 'D:/Jorge/datasets/deforestation/experiments/PI/exp27/models/resunet_7.h5'\n"
     ]
    },
    {
     "name": "stdout",
     "output_type": "stream",
     "text": [
      "Dropout training mode: False\n",
      "time:  0\n",
      "(89644896,)\n",
      "(array([0, 1], dtype=uint8), array([88315686,  1329210], dtype=int64))\n",
      "(19355, 20840)\n",
      "Single entropy\n",
      "(array([0., 1.], dtype=float32), array([396560574,   6797626], dtype=int64))\n"
     ]
    },
    {
     "name": "stderr",
     "output_type": "stream",
     "text": [
      "ic| self.predicted_unpad.shape: (19355, 20840)\n",
      "    self.predicted.shape: (19355, 20840)\n",
      "ic| predicted_test.shape: (161343280,)\n",
      "ic| predicted_test.shape: (89644896,)\n",
      "ic| np.unique(predicted, return_counts=True): (array([0., 1.], dtype=float32), array([398157825,   5200375], dtype=int64))\n",
      "    np.unique(predicted_larger_than_min_area, return_counts=True): (array([0., 1.], dtype=float32), array([398507625,   4850575], dtype=int64))\n",
      "ic| np.unique(ignored_polygons, return_counts=True): (array([0., 1.], dtype=float32), array([403008400,    349800], dtype=int64))\n",
      "ic| self.f1: 59.05, self.precision: 50.88, self.recall: 70.34\n",
      "ic| self.label_mask_val.shape: (48402984,)\n",
      "ic| self.label_mask_val_valid.shape: (36718525,)\n",
      "ic| f1_val: 30.08\n",
      "    precision_val: 19.96\n",
      "    recall_val: 60.97\n",
      "    mAP_val: 36.48\n"
     ]
    },
    {
     "name": "stdout",
     "output_type": "stream",
     "text": [
      "(array([0., 1.], dtype=float32), array([399474637,   3883563], dtype=int64))\n",
      "[0. 1.]\n"
     ]
    },
    {
     "name": "stderr",
     "output_type": "stream",
     "text": [
      "ic| pred_entropy.shape: (19360, 20864)\n",
      "ic| self.label_mask.shape: (19355, 20840)\n",
      "ic| self.mask_amazon_ts.shape: (19355, 20840)\n",
      "ic| self.label_mask_test.shape: (161343280,)\n",
      "ic| self.error_mask_test.shape: (89540185,)\n",
      "ic| bounds: (0.0015, 0.3663794801235199)\n",
      "c:\\Users\\jchamorro\\Anaconda3\\envs\\tf2\\lib\\site-packages\\scipy\\optimize\\_minimize.py:783: RuntimeWarning: Method 'bounded' does not support relative tolerance in x; defaulting to absolute tolerance.\n",
      "  warn(\"Method 'bounded' does not support relative tolerance in x; \"\n"
     ]
    },
    {
     "name": "stdout",
     "output_type": "stream",
     "text": [
      "0.1408715596097929\n",
      "threshold 0.1408715596097929\n"
     ]
    },
    {
     "name": "stderr",
     "output_type": "stream",
     "text": [
      "ic| label_current_deforestation_test_classified_incorrect.shape: (1993244,)\n",
      "    predicted_test_classified_incorrect.shape: (1993244,)\n",
      "ic| TP_H + FN_H + FP_H + TN_H: 1993244\n",
      "    len(label_mask_current_deforestation_test): 89540185\n",
      "ic| TP_H + FN_H + FP_H + TN_H: 1993244\n",
      "    len(label_mask_current_deforestation_test): 89540185\n"
     ]
    },
    {
     "name": "stdout",
     "output_type": "stream",
     "text": [
      "[0.58840581 0.73346776 0.66690908 0.02226089 0.14645672 0.40200608\n",
      " 0.11976131]\n",
      "0.22700792051372695\n",
      "threshold 0.22700792051372695\n"
     ]
    },
    {
     "name": "stderr",
     "output_type": "stream",
     "text": [
      "ic| label_current_deforestation_test_classified_incorrect.shape: (1302667,)\n",
      "    predicted_test_classified_incorrect.shape: (1302667,)\n",
      "ic| TP_H + FN_H + FP_H + TN_H: 1302667\n",
      "    len(label_mask_current_deforestation_test): 89540185\n",
      "ic| TP_H + FN_H + FP_H + TN_H: 1302667\n",
      "    len(label_mask_current_deforestation_test): 89540185\n"
     ]
    },
    {
     "name": "stdout",
     "output_type": "stream",
     "text": [
      "[0.55324947 0.73021696 0.68385777 0.01454841 0.13338713 0.3076452\n",
      " 0.09502668]\n",
      "0.08763636090393405\n",
      "threshold 0.08763636090393405\n"
     ]
    },
    {
     "name": "stderr",
     "output_type": "stream",
     "text": [
      "ic| label_current_deforestation_test_classified_incorrect.shape: (2622993,)\n",
      "    predicted_test_classified_incorrect.shape: (2622993,)\n",
      "ic| TP_H + FN_H + FP_H + TN_H: 2622993\n",
      "    len(label_mask_current_deforestation_test): 89540185\n",
      "ic| TP_H + FN_H + FP_H + TN_H: 2622993\n",
      "    len(label_mask_current_deforestation_test): 89540185\n"
     ]
    },
    {
     "name": "stdout",
     "output_type": "stream",
     "text": [
      "[0.61638373 0.73552552 0.65238    0.02929403 0.15738606 0.45123983\n",
      " 0.12693409]\n",
      "0.05473519870585886\n",
      "threshold 0.05473519870585886\n"
     ]
    },
    {
     "name": "stderr",
     "output_type": "stream",
     "text": [
      "ic| label_current_deforestation_test_classified_incorrect.shape: (3246313,)\n",
      "    predicted_test_classified_incorrect.shape: (3246313,)\n",
      "ic| TP_H + FN_H + FP_H + TN_H: 3246313\n",
      "    len(label_mask_current_deforestation_test): 89540185\n",
      "ic| TP_H + FN_H + FP_H + TN_H: 3246313\n",
      "    len(label_mask_current_deforestation_test): 89540185\n"
     ]
    },
    {
     "name": "stdout",
     "output_type": "stream",
     "text": [
      "[0.6383166  0.73665776 0.63780519 0.03625538 0.1711024  0.48873765\n",
      " 0.1260799 ]\n",
      "0.09533692591300504\n",
      "threshold 0.09533692591300504\n"
     ]
    },
    {
     "name": "stderr",
     "output_type": "stream",
     "text": [
      "ic| label_current_deforestation_test_classified_incorrect.shape: (2512343,)\n",
      "    predicted_test_classified_incorrect.shape: (2512343,)\n",
      "ic| TP_H + FN_H + FP_H + TN_H: 2512343\n",
      "    len(label_mask_current_deforestation_test): 89540185\n",
      "ic| TP_H + FN_H + FP_H + TN_H: 2512343\n",
      "    len(label_mask_current_deforestation_test): 89540185\n"
     ]
    },
    {
     "name": "stdout",
     "output_type": "stream",
     "text": [
      "[0.61182663 0.73521805 0.65488499 0.02805827 0.15540006 0.44391653\n",
      " 0.12638757]\n",
      "0.08158886552404604\n",
      "threshold 0.08158886552404604\n"
     ]
    },
    {
     "name": "stderr",
     "output_type": "stream",
     "text": [
      "ic| label_current_deforestation_test_classified_incorrect.shape: (2716596,)\n",
      "    predicted_test_classified_incorrect.shape: (2716596,)\n",
      "ic| TP_H + FN_H + FP_H + TN_H: 2716596\n",
      "    len(label_mask_current_deforestation_test): 89540185\n",
      "ic| TP_H + FN_H + FP_H + TN_H: 2716596\n",
      "    len(label_mask_current_deforestation_test): 89540185\n"
     ]
    },
    {
     "name": "stdout",
     "output_type": "stream",
     "text": [
      "[0.62017357 0.73575171 0.65028438 0.03033941 0.15902061 0.45715673\n",
      " 0.12724237]\n",
      "0.08044024396577211\n",
      "threshold 0.08044024396577211\n"
     ]
    },
    {
     "name": "stderr",
     "output_type": "stream",
     "text": [
      "ic| label_current_deforestation_test_classified_incorrect.shape: (2735163,)\n",
      "    predicted_test_classified_incorrect.shape: (2735163,)\n",
      "ic| TP_H + FN_H + FP_H + TN_H: 2735163\n",
      "    len(label_mask_current_deforestation_test): 89540185\n",
      "ic| TP_H + FN_H + FP_H + TN_H: 2735163\n",
      "    len(label_mask_current_deforestation_test): 89540185\n"
     ]
    },
    {
     "name": "stdout",
     "output_type": "stream",
     "text": [
      "[0.62087638 0.73579494 0.64985367 0.03054677 0.15941262 0.45834992\n",
      " 0.1272668 ]\n",
      "0.08370820070817189\n",
      "threshold 0.08370820070817189\n"
     ]
    },
    {
     "name": "stderr",
     "output_type": "stream",
     "text": [
      "ic| label_current_deforestation_test_classified_incorrect.shape: (2682924,)\n",
      "    predicted_test_classified_incorrect.shape: (2682924,)\n",
      "ic| TP_H + FN_H + FP_H + TN_H: 2682924\n",
      "    len(label_mask_current_deforestation_test): 89540185\n",
      "ic| TP_H + FN_H + FP_H + TN_H: 2682924\n",
      "    len(label_mask_current_deforestation_test): 89540185\n"
     ]
    },
    {
     "name": "stdout",
     "output_type": "stream",
     "text": [
      "[0.6188234  0.73565525 0.65102688 0.02996335 0.15845202 0.45517378\n",
      " 0.12714551]\n",
      "0.08520862438969859\n",
      "threshold 0.08520862438969859\n"
     ]
    },
    {
     "name": "stderr",
     "output_type": "stream",
     "text": [
      "ic| label_current_deforestation_test_classified_incorrect.shape: (2659940,)\n",
      "    predicted_test_classified_incorrect.shape: (2659940,)\n",
      "ic| TP_H + FN_H + FP_H + TN_H: 2659940\n",
      "    len(label_mask_current_deforestation_test): 89540185\n",
      "ic| TP_H + FN_H + FP_H + TN_H: 2659940\n",
      "    len(label_mask_current_deforestation_test): 89540185\n"
     ]
    },
    {
     "name": "stdout",
     "output_type": "stream",
     "text": [
      "[0.61787881 0.73560063 0.65150791 0.02970666 0.15813859 0.45383133\n",
      " 0.12707446]\n",
      "0.08347211677066711\n",
      "threshold 0.08347211677066711\n"
     ]
    },
    {
     "name": "stderr",
     "output_type": "stream",
     "text": [
      "ic| label_current_deforestation_test_classified_incorrect.shape: (2686581,)\n",
      "    predicted_test_classified_incorrect.shape: (2686581,)\n",
      "ic| TP_H + FN_H + FP_H + TN_H: 2686581\n",
      "    len(label_mask_current_deforestation_test): 89540185\n",
      "ic| TP_H + FN_H + FP_H + TN_H: 2686581\n",
      "    len(label_mask_current_deforestation_test): 89540185\n"
     ]
    },
    {
     "name": "stdout",
     "output_type": "stream",
     "text": [
      "[0.61896526 0.73565978 0.65095294 0.03000419 0.15850284 0.4553971\n",
      " 0.12714726]\n",
      "0.08275277880381347\n",
      "threshold 0.08275277880381347\n"
     ]
    },
    {
     "name": "stderr",
     "output_type": "stream",
     "text": [
      "ic| label_current_deforestation_test_classified_incorrect.shape: (2697819,)\n",
      "    predicted_test_classified_incorrect.shape: (2697819,)\n",
      "ic| TP_H + FN_H + FP_H + TN_H: 2697819\n",
      "    len(label_mask_current_deforestation_test): 89540185\n",
      "ic| TP_H + FN_H + FP_H + TN_H: 2697819\n",
      "    len(label_mask_current_deforestation_test): 89540185\n"
     ]
    },
    {
     "name": "stdout",
     "output_type": "stream",
     "text": [
      "[0.61941104 0.73569325 0.65070214 0.0301297  0.15870362 0.45606557\n",
      " 0.12717866]\n",
      "0.08337963427776528\n",
      "threshold 0.08337963427776528\n"
     ]
    },
    {
     "name": "stderr",
     "output_type": "stream",
     "text": [
      "ic| label_current_deforestation_test_classified_incorrect.shape: (2687988,)\n",
      "    predicted_test_classified_incorrect.shape: (2687988,)\n",
      "ic| TP_H + FN_H + FP_H + TN_H: 2687988\n",
      "    len(label_mask_current_deforestation_test): 89540185\n",
      "ic| TP_H + FN_H + FP_H + TN_H: 2687988\n",
      "    len(label_mask_current_deforestation_test): 89540185\n"
     ]
    },
    {
     "name": "stdout",
     "output_type": "stream",
     "text": [
      "[0.61902017 0.73566462 0.65092245 0.03001991 0.1585267  0.45547496\n",
      " 0.12715055]\n",
      "0.08351668419857641\n",
      "threshold 0.08351668419857641\n"
     ]
    },
    {
     "name": "stderr",
     "output_type": "stream",
     "text": [
      "ic| label_current_deforestation_test_classified_incorrect.shape: (2685883,)\n",
      "    predicted_test_classified_incorrect.shape: (2685883,)\n",
      "ic| TP_H + FN_H + FP_H + TN_H: 2685883\n",
      "    len(label_mask_current_deforestation_test): 89540185\n",
      "ic| TP_H + FN_H + FP_H + TN_H: 2685883\n",
      "    len(label_mask_current_deforestation_test): 89540185\n"
     ]
    },
    {
     "name": "stdout",
     "output_type": "stream",
     "text": [
      "[0.61893634 0.73566036 0.65096971 0.0299964  0.15848866 0.45533887\n",
      " 0.12714525]\n",
      "0.08355001877066236\n",
      "threshold 0.08355001877066236\n"
     ]
    },
    {
     "name": "stderr",
     "output_type": "stream",
     "text": [
      "ic| label_current_deforestation_test_classified_incorrect.shape: (2685335,)\n",
      "    predicted_test_classified_incorrect.shape: (2685335,)\n",
      "ic| TP_H + FN_H + FP_H + TN_H: 2685335\n",
      "    len(label_mask_current_deforestation_test): 89540185\n",
      "ic| TP_H + FN_H + FP_H + TN_H: 2685335\n",
      "    len(label_mask_current_deforestation_test): 89540185\n",
      "ic| self.threshold_optimal: 0.08351668419857641\n"
     ]
    },
    {
     "name": "stdout",
     "output_type": "stream",
     "text": [
      "[0.61891454 0.73565485 0.65097886 0.02999028 0.15848584 0.45533479\n",
      " 0.12714295]\n",
      "threshold:  0.08351668419857641\n",
      "threshold 0.08351668419857641\n"
     ]
    },
    {
     "name": "stderr",
     "output_type": "stream",
     "text": [
      "ic| label_current_deforestation_test_classified_incorrect.shape: (2685883,)\n",
      "    predicted_test_classified_incorrect.shape: (2685883,)\n",
      "ic| TP_H + FN_H + FP_H + TN_H: 2685883\n",
      "    len(label_mask_current_deforestation_test): 89540185\n",
      "ic| TP_H + FN_H + FP_H + TN_H: 2685883\n",
      "    len(label_mask_current_deforestation_test): 89540185\n"
     ]
    },
    {
     "name": "stdout",
     "output_type": "stream",
     "text": [
      "[0.61893634 0.73566036 0.65096971 0.0299964  0.15848866 0.45533887\n",
      " 0.12714525]\n",
      "threshold 0.08351668419857641\n",
      "(89540185,) (89540185,)\n"
     ]
    },
    {
     "name": "stderr",
     "output_type": "stream",
     "text": [
      "ic| self.m_optimal: {'AA': array([0.0299964]),\n",
      "                     'UEO': array([0.12714525]),\n",
      "                     'f1': 59.05,\n",
      "                     'f1_H': array([0.23513461]),\n",
      "                     'f1_L': array([0.67226936]),\n",
      "                     'precision_H': array([0.15848866]),\n",
      "                     'precision_L': array([0.61893634]),\n",
      "                     'recall_H': array([0.45533887]),\n",
      "                     'recall_L': array([0.73566036]),\n",
      "                     'recall_Ltotal': array([0.65096971])}\n",
      "ic| self.m_audited_optimal: {'f1': array([0.70709273]),\n",
      "                             'precision': array([0.65653137]),\n",
      "                             'recall': array([0.76609165])}\n"
     ]
    },
    {
     "name": "stdout",
     "output_type": "stream",
     "text": [
      "cm_audited [[87702658   525744]\n",
      " [  306837  1004946]]\n",
      "[0.65653137 0.76609165]\n",
      "Result idx 7: {'uncertainty_result': {'metrics': {'precision_L': array([0.61893634]), 'recall_L': array([0.73566036]), 'recall_Ltotal': array([0.65096971]), 'AA': array([0.0299964]), 'precision_H': array([0.15848866]), 'recall_H': array([0.45533887]), 'UEO': array([0.12714525]), 'f1_L': array([0.67226936]), 'f1_H': array([0.23513461]), 'f1': 59.05}, 'metrics_audited': {'precision': array([0.65653137]), 'recall': array([0.76609165]), 'f1': array([0.70709273])}, 'exp': 27}}\n",
      "Grid execution idx: 7\n",
      "Beginning run number 8\n",
      "manager.config {'training': False, 'inferring': True, 'site': 'PI', 'training_date': 'earlier', 'mode': 'single_run', 'training_times': 10, 'uncertainty_method': 'pred_entropy_single', 'loadInference': False, 'removePolygons': True, 'plotLandsat': False, 'plotPOI': False, 'training_experiment_id': 27, 'get_multiple_metrics': False, 'start_repetition_id': 0, 'save_probabilities': False, 'addPastDeforestationInput': True, 'classes_mode': False, 'learning_rate': 0.0001, 'use_cloud_mask': False, 'mask_out_non_biome': True, 'log_filename': 'log.pkl', 'inference_times': 1, 'dropout_training': False}\n",
      "D:/Jorge/datasets/deforestation/PI/deforestation_past_years.tif\n",
      "Loaded deforestation past years\n"
     ]
    },
    {
     "name": "stderr",
     "output_type": "stream",
     "text": [
      "ic| np.unique(deforestation_past_years, return_counts=True): (array([   0, 2002, 2004, 2006, 2008, 2010, 2012, 2013, 2014, 2015, 2016,\n",
      "                                                                    2017, 2018, 2019, 2020, 2021], dtype=uint16),\n",
      "                                                              array([340580606,   4312043,   6953620,   5659916,   7162776,   6261432,\n",
      "                                                                      8191420,   3233962,   3270293,   3044419,   1817289,   2359424,\n",
      "                                                                      2201926,   3050229,   2901307,   2418575], dtype=int64))\n"
     ]
    },
    {
     "name": "stdout",
     "output_type": "stream",
     "text": [
      "Label where deforestation past years is actual date (2020) = 1\n"
     ]
    },
    {
     "name": "stderr",
     "output_type": "stream",
     "text": [
      "ic| np.unique(deforestation_past_years, return_counts=True): (array([   0, 2002, 2004, 2006, 2008, 2010, 2012, 2013, 2014, 2015, 2016,\n",
      "                                                                    2017, 2018, 2019, 2020, 2021], dtype=uint16),\n",
      "                                                              array([340580606,   4312043,   6953620,   5659916,   7162776,   6261432,\n",
      "                                                                      8191420,   3233962,   3270293,   3044419,   1817289,   2359424,\n",
      "                                                                      2201926,   3050229,   2901307,   2418575], dtype=int64))\n"
     ]
    },
    {
     "name": "stdout",
     "output_type": "stream",
     "text": [
      "Past deforestation different from 0 (no deforestation)\n"
     ]
    },
    {
     "name": "stderr",
     "output_type": "stream",
     "text": [
      "ic| np.unique(deforestation_past_years, return_counts=True): (array([   0, 2002, 2004, 2006, 2008, 2010, 2012, 2013, 2014, 2015, 2016,\n",
      "                                                                    2017, 2018, 2019, 2020, 2021], dtype=uint16),\n",
      "                                                              array([340580606,   4312043,   6953620,   5659916,   7162776,   6261432,\n",
      "                                                                      8191420,   3233962,   3270293,   3044419,   1817289,   2359424,\n",
      "                                                                      2201926,   3050229,   2901307,   2418575], dtype=int64))\n"
     ]
    },
    {
     "name": "stdout",
     "output_type": "stream",
     "text": [
      "Past deforestation before 2008 is 2\n",
      "D:/Jorge/datasets/deforestation/PI/deforestation_before_2000_PI.tif\n"
     ]
    },
    {
     "name": "stderr",
     "output_type": "stream",
     "text": [
      "ic| np.unique(label_past_deforestation_before_2008, return_counts=True): (array([  0, 208], dtype=uint8), array([385251297,  18167940], dtype=int64))\n",
      "ic| np.unique(deforestation_past_years, return_counts=True): (array([   0, 2002, 2004, 2006, 2008, 2010, 2012, 2013, 2014, 2015, 2016,\n",
      "                                                                    2017, 2018, 2019, 2020, 2021], dtype=uint16),\n",
      "                                                              array([340580606,   4312043,   6953620,   5659916,   7162776,   6261432,\n",
      "                                                                      8191420,   3233962,   3270293,   3044419,   1817289,   2359424,\n",
      "                                                                      2201926,   3050229,   2901307,   2418575], dtype=int64))\n"
     ]
    },
    {
     "name": "stdout",
     "output_type": "stream",
     "text": [
      "D:/Jorge/datasets/sentinel2/PI/biome_limits.tif\n"
     ]
    },
    {
     "name": "stderr",
     "output_type": "stream",
     "text": [
      "ic| label_per_date.shape: (19357, 20841, 1)\n"
     ]
    },
    {
     "name": "stdout",
     "output_type": "stream",
     "text": [
      "Removing bufer................\n",
      "Mask label shape:  \n",
      " (19357, 20841, 1) \n",
      " Unique values:  \n",
      " [0 1 2]\n",
      "Tiles size:  3871 4168\n",
      "Mask size:  (19355, 20840)\n"
     ]
    },
    {
     "name": "stderr",
     "output_type": "stream",
     "text": [
      "ic| image_stack.shape: (19357, 20841, 9)\n"
     ]
    },
    {
     "name": "stdout",
     "output_type": "stream",
     "text": [
      "Image shape:  (19357, 20841, 9)\n",
      "mask:  (19355, 20840)\n",
      "image stack:  (19355, 20840, 9)\n",
      "ref : (19355, 20840, 1)\n",
      "Training tiles:  [2, 4, 5, 6, 7, 12, 14, 15, 18, 21, 23, 25]\n",
      "Validation tiles:  [9, 11, 24]\n",
      "Test tiles:  [1, 3, 8, 10, 13, 16, 17, 19, 20, 22]\n",
      "-5.0 -24.0\n"
     ]
    },
    {
     "name": "stderr",
     "output_type": "stream",
     "text": [
      "ic| self.path_models+ '/' + self.method +'_'+str(self.repetition_id)+'.h5': 'D:/Jorge/datasets/deforestation/experiments/PI/exp27/models/resunet_8.h5'\n"
     ]
    },
    {
     "name": "stdout",
     "output_type": "stream",
     "text": [
      "Dropout training mode: False\n",
      "time:  0\n",
      "(89644896,)\n",
      "(array([0, 1], dtype=uint8), array([88315686,  1329210], dtype=int64))\n",
      "(19355, 20840)\n",
      "Single entropy\n",
      "(array([0., 1.], dtype=float32), array([398285235,   5072965], dtype=int64))\n"
     ]
    },
    {
     "name": "stderr",
     "output_type": "stream",
     "text": [
      "ic| self.predicted_unpad.shape: (19355, 20840)\n",
      "    self.predicted.shape: (19355, 20840)\n",
      "ic| predicted_test.shape: (161343280,)\n",
      "ic| predicted_test.shape: (89644896,)\n",
      "ic| np.unique(predicted, return_counts=True): (array([0., 1.], dtype=float32), array([399669500,   3688700], dtype=int64))\n",
      "    np.unique(predicted_larger_than_min_area, return_counts=True): (array([0., 1.], dtype=float32), array([400071011,   3287189], dtype=int64))\n",
      "ic| np.unique(ignored_polygons, return_counts=True): (array([0., 1.], dtype=float32), array([402956689,    401511], dtype=int64))\n",
      "ic| self.f1: 59.01, self.precision: 59.67, self.recall: 58.37\n",
      "ic| self.label_mask_val.shape: (48402984,)\n",
      "ic| self.label_mask_val_valid.shape: (36716570,)\n",
      "ic| f1_val: 32.41\n",
      "    precision_val: 23.69\n",
      "    recall_val: 51.28\n",
      "    mAP_val: 27.44\n"
     ]
    },
    {
     "name": "stdout",
     "output_type": "stream",
     "text": [
      "(array([0., 1.], dtype=float32), array([400529305,   2828895], dtype=int64))\n",
      "[0. 1.]\n"
     ]
    },
    {
     "name": "stderr",
     "output_type": "stream",
     "text": [
      "ic| pred_entropy.shape: (19360, 20864)\n",
      "ic| self.label_mask.shape: (19355, 20840)\n",
      "ic| self.mask_amazon_ts.shape: (19355, 20840)\n",
      "ic| self.label_mask_test.shape: (161343280,)\n",
      "ic| self.error_mask_test.shape: (89520278,)\n",
      "ic| bounds: (0.0015, 0.3663794801235199)\n",
      "c:\\Users\\jchamorro\\Anaconda3\\envs\\tf2\\lib\\site-packages\\scipy\\optimize\\_minimize.py:783: RuntimeWarning: Method 'bounded' does not support relative tolerance in x; defaulting to absolute tolerance.\n",
      "  warn(\"Method 'bounded' does not support relative tolerance in x; \"\n"
     ]
    },
    {
     "name": "stdout",
     "output_type": "stream",
     "text": [
      "0.1408715596097929\n",
      "threshold 0.1408715596097929\n"
     ]
    },
    {
     "name": "stderr",
     "output_type": "stream",
     "text": [
      "ic| label_current_deforestation_test_classified_incorrect.shape: (2964181,)\n",
      "    predicted_test_classified_incorrect.shape: (2964181,)\n",
      "ic| TP_H + FN_H + FP_H + TN_H: 2964181\n",
      "    len(label_mask_current_deforestation_test): 89520278\n",
      "ic| TP_H + FN_H + FP_H + TN_H: 2964181\n",
      "    len(label_mask_current_deforestation_test): 89520278\n"
     ]
    },
    {
     "name": "stdout",
     "output_type": "stream",
     "text": [
      "[0.75910818 0.61192602 0.54004373 0.03311184 0.1635056  0.37132128\n",
      " 0.10699039]\n",
      "0.22700792051372695\n",
      "threshold 0.22700792051372695\n"
     ]
    },
    {
     "name": "stderr",
     "output_type": "stream",
     "text": [
      "ic| label_current_deforestation_test_classified_incorrect.shape: (1931948,)\n",
      "    predicted_test_classified_incorrect.shape: (1931948,)\n",
      "ic| TP_H + FN_H + FP_H + TN_H: 1931948\n",
      "    len(label_mask_current_deforestation_test): 89520278\n",
      "ic| TP_H + FN_H + FP_H + TN_H: 1931948\n",
      "    len(label_mask_current_deforestation_test): 89520278\n"
     ]
    },
    {
     "name": "stdout",
     "output_type": "stream",
     "text": [
      "[0.69482272 0.61010811 0.5587295  0.02158112 0.14324485 0.29607243\n",
      " 0.1003474 ]\n",
      "0.08763636090393405\n",
      "threshold 0.08763636090393405\n"
     ]
    },
    {
     "name": "stderr",
     "output_type": "stream",
     "text": [
      "ic| label_current_deforestation_test_classified_incorrect.shape: (4002323,)\n",
      "    predicted_test_classified_incorrect.shape: (4002323,)\n",
      "ic| TP_H + FN_H + FP_H + TN_H: 4002323\n",
      "    len(label_mask_current_deforestation_test): 89520278\n",
      "ic| TP_H + FN_H + FP_H + TN_H: 4002323\n",
      "    len(label_mask_current_deforestation_test): 89520278\n"
     ]
    },
    {
     "name": "stdout",
     "output_type": "stream",
     "text": [
      "[0.80590532 0.6116127  0.52234471 0.04470856 0.18578646 0.42011367\n",
      " 0.10061947]\n",
      "0.16857576601603777\n",
      "threshold 0.16857576601603777\n"
     ]
    },
    {
     "name": "stderr",
     "output_type": "stream",
     "text": [
      "ic| label_current_deforestation_test_classified_incorrect.shape: (2582911,)\n",
      "    predicted_test_classified_incorrect.shape: (2582911,)\n",
      "ic| TP_H + FN_H + FP_H + TN_H: 2582911\n",
      "    len(label_mask_current_deforestation_test): 89520278\n",
      "ic| TP_H + FN_H + FP_H + TN_H: 2582911\n",
      "    len(label_mask_current_deforestation_test): 89520278\n"
     ]
    },
    {
     "name": "stdout",
     "output_type": "stream",
     "text": [
      "[0.73779595 0.61156991 0.54661218 0.0288528  0.15612017 0.34882418\n",
      " 0.10723337]\n",
      "0.17035712772639156\n",
      "threshold 0.17035712772639156\n"
     ]
    },
    {
     "name": "stderr",
     "output_type": "stream",
     "text": [
      "ic| label_current_deforestation_test_classified_incorrect.shape: (2560409,)\n",
      "    predicted_test_classified_incorrect.shape: (2560409,)\n",
      "ic| TP_H + FN_H + FP_H + TN_H: 2560409\n",
      "    len(label_mask_current_deforestation_test): 89520278\n",
      "ic| TP_H + FN_H + FP_H + TN_H: 2560409\n",
      "    len(label_mask_current_deforestation_test): 89520278\n"
     ]
    },
    {
     "name": "stdout",
     "output_type": "stream",
     "text": [
      "[0.73643903 0.61155795 0.5470136  0.02860144 0.15568177 0.34724793\n",
      " 0.10718101]\n",
      "0.1596546866774524\n",
      "threshold 0.1596546866774524\n"
     ]
    },
    {
     "name": "stderr",
     "output_type": "stream",
     "text": [
      "ic| label_current_deforestation_test_classified_incorrect.shape: (2698821,)\n",
      "    predicted_test_classified_incorrect.shape: (2698821,)\n",
      "ic| TP_H + FN_H + FP_H + TN_H: 2698821\n",
      "    len(label_mask_current_deforestation_test): 89520278\n",
      "ic| TP_H + FN_H + FP_H + TN_H: 2698821\n",
      "    len(label_mask_current_deforestation_test): 89520278\n"
     ]
    },
    {
     "name": "stdout",
     "output_type": "stream",
     "text": [
      "[0.74463591 0.61169772 0.54458372 0.03014759 0.15831064 0.35617553\n",
      " 0.10740789]\n",
      "0.15248017055261462\n",
      "threshold 0.15248017055261462\n"
     ]
    },
    {
     "name": "stderr",
     "output_type": "stream",
     "text": [
      "ic| label_current_deforestation_test_classified_incorrect.shape: (2796449,)\n",
      "    predicted_test_classified_incorrect.shape: (2796449,)\n",
      "ic| TP_H + FN_H + FP_H + TN_H: 2796449\n",
      "    len(label_mask_current_deforestation_test): 89520278\n",
      "ic| TP_H + FN_H + FP_H + TN_H: 2796449\n",
      "    len(label_mask_current_deforestation_test): 89520278\n"
     ]
    },
    {
     "name": "stdout",
     "output_type": "stream",
     "text": [
      "[0.75008673 0.61179616 0.54288876 0.03123816 0.16025964 0.3620102\n",
      " 0.10735451]\n",
      "0.1607002166486935\n",
      "threshold 0.1607002166486935\n"
     ]
    },
    {
     "name": "stderr",
     "output_type": "stream",
     "text": [
      "ic| label_current_deforestation_test_classified_incorrect.shape: (2684838,)\n",
      "    predicted_test_classified_incorrect.shape: (2684838,)\n",
      "ic| TP_H + FN_H + FP_H + TN_H: 2684838\n",
      "    len(label_mask_current_deforestation_test): 89520278\n",
      "ic| TP_H + FN_H + FP_H + TN_H: 2684838\n",
      "    len(label_mask_current_deforestation_test): 89520278\n"
     ]
    },
    {
     "name": "stdout",
     "output_type": "stream",
     "text": [
      "[0.74382251 0.61167572 0.54483861 0.02999139 0.15800933 0.35530552\n",
      " 0.10738799]\n",
      "0.1623142006381036\n",
      "threshold 0.1623142006381036\n"
     ]
    },
    {
     "name": "stderr",
     "output_type": "stream",
     "text": [
      "ic| label_current_deforestation_test_classified_incorrect.shape: (2663581,)\n",
      "    predicted_test_classified_incorrect.shape: (2663581,)\n",
      "ic| TP_H + FN_H + FP_H + TN_H: 2663581\n",
      "    len(label_mask_current_deforestation_test): 89520278\n",
      "ic| TP_H + FN_H + FP_H + TN_H: 2663581\n",
      "    len(label_mask_current_deforestation_test): 89520278\n"
     ]
    },
    {
     "name": "stdout",
     "output_type": "stream",
     "text": [
      "[0.74262335 0.61165677 0.54521103 0.02975394 0.15757377 0.35395899\n",
      " 0.1073868 ]\n",
      "0.16080864935421216\n",
      "threshold 0.16080864935421216\n"
     ]
    },
    {
     "name": "stderr",
     "output_type": "stream",
     "text": [
      "ic| label_current_deforestation_test_classified_incorrect.shape: (2683413,)\n",
      "    predicted_test_classified_incorrect.shape: (2683413,)\n",
      "ic| TP_H + FN_H + FP_H + TN_H: 2683413\n",
      "    len(label_mask_current_deforestation_test): 89520278\n",
      "ic| TP_H + FN_H + FP_H + TN_H: 2683413\n",
      "    len(label_mask_current_deforestation_test): 89520278\n"
     ]
    },
    {
     "name": "stdout",
     "output_type": "stream",
     "text": [
      "[0.74375068 0.61167632 0.54485922 0.02997548 0.15798877 0.35522363\n",
      " 0.1073946 ]\n",
      "0.1604516423739351\n",
      "threshold 0.1604516423739351\n"
     ]
    },
    {
     "name": "stderr",
     "output_type": "stream",
     "text": [
      "ic| label_current_deforestation_test_classified_incorrect.shape: (2688132,)\n",
      "    predicted_test_classified_incorrect.shape: (2688132,)\n",
      "ic| TP_H + FN_H + FP_H + TN_H: 2688132\n",
      "    len(label_mask_current_deforestation_test): 89520278\n",
      "ic| TP_H + FN_H + FP_H + TN_H: 2688132\n",
      "    len(label_mask_current_deforestation_test): 89520278\n"
     ]
    },
    {
     "name": "stdout",
     "output_type": "stream",
     "text": [
      "[0.74400407 0.61168531 0.54478367 0.03002819 0.15807045 0.35547074\n",
      " 0.10738916]\n",
      "0.16060526972446465\n",
      "threshold 0.16060526972446465\n"
     ]
    },
    {
     "name": "stderr",
     "output_type": "stream",
     "text": [
      "ic| label_current_deforestation_test_classified_incorrect.shape: (2686063,)\n",
      "    predicted_test_classified_incorrect.shape: (2686063,)\n",
      "ic| TP_H + FN_H + FP_H + TN_H: 2686063\n",
      "    len(label_mask_current_deforestation_test): 89520278\n",
      "ic| TP_H + FN_H + FP_H + TN_H: 2686063\n",
      "    len(label_mask_current_deforestation_test): 89520278\n"
     ]
    },
    {
     "name": "stdout",
     "output_type": "stream",
     "text": [
      "[0.743885   0.6116747  0.54481343 0.03000508 0.15805046 0.35540692\n",
      " 0.10738544]\n",
      "0.1606386054399591\n",
      "threshold 0.1606386054399591\n"
     ]
    },
    {
     "name": "stderr",
     "output_type": "stream",
     "text": [
      "ic| label_current_deforestation_test_classified_incorrect.shape: (2685653,)\n",
      "    predicted_test_classified_incorrect.shape: (2685653,)\n",
      "ic| TP_H + FN_H + FP_H + TN_H: 2685653\n",
      "    len(label_mask_current_deforestation_test): 89520278\n",
      "ic| TP_H + FN_H + FP_H + TN_H: 2685653\n",
      "    len(label_mask_current_deforestation_test): 89520278\n",
      "ic| self.threshold_optimal: 0.1606386054399591\n"
     ]
    },
    {
     "name": "stdout",
     "output_type": "stream",
     "text": [
      "[0.74386343 0.6116776  0.54482488 0.0300005  0.15802744 0.35534934\n",
      " 0.10738635]\n",
      "threshold:  0.1606386054399591\n",
      "threshold 0.1606386054399591\n"
     ]
    },
    {
     "name": "stderr",
     "output_type": "stream",
     "text": [
      "ic| label_current_deforestation_test_classified_incorrect.shape: (2685653,)\n",
      "    predicted_test_classified_incorrect.shape: (2685653,)\n",
      "ic| TP_H + FN_H + FP_H + TN_H: 2685653\n",
      "    len(label_mask_current_deforestation_test): 89520278\n",
      "ic| TP_H + FN_H + FP_H + TN_H: 2685653\n",
      "    len(label_mask_current_deforestation_test): 89520278\n"
     ]
    },
    {
     "name": "stdout",
     "output_type": "stream",
     "text": [
      "[0.74386343 0.6116776  0.54482488 0.0300005  0.15802744 0.35534934\n",
      " 0.10738635]\n",
      "threshold 0.1606386054399591\n",
      "(89520278,) (89520278,)\n"
     ]
    },
    {
     "name": "stderr",
     "output_type": "stream",
     "text": [
      "ic| self.m_optimal: {'AA': array([0.0300005]),\n",
      "                     'UEO': array([0.10738635]),\n",
      "                     'f1': 59.01,\n",
      "                     'f1_H': array([0.21876699]),\n",
      "                     'f1_L': array([0.67132545]),\n",
      "                     'precision_H': array([0.15802744]),\n",
      "                     'precision_L': array([0.74386343]),\n",
      "                     'recall_H': array([0.35534934]),\n",
      "                     'recall_L': array([0.6116776]),\n",
      "                     'recall_Ltotal': array([0.54482488])}\n",
      "ic| self.m_audited_optimal: {'f1': array([0.71033482]),\n",
      "                             'precision': array([0.77712176]),\n",
      "                             'recall': array([0.65411892])}\n"
     ]
    },
    {
     "name": "stdout",
     "output_type": "stream",
     "text": [
      "cm_audited [[87964099   245824]\n",
      " [  453227   857128]]\n",
      "[0.77712176 0.65411892]\n",
      "Result idx 8: {'uncertainty_result': {'metrics': {'precision_L': array([0.74386343]), 'recall_L': array([0.6116776]), 'recall_Ltotal': array([0.54482488]), 'AA': array([0.0300005]), 'precision_H': array([0.15802744]), 'recall_H': array([0.35534934]), 'UEO': array([0.10738635]), 'f1_L': array([0.67132545]), 'f1_H': array([0.21876699]), 'f1': 59.01}, 'metrics_audited': {'precision': array([0.77712176]), 'recall': array([0.65411892]), 'f1': array([0.71033482])}, 'exp': 27}}\n",
      "Grid execution idx: 8\n",
      "Beginning run number 9\n",
      "manager.config {'training': False, 'inferring': True, 'site': 'PI', 'training_date': 'earlier', 'mode': 'single_run', 'training_times': 10, 'uncertainty_method': 'pred_entropy_single', 'loadInference': False, 'removePolygons': True, 'plotLandsat': False, 'plotPOI': False, 'training_experiment_id': 27, 'get_multiple_metrics': False, 'start_repetition_id': 0, 'save_probabilities': False, 'addPastDeforestationInput': True, 'classes_mode': False, 'learning_rate': 0.0001, 'use_cloud_mask': False, 'mask_out_non_biome': True, 'log_filename': 'log.pkl', 'inference_times': 1, 'dropout_training': False}\n",
      "D:/Jorge/datasets/deforestation/PI/deforestation_past_years.tif\n",
      "Loaded deforestation past years\n"
     ]
    },
    {
     "name": "stderr",
     "output_type": "stream",
     "text": [
      "ic| np.unique(deforestation_past_years, return_counts=True): (array([   0, 2002, 2004, 2006, 2008, 2010, 2012, 2013, 2014, 2015, 2016,\n",
      "                                                                    2017, 2018, 2019, 2020, 2021], dtype=uint16),\n",
      "                                                              array([340580606,   4312043,   6953620,   5659916,   7162776,   6261432,\n",
      "                                                                      8191420,   3233962,   3270293,   3044419,   1817289,   2359424,\n",
      "                                                                      2201926,   3050229,   2901307,   2418575], dtype=int64))\n"
     ]
    },
    {
     "name": "stdout",
     "output_type": "stream",
     "text": [
      "Label where deforestation past years is actual date (2020) = 1\n"
     ]
    },
    {
     "name": "stderr",
     "output_type": "stream",
     "text": [
      "ic| np.unique(deforestation_past_years, return_counts=True): (array([   0, 2002, 2004, 2006, 2008, 2010, 2012, 2013, 2014, 2015, 2016,\n",
      "                                                                    2017, 2018, 2019, 2020, 2021], dtype=uint16),\n",
      "                                                              array([340580606,   4312043,   6953620,   5659916,   7162776,   6261432,\n",
      "                                                                      8191420,   3233962,   3270293,   3044419,   1817289,   2359424,\n",
      "                                                                      2201926,   3050229,   2901307,   2418575], dtype=int64))\n"
     ]
    },
    {
     "name": "stdout",
     "output_type": "stream",
     "text": [
      "Past deforestation different from 0 (no deforestation)\n"
     ]
    },
    {
     "name": "stderr",
     "output_type": "stream",
     "text": [
      "ic| np.unique(deforestation_past_years, return_counts=True): (array([   0, 2002, 2004, 2006, 2008, 2010, 2012, 2013, 2014, 2015, 2016,\n",
      "                                                                    2017, 2018, 2019, 2020, 2021], dtype=uint16),\n",
      "                                                              array([340580606,   4312043,   6953620,   5659916,   7162776,   6261432,\n",
      "                                                                      8191420,   3233962,   3270293,   3044419,   1817289,   2359424,\n",
      "                                                                      2201926,   3050229,   2901307,   2418575], dtype=int64))\n"
     ]
    },
    {
     "name": "stdout",
     "output_type": "stream",
     "text": [
      "Past deforestation before 2008 is 2\n",
      "D:/Jorge/datasets/deforestation/PI/deforestation_before_2000_PI.tif\n"
     ]
    },
    {
     "name": "stderr",
     "output_type": "stream",
     "text": [
      "ic| np.unique(label_past_deforestation_before_2008, return_counts=True): (array([  0, 208], dtype=uint8), array([385251297,  18167940], dtype=int64))\n",
      "ic| np.unique(deforestation_past_years, return_counts=True): (array([   0, 2002, 2004, 2006, 2008, 2010, 2012, 2013, 2014, 2015, 2016,\n",
      "                                                                    2017, 2018, 2019, 2020, 2021], dtype=uint16),\n",
      "                                                              array([340580606,   4312043,   6953620,   5659916,   7162776,   6261432,\n",
      "                                                                      8191420,   3233962,   3270293,   3044419,   1817289,   2359424,\n",
      "                                                                      2201926,   3050229,   2901307,   2418575], dtype=int64))\n"
     ]
    },
    {
     "name": "stdout",
     "output_type": "stream",
     "text": [
      "D:/Jorge/datasets/sentinel2/PI/biome_limits.tif\n"
     ]
    },
    {
     "name": "stderr",
     "output_type": "stream",
     "text": [
      "ic| label_per_date.shape: (19357, 20841, 1)\n"
     ]
    },
    {
     "name": "stdout",
     "output_type": "stream",
     "text": [
      "Removing bufer................\n",
      "Mask label shape:  \n",
      " (19357, 20841, 1) \n",
      " Unique values:  \n",
      " [0 1 2]\n",
      "Tiles size:  3871 4168\n",
      "Mask size:  (19355, 20840)\n"
     ]
    },
    {
     "name": "stderr",
     "output_type": "stream",
     "text": [
      "ic| image_stack.shape: (19357, 20841, 9)\n"
     ]
    },
    {
     "name": "stdout",
     "output_type": "stream",
     "text": [
      "Image shape:  (19357, 20841, 9)\n",
      "mask:  (19355, 20840)\n",
      "image stack:  (19355, 20840, 9)\n",
      "ref : (19355, 20840, 1)\n",
      "Training tiles:  [2, 4, 5, 6, 7, 12, 14, 15, 18, 21, 23, 25]\n",
      "Validation tiles:  [9, 11, 24]\n",
      "Test tiles:  [1, 3, 8, 10, 13, 16, 17, 19, 20, 22]\n",
      "-5.0 -24.0\n"
     ]
    },
    {
     "name": "stderr",
     "output_type": "stream",
     "text": [
      "ic| self.path_models+ '/' + self.method +'_'+str(self.repetition_id)+'.h5': 'D:/Jorge/datasets/deforestation/experiments/PI/exp27/models/resunet_9.h5'\n"
     ]
    },
    {
     "name": "stdout",
     "output_type": "stream",
     "text": [
      "Dropout training mode: False\n",
      "time:  0\n",
      "(89644896,)\n",
      "(array([0, 1], dtype=uint8), array([88315686,  1329210], dtype=int64))\n",
      "(19355, 20840)\n",
      "Single entropy\n",
      "(array([0., 1.], dtype=float32), array([396465483,   6892717], dtype=int64))\n"
     ]
    },
    {
     "name": "stderr",
     "output_type": "stream",
     "text": [
      "ic| self.predicted_unpad.shape: (19355, 20840)\n",
      "    self.predicted.shape: (19355, 20840)\n",
      "ic| predicted_test.shape: (161343280,)\n",
      "ic| predicted_test.shape: (89644896,)\n",
      "ic| np.unique(predicted, return_counts=True): (array([0., 1.], dtype=float32), array([397970726,   5387474], dtype=int64))\n",
      "    np.unique(predicted_larger_than_min_area, return_counts=True): (array([0., 1.], dtype=float32), array([398359167,   4999033], dtype=int64))\n",
      "ic| np.unique(ignored_polygons, return_counts=True): (array([0., 1.], dtype=float32), array([402969759,    388441], dtype=int64))\n",
      "ic| self.f1: 57.23, self.precision: 49.69, self.recall: 67.47\n",
      "ic| self.label_mask_val.shape: (48402984,)\n",
      "ic| self.label_mask_val_valid.shape: (36713588,)\n",
      "ic| f1_val: 29.54\n",
      "    precision_val: 18.69\n",
      "    recall_val: 70.36\n",
      "    mAP_val: 35.35\n"
     ]
    },
    {
     "name": "stdout",
     "output_type": "stream",
     "text": [
      "(array([0., 1.], dtype=float32), array([399308025,   4050175], dtype=int64))\n",
      "[0. 1.]\n"
     ]
    },
    {
     "name": "stderr",
     "output_type": "stream",
     "text": [
      "ic| pred_entropy.shape: (19360, 20864)\n",
      "ic| self.label_mask.shape: (19355, 20840)\n",
      "ic| self.mask_amazon_ts.shape: (19355, 20840)\n",
      "ic| self.label_mask_test.shape: (161343280,)\n",
      "ic| self.error_mask_test.shape: (89527556,)\n",
      "ic| bounds: (0.0015, 0.3663794801235199)\n",
      "c:\\Users\\jchamorro\\Anaconda3\\envs\\tf2\\lib\\site-packages\\scipy\\optimize\\_minimize.py:783: RuntimeWarning: Method 'bounded' does not support relative tolerance in x; defaulting to absolute tolerance.\n",
      "  warn(\"Method 'bounded' does not support relative tolerance in x; \"\n"
     ]
    },
    {
     "name": "stdout",
     "output_type": "stream",
     "text": [
      "0.1408715596097929\n",
      "threshold 0.1408715596097929\n"
     ]
    },
    {
     "name": "stderr",
     "output_type": "stream",
     "text": [
      "ic| label_current_deforestation_test_classified_incorrect.shape: (2481360,)\n",
      "    predicted_test_classified_incorrect.shape: (2481360,)\n",
      "ic| TP_H + FN_H + FP_H + TN_H: 2481360\n",
      "    len(label_mask_current_deforestation_test): 89527556\n",
      "ic| TP_H + FN_H + FP_H + TN_H: 2481360\n",
      "    len(label_mask_current_deforestation_test): 89527556\n"
     ]
    },
    {
     "name": "stdout",
     "output_type": "stream",
     "text": [
      "[0.58193799 0.70768919 0.64261496 0.02771616 0.12665209 0.34937009\n",
      " 0.1073588 ]\n",
      "0.22700792051372695\n",
      "threshold 0.22700792051372695\n"
     ]
    },
    {
     "name": "stderr",
     "output_type": "stream",
     "text": [
      "ic| label_current_deforestation_test_classified_incorrect.shape: (1531757,)\n",
      "    predicted_test_classified_incorrect.shape: (1531757,)\n",
      "ic| TP_H + FN_H + FP_H + TN_H: 1531757\n",
      "    len(label_mask_current_deforestation_test): 89527556\n",
      "ic| TP_H + FN_H + FP_H + TN_H: 1531757\n",
      "    len(label_mask_current_deforestation_test): 89527556\n"
     ]
    },
    {
     "name": "stdout",
     "output_type": "stream",
     "text": [
      "[0.5481624  0.70243267 0.65712138 0.01710934 0.11070939 0.27314026\n",
      " 0.09473116]\n",
      "0.08763636090393405\n",
      "threshold 0.08763636090393405\n"
     ]
    },
    {
     "name": "stderr",
     "output_type": "stream",
     "text": [
      "ic| label_current_deforestation_test_classified_incorrect.shape: (3388627,)\n",
      "    predicted_test_classified_incorrect.shape: (3388627,)\n",
      "ic| TP_H + FN_H + FP_H + TN_H: 3388627\n",
      "    len(label_mask_current_deforestation_test): 89527556\n",
      "ic| TP_H + FN_H + FP_H + TN_H: 3388627\n",
      "    len(label_mask_current_deforestation_test): 89527556\n"
     ]
    },
    {
     "name": "stdout",
     "output_type": "stream",
     "text": [
      "[0.60957014 0.71024586 0.63008429 0.0378501  0.13771493 0.39566317\n",
      " 0.10713317]\n",
      "0.14625369309662045\n",
      "threshold 0.14625369309662045\n"
     ]
    },
    {
     "name": "stderr",
     "output_type": "stream",
     "text": [
      "ic| label_current_deforestation_test_classified_incorrect.shape: (2410131,)\n",
      "    predicted_test_classified_incorrect.shape: (2410131,)\n",
      "ic| TP_H + FN_H + FP_H + TN_H: 2410131\n",
      "    len(label_mask_current_deforestation_test): 89527556\n",
      "ic| TP_H + FN_H + FP_H + TN_H: 2410131\n",
      "    len(label_mask_current_deforestation_test): 89527556\n"
     ]
    },
    {
     "name": "stdout",
     "output_type": "stream",
     "text": [
      "[0.57952996 0.70739246 0.64361466 0.02692055 0.12584308 0.34523417\n",
      " 0.10699799]\n",
      "0.12639620056438278\n",
      "threshold 0.12639620056438278\n"
     ]
    },
    {
     "name": "stderr",
     "output_type": "stream",
     "text": [
      "ic| label_current_deforestation_test_classified_incorrect.shape: (2686909,)\n",
      "    predicted_test_classified_incorrect.shape: (2686909,)\n",
      "ic| TP_H + FN_H + FP_H + TN_H: 2686909\n",
      "    len(label_mask_current_deforestation_test): 89527556\n",
      "ic| TP_H + FN_H + FP_H + TN_H: 2686909\n",
      "    len(label_mask_current_deforestation_test): 89527556\n"
     ]
    },
    {
     "name": "stdout",
     "output_type": "stream",
     "text": [
      "[0.58870291 0.70840122 0.63968757 0.03001209 0.12919694 0.36137839\n",
      " 0.10801844]\n",
      "0.11159125921258754\n",
      "threshold 0.11159125921258754\n"
     ]
    },
    {
     "name": "stderr",
     "output_type": "stream",
     "text": [
      "ic| label_current_deforestation_test_classified_incorrect.shape: (2922729,)\n",
      "    predicted_test_classified_incorrect.shape: (2922729,)\n",
      "ic| TP_H + FN_H + FP_H + TN_H: 2922729\n",
      "    len(label_mask_current_deforestation_test): 89527556\n",
      "ic| TP_H + FN_H + FP_H + TN_H: 2922729\n",
      "    len(label_mask_current_deforestation_test): 89527556\n"
     ]
    },
    {
     "name": "stdout",
     "output_type": "stream",
     "text": [
      "[0.59600914 0.70911633 0.63635802 0.03264614 0.13225279 0.37408424\n",
      " 0.10813572]\n",
      "0.12677238479630745\n",
      "threshold 0.12677238479630745\n"
     ]
    },
    {
     "name": "stderr",
     "output_type": "stream",
     "text": [
      "ic| label_current_deforestation_test_classified_incorrect.shape: (2681293,)\n",
      "    predicted_test_classified_incorrect.shape: (2681293,)\n",
      "ic| TP_H + FN_H + FP_H + TN_H: 2681293\n",
      "    len(label_mask_current_deforestation_test): 89527556\n",
      "ic| TP_H + FN_H + FP_H + TN_H: 2681293\n",
      "    len(label_mask_current_deforestation_test): 89527556\n"
     ]
    },
    {
     "name": "stdout",
     "output_type": "stream",
     "text": [
      "[0.58851824 0.7083885  0.63976312 0.02994936 0.12914187 0.36105684\n",
      " 0.10800908]\n",
      "0.12074121616944582\n",
      "threshold 0.12074121616944582\n"
     ]
    },
    {
     "name": "stderr",
     "output_type": "stream",
     "text": [
      "ic| label_current_deforestation_test_classified_incorrect.shape: (2773250,)\n",
      "    predicted_test_classified_incorrect.shape: (2773250,)\n",
      "ic| TP_H + FN_H + FP_H + TN_H: 2773250\n",
      "    len(label_mask_current_deforestation_test): 89527556\n",
      "ic| TP_H + FN_H + FP_H + TN_H: 2773250\n",
      "    len(label_mask_current_deforestation_test): 89527556\n"
     ]
    },
    {
     "name": "stdout",
     "output_type": "stream",
     "text": [
      "[0.59133367 0.70867202 0.63844595 0.0309765  0.13043967 0.36626031\n",
      " 0.10806725]\n",
      "0.1254523860519755\n",
      "threshold 0.1254523860519755\n"
     ]
    },
    {
     "name": "stderr",
     "output_type": "stream",
     "text": [
      "ic| label_current_deforestation_test_classified_incorrect.shape: (2701071,)\n",
      "    predicted_test_classified_incorrect.shape: (2701071,)\n",
      "ic| TP_H + FN_H + FP_H + TN_H: 2701071\n",
      "    len(label_mask_current_deforestation_test): 89527556\n",
      "ic| TP_H + FN_H + FP_H + TN_H: 2701071\n",
      "    len(label_mask_current_deforestation_test): 89527556\n"
     ]
    },
    {
     "name": "stdout",
     "output_type": "stream",
     "text": [
      "[0.58915426 0.70844912 0.63947618 0.03017028 0.12940788 0.36221546\n",
      " 0.10804816]\n",
      "0.12633386523764542\n",
      "threshold 0.12633386523764542\n"
     ]
    },
    {
     "name": "stderr",
     "output_type": "stream",
     "text": [
      "ic| label_current_deforestation_test_classified_incorrect.shape: (2687851,)\n",
      "    predicted_test_classified_incorrect.shape: (2687851,)\n",
      "ic| TP_H + FN_H + FP_H + TN_H: 2687851\n",
      "    len(label_mask_current_deforestation_test): 89527556\n",
      "ic| TP_H + FN_H + FP_H + TN_H: 2687851\n",
      "    len(label_mask_current_deforestation_test): 89527556\n"
     ]
    },
    {
     "name": "stdout",
     "output_type": "stream",
     "text": [
      "[0.58873352 0.70840528 0.63967231 0.03002261 0.12921394 0.36143621\n",
      " 0.10802186]\n",
      "0.12650146332990905\n",
      "threshold 0.12650146332990905\n"
     ]
    },
    {
     "name": "stderr",
     "output_type": "stream",
     "text": [
      "ic| label_current_deforestation_test_classified_incorrect.shape: (2685322,)\n",
      "    predicted_test_classified_incorrect.shape: (2685322,)\n",
      "ic| TP_H + FN_H + FP_H + TN_H: 2685322\n",
      "    len(label_mask_current_deforestation_test): 89527556\n",
      "ic| TP_H + FN_H + FP_H + TN_H: 2685322\n",
      "    len(label_mask_current_deforestation_test): 89527556\n"
     ]
    },
    {
     "name": "stdout",
     "output_type": "stream",
     "text": [
      "[0.58864708 0.70839664 0.63971047 0.02999436 0.12918014 0.36128448\n",
      " 0.10801192]\n",
      "0.1264681281202558\n",
      "threshold 0.1264681281202558\n"
     ]
    },
    {
     "name": "stderr",
     "output_type": "stream",
     "text": [
      "ic| label_current_deforestation_test_classified_incorrect.shape: (2685804,)\n",
      "    predicted_test_classified_incorrect.shape: (2685804,)\n",
      "ic| TP_H + FN_H + FP_H + TN_H: 2685804\n",
      "    len(label_mask_current_deforestation_test): 89527556\n",
      "ic| TP_H + FN_H + FP_H + TN_H: 2685804\n",
      "    len(label_mask_current_deforestation_test): 89527556\n"
     ]
    },
    {
     "name": "stdout",
     "output_type": "stream",
     "text": [
      "[0.58866213 0.70839826 0.63970436 0.02999975 0.12918448 0.36130764\n",
      " 0.10801223]\n",
      "0.12643479291109697\n",
      "threshold 0.12643479291109697\n"
     ]
    },
    {
     "name": "stderr",
     "output_type": "stream",
     "text": [
      "ic| label_current_deforestation_test_classified_incorrect.shape: (2686330,)\n",
      "    predicted_test_classified_incorrect.shape: (2686330,)\n",
      "ic| TP_H + FN_H + FP_H + TN_H: 2686330\n",
      "    len(label_mask_current_deforestation_test): 89527556\n",
      "ic| TP_H + FN_H + FP_H + TN_H: 2686330\n",
      "    len(label_mask_current_deforestation_test): 89527556\n",
      "ic| self.threshold_optimal: 0.1264681281202558\n"
     ]
    },
    {
     "name": "stdout",
     "output_type": "stream",
     "text": [
      "[0.588685   0.70839795 0.63969597 0.03000562 0.12918853 0.36135155\n",
      " 0.10801705]\n",
      "threshold:  0.1264681281202558\n",
      "threshold 0.1264681281202558\n"
     ]
    },
    {
     "name": "stderr",
     "output_type": "stream",
     "text": [
      "ic| label_current_deforestation_test_classified_incorrect.shape: (2685804,)\n",
      "    predicted_test_classified_incorrect.shape: (2685804,)\n",
      "ic| TP_H + FN_H + FP_H + TN_H: 2685804\n",
      "    len(label_mask_current_deforestation_test): 89527556\n",
      "ic| TP_H + FN_H + FP_H + TN_H: 2685804\n",
      "    len(label_mask_current_deforestation_test): 89527556\n"
     ]
    },
    {
     "name": "stdout",
     "output_type": "stream",
     "text": [
      "[0.58866213 0.70839826 0.63970436 0.02999975 0.12918448 0.36130764\n",
      " 0.10801223]\n",
      "threshold 0.1264681281202558\n",
      "(89527556,) (89527556,)\n"
     ]
    },
    {
     "name": "stderr",
     "output_type": "stream",
     "text": [
      "ic| self.m_optimal: {'AA': array([0.02999975]),\n",
      "                     'UEO': array([0.10801223]),\n",
      "                     'f1': 57.23,\n",
      "                     'f1_H': array([0.19032044]),\n",
      "                     'f1_L': array([0.64300357]),\n",
      "                     'precision_H': array([0.12918448]),\n",
      "                     'precision_L': array([0.58866213]),\n",
      "                     'recall_H': array([0.36130764]),\n",
      "                     'recall_L': array([0.70839826]),\n",
      "                     'recall_Ltotal': array([0.63970436])}\n",
      "ic| self.m_audited_optimal: {'f1': array([0.67470988]),\n",
      "                             'precision': array([0.62236022]),\n",
      "                             'recall': array([0.7366751])}\n"
     ]
    },
    {
     "name": "stdout",
     "output_type": "stream",
     "text": [
      "cm_audited [[87631423   585748]\n",
      " [  345057   965328]]\n",
      "[0.62236022 0.7366751 ]\n",
      "Result idx 9: {'uncertainty_result': {'metrics': {'precision_L': array([0.58866213]), 'recall_L': array([0.70839826]), 'recall_Ltotal': array([0.63970436]), 'AA': array([0.02999975]), 'precision_H': array([0.12918448]), 'recall_H': array([0.36130764]), 'UEO': array([0.10801223]), 'f1_L': array([0.64300357]), 'f1_H': array([0.19032044]), 'f1': 57.23}, 'metrics_audited': {'precision': array([0.62236022]), 'recall': array([0.7366751]), 'f1': array([0.67470988])}, 'exp': 27}}\n",
      "Grid execution idx: 9\n"
     ]
    }
   ],
   "source": [
    "if config['inferring'] == True:\n",
    "    results = []\n",
    "    error_count = 0\n",
    "\n",
    "    # while idx < len(repetition_n):\n",
    "    for idx in range(config['start_repetition_id'], repetition_n): # 10 repetitions\n",
    "    # for idx in range(0, 4): # 10 repetitions\n",
    "\n",
    "\n",
    "        print(\"Beginning run number {}\".format(idx))\n",
    "        logger = Logger()\n",
    "        manager = manager_class(config, dataset, patchesHandler, logger)\n",
    "\n",
    "        print(\"manager.config\", manager.config)\n",
    "\n",
    "        manager.defineExperiment(exp) # fixed\n",
    "        manager.defineRepetitionId(idx) # varying from 0 to 10\n",
    "        manager.setExperimentPath()\n",
    "        manager.createLogFolders()\n",
    "\n",
    "        manager.loadDataset()\n",
    "\n",
    "        # %%\n",
    "        if config['get_multiple_metrics'] == False:\n",
    "            predictor_fcn = manager.run_predictor\n",
    "        else:\n",
    "            predictor_fcn = manager.run_predictor_multiple_metrics\n",
    "        result = predictor_fcn()\n",
    "        print(\"Result idx {}: {}\".format(idx, result))\n",
    "        results.append(result)\n",
    "\n",
    "        with open(manager.default_log_name, 'wb') as f:\n",
    "            pickle.dump(results, f)\n",
    "        print(\"Grid execution idx: {}\".format(idx))\n",
    "        del manager\n",
    "        gc.collect()\n",
    "        # idx += 1\n",
    "    "
   ]
  },
  {
   "cell_type": "code",
   "execution_count": 15,
   "id": "f07bf7d7",
   "metadata": {},
   "outputs": [
    {
     "data": {
      "text/plain": [
       "0"
      ]
     },
     "execution_count": 15,
     "metadata": {},
     "output_type": "execute_result"
    }
   ],
   "source": [
    "error_count"
   ]
  },
  {
   "cell_type": "code",
   "execution_count": 16,
   "id": "64080745",
   "metadata": {},
   "outputs": [
    {
     "name": "stdout",
     "output_type": "stream",
     "text": [
      "[{'uncertainty_result': {'metrics': {'precision_L': array([0.54010115]), 'recall_L': array([0.6654695]), 'recall_Ltotal': array([0.57793953]), 'AA': array([0.03000071]), 'precision_H': array([0.12419713]), 'recall_H': array([0.31461637]), 'UEO': array([0.13498966]), 'f1_L': array([0.59626674]), 'f1_H': array([0.17809138]), 'f1': 51.54}, 'metrics_audited': {'precision': array([0.59044367]), 'recall': array([0.70947068]), 'f1': array([0.6445078])}, 'exp': 27}}, {'uncertainty_result': {'metrics': {'precision_L': array([0.67666562]), 'recall_L': array([0.68728453]), 'recall_Ltotal': array([0.5877494]), 'AA': array([0.02999857]), 'precision_H': array([0.2318683]), 'recall_H': array([0.43078782]), 'UEO': array([0.1111777]), 'f1_L': array([0.68193374]), 'f1_H': array([0.30147171]), 'f1': 60.83}, 'metrics_audited': {'precision': array([0.72287202]), 'recall': array([0.73257316]), 'f1': array([0.72769026])}, 'exp': 27}}, {'uncertainty_result': {'metrics': {'precision_L': array([0.78886503]), 'recall_L': array([0.67218027]), 'recall_Ltotal': array([0.56632343]), 'AA': array([0.0300069]), 'precision_H': array([0.24006535]), 'recall_H': array([0.48920123]), 'UEO': array([0.13067815]), 'f1_L': array([0.7258632]), 'f1_H': array([0.32207774]), 'f1': 63.11}, 'metrics_audited': {'precision': array([0.82684871]), 'recall': array([0.72380624]), 'f1': array([0.77190384])}, 'exp': 27}}, {'uncertainty_result': {'metrics': {'precision_L': array([0.59390424]), 'recall_L': array([0.73356027]), 'recall_Ltotal': array([0.63593943]), 'AA': array([0.03000071]), 'precision_H': array([0.14523285]), 'recall_H': array([0.40095953]), 'UEO': array([0.1452602]), 'f1_L': array([0.65638599]), 'f1_H': array([0.21323071]), 'f1': 56.54}, 'metrics_audited': {'precision': array([0.63879539]), 'recall': array([0.76901758]), 'f1': array([0.69788373])}, 'exp': 27}}, {'uncertainty_result': {'metrics': {'precision_L': array([0.71316481]), 'recall_L': array([0.67142678]), 'recall_Ltotal': array([0.59329143]), 'AA': array([0.02999772]), 'precision_H': array([0.18900278]), 'recall_H': array([0.43569318]), 'UEO': array([0.1097194]), 'f1_L': array([0.69166671]), 'f1_H': array([0.26363936]), 'f1': 61.33}, 'metrics_audited': {'precision': array([0.74836478]), 'recall': array([0.70966354]), 'f1': array([0.72850052])}, 'exp': 27}}, {'uncertainty_result': {'metrics': {'precision_L': array([0.60710227]), 'recall_L': array([0.76364655]), 'recall_Ltotal': array([0.65853963]), 'AA': array([0.03000007]), 'precision_H': array([0.16750003]), 'recall_H': array([0.43010323]), 'UEO': array([0.13887394]), 'f1_L': array([0.67643546]), 'f1_H': array([0.24110412]), 'f1': 58.88}, 'metrics_audited': {'precision': array([0.65134255]), 'recall': array([0.79617781]), 'f1': array([0.71651425])}, 'exp': 27}}, {'uncertainty_result': {'metrics': {'precision_L': array([0.74526519]), 'recall_L': array([0.66620057]), 'recall_Ltotal': array([0.57825789]), 'AA': array([0.02999312]), 'precision_H': array([0.23025156]), 'recall_H': array([0.46730471]), 'UEO': array([0.10888795]), 'f1_L': array([0.70351844]), 'f1_H': array([0.30849881]), 'f1': 62.62}, 'metrics_audited': {'precision': array([0.78230235]), 'recall': array([0.7102642]), 'f1': array([0.74454483])}, 'exp': 27}}, {'uncertainty_result': {'metrics': {'precision_L': array([0.61893634]), 'recall_L': array([0.73566036]), 'recall_Ltotal': array([0.65096971]), 'AA': array([0.0299964]), 'precision_H': array([0.15848866]), 'recall_H': array([0.45533887]), 'UEO': array([0.12714525]), 'f1_L': array([0.67226936]), 'f1_H': array([0.23513461]), 'f1': 59.05}, 'metrics_audited': {'precision': array([0.65653137]), 'recall': array([0.76609165]), 'f1': array([0.70709273])}, 'exp': 27}}, {'uncertainty_result': {'metrics': {'precision_L': array([0.74386343]), 'recall_L': array([0.6116776]), 'recall_Ltotal': array([0.54482488]), 'AA': array([0.0300005]), 'precision_H': array([0.15802744]), 'recall_H': array([0.35534934]), 'UEO': array([0.10738635]), 'f1_L': array([0.67132545]), 'f1_H': array([0.21876699]), 'f1': 59.01}, 'metrics_audited': {'precision': array([0.77712176]), 'recall': array([0.65411892]), 'f1': array([0.71033482])}, 'exp': 27}}, {'uncertainty_result': {'metrics': {'precision_L': array([0.58866213]), 'recall_L': array([0.70839826]), 'recall_Ltotal': array([0.63970436]), 'AA': array([0.02999975]), 'precision_H': array([0.12918448]), 'recall_H': array([0.36130764]), 'UEO': array([0.10801223]), 'f1_L': array([0.64300357]), 'f1_H': array([0.19032044]), 'f1': 57.23}, 'metrics_audited': {'precision': array([0.62236022]), 'recall': array([0.7366751]), 'f1': array([0.67470988])}, 'exp': 27}}]\n"
     ]
    }
   ],
   "source": [
    "print(results)"
   ]
  },
  {
   "cell_type": "code",
   "execution_count": 17,
   "id": "cd4f4d1d",
   "metadata": {},
   "outputs": [
    {
     "name": "stdout",
     "output_type": "stream",
     "text": [
      "10\n"
     ]
    }
   ],
   "source": [
    "print(len(results))"
   ]
  },
  {
   "cell_type": "code",
   "execution_count": 18,
   "id": "6cc43863",
   "metadata": {},
   "outputs": [
    {
     "data": {
      "text/plain": [
       "{'uncertainty_result': {'metrics': {'precision_L': array([0.61893634]),\n",
       "   'recall_L': array([0.73566036]),\n",
       "   'recall_Ltotal': array([0.65096971]),\n",
       "   'AA': array([0.0299964]),\n",
       "   'precision_H': array([0.15848866]),\n",
       "   'recall_H': array([0.45533887]),\n",
       "   'UEO': array([0.12714525]),\n",
       "   'f1_L': array([0.67226936]),\n",
       "   'f1_H': array([0.23513461]),\n",
       "   'f1': 59.05},\n",
       "  'metrics_audited': {'precision': array([0.65653137]),\n",
       "   'recall': array([0.76609165]),\n",
       "   'f1': array([0.70709273])},\n",
       "  'exp': 27}}"
      ]
     },
     "execution_count": 18,
     "metadata": {},
     "output_type": "execute_result"
    }
   ],
   "source": [
    "results[7]"
   ]
  },
  {
   "cell_type": "code",
   "execution_count": 19,
   "id": "4819ba4f",
   "metadata": {},
   "outputs": [
    {
     "ename": "NameError",
     "evalue": "name 'manager' is not defined",
     "output_type": "error",
     "traceback": [
      "\u001b[1;31m---------------------------------------------------------------------------\u001b[0m",
      "\u001b[1;31mNameError\u001b[0m                                 Traceback (most recent call last)",
      "\u001b[1;32md:\\Jorge\\deforestation_uncertainty\\run_multiple_experiments.ipynb Cell 19\u001b[0m in \u001b[0;36m<cell line: 1>\u001b[1;34m()\u001b[0m\n\u001b[1;32m----> <a href='vscode-notebook-cell:/d%3A/Jorge/deforestation_uncertainty/run_multiple_experiments.ipynb#X23sZmlsZQ%3D%3D?line=0'>1</a>\u001b[0m manager\u001b[39m.\u001b[39mf1\n",
      "\u001b[1;31mNameError\u001b[0m: name 'manager' is not defined"
     ]
    }
   ],
   "source": [
    "manager.f1"
   ]
  },
  {
   "cell_type": "code",
   "execution_count": null,
   "id": "13437081",
   "metadata": {},
   "outputs": [
    {
     "name": "stdout",
     "output_type": "stream",
     "text": [
      "54.34\n"
     ]
    }
   ],
   "source": [
    "print(manager.f1)"
   ]
  }
 ],
 "metadata": {
  "kernelspec": {
   "display_name": "Python 3.9.12 ('tf2')",
   "language": "python",
   "name": "python3"
  },
  "language_info": {
   "codemirror_mode": {
    "name": "ipython",
    "version": 3
   },
   "file_extension": ".py",
   "mimetype": "text/x-python",
   "name": "python",
   "nbconvert_exporter": "python",
   "pygments_lexer": "ipython3",
   "version": "3.9.12"
  },
  "vscode": {
   "interpreter": {
    "hash": "0593c6bd4eb743cc503a3c17025f83c5676f297db573750215a1bc8c88a990c4"
   }
  }
 },
 "nbformat": 4,
 "nbformat_minor": 5
}
