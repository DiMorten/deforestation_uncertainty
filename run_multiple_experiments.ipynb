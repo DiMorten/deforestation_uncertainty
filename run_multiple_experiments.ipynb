{
 "cells": [
  {
   "cell_type": "code",
   "execution_count": 1,
   "id": "dbd5b7cf",
   "metadata": {},
   "outputs": [],
   "source": [
    "import tracemalloc\n",
    "\n",
    "from utils_v1 import *\n",
    "import traceback\n"
   ]
  },
  {
   "cell_type": "code",
   "execution_count": 2,
   "id": "123e793c",
   "metadata": {},
   "outputs": [
    {
     "name": "stdout",
     "output_type": "stream",
     "text": [
      "Tensorflow ver. 2.6.0\n"
     ]
    }
   ],
   "source": [
    "from icecream import ic\n",
    "\n",
    "import numpy as np\n",
    "from src.dataset import (\n",
    "    MultipleDates, PAMultipleDates,\n",
    "    MTMultipleDates, MSMultipleDates, PIMultipleDates\n",
    ")\n",
    "\n",
    "# from src.dataset_legacy import MTDeforestationTime\n",
    "from src import training_generator as generator\n",
    "from src.patchesHandler import PatchesHandler, PatchesHandlerMultipleDates, PatchesHandlerEvidential2\n",
    "\n",
    "from src.manager.evidential import ManagerEvidential\n",
    "from src.manager.multioutput import ManagerMCDropout, ManagerSingleRun, ManagerEvidential2\n",
    "from mpl_toolkits.axes_grid1 import make_axes_locatable\n",
    "\n",
    "import cv2\n",
    "from src import metrics as _metric\n",
    "import json\n",
    "import pickle \n",
    "import src.manager.evidential as evidential\n",
    "from src.Logger import Logger\n",
    "import pdb\n"
   ]
  },
  {
   "cell_type": "code",
   "execution_count": 3,
   "id": "b7a6829f",
   "metadata": {},
   "outputs": [
    {
     "name": "stdout",
     "output_type": "stream",
     "text": [
      "Mode: evidential2. Site: PI. Training: False. Training date: earlier\n",
      "{'training': False, 'inferring': True, 'site': 'PI', 'training_date': 'earlier', 'mode': 'evidential2', 'training_times': 10, 'uncertainty_method': 'pred_entropy', 'loadInference': False, 'removePolygons': True, 'plotLandsat': False, 'plotPOI': False, 'training_experiment_id': 15, 'get_multiple_metrics': False, 'save_probabilities': False, 'addPastDeforestationInput': True, 'classes_mode': True, 'learning_rate': 0.0001, 'use_cloud_mask': False, 'log_filename': 'log_mcd_pi_earlier.pkl'}\n"
     ]
    }
   ],
   "source": [
    "\n",
    "with open('config/config.json', 'r') as f:\n",
    "    config = json.load(f)\n",
    "    \n",
    "print(\"Mode: {}. Site: {}. Training: {}. Training date: {}\".format(\n",
    "    config['mode'], config['site'], config['training'], config['training_date']))\n",
    "print(config)\n"
   ]
  },
  {
   "cell_type": "code",
   "execution_count": 4,
   "id": "603a5df7",
   "metadata": {},
   "outputs": [
    {
     "name": "stderr",
     "output_type": "stream",
     "text": [
      "ic| list(self.date_ids): [0]\n",
      "ic| self.image_channels: [[0, 1, 2, 3, 4, 5, 6, 7, 8]]\n",
      "ic| dates: [2018, 2019]\n",
      "ic| self.input_image_shape: 9\n",
      "ic| self.dataset.image_channels: [[0, 1, 2, 3, 4, 5, 6, 7, 8]]\n"
     ]
    }
   ],
   "source": [
    "\n",
    "if config['site'] == 'PA':\n",
    "\tif config['training_date'] == 'earlier':\n",
    "\t\tdates = [2017, 2018]\n",
    "\telse:\n",
    "\t\tdates = [2018, 2019]\n",
    "\tdatasetClass = PAMultipleDates\n",
    "elif config['site'] == 'MT':\n",
    "\tif config['training_date'] == 'earlier':\n",
    "\t\tdates = [2018, 2019]\n",
    "\telse:\n",
    "\t\tdates = [2019, 2020]\n",
    "\tdatasetClass = MTMultipleDates\n",
    "elif config['site'] == 'MS':\n",
    "\tif config['training_date'] == 'earlier':\n",
    "\t\tdates = [2018, 2019]\n",
    "\telse:\n",
    "\t\tdates = [2019, 2020]\n",
    "\tdatasetClass = MSMultipleDates\n",
    "elif config['site'] == 'PI':\n",
    "\tif config['training_date'] == 'earlier':\n",
    "\t\tdates = [2018, 2019]\n",
    "\telse:\n",
    "\t\tdates = [2019, 2020]\n",
    "\tdatasetClass = PIMultipleDates\n",
    "else:\n",
    "\traise ValueError('Invalid site')\n",
    "\n",
    "dataset = datasetClass(config = config,\n",
    "\t\t\t   dates = dates, \n",
    "\t \taddPastDeforestationInput = config['addPastDeforestationInput'],\n",
    "\t\tborderBuffer = 2)\t\n",
    "\n",
    "if config['mode'] == 'ensemble':\n",
    "\tif config['training'] == True:\n",
    "\t\tconfig['mode'] = 'single_run'\n",
    "\telse:\n",
    "\t\tsys.exit(\"Ensure that training is True for ensemble mode. Use infer_ensemble.ipynb for inference.\")\n",
    "\n",
    "if config['training'] == False:\n",
    "\tif config['site'] == 'PA':\n",
    "\t\tif config['mode'] == 'mcd' or config['mode'] == 'single_run': # MCD will do 10 inference on each of the 10 repetitions = 100 runs\n",
    "\t\t\tif config['training_date'] == 'current': exp = 0\n",
    "\t\t\telif config['training_date'] == 'earlier': exp = 1\n",
    "\t\t\t\t\n",
    "\t\tif config['mode'] == 'evidential2':\n",
    "\t\t\tif config['training_date'] == 'current': exp = 8; repetition_id = 0\n",
    "\t\t\telif config['training_date'] == 'earlier': exp = 9; repetition_id = 0\n",
    "\n",
    "\telif config['site'] == 'MT':\n",
    "\n",
    "\t\tif config['mode'] == 'mcd' or config['mode'] == 'single_run':\n",
    "\t\t\tif config['training_date'] == 'current': exp = 2\n",
    "\t\t\telif config['training_date'] == 'earlier': exp = 3\n",
    "\t\tif config['mode'] == 'evidential2':\n",
    "\t\t\tif config['training_date'] == 'current': exp = 10; repetition_id = 0\n",
    "\t\t\telif config['training_date'] == 'earlier': exp = 11; repetition_id = 0\n",
    "\n",
    "\telif config['site'] == 'MS':\n",
    "\n",
    "\t\tif config['mode'] == 'mcd' or config['mode'] == 'single_run':\n",
    "\t\t\tif config['training_date'] == 'current': exp = 4\n",
    "\t\t\telif config['training_date'] == 'earlier': exp = 5\n",
    "\t\tif config['mode'] == 'evidential2':\n",
    "\t\t\tif config['training_date'] == 'current': exp = 12; repetition_id = 0\n",
    "\t\t\telif config['training_date'] == 'earlier': exp = 13; repetition_id = 0\n",
    "\telif config['site'] == 'PI':\n",
    "\n",
    "\t\tif config['mode'] == 'mcd' or config['mode'] == 'single_run':\n",
    "\t\t\tif config['training_date'] == 'current': exp = 6\n",
    "\t\t\telif config['training_date'] == 'earlier': exp = 7\n",
    "\t\tif config['mode'] == 'evidential2':\n",
    "\t\t\tif config['training_date'] == 'current': exp = 14; repetition_id = 0\n",
    "\t\t\telif config['training_date'] == 'earlier': exp = 15; repetition_id = 0\n",
    "\n",
    "else:\n",
    "\texp = config['training_experiment_id']\n",
    "ic(dates)\n",
    "\n",
    "\n",
    "if issubclass(type(dataset), MultipleDates):\n",
    "\tpatchesHandler = PatchesHandlerMultipleDates(\n",
    "\t\tdataset)\n",
    "elif config['mode'] == 'evidential2':\n",
    "\tpatchesHandler = PatchesHandlerEvidential2()\n",
    "else:\n",
    "\tpatchesHandler = PatchesHandler()\n",
    "\n"
   ]
  },
  {
   "cell_type": "code",
   "execution_count": 5,
   "id": "1bb339c8",
   "metadata": {},
   "outputs": [],
   "source": [
    "\n",
    "\n",
    "if config['mode'] == 'evidential2':\n",
    "    config[\"inference_times\"] = 1\n",
    "    manager_class = ManagerEvidential2\n",
    "    config['uncertainty_method'] = \"pred_entropy\"\n",
    "    config['classes_mode'] = True\n",
    "    \n",
    "if config['mode'] == 'mcd':\n",
    "    config[\"inference_times\"] = 10\n",
    "    manager_class = ManagerMCDropout\n",
    "    config['uncertainty_method'] = \"pred_entropy\"\n",
    "    config['classes_mode'] = False\n",
    "\n",
    "elif config['mode'] == 'single_run':\n",
    "    config[\"inference_times\"] = 1\n",
    "    manager_class = ManagerSingleRun\n",
    "    config['uncertainty_method'] = \"pred_entropy_single\"\n",
    "    config['classes_mode'] = False\n",
    "\n"
   ]
  },
  {
   "cell_type": "code",
   "execution_count": 6,
   "id": "c7ae3a0c",
   "metadata": {},
   "outputs": [
    {
     "data": {
      "text/plain": [
       "15"
      ]
     },
     "execution_count": 6,
     "metadata": {},
     "output_type": "execute_result"
    }
   ],
   "source": [
    "exp"
   ]
  },
  {
   "cell_type": "code",
   "execution_count": 7,
   "id": "cfa1145d",
   "metadata": {},
   "outputs": [],
   "source": [
    "logger = Logger()\n"
   ]
  },
  {
   "cell_type": "code",
   "execution_count": 8,
   "id": "55da0bd1",
   "metadata": {},
   "outputs": [],
   "source": [
    "if config['training'] == True:\n",
    "    \n",
    "\n",
    "    manager = manager_class(config, dataset, patchesHandler, logger)\n",
    "    print(\"manager.config['dropout_training']\", manager.config['dropout_training'])\n",
    "    manager.defineExperiment(exp) # fixed\n",
    "    \n",
    "    manager.setExperimentPath()\n",
    "    manager.createLogFolders()\n",
    "\n",
    "    manager.loadDataset()\n",
    "\n",
    "    # %%\n",
    "    if config[\"training\"] == True:\n",
    "        manager.run()\n"
   ]
  },
  {
   "cell_type": "code",
   "execution_count": 9,
   "id": "a13e82bc",
   "metadata": {},
   "outputs": [
    {
     "name": "stderr",
     "output_type": "stream",
     "text": [
      "ic| list(self.date_ids): [0]\n",
      "ic| self.image_channels: [[0, 1, 2, 3, 4, 5, 6, 7, 8]]\n",
      "ic| dates: [2019, 2020]\n",
      "ic| self.input_image_shape: 9\n",
      "ic| self.dataset.image_channels: [[0, 1, 2, 3, 4, 5, 6, 7, 8]]\n"
     ]
    }
   ],
   "source": [
    "\n",
    "\n",
    "\n",
    "if config['site'] == 'PA':\n",
    "\tdates = [2018, 2019]\n",
    "\tdatasetClass = PAMultipleDates\n",
    "elif config['site'] == 'MT':\n",
    "\tdates = [2019, 2020]\n",
    "\tdatasetClass = MTMultipleDates\n",
    "elif config['site'] == 'MS':\n",
    "\tdates = [2019, 2020]\n",
    "\tdatasetClass = MSMultipleDates\n",
    "elif config['site'] == 'PI':\n",
    "\tdates = [2019, 2020]\n",
    "\tdatasetClass = PIMultipleDates\n",
    "else:\n",
    "\traise ValueError('Invalid site')\n",
    "\n",
    "dataset = datasetClass(config = config,\n",
    "\t\t\t   dates = dates, \n",
    "\t \taddPastDeforestationInput = config['addPastDeforestationInput'],\n",
    "\t\tborderBuffer = 2)\n",
    "\n",
    "\n",
    "ic(dates)\n",
    "\n",
    "if issubclass(type(dataset), MultipleDates):\n",
    "\tpatchesHandler = PatchesHandlerMultipleDates(\n",
    "\t\tdataset)\n",
    "elif config['mode'] == 'evidential2':\n",
    "\tpatchesHandler = PatchesHandlerEvidential2()\n",
    "else:\n",
    "\tpatchesHandler = PatchesHandler()\n"
   ]
  },
  {
   "cell_type": "code",
   "execution_count": 10,
   "id": "597049da",
   "metadata": {},
   "outputs": [
    {
     "data": {
      "text/plain": [
       "src.manager.multioutput.ManagerEvidential2"
      ]
     },
     "execution_count": 10,
     "metadata": {},
     "output_type": "execute_result"
    }
   ],
   "source": [
    "manager_class"
   ]
  },
  {
   "cell_type": "code",
   "execution_count": 11,
   "id": "82354e9e",
   "metadata": {},
   "outputs": [
    {
     "data": {
      "text/plain": [
       "15"
      ]
     },
     "execution_count": 11,
     "metadata": {},
     "output_type": "execute_result"
    }
   ],
   "source": [
    "exp"
   ]
  },
  {
   "cell_type": "code",
   "execution_count": 12,
   "id": "0e69f832",
   "metadata": {},
   "outputs": [
    {
     "name": "stdout",
     "output_type": "stream",
     "text": [
      "repetition_ids [0, 1, 2, 3, 4, 5, 6, 7, 8, 9], repetition_n 10\n"
     ]
    }
   ],
   "source": [
    "repetition_ids = manager_class(config, dataset, patchesHandler, logger).get_repetition_ids(exp)  \n",
    "repetition_n = len(repetition_ids)\n",
    "print(\"repetition_ids {}, repetition_n {}\".format(repetition_ids, repetition_n))\n"
   ]
  },
  {
   "cell_type": "code",
   "execution_count": 13,
   "id": "5997b986",
   "metadata": {},
   "outputs": [
    {
     "name": "stdout",
     "output_type": "stream",
     "text": [
      "Beginning run number 0\n",
      "manager.config {'training': False, 'inferring': True, 'site': 'PI', 'training_date': 'earlier', 'mode': 'evidential2', 'training_times': 10, 'uncertainty_method': 'pred_entropy', 'loadInference': False, 'removePolygons': True, 'plotLandsat': False, 'plotPOI': False, 'training_experiment_id': 15, 'get_multiple_metrics': False, 'save_probabilities': False, 'addPastDeforestationInput': True, 'classes_mode': True, 'learning_rate': 0.0001, 'use_cloud_mask': False, 'log_filename': 'log_mcd_pi_earlier.pkl', 'inference_times': 1, 'dropout_training': False}\n",
      "D:/Jorge/datasets/deforestation/PI/deforestation_past_years.tif\n",
      "Loaded deforestation past years\n"
     ]
    },
    {
     "name": "stderr",
     "output_type": "stream",
     "text": [
      "ic| np.unique(deforestation_past_years, return_counts=True): (array([   0, 2002, 2004, 2006, 2008, 2010, 2012, 2013, 2014, 2015, 2016,\n",
      "                                                                    2017, 2018, 2019, 2020, 2021], dtype=uint16),\n",
      "                                                              array([340580606,   4312043,   6953620,   5659916,   7162776,   6261432,\n",
      "                                                                      8191420,   3233962,   3270293,   3044419,   1817289,   2359424,\n",
      "                                                                      2201926,   3050229,   2901307,   2418575], dtype=int64))\n"
     ]
    },
    {
     "name": "stdout",
     "output_type": "stream",
     "text": [
      "Label where deforestation past years is actual date (2020) = 1\n"
     ]
    },
    {
     "name": "stderr",
     "output_type": "stream",
     "text": [
      "ic| np.unique(deforestation_past_years, return_counts=True): (array([   0, 2002, 2004, 2006, 2008, 2010, 2012, 2013, 2014, 2015, 2016,\n",
      "                                                                    2017, 2018, 2019, 2020, 2021], dtype=uint16),\n",
      "                                                              array([340580606,   4312043,   6953620,   5659916,   7162776,   6261432,\n",
      "                                                                      8191420,   3233962,   3270293,   3044419,   1817289,   2359424,\n",
      "                                                                      2201926,   3050229,   2901307,   2418575], dtype=int64))\n"
     ]
    },
    {
     "name": "stdout",
     "output_type": "stream",
     "text": [
      "Past deforestation different from 0 (no deforestation)\n"
     ]
    },
    {
     "name": "stderr",
     "output_type": "stream",
     "text": [
      "ic| np.unique(deforestation_past_years, return_counts=True): (array([   0, 2002, 2004, 2006, 2008, 2010, 2012, 2013, 2014, 2015, 2016,\n",
      "                                                                    2017, 2018, 2019, 2020, 2021], dtype=uint16),\n",
      "                                                              array([340580606,   4312043,   6953620,   5659916,   7162776,   6261432,\n",
      "                                                                      8191420,   3233962,   3270293,   3044419,   1817289,   2359424,\n",
      "                                                                      2201926,   3050229,   2901307,   2418575], dtype=int64))\n"
     ]
    },
    {
     "name": "stdout",
     "output_type": "stream",
     "text": [
      "Past deforestation before 2008 is 2\n",
      "D:/Jorge/datasets/deforestation/PI/deforestation_before_2000_PI.tif\n"
     ]
    },
    {
     "name": "stderr",
     "output_type": "stream",
     "text": [
      "ic| np.unique(label_past_deforestation_before_2008, return_counts=True): (array([  0, 208], dtype=uint8), array([385251297,  18167940], dtype=int64))\n",
      "ic| np.unique(deforestation_past_years, return_counts=True): (array([   0, 2002, 2004, 2006, 2008, 2010, 2012, 2013, 2014, 2015, 2016,\n",
      "                                                                    2017, 2018, 2019, 2020, 2021], dtype=uint16),\n",
      "                                                              array([340580606,   4312043,   6953620,   5659916,   7162776,   6261432,\n",
      "                                                                      8191420,   3233962,   3270293,   3044419,   1817289,   2359424,\n",
      "                                                                      2201926,   3050229,   2901307,   2418575], dtype=int64))\n",
      "ic| label_per_date.shape: (19357, 20841, 1)\n"
     ]
    },
    {
     "name": "stdout",
     "output_type": "stream",
     "text": [
      "Removing bufer................\n",
      "Mask label shape:  \n",
      " (19357, 20841, 1) \n",
      " Unique values:  \n",
      " [0 1 2]\n",
      "Tiles size:  3871 4168\n",
      "Mask size:  (19355, 20840)\n"
     ]
    },
    {
     "name": "stderr",
     "output_type": "stream",
     "text": [
      "ic| image_stack.shape: (19357, 20841, 9)\n"
     ]
    },
    {
     "name": "stdout",
     "output_type": "stream",
     "text": [
      "Image shape:  (19357, 20841, 9)\n",
      "mask:  (19355, 20840)\n",
      "image stack:  (19355, 20840, 9)\n",
      "ref : (19355, 20840, 1)\n",
      "Training tiles:  [2, 4, 5, 6, 7, 12, 14, 15, 18, 21, 23, 25]\n",
      "Validation tiles:  [9, 11, 24]\n",
      "Test tiles:  [1, 3, 8, 10, 13, 16, 17, 19, 20, 22]\n",
      "-5.0 -24.0\n"
     ]
    },
    {
     "name": "stderr",
     "output_type": "stream",
     "text": [
      "ic| self.path_models+ '/' + self.method +'_'+str(self.repetition_id)+'.h5': 'D:/Jorge/datasets/deforestation/experiments/PI/exp15/models/resunet_0.h5'\n"
     ]
    },
    {
     "name": "stdout",
     "output_type": "stream",
     "text": [
      "Dropout training mode: False\n",
      "time:  0\n",
      "alpha.shape (19360, 20864, 2)\n",
      "S.shape (19360, 20864)\n",
      "K 2\n",
      "u.shape (19360, 20864)\n",
      "belief.shape (19360, 20864, 2)\n",
      "(122722628,)\n",
      "(array([0, 1], dtype=uint8), array([121393418,   1329210], dtype=int64))\n",
      "(19355, 20840, 2)\n"
     ]
    },
    {
     "name": "stderr",
     "output_type": "stream",
     "text": [
      "ic| predicted_test.shape: (161343280,)\n",
      "ic| predicted_test.shape: (122722628,)\n",
      "ic| np.unique(predicted, return_counts=True): (array([0, 1], dtype=int8), array([397329670,   6028530], dtype=int64))\n",
      "    np.unique(predicted_larger_than_min_area, return_counts=True): (array([0, 1], dtype=int8), array([397796104,   5562096], dtype=int64))\n",
      "ic| np.unique(ignored_polygons, return_counts=True): (array([0, 1], dtype=int8), array([402891766,    466434], dtype=int64))\n",
      "ic| self.f1: 53.06, self.precision: 44.83, self.recall: 64.99\n",
      "ic| self.label_mask_val.shape: (48402984,)\n",
      "ic| self.label_mask_val_valid.shape: (42320690,)\n",
      "ic| f1_val: 21.01\n",
      "    precision_val: 13.27\n",
      "    recall_val: 50.44\n",
      "    mAP_val: 25.98\n"
     ]
    },
    {
     "name": "stdout",
     "output_type": "stream",
     "text": [
      "(array([0, 1], dtype=int16), array([398435994,   4922206], dtype=int64))\n",
      "[0 1]\n"
     ]
    },
    {
     "name": "stderr",
     "output_type": "stream",
     "text": [
      "ic| self.label_mask.shape: (19355, 20840)\n",
      "ic| self.mask_amazon_ts.shape: (19355, 20840)\n",
      "ic| self.label_mask_test.shape: (161343280,)\n",
      "ic| self.error_mask_test.shape: (122562412,)\n",
      "ic| bounds: (0.0015907875000848435, 0.4985)\n",
      "c:\\Users\\jchamorro\\Anaconda3\\envs\\tf2\\lib\\site-packages\\scipy\\optimize\\_minimize.py:783: RuntimeWarning: Method 'bounded' does not support relative tolerance in x; defaulting to absolute tolerance.\n",
      "  warn(\"Method 'bounded' does not support relative tolerance in x; \"\n"
     ]
    },
    {
     "name": "stdout",
     "output_type": "stream",
     "text": [
      "0.1913932173521083\n",
      "threshold 0.1913932173521083\n"
     ]
    },
    {
     "name": "stderr",
     "output_type": "stream",
     "text": [
      "ic| label_current_deforestation_test_classified_incorrect.shape: (6866221,)\n",
      "    predicted_test_classified_incorrect.shape: (6866221,)\n",
      "ic| TP_H + FN_H + FP_H + TN_H: 6866221\n",
      "    len(label_mask_current_deforestation_test): 122562412\n",
      "ic| TP_H + FN_H + FP_H + TN_H: 6866221\n",
      "    len(label_mask_current_deforestation_test): 122562412\n"
     ]
    },
    {
     "name": "stdout",
     "output_type": "stream",
     "text": [
      "[0.63872116 0.70392319 0.57798107 0.05602224 0.13201103 0.40201183\n",
      " 0.09983981]\n",
      "0.3086975701479765\n",
      "threshold 0.3086975701479765\n"
     ]
    },
    {
     "name": "stderr",
     "output_type": "stream",
     "text": [
      "ic| label_current_deforestation_test_classified_incorrect.shape: (4542166,)\n",
      "    predicted_test_classified_incorrect.shape: (4542166,)\n",
      "ic| TP_H + FN_H + FP_H + TN_H: 4542166\n",
      "    len(label_mask_current_deforestation_test): 122562412\n",
      "ic| TP_H + FN_H + FP_H + TN_H: 4542166\n",
      "    len(label_mask_current_deforestation_test): 122562412\n"
     ]
    },
    {
     "name": "stdout",
     "output_type": "stream",
     "text": [
      "[0.5632294  0.70146712 0.60756099 0.03706002 0.11412727 0.31631827\n",
      " 0.10017104]\n",
      "0.3811956472041318\n",
      "threshold 0.3811956472041318\n"
     ]
    },
    {
     "name": "stderr",
     "output_type": "stream",
     "text": [
      "ic| label_current_deforestation_test_classified_incorrect.shape: (3459753,)\n",
      "    predicted_test_classified_incorrect.shape: (3459753,)\n",
      "ic| TP_H + FN_H + FP_H + TN_H: 3459753\n",
      "    len(label_mask_current_deforestation_test): 122562412\n",
      "ic| TP_H + FN_H + FP_H + TN_H: 3459753\n",
      "    len(label_mask_current_deforestation_test): 122562412\n"
     ]
    },
    {
     "name": "stdout",
     "output_type": "stream",
     "text": [
      "[0.52329756 0.69902686 0.62266451 0.0282285  0.10483298 0.24937844\n",
      " 0.09054269]\n",
      "0.42299128417748205\n",
      "threshold 0.42299128417748205\n"
     ]
    },
    {
     "name": "stderr",
     "output_type": "stream",
     "text": [
      "ic| label_current_deforestation_test_classified_incorrect.shape: (2941294,)\n",
      "    predicted_test_classified_incorrect.shape: (2941294,)\n",
      "ic| TP_H + FN_H + FP_H + TN_H: 2941294\n",
      "    len(label_mask_current_deforestation_test): 122562412\n",
      "ic| TP_H + FN_H + FP_H + TN_H: 2941294\n",
      "    len(label_mask_current_deforestation_test): 122562412\n"
     ]
    },
    {
     "name": "stdout",
     "output_type": "stream",
     "text": [
      "[0.50043354 0.69763442 0.63097042 0.02399834 0.10024434 0.19816849\n",
      " 0.07834826]\n",
      "0.3688829399806771\n",
      "threshold 0.3688829399806771\n"
     ]
    },
    {
     "name": "stderr",
     "output_type": "stream",
     "text": [
      "ic| label_current_deforestation_test_classified_incorrect.shape: (3626616,)\n",
      "    predicted_test_classified_incorrect.shape: (3626616,)\n",
      "ic| TP_H + FN_H + FP_H + TN_H: 3626616\n",
      "    len(label_mask_current_deforestation_test): 122562412\n",
      "ic| TP_H + FN_H + FP_H + TN_H: 3626616\n",
      "    len(label_mask_current_deforestation_test): 122562412\n"
     ]
    },
    {
     "name": "stdout",
     "output_type": "stream",
     "text": [
      "[0.53001548 0.69945928 0.6202636  0.02958995 0.10606731 0.26181027\n",
      " 0.09304544]\n",
      "0.3458941743300681\n",
      "threshold 0.3458941743300681\n"
     ]
    },
    {
     "name": "stderr",
     "output_type": "stream",
     "text": [
      "ic| label_current_deforestation_test_classified_incorrect.shape: (3957433,)\n",
      "    predicted_test_classified_incorrect.shape: (3957433,)\n",
      "ic| TP_H + FN_H + FP_H + TN_H: 3957433\n",
      "    len(label_mask_current_deforestation_test): 122562412\n",
      "ic| TP_H + FN_H + FP_H + TN_H: 3957433\n",
      "    len(label_mask_current_deforestation_test): 122562412\n"
     ]
    },
    {
     "name": "stdout",
     "output_type": "stream",
     "text": [
      "[0.54250687 0.7003132  0.61565557 0.03228912 0.10876333 0.2833368\n",
      " 0.09661069]\n",
      "0.3648907039077019\n",
      "threshold 0.3648907039077019\n"
     ]
    },
    {
     "name": "stderr",
     "output_type": "stream",
     "text": [
      "ic| label_current_deforestation_test_classified_incorrect.shape: (3682644,)\n",
      "    predicted_test_classified_incorrect.shape: (3682644,)\n",
      "ic| TP_H + FN_H + FP_H + TN_H: 3682644\n",
      "    len(label_mask_current_deforestation_test): 122562412\n",
      "ic| TP_H + FN_H + FP_H + TN_H: 3682644\n",
      "    len(label_mask_current_deforestation_test): 122562412\n"
     ]
    },
    {
     "name": "stdout",
     "output_type": "stream",
     "text": [
      "[0.53217836 0.69959754 0.61946712 0.03004709 0.1065337  0.26576124\n",
      " 0.09375047]\n",
      "0.35763467527733844\n",
      "threshold 0.35763467527733844\n"
     ]
    },
    {
     "name": "stderr",
     "output_type": "stream",
     "text": [
      "ic| label_current_deforestation_test_classified_incorrect.shape: (3785267,)\n",
      "    predicted_test_classified_incorrect.shape: (3785267,)\n",
      "ic| TP_H + FN_H + FP_H + TN_H: 3785267\n",
      "    len(label_mask_current_deforestation_test): 122562412\n",
      "ic| TP_H + FN_H + FP_H + TN_H: 3785267\n",
      "    len(label_mask_current_deforestation_test): 122562412\n"
     ]
    },
    {
     "name": "stdout",
     "output_type": "stream",
     "text": [
      "[0.5360803  0.69986107 0.61800841 0.0308844  0.10743027 0.27273973\n",
      " 0.09493179]\n",
      "0.36440842418963904\n",
      "threshold 0.36440842418963904\n"
     ]
    },
    {
     "name": "stderr",
     "output_type": "stream",
     "text": [
      "ic| label_current_deforestation_test_classified_incorrect.shape: (3689450,)\n",
      "    predicted_test_classified_incorrect.shape: (3689450,)\n",
      "ic| TP_H + FN_H + FP_H + TN_H: 3689450\n",
      "    len(label_mask_current_deforestation_test): 122562412\n",
      "ic| TP_H + FN_H + FP_H + TN_H: 3689450\n",
      "    len(label_mask_current_deforestation_test): 122562412\n"
     ]
    },
    {
     "name": "stdout",
     "output_type": "stream",
     "text": [
      "[0.53243889 0.69961841 0.61936336 0.03010262 0.1066116  0.26626097\n",
      " 0.09383694]\n",
      "0.36589971506479535\n",
      "threshold 0.36589971506479535\n"
     ]
    },
    {
     "name": "stderr",
     "output_type": "stream",
     "text": [
      "ic| label_current_deforestation_test_classified_incorrect.shape: (3668408,)\n",
      "    predicted_test_classified_incorrect.shape: (3668408,)\n",
      "ic| TP_H + FN_H + FP_H + TN_H: 3668408\n",
      "    len(label_mask_current_deforestation_test): 122562412\n",
      "ic| TP_H + FN_H + FP_H + TN_H: 3668408\n",
      "    len(label_mask_current_deforestation_test): 122562412\n"
     ]
    },
    {
     "name": "stdout",
     "output_type": "stream",
     "text": [
      "[0.53162866 0.69955937 0.61967616 0.02993094 0.10639669 0.2647385\n",
      " 0.09357027]\n",
      "0.36527611187468373\n",
      "threshold 0.36527611187468373\n"
     ]
    },
    {
     "name": "stderr",
     "output_type": "stream",
     "text": [
      "ic| label_current_deforestation_test_classified_incorrect.shape: (3677189,)\n",
      "    predicted_test_classified_incorrect.shape: (3677189,)\n",
      "ic| TP_H + FN_H + FP_H + TN_H: 3677189\n",
      "    len(label_mask_current_deforestation_test): 122562412\n",
      "ic| TP_H + FN_H + FP_H + TN_H: 3677189\n",
      "    len(label_mask_current_deforestation_test): 122562412\n"
     ]
    },
    {
     "name": "stdout",
     "output_type": "stream",
     "text": [
      "[0.53197088 0.69958142 0.61955638 0.03000258 0.10645295 0.26532477\n",
      " 0.09367954]\n",
      "0.3653457462087763\n",
      "threshold 0.3653457462087763\n"
     ]
    },
    {
     "name": "stderr",
     "output_type": "stream",
     "text": [
      "ic| label_current_deforestation_test_classified_incorrect.shape: (3676243,)\n",
      "    predicted_test_classified_incorrect.shape: (3676243,)\n",
      "ic| TP_H + FN_H + FP_H + TN_H: 3676243\n",
      "    len(label_mask_current_deforestation_test): 122562412\n",
      "ic| TP_H + FN_H + FP_H + TN_H: 3676243\n",
      "    len(label_mask_current_deforestation_test): 122562412\n"
     ]
    },
    {
     "name": "stdout",
     "output_type": "stream",
     "text": [
      "[0.53194086 0.69957824 0.61957011 0.02999486 0.10643896 0.26525956\n",
      " 0.0936717 ]\n",
      "0.3652427731234301\n",
      "threshold 0.3652427731234301\n"
     ]
    },
    {
     "name": "stderr",
     "output_type": "stream",
     "text": [
      "ic| label_current_deforestation_test_classified_incorrect.shape: (3677666,)\n",
      "    predicted_test_classified_incorrect.shape: (3677666,)\n",
      "ic| TP_H + FN_H + FP_H + TN_H: 3677666\n",
      "    len(label_mask_current_deforestation_test): 122562412\n",
      "ic| TP_H + FN_H + FP_H + TN_H: 3677666\n",
      "    len(label_mask_current_deforestation_test): 122562412\n"
     ]
    },
    {
     "name": "stdout",
     "output_type": "stream",
     "text": [
      "[0.53198794 0.69958537 0.61955027 0.03000648 0.10645613 0.26534627\n",
      " 0.09368534]\n",
      "0.36530945062593734\n",
      "threshold 0.36530945062593734\n"
     ]
    },
    {
     "name": "stderr",
     "output_type": "stream",
     "text": [
      "ic| label_current_deforestation_test_classified_incorrect.shape: (3676738,)\n",
      "    predicted_test_classified_incorrect.shape: (3676738,)\n",
      "ic| TP_H + FN_H + FP_H + TN_H: 3676738\n",
      "    len(label_mask_current_deforestation_test): 122562412\n",
      "ic| TP_H + FN_H + FP_H + TN_H: 3676738\n",
      "    len(label_mask_current_deforestation_test): 122562412\n",
      "ic| self.threshold_optimal: 0.36530945062593734\n"
     ]
    },
    {
     "name": "stdout",
     "output_type": "stream",
     "text": [
      "[0.53195804 0.69958021 0.61956172 0.0299989  0.10644846 0.26529932\n",
      " 0.09367737]\n",
      "threshold:  0.36530945062593734\n",
      "threshold 0.36530945062593734\n"
     ]
    },
    {
     "name": "stderr",
     "output_type": "stream",
     "text": [
      "ic| label_current_deforestation_test_classified_incorrect.shape: (3676738,)\n",
      "    predicted_test_classified_incorrect.shape: (3676738,)\n",
      "ic| TP_H + FN_H + FP_H + TN_H: 3676738\n",
      "    len(label_mask_current_deforestation_test): 122562412\n",
      "ic| TP_H + FN_H + FP_H + TN_H: 3676738\n",
      "    len(label_mask_current_deforestation_test): 122562412\n"
     ]
    },
    {
     "name": "stdout",
     "output_type": "stream",
     "text": [
      "[0.53195804 0.69958021 0.61956172 0.0299989  0.10644846 0.26529932\n",
      " 0.09367737]\n",
      "threshold 0.36530945062593734\n",
      "(122562412,) (122562412,)\n"
     ]
    },
    {
     "name": "stderr",
     "output_type": "stream",
     "text": [
      "ic| self.m_optimal: {'AA': array([0.0299989]),\n",
      "                     'UEO': array([0.09367737]),\n",
      "                     'f1': 53.06,\n",
      "                     'f1_H': array([0.15193476]),\n",
      "                     'f1_L': array([0.60436177]),\n",
      "                     'precision_H': array([0.10644846]),\n",
      "                     'precision_L': array([0.53195804]),\n",
      "                     'recall_H': array([0.26529932]),\n",
      "                     'recall_L': array([0.69958021]),\n",
      "                     'recall_Ltotal': array([0.61956172])}\n",
      "ic| self.m_audited_optimal: {'f1': array([0.64407406]),\n",
      "                             'precision': array([0.57381291]),\n",
      "                             'recall': array([0.73394245])}\n"
     ]
    },
    {
     "name": "stdout",
     "output_type": "stream",
     "text": [
      "cm_audited [[120537140    714518]\n",
      " [   348736    962018]]\n",
      "[0.57381291 0.73394245]\n",
      "Result idx 0: {'uncertainty_result': {'metrics': {'precision_L': array([0.53195804]), 'recall_L': array([0.69958021]), 'recall_Ltotal': array([0.61956172]), 'AA': array([0.0299989]), 'precision_H': array([0.10644846]), 'recall_H': array([0.26529932]), 'UEO': array([0.09367737]), 'f1_L': array([0.60436177]), 'f1_H': array([0.15193476]), 'f1': 53.06}, 'metrics_audited': {'precision': array([0.57381291]), 'recall': array([0.73394245]), 'f1': array([0.64407406])}, 'exp': 15}}\n",
      "Grid execution idx: 0\n",
      "Beginning run number 1\n",
      "manager.config {'training': False, 'inferring': True, 'site': 'PI', 'training_date': 'earlier', 'mode': 'evidential2', 'training_times': 10, 'uncertainty_method': 'pred_entropy', 'loadInference': False, 'removePolygons': True, 'plotLandsat': False, 'plotPOI': False, 'training_experiment_id': 15, 'get_multiple_metrics': False, 'save_probabilities': False, 'addPastDeforestationInput': True, 'classes_mode': True, 'learning_rate': 0.0001, 'use_cloud_mask': False, 'log_filename': 'log_mcd_pi_earlier.pkl', 'inference_times': 1, 'dropout_training': False}\n",
      "D:/Jorge/datasets/deforestation/PI/deforestation_past_years.tif\n",
      "Loaded deforestation past years\n"
     ]
    },
    {
     "name": "stderr",
     "output_type": "stream",
     "text": [
      "ic| np.unique(deforestation_past_years, return_counts=True): (array([   0, 2002, 2004, 2006, 2008, 2010, 2012, 2013, 2014, 2015, 2016,\n",
      "                                                                    2017, 2018, 2019, 2020, 2021], dtype=uint16),\n",
      "                                                              array([340580606,   4312043,   6953620,   5659916,   7162776,   6261432,\n",
      "                                                                      8191420,   3233962,   3270293,   3044419,   1817289,   2359424,\n",
      "                                                                      2201926,   3050229,   2901307,   2418575], dtype=int64))\n"
     ]
    },
    {
     "name": "stdout",
     "output_type": "stream",
     "text": [
      "Label where deforestation past years is actual date (2020) = 1\n"
     ]
    },
    {
     "name": "stderr",
     "output_type": "stream",
     "text": [
      "ic| np.unique(deforestation_past_years, return_counts=True): (array([   0, 2002, 2004, 2006, 2008, 2010, 2012, 2013, 2014, 2015, 2016,\n",
      "                                                                    2017, 2018, 2019, 2020, 2021], dtype=uint16),\n",
      "                                                              array([340580606,   4312043,   6953620,   5659916,   7162776,   6261432,\n",
      "                                                                      8191420,   3233962,   3270293,   3044419,   1817289,   2359424,\n",
      "                                                                      2201926,   3050229,   2901307,   2418575], dtype=int64))\n"
     ]
    },
    {
     "name": "stdout",
     "output_type": "stream",
     "text": [
      "Past deforestation different from 0 (no deforestation)\n"
     ]
    },
    {
     "name": "stderr",
     "output_type": "stream",
     "text": [
      "ic| np.unique(deforestation_past_years, return_counts=True): (array([   0, 2002, 2004, 2006, 2008, 2010, 2012, 2013, 2014, 2015, 2016,\n",
      "                                                                    2017, 2018, 2019, 2020, 2021], dtype=uint16),\n",
      "                                                              array([340580606,   4312043,   6953620,   5659916,   7162776,   6261432,\n",
      "                                                                      8191420,   3233962,   3270293,   3044419,   1817289,   2359424,\n",
      "                                                                      2201926,   3050229,   2901307,   2418575], dtype=int64))\n"
     ]
    },
    {
     "name": "stdout",
     "output_type": "stream",
     "text": [
      "Past deforestation before 2008 is 2\n",
      "D:/Jorge/datasets/deforestation/PI/deforestation_before_2000_PI.tif\n"
     ]
    },
    {
     "name": "stderr",
     "output_type": "stream",
     "text": [
      "ic| np.unique(label_past_deforestation_before_2008, return_counts=True): (array([  0, 208], dtype=uint8), array([385251297,  18167940], dtype=int64))\n",
      "ic| np.unique(deforestation_past_years, return_counts=True): (array([   0, 2002, 2004, 2006, 2008, 2010, 2012, 2013, 2014, 2015, 2016,\n",
      "                                                                    2017, 2018, 2019, 2020, 2021], dtype=uint16),\n",
      "                                                              array([340580606,   4312043,   6953620,   5659916,   7162776,   6261432,\n",
      "                                                                      8191420,   3233962,   3270293,   3044419,   1817289,   2359424,\n",
      "                                                                      2201926,   3050229,   2901307,   2418575], dtype=int64))\n",
      "ic| label_per_date.shape: (19357, 20841, 1)\n"
     ]
    },
    {
     "name": "stdout",
     "output_type": "stream",
     "text": [
      "Removing bufer................\n",
      "Mask label shape:  \n",
      " (19357, 20841, 1) \n",
      " Unique values:  \n",
      " [0 1 2]\n",
      "Tiles size:  3871 4168\n",
      "Mask size:  (19355, 20840)\n"
     ]
    },
    {
     "name": "stderr",
     "output_type": "stream",
     "text": [
      "ic| image_stack.shape: (19357, 20841, 9)\n"
     ]
    },
    {
     "name": "stdout",
     "output_type": "stream",
     "text": [
      "Image shape:  (19357, 20841, 9)\n",
      "mask:  (19355, 20840)\n",
      "image stack:  (19355, 20840, 9)\n",
      "ref : (19355, 20840, 1)\n",
      "Training tiles:  [2, 4, 5, 6, 7, 12, 14, 15, 18, 21, 23, 25]\n",
      "Validation tiles:  [9, 11, 24]\n",
      "Test tiles:  [1, 3, 8, 10, 13, 16, 17, 19, 20, 22]\n",
      "-5.0 -24.0\n"
     ]
    },
    {
     "name": "stderr",
     "output_type": "stream",
     "text": [
      "ic| self.path_models+ '/' + self.method +'_'+str(self.repetition_id)+'.h5': 'D:/Jorge/datasets/deforestation/experiments/PI/exp15/models/resunet_1.h5'\n"
     ]
    },
    {
     "name": "stdout",
     "output_type": "stream",
     "text": [
      "Dropout training mode: False\n",
      "time:  0\n",
      "alpha.shape (19360, 20864, 2)\n",
      "S.shape (19360, 20864)\n",
      "K 2\n",
      "u.shape (19360, 20864)\n",
      "belief.shape (19360, 20864, 2)\n",
      "(122722628,)\n",
      "(array([0, 1], dtype=uint8), array([121393418,   1329210], dtype=int64))\n",
      "(19355, 20840, 2)\n"
     ]
    },
    {
     "name": "stderr",
     "output_type": "stream",
     "text": [
      "ic| predicted_test.shape: (161343280,)\n",
      "ic| predicted_test.shape: (122722628,)\n",
      "ic| np.unique(predicted, return_counts=True): (array([0, 1], dtype=int8), array([395418698,   7939502], dtype=int64))\n",
      "    np.unique(predicted_larger_than_min_area, return_counts=True): (array([0, 1], dtype=int8), array([395874772,   7483428], dtype=int64))\n",
      "ic| np.unique(ignored_polygons, return_counts=True): (array([0, 1], dtype=int8), array([402902126,    456074], dtype=int64))\n",
      "ic| self.f1: 45.57, self.precision: 36.04, self.recall: 61.93\n",
      "ic| self.label_mask_val.shape: (48402984,)\n",
      "ic| self.label_mask_val_valid.shape: (42323804,)\n",
      "ic| f1_val: 17.04\n",
      "    precision_val: 10.0\n",
      "    recall_val: 57.41\n",
      "    mAP_val: 24.46\n"
     ]
    },
    {
     "name": "stdout",
     "output_type": "stream",
     "text": [
      "(array([0, 1], dtype=int16), array([396574808,   6783392], dtype=int64))\n",
      "[0 1]\n"
     ]
    },
    {
     "name": "stderr",
     "output_type": "stream",
     "text": [
      "ic| self.label_mask.shape: (19355, 20840)\n",
      "ic| self.mask_amazon_ts.shape: (19355, 20840)\n",
      "ic| self.label_mask_test.shape: (161343280,)\n",
      "ic| self.error_mask_test.shape: (122569923,)\n",
      "ic| bounds: (0.0015907875000848435, 0.4985)\n",
      "c:\\Users\\jchamorro\\Anaconda3\\envs\\tf2\\lib\\site-packages\\scipy\\optimize\\_minimize.py:783: RuntimeWarning: Method 'bounded' does not support relative tolerance in x; defaulting to absolute tolerance.\n",
      "  warn(\"Method 'bounded' does not support relative tolerance in x; \"\n"
     ]
    },
    {
     "name": "stdout",
     "output_type": "stream",
     "text": [
      "0.1913932173521083\n",
      "threshold 0.1913932173521083\n"
     ]
    },
    {
     "name": "stderr",
     "output_type": "stream",
     "text": [
      "ic| label_current_deforestation_test_classified_incorrect.shape: (5648239,)\n",
      "    predicted_test_classified_incorrect.shape: (5648239,)\n",
      "ic| TP_H + FN_H + FP_H + TN_H: 5648239\n",
      "    len(label_mask_current_deforestation_test): 122569923\n",
      "ic| TP_H + FN_H + FP_H + TN_H: 5648239\n",
      "    len(label_mask_current_deforestation_test): 122569923\n"
     ]
    },
    {
     "name": "stdout",
     "output_type": "stream",
     "text": [
      "[0.5038396  0.66472336 0.55105517 0.04608177 0.10928285 0.39912735\n",
      " 0.12847494]\n",
      "0.3086975701479765\n",
      "threshold 0.3086975701479765\n"
     ]
    },
    {
     "name": "stderr",
     "output_type": "stream",
     "text": [
      "ic| label_current_deforestation_test_classified_incorrect.shape: (3548194,)\n",
      "    predicted_test_classified_incorrect.shape: (3548194,)\n",
      "ic| TP_H + FN_H + FP_H + TN_H: 3548194\n",
      "    len(label_mask_current_deforestation_test): 122569923\n",
      "ic| TP_H + FN_H + FP_H + TN_H: 3548194\n",
      "    len(label_mask_current_deforestation_test): 122569923\n"
     ]
    },
    {
     "name": "stdout",
     "output_type": "stream",
     "text": [
      "[0.44254065 0.65469589 0.57814443 0.02894833 0.09994943 0.3520308\n",
      " 0.11936162]\n",
      "0.3811956472041318\n",
      "threshold 0.3811956472041318\n"
     ]
    },
    {
     "name": "stderr",
     "output_type": "stream",
     "text": [
      "ic| label_current_deforestation_test_classified_incorrect.shape: (2816276,)\n",
      "    predicted_test_classified_incorrect.shape: (2816276,)\n",
      "ic| TP_H + FN_H + FP_H + TN_H: 2816276\n",
      "    len(label_mask_current_deforestation_test): 122569923\n",
      "ic| TP_H + FN_H + FP_H + TN_H: 2816276\n",
      "    len(label_mask_current_deforestation_test): 122569923\n"
     ]
    },
    {
     "name": "stdout",
     "output_type": "stream",
     "text": [
      "[0.41187097 0.65392104 0.59293793 0.02297689 0.09463663 0.28274705\n",
      " 0.09644726]\n",
      "0.3078118738633758\n",
      "threshold 0.3078118738633758\n"
     ]
    },
    {
     "name": "stderr",
     "output_type": "stream",
     "text": [
      "ic| label_current_deforestation_test_classified_incorrect.shape: (3559239,)\n",
      "    predicted_test_classified_incorrect.shape: (3559239,)\n",
      "ic| TP_H + FN_H + FP_H + TN_H: 3559239\n",
      "    len(label_mask_current_deforestation_test): 122569923\n",
      "ic| TP_H + FN_H + FP_H + TN_H: 3559239\n",
      "    len(label_mask_current_deforestation_test): 122569923\n"
     ]
    },
    {
     "name": "stdout",
     "output_type": "stream",
     "text": [
      "[0.44293176 0.65473165 0.57795523 0.02903844 0.10002491 0.35263196\n",
      " 0.11955312]\n",
      "0.26334390400067087\n",
      "threshold 0.26334390400067087\n"
     ]
    },
    {
     "name": "stderr",
     "output_type": "stream",
     "text": [
      "ic| label_current_deforestation_test_classified_incorrect.shape: (4207060,)\n",
      "    predicted_test_classified_incorrect.shape: (4207060,)\n",
      "ic| TP_H + FN_H + FP_H + TN_H: 4207060\n",
      "    len(label_mask_current_deforestation_test): 122569923\n",
      "ic| TP_H + FN_H + FP_H + TN_H: 4207060\n",
      "    len(label_mask_current_deforestation_test): 122569923\n"
     ]
    },
    {
     "name": "stdout",
     "output_type": "stream",
     "text": [
      "[0.46441847 0.65791551 0.56845095 0.03432375 0.10289562 0.37398593\n",
      " 0.12702461]\n",
      "0.2952456326120713\n",
      "threshold 0.2952456326120713\n"
     ]
    },
    {
     "name": "stderr",
     "output_type": "stream",
     "text": [
      "ic| label_current_deforestation_test_classified_incorrect.shape: (3723928,)\n",
      "    predicted_test_classified_incorrect.shape: (3723928,)\n",
      "ic| TP_H + FN_H + FP_H + TN_H: 3723928\n",
      "    len(label_mask_current_deforestation_test): 122569923\n",
      "ic| TP_H + FN_H + FP_H + TN_H: 3723928\n",
      "    len(label_mask_current_deforestation_test): 122569923\n"
     ]
    },
    {
     "name": "stdout",
     "output_type": "stream",
     "text": [
      "[0.4488959  0.65542047 0.57539263 0.03038207 0.10061494 0.35964836\n",
      " 0.12226936]\n",
      "0.2959528125568814\n",
      "threshold 0.2959528125568814\n"
     ]
    },
    {
     "name": "stderr",
     "output_type": "stream",
     "text": [
      "ic| label_current_deforestation_test_classified_incorrect.shape: (3714284,)\n",
      "    predicted_test_classified_incorrect.shape: (3714284,)\n",
      "ic| TP_H + FN_H + FP_H + TN_H: 3714284\n",
      "    len(label_mask_current_deforestation_test): 122569923\n",
      "ic| TP_H + FN_H + FP_H + TN_H: 3714284\n",
      "    len(label_mask_current_deforestation_test): 122569923\n"
     ]
    },
    {
     "name": "stdout",
     "output_type": "stream",
     "text": [
      "[0.44856903 0.65536146 0.57555131 0.03030339 0.10054803 0.35929385\n",
      " 0.12212629]\n",
      "0.29979125638622095\n",
      "threshold 0.29979125638622095\n"
     ]
    },
    {
     "name": "stderr",
     "output_type": "stream",
     "text": [
      "ic| label_current_deforestation_test_classified_incorrect.shape: (3662808,)\n",
      "    predicted_test_classified_incorrect.shape: (3662808,)\n",
      "ic| TP_H + FN_H + FP_H + TN_H: 3662808\n",
      "    len(label_mask_current_deforestation_test): 122569923\n",
      "ic| TP_H + FN_H + FP_H + TN_H: 3662808\n",
      "    len(label_mask_current_deforestation_test): 122569923\n"
     ]
    },
    {
     "name": "stdout",
     "output_type": "stream",
     "text": [
      "[0.4467723  0.65512837 0.57634321 0.02988342 0.10032655 0.35725387\n",
      " 0.12136204]\n",
      "0.2996391322085721\n",
      "threshold 0.2996391322085721\n"
     ]
    },
    {
     "name": "stderr",
     "output_type": "stream",
     "text": [
      "ic| label_current_deforestation_test_classified_incorrect.shape: (3664786,)\n",
      "    predicted_test_classified_incorrect.shape: (3664786,)\n",
      "ic| TP_H + FN_H + FP_H + TN_H: 3664786\n",
      "    len(label_mask_current_deforestation_test): 122569923\n",
      "ic| TP_H + FN_H + FP_H + TN_H: 3664786\n",
      "    len(label_mask_current_deforestation_test): 122569923\n"
     ]
    },
    {
     "name": "stdout",
     "output_type": "stream",
     "text": [
      "[0.44683883 0.65513596 0.5763104  0.02989955 0.10034095 0.35734757\n",
      " 0.12139052]\n",
      "0.2984516853192931\n",
      "threshold 0.2984516853192931\n"
     ]
    },
    {
     "name": "stderr",
     "output_type": "stream",
     "text": [
      "ic| label_current_deforestation_test_classified_incorrect.shape: (3680536,)\n",
      "    predicted_test_classified_incorrect.shape: (3680536,)\n",
      "ic| TP_H + FN_H + FP_H + TN_H: 3680536\n",
      "    len(label_mask_current_deforestation_test): 122569923\n",
      "ic| TP_H + FN_H + FP_H + TN_H: 3680536\n",
      "    len(label_mask_current_deforestation_test): 122569923\n"
     ]
    },
    {
     "name": "stdout",
     "output_type": "stream",
     "text": [
      "[0.44740647 0.65522136 0.57608611 0.03002805 0.10036371 0.35785258\n",
      " 0.12163851]\n",
      "0.29749720085761316\n",
      "threshold 0.29749720085761316\n"
     ]
    },
    {
     "name": "stderr",
     "output_type": "stream",
     "text": [
      "ic| label_current_deforestation_test_classified_incorrect.shape: (3693312,)\n",
      "    predicted_test_classified_incorrect.shape: (3693312,)\n",
      "ic| TP_H + FN_H + FP_H + TN_H: 3693312\n",
      "    len(label_mask_current_deforestation_test): 122569923\n",
      "ic| TP_H + FN_H + FP_H + TN_H: 3693312\n",
      "    len(label_mask_current_deforestation_test): 122569923\n"
     ]
    },
    {
     "name": "stdout",
     "output_type": "stream",
     "text": [
      "[0.44785355 0.65527563 0.57587936 0.03013229 0.10043634 0.35841204\n",
      " 0.12183318]\n",
      "0.2981403123342725\n",
      "threshold 0.2981403123342725\n"
     ]
    },
    {
     "name": "stderr",
     "output_type": "stream",
     "text": [
      "ic| label_current_deforestation_test_classified_incorrect.shape: (3684635,)\n",
      "    predicted_test_classified_incorrect.shape: (3684635,)\n",
      "ic| TP_H + FN_H + FP_H + TN_H: 3684635\n",
      "    len(label_mask_current_deforestation_test): 122569923\n",
      "ic| TP_H + FN_H + FP_H + TN_H: 3684635\n",
      "    len(label_mask_current_deforestation_test): 122569923\n"
     ]
    },
    {
     "name": "stdout",
     "output_type": "stream",
     "text": [
      "[0.44755204 0.65524385 0.5760144  0.03006149 0.10039524 0.35803248\n",
      " 0.12170774]\n",
      "0.2987740466383068\n",
      "threshold 0.2987740466383068\n"
     ]
    },
    {
     "name": "stderr",
     "output_type": "stream",
     "text": [
      "ic| label_current_deforestation_test_classified_incorrect.shape: (3676239,)\n",
      "    predicted_test_classified_incorrect.shape: (3676239,)\n",
      "ic| TP_H + FN_H + FP_H + TN_H: 3676239\n",
      "    len(label_mask_current_deforestation_test): 122569923\n",
      "ic| TP_H + FN_H + FP_H + TN_H: 3676239\n",
      "    len(label_mask_current_deforestation_test): 122569923\n"
     ]
    },
    {
     "name": "stdout",
     "output_type": "stream",
     "text": [
      "[0.44724602 0.65519342 0.57613951 0.02999299 0.1003752  0.35776295\n",
      " 0.12156861]\n",
      "0.29910447992297107\n",
      "threshold 0.29910447992297107\n"
     ]
    },
    {
     "name": "stderr",
     "output_type": "stream",
     "text": [
      "ic| label_current_deforestation_test_classified_incorrect.shape: (3671900,)\n",
      "    predicted_test_classified_incorrect.shape: (3671900,)\n",
      "ic| TP_H + FN_H + FP_H + TN_H: 3671900\n",
      "    len(label_mask_current_deforestation_test): 122569923\n",
      "ic| TP_H + FN_H + FP_H + TN_H: 3671900\n",
      "    len(label_mask_current_deforestation_test): 122569923\n"
     ]
    },
    {
     "name": "stdout",
     "output_type": "stream",
     "text": [
      "[0.44709296 0.65517415 0.57620055 0.02995759 0.10036806 0.35760986\n",
      " 0.12150525]\n",
      "0.298736457252559\n",
      "threshold 0.298736457252559\n"
     ]
    },
    {
     "name": "stderr",
     "output_type": "stream",
     "text": [
      "ic| label_current_deforestation_test_classified_incorrect.shape: (3676757,)\n",
      "    predicted_test_classified_incorrect.shape: (3676757,)\n",
      "ic| TP_H + FN_H + FP_H + TN_H: 3676757\n",
      "    len(label_mask_current_deforestation_test): 122569923\n",
      "ic| TP_H + FN_H + FP_H + TN_H: 3676757\n",
      "    len(label_mask_current_deforestation_test): 122569923\n"
     ]
    },
    {
     "name": "stdout",
     "output_type": "stream",
     "text": [
      "[0.44726577 0.65520128 0.57613494 0.02999722 0.10037017 0.35774887\n",
      " 0.12157821]\n",
      "0.2986651738827542\n",
      "threshold 0.2986651738827542\n"
     ]
    },
    {
     "name": "stderr",
     "output_type": "stream",
     "text": [
      "ic| label_current_deforestation_test_classified_incorrect.shape: (3677714,)\n",
      "    predicted_test_classified_incorrect.shape: (3677714,)\n",
      "ic| TP_H + FN_H + FP_H + TN_H: 3677714\n",
      "    len(label_mask_current_deforestation_test): 122569923\n",
      "ic| TP_H + FN_H + FP_H + TN_H: 3677714\n",
      "    len(label_mask_current_deforestation_test): 122569923\n"
     ]
    },
    {
     "name": "stdout",
     "output_type": "stream",
     "text": [
      "[0.44730504 0.65520446 0.57612273 0.03000503 0.1003658  0.35778216\n",
      " 0.12159574]\n",
      "0.2987031194882479\n",
      "threshold 0.2987031194882479\n"
     ]
    },
    {
     "name": "stderr",
     "output_type": "stream",
     "text": [
      "ic| label_current_deforestation_test_classified_incorrect.shape: (3677207,)\n",
      "    predicted_test_classified_incorrect.shape: (3677207,)\n",
      "ic| TP_H + FN_H + FP_H + TN_H: 3677207\n",
      "    len(label_mask_current_deforestation_test): 122569923\n",
      "ic| TP_H + FN_H + FP_H + TN_H: 3677207\n",
      "    len(label_mask_current_deforestation_test): 122569923\n",
      "ic| self.threshold_optimal: 0.2987031194882479\n"
     ]
    },
    {
     "name": "stdout",
     "output_type": "stream",
     "text": [
      "[0.44728461 0.65520344 0.57612883 0.03000089 0.10036852 0.35776325\n",
      " 0.12158722]\n",
      "threshold:  0.2987031194882479\n",
      "threshold 0.2987031194882479\n"
     ]
    },
    {
     "name": "stderr",
     "output_type": "stream",
     "text": [
      "ic| label_current_deforestation_test_classified_incorrect.shape: (3677207,)\n",
      "    predicted_test_classified_incorrect.shape: (3677207,)\n",
      "ic| TP_H + FN_H + FP_H + TN_H: 3677207\n",
      "    len(label_mask_current_deforestation_test): 122569923\n",
      "ic| TP_H + FN_H + FP_H + TN_H: 3677207\n",
      "    len(label_mask_current_deforestation_test): 122569923\n"
     ]
    },
    {
     "name": "stdout",
     "output_type": "stream",
     "text": [
      "[0.44728461 0.65520344 0.57612883 0.03000089 0.10036852 0.35776325\n",
      " 0.12158722]\n",
      "threshold 0.2987031194882479\n",
      "(122569923,) (122569923,)\n"
     ]
    },
    {
     "name": "stderr",
     "output_type": "stream",
     "text": [
      "ic| self.m_optimal: {'AA': array([0.03000089]),\n",
      "                     'UEO': array([0.12158722]),\n",
      "                     'f1': 45.57,\n",
      "                     'f1_H': array([0.15675912]),\n",
      "                     'f1_L': array([0.53163826]),\n",
      "                     'precision_H': array([0.10036852]),\n",
      "                     'precision_L': array([0.44728461]),\n",
      "                     'recall_H': array([0.35776325]),\n",
      "                     'recall_L': array([0.65520344]),\n",
      "                     'recall_Ltotal': array([0.57612883])}\n",
      "ic| self.m_audited_optimal: {'f1': array([0.57857158]),\n",
      "                             'precision': array([0.49463568]),\n",
      "                             'recall': array([0.69681594])}\n"
     ]
    },
    {
     "name": "stdout",
     "output_type": "stream",
     "text": [
      "cm_audited [[120325963    933182]\n",
      " [   397407    913371]]\n",
      "[0.49463568 0.69681594]\n",
      "Result idx 1: {'uncertainty_result': {'metrics': {'precision_L': array([0.44728461]), 'recall_L': array([0.65520344]), 'recall_Ltotal': array([0.57612883]), 'AA': array([0.03000089]), 'precision_H': array([0.10036852]), 'recall_H': array([0.35776325]), 'UEO': array([0.12158722]), 'f1_L': array([0.53163826]), 'f1_H': array([0.15675912]), 'f1': 45.57}, 'metrics_audited': {'precision': array([0.49463568]), 'recall': array([0.69681594]), 'f1': array([0.57857158])}, 'exp': 15}}\n",
      "Grid execution idx: 1\n",
      "Beginning run number 2\n",
      "manager.config {'training': False, 'inferring': True, 'site': 'PI', 'training_date': 'earlier', 'mode': 'evidential2', 'training_times': 10, 'uncertainty_method': 'pred_entropy', 'loadInference': False, 'removePolygons': True, 'plotLandsat': False, 'plotPOI': False, 'training_experiment_id': 15, 'get_multiple_metrics': False, 'save_probabilities': False, 'addPastDeforestationInput': True, 'classes_mode': True, 'learning_rate': 0.0001, 'use_cloud_mask': False, 'log_filename': 'log_mcd_pi_earlier.pkl', 'inference_times': 1, 'dropout_training': False}\n",
      "D:/Jorge/datasets/deforestation/PI/deforestation_past_years.tif\n",
      "Loaded deforestation past years\n"
     ]
    },
    {
     "name": "stderr",
     "output_type": "stream",
     "text": [
      "ic| np.unique(deforestation_past_years, return_counts=True): (array([   0, 2002, 2004, 2006, 2008, 2010, 2012, 2013, 2014, 2015, 2016,\n",
      "                                                                    2017, 2018, 2019, 2020, 2021], dtype=uint16),\n",
      "                                                              array([340580606,   4312043,   6953620,   5659916,   7162776,   6261432,\n",
      "                                                                      8191420,   3233962,   3270293,   3044419,   1817289,   2359424,\n",
      "                                                                      2201926,   3050229,   2901307,   2418575], dtype=int64))\n"
     ]
    },
    {
     "name": "stdout",
     "output_type": "stream",
     "text": [
      "Label where deforestation past years is actual date (2020) = 1\n"
     ]
    },
    {
     "name": "stderr",
     "output_type": "stream",
     "text": [
      "ic| np.unique(deforestation_past_years, return_counts=True): (array([   0, 2002, 2004, 2006, 2008, 2010, 2012, 2013, 2014, 2015, 2016,\n",
      "                                                                    2017, 2018, 2019, 2020, 2021], dtype=uint16),\n",
      "                                                              array([340580606,   4312043,   6953620,   5659916,   7162776,   6261432,\n",
      "                                                                      8191420,   3233962,   3270293,   3044419,   1817289,   2359424,\n",
      "                                                                      2201926,   3050229,   2901307,   2418575], dtype=int64))\n"
     ]
    },
    {
     "name": "stdout",
     "output_type": "stream",
     "text": [
      "Past deforestation different from 0 (no deforestation)\n"
     ]
    },
    {
     "name": "stderr",
     "output_type": "stream",
     "text": [
      "ic| np.unique(deforestation_past_years, return_counts=True): (array([   0, 2002, 2004, 2006, 2008, 2010, 2012, 2013, 2014, 2015, 2016,\n",
      "                                                                    2017, 2018, 2019, 2020, 2021], dtype=uint16),\n",
      "                                                              array([340580606,   4312043,   6953620,   5659916,   7162776,   6261432,\n",
      "                                                                      8191420,   3233962,   3270293,   3044419,   1817289,   2359424,\n",
      "                                                                      2201926,   3050229,   2901307,   2418575], dtype=int64))\n"
     ]
    },
    {
     "name": "stdout",
     "output_type": "stream",
     "text": [
      "Past deforestation before 2008 is 2\n",
      "D:/Jorge/datasets/deforestation/PI/deforestation_before_2000_PI.tif\n"
     ]
    },
    {
     "name": "stderr",
     "output_type": "stream",
     "text": [
      "ic| np.unique(label_past_deforestation_before_2008, return_counts=True): (array([  0, 208], dtype=uint8), array([385251297,  18167940], dtype=int64))\n",
      "ic| np.unique(deforestation_past_years, return_counts=True): (array([   0, 2002, 2004, 2006, 2008, 2010, 2012, 2013, 2014, 2015, 2016,\n",
      "                                                                    2017, 2018, 2019, 2020, 2021], dtype=uint16),\n",
      "                                                              array([340580606,   4312043,   6953620,   5659916,   7162776,   6261432,\n",
      "                                                                      8191420,   3233962,   3270293,   3044419,   1817289,   2359424,\n",
      "                                                                      2201926,   3050229,   2901307,   2418575], dtype=int64))\n",
      "ic| label_per_date.shape: (19357, 20841, 1)\n"
     ]
    },
    {
     "name": "stdout",
     "output_type": "stream",
     "text": [
      "Removing bufer................\n",
      "Mask label shape:  \n",
      " (19357, 20841, 1) \n",
      " Unique values:  \n",
      " [0 1 2]\n",
      "Tiles size:  3871 4168\n",
      "Mask size:  (19355, 20840)\n"
     ]
    },
    {
     "name": "stderr",
     "output_type": "stream",
     "text": [
      "ic| image_stack.shape: (19357, 20841, 9)\n"
     ]
    },
    {
     "name": "stdout",
     "output_type": "stream",
     "text": [
      "Image shape:  (19357, 20841, 9)\n",
      "mask:  (19355, 20840)\n",
      "image stack:  (19355, 20840, 9)\n",
      "ref : (19355, 20840, 1)\n",
      "Training tiles:  [2, 4, 5, 6, 7, 12, 14, 15, 18, 21, 23, 25]\n",
      "Validation tiles:  [9, 11, 24]\n",
      "Test tiles:  [1, 3, 8, 10, 13, 16, 17, 19, 20, 22]\n",
      "-5.0 -24.0\n"
     ]
    },
    {
     "name": "stderr",
     "output_type": "stream",
     "text": [
      "ic| self.path_models+ '/' + self.method +'_'+str(self.repetition_id)+'.h5': 'D:/Jorge/datasets/deforestation/experiments/PI/exp15/models/resunet_2.h5'\n"
     ]
    },
    {
     "name": "stdout",
     "output_type": "stream",
     "text": [
      "Dropout training mode: False\n",
      "time:  0\n",
      "alpha.shape (19360, 20864, 2)\n",
      "S.shape (19360, 20864)\n",
      "K 2\n",
      "u.shape (19360, 20864)\n",
      "belief.shape (19360, 20864, 2)\n",
      "(122722628,)\n",
      "(array([0, 1], dtype=uint8), array([121393418,   1329210], dtype=int64))\n",
      "(19355, 20840, 2)\n"
     ]
    },
    {
     "name": "stderr",
     "output_type": "stream",
     "text": [
      "ic| predicted_test.shape: (161343280,)\n",
      "ic| predicted_test.shape: (122722628,)\n",
      "ic| np.unique(predicted, return_counts=True): (array([0, 1], dtype=int8), array([398723128,   4635072], dtype=int64))\n",
      "    np.unique(predicted_larger_than_min_area, return_counts=True): (array([0, 1], dtype=int8), array([399103366,   4254834], dtype=int64))\n",
      "ic| np.unique(ignored_polygons, return_counts=True): (array([0, 1], dtype=int8), array([402977962,    380238], dtype=int64))\n",
      "ic| self.f1: 55.94, self.precision: 53.7, self.recall: 58.38\n",
      "ic| self.label_mask_val.shape: (48402984,)\n",
      "ic| self.label_mask_val_valid.shape: (42334440,)\n",
      "ic| f1_val: 28.62\n",
      "    precision_val: 19.59\n",
      "    recall_val: 53.05\n",
      "    mAP_val: 24.86\n"
     ]
    },
    {
     "name": "stdout",
     "output_type": "stream",
     "text": [
      "(array([0, 1], dtype=int16), array([399713056,   3645144], dtype=int64))\n",
      "[0 1]\n"
     ]
    },
    {
     "name": "stderr",
     "output_type": "stream",
     "text": [
      "ic| self.label_mask.shape: (19355, 20840)\n",
      "ic| self.mask_amazon_ts.shape: (19355, 20840)\n",
      "ic| self.label_mask_test.shape: (161343280,)\n",
      "ic| self.error_mask_test.shape: (122594254,)\n",
      "ic| bounds: (0.0015907875000848435, 0.4985)\n",
      "c:\\Users\\jchamorro\\Anaconda3\\envs\\tf2\\lib\\site-packages\\scipy\\optimize\\_minimize.py:783: RuntimeWarning: Method 'bounded' does not support relative tolerance in x; defaulting to absolute tolerance.\n",
      "  warn(\"Method 'bounded' does not support relative tolerance in x; \"\n"
     ]
    },
    {
     "name": "stdout",
     "output_type": "stream",
     "text": [
      "0.1913932173521083\n",
      "threshold 0.1913932173521083\n"
     ]
    },
    {
     "name": "stderr",
     "output_type": "stream",
     "text": [
      "ic| label_current_deforestation_test_classified_incorrect.shape: (5488271,)\n",
      "    predicted_test_classified_incorrect.shape: (5488271,)\n",
      "ic| TP_H + FN_H + FP_H + TN_H: 5488271\n",
      "    len(label_mask_current_deforestation_test): 122594254\n",
      "ic| TP_H + FN_H + FP_H + TN_H: 5488271\n",
      "    len(label_mask_current_deforestation_test): 122594254\n"
     ]
    },
    {
     "name": "stdout",
     "output_type": "stream",
     "text": [
      "[0.71244937 0.63510703 0.51146053 0.04476777 0.19581973 0.37136525\n",
      " 0.08951466]\n",
      "0.3086975701479765\n",
      "threshold 0.3086975701479765\n"
     ]
    },
    {
     "name": "stderr",
     "output_type": "stream",
     "text": [
      "ic| label_current_deforestation_test_classified_incorrect.shape: (3527758,)\n",
      "    predicted_test_classified_incorrect.shape: (3527758,)\n",
      "ic| TP_H + FN_H + FP_H + TN_H: 3527758\n",
      "    len(label_mask_current_deforestation_test): 122594254\n",
      "ic| TP_H + FN_H + FP_H + TN_H: 3527758\n",
      "    len(label_mask_current_deforestation_test): 122594254\n"
     ]
    },
    {
     "name": "stdout",
     "output_type": "stream",
     "text": [
      "[0.63942293 0.62944827 0.54347851 0.02877588 0.16985438 0.2949319\n",
      " 0.08841775]\n",
      "0.3811956472041318\n",
      "threshold 0.3811956472041318\n"
     ]
    },
    {
     "name": "stderr",
     "output_type": "stream",
     "text": [
      "ic| label_current_deforestation_test_classified_incorrect.shape: (2771679,)\n",
      "    predicted_test_classified_incorrect.shape: (2771679,)\n",
      "ic| TP_H + FN_H + FP_H + TN_H: 2771679\n",
      "    len(label_mask_current_deforestation_test): 122594254\n",
      "ic| TP_H + FN_H + FP_H + TN_H: 2771679\n",
      "    len(label_mask_current_deforestation_test): 122594254\n"
     ]
    },
    {
     "name": "stdout",
     "output_type": "stream",
     "text": [
      "[0.60060402 0.62862978 0.5589653  0.02260856 0.15850081 0.22374096\n",
      " 0.0773265 ]\n",
      "0.30468684719351974\n",
      "threshold 0.30468684719351974\n"
     ]
    },
    {
     "name": "stderr",
     "output_type": "stream",
     "text": [
      "ic| label_current_deforestation_test_classified_incorrect.shape: (3576335,)\n",
      "    predicted_test_classified_incorrect.shape: (3576335,)\n",
      "ic| TP_H + FN_H + FP_H + TN_H: 3576335\n",
      "    len(label_mask_current_deforestation_test): 122594254\n",
      "ic| TP_H + FN_H + FP_H + TN_H: 3576335\n",
      "    len(label_mask_current_deforestation_test): 122594254\n"
     ]
    },
    {
     "name": "stdout",
     "output_type": "stream",
     "text": [
      "[0.64179209 0.62957698 0.54259039 0.02917213 0.17035149 0.29797177\n",
      " 0.08884814]\n",
      "0.26141253130294995\n",
      "threshold 0.26141253130294995\n"
     ]
    },
    {
     "name": "stderr",
     "output_type": "stream",
     "text": [
      "ic| label_current_deforestation_test_classified_incorrect.shape: (4178584,)\n",
      "    predicted_test_classified_incorrect.shape: (4178584,)\n",
      "ic| TP_H + FN_H + FP_H + TN_H: 4178584\n",
      "    len(label_mask_current_deforestation_test): 122594254\n",
      "ic| TP_H + FN_H + FP_H + TN_H: 4178584\n",
      "    len(label_mask_current_deforestation_test): 122594254\n"
     ]
    },
    {
     "name": "stdout",
     "output_type": "stream",
     "text": [
      "[0.66883395 0.63134622 0.53192154 0.03408466 0.17764588 0.32917508\n",
      " 0.09193165]\n",
      "0.2932724254652065\n",
      "threshold 0.2932724254652065\n"
     ]
    },
    {
     "name": "stderr",
     "output_type": "stream",
     "text": [
      "ic| label_current_deforestation_test_classified_incorrect.shape: (3722137,)\n",
      "    predicted_test_classified_incorrect.shape: (3722137,)\n",
      "ic| TP_H + FN_H + FP_H + TN_H: 3722137\n",
      "    len(label_mask_current_deforestation_test): 122594254\n",
      "ic| TP_H + FN_H + FP_H + TN_H: 3722137\n",
      "    len(label_mask_current_deforestation_test): 122594254\n"
     ]
    },
    {
     "name": "stdout",
     "output_type": "stream",
     "text": [
      "[0.64875893 0.62986401 0.53985209 0.03036143 0.17220533 0.30724955\n",
      " 0.0899517 ]\n",
      "0.29353923862229353\n",
      "threshold 0.29353923862229353\n"
     ]
    },
    {
     "name": "stderr",
     "output_type": "stream",
     "text": [
      "ic| label_current_deforestation_test_classified_incorrect.shape: (3718586,)\n",
      "    predicted_test_classified_incorrect.shape: (3718586,)\n",
      "ic| TP_H + FN_H + FP_H + TN_H: 3718586\n",
      "    len(label_mask_current_deforestation_test): 122594254\n",
      "ic| TP_H + FN_H + FP_H + TN_H: 3718586\n",
      "    len(label_mask_current_deforestation_test): 122594254\n"
     ]
    },
    {
     "name": "stdout",
     "output_type": "stream",
     "text": [
      "[0.64860895 0.62985143 0.53991765 0.03033247 0.17214636 0.30705122\n",
      " 0.08993266]\n",
      "0.2974553291202235\n",
      "threshold 0.2974553291202235\n"
     ]
    },
    {
     "name": "stderr",
     "output_type": "stream",
     "text": [
      "ic| label_current_deforestation_test_classified_incorrect.shape: (3667448,)\n",
      "    predicted_test_classified_incorrect.shape: (3667448,)\n",
      "ic| TP_H + FN_H + FP_H + TN_H: 3667448\n",
      "    len(label_mask_current_deforestation_test): 122594254\n",
      "ic| TP_H + FN_H + FP_H + TN_H: 3667448\n",
      "    len(label_mask_current_deforestation_test): 122594254\n"
     ]
    },
    {
     "name": "stdout",
     "output_type": "stream",
     "text": [
      "[0.64613733 0.62975038 0.54085456 0.02991533 0.17158989 0.30394937\n",
      " 0.08955901]\n",
      "0.3002175232339635\n",
      "threshold 0.3002175232339635\n"
     ]
    },
    {
     "name": "stderr",
     "output_type": "stream",
     "text": [
      "ic| label_current_deforestation_test_classified_incorrect.shape: (3632282,)\n",
      "    predicted_test_classified_incorrect.shape: (3632282,)\n",
      "ic| TP_H + FN_H + FP_H + TN_H: 3632282\n",
      "    len(label_mask_current_deforestation_test): 122594254\n",
      "ic| TP_H + FN_H + FP_H + TN_H: 3632282\n",
      "    len(label_mask_current_deforestation_test): 122594254\n"
     ]
    },
    {
     "name": "stdout",
     "output_type": "stream",
     "text": [
      "[0.64446878 0.62968594 0.54151398 0.02962848 0.17113626 0.30170405\n",
      " 0.0893006 ]\n",
      "0.2984197762894348\n",
      "threshold 0.2984197762894348\n"
     ]
    },
    {
     "name": "stderr",
     "output_type": "stream",
     "text": [
      "ic| label_current_deforestation_test_classified_incorrect.shape: (3654869,)\n",
      "    predicted_test_classified_incorrect.shape: (3654869,)\n",
      "ic| TP_H + FN_H + FP_H + TN_H: 3654869\n",
      "    len(label_mask_current_deforestation_test): 122594254\n",
      "ic| TP_H + FN_H + FP_H + TN_H: 3654869\n",
      "    len(label_mask_current_deforestation_test): 122594254\n"
     ]
    },
    {
     "name": "stdout",
     "output_type": "stream",
     "text": [
      "[0.64556765 0.62972167 0.54108097 0.02981273 0.17143128 0.3032018\n",
      " 0.08947988]\n",
      "0.2964073837222931\n",
      "threshold 0.2964073837222931\n"
     ]
    },
    {
     "name": "stderr",
     "output_type": "stream",
     "text": [
      "ic| label_current_deforestation_test_classified_incorrect.shape: (3680973,)\n",
      "    predicted_test_classified_incorrect.shape: (3680973,)\n",
      "ic| TP_H + FN_H + FP_H + TN_H: 3680973\n",
      "    len(label_mask_current_deforestation_test): 122594254\n",
      "ic| TP_H + FN_H + FP_H + TN_H: 3680973\n",
      "    len(label_mask_current_deforestation_test): 122594254\n"
     ]
    },
    {
     "name": "stdout",
     "output_type": "stream",
     "text": [
      "[0.64681186 0.62977945 0.54061595 0.03002566 0.17169146 0.30473621\n",
      " 0.08966596]\n",
      "0.29531184977875974\n",
      "threshold 0.29531184977875974\n"
     ]
    },
    {
     "name": "stderr",
     "output_type": "stream",
     "text": [
      "ic| label_current_deforestation_test_classified_incorrect.shape: (3695223,)\n",
      "    predicted_test_classified_incorrect.shape: (3695223,)\n",
      "ic| TP_H + FN_H + FP_H + TN_H: 3695223\n",
      "    len(label_mask_current_deforestation_test): 122594254\n",
      "ic| TP_H + FN_H + FP_H + TN_H: 3695223\n",
      "    len(label_mask_current_deforestation_test): 122594254\n"
     ]
    },
    {
     "name": "stdout",
     "output_type": "stream",
     "text": [
      "[0.64751248 0.62981575 0.54039792 0.03014189 0.17171104 0.30542266\n",
      " 0.08976345]\n",
      "0.29655977083565027\n",
      "threshold 0.29655977083565027\n"
     ]
    },
    {
     "name": "stderr",
     "output_type": "stream",
     "text": [
      "ic| label_current_deforestation_test_classified_incorrect.shape: (3679024,)\n",
      "    predicted_test_classified_incorrect.shape: (3679024,)\n",
      "ic| TP_H + FN_H + FP_H + TN_H: 3679024\n",
      "    len(label_mask_current_deforestation_test): 122594254\n",
      "ic| TP_H + FN_H + FP_H + TN_H: 3679024\n",
      "    len(label_mask_current_deforestation_test): 122594254\n"
     ]
    },
    {
     "name": "stdout",
     "output_type": "stream",
     "text": [
      "[0.64668754 0.6297726  0.54064416 0.03000976 0.17171883 0.30465346\n",
      " 0.08964053]\n",
      "0.2967743906327615\n",
      "threshold 0.2967743906327615\n"
     ]
    },
    {
     "name": "stderr",
     "output_type": "stream",
     "text": [
      "ic| label_current_deforestation_test_classified_incorrect.shape: (3676200,)\n",
      "    predicted_test_classified_incorrect.shape: (3676200,)\n",
      "ic| TP_H + FN_H + FP_H + TN_H: 3676200\n",
      "    len(label_mask_current_deforestation_test): 122594254\n",
      "ic| TP_H + FN_H + FP_H + TN_H: 3676200\n",
      "    len(label_mask_current_deforestation_test): 122594254\n"
     ]
    },
    {
     "name": "stdout",
     "output_type": "stream",
     "text": [
      "[0.64654909 0.62976476 0.54069599 0.02998672 0.1716896  0.30448727\n",
      " 0.08961775]\n",
      "0.29664174830348816\n",
      "threshold 0.29664174830348816\n"
     ]
    },
    {
     "name": "stderr",
     "output_type": "stream",
     "text": [
      "ic| label_current_deforestation_test_classified_incorrect.shape: (3677952,)\n",
      "    predicted_test_classified_incorrect.shape: (3677952,)\n",
      "ic| TP_H + FN_H + FP_H + TN_H: 3677952\n",
      "    len(label_mask_current_deforestation_test): 122594254\n",
      "ic| TP_H + FN_H + FP_H + TN_H: 3677952\n",
      "    len(label_mask_current_deforestation_test): 122594254\n"
     ]
    },
    {
     "name": "stdout",
     "output_type": "stream",
     "text": [
      "[0.64663261 0.62976983 0.54066626 0.03000101 0.17170272 0.30458092\n",
      " 0.08963013]\n",
      "0.29667508603672965\n",
      "threshold 0.29667508603672965\n"
     ]
    },
    {
     "name": "stderr",
     "output_type": "stream",
     "text": [
      "ic| label_current_deforestation_test_classified_incorrect.shape: (3677507,)\n",
      "    predicted_test_classified_incorrect.shape: (3677507,)\n",
      "ic| TP_H + FN_H + FP_H + TN_H: 3677507\n",
      "    len(label_mask_current_deforestation_test): 122594254\n",
      "ic| TP_H + FN_H + FP_H + TN_H: 3677507\n",
      "    len(label_mask_current_deforestation_test): 122594254\n"
     ]
    },
    {
     "name": "stdout",
     "output_type": "stream",
     "text": [
      "[0.64661172 0.62976986 0.54067541 0.02999738 0.17169443 0.30454744\n",
      " 0.08962711]\n",
      "0.29660841057024667\n",
      "threshold 0.29660841057024667\n"
     ]
    },
    {
     "name": "stderr",
     "output_type": "stream",
     "text": [
      "ic| label_current_deforestation_test_classified_incorrect.shape: (3678391,)\n",
      "    predicted_test_classified_incorrect.shape: (3678391,)\n",
      "ic| TP_H + FN_H + FP_H + TN_H: 3678391\n",
      "    len(label_mask_current_deforestation_test): 122594254\n",
      "ic| TP_H + FN_H + FP_H + TN_H: 3678391\n",
      "    len(label_mask_current_deforestation_test): 122594254\n",
      "ic| self.threshold_optimal: 0.29664174830348816\n"
     ]
    },
    {
     "name": "stdout",
     "output_type": "stream",
     "text": [
      "[0.64665254 0.62977329 0.54065483 0.0300046  0.17171855 0.3046125\n",
      " 0.08963521]\n",
      "threshold:  0.29664174830348816\n",
      "threshold 0.29664174830348816\n"
     ]
    },
    {
     "name": "stderr",
     "output_type": "stream",
     "text": [
      "ic| label_current_deforestation_test_classified_incorrect.shape: (3677952,)\n",
      "    predicted_test_classified_incorrect.shape: (3677952,)\n",
      "ic| TP_H + FN_H + FP_H + TN_H: 3677952\n",
      "    len(label_mask_current_deforestation_test): 122594254\n",
      "ic| TP_H + FN_H + FP_H + TN_H: 3677952\n",
      "    len(label_mask_current_deforestation_test): 122594254\n"
     ]
    },
    {
     "name": "stdout",
     "output_type": "stream",
     "text": [
      "[0.64663261 0.62976983 0.54066626 0.03000101 0.17170272 0.30458092\n",
      " 0.08963013]\n",
      "threshold 0.29664174830348816\n",
      "(122594254,) (122594254,)\n"
     ]
    },
    {
     "name": "stderr",
     "output_type": "stream",
     "text": [
      "ic| self.m_optimal: {'AA': array([0.03000101]),\n",
      "                     'UEO': array([0.08963013]),\n",
      "                     'f1': 55.94,\n",
      "                     'f1_H': array([0.219606]),\n",
      "                     'f1_L': array([0.63808983]),\n",
      "                     'precision_H': array([0.17170272]),\n",
      "                     'precision_L': array([0.64663261]),\n",
      "                     'recall_H': array([0.30458092]),\n",
      "                     'recall_L': array([0.62976983]),\n",
      "                     'recall_Ltotal': array([0.54066626])}\n",
      "ic| self.m_audited_optimal: {'f1': array([0.68987471]),\n",
      "                             'precision': array([0.69777409]),\n",
      "                             'recall': array([0.68215219])}\n"
     ]
    },
    {
     "name": "stdout",
     "output_type": "stream",
     "text": [
      "cm_audited [[120894918    387573]\n",
      " [   416941    894822]]\n",
      "[0.69777409 0.68215219]\n",
      "Result idx 2: {'uncertainty_result': {'metrics': {'precision_L': array([0.64663261]), 'recall_L': array([0.62976983]), 'recall_Ltotal': array([0.54066626]), 'AA': array([0.03000101]), 'precision_H': array([0.17170272]), 'recall_H': array([0.30458092]), 'UEO': array([0.08963013]), 'f1_L': array([0.63808983]), 'f1_H': array([0.219606]), 'f1': 55.94}, 'metrics_audited': {'precision': array([0.69777409]), 'recall': array([0.68215219]), 'f1': array([0.68987471])}, 'exp': 15}}\n",
      "Grid execution idx: 2\n",
      "Beginning run number 3\n",
      "manager.config {'training': False, 'inferring': True, 'site': 'PI', 'training_date': 'earlier', 'mode': 'evidential2', 'training_times': 10, 'uncertainty_method': 'pred_entropy', 'loadInference': False, 'removePolygons': True, 'plotLandsat': False, 'plotPOI': False, 'training_experiment_id': 15, 'get_multiple_metrics': False, 'save_probabilities': False, 'addPastDeforestationInput': True, 'classes_mode': True, 'learning_rate': 0.0001, 'use_cloud_mask': False, 'log_filename': 'log_mcd_pi_earlier.pkl', 'inference_times': 1, 'dropout_training': False}\n",
      "D:/Jorge/datasets/deforestation/PI/deforestation_past_years.tif\n",
      "Loaded deforestation past years\n"
     ]
    },
    {
     "name": "stderr",
     "output_type": "stream",
     "text": [
      "ic| np.unique(deforestation_past_years, return_counts=True): (array([   0, 2002, 2004, 2006, 2008, 2010, 2012, 2013, 2014, 2015, 2016,\n",
      "                                                                    2017, 2018, 2019, 2020, 2021], dtype=uint16),\n",
      "                                                              array([340580606,   4312043,   6953620,   5659916,   7162776,   6261432,\n",
      "                                                                      8191420,   3233962,   3270293,   3044419,   1817289,   2359424,\n",
      "                                                                      2201926,   3050229,   2901307,   2418575], dtype=int64))\n"
     ]
    },
    {
     "name": "stdout",
     "output_type": "stream",
     "text": [
      "Label where deforestation past years is actual date (2020) = 1\n"
     ]
    },
    {
     "name": "stderr",
     "output_type": "stream",
     "text": [
      "ic| np.unique(deforestation_past_years, return_counts=True): (array([   0, 2002, 2004, 2006, 2008, 2010, 2012, 2013, 2014, 2015, 2016,\n",
      "                                                                    2017, 2018, 2019, 2020, 2021], dtype=uint16),\n",
      "                                                              array([340580606,   4312043,   6953620,   5659916,   7162776,   6261432,\n",
      "                                                                      8191420,   3233962,   3270293,   3044419,   1817289,   2359424,\n",
      "                                                                      2201926,   3050229,   2901307,   2418575], dtype=int64))\n"
     ]
    },
    {
     "name": "stdout",
     "output_type": "stream",
     "text": [
      "Past deforestation different from 0 (no deforestation)\n"
     ]
    },
    {
     "name": "stderr",
     "output_type": "stream",
     "text": [
      "ic| np.unique(deforestation_past_years, return_counts=True): (array([   0, 2002, 2004, 2006, 2008, 2010, 2012, 2013, 2014, 2015, 2016,\n",
      "                                                                    2017, 2018, 2019, 2020, 2021], dtype=uint16),\n",
      "                                                              array([340580606,   4312043,   6953620,   5659916,   7162776,   6261432,\n",
      "                                                                      8191420,   3233962,   3270293,   3044419,   1817289,   2359424,\n",
      "                                                                      2201926,   3050229,   2901307,   2418575], dtype=int64))\n"
     ]
    },
    {
     "name": "stdout",
     "output_type": "stream",
     "text": [
      "Past deforestation before 2008 is 2\n",
      "D:/Jorge/datasets/deforestation/PI/deforestation_before_2000_PI.tif\n"
     ]
    },
    {
     "name": "stderr",
     "output_type": "stream",
     "text": [
      "ic| np.unique(label_past_deforestation_before_2008, return_counts=True): (array([  0, 208], dtype=uint8), array([385251297,  18167940], dtype=int64))\n",
      "ic| np.unique(deforestation_past_years, return_counts=True): (array([   0, 2002, 2004, 2006, 2008, 2010, 2012, 2013, 2014, 2015, 2016,\n",
      "                                                                    2017, 2018, 2019, 2020, 2021], dtype=uint16),\n",
      "                                                              array([340580606,   4312043,   6953620,   5659916,   7162776,   6261432,\n",
      "                                                                      8191420,   3233962,   3270293,   3044419,   1817289,   2359424,\n",
      "                                                                      2201926,   3050229,   2901307,   2418575], dtype=int64))\n",
      "ic| label_per_date.shape: (19357, 20841, 1)\n"
     ]
    },
    {
     "name": "stdout",
     "output_type": "stream",
     "text": [
      "Removing bufer................\n",
      "Mask label shape:  \n",
      " (19357, 20841, 1) \n",
      " Unique values:  \n",
      " [0 1 2]\n",
      "Tiles size:  3871 4168\n",
      "Mask size:  (19355, 20840)\n"
     ]
    },
    {
     "name": "stderr",
     "output_type": "stream",
     "text": [
      "ic| image_stack.shape: (19357, 20841, 9)\n"
     ]
    },
    {
     "name": "stdout",
     "output_type": "stream",
     "text": [
      "Image shape:  (19357, 20841, 9)\n",
      "mask:  (19355, 20840)\n",
      "image stack:  (19355, 20840, 9)\n",
      "ref : (19355, 20840, 1)\n",
      "Training tiles:  [2, 4, 5, 6, 7, 12, 14, 15, 18, 21, 23, 25]\n",
      "Validation tiles:  [9, 11, 24]\n",
      "Test tiles:  [1, 3, 8, 10, 13, 16, 17, 19, 20, 22]\n",
      "-5.0 -24.0\n"
     ]
    },
    {
     "name": "stderr",
     "output_type": "stream",
     "text": [
      "ic| self.path_models+ '/' + self.method +'_'+str(self.repetition_id)+'.h5': 'D:/Jorge/datasets/deforestation/experiments/PI/exp15/models/resunet_3.h5'\n"
     ]
    },
    {
     "name": "stdout",
     "output_type": "stream",
     "text": [
      "Dropout training mode: False\n",
      "time:  0\n",
      "alpha.shape (19360, 20864, 2)\n",
      "S.shape (19360, 20864)\n",
      "K 2\n",
      "u.shape (19360, 20864)\n",
      "belief.shape (19360, 20864, 2)\n",
      "(122722628,)\n",
      "(array([0, 1], dtype=uint8), array([121393418,   1329210], dtype=int64))\n",
      "(19355, 20840, 2)\n"
     ]
    },
    {
     "name": "stderr",
     "output_type": "stream",
     "text": [
      "ic| predicted_test.shape: (161343280,)\n",
      "ic| predicted_test.shape: (122722628,)\n",
      "ic| np.unique(predicted, return_counts=True): (array([0, 1], dtype=int8), array([398066040,   5292160], dtype=int64))\n",
      "    np.unique(predicted_larger_than_min_area, return_counts=True): (array([0, 1], dtype=int8), array([398595483,   4762717], dtype=int64))\n",
      "ic| np.unique(ignored_polygons, return_counts=True): (array([0, 1], dtype=int8), array([402828757,    529443], dtype=int64))\n",
      "ic| self.f1: 54.34, self.precision: 47.84, self.recall: 62.88\n",
      "ic| self.label_mask_val.shape: (48402984,)\n",
      "ic| self.label_mask_val_valid.shape: (42319419,)\n",
      "ic| f1_val: 25.12\n",
      "    precision_val: 16.7\n",
      "    recall_val: 50.72\n",
      "    mAP_val: 30.08\n"
     ]
    },
    {
     "name": "stdout",
     "output_type": "stream",
     "text": [
      "(array([0, 1], dtype=int16), array([399189963,   4168237], dtype=int64))\n",
      "[0 1]\n"
     ]
    },
    {
     "name": "stderr",
     "output_type": "stream",
     "text": [
      "ic| self.label_mask.shape: (19355, 20840)\n",
      "ic| self.mask_amazon_ts.shape: (19355, 20840)\n",
      "ic| self.label_mask_test.shape: (161343280,)\n",
      "ic| self.error_mask_test.shape: (122544147,)\n",
      "ic| bounds: (0.0015907875000848435, 0.4985)\n",
      "c:\\Users\\jchamorro\\Anaconda3\\envs\\tf2\\lib\\site-packages\\scipy\\optimize\\_minimize.py:783: RuntimeWarning: Method 'bounded' does not support relative tolerance in x; defaulting to absolute tolerance.\n",
      "  warn(\"Method 'bounded' does not support relative tolerance in x; \"\n"
     ]
    },
    {
     "name": "stdout",
     "output_type": "stream",
     "text": [
      "0.1913932173521083\n",
      "threshold 0.1913932173521083\n"
     ]
    },
    {
     "name": "stderr",
     "output_type": "stream",
     "text": [
      "ic| label_current_deforestation_test_classified_incorrect.shape: (11694687,)\n",
      "    predicted_test_classified_incorrect.shape: (11694687,)\n",
      "ic| TP_H + FN_H + FP_H + TN_H: 11694687\n",
      "    len(label_mask_current_deforestation_test): 122544147\n",
      "ic| TP_H + FN_H + FP_H + TN_H: 11694687\n",
      "    len(label_mask_current_deforestation_test): 122544147\n"
     ]
    },
    {
     "name": "stdout",
     "output_type": "stream",
     "text": [
      "[0.86608236 0.70975355 0.42333049 0.09543244 0.24890522 0.50915347\n",
      " 0.089301  ]\n",
      "0.3086975701479765\n",
      "threshold 0.3086975701479765\n"
     ]
    },
    {
     "name": "stderr",
     "output_type": "stream",
     "text": [
      "ic| label_current_deforestation_test_classified_incorrect.shape: (7390922,)\n",
      "    predicted_test_classified_incorrect.shape: (7390922,)\n",
      "ic| TP_H + FN_H + FP_H + TN_H: 7390922\n",
      "    len(label_mask_current_deforestation_test): 122544147\n",
      "ic| TP_H + FN_H + FP_H + TN_H: 7390922\n",
      "    len(label_mask_current_deforestation_test): 122544147\n"
     ]
    },
    {
     "name": "stdout",
     "output_type": "stream",
     "text": [
      "[0.7282925  0.71959579 0.52299471 0.06031232 0.17747544 0.38726965\n",
      " 0.10893958]\n",
      "0.3811956472041318\n",
      "threshold 0.3811956472041318\n"
     ]
    },
    {
     "name": "stderr",
     "output_type": "stream",
     "text": [
      "ic| label_current_deforestation_test_classified_incorrect.shape: (5497771,)\n",
      "    predicted_test_classified_incorrect.shape: (5497771,)\n",
      "ic| TP_H + FN_H + FP_H + TN_H: 5497771\n",
      "    len(label_mask_current_deforestation_test): 122544147\n",
      "ic| TP_H + FN_H + FP_H + TN_H: 5497771\n",
      "    len(label_mask_current_deforestation_test): 122544147\n"
     ]
    },
    {
     "name": "stdout",
     "output_type": "stream",
     "text": [
      "[0.63367701 0.7147772  0.56336182 0.0448636  0.15388438 0.30891384\n",
      " 0.10667965]\n",
      "0.4260019229438447\n",
      "threshold 0.4260019229438447\n"
     ]
    },
    {
     "name": "stderr",
     "output_type": "stream",
     "text": [
      "ic| label_current_deforestation_test_classified_incorrect.shape: (4565053,)\n",
      "    predicted_test_classified_incorrect.shape: (4565053,)\n",
      "ic| TP_H + FN_H + FP_H + TN_H: 4565053\n",
      "    len(label_mask_current_deforestation_test): 122544147\n",
      "ic| TP_H + FN_H + FP_H + TN_H: 4565053\n",
      "    len(label_mask_current_deforestation_test): 122544147\n"
     ]
    },
    {
     "name": "stdout",
     "output_type": "stream",
     "text": [
      "[0.57621121 0.71305729 0.58491414 0.03725231 0.14668972 0.24420905\n",
      " 0.09427775]\n",
      "0.4536937242602871\n",
      "threshold 0.4536937242602871\n"
     ]
    },
    {
     "name": "stderr",
     "output_type": "stream",
     "text": [
      "ic| label_current_deforestation_test_classified_incorrect.shape: (4008643,)\n",
      "    predicted_test_classified_incorrect.shape: (4008643,)\n",
      "ic| TP_H + FN_H + FP_H + TN_H: 4008643\n",
      "    len(label_mask_current_deforestation_test): 122544147\n",
      "ic| TP_H + FN_H + FP_H + TN_H: 4008643\n",
      "    len(label_mask_current_deforestation_test): 122544147\n"
     ]
    },
    {
     "name": "stdout",
     "output_type": "stream",
     "text": [
      "[0.54017255 0.71270973 0.59923429 0.03271183 0.14426542 0.1856997\n",
      " 0.08005766]\n",
      "0.4708081986835576\n",
      "threshold 0.4708081986835576\n"
     ]
    },
    {
     "name": "stderr",
     "output_type": "stream",
     "text": [
      "ic| label_current_deforestation_test_classified_incorrect.shape: (3643881,)\n",
      "    predicted_test_classified_incorrect.shape: (3643881,)\n",
      "ic| TP_H + FN_H + FP_H + TN_H: 3643881\n",
      "    len(label_mask_current_deforestation_test): 122544147\n",
      "ic| TP_H + FN_H + FP_H + TN_H: 3643881\n",
      "    len(label_mask_current_deforestation_test): 122544147\n"
     ]
    },
    {
     "name": "stdout",
     "output_type": "stream",
     "text": [
      "[0.51791954 0.71238606 0.60906742 0.02973525 0.14269006 0.13606258\n",
      " 0.06787128]\n",
      "0.48138552557672953\n",
      "threshold 0.48138552557672953\n"
     ]
    },
    {
     "name": "stderr",
     "output_type": "stream",
     "text": [
      "ic| label_current_deforestation_test_classified_incorrect.shape: (3400718,)\n",
      "    predicted_test_classified_incorrect.shape: (3400718,)\n",
      "ic| TP_H + FN_H + FP_H + TN_H: 3400718\n",
      "    len(label_mask_current_deforestation_test): 122544147\n",
      "ic| TP_H + FN_H + FP_H + TN_H: 3400718\n",
      "    len(label_mask_current_deforestation_test): 122544147\n"
     ]
    },
    {
     "name": "stdout",
     "output_type": "stream",
     "text": [
      "[0.50371535 0.7120927  0.6157823  0.02775096 0.14180878 0.09625539\n",
      " 0.05826039]\n",
      "0.46823958850231867\n",
      "threshold 0.46823958850231867\n"
     ]
    },
    {
     "name": "stderr",
     "output_type": "stream",
     "text": [
      "ic| label_current_deforestation_test_classified_incorrect.shape: (3700552,)\n",
      "    predicted_test_classified_incorrect.shape: (3700552,)\n",
      "ic| TP_H + FN_H + FP_H + TN_H: 3700552\n",
      "    len(label_mask_current_deforestation_test): 122544147\n",
      "ic| TP_H + FN_H + FP_H + TN_H: 3700552\n",
      "    len(label_mask_current_deforestation_test): 122544147\n"
     ]
    },
    {
     "name": "stdout",
     "output_type": "stream",
     "text": [
      "[0.52130758 0.71243442 0.60748731 0.0301977  0.14307298 0.14468696\n",
      " 0.06994479]\n",
      "0.46846157005380895\n",
      "threshold 0.46846157005380895\n"
     ]
    },
    {
     "name": "stderr",
     "output_type": "stream",
     "text": [
      "ic| label_current_deforestation_test_classified_incorrect.shape: (3695694,)\n",
      "    predicted_test_classified_incorrect.shape: (3695694,)\n",
      "ic| TP_H + FN_H + FP_H + TN_H: 3695694\n",
      "    len(label_mask_current_deforestation_test): 122544147\n",
      "ic| TP_H + FN_H + FP_H + TN_H: 3695694\n",
      "    len(label_mask_current_deforestation_test): 122544147\n"
     ]
    },
    {
     "name": "stdout",
     "output_type": "stream",
     "text": [
      "[0.52101871 0.71243253 0.60761778 0.03015806 0.1430581  0.14398249\n",
      " 0.06977393]\n",
      "0.46937427577840696\n",
      "threshold 0.46937427577840696\n"
     ]
    },
    {
     "name": "stderr",
     "output_type": "stream",
     "text": [
      "ic| label_current_deforestation_test_classified_incorrect.shape: (3675575,)\n",
      "    predicted_test_classified_incorrect.shape: (3675575,)\n",
      "ic| TP_H + FN_H + FP_H + TN_H: 3675575\n",
      "    len(label_mask_current_deforestation_test): 122544147\n",
      "ic| TP_H + FN_H + FP_H + TN_H: 3675575\n",
      "    len(label_mask_current_deforestation_test): 122544147\n"
     ]
    },
    {
     "name": "stdout",
     "output_type": "stream",
     "text": [
      "[0.5197759  0.71240459 0.60818695 0.02999388 0.14296373 0.14091103\n",
      " 0.06901083]\n",
      "0.4699219855909275\n",
      "threshold 0.4699219855909275\n"
     ]
    },
    {
     "name": "stderr",
     "output_type": "stream",
     "text": [
      "ic| label_current_deforestation_test_classified_incorrect.shape: (3663347,)\n",
      "    predicted_test_classified_incorrect.shape: (3663347,)\n",
      "ic| TP_H + FN_H + FP_H + TN_H: 3663347\n",
      "    len(label_mask_current_deforestation_test): 122544147\n",
      "ic| TP_H + FN_H + FP_H + TN_H: 3663347\n",
      "    len(label_mask_current_deforestation_test): 122544147\n"
     ]
    },
    {
     "name": "stdout",
     "output_type": "stream",
     "text": [
      "[0.51903091 0.71238526 0.60852266 0.0298941  0.14294166 0.13908629\n",
      " 0.06855204]\n",
      "0.4692665808120346\n",
      "threshold 0.4692665808120346\n"
     ]
    },
    {
     "name": "stderr",
     "output_type": "stream",
     "text": [
      "ic| label_current_deforestation_test_classified_incorrect.shape: (3677972,)\n",
      "    predicted_test_classified_incorrect.shape: (3677972,)\n",
      "ic| TP_H + FN_H + FP_H + TN_H: 3677972\n",
      "    len(label_mask_current_deforestation_test): 122544147\n",
      "ic| TP_H + FN_H + FP_H + TN_H: 3677972\n",
      "    len(label_mask_current_deforestation_test): 122544147\n"
     ]
    },
    {
     "name": "stdout",
     "output_type": "stream",
     "text": [
      "[0.5199122  0.71240625 0.60810684 0.03001344 0.1430621  0.14134808\n",
      " 0.0690987 ]\n",
      "0.4694095522204295\n",
      "threshold 0.4694095522204295\n"
     ]
    },
    {
     "name": "stderr",
     "output_type": "stream",
     "text": [
      "ic| label_current_deforestation_test_classified_incorrect.shape: (3674833,)\n",
      "    predicted_test_classified_incorrect.shape: (3674833,)\n",
      "ic| TP_H + FN_H + FP_H + TN_H: 3674833\n",
      "    len(label_mask_current_deforestation_test): 122544147\n",
      "ic| TP_H + FN_H + FP_H + TN_H: 3674833\n",
      "    len(label_mask_current_deforestation_test): 122544147\n"
     ]
    },
    {
     "name": "stdout",
     "output_type": "stream",
     "text": [
      "[0.51972484 0.71240196 0.60820374 0.02998783 0.14299335 0.140822\n",
      " 0.06898009]\n",
      "0.4693407249983777\n",
      "threshold 0.4693407249983777\n"
     ]
    },
    {
     "name": "stderr",
     "output_type": "stream",
     "text": [
      "ic| label_current_deforestation_test_classified_incorrect.shape: (3676371,)\n",
      "    predicted_test_classified_incorrect.shape: (3676371,)\n",
      "ic| TP_H + FN_H + FP_H + TN_H: 3676371\n",
      "    len(label_mask_current_deforestation_test): 122544147\n",
      "ic| TP_H + FN_H + FP_H + TN_H: 3676371\n",
      "    len(label_mask_current_deforestation_test): 122544147\n"
     ]
    },
    {
     "name": "stdout",
     "output_type": "stream",
     "text": [
      "[0.519821   0.71240449 0.60815643 0.03000038 0.14301646 0.14107845\n",
      " 0.06904123]\n",
      "0.4693073847035964\n",
      "threshold 0.4693073847035964\n"
     ]
    },
    {
     "name": "stderr",
     "output_type": "stream",
     "text": [
      "ic| label_current_deforestation_test_classified_incorrect.shape: (3677122,)\n",
      "    predicted_test_classified_incorrect.shape: (3677122,)\n",
      "ic| TP_H + FN_H + FP_H + TN_H: 3677122\n",
      "    len(label_mask_current_deforestation_test): 122544147\n",
      "ic| TP_H + FN_H + FP_H + TN_H: 3677122\n",
      "    len(label_mask_current_deforestation_test): 122544147\n",
      "ic| self.threshold_optimal: 0.4693407249983777\n"
     ]
    },
    {
     "name": "stdout",
     "output_type": "stream",
     "text": [
      "[0.51986082 0.71240327 0.60813202 0.03000651 0.14305026 0.14121363\n",
      " 0.06906595]\n",
      "threshold:  0.4693407249983777\n",
      "threshold 0.4693407249983777\n"
     ]
    },
    {
     "name": "stderr",
     "output_type": "stream",
     "text": [
      "ic| label_current_deforestation_test_classified_incorrect.shape: (3676371,)\n",
      "    predicted_test_classified_incorrect.shape: (3676371,)\n",
      "ic| TP_H + FN_H + FP_H + TN_H: 3676371\n",
      "    len(label_mask_current_deforestation_test): 122544147\n",
      "ic| TP_H + FN_H + FP_H + TN_H: 3676371\n",
      "    len(label_mask_current_deforestation_test): 122544147\n"
     ]
    },
    {
     "name": "stdout",
     "output_type": "stream",
     "text": [
      "[0.519821   0.71240449 0.60815643 0.03000038 0.14301646 0.14107845\n",
      " 0.06904123]\n",
      "threshold 0.4693407249983777\n",
      "(122544147,) (122544147,)\n"
     ]
    },
    {
     "name": "stderr",
     "output_type": "stream",
     "text": [
      "ic| self.m_optimal: {'AA': array([0.03000038]),\n",
      "                     'UEO': array([0.06904123]),\n",
      "                     'f1': 54.34,\n",
      "                     'f1_H': array([0.14204085]),\n",
      "                     'f1_L': array([0.60106339]),\n",
      "                     'precision_H': array([0.14301646]),\n",
      "                     'precision_L': array([0.519821]),\n",
      "                     'recall_H': array([0.14107845]),\n",
      "                     'recall_L': array([0.71240449]),\n",
      "                     'recall_Ltotal': array([0.60815643])}\n",
      "ic| self.m_audited_optimal: {'f1': array([0.65146989]),\n",
      "                             'precision': array([0.57320369]),\n",
      "                             'recall': array([0.75448911])}\n"
     ]
    },
    {
     "name": "stdout",
     "output_type": "stream",
     "text": [
      "cm_audited [[120497170    736306]\n",
      " [   321784    988887]]\n",
      "[0.57320369 0.75448911]\n",
      "Result idx 3: {'uncertainty_result': {'metrics': {'precision_L': array([0.519821]), 'recall_L': array([0.71240449]), 'recall_Ltotal': array([0.60815643]), 'AA': array([0.03000038]), 'precision_H': array([0.14301646]), 'recall_H': array([0.14107845]), 'UEO': array([0.06904123]), 'f1_L': array([0.60106339]), 'f1_H': array([0.14204085]), 'f1': 54.34}, 'metrics_audited': {'precision': array([0.57320369]), 'recall': array([0.75448911]), 'f1': array([0.65146989])}, 'exp': 15}}\n",
      "Grid execution idx: 3\n"
     ]
    }
   ],
   "source": [
    "if config['inferring'] == True:\n",
    "    results = []\n",
    "    error_count = 0\n",
    "\n",
    "    # while idx < len(repetition_n):\n",
    "    for idx in range(repetition_n): # 10 repetitions\n",
    "    # for idx in range(0, 4): # 10 repetitions\n",
    "\n",
    "\n",
    "        print(\"Beginning run number {}\".format(idx))\n",
    "        logger = Logger()\n",
    "        manager = manager_class(config, dataset, patchesHandler, logger)\n",
    "\n",
    "        print(\"manager.config\", manager.config)\n",
    "\n",
    "        manager.defineExperiment(exp) # fixed\n",
    "        manager.defineRepetitionId(idx) # varying from 0 to 10\n",
    "        manager.setExperimentPath()\n",
    "        manager.createLogFolders()\n",
    "\n",
    "        manager.loadDataset()\n",
    "\n",
    "        # %%\n",
    "        if config['get_multiple_metrics'] == False:\n",
    "            predictor_fcn = manager.run_predictor\n",
    "        else:\n",
    "            predictor_fcn = manager.run_predictor_multiple_metrics\n",
    "        result = predictor_fcn()\n",
    "        print(\"Result idx {}: {}\".format(idx, result))\n",
    "        results.append(result)\n",
    "\n",
    "\n",
    "        with open(manager.default_log_name, 'wb') as f:\n",
    "            pickle.dump(results, f)\n",
    "        print(\"Grid execution idx: {}\".format(idx))\n",
    "        # idx += 1\n",
    "    "
   ]
  },
  {
   "cell_type": "code",
   "execution_count": 14,
   "id": "f07bf7d7",
   "metadata": {},
   "outputs": [
    {
     "data": {
      "text/plain": [
       "0"
      ]
     },
     "execution_count": 14,
     "metadata": {},
     "output_type": "execute_result"
    }
   ],
   "source": [
    "error_count"
   ]
  },
  {
   "cell_type": "code",
   "execution_count": 15,
   "id": "64080745",
   "metadata": {},
   "outputs": [
    {
     "name": "stdout",
     "output_type": "stream",
     "text": [
      "[{'uncertainty_result': {'metrics': {'precision_L': array([0.53195804]), 'recall_L': array([0.69958021]), 'recall_Ltotal': array([0.61956172]), 'AA': array([0.0299989]), 'precision_H': array([0.10644846]), 'recall_H': array([0.26529932]), 'UEO': array([0.09367737]), 'f1_L': array([0.60436177]), 'f1_H': array([0.15193476]), 'f1': 53.06}, 'metrics_audited': {'precision': array([0.57381291]), 'recall': array([0.73394245]), 'f1': array([0.64407406])}, 'exp': 15}}, {'uncertainty_result': {'metrics': {'precision_L': array([0.44728461]), 'recall_L': array([0.65520344]), 'recall_Ltotal': array([0.57612883]), 'AA': array([0.03000089]), 'precision_H': array([0.10036852]), 'recall_H': array([0.35776325]), 'UEO': array([0.12158722]), 'f1_L': array([0.53163826]), 'f1_H': array([0.15675912]), 'f1': 45.57}, 'metrics_audited': {'precision': array([0.49463568]), 'recall': array([0.69681594]), 'f1': array([0.57857158])}, 'exp': 15}}, {'uncertainty_result': {'metrics': {'precision_L': array([0.64663261]), 'recall_L': array([0.62976983]), 'recall_Ltotal': array([0.54066626]), 'AA': array([0.03000101]), 'precision_H': array([0.17170272]), 'recall_H': array([0.30458092]), 'UEO': array([0.08963013]), 'f1_L': array([0.63808983]), 'f1_H': array([0.219606]), 'f1': 55.94}, 'metrics_audited': {'precision': array([0.69777409]), 'recall': array([0.68215219]), 'f1': array([0.68987471])}, 'exp': 15}}, {'uncertainty_result': {'metrics': {'precision_L': array([0.519821]), 'recall_L': array([0.71240449]), 'recall_Ltotal': array([0.60815643]), 'AA': array([0.03000038]), 'precision_H': array([0.14301646]), 'recall_H': array([0.14107845]), 'UEO': array([0.06904123]), 'f1_L': array([0.60106339]), 'f1_H': array([0.14204085]), 'f1': 54.34}, 'metrics_audited': {'precision': array([0.57320369]), 'recall': array([0.75448911]), 'f1': array([0.65146989])}, 'exp': 15}}]\n"
     ]
    }
   ],
   "source": [
    "print(results)"
   ]
  },
  {
   "cell_type": "code",
   "execution_count": 16,
   "id": "cd4f4d1d",
   "metadata": {},
   "outputs": [
    {
     "name": "stdout",
     "output_type": "stream",
     "text": [
      "4\n"
     ]
    }
   ],
   "source": [
    "print(len(results))"
   ]
  },
  {
   "cell_type": "code",
   "execution_count": 17,
   "id": "6cc43863",
   "metadata": {},
   "outputs": [
    {
     "data": {
      "text/plain": [
       "{'uncertainty_result': {'metrics': {'precision_L': array([0.53195804]),\n",
       "   'recall_L': array([0.69958021]),\n",
       "   'recall_Ltotal': array([0.61956172]),\n",
       "   'AA': array([0.0299989]),\n",
       "   'precision_H': array([0.10644846]),\n",
       "   'recall_H': array([0.26529932]),\n",
       "   'UEO': array([0.09367737]),\n",
       "   'f1_L': array([0.60436177]),\n",
       "   'f1_H': array([0.15193476]),\n",
       "   'f1': 53.06},\n",
       "  'metrics_audited': {'precision': array([0.57381291]),\n",
       "   'recall': array([0.73394245]),\n",
       "   'f1': array([0.64407406])},\n",
       "  'exp': 15}}"
      ]
     },
     "execution_count": 17,
     "metadata": {},
     "output_type": "execute_result"
    }
   ],
   "source": [
    "results[0]"
   ]
  },
  {
   "cell_type": "code",
   "execution_count": 18,
   "id": "4819ba4f",
   "metadata": {},
   "outputs": [
    {
     "data": {
      "text/plain": [
       "54.34"
      ]
     },
     "execution_count": 18,
     "metadata": {},
     "output_type": "execute_result"
    }
   ],
   "source": [
    "manager.f1"
   ]
  },
  {
   "cell_type": "code",
   "execution_count": 19,
   "id": "13437081",
   "metadata": {},
   "outputs": [
    {
     "name": "stdout",
     "output_type": "stream",
     "text": [
      "54.34\n"
     ]
    }
   ],
   "source": [
    "print(manager.f1)"
   ]
  }
 ],
 "metadata": {
  "kernelspec": {
   "display_name": "Python 3.9.12 ('tf2')",
   "language": "python",
   "name": "python3"
  },
  "language_info": {
   "codemirror_mode": {
    "name": "ipython",
    "version": 3
   },
   "file_extension": ".py",
   "mimetype": "text/x-python",
   "name": "python",
   "nbconvert_exporter": "python",
   "pygments_lexer": "ipython3",
   "version": "3.9.12"
  },
  "vscode": {
   "interpreter": {
    "hash": "0593c6bd4eb743cc503a3c17025f83c5676f297db573750215a1bc8c88a990c4"
   }
  }
 },
 "nbformat": 4,
 "nbformat_minor": 5
}
