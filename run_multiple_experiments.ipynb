{
 "cells": [
  {
   "cell_type": "code",
   "execution_count": 1,
   "id": "dbd5b7cf",
   "metadata": {},
   "outputs": [],
   "source": [
    "import tracemalloc\n",
    "\n",
    "from utils_v1 import *\n",
    "import traceback\n"
   ]
  },
  {
   "cell_type": "code",
   "execution_count": 2,
   "id": "123e793c",
   "metadata": {},
   "outputs": [
    {
     "name": "stdout",
     "output_type": "stream",
     "text": [
      "Tensorflow ver. 2.6.0\n"
     ]
    }
   ],
   "source": [
    "from icecream import ic\n",
    "\n",
    "import numpy as np\n",
    "from src.dataset import (\n",
    "    MultipleDates, PAMultipleDates,\n",
    "    MTMultipleDates, MSMultipleDates, PIMultipleDates\n",
    ")\n",
    "\n",
    "# from src.dataset_legacy import MTDeforestationTime\n",
    "from src import training_generator as generator\n",
    "from src.patchesHandler import PatchesHandler, PatchesHandlerMultipleDates, PatchesHandlerEvidential2\n",
    "\n",
    "from src.manager.evidential import ManagerEvidential\n",
    "from src.manager.multioutput import ManagerMCDropout, ManagerSingleRun, ManagerEvidential2\n",
    "from mpl_toolkits.axes_grid1 import make_axes_locatable\n",
    "\n",
    "import cv2\n",
    "from src import metrics as _metric\n",
    "import json\n",
    "import pickle \n",
    "import src.manager.evidential as evidential\n",
    "from src.Logger import Logger\n",
    "import pdb\n",
    "import gc\n"
   ]
  },
  {
   "cell_type": "code",
   "execution_count": 3,
   "id": "b7a6829f",
   "metadata": {},
   "outputs": [
    {
     "name": "stdout",
     "output_type": "stream",
     "text": [
      "Mode: evidential2. Site: PI. Training: True. Training date: current\n",
      "{'training': True, 'inferring': True, 'site': 'PI', 'training_date': 'current', 'mode': 'evidential2', 'training_times': 3, 'uncertainty_method': 'pred_entropy', 'loadInference': False, 'removePolygons': True, 'plotLandsat': False, 'plotPOI': False, 'training_experiment_id': 46, 'get_multiple_metrics': False, 'start_repetition_id': 0, 'end_repetition_id': 3, 'save_probabilities': False, 'addPastDeforestationInput': True, 'classes_mode': True, 'learning_rate': 0.0001, 'use_cloud_mask': False, 'mask_out_non_biome': True, 'log_filename': 'log.pkl'}\n"
     ]
    }
   ],
   "source": [
    "\n",
    "with open('config/config.json', 'r') as f:\n",
    "    config = json.load(f)\n",
    "    \n",
    "print(\"Mode: {}. Site: {}. Training: {}. Training date: {}\".format(\n",
    "    config['mode'], config['site'], config['training'], config['training_date']))\n",
    "print(config)\n"
   ]
  },
  {
   "cell_type": "code",
   "execution_count": 4,
   "id": "603a5df7",
   "metadata": {},
   "outputs": [
    {
     "name": "stderr",
     "output_type": "stream",
     "text": [
      "ic| list(self.date_ids): [0]\n",
      "ic| self.image_channels: [[0, 1, 2, 3, 4, 5, 6, 7, 8]]\n",
      "ic| dates: [2019, 2020]\n",
      "ic| self.input_image_shape: 9\n",
      "ic| self.dataset.image_channels: [[0, 1, 2, 3, 4, 5, 6, 7, 8]]\n"
     ]
    }
   ],
   "source": [
    "\n",
    "if config['site'] == 'PA':\n",
    "\tif config['training_date'] == 'earlier':\n",
    "\t\tdates = [2017, 2018]\n",
    "\telse:\n",
    "\t\tdates = [2018, 2019]\n",
    "\tdatasetClass = PAMultipleDates\n",
    "elif config['site'] == 'MT':\n",
    "\tif config['training_date'] == 'earlier':\n",
    "\t\tdates = [2018, 2019]\n",
    "\telse:\n",
    "\t\tdates = [2019, 2020]\n",
    "\tdatasetClass = MTMultipleDates\n",
    "elif config['site'] == 'MS':\n",
    "\tif config['training_date'] == 'earlier':\n",
    "\t\tdates = [2018, 2019]\n",
    "\telse:\n",
    "\t\tdates = [2019, 2020]\n",
    "\tdatasetClass = MSMultipleDates\n",
    "elif config['site'] == 'PI':\n",
    "\tif config['training_date'] == 'earlier':\n",
    "\t\tdates = [2018, 2019]\n",
    "\telse:\n",
    "\t\tdates = [2019, 2020]\n",
    "\tdatasetClass = PIMultipleDates\n",
    "else:\n",
    "\traise ValueError('Invalid site')\n",
    "\n",
    "dataset = datasetClass(config = config,\n",
    "\t\t\t   dates = dates, \n",
    "\t \taddPastDeforestationInput = config['addPastDeforestationInput'],\n",
    "\t\tborderBuffer = 2)\t\n",
    "\n",
    "if config['mode'] == 'ensemble':\n",
    "\tif config['training'] == True:\n",
    "\t\tconfig['mode'] = 'single_run'\n",
    "\telse:\n",
    "\t\tsys.exit(\"Ensure that training is True for ensemble mode. Use infer_ensemble.ipynb for inference.\")\n",
    "\n",
    "if config['training'] == False:\n",
    "\tif config['site'] == 'PA':\n",
    "\t\tif config['mode'] == 'mcd' or config['mode'] == 'single_run': # MCD will do 10 inference on each of the 10 repetitions = 100 runs\n",
    "\t\t\tif config['training_date'] == 'current': exp = 0\n",
    "\t\t\telif config['training_date'] == 'earlier': exp = 1\n",
    "\t\t\t\t\n",
    "\t\tif config['mode'] == 'evidential2':\n",
    "\t\t\tif config['training_date'] == 'current': exp = 8; repetition_id = 0\n",
    "\t\t\telif config['training_date'] == 'earlier': exp = 48; repetition_id = 0\n",
    "\n",
    "\telif config['site'] == 'MT':\n",
    "\n",
    "\t\tif config['mode'] == 'mcd' or config['mode'] == 'single_run':\n",
    "\t\t\tif config['training_date'] == 'current': exp = 2\n",
    "\t\t\telif config['training_date'] == 'earlier': exp = 3\n",
    "\t\tif config['mode'] == 'evidential2':\n",
    "\t\t\tif config['training_date'] == 'current': exp = 10; repetition_id = 0\n",
    "\t\t\telif config['training_date'] == 'earlier': exp = 42; repetition_id = 0\n",
    "\n",
    "\telif config['site'] == 'MS':\n",
    "\n",
    "\t\tif config['mode'] == 'mcd' or config['mode'] == 'single_run':\n",
    "\t\t\tif config['training_date'] == 'current': exp = 40\n",
    "\t\t\telif config['training_date'] == 'earlier': \n",
    "\t\t\t\texp = 37\n",
    "\n",
    "\t\tif config['mode'] == 'evidential2':\n",
    "\t\t\tif config['training_date'] == 'current': exp = 12; repetition_id = 0\n",
    "\t\t\telif config['training_date'] == 'earlier': exp = 39; repetition_id = 0\n",
    "\telif config['site'] == 'PI':\n",
    "\n",
    "\t\tif config['mode'] == 'mcd' or config['mode'] == 'single_run':\n",
    "\t\t\tif config['training_date'] == 'current': exp = 44\n",
    "\t\t\telif config['training_date'] == 'earlier': exp = 27\n",
    "\t\tif config['mode'] == 'evidential2':\n",
    "\t\t\tif config['training_date'] == 'current': exp = 45; repetition_id = 0\n",
    "\t\t\telif config['training_date'] == 'earlier': exp = 39; repetition_id = 0\n",
    "\n",
    "else:\n",
    "\texp = config['training_experiment_id']\n",
    "ic(dates)\n",
    "\n",
    "\n",
    "if issubclass(type(dataset), MultipleDates):\n",
    "\tpatchesHandler = PatchesHandlerMultipleDates(\n",
    "\t\tdataset)\n",
    "elif config['mode'] == 'evidential2':\n",
    "\tpatchesHandler = PatchesHandlerEvidential2()\n",
    "else:\n",
    "\tpatchesHandler = PatchesHandler()\n",
    "\n"
   ]
  },
  {
   "cell_type": "code",
   "execution_count": 5,
   "id": "1bb339c8",
   "metadata": {},
   "outputs": [],
   "source": [
    "\n",
    "\n",
    "if config['mode'] == 'evidential2':\n",
    "    config[\"inference_times\"] = 1\n",
    "    manager_class = ManagerEvidential2\n",
    "    config['uncertainty_method'] = \"pred_entropy\"\n",
    "    config['classes_mode'] = True\n",
    "    \n",
    "if config['mode'] == 'mcd':\n",
    "    config[\"inference_times\"] = 10\n",
    "    manager_class = ManagerMCDropout\n",
    "    config['uncertainty_method'] = \"pred_entropy\"\n",
    "    config['classes_mode'] = False\n",
    "\n",
    "elif config['mode'] == 'single_run':\n",
    "    config[\"inference_times\"] = 1\n",
    "    manager_class = ManagerSingleRun\n",
    "    config['uncertainty_method'] = \"pred_entropy_single\"\n",
    "    config['classes_mode'] = False\n",
    "\n"
   ]
  },
  {
   "cell_type": "code",
   "execution_count": 6,
   "id": "c7ae3a0c",
   "metadata": {},
   "outputs": [
    {
     "data": {
      "text/plain": [
       "46"
      ]
     },
     "execution_count": 6,
     "metadata": {},
     "output_type": "execute_result"
    }
   ],
   "source": [
    "exp"
   ]
  },
  {
   "cell_type": "code",
   "execution_count": 7,
   "id": "cfa1145d",
   "metadata": {},
   "outputs": [],
   "source": [
    "logger = Logger()\n"
   ]
  },
  {
   "cell_type": "code",
   "execution_count": 8,
   "id": "55da0bd1",
   "metadata": {},
   "outputs": [
    {
     "name": "stdout",
     "output_type": "stream",
     "text": [
      "manager.config['dropout_training'] False\n",
      "D:/Jorge/datasets/deforestation/PI/deforestation_past_years.tif\n",
      "Loaded deforestation past years\n"
     ]
    },
    {
     "name": "stderr",
     "output_type": "stream",
     "text": [
      "ic| np.unique(deforestation_past_years, return_counts=True): (array([   0, 2002, 2004, 2006, 2008, 2010, 2012, 2013, 2014, 2015, 2016,\n",
      "                                                                    2017, 2018, 2019, 2020, 2021], dtype=uint16),\n",
      "                                                              array([340580606,   4312043,   6953620,   5659916,   7162776,   6261432,\n",
      "                                                                      8191420,   3233962,   3270293,   3044419,   1817289,   2359424,\n",
      "                                                                      2201926,   3050229,   2901307,   2418575], dtype=int64))\n"
     ]
    },
    {
     "name": "stdout",
     "output_type": "stream",
     "text": [
      "Label where deforestation past years is actual date (2020) = 1\n"
     ]
    },
    {
     "name": "stderr",
     "output_type": "stream",
     "text": [
      "ic| np.unique(deforestation_past_years, return_counts=True): (array([   0, 2002, 2004, 2006, 2008, 2010, 2012, 2013, 2014, 2015, 2016,\n",
      "                                                                    2017, 2018, 2019, 2020, 2021], dtype=uint16),\n",
      "                                                              array([340580606,   4312043,   6953620,   5659916,   7162776,   6261432,\n",
      "                                                                      8191420,   3233962,   3270293,   3044419,   1817289,   2359424,\n",
      "                                                                      2201926,   3050229,   2901307,   2418575], dtype=int64))\n"
     ]
    },
    {
     "name": "stdout",
     "output_type": "stream",
     "text": [
      "Past deforestation different from 0 (no deforestation)\n"
     ]
    },
    {
     "name": "stderr",
     "output_type": "stream",
     "text": [
      "ic| np.unique(deforestation_past_years, return_counts=True): (array([   0, 2002, 2004, 2006, 2008, 2010, 2012, 2013, 2014, 2015, 2016,\n",
      "                                                                    2017, 2018, 2019, 2020, 2021], dtype=uint16),\n",
      "                                                              array([340580606,   4312043,   6953620,   5659916,   7162776,   6261432,\n",
      "                                                                      8191420,   3233962,   3270293,   3044419,   1817289,   2359424,\n",
      "                                                                      2201926,   3050229,   2901307,   2418575], dtype=int64))\n"
     ]
    },
    {
     "name": "stdout",
     "output_type": "stream",
     "text": [
      "Past deforestation before 2008 is 2\n",
      "D:/Jorge/datasets/deforestation/PI/deforestation_before_2000_PI.tif\n"
     ]
    },
    {
     "name": "stderr",
     "output_type": "stream",
     "text": [
      "ic| np.unique(label_past_deforestation_before_2008, return_counts=True): (array([  0, 208], dtype=uint8), array([385251297,  18167940], dtype=int64))\n",
      "ic| np.unique(deforestation_past_years, return_counts=True): (array([   0, 2002, 2004, 2006, 2008, 2010, 2012, 2013, 2014, 2015, 2016,\n",
      "                                                                    2017, 2018, 2019, 2020, 2021], dtype=uint16),\n",
      "                                                              array([340580606,   4312043,   6953620,   5659916,   7162776,   6261432,\n",
      "                                                                      8191420,   3233962,   3270293,   3044419,   1817289,   2359424,\n",
      "                                                                      2201926,   3050229,   2901307,   2418575], dtype=int64))\n"
     ]
    },
    {
     "name": "stdout",
     "output_type": "stream",
     "text": [
      "D:/Jorge/datasets/sentinel2/PI/biome_limits.tif\n"
     ]
    },
    {
     "name": "stderr",
     "output_type": "stream",
     "text": [
      "ic| label_per_date.shape: (19357, 20841, 1)\n"
     ]
    },
    {
     "name": "stdout",
     "output_type": "stream",
     "text": [
      "Removing bufer................\n",
      "Mask label shape:  \n",
      " (19357, 20841, 1) \n",
      " Unique values:  \n",
      " [0 1 2]\n",
      "Tiles size:  3871 4168\n",
      "Mask size:  (19355, 20840)\n"
     ]
    },
    {
     "name": "stderr",
     "output_type": "stream",
     "text": [
      "ic| image_stack.shape: (19357, 20841, 9)\n"
     ]
    },
    {
     "name": "stdout",
     "output_type": "stream",
     "text": [
      "Image shape:  (19357, 20841, 9)\n",
      "mask:  (19355, 20840)\n",
      "image stack:  (19355, 20840, 9)\n",
      "ref : (19355, 20840, 1)\n",
      "Training tiles:  [2, 4, 5, 6, 7, 12, 14, 15, 18, 21, 23, 25]\n",
      "Validation tiles:  [9, 11, 24]\n",
      "Test tiles:  [1, 3, 8, 10, 13, 16, 17, 19, 20, 22]\n"
     ]
    },
    {
     "name": "stderr",
     "output_type": "stream",
     "text": [
      "ic| im_idx_row.shape: (19355, 20840, 1)\n",
      "    im_idx_col.shape: (19355, 20840, 1)\n",
      "ic| im_idx_row.dtype: dtype('uint16')\n",
      "    im_idx_col.dtype: dtype('uint16')\n",
      "ic| im_idx.shape: (19355, 20840, 2), im_idx.dtype: dtype('uint16')\n",
      "ic| coords.shape: (506, 546, 1, 128, 128, 2)\n",
      "    coords.dtype: dtype('uint16')\n",
      "ic| coords.shape: (276276, 2), coords.dtype: dtype('uint16')\n",
      "ic| self.coords_train.shape: (128251, 3)\n",
      "    self.coords_val.shape: (31475, 3)\n"
     ]
    },
    {
     "name": "stdout",
     "output_type": "stream",
     "text": [
      "training samples:  (7680, 3) validation samples:  (1810, 3)\n",
      "time:  0\n"
     ]
    },
    {
     "name": "stderr",
     "output_type": "stream",
     "text": [
      "c:\\Users\\jchamorro\\Anaconda3\\envs\\tf2\\lib\\site-packages\\tensorflow\\python\\keras\\optimizer_v2\\optimizer_v2.py:374: UserWarning: The `lr` argument is deprecated, use `learning_rate` instead.\n",
      "  warnings.warn(\n"
     ]
    },
    {
     "name": "stdout",
     "output_type": "stream",
     "text": [
      "Model: \"model\"\n",
      "__________________________________________________________________________________________________\n",
      "Layer (type)                    Output Shape         Param #     Connected to                     \n",
      "==================================================================================================\n",
      "input_enc_net (InputLayer)      [(None, 128, 128, 9) 0                                            \n",
      "__________________________________________________________________________________________________\n",
      "res1_net1 (Conv2D)              (None, 128, 128, 16) 1312        input_enc_net[0][0]              \n",
      "__________________________________________________________________________________________________\n",
      "drop_net1 (SpatialDropout2D)    (None, 128, 128, 16) 0           res1_net1[0][0]                  \n",
      "__________________________________________________________________________________________________\n",
      "res2_net1 (Conv2D)              (None, 128, 128, 16) 2320        drop_net1[0][0]                  \n",
      "__________________________________________________________________________________________________\n",
      "res3_net1 (Conv2D)              (None, 128, 128, 16) 160         input_enc_net[0][0]              \n",
      "__________________________________________________________________________________________________\n",
      "add (Add)                       (None, 128, 128, 16) 0           res2_net1[0][0]                  \n",
      "                                                                 res3_net1[0][0]                  \n",
      "__________________________________________________________________________________________________\n",
      "pool_net1 (MaxPooling2D)        (None, 64, 64, 16)   0           add[0][0]                        \n",
      "__________________________________________________________________________________________________\n",
      "res1_net2 (Conv2D)              (None, 64, 64, 32)   4640        pool_net1[0][0]                  \n",
      "__________________________________________________________________________________________________\n",
      "drop_net2 (SpatialDropout2D)    (None, 64, 64, 32)   0           res1_net2[0][0]                  \n",
      "__________________________________________________________________________________________________\n",
      "res2_net2 (Conv2D)              (None, 64, 64, 32)   9248        drop_net2[0][0]                  \n",
      "__________________________________________________________________________________________________\n",
      "res3_net2 (Conv2D)              (None, 64, 64, 32)   544         pool_net1[0][0]                  \n",
      "__________________________________________________________________________________________________\n",
      "add_1 (Add)                     (None, 64, 64, 32)   0           res2_net2[0][0]                  \n",
      "                                                                 res3_net2[0][0]                  \n",
      "__________________________________________________________________________________________________\n",
      "pool_net2 (MaxPooling2D)        (None, 32, 32, 32)   0           add_1[0][0]                      \n",
      "__________________________________________________________________________________________________\n",
      "res1_net3 (Conv2D)              (None, 32, 32, 64)   18496       pool_net2[0][0]                  \n",
      "__________________________________________________________________________________________________\n",
      "drop_net3 (SpatialDropout2D)    (None, 32, 32, 64)   0           res1_net3[0][0]                  \n",
      "__________________________________________________________________________________________________\n",
      "res2_net3 (Conv2D)              (None, 32, 32, 64)   36928       drop_net3[0][0]                  \n",
      "__________________________________________________________________________________________________\n",
      "res3_net3 (Conv2D)              (None, 32, 32, 64)   2112        pool_net2[0][0]                  \n",
      "__________________________________________________________________________________________________\n",
      "add_2 (Add)                     (None, 32, 32, 64)   0           res2_net3[0][0]                  \n",
      "                                                                 res3_net3[0][0]                  \n",
      "__________________________________________________________________________________________________\n",
      "pool_net3 (MaxPooling2D)        (None, 16, 16, 64)   0           add_2[0][0]                      \n",
      "__________________________________________________________________________________________________\n",
      "res1_net4 (Conv2D)              (None, 16, 16, 64)   36928       pool_net3[0][0]                  \n",
      "__________________________________________________________________________________________________\n",
      "drop_net4 (SpatialDropout2D)    (None, 16, 16, 64)   0           res1_net4[0][0]                  \n",
      "__________________________________________________________________________________________________\n",
      "res2_net4 (Conv2D)              (None, 16, 16, 64)   36928       drop_net4[0][0]                  \n",
      "__________________________________________________________________________________________________\n",
      "res3_net4 (Conv2D)              (None, 16, 16, 64)   4160        pool_net3[0][0]                  \n",
      "__________________________________________________________________________________________________\n",
      "add_3 (Add)                     (None, 16, 16, 64)   0           res2_net4[0][0]                  \n",
      "                                                                 res3_net4[0][0]                  \n",
      "__________________________________________________________________________________________________\n",
      "res1_net5 (Conv2D)              (None, 16, 16, 64)   36928       add_3[0][0]                      \n",
      "__________________________________________________________________________________________________\n",
      "drop_net5 (SpatialDropout2D)    (None, 16, 16, 64)   0           res1_net5[0][0]                  \n",
      "__________________________________________________________________________________________________\n",
      "res2_net5 (Conv2D)              (None, 16, 16, 64)   36928       drop_net5[0][0]                  \n",
      "__________________________________________________________________________________________________\n",
      "res3_net5 (Conv2D)              (None, 16, 16, 64)   4160        add_3[0][0]                      \n",
      "__________________________________________________________________________________________________\n",
      "add_4 (Add)                     (None, 16, 16, 64)   0           res2_net5[0][0]                  \n",
      "                                                                 res3_net5[0][0]                  \n",
      "__________________________________________________________________________________________________\n",
      "res1_net6 (Conv2D)              (None, 16, 16, 64)   36928       add_4[0][0]                      \n",
      "__________________________________________________________________________________________________\n",
      "drop_net6 (SpatialDropout2D)    (None, 16, 16, 64)   0           res1_net6[0][0]                  \n",
      "__________________________________________________________________________________________________\n",
      "res2_net6 (Conv2D)              (None, 16, 16, 64)   36928       drop_net6[0][0]                  \n",
      "__________________________________________________________________________________________________\n",
      "res3_net6 (Conv2D)              (None, 16, 16, 64)   4160        add_4[0][0]                      \n",
      "__________________________________________________________________________________________________\n",
      "add_5 (Add)                     (None, 16, 16, 64)   0           res2_net6[0][0]                  \n",
      "                                                                 res3_net6[0][0]                  \n",
      "__________________________________________________________________________________________________\n",
      "up_sampling2d (UpSampling2D)    (None, 32, 32, 64)   0           add_5[0][0]                      \n",
      "__________________________________________________________________________________________________\n",
      "upsampling_net3 (Conv2D)        (None, 32, 32, 64)   36928       up_sampling2d[0][0]              \n",
      "__________________________________________________________________________________________________\n",
      "spatial_dropout2d (SpatialDropo (None, 32, 32, 64)   0           upsampling_net3[0][0]            \n",
      "__________________________________________________________________________________________________\n",
      "concatenate3 (Concatenate)      (None, 32, 32, 128)  0           add_2[0][0]                      \n",
      "                                                                 spatial_dropout2d[0][0]          \n",
      "__________________________________________________________________________________________________\n",
      "up_sampling2d_1 (UpSampling2D)  (None, 64, 64, 128)  0           concatenate3[0][0]               \n",
      "__________________________________________________________________________________________________\n",
      "upsampling_net2 (Conv2D)        (None, 64, 64, 32)   36896       up_sampling2d_1[0][0]            \n",
      "__________________________________________________________________________________________________\n",
      "spatial_dropout2d_1 (SpatialDro (None, 64, 64, 32)   0           upsampling_net2[0][0]            \n",
      "__________________________________________________________________________________________________\n",
      "concatenate2 (Concatenate)      (None, 64, 64, 64)   0           add_1[0][0]                      \n",
      "                                                                 spatial_dropout2d_1[0][0]        \n",
      "__________________________________________________________________________________________________\n",
      "up_sampling2d_2 (UpSampling2D)  (None, 128, 128, 64) 0           concatenate2[0][0]               \n",
      "__________________________________________________________________________________________________\n",
      "upsampling_net1 (Conv2D)        (None, 128, 128, 16) 9232        up_sampling2d_2[0][0]            \n",
      "__________________________________________________________________________________________________\n",
      "spatial_dropout2d_2 (SpatialDro (None, 128, 128, 16) 0           upsampling_net1[0][0]            \n",
      "__________________________________________________________________________________________________\n",
      "concatenate1 (Concatenate)      (None, 128, 128, 32) 0           add[0][0]                        \n",
      "                                                                 spatial_dropout2d_2[0][0]        \n",
      "__________________________________________________________________________________________________\n",
      "output (Conv2D)                 (None, 128, 128, 2)  66          concatenate1[0][0]               \n",
      "__________________________________________________________________________________________________\n",
      "dirichlet_layer (DirichletLayer (None, 128, 128, 2)  0           output[0][0]                     \n",
      "==================================================================================================\n",
      "Total params: 392,930\n",
      "Trainable params: 392,930\n",
      "Non-trainable params: 0\n",
      "__________________________________________________________________________________________________\n",
      "Epoch: 1\n",
      "Anneling Coeficient 0\n",
      "K.int_shape(mse) (None, 128, 128, 1)\n",
      "K.int_shape(mask) (None, None, None, 1)\n",
      "K.int_shape(E) (None, 128, 128, 2)\n",
      "K.int_shape(y_truth) (None, None, None, None)\n",
      "K.int_shape(mse) (None, 128, 128, 1)\n",
      "K.int_shape(mask) (None, None, None, 1)\n",
      "K.int_shape(E) (None, 128, 128, 2)\n",
      "K.int_shape(y_truth) (None, None, None, None)\n",
      "720/720 [==============================] - ETA: 0s - loss: 0.3213 - accuracy: 0.6128K.int_shape(mse) (None, 128, 128, 1)\n",
      "K.int_shape(mask) (None, None, None, 1)\n",
      "K.int_shape(E) (None, 128, 128, 2)\n",
      "K.int_shape(y_truth) (None, None, None, None)\n",
      "720/720 [==============================] - 44s 49ms/step - loss: 0.3213 - accuracy: 0.6128 - val_loss: 0.2924 - val_accuracy: 0.6291\n",
      "\n",
      "Epoch 00001: val_loss improved from inf to 0.29242, saving model to D:/Jorge/datasets/deforestation/experiments/PI/exp46/models\\resunet_0.h5\n",
      "New best val loss. Val loss: 0.29242. Early stop count: 0\n",
      "Epoch: 2\n",
      "Anneling Coeficient [0.1]\n",
      "  1/720 [..............................] - ETA: 37s - loss: 0.2778 - accuracy: 0.5810"
     ]
    },
    {
     "name": "stderr",
     "output_type": "stream",
     "text": [
      "c:\\Users\\jchamorro\\Anaconda3\\envs\\tf2\\lib\\site-packages\\tensorflow\\python\\keras\\utils\\generic_utils.py:494: CustomMaskWarning: Custom mask layers require a config and must override get_config. When loading, the custom mask layer must be passed to the custom_objects argument.\n",
      "  warnings.warn('Custom mask layers require a config and must override '\n"
     ]
    },
    {
     "name": "stdout",
     "output_type": "stream",
     "text": [
      "720/720 [==============================] - 35s 48ms/step - loss: 0.2788 - accuracy: 0.6214 - val_loss: 0.3060 - val_accuracy: 0.6294\n",
      "\n",
      "Epoch 00001: val_loss did not improve from 0.29242\n",
      "Early stop count: 1\n",
      "Epoch: 3\n",
      "Anneling Coeficient [0.2]\n",
      "720/720 [==============================] - 35s 48ms/step - loss: 0.2670 - accuracy: 0.6224 - val_loss: 0.2897 - val_accuracy: 0.6288\n",
      "\n",
      "Epoch 00001: val_loss improved from 0.29242 to 0.28970, saving model to D:/Jorge/datasets/deforestation/experiments/PI/exp46/models\\resunet_0.h5\n",
      "New best val loss. Val loss: 0.2897. Early stop count: 0\n",
      "Epoch: 4\n",
      "Anneling Coeficient [0.3]\n",
      "720/720 [==============================] - 35s 48ms/step - loss: 0.2586 - accuracy: 0.6221 - val_loss: 0.2858 - val_accuracy: 0.6282\n",
      "\n",
      "Epoch 00001: val_loss improved from 0.28970 to 0.28580, saving model to D:/Jorge/datasets/deforestation/experiments/PI/exp46/models\\resunet_0.h5\n",
      "New best val loss. Val loss: 0.2858. Early stop count: 0\n",
      "Epoch: 5\n",
      "Anneling Coeficient [0.4]\n",
      "720/720 [==============================] - 35s 48ms/step - loss: 0.2533 - accuracy: 0.6226 - val_loss: 0.2788 - val_accuracy: 0.6284\n",
      "\n",
      "Epoch 00001: val_loss improved from 0.28580 to 0.27876, saving model to D:/Jorge/datasets/deforestation/experiments/PI/exp46/models\\resunet_0.h5\n",
      "New best val loss. Val loss: 0.27876. Early stop count: 0\n",
      "Epoch: 6\n",
      "Anneling Coeficient [0.5]\n",
      "720/720 [==============================] - 35s 49ms/step - loss: 0.2487 - accuracy: 0.6217 - val_loss: 0.2817 - val_accuracy: 0.6283\n",
      "\n",
      "Epoch 00001: val_loss did not improve from 0.27876\n",
      "Early stop count: 1\n",
      "Epoch: 7\n",
      "Anneling Coeficient [0.6]\n",
      "720/720 [==============================] - 35s 48ms/step - loss: 0.2424 - accuracy: 0.6558 - val_loss: 0.2769 - val_accuracy: 0.6602\n",
      "\n",
      "Epoch 00001: val_loss improved from 0.27876 to 0.27693, saving model to D:/Jorge/datasets/deforestation/experiments/PI/exp46/models\\resunet_0.h5\n",
      "New best val loss. Val loss: 0.27693. Early stop count: 0\n",
      "Epoch: 8\n",
      "Anneling Coeficient [0.7]\n",
      "720/720 [==============================] - 35s 48ms/step - loss: 0.2344 - accuracy: 0.6842 - val_loss: 0.2928 - val_accuracy: 0.6620\n",
      "\n",
      "Epoch 00001: val_loss did not improve from 0.27693\n",
      "Early stop count: 1\n",
      "Epoch: 9\n",
      "Anneling Coeficient [0.8]\n",
      "720/720 [==============================] - 35s 49ms/step - loss: 0.2279 - accuracy: 0.6895 - val_loss: 0.3140 - val_accuracy: 0.6621\n",
      "\n",
      "Epoch 00001: val_loss did not improve from 0.27693\n",
      "Early stop count: 2\n",
      "Epoch: 10\n",
      "Anneling Coeficient [0.9]\n",
      "720/720 [==============================] - 35s 48ms/step - loss: 0.2246 - accuracy: 0.6910 - val_loss: 0.2832 - val_accuracy: 0.6676\n",
      "\n",
      "Epoch 00001: val_loss did not improve from 0.27693\n",
      "Early stop count: 3\n",
      "Epoch: 11\n",
      "Anneling Coeficient [1.]\n",
      "720/720 [==============================] - 35s 48ms/step - loss: 0.2229 - accuracy: 0.6911 - val_loss: 0.2800 - val_accuracy: 0.6644\n",
      "\n",
      "Epoch 00001: val_loss did not improve from 0.27693\n",
      "Early stop count: 4\n",
      "Epoch: 12\n",
      "Anneling Coeficient [1.]\n",
      "720/720 [==============================] - 35s 49ms/step - loss: 0.2202 - accuracy: 0.6923 - val_loss: 0.2831 - val_accuracy: 0.6691\n",
      "\n",
      "Epoch 00001: val_loss did not improve from 0.27693\n",
      "Early stop count: 5\n",
      "Epoch: 13\n",
      "Anneling Coeficient [1.]\n",
      "720/720 [==============================] - 35s 49ms/step - loss: 0.2179 - accuracy: 0.6940 - val_loss: 0.2893 - val_accuracy: 0.6681\n",
      "\n",
      "Epoch 00001: val_loss did not improve from 0.27693\n",
      "Early stop count: 6\n",
      "Epoch: 14\n",
      "Anneling Coeficient [1.]\n",
      "720/720 [==============================] - 35s 49ms/step - loss: 0.2151 - accuracy: 0.6942 - val_loss: 0.2961 - val_accuracy: 0.6691\n",
      "\n",
      "Epoch 00001: val_loss did not improve from 0.27693\n",
      "Early stop count: 7\n",
      "Epoch: 15\n",
      "Anneling Coeficient [1.]\n",
      "720/720 [==============================] - 35s 49ms/step - loss: 0.2153 - accuracy: 0.6943 - val_loss: 0.2928 - val_accuracy: 0.6674\n",
      "\n",
      "Epoch 00001: val_loss did not improve from 0.27693\n",
      "Early stop count: 8\n",
      "Epoch: 16\n",
      "Anneling Coeficient [1.]\n",
      "720/720 [==============================] - 35s 49ms/step - loss: 0.2128 - accuracy: 0.6955 - val_loss: 0.2968 - val_accuracy: 0.6716\n",
      "\n",
      "Epoch 00001: val_loss did not improve from 0.27693\n",
      "Early stop count: 9\n",
      "Epoch: 17\n",
      "Anneling Coeficient [1.]\n",
      "720/720 [==============================] - 35s 49ms/step - loss: 0.2112 - accuracy: 0.6966 - val_loss: 0.3000 - val_accuracy: 0.6707\n",
      "\n",
      "Epoch 00001: val_loss did not improve from 0.27693\n",
      "Early stop count: 10\n",
      "Early stopping\n",
      "10 10\n",
      "Finished Training\n",
      "Training time:  604.5441932678223\n",
      "time:  1\n",
      "Model: \"model_1\"\n",
      "__________________________________________________________________________________________________\n",
      "Layer (type)                    Output Shape         Param #     Connected to                     \n",
      "==================================================================================================\n",
      "input_enc_net (InputLayer)      [(None, 128, 128, 9) 0                                            \n",
      "__________________________________________________________________________________________________\n",
      "res1_net1 (Conv2D)              (None, 128, 128, 16) 1312        input_enc_net[0][0]              \n",
      "__________________________________________________________________________________________________\n",
      "drop_net1 (SpatialDropout2D)    (None, 128, 128, 16) 0           res1_net1[0][0]                  \n",
      "__________________________________________________________________________________________________\n",
      "res2_net1 (Conv2D)              (None, 128, 128, 16) 2320        drop_net1[0][0]                  \n",
      "__________________________________________________________________________________________________\n",
      "res3_net1 (Conv2D)              (None, 128, 128, 16) 160         input_enc_net[0][0]              \n",
      "__________________________________________________________________________________________________\n",
      "add_6 (Add)                     (None, 128, 128, 16) 0           res2_net1[0][0]                  \n",
      "                                                                 res3_net1[0][0]                  \n",
      "__________________________________________________________________________________________________\n",
      "pool_net1 (MaxPooling2D)        (None, 64, 64, 16)   0           add_6[0][0]                      \n",
      "__________________________________________________________________________________________________\n",
      "res1_net2 (Conv2D)              (None, 64, 64, 32)   4640        pool_net1[0][0]                  \n",
      "__________________________________________________________________________________________________\n",
      "drop_net2 (SpatialDropout2D)    (None, 64, 64, 32)   0           res1_net2[0][0]                  \n",
      "__________________________________________________________________________________________________\n",
      "res2_net2 (Conv2D)              (None, 64, 64, 32)   9248        drop_net2[0][0]                  \n",
      "__________________________________________________________________________________________________\n",
      "res3_net2 (Conv2D)              (None, 64, 64, 32)   544         pool_net1[0][0]                  \n",
      "__________________________________________________________________________________________________\n",
      "add_7 (Add)                     (None, 64, 64, 32)   0           res2_net2[0][0]                  \n",
      "                                                                 res3_net2[0][0]                  \n",
      "__________________________________________________________________________________________________\n",
      "pool_net2 (MaxPooling2D)        (None, 32, 32, 32)   0           add_7[0][0]                      \n",
      "__________________________________________________________________________________________________\n",
      "res1_net3 (Conv2D)              (None, 32, 32, 64)   18496       pool_net2[0][0]                  \n",
      "__________________________________________________________________________________________________\n",
      "drop_net3 (SpatialDropout2D)    (None, 32, 32, 64)   0           res1_net3[0][0]                  \n",
      "__________________________________________________________________________________________________\n",
      "res2_net3 (Conv2D)              (None, 32, 32, 64)   36928       drop_net3[0][0]                  \n",
      "__________________________________________________________________________________________________\n",
      "res3_net3 (Conv2D)              (None, 32, 32, 64)   2112        pool_net2[0][0]                  \n",
      "__________________________________________________________________________________________________\n",
      "add_8 (Add)                     (None, 32, 32, 64)   0           res2_net3[0][0]                  \n",
      "                                                                 res3_net3[0][0]                  \n",
      "__________________________________________________________________________________________________\n",
      "pool_net3 (MaxPooling2D)        (None, 16, 16, 64)   0           add_8[0][0]                      \n",
      "__________________________________________________________________________________________________\n",
      "res1_net4 (Conv2D)              (None, 16, 16, 64)   36928       pool_net3[0][0]                  \n",
      "__________________________________________________________________________________________________\n",
      "drop_net4 (SpatialDropout2D)    (None, 16, 16, 64)   0           res1_net4[0][0]                  \n",
      "__________________________________________________________________________________________________\n",
      "res2_net4 (Conv2D)              (None, 16, 16, 64)   36928       drop_net4[0][0]                  \n",
      "__________________________________________________________________________________________________\n",
      "res3_net4 (Conv2D)              (None, 16, 16, 64)   4160        pool_net3[0][0]                  \n",
      "__________________________________________________________________________________________________\n",
      "add_9 (Add)                     (None, 16, 16, 64)   0           res2_net4[0][0]                  \n",
      "                                                                 res3_net4[0][0]                  \n",
      "__________________________________________________________________________________________________\n",
      "res1_net5 (Conv2D)              (None, 16, 16, 64)   36928       add_9[0][0]                      \n",
      "__________________________________________________________________________________________________\n",
      "drop_net5 (SpatialDropout2D)    (None, 16, 16, 64)   0           res1_net5[0][0]                  \n",
      "__________________________________________________________________________________________________\n",
      "res2_net5 (Conv2D)              (None, 16, 16, 64)   36928       drop_net5[0][0]                  \n",
      "__________________________________________________________________________________________________\n",
      "res3_net5 (Conv2D)              (None, 16, 16, 64)   4160        add_9[0][0]                      \n",
      "__________________________________________________________________________________________________\n",
      "add_10 (Add)                    (None, 16, 16, 64)   0           res2_net5[0][0]                  \n",
      "                                                                 res3_net5[0][0]                  \n",
      "__________________________________________________________________________________________________\n",
      "res1_net6 (Conv2D)              (None, 16, 16, 64)   36928       add_10[0][0]                     \n",
      "__________________________________________________________________________________________________\n",
      "drop_net6 (SpatialDropout2D)    (None, 16, 16, 64)   0           res1_net6[0][0]                  \n",
      "__________________________________________________________________________________________________\n",
      "res2_net6 (Conv2D)              (None, 16, 16, 64)   36928       drop_net6[0][0]                  \n",
      "__________________________________________________________________________________________________\n",
      "res3_net6 (Conv2D)              (None, 16, 16, 64)   4160        add_10[0][0]                     \n",
      "__________________________________________________________________________________________________\n",
      "add_11 (Add)                    (None, 16, 16, 64)   0           res2_net6[0][0]                  \n",
      "                                                                 res3_net6[0][0]                  \n",
      "__________________________________________________________________________________________________\n",
      "up_sampling2d_3 (UpSampling2D)  (None, 32, 32, 64)   0           add_11[0][0]                     \n",
      "__________________________________________________________________________________________________\n",
      "upsampling_net3 (Conv2D)        (None, 32, 32, 64)   36928       up_sampling2d_3[0][0]            \n",
      "__________________________________________________________________________________________________\n",
      "spatial_dropout2d_3 (SpatialDro (None, 32, 32, 64)   0           upsampling_net3[0][0]            \n",
      "__________________________________________________________________________________________________\n",
      "concatenate3 (Concatenate)      (None, 32, 32, 128)  0           add_8[0][0]                      \n",
      "                                                                 spatial_dropout2d_3[0][0]        \n",
      "__________________________________________________________________________________________________\n",
      "up_sampling2d_4 (UpSampling2D)  (None, 64, 64, 128)  0           concatenate3[0][0]               \n",
      "__________________________________________________________________________________________________\n",
      "upsampling_net2 (Conv2D)        (None, 64, 64, 32)   36896       up_sampling2d_4[0][0]            \n",
      "__________________________________________________________________________________________________\n",
      "spatial_dropout2d_4 (SpatialDro (None, 64, 64, 32)   0           upsampling_net2[0][0]            \n",
      "__________________________________________________________________________________________________\n",
      "concatenate2 (Concatenate)      (None, 64, 64, 64)   0           add_7[0][0]                      \n",
      "                                                                 spatial_dropout2d_4[0][0]        \n",
      "__________________________________________________________________________________________________\n",
      "up_sampling2d_5 (UpSampling2D)  (None, 128, 128, 64) 0           concatenate2[0][0]               \n",
      "__________________________________________________________________________________________________\n",
      "upsampling_net1 (Conv2D)        (None, 128, 128, 16) 9232        up_sampling2d_5[0][0]            \n",
      "__________________________________________________________________________________________________\n",
      "spatial_dropout2d_5 (SpatialDro (None, 128, 128, 16) 0           upsampling_net1[0][0]            \n",
      "__________________________________________________________________________________________________\n",
      "concatenate1 (Concatenate)      (None, 128, 128, 32) 0           add_6[0][0]                      \n",
      "                                                                 spatial_dropout2d_5[0][0]        \n",
      "__________________________________________________________________________________________________\n",
      "output (Conv2D)                 (None, 128, 128, 2)  66          concatenate1[0][0]               \n",
      "__________________________________________________________________________________________________\n",
      "dirichlet_layer_1 (DirichletLay (None, 128, 128, 2)  0           output[0][0]                     \n",
      "==================================================================================================\n",
      "Total params: 392,930\n",
      "Trainable params: 392,930\n",
      "Non-trainable params: 0\n",
      "__________________________________________________________________________________________________\n",
      "Epoch: 1\n",
      "Anneling Coeficient [1.]\n",
      "K.int_shape(mse) (None, 128, 128, 1)\n",
      "K.int_shape(mask) (None, None, None, 1)\n",
      "K.int_shape(E) (None, 128, 128, 2)\n",
      "K.int_shape(y_truth) (None, None, None, None)\n",
      "K.int_shape(mse) (None, 128, 128, 1)\n",
      "K.int_shape(mask) (None, None, None, 1)\n",
      "K.int_shape(E) (None, 128, 128, 2)\n",
      "K.int_shape(y_truth) (None, None, None, None)\n",
      "720/720 [==============================] - ETA: 0s - loss: 0.3402 - accuracy: 0.6209K.int_shape(mse) (None, 128, 128, 1)\n",
      "K.int_shape(mask) (None, None, None, 1)\n",
      "K.int_shape(E) (None, 128, 128, 2)\n",
      "K.int_shape(y_truth) (None, None, None, None)\n",
      "720/720 [==============================] - 37s 49ms/step - loss: 0.3402 - accuracy: 0.6209 - val_loss: 0.2873 - val_accuracy: 0.6317\n",
      "\n",
      "Epoch 00001: val_loss improved from inf to 0.28727, saving model to D:/Jorge/datasets/deforestation/experiments/PI/exp46/models\\resunet_1.h5\n",
      "New best val loss. Val loss: 0.28727. Early stop count: 0\n",
      "Epoch: 2\n",
      "Anneling Coeficient [0.1]\n",
      "720/720 [==============================] - 35s 49ms/step - loss: 0.2727 - accuracy: 0.6403 - val_loss: 0.2856 - val_accuracy: 0.6476\n",
      "\n",
      "Epoch 00001: val_loss improved from 0.28727 to 0.28561, saving model to D:/Jorge/datasets/deforestation/experiments/PI/exp46/models\\resunet_1.h5\n",
      "New best val loss. Val loss: 0.28561. Early stop count: 0\n",
      "Epoch: 3\n",
      "Anneling Coeficient [0.2]\n",
      "720/720 [==============================] - 35s 49ms/step - loss: 0.2580 - accuracy: 0.6662 - val_loss: 0.2854 - val_accuracy: 0.6567\n",
      "\n",
      "Epoch 00001: val_loss improved from 0.28561 to 0.28535, saving model to D:/Jorge/datasets/deforestation/experiments/PI/exp46/models\\resunet_1.h5\n",
      "New best val loss. Val loss: 0.28535. Early stop count: 0\n",
      "Epoch: 4\n",
      "Anneling Coeficient [0.3]\n",
      "720/720 [==============================] - 35s 49ms/step - loss: 0.2488 - accuracy: 0.6752 - val_loss: 0.2827 - val_accuracy: 0.6530\n",
      "\n",
      "Epoch 00001: val_loss improved from 0.28535 to 0.28269, saving model to D:/Jorge/datasets/deforestation/experiments/PI/exp46/models\\resunet_1.h5\n",
      "New best val loss. Val loss: 0.28269. Early stop count: 0\n",
      "Epoch: 5\n",
      "Anneling Coeficient [0.4]\n",
      "720/720 [==============================] - 35s 49ms/step - loss: 0.2413 - accuracy: 0.6821 - val_loss: 0.2926 - val_accuracy: 0.6625\n",
      "\n",
      "Epoch 00001: val_loss did not improve from 0.28269\n",
      "Early stop count: 1\n",
      "Epoch: 6\n",
      "Anneling Coeficient [0.5]\n",
      "720/720 [==============================] - 35s 49ms/step - loss: 0.2353 - accuracy: 0.6855 - val_loss: 0.3029 - val_accuracy: 0.6546\n",
      "\n",
      "Epoch 00001: val_loss did not improve from 0.28269\n",
      "Early stop count: 2\n",
      "Epoch: 7\n",
      "Anneling Coeficient [0.6]\n",
      "720/720 [==============================] - 35s 49ms/step - loss: 0.2304 - accuracy: 0.6881 - val_loss: 0.3008 - val_accuracy: 0.6610\n",
      "\n",
      "Epoch 00001: val_loss did not improve from 0.28269\n",
      "Early stop count: 3\n",
      "Epoch: 8\n",
      "Anneling Coeficient [0.7]\n",
      "720/720 [==============================] - 35s 49ms/step - loss: 0.2270 - accuracy: 0.6892 - val_loss: 0.2872 - val_accuracy: 0.6541\n",
      "\n",
      "Epoch 00001: val_loss did not improve from 0.28269\n",
      "Early stop count: 4\n",
      "Epoch: 9\n",
      "Anneling Coeficient [0.8]\n",
      "720/720 [==============================] - 35s 49ms/step - loss: 0.2247 - accuracy: 0.6909 - val_loss: 0.2948 - val_accuracy: 0.6656\n",
      "\n",
      "Epoch 00001: val_loss did not improve from 0.28269\n",
      "Early stop count: 5\n",
      "Epoch: 10\n",
      "Anneling Coeficient [0.9]\n",
      "720/720 [==============================] - 35s 49ms/step - loss: 0.2219 - accuracy: 0.6922 - val_loss: 0.2996 - val_accuracy: 0.6606\n",
      "\n",
      "Epoch 00001: val_loss did not improve from 0.28269\n",
      "Early stop count: 6\n",
      "Epoch: 11\n",
      "Anneling Coeficient [1.]\n",
      "720/720 [==============================] - 35s 49ms/step - loss: 0.2195 - accuracy: 0.6928 - val_loss: 0.2966 - val_accuracy: 0.6648\n",
      "\n",
      "Epoch 00001: val_loss did not improve from 0.28269\n",
      "Early stop count: 7\n",
      "Epoch: 12\n",
      "Anneling Coeficient [1.]\n",
      "720/720 [==============================] - 35s 49ms/step - loss: 0.2188 - accuracy: 0.6936 - val_loss: 0.2973 - val_accuracy: 0.6654\n",
      "\n",
      "Epoch 00001: val_loss did not improve from 0.28269\n",
      "Early stop count: 8\n",
      "Epoch: 13\n",
      "Anneling Coeficient [1.]\n",
      "720/720 [==============================] - 35s 49ms/step - loss: 0.2159 - accuracy: 0.6932 - val_loss: 0.2899 - val_accuracy: 0.6658\n",
      "\n",
      "Epoch 00001: val_loss did not improve from 0.28269\n",
      "Early stop count: 9\n",
      "Epoch: 14\n",
      "Anneling Coeficient [1.]\n",
      "720/720 [==============================] - 35s 49ms/step - loss: 0.2151 - accuracy: 0.6961 - val_loss: 0.2949 - val_accuracy: 0.6666\n",
      "\n",
      "Epoch 00001: val_loss did not improve from 0.28269\n",
      "Early stop count: 10\n",
      "Early stopping\n",
      "10 10\n",
      "Finished Training\n",
      "Training time:  495.3274574279785\n",
      "time:  2\n",
      "Model: \"model_2\"\n",
      "__________________________________________________________________________________________________\n",
      "Layer (type)                    Output Shape         Param #     Connected to                     \n",
      "==================================================================================================\n",
      "input_enc_net (InputLayer)      [(None, 128, 128, 9) 0                                            \n",
      "__________________________________________________________________________________________________\n",
      "res1_net1 (Conv2D)              (None, 128, 128, 16) 1312        input_enc_net[0][0]              \n",
      "__________________________________________________________________________________________________\n",
      "drop_net1 (SpatialDropout2D)    (None, 128, 128, 16) 0           res1_net1[0][0]                  \n",
      "__________________________________________________________________________________________________\n",
      "res2_net1 (Conv2D)              (None, 128, 128, 16) 2320        drop_net1[0][0]                  \n",
      "__________________________________________________________________________________________________\n",
      "res3_net1 (Conv2D)              (None, 128, 128, 16) 160         input_enc_net[0][0]              \n",
      "__________________________________________________________________________________________________\n",
      "add_12 (Add)                    (None, 128, 128, 16) 0           res2_net1[0][0]                  \n",
      "                                                                 res3_net1[0][0]                  \n",
      "__________________________________________________________________________________________________\n",
      "pool_net1 (MaxPooling2D)        (None, 64, 64, 16)   0           add_12[0][0]                     \n",
      "__________________________________________________________________________________________________\n",
      "res1_net2 (Conv2D)              (None, 64, 64, 32)   4640        pool_net1[0][0]                  \n",
      "__________________________________________________________________________________________________\n",
      "drop_net2 (SpatialDropout2D)    (None, 64, 64, 32)   0           res1_net2[0][0]                  \n",
      "__________________________________________________________________________________________________\n",
      "res2_net2 (Conv2D)              (None, 64, 64, 32)   9248        drop_net2[0][0]                  \n",
      "__________________________________________________________________________________________________\n",
      "res3_net2 (Conv2D)              (None, 64, 64, 32)   544         pool_net1[0][0]                  \n",
      "__________________________________________________________________________________________________\n",
      "add_13 (Add)                    (None, 64, 64, 32)   0           res2_net2[0][0]                  \n",
      "                                                                 res3_net2[0][0]                  \n",
      "__________________________________________________________________________________________________\n",
      "pool_net2 (MaxPooling2D)        (None, 32, 32, 32)   0           add_13[0][0]                     \n",
      "__________________________________________________________________________________________________\n",
      "res1_net3 (Conv2D)              (None, 32, 32, 64)   18496       pool_net2[0][0]                  \n",
      "__________________________________________________________________________________________________\n",
      "drop_net3 (SpatialDropout2D)    (None, 32, 32, 64)   0           res1_net3[0][0]                  \n",
      "__________________________________________________________________________________________________\n",
      "res2_net3 (Conv2D)              (None, 32, 32, 64)   36928       drop_net3[0][0]                  \n",
      "__________________________________________________________________________________________________\n",
      "res3_net3 (Conv2D)              (None, 32, 32, 64)   2112        pool_net2[0][0]                  \n",
      "__________________________________________________________________________________________________\n",
      "add_14 (Add)                    (None, 32, 32, 64)   0           res2_net3[0][0]                  \n",
      "                                                                 res3_net3[0][0]                  \n",
      "__________________________________________________________________________________________________\n",
      "pool_net3 (MaxPooling2D)        (None, 16, 16, 64)   0           add_14[0][0]                     \n",
      "__________________________________________________________________________________________________\n",
      "res1_net4 (Conv2D)              (None, 16, 16, 64)   36928       pool_net3[0][0]                  \n",
      "__________________________________________________________________________________________________\n",
      "drop_net4 (SpatialDropout2D)    (None, 16, 16, 64)   0           res1_net4[0][0]                  \n",
      "__________________________________________________________________________________________________\n",
      "res2_net4 (Conv2D)              (None, 16, 16, 64)   36928       drop_net4[0][0]                  \n",
      "__________________________________________________________________________________________________\n",
      "res3_net4 (Conv2D)              (None, 16, 16, 64)   4160        pool_net3[0][0]                  \n",
      "__________________________________________________________________________________________________\n",
      "add_15 (Add)                    (None, 16, 16, 64)   0           res2_net4[0][0]                  \n",
      "                                                                 res3_net4[0][0]                  \n",
      "__________________________________________________________________________________________________\n",
      "res1_net5 (Conv2D)              (None, 16, 16, 64)   36928       add_15[0][0]                     \n",
      "__________________________________________________________________________________________________\n",
      "drop_net5 (SpatialDropout2D)    (None, 16, 16, 64)   0           res1_net5[0][0]                  \n",
      "__________________________________________________________________________________________________\n",
      "res2_net5 (Conv2D)              (None, 16, 16, 64)   36928       drop_net5[0][0]                  \n",
      "__________________________________________________________________________________________________\n",
      "res3_net5 (Conv2D)              (None, 16, 16, 64)   4160        add_15[0][0]                     \n",
      "__________________________________________________________________________________________________\n",
      "add_16 (Add)                    (None, 16, 16, 64)   0           res2_net5[0][0]                  \n",
      "                                                                 res3_net5[0][0]                  \n",
      "__________________________________________________________________________________________________\n",
      "res1_net6 (Conv2D)              (None, 16, 16, 64)   36928       add_16[0][0]                     \n",
      "__________________________________________________________________________________________________\n",
      "drop_net6 (SpatialDropout2D)    (None, 16, 16, 64)   0           res1_net6[0][0]                  \n",
      "__________________________________________________________________________________________________\n",
      "res2_net6 (Conv2D)              (None, 16, 16, 64)   36928       drop_net6[0][0]                  \n",
      "__________________________________________________________________________________________________\n",
      "res3_net6 (Conv2D)              (None, 16, 16, 64)   4160        add_16[0][0]                     \n",
      "__________________________________________________________________________________________________\n",
      "add_17 (Add)                    (None, 16, 16, 64)   0           res2_net6[0][0]                  \n",
      "                                                                 res3_net6[0][0]                  \n",
      "__________________________________________________________________________________________________\n",
      "up_sampling2d_6 (UpSampling2D)  (None, 32, 32, 64)   0           add_17[0][0]                     \n",
      "__________________________________________________________________________________________________\n",
      "upsampling_net3 (Conv2D)        (None, 32, 32, 64)   36928       up_sampling2d_6[0][0]            \n",
      "__________________________________________________________________________________________________\n",
      "spatial_dropout2d_6 (SpatialDro (None, 32, 32, 64)   0           upsampling_net3[0][0]            \n",
      "__________________________________________________________________________________________________\n",
      "concatenate3 (Concatenate)      (None, 32, 32, 128)  0           add_14[0][0]                     \n",
      "                                                                 spatial_dropout2d_6[0][0]        \n",
      "__________________________________________________________________________________________________\n",
      "up_sampling2d_7 (UpSampling2D)  (None, 64, 64, 128)  0           concatenate3[0][0]               \n",
      "__________________________________________________________________________________________________\n",
      "upsampling_net2 (Conv2D)        (None, 64, 64, 32)   36896       up_sampling2d_7[0][0]            \n",
      "__________________________________________________________________________________________________\n",
      "spatial_dropout2d_7 (SpatialDro (None, 64, 64, 32)   0           upsampling_net2[0][0]            \n",
      "__________________________________________________________________________________________________\n",
      "concatenate2 (Concatenate)      (None, 64, 64, 64)   0           add_13[0][0]                     \n",
      "                                                                 spatial_dropout2d_7[0][0]        \n",
      "__________________________________________________________________________________________________\n",
      "up_sampling2d_8 (UpSampling2D)  (None, 128, 128, 64) 0           concatenate2[0][0]               \n",
      "__________________________________________________________________________________________________\n",
      "upsampling_net1 (Conv2D)        (None, 128, 128, 16) 9232        up_sampling2d_8[0][0]            \n",
      "__________________________________________________________________________________________________\n",
      "spatial_dropout2d_8 (SpatialDro (None, 128, 128, 16) 0           upsampling_net1[0][0]            \n",
      "__________________________________________________________________________________________________\n",
      "concatenate1 (Concatenate)      (None, 128, 128, 32) 0           add_12[0][0]                     \n",
      "                                                                 spatial_dropout2d_8[0][0]        \n",
      "__________________________________________________________________________________________________\n",
      "output (Conv2D)                 (None, 128, 128, 2)  66          concatenate1[0][0]               \n",
      "__________________________________________________________________________________________________\n",
      "dirichlet_layer_2 (DirichletLay (None, 128, 128, 2)  0           output[0][0]                     \n",
      "==================================================================================================\n",
      "Total params: 392,930\n",
      "Trainable params: 392,930\n",
      "Non-trainable params: 0\n",
      "__________________________________________________________________________________________________\n",
      "Epoch: 1\n",
      "Anneling Coeficient [1.]\n",
      "K.int_shape(mse) (None, 128, 128, 1)\n",
      "K.int_shape(mask) (None, None, None, 1)\n",
      "K.int_shape(E) (None, 128, 128, 2)\n",
      "K.int_shape(y_truth) (None, None, None, None)\n",
      "K.int_shape(mse) (None, 128, 128, 1)\n",
      "K.int_shape(mask) (None, None, None, 1)\n",
      "K.int_shape(E) (None, 128, 128, 2)\n",
      "K.int_shape(y_truth) (None, None, None, None)\n",
      "720/720 [==============================] - ETA: 0s - loss: 0.3047 - accuracy: 0.6173K.int_shape(mse) (None, 128, 128, 1)\n",
      "K.int_shape(mask) (None, None, None, 1)\n",
      "K.int_shape(E) (None, 128, 128, 2)\n",
      "K.int_shape(y_truth) (None, None, None, None)\n",
      "720/720 [==============================] - 37s 49ms/step - loss: 0.3047 - accuracy: 0.6173 - val_loss: 0.2911 - val_accuracy: 0.6310\n",
      "\n",
      "Epoch 00001: val_loss improved from inf to 0.29105, saving model to D:/Jorge/datasets/deforestation/experiments/PI/exp46/models\\resunet_2.h5\n",
      "New best val loss. Val loss: 0.29105. Early stop count: 0\n",
      "Epoch: 2\n",
      "Anneling Coeficient [0.1]\n",
      "720/720 [==============================] - 35s 49ms/step - loss: 0.2724 - accuracy: 0.6237 - val_loss: 0.2848 - val_accuracy: 0.6306\n",
      "\n",
      "Epoch 00001: val_loss improved from 0.29105 to 0.28482, saving model to D:/Jorge/datasets/deforestation/experiments/PI/exp46/models\\resunet_2.h5\n",
      "New best val loss. Val loss: 0.28482. Early stop count: 0\n",
      "Epoch: 3\n",
      "Anneling Coeficient [0.2]\n",
      "720/720 [==============================] - 35s 49ms/step - loss: 0.2618 - accuracy: 0.6228 - val_loss: 0.2755 - val_accuracy: 0.6310\n",
      "\n",
      "Epoch 00001: val_loss improved from 0.28482 to 0.27550, saving model to D:/Jorge/datasets/deforestation/experiments/PI/exp46/models\\resunet_2.h5\n",
      "New best val loss. Val loss: 0.2755. Early stop count: 0\n",
      "Epoch: 4\n",
      "Anneling Coeficient [0.3]\n",
      "720/720 [==============================] - 35s 49ms/step - loss: 0.2535 - accuracy: 0.6219 - val_loss: 0.2779 - val_accuracy: 0.6311\n",
      "\n",
      "Epoch 00001: val_loss did not improve from 0.27550\n",
      "Early stop count: 1\n",
      "Epoch: 5\n",
      "Anneling Coeficient [0.4]\n",
      "720/720 [==============================] - 35s 49ms/step - loss: 0.2483 - accuracy: 0.6220 - val_loss: 0.2941 - val_accuracy: 0.6314\n",
      "\n",
      "Epoch 00001: val_loss did not improve from 0.27550\n",
      "Early stop count: 2\n",
      "Epoch: 6\n",
      "Anneling Coeficient [0.5]\n",
      "720/720 [==============================] - 35s 49ms/step - loss: 0.2444 - accuracy: 0.6223 - val_loss: 0.2815 - val_accuracy: 0.6318\n",
      "\n",
      "Epoch 00001: val_loss did not improve from 0.27550\n",
      "Early stop count: 3\n",
      "Epoch: 7\n",
      "Anneling Coeficient [0.6]\n",
      "720/720 [==============================] - 35s 49ms/step - loss: 0.2398 - accuracy: 0.6224 - val_loss: 0.2880 - val_accuracy: 0.6348\n",
      "\n",
      "Epoch 00001: val_loss did not improve from 0.27550\n",
      "Early stop count: 4\n",
      "Epoch: 8\n",
      "Anneling Coeficient [0.7]\n",
      "720/720 [==============================] - 35s 49ms/step - loss: 0.2371 - accuracy: 0.6218 - val_loss: 0.2875 - val_accuracy: 0.6357\n",
      "\n",
      "Epoch 00001: val_loss did not improve from 0.27550\n",
      "Early stop count: 5\n",
      "Epoch: 9\n",
      "Anneling Coeficient [0.8]\n",
      "720/720 [==============================] - 35s 49ms/step - loss: 0.2358 - accuracy: 0.6218 - val_loss: 0.2873 - val_accuracy: 0.6303\n",
      "\n",
      "Epoch 00001: val_loss did not improve from 0.27550\n",
      "Early stop count: 6\n",
      "Epoch: 10\n",
      "Anneling Coeficient [0.9]\n",
      "720/720 [==============================] - 35s 49ms/step - loss: 0.2324 - accuracy: 0.6221 - val_loss: 0.2909 - val_accuracy: 0.6277\n",
      "\n",
      "Epoch 00001: val_loss did not improve from 0.27550\n",
      "Early stop count: 7\n",
      "Epoch: 11\n",
      "Anneling Coeficient [1.]\n",
      "720/720 [==============================] - 35s 49ms/step - loss: 0.2313 - accuracy: 0.6228 - val_loss: 0.3140 - val_accuracy: 0.6287\n",
      "\n",
      "Epoch 00001: val_loss did not improve from 0.27550\n",
      "Early stop count: 8\n",
      "Epoch: 12\n",
      "Anneling Coeficient [1.]\n",
      "720/720 [==============================] - 35s 49ms/step - loss: 0.2292 - accuracy: 0.6224 - val_loss: 0.2969 - val_accuracy: 0.6299\n",
      "\n",
      "Epoch 00001: val_loss did not improve from 0.27550\n",
      "Early stop count: 9\n",
      "Epoch: 13\n",
      "Anneling Coeficient [1.]\n",
      "720/720 [==============================] - 35s 49ms/step - loss: 0.2297 - accuracy: 0.6212 - val_loss: 0.3011 - val_accuracy: 0.6286\n",
      "\n",
      "Epoch 00001: val_loss did not improve from 0.27550\n",
      "Early stop count: 10\n",
      "Early stopping\n",
      "10 10\n",
      "Finished Training\n",
      "Training time:  462.7134313583374\n"
     ]
    }
   ],
   "source": [
    "if config['training'] == True:\n",
    "    \n",
    "\n",
    "    manager = manager_class(config, dataset, patchesHandler, logger)\n",
    "    print(\"manager.config['dropout_training']\", manager.config['dropout_training'])\n",
    "    manager.defineExperiment(exp) # fixed\n",
    "    \n",
    "    manager.setExperimentPath()\n",
    "    manager.createLogFolders()\n",
    "\n",
    "    manager.loadDataset()\n",
    "\n",
    "    # %%\n",
    "    if config[\"training\"] == True:\n",
    "        manager.run()\n"
   ]
  },
  {
   "cell_type": "code",
   "execution_count": 9,
   "id": "a13e82bc",
   "metadata": {},
   "outputs": [
    {
     "name": "stderr",
     "output_type": "stream",
     "text": [
      "ic| list(self.date_ids): [0]\n",
      "ic| self.image_channels: [[0, 1, 2, 3, 4, 5, 6, 7, 8]]\n",
      "ic| dates: [2019, 2020]\n",
      "ic| self.input_image_shape: 9\n",
      "ic| self.dataset.image_channels: [[0, 1, 2, 3, 4, 5, 6, 7, 8]]\n"
     ]
    }
   ],
   "source": [
    "\n",
    "\n",
    "\n",
    "if config['site'] == 'PA':\n",
    "\tdates = [2018, 2019]\n",
    "\tdatasetClass = PAMultipleDates\n",
    "elif config['site'] == 'MT':\n",
    "\tdates = [2019, 2020]\n",
    "\tdatasetClass = MTMultipleDates\n",
    "elif config['site'] == 'MS':\n",
    "\tdates = [2019, 2020]\n",
    "\tdatasetClass = MSMultipleDates\n",
    "elif config['site'] == 'PI':\n",
    "\tdates = [2019, 2020]\n",
    "\tdatasetClass = PIMultipleDates\n",
    "else:\n",
    "\traise ValueError('Invalid site')\n",
    "\n",
    "dataset = datasetClass(config = config,\n",
    "\t\t\t   dates = dates, \n",
    "\t \taddPastDeforestationInput = config['addPastDeforestationInput'],\n",
    "\t\tborderBuffer = 2)\n",
    "\n",
    "\n",
    "ic(dates)\n",
    "\n",
    "if issubclass(type(dataset), MultipleDates):\n",
    "\tpatchesHandler = PatchesHandlerMultipleDates(\n",
    "\t\tdataset)\n",
    "elif config['mode'] == 'evidential2':\n",
    "\tpatchesHandler = PatchesHandlerEvidential2()\n",
    "else:\n",
    "\tpatchesHandler = PatchesHandler()\n"
   ]
  },
  {
   "cell_type": "code",
   "execution_count": 10,
   "id": "597049da",
   "metadata": {},
   "outputs": [
    {
     "data": {
      "text/plain": [
       "src.manager.multioutput.ManagerEvidential2"
      ]
     },
     "execution_count": 10,
     "metadata": {},
     "output_type": "execute_result"
    }
   ],
   "source": [
    "manager_class"
   ]
  },
  {
   "cell_type": "code",
   "execution_count": 11,
   "id": "82354e9e",
   "metadata": {},
   "outputs": [
    {
     "data": {
      "text/plain": [
       "46"
      ]
     },
     "execution_count": 11,
     "metadata": {},
     "output_type": "execute_result"
    }
   ],
   "source": [
    "exp"
   ]
  },
  {
   "cell_type": "code",
   "execution_count": 12,
   "id": "0e69f832",
   "metadata": {},
   "outputs": [
    {
     "name": "stdout",
     "output_type": "stream",
     "text": [
      "repetition_ids [0, 1, 2], repetition_n 3\n"
     ]
    }
   ],
   "source": [
    "repetition_ids = manager_class(config, dataset, patchesHandler, logger).get_repetition_ids(exp)  \n",
    "repetition_n = len(repetition_ids)\n",
    "print(\"repetition_ids {}, repetition_n {}\".format(repetition_ids, repetition_n))\n"
   ]
  },
  {
   "cell_type": "code",
   "execution_count": 13,
   "id": "49e0d9f0",
   "metadata": {},
   "outputs": [
    {
     "data": {
      "text/plain": [
       "0"
      ]
     },
     "execution_count": 13,
     "metadata": {},
     "output_type": "execute_result"
    }
   ],
   "source": [
    "config['start_repetition_id']"
   ]
  },
  {
   "cell_type": "code",
   "execution_count": 14,
   "id": "5997b986",
   "metadata": {},
   "outputs": [
    {
     "name": "stdout",
     "output_type": "stream",
     "text": [
      "Beginning run number 0\n",
      "manager.config {'training': True, 'inferring': True, 'site': 'PI', 'training_date': 'current', 'mode': 'evidential2', 'training_times': 3, 'uncertainty_method': 'pred_entropy', 'loadInference': False, 'removePolygons': True, 'plotLandsat': False, 'plotPOI': False, 'training_experiment_id': 46, 'get_multiple_metrics': False, 'start_repetition_id': 0, 'end_repetition_id': 3, 'save_probabilities': False, 'addPastDeforestationInput': True, 'classes_mode': True, 'learning_rate': 0.0001, 'use_cloud_mask': False, 'mask_out_non_biome': True, 'log_filename': 'log.pkl', 'inference_times': 1, 'dropout_training': False}\n",
      "D:/Jorge/datasets/deforestation/PI/deforestation_past_years.tif\n",
      "Loaded deforestation past years\n"
     ]
    },
    {
     "name": "stderr",
     "output_type": "stream",
     "text": [
      "ic| np.unique(deforestation_past_years, return_counts=True): (array([   0, 2002, 2004, 2006, 2008, 2010, 2012, 2013, 2014, 2015, 2016,\n",
      "                                                                    2017, 2018, 2019, 2020, 2021], dtype=uint16),\n",
      "                                                              array([340580606,   4312043,   6953620,   5659916,   7162776,   6261432,\n",
      "                                                                      8191420,   3233962,   3270293,   3044419,   1817289,   2359424,\n",
      "                                                                      2201926,   3050229,   2901307,   2418575], dtype=int64))\n"
     ]
    },
    {
     "name": "stdout",
     "output_type": "stream",
     "text": [
      "Label where deforestation past years is actual date (2020) = 1\n"
     ]
    },
    {
     "name": "stderr",
     "output_type": "stream",
     "text": [
      "ic| np.unique(deforestation_past_years, return_counts=True): (array([   0, 2002, 2004, 2006, 2008, 2010, 2012, 2013, 2014, 2015, 2016,\n",
      "                                                                    2017, 2018, 2019, 2020, 2021], dtype=uint16),\n",
      "                                                              array([340580606,   4312043,   6953620,   5659916,   7162776,   6261432,\n",
      "                                                                      8191420,   3233962,   3270293,   3044419,   1817289,   2359424,\n",
      "                                                                      2201926,   3050229,   2901307,   2418575], dtype=int64))\n"
     ]
    },
    {
     "name": "stdout",
     "output_type": "stream",
     "text": [
      "Past deforestation different from 0 (no deforestation)\n"
     ]
    },
    {
     "name": "stderr",
     "output_type": "stream",
     "text": [
      "ic| np.unique(deforestation_past_years, return_counts=True): (array([   0, 2002, 2004, 2006, 2008, 2010, 2012, 2013, 2014, 2015, 2016,\n",
      "                                                                    2017, 2018, 2019, 2020, 2021], dtype=uint16),\n",
      "                                                              array([340580606,   4312043,   6953620,   5659916,   7162776,   6261432,\n",
      "                                                                      8191420,   3233962,   3270293,   3044419,   1817289,   2359424,\n",
      "                                                                      2201926,   3050229,   2901307,   2418575], dtype=int64))\n"
     ]
    },
    {
     "name": "stdout",
     "output_type": "stream",
     "text": [
      "Past deforestation before 2008 is 2\n",
      "D:/Jorge/datasets/deforestation/PI/deforestation_before_2000_PI.tif\n"
     ]
    },
    {
     "name": "stderr",
     "output_type": "stream",
     "text": [
      "ic| np.unique(label_past_deforestation_before_2008, return_counts=True): (array([  0, 208], dtype=uint8), array([385251297,  18167940], dtype=int64))\n",
      "ic| np.unique(deforestation_past_years, return_counts=True): (array([   0, 2002, 2004, 2006, 2008, 2010, 2012, 2013, 2014, 2015, 2016,\n",
      "                                                                    2017, 2018, 2019, 2020, 2021], dtype=uint16),\n",
      "                                                              array([340580606,   4312043,   6953620,   5659916,   7162776,   6261432,\n",
      "                                                                      8191420,   3233962,   3270293,   3044419,   1817289,   2359424,\n",
      "                                                                      2201926,   3050229,   2901307,   2418575], dtype=int64))\n"
     ]
    },
    {
     "name": "stdout",
     "output_type": "stream",
     "text": [
      "D:/Jorge/datasets/sentinel2/PI/biome_limits.tif\n"
     ]
    },
    {
     "name": "stderr",
     "output_type": "stream",
     "text": [
      "ic| label_per_date.shape: (19357, 20841, 1)\n"
     ]
    },
    {
     "name": "stdout",
     "output_type": "stream",
     "text": [
      "Removing bufer................\n",
      "Mask label shape:  \n",
      " (19357, 20841, 1) \n",
      " Unique values:  \n",
      " [0 1 2]\n",
      "Tiles size:  3871 4168\n",
      "Mask size:  (19355, 20840)\n"
     ]
    },
    {
     "name": "stderr",
     "output_type": "stream",
     "text": [
      "ic| image_stack.shape: (19357, 20841, 9)\n"
     ]
    },
    {
     "name": "stdout",
     "output_type": "stream",
     "text": [
      "Image shape:  (19357, 20841, 9)\n",
      "mask:  (19355, 20840)\n",
      "image stack:  (19355, 20840, 9)\n",
      "ref : (19355, 20840, 1)\n",
      "Training tiles:  [2, 4, 5, 6, 7, 12, 14, 15, 18, 21, 23, 25]\n",
      "Validation tiles:  [9, 11, 24]\n",
      "Test tiles:  [1, 3, 8, 10, 13, 16, 17, 19, 20, 22]\n",
      "-5.0 -24.0\n"
     ]
    },
    {
     "name": "stderr",
     "output_type": "stream",
     "text": [
      "ic| self.path_models+ '/' + self.method +'_'+str(self.repetition_id)+'.h5': 'D:/Jorge/datasets/deforestation/experiments/PI/exp46/models/resunet_0.h5'\n"
     ]
    },
    {
     "name": "stdout",
     "output_type": "stream",
     "text": [
      "Dropout training mode: False\n",
      "time:  0\n",
      "alpha.shape (19360, 20864, 2)\n",
      "S.shape (19360, 20864)\n",
      "K 2\n",
      "u.shape (19360, 20864)\n",
      "belief.shape (19360, 20864, 2)\n",
      "Inference runtime 215.47\n",
      "(89644896,)\n",
      "(array([0, 1], dtype=uint8), array([88315686,  1329210], dtype=int64))\n",
      "(19355, 20840, 2)\n"
     ]
    },
    {
     "name": "stderr",
     "output_type": "stream",
     "text": [
      "ic| predicted_test.shape: (161343280,)\n",
      "ic| predicted_test.shape: (89644896,)\n",
      "ic| np.unique(predicted, return_counts=True): (array([0, 1], dtype=int8), array([396529835,   6828365], dtype=int64))\n",
      "    np.unique(predicted_larger_than_min_area, return_counts=True): (array([0, 1], dtype=int8), array([396938842,   6419358], dtype=int64))\n",
      "ic| np.unique(ignored_polygons, return_counts=True): (array([0, 1], dtype=int8), array([402949193,    409007], dtype=int64))\n",
      "ic| self.f1: 52.28, self.precision: 36.8, self.recall: 90.19\n",
      "ic| self.label_mask_val.shape: (48402984,)\n",
      "ic| self.label_mask_val_valid.shape: (36704301,)\n",
      "ic| f1_val: 29.71\n",
      "    precision_val: 18.91\n",
      "    recall_val: 69.23\n",
      "    mAP_val: 40.11\n"
     ]
    },
    {
     "name": "stdout",
     "output_type": "stream",
     "text": [
      "(array([0, 1], dtype=int16), array([398774740,   4583460], dtype=int64))\n",
      "[0 1]\n"
     ]
    },
    {
     "name": "stderr",
     "output_type": "stream",
     "text": [
      "ic| self.label_mask.shape: (19355, 20840)\n",
      "ic| self.mask_test.shape: (19355, 20840)\n",
      "ic| self.label_mask_test.shape: (161343280,)\n",
      "ic| self.error_mask_test.shape: (89512393,)\n",
      "ic| bounds: (0.00010578750008484349, 0.4985)\n"
     ]
    },
    {
     "name": "stdout",
     "output_type": "stream",
     "text": [
      "(0.00010578750008484349, 0.4985)\n",
      "0.19047543687881469\n",
      "threshold 0.19047543687881469\n"
     ]
    },
    {
     "name": "stderr",
     "output_type": "stream",
     "text": [
      "c:\\Users\\jchamorro\\Anaconda3\\envs\\tf2\\lib\\site-packages\\scipy\\optimize\\_minimize.py:783: RuntimeWarning: Method 'bounded' does not support relative tolerance in x; defaulting to absolute tolerance.\n",
      "  warn(\"Method 'bounded' does not support relative tolerance in x; \"\n",
      "ic| label_current_deforestation_test_classified_incorrect.shape: (15924551,)\n",
      "    predicted_test_classified_incorrect.shape: (15924551,)\n",
      "ic| TP_H + FN_H + FP_H + TN_H: 15924551\n",
      "    len(label_mask_current_deforestation_test): 89512393\n",
      "ic| TP_H + FN_H + FP_H + TN_H: 15924551\n",
      "    len(label_mask_current_deforestation_test): 89512393\n"
     ]
    },
    {
     "name": "stdout",
     "output_type": "stream",
     "text": [
      "[1.         0.96846658 0.15469502 0.17790331 0.32545562 0.88929875\n",
      " 0.13558796]\n",
      "0.30813035062127003\n",
      "threshold 0.30813035062127003\n"
     ]
    },
    {
     "name": "stderr",
     "output_type": "stream",
     "text": [
      "ic| label_current_deforestation_test_classified_incorrect.shape: (10729450,)\n",
      "    predicted_test_classified_incorrect.shape: (10729450,)\n",
      "ic| TP_H + FN_H + FP_H + TN_H: 10729450\n",
      "    len(label_mask_current_deforestation_test): 89512393\n",
      "ic| TP_H + FN_H + FP_H + TN_H: 10729450\n",
      "    len(label_mask_current_deforestation_test): 89512393\n"
     ]
    },
    {
     "name": "stdout",
     "output_type": "stream",
     "text": [
      "[0.99416694 0.96754926 0.32281719 0.11986553 0.27240305 0.86909603\n",
      " 0.2000678 ]\n",
      "0.38084508625754454\n",
      "threshold 0.38084508625754454\n"
     ]
    },
    {
     "name": "stderr",
     "output_type": "stream",
     "text": [
      "ic| label_current_deforestation_test_classified_incorrect.shape: (8406878,)\n",
      "    predicted_test_classified_incorrect.shape: (8406878,)\n",
      "ic| TP_H + FN_H + FP_H + TN_H: 8406878\n",
      "    len(label_mask_current_deforestation_test): 89512393\n",
      "ic| TP_H + FN_H + FP_H + TN_H: 8406878\n",
      "    len(label_mask_current_deforestation_test): 89512393\n"
     ]
    },
    {
     "name": "stdout",
     "output_type": "stream",
     "text": [
      "[0.96568725 0.96533161 0.47416949 0.09391859 0.21828731 0.84075014\n",
      " 0.25109668]\n",
      "0.42578526436372544\n",
      "threshold 0.42578526436372544\n"
     ]
    },
    {
     "name": "stderr",
     "output_type": "stream",
     "text": [
      "ic| label_current_deforestation_test_classified_incorrect.shape: (6694686,)\n",
      "    predicted_test_classified_incorrect.shape: (6694686,)\n",
      "ic| TP_H + FN_H + FP_H + TN_H: 6694686\n",
      "    len(label_mask_current_deforestation_test): 89512393\n",
      "ic| TP_H + FN_H + FP_H + TN_H: 6694686\n",
      "    len(label_mask_current_deforestation_test): 89512393\n"
     ]
    },
    {
     "name": "stdout",
     "output_type": "stream",
     "text": [
      "[0.85903627 0.97070697 0.77834174 0.0747906  0.08002029 0.62371947\n",
      " 0.28544561]\n",
      "0.4535598218938191\n",
      "threshold 0.4535598218938191\n"
     ]
    },
    {
     "name": "stderr",
     "output_type": "stream",
     "text": [
      "ic| label_current_deforestation_test_classified_incorrect.shape: (5223308,)\n",
      "    predicted_test_classified_incorrect.shape: (5223308,)\n",
      "ic| TP_H + FN_H + FP_H + TN_H: 5223308\n",
      "    len(label_mask_current_deforestation_test): 89512393\n",
      "ic| TP_H + FN_H + FP_H + TN_H: 5223308\n",
      "    len(label_mask_current_deforestation_test): 89512393\n"
     ]
    },
    {
     "name": "stdout",
     "output_type": "stream",
     "text": [
      "[0.57905225 0.96626576 0.84017308 0.0583529  0.06178614 0.47336203\n",
      " 0.21837039]\n",
      "0.47072544246990633\n",
      "threshold 0.47072544246990633\n"
     ]
    },
    {
     "name": "stderr",
     "output_type": "stream",
     "text": [
      "ic| label_current_deforestation_test_classified_incorrect.shape: (4098490,)\n",
      "    predicted_test_classified_incorrect.shape: (4098490,)\n",
      "ic| TP_H + FN_H + FP_H + TN_H: 4098490\n",
      "    len(label_mask_current_deforestation_test): 89512393\n",
      "ic| TP_H + FN_H + FP_H + TN_H: 4098490\n",
      "    len(label_mask_current_deforestation_test): 89512393\n"
     ]
    },
    {
     "name": "stdout",
     "output_type": "stream",
     "text": [
      "[0.45777843 0.96178758 0.86631294 0.04578684 0.06382399 0.35894216\n",
      " 0.14040595]\n",
      "0.4813343794239128\n",
      "threshold 0.4813343794239128\n"
     ]
    },
    {
     "name": "stderr",
     "output_type": "stream",
     "text": [
      "ic| label_current_deforestation_test_classified_incorrect.shape: (3428601,)\n",
      "    predicted_test_classified_incorrect.shape: (3428601,)\n",
      "ic| TP_H + FN_H + FP_H + TN_H: 3428601\n",
      "    len(label_mask_current_deforestation_test): 89512393\n",
      "ic| TP_H + FN_H + FP_H + TN_H: 3428601\n",
      "    len(label_mask_current_deforestation_test): 89512393\n"
     ]
    },
    {
     "name": "stdout",
     "output_type": "stream",
     "text": [
      "[0.41738706 0.95814247 0.88058831 0.03830309 0.06263863 0.26384337\n",
      " 0.09788652]\n",
      "0.48789106304599356\n",
      "threshold 0.48789106304599356\n"
     ]
    },
    {
     "name": "stderr",
     "output_type": "stream",
     "text": [
      "ic| label_current_deforestation_test_classified_incorrect.shape: (3009325,)\n",
      "    predicted_test_classified_incorrect.shape: (3009325,)\n",
      "ic| TP_H + FN_H + FP_H + TN_H: 3009325\n",
      "    len(label_mask_current_deforestation_test): 89512393\n",
      "ic| TP_H + FN_H + FP_H + TN_H: 3009325\n",
      "    len(label_mask_current_deforestation_test): 89512393\n"
     ]
    },
    {
     "name": "stdout",
     "output_type": "stream",
     "text": [
      "[0.39802831 0.9554705  0.88875056 0.03361909 0.06057148 0.18894355\n",
      " 0.07113467]\n",
      "0.4919433163779192\n",
      "threshold 0.4919433163779192\n"
     ]
    },
    {
     "name": "stderr",
     "output_type": "stream",
     "text": [
      "ic| label_current_deforestation_test_classified_incorrect.shape: (2743133,)\n",
      "    predicted_test_classified_incorrect.shape: (2743133,)\n",
      "ic| TP_H + FN_H + FP_H + TN_H: 2743133\n",
      "    len(label_mask_current_deforestation_test): 89512393\n",
      "ic| TP_H + FN_H + FP_H + TN_H: 2743133\n",
      "    len(label_mask_current_deforestation_test): 89512393\n"
     ]
    },
    {
     "name": "stdout",
     "output_type": "stream",
     "text": [
      "[0.38736303 0.95356685 0.89344619 0.03064529 0.05892428 0.13478879\n",
      " 0.05372729]\n",
      "0.4944477466680743\n",
      "threshold 0.4944477466680743\n"
     ]
    },
    {
     "name": "stderr",
     "output_type": "stream",
     "text": [
      "ic| label_current_deforestation_test_classified_incorrect.shape: (2571178,)\n",
      "    predicted_test_classified_incorrect.shape: (2571178,)\n",
      "ic| TP_H + FN_H + FP_H + TN_H: 2571178\n",
      "    len(label_mask_current_deforestation_test): 89512393\n",
      "ic| TP_H + FN_H + FP_H + TN_H: 2571178\n",
      "    len(label_mask_current_deforestation_test): 89512393\n"
     ]
    },
    {
     "name": "stdout",
     "output_type": "stream",
     "text": [
      "[0.38101113 0.95219645 0.89622951 0.02872427 0.05803937 0.09723012\n",
      " 0.04220027]\n",
      "0.49235820758655174\n",
      "threshold 0.49235820758655174\n"
     ]
    },
    {
     "name": "stderr",
     "output_type": "stream",
     "text": [
      "ic| label_current_deforestation_test_classified_incorrect.shape: (2715212,)\n",
      "    predicted_test_classified_incorrect.shape: (2715212,)\n",
      "ic| TP_H + FN_H + FP_H + TN_H: 2715212\n",
      "    len(label_mask_current_deforestation_test): 89512393\n",
      "ic| TP_H + FN_H + FP_H + TN_H: 2715212\n",
      "    len(label_mask_current_deforestation_test): 89512393\n"
     ]
    },
    {
     "name": "stdout",
     "output_type": "stream",
     "text": [
      "[0.38630225 0.95333666 0.89391742 0.03033336 0.05873291 0.1287864\n",
      " 0.05186051]\n",
      "0.4929334606223665\n",
      "threshold 0.4929334606223665\n"
     ]
    },
    {
     "name": "stderr",
     "output_type": "stream",
     "text": [
      "ic| label_current_deforestation_test_classified_incorrect.shape: (2675742,)\n",
      "    predicted_test_classified_incorrect.shape: (2675742,)\n",
      "ic| TP_H + FN_H + FP_H + TN_H: 2675742\n",
      "    len(label_mask_current_deforestation_test): 89512393\n",
      "ic| TP_H + FN_H + FP_H + TN_H: 2675742\n",
      "    len(label_mask_current_deforestation_test): 89512393\n"
     ]
    },
    {
     "name": "stdout",
     "output_type": "stream",
     "text": [
      "[0.38482136 0.95301541 0.89458247 0.02989242 0.05841133 0.12006942\n",
      " 0.04921042]\n",
      "0.49351186642313716\n",
      "threshold 0.49351186642313716\n"
     ]
    },
    {
     "name": "stderr",
     "output_type": "stream",
     "text": [
      "ic| label_current_deforestation_test_classified_incorrect.shape: (2635932,)\n",
      "    predicted_test_classified_incorrect.shape: (2635932,)\n",
      "ic| TP_H + FN_H + FP_H + TN_H: 2635932\n",
      "    len(label_mask_current_deforestation_test): 89512393\n",
      "ic| TP_H + FN_H + FP_H + TN_H: 2635932\n",
      "    len(label_mask_current_deforestation_test): 89512393\n"
     ]
    },
    {
     "name": "stdout",
     "output_type": "stream",
     "text": [
      "[0.38335823 0.95270223 0.89521028 0.02944768 0.05829101 0.11159112\n",
      " 0.04656238]\n",
      "0.4928407721861649\n",
      "threshold 0.4928407721861649\n"
     ]
    },
    {
     "name": "stderr",
     "output_type": "stream",
     "text": [
      "ic| label_current_deforestation_test_classified_incorrect.shape: (2682202,)\n",
      "    predicted_test_classified_incorrect.shape: (2682202,)\n",
      "ic| TP_H + FN_H + FP_H + TN_H: 2682202\n",
      "    len(label_mask_current_deforestation_test): 89512393\n",
      "ic| TP_H + FN_H + FP_H + TN_H: 2682202\n",
      "    len(label_mask_current_deforestation_test): 89512393\n"
     ]
    },
    {
     "name": "stdout",
     "output_type": "stream",
     "text": [
      "[0.38506485 0.95306317 0.89448822 0.02996459 0.05836506 0.1213178\n",
      " 0.04964128]\n",
      "0.4927266991128238\n",
      "threshold 0.4927266991128238\n"
     ]
    },
    {
     "name": "stderr",
     "output_type": "stream",
     "text": [
      "ic| label_current_deforestation_test_classified_incorrect.shape: (2689953,)\n",
      "    predicted_test_classified_incorrect.shape: (2689953,)\n",
      "ic| TP_H + FN_H + FP_H + TN_H: 2689953\n",
      "    len(label_mask_current_deforestation_test): 89512393\n",
      "ic| TP_H + FN_H + FP_H + TN_H: 2689953\n",
      "    len(label_mask_current_deforestation_test): 89512393\n"
     ]
    },
    {
     "name": "stdout",
     "output_type": "stream",
     "text": [
      "[0.38535057 0.95313206 0.89435293 0.03005118 0.05847501 0.12309892\n",
      " 0.05015908]\n",
      "0.4927993216513211\n",
      "threshold 0.4927993216513211\n"
     ]
    },
    {
     "name": "stderr",
     "output_type": "stream",
     "text": [
      "ic| label_current_deforestation_test_classified_incorrect.shape: (2685014,)\n",
      "    predicted_test_classified_incorrect.shape: (2685014,)\n",
      "ic| TP_H + FN_H + FP_H + TN_H: 2685014\n",
      "    len(label_mask_current_deforestation_test): 89512393\n",
      "ic| TP_H + FN_H + FP_H + TN_H: 2685014\n",
      "    len(label_mask_current_deforestation_test): 89512393\n"
     ]
    },
    {
     "name": "stdout",
     "output_type": "stream",
     "text": [
      "[0.38517005 0.95308119 0.89444718 0.029996   0.05834787 0.12186504\n",
      " 0.04982616]\n",
      "0.49276598100859265\n",
      "threshold 0.49276598100859265\n"
     ]
    },
    {
     "name": "stderr",
     "output_type": "stream",
     "text": [
      "ic| label_current_deforestation_test_classified_incorrect.shape: (2687255,)\n",
      "    predicted_test_classified_incorrect.shape: (2687255,)\n",
      "ic| TP_H + FN_H + FP_H + TN_H: 2687255\n",
      "    len(label_mask_current_deforestation_test): 89512393\n",
      "ic| TP_H + FN_H + FP_H + TN_H: 2687255\n",
      "    len(label_mask_current_deforestation_test): 89512393\n",
      "ic| self.threshold_optimal: 0.4927993216513211\n"
     ]
    },
    {
     "name": "stdout",
     "output_type": "stream",
     "text": [
      "[0.38525691 0.95310538 0.89440614 0.03002104 0.05838101 0.12239911\n",
      " 0.04998572]\n",
      "threshold:  0.4927993216513211\n",
      "threshold 0.4927993216513211\n"
     ]
    },
    {
     "name": "stderr",
     "output_type": "stream",
     "text": [
      "ic| label_current_deforestation_test_classified_incorrect.shape: (2685014,)\n",
      "    predicted_test_classified_incorrect.shape: (2685014,)\n",
      "ic| TP_H + FN_H + FP_H + TN_H: 2685014\n",
      "    len(label_mask_current_deforestation_test): 89512393\n",
      "ic| TP_H + FN_H + FP_H + TN_H: 2685014\n",
      "    len(label_mask_current_deforestation_test): 89512393\n"
     ]
    },
    {
     "name": "stdout",
     "output_type": "stream",
     "text": [
      "[0.38517005 0.95308119 0.89444718 0.029996   0.05834787 0.12186504\n",
      " 0.04982616]\n",
      "threshold 0.4927993216513211\n",
      "(89512393,) (89512393,)\n"
     ]
    },
    {
     "name": "stderr",
     "output_type": "stream",
     "text": [
      "ic| self.m_optimal: {'AA': array([0.029996]),\n",
      "                     'UEO': array([0.04982616]),\n",
      "                     'f1': 52.28,\n",
      "                     'f1_H': array([0.07891295]),\n",
      "                     'f1_L': array([0.54862394]),\n",
      "                     'precision_H': array([0.05834787]),\n",
      "                     'precision_L': array([0.38517005]),\n",
      "                     'recall_H': array([0.12186504]),\n",
      "                     'recall_L': array([0.95308119]),\n",
      "                     'recall_Ltotal': array([0.89444718])}\n",
      "ic| self.m_audited_optimal: {'f1': array([0.56503709]),\n",
      "                             'precision': array([0.40103786]),\n",
      "                             'recall': array([0.95596766])}\n"
     ]
    },
    {
     "name": "stdout",
     "output_type": "stream",
     "text": [
      "cm_audited [[86318200  1878501]\n",
      " [   57933  1257759]]\n",
      "[0.40103786 0.95596766]\n",
      "Result idx 0: {'uncertainty_result': {'metrics': {'precision_L': array([0.38517005]), 'recall_L': array([0.95308119]), 'recall_Ltotal': array([0.89444718]), 'AA': array([0.029996]), 'precision_H': array([0.05834787]), 'recall_H': array([0.12186504]), 'UEO': array([0.04982616]), 'f1_L': array([0.54862394]), 'f1_H': array([0.07891295]), 'f1': 52.28}, 'metrics_audited': {'precision': array([0.40103786]), 'recall': array([0.95596766]), 'f1': array([0.56503709])}, 'exp': 46}}\n",
      "Grid execution idx: 0\n",
      "Beginning run number 1\n",
      "manager.config {'training': True, 'inferring': True, 'site': 'PI', 'training_date': 'current', 'mode': 'evidential2', 'training_times': 3, 'uncertainty_method': 'pred_entropy', 'loadInference': False, 'removePolygons': True, 'plotLandsat': False, 'plotPOI': False, 'training_experiment_id': 46, 'get_multiple_metrics': False, 'start_repetition_id': 0, 'end_repetition_id': 3, 'save_probabilities': False, 'addPastDeforestationInput': True, 'classes_mode': True, 'learning_rate': 0.0001, 'use_cloud_mask': False, 'mask_out_non_biome': True, 'log_filename': 'log.pkl', 'inference_times': 1, 'dropout_training': False}\n",
      "D:/Jorge/datasets/deforestation/PI/deforestation_past_years.tif\n",
      "Loaded deforestation past years\n"
     ]
    },
    {
     "name": "stderr",
     "output_type": "stream",
     "text": [
      "ic| np.unique(deforestation_past_years, return_counts=True): (array([   0, 2002, 2004, 2006, 2008, 2010, 2012, 2013, 2014, 2015, 2016,\n",
      "                                                                    2017, 2018, 2019, 2020, 2021], dtype=uint16),\n",
      "                                                              array([340580606,   4312043,   6953620,   5659916,   7162776,   6261432,\n",
      "                                                                      8191420,   3233962,   3270293,   3044419,   1817289,   2359424,\n",
      "                                                                      2201926,   3050229,   2901307,   2418575], dtype=int64))\n"
     ]
    },
    {
     "name": "stdout",
     "output_type": "stream",
     "text": [
      "Label where deforestation past years is actual date (2020) = 1\n"
     ]
    },
    {
     "name": "stderr",
     "output_type": "stream",
     "text": [
      "ic| np.unique(deforestation_past_years, return_counts=True): (array([   0, 2002, 2004, 2006, 2008, 2010, 2012, 2013, 2014, 2015, 2016,\n",
      "                                                                    2017, 2018, 2019, 2020, 2021], dtype=uint16),\n",
      "                                                              array([340580606,   4312043,   6953620,   5659916,   7162776,   6261432,\n",
      "                                                                      8191420,   3233962,   3270293,   3044419,   1817289,   2359424,\n",
      "                                                                      2201926,   3050229,   2901307,   2418575], dtype=int64))\n"
     ]
    },
    {
     "name": "stdout",
     "output_type": "stream",
     "text": [
      "Past deforestation different from 0 (no deforestation)\n"
     ]
    },
    {
     "name": "stderr",
     "output_type": "stream",
     "text": [
      "ic| np.unique(deforestation_past_years, return_counts=True): (array([   0, 2002, 2004, 2006, 2008, 2010, 2012, 2013, 2014, 2015, 2016,\n",
      "                                                                    2017, 2018, 2019, 2020, 2021], dtype=uint16),\n",
      "                                                              array([340580606,   4312043,   6953620,   5659916,   7162776,   6261432,\n",
      "                                                                      8191420,   3233962,   3270293,   3044419,   1817289,   2359424,\n",
      "                                                                      2201926,   3050229,   2901307,   2418575], dtype=int64))\n"
     ]
    },
    {
     "name": "stdout",
     "output_type": "stream",
     "text": [
      "Past deforestation before 2008 is 2\n",
      "D:/Jorge/datasets/deforestation/PI/deforestation_before_2000_PI.tif\n"
     ]
    },
    {
     "name": "stderr",
     "output_type": "stream",
     "text": [
      "ic| np.unique(label_past_deforestation_before_2008, return_counts=True): (array([  0, 208], dtype=uint8), array([385251297,  18167940], dtype=int64))\n",
      "ic| np.unique(deforestation_past_years, return_counts=True): (array([   0, 2002, 2004, 2006, 2008, 2010, 2012, 2013, 2014, 2015, 2016,\n",
      "                                                                    2017, 2018, 2019, 2020, 2021], dtype=uint16),\n",
      "                                                              array([340580606,   4312043,   6953620,   5659916,   7162776,   6261432,\n",
      "                                                                      8191420,   3233962,   3270293,   3044419,   1817289,   2359424,\n",
      "                                                                      2201926,   3050229,   2901307,   2418575], dtype=int64))\n"
     ]
    },
    {
     "name": "stdout",
     "output_type": "stream",
     "text": [
      "D:/Jorge/datasets/sentinel2/PI/biome_limits.tif\n"
     ]
    },
    {
     "name": "stderr",
     "output_type": "stream",
     "text": [
      "ic| label_per_date.shape: (19357, 20841, 1)\n"
     ]
    },
    {
     "name": "stdout",
     "output_type": "stream",
     "text": [
      "Removing bufer................\n",
      "Mask label shape:  \n",
      " (19357, 20841, 1) \n",
      " Unique values:  \n",
      " [0 1 2]\n",
      "Tiles size:  3871 4168\n",
      "Mask size:  (19355, 20840)\n"
     ]
    },
    {
     "name": "stderr",
     "output_type": "stream",
     "text": [
      "ic| image_stack.shape: (19357, 20841, 9)\n"
     ]
    },
    {
     "name": "stdout",
     "output_type": "stream",
     "text": [
      "Image shape:  (19357, 20841, 9)\n",
      "mask:  (19355, 20840)\n",
      "image stack:  (19355, 20840, 9)\n",
      "ref : (19355, 20840, 1)\n",
      "Training tiles:  [2, 4, 5, 6, 7, 12, 14, 15, 18, 21, 23, 25]\n",
      "Validation tiles:  [9, 11, 24]\n",
      "Test tiles:  [1, 3, 8, 10, 13, 16, 17, 19, 20, 22]\n",
      "-5.0 -24.0\n"
     ]
    },
    {
     "name": "stderr",
     "output_type": "stream",
     "text": [
      "ic| self.path_models+ '/' + self.method +'_'+str(self.repetition_id)+'.h5': 'D:/Jorge/datasets/deforestation/experiments/PI/exp46/models/resunet_1.h5'\n"
     ]
    },
    {
     "name": "stdout",
     "output_type": "stream",
     "text": [
      "Dropout training mode: False\n",
      "time:  0\n",
      "alpha.shape (19360, 20864, 2)\n",
      "S.shape (19360, 20864)\n",
      "K 2\n",
      "u.shape (19360, 20864)\n",
      "belief.shape (19360, 20864, 2)\n",
      "Inference runtime 188.99\n",
      "(89644896,)\n",
      "(array([0, 1], dtype=uint8), array([88315686,  1329210], dtype=int64))\n",
      "(19355, 20840, 2)\n"
     ]
    },
    {
     "name": "stderr",
     "output_type": "stream",
     "text": [
      "ic| predicted_test.shape: (161343280,)\n",
      "ic| predicted_test.shape: (89644896,)\n",
      "ic| np.unique(predicted, return_counts=True): (array([0, 1], dtype=int8), array([395993211,   7364989], dtype=int64))\n",
      "    np.unique(predicted_larger_than_min_area, return_counts=True): (array([0, 1], dtype=int8), array([396386572,   6971628], dtype=int64))\n",
      "ic| np.unique(ignored_polygons, return_counts=True): (array([0, 1], dtype=int8), array([402964839,    393361], dtype=int64))\n",
      "ic| self.f1: 47.17, self.precision: 32.42, self.recall: 86.55\n",
      "ic| self.label_mask_val.shape: (48402984,)\n",
      "ic| self.label_mask_val_valid.shape: (36721217,)\n",
      "ic| f1_val: 18.44\n",
      "    precision_val: 11.6\n",
      "    recall_val: 45.01\n",
      "    mAP_val: 17.82\n"
     ]
    },
    {
     "name": "stdout",
     "output_type": "stream",
     "text": [
      "(array([0, 1], dtype=int16), array([397858486,   5499714], dtype=int64))\n",
      "[0 1]\n"
     ]
    },
    {
     "name": "stderr",
     "output_type": "stream",
     "text": [
      "ic| self.label_mask.shape: (19355, 20840)\n",
      "ic| self.mask_test.shape: (19355, 20840)\n",
      "ic| self.label_mask_test.shape: (161343280,)\n",
      "ic| self.error_mask_test.shape: (89476788,)\n",
      "ic| bounds: (0.00010578750008484349, 0.4985)\n"
     ]
    },
    {
     "name": "stdout",
     "output_type": "stream",
     "text": [
      "(0.00010578750008484349, 0.4985)\n",
      "0.19047543687881469\n",
      "threshold 0.19047543687881469\n"
     ]
    },
    {
     "name": "stderr",
     "output_type": "stream",
     "text": [
      "c:\\Users\\jchamorro\\Anaconda3\\envs\\tf2\\lib\\site-packages\\scipy\\optimize\\_minimize.py:783: RuntimeWarning: Method 'bounded' does not support relative tolerance in x; defaulting to absolute tolerance.\n",
      "  warn(\"Method 'bounded' does not support relative tolerance in x; \"\n",
      "ic| label_current_deforestation_test_classified_incorrect.shape: (19903302,)\n",
      "    predicted_test_classified_incorrect.shape: (19903302,)\n",
      "ic| TP_H + FN_H + FP_H + TN_H: 19903302\n",
      "    len(label_mask_current_deforestation_test): 89476788\n",
      "ic| TP_H + FN_H + FP_H + TN_H: 19903302\n",
      "    len(label_mask_current_deforestation_test): 89476788\n"
     ]
    },
    {
     "name": "stdout",
     "output_type": "stream",
     "text": [
      "[0.99132908 0.98881911 0.32332715 0.22244095 0.23132926 0.80556594\n",
      " 0.12765325]\n",
      "0.30813035062127003\n",
      "threshold 0.30813035062127003\n"
     ]
    },
    {
     "name": "stderr",
     "output_type": "stream",
     "text": [
      "ic| label_current_deforestation_test_classified_incorrect.shape: (13601177,)\n",
      "    predicted_test_classified_incorrect.shape: (13601177,)\n",
      "ic| TP_H + FN_H + FP_H + TN_H: 13601177\n",
      "    len(label_mask_current_deforestation_test): 89476788\n",
      "ic| TP_H + FN_H + FP_H + TN_H: 13601177\n",
      "    len(label_mask_current_deforestation_test): 89476788\n"
     ]
    },
    {
     "name": "stdout",
     "output_type": "stream",
     "text": [
      "[0.90435004 0.98390531 0.48305897 0.15200788 0.17906642 0.75127355\n",
      " 0.18077202]\n",
      "0.38084508625754454\n",
      "threshold 0.38084508625754454\n"
     ]
    },
    {
     "name": "stderr",
     "output_type": "stream",
     "text": [
      "ic| label_current_deforestation_test_classified_incorrect.shape: (11052978,)\n",
      "    predicted_test_classified_incorrect.shape: (11052978,)\n",
      "ic| TP_H + FN_H + FP_H + TN_H: 11052978\n",
      "    len(label_mask_current_deforestation_test): 89476788\n",
      "ic| TP_H + FN_H + FP_H + TN_H: 11052978\n",
      "    len(label_mask_current_deforestation_test): 89476788\n"
     ]
    },
    {
     "name": "stdout",
     "output_type": "stream",
     "text": [
      "[0.80068682 0.98288918 0.66736076 0.123529   0.10789171 0.61717349\n",
      " 0.2052436 ]\n",
      "0.42578526436372544\n",
      "threshold 0.42578526436372544\n"
     ]
    },
    {
     "name": "stderr",
     "output_type": "stream",
     "text": [
      "ic| label_current_deforestation_test_classified_incorrect.shape: (9602221,)\n",
      "    predicted_test_classified_incorrect.shape: (9602221,)\n",
      "ic| TP_H + FN_H + FP_H + TN_H: 9602221\n",
      "    len(label_mask_current_deforestation_test): 89476788\n",
      "ic| TP_H + FN_H + FP_H + TN_H: 9602221\n",
      "    len(label_mask_current_deforestation_test): 89476788\n"
     ]
    },
    {
     "name": "stdout",
     "output_type": "stream",
     "text": [
      "[0.68555008 0.98063904 0.7635751  0.10731522 0.06549535 0.46041008\n",
      " 0.20528229]\n",
      "0.4535598218938191\n",
      "threshold 0.4535598218938191\n"
     ]
    },
    {
     "name": "stderr",
     "output_type": "stream",
     "text": [
      "ic| label_current_deforestation_test_classified_incorrect.shape: (8461176,)\n",
      "    predicted_test_classified_incorrect.shape: (8461176,)\n",
      "ic| TP_H + FN_H + FP_H + TN_H: 8461176\n",
      "    len(label_mask_current_deforestation_test): 89476788\n",
      "ic| TP_H + FN_H + FP_H + TN_H: 8461176\n",
      "    len(label_mask_current_deforestation_test): 89476788\n"
     ]
    },
    {
     "name": "stdout",
     "output_type": "stream",
     "text": [
      "[0.56101864 0.97786267 0.80934646 0.0945628  0.045747   0.32576914\n",
      " 0.1817087 ]\n",
      "0.47072544246990633\n",
      "threshold 0.47072544246990633\n"
     ]
    },
    {
     "name": "stderr",
     "output_type": "stream",
     "text": [
      "ic| label_current_deforestation_test_classified_incorrect.shape: (7503346,)\n",
      "    predicted_test_classified_incorrect.shape: (7503346,)\n",
      "ic| TP_H + FN_H + FP_H + TN_H: 7503346\n",
      "    len(label_mask_current_deforestation_test): 89476788\n",
      "ic| TP_H + FN_H + FP_H + TN_H: 7503346\n",
      "    len(label_mask_current_deforestation_test): 89476788\n"
     ]
    },
    {
     "name": "stdout",
     "output_type": "stream",
     "text": [
      "[0.4617484  0.97548466 0.83139854 0.08385802 0.03921413 0.2307815\n",
      " 0.14173362]\n",
      "0.4813343794239128\n",
      "threshold 0.4813343794239128\n"
     ]
    },
    {
     "name": "stderr",
     "output_type": "stream",
     "text": [
      "ic| label_current_deforestation_test_classified_incorrect.shape: (6783022,)\n",
      "    predicted_test_classified_incorrect.shape: (6783022,)\n",
      "ic| TP_H + FN_H + FP_H + TN_H: 6783022\n",
      "    len(label_mask_current_deforestation_test): 89476788\n",
      "ic| TP_H + FN_H + FP_H + TN_H: 6783022\n",
      "    len(label_mask_current_deforestation_test): 89476788\n"
     ]
    },
    {
     "name": "stdout",
     "output_type": "stream",
     "text": [
      "[0.40307681 0.97352102 0.84435899 0.07580762 0.03674109 0.15924341\n",
      " 0.10349203]\n",
      "0.48789106304599356\n",
      "threshold 0.48789106304599356\n"
     ]
    },
    {
     "name": "stderr",
     "output_type": "stream",
     "text": [
      "ic| label_current_deforestation_test_classified_incorrect.shape: (6293343,)\n",
      "    predicted_test_classified_incorrect.shape: (6293343,)\n",
      "ic| TP_H + FN_H + FP_H + TN_H: 6293343\n",
      "    len(label_mask_current_deforestation_test): 89476788\n",
      "ic| TP_H + FN_H + FP_H + TN_H: 6293343\n",
      "    len(label_mask_current_deforestation_test): 89476788\n"
     ]
    },
    {
     "name": "stdout",
     "output_type": "stream",
     "text": [
      "[0.37087121 0.97207643 0.85215518 0.07033492 0.03582629 0.10806414\n",
      " 0.07495739]\n",
      "0.4919433163779192\n",
      "threshold 0.4919433163779192\n"
     ]
    },
    {
     "name": "stderr",
     "output_type": "stream",
     "text": [
      "ic| label_current_deforestation_test_classified_incorrect.shape: (5979658,)\n",
      "    predicted_test_classified_incorrect.shape: (5979658,)\n",
      "ic| TP_H + FN_H + FP_H + TN_H: 5979658\n",
      "    len(label_mask_current_deforestation_test): 89476788\n",
      "ic| TP_H + FN_H + FP_H + TN_H: 5979658\n",
      "    len(label_mask_current_deforestation_test): 89476788\n"
     ]
    },
    {
     "name": "stdout",
     "output_type": "stream",
     "text": [
      "[0.35302113 0.97101495 0.85672571 0.06682915 0.03605532 0.07443387\n",
      " 0.05587525]\n",
      "0.4944477466680743\n",
      "threshold 0.4944477466680743\n"
     ]
    },
    {
     "name": "stderr",
     "output_type": "stream",
     "text": [
      "ic| label_current_deforestation_test_classified_incorrect.shape: (5783839,)\n",
      "    predicted_test_classified_incorrect.shape: (5783839,)\n",
      "ic| TP_H + FN_H + FP_H + TN_H: 5783839\n",
      "    len(label_mask_current_deforestation_test): 89476788\n",
      "ic| TP_H + FN_H + FP_H + TN_H: 5783839\n",
      "    len(label_mask_current_deforestation_test): 89476788\n"
     ]
    },
    {
     "name": "stdout",
     "output_type": "stream",
     "text": [
      "[0.34294107 0.97039957 0.85956746 0.06464066 0.03623232 0.05182582\n",
      " 0.04377826]\n",
      "0.4959955697098449\n",
      "threshold 0.4959955697098449\n"
     ]
    },
    {
     "name": "stderr",
     "output_type": "stream",
     "text": [
      "ic| label_current_deforestation_test_classified_incorrect.shape: (5663398,)\n",
      "    predicted_test_classified_incorrect.shape: (5663398,)\n",
      "ic| TP_H + FN_H + FP_H + TN_H: 5663398\n",
      "    len(label_mask_current_deforestation_test): 89476788\n",
      "ic| TP_H + FN_H + FP_H + TN_H: 5663398\n",
      "    len(label_mask_current_deforestation_test): 89476788\n"
     ]
    },
    {
     "name": "stdout",
     "output_type": "stream",
     "text": [
      "[0.33717203 0.96996866 0.8611974  0.06329461 0.0370889  0.03824929\n",
      " 0.03638217]\n",
      "0.49695217695822935\n",
      "threshold 0.49695217695822935\n"
     ]
    },
    {
     "name": "stderr",
     "output_type": "stream",
     "text": [
      "ic| label_current_deforestation_test_classified_incorrect.shape: (5589235,)\n",
      "    predicted_test_classified_incorrect.shape: (5589235,)\n",
      "ic| TP_H + FN_H + FP_H + TN_H: 5589235\n",
      "    len(label_mask_current_deforestation_test): 89476788\n",
      "ic| TP_H + FN_H + FP_H + TN_H: 5589235\n",
      "    len(label_mask_current_deforestation_test): 89476788\n"
     ]
    },
    {
     "name": "stdout",
     "output_type": "stream",
     "text": [
      "[0.33378684 0.96969661 0.86225184 0.06246575 0.03735996 0.02919423\n",
      " 0.03183518]\n",
      "0.49754339275161547\n",
      "threshold 0.49754339275161547\n"
     ]
    },
    {
     "name": "stderr",
     "output_type": "stream",
     "text": [
      "ic| label_current_deforestation_test_classified_incorrect.shape: (5543771,)\n",
      "    predicted_test_classified_incorrect.shape: (5543771,)\n",
      "ic| TP_H + FN_H + FP_H + TN_H: 5543771\n",
      "    len(label_mask_current_deforestation_test): 89476788\n",
      "ic| TP_H + FN_H + FP_H + TN_H: 5543771\n",
      "    len(label_mask_current_deforestation_test): 89476788\n"
     ]
    },
    {
     "name": "stdout",
     "output_type": "stream",
     "text": [
      "[0.33177558 0.96949451 0.86290868 0.06195764 0.03739152 0.02344879\n",
      " 0.02905313]\n",
      "0.49790878420661383\n",
      "threshold 0.49790878420661383\n"
     ]
    },
    {
     "name": "stderr",
     "output_type": "stream",
     "text": [
      "ic| label_current_deforestation_test_classified_incorrect.shape: (5515655,)\n",
      "    predicted_test_classified_incorrect.shape: (5515655,)\n",
      "ic| TP_H + FN_H + FP_H + TN_H: 5515655\n",
      "    len(label_mask_current_deforestation_test): 89476788\n",
      "ic| TP_H + FN_H + FP_H + TN_H: 5515655\n",
      "    len(label_mask_current_deforestation_test): 89476788\n"
     ]
    },
    {
     "name": "stdout",
     "output_type": "stream",
     "text": [
      "[0.33056162 0.96938472 0.86330324 0.06164342 0.03751551 0.01995207\n",
      " 0.02735314]\n",
      "0.49813460854500163\n",
      "threshold 0.49813460854500163\n"
     ]
    },
    {
     "name": "stderr",
     "output_type": "stream",
     "text": [
      "ic| label_current_deforestation_test_classified_incorrect.shape: (5498351,)\n",
      "    predicted_test_classified_incorrect.shape: (5498351,)\n",
      "ic| TP_H + FN_H + FP_H + TN_H: 5498351\n",
      "    len(label_mask_current_deforestation_test): 89476788\n",
      "ic| TP_H + FN_H + FP_H + TN_H: 5498351\n",
      "    len(label_mask_current_deforestation_test): 89476788\n"
     ]
    },
    {
     "name": "stdout",
     "output_type": "stream",
     "text": [
      "[0.32982423 0.96931578 0.86353587 0.06145003 0.03776473 0.0178758\n",
      " 0.02631374]\n",
      "0.49827417566161225\n",
      "threshold 0.49827417566161225\n"
     ]
    },
    {
     "name": "stderr",
     "output_type": "stream",
     "text": [
      "ic| label_current_deforestation_test_classified_incorrect.shape: (5487759,)\n",
      "    predicted_test_classified_incorrect.shape: (5487759,)\n",
      "ic| TP_H + FN_H + FP_H + TN_H: 5487759\n",
      "    len(label_mask_current_deforestation_test): 89476788\n",
      "ic| TP_H + FN_H + FP_H + TN_H: 5487759\n",
      "    len(label_mask_current_deforestation_test): 89476788\n"
     ]
    },
    {
     "name": "stdout",
     "output_type": "stream",
     "text": [
      "[0.32938558 0.96926923 0.86369704 0.06133165 0.03753368 0.0164304\n",
      " 0.02568389]\n",
      "0.49836043288338944\n",
      "threshold 0.49836043288338944\n"
     ]
    },
    {
     "name": "stderr",
     "output_type": "stream",
     "text": [
      "ic| label_current_deforestation_test_classified_incorrect.shape: (5481061,)\n",
      "    predicted_test_classified_incorrect.shape: (5481061,)\n",
      "ic| TP_H + FN_H + FP_H + TN_H: 5481061\n",
      "    len(label_mask_current_deforestation_test): 89476788\n",
      "ic| TP_H + FN_H + FP_H + TN_H: 5481061\n",
      "    len(label_mask_current_deforestation_test): 89476788\n"
     ]
    },
    {
     "name": "stdout",
     "output_type": "stream",
     "text": [
      "[0.32910441 0.96924072 0.86378143 0.06125679 0.03773998 0.01567194\n",
      " 0.02528541]\n",
      "0.49841374277822287\n",
      "threshold 0.49841374277822287\n"
     ]
    },
    {
     "name": "stderr",
     "output_type": "stream",
     "text": [
      "ic| label_current_deforestation_test_classified_incorrect.shape: (5476919,)\n",
      "    predicted_test_classified_incorrect.shape: (5476919,)\n",
      "ic| TP_H + FN_H + FP_H + TN_H: 5476919\n",
      "    len(label_mask_current_deforestation_test): 89476788\n",
      "ic| TP_H + FN_H + FP_H + TN_H: 5476919\n",
      "    len(label_mask_current_deforestation_test): 89476788\n"
     ]
    },
    {
     "name": "stdout",
     "output_type": "stream",
     "text": [
      "[0.32893074 0.96922788 0.86384073 0.0612105  0.03773552 0.01513711\n",
      " 0.02503694]\n",
      "0.4984470835042267\n",
      "threshold 0.4984470835042267\n"
     ]
    },
    {
     "name": "stderr",
     "output_type": "stream",
     "text": [
      "ic| label_current_deforestation_test_classified_incorrect.shape: (5474329,)\n",
      "    predicted_test_classified_incorrect.shape: (5474329,)\n",
      "ic| TP_H + FN_H + FP_H + TN_H: 5474329\n",
      "    len(label_mask_current_deforestation_test): 89476788\n",
      "ic| TP_H + FN_H + FP_H + TN_H: 5474329\n",
      "    len(label_mask_current_deforestation_test): 89476788\n",
      "ic| self.threshold_optimal: 0.4984470835042267\n"
     ]
    },
    {
     "name": "stdout",
     "output_type": "stream",
     "text": [
      "[0.32882319 0.96921517 0.8638795  0.06118155 0.03769077 0.01478756\n",
      " 0.02488145]\n",
      "threshold:  0.4984470835042267\n",
      "threshold 0.4984470835042267\n"
     ]
    },
    {
     "name": "stderr",
     "output_type": "stream",
     "text": [
      "ic| label_current_deforestation_test_classified_incorrect.shape: (5474329,)\n",
      "    predicted_test_classified_incorrect.shape: (5474329,)\n",
      "ic| TP_H + FN_H + FP_H + TN_H: 5474329\n",
      "    len(label_mask_current_deforestation_test): 89476788\n",
      "ic| TP_H + FN_H + FP_H + TN_H: 5474329\n",
      "    len(label_mask_current_deforestation_test): 89476788\n"
     ]
    },
    {
     "name": "stdout",
     "output_type": "stream",
     "text": [
      "[0.32882319 0.96921517 0.8638795  0.06118155 0.03769077 0.01478756\n",
      " 0.02488145]\n",
      "threshold 0.4984470835042267\n",
      "(89476788,) (89476788,)\n"
     ]
    },
    {
     "name": "stderr",
     "output_type": "stream",
     "text": [
      "ic| self.m_optimal: {'AA': array([0.06118155]),\n",
      "                     'UEO': array([0.02488145]),\n",
      "                     'f1': 47.17,\n",
      "                     'f1_H': array([0.02124132]),\n",
      "                     'f1_L': array([0.49104931]),\n",
      "                     'precision_H': array([0.03769077]),\n",
      "                     'precision_L': array([0.32882319]),\n",
      "                     'recall_H': array([0.01478756]),\n",
      "                     'recall_L': array([0.96921517]),\n",
      "                     'recall_Ltotal': array([0.8638795])}\n",
      "ic| self.m_audited_optimal: {'f1': array([0.52066143]),\n",
      "                             'precision': array([0.35548546]),\n",
      "                             'recall': array([0.97256091])}\n"
     ]
    },
    {
     "name": "stdout",
     "output_type": "stream",
     "text": [
      "cm_audited [[85841974  2319428]\n",
      " [   36093  1279293]]\n",
      "[0.35548546 0.97256091]\n",
      "Result idx 1: {'uncertainty_result': {'metrics': {'precision_L': array([0.32882319]), 'recall_L': array([0.96921517]), 'recall_Ltotal': array([0.8638795]), 'AA': array([0.06118155]), 'precision_H': array([0.03769077]), 'recall_H': array([0.01478756]), 'UEO': array([0.02488145]), 'f1_L': array([0.49104931]), 'f1_H': array([0.02124132]), 'f1': 47.17}, 'metrics_audited': {'precision': array([0.35548546]), 'recall': array([0.97256091]), 'f1': array([0.52066143])}, 'exp': 46}}\n",
      "Grid execution idx: 1\n",
      "Beginning run number 2\n",
      "manager.config {'training': True, 'inferring': True, 'site': 'PI', 'training_date': 'current', 'mode': 'evidential2', 'training_times': 3, 'uncertainty_method': 'pred_entropy', 'loadInference': False, 'removePolygons': True, 'plotLandsat': False, 'plotPOI': False, 'training_experiment_id': 46, 'get_multiple_metrics': False, 'start_repetition_id': 0, 'end_repetition_id': 3, 'save_probabilities': False, 'addPastDeforestationInput': True, 'classes_mode': True, 'learning_rate': 0.0001, 'use_cloud_mask': False, 'mask_out_non_biome': True, 'log_filename': 'log.pkl', 'inference_times': 1, 'dropout_training': False}\n",
      "D:/Jorge/datasets/deforestation/PI/deforestation_past_years.tif\n",
      "Loaded deforestation past years\n"
     ]
    },
    {
     "name": "stderr",
     "output_type": "stream",
     "text": [
      "ic| np.unique(deforestation_past_years, return_counts=True): (array([   0, 2002, 2004, 2006, 2008, 2010, 2012, 2013, 2014, 2015, 2016,\n",
      "                                                                    2017, 2018, 2019, 2020, 2021], dtype=uint16),\n",
      "                                                              array([340580606,   4312043,   6953620,   5659916,   7162776,   6261432,\n",
      "                                                                      8191420,   3233962,   3270293,   3044419,   1817289,   2359424,\n",
      "                                                                      2201926,   3050229,   2901307,   2418575], dtype=int64))\n"
     ]
    },
    {
     "name": "stdout",
     "output_type": "stream",
     "text": [
      "Label where deforestation past years is actual date (2020) = 1\n"
     ]
    },
    {
     "name": "stderr",
     "output_type": "stream",
     "text": [
      "ic| np.unique(deforestation_past_years, return_counts=True): (array([   0, 2002, 2004, 2006, 2008, 2010, 2012, 2013, 2014, 2015, 2016,\n",
      "                                                                    2017, 2018, 2019, 2020, 2021], dtype=uint16),\n",
      "                                                              array([340580606,   4312043,   6953620,   5659916,   7162776,   6261432,\n",
      "                                                                      8191420,   3233962,   3270293,   3044419,   1817289,   2359424,\n",
      "                                                                      2201926,   3050229,   2901307,   2418575], dtype=int64))\n"
     ]
    },
    {
     "name": "stdout",
     "output_type": "stream",
     "text": [
      "Past deforestation different from 0 (no deforestation)\n"
     ]
    },
    {
     "name": "stderr",
     "output_type": "stream",
     "text": [
      "ic| np.unique(deforestation_past_years, return_counts=True): (array([   0, 2002, 2004, 2006, 2008, 2010, 2012, 2013, 2014, 2015, 2016,\n",
      "                                                                    2017, 2018, 2019, 2020, 2021], dtype=uint16),\n",
      "                                                              array([340580606,   4312043,   6953620,   5659916,   7162776,   6261432,\n",
      "                                                                      8191420,   3233962,   3270293,   3044419,   1817289,   2359424,\n",
      "                                                                      2201926,   3050229,   2901307,   2418575], dtype=int64))\n"
     ]
    },
    {
     "name": "stdout",
     "output_type": "stream",
     "text": [
      "Past deforestation before 2008 is 2\n",
      "D:/Jorge/datasets/deforestation/PI/deforestation_before_2000_PI.tif\n"
     ]
    },
    {
     "name": "stderr",
     "output_type": "stream",
     "text": [
      "ic| np.unique(label_past_deforestation_before_2008, return_counts=True): (array([  0, 208], dtype=uint8), array([385251297,  18167940], dtype=int64))\n",
      "ic| np.unique(deforestation_past_years, return_counts=True): (array([   0, 2002, 2004, 2006, 2008, 2010, 2012, 2013, 2014, 2015, 2016,\n",
      "                                                                    2017, 2018, 2019, 2020, 2021], dtype=uint16),\n",
      "                                                              array([340580606,   4312043,   6953620,   5659916,   7162776,   6261432,\n",
      "                                                                      8191420,   3233962,   3270293,   3044419,   1817289,   2359424,\n",
      "                                                                      2201926,   3050229,   2901307,   2418575], dtype=int64))\n"
     ]
    },
    {
     "name": "stdout",
     "output_type": "stream",
     "text": [
      "D:/Jorge/datasets/sentinel2/PI/biome_limits.tif\n"
     ]
    },
    {
     "ename": "KeyboardInterrupt",
     "evalue": "",
     "output_type": "error",
     "traceback": [
      "\u001b[1;31m---------------------------------------------------------------------------\u001b[0m",
      "\u001b[1;31mKeyboardInterrupt\u001b[0m                         Traceback (most recent call last)",
      "\u001b[1;32md:\\Jorge\\deforestation_uncertainty\\run_multiple_experiments.ipynb Cell 14\u001b[0m line \u001b[0;36m<cell line: 1>\u001b[1;34m()\u001b[0m\n\u001b[0;32m     <a href='vscode-notebook-cell:/d%3A/Jorge/deforestation_uncertainty/run_multiple_experiments.ipynb#X16sZmlsZQ%3D%3D?line=19'>20</a>\u001b[0m manager\u001b[39m.\u001b[39msetExperimentPath()\n\u001b[0;32m     <a href='vscode-notebook-cell:/d%3A/Jorge/deforestation_uncertainty/run_multiple_experiments.ipynb#X16sZmlsZQ%3D%3D?line=20'>21</a>\u001b[0m manager\u001b[39m.\u001b[39mcreateLogFolders()\n\u001b[1;32m---> <a href='vscode-notebook-cell:/d%3A/Jorge/deforestation_uncertainty/run_multiple_experiments.ipynb#X16sZmlsZQ%3D%3D?line=22'>23</a>\u001b[0m manager\u001b[39m.\u001b[39;49mloadDataset()\n\u001b[0;32m     <a href='vscode-notebook-cell:/d%3A/Jorge/deforestation_uncertainty/run_multiple_experiments.ipynb#X16sZmlsZQ%3D%3D?line=24'>25</a>\u001b[0m \u001b[39m# %%\u001b[39;00m\n\u001b[0;32m     <a href='vscode-notebook-cell:/d%3A/Jorge/deforestation_uncertainty/run_multiple_experiments.ipynb#X16sZmlsZQ%3D%3D?line=25'>26</a>\u001b[0m \u001b[39mif\u001b[39;00m config[\u001b[39m'\u001b[39m\u001b[39mget_multiple_metrics\u001b[39m\u001b[39m'\u001b[39m] \u001b[39m==\u001b[39m \u001b[39mFalse\u001b[39;00m:\n",
      "File \u001b[1;32md:\\Jorge\\deforestation_uncertainty\\src\\manager\\base.py:213\u001b[0m, in \u001b[0;36mManager.loadDataset\u001b[1;34m(self)\u001b[0m\n\u001b[0;32m    212\u001b[0m \u001b[39mdef\u001b[39;00m \u001b[39mloadDataset\u001b[39m(\u001b[39mself\u001b[39m):\n\u001b[1;32m--> 213\u001b[0m     \u001b[39mself\u001b[39;49m\u001b[39m.\u001b[39;49mloadLabel()\n\u001b[0;32m    214\u001b[0m     \u001b[39mself\u001b[39m\u001b[39m.\u001b[39mcreateTrainValTestTiles()\n\u001b[0;32m    215\u001b[0m     \u001b[39mself\u001b[39m\u001b[39m.\u001b[39mgetLabelCurrentDeforestation()\n",
      "File \u001b[1;32md:\\Jorge\\deforestation_uncertainty\\src\\manager\\base.py:82\u001b[0m, in \u001b[0;36mManager.loadLabel\u001b[1;34m(self)\u001b[0m\n\u001b[0;32m     81\u001b[0m \u001b[39mdef\u001b[39;00m \u001b[39mloadLabel\u001b[39m(\u001b[39mself\u001b[39m):\n\u001b[1;32m---> 82\u001b[0m     \u001b[39mself\u001b[39m\u001b[39m.\u001b[39mlabel_mask \u001b[39m=\u001b[39m \u001b[39mself\u001b[39;49m\u001b[39m.\u001b[39;49mdataset\u001b[39m.\u001b[39;49mloadLabel()\n\u001b[0;32m     83\u001b[0m     \u001b[39mprint\u001b[39m(\u001b[39m'\u001b[39m\u001b[39mMask label shape: \u001b[39m\u001b[39m'\u001b[39m, \u001b[39m'\u001b[39m\u001b[39m\\n\u001b[39;00m\u001b[39m'\u001b[39m, \u001b[39mself\u001b[39m\u001b[39m.\u001b[39mlabel_mask\u001b[39m.\u001b[39mshape, \u001b[39m'\u001b[39m\u001b[39m\\n\u001b[39;00m\u001b[39m'\u001b[39m, \u001b[39m'\u001b[39m\u001b[39mUnique values: \u001b[39m\u001b[39m'\u001b[39m, \u001b[39m'\u001b[39m\u001b[39m\\n\u001b[39;00m\u001b[39m'\u001b[39m, np\u001b[39m.\u001b[39munique(\u001b[39mself\u001b[39m\u001b[39m.\u001b[39mlabel_mask))\n",
      "File \u001b[1;32md:\\Jorge\\deforestation_uncertainty\\src\\dataset.py:677\u001b[0m, in \u001b[0;36mMultipleDates.loadLabel\u001b[1;34m(self)\u001b[0m\n\u001b[0;32m    675\u001b[0m \tlabel \u001b[39m=\u001b[39m \u001b[39mself\u001b[39m\u001b[39m.\u001b[39mmaskOutNonBiome(label)\n\u001b[0;32m    676\u001b[0m \u001b[39mif\u001b[39;00m \u001b[39mself\u001b[39m\u001b[39m.\u001b[39mborderBuffer \u001b[39m>\u001b[39m \u001b[39m0\u001b[39m:\n\u001b[1;32m--> 677\u001b[0m \tlabel \u001b[39m=\u001b[39m \u001b[39mself\u001b[39;49m\u001b[39m.\u001b[39;49mremoveBorderBufferFromLabel(label, \u001b[39mself\u001b[39;49m\u001b[39m.\u001b[39;49mborderBuffer)\n\u001b[0;32m    678\u001b[0m \t\u001b[39mprint\u001b[39m(\u001b[39m\"\u001b[39m\u001b[39mRemoving bufer................\u001b[39m\u001b[39m\"\u001b[39m)\n\u001b[0;32m    680\u001b[0m label_per_date\u001b[39m.\u001b[39mappend(\n\u001b[0;32m    681\u001b[0m \tnp\u001b[39m.\u001b[39mexpand_dims(label, axis \u001b[39m=\u001b[39m \u001b[39m-\u001b[39m\u001b[39m1\u001b[39m)\n\u001b[0;32m    682\u001b[0m )\n",
      "File \u001b[1;32md:\\Jorge\\deforestation_uncertainty\\src\\dataset.py:80\u001b[0m, in \u001b[0;36mDataset.removeBorderBufferFromLabel\u001b[1;34m(self, label, borderBuffer)\u001b[0m\n\u001b[0;32m     77\u001b[0m outer_buffer[outer_buffer \u001b[39m==\u001b[39m \u001b[39m1\u001b[39m] \u001b[39m=\u001b[39m \u001b[39m2\u001b[39m\n\u001b[0;32m     79\u001b[0m \u001b[39m# 1 deforestation, 2 unknown\u001b[39;00m\n\u001b[1;32m---> 80\u001b[0m image_ref_[outer_buffer \u001b[39m+\u001b[39;49m inner_buffer \u001b[39m==\u001b[39m \u001b[39m2\u001b[39m ] \u001b[39m=\u001b[39m \u001b[39m2\u001b[39m\n\u001b[0;32m     82\u001b[0m image_ref_[label_class2 \u001b[39m==\u001b[39m \u001b[39m1\u001b[39m] \u001b[39m=\u001b[39m \u001b[39m2\u001b[39m\n\u001b[0;32m     83\u001b[0m \u001b[39mreturn\u001b[39;00m image_ref_\n",
      "\u001b[1;31mKeyboardInterrupt\u001b[0m: "
     ]
    }
   ],
   "source": [
    "if config['inferring'] == True:\n",
    "    results = []\n",
    "    error_count = 0\n",
    "\n",
    "    # while idx < len(repetition_n):\n",
    "    # for idx in range(config['start_repetition_id'], repetition_n): # 10 repetitions\n",
    "    for idx in range(config['start_repetition_id'], config['end_repetition_id']): # 10 repetitions\n",
    "\n",
    "    # for idx in range(0, 4): # 10 repetitions\n",
    "\n",
    "\n",
    "        print(\"Beginning run number {}\".format(idx))\n",
    "        logger = Logger()\n",
    "        manager = manager_class(config, dataset, patchesHandler, logger)\n",
    "\n",
    "        print(\"manager.config\", manager.config)\n",
    "\n",
    "        manager.defineExperiment(exp) # fixed\n",
    "        manager.defineRepetitionId(idx) # varying from 0 to 10\n",
    "        manager.setExperimentPath()\n",
    "        manager.createLogFolders()\n",
    "\n",
    "        manager.loadDataset()\n",
    "\n",
    "        # %%\n",
    "        if config['get_multiple_metrics'] == False:\n",
    "            predictor_fcn = manager.run_predictor\n",
    "        else:\n",
    "            predictor_fcn = manager.run_predictor_multiple_metrics\n",
    "        result = predictor_fcn()\n",
    "        print(\"Result idx {}: {}\".format(idx, result))\n",
    "        results.append(result)\n",
    "\n",
    "        with open(manager.default_log_name, 'wb') as f:\n",
    "            pickle.dump(results, f)\n",
    "        print(\"Grid execution idx: {}\".format(idx))\n",
    "        del manager\n",
    "        gc.collect()\n",
    "        # idx += 1\n",
    "    "
   ]
  },
  {
   "cell_type": "markdown",
   "id": "3395c5fb",
   "metadata": {},
   "source": []
  },
  {
   "cell_type": "code",
   "execution_count": null,
   "id": "f07bf7d7",
   "metadata": {},
   "outputs": [
    {
     "data": {
      "text/plain": [
       "0"
      ]
     },
     "execution_count": 15,
     "metadata": {},
     "output_type": "execute_result"
    }
   ],
   "source": [
    "error_count"
   ]
  },
  {
   "cell_type": "code",
   "execution_count": null,
   "id": "64080745",
   "metadata": {},
   "outputs": [
    {
     "name": "stdout",
     "output_type": "stream",
     "text": [
      "[{'uncertainty_result': {'metrics': {'precision_L': array([0.70563854]), 'recall_L': array([0.96048301]), 'recall_Ltotal': array([0.87069108]), 'AA': array([0.02999895]), 'precision_H': array([0.15253552]), 'recall_H': array([0.44877206]), 'UEO': array([0.11639467]), 'f1_L': array([0.81357069]), 'f1_H': array([0.22768274]), 'f1': 72.75}, 'metrics_audited': {'precision': array([0.72636998]), 'recall': array([0.9641773]), 'f1': array([0.8285476])}, 'exp': 44}}, {'uncertainty_result': {'metrics': {'precision_L': array([0.56326273]), 'recall_L': array([0.95704665]), 'recall_Ltotal': array([0.86589904]), 'AA': array([0.02999832]), 'precision_H': array([0.10471903]), 'recall_H': array([0.39042686]), 'UEO': array([0.13660256]), 'f1_L': array([0.70915659]), 'f1_H': array([0.16514375]), 'f1': 62.45}, 'metrics_audited': {'precision': array([0.58874108]), 'recall': array([0.96113746]), 'f1': array([0.73020058])}, 'exp': 44}}, {'uncertainty_result': {'metrics': {'precision_L': array([0.64202204]), 'recall_L': array([0.81918535]), 'recall_Ltotal': array([0.71899472]), 'AA': array([0.03000148]), 'precision_H': array([0.15893132]), 'recall_H': array([0.34180773]), 'UEO': array([0.11571102]), 'f1_L': array([0.71986366]), 'f1_H': array([0.2169751]), 'f1': 63.85}, 'metrics_audited': {'precision': array([0.67726814]), 'recall': array([0.84129992]), 'f1': array([0.75042488])}, 'exp': 44}}, {'uncertainty_result': {'metrics': {'precision_L': array([0.72810955]), 'recall_L': array([0.88402117]), 'recall_Ltotal': array([0.74874634]), 'AA': array([0.02999785]), 'precision_H': array([0.2047695]), 'recall_H': array([0.35583124]), 'UEO': array([0.12811386]), 'f1_L': array([0.79852613]), 'f1_H': array([0.25994752]), 'f1': 70.02}, 'metrics_audited': {'precision': array([0.7633275]), 'recall': array([0.9017685]), 'f1': array([0.8267928])}, 'exp': 44}}, {'uncertainty_result': {'metrics': {'precision_L': array([0.5331752]), 'recall_L': array([0.91625822]), 'recall_Ltotal': array([0.83291359]), 'AA': array([0.03000104]), 'precision_H': array([0.08853263]), 'recall_H': array([0.24298187]), 'UEO': array([0.10385643]), 'f1_L': array([0.67409258]), 'f1_H': array([0.12977908]), 'f1': 60.82}, 'metrics_audited': {'precision': array([0.55886167]), 'recall': array([0.92387554]), 'f1': array([0.69643983])}, 'exp': 44}}, {'uncertainty_result': {'metrics': {'precision_L': array([0.64820748]), 'recall_L': array([0.93433094]), 'recall_Ltotal': array([0.81314485]), 'AA': array([0.02999886]), 'precision_H': array([0.1690622]), 'recall_H': array([0.37796811]), 'UEO': array([0.1263714]), 'f1_L': array([0.76540361]), 'f1_H': array([0.23362552]), 'f1': 67.77}, 'metrics_audited': {'precision': array([0.68117254]), 'recall': array([0.94284846]), 'f1': array([0.79092879])}, 'exp': 44}}, {'uncertainty_result': {'metrics': {'precision_L': array([0.67686058]), 'recall_L': array([0.85195359]), 'recall_Ltotal': array([0.7360041]), 'AA': array([0.02999909]), 'precision_H': array([0.18193595]), 'recall_H': array([0.39121995]), 'UEO': array([0.12765782]), 'f1_L': array([0.7543805]), 'f1_H': array([0.24836864]), 'f1': 66.32}, 'metrics_audited': {'precision': array([0.71280627]), 'recall': array([0.87210246]), 'f1': array([0.78444909])}, 'exp': 44}}, {'uncertainty_result': {'metrics': {'precision_L': array([0.58988893]), 'recall_L': array([0.98461672]), 'recall_Ltotal': array([0.90728721]), 'AA': array([0.02999981]), 'precision_H': array([0.09141104]), 'recall_H': array([0.44125552]), 'UEO': array([0.14428742]), 'f1_L': array([0.7377738]), 'f1_H': array([0.15144794]), 'f1': 64.58}, 'metrics_audited': {'precision': array([0.60981293]), 'recall': array([0.98582489]), 'f1': array([0.75351531])}, 'exp': 44}}, {'uncertainty_result': {'metrics': {'precision_L': array([0.3138799]), 'recall_L': array([0.92692074]), 'recall_Ltotal': array([0.84033687]), 'AA': array([0.03000632]), 'precision_H': array([0.08378065]), 'recall_H': array([0.05349757]), 'UEO': array([0.03624901]), 'f1_L': array([0.46895816]), 'f1_H': array([0.06529894]), 'f1': 45.24}, 'metrics_audited': {'precision': array([0.33701175]), 'recall': array([0.93374709]), 'f1': array([0.49526902])}, 'exp': 44}}, {'uncertainty_result': {'metrics': {'precision_L': array([0.53801715]), 'recall_L': array([0.90160636]), 'recall_Ltotal': array([0.79547571]), 'AA': array([0.03000114]), 'precision_H': array([0.10796894]), 'recall_H': array([0.25975083]), 'UEO': array([0.12081608]), 'f1_L': array([0.67389798]), 'f1_H': array([0.15253476]), 'f1': 59.82}, 'metrics_audited': {'precision': array([0.57208543]), 'recall': array([0.91318856]), 'f1': array([0.70346868])}, 'exp': 44}}]\n"
     ]
    }
   ],
   "source": [
    "print(results)"
   ]
  },
  {
   "cell_type": "code",
   "execution_count": null,
   "id": "cd4f4d1d",
   "metadata": {},
   "outputs": [
    {
     "name": "stdout",
     "output_type": "stream",
     "text": [
      "10\n"
     ]
    }
   ],
   "source": [
    "print(len(results))"
   ]
  },
  {
   "cell_type": "code",
   "execution_count": null,
   "id": "6cc43863",
   "metadata": {},
   "outputs": [
    {
     "data": {
      "text/plain": [
       "{'uncertainty_result': {'metrics': {'precision_L': array([0.58988893]),\n",
       "   'recall_L': array([0.98461672]),\n",
       "   'recall_Ltotal': array([0.90728721]),\n",
       "   'AA': array([0.02999981]),\n",
       "   'precision_H': array([0.09141104]),\n",
       "   'recall_H': array([0.44125552]),\n",
       "   'UEO': array([0.14428742]),\n",
       "   'f1_L': array([0.7377738]),\n",
       "   'f1_H': array([0.15144794]),\n",
       "   'f1': 64.58},\n",
       "  'metrics_audited': {'precision': array([0.60981293]),\n",
       "   'recall': array([0.98582489]),\n",
       "   'f1': array([0.75351531])},\n",
       "  'exp': 44}}"
      ]
     },
     "execution_count": 18,
     "metadata": {},
     "output_type": "execute_result"
    }
   ],
   "source": [
    "results[7]"
   ]
  }
 ],
 "metadata": {
  "kernelspec": {
   "display_name": "Python 3.9.12 ('tf2')",
   "language": "python",
   "name": "python3"
  },
  "language_info": {
   "codemirror_mode": {
    "name": "ipython",
    "version": 3
   },
   "file_extension": ".py",
   "mimetype": "text/x-python",
   "name": "python",
   "nbconvert_exporter": "python",
   "pygments_lexer": "ipython3",
   "version": "3.9.12"
  },
  "vscode": {
   "interpreter": {
    "hash": "0593c6bd4eb743cc503a3c17025f83c5676f297db573750215a1bc8c88a990c4"
   }
  }
 },
 "nbformat": 4,
 "nbformat_minor": 5
}
