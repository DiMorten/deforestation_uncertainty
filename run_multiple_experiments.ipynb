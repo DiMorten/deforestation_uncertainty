{
 "cells": [
  {
   "cell_type": "code",
   "execution_count": 1,
   "id": "dbd5b7cf",
   "metadata": {},
   "outputs": [],
   "source": [
    "import tracemalloc\n",
    "\n",
    "from utils_v1 import *\n",
    "import traceback\n"
   ]
  },
  {
   "cell_type": "code",
   "execution_count": 2,
   "id": "123e793c",
   "metadata": {},
   "outputs": [
    {
     "name": "stdout",
     "output_type": "stream",
     "text": [
      "Tensorflow ver. 2.6.0\n"
     ]
    }
   ],
   "source": [
    "from icecream import ic\n",
    "\n",
    "import numpy as np\n",
    "from src.dataset import (\n",
    "    MultipleDates, PAMultipleDates,\n",
    "    MTMultipleDates, MSMultipleDates, PIMultipleDates\n",
    ")\n",
    "\n",
    "# from src.dataset_legacy import MTDeforestationTime\n",
    "from src import training_generator as generator\n",
    "from src.patchesHandler import PatchesHandler, PatchesHandlerMultipleDates, PatchesHandlerEvidential2\n",
    "\n",
    "from src.manager.multioutput import ManagerMCDropout, ManagerSingleRun, ManagerEvidential2\n",
    "from mpl_toolkits.axes_grid1 import make_axes_locatable\n",
    "\n",
    "import cv2\n",
    "from src import metrics as _metric\n",
    "import json\n",
    "import pickle \n",
    "\n",
    "from src.Logger import Logger\n",
    "import pdb\n",
    "import gc\n"
   ]
  },
  {
   "cell_type": "code",
   "execution_count": 3,
   "id": "b7a6829f",
   "metadata": {},
   "outputs": [
    {
     "name": "stdout",
     "output_type": "stream",
     "text": [
      "Mode: evidential2. Site: MT. Training: True. Training date: current\n",
      "{'training': True, 'inferring': True, 'site': 'MT', 'training_date': 'current', 'mode': 'evidential2', 'training_times': 10, 'uncertainty_method': 'pred_entropy', 'loadInference': False, 'removePolygons': True, 'plotLandsat': False, 'plotPOI': False, 'training_experiment_id': 60, 'get_multiple_metrics': False, 'start_repetition_id': 0, 'end_repetition_id': 10, 'save_probabilities': False, 'addPastDeforestationInput': True, 'classes_mode': True, 'learning_rate': 0.0001, 'use_cloud_mask': True, 'mask_out_non_biome': False, 'log_filename': 'log.pkl'}\n"
     ]
    }
   ],
   "source": [
    "\n",
    "with open('config/config.json', 'r') as f:\n",
    "    config = json.load(f)\n",
    "    \n",
    "print(\"Mode: {}. Site: {}. Training: {}. Training date: {}\".format(\n",
    "    config['mode'], config['site'], config['training'], config['training_date']))\n",
    "print(config)\n"
   ]
  },
  {
   "cell_type": "code",
   "execution_count": 4,
   "id": "603a5df7",
   "metadata": {},
   "outputs": [
    {
     "name": "stderr",
     "output_type": "stream",
     "text": [
      "ic| list(self.date_ids): [0]\n",
      "ic| self.image_channels: [[0, 1, 2, 3, 4, 5, 6, 7, 8, 9, 10, 11, 12, 13, 14, 15, 16, 17, 18, 19, 20]]\n",
      "ic| dates: [2019, 2020]\n",
      "ic| self.input_image_shape: 21\n",
      "ic| self.dataset.image_channels: [[0, 1, 2, 3, 4, 5, 6, 7, 8, 9, 10, 11, 12, 13, 14, 15, 16, 17, 18, 19, 20]]\n"
     ]
    }
   ],
   "source": [
    "\n",
    "if config['site'] == 'PA':\n",
    "\tif config['training_date'] == 'earlier':\n",
    "\t\tdates = [2017, 2018]\n",
    "\telse:\n",
    "\t\tdates = [2018, 2019]\n",
    "\tdatasetClass = PAMultipleDates\n",
    "elif config['site'] == 'MT':\n",
    "\tif config['training_date'] == 'earlier':\n",
    "\t\tdates = [2018, 2019]\n",
    "\telse:\n",
    "\t\tdates = [2019, 2020]\n",
    "\tdatasetClass = MTMultipleDates\n",
    "elif config['site'] == 'MS':\n",
    "\tif config['training_date'] == 'earlier':\n",
    "\t\tdates = [2018, 2019]\n",
    "\telse:\n",
    "\t\tdates = [2019, 2020]\n",
    "\tdatasetClass = MSMultipleDates\n",
    "elif config['site'] == 'PI':\n",
    "\tif config['training_date'] == 'earlier':\n",
    "\t\tdates = [2018, 2019]\n",
    "\telse:\n",
    "\t\tdates = [2019, 2020]\n",
    "\tdatasetClass = PIMultipleDates\n",
    "else:\n",
    "\traise ValueError('Invalid site')\n",
    "\n",
    "dataset = datasetClass(config = config,\n",
    "\t\t\t   dates = dates, \n",
    "\t \taddPastDeforestationInput = config['addPastDeforestationInput'],\n",
    "\t\tborderBuffer = 2)\t\n",
    "\n",
    "if config['mode'] == 'ensemble':\n",
    "\tif config['training'] == True:\n",
    "\t\tconfig['mode'] = 'single_run'\n",
    "\telse:\n",
    "\t\tsys.exit(\"Ensure that training is True for ensemble mode. Use infer_ensemble.ipynb for inference.\")\n",
    "\n",
    "if config['training'] == False:\n",
    "\tif config['site'] == 'PA':\n",
    "\t\tif config['mode'] == 'mcd' or config['mode'] == 'single_run': # MCD will do 10 inference on each of the 10 repetitions = 100 runs\n",
    "\t\t\tif config['training_date'] == 'current': exp = 0\n",
    "\t\t\telif config['training_date'] == 'earlier': exp = 1\n",
    "\t\t\t\t\n",
    "\t\tif config['mode'] == 'evidential2':\n",
    "\t\t\tif config['training_date'] == 'current': exp = 8; repetition_id = 0\n",
    "\t\t\telif config['training_date'] == 'earlier': \n",
    "\t\t\t\t# exp = 9; repetition_id = 0\n",
    "\t\t\t\texp = 30; repetition_id = 0\n",
    "\n",
    "\telif config['site'] == 'MT':\n",
    "\n",
    "\t\tif config['mode'] == 'mcd' or config['mode'] == 'single_run':\n",
    "\t\t\tif config['training_date'] == 'current': exp = 2\n",
    "\t\t\telif config['training_date'] == 'earlier': exp = 3\n",
    "\t\tif config['mode'] == 'evidential2':\n",
    "\t\t\tif config['training_date'] == 'current': exp = 10; repetition_id = 0\n",
    "\t\t\telif config['training_date'] == 'earlier': exp = 42; repetition_id = 0\n",
    "\n",
    "\telif config['site'] == 'MS':\n",
    "\n",
    "\t\tif config['mode'] == 'mcd' or config['mode'] == 'single_run':\n",
    "\t\t\tif config['training_date'] == 'current': exp = 40\n",
    "\t\t\telif config['training_date'] == 'earlier': \n",
    "\t\t\t\texp = 37\n",
    "\n",
    "\t\tif config['mode'] == 'evidential2':\n",
    "\t\t\tif config['training_date'] == 'current': exp = 12; repetition_id = 0\n",
    "\t\t\telif config['training_date'] == 'earlier': exp = 39; repetition_id = 0\n",
    "\telif config['site'] == 'PI':\n",
    "\n",
    "\t\tif config['mode'] == 'mcd' or config['mode'] == 'single_run':\n",
    "\t\t\tif config['training_date'] == 'current': \n",
    "\t\t\t\texp = 44\n",
    "\t\t\t\texp = 58\n",
    "\t\t\telif config['training_date'] == 'earlier': exp = 27\n",
    "\t\tif config['mode'] == 'evidential2':\n",
    "\t\t\tif config['training_date'] == 'current': exp = 45; repetition_id = 0\n",
    "\t\t\telif config['training_date'] == 'earlier': exp = 39; repetition_id = 0\n",
    "\n",
    "else:\n",
    "\texp = config['training_experiment_id']\n",
    "ic(dates)\n",
    "\n",
    "\n",
    "if issubclass(type(dataset), MultipleDates):\n",
    "\tpatchesHandler = PatchesHandlerMultipleDates(\n",
    "\t\tdataset)\n",
    "elif config['mode'] == 'evidential2':\n",
    "\tpatchesHandler = PatchesHandlerEvidential2()\n",
    "else:\n",
    "\tpatchesHandler = PatchesHandler()\n",
    "\n"
   ]
  },
  {
   "cell_type": "code",
   "execution_count": 5,
   "id": "1bb339c8",
   "metadata": {},
   "outputs": [],
   "source": [
    "\n",
    "\n",
    "if config['mode'] == 'evidential2':\n",
    "    config[\"inference_times\"] = 1\n",
    "    manager_class = ManagerEvidential2\n",
    "    config['uncertainty_method'] = \"pred_entropy\"\n",
    "    config['classes_mode'] = True\n",
    "    \n",
    "if config['mode'] == 'mcd':\n",
    "    config[\"inference_times\"] = 10\n",
    "    manager_class = ManagerMCDropout\n",
    "    config['uncertainty_method'] = \"pred_entropy\"\n",
    "    config['classes_mode'] = False\n",
    "\n",
    "elif config['mode'] == 'single_run':\n",
    "    config[\"inference_times\"] = 1\n",
    "    manager_class = ManagerSingleRun\n",
    "    config['uncertainty_method'] = \"pred_entropy_single\"\n",
    "    config['classes_mode'] = False\n",
    "\n"
   ]
  },
  {
   "cell_type": "code",
   "execution_count": 6,
   "id": "c7ae3a0c",
   "metadata": {},
   "outputs": [
    {
     "data": {
      "text/plain": [
       "60"
      ]
     },
     "execution_count": 6,
     "metadata": {},
     "output_type": "execute_result"
    }
   ],
   "source": [
    "exp"
   ]
  },
  {
   "cell_type": "code",
   "execution_count": 7,
   "id": "cfa1145d",
   "metadata": {},
   "outputs": [],
   "source": [
    "logger = Logger()\n"
   ]
  },
  {
   "cell_type": "code",
   "execution_count": 8,
   "id": "55da0bd1",
   "metadata": {},
   "outputs": [
    {
     "name": "stdout",
     "output_type": "stream",
     "text": [
      "manager.config['dropout_training'] False\n",
      "D:/Jorge/datasets/deforestation/MT/deforestation_past_years.tif\n",
      "Loaded deforestation past years\n"
     ]
    },
    {
     "name": "stderr",
     "output_type": "stream",
     "text": [
      "ic| np.unique(deforestation_past_years, return_counts=True): (array([   0, 2008, 2009, 2010, 2011, 2012, 2013, 2014, 2015, 2016, 2017,\n",
      "                                                                    2018, 2019, 2020, 2021], dtype=uint16),\n",
      "                                                              array([161124576,   1332784,    240796,    338545,    313901,    287191,\n",
      "                                                                       708581,    648966,    876898,   1007787,   1098901,   1054092,\n",
      "                                                                      2096062,   2473828,   1400992], dtype=int64))\n"
     ]
    },
    {
     "name": "stdout",
     "output_type": "stream",
     "text": [
      "Label where deforestation past years is actual date (2020) = 1\n"
     ]
    },
    {
     "name": "stderr",
     "output_type": "stream",
     "text": [
      "ic| np.unique(deforestation_past_years, return_counts=True): (array([   0, 2008, 2009, 2010, 2011, 2012, 2013, 2014, 2015, 2016, 2017,\n",
      "                                                                    2018, 2019, 2020, 2021], dtype=uint16),\n",
      "                                                              array([161124576,   1332784,    240796,    338545,    313901,    287191,\n",
      "                                                                       708581,    648966,    876898,   1007787,   1098901,   1054092,\n",
      "                                                                      2096062,   2473828,   1400992], dtype=int64))\n"
     ]
    },
    {
     "name": "stdout",
     "output_type": "stream",
     "text": [
      "Past deforestation different from 0 (no deforestation)\n"
     ]
    },
    {
     "name": "stderr",
     "output_type": "stream",
     "text": [
      "ic| np.unique(deforestation_past_years, return_counts=True): (array([   0, 2008, 2009, 2010, 2011, 2012, 2013, 2014, 2015, 2016, 2017,\n",
      "                                                                    2018, 2019, 2020, 2021], dtype=uint16),\n",
      "                                                              array([161124576,   1332784,    240796,    338545,    313901,    287191,\n",
      "                                                                       708581,    648966,    876898,   1007787,   1098901,   1054092,\n",
      "                                                                      2096062,   2473828,   1400992], dtype=int64))\n"
     ]
    },
    {
     "name": "stdout",
     "output_type": "stream",
     "text": [
      "Past deforestation before 2008 is 2\n",
      "D:/Jorge/datasets/deforestation/MT/deforestation_before_2008_MT.tif\n"
     ]
    },
    {
     "name": "stderr",
     "output_type": "stream",
     "text": [
      "ic| np.unique(label_past_deforestation_before_2008, return_counts=True): (array([  0, 215], dtype=uint8), array([122623260,  52380640], dtype=int64))\n",
      "ic| np.unique(deforestation_past_years, return_counts=True): (array([   0, 2008, 2009, 2010, 2011, 2012, 2013, 2014, 2015, 2016, 2017,\n",
      "                                                                    2018, 2019, 2020, 2021], dtype=uint16),\n",
      "                                                              array([161124576,   1332784,    240796,    338545,    313901,    287191,\n",
      "                                                                       708581,    648966,    876898,   1007787,   1098901,   1054092,\n",
      "                                                                      2096062,   2473828,   1400992], dtype=int64))\n",
      "ic| label_per_date.shape: (16795, 10420, 1)\n"
     ]
    },
    {
     "name": "stdout",
     "output_type": "stream",
     "text": [
      "Removing bufer................\n",
      "Mask label shape:  \n",
      " (16795, 10420, 1) \n",
      " Unique values:  \n",
      " [0 1 2]\n",
      "Tiles size:  3359 2084\n",
      "Mask size:  (16795, 10420)\n"
     ]
    },
    {
     "name": "stderr",
     "output_type": "stream",
     "text": [
      "ic| image_stack.shape: (16795, 10420, 21)\n"
     ]
    },
    {
     "name": "stdout",
     "output_type": "stream",
     "text": [
      "Image shape:  (16795, 10420, 21)\n",
      "mask:  (16795, 10420)\n",
      "image stack:  (16795, 10420, 21)\n",
      "ref : (16795, 10420, 1)\n",
      "Training tiles:  [2, 4, 5, 6, 7, 12, 14, 15, 18, 21, 23, 24]\n",
      "Validation tiles:  [9, 11, 25]\n",
      "Test tiles:  [1, 3, 8, 10, 13, 16, 17, 19, 20, 22]\n"
     ]
    },
    {
     "name": "stderr",
     "output_type": "stream",
     "text": [
      "ic| im_idx_row.shape: (16795, 10420, 1)\n",
      "    im_idx_col.shape: (16795, 10420, 1)\n",
      "ic| im_idx_row.dtype: dtype('uint16')\n",
      "    im_idx_col.dtype: dtype('uint16')\n",
      "ic| im_idx.shape: (16795, 10420, 2), im_idx.dtype: dtype('uint16')\n",
      "ic| coords.shape: (439, 271, 1, 128, 128, 2)\n",
      "    coords.dtype: dtype('uint16')\n",
      "ic| coords.shape: (118969, 2), coords.dtype: dtype('uint16')\n",
      "ic| self.coords_train.shape: (54516, 3)\n",
      "    self.coords_val.shape: (13175, 3)\n"
     ]
    },
    {
     "name": "stdout",
     "output_type": "stream",
     "text": [
      "training samples:  (3403, 3) validation samples:  (610, 3)\n",
      "time:  0\n"
     ]
    },
    {
     "name": "stderr",
     "output_type": "stream",
     "text": [
      "c:\\Users\\jchamorro\\Anaconda3\\envs\\tf2\\lib\\site-packages\\tensorflow\\python\\keras\\optimizer_v2\\optimizer_v2.py:374: UserWarning: The `lr` argument is deprecated, use `learning_rate` instead.\n",
      "  warnings.warn(\n"
     ]
    },
    {
     "name": "stdout",
     "output_type": "stream",
     "text": [
      "Model: \"model\"\n",
      "__________________________________________________________________________________________________\n",
      "Layer (type)                    Output Shape         Param #     Connected to                     \n",
      "==================================================================================================\n",
      "input_enc_net (InputLayer)      [(None, 128, 128, 21 0                                            \n",
      "__________________________________________________________________________________________________\n",
      "res1_net1 (Conv2D)              (None, 128, 128, 16) 3040        input_enc_net[0][0]              \n",
      "__________________________________________________________________________________________________\n",
      "drop_net1 (SpatialDropout2D)    (None, 128, 128, 16) 0           res1_net1[0][0]                  \n",
      "__________________________________________________________________________________________________\n",
      "res2_net1 (Conv2D)              (None, 128, 128, 16) 2320        drop_net1[0][0]                  \n",
      "__________________________________________________________________________________________________\n",
      "res3_net1 (Conv2D)              (None, 128, 128, 16) 352         input_enc_net[0][0]              \n",
      "__________________________________________________________________________________________________\n",
      "add (Add)                       (None, 128, 128, 16) 0           res2_net1[0][0]                  \n",
      "                                                                 res3_net1[0][0]                  \n",
      "__________________________________________________________________________________________________\n",
      "pool_net1 (MaxPooling2D)        (None, 64, 64, 16)   0           add[0][0]                        \n",
      "__________________________________________________________________________________________________\n",
      "res1_net2 (Conv2D)              (None, 64, 64, 32)   4640        pool_net1[0][0]                  \n",
      "__________________________________________________________________________________________________\n",
      "drop_net2 (SpatialDropout2D)    (None, 64, 64, 32)   0           res1_net2[0][0]                  \n",
      "__________________________________________________________________________________________________\n",
      "res2_net2 (Conv2D)              (None, 64, 64, 32)   9248        drop_net2[0][0]                  \n",
      "__________________________________________________________________________________________________\n",
      "res3_net2 (Conv2D)              (None, 64, 64, 32)   544         pool_net1[0][0]                  \n",
      "__________________________________________________________________________________________________\n",
      "add_1 (Add)                     (None, 64, 64, 32)   0           res2_net2[0][0]                  \n",
      "                                                                 res3_net2[0][0]                  \n",
      "__________________________________________________________________________________________________\n",
      "pool_net2 (MaxPooling2D)        (None, 32, 32, 32)   0           add_1[0][0]                      \n",
      "__________________________________________________________________________________________________\n",
      "res1_net3 (Conv2D)              (None, 32, 32, 64)   18496       pool_net2[0][0]                  \n",
      "__________________________________________________________________________________________________\n",
      "drop_net3 (SpatialDropout2D)    (None, 32, 32, 64)   0           res1_net3[0][0]                  \n",
      "__________________________________________________________________________________________________\n",
      "res2_net3 (Conv2D)              (None, 32, 32, 64)   36928       drop_net3[0][0]                  \n",
      "__________________________________________________________________________________________________\n",
      "res3_net3 (Conv2D)              (None, 32, 32, 64)   2112        pool_net2[0][0]                  \n",
      "__________________________________________________________________________________________________\n",
      "add_2 (Add)                     (None, 32, 32, 64)   0           res2_net3[0][0]                  \n",
      "                                                                 res3_net3[0][0]                  \n",
      "__________________________________________________________________________________________________\n",
      "pool_net3 (MaxPooling2D)        (None, 16, 16, 64)   0           add_2[0][0]                      \n",
      "__________________________________________________________________________________________________\n",
      "res1_net4 (Conv2D)              (None, 16, 16, 64)   36928       pool_net3[0][0]                  \n",
      "__________________________________________________________________________________________________\n",
      "drop_net4 (SpatialDropout2D)    (None, 16, 16, 64)   0           res1_net4[0][0]                  \n",
      "__________________________________________________________________________________________________\n",
      "res2_net4 (Conv2D)              (None, 16, 16, 64)   36928       drop_net4[0][0]                  \n",
      "__________________________________________________________________________________________________\n",
      "res3_net4 (Conv2D)              (None, 16, 16, 64)   4160        pool_net3[0][0]                  \n",
      "__________________________________________________________________________________________________\n",
      "add_3 (Add)                     (None, 16, 16, 64)   0           res2_net4[0][0]                  \n",
      "                                                                 res3_net4[0][0]                  \n",
      "__________________________________________________________________________________________________\n",
      "res1_net5 (Conv2D)              (None, 16, 16, 64)   36928       add_3[0][0]                      \n",
      "__________________________________________________________________________________________________\n",
      "drop_net5 (SpatialDropout2D)    (None, 16, 16, 64)   0           res1_net5[0][0]                  \n",
      "__________________________________________________________________________________________________\n",
      "res2_net5 (Conv2D)              (None, 16, 16, 64)   36928       drop_net5[0][0]                  \n",
      "__________________________________________________________________________________________________\n",
      "res3_net5 (Conv2D)              (None, 16, 16, 64)   4160        add_3[0][0]                      \n",
      "__________________________________________________________________________________________________\n",
      "add_4 (Add)                     (None, 16, 16, 64)   0           res2_net5[0][0]                  \n",
      "                                                                 res3_net5[0][0]                  \n",
      "__________________________________________________________________________________________________\n",
      "res1_net6 (Conv2D)              (None, 16, 16, 64)   36928       add_4[0][0]                      \n",
      "__________________________________________________________________________________________________\n",
      "drop_net6 (SpatialDropout2D)    (None, 16, 16, 64)   0           res1_net6[0][0]                  \n",
      "__________________________________________________________________________________________________\n",
      "res2_net6 (Conv2D)              (None, 16, 16, 64)   36928       drop_net6[0][0]                  \n",
      "__________________________________________________________________________________________________\n",
      "res3_net6 (Conv2D)              (None, 16, 16, 64)   4160        add_4[0][0]                      \n",
      "__________________________________________________________________________________________________\n",
      "add_5 (Add)                     (None, 16, 16, 64)   0           res2_net6[0][0]                  \n",
      "                                                                 res3_net6[0][0]                  \n",
      "__________________________________________________________________________________________________\n",
      "up_sampling2d (UpSampling2D)    (None, 32, 32, 64)   0           add_5[0][0]                      \n",
      "__________________________________________________________________________________________________\n",
      "upsampling_net3 (Conv2D)        (None, 32, 32, 64)   36928       up_sampling2d[0][0]              \n",
      "__________________________________________________________________________________________________\n",
      "spatial_dropout2d (SpatialDropo (None, 32, 32, 64)   0           upsampling_net3[0][0]            \n",
      "__________________________________________________________________________________________________\n",
      "concatenate3 (Concatenate)      (None, 32, 32, 128)  0           add_2[0][0]                      \n",
      "                                                                 spatial_dropout2d[0][0]          \n",
      "__________________________________________________________________________________________________\n",
      "up_sampling2d_1 (UpSampling2D)  (None, 64, 64, 128)  0           concatenate3[0][0]               \n",
      "__________________________________________________________________________________________________\n",
      "upsampling_net2 (Conv2D)        (None, 64, 64, 32)   36896       up_sampling2d_1[0][0]            \n",
      "__________________________________________________________________________________________________\n",
      "spatial_dropout2d_1 (SpatialDro (None, 64, 64, 32)   0           upsampling_net2[0][0]            \n",
      "__________________________________________________________________________________________________\n",
      "concatenate2 (Concatenate)      (None, 64, 64, 64)   0           add_1[0][0]                      \n",
      "                                                                 spatial_dropout2d_1[0][0]        \n",
      "__________________________________________________________________________________________________\n",
      "up_sampling2d_2 (UpSampling2D)  (None, 128, 128, 64) 0           concatenate2[0][0]               \n",
      "__________________________________________________________________________________________________\n",
      "upsampling_net1 (Conv2D)        (None, 128, 128, 16) 9232        up_sampling2d_2[0][0]            \n",
      "__________________________________________________________________________________________________\n",
      "spatial_dropout2d_2 (SpatialDro (None, 128, 128, 16) 0           upsampling_net1[0][0]            \n",
      "__________________________________________________________________________________________________\n",
      "concatenate1 (Concatenate)      (None, 128, 128, 32) 0           add[0][0]                        \n",
      "                                                                 spatial_dropout2d_2[0][0]        \n",
      "__________________________________________________________________________________________________\n",
      "output (Conv2D)                 (None, 128, 128, 2)  66          concatenate1[0][0]               \n",
      "__________________________________________________________________________________________________\n",
      "dirichlet_layer (DirichletLayer (None, 128, 128, 2)  0           output[0][0]                     \n",
      "==================================================================================================\n",
      "Total params: 394,850\n",
      "Trainable params: 394,850\n",
      "Non-trainable params: 0\n",
      "__________________________________________________________________________________________________\n",
      "Epoch: 1\n",
      "Anneling Coeficient 0\n",
      "K.int_shape(mse) (None, 128, 128, 1)\n",
      "K.int_shape(mask) (None, None, None, 1)\n",
      "K.int_shape(E) (None, 128, 128, 2)\n",
      "K.int_shape(y_truth) (None, None, None, None)\n",
      "K.int_shape(mse) (None, 128, 128, 1)\n",
      "K.int_shape(mask) (None, None, None, 1)\n",
      "K.int_shape(E) (None, 128, 128, 2)\n",
      "K.int_shape(y_truth) (None, None, None, None)\n",
      "319/319 [==============================] - ETA: 0s - loss: 0.1126 - accuracy: 0.6058K.int_shape(mse) (None, 128, 128, 1)\n",
      "K.int_shape(mask) (None, None, None, 1)\n",
      "K.int_shape(E) (None, 128, 128, 2)\n",
      "K.int_shape(y_truth) (None, None, None, None)\n",
      "319/319 [==============================] - 37s 97ms/step - loss: 0.1126 - accuracy: 0.6058 - val_loss: 0.0340 - val_accuracy: 0.7394\n",
      "\n",
      "Epoch 00001: val_loss improved from inf to 0.03399, saving model to D:/Jorge/datasets/deforestation/experiments/MT/exp60/models\\resunet_0.h5\n",
      "New best val loss. Val loss: 0.03399. Early stop count: 0\n",
      "Epoch: 2\n",
      "Anneling Coeficient [0.1]\n",
      "  1/319 [..............................] - ETA: 12s - loss: 0.0428 - accuracy: 0.5902"
     ]
    },
    {
     "name": "stderr",
     "output_type": "stream",
     "text": [
      "c:\\Users\\jchamorro\\Anaconda3\\envs\\tf2\\lib\\site-packages\\tensorflow\\python\\keras\\utils\\generic_utils.py:494: CustomMaskWarning: Custom mask layers require a config and must override get_config. When loading, the custom mask layer must be passed to the custom_objects argument.\n",
      "  warnings.warn('Custom mask layers require a config and must override '\n"
     ]
    },
    {
     "name": "stdout",
     "output_type": "stream",
     "text": [
      "319/319 [==============================] - 28s 89ms/step - loss: 0.0724 - accuracy: 0.6384 - val_loss: 0.0234 - val_accuracy: 0.7310\n",
      "\n",
      "Epoch 00001: val_loss improved from 0.03399 to 0.02338, saving model to D:/Jorge/datasets/deforestation/experiments/MT/exp60/models\\resunet_0.h5\n",
      "New best val loss. Val loss: 0.02338. Early stop count: 0\n",
      "Epoch: 3\n",
      "Anneling Coeficient [0.2]\n",
      "319/319 [==============================] - 30s 94ms/step - loss: 0.0654 - accuracy: 0.6441 - val_loss: 0.0231 - val_accuracy: 0.7339\n",
      "\n",
      "Epoch 00001: val_loss improved from 0.02338 to 0.02314, saving model to D:/Jorge/datasets/deforestation/experiments/MT/exp60/models\\resunet_0.h5\n",
      "New best val loss. Val loss: 0.02314. Early stop count: 0\n",
      "Epoch: 4\n",
      "Anneling Coeficient [0.3]\n",
      "319/319 [==============================] - 28s 89ms/step - loss: 0.0617 - accuracy: 0.6478 - val_loss: 0.0199 - val_accuracy: 0.7310\n",
      "\n",
      "Epoch 00001: val_loss improved from 0.02314 to 0.01985, saving model to D:/Jorge/datasets/deforestation/experiments/MT/exp60/models\\resunet_0.h5\n",
      "New best val loss. Val loss: 0.01985. Early stop count: 0\n",
      "Epoch: 5\n",
      "Anneling Coeficient [0.4]\n",
      "319/319 [==============================] - 29s 90ms/step - loss: 0.0597 - accuracy: 0.6484 - val_loss: 0.0182 - val_accuracy: 0.7500\n",
      "\n",
      "Epoch 00001: val_loss improved from 0.01985 to 0.01818, saving model to D:/Jorge/datasets/deforestation/experiments/MT/exp60/models\\resunet_0.h5\n",
      "New best val loss. Val loss: 0.01818. Early stop count: 0\n",
      "Epoch: 6\n",
      "Anneling Coeficient [0.5]\n",
      "319/319 [==============================] - 28s 86ms/step - loss: 0.0573 - accuracy: 0.6517 - val_loss: 0.0178 - val_accuracy: 0.7386\n",
      "\n",
      "Epoch 00001: val_loss improved from 0.01818 to 0.01776, saving model to D:/Jorge/datasets/deforestation/experiments/MT/exp60/models\\resunet_0.h5\n",
      "New best val loss. Val loss: 0.01776. Early stop count: 0\n",
      "Epoch: 7\n",
      "Anneling Coeficient [0.6]\n",
      "319/319 [==============================] - 28s 86ms/step - loss: 0.0563 - accuracy: 0.6524 - val_loss: 0.0175 - val_accuracy: 0.7342\n",
      "\n",
      "Epoch 00001: val_loss improved from 0.01776 to 0.01754, saving model to D:/Jorge/datasets/deforestation/experiments/MT/exp60/models\\resunet_0.h5\n",
      "New best val loss. Val loss: 0.01754. Early stop count: 0\n",
      "Epoch: 8\n",
      "Anneling Coeficient [0.7]\n",
      "319/319 [==============================] - 29s 90ms/step - loss: 0.0543 - accuracy: 0.6546 - val_loss: 0.0147 - val_accuracy: 0.7486\n",
      "\n",
      "Epoch 00001: val_loss improved from 0.01754 to 0.01474, saving model to D:/Jorge/datasets/deforestation/experiments/MT/exp60/models\\resunet_0.h5\n",
      "New best val loss. Val loss: 0.01474. Early stop count: 0\n",
      "Epoch: 9\n",
      "Anneling Coeficient [0.8]\n",
      "319/319 [==============================] - 28s 86ms/step - loss: 0.0531 - accuracy: 0.6548 - val_loss: 0.0151 - val_accuracy: 0.7554\n",
      "\n",
      "Epoch 00001: val_loss did not improve from 0.01474\n",
      "Early stop count: 1\n",
      "Epoch: 10\n",
      "Anneling Coeficient [0.9]\n",
      "319/319 [==============================] - 28s 88ms/step - loss: 0.0521 - accuracy: 0.6551 - val_loss: 0.0155 - val_accuracy: 0.7513\n",
      "\n",
      "Epoch 00001: val_loss did not improve from 0.01474\n",
      "Early stop count: 2\n",
      "Epoch: 11\n",
      "Anneling Coeficient [1.]\n",
      "319/319 [==============================] - 27s 86ms/step - loss: 0.0498 - accuracy: 0.6593 - val_loss: 0.0149 - val_accuracy: 0.7443\n",
      "\n",
      "Epoch 00001: val_loss did not improve from 0.01474\n",
      "Early stop count: 3\n",
      "Epoch: 12\n",
      "Anneling Coeficient [1.]\n",
      "319/319 [==============================] - 27s 86ms/step - loss: 0.0488 - accuracy: 0.6589 - val_loss: 0.0168 - val_accuracy: 0.7326\n",
      "\n",
      "Epoch 00001: val_loss did not improve from 0.01474\n",
      "Early stop count: 4\n",
      "Epoch: 13\n",
      "Anneling Coeficient [1.]\n",
      "319/319 [==============================] - 28s 87ms/step - loss: 0.0477 - accuracy: 0.6603 - val_loss: 0.0168 - val_accuracy: 0.7371\n",
      "\n",
      "Epoch 00001: val_loss did not improve from 0.01474\n",
      "Early stop count: 5\n",
      "Epoch: 14\n",
      "Anneling Coeficient [1.]\n",
      "319/319 [==============================] - 27s 86ms/step - loss: 0.0461 - accuracy: 0.6606 - val_loss: 0.0154 - val_accuracy: 0.7325\n",
      "\n",
      "Epoch 00001: val_loss did not improve from 0.01474\n",
      "Early stop count: 6\n",
      "Epoch: 15\n",
      "Anneling Coeficient [1.]\n",
      "319/319 [==============================] - 29s 91ms/step - loss: 0.0442 - accuracy: 0.6643 - val_loss: 0.0145 - val_accuracy: 0.7510\n",
      "\n",
      "Epoch 00001: val_loss improved from 0.01474 to 0.01454, saving model to D:/Jorge/datasets/deforestation/experiments/MT/exp60/models\\resunet_0.h5\n",
      "New best val loss. Val loss: 0.01454. Early stop count: 0\n",
      "Epoch: 16\n",
      "Anneling Coeficient [1.]\n",
      "319/319 [==============================] - 27s 85ms/step - loss: 0.0437 - accuracy: 0.6634 - val_loss: 0.0150 - val_accuracy: 0.7392\n",
      "\n",
      "Epoch 00001: val_loss did not improve from 0.01454\n",
      "Early stop count: 1\n",
      "Epoch: 17\n",
      "Anneling Coeficient [1.]\n",
      "319/319 [==============================] - 27s 86ms/step - loss: 0.0428 - accuracy: 0.6659 - val_loss: 0.0150 - val_accuracy: 0.7339\n",
      "\n",
      "Epoch 00001: val_loss did not improve from 0.01454\n",
      "Early stop count: 2\n",
      "Epoch: 18\n",
      "Anneling Coeficient [1.]\n",
      "319/319 [==============================] - 27s 86ms/step - loss: 0.0412 - accuracy: 0.6674 - val_loss: 0.0136 - val_accuracy: 0.7480\n",
      "\n",
      "Epoch 00001: val_loss improved from 0.01454 to 0.01365, saving model to D:/Jorge/datasets/deforestation/experiments/MT/exp60/models\\resunet_0.h5\n",
      "New best val loss. Val loss: 0.01365. Early stop count: 0\n",
      "Epoch: 19\n",
      "Anneling Coeficient [1.]\n",
      "319/319 [==============================] - 27s 84ms/step - loss: 0.0398 - accuracy: 0.6673 - val_loss: 0.0140 - val_accuracy: 0.7552\n",
      "\n",
      "Epoch 00001: val_loss did not improve from 0.01365\n",
      "Early stop count: 1\n",
      "Epoch: 20\n",
      "Anneling Coeficient [1.]\n",
      "319/319 [==============================] - 28s 87ms/step - loss: 0.0391 - accuracy: 0.6686 - val_loss: 0.0136 - val_accuracy: 0.7517\n",
      "\n",
      "Epoch 00001: val_loss improved from 0.01365 to 0.01356, saving model to D:/Jorge/datasets/deforestation/experiments/MT/exp60/models\\resunet_0.h5\n",
      "New best val loss. Val loss: 0.01356. Early stop count: 0\n",
      "Epoch: 21\n",
      "Anneling Coeficient [1.]\n",
      "319/319 [==============================] - 27s 84ms/step - loss: 0.0380 - accuracy: 0.6693 - val_loss: 0.0146 - val_accuracy: 0.7424\n",
      "\n",
      "Epoch 00001: val_loss did not improve from 0.01356\n",
      "Early stop count: 1\n",
      "Epoch: 22\n",
      "Anneling Coeficient [1.]\n",
      "319/319 [==============================] - 27s 86ms/step - loss: 0.0368 - accuracy: 0.6714 - val_loss: 0.0154 - val_accuracy: 0.7314\n",
      "\n",
      "Epoch 00001: val_loss did not improve from 0.01356\n",
      "Early stop count: 2\n",
      "Epoch: 23\n",
      "Anneling Coeficient [1.]\n",
      "319/319 [==============================] - 27s 86ms/step - loss: 0.0372 - accuracy: 0.6707 - val_loss: 0.0141 - val_accuracy: 0.7366\n",
      "\n",
      "Epoch 00001: val_loss did not improve from 0.01356\n",
      "Early stop count: 3\n",
      "Epoch: 24\n",
      "Anneling Coeficient [1.]\n",
      "319/319 [==============================] - 28s 87ms/step - loss: 0.0351 - accuracy: 0.6747 - val_loss: 0.0139 - val_accuracy: 0.7321\n",
      "\n",
      "Epoch 00001: val_loss did not improve from 0.01356\n",
      "Early stop count: 4\n",
      "Epoch: 25\n",
      "Anneling Coeficient [1.]\n",
      "319/319 [==============================] - 28s 88ms/step - loss: 0.0347 - accuracy: 0.6725 - val_loss: 0.0129 - val_accuracy: 0.7513\n",
      "\n",
      "Epoch 00001: val_loss improved from 0.01356 to 0.01290, saving model to D:/Jorge/datasets/deforestation/experiments/MT/exp60/models\\resunet_0.h5\n",
      "New best val loss. Val loss: 0.0129. Early stop count: 0\n",
      "Epoch: 26\n",
      "Anneling Coeficient [1.]\n",
      "319/319 [==============================] - 27s 85ms/step - loss: 0.0344 - accuracy: 0.6745 - val_loss: 0.0142 - val_accuracy: 0.7379\n",
      "\n",
      "Epoch 00001: val_loss did not improve from 0.01290\n",
      "Early stop count: 1\n",
      "Epoch: 27\n",
      "Anneling Coeficient [1.]\n",
      "319/319 [==============================] - 28s 87ms/step - loss: 0.0334 - accuracy: 0.6748 - val_loss: 0.0136 - val_accuracy: 0.7339\n",
      "\n",
      "Epoch 00001: val_loss did not improve from 0.01290\n",
      "Early stop count: 2\n",
      "Epoch: 28\n",
      "Anneling Coeficient [1.]\n",
      "319/319 [==============================] - 28s 87ms/step - loss: 0.0326 - accuracy: 0.6769 - val_loss: 0.0122 - val_accuracy: 0.7483\n",
      "\n",
      "Epoch 00001: val_loss improved from 0.01290 to 0.01221, saving model to D:/Jorge/datasets/deforestation/experiments/MT/exp60/models\\resunet_0.h5\n",
      "New best val loss. Val loss: 0.01221. Early stop count: 0\n",
      "Epoch: 29\n",
      "Anneling Coeficient [1.]\n",
      "319/319 [==============================] - 28s 87ms/step - loss: 0.0318 - accuracy: 0.6770 - val_loss: 0.0123 - val_accuracy: 0.7556\n",
      "\n",
      "Epoch 00001: val_loss did not improve from 0.01221\n",
      "Early stop count: 1\n",
      "Epoch: 30\n",
      "Anneling Coeficient [1.]\n",
      "319/319 [==============================] - 30s 93ms/step - loss: 0.0319 - accuracy: 0.6746 - val_loss: 0.0138 - val_accuracy: 0.7506\n",
      "\n",
      "Epoch 00001: val_loss did not improve from 0.01221\n",
      "Early stop count: 2\n",
      "Epoch: 31\n",
      "Anneling Coeficient [1.]\n",
      "319/319 [==============================] - 29s 91ms/step - loss: 0.0306 - accuracy: 0.6797 - val_loss: 0.0138 - val_accuracy: 0.7433\n",
      "\n",
      "Epoch 00001: val_loss did not improve from 0.01221\n",
      "Early stop count: 3\n",
      "Epoch: 32\n",
      "Anneling Coeficient [1.]\n",
      "319/319 [==============================] - 28s 87ms/step - loss: 0.0300 - accuracy: 0.6783 - val_loss: 0.0137 - val_accuracy: 0.7328\n",
      "\n",
      "Epoch 00001: val_loss did not improve from 0.01221\n",
      "Early stop count: 4\n",
      "Epoch: 33\n",
      "Anneling Coeficient [1.]\n",
      "319/319 [==============================] - 28s 86ms/step - loss: 0.0298 - accuracy: 0.6794 - val_loss: 0.0141 - val_accuracy: 0.7355\n",
      "\n",
      "Epoch 00001: val_loss did not improve from 0.01221\n",
      "Early stop count: 5\n",
      "Epoch: 34\n",
      "Anneling Coeficient [1.]\n",
      "319/319 [==============================] - 28s 87ms/step - loss: 0.0292 - accuracy: 0.6820 - val_loss: 0.0139 - val_accuracy: 0.7315\n",
      "\n",
      "Epoch 00001: val_loss did not improve from 0.01221\n",
      "Early stop count: 6\n",
      "Epoch: 35\n",
      "Anneling Coeficient [1.]\n",
      "319/319 [==============================] - 28s 88ms/step - loss: 0.0279 - accuracy: 0.6791 - val_loss: 0.0131 - val_accuracy: 0.7508\n",
      "\n",
      "Epoch 00001: val_loss did not improve from 0.01221\n",
      "Early stop count: 7\n",
      "Epoch: 36\n",
      "Anneling Coeficient [1.]\n",
      "319/319 [==============================] - 27s 85ms/step - loss: 0.0278 - accuracy: 0.6816 - val_loss: 0.0136 - val_accuracy: 0.7377\n",
      "\n",
      "Epoch 00001: val_loss did not improve from 0.01221\n",
      "Early stop count: 8\n",
      "Epoch: 37\n",
      "Anneling Coeficient [1.]\n",
      "319/319 [==============================] - 28s 87ms/step - loss: 0.0280 - accuracy: 0.6825 - val_loss: 0.0139 - val_accuracy: 0.7330\n",
      "\n",
      "Epoch 00001: val_loss did not improve from 0.01221\n",
      "Early stop count: 9\n",
      "Epoch: 38\n",
      "Anneling Coeficient [1.]\n",
      "319/319 [==============================] - 28s 87ms/step - loss: 0.0274 - accuracy: 0.6799 - val_loss: 0.0116 - val_accuracy: 0.7484\n",
      "\n",
      "Epoch 00001: val_loss improved from 0.01221 to 0.01157, saving model to D:/Jorge/datasets/deforestation/experiments/MT/exp60/models\\resunet_0.h5\n",
      "New best val loss. Val loss: 0.01157. Early stop count: 0\n",
      "Epoch: 39\n",
      "Anneling Coeficient [1.]\n",
      "319/319 [==============================] - 28s 86ms/step - loss: 0.0262 - accuracy: 0.6830 - val_loss: 0.0118 - val_accuracy: 0.7559\n",
      "\n",
      "Epoch 00001: val_loss did not improve from 0.01157\n",
      "Early stop count: 1\n",
      "Epoch: 40\n",
      "Anneling Coeficient [1.]\n",
      "319/319 [==============================] - 28s 88ms/step - loss: 0.0257 - accuracy: 0.6856 - val_loss: 0.0125 - val_accuracy: 0.7512\n",
      "\n",
      "Epoch 00001: val_loss did not improve from 0.01157\n",
      "Early stop count: 2\n",
      "Epoch: 41\n",
      "Anneling Coeficient [1.]\n",
      "319/319 [==============================] - 27s 85ms/step - loss: 0.0258 - accuracy: 0.6830 - val_loss: 0.0129 - val_accuracy: 0.7434\n",
      "\n",
      "Epoch 00001: val_loss did not improve from 0.01157\n",
      "Early stop count: 3\n",
      "Epoch: 42\n",
      "Anneling Coeficient [1.]\n",
      "319/319 [==============================] - 28s 87ms/step - loss: 0.0252 - accuracy: 0.6830 - val_loss: 0.0130 - val_accuracy: 0.7324\n",
      "\n",
      "Epoch 00001: val_loss did not improve from 0.01157\n",
      "Early stop count: 4\n",
      "Epoch: 43\n",
      "Anneling Coeficient [1.]\n",
      "319/319 [==============================] - 27s 86ms/step - loss: 0.0246 - accuracy: 0.6859 - val_loss: 0.0135 - val_accuracy: 0.7358\n",
      "\n",
      "Epoch 00001: val_loss did not improve from 0.01157\n",
      "Early stop count: 5\n",
      "Epoch: 44\n",
      "Anneling Coeficient [1.]\n",
      "319/319 [==============================] - 28s 87ms/step - loss: 0.0240 - accuracy: 0.6849 - val_loss: 0.0127 - val_accuracy: 0.7323\n",
      "\n",
      "Epoch 00001: val_loss did not improve from 0.01157\n",
      "Early stop count: 6\n",
      "Epoch: 45\n",
      "Anneling Coeficient [1.]\n",
      "319/319 [==============================] - 28s 89ms/step - loss: 0.0237 - accuracy: 0.6859 - val_loss: 0.0133 - val_accuracy: 0.7498\n",
      "\n",
      "Epoch 00001: val_loss did not improve from 0.01157\n",
      "Early stop count: 7\n",
      "Epoch: 46\n",
      "Anneling Coeficient [1.]\n",
      "319/319 [==============================] - 27s 86ms/step - loss: 0.0238 - accuracy: 0.6857 - val_loss: 0.0126 - val_accuracy: 0.7388\n",
      "\n",
      "Epoch 00001: val_loss did not improve from 0.01157\n",
      "Early stop count: 8\n",
      "Epoch: 47\n",
      "Anneling Coeficient [1.]\n",
      "319/319 [==============================] - 28s 86ms/step - loss: 0.0233 - accuracy: 0.6870 - val_loss: 0.0136 - val_accuracy: 0.7326\n",
      "\n",
      "Epoch 00001: val_loss did not improve from 0.01157\n",
      "Early stop count: 9\n",
      "Epoch: 48\n",
      "Anneling Coeficient [1.]\n",
      "319/319 [==============================] - 28s 86ms/step - loss: 0.0229 - accuracy: 0.6852 - val_loss: 0.0113 - val_accuracy: 0.7485\n",
      "\n",
      "Epoch 00001: val_loss improved from 0.01157 to 0.01126, saving model to D:/Jorge/datasets/deforestation/experiments/MT/exp60/models\\resunet_0.h5\n",
      "New best val loss. Val loss: 0.01126. Early stop count: 0\n",
      "Epoch: 49\n",
      "Anneling Coeficient [1.]\n",
      "319/319 [==============================] - 28s 86ms/step - loss: 0.0221 - accuracy: 0.6898 - val_loss: 0.0117 - val_accuracy: 0.7556\n",
      "\n",
      "Epoch 00001: val_loss did not improve from 0.01126\n",
      "Early stop count: 1\n",
      "Epoch: 50\n",
      "Anneling Coeficient [1.]\n",
      "319/319 [==============================] - 28s 88ms/step - loss: 0.0225 - accuracy: 0.6857 - val_loss: 0.0118 - val_accuracy: 0.7518\n",
      "\n",
      "Epoch 00001: val_loss did not improve from 0.01126\n",
      "Early stop count: 2\n",
      "Epoch: 51\n",
      "Anneling Coeficient [1.]\n",
      "319/319 [==============================] - 27s 85ms/step - loss: 0.0217 - accuracy: 0.6883 - val_loss: 0.0120 - val_accuracy: 0.7440\n",
      "\n",
      "Epoch 00001: val_loss did not improve from 0.01126\n",
      "Early stop count: 3\n",
      "Epoch: 52\n",
      "Anneling Coeficient [1.]\n",
      "319/319 [==============================] - 28s 87ms/step - loss: 0.0224 - accuracy: 0.6852 - val_loss: 0.0121 - val_accuracy: 0.7333\n",
      "\n",
      "Epoch 00001: val_loss did not improve from 0.01126\n",
      "Early stop count: 4\n",
      "Epoch: 53\n",
      "Anneling Coeficient [1.]\n",
      "319/319 [==============================] - 27s 86ms/step - loss: 0.0212 - accuracy: 0.6870 - val_loss: 0.0121 - val_accuracy: 0.7371\n",
      "\n",
      "Epoch 00001: val_loss did not improve from 0.01126\n",
      "Early stop count: 5\n",
      "Epoch: 54\n",
      "Anneling Coeficient [1.]\n",
      "319/319 [==============================] - 28s 87ms/step - loss: 0.0217 - accuracy: 0.6908 - val_loss: 0.0159 - val_accuracy: 0.7286\n",
      "\n",
      "Epoch 00001: val_loss did not improve from 0.01126\n",
      "Early stop count: 6\n",
      "Epoch: 55\n",
      "Anneling Coeficient [1.]\n",
      "319/319 [==============================] - 28s 88ms/step - loss: 0.0202 - accuracy: 0.6897 - val_loss: 0.0136 - val_accuracy: 0.7497\n",
      "\n",
      "Epoch 00001: val_loss did not improve from 0.01126\n",
      "Early stop count: 7\n",
      "Epoch: 56\n",
      "Anneling Coeficient [1.]\n",
      "319/319 [==============================] - 27s 85ms/step - loss: 0.0206 - accuracy: 0.6886 - val_loss: 0.0123 - val_accuracy: 0.7386\n",
      "\n",
      "Epoch 00001: val_loss did not improve from 0.01126\n",
      "Early stop count: 8\n",
      "Epoch: 57\n",
      "Anneling Coeficient [1.]\n",
      "319/319 [==============================] - 28s 87ms/step - loss: 0.0202 - accuracy: 0.6890 - val_loss: 0.0129 - val_accuracy: 0.7337\n",
      "\n",
      "Epoch 00001: val_loss did not improve from 0.01126\n",
      "Early stop count: 9\n",
      "Epoch: 58\n",
      "Anneling Coeficient [1.]\n",
      "319/319 [==============================] - 27s 86ms/step - loss: 0.0202 - accuracy: 0.6910 - val_loss: 0.0116 - val_accuracy: 0.7482\n",
      "\n",
      "Epoch 00001: val_loss did not improve from 0.01126\n",
      "Early stop count: 10\n",
      "Early stopping\n",
      "10 10\n",
      "Finished Training\n",
      "Training time:  1627.1464126110077\n",
      "time:  1\n",
      "Model: \"model_1\"\n",
      "__________________________________________________________________________________________________\n",
      "Layer (type)                    Output Shape         Param #     Connected to                     \n",
      "==================================================================================================\n",
      "input_enc_net (InputLayer)      [(None, 128, 128, 21 0                                            \n",
      "__________________________________________________________________________________________________\n",
      "res1_net1 (Conv2D)              (None, 128, 128, 16) 3040        input_enc_net[0][0]              \n",
      "__________________________________________________________________________________________________\n",
      "drop_net1 (SpatialDropout2D)    (None, 128, 128, 16) 0           res1_net1[0][0]                  \n",
      "__________________________________________________________________________________________________\n",
      "res2_net1 (Conv2D)              (None, 128, 128, 16) 2320        drop_net1[0][0]                  \n",
      "__________________________________________________________________________________________________\n",
      "res3_net1 (Conv2D)              (None, 128, 128, 16) 352         input_enc_net[0][0]              \n",
      "__________________________________________________________________________________________________\n",
      "add_6 (Add)                     (None, 128, 128, 16) 0           res2_net1[0][0]                  \n",
      "                                                                 res3_net1[0][0]                  \n",
      "__________________________________________________________________________________________________\n",
      "pool_net1 (MaxPooling2D)        (None, 64, 64, 16)   0           add_6[0][0]                      \n",
      "__________________________________________________________________________________________________\n",
      "res1_net2 (Conv2D)              (None, 64, 64, 32)   4640        pool_net1[0][0]                  \n",
      "__________________________________________________________________________________________________\n",
      "drop_net2 (SpatialDropout2D)    (None, 64, 64, 32)   0           res1_net2[0][0]                  \n",
      "__________________________________________________________________________________________________\n",
      "res2_net2 (Conv2D)              (None, 64, 64, 32)   9248        drop_net2[0][0]                  \n",
      "__________________________________________________________________________________________________\n",
      "res3_net2 (Conv2D)              (None, 64, 64, 32)   544         pool_net1[0][0]                  \n",
      "__________________________________________________________________________________________________\n",
      "add_7 (Add)                     (None, 64, 64, 32)   0           res2_net2[0][0]                  \n",
      "                                                                 res3_net2[0][0]                  \n",
      "__________________________________________________________________________________________________\n",
      "pool_net2 (MaxPooling2D)        (None, 32, 32, 32)   0           add_7[0][0]                      \n",
      "__________________________________________________________________________________________________\n",
      "res1_net3 (Conv2D)              (None, 32, 32, 64)   18496       pool_net2[0][0]                  \n",
      "__________________________________________________________________________________________________\n",
      "drop_net3 (SpatialDropout2D)    (None, 32, 32, 64)   0           res1_net3[0][0]                  \n",
      "__________________________________________________________________________________________________\n",
      "res2_net3 (Conv2D)              (None, 32, 32, 64)   36928       drop_net3[0][0]                  \n",
      "__________________________________________________________________________________________________\n",
      "res3_net3 (Conv2D)              (None, 32, 32, 64)   2112        pool_net2[0][0]                  \n",
      "__________________________________________________________________________________________________\n",
      "add_8 (Add)                     (None, 32, 32, 64)   0           res2_net3[0][0]                  \n",
      "                                                                 res3_net3[0][0]                  \n",
      "__________________________________________________________________________________________________\n",
      "pool_net3 (MaxPooling2D)        (None, 16, 16, 64)   0           add_8[0][0]                      \n",
      "__________________________________________________________________________________________________\n",
      "res1_net4 (Conv2D)              (None, 16, 16, 64)   36928       pool_net3[0][0]                  \n",
      "__________________________________________________________________________________________________\n",
      "drop_net4 (SpatialDropout2D)    (None, 16, 16, 64)   0           res1_net4[0][0]                  \n",
      "__________________________________________________________________________________________________\n",
      "res2_net4 (Conv2D)              (None, 16, 16, 64)   36928       drop_net4[0][0]                  \n",
      "__________________________________________________________________________________________________\n",
      "res3_net4 (Conv2D)              (None, 16, 16, 64)   4160        pool_net3[0][0]                  \n",
      "__________________________________________________________________________________________________\n",
      "add_9 (Add)                     (None, 16, 16, 64)   0           res2_net4[0][0]                  \n",
      "                                                                 res3_net4[0][0]                  \n",
      "__________________________________________________________________________________________________\n",
      "res1_net5 (Conv2D)              (None, 16, 16, 64)   36928       add_9[0][0]                      \n",
      "__________________________________________________________________________________________________\n",
      "drop_net5 (SpatialDropout2D)    (None, 16, 16, 64)   0           res1_net5[0][0]                  \n",
      "__________________________________________________________________________________________________\n",
      "res2_net5 (Conv2D)              (None, 16, 16, 64)   36928       drop_net5[0][0]                  \n",
      "__________________________________________________________________________________________________\n",
      "res3_net5 (Conv2D)              (None, 16, 16, 64)   4160        add_9[0][0]                      \n",
      "__________________________________________________________________________________________________\n",
      "add_10 (Add)                    (None, 16, 16, 64)   0           res2_net5[0][0]                  \n",
      "                                                                 res3_net5[0][0]                  \n",
      "__________________________________________________________________________________________________\n",
      "res1_net6 (Conv2D)              (None, 16, 16, 64)   36928       add_10[0][0]                     \n",
      "__________________________________________________________________________________________________\n",
      "drop_net6 (SpatialDropout2D)    (None, 16, 16, 64)   0           res1_net6[0][0]                  \n",
      "__________________________________________________________________________________________________\n",
      "res2_net6 (Conv2D)              (None, 16, 16, 64)   36928       drop_net6[0][0]                  \n",
      "__________________________________________________________________________________________________\n",
      "res3_net6 (Conv2D)              (None, 16, 16, 64)   4160        add_10[0][0]                     \n",
      "__________________________________________________________________________________________________\n",
      "add_11 (Add)                    (None, 16, 16, 64)   0           res2_net6[0][0]                  \n",
      "                                                                 res3_net6[0][0]                  \n",
      "__________________________________________________________________________________________________\n",
      "up_sampling2d_3 (UpSampling2D)  (None, 32, 32, 64)   0           add_11[0][0]                     \n",
      "__________________________________________________________________________________________________\n",
      "upsampling_net3 (Conv2D)        (None, 32, 32, 64)   36928       up_sampling2d_3[0][0]            \n",
      "__________________________________________________________________________________________________\n",
      "spatial_dropout2d_3 (SpatialDro (None, 32, 32, 64)   0           upsampling_net3[0][0]            \n",
      "__________________________________________________________________________________________________\n",
      "concatenate3 (Concatenate)      (None, 32, 32, 128)  0           add_8[0][0]                      \n",
      "                                                                 spatial_dropout2d_3[0][0]        \n",
      "__________________________________________________________________________________________________\n",
      "up_sampling2d_4 (UpSampling2D)  (None, 64, 64, 128)  0           concatenate3[0][0]               \n",
      "__________________________________________________________________________________________________\n",
      "upsampling_net2 (Conv2D)        (None, 64, 64, 32)   36896       up_sampling2d_4[0][0]            \n",
      "__________________________________________________________________________________________________\n",
      "spatial_dropout2d_4 (SpatialDro (None, 64, 64, 32)   0           upsampling_net2[0][0]            \n",
      "__________________________________________________________________________________________________\n",
      "concatenate2 (Concatenate)      (None, 64, 64, 64)   0           add_7[0][0]                      \n",
      "                                                                 spatial_dropout2d_4[0][0]        \n",
      "__________________________________________________________________________________________________\n",
      "up_sampling2d_5 (UpSampling2D)  (None, 128, 128, 64) 0           concatenate2[0][0]               \n",
      "__________________________________________________________________________________________________\n",
      "upsampling_net1 (Conv2D)        (None, 128, 128, 16) 9232        up_sampling2d_5[0][0]            \n",
      "__________________________________________________________________________________________________\n",
      "spatial_dropout2d_5 (SpatialDro (None, 128, 128, 16) 0           upsampling_net1[0][0]            \n",
      "__________________________________________________________________________________________________\n",
      "concatenate1 (Concatenate)      (None, 128, 128, 32) 0           add_6[0][0]                      \n",
      "                                                                 spatial_dropout2d_5[0][0]        \n",
      "__________________________________________________________________________________________________\n",
      "output (Conv2D)                 (None, 128, 128, 2)  66          concatenate1[0][0]               \n",
      "__________________________________________________________________________________________________\n",
      "dirichlet_layer_1 (DirichletLay (None, 128, 128, 2)  0           output[0][0]                     \n",
      "==================================================================================================\n",
      "Total params: 394,850\n",
      "Trainable params: 394,850\n",
      "Non-trainable params: 0\n",
      "__________________________________________________________________________________________________\n",
      "Epoch: 1\n",
      "Anneling Coeficient [1.]\n",
      "K.int_shape(mse) (None, 128, 128, 1)\n",
      "K.int_shape(mask) (None, None, None, 1)\n",
      "K.int_shape(E) (None, 128, 128, 2)\n",
      "K.int_shape(y_truth) (None, None, None, None)\n",
      "K.int_shape(mse) (None, 128, 128, 1)\n",
      "K.int_shape(mask) (None, None, None, 1)\n",
      "K.int_shape(E) (None, 128, 128, 2)\n",
      "K.int_shape(y_truth) (None, None, None, None)\n",
      "319/319 [==============================] - ETA: 0s - loss: 0.1212 - accuracy: 0.5626K.int_shape(mse) (None, 128, 128, 1)\n",
      "K.int_shape(mask) (None, None, None, 1)\n",
      "K.int_shape(E) (None, 128, 128, 2)\n",
      "K.int_shape(y_truth) (None, None, None, None)\n",
      "319/319 [==============================] - 29s 87ms/step - loss: 0.1212 - accuracy: 0.5626 - val_loss: 0.0490 - val_accuracy: 0.7429\n",
      "\n",
      "Epoch 00001: val_loss improved from inf to 0.04896, saving model to D:/Jorge/datasets/deforestation/experiments/MT/exp60/models\\resunet_1.h5\n",
      "New best val loss. Val loss: 0.04896. Early stop count: 0\n",
      "Epoch: 2\n",
      "Anneling Coeficient [0.1]\n",
      "319/319 [==============================] - 27s 86ms/step - loss: 0.0760 - accuracy: 0.6334 - val_loss: 0.0263 - val_accuracy: 0.7497\n",
      "\n",
      "Epoch 00001: val_loss improved from 0.04896 to 0.02629, saving model to D:/Jorge/datasets/deforestation/experiments/MT/exp60/models\\resunet_1.h5\n",
      "New best val loss. Val loss: 0.02629. Early stop count: 0\n",
      "Epoch: 3\n",
      "Anneling Coeficient [0.2]\n",
      "319/319 [==============================] - 28s 86ms/step - loss: 0.0681 - accuracy: 0.6432 - val_loss: 0.0219 - val_accuracy: 0.7428\n",
      "\n",
      "Epoch 00001: val_loss improved from 0.02629 to 0.02194, saving model to D:/Jorge/datasets/deforestation/experiments/MT/exp60/models\\resunet_1.h5\n",
      "New best val loss. Val loss: 0.02194. Early stop count: 0\n",
      "Epoch: 4\n",
      "Anneling Coeficient [0.3]\n",
      "319/319 [==============================] - 28s 88ms/step - loss: 0.0641 - accuracy: 0.6435 - val_loss: 0.0187 - val_accuracy: 0.7338\n",
      "\n",
      "Epoch 00001: val_loss improved from 0.02194 to 0.01872, saving model to D:/Jorge/datasets/deforestation/experiments/MT/exp60/models\\resunet_1.h5\n",
      "New best val loss. Val loss: 0.01872. Early stop count: 0\n",
      "Epoch: 5\n",
      "Anneling Coeficient [0.4]\n",
      "319/319 [==============================] - 27s 85ms/step - loss: 0.0620 - accuracy: 0.6474 - val_loss: 0.0192 - val_accuracy: 0.7378\n",
      "\n",
      "Epoch 00001: val_loss did not improve from 0.01872\n",
      "Early stop count: 1\n",
      "Epoch: 6\n",
      "Anneling Coeficient [0.5]\n",
      "319/319 [==============================] - 28s 88ms/step - loss: 0.0588 - accuracy: 0.6486 - val_loss: 0.0170 - val_accuracy: 0.7335\n",
      "\n",
      "Epoch 00001: val_loss improved from 0.01872 to 0.01698, saving model to D:/Jorge/datasets/deforestation/experiments/MT/exp60/models\\resunet_1.h5\n",
      "New best val loss. Val loss: 0.01698. Early stop count: 0\n",
      "Epoch: 7\n",
      "Anneling Coeficient [0.6]\n",
      "319/319 [==============================] - 28s 86ms/step - loss: 0.0578 - accuracy: 0.6499 - val_loss: 0.0160 - val_accuracy: 0.7522\n",
      "\n",
      "Epoch 00001: val_loss improved from 0.01698 to 0.01599, saving model to D:/Jorge/datasets/deforestation/experiments/MT/exp60/models\\resunet_1.h5\n",
      "New best val loss. Val loss: 0.01599. Early stop count: 0\n",
      "Epoch: 8\n",
      "Anneling Coeficient [0.7]\n",
      "319/319 [==============================] - 28s 87ms/step - loss: 0.0563 - accuracy: 0.6499 - val_loss: 0.0156 - val_accuracy: 0.7399\n",
      "\n",
      "Epoch 00001: val_loss improved from 0.01599 to 0.01563, saving model to D:/Jorge/datasets/deforestation/experiments/MT/exp60/models\\resunet_1.h5\n",
      "New best val loss. Val loss: 0.01563. Early stop count: 0\n",
      "Epoch: 9\n",
      "Anneling Coeficient [0.8]\n",
      "319/319 [==============================] - 28s 88ms/step - loss: 0.0547 - accuracy: 0.6543 - val_loss: 0.0148 - val_accuracy: 0.7354\n",
      "\n",
      "Epoch 00001: val_loss improved from 0.01563 to 0.01477, saving model to D:/Jorge/datasets/deforestation/experiments/MT/exp60/models\\resunet_1.h5\n",
      "New best val loss. Val loss: 0.01477. Early stop count: 0\n",
      "Epoch: 10\n",
      "Anneling Coeficient [0.9]\n",
      "319/319 [==============================] - 27s 84ms/step - loss: 0.0525 - accuracy: 0.6543 - val_loss: 0.0139 - val_accuracy: 0.7490\n",
      "\n",
      "Epoch 00001: val_loss improved from 0.01477 to 0.01387, saving model to D:/Jorge/datasets/deforestation/experiments/MT/exp60/models\\resunet_1.h5\n",
      "New best val loss. Val loss: 0.01387. Early stop count: 0\n",
      "Epoch: 11\n",
      "Anneling Coeficient [1.]\n",
      "319/319 [==============================] - 28s 87ms/step - loss: 0.0507 - accuracy: 0.6588 - val_loss: 0.0142 - val_accuracy: 0.7561\n",
      "\n",
      "Epoch 00001: val_loss did not improve from 0.01387\n",
      "Early stop count: 1\n",
      "Epoch: 12\n",
      "Anneling Coeficient [1.]\n",
      "319/319 [==============================] - 28s 87ms/step - loss: 0.0502 - accuracy: 0.6584 - val_loss: 0.0142 - val_accuracy: 0.7521\n",
      "\n",
      "Epoch 00001: val_loss did not improve from 0.01387\n",
      "Early stop count: 2\n",
      "Epoch: 13\n",
      "Anneling Coeficient [1.]\n",
      "319/319 [==============================] - 28s 87ms/step - loss: 0.0478 - accuracy: 0.6610 - val_loss: 0.0140 - val_accuracy: 0.7445\n",
      "\n",
      "Epoch 00001: val_loss did not improve from 0.01387\n",
      "Early stop count: 3\n",
      "Epoch: 14\n",
      "Anneling Coeficient [1.]\n",
      "319/319 [==============================] - 28s 88ms/step - loss: 0.0458 - accuracy: 0.6612 - val_loss: 0.0142 - val_accuracy: 0.7339\n",
      "\n",
      "Epoch 00001: val_loss did not improve from 0.01387\n",
      "Early stop count: 4\n",
      "Epoch: 15\n",
      "Anneling Coeficient [1.]\n",
      "319/319 [==============================] - 27s 86ms/step - loss: 0.0455 - accuracy: 0.6630 - val_loss: 0.0141 - val_accuracy: 0.7375\n",
      "\n",
      "Epoch 00001: val_loss did not improve from 0.01387\n",
      "Early stop count: 5\n",
      "Epoch: 16\n",
      "Anneling Coeficient [1.]\n",
      "319/319 [==============================] - 28s 88ms/step - loss: 0.0435 - accuracy: 0.6641 - val_loss: 0.0146 - val_accuracy: 0.7325\n",
      "\n",
      "Epoch 00001: val_loss did not improve from 0.01387\n",
      "Early stop count: 6\n",
      "Epoch: 17\n",
      "Anneling Coeficient [1.]\n",
      "319/319 [==============================] - 28s 86ms/step - loss: 0.0422 - accuracy: 0.6663 - val_loss: 0.0133 - val_accuracy: 0.7514\n",
      "\n",
      "Epoch 00001: val_loss improved from 0.01387 to 0.01326, saving model to D:/Jorge/datasets/deforestation/experiments/MT/exp60/models\\resunet_1.h5\n",
      "New best val loss. Val loss: 0.01326. Early stop count: 0\n",
      "Epoch: 18\n",
      "Anneling Coeficient [1.]\n",
      "319/319 [==============================] - 28s 87ms/step - loss: 0.0415 - accuracy: 0.6653 - val_loss: 0.0131 - val_accuracy: 0.7395\n",
      "\n",
      "Epoch 00001: val_loss improved from 0.01326 to 0.01311, saving model to D:/Jorge/datasets/deforestation/experiments/MT/exp60/models\\resunet_1.h5\n",
      "New best val loss. Val loss: 0.01311. Early stop count: 0\n",
      "Epoch: 19\n",
      "Anneling Coeficient [1.]\n",
      "319/319 [==============================] - 28s 89ms/step - loss: 0.0395 - accuracy: 0.6683 - val_loss: 0.0148 - val_accuracy: 0.7336\n",
      "\n",
      "Epoch 00001: val_loss did not improve from 0.01311\n",
      "Early stop count: 1\n",
      "Epoch: 20\n",
      "Anneling Coeficient [1.]\n",
      "319/319 [==============================] - 27s 85ms/step - loss: 0.0391 - accuracy: 0.6690 - val_loss: 0.0120 - val_accuracy: 0.7487\n",
      "\n",
      "Epoch 00001: val_loss improved from 0.01311 to 0.01200, saving model to D:/Jorge/datasets/deforestation/experiments/MT/exp60/models\\resunet_1.h5\n",
      "New best val loss. Val loss: 0.012. Early stop count: 0\n",
      "Epoch: 21\n",
      "Anneling Coeficient [1.]\n",
      "319/319 [==============================] - 28s 87ms/step - loss: 0.0378 - accuracy: 0.6712 - val_loss: 0.0123 - val_accuracy: 0.7561\n",
      "\n",
      "Epoch 00001: val_loss did not improve from 0.01200\n",
      "Early stop count: 1\n",
      "Epoch: 22\n",
      "Anneling Coeficient [1.]\n",
      "319/319 [==============================] - 27s 86ms/step - loss: 0.0367 - accuracy: 0.6693 - val_loss: 0.0130 - val_accuracy: 0.7517\n",
      "\n",
      "Epoch 00001: val_loss did not improve from 0.01200\n",
      "Early stop count: 2\n",
      "Epoch: 23\n",
      "Anneling Coeficient [1.]\n",
      "319/319 [==============================] - 28s 86ms/step - loss: 0.0361 - accuracy: 0.6739 - val_loss: 0.0129 - val_accuracy: 0.7435\n",
      "\n",
      "Epoch 00001: val_loss did not improve from 0.01200\n",
      "Early stop count: 3\n",
      "Epoch: 24\n",
      "Anneling Coeficient [1.]\n",
      "319/319 [==============================] - 28s 88ms/step - loss: 0.0352 - accuracy: 0.6747 - val_loss: 0.0128 - val_accuracy: 0.7334\n",
      "\n",
      "Epoch 00001: val_loss did not improve from 0.01200\n",
      "Early stop count: 4\n",
      "Epoch: 25\n",
      "Anneling Coeficient [1.]\n",
      "319/319 [==============================] - 27s 85ms/step - loss: 0.0352 - accuracy: 0.6717 - val_loss: 0.0127 - val_accuracy: 0.7371\n",
      "\n",
      "Epoch 00001: val_loss did not improve from 0.01200\n",
      "Early stop count: 5\n",
      "Epoch: 26\n",
      "Anneling Coeficient [1.]\n",
      "319/319 [==============================] - 28s 87ms/step - loss: 0.0332 - accuracy: 0.6760 - val_loss: 0.0130 - val_accuracy: 0.7322\n",
      "\n",
      "Epoch 00001: val_loss did not improve from 0.01200\n",
      "Early stop count: 6\n",
      "Epoch: 27\n",
      "Anneling Coeficient [1.]\n",
      "319/319 [==============================] - 28s 86ms/step - loss: 0.0329 - accuracy: 0.6762 - val_loss: 0.0122 - val_accuracy: 0.7515\n",
      "\n",
      "Epoch 00001: val_loss did not improve from 0.01200\n",
      "Early stop count: 7\n",
      "Epoch: 28\n",
      "Anneling Coeficient [1.]\n",
      "319/319 [==============================] - 28s 86ms/step - loss: 0.0318 - accuracy: 0.6753 - val_loss: 0.0126 - val_accuracy: 0.7392\n",
      "\n",
      "Epoch 00001: val_loss did not improve from 0.01200\n",
      "Early stop count: 8\n",
      "Epoch: 29\n",
      "Anneling Coeficient [1.]\n",
      "319/319 [==============================] - 28s 89ms/step - loss: 0.0324 - accuracy: 0.6774 - val_loss: 0.0119 - val_accuracy: 0.7347\n",
      "\n",
      "Epoch 00001: val_loss improved from 0.01200 to 0.01194, saving model to D:/Jorge/datasets/deforestation/experiments/MT/exp60/models\\resunet_1.h5\n",
      "New best val loss. Val loss: 0.01194. Early stop count: 0\n",
      "Epoch: 30\n",
      "Anneling Coeficient [1.]\n",
      "319/319 [==============================] - 27s 85ms/step - loss: 0.0311 - accuracy: 0.6769 - val_loss: 0.0120 - val_accuracy: 0.7483\n",
      "\n",
      "Epoch 00001: val_loss did not improve from 0.01194\n",
      "Early stop count: 1\n",
      "Epoch: 31\n",
      "Anneling Coeficient [1.]\n",
      "319/319 [==============================] - 28s 87ms/step - loss: 0.0308 - accuracy: 0.6782 - val_loss: 0.0116 - val_accuracy: 0.7560\n",
      "\n",
      "Epoch 00001: val_loss improved from 0.01194 to 0.01156, saving model to D:/Jorge/datasets/deforestation/experiments/MT/exp60/models\\resunet_1.h5\n",
      "New best val loss. Val loss: 0.01156. Early stop count: 0\n",
      "Epoch: 32\n",
      "Anneling Coeficient [1.]\n",
      "319/319 [==============================] - 27s 86ms/step - loss: 0.0299 - accuracy: 0.6794 - val_loss: 0.0122 - val_accuracy: 0.7517\n",
      "\n",
      "Epoch 00001: val_loss did not improve from 0.01156\n",
      "Early stop count: 1\n",
      "Epoch: 33\n",
      "Anneling Coeficient [1.]\n",
      "319/319 [==============================] - 28s 86ms/step - loss: 0.0296 - accuracy: 0.6791 - val_loss: 0.0125 - val_accuracy: 0.7438\n",
      "\n",
      "Epoch 00001: val_loss did not improve from 0.01156\n",
      "Early stop count: 2\n",
      "Epoch: 34\n",
      "Anneling Coeficient [1.]\n",
      "319/319 [==============================] - 28s 89ms/step - loss: 0.0286 - accuracy: 0.6805 - val_loss: 0.0125 - val_accuracy: 0.7332\n",
      "\n",
      "Epoch 00001: val_loss did not improve from 0.01156\n",
      "Early stop count: 3\n",
      "Epoch: 35\n",
      "Anneling Coeficient [1.]\n",
      "319/319 [==============================] - 27s 85ms/step - loss: 0.0281 - accuracy: 0.6804 - val_loss: 0.0124 - val_accuracy: 0.7367\n",
      "\n",
      "Epoch 00001: val_loss did not improve from 0.01156\n",
      "Early stop count: 4\n",
      "Epoch: 36\n",
      "Anneling Coeficient [1.]\n",
      "319/319 [==============================] - 28s 87ms/step - loss: 0.0281 - accuracy: 0.6821 - val_loss: 0.0123 - val_accuracy: 0.7326\n",
      "\n",
      "Epoch 00001: val_loss did not improve from 0.01156\n",
      "Early stop count: 5\n",
      "Epoch: 37\n",
      "Anneling Coeficient [1.]\n",
      "319/319 [==============================] - 28s 87ms/step - loss: 0.0272 - accuracy: 0.6814 - val_loss: 0.0127 - val_accuracy: 0.7504\n",
      "\n",
      "Epoch 00001: val_loss did not improve from 0.01156\n",
      "Early stop count: 6\n",
      "Epoch: 38\n",
      "Anneling Coeficient [1.]\n",
      "319/319 [==============================] - 27s 86ms/step - loss: 0.0272 - accuracy: 0.6814 - val_loss: 0.0122 - val_accuracy: 0.7389\n",
      "\n",
      "Epoch 00001: val_loss did not improve from 0.01156\n",
      "Early stop count: 7\n",
      "Epoch: 39\n",
      "Anneling Coeficient [1.]\n",
      "319/319 [==============================] - 28s 89ms/step - loss: 0.0269 - accuracy: 0.6835 - val_loss: 0.0124 - val_accuracy: 0.7341\n",
      "\n",
      "Epoch 00001: val_loss did not improve from 0.01156\n",
      "Early stop count: 8\n",
      "Epoch: 40\n",
      "Anneling Coeficient [1.]\n",
      "319/319 [==============================] - 27s 85ms/step - loss: 0.0260 - accuracy: 0.6828 - val_loss: 0.0111 - val_accuracy: 0.7485\n",
      "\n",
      "Epoch 00001: val_loss improved from 0.01156 to 0.01113, saving model to D:/Jorge/datasets/deforestation/experiments/MT/exp60/models\\resunet_1.h5\n",
      "New best val loss. Val loss: 0.01113. Early stop count: 0\n",
      "Epoch: 41\n",
      "Anneling Coeficient [1.]\n",
      "319/319 [==============================] - 27s 86ms/step - loss: 0.0262 - accuracy: 0.6830 - val_loss: 0.0113 - val_accuracy: 0.7561\n",
      "\n",
      "Epoch 00001: val_loss did not improve from 0.01113\n",
      "Early stop count: 1\n",
      "Epoch: 42\n",
      "Anneling Coeficient [1.]\n",
      "319/319 [==============================] - 28s 86ms/step - loss: 0.0256 - accuracy: 0.6847 - val_loss: 0.0123 - val_accuracy: 0.7512\n",
      "\n",
      "Epoch 00001: val_loss did not improve from 0.01113\n",
      "Early stop count: 2\n",
      "Epoch: 43\n",
      "Anneling Coeficient [1.]\n",
      "319/319 [==============================] - 27s 86ms/step - loss: 0.0247 - accuracy: 0.6833 - val_loss: 0.0117 - val_accuracy: 0.7442\n",
      "\n",
      "Epoch 00001: val_loss did not improve from 0.01113\n",
      "Early stop count: 3\n",
      "Epoch: 44\n",
      "Anneling Coeficient [1.]\n",
      "319/319 [==============================] - 28s 88ms/step - loss: 0.0247 - accuracy: 0.6840 - val_loss: 0.0125 - val_accuracy: 0.7330\n",
      "\n",
      "Epoch 00001: val_loss did not improve from 0.01113\n",
      "Early stop count: 4\n",
      "Epoch: 45\n",
      "Anneling Coeficient [1.]\n",
      "319/319 [==============================] - 27s 85ms/step - loss: 0.0239 - accuracy: 0.6856 - val_loss: 0.0127 - val_accuracy: 0.7368\n",
      "\n",
      "Epoch 00001: val_loss did not improve from 0.01113\n",
      "Early stop count: 5\n",
      "Epoch: 46\n",
      "Anneling Coeficient [1.]\n",
      "319/319 [==============================] - 27s 86ms/step - loss: 0.0247 - accuracy: 0.6855 - val_loss: 0.0122 - val_accuracy: 0.7324\n",
      "\n",
      "Epoch 00001: val_loss did not improve from 0.01113\n",
      "Early stop count: 6\n",
      "Epoch: 47\n",
      "Anneling Coeficient [1.]\n",
      "319/319 [==============================] - 27s 85ms/step - loss: 0.0233 - accuracy: 0.6858 - val_loss: 0.0117 - val_accuracy: 0.7513\n",
      "\n",
      "Epoch 00001: val_loss did not improve from 0.01113\n",
      "Early stop count: 7\n",
      "Epoch: 48\n",
      "Anneling Coeficient [1.]\n",
      "319/319 [==============================] - 27s 85ms/step - loss: 0.0234 - accuracy: 0.6864 - val_loss: 0.0118 - val_accuracy: 0.7392\n",
      "\n",
      "Epoch 00001: val_loss did not improve from 0.01113\n",
      "Early stop count: 8\n",
      "Epoch: 49\n",
      "Anneling Coeficient [1.]\n",
      "319/319 [==============================] - 28s 88ms/step - loss: 0.0236 - accuracy: 0.6856 - val_loss: 0.0118 - val_accuracy: 0.7346\n",
      "\n",
      "Epoch 00001: val_loss did not improve from 0.01113\n",
      "Early stop count: 9\n",
      "Epoch: 50\n",
      "Anneling Coeficient [1.]\n",
      "319/319 [==============================] - 27s 83ms/step - loss: 0.0224 - accuracy: 0.6871 - val_loss: 0.0108 - val_accuracy: 0.7487\n",
      "\n",
      "Epoch 00001: val_loss improved from 0.01113 to 0.01084, saving model to D:/Jorge/datasets/deforestation/experiments/MT/exp60/models\\resunet_1.h5\n",
      "New best val loss. Val loss: 0.01084. Early stop count: 0\n",
      "Epoch: 51\n",
      "Anneling Coeficient [1.]\n",
      "319/319 [==============================] - 27s 85ms/step - loss: 0.0230 - accuracy: 0.6867 - val_loss: 0.0114 - val_accuracy: 0.7559\n",
      "\n",
      "Epoch 00001: val_loss did not improve from 0.01084\n",
      "Early stop count: 1\n",
      "Epoch: 52\n",
      "Anneling Coeficient [1.]\n",
      "319/319 [==============================] - 27s 83ms/step - loss: 0.0220 - accuracy: 0.6872 - val_loss: 0.0118 - val_accuracy: 0.7515\n",
      "\n",
      "Epoch 00001: val_loss did not improve from 0.01084\n",
      "Early stop count: 2\n",
      "Epoch: 53\n",
      "Anneling Coeficient [1.]\n",
      "319/319 [==============================] - 27s 84ms/step - loss: 0.0212 - accuracy: 0.6889 - val_loss: 0.0116 - val_accuracy: 0.7443\n",
      "\n",
      "Epoch 00001: val_loss did not improve from 0.01084\n",
      "Early stop count: 3\n",
      "Epoch: 54\n",
      "Anneling Coeficient [1.]\n",
      "319/319 [==============================] - 28s 86ms/step - loss: 0.0224 - accuracy: 0.6862 - val_loss: 0.0119 - val_accuracy: 0.7334\n",
      "\n",
      "Epoch 00001: val_loss did not improve from 0.01084\n",
      "Early stop count: 4\n",
      "Epoch: 55\n",
      "Anneling Coeficient [1.]\n",
      "319/319 [==============================] - 26s 82ms/step - loss: 0.0214 - accuracy: 0.6887 - val_loss: 0.0119 - val_accuracy: 0.7372\n",
      "\n",
      "Epoch 00001: val_loss did not improve from 0.01084\n",
      "Early stop count: 5\n",
      "Epoch: 56\n",
      "Anneling Coeficient [1.]\n",
      "319/319 [==============================] - 27s 85ms/step - loss: 0.0211 - accuracy: 0.6882 - val_loss: 0.0121 - val_accuracy: 0.7324\n",
      "\n",
      "Epoch 00001: val_loss did not improve from 0.01084\n",
      "Early stop count: 6\n",
      "Epoch: 57\n",
      "Anneling Coeficient [1.]\n",
      "319/319 [==============================] - 27s 83ms/step - loss: 0.0209 - accuracy: 0.6895 - val_loss: 0.0116 - val_accuracy: 0.7512\n",
      "\n",
      "Epoch 00001: val_loss did not improve from 0.01084\n",
      "Early stop count: 7\n",
      "Epoch: 58\n",
      "Anneling Coeficient [1.]\n",
      "319/319 [==============================] - 27s 83ms/step - loss: 0.0209 - accuracy: 0.6884 - val_loss: 0.0113 - val_accuracy: 0.7395\n",
      "\n",
      "Epoch 00001: val_loss did not improve from 0.01084\n",
      "Early stop count: 8\n",
      "Epoch: 59\n",
      "Anneling Coeficient [1.]\n",
      "319/319 [==============================] - 27s 86ms/step - loss: 0.0197 - accuracy: 0.6899 - val_loss: 0.0117 - val_accuracy: 0.7343\n",
      "\n",
      "Epoch 00001: val_loss did not improve from 0.01084\n",
      "Early stop count: 9\n",
      "Epoch: 60\n",
      "Anneling Coeficient [1.]\n",
      "319/319 [==============================] - 26s 82ms/step - loss: 0.0196 - accuracy: 0.6899 - val_loss: 0.0107 - val_accuracy: 0.7486\n",
      "\n",
      "Epoch 00001: val_loss improved from 0.01084 to 0.01070, saving model to D:/Jorge/datasets/deforestation/experiments/MT/exp60/models\\resunet_1.h5\n",
      "New best val loss. Val loss: 0.0107. Early stop count: 0\n",
      "Epoch: 61\n",
      "Anneling Coeficient [1.]\n",
      "319/319 [==============================] - 27s 84ms/step - loss: 0.0196 - accuracy: 0.6893 - val_loss: 0.0110 - val_accuracy: 0.7561\n",
      "\n",
      "Epoch 00001: val_loss did not improve from 0.01070\n",
      "Early stop count: 1\n",
      "Epoch: 62\n",
      "Anneling Coeficient [1.]\n",
      "319/319 [==============================] - 27s 84ms/step - loss: 0.0199 - accuracy: 0.6895 - val_loss: 0.0116 - val_accuracy: 0.7519\n",
      "\n",
      "Epoch 00001: val_loss did not improve from 0.01070\n",
      "Early stop count: 2\n",
      "Epoch: 63\n",
      "Anneling Coeficient [1.]\n",
      "319/319 [==============================] - 27s 84ms/step - loss: 0.0194 - accuracy: 0.6918 - val_loss: 0.0119 - val_accuracy: 0.7437\n",
      "\n",
      "Epoch 00001: val_loss did not improve from 0.01070\n",
      "Early stop count: 3\n",
      "Epoch: 64\n",
      "Anneling Coeficient [1.]\n",
      "319/319 [==============================] - 27s 86ms/step - loss: 0.0186 - accuracy: 0.6897 - val_loss: 0.0116 - val_accuracy: 0.7336\n",
      "\n",
      "Epoch 00001: val_loss did not improve from 0.01070\n",
      "Early stop count: 4\n",
      "Epoch: 65\n",
      "Anneling Coeficient [1.]\n",
      "319/319 [==============================] - 27s 84ms/step - loss: 0.0185 - accuracy: 0.6922 - val_loss: 0.0121 - val_accuracy: 0.7369\n",
      "\n",
      "Epoch 00001: val_loss did not improve from 0.01070\n",
      "Early stop count: 5\n",
      "Epoch: 66\n",
      "Anneling Coeficient [1.]\n",
      "319/319 [==============================] - 28s 88ms/step - loss: 0.0188 - accuracy: 0.6909 - val_loss: 0.0117 - val_accuracy: 0.7327\n",
      "\n",
      "Epoch 00001: val_loss did not improve from 0.01070\n",
      "Early stop count: 6\n",
      "Epoch: 67\n",
      "Anneling Coeficient [1.]\n",
      "319/319 [==============================] - 29s 91ms/step - loss: 0.0186 - accuracy: 0.6904 - val_loss: 0.0115 - val_accuracy: 0.7513\n",
      "\n",
      "Epoch 00001: val_loss did not improve from 0.01070\n",
      "Early stop count: 7\n",
      "Epoch: 68\n",
      "Anneling Coeficient [1.]\n",
      "319/319 [==============================] - 29s 90ms/step - loss: 0.0182 - accuracy: 0.6918 - val_loss: 0.0114 - val_accuracy: 0.7393\n",
      "\n",
      "Epoch 00001: val_loss did not improve from 0.01070\n",
      "Early stop count: 8\n",
      "Epoch: 69\n",
      "Anneling Coeficient [1.]\n",
      "319/319 [==============================] - 30s 94ms/step - loss: 0.0178 - accuracy: 0.6921 - val_loss: 0.0118 - val_accuracy: 0.7343\n",
      "\n",
      "Epoch 00001: val_loss did not improve from 0.01070\n",
      "Early stop count: 9\n",
      "Epoch: 70\n",
      "Anneling Coeficient [1.]\n",
      "319/319 [==============================] - 29s 92ms/step - loss: 0.0179 - accuracy: 0.6907 - val_loss: 0.0105 - val_accuracy: 0.7487\n",
      "\n",
      "Epoch 00001: val_loss improved from 0.01070 to 0.01051, saving model to D:/Jorge/datasets/deforestation/experiments/MT/exp60/models\\resunet_1.h5\n",
      "New best val loss. Val loss: 0.01051. Early stop count: 0\n",
      "Epoch: 71\n",
      "Anneling Coeficient [1.]\n",
      "319/319 [==============================] - 31s 97ms/step - loss: 0.0177 - accuracy: 0.6914 - val_loss: 0.0108 - val_accuracy: 0.7562\n",
      "\n",
      "Epoch 00001: val_loss did not improve from 0.01051\n",
      "Early stop count: 1\n",
      "Epoch: 72\n",
      "Anneling Coeficient [1.]\n",
      "319/319 [==============================] - 31s 97ms/step - loss: 0.0172 - accuracy: 0.6938 - val_loss: 0.0117 - val_accuracy: 0.7518\n",
      "\n",
      "Epoch 00001: val_loss did not improve from 0.01051\n",
      "Early stop count: 2\n",
      "Epoch: 73\n",
      "Anneling Coeficient [1.]\n",
      "319/319 [==============================] - 32s 101ms/step - loss: 0.0174 - accuracy: 0.6914 - val_loss: 0.0119 - val_accuracy: 0.7439\n",
      "\n",
      "Epoch 00001: val_loss did not improve from 0.01051\n",
      "Early stop count: 3\n",
      "Epoch: 74\n",
      "Anneling Coeficient [1.]\n",
      "319/319 [==============================] - 34s 107ms/step - loss: 0.0173 - accuracy: 0.6928 - val_loss: 0.0119 - val_accuracy: 0.7331\n",
      "\n",
      "Epoch 00001: val_loss did not improve from 0.01051\n",
      "Early stop count: 4\n",
      "Epoch: 75\n",
      "Anneling Coeficient [1.]\n",
      "319/319 [==============================] - 32s 99ms/step - loss: 0.0168 - accuracy: 0.6923 - val_loss: 0.0119 - val_accuracy: 0.7370\n",
      "\n",
      "Epoch 00001: val_loss did not improve from 0.01051\n",
      "Early stop count: 5\n",
      "Epoch: 76\n",
      "Anneling Coeficient [1.]\n",
      "319/319 [==============================] - 31s 97ms/step - loss: 0.0173 - accuracy: 0.6932 - val_loss: 0.0122 - val_accuracy: 0.7319\n",
      "\n",
      "Epoch 00001: val_loss did not improve from 0.01051\n",
      "Early stop count: 6\n",
      "Epoch: 77\n",
      "Anneling Coeficient [1.]\n",
      "319/319 [==============================] - 30s 93ms/step - loss: 0.0166 - accuracy: 0.6918 - val_loss: 0.0112 - val_accuracy: 0.7515\n",
      "\n",
      "Epoch 00001: val_loss did not improve from 0.01051\n",
      "Early stop count: 7\n",
      "Epoch: 78\n",
      "Anneling Coeficient [1.]\n",
      "319/319 [==============================] - 29s 91ms/step - loss: 0.0161 - accuracy: 0.6936 - val_loss: 0.0118 - val_accuracy: 0.7388\n",
      "\n",
      "Epoch 00001: val_loss did not improve from 0.01051\n",
      "Early stop count: 8\n",
      "Epoch: 79\n",
      "Anneling Coeficient [1.]\n",
      "319/319 [==============================] - 30s 93ms/step - loss: 0.0168 - accuracy: 0.6938 - val_loss: 0.0118 - val_accuracy: 0.7341\n",
      "\n",
      "Epoch 00001: val_loss did not improve from 0.01051\n",
      "Early stop count: 9\n",
      "Epoch: 80\n",
      "Anneling Coeficient [1.]\n",
      "319/319 [==============================] - 28s 88ms/step - loss: 0.0161 - accuracy: 0.6934 - val_loss: 0.0104 - val_accuracy: 0.7487\n",
      "\n",
      "Epoch 00001: val_loss improved from 0.01051 to 0.01045, saving model to D:/Jorge/datasets/deforestation/experiments/MT/exp60/models\\resunet_1.h5\n",
      "New best val loss. Val loss: 0.01045. Early stop count: 0\n",
      "Epoch: 81\n",
      "Anneling Coeficient [1.]\n",
      "319/319 [==============================] - 29s 92ms/step - loss: 0.0161 - accuracy: 0.6936 - val_loss: 0.0111 - val_accuracy: 0.7558\n",
      "\n",
      "Epoch 00001: val_loss did not improve from 0.01045\n",
      "Early stop count: 1\n",
      "Epoch: 82\n",
      "Anneling Coeficient [1.]\n",
      "319/319 [==============================] - 27s 86ms/step - loss: 0.0161 - accuracy: 0.6922 - val_loss: 0.0115 - val_accuracy: 0.7518\n",
      "\n",
      "Epoch 00001: val_loss did not improve from 0.01045\n",
      "Early stop count: 2\n",
      "Epoch: 83\n",
      "Anneling Coeficient [1.]\n",
      "319/319 [==============================] - 28s 88ms/step - loss: 0.0160 - accuracy: 0.6969 - val_loss: 0.0118 - val_accuracy: 0.7437\n",
      "\n",
      "Epoch 00001: val_loss did not improve from 0.01045\n",
      "Early stop count: 3\n",
      "Epoch: 84\n",
      "Anneling Coeficient [1.]\n",
      "319/319 [==============================] - 29s 90ms/step - loss: 0.0160 - accuracy: 0.6929 - val_loss: 0.0119 - val_accuracy: 0.7329\n",
      "\n",
      "Epoch 00001: val_loss did not improve from 0.01045\n",
      "Early stop count: 4\n",
      "Epoch: 85\n",
      "Anneling Coeficient [1.]\n",
      "319/319 [==============================] - 28s 89ms/step - loss: 0.0155 - accuracy: 0.6938 - val_loss: 0.0121 - val_accuracy: 0.7368\n",
      "\n",
      "Epoch 00001: val_loss did not improve from 0.01045\n",
      "Early stop count: 5\n",
      "Epoch: 86\n",
      "Anneling Coeficient [1.]\n",
      "319/319 [==============================] - 29s 91ms/step - loss: 0.0156 - accuracy: 0.6939 - val_loss: 0.0117 - val_accuracy: 0.7322\n",
      "\n",
      "Epoch 00001: val_loss did not improve from 0.01045\n",
      "Early stop count: 6\n",
      "Epoch: 87\n",
      "Anneling Coeficient [1.]\n",
      "319/319 [==============================] - 28s 88ms/step - loss: 0.0156 - accuracy: 0.6937 - val_loss: 0.0117 - val_accuracy: 0.7510\n",
      "\n",
      "Epoch 00001: val_loss did not improve from 0.01045\n",
      "Early stop count: 7\n",
      "Epoch: 88\n",
      "Anneling Coeficient [1.]\n",
      "319/319 [==============================] - 28s 88ms/step - loss: 0.0149 - accuracy: 0.6948 - val_loss: 0.0112 - val_accuracy: 0.7393\n",
      "\n",
      "Epoch 00001: val_loss did not improve from 0.01045\n",
      "Early stop count: 8\n",
      "Epoch: 89\n",
      "Anneling Coeficient [1.]\n",
      "319/319 [==============================] - 29s 91ms/step - loss: 0.0156 - accuracy: 0.6938 - val_loss: 0.0120 - val_accuracy: 0.7337\n",
      "\n",
      "Epoch 00001: val_loss did not improve from 0.01045\n",
      "Early stop count: 9\n",
      "Epoch: 90\n",
      "Anneling Coeficient [1.]\n",
      "319/319 [==============================] - 28s 87ms/step - loss: 0.0146 - accuracy: 0.6953 - val_loss: 0.0105 - val_accuracy: 0.7487\n",
      "\n",
      "Epoch 00001: val_loss did not improve from 0.01045\n",
      "Early stop count: 10\n",
      "Early stopping\n",
      "10 10\n",
      "Finished Training\n",
      "Training time:  2531.5712378025055\n",
      "time:  2\n",
      "Model: \"model_2\"\n",
      "__________________________________________________________________________________________________\n",
      "Layer (type)                    Output Shape         Param #     Connected to                     \n",
      "==================================================================================================\n",
      "input_enc_net (InputLayer)      [(None, 128, 128, 21 0                                            \n",
      "__________________________________________________________________________________________________\n",
      "res1_net1 (Conv2D)              (None, 128, 128, 16) 3040        input_enc_net[0][0]              \n",
      "__________________________________________________________________________________________________\n",
      "drop_net1 (SpatialDropout2D)    (None, 128, 128, 16) 0           res1_net1[0][0]                  \n",
      "__________________________________________________________________________________________________\n",
      "res2_net1 (Conv2D)              (None, 128, 128, 16) 2320        drop_net1[0][0]                  \n",
      "__________________________________________________________________________________________________\n",
      "res3_net1 (Conv2D)              (None, 128, 128, 16) 352         input_enc_net[0][0]              \n",
      "__________________________________________________________________________________________________\n",
      "add_12 (Add)                    (None, 128, 128, 16) 0           res2_net1[0][0]                  \n",
      "                                                                 res3_net1[0][0]                  \n",
      "__________________________________________________________________________________________________\n",
      "pool_net1 (MaxPooling2D)        (None, 64, 64, 16)   0           add_12[0][0]                     \n",
      "__________________________________________________________________________________________________\n",
      "res1_net2 (Conv2D)              (None, 64, 64, 32)   4640        pool_net1[0][0]                  \n",
      "__________________________________________________________________________________________________\n",
      "drop_net2 (SpatialDropout2D)    (None, 64, 64, 32)   0           res1_net2[0][0]                  \n",
      "__________________________________________________________________________________________________\n",
      "res2_net2 (Conv2D)              (None, 64, 64, 32)   9248        drop_net2[0][0]                  \n",
      "__________________________________________________________________________________________________\n",
      "res3_net2 (Conv2D)              (None, 64, 64, 32)   544         pool_net1[0][0]                  \n",
      "__________________________________________________________________________________________________\n",
      "add_13 (Add)                    (None, 64, 64, 32)   0           res2_net2[0][0]                  \n",
      "                                                                 res3_net2[0][0]                  \n",
      "__________________________________________________________________________________________________\n",
      "pool_net2 (MaxPooling2D)        (None, 32, 32, 32)   0           add_13[0][0]                     \n",
      "__________________________________________________________________________________________________\n",
      "res1_net3 (Conv2D)              (None, 32, 32, 64)   18496       pool_net2[0][0]                  \n",
      "__________________________________________________________________________________________________\n",
      "drop_net3 (SpatialDropout2D)    (None, 32, 32, 64)   0           res1_net3[0][0]                  \n",
      "__________________________________________________________________________________________________\n",
      "res2_net3 (Conv2D)              (None, 32, 32, 64)   36928       drop_net3[0][0]                  \n",
      "__________________________________________________________________________________________________\n",
      "res3_net3 (Conv2D)              (None, 32, 32, 64)   2112        pool_net2[0][0]                  \n",
      "__________________________________________________________________________________________________\n",
      "add_14 (Add)                    (None, 32, 32, 64)   0           res2_net3[0][0]                  \n",
      "                                                                 res3_net3[0][0]                  \n",
      "__________________________________________________________________________________________________\n",
      "pool_net3 (MaxPooling2D)        (None, 16, 16, 64)   0           add_14[0][0]                     \n",
      "__________________________________________________________________________________________________\n",
      "res1_net4 (Conv2D)              (None, 16, 16, 64)   36928       pool_net3[0][0]                  \n",
      "__________________________________________________________________________________________________\n",
      "drop_net4 (SpatialDropout2D)    (None, 16, 16, 64)   0           res1_net4[0][0]                  \n",
      "__________________________________________________________________________________________________\n",
      "res2_net4 (Conv2D)              (None, 16, 16, 64)   36928       drop_net4[0][0]                  \n",
      "__________________________________________________________________________________________________\n",
      "res3_net4 (Conv2D)              (None, 16, 16, 64)   4160        pool_net3[0][0]                  \n",
      "__________________________________________________________________________________________________\n",
      "add_15 (Add)                    (None, 16, 16, 64)   0           res2_net4[0][0]                  \n",
      "                                                                 res3_net4[0][0]                  \n",
      "__________________________________________________________________________________________________\n",
      "res1_net5 (Conv2D)              (None, 16, 16, 64)   36928       add_15[0][0]                     \n",
      "__________________________________________________________________________________________________\n",
      "drop_net5 (SpatialDropout2D)    (None, 16, 16, 64)   0           res1_net5[0][0]                  \n",
      "__________________________________________________________________________________________________\n",
      "res2_net5 (Conv2D)              (None, 16, 16, 64)   36928       drop_net5[0][0]                  \n",
      "__________________________________________________________________________________________________\n",
      "res3_net5 (Conv2D)              (None, 16, 16, 64)   4160        add_15[0][0]                     \n",
      "__________________________________________________________________________________________________\n",
      "add_16 (Add)                    (None, 16, 16, 64)   0           res2_net5[0][0]                  \n",
      "                                                                 res3_net5[0][0]                  \n",
      "__________________________________________________________________________________________________\n",
      "res1_net6 (Conv2D)              (None, 16, 16, 64)   36928       add_16[0][0]                     \n",
      "__________________________________________________________________________________________________\n",
      "drop_net6 (SpatialDropout2D)    (None, 16, 16, 64)   0           res1_net6[0][0]                  \n",
      "__________________________________________________________________________________________________\n",
      "res2_net6 (Conv2D)              (None, 16, 16, 64)   36928       drop_net6[0][0]                  \n",
      "__________________________________________________________________________________________________\n",
      "res3_net6 (Conv2D)              (None, 16, 16, 64)   4160        add_16[0][0]                     \n",
      "__________________________________________________________________________________________________\n",
      "add_17 (Add)                    (None, 16, 16, 64)   0           res2_net6[0][0]                  \n",
      "                                                                 res3_net6[0][0]                  \n",
      "__________________________________________________________________________________________________\n",
      "up_sampling2d_6 (UpSampling2D)  (None, 32, 32, 64)   0           add_17[0][0]                     \n",
      "__________________________________________________________________________________________________\n",
      "upsampling_net3 (Conv2D)        (None, 32, 32, 64)   36928       up_sampling2d_6[0][0]            \n",
      "__________________________________________________________________________________________________\n",
      "spatial_dropout2d_6 (SpatialDro (None, 32, 32, 64)   0           upsampling_net3[0][0]            \n",
      "__________________________________________________________________________________________________\n",
      "concatenate3 (Concatenate)      (None, 32, 32, 128)  0           add_14[0][0]                     \n",
      "                                                                 spatial_dropout2d_6[0][0]        \n",
      "__________________________________________________________________________________________________\n",
      "up_sampling2d_7 (UpSampling2D)  (None, 64, 64, 128)  0           concatenate3[0][0]               \n",
      "__________________________________________________________________________________________________\n",
      "upsampling_net2 (Conv2D)        (None, 64, 64, 32)   36896       up_sampling2d_7[0][0]            \n",
      "__________________________________________________________________________________________________\n",
      "spatial_dropout2d_7 (SpatialDro (None, 64, 64, 32)   0           upsampling_net2[0][0]            \n",
      "__________________________________________________________________________________________________\n",
      "concatenate2 (Concatenate)      (None, 64, 64, 64)   0           add_13[0][0]                     \n",
      "                                                                 spatial_dropout2d_7[0][0]        \n",
      "__________________________________________________________________________________________________\n",
      "up_sampling2d_8 (UpSampling2D)  (None, 128, 128, 64) 0           concatenate2[0][0]               \n",
      "__________________________________________________________________________________________________\n",
      "upsampling_net1 (Conv2D)        (None, 128, 128, 16) 9232        up_sampling2d_8[0][0]            \n",
      "__________________________________________________________________________________________________\n",
      "spatial_dropout2d_8 (SpatialDro (None, 128, 128, 16) 0           upsampling_net1[0][0]            \n",
      "__________________________________________________________________________________________________\n",
      "concatenate1 (Concatenate)      (None, 128, 128, 32) 0           add_12[0][0]                     \n",
      "                                                                 spatial_dropout2d_8[0][0]        \n",
      "__________________________________________________________________________________________________\n",
      "output (Conv2D)                 (None, 128, 128, 2)  66          concatenate1[0][0]               \n",
      "__________________________________________________________________________________________________\n",
      "dirichlet_layer_2 (DirichletLay (None, 128, 128, 2)  0           output[0][0]                     \n",
      "==================================================================================================\n",
      "Total params: 394,850\n",
      "Trainable params: 394,850\n",
      "Non-trainable params: 0\n",
      "__________________________________________________________________________________________________\n",
      "Epoch: 1\n",
      "Anneling Coeficient [1.]\n",
      "K.int_shape(mse) (None, 128, 128, 1)\n",
      "K.int_shape(mask) (None, None, None, 1)\n",
      "K.int_shape(E) (None, 128, 128, 2)\n",
      "K.int_shape(y_truth) (None, None, None, None)\n",
      "K.int_shape(mse) (None, 128, 128, 1)\n",
      "K.int_shape(mask) (None, None, None, 1)\n",
      "K.int_shape(E) (None, 128, 128, 2)\n",
      "K.int_shape(y_truth) (None, None, None, None)\n",
      "319/319 [==============================] - ETA: 0s - loss: 0.1250 - accuracy: 0.5787K.int_shape(mse) (None, 128, 128, 1)\n",
      "K.int_shape(mask) (None, None, None, 1)\n",
      "K.int_shape(E) (None, 128, 128, 2)\n",
      "K.int_shape(y_truth) (None, None, None, None)\n",
      "319/319 [==============================] - 29s 88ms/step - loss: 0.1250 - accuracy: 0.5787 - val_loss: 0.0353 - val_accuracy: 0.7480\n",
      "\n",
      "Epoch 00001: val_loss improved from inf to 0.03525, saving model to D:/Jorge/datasets/deforestation/experiments/MT/exp60/models\\resunet_2.h5\n",
      "New best val loss. Val loss: 0.03525. Early stop count: 0\n",
      "Epoch: 2\n",
      "Anneling Coeficient [0.1]\n",
      "319/319 [==============================] - 28s 88ms/step - loss: 0.0762 - accuracy: 0.6360 - val_loss: 0.0276 - val_accuracy: 0.7477\n",
      "\n",
      "Epoch 00001: val_loss improved from 0.03525 to 0.02759, saving model to D:/Jorge/datasets/deforestation/experiments/MT/exp60/models\\resunet_2.h5\n",
      "New best val loss. Val loss: 0.02759. Early stop count: 0\n",
      "Epoch: 3\n",
      "Anneling Coeficient [0.2]\n",
      "319/319 [==============================] - 29s 91ms/step - loss: 0.0665 - accuracy: 0.6440 - val_loss: 0.0231 - val_accuracy: 0.7414\n",
      "\n",
      "Epoch 00001: val_loss improved from 0.02759 to 0.02309, saving model to D:/Jorge/datasets/deforestation/experiments/MT/exp60/models\\resunet_2.h5\n",
      "New best val loss. Val loss: 0.02309. Early stop count: 0\n",
      "Epoch: 4\n",
      "Anneling Coeficient [0.3]\n",
      "319/319 [==============================] - 29s 90ms/step - loss: 0.0643 - accuracy: 0.6452 - val_loss: 0.0232 - val_accuracy: 0.7294\n",
      "\n",
      "Epoch 00001: val_loss did not improve from 0.02309\n",
      "Early stop count: 1\n",
      "Epoch: 5\n",
      "Anneling Coeficient [0.4]\n",
      "319/319 [==============================] - 29s 90ms/step - loss: 0.0615 - accuracy: 0.6481 - val_loss: 0.0193 - val_accuracy: 0.7352\n",
      "\n",
      "Epoch 00001: val_loss improved from 0.02309 to 0.01935, saving model to D:/Jorge/datasets/deforestation/experiments/MT/exp60/models\\resunet_2.h5\n",
      "New best val loss. Val loss: 0.01935. Early stop count: 0\n",
      "Epoch: 6\n",
      "Anneling Coeficient [0.5]\n",
      "319/319 [==============================] - 29s 90ms/step - loss: 0.0602 - accuracy: 0.6490 - val_loss: 0.0180 - val_accuracy: 0.7317\n",
      "\n",
      "Epoch 00001: val_loss improved from 0.01935 to 0.01798, saving model to D:/Jorge/datasets/deforestation/experiments/MT/exp60/models\\resunet_2.h5\n",
      "New best val loss. Val loss: 0.01798. Early stop count: 0\n",
      "Epoch: 7\n",
      "Anneling Coeficient [0.6]\n",
      "319/319 [==============================] - 28s 89ms/step - loss: 0.0566 - accuracy: 0.6525 - val_loss: 0.0163 - val_accuracy: 0.7510\n",
      "\n",
      "Epoch 00001: val_loss improved from 0.01798 to 0.01633, saving model to D:/Jorge/datasets/deforestation/experiments/MT/exp60/models\\resunet_2.h5\n",
      "New best val loss. Val loss: 0.01633. Early stop count: 0\n",
      "Epoch: 8\n",
      "Anneling Coeficient [0.7]\n",
      "319/319 [==============================] - 29s 90ms/step - loss: 0.0554 - accuracy: 0.6555 - val_loss: 0.0167 - val_accuracy: 0.7379\n",
      "\n",
      "Epoch 00001: val_loss did not improve from 0.01633\n",
      "Early stop count: 1\n",
      "Epoch: 9\n",
      "Anneling Coeficient [0.8]\n",
      "319/319 [==============================] - 28s 89ms/step - loss: 0.0533 - accuracy: 0.6543 - val_loss: 0.0162 - val_accuracy: 0.7341\n",
      "\n",
      "Epoch 00001: val_loss improved from 0.01633 to 0.01624, saving model to D:/Jorge/datasets/deforestation/experiments/MT/exp60/models\\resunet_2.h5\n",
      "New best val loss. Val loss: 0.01624. Early stop count: 0\n",
      "Epoch: 10\n",
      "Anneling Coeficient [0.9]\n",
      "319/319 [==============================] - 29s 90ms/step - loss: 0.0516 - accuracy: 0.6575 - val_loss: 0.0136 - val_accuracy: 0.7489\n",
      "\n",
      "Epoch 00001: val_loss improved from 0.01624 to 0.01364, saving model to D:/Jorge/datasets/deforestation/experiments/MT/exp60/models\\resunet_2.h5\n",
      "New best val loss. Val loss: 0.01364. Early stop count: 0\n",
      "Epoch: 11\n",
      "Anneling Coeficient [1.]\n",
      "319/319 [==============================] - 29s 91ms/step - loss: 0.0510 - accuracy: 0.6577 - val_loss: 0.0144 - val_accuracy: 0.7555\n",
      "\n",
      "Epoch 00001: val_loss did not improve from 0.01364\n",
      "Early stop count: 1\n",
      "Epoch: 12\n",
      "Anneling Coeficient [1.]\n",
      "319/319 [==============================] - 28s 88ms/step - loss: 0.0491 - accuracy: 0.6603 - val_loss: 0.0141 - val_accuracy: 0.7522\n",
      "\n",
      "Epoch 00001: val_loss did not improve from 0.01364\n",
      "Early stop count: 2\n",
      "Epoch: 13\n",
      "Anneling Coeficient [1.]\n",
      "319/319 [==============================] - 29s 90ms/step - loss: 0.0474 - accuracy: 0.6602 - val_loss: 0.0141 - val_accuracy: 0.7445\n",
      "\n",
      "Epoch 00001: val_loss did not improve from 0.01364\n",
      "Early stop count: 3\n",
      "Epoch: 14\n",
      "Anneling Coeficient [1.]\n",
      "319/319 [==============================] - 29s 91ms/step - loss: 0.0465 - accuracy: 0.6628 - val_loss: 0.0151 - val_accuracy: 0.7327\n",
      "\n",
      "Epoch 00001: val_loss did not improve from 0.01364\n",
      "Early stop count: 4\n",
      "Epoch: 15\n",
      "Anneling Coeficient [1.]\n",
      "319/319 [==============================] - 28s 88ms/step - loss: 0.0459 - accuracy: 0.6630 - val_loss: 0.0152 - val_accuracy: 0.7374\n",
      "\n",
      "Epoch 00001: val_loss did not improve from 0.01364\n",
      "Early stop count: 5\n",
      "Epoch: 16\n",
      "Anneling Coeficient [1.]\n",
      "319/319 [==============================] - 28s 88ms/step - loss: 0.0439 - accuracy: 0.6639 - val_loss: 0.0136 - val_accuracy: 0.7328\n",
      "\n",
      "Epoch 00001: val_loss improved from 0.01364 to 0.01357, saving model to D:/Jorge/datasets/deforestation/experiments/MT/exp60/models\\resunet_2.h5\n",
      "New best val loss. Val loss: 0.01357. Early stop count: 0\n",
      "Epoch: 17\n",
      "Anneling Coeficient [1.]\n",
      "319/319 [==============================] - 29s 90ms/step - loss: 0.0426 - accuracy: 0.6657 - val_loss: 0.0138 - val_accuracy: 0.7511\n",
      "\n",
      "Epoch 00001: val_loss did not improve from 0.01357\n",
      "Early stop count: 1\n",
      "Epoch: 18\n",
      "Anneling Coeficient [1.]\n",
      "319/319 [==============================] - 29s 91ms/step - loss: 0.0422 - accuracy: 0.6651 - val_loss: 0.0144 - val_accuracy: 0.7389\n",
      "\n",
      "Epoch 00001: val_loss did not improve from 0.01357\n",
      "Early stop count: 2\n",
      "Epoch: 19\n",
      "Anneling Coeficient [1.]\n",
      "319/319 [==============================] - 29s 92ms/step - loss: 0.0406 - accuracy: 0.6673 - val_loss: 0.0132 - val_accuracy: 0.7348\n",
      "\n",
      "Epoch 00001: val_loss improved from 0.01357 to 0.01315, saving model to D:/Jorge/datasets/deforestation/experiments/MT/exp60/models\\resunet_2.h5\n",
      "New best val loss. Val loss: 0.01315. Early stop count: 0\n",
      "Epoch: 20\n",
      "Anneling Coeficient [1.]\n",
      "319/319 [==============================] - 29s 90ms/step - loss: 0.0388 - accuracy: 0.6700 - val_loss: 0.0121 - val_accuracy: 0.7487\n",
      "\n",
      "Epoch 00001: val_loss improved from 0.01315 to 0.01207, saving model to D:/Jorge/datasets/deforestation/experiments/MT/exp60/models\\resunet_2.h5\n",
      "New best val loss. Val loss: 0.01207. Early stop count: 0\n",
      "Epoch: 21\n",
      "Anneling Coeficient [1.]\n",
      "319/319 [==============================] - 33s 103ms/step - loss: 0.0389 - accuracy: 0.6682 - val_loss: 0.0126 - val_accuracy: 0.7562\n",
      "\n",
      "Epoch 00001: val_loss did not improve from 0.01207\n",
      "Early stop count: 1\n",
      "Epoch: 22\n",
      "Anneling Coeficient [1.]\n",
      "319/319 [==============================] - 28s 86ms/step - loss: 0.0371 - accuracy: 0.6722 - val_loss: 0.0131 - val_accuracy: 0.7516\n",
      "\n",
      "Epoch 00001: val_loss did not improve from 0.01207\n",
      "Early stop count: 2\n",
      "Epoch: 23\n",
      "Anneling Coeficient [1.]\n",
      "319/319 [==============================] - 28s 88ms/step - loss: 0.0362 - accuracy: 0.6724 - val_loss: 0.0127 - val_accuracy: 0.7440\n",
      "\n",
      "Epoch 00001: val_loss did not improve from 0.01207\n",
      "Early stop count: 3\n",
      "Epoch: 24\n",
      "Anneling Coeficient [1.]\n",
      "319/319 [==============================] - 28s 88ms/step - loss: 0.0359 - accuracy: 0.6738 - val_loss: 0.0127 - val_accuracy: 0.7333\n",
      "\n",
      "Epoch 00001: val_loss did not improve from 0.01207\n",
      "Early stop count: 4\n",
      "Epoch: 25\n",
      "Anneling Coeficient [1.]\n",
      "319/319 [==============================] - 28s 88ms/step - loss: 0.0339 - accuracy: 0.6730 - val_loss: 0.0127 - val_accuracy: 0.7374\n",
      "\n",
      "Epoch 00001: val_loss did not improve from 0.01207\n",
      "Early stop count: 5\n",
      "Epoch: 26\n",
      "Anneling Coeficient [1.]\n",
      "319/319 [==============================] - 29s 91ms/step - loss: 0.0330 - accuracy: 0.6765 - val_loss: 0.0128 - val_accuracy: 0.7323\n",
      "\n",
      "Epoch 00001: val_loss did not improve from 0.01207\n",
      "Early stop count: 6\n",
      "Epoch: 27\n",
      "Anneling Coeficient [1.]\n",
      "319/319 [==============================] - 28s 88ms/step - loss: 0.0332 - accuracy: 0.6770 - val_loss: 0.0128 - val_accuracy: 0.7509\n",
      "\n",
      "Epoch 00001: val_loss did not improve from 0.01207\n",
      "Early stop count: 7\n",
      "Epoch: 28\n",
      "Anneling Coeficient [1.]\n",
      "319/319 [==============================] - 29s 90ms/step - loss: 0.0316 - accuracy: 0.6763 - val_loss: 0.0123 - val_accuracy: 0.7391\n",
      "\n",
      "Epoch 00001: val_loss did not improve from 0.01207\n",
      "Early stop count: 8\n",
      "Epoch: 29\n",
      "Anneling Coeficient [1.]\n",
      "319/319 [==============================] - 28s 89ms/step - loss: 0.0314 - accuracy: 0.6777 - val_loss: 0.0122 - val_accuracy: 0.7345\n",
      "\n",
      "Epoch 00001: val_loss did not improve from 0.01207\n",
      "Early stop count: 9\n",
      "Epoch: 30\n",
      "Anneling Coeficient [1.]\n",
      "319/319 [==============================] - 29s 90ms/step - loss: 0.0308 - accuracy: 0.6801 - val_loss: 0.0114 - val_accuracy: 0.7484\n",
      "\n",
      "Epoch 00001: val_loss improved from 0.01207 to 0.01138, saving model to D:/Jorge/datasets/deforestation/experiments/MT/exp60/models\\resunet_2.h5\n",
      "New best val loss. Val loss: 0.01138. Early stop count: 0\n",
      "Epoch: 31\n",
      "Anneling Coeficient [1.]\n",
      "319/319 [==============================] - 29s 91ms/step - loss: 0.0304 - accuracy: 0.6785 - val_loss: 0.0116 - val_accuracy: 0.7560\n",
      "\n",
      "Epoch 00001: val_loss did not improve from 0.01138\n",
      "Early stop count: 1\n",
      "Epoch: 32\n",
      "Anneling Coeficient [1.]\n",
      "319/319 [==============================] - 28s 89ms/step - loss: 0.0289 - accuracy: 0.6787 - val_loss: 0.0126 - val_accuracy: 0.7513\n",
      "\n",
      "Epoch 00001: val_loss did not improve from 0.01138\n",
      "Early stop count: 2\n",
      "Epoch: 33\n",
      "Anneling Coeficient [1.]\n",
      "319/319 [==============================] - 29s 90ms/step - loss: 0.0297 - accuracy: 0.6783 - val_loss: 0.0119 - val_accuracy: 0.7443\n",
      "\n",
      "Epoch 00001: val_loss did not improve from 0.01138\n",
      "Early stop count: 3\n",
      "Epoch: 34\n",
      "Anneling Coeficient [1.]\n",
      "319/319 [==============================] - 29s 91ms/step - loss: 0.0286 - accuracy: 0.6828 - val_loss: 0.0126 - val_accuracy: 0.7329\n",
      "\n",
      "Epoch 00001: val_loss did not improve from 0.01138\n",
      "Early stop count: 4\n",
      "Epoch: 35\n",
      "Anneling Coeficient [1.]\n",
      "319/319 [==============================] - 29s 90ms/step - loss: 0.0280 - accuracy: 0.6821 - val_loss: 0.0125 - val_accuracy: 0.7367\n",
      "\n",
      "Epoch 00001: val_loss did not improve from 0.01138\n",
      "Early stop count: 5\n",
      "Epoch: 36\n",
      "Anneling Coeficient [1.]\n",
      "319/319 [==============================] - 29s 92ms/step - loss: 0.0274 - accuracy: 0.6810 - val_loss: 0.0126 - val_accuracy: 0.7319\n",
      "\n",
      "Epoch 00001: val_loss did not improve from 0.01138\n",
      "Early stop count: 6\n",
      "Epoch: 37\n",
      "Anneling Coeficient [1.]\n",
      "319/319 [==============================] - 28s 89ms/step - loss: 0.0271 - accuracy: 0.6818 - val_loss: 0.0119 - val_accuracy: 0.7512\n",
      "\n",
      "Epoch 00001: val_loss did not improve from 0.01138\n",
      "Early stop count: 7\n",
      "Epoch: 38\n",
      "Anneling Coeficient [1.]\n",
      "319/319 [==============================] - 29s 90ms/step - loss: 0.0269 - accuracy: 0.6838 - val_loss: 0.0126 - val_accuracy: 0.7385\n",
      "\n",
      "Epoch 00001: val_loss did not improve from 0.01138\n",
      "Early stop count: 8\n",
      "Epoch: 39\n",
      "Anneling Coeficient [1.]\n",
      "319/319 [==============================] - 28s 89ms/step - loss: 0.0260 - accuracy: 0.6833 - val_loss: 0.0116 - val_accuracy: 0.7347\n",
      "\n",
      "Epoch 00001: val_loss did not improve from 0.01138\n",
      "Early stop count: 9\n",
      "Epoch: 40\n",
      "Anneling Coeficient [1.]\n",
      "319/319 [==============================] - 29s 92ms/step - loss: 0.0254 - accuracy: 0.6831 - val_loss: 0.0115 - val_accuracy: 0.7482\n",
      "\n",
      "Epoch 00001: val_loss did not improve from 0.01138\n",
      "Early stop count: 10\n",
      "Early stopping\n",
      "10 10\n",
      "Finished Training\n",
      "Training time:  1154.7832961082458\n",
      "time:  3\n",
      "Model: \"model_3\"\n",
      "__________________________________________________________________________________________________\n",
      "Layer (type)                    Output Shape         Param #     Connected to                     \n",
      "==================================================================================================\n",
      "input_enc_net (InputLayer)      [(None, 128, 128, 21 0                                            \n",
      "__________________________________________________________________________________________________\n",
      "res1_net1 (Conv2D)              (None, 128, 128, 16) 3040        input_enc_net[0][0]              \n",
      "__________________________________________________________________________________________________\n",
      "drop_net1 (SpatialDropout2D)    (None, 128, 128, 16) 0           res1_net1[0][0]                  \n",
      "__________________________________________________________________________________________________\n",
      "res2_net1 (Conv2D)              (None, 128, 128, 16) 2320        drop_net1[0][0]                  \n",
      "__________________________________________________________________________________________________\n",
      "res3_net1 (Conv2D)              (None, 128, 128, 16) 352         input_enc_net[0][0]              \n",
      "__________________________________________________________________________________________________\n",
      "add_18 (Add)                    (None, 128, 128, 16) 0           res2_net1[0][0]                  \n",
      "                                                                 res3_net1[0][0]                  \n",
      "__________________________________________________________________________________________________\n",
      "pool_net1 (MaxPooling2D)        (None, 64, 64, 16)   0           add_18[0][0]                     \n",
      "__________________________________________________________________________________________________\n",
      "res1_net2 (Conv2D)              (None, 64, 64, 32)   4640        pool_net1[0][0]                  \n",
      "__________________________________________________________________________________________________\n",
      "drop_net2 (SpatialDropout2D)    (None, 64, 64, 32)   0           res1_net2[0][0]                  \n",
      "__________________________________________________________________________________________________\n",
      "res2_net2 (Conv2D)              (None, 64, 64, 32)   9248        drop_net2[0][0]                  \n",
      "__________________________________________________________________________________________________\n",
      "res3_net2 (Conv2D)              (None, 64, 64, 32)   544         pool_net1[0][0]                  \n",
      "__________________________________________________________________________________________________\n",
      "add_19 (Add)                    (None, 64, 64, 32)   0           res2_net2[0][0]                  \n",
      "                                                                 res3_net2[0][0]                  \n",
      "__________________________________________________________________________________________________\n",
      "pool_net2 (MaxPooling2D)        (None, 32, 32, 32)   0           add_19[0][0]                     \n",
      "__________________________________________________________________________________________________\n",
      "res1_net3 (Conv2D)              (None, 32, 32, 64)   18496       pool_net2[0][0]                  \n",
      "__________________________________________________________________________________________________\n",
      "drop_net3 (SpatialDropout2D)    (None, 32, 32, 64)   0           res1_net3[0][0]                  \n",
      "__________________________________________________________________________________________________\n",
      "res2_net3 (Conv2D)              (None, 32, 32, 64)   36928       drop_net3[0][0]                  \n",
      "__________________________________________________________________________________________________\n",
      "res3_net3 (Conv2D)              (None, 32, 32, 64)   2112        pool_net2[0][0]                  \n",
      "__________________________________________________________________________________________________\n",
      "add_20 (Add)                    (None, 32, 32, 64)   0           res2_net3[0][0]                  \n",
      "                                                                 res3_net3[0][0]                  \n",
      "__________________________________________________________________________________________________\n",
      "pool_net3 (MaxPooling2D)        (None, 16, 16, 64)   0           add_20[0][0]                     \n",
      "__________________________________________________________________________________________________\n",
      "res1_net4 (Conv2D)              (None, 16, 16, 64)   36928       pool_net3[0][0]                  \n",
      "__________________________________________________________________________________________________\n",
      "drop_net4 (SpatialDropout2D)    (None, 16, 16, 64)   0           res1_net4[0][0]                  \n",
      "__________________________________________________________________________________________________\n",
      "res2_net4 (Conv2D)              (None, 16, 16, 64)   36928       drop_net4[0][0]                  \n",
      "__________________________________________________________________________________________________\n",
      "res3_net4 (Conv2D)              (None, 16, 16, 64)   4160        pool_net3[0][0]                  \n",
      "__________________________________________________________________________________________________\n",
      "add_21 (Add)                    (None, 16, 16, 64)   0           res2_net4[0][0]                  \n",
      "                                                                 res3_net4[0][0]                  \n",
      "__________________________________________________________________________________________________\n",
      "res1_net5 (Conv2D)              (None, 16, 16, 64)   36928       add_21[0][0]                     \n",
      "__________________________________________________________________________________________________\n",
      "drop_net5 (SpatialDropout2D)    (None, 16, 16, 64)   0           res1_net5[0][0]                  \n",
      "__________________________________________________________________________________________________\n",
      "res2_net5 (Conv2D)              (None, 16, 16, 64)   36928       drop_net5[0][0]                  \n",
      "__________________________________________________________________________________________________\n",
      "res3_net5 (Conv2D)              (None, 16, 16, 64)   4160        add_21[0][0]                     \n",
      "__________________________________________________________________________________________________\n",
      "add_22 (Add)                    (None, 16, 16, 64)   0           res2_net5[0][0]                  \n",
      "                                                                 res3_net5[0][0]                  \n",
      "__________________________________________________________________________________________________\n",
      "res1_net6 (Conv2D)              (None, 16, 16, 64)   36928       add_22[0][0]                     \n",
      "__________________________________________________________________________________________________\n",
      "drop_net6 (SpatialDropout2D)    (None, 16, 16, 64)   0           res1_net6[0][0]                  \n",
      "__________________________________________________________________________________________________\n",
      "res2_net6 (Conv2D)              (None, 16, 16, 64)   36928       drop_net6[0][0]                  \n",
      "__________________________________________________________________________________________________\n",
      "res3_net6 (Conv2D)              (None, 16, 16, 64)   4160        add_22[0][0]                     \n",
      "__________________________________________________________________________________________________\n",
      "add_23 (Add)                    (None, 16, 16, 64)   0           res2_net6[0][0]                  \n",
      "                                                                 res3_net6[0][0]                  \n",
      "__________________________________________________________________________________________________\n",
      "up_sampling2d_9 (UpSampling2D)  (None, 32, 32, 64)   0           add_23[0][0]                     \n",
      "__________________________________________________________________________________________________\n",
      "upsampling_net3 (Conv2D)        (None, 32, 32, 64)   36928       up_sampling2d_9[0][0]            \n",
      "__________________________________________________________________________________________________\n",
      "spatial_dropout2d_9 (SpatialDro (None, 32, 32, 64)   0           upsampling_net3[0][0]            \n",
      "__________________________________________________________________________________________________\n",
      "concatenate3 (Concatenate)      (None, 32, 32, 128)  0           add_20[0][0]                     \n",
      "                                                                 spatial_dropout2d_9[0][0]        \n",
      "__________________________________________________________________________________________________\n",
      "up_sampling2d_10 (UpSampling2D) (None, 64, 64, 128)  0           concatenate3[0][0]               \n",
      "__________________________________________________________________________________________________\n",
      "upsampling_net2 (Conv2D)        (None, 64, 64, 32)   36896       up_sampling2d_10[0][0]           \n",
      "__________________________________________________________________________________________________\n",
      "spatial_dropout2d_10 (SpatialDr (None, 64, 64, 32)   0           upsampling_net2[0][0]            \n",
      "__________________________________________________________________________________________________\n",
      "concatenate2 (Concatenate)      (None, 64, 64, 64)   0           add_19[0][0]                     \n",
      "                                                                 spatial_dropout2d_10[0][0]       \n",
      "__________________________________________________________________________________________________\n",
      "up_sampling2d_11 (UpSampling2D) (None, 128, 128, 64) 0           concatenate2[0][0]               \n",
      "__________________________________________________________________________________________________\n",
      "upsampling_net1 (Conv2D)        (None, 128, 128, 16) 9232        up_sampling2d_11[0][0]           \n",
      "__________________________________________________________________________________________________\n",
      "spatial_dropout2d_11 (SpatialDr (None, 128, 128, 16) 0           upsampling_net1[0][0]            \n",
      "__________________________________________________________________________________________________\n",
      "concatenate1 (Concatenate)      (None, 128, 128, 32) 0           add_18[0][0]                     \n",
      "                                                                 spatial_dropout2d_11[0][0]       \n",
      "__________________________________________________________________________________________________\n",
      "output (Conv2D)                 (None, 128, 128, 2)  66          concatenate1[0][0]               \n",
      "__________________________________________________________________________________________________\n",
      "dirichlet_layer_3 (DirichletLay (None, 128, 128, 2)  0           output[0][0]                     \n",
      "==================================================================================================\n",
      "Total params: 394,850\n",
      "Trainable params: 394,850\n",
      "Non-trainable params: 0\n",
      "__________________________________________________________________________________________________\n",
      "Epoch: 1\n",
      "Anneling Coeficient [1.]\n",
      "K.int_shape(mse) (None, 128, 128, 1)\n",
      "K.int_shape(mask) (None, None, None, 1)\n",
      "K.int_shape(E) (None, 128, 128, 2)\n",
      "K.int_shape(y_truth) (None, None, None, None)\n",
      "K.int_shape(mse) (None, 128, 128, 1)\n",
      "K.int_shape(mask) (None, None, None, 1)\n",
      "K.int_shape(E) (None, 128, 128, 2)\n",
      "K.int_shape(y_truth) (None, None, None, None)\n",
      "319/319 [==============================] - ETA: 0s - loss: 0.1171 - accuracy: 0.5974K.int_shape(mse) (None, 128, 128, 1)\n",
      "K.int_shape(mask) (None, None, None, 1)\n",
      "K.int_shape(E) (None, 128, 128, 2)\n",
      "K.int_shape(y_truth) (None, None, None, None)\n",
      "319/319 [==============================] - 30s 91ms/step - loss: 0.1171 - accuracy: 0.5974 - val_loss: 0.0313 - val_accuracy: 0.7516\n",
      "\n",
      "Epoch 00001: val_loss improved from inf to 0.03128, saving model to D:/Jorge/datasets/deforestation/experiments/MT/exp60/models\\resunet_3.h5\n",
      "New best val loss. Val loss: 0.03128. Early stop count: 0\n",
      "Epoch: 2\n",
      "Anneling Coeficient [0.1]\n",
      "319/319 [==============================] - 28s 88ms/step - loss: 0.0710 - accuracy: 0.6395 - val_loss: 0.0232 - val_accuracy: 0.7506\n",
      "\n",
      "Epoch 00001: val_loss improved from 0.03128 to 0.02324, saving model to D:/Jorge/datasets/deforestation/experiments/MT/exp60/models\\resunet_3.h5\n",
      "New best val loss. Val loss: 0.02324. Early stop count: 0\n",
      "Epoch: 3\n",
      "Anneling Coeficient [0.2]\n",
      "319/319 [==============================] - 29s 91ms/step - loss: 0.0648 - accuracy: 0.6460 - val_loss: 0.0197 - val_accuracy: 0.7432\n",
      "\n",
      "Epoch 00001: val_loss improved from 0.02324 to 0.01972, saving model to D:/Jorge/datasets/deforestation/experiments/MT/exp60/models\\resunet_3.h5\n",
      "New best val loss. Val loss: 0.01972. Early stop count: 0\n",
      "Epoch: 4\n",
      "Anneling Coeficient [0.3]\n",
      "319/319 [==============================] - 28s 87ms/step - loss: 0.0619 - accuracy: 0.6458 - val_loss: 0.0190 - val_accuracy: 0.7331\n",
      "\n",
      "Epoch 00001: val_loss improved from 0.01972 to 0.01896, saving model to D:/Jorge/datasets/deforestation/experiments/MT/exp60/models\\resunet_3.h5\n",
      "New best val loss. Val loss: 0.01896. Early stop count: 0\n",
      "Epoch: 5\n",
      "Anneling Coeficient [0.4]\n",
      "319/319 [==============================] - 28s 89ms/step - loss: 0.0595 - accuracy: 0.6506 - val_loss: 0.0188 - val_accuracy: 0.7366\n",
      "\n",
      "Epoch 00001: val_loss improved from 0.01896 to 0.01878, saving model to D:/Jorge/datasets/deforestation/experiments/MT/exp60/models\\resunet_3.h5\n",
      "New best val loss. Val loss: 0.01878. Early stop count: 0\n",
      "Epoch: 6\n",
      "Anneling Coeficient [0.5]\n",
      "319/319 [==============================] - 29s 90ms/step - loss: 0.0569 - accuracy: 0.6507 - val_loss: 0.0178 - val_accuracy: 0.7325\n",
      "\n",
      "Epoch 00001: val_loss improved from 0.01878 to 0.01777, saving model to D:/Jorge/datasets/deforestation/experiments/MT/exp60/models\\resunet_3.h5\n",
      "New best val loss. Val loss: 0.01777. Early stop count: 0\n",
      "Epoch: 7\n",
      "Anneling Coeficient [0.6]\n",
      "319/319 [==============================] - 28s 89ms/step - loss: 0.0558 - accuracy: 0.6534 - val_loss: 0.0161 - val_accuracy: 0.7512\n",
      "\n",
      "Epoch 00001: val_loss improved from 0.01777 to 0.01611, saving model to D:/Jorge/datasets/deforestation/experiments/MT/exp60/models\\resunet_3.h5\n",
      "New best val loss. Val loss: 0.01611. Early stop count: 0\n",
      "Epoch: 8\n",
      "Anneling Coeficient [0.7]\n",
      "319/319 [==============================] - 29s 91ms/step - loss: 0.0549 - accuracy: 0.6547 - val_loss: 0.0163 - val_accuracy: 0.7393\n",
      "\n",
      "Epoch 00001: val_loss did not improve from 0.01611\n",
      "Early stop count: 1\n",
      "Epoch: 9\n",
      "Anneling Coeficient [0.8]\n",
      "319/319 [==============================] - 28s 88ms/step - loss: 0.0532 - accuracy: 0.6541 - val_loss: 0.0153 - val_accuracy: 0.7350\n",
      "\n",
      "Epoch 00001: val_loss improved from 0.01611 to 0.01533, saving model to D:/Jorge/datasets/deforestation/experiments/MT/exp60/models\\resunet_3.h5\n",
      "New best val loss. Val loss: 0.01533. Early stop count: 0\n",
      "Epoch: 10\n",
      "Anneling Coeficient [0.9]\n",
      "319/319 [==============================] - 29s 90ms/step - loss: 0.0529 - accuracy: 0.6559 - val_loss: 0.0147 - val_accuracy: 0.7491\n",
      "\n",
      "Epoch 00001: val_loss improved from 0.01533 to 0.01474, saving model to D:/Jorge/datasets/deforestation/experiments/MT/exp60/models\\resunet_3.h5\n",
      "New best val loss. Val loss: 0.01474. Early stop count: 0\n",
      "Epoch: 11\n",
      "Anneling Coeficient [1.]\n",
      "319/319 [==============================] - 27s 86ms/step - loss: 0.0510 - accuracy: 0.6563 - val_loss: 0.0145 - val_accuracy: 0.7561\n",
      "\n",
      "Epoch 00001: val_loss improved from 0.01474 to 0.01445, saving model to D:/Jorge/datasets/deforestation/experiments/MT/exp60/models\\resunet_3.h5\n",
      "New best val loss. Val loss: 0.01445. Early stop count: 0\n",
      "Epoch: 12\n",
      "Anneling Coeficient [1.]\n",
      "319/319 [==============================] - 28s 87ms/step - loss: 0.0500 - accuracy: 0.6579 - val_loss: 0.0146 - val_accuracy: 0.7519\n",
      "\n",
      "Epoch 00001: val_loss did not improve from 0.01445\n",
      "Early stop count: 1\n",
      "Epoch: 13\n",
      "Anneling Coeficient [1.]\n",
      "319/319 [==============================] - 28s 88ms/step - loss: 0.0494 - accuracy: 0.6593 - val_loss: 0.0150 - val_accuracy: 0.7445\n",
      "\n",
      "Epoch 00001: val_loss did not improve from 0.01445\n",
      "Early stop count: 2\n",
      "Epoch: 14\n",
      "Anneling Coeficient [1.]\n",
      "319/319 [==============================] - 28s 87ms/step - loss: 0.0473 - accuracy: 0.6611 - val_loss: 0.0142 - val_accuracy: 0.7337\n",
      "\n",
      "Epoch 00001: val_loss improved from 0.01445 to 0.01424, saving model to D:/Jorge/datasets/deforestation/experiments/MT/exp60/models\\resunet_3.h5\n",
      "New best val loss. Val loss: 0.01424. Early stop count: 0\n",
      "Epoch: 15\n",
      "Anneling Coeficient [1.]\n",
      "319/319 [==============================] - 28s 86ms/step - loss: 0.0460 - accuracy: 0.6620 - val_loss: 0.0139 - val_accuracy: 0.7372\n",
      "\n",
      "Epoch 00001: val_loss improved from 0.01424 to 0.01394, saving model to D:/Jorge/datasets/deforestation/experiments/MT/exp60/models\\resunet_3.h5\n",
      "New best val loss. Val loss: 0.01394. Early stop count: 0\n",
      "Epoch: 16\n",
      "Anneling Coeficient [1.]\n",
      "319/319 [==============================] - 28s 87ms/step - loss: 0.0449 - accuracy: 0.6641 - val_loss: 0.0140 - val_accuracy: 0.7330\n",
      "\n",
      "Epoch 00001: val_loss did not improve from 0.01394\n",
      "Early stop count: 1\n",
      "Epoch: 17\n",
      "Anneling Coeficient [1.]\n",
      "319/319 [==============================] - 27s 86ms/step - loss: 0.0444 - accuracy: 0.6643 - val_loss: 0.0134 - val_accuracy: 0.7517\n",
      "\n",
      "Epoch 00001: val_loss improved from 0.01394 to 0.01342, saving model to D:/Jorge/datasets/deforestation/experiments/MT/exp60/models\\resunet_3.h5\n",
      "New best val loss. Val loss: 0.01342. Early stop count: 0\n",
      "Epoch: 18\n",
      "Anneling Coeficient [1.]\n",
      "319/319 [==============================] - 28s 87ms/step - loss: 0.0424 - accuracy: 0.6658 - val_loss: 0.0140 - val_accuracy: 0.7393\n",
      "\n",
      "Epoch 00001: val_loss did not improve from 0.01342\n",
      "Early stop count: 1\n",
      "Epoch: 19\n",
      "Anneling Coeficient [1.]\n",
      "319/319 [==============================] - 27s 83ms/step - loss: 0.0417 - accuracy: 0.6666 - val_loss: 0.0139 - val_accuracy: 0.7346\n",
      "\n",
      "Epoch 00001: val_loss did not improve from 0.01342\n",
      "Early stop count: 2\n",
      "Epoch: 20\n",
      "Anneling Coeficient [1.]\n",
      "319/319 [==============================] - 28s 87ms/step - loss: 0.0404 - accuracy: 0.6682 - val_loss: 0.0126 - val_accuracy: 0.7488\n",
      "\n",
      "Epoch 00001: val_loss improved from 0.01342 to 0.01261, saving model to D:/Jorge/datasets/deforestation/experiments/MT/exp60/models\\resunet_3.h5\n",
      "New best val loss. Val loss: 0.01261. Early stop count: 0\n",
      "Epoch: 21\n",
      "Anneling Coeficient [1.]\n",
      "319/319 [==============================] - 28s 88ms/step - loss: 0.0391 - accuracy: 0.6696 - val_loss: 0.0126 - val_accuracy: 0.7559\n",
      "\n",
      "Epoch 00001: val_loss improved from 0.01261 to 0.01257, saving model to D:/Jorge/datasets/deforestation/experiments/MT/exp60/models\\resunet_3.h5\n",
      "New best val loss. Val loss: 0.01257. Early stop count: 0\n",
      "Epoch: 22\n",
      "Anneling Coeficient [1.]\n",
      "319/319 [==============================] - 28s 88ms/step - loss: 0.0375 - accuracy: 0.6710 - val_loss: 0.0143 - val_accuracy: 0.7516\n",
      "\n",
      "Epoch 00001: val_loss did not improve from 0.01257\n",
      "Early stop count: 1\n",
      "Epoch: 23\n",
      "Anneling Coeficient [1.]\n",
      "319/319 [==============================] - 29s 90ms/step - loss: 0.0363 - accuracy: 0.6722 - val_loss: 0.0130 - val_accuracy: 0.7444\n",
      "\n",
      "Epoch 00001: val_loss did not improve from 0.01257\n",
      "Early stop count: 2\n",
      "Epoch: 24\n",
      "Anneling Coeficient [1.]\n",
      "319/319 [==============================] - 28s 88ms/step - loss: 0.0359 - accuracy: 0.6727 - val_loss: 0.0133 - val_accuracy: 0.7336\n",
      "\n",
      "Epoch 00001: val_loss did not improve from 0.01257\n",
      "Early stop count: 3\n",
      "Epoch: 25\n",
      "Anneling Coeficient [1.]\n",
      "319/319 [==============================] - 28s 87ms/step - loss: 0.0343 - accuracy: 0.6747 - val_loss: 0.0128 - val_accuracy: 0.7375\n",
      "\n",
      "Epoch 00001: val_loss did not improve from 0.01257\n",
      "Early stop count: 4\n",
      "Epoch: 26\n",
      "Anneling Coeficient [1.]\n",
      "319/319 [==============================] - 27s 86ms/step - loss: 0.0345 - accuracy: 0.6743 - val_loss: 0.0127 - val_accuracy: 0.7332\n",
      "\n",
      "Epoch 00001: val_loss did not improve from 0.01257\n",
      "Early stop count: 5\n",
      "Epoch: 27\n",
      "Anneling Coeficient [1.]\n",
      "319/319 [==============================] - 26s 83ms/step - loss: 0.0335 - accuracy: 0.6752 - val_loss: 0.0129 - val_accuracy: 0.7517\n",
      "\n",
      "Epoch 00001: val_loss did not improve from 0.01257\n",
      "Early stop count: 6\n",
      "Epoch: 28\n",
      "Anneling Coeficient [1.]\n",
      "319/319 [==============================] - 27s 85ms/step - loss: 0.0325 - accuracy: 0.6761 - val_loss: 0.0129 - val_accuracy: 0.7394\n",
      "\n",
      "Epoch 00001: val_loss did not improve from 0.01257\n",
      "Early stop count: 7\n",
      "Epoch: 29\n",
      "Anneling Coeficient [1.]\n",
      "319/319 [==============================] - 27s 85ms/step - loss: 0.0317 - accuracy: 0.6773 - val_loss: 0.0128 - val_accuracy: 0.7349\n",
      "\n",
      "Epoch 00001: val_loss did not improve from 0.01257\n",
      "Early stop count: 8\n",
      "Epoch: 30\n",
      "Anneling Coeficient [1.]\n",
      "319/319 [==============================] - 28s 87ms/step - loss: 0.0308 - accuracy: 0.6779 - val_loss: 0.0118 - val_accuracy: 0.7492\n",
      "\n",
      "Epoch 00001: val_loss improved from 0.01257 to 0.01181, saving model to D:/Jorge/datasets/deforestation/experiments/MT/exp60/models\\resunet_3.h5\n",
      "New best val loss. Val loss: 0.01181. Early stop count: 0\n",
      "Epoch: 31\n",
      "Anneling Coeficient [1.]\n",
      "319/319 [==============================] - 28s 87ms/step - loss: 0.0302 - accuracy: 0.6784 - val_loss: 0.0117 - val_accuracy: 0.7564\n",
      "\n",
      "Epoch 00001: val_loss improved from 0.01181 to 0.01166, saving model to D:/Jorge/datasets/deforestation/experiments/MT/exp60/models\\resunet_3.h5\n",
      "New best val loss. Val loss: 0.01166. Early stop count: 0\n",
      "Epoch: 32\n",
      "Anneling Coeficient [1.]\n",
      "319/319 [==============================] - 28s 88ms/step - loss: 0.0292 - accuracy: 0.6800 - val_loss: 0.0127 - val_accuracy: 0.7521\n",
      "\n",
      "Epoch 00001: val_loss did not improve from 0.01166\n",
      "Early stop count: 1\n",
      "Epoch: 33\n",
      "Anneling Coeficient [1.]\n",
      "319/319 [==============================] - 28s 88ms/step - loss: 0.0292 - accuracy: 0.6793 - val_loss: 0.0131 - val_accuracy: 0.7441\n",
      "\n",
      "Epoch 00001: val_loss did not improve from 0.01166\n",
      "Early stop count: 2\n",
      "Epoch: 34\n",
      "Anneling Coeficient [1.]\n",
      "319/319 [==============================] - 29s 90ms/step - loss: 0.0288 - accuracy: 0.6808 - val_loss: 0.0145 - val_accuracy: 0.7331\n",
      "\n",
      "Epoch 00001: val_loss did not improve from 0.01166\n",
      "Early stop count: 3\n",
      "Epoch: 35\n",
      "Anneling Coeficient [1.]\n",
      "319/319 [==============================] - 27s 85ms/step - loss: 0.0285 - accuracy: 0.6806 - val_loss: 0.0126 - val_accuracy: 0.7374\n",
      "\n",
      "Epoch 00001: val_loss did not improve from 0.01166\n",
      "Early stop count: 4\n",
      "Epoch: 36\n",
      "Anneling Coeficient [1.]\n",
      "319/319 [==============================] - 28s 87ms/step - loss: 0.0280 - accuracy: 0.6814 - val_loss: 0.0131 - val_accuracy: 0.7330\n",
      "\n",
      "Epoch 00001: val_loss did not improve from 0.01166\n",
      "Early stop count: 5\n",
      "Epoch: 37\n",
      "Anneling Coeficient [1.]\n",
      "319/319 [==============================] - 28s 87ms/step - loss: 0.0272 - accuracy: 0.6816 - val_loss: 0.0137 - val_accuracy: 0.7513\n",
      "\n",
      "Epoch 00001: val_loss did not improve from 0.01166\n",
      "Early stop count: 6\n",
      "Epoch: 38\n",
      "Anneling Coeficient [1.]\n",
      "319/319 [==============================] - 28s 88ms/step - loss: 0.0270 - accuracy: 0.6817 - val_loss: 0.0136 - val_accuracy: 0.7393\n",
      "\n",
      "Epoch 00001: val_loss did not improve from 0.01166\n",
      "Early stop count: 7\n",
      "Epoch: 39\n",
      "Anneling Coeficient [1.]\n",
      "319/319 [==============================] - 28s 87ms/step - loss: 0.0268 - accuracy: 0.6815 - val_loss: 0.0126 - val_accuracy: 0.7348\n",
      "\n",
      "Epoch 00001: val_loss did not improve from 0.01166\n",
      "Early stop count: 8\n",
      "Epoch: 40\n",
      "Anneling Coeficient [1.]\n",
      "319/319 [==============================] - 28s 89ms/step - loss: 0.0258 - accuracy: 0.6842 - val_loss: 0.0123 - val_accuracy: 0.7489\n",
      "\n",
      "Epoch 00001: val_loss did not improve from 0.01166\n",
      "Early stop count: 9\n",
      "Epoch: 41\n",
      "Anneling Coeficient [1.]\n",
      "319/319 [==============================] - 27s 85ms/step - loss: 0.0254 - accuracy: 0.6841 - val_loss: 0.0128 - val_accuracy: 0.7560\n",
      "\n",
      "Epoch 00001: val_loss did not improve from 0.01166\n",
      "Early stop count: 10\n",
      "Early stopping\n",
      "10 10\n",
      "Finished Training\n",
      "Training time:  1150.8904678821564\n",
      "time:  4\n",
      "Model: \"model_4\"\n",
      "__________________________________________________________________________________________________\n",
      "Layer (type)                    Output Shape         Param #     Connected to                     \n",
      "==================================================================================================\n",
      "input_enc_net (InputLayer)      [(None, 128, 128, 21 0                                            \n",
      "__________________________________________________________________________________________________\n",
      "res1_net1 (Conv2D)              (None, 128, 128, 16) 3040        input_enc_net[0][0]              \n",
      "__________________________________________________________________________________________________\n",
      "drop_net1 (SpatialDropout2D)    (None, 128, 128, 16) 0           res1_net1[0][0]                  \n",
      "__________________________________________________________________________________________________\n",
      "res2_net1 (Conv2D)              (None, 128, 128, 16) 2320        drop_net1[0][0]                  \n",
      "__________________________________________________________________________________________________\n",
      "res3_net1 (Conv2D)              (None, 128, 128, 16) 352         input_enc_net[0][0]              \n",
      "__________________________________________________________________________________________________\n",
      "add_24 (Add)                    (None, 128, 128, 16) 0           res2_net1[0][0]                  \n",
      "                                                                 res3_net1[0][0]                  \n",
      "__________________________________________________________________________________________________\n",
      "pool_net1 (MaxPooling2D)        (None, 64, 64, 16)   0           add_24[0][0]                     \n",
      "__________________________________________________________________________________________________\n",
      "res1_net2 (Conv2D)              (None, 64, 64, 32)   4640        pool_net1[0][0]                  \n",
      "__________________________________________________________________________________________________\n",
      "drop_net2 (SpatialDropout2D)    (None, 64, 64, 32)   0           res1_net2[0][0]                  \n",
      "__________________________________________________________________________________________________\n",
      "res2_net2 (Conv2D)              (None, 64, 64, 32)   9248        drop_net2[0][0]                  \n",
      "__________________________________________________________________________________________________\n",
      "res3_net2 (Conv2D)              (None, 64, 64, 32)   544         pool_net1[0][0]                  \n",
      "__________________________________________________________________________________________________\n",
      "add_25 (Add)                    (None, 64, 64, 32)   0           res2_net2[0][0]                  \n",
      "                                                                 res3_net2[0][0]                  \n",
      "__________________________________________________________________________________________________\n",
      "pool_net2 (MaxPooling2D)        (None, 32, 32, 32)   0           add_25[0][0]                     \n",
      "__________________________________________________________________________________________________\n",
      "res1_net3 (Conv2D)              (None, 32, 32, 64)   18496       pool_net2[0][0]                  \n",
      "__________________________________________________________________________________________________\n",
      "drop_net3 (SpatialDropout2D)    (None, 32, 32, 64)   0           res1_net3[0][0]                  \n",
      "__________________________________________________________________________________________________\n",
      "res2_net3 (Conv2D)              (None, 32, 32, 64)   36928       drop_net3[0][0]                  \n",
      "__________________________________________________________________________________________________\n",
      "res3_net3 (Conv2D)              (None, 32, 32, 64)   2112        pool_net2[0][0]                  \n",
      "__________________________________________________________________________________________________\n",
      "add_26 (Add)                    (None, 32, 32, 64)   0           res2_net3[0][0]                  \n",
      "                                                                 res3_net3[0][0]                  \n",
      "__________________________________________________________________________________________________\n",
      "pool_net3 (MaxPooling2D)        (None, 16, 16, 64)   0           add_26[0][0]                     \n",
      "__________________________________________________________________________________________________\n",
      "res1_net4 (Conv2D)              (None, 16, 16, 64)   36928       pool_net3[0][0]                  \n",
      "__________________________________________________________________________________________________\n",
      "drop_net4 (SpatialDropout2D)    (None, 16, 16, 64)   0           res1_net4[0][0]                  \n",
      "__________________________________________________________________________________________________\n",
      "res2_net4 (Conv2D)              (None, 16, 16, 64)   36928       drop_net4[0][0]                  \n",
      "__________________________________________________________________________________________________\n",
      "res3_net4 (Conv2D)              (None, 16, 16, 64)   4160        pool_net3[0][0]                  \n",
      "__________________________________________________________________________________________________\n",
      "add_27 (Add)                    (None, 16, 16, 64)   0           res2_net4[0][0]                  \n",
      "                                                                 res3_net4[0][0]                  \n",
      "__________________________________________________________________________________________________\n",
      "res1_net5 (Conv2D)              (None, 16, 16, 64)   36928       add_27[0][0]                     \n",
      "__________________________________________________________________________________________________\n",
      "drop_net5 (SpatialDropout2D)    (None, 16, 16, 64)   0           res1_net5[0][0]                  \n",
      "__________________________________________________________________________________________________\n",
      "res2_net5 (Conv2D)              (None, 16, 16, 64)   36928       drop_net5[0][0]                  \n",
      "__________________________________________________________________________________________________\n",
      "res3_net5 (Conv2D)              (None, 16, 16, 64)   4160        add_27[0][0]                     \n",
      "__________________________________________________________________________________________________\n",
      "add_28 (Add)                    (None, 16, 16, 64)   0           res2_net5[0][0]                  \n",
      "                                                                 res3_net5[0][0]                  \n",
      "__________________________________________________________________________________________________\n",
      "res1_net6 (Conv2D)              (None, 16, 16, 64)   36928       add_28[0][0]                     \n",
      "__________________________________________________________________________________________________\n",
      "drop_net6 (SpatialDropout2D)    (None, 16, 16, 64)   0           res1_net6[0][0]                  \n",
      "__________________________________________________________________________________________________\n",
      "res2_net6 (Conv2D)              (None, 16, 16, 64)   36928       drop_net6[0][0]                  \n",
      "__________________________________________________________________________________________________\n",
      "res3_net6 (Conv2D)              (None, 16, 16, 64)   4160        add_28[0][0]                     \n",
      "__________________________________________________________________________________________________\n",
      "add_29 (Add)                    (None, 16, 16, 64)   0           res2_net6[0][0]                  \n",
      "                                                                 res3_net6[0][0]                  \n",
      "__________________________________________________________________________________________________\n",
      "up_sampling2d_12 (UpSampling2D) (None, 32, 32, 64)   0           add_29[0][0]                     \n",
      "__________________________________________________________________________________________________\n",
      "upsampling_net3 (Conv2D)        (None, 32, 32, 64)   36928       up_sampling2d_12[0][0]           \n",
      "__________________________________________________________________________________________________\n",
      "spatial_dropout2d_12 (SpatialDr (None, 32, 32, 64)   0           upsampling_net3[0][0]            \n",
      "__________________________________________________________________________________________________\n",
      "concatenate3 (Concatenate)      (None, 32, 32, 128)  0           add_26[0][0]                     \n",
      "                                                                 spatial_dropout2d_12[0][0]       \n",
      "__________________________________________________________________________________________________\n",
      "up_sampling2d_13 (UpSampling2D) (None, 64, 64, 128)  0           concatenate3[0][0]               \n",
      "__________________________________________________________________________________________________\n",
      "upsampling_net2 (Conv2D)        (None, 64, 64, 32)   36896       up_sampling2d_13[0][0]           \n",
      "__________________________________________________________________________________________________\n",
      "spatial_dropout2d_13 (SpatialDr (None, 64, 64, 32)   0           upsampling_net2[0][0]            \n",
      "__________________________________________________________________________________________________\n",
      "concatenate2 (Concatenate)      (None, 64, 64, 64)   0           add_25[0][0]                     \n",
      "                                                                 spatial_dropout2d_13[0][0]       \n",
      "__________________________________________________________________________________________________\n",
      "up_sampling2d_14 (UpSampling2D) (None, 128, 128, 64) 0           concatenate2[0][0]               \n",
      "__________________________________________________________________________________________________\n",
      "upsampling_net1 (Conv2D)        (None, 128, 128, 16) 9232        up_sampling2d_14[0][0]           \n",
      "__________________________________________________________________________________________________\n",
      "spatial_dropout2d_14 (SpatialDr (None, 128, 128, 16) 0           upsampling_net1[0][0]            \n",
      "__________________________________________________________________________________________________\n",
      "concatenate1 (Concatenate)      (None, 128, 128, 32) 0           add_24[0][0]                     \n",
      "                                                                 spatial_dropout2d_14[0][0]       \n",
      "__________________________________________________________________________________________________\n",
      "output (Conv2D)                 (None, 128, 128, 2)  66          concatenate1[0][0]               \n",
      "__________________________________________________________________________________________________\n",
      "dirichlet_layer_4 (DirichletLay (None, 128, 128, 2)  0           output[0][0]                     \n",
      "==================================================================================================\n",
      "Total params: 394,850\n",
      "Trainable params: 394,850\n",
      "Non-trainable params: 0\n",
      "__________________________________________________________________________________________________\n",
      "Epoch: 1\n",
      "Anneling Coeficient [1.]\n",
      "K.int_shape(mse) (None, 128, 128, 1)\n",
      "K.int_shape(mask) (None, None, None, 1)\n",
      "K.int_shape(E) (None, 128, 128, 2)\n",
      "K.int_shape(y_truth) (None, None, None, None)\n",
      "K.int_shape(mse) (None, 128, 128, 1)\n",
      "K.int_shape(mask) (None, None, None, 1)\n",
      "K.int_shape(E) (None, 128, 128, 2)\n",
      "K.int_shape(y_truth) (None, None, None, None)\n",
      "319/319 [==============================] - ETA: 0s - loss: 0.1230 - accuracy: 0.5927K.int_shape(mse) (None, 128, 128, 1)\n",
      "K.int_shape(mask) (None, None, None, 1)\n",
      "K.int_shape(E) (None, 128, 128, 2)\n",
      "K.int_shape(y_truth) (None, None, None, None)\n",
      "319/319 [==============================] - 31s 90ms/step - loss: 0.1230 - accuracy: 0.5927 - val_loss: 0.0437 - val_accuracy: 0.7434\n",
      "\n",
      "Epoch 00001: val_loss improved from inf to 0.04374, saving model to D:/Jorge/datasets/deforestation/experiments/MT/exp60/models\\resunet_4.h5\n",
      "New best val loss. Val loss: 0.04374. Early stop count: 0\n",
      "Epoch: 2\n",
      "Anneling Coeficient [0.1]\n",
      "319/319 [==============================] - 28s 88ms/step - loss: 0.0770 - accuracy: 0.6350 - val_loss: 0.0278 - val_accuracy: 0.7402\n",
      "\n",
      "Epoch 00001: val_loss improved from 0.04374 to 0.02781, saving model to D:/Jorge/datasets/deforestation/experiments/MT/exp60/models\\resunet_4.h5\n",
      "New best val loss. Val loss: 0.02781. Early stop count: 0\n",
      "Epoch: 3\n",
      "Anneling Coeficient [0.2]\n",
      "319/319 [==============================] - 28s 89ms/step - loss: 0.0689 - accuracy: 0.6412 - val_loss: 0.0248 - val_accuracy: 0.7305\n",
      "\n",
      "Epoch 00001: val_loss improved from 0.02781 to 0.02478, saving model to D:/Jorge/datasets/deforestation/experiments/MT/exp60/models\\resunet_4.h5\n",
      "New best val loss. Val loss: 0.02478. Early stop count: 0\n",
      "Epoch: 4\n",
      "Anneling Coeficient [0.3]\n",
      "319/319 [==============================] - 28s 88ms/step - loss: 0.0658 - accuracy: 0.6449 - val_loss: 0.0224 - val_accuracy: 0.7353\n",
      "\n",
      "Epoch 00001: val_loss improved from 0.02478 to 0.02236, saving model to D:/Jorge/datasets/deforestation/experiments/MT/exp60/models\\resunet_4.h5\n",
      "New best val loss. Val loss: 0.02236. Early stop count: 0\n",
      "Epoch: 5\n",
      "Anneling Coeficient [0.4]\n",
      "319/319 [==============================] - 28s 87ms/step - loss: 0.0634 - accuracy: 0.6449 - val_loss: 0.0199 - val_accuracy: 0.7315\n",
      "\n",
      "Epoch 00001: val_loss improved from 0.02236 to 0.01994, saving model to D:/Jorge/datasets/deforestation/experiments/MT/exp60/models\\resunet_4.h5\n",
      "New best val loss. Val loss: 0.01994. Early stop count: 0\n",
      "Epoch: 6\n",
      "Anneling Coeficient [0.5]\n",
      "319/319 [==============================] - 28s 89ms/step - loss: 0.0610 - accuracy: 0.6484 - val_loss: 0.0186 - val_accuracy: 0.7509\n",
      "\n",
      "Epoch 00001: val_loss improved from 0.01994 to 0.01862, saving model to D:/Jorge/datasets/deforestation/experiments/MT/exp60/models\\resunet_4.h5\n",
      "New best val loss. Val loss: 0.01862. Early stop count: 0\n",
      "Epoch: 7\n",
      "Anneling Coeficient [0.6]\n",
      "319/319 [==============================] - 28s 88ms/step - loss: 0.0590 - accuracy: 0.6500 - val_loss: 0.0182 - val_accuracy: 0.7395\n",
      "\n",
      "Epoch 00001: val_loss improved from 0.01862 to 0.01823, saving model to D:/Jorge/datasets/deforestation/experiments/MT/exp60/models\\resunet_4.h5\n",
      "New best val loss. Val loss: 0.01823. Early stop count: 0\n",
      "Epoch: 8\n",
      "Anneling Coeficient [0.7]\n",
      "319/319 [==============================] - 28s 87ms/step - loss: 0.0568 - accuracy: 0.6511 - val_loss: 0.0177 - val_accuracy: 0.7348\n",
      "\n",
      "Epoch 00001: val_loss improved from 0.01823 to 0.01774, saving model to D:/Jorge/datasets/deforestation/experiments/MT/exp60/models\\resunet_4.h5\n",
      "New best val loss. Val loss: 0.01774. Early stop count: 0\n",
      "Epoch: 9\n",
      "Anneling Coeficient [0.8]\n",
      "319/319 [==============================] - 28s 89ms/step - loss: 0.0559 - accuracy: 0.6542 - val_loss: 0.0153 - val_accuracy: 0.7486\n",
      "\n",
      "Epoch 00001: val_loss improved from 0.01774 to 0.01528, saving model to D:/Jorge/datasets/deforestation/experiments/MT/exp60/models\\resunet_4.h5\n",
      "New best val loss. Val loss: 0.01528. Early stop count: 0\n",
      "Epoch: 10\n",
      "Anneling Coeficient [0.9]\n",
      "319/319 [==============================] - 28s 87ms/step - loss: 0.0536 - accuracy: 0.6544 - val_loss: 0.0167 - val_accuracy: 0.7538\n",
      "\n",
      "Epoch 00001: val_loss did not improve from 0.01528\n",
      "Early stop count: 1\n",
      "Epoch: 11\n",
      "Anneling Coeficient [1.]\n",
      "319/319 [==============================] - 28s 87ms/step - loss: 0.0526 - accuracy: 0.6551 - val_loss: 0.0153 - val_accuracy: 0.7513\n",
      "\n",
      "Epoch 00001: val_loss did not improve from 0.01528\n",
      "Early stop count: 2\n",
      "Epoch: 12\n",
      "Anneling Coeficient [1.]\n",
      "319/319 [==============================] - 28s 87ms/step - loss: 0.0515 - accuracy: 0.6604 - val_loss: 0.0152 - val_accuracy: 0.7442\n",
      "\n",
      "Epoch 00001: val_loss improved from 0.01528 to 0.01517, saving model to D:/Jorge/datasets/deforestation/experiments/MT/exp60/models\\resunet_4.h5\n",
      "New best val loss. Val loss: 0.01517. Early stop count: 0\n",
      "Epoch: 13\n",
      "Anneling Coeficient [1.]\n",
      "319/319 [==============================] - 28s 89ms/step - loss: 0.0497 - accuracy: 0.6581 - val_loss: 0.0152 - val_accuracy: 0.7340\n",
      "\n",
      "Epoch 00001: val_loss did not improve from 0.01517\n",
      "Early stop count: 1\n",
      "Epoch: 14\n",
      "Anneling Coeficient [1.]\n",
      "319/319 [==============================] - 28s 88ms/step - loss: 0.0480 - accuracy: 0.6592 - val_loss: 0.0159 - val_accuracy: 0.7372\n",
      "\n",
      "Epoch 00001: val_loss did not improve from 0.01517\n",
      "Early stop count: 2\n",
      "Epoch: 15\n",
      "Anneling Coeficient [1.]\n",
      "319/319 [==============================] - 28s 87ms/step - loss: 0.0476 - accuracy: 0.6621 - val_loss: 0.0147 - val_accuracy: 0.7329\n",
      "\n",
      "Epoch 00001: val_loss improved from 0.01517 to 0.01475, saving model to D:/Jorge/datasets/deforestation/experiments/MT/exp60/models\\resunet_4.h5\n",
      "New best val loss. Val loss: 0.01475. Early stop count: 0\n",
      "Epoch: 16\n",
      "Anneling Coeficient [1.]\n",
      "319/319 [==============================] - 29s 90ms/step - loss: 0.0459 - accuracy: 0.6630 - val_loss: 0.0150 - val_accuracy: 0.7515\n",
      "\n",
      "Epoch 00001: val_loss did not improve from 0.01475\n",
      "Early stop count: 1\n",
      "Epoch: 17\n",
      "Anneling Coeficient [1.]\n",
      "319/319 [==============================] - 28s 89ms/step - loss: 0.0449 - accuracy: 0.6623 - val_loss: 0.0138 - val_accuracy: 0.7394\n",
      "\n",
      "Epoch 00001: val_loss improved from 0.01475 to 0.01380, saving model to D:/Jorge/datasets/deforestation/experiments/MT/exp60/models\\resunet_4.h5\n",
      "New best val loss. Val loss: 0.0138. Early stop count: 0\n",
      "Epoch: 18\n",
      "Anneling Coeficient [1.]\n",
      "319/319 [==============================] - 28s 89ms/step - loss: 0.0431 - accuracy: 0.6648 - val_loss: 0.0136 - val_accuracy: 0.7348\n",
      "\n",
      "Epoch 00001: val_loss improved from 0.01380 to 0.01358, saving model to D:/Jorge/datasets/deforestation/experiments/MT/exp60/models\\resunet_4.h5\n",
      "New best val loss. Val loss: 0.01358. Early stop count: 0\n",
      "Epoch: 19\n",
      "Anneling Coeficient [1.]\n",
      "319/319 [==============================] - 29s 91ms/step - loss: 0.0423 - accuracy: 0.6675 - val_loss: 0.0134 - val_accuracy: 0.7487\n",
      "\n",
      "Epoch 00001: val_loss improved from 0.01358 to 0.01337, saving model to D:/Jorge/datasets/deforestation/experiments/MT/exp60/models\\resunet_4.h5\n",
      "New best val loss. Val loss: 0.01337. Early stop count: 0\n",
      "Epoch: 20\n",
      "Anneling Coeficient [1.]\n",
      "319/319 [==============================] - 28s 86ms/step - loss: 0.0405 - accuracy: 0.6666 - val_loss: 0.0131 - val_accuracy: 0.7557\n",
      "\n",
      "Epoch 00001: val_loss improved from 0.01337 to 0.01312, saving model to D:/Jorge/datasets/deforestation/experiments/MT/exp60/models\\resunet_4.h5\n",
      "New best val loss. Val loss: 0.01312. Early stop count: 0\n",
      "Epoch: 21\n",
      "Anneling Coeficient [1.]\n",
      "319/319 [==============================] - 28s 87ms/step - loss: 0.0396 - accuracy: 0.6690 - val_loss: 0.0130 - val_accuracy: 0.7518\n",
      "\n",
      "Epoch 00001: val_loss improved from 0.01312 to 0.01295, saving model to D:/Jorge/datasets/deforestation/experiments/MT/exp60/models\\resunet_4.h5\n",
      "New best val loss. Val loss: 0.01295. Early stop count: 0\n",
      "Epoch: 22\n",
      "Anneling Coeficient [1.]\n",
      "319/319 [==============================] - 28s 87ms/step - loss: 0.0393 - accuracy: 0.6703 - val_loss: 0.0140 - val_accuracy: 0.7436\n",
      "\n",
      "Epoch 00001: val_loss did not improve from 0.01295\n",
      "Early stop count: 1\n",
      "Epoch: 23\n",
      "Anneling Coeficient [1.]\n",
      "319/319 [==============================] - 28s 89ms/step - loss: 0.0373 - accuracy: 0.6708 - val_loss: 0.0133 - val_accuracy: 0.7329\n",
      "\n",
      "Epoch 00001: val_loss did not improve from 0.01295\n",
      "Early stop count: 2\n",
      "Epoch: 24\n",
      "Anneling Coeficient [1.]\n",
      "319/319 [==============================] - 29s 90ms/step - loss: 0.0367 - accuracy: 0.6725 - val_loss: 0.0135 - val_accuracy: 0.7366\n",
      "\n",
      "Epoch 00001: val_loss did not improve from 0.01295\n",
      "Early stop count: 3\n",
      "Epoch: 25\n",
      "Anneling Coeficient [1.]\n",
      "319/319 [==============================] - 28s 87ms/step - loss: 0.0369 - accuracy: 0.6732 - val_loss: 0.0136 - val_accuracy: 0.7323\n",
      "\n",
      "Epoch 00001: val_loss did not improve from 0.01295\n",
      "Early stop count: 4\n",
      "Epoch: 26\n",
      "Anneling Coeficient [1.]\n",
      "319/319 [==============================] - 28s 88ms/step - loss: 0.0351 - accuracy: 0.6723 - val_loss: 0.0144 - val_accuracy: 0.7496\n",
      "\n",
      "Epoch 00001: val_loss did not improve from 0.01295\n",
      "Early stop count: 5\n",
      "Epoch: 27\n",
      "Anneling Coeficient [1.]\n",
      "319/319 [==============================] - 28s 88ms/step - loss: 0.0351 - accuracy: 0.6746 - val_loss: 0.0135 - val_accuracy: 0.7383\n",
      "\n",
      "Epoch 00001: val_loss did not improve from 0.01295\n",
      "Early stop count: 6\n",
      "Epoch: 28\n",
      "Anneling Coeficient [1.]\n",
      "319/319 [==============================] - 27s 85ms/step - loss: 0.0337 - accuracy: 0.6734 - val_loss: 0.0132 - val_accuracy: 0.7338\n",
      "\n",
      "Epoch 00001: val_loss did not improve from 0.01295\n",
      "Early stop count: 7\n",
      "Epoch: 29\n",
      "Anneling Coeficient [1.]\n",
      "319/319 [==============================] - 29s 90ms/step - loss: 0.0332 - accuracy: 0.6773 - val_loss: 0.0118 - val_accuracy: 0.7487\n",
      "\n",
      "Epoch 00001: val_loss improved from 0.01295 to 0.01181, saving model to D:/Jorge/datasets/deforestation/experiments/MT/exp60/models\\resunet_4.h5\n",
      "New best val loss. Val loss: 0.01181. Early stop count: 0\n",
      "Epoch: 30\n",
      "Anneling Coeficient [1.]\n",
      "319/319 [==============================] - 28s 87ms/step - loss: 0.0324 - accuracy: 0.6773 - val_loss: 0.0126 - val_accuracy: 0.7555\n",
      "\n",
      "Epoch 00001: val_loss did not improve from 0.01181\n",
      "Early stop count: 1\n",
      "Epoch: 31\n",
      "Anneling Coeficient [1.]\n",
      "319/319 [==============================] - 28s 87ms/step - loss: 0.0319 - accuracy: 0.6755 - val_loss: 0.0136 - val_accuracy: 0.7504\n",
      "\n",
      "Epoch 00001: val_loss did not improve from 0.01181\n",
      "Early stop count: 2\n",
      "Epoch: 32\n",
      "Anneling Coeficient [1.]\n",
      "319/319 [==============================] - 28s 87ms/step - loss: 0.0315 - accuracy: 0.6801 - val_loss: 0.0129 - val_accuracy: 0.7440\n",
      "\n",
      "Epoch 00001: val_loss did not improve from 0.01181\n",
      "Early stop count: 3\n",
      "Epoch: 33\n",
      "Anneling Coeficient [1.]\n",
      "319/319 [==============================] - 28s 89ms/step - loss: 0.0304 - accuracy: 0.6762 - val_loss: 0.0134 - val_accuracy: 0.7323\n",
      "\n",
      "Epoch 00001: val_loss did not improve from 0.01181\n",
      "Early stop count: 4\n",
      "Epoch: 34\n",
      "Anneling Coeficient [1.]\n",
      "319/319 [==============================] - 28s 88ms/step - loss: 0.0306 - accuracy: 0.6787 - val_loss: 0.0128 - val_accuracy: 0.7367\n",
      "\n",
      "Epoch 00001: val_loss did not improve from 0.01181\n",
      "Early stop count: 5\n",
      "Epoch: 35\n",
      "Anneling Coeficient [1.]\n",
      "319/319 [==============================] - 28s 88ms/step - loss: 0.0298 - accuracy: 0.6796 - val_loss: 0.0134 - val_accuracy: 0.7319\n",
      "\n",
      "Epoch 00001: val_loss did not improve from 0.01181\n",
      "Early stop count: 6\n",
      "Epoch: 36\n",
      "Anneling Coeficient [1.]\n",
      "319/319 [==============================] - 28s 87ms/step - loss: 0.0287 - accuracy: 0.6798 - val_loss: 0.0126 - val_accuracy: 0.7509\n",
      "\n",
      "Epoch 00001: val_loss did not improve from 0.01181\n",
      "Early stop count: 7\n",
      "Epoch: 37\n",
      "Anneling Coeficient [1.]\n",
      "319/319 [==============================] - 29s 90ms/step - loss: 0.0286 - accuracy: 0.6811 - val_loss: 0.0125 - val_accuracy: 0.7391\n",
      "\n",
      "Epoch 00001: val_loss did not improve from 0.01181\n",
      "Early stop count: 8\n",
      "Epoch: 38\n",
      "Anneling Coeficient [1.]\n",
      "319/319 [==============================] - 28s 87ms/step - loss: 0.0279 - accuracy: 0.6821 - val_loss: 0.0128 - val_accuracy: 0.7337\n",
      "\n",
      "Epoch 00001: val_loss did not improve from 0.01181\n",
      "Early stop count: 9\n",
      "Epoch: 39\n",
      "Anneling Coeficient [1.]\n",
      "319/319 [==============================] - 28s 89ms/step - loss: 0.0279 - accuracy: 0.6802 - val_loss: 0.0120 - val_accuracy: 0.7479\n",
      "\n",
      "Epoch 00001: val_loss did not improve from 0.01181\n",
      "Early stop count: 10\n",
      "Early stopping\n",
      "10 10\n",
      "Finished Training\n",
      "Training time:  1103.605250120163\n",
      "time:  5\n",
      "Model: \"model_5\"\n",
      "__________________________________________________________________________________________________\n",
      "Layer (type)                    Output Shape         Param #     Connected to                     \n",
      "==================================================================================================\n",
      "input_enc_net (InputLayer)      [(None, 128, 128, 21 0                                            \n",
      "__________________________________________________________________________________________________\n",
      "res1_net1 (Conv2D)              (None, 128, 128, 16) 3040        input_enc_net[0][0]              \n",
      "__________________________________________________________________________________________________\n",
      "drop_net1 (SpatialDropout2D)    (None, 128, 128, 16) 0           res1_net1[0][0]                  \n",
      "__________________________________________________________________________________________________\n",
      "res2_net1 (Conv2D)              (None, 128, 128, 16) 2320        drop_net1[0][0]                  \n",
      "__________________________________________________________________________________________________\n",
      "res3_net1 (Conv2D)              (None, 128, 128, 16) 352         input_enc_net[0][0]              \n",
      "__________________________________________________________________________________________________\n",
      "add_30 (Add)                    (None, 128, 128, 16) 0           res2_net1[0][0]                  \n",
      "                                                                 res3_net1[0][0]                  \n",
      "__________________________________________________________________________________________________\n",
      "pool_net1 (MaxPooling2D)        (None, 64, 64, 16)   0           add_30[0][0]                     \n",
      "__________________________________________________________________________________________________\n",
      "res1_net2 (Conv2D)              (None, 64, 64, 32)   4640        pool_net1[0][0]                  \n",
      "__________________________________________________________________________________________________\n",
      "drop_net2 (SpatialDropout2D)    (None, 64, 64, 32)   0           res1_net2[0][0]                  \n",
      "__________________________________________________________________________________________________\n",
      "res2_net2 (Conv2D)              (None, 64, 64, 32)   9248        drop_net2[0][0]                  \n",
      "__________________________________________________________________________________________________\n",
      "res3_net2 (Conv2D)              (None, 64, 64, 32)   544         pool_net1[0][0]                  \n",
      "__________________________________________________________________________________________________\n",
      "add_31 (Add)                    (None, 64, 64, 32)   0           res2_net2[0][0]                  \n",
      "                                                                 res3_net2[0][0]                  \n",
      "__________________________________________________________________________________________________\n",
      "pool_net2 (MaxPooling2D)        (None, 32, 32, 32)   0           add_31[0][0]                     \n",
      "__________________________________________________________________________________________________\n",
      "res1_net3 (Conv2D)              (None, 32, 32, 64)   18496       pool_net2[0][0]                  \n",
      "__________________________________________________________________________________________________\n",
      "drop_net3 (SpatialDropout2D)    (None, 32, 32, 64)   0           res1_net3[0][0]                  \n",
      "__________________________________________________________________________________________________\n",
      "res2_net3 (Conv2D)              (None, 32, 32, 64)   36928       drop_net3[0][0]                  \n",
      "__________________________________________________________________________________________________\n",
      "res3_net3 (Conv2D)              (None, 32, 32, 64)   2112        pool_net2[0][0]                  \n",
      "__________________________________________________________________________________________________\n",
      "add_32 (Add)                    (None, 32, 32, 64)   0           res2_net3[0][0]                  \n",
      "                                                                 res3_net3[0][0]                  \n",
      "__________________________________________________________________________________________________\n",
      "pool_net3 (MaxPooling2D)        (None, 16, 16, 64)   0           add_32[0][0]                     \n",
      "__________________________________________________________________________________________________\n",
      "res1_net4 (Conv2D)              (None, 16, 16, 64)   36928       pool_net3[0][0]                  \n",
      "__________________________________________________________________________________________________\n",
      "drop_net4 (SpatialDropout2D)    (None, 16, 16, 64)   0           res1_net4[0][0]                  \n",
      "__________________________________________________________________________________________________\n",
      "res2_net4 (Conv2D)              (None, 16, 16, 64)   36928       drop_net4[0][0]                  \n",
      "__________________________________________________________________________________________________\n",
      "res3_net4 (Conv2D)              (None, 16, 16, 64)   4160        pool_net3[0][0]                  \n",
      "__________________________________________________________________________________________________\n",
      "add_33 (Add)                    (None, 16, 16, 64)   0           res2_net4[0][0]                  \n",
      "                                                                 res3_net4[0][0]                  \n",
      "__________________________________________________________________________________________________\n",
      "res1_net5 (Conv2D)              (None, 16, 16, 64)   36928       add_33[0][0]                     \n",
      "__________________________________________________________________________________________________\n",
      "drop_net5 (SpatialDropout2D)    (None, 16, 16, 64)   0           res1_net5[0][0]                  \n",
      "__________________________________________________________________________________________________\n",
      "res2_net5 (Conv2D)              (None, 16, 16, 64)   36928       drop_net5[0][0]                  \n",
      "__________________________________________________________________________________________________\n",
      "res3_net5 (Conv2D)              (None, 16, 16, 64)   4160        add_33[0][0]                     \n",
      "__________________________________________________________________________________________________\n",
      "add_34 (Add)                    (None, 16, 16, 64)   0           res2_net5[0][0]                  \n",
      "                                                                 res3_net5[0][0]                  \n",
      "__________________________________________________________________________________________________\n",
      "res1_net6 (Conv2D)              (None, 16, 16, 64)   36928       add_34[0][0]                     \n",
      "__________________________________________________________________________________________________\n",
      "drop_net6 (SpatialDropout2D)    (None, 16, 16, 64)   0           res1_net6[0][0]                  \n",
      "__________________________________________________________________________________________________\n",
      "res2_net6 (Conv2D)              (None, 16, 16, 64)   36928       drop_net6[0][0]                  \n",
      "__________________________________________________________________________________________________\n",
      "res3_net6 (Conv2D)              (None, 16, 16, 64)   4160        add_34[0][0]                     \n",
      "__________________________________________________________________________________________________\n",
      "add_35 (Add)                    (None, 16, 16, 64)   0           res2_net6[0][0]                  \n",
      "                                                                 res3_net6[0][0]                  \n",
      "__________________________________________________________________________________________________\n",
      "up_sampling2d_15 (UpSampling2D) (None, 32, 32, 64)   0           add_35[0][0]                     \n",
      "__________________________________________________________________________________________________\n",
      "upsampling_net3 (Conv2D)        (None, 32, 32, 64)   36928       up_sampling2d_15[0][0]           \n",
      "__________________________________________________________________________________________________\n",
      "spatial_dropout2d_15 (SpatialDr (None, 32, 32, 64)   0           upsampling_net3[0][0]            \n",
      "__________________________________________________________________________________________________\n",
      "concatenate3 (Concatenate)      (None, 32, 32, 128)  0           add_32[0][0]                     \n",
      "                                                                 spatial_dropout2d_15[0][0]       \n",
      "__________________________________________________________________________________________________\n",
      "up_sampling2d_16 (UpSampling2D) (None, 64, 64, 128)  0           concatenate3[0][0]               \n",
      "__________________________________________________________________________________________________\n",
      "upsampling_net2 (Conv2D)        (None, 64, 64, 32)   36896       up_sampling2d_16[0][0]           \n",
      "__________________________________________________________________________________________________\n",
      "spatial_dropout2d_16 (SpatialDr (None, 64, 64, 32)   0           upsampling_net2[0][0]            \n",
      "__________________________________________________________________________________________________\n",
      "concatenate2 (Concatenate)      (None, 64, 64, 64)   0           add_31[0][0]                     \n",
      "                                                                 spatial_dropout2d_16[0][0]       \n",
      "__________________________________________________________________________________________________\n",
      "up_sampling2d_17 (UpSampling2D) (None, 128, 128, 64) 0           concatenate2[0][0]               \n",
      "__________________________________________________________________________________________________\n",
      "upsampling_net1 (Conv2D)        (None, 128, 128, 16) 9232        up_sampling2d_17[0][0]           \n",
      "__________________________________________________________________________________________________\n",
      "spatial_dropout2d_17 (SpatialDr (None, 128, 128, 16) 0           upsampling_net1[0][0]            \n",
      "__________________________________________________________________________________________________\n",
      "concatenate1 (Concatenate)      (None, 128, 128, 32) 0           add_30[0][0]                     \n",
      "                                                                 spatial_dropout2d_17[0][0]       \n",
      "__________________________________________________________________________________________________\n",
      "output (Conv2D)                 (None, 128, 128, 2)  66          concatenate1[0][0]               \n",
      "__________________________________________________________________________________________________\n",
      "dirichlet_layer_5 (DirichletLay (None, 128, 128, 2)  0           output[0][0]                     \n",
      "==================================================================================================\n",
      "Total params: 394,850\n",
      "Trainable params: 394,850\n",
      "Non-trainable params: 0\n",
      "__________________________________________________________________________________________________\n",
      "Epoch: 1\n",
      "Anneling Coeficient [1.]\n",
      "K.int_shape(mse) (None, 128, 128, 1)\n",
      "K.int_shape(mask) (None, None, None, 1)\n",
      "K.int_shape(E) (None, 128, 128, 2)\n",
      "K.int_shape(y_truth) (None, None, None, None)\n",
      "K.int_shape(mse) (None, 128, 128, 1)\n",
      "K.int_shape(mask) (None, None, None, 1)\n",
      "K.int_shape(E) (None, 128, 128, 2)\n",
      "K.int_shape(y_truth) (None, None, None, None)\n",
      "319/319 [==============================] - ETA: 0s - loss: 0.1143 - accuracy: 0.5975K.int_shape(mse) (None, 128, 128, 1)\n",
      "K.int_shape(mask) (None, None, None, 1)\n",
      "K.int_shape(E) (None, 128, 128, 2)\n",
      "K.int_shape(y_truth) (None, None, None, None)\n",
      "319/319 [==============================] - 29s 86ms/step - loss: 0.1143 - accuracy: 0.5975 - val_loss: 0.0452 - val_accuracy: 0.7465\n",
      "\n",
      "Epoch 00001: val_loss improved from inf to 0.04516, saving model to D:/Jorge/datasets/deforestation/experiments/MT/exp60/models\\resunet_5.h5\n",
      "New best val loss. Val loss: 0.04516. Early stop count: 0\n",
      "Epoch: 2\n",
      "Anneling Coeficient [0.1]\n",
      "319/319 [==============================] - 28s 89ms/step - loss: 0.0743 - accuracy: 0.6367 - val_loss: 0.0278 - val_accuracy: 0.7471\n",
      "\n",
      "Epoch 00001: val_loss improved from 0.04516 to 0.02777, saving model to D:/Jorge/datasets/deforestation/experiments/MT/exp60/models\\resunet_5.h5\n",
      "New best val loss. Val loss: 0.02777. Early stop count: 0\n",
      "Epoch: 3\n",
      "Anneling Coeficient [0.2]\n",
      "319/319 [==============================] - 28s 86ms/step - loss: 0.0666 - accuracy: 0.6434 - val_loss: 0.0232 - val_accuracy: 0.7405\n",
      "\n",
      "Epoch 00001: val_loss improved from 0.02777 to 0.02323, saving model to D:/Jorge/datasets/deforestation/experiments/MT/exp60/models\\resunet_5.h5\n",
      "New best val loss. Val loss: 0.02323. Early stop count: 0\n",
      "Epoch: 4\n",
      "Anneling Coeficient [0.3]\n",
      "319/319 [==============================] - 28s 88ms/step - loss: 0.0637 - accuracy: 0.6449 - val_loss: 0.0214 - val_accuracy: 0.7302\n",
      "\n",
      "Epoch 00001: val_loss improved from 0.02323 to 0.02141, saving model to D:/Jorge/datasets/deforestation/experiments/MT/exp60/models\\resunet_5.h5\n",
      "New best val loss. Val loss: 0.02141. Early stop count: 0\n",
      "Epoch: 5\n",
      "Anneling Coeficient [0.4]\n",
      "319/319 [==============================] - 27s 85ms/step - loss: 0.0606 - accuracy: 0.6489 - val_loss: 0.0200 - val_accuracy: 0.7355\n",
      "\n",
      "Epoch 00001: val_loss improved from 0.02141 to 0.02004, saving model to D:/Jorge/datasets/deforestation/experiments/MT/exp60/models\\resunet_5.h5\n",
      "New best val loss. Val loss: 0.02004. Early stop count: 0\n",
      "Epoch: 6\n",
      "Anneling Coeficient [0.5]\n",
      "319/319 [==============================] - 27s 85ms/step - loss: 0.0583 - accuracy: 0.6480 - val_loss: 0.0180 - val_accuracy: 0.7306\n",
      "\n",
      "Epoch 00001: val_loss improved from 0.02004 to 0.01796, saving model to D:/Jorge/datasets/deforestation/experiments/MT/exp60/models\\resunet_5.h5\n",
      "New best val loss. Val loss: 0.01796. Early stop count: 0\n",
      "Epoch: 7\n",
      "Anneling Coeficient [0.6]\n",
      "319/319 [==============================] - 28s 89ms/step - loss: 0.0576 - accuracy: 0.6511 - val_loss: 0.0205 - val_accuracy: 0.7460\n",
      "\n",
      "Epoch 00001: val_loss did not improve from 0.01796\n",
      "Early stop count: 1\n",
      "Epoch: 8\n",
      "Anneling Coeficient [0.7]\n",
      "319/319 [==============================] - 27s 86ms/step - loss: 0.0551 - accuracy: 0.6544 - val_loss: 0.0161 - val_accuracy: 0.7382\n",
      "\n",
      "Epoch 00001: val_loss improved from 0.01796 to 0.01611, saving model to D:/Jorge/datasets/deforestation/experiments/MT/exp60/models\\resunet_5.h5\n",
      "New best val loss. Val loss: 0.01611. Early stop count: 0\n",
      "Epoch: 9\n",
      "Anneling Coeficient [0.8]\n",
      "319/319 [==============================] - 28s 87ms/step - loss: 0.0528 - accuracy: 0.6534 - val_loss: 0.0171 - val_accuracy: 0.7330\n",
      "\n",
      "Epoch 00001: val_loss did not improve from 0.01611\n",
      "Early stop count: 1\n",
      "Epoch: 10\n",
      "Anneling Coeficient [0.9]\n",
      "319/319 [==============================] - 28s 87ms/step - loss: 0.0527 - accuracy: 0.6567 - val_loss: 0.0169 - val_accuracy: 0.7464\n",
      "\n",
      "Epoch 00001: val_loss did not improve from 0.01611\n",
      "Early stop count: 2\n",
      "Epoch: 11\n",
      "Anneling Coeficient [1.]\n",
      "319/319 [==============================] - 28s 87ms/step - loss: 0.0502 - accuracy: 0.6577 - val_loss: 0.0198 - val_accuracy: 0.7545\n",
      "\n",
      "Epoch 00001: val_loss did not improve from 0.01611\n",
      "Early stop count: 3\n",
      "Epoch: 12\n",
      "Anneling Coeficient [1.]\n",
      "319/319 [==============================] - 28s 87ms/step - loss: 0.0487 - accuracy: 0.6590 - val_loss: 0.0165 - val_accuracy: 0.7504\n",
      "\n",
      "Epoch 00001: val_loss did not improve from 0.01611\n",
      "Early stop count: 4\n",
      "Epoch: 13\n",
      "Anneling Coeficient [1.]\n",
      "319/319 [==============================] - 27s 86ms/step - loss: 0.0468 - accuracy: 0.6619 - val_loss: 0.0156 - val_accuracy: 0.7435\n",
      "\n",
      "Epoch 00001: val_loss improved from 0.01611 to 0.01564, saving model to D:/Jorge/datasets/deforestation/experiments/MT/exp60/models\\resunet_5.h5\n",
      "New best val loss. Val loss: 0.01564. Early stop count: 0\n",
      "Epoch: 14\n",
      "Anneling Coeficient [1.]\n",
      "319/319 [==============================] - 28s 88ms/step - loss: 0.0474 - accuracy: 0.6613 - val_loss: 0.0155 - val_accuracy: 0.7335\n",
      "\n",
      "Epoch 00001: val_loss improved from 0.01564 to 0.01551, saving model to D:/Jorge/datasets/deforestation/experiments/MT/exp60/models\\resunet_5.h5\n",
      "New best val loss. Val loss: 0.01551. Early stop count: 0\n",
      "Epoch: 15\n",
      "Anneling Coeficient [1.]\n",
      "319/319 [==============================] - 27s 85ms/step - loss: 0.0444 - accuracy: 0.6645 - val_loss: 0.0175 - val_accuracy: 0.7362\n",
      "\n",
      "Epoch 00001: val_loss did not improve from 0.01551\n",
      "Early stop count: 1\n",
      "Epoch: 16\n",
      "Anneling Coeficient [1.]\n",
      "319/319 [==============================] - 27s 85ms/step - loss: 0.0435 - accuracy: 0.6619 - val_loss: 0.0155 - val_accuracy: 0.7317\n",
      "\n",
      "Epoch 00001: val_loss improved from 0.01551 to 0.01546, saving model to D:/Jorge/datasets/deforestation/experiments/MT/exp60/models\\resunet_5.h5\n",
      "New best val loss. Val loss: 0.01546. Early stop count: 0\n",
      "Epoch: 17\n",
      "Anneling Coeficient [1.]\n",
      "319/319 [==============================] - 28s 89ms/step - loss: 0.0423 - accuracy: 0.6680 - val_loss: 0.0137 - val_accuracy: 0.7512\n",
      "\n",
      "Epoch 00001: val_loss improved from 0.01546 to 0.01369, saving model to D:/Jorge/datasets/deforestation/experiments/MT/exp60/models\\resunet_5.h5\n",
      "New best val loss. Val loss: 0.01369. Early stop count: 0\n",
      "Epoch: 18\n",
      "Anneling Coeficient [1.]\n",
      "319/319 [==============================] - 27s 86ms/step - loss: 0.0419 - accuracy: 0.6645 - val_loss: 0.0143 - val_accuracy: 0.7393\n",
      "\n",
      "Epoch 00001: val_loss did not improve from 0.01369\n",
      "Early stop count: 1\n",
      "Epoch: 19\n",
      "Anneling Coeficient [1.]\n",
      "319/319 [==============================] - 27s 86ms/step - loss: 0.0405 - accuracy: 0.6672 - val_loss: 0.0157 - val_accuracy: 0.7339\n",
      "\n",
      "Epoch 00001: val_loss did not improve from 0.01369\n",
      "Early stop count: 2\n",
      "Epoch: 20\n",
      "Anneling Coeficient [1.]\n",
      "319/319 [==============================] - 27s 86ms/step - loss: 0.0393 - accuracy: 0.6695 - val_loss: 0.0133 - val_accuracy: 0.7479\n",
      "\n",
      "Epoch 00001: val_loss improved from 0.01369 to 0.01330, saving model to D:/Jorge/datasets/deforestation/experiments/MT/exp60/models\\resunet_5.h5\n",
      "New best val loss. Val loss: 0.0133. Early stop count: 0\n",
      "Epoch: 21\n",
      "Anneling Coeficient [1.]\n",
      "319/319 [==============================] - 27s 86ms/step - loss: 0.0389 - accuracy: 0.6698 - val_loss: 0.0140 - val_accuracy: 0.7549\n",
      "\n",
      "Epoch 00001: val_loss did not improve from 0.01330\n",
      "Early stop count: 1\n",
      "Epoch: 22\n",
      "Anneling Coeficient [1.]\n",
      "319/319 [==============================] - 28s 87ms/step - loss: 0.0370 - accuracy: 0.6701 - val_loss: 0.0130 - val_accuracy: 0.7514\n",
      "\n",
      "Epoch 00001: val_loss improved from 0.01330 to 0.01295, saving model to D:/Jorge/datasets/deforestation/experiments/MT/exp60/models\\resunet_5.h5\n",
      "New best val loss. Val loss: 0.01295. Early stop count: 0\n",
      "Epoch: 23\n",
      "Anneling Coeficient [1.]\n",
      "319/319 [==============================] - 27s 86ms/step - loss: 0.0366 - accuracy: 0.6723 - val_loss: 0.0135 - val_accuracy: 0.7435\n",
      "\n",
      "Epoch 00001: val_loss did not improve from 0.01295\n",
      "Early stop count: 1\n",
      "Epoch: 24\n",
      "Anneling Coeficient [1.]\n",
      "319/319 [==============================] - 29s 90ms/step - loss: 0.0357 - accuracy: 0.6712 - val_loss: 0.0170 - val_accuracy: 0.7277\n",
      "\n",
      "Epoch 00001: val_loss did not improve from 0.01295\n",
      "Early stop count: 2\n",
      "Epoch: 25\n",
      "Anneling Coeficient [1.]\n",
      "319/319 [==============================] - 27s 86ms/step - loss: 0.0341 - accuracy: 0.6762 - val_loss: 0.0159 - val_accuracy: 0.7335\n",
      "\n",
      "Epoch 00001: val_loss did not improve from 0.01295\n",
      "Early stop count: 3\n",
      "Epoch: 26\n",
      "Anneling Coeficient [1.]\n",
      "319/319 [==============================] - 28s 88ms/step - loss: 0.0334 - accuracy: 0.6736 - val_loss: 0.0143 - val_accuracy: 0.7305\n",
      "\n",
      "Epoch 00001: val_loss did not improve from 0.01295\n",
      "Early stop count: 4\n",
      "Epoch: 27\n",
      "Anneling Coeficient [1.]\n",
      "319/319 [==============================] - 29s 90ms/step - loss: 0.0321 - accuracy: 0.6762 - val_loss: 0.0155 - val_accuracy: 0.7472\n",
      "\n",
      "Epoch 00001: val_loss did not improve from 0.01295\n",
      "Early stop count: 5\n",
      "Epoch: 28\n",
      "Anneling Coeficient [1.]\n",
      "319/319 [==============================] - 28s 88ms/step - loss: 0.0318 - accuracy: 0.6773 - val_loss: 0.0145 - val_accuracy: 0.7364\n",
      "\n",
      "Epoch 00001: val_loss did not improve from 0.01295\n",
      "Early stop count: 6\n",
      "Epoch: 29\n",
      "Anneling Coeficient [1.]\n",
      "319/319 [==============================] - 28s 87ms/step - loss: 0.0317 - accuracy: 0.6775 - val_loss: 0.0132 - val_accuracy: 0.7332\n",
      "\n",
      "Epoch 00001: val_loss did not improve from 0.01295\n",
      "Early stop count: 7\n",
      "Epoch: 30\n",
      "Anneling Coeficient [1.]\n",
      "319/319 [==============================] - 28s 88ms/step - loss: 0.0301 - accuracy: 0.6789 - val_loss: 0.0122 - val_accuracy: 0.7476\n",
      "\n",
      "Epoch 00001: val_loss improved from 0.01295 to 0.01222, saving model to D:/Jorge/datasets/deforestation/experiments/MT/exp60/models\\resunet_5.h5\n",
      "New best val loss. Val loss: 0.01222. Early stop count: 0\n",
      "Epoch: 31\n",
      "Anneling Coeficient [1.]\n",
      "319/319 [==============================] - 28s 88ms/step - loss: 0.0305 - accuracy: 0.6777 - val_loss: 0.0120 - val_accuracy: 0.7552\n",
      "\n",
      "Epoch 00001: val_loss improved from 0.01222 to 0.01201, saving model to D:/Jorge/datasets/deforestation/experiments/MT/exp60/models\\resunet_5.h5\n",
      "New best val loss. Val loss: 0.01201. Early stop count: 0\n",
      "Epoch: 32\n",
      "Anneling Coeficient [1.]\n",
      "319/319 [==============================] - 28s 88ms/step - loss: 0.0294 - accuracy: 0.6813 - val_loss: 0.0140 - val_accuracy: 0.7494\n",
      "\n",
      "Epoch 00001: val_loss did not improve from 0.01201\n",
      "Early stop count: 1\n",
      "Epoch: 33\n",
      "Anneling Coeficient [1.]\n",
      "319/319 [==============================] - 27s 86ms/step - loss: 0.0286 - accuracy: 0.6791 - val_loss: 0.0123 - val_accuracy: 0.7440\n",
      "\n",
      "Epoch 00001: val_loss did not improve from 0.01201\n",
      "Early stop count: 2\n",
      "Epoch: 34\n",
      "Anneling Coeficient [1.]\n",
      "319/319 [==============================] - 27s 86ms/step - loss: 0.0281 - accuracy: 0.6813 - val_loss: 0.0135 - val_accuracy: 0.7317\n",
      "\n",
      "Epoch 00001: val_loss did not improve from 0.01201\n",
      "Early stop count: 3\n",
      "Epoch: 35\n",
      "Anneling Coeficient [1.]\n",
      "319/319 [==============================] - 27s 85ms/step - loss: 0.0279 - accuracy: 0.6822 - val_loss: 0.0135 - val_accuracy: 0.7359\n",
      "\n",
      "Epoch 00001: val_loss did not improve from 0.01201\n",
      "Early stop count: 4\n",
      "Epoch: 36\n",
      "Anneling Coeficient [1.]\n",
      "319/319 [==============================] - 28s 87ms/step - loss: 0.0274 - accuracy: 0.6812 - val_loss: 0.0123 - val_accuracy: 0.7326\n",
      "\n",
      "Epoch 00001: val_loss did not improve from 0.01201\n",
      "Early stop count: 5\n",
      "Epoch: 37\n",
      "Anneling Coeficient [1.]\n",
      "319/319 [==============================] - 28s 89ms/step - loss: 0.0266 - accuracy: 0.6812 - val_loss: 0.0126 - val_accuracy: 0.7503\n",
      "\n",
      "Epoch 00001: val_loss did not improve from 0.01201\n",
      "Early stop count: 6\n",
      "Epoch: 38\n",
      "Anneling Coeficient [1.]\n",
      "319/319 [==============================] - 27s 86ms/step - loss: 0.0268 - accuracy: 0.6838 - val_loss: 0.0125 - val_accuracy: 0.7387\n",
      "\n",
      "Epoch 00001: val_loss did not improve from 0.01201\n",
      "Early stop count: 7\n",
      "Epoch: 39\n",
      "Anneling Coeficient [1.]\n",
      "319/319 [==============================] - 28s 88ms/step - loss: 0.0261 - accuracy: 0.6823 - val_loss: 0.0121 - val_accuracy: 0.7346\n",
      "\n",
      "Epoch 00001: val_loss did not improve from 0.01201\n",
      "Early stop count: 8\n",
      "Epoch: 40\n",
      "Anneling Coeficient [1.]\n",
      "319/319 [==============================] - 28s 88ms/step - loss: 0.0253 - accuracy: 0.6854 - val_loss: 0.0110 - val_accuracy: 0.7486\n",
      "\n",
      "Epoch 00001: val_loss improved from 0.01201 to 0.01100, saving model to D:/Jorge/datasets/deforestation/experiments/MT/exp60/models\\resunet_5.h5\n",
      "New best val loss. Val loss: 0.011. Early stop count: 0\n",
      "Epoch: 41\n",
      "Anneling Coeficient [1.]\n",
      "319/319 [==============================] - 28s 86ms/step - loss: 0.0251 - accuracy: 0.6844 - val_loss: 0.0114 - val_accuracy: 0.7559\n",
      "\n",
      "Epoch 00001: val_loss did not improve from 0.01100\n",
      "Early stop count: 1\n",
      "Epoch: 42\n",
      "Anneling Coeficient [1.]\n",
      "319/319 [==============================] - 28s 87ms/step - loss: 0.0247 - accuracy: 0.6844 - val_loss: 0.0119 - val_accuracy: 0.7517\n",
      "\n",
      "Epoch 00001: val_loss did not improve from 0.01100\n",
      "Early stop count: 2\n",
      "Epoch: 43\n",
      "Anneling Coeficient [1.]\n",
      "319/319 [==============================] - 27s 86ms/step - loss: 0.0241 - accuracy: 0.6858 - val_loss: 0.0118 - val_accuracy: 0.7442\n",
      "\n",
      "Epoch 00001: val_loss did not improve from 0.01100\n",
      "Early stop count: 3\n",
      "Epoch: 44\n",
      "Anneling Coeficient [1.]\n",
      "319/319 [==============================] - 28s 89ms/step - loss: 0.0234 - accuracy: 0.6867 - val_loss: 0.0124 - val_accuracy: 0.7332\n",
      "\n",
      "Epoch 00001: val_loss did not improve from 0.01100\n",
      "Early stop count: 4\n",
      "Epoch: 45\n",
      "Anneling Coeficient [1.]\n",
      "319/319 [==============================] - 27s 85ms/step - loss: 0.0236 - accuracy: 0.6853 - val_loss: 0.0118 - val_accuracy: 0.7375\n",
      "\n",
      "Epoch 00001: val_loss did not improve from 0.01100\n",
      "Early stop count: 5\n",
      "Epoch: 46\n",
      "Anneling Coeficient [1.]\n",
      "319/319 [==============================] - 28s 87ms/step - loss: 0.0232 - accuracy: 0.6864 - val_loss: 0.0124 - val_accuracy: 0.7320\n",
      "\n",
      "Epoch 00001: val_loss did not improve from 0.01100\n",
      "Early stop count: 6\n",
      "Epoch: 47\n",
      "Anneling Coeficient [1.]\n",
      "319/319 [==============================] - 28s 88ms/step - loss: 0.0232 - accuracy: 0.6867 - val_loss: 0.0119 - val_accuracy: 0.7510\n",
      "\n",
      "Epoch 00001: val_loss did not improve from 0.01100\n",
      "Early stop count: 7\n",
      "Epoch: 48\n",
      "Anneling Coeficient [1.]\n",
      "319/319 [==============================] - 28s 87ms/step - loss: 0.0225 - accuracy: 0.6879 - val_loss: 0.0125 - val_accuracy: 0.7383\n",
      "\n",
      "Epoch 00001: val_loss did not improve from 0.01100\n",
      "Early stop count: 8\n",
      "Epoch: 49\n",
      "Anneling Coeficient [1.]\n",
      "319/319 [==============================] - 28s 88ms/step - loss: 0.0222 - accuracy: 0.6868 - val_loss: 0.0119 - val_accuracy: 0.7343\n",
      "\n",
      "Epoch 00001: val_loss did not improve from 0.01100\n",
      "Early stop count: 9\n",
      "Epoch: 50\n",
      "Anneling Coeficient [1.]\n",
      "319/319 [==============================] - 28s 89ms/step - loss: 0.0220 - accuracy: 0.6880 - val_loss: 0.0107 - val_accuracy: 0.7489\n",
      "\n",
      "Epoch 00001: val_loss improved from 0.01100 to 0.01072, saving model to D:/Jorge/datasets/deforestation/experiments/MT/exp60/models\\resunet_5.h5\n",
      "New best val loss. Val loss: 0.01072. Early stop count: 0\n",
      "Epoch: 51\n",
      "Anneling Coeficient [1.]\n",
      "319/319 [==============================] - 28s 88ms/step - loss: 0.0211 - accuracy: 0.6884 - val_loss: 0.0122 - val_accuracy: 0.7548\n",
      "\n",
      "Epoch 00001: val_loss did not improve from 0.01072\n",
      "Early stop count: 1\n",
      "Epoch: 52\n",
      "Anneling Coeficient [1.]\n",
      "319/319 [==============================] - 29s 90ms/step - loss: 0.0215 - accuracy: 0.6886 - val_loss: 0.0119 - val_accuracy: 0.7513\n",
      "\n",
      "Epoch 00001: val_loss did not improve from 0.01072\n",
      "Early stop count: 2\n",
      "Epoch: 53\n",
      "Anneling Coeficient [1.]\n",
      "319/319 [==============================] - 28s 88ms/step - loss: 0.0213 - accuracy: 0.6883 - val_loss: 0.0120 - val_accuracy: 0.7440\n",
      "\n",
      "Epoch 00001: val_loss did not improve from 0.01072\n",
      "Early stop count: 3\n",
      "Epoch: 54\n",
      "Anneling Coeficient [1.]\n",
      "319/319 [==============================] - 27s 85ms/step - loss: 0.0209 - accuracy: 0.6889 - val_loss: 0.0116 - val_accuracy: 0.7336\n",
      "\n",
      "Epoch 00001: val_loss did not improve from 0.01072\n",
      "Early stop count: 4\n",
      "Epoch: 55\n",
      "Anneling Coeficient [1.]\n",
      "319/319 [==============================] - 27s 85ms/step - loss: 0.0200 - accuracy: 0.6897 - val_loss: 0.0122 - val_accuracy: 0.7369\n",
      "\n",
      "Epoch 00001: val_loss did not improve from 0.01072\n",
      "Early stop count: 5\n",
      "Epoch: 56\n",
      "Anneling Coeficient [1.]\n",
      "319/319 [==============================] - 28s 88ms/step - loss: 0.0204 - accuracy: 0.6892 - val_loss: 0.0127 - val_accuracy: 0.7317\n",
      "\n",
      "Epoch 00001: val_loss did not improve from 0.01072\n",
      "Early stop count: 6\n",
      "Epoch: 57\n",
      "Anneling Coeficient [1.]\n",
      "319/319 [==============================] - 29s 90ms/step - loss: 0.0196 - accuracy: 0.6905 - val_loss: 0.0123 - val_accuracy: 0.7509\n",
      "\n",
      "Epoch 00001: val_loss did not improve from 0.01072\n",
      "Early stop count: 7\n",
      "Epoch: 58\n",
      "Anneling Coeficient [1.]\n",
      "319/319 [==============================] - 28s 88ms/step - loss: 0.0198 - accuracy: 0.6898 - val_loss: 0.0119 - val_accuracy: 0.7391\n",
      "\n",
      "Epoch 00001: val_loss did not improve from 0.01072\n",
      "Early stop count: 8\n",
      "Epoch: 59\n",
      "Anneling Coeficient [1.]\n",
      "319/319 [==============================] - 28s 89ms/step - loss: 0.0191 - accuracy: 0.6907 - val_loss: 0.0121 - val_accuracy: 0.7340\n",
      "\n",
      "Epoch 00001: val_loss did not improve from 0.01072\n",
      "Early stop count: 9\n",
      "Epoch: 60\n",
      "Anneling Coeficient [1.]\n",
      "319/319 [==============================] - 28s 87ms/step - loss: 0.0194 - accuracy: 0.6899 - val_loss: 0.0111 - val_accuracy: 0.7483\n",
      "\n",
      "Epoch 00001: val_loss did not improve from 0.01072\n",
      "Early stop count: 10\n",
      "Early stopping\n",
      "10 10\n",
      "Finished Training\n",
      "Training time:  1677.5945308208466\n",
      "time:  6\n",
      "Model: \"model_6\"\n",
      "__________________________________________________________________________________________________\n",
      "Layer (type)                    Output Shape         Param #     Connected to                     \n",
      "==================================================================================================\n",
      "input_enc_net (InputLayer)      [(None, 128, 128, 21 0                                            \n",
      "__________________________________________________________________________________________________\n",
      "res1_net1 (Conv2D)              (None, 128, 128, 16) 3040        input_enc_net[0][0]              \n",
      "__________________________________________________________________________________________________\n",
      "drop_net1 (SpatialDropout2D)    (None, 128, 128, 16) 0           res1_net1[0][0]                  \n",
      "__________________________________________________________________________________________________\n",
      "res2_net1 (Conv2D)              (None, 128, 128, 16) 2320        drop_net1[0][0]                  \n",
      "__________________________________________________________________________________________________\n",
      "res3_net1 (Conv2D)              (None, 128, 128, 16) 352         input_enc_net[0][0]              \n",
      "__________________________________________________________________________________________________\n",
      "add_36 (Add)                    (None, 128, 128, 16) 0           res2_net1[0][0]                  \n",
      "                                                                 res3_net1[0][0]                  \n",
      "__________________________________________________________________________________________________\n",
      "pool_net1 (MaxPooling2D)        (None, 64, 64, 16)   0           add_36[0][0]                     \n",
      "__________________________________________________________________________________________________\n",
      "res1_net2 (Conv2D)              (None, 64, 64, 32)   4640        pool_net1[0][0]                  \n",
      "__________________________________________________________________________________________________\n",
      "drop_net2 (SpatialDropout2D)    (None, 64, 64, 32)   0           res1_net2[0][0]                  \n",
      "__________________________________________________________________________________________________\n",
      "res2_net2 (Conv2D)              (None, 64, 64, 32)   9248        drop_net2[0][0]                  \n",
      "__________________________________________________________________________________________________\n",
      "res3_net2 (Conv2D)              (None, 64, 64, 32)   544         pool_net1[0][0]                  \n",
      "__________________________________________________________________________________________________\n",
      "add_37 (Add)                    (None, 64, 64, 32)   0           res2_net2[0][0]                  \n",
      "                                                                 res3_net2[0][0]                  \n",
      "__________________________________________________________________________________________________\n",
      "pool_net2 (MaxPooling2D)        (None, 32, 32, 32)   0           add_37[0][0]                     \n",
      "__________________________________________________________________________________________________\n",
      "res1_net3 (Conv2D)              (None, 32, 32, 64)   18496       pool_net2[0][0]                  \n",
      "__________________________________________________________________________________________________\n",
      "drop_net3 (SpatialDropout2D)    (None, 32, 32, 64)   0           res1_net3[0][0]                  \n",
      "__________________________________________________________________________________________________\n",
      "res2_net3 (Conv2D)              (None, 32, 32, 64)   36928       drop_net3[0][0]                  \n",
      "__________________________________________________________________________________________________\n",
      "res3_net3 (Conv2D)              (None, 32, 32, 64)   2112        pool_net2[0][0]                  \n",
      "__________________________________________________________________________________________________\n",
      "add_38 (Add)                    (None, 32, 32, 64)   0           res2_net3[0][0]                  \n",
      "                                                                 res3_net3[0][0]                  \n",
      "__________________________________________________________________________________________________\n",
      "pool_net3 (MaxPooling2D)        (None, 16, 16, 64)   0           add_38[0][0]                     \n",
      "__________________________________________________________________________________________________\n",
      "res1_net4 (Conv2D)              (None, 16, 16, 64)   36928       pool_net3[0][0]                  \n",
      "__________________________________________________________________________________________________\n",
      "drop_net4 (SpatialDropout2D)    (None, 16, 16, 64)   0           res1_net4[0][0]                  \n",
      "__________________________________________________________________________________________________\n",
      "res2_net4 (Conv2D)              (None, 16, 16, 64)   36928       drop_net4[0][0]                  \n",
      "__________________________________________________________________________________________________\n",
      "res3_net4 (Conv2D)              (None, 16, 16, 64)   4160        pool_net3[0][0]                  \n",
      "__________________________________________________________________________________________________\n",
      "add_39 (Add)                    (None, 16, 16, 64)   0           res2_net4[0][0]                  \n",
      "                                                                 res3_net4[0][0]                  \n",
      "__________________________________________________________________________________________________\n",
      "res1_net5 (Conv2D)              (None, 16, 16, 64)   36928       add_39[0][0]                     \n",
      "__________________________________________________________________________________________________\n",
      "drop_net5 (SpatialDropout2D)    (None, 16, 16, 64)   0           res1_net5[0][0]                  \n",
      "__________________________________________________________________________________________________\n",
      "res2_net5 (Conv2D)              (None, 16, 16, 64)   36928       drop_net5[0][0]                  \n",
      "__________________________________________________________________________________________________\n",
      "res3_net5 (Conv2D)              (None, 16, 16, 64)   4160        add_39[0][0]                     \n",
      "__________________________________________________________________________________________________\n",
      "add_40 (Add)                    (None, 16, 16, 64)   0           res2_net5[0][0]                  \n",
      "                                                                 res3_net5[0][0]                  \n",
      "__________________________________________________________________________________________________\n",
      "res1_net6 (Conv2D)              (None, 16, 16, 64)   36928       add_40[0][0]                     \n",
      "__________________________________________________________________________________________________\n",
      "drop_net6 (SpatialDropout2D)    (None, 16, 16, 64)   0           res1_net6[0][0]                  \n",
      "__________________________________________________________________________________________________\n",
      "res2_net6 (Conv2D)              (None, 16, 16, 64)   36928       drop_net6[0][0]                  \n",
      "__________________________________________________________________________________________________\n",
      "res3_net6 (Conv2D)              (None, 16, 16, 64)   4160        add_40[0][0]                     \n",
      "__________________________________________________________________________________________________\n",
      "add_41 (Add)                    (None, 16, 16, 64)   0           res2_net6[0][0]                  \n",
      "                                                                 res3_net6[0][0]                  \n",
      "__________________________________________________________________________________________________\n",
      "up_sampling2d_18 (UpSampling2D) (None, 32, 32, 64)   0           add_41[0][0]                     \n",
      "__________________________________________________________________________________________________\n",
      "upsampling_net3 (Conv2D)        (None, 32, 32, 64)   36928       up_sampling2d_18[0][0]           \n",
      "__________________________________________________________________________________________________\n",
      "spatial_dropout2d_18 (SpatialDr (None, 32, 32, 64)   0           upsampling_net3[0][0]            \n",
      "__________________________________________________________________________________________________\n",
      "concatenate3 (Concatenate)      (None, 32, 32, 128)  0           add_38[0][0]                     \n",
      "                                                                 spatial_dropout2d_18[0][0]       \n",
      "__________________________________________________________________________________________________\n",
      "up_sampling2d_19 (UpSampling2D) (None, 64, 64, 128)  0           concatenate3[0][0]               \n",
      "__________________________________________________________________________________________________\n",
      "upsampling_net2 (Conv2D)        (None, 64, 64, 32)   36896       up_sampling2d_19[0][0]           \n",
      "__________________________________________________________________________________________________\n",
      "spatial_dropout2d_19 (SpatialDr (None, 64, 64, 32)   0           upsampling_net2[0][0]            \n",
      "__________________________________________________________________________________________________\n",
      "concatenate2 (Concatenate)      (None, 64, 64, 64)   0           add_37[0][0]                     \n",
      "                                                                 spatial_dropout2d_19[0][0]       \n",
      "__________________________________________________________________________________________________\n",
      "up_sampling2d_20 (UpSampling2D) (None, 128, 128, 64) 0           concatenate2[0][0]               \n",
      "__________________________________________________________________________________________________\n",
      "upsampling_net1 (Conv2D)        (None, 128, 128, 16) 9232        up_sampling2d_20[0][0]           \n",
      "__________________________________________________________________________________________________\n",
      "spatial_dropout2d_20 (SpatialDr (None, 128, 128, 16) 0           upsampling_net1[0][0]            \n",
      "__________________________________________________________________________________________________\n",
      "concatenate1 (Concatenate)      (None, 128, 128, 32) 0           add_36[0][0]                     \n",
      "                                                                 spatial_dropout2d_20[0][0]       \n",
      "__________________________________________________________________________________________________\n",
      "output (Conv2D)                 (None, 128, 128, 2)  66          concatenate1[0][0]               \n",
      "__________________________________________________________________________________________________\n",
      "dirichlet_layer_6 (DirichletLay (None, 128, 128, 2)  0           output[0][0]                     \n",
      "==================================================================================================\n",
      "Total params: 394,850\n",
      "Trainable params: 394,850\n",
      "Non-trainable params: 0\n",
      "__________________________________________________________________________________________________\n",
      "Epoch: 1\n",
      "Anneling Coeficient [1.]\n",
      "K.int_shape(mse) (None, 128, 128, 1)\n",
      "K.int_shape(mask) (None, None, None, 1)\n",
      "K.int_shape(E) (None, 128, 128, 2)\n",
      "K.int_shape(y_truth) (None, None, None, None)\n",
      "K.int_shape(mse) (None, 128, 128, 1)\n",
      "K.int_shape(mask) (None, None, None, 1)\n",
      "K.int_shape(E) (None, 128, 128, 2)\n",
      "K.int_shape(y_truth) (None, None, None, None)\n",
      "319/319 [==============================] - ETA: 0s - loss: 0.1312 - accuracy: 0.5702K.int_shape(mse) (None, 128, 128, 1)\n",
      "K.int_shape(mask) (None, None, None, 1)\n",
      "K.int_shape(E) (None, 128, 128, 2)\n",
      "K.int_shape(y_truth) (None, None, None, None)\n",
      "319/319 [==============================] - 30s 89ms/step - loss: 0.1312 - accuracy: 0.5702 - val_loss: 0.0393 - val_accuracy: 0.7462\n",
      "\n",
      "Epoch 00001: val_loss improved from inf to 0.03935, saving model to D:/Jorge/datasets/deforestation/experiments/MT/exp60/models\\resunet_6.h5\n",
      "New best val loss. Val loss: 0.03935. Early stop count: 0\n",
      "Epoch: 2\n",
      "Anneling Coeficient [0.1]\n",
      "319/319 [==============================] - 28s 87ms/step - loss: 0.0776 - accuracy: 0.6355 - val_loss: 0.0303 - val_accuracy: 0.7461\n",
      "\n",
      "Epoch 00001: val_loss improved from 0.03935 to 0.03029, saving model to D:/Jorge/datasets/deforestation/experiments/MT/exp60/models\\resunet_6.h5\n",
      "New best val loss. Val loss: 0.03029. Early stop count: 0\n",
      "Epoch: 3\n",
      "Anneling Coeficient [0.2]\n",
      "319/319 [==============================] - 28s 88ms/step - loss: 0.0706 - accuracy: 0.6393 - val_loss: 0.0242 - val_accuracy: 0.7407\n",
      "\n",
      "Epoch 00001: val_loss improved from 0.03029 to 0.02424, saving model to D:/Jorge/datasets/deforestation/experiments/MT/exp60/models\\resunet_6.h5\n",
      "New best val loss. Val loss: 0.02424. Early stop count: 0\n",
      "Epoch: 4\n",
      "Anneling Coeficient [0.3]\n",
      "319/319 [==============================] - 29s 90ms/step - loss: 0.0653 - accuracy: 0.6461 - val_loss: 0.0236 - val_accuracy: 0.7287\n",
      "\n",
      "Epoch 00001: val_loss improved from 0.02424 to 0.02365, saving model to D:/Jorge/datasets/deforestation/experiments/MT/exp60/models\\resunet_6.h5\n",
      "New best val loss. Val loss: 0.02365. Early stop count: 0\n",
      "Epoch: 5\n",
      "Anneling Coeficient [0.4]\n",
      "319/319 [==============================] - 27s 84ms/step - loss: 0.0632 - accuracy: 0.6451 - val_loss: 0.0211 - val_accuracy: 0.7361\n",
      "\n",
      "Epoch 00001: val_loss improved from 0.02365 to 0.02111, saving model to D:/Jorge/datasets/deforestation/experiments/MT/exp60/models\\resunet_6.h5\n",
      "New best val loss. Val loss: 0.02111. Early stop count: 0\n",
      "Epoch: 6\n",
      "Anneling Coeficient [0.5]\n",
      "319/319 [==============================] - 27s 86ms/step - loss: 0.0611 - accuracy: 0.6465 - val_loss: 0.0185 - val_accuracy: 0.7317\n",
      "\n",
      "Epoch 00001: val_loss improved from 0.02111 to 0.01851, saving model to D:/Jorge/datasets/deforestation/experiments/MT/exp60/models\\resunet_6.h5\n",
      "New best val loss. Val loss: 0.01851. Early stop count: 0\n",
      "Epoch: 7\n",
      "Anneling Coeficient [0.6]\n",
      "319/319 [==============================] - 27s 85ms/step - loss: 0.0593 - accuracy: 0.6497 - val_loss: 0.0192 - val_accuracy: 0.7492\n",
      "\n",
      "Epoch 00001: val_loss did not improve from 0.01851\n",
      "Early stop count: 1\n",
      "Epoch: 8\n",
      "Anneling Coeficient [0.7]\n",
      "319/319 [==============================] - 28s 87ms/step - loss: 0.0567 - accuracy: 0.6521 - val_loss: 0.0170 - val_accuracy: 0.7386\n",
      "\n",
      "Epoch 00001: val_loss improved from 0.01851 to 0.01696, saving model to D:/Jorge/datasets/deforestation/experiments/MT/exp60/models\\resunet_6.h5\n",
      "New best val loss. Val loss: 0.01696. Early stop count: 0\n",
      "Epoch: 9\n",
      "Anneling Coeficient [0.8]\n",
      "319/319 [==============================] - 28s 89ms/step - loss: 0.0556 - accuracy: 0.6533 - val_loss: 0.0164 - val_accuracy: 0.7336\n",
      "\n",
      "Epoch 00001: val_loss improved from 0.01696 to 0.01638, saving model to D:/Jorge/datasets/deforestation/experiments/MT/exp60/models\\resunet_6.h5\n",
      "New best val loss. Val loss: 0.01638. Early stop count: 0\n",
      "Epoch: 10\n",
      "Anneling Coeficient [0.9]\n",
      "319/319 [==============================] - 28s 86ms/step - loss: 0.0544 - accuracy: 0.6545 - val_loss: 0.0151 - val_accuracy: 0.7479\n",
      "\n",
      "Epoch 00001: val_loss improved from 0.01638 to 0.01506, saving model to D:/Jorge/datasets/deforestation/experiments/MT/exp60/models\\resunet_6.h5\n",
      "New best val loss. Val loss: 0.01506. Early stop count: 0\n",
      "Epoch: 11\n",
      "Anneling Coeficient [1.]\n",
      "319/319 [==============================] - 28s 88ms/step - loss: 0.0525 - accuracy: 0.6558 - val_loss: 0.0156 - val_accuracy: 0.7541\n",
      "\n",
      "Epoch 00001: val_loss did not improve from 0.01506\n",
      "Early stop count: 1\n",
      "Epoch: 12\n",
      "Anneling Coeficient [1.]\n",
      "319/319 [==============================] - 29s 89ms/step - loss: 0.0507 - accuracy: 0.6570 - val_loss: 0.0147 - val_accuracy: 0.7516\n",
      "\n",
      "Epoch 00001: val_loss improved from 0.01506 to 0.01470, saving model to D:/Jorge/datasets/deforestation/experiments/MT/exp60/models\\resunet_6.h5\n",
      "New best val loss. Val loss: 0.0147. Early stop count: 0\n",
      "Epoch: 13\n",
      "Anneling Coeficient [1.]\n",
      "319/319 [==============================] - 28s 89ms/step - loss: 0.0492 - accuracy: 0.6586 - val_loss: 0.0167 - val_accuracy: 0.7439\n",
      "\n",
      "Epoch 00001: val_loss did not improve from 0.01470\n",
      "Early stop count: 1\n",
      "Epoch: 14\n",
      "Anneling Coeficient [1.]\n",
      "319/319 [==============================] - 29s 91ms/step - loss: 0.0471 - accuracy: 0.6608 - val_loss: 0.0148 - val_accuracy: 0.7327\n",
      "\n",
      "Epoch 00001: val_loss did not improve from 0.01470\n",
      "Early stop count: 2\n",
      "Epoch: 15\n",
      "Anneling Coeficient [1.]\n",
      "319/319 [==============================] - 28s 87ms/step - loss: 0.0467 - accuracy: 0.6601 - val_loss: 0.0148 - val_accuracy: 0.7362\n",
      "\n",
      "Epoch 00001: val_loss did not improve from 0.01470\n",
      "Early stop count: 3\n",
      "Epoch: 16\n",
      "Anneling Coeficient [1.]\n",
      "319/319 [==============================] - 28s 88ms/step - loss: 0.0441 - accuracy: 0.6634 - val_loss: 0.0145 - val_accuracy: 0.7320\n",
      "\n",
      "Epoch 00001: val_loss improved from 0.01470 to 0.01453, saving model to D:/Jorge/datasets/deforestation/experiments/MT/exp60/models\\resunet_6.h5\n",
      "New best val loss. Val loss: 0.01453. Early stop count: 0\n",
      "Epoch: 17\n",
      "Anneling Coeficient [1.]\n",
      "319/319 [==============================] - 28s 88ms/step - loss: 0.0436 - accuracy: 0.6652 - val_loss: 0.0155 - val_accuracy: 0.7493\n",
      "\n",
      "Epoch 00001: val_loss did not improve from 0.01453\n",
      "Early stop count: 1\n",
      "Epoch: 18\n",
      "Anneling Coeficient [1.]\n",
      "319/319 [==============================] - 28s 88ms/step - loss: 0.0429 - accuracy: 0.6650 - val_loss: 0.0151 - val_accuracy: 0.7373\n",
      "\n",
      "Epoch 00001: val_loss did not improve from 0.01453\n",
      "Early stop count: 2\n",
      "Epoch: 19\n",
      "Anneling Coeficient [1.]\n",
      "319/319 [==============================] - 29s 91ms/step - loss: 0.0407 - accuracy: 0.6673 - val_loss: 0.0158 - val_accuracy: 0.7317\n",
      "\n",
      "Epoch 00001: val_loss did not improve from 0.01453\n",
      "Early stop count: 3\n",
      "Epoch: 20\n",
      "Anneling Coeficient [1.]\n",
      "319/319 [==============================] - 28s 88ms/step - loss: 0.0397 - accuracy: 0.6691 - val_loss: 0.0132 - val_accuracy: 0.7474\n",
      "\n",
      "Epoch 00001: val_loss improved from 0.01453 to 0.01319, saving model to D:/Jorge/datasets/deforestation/experiments/MT/exp60/models\\resunet_6.h5\n",
      "New best val loss. Val loss: 0.01319. Early stop count: 0\n",
      "Epoch: 21\n",
      "Anneling Coeficient [1.]\n",
      "319/319 [==============================] - 29s 90ms/step - loss: 0.0393 - accuracy: 0.6703 - val_loss: 0.0136 - val_accuracy: 0.7545\n",
      "\n",
      "Epoch 00001: val_loss did not improve from 0.01319\n",
      "Early stop count: 1\n",
      "Epoch: 22\n",
      "Anneling Coeficient [1.]\n",
      "319/319 [==============================] - 28s 89ms/step - loss: 0.0374 - accuracy: 0.6701 - val_loss: 0.0137 - val_accuracy: 0.7505\n",
      "\n",
      "Epoch 00001: val_loss did not improve from 0.01319\n",
      "Early stop count: 2\n",
      "Epoch: 23\n",
      "Anneling Coeficient [1.]\n",
      "319/319 [==============================] - 28s 89ms/step - loss: 0.0369 - accuracy: 0.6718 - val_loss: 0.0136 - val_accuracy: 0.7433\n",
      "\n",
      "Epoch 00001: val_loss did not improve from 0.01319\n",
      "Early stop count: 3\n",
      "Epoch: 24\n",
      "Anneling Coeficient [1.]\n",
      "319/319 [==============================] - 29s 92ms/step - loss: 0.0369 - accuracy: 0.6722 - val_loss: 0.0152 - val_accuracy: 0.7309\n",
      "\n",
      "Epoch 00001: val_loss did not improve from 0.01319\n",
      "Early stop count: 4\n",
      "Epoch: 25\n",
      "Anneling Coeficient [1.]\n",
      "319/319 [==============================] - 28s 89ms/step - loss: 0.0354 - accuracy: 0.6724 - val_loss: 0.0134 - val_accuracy: 0.7364\n",
      "\n",
      "Epoch 00001: val_loss did not improve from 0.01319\n",
      "Early stop count: 5\n",
      "Epoch: 26\n",
      "Anneling Coeficient [1.]\n",
      "319/319 [==============================] - 29s 90ms/step - loss: 0.0349 - accuracy: 0.6737 - val_loss: 0.0152 - val_accuracy: 0.7299\n",
      "\n",
      "Epoch 00001: val_loss did not improve from 0.01319\n",
      "Early stop count: 6\n",
      "Epoch: 27\n",
      "Anneling Coeficient [1.]\n",
      "319/319 [==============================] - 28s 88ms/step - loss: 0.0338 - accuracy: 0.6732 - val_loss: 0.0135 - val_accuracy: 0.7501\n",
      "\n",
      "Epoch 00001: val_loss did not improve from 0.01319\n",
      "Early stop count: 7\n",
      "Epoch: 28\n",
      "Anneling Coeficient [1.]\n",
      "319/319 [==============================] - 29s 90ms/step - loss: 0.0334 - accuracy: 0.6786 - val_loss: 0.0155 - val_accuracy: 0.7361\n",
      "\n",
      "Epoch 00001: val_loss did not improve from 0.01319\n",
      "Early stop count: 8\n",
      "Epoch: 29\n",
      "Anneling Coeficient [1.]\n",
      "319/319 [==============================] - 29s 91ms/step - loss: 0.0322 - accuracy: 0.6753 - val_loss: 0.0130 - val_accuracy: 0.7338\n",
      "\n",
      "Epoch 00001: val_loss improved from 0.01319 to 0.01297, saving model to D:/Jorge/datasets/deforestation/experiments/MT/exp60/models\\resunet_6.h5\n",
      "New best val loss. Val loss: 0.01297. Early stop count: 0\n",
      "Epoch: 30\n",
      "Anneling Coeficient [1.]\n",
      "319/319 [==============================] - 28s 89ms/step - loss: 0.0318 - accuracy: 0.6782 - val_loss: 0.0116 - val_accuracy: 0.7484\n",
      "\n",
      "Epoch 00001: val_loss improved from 0.01297 to 0.01161, saving model to D:/Jorge/datasets/deforestation/experiments/MT/exp60/models\\resunet_6.h5\n",
      "New best val loss. Val loss: 0.01161. Early stop count: 0\n",
      "Epoch: 31\n",
      "Anneling Coeficient [1.]\n",
      "319/319 [==============================] - 29s 90ms/step - loss: 0.0310 - accuracy: 0.6772 - val_loss: 0.0124 - val_accuracy: 0.7551\n",
      "\n",
      "Epoch 00001: val_loss did not improve from 0.01161\n",
      "Early stop count: 1\n",
      "Epoch: 32\n",
      "Anneling Coeficient [1.]\n",
      "319/319 [==============================] - 27s 86ms/step - loss: 0.0308 - accuracy: 0.6780 - val_loss: 0.0128 - val_accuracy: 0.7513\n",
      "\n",
      "Epoch 00001: val_loss did not improve from 0.01161\n",
      "Early stop count: 2\n",
      "Epoch: 33\n",
      "Anneling Coeficient [1.]\n",
      "319/319 [==============================] - 28s 88ms/step - loss: 0.0301 - accuracy: 0.6801 - val_loss: 0.0132 - val_accuracy: 0.7431\n",
      "\n",
      "Epoch 00001: val_loss did not improve from 0.01161\n",
      "Early stop count: 3\n",
      "Epoch: 34\n",
      "Anneling Coeficient [1.]\n",
      "319/319 [==============================] - 29s 92ms/step - loss: 0.0296 - accuracy: 0.6788 - val_loss: 0.0128 - val_accuracy: 0.7331\n",
      "\n",
      "Epoch 00001: val_loss did not improve from 0.01161\n",
      "Early stop count: 4\n",
      "Epoch: 35\n",
      "Anneling Coeficient [1.]\n",
      "319/319 [==============================] - 28s 88ms/step - loss: 0.0289 - accuracy: 0.6803 - val_loss: 0.0143 - val_accuracy: 0.7347\n",
      "\n",
      "Epoch 00001: val_loss did not improve from 0.01161\n",
      "Early stop count: 5\n",
      "Epoch: 36\n",
      "Anneling Coeficient [1.]\n",
      "319/319 [==============================] - 29s 90ms/step - loss: 0.0280 - accuracy: 0.6810 - val_loss: 0.0134 - val_accuracy: 0.7316\n",
      "\n",
      "Epoch 00001: val_loss did not improve from 0.01161\n",
      "Early stop count: 6\n",
      "Epoch: 37\n",
      "Anneling Coeficient [1.]\n",
      "319/319 [==============================] - 28s 89ms/step - loss: 0.0277 - accuracy: 0.6813 - val_loss: 0.0123 - val_accuracy: 0.7510\n",
      "\n",
      "Epoch 00001: val_loss did not improve from 0.01161\n",
      "Early stop count: 7\n",
      "Epoch: 38\n",
      "Anneling Coeficient [1.]\n",
      "319/319 [==============================] - 29s 91ms/step - loss: 0.0271 - accuracy: 0.6812 - val_loss: 0.0129 - val_accuracy: 0.7385\n",
      "\n",
      "Epoch 00001: val_loss did not improve from 0.01161\n",
      "Early stop count: 8\n",
      "Epoch: 39\n",
      "Anneling Coeficient [1.]\n",
      "319/319 [==============================] - 29s 91ms/step - loss: 0.0265 - accuracy: 0.6838 - val_loss: 0.0127 - val_accuracy: 0.7335\n",
      "\n",
      "Epoch 00001: val_loss did not improve from 0.01161\n",
      "Early stop count: 9\n",
      "Epoch: 40\n",
      "Anneling Coeficient [1.]\n",
      "319/319 [==============================] - 28s 88ms/step - loss: 0.0260 - accuracy: 0.6841 - val_loss: 0.0115 - val_accuracy: 0.7482\n",
      "\n",
      "Epoch 00001: val_loss improved from 0.01161 to 0.01151, saving model to D:/Jorge/datasets/deforestation/experiments/MT/exp60/models\\resunet_6.h5\n",
      "New best val loss. Val loss: 0.01151. Early stop count: 0\n",
      "Epoch: 41\n",
      "Anneling Coeficient [1.]\n",
      "319/319 [==============================] - 29s 91ms/step - loss: 0.0258 - accuracy: 0.6828 - val_loss: 0.0118 - val_accuracy: 0.7555\n",
      "\n",
      "Epoch 00001: val_loss did not improve from 0.01151\n",
      "Early stop count: 1\n",
      "Epoch: 42\n",
      "Anneling Coeficient [1.]\n",
      "319/319 [==============================] - 29s 90ms/step - loss: 0.0253 - accuracy: 0.6852 - val_loss: 0.0137 - val_accuracy: 0.7496\n",
      "\n",
      "Epoch 00001: val_loss did not improve from 0.01151\n",
      "Early stop count: 2\n",
      "Epoch: 43\n",
      "Anneling Coeficient [1.]\n",
      "319/319 [==============================] - 29s 90ms/step - loss: 0.0252 - accuracy: 0.6844 - val_loss: 0.0145 - val_accuracy: 0.7414\n",
      "\n",
      "Epoch 00001: val_loss did not improve from 0.01151\n",
      "Early stop count: 3\n",
      "Epoch: 44\n",
      "Anneling Coeficient [1.]\n",
      "319/319 [==============================] - 29s 92ms/step - loss: 0.0249 - accuracy: 0.6821 - val_loss: 0.0148 - val_accuracy: 0.7300\n",
      "\n",
      "Epoch 00001: val_loss did not improve from 0.01151\n",
      "Early stop count: 4\n",
      "Epoch: 45\n",
      "Anneling Coeficient [1.]\n",
      "319/319 [==============================] - 28s 87ms/step - loss: 0.0243 - accuracy: 0.6872 - val_loss: 0.0128 - val_accuracy: 0.7365\n",
      "\n",
      "Epoch 00001: val_loss did not improve from 0.01151\n",
      "Early stop count: 5\n",
      "Epoch: 46\n",
      "Anneling Coeficient [1.]\n",
      "319/319 [==============================] - 29s 90ms/step - loss: 0.0236 - accuracy: 0.6859 - val_loss: 0.0134 - val_accuracy: 0.7311\n",
      "\n",
      "Epoch 00001: val_loss did not improve from 0.01151\n",
      "Early stop count: 6\n",
      "Epoch: 47\n",
      "Anneling Coeficient [1.]\n",
      "319/319 [==============================] - 29s 92ms/step - loss: 0.0239 - accuracy: 0.6856 - val_loss: 0.0136 - val_accuracy: 0.7492\n",
      "\n",
      "Epoch 00001: val_loss did not improve from 0.01151\n",
      "Early stop count: 7\n",
      "Epoch: 48\n",
      "Anneling Coeficient [1.]\n",
      "319/319 [==============================] - 29s 90ms/step - loss: 0.0231 - accuracy: 0.6879 - val_loss: 0.0134 - val_accuracy: 0.7378\n",
      "\n",
      "Epoch 00001: val_loss did not improve from 0.01151\n",
      "Early stop count: 8\n",
      "Epoch: 49\n",
      "Anneling Coeficient [1.]\n",
      "319/319 [==============================] - 29s 91ms/step - loss: 0.0235 - accuracy: 0.6854 - val_loss: 0.0124 - val_accuracy: 0.7340\n",
      "\n",
      "Epoch 00001: val_loss did not improve from 0.01151\n",
      "Early stop count: 9\n",
      "Epoch: 50\n",
      "Anneling Coeficient [1.]\n",
      "319/319 [==============================] - 28s 88ms/step - loss: 0.0224 - accuracy: 0.6872 - val_loss: 0.0127 - val_accuracy: 0.7465\n",
      "\n",
      "Epoch 00001: val_loss did not improve from 0.01151\n",
      "Early stop count: 10\n",
      "Early stopping\n",
      "10 10\n",
      "Finished Training\n",
      "Training time:  1427.8162739276886\n",
      "time:  7\n",
      "Model: \"model_7\"\n",
      "__________________________________________________________________________________________________\n",
      "Layer (type)                    Output Shape         Param #     Connected to                     \n",
      "==================================================================================================\n",
      "input_enc_net (InputLayer)      [(None, 128, 128, 21 0                                            \n",
      "__________________________________________________________________________________________________\n",
      "res1_net1 (Conv2D)              (None, 128, 128, 16) 3040        input_enc_net[0][0]              \n",
      "__________________________________________________________________________________________________\n",
      "drop_net1 (SpatialDropout2D)    (None, 128, 128, 16) 0           res1_net1[0][0]                  \n",
      "__________________________________________________________________________________________________\n",
      "res2_net1 (Conv2D)              (None, 128, 128, 16) 2320        drop_net1[0][0]                  \n",
      "__________________________________________________________________________________________________\n",
      "res3_net1 (Conv2D)              (None, 128, 128, 16) 352         input_enc_net[0][0]              \n",
      "__________________________________________________________________________________________________\n",
      "add_42 (Add)                    (None, 128, 128, 16) 0           res2_net1[0][0]                  \n",
      "                                                                 res3_net1[0][0]                  \n",
      "__________________________________________________________________________________________________\n",
      "pool_net1 (MaxPooling2D)        (None, 64, 64, 16)   0           add_42[0][0]                     \n",
      "__________________________________________________________________________________________________\n",
      "res1_net2 (Conv2D)              (None, 64, 64, 32)   4640        pool_net1[0][0]                  \n",
      "__________________________________________________________________________________________________\n",
      "drop_net2 (SpatialDropout2D)    (None, 64, 64, 32)   0           res1_net2[0][0]                  \n",
      "__________________________________________________________________________________________________\n",
      "res2_net2 (Conv2D)              (None, 64, 64, 32)   9248        drop_net2[0][0]                  \n",
      "__________________________________________________________________________________________________\n",
      "res3_net2 (Conv2D)              (None, 64, 64, 32)   544         pool_net1[0][0]                  \n",
      "__________________________________________________________________________________________________\n",
      "add_43 (Add)                    (None, 64, 64, 32)   0           res2_net2[0][0]                  \n",
      "                                                                 res3_net2[0][0]                  \n",
      "__________________________________________________________________________________________________\n",
      "pool_net2 (MaxPooling2D)        (None, 32, 32, 32)   0           add_43[0][0]                     \n",
      "__________________________________________________________________________________________________\n",
      "res1_net3 (Conv2D)              (None, 32, 32, 64)   18496       pool_net2[0][0]                  \n",
      "__________________________________________________________________________________________________\n",
      "drop_net3 (SpatialDropout2D)    (None, 32, 32, 64)   0           res1_net3[0][0]                  \n",
      "__________________________________________________________________________________________________\n",
      "res2_net3 (Conv2D)              (None, 32, 32, 64)   36928       drop_net3[0][0]                  \n",
      "__________________________________________________________________________________________________\n",
      "res3_net3 (Conv2D)              (None, 32, 32, 64)   2112        pool_net2[0][0]                  \n",
      "__________________________________________________________________________________________________\n",
      "add_44 (Add)                    (None, 32, 32, 64)   0           res2_net3[0][0]                  \n",
      "                                                                 res3_net3[0][0]                  \n",
      "__________________________________________________________________________________________________\n",
      "pool_net3 (MaxPooling2D)        (None, 16, 16, 64)   0           add_44[0][0]                     \n",
      "__________________________________________________________________________________________________\n",
      "res1_net4 (Conv2D)              (None, 16, 16, 64)   36928       pool_net3[0][0]                  \n",
      "__________________________________________________________________________________________________\n",
      "drop_net4 (SpatialDropout2D)    (None, 16, 16, 64)   0           res1_net4[0][0]                  \n",
      "__________________________________________________________________________________________________\n",
      "res2_net4 (Conv2D)              (None, 16, 16, 64)   36928       drop_net4[0][0]                  \n",
      "__________________________________________________________________________________________________\n",
      "res3_net4 (Conv2D)              (None, 16, 16, 64)   4160        pool_net3[0][0]                  \n",
      "__________________________________________________________________________________________________\n",
      "add_45 (Add)                    (None, 16, 16, 64)   0           res2_net4[0][0]                  \n",
      "                                                                 res3_net4[0][0]                  \n",
      "__________________________________________________________________________________________________\n",
      "res1_net5 (Conv2D)              (None, 16, 16, 64)   36928       add_45[0][0]                     \n",
      "__________________________________________________________________________________________________\n",
      "drop_net5 (SpatialDropout2D)    (None, 16, 16, 64)   0           res1_net5[0][0]                  \n",
      "__________________________________________________________________________________________________\n",
      "res2_net5 (Conv2D)              (None, 16, 16, 64)   36928       drop_net5[0][0]                  \n",
      "__________________________________________________________________________________________________\n",
      "res3_net5 (Conv2D)              (None, 16, 16, 64)   4160        add_45[0][0]                     \n",
      "__________________________________________________________________________________________________\n",
      "add_46 (Add)                    (None, 16, 16, 64)   0           res2_net5[0][0]                  \n",
      "                                                                 res3_net5[0][0]                  \n",
      "__________________________________________________________________________________________________\n",
      "res1_net6 (Conv2D)              (None, 16, 16, 64)   36928       add_46[0][0]                     \n",
      "__________________________________________________________________________________________________\n",
      "drop_net6 (SpatialDropout2D)    (None, 16, 16, 64)   0           res1_net6[0][0]                  \n",
      "__________________________________________________________________________________________________\n",
      "res2_net6 (Conv2D)              (None, 16, 16, 64)   36928       drop_net6[0][0]                  \n",
      "__________________________________________________________________________________________________\n",
      "res3_net6 (Conv2D)              (None, 16, 16, 64)   4160        add_46[0][0]                     \n",
      "__________________________________________________________________________________________________\n",
      "add_47 (Add)                    (None, 16, 16, 64)   0           res2_net6[0][0]                  \n",
      "                                                                 res3_net6[0][0]                  \n",
      "__________________________________________________________________________________________________\n",
      "up_sampling2d_21 (UpSampling2D) (None, 32, 32, 64)   0           add_47[0][0]                     \n",
      "__________________________________________________________________________________________________\n",
      "upsampling_net3 (Conv2D)        (None, 32, 32, 64)   36928       up_sampling2d_21[0][0]           \n",
      "__________________________________________________________________________________________________\n",
      "spatial_dropout2d_21 (SpatialDr (None, 32, 32, 64)   0           upsampling_net3[0][0]            \n",
      "__________________________________________________________________________________________________\n",
      "concatenate3 (Concatenate)      (None, 32, 32, 128)  0           add_44[0][0]                     \n",
      "                                                                 spatial_dropout2d_21[0][0]       \n",
      "__________________________________________________________________________________________________\n",
      "up_sampling2d_22 (UpSampling2D) (None, 64, 64, 128)  0           concatenate3[0][0]               \n",
      "__________________________________________________________________________________________________\n",
      "upsampling_net2 (Conv2D)        (None, 64, 64, 32)   36896       up_sampling2d_22[0][0]           \n",
      "__________________________________________________________________________________________________\n",
      "spatial_dropout2d_22 (SpatialDr (None, 64, 64, 32)   0           upsampling_net2[0][0]            \n",
      "__________________________________________________________________________________________________\n",
      "concatenate2 (Concatenate)      (None, 64, 64, 64)   0           add_43[0][0]                     \n",
      "                                                                 spatial_dropout2d_22[0][0]       \n",
      "__________________________________________________________________________________________________\n",
      "up_sampling2d_23 (UpSampling2D) (None, 128, 128, 64) 0           concatenate2[0][0]               \n",
      "__________________________________________________________________________________________________\n",
      "upsampling_net1 (Conv2D)        (None, 128, 128, 16) 9232        up_sampling2d_23[0][0]           \n",
      "__________________________________________________________________________________________________\n",
      "spatial_dropout2d_23 (SpatialDr (None, 128, 128, 16) 0           upsampling_net1[0][0]            \n",
      "__________________________________________________________________________________________________\n",
      "concatenate1 (Concatenate)      (None, 128, 128, 32) 0           add_42[0][0]                     \n",
      "                                                                 spatial_dropout2d_23[0][0]       \n",
      "__________________________________________________________________________________________________\n",
      "output (Conv2D)                 (None, 128, 128, 2)  66          concatenate1[0][0]               \n",
      "__________________________________________________________________________________________________\n",
      "dirichlet_layer_7 (DirichletLay (None, 128, 128, 2)  0           output[0][0]                     \n",
      "==================================================================================================\n",
      "Total params: 394,850\n",
      "Trainable params: 394,850\n",
      "Non-trainable params: 0\n",
      "__________________________________________________________________________________________________\n",
      "Epoch: 1\n",
      "Anneling Coeficient [1.]\n",
      "K.int_shape(mse) (None, 128, 128, 1)\n",
      "K.int_shape(mask) (None, None, None, 1)\n",
      "K.int_shape(E) (None, 128, 128, 2)\n",
      "K.int_shape(y_truth) (None, None, None, None)\n",
      "K.int_shape(mse) (None, 128, 128, 1)\n",
      "K.int_shape(mask) (None, None, None, 1)\n",
      "K.int_shape(E) (None, 128, 128, 2)\n",
      "K.int_shape(y_truth) (None, None, None, None)\n",
      "319/319 [==============================] - ETA: 0s - loss: 0.1139 - accuracy: 0.6065K.int_shape(mse) (None, 128, 128, 1)\n",
      "K.int_shape(mask) (None, None, None, 1)\n",
      "K.int_shape(E) (None, 128, 128, 2)\n",
      "K.int_shape(y_truth) (None, None, None, None)\n",
      "319/319 [==============================] - 31s 92ms/step - loss: 0.1139 - accuracy: 0.6065 - val_loss: 0.0350 - val_accuracy: 0.7474\n",
      "\n",
      "Epoch 00001: val_loss improved from inf to 0.03501, saving model to D:/Jorge/datasets/deforestation/experiments/MT/exp60/models\\resunet_7.h5\n",
      "New best val loss. Val loss: 0.03501. Early stop count: 0\n",
      "Epoch: 2\n",
      "Anneling Coeficient [0.1]\n",
      "319/319 [==============================] - 29s 90ms/step - loss: 0.0740 - accuracy: 0.6390 - val_loss: 0.0287 - val_accuracy: 0.7475\n",
      "\n",
      "Epoch 00001: val_loss improved from 0.03501 to 0.02873, saving model to D:/Jorge/datasets/deforestation/experiments/MT/exp60/models\\resunet_7.h5\n",
      "New best val loss. Val loss: 0.02873. Early stop count: 0\n",
      "Epoch: 3\n",
      "Anneling Coeficient [0.2]\n",
      "319/319 [==============================] - 29s 91ms/step - loss: 0.0669 - accuracy: 0.6423 - val_loss: 0.0233 - val_accuracy: 0.7408\n",
      "\n",
      "Epoch 00001: val_loss improved from 0.02873 to 0.02330, saving model to D:/Jorge/datasets/deforestation/experiments/MT/exp60/models\\resunet_7.h5\n",
      "New best val loss. Val loss: 0.0233. Early stop count: 0\n",
      "Epoch: 4\n",
      "Anneling Coeficient [0.3]\n",
      "319/319 [==============================] - 28s 88ms/step - loss: 0.0642 - accuracy: 0.6460 - val_loss: 0.0216 - val_accuracy: 0.7316\n",
      "\n",
      "Epoch 00001: val_loss improved from 0.02330 to 0.02158, saving model to D:/Jorge/datasets/deforestation/experiments/MT/exp60/models\\resunet_7.h5\n",
      "New best val loss. Val loss: 0.02158. Early stop count: 0\n",
      "Epoch: 5\n",
      "Anneling Coeficient [0.4]\n",
      "319/319 [==============================] - 28s 89ms/step - loss: 0.0619 - accuracy: 0.6482 - val_loss: 0.0191 - val_accuracy: 0.7355\n",
      "\n",
      "Epoch 00001: val_loss improved from 0.02158 to 0.01908, saving model to D:/Jorge/datasets/deforestation/experiments/MT/exp60/models\\resunet_7.h5\n",
      "New best val loss. Val loss: 0.01908. Early stop count: 0\n",
      "Epoch: 6\n",
      "Anneling Coeficient [0.5]\n",
      "319/319 [==============================] - 29s 92ms/step - loss: 0.0593 - accuracy: 0.6474 - val_loss: 0.0188 - val_accuracy: 0.7309\n",
      "\n",
      "Epoch 00001: val_loss improved from 0.01908 to 0.01876, saving model to D:/Jorge/datasets/deforestation/experiments/MT/exp60/models\\resunet_7.h5\n",
      "New best val loss. Val loss: 0.01876. Early stop count: 0\n",
      "Epoch: 7\n",
      "Anneling Coeficient [0.6]\n",
      "319/319 [==============================] - 29s 90ms/step - loss: 0.0581 - accuracy: 0.6516 - val_loss: 0.0171 - val_accuracy: 0.7501\n",
      "\n",
      "Epoch 00001: val_loss improved from 0.01876 to 0.01715, saving model to D:/Jorge/datasets/deforestation/experiments/MT/exp60/models\\resunet_7.h5\n",
      "New best val loss. Val loss: 0.01715. Early stop count: 0\n",
      "Epoch: 8\n",
      "Anneling Coeficient [0.7]\n",
      "319/319 [==============================] - 29s 90ms/step - loss: 0.0563 - accuracy: 0.6519 - val_loss: 0.0160 - val_accuracy: 0.7380\n",
      "\n",
      "Epoch 00001: val_loss improved from 0.01715 to 0.01603, saving model to D:/Jorge/datasets/deforestation/experiments/MT/exp60/models\\resunet_7.h5\n",
      "New best val loss. Val loss: 0.01603. Early stop count: 0\n",
      "Epoch: 9\n",
      "Anneling Coeficient [0.8]\n",
      "319/319 [==============================] - 29s 90ms/step - loss: 0.0551 - accuracy: 0.6507 - val_loss: 0.0165 - val_accuracy: 0.7331\n",
      "\n",
      "Epoch 00001: val_loss did not improve from 0.01603\n",
      "Early stop count: 1\n",
      "Epoch: 10\n",
      "Anneling Coeficient [0.9]\n",
      "319/319 [==============================] - 29s 90ms/step - loss: 0.0533 - accuracy: 0.6554 - val_loss: 0.0155 - val_accuracy: 0.7480\n",
      "\n",
      "Epoch 00001: val_loss improved from 0.01603 to 0.01548, saving model to D:/Jorge/datasets/deforestation/experiments/MT/exp60/models\\resunet_7.h5\n",
      "New best val loss. Val loss: 0.01548. Early stop count: 0\n",
      "Epoch: 11\n",
      "Anneling Coeficient [1.]\n",
      "319/319 [==============================] - 29s 91ms/step - loss: 0.0520 - accuracy: 0.6557 - val_loss: 0.0150 - val_accuracy: 0.7550\n",
      "\n",
      "Epoch 00001: val_loss improved from 0.01548 to 0.01503, saving model to D:/Jorge/datasets/deforestation/experiments/MT/exp60/models\\resunet_7.h5\n",
      "New best val loss. Val loss: 0.01503. Early stop count: 0\n",
      "Epoch: 12\n",
      "Anneling Coeficient [1.]\n",
      "319/319 [==============================] - 28s 89ms/step - loss: 0.0507 - accuracy: 0.6584 - val_loss: 0.0154 - val_accuracy: 0.7505\n",
      "\n",
      "Epoch 00001: val_loss did not improve from 0.01503\n",
      "Early stop count: 1\n",
      "Epoch: 13\n",
      "Anneling Coeficient [1.]\n",
      "319/319 [==============================] - 29s 90ms/step - loss: 0.0488 - accuracy: 0.6596 - val_loss: 0.0165 - val_accuracy: 0.7423\n",
      "\n",
      "Epoch 00001: val_loss did not improve from 0.01503\n",
      "Early stop count: 2\n",
      "Epoch: 14\n",
      "Anneling Coeficient [1.]\n",
      "319/319 [==============================] - 29s 91ms/step - loss: 0.0473 - accuracy: 0.6595 - val_loss: 0.0153 - val_accuracy: 0.7329\n",
      "\n",
      "Epoch 00001: val_loss did not improve from 0.01503\n",
      "Early stop count: 3\n",
      "Epoch: 15\n",
      "Anneling Coeficient [1.]\n",
      "319/319 [==============================] - 28s 89ms/step - loss: 0.0457 - accuracy: 0.6639 - val_loss: 0.0149 - val_accuracy: 0.7370\n",
      "\n",
      "Epoch 00001: val_loss improved from 0.01503 to 0.01495, saving model to D:/Jorge/datasets/deforestation/experiments/MT/exp60/models\\resunet_7.h5\n",
      "New best val loss. Val loss: 0.01495. Early stop count: 0\n",
      "Epoch: 16\n",
      "Anneling Coeficient [1.]\n",
      "319/319 [==============================] - 29s 90ms/step - loss: 0.0448 - accuracy: 0.6656 - val_loss: 0.0146 - val_accuracy: 0.7323\n",
      "\n",
      "Epoch 00001: val_loss improved from 0.01495 to 0.01456, saving model to D:/Jorge/datasets/deforestation/experiments/MT/exp60/models\\resunet_7.h5\n",
      "New best val loss. Val loss: 0.01456. Early stop count: 0\n",
      "Epoch: 17\n",
      "Anneling Coeficient [1.]\n",
      "319/319 [==============================] - 28s 89ms/step - loss: 0.0427 - accuracy: 0.6645 - val_loss: 0.0144 - val_accuracy: 0.7500\n",
      "\n",
      "Epoch 00001: val_loss improved from 0.01456 to 0.01442, saving model to D:/Jorge/datasets/deforestation/experiments/MT/exp60/models\\resunet_7.h5\n",
      "New best val loss. Val loss: 0.01442. Early stop count: 0\n",
      "Epoch: 18\n",
      "Anneling Coeficient [1.]\n",
      "319/319 [==============================] - 29s 91ms/step - loss: 0.0410 - accuracy: 0.6660 - val_loss: 0.0136 - val_accuracy: 0.7389\n",
      "\n",
      "Epoch 00001: val_loss improved from 0.01442 to 0.01356, saving model to D:/Jorge/datasets/deforestation/experiments/MT/exp60/models\\resunet_7.h5\n",
      "New best val loss. Val loss: 0.01356. Early stop count: 0\n",
      "Epoch: 19\n",
      "Anneling Coeficient [1.]\n",
      "319/319 [==============================] - 29s 91ms/step - loss: 0.0406 - accuracy: 0.6686 - val_loss: 0.0146 - val_accuracy: 0.7332\n",
      "\n",
      "Epoch 00001: val_loss did not improve from 0.01356\n",
      "Early stop count: 1\n",
      "Epoch: 20\n",
      "Anneling Coeficient [1.]\n",
      "319/319 [==============================] - 28s 88ms/step - loss: 0.0393 - accuracy: 0.6692 - val_loss: 0.0132 - val_accuracy: 0.7479\n",
      "\n",
      "Epoch 00001: val_loss improved from 0.01356 to 0.01321, saving model to D:/Jorge/datasets/deforestation/experiments/MT/exp60/models\\resunet_7.h5\n",
      "New best val loss. Val loss: 0.01321. Early stop count: 0\n",
      "Epoch: 21\n",
      "Anneling Coeficient [1.]\n",
      "319/319 [==============================] - 29s 91ms/step - loss: 0.0383 - accuracy: 0.6705 - val_loss: 0.0133 - val_accuracy: 0.7551\n",
      "\n",
      "Epoch 00001: val_loss did not improve from 0.01321\n",
      "Early stop count: 1\n",
      "Epoch: 22\n",
      "Anneling Coeficient [1.]\n",
      "319/319 [==============================] - 28s 89ms/step - loss: 0.0376 - accuracy: 0.6713 - val_loss: 0.0136 - val_accuracy: 0.7509\n",
      "\n",
      "Epoch 00001: val_loss did not improve from 0.01321\n",
      "Early stop count: 2\n",
      "Epoch: 23\n",
      "Anneling Coeficient [1.]\n",
      "319/319 [==============================] - 29s 91ms/step - loss: 0.0371 - accuracy: 0.6715 - val_loss: 0.0134 - val_accuracy: 0.7437\n",
      "\n",
      "Epoch 00001: val_loss did not improve from 0.01321\n",
      "Early stop count: 3\n",
      "Epoch: 24\n",
      "Anneling Coeficient [1.]\n",
      "319/319 [==============================] - 29s 92ms/step - loss: 0.0362 - accuracy: 0.6718 - val_loss: 0.0134 - val_accuracy: 0.7325\n",
      "\n",
      "Epoch 00001: val_loss did not improve from 0.01321\n",
      "Early stop count: 4\n",
      "Epoch: 25\n",
      "Anneling Coeficient [1.]\n",
      "319/319 [==============================] - 29s 90ms/step - loss: 0.0346 - accuracy: 0.6737 - val_loss: 0.0135 - val_accuracy: 0.7365\n",
      "\n",
      "Epoch 00001: val_loss did not improve from 0.01321\n",
      "Early stop count: 5\n",
      "Epoch: 26\n",
      "Anneling Coeficient [1.]\n",
      "319/319 [==============================] - 29s 91ms/step - loss: 0.0354 - accuracy: 0.6719 - val_loss: 0.0148 - val_accuracy: 0.7310\n",
      "\n",
      "Epoch 00001: val_loss did not improve from 0.01321\n",
      "Early stop count: 6\n",
      "Epoch: 27\n",
      "Anneling Coeficient [1.]\n",
      "319/319 [==============================] - 28s 89ms/step - loss: 0.0341 - accuracy: 0.6751 - val_loss: 0.0142 - val_accuracy: 0.7497\n",
      "\n",
      "Epoch 00001: val_loss did not improve from 0.01321\n",
      "Early stop count: 7\n",
      "Epoch: 28\n",
      "Anneling Coeficient [1.]\n",
      "319/319 [==============================] - 29s 91ms/step - loss: 0.0334 - accuracy: 0.6753 - val_loss: 0.0134 - val_accuracy: 0.7384\n",
      "\n",
      "Epoch 00001: val_loss did not improve from 0.01321\n",
      "Early stop count: 8\n",
      "Epoch: 29\n",
      "Anneling Coeficient [1.]\n",
      "319/319 [==============================] - 28s 89ms/step - loss: 0.0328 - accuracy: 0.6773 - val_loss: 0.0127 - val_accuracy: 0.7341\n",
      "\n",
      "Epoch 00001: val_loss improved from 0.01321 to 0.01271, saving model to D:/Jorge/datasets/deforestation/experiments/MT/exp60/models\\resunet_7.h5\n",
      "New best val loss. Val loss: 0.01271. Early stop count: 0\n",
      "Epoch: 30\n",
      "Anneling Coeficient [1.]\n",
      "319/319 [==============================] - 29s 89ms/step - loss: 0.0316 - accuracy: 0.6748 - val_loss: 0.0119 - val_accuracy: 0.7485\n",
      "\n",
      "Epoch 00001: val_loss improved from 0.01271 to 0.01189, saving model to D:/Jorge/datasets/deforestation/experiments/MT/exp60/models\\resunet_7.h5\n",
      "New best val loss. Val loss: 0.01189. Early stop count: 0\n",
      "Epoch: 31\n",
      "Anneling Coeficient [1.]\n",
      "319/319 [==============================] - 30s 93ms/step - loss: 0.0318 - accuracy: 0.6790 - val_loss: 0.0135 - val_accuracy: 0.7540\n",
      "\n",
      "Epoch 00001: val_loss did not improve from 0.01189\n",
      "Early stop count: 1\n",
      "Epoch: 32\n",
      "Anneling Coeficient [1.]\n",
      "319/319 [==============================] - 29s 90ms/step - loss: 0.0312 - accuracy: 0.6770 - val_loss: 0.0134 - val_accuracy: 0.7512\n",
      "\n",
      "Epoch 00001: val_loss did not improve from 0.01189\n",
      "Early stop count: 2\n",
      "Epoch: 33\n",
      "Anneling Coeficient [1.]\n",
      "319/319 [==============================] - 29s 92ms/step - loss: 0.0304 - accuracy: 0.6777 - val_loss: 0.0130 - val_accuracy: 0.7435\n",
      "\n",
      "Epoch 00001: val_loss did not improve from 0.01189\n",
      "Early stop count: 3\n",
      "Epoch: 34\n",
      "Anneling Coeficient [1.]\n",
      "319/319 [==============================] - 29s 91ms/step - loss: 0.0305 - accuracy: 0.6787 - val_loss: 0.0136 - val_accuracy: 0.7324\n",
      "\n",
      "Epoch 00001: val_loss did not improve from 0.01189\n",
      "Early stop count: 4\n",
      "Epoch: 35\n",
      "Anneling Coeficient [1.]\n",
      "319/319 [==============================] - 29s 90ms/step - loss: 0.0303 - accuracy: 0.6781 - val_loss: 0.0134 - val_accuracy: 0.7363\n",
      "\n",
      "Epoch 00001: val_loss did not improve from 0.01189\n",
      "Early stop count: 5\n",
      "Epoch: 36\n",
      "Anneling Coeficient [1.]\n",
      "319/319 [==============================] - 30s 93ms/step - loss: 0.0287 - accuracy: 0.6806 - val_loss: 0.0129 - val_accuracy: 0.7321\n",
      "\n",
      "Epoch 00001: val_loss did not improve from 0.01189\n",
      "Early stop count: 6\n",
      "Epoch: 37\n",
      "Anneling Coeficient [1.]\n",
      "319/319 [==============================] - 29s 90ms/step - loss: 0.0284 - accuracy: 0.6807 - val_loss: 0.0130 - val_accuracy: 0.7507\n",
      "\n",
      "Epoch 00001: val_loss did not improve from 0.01189\n",
      "Early stop count: 7\n",
      "Epoch: 38\n",
      "Anneling Coeficient [1.]\n",
      "319/319 [==============================] - 29s 91ms/step - loss: 0.0284 - accuracy: 0.6812 - val_loss: 0.0131 - val_accuracy: 0.7384\n",
      "\n",
      "Epoch 00001: val_loss did not improve from 0.01189\n",
      "Early stop count: 8\n",
      "Epoch: 39\n",
      "Anneling Coeficient [1.]\n",
      "319/319 [==============================] - 29s 90ms/step - loss: 0.0277 - accuracy: 0.6803 - val_loss: 0.0124 - val_accuracy: 0.7343\n",
      "\n",
      "Epoch 00001: val_loss did not improve from 0.01189\n",
      "Early stop count: 9\n",
      "Epoch: 40\n",
      "Anneling Coeficient [1.]\n",
      "319/319 [==============================] - 29s 90ms/step - loss: 0.0273 - accuracy: 0.6819 - val_loss: 0.0114 - val_accuracy: 0.7486\n",
      "\n",
      "Epoch 00001: val_loss improved from 0.01189 to 0.01144, saving model to D:/Jorge/datasets/deforestation/experiments/MT/exp60/models\\resunet_7.h5\n",
      "New best val loss. Val loss: 0.01144. Early stop count: 0\n",
      "Epoch: 41\n",
      "Anneling Coeficient [1.]\n",
      "319/319 [==============================] - 30s 93ms/step - loss: 0.0276 - accuracy: 0.6814 - val_loss: 0.0122 - val_accuracy: 0.7552\n",
      "\n",
      "Epoch 00001: val_loss did not improve from 0.01144\n",
      "Early stop count: 1\n",
      "Epoch: 42\n",
      "Anneling Coeficient [1.]\n",
      "319/319 [==============================] - 30s 94ms/step - loss: 0.0262 - accuracy: 0.6835 - val_loss: 0.0124 - val_accuracy: 0.7514\n",
      "\n",
      "Epoch 00001: val_loss did not improve from 0.01144\n",
      "Early stop count: 2\n",
      "Epoch: 43\n",
      "Anneling Coeficient [1.]\n",
      "319/319 [==============================] - 31s 96ms/step - loss: 0.0267 - accuracy: 0.6831 - val_loss: 0.0128 - val_accuracy: 0.7436\n",
      "\n",
      "Epoch 00001: val_loss did not improve from 0.01144\n",
      "Early stop count: 3\n",
      "Epoch: 44\n",
      "Anneling Coeficient [1.]\n",
      "319/319 [==============================] - 30s 93ms/step - loss: 0.0256 - accuracy: 0.6835 - val_loss: 0.0122 - val_accuracy: 0.7336\n",
      "\n",
      "Epoch 00001: val_loss did not improve from 0.01144\n",
      "Early stop count: 4\n",
      "Epoch: 45\n",
      "Anneling Coeficient [1.]\n",
      "319/319 [==============================] - 29s 90ms/step - loss: 0.0262 - accuracy: 0.6829 - val_loss: 0.0132 - val_accuracy: 0.7362\n",
      "\n",
      "Epoch 00001: val_loss did not improve from 0.01144\n",
      "Early stop count: 5\n",
      "Epoch: 46\n",
      "Anneling Coeficient [1.]\n",
      "319/319 [==============================] - 30s 95ms/step - loss: 0.0250 - accuracy: 0.6847 - val_loss: 0.0125 - val_accuracy: 0.7324\n",
      "\n",
      "Epoch 00001: val_loss did not improve from 0.01144\n",
      "Early stop count: 6\n",
      "Epoch: 47\n",
      "Anneling Coeficient [1.]\n",
      "319/319 [==============================] - 29s 90ms/step - loss: 0.0246 - accuracy: 0.6850 - val_loss: 0.0139 - val_accuracy: 0.7497\n",
      "\n",
      "Epoch 00001: val_loss did not improve from 0.01144\n",
      "Early stop count: 7\n",
      "Epoch: 48\n",
      "Anneling Coeficient [1.]\n",
      "319/319 [==============================] - 29s 92ms/step - loss: 0.0244 - accuracy: 0.6853 - val_loss: 0.0127 - val_accuracy: 0.7387\n",
      "\n",
      "Epoch 00001: val_loss did not improve from 0.01144\n",
      "Early stop count: 8\n",
      "Epoch: 49\n",
      "Anneling Coeficient [1.]\n",
      "319/319 [==============================] - 28s 89ms/step - loss: 0.0241 - accuracy: 0.6853 - val_loss: 0.0135 - val_accuracy: 0.7333\n",
      "\n",
      "Epoch 00001: val_loss did not improve from 0.01144\n",
      "Early stop count: 9\n",
      "Epoch: 50\n",
      "Anneling Coeficient [1.]\n",
      "319/319 [==============================] - 29s 91ms/step - loss: 0.0234 - accuracy: 0.6864 - val_loss: 0.0130 - val_accuracy: 0.7461\n",
      "\n",
      "Epoch 00001: val_loss did not improve from 0.01144\n",
      "Early stop count: 10\n",
      "Early stopping\n",
      "10 10\n",
      "Finished Training\n",
      "Training time:  1456.534385919571\n",
      "time:  8\n",
      "Model: \"model_8\"\n",
      "__________________________________________________________________________________________________\n",
      "Layer (type)                    Output Shape         Param #     Connected to                     \n",
      "==================================================================================================\n",
      "input_enc_net (InputLayer)      [(None, 128, 128, 21 0                                            \n",
      "__________________________________________________________________________________________________\n",
      "res1_net1 (Conv2D)              (None, 128, 128, 16) 3040        input_enc_net[0][0]              \n",
      "__________________________________________________________________________________________________\n",
      "drop_net1 (SpatialDropout2D)    (None, 128, 128, 16) 0           res1_net1[0][0]                  \n",
      "__________________________________________________________________________________________________\n",
      "res2_net1 (Conv2D)              (None, 128, 128, 16) 2320        drop_net1[0][0]                  \n",
      "__________________________________________________________________________________________________\n",
      "res3_net1 (Conv2D)              (None, 128, 128, 16) 352         input_enc_net[0][0]              \n",
      "__________________________________________________________________________________________________\n",
      "add_48 (Add)                    (None, 128, 128, 16) 0           res2_net1[0][0]                  \n",
      "                                                                 res3_net1[0][0]                  \n",
      "__________________________________________________________________________________________________\n",
      "pool_net1 (MaxPooling2D)        (None, 64, 64, 16)   0           add_48[0][0]                     \n",
      "__________________________________________________________________________________________________\n",
      "res1_net2 (Conv2D)              (None, 64, 64, 32)   4640        pool_net1[0][0]                  \n",
      "__________________________________________________________________________________________________\n",
      "drop_net2 (SpatialDropout2D)    (None, 64, 64, 32)   0           res1_net2[0][0]                  \n",
      "__________________________________________________________________________________________________\n",
      "res2_net2 (Conv2D)              (None, 64, 64, 32)   9248        drop_net2[0][0]                  \n",
      "__________________________________________________________________________________________________\n",
      "res3_net2 (Conv2D)              (None, 64, 64, 32)   544         pool_net1[0][0]                  \n",
      "__________________________________________________________________________________________________\n",
      "add_49 (Add)                    (None, 64, 64, 32)   0           res2_net2[0][0]                  \n",
      "                                                                 res3_net2[0][0]                  \n",
      "__________________________________________________________________________________________________\n",
      "pool_net2 (MaxPooling2D)        (None, 32, 32, 32)   0           add_49[0][0]                     \n",
      "__________________________________________________________________________________________________\n",
      "res1_net3 (Conv2D)              (None, 32, 32, 64)   18496       pool_net2[0][0]                  \n",
      "__________________________________________________________________________________________________\n",
      "drop_net3 (SpatialDropout2D)    (None, 32, 32, 64)   0           res1_net3[0][0]                  \n",
      "__________________________________________________________________________________________________\n",
      "res2_net3 (Conv2D)              (None, 32, 32, 64)   36928       drop_net3[0][0]                  \n",
      "__________________________________________________________________________________________________\n",
      "res3_net3 (Conv2D)              (None, 32, 32, 64)   2112        pool_net2[0][0]                  \n",
      "__________________________________________________________________________________________________\n",
      "add_50 (Add)                    (None, 32, 32, 64)   0           res2_net3[0][0]                  \n",
      "                                                                 res3_net3[0][0]                  \n",
      "__________________________________________________________________________________________________\n",
      "pool_net3 (MaxPooling2D)        (None, 16, 16, 64)   0           add_50[0][0]                     \n",
      "__________________________________________________________________________________________________\n",
      "res1_net4 (Conv2D)              (None, 16, 16, 64)   36928       pool_net3[0][0]                  \n",
      "__________________________________________________________________________________________________\n",
      "drop_net4 (SpatialDropout2D)    (None, 16, 16, 64)   0           res1_net4[0][0]                  \n",
      "__________________________________________________________________________________________________\n",
      "res2_net4 (Conv2D)              (None, 16, 16, 64)   36928       drop_net4[0][0]                  \n",
      "__________________________________________________________________________________________________\n",
      "res3_net4 (Conv2D)              (None, 16, 16, 64)   4160        pool_net3[0][0]                  \n",
      "__________________________________________________________________________________________________\n",
      "add_51 (Add)                    (None, 16, 16, 64)   0           res2_net4[0][0]                  \n",
      "                                                                 res3_net4[0][0]                  \n",
      "__________________________________________________________________________________________________\n",
      "res1_net5 (Conv2D)              (None, 16, 16, 64)   36928       add_51[0][0]                     \n",
      "__________________________________________________________________________________________________\n",
      "drop_net5 (SpatialDropout2D)    (None, 16, 16, 64)   0           res1_net5[0][0]                  \n",
      "__________________________________________________________________________________________________\n",
      "res2_net5 (Conv2D)              (None, 16, 16, 64)   36928       drop_net5[0][0]                  \n",
      "__________________________________________________________________________________________________\n",
      "res3_net5 (Conv2D)              (None, 16, 16, 64)   4160        add_51[0][0]                     \n",
      "__________________________________________________________________________________________________\n",
      "add_52 (Add)                    (None, 16, 16, 64)   0           res2_net5[0][0]                  \n",
      "                                                                 res3_net5[0][0]                  \n",
      "__________________________________________________________________________________________________\n",
      "res1_net6 (Conv2D)              (None, 16, 16, 64)   36928       add_52[0][0]                     \n",
      "__________________________________________________________________________________________________\n",
      "drop_net6 (SpatialDropout2D)    (None, 16, 16, 64)   0           res1_net6[0][0]                  \n",
      "__________________________________________________________________________________________________\n",
      "res2_net6 (Conv2D)              (None, 16, 16, 64)   36928       drop_net6[0][0]                  \n",
      "__________________________________________________________________________________________________\n",
      "res3_net6 (Conv2D)              (None, 16, 16, 64)   4160        add_52[0][0]                     \n",
      "__________________________________________________________________________________________________\n",
      "add_53 (Add)                    (None, 16, 16, 64)   0           res2_net6[0][0]                  \n",
      "                                                                 res3_net6[0][0]                  \n",
      "__________________________________________________________________________________________________\n",
      "up_sampling2d_24 (UpSampling2D) (None, 32, 32, 64)   0           add_53[0][0]                     \n",
      "__________________________________________________________________________________________________\n",
      "upsampling_net3 (Conv2D)        (None, 32, 32, 64)   36928       up_sampling2d_24[0][0]           \n",
      "__________________________________________________________________________________________________\n",
      "spatial_dropout2d_24 (SpatialDr (None, 32, 32, 64)   0           upsampling_net3[0][0]            \n",
      "__________________________________________________________________________________________________\n",
      "concatenate3 (Concatenate)      (None, 32, 32, 128)  0           add_50[0][0]                     \n",
      "                                                                 spatial_dropout2d_24[0][0]       \n",
      "__________________________________________________________________________________________________\n",
      "up_sampling2d_25 (UpSampling2D) (None, 64, 64, 128)  0           concatenate3[0][0]               \n",
      "__________________________________________________________________________________________________\n",
      "upsampling_net2 (Conv2D)        (None, 64, 64, 32)   36896       up_sampling2d_25[0][0]           \n",
      "__________________________________________________________________________________________________\n",
      "spatial_dropout2d_25 (SpatialDr (None, 64, 64, 32)   0           upsampling_net2[0][0]            \n",
      "__________________________________________________________________________________________________\n",
      "concatenate2 (Concatenate)      (None, 64, 64, 64)   0           add_49[0][0]                     \n",
      "                                                                 spatial_dropout2d_25[0][0]       \n",
      "__________________________________________________________________________________________________\n",
      "up_sampling2d_26 (UpSampling2D) (None, 128, 128, 64) 0           concatenate2[0][0]               \n",
      "__________________________________________________________________________________________________\n",
      "upsampling_net1 (Conv2D)        (None, 128, 128, 16) 9232        up_sampling2d_26[0][0]           \n",
      "__________________________________________________________________________________________________\n",
      "spatial_dropout2d_26 (SpatialDr (None, 128, 128, 16) 0           upsampling_net1[0][0]            \n",
      "__________________________________________________________________________________________________\n",
      "concatenate1 (Concatenate)      (None, 128, 128, 32) 0           add_48[0][0]                     \n",
      "                                                                 spatial_dropout2d_26[0][0]       \n",
      "__________________________________________________________________________________________________\n",
      "output (Conv2D)                 (None, 128, 128, 2)  66          concatenate1[0][0]               \n",
      "__________________________________________________________________________________________________\n",
      "dirichlet_layer_8 (DirichletLay (None, 128, 128, 2)  0           output[0][0]                     \n",
      "==================================================================================================\n",
      "Total params: 394,850\n",
      "Trainable params: 394,850\n",
      "Non-trainable params: 0\n",
      "__________________________________________________________________________________________________\n",
      "Epoch: 1\n",
      "Anneling Coeficient [1.]\n",
      "K.int_shape(mse) (None, 128, 128, 1)\n",
      "K.int_shape(mask) (None, None, None, 1)\n",
      "K.int_shape(E) (None, 128, 128, 2)\n",
      "K.int_shape(y_truth) (None, None, None, None)\n",
      "K.int_shape(mse) (None, 128, 128, 1)\n",
      "K.int_shape(mask) (None, None, None, 1)\n",
      "K.int_shape(E) (None, 128, 128, 2)\n",
      "K.int_shape(y_truth) (None, None, None, None)\n",
      "319/319 [==============================] - ETA: 0s - loss: 0.1143 - accuracy: 0.5993K.int_shape(mse) (None, 128, 128, 1)\n",
      "K.int_shape(mask) (None, None, None, 1)\n",
      "K.int_shape(E) (None, 128, 128, 2)\n",
      "K.int_shape(y_truth) (None, None, None, None)\n",
      "319/319 [==============================] - 31s 92ms/step - loss: 0.1143 - accuracy: 0.5993 - val_loss: 0.0394 - val_accuracy: 0.7492\n",
      "\n",
      "Epoch 00001: val_loss improved from inf to 0.03939, saving model to D:/Jorge/datasets/deforestation/experiments/MT/exp60/models\\resunet_8.h5\n",
      "New best val loss. Val loss: 0.03939. Early stop count: 0\n",
      "Epoch: 2\n",
      "Anneling Coeficient [0.1]\n",
      "319/319 [==============================] - 29s 90ms/step - loss: 0.0713 - accuracy: 0.6418 - val_loss: 0.0264 - val_accuracy: 0.7487\n",
      "\n",
      "Epoch 00001: val_loss improved from 0.03939 to 0.02636, saving model to D:/Jorge/datasets/deforestation/experiments/MT/exp60/models\\resunet_8.h5\n",
      "New best val loss. Val loss: 0.02636. Early stop count: 0\n",
      "Epoch: 3\n",
      "Anneling Coeficient [0.2]\n",
      "319/319 [==============================] - 29s 91ms/step - loss: 0.0640 - accuracy: 0.6459 - val_loss: 0.0213 - val_accuracy: 0.7416\n",
      "\n",
      "Epoch 00001: val_loss improved from 0.02636 to 0.02130, saving model to D:/Jorge/datasets/deforestation/experiments/MT/exp60/models\\resunet_8.h5\n",
      "New best val loss. Val loss: 0.0213. Early stop count: 0\n",
      "Epoch: 4\n",
      "Anneling Coeficient [0.3]\n",
      "319/319 [==============================] - 29s 91ms/step - loss: 0.0605 - accuracy: 0.6499 - val_loss: 0.0250 - val_accuracy: 0.7323\n",
      "\n",
      "Epoch 00001: val_loss did not improve from 0.02130\n",
      "Early stop count: 1\n",
      "Epoch: 5\n",
      "Anneling Coeficient [0.4]\n",
      "319/319 [==============================] - 29s 92ms/step - loss: 0.0577 - accuracy: 0.6519 - val_loss: 0.0198 - val_accuracy: 0.7364\n",
      "\n",
      "Epoch 00001: val_loss improved from 0.02130 to 0.01979, saving model to D:/Jorge/datasets/deforestation/experiments/MT/exp60/models\\resunet_8.h5\n",
      "New best val loss. Val loss: 0.01979. Early stop count: 0\n",
      "Epoch: 6\n",
      "Anneling Coeficient [0.5]\n",
      "319/319 [==============================] - 29s 92ms/step - loss: 0.0544 - accuracy: 0.6544 - val_loss: 0.0193 - val_accuracy: 0.7310\n",
      "\n",
      "Epoch 00001: val_loss improved from 0.01979 to 0.01927, saving model to D:/Jorge/datasets/deforestation/experiments/MT/exp60/models\\resunet_8.h5\n",
      "New best val loss. Val loss: 0.01927. Early stop count: 0\n",
      "Epoch: 7\n",
      "Anneling Coeficient [0.6]\n",
      "319/319 [==============================] - 29s 90ms/step - loss: 0.0529 - accuracy: 0.6569 - val_loss: 0.0219 - val_accuracy: 0.7508\n",
      "\n",
      "Epoch 00001: val_loss did not improve from 0.01927\n",
      "Early stop count: 1\n",
      "Epoch: 8\n",
      "Anneling Coeficient [0.7]\n",
      "319/319 [==============================] - 30s 93ms/step - loss: 0.0508 - accuracy: 0.6589 - val_loss: 0.0162 - val_accuracy: 0.7392\n",
      "\n",
      "Epoch 00001: val_loss improved from 0.01927 to 0.01623, saving model to D:/Jorge/datasets/deforestation/experiments/MT/exp60/models\\resunet_8.h5\n",
      "New best val loss. Val loss: 0.01623. Early stop count: 0\n",
      "Epoch: 9\n",
      "Anneling Coeficient [0.8]\n",
      "319/319 [==============================] - 30s 93ms/step - loss: 0.0494 - accuracy: 0.6594 - val_loss: 0.0166 - val_accuracy: 0.7344\n",
      "\n",
      "Epoch 00001: val_loss did not improve from 0.01623\n",
      "Early stop count: 1\n",
      "Epoch: 10\n",
      "Anneling Coeficient [0.9]\n",
      "319/319 [==============================] - 31s 98ms/step - loss: 0.0473 - accuracy: 0.6612 - val_loss: 0.0169 - val_accuracy: 0.7488\n",
      "\n",
      "Epoch 00001: val_loss did not improve from 0.01623\n",
      "Early stop count: 2\n",
      "Epoch: 11\n",
      "Anneling Coeficient [1.]\n",
      "319/319 [==============================] - 34s 106ms/step - loss: 0.0459 - accuracy: 0.6619 - val_loss: 0.0159 - val_accuracy: 0.7564\n",
      "\n",
      "Epoch 00001: val_loss improved from 0.01623 to 0.01590, saving model to D:/Jorge/datasets/deforestation/experiments/MT/exp60/models\\resunet_8.h5\n",
      "New best val loss. Val loss: 0.0159. Early stop count: 0\n",
      "Epoch: 12\n",
      "Anneling Coeficient [1.]\n",
      "319/319 [==============================] - 31s 98ms/step - loss: 0.0451 - accuracy: 0.6639 - val_loss: 0.0156 - val_accuracy: 0.7520\n",
      "\n",
      "Epoch 00001: val_loss improved from 0.01590 to 0.01559, saving model to D:/Jorge/datasets/deforestation/experiments/MT/exp60/models\\resunet_8.h5\n",
      "New best val loss. Val loss: 0.01559. Early stop count: 0\n",
      "Epoch: 13\n",
      "Anneling Coeficient [1.]\n",
      "319/319 [==============================] - 31s 96ms/step - loss: 0.0429 - accuracy: 0.6652 - val_loss: 0.0162 - val_accuracy: 0.7433\n",
      "\n",
      "Epoch 00001: val_loss did not improve from 0.01559\n",
      "Early stop count: 1\n",
      "Epoch: 14\n",
      "Anneling Coeficient [1.]\n",
      "319/319 [==============================] - 30s 94ms/step - loss: 0.0420 - accuracy: 0.6663 - val_loss: 0.0159 - val_accuracy: 0.7315\n",
      "\n",
      "Epoch 00001: val_loss did not improve from 0.01559\n",
      "Early stop count: 2\n",
      "Epoch: 15\n",
      "Anneling Coeficient [1.]\n",
      "319/319 [==============================] - 29s 90ms/step - loss: 0.0412 - accuracy: 0.6687 - val_loss: 0.0148 - val_accuracy: 0.7371\n",
      "\n",
      "Epoch 00001: val_loss improved from 0.01559 to 0.01482, saving model to D:/Jorge/datasets/deforestation/experiments/MT/exp60/models\\resunet_8.h5\n",
      "New best val loss. Val loss: 0.01482. Early stop count: 0\n",
      "Epoch: 16\n",
      "Anneling Coeficient [1.]\n",
      "319/319 [==============================] - 29s 91ms/step - loss: 0.0392 - accuracy: 0.6686 - val_loss: 0.0152 - val_accuracy: 0.7315\n",
      "\n",
      "Epoch 00001: val_loss did not improve from 0.01482\n",
      "Early stop count: 1\n",
      "Epoch: 17\n",
      "Anneling Coeficient [1.]\n",
      "319/319 [==============================] - 29s 90ms/step - loss: 0.0386 - accuracy: 0.6714 - val_loss: 0.0142 - val_accuracy: 0.7502\n",
      "\n",
      "Epoch 00001: val_loss improved from 0.01482 to 0.01419, saving model to D:/Jorge/datasets/deforestation/experiments/MT/exp60/models\\resunet_8.h5\n",
      "New best val loss. Val loss: 0.01419. Early stop count: 0\n",
      "Epoch: 18\n",
      "Anneling Coeficient [1.]\n",
      "319/319 [==============================] - 30s 95ms/step - loss: 0.0377 - accuracy: 0.6704 - val_loss: 0.0145 - val_accuracy: 0.7380\n",
      "\n",
      "Epoch 00001: val_loss did not improve from 0.01419\n",
      "Early stop count: 1\n",
      "Epoch: 19\n",
      "Anneling Coeficient [1.]\n",
      "319/319 [==============================] - 29s 90ms/step - loss: 0.0370 - accuracy: 0.6710 - val_loss: 0.0149 - val_accuracy: 0.7329\n",
      "\n",
      "Epoch 00001: val_loss did not improve from 0.01419\n",
      "Early stop count: 2\n",
      "Epoch: 20\n",
      "Anneling Coeficient [1.]\n",
      "319/319 [==============================] - 29s 92ms/step - loss: 0.0358 - accuracy: 0.6738 - val_loss: 0.0143 - val_accuracy: 0.7464\n",
      "\n",
      "Epoch 00001: val_loss did not improve from 0.01419\n",
      "Early stop count: 3\n",
      "Epoch: 21\n",
      "Anneling Coeficient [1.]\n",
      "319/319 [==============================] - 29s 90ms/step - loss: 0.0350 - accuracy: 0.6736 - val_loss: 0.0137 - val_accuracy: 0.7551\n",
      "\n",
      "Epoch 00001: val_loss improved from 0.01419 to 0.01367, saving model to D:/Jorge/datasets/deforestation/experiments/MT/exp60/models\\resunet_8.h5\n",
      "New best val loss. Val loss: 0.01367. Early stop count: 0\n",
      "Epoch: 22\n",
      "Anneling Coeficient [1.]\n",
      "319/319 [==============================] - 29s 91ms/step - loss: 0.0338 - accuracy: 0.6757 - val_loss: 0.0140 - val_accuracy: 0.7511\n",
      "\n",
      "Epoch 00001: val_loss did not improve from 0.01367\n",
      "Early stop count: 1\n",
      "Epoch: 23\n",
      "Anneling Coeficient [1.]\n",
      "319/319 [==============================] - 29s 92ms/step - loss: 0.0336 - accuracy: 0.6756 - val_loss: 0.0134 - val_accuracy: 0.7437\n",
      "\n",
      "Epoch 00001: val_loss improved from 0.01367 to 0.01342, saving model to D:/Jorge/datasets/deforestation/experiments/MT/exp60/models\\resunet_8.h5\n",
      "New best val loss. Val loss: 0.01342. Early stop count: 0\n",
      "Epoch: 24\n",
      "Anneling Coeficient [1.]\n",
      "319/319 [==============================] - 29s 90ms/step - loss: 0.0329 - accuracy: 0.6783 - val_loss: 0.0142 - val_accuracy: 0.7320\n",
      "\n",
      "Epoch 00001: val_loss did not improve from 0.01342\n",
      "Early stop count: 1\n",
      "Epoch: 25\n",
      "Anneling Coeficient [1.]\n",
      "319/319 [==============================] - 29s 90ms/step - loss: 0.0315 - accuracy: 0.6757 - val_loss: 0.0133 - val_accuracy: 0.7368\n",
      "\n",
      "Epoch 00001: val_loss improved from 0.01342 to 0.01335, saving model to D:/Jorge/datasets/deforestation/experiments/MT/exp60/models\\resunet_8.h5\n",
      "New best val loss. Val loss: 0.01335. Early stop count: 0\n",
      "Epoch: 26\n",
      "Anneling Coeficient [1.]\n",
      "319/319 [==============================] - 29s 91ms/step - loss: 0.0314 - accuracy: 0.6781 - val_loss: 0.0136 - val_accuracy: 0.7322\n",
      "\n",
      "Epoch 00001: val_loss did not improve from 0.01335\n",
      "Early stop count: 1\n",
      "Epoch: 27\n",
      "Anneling Coeficient [1.]\n",
      "319/319 [==============================] - 29s 90ms/step - loss: 0.0303 - accuracy: 0.6788 - val_loss: 0.0134 - val_accuracy: 0.7503\n",
      "\n",
      "Epoch 00001: val_loss did not improve from 0.01335\n",
      "Early stop count: 2\n",
      "Epoch: 28\n",
      "Anneling Coeficient [1.]\n",
      "319/319 [==============================] - 30s 93ms/step - loss: 0.0296 - accuracy: 0.6792 - val_loss: 0.0138 - val_accuracy: 0.7381\n",
      "\n",
      "Epoch 00001: val_loss did not improve from 0.01335\n",
      "Early stop count: 3\n",
      "Epoch: 29\n",
      "Anneling Coeficient [1.]\n",
      "319/319 [==============================] - 29s 91ms/step - loss: 0.0290 - accuracy: 0.6810 - val_loss: 0.0136 - val_accuracy: 0.7331\n",
      "\n",
      "Epoch 00001: val_loss did not improve from 0.01335\n",
      "Early stop count: 4\n",
      "Epoch: 30\n",
      "Anneling Coeficient [1.]\n",
      "319/319 [==============================] - 30s 95ms/step - loss: 0.0285 - accuracy: 0.6818 - val_loss: 0.0123 - val_accuracy: 0.7479\n",
      "\n",
      "Epoch 00001: val_loss improved from 0.01335 to 0.01235, saving model to D:/Jorge/datasets/deforestation/experiments/MT/exp60/models\\resunet_8.h5\n",
      "New best val loss. Val loss: 0.01235. Early stop count: 0\n",
      "Epoch: 31\n",
      "Anneling Coeficient [1.]\n",
      "319/319 [==============================] - 30s 93ms/step - loss: 0.0287 - accuracy: 0.6803 - val_loss: 0.0129 - val_accuracy: 0.7549\n",
      "\n",
      "Epoch 00001: val_loss did not improve from 0.01235\n",
      "Early stop count: 1\n",
      "Epoch: 32\n",
      "Anneling Coeficient [1.]\n",
      "319/319 [==============================] - 30s 94ms/step - loss: 0.0279 - accuracy: 0.6798 - val_loss: 0.0135 - val_accuracy: 0.7502\n",
      "\n",
      "Epoch 00001: val_loss did not improve from 0.01235\n",
      "Early stop count: 2\n",
      "Epoch: 33\n",
      "Anneling Coeficient [1.]\n",
      "319/319 [==============================] - 30s 94ms/step - loss: 0.0270 - accuracy: 0.6846 - val_loss: 0.0131 - val_accuracy: 0.7433\n",
      "\n",
      "Epoch 00001: val_loss did not improve from 0.01235\n",
      "Early stop count: 3\n",
      "Epoch: 34\n",
      "Anneling Coeficient [1.]\n",
      "319/319 [==============================] - 28s 88ms/step - loss: 0.0271 - accuracy: 0.6811 - val_loss: 0.0159 - val_accuracy: 0.7295\n",
      "\n",
      "Epoch 00001: val_loss did not improve from 0.01235\n",
      "Early stop count: 4\n",
      "Epoch: 35\n",
      "Anneling Coeficient [1.]\n",
      "319/319 [==============================] - 29s 89ms/step - loss: 0.0255 - accuracy: 0.6835 - val_loss: 0.0131 - val_accuracy: 0.7366\n",
      "\n",
      "Epoch 00001: val_loss did not improve from 0.01235\n",
      "Early stop count: 5\n",
      "Epoch: 36\n",
      "Anneling Coeficient [1.]\n",
      "319/319 [==============================] - 27s 85ms/step - loss: 0.0262 - accuracy: 0.6836 - val_loss: 0.0129 - val_accuracy: 0.7319\n",
      "\n",
      "Epoch 00001: val_loss did not improve from 0.01235\n",
      "Early stop count: 6\n",
      "Epoch: 37\n",
      "Anneling Coeficient [1.]\n",
      "319/319 [==============================] - 27s 86ms/step - loss: 0.0253 - accuracy: 0.6841 - val_loss: 0.0134 - val_accuracy: 0.7500\n",
      "\n",
      "Epoch 00001: val_loss did not improve from 0.01235\n",
      "Early stop count: 7\n",
      "Epoch: 38\n",
      "Anneling Coeficient [1.]\n",
      "319/319 [==============================] - 28s 88ms/step - loss: 0.0246 - accuracy: 0.6864 - val_loss: 0.0136 - val_accuracy: 0.7376\n",
      "\n",
      "Epoch 00001: val_loss did not improve from 0.01235\n",
      "Early stop count: 8\n",
      "Epoch: 39\n",
      "Anneling Coeficient [1.]\n",
      "319/319 [==============================] - 28s 87ms/step - loss: 0.0247 - accuracy: 0.6850 - val_loss: 0.0134 - val_accuracy: 0.7335\n",
      "\n",
      "Epoch 00001: val_loss did not improve from 0.01235\n",
      "Early stop count: 9\n",
      "Epoch: 40\n",
      "Anneling Coeficient [1.]\n",
      "319/319 [==============================] - 28s 88ms/step - loss: 0.0235 - accuracy: 0.6851 - val_loss: 0.0115 - val_accuracy: 0.7486\n",
      "\n",
      "Epoch 00001: val_loss improved from 0.01235 to 0.01145, saving model to D:/Jorge/datasets/deforestation/experiments/MT/exp60/models\\resunet_8.h5\n",
      "New best val loss. Val loss: 0.01145. Early stop count: 0\n",
      "Epoch: 41\n",
      "Anneling Coeficient [1.]\n",
      "319/319 [==============================] - 28s 88ms/step - loss: 0.0240 - accuracy: 0.6864 - val_loss: 0.0123 - val_accuracy: 0.7551\n",
      "\n",
      "Epoch 00001: val_loss did not improve from 0.01145\n",
      "Early stop count: 1\n",
      "Epoch: 42\n",
      "Anneling Coeficient [1.]\n",
      "319/319 [==============================] - 28s 89ms/step - loss: 0.0234 - accuracy: 0.6860 - val_loss: 0.0125 - val_accuracy: 0.7512\n",
      "\n",
      "Epoch 00001: val_loss did not improve from 0.01145\n",
      "Early stop count: 2\n",
      "Epoch: 43\n",
      "Anneling Coeficient [1.]\n",
      "319/319 [==============================] - 29s 91ms/step - loss: 0.0228 - accuracy: 0.6882 - val_loss: 0.0124 - val_accuracy: 0.7436\n",
      "\n",
      "Epoch 00001: val_loss did not improve from 0.01145\n",
      "Early stop count: 3\n",
      "Epoch: 44\n",
      "Anneling Coeficient [1.]\n",
      "319/319 [==============================] - 28s 89ms/step - loss: 0.0227 - accuracy: 0.6867 - val_loss: 0.0129 - val_accuracy: 0.7325\n",
      "\n",
      "Epoch 00001: val_loss did not improve from 0.01145\n",
      "Early stop count: 4\n",
      "Epoch: 45\n",
      "Anneling Coeficient [1.]\n",
      "319/319 [==============================] - 28s 89ms/step - loss: 0.0229 - accuracy: 0.6863 - val_loss: 0.0139 - val_accuracy: 0.7352\n",
      "\n",
      "Epoch 00001: val_loss did not improve from 0.01145\n",
      "Early stop count: 5\n",
      "Epoch: 46\n",
      "Anneling Coeficient [1.]\n",
      "319/319 [==============================] - 28s 89ms/step - loss: 0.0220 - accuracy: 0.6889 - val_loss: 0.0128 - val_accuracy: 0.7321\n",
      "\n",
      "Epoch 00001: val_loss did not improve from 0.01145\n",
      "Early stop count: 6\n",
      "Epoch: 47\n",
      "Anneling Coeficient [1.]\n",
      "319/319 [==============================] - 28s 88ms/step - loss: 0.0219 - accuracy: 0.6867 - val_loss: 0.0126 - val_accuracy: 0.7507\n",
      "\n",
      "Epoch 00001: val_loss did not improve from 0.01145\n",
      "Early stop count: 7\n",
      "Epoch: 48\n",
      "Anneling Coeficient [1.]\n",
      "319/319 [==============================] - 28s 89ms/step - loss: 0.0209 - accuracy: 0.6897 - val_loss: 0.0130 - val_accuracy: 0.7378\n",
      "\n",
      "Epoch 00001: val_loss did not improve from 0.01145\n",
      "Early stop count: 8\n",
      "Epoch: 49\n",
      "Anneling Coeficient [1.]\n",
      "319/319 [==============================] - 28s 88ms/step - loss: 0.0213 - accuracy: 0.6878 - val_loss: 0.0124 - val_accuracy: 0.7339\n",
      "\n",
      "Epoch 00001: val_loss did not improve from 0.01145\n",
      "Early stop count: 9\n",
      "Epoch: 50\n",
      "Anneling Coeficient [1.]\n",
      "319/319 [==============================] - 29s 90ms/step - loss: 0.0207 - accuracy: 0.6897 - val_loss: 0.0121 - val_accuracy: 0.7478\n",
      "\n",
      "Epoch 00001: val_loss did not improve from 0.01145\n",
      "Early stop count: 10\n",
      "Early stopping\n",
      "10 10\n",
      "Finished Training\n",
      "Training time:  1462.2367660999298\n",
      "time:  9\n",
      "Model: \"model_9\"\n",
      "__________________________________________________________________________________________________\n",
      "Layer (type)                    Output Shape         Param #     Connected to                     \n",
      "==================================================================================================\n",
      "input_enc_net (InputLayer)      [(None, 128, 128, 21 0                                            \n",
      "__________________________________________________________________________________________________\n",
      "res1_net1 (Conv2D)              (None, 128, 128, 16) 3040        input_enc_net[0][0]              \n",
      "__________________________________________________________________________________________________\n",
      "drop_net1 (SpatialDropout2D)    (None, 128, 128, 16) 0           res1_net1[0][0]                  \n",
      "__________________________________________________________________________________________________\n",
      "res2_net1 (Conv2D)              (None, 128, 128, 16) 2320        drop_net1[0][0]                  \n",
      "__________________________________________________________________________________________________\n",
      "res3_net1 (Conv2D)              (None, 128, 128, 16) 352         input_enc_net[0][0]              \n",
      "__________________________________________________________________________________________________\n",
      "add_54 (Add)                    (None, 128, 128, 16) 0           res2_net1[0][0]                  \n",
      "                                                                 res3_net1[0][0]                  \n",
      "__________________________________________________________________________________________________\n",
      "pool_net1 (MaxPooling2D)        (None, 64, 64, 16)   0           add_54[0][0]                     \n",
      "__________________________________________________________________________________________________\n",
      "res1_net2 (Conv2D)              (None, 64, 64, 32)   4640        pool_net1[0][0]                  \n",
      "__________________________________________________________________________________________________\n",
      "drop_net2 (SpatialDropout2D)    (None, 64, 64, 32)   0           res1_net2[0][0]                  \n",
      "__________________________________________________________________________________________________\n",
      "res2_net2 (Conv2D)              (None, 64, 64, 32)   9248        drop_net2[0][0]                  \n",
      "__________________________________________________________________________________________________\n",
      "res3_net2 (Conv2D)              (None, 64, 64, 32)   544         pool_net1[0][0]                  \n",
      "__________________________________________________________________________________________________\n",
      "add_55 (Add)                    (None, 64, 64, 32)   0           res2_net2[0][0]                  \n",
      "                                                                 res3_net2[0][0]                  \n",
      "__________________________________________________________________________________________________\n",
      "pool_net2 (MaxPooling2D)        (None, 32, 32, 32)   0           add_55[0][0]                     \n",
      "__________________________________________________________________________________________________\n",
      "res1_net3 (Conv2D)              (None, 32, 32, 64)   18496       pool_net2[0][0]                  \n",
      "__________________________________________________________________________________________________\n",
      "drop_net3 (SpatialDropout2D)    (None, 32, 32, 64)   0           res1_net3[0][0]                  \n",
      "__________________________________________________________________________________________________\n",
      "res2_net3 (Conv2D)              (None, 32, 32, 64)   36928       drop_net3[0][0]                  \n",
      "__________________________________________________________________________________________________\n",
      "res3_net3 (Conv2D)              (None, 32, 32, 64)   2112        pool_net2[0][0]                  \n",
      "__________________________________________________________________________________________________\n",
      "add_56 (Add)                    (None, 32, 32, 64)   0           res2_net3[0][0]                  \n",
      "                                                                 res3_net3[0][0]                  \n",
      "__________________________________________________________________________________________________\n",
      "pool_net3 (MaxPooling2D)        (None, 16, 16, 64)   0           add_56[0][0]                     \n",
      "__________________________________________________________________________________________________\n",
      "res1_net4 (Conv2D)              (None, 16, 16, 64)   36928       pool_net3[0][0]                  \n",
      "__________________________________________________________________________________________________\n",
      "drop_net4 (SpatialDropout2D)    (None, 16, 16, 64)   0           res1_net4[0][0]                  \n",
      "__________________________________________________________________________________________________\n",
      "res2_net4 (Conv2D)              (None, 16, 16, 64)   36928       drop_net4[0][0]                  \n",
      "__________________________________________________________________________________________________\n",
      "res3_net4 (Conv2D)              (None, 16, 16, 64)   4160        pool_net3[0][0]                  \n",
      "__________________________________________________________________________________________________\n",
      "add_57 (Add)                    (None, 16, 16, 64)   0           res2_net4[0][0]                  \n",
      "                                                                 res3_net4[0][0]                  \n",
      "__________________________________________________________________________________________________\n",
      "res1_net5 (Conv2D)              (None, 16, 16, 64)   36928       add_57[0][0]                     \n",
      "__________________________________________________________________________________________________\n",
      "drop_net5 (SpatialDropout2D)    (None, 16, 16, 64)   0           res1_net5[0][0]                  \n",
      "__________________________________________________________________________________________________\n",
      "res2_net5 (Conv2D)              (None, 16, 16, 64)   36928       drop_net5[0][0]                  \n",
      "__________________________________________________________________________________________________\n",
      "res3_net5 (Conv2D)              (None, 16, 16, 64)   4160        add_57[0][0]                     \n",
      "__________________________________________________________________________________________________\n",
      "add_58 (Add)                    (None, 16, 16, 64)   0           res2_net5[0][0]                  \n",
      "                                                                 res3_net5[0][0]                  \n",
      "__________________________________________________________________________________________________\n",
      "res1_net6 (Conv2D)              (None, 16, 16, 64)   36928       add_58[0][0]                     \n",
      "__________________________________________________________________________________________________\n",
      "drop_net6 (SpatialDropout2D)    (None, 16, 16, 64)   0           res1_net6[0][0]                  \n",
      "__________________________________________________________________________________________________\n",
      "res2_net6 (Conv2D)              (None, 16, 16, 64)   36928       drop_net6[0][0]                  \n",
      "__________________________________________________________________________________________________\n",
      "res3_net6 (Conv2D)              (None, 16, 16, 64)   4160        add_58[0][0]                     \n",
      "__________________________________________________________________________________________________\n",
      "add_59 (Add)                    (None, 16, 16, 64)   0           res2_net6[0][0]                  \n",
      "                                                                 res3_net6[0][0]                  \n",
      "__________________________________________________________________________________________________\n",
      "up_sampling2d_27 (UpSampling2D) (None, 32, 32, 64)   0           add_59[0][0]                     \n",
      "__________________________________________________________________________________________________\n",
      "upsampling_net3 (Conv2D)        (None, 32, 32, 64)   36928       up_sampling2d_27[0][0]           \n",
      "__________________________________________________________________________________________________\n",
      "spatial_dropout2d_27 (SpatialDr (None, 32, 32, 64)   0           upsampling_net3[0][0]            \n",
      "__________________________________________________________________________________________________\n",
      "concatenate3 (Concatenate)      (None, 32, 32, 128)  0           add_56[0][0]                     \n",
      "                                                                 spatial_dropout2d_27[0][0]       \n",
      "__________________________________________________________________________________________________\n",
      "up_sampling2d_28 (UpSampling2D) (None, 64, 64, 128)  0           concatenate3[0][0]               \n",
      "__________________________________________________________________________________________________\n",
      "upsampling_net2 (Conv2D)        (None, 64, 64, 32)   36896       up_sampling2d_28[0][0]           \n",
      "__________________________________________________________________________________________________\n",
      "spatial_dropout2d_28 (SpatialDr (None, 64, 64, 32)   0           upsampling_net2[0][0]            \n",
      "__________________________________________________________________________________________________\n",
      "concatenate2 (Concatenate)      (None, 64, 64, 64)   0           add_55[0][0]                     \n",
      "                                                                 spatial_dropout2d_28[0][0]       \n",
      "__________________________________________________________________________________________________\n",
      "up_sampling2d_29 (UpSampling2D) (None, 128, 128, 64) 0           concatenate2[0][0]               \n",
      "__________________________________________________________________________________________________\n",
      "upsampling_net1 (Conv2D)        (None, 128, 128, 16) 9232        up_sampling2d_29[0][0]           \n",
      "__________________________________________________________________________________________________\n",
      "spatial_dropout2d_29 (SpatialDr (None, 128, 128, 16) 0           upsampling_net1[0][0]            \n",
      "__________________________________________________________________________________________________\n",
      "concatenate1 (Concatenate)      (None, 128, 128, 32) 0           add_54[0][0]                     \n",
      "                                                                 spatial_dropout2d_29[0][0]       \n",
      "__________________________________________________________________________________________________\n",
      "output (Conv2D)                 (None, 128, 128, 2)  66          concatenate1[0][0]               \n",
      "__________________________________________________________________________________________________\n",
      "dirichlet_layer_9 (DirichletLay (None, 128, 128, 2)  0           output[0][0]                     \n",
      "==================================================================================================\n",
      "Total params: 394,850\n",
      "Trainable params: 394,850\n",
      "Non-trainable params: 0\n",
      "__________________________________________________________________________________________________\n",
      "Epoch: 1\n",
      "Anneling Coeficient [1.]\n",
      "K.int_shape(mse) (None, 128, 128, 1)\n",
      "K.int_shape(mask) (None, None, None, 1)\n",
      "K.int_shape(E) (None, 128, 128, 2)\n",
      "K.int_shape(y_truth) (None, None, None, None)\n",
      "K.int_shape(mse) (None, 128, 128, 1)\n",
      "K.int_shape(mask) (None, None, None, 1)\n",
      "K.int_shape(E) (None, 128, 128, 2)\n",
      "K.int_shape(y_truth) (None, None, None, None)\n",
      "319/319 [==============================] - ETA: 0s - loss: 0.1243 - accuracy: 0.5825K.int_shape(mse) (None, 128, 128, 1)\n",
      "K.int_shape(mask) (None, None, None, 1)\n",
      "K.int_shape(E) (None, 128, 128, 2)\n",
      "K.int_shape(y_truth) (None, None, None, None)\n",
      "319/319 [==============================] - 31s 90ms/step - loss: 0.1243 - accuracy: 0.5825 - val_loss: 0.0361 - val_accuracy: 0.7487\n",
      "\n",
      "Epoch 00001: val_loss improved from inf to 0.03608, saving model to D:/Jorge/datasets/deforestation/experiments/MT/exp60/models\\resunet_9.h5\n",
      "New best val loss. Val loss: 0.03608. Early stop count: 0\n",
      "Epoch: 2\n",
      "Anneling Coeficient [0.1]\n",
      "319/319 [==============================] - 29s 90ms/step - loss: 0.0747 - accuracy: 0.6344 - val_loss: 0.0256 - val_accuracy: 0.7470\n",
      "\n",
      "Epoch 00001: val_loss improved from 0.03608 to 0.02556, saving model to D:/Jorge/datasets/deforestation/experiments/MT/exp60/models\\resunet_9.h5\n",
      "New best val loss. Val loss: 0.02556. Early stop count: 0\n",
      "Epoch: 3\n",
      "Anneling Coeficient [0.2]\n",
      "319/319 [==============================] - 28s 89ms/step - loss: 0.0672 - accuracy: 0.6441 - val_loss: 0.0230 - val_accuracy: 0.7401\n",
      "\n",
      "Epoch 00001: val_loss improved from 0.02556 to 0.02299, saving model to D:/Jorge/datasets/deforestation/experiments/MT/exp60/models\\resunet_9.h5\n",
      "New best val loss. Val loss: 0.02299. Early stop count: 0\n",
      "Epoch: 4\n",
      "Anneling Coeficient [0.3]\n",
      "319/319 [==============================] - 28s 88ms/step - loss: 0.0652 - accuracy: 0.6458 - val_loss: 0.0219 - val_accuracy: 0.7315\n",
      "\n",
      "Epoch 00001: val_loss improved from 0.02299 to 0.02191, saving model to D:/Jorge/datasets/deforestation/experiments/MT/exp60/models\\resunet_9.h5\n",
      "New best val loss. Val loss: 0.02191. Early stop count: 0\n",
      "Epoch: 5\n",
      "Anneling Coeficient [0.4]\n",
      "319/319 [==============================] - 29s 90ms/step - loss: 0.0612 - accuracy: 0.6440 - val_loss: 0.0209 - val_accuracy: 0.7358\n",
      "\n",
      "Epoch 00001: val_loss improved from 0.02191 to 0.02086, saving model to D:/Jorge/datasets/deforestation/experiments/MT/exp60/models\\resunet_9.h5\n",
      "New best val loss. Val loss: 0.02086. Early stop count: 0\n",
      "Epoch: 6\n",
      "Anneling Coeficient [0.5]\n",
      "319/319 [==============================] - 29s 90ms/step - loss: 0.0596 - accuracy: 0.6482 - val_loss: 0.0203 - val_accuracy: 0.7310\n",
      "\n",
      "Epoch 00001: val_loss improved from 0.02086 to 0.02026, saving model to D:/Jorge/datasets/deforestation/experiments/MT/exp60/models\\resunet_9.h5\n",
      "New best val loss. Val loss: 0.02026. Early stop count: 0\n",
      "Epoch: 7\n",
      "Anneling Coeficient [0.6]\n",
      "319/319 [==============================] - 29s 91ms/step - loss: 0.0572 - accuracy: 0.6513 - val_loss: 0.0187 - val_accuracy: 0.7499\n",
      "\n",
      "Epoch 00001: val_loss improved from 0.02026 to 0.01874, saving model to D:/Jorge/datasets/deforestation/experiments/MT/exp60/models\\resunet_9.h5\n",
      "New best val loss. Val loss: 0.01874. Early stop count: 0\n",
      "Epoch: 8\n",
      "Anneling Coeficient [0.7]\n",
      "319/319 [==============================] - 28s 89ms/step - loss: 0.0561 - accuracy: 0.6551 - val_loss: 0.0179 - val_accuracy: 0.7380\n",
      "\n",
      "Epoch 00001: val_loss improved from 0.01874 to 0.01788, saving model to D:/Jorge/datasets/deforestation/experiments/MT/exp60/models\\resunet_9.h5\n",
      "New best val loss. Val loss: 0.01788. Early stop count: 0\n",
      "Epoch: 9\n",
      "Anneling Coeficient [0.8]\n",
      "319/319 [==============================] - 29s 90ms/step - loss: 0.0547 - accuracy: 0.6504 - val_loss: 0.0178 - val_accuracy: 0.7328\n",
      "\n",
      "Epoch 00001: val_loss improved from 0.01788 to 0.01782, saving model to D:/Jorge/datasets/deforestation/experiments/MT/exp60/models\\resunet_9.h5\n",
      "New best val loss. Val loss: 0.01782. Early stop count: 0\n",
      "Epoch: 10\n",
      "Anneling Coeficient [0.9]\n",
      "319/319 [==============================] - 30s 93ms/step - loss: 0.0526 - accuracy: 0.6558 - val_loss: 0.0154 - val_accuracy: 0.7478\n",
      "\n",
      "Epoch 00001: val_loss improved from 0.01782 to 0.01540, saving model to D:/Jorge/datasets/deforestation/experiments/MT/exp60/models\\resunet_9.h5\n",
      "New best val loss. Val loss: 0.0154. Early stop count: 0\n",
      "Epoch: 11\n",
      "Anneling Coeficient [1.]\n",
      "319/319 [==============================] - 29s 90ms/step - loss: 0.0516 - accuracy: 0.6561 - val_loss: 0.0157 - val_accuracy: 0.7550\n",
      "\n",
      "Epoch 00001: val_loss did not improve from 0.01540\n",
      "Early stop count: 1\n",
      "Epoch: 12\n",
      "Anneling Coeficient [1.]\n",
      "319/319 [==============================] - 30s 93ms/step - loss: 0.0506 - accuracy: 0.6566 - val_loss: 0.0168 - val_accuracy: 0.7497\n",
      "\n",
      "Epoch 00001: val_loss did not improve from 0.01540\n",
      "Early stop count: 2\n",
      "Epoch: 13\n",
      "Anneling Coeficient [1.]\n",
      "319/319 [==============================] - 29s 90ms/step - loss: 0.0480 - accuracy: 0.6596 - val_loss: 0.0162 - val_accuracy: 0.7432\n",
      "\n",
      "Epoch 00001: val_loss did not improve from 0.01540\n",
      "Early stop count: 3\n",
      "Epoch: 14\n",
      "Anneling Coeficient [1.]\n",
      "319/319 [==============================] - 29s 91ms/step - loss: 0.0469 - accuracy: 0.6617 - val_loss: 0.0151 - val_accuracy: 0.7331\n",
      "\n",
      "Epoch 00001: val_loss improved from 0.01540 to 0.01508, saving model to D:/Jorge/datasets/deforestation/experiments/MT/exp60/models\\resunet_9.h5\n",
      "New best val loss. Val loss: 0.01508. Early stop count: 0\n",
      "Epoch: 15\n",
      "Anneling Coeficient [1.]\n",
      "319/319 [==============================] - 29s 90ms/step - loss: 0.0460 - accuracy: 0.6635 - val_loss: 0.0155 - val_accuracy: 0.7358\n",
      "\n",
      "Epoch 00001: val_loss did not improve from 0.01508\n",
      "Early stop count: 1\n",
      "Epoch: 16\n",
      "Anneling Coeficient [1.]\n",
      "319/319 [==============================] - 28s 89ms/step - loss: 0.0434 - accuracy: 0.6647 - val_loss: 0.0144 - val_accuracy: 0.7321\n",
      "\n",
      "Epoch 00001: val_loss improved from 0.01508 to 0.01443, saving model to D:/Jorge/datasets/deforestation/experiments/MT/exp60/models\\resunet_9.h5\n",
      "New best val loss. Val loss: 0.01443. Early stop count: 0\n",
      "Epoch: 17\n",
      "Anneling Coeficient [1.]\n",
      "319/319 [==============================] - 29s 92ms/step - loss: 0.0431 - accuracy: 0.6657 - val_loss: 0.0142 - val_accuracy: 0.7515\n",
      "\n",
      "Epoch 00001: val_loss improved from 0.01443 to 0.01416, saving model to D:/Jorge/datasets/deforestation/experiments/MT/exp60/models\\resunet_9.h5\n",
      "New best val loss. Val loss: 0.01416. Early stop count: 0\n",
      "Epoch: 18\n",
      "Anneling Coeficient [1.]\n",
      "319/319 [==============================] - 29s 90ms/step - loss: 0.0414 - accuracy: 0.6651 - val_loss: 0.0149 - val_accuracy: 0.7372\n",
      "\n",
      "Epoch 00001: val_loss did not improve from 0.01416\n",
      "Early stop count: 1\n",
      "Epoch: 19\n",
      "Anneling Coeficient [1.]\n",
      "319/319 [==============================] - 28s 88ms/step - loss: 0.0400 - accuracy: 0.6704 - val_loss: 0.0158 - val_accuracy: 0.7326\n",
      "\n",
      "Epoch 00001: val_loss did not improve from 0.01416\n",
      "Early stop count: 2\n",
      "Epoch: 20\n",
      "Anneling Coeficient [1.]\n",
      "319/319 [==============================] - 29s 89ms/step - loss: 0.0396 - accuracy: 0.6668 - val_loss: 0.0132 - val_accuracy: 0.7479\n",
      "\n",
      "Epoch 00001: val_loss improved from 0.01416 to 0.01323, saving model to D:/Jorge/datasets/deforestation/experiments/MT/exp60/models\\resunet_9.h5\n",
      "New best val loss. Val loss: 0.01323. Early stop count: 0\n",
      "Epoch: 21\n",
      "Anneling Coeficient [1.]\n",
      "319/319 [==============================] - 28s 89ms/step - loss: 0.0385 - accuracy: 0.6718 - val_loss: 0.0133 - val_accuracy: 0.7552\n",
      "\n",
      "Epoch 00001: val_loss did not improve from 0.01323\n",
      "Early stop count: 1\n",
      "Epoch: 22\n",
      "Anneling Coeficient [1.]\n",
      "319/319 [==============================] - 29s 90ms/step - loss: 0.0379 - accuracy: 0.6705 - val_loss: 0.0129 - val_accuracy: 0.7516\n",
      "\n",
      "Epoch 00001: val_loss improved from 0.01323 to 0.01293, saving model to D:/Jorge/datasets/deforestation/experiments/MT/exp60/models\\resunet_9.h5\n",
      "New best val loss. Val loss: 0.01293. Early stop count: 0\n",
      "Epoch: 23\n",
      "Anneling Coeficient [1.]\n",
      "319/319 [==============================] - 28s 88ms/step - loss: 0.0370 - accuracy: 0.6711 - val_loss: 0.0142 - val_accuracy: 0.7430\n",
      "\n",
      "Epoch 00001: val_loss did not improve from 0.01293\n",
      "Early stop count: 1\n",
      "Epoch: 24\n",
      "Anneling Coeficient [1.]\n",
      "319/319 [==============================] - 29s 90ms/step - loss: 0.0355 - accuracy: 0.6717 - val_loss: 0.0163 - val_accuracy: 0.7299\n",
      "\n",
      "Epoch 00001: val_loss did not improve from 0.01293\n",
      "Early stop count: 2\n",
      "Epoch: 25\n",
      "Anneling Coeficient [1.]\n",
      "319/319 [==============================] - 30s 93ms/step - loss: 0.0358 - accuracy: 0.6732 - val_loss: 0.0145 - val_accuracy: 0.7354\n",
      "\n",
      "Epoch 00001: val_loss did not improve from 0.01293\n",
      "Early stop count: 3\n",
      "Epoch: 26\n",
      "Anneling Coeficient [1.]\n",
      "319/319 [==============================] - 29s 89ms/step - loss: 0.0345 - accuracy: 0.6746 - val_loss: 0.0141 - val_accuracy: 0.7315\n",
      "\n",
      "Epoch 00001: val_loss did not improve from 0.01293\n",
      "Early stop count: 4\n",
      "Epoch: 27\n",
      "Anneling Coeficient [1.]\n",
      "319/319 [==============================] - 29s 91ms/step - loss: 0.0336 - accuracy: 0.6747 - val_loss: 0.0135 - val_accuracy: 0.7503\n",
      "\n",
      "Epoch 00001: val_loss did not improve from 0.01293\n",
      "Early stop count: 5\n",
      "Epoch: 28\n",
      "Anneling Coeficient [1.]\n",
      "319/319 [==============================] - 29s 90ms/step - loss: 0.0333 - accuracy: 0.6763 - val_loss: 0.0136 - val_accuracy: 0.7380\n",
      "\n",
      "Epoch 00001: val_loss did not improve from 0.01293\n",
      "Early stop count: 6\n",
      "Epoch: 29\n",
      "Anneling Coeficient [1.]\n",
      "319/319 [==============================] - 29s 90ms/step - loss: 0.0329 - accuracy: 0.6747 - val_loss: 0.0150 - val_accuracy: 0.7317\n",
      "\n",
      "Epoch 00001: val_loss did not improve from 0.01293\n",
      "Early stop count: 7\n",
      "Epoch: 30\n",
      "Anneling Coeficient [1.]\n",
      "319/319 [==============================] - 30s 93ms/step - loss: 0.0321 - accuracy: 0.6770 - val_loss: 0.0120 - val_accuracy: 0.7483\n",
      "\n",
      "Epoch 00001: val_loss improved from 0.01293 to 0.01202, saving model to D:/Jorge/datasets/deforestation/experiments/MT/exp60/models\\resunet_9.h5\n",
      "New best val loss. Val loss: 0.01202. Early stop count: 0\n",
      "Epoch: 31\n",
      "Anneling Coeficient [1.]\n",
      "319/319 [==============================] - 31s 98ms/step - loss: 0.0310 - accuracy: 0.6772 - val_loss: 0.0126 - val_accuracy: 0.7553\n",
      "\n",
      "Epoch 00001: val_loss did not improve from 0.01202\n",
      "Early stop count: 1\n",
      "Epoch: 32\n",
      "Anneling Coeficient [1.]\n",
      "319/319 [==============================] - 31s 96ms/step - loss: 0.0309 - accuracy: 0.6781 - val_loss: 0.0128 - val_accuracy: 0.7511\n",
      "\n",
      "Epoch 00001: val_loss did not improve from 0.01202\n",
      "Early stop count: 2\n",
      "Epoch: 33\n",
      "Anneling Coeficient [1.]\n",
      "319/319 [==============================] - 29s 90ms/step - loss: 0.0300 - accuracy: 0.6784 - val_loss: 0.0132 - val_accuracy: 0.7432\n",
      "\n",
      "Epoch 00001: val_loss did not improve from 0.01202\n",
      "Early stop count: 3\n",
      "Epoch: 34\n",
      "Anneling Coeficient [1.]\n",
      "319/319 [==============================] - 29s 91ms/step - loss: 0.0298 - accuracy: 0.6805 - val_loss: 0.0128 - val_accuracy: 0.7328\n",
      "\n",
      "Epoch 00001: val_loss did not improve from 0.01202\n",
      "Early stop count: 4\n",
      "Epoch: 35\n",
      "Anneling Coeficient [1.]\n",
      "319/319 [==============================] - 30s 93ms/step - loss: 0.0294 - accuracy: 0.6790 - val_loss: 0.0142 - val_accuracy: 0.7354\n",
      "\n",
      "Epoch 00001: val_loss did not improve from 0.01202\n",
      "Early stop count: 5\n",
      "Epoch: 36\n",
      "Anneling Coeficient [1.]\n",
      "319/319 [==============================] - 29s 92ms/step - loss: 0.0296 - accuracy: 0.6803 - val_loss: 0.0134 - val_accuracy: 0.7314\n",
      "\n",
      "Epoch 00001: val_loss did not improve from 0.01202\n",
      "Early stop count: 6\n",
      "Epoch: 37\n",
      "Anneling Coeficient [1.]\n",
      "319/319 [==============================] - 29s 92ms/step - loss: 0.0283 - accuracy: 0.6803 - val_loss: 0.0130 - val_accuracy: 0.7502\n",
      "\n",
      "Epoch 00001: val_loss did not improve from 0.01202\n",
      "Early stop count: 7\n",
      "Epoch: 38\n",
      "Anneling Coeficient [1.]\n",
      "319/319 [==============================] - 29s 90ms/step - loss: 0.0280 - accuracy: 0.6815 - val_loss: 0.0122 - val_accuracy: 0.7391\n",
      "\n",
      "Epoch 00001: val_loss did not improve from 0.01202\n",
      "Early stop count: 8\n",
      "Epoch: 39\n",
      "Anneling Coeficient [1.]\n",
      "319/319 [==============================] - 29s 92ms/step - loss: 0.0280 - accuracy: 0.6808 - val_loss: 0.0143 - val_accuracy: 0.7318\n",
      "\n",
      "Epoch 00001: val_loss did not improve from 0.01202\n",
      "Early stop count: 9\n",
      "Epoch: 40\n",
      "Anneling Coeficient [1.]\n",
      "319/319 [==============================] - 30s 93ms/step - loss: 0.0270 - accuracy: 0.6828 - val_loss: 0.0119 - val_accuracy: 0.7477\n",
      "\n",
      "Epoch 00001: val_loss improved from 0.01202 to 0.01195, saving model to D:/Jorge/datasets/deforestation/experiments/MT/exp60/models\\resunet_9.h5\n",
      "New best val loss. Val loss: 0.01195. Early stop count: 0\n",
      "Epoch: 41\n",
      "Anneling Coeficient [1.]\n",
      "319/319 [==============================] - 29s 90ms/step - loss: 0.0267 - accuracy: 0.6812 - val_loss: 0.0143 - val_accuracy: 0.7534\n",
      "\n",
      "Epoch 00001: val_loss did not improve from 0.01195\n",
      "Early stop count: 1\n",
      "Epoch: 42\n",
      "Anneling Coeficient [1.]\n",
      "319/319 [==============================] - 29s 91ms/step - loss: 0.0266 - accuracy: 0.6843 - val_loss: 0.0122 - val_accuracy: 0.7515\n",
      "\n",
      "Epoch 00001: val_loss did not improve from 0.01195\n",
      "Early stop count: 2\n",
      "Epoch: 43\n",
      "Anneling Coeficient [1.]\n",
      "319/319 [==============================] - 29s 91ms/step - loss: 0.0264 - accuracy: 0.6815 - val_loss: 0.0143 - val_accuracy: 0.7422\n",
      "\n",
      "Epoch 00001: val_loss did not improve from 0.01195\n",
      "Early stop count: 3\n",
      "Epoch: 44\n",
      "Anneling Coeficient [1.]\n",
      "319/319 [==============================] - 33s 104ms/step - loss: 0.0256 - accuracy: 0.6844 - val_loss: 0.0134 - val_accuracy: 0.7319\n",
      "\n",
      "Epoch 00001: val_loss did not improve from 0.01195\n",
      "Early stop count: 4\n",
      "Epoch: 45\n",
      "Anneling Coeficient [1.]\n",
      "319/319 [==============================] - 32s 99ms/step - loss: 0.0251 - accuracy: 0.6840 - val_loss: 0.0139 - val_accuracy: 0.7358\n",
      "\n",
      "Epoch 00001: val_loss did not improve from 0.01195\n",
      "Early stop count: 5\n",
      "Epoch: 46\n",
      "Anneling Coeficient [1.]\n",
      "319/319 [==============================] - 29s 90ms/step - loss: 0.0250 - accuracy: 0.6846 - val_loss: 0.0132 - val_accuracy: 0.7317\n",
      "\n",
      "Epoch 00001: val_loss did not improve from 0.01195\n",
      "Early stop count: 6\n",
      "Epoch: 47\n",
      "Anneling Coeficient [1.]\n",
      "319/319 [==============================] - 27s 85ms/step - loss: 0.0244 - accuracy: 0.6850 - val_loss: 0.0135 - val_accuracy: 0.7497\n",
      "\n",
      "Epoch 00001: val_loss did not improve from 0.01195\n",
      "Early stop count: 7\n",
      "Epoch: 48\n",
      "Anneling Coeficient [1.]\n",
      "319/319 [==============================] - 28s 86ms/step - loss: 0.0251 - accuracy: 0.6839 - val_loss: 0.0131 - val_accuracy: 0.7379\n",
      "\n",
      "Epoch 00001: val_loss did not improve from 0.01195\n",
      "Early stop count: 8\n",
      "Epoch: 49\n",
      "Anneling Coeficient [1.]\n",
      "319/319 [==============================] - 29s 90ms/step - loss: 0.0245 - accuracy: 0.6858 - val_loss: 0.0135 - val_accuracy: 0.7327\n",
      "\n",
      "Epoch 00001: val_loss did not improve from 0.01195\n",
      "Early stop count: 9\n",
      "Epoch: 50\n",
      "Anneling Coeficient [1.]\n",
      "319/319 [==============================] - 32s 100ms/step - loss: 0.0241 - accuracy: 0.6849 - val_loss: 0.0120 - val_accuracy: 0.7477\n",
      "\n",
      "Epoch 00001: val_loss did not improve from 0.01195\n",
      "Early stop count: 10\n",
      "Early stopping\n",
      "10 10\n",
      "Finished Training\n",
      "Training time:  1463.959070444107\n"
     ]
    }
   ],
   "source": [
    "if config['training'] == True:\n",
    "    \n",
    "\n",
    "    manager = manager_class(config, dataset, patchesHandler, logger)\n",
    "    print(\"manager.config['dropout_training']\", manager.config['dropout_training'])\n",
    "    manager.defineExperiment(exp) # fixed\n",
    "    \n",
    "    manager.setExperimentPath()\n",
    "    manager.createLogFolders()\n",
    "\n",
    "    manager.loadDataset()\n",
    "\n",
    "    # %%\n",
    "    if config[\"training\"] == True:\n",
    "        manager.run()\n"
   ]
  },
  {
   "cell_type": "code",
   "execution_count": 9,
   "id": "f86ddf43",
   "metadata": {},
   "outputs": [
    {
     "name": "stdout",
     "output_type": "stream",
     "text": [
      "manager.measured_training_time [1627.8607394695282, 2531.797860622406, 1155.0087203979492, 1151.1121423244476, 1103.8306486606598, 1677.816174030304, 1428.035624742508, 1456.7587809562683, 1462.4621908664703, 1464.1914484500885]\n",
      "np.sum(np.array(manager.measured_training_time)) 15058.87433052063\n",
      "np.mean(np.array(manager.measured_training_time)) 1505.887433052063\n"
     ]
    }
   ],
   "source": [
    "print(\"manager.measured_training_time\", manager.measured_training_time)\n",
    "print(\"np.sum(np.array(manager.measured_training_time))\", np.sum(np.array(manager.measured_training_time)))\n",
    "print(\"np.mean(np.array(manager.measured_training_time))\", np.mean(np.array(manager.measured_training_time)))"
   ]
  },
  {
   "cell_type": "code",
   "execution_count": 10,
   "metadata": {},
   "outputs": [
    {
     "name": "stdout",
     "output_type": "stream",
     "text": [
      "manager.measured_training_time [1627.8607394695282, 2531.797860622406, 1155.0087203979492, 1151.1121423244476, 1103.8306486606598, 1677.816174030304, 1428.035624742508, 1456.7587809562683, 1462.4621908664703, 1464.1914484500885]\n",
      "np.sum(np.array(manager.measured_training_time)) 15058.87433052063\n",
      "np.mean(np.array(manager.measured_training_time)) 1505.887433052063\n"
     ]
    }
   ],
   "source": [
    "print(\"manager.measured_training_time\", manager.measured_training_time)\n",
    "print(\"np.sum(np.array(manager.measured_training_time))\", np.sum(np.array(manager.measured_training_time)))\n",
    "print(\"np.mean(np.array(manager.measured_training_time))\", np.mean(np.array(manager.measured_training_time)))"
   ]
  },
  {
   "cell_type": "code",
   "execution_count": 11,
   "id": "a13e82bc",
   "metadata": {},
   "outputs": [
    {
     "name": "stderr",
     "output_type": "stream",
     "text": [
      "ic| list(self.date_ids): [0]\n",
      "ic| self.image_channels: [[0, 1, 2, 3, 4, 5, 6, 7, 8, 9, 10, 11, 12, 13, 14, 15, 16, 17, 18, 19, 20]]\n",
      "ic| dates: [2019, 2020]\n",
      "ic| self.input_image_shape: 21\n",
      "ic| self.dataset.image_channels: [[0, 1, 2, 3, 4, 5, 6, 7, 8, 9, 10, 11, 12, 13, 14, 15, 16, 17, 18, 19, 20]]\n"
     ]
    }
   ],
   "source": [
    "\n",
    "\n",
    "\n",
    "if config['site'] == 'PA':\n",
    "\tdates = [2018, 2019]\n",
    "\tdatasetClass = PAMultipleDates\n",
    "elif config['site'] == 'MT':\n",
    "\tdates = [2019, 2020]\n",
    "\tdatasetClass = MTMultipleDates\n",
    "elif config['site'] == 'MS':\n",
    "\tdates = [2019, 2020]\n",
    "\tdatasetClass = MSMultipleDates\n",
    "elif config['site'] == 'PI':\n",
    "\tdates = [2019, 2020]\n",
    "\tdatasetClass = PIMultipleDates\n",
    "else:\n",
    "\traise ValueError('Invalid site')\n",
    "\n",
    "dataset = datasetClass(config = config,\n",
    "\t\t\t   dates = dates, \n",
    "\t \taddPastDeforestationInput = config['addPastDeforestationInput'],\n",
    "\t\tborderBuffer = 2)\n",
    "\n",
    "\n",
    "ic(dates)\n",
    "\n",
    "if issubclass(type(dataset), MultipleDates):\n",
    "\tpatchesHandler = PatchesHandlerMultipleDates(\n",
    "\t\tdataset)\n",
    "elif config['mode'] == 'evidential2':\n",
    "\tpatchesHandler = PatchesHandlerEvidential2()\n",
    "else:\n",
    "\tpatchesHandler = PatchesHandler()\n"
   ]
  },
  {
   "cell_type": "code",
   "execution_count": 12,
   "id": "597049da",
   "metadata": {},
   "outputs": [
    {
     "data": {
      "text/plain": [
       "src.manager.multioutput.ManagerEvidential2"
      ]
     },
     "execution_count": 12,
     "metadata": {},
     "output_type": "execute_result"
    }
   ],
   "source": [
    "manager_class"
   ]
  },
  {
   "cell_type": "code",
   "execution_count": 13,
   "id": "82354e9e",
   "metadata": {},
   "outputs": [
    {
     "data": {
      "text/plain": [
       "60"
      ]
     },
     "execution_count": 13,
     "metadata": {},
     "output_type": "execute_result"
    }
   ],
   "source": [
    "exp"
   ]
  },
  {
   "cell_type": "code",
   "execution_count": 14,
   "id": "0e69f832",
   "metadata": {},
   "outputs": [
    {
     "name": "stdout",
     "output_type": "stream",
     "text": [
      "repetition_ids [0, 1, 2, 3, 4, 5, 6, 7, 8, 9], repetition_n 10\n"
     ]
    }
   ],
   "source": [
    "repetition_ids = manager_class(config, dataset, patchesHandler, logger).get_repetition_ids(exp)  \n",
    "repetition_n = len(repetition_ids)\n",
    "print(\"repetition_ids {}, repetition_n {}\".format(repetition_ids, repetition_n))\n"
   ]
  },
  {
   "cell_type": "code",
   "execution_count": 15,
   "id": "49e0d9f0",
   "metadata": {},
   "outputs": [
    {
     "data": {
      "text/plain": [
       "0"
      ]
     },
     "execution_count": 15,
     "metadata": {},
     "output_type": "execute_result"
    }
   ],
   "source": [
    "config['start_repetition_id']"
   ]
  },
  {
   "cell_type": "code",
   "execution_count": 16,
   "id": "5997b986",
   "metadata": {},
   "outputs": [
    {
     "name": "stdout",
     "output_type": "stream",
     "text": [
      "Beginning run number 0\n"
     ]
    },
    {
     "name": "stdout",
     "output_type": "stream",
     "text": [
      "manager.config {'training': True, 'inferring': True, 'site': 'MT', 'training_date': 'current', 'mode': 'evidential2', 'training_times': 10, 'uncertainty_method': 'pred_entropy', 'loadInference': False, 'removePolygons': True, 'plotLandsat': False, 'plotPOI': False, 'training_experiment_id': 60, 'get_multiple_metrics': False, 'start_repetition_id': 0, 'end_repetition_id': 10, 'save_probabilities': False, 'addPastDeforestationInput': True, 'classes_mode': True, 'learning_rate': 0.0001, 'use_cloud_mask': True, 'mask_out_non_biome': False, 'log_filename': 'log.pkl', 'inference_times': 1, 'dropout_training': False}\n",
      "D:/Jorge/datasets/deforestation/MT/deforestation_past_years.tif\n",
      "Loaded deforestation past years\n"
     ]
    },
    {
     "name": "stderr",
     "output_type": "stream",
     "text": [
      "ic| np.unique(deforestation_past_years, return_counts=True): (array([   0, 2008, 2009, 2010, 2011, 2012, 2013, 2014, 2015, 2016, 2017,\n",
      "                                                                    2018, 2019, 2020, 2021], dtype=uint16),\n",
      "                                                              array([161124576,   1332784,    240796,    338545,    313901,    287191,\n",
      "                                                                       708581,    648966,    876898,   1007787,   1098901,   1054092,\n",
      "                                                                      2096062,   2473828,   1400992], dtype=int64))\n"
     ]
    },
    {
     "name": "stdout",
     "output_type": "stream",
     "text": [
      "Label where deforestation past years is actual date (2020) = 1\n"
     ]
    },
    {
     "name": "stderr",
     "output_type": "stream",
     "text": [
      "ic| np.unique(deforestation_past_years, return_counts=True): (array([   0, 2008, 2009, 2010, 2011, 2012, 2013, 2014, 2015, 2016, 2017,\n",
      "                                                                    2018, 2019, 2020, 2021], dtype=uint16),\n",
      "                                                              array([161124576,   1332784,    240796,    338545,    313901,    287191,\n",
      "                                                                       708581,    648966,    876898,   1007787,   1098901,   1054092,\n",
      "                                                                      2096062,   2473828,   1400992], dtype=int64))\n"
     ]
    },
    {
     "name": "stdout",
     "output_type": "stream",
     "text": [
      "Past deforestation different from 0 (no deforestation)\n"
     ]
    },
    {
     "name": "stderr",
     "output_type": "stream",
     "text": [
      "ic| np.unique(deforestation_past_years, return_counts=True): (array([   0, 2008, 2009, 2010, 2011, 2012, 2013, 2014, 2015, 2016, 2017,\n",
      "                                                                    2018, 2019, 2020, 2021], dtype=uint16),\n",
      "                                                              array([161124576,   1332784,    240796,    338545,    313901,    287191,\n",
      "                                                                       708581,    648966,    876898,   1007787,   1098901,   1054092,\n",
      "                                                                      2096062,   2473828,   1400992], dtype=int64))\n"
     ]
    },
    {
     "name": "stdout",
     "output_type": "stream",
     "text": [
      "Past deforestation before 2008 is 2\n",
      "D:/Jorge/datasets/deforestation/MT/deforestation_before_2008_MT.tif\n"
     ]
    },
    {
     "name": "stderr",
     "output_type": "stream",
     "text": [
      "ic| np.unique(label_past_deforestation_before_2008, return_counts=True): (array([  0, 215], dtype=uint8), array([122623260,  52380640], dtype=int64))\n",
      "ic| np.unique(deforestation_past_years, return_counts=True): (array([   0, 2008, 2009, 2010, 2011, 2012, 2013, 2014, 2015, 2016, 2017,\n",
      "                                                                    2018, 2019, 2020, 2021], dtype=uint16),\n",
      "                                                              array([161124576,   1332784,    240796,    338545,    313901,    287191,\n",
      "                                                                       708581,    648966,    876898,   1007787,   1098901,   1054092,\n",
      "                                                                      2096062,   2473828,   1400992], dtype=int64))\n",
      "ic| label_per_date.shape: (16795, 10420, 1)\n"
     ]
    },
    {
     "name": "stdout",
     "output_type": "stream",
     "text": [
      "Removing bufer................\n",
      "Mask label shape:  \n",
      " (16795, 10420, 1) \n",
      " Unique values:  \n",
      " [0 1 2]\n",
      "Tiles size:  3359 2084\n",
      "Mask size:  (16795, 10420)\n"
     ]
    },
    {
     "name": "stderr",
     "output_type": "stream",
     "text": [
      "ic| image_stack.shape: (16795, 10420, 21)\n"
     ]
    },
    {
     "name": "stdout",
     "output_type": "stream",
     "text": [
      "Image shape:  (16795, 10420, 21)\n",
      "mask:  (16795, 10420)\n",
      "image stack:  (16795, 10420, 21)\n",
      "ref : (16795, 10420, 1)\n",
      "Training tiles:  [2, 4, 5, 6, 7, 12, 14, 15, 18, 21, 23, 24]\n",
      "Validation tiles:  [9, 11, 25]\n",
      "Test tiles:  [1, 3, 8, 10, 13, 16, 17, 19, 20, 22]\n",
      "-5.0 -12.0\n"
     ]
    },
    {
     "name": "stderr",
     "output_type": "stream",
     "text": [
      "ic| self.path_models+ '/' + self.method +'_'+str(self.repetition_id)+'.h5': 'D:/Jorge/datasets/deforestation/experiments/MT/exp60/models/resunet_0.h5'\n"
     ]
    },
    {
     "name": "stdout",
     "output_type": "stream",
     "text": [
      "Dropout training mode: False\n",
      "time:  0\n",
      "alpha.shape (16800, 10432, 2)\n",
      "S.shape (16800, 10432)\n",
      "K 2\n",
      "u.shape (16800, 10432)\n",
      "belief.shape (16800, 10432, 2)\n",
      "Inference runtime 102.95\n",
      "(44657480,)\n",
      "(array([0, 1], dtype=uint8), array([43783238,   874242], dtype=int64))\n",
      "(16795, 10420, 2)\n"
     ]
    },
    {
     "name": "stderr",
     "output_type": "stream",
     "text": [
      "ic| predicted_test.shape: (70001560,)\n",
      "ic| predicted_test.shape: (44657480,)\n",
      "ic| np.unique(predicted, return_counts=True): (array([0, 1], dtype=int8), array([172318932,   2684968], dtype=int64))\n",
      "    np.unique(predicted_larger_than_min_area, return_counts=True): (array([0, 1], dtype=int8), array([172457770,   2546130], dtype=int64))\n",
      "ic| np.unique(ignored_polygons, return_counts=True): (array([0, 1], dtype=int8), array([174865062,    138838], dtype=int64))\n",
      "ic| self.f1: 73.15, self.precision: 68.29, self.recall: 78.75\n",
      "ic| self.label_mask_val.shape: (21000468,)\n",
      "ic| self.label_mask_val_valid.shape: (11789756,)\n",
      "ic| f1_val: 90.56\n",
      "    precision_val: 83.65\n",
      "    recall_val: 98.73\n",
      "    mAP_val: 96.68\n"
     ]
    },
    {
     "name": "stdout",
     "output_type": "stream",
     "text": [
      "(array([0, 1], dtype=int16), array([174206092,    797808], dtype=int64))\n",
      "[0 1]\n"
     ]
    },
    {
     "name": "stderr",
     "output_type": "stream",
     "text": [
      "ic| self.label_mask.shape: (16795, 10420)\n",
      "ic| self.mask_test.shape: (16795, 10420)\n",
      "ic| self.label_mask_test.shape: (70001560,)\n",
      "ic| self.error_mask_test.shape: (44601273,)\n",
      "ic| bounds: (0.002383070650845766, 0.9985)\n"
     ]
    },
    {
     "name": "stdout",
     "output_type": "stream",
     "text": [
      "(0.002383070650845766, 0.9985)\n",
      "0.38286588089304496\n",
      "threshold 0.38286588089304496\n"
     ]
    },
    {
     "name": "stderr",
     "output_type": "stream",
     "text": [
      "c:\\Users\\jchamorro\\Anaconda3\\envs\\tf2\\lib\\site-packages\\scipy\\optimize\\_minimize.py:783: RuntimeWarning: Method 'bounded' does not support relative tolerance in x; defaulting to absolute tolerance.\n",
      "  warn(\"Method 'bounded' does not support relative tolerance in x; \"\n",
      "ic| label_current_deforestation_test_high_uncertainty.shape: (395717,)\n",
      "    predicted_test_high_uncertainty.shape: (395717,)\n",
      "ic| TP_H + FN_H + FP_H + TN_H: 395717\n",
      "    len(label_mask_current_deforestation_test): 44601273\n",
      "ic| TP_H + FN_H + FP_H + TN_H: 395717\n",
      "    len(label_mask_current_deforestation_test): 44601273\n"
     ]
    },
    {
     "name": "stdout",
     "output_type": "stream",
     "text": [
      "[0.718543   0.83082514 0.73053313 0.00887233 0.41762393 0.47203733\n",
      " 0.15974568]\n",
      "0.6180171897578007\n",
      "threshold 0.6180171897578007\n"
     ]
    },
    {
     "name": "stderr",
     "output_type": "stream",
     "text": [
      "ic| label_current_deforestation_test_high_uncertainty.shape: (119965,)\n",
      "    predicted_test_high_uncertainty.shape: (119965,)\n",
      "ic| TP_H + FN_H + FP_H + TN_H: 119965\n",
      "    len(label_mask_current_deforestation_test): 44601273\n",
      "ic| TP_H + FN_H + FP_H + TN_H: 119965\n",
      "    len(label_mask_current_deforestation_test): 44601273\n"
     ]
    },
    {
     "name": "stdout",
     "output_type": "stream",
     "text": [
      "[0.69521961 0.8031132  0.76707506 0.00268972 0.41066073 0.45549521\n",
      " 0.0809449 ]\n",
      "0.2375343795156015\n",
      "threshold 0.2375343795156015\n"
     ]
    },
    {
     "name": "stderr",
     "output_type": "stream",
     "text": [
      "ic| label_current_deforestation_test_high_uncertainty.shape: (785457,)\n",
      "    predicted_test_high_uncertainty.shape: (785457,)\n",
      "ic| TP_H + FN_H + FP_H + TN_H: 785457\n",
      "    len(label_mask_current_deforestation_test): 44601273\n",
      "ic| TP_H + FN_H + FP_H + TN_H: 785457\n",
      "    len(label_mask_current_deforestation_test): 44601273\n"
     ]
    },
    {
     "name": "stdout",
     "output_type": "stream",
     "text": [
      "[0.73902859 0.85098307 0.68654986 0.01761064 0.45045551 0.52251741\n",
      " 0.16848938]\n",
      "0.14771457202828925\n",
      "threshold 0.14771457202828925\n"
     ]
    },
    {
     "name": "stderr",
     "output_type": "stream",
     "text": [
      "ic| label_current_deforestation_test_high_uncertainty.shape: (1335925,)\n",
      "    predicted_test_high_uncertainty.shape: (1335925,)\n",
      "ic| TP_H + FN_H + FP_H + TN_H: 1335925\n",
      "    len(label_mask_current_deforestation_test): 44601273\n",
      "ic| TP_H + FN_H + FP_H + TN_H: 1335925\n",
      "    len(label_mask_current_deforestation_test): 44601273\n"
     ]
    },
    {
     "name": "stdout",
     "output_type": "stream",
     "text": [
      "[0.76354521 0.86540373 0.62537376 0.02995262 0.48532204 0.58458207\n",
      " 0.15532358]\n",
      "0.092202878138158\n",
      "threshold 0.092202878138158\n"
     ]
    },
    {
     "name": "stderr",
     "output_type": "stream",
     "text": [
      "ic| label_current_deforestation_test_high_uncertainty.shape: (1998562,)\n",
      "    predicted_test_high_uncertainty.shape: (1998562,)\n",
      "ic| TP_H + FN_H + FP_H + TN_H: 1998562\n",
      "    len(label_mask_current_deforestation_test): 44601273\n",
      "ic| TP_H + FN_H + FP_H + TN_H: 1998562\n",
      "    len(label_mask_current_deforestation_test): 44601273\n"
     ]
    },
    {
     "name": "stdout",
     "output_type": "stream",
     "text": [
      "[0.79298824 0.88205257 0.55498025 0.04480953 0.51301578 0.62710121\n",
      " 0.14080141]\n",
      "0.1678688122586928\n",
      "threshold 0.1678688122586928\n"
     ]
    },
    {
     "name": "stderr",
     "output_type": "stream",
     "text": [
      "ic| label_current_deforestation_test_high_uncertainty.shape: (1175522,)\n",
      "    predicted_test_high_uncertainty.shape: (1175522,)\n",
      "ic| TP_H + FN_H + FP_H + TN_H: 1175522\n",
      "    len(label_mask_current_deforestation_test): 44601273\n",
      "ic| TP_H + FN_H + FP_H + TN_H: 1175522\n",
      "    len(label_mask_current_deforestation_test): 44601273\n"
     ]
    },
    {
     "name": "stdout",
     "output_type": "stream",
     "text": [
      "[0.75645374 0.86155748 0.64274502 0.02635624 0.47708372 0.57001892\n",
      " 0.15935075]\n",
      "0.12651099173533897\n",
      "threshold 0.12651099173533897\n"
     ]
    },
    {
     "name": "stderr",
     "output_type": "stream",
     "text": [
      "ic| label_current_deforestation_test_high_uncertainty.shape: (1542750,)\n",
      "    predicted_test_high_uncertainty.shape: (1542750,)\n",
      "ic| TP_H + FN_H + FP_H + TN_H: 1542750\n",
      "    len(label_mask_current_deforestation_test): 44601273\n",
      "ic| TP_H + FN_H + FP_H + TN_H: 1542750\n",
      "    len(label_mask_current_deforestation_test): 44601273\n"
     ]
    },
    {
     "name": "stdout",
     "output_type": "stream",
     "text": [
      "[0.772156   0.87096964 0.6031279  0.03458982 0.49561941 0.59958969\n",
      " 0.15039521]\n",
      "0.1483945482882373\n",
      "threshold 0.1483945482882373\n"
     ]
    },
    {
     "name": "stderr",
     "output_type": "stream",
     "text": [
      "ic| label_current_deforestation_test_high_uncertainty.shape: (1330120,)\n",
      "    predicted_test_high_uncertainty.shape: (1330120,)\n",
      "ic| TP_H + FN_H + FP_H + TN_H: 1330120\n",
      "    len(label_mask_current_deforestation_test): 44601273\n",
      "ic| TP_H + FN_H + FP_H + TN_H: 1330120\n",
      "    len(label_mask_current_deforestation_test): 44601273\n"
     ]
    },
    {
     "name": "stdout",
     "output_type": "stream",
     "text": [
      "[0.76328973 0.86525684 0.62596384 0.02982247 0.4850763  0.58414927\n",
      " 0.15547305]\n",
      "0.1396155250395697\n",
      "threshold 0.1396155250395697\n"
     ]
    },
    {
     "name": "stderr",
     "output_type": "stream",
     "text": [
      "ic| label_current_deforestation_test_high_uncertainty.shape: (1409505,)\n",
      "    predicted_test_high_uncertainty.shape: (1409505,)\n",
      "ic| TP_H + FN_H + FP_H + TN_H: 1409505\n",
      "    len(label_mask_current_deforestation_test): 44601273\n",
      "ic| TP_H + FN_H + FP_H + TN_H: 1409505\n",
      "    len(label_mask_current_deforestation_test): 44601273\n"
     ]
    },
    {
     "name": "stdout",
     "output_type": "stream",
     "text": [
      "[0.76667646 0.86748077 0.61750094 0.03160235 0.48896223 0.58998163\n",
      " 0.15360675]\n",
      "0.14586315676378503\n",
      "threshold 0.14586315676378503\n"
     ]
    },
    {
     "name": "stderr",
     "output_type": "stream",
     "text": [
      "ic| label_current_deforestation_test_high_uncertainty.shape: (1352212,)\n",
      "    predicted_test_high_uncertainty.shape: (1352212,)\n",
      "ic| TP_H + FN_H + FP_H + TN_H: 1352212\n",
      "    len(label_mask_current_deforestation_test): 44601273\n",
      "ic| TP_H + FN_H + FP_H + TN_H: 1352212\n",
      "    len(label_mask_current_deforestation_test): 44601273\n"
     ]
    },
    {
     "name": "stdout",
     "output_type": "stream",
     "text": [
      "[0.76423444 0.86580834 0.62361751 0.03031779 0.48615992 0.58591565\n",
      " 0.15491298]\n",
      "0.14733666202235837\n",
      "threshold 0.14733666202235837\n"
     ]
    },
    {
     "name": "stderr",
     "output_type": "stream",
     "text": [
      "ic| label_current_deforestation_test_high_uncertainty.shape: (1339176,)\n",
      "    predicted_test_high_uncertainty.shape: (1339176,)\n",
      "ic| TP_H + FN_H + FP_H + TN_H: 1339176\n",
      "    len(label_mask_current_deforestation_test): 44601273\n",
      "ic| TP_H + FN_H + FP_H + TN_H: 1339176\n",
      "    len(label_mask_current_deforestation_test): 44601273\n"
     ]
    },
    {
     "name": "stdout",
     "output_type": "stream",
     "text": [
      "[0.76368543 0.86548229 0.62498542 0.03002551 0.48552686 0.58489766\n",
      " 0.15525297]\n",
      "0.14729640675717387\n",
      "threshold 0.14729640675717387\n"
     ]
    },
    {
     "name": "stderr",
     "output_type": "stream",
     "text": [
      "ic| label_current_deforestation_test_high_uncertainty.shape: (1339517,)\n",
      "    predicted_test_high_uncertainty.shape: (1339517,)\n",
      "ic| TP_H + FN_H + FP_H + TN_H: 1339517\n",
      "    len(label_mask_current_deforestation_test): 44601273\n",
      "ic| TP_H + FN_H + FP_H + TN_H: 1339517\n",
      "    len(label_mask_current_deforestation_test): 44601273\n"
     ]
    },
    {
     "name": "stdout",
     "output_type": "stream",
     "text": [
      "[0.76369961 0.86548717 0.6249516  0.03003316 0.48554162 0.58492854\n",
      " 0.15524146]\n",
      "0.1474767894188611\n",
      "threshold 0.1474767894188611\n"
     ]
    },
    {
     "name": "stderr",
     "output_type": "stream",
     "text": [
      "ic| label_current_deforestation_test_high_uncertainty.shape: (1337961,)\n",
      "    predicted_test_high_uncertainty.shape: (1337961,)\n",
      "ic| TP_H + FN_H + FP_H + TN_H: 1337961\n",
      "    len(label_mask_current_deforestation_test): 44601273\n",
      "ic| TP_H + FN_H + FP_H + TN_H: 1337961\n",
      "    len(label_mask_current_deforestation_test): 44601273\n"
     ]
    },
    {
     "name": "stdout",
     "output_type": "stream",
     "text": [
      "[0.76362707 0.86546587 0.62511487 0.02999827 0.48547673 0.58477541\n",
      " 0.15528666]\n",
      "0.14756761429372903\n",
      "threshold 0.14756761429372903\n"
     ]
    },
    {
     "name": "stderr",
     "output_type": "stream",
     "text": [
      "ic| label_current_deforestation_test_high_uncertainty.shape: (1337168,)\n",
      "    predicted_test_high_uncertainty.shape: (1337168,)\n",
      "ic| TP_H + FN_H + FP_H + TN_H: 1337168\n",
      "    len(label_mask_current_deforestation_test): 44601273\n",
      "ic| TP_H + FN_H + FP_H + TN_H: 1337168\n",
      "    len(label_mask_current_deforestation_test): 44601273\n"
     ]
    },
    {
     "name": "stdout",
     "output_type": "stream",
     "text": [
      "[0.76359529 0.86545673 0.62522332 0.02998049 0.48540804 0.58466476\n",
      " 0.15530675]\n",
      "0.1474434538980935\n",
      "threshold 0.1474434538980935\n"
     ]
    },
    {
     "name": "stderr",
     "output_type": "stream",
     "text": [
      "ic| label_current_deforestation_test_high_uncertainty.shape: (1338259,)\n",
      "    predicted_test_high_uncertainty.shape: (1338259,)\n",
      "ic| TP_H + FN_H + FP_H + TN_H: 1338259\n",
      "    len(label_mask_current_deforestation_test): 44601273\n",
      "ic| TP_H + FN_H + FP_H + TN_H: 1338259\n",
      "    len(label_mask_current_deforestation_test): 44601273\n"
     ]
    },
    {
     "name": "stdout",
     "output_type": "stream",
     "text": [
      "[0.76363654 0.86546215 0.62507988 0.03000495 0.48550007 0.5848228\n",
      " 0.15527206]\n",
      "0.14751012493962873\n",
      "threshold 0.14751012493962873\n"
     ]
    },
    {
     "name": "stderr",
     "output_type": "stream",
     "text": [
      "ic| label_current_deforestation_test_high_uncertainty.shape: (1337666,)\n",
      "    predicted_test_high_uncertainty.shape: (1337666,)\n",
      "ic| TP_H + FN_H + FP_H + TN_H: 1337666\n",
      "    len(label_mask_current_deforestation_test): 44601273\n",
      "ic| TP_H + FN_H + FP_H + TN_H: 1337666\n",
      "    len(label_mask_current_deforestation_test): 44601273\n",
      "ic| self.threshold_optimal: 0.1474767894188611\n"
     ]
    },
    {
     "name": "stdout",
     "output_type": "stream",
     "text": [
      "[0.76360896 0.86546335 0.62514635 0.02999166 0.48547061 0.58474306\n",
      " 0.15529296]\n",
      "threshold:  0.1474767894188611\n",
      "threshold 0.1474767894188611\n"
     ]
    },
    {
     "name": "stderr",
     "output_type": "stream",
     "text": [
      "ic| label_current_deforestation_test_high_uncertainty.shape: (1337961,)\n",
      "    predicted_test_high_uncertainty.shape: (1337961,)\n",
      "ic| TP_H + FN_H + FP_H + TN_H: 1337961\n",
      "    len(label_mask_current_deforestation_test): 44601273\n",
      "ic| TP_H + FN_H + FP_H + TN_H: 1337961\n",
      "    len(label_mask_current_deforestation_test): 44601273\n"
     ]
    },
    {
     "name": "stdout",
     "output_type": "stream",
     "text": [
      "[0.76362707 0.86546587 0.62511487 0.02999827 0.48547673 0.58477541\n",
      " 0.15528666]\n",
      "threshold 0.1474767894188611\n",
      "(44601273,) (44601273,)\n"
     ]
    },
    {
     "name": "stderr",
     "output_type": "stream",
     "text": [
      "ic| self.m_optimal: {'AA': array([0.02999827]),\n",
      "                     'UEO': array([0.15528666]),\n",
      "                     'f1': 73.15,\n",
      "                     'f1_H': array([0.53051957]),\n",
      "                     'f1_L': array([0.81136336]),\n",
      "                     'precision_H': array([0.48547673]),\n",
      "                     'precision_L': array([0.76362707]),\n",
      "                     'recall_H': array([0.58477541]),\n",
      "                     'recall_L': array([0.86546587]),\n",
      "                     'recall_Ltotal': array([0.62511487])}\n",
      "ic| self.m_audited_optimal: {'f1': array([0.86134302]),\n",
      "                             'precision': array([0.82350326]),\n",
      "                             'recall': array([0.90282773])}\n"
     ]
    },
    {
     "name": "stdout",
     "output_type": "stream",
     "text": [
      "cm_audited [[43577839   165926]\n",
      " [   83326   774182]]\n",
      "[0.82350326 0.90282773]\n",
      "Result idx 0: {'uncertainty_result': {'metrics': {'precision_L': array([0.76362707]), 'recall_L': array([0.86546587]), 'recall_Ltotal': array([0.62511487]), 'AA': array([0.02999827]), 'precision_H': array([0.48547673]), 'recall_H': array([0.58477541]), 'UEO': array([0.15528666]), 'f1_L': array([0.81136336]), 'f1_H': array([0.53051957]), 'f1': 73.15}, 'metrics_audited': {'precision': array([0.82350326]), 'recall': array([0.90282773]), 'f1': array([0.86134302])}, 'exp': 60}}\n",
      "Grid execution idx: 0\n",
      "Beginning run number 1\n",
      "manager.config {'training': True, 'inferring': True, 'site': 'MT', 'training_date': 'current', 'mode': 'evidential2', 'training_times': 10, 'uncertainty_method': 'pred_entropy', 'loadInference': False, 'removePolygons': True, 'plotLandsat': False, 'plotPOI': False, 'training_experiment_id': 60, 'get_multiple_metrics': False, 'start_repetition_id': 0, 'end_repetition_id': 10, 'save_probabilities': False, 'addPastDeforestationInput': True, 'classes_mode': True, 'learning_rate': 0.0001, 'use_cloud_mask': True, 'mask_out_non_biome': False, 'log_filename': 'log.pkl', 'inference_times': 1, 'dropout_training': False}\n",
      "D:/Jorge/datasets/deforestation/MT/deforestation_past_years.tif\n",
      "Loaded deforestation past years\n"
     ]
    },
    {
     "name": "stderr",
     "output_type": "stream",
     "text": [
      "ic| np.unique(deforestation_past_years, return_counts=True): (array([   0, 2008, 2009, 2010, 2011, 2012, 2013, 2014, 2015, 2016, 2017,\n",
      "                                                                    2018, 2019, 2020, 2021], dtype=uint16),\n",
      "                                                              array([161124576,   1332784,    240796,    338545,    313901,    287191,\n",
      "                                                                       708581,    648966,    876898,   1007787,   1098901,   1054092,\n",
      "                                                                      2096062,   2473828,   1400992], dtype=int64))\n"
     ]
    },
    {
     "name": "stdout",
     "output_type": "stream",
     "text": [
      "Label where deforestation past years is actual date (2020) = 1\n"
     ]
    },
    {
     "name": "stderr",
     "output_type": "stream",
     "text": [
      "ic| np.unique(deforestation_past_years, return_counts=True): (array([   0, 2008, 2009, 2010, 2011, 2012, 2013, 2014, 2015, 2016, 2017,\n",
      "                                                                    2018, 2019, 2020, 2021], dtype=uint16),\n",
      "                                                              array([161124576,   1332784,    240796,    338545,    313901,    287191,\n",
      "                                                                       708581,    648966,    876898,   1007787,   1098901,   1054092,\n",
      "                                                                      2096062,   2473828,   1400992], dtype=int64))\n"
     ]
    },
    {
     "name": "stdout",
     "output_type": "stream",
     "text": [
      "Past deforestation different from 0 (no deforestation)\n"
     ]
    },
    {
     "name": "stderr",
     "output_type": "stream",
     "text": [
      "ic| np.unique(deforestation_past_years, return_counts=True): (array([   0, 2008, 2009, 2010, 2011, 2012, 2013, 2014, 2015, 2016, 2017,\n",
      "                                                                    2018, 2019, 2020, 2021], dtype=uint16),\n",
      "                                                              array([161124576,   1332784,    240796,    338545,    313901,    287191,\n",
      "                                                                       708581,    648966,    876898,   1007787,   1098901,   1054092,\n",
      "                                                                      2096062,   2473828,   1400992], dtype=int64))\n"
     ]
    },
    {
     "name": "stdout",
     "output_type": "stream",
     "text": [
      "Past deforestation before 2008 is 2\n",
      "D:/Jorge/datasets/deforestation/MT/deforestation_before_2008_MT.tif\n"
     ]
    },
    {
     "name": "stderr",
     "output_type": "stream",
     "text": [
      "ic| np.unique(label_past_deforestation_before_2008, return_counts=True): (array([  0, 215], dtype=uint8), array([122623260,  52380640], dtype=int64))\n",
      "ic| np.unique(deforestation_past_years, return_counts=True): (array([   0, 2008, 2009, 2010, 2011, 2012, 2013, 2014, 2015, 2016, 2017,\n",
      "                                                                    2018, 2019, 2020, 2021], dtype=uint16),\n",
      "                                                              array([161124576,   1332784,    240796,    338545,    313901,    287191,\n",
      "                                                                       708581,    648966,    876898,   1007787,   1098901,   1054092,\n",
      "                                                                      2096062,   2473828,   1400992], dtype=int64))\n",
      "ic| label_per_date.shape: (16795, 10420, 1)\n"
     ]
    },
    {
     "name": "stdout",
     "output_type": "stream",
     "text": [
      "Removing bufer................\n",
      "Mask label shape:  \n",
      " (16795, 10420, 1) \n",
      " Unique values:  \n",
      " [0 1 2]\n",
      "Tiles size:  3359 2084\n",
      "Mask size:  (16795, 10420)\n"
     ]
    },
    {
     "name": "stderr",
     "output_type": "stream",
     "text": [
      "ic| image_stack.shape: (16795, 10420, 21)\n"
     ]
    },
    {
     "name": "stdout",
     "output_type": "stream",
     "text": [
      "Image shape:  (16795, 10420, 21)\n",
      "mask:  (16795, 10420)\n",
      "image stack:  (16795, 10420, 21)\n",
      "ref : (16795, 10420, 1)\n",
      "Training tiles:  [2, 4, 5, 6, 7, 12, 14, 15, 18, 21, 23, 24]\n",
      "Validation tiles:  [9, 11, 25]\n",
      "Test tiles:  [1, 3, 8, 10, 13, 16, 17, 19, 20, 22]\n",
      "-5.0 -12.0\n"
     ]
    },
    {
     "name": "stderr",
     "output_type": "stream",
     "text": [
      "ic| self.path_models+ '/' + self.method +'_'+str(self.repetition_id)+'.h5': 'D:/Jorge/datasets/deforestation/experiments/MT/exp60/models/resunet_1.h5'\n"
     ]
    },
    {
     "name": "stdout",
     "output_type": "stream",
     "text": [
      "Dropout training mode: False\n",
      "time:  0\n",
      "alpha.shape (16800, 10432, 2)\n",
      "S.shape (16800, 10432)\n",
      "K 2\n",
      "u.shape (16800, 10432)\n",
      "belief.shape (16800, 10432, 2)\n",
      "Inference runtime 90.78\n",
      "(44657480,)\n",
      "(array([0, 1], dtype=uint8), array([43783238,   874242], dtype=int64))\n",
      "(16795, 10420, 2)\n"
     ]
    },
    {
     "name": "stderr",
     "output_type": "stream",
     "text": [
      "ic| predicted_test.shape: (70001560,)\n",
      "ic| predicted_test.shape: (44657480,)\n",
      "ic| np.unique(predicted, return_counts=True): (array([0, 1], dtype=int8), array([172521032,   2482868], dtype=int64))\n",
      "    np.unique(predicted_larger_than_min_area, return_counts=True): (array([0, 1], dtype=int8), array([172641505,   2362395], dtype=int64))\n",
      "ic| np.unique(ignored_polygons, return_counts=True): (array([0, 1], dtype=int8), array([174883427,    120473], dtype=int64))\n",
      "ic| self.f1: 82.98, self.precision: 81.52, self.recall: 84.5\n",
      "ic| self.label_mask_val.shape: (21000468,)\n",
      "ic| self.label_mask_val_valid.shape: (11793553,)\n",
      "ic| f1_val: 93.11\n",
      "    precision_val: 88.29\n",
      "    recall_val: 98.49\n",
      "    mAP_val: 97.87\n"
     ]
    },
    {
     "name": "stdout",
     "output_type": "stream",
     "text": [
      "(array([0, 1], dtype=int16), array([174529373,    474527], dtype=int64))\n",
      "[0 1]\n"
     ]
    },
    {
     "name": "stderr",
     "output_type": "stream",
     "text": [
      "ic| self.label_mask.shape: (16795, 10420)\n",
      "ic| self.mask_test.shape: (16795, 10420)\n",
      "ic| self.label_mask_test.shape: (70001560,)\n",
      "ic| self.error_mask_test.shape: (44600865,)\n",
      "ic| bounds: (0.0015569606352224946, 0.9985)\n"
     ]
    },
    {
     "name": "stdout",
     "output_type": "stream",
     "text": [
      "(0.0015569606352224946, 0.9985)\n",
      "0.38235531682494306\n",
      "threshold 0.38235531682494306\n"
     ]
    },
    {
     "name": "stderr",
     "output_type": "stream",
     "text": [
      "c:\\Users\\jchamorro\\Anaconda3\\envs\\tf2\\lib\\site-packages\\scipy\\optimize\\_minimize.py:783: RuntimeWarning: Method 'bounded' does not support relative tolerance in x; defaulting to absolute tolerance.\n",
      "  warn(\"Method 'bounded' does not support relative tolerance in x; \"\n",
      "ic| label_current_deforestation_test_high_uncertainty.shape: (220756,)\n",
      "    predicted_test_high_uncertainty.shape: (220756,)\n",
      "ic| TP_H + FN_H + FP_H + TN_H: 220756\n",
      "    len(label_mask_current_deforestation_test): 44600865\n",
      "ic| TP_H + FN_H + FP_H + TN_H: 220756\n",
      "    len(label_mask_current_deforestation_test): 44600865\n"
     ]
    },
    {
     "name": "stdout",
     "output_type": "stream",
     "text": [
      "[0.83762133 0.87240446 0.79914686 0.00494959 0.55613872 0.54606156\n",
      " 0.14134434]\n",
      "0.6177016438102794\n",
      "threshold 0.6177016438102794\n"
     ]
    },
    {
     "name": "stderr",
     "output_type": "stream",
     "text": [
      "ic| label_current_deforestation_test_high_uncertainty.shape: (66723,)\n",
      "    predicted_test_high_uncertainty.shape: (66723,)\n",
      "ic| TP_H + FN_H + FP_H + TN_H: 66723\n",
      "    len(label_mask_current_deforestation_test): 44600865\n",
      "ic| TP_H + FN_H + FP_H + TN_H: 66723\n",
      "    len(label_mask_current_deforestation_test): 44600865\n"
     ]
    },
    {
     "name": "stdout",
     "output_type": "stream",
     "text": [
      "[0.82272886 0.85191226 0.82995848 0.001496   0.54245323 0.58371327\n",
      " 0.05843402]\n",
      "0.23690328762055873\n",
      "threshold 0.23690328762055873\n"
     ]
    },
    {
     "name": "stderr",
     "output_type": "stream",
     "text": [
      "ic| label_current_deforestation_test_high_uncertainty.shape: (442220,)\n",
      "    predicted_test_high_uncertainty.shape: (442220,)\n",
      "ic| TP_H + FN_H + FP_H + TN_H: 442220\n",
      "    len(label_mask_current_deforestation_test): 44600865\n",
      "ic| TP_H + FN_H + FP_H + TN_H: 442220\n",
      "    len(label_mask_current_deforestation_test): 44600865\n"
     ]
    },
    {
     "name": "stdout",
     "output_type": "stream",
     "text": [
      "[0.85017233 0.88958498 0.76842596 0.00991505 0.57718174 0.56223469\n",
      " 0.15527985]\n",
      "0.14700898983960686\n",
      "threshold 0.14700898983960686\n"
     ]
    },
    {
     "name": "stderr",
     "output_type": "stream",
     "text": [
      "ic| label_current_deforestation_test_high_uncertainty.shape: (914719,)\n",
      "    predicted_test_high_uncertainty.shape: (914719,)\n",
      "ic| TP_H + FN_H + FP_H + TN_H: 914719\n",
      "    len(label_mask_current_deforestation_test): 44600865\n",
      "ic| TP_H + FN_H + FP_H + TN_H: 914719\n",
      "    len(label_mask_current_deforestation_test): 44600865\n"
     ]
    },
    {
     "name": "stdout",
     "output_type": "stream",
     "text": [
      "[0.86340686 0.90413274 0.72884325 0.020509   0.60382538 0.59913359\n",
      " 0.12249207]\n",
      "0.09145125841617437\n",
      "threshold 0.09145125841617437\n"
     ]
    },
    {
     "name": "stderr",
     "output_type": "stream",
     "text": [
      "ic| label_current_deforestation_test_high_uncertainty.shape: (1545536,)\n",
      "    predicted_test_high_uncertainty.shape: (1545536,)\n",
      "ic| TP_H + FN_H + FP_H + TN_H: 1545536\n",
      "    len(label_mask_current_deforestation_test): 44600865\n",
      "ic| TP_H + FN_H + FP_H + TN_H: 1545536\n",
      "    len(label_mask_current_deforestation_test): 44600865\n"
     ]
    },
    {
     "name": "stdout",
     "output_type": "stream",
     "text": [
      "[0.87530609 0.91552017 0.67904002 0.0346526  0.63649139 0.64250812\n",
      " 0.09560389]\n",
      "0.057114692058655006\n",
      "threshold 0.057114692058655006\n"
     ]
    },
    {
     "name": "stderr",
     "output_type": "stream",
     "text": [
      "ic| label_current_deforestation_test_high_uncertainty.shape: (2294578,)\n",
      "    predicted_test_high_uncertainty.shape: (2294578,)\n",
      "ic| TP_H + FN_H + FP_H + TN_H: 2294578\n",
      "    len(label_mask_current_deforestation_test): 44600865\n",
      "ic| TP_H + FN_H + FP_H + TN_H: 2294578\n",
      "    len(label_mask_current_deforestation_test): 44600865\n"
     ]
    },
    {
     "name": "stdout",
     "output_type": "stream",
     "text": [
      "[0.88526688 0.92714358 0.61889994 0.05144694 0.67011436 0.68007222\n",
      " 0.07779319]\n",
      "0.1126724234820875\n",
      "threshold 0.1126724234820875\n"
     ]
    },
    {
     "name": "stderr",
     "output_type": "stream",
     "text": [
      "ic| label_current_deforestation_test_high_uncertainty.shape: (1247877,)\n",
      "    predicted_test_high_uncertainty.shape: (1247877,)\n",
      "ic| TP_H + FN_H + FP_H + TN_H: 1247877\n",
      "    len(label_mask_current_deforestation_test): 44600865\n",
      "ic| TP_H + FN_H + FP_H + TN_H: 1247877\n",
      "    len(label_mask_current_deforestation_test): 44600865\n"
     ]
    },
    {
     "name": "stdout",
     "output_type": "stream",
     "text": [
      "[0.87008514 0.91062508 0.70208796 0.02797876 0.62244583 0.62406153\n",
      " 0.10630104]\n",
      "0.11214696504177195\n",
      "threshold 0.11214696504177195\n"
     ]
    },
    {
     "name": "stderr",
     "output_type": "stream",
     "text": [
      "ic| label_current_deforestation_test_high_uncertainty.shape: (1254087,)\n",
      "    predicted_test_high_uncertainty.shape: (1254087,)\n",
      "ic| TP_H + FN_H + FP_H + TN_H: 1254087\n",
      "    len(label_mask_current_deforestation_test): 44600865\n",
      "ic| TP_H + FN_H + FP_H + TN_H: 1254087\n",
      "    len(label_mask_current_deforestation_test): 44600865\n"
     ]
    },
    {
     "name": "stdout",
     "output_type": "stream",
     "text": [
      "[0.87019135 0.91075573 0.70157845 0.028118   0.62280954 0.62445932\n",
      " 0.10605765]\n",
      "0.10536051950651643\n",
      "threshold 0.10536051950651643\n"
     ]
    },
    {
     "name": "stderr",
     "output_type": "stream",
     "text": [
      "ic| label_current_deforestation_test_high_uncertainty.shape: (1340211,)\n",
      "    predicted_test_high_uncertainty.shape: (1340211,)\n",
      "ic| TP_H + FN_H + FP_H + TN_H: 1340211\n",
      "    len(label_mask_current_deforestation_test): 44600865\n",
      "ic| TP_H + FN_H + FP_H + TN_H: 1340211\n",
      "    len(label_mask_current_deforestation_test): 44600865\n"
     ]
    },
    {
     "name": "stdout",
     "output_type": "stream",
     "text": [
      "[0.87172395 0.91226374 0.69475236 0.03004899 0.62726129 0.63015637\n",
      " 0.10269432]\n",
      "0.10004765452840218\n",
      "threshold 0.10004765452840218\n"
     ]
    },
    {
     "name": "stderr",
     "output_type": "stream",
     "text": [
      "ic| label_current_deforestation_test_high_uncertainty.shape: (1413881,)\n",
      "    predicted_test_high_uncertainty.shape: (1413881,)\n",
      "ic| TP_H + FN_H + FP_H + TN_H: 1413881\n",
      "    len(label_mask_current_deforestation_test): 44600865\n",
      "ic| TP_H + FN_H + FP_H + TN_H: 1413881\n",
      "    len(label_mask_current_deforestation_test): 44600865\n"
     ]
    },
    {
     "name": "stdout",
     "output_type": "stream",
     "text": [
      "[0.87307078 0.91345599 0.68911048 0.03170075 0.63056704 0.63473043\n",
      " 0.10001227]\n",
      "0.10594132814986189\n",
      "threshold 0.10594132814986189\n"
     ]
    },
    {
     "name": "stderr",
     "output_type": "stream",
     "text": [
      "ic| label_current_deforestation_test_high_uncertainty.shape: (1332598,)\n",
      "    predicted_test_high_uncertainty.shape: (1332598,)\n",
      "ic| TP_H + FN_H + FP_H + TN_H: 1332598\n",
      "    len(label_mask_current_deforestation_test): 44600865\n",
      "ic| TP_H + FN_H + FP_H + TN_H: 1332598\n",
      "    len(label_mask_current_deforestation_test): 44600865\n"
     ]
    },
    {
     "name": "stdout",
     "output_type": "stream",
     "text": [
      "[0.87158278 0.91212541 0.69535261 0.0298783  0.62689564 0.62968184\n",
      " 0.10297255]\n",
      "0.1048049786125089\n",
      "threshold 0.1048049786125089\n"
     ]
    },
    {
     "name": "stderr",
     "output_type": "stream",
     "text": [
      "ic| label_current_deforestation_test_high_uncertainty.shape: (1347660,)\n",
      "    predicted_test_high_uncertainty.shape: (1347660,)\n",
      "ic| TP_H + FN_H + FP_H + TN_H: 1347660\n",
      "    len(label_mask_current_deforestation_test): 44600865\n",
      "ic| TP_H + FN_H + FP_H + TN_H: 1347660\n",
      "    len(label_mask_current_deforestation_test): 44600865\n"
     ]
    },
    {
     "name": "stdout",
     "output_type": "stream",
     "text": [
      "[0.87184204 0.91239081 0.69417305 0.03021601 0.62765582 0.63062616\n",
      " 0.10240715]\n",
      "0.1054838869862052\n",
      "threshold 0.1054838869862052\n"
     ]
    },
    {
     "name": "stderr",
     "output_type": "stream",
     "text": [
      "ic| label_current_deforestation_test_high_uncertainty.shape: (1338642,)\n",
      "    predicted_test_high_uncertainty.shape: (1338642,)\n",
      "ic| TP_H + FN_H + FP_H + TN_H: 1338642\n",
      "    len(label_mask_current_deforestation_test): 44600865\n",
      "ic| TP_H + FN_H + FP_H + TN_H: 1338642\n",
      "    len(label_mask_current_deforestation_test): 44600865\n"
     ]
    },
    {
     "name": "stdout",
     "output_type": "stream",
     "text": [
      "[0.87169055 0.91224046 0.69487683 0.03001381 0.6271955  0.63004623\n",
      " 0.10275162]\n",
      "0.10558114583033068\n",
      "threshold 0.10558114583033068\n"
     ]
    },
    {
     "name": "stderr",
     "output_type": "stream",
     "text": [
      "ic| label_current_deforestation_test_high_uncertainty.shape: (1337369,)\n",
      "    predicted_test_high_uncertainty.shape: (1337369,)\n",
      "ic| TP_H + FN_H + FP_H + TN_H: 1337369\n",
      "    len(label_mask_current_deforestation_test): 44600865\n",
      "ic| TP_H + FN_H + FP_H + TN_H: 1337369\n",
      "    len(label_mask_current_deforestation_test): 44600865\n"
     ]
    },
    {
     "name": "stdout",
     "output_type": "stream",
     "text": [
      "[0.87166726 0.91221671 0.69498501 0.02998527 0.6271245  0.62995819\n",
      " 0.1027967 ]\n",
      "0.10545055208829299\n",
      "threshold 0.10545055208829299\n"
     ]
    },
    {
     "name": "stderr",
     "output_type": "stream",
     "text": [
      "ic| label_current_deforestation_test_high_uncertainty.shape: (1339056,)\n",
      "    predicted_test_high_uncertainty.shape: (1339056,)\n",
      "ic| TP_H + FN_H + FP_H + TN_H: 1339056\n",
      "    len(label_mask_current_deforestation_test): 44600865\n",
      "ic| TP_H + FN_H + FP_H + TN_H: 1339056\n",
      "    len(label_mask_current_deforestation_test): 44600865\n"
     ]
    },
    {
     "name": "stdout",
     "output_type": "stream",
     "text": [
      "[0.87170129 0.91224745 0.69484077 0.03002309 0.62721203 0.63007761\n",
      " 0.10273856]\n",
      "0.10551722188411741\n",
      "threshold 0.10551722188411741\n"
     ]
    },
    {
     "name": "stderr",
     "output_type": "stream",
     "text": [
      "ic| label_current_deforestation_test_high_uncertainty.shape: (1338224,)\n",
      "    predicted_test_high_uncertainty.shape: (1338224,)\n",
      "ic| TP_H + FN_H + FP_H + TN_H: 1338224\n",
      "    len(label_mask_current_deforestation_test): 44600865\n",
      "ic| TP_H + FN_H + FP_H + TN_H: 1338224\n",
      "    len(label_mask_current_deforestation_test): 44600865\n",
      "ic| self.threshold_optimal: 0.10551722188411741\n"
     ]
    },
    {
     "name": "stdout",
     "output_type": "stream",
     "text": [
      "[0.87167724 0.91223392 0.69490475 0.03000444 0.62719469 0.63002441\n",
      " 0.10276496]\n",
      "threshold:  0.10551722188411741\n",
      "threshold 0.10551722188411741\n"
     ]
    },
    {
     "name": "stderr",
     "output_type": "stream",
     "text": [
      "ic| label_current_deforestation_test_high_uncertainty.shape: (1338224,)\n",
      "    predicted_test_high_uncertainty.shape: (1338224,)\n",
      "ic| TP_H + FN_H + FP_H + TN_H: 1338224\n",
      "    len(label_mask_current_deforestation_test): 44600865\n",
      "ic| TP_H + FN_H + FP_H + TN_H: 1338224\n",
      "    len(label_mask_current_deforestation_test): 44600865\n"
     ]
    },
    {
     "name": "stdout",
     "output_type": "stream",
     "text": [
      "[0.87167724 0.91223392 0.69490475 0.03000444 0.62719469 0.63002441\n",
      " 0.10276496]\n",
      "threshold 0.10551722188411741\n",
      "(44600865,) (44600865,)\n"
     ]
    },
    {
     "name": "stderr",
     "output_type": "stream",
     "text": [
      "ic| self.m_optimal: {'AA': array([0.03000444]),\n",
      "                     'UEO': array([0.10276496]),\n",
      "                     'f1': 82.98,\n",
      "                     'f1_H': array([0.62860637]),\n",
      "                     'f1_L': array([0.89149456]),\n",
      "                     'precision_H': array([0.62719469]),\n",
      "                     'precision_L': array([0.87167724]),\n",
      "                     'recall_H': array([0.63002441]),\n",
      "                     'recall_L': array([0.91223392]),\n",
      "                     'recall_Ltotal': array([0.69490475])}\n",
      "ic| self.m_audited_optimal: {'f1': array([0.9168946]),\n",
      "                             'precision': array([0.90120221]),\n",
      "                             'recall': array([0.93314318])}\n"
     ]
    },
    {
     "name": "stdout",
     "output_type": "stream",
     "text": [
      "cm_audited [[43653281    87941]\n",
      " [   57473   802170]]\n",
      "[0.90120221 0.93314318]\n",
      "Result idx 1: {'uncertainty_result': {'metrics': {'precision_L': array([0.87167724]), 'recall_L': array([0.91223392]), 'recall_Ltotal': array([0.69490475]), 'AA': array([0.03000444]), 'precision_H': array([0.62719469]), 'recall_H': array([0.63002441]), 'UEO': array([0.10276496]), 'f1_L': array([0.89149456]), 'f1_H': array([0.62860637]), 'f1': 82.98}, 'metrics_audited': {'precision': array([0.90120221]), 'recall': array([0.93314318]), 'f1': array([0.9168946])}, 'exp': 60}}\n",
      "Grid execution idx: 1\n",
      "Beginning run number 2\n",
      "manager.config {'training': True, 'inferring': True, 'site': 'MT', 'training_date': 'current', 'mode': 'evidential2', 'training_times': 10, 'uncertainty_method': 'pred_entropy', 'loadInference': False, 'removePolygons': True, 'plotLandsat': False, 'plotPOI': False, 'training_experiment_id': 60, 'get_multiple_metrics': False, 'start_repetition_id': 0, 'end_repetition_id': 10, 'save_probabilities': False, 'addPastDeforestationInput': True, 'classes_mode': True, 'learning_rate': 0.0001, 'use_cloud_mask': True, 'mask_out_non_biome': False, 'log_filename': 'log.pkl', 'inference_times': 1, 'dropout_training': False}\n",
      "D:/Jorge/datasets/deforestation/MT/deforestation_past_years.tif\n",
      "Loaded deforestation past years\n"
     ]
    },
    {
     "name": "stderr",
     "output_type": "stream",
     "text": [
      "ic| np.unique(deforestation_past_years, return_counts=True): (array([   0, 2008, 2009, 2010, 2011, 2012, 2013, 2014, 2015, 2016, 2017,\n",
      "                                                                    2018, 2019, 2020, 2021], dtype=uint16),\n",
      "                                                              array([161124576,   1332784,    240796,    338545,    313901,    287191,\n",
      "                                                                       708581,    648966,    876898,   1007787,   1098901,   1054092,\n",
      "                                                                      2096062,   2473828,   1400992], dtype=int64))\n"
     ]
    },
    {
     "name": "stdout",
     "output_type": "stream",
     "text": [
      "Label where deforestation past years is actual date (2020) = 1\n"
     ]
    },
    {
     "name": "stderr",
     "output_type": "stream",
     "text": [
      "ic| np.unique(deforestation_past_years, return_counts=True): (array([   0, 2008, 2009, 2010, 2011, 2012, 2013, 2014, 2015, 2016, 2017,\n",
      "                                                                    2018, 2019, 2020, 2021], dtype=uint16),\n",
      "                                                              array([161124576,   1332784,    240796,    338545,    313901,    287191,\n",
      "                                                                       708581,    648966,    876898,   1007787,   1098901,   1054092,\n",
      "                                                                      2096062,   2473828,   1400992], dtype=int64))\n"
     ]
    },
    {
     "name": "stdout",
     "output_type": "stream",
     "text": [
      "Past deforestation different from 0 (no deforestation)\n"
     ]
    },
    {
     "name": "stderr",
     "output_type": "stream",
     "text": [
      "ic| np.unique(deforestation_past_years, return_counts=True): (array([   0, 2008, 2009, 2010, 2011, 2012, 2013, 2014, 2015, 2016, 2017,\n",
      "                                                                    2018, 2019, 2020, 2021], dtype=uint16),\n",
      "                                                              array([161124576,   1332784,    240796,    338545,    313901,    287191,\n",
      "                                                                       708581,    648966,    876898,   1007787,   1098901,   1054092,\n",
      "                                                                      2096062,   2473828,   1400992], dtype=int64))\n"
     ]
    },
    {
     "name": "stdout",
     "output_type": "stream",
     "text": [
      "Past deforestation before 2008 is 2\n",
      "D:/Jorge/datasets/deforestation/MT/deforestation_before_2008_MT.tif\n"
     ]
    },
    {
     "name": "stderr",
     "output_type": "stream",
     "text": [
      "ic| np.unique(label_past_deforestation_before_2008, return_counts=True): (array([  0, 215], dtype=uint8), array([122623260,  52380640], dtype=int64))\n",
      "ic| np.unique(deforestation_past_years, return_counts=True): (array([   0, 2008, 2009, 2010, 2011, 2012, 2013, 2014, 2015, 2016, 2017,\n",
      "                                                                    2018, 2019, 2020, 2021], dtype=uint16),\n",
      "                                                              array([161124576,   1332784,    240796,    338545,    313901,    287191,\n",
      "                                                                       708581,    648966,    876898,   1007787,   1098901,   1054092,\n",
      "                                                                      2096062,   2473828,   1400992], dtype=int64))\n",
      "ic| label_per_date.shape: (16795, 10420, 1)\n"
     ]
    },
    {
     "name": "stdout",
     "output_type": "stream",
     "text": [
      "Removing bufer................\n",
      "Mask label shape:  \n",
      " (16795, 10420, 1) \n",
      " Unique values:  \n",
      " [0 1 2]\n",
      "Tiles size:  3359 2084\n",
      "Mask size:  (16795, 10420)\n"
     ]
    },
    {
     "name": "stderr",
     "output_type": "stream",
     "text": [
      "ic| image_stack.shape: (16795, 10420, 21)\n"
     ]
    },
    {
     "name": "stdout",
     "output_type": "stream",
     "text": [
      "Image shape:  (16795, 10420, 21)\n",
      "mask:  (16795, 10420)\n",
      "image stack:  (16795, 10420, 21)\n",
      "ref : (16795, 10420, 1)\n",
      "Training tiles:  [2, 4, 5, 6, 7, 12, 14, 15, 18, 21, 23, 24]\n",
      "Validation tiles:  [9, 11, 25]\n",
      "Test tiles:  [1, 3, 8, 10, 13, 16, 17, 19, 20, 22]\n",
      "-5.0 -12.0\n"
     ]
    },
    {
     "name": "stderr",
     "output_type": "stream",
     "text": [
      "ic| self.path_models+ '/' + self.method +'_'+str(self.repetition_id)+'.h5': 'D:/Jorge/datasets/deforestation/experiments/MT/exp60/models/resunet_2.h5'\n"
     ]
    },
    {
     "name": "stdout",
     "output_type": "stream",
     "text": [
      "Dropout training mode: False\n",
      "time:  0\n",
      "alpha.shape (16800, 10432, 2)\n",
      "S.shape (16800, 10432)\n",
      "K 2\n",
      "u.shape (16800, 10432)\n",
      "belief.shape (16800, 10432, 2)\n",
      "Inference runtime 89.61\n",
      "(44657480,)\n",
      "(array([0, 1], dtype=uint8), array([43783238,   874242], dtype=int64))\n",
      "(16795, 10420, 2)\n"
     ]
    },
    {
     "name": "stderr",
     "output_type": "stream",
     "text": [
      "ic| predicted_test.shape: (70001560,)\n",
      "ic| predicted_test.shape: (44657480,)\n",
      "ic| np.unique(predicted, return_counts=True): (array([0, 1], dtype=int8), array([172375772,   2628128], dtype=int64))\n",
      "    np.unique(predicted_larger_than_min_area, return_counts=True): (array([0, 1], dtype=int8), array([172514934,   2488966], dtype=int64))\n",
      "ic| np.unique(ignored_polygons, return_counts=True): (array([0, 1], dtype=int8), array([174864738,    139162], dtype=int64))\n",
      "ic| self.f1: 73.59, self.precision: 69.03, self.recall: 78.8\n",
      "ic| self.label_mask_val.shape: (21000468,)\n",
      "ic| self.label_mask_val_valid.shape: (11790650,)\n",
      "ic| f1_val: 95.35\n",
      "    precision_val: 92.52\n",
      "    recall_val: 98.36\n",
      "    mAP_val: 98.69\n"
     ]
    },
    {
     "name": "stdout",
     "output_type": "stream",
     "text": [
      "(array([0, 1], dtype=int16), array([174247128,    756772], dtype=int64))\n",
      "[0 1]\n"
     ]
    },
    {
     "name": "stderr",
     "output_type": "stream",
     "text": [
      "ic| self.label_mask.shape: (16795, 10420)\n",
      "ic| self.mask_test.shape: (16795, 10420)\n",
      "ic| self.label_mask_test.shape: (70001560,)\n",
      "ic| self.error_mask_test.shape: (44607569,)\n",
      "ic| bounds: (0.0032094529619067906, 0.9985)\n"
     ]
    },
    {
     "name": "stdout",
     "output_type": "stream",
     "text": [
      "(0.0032094529619067906, 0.9985)\n",
      "0.38337661324898237\n",
      "threshold 0.38337661324898237\n"
     ]
    },
    {
     "name": "stderr",
     "output_type": "stream",
     "text": [
      "c:\\Users\\jchamorro\\Anaconda3\\envs\\tf2\\lib\\site-packages\\scipy\\optimize\\_minimize.py:783: RuntimeWarning: Method 'bounded' does not support relative tolerance in x; defaulting to absolute tolerance.\n",
      "  warn(\"Method 'bounded' does not support relative tolerance in x; \"\n",
      "ic| label_current_deforestation_test_high_uncertainty.shape: (510131,)\n",
      "    predicted_test_high_uncertainty.shape: (510131,)\n",
      "ic| TP_H + FN_H + FP_H + TN_H: 510131\n",
      "    len(label_mask_current_deforestation_test): 44607569\n",
      "ic| TP_H + FN_H + FP_H + TN_H: 510131\n",
      "    len(label_mask_current_deforestation_test): 44607569\n"
     ]
    },
    {
     "name": "stdout",
     "output_type": "stream",
     "text": [
      "[0.71995276 0.83746084 0.70749624 0.01143597 0.50669556 0.51856403\n",
      " 0.15219204]\n",
      "0.6183328397129244\n",
      "threshold 0.6183328397129244\n"
     ]
    },
    {
     "name": "stderr",
     "output_type": "stream",
     "text": [
      "ic| label_current_deforestation_test_high_uncertainty.shape: (163177,)\n",
      "    predicted_test_high_uncertainty.shape: (163177,)\n",
      "ic| TP_H + FN_H + FP_H + TN_H: 163177\n",
      "    len(label_mask_current_deforestation_test): 44607569\n",
      "ic| TP_H + FN_H + FP_H + TN_H: 163177\n",
      "    len(label_mask_current_deforestation_test): 44607569\n"
     ]
    },
    {
     "name": "stdout",
     "output_type": "stream",
     "text": [
      "[0.70127513 0.80520804 0.7633299  0.00365806 0.46464359 0.473796\n",
      " 0.07970525]\n",
      "0.23816567942584874\n",
      "threshold 0.23816567942584874\n"
     ]
    },
    {
     "name": "stderr",
     "output_type": "stream",
     "text": [
      "ic| label_current_deforestation_test_high_uncertainty.shape: (967429,)\n",
      "    predicted_test_high_uncertainty.shape: (967429,)\n",
      "ic| TP_H + FN_H + FP_H + TN_H: 967429\n",
      "    len(label_mask_current_deforestation_test): 44607569\n",
      "ic| TP_H + FN_H + FP_H + TN_H: 967429\n",
      "    len(label_mask_current_deforestation_test): 44607569\n"
     ]
    },
    {
     "name": "stdout",
     "output_type": "stream",
     "text": [
      "[0.7384398  0.85217024 0.64794032 0.02168755 0.5302668  0.58429485\n",
      " 0.15248332]\n",
      "0.14842038678504044\n",
      "threshold 0.14842038678504044\n"
     ]
    },
    {
     "name": "stderr",
     "output_type": "stream",
     "text": [
      "ic| label_current_deforestation_test_high_uncertainty.shape: (1581639,)\n",
      "    predicted_test_high_uncertainty.shape: (1581639,)\n",
      "ic| TP_H + FN_H + FP_H + TN_H: 1581639\n",
      "    len(label_mask_current_deforestation_test): 44607569\n",
      "ic| TP_H + FN_H + FP_H + TN_H: 1581639\n",
      "    len(label_mask_current_deforestation_test): 44607569\n"
     ]
    },
    {
     "name": "stdout",
     "output_type": "stream",
     "text": [
      "[0.76226203 0.87022013 0.58399005 0.03545674 0.54337941 0.62016142\n",
      " 0.14055454]\n",
      "0.09689310318085759\n",
      "threshold 0.09689310318085759\n"
     ]
    },
    {
     "name": "stderr",
     "output_type": "stream",
     "text": [
      "ic| label_current_deforestation_test_high_uncertainty.shape: (2274207,)\n",
      "    predicted_test_high_uncertainty.shape: (2274207,)\n",
      "ic| TP_H + FN_H + FP_H + TN_H: 2274207\n",
      "    len(label_mask_current_deforestation_test): 44607569\n",
      "ic| TP_H + FN_H + FP_H + TN_H: 2274207\n",
      "    len(label_mask_current_deforestation_test): 44607569\n"
     ]
    },
    {
     "name": "stdout",
     "output_type": "stream",
     "text": [
      "[0.79663296 0.89866551 0.52763426 0.05098254 0.54328444 0.63055656\n",
      " 0.13082837]\n",
      "0.18270003824352338\n",
      "threshold 0.18270003824352338\n"
     ]
    },
    {
     "name": "stderr",
     "output_type": "stream",
     "text": [
      "ic| label_current_deforestation_test_high_uncertainty.shape: (1297127,)\n",
      "    predicted_test_high_uncertainty.shape: (1297127,)\n",
      "ic| TP_H + FN_H + FP_H + TN_H: 1297127\n",
      "    len(label_mask_current_deforestation_test): 44607569\n",
      "ic| TP_H + FN_H + FP_H + TN_H: 1297127\n",
      "    len(label_mask_current_deforestation_test): 44607569\n"
     ]
    },
    {
     "name": "stdout",
     "output_type": "stream",
     "text": [
      "[0.750295   0.86151966 0.61221678 0.02907863 0.53986391 0.60735856\n",
      " 0.14549514]\n",
      "0.18791627129782668\n",
      "threshold 0.18791627129782668\n"
     ]
    },
    {
     "name": "stderr",
     "output_type": "stream",
     "text": [
      "ic| label_current_deforestation_test_high_uncertainty.shape: (1260292,)\n",
      "    predicted_test_high_uncertainty.shape: (1260292,)\n",
      "ic| TP_H + FN_H + FP_H + TN_H: 1260292\n",
      "    len(label_mask_current_deforestation_test): 44607569\n",
      "ic| TP_H + FN_H + FP_H + TN_H: 1260292\n",
      "    len(label_mask_current_deforestation_test): 44607569\n"
     ]
    },
    {
     "name": "stdout",
     "output_type": "stream",
     "text": [
      "[0.74898831 0.86052301 0.61617857 0.02825287 0.53880493 0.60501421\n",
      " 0.14628643]\n",
      "0.17455078509417143\n",
      "threshold 0.17455078509417143\n"
     ]
    },
    {
     "name": "stderr",
     "output_type": "stream",
     "text": [
      "ic| label_current_deforestation_test_high_uncertainty.shape: (1357325,)\n",
      "    predicted_test_high_uncertainty.shape: (1357325,)\n",
      "ic| TP_H + FN_H + FP_H + TN_H: 1357325\n",
      "    len(label_mask_current_deforestation_test): 44607569\n",
      "ic| TP_H + FN_H + FP_H + TN_H: 1357325\n",
      "    len(label_mask_current_deforestation_test): 44607569\n"
     ]
    },
    {
     "name": "stdout",
     "output_type": "stream",
     "text": [
      "[0.7526233  0.86329095 0.60609909 0.03042813 0.54095446 0.61047381\n",
      " 0.14431561]\n",
      "0.17448879943795337\n",
      "threshold 0.17448879943795337\n"
     ]
    },
    {
     "name": "stderr",
     "output_type": "stream",
     "text": [
      "ic| label_current_deforestation_test_high_uncertainty.shape: (1357816,)\n",
      "    predicted_test_high_uncertainty.shape: (1357816,)\n",
      "ic| TP_H + FN_H + FP_H + TN_H: 1357816\n",
      "    len(label_mask_current_deforestation_test): 44607569\n",
      "ic| TP_H + FN_H + FP_H + TN_H: 1357816\n",
      "    len(label_mask_current_deforestation_test): 44607569\n"
     ]
    },
    {
     "name": "stdout",
     "output_type": "stream",
     "text": [
      "[0.75263011 0.86329807 0.6060328  0.03043914 0.54099817 0.6105271\n",
      " 0.14429933]\n",
      "0.1775817566593564\n",
      "threshold 0.1775817566593564\n"
     ]
    },
    {
     "name": "stderr",
     "output_type": "stream",
     "text": [
      "ic| label_current_deforestation_test_high_uncertainty.shape: (1334534,)\n",
      "    predicted_test_high_uncertainty.shape: (1334534,)\n",
      "ic| TP_H + FN_H + FP_H + TN_H: 1334534\n",
      "    len(label_mask_current_deforestation_test): 44607569\n",
      "ic| TP_H + FN_H + FP_H + TN_H: 1334534\n",
      "    len(label_mask_current_deforestation_test): 44607569\n"
     ]
    },
    {
     "name": "stdout",
     "output_type": "stream",
     "text": [
      "[0.75170995 0.86260168 0.60832243 0.02991721 0.54067145 0.60943109\n",
      " 0.14475753]\n",
      "0.17953676626051554\n",
      "threshold 0.17953676626051554\n"
     ]
    },
    {
     "name": "stderr",
     "output_type": "stream",
     "text": [
      "ic| label_current_deforestation_test_high_uncertainty.shape: (1320048,)\n",
      "    predicted_test_high_uncertainty.shape: (1320048,)\n",
      "ic| TP_H + FN_H + FP_H + TN_H: 1320048\n",
      "    len(label_mask_current_deforestation_test): 44607569\n",
      "ic| TP_H + FN_H + FP_H + TN_H: 1320048\n",
      "    len(label_mask_current_deforestation_test): 44607569\n"
     ]
    },
    {
     "name": "stdout",
     "output_type": "stream",
     "text": [
      "[0.75113183 0.86217815 0.60984342 0.02959247 0.54040019 0.60862897\n",
      " 0.1450157 ]\n",
      "0.1770805531300364\n",
      "threshold 0.1770805531300364\n"
     ]
    },
    {
     "name": "stderr",
     "output_type": "stream",
     "text": [
      "ic| label_current_deforestation_test_high_uncertainty.shape: (1338234,)\n",
      "    predicted_test_high_uncertainty.shape: (1338234,)\n",
      "ic| TP_H + FN_H + FP_H + TN_H: 1338234\n",
      "    len(label_mask_current_deforestation_test): 44607569\n",
      "ic| TP_H + FN_H + FP_H + TN_H: 1338234\n",
      "    len(label_mask_current_deforestation_test): 44607569\n"
     ]
    },
    {
     "name": "stdout",
     "output_type": "stream",
     "text": [
      "[0.75186296 0.86271909 0.60798288 0.03000016 0.54069046 0.60957062\n",
      " 0.14468509]\n",
      "0.17611426772398905\n",
      "threshold 0.17611426772398905\n"
     ]
    },
    {
     "name": "stderr",
     "output_type": "stream",
     "text": [
      "ic| label_current_deforestation_test_high_uncertainty.shape: (1345431,)\n",
      "    predicted_test_high_uncertainty.shape: (1345431,)\n",
      "ic| TP_H + FN_H + FP_H + TN_H: 1345431\n",
      "    len(label_mask_current_deforestation_test): 44607569\n",
      "ic| TP_H + FN_H + FP_H + TN_H: 1345431\n",
      "    len(label_mask_current_deforestation_test): 44607569\n"
     ]
    },
    {
     "name": "stdout",
     "output_type": "stream",
     "text": [
      "[0.75216223 0.86292621 0.6072689  0.0301615  0.54077059 0.60993014\n",
      " 0.14455085]\n",
      "0.1769666007957154\n",
      "threshold 0.1769666007957154\n"
     ]
    },
    {
     "name": "stderr",
     "output_type": "stream",
     "text": [
      "ic| label_current_deforestation_test_high_uncertainty.shape: (1339084,)\n",
      "    predicted_test_high_uncertainty.shape: (1339084,)\n",
      "ic| TP_H + FN_H + FP_H + TN_H: 1339084\n",
      "    len(label_mask_current_deforestation_test): 44607569\n",
      "ic| TP_H + FN_H + FP_H + TN_H: 1339084\n",
      "    len(label_mask_current_deforestation_test): 44607569\n"
     ]
    },
    {
     "name": "stdout",
     "output_type": "stream",
     "text": [
      "[0.7519018  0.86272892 0.60789451 0.03001921 0.54069719 0.60964184\n",
      " 0.14466539]\n",
      "0.17717845267997018\n",
      "threshold 0.17717845267997018\n"
     ]
    },
    {
     "name": "stderr",
     "output_type": "stream",
     "text": [
      "ic| label_current_deforestation_test_high_uncertainty.shape: (1337549,)\n",
      "    predicted_test_high_uncertainty.shape: (1337549,)\n",
      "ic| TP_H + FN_H + FP_H + TN_H: 1337549\n",
      "    len(label_mask_current_deforestation_test): 44607569\n",
      "ic| TP_H + FN_H + FP_H + TN_H: 1337549\n",
      "    len(label_mask_current_deforestation_test): 44607569\n"
     ]
    },
    {
     "name": "stdout",
     "output_type": "stream",
     "text": [
      "[0.75184761 0.86269851 0.60805265 0.0299848  0.5406584  0.60953597\n",
      " 0.14470562]\n",
      "0.177047217170174\n",
      "threshold 0.177047217170174\n"
     ]
    },
    {
     "name": "stderr",
     "output_type": "stream",
     "text": [
      "ic| label_current_deforestation_test_high_uncertainty.shape: (1338482,)\n",
      "    predicted_test_high_uncertainty.shape: (1338482,)\n",
      "ic| TP_H + FN_H + FP_H + TN_H: 1338482\n",
      "    len(label_mask_current_deforestation_test): 44607569\n",
      "ic| TP_H + FN_H + FP_H + TN_H: 1338482\n",
      "    len(label_mask_current_deforestation_test): 44607569\n"
     ]
    },
    {
     "name": "stdout",
     "output_type": "stream",
     "text": [
      "[0.75187347 0.86272258 0.60796428 0.03000571 0.54068781 0.60958322\n",
      " 0.14467694]\n",
      "0.1771138890898988\n",
      "threshold 0.1771138890898988\n"
     ]
    },
    {
     "name": "stderr",
     "output_type": "stream",
     "text": [
      "ic| label_current_deforestation_test_high_uncertainty.shape: (1337995,)\n",
      "    predicted_test_high_uncertainty.shape: (1337995,)\n",
      "ic| TP_H + FN_H + FP_H + TN_H: 1337995\n",
      "    len(label_mask_current_deforestation_test): 44607569\n",
      "ic| TP_H + FN_H + FP_H + TN_H: 1337995\n",
      "    len(label_mask_current_deforestation_test): 44607569\n",
      "ic| self.threshold_optimal: 0.1770805531300364\n"
     ]
    },
    {
     "name": "stdout",
     "output_type": "stream",
     "text": [
      "[0.75186107 0.86271336 0.60801195 0.0299948  0.54066924 0.60955138\n",
      " 0.14469385]\n",
      "threshold:  0.1770805531300364\n",
      "threshold 0.1770805531300364\n"
     ]
    },
    {
     "name": "stderr",
     "output_type": "stream",
     "text": [
      "ic| label_current_deforestation_test_high_uncertainty.shape: (1338234,)\n",
      "    predicted_test_high_uncertainty.shape: (1338234,)\n",
      "ic| TP_H + FN_H + FP_H + TN_H: 1338234\n",
      "    len(label_mask_current_deforestation_test): 44607569\n",
      "ic| TP_H + FN_H + FP_H + TN_H: 1338234\n",
      "    len(label_mask_current_deforestation_test): 44607569\n"
     ]
    },
    {
     "name": "stdout",
     "output_type": "stream",
     "text": [
      "[0.75186296 0.86271909 0.60798288 0.03000016 0.54069046 0.60957062\n",
      " 0.14468509]\n",
      "threshold 0.1770805531300364\n",
      "(44607569,) (44607569,)\n"
     ]
    },
    {
     "name": "stderr",
     "output_type": "stream",
     "text": [
      "ic| self.m_optimal: {'AA': array([0.03000016]),\n",
      "                     'UEO': array([0.14468509]),\n",
      "                     'f1': 73.59,\n",
      "                     'f1_H': array([0.57306819]),\n",
      "                     'f1_L': array([0.80348537]),\n",
      "                     'precision_H': array([0.54069046]),\n",
      "                     'precision_L': array([0.75186296]),\n",
      "                     'recall_H': array([0.60957062]),\n",
      "                     'recall_L': array([0.86271909]),\n",
      "                     'recall_Ltotal': array([0.60798288])}\n",
      "ic| self.m_audited_optimal: {'f1': array([0.85864479]),\n",
      "                             'precision': array([0.8182343]),\n",
      "                             'recall': array([0.9032542])}\n"
     ]
    },
    {
     "name": "stdout",
     "output_type": "stream",
     "text": [
      "cm_audited [[43575050   172554]\n",
      " [   83198   776767]]\n",
      "[0.8182343 0.9032542]\n",
      "Result idx 2: {'uncertainty_result': {'metrics': {'precision_L': array([0.75186296]), 'recall_L': array([0.86271909]), 'recall_Ltotal': array([0.60798288]), 'AA': array([0.03000016]), 'precision_H': array([0.54069046]), 'recall_H': array([0.60957062]), 'UEO': array([0.14468509]), 'f1_L': array([0.80348537]), 'f1_H': array([0.57306819]), 'f1': 73.59}, 'metrics_audited': {'precision': array([0.8182343]), 'recall': array([0.9032542]), 'f1': array([0.85864479])}, 'exp': 60}}\n",
      "Grid execution idx: 2\n",
      "Beginning run number 3\n",
      "manager.config {'training': True, 'inferring': True, 'site': 'MT', 'training_date': 'current', 'mode': 'evidential2', 'training_times': 10, 'uncertainty_method': 'pred_entropy', 'loadInference': False, 'removePolygons': True, 'plotLandsat': False, 'plotPOI': False, 'training_experiment_id': 60, 'get_multiple_metrics': False, 'start_repetition_id': 0, 'end_repetition_id': 10, 'save_probabilities': False, 'addPastDeforestationInput': True, 'classes_mode': True, 'learning_rate': 0.0001, 'use_cloud_mask': True, 'mask_out_non_biome': False, 'log_filename': 'log.pkl', 'inference_times': 1, 'dropout_training': False}\n",
      "D:/Jorge/datasets/deforestation/MT/deforestation_past_years.tif\n",
      "Loaded deforestation past years\n"
     ]
    },
    {
     "name": "stderr",
     "output_type": "stream",
     "text": [
      "ic| np.unique(deforestation_past_years, return_counts=True): (array([   0, 2008, 2009, 2010, 2011, 2012, 2013, 2014, 2015, 2016, 2017,\n",
      "                                                                    2018, 2019, 2020, 2021], dtype=uint16),\n",
      "                                                              array([161124576,   1332784,    240796,    338545,    313901,    287191,\n",
      "                                                                       708581,    648966,    876898,   1007787,   1098901,   1054092,\n",
      "                                                                      2096062,   2473828,   1400992], dtype=int64))\n"
     ]
    },
    {
     "name": "stdout",
     "output_type": "stream",
     "text": [
      "Label where deforestation past years is actual date (2020) = 1\n"
     ]
    },
    {
     "name": "stderr",
     "output_type": "stream",
     "text": [
      "ic| np.unique(deforestation_past_years, return_counts=True): (array([   0, 2008, 2009, 2010, 2011, 2012, 2013, 2014, 2015, 2016, 2017,\n",
      "                                                                    2018, 2019, 2020, 2021], dtype=uint16),\n",
      "                                                              array([161124576,   1332784,    240796,    338545,    313901,    287191,\n",
      "                                                                       708581,    648966,    876898,   1007787,   1098901,   1054092,\n",
      "                                                                      2096062,   2473828,   1400992], dtype=int64))\n"
     ]
    },
    {
     "name": "stdout",
     "output_type": "stream",
     "text": [
      "Past deforestation different from 0 (no deforestation)\n"
     ]
    },
    {
     "name": "stderr",
     "output_type": "stream",
     "text": [
      "ic| np.unique(deforestation_past_years, return_counts=True): (array([   0, 2008, 2009, 2010, 2011, 2012, 2013, 2014, 2015, 2016, 2017,\n",
      "                                                                    2018, 2019, 2020, 2021], dtype=uint16),\n",
      "                                                              array([161124576,   1332784,    240796,    338545,    313901,    287191,\n",
      "                                                                       708581,    648966,    876898,   1007787,   1098901,   1054092,\n",
      "                                                                      2096062,   2473828,   1400992], dtype=int64))\n"
     ]
    },
    {
     "name": "stdout",
     "output_type": "stream",
     "text": [
      "Past deforestation before 2008 is 2\n",
      "D:/Jorge/datasets/deforestation/MT/deforestation_before_2008_MT.tif\n"
     ]
    },
    {
     "name": "stderr",
     "output_type": "stream",
     "text": [
      "ic| np.unique(label_past_deforestation_before_2008, return_counts=True): (array([  0, 215], dtype=uint8), array([122623260,  52380640], dtype=int64))\n",
      "ic| np.unique(deforestation_past_years, return_counts=True): (array([   0, 2008, 2009, 2010, 2011, 2012, 2013, 2014, 2015, 2016, 2017,\n",
      "                                                                    2018, 2019, 2020, 2021], dtype=uint16),\n",
      "                                                              array([161124576,   1332784,    240796,    338545,    313901,    287191,\n",
      "                                                                       708581,    648966,    876898,   1007787,   1098901,   1054092,\n",
      "                                                                      2096062,   2473828,   1400992], dtype=int64))\n",
      "ic| label_per_date.shape: (16795, 10420, 1)\n"
     ]
    },
    {
     "name": "stdout",
     "output_type": "stream",
     "text": [
      "Removing bufer................\n",
      "Mask label shape:  \n",
      " (16795, 10420, 1) \n",
      " Unique values:  \n",
      " [0 1 2]\n",
      "Tiles size:  3359 2084\n",
      "Mask size:  (16795, 10420)\n"
     ]
    },
    {
     "name": "stderr",
     "output_type": "stream",
     "text": [
      "ic| image_stack.shape: (16795, 10420, 21)\n"
     ]
    },
    {
     "name": "stdout",
     "output_type": "stream",
     "text": [
      "Image shape:  (16795, 10420, 21)\n",
      "mask:  (16795, 10420)\n",
      "image stack:  (16795, 10420, 21)\n",
      "ref : (16795, 10420, 1)\n",
      "Training tiles:  [2, 4, 5, 6, 7, 12, 14, 15, 18, 21, 23, 24]\n",
      "Validation tiles:  [9, 11, 25]\n",
      "Test tiles:  [1, 3, 8, 10, 13, 16, 17, 19, 20, 22]\n",
      "-5.0 -12.0\n"
     ]
    },
    {
     "name": "stderr",
     "output_type": "stream",
     "text": [
      "ic| self.path_models+ '/' + self.method +'_'+str(self.repetition_id)+'.h5': 'D:/Jorge/datasets/deforestation/experiments/MT/exp60/models/resunet_3.h5'\n"
     ]
    },
    {
     "name": "stdout",
     "output_type": "stream",
     "text": [
      "Dropout training mode: False\n",
      "time:  0\n",
      "alpha.shape (16800, 10432, 2)\n",
      "S.shape (16800, 10432)\n",
      "K 2\n",
      "u.shape (16800, 10432)\n",
      "belief.shape (16800, 10432, 2)\n",
      "Inference runtime 102.61\n",
      "(44657480,)\n",
      "(array([0, 1], dtype=uint8), array([43783238,   874242], dtype=int64))\n",
      "(16795, 10420, 2)\n"
     ]
    },
    {
     "name": "stderr",
     "output_type": "stream",
     "text": [
      "ic| predicted_test.shape: (70001560,)\n",
      "ic| predicted_test.shape: (44657480,)\n",
      "ic| np.unique(predicted, return_counts=True): (array([0, 1], dtype=int8), array([172193627,   2810273], dtype=int64))\n",
      "    np.unique(predicted_larger_than_min_area, return_counts=True): (array([0, 1], dtype=int8), array([172310879,   2693021], dtype=int64))\n",
      "ic| np.unique(ignored_polygons, return_counts=True): (array([0, 1], dtype=int8), array([174886648,    117252], dtype=int64))\n",
      "ic| self.f1: 77.68, self.precision: 72.04, self.recall: 84.29\n",
      "ic| self.label_mask_val.shape: (21000468,)\n",
      "ic| self.label_mask_val_valid.shape: (11789983,)\n",
      "ic| f1_val: 82.29\n",
      "    precision_val: 70.68\n",
      "    recall_val: 98.47\n",
      "    mAP_val: 92.51\n"
     ]
    },
    {
     "name": "stdout",
     "output_type": "stream",
     "text": [
      "(array([0, 1], dtype=int16), array([174150677,    853223], dtype=int64))\n",
      "[0 1]\n"
     ]
    },
    {
     "name": "stderr",
     "output_type": "stream",
     "text": [
      "ic| self.label_mask.shape: (16795, 10420)\n",
      "ic| self.mask_test.shape: (16795, 10420)\n",
      "ic| self.label_mask_test.shape: (70001560,)\n",
      "ic| self.error_mask_test.shape: (44618615,)\n",
      "ic| bounds: (0.0045297165656089785, 0.9985)\n"
     ]
    },
    {
     "name": "stdout",
     "output_type": "stream",
     "text": [
      "(0.0045297165656089785, 0.9985)\n",
      "0.3841925810301797\n",
      "threshold 0.3841925810301797\n"
     ]
    },
    {
     "name": "stderr",
     "output_type": "stream",
     "text": [
      "c:\\Users\\jchamorro\\Anaconda3\\envs\\tf2\\lib\\site-packages\\scipy\\optimize\\_minimize.py:783: RuntimeWarning: Method 'bounded' does not support relative tolerance in x; defaulting to absolute tolerance.\n",
      "  warn(\"Method 'bounded' does not support relative tolerance in x; \"\n",
      "ic| label_current_deforestation_test_high_uncertainty.shape: (607561,)\n",
      "    predicted_test_high_uncertainty.shape: (607561,)\n",
      "ic| TP_H + FN_H + FP_H + TN_H: 607561\n",
      "    len(label_mask_current_deforestation_test): 44618615\n",
      "ic| TP_H + FN_H + FP_H + TN_H: 607561\n",
      "    len(label_mask_current_deforestation_test): 44618615\n"
     ]
    },
    {
     "name": "stdout",
     "output_type": "stream",
     "text": [
      "[0.73971727 0.90237214 0.74162773 0.01361676 0.60453423 0.5685471\n",
      " 0.13692686]\n",
      "0.6188371355354292\n",
      "threshold 0.6188371355354292\n"
     ]
    },
    {
     "name": "stderr",
     "output_type": "stream",
     "text": [
      "ic| label_current_deforestation_test_high_uncertainty.shape: (232022,)\n",
      "    predicted_test_high_uncertainty.shape: (232022,)\n",
      "ic| TP_H + FN_H + FP_H + TN_H: 232022\n",
      "    len(label_mask_current_deforestation_test): 44618615\n",
      "ic| TP_H + FN_H + FP_H + TN_H: 232022\n",
      "    len(label_mask_current_deforestation_test): 44618615\n"
     ]
    },
    {
     "name": "stdout",
     "output_type": "stream",
     "text": [
      "[0.73128086 0.86659127 0.78844155 0.00520012 0.5923359  0.60394958\n",
      " 0.10765712]\n",
      "0.23917427107085837\n",
      "threshold 0.23917427107085837\n"
     ]
    },
    {
     "name": "stderr",
     "output_type": "stream",
     "text": [
      "ic| label_current_deforestation_test_high_uncertainty.shape: (1022887,)\n",
      "    predicted_test_high_uncertainty.shape: (1022887,)\n",
      "ic| TP_H + FN_H + FP_H + TN_H: 1022887\n",
      "    len(label_mask_current_deforestation_test): 44618615\n",
      "ic| TP_H + FN_H + FP_H + TN_H: 1022887\n",
      "    len(label_mask_current_deforestation_test): 44618615\n"
     ]
    },
    {
     "name": "stdout",
     "output_type": "stream",
     "text": [
      "[0.74377713 0.92296461 0.68703921 0.02292512 0.63258329 0.60976737\n",
      " 0.12863649]\n",
      "0.14954802652493038\n",
      "threshold 0.14954802652493038\n"
     ]
    },
    {
     "name": "stderr",
     "output_type": "stream",
     "text": [
      "ic| label_current_deforestation_test_high_uncertainty.shape: (1549404,)\n",
      "    predicted_test_high_uncertainty.shape: (1549404,)\n",
      "ic| TP_H + FN_H + FP_H + TN_H: 1549404\n",
      "    len(label_mask_current_deforestation_test): 44618615\n",
      "ic| TP_H + FN_H + FP_H + TN_H: 1549404\n",
      "    len(label_mask_current_deforestation_test): 44618615\n"
     ]
    },
    {
     "name": "stdout",
     "output_type": "stream",
     "text": [
      "[0.75036944 0.93797661 0.61952687 0.03472551 0.64844438 0.6579515\n",
      " 0.11615885]\n",
      "0.11337577502530505\n",
      "threshold 0.11337577502530505\n"
     ]
    },
    {
     "name": "stderr",
     "output_type": "stream",
     "text": [
      "ic| label_current_deforestation_test_high_uncertainty.shape: (1934956,)\n",
      "    predicted_test_high_uncertainty.shape: (1934956,)\n",
      "ic| TP_H + FN_H + FP_H + TN_H: 1934956\n",
      "    len(label_mask_current_deforestation_test): 44618615\n",
      "ic| TP_H + FN_H + FP_H + TN_H: 1934956\n",
      "    len(label_mask_current_deforestation_test): 44618615\n"
     ]
    },
    {
     "name": "stdout",
     "output_type": "stream",
     "text": [
      "[0.75746158 0.94641372 0.57485079 0.04336656 0.65189103 0.68276782\n",
      " 0.108878  ]\n",
      "0.18814166917925654\n",
      "threshold 0.18814166917925654\n"
     ]
    },
    {
     "name": "stderr",
     "output_type": "stream",
     "text": [
      "ic| label_current_deforestation_test_high_uncertainty.shape: (1273772,)\n",
      "    predicted_test_high_uncertainty.shape: (1273772,)\n",
      "ic| TP_H + FN_H + FP_H + TN_H: 1273772\n",
      "    len(label_mask_current_deforestation_test): 44618615\n",
      "ic| TP_H + FN_H + FP_H + TN_H: 1273772\n",
      "    len(label_mask_current_deforestation_test): 44618615\n"
     ]
    },
    {
     "name": "stdout",
     "output_type": "stream",
     "text": [
      "[0.7463103  0.93097747 0.65369611 0.028548   0.643112   0.63527613\n",
      " 0.12231438]\n",
      "0.18833716261204222\n",
      "threshold 0.18833716261204222\n"
     ]
    },
    {
     "name": "stderr",
     "output_type": "stream",
     "text": [
      "ic| label_current_deforestation_test_high_uncertainty.shape: (1272648,)\n",
      "    predicted_test_high_uncertainty.shape: (1272648,)\n",
      "ic| TP_H + FN_H + FP_H + TN_H: 1272648\n",
      "    len(label_mask_current_deforestation_test): 44618615\n",
      "ic| TP_H + FN_H + FP_H + TN_H: 1272648\n",
      "    len(label_mask_current_deforestation_test): 44618615\n"
     ]
    },
    {
     "name": "stdout",
     "output_type": "stream",
     "text": [
      "[0.74628409 0.93094341 0.65383399 0.0285228  0.64311444 0.63518384\n",
      " 0.12233263]\n",
      "0.17654348129146297\n",
      "threshold 0.17654348129146297\n"
     ]
    },
    {
     "name": "stderr",
     "output_type": "stream",
     "text": [
      "ic| label_current_deforestation_test_high_uncertainty.shape: (1346412,)\n",
      "    predicted_test_high_uncertainty.shape: (1346412,)\n",
      "ic| TP_H + FN_H + FP_H + TN_H: 1346412\n",
      "    len(label_mask_current_deforestation_test): 44618615\n",
      "ic| TP_H + FN_H + FP_H + TN_H: 1346412\n",
      "    len(label_mask_current_deforestation_test): 44618615\n"
     ]
    },
    {
     "name": "stdout",
     "output_type": "stream",
     "text": [
      "[0.74714708 0.93294961 0.64436184 0.03017602 0.6452858  0.64185595\n",
      " 0.12054414]\n",
      "0.16623213511240786\n",
      "threshold 0.16623213511240786\n"
     ]
    },
    {
     "name": "stderr",
     "output_type": "stream",
     "text": [
      "ic| label_current_deforestation_test_high_uncertainty.shape: (1417760,)\n",
      "    predicted_test_high_uncertainty.shape: (1417760,)\n",
      "ic| TP_H + FN_H + FP_H + TN_H: 1417760\n",
      "    len(label_mask_current_deforestation_test): 44618615\n",
      "ic| TP_H + FN_H + FP_H + TN_H: 1417760\n",
      "    len(label_mask_current_deforestation_test): 44618615\n"
     ]
    },
    {
     "name": "stdout",
     "output_type": "stream",
     "text": [
      "[0.7480249  0.93474011 0.63541342 0.03177508 0.64708199 0.64796\n",
      " 0.11882358]\n",
      "0.18097359485669276\n",
      "threshold 0.18097359485669276\n"
     ]
    },
    {
     "name": "stderr",
     "output_type": "stream",
     "text": [
      "ic| label_current_deforestation_test_high_uncertainty.shape: (1317733,)\n",
      "    predicted_test_high_uncertainty.shape: (1317733,)\n",
      "ic| TP_H + FN_H + FP_H + TN_H: 1317733\n",
      "    len(label_mask_current_deforestation_test): 44618615\n",
      "ic| TP_H + FN_H + FP_H + TN_H: 1317733\n",
      "    len(label_mask_current_deforestation_test): 44618615\n"
     ]
    },
    {
     "name": "stdout",
     "output_type": "stream",
     "text": [
      "[0.74688097 0.93219288 0.64799544 0.02953326 0.64430741 0.63932426\n",
      " 0.12130074]\n",
      "0.17346004832813516\n",
      "threshold 0.17346004832813516\n"
     ]
    },
    {
     "name": "stderr",
     "output_type": "stream",
     "text": [
      "ic| label_current_deforestation_test_high_uncertainty.shape: (1367074,)\n",
      "    predicted_test_high_uncertainty.shape: (1367074,)\n",
      "ic| TP_H + FN_H + FP_H + TN_H: 1367074\n",
      "    len(label_mask_current_deforestation_test): 44618615\n",
      "ic| TP_H + FN_H + FP_H + TN_H: 1367074\n",
      "    len(label_mask_current_deforestation_test): 44618615\n"
     ]
    },
    {
     "name": "stdout",
     "output_type": "stream",
     "text": [
      "[0.74739    0.93344366 0.64176989 0.0306391  0.64584201 0.64369623\n",
      " 0.12001702]\n",
      "0.17761613755150601\n",
      "threshold 0.17761613755150601\n"
     ]
    },
    {
     "name": "stderr",
     "output_type": "stream",
     "text": [
      "ic| label_current_deforestation_test_high_uncertainty.shape: (1339355,)\n",
      "    predicted_test_high_uncertainty.shape: (1339355,)\n",
      "ic| TP_H + FN_H + FP_H + TN_H: 1339355\n",
      "    len(label_mask_current_deforestation_test): 44618615\n",
      "ic| TP_H + FN_H + FP_H + TN_H: 1339355\n",
      "    len(label_mask_current_deforestation_test): 44618615\n"
     ]
    },
    {
     "name": "stdout",
     "output_type": "stream",
     "text": [
      "[0.74708665 0.93277988 0.64520652 0.03001785 0.64505714 0.64126309\n",
      " 0.12075222]\n",
      "0.17824150236542863\n",
      "threshold 0.17824150236542863\n"
     ]
    },
    {
     "name": "stderr",
     "output_type": "stream",
     "text": [
      "ic| label_current_deforestation_test_high_uncertainty.shape: (1335310,)\n",
      "    predicted_test_high_uncertainty.shape: (1335310,)\n",
      "ic| TP_H + FN_H + FP_H + TN_H: 1335310\n",
      "    len(label_mask_current_deforestation_test): 44618615\n",
      "ic| TP_H + FN_H + FP_H + TN_H: 1335310\n",
      "    len(label_mask_current_deforestation_test): 44618615\n"
     ]
    },
    {
     "name": "stdout",
     "output_type": "stream",
     "text": [
      "[0.74705576 0.9326683  0.64576152 0.0299272  0.64488461 0.64087189\n",
      " 0.12085025]\n",
      "0.17758280158369963\n",
      "threshold 0.17758280158369963\n"
     ]
    },
    {
     "name": "stderr",
     "output_type": "stream",
     "text": [
      "ic| label_current_deforestation_test_high_uncertainty.shape: (1339563,)\n",
      "    predicted_test_high_uncertainty.shape: (1339563,)\n",
      "ic| TP_H + FN_H + FP_H + TN_H: 1339563\n",
      "    len(label_mask_current_deforestation_test): 44618615\n",
      "ic| TP_H + FN_H + FP_H + TN_H: 1339563\n",
      "    len(label_mask_current_deforestation_test): 44618615\n"
     ]
    },
    {
     "name": "stdout",
     "output_type": "stream",
     "text": [
      "[0.74708252 0.93278187 0.64517871 0.03002251 0.64507959 0.64128821\n",
      " 0.12074121]\n",
      "0.1778017266324795\n",
      "threshold 0.1778017266324795\n"
     ]
    },
    {
     "name": "stderr",
     "output_type": "stream",
     "text": [
      "ic| label_current_deforestation_test_high_uncertainty.shape: (1338173,)\n",
      "    predicted_test_high_uncertainty.shape: (1338173,)\n",
      "ic| TP_H + FN_H + FP_H + TN_H: 1338173\n",
      "    len(label_mask_current_deforestation_test): 44618615\n",
      "ic| TP_H + FN_H + FP_H + TN_H: 1338173\n",
      "    len(label_mask_current_deforestation_test): 44618615\n"
     ]
    },
    {
     "name": "stdout",
     "output_type": "stream",
     "text": [
      "[0.74706065 0.93275023 0.64536757 0.02999136 0.64504864 0.6411455\n",
      " 0.12077035]\n",
      "0.17796970601503867\n",
      "threshold 0.17796970601503867\n"
     ]
    },
    {
     "name": "stderr",
     "output_type": "stream",
     "text": [
      "ic| label_current_deforestation_test_high_uncertainty.shape: (1337050,)\n",
      "    predicted_test_high_uncertainty.shape: (1337050,)\n",
      "ic| TP_H + FN_H + FP_H + TN_H: 1337050\n",
      "    len(label_mask_current_deforestation_test): 44618615\n",
      "ic| TP_H + FN_H + FP_H + TN_H: 1337050\n",
      "    len(label_mask_current_deforestation_test): 44618615\n"
     ]
    },
    {
     "name": "stdout",
     "output_type": "stream",
     "text": [
      "[0.74704999 0.93271188 0.64551936 0.02996619 0.64500691 0.64105063\n",
      " 0.12079327]\n",
      "0.17776839066192038\n",
      "threshold 0.17776839066192038\n"
     ]
    },
    {
     "name": "stderr",
     "output_type": "stream",
     "text": [
      "ic| label_current_deforestation_test_high_uncertainty.shape: (1338399,)\n",
      "    predicted_test_high_uncertainty.shape: (1338399,)\n",
      "ic| TP_H + FN_H + FP_H + TN_H: 1338399\n",
      "    len(label_mask_current_deforestation_test): 44618615\n",
      "ic| TP_H + FN_H + FP_H + TN_H: 1338399\n",
      "    len(label_mask_current_deforestation_test): 44618615\n"
     ]
    },
    {
     "name": "stdout",
     "output_type": "stream",
     "text": [
      "[0.74706552 0.932755   0.64533629 0.02999643 0.64505073 0.64116988\n",
      " 0.12076653]\n",
      "0.1777276799092635\n",
      "threshold 0.1777276799092635\n"
     ]
    },
    {
     "name": "stderr",
     "output_type": "stream",
     "text": [
      "ic| label_current_deforestation_test_high_uncertainty.shape: (1338654,)\n",
      "    predicted_test_high_uncertainty.shape: (1338654,)\n",
      "ic| TP_H + FN_H + FP_H + TN_H: 1338654\n",
      "    len(label_mask_current_deforestation_test): 44618615\n",
      "ic| TP_H + FN_H + FP_H + TN_H: 1338654\n",
      "    len(label_mask_current_deforestation_test): 44618615\n"
     ]
    },
    {
     "name": "stdout",
     "output_type": "stream",
     "text": [
      "[0.74707206 0.93276122 0.64530384 0.03000214 0.64504928 0.64119319\n",
      " 0.12076261]\n",
      "0.17768507451978544\n",
      "threshold 0.17768507451978544\n"
     ]
    },
    {
     "name": "stderr",
     "output_type": "stream",
     "text": [
      "ic| label_current_deforestation_test_high_uncertainty.shape: (1338916,)\n",
      "    predicted_test_high_uncertainty.shape: (1338916,)\n",
      "ic| TP_H + FN_H + FP_H + TN_H: 1338916\n",
      "    len(label_mask_current_deforestation_test): 44618615\n",
      "ic| TP_H + FN_H + FP_H + TN_H: 1338916\n",
      "    len(label_mask_current_deforestation_test): 44618615\n",
      "ic| self.threshold_optimal: 0.1777276799092635\n"
     ]
    },
    {
     "name": "stdout",
     "output_type": "stream",
     "text": [
      "[0.74708157 0.93277301 0.64526445 0.03000801 0.6450437  0.64121495\n",
      " 0.12076459]\n",
      "threshold:  0.1777276799092635\n",
      "threshold 0.1777276799092635\n"
     ]
    },
    {
     "name": "stderr",
     "output_type": "stream",
     "text": [
      "ic| label_current_deforestation_test_high_uncertainty.shape: (1338654,)\n",
      "    predicted_test_high_uncertainty.shape: (1338654,)\n",
      "ic| TP_H + FN_H + FP_H + TN_H: 1338654\n",
      "    len(label_mask_current_deforestation_test): 44618615\n",
      "ic| TP_H + FN_H + FP_H + TN_H: 1338654\n",
      "    len(label_mask_current_deforestation_test): 44618615\n"
     ]
    },
    {
     "name": "stdout",
     "output_type": "stream",
     "text": [
      "[0.74707206 0.93276122 0.64530384 0.03000214 0.64504928 0.64119319\n",
      " 0.12076261]\n",
      "threshold 0.1777276799092635\n",
      "(44618615,) (44618615,)\n"
     ]
    },
    {
     "name": "stderr",
     "output_type": "stream",
     "text": [
      "ic| self.m_optimal: {'AA': array([0.03000214]),\n",
      "                     'UEO': array([0.12076261]),\n",
      "                     'f1': 77.68,\n",
      "                     'f1_H': array([0.64311546]),\n",
      "                     'f1_L': array([0.82965357]),\n",
      "                     'precision_H': array([0.64504928]),\n",
      "                     'precision_L': array([0.74707206]),\n",
      "                     'recall_H': array([0.64119319]),\n",
      "                     'recall_L': array([0.93276122]),\n",
      "                     'recall_Ltotal': array([0.64530384])}\n",
      "ic| self.m_audited_optimal: {'f1': array([0.8779945]),\n",
      "                             'precision': array([0.81358228]),\n",
      "                             'recall': array([0.95348279])}\n"
     ]
    },
    {
     "name": "stdout",
     "output_type": "stream",
     "text": [
      "cm_audited [[43567003   188555]\n",
      " [   40147   822910]]\n",
      "[0.81358228 0.95348279]\n",
      "Result idx 3: {'uncertainty_result': {'metrics': {'precision_L': array([0.74707206]), 'recall_L': array([0.93276122]), 'recall_Ltotal': array([0.64530384]), 'AA': array([0.03000214]), 'precision_H': array([0.64504928]), 'recall_H': array([0.64119319]), 'UEO': array([0.12076261]), 'f1_L': array([0.82965357]), 'f1_H': array([0.64311546]), 'f1': 77.68}, 'metrics_audited': {'precision': array([0.81358228]), 'recall': array([0.95348279]), 'f1': array([0.8779945])}, 'exp': 60}}\n",
      "Grid execution idx: 3\n",
      "Beginning run number 4\n",
      "manager.config {'training': True, 'inferring': True, 'site': 'MT', 'training_date': 'current', 'mode': 'evidential2', 'training_times': 10, 'uncertainty_method': 'pred_entropy', 'loadInference': False, 'removePolygons': True, 'plotLandsat': False, 'plotPOI': False, 'training_experiment_id': 60, 'get_multiple_metrics': False, 'start_repetition_id': 0, 'end_repetition_id': 10, 'save_probabilities': False, 'addPastDeforestationInput': True, 'classes_mode': True, 'learning_rate': 0.0001, 'use_cloud_mask': True, 'mask_out_non_biome': False, 'log_filename': 'log.pkl', 'inference_times': 1, 'dropout_training': False}\n",
      "D:/Jorge/datasets/deforestation/MT/deforestation_past_years.tif\n",
      "Loaded deforestation past years\n"
     ]
    },
    {
     "name": "stderr",
     "output_type": "stream",
     "text": [
      "ic| np.unique(deforestation_past_years, return_counts=True): (array([   0, 2008, 2009, 2010, 2011, 2012, 2013, 2014, 2015, 2016, 2017,\n",
      "                                                                    2018, 2019, 2020, 2021], dtype=uint16),\n",
      "                                                              array([161124576,   1332784,    240796,    338545,    313901,    287191,\n",
      "                                                                       708581,    648966,    876898,   1007787,   1098901,   1054092,\n",
      "                                                                      2096062,   2473828,   1400992], dtype=int64))\n"
     ]
    },
    {
     "name": "stdout",
     "output_type": "stream",
     "text": [
      "Label where deforestation past years is actual date (2020) = 1\n"
     ]
    },
    {
     "name": "stderr",
     "output_type": "stream",
     "text": [
      "ic| np.unique(deforestation_past_years, return_counts=True): (array([   0, 2008, 2009, 2010, 2011, 2012, 2013, 2014, 2015, 2016, 2017,\n",
      "                                                                    2018, 2019, 2020, 2021], dtype=uint16),\n",
      "                                                              array([161124576,   1332784,    240796,    338545,    313901,    287191,\n",
      "                                                                       708581,    648966,    876898,   1007787,   1098901,   1054092,\n",
      "                                                                      2096062,   2473828,   1400992], dtype=int64))\n"
     ]
    },
    {
     "name": "stdout",
     "output_type": "stream",
     "text": [
      "Past deforestation different from 0 (no deforestation)\n"
     ]
    },
    {
     "name": "stderr",
     "output_type": "stream",
     "text": [
      "ic| np.unique(deforestation_past_years, return_counts=True): (array([   0, 2008, 2009, 2010, 2011, 2012, 2013, 2014, 2015, 2016, 2017,\n",
      "                                                                    2018, 2019, 2020, 2021], dtype=uint16),\n",
      "                                                              array([161124576,   1332784,    240796,    338545,    313901,    287191,\n",
      "                                                                       708581,    648966,    876898,   1007787,   1098901,   1054092,\n",
      "                                                                      2096062,   2473828,   1400992], dtype=int64))\n"
     ]
    },
    {
     "name": "stdout",
     "output_type": "stream",
     "text": [
      "Past deforestation before 2008 is 2\n",
      "D:/Jorge/datasets/deforestation/MT/deforestation_before_2008_MT.tif\n"
     ]
    },
    {
     "name": "stderr",
     "output_type": "stream",
     "text": [
      "ic| np.unique(label_past_deforestation_before_2008, return_counts=True): (array([  0, 215], dtype=uint8), array([122623260,  52380640], dtype=int64))\n",
      "ic| np.unique(deforestation_past_years, return_counts=True): (array([   0, 2008, 2009, 2010, 2011, 2012, 2013, 2014, 2015, 2016, 2017,\n",
      "                                                                    2018, 2019, 2020, 2021], dtype=uint16),\n",
      "                                                              array([161124576,   1332784,    240796,    338545,    313901,    287191,\n",
      "                                                                       708581,    648966,    876898,   1007787,   1098901,   1054092,\n",
      "                                                                      2096062,   2473828,   1400992], dtype=int64))\n",
      "ic| label_per_date.shape: (16795, 10420, 1)\n"
     ]
    },
    {
     "name": "stdout",
     "output_type": "stream",
     "text": [
      "Removing bufer................\n",
      "Mask label shape:  \n",
      " (16795, 10420, 1) \n",
      " Unique values:  \n",
      " [0 1 2]\n",
      "Tiles size:  3359 2084\n",
      "Mask size:  (16795, 10420)\n"
     ]
    },
    {
     "name": "stderr",
     "output_type": "stream",
     "text": [
      "ic| image_stack.shape: (16795, 10420, 21)\n"
     ]
    },
    {
     "name": "stdout",
     "output_type": "stream",
     "text": [
      "Image shape:  (16795, 10420, 21)\n",
      "mask:  (16795, 10420)\n",
      "image stack:  (16795, 10420, 21)\n",
      "ref : (16795, 10420, 1)\n",
      "Training tiles:  [2, 4, 5, 6, 7, 12, 14, 15, 18, 21, 23, 24]\n",
      "Validation tiles:  [9, 11, 25]\n",
      "Test tiles:  [1, 3, 8, 10, 13, 16, 17, 19, 20, 22]\n",
      "-5.0 -12.0\n"
     ]
    },
    {
     "name": "stderr",
     "output_type": "stream",
     "text": [
      "ic| self.path_models+ '/' + self.method +'_'+str(self.repetition_id)+'.h5': 'D:/Jorge/datasets/deforestation/experiments/MT/exp60/models/resunet_4.h5'\n"
     ]
    },
    {
     "name": "stdout",
     "output_type": "stream",
     "text": [
      "Dropout training mode: False\n",
      "time:  0\n",
      "alpha.shape (16800, 10432, 2)\n",
      "S.shape (16800, 10432)\n",
      "K 2\n",
      "u.shape (16800, 10432)\n",
      "belief.shape (16800, 10432, 2)\n",
      "Inference runtime 87.1\n",
      "(44657480,)\n",
      "(array([0, 1], dtype=uint8), array([43783238,   874242], dtype=int64))\n",
      "(16795, 10420, 2)\n"
     ]
    },
    {
     "name": "stderr",
     "output_type": "stream",
     "text": [
      "ic| predicted_test.shape: (70001560,)\n",
      "ic| predicted_test.shape: (44657480,)\n",
      "ic| np.unique(predicted, return_counts=True): (array([0, 1], dtype=int8), array([172122368,   2881532], dtype=int64))\n",
      "    np.unique(predicted_larger_than_min_area, return_counts=True): (array([0, 1], dtype=int8), array([172292591,   2711309], dtype=int64))\n",
      "ic| np.unique(ignored_polygons, return_counts=True): (array([0, 1], dtype=int8), array([174833677,    170223], dtype=int64))\n",
      "ic| self.f1: 76.79, self.precision: 69.96, self.recall: 85.11\n",
      "ic| self.label_mask_val.shape: (21000468,)\n",
      "ic| self.label_mask_val_valid.shape: (11785684,)\n",
      "ic| f1_val: 90.6\n",
      "    precision_val: 83.65\n",
      "    recall_val: 98.81\n",
      "    mAP_val: 96.94\n"
     ]
    },
    {
     "name": "stdout",
     "output_type": "stream",
     "text": [
      "(array([0, 1], dtype=int16), array([174152611,    851289], dtype=int64))\n",
      "[0 1]\n"
     ]
    },
    {
     "name": "stderr",
     "output_type": "stream",
     "text": [
      "ic| self.label_mask.shape: (16795, 10420)\n",
      "ic| self.mask_test.shape: (16795, 10420)\n",
      "ic| self.label_mask_test.shape: (70001560,)\n",
      "ic| self.error_mask_test.shape: (44598447,)\n",
      "ic| bounds: (0.004203058897852898, 0.9985)\n"
     ]
    },
    {
     "name": "stdout",
     "output_type": "stream",
     "text": [
      "(0.004203058897852898, 0.9985)\n",
      "0.3839906954888207\n",
      "threshold 0.3839906954888207\n"
     ]
    },
    {
     "name": "stderr",
     "output_type": "stream",
     "text": [
      "c:\\Users\\jchamorro\\Anaconda3\\envs\\tf2\\lib\\site-packages\\scipy\\optimize\\_minimize.py:783: RuntimeWarning: Method 'bounded' does not support relative tolerance in x; defaulting to absolute tolerance.\n",
      "  warn(\"Method 'bounded' does not support relative tolerance in x; \"\n",
      "ic| label_current_deforestation_test_high_uncertainty.shape: (586832,)\n",
      "    predicted_test_high_uncertainty.shape: (586832,)\n",
      "ic| TP_H + FN_H + FP_H + TN_H: 586832\n",
      "    len(label_mask_current_deforestation_test): 44598447\n",
      "ic| TP_H + FN_H + FP_H + TN_H: 586832\n",
      "    len(label_mask_current_deforestation_test): 44598447\n"
     ]
    },
    {
     "name": "stdout",
     "output_type": "stream",
     "text": [
      "[0.74376495 0.90528112 0.76046436 0.01315813 0.46674098 0.56635302\n",
      " 0.1688004 ]\n",
      "0.6187123634090321\n",
      "threshold 0.6187123634090321\n"
     ]
    },
    {
     "name": "stderr",
     "output_type": "stream",
     "text": [
      "ic| label_current_deforestation_test_high_uncertainty.shape: (171439,)\n",
      "    predicted_test_high_uncertainty.shape: (171439,)\n",
      "ic| TP_H + FN_H + FP_H + TN_H: 171439\n",
      "    len(label_mask_current_deforestation_test): 44598447\n",
      "ic| TP_H + FN_H + FP_H + TN_H: 171439\n",
      "    len(label_mask_current_deforestation_test): 44598447\n"
     ]
    },
    {
     "name": "stdout",
     "output_type": "stream",
     "text": [
      "[0.71859807 0.86037439 0.82424623 0.00384406 0.38562157 0.63863265\n",
      " 0.08826701]\n",
      "0.23892472681806426\n",
      "threshold 0.23892472681806426\n"
     ]
    },
    {
     "name": "stderr",
     "output_type": "stream",
     "text": [
      "ic| label_current_deforestation_test_high_uncertainty.shape: (1097931,)\n",
      "    predicted_test_high_uncertainty.shape: (1097931,)\n",
      "ic| TP_H + FN_H + FP_H + TN_H: 1097931\n",
      "    len(label_mask_current_deforestation_test): 44598447\n",
      "ic| TP_H + FN_H + FP_H + TN_H: 1097931\n",
      "    len(label_mask_current_deforestation_test): 44598447\n"
     ]
    },
    {
     "name": "stdout",
     "output_type": "stream",
     "text": [
      "[0.75759602 0.9280027  0.6907547  0.02461814 0.52596347 0.62705147\n",
      " 0.15455328]\n",
      "0.14926902756860938\n",
      "threshold 0.14926902756860938\n"
     ]
    },
    {
     "name": "stderr",
     "output_type": "stream",
     "text": [
      "ic| label_current_deforestation_test_high_uncertainty.shape: (1709140,)\n",
      "    predicted_test_high_uncertainty.shape: (1709140,)\n",
      "ic| TP_H + FN_H + FP_H + TN_H: 1709140\n",
      "    len(label_mask_current_deforestation_test): 44598447\n",
      "ic| TP_H + FN_H + FP_H + TN_H: 1709140\n",
      "    len(label_mask_current_deforestation_test): 44598447\n"
     ]
    },
    {
     "name": "stdout",
     "output_type": "stream",
     "text": [
      "[0.77444463 0.9422886  0.60381421 0.03832286 0.56593199 0.68832355\n",
      " 0.1370292 ]\n",
      "0.22853118349463541\n",
      "threshold 0.22853118349463541\n"
     ]
    },
    {
     "name": "stderr",
     "output_type": "stream",
     "text": [
      "ic| label_current_deforestation_test_high_uncertainty.shape: (1153360,)\n",
      "    predicted_test_high_uncertainty.shape: (1153360,)\n",
      "ic| TP_H + FN_H + FP_H + TN_H: 1153360\n",
      "    len(label_mask_current_deforestation_test): 44598447\n",
      "ic| TP_H + FN_H + FP_H + TN_H: 1153360\n",
      "    len(label_mask_current_deforestation_test): 44598447\n"
     ]
    },
    {
     "name": "stdout",
     "output_type": "stream",
     "text": [
      "[0.75877307 0.9295931  0.68288782 0.02586099 0.53123817 0.63368997\n",
      " 0.15251267]\n",
      "0.20262826980795776\n",
      "threshold 0.20262826980795776\n"
     ]
    },
    {
     "name": "stderr",
     "output_type": "stream",
     "text": [
      "ic| label_current_deforestation_test_high_uncertainty.shape: (1307351,)\n",
      "    predicted_test_high_uncertainty.shape: (1307351,)\n",
      "ic| TP_H + FN_H + FP_H + TN_H: 1307351\n",
      "    len(label_mask_current_deforestation_test): 44598447\n",
      "ic| TP_H + FN_H + FP_H + TN_H: 1307351\n",
      "    len(label_mask_current_deforestation_test): 44598447\n"
     ]
    },
    {
     "name": "stdout",
     "output_type": "stream",
     "text": [
      "[0.76250213 0.93337222 0.66072608 0.02931382 0.54376065 0.65159685\n",
      " 0.14741628]\n",
      "0.18224685288646572\n",
      "threshold 0.18224685288646572\n"
     ]
    },
    {
     "name": "stderr",
     "output_type": "stream",
     "text": [
      "ic| label_current_deforestation_test_high_uncertainty.shape: (1446049,)\n",
      "    predicted_test_high_uncertainty.shape: (1446049,)\n",
      "ic| TP_H + FN_H + FP_H + TN_H: 1446049\n",
      "    len(label_mask_current_deforestation_test): 44598447\n",
      "ic| TP_H + FN_H + FP_H + TN_H: 1446049\n",
      "    len(label_mask_current_deforestation_test): 44598447\n"
     ]
    },
    {
     "name": "stdout",
     "output_type": "stream",
     "text": [
      "[0.76581278 0.93671035 0.63999279 0.03242375 0.55419711 0.66633005\n",
      " 0.14340358]\n",
      "0.2014648772170176\n",
      "threshold 0.2014648772170176\n"
     ]
    },
    {
     "name": "stderr",
     "output_type": "stream",
     "text": [
      "ic| label_current_deforestation_test_high_uncertainty.shape: (1314825,)\n",
      "    predicted_test_high_uncertainty.shape: (1314825,)\n",
      "ic| TP_H + FN_H + FP_H + TN_H: 1314825\n",
      "    len(label_mask_current_deforestation_test): 44598447\n",
      "ic| TP_H + FN_H + FP_H + TN_H: 1314825\n",
      "    len(label_mask_current_deforestation_test): 44598447\n"
     ]
    },
    {
     "name": "stdout",
     "output_type": "stream",
     "text": [
      "[0.76269589 0.93356413 0.65966522 0.02948141 0.54428625 0.65236577\n",
      " 0.14719361]\n",
      "0.19601014482009854\n",
      "threshold 0.19601014482009854\n"
     ]
    },
    {
     "name": "stderr",
     "output_type": "stream",
     "text": [
      "ic| label_current_deforestation_test_high_uncertainty.shape: (1350908,)\n",
      "    predicted_test_high_uncertainty.shape: (1350908,)\n",
      "ic| TP_H + FN_H + FP_H + TN_H: 1350908\n",
      "    len(label_mask_current_deforestation_test): 44598447\n",
      "ic| TP_H + FN_H + FP_H + TN_H: 1350908\n",
      "    len(label_mask_current_deforestation_test): 44598447\n"
     ]
    },
    {
     "name": "stdout",
     "output_type": "stream",
     "text": [
      "[0.76350017 0.9344128  0.65422483 0.03029047 0.5472503  0.65644603\n",
      " 0.14608079]\n",
      "0.19075303509853805\n",
      "threshold 0.19075303509853805\n"
     ]
    },
    {
     "name": "stderr",
     "output_type": "stream",
     "text": [
      "ic| label_current_deforestation_test_high_uncertainty.shape: (1386574,)\n",
      "    predicted_test_high_uncertainty.shape: (1386574,)\n",
      "ic| TP_H + FN_H + FP_H + TN_H: 1386574\n",
      "    len(label_mask_current_deforestation_test): 44598447\n",
      "ic| TP_H + FN_H + FP_H + TN_H: 1386574\n",
      "    len(label_mask_current_deforestation_test): 44598447\n"
     ]
    },
    {
     "name": "stdout",
     "output_type": "stream",
     "text": [
      "[0.76440568 0.93525281 0.64884143 0.03109019 0.54989846 0.66033851\n",
      " 0.14508617]\n",
      "0.19738379052515626\n",
      "threshold 0.19738379052515626\n"
     ]
    },
    {
     "name": "stderr",
     "output_type": "stream",
     "text": [
      "ic| label_current_deforestation_test_high_uncertainty.shape: (1341672,)\n",
      "    predicted_test_high_uncertainty.shape: (1341672,)\n",
      "ic| TP_H + FN_H + FP_H + TN_H: 1341672\n",
      "    len(label_mask_current_deforestation_test): 44598447\n",
      "ic| TP_H + FN_H + FP_H + TN_H: 1341672\n",
      "    len(label_mask_current_deforestation_test): 44598447\n"
     ]
    },
    {
     "name": "stdout",
     "output_type": "stream",
     "text": [
      "[0.76328975 0.93417415 0.6556649  0.03008338 0.54647191 0.65540382\n",
      " 0.14633798]\n",
      "0.1982943909517581\n",
      "threshold 0.1982943909517581\n"
     ]
    },
    {
     "name": "stderr",
     "output_type": "stream",
     "text": [
      "ic| label_current_deforestation_test_high_uncertainty.shape: (1335592,)\n",
      "    predicted_test_high_uncertainty.shape: (1335592,)\n",
      "ic| TP_H + FN_H + FP_H + TN_H: 1335592\n",
      "    len(label_mask_current_deforestation_test): 44598447\n",
      "ic| TP_H + FN_H + FP_H + TN_H: 1335592\n",
      "    len(label_mask_current_deforestation_test): 44598447\n"
     ]
    },
    {
     "name": "stdout",
     "output_type": "stream",
     "text": [
      "[0.76318252 0.93403877 0.65662921 0.02994705 0.54588831 0.65465975\n",
      " 0.14653696]\n",
      "0.19816436349321623\n",
      "threshold 0.19816436349321623\n"
     ]
    },
    {
     "name": "stderr",
     "output_type": "stream",
     "text": [
      "ic| label_current_deforestation_test_high_uncertainty.shape: (1336495,)\n",
      "    predicted_test_high_uncertainty.shape: (1336495,)\n",
      "ic| TP_H + FN_H + FP_H + TN_H: 1336495\n",
      "    len(label_mask_current_deforestation_test): 44598447\n",
      "ic| TP_H + FN_H + FP_H + TN_H: 1336495\n",
      "    len(label_mask_current_deforestation_test): 44598447\n"
     ]
    },
    {
     "name": "stdout",
     "output_type": "stream",
     "text": [
      "[0.76319661 0.93405549 0.65647799 0.0299673  0.54598478 0.65478423\n",
      " 0.14650636]\n",
      "0.19790805154828167\n",
      "threshold 0.19790805154828167\n"
     ]
    },
    {
     "name": "stderr",
     "output_type": "stream",
     "text": [
      "ic| label_current_deforestation_test_high_uncertainty.shape: (1338243,)\n",
      "    predicted_test_high_uncertainty.shape: (1338243,)\n",
      "ic| TP_H + FN_H + FP_H + TN_H: 1338243\n",
      "    len(label_mask_current_deforestation_test): 44598447\n",
      "ic| TP_H + FN_H + FP_H + TN_H: 1338243\n",
      "    len(label_mask_current_deforestation_test): 44598447\n"
     ]
    },
    {
     "name": "stdout",
     "output_type": "stream",
     "text": [
      "[0.76322778 0.93409898 0.65621627 0.03000649 0.54613983 0.65497529\n",
      " 0.14644777]\n",
      "0.19770780165642457\n",
      "threshold 0.19770780165642457\n"
     ]
    },
    {
     "name": "stderr",
     "output_type": "stream",
     "text": [
      "ic| label_current_deforestation_test_high_uncertainty.shape: (1339570,)\n",
      "    predicted_test_high_uncertainty.shape: (1339570,)\n",
      "ic| TP_H + FN_H + FP_H + TN_H: 1339570\n",
      "    len(label_mask_current_deforestation_test): 44598447\n",
      "ic| TP_H + FN_H + FP_H + TN_H: 1339570\n",
      "    len(label_mask_current_deforestation_test): 44598447\n"
     ]
    },
    {
     "name": "stdout",
     "output_type": "stream",
     "text": [
      "[0.76324369 0.93412309 0.65601154 0.03003625 0.54627551 0.65514089\n",
      " 0.14639502]\n",
      "0.19794315247229524\n",
      "threshold 0.19794315247229524\n"
     ]
    },
    {
     "name": "stderr",
     "output_type": "stream",
     "text": [
      "ic| label_current_deforestation_test_high_uncertainty.shape: (1338018,)\n",
      "    predicted_test_high_uncertainty.shape: (1338018,)\n",
      "ic| TP_H + FN_H + FP_H + TN_H: 1338018\n",
      "    len(label_mask_current_deforestation_test): 44598447\n",
      "ic| TP_H + FN_H + FP_H + TN_H: 1338018\n",
      "    len(label_mask_current_deforestation_test): 44598447\n"
     ]
    },
    {
     "name": "stdout",
     "output_type": "stream",
     "text": [
      "[0.76321952 0.93409441 0.65625    0.03000145 0.54612718 0.65494897\n",
      " 0.14645275]\n",
      "0.19799023062370233\n",
      "threshold 0.19799023062370233\n"
     ]
    },
    {
     "name": "stderr",
     "output_type": "stream",
     "text": [
      "ic| label_current_deforestation_test_high_uncertainty.shape: (1337694,)\n",
      "    predicted_test_high_uncertainty.shape: (1337694,)\n",
      "ic| TP_H + FN_H + FP_H + TN_H: 1337694\n",
      "    len(label_mask_current_deforestation_test): 44598447\n",
      "ic| TP_H + FN_H + FP_H + TN_H: 1337694\n",
      "    len(label_mask_current_deforestation_test): 44598447\n",
      "ic| self.threshold_optimal: 0.19794315247229524\n"
     ]
    },
    {
     "name": "stdout",
     "output_type": "stream",
     "text": [
      "[0.76321638 0.93408849 0.65630235 0.02999418 0.54609085 0.65490616\n",
      " 0.14646559]\n",
      "threshold:  0.19794315247229524\n",
      "threshold 0.19794315247229524\n"
     ]
    },
    {
     "name": "stderr",
     "output_type": "stream",
     "text": [
      "ic| label_current_deforestation_test_high_uncertainty.shape: (1338018,)\n",
      "    predicted_test_high_uncertainty.shape: (1338018,)\n",
      "ic| TP_H + FN_H + FP_H + TN_H: 1338018\n",
      "    len(label_mask_current_deforestation_test): 44598447\n",
      "ic| TP_H + FN_H + FP_H + TN_H: 1338018\n",
      "    len(label_mask_current_deforestation_test): 44598447\n"
     ]
    },
    {
     "name": "stdout",
     "output_type": "stream",
     "text": [
      "[0.76321952 0.93409441 0.65625    0.03000145 0.54612718 0.65494897\n",
      " 0.14645275]\n",
      "threshold 0.19794315247229524\n",
      "(44598447,) (44598447,)\n"
     ]
    },
    {
     "name": "stderr",
     "output_type": "stream",
     "text": [
      "ic| self.m_optimal: {'AA': array([0.03000145]),\n",
      "                     'UEO': array([0.14645275]),\n",
      "                     'f1': 76.79,\n",
      "                     'f1_H': array([0.59560825]),\n",
      "                     'f1_L': array([0.84005566]),\n",
      "                     'precision_H': array([0.54612718]),\n",
      "                     'precision_L': array([0.76321952]),\n",
      "                     'recall_H': array([0.65494897]),\n",
      "                     'recall_L': array([0.93409441]),\n",
      "                     'recall_Ltotal': array([0.65625])}\n",
      "ic| self.m_audited_optimal: {'f1': array([0.88416198]),\n",
      "                             'precision': array([0.82407697]),\n",
      "                             'recall': array([0.95369789])}\n"
     ]
    },
    {
     "name": "stdout",
     "output_type": "stream",
     "text": [
      "cm_audited [[43563741   175026]\n",
      " [   39805   819875]]\n",
      "[0.82407697 0.95369789]\n",
      "Result idx 4: {'uncertainty_result': {'metrics': {'precision_L': array([0.76321952]), 'recall_L': array([0.93409441]), 'recall_Ltotal': array([0.65625]), 'AA': array([0.03000145]), 'precision_H': array([0.54612718]), 'recall_H': array([0.65494897]), 'UEO': array([0.14645275]), 'f1_L': array([0.84005566]), 'f1_H': array([0.59560825]), 'f1': 76.79}, 'metrics_audited': {'precision': array([0.82407697]), 'recall': array([0.95369789]), 'f1': array([0.88416198])}, 'exp': 60}}\n",
      "Grid execution idx: 4\n",
      "Beginning run number 5\n",
      "manager.config {'training': True, 'inferring': True, 'site': 'MT', 'training_date': 'current', 'mode': 'evidential2', 'training_times': 10, 'uncertainty_method': 'pred_entropy', 'loadInference': False, 'removePolygons': True, 'plotLandsat': False, 'plotPOI': False, 'training_experiment_id': 60, 'get_multiple_metrics': False, 'start_repetition_id': 0, 'end_repetition_id': 10, 'save_probabilities': False, 'addPastDeforestationInput': True, 'classes_mode': True, 'learning_rate': 0.0001, 'use_cloud_mask': True, 'mask_out_non_biome': False, 'log_filename': 'log.pkl', 'inference_times': 1, 'dropout_training': False}\n",
      "D:/Jorge/datasets/deforestation/MT/deforestation_past_years.tif\n",
      "Loaded deforestation past years\n"
     ]
    },
    {
     "name": "stderr",
     "output_type": "stream",
     "text": [
      "ic| np.unique(deforestation_past_years, return_counts=True): (array([   0, 2008, 2009, 2010, 2011, 2012, 2013, 2014, 2015, 2016, 2017,\n",
      "                                                                    2018, 2019, 2020, 2021], dtype=uint16),\n",
      "                                                              array([161124576,   1332784,    240796,    338545,    313901,    287191,\n",
      "                                                                       708581,    648966,    876898,   1007787,   1098901,   1054092,\n",
      "                                                                      2096062,   2473828,   1400992], dtype=int64))\n"
     ]
    },
    {
     "name": "stdout",
     "output_type": "stream",
     "text": [
      "Label where deforestation past years is actual date (2020) = 1\n"
     ]
    },
    {
     "name": "stderr",
     "output_type": "stream",
     "text": [
      "ic| np.unique(deforestation_past_years, return_counts=True): (array([   0, 2008, 2009, 2010, 2011, 2012, 2013, 2014, 2015, 2016, 2017,\n",
      "                                                                    2018, 2019, 2020, 2021], dtype=uint16),\n",
      "                                                              array([161124576,   1332784,    240796,    338545,    313901,    287191,\n",
      "                                                                       708581,    648966,    876898,   1007787,   1098901,   1054092,\n",
      "                                                                      2096062,   2473828,   1400992], dtype=int64))\n"
     ]
    },
    {
     "name": "stdout",
     "output_type": "stream",
     "text": [
      "Past deforestation different from 0 (no deforestation)\n"
     ]
    },
    {
     "name": "stderr",
     "output_type": "stream",
     "text": [
      "ic| np.unique(deforestation_past_years, return_counts=True): (array([   0, 2008, 2009, 2010, 2011, 2012, 2013, 2014, 2015, 2016, 2017,\n",
      "                                                                    2018, 2019, 2020, 2021], dtype=uint16),\n",
      "                                                              array([161124576,   1332784,    240796,    338545,    313901,    287191,\n",
      "                                                                       708581,    648966,    876898,   1007787,   1098901,   1054092,\n",
      "                                                                      2096062,   2473828,   1400992], dtype=int64))\n"
     ]
    },
    {
     "name": "stdout",
     "output_type": "stream",
     "text": [
      "Past deforestation before 2008 is 2\n",
      "D:/Jorge/datasets/deforestation/MT/deforestation_before_2008_MT.tif\n"
     ]
    },
    {
     "name": "stderr",
     "output_type": "stream",
     "text": [
      "ic| np.unique(label_past_deforestation_before_2008, return_counts=True): (array([  0, 215], dtype=uint8), array([122623260,  52380640], dtype=int64))\n",
      "ic| np.unique(deforestation_past_years, return_counts=True): (array([   0, 2008, 2009, 2010, 2011, 2012, 2013, 2014, 2015, 2016, 2017,\n",
      "                                                                    2018, 2019, 2020, 2021], dtype=uint16),\n",
      "                                                              array([161124576,   1332784,    240796,    338545,    313901,    287191,\n",
      "                                                                       708581,    648966,    876898,   1007787,   1098901,   1054092,\n",
      "                                                                      2096062,   2473828,   1400992], dtype=int64))\n",
      "ic| label_per_date.shape: (16795, 10420, 1)\n"
     ]
    },
    {
     "name": "stdout",
     "output_type": "stream",
     "text": [
      "Removing bufer................\n",
      "Mask label shape:  \n",
      " (16795, 10420, 1) \n",
      " Unique values:  \n",
      " [0 1 2]\n",
      "Tiles size:  3359 2084\n",
      "Mask size:  (16795, 10420)\n"
     ]
    },
    {
     "name": "stderr",
     "output_type": "stream",
     "text": [
      "ic| image_stack.shape: (16795, 10420, 21)\n"
     ]
    },
    {
     "name": "stdout",
     "output_type": "stream",
     "text": [
      "Image shape:  (16795, 10420, 21)\n",
      "mask:  (16795, 10420)\n",
      "image stack:  (16795, 10420, 21)\n",
      "ref : (16795, 10420, 1)\n",
      "Training tiles:  [2, 4, 5, 6, 7, 12, 14, 15, 18, 21, 23, 24]\n",
      "Validation tiles:  [9, 11, 25]\n",
      "Test tiles:  [1, 3, 8, 10, 13, 16, 17, 19, 20, 22]\n",
      "-5.0 -12.0\n"
     ]
    },
    {
     "name": "stderr",
     "output_type": "stream",
     "text": [
      "ic| self.path_models+ '/' + self.method +'_'+str(self.repetition_id)+'.h5': 'D:/Jorge/datasets/deforestation/experiments/MT/exp60/models/resunet_5.h5'\n"
     ]
    },
    {
     "name": "stdout",
     "output_type": "stream",
     "text": [
      "Dropout training mode: False\n",
      "time:  0\n",
      "alpha.shape (16800, 10432, 2)\n",
      "S.shape (16800, 10432)\n",
      "K 2\n",
      "u.shape (16800, 10432)\n",
      "belief.shape (16800, 10432, 2)\n",
      "Inference runtime 86.95\n",
      "(44657480,)\n",
      "(array([0, 1], dtype=uint8), array([43783238,   874242], dtype=int64))\n",
      "(16795, 10420, 2)\n"
     ]
    },
    {
     "name": "stderr",
     "output_type": "stream",
     "text": [
      "ic| predicted_test.shape: (70001560,)\n",
      "ic| predicted_test.shape: (44657480,)\n",
      "ic| np.unique(predicted, return_counts=True): (array([0, 1], dtype=int8), array([172333252,   2670648], dtype=int64))\n",
      "    np.unique(predicted_larger_than_min_area, return_counts=True): (array([0, 1], dtype=int8), array([172475092,   2528808], dtype=int64))\n",
      "ic| np.unique(ignored_polygons, return_counts=True): (array([0, 1], dtype=int8), array([174862060,    141840], dtype=int64))\n",
      "ic| self.f1: 78.02, self.precision: 70.97, self.recall: 86.62\n",
      "ic| self.label_mask_val.shape: (21000468,)\n",
      "ic| self.label_mask_val_valid.shape: (11791895,)\n",
      "ic| f1_val: 96.67\n",
      "    precision_val: 94.66\n",
      "    recall_val: 98.77\n",
      "    mAP_val: 98.93\n"
     ]
    },
    {
     "name": "stdout",
     "output_type": "stream",
     "text": [
      "(array([0, 1], dtype=int16), array([174391932,    611968], dtype=int64))\n",
      "[0 1]\n"
     ]
    },
    {
     "name": "stderr",
     "output_type": "stream",
     "text": [
      "ic| self.label_mask.shape: (16795, 10420)\n",
      "ic| self.mask_test.shape: (16795, 10420)\n",
      "ic| self.label_mask_test.shape: (70001560,)\n",
      "ic| self.error_mask_test.shape: (44601663,)\n",
      "ic| bounds: (0.003201844056472182, 0.9985)\n"
     ]
    },
    {
     "name": "stdout",
     "output_type": "stream",
     "text": [
      "(0.003201844056472182, 0.9985)\n",
      "0.3833719106868066\n",
      "threshold 0.3833719106868066\n"
     ]
    },
    {
     "name": "stderr",
     "output_type": "stream",
     "text": [
      "c:\\Users\\jchamorro\\Anaconda3\\envs\\tf2\\lib\\site-packages\\scipy\\optimize\\_minimize.py:783: RuntimeWarning: Method 'bounded' does not support relative tolerance in x; defaulting to absolute tolerance.\n",
      "  warn(\"Method 'bounded' does not support relative tolerance in x; \"\n",
      "ic| label_current_deforestation_test_high_uncertainty.shape: (444484,)\n",
      "    predicted_test_high_uncertainty.shape: (444484,)\n",
      "ic| TP_H + FN_H + FP_H + TN_H: 444484\n",
      "    len(label_mask_current_deforestation_test): 44601663\n",
      "ic| TP_H + FN_H + FP_H + TN_H: 444484\n",
      "    len(label_mask_current_deforestation_test): 44601663\n"
     ]
    },
    {
     "name": "stdout",
     "output_type": "stream",
     "text": [
      "[0.74605243 0.90682474 0.80438227 0.00996564 0.43435369 0.54719569\n",
      " 0.15057608]\n",
      "0.6183299333696655\n",
      "threshold 0.6183299333696655\n"
     ]
    },
    {
     "name": "stderr",
     "output_type": "stream",
     "text": [
      "ic| label_current_deforestation_test_high_uncertainty.shape: (141165,)\n",
      "    predicted_test_high_uncertainty.shape: (141165,)\n",
      "ic| TP_H + FN_H + FP_H + TN_H: 141165\n",
      "    len(label_mask_current_deforestation_test): 44601663\n",
      "ic| TP_H + FN_H + FP_H + TN_H: 141165\n",
      "    len(label_mask_current_deforestation_test): 44601663\n"
     ]
    },
    {
     "name": "stdout",
     "output_type": "stream",
     "text": [
      "[0.72542151 0.87809492 0.8442797  0.00316502 0.38687918 0.56916374\n",
      " 0.08536725]\n",
      "0.23815986673933107\n",
      "threshold 0.23815986673933107\n"
     ]
    },
    {
     "name": "stderr",
     "output_type": "stream",
     "text": [
      "ic| label_current_deforestation_test_high_uncertainty.shape: (874649,)\n",
      "    predicted_test_high_uncertainty.shape: (874649,)\n",
      "ic| TP_H + FN_H + FP_H + TN_H: 874649\n",
      "    len(label_mask_current_deforestation_test): 44601663\n",
      "ic| TP_H + FN_H + FP_H + TN_H: 874649\n",
      "    len(label_mask_current_deforestation_test): 44601663\n"
     ]
    },
    {
     "name": "stdout",
     "output_type": "stream",
     "text": [
      "[0.76083441 0.92234595 0.7630098  0.01961023 0.47411896 0.59732377\n",
      " 0.139073  ]\n",
      "0.14841388800394772\n",
      "threshold 0.14841388800394772\n"
     ]
    },
    {
     "name": "stderr",
     "output_type": "stream",
     "text": [
      "ic| label_current_deforestation_test_high_uncertainty.shape: (1410322,)\n",
      "    predicted_test_high_uncertainty.shape: (1410322,)\n",
      "ic| TP_H + FN_H + FP_H + TN_H: 1410322\n",
      "    len(label_mask_current_deforestation_test): 44601663\n",
      "ic| TP_H + FN_H + FP_H + TN_H: 1410322\n",
      "    len(label_mask_current_deforestation_test): 44601663\n"
     ]
    },
    {
     "name": "stdout",
     "output_type": "stream",
     "text": [
      "[0.77076882 0.93270234 0.70645457 0.03162039 0.5255705  0.65853963\n",
      " 0.11922004]\n",
      "0.09294782279185551\n",
      "threshold 0.09294782279185551\n"
     ]
    },
    {
     "name": "stderr",
     "output_type": "stream",
     "text": [
      "ic| label_current_deforestation_test_high_uncertainty.shape: (2033421,)\n",
      "    predicted_test_high_uncertainty.shape: (2033421,)\n",
      "ic| TP_H + FN_H + FP_H + TN_H: 2033421\n",
      "    len(label_mask_current_deforestation_test): 44601663\n",
      "ic| TP_H + FN_H + FP_H + TN_H: 2033421\n",
      "    len(label_mask_current_deforestation_test): 44601663\n"
     ]
    },
    {
     "name": "stdout",
     "output_type": "stream",
     "text": [
      "[0.77672647 0.94071371 0.62361758 0.0455907  0.58086124 0.71965172\n",
      " 0.10416032]\n",
      "0.17299257673303609\n",
      "threshold 0.17299257673303609\n"
     ]
    },
    {
     "name": "stderr",
     "output_type": "stream",
     "text": [
      "ic| label_current_deforestation_test_high_uncertainty.shape: (1224437,)\n",
      "    predicted_test_high_uncertainty.shape: (1224437,)\n",
      "ic| TP_H + FN_H + FP_H + TN_H: 1224437\n",
      "    len(label_mask_current_deforestation_test): 44601663\n",
      "ic| TP_H + FN_H + FP_H + TN_H: 1224437\n",
      "    len(label_mask_current_deforestation_test): 44601663\n"
     ]
    },
    {
     "name": "stdout",
     "output_type": "stream",
     "text": [
      "[0.76783078 0.92986725 0.7271542  0.02745272 0.50842923 0.63780958\n",
      " 0.12542588]\n",
      "0.14022459097618695\n",
      "threshold 0.14022459097618695\n"
     ]
    },
    {
     "name": "stderr",
     "output_type": "stream",
     "text": [
      "ic| label_current_deforestation_test_high_uncertainty.shape: (1480988,)\n",
      "    predicted_test_high_uncertainty.shape: (1480988,)\n",
      "ic| TP_H + FN_H + FP_H + TN_H: 1480988\n",
      "    len(label_mask_current_deforestation_test): 44601663\n",
      "ic| TP_H + FN_H + FP_H + TN_H: 1480988\n",
      "    len(label_mask_current_deforestation_test): 44601663\n"
     ]
    },
    {
     "name": "stdout",
     "output_type": "stream",
     "text": [
      "[0.77169304 0.93370011 0.69801556 0.03320477 0.53226276 0.66628048\n",
      " 0.11709226]\n",
      "0.15803061340534555\n",
      "threshold 0.15803061340534555\n"
     ]
    },
    {
     "name": "stderr",
     "output_type": "stream",
     "text": [
      "ic| label_current_deforestation_test_high_uncertainty.shape: (1332477,)\n",
      "    predicted_test_high_uncertainty.shape: (1332477,)\n",
      "ic| TP_H + FN_H + FP_H + TN_H: 1332477\n",
      "    len(label_mask_current_deforestation_test): 44601663\n",
      "ic| TP_H + FN_H + FP_H + TN_H: 1332477\n",
      "    len(label_mask_current_deforestation_test): 44601663\n"
     ]
    },
    {
     "name": "stdout",
     "output_type": "stream",
     "text": [
      "[0.76959688 0.93163479 0.71536312 0.02987505 0.51838356 0.64975256\n",
      " 0.1217283 ]\n",
      "0.1592431217954191\n",
      "threshold 0.1592431217954191\n"
     ]
    },
    {
     "name": "stderr",
     "output_type": "stream",
     "text": [
      "ic| label_current_deforestation_test_high_uncertainty.shape: (1323242,)\n",
      "    predicted_test_high_uncertainty.shape: (1323242,)\n",
      "ic| TP_H + FN_H + FP_H + TN_H: 1323242\n",
      "    len(label_mask_current_deforestation_test): 44601663\n",
      "ic| TP_H + FN_H + FP_H + TN_H: 1323242\n",
      "    len(label_mask_current_deforestation_test): 44601663\n"
     ]
    },
    {
     "name": "stdout",
     "output_type": "stream",
     "text": [
      "[0.76946412 0.93151025 0.71637562 0.029668   0.51752949 0.64871532\n",
      " 0.12205498]\n",
      "0.15580292265547316\n",
      "threshold 0.15580292265547316\n"
     ]
    },
    {
     "name": "stderr",
     "output_type": "stream",
     "text": [
      "ic| label_current_deforestation_test_high_uncertainty.shape: (1349977,)\n",
      "    predicted_test_high_uncertainty.shape: (1349977,)\n",
      "ic| TP_H + FN_H + FP_H + TN_H: 1349977\n",
      "    len(label_mask_current_deforestation_test): 44601663\n",
      "ic| TP_H + FN_H + FP_H + TN_H: 1349977\n",
      "    len(label_mask_current_deforestation_test): 44601663\n"
     ]
    },
    {
     "name": "stdout",
     "output_type": "stream",
     "text": [
      "[0.76988735 0.93186917 0.71336726 0.03026741 0.51998335 0.65179432\n",
      " 0.12116303]\n",
      "0.15717971125531804\n",
      "threshold 0.15717971125531804\n"
     ]
    },
    {
     "name": "stderr",
     "output_type": "stream",
     "text": [
      "ic| label_current_deforestation_test_high_uncertainty.shape: (1339100,)\n",
      "    predicted_test_high_uncertainty.shape: (1339100,)\n",
      "ic| TP_H + FN_H + FP_H + TN_H: 1339100\n",
      "    len(label_mask_current_deforestation_test): 44601663\n",
      "ic| TP_H + FN_H + FP_H + TN_H: 1339100\n",
      "    len(label_mask_current_deforestation_test): 44601663\n"
     ]
    },
    {
     "name": "stdout",
     "output_type": "stream",
     "text": [
      "[0.76969934 0.93172352 0.71462793 0.03002354 0.51898588 0.65050355\n",
      " 0.1215031 ]\n",
      "0.15714637559063283\n",
      "threshold 0.15714637559063283\n"
     ]
    },
    {
     "name": "stderr",
     "output_type": "stream",
     "text": [
      "ic| label_current_deforestation_test_high_uncertainty.shape: (1339329,)\n",
      "    predicted_test_high_uncertainty.shape: (1339329,)\n",
      "ic| TP_H + FN_H + FP_H + TN_H: 1339329\n",
      "    len(label_mask_current_deforestation_test): 44601663\n",
      "ic| TP_H + FN_H + FP_H + TN_H: 1339329\n",
      "    len(label_mask_current_deforestation_test): 44601663\n"
     ]
    },
    {
     "name": "stdout",
     "output_type": "stream",
     "text": [
      "[0.76970669 0.93172589 0.71460696 0.03002868 0.5189935  0.65052524\n",
      " 0.12149679]\n",
      "0.15741230032663023\n",
      "threshold 0.15741230032663023\n"
     ]
    },
    {
     "name": "stderr",
     "output_type": "stream",
     "text": [
      "ic| label_current_deforestation_test_high_uncertainty.shape: (1337298,)\n",
      "    predicted_test_high_uncertainty.shape: (1337298,)\n",
      "ic| TP_H + FN_H + FP_H + TN_H: 1337298\n",
      "    len(label_mask_current_deforestation_test): 44601663\n",
      "ic| TP_H + FN_H + FP_H + TN_H: 1337298\n",
      "    len(label_mask_current_deforestation_test): 44601663\n"
     ]
    },
    {
     "name": "stdout",
     "output_type": "stream",
     "text": [
      "[0.76966802 0.93170708 0.71482483 0.02998314 0.51883326 0.65028605\n",
      " 0.12156629]\n",
      "0.1576484749070109\n",
      "threshold 0.1576484749070109\n"
     ]
    },
    {
     "name": "stderr",
     "output_type": "stream",
     "text": [
      "ic| label_current_deforestation_test_high_uncertainty.shape: (1335381,)\n",
      "    predicted_test_high_uncertainty.shape: (1335381,)\n",
      "ic| TP_H + FN_H + FP_H + TN_H: 1335381\n",
      "    len(label_mask_current_deforestation_test): 44601663\n",
      "ic| TP_H + FN_H + FP_H + TN_H: 1335381\n",
      "    len(label_mask_current_deforestation_test): 44601663\n"
     ]
    },
    {
     "name": "stdout",
     "output_type": "stream",
     "text": [
      "[0.76963951 0.93167786 0.71503689 0.02994016 0.5186574  0.65007792\n",
      " 0.12163067]\n",
      "0.15732651779868317\n",
      "threshold 0.15732651779868317\n"
     ]
    },
    {
     "name": "stderr",
     "output_type": "stream",
     "text": [
      "ic| label_current_deforestation_test_high_uncertainty.shape: (1337930,)\n",
      "    predicted_test_high_uncertainty.shape: (1337930,)\n",
      "ic| TP_H + FN_H + FP_H + TN_H: 1337930\n",
      "    len(label_mask_current_deforestation_test): 44601663\n",
      "ic| TP_H + FN_H + FP_H + TN_H: 1337930\n",
      "    len(label_mask_current_deforestation_test): 44601663\n"
     ]
    },
    {
     "name": "stdout",
     "output_type": "stream",
     "text": [
      "[0.76966816 0.93170904 0.71475143 0.02999731 0.51891493 0.65037677\n",
      " 0.12153514]\n",
      "0.15729318213182047\n",
      "threshold 0.15729318213182047\n"
     ]
    },
    {
     "name": "stderr",
     "output_type": "stream",
     "text": [
      "ic| label_current_deforestation_test_high_uncertainty.shape: (1338200,)\n",
      "    predicted_test_high_uncertainty.shape: (1338200,)\n",
      "ic| TP_H + FN_H + FP_H + TN_H: 1338200\n",
      "    len(label_mask_current_deforestation_test): 44601663\n",
      "ic| TP_H + FN_H + FP_H + TN_H: 1338200\n",
      "    len(label_mask_current_deforestation_test): 44601663\n"
     ]
    },
    {
     "name": "stdout",
     "output_type": "stream",
     "text": [
      "[0.76967851 0.9317129  0.71471531 0.03000337 0.51893303 0.65041472\n",
      " 0.12153209]\n",
      "0.15735985346554587\n",
      "threshold 0.15735985346554587\n"
     ]
    },
    {
     "name": "stderr",
     "output_type": "stream",
     "text": [
      "ic| label_current_deforestation_test_high_uncertainty.shape: (1337685,)\n",
      "    predicted_test_high_uncertainty.shape: (1337685,)\n",
      "ic| TP_H + FN_H + FP_H + TN_H: 1337685\n",
      "    len(label_mask_current_deforestation_test): 44601663\n",
      "ic| TP_H + FN_H + FP_H + TN_H: 1337685\n",
      "    len(label_mask_current_deforestation_test): 44601663\n",
      "ic| self.threshold_optimal: 0.15732651779868317\n"
     ]
    },
    {
     "name": "stdout",
     "output_type": "stream",
     "text": [
      "[0.76967249 0.93170597 0.71478056 0.02999182 0.51887312 0.65034605\n",
      " 0.12154914]\n",
      "threshold:  0.15732651779868317\n",
      "threshold 0.15732651779868317\n"
     ]
    },
    {
     "name": "stderr",
     "output_type": "stream",
     "text": [
      "ic| label_current_deforestation_test_high_uncertainty.shape: (1337930,)\n",
      "    predicted_test_high_uncertainty.shape: (1337930,)\n",
      "ic| TP_H + FN_H + FP_H + TN_H: 1337930\n",
      "    len(label_mask_current_deforestation_test): 44601663\n",
      "ic| TP_H + FN_H + FP_H + TN_H: 1337930\n",
      "    len(label_mask_current_deforestation_test): 44601663\n"
     ]
    },
    {
     "name": "stdout",
     "output_type": "stream",
     "text": [
      "[0.76966816 0.93170904 0.71475143 0.02999731 0.51891493 0.65037677\n",
      " 0.12153514]\n",
      "threshold 0.15732651779868317\n",
      "(44601663,) (44601663,)\n"
     ]
    },
    {
     "name": "stderr",
     "output_type": "stream",
     "text": [
      "ic| self.m_optimal: {'AA': array([0.02999731]),\n",
      "                     'UEO': array([0.12153514]),\n",
      "                     'f1': 78.02,\n",
      "                     'f1_H': array([0.57725581]),\n",
      "                     'f1_L': array([0.84297213]),\n",
      "                     'precision_H': array([0.51891493]),\n",
      "                     'precision_L': array([0.76966816]),\n",
      "                     'recall_H': array([0.65037677]),\n",
      "                     'recall_L': array([0.93170904]),\n",
      "                     'recall_Ltotal': array([0.71475143])}\n",
      "ic| self.m_audited_optimal: {'f1': array([0.87680543]),\n",
      "                             'precision': array([0.8158452]),\n",
      "                             'recall': array([0.94761126])}\n"
     ]
    },
    {
     "name": "stdout",
     "output_type": "stream",
     "text": [
      "cm_audited [[43559804   183583]\n",
      " [   44964   813312]]\n",
      "[0.8158452  0.94761126]\n",
      "Result idx 5: {'uncertainty_result': {'metrics': {'precision_L': array([0.76966816]), 'recall_L': array([0.93170904]), 'recall_Ltotal': array([0.71475143]), 'AA': array([0.02999731]), 'precision_H': array([0.51891493]), 'recall_H': array([0.65037677]), 'UEO': array([0.12153514]), 'f1_L': array([0.84297213]), 'f1_H': array([0.57725581]), 'f1': 78.02}, 'metrics_audited': {'precision': array([0.8158452]), 'recall': array([0.94761126]), 'f1': array([0.87680543])}, 'exp': 60}}\n",
      "Grid execution idx: 5\n",
      "Beginning run number 6\n",
      "manager.config {'training': True, 'inferring': True, 'site': 'MT', 'training_date': 'current', 'mode': 'evidential2', 'training_times': 10, 'uncertainty_method': 'pred_entropy', 'loadInference': False, 'removePolygons': True, 'plotLandsat': False, 'plotPOI': False, 'training_experiment_id': 60, 'get_multiple_metrics': False, 'start_repetition_id': 0, 'end_repetition_id': 10, 'save_probabilities': False, 'addPastDeforestationInput': True, 'classes_mode': True, 'learning_rate': 0.0001, 'use_cloud_mask': True, 'mask_out_non_biome': False, 'log_filename': 'log.pkl', 'inference_times': 1, 'dropout_training': False}\n",
      "D:/Jorge/datasets/deforestation/MT/deforestation_past_years.tif\n",
      "Loaded deforestation past years\n"
     ]
    },
    {
     "name": "stderr",
     "output_type": "stream",
     "text": [
      "ic| np.unique(deforestation_past_years, return_counts=True): (array([   0, 2008, 2009, 2010, 2011, 2012, 2013, 2014, 2015, 2016, 2017,\n",
      "                                                                    2018, 2019, 2020, 2021], dtype=uint16),\n",
      "                                                              array([161124576,   1332784,    240796,    338545,    313901,    287191,\n",
      "                                                                       708581,    648966,    876898,   1007787,   1098901,   1054092,\n",
      "                                                                      2096062,   2473828,   1400992], dtype=int64))\n"
     ]
    },
    {
     "name": "stdout",
     "output_type": "stream",
     "text": [
      "Label where deforestation past years is actual date (2020) = 1\n"
     ]
    },
    {
     "name": "stderr",
     "output_type": "stream",
     "text": [
      "ic| np.unique(deforestation_past_years, return_counts=True): (array([   0, 2008, 2009, 2010, 2011, 2012, 2013, 2014, 2015, 2016, 2017,\n",
      "                                                                    2018, 2019, 2020, 2021], dtype=uint16),\n",
      "                                                              array([161124576,   1332784,    240796,    338545,    313901,    287191,\n",
      "                                                                       708581,    648966,    876898,   1007787,   1098901,   1054092,\n",
      "                                                                      2096062,   2473828,   1400992], dtype=int64))\n"
     ]
    },
    {
     "name": "stdout",
     "output_type": "stream",
     "text": [
      "Past deforestation different from 0 (no deforestation)\n"
     ]
    },
    {
     "name": "stderr",
     "output_type": "stream",
     "text": [
      "ic| np.unique(deforestation_past_years, return_counts=True): (array([   0, 2008, 2009, 2010, 2011, 2012, 2013, 2014, 2015, 2016, 2017,\n",
      "                                                                    2018, 2019, 2020, 2021], dtype=uint16),\n",
      "                                                              array([161124576,   1332784,    240796,    338545,    313901,    287191,\n",
      "                                                                       708581,    648966,    876898,   1007787,   1098901,   1054092,\n",
      "                                                                      2096062,   2473828,   1400992], dtype=int64))\n"
     ]
    },
    {
     "name": "stdout",
     "output_type": "stream",
     "text": [
      "Past deforestation before 2008 is 2\n",
      "D:/Jorge/datasets/deforestation/MT/deforestation_before_2008_MT.tif\n"
     ]
    },
    {
     "name": "stderr",
     "output_type": "stream",
     "text": [
      "ic| np.unique(label_past_deforestation_before_2008, return_counts=True): (array([  0, 215], dtype=uint8), array([122623260,  52380640], dtype=int64))\n",
      "ic| np.unique(deforestation_past_years, return_counts=True): (array([   0, 2008, 2009, 2010, 2011, 2012, 2013, 2014, 2015, 2016, 2017,\n",
      "                                                                    2018, 2019, 2020, 2021], dtype=uint16),\n",
      "                                                              array([161124576,   1332784,    240796,    338545,    313901,    287191,\n",
      "                                                                       708581,    648966,    876898,   1007787,   1098901,   1054092,\n",
      "                                                                      2096062,   2473828,   1400992], dtype=int64))\n",
      "ic| label_per_date.shape: (16795, 10420, 1)\n"
     ]
    },
    {
     "name": "stdout",
     "output_type": "stream",
     "text": [
      "Removing bufer................\n",
      "Mask label shape:  \n",
      " (16795, 10420, 1) \n",
      " Unique values:  \n",
      " [0 1 2]\n",
      "Tiles size:  3359 2084\n",
      "Mask size:  (16795, 10420)\n"
     ]
    },
    {
     "name": "stderr",
     "output_type": "stream",
     "text": [
      "ic| image_stack.shape: (16795, 10420, 21)\n"
     ]
    },
    {
     "name": "stdout",
     "output_type": "stream",
     "text": [
      "Image shape:  (16795, 10420, 21)\n",
      "mask:  (16795, 10420)\n",
      "image stack:  (16795, 10420, 21)\n",
      "ref : (16795, 10420, 1)\n",
      "Training tiles:  [2, 4, 5, 6, 7, 12, 14, 15, 18, 21, 23, 24]\n",
      "Validation tiles:  [9, 11, 25]\n",
      "Test tiles:  [1, 3, 8, 10, 13, 16, 17, 19, 20, 22]\n",
      "-5.0 -12.0\n"
     ]
    },
    {
     "name": "stderr",
     "output_type": "stream",
     "text": [
      "ic| self.path_models+ '/' + self.method +'_'+str(self.repetition_id)+'.h5': 'D:/Jorge/datasets/deforestation/experiments/MT/exp60/models/resunet_6.h5'\n"
     ]
    },
    {
     "name": "stdout",
     "output_type": "stream",
     "text": [
      "Dropout training mode: False\n",
      "time:  0\n",
      "alpha.shape (16800, 10432, 2)\n",
      "S.shape (16800, 10432)\n",
      "K 2\n",
      "u.shape (16800, 10432)\n",
      "belief.shape (16800, 10432, 2)\n",
      "Inference runtime 87.26\n",
      "(44657480,)\n",
      "(array([0, 1], dtype=uint8), array([43783238,   874242], dtype=int64))\n",
      "(16795, 10420, 2)\n"
     ]
    },
    {
     "name": "stderr",
     "output_type": "stream",
     "text": [
      "ic| predicted_test.shape: (70001560,)\n",
      "ic| predicted_test.shape: (44657480,)\n",
      "ic| np.unique(predicted, return_counts=True): (array([0, 1], dtype=int8), array([172208113,   2795787], dtype=int64))\n",
      "    np.unique(predicted_larger_than_min_area, return_counts=True): (array([0, 1], dtype=int8), array([172341787,   2662113], dtype=int64))\n",
      "ic| np.unique(ignored_polygons, return_counts=True): (array([0, 1], dtype=int8), array([174870226,    133674], dtype=int64))\n",
      "ic| self.f1: 71.98, self.precision: 64.45, self.recall: 81.51\n",
      "ic| self.label_mask_val.shape: (21000468,)\n",
      "ic| self.label_mask_val_valid.shape: (11789354,)\n",
      "ic| f1_val: 92.25\n",
      "    precision_val: 86.97\n",
      "    recall_val: 98.22\n",
      "    mAP_val: 96.58\n"
     ]
    },
    {
     "name": "stdout",
     "output_type": "stream",
     "text": [
      "(array([0, 1], dtype=int16), array([174143205,    860695], dtype=int64))\n",
      "[0 1]\n"
     ]
    },
    {
     "name": "stderr",
     "output_type": "stream",
     "text": [
      "ic| self.label_mask.shape: (16795, 10420)\n",
      "ic| self.mask_test.shape: (16795, 10420)\n",
      "ic| self.label_mask_test.shape: (70001560,)\n",
      "ic| self.error_mask_test.shape: (44605196,)\n",
      "ic| bounds: (0.003962526216506958, 0.9985)\n"
     ]
    },
    {
     "name": "stdout",
     "output_type": "stream",
     "text": [
      "(0.003962526216506958, 0.9985)\n",
      "0.38384203811634376\n",
      "threshold 0.38384203811634376\n"
     ]
    },
    {
     "name": "stderr",
     "output_type": "stream",
     "text": [
      "c:\\Users\\jchamorro\\Anaconda3\\envs\\tf2\\lib\\site-packages\\scipy\\optimize\\_minimize.py:783: RuntimeWarning: Method 'bounded' does not support relative tolerance in x; defaulting to absolute tolerance.\n",
      "  warn(\"Method 'bounded' does not support relative tolerance in x; \"\n",
      "ic| label_current_deforestation_test_high_uncertainty.shape: (486659,)\n",
      "    predicted_test_high_uncertainty.shape: (486659,)\n",
      "ic| TP_H + FN_H + FP_H + TN_H: 486659\n",
      "    len(label_mask_current_deforestation_test): 44605196\n",
      "ic| TP_H + FN_H + FP_H + TN_H: 486659\n",
      "    len(label_mask_current_deforestation_test): 44605196\n"
     ]
    },
    {
     "name": "stdout",
     "output_type": "stream",
     "text": [
      "[0.67524281 0.85469977 0.75083337 0.01091037 0.42060948 0.52898655\n",
      " 0.13819184]\n",
      "0.6186204881001631\n",
      "threshold 0.6186204881001631\n"
     ]
    },
    {
     "name": "stderr",
     "output_type": "stream",
     "text": [
      "ic| label_current_deforestation_test_high_uncertainty.shape: (141509,)\n",
      "    predicted_test_high_uncertainty.shape: (141509,)\n",
      "ic| TP_H + FN_H + FP_H + TN_H: 141509\n",
      "    len(label_mask_current_deforestation_test): 44605196\n",
      "ic| TP_H + FN_H + FP_H + TN_H: 141509\n",
      "    len(label_mask_current_deforestation_test): 44605196\n"
     ]
    },
    {
     "name": "stdout",
     "output_type": "stream",
     "text": [
      "[0.65533823 0.82802007 0.79933237 0.00317248 0.35034216 0.45562011\n",
      " 0.06408586]\n",
      "0.23874097620032625\n",
      "threshold 0.23874097620032625\n"
     ]
    },
    {
     "name": "stderr",
     "output_type": "stream",
     "text": [
      "ic| label_current_deforestation_test_high_uncertainty.shape: (947984,)\n",
      "    predicted_test_high_uncertainty.shape: (947984,)\n",
      "ic| TP_H + FN_H + FP_H + TN_H: 947984\n",
      "    len(label_mask_current_deforestation_test): 44605196\n",
      "ic| TP_H + FN_H + FP_H + TN_H: 947984\n",
      "    len(label_mask_current_deforestation_test): 44605196\n"
     ]
    },
    {
     "name": "stdout",
     "output_type": "stream",
     "text": [
      "[0.68646217 0.86676768 0.69484945 0.02125277 0.4761896  0.60636245\n",
      " 0.13775212]\n",
      "0.1490635881325245\n",
      "threshold 0.1490635881325245\n"
     ]
    },
    {
     "name": "stderr",
     "output_type": "stream",
     "text": [
      "ic| label_current_deforestation_test_high_uncertainty.shape: (1569764,)\n",
      "    predicted_test_high_uncertainty.shape: (1569764,)\n",
      "ic| TP_H + FN_H + FP_H + TN_H: 1569764\n",
      "    len(label_mask_current_deforestation_test): 44605196\n",
      "ic| TP_H + FN_H + FP_H + TN_H: 1569764\n",
      "    len(label_mask_current_deforestation_test): 44605196\n"
     ]
    },
    {
     "name": "stdout",
     "output_type": "stream",
     "text": [
      "[0.70657433 0.87408884 0.62632045 0.0351924  0.49898367 0.66604822\n",
      " 0.13057334]\n",
      "0.046817622635800984\n",
      "threshold 0.046817622635800984\n"
     ]
    },
    {
     "name": "stderr",
     "output_type": "stream",
     "text": [
      "ic| label_current_deforestation_test_high_uncertainty.shape: (3826865,)\n",
      "    predicted_test_high_uncertainty.shape: (3826865,)\n",
      "ic| TP_H + FN_H + FP_H + TN_H: 3826865\n",
      "    len(label_mask_current_deforestation_test): 44605196\n",
      "ic| TP_H + FN_H + FP_H + TN_H: 3826865\n",
      "    len(label_mask_current_deforestation_test): 44605196\n"
     ]
    },
    {
     "name": "stdout",
     "output_type": "stream",
     "text": [
      "[0.81543542 0.91032038 0.45048234 0.08579415 0.5118853  0.72185228\n",
      " 0.10615541]\n",
      "0.11000910452532514\n",
      "threshold 0.11000910452532514\n"
     ]
    },
    {
     "name": "stderr",
     "output_type": "stream",
     "text": [
      "ic| label_current_deforestation_test_high_uncertainty.shape: (2040553,)\n",
      "    predicted_test_high_uncertainty.shape: (2040553,)\n",
      "ic| TP_H + FN_H + FP_H + TN_H: 2040553\n",
      "    len(label_mask_current_deforestation_test): 44605196\n",
      "ic| TP_H + FN_H + FP_H + TN_H: 2040553\n",
      "    len(label_mask_current_deforestation_test): 44605196\n"
     ]
    },
    {
     "name": "stdout",
     "output_type": "stream",
     "text": [
      "[0.72941421 0.8805296  0.58383452 0.04574698 0.49806191 0.68640106\n",
      " 0.12687197]\n",
      "0.18566886521872678\n",
      "threshold 0.18566886521872678\n"
     ]
    },
    {
     "name": "stderr",
     "output_type": "stream",
     "text": [
      "ic| label_current_deforestation_test_high_uncertainty.shape: (1264794,)\n",
      "    predicted_test_high_uncertainty.shape: (1264794,)\n",
      "ic| TP_H + FN_H + FP_H + TN_H: 1264794\n",
      "    len(label_mask_current_deforestation_test): 44605196\n",
      "ic| TP_H + FN_H + FP_H + TN_H: 1264794\n",
      "    len(label_mask_current_deforestation_test): 44605196\n"
     ]
    },
    {
     "name": "stdout",
     "output_type": "stream",
     "text": [
      "[0.69436227 0.87048858 0.65813341 0.02835531 0.49528473 0.64351227\n",
      " 0.13281825]\n",
      "0.18619938070470457\n",
      "threshold 0.18619938070470457\n"
     ]
    },
    {
     "name": "stderr",
     "output_type": "stream",
     "text": [
      "ic| label_current_deforestation_test_high_uncertainty.shape: (1260994,)\n",
      "    predicted_test_high_uncertainty.shape: (1260994,)\n",
      "ic| TP_H + FN_H + FP_H + TN_H: 1260994\n",
      "    len(label_mask_current_deforestation_test): 44605196\n",
      "ic| TP_H + FN_H + FP_H + TN_H: 1260994\n",
      "    len(label_mask_current_deforestation_test): 44605196\n"
     ]
    },
    {
     "name": "stdout",
     "output_type": "stream",
     "text": [
      "[0.69422603 0.87046333 0.6585802  0.02827011 0.49517114 0.6430917\n",
      " 0.13284705]\n",
      "0.17435478806981214\n",
      "threshold 0.17435478806981214\n"
     ]
    },
    {
     "name": "stderr",
     "output_type": "stream",
     "text": [
      "ic| label_current_deforestation_test_high_uncertainty.shape: (1348369,)\n",
      "    predicted_test_high_uncertainty.shape: (1348369,)\n",
      "ic| TP_H + FN_H + FP_H + TN_H: 1348369\n",
      "    len(label_mask_current_deforestation_test): 44605196\n",
      "ic| TP_H + FN_H + FP_H + TN_H: 1348369\n",
      "    len(label_mask_current_deforestation_test): 44605196\n"
     ]
    },
    {
     "name": "stdout",
     "output_type": "stream",
     "text": [
      "[0.69709572 0.87144536 0.64886132 0.03022897 0.4978104  0.65091585\n",
      " 0.13196992]\n",
      "0.16469440931003745\n",
      "threshold 0.16469440931003745\n"
     ]
    },
    {
     "name": "stderr",
     "output_type": "stream",
     "text": [
      "ic| label_current_deforestation_test_high_uncertainty.shape: (1426958,)\n",
      "    predicted_test_high_uncertainty.shape: (1426958,)\n",
      "ic| TP_H + FN_H + FP_H + TN_H: 1426958\n",
      "    len(label_mask_current_deforestation_test): 44605196\n",
      "ic| TP_H + FN_H + FP_H + TN_H: 1426958\n",
      "    len(label_mask_current_deforestation_test): 44605196\n"
     ]
    },
    {
     "name": "stdout",
     "output_type": "stream",
     "text": [
      "[0.70032922 0.87237057 0.64055612 0.03199085 0.49855944 0.65691555\n",
      " 0.13152102]\n",
      "0.17867638098935903\n",
      "threshold 0.17867638098935903\n"
     ]
    },
    {
     "name": "stderr",
     "output_type": "stream",
     "text": [
      "ic| label_current_deforestation_test_high_uncertainty.shape: (1315680,)\n",
      "    predicted_test_high_uncertainty.shape: (1315680,)\n",
      "ic| TP_H + FN_H + FP_H + TN_H: 1315680\n",
      "    len(label_mask_current_deforestation_test): 44605196\n",
      "ic| TP_H + FN_H + FP_H + TN_H: 1315680\n",
      "    len(label_mask_current_deforestation_test): 44605196\n"
     ]
    },
    {
     "name": "stdout",
     "output_type": "stream",
     "text": [
      "[0.69598397 0.87106336 0.65238562 0.02949612 0.49700614 0.64821449\n",
      " 0.13230121]\n",
      "0.17289997757209533\n",
      "threshold 0.17289997757209533\n"
     ]
    },
    {
     "name": "stderr",
     "output_type": "stream",
     "text": [
      "ic| label_current_deforestation_test_high_uncertainty.shape: (1359740,)\n",
      "    predicted_test_high_uncertainty.shape: (1359740,)\n",
      "ic| TP_H + FN_H + FP_H + TN_H: 1359740\n",
      "    len(label_mask_current_deforestation_test): 44605196\n",
      "ic| TP_H + FN_H + FP_H + TN_H: 1359740\n",
      "    len(label_mask_current_deforestation_test): 44605196\n"
     ]
    },
    {
     "name": "stdout",
     "output_type": "stream",
     "text": [
      "[0.69752099 0.87160661 0.64765591 0.03048389 0.49799662 0.65175474\n",
      " 0.13189077]\n",
      "0.17574632712996385\n",
      "threshold 0.17574632712996385\n"
     ]
    },
    {
     "name": "stderr",
     "output_type": "stream",
     "text": [
      "ic| label_current_deforestation_test_high_uncertainty.shape: (1337609,)\n",
      "    predicted_test_high_uncertainty.shape: (1337609,)\n",
      "ic| TP_H + FN_H + FP_H + TN_H: 1337609\n",
      "    len(label_mask_current_deforestation_test): 44605196\n",
      "ic| TP_H + FN_H + FP_H + TN_H: 1337609\n",
      "    len(label_mask_current_deforestation_test): 44605196\n"
     ]
    },
    {
     "name": "stdout",
     "output_type": "stream",
     "text": [
      "[0.69670652 0.87133085 0.65001088 0.02998774 0.49760146 0.65002176\n",
      " 0.13207026]\n",
      "0.176865508115385\n",
      "threshold 0.176865508115385\n"
     ]
    },
    {
     "name": "stderr",
     "output_type": "stream",
     "text": [
      "ic| label_current_deforestation_test_high_uncertainty.shape: (1329200,)\n",
      "    predicted_test_high_uncertainty.shape: (1329200,)\n",
      "ic| TP_H + FN_H + FP_H + TN_H: 1329200\n",
      "    len(label_mask_current_deforestation_test): 44605196\n",
      "ic| TP_H + FN_H + FP_H + TN_H: 1329200\n",
      "    len(label_mask_current_deforestation_test): 44605196\n"
     ]
    },
    {
     "name": "stdout",
     "output_type": "stream",
     "text": [
      "[0.69643958 0.87123057 0.65093355 0.02979922 0.49734253 0.64931599\n",
      " 0.13216395]\n",
      "0.1756536212171876\n",
      "threshold 0.1756536212171876\n"
     ]
    },
    {
     "name": "stderr",
     "output_type": "stream",
     "text": [
      "ic| label_current_deforestation_test_high_uncertainty.shape: (1338311,)\n",
      "    predicted_test_high_uncertainty.shape: (1338311,)\n",
      "ic| TP_H + FN_H + FP_H + TN_H: 1338311\n",
      "    len(label_mask_current_deforestation_test): 44605196\n",
      "ic| TP_H + FN_H + FP_H + TN_H: 1338311\n",
      "    len(label_mask_current_deforestation_test): 44605196\n"
     ]
    },
    {
     "name": "stdout",
     "output_type": "stream",
     "text": [
      "[0.69673974 0.87134202 0.64992594 0.03000348 0.49760792 0.65008219\n",
      " 0.1320751 ]\n",
      "0.17515751110060518\n",
      "threshold 0.17515751110060518\n"
     ]
    },
    {
     "name": "stderr",
     "output_type": "stream",
     "text": [
      "ic| label_current_deforestation_test_high_uncertainty.shape: (1342209,)\n",
      "    predicted_test_high_uncertainty.shape: (1342209,)\n",
      "ic| TP_H + FN_H + FP_H + TN_H: 1342209\n",
      "    len(label_mask_current_deforestation_test): 44605196\n",
      "ic| TP_H + FN_H + FP_H + TN_H: 1342209\n",
      "    len(label_mask_current_deforestation_test): 44605196\n"
     ]
    },
    {
     "name": "stdout",
     "output_type": "stream",
     "text": [
      "[0.69688224 0.87138426 0.64952453 0.03009087 0.49766764 0.65039027\n",
      " 0.1320352 ]\n",
      "0.1755970093576789\n",
      "threshold 0.1755970093576789\n"
     ]
    },
    {
     "name": "stderr",
     "output_type": "stream",
     "text": [
      "ic| label_current_deforestation_test_high_uncertainty.shape: (1338754,)\n",
      "    predicted_test_high_uncertainty.shape: (1338754,)\n",
      "ic| TP_H + FN_H + FP_H + TN_H: 1338754\n",
      "    len(label_mask_current_deforestation_test): 44605196\n",
      "ic| TP_H + FN_H + FP_H + TN_H: 1338754\n",
      "    len(label_mask_current_deforestation_test): 44605196\n"
     ]
    },
    {
     "name": "stdout",
     "output_type": "stream",
     "text": [
      "[0.69675672 0.87134618 0.64987126 0.03001341 0.49762092 0.65012772\n",
      " 0.13207395]\n",
      "0.17568695715588517\n",
      "threshold 0.17568695715588517\n"
     ]
    },
    {
     "name": "stderr",
     "output_type": "stream",
     "text": [
      "ic| label_current_deforestation_test_high_uncertainty.shape: (1338048,)\n",
      "    predicted_test_high_uncertainty.shape: (1338048,)\n",
      "ic| TP_H + FN_H + FP_H + TN_H: 1338048\n",
      "    len(label_mask_current_deforestation_test): 44605196\n",
      "ic| TP_H + FN_H + FP_H + TN_H: 1338048\n",
      "    len(label_mask_current_deforestation_test): 44605196\n",
      "ic| self.threshold_optimal: 0.17568695715588517\n"
     ]
    },
    {
     "name": "stdout",
     "output_type": "stream",
     "text": [
      "[0.69672664 0.87134029 0.64996317 0.02999758 0.49760215 0.65004877\n",
      " 0.13207216]\n",
      "threshold:  0.17568695715588517\n",
      "threshold 0.17568695715588517\n"
     ]
    },
    {
     "name": "stderr",
     "output_type": "stream",
     "text": [
      "ic| label_current_deforestation_test_high_uncertainty.shape: (1338048,)\n",
      "    predicted_test_high_uncertainty.shape: (1338048,)\n",
      "ic| TP_H + FN_H + FP_H + TN_H: 1338048\n",
      "    len(label_mask_current_deforestation_test): 44605196\n",
      "ic| TP_H + FN_H + FP_H + TN_H: 1338048\n",
      "    len(label_mask_current_deforestation_test): 44605196\n"
     ]
    },
    {
     "name": "stdout",
     "output_type": "stream",
     "text": [
      "[0.69672664 0.87134029 0.64996317 0.02999758 0.49760215 0.65004877\n",
      " 0.13207216]\n",
      "threshold 0.17568695715588517\n",
      "(44605196,) (44605196,)\n"
     ]
    },
    {
     "name": "stderr",
     "output_type": "stream",
     "text": [
      "ic| self.m_optimal: {'AA': array([0.02999758]),\n",
      "                     'UEO': array([0.13207216]),\n",
      "                     'f1': 71.98,\n",
      "                     'f1_H': array([0.56370045]),\n",
      "                     'f1_L': array([0.77431132]),\n",
      "                     'precision_H': array([0.49760215]),\n",
      "                     'precision_L': array([0.69672664]),\n",
      "                     'recall_H': array([0.65004877]),\n",
      "                     'recall_L': array([0.87134029]),\n",
      "                     'recall_Ltotal': array([0.64996317])}\n",
      "ic| self.m_audited_optimal: {'f1': array([0.82674938]),\n",
      "                             'precision': array([0.7616421]),\n",
      "                             'recall': array([0.90402822])}\n"
     ]
    },
    {
     "name": "stdout",
     "output_type": "stream",
     "text": [
      "cm_audited [[43502578   243157]\n",
      " [   82484   776977]]\n",
      "[0.7616421  0.90402822]\n",
      "Result idx 6: {'uncertainty_result': {'metrics': {'precision_L': array([0.69672664]), 'recall_L': array([0.87134029]), 'recall_Ltotal': array([0.64996317]), 'AA': array([0.02999758]), 'precision_H': array([0.49760215]), 'recall_H': array([0.65004877]), 'UEO': array([0.13207216]), 'f1_L': array([0.77431132]), 'f1_H': array([0.56370045]), 'f1': 71.98}, 'metrics_audited': {'precision': array([0.7616421]), 'recall': array([0.90402822]), 'f1': array([0.82674938])}, 'exp': 60}}\n",
      "Grid execution idx: 6\n",
      "Beginning run number 7\n",
      "manager.config {'training': True, 'inferring': True, 'site': 'MT', 'training_date': 'current', 'mode': 'evidential2', 'training_times': 10, 'uncertainty_method': 'pred_entropy', 'loadInference': False, 'removePolygons': True, 'plotLandsat': False, 'plotPOI': False, 'training_experiment_id': 60, 'get_multiple_metrics': False, 'start_repetition_id': 0, 'end_repetition_id': 10, 'save_probabilities': False, 'addPastDeforestationInput': True, 'classes_mode': True, 'learning_rate': 0.0001, 'use_cloud_mask': True, 'mask_out_non_biome': False, 'log_filename': 'log.pkl', 'inference_times': 1, 'dropout_training': False}\n",
      "D:/Jorge/datasets/deforestation/MT/deforestation_past_years.tif\n",
      "Loaded deforestation past years\n"
     ]
    },
    {
     "name": "stderr",
     "output_type": "stream",
     "text": [
      "ic| np.unique(deforestation_past_years, return_counts=True): (array([   0, 2008, 2009, 2010, 2011, 2012, 2013, 2014, 2015, 2016, 2017,\n",
      "                                                                    2018, 2019, 2020, 2021], dtype=uint16),\n",
      "                                                              array([161124576,   1332784,    240796,    338545,    313901,    287191,\n",
      "                                                                       708581,    648966,    876898,   1007787,   1098901,   1054092,\n",
      "                                                                      2096062,   2473828,   1400992], dtype=int64))\n"
     ]
    },
    {
     "name": "stdout",
     "output_type": "stream",
     "text": [
      "Label where deforestation past years is actual date (2020) = 1\n"
     ]
    },
    {
     "name": "stderr",
     "output_type": "stream",
     "text": [
      "ic| np.unique(deforestation_past_years, return_counts=True): (array([   0, 2008, 2009, 2010, 2011, 2012, 2013, 2014, 2015, 2016, 2017,\n",
      "                                                                    2018, 2019, 2020, 2021], dtype=uint16),\n",
      "                                                              array([161124576,   1332784,    240796,    338545,    313901,    287191,\n",
      "                                                                       708581,    648966,    876898,   1007787,   1098901,   1054092,\n",
      "                                                                      2096062,   2473828,   1400992], dtype=int64))\n"
     ]
    },
    {
     "name": "stdout",
     "output_type": "stream",
     "text": [
      "Past deforestation different from 0 (no deforestation)\n"
     ]
    },
    {
     "name": "stderr",
     "output_type": "stream",
     "text": [
      "ic| np.unique(deforestation_past_years, return_counts=True): (array([   0, 2008, 2009, 2010, 2011, 2012, 2013, 2014, 2015, 2016, 2017,\n",
      "                                                                    2018, 2019, 2020, 2021], dtype=uint16),\n",
      "                                                              array([161124576,   1332784,    240796,    338545,    313901,    287191,\n",
      "                                                                       708581,    648966,    876898,   1007787,   1098901,   1054092,\n",
      "                                                                      2096062,   2473828,   1400992], dtype=int64))\n"
     ]
    },
    {
     "name": "stdout",
     "output_type": "stream",
     "text": [
      "Past deforestation before 2008 is 2\n",
      "D:/Jorge/datasets/deforestation/MT/deforestation_before_2008_MT.tif\n"
     ]
    },
    {
     "name": "stderr",
     "output_type": "stream",
     "text": [
      "ic| np.unique(label_past_deforestation_before_2008, return_counts=True): (array([  0, 215], dtype=uint8), array([122623260,  52380640], dtype=int64))\n",
      "ic| np.unique(deforestation_past_years, return_counts=True): (array([   0, 2008, 2009, 2010, 2011, 2012, 2013, 2014, 2015, 2016, 2017,\n",
      "                                                                    2018, 2019, 2020, 2021], dtype=uint16),\n",
      "                                                              array([161124576,   1332784,    240796,    338545,    313901,    287191,\n",
      "                                                                       708581,    648966,    876898,   1007787,   1098901,   1054092,\n",
      "                                                                      2096062,   2473828,   1400992], dtype=int64))\n",
      "ic| label_per_date.shape: (16795, 10420, 1)\n"
     ]
    },
    {
     "name": "stdout",
     "output_type": "stream",
     "text": [
      "Removing bufer................\n",
      "Mask label shape:  \n",
      " (16795, 10420, 1) \n",
      " Unique values:  \n",
      " [0 1 2]\n",
      "Tiles size:  3359 2084\n",
      "Mask size:  (16795, 10420)\n"
     ]
    },
    {
     "name": "stderr",
     "output_type": "stream",
     "text": [
      "ic| image_stack.shape: (16795, 10420, 21)\n"
     ]
    },
    {
     "name": "stdout",
     "output_type": "stream",
     "text": [
      "Image shape:  (16795, 10420, 21)\n",
      "mask:  (16795, 10420)\n",
      "image stack:  (16795, 10420, 21)\n",
      "ref : (16795, 10420, 1)\n",
      "Training tiles:  [2, 4, 5, 6, 7, 12, 14, 15, 18, 21, 23, 24]\n",
      "Validation tiles:  [9, 11, 25]\n",
      "Test tiles:  [1, 3, 8, 10, 13, 16, 17, 19, 20, 22]\n",
      "-5.0 -12.0\n"
     ]
    },
    {
     "name": "stderr",
     "output_type": "stream",
     "text": [
      "ic| self.path_models+ '/' + self.method +'_'+str(self.repetition_id)+'.h5': 'D:/Jorge/datasets/deforestation/experiments/MT/exp60/models/resunet_7.h5'\n"
     ]
    },
    {
     "name": "stdout",
     "output_type": "stream",
     "text": [
      "Dropout training mode: False\n",
      "time:  0\n",
      "alpha.shape (16800, 10432, 2)\n",
      "S.shape (16800, 10432)\n",
      "K 2\n",
      "u.shape (16800, 10432)\n",
      "belief.shape (16800, 10432, 2)\n",
      "Inference runtime 102.45\n",
      "(44657480,)\n",
      "(array([0, 1], dtype=uint8), array([43783238,   874242], dtype=int64))\n",
      "(16795, 10420, 2)\n"
     ]
    },
    {
     "name": "stderr",
     "output_type": "stream",
     "text": [
      "ic| predicted_test.shape: (70001560,)\n",
      "ic| predicted_test.shape: (44657480,)\n",
      "ic| np.unique(predicted, return_counts=True): (array([0, 1], dtype=int8), array([172150794,   2853106], dtype=int64))\n",
      "    np.unique(predicted_larger_than_min_area, return_counts=True): (array([0, 1], dtype=int8), array([172307711,   2696189], dtype=int64))\n",
      "ic| np.unique(ignored_polygons, return_counts=True): (array([0, 1], dtype=int8), array([174846983,    156917], dtype=int64))\n",
      "ic| self.f1: 78.67, self.precision: 71.59, self.recall: 87.3\n",
      "ic| self.label_mask_val.shape: (21000468,)\n",
      "ic| self.label_mask_val_valid.shape: (11788073,)\n",
      "ic| f1_val: 83.4\n",
      "    precision_val: 72.11\n",
      "    recall_val: 98.89\n",
      "    mAP_val: 92.85\n"
     ]
    },
    {
     "name": "stdout",
     "output_type": "stream",
     "text": [
      "(array([0, 1], dtype=int16), array([174223587,    780313], dtype=int64))\n",
      "[0 1]\n"
     ]
    },
    {
     "name": "stderr",
     "output_type": "stream",
     "text": [
      "ic| self.label_mask.shape: (16795, 10420)\n",
      "ic| self.mask_test.shape: (16795, 10420)\n",
      "ic| self.label_mask_test.shape: (70001560,)\n",
      "ic| self.error_mask_test.shape: (44596298,)\n",
      "ic| bounds: (0.0028272500516474245, 0.9985)\n"
     ]
    },
    {
     "name": "stdout",
     "output_type": "stream",
     "text": [
      "(0.0028272500516474245, 0.9985)\n",
      "0.38314039885984297\n",
      "threshold 0.38314039885984297\n"
     ]
    },
    {
     "name": "stderr",
     "output_type": "stream",
     "text": [
      "c:\\Users\\jchamorro\\Anaconda3\\envs\\tf2\\lib\\site-packages\\scipy\\optimize\\_minimize.py:783: RuntimeWarning: Method 'bounded' does not support relative tolerance in x; defaulting to absolute tolerance.\n",
      "  warn(\"Method 'bounded' does not support relative tolerance in x; \"\n",
      "ic| label_current_deforestation_test_high_uncertainty.shape: (446861,)\n",
      "    predicted_test_high_uncertainty.shape: (446861,)\n",
      "ic| TP_H + FN_H + FP_H + TN_H: 446861\n",
      "    len(label_mask_current_deforestation_test): 44596298\n",
      "ic| TP_H + FN_H + FP_H + TN_H: 446861\n",
      "    len(label_mask_current_deforestation_test): 44596298\n"
     ]
    },
    {
     "name": "stdout",
     "output_type": "stream",
     "text": [
      "[0.74721501 0.91730663 0.78973257 0.01002014 0.51253316 0.59881549\n",
      " 0.15716704]\n",
      "0.6181868511918044\n",
      "threshold 0.6181868511918044\n"
     ]
    },
    {
     "name": "stderr",
     "output_type": "stream",
     "text": [
      "ic| label_current_deforestation_test_high_uncertainty.shape: (125060,)\n",
      "    predicted_test_high_uncertainty.shape: (125060,)\n",
      "ic| TP_H + FN_H + FP_H + TN_H: 125060\n",
      "    len(label_mask_current_deforestation_test): 44596298\n",
      "ic| TP_H + FN_H + FP_H + TN_H: 125060\n",
      "    len(label_mask_current_deforestation_test): 44596298\n"
     ]
    },
    {
     "name": "stdout",
     "output_type": "stream",
     "text": [
      "[0.71836781 0.89090609 0.84773838 0.00280427 0.64312819 0.52161577\n",
      " 0.06394025]\n",
      "0.23787370238360886\n",
      "threshold 0.23787370238360886\n"
     ]
    },
    {
     "name": "stderr",
     "output_type": "stream",
     "text": [
      "ic| label_current_deforestation_test_high_uncertainty.shape: (872580,)\n",
      "    predicted_test_high_uncertainty.shape: (872580,)\n",
      "ic| TP_H + FN_H + FP_H + TN_H: 872580\n",
      "    len(label_mask_current_deforestation_test): 44596298\n",
      "ic| TP_H + FN_H + FP_H + TN_H: 872580\n",
      "    len(label_mask_current_deforestation_test): 44596298\n"
     ]
    },
    {
     "name": "stdout",
     "output_type": "stream",
     "text": [
      "[0.75940501 0.9336128  0.7389686  0.0195662  0.54423159 0.64294336\n",
      " 0.14325444]\n",
      "0.14809394652788158\n",
      "threshold 0.14809394652788158\n"
     ]
    },
    {
     "name": "stderr",
     "output_type": "stream",
     "text": [
      "ic| label_current_deforestation_test_high_uncertainty.shape: (1416354,)\n",
      "    predicted_test_high_uncertainty.shape: (1416354,)\n",
      "ic| TP_H + FN_H + FP_H + TN_H: 1416354\n",
      "    len(label_mask_current_deforestation_test): 44596298\n",
      "ic| TP_H + FN_H + FP_H + TN_H: 1416354\n",
      "    len(label_mask_current_deforestation_test): 44596298\n"
     ]
    },
    {
     "name": "stdout",
     "output_type": "stream",
     "text": [
      "[0.76896707 0.94577534 0.68076939 0.03175945 0.57543242 0.6860936\n",
      " 0.12135101]\n",
      "0.09260700590737472\n",
      "threshold 0.09260700590737472\n"
     ]
    },
    {
     "name": "stderr",
     "output_type": "stream",
     "text": [
      "ic| label_current_deforestation_test_high_uncertainty.shape: (2070984,)\n",
      "    predicted_test_high_uncertainty.shape: (2070984,)\n",
      "ic| TP_H + FN_H + FP_H + TN_H: 2070984\n",
      "    len(label_mask_current_deforestation_test): 44596298\n",
      "ic| TP_H + FN_H + FP_H + TN_H: 2070984\n",
      "    len(label_mask_current_deforestation_test): 44596298\n"
     ]
    },
    {
     "name": "stdout",
     "output_type": "stream",
     "text": [
      "[0.78008285 0.95737734 0.62040555 0.04643847 0.59565724 0.71768697\n",
      " 0.10356073]\n",
      "0.17355322309192184\n",
      "threshold 0.17355322309192184\n"
     ]
    },
    {
     "name": "stderr",
     "output_type": "stream",
     "text": [
      "ic| label_current_deforestation_test_high_uncertainty.shape: (1221283,)\n",
      "    predicted_test_high_uncertainty.shape: (1221283,)\n",
      "ic| TP_H + FN_H + FP_H + TN_H: 1221283\n",
      "    len(label_mask_current_deforestation_test): 44596298\n",
      "ic| TP_H + FN_H + FP_H + TN_H: 1221283\n",
      "    len(label_mask_current_deforestation_test): 44596298\n"
     ]
    },
    {
     "name": "stdout",
     "output_type": "stream",
     "text": [
      "[0.7659789  0.94175365 0.70087902 0.0273853  0.56552643 0.67299502\n",
      " 0.12847763]\n",
      "0.14368203878876867\n",
      "threshold 0.14368203878876867\n"
     ]
    },
    {
     "name": "stderr",
     "output_type": "stream",
     "text": [
      "ic| label_current_deforestation_test_high_uncertainty.shape: (1455089,)\n",
      "    predicted_test_high_uncertainty.shape: (1455089,)\n",
      "ic| TP_H + FN_H + FP_H + TN_H: 1455089\n",
      "    len(label_mask_current_deforestation_test): 44596298\n",
      "ic| TP_H + FN_H + FP_H + TN_H: 1455089\n",
      "    len(label_mask_current_deforestation_test): 44596298\n"
     ]
    },
    {
     "name": "stdout",
     "output_type": "stream",
     "text": [
      "[0.76952764 0.94658575 0.67692827 0.03262802 0.57719189 0.68831997\n",
      " 0.12004482]\n",
      "0.1586465341199717\n",
      "threshold 0.1586465341199717\n"
     ]
    },
    {
     "name": "stderr",
     "output_type": "stream",
     "text": [
      "ic| label_current_deforestation_test_high_uncertainty.shape: (1330209,)\n",
      "    predicted_test_high_uncertainty.shape: (1330209,)\n",
      "ic| TP_H + FN_H + FP_H + TN_H: 1330209\n",
      "    len(label_mask_current_deforestation_test): 44596298\n",
      "ic| TP_H + FN_H + FP_H + TN_H: 1330209\n",
      "    len(label_mask_current_deforestation_test): 44596298\n"
     ]
    },
    {
     "name": "stdout",
     "output_type": "stream",
     "text": [
      "[0.76764201 0.94399746 0.68947684 0.02982779 0.57138246 0.68072005\n",
      " 0.12435794]\n",
      "0.1594628717591557\n",
      "threshold 0.1594628717591557\n"
     ]
    },
    {
     "name": "stderr",
     "output_type": "stream",
     "text": [
      "ic| label_current_deforestation_test_high_uncertainty.shape: (1323929,)\n",
      "    predicted_test_high_uncertainty.shape: (1323929,)\n",
      "ic| TP_H + FN_H + FP_H + TN_H: 1323929\n",
      "    len(label_mask_current_deforestation_test): 44596298\n",
      "ic| TP_H + FN_H + FP_H + TN_H: 1323929\n",
      "    len(label_mask_current_deforestation_test): 44596298\n"
     ]
    },
    {
     "name": "stdout",
     "output_type": "stream",
     "text": [
      "[0.76757387 0.94386838 0.69016771 0.02968697 0.57097329 0.68025642\n",
      " 0.12459588]\n",
      "0.15601805514095518\n",
      "threshold 0.15601805514095518\n"
     ]
    },
    {
     "name": "stderr",
     "output_type": "stream",
     "text": [
      "ic| label_current_deforestation_test_high_uncertainty.shape: (1350842,)\n",
      "    predicted_test_high_uncertainty.shape: (1350842,)\n",
      "ic| TP_H + FN_H + FP_H + TN_H: 1350842\n",
      "    len(label_mask_current_deforestation_test): 44596298\n",
      "ic| TP_H + FN_H + FP_H + TN_H: 1350842\n",
      "    len(label_mask_current_deforestation_test): 44596298\n"
     ]
    },
    {
     "name": "stdout",
     "output_type": "stream",
     "text": [
      "[0.76797993 0.94439394 0.68740308 0.03029045 0.57232307 0.6820807\n",
      " 0.12361231]\n",
      "0.15764254448870202\n",
      "threshold 0.15764254448870202\n"
     ]
    },
    {
     "name": "stderr",
     "output_type": "stream",
     "text": [
      "ic| label_current_deforestation_test_high_uncertainty.shape: (1338022,)\n",
      "    predicted_test_high_uncertainty.shape: (1338022,)\n",
      "ic| TP_H + FN_H + FP_H + TN_H: 1338022\n",
      "    len(label_mask_current_deforestation_test): 44596298\n",
      "ic| TP_H + FN_H + FP_H + TN_H: 1338022\n",
      "    len(label_mask_current_deforestation_test): 44596298\n"
     ]
    },
    {
     "name": "stdout",
     "output_type": "stream",
     "text": [
      "[0.76777478 0.94414169 0.68868462 0.03000298 0.57173573 0.68125627\n",
      " 0.12407599]\n",
      "0.15750340425833032\n",
      "threshold 0.15750340425833032\n"
     ]
    },
    {
     "name": "stderr",
     "output_type": "stream",
     "text": [
      "ic| label_current_deforestation_test_high_uncertainty.shape: (1339105,)\n",
      "    predicted_test_high_uncertainty.shape: (1339105,)\n",
      "ic| TP_H + FN_H + FP_H + TN_H: 1339105\n",
      "    len(label_mask_current_deforestation_test): 44596298\n",
      "ic| TP_H + FN_H + FP_H + TN_H: 1339105\n",
      "    len(label_mask_current_deforestation_test): 44596298\n"
     ]
    },
    {
     "name": "stdout",
     "output_type": "stream",
     "text": [
      "[0.76779024 0.94416312 0.68859025 0.03002727 0.57177842 0.68131168\n",
      " 0.12403216]\n",
      "0.15786373687036612\n",
      "threshold 0.15786373687036612\n"
     ]
    },
    {
     "name": "stderr",
     "output_type": "stream",
     "text": [
      "ic| label_current_deforestation_test_high_uncertainty.shape: (1336357,)\n",
      "    predicted_test_high_uncertainty.shape: (1336357,)\n",
      "ic| TP_H + FN_H + FP_H + TN_H: 1336357\n",
      "    len(label_mask_current_deforestation_test): 44596298\n",
      "ic| TP_H + FN_H + FP_H + TN_H: 1336357\n",
      "    len(label_mask_current_deforestation_test): 44596298\n"
     ]
    },
    {
     "name": "stdout",
     "output_type": "stream",
     "text": [
      "[0.76775278 0.94409467 0.6888384  0.02996565 0.57165949 0.68118946\n",
      " 0.12413601]\n",
      "0.15767588016025216\n",
      "threshold 0.15767588016025216\n"
     ]
    },
    {
     "name": "stderr",
     "output_type": "stream",
     "text": [
      "ic| label_current_deforestation_test_high_uncertainty.shape: (1337761,)\n",
      "    predicted_test_high_uncertainty.shape: (1337761,)\n",
      "ic| TP_H + FN_H + FP_H + TN_H: 1337761\n",
      "    len(label_mask_current_deforestation_test): 44596298\n",
      "ic| TP_H + FN_H + FP_H + TN_H: 1337761\n",
      "    len(label_mask_current_deforestation_test): 44596298\n"
     ]
    },
    {
     "name": "stdout",
     "output_type": "stream",
     "text": [
      "[0.76776975 0.9441362  0.68871142 0.02999713 0.57172493 0.68123937\n",
      " 0.12408454]\n",
      "0.15770921583229675\n",
      "threshold 0.15770921583229675\n"
     ]
    },
    {
     "name": "stderr",
     "output_type": "stream",
     "text": [
      "ic| label_current_deforestation_test_high_uncertainty.shape: (1337527,)\n",
      "    predicted_test_high_uncertainty.shape: (1337527,)\n",
      "ic| TP_H + FN_H + FP_H + TN_H: 1337527\n",
      "    len(label_mask_current_deforestation_test): 44596298\n",
      "ic| TP_H + FN_H + FP_H + TN_H: 1337527\n",
      "    len(label_mask_current_deforestation_test): 44596298\n",
      "ic| self.threshold_optimal: 0.15767588016025216\n"
     ]
    },
    {
     "name": "stdout",
     "output_type": "stream",
     "text": [
      "[0.76776442 0.94412912 0.68873705 0.02999188 0.57171567 0.68122677\n",
      " 0.12409022]\n",
      "threshold:  0.15767588016025216\n",
      "threshold 0.15767588016025216\n"
     ]
    },
    {
     "name": "stderr",
     "output_type": "stream",
     "text": [
      "ic| label_current_deforestation_test_high_uncertainty.shape: (1337761,)\n",
      "    predicted_test_high_uncertainty.shape: (1337761,)\n",
      "ic| TP_H + FN_H + FP_H + TN_H: 1337761\n",
      "    len(label_mask_current_deforestation_test): 44596298\n",
      "ic| TP_H + FN_H + FP_H + TN_H: 1337761\n",
      "    len(label_mask_current_deforestation_test): 44596298\n"
     ]
    },
    {
     "name": "stdout",
     "output_type": "stream",
     "text": [
      "[0.76776975 0.9441362  0.68871142 0.02999713 0.57172493 0.68123937\n",
      " 0.12408454]\n",
      "threshold 0.15767588016025216\n",
      "(44596298,) (44596298,)\n"
     ]
    },
    {
     "name": "stderr",
     "output_type": "stream",
     "text": [
      "ic| self.m_optimal: {'AA': array([0.02999713]),\n",
      "                     'UEO': array([0.12408454]),\n",
      "                     'f1': 78.67,\n",
      "                     'f1_H': array([0.62169613]),\n",
      "                     'f1_L': array([0.84686804]),\n",
      "                     'precision_H': array([0.57172493]),\n",
      "                     'precision_L': array([0.76776975]),\n",
      "                     'recall_H': array([0.68123937]),\n",
      "                     'recall_L': array([0.9441362]),\n",
      "                     'recall_Ltotal': array([0.68871142])}\n",
      "ic| self.m_audited_optimal: {'f1': array([0.88509341]),\n",
      "                             'precision': array([0.82158006]),\n",
      "                             'recall': array([0.95924949])}\n"
     ]
    },
    {
     "name": "stdout",
     "output_type": "stream",
     "text": [
      "cm_audited [[43559145   178808]\n",
      " [   34978   823367]]\n",
      "[0.82158006 0.95924949]\n",
      "Result idx 7: {'uncertainty_result': {'metrics': {'precision_L': array([0.76776975]), 'recall_L': array([0.9441362]), 'recall_Ltotal': array([0.68871142]), 'AA': array([0.02999713]), 'precision_H': array([0.57172493]), 'recall_H': array([0.68123937]), 'UEO': array([0.12408454]), 'f1_L': array([0.84686804]), 'f1_H': array([0.62169613]), 'f1': 78.67}, 'metrics_audited': {'precision': array([0.82158006]), 'recall': array([0.95924949]), 'f1': array([0.88509341])}, 'exp': 60}}\n",
      "Grid execution idx: 7\n",
      "Beginning run number 8\n",
      "manager.config {'training': True, 'inferring': True, 'site': 'MT', 'training_date': 'current', 'mode': 'evidential2', 'training_times': 10, 'uncertainty_method': 'pred_entropy', 'loadInference': False, 'removePolygons': True, 'plotLandsat': False, 'plotPOI': False, 'training_experiment_id': 60, 'get_multiple_metrics': False, 'start_repetition_id': 0, 'end_repetition_id': 10, 'save_probabilities': False, 'addPastDeforestationInput': True, 'classes_mode': True, 'learning_rate': 0.0001, 'use_cloud_mask': True, 'mask_out_non_biome': False, 'log_filename': 'log.pkl', 'inference_times': 1, 'dropout_training': False}\n",
      "D:/Jorge/datasets/deforestation/MT/deforestation_past_years.tif\n",
      "Loaded deforestation past years\n"
     ]
    },
    {
     "name": "stderr",
     "output_type": "stream",
     "text": [
      "ic| np.unique(deforestation_past_years, return_counts=True): (array([   0, 2008, 2009, 2010, 2011, 2012, 2013, 2014, 2015, 2016, 2017,\n",
      "                                                                    2018, 2019, 2020, 2021], dtype=uint16),\n",
      "                                                              array([161124576,   1332784,    240796,    338545,    313901,    287191,\n",
      "                                                                       708581,    648966,    876898,   1007787,   1098901,   1054092,\n",
      "                                                                      2096062,   2473828,   1400992], dtype=int64))\n"
     ]
    },
    {
     "name": "stdout",
     "output_type": "stream",
     "text": [
      "Label where deforestation past years is actual date (2020) = 1\n"
     ]
    },
    {
     "name": "stderr",
     "output_type": "stream",
     "text": [
      "ic| np.unique(deforestation_past_years, return_counts=True): (array([   0, 2008, 2009, 2010, 2011, 2012, 2013, 2014, 2015, 2016, 2017,\n",
      "                                                                    2018, 2019, 2020, 2021], dtype=uint16),\n",
      "                                                              array([161124576,   1332784,    240796,    338545,    313901,    287191,\n",
      "                                                                       708581,    648966,    876898,   1007787,   1098901,   1054092,\n",
      "                                                                      2096062,   2473828,   1400992], dtype=int64))\n"
     ]
    },
    {
     "name": "stdout",
     "output_type": "stream",
     "text": [
      "Past deforestation different from 0 (no deforestation)\n"
     ]
    },
    {
     "name": "stderr",
     "output_type": "stream",
     "text": [
      "ic| np.unique(deforestation_past_years, return_counts=True): (array([   0, 2008, 2009, 2010, 2011, 2012, 2013, 2014, 2015, 2016, 2017,\n",
      "                                                                    2018, 2019, 2020, 2021], dtype=uint16),\n",
      "                                                              array([161124576,   1332784,    240796,    338545,    313901,    287191,\n",
      "                                                                       708581,    648966,    876898,   1007787,   1098901,   1054092,\n",
      "                                                                      2096062,   2473828,   1400992], dtype=int64))\n"
     ]
    },
    {
     "name": "stdout",
     "output_type": "stream",
     "text": [
      "Past deforestation before 2008 is 2\n",
      "D:/Jorge/datasets/deforestation/MT/deforestation_before_2008_MT.tif\n"
     ]
    },
    {
     "name": "stderr",
     "output_type": "stream",
     "text": [
      "ic| np.unique(label_past_deforestation_before_2008, return_counts=True): (array([  0, 215], dtype=uint8), array([122623260,  52380640], dtype=int64))\n",
      "ic| np.unique(deforestation_past_years, return_counts=True): (array([   0, 2008, 2009, 2010, 2011, 2012, 2013, 2014, 2015, 2016, 2017,\n",
      "                                                                    2018, 2019, 2020, 2021], dtype=uint16),\n",
      "                                                              array([161124576,   1332784,    240796,    338545,    313901,    287191,\n",
      "                                                                       708581,    648966,    876898,   1007787,   1098901,   1054092,\n",
      "                                                                      2096062,   2473828,   1400992], dtype=int64))\n",
      "ic| label_per_date.shape: (16795, 10420, 1)\n"
     ]
    },
    {
     "name": "stdout",
     "output_type": "stream",
     "text": [
      "Removing bufer................\n",
      "Mask label shape:  \n",
      " (16795, 10420, 1) \n",
      " Unique values:  \n",
      " [0 1 2]\n",
      "Tiles size:  3359 2084\n",
      "Mask size:  (16795, 10420)\n"
     ]
    },
    {
     "name": "stderr",
     "output_type": "stream",
     "text": [
      "ic| image_stack.shape: (16795, 10420, 21)\n"
     ]
    },
    {
     "name": "stdout",
     "output_type": "stream",
     "text": [
      "Image shape:  (16795, 10420, 21)\n",
      "mask:  (16795, 10420)\n",
      "image stack:  (16795, 10420, 21)\n",
      "ref : (16795, 10420, 1)\n",
      "Training tiles:  [2, 4, 5, 6, 7, 12, 14, 15, 18, 21, 23, 24]\n",
      "Validation tiles:  [9, 11, 25]\n",
      "Test tiles:  [1, 3, 8, 10, 13, 16, 17, 19, 20, 22]\n",
      "-5.0 -12.0\n"
     ]
    },
    {
     "name": "stderr",
     "output_type": "stream",
     "text": [
      "ic| self.path_models+ '/' + self.method +'_'+str(self.repetition_id)+'.h5': 'D:/Jorge/datasets/deforestation/experiments/MT/exp60/models/resunet_8.h5'\n"
     ]
    },
    {
     "name": "stdout",
     "output_type": "stream",
     "text": [
      "Dropout training mode: False\n",
      "time:  0\n",
      "alpha.shape (16800, 10432, 2)\n",
      "S.shape (16800, 10432)\n",
      "K 2\n",
      "u.shape (16800, 10432)\n",
      "belief.shape (16800, 10432, 2)\n",
      "Inference runtime 97.85\n",
      "(44657480,)\n",
      "(array([0, 1], dtype=uint8), array([43783238,   874242], dtype=int64))\n",
      "(16795, 10420, 2)\n"
     ]
    },
    {
     "name": "stderr",
     "output_type": "stream",
     "text": [
      "ic| predicted_test.shape: (70001560,)\n",
      "ic| predicted_test.shape: (44657480,)\n",
      "ic| np.unique(predicted, return_counts=True): (array([0, 1], dtype=int8), array([172436284,   2567616], dtype=int64))\n",
      "    np.unique(predicted_larger_than_min_area, return_counts=True): (array([0, 1], dtype=int8), array([172577363,   2426537], dtype=int64))\n",
      "ic| np.unique(ignored_polygons, return_counts=True): (array([0, 1], dtype=int8), array([174862821,    141079], dtype=int64))\n",
      "ic| self.f1: 76.11, self.precision: 75.04, self.recall: 77.21\n",
      "ic| self.label_mask_val.shape: (21000468,)\n",
      "ic| self.label_mask_val_valid.shape: (11782810,)\n",
      "ic| f1_val: 92.16\n",
      "    precision_val: 86.61\n",
      "    recall_val: 98.46\n",
      "    mAP_val: 97.66\n"
     ]
    },
    {
     "name": "stdout",
     "output_type": "stream",
     "text": [
      "(array([0, 1], dtype=int16), array([174313293,    690607], dtype=int64))\n",
      "[0 1]\n"
     ]
    },
    {
     "name": "stderr",
     "output_type": "stream",
     "text": [
      "ic| self.label_mask.shape: (16795, 10420)\n",
      "ic| self.mask_test.shape: (16795, 10420)\n",
      "ic| self.label_mask_test.shape: (70001560,)\n",
      "ic| self.error_mask_test.shape: (44605837,)\n",
      "ic| bounds: (0.004130892574191094, 0.9985)\n"
     ]
    },
    {
     "name": "stdout",
     "output_type": "stream",
     "text": [
      "(0.004130892574191094, 0.9985)\n",
      "0.3839460942479546\n",
      "threshold 0.3839460942479546\n"
     ]
    },
    {
     "name": "stderr",
     "output_type": "stream",
     "text": [
      "c:\\Users\\jchamorro\\Anaconda3\\envs\\tf2\\lib\\site-packages\\scipy\\optimize\\_minimize.py:783: RuntimeWarning: Method 'bounded' does not support relative tolerance in x; defaulting to absolute tolerance.\n",
      "  warn(\"Method 'bounded' does not support relative tolerance in x; \"\n",
      "ic| label_current_deforestation_test_high_uncertainty.shape: (411779,)\n",
      "    predicted_test_high_uncertainty.shape: (411779,)\n",
      "ic| TP_H + FN_H + FP_H + TN_H: 411779\n",
      "    len(label_mask_current_deforestation_test): 44605837\n",
      "ic| TP_H + FN_H + FP_H + TN_H: 411779\n",
      "    len(label_mask_current_deforestation_test): 44605837\n"
     ]
    },
    {
     "name": "stdout",
     "output_type": "stream",
     "text": [
      "[0.7836245  0.80637219 0.7119997  0.0092315  0.49948261 0.51329245\n",
      " 0.13840104]\n",
      "0.6186847983262365\n",
      "threshold 0.6186847983262365\n"
     ]
    },
    {
     "name": "stderr",
     "output_type": "stream",
     "text": [
      "ic| label_current_deforestation_test_high_uncertainty.shape: (100945,)\n",
      "    predicted_test_high_uncertainty.shape: (100945,)\n",
      "ic| TP_H + FN_H + FP_H + TN_H: 100945\n",
      "    len(label_mask_current_deforestation_test): 44605837\n",
      "ic| TP_H + FN_H + FP_H + TN_H: 100945\n",
      "    len(label_mask_current_deforestation_test): 44605837\n"
     ]
    },
    {
     "name": "stdout",
     "output_type": "stream",
     "text": [
      "[0.76073736 0.77557503 0.76021532 0.00226304 0.40119643 0.59869619\n",
      " 0.04448354]\n",
      "0.23886959665247293\n",
      "threshold 0.23886959665247293\n"
     ]
    },
    {
     "name": "stderr",
     "output_type": "stream",
     "text": [
      "ic| label_current_deforestation_test_high_uncertainty.shape: (865086,)\n",
      "    predicted_test_high_uncertainty.shape: (865086,)\n",
      "ic| TP_H + FN_H + FP_H + TN_H: 865086\n",
      "    len(label_mask_current_deforestation_test): 44605837\n",
      "ic| TP_H + FN_H + FP_H + TN_H: 865086\n",
      "    len(label_mask_current_deforestation_test): 44605837\n"
     ]
    },
    {
     "name": "stdout",
     "output_type": "stream",
     "text": [
      "[0.80157972 0.82513082 0.67233877 0.01939401 0.5246358  0.53859489\n",
      " 0.13368227]\n",
      "0.14920739016967283\n",
      "threshold 0.14920739016967283\n"
     ]
    },
    {
     "name": "stderr",
     "output_type": "stream",
     "text": [
      "ic| label_current_deforestation_test_high_uncertainty.shape: (1491731,)\n",
      "    predicted_test_high_uncertainty.shape: (1491731,)\n",
      "ic| TP_H + FN_H + FP_H + TN_H: 1491731\n",
      "    len(label_mask_current_deforestation_test): 44605837\n",
      "ic| TP_H + FN_H + FP_H + TN_H: 1491731\n",
      "    len(label_mask_current_deforestation_test): 44605837\n"
     ]
    },
    {
     "name": "stdout",
     "output_type": "stream",
     "text": [
      "[0.81651886 0.84154698 0.62591551 0.03344251 0.55720855 0.57040658\n",
      " 0.1134761 ]\n",
      "0.09379309905699121\n",
      "threshold 0.09379309905699121\n"
     ]
    },
    {
     "name": "stderr",
     "output_type": "stream",
     "text": [
      "ic| label_current_deforestation_test_high_uncertainty.shape: (2173107,)\n",
      "    predicted_test_high_uncertainty.shape: (2173107,)\n",
      "ic| TP_H + FN_H + FP_H + TN_H: 2173107\n",
      "    len(label_mask_current_deforestation_test): 44605837\n",
      "ic| TP_H + FN_H + FP_H + TN_H: 2173107\n",
      "    len(label_mask_current_deforestation_test): 44605837\n"
     ]
    },
    {
     "name": "stdout",
     "output_type": "stream",
     "text": [
      "[0.82539746 0.86720311 0.58036924 0.048718   0.58853629 0.57958737\n",
      " 0.099693  ]\n",
      "0.17773890871141082\n",
      "threshold 0.17773890871141082\n"
     ]
    },
    {
     "name": "stderr",
     "output_type": "stream",
     "text": [
      "ic| label_current_deforestation_test_high_uncertainty.shape: (1255126,)\n",
      "    predicted_test_high_uncertainty.shape: (1255126,)\n",
      "ic| TP_H + FN_H + FP_H + TN_H: 1255126\n",
      "    len(label_mask_current_deforestation_test): 44605837\n",
      "ic| TP_H + FN_H + FP_H + TN_H: 1255126\n",
      "    len(label_mask_current_deforestation_test): 44605837\n"
     ]
    },
    {
     "name": "stdout",
     "output_type": "stream",
     "text": [
      "[0.81185681 0.83495865 0.64322261 0.02813816 0.54463039 0.56110458\n",
      " 0.12011012]\n",
      "0.17598906890297877\n",
      "threshold 0.17598906890297877\n"
     ]
    },
    {
     "name": "stderr",
     "output_type": "stream",
     "text": [
      "ic| label_current_deforestation_test_high_uncertainty.shape: (1268516,)\n",
      "    predicted_test_high_uncertainty.shape: (1268516,)\n",
      "ic| TP_H + FN_H + FP_H + TN_H: 1268516\n",
      "    len(label_mask_current_deforestation_test): 44605837\n",
      "ic| TP_H + FN_H + FP_H + TN_H: 1268516\n",
      "    len(label_mask_current_deforestation_test): 44605837\n"
     ]
    },
    {
     "name": "stdout",
     "output_type": "stream",
     "text": [
      "[0.81213194 0.83529106 0.64224094 0.02843834 0.5453746  0.56175455\n",
      " 0.11967862]\n",
      "0.166741968684603\n",
      "threshold 0.166741968684603\n"
     ]
    },
    {
     "name": "stderr",
     "output_type": "stream",
     "text": [
      "ic| label_current_deforestation_test_high_uncertainty.shape: (1341324,)\n",
      "    predicted_test_high_uncertainty.shape: (1341324,)\n",
      "ic| TP_H + FN_H + FP_H + TN_H: 1341324\n",
      "    len(label_mask_current_deforestation_test): 44605837\n",
      "ic| TP_H + FN_H + FP_H + TN_H: 1341324\n",
      "    len(label_mask_current_deforestation_test): 44605837\n"
     ]
    },
    {
     "name": "stdout",
     "output_type": "stream",
     "text": [
      "[0.81376355 0.83724827 0.63690575 0.03007059 0.54900933 0.56487143\n",
      " 0.11759157]\n",
      "0.16004435567030334\n",
      "threshold 0.16004435567030334\n"
     ]
    },
    {
     "name": "stderr",
     "output_type": "stream",
     "text": [
      "ic| label_current_deforestation_test_high_uncertainty.shape: (1396634,)\n",
      "    predicted_test_high_uncertainty.shape: (1396634,)\n",
      "ic| TP_H + FN_H + FP_H + TN_H: 1396634\n",
      "    len(label_mask_current_deforestation_test): 44605837\n",
      "ic| TP_H + FN_H + FP_H + TN_H: 1396634\n",
      "    len(label_mask_current_deforestation_test): 44605837\n"
     ]
    },
    {
     "name": "stdout",
     "output_type": "stream",
     "text": [
      "[0.8148928  0.83878258 0.63288371 0.03131057 0.55185151 0.56701998\n",
      " 0.11605039]\n",
      "0.16765426238965575\n",
      "threshold 0.16765426238965575\n"
     ]
    },
    {
     "name": "stderr",
     "output_type": "stream",
     "text": [
      "ic| label_current_deforestation_test_high_uncertainty.shape: (1333762,)\n",
      "    predicted_test_high_uncertainty.shape: (1333762,)\n",
      "ic| TP_H + FN_H + FP_H + TN_H: 1333762\n",
      "    len(label_mask_current_deforestation_test): 44605837\n",
      "ic| TP_H + FN_H + FP_H + TN_H: 1333762\n",
      "    len(label_mask_current_deforestation_test): 44605837\n"
     ]
    },
    {
     "name": "stdout",
     "output_type": "stream",
     "text": [
      "[0.81360136 0.83704319 0.63748382 0.02990106 0.54859218 0.56452463\n",
      " 0.117799  ]\n",
      "0.16665137225763027\n",
      "threshold 0.16665137225763027\n"
     ]
    },
    {
     "name": "stderr",
     "output_type": "stream",
     "text": [
      "ic| label_current_deforestation_test_high_uncertainty.shape: (1342081,)\n",
      "    predicted_test_high_uncertainty.shape: (1342081,)\n",
      "ic| TP_H + FN_H + FP_H + TN_H: 1342081\n",
      "    len(label_mask_current_deforestation_test): 44605837\n",
      "ic| TP_H + FN_H + FP_H + TN_H: 1342081\n",
      "    len(label_mask_current_deforestation_test): 44605837\n"
     ]
    },
    {
     "name": "stdout",
     "output_type": "stream",
     "text": [
      "[0.81378465 0.83726951 0.63686737 0.03008756 0.54901479 0.56487808\n",
      " 0.11756909]\n",
      "0.16712678333937078\n",
      "threshold 0.16712678333937078\n"
     ]
    },
    {
     "name": "stderr",
     "output_type": "stream",
     "text": [
      "ic| label_current_deforestation_test_high_uncertainty.shape: (1338162,)\n",
      "    predicted_test_high_uncertainty.shape: (1338162,)\n",
      "ic| TP_H + FN_H + FP_H + TN_H: 1338162\n",
      "    len(label_mask_current_deforestation_test): 44605837\n",
      "ic| TP_H + FN_H + FP_H + TN_H: 1338162\n",
      "    len(label_mask_current_deforestation_test): 44605837\n"
     ]
    },
    {
     "name": "stdout",
     "output_type": "stream",
     "text": [
      "[0.81369703 0.83715052 0.63715466 0.02999971 0.54882284 0.5647426\n",
      " 0.11767036]\n",
      "0.16732826240822612\n",
      "threshold 0.16732826240822612\n"
     ]
    },
    {
     "name": "stderr",
     "output_type": "stream",
     "text": [
      "ic| label_current_deforestation_test_high_uncertainty.shape: (1336479,)\n",
      "    predicted_test_high_uncertainty.shape: (1336479,)\n",
      "ic| TP_H + FN_H + FP_H + TN_H: 1336479\n",
      "    len(label_mask_current_deforestation_test): 44605837\n",
      "ic| TP_H + FN_H + FP_H + TN_H: 1336479\n",
      "    len(label_mask_current_deforestation_test): 44605837\n"
     ]
    },
    {
     "name": "stdout",
     "output_type": "stream",
     "text": [
      "[0.81366488 0.8371187  0.63729888 0.02996198 0.54870085 0.56461445\n",
      " 0.11772251]\n",
      "0.16707913376424455\n",
      "threshold 0.16707913376424455\n"
     ]
    },
    {
     "name": "stderr",
     "output_type": "stream",
     "text": [
      "ic| label_current_deforestation_test_high_uncertainty.shape: (1338593,)\n",
      "    predicted_test_high_uncertainty.shape: (1338593,)\n",
      "ic| TP_H + FN_H + FP_H + TN_H: 1338593\n",
      "    len(label_mask_current_deforestation_test): 44605837\n",
      "ic| TP_H + FN_H + FP_H + TN_H: 1338593\n",
      "    len(label_mask_current_deforestation_test): 44605837\n"
     ]
    },
    {
     "name": "stdout",
     "output_type": "stream",
     "text": [
      "[0.81370883 0.83716203 0.63711279 0.03000937 0.54885294 0.56477488\n",
      " 0.11766227]\n",
      "0.16716576456508778\n",
      "threshold 0.16716576456508778\n"
     ]
    },
    {
     "name": "stderr",
     "output_type": "stream",
     "text": [
      "ic| label_current_deforestation_test_high_uncertainty.shape: (1337821,)\n",
      "    predicted_test_high_uncertainty.shape: (1337821,)\n",
      "ic| TP_H + FN_H + FP_H + TN_H: 1337821\n",
      "    len(label_mask_current_deforestation_test): 44605837\n",
      "ic| TP_H + FN_H + FP_H + TN_H: 1337821\n",
      "    len(label_mask_current_deforestation_test): 44605837\n",
      "ic| self.threshold_optimal: 0.16712678333937078\n"
     ]
    },
    {
     "name": "stdout",
     "output_type": "stream",
     "text": [
      "[0.81369066 0.83714395 0.63718374 0.02999206 0.54879803 0.56471711\n",
      " 0.11768097]\n",
      "threshold:  0.16712678333937078\n",
      "threshold 0.16712678333937078\n"
     ]
    },
    {
     "name": "stderr",
     "output_type": "stream",
     "text": [
      "ic| label_current_deforestation_test_high_uncertainty.shape: (1338162,)\n",
      "    predicted_test_high_uncertainty.shape: (1338162,)\n",
      "ic| TP_H + FN_H + FP_H + TN_H: 1338162\n",
      "    len(label_mask_current_deforestation_test): 44605837\n",
      "ic| TP_H + FN_H + FP_H + TN_H: 1338162\n",
      "    len(label_mask_current_deforestation_test): 44605837\n"
     ]
    },
    {
     "name": "stdout",
     "output_type": "stream",
     "text": [
      "[0.81369703 0.83715052 0.63715466 0.02999971 0.54882284 0.5647426\n",
      " 0.11767036]\n",
      "threshold 0.16712678333937078\n",
      "(44605837,) (44605837,)\n"
     ]
    },
    {
     "name": "stderr",
     "output_type": "stream",
     "text": [
      "ic| self.m_optimal: {'AA': array([0.02999971]),\n",
      "                     'UEO': array([0.11767036]),\n",
      "                     'f1': 76.11,\n",
      "                     'f1_H': array([0.55666892]),\n",
      "                     'f1_L': array([0.82525718]),\n",
      "                     'precision_H': array([0.54882284]),\n",
      "                     'precision_L': array([0.81369703]),\n",
      "                     'recall_H': array([0.5647426]),\n",
      "                     'recall_L': array([0.83715052]),\n",
      "                     'recall_Ltotal': array([0.63715466])}\n",
      "ic| self.m_audited_optimal: {'f1': array([0.86655043]),\n",
      "                             'precision': array([0.85724952]),\n",
      "                             'recall': array([0.87605538])}\n"
     ]
    },
    {
     "name": "stdout",
     "output_type": "stream",
     "text": [
      "cm_audited [[43620650   125424]\n",
      " [  106563   753200]]\n",
      "[0.85724952 0.87605538]\n",
      "Result idx 8: {'uncertainty_result': {'metrics': {'precision_L': array([0.81369703]), 'recall_L': array([0.83715052]), 'recall_Ltotal': array([0.63715466]), 'AA': array([0.02999971]), 'precision_H': array([0.54882284]), 'recall_H': array([0.5647426]), 'UEO': array([0.11767036]), 'f1_L': array([0.82525718]), 'f1_H': array([0.55666892]), 'f1': 76.11}, 'metrics_audited': {'precision': array([0.85724952]), 'recall': array([0.87605538]), 'f1': array([0.86655043])}, 'exp': 60}}\n",
      "Grid execution idx: 8\n",
      "Beginning run number 9\n",
      "manager.config {'training': True, 'inferring': True, 'site': 'MT', 'training_date': 'current', 'mode': 'evidential2', 'training_times': 10, 'uncertainty_method': 'pred_entropy', 'loadInference': False, 'removePolygons': True, 'plotLandsat': False, 'plotPOI': False, 'training_experiment_id': 60, 'get_multiple_metrics': False, 'start_repetition_id': 0, 'end_repetition_id': 10, 'save_probabilities': False, 'addPastDeforestationInput': True, 'classes_mode': True, 'learning_rate': 0.0001, 'use_cloud_mask': True, 'mask_out_non_biome': False, 'log_filename': 'log.pkl', 'inference_times': 1, 'dropout_training': False}\n",
      "D:/Jorge/datasets/deforestation/MT/deforestation_past_years.tif\n",
      "Loaded deforestation past years\n"
     ]
    },
    {
     "name": "stderr",
     "output_type": "stream",
     "text": [
      "ic| np.unique(deforestation_past_years, return_counts=True): (array([   0, 2008, 2009, 2010, 2011, 2012, 2013, 2014, 2015, 2016, 2017,\n",
      "                                                                    2018, 2019, 2020, 2021], dtype=uint16),\n",
      "                                                              array([161124576,   1332784,    240796,    338545,    313901,    287191,\n",
      "                                                                       708581,    648966,    876898,   1007787,   1098901,   1054092,\n",
      "                                                                      2096062,   2473828,   1400992], dtype=int64))\n"
     ]
    },
    {
     "name": "stdout",
     "output_type": "stream",
     "text": [
      "Label where deforestation past years is actual date (2020) = 1\n"
     ]
    },
    {
     "name": "stderr",
     "output_type": "stream",
     "text": [
      "ic| np.unique(deforestation_past_years, return_counts=True): (array([   0, 2008, 2009, 2010, 2011, 2012, 2013, 2014, 2015, 2016, 2017,\n",
      "                                                                    2018, 2019, 2020, 2021], dtype=uint16),\n",
      "                                                              array([161124576,   1332784,    240796,    338545,    313901,    287191,\n",
      "                                                                       708581,    648966,    876898,   1007787,   1098901,   1054092,\n",
      "                                                                      2096062,   2473828,   1400992], dtype=int64))\n"
     ]
    },
    {
     "name": "stdout",
     "output_type": "stream",
     "text": [
      "Past deforestation different from 0 (no deforestation)\n"
     ]
    },
    {
     "name": "stderr",
     "output_type": "stream",
     "text": [
      "ic| np.unique(deforestation_past_years, return_counts=True): (array([   0, 2008, 2009, 2010, 2011, 2012, 2013, 2014, 2015, 2016, 2017,\n",
      "                                                                    2018, 2019, 2020, 2021], dtype=uint16),\n",
      "                                                              array([161124576,   1332784,    240796,    338545,    313901,    287191,\n",
      "                                                                       708581,    648966,    876898,   1007787,   1098901,   1054092,\n",
      "                                                                      2096062,   2473828,   1400992], dtype=int64))\n"
     ]
    },
    {
     "name": "stdout",
     "output_type": "stream",
     "text": [
      "Past deforestation before 2008 is 2\n",
      "D:/Jorge/datasets/deforestation/MT/deforestation_before_2008_MT.tif\n"
     ]
    },
    {
     "name": "stderr",
     "output_type": "stream",
     "text": [
      "ic| np.unique(label_past_deforestation_before_2008, return_counts=True): (array([  0, 215], dtype=uint8), array([122623260,  52380640], dtype=int64))\n",
      "ic| np.unique(deforestation_past_years, return_counts=True): (array([   0, 2008, 2009, 2010, 2011, 2012, 2013, 2014, 2015, 2016, 2017,\n",
      "                                                                    2018, 2019, 2020, 2021], dtype=uint16),\n",
      "                                                              array([161124576,   1332784,    240796,    338545,    313901,    287191,\n",
      "                                                                       708581,    648966,    876898,   1007787,   1098901,   1054092,\n",
      "                                                                      2096062,   2473828,   1400992], dtype=int64))\n",
      "ic| label_per_date.shape: (16795, 10420, 1)\n"
     ]
    },
    {
     "name": "stdout",
     "output_type": "stream",
     "text": [
      "Removing bufer................\n",
      "Mask label shape:  \n",
      " (16795, 10420, 1) \n",
      " Unique values:  \n",
      " [0 1 2]\n",
      "Tiles size:  3359 2084\n",
      "Mask size:  (16795, 10420)\n"
     ]
    },
    {
     "name": "stderr",
     "output_type": "stream",
     "text": [
      "ic| image_stack.shape: (16795, 10420, 21)\n"
     ]
    },
    {
     "name": "stdout",
     "output_type": "stream",
     "text": [
      "Image shape:  (16795, 10420, 21)\n",
      "mask:  (16795, 10420)\n",
      "image stack:  (16795, 10420, 21)\n",
      "ref : (16795, 10420, 1)\n",
      "Training tiles:  [2, 4, 5, 6, 7, 12, 14, 15, 18, 21, 23, 24]\n",
      "Validation tiles:  [9, 11, 25]\n",
      "Test tiles:  [1, 3, 8, 10, 13, 16, 17, 19, 20, 22]\n",
      "-5.0 -12.0\n"
     ]
    },
    {
     "name": "stderr",
     "output_type": "stream",
     "text": [
      "ic| self.path_models+ '/' + self.method +'_'+str(self.repetition_id)+'.h5': 'D:/Jorge/datasets/deforestation/experiments/MT/exp60/models/resunet_9.h5'\n"
     ]
    },
    {
     "name": "stdout",
     "output_type": "stream",
     "text": [
      "Dropout training mode: False\n",
      "time:  0\n",
      "alpha.shape (16800, 10432, 2)\n",
      "S.shape (16800, 10432)\n",
      "K 2\n",
      "u.shape (16800, 10432)\n",
      "belief.shape (16800, 10432, 2)\n",
      "Inference runtime 98.05\n",
      "(44657480,)\n",
      "(array([0, 1], dtype=uint8), array([43783238,   874242], dtype=int64))\n",
      "(16795, 10420, 2)\n"
     ]
    },
    {
     "name": "stderr",
     "output_type": "stream",
     "text": [
      "ic| predicted_test.shape: (70001560,)\n",
      "ic| predicted_test.shape: (44657480,)\n",
      "ic| np.unique(predicted, return_counts=True): (array([0, 1], dtype=int8), array([172173956,   2829944], dtype=int64))\n",
      "    np.unique(predicted_larger_than_min_area, return_counts=True): (array([0, 1], dtype=int8), array([172328336,   2675564], dtype=int64))\n",
      "ic| np.unique(ignored_polygons, return_counts=True): (array([0, 1], dtype=int8), array([174849520,    154380], dtype=int64))\n",
      "ic| self.f1: 75.23, self.precision: 69.31, self.recall: 82.25\n",
      "ic| self.label_mask_val.shape: (21000468,)\n",
      "ic| self.label_mask_val_valid.shape: (11789474,)\n",
      "ic| f1_val: 80.52\n",
      "    precision_val: 68.02\n",
      "    recall_val: 98.63\n",
      "    mAP_val: 66.67\n"
     ]
    },
    {
     "name": "stdout",
     "output_type": "stream",
     "text": [
      "(array([0, 1], dtype=int16), array([174133940,    869960], dtype=int64))\n",
      "[0 1]\n"
     ]
    },
    {
     "name": "stderr",
     "output_type": "stream",
     "text": [
      "ic| self.label_mask.shape: (16795, 10420)\n",
      "ic| self.mask_test.shape: (16795, 10420)\n",
      "ic| self.label_mask_test.shape: (70001560,)\n",
      "ic| self.error_mask_test.shape: (44599801,)\n",
      "ic| bounds: (0.0018204370302706957, 0.9985)\n"
     ]
    },
    {
     "name": "stdout",
     "output_type": "stream",
     "text": [
      "(0.0018204370302706957, 0.9985)\n",
      "0.38251815419231616\n",
      "threshold 0.38251815419231616\n"
     ]
    },
    {
     "name": "stderr",
     "output_type": "stream",
     "text": [
      "c:\\Users\\jchamorro\\Anaconda3\\envs\\tf2\\lib\\site-packages\\scipy\\optimize\\_minimize.py:783: RuntimeWarning: Method 'bounded' does not support relative tolerance in x; defaulting to absolute tolerance.\n",
      "  warn(\"Method 'bounded' does not support relative tolerance in x; \"\n",
      "ic| label_current_deforestation_test_high_uncertainty.shape: (578000,)\n",
      "    predicted_test_high_uncertainty.shape: (578000,)\n",
      "ic| TP_H + FN_H + FP_H + TN_H: 578000\n",
      "    len(label_mask_current_deforestation_test): 44599801\n",
      "ic| TP_H + FN_H + FP_H + TN_H: 578000\n",
      "    len(label_mask_current_deforestation_test): 44599801\n"
     ]
    },
    {
     "name": "stdout",
     "output_type": "stream",
     "text": [
      "[0.72046365 0.87779665 0.73710866 0.0129597  0.52190872 0.53263017\n",
      " 0.14423058]\n",
      "0.6178022828379545\n",
      "threshold 0.6178022828379545\n"
     ]
    },
    {
     "name": "stderr",
     "output_type": "stream",
     "text": [
      "ic| label_current_deforestation_test_high_uncertainty.shape: (172983,)\n",
      "    predicted_test_high_uncertainty.shape: (172983,)\n",
      "ic| TP_H + FN_H + FP_H + TN_H: 172983\n",
      "    len(label_mask_current_deforestation_test): 44599801\n",
      "ic| TP_H + FN_H + FP_H + TN_H: 172983\n",
      "    len(label_mask_current_deforestation_test): 44599801\n"
     ]
    },
    {
     "name": "stdout",
     "output_type": "stream",
     "text": [
      "[0.6915924  0.83969489 0.78476219 0.00387856 0.72592609 0.57648022\n",
      " 0.05982203]\n",
      "0.23710456567590896\n",
      "threshold 0.23710456567590896\n"
     ]
    },
    {
     "name": "stderr",
     "output_type": "stream",
     "text": [
      "ic| label_current_deforestation_test_high_uncertainty.shape: (1092344,)\n",
      "    predicted_test_high_uncertainty.shape: (1092344,)\n",
      "ic| TP_H + FN_H + FP_H + TN_H: 1092344\n",
      "    len(label_mask_current_deforestation_test): 44599801\n",
      "ic| TP_H + FN_H + FP_H + TN_H: 1092344\n",
      "    len(label_mask_current_deforestation_test): 44599801\n"
     ]
    },
    {
     "name": "stdout",
     "output_type": "stream",
     "text": [
      "[0.73723471 0.8977811  0.69580023 0.02449213 0.52157135 0.5630563\n",
      " 0.13414863]\n",
      "0.14723402554667792\n",
      "threshold 0.14723402554667792\n"
     ]
    },
    {
     "name": "stderr",
     "output_type": "stream",
     "text": [
      "ic| label_current_deforestation_test_high_uncertainty.shape: (1767462,)\n",
      "    predicted_test_high_uncertainty.shape: (1767462,)\n",
      "ic| TP_H + FN_H + FP_H + TN_H: 1767462\n",
      "    len(label_mask_current_deforestation_test): 44599801\n",
      "ic| TP_H + FN_H + FP_H + TN_H: 1767462\n",
      "    len(label_mask_current_deforestation_test): 44599801\n"
     ]
    },
    {
     "name": "stdout",
     "output_type": "stream",
     "text": [
      "[0.75335305 0.91611195 0.64348159 0.03962937 0.5383064  0.60146784\n",
      " 0.11692282]\n",
      "0.23527218841899755\n",
      "threshold 0.23527218841899755\n"
     ]
    },
    {
     "name": "stderr",
     "output_type": "stream",
     "text": [
      "ic| label_current_deforestation_test_high_uncertainty.shape: (1102199,)\n",
      "    predicted_test_high_uncertainty.shape: (1102199,)\n",
      "ic| TP_H + FN_H + FP_H + TN_H: 1102199\n",
      "    len(label_mask_current_deforestation_test): 44599801\n",
      "ic| TP_H + FN_H + FP_H + TN_H: 1102199\n",
      "    len(label_mask_current_deforestation_test): 44599801\n"
     ]
    },
    {
     "name": "stdout",
     "output_type": "stream",
     "text": [
      "[0.73748027 0.89799065 0.69502485 0.02471309 0.5218297  0.5638853\n",
      " 0.1337978 ]\n",
      "0.20429747497324063\n",
      "threshold 0.20429747497324063\n"
     ]
    },
    {
     "name": "stderr",
     "output_type": "stream",
     "text": [
      "ic| label_current_deforestation_test_high_uncertainty.shape: (1286659,)\n",
      "    predicted_test_high_uncertainty.shape: (1286659,)\n",
      "ic| TP_H + FN_H + FP_H + TN_H: 1286659\n",
      "    len(label_mask_current_deforestation_test): 44599801\n",
      "ic| TP_H + FN_H + FP_H + TN_H: 1286659\n",
      "    len(label_mask_current_deforestation_test): 44599801\n"
     ]
    },
    {
     "name": "stdout",
     "output_type": "stream",
     "text": [
      "[0.74199264 0.90318069 0.68109238 0.02884899 0.52608368 0.57497147\n",
      " 0.12826251]\n",
      "0.1825011768076044\n",
      "threshold 0.1825011768076044\n"
     ]
    },
    {
     "name": "stderr",
     "output_type": "stream",
     "text": [
      "ic| label_current_deforestation_test_high_uncertainty.shape: (1440707,)\n",
      "    predicted_test_high_uncertainty.shape: (1440707,)\n",
      "ic| TP_H + FN_H + FP_H + TN_H: 1440707\n",
      "    len(label_mask_current_deforestation_test): 44599801\n",
      "ic| TP_H + FN_H + FP_H + TN_H: 1440707\n",
      "    len(label_mask_current_deforestation_test): 44599801\n"
     ]
    },
    {
     "name": "stdout",
     "output_type": "stream",
     "text": [
      "[0.74549783 0.90736426 0.66871301 0.03230299 0.53082346 0.58461259\n",
      " 0.12420087]\n",
      "0.20088161830635493\n",
      "threshold 0.20088161830635493\n"
     ]
    },
    {
     "name": "stderr",
     "output_type": "stream",
     "text": [
      "ic| label_current_deforestation_test_high_uncertainty.shape: (1309208,)\n",
      "    predicted_test_high_uncertainty.shape: (1309208,)\n",
      "ic| TP_H + FN_H + FP_H + TN_H: 1309208\n",
      "    len(label_mask_current_deforestation_test): 44599801\n",
      "ic| TP_H + FN_H + FP_H + TN_H: 1309208\n",
      "    len(label_mask_current_deforestation_test): 44599801\n"
     ]
    },
    {
     "name": "stdout",
     "output_type": "stream",
     "text": [
      "[0.74255531 0.90376409 0.67930062 0.02935457 0.52665907 0.5764691\n",
      " 0.12765279]\n",
      "0.195817494554213\n",
      "threshold 0.195817494554213\n"
     ]
    },
    {
     "name": "stderr",
     "output_type": "stream",
     "text": [
      "ic| label_current_deforestation_test_high_uncertainty.shape: (1343535,)\n",
      "    predicted_test_high_uncertainty.shape: (1343535,)\n",
      "ic| TP_H + FN_H + FP_H + TN_H: 1343535\n",
      "    len(label_mask_current_deforestation_test): 44599801\n",
      "ic| TP_H + FN_H + FP_H + TN_H: 1343535\n",
      "    len(label_mask_current_deforestation_test): 44599801\n"
     ]
    },
    {
     "name": "stdout",
     "output_type": "stream",
     "text": [
      "[0.74332792 0.90468473 0.67658212 0.03012424 0.52771391 0.57863192\n",
      " 0.1266976 ]\n",
      "0.1907311137800019\n",
      "threshold 0.1907311137800019\n"
     ]
    },
    {
     "name": "stderr",
     "output_type": "stream",
     "text": [
      "ic| label_current_deforestation_test_high_uncertainty.shape: (1379725,)\n",
      "    predicted_test_high_uncertainty.shape: (1379725,)\n",
      "ic| TP_H + FN_H + FP_H + TN_H: 1379725\n",
      "    len(label_mask_current_deforestation_test): 44599801\n",
      "ic| TP_H + FN_H + FP_H + TN_H: 1379725\n",
      "    len(label_mask_current_deforestation_test): 44599801\n"
     ]
    },
    {
     "name": "stdout",
     "output_type": "stream",
     "text": [
      "[0.74420836 0.90567851 0.67361796 0.03093568 0.52875835 0.58095619\n",
      " 0.12580415]\n",
      "0.1963593217461713\n",
      "threshold 0.1963593217461713\n"
     ]
    },
    {
     "name": "stderr",
     "output_type": "stream",
     "text": [
      "ic| label_current_deforestation_test_high_uncertainty.shape: (1339808,)\n",
      "    predicted_test_high_uncertainty.shape: (1339808,)\n",
      "ic| TP_H + FN_H + FP_H + TN_H: 1339808\n",
      "    len(label_mask_current_deforestation_test): 44599801\n",
      "ic| TP_H + FN_H + FP_H + TN_H: 1339808\n",
      "    len(label_mask_current_deforestation_test): 44599801\n"
     ]
    },
    {
     "name": "stdout",
     "output_type": "stream",
     "text": [
      "[0.74325091 0.90459321 0.67690228 0.03004067 0.52755779 0.57834753\n",
      " 0.12680247]\n",
      "0.19744457347299046\n",
      "threshold 0.19744457347299046\n"
     ]
    },
    {
     "name": "stderr",
     "output_type": "stream",
     "text": [
      "ic| label_current_deforestation_test_high_uncertainty.shape: (1332437,)\n",
      "    predicted_test_high_uncertainty.shape: (1332437,)\n",
      "ic| TP_H + FN_H + FP_H + TN_H: 1332437\n",
      "    len(label_mask_current_deforestation_test): 44599801\n",
      "ic| TP_H + FN_H + FP_H + TN_H: 1332437\n",
      "    len(label_mask_current_deforestation_test): 44599801\n"
     ]
    },
    {
     "name": "stdout",
     "output_type": "stream",
     "text": [
      "[0.74307952 0.90438787 0.67748673 0.0298754  0.52734433 0.57789936\n",
      " 0.12699777]\n",
      "0.1967738510194667\n",
      "threshold 0.1967738510194667\n"
     ]
    },
    {
     "name": "stderr",
     "output_type": "stream",
     "text": [
      "ic| label_current_deforestation_test_high_uncertainty.shape: (1337094,)\n",
      "    predicted_test_high_uncertainty.shape: (1337094,)\n",
      "ic| TP_H + FN_H + FP_H + TN_H: 1337094\n",
      "    len(label_mask_current_deforestation_test): 44599801\n",
      "ic| TP_H + FN_H + FP_H + TN_H: 1337094\n",
      "    len(label_mask_current_deforestation_test): 44599801\n"
     ]
    },
    {
     "name": "stdout",
     "output_type": "stream",
     "text": [
      "[0.74319797 0.90451951 0.67711883 0.02997982 0.527454   0.57817717\n",
      " 0.12688237]\n",
      "0.1968071872714279\n",
      "threshold 0.1968071872714279\n"
     ]
    },
    {
     "name": "stderr",
     "output_type": "stream",
     "text": [
      "ic| label_current_deforestation_test_high_uncertainty.shape: (1336843,)\n",
      "    predicted_test_high_uncertainty.shape: (1336843,)\n",
      "ic| TP_H + FN_H + FP_H + TN_H: 1336843\n",
      "    len(label_mask_current_deforestation_test): 44599801\n",
      "ic| TP_H + FN_H + FP_H + TN_H: 1336843\n",
      "    len(label_mask_current_deforestation_test): 44599801\n"
     ]
    },
    {
     "name": "stdout",
     "output_type": "stream",
     "text": [
      "[0.74319273 0.90451441 0.67713397 0.02997419 0.52745033 0.57816516\n",
      " 0.12689171]\n",
      "0.1966173069403979\n",
      "threshold 0.1966173069403979\n"
     ]
    },
    {
     "name": "stderr",
     "output_type": "stream",
     "text": [
      "ic| label_current_deforestation_test_high_uncertainty.shape: (1338152,)\n",
      "    predicted_test_high_uncertainty.shape: (1338152,)\n",
      "ic| TP_H + FN_H + FP_H + TN_H: 1338152\n",
      "    len(label_mask_current_deforestation_test): 44599801\n",
      "ic| TP_H + FN_H + FP_H + TN_H: 1338152\n",
      "    len(label_mask_current_deforestation_test): 44599801\n"
     ]
    },
    {
     "name": "stdout",
     "output_type": "stream",
     "text": [
      "[0.7432215  0.90455088 0.67703384 0.03000354 0.5274883  0.57823942\n",
      " 0.12685482]\n",
      "0.19651876536479757\n",
      "threshold 0.19651876536479757\n"
     ]
    },
    {
     "name": "stderr",
     "output_type": "stream",
     "text": [
      "ic| label_current_deforestation_test_high_uncertainty.shape: (1338770,)\n",
      "    predicted_test_high_uncertainty.shape: (1338770,)\n",
      "ic| TP_H + FN_H + FP_H + TN_H: 1338770\n",
      "    len(label_mask_current_deforestation_test): 44599801\n",
      "ic| TP_H + FN_H + FP_H + TN_H: 1338770\n",
      "    len(label_mask_current_deforestation_test): 44599801\n"
     ]
    },
    {
     "name": "stdout",
     "output_type": "stream",
     "text": [
      "[0.74323241 0.90456716 0.67698494 0.0300174  0.52751418 0.57827857\n",
      " 0.12683541]\n",
      "0.19665064319003717\n",
      "threshold 0.19665064319003717\n"
     ]
    },
    {
     "name": "stderr",
     "output_type": "stream",
     "text": [
      "ic| label_current_deforestation_test_high_uncertainty.shape: (1337931,)\n",
      "    predicted_test_high_uncertainty.shape: (1337931,)\n",
      "ic| TP_H + FN_H + FP_H + TN_H: 1337931\n",
      "    len(label_mask_current_deforestation_test): 44599801\n",
      "ic| TP_H + FN_H + FP_H + TN_H: 1337931\n",
      "    len(label_mask_current_deforestation_test): 44599801\n"
     ]
    },
    {
     "name": "stdout",
     "output_type": "stream",
     "text": [
      "[0.74321535 0.90454481 0.67705247 0.02999859 0.52748311 0.57822424\n",
      " 0.12685966]\n",
      "0.19668882829375217\n",
      "threshold 0.19668882829375217\n"
     ]
    },
    {
     "name": "stderr",
     "output_type": "stream",
     "text": [
      "ic| label_current_deforestation_test_high_uncertainty.shape: (1337678,)\n",
      "    predicted_test_high_uncertainty.shape: (1337678,)\n",
      "ic| TP_H + FN_H + FP_H + TN_H: 1337678\n",
      "    len(label_mask_current_deforestation_test): 44599801\n",
      "ic| TP_H + FN_H + FP_H + TN_H: 1337678\n",
      "    len(label_mask_current_deforestation_test): 44599801\n",
      "ic| self.threshold_optimal: 0.19665064319003717\n"
     ]
    },
    {
     "name": "stdout",
     "output_type": "stream",
     "text": [
      "[0.74321114 0.90453497 0.67707459 0.02999291 0.5274697  0.57821123\n",
      " 0.12686563]\n",
      "threshold:  0.19665064319003717\n",
      "threshold 0.19665064319003717\n"
     ]
    },
    {
     "name": "stderr",
     "output_type": "stream",
     "text": [
      "ic| label_current_deforestation_test_high_uncertainty.shape: (1337931,)\n",
      "    predicted_test_high_uncertainty.shape: (1337931,)\n",
      "ic| TP_H + FN_H + FP_H + TN_H: 1337931\n",
      "    len(label_mask_current_deforestation_test): 44599801\n",
      "ic| TP_H + FN_H + FP_H + TN_H: 1337931\n",
      "    len(label_mask_current_deforestation_test): 44599801\n"
     ]
    },
    {
     "name": "stdout",
     "output_type": "stream",
     "text": [
      "[0.74321535 0.90454481 0.67705247 0.02999859 0.52748311 0.57822424\n",
      " 0.12685966]\n",
      "threshold 0.19665064319003717\n",
      "(44599801,) (44599801,)\n"
     ]
    },
    {
     "name": "stderr",
     "output_type": "stream",
     "text": [
      "ic| self.m_optimal: {'AA': array([0.02999859]),\n",
      "                     'UEO': array([0.12685966]),\n",
      "                     'f1': 75.23,\n",
      "                     'f1_H': array([0.55168941]),\n",
      "                     'f1_L': array([0.81598233]),\n",
      "                     'precision_H': array([0.52748311]),\n",
      "                     'precision_L': array([0.74321535]),\n",
      "                     'recall_H': array([0.57822424]),\n",
      "                     'recall_L': array([0.90454481]),\n",
      "                     'recall_Ltotal': array([0.67705247])}\n",
      "ic| self.m_audited_optimal: {'f1': array([0.85878539]),\n",
      "                             'precision': array([0.79877014]),\n",
      "                             'recall': array([0.92855172])}\n"
     ]
    },
    {
     "name": "stdout",
     "output_type": "stream",
     "text": [
      "cm_audited [[43539947   200925]\n",
      " [   61369   797560]]\n",
      "[0.79877014 0.92855172]\n",
      "Result idx 9: {'uncertainty_result': {'metrics': {'precision_L': array([0.74321535]), 'recall_L': array([0.90454481]), 'recall_Ltotal': array([0.67705247]), 'AA': array([0.02999859]), 'precision_H': array([0.52748311]), 'recall_H': array([0.57822424]), 'UEO': array([0.12685966]), 'f1_L': array([0.81598233]), 'f1_H': array([0.55168941]), 'f1': 75.23}, 'metrics_audited': {'precision': array([0.79877014]), 'recall': array([0.92855172]), 'f1': array([0.85878539])}, 'exp': 60}}\n",
      "Grid execution idx: 9\n"
     ]
    }
   ],
   "source": [
    "if config['inferring'] == True:\n",
    "    results = []\n",
    "    error_count = 0\n",
    "\n",
    "    # while idx < len(repetition_n):\n",
    "    # for idx in range(config['start_repetition_id'], repetition_n): # 10 repetitions\n",
    "    for idx in range(config['start_repetition_id'], config['end_repetition_id']): # 10 repetitions\n",
    "\n",
    "    # for idx in range(0, 4): # 10 repetitions\n",
    "\n",
    "\n",
    "        print(\"Beginning run number {}\".format(idx))\n",
    "        logger = Logger()\n",
    "        manager = manager_class(config, dataset, patchesHandler, logger)\n",
    "\n",
    "        print(\"manager.config\", manager.config)\n",
    "\n",
    "        manager.defineExperiment(exp) # fixed\n",
    "        manager.defineRepetitionId(idx) # varying from 0 to 10\n",
    "        manager.setExperimentPath()\n",
    "        manager.createLogFolders()\n",
    "\n",
    "        manager.loadDataset()\n",
    "\n",
    "        # %%\n",
    "        if config['get_multiple_metrics'] == False:\n",
    "            predictor_fcn = manager.run_predictor\n",
    "        else:\n",
    "            predictor_fcn = manager.run_predictor_multiple_metrics\n",
    "        result = predictor_fcn()\n",
    "        print(\"Result idx {}: {}\".format(idx, result))\n",
    "        results.append(result)\n",
    "\n",
    "        with open(manager.default_log_name, 'wb') as f:\n",
    "            pickle.dump(results, f)\n",
    "        print(\"Grid execution idx: {}\".format(idx))\n",
    "        del manager\n",
    "        gc.collect()\n",
    "        # idx += 1\n",
    "    "
   ]
  },
  {
   "cell_type": "markdown",
   "id": "3395c5fb",
   "metadata": {},
   "source": []
  },
  {
   "cell_type": "code",
   "execution_count": 17,
   "id": "f07bf7d7",
   "metadata": {},
   "outputs": [
    {
     "data": {
      "text/plain": [
       "0"
      ]
     },
     "execution_count": 17,
     "metadata": {},
     "output_type": "execute_result"
    }
   ],
   "source": [
    "error_count"
   ]
  },
  {
   "cell_type": "code",
   "execution_count": 18,
   "id": "64080745",
   "metadata": {},
   "outputs": [
    {
     "name": "stdout",
     "output_type": "stream",
     "text": [
      "[{'uncertainty_result': {'metrics': {'precision_L': array([0.76362707]), 'recall_L': array([0.86546587]), 'recall_Ltotal': array([0.62511487]), 'AA': array([0.02999827]), 'precision_H': array([0.48547673]), 'recall_H': array([0.58477541]), 'UEO': array([0.15528666]), 'f1_L': array([0.81136336]), 'f1_H': array([0.53051957]), 'f1': 73.15}, 'metrics_audited': {'precision': array([0.82350326]), 'recall': array([0.90282773]), 'f1': array([0.86134302])}, 'exp': 60}}, {'uncertainty_result': {'metrics': {'precision_L': array([0.87167724]), 'recall_L': array([0.91223392]), 'recall_Ltotal': array([0.69490475]), 'AA': array([0.03000444]), 'precision_H': array([0.62719469]), 'recall_H': array([0.63002441]), 'UEO': array([0.10276496]), 'f1_L': array([0.89149456]), 'f1_H': array([0.62860637]), 'f1': 82.98}, 'metrics_audited': {'precision': array([0.90120221]), 'recall': array([0.93314318]), 'f1': array([0.9168946])}, 'exp': 60}}, {'uncertainty_result': {'metrics': {'precision_L': array([0.75186296]), 'recall_L': array([0.86271909]), 'recall_Ltotal': array([0.60798288]), 'AA': array([0.03000016]), 'precision_H': array([0.54069046]), 'recall_H': array([0.60957062]), 'UEO': array([0.14468509]), 'f1_L': array([0.80348537]), 'f1_H': array([0.57306819]), 'f1': 73.59}, 'metrics_audited': {'precision': array([0.8182343]), 'recall': array([0.9032542]), 'f1': array([0.85864479])}, 'exp': 60}}, {'uncertainty_result': {'metrics': {'precision_L': array([0.74707206]), 'recall_L': array([0.93276122]), 'recall_Ltotal': array([0.64530384]), 'AA': array([0.03000214]), 'precision_H': array([0.64504928]), 'recall_H': array([0.64119319]), 'UEO': array([0.12076261]), 'f1_L': array([0.82965357]), 'f1_H': array([0.64311546]), 'f1': 77.68}, 'metrics_audited': {'precision': array([0.81358228]), 'recall': array([0.95348279]), 'f1': array([0.8779945])}, 'exp': 60}}, {'uncertainty_result': {'metrics': {'precision_L': array([0.76321952]), 'recall_L': array([0.93409441]), 'recall_Ltotal': array([0.65625]), 'AA': array([0.03000145]), 'precision_H': array([0.54612718]), 'recall_H': array([0.65494897]), 'UEO': array([0.14645275]), 'f1_L': array([0.84005566]), 'f1_H': array([0.59560825]), 'f1': 76.79}, 'metrics_audited': {'precision': array([0.82407697]), 'recall': array([0.95369789]), 'f1': array([0.88416198])}, 'exp': 60}}, {'uncertainty_result': {'metrics': {'precision_L': array([0.76966816]), 'recall_L': array([0.93170904]), 'recall_Ltotal': array([0.71475143]), 'AA': array([0.02999731]), 'precision_H': array([0.51891493]), 'recall_H': array([0.65037677]), 'UEO': array([0.12153514]), 'f1_L': array([0.84297213]), 'f1_H': array([0.57725581]), 'f1': 78.02}, 'metrics_audited': {'precision': array([0.8158452]), 'recall': array([0.94761126]), 'f1': array([0.87680543])}, 'exp': 60}}, {'uncertainty_result': {'metrics': {'precision_L': array([0.69672664]), 'recall_L': array([0.87134029]), 'recall_Ltotal': array([0.64996317]), 'AA': array([0.02999758]), 'precision_H': array([0.49760215]), 'recall_H': array([0.65004877]), 'UEO': array([0.13207216]), 'f1_L': array([0.77431132]), 'f1_H': array([0.56370045]), 'f1': 71.98}, 'metrics_audited': {'precision': array([0.7616421]), 'recall': array([0.90402822]), 'f1': array([0.82674938])}, 'exp': 60}}, {'uncertainty_result': {'metrics': {'precision_L': array([0.76776975]), 'recall_L': array([0.9441362]), 'recall_Ltotal': array([0.68871142]), 'AA': array([0.02999713]), 'precision_H': array([0.57172493]), 'recall_H': array([0.68123937]), 'UEO': array([0.12408454]), 'f1_L': array([0.84686804]), 'f1_H': array([0.62169613]), 'f1': 78.67}, 'metrics_audited': {'precision': array([0.82158006]), 'recall': array([0.95924949]), 'f1': array([0.88509341])}, 'exp': 60}}, {'uncertainty_result': {'metrics': {'precision_L': array([0.81369703]), 'recall_L': array([0.83715052]), 'recall_Ltotal': array([0.63715466]), 'AA': array([0.02999971]), 'precision_H': array([0.54882284]), 'recall_H': array([0.5647426]), 'UEO': array([0.11767036]), 'f1_L': array([0.82525718]), 'f1_H': array([0.55666892]), 'f1': 76.11}, 'metrics_audited': {'precision': array([0.85724952]), 'recall': array([0.87605538]), 'f1': array([0.86655043])}, 'exp': 60}}, {'uncertainty_result': {'metrics': {'precision_L': array([0.74321535]), 'recall_L': array([0.90454481]), 'recall_Ltotal': array([0.67705247]), 'AA': array([0.02999859]), 'precision_H': array([0.52748311]), 'recall_H': array([0.57822424]), 'UEO': array([0.12685966]), 'f1_L': array([0.81598233]), 'f1_H': array([0.55168941]), 'f1': 75.23}, 'metrics_audited': {'precision': array([0.79877014]), 'recall': array([0.92855172]), 'f1': array([0.85878539])}, 'exp': 60}}]\n"
     ]
    }
   ],
   "source": [
    "print(results)"
   ]
  },
  {
   "cell_type": "code",
   "execution_count": 19,
   "id": "cd4f4d1d",
   "metadata": {},
   "outputs": [
    {
     "name": "stdout",
     "output_type": "stream",
     "text": [
      "10\n"
     ]
    }
   ],
   "source": [
    "print(len(results))"
   ]
  },
  {
   "cell_type": "code",
   "execution_count": 20,
   "id": "6cc43863",
   "metadata": {},
   "outputs": [
    {
     "data": {
      "text/plain": [
       "{'uncertainty_result': {'metrics': {'precision_L': array([0.76776975]),\n",
       "   'recall_L': array([0.9441362]),\n",
       "   'recall_Ltotal': array([0.68871142]),\n",
       "   'AA': array([0.02999713]),\n",
       "   'precision_H': array([0.57172493]),\n",
       "   'recall_H': array([0.68123937]),\n",
       "   'UEO': array([0.12408454]),\n",
       "   'f1_L': array([0.84686804]),\n",
       "   'f1_H': array([0.62169613]),\n",
       "   'f1': 78.67},\n",
       "  'metrics_audited': {'precision': array([0.82158006]),\n",
       "   'recall': array([0.95924949]),\n",
       "   'f1': array([0.88509341])},\n",
       "  'exp': 60}}"
      ]
     },
     "execution_count": 20,
     "metadata": {},
     "output_type": "execute_result"
    }
   ],
   "source": [
    "results[7]"
   ]
  }
 ],
 "metadata": {
  "kernelspec": {
   "display_name": "Python 3.9.12 ('tf2')",
   "language": "python",
   "name": "python3"
  },
  "language_info": {
   "codemirror_mode": {
    "name": "ipython",
    "version": 3
   },
   "file_extension": ".py",
   "mimetype": "text/x-python",
   "name": "python",
   "nbconvert_exporter": "python",
   "pygments_lexer": "ipython3",
   "version": "3.9.12"
  },
  "vscode": {
   "interpreter": {
    "hash": "0593c6bd4eb743cc503a3c17025f83c5676f297db573750215a1bc8c88a990c4"
   }
  }
 },
 "nbformat": 4,
 "nbformat_minor": 5
}
