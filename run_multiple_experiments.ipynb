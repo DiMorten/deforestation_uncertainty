{
 "cells": [
  {
   "cell_type": "code",
   "execution_count": 1,
   "id": "dbd5b7cf",
   "metadata": {},
   "outputs": [],
   "source": [
    "import tracemalloc\n",
    "\n",
    "from utils_v1 import *\n",
    "import traceback\n"
   ]
  },
  {
   "cell_type": "code",
   "execution_count": 2,
   "id": "123e793c",
   "metadata": {},
   "outputs": [
    {
     "name": "stdout",
     "output_type": "stream",
     "text": [
      "Tensorflow ver. 2.6.0\n"
     ]
    }
   ],
   "source": [
    "from icecream import ic\n",
    "\n",
    "import numpy as np\n",
    "from src.dataset import (\n",
    "    MultipleDates, PAMultipleDates,\n",
    "    MTMultipleDates, MSMultipleDates, PIMultipleDates\n",
    ")\n",
    "\n",
    "# from src.dataset_legacy import MTDeforestationTime\n",
    "from src import training_generator as generator\n",
    "from src.patchesHandler import PatchesHandler, PatchesHandlerMultipleDates, PatchesHandlerEvidential2\n",
    "\n",
    "from src.manager.evidential import ManagerEvidential\n",
    "from src.manager.multioutput import ManagerMCDropout, ManagerSingleRun, ManagerEvidential2\n",
    "from mpl_toolkits.axes_grid1 import make_axes_locatable\n",
    "\n",
    "import cv2\n",
    "from src import metrics as _metric\n",
    "import json\n",
    "import pickle \n",
    "import src.manager.evidential as evidential\n",
    "from src.Logger import Logger\n",
    "import pdb\n",
    "import gc\n"
   ]
  },
  {
   "cell_type": "code",
   "execution_count": 3,
   "id": "b7a6829f",
   "metadata": {},
   "outputs": [
    {
     "name": "stdout",
     "output_type": "stream",
     "text": [
      "Mode: mcd. Site: MS. Training: False. Training date: earlier\n",
      "{'training': False, 'inferring': True, 'site': 'MS', 'training_date': 'earlier', 'mode': 'mcd', 'training_times': 10, 'uncertainty_method': 'pred_entropy', 'loadInference': False, 'removePolygons': True, 'plotLandsat': False, 'plotPOI': False, 'training_experiment_id': 19, 'get_multiple_metrics': False, 'save_probabilities': False, 'addPastDeforestationInput': True, 'classes_mode': False, 'learning_rate': 0.0001, 'use_cloud_mask': False, 'mask_out_non_biome': False, 'log_filename': 'log_mcd_ms_earlier.pkl'}\n"
     ]
    }
   ],
   "source": [
    "\n",
    "with open('config/config.json', 'r') as f:\n",
    "    config = json.load(f)\n",
    "    \n",
    "print(\"Mode: {}. Site: {}. Training: {}. Training date: {}\".format(\n",
    "    config['mode'], config['site'], config['training'], config['training_date']))\n",
    "print(config)\n"
   ]
  },
  {
   "cell_type": "code",
   "execution_count": 4,
   "id": "603a5df7",
   "metadata": {},
   "outputs": [
    {
     "name": "stderr",
     "output_type": "stream",
     "text": [
      "ic| list(self.date_ids): [0]\n",
      "ic| self.image_channels: [[0, 1, 2, 3, 4, 5, 6, 7, 8, 9, 10, 11, 12, 13, 14, 15, 16, 17, 18, 19, 20]]\n",
      "ic| dates: [2018, 2019]\n",
      "ic| self.input_image_shape: 21\n",
      "ic| self.dataset.image_channels: [[0, 1, 2, 3, 4, 5, 6, 7, 8, 9, 10, 11, 12, 13, 14, 15, 16, 17, 18, 19, 20]]\n"
     ]
    }
   ],
   "source": [
    "\n",
    "if config['site'] == 'PA':\n",
    "\tif config['training_date'] == 'earlier':\n",
    "\t\tdates = [2017, 2018]\n",
    "\telse:\n",
    "\t\tdates = [2018, 2019]\n",
    "\tdatasetClass = PAMultipleDates\n",
    "elif config['site'] == 'MT':\n",
    "\tif config['training_date'] == 'earlier':\n",
    "\t\tdates = [2018, 2019]\n",
    "\telse:\n",
    "\t\tdates = [2019, 2020]\n",
    "\tdatasetClass = MTMultipleDates\n",
    "elif config['site'] == 'MS':\n",
    "\tif config['training_date'] == 'earlier':\n",
    "\t\tdates = [2018, 2019]\n",
    "\telse:\n",
    "\t\tdates = [2019, 2020]\n",
    "\tdatasetClass = MSMultipleDates\n",
    "elif config['site'] == 'PI':\n",
    "\tif config['training_date'] == 'earlier':\n",
    "\t\tdates = [2018, 2019]\n",
    "\telse:\n",
    "\t\tdates = [2019, 2020]\n",
    "\tdatasetClass = PIMultipleDates\n",
    "else:\n",
    "\traise ValueError('Invalid site')\n",
    "\n",
    "dataset = datasetClass(config = config,\n",
    "\t\t\t   dates = dates, \n",
    "\t \taddPastDeforestationInput = config['addPastDeforestationInput'],\n",
    "\t\tborderBuffer = 2)\t\n",
    "\n",
    "if config['mode'] == 'ensemble':\n",
    "\tif config['training'] == True:\n",
    "\t\tconfig['mode'] = 'single_run'\n",
    "\telse:\n",
    "\t\tsys.exit(\"Ensure that training is True for ensemble mode. Use infer_ensemble.ipynb for inference.\")\n",
    "\n",
    "if config['training'] == False:\n",
    "\tif config['site'] == 'PA':\n",
    "\t\tif config['mode'] == 'mcd' or config['mode'] == 'single_run': # MCD will do 10 inference on each of the 10 repetitions = 100 runs\n",
    "\t\t\tif config['training_date'] == 'current': exp = 0\n",
    "\t\t\telif config['training_date'] == 'earlier': exp = 1\n",
    "\t\t\t\t\n",
    "\t\tif config['mode'] == 'evidential2':\n",
    "\t\t\tif config['training_date'] == 'current': exp = 8; repetition_id = 0\n",
    "\t\t\telif config['training_date'] == 'earlier': exp = 9; repetition_id = 0\n",
    "\n",
    "\telif config['site'] == 'MT':\n",
    "\n",
    "\t\tif config['mode'] == 'mcd' or config['mode'] == 'single_run':\n",
    "\t\t\tif config['training_date'] == 'current': exp = 2\n",
    "\t\t\telif config['training_date'] == 'earlier': exp = 3\n",
    "\t\tif config['mode'] == 'evidential2':\n",
    "\t\t\tif config['training_date'] == 'current': exp = 10; repetition_id = 0\n",
    "\t\t\telif config['training_date'] == 'earlier': exp = 11; repetition_id = 0\n",
    "\n",
    "\telif config['site'] == 'MS':\n",
    "\n",
    "\t\tif config['mode'] == 'mcd' or config['mode'] == 'single_run':\n",
    "\t\t\tif config['training_date'] == 'current': exp = 4\n",
    "\t\t\telif config['training_date'] == 'earlier': \n",
    "\t\t\t\texp = 5\n",
    "\t\t\t\texp = 18\n",
    "\n",
    "\t\tif config['mode'] == 'evidential2':\n",
    "\t\t\tif config['training_date'] == 'current': exp = 12; repetition_id = 0\n",
    "\t\t\telif config['training_date'] == 'earlier': exp = 13; repetition_id = 0\n",
    "\telif config['site'] == 'PI':\n",
    "\n",
    "\t\tif config['mode'] == 'mcd' or config['mode'] == 'single_run':\n",
    "\t\t\tif config['training_date'] == 'current': exp = 6\n",
    "\t\t\telif config['training_date'] == 'earlier': exp = 7\n",
    "\t\tif config['mode'] == 'evidential2':\n",
    "\t\t\tif config['training_date'] == 'current': exp = 14; repetition_id = 0\n",
    "\t\t\telif config['training_date'] == 'earlier': exp = 15; repetition_id = 0\n",
    "\n",
    "else:\n",
    "\texp = config['training_experiment_id']\n",
    "ic(dates)\n",
    "\n",
    "\n",
    "if issubclass(type(dataset), MultipleDates):\n",
    "\tpatchesHandler = PatchesHandlerMultipleDates(\n",
    "\t\tdataset)\n",
    "elif config['mode'] == 'evidential2':\n",
    "\tpatchesHandler = PatchesHandlerEvidential2()\n",
    "else:\n",
    "\tpatchesHandler = PatchesHandler()\n",
    "\n"
   ]
  },
  {
   "cell_type": "code",
   "execution_count": 5,
   "id": "1bb339c8",
   "metadata": {},
   "outputs": [],
   "source": [
    "\n",
    "\n",
    "if config['mode'] == 'evidential2':\n",
    "    config[\"inference_times\"] = 1\n",
    "    manager_class = ManagerEvidential2\n",
    "    config['uncertainty_method'] = \"pred_entropy\"\n",
    "    config['classes_mode'] = True\n",
    "    \n",
    "if config['mode'] == 'mcd':\n",
    "    config[\"inference_times\"] = 10\n",
    "    manager_class = ManagerMCDropout\n",
    "    config['uncertainty_method'] = \"pred_entropy\"\n",
    "    config['classes_mode'] = False\n",
    "\n",
    "elif config['mode'] == 'single_run':\n",
    "    config[\"inference_times\"] = 1\n",
    "    manager_class = ManagerSingleRun\n",
    "    config['uncertainty_method'] = \"pred_entropy_single\"\n",
    "    config['classes_mode'] = False\n",
    "\n"
   ]
  },
  {
   "cell_type": "code",
   "execution_count": 6,
   "id": "c7ae3a0c",
   "metadata": {},
   "outputs": [
    {
     "data": {
      "text/plain": [
       "18"
      ]
     },
     "execution_count": 6,
     "metadata": {},
     "output_type": "execute_result"
    }
   ],
   "source": [
    "exp"
   ]
  },
  {
   "cell_type": "code",
   "execution_count": 7,
   "id": "cfa1145d",
   "metadata": {},
   "outputs": [],
   "source": [
    "logger = Logger()\n"
   ]
  },
  {
   "cell_type": "code",
   "execution_count": 8,
   "id": "55da0bd1",
   "metadata": {},
   "outputs": [],
   "source": [
    "if config['training'] == True:\n",
    "    \n",
    "\n",
    "    manager = manager_class(config, dataset, patchesHandler, logger)\n",
    "    print(\"manager.config['dropout_training']\", manager.config['dropout_training'])\n",
    "    manager.defineExperiment(exp) # fixed\n",
    "    \n",
    "    manager.setExperimentPath()\n",
    "    manager.createLogFolders()\n",
    "\n",
    "    manager.loadDataset()\n",
    "\n",
    "    # %%\n",
    "    if config[\"training\"] == True:\n",
    "        manager.run()\n"
   ]
  },
  {
   "cell_type": "code",
   "execution_count": 9,
   "id": "a13e82bc",
   "metadata": {},
   "outputs": [
    {
     "name": "stderr",
     "output_type": "stream",
     "text": [
      "ic| list(self.date_ids): [0]\n",
      "ic| self.image_channels: [[0, 1, 2, 3, 4, 5, 6, 7, 8, 9, 10, 11, 12, 13, 14, 15, 16, 17, 18, 19, 20]]\n",
      "ic| dates: [2019, 2020]\n",
      "ic| self.input_image_shape: 21\n",
      "ic| self.dataset.image_channels: [[0, 1, 2, 3, 4, 5, 6, 7, 8, 9, 10, 11, 12, 13, 14, 15, 16, 17, 18, 19, 20]]\n"
     ]
    }
   ],
   "source": [
    "\n",
    "\n",
    "\n",
    "if config['site'] == 'PA':\n",
    "\tdates = [2018, 2019]\n",
    "\tdatasetClass = PAMultipleDates\n",
    "elif config['site'] == 'MT':\n",
    "\tdates = [2019, 2020]\n",
    "\tdatasetClass = MTMultipleDates\n",
    "elif config['site'] == 'MS':\n",
    "\tdates = [2019, 2020]\n",
    "\tdatasetClass = MSMultipleDates\n",
    "elif config['site'] == 'PI':\n",
    "\tdates = [2019, 2020]\n",
    "\tdatasetClass = PIMultipleDates\n",
    "else:\n",
    "\traise ValueError('Invalid site')\n",
    "\n",
    "dataset = datasetClass(config = config,\n",
    "\t\t\t   dates = dates, \n",
    "\t \taddPastDeforestationInput = config['addPastDeforestationInput'],\n",
    "\t\tborderBuffer = 2)\n",
    "\n",
    "\n",
    "ic(dates)\n",
    "\n",
    "if issubclass(type(dataset), MultipleDates):\n",
    "\tpatchesHandler = PatchesHandlerMultipleDates(\n",
    "\t\tdataset)\n",
    "elif config['mode'] == 'evidential2':\n",
    "\tpatchesHandler = PatchesHandlerEvidential2()\n",
    "else:\n",
    "\tpatchesHandler = PatchesHandler()\n"
   ]
  },
  {
   "cell_type": "code",
   "execution_count": 10,
   "id": "597049da",
   "metadata": {},
   "outputs": [
    {
     "data": {
      "text/plain": [
       "src.manager.multioutput.ManagerMCDropout"
      ]
     },
     "execution_count": 10,
     "metadata": {},
     "output_type": "execute_result"
    }
   ],
   "source": [
    "manager_class"
   ]
  },
  {
   "cell_type": "code",
   "execution_count": 11,
   "id": "82354e9e",
   "metadata": {},
   "outputs": [
    {
     "data": {
      "text/plain": [
       "18"
      ]
     },
     "execution_count": 11,
     "metadata": {},
     "output_type": "execute_result"
    }
   ],
   "source": [
    "exp"
   ]
  },
  {
   "cell_type": "code",
   "execution_count": 12,
   "id": "0e69f832",
   "metadata": {},
   "outputs": [
    {
     "name": "stdout",
     "output_type": "stream",
     "text": [
      "repetition_ids [0, 1, 2, 3, 4, 5, 6, 7, 8, 9], repetition_n 10\n"
     ]
    }
   ],
   "source": [
    "repetition_ids = manager_class(config, dataset, patchesHandler, logger).get_repetition_ids(exp)  \n",
    "repetition_n = len(repetition_ids)\n",
    "print(\"repetition_ids {}, repetition_n {}\".format(repetition_ids, repetition_n))\n"
   ]
  },
  {
   "cell_type": "code",
   "execution_count": 13,
   "id": "5997b986",
   "metadata": {},
   "outputs": [
    {
     "name": "stdout",
     "output_type": "stream",
     "text": [
      "Beginning run number 0\n",
      "manager.config {'training': False, 'inferring': True, 'site': 'MS', 'training_date': 'earlier', 'mode': 'mcd', 'training_times': 10, 'uncertainty_method': 'pred_entropy', 'loadInference': False, 'removePolygons': True, 'plotLandsat': False, 'plotPOI': False, 'training_experiment_id': 19, 'get_multiple_metrics': False, 'save_probabilities': False, 'addPastDeforestationInput': True, 'classes_mode': False, 'learning_rate': 0.0001, 'use_cloud_mask': False, 'mask_out_non_biome': False, 'log_filename': 'log_mcd_ms_earlier.pkl', 'inference_times': 10, 'dropout_training': True}\n",
      "D:/Jorge/datasets/deforestation/MS/deforestation_past_years.tif\n",
      "Loaded deforestation past years\n"
     ]
    },
    {
     "name": "stderr",
     "output_type": "stream",
     "text": [
      "ic| np.unique(deforestation_past_years, return_counts=True): (array([   0, 2002, 2004, 2006, 2008, 2010, 2012, 2013, 2014, 2015, 2016,\n",
      "                                                                    2017, 2018, 2019, 2020, 2021], dtype=uint16),\n",
      "                                                              array([334024764,   8717093,   6541094,   3824922,   2096535,   1305948,\n",
      "                                                                      1003721,    903906,    318788,    701575,    310887,    440417,\n",
      "                                                                       316180,    560438,    600838,    776899], dtype=int64))\n"
     ]
    },
    {
     "name": "stdout",
     "output_type": "stream",
     "text": [
      "Label where deforestation past years is actual date (2020) = 1\n"
     ]
    },
    {
     "name": "stderr",
     "output_type": "stream",
     "text": [
      "ic| np.unique(deforestation_past_years, return_counts=True): (array([   0, 2002, 2004, 2006, 2008, 2010, 2012, 2013, 2014, 2015, 2016,\n",
      "                                                                    2017, 2018, 2019, 2020, 2021], dtype=uint16),\n",
      "                                                              array([334024764,   8717093,   6541094,   3824922,   2096535,   1305948,\n",
      "                                                                      1003721,    903906,    318788,    701575,    310887,    440417,\n",
      "                                                                       316180,    560438,    600838,    776899], dtype=int64))\n"
     ]
    },
    {
     "name": "stdout",
     "output_type": "stream",
     "text": [
      "Past deforestation different from 0 (no deforestation)\n"
     ]
    },
    {
     "name": "stderr",
     "output_type": "stream",
     "text": [
      "ic| np.unique(deforestation_past_years, return_counts=True): (array([   0, 2002, 2004, 2006, 2008, 2010, 2012, 2013, 2014, 2015, 2016,\n",
      "                                                                    2017, 2018, 2019, 2020, 2021], dtype=uint16),\n",
      "                                                              array([334024764,   8717093,   6541094,   3824922,   2096535,   1305948,\n",
      "                                                                      1003721,    903906,    318788,    701575,    310887,    440417,\n",
      "                                                                       316180,    560438,    600838,    776899], dtype=int64))\n"
     ]
    },
    {
     "name": "stdout",
     "output_type": "stream",
     "text": [
      "Past deforestation before 2008 is 2\n",
      "D:/Jorge/datasets/deforestation/MS/deforestation_before_2000_MS.tif\n"
     ]
    },
    {
     "name": "stderr",
     "output_type": "stream",
     "text": [
      "ic| np.unique(label_past_deforestation_before_2008, return_counts=True): (array([  0, 208], dtype=uint8), array([126708038, 235735967], dtype=int64))\n",
      "ic| np.unique(deforestation_past_years, return_counts=True): (array([   0, 2002, 2004, 2006, 2008, 2010, 2012, 2013, 2014, 2015, 2016,\n",
      "                                                                    2017, 2018, 2019, 2020, 2021], dtype=uint16),\n",
      "                                                              array([334024764,   8717093,   6541094,   3824922,   2096535,   1305948,\n",
      "                                                                      1003721,    903906,    318788,    701575,    310887,    440417,\n",
      "                                                                       316180,    560438,    600838,    776899], dtype=int64))\n",
      "ic| label_per_date.shape: (18605, 19481, 1)\n"
     ]
    },
    {
     "name": "stdout",
     "output_type": "stream",
     "text": [
      "Removing bufer................\n",
      "Mask label shape:  \n",
      " (18605, 19481, 1) \n",
      " Unique values:  \n",
      " [0 1 2]\n",
      "Tiles size:  3721 3896\n",
      "Mask size:  (18605, 19480)\n"
     ]
    },
    {
     "name": "stderr",
     "output_type": "stream",
     "text": [
      "ic| image_stack.shape: (18605, 19481, 21)\n"
     ]
    },
    {
     "name": "stdout",
     "output_type": "stream",
     "text": [
      "Image shape:  (18605, 19481, 21)\n",
      "mask:  (18605, 19480)\n",
      "image stack:  (18605, 19480, 21)\n",
      "ref : (18605, 19480, 1)\n",
      "Training tiles:  [2, 4, 5, 6, 7, 12, 14, 15, 18, 21, 23, 24]\n",
      "Validation tiles:  [9, 11, 25]\n",
      "Test tiles:  [1, 3, 8, 10, 13, 16, 17, 19, 20, 22]\n",
      "-35.0 -8.0\n"
     ]
    },
    {
     "name": "stderr",
     "output_type": "stream",
     "text": [
      "ic| self.path_models+ '/' + self.method +'_'+str(self.repetition_id)+'.h5': 'D:/Jorge/datasets/deforestation/experiments/MS/exp18/models/resunet_0.h5'\n"
     ]
    },
    {
     "name": "stdout",
     "output_type": "stream",
     "text": [
      "Dropout training mode: True\n",
      "time:  0\n",
      "time:  1\n",
      "time:  2\n",
      "time:  3\n",
      "time:  4\n",
      "time:  5\n",
      "time:  6\n",
      "time:  7\n",
      "time:  8\n",
      "time:  9\n",
      "(36877090,)\n",
      "(array([0, 1], dtype=uint8), array([36581631,   295459], dtype=int64))\n",
      "(18605, 19480)\n",
      "(array([0., 1.], dtype=float32), array([362014119,    411281], dtype=int64))\n"
     ]
    },
    {
     "name": "stderr",
     "output_type": "stream",
     "text": [
      "ic| self.predicted_unpad.shape: (18605, 19480)\n",
      "    self.predicted.shape: (18605, 19480)\n",
      "ic| predicted_test.shape: (144970160,)\n",
      "ic| predicted_test.shape: (36877090,)\n",
      "ic| np.unique(predicted, return_counts=True): (array([0., 1.], dtype=float32), array([362014119,    411281], dtype=int64))\n",
      "    np.unique(predicted_larger_than_min_area, return_counts=True): (array([0., 1.], dtype=float32), array([362052733,    372667], dtype=int64))\n",
      "ic| np.unique(ignored_polygons, return_counts=True): (array([0., 1.], dtype=float32), array([362386786,     38614], dtype=int64))\n",
      "ic| self.f1: 86.05, self.precision: 97.66, self.recall: 76.9\n",
      "ic| self.label_mask_val.shape: (43491048,)\n",
      "ic| self.label_mask_val_valid.shape: (10772905,)\n",
      "ic| f1_val: 60.17\n",
      "    precision_val: 100.0\n",
      "    recall_val: 43.03\n",
      "    mAP_val: 49.41\n"
     ]
    },
    {
     "name": "stdout",
     "output_type": "stream",
     "text": [
      "(array([0., 1.], dtype=float32), array([362279778,    145622], dtype=int64))\n",
      "[0. 1.]\n",
      "K = 1, pred_mean shape (18640, 19488, 1)\n"
     ]
    },
    {
     "name": "stderr",
     "output_type": "stream",
     "text": [
      "ic| self.label_mask.shape: (18605, 19480)\n",
      "ic| self.mask_amazon_ts.shape: (18605, 19480)\n",
      "ic| self.label_mask_test.shape: (144970160,)\n",
      "ic| self.error_mask_test.shape: (36859162,)\n",
      "ic| bounds: (0.0015, 0.3663794801235199)\n",
      "c:\\Users\\jchamorro\\Anaconda3\\envs\\tf2\\lib\\site-packages\\scipy\\optimize\\_minimize.py:783: RuntimeWarning: Method 'bounded' does not support relative tolerance in x; defaulting to absolute tolerance.\n",
      "  warn(\"Method 'bounded' does not support relative tolerance in x; \"\n"
     ]
    },
    {
     "name": "stdout",
     "output_type": "stream",
     "text": [
      "0.1408715596097929\n",
      "threshold 0.1408715596097929\n"
     ]
    },
    {
     "name": "stderr",
     "output_type": "stream",
     "text": [
      "ic| label_current_deforestation_test_classified_incorrect.shape: (912289,)\n",
      "    predicted_test_classified_incorrect.shape: (912289,)\n",
      "ic| TP_H + FN_H + FP_H + TN_H: 912289\n",
      "    len(label_mask_current_deforestation_test): 36859162\n",
      "ic| TP_H + FN_H + FP_H + TN_H: 912289\n",
      "    len(label_mask_current_deforestation_test): 36859162\n"
     ]
    },
    {
     "name": "stdout",
     "output_type": "stream",
     "text": [
      "[0.98135892 0.85374638 0.59260712 0.02475067 0.96097533 0.5766681\n",
      " 0.04165674]\n",
      "0.22700792051372695\n",
      "threshold 0.22700792051372695\n"
     ]
    },
    {
     "name": "stderr",
     "output_type": "stream",
     "text": [
      "ic| label_current_deforestation_test_classified_incorrect.shape: (388399,)\n",
      "    predicted_test_classified_incorrect.shape: (388399,)\n",
      "ic| TP_H + FN_H + FP_H + TN_H: 388399\n",
      "    len(label_mask_current_deforestation_test): 36859162\n",
      "ic| TP_H + FN_H + FP_H + TN_H: 388399\n",
      "    len(label_mask_current_deforestation_test): 36859162\n"
     ]
    },
    {
     "name": "stdout",
     "output_type": "stream",
     "text": [
      "[0.97938019 0.84826585 0.67120938 0.01053738 0.95799034 0.4684854\n",
      " 0.07771258]\n",
      "0.08763636090393405\n",
      "threshold 0.08763636090393405\n"
     ]
    },
    {
     "name": "stderr",
     "output_type": "stream",
     "text": [
      "ic| label_current_deforestation_test_classified_incorrect.shape: (1717877,)\n",
      "    predicted_test_classified_incorrect.shape: (1717877,)\n",
      "ic| TP_H + FN_H + FP_H + TN_H: 1717877\n",
      "    len(label_mask_current_deforestation_test): 36859162\n",
      "ic| TP_H + FN_H + FP_H + TN_H: 1717877\n",
      "    len(label_mask_current_deforestation_test): 36859162\n"
     ]
    },
    {
     "name": "stdout",
     "output_type": "stream",
     "text": [
      "[0.98416824 0.85996826 0.53248359 0.04660651 0.96000282 0.6210748\n",
      " 0.0254378 ]\n",
      "0.15354770529833614\n",
      "threshold 0.15354770529833614\n"
     ]
    },
    {
     "name": "stderr",
     "output_type": "stream",
     "text": [
      "ic| label_current_deforestation_test_classified_incorrect.shape: (802190,)\n",
      "    predicted_test_classified_incorrect.shape: (802190,)\n",
      "ic| TP_H + FN_H + FP_H + TN_H: 802190\n",
      "    len(label_mask_current_deforestation_test): 36859162\n",
      "ic| TP_H + FN_H + FP_H + TN_H: 802190\n",
      "    len(label_mask_current_deforestation_test): 36859162\n"
     ]
    },
    {
     "name": "stdout",
     "output_type": "stream",
     "text": [
      "[0.98083974 0.85281328 0.60468322 0.02176365 0.96134157 0.56473382\n",
      " 0.04592478]\n",
      "0.12991333141050812\n",
      "threshold 0.12991333141050812\n"
     ]
    },
    {
     "name": "stderr",
     "output_type": "stream",
     "text": [
      "ic| label_current_deforestation_test_classified_incorrect.shape: (1023088,)\n",
      "    predicted_test_classified_incorrect.shape: (1023088,)\n",
      "ic| TP_H + FN_H + FP_H + TN_H: 1023088\n",
      "    len(label_mask_current_deforestation_test): 36859162\n",
      "ic| TP_H + FN_H + FP_H + TN_H: 1023088\n",
      "    len(label_mask_current_deforestation_test): 36859162\n"
     ]
    },
    {
     "name": "stdout",
     "output_type": "stream",
     "text": [
      "[0.98178185 0.85545866 0.58173933 0.02775668 0.96087445 0.58523325\n",
      " 0.03832885]\n",
      "0.11376496561837368\n",
      "threshold 0.11376496561837368\n"
     ]
    },
    {
     "name": "stderr",
     "output_type": "stream",
     "text": [
      "ic| label_current_deforestation_test_classified_incorrect.shape: (1221852,)\n",
      "    predicted_test_classified_incorrect.shape: (1221852,)\n",
      "ic| TP_H + FN_H + FP_H + TN_H: 1221852\n",
      "    len(label_mask_current_deforestation_test): 36859162\n",
      "ic| TP_H + FN_H + FP_H + TN_H: 1221852\n",
      "    len(label_mask_current_deforestation_test): 36859162\n"
     ]
    },
    {
     "name": "stdout",
     "output_type": "stream",
     "text": [
      "[0.98263444 0.85776826 0.56465989 0.03314921 0.96033028 0.59797795\n",
      " 0.03355138]\n",
      "0.12414023890864863\n",
      "threshold 0.12414023890864863\n"
     ]
    },
    {
     "name": "stderr",
     "output_type": "stream",
     "text": [
      "ic| label_current_deforestation_test_classified_incorrect.shape: (1088591,)\n",
      "    predicted_test_classified_incorrect.shape: (1088591,)\n",
      "ic| TP_H + FN_H + FP_H + TN_H: 1088591\n",
      "    len(label_mask_current_deforestation_test): 36859162\n",
      "ic| TP_H + FN_H + FP_H + TN_H: 1088591\n",
      "    len(label_mask_current_deforestation_test): 36859162\n"
     ]
    },
    {
     "name": "stdout",
     "output_type": "stream",
     "text": [
      "[0.98204756 0.85617797 0.57569434 0.0295338  0.96075657 0.59005204\n",
      " 0.03658236]\n",
      "0.12263880499860769\n",
      "threshold 0.12263880499860769\n"
     ]
    },
    {
     "name": "stderr",
     "output_type": "stream",
     "text": [
      "ic| label_current_deforestation_test_classified_incorrect.shape: (1106708,)\n",
      "    predicted_test_classified_incorrect.shape: (1106708,)\n",
      "ic| TP_H + FN_H + FP_H + TN_H: 1106708\n",
      "    len(label_mask_current_deforestation_test): 36859162\n",
      "ic| TP_H + FN_H + FP_H + TN_H: 1106708\n",
      "    len(label_mask_current_deforestation_test): 36859162\n"
     ]
    },
    {
     "name": "stdout",
     "output_type": "stream",
     "text": [
      "[0.98210425 0.856417   0.57412146 0.03002532 0.96076485 0.5912002\n",
      " 0.03613456]\n",
      "0.1192492999660656\n",
      "threshold 0.1192492999660656\n"
     ]
    },
    {
     "name": "stderr",
     "output_type": "stream",
     "text": [
      "ic| label_current_deforestation_test_classified_incorrect.shape: (1148916,)\n",
      "    predicted_test_classified_incorrect.shape: (1148916,)\n",
      "ic| TP_H + FN_H + FP_H + TN_H: 1148916\n",
      "    len(label_mask_current_deforestation_test): 36859162\n",
      "ic| TP_H + FN_H + FP_H + TN_H: 1148916\n",
      "    len(label_mask_current_deforestation_test): 36859162\n"
     ]
    },
    {
     "name": "stdout",
     "output_type": "stream",
     "text": [
      "[0.98225496 0.85685973 0.57043752 0.03117043 0.96073787 0.59400449\n",
      " 0.03512421]\n",
      "0.12225236642644452\n",
      "threshold 0.12225236642644452\n"
     ]
    },
    {
     "name": "stderr",
     "output_type": "stream",
     "text": [
      "ic| label_current_deforestation_test_classified_incorrect.shape: (1111327,)\n",
      "    predicted_test_classified_incorrect.shape: (1111327,)\n",
      "ic| TP_H + FN_H + FP_H + TN_H: 1111327\n",
      "    len(label_mask_current_deforestation_test): 36859162\n",
      "ic| TP_H + FN_H + FP_H + TN_H: 1111327\n",
      "    len(label_mask_current_deforestation_test): 36859162\n"
     ]
    },
    {
     "name": "stdout",
     "output_type": "stream",
     "text": [
      "[0.98212131 0.85647865 0.57372564 0.03015063 0.96075919 0.59148515\n",
      " 0.03602289]\n",
      "0.12294095462305954\n",
      "threshold 0.12294095462305954\n"
     ]
    },
    {
     "name": "stderr",
     "output_type": "stream",
     "text": [
      "ic| label_current_deforestation_test_classified_incorrect.shape: (1102987,)\n",
      "    predicted_test_classified_incorrect.shape: (1102987,)\n",
      "ic| TP_H + FN_H + FP_H + TN_H: 1102987\n",
      "    len(label_mask_current_deforestation_test): 36859162\n",
      "ic| TP_H + FN_H + FP_H + TN_H: 1102987\n",
      "    len(label_mask_current_deforestation_test): 36859162\n"
     ]
    },
    {
     "name": "stdout",
     "output_type": "stream",
     "text": [
      "[0.98209664 0.85637973 0.57444437 0.02992436 0.9607517  0.59094888\n",
      " 0.03622848]\n",
      "0.12267305917936826\n",
      "threshold 0.12267305917936826\n"
     ]
    },
    {
     "name": "stderr",
     "output_type": "stream",
     "text": [
      "ic| label_current_deforestation_test_classified_incorrect.shape: (1106294,)\n",
      "    predicted_test_classified_incorrect.shape: (1106294,)\n",
      "ic| TP_H + FN_H + FP_H + TN_H: 1106294\n",
      "    len(label_mask_current_deforestation_test): 36859162\n",
      "ic| TP_H + FN_H + FP_H + TN_H: 1106294\n",
      "    len(label_mask_current_deforestation_test): 36859162\n"
     ]
    },
    {
     "name": "stdout",
     "output_type": "stream",
     "text": [
      "[0.98209375 0.85640744 0.57415966 0.03001408 0.96079036 0.59117774\n",
      " 0.03614225]\n",
      "0.1227447633263292\n",
      "threshold 0.1227447633263292\n"
     ]
    },
    {
     "name": "stderr",
     "output_type": "stream",
     "text": [
      "ic| label_current_deforestation_test_classified_incorrect.shape: (1105428,)\n",
      "    predicted_test_classified_incorrect.shape: (1105428,)\n",
      "ic| TP_H + FN_H + FP_H + TN_H: 1105428\n",
      "    len(label_mask_current_deforestation_test): 36859162\n",
      "ic| TP_H + FN_H + FP_H + TN_H: 1105428\n",
      "    len(label_mask_current_deforestation_test): 36859162\n"
     ]
    },
    {
     "name": "stdout",
     "output_type": "stream",
     "text": [
      "[0.98209546 0.85640603 0.57421521 0.02999059 0.96077961 0.5911275\n",
      " 0.03616706]\n",
      "0.12281970173338327\n",
      "threshold 0.12281970173338327\n"
     ]
    },
    {
     "name": "stderr",
     "output_type": "stream",
     "text": [
      "ic| label_current_deforestation_test_classified_incorrect.shape: (1104519,)\n",
      "    predicted_test_classified_incorrect.shape: (1104519,)\n",
      "ic| TP_H + FN_H + FP_H + TN_H: 1104519\n",
      "    len(label_mask_current_deforestation_test): 36859162\n",
      "ic| TP_H + FN_H + FP_H + TN_H: 1104519\n",
      "    len(label_mask_current_deforestation_test): 36859162\n"
     ]
    },
    {
     "name": "stdout",
     "output_type": "stream",
     "text": [
      "[0.98209175 0.85639873 0.57428465 0.02996593 0.96078263 0.59107246\n",
      " 0.03619054]\n",
      "0.1227780984802616\n",
      "threshold 0.1227780984802616\n"
     ]
    },
    {
     "name": "stderr",
     "output_type": "stream",
     "text": [
      "ic| label_current_deforestation_test_classified_incorrect.shape: (1104995,)\n",
      "    predicted_test_classified_incorrect.shape: (1104995,)\n",
      "ic| TP_H + FN_H + FP_H + TN_H: 1104995\n",
      "    len(label_mask_current_deforestation_test): 36859162\n",
      "ic| TP_H + FN_H + FP_H + TN_H: 1104995\n",
      "    len(label_mask_current_deforestation_test): 36859162\n"
     ]
    },
    {
     "name": "stdout",
     "output_type": "stream",
     "text": [
      "[0.9820962  0.85640237 0.57423952 0.02997884 0.96077491 0.5911098\n",
      " 0.03617902]\n",
      "0.12271142817239682\n",
      "threshold 0.12271142817239682\n"
     ]
    },
    {
     "name": "stderr",
     "output_type": "stream",
     "text": [
      "ic| label_current_deforestation_test_classified_incorrect.shape: (1105859,)\n",
      "    predicted_test_classified_incorrect.shape: (1105859,)\n",
      "ic| TP_H + FN_H + FP_H + TN_H: 1105859\n",
      "    len(label_mask_current_deforestation_test): 36859162\n",
      "ic| TP_H + FN_H + FP_H + TN_H: 1105859\n",
      "    len(label_mask_current_deforestation_test): 36859162\n"
     ]
    },
    {
     "name": "stdout",
     "output_type": "stream",
     "text": [
      "[0.9820946  0.85641339 0.57418743 0.03000228 0.96078499 0.59114328\n",
      " 0.03615608]\n"
     ]
    },
    {
     "name": "stderr",
     "output_type": "stream",
     "text": [
      "ic| self.threshold_optimal: 0.12271142817239682\n"
     ]
    },
    {
     "name": "stdout",
     "output_type": "stream",
     "text": [
      "threshold:  0.12271142817239682\n",
      "threshold 0.12271142817239682\n"
     ]
    },
    {
     "name": "stderr",
     "output_type": "stream",
     "text": [
      "ic| label_current_deforestation_test_classified_incorrect.shape: (1105859,)\n",
      "    predicted_test_classified_incorrect.shape: (1105859,)\n",
      "ic| TP_H + FN_H + FP_H + TN_H: 1105859\n",
      "    len(label_mask_current_deforestation_test): 36859162\n",
      "ic| TP_H + FN_H + FP_H + TN_H: 1105859\n",
      "    len(label_mask_current_deforestation_test): 36859162\n"
     ]
    },
    {
     "name": "stdout",
     "output_type": "stream",
     "text": [
      "[0.9820946  0.85641339 0.57418743 0.03000228 0.96078499 0.59114328\n",
      " 0.03615608]\n",
      "threshold 0.12271142817239682\n",
      "(36859162,) (36859162,)\n"
     ]
    },
    {
     "name": "stderr",
     "output_type": "stream",
     "text": [
      "ic| self.m_optimal: {'AA': array([0.03000228]),\n",
      "                     'UEO': array([0.03615608]),\n",
      "                     'f1': 86.05,\n",
      "                     'f1_H': array([0.73194309]),\n",
      "                     'f1_L': array([0.91495819]),\n",
      "                     'precision_H': array([0.96078499]),\n",
      "                     'precision_L': array([0.9820946]),\n",
      "                     'recall_H': array([0.59114328]),\n",
      "                     'recall_L': array([0.85641339]),\n",
      "                     'recall_Ltotal': array([0.57418743])}\n",
      "ic| self.m_audited_optimal: {'f1': array([0.94423937]),\n",
      "                             'precision': array([0.98854901]),\n",
      "                             'recall': array([0.90373151])}\n"
     ]
    },
    {
     "name": "stdout",
     "output_type": "stream",
     "text": [
      "cm_audited [[36568140     3015]\n",
      " [   27726   260281]]\n",
      "[0.98854901 0.90373151]\n",
      "Result idx 0: {'uncertainty_result': {'metrics': {'precision_L': array([0.9820946]), 'recall_L': array([0.85641339]), 'recall_Ltotal': array([0.57418743]), 'AA': array([0.03000228]), 'precision_H': array([0.96078499]), 'recall_H': array([0.59114328]), 'UEO': array([0.03615608]), 'f1_L': array([0.91495819]), 'f1_H': array([0.73194309]), 'f1': 86.05}, 'metrics_audited': {'precision': array([0.98854901]), 'recall': array([0.90373151]), 'f1': array([0.94423937])}, 'exp': 18}}\n",
      "Grid execution idx: 0\n",
      "Beginning run number 1\n",
      "manager.config {'training': False, 'inferring': True, 'site': 'MS', 'training_date': 'earlier', 'mode': 'mcd', 'training_times': 10, 'uncertainty_method': 'pred_entropy', 'loadInference': False, 'removePolygons': True, 'plotLandsat': False, 'plotPOI': False, 'training_experiment_id': 19, 'get_multiple_metrics': False, 'save_probabilities': False, 'addPastDeforestationInput': True, 'classes_mode': False, 'learning_rate': 0.0001, 'use_cloud_mask': False, 'mask_out_non_biome': False, 'log_filename': 'log_mcd_ms_earlier.pkl', 'inference_times': 10, 'dropout_training': True}\n",
      "D:/Jorge/datasets/deforestation/MS/deforestation_past_years.tif\n",
      "Loaded deforestation past years\n"
     ]
    },
    {
     "name": "stderr",
     "output_type": "stream",
     "text": [
      "ic| np.unique(deforestation_past_years, return_counts=True): (array([   0, 2002, 2004, 2006, 2008, 2010, 2012, 2013, 2014, 2015, 2016,\n",
      "                                                                    2017, 2018, 2019, 2020, 2021], dtype=uint16),\n",
      "                                                              array([334024764,   8717093,   6541094,   3824922,   2096535,   1305948,\n",
      "                                                                      1003721,    903906,    318788,    701575,    310887,    440417,\n",
      "                                                                       316180,    560438,    600838,    776899], dtype=int64))\n"
     ]
    },
    {
     "name": "stdout",
     "output_type": "stream",
     "text": [
      "Label where deforestation past years is actual date (2020) = 1\n"
     ]
    },
    {
     "name": "stderr",
     "output_type": "stream",
     "text": [
      "ic| np.unique(deforestation_past_years, return_counts=True): (array([   0, 2002, 2004, 2006, 2008, 2010, 2012, 2013, 2014, 2015, 2016,\n",
      "                                                                    2017, 2018, 2019, 2020, 2021], dtype=uint16),\n",
      "                                                              array([334024764,   8717093,   6541094,   3824922,   2096535,   1305948,\n",
      "                                                                      1003721,    903906,    318788,    701575,    310887,    440417,\n",
      "                                                                       316180,    560438,    600838,    776899], dtype=int64))\n"
     ]
    },
    {
     "name": "stdout",
     "output_type": "stream",
     "text": [
      "Past deforestation different from 0 (no deforestation)\n"
     ]
    },
    {
     "name": "stderr",
     "output_type": "stream",
     "text": [
      "ic| np.unique(deforestation_past_years, return_counts=True): (array([   0, 2002, 2004, 2006, 2008, 2010, 2012, 2013, 2014, 2015, 2016,\n",
      "                                                                    2017, 2018, 2019, 2020, 2021], dtype=uint16),\n",
      "                                                              array([334024764,   8717093,   6541094,   3824922,   2096535,   1305948,\n",
      "                                                                      1003721,    903906,    318788,    701575,    310887,    440417,\n",
      "                                                                       316180,    560438,    600838,    776899], dtype=int64))\n"
     ]
    },
    {
     "name": "stdout",
     "output_type": "stream",
     "text": [
      "Past deforestation before 2008 is 2\n",
      "D:/Jorge/datasets/deforestation/MS/deforestation_before_2000_MS.tif\n"
     ]
    },
    {
     "name": "stderr",
     "output_type": "stream",
     "text": [
      "ic| np.unique(label_past_deforestation_before_2008, return_counts=True): (array([  0, 208], dtype=uint8), array([126708038, 235735967], dtype=int64))\n",
      "ic| np.unique(deforestation_past_years, return_counts=True): (array([   0, 2002, 2004, 2006, 2008, 2010, 2012, 2013, 2014, 2015, 2016,\n",
      "                                                                    2017, 2018, 2019, 2020, 2021], dtype=uint16),\n",
      "                                                              array([334024764,   8717093,   6541094,   3824922,   2096535,   1305948,\n",
      "                                                                      1003721,    903906,    318788,    701575,    310887,    440417,\n",
      "                                                                       316180,    560438,    600838,    776899], dtype=int64))\n",
      "ic| label_per_date.shape: (18605, 19481, 1)\n"
     ]
    },
    {
     "name": "stdout",
     "output_type": "stream",
     "text": [
      "Removing bufer................\n",
      "Mask label shape:  \n",
      " (18605, 19481, 1) \n",
      " Unique values:  \n",
      " [0 1 2]\n",
      "Tiles size:  3721 3896\n",
      "Mask size:  (18605, 19480)\n"
     ]
    },
    {
     "name": "stderr",
     "output_type": "stream",
     "text": [
      "ic| image_stack.shape: (18605, 19481, 21)\n"
     ]
    },
    {
     "name": "stdout",
     "output_type": "stream",
     "text": [
      "Image shape:  (18605, 19481, 21)\n",
      "mask:  (18605, 19480)\n",
      "image stack:  (18605, 19480, 21)\n",
      "ref : (18605, 19480, 1)\n",
      "Training tiles:  [2, 4, 5, 6, 7, 12, 14, 15, 18, 21, 23, 24]\n",
      "Validation tiles:  [9, 11, 25]\n",
      "Test tiles:  [1, 3, 8, 10, 13, 16, 17, 19, 20, 22]\n",
      "-35.0 -8.0\n"
     ]
    },
    {
     "name": "stderr",
     "output_type": "stream",
     "text": [
      "ic| self.path_models+ '/' + self.method +'_'+str(self.repetition_id)+'.h5': 'D:/Jorge/datasets/deforestation/experiments/MS/exp18/models/resunet_1.h5'\n"
     ]
    },
    {
     "name": "stdout",
     "output_type": "stream",
     "text": [
      "Dropout training mode: True\n",
      "time:  0\n",
      "time:  1\n",
      "time:  2\n",
      "time:  3\n",
      "time:  4\n",
      "time:  5\n",
      "time:  6\n",
      "time:  7\n",
      "time:  8\n",
      "time:  9\n",
      "(36877090,)\n",
      "(array([0, 1], dtype=uint8), array([36581631,   295459], dtype=int64))\n",
      "(18605, 19480)\n",
      "(array([0., 1.], dtype=float32), array([362039061,    386339], dtype=int64))\n"
     ]
    },
    {
     "name": "stderr",
     "output_type": "stream",
     "text": [
      "ic| self.predicted_unpad.shape: (18605, 19480)\n",
      "    self.predicted.shape: (18605, 19480)\n",
      "ic| predicted_test.shape: (144970160,)\n",
      "ic| predicted_test.shape: (36877090,)\n",
      "ic| np.unique(predicted, return_counts=True): (array([0., 1.], dtype=float32), array([362039061,    386339], dtype=int64))\n",
      "    np.unique(predicted_larger_than_min_area, return_counts=True): (array([0., 1.], dtype=float32), array([362060547,    364853], dtype=int64))\n",
      "ic| np.unique(ignored_polygons, return_counts=True): (array([0., 1.], dtype=float32), array([362403914,     21486], dtype=int64))\n",
      "ic| self.f1: 86.2, self.precision: 98.36, self.recall: 76.71\n",
      "ic| self.label_mask_val.shape: (43491048,)\n",
      "ic| self.label_mask_val_valid.shape: (10774893,)\n",
      "ic| f1_val: 49.26\n",
      "    precision_val: 100.0\n",
      "    recall_val: 32.67\n",
      "    mAP_val: 50.02\n"
     ]
    },
    {
     "name": "stdout",
     "output_type": "stream",
     "text": [
      "(array([0., 1.], dtype=float32), array([362275260,    150140], dtype=int64))\n",
      "[0. 1.]\n",
      "K = 1, pred_mean shape (18640, 19488, 1)\n"
     ]
    },
    {
     "name": "stderr",
     "output_type": "stream",
     "text": [
      "ic| self.label_mask.shape: (18605, 19480)\n",
      "ic| self.mask_amazon_ts.shape: (18605, 19480)\n",
      "ic| self.label_mask_test.shape: (144970160,)\n",
      "ic| self.error_mask_test.shape: (36865805,)\n",
      "ic| bounds: (0.0015001614539399953, 0.3663794801235199)\n",
      "c:\\Users\\jchamorro\\Anaconda3\\envs\\tf2\\lib\\site-packages\\scipy\\optimize\\_minimize.py:783: RuntimeWarning: Method 'bounded' does not support relative tolerance in x; defaulting to absolute tolerance.\n",
      "  warn(\"Method 'bounded' does not support relative tolerance in x; \"\n"
     ]
    },
    {
     "name": "stdout",
     "output_type": "stream",
     "text": [
      "0.14087165939381543\n",
      "threshold 0.14087165939381543\n"
     ]
    },
    {
     "name": "stderr",
     "output_type": "stream",
     "text": [
      "ic| label_current_deforestation_test_classified_incorrect.shape: (485597,)\n",
      "    predicted_test_classified_incorrect.shape: (485597,)\n",
      "ic| TP_H + FN_H + FP_H + TN_H: 485597\n",
      "    len(label_mask_current_deforestation_test): 36865805\n",
      "ic| TP_H + FN_H + FP_H + TN_H: 485597\n",
      "    len(label_mask_current_deforestation_test): 36865805\n"
     ]
    },
    {
     "name": "stdout",
     "output_type": "stream",
     "text": [
      "[0.99026445 0.874548   0.61053511 0.01317202 0.95859257 0.51852745\n",
      " 0.08557995]\n",
      "0.22700798218364443\n",
      "threshold 0.22700798218364443\n"
     ]
    },
    {
     "name": "stderr",
     "output_type": "stream",
     "text": [
      "ic| label_current_deforestation_test_classified_incorrect.shape: (118700,)\n",
      "    predicted_test_classified_incorrect.shape: (118700,)\n",
      "ic| TP_H + FN_H + FP_H + TN_H: 118700\n",
      "    len(label_mask_current_deforestation_test): 36865805\n",
      "ic| TP_H + FN_H + FP_H + TN_H: 118700\n",
      "    len(label_mask_current_deforestation_test): 36865805\n"
     ]
    },
    {
     "name": "stdout",
     "output_type": "stream",
     "text": [
      "[0.98771329 0.84884539 0.69046909 0.00321979 0.94831509 0.41055996\n",
      " 0.21017014]\n",
      "0.08763648424376896\n",
      "threshold 0.08763648424376896\n"
     ]
    },
    {
     "name": "stderr",
     "output_type": "stream",
     "text": [
      "ic| label_current_deforestation_test_classified_incorrect.shape: (1405040,)\n",
      "    predicted_test_classified_incorrect.shape: (1405040,)\n",
      "ic| TP_H + FN_H + FP_H + TN_H: 1405040\n",
      "    len(label_mask_current_deforestation_test): 36865805\n",
      "ic| TP_H + FN_H + FP_H + TN_H: 1405040\n",
      "    len(label_mask_current_deforestation_test): 36865805\n"
     ]
    },
    {
     "name": "stdout",
     "output_type": "stream",
     "text": [
      "[0.99490122 0.88918356 0.54060849 0.03811228 0.95773636 0.5776848\n",
      " 0.03552031]\n",
      "0.05473533660398647\n",
      "threshold 0.05473533660398647\n"
     ]
    },
    {
     "name": "stderr",
     "output_type": "stream",
     "text": [
      "ic| label_current_deforestation_test_classified_incorrect.shape: (2698669,)\n",
      "    predicted_test_classified_incorrect.shape: (2698669,)\n",
      "ic| TP_H + FN_H + FP_H + TN_H: 2698669\n",
      "    len(label_mask_current_deforestation_test): 36865805\n",
      "ic| TP_H + FN_H + FP_H + TN_H: 2698669\n",
      "    len(label_mask_current_deforestation_test): 36865805\n"
     ]
    },
    {
     "name": "stdout",
     "output_type": "stream",
     "text": [
      "[0.99869558 0.90395029 0.47521742 0.0732025  0.9600543  0.61535031\n",
      " 0.02068025]\n",
      "0.10797051175403292\n",
      "threshold 0.10797051175403292\n"
     ]
    },
    {
     "name": "stderr",
     "output_type": "stream",
     "text": [
      "ic| label_current_deforestation_test_classified_incorrect.shape: (950182,)\n",
      "    predicted_test_classified_incorrect.shape: (950182,)\n",
      "ic| TP_H + FN_H + FP_H + TN_H: 950182\n",
      "    len(label_mask_current_deforestation_test): 36865805\n",
      "ic| TP_H + FN_H + FP_H + TN_H: 950182\n",
      "    len(label_mask_current_deforestation_test): 36865805\n"
     ]
    },
    {
     "name": "stdout",
     "output_type": "stream",
     "text": [
      "[0.9929141  0.88386937 0.5699509  0.02577407 0.95774577 0.55501098\n",
      " 0.04942284]\n",
      "0.10666403120582361\n",
      "threshold 0.10666403120582361\n"
     ]
    },
    {
     "name": "stderr",
     "output_type": "stream",
     "text": [
      "ic| label_current_deforestation_test_classified_incorrect.shape: (974668,)\n",
      "    predicted_test_classified_incorrect.shape: (974668,)\n",
      "ic| TP_H + FN_H + FP_H + TN_H: 974668\n",
      "    len(label_mask_current_deforestation_test): 36865805\n",
      "ic| TP_H + FN_H + FP_H + TN_H: 974668\n",
      "    len(label_mask_current_deforestation_test): 36865805\n"
     ]
    },
    {
     "name": "stdout",
     "output_type": "stream",
     "text": [
      "[0.99303111 0.88421547 0.56822406 0.02643827 0.95772931 0.55641804\n",
      " 0.04837878]\n",
      "0.10040293233084147\n",
      "threshold 0.10040293233084147\n"
     ]
    },
    {
     "name": "stderr",
     "output_type": "stream",
     "text": [
      "ic| label_current_deforestation_test_classified_incorrect.shape: (1100509,)\n",
      "    predicted_test_classified_incorrect.shape: (1100509,)\n",
      "ic| TP_H + FN_H + FP_H + TN_H: 1100509\n",
      "    len(label_mask_current_deforestation_test): 36865805\n",
      "ic| TP_H + FN_H + FP_H + TN_H: 1100509\n",
      "    len(label_mask_current_deforestation_test): 36865805\n"
     ]
    },
    {
     "name": "stdout",
     "output_type": "stream",
     "text": [
      "[0.99371603 0.8858894  0.55985686 0.02985176 0.95738409 0.56303764\n",
      " 0.04369226]\n",
      "0.09552658307719085\n",
      "threshold 0.09552658307719085\n"
     ]
    },
    {
     "name": "stderr",
     "output_type": "stream",
     "text": [
      "ic| label_current_deforestation_test_classified_incorrect.shape: (1208966,)\n",
      "    predicted_test_classified_incorrect.shape: (1208966,)\n",
      "ic| TP_H + FN_H + FP_H + TN_H: 1208966\n",
      "    len(label_mask_current_deforestation_test): 36865805\n",
      "ic| TP_H + FN_H + FP_H + TN_H: 1208966\n",
      "    len(label_mask_current_deforestation_test): 36865805\n"
     ]
    },
    {
     "name": "stdout",
     "output_type": "stream",
     "text": [
      "[0.99414705 0.88709731 0.55305006 0.0327937  0.95746397 0.56835427\n",
      " 0.04033234]\n",
      "0.1007422505257983\n",
      "threshold 0.1007422505257983\n"
     ]
    },
    {
     "name": "stderr",
     "output_type": "stream",
     "text": [
      "ic| label_current_deforestation_test_classified_incorrect.shape: (1093445,)\n",
      "    predicted_test_classified_incorrect.shape: (1093445,)\n",
      "ic| TP_H + FN_H + FP_H + TN_H: 1093445\n",
      "    len(label_mask_current_deforestation_test): 36865805\n",
      "ic| TP_H + FN_H + FP_H + TN_H: 1093445\n",
      "    len(label_mask_current_deforestation_test): 36865805\n"
     ]
    },
    {
     "name": "stdout",
     "output_type": "stream",
     "text": [
      "[0.99369665 0.88580137 0.56031111 0.02966014 0.95735594 0.56268343\n",
      " 0.0439325 ]\n",
      "0.09924253512463689\n",
      "threshold 0.09924253512463689\n"
     ]
    },
    {
     "name": "stderr",
     "output_type": "stream",
     "text": [
      "ic| label_current_deforestation_test_classified_incorrect.shape: (1125317,)\n",
      "    predicted_test_classified_incorrect.shape: (1125317,)\n",
      "ic| TP_H + FN_H + FP_H + TN_H: 1125317\n",
      "    len(label_mask_current_deforestation_test): 36865805\n",
      "ic| TP_H + FN_H + FP_H + TN_H: 1125317\n",
      "    len(label_mask_current_deforestation_test): 36865805\n"
     ]
    },
    {
     "name": "stdout",
     "output_type": "stream",
     "text": [
      "[0.99380136 0.8860894  0.55816123 0.03052468 0.95745661 0.56449104\n",
      " 0.04285737]\n",
      "0.09995970003852174\n",
      "threshold 0.09995970003852174\n"
     ]
    },
    {
     "name": "stderr",
     "output_type": "stream",
     "text": [
      "ic| label_current_deforestation_test_classified_incorrect.shape: (1109947,)\n",
      "    predicted_test_classified_incorrect.shape: (1109947,)\n",
      "ic| TP_H + FN_H + FP_H + TN_H: 1109947\n",
      "    len(label_mask_current_deforestation_test): 36865805\n",
      "ic| TP_H + FN_H + FP_H + TN_H: 1109947\n",
      "    len(label_mask_current_deforestation_test): 36865805\n"
     ]
    },
    {
     "name": "stdout",
     "output_type": "stream",
     "text": [
      "[0.99375216 0.88595065 0.55925351 0.03010777 0.95739549 0.56356729\n",
      " 0.04336662]\n",
      "0.10010582819869092\n",
      "threshold 0.10010582819869092\n"
     ]
    },
    {
     "name": "stderr",
     "output_type": "stream",
     "text": [
      "ic| label_current_deforestation_test_classified_incorrect.shape: (1106845,)\n",
      "    predicted_test_classified_incorrect.shape: (1106845,)\n",
      "ic| TP_H + FN_H + FP_H + TN_H: 1106845\n",
      "    len(label_mask_current_deforestation_test): 36865805\n",
      "ic| TP_H + FN_H + FP_H + TN_H: 1106845\n",
      "    len(label_mask_current_deforestation_test): 36865805\n"
     ]
    },
    {
     "name": "stdout",
     "output_type": "stream",
     "text": [
      "[0.99375431 0.88595167 0.55944769 0.03002362 0.95735734 0.56337445\n",
      " 0.04347934]\n",
      "0.10016098043596831\n",
      "threshold 0.10016098043596831\n"
     ]
    },
    {
     "name": "stderr",
     "output_type": "stream",
     "text": [
      "ic| label_current_deforestation_test_classified_incorrect.shape: (1105685,)\n",
      "    predicted_test_classified_incorrect.shape: (1105685,)\n",
      "ic| TP_H + FN_H + FP_H + TN_H: 1105685\n",
      "    len(label_mask_current_deforestation_test): 36865805\n",
      "ic| TP_H + FN_H + FP_H + TN_H: 1105685\n",
      "    len(label_mask_current_deforestation_test): 36865805\n"
     ]
    },
    {
     "name": "stdout",
     "output_type": "stream",
     "text": [
      "[0.99374896 0.88594473 0.55951704 0.02999216 0.95735901 0.56331348\n",
      " 0.04351945]\n",
      "0.10023278564269184\n",
      "threshold 0.10023278564269184\n"
     ]
    },
    {
     "name": "stderr",
     "output_type": "stream",
     "text": [
      "ic| label_current_deforestation_test_classified_incorrect.shape: (1104145,)\n",
      "    predicted_test_classified_incorrect.shape: (1104145,)\n",
      "ic| TP_H + FN_H + FP_H + TN_H: 1104145\n",
      "    len(label_mask_current_deforestation_test): 36865805\n",
      "ic| TP_H + FN_H + FP_H + TN_H: 1104145\n",
      "    len(label_mask_current_deforestation_test): 36865805\n"
     ]
    },
    {
     "name": "stdout",
     "output_type": "stream",
     "text": [
      "[0.99374427 0.88594358 0.55964534 0.02995038 0.95734908 0.56318787\n",
      " 0.04357341]\n",
      "0.10019431525492907\n",
      "threshold 0.10019431525492907\n"
     ]
    },
    {
     "name": "stderr",
     "output_type": "stream",
     "text": [
      "ic| label_current_deforestation_test_classified_incorrect.shape: (1104968,)\n",
      "    predicted_test_classified_incorrect.shape: (1104968,)\n",
      "ic| TP_H + FN_H + FP_H + TN_H: 1104968\n",
      "    len(label_mask_current_deforestation_test): 36865805\n",
      "ic| TP_H + FN_H + FP_H + TN_H: 1104968\n",
      "    len(label_mask_current_deforestation_test): 36865805\n",
      "ic| self.threshold_optimal: 0.10016098043596831\n"
     ]
    },
    {
     "name": "stdout",
     "output_type": "stream",
     "text": [
      "[0.99374935 0.88594127 0.55955172 0.02997271 0.95735219 0.56328298\n",
      " 0.04354529]\n",
      "threshold:  0.10016098043596831\n",
      "threshold 0.10016098043596831\n"
     ]
    },
    {
     "name": "stderr",
     "output_type": "stream",
     "text": [
      "ic| label_current_deforestation_test_classified_incorrect.shape: (1105685,)\n",
      "    predicted_test_classified_incorrect.shape: (1105685,)\n",
      "ic| TP_H + FN_H + FP_H + TN_H: 1105685\n",
      "    len(label_mask_current_deforestation_test): 36865805\n",
      "ic| TP_H + FN_H + FP_H + TN_H: 1105685\n",
      "    len(label_mask_current_deforestation_test): 36865805\n"
     ]
    }
   ],
   "source": [
    "if config['inferring'] == True:\n",
    "    results = []\n",
    "    error_count = 0\n",
    "\n",
    "    # while idx < len(repetition_n):\n",
    "    for idx in range(repetition_n): # 10 repetitions\n",
    "    # for idx in range(0, 4): # 10 repetitions\n",
    "\n",
    "\n",
    "        print(\"Beginning run number {}\".format(idx))\n",
    "        logger = Logger()\n",
    "        manager = manager_class(config, dataset, patchesHandler, logger)\n",
    "\n",
    "        print(\"manager.config\", manager.config)\n",
    "\n",
    "        manager.defineExperiment(exp) # fixed\n",
    "        manager.defineRepetitionId(idx) # varying from 0 to 10\n",
    "        manager.setExperimentPath()\n",
    "        manager.createLogFolders()\n",
    "\n",
    "        manager.loadDataset()\n",
    "\n",
    "        # %%\n",
    "        if config['get_multiple_metrics'] == False:\n",
    "            predictor_fcn = manager.run_predictor\n",
    "        else:\n",
    "            predictor_fcn = manager.run_predictor_multiple_metrics\n",
    "        result = predictor_fcn()\n",
    "        print(\"Result idx {}: {}\".format(idx, result))\n",
    "        results.append(result)\n",
    "\n",
    "\n",
    "        with open(manager.default_log_name, 'wb') as f:\n",
    "            pickle.dump(results, f)\n",
    "        print(\"Grid execution idx: {}\".format(idx))\n",
    "        del manager\n",
    "        gc.collect()\n",
    "        # idx += 1\n",
    "    "
   ]
  },
  {
   "cell_type": "code",
   "execution_count": null,
   "id": "f07bf7d7",
   "metadata": {},
   "outputs": [
    {
     "data": {
      "text/plain": [
       "0"
      ]
     },
     "execution_count": 14,
     "metadata": {},
     "output_type": "execute_result"
    }
   ],
   "source": [
    "error_count"
   ]
  },
  {
   "cell_type": "code",
   "execution_count": null,
   "id": "64080745",
   "metadata": {},
   "outputs": [
    {
     "name": "stdout",
     "output_type": "stream",
     "text": [
      "[{'uncertainty_result': {'metrics': {'precision_L': array([0.53195804]), 'recall_L': array([0.69958021]), 'recall_Ltotal': array([0.61956172]), 'AA': array([0.0299989]), 'precision_H': array([0.10644846]), 'recall_H': array([0.26529932]), 'UEO': array([0.09367737]), 'f1_L': array([0.60436177]), 'f1_H': array([0.15193476]), 'f1': 53.06}, 'metrics_audited': {'precision': array([0.57381291]), 'recall': array([0.73394245]), 'f1': array([0.64407406])}, 'exp': 15}}, {'uncertainty_result': {'metrics': {'precision_L': array([0.44728461]), 'recall_L': array([0.65520344]), 'recall_Ltotal': array([0.57612883]), 'AA': array([0.03000089]), 'precision_H': array([0.10036852]), 'recall_H': array([0.35776325]), 'UEO': array([0.12158722]), 'f1_L': array([0.53163826]), 'f1_H': array([0.15675912]), 'f1': 45.57}, 'metrics_audited': {'precision': array([0.49463568]), 'recall': array([0.69681594]), 'f1': array([0.57857158])}, 'exp': 15}}, {'uncertainty_result': {'metrics': {'precision_L': array([0.64663261]), 'recall_L': array([0.62976983]), 'recall_Ltotal': array([0.54066626]), 'AA': array([0.03000101]), 'precision_H': array([0.17170272]), 'recall_H': array([0.30458092]), 'UEO': array([0.08963013]), 'f1_L': array([0.63808983]), 'f1_H': array([0.219606]), 'f1': 55.94}, 'metrics_audited': {'precision': array([0.69777409]), 'recall': array([0.68215219]), 'f1': array([0.68987471])}, 'exp': 15}}, {'uncertainty_result': {'metrics': {'precision_L': array([0.519821]), 'recall_L': array([0.71240449]), 'recall_Ltotal': array([0.60815643]), 'AA': array([0.03000038]), 'precision_H': array([0.14301646]), 'recall_H': array([0.14107845]), 'UEO': array([0.06904123]), 'f1_L': array([0.60106339]), 'f1_H': array([0.14204085]), 'f1': 54.34}, 'metrics_audited': {'precision': array([0.57320369]), 'recall': array([0.75448911]), 'f1': array([0.65146989])}, 'exp': 15}}]\n"
     ]
    }
   ],
   "source": [
    "print(results)"
   ]
  },
  {
   "cell_type": "code",
   "execution_count": null,
   "id": "cd4f4d1d",
   "metadata": {},
   "outputs": [
    {
     "name": "stdout",
     "output_type": "stream",
     "text": [
      "4\n"
     ]
    }
   ],
   "source": [
    "print(len(results))"
   ]
  },
  {
   "cell_type": "code",
   "execution_count": null,
   "id": "6cc43863",
   "metadata": {},
   "outputs": [
    {
     "data": {
      "text/plain": [
       "{'uncertainty_result': {'metrics': {'precision_L': array([0.53195804]),\n",
       "   'recall_L': array([0.69958021]),\n",
       "   'recall_Ltotal': array([0.61956172]),\n",
       "   'AA': array([0.0299989]),\n",
       "   'precision_H': array([0.10644846]),\n",
       "   'recall_H': array([0.26529932]),\n",
       "   'UEO': array([0.09367737]),\n",
       "   'f1_L': array([0.60436177]),\n",
       "   'f1_H': array([0.15193476]),\n",
       "   'f1': 53.06},\n",
       "  'metrics_audited': {'precision': array([0.57381291]),\n",
       "   'recall': array([0.73394245]),\n",
       "   'f1': array([0.64407406])},\n",
       "  'exp': 15}}"
      ]
     },
     "execution_count": 17,
     "metadata": {},
     "output_type": "execute_result"
    }
   ],
   "source": [
    "results[0]"
   ]
  },
  {
   "cell_type": "code",
   "execution_count": null,
   "id": "4819ba4f",
   "metadata": {},
   "outputs": [
    {
     "data": {
      "text/plain": [
       "54.34"
      ]
     },
     "execution_count": 18,
     "metadata": {},
     "output_type": "execute_result"
    }
   ],
   "source": [
    "manager.f1"
   ]
  },
  {
   "cell_type": "code",
   "execution_count": null,
   "id": "13437081",
   "metadata": {},
   "outputs": [
    {
     "name": "stdout",
     "output_type": "stream",
     "text": [
      "54.34\n"
     ]
    }
   ],
   "source": [
    "print(manager.f1)"
   ]
  }
 ],
 "metadata": {
  "kernelspec": {
   "display_name": "Python 3.9.12 ('tf2')",
   "language": "python",
   "name": "python3"
  },
  "language_info": {
   "codemirror_mode": {
    "name": "ipython",
    "version": 3
   },
   "file_extension": ".py",
   "mimetype": "text/x-python",
   "name": "python",
   "nbconvert_exporter": "python",
   "pygments_lexer": "ipython3",
   "version": "3.9.12"
  },
  "vscode": {
   "interpreter": {
    "hash": "0593c6bd4eb743cc503a3c17025f83c5676f297db573750215a1bc8c88a990c4"
   }
  }
 },
 "nbformat": 4,
 "nbformat_minor": 5
}
