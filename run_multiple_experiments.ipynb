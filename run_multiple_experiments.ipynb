{
 "cells": [
  {
   "cell_type": "code",
   "execution_count": 1,
   "id": "dbd5b7cf",
   "metadata": {},
   "outputs": [],
   "source": [
    "import tracemalloc\n",
    "\n",
    "from utils_v1 import *\n",
    "import traceback\n"
   ]
  },
  {
   "cell_type": "code",
   "execution_count": 2,
   "id": "123e793c",
   "metadata": {},
   "outputs": [
    {
     "name": "stdout",
     "output_type": "stream",
     "text": [
      "Tensorflow ver. 2.6.0\n"
     ]
    }
   ],
   "source": [
    "from icecream import ic\n",
    "\n",
    "import numpy as np\n",
    "from src.dataset import (\n",
    "    MultipleDates, PAMultipleDates,\n",
    "    MTMultipleDates, MSMultipleDates, PIMultipleDates\n",
    ")\n",
    "\n",
    "# from src.dataset_legacy import MTDeforestationTime\n",
    "from src import training_generator as generator\n",
    "from src.patchesHandler import PatchesHandler, PatchesHandlerMultipleDates, PatchesHandlerEvidential2\n",
    "\n",
    "from src.manager.evidential import ManagerEvidential\n",
    "from src.manager.multioutput import ManagerMCDropout, ManagerSingleRun, ManagerEvidential2\n",
    "from mpl_toolkits.axes_grid1 import make_axes_locatable\n",
    "\n",
    "import cv2\n",
    "from src import metrics as _metric\n",
    "import json\n",
    "import pickle \n",
    "import src.manager.evidential as evidential\n",
    "from src.Logger import Logger\n",
    "import pdb\n",
    "import gc\n"
   ]
  },
  {
   "cell_type": "code",
   "execution_count": 3,
   "id": "b7a6829f",
   "metadata": {},
   "outputs": [
    {
     "name": "stdout",
     "output_type": "stream",
     "text": [
      "Mode: evidential2. Site: MS. Training: False. Training date: earlier\n",
      "{'training': False, 'inferring': True, 'site': 'MS', 'training_date': 'earlier', 'mode': 'evidential2', 'training_times': 10, 'uncertainty_method': 'pred_entropy', 'loadInference': False, 'removePolygons': True, 'plotLandsat': False, 'plotPOI': False, 'training_experiment_id': 39, 'get_multiple_metrics': False, 'start_repetition_id': 4, 'save_probabilities': False, 'addPastDeforestationInput': True, 'classes_mode': True, 'learning_rate': 0.0001, 'use_cloud_mask': False, 'mask_out_non_biome': False, 'log_filename': 'log.pkl'}\n"
     ]
    }
   ],
   "source": [
    "\n",
    "with open('config/config.json', 'r') as f:\n",
    "    config = json.load(f)\n",
    "    \n",
    "print(\"Mode: {}. Site: {}. Training: {}. Training date: {}\".format(\n",
    "    config['mode'], config['site'], config['training'], config['training_date']))\n",
    "print(config)\n"
   ]
  },
  {
   "cell_type": "code",
   "execution_count": 4,
   "id": "603a5df7",
   "metadata": {},
   "outputs": [
    {
     "name": "stderr",
     "output_type": "stream",
     "text": [
      "ic| list(self.date_ids): [0]\n",
      "ic| self.image_channels: [[0, 1, 2, 3, 4, 5, 6, 7, 8]]\n",
      "ic| dates: [2018, 2019]\n",
      "ic| self.input_image_shape: 9\n",
      "ic| self.dataset.image_channels: [[0, 1, 2, 3, 4, 5, 6, 7, 8]]\n"
     ]
    }
   ],
   "source": [
    "\n",
    "if config['site'] == 'PA':\n",
    "\tif config['training_date'] == 'earlier':\n",
    "\t\tdates = [2017, 2018]\n",
    "\telse:\n",
    "\t\tdates = [2018, 2019]\n",
    "\tdatasetClass = PAMultipleDates\n",
    "elif config['site'] == 'MT':\n",
    "\tif config['training_date'] == 'earlier':\n",
    "\t\tdates = [2018, 2019]\n",
    "\telse:\n",
    "\t\tdates = [2019, 2020]\n",
    "\tdatasetClass = MTMultipleDates\n",
    "elif config['site'] == 'MS':\n",
    "\tif config['training_date'] == 'earlier':\n",
    "\t\tdates = [2018, 2019]\n",
    "\telse:\n",
    "\t\tdates = [2019, 2020]\n",
    "\tdatasetClass = MSMultipleDates\n",
    "elif config['site'] == 'PI':\n",
    "\tif config['training_date'] == 'earlier':\n",
    "\t\tdates = [2018, 2019]\n",
    "\telse:\n",
    "\t\tdates = [2019, 2020]\n",
    "\tdatasetClass = PIMultipleDates\n",
    "else:\n",
    "\traise ValueError('Invalid site')\n",
    "\n",
    "dataset = datasetClass(config = config,\n",
    "\t\t\t   dates = dates, \n",
    "\t \taddPastDeforestationInput = config['addPastDeforestationInput'],\n",
    "\t\tborderBuffer = 2)\t\n",
    "\n",
    "if config['mode'] == 'ensemble':\n",
    "\tif config['training'] == True:\n",
    "\t\tconfig['mode'] = 'single_run'\n",
    "\telse:\n",
    "\t\tsys.exit(\"Ensure that training is True for ensemble mode. Use infer_ensemble.ipynb for inference.\")\n",
    "\n",
    "if config['training'] == False:\n",
    "\tif config['site'] == 'PA':\n",
    "\t\tif config['mode'] == 'mcd' or config['mode'] == 'single_run': # MCD will do 10 inference on each of the 10 repetitions = 100 runs\n",
    "\t\t\tif config['training_date'] == 'current': exp = 0\n",
    "\t\t\telif config['training_date'] == 'earlier': exp = 1\n",
    "\t\t\t\t\n",
    "\t\tif config['mode'] == 'evidential2':\n",
    "\t\t\tif config['training_date'] == 'current': exp = 8; repetition_id = 0\n",
    "\t\t\telif config['training_date'] == 'earlier': exp = 9; repetition_id = 0\n",
    "\n",
    "\telif config['site'] == 'MT':\n",
    "\n",
    "\t\tif config['mode'] == 'mcd' or config['mode'] == 'single_run':\n",
    "\t\t\tif config['training_date'] == 'current': exp = 2\n",
    "\t\t\telif config['training_date'] == 'earlier': exp = 3\n",
    "\t\tif config['mode'] == 'evidential2':\n",
    "\t\t\tif config['training_date'] == 'current': exp = 10; repetition_id = 0\n",
    "\t\t\telif config['training_date'] == 'earlier': exp = 11; repetition_id = 0\n",
    "\n",
    "\telif config['site'] == 'MS':\n",
    "\n",
    "\t\tif config['mode'] == 'mcd' or config['mode'] == 'single_run':\n",
    "\t\t\tif config['training_date'] == 'current': exp = 4\n",
    "\t\t\telif config['training_date'] == 'earlier': \n",
    "\t\t\t\texp = 37\n",
    "\n",
    "\t\tif config['mode'] == 'evidential2':\n",
    "\t\t\tif config['training_date'] == 'current': exp = 12; repetition_id = 0\n",
    "\t\t\telif config['training_date'] == 'earlier': exp = 39; repetition_id = 0\n",
    "\telif config['site'] == 'PI':\n",
    "\n",
    "\t\tif config['mode'] == 'mcd' or config['mode'] == 'single_run':\n",
    "\t\t\tif config['training_date'] == 'current': exp = 6\n",
    "\t\t\telif config['training_date'] == 'earlier': exp = 27\n",
    "\t\tif config['mode'] == 'evidential2':\n",
    "\t\t\tif config['training_date'] == 'current': exp = 14; repetition_id = 0\n",
    "\t\t\telif config['training_date'] == 'earlier': exp = 39; repetition_id = 0\n",
    "\n",
    "else:\n",
    "\texp = config['training_experiment_id']\n",
    "ic(dates)\n",
    "\n",
    "\n",
    "if issubclass(type(dataset), MultipleDates):\n",
    "\tpatchesHandler = PatchesHandlerMultipleDates(\n",
    "\t\tdataset)\n",
    "elif config['mode'] == 'evidential2':\n",
    "\tpatchesHandler = PatchesHandlerEvidential2()\n",
    "else:\n",
    "\tpatchesHandler = PatchesHandler()\n",
    "\n"
   ]
  },
  {
   "cell_type": "code",
   "execution_count": 5,
   "id": "1bb339c8",
   "metadata": {},
   "outputs": [],
   "source": [
    "\n",
    "\n",
    "if config['mode'] == 'evidential2':\n",
    "    config[\"inference_times\"] = 1\n",
    "    manager_class = ManagerEvidential2\n",
    "    config['uncertainty_method'] = \"pred_entropy\"\n",
    "    config['classes_mode'] = True\n",
    "    \n",
    "if config['mode'] == 'mcd':\n",
    "    config[\"inference_times\"] = 10\n",
    "    manager_class = ManagerMCDropout\n",
    "    config['uncertainty_method'] = \"pred_entropy\"\n",
    "    config['classes_mode'] = False\n",
    "\n",
    "elif config['mode'] == 'single_run':\n",
    "    config[\"inference_times\"] = 1\n",
    "    manager_class = ManagerSingleRun\n",
    "    config['uncertainty_method'] = \"pred_entropy_single\"\n",
    "    config['classes_mode'] = False\n",
    "\n"
   ]
  },
  {
   "cell_type": "code",
   "execution_count": 6,
   "id": "c7ae3a0c",
   "metadata": {},
   "outputs": [
    {
     "data": {
      "text/plain": [
       "39"
      ]
     },
     "execution_count": 6,
     "metadata": {},
     "output_type": "execute_result"
    }
   ],
   "source": [
    "exp"
   ]
  },
  {
   "cell_type": "code",
   "execution_count": 7,
   "id": "cfa1145d",
   "metadata": {},
   "outputs": [],
   "source": [
    "logger = Logger()\n"
   ]
  },
  {
   "cell_type": "code",
   "execution_count": 8,
   "id": "55da0bd1",
   "metadata": {},
   "outputs": [],
   "source": [
    "if config['training'] == True:\n",
    "    \n",
    "\n",
    "    manager = manager_class(config, dataset, patchesHandler, logger)\n",
    "    print(\"manager.config['dropout_training']\", manager.config['dropout_training'])\n",
    "    manager.defineExperiment(exp) # fixed\n",
    "    \n",
    "    manager.setExperimentPath()\n",
    "    manager.createLogFolders()\n",
    "\n",
    "    manager.loadDataset()\n",
    "\n",
    "    # %%\n",
    "    if config[\"training\"] == True:\n",
    "        manager.run()\n"
   ]
  },
  {
   "cell_type": "code",
   "execution_count": 9,
   "id": "a13e82bc",
   "metadata": {},
   "outputs": [
    {
     "name": "stderr",
     "output_type": "stream",
     "text": [
      "ic| list(self.date_ids): [0]\n",
      "ic| self.image_channels: [[0, 1, 2, 3, 4, 5, 6, 7, 8]]\n",
      "ic| dates: [2019, 2020]\n",
      "ic| self.input_image_shape: 9\n",
      "ic| self.dataset.image_channels: [[0, 1, 2, 3, 4, 5, 6, 7, 8]]\n"
     ]
    }
   ],
   "source": [
    "\n",
    "\n",
    "\n",
    "if config['site'] == 'PA':\n",
    "\tdates = [2018, 2019]\n",
    "\tdatasetClass = PAMultipleDates\n",
    "elif config['site'] == 'MT':\n",
    "\tdates = [2019, 2020]\n",
    "\tdatasetClass = MTMultipleDates\n",
    "elif config['site'] == 'MS':\n",
    "\tdates = [2019, 2020]\n",
    "\tdatasetClass = MSMultipleDates\n",
    "elif config['site'] == 'PI':\n",
    "\tdates = [2019, 2020]\n",
    "\tdatasetClass = PIMultipleDates\n",
    "else:\n",
    "\traise ValueError('Invalid site')\n",
    "\n",
    "dataset = datasetClass(config = config,\n",
    "\t\t\t   dates = dates, \n",
    "\t \taddPastDeforestationInput = config['addPastDeforestationInput'],\n",
    "\t\tborderBuffer = 2)\n",
    "\n",
    "\n",
    "ic(dates)\n",
    "\n",
    "if issubclass(type(dataset), MultipleDates):\n",
    "\tpatchesHandler = PatchesHandlerMultipleDates(\n",
    "\t\tdataset)\n",
    "elif config['mode'] == 'evidential2':\n",
    "\tpatchesHandler = PatchesHandlerEvidential2()\n",
    "else:\n",
    "\tpatchesHandler = PatchesHandler()\n"
   ]
  },
  {
   "cell_type": "code",
   "execution_count": 10,
   "id": "597049da",
   "metadata": {},
   "outputs": [
    {
     "data": {
      "text/plain": [
       "src.manager.multioutput.ManagerEvidential2"
      ]
     },
     "execution_count": 10,
     "metadata": {},
     "output_type": "execute_result"
    }
   ],
   "source": [
    "manager_class"
   ]
  },
  {
   "cell_type": "code",
   "execution_count": 11,
   "id": "82354e9e",
   "metadata": {},
   "outputs": [
    {
     "data": {
      "text/plain": [
       "39"
      ]
     },
     "execution_count": 11,
     "metadata": {},
     "output_type": "execute_result"
    }
   ],
   "source": [
    "exp"
   ]
  },
  {
   "cell_type": "code",
   "execution_count": 12,
   "id": "0e69f832",
   "metadata": {},
   "outputs": [
    {
     "name": "stdout",
     "output_type": "stream",
     "text": [
      "repetition_ids [0, 1, 2, 3, 4, 5, 6, 7, 8, 9], repetition_n 10\n"
     ]
    }
   ],
   "source": [
    "repetition_ids = manager_class(config, dataset, patchesHandler, logger).get_repetition_ids(exp)  \n",
    "repetition_n = len(repetition_ids)\n",
    "print(\"repetition_ids {}, repetition_n {}\".format(repetition_ids, repetition_n))\n"
   ]
  },
  {
   "cell_type": "code",
   "execution_count": 13,
   "id": "49e0d9f0",
   "metadata": {},
   "outputs": [
    {
     "data": {
      "text/plain": [
       "4"
      ]
     },
     "execution_count": 13,
     "metadata": {},
     "output_type": "execute_result"
    }
   ],
   "source": [
    "config['start_repetition_id']"
   ]
  },
  {
   "cell_type": "code",
   "execution_count": 14,
   "id": "5997b986",
   "metadata": {},
   "outputs": [
    {
     "name": "stdout",
     "output_type": "stream",
     "text": [
      "Beginning run number 4\n",
      "manager.config {'training': False, 'inferring': True, 'site': 'MS', 'training_date': 'earlier', 'mode': 'evidential2', 'training_times': 10, 'uncertainty_method': 'pred_entropy', 'loadInference': False, 'removePolygons': True, 'plotLandsat': False, 'plotPOI': False, 'training_experiment_id': 39, 'get_multiple_metrics': False, 'start_repetition_id': 4, 'save_probabilities': False, 'addPastDeforestationInput': True, 'classes_mode': True, 'learning_rate': 0.0001, 'use_cloud_mask': False, 'mask_out_non_biome': False, 'log_filename': 'log.pkl', 'inference_times': 1, 'dropout_training': False}\n",
      "D:/Jorge/datasets/deforestation/MS/deforestation_past_years.tif\n",
      "Loaded deforestation past years\n"
     ]
    },
    {
     "name": "stderr",
     "output_type": "stream",
     "text": [
      "ic| np.unique(deforestation_past_years, return_counts=True): (array([   0, 2002, 2004, 2006, 2008, 2010, 2012, 2013, 2014, 2015, 2016,\n",
      "                                                                    2017, 2018, 2019, 2020, 2021], dtype=uint16),\n",
      "                                                              array([334024764,   8717093,   6541094,   3824922,   2096535,   1305948,\n",
      "                                                                      1003721,    903906,    318788,    701575,    310887,    440417,\n",
      "                                                                       316180,    560438,    600838,    776899], dtype=int64))\n"
     ]
    },
    {
     "name": "stdout",
     "output_type": "stream",
     "text": [
      "Label where deforestation past years is actual date (2020) = 1\n"
     ]
    },
    {
     "name": "stderr",
     "output_type": "stream",
     "text": [
      "ic| np.unique(deforestation_past_years, return_counts=True): (array([   0, 2002, 2004, 2006, 2008, 2010, 2012, 2013, 2014, 2015, 2016,\n",
      "                                                                    2017, 2018, 2019, 2020, 2021], dtype=uint16),\n",
      "                                                              array([334024764,   8717093,   6541094,   3824922,   2096535,   1305948,\n",
      "                                                                      1003721,    903906,    318788,    701575,    310887,    440417,\n",
      "                                                                       316180,    560438,    600838,    776899], dtype=int64))\n"
     ]
    },
    {
     "name": "stdout",
     "output_type": "stream",
     "text": [
      "Past deforestation different from 0 (no deforestation)\n"
     ]
    },
    {
     "name": "stderr",
     "output_type": "stream",
     "text": [
      "ic| np.unique(deforestation_past_years, return_counts=True): (array([   0, 2002, 2004, 2006, 2008, 2010, 2012, 2013, 2014, 2015, 2016,\n",
      "                                                                    2017, 2018, 2019, 2020, 2021], dtype=uint16),\n",
      "                                                              array([334024764,   8717093,   6541094,   3824922,   2096535,   1305948,\n",
      "                                                                      1003721,    903906,    318788,    701575,    310887,    440417,\n",
      "                                                                       316180,    560438,    600838,    776899], dtype=int64))\n"
     ]
    },
    {
     "name": "stdout",
     "output_type": "stream",
     "text": [
      "Past deforestation before 2008 is 2\n",
      "D:/Jorge/datasets/deforestation/MS/deforestation_before_2000_MS.tif\n"
     ]
    },
    {
     "name": "stderr",
     "output_type": "stream",
     "text": [
      "ic| np.unique(label_past_deforestation_before_2008, return_counts=True): (array([  0, 208], dtype=uint8), array([126708038, 235735967], dtype=int64))\n",
      "ic| np.unique(deforestation_past_years, return_counts=True): (array([   0, 2002, 2004, 2006, 2008, 2010, 2012, 2013, 2014, 2015, 2016,\n",
      "                                                                    2017, 2018, 2019, 2020, 2021], dtype=uint16),\n",
      "                                                              array([334024764,   8717093,   6541094,   3824922,   2096535,   1305948,\n",
      "                                                                      1003721,    903906,    318788,    701575,    310887,    440417,\n",
      "                                                                       316180,    560438,    600838,    776899], dtype=int64))\n",
      "ic| label_per_date.shape: (18605, 19481, 1)\n"
     ]
    },
    {
     "name": "stdout",
     "output_type": "stream",
     "text": [
      "Removing bufer................\n",
      "Mask label shape:  \n",
      " (18605, 19481, 1) \n",
      " Unique values:  \n",
      " [0 1 2]\n",
      "Tiles size:  3721 3896\n",
      "Mask size:  (18605, 19480)\n"
     ]
    },
    {
     "name": "stderr",
     "output_type": "stream",
     "text": [
      "ic| image_stack.shape: (18605, 19481, 9)\n"
     ]
    },
    {
     "name": "stdout",
     "output_type": "stream",
     "text": [
      "Image shape:  (18605, 19481, 9)\n",
      "mask:  (18605, 19480)\n",
      "image stack:  (18605, 19480, 9)\n",
      "ref : (18605, 19480, 1)\n",
      "Training tiles:  [2, 4, 5, 6, 7, 12, 14, 15, 18, 21, 23, 24]\n",
      "Validation tiles:  [9, 11, 25]\n",
      "Test tiles:  [1, 3, 8, 10, 13, 16, 17, 19, 20, 22]\n",
      "-35.0 -8.0\n"
     ]
    },
    {
     "name": "stderr",
     "output_type": "stream",
     "text": [
      "ic| self.path_models+ '/' + self.method +'_'+str(self.repetition_id)+'.h5': 'D:/Jorge/datasets/deforestation/experiments/MS/exp39/models/resunet_4.h5'\n"
     ]
    },
    {
     "name": "stdout",
     "output_type": "stream",
     "text": [
      "Dropout training mode: False\n",
      "time:  0\n",
      "alpha.shape (18640, 19488, 2)\n",
      "S.shape (18640, 19488)\n",
      "K 2\n",
      "u.shape (18640, 19488)\n",
      "belief.shape (18640, 19488, 2)\n",
      "Inference runtime 137.29\n",
      "(36877090,)\n",
      "(array([0, 1], dtype=uint8), array([36581631,   295459], dtype=int64))\n",
      "(18605, 19480, 2)\n"
     ]
    },
    {
     "name": "stderr",
     "output_type": "stream",
     "text": [
      "ic| predicted_test.shape: (144970160,)\n",
      "ic| predicted_test.shape: (36877090,)\n",
      "ic| np.unique(predicted, return_counts=True): (array([0, 1], dtype=int8), array([362035679,    389721], dtype=int64))\n",
      "    np.unique(predicted_larger_than_min_area, return_counts=True): (array([0, 1], dtype=int8), array([362059237,    366163], dtype=int64))\n",
      "ic| np.unique(ignored_polygons, return_counts=True): (array([0, 1], dtype=int8), array([362401842,     23558], dtype=int64))\n",
      "ic| self.f1: 86.15, self.precision: 98.3, self.recall: 76.67\n",
      "ic| self.label_mask_val.shape: (43491048,)\n",
      "ic| self.label_mask_val_valid.shape: (10775227,)\n",
      "ic| f1_val: 47.41\n",
      "    precision_val: 100.0\n",
      "    recall_val: 31.07\n",
      "    mAP_val: 32.05\n"
     ]
    },
    {
     "name": "stdout",
     "output_type": "stream",
     "text": [
      "(array([0, 1], dtype=int16), array([362276146,    149254], dtype=int64))\n",
      "[0 1]\n"
     ]
    },
    {
     "name": "stderr",
     "output_type": "stream",
     "text": [
      "ic| self.label_mask.shape: (18605, 19480)\n",
      "ic| self.mask_test.shape: (18605, 19480)\n",
      "ic| self.label_mask_test.shape: (144970160,)\n",
      "ic| self.error_mask_test.shape: (36864681,)\n",
      "ic| bounds: (0.00010578750008484349, 0.4985)\n"
     ]
    },
    {
     "name": "stdout",
     "output_type": "stream",
     "text": [
      "(0.00010578750008484349, 0.4985)\n",
      "0.19047543687881469\n",
      "threshold 0.19047543687881469\n"
     ]
    },
    {
     "name": "stderr",
     "output_type": "stream",
     "text": [
      "c:\\Users\\jchamorro\\Anaconda3\\envs\\tf2\\lib\\site-packages\\scipy\\optimize\\_minimize.py:783: RuntimeWarning: Method 'bounded' does not support relative tolerance in x; defaulting to absolute tolerance.\n",
      "  warn(\"Method 'bounded' does not support relative tolerance in x; \"\n",
      "ic| label_current_deforestation_test_classified_incorrect.shape: (2881317,)\n",
      "    predicted_test_classified_incorrect.shape: (2881317,)\n",
      "ic| TP_H + FN_H + FP_H + TN_H: 2881317\n",
      "    len(label_mask_current_deforestation_test): 36864681\n",
      "ic| TP_H + FN_H + FP_H + TN_H: 2881317\n",
      "    len(label_mask_current_deforestation_test): 36864681\n"
     ]
    },
    {
     "name": "stdout",
     "output_type": "stream",
     "text": [
      "[0.99935671 0.85202702 0.45807374 0.07815928 0.95973553 0.66757448\n",
      " 0.01654114]\n",
      "0.30813035062127003\n",
      "threshold 0.30813035062127003\n"
     ]
    },
    {
     "name": "stderr",
     "output_type": "stream",
     "text": [
      "ic| label_current_deforestation_test_classified_incorrect.shape: (1518732,)\n",
      "    predicted_test_classified_incorrect.shape: (1518732,)\n",
      "ic| TP_H + FN_H + FP_H + TN_H: 1518732\n",
      "    len(label_mask_current_deforestation_test): 36864681\n",
      "ic| TP_H + FN_H + FP_H + TN_H: 1518732\n",
      "    len(label_mask_current_deforestation_test): 36864681\n"
     ]
    },
    {
     "name": "stdout",
     "output_type": "stream",
     "text": [
      "[0.99113929 0.86424091 0.58360276 0.04119748 0.95800896 0.5639856\n",
      " 0.02788455]\n",
      "0.38084508625754454\n",
      "threshold 0.38084508625754454\n"
     ]
    },
    {
     "name": "stderr",
     "output_type": "stream",
     "text": [
      "ic| label_current_deforestation_test_classified_incorrect.shape: (962431,)\n",
      "    predicted_test_classified_incorrect.shape: (962431,)\n",
      "ic| TP_H + FN_H + FP_H + TN_H: 962431\n",
      "    len(label_mask_current_deforestation_test): 36864681\n",
      "ic| TP_H + FN_H + FP_H + TN_H: 962431\n",
      "    len(label_mask_current_deforestation_test): 36864681\n"
     ]
    },
    {
     "name": "stdout",
     "output_type": "stream",
     "text": [
      "[0.98836123 0.86691284 0.65722175 0.02610713 0.95213825 0.45278013\n",
      " 0.03999308]\n",
      "0.38923231921357604\n",
      "threshold 0.38923231921357604\n"
     ]
    },
    {
     "name": "stderr",
     "output_type": "stream",
     "text": [
      "ic| label_current_deforestation_test_classified_incorrect.shape: (911211,)\n",
      "    predicted_test_classified_incorrect.shape: (911211,)\n",
      "ic| TP_H + FN_H + FP_H + TN_H: 911211\n",
      "    len(label_mask_current_deforestation_test): 36864681\n",
      "ic| TP_H + FN_H + FP_H + TN_H: 911211\n",
      "    len(label_mask_current_deforestation_test): 36864681\n"
     ]
    },
    {
     "name": "stdout",
     "output_type": "stream",
     "text": [
      "[0.98796477 0.86690677 0.66550224 0.02471772 0.9517039  0.4357642\n",
      " 0.04164259]\n",
      "0.35979542213018467\n",
      "threshold 0.35979542213018467\n"
     ]
    },
    {
     "name": "stderr",
     "output_type": "stream",
     "text": [
      "ic| label_current_deforestation_test_classified_incorrect.shape: (1101832,)\n",
      "    predicted_test_classified_incorrect.shape: (1101832,)\n",
      "ic| TP_H + FN_H + FP_H + TN_H: 1101832\n",
      "    len(label_mask_current_deforestation_test): 36864681\n",
      "ic| TP_H + FN_H + FP_H + TN_H: 1101832\n",
      "    len(label_mask_current_deforestation_test): 36864681\n"
     ]
    },
    {
     "name": "stdout",
     "output_type": "stream",
     "text": [
      "[0.98920335 0.86636771 0.63534974 0.02988855 0.95417559 0.49274721\n",
      " 0.03604866]\n",
      "0.3400611208449731\n",
      "threshold 0.3400611208449731\n"
     ]
    },
    {
     "name": "stderr",
     "output_type": "stream",
     "text": [
      "ic| label_current_deforestation_test_classified_incorrect.shape: (1248189,)\n",
      "    predicted_test_classified_incorrect.shape: (1248189,)\n",
      "ic| TP_H + FN_H + FP_H + TN_H: 1248189\n",
      "    len(label_mask_current_deforestation_test): 36864681\n",
      "ic| TP_H + FN_H + FP_H + TN_H: 1248189\n",
      "    len(label_mask_current_deforestation_test): 36864681\n"
     ]
    },
    {
     "name": "stdout",
     "output_type": "stream",
     "text": [
      "[0.98988117 0.86559166 0.61525386 0.03385867 0.95610194 0.52379753\n",
      " 0.0326455 ]\n",
      "0.3604068249087031\n",
      "threshold 0.3604068249087031\n"
     ]
    },
    {
     "name": "stderr",
     "output_type": "stream",
     "text": [
      "ic| label_current_deforestation_test_classified_incorrect.shape: (1097515,)\n",
      "    predicted_test_classified_incorrect.shape: (1097515,)\n",
      "ic| TP_H + FN_H + FP_H + TN_H: 1097515\n",
      "    len(label_mask_current_deforestation_test): 36864681\n",
      "ic| TP_H + FN_H + FP_H + TN_H: 1097515\n",
      "    len(label_mask_current_deforestation_test): 36864681\n"
     ]
    },
    {
     "name": "stdout",
     "output_type": "stream",
     "text": [
      "[0.98917764 0.86633843 0.63604354 0.02977145 0.95411264 0.49166765\n",
      " 0.0361453 ]\n",
      "0.35499269969223457\n",
      "threshold 0.35499269969223457\n"
     ]
    },
    {
     "name": "stderr",
     "output_type": "stream",
     "text": [
      "ic| label_current_deforestation_test_classified_incorrect.shape: (1136157,)\n",
      "    predicted_test_classified_incorrect.shape: (1136157,)\n",
      "ic| TP_H + FN_H + FP_H + TN_H: 1136157\n",
      "    len(label_mask_current_deforestation_test): 36864681\n",
      "ic| TP_H + FN_H + FP_H + TN_H: 1136157\n",
      "    len(label_mask_current_deforestation_test): 36864681\n"
     ]
    },
    {
     "name": "stdout",
     "output_type": "stream",
     "text": [
      "[0.98934833 0.86624793 0.63055906 0.03081966 0.95474002 0.50052275\n",
      " 0.03518839]\n",
      "0.3579609453974195\n",
      "threshold 0.3579609453974195\n"
     ]
    },
    {
     "name": "stderr",
     "output_type": "stream",
     "text": [
      "ic| label_current_deforestation_test_classified_incorrect.shape: (1114850,)\n",
      "    predicted_test_classified_incorrect.shape: (1114850,)\n",
      "ic| TP_H + FN_H + FP_H + TN_H: 1114850\n",
      "    len(label_mask_current_deforestation_test): 36864681\n",
      "ic| TP_H + FN_H + FP_H + TN_H: 1114850\n",
      "    len(label_mask_current_deforestation_test): 36864681\n"
     ]
    },
    {
     "name": "stdout",
     "output_type": "stream",
     "text": [
      "[0.9892476  0.86631374 0.63352505 0.03024168 0.95444265 0.49575916\n",
      " 0.03571301]\n",
      "0.35920889759559305\n",
      "threshold 0.35920889759559305\n"
     ]
    },
    {
     "name": "stderr",
     "output_type": "stream",
     "text": [
      "ic| label_current_deforestation_test_classified_incorrect.shape: (1106021,)\n",
      "    predicted_test_classified_incorrect.shape: (1106021,)\n",
      "ic| TP_H + FN_H + FP_H + TN_H: 1106021\n",
      "    len(label_mask_current_deforestation_test): 36864681\n",
      "ic| TP_H + FN_H + FP_H + TN_H: 1106021\n",
      "    len(label_mask_current_deforestation_test): 36864681\n"
     ]
    },
    {
     "name": "stdout",
     "output_type": "stream",
     "text": [
      "[0.98920848 0.86636015 0.63470104 0.03000219 0.95431867 0.49380522\n",
      " 0.03594311]\n",
      "0.3587322222722259\n",
      "threshold 0.3587322222722259\n"
     ]
    },
    {
     "name": "stderr",
     "output_type": "stream",
     "text": [
      "ic| label_current_deforestation_test_classified_incorrect.shape: (1109435,)\n",
      "    predicted_test_classified_incorrect.shape: (1109435,)\n",
      "ic| TP_H + FN_H + FP_H + TN_H: 1109435\n",
      "    len(label_mask_current_deforestation_test): 36864681\n",
      "ic| TP_H + FN_H + FP_H + TN_H: 1109435\n",
      "    len(label_mask_current_deforestation_test): 36864681\n"
     ]
    },
    {
     "name": "stdout",
     "output_type": "stream",
     "text": [
      "[0.98921764 0.86635521 0.6342917  0.03009479 0.95438184 0.49447006\n",
      " 0.03585362]\n",
      "0.35924223625685536\n",
      "threshold 0.35924223625685536\n"
     ]
    },
    {
     "name": "stderr",
     "output_type": "stream",
     "text": [
      "ic| label_current_deforestation_test_classified_incorrect.shape: (1105788,)\n",
      "    predicted_test_classified_incorrect.shape: (1105788,)\n",
      "ic| TP_H + FN_H + FP_H + TN_H: 1105788\n",
      "    len(label_mask_current_deforestation_test): 36864681\n",
      "ic| TP_H + FN_H + FP_H + TN_H: 1105788\n",
      "    len(label_mask_current_deforestation_test): 36864681\n"
     ]
    },
    {
     "name": "stdout",
     "output_type": "stream",
     "text": [
      "[0.98920883 0.86635574 0.63472186 0.02999587 0.95431179 0.49377863\n",
      " 0.03594866]\n",
      "0.3591665755131029\n",
      "threshold 0.3591665755131029\n"
     ]
    },
    {
     "name": "stderr",
     "output_type": "stream",
     "text": [
      "ic| label_current_deforestation_test_classified_incorrect.shape: (1106295,)\n",
      "    predicted_test_classified_incorrect.shape: (1106295,)\n",
      "ic| TP_H + FN_H + FP_H + TN_H: 1106295\n",
      "    len(label_mask_current_deforestation_test): 36864681\n",
      "ic| TP_H + FN_H + FP_H + TN_H: 1106295\n",
      "    len(label_mask_current_deforestation_test): 36864681\n",
      "ic| self.threshold_optimal: 0.35920889759559305\n"
     ]
    },
    {
     "name": "stdout",
     "output_type": "stream",
     "text": [
      "[0.98920766 0.86636359 0.63465248 0.03000962 0.9543347  0.49387792\n",
      " 0.03593718]\n",
      "threshold:  0.35920889759559305\n",
      "threshold 0.35920889759559305\n"
     ]
    },
    {
     "name": "stderr",
     "output_type": "stream",
     "text": [
      "ic| label_current_deforestation_test_classified_incorrect.shape: (1106021,)\n",
      "    predicted_test_classified_incorrect.shape: (1106021,)\n",
      "ic| TP_H + FN_H + FP_H + TN_H: 1106021\n",
      "    len(label_mask_current_deforestation_test): 36864681\n",
      "ic| TP_H + FN_H + FP_H + TN_H: 1106021\n",
      "    len(label_mask_current_deforestation_test): 36864681\n"
     ]
    },
    {
     "name": "stdout",
     "output_type": "stream",
     "text": [
      "[0.98920848 0.86636015 0.63470104 0.03000219 0.95431867 0.49380522\n",
      " 0.03594311]\n",
      "threshold 0.35920889759559305\n",
      "(36864681,) (36864681,)\n"
     ]
    },
    {
     "name": "stderr",
     "output_type": "stream",
     "text": [
      "ic| self.m_optimal: {'AA': array([0.03000219]),\n",
      "                     'UEO': array([0.03594311]),\n",
      "                     'f1': 86.15,\n",
      "                     'f1_H': array([0.65083871]),\n",
      "                     'f1_L': array([0.92371771]),\n",
      "                     'precision_H': array([0.95431867]),\n",
      "                     'precision_L': array([0.98920848]),\n",
      "                     'recall_H': array([0.49380522]),\n",
      "                     'recall_L': array([0.86636015]),\n",
      "                     'recall_Ltotal': array([0.63470104])}\n",
      "ic| self.m_audited_optimal: {'f1': array([0.94508721]),\n",
      "                             'precision': array([0.99238287]),\n",
      "                             'recall': array([0.90209458])}\n"
     ]
    },
    {
     "name": "stdout",
     "output_type": "stream",
     "text": [
      "cm_audited [[36574417     1996]\n",
      " [   28223   260045]]\n",
      "[0.99238287 0.90209458]\n",
      "Result idx 4: {'uncertainty_result': {'metrics': {'precision_L': array([0.98920848]), 'recall_L': array([0.86636015]), 'recall_Ltotal': array([0.63470104]), 'AA': array([0.03000219]), 'precision_H': array([0.95431867]), 'recall_H': array([0.49380522]), 'UEO': array([0.03594311]), 'f1_L': array([0.92371771]), 'f1_H': array([0.65083871]), 'f1': 86.15}, 'metrics_audited': {'precision': array([0.99238287]), 'recall': array([0.90209458]), 'f1': array([0.94508721])}, 'exp': 39}}\n",
      "Grid execution idx: 4\n",
      "Beginning run number 5\n",
      "manager.config {'training': False, 'inferring': True, 'site': 'MS', 'training_date': 'earlier', 'mode': 'evidential2', 'training_times': 10, 'uncertainty_method': 'pred_entropy', 'loadInference': False, 'removePolygons': True, 'plotLandsat': False, 'plotPOI': False, 'training_experiment_id': 39, 'get_multiple_metrics': False, 'start_repetition_id': 4, 'save_probabilities': False, 'addPastDeforestationInput': True, 'classes_mode': True, 'learning_rate': 0.0001, 'use_cloud_mask': False, 'mask_out_non_biome': False, 'log_filename': 'log.pkl', 'inference_times': 1, 'dropout_training': False}\n",
      "D:/Jorge/datasets/deforestation/MS/deforestation_past_years.tif\n",
      "Loaded deforestation past years\n"
     ]
    },
    {
     "name": "stderr",
     "output_type": "stream",
     "text": [
      "ic| np.unique(deforestation_past_years, return_counts=True): (array([   0, 2002, 2004, 2006, 2008, 2010, 2012, 2013, 2014, 2015, 2016,\n",
      "                                                                    2017, 2018, 2019, 2020, 2021], dtype=uint16),\n",
      "                                                              array([334024764,   8717093,   6541094,   3824922,   2096535,   1305948,\n",
      "                                                                      1003721,    903906,    318788,    701575,    310887,    440417,\n",
      "                                                                       316180,    560438,    600838,    776899], dtype=int64))\n"
     ]
    },
    {
     "name": "stdout",
     "output_type": "stream",
     "text": [
      "Label where deforestation past years is actual date (2020) = 1\n"
     ]
    },
    {
     "name": "stderr",
     "output_type": "stream",
     "text": [
      "ic| np.unique(deforestation_past_years, return_counts=True): (array([   0, 2002, 2004, 2006, 2008, 2010, 2012, 2013, 2014, 2015, 2016,\n",
      "                                                                    2017, 2018, 2019, 2020, 2021], dtype=uint16),\n",
      "                                                              array([334024764,   8717093,   6541094,   3824922,   2096535,   1305948,\n",
      "                                                                      1003721,    903906,    318788,    701575,    310887,    440417,\n",
      "                                                                       316180,    560438,    600838,    776899], dtype=int64))\n"
     ]
    },
    {
     "name": "stdout",
     "output_type": "stream",
     "text": [
      "Past deforestation different from 0 (no deforestation)\n"
     ]
    },
    {
     "name": "stderr",
     "output_type": "stream",
     "text": [
      "ic| np.unique(deforestation_past_years, return_counts=True): (array([   0, 2002, 2004, 2006, 2008, 2010, 2012, 2013, 2014, 2015, 2016,\n",
      "                                                                    2017, 2018, 2019, 2020, 2021], dtype=uint16),\n",
      "                                                              array([334024764,   8717093,   6541094,   3824922,   2096535,   1305948,\n",
      "                                                                      1003721,    903906,    318788,    701575,    310887,    440417,\n",
      "                                                                       316180,    560438,    600838,    776899], dtype=int64))\n"
     ]
    },
    {
     "name": "stdout",
     "output_type": "stream",
     "text": [
      "Past deforestation before 2008 is 2\n",
      "D:/Jorge/datasets/deforestation/MS/deforestation_before_2000_MS.tif\n"
     ]
    },
    {
     "name": "stderr",
     "output_type": "stream",
     "text": [
      "ic| np.unique(label_past_deforestation_before_2008, return_counts=True): (array([  0, 208], dtype=uint8), array([126708038, 235735967], dtype=int64))\n",
      "ic| np.unique(deforestation_past_years, return_counts=True): (array([   0, 2002, 2004, 2006, 2008, 2010, 2012, 2013, 2014, 2015, 2016,\n",
      "                                                                    2017, 2018, 2019, 2020, 2021], dtype=uint16),\n",
      "                                                              array([334024764,   8717093,   6541094,   3824922,   2096535,   1305948,\n",
      "                                                                      1003721,    903906,    318788,    701575,    310887,    440417,\n",
      "                                                                       316180,    560438,    600838,    776899], dtype=int64))\n",
      "ic| label_per_date.shape: (18605, 19481, 1)\n"
     ]
    },
    {
     "name": "stdout",
     "output_type": "stream",
     "text": [
      "Removing bufer................\n",
      "Mask label shape:  \n",
      " (18605, 19481, 1) \n",
      " Unique values:  \n",
      " [0 1 2]\n",
      "Tiles size:  3721 3896\n",
      "Mask size:  (18605, 19480)\n"
     ]
    },
    {
     "name": "stderr",
     "output_type": "stream",
     "text": [
      "ic| image_stack.shape: (18605, 19481, 9)\n"
     ]
    },
    {
     "name": "stdout",
     "output_type": "stream",
     "text": [
      "Image shape:  (18605, 19481, 9)\n",
      "mask:  (18605, 19480)\n",
      "image stack:  (18605, 19480, 9)\n",
      "ref : (18605, 19480, 1)\n",
      "Training tiles:  [2, 4, 5, 6, 7, 12, 14, 15, 18, 21, 23, 24]\n",
      "Validation tiles:  [9, 11, 25]\n",
      "Test tiles:  [1, 3, 8, 10, 13, 16, 17, 19, 20, 22]\n",
      "-35.0 -8.0\n"
     ]
    },
    {
     "name": "stderr",
     "output_type": "stream",
     "text": [
      "ic| self.path_models+ '/' + self.method +'_'+str(self.repetition_id)+'.h5': 'D:/Jorge/datasets/deforestation/experiments/MS/exp39/models/resunet_5.h5'\n"
     ]
    },
    {
     "name": "stdout",
     "output_type": "stream",
     "text": [
      "Dropout training mode: False\n",
      "time:  0\n",
      "alpha.shape (18640, 19488, 2)\n",
      "S.shape (18640, 19488)\n",
      "K 2\n",
      "u.shape (18640, 19488)\n",
      "belief.shape (18640, 19488, 2)\n",
      "Inference runtime 140.07\n",
      "(36877090,)\n",
      "(array([0, 1], dtype=uint8), array([36581631,   295459], dtype=int64))\n",
      "(18605, 19480, 2)\n"
     ]
    },
    {
     "name": "stderr",
     "output_type": "stream",
     "text": [
      "ic| predicted_test.shape: (144970160,)\n",
      "ic| predicted_test.shape: (36877090,)\n",
      "ic| np.unique(predicted, return_counts=True): (array([0, 1], dtype=int8), array([361973601,    451799], dtype=int64))\n",
      "    np.unique(predicted_larger_than_min_area, return_counts=True): (array([0, 1], dtype=int8), array([362000844,    424556], dtype=int64))\n",
      "ic| np.unique(ignored_polygons, return_counts=True): (array([0, 1], dtype=int8), array([362398157,     27243], dtype=int64))\n",
      "ic| self.f1: 85.68, self.precision: 97.89, self.recall: 76.17\n",
      "ic| self.label_mask_val.shape: (43491048,)\n",
      "ic| self.label_mask_val_valid.shape: (10773906,)\n",
      "ic| f1_val: 65.49\n",
      "    precision_val: 100.0\n",
      "    recall_val: 48.69\n",
      "    mAP_val: 50.13\n"
     ]
    },
    {
     "name": "stdout",
     "output_type": "stream",
     "text": [
      "(array([0, 1], dtype=int16), array([362219173,    206227], dtype=int64))\n",
      "[0 1]\n"
     ]
    },
    {
     "name": "stderr",
     "output_type": "stream",
     "text": [
      "ic| self.label_mask.shape: (18605, 19480)\n",
      "ic| self.mask_test.shape: (18605, 19480)\n",
      "ic| self.label_mask_test.shape: (144970160,)\n",
      "ic| self.error_mask_test.shape: (36863532,)\n",
      "ic| bounds: (0.00010578750008484349, 0.4985)\n"
     ]
    },
    {
     "name": "stdout",
     "output_type": "stream",
     "text": [
      "(0.00010578750008484349, 0.4985)\n",
      "0.19047543687881469\n",
      "threshold 0.19047543687881469\n"
     ]
    },
    {
     "name": "stderr",
     "output_type": "stream",
     "text": [
      "c:\\Users\\jchamorro\\Anaconda3\\envs\\tf2\\lib\\site-packages\\scipy\\optimize\\_minimize.py:783: RuntimeWarning: Method 'bounded' does not support relative tolerance in x; defaulting to absolute tolerance.\n",
      "  warn(\"Method 'bounded' does not support relative tolerance in x; \"\n",
      "ic| label_current_deforestation_test_classified_incorrect.shape: (1199016,)\n",
      "    predicted_test_classified_incorrect.shape: (1199016,)\n",
      "ic| TP_H + FN_H + FP_H + TN_H: 1199016\n",
      "    len(label_mask_current_deforestation_test): 36863532\n",
      "ic| TP_H + FN_H + FP_H + TN_H: 1199016\n",
      "    len(label_mask_current_deforestation_test): 36863532\n"
     ]
    },
    {
     "name": "stdout",
     "output_type": "stream",
     "text": [
      "[0.9884104  0.84908725 0.63280236 0.0325258  0.93501233 0.50608726\n",
      " 0.03149537]\n",
      "0.30813035062127003\n",
      "threshold 0.30813035062127003\n"
     ]
    },
    {
     "name": "stderr",
     "output_type": "stream",
     "text": [
      "ic| label_current_deforestation_test_classified_incorrect.shape: (641523,)\n",
      "    predicted_test_classified_incorrect.shape: (641523,)\n",
      "ic| TP_H + FN_H + FP_H + TN_H: 641523\n",
      "    len(label_mask_current_deforestation_test): 36863532\n",
      "ic| TP_H + FN_H + FP_H + TN_H: 641523\n",
      "    len(label_mask_current_deforestation_test): 36863532\n"
     ]
    },
    {
     "name": "stdout",
     "output_type": "stream",
     "text": [
      "[0.98594389 0.84836596 0.680319   0.01740265 0.92414635 0.41092412\n",
      " 0.05234827]\n",
      "0.11776070124254019\n",
      "threshold 0.11776070124254019\n"
     ]
    },
    {
     "name": "stderr",
     "output_type": "stream",
     "text": [
      "ic| label_current_deforestation_test_classified_incorrect.shape: (2008946,)\n",
      "    predicted_test_classified_incorrect.shape: (2008946,)\n",
      "ic| TP_H + FN_H + FP_H + TN_H: 2008946\n",
      "    len(label_mask_current_deforestation_test): 36863532\n",
      "ic| TP_H + FN_H + FP_H + TN_H: 2008946\n",
      "    len(label_mask_current_deforestation_test): 36863532\n"
     ]
    },
    {
     "name": "stdout",
     "output_type": "stream",
     "text": [
      "[0.99039946 0.84914043 0.59403423 0.05449684 0.94042917 0.55814195\n",
      " 0.02024958]\n",
      "0.22828955251970462\n",
      "threshold 0.22828955251970462\n"
     ]
    },
    {
     "name": "stderr",
     "output_type": "stream",
     "text": [
      "ic| label_current_deforestation_test_classified_incorrect.shape: (958746,)\n",
      "    predicted_test_classified_incorrect.shape: (958746,)\n",
      "ic| TP_H + FN_H + FP_H + TN_H: 958746\n",
      "    len(label_mask_current_deforestation_test): 36863532\n",
      "ic| TP_H + FN_H + FP_H + TN_H: 958746\n",
      "    len(label_mask_current_deforestation_test): 36863532\n"
     ]
    },
    {
     "name": "stdout",
     "output_type": "stream",
     "text": [
      "[0.9877734  0.84912005 0.64905057 0.02600798 0.93103053 0.47816677\n",
      " 0.03806764]\n",
      "0.17632788140900704\n",
      "threshold 0.17632788140900704\n"
     ]
    },
    {
     "name": "stderr",
     "output_type": "stream",
     "text": [
      "ic| label_current_deforestation_test_classified_incorrect.shape: (1314512,)\n",
      "    predicted_test_classified_incorrect.shape: (1314512,)\n",
      "ic| TP_H + FN_H + FP_H + TN_H: 1314512\n",
      "    len(label_mask_current_deforestation_test): 36863532\n",
      "ic| TP_H + FN_H + FP_H + TN_H: 1314512\n",
      "    len(label_mask_current_deforestation_test): 36863532\n"
     ]
    },
    {
     "name": "stdout",
     "output_type": "stream",
     "text": [
      "[0.98874583 0.84919123 0.62628435 0.03565887 0.93605697 0.51594402\n",
      " 0.02913772]\n",
      "0.2055113588407583\n",
      "threshold 0.2055113588407583\n"
     ]
    },
    {
     "name": "stderr",
     "output_type": "stream",
     "text": [
      "ic| label_current_deforestation_test_classified_incorrect.shape: (1092904,)\n",
      "    predicted_test_classified_incorrect.shape: (1092904,)\n",
      "ic| TP_H + FN_H + FP_H + TN_H: 1092904\n",
      "    len(label_mask_current_deforestation_test): 36863532\n",
      "ic| TP_H + FN_H + FP_H + TN_H: 1092904\n",
      "    len(label_mask_current_deforestation_test): 36863532\n"
     ]
    },
    {
     "name": "stdout",
     "output_type": "stream",
     "text": [
      "[0.98815093 0.84919633 0.63961176 0.02964729 0.93341465 0.49474335\n",
      " 0.03409912]\n",
      "0.20697332382641526\n",
      "threshold 0.20697332382641526\n"
     ]
    },
    {
     "name": "stderr",
     "output_type": "stream",
     "text": [
      "ic| label_current_deforestation_test_classified_incorrect.shape: (1083313,)\n",
      "    predicted_test_classified_incorrect.shape: (1083313,)\n",
      "ic| TP_H + FN_H + FP_H + TN_H: 1083313\n",
      "    len(label_mask_current_deforestation_test): 36863532\n",
      "ic| TP_H + FN_H + FP_H + TN_H: 1083313\n",
      "    len(label_mask_current_deforestation_test): 36863532\n"
     ]
    },
    {
     "name": "stdout",
     "output_type": "stream",
     "text": [
      "[0.98812124 0.84920157 0.64030207 0.02938712 0.93326045 0.49356272\n",
      " 0.03435273]\n",
      "0.20169024166930016\n",
      "threshold 0.20169024166930016\n"
     ]
    },
    {
     "name": "stderr",
     "output_type": "stream",
     "text": [
      "ic| label_current_deforestation_test_classified_incorrect.shape: (1118153,)\n",
      "    predicted_test_classified_incorrect.shape: (1118153,)\n",
      "ic| TP_H + FN_H + FP_H + TN_H: 1118153\n",
      "    len(label_mask_current_deforestation_test): 36863532\n",
      "ic| TP_H + FN_H + FP_H + TN_H: 1118153\n",
      "    len(label_mask_current_deforestation_test): 36863532\n"
     ]
    },
    {
     "name": "stdout",
     "output_type": "stream",
     "text": [
      "[0.98821974 0.84914731 0.63786345 0.03033223 0.93382853 0.49776241\n",
      " 0.03343851]\n",
      "0.19740656741652984\n",
      "threshold 0.19740656741652984\n"
     ]
    },
    {
     "name": "stderr",
     "output_type": "stream",
     "text": [
      "ic| label_current_deforestation_test_classified_incorrect.shape: (1147752,)\n",
      "    predicted_test_classified_incorrect.shape: (1147752,)\n",
      "ic| TP_H + FN_H + FP_H + TN_H: 1147752\n",
      "    len(label_mask_current_deforestation_test): 36863532\n",
      "ic| TP_H + FN_H + FP_H + TN_H: 1147752\n",
      "    len(label_mask_current_deforestation_test): 36863532\n"
     ]
    },
    {
     "name": "stdout",
     "output_type": "stream",
     "text": [
      "[0.98831856 0.84912328 0.63598679 0.03113516 0.93414948 0.50089829\n",
      " 0.03270201]\n",
      "0.20351878005823862\n",
      "threshold 0.20351878005823862\n"
     ]
    },
    {
     "name": "stderr",
     "output_type": "stream",
     "text": [
      "ic| label_current_deforestation_test_classified_incorrect.shape: (1106113,)\n",
      "    predicted_test_classified_incorrect.shape: (1106113,)\n",
      "ic| TP_H + FN_H + FP_H + TN_H: 1106113\n",
      "    len(label_mask_current_deforestation_test): 36863532\n",
      "ic| TP_H + FN_H + FP_H + TN_H: 1106113\n",
      "    len(label_mask_current_deforestation_test): 36863532\n"
     ]
    },
    {
     "name": "stdout",
     "output_type": "stream",
     "text": [
      "[0.98818832 0.8491584  0.63875842 0.03000562 0.93360023 0.49624797\n",
      " 0.03374425]\n",
      "0.20357177777616434\n",
      "threshold 0.20357177777616434\n"
     ]
    },
    {
     "name": "stderr",
     "output_type": "stream",
     "text": [
      "ic| label_current_deforestation_test_classified_incorrect.shape: (1105770,)\n",
      "    predicted_test_classified_incorrect.shape: (1105770,)\n",
      "ic| TP_H + FN_H + FP_H + TN_H: 1105770\n",
      "    len(label_mask_current_deforestation_test): 36863532\n",
      "ic| TP_H + FN_H + FP_H + TN_H: 1105770\n",
      "    len(label_mask_current_deforestation_test): 36863532\n"
     ]
    },
    {
     "name": "stdout",
     "output_type": "stream",
     "text": [
      "[0.98818321 0.84916049 0.63876883 0.02999631 0.93361958 0.49622681\n",
      " 0.03375349]\n",
      "0.20378591888483305\n",
      "threshold 0.20378591888483305\n"
     ]
    },
    {
     "name": "stderr",
     "output_type": "stream",
     "text": [
      "ic| label_current_deforestation_test_classified_incorrect.shape: (1104300,)\n",
      "    predicted_test_classified_incorrect.shape: (1104300,)\n",
      "ic| TP_H + FN_H + FP_H + TN_H: 1104300\n",
      "    len(label_mask_current_deforestation_test): 36863532\n",
      "ic| TP_H + FN_H + FP_H + TN_H: 1104300\n",
      "    len(label_mask_current_deforestation_test): 36863532\n"
     ]
    },
    {
     "name": "stdout",
     "output_type": "stream",
     "text": [
      "[0.9881747  0.84916778 0.6388833  0.02995643 0.93361105 0.49602174\n",
      " 0.0337916 ]\n",
      "0.2036051141289551\n",
      "threshold 0.2036051141289551\n"
     ]
    },
    {
     "name": "stderr",
     "output_type": "stream",
     "text": [
      "ic| label_current_deforestation_test_classified_incorrect.shape: (1105557,)\n",
      "    predicted_test_classified_incorrect.shape: (1105557,)\n",
      "ic| TP_H + FN_H + FP_H + TN_H: 1105557\n",
      "    len(label_mask_current_deforestation_test): 36863532\n",
      "ic| TP_H + FN_H + FP_H + TN_H: 1105557\n",
      "    len(label_mask_current_deforestation_test): 36863532\n",
      "ic| self.threshold_optimal: 0.20357177777616434\n"
     ]
    },
    {
     "name": "stdout",
     "output_type": "stream",
     "text": [
      "[0.9881834  0.84916258 0.63877923 0.02999053 0.93361433 0.49620565\n",
      " 0.0337598 ]\n",
      "threshold:  0.20357177777616434\n",
      "threshold 0.20357177777616434\n"
     ]
    },
    {
     "name": "stderr",
     "output_type": "stream",
     "text": [
      "ic| label_current_deforestation_test_classified_incorrect.shape: (1105770,)\n",
      "    predicted_test_classified_incorrect.shape: (1105770,)\n",
      "ic| TP_H + FN_H + FP_H + TN_H: 1105770\n",
      "    len(label_mask_current_deforestation_test): 36863532\n",
      "ic| TP_H + FN_H + FP_H + TN_H: 1105770\n",
      "    len(label_mask_current_deforestation_test): 36863532\n"
     ]
    },
    {
     "name": "stdout",
     "output_type": "stream",
     "text": [
      "[0.98818321 0.84916049 0.63876883 0.02999631 0.93361958 0.49622681\n",
      " 0.03375349]\n",
      "threshold 0.20357177777616434\n",
      "(36863532,) (36863532,)\n"
     ]
    },
    {
     "name": "stderr",
     "output_type": "stream",
     "text": [
      "ic| self.m_optimal: {'AA': array([0.02999631]),\n",
      "                     'UEO': array([0.03375349]),\n",
      "                     'f1': 85.68,\n",
      "                     'f1_H': array([0.64802355]),\n",
      "                     'f1_L': array([0.91341227]),\n",
      "                     'precision_H': array([0.93361958]),\n",
      "                     'precision_L': array([0.98818321]),\n",
      "                     'recall_H': array([0.49622681]),\n",
      "                     'recall_L': array([0.84916049]),\n",
      "                     'recall_Ltotal': array([0.63876883])}\n",
      "ic| self.m_audited_optimal: {'f1': array([0.93606423]),\n",
      "                             'precision': array([0.9914575]),\n",
      "                             'recall': array([0.88653314])}\n"
     ]
    },
    {
     "name": "stdout",
     "output_type": "stream",
     "text": [
      "cm_audited [[36573052     2202]\n",
      " [   32710   255568]]\n",
      "[0.9914575  0.88653314]\n",
      "Result idx 5: {'uncertainty_result': {'metrics': {'precision_L': array([0.98818321]), 'recall_L': array([0.84916049]), 'recall_Ltotal': array([0.63876883]), 'AA': array([0.02999631]), 'precision_H': array([0.93361958]), 'recall_H': array([0.49622681]), 'UEO': array([0.03375349]), 'f1_L': array([0.91341227]), 'f1_H': array([0.64802355]), 'f1': 85.68}, 'metrics_audited': {'precision': array([0.9914575]), 'recall': array([0.88653314]), 'f1': array([0.93606423])}, 'exp': 39}}\n",
      "Grid execution idx: 5\n",
      "Beginning run number 6\n",
      "manager.config {'training': False, 'inferring': True, 'site': 'MS', 'training_date': 'earlier', 'mode': 'evidential2', 'training_times': 10, 'uncertainty_method': 'pred_entropy', 'loadInference': False, 'removePolygons': True, 'plotLandsat': False, 'plotPOI': False, 'training_experiment_id': 39, 'get_multiple_metrics': False, 'start_repetition_id': 4, 'save_probabilities': False, 'addPastDeforestationInput': True, 'classes_mode': True, 'learning_rate': 0.0001, 'use_cloud_mask': False, 'mask_out_non_biome': False, 'log_filename': 'log.pkl', 'inference_times': 1, 'dropout_training': False}\n",
      "D:/Jorge/datasets/deforestation/MS/deforestation_past_years.tif\n",
      "Loaded deforestation past years\n"
     ]
    },
    {
     "name": "stderr",
     "output_type": "stream",
     "text": [
      "ic| np.unique(deforestation_past_years, return_counts=True): (array([   0, 2002, 2004, 2006, 2008, 2010, 2012, 2013, 2014, 2015, 2016,\n",
      "                                                                    2017, 2018, 2019, 2020, 2021], dtype=uint16),\n",
      "                                                              array([334024764,   8717093,   6541094,   3824922,   2096535,   1305948,\n",
      "                                                                      1003721,    903906,    318788,    701575,    310887,    440417,\n",
      "                                                                       316180,    560438,    600838,    776899], dtype=int64))\n"
     ]
    },
    {
     "name": "stdout",
     "output_type": "stream",
     "text": [
      "Label where deforestation past years is actual date (2020) = 1\n"
     ]
    },
    {
     "name": "stderr",
     "output_type": "stream",
     "text": [
      "ic| np.unique(deforestation_past_years, return_counts=True): (array([   0, 2002, 2004, 2006, 2008, 2010, 2012, 2013, 2014, 2015, 2016,\n",
      "                                                                    2017, 2018, 2019, 2020, 2021], dtype=uint16),\n",
      "                                                              array([334024764,   8717093,   6541094,   3824922,   2096535,   1305948,\n",
      "                                                                      1003721,    903906,    318788,    701575,    310887,    440417,\n",
      "                                                                       316180,    560438,    600838,    776899], dtype=int64))\n"
     ]
    },
    {
     "name": "stdout",
     "output_type": "stream",
     "text": [
      "Past deforestation different from 0 (no deforestation)\n"
     ]
    },
    {
     "name": "stderr",
     "output_type": "stream",
     "text": [
      "ic| np.unique(deforestation_past_years, return_counts=True): (array([   0, 2002, 2004, 2006, 2008, 2010, 2012, 2013, 2014, 2015, 2016,\n",
      "                                                                    2017, 2018, 2019, 2020, 2021], dtype=uint16),\n",
      "                                                              array([334024764,   8717093,   6541094,   3824922,   2096535,   1305948,\n",
      "                                                                      1003721,    903906,    318788,    701575,    310887,    440417,\n",
      "                                                                       316180,    560438,    600838,    776899], dtype=int64))\n"
     ]
    },
    {
     "name": "stdout",
     "output_type": "stream",
     "text": [
      "Past deforestation before 2008 is 2\n",
      "D:/Jorge/datasets/deforestation/MS/deforestation_before_2000_MS.tif\n"
     ]
    },
    {
     "name": "stderr",
     "output_type": "stream",
     "text": [
      "ic| np.unique(label_past_deforestation_before_2008, return_counts=True): (array([  0, 208], dtype=uint8), array([126708038, 235735967], dtype=int64))\n",
      "ic| np.unique(deforestation_past_years, return_counts=True): (array([   0, 2002, 2004, 2006, 2008, 2010, 2012, 2013, 2014, 2015, 2016,\n",
      "                                                                    2017, 2018, 2019, 2020, 2021], dtype=uint16),\n",
      "                                                              array([334024764,   8717093,   6541094,   3824922,   2096535,   1305948,\n",
      "                                                                      1003721,    903906,    318788,    701575,    310887,    440417,\n",
      "                                                                       316180,    560438,    600838,    776899], dtype=int64))\n",
      "ic| label_per_date.shape: (18605, 19481, 1)\n"
     ]
    },
    {
     "name": "stdout",
     "output_type": "stream",
     "text": [
      "Removing bufer................\n",
      "Mask label shape:  \n",
      " (18605, 19481, 1) \n",
      " Unique values:  \n",
      " [0 1 2]\n",
      "Tiles size:  3721 3896\n",
      "Mask size:  (18605, 19480)\n"
     ]
    },
    {
     "name": "stderr",
     "output_type": "stream",
     "text": [
      "ic| image_stack.shape: (18605, 19481, 9)\n"
     ]
    },
    {
     "name": "stdout",
     "output_type": "stream",
     "text": [
      "Image shape:  (18605, 19481, 9)\n",
      "mask:  (18605, 19480)\n",
      "image stack:  (18605, 19480, 9)\n",
      "ref : (18605, 19480, 1)\n",
      "Training tiles:  [2, 4, 5, 6, 7, 12, 14, 15, 18, 21, 23, 24]\n",
      "Validation tiles:  [9, 11, 25]\n",
      "Test tiles:  [1, 3, 8, 10, 13, 16, 17, 19, 20, 22]\n",
      "-35.0 -8.0\n"
     ]
    },
    {
     "name": "stderr",
     "output_type": "stream",
     "text": [
      "ic| self.path_models+ '/' + self.method +'_'+str(self.repetition_id)+'.h5': 'D:/Jorge/datasets/deforestation/experiments/MS/exp39/models/resunet_6.h5'\n"
     ]
    },
    {
     "name": "stdout",
     "output_type": "stream",
     "text": [
      "Dropout training mode: False\n",
      "time:  0\n",
      "alpha.shape (18640, 19488, 2)\n",
      "S.shape (18640, 19488)\n",
      "K 2\n",
      "u.shape (18640, 19488)\n",
      "belief.shape (18640, 19488, 2)\n",
      "Inference runtime 139.9\n",
      "(36877090,)\n",
      "(array([0, 1], dtype=uint8), array([36581631,   295459], dtype=int64))\n",
      "(18605, 19480, 2)\n"
     ]
    },
    {
     "name": "stderr",
     "output_type": "stream",
     "text": [
      "ic| predicted_test.shape: (144970160,)\n",
      "ic| predicted_test.shape: (36877090,)\n",
      "ic| np.unique(predicted, return_counts=True): (array([0, 1], dtype=int8), array([361990463,    434937], dtype=int64))\n",
      "    np.unique(predicted_larger_than_min_area, return_counts=True): (array([0, 1], dtype=int8), array([362015729,    409671], dtype=int64))\n",
      "ic| np.unique(ignored_polygons, return_counts=True): (array([0, 1], dtype=int8), array([362400134,     25266], dtype=int64))\n",
      "ic| self.f1: 80.35, self.precision: 85.52, self.recall: 75.77\n",
      "ic| self.label_mask_val.shape: (43491048,)\n",
      "ic| self.label_mask_val_valid.shape: (10773687,)\n",
      "ic| f1_val: 33.77\n",
      "    precision_val: 37.83\n",
      "    recall_val: 30.49\n",
      "    mAP_val: 30.91\n"
     ]
    },
    {
     "name": "stdout",
     "output_type": "stream",
     "text": [
      "(array([0, 1], dtype=int16), array([362223644,    201756], dtype=int64))\n",
      "[0 1]\n"
     ]
    },
    {
     "name": "stderr",
     "output_type": "stream",
     "text": [
      "ic| self.label_mask.shape: (18605, 19480)\n",
      "ic| self.mask_test.shape: (18605, 19480)\n",
      "ic| self.label_mask_test.shape: (144970160,)\n",
      "ic| self.error_mask_test.shape: (36863907,)\n",
      "ic| bounds: (0.00010578750008484349, 0.4985)\n"
     ]
    },
    {
     "name": "stdout",
     "output_type": "stream",
     "text": [
      "(0.00010578750008484349, 0.4985)\n",
      "0.19047543687881469\n",
      "threshold 0.19047543687881469\n"
     ]
    },
    {
     "name": "stderr",
     "output_type": "stream",
     "text": [
      "c:\\Users\\jchamorro\\Anaconda3\\envs\\tf2\\lib\\site-packages\\scipy\\optimize\\_minimize.py:783: RuntimeWarning: Method 'bounded' does not support relative tolerance in x; defaulting to absolute tolerance.\n",
      "  warn(\"Method 'bounded' does not support relative tolerance in x; \"\n",
      "ic| label_current_deforestation_test_classified_incorrect.shape: (2691904,)\n",
      "    predicted_test_classified_incorrect.shape: (2691904,)\n",
      "ic| TP_H + FN_H + FP_H + TN_H: 2691904\n",
      "    len(label_mask_current_deforestation_test): 36863907\n",
      "ic| TP_H + FN_H + FP_H + TN_H: 2691904\n",
      "    len(label_mask_current_deforestation_test): 36863907\n"
     ]
    },
    {
     "name": "stdout",
     "output_type": "stream",
     "text": [
      "[0.99456535 0.87055421 0.56877743 0.07302275 0.60141494 0.54489906\n",
      " 0.03008643]\n",
      "0.30813035062127003\n",
      "threshold 0.30813035062127003\n"
     ]
    },
    {
     "name": "stderr",
     "output_type": "stream",
     "text": [
      "ic| label_current_deforestation_test_classified_incorrect.shape: (1260121,)\n",
      "    predicted_test_classified_incorrect.shape: (1260121,)\n",
      "ic| TP_H + FN_H + FP_H + TN_H: 1260121\n",
      "    len(label_mask_current_deforestation_test): 36863907\n",
      "ic| TP_H + FN_H + FP_H + TN_H: 1260121\n",
      "    len(label_mask_current_deforestation_test): 36863907\n"
     ]
    },
    {
     "name": "stdout",
     "output_type": "stream",
     "text": [
      "[0.9899793  0.86502555 0.64555674 0.03418306 0.47937015 0.44187379\n",
      " 0.05893675]\n",
      "0.38084508625754454\n",
      "threshold 0.38084508625754454\n"
     ]
    },
    {
     "name": "stderr",
     "output_type": "stream",
     "text": [
      "ic| label_current_deforestation_test_classified_incorrect.shape: (814076,)\n",
      "    predicted_test_classified_incorrect.shape: (814076,)\n",
      "ic| TP_H + FN_H + FP_H + TN_H: 814076\n",
      "    len(label_mask_current_deforestation_test): 36863907\n",
      "ic| TP_H + FN_H + FP_H + TN_H: 814076\n",
      "    len(label_mask_current_deforestation_test): 36863907\n"
     ]
    },
    {
     "name": "stdout",
     "output_type": "stream",
     "text": [
      "[0.98827845 0.86322375 0.68721014 0.02208328 0.3696568  0.34553756\n",
      " 0.08641431]\n",
      "0.3316753612534143\n",
      "threshold 0.3316753612534143\n"
     ]
    },
    {
     "name": "stderr",
     "output_type": "stream",
     "text": [
      "ic| label_current_deforestation_test_classified_incorrect.shape: (1088967,)\n",
      "    predicted_test_classified_incorrect.shape: (1088967,)\n",
      "ic| TP_H + FN_H + FP_H + TN_H: 1088967\n",
      "    len(label_mask_current_deforestation_test): 36863907\n",
      "ic| TP_H + FN_H + FP_H + TN_H: 1088967\n",
      "    len(label_mask_current_deforestation_test): 36863907\n"
     ]
    },
    {
     "name": "stdout",
     "output_type": "stream",
     "text": [
      "[0.98938922 0.86426122 0.6593143  0.02954019 0.44792094 0.41474984\n",
      " 0.06701941]\n",
      "0.33846159766451417\n",
      "threshold 0.33846159766451417\n"
     ]
    },
    {
     "name": "stderr",
     "output_type": "stream",
     "text": [
      "ic| label_current_deforestation_test_classified_incorrect.shape: (1044784,)\n",
      "    predicted_test_classified_incorrect.shape: (1044784,)\n",
      "ic| TP_H + FN_H + FP_H + TN_H: 1044784\n",
      "    len(label_mask_current_deforestation_test): 36863907\n",
      "ic| TP_H + FN_H + FP_H + TN_H: 1044784\n",
      "    len(label_mask_current_deforestation_test): 36863907\n"
     ]
    },
    {
     "name": "stdout",
     "output_type": "stream",
     "text": [
      "[0.98924515 0.86410048 0.66312143 0.02834165 0.43846104 0.40649088\n",
      " 0.06951718]\n",
      "0.3270670396747571\n",
      "threshold 0.3270670396747571\n"
     ]
    },
    {
     "name": "stderr",
     "output_type": "stream",
     "text": [
      "ic| label_current_deforestation_test_classified_incorrect.shape: (1120327,)\n",
      "    predicted_test_classified_incorrect.shape: (1120327,)\n",
      "ic| TP_H + FN_H + FP_H + TN_H: 1120327\n",
      "    len(label_mask_current_deforestation_test): 36863907\n",
      "ic| TP_H + FN_H + FP_H + TN_H: 1120327\n",
      "    len(label_mask_current_deforestation_test): 36863907\n"
     ]
    },
    {
     "name": "stdout",
     "output_type": "stream",
     "text": [
      "[0.98951107 0.86434068 0.65660778 0.03039089 0.45441671 0.42048646\n",
      " 0.06535725]\n",
      "0.3288441806235494\n",
      "threshold 0.3288441806235494\n"
     ]
    },
    {
     "name": "stderr",
     "output_type": "stream",
     "text": [
      "ic| label_current_deforestation_test_classified_incorrect.shape: (1108080,)\n",
      "    predicted_test_classified_incorrect.shape: (1108080,)\n",
      "ic| TP_H + FN_H + FP_H + TN_H: 1108080\n",
      "    len(label_mask_current_deforestation_test): 36863907\n",
      "ic| TP_H + FN_H + FP_H + TN_H: 1108080\n",
      "    len(label_mask_current_deforestation_test): 36863907\n"
     ]
    },
    {
     "name": "stdout",
     "output_type": "stream",
     "text": [
      "[0.98945072 0.86429608 0.6576807  0.03005867 0.45187781 0.41825079\n",
      " 0.06598932]\n",
      "0.3292663497656411\n",
      "threshold 0.3292663497656411\n"
     ]
    },
    {
     "name": "stderr",
     "output_type": "stream",
     "text": [
      "ic| label_current_deforestation_test_classified_incorrect.shape: (1105211,)\n",
      "    predicted_test_classified_incorrect.shape: (1105211,)\n",
      "ic| TP_H + FN_H + FP_H + TN_H: 1105211\n",
      "    len(label_mask_current_deforestation_test): 36863907\n",
      "ic| TP_H + FN_H + FP_H + TN_H: 1105211\n",
      "    len(label_mask_current_deforestation_test): 36863907\n"
     ]
    },
    {
     "name": "stdout",
     "output_type": "stream",
     "text": [
      "[0.98943391 0.8642915  0.65791951 0.02998084 0.45131385 0.4177417\n",
      " 0.06614082]\n",
      "0.33018651027468154\n",
      "threshold 0.33018651027468154\n"
     ]
    },
    {
     "name": "stderr",
     "output_type": "stream",
     "text": [
      "ic| label_current_deforestation_test_classified_incorrect.shape: (1099015,)\n",
      "    predicted_test_classified_incorrect.shape: (1099015,)\n",
      "ic| TP_H + FN_H + FP_H + TN_H: 1099015\n",
      "    len(label_mask_current_deforestation_test): 36863907\n",
      "ic| TP_H + FN_H + FP_H + TN_H: 1099015\n",
      "    len(label_mask_current_deforestation_test): 36863907\n"
     ]
    },
    {
     "name": "stdout",
     "output_type": "stream",
     "text": [
      "[0.98940148 0.86427958 0.65846981 0.02981277 0.45000079 0.41656614\n",
      " 0.06646925]\n",
      "0.32929968798278364\n",
      "threshold 0.32929968798278364\n"
     ]
    },
    {
     "name": "stderr",
     "output_type": "stream",
     "text": [
      "ic| label_current_deforestation_test_classified_incorrect.shape: (1104964,)\n",
      "    predicted_test_classified_incorrect.shape: (1104964,)\n",
      "ic| TP_H + FN_H + FP_H + TN_H: 1104964\n",
      "    len(label_mask_current_deforestation_test): 36863907\n",
      "ic| TP_H + FN_H + FP_H + TN_H: 1104964\n",
      "    len(label_mask_current_deforestation_test): 36863907\n"
     ]
    },
    {
     "name": "stdout",
     "output_type": "stream",
     "text": [
      "[0.98943418 0.86428672 0.65793682 0.02997414 0.45127089 0.41771161\n",
      " 0.06615332]\n",
      "0.3291276283852343\n",
      "threshold 0.3291276283852343\n"
     ]
    },
    {
     "name": "stderr",
     "output_type": "stream",
     "text": [
      "ic| label_current_deforestation_test_classified_incorrect.shape: (1106135,)\n",
      "    predicted_test_classified_incorrect.shape: (1106135,)\n",
      "ic| TP_H + FN_H + FP_H + TN_H: 1106135\n",
      "    len(label_mask_current_deforestation_test): 36863907\n",
      "ic| TP_H + FN_H + FP_H + TN_H: 1106135\n",
      "    len(label_mask_current_deforestation_test): 36863907\n"
     ]
    },
    {
     "name": "stdout",
     "output_type": "stream",
     "text": [
      "[0.98944322 0.86429611 0.65785721 0.03000591 0.45145433 0.41786936\n",
      " 0.06609274]\n",
      "0.32901936097430573\n",
      "threshold 0.32901936097430573\n"
     ]
    },
    {
     "name": "stderr",
     "output_type": "stream",
     "text": [
      "ic| label_current_deforestation_test_classified_incorrect.shape: (1106877,)\n",
      "    predicted_test_classified_incorrect.shape: (1106877,)\n",
      "ic| TP_H + FN_H + FP_H + TN_H: 1106877\n",
      "    len(label_mask_current_deforestation_test): 36863907\n",
      "ic| TP_H + FN_H + FP_H + TN_H: 1106877\n",
      "    len(label_mask_current_deforestation_test): 36863907\n"
     ]
    },
    {
     "name": "stdout",
     "output_type": "stream",
     "text": [
      "[0.9894419  0.86429702 0.65777415 0.03002604 0.45166035 0.41804751\n",
      " 0.06605342]\n",
      "0.3290942901701493\n",
      "threshold 0.3290942901701493\n"
     ]
    },
    {
     "name": "stderr",
     "output_type": "stream",
     "text": [
      "ic| label_current_deforestation_test_classified_incorrect.shape: (1106366,)\n",
      "    predicted_test_classified_incorrect.shape: (1106366,)\n",
      "ic| TP_H + FN_H + FP_H + TN_H: 1106366\n",
      "    len(label_mask_current_deforestation_test): 36863907\n",
      "ic| TP_H + FN_H + FP_H + TN_H: 1106366\n",
      "    len(label_mask_current_deforestation_test): 36863907\n"
     ]
    },
    {
     "name": "stdout",
     "output_type": "stream",
     "text": [
      "[0.98944289 0.86430813 0.65783645 0.03001217 0.45150585 0.41789574\n",
      " 0.06608307]\n",
      "0.32916800305130656\n",
      "threshold 0.32916800305130656\n"
     ]
    },
    {
     "name": "stderr",
     "output_type": "stream",
     "text": [
      "ic| label_current_deforestation_test_classified_incorrect.shape: (1105871,)\n",
      "    predicted_test_classified_incorrect.shape: (1105871,)\n",
      "ic| TP_H + FN_H + FP_H + TN_H: 1105871\n",
      "    len(label_mask_current_deforestation_test): 36863907\n",
      "ic| TP_H + FN_H + FP_H + TN_H: 1105871\n",
      "    len(label_mask_current_deforestation_test): 36863907\n"
     ]
    },
    {
     "name": "stdout",
     "output_type": "stream",
     "text": [
      "[0.98944349 0.86429526 0.65787452 0.02999875 0.45141139 0.41783323\n",
      " 0.06610714]\n",
      "0.3292055681535005\n",
      "threshold 0.3292055681535005\n"
     ]
    },
    {
     "name": "stderr",
     "output_type": "stream",
     "text": [
      "ic| label_current_deforestation_test_classified_incorrect.shape: (1105622,)\n",
      "    predicted_test_classified_incorrect.shape: (1105622,)\n",
      "ic| TP_H + FN_H + FP_H + TN_H: 1105622\n",
      "    len(label_mask_current_deforestation_test): 36863907\n",
      "ic| TP_H + FN_H + FP_H + TN_H: 1105622\n",
      "    len(label_mask_current_deforestation_test): 36863907\n",
      "ic| self.threshold_optimal: 0.32916800305130656\n"
     ]
    },
    {
     "name": "stdout",
     "output_type": "stream",
     "text": [
      "[0.98943867 0.86429111 0.65789528 0.02999199 0.45136692 0.41779472\n",
      " 0.0661188 ]\n",
      "threshold:  0.32916800305130656\n",
      "threshold 0.32916800305130656\n"
     ]
    },
    {
     "name": "stderr",
     "output_type": "stream",
     "text": [
      "ic| label_current_deforestation_test_classified_incorrect.shape: (1105871,)\n",
      "    predicted_test_classified_incorrect.shape: (1105871,)\n",
      "ic| TP_H + FN_H + FP_H + TN_H: 1105871\n",
      "    len(label_mask_current_deforestation_test): 36863907\n",
      "ic| TP_H + FN_H + FP_H + TN_H: 1105871\n",
      "    len(label_mask_current_deforestation_test): 36863907\n"
     ]
    },
    {
     "name": "stdout",
     "output_type": "stream",
     "text": [
      "[0.98944349 0.86429526 0.65787452 0.02999875 0.45141139 0.41783323\n",
      " 0.06610714]\n",
      "threshold 0.32916800305130656\n",
      "(36863907,) (36863907,)\n"
     ]
    },
    {
     "name": "stderr",
     "output_type": "stream",
     "text": [
      "ic| self.m_optimal: {'AA': array([0.02999875]),\n",
      "                     'UEO': array([0.06610714]),\n",
      "                     'f1': 80.35,\n",
      "                     'f1_H': array([0.43397377]),\n",
      "                     'f1_L': array([0.92264492]),\n",
      "                     'precision_H': array([0.45141139]),\n",
      "                     'precision_L': array([0.98944349]),\n",
      "                     'recall_H': array([0.41783323]),\n",
      "                     'recall_L': array([0.86429526]),\n",
      "                     'recall_Ltotal': array([0.65787452])}\n",
      "ic| self.m_audited_optimal: {'f1': array([0.94205404]),\n",
      "                             'precision': array([0.99223331]),\n",
      "                             'recall': array([0.8967058])}\n"
     ]
    },
    {
     "name": "stdout",
     "output_type": "stream",
     "text": [
      "cm_audited [[36572947     2028]\n",
      " [   29845   259087]]\n",
      "[0.99223331 0.8967058 ]\n",
      "Result idx 6: {'uncertainty_result': {'metrics': {'precision_L': array([0.98944349]), 'recall_L': array([0.86429526]), 'recall_Ltotal': array([0.65787452]), 'AA': array([0.02999875]), 'precision_H': array([0.45141139]), 'recall_H': array([0.41783323]), 'UEO': array([0.06610714]), 'f1_L': array([0.92264492]), 'f1_H': array([0.43397377]), 'f1': 80.35}, 'metrics_audited': {'precision': array([0.99223331]), 'recall': array([0.8967058]), 'f1': array([0.94205404])}, 'exp': 39}}\n",
      "Grid execution idx: 6\n",
      "Beginning run number 7\n",
      "manager.config {'training': False, 'inferring': True, 'site': 'MS', 'training_date': 'earlier', 'mode': 'evidential2', 'training_times': 10, 'uncertainty_method': 'pred_entropy', 'loadInference': False, 'removePolygons': True, 'plotLandsat': False, 'plotPOI': False, 'training_experiment_id': 39, 'get_multiple_metrics': False, 'start_repetition_id': 4, 'save_probabilities': False, 'addPastDeforestationInput': True, 'classes_mode': True, 'learning_rate': 0.0001, 'use_cloud_mask': False, 'mask_out_non_biome': False, 'log_filename': 'log.pkl', 'inference_times': 1, 'dropout_training': False}\n",
      "D:/Jorge/datasets/deforestation/MS/deforestation_past_years.tif\n",
      "Loaded deforestation past years\n"
     ]
    },
    {
     "name": "stderr",
     "output_type": "stream",
     "text": [
      "ic| np.unique(deforestation_past_years, return_counts=True): (array([   0, 2002, 2004, 2006, 2008, 2010, 2012, 2013, 2014, 2015, 2016,\n",
      "                                                                    2017, 2018, 2019, 2020, 2021], dtype=uint16),\n",
      "                                                              array([334024764,   8717093,   6541094,   3824922,   2096535,   1305948,\n",
      "                                                                      1003721,    903906,    318788,    701575,    310887,    440417,\n",
      "                                                                       316180,    560438,    600838,    776899], dtype=int64))\n"
     ]
    },
    {
     "name": "stdout",
     "output_type": "stream",
     "text": [
      "Label where deforestation past years is actual date (2020) = 1\n"
     ]
    },
    {
     "name": "stderr",
     "output_type": "stream",
     "text": [
      "ic| np.unique(deforestation_past_years, return_counts=True): (array([   0, 2002, 2004, 2006, 2008, 2010, 2012, 2013, 2014, 2015, 2016,\n",
      "                                                                    2017, 2018, 2019, 2020, 2021], dtype=uint16),\n",
      "                                                              array([334024764,   8717093,   6541094,   3824922,   2096535,   1305948,\n",
      "                                                                      1003721,    903906,    318788,    701575,    310887,    440417,\n",
      "                                                                       316180,    560438,    600838,    776899], dtype=int64))\n"
     ]
    },
    {
     "name": "stdout",
     "output_type": "stream",
     "text": [
      "Past deforestation different from 0 (no deforestation)\n"
     ]
    },
    {
     "name": "stderr",
     "output_type": "stream",
     "text": [
      "ic| np.unique(deforestation_past_years, return_counts=True): (array([   0, 2002, 2004, 2006, 2008, 2010, 2012, 2013, 2014, 2015, 2016,\n",
      "                                                                    2017, 2018, 2019, 2020, 2021], dtype=uint16),\n",
      "                                                              array([334024764,   8717093,   6541094,   3824922,   2096535,   1305948,\n",
      "                                                                      1003721,    903906,    318788,    701575,    310887,    440417,\n",
      "                                                                       316180,    560438,    600838,    776899], dtype=int64))\n"
     ]
    },
    {
     "name": "stdout",
     "output_type": "stream",
     "text": [
      "Past deforestation before 2008 is 2\n",
      "D:/Jorge/datasets/deforestation/MS/deforestation_before_2000_MS.tif\n"
     ]
    },
    {
     "name": "stderr",
     "output_type": "stream",
     "text": [
      "ic| np.unique(label_past_deforestation_before_2008, return_counts=True): (array([  0, 208], dtype=uint8), array([126708038, 235735967], dtype=int64))\n",
      "ic| np.unique(deforestation_past_years, return_counts=True): (array([   0, 2002, 2004, 2006, 2008, 2010, 2012, 2013, 2014, 2015, 2016,\n",
      "                                                                    2017, 2018, 2019, 2020, 2021], dtype=uint16),\n",
      "                                                              array([334024764,   8717093,   6541094,   3824922,   2096535,   1305948,\n",
      "                                                                      1003721,    903906,    318788,    701575,    310887,    440417,\n",
      "                                                                       316180,    560438,    600838,    776899], dtype=int64))\n",
      "ic| label_per_date.shape: (18605, 19481, 1)\n"
     ]
    },
    {
     "name": "stdout",
     "output_type": "stream",
     "text": [
      "Removing bufer................\n",
      "Mask label shape:  \n",
      " (18605, 19481, 1) \n",
      " Unique values:  \n",
      " [0 1 2]\n",
      "Tiles size:  3721 3896\n",
      "Mask size:  (18605, 19480)\n"
     ]
    },
    {
     "name": "stderr",
     "output_type": "stream",
     "text": [
      "ic| image_stack.shape: (18605, 19481, 9)\n"
     ]
    },
    {
     "name": "stdout",
     "output_type": "stream",
     "text": [
      "Image shape:  (18605, 19481, 9)\n",
      "mask:  (18605, 19480)\n",
      "image stack:  (18605, 19480, 9)\n",
      "ref : (18605, 19480, 1)\n",
      "Training tiles:  [2, 4, 5, 6, 7, 12, 14, 15, 18, 21, 23, 24]\n",
      "Validation tiles:  [9, 11, 25]\n",
      "Test tiles:  [1, 3, 8, 10, 13, 16, 17, 19, 20, 22]\n",
      "-35.0 -8.0\n"
     ]
    },
    {
     "name": "stderr",
     "output_type": "stream",
     "text": [
      "ic| self.path_models+ '/' + self.method +'_'+str(self.repetition_id)+'.h5': 'D:/Jorge/datasets/deforestation/experiments/MS/exp39/models/resunet_7.h5'\n"
     ]
    },
    {
     "name": "stdout",
     "output_type": "stream",
     "text": [
      "Dropout training mode: False\n",
      "time:  0\n",
      "alpha.shape (18640, 19488, 2)\n",
      "S.shape (18640, 19488)\n",
      "K 2\n",
      "u.shape (18640, 19488)\n",
      "belief.shape (18640, 19488, 2)\n",
      "Inference runtime 140.62\n",
      "(36877090,)\n",
      "(array([0, 1], dtype=uint8), array([36581631,   295459], dtype=int64))\n",
      "(18605, 19480, 2)\n"
     ]
    },
    {
     "name": "stderr",
     "output_type": "stream",
     "text": [
      "ic| predicted_test.shape: (144970160,)\n",
      "ic| predicted_test.shape: (36877090,)\n"
     ]
    }
   ],
   "source": [
    "if config['inferring'] == True:\n",
    "    results = []\n",
    "    error_count = 0\n",
    "\n",
    "    # while idx < len(repetition_n):\n",
    "    for idx in range(config['start_repetition_id'], repetition_n): # 10 repetitions\n",
    "    # for idx in range(0, 4): # 10 repetitions\n",
    "\n",
    "\n",
    "        print(\"Beginning run number {}\".format(idx))\n",
    "        logger = Logger()\n",
    "        manager = manager_class(config, dataset, patchesHandler, logger)\n",
    "\n",
    "        print(\"manager.config\", manager.config)\n",
    "\n",
    "        manager.defineExperiment(exp) # fixed\n",
    "        manager.defineRepetitionId(idx) # varying from 0 to 10\n",
    "        manager.setExperimentPath()\n",
    "        manager.createLogFolders()\n",
    "\n",
    "        manager.loadDataset()\n",
    "\n",
    "        # %%\n",
    "        if config['get_multiple_metrics'] == False:\n",
    "            predictor_fcn = manager.run_predictor\n",
    "        else:\n",
    "            predictor_fcn = manager.run_predictor_multiple_metrics\n",
    "        result = predictor_fcn()\n",
    "        print(\"Result idx {}: {}\".format(idx, result))\n",
    "        results.append(result)\n",
    "\n",
    "        with open(manager.default_log_name, 'wb') as f:\n",
    "            pickle.dump(results, f)\n",
    "        print(\"Grid execution idx: {}\".format(idx))\n",
    "        del manager\n",
    "        gc.collect()\n",
    "        # idx += 1\n",
    "    "
   ]
  },
  {
   "cell_type": "code",
   "execution_count": null,
   "id": "f07bf7d7",
   "metadata": {},
   "outputs": [
    {
     "data": {
      "text/plain": [
       "0"
      ]
     },
     "execution_count": 15,
     "metadata": {},
     "output_type": "execute_result"
    }
   ],
   "source": [
    "error_count"
   ]
  },
  {
   "cell_type": "code",
   "execution_count": null,
   "id": "64080745",
   "metadata": {},
   "outputs": [
    {
     "name": "stdout",
     "output_type": "stream",
     "text": [
      "[{'uncertainty_result': {'metrics': {'precision_L': array([0.81588878]), 'recall_L': array([0.90360463]), 'recall_Ltotal': array([0.7227319]), 'AA': array([0.02999761]), 'precision_H': array([0.24574504]), 'recall_H': array([0.53130907]), 'UEO': array([0.10305995]), 'f1_L': array([0.8575094]), 'f1_H': array([0.33605528]), 'f1': 71.52}, 'metrics_audited': {'precision': array([0.84982389]), 'recall': array([0.9228999]), 'f1': array([0.88485571])}, 'exp': 38}}, {'uncertainty_result': {'metrics': {'precision_L': array([nan]), 'recall_L': array([0.]), 'recall_Ltotal': array([0.]), 'AA': array([0.99999965]), 'precision_H': array([nan]), 'recall_H': array([0.]), 'UEO': array([0.00801175]), 'f1_L': array([nan]), 'f1_H': array([nan]), 'f1': 0.0}, 'metrics_audited': {'precision': array([1.]), 'recall': array([0.99996954]), 'f1': array([0.99998477])}, 'exp': 38}}, {'uncertainty_result': {'metrics': {'precision_L': array([0.90079848]), 'recall_L': array([0.87851248]), 'recall_Ltotal': array([0.82317781]), 'AA': array([0.03128039]), 'precision_H': array([0.34250421]), 'recall_H': array([0.0335386]), 'UEO': array([0.01547685]), 'f1_L': array([0.88951591]), 'f1_H': array([0.0610947]), 'f1': 85.97}, 'metrics_audited': {'precision': array([0.90719515]), 'recall': array([0.88616459]), 'f1': array([0.89655656])}, 'exp': 38}}, {'uncertainty_result': {'metrics': {'precision_L': array([0.98592134]), 'recall_L': array([0.85475207]), 'recall_Ltotal': array([0.68269971]), 'AA': array([0.02999927]), 'precision_H': array([0.90779885]), 'recall_H': array([0.5619469]), 'UEO': array([0.02518181]), 'f1_L': array([0.91566304]), 'f1_H': array([0.69418095]), 'f1': 87.59}, 'metrics_audited': {'precision': array([0.98909216]), 'recall': array([0.88398891]), 'f1': array([0.93359173])}, 'exp': 38}}, {'uncertainty_result': {'metrics': {'precision_L': array([nan]), 'recall_L': array([0.]), 'recall_Ltotal': array([0.]), 'AA': array([0.03906034]), 'precision_H': array([nan]), 'recall_H': array([0.]), 'UEO': array([0.18302793]), 'f1_L': array([nan]), 'f1_H': array([nan]), 'f1': 0.0}, 'metrics_audited': {'precision': array([1.]), 'recall': array([0.90896537]), 'f1': array([0.95231206])}, 'exp': 38}}]\n"
     ]
    }
   ],
   "source": [
    "print(results)"
   ]
  },
  {
   "cell_type": "code",
   "execution_count": null,
   "id": "cd4f4d1d",
   "metadata": {},
   "outputs": [
    {
     "name": "stdout",
     "output_type": "stream",
     "text": [
      "5\n"
     ]
    }
   ],
   "source": [
    "print(len(results))"
   ]
  },
  {
   "cell_type": "code",
   "execution_count": null,
   "id": "6cc43863",
   "metadata": {},
   "outputs": [
    {
     "ename": "IndexError",
     "evalue": "list index out of range",
     "output_type": "error",
     "traceback": [
      "\u001b[1;31m---------------------------------------------------------------------------\u001b[0m",
      "\u001b[1;31mIndexError\u001b[0m                                Traceback (most recent call last)",
      "\u001b[1;32md:\\Jorge\\deforestation_uncertainty\\run_multiple_experiments.ipynb Cell 18\u001b[0m in \u001b[0;36m<cell line: 1>\u001b[1;34m()\u001b[0m\n\u001b[1;32m----> <a href='vscode-notebook-cell:/d%3A/Jorge/deforestation_uncertainty/run_multiple_experiments.ipynb#X23sZmlsZQ%3D%3D?line=0'>1</a>\u001b[0m results[\u001b[39m7\u001b[39;49m]\n",
      "\u001b[1;31mIndexError\u001b[0m: list index out of range"
     ]
    }
   ],
   "source": [
    "results[7]"
   ]
  }
 ],
 "metadata": {
  "kernelspec": {
   "display_name": "Python 3.9.12 ('tf2')",
   "language": "python",
   "name": "python3"
  },
  "language_info": {
   "codemirror_mode": {
    "name": "ipython",
    "version": 3
   },
   "file_extension": ".py",
   "mimetype": "text/x-python",
   "name": "python",
   "nbconvert_exporter": "python",
   "pygments_lexer": "ipython3",
   "version": "3.9.12"
  },
  "vscode": {
   "interpreter": {
    "hash": "0593c6bd4eb743cc503a3c17025f83c5676f297db573750215a1bc8c88a990c4"
   }
  }
 },
 "nbformat": 4,
 "nbformat_minor": 5
}
