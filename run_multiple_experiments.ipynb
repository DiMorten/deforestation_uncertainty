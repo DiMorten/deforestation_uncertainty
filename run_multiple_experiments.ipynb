{
 "cells": [
  {
   "cell_type": "code",
   "execution_count": 1,
   "id": "dbd5b7cf",
   "metadata": {},
   "outputs": [],
   "source": [
    "import tracemalloc\n",
    "\n",
    "from utils_v1 import *\n",
    "import traceback\n"
   ]
  },
  {
   "cell_type": "code",
   "execution_count": null,
   "id": "123e793c",
   "metadata": {},
   "outputs": [
    {
     "name": "stdout",
     "output_type": "stream",
     "text": [
      "Tensorflow ver. 2.6.0\n"
     ]
    }
   ],
   "source": [
    "from icecream import ic\n",
    "\n",
    "import numpy as np\n",
    "from src.dataset import (\n",
    "    MultipleDates, PAMultipleDates,\n",
    "    MTMultipleDates, MSMultipleDates, PIMultipleDates\n",
    ")\n",
    "\n",
    "# from src.dataset_legacy import MTDeforestationTime\n",
    "from src import training_generator as generator\n",
    "from src.patchesHandler import PatchesHandler, PatchesHandlerMultipleDates, PatchesHandlerEvidential2\n",
    "\n",
    "from src.manager.evidential import ManagerEvidential\n",
    "from src.manager.multioutput import ManagerMCDropout, ManagerSingleRun, ManagerEvidential2\n",
    "from mpl_toolkits.axes_grid1 import make_axes_locatable\n",
    "\n",
    "import cv2\n",
    "from src import metrics as _metric\n",
    "import json\n",
    "import pickle \n",
    "import src.manager.evidential as evidential\n",
    "from src.Logger import Logger\n",
    "import pdb\n",
    "import gc\n"
   ]
  },
  {
   "cell_type": "code",
   "execution_count": null,
   "id": "b7a6829f",
   "metadata": {},
   "outputs": [
    {
     "name": "stdout",
     "output_type": "stream",
     "text": [
      "Mode: evidential2. Site: MS. Training: True. Training date: current\n",
      "{'training': True, 'inferring': True, 'site': 'MS', 'training_date': 'current', 'mode': 'evidential2', 'training_times': 20, 'uncertainty_method': 'pred_entropy', 'loadInference': False, 'removePolygons': True, 'plotLandsat': False, 'plotPOI': False, 'training_experiment_id': 41, 'get_multiple_metrics': False, 'start_repetition_id': 0, 'end_repetition_id': 20, 'save_probabilities': False, 'addPastDeforestationInput': True, 'classes_mode': True, 'learning_rate': 0.0001, 'use_cloud_mask': False, 'mask_out_non_biome': False, 'log_filename': 'log.pkl'}\n"
     ]
    }
   ],
   "source": [
    "\n",
    "with open('config/config.json', 'r') as f:\n",
    "    config = json.load(f)\n",
    "    \n",
    "print(\"Mode: {}. Site: {}. Training: {}. Training date: {}\".format(\n",
    "    config['mode'], config['site'], config['training'], config['training_date']))\n",
    "print(config)\n"
   ]
  },
  {
   "cell_type": "code",
   "execution_count": null,
   "id": "603a5df7",
   "metadata": {},
   "outputs": [
    {
     "name": "stderr",
     "output_type": "stream",
     "text": [
      "ic| list(self.date_ids): [0]\n",
      "ic| self.image_channels: [[0, 1, 2, 3, 4, 5, 6, 7, 8]]\n",
      "ic| dates: [2019, 2020]\n",
      "ic| self.input_image_shape: 9\n",
      "ic| self.dataset.image_channels: [[0, 1, 2, 3, 4, 5, 6, 7, 8]]\n"
     ]
    }
   ],
   "source": [
    "\n",
    "if config['site'] == 'PA':\n",
    "\tif config['training_date'] == 'earlier':\n",
    "\t\tdates = [2017, 2018]\n",
    "\telse:\n",
    "\t\tdates = [2018, 2019]\n",
    "\tdatasetClass = PAMultipleDates\n",
    "elif config['site'] == 'MT':\n",
    "\tif config['training_date'] == 'earlier':\n",
    "\t\tdates = [2018, 2019]\n",
    "\telse:\n",
    "\t\tdates = [2019, 2020]\n",
    "\tdatasetClass = MTMultipleDates\n",
    "elif config['site'] == 'MS':\n",
    "\tif config['training_date'] == 'earlier':\n",
    "\t\tdates = [2018, 2019]\n",
    "\telse:\n",
    "\t\tdates = [2019, 2020]\n",
    "\tdatasetClass = MSMultipleDates\n",
    "elif config['site'] == 'PI':\n",
    "\tif config['training_date'] == 'earlier':\n",
    "\t\tdates = [2018, 2019]\n",
    "\telse:\n",
    "\t\tdates = [2019, 2020]\n",
    "\tdatasetClass = PIMultipleDates\n",
    "else:\n",
    "\traise ValueError('Invalid site')\n",
    "\n",
    "dataset = datasetClass(config = config,\n",
    "\t\t\t   dates = dates, \n",
    "\t \taddPastDeforestationInput = config['addPastDeforestationInput'],\n",
    "\t\tborderBuffer = 2)\t\n",
    "\n",
    "if config['mode'] == 'ensemble':\n",
    "\tif config['training'] == True:\n",
    "\t\tconfig['mode'] = 'single_run'\n",
    "\telse:\n",
    "\t\tsys.exit(\"Ensure that training is True for ensemble mode. Use infer_ensemble.ipynb for inference.\")\n",
    "\n",
    "if config['training'] == False:\n",
    "\tif config['site'] == 'PA':\n",
    "\t\tif config['mode'] == 'mcd' or config['mode'] == 'single_run': # MCD will do 10 inference on each of the 10 repetitions = 100 runs\n",
    "\t\t\tif config['training_date'] == 'current': exp = 0\n",
    "\t\t\telif config['training_date'] == 'earlier': exp = 1\n",
    "\t\t\t\t\n",
    "\t\tif config['mode'] == 'evidential2':\n",
    "\t\t\tif config['training_date'] == 'current': exp = 8; repetition_id = 0\n",
    "\t\t\telif config['training_date'] == 'earlier': exp = 9; repetition_id = 0\n",
    "\n",
    "\telif config['site'] == 'MT':\n",
    "\n",
    "\t\tif config['mode'] == 'mcd' or config['mode'] == 'single_run':\n",
    "\t\t\tif config['training_date'] == 'current': exp = 2\n",
    "\t\t\telif config['training_date'] == 'earlier': exp = 3\n",
    "\t\tif config['mode'] == 'evidential2':\n",
    "\t\t\tif config['training_date'] == 'current': exp = 10; repetition_id = 0\n",
    "\t\t\telif config['training_date'] == 'earlier': exp = 11; repetition_id = 0\n",
    "\n",
    "\telif config['site'] == 'MS':\n",
    "\n",
    "\t\tif config['mode'] == 'mcd' or config['mode'] == 'single_run':\n",
    "\t\t\tif config['training_date'] == 'current': exp = 40\n",
    "\t\t\telif config['training_date'] == 'earlier': \n",
    "\t\t\t\texp = 37\n",
    "\n",
    "\t\tif config['mode'] == 'evidential2':\n",
    "\t\t\tif config['training_date'] == 'current': exp = 12; repetition_id = 0\n",
    "\t\t\telif config['training_date'] == 'earlier': exp = 39; repetition_id = 0\n",
    "\telif config['site'] == 'PI':\n",
    "\n",
    "\t\tif config['mode'] == 'mcd' or config['mode'] == 'single_run':\n",
    "\t\t\tif config['training_date'] == 'current': exp = 6\n",
    "\t\t\telif config['training_date'] == 'earlier': exp = 27\n",
    "\t\tif config['mode'] == 'evidential2':\n",
    "\t\t\tif config['training_date'] == 'current': exp = 14; repetition_id = 0\n",
    "\t\t\telif config['training_date'] == 'earlier': exp = 39; repetition_id = 0\n",
    "\n",
    "else:\n",
    "\texp = config['training_experiment_id']\n",
    "ic(dates)\n",
    "\n",
    "\n",
    "if issubclass(type(dataset), MultipleDates):\n",
    "\tpatchesHandler = PatchesHandlerMultipleDates(\n",
    "\t\tdataset)\n",
    "elif config['mode'] == 'evidential2':\n",
    "\tpatchesHandler = PatchesHandlerEvidential2()\n",
    "else:\n",
    "\tpatchesHandler = PatchesHandler()\n",
    "\n"
   ]
  },
  {
   "cell_type": "code",
   "execution_count": null,
   "id": "1bb339c8",
   "metadata": {},
   "outputs": [],
   "source": [
    "\n",
    "\n",
    "if config['mode'] == 'evidential2':\n",
    "    config[\"inference_times\"] = 1\n",
    "    manager_class = ManagerEvidential2\n",
    "    config['uncertainty_method'] = \"pred_entropy\"\n",
    "    config['classes_mode'] = True\n",
    "    \n",
    "if config['mode'] == 'mcd':\n",
    "    config[\"inference_times\"] = 10\n",
    "    manager_class = ManagerMCDropout\n",
    "    config['uncertainty_method'] = \"pred_entropy\"\n",
    "    config['classes_mode'] = False\n",
    "\n",
    "elif config['mode'] == 'single_run':\n",
    "    config[\"inference_times\"] = 1\n",
    "    manager_class = ManagerSingleRun\n",
    "    config['uncertainty_method'] = \"pred_entropy_single\"\n",
    "    config['classes_mode'] = False\n",
    "\n"
   ]
  },
  {
   "cell_type": "code",
   "execution_count": null,
   "id": "c7ae3a0c",
   "metadata": {},
   "outputs": [
    {
     "data": {
      "text/plain": [
       "41"
      ]
     },
     "execution_count": 6,
     "metadata": {},
     "output_type": "execute_result"
    }
   ],
   "source": [
    "exp"
   ]
  },
  {
   "cell_type": "code",
   "execution_count": null,
   "id": "cfa1145d",
   "metadata": {},
   "outputs": [],
   "source": [
    "logger = Logger()\n"
   ]
  },
  {
   "cell_type": "code",
   "execution_count": null,
   "id": "55da0bd1",
   "metadata": {},
   "outputs": [
    {
     "name": "stdout",
     "output_type": "stream",
     "text": [
      "manager.config['dropout_training'] False\n",
      "D:/Jorge/datasets/deforestation/MS/deforestation_past_years.tif\n",
      "Loaded deforestation past years\n"
     ]
    },
    {
     "name": "stderr",
     "output_type": "stream",
     "text": [
      "ic| np.unique(deforestation_past_years, return_counts=True): (array([   0, 2002, 2004, 2006, 2008, 2010, 2012, 2013, 2014, 2015, 2016,\n",
      "                                                                    2017, 2018, 2019, 2020, 2021], dtype=uint16),\n",
      "                                                              array([334024764,   8717093,   6541094,   3824922,   2096535,   1305948,\n",
      "                                                                      1003721,    903906,    318788,    701575,    310887,    440417,\n",
      "                                                                       316180,    560438,    600838,    776899], dtype=int64))\n"
     ]
    },
    {
     "name": "stdout",
     "output_type": "stream",
     "text": [
      "Label where deforestation past years is actual date (2020) = 1\n"
     ]
    },
    {
     "name": "stderr",
     "output_type": "stream",
     "text": [
      "ic| np.unique(deforestation_past_years, return_counts=True): (array([   0, 2002, 2004, 2006, 2008, 2010, 2012, 2013, 2014, 2015, 2016,\n",
      "                                                                    2017, 2018, 2019, 2020, 2021], dtype=uint16),\n",
      "                                                              array([334024764,   8717093,   6541094,   3824922,   2096535,   1305948,\n",
      "                                                                      1003721,    903906,    318788,    701575,    310887,    440417,\n",
      "                                                                       316180,    560438,    600838,    776899], dtype=int64))\n"
     ]
    },
    {
     "name": "stdout",
     "output_type": "stream",
     "text": [
      "Past deforestation different from 0 (no deforestation)\n"
     ]
    },
    {
     "name": "stderr",
     "output_type": "stream",
     "text": [
      "ic| np.unique(deforestation_past_years, return_counts=True): (array([   0, 2002, 2004, 2006, 2008, 2010, 2012, 2013, 2014, 2015, 2016,\n",
      "                                                                    2017, 2018, 2019, 2020, 2021], dtype=uint16),\n",
      "                                                              array([334024764,   8717093,   6541094,   3824922,   2096535,   1305948,\n",
      "                                                                      1003721,    903906,    318788,    701575,    310887,    440417,\n",
      "                                                                       316180,    560438,    600838,    776899], dtype=int64))\n"
     ]
    },
    {
     "name": "stdout",
     "output_type": "stream",
     "text": [
      "Past deforestation before 2008 is 2\n",
      "D:/Jorge/datasets/deforestation/MS/deforestation_before_2000_MS.tif\n"
     ]
    },
    {
     "name": "stderr",
     "output_type": "stream",
     "text": [
      "ic| np.unique(label_past_deforestation_before_2008, return_counts=True): (array([  0, 208], dtype=uint8), array([126708038, 235735967], dtype=int64))\n",
      "ic| np.unique(deforestation_past_years, return_counts=True): (array([   0, 2002, 2004, 2006, 2008, 2010, 2012, 2013, 2014, 2015, 2016,\n",
      "                                                                    2017, 2018, 2019, 2020, 2021], dtype=uint16),\n",
      "                                                              array([334024764,   8717093,   6541094,   3824922,   2096535,   1305948,\n",
      "                                                                      1003721,    903906,    318788,    701575,    310887,    440417,\n",
      "                                                                       316180,    560438,    600838,    776899], dtype=int64))\n",
      "ic| label_per_date.shape: (18605, 19481, 1)\n"
     ]
    },
    {
     "name": "stdout",
     "output_type": "stream",
     "text": [
      "Removing bufer................\n",
      "Mask label shape:  \n",
      " (18605, 19481, 1) \n",
      " Unique values:  \n",
      " [0 1 2]\n",
      "Tiles size:  3721 3896\n",
      "Mask size:  (18605, 19480)\n"
     ]
    },
    {
     "name": "stderr",
     "output_type": "stream",
     "text": [
      "ic| image_stack.shape: (18605, 19481, 9)\n"
     ]
    },
    {
     "name": "stdout",
     "output_type": "stream",
     "text": [
      "Image shape:  (18605, 19481, 9)\n",
      "mask:  (18605, 19480)\n",
      "image stack:  (18605, 19480, 9)\n",
      "ref : (18605, 19480, 1)\n",
      "Training tiles:  [2, 4, 5, 6, 7, 12, 14, 15, 18, 21, 23, 24]\n",
      "Validation tiles:  [9, 11, 25]\n",
      "Test tiles:  [1, 3, 8, 10, 13, 16, 17, 19, 20, 22]\n"
     ]
    },
    {
     "name": "stderr",
     "output_type": "stream",
     "text": [
      "ic| im_idx_row.shape: (18605, 19480, 1)\n",
      "    im_idx_col.shape: (18605, 19480, 1)\n",
      "ic| im_idx_row.dtype: dtype('uint16')\n",
      "    im_idx_col.dtype: dtype('uint16')\n",
      "ic| im_idx.shape: (18605, 19480, 2), im_idx.dtype: dtype('uint16')\n",
      "ic| coords.shape: (487, 510, 1, 128, 128, 2)\n",
      "    coords.dtype: dtype('uint16')\n",
      "ic| coords.shape: (248370, 2), coords.dtype: dtype('uint16')\n",
      "ic| self.coords_train.shape: (115271, 3)\n",
      "    self.coords_val.shape: (28310, 3)\n"
     ]
    },
    {
     "name": "stdout",
     "output_type": "stream",
     "text": [
      "training samples:  (1660, 3) validation samples:  (277, 3)\n",
      "time:  0\n"
     ]
    },
    {
     "name": "stderr",
     "output_type": "stream",
     "text": [
      "c:\\Users\\jchamorro\\Anaconda3\\envs\\tf2\\lib\\site-packages\\tensorflow\\python\\keras\\optimizer_v2\\optimizer_v2.py:374: UserWarning: The `lr` argument is deprecated, use `learning_rate` instead.\n",
      "  warnings.warn(\n"
     ]
    },
    {
     "name": "stdout",
     "output_type": "stream",
     "text": [
      "Model: \"model\"\n",
      "__________________________________________________________________________________________________\n",
      "Layer (type)                    Output Shape         Param #     Connected to                     \n",
      "==================================================================================================\n",
      "input_enc_net (InputLayer)      [(None, 128, 128, 9) 0                                            \n",
      "__________________________________________________________________________________________________\n",
      "res1_net1 (Conv2D)              (None, 128, 128, 16) 1312        input_enc_net[0][0]              \n",
      "__________________________________________________________________________________________________\n",
      "drop_net1 (SpatialDropout2D)    (None, 128, 128, 16) 0           res1_net1[0][0]                  \n",
      "__________________________________________________________________________________________________\n",
      "res2_net1 (Conv2D)              (None, 128, 128, 16) 2320        drop_net1[0][0]                  \n",
      "__________________________________________________________________________________________________\n",
      "res3_net1 (Conv2D)              (None, 128, 128, 16) 160         input_enc_net[0][0]              \n",
      "__________________________________________________________________________________________________\n",
      "add (Add)                       (None, 128, 128, 16) 0           res2_net1[0][0]                  \n",
      "                                                                 res3_net1[0][0]                  \n",
      "__________________________________________________________________________________________________\n",
      "pool_net1 (MaxPooling2D)        (None, 64, 64, 16)   0           add[0][0]                        \n",
      "__________________________________________________________________________________________________\n",
      "res1_net2 (Conv2D)              (None, 64, 64, 32)   4640        pool_net1[0][0]                  \n",
      "__________________________________________________________________________________________________\n",
      "drop_net2 (SpatialDropout2D)    (None, 64, 64, 32)   0           res1_net2[0][0]                  \n",
      "__________________________________________________________________________________________________\n",
      "res2_net2 (Conv2D)              (None, 64, 64, 32)   9248        drop_net2[0][0]                  \n",
      "__________________________________________________________________________________________________\n",
      "res3_net2 (Conv2D)              (None, 64, 64, 32)   544         pool_net1[0][0]                  \n",
      "__________________________________________________________________________________________________\n",
      "add_1 (Add)                     (None, 64, 64, 32)   0           res2_net2[0][0]                  \n",
      "                                                                 res3_net2[0][0]                  \n",
      "__________________________________________________________________________________________________\n",
      "pool_net2 (MaxPooling2D)        (None, 32, 32, 32)   0           add_1[0][0]                      \n",
      "__________________________________________________________________________________________________\n",
      "res1_net3 (Conv2D)              (None, 32, 32, 64)   18496       pool_net2[0][0]                  \n",
      "__________________________________________________________________________________________________\n",
      "drop_net3 (SpatialDropout2D)    (None, 32, 32, 64)   0           res1_net3[0][0]                  \n",
      "__________________________________________________________________________________________________\n",
      "res2_net3 (Conv2D)              (None, 32, 32, 64)   36928       drop_net3[0][0]                  \n",
      "__________________________________________________________________________________________________\n",
      "res3_net3 (Conv2D)              (None, 32, 32, 64)   2112        pool_net2[0][0]                  \n",
      "__________________________________________________________________________________________________\n",
      "add_2 (Add)                     (None, 32, 32, 64)   0           res2_net3[0][0]                  \n",
      "                                                                 res3_net3[0][0]                  \n",
      "__________________________________________________________________________________________________\n",
      "pool_net3 (MaxPooling2D)        (None, 16, 16, 64)   0           add_2[0][0]                      \n",
      "__________________________________________________________________________________________________\n",
      "res1_net4 (Conv2D)              (None, 16, 16, 64)   36928       pool_net3[0][0]                  \n",
      "__________________________________________________________________________________________________\n",
      "drop_net4 (SpatialDropout2D)    (None, 16, 16, 64)   0           res1_net4[0][0]                  \n",
      "__________________________________________________________________________________________________\n",
      "res2_net4 (Conv2D)              (None, 16, 16, 64)   36928       drop_net4[0][0]                  \n",
      "__________________________________________________________________________________________________\n",
      "res3_net4 (Conv2D)              (None, 16, 16, 64)   4160        pool_net3[0][0]                  \n",
      "__________________________________________________________________________________________________\n",
      "add_3 (Add)                     (None, 16, 16, 64)   0           res2_net4[0][0]                  \n",
      "                                                                 res3_net4[0][0]                  \n",
      "__________________________________________________________________________________________________\n",
      "res1_net5 (Conv2D)              (None, 16, 16, 64)   36928       add_3[0][0]                      \n",
      "__________________________________________________________________________________________________\n",
      "drop_net5 (SpatialDropout2D)    (None, 16, 16, 64)   0           res1_net5[0][0]                  \n",
      "__________________________________________________________________________________________________\n",
      "res2_net5 (Conv2D)              (None, 16, 16, 64)   36928       drop_net5[0][0]                  \n",
      "__________________________________________________________________________________________________\n",
      "res3_net5 (Conv2D)              (None, 16, 16, 64)   4160        add_3[0][0]                      \n",
      "__________________________________________________________________________________________________\n",
      "add_4 (Add)                     (None, 16, 16, 64)   0           res2_net5[0][0]                  \n",
      "                                                                 res3_net5[0][0]                  \n",
      "__________________________________________________________________________________________________\n",
      "res1_net6 (Conv2D)              (None, 16, 16, 64)   36928       add_4[0][0]                      \n",
      "__________________________________________________________________________________________________\n",
      "drop_net6 (SpatialDropout2D)    (None, 16, 16, 64)   0           res1_net6[0][0]                  \n",
      "__________________________________________________________________________________________________\n",
      "res2_net6 (Conv2D)              (None, 16, 16, 64)   36928       drop_net6[0][0]                  \n",
      "__________________________________________________________________________________________________\n",
      "res3_net6 (Conv2D)              (None, 16, 16, 64)   4160        add_4[0][0]                      \n",
      "__________________________________________________________________________________________________\n",
      "add_5 (Add)                     (None, 16, 16, 64)   0           res2_net6[0][0]                  \n",
      "                                                                 res3_net6[0][0]                  \n",
      "__________________________________________________________________________________________________\n",
      "up_sampling2d (UpSampling2D)    (None, 32, 32, 64)   0           add_5[0][0]                      \n",
      "__________________________________________________________________________________________________\n",
      "upsampling_net3 (Conv2D)        (None, 32, 32, 64)   36928       up_sampling2d[0][0]              \n",
      "__________________________________________________________________________________________________\n",
      "spatial_dropout2d (SpatialDropo (None, 32, 32, 64)   0           upsampling_net3[0][0]            \n",
      "__________________________________________________________________________________________________\n",
      "concatenate3 (Concatenate)      (None, 32, 32, 128)  0           add_2[0][0]                      \n",
      "                                                                 spatial_dropout2d[0][0]          \n",
      "__________________________________________________________________________________________________\n",
      "up_sampling2d_1 (UpSampling2D)  (None, 64, 64, 128)  0           concatenate3[0][0]               \n",
      "__________________________________________________________________________________________________\n",
      "upsampling_net2 (Conv2D)        (None, 64, 64, 32)   36896       up_sampling2d_1[0][0]            \n",
      "__________________________________________________________________________________________________\n",
      "spatial_dropout2d_1 (SpatialDro (None, 64, 64, 32)   0           upsampling_net2[0][0]            \n",
      "__________________________________________________________________________________________________\n",
      "concatenate2 (Concatenate)      (None, 64, 64, 64)   0           add_1[0][0]                      \n",
      "                                                                 spatial_dropout2d_1[0][0]        \n",
      "__________________________________________________________________________________________________\n",
      "up_sampling2d_2 (UpSampling2D)  (None, 128, 128, 64) 0           concatenate2[0][0]               \n",
      "__________________________________________________________________________________________________\n",
      "upsampling_net1 (Conv2D)        (None, 128, 128, 16) 9232        up_sampling2d_2[0][0]            \n",
      "__________________________________________________________________________________________________\n",
      "spatial_dropout2d_2 (SpatialDro (None, 128, 128, 16) 0           upsampling_net1[0][0]            \n",
      "__________________________________________________________________________________________________\n",
      "concatenate1 (Concatenate)      (None, 128, 128, 32) 0           add[0][0]                        \n",
      "                                                                 spatial_dropout2d_2[0][0]        \n",
      "__________________________________________________________________________________________________\n",
      "output (Conv2D)                 (None, 128, 128, 2)  66          concatenate1[0][0]               \n",
      "__________________________________________________________________________________________________\n",
      "dirichlet_layer (DirichletLayer (None, 128, 128, 2)  0           output[0][0]                     \n",
      "==================================================================================================\n",
      "Total params: 392,930\n",
      "Trainable params: 392,930\n",
      "Non-trainable params: 0\n",
      "__________________________________________________________________________________________________\n",
      "Epoch: 1\n",
      "Anneling Coeficient 0\n",
      "K.int_shape(mse) (None, 128, 128, 1)\n",
      "K.int_shape(mask) (None, None, None, 1)\n",
      "K.int_shape(E) (None, 128, 128, 2)\n",
      "K.int_shape(y_truth) (None, None, None, None)\n",
      "K.int_shape(mse) (None, 128, 128, 1)\n",
      "K.int_shape(mask) (None, None, None, 1)\n",
      "K.int_shape(E) (None, 128, 128, 2)\n",
      "K.int_shape(y_truth) (None, None, None, None)\n",
      "155/155 [==============================] - ETA: 0s - loss: 0.2937 - accuracy: 0.3636K.int_shape(mse) (None, 128, 128, 1)\n",
      "K.int_shape(mask) (None, None, None, 1)\n",
      "K.int_shape(E) (None, 128, 128, 2)\n",
      "K.int_shape(y_truth) (None, None, None, None)\n",
      "155/155 [==============================] - 15s 57ms/step - loss: 0.2937 - accuracy: 0.3636 - val_loss: 0.2693 - val_accuracy: 0.3384\n",
      "\n",
      "Epoch 00001: val_loss improved from inf to 0.26925, saving model to D:/Jorge/datasets/deforestation/experiments/MS/exp41/models\\resunet_0.h5\n",
      "New best val loss. Val loss: 0.26925. Early stop count: 0\n",
      "Epoch: 2\n",
      "Anneling Coeficient [0.1]\n",
      "  1/155 [..............................] - ETA: 8s - loss: 0.2998 - accuracy: 0.4125"
     ]
    },
    {
     "name": "stderr",
     "output_type": "stream",
     "text": [
      "c:\\Users\\jchamorro\\Anaconda3\\envs\\tf2\\lib\\site-packages\\tensorflow\\python\\keras\\utils\\generic_utils.py:494: CustomMaskWarning: Custom mask layers require a config and must override get_config. When loading, the custom mask layer must be passed to the custom_objects argument.\n",
      "  warnings.warn('Custom mask layers require a config and must override '\n"
     ]
    },
    {
     "name": "stdout",
     "output_type": "stream",
     "text": [
      "155/155 [==============================] - 7s 46ms/step - loss: 0.2911 - accuracy: 0.3715 - val_loss: 0.2708 - val_accuracy: 0.3434\n",
      "\n",
      "Epoch 00001: val_loss did not improve from 0.26925\n",
      "Early stop count: 1\n",
      "Epoch: 3\n",
      "Anneling Coeficient [0.2]\n",
      "155/155 [==============================] - 7s 46ms/step - loss: 0.2911 - accuracy: 0.3719 - val_loss: 0.2733 - val_accuracy: 0.3507\n",
      "\n",
      "Epoch 00001: val_loss did not improve from 0.26925\n",
      "Early stop count: 2\n",
      "Epoch: 4\n",
      "Anneling Coeficient [0.3]\n",
      "155/155 [==============================] - 7s 46ms/step - loss: 0.2911 - accuracy: 0.3721 - val_loss: 0.2678 - val_accuracy: 0.3362\n",
      "\n",
      "Epoch 00001: val_loss improved from 0.26925 to 0.26778, saving model to D:/Jorge/datasets/deforestation/experiments/MS/exp41/models\\resunet_0.h5\n",
      "New best val loss. Val loss: 0.26778. Early stop count: 0\n",
      "Epoch: 5\n",
      "Anneling Coeficient [0.4]\n",
      "155/155 [==============================] - 7s 46ms/step - loss: 0.2910 - accuracy: 0.3721 - val_loss: 0.2672 - val_accuracy: 0.3306\n",
      "\n",
      "Epoch 00001: val_loss improved from 0.26778 to 0.26716, saving model to D:/Jorge/datasets/deforestation/experiments/MS/exp41/models\\resunet_0.h5\n",
      "New best val loss. Val loss: 0.26716. Early stop count: 0\n",
      "Epoch: 6\n",
      "Anneling Coeficient [0.5]\n",
      "155/155 [==============================] - 7s 46ms/step - loss: 0.2909 - accuracy: 0.3718 - val_loss: 0.2699 - val_accuracy: 0.3395\n",
      "\n",
      "Epoch 00001: val_loss did not improve from 0.26716\n",
      "Early stop count: 1\n",
      "Epoch: 7\n",
      "Anneling Coeficient [0.6]\n",
      "155/155 [==============================] - 7s 46ms/step - loss: 0.2911 - accuracy: 0.3724 - val_loss: 0.2641 - val_accuracy: 0.3237\n",
      "\n",
      "Epoch 00001: val_loss improved from 0.26716 to 0.26413, saving model to D:/Jorge/datasets/deforestation/experiments/MS/exp41/models\\resunet_0.h5\n",
      "New best val loss. Val loss: 0.26413. Early stop count: 0\n",
      "Epoch: 8\n",
      "Anneling Coeficient [0.7]\n",
      "155/155 [==============================] - 7s 46ms/step - loss: 0.2910 - accuracy: 0.3718 - val_loss: 0.2561 - val_accuracy: 0.3027\n",
      "\n",
      "Epoch 00001: val_loss improved from 0.26413 to 0.25606, saving model to D:/Jorge/datasets/deforestation/experiments/MS/exp41/models\\resunet_0.h5\n",
      "New best val loss. Val loss: 0.25606. Early stop count: 0\n",
      "Epoch: 9\n",
      "Anneling Coeficient [0.8]\n",
      "155/155 [==============================] - 7s 46ms/step - loss: 0.2909 - accuracy: 0.3718 - val_loss: 0.2605 - val_accuracy: 0.3172\n",
      "\n",
      "Epoch 00001: val_loss did not improve from 0.25606\n",
      "Early stop count: 1\n",
      "Epoch: 10\n",
      "Anneling Coeficient [0.9]\n",
      "155/155 [==============================] - 7s 46ms/step - loss: 0.2855 - accuracy: 0.3716 - val_loss: 0.2401 - val_accuracy: 0.3409\n",
      "\n",
      "Epoch 00001: val_loss improved from 0.25606 to 0.24014, saving model to D:/Jorge/datasets/deforestation/experiments/MS/exp41/models\\resunet_0.h5\n",
      "New best val loss. Val loss: 0.24014. Early stop count: 0\n",
      "Epoch: 11\n",
      "Anneling Coeficient [1.]\n",
      "155/155 [==============================] - 7s 46ms/step - loss: 0.2312 - accuracy: 0.3718 - val_loss: 0.2182 - val_accuracy: 0.3435\n",
      "\n",
      "Epoch 00001: val_loss improved from 0.24014 to 0.21821, saving model to D:/Jorge/datasets/deforestation/experiments/MS/exp41/models\\resunet_0.h5\n",
      "New best val loss. Val loss: 0.21821. Early stop count: 0\n",
      "Epoch: 12\n",
      "Anneling Coeficient [1.]\n",
      "155/155 [==============================] - 7s 46ms/step - loss: 0.2197 - accuracy: 0.3726 - val_loss: 0.2191 - val_accuracy: 0.3507\n",
      "\n",
      "Epoch 00001: val_loss did not improve from 0.21821\n",
      "Early stop count: 1\n",
      "Epoch: 13\n",
      "Anneling Coeficient [1.]\n",
      "155/155 [==============================] - 7s 47ms/step - loss: 0.2166 - accuracy: 0.3717 - val_loss: 0.2111 - val_accuracy: 0.3367\n",
      "\n",
      "Epoch 00001: val_loss improved from 0.21821 to 0.21110, saving model to D:/Jorge/datasets/deforestation/experiments/MS/exp41/models\\resunet_0.h5\n",
      "New best val loss. Val loss: 0.2111. Early stop count: 0\n",
      "Epoch: 14\n",
      "Anneling Coeficient [1.]\n",
      "155/155 [==============================] - 7s 46ms/step - loss: 0.2134 - accuracy: 0.3723 - val_loss: 0.2154 - val_accuracy: 0.3308\n",
      "\n",
      "Epoch 00001: val_loss did not improve from 0.21110\n",
      "Early stop count: 1\n",
      "Epoch: 15\n",
      "Anneling Coeficient [1.]\n",
      "155/155 [==============================] - 7s 46ms/step - loss: 0.2109 - accuracy: 0.3722 - val_loss: 0.2146 - val_accuracy: 0.3398\n",
      "\n",
      "Epoch 00001: val_loss did not improve from 0.21110\n",
      "Early stop count: 2\n",
      "Epoch: 16\n",
      "Anneling Coeficient [1.]\n",
      "155/155 [==============================] - 7s 46ms/step - loss: 0.2087 - accuracy: 0.3723 - val_loss: 0.2173 - val_accuracy: 0.3238\n",
      "\n",
      "Epoch 00001: val_loss did not improve from 0.21110\n",
      "Early stop count: 3\n",
      "Epoch: 17\n",
      "Anneling Coeficient [1.]\n",
      "155/155 [==============================] - 7s 46ms/step - loss: 0.2066 - accuracy: 0.3729 - val_loss: 0.2018 - val_accuracy: 0.3030\n",
      "\n",
      "Epoch 00001: val_loss improved from 0.21110 to 0.20183, saving model to D:/Jorge/datasets/deforestation/experiments/MS/exp41/models\\resunet_0.h5\n",
      "New best val loss. Val loss: 0.20183. Early stop count: 0\n",
      "Epoch: 18\n",
      "Anneling Coeficient [1.]\n",
      "155/155 [==============================] - 7s 46ms/step - loss: 0.2053 - accuracy: 0.3767 - val_loss: 0.2025 - val_accuracy: 0.3298\n",
      "\n",
      "Epoch 00001: val_loss did not improve from 0.20183\n",
      "Early stop count: 1\n",
      "Epoch: 19\n",
      "Anneling Coeficient [1.]\n",
      "155/155 [==============================] - 7s 46ms/step - loss: 0.2001 - accuracy: 0.4280 - val_loss: 0.2074 - val_accuracy: 0.3665\n",
      "\n",
      "Epoch 00001: val_loss did not improve from 0.20183\n",
      "Early stop count: 2\n",
      "Epoch: 20\n",
      "Anneling Coeficient [1.]\n",
      "155/155 [==============================] - 7s 46ms/step - loss: 0.1961 - accuracy: 0.4353 - val_loss: 0.2063 - val_accuracy: 0.3700\n",
      "\n",
      "Epoch 00001: val_loss did not improve from 0.20183\n",
      "Early stop count: 3\n",
      "Epoch: 21\n",
      "Anneling Coeficient [1.]\n",
      "155/155 [==============================] - 7s 46ms/step - loss: 0.1942 - accuracy: 0.4375 - val_loss: 0.2042 - val_accuracy: 0.3762\n",
      "\n",
      "Epoch 00001: val_loss did not improve from 0.20183\n",
      "Early stop count: 4\n",
      "Epoch: 22\n",
      "Anneling Coeficient [1.]\n",
      "155/155 [==============================] - 7s 46ms/step - loss: 0.1928 - accuracy: 0.4377 - val_loss: 0.2099 - val_accuracy: 0.3534\n",
      "\n",
      "Epoch 00001: val_loss did not improve from 0.20183\n",
      "Early stop count: 5\n",
      "Epoch: 23\n",
      "Anneling Coeficient [1.]\n",
      "155/155 [==============================] - 7s 46ms/step - loss: 0.1916 - accuracy: 0.4388 - val_loss: 0.2046 - val_accuracy: 0.3622\n",
      "\n",
      "Epoch 00001: val_loss did not improve from 0.20183\n",
      "Early stop count: 6\n",
      "Epoch: 24\n",
      "Anneling Coeficient [1.]\n",
      "155/155 [==============================] - 7s 45ms/step - loss: 0.1900 - accuracy: 0.4392 - val_loss: 0.2056 - val_accuracy: 0.3656\n",
      "\n",
      "Epoch 00001: val_loss did not improve from 0.20183\n",
      "Early stop count: 7\n",
      "Epoch: 25\n",
      "Anneling Coeficient [1.]\n",
      "155/155 [==============================] - 7s 43ms/step - loss: 0.1893 - accuracy: 0.4397 - val_loss: 0.2022 - val_accuracy: 0.3554\n",
      "\n",
      "Epoch 00001: val_loss did not improve from 0.20183\n",
      "Early stop count: 8\n",
      "Epoch: 26\n",
      "Anneling Coeficient [1.]\n",
      "155/155 [==============================] - 7s 43ms/step - loss: 0.1884 - accuracy: 0.4391 - val_loss: 0.2068 - val_accuracy: 0.3328\n",
      "\n",
      "Epoch 00001: val_loss did not improve from 0.20183\n",
      "Early stop count: 9\n",
      "Epoch: 27\n",
      "Anneling Coeficient [1.]\n",
      "155/155 [==============================] - 7s 43ms/step - loss: 0.1874 - accuracy: 0.4393 - val_loss: 0.1979 - val_accuracy: 0.3493\n",
      "\n",
      "Epoch 00001: val_loss improved from 0.20183 to 0.19790, saving model to D:/Jorge/datasets/deforestation/experiments/MS/exp41/models\\resunet_0.h5\n",
      "New best val loss. Val loss: 0.1979. Early stop count: 0\n",
      "Epoch: 28\n",
      "Anneling Coeficient [1.]\n",
      "155/155 [==============================] - 7s 43ms/step - loss: 0.1861 - accuracy: 0.4399 - val_loss: 0.2083 - val_accuracy: 0.3661\n",
      "\n",
      "Epoch 00001: val_loss did not improve from 0.19790\n",
      "Early stop count: 1\n",
      "Epoch: 29\n",
      "Anneling Coeficient [1.]\n",
      "155/155 [==============================] - 7s 42ms/step - loss: 0.1860 - accuracy: 0.4391 - val_loss: 0.2086 - val_accuracy: 0.3752\n",
      "\n",
      "Epoch 00001: val_loss did not improve from 0.19790\n",
      "Early stop count: 2\n",
      "Epoch: 30\n",
      "Anneling Coeficient [1.]\n",
      "155/155 [==============================] - 7s 42ms/step - loss: 0.1849 - accuracy: 0.4401 - val_loss: 0.2207 - val_accuracy: 0.3830\n",
      "\n",
      "Epoch 00001: val_loss did not improve from 0.19790\n",
      "Early stop count: 3\n",
      "Epoch: 31\n",
      "Anneling Coeficient [1.]\n",
      "155/155 [==============================] - 7s 44ms/step - loss: 0.1848 - accuracy: 0.4397 - val_loss: 0.2074 - val_accuracy: 0.3659\n",
      "\n",
      "Epoch 00001: val_loss did not improve from 0.19790\n",
      "Early stop count: 4\n",
      "Epoch: 32\n",
      "Anneling Coeficient [1.]\n",
      "155/155 [==============================] - 7s 42ms/step - loss: 0.1838 - accuracy: 0.4401 - val_loss: 0.2132 - val_accuracy: 0.3616\n",
      "\n",
      "Epoch 00001: val_loss did not improve from 0.19790\n",
      "Early stop count: 5\n",
      "Epoch: 33\n",
      "Anneling Coeficient [1.]\n",
      "155/155 [==============================] - 7s 42ms/step - loss: 0.1834 - accuracy: 0.4404 - val_loss: 0.2153 - val_accuracy: 0.3698\n",
      "\n",
      "Epoch 00001: val_loss did not improve from 0.19790\n",
      "Early stop count: 6\n",
      "Epoch: 34\n",
      "Anneling Coeficient [1.]\n",
      "155/155 [==============================] - 7s 43ms/step - loss: 0.1827 - accuracy: 0.4401 - val_loss: 0.2128 - val_accuracy: 0.3527\n",
      "\n",
      "Epoch 00001: val_loss did not improve from 0.19790\n",
      "Early stop count: 7\n",
      "Epoch: 35\n",
      "Anneling Coeficient [1.]\n",
      "155/155 [==============================] - 7s 42ms/step - loss: 0.1827 - accuracy: 0.4406 - val_loss: 0.2061 - val_accuracy: 0.3372\n",
      "\n",
      "Epoch 00001: val_loss did not improve from 0.19790\n",
      "Early stop count: 8\n",
      "Epoch: 36\n",
      "Anneling Coeficient [1.]\n",
      "155/155 [==============================] - 7s 43ms/step - loss: 0.1818 - accuracy: 0.4403 - val_loss: 0.2237 - val_accuracy: 0.3500\n",
      "\n",
      "Epoch 00001: val_loss did not improve from 0.19790\n",
      "Early stop count: 9\n",
      "Epoch: 37\n",
      "Anneling Coeficient [1.]\n",
      "155/155 [==============================] - 7s 43ms/step - loss: 0.1824 - accuracy: 0.4406 - val_loss: 0.2284 - val_accuracy: 0.3682\n",
      "\n",
      "Epoch 00001: val_loss did not improve from 0.19790\n",
      "Early stop count: 10\n",
      "Early stopping\n",
      "10 10\n",
      "Finished Training\n",
      "Training time:  268.74388885498047\n",
      "time:  1\n",
      "Model: \"model_1\"\n",
      "__________________________________________________________________________________________________\n",
      "Layer (type)                    Output Shape         Param #     Connected to                     \n",
      "==================================================================================================\n",
      "input_enc_net (InputLayer)      [(None, 128, 128, 9) 0                                            \n",
      "__________________________________________________________________________________________________\n",
      "res1_net1 (Conv2D)              (None, 128, 128, 16) 1312        input_enc_net[0][0]              \n",
      "__________________________________________________________________________________________________\n",
      "drop_net1 (SpatialDropout2D)    (None, 128, 128, 16) 0           res1_net1[0][0]                  \n",
      "__________________________________________________________________________________________________\n",
      "res2_net1 (Conv2D)              (None, 128, 128, 16) 2320        drop_net1[0][0]                  \n",
      "__________________________________________________________________________________________________\n",
      "res3_net1 (Conv2D)              (None, 128, 128, 16) 160         input_enc_net[0][0]              \n",
      "__________________________________________________________________________________________________\n",
      "add_6 (Add)                     (None, 128, 128, 16) 0           res2_net1[0][0]                  \n",
      "                                                                 res3_net1[0][0]                  \n",
      "__________________________________________________________________________________________________\n",
      "pool_net1 (MaxPooling2D)        (None, 64, 64, 16)   0           add_6[0][0]                      \n",
      "__________________________________________________________________________________________________\n",
      "res1_net2 (Conv2D)              (None, 64, 64, 32)   4640        pool_net1[0][0]                  \n",
      "__________________________________________________________________________________________________\n",
      "drop_net2 (SpatialDropout2D)    (None, 64, 64, 32)   0           res1_net2[0][0]                  \n",
      "__________________________________________________________________________________________________\n",
      "res2_net2 (Conv2D)              (None, 64, 64, 32)   9248        drop_net2[0][0]                  \n",
      "__________________________________________________________________________________________________\n",
      "res3_net2 (Conv2D)              (None, 64, 64, 32)   544         pool_net1[0][0]                  \n",
      "__________________________________________________________________________________________________\n",
      "add_7 (Add)                     (None, 64, 64, 32)   0           res2_net2[0][0]                  \n",
      "                                                                 res3_net2[0][0]                  \n",
      "__________________________________________________________________________________________________\n",
      "pool_net2 (MaxPooling2D)        (None, 32, 32, 32)   0           add_7[0][0]                      \n",
      "__________________________________________________________________________________________________\n",
      "res1_net3 (Conv2D)              (None, 32, 32, 64)   18496       pool_net2[0][0]                  \n",
      "__________________________________________________________________________________________________\n",
      "drop_net3 (SpatialDropout2D)    (None, 32, 32, 64)   0           res1_net3[0][0]                  \n",
      "__________________________________________________________________________________________________\n",
      "res2_net3 (Conv2D)              (None, 32, 32, 64)   36928       drop_net3[0][0]                  \n",
      "__________________________________________________________________________________________________\n",
      "res3_net3 (Conv2D)              (None, 32, 32, 64)   2112        pool_net2[0][0]                  \n",
      "__________________________________________________________________________________________________\n",
      "add_8 (Add)                     (None, 32, 32, 64)   0           res2_net3[0][0]                  \n",
      "                                                                 res3_net3[0][0]                  \n",
      "__________________________________________________________________________________________________\n",
      "pool_net3 (MaxPooling2D)        (None, 16, 16, 64)   0           add_8[0][0]                      \n",
      "__________________________________________________________________________________________________\n",
      "res1_net4 (Conv2D)              (None, 16, 16, 64)   36928       pool_net3[0][0]                  \n",
      "__________________________________________________________________________________________________\n",
      "drop_net4 (SpatialDropout2D)    (None, 16, 16, 64)   0           res1_net4[0][0]                  \n",
      "__________________________________________________________________________________________________\n",
      "res2_net4 (Conv2D)              (None, 16, 16, 64)   36928       drop_net4[0][0]                  \n",
      "__________________________________________________________________________________________________\n",
      "res3_net4 (Conv2D)              (None, 16, 16, 64)   4160        pool_net3[0][0]                  \n",
      "__________________________________________________________________________________________________\n",
      "add_9 (Add)                     (None, 16, 16, 64)   0           res2_net4[0][0]                  \n",
      "                                                                 res3_net4[0][0]                  \n",
      "__________________________________________________________________________________________________\n",
      "res1_net5 (Conv2D)              (None, 16, 16, 64)   36928       add_9[0][0]                      \n",
      "__________________________________________________________________________________________________\n",
      "drop_net5 (SpatialDropout2D)    (None, 16, 16, 64)   0           res1_net5[0][0]                  \n",
      "__________________________________________________________________________________________________\n",
      "res2_net5 (Conv2D)              (None, 16, 16, 64)   36928       drop_net5[0][0]                  \n",
      "__________________________________________________________________________________________________\n",
      "res3_net5 (Conv2D)              (None, 16, 16, 64)   4160        add_9[0][0]                      \n",
      "__________________________________________________________________________________________________\n",
      "add_10 (Add)                    (None, 16, 16, 64)   0           res2_net5[0][0]                  \n",
      "                                                                 res3_net5[0][0]                  \n",
      "__________________________________________________________________________________________________\n",
      "res1_net6 (Conv2D)              (None, 16, 16, 64)   36928       add_10[0][0]                     \n",
      "__________________________________________________________________________________________________\n",
      "drop_net6 (SpatialDropout2D)    (None, 16, 16, 64)   0           res1_net6[0][0]                  \n",
      "__________________________________________________________________________________________________\n",
      "res2_net6 (Conv2D)              (None, 16, 16, 64)   36928       drop_net6[0][0]                  \n",
      "__________________________________________________________________________________________________\n",
      "res3_net6 (Conv2D)              (None, 16, 16, 64)   4160        add_10[0][0]                     \n",
      "__________________________________________________________________________________________________\n",
      "add_11 (Add)                    (None, 16, 16, 64)   0           res2_net6[0][0]                  \n",
      "                                                                 res3_net6[0][0]                  \n",
      "__________________________________________________________________________________________________\n",
      "up_sampling2d_3 (UpSampling2D)  (None, 32, 32, 64)   0           add_11[0][0]                     \n",
      "__________________________________________________________________________________________________\n",
      "upsampling_net3 (Conv2D)        (None, 32, 32, 64)   36928       up_sampling2d_3[0][0]            \n",
      "__________________________________________________________________________________________________\n",
      "spatial_dropout2d_3 (SpatialDro (None, 32, 32, 64)   0           upsampling_net3[0][0]            \n",
      "__________________________________________________________________________________________________\n",
      "concatenate3 (Concatenate)      (None, 32, 32, 128)  0           add_8[0][0]                      \n",
      "                                                                 spatial_dropout2d_3[0][0]        \n",
      "__________________________________________________________________________________________________\n",
      "up_sampling2d_4 (UpSampling2D)  (None, 64, 64, 128)  0           concatenate3[0][0]               \n",
      "__________________________________________________________________________________________________\n",
      "upsampling_net2 (Conv2D)        (None, 64, 64, 32)   36896       up_sampling2d_4[0][0]            \n",
      "__________________________________________________________________________________________________\n",
      "spatial_dropout2d_4 (SpatialDro (None, 64, 64, 32)   0           upsampling_net2[0][0]            \n",
      "__________________________________________________________________________________________________\n",
      "concatenate2 (Concatenate)      (None, 64, 64, 64)   0           add_7[0][0]                      \n",
      "                                                                 spatial_dropout2d_4[0][0]        \n",
      "__________________________________________________________________________________________________\n",
      "up_sampling2d_5 (UpSampling2D)  (None, 128, 128, 64) 0           concatenate2[0][0]               \n",
      "__________________________________________________________________________________________________\n",
      "upsampling_net1 (Conv2D)        (None, 128, 128, 16) 9232        up_sampling2d_5[0][0]            \n",
      "__________________________________________________________________________________________________\n",
      "spatial_dropout2d_5 (SpatialDro (None, 128, 128, 16) 0           upsampling_net1[0][0]            \n",
      "__________________________________________________________________________________________________\n",
      "concatenate1 (Concatenate)      (None, 128, 128, 32) 0           add_6[0][0]                      \n",
      "                                                                 spatial_dropout2d_5[0][0]        \n",
      "__________________________________________________________________________________________________\n",
      "output (Conv2D)                 (None, 128, 128, 2)  66          concatenate1[0][0]               \n",
      "__________________________________________________________________________________________________\n",
      "dirichlet_layer_1 (DirichletLay (None, 128, 128, 2)  0           output[0][0]                     \n",
      "==================================================================================================\n",
      "Total params: 392,930\n",
      "Trainable params: 392,930\n",
      "Non-trainable params: 0\n",
      "__________________________________________________________________________________________________\n",
      "Epoch: 1\n",
      "Anneling Coeficient [1.]\n",
      "K.int_shape(mse) (None, 128, 128, 1)\n",
      "K.int_shape(mask) (None, None, None, 1)\n",
      "K.int_shape(E) (None, 128, 128, 2)\n",
      "K.int_shape(y_truth) (None, None, None, None)\n",
      "K.int_shape(mse) (None, 128, 128, 1)\n",
      "K.int_shape(mask) (None, None, None, 1)\n",
      "K.int_shape(E) (None, 128, 128, 2)\n",
      "K.int_shape(y_truth) (None, None, None, None)\n",
      "155/155 [==============================] - ETA: 0s - loss: 0.2993 - accuracy: 0.3448K.int_shape(mse) (None, 128, 128, 1)\n",
      "K.int_shape(mask) (None, None, None, 1)\n",
      "K.int_shape(E) (None, 128, 128, 2)\n",
      "K.int_shape(y_truth) (None, None, None, None)\n",
      "155/155 [==============================] - 9s 46ms/step - loss: 0.2993 - accuracy: 0.3448 - val_loss: 0.2709 - val_accuracy: 0.3414\n",
      "\n",
      "Epoch 00001: val_loss improved from inf to 0.27090, saving model to D:/Jorge/datasets/deforestation/experiments/MS/exp41/models\\resunet_1.h5\n",
      "New best val loss. Val loss: 0.2709. Early stop count: 0\n",
      "Epoch: 2\n",
      "Anneling Coeficient [0.1]\n",
      "155/155 [==============================] - 7s 43ms/step - loss: 0.2898 - accuracy: 0.3717 - val_loss: 0.2719 - val_accuracy: 0.3514\n",
      "\n",
      "Epoch 00001: val_loss did not improve from 0.27090\n",
      "Early stop count: 1\n",
      "Epoch: 3\n",
      "Anneling Coeficient [0.2]\n",
      "155/155 [==============================] - 7s 43ms/step - loss: 0.2870 - accuracy: 0.3722 - val_loss: 0.2626 - val_accuracy: 0.3363\n",
      "\n",
      "Epoch 00001: val_loss improved from 0.27090 to 0.26257, saving model to D:/Jorge/datasets/deforestation/experiments/MS/exp41/models\\resunet_1.h5\n",
      "New best val loss. Val loss: 0.26257. Early stop count: 0\n",
      "Epoch: 4\n",
      "Anneling Coeficient [0.3]\n",
      "155/155 [==============================] - 7s 43ms/step - loss: 0.2764 - accuracy: 0.3721 - val_loss: 0.2343 - val_accuracy: 0.3309\n",
      "\n",
      "Epoch 00001: val_loss improved from 0.26257 to 0.23428, saving model to D:/Jorge/datasets/deforestation/experiments/MS/exp41/models\\resunet_1.h5\n",
      "New best val loss. Val loss: 0.23428. Early stop count: 0\n",
      "Epoch: 5\n",
      "Anneling Coeficient [0.4]\n",
      "155/155 [==============================] - 7s 44ms/step - loss: 0.2445 - accuracy: 0.3722 - val_loss: 0.2282 - val_accuracy: 0.3395\n",
      "\n",
      "Epoch 00001: val_loss improved from 0.23428 to 0.22824, saving model to D:/Jorge/datasets/deforestation/experiments/MS/exp41/models\\resunet_1.h5\n",
      "New best val loss. Val loss: 0.22824. Early stop count: 0\n",
      "Epoch: 6\n",
      "Anneling Coeficient [0.5]\n",
      "155/155 [==============================] - 7s 43ms/step - loss: 0.2350 - accuracy: 0.3722 - val_loss: 0.2197 - val_accuracy: 0.3237\n",
      "\n",
      "Epoch 00001: val_loss improved from 0.22824 to 0.21966, saving model to D:/Jorge/datasets/deforestation/experiments/MS/exp41/models\\resunet_1.h5\n",
      "New best val loss. Val loss: 0.21966. Early stop count: 0\n",
      "Epoch: 7\n",
      "Anneling Coeficient [0.6]\n",
      "155/155 [==============================] - 7s 44ms/step - loss: 0.2266 - accuracy: 0.3776 - val_loss: 0.2144 - val_accuracy: 0.3035\n",
      "\n",
      "Epoch 00001: val_loss improved from 0.21966 to 0.21440, saving model to D:/Jorge/datasets/deforestation/experiments/MS/exp41/models\\resunet_1.h5\n",
      "New best val loss. Val loss: 0.2144. Early stop count: 0\n",
      "Epoch: 8\n",
      "Anneling Coeficient [0.7]\n",
      "155/155 [==============================] - 7s 43ms/step - loss: 0.2194 - accuracy: 0.3957 - val_loss: 0.2131 - val_accuracy: 0.3256\n",
      "\n",
      "Epoch 00001: val_loss improved from 0.21440 to 0.21311, saving model to D:/Jorge/datasets/deforestation/experiments/MS/exp41/models\\resunet_1.h5\n",
      "New best val loss. Val loss: 0.21311. Early stop count: 0\n",
      "Epoch: 9\n",
      "Anneling Coeficient [0.8]\n",
      "155/155 [==============================] - 7s 44ms/step - loss: 0.2142 - accuracy: 0.4157 - val_loss: 0.2355 - val_accuracy: 0.3561\n",
      "\n",
      "Epoch 00001: val_loss did not improve from 0.21311\n",
      "Early stop count: 1\n",
      "Epoch: 10\n",
      "Anneling Coeficient [0.9]\n",
      "155/155 [==============================] - 7s 43ms/step - loss: 0.2098 - accuracy: 0.4259 - val_loss: 0.2198 - val_accuracy: 0.3625\n",
      "\n",
      "Epoch 00001: val_loss did not improve from 0.21311\n",
      "Early stop count: 2\n",
      "Epoch: 11\n",
      "Anneling Coeficient [1.]\n",
      "155/155 [==============================] - 7s 46ms/step - loss: 0.2054 - accuracy: 0.4302 - val_loss: 0.2261 - val_accuracy: 0.3721\n",
      "\n",
      "Epoch 00001: val_loss did not improve from 0.21311\n",
      "Early stop count: 3\n",
      "Epoch: 12\n",
      "Anneling Coeficient [1.]\n",
      "155/155 [==============================] - 7s 44ms/step - loss: 0.2043 - accuracy: 0.4314 - val_loss: 0.2170 - val_accuracy: 0.3578\n",
      "\n",
      "Epoch 00001: val_loss did not improve from 0.21311\n",
      "Early stop count: 4\n",
      "Epoch: 13\n",
      "Anneling Coeficient [1.]\n",
      "155/155 [==============================] - 7s 43ms/step - loss: 0.2014 - accuracy: 0.4320 - val_loss: 0.2203 - val_accuracy: 0.3554\n",
      "\n",
      "Epoch 00001: val_loss did not improve from 0.21311\n",
      "Early stop count: 5\n",
      "Epoch: 14\n",
      "Anneling Coeficient [1.]\n",
      "155/155 [==============================] - 7s 43ms/step - loss: 0.2004 - accuracy: 0.4325 - val_loss: 0.2232 - val_accuracy: 0.3657\n",
      "\n",
      "Epoch 00001: val_loss did not improve from 0.21311\n",
      "Early stop count: 6\n",
      "Epoch: 15\n",
      "Anneling Coeficient [1.]\n",
      "155/155 [==============================] - 7s 43ms/step - loss: 0.1994 - accuracy: 0.4330 - val_loss: 0.2111 - val_accuracy: 0.3520\n",
      "\n",
      "Epoch 00001: val_loss improved from 0.21311 to 0.21112, saving model to D:/Jorge/datasets/deforestation/experiments/MS/exp41/models\\resunet_1.h5\n",
      "New best val loss. Val loss: 0.21112. Early stop count: 0\n",
      "Epoch: 16\n",
      "Anneling Coeficient [1.]\n",
      "155/155 [==============================] - 7s 44ms/step - loss: 0.1975 - accuracy: 0.4334 - val_loss: 0.2039 - val_accuracy: 0.3319\n",
      "\n",
      "Epoch 00001: val_loss improved from 0.21112 to 0.20389, saving model to D:/Jorge/datasets/deforestation/experiments/MS/exp41/models\\resunet_1.h5\n",
      "New best val loss. Val loss: 0.20389. Early stop count: 0\n",
      "Epoch: 17\n",
      "Anneling Coeficient [1.]\n",
      "155/155 [==============================] - 7s 43ms/step - loss: 0.1958 - accuracy: 0.4341 - val_loss: 0.2069 - val_accuracy: 0.3414\n",
      "\n",
      "Epoch 00001: val_loss did not improve from 0.20389\n",
      "Early stop count: 1\n",
      "Epoch: 18\n",
      "Anneling Coeficient [1.]\n",
      "155/155 [==============================] - 7s 45ms/step - loss: 0.1953 - accuracy: 0.4340 - val_loss: 0.2109 - val_accuracy: 0.3645\n",
      "\n",
      "Epoch 00001: val_loss did not improve from 0.20389\n",
      "Early stop count: 2\n",
      "Epoch: 19\n",
      "Anneling Coeficient [1.]\n",
      "155/155 [==============================] - 7s 43ms/step - loss: 0.1951 - accuracy: 0.4341 - val_loss: 0.2174 - val_accuracy: 0.3687\n",
      "\n",
      "Epoch 00001: val_loss did not improve from 0.20389\n",
      "Early stop count: 3\n",
      "Epoch: 20\n",
      "Anneling Coeficient [1.]\n",
      "155/155 [==============================] - 7s 45ms/step - loss: 0.1931 - accuracy: 0.4346 - val_loss: 0.2169 - val_accuracy: 0.3750\n",
      "\n",
      "Epoch 00001: val_loss did not improve from 0.20389\n",
      "Early stop count: 4\n",
      "Epoch: 21\n",
      "Anneling Coeficient [1.]\n",
      "155/155 [==============================] - 7s 44ms/step - loss: 0.1925 - accuracy: 0.4349 - val_loss: 0.2120 - val_accuracy: 0.3617\n",
      "\n",
      "Epoch 00001: val_loss did not improve from 0.20389\n",
      "Early stop count: 5\n",
      "Epoch: 22\n",
      "Anneling Coeficient [1.]\n",
      "155/155 [==============================] - 7s 43ms/step - loss: 0.1929 - accuracy: 0.4355 - val_loss: 0.2068 - val_accuracy: 0.3609\n",
      "\n",
      "Epoch 00001: val_loss did not improve from 0.20389\n",
      "Early stop count: 6\n",
      "Epoch: 23\n",
      "Anneling Coeficient [1.]\n",
      "155/155 [==============================] - 7s 45ms/step - loss: 0.1912 - accuracy: 0.4359 - val_loss: 0.2129 - val_accuracy: 0.3703\n",
      "\n",
      "Epoch 00001: val_loss did not improve from 0.20389\n",
      "Early stop count: 7\n",
      "Epoch: 24\n",
      "Anneling Coeficient [1.]\n",
      "155/155 [==============================] - 7s 43ms/step - loss: 0.1904 - accuracy: 0.4358 - val_loss: 0.2069 - val_accuracy: 0.3539\n",
      "\n",
      "Epoch 00001: val_loss did not improve from 0.20389\n",
      "Early stop count: 8\n",
      "Epoch: 25\n",
      "Anneling Coeficient [1.]\n",
      "155/155 [==============================] - 7s 43ms/step - loss: 0.1893 - accuracy: 0.4361 - val_loss: 0.2005 - val_accuracy: 0.3373\n",
      "\n",
      "Epoch 00001: val_loss improved from 0.20389 to 0.20055, saving model to D:/Jorge/datasets/deforestation/experiments/MS/exp41/models\\resunet_1.h5\n",
      "New best val loss. Val loss: 0.20055. Early stop count: 0\n",
      "Epoch: 26\n",
      "Anneling Coeficient [1.]\n",
      "155/155 [==============================] - 7s 43ms/step - loss: 0.1886 - accuracy: 0.4371 - val_loss: 0.2042 - val_accuracy: 0.3452\n",
      "\n",
      "Epoch 00001: val_loss did not improve from 0.20055\n",
      "Early stop count: 1\n",
      "Epoch: 27\n",
      "Anneling Coeficient [1.]\n",
      "155/155 [==============================] - 7s 43ms/step - loss: 0.1878 - accuracy: 0.4378 - val_loss: 0.2114 - val_accuracy: 0.3666\n",
      "\n",
      "Epoch 00001: val_loss did not improve from 0.20055\n",
      "Early stop count: 2\n",
      "Epoch: 28\n",
      "Anneling Coeficient [1.]\n",
      "155/155 [==============================] - 7s 43ms/step - loss: 0.1868 - accuracy: 0.4377 - val_loss: 0.2081 - val_accuracy: 0.3722\n",
      "\n",
      "Epoch 00001: val_loss did not improve from 0.20055\n",
      "Early stop count: 3\n",
      "Epoch: 29\n",
      "Anneling Coeficient [1.]\n",
      "155/155 [==============================] - 7s 43ms/step - loss: 0.1881 - accuracy: 0.4374 - val_loss: 0.2067 - val_accuracy: 0.3810\n",
      "\n",
      "Epoch 00001: val_loss did not improve from 0.20055\n",
      "Early stop count: 4\n",
      "Epoch: 30\n",
      "Anneling Coeficient [1.]\n",
      "155/155 [==============================] - 7s 43ms/step - loss: 0.1866 - accuracy: 0.4378 - val_loss: 0.2035 - val_accuracy: 0.3646\n",
      "\n",
      "Epoch 00001: val_loss did not improve from 0.20055\n",
      "Early stop count: 5\n",
      "Epoch: 31\n",
      "Anneling Coeficient [1.]\n",
      "155/155 [==============================] - 7s 43ms/step - loss: 0.1859 - accuracy: 0.4390 - val_loss: 0.2037 - val_accuracy: 0.3643\n",
      "\n",
      "Epoch 00001: val_loss did not improve from 0.20055\n",
      "Early stop count: 6\n",
      "Epoch: 32\n",
      "Anneling Coeficient [1.]\n",
      "155/155 [==============================] - 7s 43ms/step - loss: 0.1846 - accuracy: 0.4398 - val_loss: 0.2084 - val_accuracy: 0.3727\n",
      "\n",
      "Epoch 00001: val_loss did not improve from 0.20055\n",
      "Early stop count: 7\n",
      "Epoch: 33\n",
      "Anneling Coeficient [1.]\n",
      "155/155 [==============================] - 7s 43ms/step - loss: 0.1845 - accuracy: 0.4392 - val_loss: 0.2056 - val_accuracy: 0.3581\n",
      "\n",
      "Epoch 00001: val_loss did not improve from 0.20055\n",
      "Early stop count: 8\n",
      "Epoch: 34\n",
      "Anneling Coeficient [1.]\n",
      "155/155 [==============================] - 7s 43ms/step - loss: 0.1842 - accuracy: 0.4389 - val_loss: 0.1958 - val_accuracy: 0.3368\n",
      "\n",
      "Epoch 00001: val_loss improved from 0.20055 to 0.19580, saving model to D:/Jorge/datasets/deforestation/experiments/MS/exp41/models\\resunet_1.h5\n",
      "New best val loss. Val loss: 0.1958. Early stop count: 0\n",
      "Epoch: 35\n",
      "Anneling Coeficient [1.]\n",
      "155/155 [==============================] - 7s 43ms/step - loss: 0.1837 - accuracy: 0.4398 - val_loss: 0.1987 - val_accuracy: 0.3493\n",
      "\n",
      "Epoch 00001: val_loss did not improve from 0.19580\n",
      "Early stop count: 1\n",
      "Epoch: 36\n",
      "Anneling Coeficient [1.]\n",
      "155/155 [==============================] - 7s 43ms/step - loss: 0.1831 - accuracy: 0.4401 - val_loss: 0.2105 - val_accuracy: 0.3660\n",
      "\n",
      "Epoch 00001: val_loss did not improve from 0.19580\n",
      "Early stop count: 2\n",
      "Epoch: 37\n",
      "Anneling Coeficient [1.]\n",
      "155/155 [==============================] - 7s 43ms/step - loss: 0.1831 - accuracy: 0.4395 - val_loss: 0.2113 - val_accuracy: 0.3731\n",
      "\n",
      "Epoch 00001: val_loss did not improve from 0.19580\n",
      "Early stop count: 3\n",
      "Epoch: 38\n",
      "Anneling Coeficient [1.]\n",
      "155/155 [==============================] - 7s 43ms/step - loss: 0.1823 - accuracy: 0.4404 - val_loss: 0.2082 - val_accuracy: 0.3833\n",
      "\n",
      "Epoch 00001: val_loss did not improve from 0.19580\n",
      "Early stop count: 4\n",
      "Epoch: 39\n",
      "Anneling Coeficient [1.]\n",
      "155/155 [==============================] - 7s 43ms/step - loss: 0.1824 - accuracy: 0.4397 - val_loss: 0.1945 - val_accuracy: 0.3711\n",
      "\n",
      "Epoch 00001: val_loss improved from 0.19580 to 0.19452, saving model to D:/Jorge/datasets/deforestation/experiments/MS/exp41/models\\resunet_1.h5\n",
      "New best val loss. Val loss: 0.19452. Early stop count: 0\n",
      "Epoch: 40\n",
      "Anneling Coeficient [1.]\n",
      "155/155 [==============================] - 7s 43ms/step - loss: 0.1812 - accuracy: 0.4406 - val_loss: 0.2090 - val_accuracy: 0.3670\n",
      "\n",
      "Epoch 00001: val_loss did not improve from 0.19452\n",
      "Early stop count: 1\n",
      "Epoch: 41\n",
      "Anneling Coeficient [1.]\n",
      "155/155 [==============================] - 7s 43ms/step - loss: 0.1817 - accuracy: 0.4399 - val_loss: 0.2083 - val_accuracy: 0.3717\n",
      "\n",
      "Epoch 00001: val_loss did not improve from 0.19452\n",
      "Early stop count: 2\n",
      "Epoch: 42\n",
      "Anneling Coeficient [1.]\n",
      "155/155 [==============================] - 7s 44ms/step - loss: 0.1823 - accuracy: 0.4391 - val_loss: 0.2035 - val_accuracy: 0.3608\n",
      "\n",
      "Epoch 00001: val_loss did not improve from 0.19452\n",
      "Early stop count: 3\n",
      "Epoch: 43\n",
      "Anneling Coeficient [1.]\n",
      "155/155 [==============================] - 7s 43ms/step - loss: 0.1806 - accuracy: 0.4404 - val_loss: 0.2021 - val_accuracy: 0.3400\n",
      "\n",
      "Epoch 00001: val_loss did not improve from 0.19452\n",
      "Early stop count: 4\n",
      "Epoch: 44\n",
      "Anneling Coeficient [1.]\n",
      "155/155 [==============================] - 7s 43ms/step - loss: 0.1801 - accuracy: 0.4412 - val_loss: 0.1992 - val_accuracy: 0.3520\n",
      "\n",
      "Epoch 00001: val_loss did not improve from 0.19452\n",
      "Early stop count: 5\n",
      "Epoch: 45\n",
      "Anneling Coeficient [1.]\n",
      "155/155 [==============================] - 7s 43ms/step - loss: 0.1798 - accuracy: 0.4411 - val_loss: 0.2127 - val_accuracy: 0.3719\n",
      "\n",
      "Epoch 00001: val_loss did not improve from 0.19452\n",
      "Early stop count: 6\n",
      "Epoch: 46\n",
      "Anneling Coeficient [1.]\n",
      "155/155 [==============================] - 7s 44ms/step - loss: 0.1799 - accuracy: 0.4410 - val_loss: 0.2068 - val_accuracy: 0.3796\n",
      "\n",
      "Epoch 00001: val_loss did not improve from 0.19452\n",
      "Early stop count: 7\n",
      "Epoch: 47\n",
      "Anneling Coeficient [1.]\n",
      "155/155 [==============================] - 7s 44ms/step - loss: 0.1789 - accuracy: 0.4416 - val_loss: 0.2061 - val_accuracy: 0.3852\n",
      "\n",
      "Epoch 00001: val_loss did not improve from 0.19452\n",
      "Early stop count: 8\n",
      "Epoch: 48\n",
      "Anneling Coeficient [1.]\n",
      "155/155 [==============================] - 7s 44ms/step - loss: 0.1791 - accuracy: 0.4412 - val_loss: 0.2039 - val_accuracy: 0.3702\n",
      "\n",
      "Epoch 00001: val_loss did not improve from 0.19452\n",
      "Early stop count: 9\n",
      "Epoch: 49\n",
      "Anneling Coeficient [1.]\n",
      "155/155 [==============================] - 7s 43ms/step - loss: 0.1792 - accuracy: 0.4415 - val_loss: 0.2005 - val_accuracy: 0.3688\n",
      "\n",
      "Epoch 00001: val_loss did not improve from 0.19452\n",
      "Early stop count: 10\n",
      "Early stopping\n",
      "10 10\n",
      "Finished Training\n",
      "Training time:  336.35730171203613\n",
      "time:  2\n",
      "Model: \"model_2\"\n",
      "__________________________________________________________________________________________________\n",
      "Layer (type)                    Output Shape         Param #     Connected to                     \n",
      "==================================================================================================\n",
      "input_enc_net (InputLayer)      [(None, 128, 128, 9) 0                                            \n",
      "__________________________________________________________________________________________________\n",
      "res1_net1 (Conv2D)              (None, 128, 128, 16) 1312        input_enc_net[0][0]              \n",
      "__________________________________________________________________________________________________\n",
      "drop_net1 (SpatialDropout2D)    (None, 128, 128, 16) 0           res1_net1[0][0]                  \n",
      "__________________________________________________________________________________________________\n",
      "res2_net1 (Conv2D)              (None, 128, 128, 16) 2320        drop_net1[0][0]                  \n",
      "__________________________________________________________________________________________________\n",
      "res3_net1 (Conv2D)              (None, 128, 128, 16) 160         input_enc_net[0][0]              \n",
      "__________________________________________________________________________________________________\n",
      "add_12 (Add)                    (None, 128, 128, 16) 0           res2_net1[0][0]                  \n",
      "                                                                 res3_net1[0][0]                  \n",
      "__________________________________________________________________________________________________\n",
      "pool_net1 (MaxPooling2D)        (None, 64, 64, 16)   0           add_12[0][0]                     \n",
      "__________________________________________________________________________________________________\n",
      "res1_net2 (Conv2D)              (None, 64, 64, 32)   4640        pool_net1[0][0]                  \n",
      "__________________________________________________________________________________________________\n",
      "drop_net2 (SpatialDropout2D)    (None, 64, 64, 32)   0           res1_net2[0][0]                  \n",
      "__________________________________________________________________________________________________\n",
      "res2_net2 (Conv2D)              (None, 64, 64, 32)   9248        drop_net2[0][0]                  \n",
      "__________________________________________________________________________________________________\n",
      "res3_net2 (Conv2D)              (None, 64, 64, 32)   544         pool_net1[0][0]                  \n",
      "__________________________________________________________________________________________________\n",
      "add_13 (Add)                    (None, 64, 64, 32)   0           res2_net2[0][0]                  \n",
      "                                                                 res3_net2[0][0]                  \n",
      "__________________________________________________________________________________________________\n",
      "pool_net2 (MaxPooling2D)        (None, 32, 32, 32)   0           add_13[0][0]                     \n",
      "__________________________________________________________________________________________________\n",
      "res1_net3 (Conv2D)              (None, 32, 32, 64)   18496       pool_net2[0][0]                  \n",
      "__________________________________________________________________________________________________\n",
      "drop_net3 (SpatialDropout2D)    (None, 32, 32, 64)   0           res1_net3[0][0]                  \n",
      "__________________________________________________________________________________________________\n",
      "res2_net3 (Conv2D)              (None, 32, 32, 64)   36928       drop_net3[0][0]                  \n",
      "__________________________________________________________________________________________________\n",
      "res3_net3 (Conv2D)              (None, 32, 32, 64)   2112        pool_net2[0][0]                  \n",
      "__________________________________________________________________________________________________\n",
      "add_14 (Add)                    (None, 32, 32, 64)   0           res2_net3[0][0]                  \n",
      "                                                                 res3_net3[0][0]                  \n",
      "__________________________________________________________________________________________________\n",
      "pool_net3 (MaxPooling2D)        (None, 16, 16, 64)   0           add_14[0][0]                     \n",
      "__________________________________________________________________________________________________\n",
      "res1_net4 (Conv2D)              (None, 16, 16, 64)   36928       pool_net3[0][0]                  \n",
      "__________________________________________________________________________________________________\n",
      "drop_net4 (SpatialDropout2D)    (None, 16, 16, 64)   0           res1_net4[0][0]                  \n",
      "__________________________________________________________________________________________________\n",
      "res2_net4 (Conv2D)              (None, 16, 16, 64)   36928       drop_net4[0][0]                  \n",
      "__________________________________________________________________________________________________\n",
      "res3_net4 (Conv2D)              (None, 16, 16, 64)   4160        pool_net3[0][0]                  \n",
      "__________________________________________________________________________________________________\n",
      "add_15 (Add)                    (None, 16, 16, 64)   0           res2_net4[0][0]                  \n",
      "                                                                 res3_net4[0][0]                  \n",
      "__________________________________________________________________________________________________\n",
      "res1_net5 (Conv2D)              (None, 16, 16, 64)   36928       add_15[0][0]                     \n",
      "__________________________________________________________________________________________________\n",
      "drop_net5 (SpatialDropout2D)    (None, 16, 16, 64)   0           res1_net5[0][0]                  \n",
      "__________________________________________________________________________________________________\n",
      "res2_net5 (Conv2D)              (None, 16, 16, 64)   36928       drop_net5[0][0]                  \n",
      "__________________________________________________________________________________________________\n",
      "res3_net5 (Conv2D)              (None, 16, 16, 64)   4160        add_15[0][0]                     \n",
      "__________________________________________________________________________________________________\n",
      "add_16 (Add)                    (None, 16, 16, 64)   0           res2_net5[0][0]                  \n",
      "                                                                 res3_net5[0][0]                  \n",
      "__________________________________________________________________________________________________\n",
      "res1_net6 (Conv2D)              (None, 16, 16, 64)   36928       add_16[0][0]                     \n",
      "__________________________________________________________________________________________________\n",
      "drop_net6 (SpatialDropout2D)    (None, 16, 16, 64)   0           res1_net6[0][0]                  \n",
      "__________________________________________________________________________________________________\n",
      "res2_net6 (Conv2D)              (None, 16, 16, 64)   36928       drop_net6[0][0]                  \n",
      "__________________________________________________________________________________________________\n",
      "res3_net6 (Conv2D)              (None, 16, 16, 64)   4160        add_16[0][0]                     \n",
      "__________________________________________________________________________________________________\n",
      "add_17 (Add)                    (None, 16, 16, 64)   0           res2_net6[0][0]                  \n",
      "                                                                 res3_net6[0][0]                  \n",
      "__________________________________________________________________________________________________\n",
      "up_sampling2d_6 (UpSampling2D)  (None, 32, 32, 64)   0           add_17[0][0]                     \n",
      "__________________________________________________________________________________________________\n",
      "upsampling_net3 (Conv2D)        (None, 32, 32, 64)   36928       up_sampling2d_6[0][0]            \n",
      "__________________________________________________________________________________________________\n",
      "spatial_dropout2d_6 (SpatialDro (None, 32, 32, 64)   0           upsampling_net3[0][0]            \n",
      "__________________________________________________________________________________________________\n",
      "concatenate3 (Concatenate)      (None, 32, 32, 128)  0           add_14[0][0]                     \n",
      "                                                                 spatial_dropout2d_6[0][0]        \n",
      "__________________________________________________________________________________________________\n",
      "up_sampling2d_7 (UpSampling2D)  (None, 64, 64, 128)  0           concatenate3[0][0]               \n",
      "__________________________________________________________________________________________________\n",
      "upsampling_net2 (Conv2D)        (None, 64, 64, 32)   36896       up_sampling2d_7[0][0]            \n",
      "__________________________________________________________________________________________________\n",
      "spatial_dropout2d_7 (SpatialDro (None, 64, 64, 32)   0           upsampling_net2[0][0]            \n",
      "__________________________________________________________________________________________________\n",
      "concatenate2 (Concatenate)      (None, 64, 64, 64)   0           add_13[0][0]                     \n",
      "                                                                 spatial_dropout2d_7[0][0]        \n",
      "__________________________________________________________________________________________________\n",
      "up_sampling2d_8 (UpSampling2D)  (None, 128, 128, 64) 0           concatenate2[0][0]               \n",
      "__________________________________________________________________________________________________\n",
      "upsampling_net1 (Conv2D)        (None, 128, 128, 16) 9232        up_sampling2d_8[0][0]            \n",
      "__________________________________________________________________________________________________\n",
      "spatial_dropout2d_8 (SpatialDro (None, 128, 128, 16) 0           upsampling_net1[0][0]            \n",
      "__________________________________________________________________________________________________\n",
      "concatenate1 (Concatenate)      (None, 128, 128, 32) 0           add_12[0][0]                     \n",
      "                                                                 spatial_dropout2d_8[0][0]        \n",
      "__________________________________________________________________________________________________\n",
      "output (Conv2D)                 (None, 128, 128, 2)  66          concatenate1[0][0]               \n",
      "__________________________________________________________________________________________________\n",
      "dirichlet_layer_2 (DirichletLay (None, 128, 128, 2)  0           output[0][0]                     \n",
      "==================================================================================================\n",
      "Total params: 392,930\n",
      "Trainable params: 392,930\n",
      "Non-trainable params: 0\n",
      "__________________________________________________________________________________________________\n",
      "Epoch: 1\n",
      "Anneling Coeficient [1.]\n",
      "K.int_shape(mse) (None, 128, 128, 1)\n",
      "K.int_shape(mask) (None, None, None, 1)\n",
      "K.int_shape(E) (None, 128, 128, 2)\n",
      "K.int_shape(y_truth) (None, None, None, None)\n",
      "K.int_shape(mse) (None, 128, 128, 1)\n",
      "K.int_shape(mask) (None, None, None, 1)\n",
      "K.int_shape(E) (None, 128, 128, 2)\n",
      "K.int_shape(y_truth) (None, None, None, None)\n",
      "155/155 [==============================] - ETA: 0s - loss: 0.2656 - accuracy: 0.3734K.int_shape(mse) (None, 128, 128, 1)\n",
      "K.int_shape(mask) (None, None, None, 1)\n",
      "K.int_shape(E) (None, 128, 128, 2)\n",
      "K.int_shape(y_truth) (None, None, None, None)\n",
      "155/155 [==============================] - 9s 47ms/step - loss: 0.2656 - accuracy: 0.3734 - val_loss: 0.2439 - val_accuracy: 0.3406\n",
      "\n",
      "Epoch 00001: val_loss improved from inf to 0.24386, saving model to D:/Jorge/datasets/deforestation/experiments/MS/exp41/models\\resunet_2.h5\n",
      "New best val loss. Val loss: 0.24386. Early stop count: 0\n",
      "Epoch: 2\n",
      "Anneling Coeficient [0.1]\n",
      "155/155 [==============================] - 7s 45ms/step - loss: 0.2309 - accuracy: 0.3806 - val_loss: 0.2190 - val_accuracy: 0.3375\n",
      "\n",
      "Epoch 00001: val_loss improved from 0.24386 to 0.21904, saving model to D:/Jorge/datasets/deforestation/experiments/MS/exp41/models\\resunet_2.h5\n",
      "New best val loss. Val loss: 0.21904. Early stop count: 0\n",
      "Epoch: 3\n",
      "Anneling Coeficient [0.2]\n",
      "155/155 [==============================] - 7s 44ms/step - loss: 0.2203 - accuracy: 0.4180 - val_loss: 0.2042 - val_accuracy: 0.3339\n",
      "\n",
      "Epoch 00001: val_loss improved from 0.21904 to 0.20420, saving model to D:/Jorge/datasets/deforestation/experiments/MS/exp41/models\\resunet_2.h5\n",
      "New best val loss. Val loss: 0.2042. Early stop count: 0\n",
      "Epoch: 4\n",
      "Anneling Coeficient [0.3]\n",
      "155/155 [==============================] - 7s 44ms/step - loss: 0.2132 - accuracy: 0.4300 - val_loss: 0.2078 - val_accuracy: 0.3438\n",
      "\n",
      "Epoch 00001: val_loss did not improve from 0.20420\n",
      "Early stop count: 1\n",
      "Epoch: 5\n",
      "Anneling Coeficient [0.4]\n",
      "155/155 [==============================] - 7s 44ms/step - loss: 0.2087 - accuracy: 0.4314 - val_loss: 0.2139 - val_accuracy: 0.3673\n",
      "\n",
      "Epoch 00001: val_loss did not improve from 0.20420\n",
      "Early stop count: 2\n",
      "Epoch: 6\n",
      "Anneling Coeficient [0.5]\n",
      "155/155 [==============================] - 7s 47ms/step - loss: 0.2041 - accuracy: 0.4327 - val_loss: 0.2126 - val_accuracy: 0.3708\n",
      "\n",
      "Epoch 00001: val_loss did not improve from 0.20420\n",
      "Early stop count: 3\n",
      "Epoch: 7\n",
      "Anneling Coeficient [0.6]\n",
      "155/155 [==============================] - 7s 43ms/step - loss: 0.2009 - accuracy: 0.4334 - val_loss: 0.2170 - val_accuracy: 0.3784\n",
      "\n",
      "Epoch 00001: val_loss did not improve from 0.20420\n",
      "Early stop count: 4\n",
      "Epoch: 8\n",
      "Anneling Coeficient [0.7]\n",
      "155/155 [==============================] - 7s 43ms/step - loss: 0.1993 - accuracy: 0.4345 - val_loss: 0.2072 - val_accuracy: 0.3647\n",
      "\n",
      "Epoch 00001: val_loss did not improve from 0.20420\n",
      "Early stop count: 5\n",
      "Epoch: 9\n",
      "Anneling Coeficient [0.8]\n",
      "155/155 [==============================] - 7s 43ms/step - loss: 0.1968 - accuracy: 0.4352 - val_loss: 0.2075 - val_accuracy: 0.3620\n",
      "\n",
      "Epoch 00001: val_loss did not improve from 0.20420\n",
      "Early stop count: 6\n",
      "Epoch: 10\n",
      "Anneling Coeficient [0.9]\n",
      "155/155 [==============================] - 7s 43ms/step - loss: 0.1954 - accuracy: 0.4357 - val_loss: 0.2236 - val_accuracy: 0.3710\n",
      "\n",
      "Epoch 00001: val_loss did not improve from 0.20420\n",
      "Early stop count: 7\n",
      "Epoch: 11\n",
      "Anneling Coeficient [1.]\n",
      "155/155 [==============================] - 7s 45ms/step - loss: 0.1939 - accuracy: 0.4366 - val_loss: 0.2113 - val_accuracy: 0.3528\n",
      "\n",
      "Epoch 00001: val_loss did not improve from 0.20420\n",
      "Early stop count: 8\n",
      "Epoch: 12\n",
      "Anneling Coeficient [1.]\n",
      "155/155 [==============================] - 7s 46ms/step - loss: 0.1924 - accuracy: 0.4367 - val_loss: 0.2013 - val_accuracy: 0.3355\n",
      "\n",
      "Epoch 00001: val_loss improved from 0.20420 to 0.20125, saving model to D:/Jorge/datasets/deforestation/experiments/MS/exp41/models\\resunet_2.h5\n",
      "New best val loss. Val loss: 0.20125. Early stop count: 0\n",
      "Epoch: 13\n",
      "Anneling Coeficient [1.]\n",
      "155/155 [==============================] - 7s 44ms/step - loss: 0.1913 - accuracy: 0.4369 - val_loss: 0.1983 - val_accuracy: 0.3470\n",
      "\n",
      "Epoch 00001: val_loss improved from 0.20125 to 0.19835, saving model to D:/Jorge/datasets/deforestation/experiments/MS/exp41/models\\resunet_2.h5\n",
      "New best val loss. Val loss: 0.19835. Early stop count: 0\n",
      "Epoch: 14\n",
      "Anneling Coeficient [1.]\n",
      "155/155 [==============================] - 7s 44ms/step - loss: 0.1907 - accuracy: 0.4372 - val_loss: 0.2110 - val_accuracy: 0.3672\n",
      "\n",
      "Epoch 00001: val_loss did not improve from 0.19835\n",
      "Early stop count: 1\n",
      "Epoch: 15\n",
      "Anneling Coeficient [1.]\n",
      "155/155 [==============================] - 7s 44ms/step - loss: 0.1895 - accuracy: 0.4375 - val_loss: 0.2123 - val_accuracy: 0.3703\n",
      "\n",
      "Epoch 00001: val_loss did not improve from 0.19835\n",
      "Early stop count: 2\n",
      "Epoch: 16\n",
      "Anneling Coeficient [1.]\n",
      "155/155 [==============================] - 7s 44ms/step - loss: 0.1886 - accuracy: 0.4370 - val_loss: 0.2108 - val_accuracy: 0.3809\n",
      "\n",
      "Epoch 00001: val_loss did not improve from 0.19835\n",
      "Early stop count: 3\n",
      "Epoch: 17\n",
      "Anneling Coeficient [1.]\n",
      "155/155 [==============================] - 7s 44ms/step - loss: 0.1878 - accuracy: 0.4383 - val_loss: 0.2107 - val_accuracy: 0.3647\n",
      "\n",
      "Epoch 00001: val_loss did not improve from 0.19835\n",
      "Early stop count: 4\n",
      "Epoch: 18\n",
      "Anneling Coeficient [1.]\n",
      "155/155 [==============================] - 7s 44ms/step - loss: 0.1869 - accuracy: 0.4381 - val_loss: 0.2138 - val_accuracy: 0.3666\n",
      "\n",
      "Epoch 00001: val_loss did not improve from 0.19835\n",
      "Early stop count: 5\n",
      "Epoch: 19\n",
      "Anneling Coeficient [1.]\n",
      "155/155 [==============================] - 7s 44ms/step - loss: 0.1864 - accuracy: 0.4383 - val_loss: 0.2234 - val_accuracy: 0.3728\n",
      "\n",
      "Epoch 00001: val_loss did not improve from 0.19835\n",
      "Early stop count: 6\n",
      "Epoch: 20\n",
      "Anneling Coeficient [1.]\n",
      "155/155 [==============================] - 7s 45ms/step - loss: 0.1853 - accuracy: 0.4379 - val_loss: 0.2163 - val_accuracy: 0.3554\n",
      "\n",
      "Epoch 00001: val_loss did not improve from 0.19835\n",
      "Early stop count: 7\n",
      "Epoch: 21\n",
      "Anneling Coeficient [1.]\n",
      "155/155 [==============================] - 7s 46ms/step - loss: 0.1853 - accuracy: 0.4384 - val_loss: 0.1937 - val_accuracy: 0.3367\n",
      "\n",
      "Epoch 00001: val_loss improved from 0.19835 to 0.19373, saving model to D:/Jorge/datasets/deforestation/experiments/MS/exp41/models\\resunet_2.h5\n",
      "New best val loss. Val loss: 0.19373. Early stop count: 0\n",
      "Epoch: 22\n",
      "Anneling Coeficient [1.]\n",
      "155/155 [==============================] - 7s 44ms/step - loss: 0.1845 - accuracy: 0.4388 - val_loss: 0.2027 - val_accuracy: 0.3488\n",
      "\n",
      "Epoch 00001: val_loss did not improve from 0.19373\n",
      "Early stop count: 1\n",
      "Epoch: 23\n",
      "Anneling Coeficient [1.]\n",
      "155/155 [==============================] - 7s 45ms/step - loss: 0.1865 - accuracy: 0.4388 - val_loss: 0.2152 - val_accuracy: 0.3717\n",
      "\n",
      "Epoch 00001: val_loss did not improve from 0.19373\n",
      "Early stop count: 2\n",
      "Epoch: 24\n",
      "Anneling Coeficient [1.]\n",
      "155/155 [==============================] - 7s 44ms/step - loss: 0.1833 - accuracy: 0.4390 - val_loss: 0.2133 - val_accuracy: 0.3731\n",
      "\n",
      "Epoch 00001: val_loss did not improve from 0.19373\n",
      "Early stop count: 3\n",
      "Epoch: 25\n",
      "Anneling Coeficient [1.]\n",
      "155/155 [==============================] - 7s 44ms/step - loss: 0.1825 - accuracy: 0.4392 - val_loss: 0.2236 - val_accuracy: 0.3821\n",
      "\n",
      "Epoch 00001: val_loss did not improve from 0.19373\n",
      "Early stop count: 4\n",
      "Epoch: 26\n",
      "Anneling Coeficient [1.]\n",
      "155/155 [==============================] - 7s 44ms/step - loss: 0.1821 - accuracy: 0.4392 - val_loss: 0.2182 - val_accuracy: 0.3692\n",
      "\n",
      "Epoch 00001: val_loss did not improve from 0.19373\n",
      "Early stop count: 5\n",
      "Epoch: 27\n",
      "Anneling Coeficient [1.]\n",
      "155/155 [==============================] - 7s 43ms/step - loss: 0.1815 - accuracy: 0.4397 - val_loss: 0.2183 - val_accuracy: 0.3661\n",
      "\n",
      "Epoch 00001: val_loss did not improve from 0.19373\n",
      "Early stop count: 6\n",
      "Epoch: 28\n",
      "Anneling Coeficient [1.]\n",
      "155/155 [==============================] - 7s 43ms/step - loss: 0.1827 - accuracy: 0.4389 - val_loss: 0.2150 - val_accuracy: 0.3746\n",
      "\n",
      "Epoch 00001: val_loss did not improve from 0.19373\n",
      "Early stop count: 7\n",
      "Epoch: 29\n",
      "Anneling Coeficient [1.]\n",
      "155/155 [==============================] - 7s 45ms/step - loss: 0.1809 - accuracy: 0.4396 - val_loss: 0.2155 - val_accuracy: 0.3578\n",
      "\n",
      "Epoch 00001: val_loss did not improve from 0.19373\n",
      "Early stop count: 8\n",
      "Epoch: 30\n",
      "Anneling Coeficient [1.]\n",
      "155/155 [==============================] - 7s 43ms/step - loss: 0.1806 - accuracy: 0.4396 - val_loss: 0.2114 - val_accuracy: 0.3388\n",
      "\n",
      "Epoch 00001: val_loss did not improve from 0.19373\n",
      "Early stop count: 9\n",
      "Epoch: 31\n",
      "Anneling Coeficient [1.]\n",
      "155/155 [==============================] - 7s 43ms/step - loss: 0.1803 - accuracy: 0.4403 - val_loss: 0.2080 - val_accuracy: 0.3473\n",
      "\n",
      "Epoch 00001: val_loss did not improve from 0.19373\n",
      "Early stop count: 10\n",
      "Early stopping\n",
      "10 10\n",
      "Finished Training\n",
      "Training time:  216.4341104030609\n",
      "time:  3\n",
      "Model: \"model_3\"\n",
      "__________________________________________________________________________________________________\n",
      "Layer (type)                    Output Shape         Param #     Connected to                     \n",
      "==================================================================================================\n",
      "input_enc_net (InputLayer)      [(None, 128, 128, 9) 0                                            \n",
      "__________________________________________________________________________________________________\n",
      "res1_net1 (Conv2D)              (None, 128, 128, 16) 1312        input_enc_net[0][0]              \n",
      "__________________________________________________________________________________________________\n",
      "drop_net1 (SpatialDropout2D)    (None, 128, 128, 16) 0           res1_net1[0][0]                  \n",
      "__________________________________________________________________________________________________\n",
      "res2_net1 (Conv2D)              (None, 128, 128, 16) 2320        drop_net1[0][0]                  \n",
      "__________________________________________________________________________________________________\n",
      "res3_net1 (Conv2D)              (None, 128, 128, 16) 160         input_enc_net[0][0]              \n",
      "__________________________________________________________________________________________________\n",
      "add_18 (Add)                    (None, 128, 128, 16) 0           res2_net1[0][0]                  \n",
      "                                                                 res3_net1[0][0]                  \n",
      "__________________________________________________________________________________________________\n",
      "pool_net1 (MaxPooling2D)        (None, 64, 64, 16)   0           add_18[0][0]                     \n",
      "__________________________________________________________________________________________________\n",
      "res1_net2 (Conv2D)              (None, 64, 64, 32)   4640        pool_net1[0][0]                  \n",
      "__________________________________________________________________________________________________\n",
      "drop_net2 (SpatialDropout2D)    (None, 64, 64, 32)   0           res1_net2[0][0]                  \n",
      "__________________________________________________________________________________________________\n",
      "res2_net2 (Conv2D)              (None, 64, 64, 32)   9248        drop_net2[0][0]                  \n",
      "__________________________________________________________________________________________________\n",
      "res3_net2 (Conv2D)              (None, 64, 64, 32)   544         pool_net1[0][0]                  \n",
      "__________________________________________________________________________________________________\n",
      "add_19 (Add)                    (None, 64, 64, 32)   0           res2_net2[0][0]                  \n",
      "                                                                 res3_net2[0][0]                  \n",
      "__________________________________________________________________________________________________\n",
      "pool_net2 (MaxPooling2D)        (None, 32, 32, 32)   0           add_19[0][0]                     \n",
      "__________________________________________________________________________________________________\n",
      "res1_net3 (Conv2D)              (None, 32, 32, 64)   18496       pool_net2[0][0]                  \n",
      "__________________________________________________________________________________________________\n",
      "drop_net3 (SpatialDropout2D)    (None, 32, 32, 64)   0           res1_net3[0][0]                  \n",
      "__________________________________________________________________________________________________\n",
      "res2_net3 (Conv2D)              (None, 32, 32, 64)   36928       drop_net3[0][0]                  \n",
      "__________________________________________________________________________________________________\n",
      "res3_net3 (Conv2D)              (None, 32, 32, 64)   2112        pool_net2[0][0]                  \n",
      "__________________________________________________________________________________________________\n",
      "add_20 (Add)                    (None, 32, 32, 64)   0           res2_net3[0][0]                  \n",
      "                                                                 res3_net3[0][0]                  \n",
      "__________________________________________________________________________________________________\n",
      "pool_net3 (MaxPooling2D)        (None, 16, 16, 64)   0           add_20[0][0]                     \n",
      "__________________________________________________________________________________________________\n",
      "res1_net4 (Conv2D)              (None, 16, 16, 64)   36928       pool_net3[0][0]                  \n",
      "__________________________________________________________________________________________________\n",
      "drop_net4 (SpatialDropout2D)    (None, 16, 16, 64)   0           res1_net4[0][0]                  \n",
      "__________________________________________________________________________________________________\n",
      "res2_net4 (Conv2D)              (None, 16, 16, 64)   36928       drop_net4[0][0]                  \n",
      "__________________________________________________________________________________________________\n",
      "res3_net4 (Conv2D)              (None, 16, 16, 64)   4160        pool_net3[0][0]                  \n",
      "__________________________________________________________________________________________________\n",
      "add_21 (Add)                    (None, 16, 16, 64)   0           res2_net4[0][0]                  \n",
      "                                                                 res3_net4[0][0]                  \n",
      "__________________________________________________________________________________________________\n",
      "res1_net5 (Conv2D)              (None, 16, 16, 64)   36928       add_21[0][0]                     \n",
      "__________________________________________________________________________________________________\n",
      "drop_net5 (SpatialDropout2D)    (None, 16, 16, 64)   0           res1_net5[0][0]                  \n",
      "__________________________________________________________________________________________________\n",
      "res2_net5 (Conv2D)              (None, 16, 16, 64)   36928       drop_net5[0][0]                  \n",
      "__________________________________________________________________________________________________\n",
      "res3_net5 (Conv2D)              (None, 16, 16, 64)   4160        add_21[0][0]                     \n",
      "__________________________________________________________________________________________________\n",
      "add_22 (Add)                    (None, 16, 16, 64)   0           res2_net5[0][0]                  \n",
      "                                                                 res3_net5[0][0]                  \n",
      "__________________________________________________________________________________________________\n",
      "res1_net6 (Conv2D)              (None, 16, 16, 64)   36928       add_22[0][0]                     \n",
      "__________________________________________________________________________________________________\n",
      "drop_net6 (SpatialDropout2D)    (None, 16, 16, 64)   0           res1_net6[0][0]                  \n",
      "__________________________________________________________________________________________________\n",
      "res2_net6 (Conv2D)              (None, 16, 16, 64)   36928       drop_net6[0][0]                  \n",
      "__________________________________________________________________________________________________\n",
      "res3_net6 (Conv2D)              (None, 16, 16, 64)   4160        add_22[0][0]                     \n",
      "__________________________________________________________________________________________________\n",
      "add_23 (Add)                    (None, 16, 16, 64)   0           res2_net6[0][0]                  \n",
      "                                                                 res3_net6[0][0]                  \n",
      "__________________________________________________________________________________________________\n",
      "up_sampling2d_9 (UpSampling2D)  (None, 32, 32, 64)   0           add_23[0][0]                     \n",
      "__________________________________________________________________________________________________\n",
      "upsampling_net3 (Conv2D)        (None, 32, 32, 64)   36928       up_sampling2d_9[0][0]            \n",
      "__________________________________________________________________________________________________\n",
      "spatial_dropout2d_9 (SpatialDro (None, 32, 32, 64)   0           upsampling_net3[0][0]            \n",
      "__________________________________________________________________________________________________\n",
      "concatenate3 (Concatenate)      (None, 32, 32, 128)  0           add_20[0][0]                     \n",
      "                                                                 spatial_dropout2d_9[0][0]        \n",
      "__________________________________________________________________________________________________\n",
      "up_sampling2d_10 (UpSampling2D) (None, 64, 64, 128)  0           concatenate3[0][0]               \n",
      "__________________________________________________________________________________________________\n",
      "upsampling_net2 (Conv2D)        (None, 64, 64, 32)   36896       up_sampling2d_10[0][0]           \n",
      "__________________________________________________________________________________________________\n",
      "spatial_dropout2d_10 (SpatialDr (None, 64, 64, 32)   0           upsampling_net2[0][0]            \n",
      "__________________________________________________________________________________________________\n",
      "concatenate2 (Concatenate)      (None, 64, 64, 64)   0           add_19[0][0]                     \n",
      "                                                                 spatial_dropout2d_10[0][0]       \n",
      "__________________________________________________________________________________________________\n",
      "up_sampling2d_11 (UpSampling2D) (None, 128, 128, 64) 0           concatenate2[0][0]               \n",
      "__________________________________________________________________________________________________\n",
      "upsampling_net1 (Conv2D)        (None, 128, 128, 16) 9232        up_sampling2d_11[0][0]           \n",
      "__________________________________________________________________________________________________\n",
      "spatial_dropout2d_11 (SpatialDr (None, 128, 128, 16) 0           upsampling_net1[0][0]            \n",
      "__________________________________________________________________________________________________\n",
      "concatenate1 (Concatenate)      (None, 128, 128, 32) 0           add_18[0][0]                     \n",
      "                                                                 spatial_dropout2d_11[0][0]       \n",
      "__________________________________________________________________________________________________\n",
      "output (Conv2D)                 (None, 128, 128, 2)  66          concatenate1[0][0]               \n",
      "__________________________________________________________________________________________________\n",
      "dirichlet_layer_3 (DirichletLay (None, 128, 128, 2)  0           output[0][0]                     \n",
      "==================================================================================================\n",
      "Total params: 392,930\n",
      "Trainable params: 392,930\n",
      "Non-trainable params: 0\n",
      "__________________________________________________________________________________________________\n",
      "Epoch: 1\n",
      "Anneling Coeficient [1.]\n",
      "K.int_shape(mse) (None, 128, 128, 1)\n",
      "K.int_shape(mask) (None, None, None, 1)\n",
      "K.int_shape(E) (None, 128, 128, 2)\n",
      "K.int_shape(y_truth) (None, None, None, None)\n",
      "K.int_shape(mse) (None, 128, 128, 1)\n",
      "K.int_shape(mask) (None, None, None, 1)\n",
      "K.int_shape(E) (None, 128, 128, 2)\n",
      "K.int_shape(y_truth) (None, None, None, None)\n",
      "155/155 [==============================] - ETA: 0s - loss: 0.2916 - accuracy: 0.3675K.int_shape(mse) (None, 128, 128, 1)\n",
      "K.int_shape(mask) (None, None, None, 1)\n",
      "K.int_shape(E) (None, 128, 128, 2)\n",
      "K.int_shape(y_truth) (None, None, None, None)\n",
      "155/155 [==============================] - 9s 45ms/step - loss: 0.2916 - accuracy: 0.3675 - val_loss: 0.2692 - val_accuracy: 0.3412\n",
      "\n",
      "Epoch 00001: val_loss improved from inf to 0.26920, saving model to D:/Jorge/datasets/deforestation/experiments/MS/exp41/models\\resunet_3.h5\n",
      "New best val loss. Val loss: 0.2692. Early stop count: 0\n",
      "Epoch: 2\n",
      "Anneling Coeficient [0.1]\n",
      "155/155 [==============================] - 7s 43ms/step - loss: 0.2909 - accuracy: 0.3710 - val_loss: 0.2707 - val_accuracy: 0.3435\n",
      "\n",
      "Epoch 00001: val_loss did not improve from 0.26920\n",
      "Early stop count: 1\n",
      "Epoch: 3\n",
      "Anneling Coeficient [0.2]\n",
      "155/155 [==============================] - 7s 43ms/step - loss: 0.2910 - accuracy: 0.3717 - val_loss: 0.2733 - val_accuracy: 0.3511\n",
      "\n",
      "Epoch 00001: val_loss did not improve from 0.26920\n",
      "Early stop count: 2\n",
      "Epoch: 4\n",
      "Anneling Coeficient [0.3]\n",
      "155/155 [==============================] - 7s 42ms/step - loss: 0.2911 - accuracy: 0.3720 - val_loss: 0.2678 - val_accuracy: 0.3363\n",
      "\n",
      "Epoch 00001: val_loss improved from 0.26920 to 0.26778, saving model to D:/Jorge/datasets/deforestation/experiments/MS/exp41/models\\resunet_3.h5\n",
      "New best val loss. Val loss: 0.26778. Early stop count: 0\n",
      "Epoch: 5\n",
      "Anneling Coeficient [0.4]\n",
      "155/155 [==============================] - 7s 42ms/step - loss: 0.2908 - accuracy: 0.3715 - val_loss: 0.2672 - val_accuracy: 0.3308\n",
      "\n",
      "Epoch 00001: val_loss improved from 0.26778 to 0.26716, saving model to D:/Jorge/datasets/deforestation/experiments/MS/exp41/models\\resunet_3.h5\n",
      "New best val loss. Val loss: 0.26716. Early stop count: 0\n",
      "Epoch: 6\n",
      "Anneling Coeficient [0.5]\n",
      "155/155 [==============================] - 7s 42ms/step - loss: 0.2910 - accuracy: 0.3719 - val_loss: 0.2699 - val_accuracy: 0.3395\n",
      "\n",
      "Epoch 00001: val_loss did not improve from 0.26716\n",
      "Early stop count: 1\n",
      "Epoch: 7\n",
      "Anneling Coeficient [0.6]\n",
      "155/155 [==============================] - 7s 42ms/step - loss: 0.2912 - accuracy: 0.3720 - val_loss: 0.2641 - val_accuracy: 0.3236\n",
      "\n",
      "Epoch 00001: val_loss improved from 0.26716 to 0.26413, saving model to D:/Jorge/datasets/deforestation/experiments/MS/exp41/models\\resunet_3.h5\n",
      "New best val loss. Val loss: 0.26413. Early stop count: 0\n",
      "Epoch: 8\n",
      "Anneling Coeficient [0.7]\n",
      "155/155 [==============================] - 7s 42ms/step - loss: 0.2573 - accuracy: 0.3717 - val_loss: 0.2204 - val_accuracy: 0.3027\n",
      "\n",
      "Epoch 00001: val_loss improved from 0.26413 to 0.22043, saving model to D:/Jorge/datasets/deforestation/experiments/MS/exp41/models\\resunet_3.h5\n",
      "New best val loss. Val loss: 0.22043. Early stop count: 0\n",
      "Epoch: 9\n",
      "Anneling Coeficient [0.8]\n",
      "155/155 [==============================] - 7s 43ms/step - loss: 0.2266 - accuracy: 0.3721 - val_loss: 0.2169 - val_accuracy: 0.3173\n",
      "\n",
      "Epoch 00001: val_loss improved from 0.22043 to 0.21688, saving model to D:/Jorge/datasets/deforestation/experiments/MS/exp41/models\\resunet_3.h5\n",
      "New best val loss. Val loss: 0.21688. Early stop count: 0\n",
      "Epoch: 10\n",
      "Anneling Coeficient [0.9]\n",
      "155/155 [==============================] - 7s 42ms/step - loss: 0.2190 - accuracy: 0.3716 - val_loss: 0.2254 - val_accuracy: 0.3412\n",
      "\n",
      "Epoch 00001: val_loss did not improve from 0.21688\n",
      "Early stop count: 1\n",
      "Epoch: 11\n",
      "Anneling Coeficient [1.]\n",
      "155/155 [==============================] - 7s 43ms/step - loss: 0.2166 - accuracy: 0.3723 - val_loss: 0.2254 - val_accuracy: 0.3435\n",
      "\n",
      "Epoch 00001: val_loss did not improve from 0.21688\n",
      "Early stop count: 2\n",
      "Epoch: 12\n",
      "Anneling Coeficient [1.]\n",
      "155/155 [==============================] - 7s 44ms/step - loss: 0.2142 - accuracy: 0.3720 - val_loss: 0.2238 - val_accuracy: 0.3512\n",
      "\n",
      "Epoch 00001: val_loss did not improve from 0.21688\n",
      "Early stop count: 3\n",
      "Epoch: 13\n",
      "Anneling Coeficient [1.]\n",
      "155/155 [==============================] - 7s 42ms/step - loss: 0.2118 - accuracy: 0.3721 - val_loss: 0.2213 - val_accuracy: 0.3362\n",
      "\n",
      "Epoch 00001: val_loss did not improve from 0.21688\n",
      "Early stop count: 4\n",
      "Epoch: 14\n",
      "Anneling Coeficient [1.]\n",
      "155/155 [==============================] - 7s 43ms/step - loss: 0.2107 - accuracy: 0.3718 - val_loss: 0.2215 - val_accuracy: 0.3308\n",
      "\n",
      "Epoch 00001: val_loss did not improve from 0.21688\n",
      "Early stop count: 5\n",
      "Epoch: 15\n",
      "Anneling Coeficient [1.]\n",
      "155/155 [==============================] - 7s 43ms/step - loss: 0.2091 - accuracy: 0.3717 - val_loss: 0.2178 - val_accuracy: 0.3395\n",
      "\n",
      "Epoch 00001: val_loss did not improve from 0.21688\n",
      "Early stop count: 6\n",
      "Epoch: 16\n",
      "Anneling Coeficient [1.]\n",
      "155/155 [==============================] - 7s 42ms/step - loss: 0.2076 - accuracy: 0.3720 - val_loss: 0.2231 - val_accuracy: 0.3237\n",
      "\n",
      "Epoch 00001: val_loss did not improve from 0.21688\n",
      "Early stop count: 7\n",
      "Epoch: 17\n",
      "Anneling Coeficient [1.]\n",
      "155/155 [==============================] - 7s 43ms/step - loss: 0.2046 - accuracy: 0.3718 - val_loss: 0.2153 - val_accuracy: 0.3028\n",
      "\n",
      "Epoch 00001: val_loss improved from 0.21688 to 0.21532, saving model to D:/Jorge/datasets/deforestation/experiments/MS/exp41/models\\resunet_3.h5\n",
      "New best val loss. Val loss: 0.21532. Early stop count: 0\n",
      "Epoch: 18\n",
      "Anneling Coeficient [1.]\n",
      "155/155 [==============================] - 7s 43ms/step - loss: 0.2035 - accuracy: 0.3720 - val_loss: 0.2129 - val_accuracy: 0.3173\n",
      "\n",
      "Epoch 00001: val_loss improved from 0.21532 to 0.21292, saving model to D:/Jorge/datasets/deforestation/experiments/MS/exp41/models\\resunet_3.h5\n",
      "New best val loss. Val loss: 0.21292. Early stop count: 0\n",
      "Epoch: 19\n",
      "Anneling Coeficient [1.]\n",
      "155/155 [==============================] - 7s 43ms/step - loss: 0.2023 - accuracy: 0.3719 - val_loss: 0.2160 - val_accuracy: 0.3412\n",
      "\n",
      "Epoch 00001: val_loss did not improve from 0.21292\n",
      "Early stop count: 1\n",
      "Epoch: 20\n",
      "Anneling Coeficient [1.]\n",
      "155/155 [==============================] - 7s 42ms/step - loss: 0.2015 - accuracy: 0.3724 - val_loss: 0.2231 - val_accuracy: 0.3435\n",
      "\n",
      "Epoch 00001: val_loss did not improve from 0.21292\n",
      "Early stop count: 2\n",
      "Epoch: 21\n",
      "Anneling Coeficient [1.]\n",
      "155/155 [==============================] - 7s 44ms/step - loss: 0.2008 - accuracy: 0.3723 - val_loss: 0.2215 - val_accuracy: 0.3512\n",
      "\n",
      "Epoch 00001: val_loss did not improve from 0.21292\n",
      "Early stop count: 3\n",
      "Epoch: 22\n",
      "Anneling Coeficient [1.]\n",
      "155/155 [==============================] - 7s 45ms/step - loss: 0.2006 - accuracy: 0.3718 - val_loss: 0.2137 - val_accuracy: 0.3363\n",
      "\n",
      "Epoch 00001: val_loss did not improve from 0.21292\n",
      "Early stop count: 4\n",
      "Epoch: 23\n",
      "Anneling Coeficient [1.]\n",
      "155/155 [==============================] - 7s 43ms/step - loss: 0.1993 - accuracy: 0.3723 - val_loss: 0.2177 - val_accuracy: 0.3310\n",
      "\n",
      "Epoch 00001: val_loss did not improve from 0.21292\n",
      "Early stop count: 5\n",
      "Epoch: 24\n",
      "Anneling Coeficient [1.]\n",
      "155/155 [==============================] - 7s 42ms/step - loss: 0.1987 - accuracy: 0.3821 - val_loss: 0.2252 - val_accuracy: 0.3689\n",
      "\n",
      "Epoch 00001: val_loss did not improve from 0.21292\n",
      "Early stop count: 6\n",
      "Epoch: 25\n",
      "Anneling Coeficient [1.]\n",
      "155/155 [==============================] - 7s 42ms/step - loss: 0.1928 - accuracy: 0.4315 - val_loss: 0.2133 - val_accuracy: 0.3486\n",
      "\n",
      "Epoch 00001: val_loss did not improve from 0.21292\n",
      "Early stop count: 7\n",
      "Epoch: 26\n",
      "Anneling Coeficient [1.]\n",
      "155/155 [==============================] - 7s 42ms/step - loss: 0.1903 - accuracy: 0.4344 - val_loss: 0.2107 - val_accuracy: 0.3331\n",
      "\n",
      "Epoch 00001: val_loss improved from 0.21292 to 0.21075, saving model to D:/Jorge/datasets/deforestation/experiments/MS/exp41/models\\resunet_3.h5\n",
      "New best val loss. Val loss: 0.21075. Early stop count: 0\n",
      "Epoch: 27\n",
      "Anneling Coeficient [1.]\n",
      "155/155 [==============================] - 6s 42ms/step - loss: 0.1886 - accuracy: 0.4366 - val_loss: 0.2117 - val_accuracy: 0.3447\n",
      "\n",
      "Epoch 00001: val_loss did not improve from 0.21075\n",
      "Early stop count: 1\n",
      "Epoch: 28\n",
      "Anneling Coeficient [1.]\n",
      "155/155 [==============================] - 7s 43ms/step - loss: 0.1869 - accuracy: 0.4371 - val_loss: 0.2130 - val_accuracy: 0.3658\n",
      "\n",
      "Epoch 00001: val_loss did not improve from 0.21075\n",
      "Early stop count: 2\n",
      "Epoch: 29\n",
      "Anneling Coeficient [1.]\n",
      "155/155 [==============================] - 7s 44ms/step - loss: 0.1862 - accuracy: 0.4385 - val_loss: 0.2181 - val_accuracy: 0.3706\n",
      "\n",
      "Epoch 00001: val_loss did not improve from 0.21075\n",
      "Early stop count: 3\n",
      "Epoch: 30\n",
      "Anneling Coeficient [1.]\n",
      "155/155 [==============================] - 6s 42ms/step - loss: 0.1861 - accuracy: 0.4374 - val_loss: 0.2225 - val_accuracy: 0.3780\n",
      "\n",
      "Epoch 00001: val_loss did not improve from 0.21075\n",
      "Early stop count: 4\n",
      "Epoch: 31\n",
      "Anneling Coeficient [1.]\n",
      "155/155 [==============================] - 6s 42ms/step - loss: 0.1845 - accuracy: 0.4383 - val_loss: 0.2099 - val_accuracy: 0.3640\n",
      "\n",
      "Epoch 00001: val_loss improved from 0.21075 to 0.20985, saving model to D:/Jorge/datasets/deforestation/experiments/MS/exp41/models\\resunet_3.h5\n",
      "New best val loss. Val loss: 0.20985. Early stop count: 0\n",
      "Epoch: 32\n",
      "Anneling Coeficient [1.]\n",
      "155/155 [==============================] - 6s 42ms/step - loss: 0.1837 - accuracy: 0.4378 - val_loss: 0.2185 - val_accuracy: 0.3606\n",
      "\n",
      "Epoch 00001: val_loss did not improve from 0.20985\n",
      "Early stop count: 1\n",
      "Epoch: 33\n",
      "Anneling Coeficient [1.]\n",
      "155/155 [==============================] - 6s 42ms/step - loss: 0.1835 - accuracy: 0.4379 - val_loss: 0.2151 - val_accuracy: 0.3704\n",
      "\n",
      "Epoch 00001: val_loss did not improve from 0.20985\n",
      "Early stop count: 2\n",
      "Epoch: 34\n",
      "Anneling Coeficient [1.]\n",
      "155/155 [==============================] - 6s 42ms/step - loss: 0.1832 - accuracy: 0.4384 - val_loss: 0.2137 - val_accuracy: 0.3528\n",
      "\n",
      "Epoch 00001: val_loss did not improve from 0.20985\n",
      "Early stop count: 3\n",
      "Epoch: 35\n",
      "Anneling Coeficient [1.]\n",
      "155/155 [==============================] - 7s 42ms/step - loss: 0.1820 - accuracy: 0.4391 - val_loss: 0.2088 - val_accuracy: 0.3357\n",
      "\n",
      "Epoch 00001: val_loss improved from 0.20985 to 0.20882, saving model to D:/Jorge/datasets/deforestation/experiments/MS/exp41/models\\resunet_3.h5\n",
      "New best val loss. Val loss: 0.20882. Early stop count: 0\n",
      "Epoch: 36\n",
      "Anneling Coeficient [1.]\n",
      "155/155 [==============================] - 6s 42ms/step - loss: 0.1818 - accuracy: 0.4385 - val_loss: 0.2115 - val_accuracy: 0.3458\n",
      "\n",
      "Epoch 00001: val_loss did not improve from 0.20882\n",
      "Early stop count: 1\n",
      "Epoch: 37\n",
      "Anneling Coeficient [1.]\n",
      "155/155 [==============================] - 6s 42ms/step - loss: 0.1810 - accuracy: 0.4394 - val_loss: 0.2223 - val_accuracy: 0.3702\n",
      "\n",
      "Epoch 00001: val_loss did not improve from 0.20882\n",
      "Early stop count: 2\n",
      "Epoch: 38\n",
      "Anneling Coeficient [1.]\n",
      "155/155 [==============================] - 7s 42ms/step - loss: 0.1805 - accuracy: 0.4389 - val_loss: 0.2297 - val_accuracy: 0.3719\n",
      "\n",
      "Epoch 00001: val_loss did not improve from 0.20882\n",
      "Early stop count: 3\n",
      "Epoch: 39\n",
      "Anneling Coeficient [1.]\n",
      "155/155 [==============================] - 7s 42ms/step - loss: 0.1796 - accuracy: 0.4393 - val_loss: 0.2231 - val_accuracy: 0.3794\n",
      "\n",
      "Epoch 00001: val_loss did not improve from 0.20882\n",
      "Early stop count: 4\n",
      "Epoch: 40\n",
      "Anneling Coeficient [1.]\n",
      "155/155 [==============================] - 6s 42ms/step - loss: 0.1804 - accuracy: 0.4393 - val_loss: 0.2206 - val_accuracy: 0.3660\n",
      "\n",
      "Epoch 00001: val_loss did not improve from 0.20882\n",
      "Early stop count: 5\n",
      "Epoch: 41\n",
      "Anneling Coeficient [1.]\n",
      "155/155 [==============================] - 7s 43ms/step - loss: 0.1791 - accuracy: 0.4399 - val_loss: 0.2213 - val_accuracy: 0.3609\n",
      "\n",
      "Epoch 00001: val_loss did not improve from 0.20882\n",
      "Early stop count: 6\n",
      "Epoch: 42\n",
      "Anneling Coeficient [1.]\n",
      "155/155 [==============================] - 7s 44ms/step - loss: 0.1790 - accuracy: 0.4402 - val_loss: 0.2403 - val_accuracy: 0.3711\n",
      "\n",
      "Epoch 00001: val_loss did not improve from 0.20882\n",
      "Early stop count: 7\n",
      "Epoch: 43\n",
      "Anneling Coeficient [1.]\n",
      "155/155 [==============================] - 6s 42ms/step - loss: 0.1792 - accuracy: 0.4402 - val_loss: 0.2353 - val_accuracy: 0.3543\n",
      "\n",
      "Epoch 00001: val_loss did not improve from 0.20882\n",
      "Early stop count: 8\n",
      "Epoch: 44\n",
      "Anneling Coeficient [1.]\n",
      "155/155 [==============================] - 6s 42ms/step - loss: 0.1781 - accuracy: 0.4407 - val_loss: 0.2076 - val_accuracy: 0.3346\n",
      "\n",
      "Epoch 00001: val_loss improved from 0.20882 to 0.20756, saving model to D:/Jorge/datasets/deforestation/experiments/MS/exp41/models\\resunet_3.h5\n",
      "New best val loss. Val loss: 0.20756. Early stop count: 0\n",
      "Epoch: 45\n",
      "Anneling Coeficient [1.]\n",
      "155/155 [==============================] - 6s 42ms/step - loss: 0.1776 - accuracy: 0.4407 - val_loss: 0.2216 - val_accuracy: 0.3469\n",
      "\n",
      "Epoch 00001: val_loss did not improve from 0.20756\n",
      "Early stop count: 1\n",
      "Epoch: 46\n",
      "Anneling Coeficient [1.]\n",
      "155/155 [==============================] - 7s 43ms/step - loss: 0.1776 - accuracy: 0.4403 - val_loss: 0.2310 - val_accuracy: 0.3691\n",
      "\n",
      "Epoch 00001: val_loss did not improve from 0.20756\n",
      "Early stop count: 2\n",
      "Epoch: 47\n",
      "Anneling Coeficient [1.]\n",
      "155/155 [==============================] - 6s 42ms/step - loss: 0.1769 - accuracy: 0.4409 - val_loss: 0.2335 - val_accuracy: 0.3731\n",
      "\n",
      "Epoch 00001: val_loss did not improve from 0.20756\n",
      "Early stop count: 3\n",
      "Epoch: 48\n",
      "Anneling Coeficient [1.]\n",
      "155/155 [==============================] - 6s 42ms/step - loss: 0.1764 - accuracy: 0.4408 - val_loss: 0.2311 - val_accuracy: 0.3810\n",
      "\n",
      "Epoch 00001: val_loss did not improve from 0.20756\n",
      "Early stop count: 4\n",
      "Epoch: 49\n",
      "Anneling Coeficient [1.]\n",
      "155/155 [==============================] - 6s 42ms/step - loss: 0.1768 - accuracy: 0.4410 - val_loss: 0.2525 - val_accuracy: 0.3617\n",
      "\n",
      "Epoch 00001: val_loss did not improve from 0.20756\n",
      "Early stop count: 5\n",
      "Epoch: 50\n",
      "Anneling Coeficient [1.]\n",
      "155/155 [==============================] - 7s 43ms/step - loss: 0.1761 - accuracy: 0.4411 - val_loss: 0.2373 - val_accuracy: 0.3633\n",
      "\n",
      "Epoch 00001: val_loss did not improve from 0.20756\n",
      "Early stop count: 6\n",
      "Epoch: 51\n",
      "Anneling Coeficient [1.]\n",
      "155/155 [==============================] - 7s 42ms/step - loss: 0.1754 - accuracy: 0.4414 - val_loss: 0.2445 - val_accuracy: 0.3723\n",
      "\n",
      "Epoch 00001: val_loss did not improve from 0.20756\n",
      "Early stop count: 7\n",
      "Epoch: 52\n",
      "Anneling Coeficient [1.]\n",
      "155/155 [==============================] - 6s 42ms/step - loss: 0.1754 - accuracy: 0.4415 - val_loss: 0.2438 - val_accuracy: 0.3585\n",
      "\n",
      "Epoch 00001: val_loss did not improve from 0.20756\n",
      "Early stop count: 8\n",
      "Epoch: 53\n",
      "Anneling Coeficient [1.]\n",
      "155/155 [==============================] - 7s 43ms/step - loss: 0.1753 - accuracy: 0.4415 - val_loss: 0.2184 - val_accuracy: 0.3374\n",
      "\n",
      "Epoch 00001: val_loss did not improve from 0.20756\n",
      "Early stop count: 9\n",
      "Epoch: 54\n",
      "Anneling Coeficient [1.]\n",
      "155/155 [==============================] - 7s 42ms/step - loss: 0.1749 - accuracy: 0.4414 - val_loss: 0.2209 - val_accuracy: 0.3482\n",
      "\n",
      "Epoch 00001: val_loss did not improve from 0.20756\n",
      "Early stop count: 10\n",
      "Early stopping\n",
      "10 10\n",
      "Finished Training\n",
      "Training time:  361.94896149635315\n",
      "time:  4\n",
      "Model: \"model_4\"\n",
      "__________________________________________________________________________________________________\n",
      "Layer (type)                    Output Shape         Param #     Connected to                     \n",
      "==================================================================================================\n",
      "input_enc_net (InputLayer)      [(None, 128, 128, 9) 0                                            \n",
      "__________________________________________________________________________________________________\n",
      "res1_net1 (Conv2D)              (None, 128, 128, 16) 1312        input_enc_net[0][0]              \n",
      "__________________________________________________________________________________________________\n",
      "drop_net1 (SpatialDropout2D)    (None, 128, 128, 16) 0           res1_net1[0][0]                  \n",
      "__________________________________________________________________________________________________\n",
      "res2_net1 (Conv2D)              (None, 128, 128, 16) 2320        drop_net1[0][0]                  \n",
      "__________________________________________________________________________________________________\n",
      "res3_net1 (Conv2D)              (None, 128, 128, 16) 160         input_enc_net[0][0]              \n",
      "__________________________________________________________________________________________________\n",
      "add_24 (Add)                    (None, 128, 128, 16) 0           res2_net1[0][0]                  \n",
      "                                                                 res3_net1[0][0]                  \n",
      "__________________________________________________________________________________________________\n",
      "pool_net1 (MaxPooling2D)        (None, 64, 64, 16)   0           add_24[0][0]                     \n",
      "__________________________________________________________________________________________________\n",
      "res1_net2 (Conv2D)              (None, 64, 64, 32)   4640        pool_net1[0][0]                  \n",
      "__________________________________________________________________________________________________\n",
      "drop_net2 (SpatialDropout2D)    (None, 64, 64, 32)   0           res1_net2[0][0]                  \n",
      "__________________________________________________________________________________________________\n",
      "res2_net2 (Conv2D)              (None, 64, 64, 32)   9248        drop_net2[0][0]                  \n",
      "__________________________________________________________________________________________________\n",
      "res3_net2 (Conv2D)              (None, 64, 64, 32)   544         pool_net1[0][0]                  \n",
      "__________________________________________________________________________________________________\n",
      "add_25 (Add)                    (None, 64, 64, 32)   0           res2_net2[0][0]                  \n",
      "                                                                 res3_net2[0][0]                  \n",
      "__________________________________________________________________________________________________\n",
      "pool_net2 (MaxPooling2D)        (None, 32, 32, 32)   0           add_25[0][0]                     \n",
      "__________________________________________________________________________________________________\n",
      "res1_net3 (Conv2D)              (None, 32, 32, 64)   18496       pool_net2[0][0]                  \n",
      "__________________________________________________________________________________________________\n",
      "drop_net3 (SpatialDropout2D)    (None, 32, 32, 64)   0           res1_net3[0][0]                  \n",
      "__________________________________________________________________________________________________\n",
      "res2_net3 (Conv2D)              (None, 32, 32, 64)   36928       drop_net3[0][0]                  \n",
      "__________________________________________________________________________________________________\n",
      "res3_net3 (Conv2D)              (None, 32, 32, 64)   2112        pool_net2[0][0]                  \n",
      "__________________________________________________________________________________________________\n",
      "add_26 (Add)                    (None, 32, 32, 64)   0           res2_net3[0][0]                  \n",
      "                                                                 res3_net3[0][0]                  \n",
      "__________________________________________________________________________________________________\n",
      "pool_net3 (MaxPooling2D)        (None, 16, 16, 64)   0           add_26[0][0]                     \n",
      "__________________________________________________________________________________________________\n",
      "res1_net4 (Conv2D)              (None, 16, 16, 64)   36928       pool_net3[0][0]                  \n",
      "__________________________________________________________________________________________________\n",
      "drop_net4 (SpatialDropout2D)    (None, 16, 16, 64)   0           res1_net4[0][0]                  \n",
      "__________________________________________________________________________________________________\n",
      "res2_net4 (Conv2D)              (None, 16, 16, 64)   36928       drop_net4[0][0]                  \n",
      "__________________________________________________________________________________________________\n",
      "res3_net4 (Conv2D)              (None, 16, 16, 64)   4160        pool_net3[0][0]                  \n",
      "__________________________________________________________________________________________________\n",
      "add_27 (Add)                    (None, 16, 16, 64)   0           res2_net4[0][0]                  \n",
      "                                                                 res3_net4[0][0]                  \n",
      "__________________________________________________________________________________________________\n",
      "res1_net5 (Conv2D)              (None, 16, 16, 64)   36928       add_27[0][0]                     \n",
      "__________________________________________________________________________________________________\n",
      "drop_net5 (SpatialDropout2D)    (None, 16, 16, 64)   0           res1_net5[0][0]                  \n",
      "__________________________________________________________________________________________________\n",
      "res2_net5 (Conv2D)              (None, 16, 16, 64)   36928       drop_net5[0][0]                  \n",
      "__________________________________________________________________________________________________\n",
      "res3_net5 (Conv2D)              (None, 16, 16, 64)   4160        add_27[0][0]                     \n",
      "__________________________________________________________________________________________________\n",
      "add_28 (Add)                    (None, 16, 16, 64)   0           res2_net5[0][0]                  \n",
      "                                                                 res3_net5[0][0]                  \n",
      "__________________________________________________________________________________________________\n",
      "res1_net6 (Conv2D)              (None, 16, 16, 64)   36928       add_28[0][0]                     \n",
      "__________________________________________________________________________________________________\n",
      "drop_net6 (SpatialDropout2D)    (None, 16, 16, 64)   0           res1_net6[0][0]                  \n",
      "__________________________________________________________________________________________________\n",
      "res2_net6 (Conv2D)              (None, 16, 16, 64)   36928       drop_net6[0][0]                  \n",
      "__________________________________________________________________________________________________\n",
      "res3_net6 (Conv2D)              (None, 16, 16, 64)   4160        add_28[0][0]                     \n",
      "__________________________________________________________________________________________________\n",
      "add_29 (Add)                    (None, 16, 16, 64)   0           res2_net6[0][0]                  \n",
      "                                                                 res3_net6[0][0]                  \n",
      "__________________________________________________________________________________________________\n",
      "up_sampling2d_12 (UpSampling2D) (None, 32, 32, 64)   0           add_29[0][0]                     \n",
      "__________________________________________________________________________________________________\n",
      "upsampling_net3 (Conv2D)        (None, 32, 32, 64)   36928       up_sampling2d_12[0][0]           \n",
      "__________________________________________________________________________________________________\n",
      "spatial_dropout2d_12 (SpatialDr (None, 32, 32, 64)   0           upsampling_net3[0][0]            \n",
      "__________________________________________________________________________________________________\n",
      "concatenate3 (Concatenate)      (None, 32, 32, 128)  0           add_26[0][0]                     \n",
      "                                                                 spatial_dropout2d_12[0][0]       \n",
      "__________________________________________________________________________________________________\n",
      "up_sampling2d_13 (UpSampling2D) (None, 64, 64, 128)  0           concatenate3[0][0]               \n",
      "__________________________________________________________________________________________________\n",
      "upsampling_net2 (Conv2D)        (None, 64, 64, 32)   36896       up_sampling2d_13[0][0]           \n",
      "__________________________________________________________________________________________________\n",
      "spatial_dropout2d_13 (SpatialDr (None, 64, 64, 32)   0           upsampling_net2[0][0]            \n",
      "__________________________________________________________________________________________________\n",
      "concatenate2 (Concatenate)      (None, 64, 64, 64)   0           add_25[0][0]                     \n",
      "                                                                 spatial_dropout2d_13[0][0]       \n",
      "__________________________________________________________________________________________________\n",
      "up_sampling2d_14 (UpSampling2D) (None, 128, 128, 64) 0           concatenate2[0][0]               \n",
      "__________________________________________________________________________________________________\n",
      "upsampling_net1 (Conv2D)        (None, 128, 128, 16) 9232        up_sampling2d_14[0][0]           \n",
      "__________________________________________________________________________________________________\n",
      "spatial_dropout2d_14 (SpatialDr (None, 128, 128, 16) 0           upsampling_net1[0][0]            \n",
      "__________________________________________________________________________________________________\n",
      "concatenate1 (Concatenate)      (None, 128, 128, 32) 0           add_24[0][0]                     \n",
      "                                                                 spatial_dropout2d_14[0][0]       \n",
      "__________________________________________________________________________________________________\n",
      "output (Conv2D)                 (None, 128, 128, 2)  66          concatenate1[0][0]               \n",
      "__________________________________________________________________________________________________\n",
      "dirichlet_layer_4 (DirichletLay (None, 128, 128, 2)  0           output[0][0]                     \n",
      "==================================================================================================\n",
      "Total params: 392,930\n",
      "Trainable params: 392,930\n",
      "Non-trainable params: 0\n",
      "__________________________________________________________________________________________________\n",
      "Epoch: 1\n",
      "Anneling Coeficient [1.]\n",
      "K.int_shape(mse) (None, 128, 128, 1)\n",
      "K.int_shape(mask) (None, None, None, 1)\n",
      "K.int_shape(E) (None, 128, 128, 2)\n",
      "K.int_shape(y_truth) (None, None, None, None)\n",
      "K.int_shape(mse) (None, 128, 128, 1)\n",
      "K.int_shape(mask) (None, None, None, 1)\n",
      "K.int_shape(E) (None, 128, 128, 2)\n",
      "K.int_shape(y_truth) (None, None, None, None)\n",
      "154/155 [============================>.] - ETA: 0s - loss: 0.2801 - accuracy: 0.3652K.int_shape(mse) (None, 128, 128, 1)\n",
      "K.int_shape(mask) (None, None, None, 1)\n",
      "K.int_shape(E) (None, 128, 128, 2)\n",
      "K.int_shape(y_truth) (None, None, None, None)\n",
      "155/155 [==============================] - 9s 46ms/step - loss: 0.2800 - accuracy: 0.3657 - val_loss: 0.2470 - val_accuracy: 0.3413\n",
      "\n",
      "Epoch 00001: val_loss improved from inf to 0.24696, saving model to D:/Jorge/datasets/deforestation/experiments/MS/exp41/models\\resunet_4.h5\n",
      "New best val loss. Val loss: 0.24696. Early stop count: 0\n",
      "Epoch: 2\n",
      "Anneling Coeficient [0.1]\n",
      "155/155 [==============================] - 7s 43ms/step - loss: 0.2410 - accuracy: 0.3724 - val_loss: 0.2299 - val_accuracy: 0.3435\n",
      "\n",
      "Epoch 00001: val_loss improved from 0.24696 to 0.22992, saving model to D:/Jorge/datasets/deforestation/experiments/MS/exp41/models\\resunet_4.h5\n",
      "New best val loss. Val loss: 0.22992. Early stop count: 0\n",
      "Epoch: 3\n",
      "Anneling Coeficient [0.2]\n",
      "155/155 [==============================] - 7s 43ms/step - loss: 0.2259 - accuracy: 0.3718 - val_loss: 0.2267 - val_accuracy: 0.3512\n",
      "\n",
      "Epoch 00001: val_loss improved from 0.22992 to 0.22666, saving model to D:/Jorge/datasets/deforestation/experiments/MS/exp41/models\\resunet_4.h5\n",
      "New best val loss. Val loss: 0.22666. Early stop count: 0\n",
      "Epoch: 4\n",
      "Anneling Coeficient [0.3]\n",
      "155/155 [==============================] - 7s 42ms/step - loss: 0.2204 - accuracy: 0.3723 - val_loss: 0.2235 - val_accuracy: 0.3364\n",
      "\n",
      "Epoch 00001: val_loss improved from 0.22666 to 0.22349, saving model to D:/Jorge/datasets/deforestation/experiments/MS/exp41/models\\resunet_4.h5\n",
      "New best val loss. Val loss: 0.22349. Early stop count: 0\n",
      "Epoch: 5\n",
      "Anneling Coeficient [0.4]\n",
      "155/155 [==============================] - 7s 42ms/step - loss: 0.2169 - accuracy: 0.3719 - val_loss: 0.2290 - val_accuracy: 0.3308\n",
      "\n",
      "Epoch 00001: val_loss did not improve from 0.22349\n",
      "Early stop count: 1\n",
      "Epoch: 6\n",
      "Anneling Coeficient [0.5]\n",
      "155/155 [==============================] - 7s 43ms/step - loss: 0.2147 - accuracy: 0.3722 - val_loss: 0.2339 - val_accuracy: 0.3396\n",
      "\n",
      "Epoch 00001: val_loss did not improve from 0.22349\n",
      "Early stop count: 2\n",
      "Epoch: 7\n",
      "Anneling Coeficient [0.6]\n",
      "155/155 [==============================] - 7s 43ms/step - loss: 0.2128 - accuracy: 0.3722 - val_loss: 0.2227 - val_accuracy: 0.3237\n",
      "\n",
      "Epoch 00001: val_loss improved from 0.22349 to 0.22272, saving model to D:/Jorge/datasets/deforestation/experiments/MS/exp41/models\\resunet_4.h5\n",
      "New best val loss. Val loss: 0.22272. Early stop count: 0\n",
      "Epoch: 8\n",
      "Anneling Coeficient [0.7]\n",
      "155/155 [==============================] - 6s 42ms/step - loss: 0.2117 - accuracy: 0.3720 - val_loss: 0.2098 - val_accuracy: 0.3028\n",
      "\n",
      "Epoch 00001: val_loss improved from 0.22272 to 0.20981, saving model to D:/Jorge/datasets/deforestation/experiments/MS/exp41/models\\resunet_4.h5\n",
      "New best val loss. Val loss: 0.20981. Early stop count: 0\n",
      "Epoch: 9\n",
      "Anneling Coeficient [0.8]\n",
      "155/155 [==============================] - 7s 42ms/step - loss: 0.2111 - accuracy: 0.3721 - val_loss: 0.2118 - val_accuracy: 0.3173\n",
      "\n",
      "Epoch 00001: val_loss did not improve from 0.20981\n",
      "Early stop count: 1\n",
      "Epoch: 10\n",
      "Anneling Coeficient [0.9]\n",
      "155/155 [==============================] - 7s 44ms/step - loss: 0.2091 - accuracy: 0.3723 - val_loss: 0.2322 - val_accuracy: 0.3412\n",
      "\n",
      "Epoch 00001: val_loss did not improve from 0.20981\n",
      "Early stop count: 2\n",
      "Epoch: 11\n",
      "Anneling Coeficient [1.]\n",
      "155/155 [==============================] - 7s 42ms/step - loss: 0.2081 - accuracy: 0.3720 - val_loss: 0.2253 - val_accuracy: 0.3435\n",
      "\n",
      "Epoch 00001: val_loss did not improve from 0.20981\n",
      "Early stop count: 3\n",
      "Epoch: 12\n",
      "Anneling Coeficient [1.]\n",
      "155/155 [==============================] - 7s 42ms/step - loss: 0.2068 - accuracy: 0.3721 - val_loss: 0.2285 - val_accuracy: 0.3512\n",
      "\n",
      "Epoch 00001: val_loss did not improve from 0.20981\n",
      "Early stop count: 4\n",
      "Epoch: 13\n",
      "Anneling Coeficient [1.]\n",
      "155/155 [==============================] - 7s 43ms/step - loss: 0.2054 - accuracy: 0.3722 - val_loss: 0.2234 - val_accuracy: 0.3363\n",
      "\n",
      "Epoch 00001: val_loss did not improve from 0.20981\n",
      "Early stop count: 5\n",
      "Epoch: 14\n",
      "Anneling Coeficient [1.]\n",
      "155/155 [==============================] - 7s 43ms/step - loss: 0.2046 - accuracy: 0.3722 - val_loss: 0.2182 - val_accuracy: 0.3308\n",
      "\n",
      "Epoch 00001: val_loss did not improve from 0.20981\n",
      "Early stop count: 6\n",
      "Epoch: 15\n",
      "Anneling Coeficient [1.]\n",
      "155/155 [==============================] - 7s 43ms/step - loss: 0.2039 - accuracy: 0.3720 - val_loss: 0.2279 - val_accuracy: 0.3395\n",
      "\n",
      "Epoch 00001: val_loss did not improve from 0.20981\n",
      "Early stop count: 7\n",
      "Epoch: 16\n",
      "Anneling Coeficient [1.]\n",
      "155/155 [==============================] - 7s 44ms/step - loss: 0.2028 - accuracy: 0.3723 - val_loss: 0.2152 - val_accuracy: 0.3237\n",
      "\n",
      "Epoch 00001: val_loss did not improve from 0.20981\n",
      "Early stop count: 8\n",
      "Epoch: 17\n",
      "Anneling Coeficient [1.]\n",
      "155/155 [==============================] - 7s 43ms/step - loss: 0.2033 - accuracy: 0.3718 - val_loss: 0.2094 - val_accuracy: 0.3028\n",
      "\n",
      "Epoch 00001: val_loss improved from 0.20981 to 0.20943, saving model to D:/Jorge/datasets/deforestation/experiments/MS/exp41/models\\resunet_4.h5\n",
      "New best val loss. Val loss: 0.20943. Early stop count: 0\n",
      "Epoch: 18\n",
      "Anneling Coeficient [1.]\n",
      "155/155 [==============================] - 7s 42ms/step - loss: 0.2014 - accuracy: 0.3724 - val_loss: 0.2188 - val_accuracy: 0.3173\n",
      "\n",
      "Epoch 00001: val_loss did not improve from 0.20943\n",
      "Early stop count: 1\n",
      "Epoch: 19\n",
      "Anneling Coeficient [1.]\n",
      "155/155 [==============================] - 7s 42ms/step - loss: 0.2009 - accuracy: 0.3720 - val_loss: 0.2239 - val_accuracy: 0.3412\n",
      "\n",
      "Epoch 00001: val_loss did not improve from 0.20943\n",
      "Early stop count: 2\n",
      "Epoch: 20\n",
      "Anneling Coeficient [1.]\n",
      "155/155 [==============================] - 7s 43ms/step - loss: 0.2008 - accuracy: 0.3716 - val_loss: 0.2140 - val_accuracy: 0.3435\n",
      "\n",
      "Epoch 00001: val_loss did not improve from 0.20943\n",
      "Early stop count: 3\n",
      "Epoch: 21\n",
      "Anneling Coeficient [1.]\n",
      "155/155 [==============================] - 7s 42ms/step - loss: 0.1999 - accuracy: 0.3723 - val_loss: 0.2167 - val_accuracy: 0.3512\n",
      "\n",
      "Epoch 00001: val_loss did not improve from 0.20943\n",
      "Early stop count: 4\n",
      "Epoch: 22\n",
      "Anneling Coeficient [1.]\n",
      "155/155 [==============================] - 7s 44ms/step - loss: 0.1997 - accuracy: 0.3717 - val_loss: 0.2080 - val_accuracy: 0.3363\n",
      "\n",
      "Epoch 00001: val_loss improved from 0.20943 to 0.20801, saving model to D:/Jorge/datasets/deforestation/experiments/MS/exp41/models\\resunet_4.h5\n",
      "New best val loss. Val loss: 0.20801. Early stop count: 0\n",
      "Epoch: 23\n",
      "Anneling Coeficient [1.]\n",
      "155/155 [==============================] - 7s 42ms/step - loss: 0.2003 - accuracy: 0.3721 - val_loss: 0.2157 - val_accuracy: 0.3308\n",
      "\n",
      "Epoch 00001: val_loss did not improve from 0.20801\n",
      "Early stop count: 1\n",
      "Epoch: 24\n",
      "Anneling Coeficient [1.]\n",
      "155/155 [==============================] - 7s 42ms/step - loss: 0.1984 - accuracy: 0.3725 - val_loss: 0.2243 - val_accuracy: 0.3395\n",
      "\n",
      "Epoch 00001: val_loss did not improve from 0.20801\n",
      "Early stop count: 2\n",
      "Epoch: 25\n",
      "Anneling Coeficient [1.]\n",
      "155/155 [==============================] - 7s 42ms/step - loss: 0.1985 - accuracy: 0.3717 - val_loss: 0.2174 - val_accuracy: 0.3237\n",
      "\n",
      "Epoch 00001: val_loss did not improve from 0.20801\n",
      "Early stop count: 3\n",
      "Epoch: 26\n",
      "Anneling Coeficient [1.]\n",
      "155/155 [==============================] - 7s 42ms/step - loss: 0.1975 - accuracy: 0.3720 - val_loss: 0.2119 - val_accuracy: 0.3028\n",
      "\n",
      "Epoch 00001: val_loss did not improve from 0.20801\n",
      "Early stop count: 4\n",
      "Epoch: 27\n",
      "Anneling Coeficient [1.]\n",
      "155/155 [==============================] - 7s 42ms/step - loss: 0.1976 - accuracy: 0.3721 - val_loss: 0.2105 - val_accuracy: 0.3173\n",
      "\n",
      "Epoch 00001: val_loss did not improve from 0.20801\n",
      "Early stop count: 5\n",
      "Epoch: 28\n",
      "Anneling Coeficient [1.]\n",
      "155/155 [==============================] - 7s 42ms/step - loss: 0.1973 - accuracy: 0.3722 - val_loss: 0.2259 - val_accuracy: 0.3413\n",
      "\n",
      "Epoch 00001: val_loss did not improve from 0.20801\n",
      "Early stop count: 6\n",
      "Epoch: 29\n",
      "Anneling Coeficient [1.]\n",
      "155/155 [==============================] - 7s 42ms/step - loss: 0.1970 - accuracy: 0.3723 - val_loss: 0.2233 - val_accuracy: 0.3435\n",
      "\n",
      "Epoch 00001: val_loss did not improve from 0.20801\n",
      "Early stop count: 7\n",
      "Epoch: 30\n",
      "Anneling Coeficient [1.]\n",
      "155/155 [==============================] - 7s 44ms/step - loss: 0.1965 - accuracy: 0.3721 - val_loss: 0.2228 - val_accuracy: 0.3512\n",
      "\n",
      "Epoch 00001: val_loss did not improve from 0.20801\n",
      "Early stop count: 8\n",
      "Epoch: 31\n",
      "Anneling Coeficient [1.]\n",
      "155/155 [==============================] - 7s 42ms/step - loss: 0.1961 - accuracy: 0.3718 - val_loss: 0.2214 - val_accuracy: 0.3363\n",
      "\n",
      "Epoch 00001: val_loss did not improve from 0.20801\n",
      "Early stop count: 9\n",
      "Epoch: 32\n",
      "Anneling Coeficient [1.]\n",
      "155/155 [==============================] - 7s 42ms/step - loss: 0.1958 - accuracy: 0.3719 - val_loss: 0.2213 - val_accuracy: 0.3308\n",
      "\n",
      "Epoch 00001: val_loss did not improve from 0.20801\n",
      "Early stop count: 10\n",
      "Early stopping\n",
      "10 10\n",
      "Finished Training\n",
      "Training time:  216.6980333328247\n",
      "time:  5\n",
      "Model: \"model_5\"\n",
      "__________________________________________________________________________________________________\n",
      "Layer (type)                    Output Shape         Param #     Connected to                     \n",
      "==================================================================================================\n",
      "input_enc_net (InputLayer)      [(None, 128, 128, 9) 0                                            \n",
      "__________________________________________________________________________________________________\n",
      "res1_net1 (Conv2D)              (None, 128, 128, 16) 1312        input_enc_net[0][0]              \n",
      "__________________________________________________________________________________________________\n",
      "drop_net1 (SpatialDropout2D)    (None, 128, 128, 16) 0           res1_net1[0][0]                  \n",
      "__________________________________________________________________________________________________\n",
      "res2_net1 (Conv2D)              (None, 128, 128, 16) 2320        drop_net1[0][0]                  \n",
      "__________________________________________________________________________________________________\n",
      "res3_net1 (Conv2D)              (None, 128, 128, 16) 160         input_enc_net[0][0]              \n",
      "__________________________________________________________________________________________________\n",
      "add_30 (Add)                    (None, 128, 128, 16) 0           res2_net1[0][0]                  \n",
      "                                                                 res3_net1[0][0]                  \n",
      "__________________________________________________________________________________________________\n",
      "pool_net1 (MaxPooling2D)        (None, 64, 64, 16)   0           add_30[0][0]                     \n",
      "__________________________________________________________________________________________________\n",
      "res1_net2 (Conv2D)              (None, 64, 64, 32)   4640        pool_net1[0][0]                  \n",
      "__________________________________________________________________________________________________\n",
      "drop_net2 (SpatialDropout2D)    (None, 64, 64, 32)   0           res1_net2[0][0]                  \n",
      "__________________________________________________________________________________________________\n",
      "res2_net2 (Conv2D)              (None, 64, 64, 32)   9248        drop_net2[0][0]                  \n",
      "__________________________________________________________________________________________________\n",
      "res3_net2 (Conv2D)              (None, 64, 64, 32)   544         pool_net1[0][0]                  \n",
      "__________________________________________________________________________________________________\n",
      "add_31 (Add)                    (None, 64, 64, 32)   0           res2_net2[0][0]                  \n",
      "                                                                 res3_net2[0][0]                  \n",
      "__________________________________________________________________________________________________\n",
      "pool_net2 (MaxPooling2D)        (None, 32, 32, 32)   0           add_31[0][0]                     \n",
      "__________________________________________________________________________________________________\n",
      "res1_net3 (Conv2D)              (None, 32, 32, 64)   18496       pool_net2[0][0]                  \n",
      "__________________________________________________________________________________________________\n",
      "drop_net3 (SpatialDropout2D)    (None, 32, 32, 64)   0           res1_net3[0][0]                  \n",
      "__________________________________________________________________________________________________\n",
      "res2_net3 (Conv2D)              (None, 32, 32, 64)   36928       drop_net3[0][0]                  \n",
      "__________________________________________________________________________________________________\n",
      "res3_net3 (Conv2D)              (None, 32, 32, 64)   2112        pool_net2[0][0]                  \n",
      "__________________________________________________________________________________________________\n",
      "add_32 (Add)                    (None, 32, 32, 64)   0           res2_net3[0][0]                  \n",
      "                                                                 res3_net3[0][0]                  \n",
      "__________________________________________________________________________________________________\n",
      "pool_net3 (MaxPooling2D)        (None, 16, 16, 64)   0           add_32[0][0]                     \n",
      "__________________________________________________________________________________________________\n",
      "res1_net4 (Conv2D)              (None, 16, 16, 64)   36928       pool_net3[0][0]                  \n",
      "__________________________________________________________________________________________________\n",
      "drop_net4 (SpatialDropout2D)    (None, 16, 16, 64)   0           res1_net4[0][0]                  \n",
      "__________________________________________________________________________________________________\n",
      "res2_net4 (Conv2D)              (None, 16, 16, 64)   36928       drop_net4[0][0]                  \n",
      "__________________________________________________________________________________________________\n",
      "res3_net4 (Conv2D)              (None, 16, 16, 64)   4160        pool_net3[0][0]                  \n",
      "__________________________________________________________________________________________________\n",
      "add_33 (Add)                    (None, 16, 16, 64)   0           res2_net4[0][0]                  \n",
      "                                                                 res3_net4[0][0]                  \n",
      "__________________________________________________________________________________________________\n",
      "res1_net5 (Conv2D)              (None, 16, 16, 64)   36928       add_33[0][0]                     \n",
      "__________________________________________________________________________________________________\n",
      "drop_net5 (SpatialDropout2D)    (None, 16, 16, 64)   0           res1_net5[0][0]                  \n",
      "__________________________________________________________________________________________________\n",
      "res2_net5 (Conv2D)              (None, 16, 16, 64)   36928       drop_net5[0][0]                  \n",
      "__________________________________________________________________________________________________\n",
      "res3_net5 (Conv2D)              (None, 16, 16, 64)   4160        add_33[0][0]                     \n",
      "__________________________________________________________________________________________________\n",
      "add_34 (Add)                    (None, 16, 16, 64)   0           res2_net5[0][0]                  \n",
      "                                                                 res3_net5[0][0]                  \n",
      "__________________________________________________________________________________________________\n",
      "res1_net6 (Conv2D)              (None, 16, 16, 64)   36928       add_34[0][0]                     \n",
      "__________________________________________________________________________________________________\n",
      "drop_net6 (SpatialDropout2D)    (None, 16, 16, 64)   0           res1_net6[0][0]                  \n",
      "__________________________________________________________________________________________________\n",
      "res2_net6 (Conv2D)              (None, 16, 16, 64)   36928       drop_net6[0][0]                  \n",
      "__________________________________________________________________________________________________\n",
      "res3_net6 (Conv2D)              (None, 16, 16, 64)   4160        add_34[0][0]                     \n",
      "__________________________________________________________________________________________________\n",
      "add_35 (Add)                    (None, 16, 16, 64)   0           res2_net6[0][0]                  \n",
      "                                                                 res3_net6[0][0]                  \n",
      "__________________________________________________________________________________________________\n",
      "up_sampling2d_15 (UpSampling2D) (None, 32, 32, 64)   0           add_35[0][0]                     \n",
      "__________________________________________________________________________________________________\n",
      "upsampling_net3 (Conv2D)        (None, 32, 32, 64)   36928       up_sampling2d_15[0][0]           \n",
      "__________________________________________________________________________________________________\n",
      "spatial_dropout2d_15 (SpatialDr (None, 32, 32, 64)   0           upsampling_net3[0][0]            \n",
      "__________________________________________________________________________________________________\n",
      "concatenate3 (Concatenate)      (None, 32, 32, 128)  0           add_32[0][0]                     \n",
      "                                                                 spatial_dropout2d_15[0][0]       \n",
      "__________________________________________________________________________________________________\n",
      "up_sampling2d_16 (UpSampling2D) (None, 64, 64, 128)  0           concatenate3[0][0]               \n",
      "__________________________________________________________________________________________________\n",
      "upsampling_net2 (Conv2D)        (None, 64, 64, 32)   36896       up_sampling2d_16[0][0]           \n",
      "__________________________________________________________________________________________________\n",
      "spatial_dropout2d_16 (SpatialDr (None, 64, 64, 32)   0           upsampling_net2[0][0]            \n",
      "__________________________________________________________________________________________________\n",
      "concatenate2 (Concatenate)      (None, 64, 64, 64)   0           add_31[0][0]                     \n",
      "                                                                 spatial_dropout2d_16[0][0]       \n",
      "__________________________________________________________________________________________________\n",
      "up_sampling2d_17 (UpSampling2D) (None, 128, 128, 64) 0           concatenate2[0][0]               \n",
      "__________________________________________________________________________________________________\n",
      "upsampling_net1 (Conv2D)        (None, 128, 128, 16) 9232        up_sampling2d_17[0][0]           \n",
      "__________________________________________________________________________________________________\n",
      "spatial_dropout2d_17 (SpatialDr (None, 128, 128, 16) 0           upsampling_net1[0][0]            \n",
      "__________________________________________________________________________________________________\n",
      "concatenate1 (Concatenate)      (None, 128, 128, 32) 0           add_30[0][0]                     \n",
      "                                                                 spatial_dropout2d_17[0][0]       \n",
      "__________________________________________________________________________________________________\n",
      "output (Conv2D)                 (None, 128, 128, 2)  66          concatenate1[0][0]               \n",
      "__________________________________________________________________________________________________\n",
      "dirichlet_layer_5 (DirichletLay (None, 128, 128, 2)  0           output[0][0]                     \n",
      "==================================================================================================\n",
      "Total params: 392,930\n",
      "Trainable params: 392,930\n",
      "Non-trainable params: 0\n",
      "__________________________________________________________________________________________________\n",
      "Epoch: 1\n",
      "Anneling Coeficient [1.]\n",
      "K.int_shape(mse) (None, 128, 128, 1)\n",
      "K.int_shape(mask) (None, None, None, 1)\n",
      "K.int_shape(E) (None, 128, 128, 2)\n",
      "K.int_shape(y_truth) (None, None, None, None)\n",
      "K.int_shape(mse) (None, 128, 128, 1)\n",
      "K.int_shape(mask) (None, None, None, 1)\n",
      "K.int_shape(E) (None, 128, 128, 2)\n",
      "K.int_shape(y_truth) (None, None, None, None)\n",
      "155/155 [==============================] - ETA: 0s - loss: 0.2839 - accuracy: 0.3696K.int_shape(mse) (None, 128, 128, 1)\n",
      "K.int_shape(mask) (None, None, None, 1)\n",
      "K.int_shape(E) (None, 128, 128, 2)\n",
      "K.int_shape(y_truth) (None, None, None, None)\n",
      "155/155 [==============================] - 9s 45ms/step - loss: 0.2839 - accuracy: 0.3696 - val_loss: 0.2503 - val_accuracy: 0.3396\n",
      "\n",
      "Epoch 00001: val_loss improved from inf to 0.25027, saving model to D:/Jorge/datasets/deforestation/experiments/MS/exp41/models\\resunet_5.h5\n",
      "New best val loss. Val loss: 0.25027. Early stop count: 0\n",
      "Epoch: 2\n",
      "Anneling Coeficient [0.1]\n",
      "155/155 [==============================] - 7s 42ms/step - loss: 0.2450 - accuracy: 0.3727 - val_loss: 0.2295 - val_accuracy: 0.3244\n",
      "\n",
      "Epoch 00001: val_loss improved from 0.25027 to 0.22955, saving model to D:/Jorge/datasets/deforestation/experiments/MS/exp41/models\\resunet_5.h5\n",
      "New best val loss. Val loss: 0.22955. Early stop count: 0\n",
      "Epoch: 3\n",
      "Anneling Coeficient [0.2]\n",
      "155/155 [==============================] - 7s 43ms/step - loss: 0.2289 - accuracy: 0.3731 - val_loss: 0.2152 - val_accuracy: 0.3046\n",
      "\n",
      "Epoch 00001: val_loss improved from 0.22955 to 0.21516, saving model to D:/Jorge/datasets/deforestation/experiments/MS/exp41/models\\resunet_5.h5\n",
      "New best val loss. Val loss: 0.21516. Early stop count: 0\n",
      "Epoch: 4\n",
      "Anneling Coeficient [0.3]\n",
      "155/155 [==============================] - 7s 43ms/step - loss: 0.2191 - accuracy: 0.4080 - val_loss: 0.2187 - val_accuracy: 0.3332\n",
      "\n",
      "Epoch 00001: val_loss did not improve from 0.21516\n",
      "Early stop count: 1\n",
      "Epoch: 5\n",
      "Anneling Coeficient [0.4]\n",
      "155/155 [==============================] - 7s 44ms/step - loss: 0.2123 - accuracy: 0.4244 - val_loss: 0.2264 - val_accuracy: 0.3595\n",
      "\n",
      "Epoch 00001: val_loss did not improve from 0.21516\n",
      "Early stop count: 2\n",
      "Epoch: 6\n",
      "Anneling Coeficient [0.5]\n",
      "155/155 [==============================] - 7s 42ms/step - loss: 0.2087 - accuracy: 0.4288 - val_loss: 0.2302 - val_accuracy: 0.3647\n",
      "\n",
      "Epoch 00001: val_loss did not improve from 0.21516\n",
      "Early stop count: 3\n",
      "Epoch: 7\n",
      "Anneling Coeficient [0.6]\n",
      "155/155 [==============================] - 7s 42ms/step - loss: 0.2056 - accuracy: 0.4312 - val_loss: 0.2251 - val_accuracy: 0.3743\n",
      "\n",
      "Epoch 00001: val_loss did not improve from 0.21516\n",
      "Early stop count: 4\n",
      "Epoch: 8\n",
      "Anneling Coeficient [0.7]\n",
      "155/155 [==============================] - 7s 42ms/step - loss: 0.2027 - accuracy: 0.4321 - val_loss: 0.2192 - val_accuracy: 0.3574\n",
      "\n",
      "Epoch 00001: val_loss did not improve from 0.21516\n",
      "Early stop count: 5\n",
      "Epoch: 9\n",
      "Anneling Coeficient [0.8]\n",
      "155/155 [==============================] - 7s 42ms/step - loss: 0.2001 - accuracy: 0.4324 - val_loss: 0.2154 - val_accuracy: 0.3581\n",
      "\n",
      "Epoch 00001: val_loss did not improve from 0.21516\n",
      "Early stop count: 6\n",
      "Epoch: 10\n",
      "Anneling Coeficient [0.9]\n",
      "155/155 [==============================] - 7s 42ms/step - loss: 0.1976 - accuracy: 0.4337 - val_loss: 0.2267 - val_accuracy: 0.3682\n",
      "\n",
      "Epoch 00001: val_loss did not improve from 0.21516\n",
      "Early stop count: 7\n",
      "Epoch: 11\n",
      "Anneling Coeficient [1.]\n",
      "155/155 [==============================] - 7s 43ms/step - loss: 0.1962 - accuracy: 0.4343 - val_loss: 0.2099 - val_accuracy: 0.3536\n",
      "\n",
      "Epoch 00001: val_loss improved from 0.21516 to 0.20988, saving model to D:/Jorge/datasets/deforestation/experiments/MS/exp41/models\\resunet_5.h5\n",
      "New best val loss. Val loss: 0.20988. Early stop count: 0\n",
      "Epoch: 12\n",
      "Anneling Coeficient [1.]\n",
      "155/155 [==============================] - 7s 43ms/step - loss: 0.1941 - accuracy: 0.4350 - val_loss: 0.2043 - val_accuracy: 0.3323\n",
      "\n",
      "Epoch 00001: val_loss improved from 0.20988 to 0.20430, saving model to D:/Jorge/datasets/deforestation/experiments/MS/exp41/models\\resunet_5.h5\n",
      "New best val loss. Val loss: 0.2043. Early stop count: 0\n",
      "Epoch: 13\n",
      "Anneling Coeficient [1.]\n",
      "155/155 [==============================] - 7s 42ms/step - loss: 0.1922 - accuracy: 0.4356 - val_loss: 0.2075 - val_accuracy: 0.3439\n",
      "\n",
      "Epoch 00001: val_loss did not improve from 0.20430\n",
      "Early stop count: 1\n",
      "Epoch: 14\n",
      "Anneling Coeficient [1.]\n",
      "155/155 [==============================] - 7s 42ms/step - loss: 0.1930 - accuracy: 0.4343 - val_loss: 0.2152 - val_accuracy: 0.3648\n",
      "\n",
      "Epoch 00001: val_loss did not improve from 0.20430\n",
      "Early stop count: 2\n",
      "Epoch: 15\n",
      "Anneling Coeficient [1.]\n",
      "155/155 [==============================] - 7s 43ms/step - loss: 0.1904 - accuracy: 0.4360 - val_loss: 0.2170 - val_accuracy: 0.3707\n",
      "\n",
      "Epoch 00001: val_loss did not improve from 0.20430\n",
      "Early stop count: 3\n",
      "Epoch: 16\n",
      "Anneling Coeficient [1.]\n",
      "155/155 [==============================] - 7s 42ms/step - loss: 0.1899 - accuracy: 0.4363 - val_loss: 0.2193 - val_accuracy: 0.3789\n",
      "\n",
      "Epoch 00001: val_loss did not improve from 0.20430\n",
      "Early stop count: 4\n",
      "Epoch: 17\n",
      "Anneling Coeficient [1.]\n",
      "155/155 [==============================] - 7s 43ms/step - loss: 0.1880 - accuracy: 0.4369 - val_loss: 0.2259 - val_accuracy: 0.3597\n",
      "\n",
      "Epoch 00001: val_loss did not improve from 0.20430\n",
      "Early stop count: 5\n",
      "Epoch: 18\n",
      "Anneling Coeficient [1.]\n",
      "155/155 [==============================] - 7s 44ms/step - loss: 0.1882 - accuracy: 0.4364 - val_loss: 0.2166 - val_accuracy: 0.3624\n",
      "\n",
      "Epoch 00001: val_loss did not improve from 0.20430\n",
      "Early stop count: 6\n",
      "Epoch: 19\n",
      "Anneling Coeficient [1.]\n",
      "155/155 [==============================] - 7s 42ms/step - loss: 0.1871 - accuracy: 0.4378 - val_loss: 0.2116 - val_accuracy: 0.3711\n",
      "\n",
      "Epoch 00001: val_loss did not improve from 0.20430\n",
      "Early stop count: 7\n",
      "Epoch: 20\n",
      "Anneling Coeficient [1.]\n",
      "155/155 [==============================] - 7s 42ms/step - loss: 0.1862 - accuracy: 0.4376 - val_loss: 0.2106 - val_accuracy: 0.3560\n",
      "\n",
      "Epoch 00001: val_loss did not improve from 0.20430\n",
      "Early stop count: 8\n",
      "Epoch: 21\n",
      "Anneling Coeficient [1.]\n",
      "155/155 [==============================] - 7s 42ms/step - loss: 0.1863 - accuracy: 0.4370 - val_loss: 0.2050 - val_accuracy: 0.3343\n",
      "\n",
      "Epoch 00001: val_loss did not improve from 0.20430\n",
      "Early stop count: 9\n",
      "Epoch: 22\n",
      "Anneling Coeficient [1.]\n",
      "155/155 [==============================] - 7s 42ms/step - loss: 0.1848 - accuracy: 0.4382 - val_loss: 0.2061 - val_accuracy: 0.3473\n",
      "\n",
      "Epoch 00001: val_loss did not improve from 0.20430\n",
      "Early stop count: 10\n",
      "Early stopping\n",
      "10 10\n",
      "Finished Training\n",
      "Training time:  149.25934028625488\n",
      "time:  6\n",
      "Model: \"model_6\"\n",
      "__________________________________________________________________________________________________\n",
      "Layer (type)                    Output Shape         Param #     Connected to                     \n",
      "==================================================================================================\n",
      "input_enc_net (InputLayer)      [(None, 128, 128, 9) 0                                            \n",
      "__________________________________________________________________________________________________\n",
      "res1_net1 (Conv2D)              (None, 128, 128, 16) 1312        input_enc_net[0][0]              \n",
      "__________________________________________________________________________________________________\n",
      "drop_net1 (SpatialDropout2D)    (None, 128, 128, 16) 0           res1_net1[0][0]                  \n",
      "__________________________________________________________________________________________________\n",
      "res2_net1 (Conv2D)              (None, 128, 128, 16) 2320        drop_net1[0][0]                  \n",
      "__________________________________________________________________________________________________\n",
      "res3_net1 (Conv2D)              (None, 128, 128, 16) 160         input_enc_net[0][0]              \n",
      "__________________________________________________________________________________________________\n",
      "add_36 (Add)                    (None, 128, 128, 16) 0           res2_net1[0][0]                  \n",
      "                                                                 res3_net1[0][0]                  \n",
      "__________________________________________________________________________________________________\n",
      "pool_net1 (MaxPooling2D)        (None, 64, 64, 16)   0           add_36[0][0]                     \n",
      "__________________________________________________________________________________________________\n",
      "res1_net2 (Conv2D)              (None, 64, 64, 32)   4640        pool_net1[0][0]                  \n",
      "__________________________________________________________________________________________________\n",
      "drop_net2 (SpatialDropout2D)    (None, 64, 64, 32)   0           res1_net2[0][0]                  \n",
      "__________________________________________________________________________________________________\n",
      "res2_net2 (Conv2D)              (None, 64, 64, 32)   9248        drop_net2[0][0]                  \n",
      "__________________________________________________________________________________________________\n",
      "res3_net2 (Conv2D)              (None, 64, 64, 32)   544         pool_net1[0][0]                  \n",
      "__________________________________________________________________________________________________\n",
      "add_37 (Add)                    (None, 64, 64, 32)   0           res2_net2[0][0]                  \n",
      "                                                                 res3_net2[0][0]                  \n",
      "__________________________________________________________________________________________________\n",
      "pool_net2 (MaxPooling2D)        (None, 32, 32, 32)   0           add_37[0][0]                     \n",
      "__________________________________________________________________________________________________\n",
      "res1_net3 (Conv2D)              (None, 32, 32, 64)   18496       pool_net2[0][0]                  \n",
      "__________________________________________________________________________________________________\n",
      "drop_net3 (SpatialDropout2D)    (None, 32, 32, 64)   0           res1_net3[0][0]                  \n",
      "__________________________________________________________________________________________________\n",
      "res2_net3 (Conv2D)              (None, 32, 32, 64)   36928       drop_net3[0][0]                  \n",
      "__________________________________________________________________________________________________\n",
      "res3_net3 (Conv2D)              (None, 32, 32, 64)   2112        pool_net2[0][0]                  \n",
      "__________________________________________________________________________________________________\n",
      "add_38 (Add)                    (None, 32, 32, 64)   0           res2_net3[0][0]                  \n",
      "                                                                 res3_net3[0][0]                  \n",
      "__________________________________________________________________________________________________\n",
      "pool_net3 (MaxPooling2D)        (None, 16, 16, 64)   0           add_38[0][0]                     \n",
      "__________________________________________________________________________________________________\n",
      "res1_net4 (Conv2D)              (None, 16, 16, 64)   36928       pool_net3[0][0]                  \n",
      "__________________________________________________________________________________________________\n",
      "drop_net4 (SpatialDropout2D)    (None, 16, 16, 64)   0           res1_net4[0][0]                  \n",
      "__________________________________________________________________________________________________\n",
      "res2_net4 (Conv2D)              (None, 16, 16, 64)   36928       drop_net4[0][0]                  \n",
      "__________________________________________________________________________________________________\n",
      "res3_net4 (Conv2D)              (None, 16, 16, 64)   4160        pool_net3[0][0]                  \n",
      "__________________________________________________________________________________________________\n",
      "add_39 (Add)                    (None, 16, 16, 64)   0           res2_net4[0][0]                  \n",
      "                                                                 res3_net4[0][0]                  \n",
      "__________________________________________________________________________________________________\n",
      "res1_net5 (Conv2D)              (None, 16, 16, 64)   36928       add_39[0][0]                     \n",
      "__________________________________________________________________________________________________\n",
      "drop_net5 (SpatialDropout2D)    (None, 16, 16, 64)   0           res1_net5[0][0]                  \n",
      "__________________________________________________________________________________________________\n",
      "res2_net5 (Conv2D)              (None, 16, 16, 64)   36928       drop_net5[0][0]                  \n",
      "__________________________________________________________________________________________________\n",
      "res3_net5 (Conv2D)              (None, 16, 16, 64)   4160        add_39[0][0]                     \n",
      "__________________________________________________________________________________________________\n",
      "add_40 (Add)                    (None, 16, 16, 64)   0           res2_net5[0][0]                  \n",
      "                                                                 res3_net5[0][0]                  \n",
      "__________________________________________________________________________________________________\n",
      "res1_net6 (Conv2D)              (None, 16, 16, 64)   36928       add_40[0][0]                     \n",
      "__________________________________________________________________________________________________\n",
      "drop_net6 (SpatialDropout2D)    (None, 16, 16, 64)   0           res1_net6[0][0]                  \n",
      "__________________________________________________________________________________________________\n",
      "res2_net6 (Conv2D)              (None, 16, 16, 64)   36928       drop_net6[0][0]                  \n",
      "__________________________________________________________________________________________________\n",
      "res3_net6 (Conv2D)              (None, 16, 16, 64)   4160        add_40[0][0]                     \n",
      "__________________________________________________________________________________________________\n",
      "add_41 (Add)                    (None, 16, 16, 64)   0           res2_net6[0][0]                  \n",
      "                                                                 res3_net6[0][0]                  \n",
      "__________________________________________________________________________________________________\n",
      "up_sampling2d_18 (UpSampling2D) (None, 32, 32, 64)   0           add_41[0][0]                     \n",
      "__________________________________________________________________________________________________\n",
      "upsampling_net3 (Conv2D)        (None, 32, 32, 64)   36928       up_sampling2d_18[0][0]           \n",
      "__________________________________________________________________________________________________\n",
      "spatial_dropout2d_18 (SpatialDr (None, 32, 32, 64)   0           upsampling_net3[0][0]            \n",
      "__________________________________________________________________________________________________\n",
      "concatenate3 (Concatenate)      (None, 32, 32, 128)  0           add_38[0][0]                     \n",
      "                                                                 spatial_dropout2d_18[0][0]       \n",
      "__________________________________________________________________________________________________\n",
      "up_sampling2d_19 (UpSampling2D) (None, 64, 64, 128)  0           concatenate3[0][0]               \n",
      "__________________________________________________________________________________________________\n",
      "upsampling_net2 (Conv2D)        (None, 64, 64, 32)   36896       up_sampling2d_19[0][0]           \n",
      "__________________________________________________________________________________________________\n",
      "spatial_dropout2d_19 (SpatialDr (None, 64, 64, 32)   0           upsampling_net2[0][0]            \n",
      "__________________________________________________________________________________________________\n",
      "concatenate2 (Concatenate)      (None, 64, 64, 64)   0           add_37[0][0]                     \n",
      "                                                                 spatial_dropout2d_19[0][0]       \n",
      "__________________________________________________________________________________________________\n",
      "up_sampling2d_20 (UpSampling2D) (None, 128, 128, 64) 0           concatenate2[0][0]               \n",
      "__________________________________________________________________________________________________\n",
      "upsampling_net1 (Conv2D)        (None, 128, 128, 16) 9232        up_sampling2d_20[0][0]           \n",
      "__________________________________________________________________________________________________\n",
      "spatial_dropout2d_20 (SpatialDr (None, 128, 128, 16) 0           upsampling_net1[0][0]            \n",
      "__________________________________________________________________________________________________\n",
      "concatenate1 (Concatenate)      (None, 128, 128, 32) 0           add_36[0][0]                     \n",
      "                                                                 spatial_dropout2d_20[0][0]       \n",
      "__________________________________________________________________________________________________\n",
      "output (Conv2D)                 (None, 128, 128, 2)  66          concatenate1[0][0]               \n",
      "__________________________________________________________________________________________________\n",
      "dirichlet_layer_6 (DirichletLay (None, 128, 128, 2)  0           output[0][0]                     \n",
      "==================================================================================================\n",
      "Total params: 392,930\n",
      "Trainable params: 392,930\n",
      "Non-trainable params: 0\n",
      "__________________________________________________________________________________________________\n",
      "Epoch: 1\n",
      "Anneling Coeficient [1.]\n",
      "K.int_shape(mse) (None, 128, 128, 1)\n",
      "K.int_shape(mask) (None, None, None, 1)\n",
      "K.int_shape(E) (None, 128, 128, 2)\n",
      "K.int_shape(y_truth) (None, None, None, None)\n",
      "K.int_shape(mse) (None, 128, 128, 1)\n",
      "K.int_shape(mask) (None, None, None, 1)\n",
      "K.int_shape(E) (None, 128, 128, 2)\n",
      "K.int_shape(y_truth) (None, None, None, None)\n",
      "155/155 [==============================] - ETA: 0s - loss: 0.2868 - accuracy: 0.3711K.int_shape(mse) (None, 128, 128, 1)\n",
      "K.int_shape(mask) (None, None, None, 1)\n",
      "K.int_shape(E) (None, 128, 128, 2)\n",
      "K.int_shape(y_truth) (None, None, None, None)\n",
      "155/155 [==============================] - 9s 45ms/step - loss: 0.2868 - accuracy: 0.3711 - val_loss: 0.2474 - val_accuracy: 0.3412\n",
      "\n",
      "Epoch 00001: val_loss improved from inf to 0.24735, saving model to D:/Jorge/datasets/deforestation/experiments/MS/exp41/models\\resunet_6.h5\n",
      "New best val loss. Val loss: 0.24735. Early stop count: 0\n",
      "Epoch: 2\n",
      "Anneling Coeficient [0.1]\n",
      "155/155 [==============================] - 7s 43ms/step - loss: 0.2456 - accuracy: 0.3718 - val_loss: 0.2359 - val_accuracy: 0.3427\n",
      "\n",
      "Epoch 00001: val_loss improved from 0.24735 to 0.23585, saving model to D:/Jorge/datasets/deforestation/experiments/MS/exp41/models\\resunet_6.h5\n",
      "New best val loss. Val loss: 0.23585. Early stop count: 0\n",
      "Epoch: 3\n",
      "Anneling Coeficient [0.2]\n",
      "155/155 [==============================] - 7s 42ms/step - loss: 0.2312 - accuracy: 0.3717 - val_loss: 0.2261 - val_accuracy: 0.3512\n",
      "\n",
      "Epoch 00001: val_loss improved from 0.23585 to 0.22609, saving model to D:/Jorge/datasets/deforestation/experiments/MS/exp41/models\\resunet_6.h5\n",
      "New best val loss. Val loss: 0.22609. Early stop count: 0\n",
      "Epoch: 4\n",
      "Anneling Coeficient [0.3]\n",
      "155/155 [==============================] - 7s 42ms/step - loss: 0.2238 - accuracy: 0.3718 - val_loss: 0.2310 - val_accuracy: 0.3363\n",
      "\n",
      "Epoch 00001: val_loss did not improve from 0.22609\n",
      "Early stop count: 1\n",
      "Epoch: 5\n",
      "Anneling Coeficient [0.4]\n",
      "155/155 [==============================] - 7s 43ms/step - loss: 0.2197 - accuracy: 0.3721 - val_loss: 0.2342 - val_accuracy: 0.3308\n",
      "\n",
      "Epoch 00001: val_loss did not improve from 0.22609\n",
      "Early stop count: 2\n",
      "Epoch: 6\n",
      "Anneling Coeficient [0.5]\n",
      "155/155 [==============================] - 7s 43ms/step - loss: 0.2170 - accuracy: 0.3724 - val_loss: 0.2255 - val_accuracy: 0.3395\n",
      "\n",
      "Epoch 00001: val_loss improved from 0.22609 to 0.22553, saving model to D:/Jorge/datasets/deforestation/experiments/MS/exp41/models\\resunet_6.h5\n",
      "New best val loss. Val loss: 0.22553. Early stop count: 0\n",
      "Epoch: 7\n",
      "Anneling Coeficient [0.6]\n",
      "155/155 [==============================] - 7s 44ms/step - loss: 0.2145 - accuracy: 0.3713 - val_loss: 0.2334 - val_accuracy: 0.3237\n",
      "\n",
      "Epoch 00001: val_loss did not improve from 0.22553\n",
      "Early stop count: 1\n",
      "Epoch: 8\n",
      "Anneling Coeficient [0.7]\n",
      "155/155 [==============================] - 7s 44ms/step - loss: 0.2122 - accuracy: 0.3720 - val_loss: 0.2231 - val_accuracy: 0.3028\n",
      "\n",
      "Epoch 00001: val_loss improved from 0.22553 to 0.22313, saving model to D:/Jorge/datasets/deforestation/experiments/MS/exp41/models\\resunet_6.h5\n",
      "New best val loss. Val loss: 0.22313. Early stop count: 0\n",
      "Epoch: 9\n",
      "Anneling Coeficient [0.8]\n",
      "155/155 [==============================] - 7s 43ms/step - loss: 0.2094 - accuracy: 0.3726 - val_loss: 0.2226 - val_accuracy: 0.3173\n",
      "\n",
      "Epoch 00001: val_loss improved from 0.22313 to 0.22259, saving model to D:/Jorge/datasets/deforestation/experiments/MS/exp41/models\\resunet_6.h5\n",
      "New best val loss. Val loss: 0.22259. Early stop count: 0\n",
      "Epoch: 10\n",
      "Anneling Coeficient [0.9]\n",
      "155/155 [==============================] - 7s 43ms/step - loss: 0.2091 - accuracy: 0.3726 - val_loss: 0.2388 - val_accuracy: 0.3423\n",
      "\n",
      "Epoch 00001: val_loss did not improve from 0.22259\n",
      "Early stop count: 1\n",
      "Epoch: 11\n",
      "Anneling Coeficient [1.]\n",
      "155/155 [==============================] - 7s 43ms/step - loss: 0.2048 - accuracy: 0.4014 - val_loss: 0.2341 - val_accuracy: 0.3603\n",
      "\n",
      "Epoch 00001: val_loss did not improve from 0.22259\n",
      "Early stop count: 2\n",
      "Epoch: 12\n",
      "Anneling Coeficient [1.]\n",
      "155/155 [==============================] - 7s 43ms/step - loss: 0.1996 - accuracy: 0.4232 - val_loss: 0.2226 - val_accuracy: 0.3708\n",
      "\n",
      "Epoch 00001: val_loss improved from 0.22259 to 0.22258, saving model to D:/Jorge/datasets/deforestation/experiments/MS/exp41/models\\resunet_6.h5\n",
      "New best val loss. Val loss: 0.22258. Early stop count: 0\n",
      "Epoch: 13\n",
      "Anneling Coeficient [1.]\n",
      "155/155 [==============================] - 7s 43ms/step - loss: 0.1980 - accuracy: 0.4321 - val_loss: 0.2204 - val_accuracy: 0.3591\n",
      "\n",
      "Epoch 00001: val_loss improved from 0.22258 to 0.22035, saving model to D:/Jorge/datasets/deforestation/experiments/MS/exp41/models\\resunet_6.h5\n",
      "New best val loss. Val loss: 0.22035. Early stop count: 0\n",
      "Epoch: 14\n",
      "Anneling Coeficient [1.]\n",
      "155/155 [==============================] - 7s 43ms/step - loss: 0.1947 - accuracy: 0.4344 - val_loss: 0.2284 - val_accuracy: 0.3574\n",
      "\n",
      "Epoch 00001: val_loss did not improve from 0.22035\n",
      "Early stop count: 1\n",
      "Epoch: 15\n",
      "Anneling Coeficient [1.]\n",
      "155/155 [==============================] - 7s 44ms/step - loss: 0.1937 - accuracy: 0.4345 - val_loss: 0.2385 - val_accuracy: 0.3673\n",
      "\n",
      "Epoch 00001: val_loss did not improve from 0.22035\n",
      "Early stop count: 2\n",
      "Epoch: 16\n",
      "Anneling Coeficient [1.]\n",
      "155/155 [==============================] - 7s 43ms/step - loss: 0.1924 - accuracy: 0.4363 - val_loss: 0.2239 - val_accuracy: 0.3529\n",
      "\n",
      "Epoch 00001: val_loss did not improve from 0.22035\n",
      "Early stop count: 3\n",
      "Epoch: 17\n",
      "Anneling Coeficient [1.]\n",
      "155/155 [==============================] - 7s 43ms/step - loss: 0.1911 - accuracy: 0.4364 - val_loss: 0.2089 - val_accuracy: 0.3326\n",
      "\n",
      "Epoch 00001: val_loss improved from 0.22035 to 0.20894, saving model to D:/Jorge/datasets/deforestation/experiments/MS/exp41/models\\resunet_6.h5\n",
      "New best val loss. Val loss: 0.20894. Early stop count: 0\n",
      "Epoch: 18\n",
      "Anneling Coeficient [1.]\n",
      "155/155 [==============================] - 7s 43ms/step - loss: 0.1896 - accuracy: 0.4378 - val_loss: 0.2118 - val_accuracy: 0.3442\n",
      "\n",
      "Epoch 00001: val_loss did not improve from 0.20894\n",
      "Early stop count: 1\n",
      "Epoch: 19\n",
      "Anneling Coeficient [1.]\n",
      "155/155 [==============================] - 7s 44ms/step - loss: 0.1896 - accuracy: 0.4376 - val_loss: 0.2242 - val_accuracy: 0.3651\n",
      "\n",
      "Epoch 00001: val_loss did not improve from 0.20894\n",
      "Early stop count: 2\n",
      "Epoch: 20\n",
      "Anneling Coeficient [1.]\n",
      "155/155 [==============================] - 7s 44ms/step - loss: 0.1880 - accuracy: 0.4377 - val_loss: 0.2199 - val_accuracy: 0.3700\n",
      "\n",
      "Epoch 00001: val_loss did not improve from 0.20894\n",
      "Early stop count: 3\n",
      "Epoch: 21\n",
      "Anneling Coeficient [1.]\n",
      "155/155 [==============================] - 7s 44ms/step - loss: 0.1873 - accuracy: 0.4373 - val_loss: 0.2279 - val_accuracy: 0.3774\n",
      "\n",
      "Epoch 00001: val_loss did not improve from 0.20894\n",
      "Early stop count: 4\n",
      "Epoch: 22\n",
      "Anneling Coeficient [1.]\n",
      "155/155 [==============================] - 7s 44ms/step - loss: 0.1868 - accuracy: 0.4386 - val_loss: 0.2258 - val_accuracy: 0.3625\n",
      "\n",
      "Epoch 00001: val_loss did not improve from 0.20894\n",
      "Early stop count: 5\n",
      "Epoch: 23\n",
      "Anneling Coeficient [1.]\n",
      "155/155 [==============================] - 7s 44ms/step - loss: 0.1861 - accuracy: 0.4379 - val_loss: 0.2171 - val_accuracy: 0.3617\n",
      "\n",
      "Epoch 00001: val_loss did not improve from 0.20894\n",
      "Early stop count: 6\n",
      "Epoch: 24\n",
      "Anneling Coeficient [1.]\n",
      "155/155 [==============================] - 7s 43ms/step - loss: 0.1851 - accuracy: 0.4388 - val_loss: 0.2238 - val_accuracy: 0.3703\n",
      "\n",
      "Epoch 00001: val_loss did not improve from 0.20894\n",
      "Early stop count: 7\n",
      "Epoch: 25\n",
      "Anneling Coeficient [1.]\n",
      "155/155 [==============================] - 7s 43ms/step - loss: 0.1851 - accuracy: 0.4387 - val_loss: 0.2245 - val_accuracy: 0.3546\n",
      "\n",
      "Epoch 00001: val_loss did not improve from 0.20894\n",
      "Early stop count: 8\n",
      "Epoch: 26\n",
      "Anneling Coeficient [1.]\n",
      "155/155 [==============================] - 7s 44ms/step - loss: 0.1837 - accuracy: 0.4394 - val_loss: 0.2068 - val_accuracy: 0.3339\n",
      "\n",
      "Epoch 00001: val_loss improved from 0.20894 to 0.20684, saving model to D:/Jorge/datasets/deforestation/experiments/MS/exp41/models\\resunet_6.h5\n",
      "New best val loss. Val loss: 0.20684. Early stop count: 0\n",
      "Epoch: 27\n",
      "Anneling Coeficient [1.]\n",
      "155/155 [==============================] - 7s 43ms/step - loss: 0.1840 - accuracy: 0.4392 - val_loss: 0.2057 - val_accuracy: 0.3459\n",
      "\n",
      "Epoch 00001: val_loss improved from 0.20684 to 0.20569, saving model to D:/Jorge/datasets/deforestation/experiments/MS/exp41/models\\resunet_6.h5\n",
      "New best val loss. Val loss: 0.20569. Early stop count: 0\n",
      "Epoch: 28\n",
      "Anneling Coeficient [1.]\n",
      "155/155 [==============================] - 7s 43ms/step - loss: 0.1827 - accuracy: 0.4397 - val_loss: 0.2350 - val_accuracy: 0.3658\n",
      "\n",
      "Epoch 00001: val_loss did not improve from 0.20569\n",
      "Early stop count: 1\n",
      "Epoch: 29\n",
      "Anneling Coeficient [1.]\n",
      "155/155 [==============================] - 7s 43ms/step - loss: 0.1822 - accuracy: 0.4398 - val_loss: 0.2384 - val_accuracy: 0.3713\n",
      "\n",
      "Epoch 00001: val_loss did not improve from 0.20569\n",
      "Early stop count: 2\n",
      "Epoch: 30\n",
      "Anneling Coeficient [1.]\n",
      "155/155 [==============================] - 7s 43ms/step - loss: 0.1821 - accuracy: 0.4390 - val_loss: 0.2450 - val_accuracy: 0.3780\n",
      "\n",
      "Epoch 00001: val_loss did not improve from 0.20569\n",
      "Early stop count: 3\n",
      "Epoch: 31\n",
      "Anneling Coeficient [1.]\n",
      "155/155 [==============================] - 7s 43ms/step - loss: 0.1823 - accuracy: 0.4394 - val_loss: 0.2338 - val_accuracy: 0.3638\n",
      "\n",
      "Epoch 00001: val_loss did not improve from 0.20569\n",
      "Early stop count: 4\n",
      "Epoch: 32\n",
      "Anneling Coeficient [1.]\n",
      "155/155 [==============================] - 7s 43ms/step - loss: 0.1811 - accuracy: 0.4399 - val_loss: 0.2333 - val_accuracy: 0.3623\n",
      "\n",
      "Epoch 00001: val_loss did not improve from 0.20569\n",
      "Early stop count: 5\n",
      "Epoch: 33\n",
      "Anneling Coeficient [1.]\n",
      "155/155 [==============================] - 7s 43ms/step - loss: 0.1812 - accuracy: 0.4398 - val_loss: 0.2362 - val_accuracy: 0.3706\n",
      "\n",
      "Epoch 00001: val_loss did not improve from 0.20569\n",
      "Early stop count: 6\n",
      "Epoch: 34\n",
      "Anneling Coeficient [1.]\n",
      "155/155 [==============================] - 7s 43ms/step - loss: 0.1803 - accuracy: 0.4405 - val_loss: 0.2400 - val_accuracy: 0.3551\n",
      "\n",
      "Epoch 00001: val_loss did not improve from 0.20569\n",
      "Early stop count: 7\n",
      "Epoch: 35\n",
      "Anneling Coeficient [1.]\n",
      "155/155 [==============================] - 7s 44ms/step - loss: 0.1801 - accuracy: 0.4402 - val_loss: 0.2219 - val_accuracy: 0.3352\n",
      "\n",
      "Epoch 00001: val_loss did not improve from 0.20569\n",
      "Early stop count: 8\n",
      "Epoch: 36\n",
      "Anneling Coeficient [1.]\n",
      "155/155 [==============================] - 7s 43ms/step - loss: 0.1792 - accuracy: 0.4407 - val_loss: 0.2339 - val_accuracy: 0.3467\n",
      "\n",
      "Epoch 00001: val_loss did not improve from 0.20569\n",
      "Early stop count: 9\n",
      "Epoch: 37\n",
      "Anneling Coeficient [1.]\n",
      "155/155 [==============================] - 7s 45ms/step - loss: 0.1794 - accuracy: 0.4409 - val_loss: 0.2469 - val_accuracy: 0.3669\n",
      "\n",
      "Epoch 00001: val_loss did not improve from 0.20569\n",
      "Early stop count: 10\n",
      "Early stopping\n",
      "10 10\n",
      "Finished Training\n",
      "Training time:  254.00348496437073\n",
      "time:  7\n",
      "Model: \"model_7\"\n",
      "__________________________________________________________________________________________________\n",
      "Layer (type)                    Output Shape         Param #     Connected to                     \n",
      "==================================================================================================\n",
      "input_enc_net (InputLayer)      [(None, 128, 128, 9) 0                                            \n",
      "__________________________________________________________________________________________________\n",
      "res1_net1 (Conv2D)              (None, 128, 128, 16) 1312        input_enc_net[0][0]              \n",
      "__________________________________________________________________________________________________\n",
      "drop_net1 (SpatialDropout2D)    (None, 128, 128, 16) 0           res1_net1[0][0]                  \n",
      "__________________________________________________________________________________________________\n",
      "res2_net1 (Conv2D)              (None, 128, 128, 16) 2320        drop_net1[0][0]                  \n",
      "__________________________________________________________________________________________________\n",
      "res3_net1 (Conv2D)              (None, 128, 128, 16) 160         input_enc_net[0][0]              \n",
      "__________________________________________________________________________________________________\n",
      "add_42 (Add)                    (None, 128, 128, 16) 0           res2_net1[0][0]                  \n",
      "                                                                 res3_net1[0][0]                  \n",
      "__________________________________________________________________________________________________\n",
      "pool_net1 (MaxPooling2D)        (None, 64, 64, 16)   0           add_42[0][0]                     \n",
      "__________________________________________________________________________________________________\n",
      "res1_net2 (Conv2D)              (None, 64, 64, 32)   4640        pool_net1[0][0]                  \n",
      "__________________________________________________________________________________________________\n",
      "drop_net2 (SpatialDropout2D)    (None, 64, 64, 32)   0           res1_net2[0][0]                  \n",
      "__________________________________________________________________________________________________\n",
      "res2_net2 (Conv2D)              (None, 64, 64, 32)   9248        drop_net2[0][0]                  \n",
      "__________________________________________________________________________________________________\n",
      "res3_net2 (Conv2D)              (None, 64, 64, 32)   544         pool_net1[0][0]                  \n",
      "__________________________________________________________________________________________________\n",
      "add_43 (Add)                    (None, 64, 64, 32)   0           res2_net2[0][0]                  \n",
      "                                                                 res3_net2[0][0]                  \n",
      "__________________________________________________________________________________________________\n",
      "pool_net2 (MaxPooling2D)        (None, 32, 32, 32)   0           add_43[0][0]                     \n",
      "__________________________________________________________________________________________________\n",
      "res1_net3 (Conv2D)              (None, 32, 32, 64)   18496       pool_net2[0][0]                  \n",
      "__________________________________________________________________________________________________\n",
      "drop_net3 (SpatialDropout2D)    (None, 32, 32, 64)   0           res1_net3[0][0]                  \n",
      "__________________________________________________________________________________________________\n",
      "res2_net3 (Conv2D)              (None, 32, 32, 64)   36928       drop_net3[0][0]                  \n",
      "__________________________________________________________________________________________________\n",
      "res3_net3 (Conv2D)              (None, 32, 32, 64)   2112        pool_net2[0][0]                  \n",
      "__________________________________________________________________________________________________\n",
      "add_44 (Add)                    (None, 32, 32, 64)   0           res2_net3[0][0]                  \n",
      "                                                                 res3_net3[0][0]                  \n",
      "__________________________________________________________________________________________________\n",
      "pool_net3 (MaxPooling2D)        (None, 16, 16, 64)   0           add_44[0][0]                     \n",
      "__________________________________________________________________________________________________\n",
      "res1_net4 (Conv2D)              (None, 16, 16, 64)   36928       pool_net3[0][0]                  \n",
      "__________________________________________________________________________________________________\n",
      "drop_net4 (SpatialDropout2D)    (None, 16, 16, 64)   0           res1_net4[0][0]                  \n",
      "__________________________________________________________________________________________________\n",
      "res2_net4 (Conv2D)              (None, 16, 16, 64)   36928       drop_net4[0][0]                  \n",
      "__________________________________________________________________________________________________\n",
      "res3_net4 (Conv2D)              (None, 16, 16, 64)   4160        pool_net3[0][0]                  \n",
      "__________________________________________________________________________________________________\n",
      "add_45 (Add)                    (None, 16, 16, 64)   0           res2_net4[0][0]                  \n",
      "                                                                 res3_net4[0][0]                  \n",
      "__________________________________________________________________________________________________\n",
      "res1_net5 (Conv2D)              (None, 16, 16, 64)   36928       add_45[0][0]                     \n",
      "__________________________________________________________________________________________________\n",
      "drop_net5 (SpatialDropout2D)    (None, 16, 16, 64)   0           res1_net5[0][0]                  \n",
      "__________________________________________________________________________________________________\n",
      "res2_net5 (Conv2D)              (None, 16, 16, 64)   36928       drop_net5[0][0]                  \n",
      "__________________________________________________________________________________________________\n",
      "res3_net5 (Conv2D)              (None, 16, 16, 64)   4160        add_45[0][0]                     \n",
      "__________________________________________________________________________________________________\n",
      "add_46 (Add)                    (None, 16, 16, 64)   0           res2_net5[0][0]                  \n",
      "                                                                 res3_net5[0][0]                  \n",
      "__________________________________________________________________________________________________\n",
      "res1_net6 (Conv2D)              (None, 16, 16, 64)   36928       add_46[0][0]                     \n",
      "__________________________________________________________________________________________________\n",
      "drop_net6 (SpatialDropout2D)    (None, 16, 16, 64)   0           res1_net6[0][0]                  \n",
      "__________________________________________________________________________________________________\n",
      "res2_net6 (Conv2D)              (None, 16, 16, 64)   36928       drop_net6[0][0]                  \n",
      "__________________________________________________________________________________________________\n",
      "res3_net6 (Conv2D)              (None, 16, 16, 64)   4160        add_46[0][0]                     \n",
      "__________________________________________________________________________________________________\n",
      "add_47 (Add)                    (None, 16, 16, 64)   0           res2_net6[0][0]                  \n",
      "                                                                 res3_net6[0][0]                  \n",
      "__________________________________________________________________________________________________\n",
      "up_sampling2d_21 (UpSampling2D) (None, 32, 32, 64)   0           add_47[0][0]                     \n",
      "__________________________________________________________________________________________________\n",
      "upsampling_net3 (Conv2D)        (None, 32, 32, 64)   36928       up_sampling2d_21[0][0]           \n",
      "__________________________________________________________________________________________________\n",
      "spatial_dropout2d_21 (SpatialDr (None, 32, 32, 64)   0           upsampling_net3[0][0]            \n",
      "__________________________________________________________________________________________________\n",
      "concatenate3 (Concatenate)      (None, 32, 32, 128)  0           add_44[0][0]                     \n",
      "                                                                 spatial_dropout2d_21[0][0]       \n",
      "__________________________________________________________________________________________________\n",
      "up_sampling2d_22 (UpSampling2D) (None, 64, 64, 128)  0           concatenate3[0][0]               \n",
      "__________________________________________________________________________________________________\n",
      "upsampling_net2 (Conv2D)        (None, 64, 64, 32)   36896       up_sampling2d_22[0][0]           \n",
      "__________________________________________________________________________________________________\n",
      "spatial_dropout2d_22 (SpatialDr (None, 64, 64, 32)   0           upsampling_net2[0][0]            \n",
      "__________________________________________________________________________________________________\n",
      "concatenate2 (Concatenate)      (None, 64, 64, 64)   0           add_43[0][0]                     \n",
      "                                                                 spatial_dropout2d_22[0][0]       \n",
      "__________________________________________________________________________________________________\n",
      "up_sampling2d_23 (UpSampling2D) (None, 128, 128, 64) 0           concatenate2[0][0]               \n",
      "__________________________________________________________________________________________________\n",
      "upsampling_net1 (Conv2D)        (None, 128, 128, 16) 9232        up_sampling2d_23[0][0]           \n",
      "__________________________________________________________________________________________________\n",
      "spatial_dropout2d_23 (SpatialDr (None, 128, 128, 16) 0           upsampling_net1[0][0]            \n",
      "__________________________________________________________________________________________________\n",
      "concatenate1 (Concatenate)      (None, 128, 128, 32) 0           add_42[0][0]                     \n",
      "                                                                 spatial_dropout2d_23[0][0]       \n",
      "__________________________________________________________________________________________________\n",
      "output (Conv2D)                 (None, 128, 128, 2)  66          concatenate1[0][0]               \n",
      "__________________________________________________________________________________________________\n",
      "dirichlet_layer_7 (DirichletLay (None, 128, 128, 2)  0           output[0][0]                     \n",
      "==================================================================================================\n",
      "Total params: 392,930\n",
      "Trainable params: 392,930\n",
      "Non-trainable params: 0\n",
      "__________________________________________________________________________________________________\n",
      "Epoch: 1\n",
      "Anneling Coeficient [1.]\n",
      "K.int_shape(mse) (None, 128, 128, 1)\n",
      "K.int_shape(mask) (None, None, None, 1)\n",
      "K.int_shape(E) (None, 128, 128, 2)\n",
      "K.int_shape(y_truth) (None, None, None, None)\n",
      "K.int_shape(mse) (None, 128, 128, 1)\n",
      "K.int_shape(mask) (None, None, None, 1)\n",
      "K.int_shape(E) (None, 128, 128, 2)\n",
      "K.int_shape(y_truth) (None, None, None, None)\n",
      "154/155 [============================>.] - ETA: 0s - loss: 0.2749 - accuracy: 0.3708K.int_shape(mse) (None, 128, 128, 1)\n",
      "K.int_shape(mask) (None, None, None, 1)\n",
      "K.int_shape(E) (None, 128, 128, 2)\n",
      "K.int_shape(y_truth) (None, None, None, None)\n",
      "155/155 [==============================] - 9s 46ms/step - loss: 0.2747 - accuracy: 0.3709 - val_loss: 0.2406 - val_accuracy: 0.3434\n",
      "\n",
      "Epoch 00001: val_loss improved from inf to 0.24064, saving model to D:/Jorge/datasets/deforestation/experiments/MS/exp41/models\\resunet_7.h5\n",
      "New best val loss. Val loss: 0.24064. Early stop count: 0\n",
      "Epoch: 2\n",
      "Anneling Coeficient [0.1]\n",
      "155/155 [==============================] - 7s 44ms/step - loss: 0.2380 - accuracy: 0.3721 - val_loss: 0.2202 - val_accuracy: 0.3511\n",
      "\n",
      "Epoch 00001: val_loss improved from 0.24064 to 0.22023, saving model to D:/Jorge/datasets/deforestation/experiments/MS/exp41/models\\resunet_7.h5\n",
      "New best val loss. Val loss: 0.22023. Early stop count: 0\n",
      "Epoch: 3\n",
      "Anneling Coeficient [0.2]\n",
      "155/155 [==============================] - 7s 43ms/step - loss: 0.2258 - accuracy: 0.3723 - val_loss: 0.2161 - val_accuracy: 0.3363\n",
      "\n",
      "Epoch 00001: val_loss improved from 0.22023 to 0.21607, saving model to D:/Jorge/datasets/deforestation/experiments/MS/exp41/models\\resunet_7.h5\n",
      "New best val loss. Val loss: 0.21607. Early stop count: 0\n",
      "Epoch: 4\n",
      "Anneling Coeficient [0.3]\n",
      "155/155 [==============================] - 7s 44ms/step - loss: 0.2198 - accuracy: 0.3718 - val_loss: 0.2182 - val_accuracy: 0.3309\n",
      "\n",
      "Epoch 00001: val_loss did not improve from 0.21607\n",
      "Early stop count: 1\n",
      "Epoch: 5\n",
      "Anneling Coeficient [0.4]\n",
      "155/155 [==============================] - 7s 43ms/step - loss: 0.2153 - accuracy: 0.3721 - val_loss: 0.2192 - val_accuracy: 0.3397\n",
      "\n",
      "Epoch 00001: val_loss did not improve from 0.21607\n",
      "Early stop count: 2\n",
      "Epoch: 6\n",
      "Anneling Coeficient [0.5]\n",
      "155/155 [==============================] - 7s 44ms/step - loss: 0.2104 - accuracy: 0.4008 - val_loss: 0.2162 - val_accuracy: 0.3438\n",
      "\n",
      "Epoch 00001: val_loss did not improve from 0.21607\n",
      "Early stop count: 3\n",
      "Epoch: 7\n",
      "Anneling Coeficient [0.6]\n",
      "155/155 [==============================] - 7s 43ms/step - loss: 0.2031 - accuracy: 0.4288 - val_loss: 0.2040 - val_accuracy: 0.3281\n",
      "\n",
      "Epoch 00001: val_loss improved from 0.21607 to 0.20402, saving model to D:/Jorge/datasets/deforestation/experiments/MS/exp41/models\\resunet_7.h5\n",
      "New best val loss. Val loss: 0.20402. Early stop count: 0\n",
      "Epoch: 8\n",
      "Anneling Coeficient [0.7]\n",
      "155/155 [==============================] - 7s 44ms/step - loss: 0.2002 - accuracy: 0.4313 - val_loss: 0.2084 - val_accuracy: 0.3387\n",
      "\n",
      "Epoch 00001: val_loss did not improve from 0.20402\n",
      "Early stop count: 1\n",
      "Epoch: 9\n",
      "Anneling Coeficient [0.8]\n",
      "155/155 [==============================] - 7s 43ms/step - loss: 0.1971 - accuracy: 0.4340 - val_loss: 0.2244 - val_accuracy: 0.3615\n",
      "\n",
      "Epoch 00001: val_loss did not improve from 0.20402\n",
      "Early stop count: 2\n",
      "Epoch: 10\n",
      "Anneling Coeficient [0.9]\n",
      "155/155 [==============================] - 7s 43ms/step - loss: 0.1946 - accuracy: 0.4351 - val_loss: 0.2141 - val_accuracy: 0.3703\n",
      "\n",
      "Epoch 00001: val_loss did not improve from 0.20402\n",
      "Early stop count: 3\n",
      "Epoch: 11\n",
      "Anneling Coeficient [1.]\n",
      "155/155 [==============================] - 7s 43ms/step - loss: 0.1934 - accuracy: 0.4353 - val_loss: 0.2111 - val_accuracy: 0.3742\n",
      "\n",
      "Epoch 00001: val_loss did not improve from 0.20402\n",
      "Early stop count: 4\n",
      "Epoch: 12\n",
      "Anneling Coeficient [1.]\n",
      "155/155 [==============================] - 7s 43ms/step - loss: 0.1919 - accuracy: 0.4366 - val_loss: 0.2185 - val_accuracy: 0.3626\n",
      "\n",
      "Epoch 00001: val_loss did not improve from 0.20402\n",
      "Early stop count: 5\n",
      "Epoch: 13\n",
      "Anneling Coeficient [1.]\n",
      "155/155 [==============================] - 7s 43ms/step - loss: 0.1908 - accuracy: 0.4361 - val_loss: 0.2120 - val_accuracy: 0.3609\n",
      "\n",
      "Epoch 00001: val_loss did not improve from 0.20402\n",
      "Early stop count: 6\n",
      "Epoch: 14\n",
      "Anneling Coeficient [1.]\n",
      "155/155 [==============================] - 7s 43ms/step - loss: 0.1892 - accuracy: 0.4373 - val_loss: 0.2158 - val_accuracy: 0.3674\n",
      "\n",
      "Epoch 00001: val_loss did not improve from 0.20402\n",
      "Early stop count: 7\n",
      "Epoch: 15\n",
      "Anneling Coeficient [1.]\n",
      "155/155 [==============================] - 7s 43ms/step - loss: 0.1886 - accuracy: 0.4371 - val_loss: 0.2089 - val_accuracy: 0.3531\n",
      "\n",
      "Epoch 00001: val_loss did not improve from 0.20402\n",
      "Early stop count: 8\n",
      "Epoch: 16\n",
      "Anneling Coeficient [1.]\n",
      "155/155 [==============================] - 7s 44ms/step - loss: 0.1880 - accuracy: 0.4373 - val_loss: 0.2128 - val_accuracy: 0.3350\n",
      "\n",
      "Epoch 00001: val_loss did not improve from 0.20402\n",
      "Early stop count: 9\n",
      "Epoch: 17\n",
      "Anneling Coeficient [1.]\n",
      "155/155 [==============================] - 7s 44ms/step - loss: 0.1869 - accuracy: 0.4379 - val_loss: 0.2050 - val_accuracy: 0.3486\n",
      "\n",
      "Epoch 00001: val_loss did not improve from 0.20402\n",
      "Early stop count: 10\n",
      "Early stopping\n",
      "10 10\n",
      "Finished Training\n",
      "Training time:  118.56069707870483\n",
      "time:  8\n",
      "Model: \"model_8\"\n",
      "__________________________________________________________________________________________________\n",
      "Layer (type)                    Output Shape         Param #     Connected to                     \n",
      "==================================================================================================\n",
      "input_enc_net (InputLayer)      [(None, 128, 128, 9) 0                                            \n",
      "__________________________________________________________________________________________________\n",
      "res1_net1 (Conv2D)              (None, 128, 128, 16) 1312        input_enc_net[0][0]              \n",
      "__________________________________________________________________________________________________\n",
      "drop_net1 (SpatialDropout2D)    (None, 128, 128, 16) 0           res1_net1[0][0]                  \n",
      "__________________________________________________________________________________________________\n",
      "res2_net1 (Conv2D)              (None, 128, 128, 16) 2320        drop_net1[0][0]                  \n",
      "__________________________________________________________________________________________________\n",
      "res3_net1 (Conv2D)              (None, 128, 128, 16) 160         input_enc_net[0][0]              \n",
      "__________________________________________________________________________________________________\n",
      "add_48 (Add)                    (None, 128, 128, 16) 0           res2_net1[0][0]                  \n",
      "                                                                 res3_net1[0][0]                  \n",
      "__________________________________________________________________________________________________\n",
      "pool_net1 (MaxPooling2D)        (None, 64, 64, 16)   0           add_48[0][0]                     \n",
      "__________________________________________________________________________________________________\n",
      "res1_net2 (Conv2D)              (None, 64, 64, 32)   4640        pool_net1[0][0]                  \n",
      "__________________________________________________________________________________________________\n",
      "drop_net2 (SpatialDropout2D)    (None, 64, 64, 32)   0           res1_net2[0][0]                  \n",
      "__________________________________________________________________________________________________\n",
      "res2_net2 (Conv2D)              (None, 64, 64, 32)   9248        drop_net2[0][0]                  \n",
      "__________________________________________________________________________________________________\n",
      "res3_net2 (Conv2D)              (None, 64, 64, 32)   544         pool_net1[0][0]                  \n",
      "__________________________________________________________________________________________________\n",
      "add_49 (Add)                    (None, 64, 64, 32)   0           res2_net2[0][0]                  \n",
      "                                                                 res3_net2[0][0]                  \n",
      "__________________________________________________________________________________________________\n",
      "pool_net2 (MaxPooling2D)        (None, 32, 32, 32)   0           add_49[0][0]                     \n",
      "__________________________________________________________________________________________________\n",
      "res1_net3 (Conv2D)              (None, 32, 32, 64)   18496       pool_net2[0][0]                  \n",
      "__________________________________________________________________________________________________\n",
      "drop_net3 (SpatialDropout2D)    (None, 32, 32, 64)   0           res1_net3[0][0]                  \n",
      "__________________________________________________________________________________________________\n",
      "res2_net3 (Conv2D)              (None, 32, 32, 64)   36928       drop_net3[0][0]                  \n",
      "__________________________________________________________________________________________________\n",
      "res3_net3 (Conv2D)              (None, 32, 32, 64)   2112        pool_net2[0][0]                  \n",
      "__________________________________________________________________________________________________\n",
      "add_50 (Add)                    (None, 32, 32, 64)   0           res2_net3[0][0]                  \n",
      "                                                                 res3_net3[0][0]                  \n",
      "__________________________________________________________________________________________________\n",
      "pool_net3 (MaxPooling2D)        (None, 16, 16, 64)   0           add_50[0][0]                     \n",
      "__________________________________________________________________________________________________\n",
      "res1_net4 (Conv2D)              (None, 16, 16, 64)   36928       pool_net3[0][0]                  \n",
      "__________________________________________________________________________________________________\n",
      "drop_net4 (SpatialDropout2D)    (None, 16, 16, 64)   0           res1_net4[0][0]                  \n",
      "__________________________________________________________________________________________________\n",
      "res2_net4 (Conv2D)              (None, 16, 16, 64)   36928       drop_net4[0][0]                  \n",
      "__________________________________________________________________________________________________\n",
      "res3_net4 (Conv2D)              (None, 16, 16, 64)   4160        pool_net3[0][0]                  \n",
      "__________________________________________________________________________________________________\n",
      "add_51 (Add)                    (None, 16, 16, 64)   0           res2_net4[0][0]                  \n",
      "                                                                 res3_net4[0][0]                  \n",
      "__________________________________________________________________________________________________\n",
      "res1_net5 (Conv2D)              (None, 16, 16, 64)   36928       add_51[0][0]                     \n",
      "__________________________________________________________________________________________________\n",
      "drop_net5 (SpatialDropout2D)    (None, 16, 16, 64)   0           res1_net5[0][0]                  \n",
      "__________________________________________________________________________________________________\n",
      "res2_net5 (Conv2D)              (None, 16, 16, 64)   36928       drop_net5[0][0]                  \n",
      "__________________________________________________________________________________________________\n",
      "res3_net5 (Conv2D)              (None, 16, 16, 64)   4160        add_51[0][0]                     \n",
      "__________________________________________________________________________________________________\n",
      "add_52 (Add)                    (None, 16, 16, 64)   0           res2_net5[0][0]                  \n",
      "                                                                 res3_net5[0][0]                  \n",
      "__________________________________________________________________________________________________\n",
      "res1_net6 (Conv2D)              (None, 16, 16, 64)   36928       add_52[0][0]                     \n",
      "__________________________________________________________________________________________________\n",
      "drop_net6 (SpatialDropout2D)    (None, 16, 16, 64)   0           res1_net6[0][0]                  \n",
      "__________________________________________________________________________________________________\n",
      "res2_net6 (Conv2D)              (None, 16, 16, 64)   36928       drop_net6[0][0]                  \n",
      "__________________________________________________________________________________________________\n",
      "res3_net6 (Conv2D)              (None, 16, 16, 64)   4160        add_52[0][0]                     \n",
      "__________________________________________________________________________________________________\n",
      "add_53 (Add)                    (None, 16, 16, 64)   0           res2_net6[0][0]                  \n",
      "                                                                 res3_net6[0][0]                  \n",
      "__________________________________________________________________________________________________\n",
      "up_sampling2d_24 (UpSampling2D) (None, 32, 32, 64)   0           add_53[0][0]                     \n",
      "__________________________________________________________________________________________________\n",
      "upsampling_net3 (Conv2D)        (None, 32, 32, 64)   36928       up_sampling2d_24[0][0]           \n",
      "__________________________________________________________________________________________________\n",
      "spatial_dropout2d_24 (SpatialDr (None, 32, 32, 64)   0           upsampling_net3[0][0]            \n",
      "__________________________________________________________________________________________________\n",
      "concatenate3 (Concatenate)      (None, 32, 32, 128)  0           add_50[0][0]                     \n",
      "                                                                 spatial_dropout2d_24[0][0]       \n",
      "__________________________________________________________________________________________________\n",
      "up_sampling2d_25 (UpSampling2D) (None, 64, 64, 128)  0           concatenate3[0][0]               \n",
      "__________________________________________________________________________________________________\n",
      "upsampling_net2 (Conv2D)        (None, 64, 64, 32)   36896       up_sampling2d_25[0][0]           \n",
      "__________________________________________________________________________________________________\n",
      "spatial_dropout2d_25 (SpatialDr (None, 64, 64, 32)   0           upsampling_net2[0][0]            \n",
      "__________________________________________________________________________________________________\n",
      "concatenate2 (Concatenate)      (None, 64, 64, 64)   0           add_49[0][0]                     \n",
      "                                                                 spatial_dropout2d_25[0][0]       \n",
      "__________________________________________________________________________________________________\n",
      "up_sampling2d_26 (UpSampling2D) (None, 128, 128, 64) 0           concatenate2[0][0]               \n",
      "__________________________________________________________________________________________________\n",
      "upsampling_net1 (Conv2D)        (None, 128, 128, 16) 9232        up_sampling2d_26[0][0]           \n",
      "__________________________________________________________________________________________________\n",
      "spatial_dropout2d_26 (SpatialDr (None, 128, 128, 16) 0           upsampling_net1[0][0]            \n",
      "__________________________________________________________________________________________________\n",
      "concatenate1 (Concatenate)      (None, 128, 128, 32) 0           add_48[0][0]                     \n",
      "                                                                 spatial_dropout2d_26[0][0]       \n",
      "__________________________________________________________________________________________________\n",
      "output (Conv2D)                 (None, 128, 128, 2)  66          concatenate1[0][0]               \n",
      "__________________________________________________________________________________________________\n",
      "dirichlet_layer_8 (DirichletLay (None, 128, 128, 2)  0           output[0][0]                     \n",
      "==================================================================================================\n",
      "Total params: 392,930\n",
      "Trainable params: 392,930\n",
      "Non-trainable params: 0\n",
      "__________________________________________________________________________________________________\n",
      "Epoch: 1\n",
      "Anneling Coeficient [1.]\n",
      "K.int_shape(mse) (None, 128, 128, 1)\n",
      "K.int_shape(mask) (None, None, None, 1)\n",
      "K.int_shape(E) (None, 128, 128, 2)\n",
      "K.int_shape(y_truth) (None, None, None, None)\n",
      "K.int_shape(mse) (None, 128, 128, 1)\n",
      "K.int_shape(mask) (None, None, None, 1)\n",
      "K.int_shape(E) (None, 128, 128, 2)\n",
      "K.int_shape(y_truth) (None, None, None, None)\n",
      "154/155 [============================>.] - ETA: 0s - loss: 0.2873 - accuracy: 0.3939K.int_shape(mse) (None, 128, 128, 1)\n",
      "K.int_shape(mask) (None, None, None, 1)\n",
      "K.int_shape(E) (None, 128, 128, 2)\n",
      "K.int_shape(y_truth) (None, None, None, None)\n",
      "155/155 [==============================] - 9s 47ms/step - loss: 0.2871 - accuracy: 0.3941 - val_loss: 0.2428 - val_accuracy: 0.3634\n",
      "\n",
      "Epoch 00001: val_loss improved from inf to 0.24281, saving model to D:/Jorge/datasets/deforestation/experiments/MS/exp41/models\\resunet_8.h5\n",
      "New best val loss. Val loss: 0.24281. Early stop count: 0\n",
      "Epoch: 2\n",
      "Anneling Coeficient [0.1]\n",
      "155/155 [==============================] - 7s 45ms/step - loss: 0.2391 - accuracy: 0.4291 - val_loss: 0.2288 - val_accuracy: 0.3695\n",
      "\n",
      "Epoch 00001: val_loss improved from 0.24281 to 0.22877, saving model to D:/Jorge/datasets/deforestation/experiments/MS/exp41/models\\resunet_8.h5\n",
      "New best val loss. Val loss: 0.22877. Early stop count: 0\n",
      "Epoch: 3\n",
      "Anneling Coeficient [0.2]\n",
      "155/155 [==============================] - 7s 43ms/step - loss: 0.2209 - accuracy: 0.4323 - val_loss: 0.2203 - val_accuracy: 0.3790\n",
      "\n",
      "Epoch 00001: val_loss improved from 0.22877 to 0.22033, saving model to D:/Jorge/datasets/deforestation/experiments/MS/exp41/models\\resunet_8.h5\n",
      "New best val loss. Val loss: 0.22033. Early stop count: 0\n",
      "Epoch: 4\n",
      "Anneling Coeficient [0.3]\n",
      "155/155 [==============================] - 7s 44ms/step - loss: 0.2134 - accuracy: 0.4333 - val_loss: 0.2180 - val_accuracy: 0.3635\n",
      "\n",
      "Epoch 00001: val_loss improved from 0.22033 to 0.21796, saving model to D:/Jorge/datasets/deforestation/experiments/MS/exp41/models\\resunet_8.h5\n",
      "New best val loss. Val loss: 0.21796. Early stop count: 0\n",
      "Epoch: 5\n",
      "Anneling Coeficient [0.4]\n",
      "155/155 [==============================] - 7s 43ms/step - loss: 0.2093 - accuracy: 0.4332 - val_loss: 0.2191 - val_accuracy: 0.3628\n",
      "\n",
      "Epoch 00001: val_loss did not improve from 0.21796\n",
      "Early stop count: 1\n",
      "Epoch: 6\n",
      "Anneling Coeficient [0.5]\n",
      "155/155 [==============================] - 7s 43ms/step - loss: 0.2069 - accuracy: 0.4341 - val_loss: 0.2220 - val_accuracy: 0.3731\n",
      "\n",
      "Epoch 00001: val_loss did not improve from 0.21796\n",
      "Early stop count: 2\n",
      "Epoch: 7\n",
      "Anneling Coeficient [0.6]\n",
      "155/155 [==============================] - 7s 43ms/step - loss: 0.2036 - accuracy: 0.4351 - val_loss: 0.2139 - val_accuracy: 0.3584\n",
      "\n",
      "Epoch 00001: val_loss improved from 0.21796 to 0.21390, saving model to D:/Jorge/datasets/deforestation/experiments/MS/exp41/models\\resunet_8.h5\n",
      "New best val loss. Val loss: 0.2139. Early stop count: 0\n",
      "Epoch: 8\n",
      "Anneling Coeficient [0.7]\n",
      "155/155 [==============================] - 7s 43ms/step - loss: 0.2015 - accuracy: 0.4354 - val_loss: 0.2097 - val_accuracy: 0.3386\n",
      "\n",
      "Epoch 00001: val_loss improved from 0.21390 to 0.20969, saving model to D:/Jorge/datasets/deforestation/experiments/MS/exp41/models\\resunet_8.h5\n",
      "New best val loss. Val loss: 0.20969. Early stop count: 0\n",
      "Epoch: 9\n",
      "Anneling Coeficient [0.8]\n",
      "155/155 [==============================] - 7s 43ms/step - loss: 0.1992 - accuracy: 0.4356 - val_loss: 0.2123 - val_accuracy: 0.3496\n",
      "\n",
      "Epoch 00001: val_loss did not improve from 0.20969\n",
      "Early stop count: 1\n",
      "Epoch: 10\n",
      "Anneling Coeficient [0.9]\n",
      "155/155 [==============================] - 7s 43ms/step - loss: 0.1978 - accuracy: 0.4355 - val_loss: 0.2170 - val_accuracy: 0.3721\n",
      "\n",
      "Epoch 00001: val_loss did not improve from 0.20969\n",
      "Early stop count: 2\n",
      "Epoch: 11\n",
      "Anneling Coeficient [1.]\n",
      "155/155 [==============================] - 7s 43ms/step - loss: 0.1959 - accuracy: 0.4360 - val_loss: 0.2214 - val_accuracy: 0.3772\n",
      "\n",
      "Epoch 00001: val_loss did not improve from 0.20969\n",
      "Early stop count: 3\n",
      "Epoch: 12\n",
      "Anneling Coeficient [1.]\n",
      "155/155 [==============================] - 7s 43ms/step - loss: 0.1944 - accuracy: 0.4367 - val_loss: 0.2301 - val_accuracy: 0.3850\n",
      "\n",
      "Epoch 00001: val_loss did not improve from 0.20969\n",
      "Early stop count: 4\n",
      "Epoch: 13\n",
      "Anneling Coeficient [1.]\n",
      "155/155 [==============================] - 7s 43ms/step - loss: 0.1930 - accuracy: 0.4372 - val_loss: 0.2183 - val_accuracy: 0.3684\n",
      "\n",
      "Epoch 00001: val_loss did not improve from 0.20969\n",
      "Early stop count: 5\n",
      "Epoch: 14\n",
      "Anneling Coeficient [1.]\n",
      "155/155 [==============================] - 7s 43ms/step - loss: 0.1935 - accuracy: 0.4366 - val_loss: 0.2175 - val_accuracy: 0.3689\n",
      "\n",
      "Epoch 00001: val_loss did not improve from 0.20969\n",
      "Early stop count: 6\n",
      "Epoch: 15\n",
      "Anneling Coeficient [1.]\n",
      "155/155 [==============================] - 7s 43ms/step - loss: 0.1905 - accuracy: 0.4381 - val_loss: 0.2149 - val_accuracy: 0.3740\n",
      "\n",
      "Epoch 00001: val_loss did not improve from 0.20969\n",
      "Early stop count: 7\n",
      "Epoch: 16\n",
      "Anneling Coeficient [1.]\n",
      "155/155 [==============================] - 7s 44ms/step - loss: 0.1897 - accuracy: 0.4389 - val_loss: 0.2095 - val_accuracy: 0.3606\n",
      "\n",
      "Epoch 00001: val_loss improved from 0.20969 to 0.20953, saving model to D:/Jorge/datasets/deforestation/experiments/MS/exp41/models\\resunet_8.h5\n",
      "New best val loss. Val loss: 0.20953. Early stop count: 0\n",
      "Epoch: 17\n",
      "Anneling Coeficient [1.]\n",
      "155/155 [==============================] - 7s 43ms/step - loss: 0.1896 - accuracy: 0.4383 - val_loss: 0.2052 - val_accuracy: 0.3414\n",
      "\n",
      "Epoch 00001: val_loss improved from 0.20953 to 0.20517, saving model to D:/Jorge/datasets/deforestation/experiments/MS/exp41/models\\resunet_8.h5\n",
      "New best val loss. Val loss: 0.20517. Early stop count: 0\n",
      "Epoch: 18\n",
      "Anneling Coeficient [1.]\n",
      "155/155 [==============================] - 7s 44ms/step - loss: 0.1882 - accuracy: 0.4388 - val_loss: 0.2026 - val_accuracy: 0.3525\n",
      "\n",
      "Epoch 00001: val_loss improved from 0.20517 to 0.20260, saving model to D:/Jorge/datasets/deforestation/experiments/MS/exp41/models\\resunet_8.h5\n",
      "New best val loss. Val loss: 0.2026. Early stop count: 0\n",
      "Epoch: 19\n",
      "Anneling Coeficient [1.]\n",
      "155/155 [==============================] - 7s 43ms/step - loss: 0.1872 - accuracy: 0.4392 - val_loss: 0.2174 - val_accuracy: 0.3743\n",
      "\n",
      "Epoch 00001: val_loss did not improve from 0.20260\n",
      "Early stop count: 1\n",
      "Epoch: 20\n",
      "Anneling Coeficient [1.]\n",
      "155/155 [==============================] - 7s 44ms/step - loss: 0.1863 - accuracy: 0.4392 - val_loss: 0.2173 - val_accuracy: 0.3801\n",
      "\n",
      "Epoch 00001: val_loss did not improve from 0.20260\n",
      "Early stop count: 2\n",
      "Epoch: 21\n",
      "Anneling Coeficient [1.]\n",
      "155/155 [==============================] - 7s 44ms/step - loss: 0.1860 - accuracy: 0.4399 - val_loss: 0.2142 - val_accuracy: 0.3864\n",
      "\n",
      "Epoch 00001: val_loss did not improve from 0.20260\n",
      "Early stop count: 3\n",
      "Epoch: 22\n",
      "Anneling Coeficient [1.]\n",
      "155/155 [==============================] - 7s 43ms/step - loss: 0.1854 - accuracy: 0.4404 - val_loss: 0.2104 - val_accuracy: 0.3716\n",
      "\n",
      "Epoch 00001: val_loss did not improve from 0.20260\n",
      "Early stop count: 4\n",
      "Epoch: 23\n",
      "Anneling Coeficient [1.]\n",
      "155/155 [==============================] - 7s 44ms/step - loss: 0.1847 - accuracy: 0.4401 - val_loss: 0.2060 - val_accuracy: 0.3701\n",
      "\n",
      "Epoch 00001: val_loss did not improve from 0.20260\n",
      "Early stop count: 5\n",
      "Epoch: 24\n",
      "Anneling Coeficient [1.]\n",
      "155/155 [==============================] - 7s 44ms/step - loss: 0.1837 - accuracy: 0.4399 - val_loss: 0.2162 - val_accuracy: 0.3778\n",
      "\n",
      "Epoch 00001: val_loss did not improve from 0.20260\n",
      "Early stop count: 6\n",
      "Epoch: 25\n",
      "Anneling Coeficient [1.]\n",
      "155/155 [==============================] - 7s 43ms/step - loss: 0.1844 - accuracy: 0.4402 - val_loss: 0.2152 - val_accuracy: 0.3625\n",
      "\n",
      "Epoch 00001: val_loss did not improve from 0.20260\n",
      "Early stop count: 7\n",
      "Epoch: 26\n",
      "Anneling Coeficient [1.]\n",
      "155/155 [==============================] - 7s 43ms/step - loss: 0.1833 - accuracy: 0.4401 - val_loss: 0.2034 - val_accuracy: 0.3426\n",
      "\n",
      "Epoch 00001: val_loss did not improve from 0.20260\n",
      "Early stop count: 8\n",
      "Epoch: 27\n",
      "Anneling Coeficient [1.]\n",
      "155/155 [==============================] - 7s 44ms/step - loss: 0.1827 - accuracy: 0.4406 - val_loss: 0.2076 - val_accuracy: 0.3544\n",
      "\n",
      "Epoch 00001: val_loss did not improve from 0.20260\n",
      "Early stop count: 9\n",
      "Epoch: 28\n",
      "Anneling Coeficient [1.]\n",
      "155/155 [==============================] - 7s 43ms/step - loss: 0.1821 - accuracy: 0.4408 - val_loss: 0.2158 - val_accuracy: 0.3757\n",
      "\n",
      "Epoch 00001: val_loss did not improve from 0.20260\n",
      "Early stop count: 10\n",
      "Early stopping\n",
      "10 10\n",
      "Finished Training\n",
      "Training time:  192.83492350578308\n",
      "time:  9\n",
      "Model: \"model_9\"\n",
      "__________________________________________________________________________________________________\n",
      "Layer (type)                    Output Shape         Param #     Connected to                     \n",
      "==================================================================================================\n",
      "input_enc_net (InputLayer)      [(None, 128, 128, 9) 0                                            \n",
      "__________________________________________________________________________________________________\n",
      "res1_net1 (Conv2D)              (None, 128, 128, 16) 1312        input_enc_net[0][0]              \n",
      "__________________________________________________________________________________________________\n",
      "drop_net1 (SpatialDropout2D)    (None, 128, 128, 16) 0           res1_net1[0][0]                  \n",
      "__________________________________________________________________________________________________\n",
      "res2_net1 (Conv2D)              (None, 128, 128, 16) 2320        drop_net1[0][0]                  \n",
      "__________________________________________________________________________________________________\n",
      "res3_net1 (Conv2D)              (None, 128, 128, 16) 160         input_enc_net[0][0]              \n",
      "__________________________________________________________________________________________________\n",
      "add_54 (Add)                    (None, 128, 128, 16) 0           res2_net1[0][0]                  \n",
      "                                                                 res3_net1[0][0]                  \n",
      "__________________________________________________________________________________________________\n",
      "pool_net1 (MaxPooling2D)        (None, 64, 64, 16)   0           add_54[0][0]                     \n",
      "__________________________________________________________________________________________________\n",
      "res1_net2 (Conv2D)              (None, 64, 64, 32)   4640        pool_net1[0][0]                  \n",
      "__________________________________________________________________________________________________\n",
      "drop_net2 (SpatialDropout2D)    (None, 64, 64, 32)   0           res1_net2[0][0]                  \n",
      "__________________________________________________________________________________________________\n",
      "res2_net2 (Conv2D)              (None, 64, 64, 32)   9248        drop_net2[0][0]                  \n",
      "__________________________________________________________________________________________________\n",
      "res3_net2 (Conv2D)              (None, 64, 64, 32)   544         pool_net1[0][0]                  \n",
      "__________________________________________________________________________________________________\n",
      "add_55 (Add)                    (None, 64, 64, 32)   0           res2_net2[0][0]                  \n",
      "                                                                 res3_net2[0][0]                  \n",
      "__________________________________________________________________________________________________\n",
      "pool_net2 (MaxPooling2D)        (None, 32, 32, 32)   0           add_55[0][0]                     \n",
      "__________________________________________________________________________________________________\n",
      "res1_net3 (Conv2D)              (None, 32, 32, 64)   18496       pool_net2[0][0]                  \n",
      "__________________________________________________________________________________________________\n",
      "drop_net3 (SpatialDropout2D)    (None, 32, 32, 64)   0           res1_net3[0][0]                  \n",
      "__________________________________________________________________________________________________\n",
      "res2_net3 (Conv2D)              (None, 32, 32, 64)   36928       drop_net3[0][0]                  \n",
      "__________________________________________________________________________________________________\n",
      "res3_net3 (Conv2D)              (None, 32, 32, 64)   2112        pool_net2[0][0]                  \n",
      "__________________________________________________________________________________________________\n",
      "add_56 (Add)                    (None, 32, 32, 64)   0           res2_net3[0][0]                  \n",
      "                                                                 res3_net3[0][0]                  \n",
      "__________________________________________________________________________________________________\n",
      "pool_net3 (MaxPooling2D)        (None, 16, 16, 64)   0           add_56[0][0]                     \n",
      "__________________________________________________________________________________________________\n",
      "res1_net4 (Conv2D)              (None, 16, 16, 64)   36928       pool_net3[0][0]                  \n",
      "__________________________________________________________________________________________________\n",
      "drop_net4 (SpatialDropout2D)    (None, 16, 16, 64)   0           res1_net4[0][0]                  \n",
      "__________________________________________________________________________________________________\n",
      "res2_net4 (Conv2D)              (None, 16, 16, 64)   36928       drop_net4[0][0]                  \n",
      "__________________________________________________________________________________________________\n",
      "res3_net4 (Conv2D)              (None, 16, 16, 64)   4160        pool_net3[0][0]                  \n",
      "__________________________________________________________________________________________________\n",
      "add_57 (Add)                    (None, 16, 16, 64)   0           res2_net4[0][0]                  \n",
      "                                                                 res3_net4[0][0]                  \n",
      "__________________________________________________________________________________________________\n",
      "res1_net5 (Conv2D)              (None, 16, 16, 64)   36928       add_57[0][0]                     \n",
      "__________________________________________________________________________________________________\n",
      "drop_net5 (SpatialDropout2D)    (None, 16, 16, 64)   0           res1_net5[0][0]                  \n",
      "__________________________________________________________________________________________________\n",
      "res2_net5 (Conv2D)              (None, 16, 16, 64)   36928       drop_net5[0][0]                  \n",
      "__________________________________________________________________________________________________\n",
      "res3_net5 (Conv2D)              (None, 16, 16, 64)   4160        add_57[0][0]                     \n",
      "__________________________________________________________________________________________________\n",
      "add_58 (Add)                    (None, 16, 16, 64)   0           res2_net5[0][0]                  \n",
      "                                                                 res3_net5[0][0]                  \n",
      "__________________________________________________________________________________________________\n",
      "res1_net6 (Conv2D)              (None, 16, 16, 64)   36928       add_58[0][0]                     \n",
      "__________________________________________________________________________________________________\n",
      "drop_net6 (SpatialDropout2D)    (None, 16, 16, 64)   0           res1_net6[0][0]                  \n",
      "__________________________________________________________________________________________________\n",
      "res2_net6 (Conv2D)              (None, 16, 16, 64)   36928       drop_net6[0][0]                  \n",
      "__________________________________________________________________________________________________\n",
      "res3_net6 (Conv2D)              (None, 16, 16, 64)   4160        add_58[0][0]                     \n",
      "__________________________________________________________________________________________________\n",
      "add_59 (Add)                    (None, 16, 16, 64)   0           res2_net6[0][0]                  \n",
      "                                                                 res3_net6[0][0]                  \n",
      "__________________________________________________________________________________________________\n",
      "up_sampling2d_27 (UpSampling2D) (None, 32, 32, 64)   0           add_59[0][0]                     \n",
      "__________________________________________________________________________________________________\n",
      "upsampling_net3 (Conv2D)        (None, 32, 32, 64)   36928       up_sampling2d_27[0][0]           \n",
      "__________________________________________________________________________________________________\n",
      "spatial_dropout2d_27 (SpatialDr (None, 32, 32, 64)   0           upsampling_net3[0][0]            \n",
      "__________________________________________________________________________________________________\n",
      "concatenate3 (Concatenate)      (None, 32, 32, 128)  0           add_56[0][0]                     \n",
      "                                                                 spatial_dropout2d_27[0][0]       \n",
      "__________________________________________________________________________________________________\n",
      "up_sampling2d_28 (UpSampling2D) (None, 64, 64, 128)  0           concatenate3[0][0]               \n",
      "__________________________________________________________________________________________________\n",
      "upsampling_net2 (Conv2D)        (None, 64, 64, 32)   36896       up_sampling2d_28[0][0]           \n",
      "__________________________________________________________________________________________________\n",
      "spatial_dropout2d_28 (SpatialDr (None, 64, 64, 32)   0           upsampling_net2[0][0]            \n",
      "__________________________________________________________________________________________________\n",
      "concatenate2 (Concatenate)      (None, 64, 64, 64)   0           add_55[0][0]                     \n",
      "                                                                 spatial_dropout2d_28[0][0]       \n",
      "__________________________________________________________________________________________________\n",
      "up_sampling2d_29 (UpSampling2D) (None, 128, 128, 64) 0           concatenate2[0][0]               \n",
      "__________________________________________________________________________________________________\n",
      "upsampling_net1 (Conv2D)        (None, 128, 128, 16) 9232        up_sampling2d_29[0][0]           \n",
      "__________________________________________________________________________________________________\n",
      "spatial_dropout2d_29 (SpatialDr (None, 128, 128, 16) 0           upsampling_net1[0][0]            \n",
      "__________________________________________________________________________________________________\n",
      "concatenate1 (Concatenate)      (None, 128, 128, 32) 0           add_54[0][0]                     \n",
      "                                                                 spatial_dropout2d_29[0][0]       \n",
      "__________________________________________________________________________________________________\n",
      "output (Conv2D)                 (None, 128, 128, 2)  66          concatenate1[0][0]               \n",
      "__________________________________________________________________________________________________\n",
      "dirichlet_layer_9 (DirichletLay (None, 128, 128, 2)  0           output[0][0]                     \n",
      "==================================================================================================\n",
      "Total params: 392,930\n",
      "Trainable params: 392,930\n",
      "Non-trainable params: 0\n",
      "__________________________________________________________________________________________________\n",
      "Epoch: 1\n",
      "Anneling Coeficient [1.]\n",
      "K.int_shape(mse) (None, 128, 128, 1)\n",
      "K.int_shape(mask) (None, None, None, 1)\n",
      "K.int_shape(E) (None, 128, 128, 2)\n",
      "K.int_shape(y_truth) (None, None, None, None)\n",
      "K.int_shape(mse) (None, 128, 128, 1)\n",
      "K.int_shape(mask) (None, None, None, 1)\n",
      "K.int_shape(E) (None, 128, 128, 2)\n",
      "K.int_shape(y_truth) (None, None, None, None)\n",
      "155/155 [==============================] - ETA: 0s - loss: 0.2673 - accuracy: 0.3722K.int_shape(mse) (None, 128, 128, 1)\n",
      "K.int_shape(mask) (None, None, None, 1)\n",
      "K.int_shape(E) (None, 128, 128, 2)\n",
      "K.int_shape(y_truth) (None, None, None, None)\n",
      "155/155 [==============================] - 9s 46ms/step - loss: 0.2673 - accuracy: 0.3722 - val_loss: 0.2405 - val_accuracy: 0.3416\n",
      "\n",
      "Epoch 00001: val_loss improved from inf to 0.24054, saving model to D:/Jorge/datasets/deforestation/experiments/MS/exp41/models\\resunet_9.h5\n",
      "New best val loss. Val loss: 0.24054. Early stop count: 0\n",
      "Epoch: 2\n",
      "Anneling Coeficient [0.1]\n",
      "155/155 [==============================] - 7s 43ms/step - loss: 0.2346 - accuracy: 0.3908 - val_loss: 0.2262 - val_accuracy: 0.3663\n",
      "\n",
      "Epoch 00001: val_loss improved from 0.24054 to 0.22622, saving model to D:/Jorge/datasets/deforestation/experiments/MS/exp41/models\\resunet_9.h5\n",
      "New best val loss. Val loss: 0.22622. Early stop count: 0\n",
      "Epoch: 3\n",
      "Anneling Coeficient [0.2]\n",
      "155/155 [==============================] - 7s 44ms/step - loss: 0.2222 - accuracy: 0.4240 - val_loss: 0.2200 - val_accuracy: 0.3648\n",
      "\n",
      "Epoch 00001: val_loss improved from 0.22622 to 0.21997, saving model to D:/Jorge/datasets/deforestation/experiments/MS/exp41/models\\resunet_9.h5\n",
      "New best val loss. Val loss: 0.21997. Early stop count: 0\n",
      "Epoch: 4\n",
      "Anneling Coeficient [0.3]\n",
      "155/155 [==============================] - 7s 43ms/step - loss: 0.2164 - accuracy: 0.4277 - val_loss: 0.2148 - val_accuracy: 0.3624\n",
      "\n",
      "Epoch 00001: val_loss improved from 0.21997 to 0.21478, saving model to D:/Jorge/datasets/deforestation/experiments/MS/exp41/models\\resunet_9.h5\n",
      "New best val loss. Val loss: 0.21478. Early stop count: 0\n",
      "Epoch: 5\n",
      "Anneling Coeficient [0.4]\n",
      "155/155 [==============================] - 7s 43ms/step - loss: 0.2120 - accuracy: 0.4315 - val_loss: 0.2257 - val_accuracy: 0.3689\n",
      "\n",
      "Epoch 00001: val_loss did not improve from 0.21478\n",
      "Early stop count: 1\n",
      "Epoch: 6\n",
      "Anneling Coeficient [0.5]\n",
      "155/155 [==============================] - 7s 44ms/step - loss: 0.2086 - accuracy: 0.4322 - val_loss: 0.2249 - val_accuracy: 0.3548\n",
      "\n",
      "Epoch 00001: val_loss did not improve from 0.21478\n",
      "Early stop count: 2\n",
      "Epoch: 7\n",
      "Anneling Coeficient [0.6]\n",
      "155/155 [==============================] - 7s 43ms/step - loss: 0.2061 - accuracy: 0.4344 - val_loss: 0.2131 - val_accuracy: 0.3345\n",
      "\n",
      "Epoch 00001: val_loss improved from 0.21478 to 0.21312, saving model to D:/Jorge/datasets/deforestation/experiments/MS/exp41/models\\resunet_9.h5\n",
      "New best val loss. Val loss: 0.21312. Early stop count: 0\n",
      "Epoch: 8\n",
      "Anneling Coeficient [0.7]\n",
      "155/155 [==============================] - 7s 44ms/step - loss: 0.2032 - accuracy: 0.4343 - val_loss: 0.2116 - val_accuracy: 0.3468\n",
      "\n",
      "Epoch 00001: val_loss improved from 0.21312 to 0.21158, saving model to D:/Jorge/datasets/deforestation/experiments/MS/exp41/models\\resunet_9.h5\n",
      "New best val loss. Val loss: 0.21158. Early stop count: 0\n",
      "Epoch: 9\n",
      "Anneling Coeficient [0.8]\n",
      "155/155 [==============================] - 7s 44ms/step - loss: 0.2015 - accuracy: 0.4349 - val_loss: 0.2193 - val_accuracy: 0.3641\n",
      "\n",
      "Epoch 00001: val_loss did not improve from 0.21158\n",
      "Early stop count: 1\n",
      "Epoch: 10\n",
      "Anneling Coeficient [0.9]\n",
      "155/155 [==============================] - 7s 43ms/step - loss: 0.1989 - accuracy: 0.4357 - val_loss: 0.2315 - val_accuracy: 0.3679\n",
      "\n",
      "Epoch 00001: val_loss did not improve from 0.21158\n",
      "Early stop count: 2\n",
      "Epoch: 11\n",
      "Anneling Coeficient [1.]\n",
      "155/155 [==============================] - 7s 43ms/step - loss: 0.1967 - accuracy: 0.4365 - val_loss: 0.2273 - val_accuracy: 0.3747\n",
      "\n",
      "Epoch 00001: val_loss did not improve from 0.21158\n",
      "Early stop count: 3\n",
      "Epoch: 12\n",
      "Anneling Coeficient [1.]\n",
      "155/155 [==============================] - 7s 43ms/step - loss: 0.1950 - accuracy: 0.4370 - val_loss: 0.2303 - val_accuracy: 0.3634\n",
      "\n",
      "Epoch 00001: val_loss did not improve from 0.21158\n",
      "Early stop count: 4\n",
      "Epoch: 13\n",
      "Anneling Coeficient [1.]\n",
      "155/155 [==============================] - 7s 43ms/step - loss: 0.1947 - accuracy: 0.4367 - val_loss: 0.2241 - val_accuracy: 0.3585\n",
      "\n",
      "Epoch 00001: val_loss did not improve from 0.21158\n",
      "Early stop count: 5\n",
      "Epoch: 14\n",
      "Anneling Coeficient [1.]\n",
      "155/155 [==============================] - 7s 43ms/step - loss: 0.1923 - accuracy: 0.4381 - val_loss: 0.2242 - val_accuracy: 0.3711\n",
      "\n",
      "Epoch 00001: val_loss did not improve from 0.21158\n",
      "Early stop count: 6\n",
      "Epoch: 15\n",
      "Anneling Coeficient [1.]\n",
      "155/155 [==============================] - 7s 44ms/step - loss: 0.1914 - accuracy: 0.4382 - val_loss: 0.2140 - val_accuracy: 0.3530\n",
      "\n",
      "Epoch 00001: val_loss did not improve from 0.21158\n",
      "Early stop count: 7\n",
      "Epoch: 16\n",
      "Anneling Coeficient [1.]\n",
      "155/155 [==============================] - 7s 44ms/step - loss: 0.1904 - accuracy: 0.4382 - val_loss: 0.2102 - val_accuracy: 0.3331\n",
      "\n",
      "Epoch 00001: val_loss improved from 0.21158 to 0.21019, saving model to D:/Jorge/datasets/deforestation/experiments/MS/exp41/models\\resunet_9.h5\n",
      "New best val loss. Val loss: 0.21019. Early stop count: 0\n",
      "Epoch: 17\n",
      "Anneling Coeficient [1.]\n",
      "155/155 [==============================] - 7s 43ms/step - loss: 0.1900 - accuracy: 0.4385 - val_loss: 0.2200 - val_accuracy: 0.3476\n",
      "\n",
      "Epoch 00001: val_loss did not improve from 0.21019\n",
      "Early stop count: 1\n",
      "Epoch: 18\n",
      "Anneling Coeficient [1.]\n",
      "155/155 [==============================] - 7s 43ms/step - loss: 0.1881 - accuracy: 0.4386 - val_loss: 0.2239 - val_accuracy: 0.3672\n",
      "\n",
      "Epoch 00001: val_loss did not improve from 0.21019\n",
      "Early stop count: 2\n",
      "Epoch: 19\n",
      "Anneling Coeficient [1.]\n",
      "155/155 [==============================] - 7s 43ms/step - loss: 0.1877 - accuracy: 0.4398 - val_loss: 0.2116 - val_accuracy: 0.3737\n",
      "\n",
      "Epoch 00001: val_loss did not improve from 0.21019\n",
      "Early stop count: 3\n",
      "Epoch: 20\n",
      "Anneling Coeficient [1.]\n",
      "155/155 [==============================] - 7s 43ms/step - loss: 0.1871 - accuracy: 0.4402 - val_loss: 0.2312 - val_accuracy: 0.3782\n",
      "\n",
      "Epoch 00001: val_loss did not improve from 0.21019\n",
      "Early stop count: 4\n",
      "Epoch: 21\n",
      "Anneling Coeficient [1.]\n",
      "155/155 [==============================] - 7s 43ms/step - loss: 0.1870 - accuracy: 0.4395 - val_loss: 0.2168 - val_accuracy: 0.3675\n",
      "\n",
      "Epoch 00001: val_loss did not improve from 0.21019\n",
      "Early stop count: 5\n",
      "Epoch: 22\n",
      "Anneling Coeficient [1.]\n",
      "155/155 [==============================] - 7s 43ms/step - loss: 0.1860 - accuracy: 0.4393 - val_loss: 0.2261 - val_accuracy: 0.3640\n",
      "\n",
      "Epoch 00001: val_loss did not improve from 0.21019\n",
      "Early stop count: 6\n",
      "Epoch: 23\n",
      "Anneling Coeficient [1.]\n",
      "155/155 [==============================] - 7s 43ms/step - loss: 0.1851 - accuracy: 0.4406 - val_loss: 0.2254 - val_accuracy: 0.3727\n",
      "\n",
      "Epoch 00001: val_loss did not improve from 0.21019\n",
      "Early stop count: 7\n",
      "Epoch: 24\n",
      "Anneling Coeficient [1.]\n",
      "155/155 [==============================] - 7s 43ms/step - loss: 0.1845 - accuracy: 0.4406 - val_loss: 0.2276 - val_accuracy: 0.3577\n",
      "\n",
      "Epoch 00001: val_loss did not improve from 0.21019\n",
      "Early stop count: 8\n",
      "Epoch: 25\n",
      "Anneling Coeficient [1.]\n",
      "155/155 [==============================] - 7s 44ms/step - loss: 0.1839 - accuracy: 0.4404 - val_loss: 0.2163 - val_accuracy: 0.3380\n",
      "\n",
      "Epoch 00001: val_loss did not improve from 0.21019\n",
      "Early stop count: 9\n",
      "Epoch: 26\n",
      "Anneling Coeficient [1.]\n",
      "155/155 [==============================] - 7s 43ms/step - loss: 0.1828 - accuracy: 0.4411 - val_loss: 0.2122 - val_accuracy: 0.3504\n",
      "\n",
      "Epoch 00001: val_loss did not improve from 0.21019\n",
      "Early stop count: 10\n",
      "Early stopping\n",
      "10 10\n",
      "Finished Training\n",
      "Training time:  178.97404527664185\n",
      "time:  10\n",
      "Model: \"model_10\"\n",
      "__________________________________________________________________________________________________\n",
      "Layer (type)                    Output Shape         Param #     Connected to                     \n",
      "==================================================================================================\n",
      "input_enc_net (InputLayer)      [(None, 128, 128, 9) 0                                            \n",
      "__________________________________________________________________________________________________\n",
      "res1_net1 (Conv2D)              (None, 128, 128, 16) 1312        input_enc_net[0][0]              \n",
      "__________________________________________________________________________________________________\n",
      "drop_net1 (SpatialDropout2D)    (None, 128, 128, 16) 0           res1_net1[0][0]                  \n",
      "__________________________________________________________________________________________________\n",
      "res2_net1 (Conv2D)              (None, 128, 128, 16) 2320        drop_net1[0][0]                  \n",
      "__________________________________________________________________________________________________\n",
      "res3_net1 (Conv2D)              (None, 128, 128, 16) 160         input_enc_net[0][0]              \n",
      "__________________________________________________________________________________________________\n",
      "add_60 (Add)                    (None, 128, 128, 16) 0           res2_net1[0][0]                  \n",
      "                                                                 res3_net1[0][0]                  \n",
      "__________________________________________________________________________________________________\n",
      "pool_net1 (MaxPooling2D)        (None, 64, 64, 16)   0           add_60[0][0]                     \n",
      "__________________________________________________________________________________________________\n",
      "res1_net2 (Conv2D)              (None, 64, 64, 32)   4640        pool_net1[0][0]                  \n",
      "__________________________________________________________________________________________________\n",
      "drop_net2 (SpatialDropout2D)    (None, 64, 64, 32)   0           res1_net2[0][0]                  \n",
      "__________________________________________________________________________________________________\n",
      "res2_net2 (Conv2D)              (None, 64, 64, 32)   9248        drop_net2[0][0]                  \n",
      "__________________________________________________________________________________________________\n",
      "res3_net2 (Conv2D)              (None, 64, 64, 32)   544         pool_net1[0][0]                  \n",
      "__________________________________________________________________________________________________\n",
      "add_61 (Add)                    (None, 64, 64, 32)   0           res2_net2[0][0]                  \n",
      "                                                                 res3_net2[0][0]                  \n",
      "__________________________________________________________________________________________________\n",
      "pool_net2 (MaxPooling2D)        (None, 32, 32, 32)   0           add_61[0][0]                     \n",
      "__________________________________________________________________________________________________\n",
      "res1_net3 (Conv2D)              (None, 32, 32, 64)   18496       pool_net2[0][0]                  \n",
      "__________________________________________________________________________________________________\n",
      "drop_net3 (SpatialDropout2D)    (None, 32, 32, 64)   0           res1_net3[0][0]                  \n",
      "__________________________________________________________________________________________________\n",
      "res2_net3 (Conv2D)              (None, 32, 32, 64)   36928       drop_net3[0][0]                  \n",
      "__________________________________________________________________________________________________\n",
      "res3_net3 (Conv2D)              (None, 32, 32, 64)   2112        pool_net2[0][0]                  \n",
      "__________________________________________________________________________________________________\n",
      "add_62 (Add)                    (None, 32, 32, 64)   0           res2_net3[0][0]                  \n",
      "                                                                 res3_net3[0][0]                  \n",
      "__________________________________________________________________________________________________\n",
      "pool_net3 (MaxPooling2D)        (None, 16, 16, 64)   0           add_62[0][0]                     \n",
      "__________________________________________________________________________________________________\n",
      "res1_net4 (Conv2D)              (None, 16, 16, 64)   36928       pool_net3[0][0]                  \n",
      "__________________________________________________________________________________________________\n",
      "drop_net4 (SpatialDropout2D)    (None, 16, 16, 64)   0           res1_net4[0][0]                  \n",
      "__________________________________________________________________________________________________\n",
      "res2_net4 (Conv2D)              (None, 16, 16, 64)   36928       drop_net4[0][0]                  \n",
      "__________________________________________________________________________________________________\n",
      "res3_net4 (Conv2D)              (None, 16, 16, 64)   4160        pool_net3[0][0]                  \n",
      "__________________________________________________________________________________________________\n",
      "add_63 (Add)                    (None, 16, 16, 64)   0           res2_net4[0][0]                  \n",
      "                                                                 res3_net4[0][0]                  \n",
      "__________________________________________________________________________________________________\n",
      "res1_net5 (Conv2D)              (None, 16, 16, 64)   36928       add_63[0][0]                     \n",
      "__________________________________________________________________________________________________\n",
      "drop_net5 (SpatialDropout2D)    (None, 16, 16, 64)   0           res1_net5[0][0]                  \n",
      "__________________________________________________________________________________________________\n",
      "res2_net5 (Conv2D)              (None, 16, 16, 64)   36928       drop_net5[0][0]                  \n",
      "__________________________________________________________________________________________________\n",
      "res3_net5 (Conv2D)              (None, 16, 16, 64)   4160        add_63[0][0]                     \n",
      "__________________________________________________________________________________________________\n",
      "add_64 (Add)                    (None, 16, 16, 64)   0           res2_net5[0][0]                  \n",
      "                                                                 res3_net5[0][0]                  \n",
      "__________________________________________________________________________________________________\n",
      "res1_net6 (Conv2D)              (None, 16, 16, 64)   36928       add_64[0][0]                     \n",
      "__________________________________________________________________________________________________\n",
      "drop_net6 (SpatialDropout2D)    (None, 16, 16, 64)   0           res1_net6[0][0]                  \n",
      "__________________________________________________________________________________________________\n",
      "res2_net6 (Conv2D)              (None, 16, 16, 64)   36928       drop_net6[0][0]                  \n",
      "__________________________________________________________________________________________________\n",
      "res3_net6 (Conv2D)              (None, 16, 16, 64)   4160        add_64[0][0]                     \n",
      "__________________________________________________________________________________________________\n",
      "add_65 (Add)                    (None, 16, 16, 64)   0           res2_net6[0][0]                  \n",
      "                                                                 res3_net6[0][0]                  \n",
      "__________________________________________________________________________________________________\n",
      "up_sampling2d_30 (UpSampling2D) (None, 32, 32, 64)   0           add_65[0][0]                     \n",
      "__________________________________________________________________________________________________\n",
      "upsampling_net3 (Conv2D)        (None, 32, 32, 64)   36928       up_sampling2d_30[0][0]           \n",
      "__________________________________________________________________________________________________\n",
      "spatial_dropout2d_30 (SpatialDr (None, 32, 32, 64)   0           upsampling_net3[0][0]            \n",
      "__________________________________________________________________________________________________\n",
      "concatenate3 (Concatenate)      (None, 32, 32, 128)  0           add_62[0][0]                     \n",
      "                                                                 spatial_dropout2d_30[0][0]       \n",
      "__________________________________________________________________________________________________\n",
      "up_sampling2d_31 (UpSampling2D) (None, 64, 64, 128)  0           concatenate3[0][0]               \n",
      "__________________________________________________________________________________________________\n",
      "upsampling_net2 (Conv2D)        (None, 64, 64, 32)   36896       up_sampling2d_31[0][0]           \n",
      "__________________________________________________________________________________________________\n",
      "spatial_dropout2d_31 (SpatialDr (None, 64, 64, 32)   0           upsampling_net2[0][0]            \n",
      "__________________________________________________________________________________________________\n",
      "concatenate2 (Concatenate)      (None, 64, 64, 64)   0           add_61[0][0]                     \n",
      "                                                                 spatial_dropout2d_31[0][0]       \n",
      "__________________________________________________________________________________________________\n",
      "up_sampling2d_32 (UpSampling2D) (None, 128, 128, 64) 0           concatenate2[0][0]               \n",
      "__________________________________________________________________________________________________\n",
      "upsampling_net1 (Conv2D)        (None, 128, 128, 16) 9232        up_sampling2d_32[0][0]           \n",
      "__________________________________________________________________________________________________\n",
      "spatial_dropout2d_32 (SpatialDr (None, 128, 128, 16) 0           upsampling_net1[0][0]            \n",
      "__________________________________________________________________________________________________\n",
      "concatenate1 (Concatenate)      (None, 128, 128, 32) 0           add_60[0][0]                     \n",
      "                                                                 spatial_dropout2d_32[0][0]       \n",
      "__________________________________________________________________________________________________\n",
      "output (Conv2D)                 (None, 128, 128, 2)  66          concatenate1[0][0]               \n",
      "__________________________________________________________________________________________________\n",
      "dirichlet_layer_10 (DirichletLa (None, 128, 128, 2)  0           output[0][0]                     \n",
      "==================================================================================================\n",
      "Total params: 392,930\n",
      "Trainable params: 392,930\n",
      "Non-trainable params: 0\n",
      "__________________________________________________________________________________________________\n",
      "Epoch: 1\n",
      "Anneling Coeficient [1.]\n",
      "K.int_shape(mse) (None, 128, 128, 1)\n",
      "K.int_shape(mask) (None, None, None, 1)\n",
      "K.int_shape(E) (None, 128, 128, 2)\n",
      "K.int_shape(y_truth) (None, None, None, None)\n",
      "K.int_shape(mse) (None, 128, 128, 1)\n",
      "K.int_shape(mask) (None, None, None, 1)\n",
      "K.int_shape(E) (None, 128, 128, 2)\n",
      "K.int_shape(y_truth) (None, None, None, None)\n",
      "155/155 [==============================] - ETA: 0s - loss: 0.2870 - accuracy: 0.3498K.int_shape(mse) (None, 128, 128, 1)\n",
      "K.int_shape(mask) (None, None, None, 1)\n",
      "K.int_shape(E) (None, 128, 128, 2)\n",
      "K.int_shape(y_truth) (None, None, None, None)\n",
      "155/155 [==============================] - 9s 47ms/step - loss: 0.2870 - accuracy: 0.3498 - val_loss: 0.2501 - val_accuracy: 0.3366\n",
      "\n",
      "Epoch 00001: val_loss improved from inf to 0.25007, saving model to D:/Jorge/datasets/deforestation/experiments/MS/exp41/models\\resunet_10.h5\n",
      "New best val loss. Val loss: 0.25007. Early stop count: 0\n",
      "Epoch: 2\n",
      "Anneling Coeficient [0.1]\n",
      "155/155 [==============================] - 7s 43ms/step - loss: 0.2450 - accuracy: 0.3690 - val_loss: 0.2300 - val_accuracy: 0.3431\n",
      "\n",
      "Epoch 00001: val_loss improved from 0.25007 to 0.23000, saving model to D:/Jorge/datasets/deforestation/experiments/MS/exp41/models\\resunet_10.h5\n",
      "New best val loss. Val loss: 0.23. Early stop count: 0\n",
      "Epoch: 3\n",
      "Anneling Coeficient [0.2]\n",
      "155/155 [==============================] - 7s 43ms/step - loss: 0.2297 - accuracy: 0.3727 - val_loss: 0.2228 - val_accuracy: 0.3512\n",
      "\n",
      "Epoch 00001: val_loss improved from 0.23000 to 0.22280, saving model to D:/Jorge/datasets/deforestation/experiments/MS/exp41/models\\resunet_10.h5\n",
      "New best val loss. Val loss: 0.2228. Early stop count: 0\n",
      "Epoch: 4\n",
      "Anneling Coeficient [0.3]\n",
      "155/155 [==============================] - 7s 43ms/step - loss: 0.2223 - accuracy: 0.3752 - val_loss: 0.2221 - val_accuracy: 0.3390\n",
      "\n",
      "Epoch 00001: val_loss improved from 0.22280 to 0.22215, saving model to D:/Jorge/datasets/deforestation/experiments/MS/exp41/models\\resunet_10.h5\n",
      "New best val loss. Val loss: 0.22215. Early stop count: 0\n",
      "Epoch: 5\n",
      "Anneling Coeficient [0.4]\n",
      "155/155 [==============================] - 7s 43ms/step - loss: 0.2181 - accuracy: 0.3909 - val_loss: 0.2323 - val_accuracy: 0.3560\n",
      "\n",
      "Epoch 00001: val_loss did not improve from 0.22215\n",
      "Early stop count: 1\n",
      "Epoch: 6\n",
      "Anneling Coeficient [0.5]\n",
      "155/155 [==============================] - 7s 44ms/step - loss: 0.2115 - accuracy: 0.4281 - val_loss: 0.2264 - val_accuracy: 0.3653\n",
      "\n",
      "Epoch 00001: val_loss did not improve from 0.22215\n",
      "Early stop count: 2\n",
      "Epoch: 7\n",
      "Anneling Coeficient [0.6]\n",
      "155/155 [==============================] - 7s 43ms/step - loss: 0.2057 - accuracy: 0.4323 - val_loss: 0.2333 - val_accuracy: 0.3526\n",
      "\n",
      "Epoch 00001: val_loss did not improve from 0.22215\n",
      "Early stop count: 3\n",
      "Epoch: 8\n",
      "Anneling Coeficient [0.7]\n",
      "155/155 [==============================] - 7s 44ms/step - loss: 0.2034 - accuracy: 0.4335 - val_loss: 0.2192 - val_accuracy: 0.3257\n",
      "\n",
      "Epoch 00001: val_loss improved from 0.22215 to 0.21923, saving model to D:/Jorge/datasets/deforestation/experiments/MS/exp41/models\\resunet_10.h5\n",
      "New best val loss. Val loss: 0.21923. Early stop count: 0\n",
      "Epoch: 9\n",
      "Anneling Coeficient [0.8]\n",
      "155/155 [==============================] - 7s 43ms/step - loss: 0.1993 - accuracy: 0.4358 - val_loss: 0.2248 - val_accuracy: 0.3377\n",
      "\n",
      "Epoch 00001: val_loss did not improve from 0.21923\n",
      "Early stop count: 1\n",
      "Epoch: 10\n",
      "Anneling Coeficient [0.9]\n",
      "155/155 [==============================] - 7s 43ms/step - loss: 0.1970 - accuracy: 0.4363 - val_loss: 0.2391 - val_accuracy: 0.3611\n",
      "\n",
      "Epoch 00001: val_loss did not improve from 0.21923\n",
      "Early stop count: 2\n",
      "Epoch: 11\n",
      "Anneling Coeficient [1.]\n",
      "155/155 [==============================] - 7s 43ms/step - loss: 0.1949 - accuracy: 0.4366 - val_loss: 0.2358 - val_accuracy: 0.3646\n",
      "\n",
      "Epoch 00001: val_loss did not improve from 0.21923\n",
      "Early stop count: 3\n",
      "Epoch: 12\n",
      "Anneling Coeficient [1.]\n",
      "155/155 [==============================] - 7s 43ms/step - loss: 0.1929 - accuracy: 0.4375 - val_loss: 0.2447 - val_accuracy: 0.3727\n",
      "\n",
      "Epoch 00001: val_loss did not improve from 0.21923\n",
      "Early stop count: 4\n",
      "Epoch: 13\n",
      "Anneling Coeficient [1.]\n",
      "155/155 [==============================] - 7s 43ms/step - loss: 0.1919 - accuracy: 0.4379 - val_loss: 0.2374 - val_accuracy: 0.3564\n",
      "\n",
      "Epoch 00001: val_loss did not improve from 0.21923\n",
      "Early stop count: 5\n",
      "Epoch: 14\n",
      "Anneling Coeficient [1.]\n",
      "155/155 [==============================] - 7s 43ms/step - loss: 0.1908 - accuracy: 0.4380 - val_loss: 0.2398 - val_accuracy: 0.3582\n",
      "\n",
      "Epoch 00001: val_loss did not improve from 0.21923\n",
      "Early stop count: 6\n",
      "Epoch: 15\n",
      "Anneling Coeficient [1.]\n",
      "155/155 [==============================] - 7s 46ms/step - loss: 0.1895 - accuracy: 0.4390 - val_loss: 0.2413 - val_accuracy: 0.3619\n",
      "\n",
      "Epoch 00001: val_loss did not improve from 0.21923\n",
      "Early stop count: 7\n",
      "Epoch: 16\n",
      "Anneling Coeficient [1.]\n",
      "155/155 [==============================] - 7s 43ms/step - loss: 0.1895 - accuracy: 0.4392 - val_loss: 0.2220 - val_accuracy: 0.3531\n",
      "\n",
      "Epoch 00001: val_loss did not improve from 0.21923\n",
      "Early stop count: 8\n",
      "Epoch: 17\n",
      "Anneling Coeficient [1.]\n",
      "155/155 [==============================] - 7s 43ms/step - loss: 0.1879 - accuracy: 0.4389 - val_loss: 0.2210 - val_accuracy: 0.3307\n",
      "\n",
      "Epoch 00001: val_loss did not improve from 0.21923\n",
      "Early stop count: 9\n",
      "Epoch: 18\n",
      "Anneling Coeficient [1.]\n",
      "155/155 [==============================] - 7s 43ms/step - loss: 0.1873 - accuracy: 0.4395 - val_loss: 0.2215 - val_accuracy: 0.3422\n",
      "\n",
      "Epoch 00001: val_loss did not improve from 0.21923\n",
      "Early stop count: 10\n",
      "Early stopping\n",
      "10 10\n",
      "Finished Training\n",
      "Training time:  124.46670603752136\n",
      "time:  11\n",
      "Model: \"model_11\"\n",
      "__________________________________________________________________________________________________\n",
      "Layer (type)                    Output Shape         Param #     Connected to                     \n",
      "==================================================================================================\n",
      "input_enc_net (InputLayer)      [(None, 128, 128, 9) 0                                            \n",
      "__________________________________________________________________________________________________\n",
      "res1_net1 (Conv2D)              (None, 128, 128, 16) 1312        input_enc_net[0][0]              \n",
      "__________________________________________________________________________________________________\n",
      "drop_net1 (SpatialDropout2D)    (None, 128, 128, 16) 0           res1_net1[0][0]                  \n",
      "__________________________________________________________________________________________________\n",
      "res2_net1 (Conv2D)              (None, 128, 128, 16) 2320        drop_net1[0][0]                  \n",
      "__________________________________________________________________________________________________\n",
      "res3_net1 (Conv2D)              (None, 128, 128, 16) 160         input_enc_net[0][0]              \n",
      "__________________________________________________________________________________________________\n",
      "add_66 (Add)                    (None, 128, 128, 16) 0           res2_net1[0][0]                  \n",
      "                                                                 res3_net1[0][0]                  \n",
      "__________________________________________________________________________________________________\n",
      "pool_net1 (MaxPooling2D)        (None, 64, 64, 16)   0           add_66[0][0]                     \n",
      "__________________________________________________________________________________________________\n",
      "res1_net2 (Conv2D)              (None, 64, 64, 32)   4640        pool_net1[0][0]                  \n",
      "__________________________________________________________________________________________________\n",
      "drop_net2 (SpatialDropout2D)    (None, 64, 64, 32)   0           res1_net2[0][0]                  \n",
      "__________________________________________________________________________________________________\n",
      "res2_net2 (Conv2D)              (None, 64, 64, 32)   9248        drop_net2[0][0]                  \n",
      "__________________________________________________________________________________________________\n",
      "res3_net2 (Conv2D)              (None, 64, 64, 32)   544         pool_net1[0][0]                  \n",
      "__________________________________________________________________________________________________\n",
      "add_67 (Add)                    (None, 64, 64, 32)   0           res2_net2[0][0]                  \n",
      "                                                                 res3_net2[0][0]                  \n",
      "__________________________________________________________________________________________________\n",
      "pool_net2 (MaxPooling2D)        (None, 32, 32, 32)   0           add_67[0][0]                     \n",
      "__________________________________________________________________________________________________\n",
      "res1_net3 (Conv2D)              (None, 32, 32, 64)   18496       pool_net2[0][0]                  \n",
      "__________________________________________________________________________________________________\n",
      "drop_net3 (SpatialDropout2D)    (None, 32, 32, 64)   0           res1_net3[0][0]                  \n",
      "__________________________________________________________________________________________________\n",
      "res2_net3 (Conv2D)              (None, 32, 32, 64)   36928       drop_net3[0][0]                  \n",
      "__________________________________________________________________________________________________\n",
      "res3_net3 (Conv2D)              (None, 32, 32, 64)   2112        pool_net2[0][0]                  \n",
      "__________________________________________________________________________________________________\n",
      "add_68 (Add)                    (None, 32, 32, 64)   0           res2_net3[0][0]                  \n",
      "                                                                 res3_net3[0][0]                  \n",
      "__________________________________________________________________________________________________\n",
      "pool_net3 (MaxPooling2D)        (None, 16, 16, 64)   0           add_68[0][0]                     \n",
      "__________________________________________________________________________________________________\n",
      "res1_net4 (Conv2D)              (None, 16, 16, 64)   36928       pool_net3[0][0]                  \n",
      "__________________________________________________________________________________________________\n",
      "drop_net4 (SpatialDropout2D)    (None, 16, 16, 64)   0           res1_net4[0][0]                  \n",
      "__________________________________________________________________________________________________\n",
      "res2_net4 (Conv2D)              (None, 16, 16, 64)   36928       drop_net4[0][0]                  \n",
      "__________________________________________________________________________________________________\n",
      "res3_net4 (Conv2D)              (None, 16, 16, 64)   4160        pool_net3[0][0]                  \n",
      "__________________________________________________________________________________________________\n",
      "add_69 (Add)                    (None, 16, 16, 64)   0           res2_net4[0][0]                  \n",
      "                                                                 res3_net4[0][0]                  \n",
      "__________________________________________________________________________________________________\n",
      "res1_net5 (Conv2D)              (None, 16, 16, 64)   36928       add_69[0][0]                     \n",
      "__________________________________________________________________________________________________\n",
      "drop_net5 (SpatialDropout2D)    (None, 16, 16, 64)   0           res1_net5[0][0]                  \n",
      "__________________________________________________________________________________________________\n",
      "res2_net5 (Conv2D)              (None, 16, 16, 64)   36928       drop_net5[0][0]                  \n",
      "__________________________________________________________________________________________________\n",
      "res3_net5 (Conv2D)              (None, 16, 16, 64)   4160        add_69[0][0]                     \n",
      "__________________________________________________________________________________________________\n",
      "add_70 (Add)                    (None, 16, 16, 64)   0           res2_net5[0][0]                  \n",
      "                                                                 res3_net5[0][0]                  \n",
      "__________________________________________________________________________________________________\n",
      "res1_net6 (Conv2D)              (None, 16, 16, 64)   36928       add_70[0][0]                     \n",
      "__________________________________________________________________________________________________\n",
      "drop_net6 (SpatialDropout2D)    (None, 16, 16, 64)   0           res1_net6[0][0]                  \n",
      "__________________________________________________________________________________________________\n",
      "res2_net6 (Conv2D)              (None, 16, 16, 64)   36928       drop_net6[0][0]                  \n",
      "__________________________________________________________________________________________________\n",
      "res3_net6 (Conv2D)              (None, 16, 16, 64)   4160        add_70[0][0]                     \n",
      "__________________________________________________________________________________________________\n",
      "add_71 (Add)                    (None, 16, 16, 64)   0           res2_net6[0][0]                  \n",
      "                                                                 res3_net6[0][0]                  \n",
      "__________________________________________________________________________________________________\n",
      "up_sampling2d_33 (UpSampling2D) (None, 32, 32, 64)   0           add_71[0][0]                     \n",
      "__________________________________________________________________________________________________\n",
      "upsampling_net3 (Conv2D)        (None, 32, 32, 64)   36928       up_sampling2d_33[0][0]           \n",
      "__________________________________________________________________________________________________\n",
      "spatial_dropout2d_33 (SpatialDr (None, 32, 32, 64)   0           upsampling_net3[0][0]            \n",
      "__________________________________________________________________________________________________\n",
      "concatenate3 (Concatenate)      (None, 32, 32, 128)  0           add_68[0][0]                     \n",
      "                                                                 spatial_dropout2d_33[0][0]       \n",
      "__________________________________________________________________________________________________\n",
      "up_sampling2d_34 (UpSampling2D) (None, 64, 64, 128)  0           concatenate3[0][0]               \n",
      "__________________________________________________________________________________________________\n",
      "upsampling_net2 (Conv2D)        (None, 64, 64, 32)   36896       up_sampling2d_34[0][0]           \n",
      "__________________________________________________________________________________________________\n",
      "spatial_dropout2d_34 (SpatialDr (None, 64, 64, 32)   0           upsampling_net2[0][0]            \n",
      "__________________________________________________________________________________________________\n",
      "concatenate2 (Concatenate)      (None, 64, 64, 64)   0           add_67[0][0]                     \n",
      "                                                                 spatial_dropout2d_34[0][0]       \n",
      "__________________________________________________________________________________________________\n",
      "up_sampling2d_35 (UpSampling2D) (None, 128, 128, 64) 0           concatenate2[0][0]               \n",
      "__________________________________________________________________________________________________\n",
      "upsampling_net1 (Conv2D)        (None, 128, 128, 16) 9232        up_sampling2d_35[0][0]           \n",
      "__________________________________________________________________________________________________\n",
      "spatial_dropout2d_35 (SpatialDr (None, 128, 128, 16) 0           upsampling_net1[0][0]            \n",
      "__________________________________________________________________________________________________\n",
      "concatenate1 (Concatenate)      (None, 128, 128, 32) 0           add_66[0][0]                     \n",
      "                                                                 spatial_dropout2d_35[0][0]       \n",
      "__________________________________________________________________________________________________\n",
      "output (Conv2D)                 (None, 128, 128, 2)  66          concatenate1[0][0]               \n",
      "__________________________________________________________________________________________________\n",
      "dirichlet_layer_11 (DirichletLa (None, 128, 128, 2)  0           output[0][0]                     \n",
      "==================================================================================================\n",
      "Total params: 392,930\n",
      "Trainable params: 392,930\n",
      "Non-trainable params: 0\n",
      "__________________________________________________________________________________________________\n",
      "Epoch: 1\n",
      "Anneling Coeficient [1.]\n",
      "K.int_shape(mse) (None, 128, 128, 1)\n",
      "K.int_shape(mask) (None, None, None, 1)\n",
      "K.int_shape(E) (None, 128, 128, 2)\n",
      "K.int_shape(y_truth) (None, None, None, None)\n",
      "K.int_shape(mse) (None, 128, 128, 1)\n",
      "K.int_shape(mask) (None, None, None, 1)\n",
      "K.int_shape(E) (None, 128, 128, 2)\n",
      "K.int_shape(y_truth) (None, None, None, None)\n",
      "155/155 [==============================] - ETA: 0s - loss: 0.2632 - accuracy: 0.3724K.int_shape(mse) (None, 128, 128, 1)\n",
      "K.int_shape(mask) (None, None, None, 1)\n",
      "K.int_shape(E) (None, 128, 128, 2)\n",
      "K.int_shape(y_truth) (None, None, None, None)\n",
      "155/155 [==============================] - 9s 46ms/step - loss: 0.2632 - accuracy: 0.3724 - val_loss: 0.2382 - val_accuracy: 0.3420\n",
      "\n",
      "Epoch 00001: val_loss improved from inf to 0.23822, saving model to D:/Jorge/datasets/deforestation/experiments/MS/exp41/models\\resunet_11.h5\n",
      "New best val loss. Val loss: 0.23822. Early stop count: 0\n",
      "Epoch: 2\n",
      "Anneling Coeficient [0.1]\n",
      "155/155 [==============================] - 7s 44ms/step - loss: 0.2313 - accuracy: 0.3718 - val_loss: 0.2289 - val_accuracy: 0.3437\n",
      "\n",
      "Epoch 00001: val_loss improved from 0.23822 to 0.22885, saving model to D:/Jorge/datasets/deforestation/experiments/MS/exp41/models\\resunet_11.h5\n",
      "New best val loss. Val loss: 0.22885. Early stop count: 0\n",
      "Epoch: 3\n",
      "Anneling Coeficient [0.2]\n",
      "155/155 [==============================] - 7s 43ms/step - loss: 0.2238 - accuracy: 0.3734 - val_loss: 0.2209 - val_accuracy: 0.3554\n",
      "\n",
      "Epoch 00001: val_loss improved from 0.22885 to 0.22094, saving model to D:/Jorge/datasets/deforestation/experiments/MS/exp41/models\\resunet_11.h5\n",
      "New best val loss. Val loss: 0.22094. Early stop count: 0\n",
      "Epoch: 4\n",
      "Anneling Coeficient [0.3]\n",
      "155/155 [==============================] - 7s 43ms/step - loss: 0.2175 - accuracy: 0.4064 - val_loss: 0.2198 - val_accuracy: 0.3548\n",
      "\n",
      "Epoch 00001: val_loss improved from 0.22094 to 0.21984, saving model to D:/Jorge/datasets/deforestation/experiments/MS/exp41/models\\resunet_11.h5\n",
      "New best val loss. Val loss: 0.21984. Early stop count: 0\n",
      "Epoch: 5\n",
      "Anneling Coeficient [0.4]\n",
      "155/155 [==============================] - 7s 43ms/step - loss: 0.2110 - accuracy: 0.4144 - val_loss: 0.2168 - val_accuracy: 0.3522\n",
      "\n",
      "Epoch 00001: val_loss improved from 0.21984 to 0.21679, saving model to D:/Jorge/datasets/deforestation/experiments/MS/exp41/models\\resunet_11.h5\n",
      "New best val loss. Val loss: 0.21679. Early stop count: 0\n",
      "Epoch: 6\n",
      "Anneling Coeficient [0.5]\n",
      "155/155 [==============================] - 7s 43ms/step - loss: 0.2071 - accuracy: 0.4177 - val_loss: 0.2164 - val_accuracy: 0.3600\n",
      "\n",
      "Epoch 00001: val_loss improved from 0.21679 to 0.21642, saving model to D:/Jorge/datasets/deforestation/experiments/MS/exp41/models\\resunet_11.h5\n",
      "New best val loss. Val loss: 0.21642. Early stop count: 0\n",
      "Epoch: 7\n",
      "Anneling Coeficient [0.6]\n",
      "155/155 [==============================] - 7s 43ms/step - loss: 0.2048 - accuracy: 0.4194 - val_loss: 0.2192 - val_accuracy: 0.3464\n",
      "\n",
      "Epoch 00001: val_loss did not improve from 0.21642\n",
      "Early stop count: 1\n",
      "Epoch: 8\n",
      "Anneling Coeficient [0.7]\n",
      "155/155 [==============================] - 7s 43ms/step - loss: 0.2023 - accuracy: 0.4249 - val_loss: 0.2114 - val_accuracy: 0.3276\n",
      "\n",
      "Epoch 00001: val_loss improved from 0.21642 to 0.21143, saving model to D:/Jorge/datasets/deforestation/experiments/MS/exp41/models\\resunet_11.h5\n",
      "New best val loss. Val loss: 0.21143. Early stop count: 0\n",
      "Epoch: 9\n",
      "Anneling Coeficient [0.8]\n",
      "155/155 [==============================] - 7s 44ms/step - loss: 0.2011 - accuracy: 0.4319 - val_loss: 0.2052 - val_accuracy: 0.3382\n",
      "\n",
      "Epoch 00001: val_loss improved from 0.21143 to 0.20523, saving model to D:/Jorge/datasets/deforestation/experiments/MS/exp41/models\\resunet_11.h5\n",
      "New best val loss. Val loss: 0.20523. Early stop count: 0\n",
      "Epoch: 10\n",
      "Anneling Coeficient [0.9]\n",
      "155/155 [==============================] - 7s 44ms/step - loss: 0.1982 - accuracy: 0.4344 - val_loss: 0.2162 - val_accuracy: 0.3622\n",
      "\n",
      "Epoch 00001: val_loss did not improve from 0.20523\n",
      "Early stop count: 1\n",
      "Epoch: 11\n",
      "Anneling Coeficient [1.]\n",
      "155/155 [==============================] - 7s 43ms/step - loss: 0.1961 - accuracy: 0.4348 - val_loss: 0.2218 - val_accuracy: 0.3663\n",
      "\n",
      "Epoch 00001: val_loss did not improve from 0.20523\n",
      "Early stop count: 2\n",
      "Epoch: 12\n",
      "Anneling Coeficient [1.]\n",
      "155/155 [==============================] - 7s 44ms/step - loss: 0.1949 - accuracy: 0.4353 - val_loss: 0.2263 - val_accuracy: 0.3766\n",
      "\n",
      "Epoch 00001: val_loss did not improve from 0.20523\n",
      "Early stop count: 3\n",
      "Epoch: 13\n",
      "Anneling Coeficient [1.]\n",
      "155/155 [==============================] - 7s 43ms/step - loss: 0.1936 - accuracy: 0.4367 - val_loss: 0.2248 - val_accuracy: 0.3606\n",
      "\n",
      "Epoch 00001: val_loss did not improve from 0.20523\n",
      "Early stop count: 4\n",
      "Epoch: 14\n",
      "Anneling Coeficient [1.]\n",
      "155/155 [==============================] - 7s 44ms/step - loss: 0.1925 - accuracy: 0.4362 - val_loss: 0.2188 - val_accuracy: 0.3582\n",
      "\n",
      "Epoch 00001: val_loss did not improve from 0.20523\n",
      "Early stop count: 5\n",
      "Epoch: 15\n",
      "Anneling Coeficient [1.]\n",
      "155/155 [==============================] - 7s 43ms/step - loss: 0.1913 - accuracy: 0.4363 - val_loss: 0.2313 - val_accuracy: 0.3669\n",
      "\n",
      "Epoch 00001: val_loss did not improve from 0.20523\n",
      "Early stop count: 6\n",
      "Epoch: 16\n",
      "Anneling Coeficient [1.]\n",
      "155/155 [==============================] - 7s 44ms/step - loss: 0.1907 - accuracy: 0.4373 - val_loss: 0.2332 - val_accuracy: 0.3535\n",
      "\n",
      "Epoch 00001: val_loss did not improve from 0.20523\n",
      "Early stop count: 7\n",
      "Epoch: 17\n",
      "Anneling Coeficient [1.]\n",
      "155/155 [==============================] - 7s 44ms/step - loss: 0.1896 - accuracy: 0.4372 - val_loss: 0.2167 - val_accuracy: 0.3338\n",
      "\n",
      "Epoch 00001: val_loss did not improve from 0.20523\n",
      "Early stop count: 8\n",
      "Epoch: 18\n",
      "Anneling Coeficient [1.]\n",
      "155/155 [==============================] - 7s 42ms/step - loss: 0.1886 - accuracy: 0.4378 - val_loss: 0.2067 - val_accuracy: 0.3455\n",
      "\n",
      "Epoch 00001: val_loss did not improve from 0.20523\n",
      "Early stop count: 9\n",
      "Epoch: 19\n",
      "Anneling Coeficient [1.]\n",
      "155/155 [==============================] - 7s 43ms/step - loss: 0.1878 - accuracy: 0.4373 - val_loss: 0.2285 - val_accuracy: 0.3658\n",
      "\n",
      "Epoch 00001: val_loss did not improve from 0.20523\n",
      "Early stop count: 10\n",
      "Early stopping\n",
      "10 10\n",
      "Finished Training\n",
      "Training time:  131.81804537773132\n",
      "time:  12\n",
      "Model: \"model_12\"\n",
      "__________________________________________________________________________________________________\n",
      "Layer (type)                    Output Shape         Param #     Connected to                     \n",
      "==================================================================================================\n",
      "input_enc_net (InputLayer)      [(None, 128, 128, 9) 0                                            \n",
      "__________________________________________________________________________________________________\n",
      "res1_net1 (Conv2D)              (None, 128, 128, 16) 1312        input_enc_net[0][0]              \n",
      "__________________________________________________________________________________________________\n",
      "drop_net1 (SpatialDropout2D)    (None, 128, 128, 16) 0           res1_net1[0][0]                  \n",
      "__________________________________________________________________________________________________\n",
      "res2_net1 (Conv2D)              (None, 128, 128, 16) 2320        drop_net1[0][0]                  \n",
      "__________________________________________________________________________________________________\n",
      "res3_net1 (Conv2D)              (None, 128, 128, 16) 160         input_enc_net[0][0]              \n",
      "__________________________________________________________________________________________________\n",
      "add_72 (Add)                    (None, 128, 128, 16) 0           res2_net1[0][0]                  \n",
      "                                                                 res3_net1[0][0]                  \n",
      "__________________________________________________________________________________________________\n",
      "pool_net1 (MaxPooling2D)        (None, 64, 64, 16)   0           add_72[0][0]                     \n",
      "__________________________________________________________________________________________________\n",
      "res1_net2 (Conv2D)              (None, 64, 64, 32)   4640        pool_net1[0][0]                  \n",
      "__________________________________________________________________________________________________\n",
      "drop_net2 (SpatialDropout2D)    (None, 64, 64, 32)   0           res1_net2[0][0]                  \n",
      "__________________________________________________________________________________________________\n",
      "res2_net2 (Conv2D)              (None, 64, 64, 32)   9248        drop_net2[0][0]                  \n",
      "__________________________________________________________________________________________________\n",
      "res3_net2 (Conv2D)              (None, 64, 64, 32)   544         pool_net1[0][0]                  \n",
      "__________________________________________________________________________________________________\n",
      "add_73 (Add)                    (None, 64, 64, 32)   0           res2_net2[0][0]                  \n",
      "                                                                 res3_net2[0][0]                  \n",
      "__________________________________________________________________________________________________\n",
      "pool_net2 (MaxPooling2D)        (None, 32, 32, 32)   0           add_73[0][0]                     \n",
      "__________________________________________________________________________________________________\n",
      "res1_net3 (Conv2D)              (None, 32, 32, 64)   18496       pool_net2[0][0]                  \n",
      "__________________________________________________________________________________________________\n",
      "drop_net3 (SpatialDropout2D)    (None, 32, 32, 64)   0           res1_net3[0][0]                  \n",
      "__________________________________________________________________________________________________\n",
      "res2_net3 (Conv2D)              (None, 32, 32, 64)   36928       drop_net3[0][0]                  \n",
      "__________________________________________________________________________________________________\n",
      "res3_net3 (Conv2D)              (None, 32, 32, 64)   2112        pool_net2[0][0]                  \n",
      "__________________________________________________________________________________________________\n",
      "add_74 (Add)                    (None, 32, 32, 64)   0           res2_net3[0][0]                  \n",
      "                                                                 res3_net3[0][0]                  \n",
      "__________________________________________________________________________________________________\n",
      "pool_net3 (MaxPooling2D)        (None, 16, 16, 64)   0           add_74[0][0]                     \n",
      "__________________________________________________________________________________________________\n",
      "res1_net4 (Conv2D)              (None, 16, 16, 64)   36928       pool_net3[0][0]                  \n",
      "__________________________________________________________________________________________________\n",
      "drop_net4 (SpatialDropout2D)    (None, 16, 16, 64)   0           res1_net4[0][0]                  \n",
      "__________________________________________________________________________________________________\n",
      "res2_net4 (Conv2D)              (None, 16, 16, 64)   36928       drop_net4[0][0]                  \n",
      "__________________________________________________________________________________________________\n",
      "res3_net4 (Conv2D)              (None, 16, 16, 64)   4160        pool_net3[0][0]                  \n",
      "__________________________________________________________________________________________________\n",
      "add_75 (Add)                    (None, 16, 16, 64)   0           res2_net4[0][0]                  \n",
      "                                                                 res3_net4[0][0]                  \n",
      "__________________________________________________________________________________________________\n",
      "res1_net5 (Conv2D)              (None, 16, 16, 64)   36928       add_75[0][0]                     \n",
      "__________________________________________________________________________________________________\n",
      "drop_net5 (SpatialDropout2D)    (None, 16, 16, 64)   0           res1_net5[0][0]                  \n",
      "__________________________________________________________________________________________________\n",
      "res2_net5 (Conv2D)              (None, 16, 16, 64)   36928       drop_net5[0][0]                  \n",
      "__________________________________________________________________________________________________\n",
      "res3_net5 (Conv2D)              (None, 16, 16, 64)   4160        add_75[0][0]                     \n",
      "__________________________________________________________________________________________________\n",
      "add_76 (Add)                    (None, 16, 16, 64)   0           res2_net5[0][0]                  \n",
      "                                                                 res3_net5[0][0]                  \n",
      "__________________________________________________________________________________________________\n",
      "res1_net6 (Conv2D)              (None, 16, 16, 64)   36928       add_76[0][0]                     \n",
      "__________________________________________________________________________________________________\n",
      "drop_net6 (SpatialDropout2D)    (None, 16, 16, 64)   0           res1_net6[0][0]                  \n",
      "__________________________________________________________________________________________________\n",
      "res2_net6 (Conv2D)              (None, 16, 16, 64)   36928       drop_net6[0][0]                  \n",
      "__________________________________________________________________________________________________\n",
      "res3_net6 (Conv2D)              (None, 16, 16, 64)   4160        add_76[0][0]                     \n",
      "__________________________________________________________________________________________________\n",
      "add_77 (Add)                    (None, 16, 16, 64)   0           res2_net6[0][0]                  \n",
      "                                                                 res3_net6[0][0]                  \n",
      "__________________________________________________________________________________________________\n",
      "up_sampling2d_36 (UpSampling2D) (None, 32, 32, 64)   0           add_77[0][0]                     \n",
      "__________________________________________________________________________________________________\n",
      "upsampling_net3 (Conv2D)        (None, 32, 32, 64)   36928       up_sampling2d_36[0][0]           \n",
      "__________________________________________________________________________________________________\n",
      "spatial_dropout2d_36 (SpatialDr (None, 32, 32, 64)   0           upsampling_net3[0][0]            \n",
      "__________________________________________________________________________________________________\n",
      "concatenate3 (Concatenate)      (None, 32, 32, 128)  0           add_74[0][0]                     \n",
      "                                                                 spatial_dropout2d_36[0][0]       \n",
      "__________________________________________________________________________________________________\n",
      "up_sampling2d_37 (UpSampling2D) (None, 64, 64, 128)  0           concatenate3[0][0]               \n",
      "__________________________________________________________________________________________________\n",
      "upsampling_net2 (Conv2D)        (None, 64, 64, 32)   36896       up_sampling2d_37[0][0]           \n",
      "__________________________________________________________________________________________________\n",
      "spatial_dropout2d_37 (SpatialDr (None, 64, 64, 32)   0           upsampling_net2[0][0]            \n",
      "__________________________________________________________________________________________________\n",
      "concatenate2 (Concatenate)      (None, 64, 64, 64)   0           add_73[0][0]                     \n",
      "                                                                 spatial_dropout2d_37[0][0]       \n",
      "__________________________________________________________________________________________________\n",
      "up_sampling2d_38 (UpSampling2D) (None, 128, 128, 64) 0           concatenate2[0][0]               \n",
      "__________________________________________________________________________________________________\n",
      "upsampling_net1 (Conv2D)        (None, 128, 128, 16) 9232        up_sampling2d_38[0][0]           \n",
      "__________________________________________________________________________________________________\n",
      "spatial_dropout2d_38 (SpatialDr (None, 128, 128, 16) 0           upsampling_net1[0][0]            \n",
      "__________________________________________________________________________________________________\n",
      "concatenate1 (Concatenate)      (None, 128, 128, 32) 0           add_72[0][0]                     \n",
      "                                                                 spatial_dropout2d_38[0][0]       \n",
      "__________________________________________________________________________________________________\n",
      "output (Conv2D)                 (None, 128, 128, 2)  66          concatenate1[0][0]               \n",
      "__________________________________________________________________________________________________\n",
      "dirichlet_layer_12 (DirichletLa (None, 128, 128, 2)  0           output[0][0]                     \n",
      "==================================================================================================\n",
      "Total params: 392,930\n",
      "Trainable params: 392,930\n",
      "Non-trainable params: 0\n",
      "__________________________________________________________________________________________________\n",
      "Epoch: 1\n",
      "Anneling Coeficient [1.]\n",
      "K.int_shape(mse) (None, 128, 128, 1)\n",
      "K.int_shape(mask) (None, None, None, 1)\n",
      "K.int_shape(E) (None, 128, 128, 2)\n",
      "K.int_shape(y_truth) (None, None, None, None)\n",
      "K.int_shape(mse) (None, 128, 128, 1)\n",
      "K.int_shape(mask) (None, None, None, 1)\n",
      "K.int_shape(E) (None, 128, 128, 2)\n",
      "K.int_shape(y_truth) (None, None, None, None)\n",
      "155/155 [==============================] - ETA: 0s - loss: 0.2771 - accuracy: 0.3691K.int_shape(mse) (None, 128, 128, 1)\n",
      "K.int_shape(mask) (None, None, None, 1)\n",
      "K.int_shape(E) (None, 128, 128, 2)\n",
      "K.int_shape(y_truth) (None, None, None, None)\n",
      "155/155 [==============================] - 9s 46ms/step - loss: 0.2771 - accuracy: 0.3691 - val_loss: 0.2430 - val_accuracy: 0.3433\n",
      "\n",
      "Epoch 00001: val_loss improved from inf to 0.24298, saving model to D:/Jorge/datasets/deforestation/experiments/MS/exp41/models\\resunet_12.h5\n",
      "New best val loss. Val loss: 0.24298. Early stop count: 0\n",
      "Epoch: 2\n",
      "Anneling Coeficient [0.1]\n",
      "155/155 [==============================] - 7s 43ms/step - loss: 0.2375 - accuracy: 0.3720 - val_loss: 0.2312 - val_accuracy: 0.3515\n",
      "\n",
      "Epoch 00001: val_loss improved from 0.24298 to 0.23116, saving model to D:/Jorge/datasets/deforestation/experiments/MS/exp41/models\\resunet_12.h5\n",
      "New best val loss. Val loss: 0.23116. Early stop count: 0\n",
      "Epoch: 3\n",
      "Anneling Coeficient [0.2]\n",
      "155/155 [==============================] - 7s 43ms/step - loss: 0.2269 - accuracy: 0.3729 - val_loss: 0.2220 - val_accuracy: 0.3365\n",
      "\n",
      "Epoch 00001: val_loss improved from 0.23116 to 0.22204, saving model to D:/Jorge/datasets/deforestation/experiments/MS/exp41/models\\resunet_12.h5\n",
      "New best val loss. Val loss: 0.22204. Early stop count: 0\n",
      "Epoch: 4\n",
      "Anneling Coeficient [0.3]\n",
      "155/155 [==============================] - 7s 44ms/step - loss: 0.2227 - accuracy: 0.3728 - val_loss: 0.2224 - val_accuracy: 0.3313\n",
      "\n",
      "Epoch 00001: val_loss did not improve from 0.22204\n",
      "Early stop count: 1\n",
      "Epoch: 5\n",
      "Anneling Coeficient [0.4]\n",
      "155/155 [==============================] - 7s 43ms/step - loss: 0.2188 - accuracy: 0.3735 - val_loss: 0.2203 - val_accuracy: 0.3417\n",
      "\n",
      "Epoch 00001: val_loss improved from 0.22204 to 0.22028, saving model to D:/Jorge/datasets/deforestation/experiments/MS/exp41/models\\resunet_12.h5\n",
      "New best val loss. Val loss: 0.22028. Early stop count: 0\n",
      "Epoch: 6\n",
      "Anneling Coeficient [0.5]\n",
      "155/155 [==============================] - 7s 43ms/step - loss: 0.2148 - accuracy: 0.4121 - val_loss: 0.2177 - val_accuracy: 0.3531\n",
      "\n",
      "Epoch 00001: val_loss improved from 0.22028 to 0.21774, saving model to D:/Jorge/datasets/deforestation/experiments/MS/exp41/models\\resunet_12.h5\n",
      "New best val loss. Val loss: 0.21774. Early stop count: 0\n",
      "Epoch: 7\n",
      "Anneling Coeficient [0.6]\n",
      "155/155 [==============================] - 7s 44ms/step - loss: 0.2091 - accuracy: 0.4263 - val_loss: 0.2104 - val_accuracy: 0.3296\n",
      "\n",
      "Epoch 00001: val_loss improved from 0.21774 to 0.21041, saving model to D:/Jorge/datasets/deforestation/experiments/MS/exp41/models\\resunet_12.h5\n",
      "New best val loss. Val loss: 0.21041. Early stop count: 0\n",
      "Epoch: 8\n",
      "Anneling Coeficient [0.7]\n",
      "155/155 [==============================] - 7s 43ms/step - loss: 0.2059 - accuracy: 0.4309 - val_loss: 0.2157 - val_accuracy: 0.3415\n",
      "\n",
      "Epoch 00001: val_loss did not improve from 0.21041\n",
      "Early stop count: 1\n",
      "Epoch: 9\n",
      "Anneling Coeficient [0.8]\n",
      "155/155 [==============================] - 7s 44ms/step - loss: 0.2028 - accuracy: 0.4322 - val_loss: 0.2249 - val_accuracy: 0.3590\n",
      "\n",
      "Epoch 00001: val_loss did not improve from 0.21041\n",
      "Early stop count: 2\n",
      "Epoch: 10\n",
      "Anneling Coeficient [0.9]\n",
      "155/155 [==============================] - 7s 43ms/step - loss: 0.2013 - accuracy: 0.4332 - val_loss: 0.2266 - val_accuracy: 0.3597\n",
      "\n",
      "Epoch 00001: val_loss did not improve from 0.21041\n",
      "Early stop count: 3\n",
      "Epoch: 11\n",
      "Anneling Coeficient [1.]\n",
      "155/155 [==============================] - 7s 43ms/step - loss: 0.1999 - accuracy: 0.4342 - val_loss: 0.2262 - val_accuracy: 0.3679\n",
      "\n",
      "Epoch 00001: val_loss did not improve from 0.21041\n",
      "Early stop count: 4\n",
      "Epoch: 12\n",
      "Anneling Coeficient [1.]\n",
      "155/155 [==============================] - 7s 44ms/step - loss: 0.1982 - accuracy: 0.4335 - val_loss: 0.2232 - val_accuracy: 0.3582\n",
      "\n",
      "Epoch 00001: val_loss did not improve from 0.21041\n",
      "Early stop count: 5\n",
      "Epoch: 13\n",
      "Anneling Coeficient [1.]\n",
      "155/155 [==============================] - 7s 44ms/step - loss: 0.1970 - accuracy: 0.4351 - val_loss: 0.2237 - val_accuracy: 0.3552\n",
      "\n",
      "Epoch 00001: val_loss did not improve from 0.21041\n",
      "Early stop count: 6\n",
      "Epoch: 14\n",
      "Anneling Coeficient [1.]\n",
      "155/155 [==============================] - 7s 43ms/step - loss: 0.1953 - accuracy: 0.4350 - val_loss: 0.2260 - val_accuracy: 0.3654\n",
      "\n",
      "Epoch 00001: val_loss did not improve from 0.21041\n",
      "Early stop count: 7\n",
      "Epoch: 15\n",
      "Anneling Coeficient [1.]\n",
      "155/155 [==============================] - 7s 43ms/step - loss: 0.1940 - accuracy: 0.4358 - val_loss: 0.2271 - val_accuracy: 0.3480\n",
      "\n",
      "Epoch 00001: val_loss did not improve from 0.21041\n",
      "Early stop count: 8\n",
      "Epoch: 16\n",
      "Anneling Coeficient [1.]\n",
      "155/155 [==============================] - 7s 43ms/step - loss: 0.1926 - accuracy: 0.4365 - val_loss: 0.2111 - val_accuracy: 0.3169\n",
      "\n",
      "Epoch 00001: val_loss did not improve from 0.21041\n",
      "Early stop count: 9\n",
      "Epoch: 17\n",
      "Anneling Coeficient [1.]\n",
      "155/155 [==============================] - 7s 43ms/step - loss: 0.1930 - accuracy: 0.4361 - val_loss: 0.2187 - val_accuracy: 0.3252\n",
      "\n",
      "Epoch 00001: val_loss did not improve from 0.21041\n",
      "Early stop count: 10\n",
      "Early stopping\n",
      "10 10\n",
      "Finished Training\n",
      "Training time:  117.62481760978699\n",
      "time:  13\n",
      "Model: \"model_13\"\n",
      "__________________________________________________________________________________________________\n",
      "Layer (type)                    Output Shape         Param #     Connected to                     \n",
      "==================================================================================================\n",
      "input_enc_net (InputLayer)      [(None, 128, 128, 9) 0                                            \n",
      "__________________________________________________________________________________________________\n",
      "res1_net1 (Conv2D)              (None, 128, 128, 16) 1312        input_enc_net[0][0]              \n",
      "__________________________________________________________________________________________________\n",
      "drop_net1 (SpatialDropout2D)    (None, 128, 128, 16) 0           res1_net1[0][0]                  \n",
      "__________________________________________________________________________________________________\n",
      "res2_net1 (Conv2D)              (None, 128, 128, 16) 2320        drop_net1[0][0]                  \n",
      "__________________________________________________________________________________________________\n",
      "res3_net1 (Conv2D)              (None, 128, 128, 16) 160         input_enc_net[0][0]              \n",
      "__________________________________________________________________________________________________\n",
      "add_78 (Add)                    (None, 128, 128, 16) 0           res2_net1[0][0]                  \n",
      "                                                                 res3_net1[0][0]                  \n",
      "__________________________________________________________________________________________________\n",
      "pool_net1 (MaxPooling2D)        (None, 64, 64, 16)   0           add_78[0][0]                     \n",
      "__________________________________________________________________________________________________\n",
      "res1_net2 (Conv2D)              (None, 64, 64, 32)   4640        pool_net1[0][0]                  \n",
      "__________________________________________________________________________________________________\n",
      "drop_net2 (SpatialDropout2D)    (None, 64, 64, 32)   0           res1_net2[0][0]                  \n",
      "__________________________________________________________________________________________________\n",
      "res2_net2 (Conv2D)              (None, 64, 64, 32)   9248        drop_net2[0][0]                  \n",
      "__________________________________________________________________________________________________\n",
      "res3_net2 (Conv2D)              (None, 64, 64, 32)   544         pool_net1[0][0]                  \n",
      "__________________________________________________________________________________________________\n",
      "add_79 (Add)                    (None, 64, 64, 32)   0           res2_net2[0][0]                  \n",
      "                                                                 res3_net2[0][0]                  \n",
      "__________________________________________________________________________________________________\n",
      "pool_net2 (MaxPooling2D)        (None, 32, 32, 32)   0           add_79[0][0]                     \n",
      "__________________________________________________________________________________________________\n",
      "res1_net3 (Conv2D)              (None, 32, 32, 64)   18496       pool_net2[0][0]                  \n",
      "__________________________________________________________________________________________________\n",
      "drop_net3 (SpatialDropout2D)    (None, 32, 32, 64)   0           res1_net3[0][0]                  \n",
      "__________________________________________________________________________________________________\n",
      "res2_net3 (Conv2D)              (None, 32, 32, 64)   36928       drop_net3[0][0]                  \n",
      "__________________________________________________________________________________________________\n",
      "res3_net3 (Conv2D)              (None, 32, 32, 64)   2112        pool_net2[0][0]                  \n",
      "__________________________________________________________________________________________________\n",
      "add_80 (Add)                    (None, 32, 32, 64)   0           res2_net3[0][0]                  \n",
      "                                                                 res3_net3[0][0]                  \n",
      "__________________________________________________________________________________________________\n",
      "pool_net3 (MaxPooling2D)        (None, 16, 16, 64)   0           add_80[0][0]                     \n",
      "__________________________________________________________________________________________________\n",
      "res1_net4 (Conv2D)              (None, 16, 16, 64)   36928       pool_net3[0][0]                  \n",
      "__________________________________________________________________________________________________\n",
      "drop_net4 (SpatialDropout2D)    (None, 16, 16, 64)   0           res1_net4[0][0]                  \n",
      "__________________________________________________________________________________________________\n",
      "res2_net4 (Conv2D)              (None, 16, 16, 64)   36928       drop_net4[0][0]                  \n",
      "__________________________________________________________________________________________________\n",
      "res3_net4 (Conv2D)              (None, 16, 16, 64)   4160        pool_net3[0][0]                  \n",
      "__________________________________________________________________________________________________\n",
      "add_81 (Add)                    (None, 16, 16, 64)   0           res2_net4[0][0]                  \n",
      "                                                                 res3_net4[0][0]                  \n",
      "__________________________________________________________________________________________________\n",
      "res1_net5 (Conv2D)              (None, 16, 16, 64)   36928       add_81[0][0]                     \n",
      "__________________________________________________________________________________________________\n",
      "drop_net5 (SpatialDropout2D)    (None, 16, 16, 64)   0           res1_net5[0][0]                  \n",
      "__________________________________________________________________________________________________\n",
      "res2_net5 (Conv2D)              (None, 16, 16, 64)   36928       drop_net5[0][0]                  \n",
      "__________________________________________________________________________________________________\n",
      "res3_net5 (Conv2D)              (None, 16, 16, 64)   4160        add_81[0][0]                     \n",
      "__________________________________________________________________________________________________\n",
      "add_82 (Add)                    (None, 16, 16, 64)   0           res2_net5[0][0]                  \n",
      "                                                                 res3_net5[0][0]                  \n",
      "__________________________________________________________________________________________________\n",
      "res1_net6 (Conv2D)              (None, 16, 16, 64)   36928       add_82[0][0]                     \n",
      "__________________________________________________________________________________________________\n",
      "drop_net6 (SpatialDropout2D)    (None, 16, 16, 64)   0           res1_net6[0][0]                  \n",
      "__________________________________________________________________________________________________\n",
      "res2_net6 (Conv2D)              (None, 16, 16, 64)   36928       drop_net6[0][0]                  \n",
      "__________________________________________________________________________________________________\n",
      "res3_net6 (Conv2D)              (None, 16, 16, 64)   4160        add_82[0][0]                     \n",
      "__________________________________________________________________________________________________\n",
      "add_83 (Add)                    (None, 16, 16, 64)   0           res2_net6[0][0]                  \n",
      "                                                                 res3_net6[0][0]                  \n",
      "__________________________________________________________________________________________________\n",
      "up_sampling2d_39 (UpSampling2D) (None, 32, 32, 64)   0           add_83[0][0]                     \n",
      "__________________________________________________________________________________________________\n",
      "upsampling_net3 (Conv2D)        (None, 32, 32, 64)   36928       up_sampling2d_39[0][0]           \n",
      "__________________________________________________________________________________________________\n",
      "spatial_dropout2d_39 (SpatialDr (None, 32, 32, 64)   0           upsampling_net3[0][0]            \n",
      "__________________________________________________________________________________________________\n",
      "concatenate3 (Concatenate)      (None, 32, 32, 128)  0           add_80[0][0]                     \n",
      "                                                                 spatial_dropout2d_39[0][0]       \n",
      "__________________________________________________________________________________________________\n",
      "up_sampling2d_40 (UpSampling2D) (None, 64, 64, 128)  0           concatenate3[0][0]               \n",
      "__________________________________________________________________________________________________\n",
      "upsampling_net2 (Conv2D)        (None, 64, 64, 32)   36896       up_sampling2d_40[0][0]           \n",
      "__________________________________________________________________________________________________\n",
      "spatial_dropout2d_40 (SpatialDr (None, 64, 64, 32)   0           upsampling_net2[0][0]            \n",
      "__________________________________________________________________________________________________\n",
      "concatenate2 (Concatenate)      (None, 64, 64, 64)   0           add_79[0][0]                     \n",
      "                                                                 spatial_dropout2d_40[0][0]       \n",
      "__________________________________________________________________________________________________\n",
      "up_sampling2d_41 (UpSampling2D) (None, 128, 128, 64) 0           concatenate2[0][0]               \n",
      "__________________________________________________________________________________________________\n",
      "upsampling_net1 (Conv2D)        (None, 128, 128, 16) 9232        up_sampling2d_41[0][0]           \n",
      "__________________________________________________________________________________________________\n",
      "spatial_dropout2d_41 (SpatialDr (None, 128, 128, 16) 0           upsampling_net1[0][0]            \n",
      "__________________________________________________________________________________________________\n",
      "concatenate1 (Concatenate)      (None, 128, 128, 32) 0           add_78[0][0]                     \n",
      "                                                                 spatial_dropout2d_41[0][0]       \n",
      "__________________________________________________________________________________________________\n",
      "output (Conv2D)                 (None, 128, 128, 2)  66          concatenate1[0][0]               \n",
      "__________________________________________________________________________________________________\n",
      "dirichlet_layer_13 (DirichletLa (None, 128, 128, 2)  0           output[0][0]                     \n",
      "==================================================================================================\n",
      "Total params: 392,930\n",
      "Trainable params: 392,930\n",
      "Non-trainable params: 0\n",
      "__________________________________________________________________________________________________\n",
      "Epoch: 1\n",
      "Anneling Coeficient [1.]\n",
      "K.int_shape(mse) (None, 128, 128, 1)\n",
      "K.int_shape(mask) (None, None, None, 1)\n",
      "K.int_shape(E) (None, 128, 128, 2)\n",
      "K.int_shape(y_truth) (None, None, None, None)\n",
      "K.int_shape(mse) (None, 128, 128, 1)\n",
      "K.int_shape(mask) (None, None, None, 1)\n",
      "K.int_shape(E) (None, 128, 128, 2)\n",
      "K.int_shape(y_truth) (None, None, None, None)\n",
      "154/155 [============================>.] - ETA: 0s - loss: 0.3037 - accuracy: 0.3662K.int_shape(mse) (None, 128, 128, 1)\n",
      "K.int_shape(mask) (None, None, None, 1)\n",
      "K.int_shape(E) (None, 128, 128, 2)\n",
      "K.int_shape(y_truth) (None, None, None, None)\n",
      "155/155 [==============================] - 9s 46ms/step - loss: 0.3036 - accuracy: 0.3662 - val_loss: 0.2706 - val_accuracy: 0.3410\n",
      "\n",
      "Epoch 00001: val_loss improved from inf to 0.27060, saving model to D:/Jorge/datasets/deforestation/experiments/MS/exp41/models\\resunet_13.h5\n",
      "New best val loss. Val loss: 0.2706. Early stop count: 0\n",
      "Epoch: 2\n",
      "Anneling Coeficient [0.1]\n",
      "155/155 [==============================] - 7s 43ms/step - loss: 0.2620 - accuracy: 0.3731 - val_loss: 0.2362 - val_accuracy: 0.3425\n",
      "\n",
      "Epoch 00001: val_loss improved from 0.27060 to 0.23623, saving model to D:/Jorge/datasets/deforestation/experiments/MS/exp41/models\\resunet_13.h5\n",
      "New best val loss. Val loss: 0.23623. Early stop count: 0\n",
      "Epoch: 3\n",
      "Anneling Coeficient [0.2]\n",
      "155/155 [==============================] - 7s 44ms/step - loss: 0.2324 - accuracy: 0.3727 - val_loss: 0.2217 - val_accuracy: 0.3513\n",
      "\n",
      "Epoch 00001: val_loss improved from 0.23623 to 0.22173, saving model to D:/Jorge/datasets/deforestation/experiments/MS/exp41/models\\resunet_13.h5\n",
      "New best val loss. Val loss: 0.22173. Early stop count: 0\n",
      "Epoch: 4\n",
      "Anneling Coeficient [0.3]\n",
      "155/155 [==============================] - 7s 44ms/step - loss: 0.2234 - accuracy: 0.3730 - val_loss: 0.2251 - val_accuracy: 0.3368\n",
      "\n",
      "Epoch 00001: val_loss did not improve from 0.22173\n",
      "Early stop count: 1\n",
      "Epoch: 5\n",
      "Anneling Coeficient [0.4]\n",
      "155/155 [==============================] - 7s 43ms/step - loss: 0.2199 - accuracy: 0.3730 - val_loss: 0.2195 - val_accuracy: 0.3323\n",
      "\n",
      "Epoch 00001: val_loss improved from 0.22173 to 0.21953, saving model to D:/Jorge/datasets/deforestation/experiments/MS/exp41/models\\resunet_13.h5\n",
      "New best val loss. Val loss: 0.21953. Early stop count: 0\n",
      "Epoch: 6\n",
      "Anneling Coeficient [0.5]\n",
      "155/155 [==============================] - 7s 43ms/step - loss: 0.2157 - accuracy: 0.3737 - val_loss: 0.2207 - val_accuracy: 0.3401\n",
      "\n",
      "Epoch 00001: val_loss did not improve from 0.21953\n",
      "Early stop count: 1\n",
      "Epoch: 7\n",
      "Anneling Coeficient [0.6]\n",
      "155/155 [==============================] - 7s 43ms/step - loss: 0.2139 - accuracy: 0.3741 - val_loss: 0.2235 - val_accuracy: 0.3249\n",
      "\n",
      "Epoch 00001: val_loss did not improve from 0.21953\n",
      "Early stop count: 2\n",
      "Epoch: 8\n",
      "Anneling Coeficient [0.7]\n",
      "155/155 [==============================] - 7s 44ms/step - loss: 0.2124 - accuracy: 0.3763 - val_loss: 0.2100 - val_accuracy: 0.3063\n",
      "\n",
      "Epoch 00001: val_loss improved from 0.21953 to 0.20997, saving model to D:/Jorge/datasets/deforestation/experiments/MS/exp41/models\\resunet_13.h5\n",
      "New best val loss. Val loss: 0.20997. Early stop count: 0\n",
      "Epoch: 9\n",
      "Anneling Coeficient [0.8]\n",
      "155/155 [==============================] - 7s 44ms/step - loss: 0.2096 - accuracy: 0.3850 - val_loss: 0.2095 - val_accuracy: 0.3340\n",
      "\n",
      "Epoch 00001: val_loss improved from 0.20997 to 0.20950, saving model to D:/Jorge/datasets/deforestation/experiments/MS/exp41/models\\resunet_13.h5\n",
      "New best val loss. Val loss: 0.2095. Early stop count: 0\n",
      "Epoch: 10\n",
      "Anneling Coeficient [0.9]\n",
      "155/155 [==============================] - 7s 43ms/step - loss: 0.2035 - accuracy: 0.4293 - val_loss: 0.2345 - val_accuracy: 0.3640\n",
      "\n",
      "Epoch 00001: val_loss did not improve from 0.20950\n",
      "Early stop count: 1\n",
      "Epoch: 11\n",
      "Anneling Coeficient [1.]\n",
      "155/155 [==============================] - 7s 43ms/step - loss: 0.2013 - accuracy: 0.4337 - val_loss: 0.2205 - val_accuracy: 0.3725\n",
      "\n",
      "Epoch 00001: val_loss did not improve from 0.20950\n",
      "Early stop count: 2\n",
      "Epoch: 12\n",
      "Anneling Coeficient [1.]\n",
      "155/155 [==============================] - 7s 43ms/step - loss: 0.1976 - accuracy: 0.4366 - val_loss: 0.2215 - val_accuracy: 0.3801\n",
      "\n",
      "Epoch 00001: val_loss did not improve from 0.20950\n",
      "Early stop count: 3\n",
      "Epoch: 13\n",
      "Anneling Coeficient [1.]\n",
      "155/155 [==============================] - 7s 44ms/step - loss: 0.1958 - accuracy: 0.4370 - val_loss: 0.2221 - val_accuracy: 0.3643\n",
      "\n",
      "Epoch 00001: val_loss did not improve from 0.20950\n",
      "Early stop count: 4\n",
      "Epoch: 14\n",
      "Anneling Coeficient [1.]\n",
      "155/155 [==============================] - 7s 45ms/step - loss: 0.1942 - accuracy: 0.4371 - val_loss: 0.2109 - val_accuracy: 0.3623\n",
      "\n",
      "Epoch 00001: val_loss did not improve from 0.20950\n",
      "Early stop count: 5\n",
      "Epoch: 15\n",
      "Anneling Coeficient [1.]\n",
      "155/155 [==============================] - 7s 43ms/step - loss: 0.1920 - accuracy: 0.4377 - val_loss: 0.2238 - val_accuracy: 0.3708\n",
      "\n",
      "Epoch 00001: val_loss did not improve from 0.20950\n",
      "Early stop count: 6\n",
      "Epoch: 16\n",
      "Anneling Coeficient [1.]\n",
      "155/155 [==============================] - 7s 43ms/step - loss: 0.1905 - accuracy: 0.4384 - val_loss: 0.2294 - val_accuracy: 0.3572\n",
      "\n",
      "Epoch 00001: val_loss did not improve from 0.20950\n",
      "Early stop count: 7\n",
      "Epoch: 17\n",
      "Anneling Coeficient [1.]\n",
      "155/155 [==============================] - 7s 43ms/step - loss: 0.1894 - accuracy: 0.4387 - val_loss: 0.2073 - val_accuracy: 0.3383\n",
      "\n",
      "Epoch 00001: val_loss improved from 0.20950 to 0.20731, saving model to D:/Jorge/datasets/deforestation/experiments/MS/exp41/models\\resunet_13.h5\n",
      "New best val loss. Val loss: 0.20731. Early stop count: 0\n",
      "Epoch: 18\n",
      "Anneling Coeficient [1.]\n",
      "155/155 [==============================] - 7s 43ms/step - loss: 0.1888 - accuracy: 0.4381 - val_loss: 0.2045 - val_accuracy: 0.3506\n",
      "\n",
      "Epoch 00001: val_loss improved from 0.20731 to 0.20452, saving model to D:/Jorge/datasets/deforestation/experiments/MS/exp41/models\\resunet_13.h5\n",
      "New best val loss. Val loss: 0.20452. Early stop count: 0\n",
      "Epoch: 19\n",
      "Anneling Coeficient [1.]\n",
      "155/155 [==============================] - 7s 43ms/step - loss: 0.1875 - accuracy: 0.4391 - val_loss: 0.2210 - val_accuracy: 0.3696\n",
      "\n",
      "Epoch 00001: val_loss did not improve from 0.20452\n",
      "Early stop count: 1\n",
      "Epoch: 20\n",
      "Anneling Coeficient [1.]\n",
      "155/155 [==============================] - 7s 44ms/step - loss: 0.1874 - accuracy: 0.4383 - val_loss: 0.2313 - val_accuracy: 0.3771\n",
      "\n",
      "Epoch 00001: val_loss did not improve from 0.20452\n",
      "Early stop count: 2\n",
      "Epoch: 21\n",
      "Anneling Coeficient [1.]\n",
      "155/155 [==============================] - 7s 43ms/step - loss: 0.1867 - accuracy: 0.4389 - val_loss: 0.2122 - val_accuracy: 0.3835\n",
      "\n",
      "Epoch 00001: val_loss did not improve from 0.20452\n",
      "Early stop count: 3\n",
      "Epoch: 22\n",
      "Anneling Coeficient [1.]\n",
      "155/155 [==============================] - 7s 43ms/step - loss: 0.1855 - accuracy: 0.4393 - val_loss: 0.2210 - val_accuracy: 0.3689\n",
      "\n",
      "Epoch 00001: val_loss did not improve from 0.20452\n",
      "Early stop count: 4\n",
      "Epoch: 23\n",
      "Anneling Coeficient [1.]\n",
      "155/155 [==============================] - 7s 43ms/step - loss: 0.1851 - accuracy: 0.4393 - val_loss: 0.2269 - val_accuracy: 0.3665\n",
      "\n",
      "Epoch 00001: val_loss did not improve from 0.20452\n",
      "Early stop count: 5\n",
      "Epoch: 24\n",
      "Anneling Coeficient [1.]\n",
      "155/155 [==============================] - 7s 44ms/step - loss: 0.1842 - accuracy: 0.4399 - val_loss: 0.2327 - val_accuracy: 0.3742\n",
      "\n",
      "Epoch 00001: val_loss did not improve from 0.20452\n",
      "Early stop count: 6\n",
      "Epoch: 25\n",
      "Anneling Coeficient [1.]\n",
      "155/155 [==============================] - 7s 43ms/step - loss: 0.1841 - accuracy: 0.4396 - val_loss: 0.2230 - val_accuracy: 0.3601\n",
      "\n",
      "Epoch 00001: val_loss did not improve from 0.20452\n",
      "Early stop count: 7\n",
      "Epoch: 26\n",
      "Anneling Coeficient [1.]\n",
      "155/155 [==============================] - 7s 43ms/step - loss: 0.1830 - accuracy: 0.4396 - val_loss: 0.2094 - val_accuracy: 0.3383\n",
      "\n",
      "Epoch 00001: val_loss did not improve from 0.20452\n",
      "Early stop count: 8\n",
      "Epoch: 27\n",
      "Anneling Coeficient [1.]\n",
      "155/155 [==============================] - 7s 44ms/step - loss: 0.1827 - accuracy: 0.4403 - val_loss: 0.2122 - val_accuracy: 0.3488\n",
      "\n",
      "Epoch 00001: val_loss did not improve from 0.20452\n",
      "Early stop count: 9\n",
      "Epoch: 28\n",
      "Anneling Coeficient [1.]\n",
      "155/155 [==============================] - 7s 44ms/step - loss: 0.1816 - accuracy: 0.4404 - val_loss: 0.2253 - val_accuracy: 0.3731\n",
      "\n",
      "Epoch 00001: val_loss did not improve from 0.20452\n",
      "Early stop count: 10\n",
      "Early stopping\n",
      "10 10\n",
      "Finished Training\n",
      "Training time:  193.31490540504456\n",
      "time:  14\n",
      "Model: \"model_14\"\n",
      "__________________________________________________________________________________________________\n",
      "Layer (type)                    Output Shape         Param #     Connected to                     \n",
      "==================================================================================================\n",
      "input_enc_net (InputLayer)      [(None, 128, 128, 9) 0                                            \n",
      "__________________________________________________________________________________________________\n",
      "res1_net1 (Conv2D)              (None, 128, 128, 16) 1312        input_enc_net[0][0]              \n",
      "__________________________________________________________________________________________________\n",
      "drop_net1 (SpatialDropout2D)    (None, 128, 128, 16) 0           res1_net1[0][0]                  \n",
      "__________________________________________________________________________________________________\n",
      "res2_net1 (Conv2D)              (None, 128, 128, 16) 2320        drop_net1[0][0]                  \n",
      "__________________________________________________________________________________________________\n",
      "res3_net1 (Conv2D)              (None, 128, 128, 16) 160         input_enc_net[0][0]              \n",
      "__________________________________________________________________________________________________\n",
      "add_84 (Add)                    (None, 128, 128, 16) 0           res2_net1[0][0]                  \n",
      "                                                                 res3_net1[0][0]                  \n",
      "__________________________________________________________________________________________________\n",
      "pool_net1 (MaxPooling2D)        (None, 64, 64, 16)   0           add_84[0][0]                     \n",
      "__________________________________________________________________________________________________\n",
      "res1_net2 (Conv2D)              (None, 64, 64, 32)   4640        pool_net1[0][0]                  \n",
      "__________________________________________________________________________________________________\n",
      "drop_net2 (SpatialDropout2D)    (None, 64, 64, 32)   0           res1_net2[0][0]                  \n",
      "__________________________________________________________________________________________________\n",
      "res2_net2 (Conv2D)              (None, 64, 64, 32)   9248        drop_net2[0][0]                  \n",
      "__________________________________________________________________________________________________\n",
      "res3_net2 (Conv2D)              (None, 64, 64, 32)   544         pool_net1[0][0]                  \n",
      "__________________________________________________________________________________________________\n",
      "add_85 (Add)                    (None, 64, 64, 32)   0           res2_net2[0][0]                  \n",
      "                                                                 res3_net2[0][0]                  \n",
      "__________________________________________________________________________________________________\n",
      "pool_net2 (MaxPooling2D)        (None, 32, 32, 32)   0           add_85[0][0]                     \n",
      "__________________________________________________________________________________________________\n",
      "res1_net3 (Conv2D)              (None, 32, 32, 64)   18496       pool_net2[0][0]                  \n",
      "__________________________________________________________________________________________________\n",
      "drop_net3 (SpatialDropout2D)    (None, 32, 32, 64)   0           res1_net3[0][0]                  \n",
      "__________________________________________________________________________________________________\n",
      "res2_net3 (Conv2D)              (None, 32, 32, 64)   36928       drop_net3[0][0]                  \n",
      "__________________________________________________________________________________________________\n",
      "res3_net3 (Conv2D)              (None, 32, 32, 64)   2112        pool_net2[0][0]                  \n",
      "__________________________________________________________________________________________________\n",
      "add_86 (Add)                    (None, 32, 32, 64)   0           res2_net3[0][0]                  \n",
      "                                                                 res3_net3[0][0]                  \n",
      "__________________________________________________________________________________________________\n",
      "pool_net3 (MaxPooling2D)        (None, 16, 16, 64)   0           add_86[0][0]                     \n",
      "__________________________________________________________________________________________________\n",
      "res1_net4 (Conv2D)              (None, 16, 16, 64)   36928       pool_net3[0][0]                  \n",
      "__________________________________________________________________________________________________\n",
      "drop_net4 (SpatialDropout2D)    (None, 16, 16, 64)   0           res1_net4[0][0]                  \n",
      "__________________________________________________________________________________________________\n",
      "res2_net4 (Conv2D)              (None, 16, 16, 64)   36928       drop_net4[0][0]                  \n",
      "__________________________________________________________________________________________________\n",
      "res3_net4 (Conv2D)              (None, 16, 16, 64)   4160        pool_net3[0][0]                  \n",
      "__________________________________________________________________________________________________\n",
      "add_87 (Add)                    (None, 16, 16, 64)   0           res2_net4[0][0]                  \n",
      "                                                                 res3_net4[0][0]                  \n",
      "__________________________________________________________________________________________________\n",
      "res1_net5 (Conv2D)              (None, 16, 16, 64)   36928       add_87[0][0]                     \n",
      "__________________________________________________________________________________________________\n",
      "drop_net5 (SpatialDropout2D)    (None, 16, 16, 64)   0           res1_net5[0][0]                  \n",
      "__________________________________________________________________________________________________\n",
      "res2_net5 (Conv2D)              (None, 16, 16, 64)   36928       drop_net5[0][0]                  \n",
      "__________________________________________________________________________________________________\n",
      "res3_net5 (Conv2D)              (None, 16, 16, 64)   4160        add_87[0][0]                     \n",
      "__________________________________________________________________________________________________\n",
      "add_88 (Add)                    (None, 16, 16, 64)   0           res2_net5[0][0]                  \n",
      "                                                                 res3_net5[0][0]                  \n",
      "__________________________________________________________________________________________________\n",
      "res1_net6 (Conv2D)              (None, 16, 16, 64)   36928       add_88[0][0]                     \n",
      "__________________________________________________________________________________________________\n",
      "drop_net6 (SpatialDropout2D)    (None, 16, 16, 64)   0           res1_net6[0][0]                  \n",
      "__________________________________________________________________________________________________\n",
      "res2_net6 (Conv2D)              (None, 16, 16, 64)   36928       drop_net6[0][0]                  \n",
      "__________________________________________________________________________________________________\n",
      "res3_net6 (Conv2D)              (None, 16, 16, 64)   4160        add_88[0][0]                     \n",
      "__________________________________________________________________________________________________\n",
      "add_89 (Add)                    (None, 16, 16, 64)   0           res2_net6[0][0]                  \n",
      "                                                                 res3_net6[0][0]                  \n",
      "__________________________________________________________________________________________________\n",
      "up_sampling2d_42 (UpSampling2D) (None, 32, 32, 64)   0           add_89[0][0]                     \n",
      "__________________________________________________________________________________________________\n",
      "upsampling_net3 (Conv2D)        (None, 32, 32, 64)   36928       up_sampling2d_42[0][0]           \n",
      "__________________________________________________________________________________________________\n",
      "spatial_dropout2d_42 (SpatialDr (None, 32, 32, 64)   0           upsampling_net3[0][0]            \n",
      "__________________________________________________________________________________________________\n",
      "concatenate3 (Concatenate)      (None, 32, 32, 128)  0           add_86[0][0]                     \n",
      "                                                                 spatial_dropout2d_42[0][0]       \n",
      "__________________________________________________________________________________________________\n",
      "up_sampling2d_43 (UpSampling2D) (None, 64, 64, 128)  0           concatenate3[0][0]               \n",
      "__________________________________________________________________________________________________\n",
      "upsampling_net2 (Conv2D)        (None, 64, 64, 32)   36896       up_sampling2d_43[0][0]           \n",
      "__________________________________________________________________________________________________\n",
      "spatial_dropout2d_43 (SpatialDr (None, 64, 64, 32)   0           upsampling_net2[0][0]            \n",
      "__________________________________________________________________________________________________\n",
      "concatenate2 (Concatenate)      (None, 64, 64, 64)   0           add_85[0][0]                     \n",
      "                                                                 spatial_dropout2d_43[0][0]       \n",
      "__________________________________________________________________________________________________\n",
      "up_sampling2d_44 (UpSampling2D) (None, 128, 128, 64) 0           concatenate2[0][0]               \n",
      "__________________________________________________________________________________________________\n",
      "upsampling_net1 (Conv2D)        (None, 128, 128, 16) 9232        up_sampling2d_44[0][0]           \n",
      "__________________________________________________________________________________________________\n",
      "spatial_dropout2d_44 (SpatialDr (None, 128, 128, 16) 0           upsampling_net1[0][0]            \n",
      "__________________________________________________________________________________________________\n",
      "concatenate1 (Concatenate)      (None, 128, 128, 32) 0           add_84[0][0]                     \n",
      "                                                                 spatial_dropout2d_44[0][0]       \n",
      "__________________________________________________________________________________________________\n",
      "output (Conv2D)                 (None, 128, 128, 2)  66          concatenate1[0][0]               \n",
      "__________________________________________________________________________________________________\n",
      "dirichlet_layer_14 (DirichletLa (None, 128, 128, 2)  0           output[0][0]                     \n",
      "==================================================================================================\n",
      "Total params: 392,930\n",
      "Trainable params: 392,930\n",
      "Non-trainable params: 0\n",
      "__________________________________________________________________________________________________\n",
      "Epoch: 1\n",
      "Anneling Coeficient [1.]\n",
      "K.int_shape(mse) (None, 128, 128, 1)\n",
      "K.int_shape(mask) (None, None, None, 1)\n",
      "K.int_shape(E) (None, 128, 128, 2)\n",
      "K.int_shape(y_truth) (None, None, None, None)\n",
      "K.int_shape(mse) (None, 128, 128, 1)\n",
      "K.int_shape(mask) (None, None, None, 1)\n",
      "K.int_shape(E) (None, 128, 128, 2)\n",
      "K.int_shape(y_truth) (None, None, None, None)\n",
      "155/155 [==============================] - ETA: 0s - loss: 0.2930 - accuracy: 0.3592K.int_shape(mse) (None, 128, 128, 1)\n",
      "K.int_shape(mask) (None, None, None, 1)\n",
      "K.int_shape(E) (None, 128, 128, 2)\n",
      "K.int_shape(y_truth) (None, None, None, None)\n",
      "155/155 [==============================] - 9s 45ms/step - loss: 0.2930 - accuracy: 0.3592 - val_loss: 0.2708 - val_accuracy: 0.3435\n",
      "\n",
      "Epoch 00001: val_loss improved from inf to 0.27080, saving model to D:/Jorge/datasets/deforestation/experiments/MS/exp41/models\\resunet_14.h5\n",
      "New best val loss. Val loss: 0.2708. Early stop count: 0\n",
      "Epoch: 2\n",
      "Anneling Coeficient [0.1]\n",
      "155/155 [==============================] - 7s 43ms/step - loss: 0.2910 - accuracy: 0.3711 - val_loss: 0.2733 - val_accuracy: 0.3511\n",
      "\n",
      "Epoch 00001: val_loss did not improve from 0.27080\n",
      "Early stop count: 1\n",
      "Epoch: 3\n",
      "Anneling Coeficient [0.2]\n",
      "155/155 [==============================] - 7s 43ms/step - loss: 0.2910 - accuracy: 0.3714 - val_loss: 0.2678 - val_accuracy: 0.3365\n",
      "\n",
      "Epoch 00001: val_loss improved from 0.27080 to 0.26780, saving model to D:/Jorge/datasets/deforestation/experiments/MS/exp41/models\\resunet_14.h5\n",
      "New best val loss. Val loss: 0.2678. Early stop count: 0\n",
      "Epoch: 4\n",
      "Anneling Coeficient [0.3]\n",
      "155/155 [==============================] - 7s 42ms/step - loss: 0.2911 - accuracy: 0.3720 - val_loss: 0.2672 - val_accuracy: 0.3308\n",
      "\n",
      "Epoch 00001: val_loss improved from 0.26780 to 0.26716, saving model to D:/Jorge/datasets/deforestation/experiments/MS/exp41/models\\resunet_14.h5\n",
      "New best val loss. Val loss: 0.26716. Early stop count: 0\n",
      "Epoch: 5\n",
      "Anneling Coeficient [0.4]\n",
      "155/155 [==============================] - 7s 42ms/step - loss: 0.2911 - accuracy: 0.3724 - val_loss: 0.2699 - val_accuracy: 0.3394\n",
      "\n",
      "Epoch 00001: val_loss did not improve from 0.26716\n",
      "Early stop count: 1\n",
      "Epoch: 6\n",
      "Anneling Coeficient [0.5]\n",
      "155/155 [==============================] - 7s 42ms/step - loss: 0.2910 - accuracy: 0.3721 - val_loss: 0.2641 - val_accuracy: 0.3237\n",
      "\n",
      "Epoch 00001: val_loss improved from 0.26716 to 0.26412, saving model to D:/Jorge/datasets/deforestation/experiments/MS/exp41/models\\resunet_14.h5\n",
      "New best val loss. Val loss: 0.26412. Early stop count: 0\n",
      "Epoch: 7\n",
      "Anneling Coeficient [0.6]\n",
      "155/155 [==============================] - 7s 43ms/step - loss: 0.2910 - accuracy: 0.3719 - val_loss: 0.2559 - val_accuracy: 0.3028\n",
      "\n",
      "Epoch 00001: val_loss improved from 0.26412 to 0.25592, saving model to D:/Jorge/datasets/deforestation/experiments/MS/exp41/models\\resunet_14.h5\n",
      "New best val loss. Val loss: 0.25592. Early stop count: 0\n",
      "Epoch: 8\n",
      "Anneling Coeficient [0.7]\n",
      "155/155 [==============================] - 7s 43ms/step - loss: 0.2593 - accuracy: 0.3718 - val_loss: 0.2248 - val_accuracy: 0.3176\n",
      "\n",
      "Epoch 00001: val_loss improved from 0.25592 to 0.22484, saving model to D:/Jorge/datasets/deforestation/experiments/MS/exp41/models\\resunet_14.h5\n",
      "New best val loss. Val loss: 0.22484. Early stop count: 0\n",
      "Epoch: 9\n",
      "Anneling Coeficient [0.8]\n",
      "155/155 [==============================] - 7s 43ms/step - loss: 0.2325 - accuracy: 0.3722 - val_loss: 0.2229 - val_accuracy: 0.3412\n",
      "\n",
      "Epoch 00001: val_loss improved from 0.22484 to 0.22293, saving model to D:/Jorge/datasets/deforestation/experiments/MS/exp41/models\\resunet_14.h5\n",
      "New best val loss. Val loss: 0.22293. Early stop count: 0\n",
      "Epoch: 10\n",
      "Anneling Coeficient [0.9]\n",
      "155/155 [==============================] - 7s 43ms/step - loss: 0.2247 - accuracy: 0.3715 - val_loss: 0.2287 - val_accuracy: 0.3437\n",
      "\n",
      "Epoch 00001: val_loss did not improve from 0.22293\n",
      "Early stop count: 1\n",
      "Epoch: 11\n",
      "Anneling Coeficient [1.]\n",
      "155/155 [==============================] - 7s 43ms/step - loss: 0.2194 - accuracy: 0.3722 - val_loss: 0.2240 - val_accuracy: 0.3537\n",
      "\n",
      "Epoch 00001: val_loss did not improve from 0.22293\n",
      "Early stop count: 2\n",
      "Epoch: 12\n",
      "Anneling Coeficient [1.]\n",
      "155/155 [==============================] - 7s 43ms/step - loss: 0.2129 - accuracy: 0.4141 - val_loss: 0.2278 - val_accuracy: 0.3574\n",
      "\n",
      "Epoch 00001: val_loss did not improve from 0.22293\n",
      "Early stop count: 3\n",
      "Epoch: 13\n",
      "Anneling Coeficient [1.]\n",
      "155/155 [==============================] - 7s 42ms/step - loss: 0.2066 - accuracy: 0.4309 - val_loss: 0.2300 - val_accuracy: 0.3524\n",
      "\n",
      "Epoch 00001: val_loss did not improve from 0.22293\n",
      "Early stop count: 4\n",
      "Epoch: 14\n",
      "Anneling Coeficient [1.]\n",
      "155/155 [==============================] - 7s 43ms/step - loss: 0.2025 - accuracy: 0.4332 - val_loss: 0.2209 - val_accuracy: 0.3649\n",
      "\n",
      "Epoch 00001: val_loss improved from 0.22293 to 0.22092, saving model to D:/Jorge/datasets/deforestation/experiments/MS/exp41/models\\resunet_14.h5\n",
      "New best val loss. Val loss: 0.22092. Early stop count: 0\n",
      "Epoch: 15\n",
      "Anneling Coeficient [1.]\n",
      "155/155 [==============================] - 7s 44ms/step - loss: 0.1986 - accuracy: 0.4342 - val_loss: 0.2193 - val_accuracy: 0.3518\n",
      "\n",
      "Epoch 00001: val_loss improved from 0.22092 to 0.21929, saving model to D:/Jorge/datasets/deforestation/experiments/MS/exp41/models\\resunet_14.h5\n",
      "New best val loss. Val loss: 0.21929. Early stop count: 0\n",
      "Epoch: 16\n",
      "Anneling Coeficient [1.]\n",
      "155/155 [==============================] - 7s 43ms/step - loss: 0.1977 - accuracy: 0.4343 - val_loss: 0.2065 - val_accuracy: 0.3346\n",
      "\n",
      "Epoch 00001: val_loss improved from 0.21929 to 0.20651, saving model to D:/Jorge/datasets/deforestation/experiments/MS/exp41/models\\resunet_14.h5\n",
      "New best val loss. Val loss: 0.20651. Early stop count: 0\n",
      "Epoch: 17\n",
      "Anneling Coeficient [1.]\n",
      "155/155 [==============================] - 7s 43ms/step - loss: 0.1947 - accuracy: 0.4363 - val_loss: 0.2053 - val_accuracy: 0.3467\n",
      "\n",
      "Epoch 00001: val_loss improved from 0.20651 to 0.20535, saving model to D:/Jorge/datasets/deforestation/experiments/MS/exp41/models\\resunet_14.h5\n",
      "New best val loss. Val loss: 0.20535. Early stop count: 0\n",
      "Epoch: 18\n",
      "Anneling Coeficient [1.]\n",
      "155/155 [==============================] - 7s 43ms/step - loss: 0.1935 - accuracy: 0.4371 - val_loss: 0.2216 - val_accuracy: 0.3677\n",
      "\n",
      "Epoch 00001: val_loss did not improve from 0.20535\n",
      "Early stop count: 1\n",
      "Epoch: 19\n",
      "Anneling Coeficient [1.]\n",
      "155/155 [==============================] - 7s 43ms/step - loss: 0.1926 - accuracy: 0.4370 - val_loss: 0.2200 - val_accuracy: 0.3712\n",
      "\n",
      "Epoch 00001: val_loss did not improve from 0.20535\n",
      "Early stop count: 2\n",
      "Epoch: 20\n",
      "Anneling Coeficient [1.]\n",
      "155/155 [==============================] - 7s 43ms/step - loss: 0.1912 - accuracy: 0.4371 - val_loss: 0.2212 - val_accuracy: 0.3802\n",
      "\n",
      "Epoch 00001: val_loss did not improve from 0.20535\n",
      "Early stop count: 3\n",
      "Epoch: 21\n",
      "Anneling Coeficient [1.]\n",
      "155/155 [==============================] - 7s 43ms/step - loss: 0.1900 - accuracy: 0.4375 - val_loss: 0.2221 - val_accuracy: 0.3643\n",
      "\n",
      "Epoch 00001: val_loss did not improve from 0.20535\n",
      "Early stop count: 4\n",
      "Epoch: 22\n",
      "Anneling Coeficient [1.]\n",
      "155/155 [==============================] - 7s 42ms/step - loss: 0.1888 - accuracy: 0.4373 - val_loss: 0.2184 - val_accuracy: 0.3649\n",
      "\n",
      "Epoch 00001: val_loss did not improve from 0.20535\n",
      "Early stop count: 5\n",
      "Epoch: 23\n",
      "Anneling Coeficient [1.]\n",
      "155/155 [==============================] - 7s 42ms/step - loss: 0.1888 - accuracy: 0.4379 - val_loss: 0.2229 - val_accuracy: 0.3700\n",
      "\n",
      "Epoch 00001: val_loss did not improve from 0.20535\n",
      "Early stop count: 6\n",
      "Epoch: 24\n",
      "Anneling Coeficient [1.]\n",
      "155/155 [==============================] - 7s 42ms/step - loss: 0.1879 - accuracy: 0.4375 - val_loss: 0.2197 - val_accuracy: 0.3564\n",
      "\n",
      "Epoch 00001: val_loss did not improve from 0.20535\n",
      "Early stop count: 7\n",
      "Epoch: 25\n",
      "Anneling Coeficient [1.]\n",
      "155/155 [==============================] - 7s 43ms/step - loss: 0.1877 - accuracy: 0.4376 - val_loss: 0.2157 - val_accuracy: 0.3330\n",
      "\n",
      "Epoch 00001: val_loss did not improve from 0.20535\n",
      "Early stop count: 8\n",
      "Epoch: 26\n",
      "Anneling Coeficient [1.]\n",
      "155/155 [==============================] - 7s 42ms/step - loss: 0.1875 - accuracy: 0.4383 - val_loss: 0.2144 - val_accuracy: 0.3478\n",
      "\n",
      "Epoch 00001: val_loss did not improve from 0.20535\n",
      "Early stop count: 9\n",
      "Epoch: 27\n",
      "Anneling Coeficient [1.]\n",
      "155/155 [==============================] - 7s 42ms/step - loss: 0.1867 - accuracy: 0.4378 - val_loss: 0.2226 - val_accuracy: 0.3706\n",
      "\n",
      "Epoch 00001: val_loss did not improve from 0.20535\n",
      "Early stop count: 10\n",
      "Early stopping\n",
      "10 10\n",
      "Finished Training\n",
      "Training time:  183.49116587638855\n",
      "time:  15\n",
      "Model: \"model_15\"\n",
      "__________________________________________________________________________________________________\n",
      "Layer (type)                    Output Shape         Param #     Connected to                     \n",
      "==================================================================================================\n",
      "input_enc_net (InputLayer)      [(None, 128, 128, 9) 0                                            \n",
      "__________________________________________________________________________________________________\n",
      "res1_net1 (Conv2D)              (None, 128, 128, 16) 1312        input_enc_net[0][0]              \n",
      "__________________________________________________________________________________________________\n",
      "drop_net1 (SpatialDropout2D)    (None, 128, 128, 16) 0           res1_net1[0][0]                  \n",
      "__________________________________________________________________________________________________\n",
      "res2_net1 (Conv2D)              (None, 128, 128, 16) 2320        drop_net1[0][0]                  \n",
      "__________________________________________________________________________________________________\n",
      "res3_net1 (Conv2D)              (None, 128, 128, 16) 160         input_enc_net[0][0]              \n",
      "__________________________________________________________________________________________________\n",
      "add_90 (Add)                    (None, 128, 128, 16) 0           res2_net1[0][0]                  \n",
      "                                                                 res3_net1[0][0]                  \n",
      "__________________________________________________________________________________________________\n",
      "pool_net1 (MaxPooling2D)        (None, 64, 64, 16)   0           add_90[0][0]                     \n",
      "__________________________________________________________________________________________________\n",
      "res1_net2 (Conv2D)              (None, 64, 64, 32)   4640        pool_net1[0][0]                  \n",
      "__________________________________________________________________________________________________\n",
      "drop_net2 (SpatialDropout2D)    (None, 64, 64, 32)   0           res1_net2[0][0]                  \n",
      "__________________________________________________________________________________________________\n",
      "res2_net2 (Conv2D)              (None, 64, 64, 32)   9248        drop_net2[0][0]                  \n",
      "__________________________________________________________________________________________________\n",
      "res3_net2 (Conv2D)              (None, 64, 64, 32)   544         pool_net1[0][0]                  \n",
      "__________________________________________________________________________________________________\n",
      "add_91 (Add)                    (None, 64, 64, 32)   0           res2_net2[0][0]                  \n",
      "                                                                 res3_net2[0][0]                  \n",
      "__________________________________________________________________________________________________\n",
      "pool_net2 (MaxPooling2D)        (None, 32, 32, 32)   0           add_91[0][0]                     \n",
      "__________________________________________________________________________________________________\n",
      "res1_net3 (Conv2D)              (None, 32, 32, 64)   18496       pool_net2[0][0]                  \n",
      "__________________________________________________________________________________________________\n",
      "drop_net3 (SpatialDropout2D)    (None, 32, 32, 64)   0           res1_net3[0][0]                  \n",
      "__________________________________________________________________________________________________\n",
      "res2_net3 (Conv2D)              (None, 32, 32, 64)   36928       drop_net3[0][0]                  \n",
      "__________________________________________________________________________________________________\n",
      "res3_net3 (Conv2D)              (None, 32, 32, 64)   2112        pool_net2[0][0]                  \n",
      "__________________________________________________________________________________________________\n",
      "add_92 (Add)                    (None, 32, 32, 64)   0           res2_net3[0][0]                  \n",
      "                                                                 res3_net3[0][0]                  \n",
      "__________________________________________________________________________________________________\n",
      "pool_net3 (MaxPooling2D)        (None, 16, 16, 64)   0           add_92[0][0]                     \n",
      "__________________________________________________________________________________________________\n",
      "res1_net4 (Conv2D)              (None, 16, 16, 64)   36928       pool_net3[0][0]                  \n",
      "__________________________________________________________________________________________________\n",
      "drop_net4 (SpatialDropout2D)    (None, 16, 16, 64)   0           res1_net4[0][0]                  \n",
      "__________________________________________________________________________________________________\n",
      "res2_net4 (Conv2D)              (None, 16, 16, 64)   36928       drop_net4[0][0]                  \n",
      "__________________________________________________________________________________________________\n",
      "res3_net4 (Conv2D)              (None, 16, 16, 64)   4160        pool_net3[0][0]                  \n",
      "__________________________________________________________________________________________________\n",
      "add_93 (Add)                    (None, 16, 16, 64)   0           res2_net4[0][0]                  \n",
      "                                                                 res3_net4[0][0]                  \n",
      "__________________________________________________________________________________________________\n",
      "res1_net5 (Conv2D)              (None, 16, 16, 64)   36928       add_93[0][0]                     \n",
      "__________________________________________________________________________________________________\n",
      "drop_net5 (SpatialDropout2D)    (None, 16, 16, 64)   0           res1_net5[0][0]                  \n",
      "__________________________________________________________________________________________________\n",
      "res2_net5 (Conv2D)              (None, 16, 16, 64)   36928       drop_net5[0][0]                  \n",
      "__________________________________________________________________________________________________\n",
      "res3_net5 (Conv2D)              (None, 16, 16, 64)   4160        add_93[0][0]                     \n",
      "__________________________________________________________________________________________________\n",
      "add_94 (Add)                    (None, 16, 16, 64)   0           res2_net5[0][0]                  \n",
      "                                                                 res3_net5[0][0]                  \n",
      "__________________________________________________________________________________________________\n",
      "res1_net6 (Conv2D)              (None, 16, 16, 64)   36928       add_94[0][0]                     \n",
      "__________________________________________________________________________________________________\n",
      "drop_net6 (SpatialDropout2D)    (None, 16, 16, 64)   0           res1_net6[0][0]                  \n",
      "__________________________________________________________________________________________________\n",
      "res2_net6 (Conv2D)              (None, 16, 16, 64)   36928       drop_net6[0][0]                  \n",
      "__________________________________________________________________________________________________\n",
      "res3_net6 (Conv2D)              (None, 16, 16, 64)   4160        add_94[0][0]                     \n",
      "__________________________________________________________________________________________________\n",
      "add_95 (Add)                    (None, 16, 16, 64)   0           res2_net6[0][0]                  \n",
      "                                                                 res3_net6[0][0]                  \n",
      "__________________________________________________________________________________________________\n",
      "up_sampling2d_45 (UpSampling2D) (None, 32, 32, 64)   0           add_95[0][0]                     \n",
      "__________________________________________________________________________________________________\n",
      "upsampling_net3 (Conv2D)        (None, 32, 32, 64)   36928       up_sampling2d_45[0][0]           \n",
      "__________________________________________________________________________________________________\n",
      "spatial_dropout2d_45 (SpatialDr (None, 32, 32, 64)   0           upsampling_net3[0][0]            \n",
      "__________________________________________________________________________________________________\n",
      "concatenate3 (Concatenate)      (None, 32, 32, 128)  0           add_92[0][0]                     \n",
      "                                                                 spatial_dropout2d_45[0][0]       \n",
      "__________________________________________________________________________________________________\n",
      "up_sampling2d_46 (UpSampling2D) (None, 64, 64, 128)  0           concatenate3[0][0]               \n",
      "__________________________________________________________________________________________________\n",
      "upsampling_net2 (Conv2D)        (None, 64, 64, 32)   36896       up_sampling2d_46[0][0]           \n",
      "__________________________________________________________________________________________________\n",
      "spatial_dropout2d_46 (SpatialDr (None, 64, 64, 32)   0           upsampling_net2[0][0]            \n",
      "__________________________________________________________________________________________________\n",
      "concatenate2 (Concatenate)      (None, 64, 64, 64)   0           add_91[0][0]                     \n",
      "                                                                 spatial_dropout2d_46[0][0]       \n",
      "__________________________________________________________________________________________________\n",
      "up_sampling2d_47 (UpSampling2D) (None, 128, 128, 64) 0           concatenate2[0][0]               \n",
      "__________________________________________________________________________________________________\n",
      "upsampling_net1 (Conv2D)        (None, 128, 128, 16) 9232        up_sampling2d_47[0][0]           \n",
      "__________________________________________________________________________________________________\n",
      "spatial_dropout2d_47 (SpatialDr (None, 128, 128, 16) 0           upsampling_net1[0][0]            \n",
      "__________________________________________________________________________________________________\n",
      "concatenate1 (Concatenate)      (None, 128, 128, 32) 0           add_90[0][0]                     \n",
      "                                                                 spatial_dropout2d_47[0][0]       \n",
      "__________________________________________________________________________________________________\n",
      "output (Conv2D)                 (None, 128, 128, 2)  66          concatenate1[0][0]               \n",
      "__________________________________________________________________________________________________\n",
      "dirichlet_layer_15 (DirichletLa (None, 128, 128, 2)  0           output[0][0]                     \n",
      "==================================================================================================\n",
      "Total params: 392,930\n",
      "Trainable params: 392,930\n",
      "Non-trainable params: 0\n",
      "__________________________________________________________________________________________________\n",
      "Epoch: 1\n",
      "Anneling Coeficient [1.]\n",
      "K.int_shape(mse) (None, 128, 128, 1)\n",
      "K.int_shape(mask) (None, None, None, 1)\n",
      "K.int_shape(E) (None, 128, 128, 2)\n",
      "K.int_shape(y_truth) (None, None, None, None)\n",
      "K.int_shape(mse) (None, 128, 128, 1)\n",
      "K.int_shape(mask) (None, None, None, 1)\n",
      "K.int_shape(E) (None, 128, 128, 2)\n",
      "K.int_shape(y_truth) (None, None, None, None)\n",
      "155/155 [==============================] - ETA: 0s - loss: 0.2766 - accuracy: 0.3693K.int_shape(mse) (None, 128, 128, 1)\n",
      "K.int_shape(mask) (None, None, None, 1)\n",
      "K.int_shape(E) (None, 128, 128, 2)\n",
      "K.int_shape(y_truth) (None, None, None, None)\n",
      "155/155 [==============================] - 9s 46ms/step - loss: 0.2766 - accuracy: 0.3693 - val_loss: 0.2471 - val_accuracy: 0.3425\n",
      "\n",
      "Epoch 00001: val_loss improved from inf to 0.24707, saving model to D:/Jorge/datasets/deforestation/experiments/MS/exp41/models\\resunet_15.h5\n",
      "New best val loss. Val loss: 0.24707. Early stop count: 0\n",
      "Epoch: 2\n",
      "Anneling Coeficient [0.1]\n",
      "155/155 [==============================] - 7s 43ms/step - loss: 0.2364 - accuracy: 0.3724 - val_loss: 0.2274 - val_accuracy: 0.3516\n",
      "\n",
      "Epoch 00001: val_loss improved from 0.24707 to 0.22738, saving model to D:/Jorge/datasets/deforestation/experiments/MS/exp41/models\\resunet_15.h5\n",
      "New best val loss. Val loss: 0.22738. Early stop count: 0\n",
      "Epoch: 3\n",
      "Anneling Coeficient [0.2]\n",
      "155/155 [==============================] - 7s 43ms/step - loss: 0.2246 - accuracy: 0.3724 - val_loss: 0.2169 - val_accuracy: 0.3373\n",
      "\n",
      "Epoch 00001: val_loss improved from 0.22738 to 0.21692, saving model to D:/Jorge/datasets/deforestation/experiments/MS/exp41/models\\resunet_15.h5\n",
      "New best val loss. Val loss: 0.21692. Early stop count: 0\n",
      "Epoch: 4\n",
      "Anneling Coeficient [0.3]\n",
      "155/155 [==============================] - 7s 45ms/step - loss: 0.2183 - accuracy: 0.3744 - val_loss: 0.2093 - val_accuracy: 0.3327\n",
      "\n",
      "Epoch 00001: val_loss improved from 0.21692 to 0.20928, saving model to D:/Jorge/datasets/deforestation/experiments/MS/exp41/models\\resunet_15.h5\n",
      "New best val loss. Val loss: 0.20928. Early stop count: 0\n",
      "Epoch: 5\n",
      "Anneling Coeficient [0.4]\n",
      "155/155 [==============================] - 7s 43ms/step - loss: 0.2129 - accuracy: 0.4034 - val_loss: 0.2128 - val_accuracy: 0.3650\n",
      "\n",
      "Epoch 00001: val_loss did not improve from 0.20928\n",
      "Early stop count: 1\n",
      "Epoch: 6\n",
      "Anneling Coeficient [0.5]\n",
      "155/155 [==============================] - 7s 43ms/step - loss: 0.2076 - accuracy: 0.4277 - val_loss: 0.2069 - val_accuracy: 0.3508\n",
      "\n",
      "Epoch 00001: val_loss improved from 0.20928 to 0.20688, saving model to D:/Jorge/datasets/deforestation/experiments/MS/exp41/models\\resunet_15.h5\n",
      "New best val loss. Val loss: 0.20688. Early stop count: 0\n",
      "Epoch: 7\n",
      "Anneling Coeficient [0.6]\n",
      "155/155 [==============================] - 7s 43ms/step - loss: 0.2036 - accuracy: 0.4306 - val_loss: 0.2020 - val_accuracy: 0.3319\n",
      "\n",
      "Epoch 00001: val_loss improved from 0.20688 to 0.20199, saving model to D:/Jorge/datasets/deforestation/experiments/MS/exp41/models\\resunet_15.h5\n",
      "New best val loss. Val loss: 0.20199. Early stop count: 0\n",
      "Epoch: 8\n",
      "Anneling Coeficient [0.7]\n",
      "155/155 [==============================] - 7s 43ms/step - loss: 0.2009 - accuracy: 0.4328 - val_loss: 0.1970 - val_accuracy: 0.3443\n",
      "\n",
      "Epoch 00001: val_loss improved from 0.20199 to 0.19697, saving model to D:/Jorge/datasets/deforestation/experiments/MS/exp41/models\\resunet_15.h5\n",
      "New best val loss. Val loss: 0.19697. Early stop count: 0\n",
      "Epoch: 9\n",
      "Anneling Coeficient [0.8]\n",
      "155/155 [==============================] - 7s 43ms/step - loss: 0.1997 - accuracy: 0.4341 - val_loss: 0.2051 - val_accuracy: 0.3660\n",
      "\n",
      "Epoch 00001: val_loss did not improve from 0.19697\n",
      "Early stop count: 1\n",
      "Epoch: 10\n",
      "Anneling Coeficient [0.9]\n",
      "155/155 [==============================] - 7s 44ms/step - loss: 0.1968 - accuracy: 0.4353 - val_loss: 0.2099 - val_accuracy: 0.3714\n",
      "\n",
      "Epoch 00001: val_loss did not improve from 0.19697\n",
      "Early stop count: 2\n",
      "Epoch: 11\n",
      "Anneling Coeficient [1.]\n",
      "155/155 [==============================] - 7s 44ms/step - loss: 0.1944 - accuracy: 0.4371 - val_loss: 0.2136 - val_accuracy: 0.3761\n",
      "\n",
      "Epoch 00001: val_loss did not improve from 0.19697\n",
      "Early stop count: 3\n",
      "Epoch: 12\n",
      "Anneling Coeficient [1.]\n",
      "155/155 [==============================] - 7s 43ms/step - loss: 0.1932 - accuracy: 0.4367 - val_loss: 0.2028 - val_accuracy: 0.3625\n",
      "\n",
      "Epoch 00001: val_loss did not improve from 0.19697\n",
      "Early stop count: 4\n",
      "Epoch: 13\n",
      "Anneling Coeficient [1.]\n",
      "155/155 [==============================] - 7s 43ms/step - loss: 0.1911 - accuracy: 0.4372 - val_loss: 0.2052 - val_accuracy: 0.3597\n",
      "\n",
      "Epoch 00001: val_loss did not improve from 0.19697\n",
      "Early stop count: 5\n",
      "Epoch: 14\n",
      "Anneling Coeficient [1.]\n",
      "155/155 [==============================] - 7s 43ms/step - loss: 0.1902 - accuracy: 0.4379 - val_loss: 0.2109 - val_accuracy: 0.3696\n",
      "\n",
      "Epoch 00001: val_loss did not improve from 0.19697\n",
      "Early stop count: 6\n",
      "Epoch: 15\n",
      "Anneling Coeficient [1.]\n",
      "155/155 [==============================] - 7s 43ms/step - loss: 0.1894 - accuracy: 0.4379 - val_loss: 0.2125 - val_accuracy: 0.3561\n",
      "\n",
      "Epoch 00001: val_loss did not improve from 0.19697\n",
      "Early stop count: 7\n",
      "Epoch: 16\n",
      "Anneling Coeficient [1.]\n",
      "155/155 [==============================] - 7s 44ms/step - loss: 0.1882 - accuracy: 0.4386 - val_loss: 0.2007 - val_accuracy: 0.3369\n",
      "\n",
      "Epoch 00001: val_loss did not improve from 0.19697\n",
      "Early stop count: 8\n",
      "Epoch: 17\n",
      "Anneling Coeficient [1.]\n",
      "155/155 [==============================] - 7s 44ms/step - loss: 0.1872 - accuracy: 0.4386 - val_loss: 0.2049 - val_accuracy: 0.3501\n",
      "\n",
      "Epoch 00001: val_loss did not improve from 0.19697\n",
      "Early stop count: 9\n",
      "Epoch: 18\n",
      "Anneling Coeficient [1.]\n",
      "155/155 [==============================] - 7s 43ms/step - loss: 0.1868 - accuracy: 0.4392 - val_loss: 0.2132 - val_accuracy: 0.3654\n",
      "\n",
      "Epoch 00001: val_loss did not improve from 0.19697\n",
      "Early stop count: 10\n",
      "Early stopping\n",
      "10 10\n",
      "Finished Training\n",
      "Training time:  125.02438831329346\n",
      "time:  16\n",
      "Model: \"model_16\"\n",
      "__________________________________________________________________________________________________\n",
      "Layer (type)                    Output Shape         Param #     Connected to                     \n",
      "==================================================================================================\n",
      "input_enc_net (InputLayer)      [(None, 128, 128, 9) 0                                            \n",
      "__________________________________________________________________________________________________\n",
      "res1_net1 (Conv2D)              (None, 128, 128, 16) 1312        input_enc_net[0][0]              \n",
      "__________________________________________________________________________________________________\n",
      "drop_net1 (SpatialDropout2D)    (None, 128, 128, 16) 0           res1_net1[0][0]                  \n",
      "__________________________________________________________________________________________________\n",
      "res2_net1 (Conv2D)              (None, 128, 128, 16) 2320        drop_net1[0][0]                  \n",
      "__________________________________________________________________________________________________\n",
      "res3_net1 (Conv2D)              (None, 128, 128, 16) 160         input_enc_net[0][0]              \n",
      "__________________________________________________________________________________________________\n",
      "add_96 (Add)                    (None, 128, 128, 16) 0           res2_net1[0][0]                  \n",
      "                                                                 res3_net1[0][0]                  \n",
      "__________________________________________________________________________________________________\n",
      "pool_net1 (MaxPooling2D)        (None, 64, 64, 16)   0           add_96[0][0]                     \n",
      "__________________________________________________________________________________________________\n",
      "res1_net2 (Conv2D)              (None, 64, 64, 32)   4640        pool_net1[0][0]                  \n",
      "__________________________________________________________________________________________________\n",
      "drop_net2 (SpatialDropout2D)    (None, 64, 64, 32)   0           res1_net2[0][0]                  \n",
      "__________________________________________________________________________________________________\n",
      "res2_net2 (Conv2D)              (None, 64, 64, 32)   9248        drop_net2[0][0]                  \n",
      "__________________________________________________________________________________________________\n",
      "res3_net2 (Conv2D)              (None, 64, 64, 32)   544         pool_net1[0][0]                  \n",
      "__________________________________________________________________________________________________\n",
      "add_97 (Add)                    (None, 64, 64, 32)   0           res2_net2[0][0]                  \n",
      "                                                                 res3_net2[0][0]                  \n",
      "__________________________________________________________________________________________________\n",
      "pool_net2 (MaxPooling2D)        (None, 32, 32, 32)   0           add_97[0][0]                     \n",
      "__________________________________________________________________________________________________\n",
      "res1_net3 (Conv2D)              (None, 32, 32, 64)   18496       pool_net2[0][0]                  \n",
      "__________________________________________________________________________________________________\n",
      "drop_net3 (SpatialDropout2D)    (None, 32, 32, 64)   0           res1_net3[0][0]                  \n",
      "__________________________________________________________________________________________________\n",
      "res2_net3 (Conv2D)              (None, 32, 32, 64)   36928       drop_net3[0][0]                  \n",
      "__________________________________________________________________________________________________\n",
      "res3_net3 (Conv2D)              (None, 32, 32, 64)   2112        pool_net2[0][0]                  \n",
      "__________________________________________________________________________________________________\n",
      "add_98 (Add)                    (None, 32, 32, 64)   0           res2_net3[0][0]                  \n",
      "                                                                 res3_net3[0][0]                  \n",
      "__________________________________________________________________________________________________\n",
      "pool_net3 (MaxPooling2D)        (None, 16, 16, 64)   0           add_98[0][0]                     \n",
      "__________________________________________________________________________________________________\n",
      "res1_net4 (Conv2D)              (None, 16, 16, 64)   36928       pool_net3[0][0]                  \n",
      "__________________________________________________________________________________________________\n",
      "drop_net4 (SpatialDropout2D)    (None, 16, 16, 64)   0           res1_net4[0][0]                  \n",
      "__________________________________________________________________________________________________\n",
      "res2_net4 (Conv2D)              (None, 16, 16, 64)   36928       drop_net4[0][0]                  \n",
      "__________________________________________________________________________________________________\n",
      "res3_net4 (Conv2D)              (None, 16, 16, 64)   4160        pool_net3[0][0]                  \n",
      "__________________________________________________________________________________________________\n",
      "add_99 (Add)                    (None, 16, 16, 64)   0           res2_net4[0][0]                  \n",
      "                                                                 res3_net4[0][0]                  \n",
      "__________________________________________________________________________________________________\n",
      "res1_net5 (Conv2D)              (None, 16, 16, 64)   36928       add_99[0][0]                     \n",
      "__________________________________________________________________________________________________\n",
      "drop_net5 (SpatialDropout2D)    (None, 16, 16, 64)   0           res1_net5[0][0]                  \n",
      "__________________________________________________________________________________________________\n",
      "res2_net5 (Conv2D)              (None, 16, 16, 64)   36928       drop_net5[0][0]                  \n",
      "__________________________________________________________________________________________________\n",
      "res3_net5 (Conv2D)              (None, 16, 16, 64)   4160        add_99[0][0]                     \n",
      "__________________________________________________________________________________________________\n",
      "add_100 (Add)                   (None, 16, 16, 64)   0           res2_net5[0][0]                  \n",
      "                                                                 res3_net5[0][0]                  \n",
      "__________________________________________________________________________________________________\n",
      "res1_net6 (Conv2D)              (None, 16, 16, 64)   36928       add_100[0][0]                    \n",
      "__________________________________________________________________________________________________\n",
      "drop_net6 (SpatialDropout2D)    (None, 16, 16, 64)   0           res1_net6[0][0]                  \n",
      "__________________________________________________________________________________________________\n",
      "res2_net6 (Conv2D)              (None, 16, 16, 64)   36928       drop_net6[0][0]                  \n",
      "__________________________________________________________________________________________________\n",
      "res3_net6 (Conv2D)              (None, 16, 16, 64)   4160        add_100[0][0]                    \n",
      "__________________________________________________________________________________________________\n",
      "add_101 (Add)                   (None, 16, 16, 64)   0           res2_net6[0][0]                  \n",
      "                                                                 res3_net6[0][0]                  \n",
      "__________________________________________________________________________________________________\n",
      "up_sampling2d_48 (UpSampling2D) (None, 32, 32, 64)   0           add_101[0][0]                    \n",
      "__________________________________________________________________________________________________\n",
      "upsampling_net3 (Conv2D)        (None, 32, 32, 64)   36928       up_sampling2d_48[0][0]           \n",
      "__________________________________________________________________________________________________\n",
      "spatial_dropout2d_48 (SpatialDr (None, 32, 32, 64)   0           upsampling_net3[0][0]            \n",
      "__________________________________________________________________________________________________\n",
      "concatenate3 (Concatenate)      (None, 32, 32, 128)  0           add_98[0][0]                     \n",
      "                                                                 spatial_dropout2d_48[0][0]       \n",
      "__________________________________________________________________________________________________\n",
      "up_sampling2d_49 (UpSampling2D) (None, 64, 64, 128)  0           concatenate3[0][0]               \n",
      "__________________________________________________________________________________________________\n",
      "upsampling_net2 (Conv2D)        (None, 64, 64, 32)   36896       up_sampling2d_49[0][0]           \n",
      "__________________________________________________________________________________________________\n",
      "spatial_dropout2d_49 (SpatialDr (None, 64, 64, 32)   0           upsampling_net2[0][0]            \n",
      "__________________________________________________________________________________________________\n",
      "concatenate2 (Concatenate)      (None, 64, 64, 64)   0           add_97[0][0]                     \n",
      "                                                                 spatial_dropout2d_49[0][0]       \n",
      "__________________________________________________________________________________________________\n",
      "up_sampling2d_50 (UpSampling2D) (None, 128, 128, 64) 0           concatenate2[0][0]               \n",
      "__________________________________________________________________________________________________\n",
      "upsampling_net1 (Conv2D)        (None, 128, 128, 16) 9232        up_sampling2d_50[0][0]           \n",
      "__________________________________________________________________________________________________\n",
      "spatial_dropout2d_50 (SpatialDr (None, 128, 128, 16) 0           upsampling_net1[0][0]            \n",
      "__________________________________________________________________________________________________\n",
      "concatenate1 (Concatenate)      (None, 128, 128, 32) 0           add_96[0][0]                     \n",
      "                                                                 spatial_dropout2d_50[0][0]       \n",
      "__________________________________________________________________________________________________\n",
      "output (Conv2D)                 (None, 128, 128, 2)  66          concatenate1[0][0]               \n",
      "__________________________________________________________________________________________________\n",
      "dirichlet_layer_16 (DirichletLa (None, 128, 128, 2)  0           output[0][0]                     \n",
      "==================================================================================================\n",
      "Total params: 392,930\n",
      "Trainable params: 392,930\n",
      "Non-trainable params: 0\n",
      "__________________________________________________________________________________________________\n",
      "Epoch: 1\n",
      "Anneling Coeficient [1.]\n",
      "K.int_shape(mse) (None, 128, 128, 1)\n",
      "K.int_shape(mask) (None, None, None, 1)\n",
      "K.int_shape(E) (None, 128, 128, 2)\n",
      "K.int_shape(y_truth) (None, None, None, None)\n",
      "K.int_shape(mse) (None, 128, 128, 1)\n",
      "K.int_shape(mask) (None, None, None, 1)\n",
      "K.int_shape(E) (None, 128, 128, 2)\n",
      "K.int_shape(y_truth) (None, None, None, None)\n",
      "155/155 [==============================] - ETA: 0s - loss: 0.2971 - accuracy: 0.3679K.int_shape(mse) (None, 128, 128, 1)\n",
      "K.int_shape(mask) (None, None, None, 1)\n",
      "K.int_shape(E) (None, 128, 128, 2)\n",
      "K.int_shape(y_truth) (None, None, None, None)\n",
      "155/155 [==============================] - 9s 46ms/step - loss: 0.2971 - accuracy: 0.3679 - val_loss: 0.2708 - val_accuracy: 0.3429\n",
      "\n",
      "Epoch 00001: val_loss improved from inf to 0.27084, saving model to D:/Jorge/datasets/deforestation/experiments/MS/exp41/models\\resunet_16.h5\n",
      "New best val loss. Val loss: 0.27084. Early stop count: 0\n",
      "Epoch: 2\n",
      "Anneling Coeficient [0.1]\n",
      "155/155 [==============================] - 7s 43ms/step - loss: 0.2912 - accuracy: 0.3714 - val_loss: 0.2735 - val_accuracy: 0.3507\n",
      "\n",
      "Epoch 00001: val_loss did not improve from 0.27084\n",
      "Early stop count: 1\n",
      "Epoch: 3\n",
      "Anneling Coeficient [0.2]\n",
      "155/155 [==============================] - 7s 43ms/step - loss: 0.2912 - accuracy: 0.3721 - val_loss: 0.2678 - val_accuracy: 0.3362\n",
      "\n",
      "Epoch 00001: val_loss improved from 0.27084 to 0.26785, saving model to D:/Jorge/datasets/deforestation/experiments/MS/exp41/models\\resunet_16.h5\n",
      "New best val loss. Val loss: 0.26785. Early stop count: 0\n",
      "Epoch: 4\n",
      "Anneling Coeficient [0.3]\n",
      "155/155 [==============================] - 7s 42ms/step - loss: 0.2912 - accuracy: 0.3718 - val_loss: 0.2675 - val_accuracy: 0.3307\n",
      "\n",
      "Epoch 00001: val_loss improved from 0.26785 to 0.26749, saving model to D:/Jorge/datasets/deforestation/experiments/MS/exp41/models\\resunet_16.h5\n",
      "New best val loss. Val loss: 0.26749. Early stop count: 0\n",
      "Epoch: 5\n",
      "Anneling Coeficient [0.4]\n",
      "155/155 [==============================] - 7s 43ms/step - loss: 0.2911 - accuracy: 0.3719 - val_loss: 0.2699 - val_accuracy: 0.3394\n",
      "\n",
      "Epoch 00001: val_loss did not improve from 0.26749\n",
      "Early stop count: 1\n",
      "Epoch: 6\n",
      "Anneling Coeficient [0.5]\n",
      "155/155 [==============================] - 7s 43ms/step - loss: 0.2911 - accuracy: 0.3720 - val_loss: 0.2641 - val_accuracy: 0.3236\n",
      "\n",
      "Epoch 00001: val_loss improved from 0.26749 to 0.26414, saving model to D:/Jorge/datasets/deforestation/experiments/MS/exp41/models\\resunet_16.h5\n",
      "New best val loss. Val loss: 0.26414. Early stop count: 0\n",
      "Epoch: 7\n",
      "Anneling Coeficient [0.6]\n",
      "155/155 [==============================] - 7s 43ms/step - loss: 0.2911 - accuracy: 0.3718 - val_loss: 0.2561 - val_accuracy: 0.3025\n",
      "\n",
      "Epoch 00001: val_loss improved from 0.26414 to 0.25612, saving model to D:/Jorge/datasets/deforestation/experiments/MS/exp41/models\\resunet_16.h5\n",
      "New best val loss. Val loss: 0.25612. Early stop count: 0\n",
      "Epoch: 8\n",
      "Anneling Coeficient [0.7]\n",
      "155/155 [==============================] - 7s 42ms/step - loss: 0.2910 - accuracy: 0.3717 - val_loss: 0.2605 - val_accuracy: 0.3172\n",
      "\n",
      "Epoch 00001: val_loss did not improve from 0.25612\n",
      "Early stop count: 1\n",
      "Epoch: 9\n",
      "Anneling Coeficient [0.8]\n",
      "155/155 [==============================] - 7s 42ms/step - loss: 0.2911 - accuracy: 0.3724 - val_loss: 0.2692 - val_accuracy: 0.3400\n",
      "\n",
      "Epoch 00001: val_loss did not improve from 0.25612\n",
      "Early stop count: 2\n",
      "Epoch: 10\n",
      "Anneling Coeficient [0.9]\n",
      "155/155 [==============================] - 7s 43ms/step - loss: 0.2910 - accuracy: 0.3718 - val_loss: 0.2707 - val_accuracy: 0.3436\n",
      "\n",
      "Epoch 00001: val_loss did not improve from 0.25612\n",
      "Early stop count: 3\n",
      "Epoch: 11\n",
      "Anneling Coeficient [1.]\n",
      "155/155 [==============================] - 7s 43ms/step - loss: 0.2910 - accuracy: 0.3718 - val_loss: 0.2733 - val_accuracy: 0.3511\n",
      "\n",
      "Epoch 00001: val_loss did not improve from 0.25612\n",
      "Early stop count: 4\n",
      "Epoch: 12\n",
      "Anneling Coeficient [1.]\n",
      "155/155 [==============================] - 7s 42ms/step - loss: 0.2912 - accuracy: 0.3723 - val_loss: 0.2678 - val_accuracy: 0.3363\n",
      "\n",
      "Epoch 00001: val_loss did not improve from 0.25612\n",
      "Early stop count: 5\n",
      "Epoch: 13\n",
      "Anneling Coeficient [1.]\n",
      "155/155 [==============================] - 7s 44ms/step - loss: 0.2911 - accuracy: 0.3721 - val_loss: 0.2672 - val_accuracy: 0.3305\n",
      "\n",
      "Epoch 00001: val_loss did not improve from 0.25612\n",
      "Early stop count: 6\n",
      "Epoch: 14\n",
      "Anneling Coeficient [1.]\n",
      "155/155 [==============================] - 7s 43ms/step - loss: 0.2911 - accuracy: 0.3723 - val_loss: 0.2699 - val_accuracy: 0.3395\n",
      "\n",
      "Epoch 00001: val_loss did not improve from 0.25612\n",
      "Early stop count: 7\n",
      "Epoch: 15\n",
      "Anneling Coeficient [1.]\n",
      "155/155 [==============================] - 7s 43ms/step - loss: 0.2909 - accuracy: 0.3718 - val_loss: 0.2641 - val_accuracy: 0.3237\n",
      "\n",
      "Epoch 00001: val_loss did not improve from 0.25612\n",
      "Early stop count: 8\n",
      "Epoch: 16\n",
      "Anneling Coeficient [1.]\n",
      "155/155 [==============================] - 7s 43ms/step - loss: 0.2909 - accuracy: 0.3717 - val_loss: 0.2561 - val_accuracy: 0.3027\n",
      "\n",
      "Epoch 00001: val_loss improved from 0.25612 to 0.25606, saving model to D:/Jorge/datasets/deforestation/experiments/MS/exp41/models\\resunet_16.h5\n",
      "New best val loss. Val loss: 0.25606. Early stop count: 0\n",
      "Epoch: 17\n",
      "Anneling Coeficient [1.]\n",
      "155/155 [==============================] - 7s 43ms/step - loss: 0.2910 - accuracy: 0.3720 - val_loss: 0.2605 - val_accuracy: 0.3173\n",
      "\n",
      "Epoch 00001: val_loss did not improve from 0.25606\n",
      "Early stop count: 1\n",
      "Epoch: 18\n",
      "Anneling Coeficient [1.]\n",
      "155/155 [==============================] - 7s 43ms/step - loss: 0.2682 - accuracy: 0.3711 - val_loss: 0.2306 - val_accuracy: 0.3412\n",
      "\n",
      "Epoch 00001: val_loss improved from 0.25606 to 0.23059, saving model to D:/Jorge/datasets/deforestation/experiments/MS/exp41/models\\resunet_16.h5\n",
      "New best val loss. Val loss: 0.23059. Early stop count: 0\n",
      "Epoch: 19\n",
      "Anneling Coeficient [1.]\n",
      "155/155 [==============================] - 7s 43ms/step - loss: 0.2262 - accuracy: 0.3720 - val_loss: 0.2136 - val_accuracy: 0.3435\n",
      "\n",
      "Epoch 00001: val_loss improved from 0.23059 to 0.21363, saving model to D:/Jorge/datasets/deforestation/experiments/MS/exp41/models\\resunet_16.h5\n",
      "New best val loss. Val loss: 0.21363. Early stop count: 0\n",
      "Epoch: 20\n",
      "Anneling Coeficient [1.]\n",
      "155/155 [==============================] - 7s 43ms/step - loss: 0.2162 - accuracy: 0.3722 - val_loss: 0.2154 - val_accuracy: 0.3512\n",
      "\n",
      "Epoch 00001: val_loss did not improve from 0.21363\n",
      "Early stop count: 1\n",
      "Epoch: 21\n",
      "Anneling Coeficient [1.]\n",
      "155/155 [==============================] - 7s 42ms/step - loss: 0.2120 - accuracy: 0.3718 - val_loss: 0.2115 - val_accuracy: 0.3363\n",
      "\n",
      "Epoch 00001: val_loss improved from 0.21363 to 0.21145, saving model to D:/Jorge/datasets/deforestation/experiments/MS/exp41/models\\resunet_16.h5\n",
      "New best val loss. Val loss: 0.21145. Early stop count: 0\n",
      "Epoch: 22\n",
      "Anneling Coeficient [1.]\n",
      "155/155 [==============================] - 7s 43ms/step - loss: 0.2088 - accuracy: 0.3721 - val_loss: 0.2108 - val_accuracy: 0.3308\n",
      "\n",
      "Epoch 00001: val_loss improved from 0.21145 to 0.21078, saving model to D:/Jorge/datasets/deforestation/experiments/MS/exp41/models\\resunet_16.h5\n",
      "New best val loss. Val loss: 0.21078. Early stop count: 0\n",
      "Epoch: 23\n",
      "Anneling Coeficient [1.]\n",
      "155/155 [==============================] - 7s 42ms/step - loss: 0.2059 - accuracy: 0.3720 - val_loss: 0.2197 - val_accuracy: 0.3395\n",
      "\n",
      "Epoch 00001: val_loss did not improve from 0.21078\n",
      "Early stop count: 1\n",
      "Epoch: 24\n",
      "Anneling Coeficient [1.]\n",
      "155/155 [==============================] - 7s 43ms/step - loss: 0.2052 - accuracy: 0.3723 - val_loss: 0.2162 - val_accuracy: 0.3237\n",
      "\n",
      "Epoch 00001: val_loss did not improve from 0.21078\n",
      "Early stop count: 2\n",
      "Epoch: 25\n",
      "Anneling Coeficient [1.]\n",
      "155/155 [==============================] - 7s 42ms/step - loss: 0.2030 - accuracy: 0.3718 - val_loss: 0.2048 - val_accuracy: 0.3028\n",
      "\n",
      "Epoch 00001: val_loss improved from 0.21078 to 0.20480, saving model to D:/Jorge/datasets/deforestation/experiments/MS/exp41/models\\resunet_16.h5\n",
      "New best val loss. Val loss: 0.2048. Early stop count: 0\n",
      "Epoch: 26\n",
      "Anneling Coeficient [1.]\n",
      "155/155 [==============================] - 7s 43ms/step - loss: 0.2020 - accuracy: 0.3718 - val_loss: 0.2067 - val_accuracy: 0.3173\n",
      "\n",
      "Epoch 00001: val_loss did not improve from 0.20480\n",
      "Early stop count: 1\n",
      "Epoch: 27\n",
      "Anneling Coeficient [1.]\n",
      "155/155 [==============================] - 7s 43ms/step - loss: 0.2013 - accuracy: 0.3721 - val_loss: 0.2139 - val_accuracy: 0.3412\n",
      "\n",
      "Epoch 00001: val_loss did not improve from 0.20480\n",
      "Early stop count: 2\n",
      "Epoch: 28\n",
      "Anneling Coeficient [1.]\n",
      "155/155 [==============================] - 7s 43ms/step - loss: 0.2003 - accuracy: 0.3725 - val_loss: 0.2088 - val_accuracy: 0.3437\n",
      "\n",
      "Epoch 00001: val_loss did not improve from 0.20480\n",
      "Early stop count: 3\n",
      "Epoch: 29\n",
      "Anneling Coeficient [1.]\n",
      "155/155 [==============================] - 7s 43ms/step - loss: 0.1997 - accuracy: 0.3719 - val_loss: 0.2120 - val_accuracy: 0.3512\n",
      "\n",
      "Epoch 00001: val_loss did not improve from 0.20480\n",
      "Early stop count: 4\n",
      "Epoch: 30\n",
      "Anneling Coeficient [1.]\n",
      "155/155 [==============================] - 7s 43ms/step - loss: 0.1990 - accuracy: 0.3722 - val_loss: 0.2096 - val_accuracy: 0.3363\n",
      "\n",
      "Epoch 00001: val_loss did not improve from 0.20480\n",
      "Early stop count: 5\n",
      "Epoch: 31\n",
      "Anneling Coeficient [1.]\n",
      "155/155 [==============================] - 7s 42ms/step - loss: 0.1989 - accuracy: 0.3727 - val_loss: 0.2055 - val_accuracy: 0.3310\n",
      "\n",
      "Epoch 00001: val_loss did not improve from 0.20480\n",
      "Early stop count: 6\n",
      "Epoch: 32\n",
      "Anneling Coeficient [1.]\n",
      "155/155 [==============================] - 7s 44ms/step - loss: 0.1979 - accuracy: 0.3719 - val_loss: 0.2216 - val_accuracy: 0.3396\n",
      "\n",
      "Epoch 00001: val_loss did not improve from 0.20480\n",
      "Early stop count: 7\n",
      "Epoch: 33\n",
      "Anneling Coeficient [1.]\n",
      "155/155 [==============================] - 7s 43ms/step - loss: 0.1972 - accuracy: 0.3718 - val_loss: 0.2235 - val_accuracy: 0.3241\n",
      "\n",
      "Epoch 00001: val_loss did not improve from 0.20480\n",
      "Early stop count: 8\n",
      "Epoch: 34\n",
      "Anneling Coeficient [1.]\n",
      "155/155 [==============================] - 7s 42ms/step - loss: 0.1967 - accuracy: 0.3729 - val_loss: 0.2094 - val_accuracy: 0.3028\n",
      "\n",
      "Epoch 00001: val_loss did not improve from 0.20480\n",
      "Early stop count: 9\n",
      "Epoch: 35\n",
      "Anneling Coeficient [1.]\n",
      "155/155 [==============================] - 7s 43ms/step - loss: 0.1964 - accuracy: 0.3719 - val_loss: 0.2041 - val_accuracy: 0.3174\n",
      "\n",
      "Epoch 00001: val_loss improved from 0.20480 to 0.20411, saving model to D:/Jorge/datasets/deforestation/experiments/MS/exp41/models\\resunet_16.h5\n",
      "New best val loss. Val loss: 0.20411. Early stop count: 0\n",
      "Epoch: 36\n",
      "Anneling Coeficient [1.]\n",
      "155/155 [==============================] - 7s 43ms/step - loss: 0.1965 - accuracy: 0.3724 - val_loss: 0.2301 - val_accuracy: 0.3417\n",
      "\n",
      "Epoch 00001: val_loss did not improve from 0.20411\n",
      "Early stop count: 1\n",
      "Epoch: 37\n",
      "Anneling Coeficient [1.]\n",
      "155/155 [==============================] - 7s 43ms/step - loss: 0.1956 - accuracy: 0.3720 - val_loss: 0.2138 - val_accuracy: 0.3436\n",
      "\n",
      "Epoch 00001: val_loss did not improve from 0.20411\n",
      "Early stop count: 2\n",
      "Epoch: 38\n",
      "Anneling Coeficient [1.]\n",
      "155/155 [==============================] - 7s 42ms/step - loss: 0.1953 - accuracy: 0.3719 - val_loss: 0.2248 - val_accuracy: 0.3512\n",
      "\n",
      "Epoch 00001: val_loss did not improve from 0.20411\n",
      "Early stop count: 3\n",
      "Epoch: 39\n",
      "Anneling Coeficient [1.]\n",
      "155/155 [==============================] - 7s 43ms/step - loss: 0.1947 - accuracy: 0.3723 - val_loss: 0.2147 - val_accuracy: 0.3366\n",
      "\n",
      "Epoch 00001: val_loss did not improve from 0.20411\n",
      "Early stop count: 4\n",
      "Epoch: 40\n",
      "Anneling Coeficient [1.]\n",
      "155/155 [==============================] - 7s 42ms/step - loss: 0.1943 - accuracy: 0.3722 - val_loss: 0.2122 - val_accuracy: 0.3308\n",
      "\n",
      "Epoch 00001: val_loss did not improve from 0.20411\n",
      "Early stop count: 5\n",
      "Epoch: 41\n",
      "Anneling Coeficient [1.]\n",
      "155/155 [==============================] - 7s 43ms/step - loss: 0.1944 - accuracy: 0.3723 - val_loss: 0.2246 - val_accuracy: 0.3402\n",
      "\n",
      "Epoch 00001: val_loss did not improve from 0.20411\n",
      "Early stop count: 6\n",
      "Epoch: 42\n",
      "Anneling Coeficient [1.]\n",
      "155/155 [==============================] - 7s 44ms/step - loss: 0.1940 - accuracy: 0.3719 - val_loss: 0.2228 - val_accuracy: 0.3238\n",
      "\n",
      "Epoch 00001: val_loss did not improve from 0.20411\n",
      "Early stop count: 7\n",
      "Epoch: 43\n",
      "Anneling Coeficient [1.]\n",
      "155/155 [==============================] - 7s 43ms/step - loss: 0.1956 - accuracy: 0.3720 - val_loss: 0.2103 - val_accuracy: 0.3031\n",
      "\n",
      "Epoch 00001: val_loss did not improve from 0.20411\n",
      "Early stop count: 8\n",
      "Epoch: 44\n",
      "Anneling Coeficient [1.]\n",
      "155/155 [==============================] - 7s 43ms/step - loss: 0.1939 - accuracy: 0.3723 - val_loss: 0.2228 - val_accuracy: 0.3176\n",
      "\n",
      "Epoch 00001: val_loss did not improve from 0.20411\n",
      "Early stop count: 9\n",
      "Epoch: 45\n",
      "Anneling Coeficient [1.]\n",
      "155/155 [==============================] - 7s 43ms/step - loss: 0.1934 - accuracy: 0.3723 - val_loss: 0.2278 - val_accuracy: 0.3413\n",
      "\n",
      "Epoch 00001: val_loss did not improve from 0.20411\n",
      "Early stop count: 10\n",
      "Early stopping\n",
      "10 10\n",
      "Finished Training\n",
      "Training time:  305.0044355392456\n",
      "time:  17\n",
      "Model: \"model_17\"\n",
      "__________________________________________________________________________________________________\n",
      "Layer (type)                    Output Shape         Param #     Connected to                     \n",
      "==================================================================================================\n",
      "input_enc_net (InputLayer)      [(None, 128, 128, 9) 0                                            \n",
      "__________________________________________________________________________________________________\n",
      "res1_net1 (Conv2D)              (None, 128, 128, 16) 1312        input_enc_net[0][0]              \n",
      "__________________________________________________________________________________________________\n",
      "drop_net1 (SpatialDropout2D)    (None, 128, 128, 16) 0           res1_net1[0][0]                  \n",
      "__________________________________________________________________________________________________\n",
      "res2_net1 (Conv2D)              (None, 128, 128, 16) 2320        drop_net1[0][0]                  \n",
      "__________________________________________________________________________________________________\n",
      "res3_net1 (Conv2D)              (None, 128, 128, 16) 160         input_enc_net[0][0]              \n",
      "__________________________________________________________________________________________________\n",
      "add_102 (Add)                   (None, 128, 128, 16) 0           res2_net1[0][0]                  \n",
      "                                                                 res3_net1[0][0]                  \n",
      "__________________________________________________________________________________________________\n",
      "pool_net1 (MaxPooling2D)        (None, 64, 64, 16)   0           add_102[0][0]                    \n",
      "__________________________________________________________________________________________________\n",
      "res1_net2 (Conv2D)              (None, 64, 64, 32)   4640        pool_net1[0][0]                  \n",
      "__________________________________________________________________________________________________\n",
      "drop_net2 (SpatialDropout2D)    (None, 64, 64, 32)   0           res1_net2[0][0]                  \n",
      "__________________________________________________________________________________________________\n",
      "res2_net2 (Conv2D)              (None, 64, 64, 32)   9248        drop_net2[0][0]                  \n",
      "__________________________________________________________________________________________________\n",
      "res3_net2 (Conv2D)              (None, 64, 64, 32)   544         pool_net1[0][0]                  \n",
      "__________________________________________________________________________________________________\n",
      "add_103 (Add)                   (None, 64, 64, 32)   0           res2_net2[0][0]                  \n",
      "                                                                 res3_net2[0][0]                  \n",
      "__________________________________________________________________________________________________\n",
      "pool_net2 (MaxPooling2D)        (None, 32, 32, 32)   0           add_103[0][0]                    \n",
      "__________________________________________________________________________________________________\n",
      "res1_net3 (Conv2D)              (None, 32, 32, 64)   18496       pool_net2[0][0]                  \n",
      "__________________________________________________________________________________________________\n",
      "drop_net3 (SpatialDropout2D)    (None, 32, 32, 64)   0           res1_net3[0][0]                  \n",
      "__________________________________________________________________________________________________\n",
      "res2_net3 (Conv2D)              (None, 32, 32, 64)   36928       drop_net3[0][0]                  \n",
      "__________________________________________________________________________________________________\n",
      "res3_net3 (Conv2D)              (None, 32, 32, 64)   2112        pool_net2[0][0]                  \n",
      "__________________________________________________________________________________________________\n",
      "add_104 (Add)                   (None, 32, 32, 64)   0           res2_net3[0][0]                  \n",
      "                                                                 res3_net3[0][0]                  \n",
      "__________________________________________________________________________________________________\n",
      "pool_net3 (MaxPooling2D)        (None, 16, 16, 64)   0           add_104[0][0]                    \n",
      "__________________________________________________________________________________________________\n",
      "res1_net4 (Conv2D)              (None, 16, 16, 64)   36928       pool_net3[0][0]                  \n",
      "__________________________________________________________________________________________________\n",
      "drop_net4 (SpatialDropout2D)    (None, 16, 16, 64)   0           res1_net4[0][0]                  \n",
      "__________________________________________________________________________________________________\n",
      "res2_net4 (Conv2D)              (None, 16, 16, 64)   36928       drop_net4[0][0]                  \n",
      "__________________________________________________________________________________________________\n",
      "res3_net4 (Conv2D)              (None, 16, 16, 64)   4160        pool_net3[0][0]                  \n",
      "__________________________________________________________________________________________________\n",
      "add_105 (Add)                   (None, 16, 16, 64)   0           res2_net4[0][0]                  \n",
      "                                                                 res3_net4[0][0]                  \n",
      "__________________________________________________________________________________________________\n",
      "res1_net5 (Conv2D)              (None, 16, 16, 64)   36928       add_105[0][0]                    \n",
      "__________________________________________________________________________________________________\n",
      "drop_net5 (SpatialDropout2D)    (None, 16, 16, 64)   0           res1_net5[0][0]                  \n",
      "__________________________________________________________________________________________________\n",
      "res2_net5 (Conv2D)              (None, 16, 16, 64)   36928       drop_net5[0][0]                  \n",
      "__________________________________________________________________________________________________\n",
      "res3_net5 (Conv2D)              (None, 16, 16, 64)   4160        add_105[0][0]                    \n",
      "__________________________________________________________________________________________________\n",
      "add_106 (Add)                   (None, 16, 16, 64)   0           res2_net5[0][0]                  \n",
      "                                                                 res3_net5[0][0]                  \n",
      "__________________________________________________________________________________________________\n",
      "res1_net6 (Conv2D)              (None, 16, 16, 64)   36928       add_106[0][0]                    \n",
      "__________________________________________________________________________________________________\n",
      "drop_net6 (SpatialDropout2D)    (None, 16, 16, 64)   0           res1_net6[0][0]                  \n",
      "__________________________________________________________________________________________________\n",
      "res2_net6 (Conv2D)              (None, 16, 16, 64)   36928       drop_net6[0][0]                  \n",
      "__________________________________________________________________________________________________\n",
      "res3_net6 (Conv2D)              (None, 16, 16, 64)   4160        add_106[0][0]                    \n",
      "__________________________________________________________________________________________________\n",
      "add_107 (Add)                   (None, 16, 16, 64)   0           res2_net6[0][0]                  \n",
      "                                                                 res3_net6[0][0]                  \n",
      "__________________________________________________________________________________________________\n",
      "up_sampling2d_51 (UpSampling2D) (None, 32, 32, 64)   0           add_107[0][0]                    \n",
      "__________________________________________________________________________________________________\n",
      "upsampling_net3 (Conv2D)        (None, 32, 32, 64)   36928       up_sampling2d_51[0][0]           \n",
      "__________________________________________________________________________________________________\n",
      "spatial_dropout2d_51 (SpatialDr (None, 32, 32, 64)   0           upsampling_net3[0][0]            \n",
      "__________________________________________________________________________________________________\n",
      "concatenate3 (Concatenate)      (None, 32, 32, 128)  0           add_104[0][0]                    \n",
      "                                                                 spatial_dropout2d_51[0][0]       \n",
      "__________________________________________________________________________________________________\n",
      "up_sampling2d_52 (UpSampling2D) (None, 64, 64, 128)  0           concatenate3[0][0]               \n",
      "__________________________________________________________________________________________________\n",
      "upsampling_net2 (Conv2D)        (None, 64, 64, 32)   36896       up_sampling2d_52[0][0]           \n",
      "__________________________________________________________________________________________________\n",
      "spatial_dropout2d_52 (SpatialDr (None, 64, 64, 32)   0           upsampling_net2[0][0]            \n",
      "__________________________________________________________________________________________________\n",
      "concatenate2 (Concatenate)      (None, 64, 64, 64)   0           add_103[0][0]                    \n",
      "                                                                 spatial_dropout2d_52[0][0]       \n",
      "__________________________________________________________________________________________________\n",
      "up_sampling2d_53 (UpSampling2D) (None, 128, 128, 64) 0           concatenate2[0][0]               \n",
      "__________________________________________________________________________________________________\n",
      "upsampling_net1 (Conv2D)        (None, 128, 128, 16) 9232        up_sampling2d_53[0][0]           \n",
      "__________________________________________________________________________________________________\n",
      "spatial_dropout2d_53 (SpatialDr (None, 128, 128, 16) 0           upsampling_net1[0][0]            \n",
      "__________________________________________________________________________________________________\n",
      "concatenate1 (Concatenate)      (None, 128, 128, 32) 0           add_102[0][0]                    \n",
      "                                                                 spatial_dropout2d_53[0][0]       \n",
      "__________________________________________________________________________________________________\n",
      "output (Conv2D)                 (None, 128, 128, 2)  66          concatenate1[0][0]               \n",
      "__________________________________________________________________________________________________\n",
      "dirichlet_layer_17 (DirichletLa (None, 128, 128, 2)  0           output[0][0]                     \n",
      "==================================================================================================\n",
      "Total params: 392,930\n",
      "Trainable params: 392,930\n",
      "Non-trainable params: 0\n",
      "__________________________________________________________________________________________________\n",
      "Epoch: 1\n",
      "Anneling Coeficient [1.]\n",
      "K.int_shape(mse) (None, 128, 128, 1)\n",
      "K.int_shape(mask) (None, None, None, 1)\n",
      "K.int_shape(E) (None, 128, 128, 2)\n",
      "K.int_shape(y_truth) (None, None, None, None)\n",
      "K.int_shape(mse) (None, 128, 128, 1)\n",
      "K.int_shape(mask) (None, None, None, 1)\n",
      "K.int_shape(E) (None, 128, 128, 2)\n",
      "K.int_shape(y_truth) (None, None, None, None)\n",
      "155/155 [==============================] - ETA: 0s - loss: 0.2858 - accuracy: 0.3709K.int_shape(mse) (None, 128, 128, 1)\n",
      "K.int_shape(mask) (None, None, None, 1)\n",
      "K.int_shape(E) (None, 128, 128, 2)\n",
      "K.int_shape(y_truth) (None, None, None, None)\n",
      "155/155 [==============================] - 9s 46ms/step - loss: 0.2858 - accuracy: 0.3709 - val_loss: 0.2523 - val_accuracy: 0.3433\n",
      "\n",
      "Epoch 00001: val_loss improved from inf to 0.25227, saving model to D:/Jorge/datasets/deforestation/experiments/MS/exp41/models\\resunet_17.h5\n",
      "New best val loss. Val loss: 0.25227. Early stop count: 0\n",
      "Epoch: 2\n",
      "Anneling Coeficient [0.1]\n",
      "155/155 [==============================] - 7s 43ms/step - loss: 0.2464 - accuracy: 0.3720 - val_loss: 0.2352 - val_accuracy: 0.3511\n",
      "\n",
      "Epoch 00001: val_loss improved from 0.25227 to 0.23521, saving model to D:/Jorge/datasets/deforestation/experiments/MS/exp41/models\\resunet_17.h5\n",
      "New best val loss. Val loss: 0.23521. Early stop count: 0\n",
      "Epoch: 3\n",
      "Anneling Coeficient [0.2]\n",
      "155/155 [==============================] - 7s 43ms/step - loss: 0.2290 - accuracy: 0.3721 - val_loss: 0.2258 - val_accuracy: 0.3363\n",
      "\n",
      "Epoch 00001: val_loss improved from 0.23521 to 0.22576, saving model to D:/Jorge/datasets/deforestation/experiments/MS/exp41/models\\resunet_17.h5\n",
      "New best val loss. Val loss: 0.22576. Early stop count: 0\n",
      "Epoch: 4\n",
      "Anneling Coeficient [0.3]\n",
      "155/155 [==============================] - 7s 43ms/step - loss: 0.2213 - accuracy: 0.3718 - val_loss: 0.2246 - val_accuracy: 0.3308\n",
      "\n",
      "Epoch 00001: val_loss improved from 0.22576 to 0.22461, saving model to D:/Jorge/datasets/deforestation/experiments/MS/exp41/models\\resunet_17.h5\n",
      "New best val loss. Val loss: 0.22461. Early stop count: 0\n",
      "Epoch: 5\n",
      "Anneling Coeficient [0.4]\n",
      "155/155 [==============================] - 7s 43ms/step - loss: 0.2180 - accuracy: 0.3720 - val_loss: 0.2317 - val_accuracy: 0.3395\n",
      "\n",
      "Epoch 00001: val_loss did not improve from 0.22461\n",
      "Early stop count: 1\n",
      "Epoch: 6\n",
      "Anneling Coeficient [0.5]\n",
      "155/155 [==============================] - 7s 43ms/step - loss: 0.2145 - accuracy: 0.3717 - val_loss: 0.2324 - val_accuracy: 0.3237\n",
      "\n",
      "Epoch 00001: val_loss did not improve from 0.22461\n",
      "Early stop count: 2\n",
      "Epoch: 7\n",
      "Anneling Coeficient [0.6]\n",
      "155/155 [==============================] - 7s 43ms/step - loss: 0.2121 - accuracy: 0.3717 - val_loss: 0.2178 - val_accuracy: 0.3028\n",
      "\n",
      "Epoch 00001: val_loss improved from 0.22461 to 0.21781, saving model to D:/Jorge/datasets/deforestation/experiments/MS/exp41/models\\resunet_17.h5\n",
      "New best val loss. Val loss: 0.21781. Early stop count: 0\n",
      "Epoch: 8\n",
      "Anneling Coeficient [0.7]\n",
      "155/155 [==============================] - 7s 43ms/step - loss: 0.2102 - accuracy: 0.3720 - val_loss: 0.2181 - val_accuracy: 0.3173\n",
      "\n",
      "Epoch 00001: val_loss did not improve from 0.21781\n",
      "Early stop count: 1\n",
      "Epoch: 9\n",
      "Anneling Coeficient [0.8]\n",
      "155/155 [==============================] - 7s 43ms/step - loss: 0.2085 - accuracy: 0.3725 - val_loss: 0.2470 - val_accuracy: 0.3412\n",
      "\n",
      "Epoch 00001: val_loss did not improve from 0.21781\n",
      "Early stop count: 2\n",
      "Epoch: 10\n",
      "Anneling Coeficient [0.9]\n",
      "155/155 [==============================] - 7s 43ms/step - loss: 0.2066 - accuracy: 0.3718 - val_loss: 0.2439 - val_accuracy: 0.3435\n",
      "\n",
      "Epoch 00001: val_loss did not improve from 0.21781\n",
      "Early stop count: 3\n",
      "Epoch: 11\n",
      "Anneling Coeficient [1.]\n",
      "155/155 [==============================] - 7s 43ms/step - loss: 0.2058 - accuracy: 0.3721 - val_loss: 0.2333 - val_accuracy: 0.3512\n",
      "\n",
      "Epoch 00001: val_loss did not improve from 0.21781\n",
      "Early stop count: 4\n",
      "Epoch: 12\n",
      "Anneling Coeficient [1.]\n",
      "155/155 [==============================] - 7s 43ms/step - loss: 0.2043 - accuracy: 0.3720 - val_loss: 0.2355 - val_accuracy: 0.3363\n",
      "\n",
      "Epoch 00001: val_loss did not improve from 0.21781\n",
      "Early stop count: 5\n",
      "Epoch: 13\n",
      "Anneling Coeficient [1.]\n",
      "155/155 [==============================] - 7s 43ms/step - loss: 0.2030 - accuracy: 0.3718 - val_loss: 0.2329 - val_accuracy: 0.3308\n",
      "\n",
      "Epoch 00001: val_loss did not improve from 0.21781\n",
      "Early stop count: 6\n",
      "Epoch: 14\n",
      "Anneling Coeficient [1.]\n",
      "155/155 [==============================] - 7s 43ms/step - loss: 0.2025 - accuracy: 0.3723 - val_loss: 0.2245 - val_accuracy: 0.3395\n",
      "\n",
      "Epoch 00001: val_loss did not improve from 0.21781\n",
      "Early stop count: 7\n",
      "Epoch: 15\n",
      "Anneling Coeficient [1.]\n",
      "155/155 [==============================] - 7s 44ms/step - loss: 0.2012 - accuracy: 0.3723 - val_loss: 0.2187 - val_accuracy: 0.3237\n",
      "\n",
      "Epoch 00001: val_loss did not improve from 0.21781\n",
      "Early stop count: 8\n",
      "Epoch: 16\n",
      "Anneling Coeficient [1.]\n",
      "155/155 [==============================] - 7s 44ms/step - loss: 0.2008 - accuracy: 0.3719 - val_loss: 0.2118 - val_accuracy: 0.3027\n",
      "\n",
      "Epoch 00001: val_loss improved from 0.21781 to 0.21175, saving model to D:/Jorge/datasets/deforestation/experiments/MS/exp41/models\\resunet_17.h5\n",
      "New best val loss. Val loss: 0.21175. Early stop count: 0\n",
      "Epoch: 17\n",
      "Anneling Coeficient [1.]\n",
      "155/155 [==============================] - 7s 43ms/step - loss: 0.1998 - accuracy: 0.3722 - val_loss: 0.2151 - val_accuracy: 0.3173\n",
      "\n",
      "Epoch 00001: val_loss did not improve from 0.21175\n",
      "Early stop count: 1\n",
      "Epoch: 18\n",
      "Anneling Coeficient [1.]\n",
      "155/155 [==============================] - 7s 44ms/step - loss: 0.1992 - accuracy: 0.3716 - val_loss: 0.2249 - val_accuracy: 0.3412\n",
      "\n",
      "Epoch 00001: val_loss did not improve from 0.21175\n",
      "Early stop count: 2\n",
      "Epoch: 19\n",
      "Anneling Coeficient [1.]\n",
      "155/155 [==============================] - 7s 44ms/step - loss: 0.1988 - accuracy: 0.3723 - val_loss: 0.2293 - val_accuracy: 0.3435\n",
      "\n",
      "Epoch 00001: val_loss did not improve from 0.21175\n",
      "Early stop count: 3\n",
      "Epoch: 20\n",
      "Anneling Coeficient [1.]\n",
      "155/155 [==============================] - 7s 44ms/step - loss: 0.1981 - accuracy: 0.3719 - val_loss: 0.2307 - val_accuracy: 0.3512\n",
      "\n",
      "Epoch 00001: val_loss did not improve from 0.21175\n",
      "Early stop count: 4\n",
      "Epoch: 21\n",
      "Anneling Coeficient [1.]\n",
      "155/155 [==============================] - 7s 44ms/step - loss: 0.1975 - accuracy: 0.3714 - val_loss: 0.2131 - val_accuracy: 0.3363\n",
      "\n",
      "Epoch 00001: val_loss did not improve from 0.21175\n",
      "Early stop count: 5\n",
      "Epoch: 22\n",
      "Anneling Coeficient [1.]\n",
      "155/155 [==============================] - 7s 44ms/step - loss: 0.1975 - accuracy: 0.3722 - val_loss: 0.2350 - val_accuracy: 0.3309\n",
      "\n",
      "Epoch 00001: val_loss did not improve from 0.21175\n",
      "Early stop count: 6\n",
      "Epoch: 23\n",
      "Anneling Coeficient [1.]\n",
      "155/155 [==============================] - 7s 44ms/step - loss: 0.1969 - accuracy: 0.3719 - val_loss: 0.2286 - val_accuracy: 0.3395\n",
      "\n",
      "Epoch 00001: val_loss did not improve from 0.21175\n",
      "Early stop count: 7\n",
      "Epoch: 24\n",
      "Anneling Coeficient [1.]\n",
      "155/155 [==============================] - 7s 43ms/step - loss: 0.1968 - accuracy: 0.3721 - val_loss: 0.2286 - val_accuracy: 0.3237\n",
      "\n",
      "Epoch 00001: val_loss did not improve from 0.21175\n",
      "Early stop count: 8\n",
      "Epoch: 25\n",
      "Anneling Coeficient [1.]\n",
      "155/155 [==============================] - 7s 43ms/step - loss: 0.1962 - accuracy: 0.3720 - val_loss: 0.2196 - val_accuracy: 0.3028\n",
      "\n",
      "Epoch 00001: val_loss did not improve from 0.21175\n",
      "Early stop count: 9\n",
      "Epoch: 26\n",
      "Anneling Coeficient [1.]\n",
      "155/155 [==============================] - 7s 47ms/step - loss: 0.1957 - accuracy: 0.3717 - val_loss: 0.2157 - val_accuracy: 0.3173\n",
      "\n",
      "Epoch 00001: val_loss did not improve from 0.21175\n",
      "Early stop count: 10\n",
      "Early stopping\n",
      "10 10\n",
      "Finished Training\n",
      "Training time:  180.33644556999207\n",
      "time:  18\n",
      "Model: \"model_18\"\n",
      "__________________________________________________________________________________________________\n",
      "Layer (type)                    Output Shape         Param #     Connected to                     \n",
      "==================================================================================================\n",
      "input_enc_net (InputLayer)      [(None, 128, 128, 9) 0                                            \n",
      "__________________________________________________________________________________________________\n",
      "res1_net1 (Conv2D)              (None, 128, 128, 16) 1312        input_enc_net[0][0]              \n",
      "__________________________________________________________________________________________________\n",
      "drop_net1 (SpatialDropout2D)    (None, 128, 128, 16) 0           res1_net1[0][0]                  \n",
      "__________________________________________________________________________________________________\n",
      "res2_net1 (Conv2D)              (None, 128, 128, 16) 2320        drop_net1[0][0]                  \n",
      "__________________________________________________________________________________________________\n",
      "res3_net1 (Conv2D)              (None, 128, 128, 16) 160         input_enc_net[0][0]              \n",
      "__________________________________________________________________________________________________\n",
      "add_108 (Add)                   (None, 128, 128, 16) 0           res2_net1[0][0]                  \n",
      "                                                                 res3_net1[0][0]                  \n",
      "__________________________________________________________________________________________________\n",
      "pool_net1 (MaxPooling2D)        (None, 64, 64, 16)   0           add_108[0][0]                    \n",
      "__________________________________________________________________________________________________\n",
      "res1_net2 (Conv2D)              (None, 64, 64, 32)   4640        pool_net1[0][0]                  \n",
      "__________________________________________________________________________________________________\n",
      "drop_net2 (SpatialDropout2D)    (None, 64, 64, 32)   0           res1_net2[0][0]                  \n",
      "__________________________________________________________________________________________________\n",
      "res2_net2 (Conv2D)              (None, 64, 64, 32)   9248        drop_net2[0][0]                  \n",
      "__________________________________________________________________________________________________\n",
      "res3_net2 (Conv2D)              (None, 64, 64, 32)   544         pool_net1[0][0]                  \n",
      "__________________________________________________________________________________________________\n",
      "add_109 (Add)                   (None, 64, 64, 32)   0           res2_net2[0][0]                  \n",
      "                                                                 res3_net2[0][0]                  \n",
      "__________________________________________________________________________________________________\n",
      "pool_net2 (MaxPooling2D)        (None, 32, 32, 32)   0           add_109[0][0]                    \n",
      "__________________________________________________________________________________________________\n",
      "res1_net3 (Conv2D)              (None, 32, 32, 64)   18496       pool_net2[0][0]                  \n",
      "__________________________________________________________________________________________________\n",
      "drop_net3 (SpatialDropout2D)    (None, 32, 32, 64)   0           res1_net3[0][0]                  \n",
      "__________________________________________________________________________________________________\n",
      "res2_net3 (Conv2D)              (None, 32, 32, 64)   36928       drop_net3[0][0]                  \n",
      "__________________________________________________________________________________________________\n",
      "res3_net3 (Conv2D)              (None, 32, 32, 64)   2112        pool_net2[0][0]                  \n",
      "__________________________________________________________________________________________________\n",
      "add_110 (Add)                   (None, 32, 32, 64)   0           res2_net3[0][0]                  \n",
      "                                                                 res3_net3[0][0]                  \n",
      "__________________________________________________________________________________________________\n",
      "pool_net3 (MaxPooling2D)        (None, 16, 16, 64)   0           add_110[0][0]                    \n",
      "__________________________________________________________________________________________________\n",
      "res1_net4 (Conv2D)              (None, 16, 16, 64)   36928       pool_net3[0][0]                  \n",
      "__________________________________________________________________________________________________\n",
      "drop_net4 (SpatialDropout2D)    (None, 16, 16, 64)   0           res1_net4[0][0]                  \n",
      "__________________________________________________________________________________________________\n",
      "res2_net4 (Conv2D)              (None, 16, 16, 64)   36928       drop_net4[0][0]                  \n",
      "__________________________________________________________________________________________________\n",
      "res3_net4 (Conv2D)              (None, 16, 16, 64)   4160        pool_net3[0][0]                  \n",
      "__________________________________________________________________________________________________\n",
      "add_111 (Add)                   (None, 16, 16, 64)   0           res2_net4[0][0]                  \n",
      "                                                                 res3_net4[0][0]                  \n",
      "__________________________________________________________________________________________________\n",
      "res1_net5 (Conv2D)              (None, 16, 16, 64)   36928       add_111[0][0]                    \n",
      "__________________________________________________________________________________________________\n",
      "drop_net5 (SpatialDropout2D)    (None, 16, 16, 64)   0           res1_net5[0][0]                  \n",
      "__________________________________________________________________________________________________\n",
      "res2_net5 (Conv2D)              (None, 16, 16, 64)   36928       drop_net5[0][0]                  \n",
      "__________________________________________________________________________________________________\n",
      "res3_net5 (Conv2D)              (None, 16, 16, 64)   4160        add_111[0][0]                    \n",
      "__________________________________________________________________________________________________\n",
      "add_112 (Add)                   (None, 16, 16, 64)   0           res2_net5[0][0]                  \n",
      "                                                                 res3_net5[0][0]                  \n",
      "__________________________________________________________________________________________________\n",
      "res1_net6 (Conv2D)              (None, 16, 16, 64)   36928       add_112[0][0]                    \n",
      "__________________________________________________________________________________________________\n",
      "drop_net6 (SpatialDropout2D)    (None, 16, 16, 64)   0           res1_net6[0][0]                  \n",
      "__________________________________________________________________________________________________\n",
      "res2_net6 (Conv2D)              (None, 16, 16, 64)   36928       drop_net6[0][0]                  \n",
      "__________________________________________________________________________________________________\n",
      "res3_net6 (Conv2D)              (None, 16, 16, 64)   4160        add_112[0][0]                    \n",
      "__________________________________________________________________________________________________\n",
      "add_113 (Add)                   (None, 16, 16, 64)   0           res2_net6[0][0]                  \n",
      "                                                                 res3_net6[0][0]                  \n",
      "__________________________________________________________________________________________________\n",
      "up_sampling2d_54 (UpSampling2D) (None, 32, 32, 64)   0           add_113[0][0]                    \n",
      "__________________________________________________________________________________________________\n",
      "upsampling_net3 (Conv2D)        (None, 32, 32, 64)   36928       up_sampling2d_54[0][0]           \n",
      "__________________________________________________________________________________________________\n",
      "spatial_dropout2d_54 (SpatialDr (None, 32, 32, 64)   0           upsampling_net3[0][0]            \n",
      "__________________________________________________________________________________________________\n",
      "concatenate3 (Concatenate)      (None, 32, 32, 128)  0           add_110[0][0]                    \n",
      "                                                                 spatial_dropout2d_54[0][0]       \n",
      "__________________________________________________________________________________________________\n",
      "up_sampling2d_55 (UpSampling2D) (None, 64, 64, 128)  0           concatenate3[0][0]               \n",
      "__________________________________________________________________________________________________\n",
      "upsampling_net2 (Conv2D)        (None, 64, 64, 32)   36896       up_sampling2d_55[0][0]           \n",
      "__________________________________________________________________________________________________\n",
      "spatial_dropout2d_55 (SpatialDr (None, 64, 64, 32)   0           upsampling_net2[0][0]            \n",
      "__________________________________________________________________________________________________\n",
      "concatenate2 (Concatenate)      (None, 64, 64, 64)   0           add_109[0][0]                    \n",
      "                                                                 spatial_dropout2d_55[0][0]       \n",
      "__________________________________________________________________________________________________\n",
      "up_sampling2d_56 (UpSampling2D) (None, 128, 128, 64) 0           concatenate2[0][0]               \n",
      "__________________________________________________________________________________________________\n",
      "upsampling_net1 (Conv2D)        (None, 128, 128, 16) 9232        up_sampling2d_56[0][0]           \n",
      "__________________________________________________________________________________________________\n",
      "spatial_dropout2d_56 (SpatialDr (None, 128, 128, 16) 0           upsampling_net1[0][0]            \n",
      "__________________________________________________________________________________________________\n",
      "concatenate1 (Concatenate)      (None, 128, 128, 32) 0           add_108[0][0]                    \n",
      "                                                                 spatial_dropout2d_56[0][0]       \n",
      "__________________________________________________________________________________________________\n",
      "output (Conv2D)                 (None, 128, 128, 2)  66          concatenate1[0][0]               \n",
      "__________________________________________________________________________________________________\n",
      "dirichlet_layer_18 (DirichletLa (None, 128, 128, 2)  0           output[0][0]                     \n",
      "==================================================================================================\n",
      "Total params: 392,930\n",
      "Trainable params: 392,930\n",
      "Non-trainable params: 0\n",
      "__________________________________________________________________________________________________\n",
      "Epoch: 1\n",
      "Anneling Coeficient [1.]\n",
      "K.int_shape(mse) (None, 128, 128, 1)\n",
      "K.int_shape(mask) (None, None, None, 1)\n",
      "K.int_shape(E) (None, 128, 128, 2)\n",
      "K.int_shape(y_truth) (None, None, None, None)\n",
      "K.int_shape(mse) (None, 128, 128, 1)\n",
      "K.int_shape(mask) (None, None, None, 1)\n",
      "K.int_shape(E) (None, 128, 128, 2)\n",
      "K.int_shape(y_truth) (None, None, None, None)\n",
      "155/155 [==============================] - ETA: 0s - loss: 0.2916 - accuracy: 0.3717K.int_shape(mse) (None, 128, 128, 1)\n",
      "K.int_shape(mask) (None, None, None, 1)\n",
      "K.int_shape(E) (None, 128, 128, 2)\n",
      "K.int_shape(y_truth) (None, None, None, None)\n",
      "155/155 [==============================] - 9s 47ms/step - loss: 0.2916 - accuracy: 0.3717 - val_loss: 0.2691 - val_accuracy: 0.3412\n",
      "\n",
      "Epoch 00001: val_loss improved from inf to 0.26909, saving model to D:/Jorge/datasets/deforestation/experiments/MS/exp41/models\\resunet_18.h5\n",
      "New best val loss. Val loss: 0.26909. Early stop count: 0\n",
      "Epoch: 2\n",
      "Anneling Coeficient [0.1]\n",
      "155/155 [==============================] - 7s 44ms/step - loss: 0.2783 - accuracy: 0.3719 - val_loss: 0.2423 - val_accuracy: 0.3435\n",
      "\n",
      "Epoch 00001: val_loss improved from 0.26909 to 0.24230, saving model to D:/Jorge/datasets/deforestation/experiments/MS/exp41/models\\resunet_18.h5\n",
      "New best val loss. Val loss: 0.2423. Early stop count: 0\n",
      "Epoch: 3\n",
      "Anneling Coeficient [0.2]\n",
      "155/155 [==============================] - 7s 44ms/step - loss: 0.2362 - accuracy: 0.3721 - val_loss: 0.2250 - val_accuracy: 0.3512\n",
      "\n",
      "Epoch 00001: val_loss improved from 0.24230 to 0.22496, saving model to D:/Jorge/datasets/deforestation/experiments/MS/exp41/models\\resunet_18.h5\n",
      "New best val loss. Val loss: 0.22496. Early stop count: 0\n",
      "Epoch: 4\n",
      "Anneling Coeficient [0.3]\n",
      "155/155 [==============================] - 7s 43ms/step - loss: 0.2248 - accuracy: 0.3725 - val_loss: 0.2156 - val_accuracy: 0.3363\n",
      "\n",
      "Epoch 00001: val_loss improved from 0.22496 to 0.21560, saving model to D:/Jorge/datasets/deforestation/experiments/MS/exp41/models\\resunet_18.h5\n",
      "New best val loss. Val loss: 0.2156. Early stop count: 0\n",
      "Epoch: 5\n",
      "Anneling Coeficient [0.4]\n",
      "155/155 [==============================] - 7s 43ms/step - loss: 0.2191 - accuracy: 0.3725 - val_loss: 0.2153 - val_accuracy: 0.3309\n",
      "\n",
      "Epoch 00001: val_loss improved from 0.21560 to 0.21529, saving model to D:/Jorge/datasets/deforestation/experiments/MS/exp41/models\\resunet_18.h5\n",
      "New best val loss. Val loss: 0.21529. Early stop count: 0\n",
      "Epoch: 6\n",
      "Anneling Coeficient [0.5]\n",
      "155/155 [==============================] - 7s 43ms/step - loss: 0.2156 - accuracy: 0.3724 - val_loss: 0.2113 - val_accuracy: 0.3395\n",
      "\n",
      "Epoch 00001: val_loss improved from 0.21529 to 0.21127, saving model to D:/Jorge/datasets/deforestation/experiments/MS/exp41/models\\resunet_18.h5\n",
      "New best val loss. Val loss: 0.21127. Early stop count: 0\n",
      "Epoch: 7\n",
      "Anneling Coeficient [0.6]\n",
      "155/155 [==============================] - 7s 43ms/step - loss: 0.2124 - accuracy: 0.3715 - val_loss: 0.2091 - val_accuracy: 0.3238\n",
      "\n",
      "Epoch 00001: val_loss improved from 0.21127 to 0.20906, saving model to D:/Jorge/datasets/deforestation/experiments/MS/exp41/models\\resunet_18.h5\n",
      "New best val loss. Val loss: 0.20906. Early stop count: 0\n",
      "Epoch: 8\n",
      "Anneling Coeficient [0.7]\n",
      "155/155 [==============================] - 7s 43ms/step - loss: 0.2101 - accuracy: 0.3720 - val_loss: 0.2022 - val_accuracy: 0.3031\n",
      "\n",
      "Epoch 00001: val_loss improved from 0.20906 to 0.20225, saving model to D:/Jorge/datasets/deforestation/experiments/MS/exp41/models\\resunet_18.h5\n",
      "New best val loss. Val loss: 0.20225. Early stop count: 0\n",
      "Epoch: 9\n",
      "Anneling Coeficient [0.8]\n",
      "155/155 [==============================] - 7s 44ms/step - loss: 0.2081 - accuracy: 0.3718 - val_loss: 0.2034 - val_accuracy: 0.3173\n",
      "\n",
      "Epoch 00001: val_loss did not improve from 0.20225\n",
      "Early stop count: 1\n",
      "Epoch: 10\n",
      "Anneling Coeficient [0.9]\n",
      "155/155 [==============================] - 7s 43ms/step - loss: 0.2065 - accuracy: 0.3725 - val_loss: 0.2057 - val_accuracy: 0.3416\n",
      "\n",
      "Epoch 00001: val_loss did not improve from 0.20225\n",
      "Early stop count: 2\n",
      "Epoch: 11\n",
      "Anneling Coeficient [1.]\n",
      "155/155 [==============================] - 7s 44ms/step - loss: 0.2049 - accuracy: 0.3760 - val_loss: 0.2098 - val_accuracy: 0.3559\n",
      "\n",
      "Epoch 00001: val_loss did not improve from 0.20225\n",
      "Early stop count: 3\n",
      "Epoch: 12\n",
      "Anneling Coeficient [1.]\n",
      "155/155 [==============================] - 7s 43ms/step - loss: 0.2002 - accuracy: 0.4102 - val_loss: 0.2162 - val_accuracy: 0.3755\n",
      "\n",
      "Epoch 00001: val_loss did not improve from 0.20225\n",
      "Early stop count: 4\n",
      "Epoch: 13\n",
      "Anneling Coeficient [1.]\n",
      "155/155 [==============================] - 7s 43ms/step - loss: 0.1966 - accuracy: 0.4265 - val_loss: 0.2056 - val_accuracy: 0.3648\n",
      "\n",
      "Epoch 00001: val_loss did not improve from 0.20225\n",
      "Early stop count: 5\n",
      "Epoch: 14\n",
      "Anneling Coeficient [1.]\n",
      "155/155 [==============================] - 7s 43ms/step - loss: 0.1943 - accuracy: 0.4312 - val_loss: 0.2031 - val_accuracy: 0.3651\n",
      "\n",
      "Epoch 00001: val_loss did not improve from 0.20225\n",
      "Early stop count: 6\n",
      "Epoch: 15\n",
      "Anneling Coeficient [1.]\n",
      "155/155 [==============================] - 7s 43ms/step - loss: 0.1929 - accuracy: 0.4331 - val_loss: 0.2080 - val_accuracy: 0.3739\n",
      "\n",
      "Epoch 00001: val_loss did not improve from 0.20225\n",
      "Early stop count: 7\n",
      "Epoch: 16\n",
      "Anneling Coeficient [1.]\n",
      "155/155 [==============================] - 7s 44ms/step - loss: 0.1909 - accuracy: 0.4349 - val_loss: 0.2027 - val_accuracy: 0.3573\n",
      "\n",
      "Epoch 00001: val_loss did not improve from 0.20225\n",
      "Early stop count: 8\n",
      "Epoch: 17\n",
      "Anneling Coeficient [1.]\n",
      "155/155 [==============================] - 7s 44ms/step - loss: 0.1901 - accuracy: 0.4357 - val_loss: 0.1966 - val_accuracy: 0.3380\n",
      "\n",
      "Epoch 00001: val_loss improved from 0.20225 to 0.19659, saving model to D:/Jorge/datasets/deforestation/experiments/MS/exp41/models\\resunet_18.h5\n",
      "New best val loss. Val loss: 0.19659. Early stop count: 0\n",
      "Epoch: 18\n",
      "Anneling Coeficient [1.]\n",
      "155/155 [==============================] - 7s 43ms/step - loss: 0.1891 - accuracy: 0.4359 - val_loss: 0.2032 - val_accuracy: 0.3485\n",
      "\n",
      "Epoch 00001: val_loss did not improve from 0.19659\n",
      "Early stop count: 1\n",
      "Epoch: 19\n",
      "Anneling Coeficient [1.]\n",
      "155/155 [==============================] - 7s 43ms/step - loss: 0.1887 - accuracy: 0.4362 - val_loss: 0.2076 - val_accuracy: 0.3713\n",
      "\n",
      "Epoch 00001: val_loss did not improve from 0.19659\n",
      "Early stop count: 2\n",
      "Epoch: 20\n",
      "Anneling Coeficient [1.]\n",
      "155/155 [==============================] - 7s 43ms/step - loss: 0.1868 - accuracy: 0.4365 - val_loss: 0.2068 - val_accuracy: 0.3761\n",
      "\n",
      "Epoch 00001: val_loss did not improve from 0.19659\n",
      "Early stop count: 3\n",
      "Epoch: 21\n",
      "Anneling Coeficient [1.]\n",
      "155/155 [==============================] - 7s 43ms/step - loss: 0.1863 - accuracy: 0.4365 - val_loss: 0.2068 - val_accuracy: 0.3825\n",
      "\n",
      "Epoch 00001: val_loss did not improve from 0.19659\n",
      "Early stop count: 4\n",
      "Epoch: 22\n",
      "Anneling Coeficient [1.]\n",
      "155/155 [==============================] - 7s 43ms/step - loss: 0.1860 - accuracy: 0.4372 - val_loss: 0.2095 - val_accuracy: 0.3688\n",
      "\n",
      "Epoch 00001: val_loss did not improve from 0.19659\n",
      "Early stop count: 5\n",
      "Epoch: 23\n",
      "Anneling Coeficient [1.]\n",
      "155/155 [==============================] - 7s 43ms/step - loss: 0.1852 - accuracy: 0.4372 - val_loss: 0.1979 - val_accuracy: 0.3655\n",
      "\n",
      "Epoch 00001: val_loss did not improve from 0.19659\n",
      "Early stop count: 6\n",
      "Epoch: 24\n",
      "Anneling Coeficient [1.]\n",
      "155/155 [==============================] - 7s 43ms/step - loss: 0.1849 - accuracy: 0.4378 - val_loss: 0.2132 - val_accuracy: 0.3750\n",
      "\n",
      "Epoch 00001: val_loss did not improve from 0.19659\n",
      "Early stop count: 7\n",
      "Epoch: 25\n",
      "Anneling Coeficient [1.]\n",
      "155/155 [==============================] - 7s 42ms/step - loss: 0.1835 - accuracy: 0.4383 - val_loss: 0.2145 - val_accuracy: 0.3582\n",
      "\n",
      "Epoch 00001: val_loss did not improve from 0.19659\n",
      "Early stop count: 8\n",
      "Epoch: 26\n",
      "Anneling Coeficient [1.]\n",
      "155/155 [==============================] - 7s 43ms/step - loss: 0.1840 - accuracy: 0.4373 - val_loss: 0.1956 - val_accuracy: 0.3369\n",
      "\n",
      "Epoch 00001: val_loss improved from 0.19659 to 0.19563, saving model to D:/Jorge/datasets/deforestation/experiments/MS/exp41/models\\resunet_18.h5\n",
      "New best val loss. Val loss: 0.19563. Early stop count: 0\n",
      "Epoch: 27\n",
      "Anneling Coeficient [1.]\n",
      "155/155 [==============================] - 7s 42ms/step - loss: 0.1833 - accuracy: 0.4379 - val_loss: 0.2081 - val_accuracy: 0.3447\n",
      "\n",
      "Epoch 00001: val_loss did not improve from 0.19563\n",
      "Early stop count: 1\n",
      "Epoch: 28\n",
      "Anneling Coeficient [1.]\n",
      "155/155 [==============================] - 7s 42ms/step - loss: 0.1842 - accuracy: 0.4376 - val_loss: 0.2135 - val_accuracy: 0.3707\n",
      "\n",
      "Epoch 00001: val_loss did not improve from 0.19563\n",
      "Early stop count: 2\n",
      "Epoch: 29\n",
      "Anneling Coeficient [1.]\n",
      "155/155 [==============================] - 7s 42ms/step - loss: 0.1819 - accuracy: 0.4386 - val_loss: 0.2213 - val_accuracy: 0.3751\n",
      "\n",
      "Epoch 00001: val_loss did not improve from 0.19563\n",
      "Early stop count: 3\n",
      "Epoch: 30\n",
      "Anneling Coeficient [1.]\n",
      "155/155 [==============================] - 7s 42ms/step - loss: 0.1820 - accuracy: 0.4382 - val_loss: 0.2060 - val_accuracy: 0.3838\n",
      "\n",
      "Epoch 00001: val_loss did not improve from 0.19563\n",
      "Early stop count: 4\n",
      "Epoch: 31\n",
      "Anneling Coeficient [1.]\n",
      "155/155 [==============================] - 7s 43ms/step - loss: 0.1815 - accuracy: 0.4379 - val_loss: 0.2048 - val_accuracy: 0.3697\n",
      "\n",
      "Epoch 00001: val_loss did not improve from 0.19563\n",
      "Early stop count: 5\n",
      "Epoch: 32\n",
      "Anneling Coeficient [1.]\n",
      "155/155 [==============================] - 7s 42ms/step - loss: 0.1809 - accuracy: 0.4391 - val_loss: 0.2100 - val_accuracy: 0.3655\n",
      "\n",
      "Epoch 00001: val_loss did not improve from 0.19563\n",
      "Early stop count: 6\n",
      "Epoch: 33\n",
      "Anneling Coeficient [1.]\n",
      "155/155 [==============================] - 7s 42ms/step - loss: 0.1804 - accuracy: 0.4395 - val_loss: 0.2211 - val_accuracy: 0.3755\n",
      "\n",
      "Epoch 00001: val_loss did not improve from 0.19563\n",
      "Early stop count: 7\n",
      "Epoch: 34\n",
      "Anneling Coeficient [1.]\n",
      "155/155 [==============================] - 7s 43ms/step - loss: 0.1803 - accuracy: 0.4392 - val_loss: 0.2194 - val_accuracy: 0.3586\n",
      "\n",
      "Epoch 00001: val_loss did not improve from 0.19563\n",
      "Early stop count: 8\n",
      "Epoch: 35\n",
      "Anneling Coeficient [1.]\n",
      "155/155 [==============================] - 7s 42ms/step - loss: 0.1800 - accuracy: 0.4398 - val_loss: 0.2003 - val_accuracy: 0.3394\n",
      "\n",
      "Epoch 00001: val_loss did not improve from 0.19563\n",
      "Early stop count: 9\n",
      "Epoch: 36\n",
      "Anneling Coeficient [1.]\n",
      "155/155 [==============================] - 7s 42ms/step - loss: 0.1794 - accuracy: 0.4398 - val_loss: 0.2047 - val_accuracy: 0.3502\n",
      "\n",
      "Epoch 00001: val_loss did not improve from 0.19563\n",
      "Early stop count: 10\n",
      "Early stopping\n",
      "10 10\n",
      "Finished Training\n",
      "Training time:  245.3216733932495\n",
      "time:  19\n",
      "Model: \"model_19\"\n",
      "__________________________________________________________________________________________________\n",
      "Layer (type)                    Output Shape         Param #     Connected to                     \n",
      "==================================================================================================\n",
      "input_enc_net (InputLayer)      [(None, 128, 128, 9) 0                                            \n",
      "__________________________________________________________________________________________________\n",
      "res1_net1 (Conv2D)              (None, 128, 128, 16) 1312        input_enc_net[0][0]              \n",
      "__________________________________________________________________________________________________\n",
      "drop_net1 (SpatialDropout2D)    (None, 128, 128, 16) 0           res1_net1[0][0]                  \n",
      "__________________________________________________________________________________________________\n",
      "res2_net1 (Conv2D)              (None, 128, 128, 16) 2320        drop_net1[0][0]                  \n",
      "__________________________________________________________________________________________________\n",
      "res3_net1 (Conv2D)              (None, 128, 128, 16) 160         input_enc_net[0][0]              \n",
      "__________________________________________________________________________________________________\n",
      "add_114 (Add)                   (None, 128, 128, 16) 0           res2_net1[0][0]                  \n",
      "                                                                 res3_net1[0][0]                  \n",
      "__________________________________________________________________________________________________\n",
      "pool_net1 (MaxPooling2D)        (None, 64, 64, 16)   0           add_114[0][0]                    \n",
      "__________________________________________________________________________________________________\n",
      "res1_net2 (Conv2D)              (None, 64, 64, 32)   4640        pool_net1[0][0]                  \n",
      "__________________________________________________________________________________________________\n",
      "drop_net2 (SpatialDropout2D)    (None, 64, 64, 32)   0           res1_net2[0][0]                  \n",
      "__________________________________________________________________________________________________\n",
      "res2_net2 (Conv2D)              (None, 64, 64, 32)   9248        drop_net2[0][0]                  \n",
      "__________________________________________________________________________________________________\n",
      "res3_net2 (Conv2D)              (None, 64, 64, 32)   544         pool_net1[0][0]                  \n",
      "__________________________________________________________________________________________________\n",
      "add_115 (Add)                   (None, 64, 64, 32)   0           res2_net2[0][0]                  \n",
      "                                                                 res3_net2[0][0]                  \n",
      "__________________________________________________________________________________________________\n",
      "pool_net2 (MaxPooling2D)        (None, 32, 32, 32)   0           add_115[0][0]                    \n",
      "__________________________________________________________________________________________________\n",
      "res1_net3 (Conv2D)              (None, 32, 32, 64)   18496       pool_net2[0][0]                  \n",
      "__________________________________________________________________________________________________\n",
      "drop_net3 (SpatialDropout2D)    (None, 32, 32, 64)   0           res1_net3[0][0]                  \n",
      "__________________________________________________________________________________________________\n",
      "res2_net3 (Conv2D)              (None, 32, 32, 64)   36928       drop_net3[0][0]                  \n",
      "__________________________________________________________________________________________________\n",
      "res3_net3 (Conv2D)              (None, 32, 32, 64)   2112        pool_net2[0][0]                  \n",
      "__________________________________________________________________________________________________\n",
      "add_116 (Add)                   (None, 32, 32, 64)   0           res2_net3[0][0]                  \n",
      "                                                                 res3_net3[0][0]                  \n",
      "__________________________________________________________________________________________________\n",
      "pool_net3 (MaxPooling2D)        (None, 16, 16, 64)   0           add_116[0][0]                    \n",
      "__________________________________________________________________________________________________\n",
      "res1_net4 (Conv2D)              (None, 16, 16, 64)   36928       pool_net3[0][0]                  \n",
      "__________________________________________________________________________________________________\n",
      "drop_net4 (SpatialDropout2D)    (None, 16, 16, 64)   0           res1_net4[0][0]                  \n",
      "__________________________________________________________________________________________________\n",
      "res2_net4 (Conv2D)              (None, 16, 16, 64)   36928       drop_net4[0][0]                  \n",
      "__________________________________________________________________________________________________\n",
      "res3_net4 (Conv2D)              (None, 16, 16, 64)   4160        pool_net3[0][0]                  \n",
      "__________________________________________________________________________________________________\n",
      "add_117 (Add)                   (None, 16, 16, 64)   0           res2_net4[0][0]                  \n",
      "                                                                 res3_net4[0][0]                  \n",
      "__________________________________________________________________________________________________\n",
      "res1_net5 (Conv2D)              (None, 16, 16, 64)   36928       add_117[0][0]                    \n",
      "__________________________________________________________________________________________________\n",
      "drop_net5 (SpatialDropout2D)    (None, 16, 16, 64)   0           res1_net5[0][0]                  \n",
      "__________________________________________________________________________________________________\n",
      "res2_net5 (Conv2D)              (None, 16, 16, 64)   36928       drop_net5[0][0]                  \n",
      "__________________________________________________________________________________________________\n",
      "res3_net5 (Conv2D)              (None, 16, 16, 64)   4160        add_117[0][0]                    \n",
      "__________________________________________________________________________________________________\n",
      "add_118 (Add)                   (None, 16, 16, 64)   0           res2_net5[0][0]                  \n",
      "                                                                 res3_net5[0][0]                  \n",
      "__________________________________________________________________________________________________\n",
      "res1_net6 (Conv2D)              (None, 16, 16, 64)   36928       add_118[0][0]                    \n",
      "__________________________________________________________________________________________________\n",
      "drop_net6 (SpatialDropout2D)    (None, 16, 16, 64)   0           res1_net6[0][0]                  \n",
      "__________________________________________________________________________________________________\n",
      "res2_net6 (Conv2D)              (None, 16, 16, 64)   36928       drop_net6[0][0]                  \n",
      "__________________________________________________________________________________________________\n",
      "res3_net6 (Conv2D)              (None, 16, 16, 64)   4160        add_118[0][0]                    \n",
      "__________________________________________________________________________________________________\n",
      "add_119 (Add)                   (None, 16, 16, 64)   0           res2_net6[0][0]                  \n",
      "                                                                 res3_net6[0][0]                  \n",
      "__________________________________________________________________________________________________\n",
      "up_sampling2d_57 (UpSampling2D) (None, 32, 32, 64)   0           add_119[0][0]                    \n",
      "__________________________________________________________________________________________________\n",
      "upsampling_net3 (Conv2D)        (None, 32, 32, 64)   36928       up_sampling2d_57[0][0]           \n",
      "__________________________________________________________________________________________________\n",
      "spatial_dropout2d_57 (SpatialDr (None, 32, 32, 64)   0           upsampling_net3[0][0]            \n",
      "__________________________________________________________________________________________________\n",
      "concatenate3 (Concatenate)      (None, 32, 32, 128)  0           add_116[0][0]                    \n",
      "                                                                 spatial_dropout2d_57[0][0]       \n",
      "__________________________________________________________________________________________________\n",
      "up_sampling2d_58 (UpSampling2D) (None, 64, 64, 128)  0           concatenate3[0][0]               \n",
      "__________________________________________________________________________________________________\n",
      "upsampling_net2 (Conv2D)        (None, 64, 64, 32)   36896       up_sampling2d_58[0][0]           \n",
      "__________________________________________________________________________________________________\n",
      "spatial_dropout2d_58 (SpatialDr (None, 64, 64, 32)   0           upsampling_net2[0][0]            \n",
      "__________________________________________________________________________________________________\n",
      "concatenate2 (Concatenate)      (None, 64, 64, 64)   0           add_115[0][0]                    \n",
      "                                                                 spatial_dropout2d_58[0][0]       \n",
      "__________________________________________________________________________________________________\n",
      "up_sampling2d_59 (UpSampling2D) (None, 128, 128, 64) 0           concatenate2[0][0]               \n",
      "__________________________________________________________________________________________________\n",
      "upsampling_net1 (Conv2D)        (None, 128, 128, 16) 9232        up_sampling2d_59[0][0]           \n",
      "__________________________________________________________________________________________________\n",
      "spatial_dropout2d_59 (SpatialDr (None, 128, 128, 16) 0           upsampling_net1[0][0]            \n",
      "__________________________________________________________________________________________________\n",
      "concatenate1 (Concatenate)      (None, 128, 128, 32) 0           add_114[0][0]                    \n",
      "                                                                 spatial_dropout2d_59[0][0]       \n",
      "__________________________________________________________________________________________________\n",
      "output (Conv2D)                 (None, 128, 128, 2)  66          concatenate1[0][0]               \n",
      "__________________________________________________________________________________________________\n",
      "dirichlet_layer_19 (DirichletLa (None, 128, 128, 2)  0           output[0][0]                     \n",
      "==================================================================================================\n",
      "Total params: 392,930\n",
      "Trainable params: 392,930\n",
      "Non-trainable params: 0\n",
      "__________________________________________________________________________________________________\n",
      "Epoch: 1\n",
      "Anneling Coeficient [1.]\n",
      "K.int_shape(mse) (None, 128, 128, 1)\n",
      "K.int_shape(mask) (None, None, None, 1)\n",
      "K.int_shape(E) (None, 128, 128, 2)\n",
      "K.int_shape(y_truth) (None, None, None, None)\n",
      "K.int_shape(mse) (None, 128, 128, 1)\n",
      "K.int_shape(mask) (None, None, None, 1)\n",
      "K.int_shape(E) (None, 128, 128, 2)\n",
      "K.int_shape(y_truth) (None, None, None, None)\n",
      "154/155 [============================>.] - ETA: 0s - loss: 0.2778 - accuracy: 0.3697K.int_shape(mse) (None, 128, 128, 1)\n",
      "K.int_shape(mask) (None, None, None, 1)\n",
      "K.int_shape(E) (None, 128, 128, 2)\n",
      "K.int_shape(y_truth) (None, None, None, None)\n",
      "155/155 [==============================] - 9s 45ms/step - loss: 0.2777 - accuracy: 0.3698 - val_loss: 0.2450 - val_accuracy: 0.3409\n",
      "\n",
      "Epoch 00001: val_loss improved from inf to 0.24501, saving model to D:/Jorge/datasets/deforestation/experiments/MS/exp41/models\\resunet_19.h5\n",
      "New best val loss. Val loss: 0.24501. Early stop count: 0\n",
      "Epoch: 2\n",
      "Anneling Coeficient [0.1]\n",
      "155/155 [==============================] - 7s 42ms/step - loss: 0.2397 - accuracy: 0.3726 - val_loss: 0.2327 - val_accuracy: 0.3442\n",
      "\n",
      "Epoch 00001: val_loss improved from 0.24501 to 0.23272, saving model to D:/Jorge/datasets/deforestation/experiments/MS/exp41/models\\resunet_19.h5\n",
      "New best val loss. Val loss: 0.23272. Early stop count: 0\n",
      "Epoch: 3\n",
      "Anneling Coeficient [0.2]\n",
      "155/155 [==============================] - 7s 42ms/step - loss: 0.2288 - accuracy: 0.3792 - val_loss: 0.2259 - val_accuracy: 0.3657\n",
      "\n",
      "Epoch 00001: val_loss improved from 0.23272 to 0.22588, saving model to D:/Jorge/datasets/deforestation/experiments/MS/exp41/models\\resunet_19.h5\n",
      "New best val loss. Val loss: 0.22588. Early stop count: 0\n",
      "Epoch: 4\n",
      "Anneling Coeficient [0.3]\n",
      "155/155 [==============================] - 7s 42ms/step - loss: 0.2223 - accuracy: 0.4087 - val_loss: 0.2162 - val_accuracy: 0.3619\n",
      "\n",
      "Epoch 00001: val_loss improved from 0.22588 to 0.21616, saving model to D:/Jorge/datasets/deforestation/experiments/MS/exp41/models\\resunet_19.h5\n",
      "New best val loss. Val loss: 0.21616. Early stop count: 0\n",
      "Epoch: 5\n",
      "Anneling Coeficient [0.4]\n",
      "155/155 [==============================] - 7s 42ms/step - loss: 0.2155 - accuracy: 0.4278 - val_loss: 0.2174 - val_accuracy: 0.3604\n",
      "\n",
      "Epoch 00001: val_loss did not improve from 0.21616\n",
      "Early stop count: 1\n",
      "Epoch: 6\n",
      "Anneling Coeficient [0.5]\n",
      "155/155 [==============================] - 7s 42ms/step - loss: 0.2100 - accuracy: 0.4301 - val_loss: 0.2193 - val_accuracy: 0.3661\n",
      "\n",
      "Epoch 00001: val_loss did not improve from 0.21616\n",
      "Early stop count: 2\n",
      "Epoch: 7\n",
      "Anneling Coeficient [0.6]\n",
      "155/155 [==============================] - 7s 42ms/step - loss: 0.2062 - accuracy: 0.4322 - val_loss: 0.2120 - val_accuracy: 0.3518\n",
      "\n",
      "Epoch 00001: val_loss improved from 0.21616 to 0.21201, saving model to D:/Jorge/datasets/deforestation/experiments/MS/exp41/models\\resunet_19.h5\n",
      "New best val loss. Val loss: 0.21201. Early stop count: 0\n",
      "Epoch: 8\n",
      "Anneling Coeficient [0.7]\n",
      "155/155 [==============================] - 7s 42ms/step - loss: 0.2031 - accuracy: 0.4333 - val_loss: 0.2036 - val_accuracy: 0.3323\n",
      "\n",
      "Epoch 00001: val_loss improved from 0.21201 to 0.20363, saving model to D:/Jorge/datasets/deforestation/experiments/MS/exp41/models\\resunet_19.h5\n",
      "New best val loss. Val loss: 0.20363. Early stop count: 0\n",
      "Epoch: 9\n",
      "Anneling Coeficient [0.8]\n",
      "155/155 [==============================] - 7s 43ms/step - loss: 0.2008 - accuracy: 0.4343 - val_loss: 0.2013 - val_accuracy: 0.3442\n",
      "\n",
      "Epoch 00001: val_loss improved from 0.20363 to 0.20131, saving model to D:/Jorge/datasets/deforestation/experiments/MS/exp41/models\\resunet_19.h5\n",
      "New best val loss. Val loss: 0.20131. Early stop count: 0\n",
      "Epoch: 10\n",
      "Anneling Coeficient [0.9]\n",
      "155/155 [==============================] - 7s 43ms/step - loss: 0.1992 - accuracy: 0.4352 - val_loss: 0.2075 - val_accuracy: 0.3630\n",
      "\n",
      "Epoch 00001: val_loss did not improve from 0.20131\n",
      "Early stop count: 1\n",
      "Epoch: 11\n",
      "Anneling Coeficient [1.]\n",
      "155/155 [==============================] - 7s 47ms/step - loss: 0.1970 - accuracy: 0.4361 - val_loss: 0.2078 - val_accuracy: 0.3680\n",
      "\n",
      "Epoch 00001: val_loss did not improve from 0.20131\n",
      "Early stop count: 2\n",
      "Epoch: 12\n",
      "Anneling Coeficient [1.]\n",
      "155/155 [==============================] - 7s 43ms/step - loss: 0.1951 - accuracy: 0.4367 - val_loss: 0.2071 - val_accuracy: 0.3774\n",
      "\n",
      "Epoch 00001: val_loss did not improve from 0.20131\n",
      "Early stop count: 3\n",
      "Epoch: 13\n",
      "Anneling Coeficient [1.]\n",
      "155/155 [==============================] - 7s 43ms/step - loss: 0.1939 - accuracy: 0.4366 - val_loss: 0.2039 - val_accuracy: 0.3632\n",
      "\n",
      "Epoch 00001: val_loss did not improve from 0.20131\n",
      "Early stop count: 4\n",
      "Epoch: 14\n",
      "Anneling Coeficient [1.]\n",
      "155/155 [==============================] - 7s 43ms/step - loss: 0.1925 - accuracy: 0.4367 - val_loss: 0.2087 - val_accuracy: 0.3610\n",
      "\n",
      "Epoch 00001: val_loss did not improve from 0.20131\n",
      "Early stop count: 5\n",
      "Epoch: 15\n",
      "Anneling Coeficient [1.]\n",
      "155/155 [==============================] - 7s 43ms/step - loss: 0.1919 - accuracy: 0.4376 - val_loss: 0.2081 - val_accuracy: 0.3680\n",
      "\n",
      "Epoch 00001: val_loss did not improve from 0.20131\n",
      "Early stop count: 6\n",
      "Epoch: 16\n",
      "Anneling Coeficient [1.]\n",
      "155/155 [==============================] - 7s 43ms/step - loss: 0.1908 - accuracy: 0.4375 - val_loss: 0.2037 - val_accuracy: 0.3540\n",
      "\n",
      "Epoch 00001: val_loss did not improve from 0.20131\n",
      "Early stop count: 7\n",
      "Epoch: 17\n",
      "Anneling Coeficient [1.]\n",
      "155/155 [==============================] - 7s 43ms/step - loss: 0.1890 - accuracy: 0.4378 - val_loss: 0.1993 - val_accuracy: 0.3349\n",
      "\n",
      "Epoch 00001: val_loss improved from 0.20131 to 0.19933, saving model to D:/Jorge/datasets/deforestation/experiments/MS/exp41/models\\resunet_19.h5\n",
      "New best val loss. Val loss: 0.19933. Early stop count: 0\n",
      "Epoch: 18\n",
      "Anneling Coeficient [1.]\n",
      "155/155 [==============================] - 7s 43ms/step - loss: 0.1891 - accuracy: 0.4384 - val_loss: 0.1929 - val_accuracy: 0.3478\n",
      "\n",
      "Epoch 00001: val_loss improved from 0.19933 to 0.19287, saving model to D:/Jorge/datasets/deforestation/experiments/MS/exp41/models\\resunet_19.h5\n",
      "New best val loss. Val loss: 0.19287. Early stop count: 0\n",
      "Epoch: 19\n",
      "Anneling Coeficient [1.]\n",
      "155/155 [==============================] - 7s 43ms/step - loss: 0.1881 - accuracy: 0.4377 - val_loss: 0.2119 - val_accuracy: 0.3659\n",
      "\n",
      "Epoch 00001: val_loss did not improve from 0.19287\n",
      "Early stop count: 1\n",
      "Epoch: 20\n",
      "Anneling Coeficient [1.]\n",
      "155/155 [==============================] - 7s 43ms/step - loss: 0.1868 - accuracy: 0.4378 - val_loss: 0.2086 - val_accuracy: 0.3731\n",
      "\n",
      "Epoch 00001: val_loss did not improve from 0.19287\n",
      "Early stop count: 2\n",
      "Epoch: 21\n",
      "Anneling Coeficient [1.]\n",
      "155/155 [==============================] - 7s 43ms/step - loss: 0.1864 - accuracy: 0.4387 - val_loss: 0.2094 - val_accuracy: 0.3794\n",
      "\n",
      "Epoch 00001: val_loss did not improve from 0.19287\n",
      "Early stop count: 3\n",
      "Epoch: 22\n",
      "Anneling Coeficient [1.]\n",
      "155/155 [==============================] - 7s 43ms/step - loss: 0.1855 - accuracy: 0.4389 - val_loss: 0.1981 - val_accuracy: 0.3658\n",
      "\n",
      "Epoch 00001: val_loss did not improve from 0.19287\n",
      "Early stop count: 4\n",
      "Epoch: 23\n",
      "Anneling Coeficient [1.]\n",
      "155/155 [==============================] - 7s 43ms/step - loss: 0.1846 - accuracy: 0.4393 - val_loss: 0.2022 - val_accuracy: 0.3648\n",
      "\n",
      "Epoch 00001: val_loss did not improve from 0.19287\n",
      "Early stop count: 5\n",
      "Epoch: 24\n",
      "Anneling Coeficient [1.]\n",
      "155/155 [==============================] - 7s 43ms/step - loss: 0.1841 - accuracy: 0.4398 - val_loss: 0.2048 - val_accuracy: 0.3728\n",
      "\n",
      "Epoch 00001: val_loss did not improve from 0.19287\n",
      "Early stop count: 6\n",
      "Epoch: 25\n",
      "Anneling Coeficient [1.]\n",
      "155/155 [==============================] - 7s 43ms/step - loss: 0.1839 - accuracy: 0.4395 - val_loss: 0.2077 - val_accuracy: 0.3542\n",
      "\n",
      "Epoch 00001: val_loss did not improve from 0.19287\n",
      "Early stop count: 7\n",
      "Epoch: 26\n",
      "Anneling Coeficient [1.]\n",
      "155/155 [==============================] - 7s 43ms/step - loss: 0.1831 - accuracy: 0.4401 - val_loss: 0.1983 - val_accuracy: 0.3362\n",
      "\n",
      "Epoch 00001: val_loss did not improve from 0.19287\n",
      "Early stop count: 8\n",
      "Epoch: 27\n",
      "Anneling Coeficient [1.]\n",
      "155/155 [==============================] - 7s 43ms/step - loss: 0.1835 - accuracy: 0.4397 - val_loss: 0.2002 - val_accuracy: 0.3479\n",
      "\n",
      "Epoch 00001: val_loss did not improve from 0.19287\n",
      "Early stop count: 9\n",
      "Epoch: 28\n",
      "Anneling Coeficient [1.]\n",
      "155/155 [==============================] - 7s 43ms/step - loss: 0.1823 - accuracy: 0.4406 - val_loss: 0.2111 - val_accuracy: 0.3688\n",
      "\n",
      "Epoch 00001: val_loss did not improve from 0.19287\n",
      "Early stop count: 10\n",
      "Early stopping\n",
      "10 10\n",
      "Finished Training\n",
      "Training time:  190.6741967201233\n"
     ]
    }
   ],
   "source": [
    "if config['training'] == True:\n",
    "    \n",
    "\n",
    "    manager = manager_class(config, dataset, patchesHandler, logger)\n",
    "    print(\"manager.config['dropout_training']\", manager.config['dropout_training'])\n",
    "    manager.defineExperiment(exp) # fixed\n",
    "    \n",
    "    manager.setExperimentPath()\n",
    "    manager.createLogFolders()\n",
    "\n",
    "    manager.loadDataset()\n",
    "\n",
    "    # %%\n",
    "    if config[\"training\"] == True:\n",
    "        manager.run()\n"
   ]
  },
  {
   "cell_type": "code",
   "execution_count": null,
   "id": "a13e82bc",
   "metadata": {},
   "outputs": [
    {
     "name": "stderr",
     "output_type": "stream",
     "text": [
      "ic| list(self.date_ids): [0]\n",
      "ic| self.image_channels: [[0, 1, 2, 3, 4, 5, 6, 7, 8]]\n",
      "ic| dates: [2019, 2020]\n",
      "ic| self.input_image_shape: 9\n",
      "ic| self.dataset.image_channels: [[0, 1, 2, 3, 4, 5, 6, 7, 8]]\n"
     ]
    }
   ],
   "source": [
    "\n",
    "\n",
    "\n",
    "if config['site'] == 'PA':\n",
    "\tdates = [2018, 2019]\n",
    "\tdatasetClass = PAMultipleDates\n",
    "elif config['site'] == 'MT':\n",
    "\tdates = [2019, 2020]\n",
    "\tdatasetClass = MTMultipleDates\n",
    "elif config['site'] == 'MS':\n",
    "\tdates = [2019, 2020]\n",
    "\tdatasetClass = MSMultipleDates\n",
    "elif config['site'] == 'PI':\n",
    "\tdates = [2019, 2020]\n",
    "\tdatasetClass = PIMultipleDates\n",
    "else:\n",
    "\traise ValueError('Invalid site')\n",
    "\n",
    "dataset = datasetClass(config = config,\n",
    "\t\t\t   dates = dates, \n",
    "\t \taddPastDeforestationInput = config['addPastDeforestationInput'],\n",
    "\t\tborderBuffer = 2)\n",
    "\n",
    "\n",
    "ic(dates)\n",
    "\n",
    "if issubclass(type(dataset), MultipleDates):\n",
    "\tpatchesHandler = PatchesHandlerMultipleDates(\n",
    "\t\tdataset)\n",
    "elif config['mode'] == 'evidential2':\n",
    "\tpatchesHandler = PatchesHandlerEvidential2()\n",
    "else:\n",
    "\tpatchesHandler = PatchesHandler()\n"
   ]
  },
  {
   "cell_type": "code",
   "execution_count": null,
   "id": "597049da",
   "metadata": {},
   "outputs": [
    {
     "data": {
      "text/plain": [
       "src.manager.multioutput.ManagerEvidential2"
      ]
     },
     "execution_count": 10,
     "metadata": {},
     "output_type": "execute_result"
    }
   ],
   "source": [
    "manager_class"
   ]
  },
  {
   "cell_type": "code",
   "execution_count": null,
   "id": "82354e9e",
   "metadata": {},
   "outputs": [
    {
     "data": {
      "text/plain": [
       "41"
      ]
     },
     "execution_count": 11,
     "metadata": {},
     "output_type": "execute_result"
    }
   ],
   "source": [
    "exp"
   ]
  },
  {
   "cell_type": "code",
   "execution_count": null,
   "id": "0e69f832",
   "metadata": {},
   "outputs": [
    {
     "name": "stdout",
     "output_type": "stream",
     "text": [
      "repetition_ids [0, 1, 10, 11, 12, 13, 14, 15, 16, 17, 18, 19, 2, 3, 4, 5, 6, 7, 8, 9], repetition_n 20\n"
     ]
    }
   ],
   "source": [
    "repetition_ids = manager_class(config, dataset, patchesHandler, logger).get_repetition_ids(exp)  \n",
    "repetition_n = len(repetition_ids)\n",
    "print(\"repetition_ids {}, repetition_n {}\".format(repetition_ids, repetition_n))\n"
   ]
  },
  {
   "cell_type": "code",
   "execution_count": null,
   "id": "49e0d9f0",
   "metadata": {},
   "outputs": [
    {
     "data": {
      "text/plain": [
       "0"
      ]
     },
     "execution_count": 13,
     "metadata": {},
     "output_type": "execute_result"
    }
   ],
   "source": [
    "config['start_repetition_id']"
   ]
  },
  {
   "cell_type": "code",
   "execution_count": null,
   "id": "5997b986",
   "metadata": {},
   "outputs": [
    {
     "name": "stdout",
     "output_type": "stream",
     "text": [
      "Beginning run number 0\n",
      "manager.config {'training': True, 'inferring': True, 'site': 'MS', 'training_date': 'current', 'mode': 'evidential2', 'training_times': 20, 'uncertainty_method': 'pred_entropy', 'loadInference': False, 'removePolygons': True, 'plotLandsat': False, 'plotPOI': False, 'training_experiment_id': 41, 'get_multiple_metrics': False, 'start_repetition_id': 0, 'end_repetition_id': 20, 'save_probabilities': False, 'addPastDeforestationInput': True, 'classes_mode': True, 'learning_rate': 0.0001, 'use_cloud_mask': False, 'mask_out_non_biome': False, 'log_filename': 'log.pkl', 'inference_times': 1, 'dropout_training': False}\n",
      "D:/Jorge/datasets/deforestation/MS/deforestation_past_years.tif\n",
      "Loaded deforestation past years\n"
     ]
    },
    {
     "name": "stderr",
     "output_type": "stream",
     "text": [
      "ic| np.unique(deforestation_past_years, return_counts=True): (array([   0, 2002, 2004, 2006, 2008, 2010, 2012, 2013, 2014, 2015, 2016,\n",
      "                                                                    2017, 2018, 2019, 2020, 2021], dtype=uint16),\n",
      "                                                              array([334024764,   8717093,   6541094,   3824922,   2096535,   1305948,\n",
      "                                                                      1003721,    903906,    318788,    701575,    310887,    440417,\n",
      "                                                                       316180,    560438,    600838,    776899], dtype=int64))\n"
     ]
    },
    {
     "name": "stdout",
     "output_type": "stream",
     "text": [
      "Label where deforestation past years is actual date (2020) = 1\n"
     ]
    },
    {
     "name": "stderr",
     "output_type": "stream",
     "text": [
      "ic| np.unique(deforestation_past_years, return_counts=True): (array([   0, 2002, 2004, 2006, 2008, 2010, 2012, 2013, 2014, 2015, 2016,\n",
      "                                                                    2017, 2018, 2019, 2020, 2021], dtype=uint16),\n",
      "                                                              array([334024764,   8717093,   6541094,   3824922,   2096535,   1305948,\n",
      "                                                                      1003721,    903906,    318788,    701575,    310887,    440417,\n",
      "                                                                       316180,    560438,    600838,    776899], dtype=int64))\n"
     ]
    },
    {
     "name": "stdout",
     "output_type": "stream",
     "text": [
      "Past deforestation different from 0 (no deforestation)\n"
     ]
    },
    {
     "name": "stderr",
     "output_type": "stream",
     "text": [
      "ic| np.unique(deforestation_past_years, return_counts=True): (array([   0, 2002, 2004, 2006, 2008, 2010, 2012, 2013, 2014, 2015, 2016,\n",
      "                                                                    2017, 2018, 2019, 2020, 2021], dtype=uint16),\n",
      "                                                              array([334024764,   8717093,   6541094,   3824922,   2096535,   1305948,\n",
      "                                                                      1003721,    903906,    318788,    701575,    310887,    440417,\n",
      "                                                                       316180,    560438,    600838,    776899], dtype=int64))\n"
     ]
    },
    {
     "name": "stdout",
     "output_type": "stream",
     "text": [
      "Past deforestation before 2008 is 2\n",
      "D:/Jorge/datasets/deforestation/MS/deforestation_before_2000_MS.tif\n"
     ]
    },
    {
     "name": "stderr",
     "output_type": "stream",
     "text": [
      "ic| np.unique(label_past_deforestation_before_2008, return_counts=True): (array([  0, 208], dtype=uint8), array([126708038, 235735967], dtype=int64))\n",
      "ic| np.unique(deforestation_past_years, return_counts=True): (array([   0, 2002, 2004, 2006, 2008, 2010, 2012, 2013, 2014, 2015, 2016,\n",
      "                                                                    2017, 2018, 2019, 2020, 2021], dtype=uint16),\n",
      "                                                              array([334024764,   8717093,   6541094,   3824922,   2096535,   1305948,\n",
      "                                                                      1003721,    903906,    318788,    701575,    310887,    440417,\n",
      "                                                                       316180,    560438,    600838,    776899], dtype=int64))\n",
      "ic| label_per_date.shape: (18605, 19481, 1)\n"
     ]
    },
    {
     "name": "stdout",
     "output_type": "stream",
     "text": [
      "Removing bufer................\n",
      "Mask label shape:  \n",
      " (18605, 19481, 1) \n",
      " Unique values:  \n",
      " [0 1 2]\n",
      "Tiles size:  3721 3896\n",
      "Mask size:  (18605, 19480)\n"
     ]
    },
    {
     "name": "stderr",
     "output_type": "stream",
     "text": [
      "ic| image_stack.shape: (18605, 19481, 9)\n"
     ]
    },
    {
     "name": "stdout",
     "output_type": "stream",
     "text": [
      "Image shape:  (18605, 19481, 9)\n",
      "mask:  (18605, 19480)\n",
      "image stack:  (18605, 19480, 9)\n",
      "ref : (18605, 19480, 1)\n",
      "Training tiles:  [2, 4, 5, 6, 7, 12, 14, 15, 18, 21, 23, 24]\n",
      "Validation tiles:  [9, 11, 25]\n",
      "Test tiles:  [1, 3, 8, 10, 13, 16, 17, 19, 20, 22]\n",
      "-35.0 -8.0\n"
     ]
    },
    {
     "name": "stderr",
     "output_type": "stream",
     "text": [
      "ic| self.path_models+ '/' + self.method +'_'+str(self.repetition_id)+'.h5': 'D:/Jorge/datasets/deforestation/experiments/MS/exp41/models/resunet_0.h5'\n"
     ]
    },
    {
     "name": "stdout",
     "output_type": "stream",
     "text": [
      "Dropout training mode: False\n",
      "time:  0\n",
      "alpha.shape (18640, 19488, 2)\n",
      "S.shape (18640, 19488)\n",
      "K 2\n",
      "u.shape (18640, 19488)\n",
      "belief.shape (18640, 19488, 2)\n",
      "Inference runtime 297.94\n",
      "(36877090,)\n",
      "(array([0, 1], dtype=uint8), array([36581631,   295459], dtype=int64))\n",
      "(18605, 19480, 2)\n"
     ]
    },
    {
     "name": "stderr",
     "output_type": "stream",
     "text": [
      "ic| predicted_test.shape: (144970160,)\n",
      "ic| predicted_test.shape: (36877090,)\n",
      "ic| np.unique(predicted, return_counts=True): (array([0, 1], dtype=int8), array([360472526,   1952874], dtype=int64))\n",
      "    np.unique(predicted_larger_than_min_area, return_counts=True): (array([0, 1], dtype=int8), array([360555210,   1870190], dtype=int64))\n",
      "ic| np.unique(ignored_polygons, return_counts=True): (array([0, 1], dtype=int8), array([362342716,     82684], dtype=int64))\n",
      "ic| self.f1: 87.23, self.precision: 84.1, self.recall: 90.61\n",
      "ic| self.label_mask_val.shape: (43491048,)\n",
      "ic| self.label_mask_val_valid.shape: (10766550,)\n",
      "ic| f1_val: 17.85\n",
      "    precision_val: 10.26\n",
      "    recall_val: 68.62\n",
      "    mAP_val: 49.83\n"
     ]
    },
    {
     "name": "stdout",
     "output_type": "stream",
     "text": [
      "(array([0, 1], dtype=int16), array([360938389,   1487011], dtype=int64))\n",
      "[0 1]\n"
     ]
    },
    {
     "name": "stderr",
     "output_type": "stream",
     "text": [
      "ic| self.label_mask.shape: (18605, 19480)\n",
      "ic| self.mask_test.shape: (18605, 19480)\n",
      "ic| self.label_mask_test.shape: (144970160,)\n",
      "ic| self.error_mask_test.shape: (36843581,)\n",
      "ic| bounds: (0.00010578750008484349, 0.4985)\n"
     ]
    },
    {
     "name": "stdout",
     "output_type": "stream",
     "text": [
      "(0.00010578750008484349, 0.4985)\n",
      "0.19047543687881469\n",
      "threshold 0.19047543687881469\n"
     ]
    },
    {
     "name": "stderr",
     "output_type": "stream",
     "text": [
      "c:\\Users\\jchamorro\\Anaconda3\\envs\\tf2\\lib\\site-packages\\scipy\\optimize\\_minimize.py:783: RuntimeWarning: Method 'bounded' does not support relative tolerance in x; defaulting to absolute tolerance.\n",
      "  warn(\"Method 'bounded' does not support relative tolerance in x; \"\n",
      "ic| label_current_deforestation_test_classified_incorrect.shape: (2098855,)\n",
      "    predicted_test_classified_incorrect.shape: (2098855,)\n",
      "ic| TP_H + FN_H + FP_H + TN_H: 2098855\n",
      "    len(label_mask_current_deforestation_test): 36843581\n",
      "ic| TP_H + FN_H + FP_H + TN_H: 2098855\n",
      "    len(label_mask_current_deforestation_test): 36843581\n"
     ]
    },
    {
     "name": "stdout",
     "output_type": "stream",
     "text": [
      "[0.96152495 0.9380385  0.70925233 0.05696664 0.57926271 0.80689499\n",
      " 0.02593059]\n",
      "0.30813035062127003\n",
      "threshold 0.30813035062127003\n"
     ]
    },
    {
     "name": "stderr",
     "output_type": "stream",
     "text": [
      "ic| label_current_deforestation_test_classified_incorrect.shape: (997284,)\n",
      "    predicted_test_classified_incorrect.shape: (997284,)\n",
      "ic| TP_H + FN_H + FP_H + TN_H: 997284\n",
      "    len(label_mask_current_deforestation_test): 36843581\n",
      "ic| TP_H + FN_H + FP_H + TN_H: 997284\n",
      "    len(label_mask_current_deforestation_test): 36843581\n"
     ]
    },
    {
     "name": "stdout",
     "output_type": "stream",
     "text": [
      "[0.93763771 0.94222491 0.79272794 0.02706805 0.48863027 0.71424526\n",
      " 0.04620667]\n",
      "0.38084508625754454\n",
      "threshold 0.38084508625754454\n"
     ]
    },
    {
     "name": "stderr",
     "output_type": "stream",
     "text": [
      "ic| label_current_deforestation_test_classified_incorrect.shape: (614356,)\n",
      "    predicted_test_classified_incorrect.shape: (614356,)\n",
      "ic| TP_H + FN_H + FP_H + TN_H: 614356\n",
      "    len(label_mask_current_deforestation_test): 36843581\n",
      "ic| TP_H + FN_H + FP_H + TN_H: 614356\n",
      "    len(label_mask_current_deforestation_test): 36843581\n"
     ]
    },
    {
     "name": "stdout",
     "output_type": "stream",
     "text": [
      "[0.91290864 0.94354363 0.83519495 0.01667471 0.43603922 0.61705842\n",
      " 0.06019903]\n",
      "0.3053042485348244\n",
      "threshold 0.3053042485348244\n"
     ]
    },
    {
     "name": "stderr",
     "output_type": "stream",
     "text": [
      "ic| label_current_deforestation_test_classified_incorrect.shape: (1016026,)\n",
      "    predicted_test_classified_incorrect.shape: (1016026,)\n",
      "ic| TP_H + FN_H + FP_H + TN_H: 1016026\n",
      "    len(label_mask_current_deforestation_test): 36843581\n",
      "ic| TP_H + FN_H + FP_H + TN_H: 1016026\n",
      "    len(label_mask_current_deforestation_test): 36843581\n"
     ]
    },
    {
     "name": "stdout",
     "output_type": "stream",
     "text": [
      "[0.93838264 0.94219482 0.79110709 0.02757674 0.490546   0.71681034\n",
      " 0.0456243 ]\n",
      "0.2614435453699888\n",
      "threshold 0.2614435453699888\n"
     ]
    },
    {
     "name": "stderr",
     "output_type": "stream",
     "text": [
      "ic| label_current_deforestation_test_classified_incorrect.shape: (1349856,)\n",
      "    predicted_test_classified_incorrect.shape: (1349856,)\n",
      "ic| TP_H + FN_H + FP_H + TN_H: 1349856\n",
      "    len(label_mask_current_deforestation_test): 36843581\n",
      "ic| TP_H + FN_H + FP_H + TN_H: 1349856\n",
      "    len(label_mask_current_deforestation_test): 36843581\n"
     ]
    },
    {
     "name": "stdout",
     "output_type": "stream",
     "text": [
      "[0.94852891 0.94104173 0.76387401 0.03663748 0.52261843 0.75519495\n",
      " 0.0370103 ]\n",
      "0.2914979404591679\n",
      "threshold 0.2914979404591679\n"
     ]
    },
    {
     "name": "stderr",
     "output_type": "stream",
     "text": [
      "ic| label_current_deforestation_test_classified_incorrect.shape: (1111838,)\n",
      "    predicted_test_classified_incorrect.shape: (1111838,)\n",
      "ic| TP_H + FN_H + FP_H + TN_H: 1111838\n",
      "    len(label_mask_current_deforestation_test): 36843581\n",
      "ic| TP_H + FN_H + FP_H + TN_H: 1111838\n",
      "    len(label_mask_current_deforestation_test): 36843581\n"
     ]
    },
    {
     "name": "stdout",
     "output_type": "stream",
     "text": [
      "[0.94202868 0.94187589 0.78269179 0.03017725 0.50041356 0.72991432\n",
      " 0.04285497]\n",
      "0.2800181830464194\n",
      "threshold 0.2800181830464194\n"
     ]
    },
    {
     "name": "stderr",
     "output_type": "stream",
     "text": [
      "ic| label_current_deforestation_test_classified_incorrect.shape: (1197345,)\n",
      "    predicted_test_classified_incorrect.shape: (1197345,)\n",
      "ic| TP_H + FN_H + FP_H + TN_H: 1197345\n",
      "    len(label_mask_current_deforestation_test): 36843581\n",
      "ic| TP_H + FN_H + FP_H + TN_H: 1197345\n",
      "    len(label_mask_current_deforestation_test): 36843581\n"
     ]
    },
    {
     "name": "stdout",
     "output_type": "stream",
     "text": [
      "[0.94467524 0.94157601 0.7756416  0.03249806 0.50880481 0.74000353\n",
      " 0.0405802 ]\n",
      "0.2927637339665435\n",
      "threshold 0.2927637339665435\n"
     ]
    },
    {
     "name": "stderr",
     "output_type": "stream",
     "text": [
      "ic| label_current_deforestation_test_classified_incorrect.shape: (1102550,)\n",
      "    predicted_test_classified_incorrect.shape: (1102550,)\n",
      "ic| TP_H + FN_H + FP_H + TN_H: 1102550\n",
      "    len(label_mask_current_deforestation_test): 36843581\n",
      "ic| TP_H + FN_H + FP_H + TN_H: 1102550\n",
      "    len(label_mask_current_deforestation_test): 36843581\n"
     ]
    },
    {
     "name": "stdout",
     "output_type": "stream",
     "text": [
      "[0.94173209 0.94191597 0.78354541 0.02992516 0.49931683 0.72861812\n",
      " 0.04311849]\n",
      "0.2942134704181597\n",
      "threshold 0.2942134704181597\n"
     ]
    },
    {
     "name": "stderr",
     "output_type": "stream",
     "text": [
      "ic| label_current_deforestation_test_classified_incorrect.shape: (1092173,)\n",
      "    predicted_test_classified_incorrect.shape: (1092173,)\n",
      "ic| TP_H + FN_H + FP_H + TN_H: 1092173\n",
      "    len(label_mask_current_deforestation_test): 36843581\n",
      "ic| TP_H + FN_H + FP_H + TN_H: 1092173\n",
      "    len(label_mask_current_deforestation_test): 36843581\n"
     ]
    },
    {
     "name": "stdout",
     "output_type": "stream",
     "text": [
      "[0.94134236 0.94194785 0.78445088 0.02964351 0.4982794  0.72726897\n",
      " 0.04340243]\n",
      "0.2925300296357244\n",
      "threshold 0.2925300296357244\n"
     ]
    },
    {
     "name": "stderr",
     "output_type": "stream",
     "text": [
      "ic| label_current_deforestation_test_classified_incorrect.shape: (1104263,)\n",
      "    predicted_test_classified_incorrect.shape: (1104263,)\n",
      "ic| TP_H + FN_H + FP_H + TN_H: 1104263\n",
      "    len(label_mask_current_deforestation_test): 36843581\n",
      "ic| TP_H + FN_H + FP_H + TN_H: 1104263\n",
      "    len(label_mask_current_deforestation_test): 36843581\n"
     ]
    },
    {
     "name": "stdout",
     "output_type": "stream",
     "text": [
      "[0.94177061 0.94190366 0.78336916 0.02997165 0.49958484 0.7289023\n",
      " 0.04306524]\n",
      "0.29228002811514836\n",
      "threshold 0.29228002811514836\n"
     ]
    },
    {
     "name": "stderr",
     "output_type": "stream",
     "text": [
      "ic| label_current_deforestation_test_classified_incorrect.shape: (1106083,)\n",
      "    predicted_test_classified_incorrect.shape: (1106083,)\n",
      "ic| TP_H + FN_H + FP_H + TN_H: 1106083\n",
      "    len(label_mask_current_deforestation_test): 36843581\n",
      "ic| TP_H + FN_H + FP_H + TN_H: 1106083\n",
      "    len(label_mask_current_deforestation_test): 36843581\n"
     ]
    },
    {
     "name": "stdout",
     "output_type": "stream",
     "text": [
      "[0.94184389 0.94189086 0.78318599 0.03002105 0.49980318 0.72919701\n",
      " 0.04301636]\n",
      "0.29236344228227695\n",
      "threshold 0.29236344228227695\n"
     ]
    },
    {
     "name": "stderr",
     "output_type": "stream",
     "text": [
      "ic| label_current_deforestation_test_classified_incorrect.shape: (1105468,)\n",
      "    predicted_test_classified_incorrect.shape: (1105468,)\n",
      "ic| TP_H + FN_H + FP_H + TN_H: 1105468\n",
      "    len(label_mask_current_deforestation_test): 36843581\n",
      "ic| TP_H + FN_H + FP_H + TN_H: 1105468\n",
      "    len(label_mask_current_deforestation_test): 36843581\n"
     ]
    },
    {
     "name": "stdout",
     "output_type": "stream",
     "text": [
      "[0.94181693 0.94189521 0.7832482  0.03000436 0.49973279 0.72909699\n",
      " 0.04303233]\n",
      "0.2923967799520609\n",
      "threshold 0.2923967799520609\n"
     ]
    },
    {
     "name": "stderr",
     "output_type": "stream",
     "text": [
      "ic| label_current_deforestation_test_classified_incorrect.shape: (1105223,)\n",
      "    predicted_test_classified_incorrect.shape: (1105223,)\n",
      "ic| TP_H + FN_H + FP_H + TN_H: 1105223\n",
      "    len(label_mask_current_deforestation_test): 36843581\n",
      "ic| TP_H + FN_H + FP_H + TN_H: 1105223\n",
      "    len(label_mask_current_deforestation_test): 36843581\n"
     ]
    },
    {
     "name": "stdout",
     "output_type": "stream",
     "text": [
      "[0.94180393 0.94189787 0.78328622 0.02999771 0.4996835  0.72903583\n",
      " 0.04303796]\n",
      "0.2924301176223394\n",
      "threshold 0.2924301176223394\n"
     ]
    },
    {
     "name": "stderr",
     "output_type": "stream",
     "text": [
      "ic| label_current_deforestation_test_classified_incorrect.shape: (1104978,)\n",
      "    predicted_test_classified_incorrect.shape: (1104978,)\n",
      "ic| TP_H + FN_H + FP_H + TN_H: 1104978\n",
      "    len(label_mask_current_deforestation_test): 36843581\n",
      "ic| TP_H + FN_H + FP_H + TN_H: 1104978\n",
      "    len(label_mask_current_deforestation_test): 36843581\n",
      "ic| self.threshold_optimal: 0.2923967799520609\n"
     ]
    },
    {
     "name": "stdout",
     "output_type": "stream",
     "text": [
      "[0.94178925 0.94189883 0.78330004 0.02999106 0.49968347 0.72901359\n",
      " 0.04304358]\n",
      "threshold:  0.2923967799520609\n",
      "threshold 0.2923967799520609\n"
     ]
    },
    {
     "name": "stderr",
     "output_type": "stream",
     "text": [
      "ic| label_current_deforestation_test_classified_incorrect.shape: (1105223,)\n",
      "    predicted_test_classified_incorrect.shape: (1105223,)\n",
      "ic| TP_H + FN_H + FP_H + TN_H: 1105223\n",
      "    len(label_mask_current_deforestation_test): 36843581\n",
      "ic| TP_H + FN_H + FP_H + TN_H: 1105223\n",
      "    len(label_mask_current_deforestation_test): 36843581\n"
     ]
    },
    {
     "name": "stdout",
     "output_type": "stream",
     "text": [
      "[0.94180393 0.94189787 0.78328622 0.02999771 0.4996835  0.72903583\n",
      " 0.04303796]\n",
      "threshold 0.2923967799520609\n",
      "(36843581,) (36843581,)\n"
     ]
    },
    {
     "name": "stderr",
     "output_type": "stream",
     "text": [
      "ic| self.m_optimal: {'AA': array([0.02999771]),\n",
      "                     'UEO': array([0.04303796]),\n",
      "                     'f1': 87.23,\n",
      "                     'f1_H': array([0.59295426]),\n",
      "                     'f1_L': array([0.9418509]),\n",
      "                     'precision_H': array([0.4996835]),\n",
      "                     'precision_L': array([0.94180393]),\n",
      "                     'recall_H': array([0.72903583]),\n",
      "                     'recall_L': array([0.94189787]),\n",
      "                     'recall_Ltotal': array([0.78328622])}\n",
      "ic| self.m_audited_optimal: {'f1': array([0.95164256]),\n",
      "                             'precision': array([0.95160309]),\n",
      "                             'recall': array([0.95168202])}\n"
     ]
    },
    {
     "name": "stdout",
     "output_type": "stream",
     "text": [
      "cm_audited [[36540222    14005]\n",
      " [   13981   275373]]\n",
      "[0.95160309 0.95168202]\n",
      "Result idx 0: {'uncertainty_result': {'metrics': {'precision_L': array([0.94180393]), 'recall_L': array([0.94189787]), 'recall_Ltotal': array([0.78328622]), 'AA': array([0.02999771]), 'precision_H': array([0.4996835]), 'recall_H': array([0.72903583]), 'UEO': array([0.04303796]), 'f1_L': array([0.9418509]), 'f1_H': array([0.59295426]), 'f1': 87.23}, 'metrics_audited': {'precision': array([0.95160309]), 'recall': array([0.95168202]), 'f1': array([0.95164256])}, 'exp': 41}}\n",
      "Grid execution idx: 0\n",
      "Beginning run number 1\n",
      "manager.config {'training': True, 'inferring': True, 'site': 'MS', 'training_date': 'current', 'mode': 'evidential2', 'training_times': 20, 'uncertainty_method': 'pred_entropy', 'loadInference': False, 'removePolygons': True, 'plotLandsat': False, 'plotPOI': False, 'training_experiment_id': 41, 'get_multiple_metrics': False, 'start_repetition_id': 0, 'end_repetition_id': 20, 'save_probabilities': False, 'addPastDeforestationInput': True, 'classes_mode': True, 'learning_rate': 0.0001, 'use_cloud_mask': False, 'mask_out_non_biome': False, 'log_filename': 'log.pkl', 'inference_times': 1, 'dropout_training': False}\n",
      "D:/Jorge/datasets/deforestation/MS/deforestation_past_years.tif\n",
      "Loaded deforestation past years\n"
     ]
    },
    {
     "name": "stderr",
     "output_type": "stream",
     "text": [
      "ic| np.unique(deforestation_past_years, return_counts=True): (array([   0, 2002, 2004, 2006, 2008, 2010, 2012, 2013, 2014, 2015, 2016,\n",
      "                                                                    2017, 2018, 2019, 2020, 2021], dtype=uint16),\n",
      "                                                              array([334024764,   8717093,   6541094,   3824922,   2096535,   1305948,\n",
      "                                                                      1003721,    903906,    318788,    701575,    310887,    440417,\n",
      "                                                                       316180,    560438,    600838,    776899], dtype=int64))\n"
     ]
    },
    {
     "name": "stdout",
     "output_type": "stream",
     "text": [
      "Label where deforestation past years is actual date (2020) = 1\n"
     ]
    },
    {
     "name": "stderr",
     "output_type": "stream",
     "text": [
      "ic| np.unique(deforestation_past_years, return_counts=True): (array([   0, 2002, 2004, 2006, 2008, 2010, 2012, 2013, 2014, 2015, 2016,\n",
      "                                                                    2017, 2018, 2019, 2020, 2021], dtype=uint16),\n",
      "                                                              array([334024764,   8717093,   6541094,   3824922,   2096535,   1305948,\n",
      "                                                                      1003721,    903906,    318788,    701575,    310887,    440417,\n",
      "                                                                       316180,    560438,    600838,    776899], dtype=int64))\n"
     ]
    },
    {
     "name": "stdout",
     "output_type": "stream",
     "text": [
      "Past deforestation different from 0 (no deforestation)\n"
     ]
    },
    {
     "name": "stderr",
     "output_type": "stream",
     "text": [
      "ic| np.unique(deforestation_past_years, return_counts=True): (array([   0, 2002, 2004, 2006, 2008, 2010, 2012, 2013, 2014, 2015, 2016,\n",
      "                                                                    2017, 2018, 2019, 2020, 2021], dtype=uint16),\n",
      "                                                              array([334024764,   8717093,   6541094,   3824922,   2096535,   1305948,\n",
      "                                                                      1003721,    903906,    318788,    701575,    310887,    440417,\n",
      "                                                                       316180,    560438,    600838,    776899], dtype=int64))\n"
     ]
    },
    {
     "name": "stdout",
     "output_type": "stream",
     "text": [
      "Past deforestation before 2008 is 2\n",
      "D:/Jorge/datasets/deforestation/MS/deforestation_before_2000_MS.tif\n"
     ]
    },
    {
     "name": "stderr",
     "output_type": "stream",
     "text": [
      "ic| np.unique(label_past_deforestation_before_2008, return_counts=True): (array([  0, 208], dtype=uint8), array([126708038, 235735967], dtype=int64))\n",
      "ic| np.unique(deforestation_past_years, return_counts=True): (array([   0, 2002, 2004, 2006, 2008, 2010, 2012, 2013, 2014, 2015, 2016,\n",
      "                                                                    2017, 2018, 2019, 2020, 2021], dtype=uint16),\n",
      "                                                              array([334024764,   8717093,   6541094,   3824922,   2096535,   1305948,\n",
      "                                                                      1003721,    903906,    318788,    701575,    310887,    440417,\n",
      "                                                                       316180,    560438,    600838,    776899], dtype=int64))\n",
      "ic| label_per_date.shape: (18605, 19481, 1)\n"
     ]
    },
    {
     "name": "stdout",
     "output_type": "stream",
     "text": [
      "Removing bufer................\n",
      "Mask label shape:  \n",
      " (18605, 19481, 1) \n",
      " Unique values:  \n",
      " [0 1 2]\n",
      "Tiles size:  3721 3896\n",
      "Mask size:  (18605, 19480)\n"
     ]
    },
    {
     "name": "stderr",
     "output_type": "stream",
     "text": [
      "ic| image_stack.shape: (18605, 19481, 9)\n"
     ]
    },
    {
     "name": "stdout",
     "output_type": "stream",
     "text": [
      "Image shape:  (18605, 19481, 9)\n",
      "mask:  (18605, 19480)\n",
      "image stack:  (18605, 19480, 9)\n",
      "ref : (18605, 19480, 1)\n",
      "Training tiles:  [2, 4, 5, 6, 7, 12, 14, 15, 18, 21, 23, 24]\n",
      "Validation tiles:  [9, 11, 25]\n",
      "Test tiles:  [1, 3, 8, 10, 13, 16, 17, 19, 20, 22]\n",
      "-35.0 -8.0\n"
     ]
    },
    {
     "name": "stderr",
     "output_type": "stream",
     "text": [
      "ic| self.path_models+ '/' + self.method +'_'+str(self.repetition_id)+'.h5': 'D:/Jorge/datasets/deforestation/experiments/MS/exp41/models/resunet_1.h5'\n"
     ]
    },
    {
     "name": "stdout",
     "output_type": "stream",
     "text": [
      "Dropout training mode: False\n",
      "time:  0\n",
      "alpha.shape (18640, 19488, 2)\n",
      "S.shape (18640, 19488)\n",
      "K 2\n",
      "u.shape (18640, 19488)\n",
      "belief.shape (18640, 19488, 2)\n",
      "Inference runtime 257.66\n",
      "(36877090,)\n",
      "(array([0, 1], dtype=uint8), array([36581631,   295459], dtype=int64))\n",
      "(18605, 19480, 2)\n"
     ]
    },
    {
     "name": "stderr",
     "output_type": "stream",
     "text": [
      "ic| predicted_test.shape: (144970160,)\n",
      "ic| predicted_test.shape: (36877090,)\n",
      "ic| np.unique(predicted, return_counts=True): (array([0, 1], dtype=int8), array([361674017,    751383], dtype=int64))\n",
      "    np.unique(predicted_larger_than_min_area, return_counts=True): (array([0, 1], dtype=int8), array([361756092,    669308], dtype=int64))\n",
      "ic| np.unique(ignored_polygons, return_counts=True): (array([0, 1], dtype=int8), array([362343325,     82075], dtype=int64))\n",
      "ic| self.f1: 92.0, self.precision: 94.67, self.recall: 89.48\n",
      "ic| self.label_mask_val.shape: (43491048,)\n",
      "ic| self.label_mask_val_valid.shape: (10766357,)\n",
      "ic| f1_val: 41.63\n",
      "    precision_val: 28.22\n",
      "    recall_val: 79.34\n",
      "    mAP_val: 68.14\n"
     ]
    },
    {
     "name": "stdout",
     "output_type": "stream",
     "text": [
      "(array([0, 1], dtype=int16), array([362136141,    289259], dtype=int64))\n",
      "[0 1]\n"
     ]
    },
    {
     "name": "stderr",
     "output_type": "stream",
     "text": [
      "ic| self.label_mask.shape: (18605, 19480)\n",
      "ic| self.mask_test.shape: (18605, 19480)\n",
      "ic| self.label_mask_test.shape: (144970160,)\n",
      "ic| self.error_mask_test.shape: (36846664,)\n",
      "ic| bounds: (0.00010578750008484349, 0.4985)\n"
     ]
    },
    {
     "name": "stdout",
     "output_type": "stream",
     "text": [
      "(0.00010578750008484349, 0.4985)\n",
      "0.19047543687881469\n",
      "threshold 0.19047543687881469\n"
     ]
    },
    {
     "name": "stderr",
     "output_type": "stream",
     "text": [
      "c:\\Users\\jchamorro\\Anaconda3\\envs\\tf2\\lib\\site-packages\\scipy\\optimize\\_minimize.py:783: RuntimeWarning: Method 'bounded' does not support relative tolerance in x; defaulting to absolute tolerance.\n",
      "  warn(\"Method 'bounded' does not support relative tolerance in x; \"\n",
      "ic| label_current_deforestation_test_classified_incorrect.shape: (1918404,)\n",
      "    predicted_test_classified_incorrect.shape: (1918404,)\n",
      "ic| TP_H + FN_H + FP_H + TN_H: 1918404\n",
      "    len(label_mask_current_deforestation_test): 36846664\n",
      "ic| TP_H + FN_H + FP_H + TN_H: 1918404\n",
      "    len(label_mask_current_deforestation_test): 36846664\n"
     ]
    },
    {
     "name": "stdout",
     "output_type": "stream",
     "text": [
      "[0.98331433 0.94304052 0.71463288 0.05206452 0.82500675 0.74382389\n",
      " 0.01495125]\n",
      "0.30813035062127003\n",
      "threshold 0.30813035062127003\n"
     ]
    },
    {
     "name": "stderr",
     "output_type": "stream",
     "text": [
      "ic| label_current_deforestation_test_classified_incorrect.shape: (854888,)\n",
      "    predicted_test_classified_incorrect.shape: (854888,)\n",
      "ic| TP_H + FN_H + FP_H + TN_H: 854888\n",
      "    len(label_mask_current_deforestation_test): 36846664\n",
      "ic| TP_H + FN_H + FP_H + TN_H: 854888\n",
      "    len(label_mask_current_deforestation_test): 36846664\n"
     ]
    },
    {
     "name": "stdout",
     "output_type": "stream",
     "text": [
      "[0.97996682 0.94472053 0.78227484 0.02320123 0.76612218 0.65434165\n",
      " 0.03099902]\n",
      "0.38084508625754454\n",
      "threshold 0.38084508625754454\n"
     ]
    },
    {
     "name": "stderr",
     "output_type": "stream",
     "text": [
      "ic| label_current_deforestation_test_classified_incorrect.shape: (561427,)\n",
      "    predicted_test_classified_incorrect.shape: (561427,)\n",
      "ic| TP_H + FN_H + FP_H + TN_H: 561427\n",
      "    len(label_mask_current_deforestation_test): 36846664\n",
      "ic| TP_H + FN_H + FP_H + TN_H: 561427\n",
      "    len(label_mask_current_deforestation_test): 36846664\n"
     ]
    },
    {
     "name": "stdout",
     "output_type": "stream",
     "text": [
      "[0.97478902 0.94524157 0.8196561  0.01523685 0.72053592 0.56550554\n",
      " 0.04311135]\n",
      "0.3009172584004156\n",
      "threshold 0.3009172584004156\n"
     ]
    },
    {
     "name": "stderr",
     "output_type": "stream",
     "text": [
      "ic| label_current_deforestation_test_classified_incorrect.shape: (892662,)\n",
      "    predicted_test_classified_incorrect.shape: (892662,)\n",
      "ic| TP_H + FN_H + FP_H + TN_H: 892662\n",
      "    len(label_mask_current_deforestation_test): 36846664\n",
      "ic| TP_H + FN_H + FP_H + TN_H: 892662\n",
      "    len(label_mask_current_deforestation_test): 36846664\n"
     ]
    },
    {
     "name": "stdout",
     "output_type": "stream",
     "text": [
      "[0.98024573 0.94466737 0.77857935 0.0242264  0.77031965 0.66097484\n",
      " 0.02986676]\n",
      "0.2587322363586137\n",
      "threshold 0.2587322363586137\n"
     ]
    },
    {
     "name": "stderr",
     "output_type": "stream",
     "text": [
      "ic| label_current_deforestation_test_classified_incorrect.shape: (1167953,)\n",
      "    predicted_test_classified_incorrect.shape: (1167953,)\n",
      "ic| TP_H + FN_H + FP_H + TN_H: 1167953\n",
      "    len(label_mask_current_deforestation_test): 36846664\n",
      "ic| TP_H + FN_H + FP_H + TN_H: 1167953\n",
      "    len(label_mask_current_deforestation_test): 36846664\n"
     ]
    },
    {
     "name": "stdout",
     "output_type": "stream",
     "text": [
      "[0.98194361 0.94419404 0.75598697 0.03169766 0.79206726 0.69634255\n",
      " 0.02360717]\n",
      "0.2273817424672524\n",
      "threshold 0.2273817424672524\n"
     ]
    },
    {
     "name": "stderr",
     "output_type": "stream",
     "text": [
      "ic| label_current_deforestation_test_classified_incorrect.shape: (1453993,)\n",
      "    predicted_test_classified_incorrect.shape: (1453993,)\n",
      "ic| TP_H + FN_H + FP_H + TN_H: 1453993\n",
      "    len(label_mask_current_deforestation_test): 36846664\n",
      "ic| TP_H + FN_H + FP_H + TN_H: 1453993\n",
      "    len(label_mask_current_deforestation_test): 36846664\n"
     ]
    },
    {
     "name": "stdout",
     "output_type": "stream",
     "text": [
      "[0.9828799  0.94363539 0.73679193 0.03946064 0.80815675 0.72079709\n",
      " 0.01936425]\n",
      "0.27484548096241856\n",
      "threshold 0.27484548096241856\n"
     ]
    },
    {
     "name": "stderr",
     "output_type": "stream",
     "text": [
      "ic| label_current_deforestation_test_classified_incorrect.shape: (1050160,)\n",
      "    predicted_test_classified_incorrect.shape: (1050160,)\n",
      "ic| TP_H + FN_H + FP_H + TN_H: 1050160\n",
      "    len(label_mask_current_deforestation_test): 36846664\n",
      "ic| TP_H + FN_H + FP_H + TN_H: 1050160\n",
      "    len(label_mask_current_deforestation_test): 36846664\n"
     ]
    },
    {
     "name": "stdout",
     "output_type": "stream",
     "text": [
      "[0.9813087  0.94442043 0.76496221 0.02850082 0.78399766 0.68323208\n",
      " 0.02593435]\n",
      "0.2682628151962309\n",
      "threshold 0.2682628151962309\n"
     ]
    },
    {
     "name": "stderr",
     "output_type": "stream",
     "text": [
      "ic| label_current_deforestation_test_classified_incorrect.shape: (1096095,)\n",
      "    predicted_test_classified_incorrect.shape: (1096095,)\n",
      "ic| TP_H + FN_H + FP_H + TN_H: 1096095\n",
      "    len(label_mask_current_deforestation_test): 36846664\n",
      "ic| TP_H + FN_H + FP_H + TN_H: 1096095\n",
      "    len(label_mask_current_deforestation_test): 36846664\n"
     ]
    },
    {
     "name": "stdout",
     "output_type": "stream",
     "text": [
      "[0.98159139 0.94437015 0.76140539 0.02974747 0.78718442 0.68846064\n",
      " 0.02498581]\n",
      "0.2670798657339484\n",
      "threshold 0.2670798657339484\n"
     ]
    },
    {
     "name": "stderr",
     "output_type": "stream",
     "text": [
      "ic| label_current_deforestation_test_classified_incorrect.shape: (1104664,)\n",
      "    predicted_test_classified_incorrect.shape: (1104664,)\n",
      "ic| TP_H + FN_H + FP_H + TN_H: 1104664\n",
      "    len(label_mask_current_deforestation_test): 36846664\n",
      "ic| TP_H + FN_H + FP_H + TN_H: 1104664\n",
      "    len(label_mask_current_deforestation_test): 36846664\n"
     ]
    },
    {
     "name": "stdout",
     "output_type": "stream",
     "text": [
      "[0.98163451 0.94435741 0.76063232 0.02998003 0.7879263  0.68957591\n",
      " 0.02481686]\n",
      "0.2638913550380576\n",
      "threshold 0.2638913550380576\n"
     ]
    },
    {
     "name": "stderr",
     "output_type": "stream",
     "text": [
      "ic| label_current_deforestation_test_classified_incorrect.shape: (1128311,)\n",
      "    predicted_test_classified_incorrect.shape: (1128311,)\n",
      "ic| TP_H + FN_H + FP_H + TN_H: 1128311\n",
      "    len(label_mask_current_deforestation_test): 36846664\n",
      "ic| TP_H + FN_H + FP_H + TN_H: 1128311\n",
      "    len(label_mask_current_deforestation_test): 36846664\n"
     ]
    },
    {
     "name": "stdout",
     "output_type": "stream",
     "text": [
      "[0.98174894 0.94427787 0.75877765 0.0306218  0.78963893 0.69236063\n",
      " 0.02434742]\n",
      "0.26655622701722637\n",
      "threshold 0.26655622701722637\n"
     ]
    },
    {
     "name": "stderr",
     "output_type": "stream",
     "text": [
      "ic| label_current_deforestation_test_classified_incorrect.shape: (1108440,)\n",
      "    predicted_test_classified_incorrect.shape: (1108440,)\n",
      "ic| TP_H + FN_H + FP_H + TN_H: 1108440\n",
      "    len(label_mask_current_deforestation_test): 36846664\n",
      "ic| TP_H + FN_H + FP_H + TN_H: 1108440\n",
      "    len(label_mask_current_deforestation_test): 36846664\n"
     ]
    },
    {
     "name": "stdout",
     "output_type": "stream",
     "text": [
      "[0.98166193 0.94434708 0.76030645 0.03008251 0.78820326 0.69005817\n",
      " 0.02474362]\n",
      "0.2671405063233096\n",
      "threshold 0.2671405063233096\n"
     ]
    },
    {
     "name": "stderr",
     "output_type": "stream",
     "text": [
      "ic| label_current_deforestation_test_classified_incorrect.shape: (1104234,)\n",
      "    predicted_test_classified_incorrect.shape: (1104234,)\n",
      "ic| TP_H + FN_H + FP_H + TN_H: 1104234\n",
      "    len(label_mask_current_deforestation_test): 36846664\n",
      "ic| TP_H + FN_H + FP_H + TN_H: 1104234\n",
      "    len(label_mask_current_deforestation_test): 36846664\n"
     ]
    },
    {
     "name": "stdout",
     "output_type": "stream",
     "text": [
      "[0.98163061 0.94435884 0.76065312 0.02996836 0.78791643 0.68954272\n",
      " 0.02482547]\n",
      "0.26692991396366866\n",
      "threshold 0.26692991396366866\n"
     ]
    },
    {
     "name": "stderr",
     "output_type": "stream",
     "text": [
      "ic| label_current_deforestation_test_classified_incorrect.shape: (1105816,)\n",
      "    predicted_test_classified_incorrect.shape: (1105816,)\n",
      "ic| TP_H + FN_H + FP_H + TN_H: 1105816\n",
      "    len(label_mask_current_deforestation_test): 36846664\n",
      "ic| TP_H + FN_H + FP_H + TN_H: 1105816\n",
      "    len(label_mask_current_deforestation_test): 36846664\n"
     ]
    },
    {
     "name": "stdout",
     "output_type": "stream",
     "text": [
      "[0.98164464 0.94434854 0.76050406 0.03001129 0.78803784 0.68978044\n",
      " 0.02479414]\n",
      "0.26696325125621245\n",
      "threshold 0.26696325125621245\n"
     ]
    },
    {
     "name": "stderr",
     "output_type": "stream",
     "text": [
      "ic| label_current_deforestation_test_classified_incorrect.shape: (1105531,)\n",
      "    predicted_test_classified_incorrect.shape: (1105531,)\n",
      "ic| TP_H + FN_H + FP_H + TN_H: 1105531\n",
      "    len(label_mask_current_deforestation_test): 36846664\n",
      "ic| TP_H + FN_H + FP_H + TN_H: 1105531\n",
      "    len(label_mask_current_deforestation_test): 36846664\n"
     ]
    },
    {
     "name": "stdout",
     "output_type": "stream",
     "text": [
      "[0.98164522 0.94435022 0.76052832 0.03000356 0.78800765 0.68974176\n",
      " 0.02480043]\n",
      "0.2669965885492507\n",
      "threshold 0.2669965885492507\n"
     ]
    },
    {
     "name": "stderr",
     "output_type": "stream",
     "text": [
      "ic| label_current_deforestation_test_classified_incorrect.shape: (1105286,)\n",
      "    predicted_test_classified_incorrect.shape: (1105286,)\n",
      "ic| TP_H + FN_H + FP_H + TN_H: 1105286\n",
      "    len(label_mask_current_deforestation_test): 36846664\n",
      "ic| TP_H + FN_H + FP_H + TN_H: 1105286\n",
      "    len(label_mask_current_deforestation_test): 36846664\n"
     ]
    },
    {
     "name": "stdout",
     "output_type": "stream",
     "text": [
      "[0.98164181 0.9443531  0.76056992 0.02999691 0.78797191 0.68967544\n",
      " 0.02480493]\n",
      "0.2670299258427834\n",
      "threshold 0.2670299258427834\n"
     ]
    },
    {
     "name": "stderr",
     "output_type": "stream",
     "text": [
      "ic| label_current_deforestation_test_classified_incorrect.shape: (1105045,)\n",
      "    predicted_test_classified_incorrect.shape: (1105045,)\n",
      "ic| TP_H + FN_H + FP_H + TN_H: 1105045\n",
      "    len(label_mask_current_deforestation_test): 36846664\n",
      "ic| TP_H + FN_H + FP_H + TN_H: 1105045\n",
      "    len(label_mask_current_deforestation_test): 36846664\n",
      "ic| self.threshold_optimal: 0.2669965885492507\n"
     ]
    },
    {
     "name": "stdout",
     "output_type": "stream",
     "text": [
      "[0.98163799 0.94435477 0.76059419 0.02999037 0.78795774 0.68963674\n",
      " 0.02480935]\n",
      "threshold:  0.2669965885492507\n",
      "threshold 0.2669965885492507\n"
     ]
    },
    {
     "name": "stderr",
     "output_type": "stream",
     "text": [
      "ic| label_current_deforestation_test_classified_incorrect.shape: (1105286,)\n",
      "    predicted_test_classified_incorrect.shape: (1105286,)\n",
      "ic| TP_H + FN_H + FP_H + TN_H: 1105286\n",
      "    len(label_mask_current_deforestation_test): 36846664\n",
      "ic| TP_H + FN_H + FP_H + TN_H: 1105286\n",
      "    len(label_mask_current_deforestation_test): 36846664\n"
     ]
    },
    {
     "name": "stdout",
     "output_type": "stream",
     "text": [
      "[0.98164181 0.9443531  0.76056992 0.02999691 0.78797191 0.68967544\n",
      " 0.02480493]\n",
      "threshold 0.2669965885492507\n",
      "(36846664,) (36846664,)\n"
     ]
    },
    {
     "name": "stderr",
     "output_type": "stream",
     "text": [
      "ic| self.m_optimal: {'AA': array([0.02999691]),\n",
      "                     'UEO': array([0.02480493]),\n",
      "                     'f1': 92.0,\n",
      "                     'f1_H': array([0.73555423]),\n",
      "                     'f1_L': array([0.96263649]),\n",
      "                     'precision_H': array([0.78797191]),\n",
      "                     'precision_L': array([0.98164181]),\n",
      "                     'recall_H': array([0.68967544]),\n",
      "                     'recall_L': array([0.9443531]),\n",
      "                     'recall_Ltotal': array([0.76056992])}\n",
      "ic| self.m_audited_optimal: {'f1': array([0.97002086]),\n",
      "                             'precision': array([0.9853273]),\n",
      "                             'recall': array([0.95518269])}\n"
     ]
    },
    {
     "name": "stdout",
     "output_type": "stream",
     "text": [
      "cm_audited [[36554101     4103]\n",
      " [   12928   275532]]\n",
      "[0.9853273  0.95518269]\n",
      "Result idx 1: {'uncertainty_result': {'metrics': {'precision_L': array([0.98164181]), 'recall_L': array([0.9443531]), 'recall_Ltotal': array([0.76056992]), 'AA': array([0.02999691]), 'precision_H': array([0.78797191]), 'recall_H': array([0.68967544]), 'UEO': array([0.02480493]), 'f1_L': array([0.96263649]), 'f1_H': array([0.73555423]), 'f1': 92.0}, 'metrics_audited': {'precision': array([0.9853273]), 'recall': array([0.95518269]), 'f1': array([0.97002086])}, 'exp': 41}}\n",
      "Grid execution idx: 1\n",
      "Beginning run number 2\n",
      "manager.config {'training': True, 'inferring': True, 'site': 'MS', 'training_date': 'current', 'mode': 'evidential2', 'training_times': 20, 'uncertainty_method': 'pred_entropy', 'loadInference': False, 'removePolygons': True, 'plotLandsat': False, 'plotPOI': False, 'training_experiment_id': 41, 'get_multiple_metrics': False, 'start_repetition_id': 0, 'end_repetition_id': 20, 'save_probabilities': False, 'addPastDeforestationInput': True, 'classes_mode': True, 'learning_rate': 0.0001, 'use_cloud_mask': False, 'mask_out_non_biome': False, 'log_filename': 'log.pkl', 'inference_times': 1, 'dropout_training': False}\n",
      "D:/Jorge/datasets/deforestation/MS/deforestation_past_years.tif\n",
      "Loaded deforestation past years\n"
     ]
    },
    {
     "name": "stderr",
     "output_type": "stream",
     "text": [
      "ic| np.unique(deforestation_past_years, return_counts=True): (array([   0, 2002, 2004, 2006, 2008, 2010, 2012, 2013, 2014, 2015, 2016,\n",
      "                                                                    2017, 2018, 2019, 2020, 2021], dtype=uint16),\n",
      "                                                              array([334024764,   8717093,   6541094,   3824922,   2096535,   1305948,\n",
      "                                                                      1003721,    903906,    318788,    701575,    310887,    440417,\n",
      "                                                                       316180,    560438,    600838,    776899], dtype=int64))\n"
     ]
    },
    {
     "name": "stdout",
     "output_type": "stream",
     "text": [
      "Label where deforestation past years is actual date (2020) = 1\n"
     ]
    },
    {
     "name": "stderr",
     "output_type": "stream",
     "text": [
      "ic| np.unique(deforestation_past_years, return_counts=True): (array([   0, 2002, 2004, 2006, 2008, 2010, 2012, 2013, 2014, 2015, 2016,\n",
      "                                                                    2017, 2018, 2019, 2020, 2021], dtype=uint16),\n",
      "                                                              array([334024764,   8717093,   6541094,   3824922,   2096535,   1305948,\n",
      "                                                                      1003721,    903906,    318788,    701575,    310887,    440417,\n",
      "                                                                       316180,    560438,    600838,    776899], dtype=int64))\n"
     ]
    },
    {
     "name": "stdout",
     "output_type": "stream",
     "text": [
      "Past deforestation different from 0 (no deforestation)\n"
     ]
    },
    {
     "name": "stderr",
     "output_type": "stream",
     "text": [
      "ic| np.unique(deforestation_past_years, return_counts=True): (array([   0, 2002, 2004, 2006, 2008, 2010, 2012, 2013, 2014, 2015, 2016,\n",
      "                                                                    2017, 2018, 2019, 2020, 2021], dtype=uint16),\n",
      "                                                              array([334024764,   8717093,   6541094,   3824922,   2096535,   1305948,\n",
      "                                                                      1003721,    903906,    318788,    701575,    310887,    440417,\n",
      "                                                                       316180,    560438,    600838,    776899], dtype=int64))\n"
     ]
    },
    {
     "name": "stdout",
     "output_type": "stream",
     "text": [
      "Past deforestation before 2008 is 2\n",
      "D:/Jorge/datasets/deforestation/MS/deforestation_before_2000_MS.tif\n"
     ]
    },
    {
     "name": "stderr",
     "output_type": "stream",
     "text": [
      "ic| np.unique(label_past_deforestation_before_2008, return_counts=True): (array([  0, 208], dtype=uint8), array([126708038, 235735967], dtype=int64))\n",
      "ic| np.unique(deforestation_past_years, return_counts=True): (array([   0, 2002, 2004, 2006, 2008, 2010, 2012, 2013, 2014, 2015, 2016,\n",
      "                                                                    2017, 2018, 2019, 2020, 2021], dtype=uint16),\n",
      "                                                              array([334024764,   8717093,   6541094,   3824922,   2096535,   1305948,\n",
      "                                                                      1003721,    903906,    318788,    701575,    310887,    440417,\n",
      "                                                                       316180,    560438,    600838,    776899], dtype=int64))\n",
      "ic| label_per_date.shape: (18605, 19481, 1)\n"
     ]
    },
    {
     "name": "stdout",
     "output_type": "stream",
     "text": [
      "Removing bufer................\n",
      "Mask label shape:  \n",
      " (18605, 19481, 1) \n",
      " Unique values:  \n",
      " [0 1 2]\n",
      "Tiles size:  3721 3896\n",
      "Mask size:  (18605, 19480)\n"
     ]
    },
    {
     "name": "stderr",
     "output_type": "stream",
     "text": [
      "ic| image_stack.shape: (18605, 19481, 9)\n"
     ]
    },
    {
     "name": "stdout",
     "output_type": "stream",
     "text": [
      "Image shape:  (18605, 19481, 9)\n",
      "mask:  (18605, 19480)\n",
      "image stack:  (18605, 19480, 9)\n",
      "ref : (18605, 19480, 1)\n",
      "Training tiles:  [2, 4, 5, 6, 7, 12, 14, 15, 18, 21, 23, 24]\n",
      "Validation tiles:  [9, 11, 25]\n",
      "Test tiles:  [1, 3, 8, 10, 13, 16, 17, 19, 20, 22]\n",
      "-35.0 -8.0\n"
     ]
    },
    {
     "name": "stderr",
     "output_type": "stream",
     "text": [
      "ic| self.path_models+ '/' + self.method +'_'+str(self.repetition_id)+'.h5': 'D:/Jorge/datasets/deforestation/experiments/MS/exp41/models/resunet_2.h5'\n"
     ]
    },
    {
     "name": "stdout",
     "output_type": "stream",
     "text": [
      "Dropout training mode: False\n",
      "time:  0\n",
      "alpha.shape (18640, 19488, 2)\n",
      "S.shape (18640, 19488)\n",
      "K 2\n",
      "u.shape (18640, 19488)\n",
      "belief.shape (18640, 19488, 2)\n",
      "Inference runtime 256.54\n",
      "(36877090,)\n",
      "(array([0, 1], dtype=uint8), array([36581631,   295459], dtype=int64))\n",
      "(18605, 19480, 2)\n"
     ]
    },
    {
     "name": "stderr",
     "output_type": "stream",
     "text": [
      "ic| predicted_test.shape: (144970160,)\n",
      "ic| predicted_test.shape: (36877090,)\n",
      "ic| np.unique(predicted, return_counts=True): (array([0, 1], dtype=int8), array([361507330,    918070], dtype=int64))\n",
      "    np.unique(predicted_larger_than_min_area, return_counts=True): (array([0, 1], dtype=int8), array([361556555,    868845], dtype=int64))\n",
      "ic| np.unique(ignored_polygons, return_counts=True): (array([0, 1], dtype=int8), array([362376175,     49225], dtype=int64))\n",
      "ic| self.f1: 87.16, self.precision: 87.29, self.recall: 87.03\n",
      "ic| self.label_mask_val.shape: (43491048,)\n",
      "ic| self.label_mask_val_valid.shape: (10771138,)\n",
      "ic| f1_val: 46.82\n",
      "    precision_val: 36.91\n",
      "    recall_val: 63.98\n",
      "    mAP_val: 55.16\n"
     ]
    },
    {
     "name": "stdout",
     "output_type": "stream",
     "text": [
      "(array([0, 1], dtype=int16), array([361906396,    519004], dtype=int64))\n",
      "[0 1]\n"
     ]
    },
    {
     "name": "stderr",
     "output_type": "stream",
     "text": [
      "ic| self.label_mask.shape: (18605, 19480)\n",
      "ic| self.mask_test.shape: (18605, 19480)\n",
      "ic| self.label_mask_test.shape: (144970160,)\n",
      "ic| self.error_mask_test.shape: (36856709,)\n",
      "ic| bounds: (0.00010578750008484349, 0.4985)\n"
     ]
    },
    {
     "name": "stdout",
     "output_type": "stream",
     "text": [
      "(0.00010578750008484349, 0.4985)\n",
      "0.19047543687881469\n",
      "threshold 0.19047543687881469\n"
     ]
    },
    {
     "name": "stderr",
     "output_type": "stream",
     "text": [
      "c:\\Users\\jchamorro\\Anaconda3\\envs\\tf2\\lib\\site-packages\\scipy\\optimize\\_minimize.py:783: RuntimeWarning: Method 'bounded' does not support relative tolerance in x; defaulting to absolute tolerance.\n",
      "  warn(\"Method 'bounded' does not support relative tolerance in x; \"\n",
      "ic| label_current_deforestation_test_classified_incorrect.shape: (3425159,)\n",
      "    predicted_test_classified_incorrect.shape: (3425159,)\n",
      "ic| TP_H + FN_H + FP_H + TN_H: 3425159\n",
      "    len(label_mask_current_deforestation_test): 36856709\n",
      "ic| TP_H + FN_H + FP_H + TN_H: 3425159\n",
      "    len(label_mask_current_deforestation_test): 36856709\n"
     ]
    },
    {
     "name": "stdout",
     "output_type": "stream",
     "text": [
      "[0.9606221  0.94492842 0.68775822 0.09293176 0.64960949 0.67088142\n",
      " 0.01581566]\n",
      "0.30813035062127003\n",
      "threshold 0.30813035062127003\n"
     ]
    },
    {
     "name": "stderr",
     "output_type": "stream",
     "text": [
      "ic| label_current_deforestation_test_classified_incorrect.shape: (1864033,)\n",
      "    predicted_test_classified_incorrect.shape: (1864033,)\n",
      "ic| TP_H + FN_H + FP_H + TN_H: 1864033\n",
      "    len(label_mask_current_deforestation_test): 36856709\n",
      "ic| TP_H + FN_H + FP_H + TN_H: 1864033\n",
      "    len(label_mask_current_deforestation_test): 36856709\n"
     ]
    },
    {
     "name": "stdout",
     "output_type": "stream",
     "text": [
      "[0.93583297 0.94748991 0.77215321 0.05057513 0.5711303  0.53060768\n",
      " 0.02459496]\n",
      "0.38084508625754454\n",
      "threshold 0.38084508625754454\n"
     ]
    },
    {
     "name": "stderr",
     "output_type": "stream",
     "text": [
      "ic| label_current_deforestation_test_classified_incorrect.shape: (1106748,)\n",
      "    predicted_test_classified_incorrect.shape: (1106748,)\n",
      "ic| TP_H + FN_H + FP_H + TN_H: 1106748\n",
      "    len(label_mask_current_deforestation_test): 36856709\n",
      "ic| TP_H + FN_H + FP_H + TN_H: 1106748\n",
      "    len(label_mask_current_deforestation_test): 36856709\n"
     ]
    },
    {
     "name": "stdout",
     "output_type": "stream",
     "text": [
      "[0.91510987 0.94766815 0.8098688  0.0300284  0.53983855 0.41589916\n",
      " 0.03464127]\n",
      "0.42578526436372544\n",
      "threshold 0.42578526436372544\n"
     ]
    },
    {
     "name": "stderr",
     "output_type": "stream",
     "text": [
      "ic| label_current_deforestation_test_classified_incorrect.shape: (709161,)\n",
      "    predicted_test_classified_incorrect.shape: (709161,)\n",
      "ic| TP_H + FN_H + FP_H + TN_H: 709161\n",
      "    len(label_mask_current_deforestation_test): 36856709\n",
      "ic| TP_H + FN_H + FP_H + TN_H: 709161\n",
      "    len(label_mask_current_deforestation_test): 36856709\n"
     ]
    },
    {
     "name": "stdout",
     "output_type": "stream",
     "text": [
      "[0.90015111 0.9472903  0.83271147 0.01924103 0.52310128 0.31113204\n",
      " 0.04547966]\n",
      "0.37637215001894087\n",
      "threshold 0.37637215001894087\n"
     ]
    },
    {
     "name": "stderr",
     "output_type": "stream",
     "text": [
      "ic| label_current_deforestation_test_classified_incorrect.shape: (1149994,)\n",
      "    predicted_test_classified_incorrect.shape: (1149994,)\n",
      "ic| TP_H + FN_H + FP_H + TN_H: 1149994\n",
      "    len(label_mask_current_deforestation_test): 36856709\n",
      "ic| TP_H + FN_H + FP_H + TN_H: 1149994\n",
      "    len(label_mask_current_deforestation_test): 36856709\n"
     ]
    },
    {
     "name": "stdout",
     "output_type": "stream",
     "text": [
      "[0.91682143 0.94765852 0.80764943 0.03120175 0.54001665 0.42435286\n",
      " 0.03387417]\n",
      "0.3915424277454505\n",
      "threshold 0.3915424277454505\n"
     ]
    },
    {
     "name": "stderr",
     "output_type": "stream",
     "text": [
      "ic| label_current_deforestation_test_classified_incorrect.shape: (1006665,)\n",
      "    predicted_test_classified_incorrect.shape: (1006665,)\n",
      "ic| TP_H + FN_H + FP_H + TN_H: 1006665\n",
      "    len(label_mask_current_deforestation_test): 36856709\n",
      "ic| TP_H + FN_H + FP_H + TN_H: 1006665\n",
      "    len(label_mask_current_deforestation_test): 36856709\n"
     ]
    },
    {
     "name": "stdout",
     "output_type": "stream",
     "text": [
      "[0.91138752 0.94769063 0.81536375 0.02731294 0.53701706 0.39375587\n",
      " 0.03669227]\n",
      "0.3825035510539848\n",
      "threshold 0.3825035510539848\n"
     ]
    },
    {
     "name": "stderr",
     "output_type": "stream",
     "text": [
      "ic| label_current_deforestation_test_classified_incorrect.shape: (1090858,)\n",
      "    predicted_test_classified_incorrect.shape: (1090858,)\n",
      "ic| TP_H + FN_H + FP_H + TN_H: 1090858\n",
      "    len(label_mask_current_deforestation_test): 36856709\n",
      "ic| TP_H + FN_H + FP_H + TN_H: 1090858\n",
      "    len(label_mask_current_deforestation_test): 36856709\n"
     ]
    },
    {
     "name": "stdout",
     "output_type": "stream",
     "text": [
      "[0.91457907 0.94768078 0.81076277 0.02959727 0.53903323 0.41239429\n",
      " 0.03496112]\n",
      "0.38025647178698424\n",
      "threshold 0.38025647178698424\n"
     ]
    },
    {
     "name": "stderr",
     "output_type": "stream",
     "text": [
      "ic| label_current_deforestation_test_classified_incorrect.shape: (1112415,)\n",
      "    predicted_test_classified_incorrect.shape: (1112415,)\n",
      "ic| TP_H + FN_H + FP_H + TN_H: 1112415\n",
      "    len(label_mask_current_deforestation_test): 36856709\n",
      "ic| TP_H + FN_H + FP_H + TN_H: 1112415\n",
      "    len(label_mask_current_deforestation_test): 36856709\n"
     ]
    },
    {
     "name": "stdout",
     "output_type": "stream",
     "text": [
      "[0.91540062 0.94766845 0.80962374 0.03018216 0.53938372 0.4168424\n",
      " 0.0345531 ]\n",
      "0.3811535183835157\n",
      "threshold 0.3811535183835157\n"
     ]
    },
    {
     "name": "stderr",
     "output_type": "stream",
     "text": [
      "ic| label_current_deforestation_test_classified_incorrect.shape: (1103894,)\n",
      "    predicted_test_classified_incorrect.shape: (1103894,)\n",
      "ic| TP_H + FN_H + FP_H + TN_H: 1103894\n",
      "    len(label_mask_current_deforestation_test): 36856709\n",
      "ic| TP_H + FN_H + FP_H + TN_H: 1103894\n",
      "    len(label_mask_current_deforestation_test): 36856709\n"
     ]
    },
    {
     "name": "stdout",
     "output_type": "stream",
     "text": [
      "[0.91502228 0.94767447 0.81003448 0.02995096 0.53963989 0.41524276\n",
      " 0.03470083]\n",
      "0.3809078500003576\n",
      "threshold 0.3809078500003576\n"
     ]
    },
    {
     "name": "stderr",
     "output_type": "stream",
     "text": [
      "ic| label_current_deforestation_test_classified_incorrect.shape: (1106164,)\n",
      "    predicted_test_classified_incorrect.shape: (1106164,)\n",
      "ic| TP_H + FN_H + FP_H + TN_H: 1106164\n",
      "    len(label_mask_current_deforestation_test): 36856709\n",
      "ic| TP_H + FN_H + FP_H + TN_H: 1106164\n",
      "    len(label_mask_current_deforestation_test): 36856709\n"
     ]
    },
    {
     "name": "stdout",
     "output_type": "stream",
     "text": [
      "[0.9151028  0.94766665 0.80990677 0.03001255 0.53973245 0.41575648\n",
      " 0.03465537]\n",
      "0.38097356966810625\n",
      "threshold 0.38097356966810625\n"
     ]
    },
    {
     "name": "stderr",
     "output_type": "stream",
     "text": [
      "ic| label_current_deforestation_test_classified_incorrect.shape: (1105586,)\n",
      "    predicted_test_classified_incorrect.shape: (1105586,)\n",
      "ic| TP_H + FN_H + FP_H + TN_H: 1105586\n",
      "    len(label_mask_current_deforestation_test): 36856709\n",
      "ic| TP_H + FN_H + FP_H + TN_H: 1105586\n",
      "    len(label_mask_current_deforestation_test): 36856709\n"
     ]
    },
    {
     "name": "stdout",
     "output_type": "stream",
     "text": [
      "[0.91508893 0.94766918 0.80994819 0.02999687 0.53964534 0.41558997\n",
      " 0.0346684 ]\n",
      "0.3810423039611608\n",
      "threshold 0.3810423039611608\n"
     ]
    },
    {
     "name": "stderr",
     "output_type": "stream",
     "text": [
      "ic| label_current_deforestation_test_classified_incorrect.shape: (1104930,)\n",
      "    predicted_test_classified_incorrect.shape: (1104930,)\n",
      "ic| TP_H + FN_H + FP_H + TN_H: 1104930\n",
      "    len(label_mask_current_deforestation_test): 36856709\n",
      "ic| TP_H + FN_H + FP_H + TN_H: 1104930\n",
      "    len(label_mask_current_deforestation_test): 36856709\n"
     ]
    },
    {
     "name": "stdout",
     "output_type": "stream",
     "text": [
      "[0.9150637  0.9476713  0.80998271 0.02997907 0.5396365  0.41545113\n",
      " 0.03468109]\n",
      "0.3810069086521908\n",
      "threshold 0.3810069086521908\n"
     ]
    },
    {
     "name": "stderr",
     "output_type": "stream",
     "text": [
      "ic| label_current_deforestation_test_classified_incorrect.shape: (1105263,)\n",
      "    predicted_test_classified_incorrect.shape: (1105263,)\n",
      "ic| TP_H + FN_H + FP_H + TN_H: 1105263\n",
      "    len(label_mask_current_deforestation_test): 36856709\n",
      "ic| TP_H + FN_H + FP_H + TN_H: 1105263\n",
      "    len(label_mask_current_deforestation_test): 36856709\n",
      "ic| self.threshold_optimal: 0.38097356966810625\n"
     ]
    },
    {
     "name": "stdout",
     "output_type": "stream",
     "text": [
      "[0.91507374 0.94767087 0.8099758  0.02998811 0.53961496 0.41547891\n",
      " 0.03467368]\n",
      "threshold:  0.38097356966810625\n",
      "threshold 0.38097356966810625\n"
     ]
    },
    {
     "name": "stderr",
     "output_type": "stream",
     "text": [
      "ic| label_current_deforestation_test_classified_incorrect.shape: (1105586,)\n",
      "    predicted_test_classified_incorrect.shape: (1105586,)\n",
      "ic| TP_H + FN_H + FP_H + TN_H: 1105586\n",
      "    len(label_mask_current_deforestation_test): 36856709\n",
      "ic| TP_H + FN_H + FP_H + TN_H: 1105586\n",
      "    len(label_mask_current_deforestation_test): 36856709\n"
     ]
    },
    {
     "name": "stdout",
     "output_type": "stream",
     "text": [
      "[0.91508893 0.94766918 0.80994819 0.02999687 0.53964534 0.41558997\n",
      " 0.0346684 ]\n",
      "threshold 0.38097356966810625\n",
      "(36856709,) (36856709,)\n"
     ]
    },
    {
     "name": "stderr",
     "output_type": "stream",
     "text": [
      "ic| self.m_optimal: {'AA': array([0.02999687]),\n",
      "                     'UEO': array([0.0346684]),\n",
      "                     'f1': 87.16,\n",
      "                     'f1_H': array([0.46956218]),\n",
      "                     'f1_L': array([0.93109414]),\n",
      "                     'precision_H': array([0.53964534]),\n",
      "                     'precision_L': array([0.91508893]),\n",
      "                     'recall_H': array([0.41558997]),\n",
      "                     'recall_L': array([0.94766918]),\n",
      "                     'recall_Ltotal': array([0.80994819])}\n",
      "ic| self.m_audited_optimal: {'f1': array([0.94095788]),\n",
      "                             'precision': array([0.92706432]),\n",
      "                             'recall': array([0.95527421])}\n"
     ]
    },
    {
     "name": "stdout",
     "output_type": "stream",
     "text": [
      "cm_audited [[36545214    21774]\n",
      " [   12958   276763]]\n",
      "[0.92706432 0.95527421]\n",
      "Result idx 2: {'uncertainty_result': {'metrics': {'precision_L': array([0.91508893]), 'recall_L': array([0.94766918]), 'recall_Ltotal': array([0.80994819]), 'AA': array([0.02999687]), 'precision_H': array([0.53964534]), 'recall_H': array([0.41558997]), 'UEO': array([0.0346684]), 'f1_L': array([0.93109414]), 'f1_H': array([0.46956218]), 'f1': 87.16}, 'metrics_audited': {'precision': array([0.92706432]), 'recall': array([0.95527421]), 'f1': array([0.94095788])}, 'exp': 41}}\n",
      "Grid execution idx: 2\n",
      "Beginning run number 3\n",
      "manager.config {'training': True, 'inferring': True, 'site': 'MS', 'training_date': 'current', 'mode': 'evidential2', 'training_times': 20, 'uncertainty_method': 'pred_entropy', 'loadInference': False, 'removePolygons': True, 'plotLandsat': False, 'plotPOI': False, 'training_experiment_id': 41, 'get_multiple_metrics': False, 'start_repetition_id': 0, 'end_repetition_id': 20, 'save_probabilities': False, 'addPastDeforestationInput': True, 'classes_mode': True, 'learning_rate': 0.0001, 'use_cloud_mask': False, 'mask_out_non_biome': False, 'log_filename': 'log.pkl', 'inference_times': 1, 'dropout_training': False}\n",
      "D:/Jorge/datasets/deforestation/MS/deforestation_past_years.tif\n",
      "Loaded deforestation past years\n"
     ]
    },
    {
     "name": "stderr",
     "output_type": "stream",
     "text": [
      "ic| np.unique(deforestation_past_years, return_counts=True): (array([   0, 2002, 2004, 2006, 2008, 2010, 2012, 2013, 2014, 2015, 2016,\n",
      "                                                                    2017, 2018, 2019, 2020, 2021], dtype=uint16),\n",
      "                                                              array([334024764,   8717093,   6541094,   3824922,   2096535,   1305948,\n",
      "                                                                      1003721,    903906,    318788,    701575,    310887,    440417,\n",
      "                                                                       316180,    560438,    600838,    776899], dtype=int64))\n"
     ]
    },
    {
     "name": "stdout",
     "output_type": "stream",
     "text": [
      "Label where deforestation past years is actual date (2020) = 1\n"
     ]
    },
    {
     "name": "stderr",
     "output_type": "stream",
     "text": [
      "ic| np.unique(deforestation_past_years, return_counts=True): (array([   0, 2002, 2004, 2006, 2008, 2010, 2012, 2013, 2014, 2015, 2016,\n",
      "                                                                    2017, 2018, 2019, 2020, 2021], dtype=uint16),\n",
      "                                                              array([334024764,   8717093,   6541094,   3824922,   2096535,   1305948,\n",
      "                                                                      1003721,    903906,    318788,    701575,    310887,    440417,\n",
      "                                                                       316180,    560438,    600838,    776899], dtype=int64))\n"
     ]
    },
    {
     "name": "stdout",
     "output_type": "stream",
     "text": [
      "Past deforestation different from 0 (no deforestation)\n"
     ]
    },
    {
     "name": "stderr",
     "output_type": "stream",
     "text": [
      "ic| np.unique(deforestation_past_years, return_counts=True): (array([   0, 2002, 2004, 2006, 2008, 2010, 2012, 2013, 2014, 2015, 2016,\n",
      "                                                                    2017, 2018, 2019, 2020, 2021], dtype=uint16),\n",
      "                                                              array([334024764,   8717093,   6541094,   3824922,   2096535,   1305948,\n",
      "                                                                      1003721,    903906,    318788,    701575,    310887,    440417,\n",
      "                                                                       316180,    560438,    600838,    776899], dtype=int64))\n"
     ]
    },
    {
     "name": "stdout",
     "output_type": "stream",
     "text": [
      "Past deforestation before 2008 is 2\n",
      "D:/Jorge/datasets/deforestation/MS/deforestation_before_2000_MS.tif\n"
     ]
    },
    {
     "name": "stderr",
     "output_type": "stream",
     "text": [
      "ic| np.unique(label_past_deforestation_before_2008, return_counts=True): (array([  0, 208], dtype=uint8), array([126708038, 235735967], dtype=int64))\n",
      "ic| np.unique(deforestation_past_years, return_counts=True): (array([   0, 2002, 2004, 2006, 2008, 2010, 2012, 2013, 2014, 2015, 2016,\n",
      "                                                                    2017, 2018, 2019, 2020, 2021], dtype=uint16),\n",
      "                                                              array([334024764,   8717093,   6541094,   3824922,   2096535,   1305948,\n",
      "                                                                      1003721,    903906,    318788,    701575,    310887,    440417,\n",
      "                                                                       316180,    560438,    600838,    776899], dtype=int64))\n",
      "ic| label_per_date.shape: (18605, 19481, 1)\n"
     ]
    },
    {
     "name": "stdout",
     "output_type": "stream",
     "text": [
      "Removing bufer................\n",
      "Mask label shape:  \n",
      " (18605, 19481, 1) \n",
      " Unique values:  \n",
      " [0 1 2]\n",
      "Tiles size:  3721 3896\n",
      "Mask size:  (18605, 19480)\n"
     ]
    },
    {
     "name": "stderr",
     "output_type": "stream",
     "text": [
      "ic| image_stack.shape: (18605, 19481, 9)\n"
     ]
    },
    {
     "name": "stdout",
     "output_type": "stream",
     "text": [
      "Image shape:  (18605, 19481, 9)\n",
      "mask:  (18605, 19480)\n",
      "image stack:  (18605, 19480, 9)\n",
      "ref : (18605, 19480, 1)\n",
      "Training tiles:  [2, 4, 5, 6, 7, 12, 14, 15, 18, 21, 23, 24]\n",
      "Validation tiles:  [9, 11, 25]\n",
      "Test tiles:  [1, 3, 8, 10, 13, 16, 17, 19, 20, 22]\n",
      "-35.0 -8.0\n"
     ]
    },
    {
     "name": "stderr",
     "output_type": "stream",
     "text": [
      "ic| self.path_models+ '/' + self.method +'_'+str(self.repetition_id)+'.h5': 'D:/Jorge/datasets/deforestation/experiments/MS/exp41/models/resunet_3.h5'\n"
     ]
    },
    {
     "name": "stdout",
     "output_type": "stream",
     "text": [
      "Dropout training mode: False\n",
      "time:  0\n",
      "alpha.shape (18640, 19488, 2)\n",
      "S.shape (18640, 19488)\n",
      "K 2\n",
      "u.shape (18640, 19488)\n",
      "belief.shape (18640, 19488, 2)\n",
      "Inference runtime 253.87\n",
      "(36877090,)\n",
      "(array([0, 1], dtype=uint8), array([36581631,   295459], dtype=int64))\n",
      "(18605, 19480, 2)\n"
     ]
    },
    {
     "name": "stderr",
     "output_type": "stream",
     "text": [
      "ic| predicted_test.shape: (144970160,)\n",
      "ic| predicted_test.shape: (36877090,)\n",
      "ic| np.unique(predicted, return_counts=True): (array([0, 1], dtype=int8), array([361615271,    810129], dtype=int64))\n",
      "    np.unique(predicted_larger_than_min_area, return_counts=True): (array([0, 1], dtype=int8), array([361663394,    762006], dtype=int64))\n",
      "ic| np.unique(ignored_polygons, return_counts=True): (array([0, 1], dtype=int8), array([362377277,     48123], dtype=int64))\n",
      "ic| self.f1: 89.95, self.precision: 95.37, self.recall: 85.12\n",
      "ic| self.label_mask_val.shape: (43491048,)\n",
      "ic| self.label_mask_val_valid.shape: (10770900,)\n",
      "ic| f1_val: 48.52\n",
      "    precision_val: 40.2\n",
      "    recall_val: 61.19\n",
      "    mAP_val: 35.58\n"
     ]
    },
    {
     "name": "stdout",
     "output_type": "stream",
     "text": [
      "(array([0, 1], dtype=int16), array([362006229,    419171], dtype=int64))\n",
      "[0 1]\n"
     ]
    },
    {
     "name": "stderr",
     "output_type": "stream",
     "text": [
      "ic| self.label_mask.shape: (18605, 19480)\n",
      "ic| self.mask_test.shape: (18605, 19480)\n",
      "ic| self.label_mask_test.shape: (144970160,)\n",
      "ic| self.error_mask_test.shape: (36857045,)\n",
      "ic| bounds: (0.00010578750008484349, 0.4985)\n"
     ]
    },
    {
     "name": "stdout",
     "output_type": "stream",
     "text": [
      "(0.00010578750008484349, 0.4985)\n",
      "0.19047543687881469\n",
      "threshold 0.19047543687881469\n"
     ]
    },
    {
     "name": "stderr",
     "output_type": "stream",
     "text": [
      "c:\\Users\\jchamorro\\Anaconda3\\envs\\tf2\\lib\\site-packages\\scipy\\optimize\\_minimize.py:783: RuntimeWarning: Method 'bounded' does not support relative tolerance in x; defaulting to absolute tolerance.\n",
      "  warn(\"Method 'bounded' does not support relative tolerance in x; \"\n",
      "ic| label_current_deforestation_test_classified_incorrect.shape: (1232285,)\n",
      "    predicted_test_classified_incorrect.shape: (1232285,)\n",
      "ic| TP_H + FN_H + FP_H + TN_H: 1232285\n",
      "    len(label_mask_current_deforestation_test): 36857045\n",
      "ic| TP_H + FN_H + FP_H + TN_H: 1232285\n",
      "    len(label_mask_current_deforestation_test): 36857045\n"
     ]
    },
    {
     "name": "stdout",
     "output_type": "stream",
     "text": [
      "[0.97604538 0.94232742 0.67290637 0.03343418 0.87768536 0.62354235\n",
      " 0.03070013]\n",
      "0.30813035062127003\n",
      "threshold 0.30813035062127003\n"
     ]
    },
    {
     "name": "stderr",
     "output_type": "stream",
     "text": [
      "ic| label_current_deforestation_test_classified_incorrect.shape: (560715,)\n",
      "    predicted_test_classified_incorrect.shape: (560715,)\n",
      "ic| TP_H + FN_H + FP_H + TN_H: 560715\n",
      "    len(label_mask_current_deforestation_test): 36857045\n",
      "ic| TP_H + FN_H + FP_H + TN_H: 560715\n",
      "    len(label_mask_current_deforestation_test): 36857045\n"
     ]
    },
    {
     "name": "stdout",
     "output_type": "stream",
     "text": [
      "[0.97021451 0.94158276 0.73759056 0.01521324 0.8585455  0.52431984\n",
      " 0.06071344]\n",
      "0.11776070124254019\n",
      "threshold 0.11776070124254019\n"
     ]
    },
    {
     "name": "stderr",
     "output_type": "stream",
     "text": [
      "ic| label_current_deforestation_test_classified_incorrect.shape: (2276176,)\n",
      "    predicted_test_classified_incorrect.shape: (2276176,)\n",
      "ic| TP_H + FN_H + FP_H + TN_H: 2276176\n",
      "    len(label_mask_current_deforestation_test): 36857045\n",
      "ic| TP_H + FN_H + FP_H + TN_H: 2276176\n",
      "    len(label_mask_current_deforestation_test): 36857045\n"
     ]
    },
    {
     "name": "stdout",
     "output_type": "stream",
     "text": [
      "[0.9783112  0.94315271 0.62337227 0.06175688 0.8921497  0.67190095\n",
      " 0.017533  ]\n",
      "0.23040467969158684\n",
      "threshold 0.23040467969158684\n"
     ]
    },
    {
     "name": "stderr",
     "output_type": "stream",
     "text": [
      "ic| label_current_deforestation_test_classified_incorrect.shape: (927421,)\n",
      "    predicted_test_classified_incorrect.shape: (927421,)\n",
      "ic| TP_H + FN_H + FP_H + TN_H: 927421\n",
      "    len(label_mask_current_deforestation_test): 36857045\n",
      "ic| TP_H + FN_H + FP_H + TN_H: 927421\n",
      "    len(label_mask_current_deforestation_test): 36857045\n"
     ]
    },
    {
     "name": "stdout",
     "output_type": "stream",
     "text": [
      "[0.9743756  0.9419353  0.69577145 0.02516265 0.87078228 0.59467749\n",
      " 0.0395014 ]\n",
      "0.18817901869791398\n",
      "threshold 0.18817901869791398\n"
     ]
    },
    {
     "name": "stderr",
     "output_type": "stream",
     "text": [
      "ic| label_current_deforestation_test_classified_incorrect.shape: (1253884,)\n",
      "    predicted_test_classified_incorrect.shape: (1253884,)\n",
      "ic| TP_H + FN_H + FP_H + TN_H: 1253884\n",
      "    len(label_mask_current_deforestation_test): 36857045\n",
      "ic| TP_H + FN_H + FP_H + TN_H: 1253884\n",
      "    len(label_mask_current_deforestation_test): 36857045\n"
     ]
    },
    {
     "name": "stdout",
     "output_type": "stream",
     "text": [
      "[0.97615951 0.94233091 0.67153819 0.0340202  0.87801418 0.62514728\n",
      " 0.03022528]\n",
      "0.2078845754580628\n",
      "threshold 0.2078845754580628\n"
     ]
    },
    {
     "name": "stderr",
     "output_type": "stream",
     "text": [
      "ic| label_current_deforestation_test_classified_incorrect.shape: (1084818,)\n",
      "    predicted_test_classified_incorrect.shape: (1084818,)\n",
      "ic| TP_H + FN_H + FP_H + TN_H: 1084818\n",
      "    len(label_mask_current_deforestation_test): 36857045\n",
      "ic| TP_H + FN_H + FP_H + TN_H: 1084818\n",
      "    len(label_mask_current_deforestation_test): 36857045\n"
     ]
    },
    {
     "name": "stdout",
     "output_type": "stream",
     "text": [
      "[0.97538076 0.9421321  0.68303983 0.02943312 0.87455075 0.61141752\n",
      " 0.03440353]\n",
      "0.2164864898450786\n",
      "threshold 0.2164864898450786\n"
     ]
    },
    {
     "name": "stderr",
     "output_type": "stream",
     "text": [
      "ic| label_current_deforestation_test_classified_incorrect.shape: (1020670,)\n",
      "    predicted_test_classified_incorrect.shape: (1020670,)\n",
      "ic| TP_H + FN_H + FP_H + TN_H: 1020670\n",
      "    len(label_mask_current_deforestation_test): 36857045\n",
      "ic| TP_H + FN_H + FP_H + TN_H: 1020670\n",
      "    len(label_mask_current_deforestation_test): 36857045\n"
     ]
    },
    {
     "name": "stdout",
     "output_type": "stream",
     "text": [
      "[0.97499755 0.94210105 0.68793554 0.02769267 0.87314053 0.60510207\n",
      " 0.03632035]\n",
      "0.20501603535894183\n",
      "threshold 0.20501603535894183\n"
     ]
    },
    {
     "name": "stderr",
     "output_type": "stream",
     "text": [
      "ic| label_current_deforestation_test_classified_incorrect.shape: (1107523,)\n",
      "    predicted_test_classified_incorrect.shape: (1107523,)\n",
      "ic| TP_H + FN_H + FP_H + TN_H: 1107523\n",
      "    len(label_mask_current_deforestation_test): 36857045\n",
      "ic| TP_H + FN_H + FP_H + TN_H: 1107523\n",
      "    len(label_mask_current_deforestation_test): 36857045\n"
     ]
    },
    {
     "name": "stdout",
     "output_type": "stream",
     "text": [
      "[0.97549912 0.94216207 0.68133307 0.03004915 0.87507788 0.61353085\n",
      " 0.03377699]\n",
      "0.19946202095629834\n",
      "threshold 0.19946202095629834\n"
     ]
    },
    {
     "name": "stderr",
     "output_type": "stream",
     "text": [
      "ic| label_current_deforestation_test_classified_incorrect.shape: (1153003,)\n",
      "    predicted_test_classified_incorrect.shape: (1153003,)\n",
      "ic| TP_H + FN_H + FP_H + TN_H: 1153003\n",
      "    len(label_mask_current_deforestation_test): 36857045\n",
      "ic| TP_H + FN_H + FP_H + TN_H: 1153003\n",
      "    len(label_mask_current_deforestation_test): 36857045\n"
     ]
    },
    {
     "name": "stdout",
     "output_type": "stream",
     "text": [
      "[0.97568746 0.9422202  0.67828578 0.03128311 0.87607227 0.61722807\n",
      " 0.03257705]\n",
      "0.20456268497197283\n",
      "threshold 0.20456268497197283\n"
     ]
    },
    {
     "name": "stderr",
     "output_type": "stream",
     "text": [
      "ic| label_current_deforestation_test_classified_incorrect.shape: (1111116,)\n",
      "    predicted_test_classified_incorrect.shape: (1111116,)\n",
      "ic| TP_H + FN_H + FP_H + TN_H: 1111116\n",
      "    len(label_mask_current_deforestation_test): 36857045\n",
      "ic| TP_H + FN_H + FP_H + TN_H: 1111116\n",
      "    len(label_mask_current_deforestation_test): 36857045\n"
     ]
    },
    {
     "name": "stdout",
     "output_type": "stream",
     "text": [
      "[0.97551489 0.942161   0.68109468 0.03014664 0.87515333 0.61383275\n",
      " 0.03367767]\n",
      "0.2056923764561104\n",
      "threshold 0.2056923764561104\n"
     ]
    },
    {
     "name": "stderr",
     "output_type": "stream",
     "text": [
      "ic| label_current_deforestation_test_classified_incorrect.shape: (1102076,)\n",
      "    predicted_test_classified_incorrect.shape: (1102076,)\n",
      "ic| TP_H + FN_H + FP_H + TN_H: 1102076\n",
      "    len(label_mask_current_deforestation_test): 36857045\n",
      "ic| TP_H + FN_H + FP_H + TN_H: 1102076\n",
      "    len(label_mask_current_deforestation_test): 36857045\n"
     ]
    },
    {
     "name": "stdout",
     "output_type": "stream",
     "text": [
      "[0.97546422 0.94214746 0.68171312 0.02990137 0.87498885 0.61307619\n",
      " 0.03392292]\n",
      "0.20521081652231216\n",
      "threshold 0.20521081652231216\n"
     ]
    },
    {
     "name": "stderr",
     "output_type": "stream",
     "text": [
      "ic| label_current_deforestation_test_classified_incorrect.shape: (1105950,)\n",
      "    predicted_test_classified_incorrect.shape: (1105950,)\n",
      "ic| TP_H + FN_H + FP_H + TN_H: 1105950\n",
      "    len(label_mask_current_deforestation_test): 36857045\n",
      "ic| TP_H + FN_H + FP_H + TN_H: 1105950\n",
      "    len(label_mask_current_deforestation_test): 36857045\n"
     ]
    },
    {
     "name": "stdout",
     "output_type": "stream",
     "text": [
      "[0.97548877 0.94216696 0.68145054 0.03000648 0.87504898 0.61337445\n",
      " 0.03382062]\n",
      "0.20529393529906845\n",
      "threshold 0.20529393529906845\n"
     ]
    },
    {
     "name": "stderr",
     "output_type": "stream",
     "text": [
      "ic| label_current_deforestation_test_classified_incorrect.shape: (1105307,)\n",
      "    predicted_test_classified_incorrect.shape: (1105307,)\n",
      "ic| TP_H + FN_H + FP_H + TN_H: 1105307\n",
      "    len(label_mask_current_deforestation_test): 36857045\n",
      "ic| TP_H + FN_H + FP_H + TN_H: 1105307\n",
      "    len(label_mask_current_deforestation_test): 36857045\n"
     ]
    },
    {
     "name": "stdout",
     "output_type": "stream",
     "text": [
      "[0.97548057 0.94216577 0.681492   0.02998903 0.87505345 0.61332418\n",
      " 0.03383724]\n",
      "0.20524415289941378\n",
      "threshold 0.20524415289941378\n"
     ]
    },
    {
     "name": "stderr",
     "output_type": "stream",
     "text": [
      "ic| label_current_deforestation_test_classified_incorrect.shape: (1105677,)\n",
      "    predicted_test_classified_incorrect.shape: (1105677,)\n",
      "ic| TP_H + FN_H + FP_H + TN_H: 1105677\n",
      "    len(label_mask_current_deforestation_test): 36857045\n",
      "ic| TP_H + FN_H + FP_H + TN_H: 1105677\n",
      "    len(label_mask_current_deforestation_test): 36857045\n",
      "ic| self.threshold_optimal: 0.20524415289941378\n"
     ]
    },
    {
     "name": "stdout",
     "output_type": "stream",
     "text": [
      "[0.97548443 0.94216806 0.68146436 0.02999907 0.87505567 0.61335514\n",
      " 0.03382793]\n",
      "threshold:  0.20524415289941378\n",
      "threshold 0.20524415289941378\n"
     ]
    },
    {
     "name": "stderr",
     "output_type": "stream",
     "text": [
      "ic| label_current_deforestation_test_classified_incorrect.shape: (1105677,)\n",
      "    predicted_test_classified_incorrect.shape: (1105677,)\n",
      "ic| TP_H + FN_H + FP_H + TN_H: 1105677\n",
      "    len(label_mask_current_deforestation_test): 36857045\n",
      "ic| TP_H + FN_H + FP_H + TN_H: 1105677\n",
      "    len(label_mask_current_deforestation_test): 36857045\n"
     ]
    },
    {
     "name": "stdout",
     "output_type": "stream",
     "text": [
      "[0.97548443 0.94216806 0.68146436 0.02999907 0.87505567 0.61335514\n",
      " 0.03382793]\n",
      "threshold 0.20524415289941378\n",
      "(36857045,) (36857045,)\n"
     ]
    },
    {
     "name": "stderr",
     "output_type": "stream",
     "text": [
      "ic| self.m_optimal: {'AA': array([0.02999907]),\n",
      "                     'UEO': array([0.03382793]),\n",
      "                     'f1': 89.95,\n",
      "                     'f1_H': array([0.7211986]),\n",
      "                     'f1_L': array([0.95853683]),\n",
      "                     'precision_H': array([0.87505567]),\n",
      "                     'precision_L': array([0.97548443]),\n",
      "                     'recall_H': array([0.61335514]),\n",
      "                     'recall_L': array([0.94216806]),\n",
      "                     'recall_Ltotal': array([0.68146436])}\n",
      "ic| self.m_audited_optimal: {'f1': array([0.97015343]),\n",
      "                             'precision': array([0.98243986]),\n",
      "                             'recall': array([0.95817052])}\n"
     ]
    },
    {
     "name": "stdout",
     "output_type": "stream",
     "text": [
      "cm_audited [[36562651     4957]\n",
      " [   12107   277330]]\n",
      "[0.98243986 0.95817052]\n",
      "Result idx 3: {'uncertainty_result': {'metrics': {'precision_L': array([0.97548443]), 'recall_L': array([0.94216806]), 'recall_Ltotal': array([0.68146436]), 'AA': array([0.02999907]), 'precision_H': array([0.87505567]), 'recall_H': array([0.61335514]), 'UEO': array([0.03382793]), 'f1_L': array([0.95853683]), 'f1_H': array([0.7211986]), 'f1': 89.95}, 'metrics_audited': {'precision': array([0.98243986]), 'recall': array([0.95817052]), 'f1': array([0.97015343])}, 'exp': 41}}\n",
      "Grid execution idx: 3\n",
      "Beginning run number 4\n",
      "manager.config {'training': True, 'inferring': True, 'site': 'MS', 'training_date': 'current', 'mode': 'evidential2', 'training_times': 20, 'uncertainty_method': 'pred_entropy', 'loadInference': False, 'removePolygons': True, 'plotLandsat': False, 'plotPOI': False, 'training_experiment_id': 41, 'get_multiple_metrics': False, 'start_repetition_id': 0, 'end_repetition_id': 20, 'save_probabilities': False, 'addPastDeforestationInput': True, 'classes_mode': True, 'learning_rate': 0.0001, 'use_cloud_mask': False, 'mask_out_non_biome': False, 'log_filename': 'log.pkl', 'inference_times': 1, 'dropout_training': False}\n",
      "D:/Jorge/datasets/deforestation/MS/deforestation_past_years.tif\n",
      "Loaded deforestation past years\n"
     ]
    },
    {
     "name": "stderr",
     "output_type": "stream",
     "text": [
      "ic| np.unique(deforestation_past_years, return_counts=True): (array([   0, 2002, 2004, 2006, 2008, 2010, 2012, 2013, 2014, 2015, 2016,\n",
      "                                                                    2017, 2018, 2019, 2020, 2021], dtype=uint16),\n",
      "                                                              array([334024764,   8717093,   6541094,   3824922,   2096535,   1305948,\n",
      "                                                                      1003721,    903906,    318788,    701575,    310887,    440417,\n",
      "                                                                       316180,    560438,    600838,    776899], dtype=int64))\n"
     ]
    },
    {
     "name": "stdout",
     "output_type": "stream",
     "text": [
      "Label where deforestation past years is actual date (2020) = 1\n"
     ]
    },
    {
     "name": "stderr",
     "output_type": "stream",
     "text": [
      "ic| np.unique(deforestation_past_years, return_counts=True): (array([   0, 2002, 2004, 2006, 2008, 2010, 2012, 2013, 2014, 2015, 2016,\n",
      "                                                                    2017, 2018, 2019, 2020, 2021], dtype=uint16),\n",
      "                                                              array([334024764,   8717093,   6541094,   3824922,   2096535,   1305948,\n",
      "                                                                      1003721,    903906,    318788,    701575,    310887,    440417,\n",
      "                                                                       316180,    560438,    600838,    776899], dtype=int64))\n"
     ]
    },
    {
     "name": "stdout",
     "output_type": "stream",
     "text": [
      "Past deforestation different from 0 (no deforestation)\n"
     ]
    },
    {
     "name": "stderr",
     "output_type": "stream",
     "text": [
      "ic| np.unique(deforestation_past_years, return_counts=True): (array([   0, 2002, 2004, 2006, 2008, 2010, 2012, 2013, 2014, 2015, 2016,\n",
      "                                                                    2017, 2018, 2019, 2020, 2021], dtype=uint16),\n",
      "                                                              array([334024764,   8717093,   6541094,   3824922,   2096535,   1305948,\n",
      "                                                                      1003721,    903906,    318788,    701575,    310887,    440417,\n",
      "                                                                       316180,    560438,    600838,    776899], dtype=int64))\n"
     ]
    },
    {
     "name": "stdout",
     "output_type": "stream",
     "text": [
      "Past deforestation before 2008 is 2\n",
      "D:/Jorge/datasets/deforestation/MS/deforestation_before_2000_MS.tif\n"
     ]
    },
    {
     "name": "stderr",
     "output_type": "stream",
     "text": [
      "ic| np.unique(label_past_deforestation_before_2008, return_counts=True): (array([  0, 208], dtype=uint8), array([126708038, 235735967], dtype=int64))\n",
      "ic| np.unique(deforestation_past_years, return_counts=True): (array([   0, 2002, 2004, 2006, 2008, 2010, 2012, 2013, 2014, 2015, 2016,\n",
      "                                                                    2017, 2018, 2019, 2020, 2021], dtype=uint16),\n",
      "                                                              array([334024764,   8717093,   6541094,   3824922,   2096535,   1305948,\n",
      "                                                                      1003721,    903906,    318788,    701575,    310887,    440417,\n",
      "                                                                       316180,    560438,    600838,    776899], dtype=int64))\n",
      "ic| label_per_date.shape: (18605, 19481, 1)\n"
     ]
    },
    {
     "name": "stdout",
     "output_type": "stream",
     "text": [
      "Removing bufer................\n",
      "Mask label shape:  \n",
      " (18605, 19481, 1) \n",
      " Unique values:  \n",
      " [0 1 2]\n",
      "Tiles size:  3721 3896\n",
      "Mask size:  (18605, 19480)\n"
     ]
    },
    {
     "name": "stderr",
     "output_type": "stream",
     "text": [
      "ic| image_stack.shape: (18605, 19481, 9)\n"
     ]
    },
    {
     "name": "stdout",
     "output_type": "stream",
     "text": [
      "Image shape:  (18605, 19481, 9)\n",
      "mask:  (18605, 19480)\n",
      "image stack:  (18605, 19480, 9)\n",
      "ref : (18605, 19480, 1)\n",
      "Training tiles:  [2, 4, 5, 6, 7, 12, 14, 15, 18, 21, 23, 24]\n",
      "Validation tiles:  [9, 11, 25]\n",
      "Test tiles:  [1, 3, 8, 10, 13, 16, 17, 19, 20, 22]\n",
      "-35.0 -8.0\n"
     ]
    },
    {
     "name": "stderr",
     "output_type": "stream",
     "text": [
      "ic| self.path_models+ '/' + self.method +'_'+str(self.repetition_id)+'.h5': 'D:/Jorge/datasets/deforestation/experiments/MS/exp41/models/resunet_4.h5'\n"
     ]
    },
    {
     "name": "stdout",
     "output_type": "stream",
     "text": [
      "Dropout training mode: False\n",
      "time:  0\n",
      "alpha.shape (18640, 19488, 2)\n",
      "S.shape (18640, 19488)\n",
      "K 2\n",
      "u.shape (18640, 19488)\n",
      "belief.shape (18640, 19488, 2)\n",
      "Inference runtime 254.36\n",
      "(36877090,)\n",
      "(array([0, 1], dtype=uint8), array([36581631,   295459], dtype=int64))\n",
      "(18605, 19480, 2)\n"
     ]
    },
    {
     "name": "stderr",
     "output_type": "stream",
     "text": [
      "ic| predicted_test.shape: (144970160,)\n",
      "ic| predicted_test.shape: (36877090,)\n",
      "ic| np.unique(predicted, return_counts=True): (array([0], dtype=int8), array([362425400], dtype=int64))\n",
      "    np.unique(predicted_larger_than_min_area, return_counts=True): (array([0], dtype=int8), array([362425400], dtype=int64))\n",
      "ic| np.unique(ignored_polygons, return_counts=True): (array([0], dtype=int8), array([362425400], dtype=int64))\n",
      "c:\\Users\\jchamorro\\Anaconda3\\envs\\tf2\\lib\\site-packages\\sklearn\\metrics\\_classification.py:1327: UndefinedMetricWarning: Precision is ill-defined and being set to 0.0 due to no predicted samples. Use `zero_division` parameter to control this behavior.\n",
      "  _warn_prf(average, modifier, msg_start, len(result))\n",
      "ic| self.f1: 0.0, self.precision: 0.0, self.recall: 0.0\n",
      "ic| self.label_mask_val.shape: (43491048,)\n",
      "ic| self.label_mask_val_valid.shape: (10776499,)\n",
      "c:\\Users\\jchamorro\\Anaconda3\\envs\\tf2\\lib\\site-packages\\sklearn\\metrics\\_classification.py:1327: UndefinedMetricWarning: Precision is ill-defined and being set to 0.0 due to no predicted samples. Use `zero_division` parameter to control this behavior.\n",
      "  _warn_prf(average, modifier, msg_start, len(result))\n",
      "ic| f1_val: 0.0, precision_val: 0.0, recall_val: 0.0, mAP_val: 5.88\n"
     ]
    },
    {
     "name": "stdout",
     "output_type": "stream",
     "text": [
      "(array([0, 1], dtype=int16), array([361918803,    506597], dtype=int64))\n",
      "[0]\n"
     ]
    },
    {
     "name": "stderr",
     "output_type": "stream",
     "text": [
      "ic| self.label_mask.shape: (18605, 19480)\n",
      "ic| self.mask_test.shape: (18605, 19480)\n",
      "ic| self.label_mask_test.shape: (144970160,)\n",
      "ic| self.error_mask_test.shape: (36877090,)\n",
      "ic| bounds: (0.00010578750008484349, 0.4985)\n"
     ]
    },
    {
     "name": "stdout",
     "output_type": "stream",
     "text": [
      "(0.00010578750008484349, 0.4985)\n",
      "0.19047543687881469\n",
      "threshold 0.19047543687881469\n"
     ]
    },
    {
     "name": "stderr",
     "output_type": "stream",
     "text": [
      "c:\\Users\\jchamorro\\Anaconda3\\envs\\tf2\\lib\\site-packages\\scipy\\optimize\\_minimize.py:783: RuntimeWarning: Method 'bounded' does not support relative tolerance in x; defaulting to absolute tolerance.\n",
      "  warn(\"Method 'bounded' does not support relative tolerance in x; \"\n",
      "ic| label_current_deforestation_test_classified_incorrect.shape: (3647435,)\n",
      "    predicted_test_classified_incorrect.shape: (3647435,)\n",
      "d:\\Jorge\\deforestation_uncertainty\\src\\metrics.py:294: RuntimeWarning: invalid value encountered in longlong_scalars\n",
      "  precision_L = TP_L / (TP_L + FP_L)\n",
      "d:\\Jorge\\deforestation_uncertainty\\src\\metrics.py:297: RuntimeWarning: invalid value encountered in longlong_scalars\n",
      "  precision_H = TP_H / (TP_H + FP_H)\n",
      "ic| TP_H + FN_H + FP_H + TN_H: 3647435\n",
      "    len(label_mask_current_deforestation_test): 36877090\n",
      "ic| TP_H + FN_H + FP_H + TN_H: 3647435\n",
      "    len(label_mask_current_deforestation_test): 36877090\n"
     ]
    },
    {
     "name": "stdout",
     "output_type": "stream",
     "text": [
      "[       nan 0.         0.         0.09890789        nan 0.\n",
      " 0.07765354]\n",
      "0.30813035062127003\n",
      "threshold 0.30813035062127003\n"
     ]
    },
    {
     "name": "stderr",
     "output_type": "stream",
     "text": [
      "ic| label_current_deforestation_test_classified_incorrect.shape: (2010095,)\n",
      "    predicted_test_classified_incorrect.shape: (2010095,)\n",
      "d:\\Jorge\\deforestation_uncertainty\\src\\metrics.py:294: RuntimeWarning: invalid value encountered in longlong_scalars\n",
      "  precision_L = TP_L / (TP_L + FP_L)\n",
      "d:\\Jorge\\deforestation_uncertainty\\src\\metrics.py:297: RuntimeWarning: invalid value encountered in longlong_scalars\n",
      "  precision_H = TP_H / (TP_H + FP_H)\n",
      "ic| TP_H + FN_H + FP_H + TN_H: 2010095\n",
      "    len(label_mask_current_deforestation_test): 36877090\n",
      "ic| TP_H + FN_H + FP_H + TN_H: 2010095\n",
      "    len(label_mask_current_deforestation_test): 36877090\n"
     ]
    },
    {
     "name": "stdout",
     "output_type": "stream",
     "text": [
      "[       nan 0.         0.         0.05450796        nan 0.\n",
      " 0.13999424]\n",
      "0.38084508625754454\n",
      "threshold 0.38084508625754454\n"
     ]
    },
    {
     "name": "stderr",
     "output_type": "stream",
     "text": [
      "ic| label_current_deforestation_test_classified_incorrect.shape: (1365510,)\n",
      "    predicted_test_classified_incorrect.shape: (1365510,)\n",
      "d:\\Jorge\\deforestation_uncertainty\\src\\metrics.py:294: RuntimeWarning: invalid value encountered in longlong_scalars\n",
      "  precision_L = TP_L / (TP_L + FP_L)\n",
      "d:\\Jorge\\deforestation_uncertainty\\src\\metrics.py:297: RuntimeWarning: invalid value encountered in longlong_scalars\n",
      "  precision_H = TP_H / (TP_H + FP_H)\n",
      "ic| TP_H + FN_H + FP_H + TN_H: 1365510\n",
      "    len(label_mask_current_deforestation_test): 36877090\n",
      "ic| TP_H + FN_H + FP_H + TN_H: 1365510\n",
      "    len(label_mask_current_deforestation_test): 36877090\n"
     ]
    },
    {
     "name": "stdout",
     "output_type": "stream",
     "text": [
      "[       nan 0.         0.         0.03702868        nan 0.\n",
      " 0.20492527]\n",
      "0.42578526436372544\n",
      "threshold 0.42578526436372544\n"
     ]
    },
    {
     "name": "stderr",
     "output_type": "stream",
     "text": [
      "ic| label_current_deforestation_test_classified_incorrect.shape: (1082581,)\n",
      "    predicted_test_classified_incorrect.shape: (1082581,)\n",
      "d:\\Jorge\\deforestation_uncertainty\\src\\metrics.py:294: RuntimeWarning: invalid value encountered in longlong_scalars\n",
      "  precision_L = TP_L / (TP_L + FP_L)\n",
      "d:\\Jorge\\deforestation_uncertainty\\src\\metrics.py:297: RuntimeWarning: invalid value encountered in longlong_scalars\n",
      "  precision_H = TP_H / (TP_H + FP_H)\n",
      "ic| TP_H + FN_H + FP_H + TN_H: 1082581\n",
      "    len(label_mask_current_deforestation_test): 36877090\n",
      "ic| TP_H + FN_H + FP_H + TN_H: 1082581\n",
      "    len(label_mask_current_deforestation_test): 36877090\n"
     ]
    },
    {
     "name": "stdout",
     "output_type": "stream",
     "text": [
      "[       nan 0.         0.         0.02935646        nan 0.\n",
      " 0.25719926]\n",
      "0.4535598218938191\n",
      "threshold 0.4535598218938191\n"
     ]
    },
    {
     "name": "stderr",
     "output_type": "stream",
     "text": [
      "ic| label_current_deforestation_test_classified_incorrect.shape: (929155,)\n",
      "    predicted_test_classified_incorrect.shape: (929155,)\n",
      "d:\\Jorge\\deforestation_uncertainty\\src\\metrics.py:294: RuntimeWarning: invalid value encountered in longlong_scalars\n",
      "  precision_L = TP_L / (TP_L + FP_L)\n",
      "d:\\Jorge\\deforestation_uncertainty\\src\\metrics.py:297: RuntimeWarning: invalid value encountered in longlong_scalars\n",
      "  precision_H = TP_H / (TP_H + FP_H)\n",
      "ic| TP_H + FN_H + FP_H + TN_H: 929155\n",
      "    len(label_mask_current_deforestation_test): 36877090\n",
      "ic| TP_H + FN_H + FP_H + TN_H: 929155\n",
      "    len(label_mask_current_deforestation_test): 36877090\n"
     ]
    },
    {
     "name": "stdout",
     "output_type": "stream",
     "text": [
      "[       nan 0.         0.         0.025196          nan 0.\n",
      " 0.29835815]\n",
      "0.4210134597577356\n",
      "threshold 0.4210134597577356\n"
     ]
    },
    {
     "name": "stderr",
     "output_type": "stream",
     "text": [
      "ic| label_current_deforestation_test_classified_incorrect.shape: (1109528,)\n",
      "    predicted_test_classified_incorrect.shape: (1109528,)\n",
      "d:\\Jorge\\deforestation_uncertainty\\src\\metrics.py:294: RuntimeWarning: invalid value encountered in longlong_scalars\n",
      "  precision_L = TP_L / (TP_L + FP_L)\n",
      "d:\\Jorge\\deforestation_uncertainty\\src\\metrics.py:297: RuntimeWarning: invalid value encountered in longlong_scalars\n",
      "  precision_H = TP_H / (TP_H + FP_H)\n",
      "ic| TP_H + FN_H + FP_H + TN_H: 1109528\n",
      "    len(label_mask_current_deforestation_test): 36877090\n",
      "ic| TP_H + FN_H + FP_H + TN_H: 1109528\n",
      "    len(label_mask_current_deforestation_test): 36877090\n"
     ]
    },
    {
     "name": "stdout",
     "output_type": "stream",
     "text": [
      "[       nan 0.         0.         0.03008719        nan 0.\n",
      " 0.25110263]\n",
      "0.4056705063534632\n",
      "threshold 0.4056705063534632\n"
     ]
    },
    {
     "name": "stderr",
     "output_type": "stream",
     "text": [
      "ic| label_current_deforestation_test_classified_incorrect.shape: (1200928,)\n",
      "    predicted_test_classified_incorrect.shape: (1200928,)\n",
      "d:\\Jorge\\deforestation_uncertainty\\src\\metrics.py:294: RuntimeWarning: invalid value encountered in longlong_scalars\n",
      "  precision_L = TP_L / (TP_L + FP_L)\n",
      "d:\\Jorge\\deforestation_uncertainty\\src\\metrics.py:297: RuntimeWarning: invalid value encountered in longlong_scalars\n",
      "  precision_H = TP_H / (TP_H + FP_H)\n",
      "ic| TP_H + FN_H + FP_H + TN_H: 1200928\n",
      "    len(label_mask_current_deforestation_test): 36877090\n",
      "ic| TP_H + FN_H + FP_H + TN_H: 1200928\n",
      "    len(label_mask_current_deforestation_test): 36877090\n"
     ]
    },
    {
     "name": "stdout",
     "output_type": "stream",
     "text": [
      "[       nan 0.         0.         0.03256569        nan 0.\n",
      " 0.23242092]\n",
      "0.4191833842796065\n",
      "threshold 0.4191833842796065\n"
     ]
    },
    {
     "name": "stderr",
     "output_type": "stream",
     "text": [
      "ic| label_current_deforestation_test_classified_incorrect.shape: (1120050,)\n",
      "    predicted_test_classified_incorrect.shape: (1120050,)\n",
      "d:\\Jorge\\deforestation_uncertainty\\src\\metrics.py:294: RuntimeWarning: invalid value encountered in longlong_scalars\n",
      "  precision_L = TP_L / (TP_L + FP_L)\n",
      "d:\\Jorge\\deforestation_uncertainty\\src\\metrics.py:297: RuntimeWarning: invalid value encountered in longlong_scalars\n",
      "  precision_H = TP_H / (TP_H + FP_H)\n",
      "ic| TP_H + FN_H + FP_H + TN_H: 1120050\n",
      "    len(label_mask_current_deforestation_test): 36877090\n",
      "ic| TP_H + FN_H + FP_H + TN_H: 1120050\n",
      "    len(label_mask_current_deforestation_test): 36877090\n"
     ]
    },
    {
     "name": "stdout",
     "output_type": "stream",
     "text": [
      "[       nan 0.         0.         0.03037252        nan 0.\n",
      " 0.2488059 ]\n",
      "0.4219870407678016\n",
      "threshold 0.4219870407678016\n"
     ]
    },
    {
     "name": "stderr",
     "output_type": "stream",
     "text": [
      "ic| label_current_deforestation_test_classified_incorrect.shape: (1104095,)\n",
      "    predicted_test_classified_incorrect.shape: (1104095,)\n",
      "d:\\Jorge\\deforestation_uncertainty\\src\\metrics.py:294: RuntimeWarning: invalid value encountered in longlong_scalars\n",
      "  precision_L = TP_L / (TP_L + FP_L)\n",
      "d:\\Jorge\\deforestation_uncertainty\\src\\metrics.py:297: RuntimeWarning: invalid value encountered in longlong_scalars\n",
      "  precision_H = TP_H / (TP_H + FP_H)\n",
      "ic| TP_H + FN_H + FP_H + TN_H: 1104095\n",
      "    len(label_mask_current_deforestation_test): 36877090\n",
      "ic| TP_H + FN_H + FP_H + TN_H: 1104095\n",
      "    len(label_mask_current_deforestation_test): 36877090\n"
     ]
    },
    {
     "name": "stdout",
     "output_type": "stream",
     "text": [
      "[       nan 0.         0.         0.02993986        nan 0.\n",
      " 0.25230654]\n",
      "0.42180426454573866\n",
      "threshold 0.42180426454573866\n"
     ]
    },
    {
     "name": "stderr",
     "output_type": "stream",
     "text": [
      "ic| label_current_deforestation_test_classified_incorrect.shape: (1105109,)\n",
      "    predicted_test_classified_incorrect.shape: (1105109,)\n",
      "d:\\Jorge\\deforestation_uncertainty\\src\\metrics.py:294: RuntimeWarning: invalid value encountered in longlong_scalars\n",
      "  precision_L = TP_L / (TP_L + FP_L)\n",
      "d:\\Jorge\\deforestation_uncertainty\\src\\metrics.py:297: RuntimeWarning: invalid value encountered in longlong_scalars\n",
      "  precision_H = TP_H / (TP_H + FP_H)\n",
      "ic| TP_H + FN_H + FP_H + TN_H: 1105109\n",
      "    len(label_mask_current_deforestation_test): 36877090\n",
      "ic| TP_H + FN_H + FP_H + TN_H: 1105109\n",
      "    len(label_mask_current_deforestation_test): 36877090\n"
     ]
    },
    {
     "name": "stdout",
     "output_type": "stream",
     "text": [
      "[       nan 0.         0.         0.02996736        nan 0.\n",
      " 0.25207783]\n",
      "0.42156189515809506\n",
      "threshold 0.42156189515809506\n"
     ]
    },
    {
     "name": "stderr",
     "output_type": "stream",
     "text": [
      "ic| label_current_deforestation_test_classified_incorrect.shape: (1106487,)\n",
      "    predicted_test_classified_incorrect.shape: (1106487,)\n",
      "d:\\Jorge\\deforestation_uncertainty\\src\\metrics.py:294: RuntimeWarning: invalid value encountered in longlong_scalars\n",
      "  precision_L = TP_L / (TP_L + FP_L)\n",
      "d:\\Jorge\\deforestation_uncertainty\\src\\metrics.py:297: RuntimeWarning: invalid value encountered in longlong_scalars\n",
      "  precision_H = TP_H / (TP_H + FP_H)\n",
      "ic| TP_H + FN_H + FP_H + TN_H: 1106487\n",
      "    len(label_mask_current_deforestation_test): 36877090\n",
      "ic| TP_H + FN_H + FP_H + TN_H: 1106487\n",
      "    len(label_mask_current_deforestation_test): 36877090\n"
     ]
    },
    {
     "name": "stdout",
     "output_type": "stream",
     "text": [
      "[       nan 0.         0.         0.03000473        nan 0.\n",
      " 0.25177438]\n",
      "0.4213524114757914\n",
      "threshold 0.4213524114757914\n"
     ]
    },
    {
     "name": "stderr",
     "output_type": "stream",
     "text": [
      "ic| label_current_deforestation_test_classified_incorrect.shape: (1107618,)\n",
      "    predicted_test_classified_incorrect.shape: (1107618,)\n",
      "d:\\Jorge\\deforestation_uncertainty\\src\\metrics.py:294: RuntimeWarning: invalid value encountered in longlong_scalars\n",
      "  precision_L = TP_L / (TP_L + FP_L)\n",
      "d:\\Jorge\\deforestation_uncertainty\\src\\metrics.py:297: RuntimeWarning: invalid value encountered in longlong_scalars\n",
      "  precision_H = TP_H / (TP_H + FP_H)\n",
      "ic| TP_H + FN_H + FP_H + TN_H: 1107618\n",
      "    len(label_mask_current_deforestation_test): 36877090\n",
      "ic| TP_H + FN_H + FP_H + TN_H: 1107618\n",
      "    len(label_mask_current_deforestation_test): 36877090\n"
     ]
    },
    {
     "name": "stdout",
     "output_type": "stream",
     "text": [
      "[       nan 0.         0.         0.0300354         nan 0.\n",
      " 0.25152485]\n",
      "0.42159523474420174\n",
      "threshold 0.42159523474420174\n"
     ]
    },
    {
     "name": "stderr",
     "output_type": "stream",
     "text": [
      "ic| label_current_deforestation_test_classified_incorrect.shape: (1106283,)\n",
      "    predicted_test_classified_incorrect.shape: (1106283,)\n",
      "d:\\Jorge\\deforestation_uncertainty\\src\\metrics.py:294: RuntimeWarning: invalid value encountered in longlong_scalars\n",
      "  precision_L = TP_L / (TP_L + FP_L)\n",
      "d:\\Jorge\\deforestation_uncertainty\\src\\metrics.py:297: RuntimeWarning: invalid value encountered in longlong_scalars\n",
      "  precision_H = TP_H / (TP_H + FP_H)\n",
      "ic| TP_H + FN_H + FP_H + TN_H: 1106283\n",
      "    len(label_mask_current_deforestation_test): 36877090\n",
      "ic| TP_H + FN_H + FP_H + TN_H: 1106283\n",
      "    len(label_mask_current_deforestation_test): 36877090\n"
     ]
    },
    {
     "name": "stdout",
     "output_type": "stream",
     "text": [
      "[       nan 0.         0.         0.02999919        nan 0.\n",
      " 0.25181802]\n",
      "0.42163136997208583\n",
      "threshold 0.42163136997208583\n"
     ]
    },
    {
     "name": "stderr",
     "output_type": "stream",
     "text": [
      "ic| label_current_deforestation_test_classified_incorrect.shape: (1106075,)\n",
      "    predicted_test_classified_incorrect.shape: (1106075,)\n",
      "d:\\Jorge\\deforestation_uncertainty\\src\\metrics.py:294: RuntimeWarning: invalid value encountered in longlong_scalars\n",
      "  precision_L = TP_L / (TP_L + FP_L)\n",
      "d:\\Jorge\\deforestation_uncertainty\\src\\metrics.py:297: RuntimeWarning: invalid value encountered in longlong_scalars\n",
      "  precision_H = TP_H / (TP_H + FP_H)\n",
      "ic| TP_H + FN_H + FP_H + TN_H: 1106075\n",
      "    len(label_mask_current_deforestation_test): 36877090\n",
      "ic| TP_H + FN_H + FP_H + TN_H: 1106075\n",
      "    len(label_mask_current_deforestation_test): 36877090\n",
      "ic| self.threshold_optimal: 0.42159523474420174\n"
     ]
    },
    {
     "name": "stdout",
     "output_type": "stream",
     "text": [
      "[       nan 0.         0.         0.02999355        nan 0.\n",
      " 0.25186368]\n",
      "threshold:  0.42159523474420174\n",
      "threshold 0.42159523474420174\n"
     ]
    },
    {
     "name": "stderr",
     "output_type": "stream",
     "text": [
      "ic| label_current_deforestation_test_classified_incorrect.shape: (1106283,)\n",
      "    predicted_test_classified_incorrect.shape: (1106283,)\n",
      "d:\\Jorge\\deforestation_uncertainty\\src\\metrics.py:294: RuntimeWarning: invalid value encountered in longlong_scalars\n",
      "  precision_L = TP_L / (TP_L + FP_L)\n",
      "d:\\Jorge\\deforestation_uncertainty\\src\\metrics.py:297: RuntimeWarning: invalid value encountered in longlong_scalars\n",
      "  precision_H = TP_H / (TP_H + FP_H)\n",
      "ic| TP_H + FN_H + FP_H + TN_H: 1106283\n",
      "    len(label_mask_current_deforestation_test): 36877090\n",
      "ic| TP_H + FN_H + FP_H + TN_H: 1106283\n",
      "    len(label_mask_current_deforestation_test): 36877090\n"
     ]
    },
    {
     "name": "stdout",
     "output_type": "stream",
     "text": [
      "[       nan 0.         0.         0.02999919        nan 0.\n",
      " 0.25181802]\n",
      "threshold 0.42159523474420174\n",
      "(36877090,) (36877090,)\n"
     ]
    },
    {
     "name": "stderr",
     "output_type": "stream",
     "text": [
      "ic| self.m_optimal: {'AA': array([0.02999919]),\n",
      "                     'UEO': array([0.25181802]),\n",
      "                     'f1': 0.0,\n",
      "                     'f1_H': array([nan]),\n",
      "                     'f1_L': array([nan]),\n",
      "                     'precision_H': array([nan]),\n",
      "                     'precision_L': array([nan]),\n",
      "                     'recall_H': array([0.]),\n",
      "                     'recall_L': array([0.]),\n",
      "                     'recall_Ltotal': array([0.])}\n",
      "ic| self.m_audited_optimal: {'f1': array([0.97665196]),\n",
      "                             'precision': array([1.]),\n",
      "                             'recall': array([0.9543693])}\n"
     ]
    },
    {
     "name": "stdout",
     "output_type": "stream",
     "text": [
      "cm_audited [[36581631        0]\n",
      " [   13482   281977]]\n",
      "[1.        0.9543693]\n",
      "Result idx 4: {'uncertainty_result': {'metrics': {'precision_L': array([nan]), 'recall_L': array([0.]), 'recall_Ltotal': array([0.]), 'AA': array([0.02999919]), 'precision_H': array([nan]), 'recall_H': array([0.]), 'UEO': array([0.25181802]), 'f1_L': array([nan]), 'f1_H': array([nan]), 'f1': 0.0}, 'metrics_audited': {'precision': array([1.]), 'recall': array([0.9543693]), 'f1': array([0.97665196])}, 'exp': 41}}\n",
      "Grid execution idx: 4\n",
      "Beginning run number 5\n",
      "manager.config {'training': True, 'inferring': True, 'site': 'MS', 'training_date': 'current', 'mode': 'evidential2', 'training_times': 20, 'uncertainty_method': 'pred_entropy', 'loadInference': False, 'removePolygons': True, 'plotLandsat': False, 'plotPOI': False, 'training_experiment_id': 41, 'get_multiple_metrics': False, 'start_repetition_id': 0, 'end_repetition_id': 20, 'save_probabilities': False, 'addPastDeforestationInput': True, 'classes_mode': True, 'learning_rate': 0.0001, 'use_cloud_mask': False, 'mask_out_non_biome': False, 'log_filename': 'log.pkl', 'inference_times': 1, 'dropout_training': False}\n",
      "D:/Jorge/datasets/deforestation/MS/deforestation_past_years.tif\n",
      "Loaded deforestation past years\n"
     ]
    },
    {
     "name": "stderr",
     "output_type": "stream",
     "text": [
      "ic| np.unique(deforestation_past_years, return_counts=True): (array([   0, 2002, 2004, 2006, 2008, 2010, 2012, 2013, 2014, 2015, 2016,\n",
      "                                                                    2017, 2018, 2019, 2020, 2021], dtype=uint16),\n",
      "                                                              array([334024764,   8717093,   6541094,   3824922,   2096535,   1305948,\n",
      "                                                                      1003721,    903906,    318788,    701575,    310887,    440417,\n",
      "                                                                       316180,    560438,    600838,    776899], dtype=int64))\n"
     ]
    },
    {
     "name": "stdout",
     "output_type": "stream",
     "text": [
      "Label where deforestation past years is actual date (2020) = 1\n"
     ]
    },
    {
     "name": "stderr",
     "output_type": "stream",
     "text": [
      "ic| np.unique(deforestation_past_years, return_counts=True): (array([   0, 2002, 2004, 2006, 2008, 2010, 2012, 2013, 2014, 2015, 2016,\n",
      "                                                                    2017, 2018, 2019, 2020, 2021], dtype=uint16),\n",
      "                                                              array([334024764,   8717093,   6541094,   3824922,   2096535,   1305948,\n",
      "                                                                      1003721,    903906,    318788,    701575,    310887,    440417,\n",
      "                                                                       316180,    560438,    600838,    776899], dtype=int64))\n"
     ]
    },
    {
     "name": "stdout",
     "output_type": "stream",
     "text": [
      "Past deforestation different from 0 (no deforestation)\n"
     ]
    },
    {
     "name": "stderr",
     "output_type": "stream",
     "text": [
      "ic| np.unique(deforestation_past_years, return_counts=True): (array([   0, 2002, 2004, 2006, 2008, 2010, 2012, 2013, 2014, 2015, 2016,\n",
      "                                                                    2017, 2018, 2019, 2020, 2021], dtype=uint16),\n",
      "                                                              array([334024764,   8717093,   6541094,   3824922,   2096535,   1305948,\n",
      "                                                                      1003721,    903906,    318788,    701575,    310887,    440417,\n",
      "                                                                       316180,    560438,    600838,    776899], dtype=int64))\n"
     ]
    },
    {
     "name": "stdout",
     "output_type": "stream",
     "text": [
      "Past deforestation before 2008 is 2\n",
      "D:/Jorge/datasets/deforestation/MS/deforestation_before_2000_MS.tif\n"
     ]
    },
    {
     "name": "stderr",
     "output_type": "stream",
     "text": [
      "ic| np.unique(label_past_deforestation_before_2008, return_counts=True): (array([  0, 208], dtype=uint8), array([126708038, 235735967], dtype=int64))\n",
      "ic| np.unique(deforestation_past_years, return_counts=True): (array([   0, 2002, 2004, 2006, 2008, 2010, 2012, 2013, 2014, 2015, 2016,\n",
      "                                                                    2017, 2018, 2019, 2020, 2021], dtype=uint16),\n",
      "                                                              array([334024764,   8717093,   6541094,   3824922,   2096535,   1305948,\n",
      "                                                                      1003721,    903906,    318788,    701575,    310887,    440417,\n",
      "                                                                       316180,    560438,    600838,    776899], dtype=int64))\n",
      "ic| label_per_date.shape: (18605, 19481, 1)\n"
     ]
    },
    {
     "name": "stdout",
     "output_type": "stream",
     "text": [
      "Removing bufer................\n",
      "Mask label shape:  \n",
      " (18605, 19481, 1) \n",
      " Unique values:  \n",
      " [0 1 2]\n",
      "Tiles size:  3721 3896\n",
      "Mask size:  (18605, 19480)\n"
     ]
    },
    {
     "name": "stderr",
     "output_type": "stream",
     "text": [
      "ic| image_stack.shape: (18605, 19481, 9)\n"
     ]
    },
    {
     "name": "stdout",
     "output_type": "stream",
     "text": [
      "Image shape:  (18605, 19481, 9)\n",
      "mask:  (18605, 19480)\n",
      "image stack:  (18605, 19480, 9)\n",
      "ref : (18605, 19480, 1)\n",
      "Training tiles:  [2, 4, 5, 6, 7, 12, 14, 15, 18, 21, 23, 24]\n",
      "Validation tiles:  [9, 11, 25]\n",
      "Test tiles:  [1, 3, 8, 10, 13, 16, 17, 19, 20, 22]\n",
      "-35.0 -8.0\n"
     ]
    },
    {
     "name": "stderr",
     "output_type": "stream",
     "text": [
      "ic| self.path_models+ '/' + self.method +'_'+str(self.repetition_id)+'.h5': 'D:/Jorge/datasets/deforestation/experiments/MS/exp41/models/resunet_5.h5'\n"
     ]
    },
    {
     "name": "stdout",
     "output_type": "stream",
     "text": [
      "Dropout training mode: False\n",
      "time:  0\n",
      "alpha.shape (18640, 19488, 2)\n",
      "S.shape (18640, 19488)\n",
      "K 2\n",
      "u.shape (18640, 19488)\n",
      "belief.shape (18640, 19488, 2)\n",
      "Inference runtime 251.41\n",
      "(36877090,)\n",
      "(array([0, 1], dtype=uint8), array([36581631,   295459], dtype=int64))\n",
      "(18605, 19480, 2)\n"
     ]
    },
    {
     "name": "stderr",
     "output_type": "stream",
     "text": [
      "ic| predicted_test.shape: (144970160,)\n",
      "ic| predicted_test.shape: (36877090,)\n",
      "ic| np.unique(predicted, return_counts=True): (array([0, 1], dtype=int8), array([361499785,    925615], dtype=int64))\n",
      "    np.unique(predicted_larger_than_min_area, return_counts=True): (array([0, 1], dtype=int8), array([361548275,    877125], dtype=int64))\n",
      "ic| np.unique(ignored_polygons, return_counts=True): (array([0, 1], dtype=int8), array([362376910,     48490], dtype=int64))\n",
      "ic| self.f1: 86.28, self.precision: 87.34, self.recall: 85.25\n",
      "ic| self.label_mask_val.shape: (43491048,)\n",
      "ic| self.label_mask_val_valid.shape: (10772147,)\n",
      "ic| f1_val: 43.33\n",
      "    precision_val: 36.73\n",
      "    recall_val: 52.81\n",
      "    mAP_val: 49.8\n"
     ]
    },
    {
     "name": "stdout",
     "output_type": "stream",
     "text": [
      "(array([0, 1], dtype=int16), array([361873892,    551508], dtype=int64))\n",
      "[0 1]\n"
     ]
    },
    {
     "name": "stderr",
     "output_type": "stream",
     "text": [
      "ic| self.label_mask.shape: (18605, 19480)\n",
      "ic| self.mask_test.shape: (18605, 19480)\n",
      "ic| self.label_mask_test.shape: (144970160,)\n",
      "ic| self.error_mask_test.shape: (36858160,)\n",
      "ic| bounds: (0.00010578750008484349, 0.4985)\n"
     ]
    },
    {
     "name": "stdout",
     "output_type": "stream",
     "text": [
      "(0.00010578750008484349, 0.4985)\n",
      "0.19047543687881469\n",
      "threshold 0.19047543687881469\n"
     ]
    },
    {
     "name": "stderr",
     "output_type": "stream",
     "text": [
      "c:\\Users\\jchamorro\\Anaconda3\\envs\\tf2\\lib\\site-packages\\scipy\\optimize\\_minimize.py:783: RuntimeWarning: Method 'bounded' does not support relative tolerance in x; defaulting to absolute tolerance.\n",
      "  warn(\"Method 'bounded' does not support relative tolerance in x; \"\n",
      "ic| label_current_deforestation_test_classified_incorrect.shape: (3768036,)\n",
      "    predicted_test_classified_incorrect.shape: (3768036,)\n",
      "ic| TP_H + FN_H + FP_H + TN_H: 3768036\n",
      "    len(label_mask_current_deforestation_test): 36858160\n",
      "ic| TP_H + FN_H + FP_H + TN_H: 3768036\n",
      "    len(label_mask_current_deforestation_test): 36858160\n"
     ]
    },
    {
     "name": "stdout",
     "output_type": "stream",
     "text": [
      "[0.98361354 0.94363894 0.67996036 0.10223071 0.60590533 0.61736402\n",
      " 0.01671546]\n",
      "0.30813035062127003\n",
      "threshold 0.30813035062127003\n"
     ]
    },
    {
     "name": "stderr",
     "output_type": "stream",
     "text": [
      "ic| label_current_deforestation_test_classified_incorrect.shape: (1840350,)\n",
      "    predicted_test_classified_incorrect.shape: (1840350,)\n",
      "ic| TP_H + FN_H + FP_H + TN_H: 1840350\n",
      "    len(label_mask_current_deforestation_test): 36858160\n",
      "ic| TP_H + FN_H + FP_H + TN_H: 1840350\n",
      "    len(label_mask_current_deforestation_test): 36858160\n"
     ]
    },
    {
     "name": "stdout",
     "output_type": "stream",
     "text": [
      "[0.96114116 0.94307651 0.75252527 0.0499306  0.51770745 0.49464062\n",
      " 0.03025177]\n",
      "0.38084508625754454\n",
      "threshold 0.38084508625754454\n"
     ]
    },
    {
     "name": "stderr",
     "output_type": "stream",
     "text": [
      "ic| label_current_deforestation_test_classified_incorrect.shape: (1109511,)\n",
      "    predicted_test_classified_incorrect.shape: (1109511,)\n",
      "ic| TP_H + FN_H + FP_H + TN_H: 1109511\n",
      "    len(label_mask_current_deforestation_test): 36858160\n",
      "ic| TP_H + FN_H + FP_H + TN_H: 1109511\n",
      "    len(label_mask_current_deforestation_test): 36858160\n"
     ]
    },
    {
     "name": "stdout",
     "output_type": "stream",
     "text": [
      "[0.93664876 0.94078711 0.7895025  0.03010218 0.47307993 0.39156575\n",
      " 0.04254863]\n",
      "0.42578526436372544\n",
      "threshold 0.42578526436372544\n"
     ]
    },
    {
     "name": "stderr",
     "output_type": "stream",
     "text": [
      "ic| label_current_deforestation_test_classified_incorrect.shape: (758143,)\n",
      "    predicted_test_classified_incorrect.shape: (758143,)\n",
      "ic| TP_H + FN_H + FP_H + TN_H: 758143\n",
      "    len(label_mask_current_deforestation_test): 36858160\n",
      "ic| TP_H + FN_H + FP_H + TN_H: 758143\n",
      "    len(label_mask_current_deforestation_test): 36858160\n"
     ]
    },
    {
     "name": "stdout",
     "output_type": "stream",
     "text": [
      "[0.91390369 0.93927036 0.81168676 0.0205692  0.46424204 0.30023725\n",
      " 0.0515644 ]\n",
      "0.3778890379125596\n",
      "threshold 0.3778890379125596\n"
     ]
    },
    {
     "name": "stderr",
     "output_type": "stream",
     "text": [
      "ic| label_current_deforestation_test_classified_incorrect.shape: (1135101,)\n",
      "    predicted_test_classified_incorrect.shape: (1135101,)\n",
      "ic| TP_H + FN_H + FP_H + TN_H: 1135101\n",
      "    len(label_mask_current_deforestation_test): 36858160\n",
      "ic| TP_H + FN_H + FP_H + TN_H: 1135101\n",
      "    len(label_mask_current_deforestation_test): 36858160\n"
     ]
    },
    {
     "name": "stdout",
     "output_type": "stream",
     "text": [
      "[0.93797244 0.94094091 0.78815453 0.03079646 0.47385621 0.39608186\n",
      " 0.04200124]\n",
      "0.3920796790478355\n",
      "threshold 0.3920796790478355\n"
     ]
    },
    {
     "name": "stderr",
     "output_type": "stream",
     "text": [
      "ic| label_current_deforestation_test_classified_incorrect.shape: (1015409,)\n",
      "    predicted_test_classified_incorrect.shape: (1015409,)\n",
      "ic| TP_H + FN_H + FP_H + TN_H: 1015409\n",
      "    len(label_mask_current_deforestation_test): 36858160\n",
      "ic| TP_H + FN_H + FP_H + TN_H: 1015409\n",
      "    len(label_mask_current_deforestation_test): 36858160\n"
     ]
    },
    {
     "name": "stdout",
     "output_type": "stream",
     "text": [
      "[0.93133911 0.94032579 0.79491862 0.0275491  0.46988259 0.37216807\n",
      " 0.04466037]\n",
      "0.38513631885367117\n",
      "threshold 0.38513631885367117\n"
     ]
    },
    {
     "name": "stderr",
     "output_type": "stream",
     "text": [
      "ic| label_current_deforestation_test_classified_incorrect.shape: (1073035,)\n",
      "    predicted_test_classified_incorrect.shape: (1073035,)\n",
      "ic| TP_H + FN_H + FP_H + TN_H: 1073035\n",
      "    len(label_mask_current_deforestation_test): 36858160\n",
      "ic| TP_H + FN_H + FP_H + TN_H: 1073035\n",
      "    len(label_mask_current_deforestation_test): 36858160\n"
     ]
    },
    {
     "name": "stdout",
     "output_type": "stream",
     "text": [
      "[0.9346114  0.94063393 0.79161974 0.02911255 0.47171332 0.38410219\n",
      " 0.04334008]\n",
      "0.3814038069260161\n",
      "threshold 0.3814038069260161\n"
     ]
    },
    {
     "name": "stderr",
     "output_type": "stream",
     "text": [
      "ic| label_current_deforestation_test_classified_incorrect.shape: (1104788,)\n",
      "    predicted_test_classified_incorrect.shape: (1104788,)\n",
      "ic| TP_H + FN_H + FP_H + TN_H: 1104788\n",
      "    len(label_mask_current_deforestation_test): 36858160\n",
      "ic| TP_H + FN_H + FP_H + TN_H: 1104788\n",
      "    len(label_mask_current_deforestation_test): 36858160\n"
     ]
    },
    {
     "name": "stdout",
     "output_type": "stream",
     "text": [
      "[0.93638044 0.94079064 0.78977279 0.02997404 0.47293306 0.39057508\n",
      " 0.04265316]\n",
      "0.38282949961896595\n",
      "threshold 0.38282949961896595\n"
     ]
    },
    {
     "name": "stderr",
     "output_type": "stream",
     "text": [
      "ic| label_current_deforestation_test_classified_incorrect.shape: (1092722,)\n",
      "    predicted_test_classified_incorrect.shape: (1092722,)\n",
      "ic| TP_H + FN_H + FP_H + TN_H: 1092722\n",
      "    len(label_mask_current_deforestation_test): 36858160\n",
      "ic| TP_H + FN_H + FP_H + TN_H: 1092722\n",
      "    len(label_mask_current_deforestation_test): 36858160\n"
     ]
    },
    {
     "name": "stdout",
     "output_type": "stream",
     "text": [
      "[0.9357992  0.94073863 0.79052127 0.02964668 0.472      0.38794731\n",
      " 0.04293232]\n",
      "0.38149424059998654\n",
      "threshold 0.38149424059998654\n"
     ]
    },
    {
     "name": "stderr",
     "output_type": "stream",
     "text": [
      "ic| label_current_deforestation_test_classified_incorrect.shape: (1104026,)\n",
      "    predicted_test_classified_incorrect.shape: (1104026,)\n",
      "ic| TP_H + FN_H + FP_H + TN_H: 1104026\n",
      "    len(label_mask_current_deforestation_test): 36858160\n",
      "ic| TP_H + FN_H + FP_H + TN_H: 1104026\n",
      "    len(label_mask_current_deforestation_test): 36858160\n"
     ]
    },
    {
     "name": "stdout",
     "output_type": "stream",
     "text": [
      "[0.9363577  0.9407829  0.78982823 0.02995337 0.47279908 0.39038981\n",
      " 0.04267263]\n",
      "0.3812457504142219\n",
      "threshold 0.3812457504142219\n"
     ]
    },
    {
     "name": "stderr",
     "output_type": "stream",
     "text": [
      "ic| label_current_deforestation_test_classified_incorrect.shape: (1106150,)\n",
      "    predicted_test_classified_incorrect.shape: (1106150,)\n",
      "ic| TP_H + FN_H + FP_H + TN_H: 1106150\n",
      "    len(label_mask_current_deforestation_test): 36858160\n",
      "ic| TP_H + FN_H + FP_H + TN_H: 1106150\n",
      "    len(label_mask_current_deforestation_test): 36858160\n"
     ]
    },
    {
     "name": "stdout",
     "output_type": "stream",
     "text": [
      "[0.93646293 0.94078502 0.78969309 0.03001099 0.47296556 0.39087751\n",
      " 0.04262313]\n",
      "0.38121241142610024\n",
      "threshold 0.38121241142610024\n"
     ]
    },
    {
     "name": "stderr",
     "output_type": "stream",
     "text": [
      "ic| label_current_deforestation_test_classified_incorrect.shape: (1106422,)\n",
      "    predicted_test_classified_incorrect.shape: (1106422,)\n",
      "ic| TP_H + FN_H + FP_H + TN_H: 1106422\n",
      "    len(label_mask_current_deforestation_test): 36858160\n",
      "ic| TP_H + FN_H + FP_H + TN_H: 1106422\n",
      "    len(label_mask_current_deforestation_test): 36858160\n"
     ]
    },
    {
     "name": "stdout",
     "output_type": "stream",
     "text": [
      "[0.93647395 0.94078453 0.78968616 0.03001837 0.47295604 0.3909038\n",
      " 0.04261568]\n",
      "0.3812961076379609\n",
      "threshold 0.3812961076379609\n"
     ]
    },
    {
     "name": "stderr",
     "output_type": "stream",
     "text": [
      "ic| label_current_deforestation_test_classified_incorrect.shape: (1105733,)\n",
      "    predicted_test_classified_incorrect.shape: (1105733,)\n",
      "ic| TP_H + FN_H + FP_H + TN_H: 1105733\n",
      "    len(label_mask_current_deforestation_test): 36858160\n",
      "ic| TP_H + FN_H + FP_H + TN_H: 1105733\n",
      "    len(label_mask_current_deforestation_test): 36858160\n"
     ]
    },
    {
     "name": "stdout",
     "output_type": "stream",
     "text": [
      "[0.93643424 0.94078698 0.78972081 0.02999968 0.47295427 0.39077235\n",
      " 0.04263144]\n",
      "0.3813372451054338\n",
      "threshold 0.3813372451054338\n"
     ]
    },
    {
     "name": "stderr",
     "output_type": "stream",
     "text": [
      "ic| label_current_deforestation_test_classified_incorrect.shape: (1105359,)\n",
      "    predicted_test_classified_incorrect.shape: (1105359,)\n",
      "ic| TP_H + FN_H + FP_H + TN_H: 1105359\n",
      "    len(label_mask_current_deforestation_test): 36858160\n",
      "ic| TP_H + FN_H + FP_H + TN_H: 1105359\n",
      "    len(label_mask_current_deforestation_test): 36858160\n",
      "ic| self.threshold_optimal: 0.3812961076379609\n"
     ]
    },
    {
     "name": "stdout",
     "output_type": "stream",
     "text": [
      "[0.93641709 0.94078893 0.78974853 0.02998953 0.47290589 0.39066716\n",
      " 0.04264089]\n",
      "threshold:  0.3812961076379609\n",
      "threshold 0.3812961076379609\n"
     ]
    },
    {
     "name": "stderr",
     "output_type": "stream",
     "text": [
      "ic| label_current_deforestation_test_classified_incorrect.shape: (1105733,)\n",
      "    predicted_test_classified_incorrect.shape: (1105733,)\n",
      "ic| TP_H + FN_H + FP_H + TN_H: 1105733\n",
      "    len(label_mask_current_deforestation_test): 36858160\n",
      "ic| TP_H + FN_H + FP_H + TN_H: 1105733\n",
      "    len(label_mask_current_deforestation_test): 36858160\n"
     ]
    },
    {
     "name": "stdout",
     "output_type": "stream",
     "text": [
      "[0.93643424 0.94078698 0.78972081 0.02999968 0.47295427 0.39077235\n",
      " 0.04263144]\n",
      "threshold 0.3812961076379609\n",
      "(36858160,) (36858160,)\n"
     ]
    },
    {
     "name": "stderr",
     "output_type": "stream",
     "text": [
      "ic| self.m_optimal: {'AA': array([0.02999968]),\n",
      "                     'UEO': array([0.04263144]),\n",
      "                     'f1': 86.28,\n",
      "                     'f1_H': array([0.42795358]),\n",
      "                     'f1_L': array([0.93860556]),\n",
      "                     'precision_H': array([0.47295427]),\n",
      "                     'precision_L': array([0.93643424]),\n",
      "                     'recall_H': array([0.39077235]),\n",
      "                     'recall_L': array([0.94078698]),\n",
      "                     'recall_Ltotal': array([0.78972081])}\n",
      "ic| self.m_audited_optimal: {'f1': array([0.94844473]),\n",
      "                             'precision': array([0.94660159]),\n",
      "                             'recall': array([0.95029506])}\n"
     ]
    },
    {
     "name": "stdout",
     "output_type": "stream",
     "text": [
      "cm_audited [[36554107    15470]\n",
      " [   14344   274239]]\n",
      "[0.94660159 0.95029506]\n",
      "Result idx 5: {'uncertainty_result': {'metrics': {'precision_L': array([0.93643424]), 'recall_L': array([0.94078698]), 'recall_Ltotal': array([0.78972081]), 'AA': array([0.02999968]), 'precision_H': array([0.47295427]), 'recall_H': array([0.39077235]), 'UEO': array([0.04263144]), 'f1_L': array([0.93860556]), 'f1_H': array([0.42795358]), 'f1': 86.28}, 'metrics_audited': {'precision': array([0.94660159]), 'recall': array([0.95029506]), 'f1': array([0.94844473])}, 'exp': 41}}\n",
      "Grid execution idx: 5\n",
      "Beginning run number 6\n",
      "manager.config {'training': True, 'inferring': True, 'site': 'MS', 'training_date': 'current', 'mode': 'evidential2', 'training_times': 20, 'uncertainty_method': 'pred_entropy', 'loadInference': False, 'removePolygons': True, 'plotLandsat': False, 'plotPOI': False, 'training_experiment_id': 41, 'get_multiple_metrics': False, 'start_repetition_id': 0, 'end_repetition_id': 20, 'save_probabilities': False, 'addPastDeforestationInput': True, 'classes_mode': True, 'learning_rate': 0.0001, 'use_cloud_mask': False, 'mask_out_non_biome': False, 'log_filename': 'log.pkl', 'inference_times': 1, 'dropout_training': False}\n",
      "D:/Jorge/datasets/deforestation/MS/deforestation_past_years.tif\n",
      "Loaded deforestation past years\n"
     ]
    },
    {
     "name": "stderr",
     "output_type": "stream",
     "text": [
      "ic| np.unique(deforestation_past_years, return_counts=True): (array([   0, 2002, 2004, 2006, 2008, 2010, 2012, 2013, 2014, 2015, 2016,\n",
      "                                                                    2017, 2018, 2019, 2020, 2021], dtype=uint16),\n",
      "                                                              array([334024764,   8717093,   6541094,   3824922,   2096535,   1305948,\n",
      "                                                                      1003721,    903906,    318788,    701575,    310887,    440417,\n",
      "                                                                       316180,    560438,    600838,    776899], dtype=int64))\n"
     ]
    },
    {
     "name": "stdout",
     "output_type": "stream",
     "text": [
      "Label where deforestation past years is actual date (2020) = 1\n"
     ]
    },
    {
     "name": "stderr",
     "output_type": "stream",
     "text": [
      "ic| np.unique(deforestation_past_years, return_counts=True): (array([   0, 2002, 2004, 2006, 2008, 2010, 2012, 2013, 2014, 2015, 2016,\n",
      "                                                                    2017, 2018, 2019, 2020, 2021], dtype=uint16),\n",
      "                                                              array([334024764,   8717093,   6541094,   3824922,   2096535,   1305948,\n",
      "                                                                      1003721,    903906,    318788,    701575,    310887,    440417,\n",
      "                                                                       316180,    560438,    600838,    776899], dtype=int64))\n"
     ]
    },
    {
     "name": "stdout",
     "output_type": "stream",
     "text": [
      "Past deforestation different from 0 (no deforestation)\n"
     ]
    },
    {
     "name": "stderr",
     "output_type": "stream",
     "text": [
      "ic| np.unique(deforestation_past_years, return_counts=True): (array([   0, 2002, 2004, 2006, 2008, 2010, 2012, 2013, 2014, 2015, 2016,\n",
      "                                                                    2017, 2018, 2019, 2020, 2021], dtype=uint16),\n",
      "                                                              array([334024764,   8717093,   6541094,   3824922,   2096535,   1305948,\n",
      "                                                                      1003721,    903906,    318788,    701575,    310887,    440417,\n",
      "                                                                       316180,    560438,    600838,    776899], dtype=int64))\n"
     ]
    },
    {
     "name": "stdout",
     "output_type": "stream",
     "text": [
      "Past deforestation before 2008 is 2\n",
      "D:/Jorge/datasets/deforestation/MS/deforestation_before_2000_MS.tif\n"
     ]
    },
    {
     "name": "stderr",
     "output_type": "stream",
     "text": [
      "ic| np.unique(label_past_deforestation_before_2008, return_counts=True): (array([  0, 208], dtype=uint8), array([126708038, 235735967], dtype=int64))\n",
      "ic| np.unique(deforestation_past_years, return_counts=True): (array([   0, 2002, 2004, 2006, 2008, 2010, 2012, 2013, 2014, 2015, 2016,\n",
      "                                                                    2017, 2018, 2019, 2020, 2021], dtype=uint16),\n",
      "                                                              array([334024764,   8717093,   6541094,   3824922,   2096535,   1305948,\n",
      "                                                                      1003721,    903906,    318788,    701575,    310887,    440417,\n",
      "                                                                       316180,    560438,    600838,    776899], dtype=int64))\n",
      "ic| label_per_date.shape: (18605, 19481, 1)\n"
     ]
    },
    {
     "name": "stdout",
     "output_type": "stream",
     "text": [
      "Removing bufer................\n",
      "Mask label shape:  \n",
      " (18605, 19481, 1) \n",
      " Unique values:  \n",
      " [0 1 2]\n",
      "Tiles size:  3721 3896\n",
      "Mask size:  (18605, 19480)\n"
     ]
    },
    {
     "name": "stderr",
     "output_type": "stream",
     "text": [
      "ic| image_stack.shape: (18605, 19481, 9)\n"
     ]
    },
    {
     "name": "stdout",
     "output_type": "stream",
     "text": [
      "Image shape:  (18605, 19481, 9)\n",
      "mask:  (18605, 19480)\n",
      "image stack:  (18605, 19480, 9)\n",
      "ref : (18605, 19480, 1)\n",
      "Training tiles:  [2, 4, 5, 6, 7, 12, 14, 15, 18, 21, 23, 24]\n",
      "Validation tiles:  [9, 11, 25]\n",
      "Test tiles:  [1, 3, 8, 10, 13, 16, 17, 19, 20, 22]\n",
      "-35.0 -8.0\n"
     ]
    },
    {
     "name": "stderr",
     "output_type": "stream",
     "text": [
      "ic| self.path_models+ '/' + self.method +'_'+str(self.repetition_id)+'.h5': 'D:/Jorge/datasets/deforestation/experiments/MS/exp41/models/resunet_6.h5'\n"
     ]
    },
    {
     "name": "stdout",
     "output_type": "stream",
     "text": [
      "Dropout training mode: False\n",
      "time:  0\n",
      "alpha.shape (18640, 19488, 2)\n",
      "S.shape (18640, 19488)\n",
      "K 2\n",
      "u.shape (18640, 19488)\n",
      "belief.shape (18640, 19488, 2)\n",
      "Inference runtime 255.1\n",
      "(36877090,)\n",
      "(array([0, 1], dtype=uint8), array([36581631,   295459], dtype=int64))\n",
      "(18605, 19480, 2)\n"
     ]
    },
    {
     "name": "stderr",
     "output_type": "stream",
     "text": [
      "ic| predicted_test.shape: (144970160,)\n",
      "ic| predicted_test.shape: (36877090,)\n",
      "ic| np.unique(predicted, return_counts=True): (array([0, 1], dtype=int8), array([361420589,   1004811], dtype=int64))\n",
      "    np.unique(predicted_larger_than_min_area, return_counts=True): (array([0, 1], dtype=int8), array([361480785,    944615], dtype=int64))\n",
      "ic| np.unique(ignored_polygons, return_counts=True): (array([0, 1], dtype=int8), array([362365204,     60196], dtype=int64))\n",
      "ic| self.f1: 84.42, self.precision: 82.39, self.recall: 86.55\n",
      "ic| self.label_mask_val.shape: (43491048,)\n",
      "ic| self.label_mask_val_valid.shape: (10771980,)\n",
      "ic| f1_val: 39.59\n",
      "    precision_val: 30.22\n",
      "    recall_val: 57.36\n",
      "    mAP_val: 52.72\n"
     ]
    },
    {
     "name": "stdout",
     "output_type": "stream",
     "text": [
      "(array([0, 1], dtype=int16), array([361830832,    594568], dtype=int64))\n",
      "[0 1]\n"
     ]
    },
    {
     "name": "stderr",
     "output_type": "stream",
     "text": [
      "ic| self.label_mask.shape: (18605, 19480)\n",
      "ic| self.mask_test.shape: (18605, 19480)\n",
      "ic| self.label_mask_test.shape: (144970160,)\n",
      "ic| self.error_mask_test.shape: (36850719,)\n",
      "ic| bounds: (0.00010578750008484349, 0.4985)\n"
     ]
    },
    {
     "name": "stdout",
     "output_type": "stream",
     "text": [
      "(0.00010578750008484349, 0.4985)\n",
      "0.19047543687881469\n",
      "threshold 0.19047543687881469\n"
     ]
    },
    {
     "name": "stderr",
     "output_type": "stream",
     "text": [
      "c:\\Users\\jchamorro\\Anaconda3\\envs\\tf2\\lib\\site-packages\\scipy\\optimize\\_minimize.py:783: RuntimeWarning: Method 'bounded' does not support relative tolerance in x; defaulting to absolute tolerance.\n",
      "  warn(\"Method 'bounded' does not support relative tolerance in x; \"\n",
      "ic| label_current_deforestation_test_classified_incorrect.shape: (2152899,)\n",
      "    predicted_test_classified_incorrect.shape: (2152899,)\n",
      "ic| TP_H + FN_H + FP_H + TN_H: 2152899\n",
      "    len(label_mask_current_deforestation_test): 36850719\n",
      "ic| TP_H + FN_H + FP_H + TN_H: 2152899\n",
      "    len(label_mask_current_deforestation_test): 36850719\n"
     ]
    },
    {
     "name": "stdout",
     "output_type": "stream",
     "text": [
      "[0.92610683 0.94509669 0.70277325 0.05842217 0.55793055 0.63461798\n",
      " 0.02952188]\n",
      "0.30813035062127003\n",
      "threshold 0.30813035062127003\n"
     ]
    },
    {
     "name": "stderr",
     "output_type": "stream",
     "text": [
      "ic| label_current_deforestation_test_classified_incorrect.shape: (1021596,)\n",
      "    predicted_test_classified_incorrect.shape: (1021596,)\n",
      "ic| TP_H + FN_H + FP_H + TN_H: 1021596\n",
      "    len(label_mask_current_deforestation_test): 36850719\n",
      "ic| TP_H + FN_H + FP_H + TN_H: 1021596\n",
      "    len(label_mask_current_deforestation_test): 36850719\n"
     ]
    },
    {
     "name": "stdout",
     "output_type": "stream",
     "text": [
      "[0.89000922 0.94535096 0.76418868 0.02772255 0.52799553 0.52861473\n",
      " 0.04927907]\n",
      "0.38084508625754454\n",
      "threshold 0.38084508625754454\n"
     ]
    },
    {
     "name": "stderr",
     "output_type": "stream",
     "text": [
      "ic| label_current_deforestation_test_classified_incorrect.shape: (649705,)\n",
      "    predicted_test_classified_incorrect.shape: (649705,)\n",
      "ic| TP_H + FN_H + FP_H + TN_H: 649705\n",
      "    len(label_mask_current_deforestation_test): 36850719\n",
      "ic| TP_H + FN_H + FP_H + TN_H: 649705\n",
      "    len(label_mask_current_deforestation_test): 36850719\n"
     ]
    },
    {
     "name": "stdout",
     "output_type": "stream",
     "text": [
      "[0.86951633 0.94466985 0.79939632 0.01763073 0.50402088 0.42978551\n",
      " 0.06329027]\n",
      "0.30789408066397883\n",
      "threshold 0.30789408066397883\n"
     ]
    },
    {
     "name": "stderr",
     "output_type": "stream",
     "text": [
      "ic| label_current_deforestation_test_classified_incorrect.shape: (1023080,)\n",
      "    predicted_test_classified_incorrect.shape: (1023080,)\n",
      "ic| TP_H + FN_H + FP_H + TN_H: 1023080\n",
      "    len(label_mask_current_deforestation_test): 36850719\n",
      "ic| TP_H + FN_H + FP_H + TN_H: 1023080\n",
      "    len(label_mask_current_deforestation_test): 36850719\n"
     ]
    },
    {
     "name": "stdout",
     "output_type": "stream",
     "text": [
      "[0.89008108 0.94535966 0.76407804 0.02776282 0.52803932 0.52884858\n",
      " 0.04923792]\n",
      "0.26304414965096273\n",
      "threshold 0.26304414965096273\n"
     ]
    },
    {
     "name": "stderr",
     "output_type": "stream",
     "text": [
      "ic| label_current_deforestation_test_classified_incorrect.shape: (1348718,)\n",
      "    predicted_test_classified_incorrect.shape: (1348718,)\n",
      "ic| TP_H + FN_H + FP_H + TN_H: 1348718\n",
      "    len(label_mask_current_deforestation_test): 36850719\n",
      "ic| TP_H + FN_H + FP_H + TN_H: 1348718\n",
      "    len(label_mask_current_deforestation_test): 36850719\n"
     ]
    },
    {
     "name": "stdout",
     "output_type": "stream",
     "text": [
      "[0.90283794 0.94548409 0.74223707 0.0365995  0.539696   0.57335864\n",
      " 0.04112848]\n",
      "0.293659580522653\n",
      "threshold 0.293659580522653\n"
     ]
    },
    {
     "name": "stderr",
     "output_type": "stream",
     "text": [
      "ic| label_current_deforestation_test_classified_incorrect.shape: (1115915,)\n",
      "    predicted_test_classified_incorrect.shape: (1115915,)\n",
      "ic| TP_H + FN_H + FP_H + TN_H: 1115915\n",
      "    len(label_mask_current_deforestation_test): 36850719\n",
      "ic| TP_H + FN_H + FP_H + TN_H: 1115915\n",
      "    len(label_mask_current_deforestation_test): 36850719\n"
     ]
    },
    {
     "name": "stdout",
     "output_type": "stream",
     "text": [
      "[0.89390687 0.94548547 0.75730827 0.03028204 0.53212585 0.54355153\n",
      " 0.04658652]\n",
      "0.28196552650989015\n",
      "threshold 0.28196552650989015\n"
     ]
    },
    {
     "name": "stderr",
     "output_type": "stream",
     "text": [
      "ic| label_current_deforestation_test_classified_incorrect.shape: (1199308,)\n",
      "    predicted_test_classified_incorrect.shape: (1199308,)\n",
      "ic| TP_H + FN_H + FP_H + TN_H: 1199308\n",
      "    len(label_mask_current_deforestation_test): 36850719\n",
      "ic| TP_H + FN_H + FP_H + TN_H: 1199308\n",
      "    len(label_mask_current_deforestation_test): 36850719\n"
     ]
    },
    {
     "name": "stdout",
     "output_type": "stream",
     "text": [
      "[0.8972404  0.94553079 0.75149277 0.03254504 0.53537387 0.55549752\n",
      " 0.04446998]\n",
      "0.2990966757637743\n",
      "threshold 0.2990966757637743\n"
     ]
    },
    {
     "name": "stderr",
     "output_type": "stream",
     "text": [
      "ic| label_current_deforestation_test_classified_incorrect.shape: (1079405,)\n",
      "    predicted_test_classified_incorrect.shape: (1079405,)\n",
      "ic| TP_H + FN_H + FP_H + TN_H: 1079405\n",
      "    len(label_mask_current_deforestation_test): 36850719\n",
      "ic| TP_H + FN_H + FP_H + TN_H: 1079405\n",
      "    len(label_mask_current_deforestation_test): 36850719\n"
     ]
    },
    {
     "name": "stdout",
     "output_type": "stream",
     "text": [
      "[0.89239813 0.94545611 0.76005352 0.02929129 0.53038472 0.53766948\n",
      " 0.04758031]\n",
      "0.2905154017590829\n",
      "threshold 0.2905154017590829\n"
     ]
    },
    {
     "name": "stderr",
     "output_type": "stream",
     "text": [
      "ic| label_current_deforestation_test_classified_incorrect.shape: (1137557,)\n",
      "    predicted_test_classified_incorrect.shape: (1137557,)\n",
      "ic| TP_H + FN_H + FP_H + TN_H: 1137557\n",
      "    len(label_mask_current_deforestation_test): 36850719\n",
      "ic| TP_H + FN_H + FP_H + TN_H: 1137557\n",
      "    len(label_mask_current_deforestation_test): 36850719\n"
     ]
    },
    {
     "name": "stdout",
     "output_type": "stream",
     "text": [
      "[0.89476162 0.94550606 0.75581118 0.03086933 0.53298162 0.54667655\n",
      " 0.04600946]\n",
      "0.2951087930166379\n",
      "threshold 0.2951087930166379\n"
     ]
    },
    {
     "name": "stderr",
     "output_type": "stream",
     "text": [
      "ic| label_current_deforestation_test_classified_incorrect.shape: (1106013,)\n",
      "    predicted_test_classified_incorrect.shape: (1106013,)\n",
      "ic| TP_H + FN_H + FP_H + TN_H: 1106013\n",
      "    len(label_mask_current_deforestation_test): 36850719\n",
      "ic| TP_H + FN_H + FP_H + TN_H: 1106013\n",
      "    len(label_mask_current_deforestation_test): 36850719\n"
     ]
    },
    {
     "name": "stdout",
     "output_type": "stream",
     "text": [
      "[0.8935434  0.94549257 0.75807238 0.03001334 0.53150394 0.54189632\n",
      " 0.04686423]\n",
      "0.295785179221303\n",
      "threshold 0.295785179221303\n"
     ]
    },
    {
     "name": "stderr",
     "output_type": "stream",
     "text": [
      "ic| label_current_deforestation_test_classified_incorrect.shape: (1101307,)\n",
      "    predicted_test_classified_incorrect.shape: (1101307,)\n",
      "ic| TP_H + FN_H + FP_H + TN_H: 1101307\n",
      "    len(label_mask_current_deforestation_test): 36850719\n",
      "ic| TP_H + FN_H + FP_H + TN_H: 1101307\n",
      "    len(label_mask_current_deforestation_test): 36850719\n"
     ]
    },
    {
     "name": "stdout",
     "output_type": "stream",
     "text": [
      "[0.89333513 0.94548738 0.75835589 0.02988563 0.53145582 0.5412969\n",
      " 0.04699064]\n",
      "0.29497279700283424\n",
      "threshold 0.29497279700283424\n"
     ]
    },
    {
     "name": "stderr",
     "output_type": "stream",
     "text": [
      "ic| label_current_deforestation_test_classified_incorrect.shape: (1106973,)\n",
      "    predicted_test_classified_incorrect.shape: (1106973,)\n",
      "ic| TP_H + FN_H + FP_H + TN_H: 1106973\n",
      "    len(label_mask_current_deforestation_test): 36850719\n",
      "ic| TP_H + FN_H + FP_H + TN_H: 1106973\n",
      "    len(label_mask_current_deforestation_test): 36850719\n"
     ]
    },
    {
     "name": "stdout",
     "output_type": "stream",
     "text": [
      "[0.89356768 0.94549007 0.75797557 0.03003939 0.53163735 0.54211049\n",
      " 0.04683501]\n",
      "0.295269021050055\n",
      "threshold 0.295269021050055\n"
     ]
    },
    {
     "name": "stderr",
     "output_type": "stream",
     "text": [
      "ic| label_current_deforestation_test_classified_incorrect.shape: (1104877,)\n",
      "    predicted_test_classified_incorrect.shape: (1104877,)\n",
      "ic| TP_H + FN_H + FP_H + TN_H: 1104877\n",
      "    len(label_mask_current_deforestation_test): 36850719\n",
      "ic| TP_H + FN_H + FP_H + TN_H: 1104877\n",
      "    len(label_mask_current_deforestation_test): 36850719\n"
     ]
    },
    {
     "name": "stdout",
     "output_type": "stream",
     "text": [
      "[0.8934797  0.94549343 0.75814499 0.02998251 0.5315175  0.54173792\n",
      " 0.04689156]\n",
      "0.29517124469779865\n",
      "threshold 0.29517124469779865\n"
     ]
    },
    {
     "name": "stderr",
     "output_type": "stream",
     "text": [
      "ic| label_current_deforestation_test_classified_incorrect.shape: (1105538,)\n",
      "    predicted_test_classified_incorrect.shape: (1105538,)\n",
      "ic| TP_H + FN_H + FP_H + TN_H: 1105538\n",
      "    len(label_mask_current_deforestation_test): 36850719\n",
      "ic| TP_H + FN_H + FP_H + TN_H: 1105538\n",
      "    len(label_mask_current_deforestation_test): 36850719\n"
     ]
    },
    {
     "name": "stdout",
     "output_type": "stream",
     "text": [
      "[0.89350639 0.94549422 0.75809658 0.03000045 0.53154787 0.54184038\n",
      " 0.04687362]\n",
      "0.2952045824092291\n",
      "threshold 0.2952045824092291\n"
     ]
    },
    {
     "name": "stderr",
     "output_type": "stream",
     "text": [
      "ic| label_current_deforestation_test_classified_incorrect.shape: (1105316,)\n",
      "    predicted_test_classified_incorrect.shape: (1105316,)\n",
      "ic| TP_H + FN_H + FP_H + TN_H: 1105316\n",
      "    len(label_mask_current_deforestation_test): 36850719\n",
      "ic| TP_H + FN_H + FP_H + TN_H: 1105316\n",
      "    len(label_mask_current_deforestation_test): 36850719\n",
      "ic| self.threshold_optimal: 0.29517124469779865\n"
     ]
    },
    {
     "name": "stdout",
     "output_type": "stream",
     "text": [
      "[0.89349035 0.94549539 0.75811387 0.02999442 0.53155327 0.54180042\n",
      " 0.04687814]\n",
      "threshold:  0.29517124469779865\n",
      "threshold 0.29517124469779865\n"
     ]
    },
    {
     "name": "stderr",
     "output_type": "stream",
     "text": [
      "ic| label_current_deforestation_test_classified_incorrect.shape: (1105538,)\n",
      "    predicted_test_classified_incorrect.shape: (1105538,)\n",
      "ic| TP_H + FN_H + FP_H + TN_H: 1105538\n",
      "    len(label_mask_current_deforestation_test): 36850719\n",
      "ic| TP_H + FN_H + FP_H + TN_H: 1105538\n",
      "    len(label_mask_current_deforestation_test): 36850719\n"
     ]
    },
    {
     "name": "stdout",
     "output_type": "stream",
     "text": [
      "[0.89350639 0.94549422 0.75809658 0.03000045 0.53154787 0.54184038\n",
      " 0.04687362]\n",
      "threshold 0.29517124469779865\n",
      "(36850719,) (36850719,)\n"
     ]
    },
    {
     "name": "stderr",
     "output_type": "stream",
     "text": [
      "ic| self.m_optimal: {'AA': array([0.03000045]),\n",
      "                     'UEO': array([0.04687362]),\n",
      "                     'f1': 84.42,\n",
      "                     'f1_H': array([0.53664478]),\n",
      "                     'f1_L': array([0.91876546]),\n",
      "                     'precision_H': array([0.53154787]),\n",
      "                     'precision_L': array([0.89350639]),\n",
      "                     'recall_H': array([0.54184038]),\n",
      "                     'recall_L': array([0.94549422]),\n",
      "                     'recall_Ltotal': array([0.75809658])}\n",
      "ic| self.m_audited_optimal: {'f1': array([0.9344992]),\n",
      "                             'precision': array([0.9136727]),\n",
      "                             'recall': array([0.9562973])}\n"
     ]
    },
    {
     "name": "stdout",
     "output_type": "stream",
     "text": [
      "cm_audited [[36535359    26133]\n",
      " [   12640   276587]]\n",
      "[0.9136727 0.9562973]\n",
      "Result idx 6: {'uncertainty_result': {'metrics': {'precision_L': array([0.89350639]), 'recall_L': array([0.94549422]), 'recall_Ltotal': array([0.75809658]), 'AA': array([0.03000045]), 'precision_H': array([0.53154787]), 'recall_H': array([0.54184038]), 'UEO': array([0.04687362]), 'f1_L': array([0.91876546]), 'f1_H': array([0.53664478]), 'f1': 84.42}, 'metrics_audited': {'precision': array([0.9136727]), 'recall': array([0.9562973]), 'f1': array([0.9344992])}, 'exp': 41}}\n",
      "Grid execution idx: 6\n",
      "Beginning run number 7\n",
      "manager.config {'training': True, 'inferring': True, 'site': 'MS', 'training_date': 'current', 'mode': 'evidential2', 'training_times': 20, 'uncertainty_method': 'pred_entropy', 'loadInference': False, 'removePolygons': True, 'plotLandsat': False, 'plotPOI': False, 'training_experiment_id': 41, 'get_multiple_metrics': False, 'start_repetition_id': 0, 'end_repetition_id': 20, 'save_probabilities': False, 'addPastDeforestationInput': True, 'classes_mode': True, 'learning_rate': 0.0001, 'use_cloud_mask': False, 'mask_out_non_biome': False, 'log_filename': 'log.pkl', 'inference_times': 1, 'dropout_training': False}\n",
      "D:/Jorge/datasets/deforestation/MS/deforestation_past_years.tif\n",
      "Loaded deforestation past years\n"
     ]
    },
    {
     "name": "stderr",
     "output_type": "stream",
     "text": [
      "ic| np.unique(deforestation_past_years, return_counts=True): (array([   0, 2002, 2004, 2006, 2008, 2010, 2012, 2013, 2014, 2015, 2016,\n",
      "                                                                    2017, 2018, 2019, 2020, 2021], dtype=uint16),\n",
      "                                                              array([334024764,   8717093,   6541094,   3824922,   2096535,   1305948,\n",
      "                                                                      1003721,    903906,    318788,    701575,    310887,    440417,\n",
      "                                                                       316180,    560438,    600838,    776899], dtype=int64))\n"
     ]
    },
    {
     "name": "stdout",
     "output_type": "stream",
     "text": [
      "Label where deforestation past years is actual date (2020) = 1\n"
     ]
    },
    {
     "name": "stderr",
     "output_type": "stream",
     "text": [
      "ic| np.unique(deforestation_past_years, return_counts=True): (array([   0, 2002, 2004, 2006, 2008, 2010, 2012, 2013, 2014, 2015, 2016,\n",
      "                                                                    2017, 2018, 2019, 2020, 2021], dtype=uint16),\n",
      "                                                              array([334024764,   8717093,   6541094,   3824922,   2096535,   1305948,\n",
      "                                                                      1003721,    903906,    318788,    701575,    310887,    440417,\n",
      "                                                                       316180,    560438,    600838,    776899], dtype=int64))\n"
     ]
    },
    {
     "name": "stdout",
     "output_type": "stream",
     "text": [
      "Past deforestation different from 0 (no deforestation)\n"
     ]
    },
    {
     "name": "stderr",
     "output_type": "stream",
     "text": [
      "ic| np.unique(deforestation_past_years, return_counts=True): (array([   0, 2002, 2004, 2006, 2008, 2010, 2012, 2013, 2014, 2015, 2016,\n",
      "                                                                    2017, 2018, 2019, 2020, 2021], dtype=uint16),\n",
      "                                                              array([334024764,   8717093,   6541094,   3824922,   2096535,   1305948,\n",
      "                                                                      1003721,    903906,    318788,    701575,    310887,    440417,\n",
      "                                                                       316180,    560438,    600838,    776899], dtype=int64))\n"
     ]
    },
    {
     "name": "stdout",
     "output_type": "stream",
     "text": [
      "Past deforestation before 2008 is 2\n",
      "D:/Jorge/datasets/deforestation/MS/deforestation_before_2000_MS.tif\n"
     ]
    },
    {
     "name": "stderr",
     "output_type": "stream",
     "text": [
      "ic| np.unique(label_past_deforestation_before_2008, return_counts=True): (array([  0, 208], dtype=uint8), array([126708038, 235735967], dtype=int64))\n",
      "ic| np.unique(deforestation_past_years, return_counts=True): (array([   0, 2002, 2004, 2006, 2008, 2010, 2012, 2013, 2014, 2015, 2016,\n",
      "                                                                    2017, 2018, 2019, 2020, 2021], dtype=uint16),\n",
      "                                                              array([334024764,   8717093,   6541094,   3824922,   2096535,   1305948,\n",
      "                                                                      1003721,    903906,    318788,    701575,    310887,    440417,\n",
      "                                                                       316180,    560438,    600838,    776899], dtype=int64))\n",
      "ic| label_per_date.shape: (18605, 19481, 1)\n"
     ]
    },
    {
     "name": "stdout",
     "output_type": "stream",
     "text": [
      "Removing bufer................\n",
      "Mask label shape:  \n",
      " (18605, 19481, 1) \n",
      " Unique values:  \n",
      " [0 1 2]\n",
      "Tiles size:  3721 3896\n",
      "Mask size:  (18605, 19480)\n"
     ]
    },
    {
     "name": "stderr",
     "output_type": "stream",
     "text": [
      "ic| image_stack.shape: (18605, 19481, 9)\n"
     ]
    },
    {
     "name": "stdout",
     "output_type": "stream",
     "text": [
      "Image shape:  (18605, 19481, 9)\n",
      "mask:  (18605, 19480)\n",
      "image stack:  (18605, 19480, 9)\n",
      "ref : (18605, 19480, 1)\n",
      "Training tiles:  [2, 4, 5, 6, 7, 12, 14, 15, 18, 21, 23, 24]\n",
      "Validation tiles:  [9, 11, 25]\n",
      "Test tiles:  [1, 3, 8, 10, 13, 16, 17, 19, 20, 22]\n",
      "-35.0 -8.0\n"
     ]
    },
    {
     "name": "stderr",
     "output_type": "stream",
     "text": [
      "ic| self.path_models+ '/' + self.method +'_'+str(self.repetition_id)+'.h5': 'D:/Jorge/datasets/deforestation/experiments/MS/exp41/models/resunet_7.h5'\n"
     ]
    },
    {
     "name": "stdout",
     "output_type": "stream",
     "text": [
      "Dropout training mode: False\n",
      "time:  0\n",
      "alpha.shape (18640, 19488, 2)\n",
      "S.shape (18640, 19488)\n",
      "K 2\n",
      "u.shape (18640, 19488)\n",
      "belief.shape (18640, 19488, 2)\n",
      "Inference runtime 255.31\n",
      "(36877090,)\n",
      "(array([0, 1], dtype=uint8), array([36581631,   295459], dtype=int64))\n",
      "(18605, 19480, 2)\n"
     ]
    },
    {
     "name": "stderr",
     "output_type": "stream",
     "text": [
      "ic| predicted_test.shape: (144970160,)\n",
      "ic| predicted_test.shape: (36877090,)\n",
      "ic| np.unique(predicted, return_counts=True): (array([0, 1], dtype=int8), array([361706539,    718861], dtype=int64))\n",
      "    np.unique(predicted_larger_than_min_area, return_counts=True): (array([0, 1], dtype=int8), array([361796874,    628526], dtype=int64))\n",
      "ic| np.unique(ignored_polygons, return_counts=True): (array([0, 1], dtype=int8), array([362335065,     90335], dtype=int64))\n",
      "ic| self.f1: 89.81, self.precision: 90.68, self.recall: 88.95\n",
      "ic| self.label_mask_val.shape: (43491048,)\n",
      "ic| self.label_mask_val_valid.shape: (10766935,)\n",
      "ic| f1_val: 46.26\n",
      "    precision_val: 40.68\n",
      "    recall_val: 53.62\n",
      "    mAP_val: 53.9\n"
     ]
    },
    {
     "name": "stdout",
     "output_type": "stream",
     "text": [
      "(array([0, 1], dtype=int16), array([362149633,    275767], dtype=int64))\n",
      "[0 1]\n"
     ]
    },
    {
     "name": "stderr",
     "output_type": "stream",
     "text": [
      "ic| self.label_mask.shape: (18605, 19480)\n",
      "ic| self.mask_test.shape: (18605, 19480)\n",
      "ic| self.label_mask_test.shape: (144970160,)\n",
      "ic| self.error_mask_test.shape: (36847076,)\n",
      "ic| bounds: (0.00016891933266073467, 0.4985)\n"
     ]
    },
    {
     "name": "stdout",
     "output_type": "stream",
     "text": [
      "(0.00016891933266073467, 0.4985)\n",
      "0.19051445449711868\n",
      "threshold 0.19051445449711868\n"
     ]
    },
    {
     "name": "stderr",
     "output_type": "stream",
     "text": [
      "c:\\Users\\jchamorro\\Anaconda3\\envs\\tf2\\lib\\site-packages\\scipy\\optimize\\_minimize.py:783: RuntimeWarning: Method 'bounded' does not support relative tolerance in x; defaulting to absolute tolerance.\n",
      "  warn(\"Method 'bounded' does not support relative tolerance in x; \"\n",
      "ic| label_current_deforestation_test_classified_incorrect.shape: (6034903,)\n",
      "    predicted_test_classified_incorrect.shape: (6034903,)\n",
      "ic| TP_H + FN_H + FP_H + TN_H: 6034903\n",
      "    len(label_mask_current_deforestation_test): 36847076\n",
      "ic| TP_H + FN_H + FP_H + TN_H: 6034903\n",
      "    len(label_mask_current_deforestation_test): 36847076\n"
     ]
    },
    {
     "name": "stdout",
     "output_type": "stream",
     "text": [
      "[0.99017527 0.94442621 0.59484276 0.16378241 0.77515614 0.7960086\n",
      " 0.00772643]\n",
      "0.308154464835542\n",
      "threshold 0.308154464835542\n"
     ]
    },
    {
     "name": "stderr",
     "output_type": "stream",
     "text": [
      "ic| label_current_deforestation_test_classified_incorrect.shape: (3199065,)\n",
      "    predicted_test_classified_incorrect.shape: (3199065,)\n",
      "ic| TP_H + FN_H + FP_H + TN_H: 3199065\n",
      "    len(label_mask_current_deforestation_test): 36847076\n",
      "ic| TP_H + FN_H + FP_H + TN_H: 3199065\n",
      "    len(label_mask_current_deforestation_test): 36847076\n"
     ]
    },
    {
     "name": "stdout",
     "output_type": "stream",
     "text": [
      "[0.98280324 0.94746201 0.71046022 0.08682005 0.69400294 0.71570248\n",
      " 0.01354964]\n",
      "0.38085998966157664\n",
      "threshold 0.38085998966157664\n"
     ]
    },
    {
     "name": "stderr",
     "output_type": "stream",
     "text": [
      "ic| label_current_deforestation_test_classified_incorrect.shape: (2068820,)\n",
      "    predicted_test_classified_incorrect.shape: (2068820,)\n",
      "ic| TP_H + FN_H + FP_H + TN_H: 2068820\n",
      "    len(label_mask_current_deforestation_test): 36847076\n",
      "ic| TP_H + FN_H + FP_H + TN_H: 2068820\n",
      "    len(label_mask_current_deforestation_test): 36847076\n"
     ]
    },
    {
     "name": "stdout",
     "output_type": "stream",
     "text": [
      "[0.97931814 0.94680186 0.78246788 0.05614611 0.58846598 0.61659553\n",
      " 0.01966855]\n",
      "0.42579447517396535\n",
      "threshold 0.42579447517396535\n"
     ]
    },
    {
     "name": "stderr",
     "output_type": "stream",
     "text": [
      "ic| label_current_deforestation_test_classified_incorrect.shape: (1474150,)\n",
      "    predicted_test_classified_incorrect.shape: (1474150,)\n",
      "ic| TP_H + FN_H + FP_H + TN_H: 1474150\n",
      "    len(label_mask_current_deforestation_test): 36847076\n",
      "ic| TP_H + FN_H + FP_H + TN_H: 1474150\n",
      "    len(label_mask_current_deforestation_test): 36847076\n"
     ]
    },
    {
     "name": "stdout",
     "output_type": "stream",
     "text": [
      "[0.97208985 0.94476558 0.82443072 0.04000725 0.49005969 0.51077988\n",
      " 0.02523931]\n",
      "0.4535655144876113\n",
      "threshold 0.4535655144876113\n"
     ]
    },
    {
     "name": "stderr",
     "output_type": "stream",
     "text": [
      "ic| label_current_deforestation_test_classified_incorrect.shape: (1118929,)\n",
      "    predicted_test_classified_incorrect.shape: (1118929,)\n",
      "ic| TP_H + FN_H + FP_H + TN_H: 1118929\n",
      "    len(label_mask_current_deforestation_test): 36847076\n",
      "ic| TP_H + FN_H + FP_H + TN_H: 1118929\n",
      "    len(label_mask_current_deforestation_test): 36847076\n"
     ]
    },
    {
     "name": "stdout",
     "output_type": "stream",
     "text": [
      "[0.9542655  0.9428411  0.8504064  0.03036683 0.43573294 0.39864342\n",
      " 0.02775545]\n",
      "0.47072896068635406\n",
      "threshold 0.47072896068635406\n"
     ]
    },
    {
     "name": "stderr",
     "output_type": "stream",
     "text": [
      "ic| label_current_deforestation_test_classified_incorrect.shape: (900165,)\n",
      "    predicted_test_classified_incorrect.shape: (900165,)\n",
      "ic| TP_H + FN_H + FP_H + TN_H: 900165\n",
      "    len(label_mask_current_deforestation_test): 36847076\n",
      "ic| TP_H + FN_H + FP_H + TN_H: 900165\n",
      "    len(label_mask_current_deforestation_test): 36847076\n"
     ]
    },
    {
     "name": "stdout",
     "output_type": "stream",
     "text": [
      "[0.93650995 0.94055295 0.86551495 0.02442975 0.4230816  0.30049665\n",
      " 0.02752735]\n",
      "0.451673180899383\n",
      "threshold 0.451673180899383\n"
     ]
    },
    {
     "name": "stderr",
     "output_type": "stream",
     "text": [
      "ic| label_current_deforestation_test_classified_incorrect.shape: (1143015,)\n",
      "    predicted_test_classified_incorrect.shape: (1143015,)\n",
      "ic| TP_H + FN_H + FP_H + TN_H: 1143015\n",
      "    len(label_mask_current_deforestation_test): 36847076\n",
      "ic| TP_H + FN_H + FP_H + TN_H: 1143015\n",
      "    len(label_mask_current_deforestation_test): 36847076\n"
     ]
    },
    {
     "name": "stdout",
     "output_type": "stream",
     "text": [
      "[0.95574971 0.94302346 0.8484459  0.03102051 0.44071183 0.40923457\n",
      " 0.02763462]\n",
      "0.45769372535073327\n",
      "threshold 0.45769372535073327\n"
     ]
    },
    {
     "name": "stderr",
     "output_type": "stream",
     "text": [
      "ic| label_current_deforestation_test_classified_incorrect.shape: (1066200,)\n",
      "    predicted_test_classified_incorrect.shape: (1066200,)\n",
      "ic| TP_H + FN_H + FP_H + TN_H: 1066200\n",
      "    len(label_mask_current_deforestation_test): 36847076\n",
      "ic| TP_H + FN_H + FP_H + TN_H: 1066200\n",
      "    len(label_mask_current_deforestation_test): 36847076\n"
     ]
    },
    {
     "name": "stdout",
     "output_type": "stream",
     "text": [
      "[0.95049247 0.94230959 0.85419646 0.02893581 0.42951191 0.37742732\n",
      " 0.02787284]\n",
      "0.45514235072459736\n",
      "threshold 0.45514235072459736\n"
     ]
    },
    {
     "name": "stderr",
     "output_type": "stream",
     "text": [
      "ic| label_current_deforestation_test_classified_incorrect.shape: (1098850,)\n",
      "    predicted_test_classified_incorrect.shape: (1098850,)\n",
      "ic| TP_H + FN_H + FP_H + TN_H: 1098850\n",
      "    len(label_mask_current_deforestation_test): 36847076\n",
      "ic| TP_H + FN_H + FP_H + TN_H: 1098850\n",
      "    len(label_mask_current_deforestation_test): 36847076\n"
     ]
    },
    {
     "name": "stdout",
     "output_type": "stream",
     "text": [
      "[0.95285018 0.94268558 0.85192587 0.02982191 0.43287671 0.39015138\n",
      " 0.02781591]\n",
      "0.4552736648198766\n",
      "threshold 0.4552736648198766\n"
     ]
    },
    {
     "name": "stderr",
     "output_type": "stream",
     "text": [
      "ic| label_current_deforestation_test_classified_incorrect.shape: (1097189,)\n",
      "    predicted_test_classified_incorrect.shape: (1097189,)\n",
      "ic| TP_H + FN_H + FP_H + TN_H: 1097189\n",
      "    len(label_mask_current_deforestation_test): 36847076\n",
      "ic| TP_H + FN_H + FP_H + TN_H: 1097189\n",
      "    len(label_mask_current_deforestation_test): 36847076\n"
     ]
    },
    {
     "name": "stdout",
     "output_type": "stream",
     "text": [
      "[0.95277723 0.94268419 0.85207402 0.02977683 0.43228503 0.38925332\n",
      " 0.02783415]\n",
      "0.45457473663016673\n",
      "threshold 0.45457473663016673\n"
     ]
    },
    {
     "name": "stderr",
     "output_type": "stream",
     "text": [
      "ic| label_current_deforestation_test_classified_incorrect.shape: (1106015,)\n",
      "    predicted_test_classified_incorrect.shape: (1106015,)\n",
      "ic| TP_H + FN_H + FP_H + TN_H: 1106015\n",
      "    len(label_mask_current_deforestation_test): 36847076\n",
      "ic| TP_H + FN_H + FP_H + TN_H: 1106015\n",
      "    len(label_mask_current_deforestation_test): 36847076\n"
     ]
    },
    {
     "name": "stdout",
     "output_type": "stream",
     "text": [
      "[0.95340484 0.94276918 0.85142971 0.03001636 0.43339742 0.39283047\n",
      " 0.02781237]\n",
      "0.45418924807390954\n",
      "threshold 0.45418924807390954\n"
     ]
    },
    {
     "name": "stderr",
     "output_type": "stream",
     "text": [
      "ic| label_current_deforestation_test_classified_incorrect.shape: (1110878,)\n",
      "    predicted_test_classified_incorrect.shape: (1110878,)\n",
      "ic| TP_H + FN_H + FP_H + TN_H: 1110878\n",
      "    len(label_mask_current_deforestation_test): 36847076\n",
      "ic| TP_H + FN_H + FP_H + TN_H: 1110878\n",
      "    len(label_mask_current_deforestation_test): 36847076\n"
     ]
    },
    {
     "name": "stdout",
     "output_type": "stream",
     "text": [
      "[0.95373198 0.94279662 0.85106794 0.03014834 0.43412754 0.39489341\n",
      " 0.02779106]\n",
      "0.45464207919993255\n",
      "threshold 0.45464207919993255\n"
     ]
    },
    {
     "name": "stderr",
     "output_type": "stream",
     "text": [
      "ic| label_current_deforestation_test_classified_incorrect.shape: (1105190,)\n",
      "    predicted_test_classified_incorrect.shape: (1105190,)\n",
      "ic| TP_H + FN_H + FP_H + TN_H: 1105190\n",
      "    len(label_mask_current_deforestation_test): 36847076\n",
      "ic| TP_H + FN_H + FP_H + TN_H: 1105190\n",
      "    len(label_mask_current_deforestation_test): 36847076\n"
     ]
    },
    {
     "name": "stdout",
     "output_type": "stream",
     "text": [
      "[0.95333102 0.94276613 0.85149518 0.02999397 0.43333202 0.39244786\n",
      " 0.02781176]\n",
      "0.454792031935617\n",
      "threshold 0.454792031935617\n"
     ]
    },
    {
     "name": "stderr",
     "output_type": "stream",
     "text": [
      "ic| label_current_deforestation_test_classified_incorrect.shape: (1103282,)\n",
      "    predicted_test_classified_incorrect.shape: (1103282,)\n",
      "ic| TP_H + FN_H + FP_H + TN_H: 1103282\n",
      "    len(label_mask_current_deforestation_test): 36847076\n",
      "ic| TP_H + FN_H + FP_H + TN_H: 1103282\n",
      "    len(label_mask_current_deforestation_test): 36847076\n"
     ]
    },
    {
     "name": "stdout",
     "output_type": "stream",
     "text": [
      "[0.95319833 0.94274588 0.85162955 0.02994219 0.43310997 0.39171509\n",
      " 0.02781687]\n",
      "0.4546087391231674\n",
      "threshold 0.4546087391231674\n"
     ]
    },
    {
     "name": "stderr",
     "output_type": "stream",
     "text": [
      "ic| label_current_deforestation_test_classified_incorrect.shape: (1105599,)\n",
      "    predicted_test_classified_incorrect.shape: (1105599,)\n",
      "ic| TP_H + FN_H + FP_H + TN_H: 1105599\n",
      "    len(label_mask_current_deforestation_test): 36847076\n",
      "ic| TP_H + FN_H + FP_H + TN_H: 1105599\n",
      "    len(label_mask_current_deforestation_test): 36847076\n",
      "ic| self.threshold_optimal: 0.4546087391231674\n"
     ]
    },
    {
     "name": "stdout",
     "output_type": "stream",
     "text": [
      "[0.95336232 0.94277114 0.85146072 0.03000507 0.4334014  0.39263607\n",
      " 0.02781169]\n",
      "threshold:  0.4546087391231674\n",
      "threshold 0.4546087391231674\n"
     ]
    },
    {
     "name": "stderr",
     "output_type": "stream",
     "text": [
      "ic| label_current_deforestation_test_classified_incorrect.shape: (1105599,)\n",
      "    predicted_test_classified_incorrect.shape: (1105599,)\n",
      "ic| TP_H + FN_H + FP_H + TN_H: 1105599\n",
      "    len(label_mask_current_deforestation_test): 36847076\n",
      "ic| TP_H + FN_H + FP_H + TN_H: 1105599\n",
      "    len(label_mask_current_deforestation_test): 36847076\n"
     ]
    },
    {
     "name": "stdout",
     "output_type": "stream",
     "text": [
      "[0.95336232 0.94277114 0.85146072 0.03000507 0.4334014  0.39263607\n",
      " 0.02781169]\n",
      "threshold 0.4546087391231674\n",
      "(36847076,) (36847076,)\n"
     ]
    },
    {
     "name": "stderr",
     "output_type": "stream",
     "text": [
      "ic| self.m_optimal: {'AA': array([0.03000507]),\n",
      "                     'UEO': array([0.02781169]),\n",
      "                     'f1': 89.81,\n",
      "                     'f1_H': array([0.41201284]),\n",
      "                     'f1_L': array([0.94803715]),\n",
      "                     'precision_H': array([0.4334014]),\n",
      "                     'precision_L': array([0.95336232]),\n",
      "                     'recall_H': array([0.39263607]),\n",
      "                     'recall_L': array([0.94277114]),\n",
      "                     'recall_Ltotal': array([0.85146072])}\n",
      "ic| self.m_audited_optimal: {'f1': array([0.95309529]),\n",
      "                             'precision': array([0.95792511]),\n",
      "                             'recall': array([0.94831394])}\n"
     ]
    },
    {
     "name": "stdout",
     "output_type": "stream",
     "text": [
      "cm_audited [[36544754    12089]\n",
      " [   15001   275232]]\n",
      "[0.95792511 0.94831394]\n",
      "Result idx 7: {'uncertainty_result': {'metrics': {'precision_L': array([0.95336232]), 'recall_L': array([0.94277114]), 'recall_Ltotal': array([0.85146072]), 'AA': array([0.03000507]), 'precision_H': array([0.4334014]), 'recall_H': array([0.39263607]), 'UEO': array([0.02781169]), 'f1_L': array([0.94803715]), 'f1_H': array([0.41201284]), 'f1': 89.81}, 'metrics_audited': {'precision': array([0.95792511]), 'recall': array([0.94831394]), 'f1': array([0.95309529])}, 'exp': 41}}\n",
      "Grid execution idx: 7\n",
      "Beginning run number 8\n",
      "manager.config {'training': True, 'inferring': True, 'site': 'MS', 'training_date': 'current', 'mode': 'evidential2', 'training_times': 20, 'uncertainty_method': 'pred_entropy', 'loadInference': False, 'removePolygons': True, 'plotLandsat': False, 'plotPOI': False, 'training_experiment_id': 41, 'get_multiple_metrics': False, 'start_repetition_id': 0, 'end_repetition_id': 20, 'save_probabilities': False, 'addPastDeforestationInput': True, 'classes_mode': True, 'learning_rate': 0.0001, 'use_cloud_mask': False, 'mask_out_non_biome': False, 'log_filename': 'log.pkl', 'inference_times': 1, 'dropout_training': False}\n",
      "D:/Jorge/datasets/deforestation/MS/deforestation_past_years.tif\n",
      "Loaded deforestation past years\n"
     ]
    },
    {
     "name": "stderr",
     "output_type": "stream",
     "text": [
      "ic| np.unique(deforestation_past_years, return_counts=True): (array([   0, 2002, 2004, 2006, 2008, 2010, 2012, 2013, 2014, 2015, 2016,\n",
      "                                                                    2017, 2018, 2019, 2020, 2021], dtype=uint16),\n",
      "                                                              array([334024764,   8717093,   6541094,   3824922,   2096535,   1305948,\n",
      "                                                                      1003721,    903906,    318788,    701575,    310887,    440417,\n",
      "                                                                       316180,    560438,    600838,    776899], dtype=int64))\n"
     ]
    },
    {
     "name": "stdout",
     "output_type": "stream",
     "text": [
      "Label where deforestation past years is actual date (2020) = 1\n"
     ]
    },
    {
     "name": "stderr",
     "output_type": "stream",
     "text": [
      "ic| np.unique(deforestation_past_years, return_counts=True): (array([   0, 2002, 2004, 2006, 2008, 2010, 2012, 2013, 2014, 2015, 2016,\n",
      "                                                                    2017, 2018, 2019, 2020, 2021], dtype=uint16),\n",
      "                                                              array([334024764,   8717093,   6541094,   3824922,   2096535,   1305948,\n",
      "                                                                      1003721,    903906,    318788,    701575,    310887,    440417,\n",
      "                                                                       316180,    560438,    600838,    776899], dtype=int64))\n"
     ]
    },
    {
     "name": "stdout",
     "output_type": "stream",
     "text": [
      "Past deforestation different from 0 (no deforestation)\n"
     ]
    },
    {
     "name": "stderr",
     "output_type": "stream",
     "text": [
      "ic| np.unique(deforestation_past_years, return_counts=True): (array([   0, 2002, 2004, 2006, 2008, 2010, 2012, 2013, 2014, 2015, 2016,\n",
      "                                                                    2017, 2018, 2019, 2020, 2021], dtype=uint16),\n",
      "                                                              array([334024764,   8717093,   6541094,   3824922,   2096535,   1305948,\n",
      "                                                                      1003721,    903906,    318788,    701575,    310887,    440417,\n",
      "                                                                       316180,    560438,    600838,    776899], dtype=int64))\n"
     ]
    },
    {
     "name": "stdout",
     "output_type": "stream",
     "text": [
      "Past deforestation before 2008 is 2\n",
      "D:/Jorge/datasets/deforestation/MS/deforestation_before_2000_MS.tif\n"
     ]
    },
    {
     "name": "stderr",
     "output_type": "stream",
     "text": [
      "ic| np.unique(label_past_deforestation_before_2008, return_counts=True): (array([  0, 208], dtype=uint8), array([126708038, 235735967], dtype=int64))\n",
      "ic| np.unique(deforestation_past_years, return_counts=True): (array([   0, 2002, 2004, 2006, 2008, 2010, 2012, 2013, 2014, 2015, 2016,\n",
      "                                                                    2017, 2018, 2019, 2020, 2021], dtype=uint16),\n",
      "                                                              array([334024764,   8717093,   6541094,   3824922,   2096535,   1305948,\n",
      "                                                                      1003721,    903906,    318788,    701575,    310887,    440417,\n",
      "                                                                       316180,    560438,    600838,    776899], dtype=int64))\n",
      "ic| label_per_date.shape: (18605, 19481, 1)\n"
     ]
    },
    {
     "name": "stdout",
     "output_type": "stream",
     "text": [
      "Removing bufer................\n",
      "Mask label shape:  \n",
      " (18605, 19481, 1) \n",
      " Unique values:  \n",
      " [0 1 2]\n",
      "Tiles size:  3721 3896\n",
      "Mask size:  (18605, 19480)\n"
     ]
    },
    {
     "name": "stderr",
     "output_type": "stream",
     "text": [
      "ic| image_stack.shape: (18605, 19481, 9)\n"
     ]
    },
    {
     "name": "stdout",
     "output_type": "stream",
     "text": [
      "Image shape:  (18605, 19481, 9)\n",
      "mask:  (18605, 19480)\n",
      "image stack:  (18605, 19480, 9)\n",
      "ref : (18605, 19480, 1)\n",
      "Training tiles:  [2, 4, 5, 6, 7, 12, 14, 15, 18, 21, 23, 24]\n",
      "Validation tiles:  [9, 11, 25]\n",
      "Test tiles:  [1, 3, 8, 10, 13, 16, 17, 19, 20, 22]\n",
      "-35.0 -8.0\n"
     ]
    },
    {
     "name": "stderr",
     "output_type": "stream",
     "text": [
      "ic| self.path_models+ '/' + self.method +'_'+str(self.repetition_id)+'.h5': 'D:/Jorge/datasets/deforestation/experiments/MS/exp41/models/resunet_8.h5'\n"
     ]
    },
    {
     "name": "stdout",
     "output_type": "stream",
     "text": [
      "Dropout training mode: False\n",
      "time:  0\n",
      "alpha.shape (18640, 19488, 2)\n",
      "S.shape (18640, 19488)\n",
      "K 2\n",
      "u.shape (18640, 19488)\n",
      "belief.shape (18640, 19488, 2)\n",
      "Inference runtime 256.76\n",
      "(36877090,)\n",
      "(array([0, 1], dtype=uint8), array([36581631,   295459], dtype=int64))\n",
      "(18605, 19480, 2)\n"
     ]
    },
    {
     "name": "stderr",
     "output_type": "stream",
     "text": [
      "ic| predicted_test.shape: (144970160,)\n",
      "ic| predicted_test.shape: (36877090,)\n",
      "ic| np.unique(predicted, return_counts=True): (array([0, 1], dtype=int8), array([361154975,   1270425], dtype=int64))\n",
      "    np.unique(predicted_larger_than_min_area, return_counts=True): (array([0, 1], dtype=int8), array([361256564,   1168836], dtype=int64))\n",
      "ic| np.unique(ignored_polygons, return_counts=True): (array([0, 1], dtype=int8), array([362323811,    101589], dtype=int64))\n",
      "ic| self.f1: 82.43, self.precision: 76.28, self.recall: 89.67\n",
      "ic| self.label_mask_val.shape: (43491048,)\n",
      "ic| self.label_mask_val_valid.shape: (10766976,)\n",
      "ic| f1_val: 30.7\n",
      "    precision_val: 19.12\n",
      "    recall_val: 77.82\n",
      "    mAP_val: 53.9\n"
     ]
    },
    {
     "name": "stdout",
     "output_type": "stream",
     "text": [
      "(array([0, 1], dtype=int16), array([361633167,    792233], dtype=int64))\n",
      "[0 1]\n"
     ]
    },
    {
     "name": "stderr",
     "output_type": "stream",
     "text": [
      "ic| self.label_mask.shape: (18605, 19480)\n",
      "ic| self.mask_test.shape: (18605, 19480)\n",
      "ic| self.label_mask_test.shape: (144970160,)\n",
      "ic| self.error_mask_test.shape: (36838509,)\n",
      "ic| bounds: (0.00010578750008484349, 0.4985)\n"
     ]
    },
    {
     "name": "stdout",
     "output_type": "stream",
     "text": [
      "(0.00010578750008484349, 0.4985)\n",
      "0.19047543687881469\n",
      "threshold 0.19047543687881469\n"
     ]
    },
    {
     "name": "stderr",
     "output_type": "stream",
     "text": [
      "c:\\Users\\jchamorro\\Anaconda3\\envs\\tf2\\lib\\site-packages\\scipy\\optimize\\_minimize.py:783: RuntimeWarning: Method 'bounded' does not support relative tolerance in x; defaulting to absolute tolerance.\n",
      "  warn(\"Method 'bounded' does not support relative tolerance in x; \"\n",
      "ic| label_current_deforestation_test_classified_incorrect.shape: (3292762,)\n",
      "    predicted_test_classified_incorrect.shape: (3292762,)\n",
      "ic| TP_H + FN_H + FP_H + TN_H: 3292762\n",
      "    len(label_mask_current_deforestation_test): 36838509\n",
      "ic| TP_H + FN_H + FP_H + TN_H: 3292762\n",
      "    len(label_mask_current_deforestation_test): 36838509\n"
     ]
    },
    {
     "name": "stdout",
     "output_type": "stream",
     "text": [
      "[0.96830839 0.95141388 0.71158778 0.08938369 0.42002506 0.73432644\n",
      " 0.02823562]\n",
      "0.30813035062127003\n",
      "threshold 0.30813035062127003\n"
     ]
    },
    {
     "name": "stderr",
     "output_type": "stream",
     "text": [
      "ic| label_current_deforestation_test_classified_incorrect.shape: (1718716,)\n",
      "    predicted_test_classified_incorrect.shape: (1718716,)\n",
      "ic| TP_H + FN_H + FP_H + TN_H: 1718716\n",
      "    len(label_mask_current_deforestation_test): 36838509\n",
      "ic| TP_H + FN_H + FP_H + TN_H: 1718716\n",
      "    len(label_mask_current_deforestation_test): 36838509\n"
     ]
    },
    {
     "name": "stdout",
     "output_type": "stream",
     "text": [
      "[0.90277176 0.95131034 0.77675542 0.04665542 0.38055346 0.65364431\n",
      " 0.04273646]\n",
      "0.38084508625754454\n",
      "threshold 0.38084508625754454\n"
     ]
    },
    {
     "name": "stderr",
     "output_type": "stream",
     "text": [
      "ic| label_current_deforestation_test_classified_incorrect.shape: (1083835,)\n",
      "    predicted_test_classified_incorrect.shape: (1083835,)\n",
      "ic| TP_H + FN_H + FP_H + TN_H: 1083835\n",
      "    len(label_mask_current_deforestation_test): 36838509\n",
      "ic| TP_H + FN_H + FP_H + TN_H: 1083835\n",
      "    len(label_mask_current_deforestation_test): 36838509\n"
     ]
    },
    {
     "name": "stdout",
     "output_type": "stream",
     "text": [
      "[0.86228339 0.94958522 0.8126525  0.02942125 0.36047906 0.58278685\n",
      " 0.05346923]\n",
      "0.42578526436372544\n",
      "threshold 0.42578526436372544\n"
     ]
    },
    {
     "name": "stderr",
     "output_type": "stream",
     "text": [
      "ic| label_current_deforestation_test_classified_incorrect.shape: (775606,)\n",
      "    predicted_test_classified_incorrect.shape: (775606,)\n",
      "ic| TP_H + FN_H + FP_H + TN_H: 775606\n",
      "    len(label_mask_current_deforestation_test): 36838509\n",
      "ic| TP_H + FN_H + FP_H + TN_H: 775606\n",
      "    len(label_mask_current_deforestation_test): 36838509\n"
     ]
    },
    {
     "name": "stdout",
     "output_type": "stream",
     "text": [
      "[0.82860979 0.94804478 0.84125006 0.02105422 0.34581934 0.49217194\n",
      " 0.05594956]\n",
      "0.37642273512797253\n",
      "threshold 0.37642273512797253\n"
     ]
    },
    {
     "name": "stderr",
     "output_type": "stream",
     "text": [
      "ic| label_current_deforestation_test_classified_incorrect.shape: (1116795,)\n",
      "    predicted_test_classified_incorrect.shape: (1116795,)\n",
      "ic| TP_H + FN_H + FP_H + TN_H: 1116795\n",
      "    len(label_mask_current_deforestation_test): 36838509\n",
      "ic| TP_H + FN_H + FP_H + TN_H: 1116795\n",
      "    len(label_mask_current_deforestation_test): 36838509\n"
     ]
    },
    {
     "name": "stdout",
     "output_type": "stream",
     "text": [
      "[0.86501723 0.94968994 0.8102642  0.03031597 0.36181587 0.58869716\n",
      " 0.05289283]\n",
      "0.367064010230227\n",
      "threshold 0.367064010230227\n"
     ]
    },
    {
     "name": "stderr",
     "output_type": "stream",
     "text": [
      "ic| label_current_deforestation_test_classified_incorrect.shape: (1188809,)\n",
      "    predicted_test_classified_incorrect.shape: (1188809,)\n",
      "ic| TP_H + FN_H + FP_H + TN_H: 1188809\n",
      "    len(label_mask_current_deforestation_test): 36838509\n",
      "ic| TP_H + FN_H + FP_H + TN_H: 1188809\n",
      "    len(label_mask_current_deforestation_test): 36838509\n"
     ]
    },
    {
     "name": "stdout",
     "output_type": "stream",
     "text": [
      "[0.87055022 0.94991186 0.8052736  0.03227082 0.36485854 0.60038986\n",
      " 0.05157763]\n",
      "0.3771078453057201\n",
      "threshold 0.3771078453057201\n"
     ]
    },
    {
     "name": "stderr",
     "output_type": "stream",
     "text": [
      "ic| label_current_deforestation_test_classified_incorrect.shape: (1111590,)\n",
      "    predicted_test_classified_incorrect.shape: (1111590,)\n",
      "ic| TP_H + FN_H + FP_H + TN_H: 1111590\n",
      "    len(label_mask_current_deforestation_test): 36838509\n",
      "ic| TP_H + FN_H + FP_H + TN_H: 1111590\n",
      "    len(label_mask_current_deforestation_test): 36838509\n"
     ]
    },
    {
     "name": "stdout",
     "output_type": "stream",
     "text": [
      "[0.86459794 0.94964724 0.81064729 0.03017467 0.36157037 0.58785664\n",
      " 0.05297943]\n",
      "0.3782159379128043\n",
      "threshold 0.3782159379128043\n"
     ]
    },
    {
     "name": "stderr",
     "output_type": "stream",
     "text": [
      "ic| label_current_deforestation_test_classified_incorrect.shape: (1103286,)\n",
      "    predicted_test_classified_incorrect.shape: (1103286,)\n",
      "ic| TP_H + FN_H + FP_H + TN_H: 1103286\n",
      "    len(label_mask_current_deforestation_test): 36838509\n",
      "ic| TP_H + FN_H + FP_H + TN_H: 1103286\n",
      "    len(label_mask_current_deforestation_test): 36838509\n"
     ]
    },
    {
     "name": "stdout",
     "output_type": "stream",
     "text": [
      "[0.86393808 0.94963802 0.81127198 0.02994926 0.36112935 0.58625672\n",
      " 0.05313453]\n",
      "0.3792201832190295\n",
      "threshold 0.3792201832190295\n"
     ]
    },
    {
     "name": "stderr",
     "output_type": "stream",
     "text": [
      "ic| label_current_deforestation_test_classified_incorrect.shape: (1095886,)\n",
      "    predicted_test_classified_incorrect.shape: (1095886,)\n",
      "ic| TP_H + FN_H + FP_H + TN_H: 1095886\n",
      "    len(label_mask_current_deforestation_test): 36838509\n",
      "ic| TP_H + FN_H + FP_H + TN_H: 1095886\n",
      "    len(label_mask_current_deforestation_test): 36838509\n"
     ]
    },
    {
     "name": "stdout",
     "output_type": "stream",
     "text": [
      "[0.86333639 0.94960799 0.81180348 0.02974838 0.36081975 0.58496444\n",
      " 0.05326632]\n",
      "0.37804065351234434\n",
      "threshold 0.37804065351234434\n"
     ]
    },
    {
     "name": "stderr",
     "output_type": "stream",
     "text": [
      "ic| label_current_deforestation_test_classified_incorrect.shape: (1104643,)\n",
      "    predicted_test_classified_incorrect.shape: (1104643,)\n",
      "ic| TP_H + FN_H + FP_H + TN_H: 1104643\n",
      "    len(label_mask_current_deforestation_test): 36838509\n",
      "ic| TP_H + FN_H + FP_H + TN_H: 1104643\n",
      "    len(label_mask_current_deforestation_test): 36838509\n"
     ]
    },
    {
     "name": "stdout",
     "output_type": "stream",
     "text": [
      "[0.86405797 0.94964404 0.8111788  0.02998609 0.3611597  0.58647951\n",
      " 0.05311312]\n",
      "0.3778238934089767\n",
      "threshold 0.3778238934089767\n"
     ]
    },
    {
     "name": "stderr",
     "output_type": "stream",
     "text": [
      "ic| label_current_deforestation_test_classified_incorrect.shape: (1106274,)\n",
      "    predicted_test_classified_incorrect.shape: (1106274,)\n",
      "ic| TP_H + FN_H + FP_H + TN_H: 1106274\n",
      "    len(label_mask_current_deforestation_test): 36838509\n",
      "ic| TP_H + FN_H + FP_H + TN_H: 1106274\n",
      "    len(label_mask_current_deforestation_test): 36838509\n"
     ]
    },
    {
     "name": "stdout",
     "output_type": "stream",
     "text": [
      "[0.86421038 0.94964136 0.81106835 0.03003037 0.36117865 0.58677862\n",
      " 0.05308737]\n",
      "0.3779843097558294\n",
      "threshold 0.3779843097558294\n"
     ]
    },
    {
     "name": "stderr",
     "output_type": "stream",
     "text": [
      "ic| label_current_deforestation_test_classified_incorrect.shape: (1105028,)\n",
      "    predicted_test_classified_incorrect.shape: (1105028,)\n",
      "ic| TP_H + FN_H + FP_H + TN_H: 1105028\n",
      "    len(label_mask_current_deforestation_test): 36838509\n",
      "ic| TP_H + FN_H + FP_H + TN_H: 1105028\n",
      "    len(label_mask_current_deforestation_test): 36838509\n"
     ]
    },
    {
     "name": "stdout",
     "output_type": "stream",
     "text": [
      "[0.86410044 0.94964322 0.81116499 0.02999655 0.36112325 0.58651866\n",
      " 0.05310818]\n",
      "0.37795097081608275\n",
      "threshold 0.37795097081608275\n"
     ]
    },
    {
     "name": "stderr",
     "output_type": "stream",
     "text": [
      "ic| label_current_deforestation_test_classified_incorrect.shape: (1105295,)\n",
      "    predicted_test_classified_incorrect.shape: (1105295,)\n",
      "ic| TP_H + FN_H + FP_H + TN_H: 1105295\n",
      "    len(label_mask_current_deforestation_test): 36838509\n",
      "ic| TP_H + FN_H + FP_H + TN_H: 1105295\n",
      "    len(label_mask_current_deforestation_test): 36838509\n",
      "ic| self.threshold_optimal: 0.3779843097558294\n"
     ]
    },
    {
     "name": "stdout",
     "output_type": "stream",
     "text": [
      "[0.86412186 0.9496416  0.81113738 0.03000379 0.36115563 0.58659694\n",
      " 0.05310319]\n",
      "threshold:  0.3779843097558294\n",
      "threshold 0.3779843097558294\n"
     ]
    },
    {
     "name": "stderr",
     "output_type": "stream",
     "text": [
      "ic| label_current_deforestation_test_classified_incorrect.shape: (1105028,)\n",
      "    predicted_test_classified_incorrect.shape: (1105028,)\n",
      "ic| TP_H + FN_H + FP_H + TN_H: 1105028\n",
      "    len(label_mask_current_deforestation_test): 36838509\n",
      "ic| TP_H + FN_H + FP_H + TN_H: 1105028\n",
      "    len(label_mask_current_deforestation_test): 36838509\n"
     ]
    },
    {
     "name": "stdout",
     "output_type": "stream",
     "text": [
      "[0.86410044 0.94964322 0.81116499 0.02999655 0.36112325 0.58651866\n",
      " 0.05310818]\n",
      "threshold 0.3779843097558294\n",
      "(36838509,) (36838509,)\n"
     ]
    },
    {
     "name": "stderr",
     "output_type": "stream",
     "text": [
      "ic| self.m_optimal: {'AA': array([0.02999655]),\n",
      "                     'UEO': array([0.05310818]),\n",
      "                     'f1': 82.43,\n",
      "                     'f1_H': array([0.44701596]),\n",
      "                     'f1_L': array([0.90485458]),\n",
      "                     'precision_H': array([0.36112325]),\n",
      "                     'precision_L': array([0.86410044]),\n",
      "                     'recall_H': array([0.58651866]),\n",
      "                     'recall_L': array([0.94964322]),\n",
      "                     'recall_Ltotal': array([0.81116499])}\n",
      "ic| self.m_audited_optimal: {'f1': array([0.918166]),\n",
      "                             'precision': array([0.88237241]),\n",
      "                             'recall': array([0.95698632])}\n"
     ]
    },
    {
     "name": "stdout",
     "output_type": "stream",
     "text": [
      "cm_audited [[36511800    36964]\n",
      " [   12463   277282]]\n",
      "[0.88237241 0.95698632]\n",
      "Result idx 8: {'uncertainty_result': {'metrics': {'precision_L': array([0.86410044]), 'recall_L': array([0.94964322]), 'recall_Ltotal': array([0.81116499]), 'AA': array([0.02999655]), 'precision_H': array([0.36112325]), 'recall_H': array([0.58651866]), 'UEO': array([0.05310818]), 'f1_L': array([0.90485458]), 'f1_H': array([0.44701596]), 'f1': 82.43}, 'metrics_audited': {'precision': array([0.88237241]), 'recall': array([0.95698632]), 'f1': array([0.918166])}, 'exp': 41}}\n",
      "Grid execution idx: 8\n",
      "Beginning run number 9\n",
      "manager.config {'training': True, 'inferring': True, 'site': 'MS', 'training_date': 'current', 'mode': 'evidential2', 'training_times': 20, 'uncertainty_method': 'pred_entropy', 'loadInference': False, 'removePolygons': True, 'plotLandsat': False, 'plotPOI': False, 'training_experiment_id': 41, 'get_multiple_metrics': False, 'start_repetition_id': 0, 'end_repetition_id': 20, 'save_probabilities': False, 'addPastDeforestationInput': True, 'classes_mode': True, 'learning_rate': 0.0001, 'use_cloud_mask': False, 'mask_out_non_biome': False, 'log_filename': 'log.pkl', 'inference_times': 1, 'dropout_training': False}\n",
      "D:/Jorge/datasets/deforestation/MS/deforestation_past_years.tif\n",
      "Loaded deforestation past years\n"
     ]
    },
    {
     "name": "stderr",
     "output_type": "stream",
     "text": [
      "ic| np.unique(deforestation_past_years, return_counts=True): (array([   0, 2002, 2004, 2006, 2008, 2010, 2012, 2013, 2014, 2015, 2016,\n",
      "                                                                    2017, 2018, 2019, 2020, 2021], dtype=uint16),\n",
      "                                                              array([334024764,   8717093,   6541094,   3824922,   2096535,   1305948,\n",
      "                                                                      1003721,    903906,    318788,    701575,    310887,    440417,\n",
      "                                                                       316180,    560438,    600838,    776899], dtype=int64))\n"
     ]
    },
    {
     "name": "stdout",
     "output_type": "stream",
     "text": [
      "Label where deforestation past years is actual date (2020) = 1\n"
     ]
    },
    {
     "name": "stderr",
     "output_type": "stream",
     "text": [
      "ic| np.unique(deforestation_past_years, return_counts=True): (array([   0, 2002, 2004, 2006, 2008, 2010, 2012, 2013, 2014, 2015, 2016,\n",
      "                                                                    2017, 2018, 2019, 2020, 2021], dtype=uint16),\n",
      "                                                              array([334024764,   8717093,   6541094,   3824922,   2096535,   1305948,\n",
      "                                                                      1003721,    903906,    318788,    701575,    310887,    440417,\n",
      "                                                                       316180,    560438,    600838,    776899], dtype=int64))\n"
     ]
    },
    {
     "name": "stdout",
     "output_type": "stream",
     "text": [
      "Past deforestation different from 0 (no deforestation)\n"
     ]
    },
    {
     "name": "stderr",
     "output_type": "stream",
     "text": [
      "ic| np.unique(deforestation_past_years, return_counts=True): (array([   0, 2002, 2004, 2006, 2008, 2010, 2012, 2013, 2014, 2015, 2016,\n",
      "                                                                    2017, 2018, 2019, 2020, 2021], dtype=uint16),\n",
      "                                                              array([334024764,   8717093,   6541094,   3824922,   2096535,   1305948,\n",
      "                                                                      1003721,    903906,    318788,    701575,    310887,    440417,\n",
      "                                                                       316180,    560438,    600838,    776899], dtype=int64))\n"
     ]
    },
    {
     "name": "stdout",
     "output_type": "stream",
     "text": [
      "Past deforestation before 2008 is 2\n",
      "D:/Jorge/datasets/deforestation/MS/deforestation_before_2000_MS.tif\n"
     ]
    },
    {
     "name": "stderr",
     "output_type": "stream",
     "text": [
      "ic| np.unique(label_past_deforestation_before_2008, return_counts=True): (array([  0, 208], dtype=uint8), array([126708038, 235735967], dtype=int64))\n",
      "ic| np.unique(deforestation_past_years, return_counts=True): (array([   0, 2002, 2004, 2006, 2008, 2010, 2012, 2013, 2014, 2015, 2016,\n",
      "                                                                    2017, 2018, 2019, 2020, 2021], dtype=uint16),\n",
      "                                                              array([334024764,   8717093,   6541094,   3824922,   2096535,   1305948,\n",
      "                                                                      1003721,    903906,    318788,    701575,    310887,    440417,\n",
      "                                                                       316180,    560438,    600838,    776899], dtype=int64))\n",
      "ic| label_per_date.shape: (18605, 19481, 1)\n"
     ]
    },
    {
     "name": "stdout",
     "output_type": "stream",
     "text": [
      "Removing bufer................\n",
      "Mask label shape:  \n",
      " (18605, 19481, 1) \n",
      " Unique values:  \n",
      " [0 1 2]\n",
      "Tiles size:  3721 3896\n",
      "Mask size:  (18605, 19480)\n"
     ]
    },
    {
     "name": "stderr",
     "output_type": "stream",
     "text": [
      "ic| image_stack.shape: (18605, 19481, 9)\n"
     ]
    },
    {
     "name": "stdout",
     "output_type": "stream",
     "text": [
      "Image shape:  (18605, 19481, 9)\n",
      "mask:  (18605, 19480)\n",
      "image stack:  (18605, 19480, 9)\n",
      "ref : (18605, 19480, 1)\n",
      "Training tiles:  [2, 4, 5, 6, 7, 12, 14, 15, 18, 21, 23, 24]\n",
      "Validation tiles:  [9, 11, 25]\n",
      "Test tiles:  [1, 3, 8, 10, 13, 16, 17, 19, 20, 22]\n",
      "-35.0 -8.0\n"
     ]
    },
    {
     "name": "stderr",
     "output_type": "stream",
     "text": [
      "ic| self.path_models+ '/' + self.method +'_'+str(self.repetition_id)+'.h5': 'D:/Jorge/datasets/deforestation/experiments/MS/exp41/models/resunet_9.h5'\n"
     ]
    },
    {
     "name": "stdout",
     "output_type": "stream",
     "text": [
      "Dropout training mode: False\n",
      "time:  0\n",
      "alpha.shape (18640, 19488, 2)\n",
      "S.shape (18640, 19488)\n",
      "K 2\n",
      "u.shape (18640, 19488)\n",
      "belief.shape (18640, 19488, 2)\n",
      "Inference runtime 259.12\n",
      "(36877090,)\n",
      "(array([0, 1], dtype=uint8), array([36581631,   295459], dtype=int64))\n",
      "(18605, 19480, 2)\n"
     ]
    },
    {
     "name": "stderr",
     "output_type": "stream",
     "text": [
      "ic| predicted_test.shape: (144970160,)\n",
      "ic| predicted_test.shape: (36877090,)\n",
      "ic| np.unique(predicted, return_counts=True): (array([0, 1], dtype=int8), array([360890877,   1534523], dtype=int64))\n",
      "    np.unique(predicted_larger_than_min_area, return_counts=True): (array([0, 1], dtype=int8), array([360979795,   1445605], dtype=int64))\n",
      "ic| np.unique(ignored_polygons, return_counts=True): (array([0, 1], dtype=int8), array([362336482,     88918], dtype=int64))\n",
      "ic| self.f1: 81.67, self.precision: 74.25, self.recall: 90.73\n",
      "ic| self.label_mask_val.shape: (43491048,)\n",
      "ic| self.label_mask_val_valid.shape: (10767449,)\n",
      "ic| f1_val: 17.17\n",
      "    precision_val: 9.9\n",
      "    recall_val: 64.93\n",
      "    mAP_val: 49.86\n"
     ]
    },
    {
     "name": "stdout",
     "output_type": "stream",
     "text": [
      "(array([0, 1], dtype=int16), array([361364226,   1061174], dtype=int64))\n",
      "[0 1]\n"
     ]
    },
    {
     "name": "stderr",
     "output_type": "stream",
     "text": [
      "ic| self.label_mask.shape: (18605, 19480)\n",
      "ic| self.mask_test.shape: (18605, 19480)\n",
      "ic| self.label_mask_test.shape: (144970160,)\n",
      "ic| self.error_mask_test.shape: (36839166,)\n",
      "ic| bounds: (0.00010578750008484349, 0.4985)\n"
     ]
    },
    {
     "name": "stdout",
     "output_type": "stream",
     "text": [
      "(0.00010578750008484349, 0.4985)\n",
      "0.19047543687881469\n",
      "threshold 0.19047543687881469\n"
     ]
    },
    {
     "name": "stderr",
     "output_type": "stream",
     "text": [
      "c:\\Users\\jchamorro\\Anaconda3\\envs\\tf2\\lib\\site-packages\\scipy\\optimize\\_minimize.py:783: RuntimeWarning: Method 'bounded' does not support relative tolerance in x; defaulting to absolute tolerance.\n",
      "  warn(\"Method 'bounded' does not support relative tolerance in x; \"\n",
      "ic| label_current_deforestation_test_classified_incorrect.shape: (3299001,)\n",
      "    predicted_test_classified_incorrect.shape: (3299001,)\n",
      "ic| TP_H + FN_H + FP_H + TN_H: 3299001\n",
      "    len(label_mask_current_deforestation_test): 36839166\n",
      "ic| TP_H + FN_H + FP_H + TN_H: 3299001\n",
      "    len(label_mask_current_deforestation_test): 36839166\n"
     ]
    },
    {
     "name": "stdout",
     "output_type": "stream",
     "text": [
      "[0.97863683 0.94662853 0.72373908 0.08955146 0.38049839 0.77943744\n",
      " 0.03062088]\n",
      "0.30813035062127003\n",
      "threshold 0.30813035062127003\n"
     ]
    },
    {
     "name": "stderr",
     "output_type": "stream",
     "text": [
      "ic| label_current_deforestation_test_classified_incorrect.shape: (1786530,)\n",
      "    predicted_test_classified_incorrect.shape: (1786530,)\n",
      "ic| TP_H + FN_H + FP_H + TN_H: 1786530\n",
      "    len(label_mask_current_deforestation_test): 36839166\n",
      "ic| TP_H + FN_H + FP_H + TN_H: 1786530\n",
      "    len(label_mask_current_deforestation_test): 36839166\n"
     ]
    },
    {
     "name": "stdout",
     "output_type": "stream",
     "text": [
      "[0.92468621 0.94600493 0.8012237  0.0484954  0.29838137 0.69285988\n",
      " 0.0471656 ]\n",
      "0.38084508625754454\n",
      "threshold 0.38084508625754454\n"
     ]
    },
    {
     "name": "stderr",
     "output_type": "stream",
     "text": [
      "ic| label_current_deforestation_test_classified_incorrect.shape: (1126012,)\n",
      "    predicted_test_classified_incorrect.shape: (1126012,)\n",
      "ic| TP_H + FN_H + FP_H + TN_H: 1126012\n",
      "    len(label_mask_current_deforestation_test): 36839166\n",
      "ic| TP_H + FN_H + FP_H + TN_H: 1126012\n",
      "    len(label_mask_current_deforestation_test): 36839166\n"
     ]
    },
    {
     "name": "stdout",
     "output_type": "stream",
     "text": [
      "[0.86722887 0.94552933 0.84024584 0.03056562 0.26491314 0.60186162\n",
      " 0.0566214 ]\n",
      "0.42578526436372544\n",
      "threshold 0.42578526436372544\n"
     ]
    },
    {
     "name": "stderr",
     "output_type": "stream",
     "text": [
      "ic| label_current_deforestation_test_classified_incorrect.shape: (804925,)\n",
      "    predicted_test_classified_incorrect.shape: (804925,)\n",
      "ic| TP_H + FN_H + FP_H + TN_H: 804925\n",
      "    len(label_mask_current_deforestation_test): 36839166\n",
      "ic| TP_H + FN_H + FP_H + TN_H: 804925\n",
      "    len(label_mask_current_deforestation_test): 36839166\n"
     ]
    },
    {
     "name": "stdout",
     "output_type": "stream",
     "text": [
      "[0.82850945 0.94487595 0.86157243 0.02184971 0.25110601 0.51824131\n",
      " 0.05939205]\n",
      "0.3794113003120329\n",
      "threshold 0.3794113003120329\n"
     ]
    },
    {
     "name": "stderr",
     "output_type": "stream",
     "text": [
      "ic| label_current_deforestation_test_classified_incorrect.shape: (1137173,)\n",
      "    predicted_test_classified_incorrect.shape: (1137173,)\n",
      "ic| TP_H + FN_H + FP_H + TN_H: 1137173\n",
      "    len(label_mask_current_deforestation_test): 36839166\n",
      "ic| TP_H + FN_H + FP_H + TN_H: 1137173\n",
      "    len(label_mask_current_deforestation_test): 36839166\n"
     ]
    },
    {
     "name": "stdout",
     "output_type": "stream",
     "text": [
      "[0.8683809  0.94552564 0.83958597 0.03086859 0.26537607 0.60402084\n",
      " 0.05645501]\n",
      "0.39301903775243685\n",
      "threshold 0.39301903775243685\n"
     ]
    },
    {
     "name": "stderr",
     "output_type": "stream",
     "text": [
      "ic| label_current_deforestation_test_classified_incorrect.shape: (1032667,)\n",
      "    predicted_test_classified_incorrect.shape: (1032667,)\n",
      "ic| TP_H + FN_H + FP_H + TN_H: 1032667\n",
      "    len(label_mask_current_deforestation_test): 36839166\n",
      "ic| TP_H + FN_H + FP_H + TN_H: 1032667\n",
      "    len(label_mask_current_deforestation_test): 36839166\n"
     ]
    },
    {
     "name": "stdout",
     "output_type": "stream",
     "text": [
      "[0.85638196 0.9453753  0.8459912  0.02803177 0.26184852 0.58283217\n",
      " 0.05762482]\n",
      "0.38549512195120084\n",
      "threshold 0.38549512195120084\n"
     ]
    },
    {
     "name": "stderr",
     "output_type": "stream",
     "text": [
      "ic| label_current_deforestation_test_classified_incorrect.shape: (1089524,)\n",
      "    predicted_test_classified_incorrect.shape: (1089524,)\n",
      "ic| TP_H + FN_H + FP_H + TN_H: 1089524\n",
      "    len(label_mask_current_deforestation_test): 36839166\n",
      "ic| TP_H + FN_H + FP_H + TN_H: 1089524\n",
      "    len(label_mask_current_deforestation_test): 36839166\n"
     ]
    },
    {
     "name": "stdout",
     "output_type": "stream",
     "text": [
      "[0.86296193 0.94545913 0.84251566 0.02957515 0.2636755  0.59465034\n",
      " 0.05699814]\n",
      "0.38367880700416496\n",
      "threshold 0.38367880700416496\n"
     ]
    },
    {
     "name": "stderr",
     "output_type": "stream",
     "text": [
      "ic| label_current_deforestation_test_classified_incorrect.shape: (1103585,)\n",
      "    predicted_test_classified_incorrect.shape: (1103585,)\n",
      "ic| TP_H + FN_H + FP_H + TN_H: 1103585\n",
      "    len(label_mask_current_deforestation_test): 36839166\n",
      "ic| TP_H + FN_H + FP_H + TN_H: 1103585\n",
      "    len(label_mask_current_deforestation_test): 36839166\n"
     ]
    },
    {
     "name": "stdout",
     "output_type": "stream",
     "text": [
      "[0.86454056 0.94547579 0.84158977 0.02995684 0.26437373 0.59769211\n",
      " 0.05683331]\n",
      "0.3833485191097597\n",
      "threshold 0.3833485191097597\n"
     ]
    },
    {
     "name": "stderr",
     "output_type": "stream",
     "text": [
      "ic| label_current_deforestation_test_classified_incorrect.shape: (1106168,)\n",
      "    predicted_test_classified_incorrect.shape: (1106168,)\n",
      "ic| TP_H + FN_H + FP_H + TN_H: 1106168\n",
      "    len(label_mask_current_deforestation_test): 36839166\n",
      "ic| TP_H + FN_H + FP_H + TN_H: 1106168\n",
      "    len(label_mask_current_deforestation_test): 36839166\n"
     ]
    },
    {
     "name": "stdout",
     "output_type": "stream",
     "text": [
      "[0.86486064 0.94548871 0.84144121 0.03002696 0.26440546 0.59812263\n",
      " 0.05681333]\n",
      "0.38318675999576146\n",
      "threshold 0.38318675999576146\n"
     ]
    },
    {
     "name": "stderr",
     "output_type": "stream",
     "text": [
      "ic| label_current_deforestation_test_classified_incorrect.shape: (1107500,)\n",
      "    predicted_test_classified_incorrect.shape: (1107500,)\n",
      "ic| TP_H + FN_H + FP_H + TN_H: 1107500\n",
      "    len(label_mask_current_deforestation_test): 36839166\n",
      "ic| TP_H + FN_H + FP_H + TN_H: 1107500\n",
      "    len(label_mask_current_deforestation_test): 36839166\n"
     ]
    },
    {
     "name": "stdout",
     "output_type": "stream",
     "text": [
      "[0.86498592 0.94548666 0.84134793 0.03006311 0.26451586 0.59844421\n",
      " 0.05678999]\n",
      "0.3834693822996513\n",
      "threshold 0.3834693822996513\n"
     ]
    },
    {
     "name": "stderr",
     "output_type": "stream",
     "text": [
      "ic| label_current_deforestation_test_classified_incorrect.shape: (1105201,)\n",
      "    predicted_test_classified_incorrect.shape: (1105201,)\n",
      "ic| TP_H + FN_H + FP_H + TN_H: 1105201\n",
      "    len(label_mask_current_deforestation_test): 36839166\n",
      "ic| TP_H + FN_H + FP_H + TN_H: 1105201\n",
      "    len(label_mask_current_deforestation_test): 36839166\n"
     ]
    },
    {
     "name": "stdout",
     "output_type": "stream",
     "text": [
      "[0.8647337  0.94548496 0.84149994 0.03000071 0.26439336 0.59794559\n",
      " 0.05681879]\n",
      "0.3835027213207547\n",
      "threshold 0.3835027213207547\n"
     ]
    },
    {
     "name": "stderr",
     "output_type": "stream",
     "text": [
      "ic| label_current_deforestation_test_classified_incorrect.shape: (1104942,)\n",
      "    predicted_test_classified_incorrect.shape: (1104942,)\n",
      "ic| TP_H + FN_H + FP_H + TN_H: 1104942\n",
      "    len(label_mask_current_deforestation_test): 36839166\n",
      "ic| TP_H + FN_H + FP_H + TN_H: 1104942\n",
      "    len(label_mask_current_deforestation_test): 36839166\n"
     ]
    },
    {
     "name": "stdout",
     "output_type": "stream",
     "text": [
      "[0.86472286 0.9454856  0.84151031 0.02999368 0.2643774  0.5979077\n",
      " 0.05682786]\n",
      "0.38343604327854786\n",
      "threshold 0.38343604327854786\n"
     ]
    },
    {
     "name": "stderr",
     "output_type": "stream",
     "text": [
      "ic| label_current_deforestation_test_classified_incorrect.shape: (1105478,)\n",
      "    predicted_test_classified_incorrect.shape: (1105478,)\n",
      "ic| TP_H + FN_H + FP_H + TN_H: 1105478\n",
      "    len(label_mask_current_deforestation_test): 36839166\n",
      "ic| TP_H + FN_H + FP_H + TN_H: 1105478\n",
      "    len(label_mask_current_deforestation_test): 36839166\n",
      "ic| self.threshold_optimal: 0.3834693822996513\n"
     ]
    },
    {
     "name": "stdout",
     "output_type": "stream",
     "text": [
      "[0.86477783 0.94548412 0.84148612 0.03000823 0.26437915 0.59799611\n",
      " 0.05681889]\n",
      "threshold:  0.3834693822996513\n",
      "threshold 0.3834693822996513\n"
     ]
    },
    {
     "name": "stderr",
     "output_type": "stream",
     "text": [
      "ic| label_current_deforestation_test_classified_incorrect.shape: (1105201,)\n",
      "    predicted_test_classified_incorrect.shape: (1105201,)\n",
      "ic| TP_H + FN_H + FP_H + TN_H: 1105201\n",
      "    len(label_mask_current_deforestation_test): 36839166\n",
      "ic| TP_H + FN_H + FP_H + TN_H: 1105201\n",
      "    len(label_mask_current_deforestation_test): 36839166\n"
     ]
    },
    {
     "name": "stdout",
     "output_type": "stream",
     "text": [
      "[0.8647337  0.94548496 0.84149994 0.03000071 0.26439336 0.59794559\n",
      " 0.05681879]\n",
      "threshold 0.3834693822996513\n",
      "(36839166,) (36839166,)\n"
     ]
    },
    {
     "name": "stderr",
     "output_type": "stream",
     "text": [
      "ic| self.m_optimal: {'AA': array([0.03000071]),\n",
      "                     'UEO': array([0.05681879]),\n",
      "                     'f1': 81.67,\n",
      "                     'f1_H': array([0.36666057]),\n",
      "                     'f1_L': array([0.90330823]),\n",
      "                     'precision_H': array([0.26439336]),\n",
      "                     'precision_L': array([0.8647337]),\n",
      "                     'recall_H': array([0.59794559]),\n",
      "                     'recall_L': array([0.94548496]),\n",
      "                     'recall_Ltotal': array([0.84149994])}\n",
      "ic| self.m_audited_optimal: {'f1': array([0.91351817]),\n",
      "                             'precision': array([0.87846881]),\n",
      "                             'recall': array([0.95148056])}\n"
     ]
    },
    {
     "name": "stdout",
     "output_type": "stream",
     "text": [
      "cm_audited [[36511614    38101]\n",
      " [   14044   275407]]\n",
      "[0.87846881 0.95148056]\n",
      "Result idx 9: {'uncertainty_result': {'metrics': {'precision_L': array([0.8647337]), 'recall_L': array([0.94548496]), 'recall_Ltotal': array([0.84149994]), 'AA': array([0.03000071]), 'precision_H': array([0.26439336]), 'recall_H': array([0.59794559]), 'UEO': array([0.05681879]), 'f1_L': array([0.90330823]), 'f1_H': array([0.36666057]), 'f1': 81.67}, 'metrics_audited': {'precision': array([0.87846881]), 'recall': array([0.95148056]), 'f1': array([0.91351817])}, 'exp': 41}}\n",
      "Grid execution idx: 9\n",
      "Beginning run number 10\n",
      "manager.config {'training': True, 'inferring': True, 'site': 'MS', 'training_date': 'current', 'mode': 'evidential2', 'training_times': 20, 'uncertainty_method': 'pred_entropy', 'loadInference': False, 'removePolygons': True, 'plotLandsat': False, 'plotPOI': False, 'training_experiment_id': 41, 'get_multiple_metrics': False, 'start_repetition_id': 0, 'end_repetition_id': 20, 'save_probabilities': False, 'addPastDeforestationInput': True, 'classes_mode': True, 'learning_rate': 0.0001, 'use_cloud_mask': False, 'mask_out_non_biome': False, 'log_filename': 'log.pkl', 'inference_times': 1, 'dropout_training': False}\n",
      "D:/Jorge/datasets/deforestation/MS/deforestation_past_years.tif\n",
      "Loaded deforestation past years\n"
     ]
    },
    {
     "name": "stderr",
     "output_type": "stream",
     "text": [
      "ic| np.unique(deforestation_past_years, return_counts=True): (array([   0, 2002, 2004, 2006, 2008, 2010, 2012, 2013, 2014, 2015, 2016,\n",
      "                                                                    2017, 2018, 2019, 2020, 2021], dtype=uint16),\n",
      "                                                              array([334024764,   8717093,   6541094,   3824922,   2096535,   1305948,\n",
      "                                                                      1003721,    903906,    318788,    701575,    310887,    440417,\n",
      "                                                                       316180,    560438,    600838,    776899], dtype=int64))\n"
     ]
    },
    {
     "name": "stdout",
     "output_type": "stream",
     "text": [
      "Label where deforestation past years is actual date (2020) = 1\n"
     ]
    },
    {
     "name": "stderr",
     "output_type": "stream",
     "text": [
      "ic| np.unique(deforestation_past_years, return_counts=True): (array([   0, 2002, 2004, 2006, 2008, 2010, 2012, 2013, 2014, 2015, 2016,\n",
      "                                                                    2017, 2018, 2019, 2020, 2021], dtype=uint16),\n",
      "                                                              array([334024764,   8717093,   6541094,   3824922,   2096535,   1305948,\n",
      "                                                                      1003721,    903906,    318788,    701575,    310887,    440417,\n",
      "                                                                       316180,    560438,    600838,    776899], dtype=int64))\n"
     ]
    },
    {
     "name": "stdout",
     "output_type": "stream",
     "text": [
      "Past deforestation different from 0 (no deforestation)\n"
     ]
    },
    {
     "name": "stderr",
     "output_type": "stream",
     "text": [
      "ic| np.unique(deforestation_past_years, return_counts=True): (array([   0, 2002, 2004, 2006, 2008, 2010, 2012, 2013, 2014, 2015, 2016,\n",
      "                                                                    2017, 2018, 2019, 2020, 2021], dtype=uint16),\n",
      "                                                              array([334024764,   8717093,   6541094,   3824922,   2096535,   1305948,\n",
      "                                                                      1003721,    903906,    318788,    701575,    310887,    440417,\n",
      "                                                                       316180,    560438,    600838,    776899], dtype=int64))\n"
     ]
    },
    {
     "name": "stdout",
     "output_type": "stream",
     "text": [
      "Past deforestation before 2008 is 2\n",
      "D:/Jorge/datasets/deforestation/MS/deforestation_before_2000_MS.tif\n"
     ]
    },
    {
     "name": "stderr",
     "output_type": "stream",
     "text": [
      "ic| np.unique(label_past_deforestation_before_2008, return_counts=True): (array([  0, 208], dtype=uint8), array([126708038, 235735967], dtype=int64))\n",
      "ic| np.unique(deforestation_past_years, return_counts=True): (array([   0, 2002, 2004, 2006, 2008, 2010, 2012, 2013, 2014, 2015, 2016,\n",
      "                                                                    2017, 2018, 2019, 2020, 2021], dtype=uint16),\n",
      "                                                              array([334024764,   8717093,   6541094,   3824922,   2096535,   1305948,\n",
      "                                                                      1003721,    903906,    318788,    701575,    310887,    440417,\n",
      "                                                                       316180,    560438,    600838,    776899], dtype=int64))\n",
      "ic| label_per_date.shape: (18605, 19481, 1)\n"
     ]
    },
    {
     "name": "stdout",
     "output_type": "stream",
     "text": [
      "Removing bufer................\n",
      "Mask label shape:  \n",
      " (18605, 19481, 1) \n",
      " Unique values:  \n",
      " [0 1 2]\n",
      "Tiles size:  3721 3896\n",
      "Mask size:  (18605, 19480)\n"
     ]
    },
    {
     "name": "stderr",
     "output_type": "stream",
     "text": [
      "ic| image_stack.shape: (18605, 19481, 9)\n"
     ]
    },
    {
     "name": "stdout",
     "output_type": "stream",
     "text": [
      "Image shape:  (18605, 19481, 9)\n",
      "mask:  (18605, 19480)\n",
      "image stack:  (18605, 19480, 9)\n",
      "ref : (18605, 19480, 1)\n",
      "Training tiles:  [2, 4, 5, 6, 7, 12, 14, 15, 18, 21, 23, 24]\n",
      "Validation tiles:  [9, 11, 25]\n",
      "Test tiles:  [1, 3, 8, 10, 13, 16, 17, 19, 20, 22]\n",
      "-35.0 -8.0\n"
     ]
    },
    {
     "name": "stderr",
     "output_type": "stream",
     "text": [
      "ic| self.path_models+ '/' + self.method +'_'+str(self.repetition_id)+'.h5': 'D:/Jorge/datasets/deforestation/experiments/MS/exp41/models/resunet_10.h5'\n"
     ]
    },
    {
     "name": "stdout",
     "output_type": "stream",
     "text": [
      "Dropout training mode: False\n",
      "time:  0\n",
      "alpha.shape (18640, 19488, 2)\n",
      "S.shape (18640, 19488)\n",
      "K 2\n",
      "u.shape (18640, 19488)\n",
      "belief.shape (18640, 19488, 2)\n",
      "Inference runtime 257.2\n",
      "(36877090,)\n",
      "(array([0, 1], dtype=uint8), array([36581631,   295459], dtype=int64))\n",
      "(18605, 19480, 2)\n"
     ]
    },
    {
     "name": "stderr",
     "output_type": "stream",
     "text": [
      "ic| predicted_test.shape: (144970160,)\n",
      "ic| predicted_test.shape: (36877090,)\n",
      "ic| np.unique(predicted, return_counts=True): (array([0, 1], dtype=int8), array([361218218,   1207182], dtype=int64))\n",
      "    np.unique(predicted_larger_than_min_area, return_counts=True): (array([0, 1], dtype=int8), array([361326853,   1098547], dtype=int64))\n",
      "ic| np.unique(ignored_polygons, return_counts=True): (array([0, 1], dtype=int8), array([362316765,    108635], dtype=int64))\n",
      "ic| self.f1: 88.02, self.precision: 85.18, self.recall: 91.05\n",
      "ic| self.label_mask_val.shape: (43491048,)\n",
      "ic| self.label_mask_val_valid.shape: (10760994,)\n",
      "ic| f1_val: 11.45\n",
      "    precision_val: 6.33\n",
      "    recall_val: 59.36\n",
      "    mAP_val: 51.76\n"
     ]
    },
    {
     "name": "stdout",
     "output_type": "stream",
     "text": [
      "(array([0, 1], dtype=int16), array([361708074,    717326], dtype=int64))\n",
      "[0 1]\n"
     ]
    },
    {
     "name": "stderr",
     "output_type": "stream",
     "text": [
      "ic| self.label_mask.shape: (18605, 19480)\n",
      "ic| self.mask_test.shape: (18605, 19480)\n",
      "ic| self.label_mask_test.shape: (144970160,)\n",
      "ic| self.error_mask_test.shape: (36837639,)\n",
      "ic| bounds: (0.00010578750008484349, 0.4985)\n"
     ]
    },
    {
     "name": "stdout",
     "output_type": "stream",
     "text": [
      "(0.00010578750008484349, 0.4985)\n",
      "0.19047543687881469\n",
      "threshold 0.19047543687881469\n"
     ]
    },
    {
     "name": "stderr",
     "output_type": "stream",
     "text": [
      "c:\\Users\\jchamorro\\Anaconda3\\envs\\tf2\\lib\\site-packages\\scipy\\optimize\\_minimize.py:783: RuntimeWarning: Method 'bounded' does not support relative tolerance in x; defaulting to absolute tolerance.\n",
      "  warn(\"Method 'bounded' does not support relative tolerance in x; \"\n",
      "ic| label_current_deforestation_test_classified_incorrect.shape: (7498033,)\n",
      "    predicted_test_classified_incorrect.shape: (7498033,)\n",
      "ic| TP_H + FN_H + FP_H + TN_H: 7498033\n",
      "    len(label_mask_current_deforestation_test): 36837639\n",
      "ic| TP_H + FN_H + FP_H + TN_H: 7498033\n",
      "    len(label_mask_current_deforestation_test): 36837639\n"
     ]
    },
    {
     "name": "stdout",
     "output_type": "stream",
     "text": [
      "[0.9884631  0.94430897 0.64763491 0.20354271 0.63530078 0.83680548\n",
      " 0.00780597]\n",
      "0.30813035062127003\n",
      "threshold 0.30813035062127003\n"
     ]
    },
    {
     "name": "stderr",
     "output_type": "stream",
     "text": [
      "ic| label_current_deforestation_test_classified_incorrect.shape: (4352666,)\n",
      "    predicted_test_classified_incorrect.shape: (4352666,)\n",
      "ic| TP_H + FN_H + FP_H + TN_H: 4352666\n",
      "    len(label_mask_current_deforestation_test): 36837639\n",
      "ic| TP_H + FN_H + FP_H + TN_H: 4352666\n",
      "    len(label_mask_current_deforestation_test): 36837639\n"
     ]
    },
    {
     "name": "stdout",
     "output_type": "stream",
     "text": [
      "[0.98035315 0.95012208 0.7782778  0.11815812 0.48069234 0.73124368\n",
      " 0.01270989]\n",
      "0.38084508625754454\n",
      "threshold 0.38084508625754454\n"
     ]
    },
    {
     "name": "stderr",
     "output_type": "stream",
     "text": [
      "ic| label_current_deforestation_test_classified_incorrect.shape: (2797524,)\n",
      "    predicted_test_classified_incorrect.shape: (2797524,)\n",
      "ic| TP_H + FN_H + FP_H + TN_H: 2797524\n",
      "    len(label_mask_current_deforestation_test): 36837639\n",
      "ic| TP_H + FN_H + FP_H + TN_H: 2797524\n",
      "    len(label_mask_current_deforestation_test): 36837639\n"
     ]
    },
    {
     "name": "stdout",
     "output_type": "stream",
     "text": [
      "[0.96987189 0.95032025 0.84012152 0.075942   0.34721466 0.60722039\n",
      " 0.01831091]\n",
      "0.42578526436372544\n",
      "threshold 0.42578526436372544\n"
     ]
    },
    {
     "name": "stderr",
     "output_type": "stream",
     "text": [
      "ic| label_current_deforestation_test_classified_incorrect.shape: (1921961,)\n",
      "    predicted_test_classified_incorrect.shape: (1921961,)\n",
      "ic| TP_H + FN_H + FP_H + TN_H: 1921961\n",
      "    len(label_mask_current_deforestation_test): 36837639\n",
      "ic| TP_H + FN_H + FP_H + TN_H: 1921961\n",
      "    len(label_mask_current_deforestation_test): 36837639\n"
     ]
    },
    {
     "name": "stdout",
     "output_type": "stream",
     "text": [
      "[0.94525948 0.94866621 0.8723055  0.05217384 0.26149927 0.47493788\n",
      " 0.0223371 ]\n",
      "0.4535598218938191\n",
      "threshold 0.4535598218938191\n"
     ]
    },
    {
     "name": "stderr",
     "output_type": "stream",
     "text": [
      "ic| label_current_deforestation_test_classified_incorrect.shape: (1420062,)\n",
      "    predicted_test_classified_incorrect.shape: (1420062,)\n",
      "ic| TP_H + FN_H + FP_H + TN_H: 1420062\n",
      "    len(label_mask_current_deforestation_test): 36837639\n",
      "ic| TP_H + FN_H + FP_H + TN_H: 1420062\n",
      "    len(label_mask_current_deforestation_test): 36837639\n"
     ]
    },
    {
     "name": "stdout",
     "output_type": "stream",
     "text": [
      "[0.92570762 0.94634213 0.8898303  0.03854921 0.1921157  0.34671132\n",
      " 0.02512089]\n",
      "0.47072544246990633\n",
      "threshold 0.47072544246990633\n"
     ]
    },
    {
     "name": "stderr",
     "output_type": "stream",
     "text": [
      "ic| label_current_deforestation_test_classified_incorrect.shape: (1124508,)\n",
      "    predicted_test_classified_incorrect.shape: (1124508,)\n",
      "ic| TP_H + FN_H + FP_H + TN_H: 1124508\n",
      "    len(label_mask_current_deforestation_test): 36837639\n",
      "ic| TP_H + FN_H + FP_H + TN_H: 1124508\n",
      "    len(label_mask_current_deforestation_test): 36837639\n"
     ]
    },
    {
     "name": "stdout",
     "output_type": "stream",
     "text": [
      "[0.90997027 0.943982   0.898272   0.03052606 0.14978308 0.25324028\n",
      " 0.02631037]\n",
      "0.4813343794239128\n",
      "threshold 0.4813343794239128\n"
     ]
    },
    {
     "name": "stderr",
     "output_type": "stream",
     "text": [
      "ic| label_current_deforestation_test_classified_incorrect.shape: (942996,)\n",
      "    predicted_test_classified_incorrect.shape: (942996,)\n",
      "ic| TP_H + FN_H + FP_H + TN_H: 942996\n",
      "    len(label_mask_current_deforestation_test): 36837639\n",
      "ic| TP_H + FN_H + FP_H + TN_H: 942996\n",
      "    len(label_mask_current_deforestation_test): 36837639\n"
     ]
    },
    {
     "name": "stdout",
     "output_type": "stream",
     "text": [
      "[0.89121881 0.94199098 0.90296184 0.02559871 0.13562253 0.18277154\n",
      " 0.02402929]\n",
      "0.46993781744298685\n",
      "threshold 0.46993781744298685\n"
     ]
    },
    {
     "name": "stderr",
     "output_type": "stream",
     "text": [
      "ic| label_current_deforestation_test_classified_incorrect.shape: (1137933,)\n",
      "    predicted_test_classified_incorrect.shape: (1137933,)\n",
      "ic| TP_H + FN_H + FP_H + TN_H: 1137933\n",
      "    len(label_mask_current_deforestation_test): 36837639\n",
      "ic| TP_H + FN_H + FP_H + TN_H: 1137933\n",
      "    len(label_mask_current_deforestation_test): 36837639\n"
     ]
    },
    {
     "name": "stdout",
     "output_type": "stream",
     "text": [
      "[0.91096557 0.94412978 0.89787544 0.0308905  0.15181969 0.25839375\n",
      " 0.02633635]\n",
      "0.47351601195043097\n",
      "threshold 0.47351601195043097\n"
     ]
    },
    {
     "name": "stderr",
     "output_type": "stream",
     "text": [
      "ic| label_current_deforestation_test_classified_incorrect.shape: (1076633,)\n",
      "    predicted_test_classified_incorrect.shape: (1076633,)\n",
      "ic| TP_H + FN_H + FP_H + TN_H: 1076633\n",
      "    len(label_mask_current_deforestation_test): 36837639\n",
      "ic| TP_H + FN_H + FP_H + TN_H: 1076633\n",
      "    len(label_mask_current_deforestation_test): 36837639\n"
     ]
    },
    {
     "name": "stdout",
     "output_type": "stream",
     "text": [
      "[0.90585473 0.94350475 0.89944791 0.02922644 0.14571247 0.23742707\n",
      " 0.02606402]\n",
      "0.47179134516349863\n",
      "threshold 0.47179134516349863\n"
     ]
    },
    {
     "name": "stderr",
     "output_type": "stream",
     "text": [
      "ic| label_current_deforestation_test_classified_incorrect.shape: (1106003,)\n",
      "    predicted_test_classified_incorrect.shape: (1106003,)\n",
      "ic| TP_H + FN_H + FP_H + TN_H: 1106003\n",
      "    len(label_mask_current_deforestation_test): 36837639\n",
      "ic| TP_H + FN_H + FP_H + TN_H: 1106003\n",
      "    len(label_mask_current_deforestation_test): 36837639\n"
     ]
    },
    {
     "name": "stdout",
     "output_type": "stream",
     "text": [
      "[0.90848848 0.94381009 0.8987203  0.03002372 0.14811292 0.2472932\n",
      " 0.02625349]\n",
      "0.4719841456889316\n",
      "threshold 0.4719841456889316\n"
     ]
    },
    {
     "name": "stderr",
     "output_type": "stream",
     "text": [
      "ic| label_current_deforestation_test_classified_incorrect.shape: (1102788,)\n",
      "    predicted_test_classified_incorrect.shape: (1102788,)\n",
      "ic| TP_H + FN_H + FP_H + TN_H: 1102788\n",
      "    len(label_mask_current_deforestation_test): 36837639\n",
      "ic| TP_H + FN_H + FP_H + TN_H: 1102788\n",
      "    len(label_mask_current_deforestation_test): 36837639\n"
     ]
    },
    {
     "name": "stdout",
     "output_type": "stream",
     "text": [
      "[0.90820647 0.94377295 0.89878582 0.02993645 0.14799531 0.24647327\n",
      " 0.02623489]\n",
      "0.4716959356938138\n",
      "threshold 0.4716959356938138\n"
     ]
    },
    {
     "name": "stderr",
     "output_type": "stream",
     "text": [
      "ic| label_current_deforestation_test_classified_incorrect.shape: (1107726,)\n",
      "    predicted_test_classified_incorrect.shape: (1107726,)\n",
      "ic| TP_H + FN_H + FP_H + TN_H: 1107726\n",
      "    len(label_mask_current_deforestation_test): 36837639\n",
      "ic| TP_H + FN_H + FP_H + TN_H: 1107726\n",
      "    len(label_mask_current_deforestation_test): 36837639\n"
     ]
    },
    {
     "name": "stdout",
     "output_type": "stream",
     "text": [
      "[0.90865096 0.94383943 0.89869616 0.03007049 0.14803795 0.24751262\n",
      " 0.0262686 ]\n",
      "0.4718450204986764\n",
      "threshold 0.4718450204986764\n"
     ]
    },
    {
     "name": "stderr",
     "output_type": "stream",
     "text": [
      "ic| label_current_deforestation_test_classified_incorrect.shape: (1105104,)\n",
      "    predicted_test_classified_incorrect.shape: (1105104,)\n",
      "ic| TP_H + FN_H + FP_H + TN_H: 1105104\n",
      "    len(label_mask_current_deforestation_test): 36837639\n",
      "ic| TP_H + FN_H + FP_H + TN_H: 1105104\n",
      "    len(label_mask_current_deforestation_test): 36837639\n"
     ]
    },
    {
     "name": "stdout",
     "output_type": "stream",
     "text": [
      "[0.90837925 0.94380427 0.89873754 0.02999932 0.14815296 0.24705712\n",
      " 0.02624097]\n",
      "0.47187836083060236\n",
      "threshold 0.47187836083060236\n"
     ]
    },
    {
     "name": "stderr",
     "output_type": "stream",
     "text": [
      "ic| label_current_deforestation_test_classified_incorrect.shape: (1104537,)\n",
      "    predicted_test_classified_incorrect.shape: (1104537,)\n",
      "ic| TP_H + FN_H + FP_H + TN_H: 1104537\n",
      "    len(label_mask_current_deforestation_test): 36837639\n",
      "ic| TP_H + FN_H + FP_H + TN_H: 1104537\n",
      "    len(label_mask_current_deforestation_test): 36837639\n",
      "ic| self.threshold_optimal: 0.4718450204986764\n"
     ]
    },
    {
     "name": "stdout",
     "output_type": "stream",
     "text": [
      "[0.90834158 0.94379764 0.89874099 0.02998392 0.14819308 0.24703843\n",
      " 0.02624141]\n",
      "threshold:  0.4718450204986764\n",
      "threshold 0.4718450204986764\n"
     ]
    },
    {
     "name": "stderr",
     "output_type": "stream",
     "text": [
      "ic| label_current_deforestation_test_classified_incorrect.shape: (1105104,)\n",
      "    predicted_test_classified_incorrect.shape: (1105104,)\n",
      "ic| TP_H + FN_H + FP_H + TN_H: 1105104\n",
      "    len(label_mask_current_deforestation_test): 36837639\n",
      "ic| TP_H + FN_H + FP_H + TN_H: 1105104\n",
      "    len(label_mask_current_deforestation_test): 36837639\n"
     ]
    },
    {
     "name": "stdout",
     "output_type": "stream",
     "text": [
      "[0.90837925 0.94380427 0.89873754 0.02999932 0.14815296 0.24705712\n",
      " 0.02624097]\n",
      "threshold 0.4718450204986764\n",
      "(36837639,) (36837639,)\n"
     ]
    },
    {
     "name": "stderr",
     "output_type": "stream",
     "text": [
      "ic| self.m_optimal: {'AA': array([0.02999932]),\n",
      "                     'UEO': array([0.02624097]),\n",
      "                     'f1': 88.02,\n",
      "                     'f1_H': array([0.1852293]),\n",
      "                     'f1_L': array([0.92575299]),\n",
      "                     'precision_H': array([0.14815296]),\n",
      "                     'precision_L': array([0.90837925]),\n",
      "                     'recall_H': array([0.24705712]),\n",
      "                     'recall_L': array([0.94380427]),\n",
      "                     'recall_Ltotal': array([0.89873754])}\n",
      "ic| self.m_audited_optimal: {'f1': array([0.92923367]),\n",
      "                             'precision': array([0.9125975]),\n",
      "                             'recall': array([0.94648763])}\n"
     ]
    },
    {
     "name": "stdout",
     "output_type": "stream",
     "text": [
      "cm_audited [[36521363    26287]\n",
      " [   15518   274471]]\n",
      "[0.9125975  0.94648763]\n",
      "Result idx 10: {'uncertainty_result': {'metrics': {'precision_L': array([0.90837925]), 'recall_L': array([0.94380427]), 'recall_Ltotal': array([0.89873754]), 'AA': array([0.02999932]), 'precision_H': array([0.14815296]), 'recall_H': array([0.24705712]), 'UEO': array([0.02624097]), 'f1_L': array([0.92575299]), 'f1_H': array([0.1852293]), 'f1': 88.02}, 'metrics_audited': {'precision': array([0.9125975]), 'recall': array([0.94648763]), 'f1': array([0.92923367])}, 'exp': 41}}\n",
      "Grid execution idx: 10\n",
      "Beginning run number 11\n",
      "manager.config {'training': True, 'inferring': True, 'site': 'MS', 'training_date': 'current', 'mode': 'evidential2', 'training_times': 20, 'uncertainty_method': 'pred_entropy', 'loadInference': False, 'removePolygons': True, 'plotLandsat': False, 'plotPOI': False, 'training_experiment_id': 41, 'get_multiple_metrics': False, 'start_repetition_id': 0, 'end_repetition_id': 20, 'save_probabilities': False, 'addPastDeforestationInput': True, 'classes_mode': True, 'learning_rate': 0.0001, 'use_cloud_mask': False, 'mask_out_non_biome': False, 'log_filename': 'log.pkl', 'inference_times': 1, 'dropout_training': False}\n",
      "D:/Jorge/datasets/deforestation/MS/deforestation_past_years.tif\n",
      "Loaded deforestation past years\n"
     ]
    },
    {
     "name": "stderr",
     "output_type": "stream",
     "text": [
      "ic| np.unique(deforestation_past_years, return_counts=True): (array([   0, 2002, 2004, 2006, 2008, 2010, 2012, 2013, 2014, 2015, 2016,\n",
      "                                                                    2017, 2018, 2019, 2020, 2021], dtype=uint16),\n",
      "                                                              array([334024764,   8717093,   6541094,   3824922,   2096535,   1305948,\n",
      "                                                                      1003721,    903906,    318788,    701575,    310887,    440417,\n",
      "                                                                       316180,    560438,    600838,    776899], dtype=int64))\n"
     ]
    },
    {
     "name": "stdout",
     "output_type": "stream",
     "text": [
      "Label where deforestation past years is actual date (2020) = 1\n"
     ]
    },
    {
     "name": "stderr",
     "output_type": "stream",
     "text": [
      "ic| np.unique(deforestation_past_years, return_counts=True): (array([   0, 2002, 2004, 2006, 2008, 2010, 2012, 2013, 2014, 2015, 2016,\n",
      "                                                                    2017, 2018, 2019, 2020, 2021], dtype=uint16),\n",
      "                                                              array([334024764,   8717093,   6541094,   3824922,   2096535,   1305948,\n",
      "                                                                      1003721,    903906,    318788,    701575,    310887,    440417,\n",
      "                                                                       316180,    560438,    600838,    776899], dtype=int64))\n"
     ]
    },
    {
     "name": "stdout",
     "output_type": "stream",
     "text": [
      "Past deforestation different from 0 (no deforestation)\n"
     ]
    },
    {
     "name": "stderr",
     "output_type": "stream",
     "text": [
      "ic| np.unique(deforestation_past_years, return_counts=True): (array([   0, 2002, 2004, 2006, 2008, 2010, 2012, 2013, 2014, 2015, 2016,\n",
      "                                                                    2017, 2018, 2019, 2020, 2021], dtype=uint16),\n",
      "                                                              array([334024764,   8717093,   6541094,   3824922,   2096535,   1305948,\n",
      "                                                                      1003721,    903906,    318788,    701575,    310887,    440417,\n",
      "                                                                       316180,    560438,    600838,    776899], dtype=int64))\n"
     ]
    },
    {
     "name": "stdout",
     "output_type": "stream",
     "text": [
      "Past deforestation before 2008 is 2\n",
      "D:/Jorge/datasets/deforestation/MS/deforestation_before_2000_MS.tif\n"
     ]
    },
    {
     "name": "stderr",
     "output_type": "stream",
     "text": [
      "ic| np.unique(label_past_deforestation_before_2008, return_counts=True): (array([  0, 208], dtype=uint8), array([126708038, 235735967], dtype=int64))\n",
      "ic| np.unique(deforestation_past_years, return_counts=True): (array([   0, 2002, 2004, 2006, 2008, 2010, 2012, 2013, 2014, 2015, 2016,\n",
      "                                                                    2017, 2018, 2019, 2020, 2021], dtype=uint16),\n",
      "                                                              array([334024764,   8717093,   6541094,   3824922,   2096535,   1305948,\n",
      "                                                                      1003721,    903906,    318788,    701575,    310887,    440417,\n",
      "                                                                       316180,    560438,    600838,    776899], dtype=int64))\n",
      "ic| label_per_date.shape: (18605, 19481, 1)\n"
     ]
    },
    {
     "name": "stdout",
     "output_type": "stream",
     "text": [
      "Removing bufer................\n",
      "Mask label shape:  \n",
      " (18605, 19481, 1) \n",
      " Unique values:  \n",
      " [0 1 2]\n",
      "Tiles size:  3721 3896\n",
      "Mask size:  (18605, 19480)\n"
     ]
    },
    {
     "name": "stderr",
     "output_type": "stream",
     "text": [
      "ic| image_stack.shape: (18605, 19481, 9)\n"
     ]
    },
    {
     "name": "stdout",
     "output_type": "stream",
     "text": [
      "Image shape:  (18605, 19481, 9)\n",
      "mask:  (18605, 19480)\n",
      "image stack:  (18605, 19480, 9)\n",
      "ref : (18605, 19480, 1)\n",
      "Training tiles:  [2, 4, 5, 6, 7, 12, 14, 15, 18, 21, 23, 24]\n",
      "Validation tiles:  [9, 11, 25]\n",
      "Test tiles:  [1, 3, 8, 10, 13, 16, 17, 19, 20, 22]\n",
      "-35.0 -8.0\n"
     ]
    },
    {
     "name": "stderr",
     "output_type": "stream",
     "text": [
      "ic| self.path_models+ '/' + self.method +'_'+str(self.repetition_id)+'.h5': 'D:/Jorge/datasets/deforestation/experiments/MS/exp41/models/resunet_11.h5'\n"
     ]
    },
    {
     "name": "stdout",
     "output_type": "stream",
     "text": [
      "Dropout training mode: False\n",
      "time:  0\n",
      "alpha.shape (18640, 19488, 2)\n",
      "S.shape (18640, 19488)\n",
      "K 2\n",
      "u.shape (18640, 19488)\n",
      "belief.shape (18640, 19488, 2)\n",
      "Inference runtime 257.09\n",
      "(36877090,)\n",
      "(array([0, 1], dtype=uint8), array([36581631,   295459], dtype=int64))\n",
      "(18605, 19480, 2)\n"
     ]
    },
    {
     "name": "stderr",
     "output_type": "stream",
     "text": [
      "ic| predicted_test.shape: (144970160,)\n",
      "ic| predicted_test.shape: (36877090,)\n",
      "ic| np.unique(predicted, return_counts=True): (array([0, 1], dtype=int8), array([361432174,    993226], dtype=int64))\n",
      "    np.unique(predicted_larger_than_min_area, return_counts=True): (array([0, 1], dtype=int8), array([361600619,    824781], dtype=int64))\n",
      "ic| np.unique(ignored_polygons, return_counts=True): (array([0, 1], dtype=int8), array([362256955,    168445], dtype=int64))\n",
      "ic| self.f1: 82.74, self.precision: 76.48, self.recall: 90.1\n",
      "ic| self.label_mask_val.shape: (43491048,)\n",
      "ic| self.label_mask_val_valid.shape: (10759464,)\n",
      "ic| f1_val: 42.89\n",
      "    precision_val: 33.57\n",
      "    recall_val: 59.38\n",
      "    mAP_val: 55.26\n"
     ]
    },
    {
     "name": "stdout",
     "output_type": "stream",
     "text": [
      "(array([0, 1], dtype=int16), array([361966076,    459324], dtype=int64))\n",
      "[0 1]\n"
     ]
    },
    {
     "name": "stderr",
     "output_type": "stream",
     "text": [
      "ic| self.label_mask.shape: (18605, 19480)\n",
      "ic| self.mask_test.shape: (18605, 19480)\n",
      "ic| self.label_mask_test.shape: (144970160,)\n",
      "ic| self.error_mask_test.shape: (36811418,)\n",
      "ic| bounds: (0.0006001971218362451, 0.4985)\n"
     ]
    },
    {
     "name": "stdout",
     "output_type": "stream",
     "text": [
      "(0.0006001971218362451, 0.4985)\n",
      "0.19078099882942204\n",
      "threshold 0.19078099882942204\n"
     ]
    },
    {
     "name": "stderr",
     "output_type": "stream",
     "text": [
      "c:\\Users\\jchamorro\\Anaconda3\\envs\\tf2\\lib\\site-packages\\scipy\\optimize\\_minimize.py:783: RuntimeWarning: Method 'bounded' does not support relative tolerance in x; defaulting to absolute tolerance.\n",
      "  warn(\"Method 'bounded' does not support relative tolerance in x; \"\n",
      "ic| label_current_deforestation_test_classified_incorrect.shape: (5873247,)\n",
      "    predicted_test_classified_incorrect.shape: (5873247,)\n",
      "ic| TP_H + FN_H + FP_H + TN_H: 5873247\n",
      "    len(label_mask_current_deforestation_test): 36811418\n",
      "ic| TP_H + FN_H + FP_H + TN_H: 5873247\n",
      "    len(label_mask_current_deforestation_test): 36811418\n"
     ]
    },
    {
     "name": "stdout",
     "output_type": "stream",
     "text": [
      "[0.99386929 0.9436708  0.60914891 0.1595496  0.51644382 0.82337439\n",
      " 0.01649696]\n",
      "0.3083191982924141\n",
      "threshold 0.3083191982924141\n"
     ]
    },
    {
     "name": "stderr",
     "output_type": "stream",
     "text": [
      "ic| label_current_deforestation_test_classified_incorrect.shape: (3224368,)\n",
      "    predicted_test_classified_incorrect.shape: (3224368,)\n",
      "ic| TP_H + FN_H + FP_H + TN_H: 3224368\n",
      "    len(label_mask_current_deforestation_test): 36811418\n",
      "ic| TP_H + FN_H + FP_H + TN_H: 3224368\n",
      "    len(label_mask_current_deforestation_test): 36811418\n"
     ]
    },
    {
     "name": "stdout",
     "output_type": "stream",
     "text": [
      "[0.98681643 0.94817268 0.72801348 0.08759152 0.39291243 0.74512726\n",
      " 0.02913687]\n",
      "0.3809618005370079\n",
      "threshold 0.3809618005370079\n"
     ]
    },
    {
     "name": "stderr",
     "output_type": "stream",
     "text": [
      "ic| label_current_deforestation_test_classified_incorrect.shape: (2054586,)\n",
      "    predicted_test_classified_incorrect.shape: (2054586,)\n",
      "ic| TP_H + FN_H + FP_H + TN_H: 2054586\n",
      "    len(label_mask_current_deforestation_test): 36811418\n",
      "ic| TP_H + FN_H + FP_H + TN_H: 2054586\n",
      "    len(label_mask_current_deforestation_test): 36811418\n"
     ]
    },
    {
     "name": "stdout",
     "output_type": "stream",
     "text": [
      "[0.98129495 0.94925207 0.7897778  0.05581382 0.2980607  0.66219751\n",
      " 0.04447937]\n",
      "0.4258573977554062\n",
      "threshold 0.4258573977554062\n"
     ]
    },
    {
     "name": "stderr",
     "output_type": "stream",
     "text": [
      "ic| label_current_deforestation_test_classified_incorrect.shape: (1446937,)\n",
      "    predicted_test_classified_incorrect.shape: (1446937,)\n",
      "ic| TP_H + FN_H + FP_H + TN_H: 1446937\n",
      "    len(label_mask_current_deforestation_test): 36811418\n",
      "ic| TP_H + FN_H + FP_H + TN_H: 1446937\n",
      "    len(label_mask_current_deforestation_test): 36811418\n"
     ]
    },
    {
     "name": "stdout",
     "output_type": "stream",
     "text": [
      "[0.96421179 0.94919892 0.83655343 0.03930674 0.20766282 0.54328115\n",
      " 0.05906862]\n",
      "0.45360440278160163\n",
      "threshold 0.45360440278160163\n"
     ]
    },
    {
     "name": "stderr",
     "output_type": "stream",
     "text": [
      "ic| label_current_deforestation_test_classified_incorrect.shape: (1106262,)\n",
      "    predicted_test_classified_incorrect.shape: (1106262,)\n",
      "ic| TP_H + FN_H + FP_H + TN_H: 1106262\n",
      "    len(label_mask_current_deforestation_test): 36811418\n",
      "ic| TP_H + FN_H + FP_H + TN_H: 1106262\n",
      "    len(label_mask_current_deforestation_test): 36811418\n"
     ]
    },
    {
     "name": "stdout",
     "output_type": "stream",
     "text": [
      "[0.92794843 0.94832595 0.86065228 0.03005214 0.16111395 0.43671407\n",
      " 0.06654991]\n",
      "0.4707529949738046\n",
      "threshold 0.4707529949738046\n"
     ]
    },
    {
     "name": "stderr",
     "output_type": "stream",
     "text": [
      "ic| label_current_deforestation_test_classified_incorrect.shape: (899605,)\n",
      "    predicted_test_classified_incorrect.shape: (899605,)\n",
      "ic| TP_H + FN_H + FP_H + TN_H: 899605\n",
      "    len(label_mask_current_deforestation_test): 36811418\n",
      "ic| TP_H + FN_H + FP_H + TN_H: 899605\n",
      "    len(label_mask_current_deforestation_test): 36811418\n"
     ]
    },
    {
     "name": "stdout",
     "output_type": "stream",
     "text": [
      "[0.87857965 0.94734148 0.87723602 0.02443821 0.13246258 0.32148869\n",
      " 0.06276239]\n",
      "0.45116470521946594\n",
      "threshold 0.45116470521946594\n"
     ]
    },
    {
     "name": "stderr",
     "output_type": "stream",
     "text": [
      "ic| label_current_deforestation_test_classified_incorrect.shape: (1135768,)\n",
      "    predicted_test_classified_incorrect.shape: (1135768,)\n",
      "ic| TP_H + FN_H + FP_H + TN_H: 1135768\n",
      "    len(label_mask_current_deforestation_test): 36811418\n",
      "ic| TP_H + FN_H + FP_H + TN_H: 1135768\n",
      "    len(label_mask_current_deforestation_test): 36811418\n"
     ]
    },
    {
     "name": "stdout",
     "output_type": "stream",
     "text": [
      "[0.93262125 0.94842325 0.85797424 0.03085369 0.16679625 0.45143852\n",
      " 0.06620898]\n",
      "0.4573362907109297\n",
      "threshold 0.4573362907109297\n"
     ]
    },
    {
     "name": "stderr",
     "output_type": "stream",
     "text": [
      "ic| label_current_deforestation_test_classified_incorrect.shape: (1060844,)\n",
      "    predicted_test_classified_incorrect.shape: (1060844,)\n",
      "ic| TP_H + FN_H + FP_H + TN_H: 1060844\n",
      "    len(label_mask_current_deforestation_test): 36811418\n",
      "ic| TP_H + FN_H + FP_H + TN_H: 1060844\n",
      "    len(label_mask_current_deforestation_test): 36811418\n"
     ]
    },
    {
     "name": "stdout",
     "output_type": "stream",
     "text": [
      "[0.91920381 0.94810444 0.86442713 0.02881834 0.15399621 0.41469343\n",
      " 0.06661505]\n",
      "0.4539907019266985\n",
      "threshold 0.4539907019266985\n"
     ]
    },
    {
     "name": "stderr",
     "output_type": "stream",
     "text": [
      "ic| label_current_deforestation_test_classified_incorrect.shape: (1101520,)\n",
      "    predicted_test_classified_incorrect.shape: (1101520,)\n",
      "ic| TP_H + FN_H + FP_H + TN_H: 1101520\n",
      "    len(label_mask_current_deforestation_test): 36811418\n",
      "ic| TP_H + FN_H + FP_H + TN_H: 1101520\n",
      "    len(label_mask_current_deforestation_test): 36811418\n"
     ]
    },
    {
     "name": "stdout",
     "output_type": "stream",
     "text": [
      "[0.92709424 0.9482846  0.8610052  0.02992332 0.16049674 0.43483328\n",
      " 0.06657237]\n",
      "0.4535686655529929\n",
      "threshold 0.4535686655529929\n"
     ]
    },
    {
     "name": "stderr",
     "output_type": "stream",
     "text": [
      "ic| label_current_deforestation_test_classified_incorrect.shape: (1106721,)\n",
      "    predicted_test_classified_incorrect.shape: (1106721,)\n",
      "ic| TP_H + FN_H + FP_H + TN_H: 1106721\n",
      "    len(label_mask_current_deforestation_test): 36811418\n",
      "ic| TP_H + FN_H + FP_H + TN_H: 1106721\n",
      "    len(label_mask_current_deforestation_test): 36811418\n"
     ]
    },
    {
     "name": "stdout",
     "output_type": "stream",
     "text": [
      "[0.92801364 0.94832299 0.86060038 0.03006461 0.16124313 0.43703011\n",
      " 0.06654182]\n",
      "0.45376505806616824\n",
      "threshold 0.45376505806616824\n"
     ]
    },
    {
     "name": "stderr",
     "output_type": "stream",
     "text": [
      "ic| label_current_deforestation_test_classified_incorrect.shape: (1104286,)\n",
      "    predicted_test_classified_incorrect.shape: (1104286,)\n",
      "ic| TP_H + FN_H + FP_H + TN_H: 1104286\n",
      "    len(label_mask_current_deforestation_test): 36811418\n",
      "ic| TP_H + FN_H + FP_H + TN_H: 1104286\n",
      "    len(label_mask_current_deforestation_test): 36811418\n"
     ]
    },
    {
     "name": "stdout",
     "output_type": "stream",
     "text": [
      "[0.92761583 0.94830793 0.8607803  0.02999846 0.16090523 0.43604738\n",
      " 0.06656613]\n",
      "0.45385124635153806\n",
      "threshold 0.45385124635153806\n"
     ]
    },
    {
     "name": "stderr",
     "output_type": "stream",
     "text": [
      "ic| label_current_deforestation_test_classified_incorrect.shape: (1103229,)\n",
      "    predicted_test_classified_incorrect.shape: (1103229,)\n",
      "ic| TP_H + FN_H + FP_H + TN_H: 1103229\n",
      "    len(label_mask_current_deforestation_test): 36811418\n",
      "ic| TP_H + FN_H + FP_H + TN_H: 1103229\n",
      "    len(label_mask_current_deforestation_test): 36811418\n"
     ]
    },
    {
     "name": "stdout",
     "output_type": "stream",
     "text": [
      "[0.92740766 0.94829801 0.86085988 0.02996975 0.16077611 0.4356261\n",
      " 0.0665661 ]\n",
      "0.4537317180024114\n",
      "threshold 0.4537317180024114\n"
     ]
    },
    {
     "name": "stderr",
     "output_type": "stream",
     "text": [
      "ic| label_current_deforestation_test_classified_incorrect.shape: (1104711,)\n",
      "    predicted_test_classified_incorrect.shape: (1104711,)\n",
      "ic| TP_H + FN_H + FP_H + TN_H: 1104711\n",
      "    len(label_mask_current_deforestation_test): 36811418\n",
      "ic| TP_H + FN_H + FP_H + TN_H: 1104711\n",
      "    len(label_mask_current_deforestation_test): 36811418\n"
     ]
    },
    {
     "name": "stdout",
     "output_type": "stream",
     "text": [
      "[0.92770177 0.94831115 0.86077338 0.03001001 0.16087281 0.43607332\n",
      " 0.06656564]\n",
      "0.45379839812992506\n",
      "threshold 0.45379839812992506\n"
     ]
    },
    {
     "name": "stderr",
     "output_type": "stream",
     "text": [
      "ic| label_current_deforestation_test_classified_incorrect.shape: (1103862,)\n",
      "    predicted_test_classified_incorrect.shape: (1103862,)\n",
      "ic| TP_H + FN_H + FP_H + TN_H: 1103862\n",
      "    len(label_mask_current_deforestation_test): 36811418\n",
      "ic| TP_H + FN_H + FP_H + TN_H: 1103862\n",
      "    len(label_mask_current_deforestation_test): 36811418\n",
      "ic| self.threshold_optimal: 0.45376505806616824\n"
     ]
    },
    {
     "name": "stdout",
     "output_type": "stream",
     "text": [
      "[0.92751186 0.9483103  0.86082182 0.02998695 0.1608349  0.43579358\n",
      " 0.06656188]\n",
      "threshold:  0.45376505806616824\n",
      "threshold 0.45376505806616824\n"
     ]
    },
    {
     "name": "stderr",
     "output_type": "stream",
     "text": [
      "ic| label_current_deforestation_test_classified_incorrect.shape: (1104286,)\n",
      "    predicted_test_classified_incorrect.shape: (1104286,)\n",
      "ic| TP_H + FN_H + FP_H + TN_H: 1104286\n",
      "    len(label_mask_current_deforestation_test): 36811418\n",
      "ic| TP_H + FN_H + FP_H + TN_H: 1104286\n",
      "    len(label_mask_current_deforestation_test): 36811418\n"
     ]
    },
    {
     "name": "stdout",
     "output_type": "stream",
     "text": [
      "[0.92761583 0.94830793 0.8607803  0.02999846 0.16090523 0.43604738\n",
      " 0.06656613]\n",
      "threshold 0.45376505806616824\n",
      "(36811418,) (36811418,)\n"
     ]
    },
    {
     "name": "stderr",
     "output_type": "stream",
     "text": [
      "ic| self.m_optimal: {'AA': array([0.02999846]),\n",
      "                     'UEO': array([0.06656613]),\n",
      "                     'f1': 82.74,\n",
      "                     'f1_H': array([0.23506826]),\n",
      "                     'f1_L': array([0.93784776]),\n",
      "                     'precision_H': array([0.16090523]),\n",
      "                     'precision_L': array([0.92761583]),\n",
      "                     'recall_H': array([0.43604738]),\n",
      "                     'recall_L': array([0.94830793]),\n",
      "                     'recall_Ltotal': array([0.8607803])}\n",
      "ic| self.m_audited_optimal: {'f1': array([0.94352684]),\n",
      "                             'precision': array([0.93416421]),\n",
      "                             'recall': array([0.95307905])}\n"
     ]
    },
    {
     "name": "stdout",
     "output_type": "stream",
     "text": [
      "cm_audited [[36502987    19413]\n",
      " [   13561   275457]]\n",
      "[0.93416421 0.95307905]\n",
      "Result idx 11: {'uncertainty_result': {'metrics': {'precision_L': array([0.92761583]), 'recall_L': array([0.94830793]), 'recall_Ltotal': array([0.8607803]), 'AA': array([0.02999846]), 'precision_H': array([0.16090523]), 'recall_H': array([0.43604738]), 'UEO': array([0.06656613]), 'f1_L': array([0.93784776]), 'f1_H': array([0.23506826]), 'f1': 82.74}, 'metrics_audited': {'precision': array([0.93416421]), 'recall': array([0.95307905]), 'f1': array([0.94352684])}, 'exp': 41}}\n",
      "Grid execution idx: 11\n",
      "Beginning run number 12\n",
      "manager.config {'training': True, 'inferring': True, 'site': 'MS', 'training_date': 'current', 'mode': 'evidential2', 'training_times': 20, 'uncertainty_method': 'pred_entropy', 'loadInference': False, 'removePolygons': True, 'plotLandsat': False, 'plotPOI': False, 'training_experiment_id': 41, 'get_multiple_metrics': False, 'start_repetition_id': 0, 'end_repetition_id': 20, 'save_probabilities': False, 'addPastDeforestationInput': True, 'classes_mode': True, 'learning_rate': 0.0001, 'use_cloud_mask': False, 'mask_out_non_biome': False, 'log_filename': 'log.pkl', 'inference_times': 1, 'dropout_training': False}\n",
      "D:/Jorge/datasets/deforestation/MS/deforestation_past_years.tif\n",
      "Loaded deforestation past years\n"
     ]
    },
    {
     "name": "stderr",
     "output_type": "stream",
     "text": [
      "ic| np.unique(deforestation_past_years, return_counts=True): (array([   0, 2002, 2004, 2006, 2008, 2010, 2012, 2013, 2014, 2015, 2016,\n",
      "                                                                    2017, 2018, 2019, 2020, 2021], dtype=uint16),\n",
      "                                                              array([334024764,   8717093,   6541094,   3824922,   2096535,   1305948,\n",
      "                                                                      1003721,    903906,    318788,    701575,    310887,    440417,\n",
      "                                                                       316180,    560438,    600838,    776899], dtype=int64))\n"
     ]
    },
    {
     "name": "stdout",
     "output_type": "stream",
     "text": [
      "Label where deforestation past years is actual date (2020) = 1\n"
     ]
    },
    {
     "name": "stderr",
     "output_type": "stream",
     "text": [
      "ic| np.unique(deforestation_past_years, return_counts=True): (array([   0, 2002, 2004, 2006, 2008, 2010, 2012, 2013, 2014, 2015, 2016,\n",
      "                                                                    2017, 2018, 2019, 2020, 2021], dtype=uint16),\n",
      "                                                              array([334024764,   8717093,   6541094,   3824922,   2096535,   1305948,\n",
      "                                                                      1003721,    903906,    318788,    701575,    310887,    440417,\n",
      "                                                                       316180,    560438,    600838,    776899], dtype=int64))\n"
     ]
    },
    {
     "name": "stdout",
     "output_type": "stream",
     "text": [
      "Past deforestation different from 0 (no deforestation)\n"
     ]
    },
    {
     "name": "stderr",
     "output_type": "stream",
     "text": [
      "ic| np.unique(deforestation_past_years, return_counts=True): (array([   0, 2002, 2004, 2006, 2008, 2010, 2012, 2013, 2014, 2015, 2016,\n",
      "                                                                    2017, 2018, 2019, 2020, 2021], dtype=uint16),\n",
      "                                                              array([334024764,   8717093,   6541094,   3824922,   2096535,   1305948,\n",
      "                                                                      1003721,    903906,    318788,    701575,    310887,    440417,\n",
      "                                                                       316180,    560438,    600838,    776899], dtype=int64))\n"
     ]
    },
    {
     "name": "stdout",
     "output_type": "stream",
     "text": [
      "Past deforestation before 2008 is 2\n",
      "D:/Jorge/datasets/deforestation/MS/deforestation_before_2000_MS.tif\n"
     ]
    },
    {
     "name": "stderr",
     "output_type": "stream",
     "text": [
      "ic| np.unique(label_past_deforestation_before_2008, return_counts=True): (array([  0, 208], dtype=uint8), array([126708038, 235735967], dtype=int64))\n",
      "ic| np.unique(deforestation_past_years, return_counts=True): (array([   0, 2002, 2004, 2006, 2008, 2010, 2012, 2013, 2014, 2015, 2016,\n",
      "                                                                    2017, 2018, 2019, 2020, 2021], dtype=uint16),\n",
      "                                                              array([334024764,   8717093,   6541094,   3824922,   2096535,   1305948,\n",
      "                                                                      1003721,    903906,    318788,    701575,    310887,    440417,\n",
      "                                                                       316180,    560438,    600838,    776899], dtype=int64))\n",
      "ic| label_per_date.shape: (18605, 19481, 1)\n"
     ]
    },
    {
     "name": "stdout",
     "output_type": "stream",
     "text": [
      "Removing bufer................\n",
      "Mask label shape:  \n",
      " (18605, 19481, 1) \n",
      " Unique values:  \n",
      " [0 1 2]\n",
      "Tiles size:  3721 3896\n",
      "Mask size:  (18605, 19480)\n"
     ]
    },
    {
     "name": "stderr",
     "output_type": "stream",
     "text": [
      "ic| image_stack.shape: (18605, 19481, 9)\n"
     ]
    },
    {
     "name": "stdout",
     "output_type": "stream",
     "text": [
      "Image shape:  (18605, 19481, 9)\n",
      "mask:  (18605, 19480)\n",
      "image stack:  (18605, 19480, 9)\n",
      "ref : (18605, 19480, 1)\n",
      "Training tiles:  [2, 4, 5, 6, 7, 12, 14, 15, 18, 21, 23, 24]\n",
      "Validation tiles:  [9, 11, 25]\n",
      "Test tiles:  [1, 3, 8, 10, 13, 16, 17, 19, 20, 22]\n",
      "-35.0 -8.0\n"
     ]
    },
    {
     "name": "stderr",
     "output_type": "stream",
     "text": [
      "ic| self.path_models+ '/' + self.method +'_'+str(self.repetition_id)+'.h5': 'D:/Jorge/datasets/deforestation/experiments/MS/exp41/models/resunet_12.h5'\n"
     ]
    },
    {
     "name": "stdout",
     "output_type": "stream",
     "text": [
      "Dropout training mode: False\n",
      "time:  0\n",
      "alpha.shape (18640, 19488, 2)\n",
      "S.shape (18640, 19488)\n",
      "K 2\n",
      "u.shape (18640, 19488)\n",
      "belief.shape (18640, 19488, 2)\n",
      "Inference runtime 257.03\n",
      "(36877090,)\n",
      "(array([0, 1], dtype=uint8), array([36581631,   295459], dtype=int64))\n",
      "(18605, 19480, 2)\n"
     ]
    },
    {
     "name": "stderr",
     "output_type": "stream",
     "text": [
      "ic| predicted_test.shape: (144970160,)\n",
      "ic| predicted_test.shape: (36877090,)\n",
      "ic| np.unique(predicted, return_counts=True): (array([0, 1], dtype=int8), array([361783592,    641808], dtype=int64))\n",
      "    np.unique(predicted_larger_than_min_area, return_counts=True): (array([0, 1], dtype=int8), array([361876088,    549312], dtype=int64))\n",
      "ic| np.unique(ignored_polygons, return_counts=True): (array([0, 1], dtype=int8), array([362332904,     92496], dtype=int64))\n",
      "ic| self.f1: 87.75, self.precision: 87.47, self.recall: 88.04\n",
      "ic| self.label_mask_val.shape: (43491048,)\n",
      "ic| self.label_mask_val_valid.shape: (10769086,)\n",
      "ic| f1_val: 50.71\n",
      "    precision_val: 44.12\n",
      "    recall_val: 59.6\n",
      "    mAP_val: 56.41\n"
     ]
    },
    {
     "name": "stdout",
     "output_type": "stream",
     "text": [
      "(array([0, 1], dtype=int16), array([362211969,    213431], dtype=int64))\n",
      "[0 1]\n"
     ]
    },
    {
     "name": "stderr",
     "output_type": "stream",
     "text": [
      "ic| self.label_mask.shape: (18605, 19480)\n",
      "ic| self.mask_test.shape: (18605, 19480)\n",
      "ic| self.label_mask_test.shape: (144970160,)\n",
      "ic| self.error_mask_test.shape: (36842664,)\n",
      "ic| bounds: (0.00043726791265420614, 0.4985)\n"
     ]
    },
    {
     "name": "stdout",
     "output_type": "stream",
     "text": [
      "(0.00043726791265420614, 0.4985)\n",
      "0.1906803030403874\n",
      "threshold 0.1906803030403874\n"
     ]
    },
    {
     "name": "stderr",
     "output_type": "stream",
     "text": [
      "c:\\Users\\jchamorro\\Anaconda3\\envs\\tf2\\lib\\site-packages\\scipy\\optimize\\_minimize.py:783: RuntimeWarning: Method 'bounded' does not support relative tolerance in x; defaulting to absolute tolerance.\n",
      "  warn(\"Method 'bounded' does not support relative tolerance in x; \"\n",
      "ic| label_current_deforestation_test_classified_incorrect.shape: (7798933,)\n",
      "    predicted_test_classified_incorrect.shape: (7798933,)\n",
      "ic| TP_H + FN_H + FP_H + TN_H: 7798933\n",
      "    len(label_mask_current_deforestation_test): 36842664\n",
      "ic| TP_H + FN_H + FP_H + TN_H: 7798933\n",
      "    len(label_mask_current_deforestation_test): 36842664\n"
     ]
    },
    {
     "name": "stdout",
     "output_type": "stream",
     "text": [
      "[1.         0.90585982 0.35675356 0.21168211 0.8058588  0.86388806\n",
      " 0.00772122]\n",
      "0.3082569648722667\n",
      "threshold 0.3082569648722667\n"
     ]
    },
    {
     "name": "stderr",
     "output_type": "stream",
     "text": [
      "ic| label_current_deforestation_test_classified_incorrect.shape: (4247839,)\n",
      "    predicted_test_classified_incorrect.shape: (4247839,)\n",
      "ic| TP_H + FN_H + FP_H + TN_H: 4247839\n",
      "    len(label_mask_current_deforestation_test): 36842664\n",
      "ic| TP_H + FN_H + FP_H + TN_H: 4247839\n",
      "    len(label_mask_current_deforestation_test): 36842664\n"
     ]
    },
    {
     "name": "stdout",
     "output_type": "stream",
     "text": [
      "[0.99200444 0.94093734 0.6495825  0.11529674 0.65623555 0.74548787\n",
      " 0.01354522]\n",
      "0.38092333816812063\n",
      "threshold 0.38092333816812063\n"
     ]
    },
    {
     "name": "stderr",
     "output_type": "stream",
     "text": [
      "ic| label_current_deforestation_test_classified_incorrect.shape: (2681342,)\n",
      "    predicted_test_classified_incorrect.shape: (2681342,)\n",
      "ic| TP_H + FN_H + FP_H + TN_H: 2681342\n",
      "    len(label_mask_current_deforestation_test): 36842664\n",
      "ic| TP_H + FN_H + FP_H + TN_H: 2681342\n",
      "    len(label_mask_current_deforestation_test): 36842664\n"
     ]
    },
    {
     "name": "stdout",
     "output_type": "stream",
     "text": [
      "[0.9861187  0.94352003 0.74288967 0.07277818 0.54310039 0.64676398\n",
      " 0.02044368]\n",
      "0.42583362670414604\n",
      "threshold 0.42583362670414604\n"
     ]
    },
    {
     "name": "stderr",
     "output_type": "stream",
     "text": [
      "ic| label_current_deforestation_test_classified_incorrect.shape: (1869166,)\n",
      "    predicted_test_classified_incorrect.shape: (1869166,)\n",
      "ic| TP_H + FN_H + FP_H + TN_H: 1869166\n",
      "    len(label_mask_current_deforestation_test): 36842664\n",
      "ic| TP_H + FN_H + FP_H + TN_H: 1869166\n",
      "    len(label_mask_current_deforestation_test): 36842664\n"
     ]
    },
    {
     "name": "stdout",
     "output_type": "stream",
     "text": [
      "[0.97883366 0.94271419 0.79741575 0.05073374 0.43249189 0.53852717\n",
      " 0.02755498]\n",
      "0.45358971146397453\n",
      "threshold 0.45358971146397453\n"
     ]
    },
    {
     "name": "stderr",
     "output_type": "stream",
     "text": [
      "ic| label_current_deforestation_test_classified_incorrect.shape: (1416875,)\n",
      "    predicted_test_classified_incorrect.shape: (1416875,)\n",
      "ic| TP_H + FN_H + FP_H + TN_H: 1416875\n",
      "    len(label_mask_current_deforestation_test): 36842664\n",
      "ic| TP_H + FN_H + FP_H + TN_H: 1416875\n",
      "    len(label_mask_current_deforestation_test): 36842664\n"
     ]
    },
    {
     "name": "stdout",
     "output_type": "stream",
     "text": [
      "[0.96835301 0.94107498 0.83616916 0.03845745 0.30926065 0.39693922\n",
      " 0.03332657]\n",
      "0.4707439152401715\n",
      "threshold 0.4707439152401715\n"
     ]
    },
    {
     "name": "stderr",
     "output_type": "stream",
     "text": [
      "ic| label_current_deforestation_test_classified_incorrect.shape: (1154755,)\n",
      "    predicted_test_classified_incorrect.shape: (1154755,)\n",
      "ic| TP_H + FN_H + FP_H + TN_H: 1154755\n",
      "    len(label_mask_current_deforestation_test): 36842664\n",
      "ic| TP_H + FN_H + FP_H + TN_H: 1154755\n",
      "    len(label_mask_current_deforestation_test): 36842664\n"
     ]
    },
    {
     "name": "stdout",
     "output_type": "stream",
     "text": [
      "[0.94025471 0.93880937 0.85381392 0.03134287 0.2700671  0.29385009\n",
      " 0.03308344]\n",
      "0.481345796223803\n",
      "threshold 0.481345796223803\n"
     ]
    },
    {
     "name": "stderr",
     "output_type": "stream",
     "text": [
      "ic| label_current_deforestation_test_classified_incorrect.shape: (996267,)\n",
      "    predicted_test_classified_incorrect.shape: (996267,)\n",
      "ic| TP_H + FN_H + FP_H + TN_H: 996267\n",
      "    len(label_mask_current_deforestation_test): 36842664\n",
      "ic| TP_H + FN_H + FP_H + TN_H: 996267\n",
      "    len(label_mask_current_deforestation_test): 36842664\n"
     ]
    },
    {
     "name": "stdout",
     "output_type": "stream",
     "text": [
      "[0.91266781 0.93678954 0.86408795 0.02704112 0.27305867 0.21041602\n",
      " 0.02919065]\n",
      "0.4723151446424482\n",
      "threshold 0.4723151446424482\n"
     ]
    },
    {
     "name": "stderr",
     "output_type": "stream",
     "text": [
      "ic| label_current_deforestation_test_classified_incorrect.shape: (1131129,)\n",
      "    predicted_test_classified_incorrect.shape: (1131129,)\n",
      "ic| TP_H + FN_H + FP_H + TN_H: 1131129\n",
      "    len(label_mask_current_deforestation_test): 36842664\n",
      "ic| TP_H + FN_H + FP_H + TN_H: 1131129\n",
      "    len(label_mask_current_deforestation_test): 36842664\n"
     ]
    },
    {
     "name": "stdout",
     "output_type": "stream",
     "text": [
      "[0.93638664 0.93848438 0.85529152 0.03070161 0.26965499 0.28344459\n",
      " 0.03266155]\n",
      "0.4748170534936987\n",
      "threshold 0.4748170534936987\n"
     ]
    },
    {
     "name": "stderr",
     "output_type": "stream",
     "text": [
      "ic| label_current_deforestation_test_classified_incorrect.shape: (1093572,)\n",
      "    predicted_test_classified_incorrect.shape: (1093572,)\n",
      "ic| TP_H + FN_H + FP_H + TN_H: 1093572\n",
      "    len(label_mask_current_deforestation_test): 36842664\n",
      "ic| TP_H + FN_H + FP_H + TN_H: 1093572\n",
      "    len(label_mask_current_deforestation_test): 36842664\n"
     ]
    },
    {
     "name": "stdout",
     "output_type": "stream",
     "text": [
      "[0.93008061 0.93799036 0.85761002 0.02968222 0.26993488 0.26615248\n",
      " 0.03189741]\n",
      "0.4747837131176903\n",
      "threshold 0.4747837131176903\n"
     ]
    },
    {
     "name": "stderr",
     "output_type": "stream",
     "text": [
      "ic| label_current_deforestation_test_classified_incorrect.shape: (1094053,)\n",
      "    predicted_test_classified_incorrect.shape: (1094053,)\n",
      "ic| TP_H + FN_H + FP_H + TN_H: 1094053\n",
      "    len(label_mask_current_deforestation_test): 36842664\n",
      "ic| TP_H + FN_H + FP_H + TN_H: 1094053\n",
      "    len(label_mask_current_deforestation_test): 36842664\n"
     ]
    },
    {
     "name": "stdout",
     "output_type": "stream",
     "text": [
      "[0.93016177 0.93800577 0.85757541 0.02969527 0.26996851 0.26639493\n",
      " 0.03191032]\n",
      "0.47391354280538384\n",
      "threshold 0.47391354280538384\n"
     ]
    },
    {
     "name": "stderr",
     "output_type": "stream",
     "text": [
      "ic| label_current_deforestation_test_classified_incorrect.shape: (1107016,)\n",
      "    predicted_test_classified_incorrect.shape: (1107016,)\n",
      "ic| TP_H + FN_H + FP_H + TN_H: 1107016\n",
      "    len(label_mask_current_deforestation_test): 36842664\n",
      "ic| TP_H + FN_H + FP_H + TN_H: 1107016\n",
      "    len(label_mask_current_deforestation_test): 36842664\n"
     ]
    },
    {
     "name": "stdout",
     "output_type": "stream",
     "text": [
      "[0.9325833  0.93818062 0.85680027 0.03004712 0.26888075 0.27227032\n",
      " 0.03224591]\n",
      "0.47330300903469785\n",
      "threshold 0.47330300903469785\n"
     ]
    },
    {
     "name": "stderr",
     "output_type": "stream",
     "text": [
      "ic| label_current_deforestation_test_classified_incorrect.shape: (1116168,)\n",
      "    predicted_test_classified_incorrect.shape: (1116168,)\n",
      "ic| TP_H + FN_H + FP_H + TN_H: 1116168\n",
      "    len(label_mask_current_deforestation_test): 36842664\n",
      "ic| TP_H + FN_H + FP_H + TN_H: 1116168\n",
      "    len(label_mask_current_deforestation_test): 36842664\n"
     ]
    },
    {
     "name": "stdout",
     "output_type": "stream",
     "text": [
      "[0.93411456 0.93829089 0.85622238 0.03029553 0.26895411 0.27662605\n",
      " 0.03242823]\n",
      "0.4740368190153186\n",
      "threshold 0.4740368190153186\n"
     ]
    },
    {
     "name": "stderr",
     "output_type": "stream",
     "text": [
      "ic| label_current_deforestation_test_classified_incorrect.shape: (1105159,)\n",
      "    predicted_test_classified_incorrect.shape: (1105159,)\n",
      "ic| TP_H + FN_H + FP_H + TN_H: 1105159\n",
      "    len(label_mask_current_deforestation_test): 36842664\n",
      "ic| TP_H + FN_H + FP_H + TN_H: 1105159\n",
      "    len(label_mask_current_deforestation_test): 36842664\n"
     ]
    },
    {
     "name": "stdout",
     "output_type": "stream",
     "text": [
      "[0.93226139 0.93815613 0.85691101 0.02999672 0.26895514 0.2714377\n",
      " 0.03220515]\n",
      "0.47432210717642775\n",
      "threshold 0.47432210717642775\n"
     ]
    },
    {
     "name": "stderr",
     "output_type": "stream",
     "text": [
      "ic| label_current_deforestation_test_classified_incorrect.shape: (1100899,)\n",
      "    predicted_test_classified_incorrect.shape: (1100899,)\n",
      "ic| TP_H + FN_H + FP_H + TN_H: 1100899\n",
      "    len(label_mask_current_deforestation_test): 36842664\n",
      "ic| TP_H + FN_H + FP_H + TN_H: 1100899\n",
      "    len(label_mask_current_deforestation_test): 36842664\n"
     ]
    },
    {
     "name": "stdout",
     "output_type": "stream",
     "text": [
      "[0.93143412 0.93810833 0.85714978 0.02988109 0.26953141 0.26961787\n",
      " 0.03209053]\n",
      "0.4740706533737715\n",
      "threshold 0.4740706533737715\n"
     ]
    },
    {
     "name": "stderr",
     "output_type": "stream",
     "text": [
      "ic| label_current_deforestation_test_classified_incorrect.shape: (1104652,)\n",
      "    predicted_test_classified_incorrect.shape: (1104652,)\n",
      "ic| TP_H + FN_H + FP_H + TN_H: 1104652\n",
      "    len(label_mask_current_deforestation_test): 36842664\n",
      "ic| TP_H + FN_H + FP_H + TN_H: 1104652\n",
      "    len(label_mask_current_deforestation_test): 36842664\n"
     ]
    },
    {
     "name": "stdout",
     "output_type": "stream",
     "text": [
      "[0.93219427 0.93815538 0.85695253 0.02998296 0.26882061 0.27109903\n",
      " 0.03220046]\n",
      "0.474003478650883\n",
      "threshold 0.474003478650883\n"
     ]
    },
    {
     "name": "stderr",
     "output_type": "stream",
     "text": [
      "ic| label_current_deforestation_test_classified_incorrect.shape: (1105668,)\n",
      "    predicted_test_classified_incorrect.shape: (1105668,)\n",
      "ic| TP_H + FN_H + FP_H + TN_H: 1105668\n",
      "    len(label_mask_current_deforestation_test): 36842664\n",
      "ic| TP_H + FN_H + FP_H + TN_H: 1105668\n",
      "    len(label_mask_current_deforestation_test): 36842664\n",
      "ic| self.threshold_optimal: 0.4740368190153186\n"
     ]
    },
    {
     "name": "stdout",
     "output_type": "stream",
     "text": [
      "[0.93235387 0.93815757 0.85687986 0.03001053 0.26892816 0.27168877\n",
      " 0.03221613]\n",
      "threshold:  0.4740368190153186\n",
      "threshold 0.4740368190153186\n"
     ]
    },
    {
     "name": "stderr",
     "output_type": "stream",
     "text": [
      "ic| label_current_deforestation_test_classified_incorrect.shape: (1105159,)\n",
      "    predicted_test_classified_incorrect.shape: (1105159,)\n",
      "ic| TP_H + FN_H + FP_H + TN_H: 1105159\n",
      "    len(label_mask_current_deforestation_test): 36842664\n",
      "ic| TP_H + FN_H + FP_H + TN_H: 1105159\n",
      "    len(label_mask_current_deforestation_test): 36842664\n"
     ]
    },
    {
     "name": "stdout",
     "output_type": "stream",
     "text": [
      "[0.93226139 0.93815613 0.85691101 0.02999672 0.26895514 0.2714377\n",
      " 0.03220515]\n",
      "threshold 0.4740368190153186\n",
      "(36842664,) (36842664,)\n"
     ]
    },
    {
     "name": "stderr",
     "output_type": "stream",
     "text": [
      "ic| self.m_optimal: {'AA': array([0.02999672]),\n",
      "                     'UEO': array([0.03220515]),\n",
      "                     'f1': 87.75,\n",
      "                     'f1_H': array([0.27019072]),\n",
      "                     'f1_L': array([0.93519947]),\n",
      "                     'precision_H': array([0.26895514]),\n",
      "                     'precision_L': array([0.93226139]),\n",
      "                     'recall_H': array([0.2714377]),\n",
      "                     'recall_L': array([0.93815613]),\n",
      "                     'recall_Ltotal': array([0.85691101])}\n",
      "ic| self.m_audited_optimal: {'f1': array([0.94079509]),\n",
      "                             'precision': array([0.93809393]),\n",
      "                             'recall': array([0.94351186])}\n"
     ]
    },
    {
     "name": "stdout",
     "output_type": "stream",
     "text": [
      "cm_audited [[36535690    17993]\n",
      " [   16324   272657]]\n",
      "[0.93809393 0.94351186]\n",
      "Result idx 12: {'uncertainty_result': {'metrics': {'precision_L': array([0.93226139]), 'recall_L': array([0.93815613]), 'recall_Ltotal': array([0.85691101]), 'AA': array([0.02999672]), 'precision_H': array([0.26895514]), 'recall_H': array([0.2714377]), 'UEO': array([0.03220515]), 'f1_L': array([0.93519947]), 'f1_H': array([0.27019072]), 'f1': 87.75}, 'metrics_audited': {'precision': array([0.93809393]), 'recall': array([0.94351186]), 'f1': array([0.94079509])}, 'exp': 41}}\n",
      "Grid execution idx: 12\n",
      "Beginning run number 13\n",
      "manager.config {'training': True, 'inferring': True, 'site': 'MS', 'training_date': 'current', 'mode': 'evidential2', 'training_times': 20, 'uncertainty_method': 'pred_entropy', 'loadInference': False, 'removePolygons': True, 'plotLandsat': False, 'plotPOI': False, 'training_experiment_id': 41, 'get_multiple_metrics': False, 'start_repetition_id': 0, 'end_repetition_id': 20, 'save_probabilities': False, 'addPastDeforestationInput': True, 'classes_mode': True, 'learning_rate': 0.0001, 'use_cloud_mask': False, 'mask_out_non_biome': False, 'log_filename': 'log.pkl', 'inference_times': 1, 'dropout_training': False}\n",
      "D:/Jorge/datasets/deforestation/MS/deforestation_past_years.tif\n",
      "Loaded deforestation past years\n"
     ]
    },
    {
     "name": "stderr",
     "output_type": "stream",
     "text": [
      "ic| np.unique(deforestation_past_years, return_counts=True): (array([   0, 2002, 2004, 2006, 2008, 2010, 2012, 2013, 2014, 2015, 2016,\n",
      "                                                                    2017, 2018, 2019, 2020, 2021], dtype=uint16),\n",
      "                                                              array([334024764,   8717093,   6541094,   3824922,   2096535,   1305948,\n",
      "                                                                      1003721,    903906,    318788,    701575,    310887,    440417,\n",
      "                                                                       316180,    560438,    600838,    776899], dtype=int64))\n"
     ]
    },
    {
     "name": "stdout",
     "output_type": "stream",
     "text": [
      "Label where deforestation past years is actual date (2020) = 1\n"
     ]
    },
    {
     "name": "stderr",
     "output_type": "stream",
     "text": [
      "ic| np.unique(deforestation_past_years, return_counts=True): (array([   0, 2002, 2004, 2006, 2008, 2010, 2012, 2013, 2014, 2015, 2016,\n",
      "                                                                    2017, 2018, 2019, 2020, 2021], dtype=uint16),\n",
      "                                                              array([334024764,   8717093,   6541094,   3824922,   2096535,   1305948,\n",
      "                                                                      1003721,    903906,    318788,    701575,    310887,    440417,\n",
      "                                                                       316180,    560438,    600838,    776899], dtype=int64))\n"
     ]
    },
    {
     "name": "stdout",
     "output_type": "stream",
     "text": [
      "Past deforestation different from 0 (no deforestation)\n"
     ]
    },
    {
     "name": "stderr",
     "output_type": "stream",
     "text": [
      "ic| np.unique(deforestation_past_years, return_counts=True): (array([   0, 2002, 2004, 2006, 2008, 2010, 2012, 2013, 2014, 2015, 2016,\n",
      "                                                                    2017, 2018, 2019, 2020, 2021], dtype=uint16),\n",
      "                                                              array([334024764,   8717093,   6541094,   3824922,   2096535,   1305948,\n",
      "                                                                      1003721,    903906,    318788,    701575,    310887,    440417,\n",
      "                                                                       316180,    560438,    600838,    776899], dtype=int64))\n"
     ]
    },
    {
     "name": "stdout",
     "output_type": "stream",
     "text": [
      "Past deforestation before 2008 is 2\n",
      "D:/Jorge/datasets/deforestation/MS/deforestation_before_2000_MS.tif\n"
     ]
    },
    {
     "name": "stderr",
     "output_type": "stream",
     "text": [
      "ic| np.unique(label_past_deforestation_before_2008, return_counts=True): (array([  0, 208], dtype=uint8), array([126708038, 235735967], dtype=int64))\n",
      "ic| np.unique(deforestation_past_years, return_counts=True): (array([   0, 2002, 2004, 2006, 2008, 2010, 2012, 2013, 2014, 2015, 2016,\n",
      "                                                                    2017, 2018, 2019, 2020, 2021], dtype=uint16),\n",
      "                                                              array([334024764,   8717093,   6541094,   3824922,   2096535,   1305948,\n",
      "                                                                      1003721,    903906,    318788,    701575,    310887,    440417,\n",
      "                                                                       316180,    560438,    600838,    776899], dtype=int64))\n",
      "ic| label_per_date.shape: (18605, 19481, 1)\n"
     ]
    },
    {
     "name": "stdout",
     "output_type": "stream",
     "text": [
      "Removing bufer................\n",
      "Mask label shape:  \n",
      " (18605, 19481, 1) \n",
      " Unique values:  \n",
      " [0 1 2]\n",
      "Tiles size:  3721 3896\n",
      "Mask size:  (18605, 19480)\n"
     ]
    },
    {
     "name": "stderr",
     "output_type": "stream",
     "text": [
      "ic| image_stack.shape: (18605, 19481, 9)\n"
     ]
    },
    {
     "name": "stdout",
     "output_type": "stream",
     "text": [
      "Image shape:  (18605, 19481, 9)\n",
      "mask:  (18605, 19480)\n",
      "image stack:  (18605, 19480, 9)\n",
      "ref : (18605, 19480, 1)\n",
      "Training tiles:  [2, 4, 5, 6, 7, 12, 14, 15, 18, 21, 23, 24]\n",
      "Validation tiles:  [9, 11, 25]\n",
      "Test tiles:  [1, 3, 8, 10, 13, 16, 17, 19, 20, 22]\n",
      "-35.0 -8.0\n"
     ]
    },
    {
     "name": "stderr",
     "output_type": "stream",
     "text": [
      "ic| self.path_models+ '/' + self.method +'_'+str(self.repetition_id)+'.h5': 'D:/Jorge/datasets/deforestation/experiments/MS/exp41/models/resunet_13.h5'\n"
     ]
    },
    {
     "name": "stdout",
     "output_type": "stream",
     "text": [
      "Dropout training mode: False\n",
      "time:  0\n",
      "alpha.shape (18640, 19488, 2)\n",
      "S.shape (18640, 19488)\n",
      "K 2\n",
      "u.shape (18640, 19488)\n",
      "belief.shape (18640, 19488, 2)\n",
      "Inference runtime 258.46\n",
      "(36877090,)\n",
      "(array([0, 1], dtype=uint8), array([36581631,   295459], dtype=int64))\n",
      "(18605, 19480, 2)\n"
     ]
    },
    {
     "name": "stderr",
     "output_type": "stream",
     "text": [
      "ic| predicted_test.shape: (144970160,)\n",
      "ic| predicted_test.shape: (36877090,)\n",
      "ic| np.unique(predicted, return_counts=True): (array([0, 1], dtype=int8), array([361503820,    921580], dtype=int64))\n",
      "    np.unique(predicted_larger_than_min_area, return_counts=True): (array([0, 1], dtype=int8), array([361581505,    843895], dtype=int64))\n",
      "ic| np.unique(ignored_polygons, return_counts=True): (array([0, 1], dtype=int8), array([362347715,     77685], dtype=int64))\n",
      "ic| self.f1: 83.82, self.precision: 79.04, self.recall: 89.21\n",
      "ic| self.label_mask_val.shape: (43491048,)\n",
      "ic| self.label_mask_val_valid.shape: (10768490,)\n",
      "ic| f1_val: 43.4\n",
      "    precision_val: 32.41\n",
      "    recall_val: 65.65\n",
      "    mAP_val: 59.24\n"
     ]
    },
    {
     "name": "stdout",
     "output_type": "stream",
     "text": [
      "(array([0, 1], dtype=int16), array([361956996,    468404], dtype=int64))\n",
      "[0 1]\n"
     ]
    },
    {
     "name": "stderr",
     "output_type": "stream",
     "text": [
      "ic| self.label_mask.shape: (18605, 19480)\n",
      "ic| self.mask_test.shape: (18605, 19480)\n",
      "ic| self.label_mask_test.shape: (144970160,)\n",
      "ic| self.error_mask_test.shape: (36843888,)\n",
      "ic| bounds: (0.00010578750008484349, 0.4985)\n"
     ]
    },
    {
     "name": "stdout",
     "output_type": "stream",
     "text": [
      "(0.00010578750008484349, 0.4985)\n",
      "0.19047543687881469\n",
      "threshold 0.19047543687881469\n"
     ]
    },
    {
     "name": "stderr",
     "output_type": "stream",
     "text": [
      "c:\\Users\\jchamorro\\Anaconda3\\envs\\tf2\\lib\\site-packages\\scipy\\optimize\\_minimize.py:783: RuntimeWarning: Method 'bounded' does not support relative tolerance in x; defaulting to absolute tolerance.\n",
      "  warn(\"Method 'bounded' does not support relative tolerance in x; \"\n",
      "ic| label_current_deforestation_test_classified_incorrect.shape: (3075758,)\n",
      "    predicted_test_classified_incorrect.shape: (3075758,)\n",
      "ic| TP_H + FN_H + FP_H + TN_H: 3075758\n",
      "    len(label_mask_current_deforestation_test): 36843888\n",
      "ic| TP_H + FN_H + FP_H + TN_H: 3075758\n",
      "    len(label_mask_current_deforestation_test): 36843888\n"
     ]
    },
    {
     "name": "stdout",
     "output_type": "stream",
     "text": [
      "[0.97823577 0.94795803 0.7186986  0.08348082 0.44024227 0.71718425\n",
      " 0.02710007]\n",
      "0.30813035062127003\n",
      "threshold 0.30813035062127003\n"
     ]
    },
    {
     "name": "stderr",
     "output_type": "stream",
     "text": [
      "ic| label_current_deforestation_test_classified_incorrect.shape: (1602288,)\n",
      "    predicted_test_classified_incorrect.shape: (1602288,)\n",
      "ic| TP_H + FN_H + FP_H + TN_H: 1602288\n",
      "    len(label_mask_current_deforestation_test): 36843888\n",
      "ic| TP_H + FN_H + FP_H + TN_H: 1602288\n",
      "    len(label_mask_current_deforestation_test): 36843888\n"
     ]
    },
    {
     "name": "stdout",
     "output_type": "stream",
     "text": [
      "[0.93593868 0.94745336 0.78951016 0.04348857 0.35997291 0.61568376\n",
      " 0.04384674]\n",
      "0.38084508625754454\n",
      "threshold 0.38084508625754454\n"
     ]
    },
    {
     "name": "stderr",
     "output_type": "stream",
     "text": [
      "ic| label_current_deforestation_test_classified_incorrect.shape: (1004839,)\n",
      "    predicted_test_classified_incorrect.shape: (1004839,)\n",
      "ic| TP_H + FN_H + FP_H + TN_H: 1004839\n",
      "    len(label_mask_current_deforestation_test): 36843888\n",
      "ic| TP_H + FN_H + FP_H + TN_H: 1004839\n",
      "    len(label_mask_current_deforestation_test): 36843888\n"
     ]
    },
    {
     "name": "stdout",
     "output_type": "stream",
     "text": [
      "[0.89673844 0.94636    0.82180382 0.02727288 0.33143776 0.53445294\n",
      " 0.05633731]\n",
      "0.4178892372980968\n",
      "threshold 0.4178892372980968\n"
     ]
    },
    {
     "name": "stderr",
     "output_type": "stream",
     "text": [
      "ic| label_current_deforestation_test_classified_incorrect.shape: (766415,)\n",
      "    predicted_test_classified_incorrect.shape: (766415,)\n",
      "ic| TP_H + FN_H + FP_H + TN_H: 766415\n",
      "    len(label_mask_current_deforestation_test): 36843888\n",
      "ic| TP_H + FN_H + FP_H + TN_H: 766415\n",
      "    len(label_mask_current_deforestation_test): 36843888\n"
     ]
    },
    {
     "name": "stdout",
     "output_type": "stream",
     "text": [
      "[0.87267462 0.94499819 0.83857653 0.02080169 0.31935451 0.47568743\n",
      " 0.06155628]\n",
      "0.3696575571399675\n",
      "threshold 0.3696575571399675\n"
     ]
    },
    {
     "name": "stderr",
     "output_type": "stream",
     "text": [
      "ic| label_current_deforestation_test_classified_incorrect.shape: (1084600,)\n",
      "    predicted_test_classified_incorrect.shape: (1084600,)\n",
      "ic| TP_H + FN_H + FP_H + TN_H: 1084600\n",
      "    len(label_mask_current_deforestation_test): 36843888\n",
      "ic| TP_H + FN_H + FP_H + TN_H: 1084600\n",
      "    len(label_mask_current_deforestation_test): 36843888\n"
     ]
    },
    {
     "name": "stdout",
     "output_type": "stream",
     "text": [
      "[0.90377148 0.94669783 0.8170796  0.02943772 0.33423408 0.54826848\n",
      " 0.05457589]\n",
      "0.34615625548265916\n",
      "threshold 0.34615625548265916\n"
     ]
    },
    {
     "name": "stderr",
     "output_type": "stream",
     "text": [
      "ic| label_current_deforestation_test_classified_incorrect.shape: (1266032,)\n",
      "    predicted_test_classified_incorrect.shape: (1266032,)\n",
      "ic| TP_H + FN_H + FP_H + TN_H: 1266032\n",
      "    len(label_mask_current_deforestation_test): 36843888\n",
      "ic| TP_H + FN_H + FP_H + TN_H: 1266032\n",
      "    len(label_mask_current_deforestation_test): 36843888\n"
     ]
    },
    {
     "name": "stdout",
     "output_type": "stream",
     "text": [
      "[0.91790383 0.94711756 0.80719323 0.03436206 0.34078931 0.57502976\n",
      " 0.0506616 ]\n",
      "0.3658021889991286\n",
      "threshold 0.3658021889991286\n"
     ]
    },
    {
     "name": "stderr",
     "output_type": "stream",
     "text": [
      "ic| label_current_deforestation_test_classified_incorrect.shape: (1113265,)\n",
      "    predicted_test_classified_incorrect.shape: (1113265,)\n",
      "ic| TP_H + FN_H + FP_H + TN_H: 1113265\n",
      "    len(label_mask_current_deforestation_test): 36843888\n",
      "ic| TP_H + FN_H + FP_H + TN_H: 1113265\n",
      "    len(label_mask_current_deforestation_test): 36843888\n"
     ]
    },
    {
     "name": "stdout",
     "output_type": "stream",
     "text": [
      "[0.90621181 0.94680421 0.81561406 0.03021573 0.33472084 0.55233687\n",
      " 0.05395154]\n",
      "0.361204981056997\n",
      "threshold 0.361204981056997\n"
     ]
    },
    {
     "name": "stderr",
     "output_type": "stream",
     "text": [
      "ic| label_current_deforestation_test_classified_incorrect.shape: (1147857,)\n",
      "    predicted_test_classified_incorrect.shape: (1147857,)\n",
      "ic| TP_H + FN_H + FP_H + TN_H: 1147857\n",
      "    len(label_mask_current_deforestation_test): 36843888\n",
      "ic| TP_H + FN_H + FP_H + TN_H: 1147857\n",
      "    len(label_mask_current_deforestation_test): 36843888\n"
     ]
    },
    {
     "name": "stdout",
     "output_type": "stream",
     "text": [
      "[0.90905063 0.94692258 0.81372093 0.03115461 0.33581395 0.55752212\n",
      " 0.05320535]\n",
      "0.3664382339851623\n",
      "threshold 0.3664382339851623\n"
     ]
    },
    {
     "name": "stderr",
     "output_type": "stream",
     "text": [
      "ic| label_current_deforestation_test_classified_incorrect.shape: (1108519,)\n",
      "    predicted_test_classified_incorrect.shape: (1108519,)\n",
      "ic| TP_H + FN_H + FP_H + TN_H: 1108519\n",
      "    len(label_mask_current_deforestation_test): 36843888\n",
      "ic| TP_H + FN_H + FP_H + TN_H: 1108519\n",
      "    len(label_mask_current_deforestation_test): 36843888\n"
     ]
    },
    {
     "name": "stdout",
     "output_type": "stream",
     "text": [
      "[0.90587406 0.94677071 0.81586924 0.03008692 0.33450784 0.55168974\n",
      " 0.05406641]\n",
      "0.36723505894420255\n",
      "threshold 0.36723505894420255\n"
     ]
    },
    {
     "name": "stderr",
     "output_type": "stream",
     "text": [
      "ic| label_current_deforestation_test_classified_incorrect.shape: (1102603,)\n",
      "    predicted_test_classified_incorrect.shape: (1102603,)\n",
      "ic| TP_H + FN_H + FP_H + TN_H: 1102603\n",
      "    len(label_mask_current_deforestation_test): 36843888\n",
      "ic| TP_H + FN_H + FP_H + TN_H: 1102603\n",
      "    len(label_mask_current_deforestation_test): 36843888\n"
     ]
    },
    {
     "name": "stdout",
     "output_type": "stream",
     "text": [
      "[0.90539295 0.94673995 0.81610717 0.02992635 0.33455213 0.55108212\n",
      " 0.05420082]\n",
      "0.3681603709172995\n",
      "threshold 0.3681603709172995\n"
     ]
    },
    {
     "name": "stderr",
     "output_type": "stream",
     "text": [
      "ic| label_current_deforestation_test_classified_incorrect.shape: (1095701,)\n",
      "    predicted_test_classified_incorrect.shape: (1095701,)\n",
      "ic| TP_H + FN_H + FP_H + TN_H: 1095701\n",
      "    len(label_mask_current_deforestation_test): 36843888\n",
      "ic| TP_H + FN_H + FP_H + TN_H: 1095701\n",
      "    len(label_mask_current_deforestation_test): 36843888\n"
     ]
    },
    {
     "name": "stdout",
     "output_type": "stream",
     "text": [
      "[0.90481813 0.94673208 0.81653132 0.02973902 0.33421734 0.54982197\n",
      " 0.05435595]\n",
      "0.36690080947110887\n",
      "threshold 0.36690080947110887\n"
     ]
    },
    {
     "name": "stderr",
     "output_type": "stream",
     "text": [
      "ic| label_current_deforestation_test_classified_incorrect.shape: (1105048,)\n",
      "    predicted_test_classified_incorrect.shape: (1105048,)\n",
      "ic| TP_H + FN_H + FP_H + TN_H: 1105048\n",
      "    len(label_mask_current_deforestation_test): 36843888\n",
      "ic| TP_H + FN_H + FP_H + TN_H: 1105048\n",
      "    len(label_mask_current_deforestation_test): 36843888\n"
     ]
    },
    {
     "name": "stdout",
     "output_type": "stream",
     "text": [
      "[0.90560037 0.94675629 0.81600372 0.02999271 0.33453526 0.55133583\n",
      " 0.05414852]\n",
      "0.3668545390695526\n",
      "threshold 0.3668545390695526\n"
     ]
    },
    {
     "name": "stderr",
     "output_type": "stream",
     "text": [
      "ic| label_current_deforestation_test_classified_incorrect.shape: (1105382,)\n",
      "    predicted_test_classified_incorrect.shape: (1105382,)\n",
      "ic| TP_H + FN_H + FP_H + TN_H: 1105382\n",
      "    len(label_mask_current_deforestation_test): 36843888\n",
      "ic| TP_H + FN_H + FP_H + TN_H: 1105382\n",
      "    len(label_mask_current_deforestation_test): 36843888\n"
     ]
    },
    {
     "name": "stdout",
     "output_type": "stream",
     "text": [
      "[0.90562247 0.9467588  0.81598303 0.03000177 0.33456027 0.55138927\n",
      " 0.05414007]\n",
      "0.3666955246770049\n",
      "threshold 0.3666955246770049\n"
     ]
    },
    {
     "name": "stderr",
     "output_type": "stream",
     "text": [
      "ic| label_current_deforestation_test_classified_incorrect.shape: (1106569,)\n",
      "    predicted_test_classified_incorrect.shape: (1106569,)\n",
      "ic| TP_H + FN_H + FP_H + TN_H: 1106569\n",
      "    len(label_mask_current_deforestation_test): 36843888\n",
      "ic| TP_H + FN_H + FP_H + TN_H: 1106569\n",
      "    len(label_mask_current_deforestation_test): 36843888\n"
     ]
    },
    {
     "name": "stdout",
     "output_type": "stream",
     "text": [
      "[0.90570515 0.94676024 0.8159451  0.03003399 0.33454446 0.55149866\n",
      " 0.05410787]\n",
      "0.36682120029488713\n",
      "threshold 0.36682120029488713\n"
     ]
    },
    {
     "name": "stderr",
     "output_type": "stream",
     "text": [
      "ic| label_current_deforestation_test_classified_incorrect.shape: (1105640,)\n",
      "    predicted_test_classified_incorrect.shape: (1105640,)\n",
      "ic| TP_H + FN_H + FP_H + TN_H: 1105640\n",
      "    len(label_mask_current_deforestation_test): 36843888\n",
      "ic| TP_H + FN_H + FP_H + TN_H: 1105640\n",
      "    len(label_mask_current_deforestation_test): 36843888\n",
      "ic| self.threshold_optimal: 0.3668545390695526\n"
     ]
    },
    {
     "name": "stdout",
     "output_type": "stream",
     "text": [
      "[0.90565641 0.94675837 0.81597614 0.03000878 0.33452976 0.55141167\n",
      " 0.05413708]\n",
      "threshold:  0.3668545390695526\n",
      "threshold 0.3668545390695526\n"
     ]
    },
    {
     "name": "stderr",
     "output_type": "stream",
     "text": [
      "ic| label_current_deforestation_test_classified_incorrect.shape: (1105382,)\n",
      "    predicted_test_classified_incorrect.shape: (1105382,)\n",
      "ic| TP_H + FN_H + FP_H + TN_H: 1105382\n",
      "    len(label_mask_current_deforestation_test): 36843888\n",
      "ic| TP_H + FN_H + FP_H + TN_H: 1105382\n",
      "    len(label_mask_current_deforestation_test): 36843888\n"
     ]
    },
    {
     "name": "stdout",
     "output_type": "stream",
     "text": [
      "[0.90562247 0.9467588  0.81598303 0.03000177 0.33456027 0.55138927\n",
      " 0.05414007]\n",
      "threshold 0.3668545390695526\n",
      "(36843888,) (36843888,)\n"
     ]
    },
    {
     "name": "stderr",
     "output_type": "stream",
     "text": [
      "ic| self.m_optimal: {'AA': array([0.03000177]),\n",
      "                     'UEO': array([0.05414007]),\n",
      "                     'f1': 83.82,\n",
      "                     'f1_H': array([0.4164412]),\n",
      "                     'f1_L': array([0.92573387]),\n",
      "                     'precision_H': array([0.33456027]),\n",
      "                     'precision_L': array([0.90562247]),\n",
      "                     'recall_H': array([0.55138927]),\n",
      "                     'recall_L': array([0.9467588]),\n",
      "                     'recall_Ltotal': array([0.81598303])}\n",
      "ic| self.m_audited_optimal: {'f1': array([0.9357953]),\n",
      "                             'precision': array([0.9181677]),\n",
      "                             'recall': array([0.954113])}\n"
     ]
    },
    {
     "name": "stdout",
     "output_type": "stream",
     "text": [
      "cm_audited [[36529233    24660]\n",
      " [   13307   276688]]\n",
      "[0.9181677 0.954113 ]\n",
      "Result idx 13: {'uncertainty_result': {'metrics': {'precision_L': array([0.90562247]), 'recall_L': array([0.9467588]), 'recall_Ltotal': array([0.81598303]), 'AA': array([0.03000177]), 'precision_H': array([0.33456027]), 'recall_H': array([0.55138927]), 'UEO': array([0.05414007]), 'f1_L': array([0.92573387]), 'f1_H': array([0.4164412]), 'f1': 83.82}, 'metrics_audited': {'precision': array([0.9181677]), 'recall': array([0.954113]), 'f1': array([0.9357953])}, 'exp': 41}}\n",
      "Grid execution idx: 13\n",
      "Beginning run number 14\n",
      "manager.config {'training': True, 'inferring': True, 'site': 'MS', 'training_date': 'current', 'mode': 'evidential2', 'training_times': 20, 'uncertainty_method': 'pred_entropy', 'loadInference': False, 'removePolygons': True, 'plotLandsat': False, 'plotPOI': False, 'training_experiment_id': 41, 'get_multiple_metrics': False, 'start_repetition_id': 0, 'end_repetition_id': 20, 'save_probabilities': False, 'addPastDeforestationInput': True, 'classes_mode': True, 'learning_rate': 0.0001, 'use_cloud_mask': False, 'mask_out_non_biome': False, 'log_filename': 'log.pkl', 'inference_times': 1, 'dropout_training': False}\n",
      "D:/Jorge/datasets/deforestation/MS/deforestation_past_years.tif\n",
      "Loaded deforestation past years\n"
     ]
    },
    {
     "name": "stderr",
     "output_type": "stream",
     "text": [
      "ic| np.unique(deforestation_past_years, return_counts=True): (array([   0, 2002, 2004, 2006, 2008, 2010, 2012, 2013, 2014, 2015, 2016,\n",
      "                                                                    2017, 2018, 2019, 2020, 2021], dtype=uint16),\n",
      "                                                              array([334024764,   8717093,   6541094,   3824922,   2096535,   1305948,\n",
      "                                                                      1003721,    903906,    318788,    701575,    310887,    440417,\n",
      "                                                                       316180,    560438,    600838,    776899], dtype=int64))\n"
     ]
    },
    {
     "name": "stdout",
     "output_type": "stream",
     "text": [
      "Label where deforestation past years is actual date (2020) = 1\n"
     ]
    },
    {
     "name": "stderr",
     "output_type": "stream",
     "text": [
      "ic| np.unique(deforestation_past_years, return_counts=True): (array([   0, 2002, 2004, 2006, 2008, 2010, 2012, 2013, 2014, 2015, 2016,\n",
      "                                                                    2017, 2018, 2019, 2020, 2021], dtype=uint16),\n",
      "                                                              array([334024764,   8717093,   6541094,   3824922,   2096535,   1305948,\n",
      "                                                                      1003721,    903906,    318788,    701575,    310887,    440417,\n",
      "                                                                       316180,    560438,    600838,    776899], dtype=int64))\n"
     ]
    },
    {
     "name": "stdout",
     "output_type": "stream",
     "text": [
      "Past deforestation different from 0 (no deforestation)\n"
     ]
    },
    {
     "name": "stderr",
     "output_type": "stream",
     "text": [
      "ic| np.unique(deforestation_past_years, return_counts=True): (array([   0, 2002, 2004, 2006, 2008, 2010, 2012, 2013, 2014, 2015, 2016,\n",
      "                                                                    2017, 2018, 2019, 2020, 2021], dtype=uint16),\n",
      "                                                              array([334024764,   8717093,   6541094,   3824922,   2096535,   1305948,\n",
      "                                                                      1003721,    903906,    318788,    701575,    310887,    440417,\n",
      "                                                                       316180,    560438,    600838,    776899], dtype=int64))\n"
     ]
    },
    {
     "name": "stdout",
     "output_type": "stream",
     "text": [
      "Past deforestation before 2008 is 2\n",
      "D:/Jorge/datasets/deforestation/MS/deforestation_before_2000_MS.tif\n"
     ]
    },
    {
     "name": "stderr",
     "output_type": "stream",
     "text": [
      "ic| np.unique(label_past_deforestation_before_2008, return_counts=True): (array([  0, 208], dtype=uint8), array([126708038, 235735967], dtype=int64))\n",
      "ic| np.unique(deforestation_past_years, return_counts=True): (array([   0, 2002, 2004, 2006, 2008, 2010, 2012, 2013, 2014, 2015, 2016,\n",
      "                                                                    2017, 2018, 2019, 2020, 2021], dtype=uint16),\n",
      "                                                              array([334024764,   8717093,   6541094,   3824922,   2096535,   1305948,\n",
      "                                                                      1003721,    903906,    318788,    701575,    310887,    440417,\n",
      "                                                                       316180,    560438,    600838,    776899], dtype=int64))\n",
      "ic| label_per_date.shape: (18605, 19481, 1)\n"
     ]
    },
    {
     "name": "stdout",
     "output_type": "stream",
     "text": [
      "Removing bufer................\n",
      "Mask label shape:  \n",
      " (18605, 19481, 1) \n",
      " Unique values:  \n",
      " [0 1 2]\n",
      "Tiles size:  3721 3896\n",
      "Mask size:  (18605, 19480)\n"
     ]
    },
    {
     "name": "stderr",
     "output_type": "stream",
     "text": [
      "ic| image_stack.shape: (18605, 19481, 9)\n"
     ]
    },
    {
     "name": "stdout",
     "output_type": "stream",
     "text": [
      "Image shape:  (18605, 19481, 9)\n",
      "mask:  (18605, 19480)\n",
      "image stack:  (18605, 19480, 9)\n",
      "ref : (18605, 19480, 1)\n",
      "Training tiles:  [2, 4, 5, 6, 7, 12, 14, 15, 18, 21, 23, 24]\n",
      "Validation tiles:  [9, 11, 25]\n",
      "Test tiles:  [1, 3, 8, 10, 13, 16, 17, 19, 20, 22]\n",
      "-35.0 -8.0\n"
     ]
    },
    {
     "name": "stderr",
     "output_type": "stream",
     "text": [
      "ic| self.path_models+ '/' + self.method +'_'+str(self.repetition_id)+'.h5': 'D:/Jorge/datasets/deforestation/experiments/MS/exp41/models/resunet_14.h5'\n"
     ]
    },
    {
     "name": "stdout",
     "output_type": "stream",
     "text": [
      "Dropout training mode: False\n",
      "time:  0\n",
      "alpha.shape (18640, 19488, 2)\n",
      "S.shape (18640, 19488)\n",
      "K 2\n",
      "u.shape (18640, 19488)\n",
      "belief.shape (18640, 19488, 2)\n",
      "Inference runtime 258.76\n",
      "(36877090,)\n",
      "(array([0, 1], dtype=uint8), array([36581631,   295459], dtype=int64))\n",
      "(18605, 19480, 2)\n"
     ]
    },
    {
     "name": "stderr",
     "output_type": "stream",
     "text": [
      "ic| predicted_test.shape: (144970160,)\n",
      "ic| predicted_test.shape: (36877090,)\n",
      "ic| np.unique(predicted, return_counts=True): (array([0, 1], dtype=int8), array([361720302,    705098], dtype=int64))\n",
      "    np.unique(predicted_larger_than_min_area, return_counts=True): (array([0, 1], dtype=int8), array([361786562,    638838], dtype=int64))\n",
      "ic| np.unique(ignored_polygons, return_counts=True): (array([0, 1], dtype=int8), array([362359140,     66260], dtype=int64))\n",
      "ic| self.f1: 87.44, self.precision: 86.94, self.recall: 87.96\n",
      "ic| self.label_mask_val.shape: (43491048,)\n",
      "ic| self.label_mask_val_valid.shape: (10771463,)\n",
      "ic| f1_val: 46.39\n",
      "    precision_val: 38.54\n",
      "    recall_val: 58.25\n",
      "    mAP_val: 52.81\n"
     ]
    },
    {
     "name": "stdout",
     "output_type": "stream",
     "text": [
      "(array([0, 1], dtype=int16), array([362135709,    289691], dtype=int64))\n",
      "[0 1]\n"
     ]
    },
    {
     "name": "stderr",
     "output_type": "stream",
     "text": [
      "ic| self.label_mask.shape: (18605, 19480)\n",
      "ic| self.mask_test.shape: (18605, 19480)\n",
      "ic| self.label_mask_test.shape: (144970160,)\n",
      "ic| self.error_mask_test.shape: (36848650,)\n",
      "ic| bounds: (0.0001814854062255472, 0.4985)\n"
     ]
    },
    {
     "name": "stdout",
     "output_type": "stream",
     "text": [
      "(0.0001814854062255472, 0.4985)\n",
      "0.19052222075768685\n",
      "threshold 0.19052222075768685\n"
     ]
    },
    {
     "name": "stderr",
     "output_type": "stream",
     "text": [
      "c:\\Users\\jchamorro\\Anaconda3\\envs\\tf2\\lib\\site-packages\\scipy\\optimize\\_minimize.py:783: RuntimeWarning: Method 'bounded' does not support relative tolerance in x; defaulting to absolute tolerance.\n",
      "  warn(\"Method 'bounded' does not support relative tolerance in x; \"\n",
      "ic| label_current_deforestation_test_classified_incorrect.shape: (3760744,)\n",
      "    predicted_test_classified_incorrect.shape: (3760744,)\n",
      "ic| TP_H + FN_H + FP_H + TN_H: 3760744\n",
      "    len(label_mask_current_deforestation_test): 36848650\n",
      "ic| TP_H + FN_H + FP_H + TN_H: 3760744\n",
      "    len(label_mask_current_deforestation_test): 36848650\n"
     ]
    },
    {
     "name": "stdout",
     "output_type": "stream",
     "text": [
      "[0.98405195 0.94910441 0.66714091 0.10205921 0.63643323 0.71513757\n",
      " 0.01580532]\n",
      "0.3081592646485386\n",
      "threshold 0.3081592646485386\n"
     ]
    },
    {
     "name": "stderr",
     "output_type": "stream",
     "text": [
      "ic| label_current_deforestation_test_classified_incorrect.shape: (1806893,)\n",
      "    predicted_test_classified_incorrect.shape: (1806893,)\n",
      "ic| TP_H + FN_H + FP_H + TN_H: 1806893\n",
      "    len(label_mask_current_deforestation_test): 36848650\n",
      "ic| TP_H + FN_H + FP_H + TN_H: 1806893\n",
      "    len(label_mask_current_deforestation_test): 36848650\n"
     ]
    },
    {
     "name": "stdout",
     "output_type": "stream",
     "text": [
      "[0.96196555 0.94723405 0.75207279 0.04903553 0.55453112 0.61894945\n",
      " 0.02867146]\n",
      "0.38086295610914817\n",
      "threshold 0.38086295610914817\n"
     ]
    },
    {
     "name": "stderr",
     "output_type": "stream",
     "text": [
      "ic| label_current_deforestation_test_classified_incorrect.shape: (1042843,)\n",
      "    predicted_test_classified_incorrect.shape: (1042843,)\n",
      "ic| TP_H + FN_H + FP_H + TN_H: 1042843\n",
      "    len(label_mask_current_deforestation_test): 36848650\n",
      "ic| TP_H + FN_H + FP_H + TN_H: 1042843\n",
      "    len(label_mask_current_deforestation_test): 36848650\n"
     ]
    },
    {
     "name": "stdout",
     "output_type": "stream",
     "text": [
      "[0.93471268 0.94613924 0.79671599 0.02830071 0.51991855 0.52479556\n",
      " 0.04094331]\n",
      "0.45140985093303776\n",
      "threshold 0.45140985093303776\n"
     ]
    },
    {
     "name": "stderr",
     "output_type": "stream",
     "text": [
      "ic| label_current_deforestation_test_classified_incorrect.shape: (575425,)\n",
      "    predicted_test_classified_incorrect.shape: (575425,)\n",
      "ic| TP_H + FN_H + FP_H + TN_H: 575425\n",
      "    len(label_mask_current_deforestation_test): 36848650\n",
      "ic| TP_H + FN_H + FP_H + TN_H: 575425\n",
      "    len(label_mask_current_deforestation_test): 36848650\n"
     ]
    },
    {
     "name": "stdout",
     "output_type": "stream",
     "text": [
      "[0.90144199 0.94439137 0.8432032  0.0156159  0.47646819 0.33966095\n",
      " 0.05201784]\n",
      "0.38534504879562\n",
      "threshold 0.38534504879562\n"
     ]
    },
    {
     "name": "stderr",
     "output_type": "stream",
     "text": [
      "ic| label_current_deforestation_test_classified_incorrect.shape: (1005804,)\n",
      "    predicted_test_classified_incorrect.shape: (1005804,)\n",
      "ic| TP_H + FN_H + FP_H + TN_H: 1005804\n",
      "    len(label_mask_current_deforestation_test): 36848650\n",
      "ic| TP_H + FN_H + FP_H + TN_H: 1005804\n",
      "    len(label_mask_current_deforestation_test): 36848650\n"
     ]
    },
    {
     "name": "stdout",
     "output_type": "stream",
     "text": [
      "[0.93283913 0.94593766 0.79955799 0.02729555 0.51753935 0.51722753\n",
      " 0.04175022]\n",
      "0.3530926170787808\n",
      "threshold 0.3530926170787808\n"
     ]
    },
    {
     "name": "stderr",
     "output_type": "stream",
     "text": [
      "ic| label_current_deforestation_test_classified_incorrect.shape: (1297865,)\n",
      "    predicted_test_classified_incorrect.shape: (1297865,)\n",
      "ic| TP_H + FN_H + FP_H + TN_H: 1297865\n",
      "    len(label_mask_current_deforestation_test): 36848650\n",
      "ic| TP_H + FN_H + FP_H + TN_H: 1297865\n",
      "    len(label_mask_current_deforestation_test): 36848650\n"
     ]
    },
    {
     "name": "stdout",
     "output_type": "stream",
     "text": [
      "[0.94620988 0.94676541 0.77959839 0.03522151 0.53230639 0.56634918\n",
      " 0.03598024]\n",
      "0.37280339357308784\n",
      "threshold 0.37280339357308784\n"
     ]
    },
    {
     "name": "stderr",
     "output_type": "stream",
     "text": [
      "ic| label_current_deforestation_test_classified_incorrect.shape: (1111895,)\n",
      "    predicted_test_classified_incorrect.shape: (1111895,)\n",
      "ic| TP_H + FN_H + FP_H + TN_H: 1111895\n",
      "    len(label_mask_current_deforestation_test): 36848650\n",
      "ic| TP_H + FN_H + FP_H + TN_H: 1111895\n",
      "    len(label_mask_current_deforestation_test): 36848650\n"
     ]
    },
    {
     "name": "stdout",
     "output_type": "stream",
     "text": [
      "[0.93799344 0.94638713 0.79140494 0.03017465 0.52478116 0.53853615\n",
      " 0.03948236]\n",
      "0.3652745468969151\n",
      "threshold 0.3652745468969151\n"
     ]
    },
    {
     "name": "stderr",
     "output_type": "stream",
     "text": [
      "ic| label_current_deforestation_test_classified_incorrect.shape: (1180112,)\n",
      "    predicted_test_classified_incorrect.shape: (1180112,)\n",
      "ic| TP_H + FN_H + FP_H + TN_H: 1180112\n",
      "    len(label_mask_current_deforestation_test): 36848650\n",
      "ic| TP_H + FN_H + FP_H + TN_H: 1180112\n",
      "    len(label_mask_current_deforestation_test): 36848650\n"
     ]
    },
    {
     "name": "stdout",
     "output_type": "stream",
     "text": [
      "[0.94129386 0.94664434 0.78673619 0.03202592 0.52769874 0.54972709\n",
      " 0.03818377]\n",
      "0.3734441380223445\n",
      "threshold 0.3734441380223445\n"
     ]
    },
    {
     "name": "stderr",
     "output_type": "stream",
     "text": [
      "ic| label_current_deforestation_test_classified_incorrect.shape: (1106148,)\n",
      "    predicted_test_classified_incorrect.shape: (1106148,)\n",
      "ic| TP_H + FN_H + FP_H + TN_H: 1106148\n",
      "    len(label_mask_current_deforestation_test): 36848650\n",
      "ic| TP_H + FN_H + FP_H + TN_H: 1106148\n",
      "    len(label_mask_current_deforestation_test): 36848650\n"
     ]
    },
    {
     "name": "stdout",
     "output_type": "stream",
     "text": [
      "[0.93766944 0.94637271 0.79185041 0.03001868 0.52452316 0.53740245\n",
      " 0.03958709]\n",
      "0.37521101014631253\n",
      "threshold 0.37521101014631253\n"
     ]
    },
    {
     "name": "stderr",
     "output_type": "stream",
     "text": [
      "ic| label_current_deforestation_test_classified_incorrect.shape: (1090650,)\n",
      "    predicted_test_classified_incorrect.shape: (1090650,)\n",
      "ic| TP_H + FN_H + FP_H + TN_H: 1090650\n",
      "    len(label_mask_current_deforestation_test): 36848650\n",
      "ic| TP_H + FN_H + FP_H + TN_H: 1090650\n",
      "    len(label_mask_current_deforestation_test): 36848650\n"
     ]
    },
    {
     "name": "stdout",
     "output_type": "stream",
     "text": [
      "[0.93694771 0.94634498 0.79306249 0.0295981  0.52336    0.53425008\n",
      " 0.03991329]\n",
      "0.37376034641980377\n",
      "threshold 0.37376034641980377\n"
     ]
    },
    {
     "name": "stderr",
     "output_type": "stream",
     "text": [
      "ic| label_current_deforestation_test_classified_incorrect.shape: (1103424,)\n",
      "    predicted_test_classified_incorrect.shape: (1103424,)\n",
      "ic| TP_H + FN_H + FP_H + TN_H: 1103424\n",
      "    len(label_mask_current_deforestation_test): 36848650\n",
      "ic| TP_H + FN_H + FP_H + TN_H: 1103424\n",
      "    len(label_mask_current_deforestation_test): 36848650\n"
     ]
    },
    {
     "name": "stdout",
     "output_type": "stream",
     "text": [
      "[0.93753117 0.94635453 0.79205415 0.02994476 0.52437687 0.53691545\n",
      " 0.03963828]\n",
      "0.3734774768947495\n",
      "threshold 0.3734774768947495\n"
     ]
    },
    {
     "name": "stderr",
     "output_type": "stream",
     "text": [
      "ic| label_current_deforestation_test_classified_incorrect.shape: (1105858,)\n",
      "    predicted_test_classified_incorrect.shape: (1105858,)\n",
      "ic| TP_H + FN_H + FP_H + TN_H: 1105858\n",
      "    len(label_mask_current_deforestation_test): 36848650\n",
      "ic| TP_H + FN_H + FP_H + TN_H: 1105858\n",
      "    len(label_mask_current_deforestation_test): 36848650\n"
     ]
    },
    {
     "name": "stdout",
     "output_type": "stream",
     "text": [
      "[0.93765538 0.946366   0.79186767 0.03001081 0.52451739 0.53737626\n",
      " 0.03959171]\n",
      "0.3735557480119671\n",
      "threshold 0.3735557480119671\n"
     ]
    },
    {
     "name": "stderr",
     "output_type": "stream",
     "text": [
      "ic| label_current_deforestation_test_classified_incorrect.shape: (1105200,)\n",
      "    predicted_test_classified_incorrect.shape: (1105200,)\n",
      "ic| TP_H + FN_H + FP_H + TN_H: 1105200\n",
      "    len(label_mask_current_deforestation_test): 36848650\n",
      "ic| TP_H + FN_H + FP_H + TN_H: 1105200\n",
      "    len(label_mask_current_deforestation_test): 36848650\n"
     ]
    },
    {
     "name": "stdout",
     "output_type": "stream",
     "text": [
      "[0.93762163 0.94636218 0.79192983 0.02999296 0.52444894 0.53722279\n",
      " 0.03960369]\n",
      "0.3736338976497166\n",
      "threshold 0.3736338976497166\n"
     ]
    },
    {
     "name": "stderr",
     "output_type": "stream",
     "text": [
      "ic| label_current_deforestation_test_classified_incorrect.shape: (1104526,)\n",
      "    predicted_test_classified_incorrect.shape: (1104526,)\n",
      "ic| TP_H + FN_H + FP_H + TN_H: 1104526\n",
      "    len(label_mask_current_deforestation_test): 36848650\n",
      "ic| TP_H + FN_H + FP_H + TN_H: 1104526\n",
      "    len(label_mask_current_deforestation_test): 36848650\n"
     ]
    },
    {
     "name": "stdout",
     "output_type": "stream",
     "text": [
      "[0.93759403 0.94636093 0.79197127 0.02997467 0.52441772 0.53711661\n",
      " 0.03961899]\n",
      "0.37352240913790663\n",
      "threshold 0.37352240913790663\n"
     ]
    },
    {
     "name": "stderr",
     "output_type": "stream",
     "text": [
      "ic| label_current_deforestation_test_classified_incorrect.shape: (1105476,)\n",
      "    predicted_test_classified_incorrect.shape: (1105476,)\n",
      "ic| TP_H + FN_H + FP_H + TN_H: 1105476\n",
      "    len(label_mask_current_deforestation_test): 36848650\n",
      "ic| TP_H + FN_H + FP_H + TN_H: 1105476\n",
      "    len(label_mask_current_deforestation_test): 36848650\n",
      "ic| self.threshold_optimal: 0.37352240913790663\n"
     ]
    },
    {
     "name": "stdout",
     "output_type": "stream",
     "text": [
      "[0.93763518 0.94636063 0.79190566 0.03000045 0.52447437 0.53729133\n",
      " 0.03959772]\n",
      "threshold:  0.37352240913790663\n",
      "threshold 0.37352240913790663\n"
     ]
    },
    {
     "name": "stderr",
     "output_type": "stream",
     "text": [
      "ic| label_current_deforestation_test_classified_incorrect.shape: (1105476,)\n",
      "    predicted_test_classified_incorrect.shape: (1105476,)\n",
      "ic| TP_H + FN_H + FP_H + TN_H: 1105476\n",
      "    len(label_mask_current_deforestation_test): 36848650\n",
      "ic| TP_H + FN_H + FP_H + TN_H: 1105476\n",
      "    len(label_mask_current_deforestation_test): 36848650\n"
     ]
    },
    {
     "name": "stdout",
     "output_type": "stream",
     "text": [
      "[0.93763518 0.94636063 0.79190566 0.03000045 0.52447437 0.53729133\n",
      " 0.03959772]\n",
      "threshold 0.37352240913790663\n",
      "(36848650,) (36848650,)\n"
     ]
    },
    {
     "name": "stderr",
     "output_type": "stream",
     "text": [
      "ic| self.m_optimal: {'AA': array([0.03000045]),\n",
      "                     'UEO': array([0.03959772]),\n",
      "                     'f1': 87.44,\n",
      "                     'f1_H': array([0.53080549]),\n",
      "                     'f1_L': array([0.9419777]),\n",
      "                     'precision_H': array([0.52447437]),\n",
      "                     'precision_L': array([0.93763518]),\n",
      "                     'recall_H': array([0.53729133]),\n",
      "                     'recall_L': array([0.94636063]),\n",
      "                     'recall_Ltotal': array([0.79190566])}\n",
      "ic| self.m_audited_optimal: {'f1': array([0.95141076]),\n",
      "                             'precision': array([0.94773506]),\n",
      "                             'recall': array([0.95511508])}\n"
     ]
    },
    {
     "name": "stdout",
     "output_type": "stream",
     "text": [
      "cm_audited [[36543812    15253]\n",
      " [   12998   276587]]\n",
      "[0.94773506 0.95511508]\n",
      "Result idx 14: {'uncertainty_result': {'metrics': {'precision_L': array([0.93763518]), 'recall_L': array([0.94636063]), 'recall_Ltotal': array([0.79190566]), 'AA': array([0.03000045]), 'precision_H': array([0.52447437]), 'recall_H': array([0.53729133]), 'UEO': array([0.03959772]), 'f1_L': array([0.9419777]), 'f1_H': array([0.53080549]), 'f1': 87.44}, 'metrics_audited': {'precision': array([0.94773506]), 'recall': array([0.95511508]), 'f1': array([0.95141076])}, 'exp': 41}}\n",
      "Grid execution idx: 14\n",
      "Beginning run number 15\n",
      "manager.config {'training': True, 'inferring': True, 'site': 'MS', 'training_date': 'current', 'mode': 'evidential2', 'training_times': 20, 'uncertainty_method': 'pred_entropy', 'loadInference': False, 'removePolygons': True, 'plotLandsat': False, 'plotPOI': False, 'training_experiment_id': 41, 'get_multiple_metrics': False, 'start_repetition_id': 0, 'end_repetition_id': 20, 'save_probabilities': False, 'addPastDeforestationInput': True, 'classes_mode': True, 'learning_rate': 0.0001, 'use_cloud_mask': False, 'mask_out_non_biome': False, 'log_filename': 'log.pkl', 'inference_times': 1, 'dropout_training': False}\n",
      "D:/Jorge/datasets/deforestation/MS/deforestation_past_years.tif\n",
      "Loaded deforestation past years\n"
     ]
    },
    {
     "name": "stderr",
     "output_type": "stream",
     "text": [
      "ic| np.unique(deforestation_past_years, return_counts=True): (array([   0, 2002, 2004, 2006, 2008, 2010, 2012, 2013, 2014, 2015, 2016,\n",
      "                                                                    2017, 2018, 2019, 2020, 2021], dtype=uint16),\n",
      "                                                              array([334024764,   8717093,   6541094,   3824922,   2096535,   1305948,\n",
      "                                                                      1003721,    903906,    318788,    701575,    310887,    440417,\n",
      "                                                                       316180,    560438,    600838,    776899], dtype=int64))\n"
     ]
    },
    {
     "name": "stdout",
     "output_type": "stream",
     "text": [
      "Label where deforestation past years is actual date (2020) = 1\n"
     ]
    },
    {
     "name": "stderr",
     "output_type": "stream",
     "text": [
      "ic| np.unique(deforestation_past_years, return_counts=True): (array([   0, 2002, 2004, 2006, 2008, 2010, 2012, 2013, 2014, 2015, 2016,\n",
      "                                                                    2017, 2018, 2019, 2020, 2021], dtype=uint16),\n",
      "                                                              array([334024764,   8717093,   6541094,   3824922,   2096535,   1305948,\n",
      "                                                                      1003721,    903906,    318788,    701575,    310887,    440417,\n",
      "                                                                       316180,    560438,    600838,    776899], dtype=int64))\n"
     ]
    },
    {
     "name": "stdout",
     "output_type": "stream",
     "text": [
      "Past deforestation different from 0 (no deforestation)\n"
     ]
    },
    {
     "name": "stderr",
     "output_type": "stream",
     "text": [
      "ic| np.unique(deforestation_past_years, return_counts=True): (array([   0, 2002, 2004, 2006, 2008, 2010, 2012, 2013, 2014, 2015, 2016,\n",
      "                                                                    2017, 2018, 2019, 2020, 2021], dtype=uint16),\n",
      "                                                              array([334024764,   8717093,   6541094,   3824922,   2096535,   1305948,\n",
      "                                                                      1003721,    903906,    318788,    701575,    310887,    440417,\n",
      "                                                                       316180,    560438,    600838,    776899], dtype=int64))\n"
     ]
    },
    {
     "name": "stdout",
     "output_type": "stream",
     "text": [
      "Past deforestation before 2008 is 2\n",
      "D:/Jorge/datasets/deforestation/MS/deforestation_before_2000_MS.tif\n"
     ]
    },
    {
     "name": "stderr",
     "output_type": "stream",
     "text": [
      "ic| np.unique(label_past_deforestation_before_2008, return_counts=True): (array([  0, 208], dtype=uint8), array([126708038, 235735967], dtype=int64))\n",
      "ic| np.unique(deforestation_past_years, return_counts=True): (array([   0, 2002, 2004, 2006, 2008, 2010, 2012, 2013, 2014, 2015, 2016,\n",
      "                                                                    2017, 2018, 2019, 2020, 2021], dtype=uint16),\n",
      "                                                              array([334024764,   8717093,   6541094,   3824922,   2096535,   1305948,\n",
      "                                                                      1003721,    903906,    318788,    701575,    310887,    440417,\n",
      "                                                                       316180,    560438,    600838,    776899], dtype=int64))\n",
      "ic| label_per_date.shape: (18605, 19481, 1)\n"
     ]
    },
    {
     "name": "stdout",
     "output_type": "stream",
     "text": [
      "Removing bufer................\n",
      "Mask label shape:  \n",
      " (18605, 19481, 1) \n",
      " Unique values:  \n",
      " [0 1 2]\n",
      "Tiles size:  3721 3896\n",
      "Mask size:  (18605, 19480)\n"
     ]
    },
    {
     "name": "stderr",
     "output_type": "stream",
     "text": [
      "ic| image_stack.shape: (18605, 19481, 9)\n"
     ]
    },
    {
     "name": "stdout",
     "output_type": "stream",
     "text": [
      "Image shape:  (18605, 19481, 9)\n",
      "mask:  (18605, 19480)\n",
      "image stack:  (18605, 19480, 9)\n",
      "ref : (18605, 19480, 1)\n",
      "Training tiles:  [2, 4, 5, 6, 7, 12, 14, 15, 18, 21, 23, 24]\n",
      "Validation tiles:  [9, 11, 25]\n",
      "Test tiles:  [1, 3, 8, 10, 13, 16, 17, 19, 20, 22]\n",
      "-35.0 -8.0\n"
     ]
    },
    {
     "name": "stderr",
     "output_type": "stream",
     "text": [
      "ic| self.path_models+ '/' + self.method +'_'+str(self.repetition_id)+'.h5': 'D:/Jorge/datasets/deforestation/experiments/MS/exp41/models/resunet_15.h5'\n"
     ]
    },
    {
     "name": "stdout",
     "output_type": "stream",
     "text": [
      "Dropout training mode: False\n",
      "time:  0\n",
      "alpha.shape (18640, 19488, 2)\n",
      "S.shape (18640, 19488)\n",
      "K 2\n",
      "u.shape (18640, 19488)\n",
      "belief.shape (18640, 19488, 2)\n",
      "Inference runtime 255.79\n",
      "(36877090,)\n",
      "(array([0, 1], dtype=uint8), array([36581631,   295459], dtype=int64))\n",
      "(18605, 19480, 2)\n"
     ]
    },
    {
     "name": "stderr",
     "output_type": "stream",
     "text": [
      "ic| predicted_test.shape: (144970160,)\n",
      "ic| predicted_test.shape: (36877090,)\n",
      "ic| np.unique(predicted, return_counts=True): (array([0, 1], dtype=int8), array([361603615,    821785], dtype=int64))\n",
      "    np.unique(predicted_larger_than_min_area, return_counts=True): (array([0, 1], dtype=int8), array([361691992,    733408], dtype=int64))\n",
      "ic| np.unique(ignored_polygons, return_counts=True): (array([0, 1], dtype=int8), array([362337023,     88377], dtype=int64))\n",
      "ic| self.f1: 88.01, self.precision: 86.32, self.recall: 89.77\n",
      "ic| self.label_mask_val.shape: (43491048,)\n",
      "ic| self.label_mask_val_valid.shape: (10769365,)\n",
      "ic| f1_val: 41.53\n",
      "    precision_val: 31.89\n",
      "    recall_val: 59.54\n",
      "    mAP_val: 57.33\n"
     ]
    },
    {
     "name": "stdout",
     "output_type": "stream",
     "text": [
      "(array([0, 1], dtype=int16), array([362047941,    377459], dtype=int64))\n",
      "[0 1]\n"
     ]
    },
    {
     "name": "stderr",
     "output_type": "stream",
     "text": [
      "ic| self.label_mask.shape: (18605, 19480)\n",
      "ic| self.mask_test.shape: (18605, 19480)\n",
      "ic| self.label_mask_test.shape: (144970160,)\n",
      "ic| self.error_mask_test.shape: (36846593,)\n",
      "ic| bounds: (0.00010578750008484349, 0.4985)\n"
     ]
    },
    {
     "name": "stdout",
     "output_type": "stream",
     "text": [
      "(0.00010578750008484349, 0.4985)\n",
      "0.19047543687881469\n",
      "threshold 0.19047543687881469\n"
     ]
    },
    {
     "name": "stderr",
     "output_type": "stream",
     "text": [
      "c:\\Users\\jchamorro\\Anaconda3\\envs\\tf2\\lib\\site-packages\\scipy\\optimize\\_minimize.py:783: RuntimeWarning: Method 'bounded' does not support relative tolerance in x; defaulting to absolute tolerance.\n",
      "  warn(\"Method 'bounded' does not support relative tolerance in x; \"\n",
      "ic| label_current_deforestation_test_classified_incorrect.shape: (5086851,)\n",
      "    predicted_test_classified_incorrect.shape: (5086851,)\n",
      "ic| TP_H + FN_H + FP_H + TN_H: 5086851\n",
      "    len(label_mask_current_deforestation_test): 36846593\n",
      "ic| TP_H + FN_H + FP_H + TN_H: 5086851\n",
      "    len(label_mask_current_deforestation_test): 36846593\n"
     ]
    },
    {
     "name": "stdout",
     "output_type": "stream",
     "text": [
      "[0.99181215 0.93851497 0.56619074 0.13805485 0.7066389  0.8357118\n",
      " 0.01152218]\n",
      "0.30813035062127003\n",
      "threshold 0.30813035062127003\n"
     ]
    },
    {
     "name": "stderr",
     "output_type": "stream",
     "text": [
      "ic| label_current_deforestation_test_classified_incorrect.shape: (2705260,)\n",
      "    predicted_test_classified_incorrect.shape: (2705260,)\n",
      "ic| TP_H + FN_H + FP_H + TN_H: 2705260\n",
      "    len(label_mask_current_deforestation_test): 36846593\n",
      "ic| TP_H + FN_H + FP_H + TN_H: 2705260\n",
      "    len(label_mask_current_deforestation_test): 36846593\n"
     ]
    },
    {
     "name": "stdout",
     "output_type": "stream",
     "text": [
      "[0.9848747  0.94184031 0.69952154 0.07341954 0.60103632 0.7703981\n",
      " 0.0202967 ]\n",
      "0.38084508625754454\n",
      "threshold 0.38084508625754454\n"
     ]
    },
    {
     "name": "stderr",
     "output_type": "stream",
     "text": [
      "ic| label_current_deforestation_test_classified_incorrect.shape: (1646181,)\n",
      "    predicted_test_classified_incorrect.shape: (1646181,)\n",
      "ic| TP_H + FN_H + FP_H + TN_H: 1646181\n",
      "    len(label_mask_current_deforestation_test): 36846593\n",
      "ic| TP_H + FN_H + FP_H + TN_H: 1646181\n",
      "    len(label_mask_current_deforestation_test): 36846593\n"
     ]
    },
    {
     "name": "stdout",
     "output_type": "stream",
     "text": [
      "[0.97929269 0.94100551 0.78575867 0.04467661 0.4711248  0.6787052\n",
      " 0.03108636]\n",
      "0.42578526436372544\n",
      "threshold 0.42578526436372544\n"
     ]
    },
    {
     "name": "stderr",
     "output_type": "stream",
     "text": [
      "ic| label_current_deforestation_test_classified_incorrect.shape: (1057119,)\n",
      "    predicted_test_classified_incorrect.shape: (1057119,)\n",
      "ic| TP_H + FN_H + FP_H + TN_H: 1057119\n",
      "    len(label_mask_current_deforestation_test): 36846593\n",
      "ic| TP_H + FN_H + FP_H + TN_H: 1057119\n",
      "    len(label_mask_current_deforestation_test): 36846593\n"
     ]
    },
    {
     "name": "stdout",
     "output_type": "stream",
     "text": [
      "[0.96192568 0.93830368 0.83151292 0.02868974 0.37705659 0.58181928\n",
      " 0.04201236]\n",
      "0.4535598218938191\n",
      "threshold 0.4535598218938191\n"
     ]
    },
    {
     "name": "stderr",
     "output_type": "stream",
     "text": [
      "ic| label_current_deforestation_test_classified_incorrect.shape: (716636,)\n",
      "    predicted_test_classified_incorrect.shape: (716636,)\n",
      "ic| TP_H + FN_H + FP_H + TN_H: 716636\n",
      "    len(label_mask_current_deforestation_test): 36846593\n",
      "ic| TP_H + FN_H + FP_H + TN_H: 716636\n",
      "    len(label_mask_current_deforestation_test): 36846593\n"
     ]
    },
    {
     "name": "stdout",
     "output_type": "stream",
     "text": [
      "[0.93053748 0.93566515 0.85872935 0.01944918 0.3327443  0.47432722\n",
      " 0.04675871]\n",
      "0.4204762489749181\n",
      "threshold 0.4204762489749181\n"
     ]
    },
    {
     "name": "stderr",
     "output_type": "stream",
     "text": [
      "ic| label_current_deforestation_test_classified_incorrect.shape: (1124387,)\n",
      "    predicted_test_classified_incorrect.shape: (1124387,)\n",
      "ic| TP_H + FN_H + FP_H + TN_H: 1124387\n",
      "    len(label_mask_current_deforestation_test): 36846593\n",
      "ic| TP_H + FN_H + FP_H + TN_H: 1124387\n",
      "    len(label_mask_current_deforestation_test): 36846593\n"
     ]
    },
    {
     "name": "stdout",
     "output_type": "stream",
     "text": [
      "[0.96645734 0.9386568  0.82615525 0.03051536 0.38644624 0.59719462\n",
      " 0.04084529]\n",
      "0.4095943938428046\n",
      "threshold 0.4095943938428046\n"
     ]
    },
    {
     "name": "stderr",
     "output_type": "stream",
     "text": [
      "ic| label_current_deforestation_test_classified_incorrect.shape: (1265493,)\n",
      "    predicted_test_classified_incorrect.shape: (1265493,)\n",
      "ic| TP_H + FN_H + FP_H + TN_H: 1265493\n",
      "    len(label_mask_current_deforestation_test): 36846593\n",
      "ic| TP_H + FN_H + FP_H + TN_H: 1265493\n",
      "    len(label_mask_current_deforestation_test): 36846593\n"
     ]
    },
    {
     "name": "stdout",
     "output_type": "stream",
     "text": [
      "[0.97283128 0.93925923 0.81545371 0.03434491 0.40768362 0.62420449\n",
      " 0.03804435]\n",
      "0.4207145035938467\n",
      "threshold 0.4207145035938467\n"
     ]
    },
    {
     "name": "stderr",
     "output_type": "stream",
     "text": [
      "ic| label_current_deforestation_test_classified_incorrect.shape: (1121437,)\n",
      "    predicted_test_classified_incorrect.shape: (1121437,)\n",
      "ic| TP_H + FN_H + FP_H + TN_H: 1121437\n",
      "    len(label_mask_current_deforestation_test): 36846593\n",
      "ic| TP_H + FN_H + FP_H + TN_H: 1121437\n",
      "    len(label_mask_current_deforestation_test): 36846593\n"
     ]
    },
    {
     "name": "stdout",
     "output_type": "stream",
     "text": [
      "[0.96630928 0.93864523 0.82635892 0.0304353  0.38605893 0.59662944\n",
      " 0.04090778]\n",
      "0.4223492697876386\n",
      "threshold 0.4223492697876386\n"
     ]
    },
    {
     "name": "stderr",
     "output_type": "stream",
     "text": [
      "ic| label_current_deforestation_test_classified_incorrect.shape: (1100576,)\n",
      "    predicted_test_classified_incorrect.shape: (1100576,)\n",
      "ic| TP_H + FN_H + FP_H + TN_H: 1100576\n",
      "    len(label_mask_current_deforestation_test): 36846593\n",
      "ic| TP_H + FN_H + FP_H + TN_H: 1100576\n",
      "    len(label_mask_current_deforestation_test): 36846593\n"
     ]
    },
    {
     "name": "stdout",
     "output_type": "stream",
     "text": [
      "[0.96509551 0.93851426 0.8281195  0.02986914 0.38253595 0.5918002\n",
      " 0.04129717]\n",
      "0.4236617029305435\n",
      "threshold 0.4236617029305435\n"
     ]
    },
    {
     "name": "stderr",
     "output_type": "stream",
     "text": [
      "ic| label_current_deforestation_test_classified_incorrect.shape: (1084045,)\n",
      "    predicted_test_classified_incorrect.shape: (1084045,)\n",
      "ic| TP_H + FN_H + FP_H + TN_H: 1084045\n",
      "    len(label_mask_current_deforestation_test): 36846593\n",
      "ic| TP_H + FN_H + FP_H + TN_H: 1084045\n",
      "    len(label_mask_current_deforestation_test): 36846593\n"
     ]
    },
    {
     "name": "stdout",
     "output_type": "stream",
     "text": [
      "[0.96399913 0.93843762 0.82944166 0.02942049 0.3801745  0.58796255\n",
      " 0.04159076]\n",
      "0.4226960580543357\n",
      "threshold 0.4226960580543357\n"
     ]
    },
    {
     "name": "stderr",
     "output_type": "stream",
     "text": [
      "ic| label_current_deforestation_test_classified_incorrect.shape: (1096270,)\n",
      "    predicted_test_classified_incorrect.shape: (1096270,)\n",
      "ic| TP_H + FN_H + FP_H + TN_H: 1096270\n",
      "    len(label_mask_current_deforestation_test): 36846593\n",
      "ic| TP_H + FN_H + FP_H + TN_H: 1096270\n",
      "    len(label_mask_current_deforestation_test): 36846593\n"
     ]
    },
    {
     "name": "stdout",
     "output_type": "stream",
     "text": [
      "[0.96478752 0.93850528 0.82846471 0.02975228 0.38196493 0.59075519\n",
      " 0.04137036]\n",
      "0.4218845320317125\n",
      "threshold 0.4218845320317125\n"
     ]
    },
    {
     "name": "stderr",
     "output_type": "stream",
     "text": [
      "ic| label_current_deforestation_test_classified_incorrect.shape: (1106524,)\n",
      "    predicted_test_classified_incorrect.shape: (1106524,)\n",
      "ic| TP_H + FN_H + FP_H + TN_H: 1106524\n",
      "    len(label_mask_current_deforestation_test): 36846593\n",
      "ic| TP_H + FN_H + FP_H + TN_H: 1106524\n",
      "    len(label_mask_current_deforestation_test): 36846593\n"
     ]
    },
    {
     "name": "stdout",
     "output_type": "stream",
     "text": [
      "[0.96541852 0.93855158 0.82765346 0.03003056 0.3834747  0.59308169\n",
      " 0.04117848]\n",
      "0.4214376209362517\n",
      "threshold 0.4214376209362517\n"
     ]
    },
    {
     "name": "stderr",
     "output_type": "stream",
     "text": [
      "ic| label_current_deforestation_test_classified_incorrect.shape: (1112269,)\n",
      "    predicted_test_classified_incorrect.shape: (1112269,)\n",
      "ic| TP_H + FN_H + FP_H + TN_H: 1112269\n",
      "    len(label_mask_current_deforestation_test): 36846593\n",
      "ic| TP_H + FN_H + FP_H + TN_H: 1112269\n",
      "    len(label_mask_current_deforestation_test): 36846593\n"
     ]
    },
    {
     "name": "stdout",
     "output_type": "stream",
     "text": [
      "[0.96572251 0.93858134 0.82718398 0.03018648 0.38445331 0.59439807\n",
      " 0.04106193]\n",
      "0.4219426939895112\n",
      "threshold 0.4219426939895112\n"
     ]
    },
    {
     "name": "stderr",
     "output_type": "stream",
     "text": [
      "ic| label_current_deforestation_test_classified_incorrect.shape: (1105802,)\n",
      "    predicted_test_classified_incorrect.shape: (1105802,)\n",
      "ic| TP_H + FN_H + FP_H + TN_H: 1105802\n",
      "    len(label_mask_current_deforestation_test): 36846593\n",
      "ic| TP_H + FN_H + FP_H + TN_H: 1105802\n",
      "    len(label_mask_current_deforestation_test): 36846593\n"
     ]
    },
    {
     "name": "stdout",
     "output_type": "stream",
     "text": [
      "[0.96538534 0.93855103 0.82769834 0.03001097 0.38338845 0.59294441\n",
      " 0.04119558]\n",
      "0.422037524879129\n",
      "threshold 0.422037524879129\n"
     ]
    },
    {
     "name": "stderr",
     "output_type": "stream",
     "text": [
      "ic| label_current_deforestation_test_classified_incorrect.shape: (1104549,)\n",
      "    predicted_test_classified_incorrect.shape: (1104549,)\n",
      "ic| TP_H + FN_H + FP_H + TN_H: 1104549\n",
      "    len(label_mask_current_deforestation_test): 36846593\n",
      "ic| TP_H + FN_H + FP_H + TN_H: 1104549\n",
      "    len(label_mask_current_deforestation_test): 36846593\n"
     ]
    },
    {
     "name": "stdout",
     "output_type": "stream",
     "text": [
      "[0.96530749 0.93855385 0.82779155 0.02997696 0.38322583 0.59264026\n",
      " 0.04122101]\n",
      "0.42197603358126606\n",
      "threshold 0.42197603358126606\n"
     ]
    },
    {
     "name": "stderr",
     "output_type": "stream",
     "text": [
      "ic| label_current_deforestation_test_classified_incorrect.shape: (1105352,)\n",
      "    predicted_test_classified_incorrect.shape: (1105352,)\n",
      "ic| TP_H + FN_H + FP_H + TN_H: 1105352\n",
      "    len(label_mask_current_deforestation_test): 36846593\n",
      "ic| TP_H + FN_H + FP_H + TN_H: 1105352\n",
      "    len(label_mask_current_deforestation_test): 36846593\n",
      "ic| self.threshold_optimal: 0.42197603358126606\n"
     ]
    },
    {
     "name": "stdout",
     "output_type": "stream",
     "text": [
      "[0.96536342 0.93854976 0.82773286 0.02999876 0.38331537 0.59284273\n",
      " 0.04120554]\n",
      "threshold:  0.42197603358126606\n",
      "threshold 0.42197603358126606\n"
     ]
    },
    {
     "name": "stderr",
     "output_type": "stream",
     "text": [
      "ic| label_current_deforestation_test_classified_incorrect.shape: (1105352,)\n",
      "    predicted_test_classified_incorrect.shape: (1105352,)\n",
      "ic| TP_H + FN_H + FP_H + TN_H: 1105352\n",
      "    len(label_mask_current_deforestation_test): 36846593\n",
      "ic| TP_H + FN_H + FP_H + TN_H: 1105352\n",
      "    len(label_mask_current_deforestation_test): 36846593\n"
     ]
    },
    {
     "name": "stdout",
     "output_type": "stream",
     "text": [
      "[0.96536342 0.93854976 0.82773286 0.02999876 0.38331537 0.59284273\n",
      " 0.04120554]\n",
      "threshold 0.42197603358126606\n",
      "(36846593,) (36846593,)\n"
     ]
    },
    {
     "name": "stderr",
     "output_type": "stream",
     "text": [
      "ic| self.m_optimal: {'AA': array([0.02999876]),\n",
      "                     'UEO': array([0.04120554]),\n",
      "                     'f1': 88.01,\n",
      "                     'f1_H': array([0.46559206]),\n",
      "                     'f1_L': array([0.95176777]),\n",
      "                     'precision_H': array([0.38331537]),\n",
      "                     'precision_L': array([0.96536342]),\n",
      "                     'recall_H': array([0.59284273]),\n",
      "                     'recall_L': array([0.93854976]),\n",
      "                     'recall_Ltotal': array([0.82773286])}\n",
      "ic| self.m_audited_optimal: {'f1': array([0.95753329]),\n",
      "                             'precision': array([0.96955574]),\n",
      "                             'recall': array([0.94580534])}\n"
     ]
    },
    {
     "name": "stdout",
     "output_type": "stream",
     "text": [
      "cm_audited [[36548312     8603]\n",
      " [   15699   273979]]\n",
      "[0.96955574 0.94580534]\n",
      "Result idx 15: {'uncertainty_result': {'metrics': {'precision_L': array([0.96536342]), 'recall_L': array([0.93854976]), 'recall_Ltotal': array([0.82773286]), 'AA': array([0.02999876]), 'precision_H': array([0.38331537]), 'recall_H': array([0.59284273]), 'UEO': array([0.04120554]), 'f1_L': array([0.95176777]), 'f1_H': array([0.46559206]), 'f1': 88.01}, 'metrics_audited': {'precision': array([0.96955574]), 'recall': array([0.94580534]), 'f1': array([0.95753329])}, 'exp': 41}}\n",
      "Grid execution idx: 15\n",
      "Beginning run number 16\n",
      "manager.config {'training': True, 'inferring': True, 'site': 'MS', 'training_date': 'current', 'mode': 'evidential2', 'training_times': 20, 'uncertainty_method': 'pred_entropy', 'loadInference': False, 'removePolygons': True, 'plotLandsat': False, 'plotPOI': False, 'training_experiment_id': 41, 'get_multiple_metrics': False, 'start_repetition_id': 0, 'end_repetition_id': 20, 'save_probabilities': False, 'addPastDeforestationInput': True, 'classes_mode': True, 'learning_rate': 0.0001, 'use_cloud_mask': False, 'mask_out_non_biome': False, 'log_filename': 'log.pkl', 'inference_times': 1, 'dropout_training': False}\n",
      "D:/Jorge/datasets/deforestation/MS/deforestation_past_years.tif\n",
      "Loaded deforestation past years\n"
     ]
    },
    {
     "name": "stderr",
     "output_type": "stream",
     "text": [
      "ic| np.unique(deforestation_past_years, return_counts=True): (array([   0, 2002, 2004, 2006, 2008, 2010, 2012, 2013, 2014, 2015, 2016,\n",
      "                                                                    2017, 2018, 2019, 2020, 2021], dtype=uint16),\n",
      "                                                              array([334024764,   8717093,   6541094,   3824922,   2096535,   1305948,\n",
      "                                                                      1003721,    903906,    318788,    701575,    310887,    440417,\n",
      "                                                                       316180,    560438,    600838,    776899], dtype=int64))\n"
     ]
    },
    {
     "name": "stdout",
     "output_type": "stream",
     "text": [
      "Label where deforestation past years is actual date (2020) = 1\n"
     ]
    },
    {
     "name": "stderr",
     "output_type": "stream",
     "text": [
      "ic| np.unique(deforestation_past_years, return_counts=True): (array([   0, 2002, 2004, 2006, 2008, 2010, 2012, 2013, 2014, 2015, 2016,\n",
      "                                                                    2017, 2018, 2019, 2020, 2021], dtype=uint16),\n",
      "                                                              array([334024764,   8717093,   6541094,   3824922,   2096535,   1305948,\n",
      "                                                                      1003721,    903906,    318788,    701575,    310887,    440417,\n",
      "                                                                       316180,    560438,    600838,    776899], dtype=int64))\n"
     ]
    },
    {
     "name": "stdout",
     "output_type": "stream",
     "text": [
      "Past deforestation different from 0 (no deforestation)\n"
     ]
    },
    {
     "name": "stderr",
     "output_type": "stream",
     "text": [
      "ic| np.unique(deforestation_past_years, return_counts=True): (array([   0, 2002, 2004, 2006, 2008, 2010, 2012, 2013, 2014, 2015, 2016,\n",
      "                                                                    2017, 2018, 2019, 2020, 2021], dtype=uint16),\n",
      "                                                              array([334024764,   8717093,   6541094,   3824922,   2096535,   1305948,\n",
      "                                                                      1003721,    903906,    318788,    701575,    310887,    440417,\n",
      "                                                                       316180,    560438,    600838,    776899], dtype=int64))\n"
     ]
    },
    {
     "name": "stdout",
     "output_type": "stream",
     "text": [
      "Past deforestation before 2008 is 2\n",
      "D:/Jorge/datasets/deforestation/MS/deforestation_before_2000_MS.tif\n"
     ]
    },
    {
     "name": "stderr",
     "output_type": "stream",
     "text": [
      "ic| np.unique(label_past_deforestation_before_2008, return_counts=True): (array([  0, 208], dtype=uint8), array([126708038, 235735967], dtype=int64))\n",
      "ic| np.unique(deforestation_past_years, return_counts=True): (array([   0, 2002, 2004, 2006, 2008, 2010, 2012, 2013, 2014, 2015, 2016,\n",
      "                                                                    2017, 2018, 2019, 2020, 2021], dtype=uint16),\n",
      "                                                              array([334024764,   8717093,   6541094,   3824922,   2096535,   1305948,\n",
      "                                                                      1003721,    903906,    318788,    701575,    310887,    440417,\n",
      "                                                                       316180,    560438,    600838,    776899], dtype=int64))\n",
      "ic| label_per_date.shape: (18605, 19481, 1)\n"
     ]
    },
    {
     "name": "stdout",
     "output_type": "stream",
     "text": [
      "Removing bufer................\n",
      "Mask label shape:  \n",
      " (18605, 19481, 1) \n",
      " Unique values:  \n",
      " [0 1 2]\n",
      "Tiles size:  3721 3896\n",
      "Mask size:  (18605, 19480)\n"
     ]
    },
    {
     "name": "stderr",
     "output_type": "stream",
     "text": [
      "ic| image_stack.shape: (18605, 19481, 9)\n"
     ]
    },
    {
     "name": "stdout",
     "output_type": "stream",
     "text": [
      "Image shape:  (18605, 19481, 9)\n",
      "mask:  (18605, 19480)\n",
      "image stack:  (18605, 19480, 9)\n",
      "ref : (18605, 19480, 1)\n",
      "Training tiles:  [2, 4, 5, 6, 7, 12, 14, 15, 18, 21, 23, 24]\n",
      "Validation tiles:  [9, 11, 25]\n",
      "Test tiles:  [1, 3, 8, 10, 13, 16, 17, 19, 20, 22]\n",
      "-35.0 -8.0\n"
     ]
    },
    {
     "name": "stderr",
     "output_type": "stream",
     "text": [
      "ic| self.path_models+ '/' + self.method +'_'+str(self.repetition_id)+'.h5': 'D:/Jorge/datasets/deforestation/experiments/MS/exp41/models/resunet_16.h5'\n"
     ]
    },
    {
     "name": "stdout",
     "output_type": "stream",
     "text": [
      "Dropout training mode: False\n",
      "time:  0\n",
      "alpha.shape (18640, 19488, 2)\n",
      "S.shape (18640, 19488)\n",
      "K 2\n",
      "u.shape (18640, 19488)\n",
      "belief.shape (18640, 19488, 2)\n",
      "Inference runtime 255.85\n",
      "(36877090,)\n",
      "(array([0, 1], dtype=uint8), array([36581631,   295459], dtype=int64))\n",
      "(18605, 19480, 2)\n"
     ]
    },
    {
     "name": "stderr",
     "output_type": "stream",
     "text": [
      "ic| predicted_test.shape: (144970160,)\n",
      "ic| predicted_test.shape: (36877090,)\n",
      "ic| np.unique(predicted, return_counts=True): (array([0], dtype=int8), array([362425400], dtype=int64))\n",
      "    np.unique(predicted_larger_than_min_area, return_counts=True): (array([0], dtype=int8), array([362425400], dtype=int64))\n",
      "ic| np.unique(ignored_polygons, return_counts=True): (array([0], dtype=int8), array([362425400], dtype=int64))\n",
      "c:\\Users\\jchamorro\\Anaconda3\\envs\\tf2\\lib\\site-packages\\sklearn\\metrics\\_classification.py:1327: UndefinedMetricWarning: Precision is ill-defined and being set to 0.0 due to no predicted samples. Use `zero_division` parameter to control this behavior.\n",
      "  _warn_prf(average, modifier, msg_start, len(result))\n",
      "ic| self.f1: 0.0, self.precision: 0.0, self.recall: 0.0\n",
      "ic| self.label_mask_val.shape: (43491048,)\n",
      "ic| self.label_mask_val_valid.shape: (10776499,)\n",
      "c:\\Users\\jchamorro\\Anaconda3\\envs\\tf2\\lib\\site-packages\\sklearn\\metrics\\_classification.py:1327: UndefinedMetricWarning: Precision is ill-defined and being set to 0.0 due to no predicted samples. Use `zero_division` parameter to control this behavior.\n",
      "  _warn_prf(average, modifier, msg_start, len(result))\n",
      "ic| f1_val: 0.0, precision_val: 0.0, recall_val: 0.0, mAP_val: 11.42\n"
     ]
    },
    {
     "name": "stdout",
     "output_type": "stream",
     "text": [
      "(array([0, 1], dtype=int16), array([361918803,    506597], dtype=int64))\n",
      "[0]\n"
     ]
    },
    {
     "name": "stderr",
     "output_type": "stream",
     "text": [
      "ic| self.label_mask.shape: (18605, 19480)\n",
      "ic| self.mask_test.shape: (18605, 19480)\n",
      "ic| self.label_mask_test.shape: (144970160,)\n",
      "ic| self.error_mask_test.shape: (36877090,)\n",
      "ic| bounds: (0.00010578750008484349, 0.4985)\n"
     ]
    },
    {
     "name": "stdout",
     "output_type": "stream",
     "text": [
      "(0.00010578750008484349, 0.4985)\n",
      "0.19047543687881469\n",
      "threshold 0.19047543687881469\n"
     ]
    },
    {
     "name": "stderr",
     "output_type": "stream",
     "text": [
      "c:\\Users\\jchamorro\\Anaconda3\\envs\\tf2\\lib\\site-packages\\scipy\\optimize\\_minimize.py:783: RuntimeWarning: Method 'bounded' does not support relative tolerance in x; defaulting to absolute tolerance.\n",
      "  warn(\"Method 'bounded' does not support relative tolerance in x; \"\n",
      "ic| label_current_deforestation_test_classified_incorrect.shape: (2196188,)\n",
      "    predicted_test_classified_incorrect.shape: (2196188,)\n",
      "d:\\Jorge\\deforestation_uncertainty\\src\\metrics.py:294: RuntimeWarning: invalid value encountered in longlong_scalars\n",
      "  precision_L = TP_L / (TP_L + FP_L)\n",
      "d:\\Jorge\\deforestation_uncertainty\\src\\metrics.py:297: RuntimeWarning: invalid value encountered in longlong_scalars\n",
      "  precision_H = TP_H / (TP_H + FP_H)\n",
      "ic| TP_H + FN_H + FP_H + TN_H: 2196188\n",
      "    len(label_mask_current_deforestation_test): 36877090\n",
      "ic| TP_H + FN_H + FP_H + TN_H: 2196188\n",
      "    len(label_mask_current_deforestation_test): 36877090\n"
     ]
    },
    {
     "name": "stdout",
     "output_type": "stream",
     "text": [
      "[       nan 0.         0.         0.05955427        nan 0.\n",
      " 0.1284904 ]\n",
      "0.30813035062127003\n",
      "threshold 0.30813035062127003\n"
     ]
    },
    {
     "name": "stderr",
     "output_type": "stream",
     "text": [
      "ic| label_current_deforestation_test_classified_incorrect.shape: (1180397,)\n",
      "    predicted_test_classified_incorrect.shape: (1180397,)\n",
      "d:\\Jorge\\deforestation_uncertainty\\src\\metrics.py:294: RuntimeWarning: invalid value encountered in longlong_scalars\n",
      "  precision_L = TP_L / (TP_L + FP_L)\n",
      "d:\\Jorge\\deforestation_uncertainty\\src\\metrics.py:297: RuntimeWarning: invalid value encountered in longlong_scalars\n",
      "  precision_H = TP_H / (TP_H + FP_H)\n",
      "ic| TP_H + FN_H + FP_H + TN_H: 1180397\n",
      "    len(label_mask_current_deforestation_test): 36877090\n",
      "ic| TP_H + FN_H + FP_H + TN_H: 1180397\n",
      "    len(label_mask_current_deforestation_test): 36877090\n"
     ]
    },
    {
     "name": "stdout",
     "output_type": "stream",
     "text": [
      "[       nan 0.         0.         0.03200895        nan 0.\n",
      " 0.23701863]\n",
      "0.38084508625754454\n",
      "threshold 0.38084508625754454\n"
     ]
    },
    {
     "name": "stderr",
     "output_type": "stream",
     "text": [
      "ic| label_current_deforestation_test_classified_incorrect.shape: (843697,)\n",
      "    predicted_test_classified_incorrect.shape: (843697,)\n",
      "d:\\Jorge\\deforestation_uncertainty\\src\\metrics.py:294: RuntimeWarning: invalid value encountered in longlong_scalars\n",
      "  precision_L = TP_L / (TP_L + FP_L)\n",
      "d:\\Jorge\\deforestation_uncertainty\\src\\metrics.py:297: RuntimeWarning: invalid value encountered in longlong_scalars\n",
      "  precision_H = TP_H / (TP_H + FP_H)\n",
      "ic| TP_H + FN_H + FP_H + TN_H: 843697\n",
      "    len(label_mask_current_deforestation_test): 36877090\n",
      "ic| TP_H + FN_H + FP_H + TN_H: 843697\n",
      "    len(label_mask_current_deforestation_test): 36877090\n"
     ]
    },
    {
     "name": "stdout",
     "output_type": "stream",
     "text": [
      "[       nan 0.         0.         0.02287862        nan 0.\n",
      " 0.3289841 ]\n",
      "0.32250464373609705\n",
      "threshold 0.32250464373609705\n"
     ]
    },
    {
     "name": "stderr",
     "output_type": "stream",
     "text": [
      "ic| label_current_deforestation_test_classified_incorrect.shape: (1101578,)\n",
      "    predicted_test_classified_incorrect.shape: (1101578,)\n",
      "d:\\Jorge\\deforestation_uncertainty\\src\\metrics.py:294: RuntimeWarning: invalid value encountered in longlong_scalars\n",
      "  precision_L = TP_L / (TP_L + FP_L)\n",
      "d:\\Jorge\\deforestation_uncertainty\\src\\metrics.py:297: RuntimeWarning: invalid value encountered in longlong_scalars\n",
      "  precision_H = TP_H / (TP_H + FP_H)\n",
      "ic| TP_H + FN_H + FP_H + TN_H: 1101578\n",
      "    len(label_mask_current_deforestation_test): 36877090\n",
      "ic| TP_H + FN_H + FP_H + TN_H: 1101578\n",
      "    len(label_mask_current_deforestation_test): 36877090\n"
     ]
    },
    {
     "name": "stdout",
     "output_type": "stream",
     "text": [
      "[       nan 0.         0.         0.02987161        nan 0.\n",
      " 0.25359895]\n",
      "0.3342911391545971\n",
      "threshold 0.3342911391545971\n"
     ]
    },
    {
     "name": "stderr",
     "output_type": "stream",
     "text": [
      "ic| label_current_deforestation_test_classified_incorrect.shape: (1042493,)\n",
      "    predicted_test_classified_incorrect.shape: (1042493,)\n",
      "d:\\Jorge\\deforestation_uncertainty\\src\\metrics.py:294: RuntimeWarning: invalid value encountered in longlong_scalars\n",
      "  precision_L = TP_L / (TP_L + FP_L)\n",
      "d:\\Jorge\\deforestation_uncertainty\\src\\metrics.py:297: RuntimeWarning: invalid value encountered in longlong_scalars\n",
      "  precision_H = TP_H / (TP_H + FP_H)\n",
      "ic| TP_H + FN_H + FP_H + TN_H: 1042493\n",
      "    len(label_mask_current_deforestation_test): 36877090\n",
      "ic| TP_H + FN_H + FP_H + TN_H: 1042493\n",
      "    len(label_mask_current_deforestation_test): 36877090\n"
     ]
    },
    {
     "name": "stdout",
     "output_type": "stream",
     "text": [
      "[       nan 0.         0.         0.02826939        nan 0.\n",
      " 0.26764222]\n",
      "0.32173245275949797\n",
      "threshold 0.32173245275949797\n"
     ]
    },
    {
     "name": "stderr",
     "output_type": "stream",
     "text": [
      "ic| label_current_deforestation_test_classified_incorrect.shape: (1105619,)\n",
      "    predicted_test_classified_incorrect.shape: (1105619,)\n",
      "d:\\Jorge\\deforestation_uncertainty\\src\\metrics.py:294: RuntimeWarning: invalid value encountered in longlong_scalars\n",
      "  precision_L = TP_L / (TP_L + FP_L)\n",
      "d:\\Jorge\\deforestation_uncertainty\\src\\metrics.py:297: RuntimeWarning: invalid value encountered in longlong_scalars\n",
      "  precision_H = TP_H / (TP_H + FP_H)\n",
      "ic| TP_H + FN_H + FP_H + TN_H: 1105619\n",
      "    len(label_mask_current_deforestation_test): 36877090\n",
      "ic| TP_H + FN_H + FP_H + TN_H: 1105619\n",
      "    len(label_mask_current_deforestation_test): 36877090\n"
     ]
    },
    {
     "name": "stdout",
     "output_type": "stream",
     "text": [
      "[       nan 0.         0.         0.02998119        nan 0.\n",
      " 0.25269614]\n",
      "0.31653691206114254\n",
      "threshold 0.31653691206114254\n"
     ]
    },
    {
     "name": "stderr",
     "output_type": "stream",
     "text": [
      "ic| label_current_deforestation_test_classified_incorrect.shape: (1133225,)\n",
      "    predicted_test_classified_incorrect.shape: (1133225,)\n",
      "d:\\Jorge\\deforestation_uncertainty\\src\\metrics.py:294: RuntimeWarning: invalid value encountered in longlong_scalars\n",
      "  precision_L = TP_L / (TP_L + FP_L)\n",
      "d:\\Jorge\\deforestation_uncertainty\\src\\metrics.py:297: RuntimeWarning: invalid value encountered in longlong_scalars\n",
      "  precision_H = TP_H / (TP_H + FP_H)\n",
      "ic| TP_H + FN_H + FP_H + TN_H: 1133225\n",
      "    len(label_mask_current_deforestation_test): 36877090\n",
      "ic| TP_H + FN_H + FP_H + TN_H: 1133225\n",
      "    len(label_mask_current_deforestation_test): 36877090\n"
     ]
    },
    {
     "name": "stdout",
     "output_type": "stream",
     "text": [
      "[       nan 0.         0.         0.03072978        nan 0.\n",
      " 0.24667342]\n",
      "0.32059950453374075\n",
      "threshold 0.32059950453374075\n"
     ]
    },
    {
     "name": "stderr",
     "output_type": "stream",
     "text": [
      "ic| label_current_deforestation_test_classified_incorrect.shape: (1111584,)\n",
      "    predicted_test_classified_incorrect.shape: (1111584,)\n",
      "d:\\Jorge\\deforestation_uncertainty\\src\\metrics.py:294: RuntimeWarning: invalid value encountered in longlong_scalars\n",
      "  precision_L = TP_L / (TP_L + FP_L)\n",
      "d:\\Jorge\\deforestation_uncertainty\\src\\metrics.py:297: RuntimeWarning: invalid value encountered in longlong_scalars\n",
      "  precision_H = TP_H / (TP_H + FP_H)\n",
      "ic| TP_H + FN_H + FP_H + TN_H: 1111584\n",
      "    len(label_mask_current_deforestation_test): 36877090\n",
      "ic| TP_H + FN_H + FP_H + TN_H: 1111584\n",
      "    len(label_mask_current_deforestation_test): 36877090\n"
     ]
    },
    {
     "name": "stdout",
     "output_type": "stream",
     "text": [
      "[       nan 0.         0.         0.03014294        nan 0.\n",
      " 0.25136784]\n",
      "0.3215810057470425\n",
      "threshold 0.3215810057470425\n"
     ]
    },
    {
     "name": "stderr",
     "output_type": "stream",
     "text": [
      "ic| label_current_deforestation_test_classified_incorrect.shape: (1106430,)\n",
      "    predicted_test_classified_incorrect.shape: (1106430,)\n",
      "d:\\Jorge\\deforestation_uncertainty\\src\\metrics.py:294: RuntimeWarning: invalid value encountered in longlong_scalars\n",
      "  precision_L = TP_L / (TP_L + FP_L)\n",
      "d:\\Jorge\\deforestation_uncertainty\\src\\metrics.py:297: RuntimeWarning: invalid value encountered in longlong_scalars\n",
      "  precision_H = TP_H / (TP_H + FP_H)\n",
      "ic| TP_H + FN_H + FP_H + TN_H: 1106430\n",
      "    len(label_mask_current_deforestation_test): 36877090\n",
      "ic| TP_H + FN_H + FP_H + TN_H: 1106430\n",
      "    len(label_mask_current_deforestation_test): 36877090\n"
     ]
    },
    {
     "name": "stdout",
     "output_type": "stream",
     "text": [
      "[       nan 0.         0.         0.03000318        nan 0.\n",
      " 0.25251416]\n",
      "0.3212061056435605\n",
      "threshold 0.3212061056435605\n"
     ]
    },
    {
     "name": "stderr",
     "output_type": "stream",
     "text": [
      "ic| label_current_deforestation_test_classified_incorrect.shape: (1108374,)\n",
      "    predicted_test_classified_incorrect.shape: (1108374,)\n",
      "d:\\Jorge\\deforestation_uncertainty\\src\\metrics.py:294: RuntimeWarning: invalid value encountered in longlong_scalars\n",
      "  precision_L = TP_L / (TP_L + FP_L)\n",
      "d:\\Jorge\\deforestation_uncertainty\\src\\metrics.py:297: RuntimeWarning: invalid value encountered in longlong_scalars\n",
      "  precision_H = TP_H / (TP_H + FP_H)\n",
      "ic| TP_H + FN_H + FP_H + TN_H: 1108374\n",
      "    len(label_mask_current_deforestation_test): 36877090\n",
      "ic| TP_H + FN_H + FP_H + TN_H: 1108374\n",
      "    len(label_mask_current_deforestation_test): 36877090\n"
     ]
    },
    {
     "name": "stdout",
     "output_type": "stream",
     "text": [
      "[       nan 0.         0.         0.0300559         nan 0.\n",
      " 0.25208081]\n",
      "0.3215453302169283\n",
      "threshold 0.3215453302169283\n"
     ]
    },
    {
     "name": "stderr",
     "output_type": "stream",
     "text": [
      "ic| label_current_deforestation_test_classified_incorrect.shape: (1106618,)\n",
      "    predicted_test_classified_incorrect.shape: (1106618,)\n",
      "d:\\Jorge\\deforestation_uncertainty\\src\\metrics.py:294: RuntimeWarning: invalid value encountered in longlong_scalars\n",
      "  precision_L = TP_L / (TP_L + FP_L)\n",
      "d:\\Jorge\\deforestation_uncertainty\\src\\metrics.py:297: RuntimeWarning: invalid value encountered in longlong_scalars\n",
      "  precision_H = TP_H / (TP_H + FP_H)\n",
      "ic| TP_H + FN_H + FP_H + TN_H: 1106618\n",
      "    len(label_mask_current_deforestation_test): 36877090\n",
      "ic| TP_H + FN_H + FP_H + TN_H: 1106618\n",
      "    len(label_mask_current_deforestation_test): 36877090\n"
     ]
    },
    {
     "name": "stdout",
     "output_type": "stream",
     "text": [
      "[       nan 0.         0.         0.03000828        nan 0.\n",
      " 0.25247287]\n",
      "0.32161749361914177\n",
      "threshold 0.32161749361914177\n"
     ]
    },
    {
     "name": "stderr",
     "output_type": "stream",
     "text": [
      "ic| label_current_deforestation_test_classified_incorrect.shape: (1106213,)\n",
      "    predicted_test_classified_incorrect.shape: (1106213,)\n",
      "d:\\Jorge\\deforestation_uncertainty\\src\\metrics.py:294: RuntimeWarning: invalid value encountered in longlong_scalars\n",
      "  precision_L = TP_L / (TP_L + FP_L)\n",
      "d:\\Jorge\\deforestation_uncertainty\\src\\metrics.py:297: RuntimeWarning: invalid value encountered in longlong_scalars\n",
      "  precision_H = TP_H / (TP_H + FP_H)\n",
      "ic| TP_H + FN_H + FP_H + TN_H: 1106213\n",
      "    len(label_mask_current_deforestation_test): 36877090\n",
      "ic| TP_H + FN_H + FP_H + TN_H: 1106213\n",
      "    len(label_mask_current_deforestation_test): 36877090\n"
     ]
    },
    {
     "name": "stdout",
     "output_type": "stream",
     "text": [
      "[       nan 0.         0.         0.0299973         nan 0.\n",
      " 0.25256313]\n",
      "0.32165083172283343\n",
      "threshold 0.32165083172283343\n"
     ]
    },
    {
     "name": "stderr",
     "output_type": "stream",
     "text": [
      "ic| label_current_deforestation_test_classified_incorrect.shape: (1106045,)\n",
      "    predicted_test_classified_incorrect.shape: (1106045,)\n",
      "d:\\Jorge\\deforestation_uncertainty\\src\\metrics.py:294: RuntimeWarning: invalid value encountered in longlong_scalars\n",
      "  precision_L = TP_L / (TP_L + FP_L)\n",
      "d:\\Jorge\\deforestation_uncertainty\\src\\metrics.py:297: RuntimeWarning: invalid value encountered in longlong_scalars\n",
      "  precision_H = TP_H / (TP_H + FP_H)\n",
      "ic| TP_H + FN_H + FP_H + TN_H: 1106045\n",
      "    len(label_mask_current_deforestation_test): 36877090\n",
      "ic| TP_H + FN_H + FP_H + TN_H: 1106045\n",
      "    len(label_mask_current_deforestation_test): 36877090\n",
      "ic| self.threshold_optimal: 0.32161749361914177\n"
     ]
    },
    {
     "name": "stdout",
     "output_type": "stream",
     "text": [
      "[       nan 0.         0.         0.02999274        nan 0.\n",
      " 0.25260105]\n",
      "threshold:  0.32161749361914177\n",
      "threshold 0.32161749361914177\n"
     ]
    },
    {
     "name": "stderr",
     "output_type": "stream",
     "text": [
      "ic| label_current_deforestation_test_classified_incorrect.shape: (1106213,)\n",
      "    predicted_test_classified_incorrect.shape: (1106213,)\n",
      "d:\\Jorge\\deforestation_uncertainty\\src\\metrics.py:294: RuntimeWarning: invalid value encountered in longlong_scalars\n",
      "  precision_L = TP_L / (TP_L + FP_L)\n",
      "d:\\Jorge\\deforestation_uncertainty\\src\\metrics.py:297: RuntimeWarning: invalid value encountered in longlong_scalars\n",
      "  precision_H = TP_H / (TP_H + FP_H)\n",
      "ic| TP_H + FN_H + FP_H + TN_H: 1106213\n",
      "    len(label_mask_current_deforestation_test): 36877090\n",
      "ic| TP_H + FN_H + FP_H + TN_H: 1106213\n",
      "    len(label_mask_current_deforestation_test): 36877090\n"
     ]
    },
    {
     "name": "stdout",
     "output_type": "stream",
     "text": [
      "[       nan 0.         0.         0.0299973         nan 0.\n",
      " 0.25256313]\n",
      "threshold 0.32161749361914177\n",
      "(36877090,) (36877090,)\n"
     ]
    },
    {
     "name": "stderr",
     "output_type": "stream",
     "text": [
      "ic| self.m_optimal: {'AA': array([0.0299973]),\n",
      "                     'UEO': array([0.25256313]),\n",
      "                     'f1': 0.0,\n",
      "                     'f1_H': array([nan]),\n",
      "                     'f1_L': array([nan]),\n",
      "                     'precision_H': array([nan]),\n",
      "                     'precision_L': array([nan]),\n",
      "                     'recall_H': array([0.]),\n",
      "                     'recall_L': array([0.]),\n",
      "                     'recall_Ltotal': array([0.])}\n",
      "ic| self.m_audited_optimal: {'f1': array([0.97780615]),\n",
      "                             'precision': array([1.]),\n",
      "                             'recall': array([0.95657604])}\n"
     ]
    },
    {
     "name": "stdout",
     "output_type": "stream",
     "text": [
      "cm_audited [[36581631        0]\n",
      " [   12830   282629]]\n",
      "[1.         0.95657604]\n",
      "Result idx 16: {'uncertainty_result': {'metrics': {'precision_L': array([nan]), 'recall_L': array([0.]), 'recall_Ltotal': array([0.]), 'AA': array([0.0299973]), 'precision_H': array([nan]), 'recall_H': array([0.]), 'UEO': array([0.25256313]), 'f1_L': array([nan]), 'f1_H': array([nan]), 'f1': 0.0}, 'metrics_audited': {'precision': array([1.]), 'recall': array([0.95657604]), 'f1': array([0.97780615])}, 'exp': 41}}\n",
      "Grid execution idx: 16\n",
      "Beginning run number 17\n",
      "manager.config {'training': True, 'inferring': True, 'site': 'MS', 'training_date': 'current', 'mode': 'evidential2', 'training_times': 20, 'uncertainty_method': 'pred_entropy', 'loadInference': False, 'removePolygons': True, 'plotLandsat': False, 'plotPOI': False, 'training_experiment_id': 41, 'get_multiple_metrics': False, 'start_repetition_id': 0, 'end_repetition_id': 20, 'save_probabilities': False, 'addPastDeforestationInput': True, 'classes_mode': True, 'learning_rate': 0.0001, 'use_cloud_mask': False, 'mask_out_non_biome': False, 'log_filename': 'log.pkl', 'inference_times': 1, 'dropout_training': False}\n",
      "D:/Jorge/datasets/deforestation/MS/deforestation_past_years.tif\n",
      "Loaded deforestation past years\n"
     ]
    },
    {
     "name": "stderr",
     "output_type": "stream",
     "text": [
      "ic| np.unique(deforestation_past_years, return_counts=True): (array([   0, 2002, 2004, 2006, 2008, 2010, 2012, 2013, 2014, 2015, 2016,\n",
      "                                                                    2017, 2018, 2019, 2020, 2021], dtype=uint16),\n",
      "                                                              array([334024764,   8717093,   6541094,   3824922,   2096535,   1305948,\n",
      "                                                                      1003721,    903906,    318788,    701575,    310887,    440417,\n",
      "                                                                       316180,    560438,    600838,    776899], dtype=int64))\n"
     ]
    },
    {
     "name": "stdout",
     "output_type": "stream",
     "text": [
      "Label where deforestation past years is actual date (2020) = 1\n"
     ]
    },
    {
     "name": "stderr",
     "output_type": "stream",
     "text": [
      "ic| np.unique(deforestation_past_years, return_counts=True): (array([   0, 2002, 2004, 2006, 2008, 2010, 2012, 2013, 2014, 2015, 2016,\n",
      "                                                                    2017, 2018, 2019, 2020, 2021], dtype=uint16),\n",
      "                                                              array([334024764,   8717093,   6541094,   3824922,   2096535,   1305948,\n",
      "                                                                      1003721,    903906,    318788,    701575,    310887,    440417,\n",
      "                                                                       316180,    560438,    600838,    776899], dtype=int64))\n"
     ]
    },
    {
     "name": "stdout",
     "output_type": "stream",
     "text": [
      "Past deforestation different from 0 (no deforestation)\n"
     ]
    },
    {
     "name": "stderr",
     "output_type": "stream",
     "text": [
      "ic| np.unique(deforestation_past_years, return_counts=True): (array([   0, 2002, 2004, 2006, 2008, 2010, 2012, 2013, 2014, 2015, 2016,\n",
      "                                                                    2017, 2018, 2019, 2020, 2021], dtype=uint16),\n",
      "                                                              array([334024764,   8717093,   6541094,   3824922,   2096535,   1305948,\n",
      "                                                                      1003721,    903906,    318788,    701575,    310887,    440417,\n",
      "                                                                       316180,    560438,    600838,    776899], dtype=int64))\n"
     ]
    },
    {
     "name": "stdout",
     "output_type": "stream",
     "text": [
      "Past deforestation before 2008 is 2\n",
      "D:/Jorge/datasets/deforestation/MS/deforestation_before_2000_MS.tif\n"
     ]
    },
    {
     "name": "stderr",
     "output_type": "stream",
     "text": [
      "ic| np.unique(label_past_deforestation_before_2008, return_counts=True): (array([  0, 208], dtype=uint8), array([126708038, 235735967], dtype=int64))\n",
      "ic| np.unique(deforestation_past_years, return_counts=True): (array([   0, 2002, 2004, 2006, 2008, 2010, 2012, 2013, 2014, 2015, 2016,\n",
      "                                                                    2017, 2018, 2019, 2020, 2021], dtype=uint16),\n",
      "                                                              array([334024764,   8717093,   6541094,   3824922,   2096535,   1305948,\n",
      "                                                                      1003721,    903906,    318788,    701575,    310887,    440417,\n",
      "                                                                       316180,    560438,    600838,    776899], dtype=int64))\n",
      "ic| label_per_date.shape: (18605, 19481, 1)\n"
     ]
    },
    {
     "name": "stdout",
     "output_type": "stream",
     "text": [
      "Removing bufer................\n",
      "Mask label shape:  \n",
      " (18605, 19481, 1) \n",
      " Unique values:  \n",
      " [0 1 2]\n",
      "Tiles size:  3721 3896\n",
      "Mask size:  (18605, 19480)\n"
     ]
    },
    {
     "name": "stderr",
     "output_type": "stream",
     "text": [
      "ic| image_stack.shape: (18605, 19481, 9)\n"
     ]
    },
    {
     "name": "stdout",
     "output_type": "stream",
     "text": [
      "Image shape:  (18605, 19481, 9)\n",
      "mask:  (18605, 19480)\n",
      "image stack:  (18605, 19480, 9)\n",
      "ref : (18605, 19480, 1)\n",
      "Training tiles:  [2, 4, 5, 6, 7, 12, 14, 15, 18, 21, 23, 24]\n",
      "Validation tiles:  [9, 11, 25]\n",
      "Test tiles:  [1, 3, 8, 10, 13, 16, 17, 19, 20, 22]\n",
      "-35.0 -8.0\n"
     ]
    },
    {
     "name": "stderr",
     "output_type": "stream",
     "text": [
      "ic| self.path_models+ '/' + self.method +'_'+str(self.repetition_id)+'.h5': 'D:/Jorge/datasets/deforestation/experiments/MS/exp41/models/resunet_17.h5'\n"
     ]
    },
    {
     "name": "stdout",
     "output_type": "stream",
     "text": [
      "Dropout training mode: False\n",
      "time:  0\n",
      "alpha.shape (18640, 19488, 2)\n",
      "S.shape (18640, 19488)\n",
      "K 2\n",
      "u.shape (18640, 19488)\n",
      "belief.shape (18640, 19488, 2)\n",
      "Inference runtime 257.3\n",
      "(36877090,)\n",
      "(array([0, 1], dtype=uint8), array([36581631,   295459], dtype=int64))\n",
      "(18605, 19480, 2)\n"
     ]
    },
    {
     "name": "stderr",
     "output_type": "stream",
     "text": [
      "ic| predicted_test.shape: (144970160,)\n",
      "ic| predicted_test.shape: (36877090,)\n",
      "ic| np.unique(predicted, return_counts=True): (array([0], dtype=int8), array([362425400], dtype=int64))\n",
      "    np.unique(predicted_larger_than_min_area, return_counts=True): (array([0], dtype=int8), array([362425400], dtype=int64))\n",
      "ic| np.unique(ignored_polygons, return_counts=True): (array([0], dtype=int8), array([362425400], dtype=int64))\n",
      "c:\\Users\\jchamorro\\Anaconda3\\envs\\tf2\\lib\\site-packages\\sklearn\\metrics\\_classification.py:1327: UndefinedMetricWarning: Precision is ill-defined and being set to 0.0 due to no predicted samples. Use `zero_division` parameter to control this behavior.\n",
      "  _warn_prf(average, modifier, msg_start, len(result))\n",
      "ic| self.f1: 0.0, self.precision: 0.0, self.recall: 0.0\n",
      "ic| self.label_mask_val.shape: (43491048,)\n",
      "ic| self.label_mask_val_valid.shape: (10776499,)\n",
      "c:\\Users\\jchamorro\\Anaconda3\\envs\\tf2\\lib\\site-packages\\sklearn\\metrics\\_classification.py:1327: UndefinedMetricWarning: Precision is ill-defined and being set to 0.0 due to no predicted samples. Use `zero_division` parameter to control this behavior.\n",
      "  _warn_prf(average, modifier, msg_start, len(result))\n",
      "ic| f1_val: 0.0, precision_val: 0.0, recall_val: 0.0, mAP_val: 9.94\n"
     ]
    },
    {
     "name": "stdout",
     "output_type": "stream",
     "text": [
      "(array([0, 1], dtype=int16), array([361918803,    506597], dtype=int64))\n",
      "[0]\n"
     ]
    },
    {
     "name": "stderr",
     "output_type": "stream",
     "text": [
      "ic| self.label_mask.shape: (18605, 19480)\n",
      "ic| self.mask_test.shape: (18605, 19480)\n",
      "ic| self.label_mask_test.shape: (144970160,)\n",
      "ic| self.error_mask_test.shape: (36877090,)\n",
      "ic| bounds: (0.00010578750008484349, 0.4985)\n"
     ]
    },
    {
     "name": "stdout",
     "output_type": "stream",
     "text": [
      "(0.00010578750008484349, 0.4985)\n",
      "0.19047543687881469\n",
      "threshold 0.19047543687881469\n"
     ]
    },
    {
     "name": "stderr",
     "output_type": "stream",
     "text": [
      "c:\\Users\\jchamorro\\Anaconda3\\envs\\tf2\\lib\\site-packages\\scipy\\optimize\\_minimize.py:783: RuntimeWarning: Method 'bounded' does not support relative tolerance in x; defaulting to absolute tolerance.\n",
      "  warn(\"Method 'bounded' does not support relative tolerance in x; \"\n",
      "ic| label_current_deforestation_test_classified_incorrect.shape: (2425340,)\n",
      "    predicted_test_classified_incorrect.shape: (2425340,)\n",
      "d:\\Jorge\\deforestation_uncertainty\\src\\metrics.py:294: RuntimeWarning: invalid value encountered in longlong_scalars\n",
      "  precision_L = TP_L / (TP_L + FP_L)\n",
      "d:\\Jorge\\deforestation_uncertainty\\src\\metrics.py:297: RuntimeWarning: invalid value encountered in longlong_scalars\n",
      "  precision_H = TP_H / (TP_H + FP_H)\n",
      "ic| TP_H + FN_H + FP_H + TN_H: 2425340\n",
      "    len(label_mask_current_deforestation_test): 36877090\n",
      "ic| TP_H + FN_H + FP_H + TN_H: 2425340\n",
      "    len(label_mask_current_deforestation_test): 36877090\n"
     ]
    },
    {
     "name": "stdout",
     "output_type": "stream",
     "text": [
      "[       nan 0.         0.         0.0657682         nan 0.\n",
      " 0.11591255]\n",
      "0.30813035062127003\n",
      "threshold 0.30813035062127003\n"
     ]
    },
    {
     "name": "stderr",
     "output_type": "stream",
     "text": [
      "ic| label_current_deforestation_test_classified_incorrect.shape: (1091843,)\n",
      "    predicted_test_classified_incorrect.shape: (1091843,)\n",
      "d:\\Jorge\\deforestation_uncertainty\\src\\metrics.py:294: RuntimeWarning: invalid value encountered in longlong_scalars\n",
      "  precision_L = TP_L / (TP_L + FP_L)\n",
      "d:\\Jorge\\deforestation_uncertainty\\src\\metrics.py:297: RuntimeWarning: invalid value encountered in longlong_scalars\n",
      "  precision_H = TP_H / (TP_H + FP_H)\n",
      "ic| TP_H + FN_H + FP_H + TN_H: 1091843\n",
      "    len(label_mask_current_deforestation_test): 36877090\n",
      "ic| TP_H + FN_H + FP_H + TN_H: 1091843\n",
      "    len(label_mask_current_deforestation_test): 36877090\n"
     ]
    },
    {
     "name": "stdout",
     "output_type": "stream",
     "text": [
      "[       nan 0.         0.         0.02960762        nan 0.\n",
      " 0.25500672]\n",
      "0.38084508625754454\n",
      "threshold 0.38084508625754454\n"
     ]
    },
    {
     "name": "stderr",
     "output_type": "stream",
     "text": [
      "ic| label_current_deforestation_test_classified_incorrect.shape: (756964,)\n",
      "    predicted_test_classified_incorrect.shape: (756964,)\n",
      "d:\\Jorge\\deforestation_uncertainty\\src\\metrics.py:294: RuntimeWarning: invalid value encountered in longlong_scalars\n",
      "  precision_L = TP_L / (TP_L + FP_L)\n",
      "d:\\Jorge\\deforestation_uncertainty\\src\\metrics.py:297: RuntimeWarning: invalid value encountered in longlong_scalars\n",
      "  precision_H = TP_H / (TP_H + FP_H)\n",
      "ic| TP_H + FN_H + FP_H + TN_H: 756964\n",
      "    len(label_mask_current_deforestation_test): 36877090\n",
      "ic| TP_H + FN_H + FP_H + TN_H: 756964\n",
      "    len(label_mask_current_deforestation_test): 36877090\n"
     ]
    },
    {
     "name": "stdout",
     "output_type": "stream",
     "text": [
      "[       nan 0.         0.         0.02052667        nan 0.\n",
      " 0.36490593]\n",
      "0.31655477360824275\n",
      "threshold 0.31655477360824275\n"
     ]
    },
    {
     "name": "stderr",
     "output_type": "stream",
     "text": [
      "ic| label_current_deforestation_test_classified_incorrect.shape: (1038194,)\n",
      "    predicted_test_classified_incorrect.shape: (1038194,)\n",
      "d:\\Jorge\\deforestation_uncertainty\\src\\metrics.py:294: RuntimeWarning: invalid value encountered in longlong_scalars\n",
      "  precision_L = TP_L / (TP_L + FP_L)\n",
      "d:\\Jorge\\deforestation_uncertainty\\src\\metrics.py:297: RuntimeWarning: invalid value encountered in longlong_scalars\n",
      "  precision_H = TP_H / (TP_H + FP_H)\n",
      "ic| TP_H + FN_H + FP_H + TN_H: 1038194\n",
      "    len(label_mask_current_deforestation_test): 36877090\n",
      "ic| TP_H + FN_H + FP_H + TN_H: 1038194\n",
      "    len(label_mask_current_deforestation_test): 36877090\n"
     ]
    },
    {
     "name": "stdout",
     "output_type": "stream",
     "text": [
      "[       nan 0.         0.         0.02815282        nan 0.\n",
      " 0.26795276]\n",
      "0.2631901725150892\n",
      "threshold 0.2631901725150892\n"
     ]
    },
    {
     "name": "stderr",
     "output_type": "stream",
     "text": [
      "ic| label_current_deforestation_test_classified_incorrect.shape: (1455294,)\n",
      "    predicted_test_classified_incorrect.shape: (1455294,)\n",
      "d:\\Jorge\\deforestation_uncertainty\\src\\metrics.py:294: RuntimeWarning: invalid value encountered in longlong_scalars\n",
      "  precision_L = TP_L / (TP_L + FP_L)\n",
      "d:\\Jorge\\deforestation_uncertainty\\src\\metrics.py:297: RuntimeWarning: invalid value encountered in longlong_scalars\n",
      "  precision_H = TP_H / (TP_H + FP_H)\n",
      "ic| TP_H + FN_H + FP_H + TN_H: 1455294\n",
      "    len(label_mask_current_deforestation_test): 36877090\n",
      "ic| TP_H + FN_H + FP_H + TN_H: 1455294\n",
      "    len(label_mask_current_deforestation_test): 36877090\n"
     ]
    },
    {
     "name": "stdout",
     "output_type": "stream",
     "text": [
      "[       nan 0.         0.         0.03946336        nan 0.\n",
      " 0.19214409]\n",
      "0.3000399924685557\n",
      "threshold 0.3000399924685557\n"
     ]
    },
    {
     "name": "stderr",
     "output_type": "stream",
     "text": [
      "ic| label_current_deforestation_test_classified_incorrect.shape: (1147381,)\n",
      "    predicted_test_classified_incorrect.shape: (1147381,)\n",
      "d:\\Jorge\\deforestation_uncertainty\\src\\metrics.py:294: RuntimeWarning: invalid value encountered in longlong_scalars\n",
      "  precision_L = TP_L / (TP_L + FP_L)\n",
      "d:\\Jorge\\deforestation_uncertainty\\src\\metrics.py:297: RuntimeWarning: invalid value encountered in longlong_scalars\n",
      "  precision_H = TP_H / (TP_H + FP_H)\n",
      "ic| TP_H + FN_H + FP_H + TN_H: 1147381\n",
      "    len(label_mask_current_deforestation_test): 36877090\n",
      "ic| TP_H + FN_H + FP_H + TN_H: 1147381\n",
      "    len(label_mask_current_deforestation_test): 36877090\n"
     ]
    },
    {
     "name": "stdout",
     "output_type": "stream",
     "text": [
      "[       nan 0.         0.         0.03111365        nan 0.\n",
      " 0.24285901]\n",
      "0.3068966731941472\n",
      "threshold 0.3068966731941472\n"
     ]
    },
    {
     "name": "stderr",
     "output_type": "stream",
     "text": [
      "ic| label_current_deforestation_test_classified_incorrect.shape: (1100161,)\n",
      "    predicted_test_classified_incorrect.shape: (1100161,)\n",
      "d:\\Jorge\\deforestation_uncertainty\\src\\metrics.py:294: RuntimeWarning: invalid value encountered in longlong_scalars\n",
      "  precision_L = TP_L / (TP_L + FP_L)\n",
      "d:\\Jorge\\deforestation_uncertainty\\src\\metrics.py:297: RuntimeWarning: invalid value encountered in longlong_scalars\n",
      "  precision_H = TP_H / (TP_H + FP_H)\n",
      "ic| TP_H + FN_H + FP_H + TN_H: 1100161\n",
      "    len(label_mask_current_deforestation_test): 36877090\n",
      "ic| TP_H + FN_H + FP_H + TN_H: 1100161\n",
      "    len(label_mask_current_deforestation_test): 36877090\n"
     ]
    },
    {
     "name": "stdout",
     "output_type": "stream",
     "text": [
      "[       nan 0.         0.         0.02983318        nan 0.\n",
      " 0.25311118]\n",
      "0.30520891766551206\n",
      "threshold 0.30520891766551206\n"
     ]
    },
    {
     "name": "stderr",
     "output_type": "stream",
     "text": [
      "ic| label_current_deforestation_test_classified_incorrect.shape: (1111360,)\n",
      "    predicted_test_classified_incorrect.shape: (1111360,)\n",
      "d:\\Jorge\\deforestation_uncertainty\\src\\metrics.py:294: RuntimeWarning: invalid value encountered in longlong_scalars\n",
      "  precision_L = TP_L / (TP_L + FP_L)\n",
      "d:\\Jorge\\deforestation_uncertainty\\src\\metrics.py:297: RuntimeWarning: invalid value encountered in longlong_scalars\n",
      "  precision_H = TP_H / (TP_H + FP_H)\n",
      "ic| TP_H + FN_H + FP_H + TN_H: 1111360\n",
      "    len(label_mask_current_deforestation_test): 36877090\n",
      "ic| TP_H + FN_H + FP_H + TN_H: 1111360\n",
      "    len(label_mask_current_deforestation_test): 36877090\n"
     ]
    },
    {
     "name": "stdout",
     "output_type": "stream",
     "text": [
      "[       nan 0.         0.         0.03013687        nan 0.\n",
      " 0.25060027]\n",
      "0.30323456392558046\n",
      "threshold 0.30323456392558046\n"
     ]
    },
    {
     "name": "stderr",
     "output_type": "stream",
     "text": [
      "ic| label_current_deforestation_test_classified_incorrect.shape: (1125064,)\n",
      "    predicted_test_classified_incorrect.shape: (1125064,)\n",
      "d:\\Jorge\\deforestation_uncertainty\\src\\metrics.py:294: RuntimeWarning: invalid value encountered in longlong_scalars\n",
      "  precision_L = TP_L / (TP_L + FP_L)\n",
      "d:\\Jorge\\deforestation_uncertainty\\src\\metrics.py:297: RuntimeWarning: invalid value encountered in longlong_scalars\n",
      "  precision_H = TP_H / (TP_H + FP_H)\n",
      "ic| TP_H + FN_H + FP_H + TN_H: 1125064\n",
      "    len(label_mask_current_deforestation_test): 36877090\n",
      "ic| TP_H + FN_H + FP_H + TN_H: 1125064\n",
      "    len(label_mask_current_deforestation_test): 36877090\n"
     ]
    },
    {
     "name": "stdout",
     "output_type": "stream",
     "text": [
      "[       nan 0.         0.         0.03050848        nan 0.\n",
      " 0.24759728]\n",
      "0.3058957945018514\n",
      "threshold 0.3058957945018514\n"
     ]
    },
    {
     "name": "stderr",
     "output_type": "stream",
     "text": [
      "ic| label_current_deforestation_test_classified_incorrect.shape: (1106777,)\n",
      "    predicted_test_classified_incorrect.shape: (1106777,)\n",
      "d:\\Jorge\\deforestation_uncertainty\\src\\metrics.py:294: RuntimeWarning: invalid value encountered in longlong_scalars\n",
      "  precision_L = TP_L / (TP_L + FP_L)\n",
      "d:\\Jorge\\deforestation_uncertainty\\src\\metrics.py:297: RuntimeWarning: invalid value encountered in longlong_scalars\n",
      "  precision_H = TP_H / (TP_H + FP_H)\n",
      "ic| TP_H + FN_H + FP_H + TN_H: 1106777\n",
      "    len(label_mask_current_deforestation_test): 36877090\n",
      "ic| TP_H + FN_H + FP_H + TN_H: 1106777\n",
      "    len(label_mask_current_deforestation_test): 36877090\n"
     ]
    },
    {
     "name": "stdout",
     "output_type": "stream",
     "text": [
      "[       nan 0.         0.         0.03001259        nan 0.\n",
      " 0.25162094]\n",
      "0.306008099659399\n",
      "threshold 0.306008099659399\n"
     ]
    },
    {
     "name": "stderr",
     "output_type": "stream",
     "text": [
      "ic| label_current_deforestation_test_classified_incorrect.shape: (1106010,)\n",
      "    predicted_test_classified_incorrect.shape: (1106010,)\n",
      "d:\\Jorge\\deforestation_uncertainty\\src\\metrics.py:294: RuntimeWarning: invalid value encountered in longlong_scalars\n",
      "  precision_L = TP_L / (TP_L + FP_L)\n",
      "d:\\Jorge\\deforestation_uncertainty\\src\\metrics.py:297: RuntimeWarning: invalid value encountered in longlong_scalars\n",
      "  precision_H = TP_H / (TP_H + FP_H)\n",
      "ic| TP_H + FN_H + FP_H + TN_H: 1106010\n",
      "    len(label_mask_current_deforestation_test): 36877090\n",
      "ic| TP_H + FN_H + FP_H + TN_H: 1106010\n",
      "    len(label_mask_current_deforestation_test): 36877090\n"
     ]
    },
    {
     "name": "stdout",
     "output_type": "stream",
     "text": [
      "[       nan 0.         0.         0.02999179        nan 0.\n",
      " 0.25179332]\n",
      "0.30606181788221726\n",
      "threshold 0.30606181788221726\n"
     ]
    },
    {
     "name": "stderr",
     "output_type": "stream",
     "text": [
      "ic| label_current_deforestation_test_classified_incorrect.shape: (1105656,)\n",
      "    predicted_test_classified_incorrect.shape: (1105656,)\n",
      "d:\\Jorge\\deforestation_uncertainty\\src\\metrics.py:294: RuntimeWarning: invalid value encountered in longlong_scalars\n",
      "  precision_L = TP_L / (TP_L + FP_L)\n",
      "d:\\Jorge\\deforestation_uncertainty\\src\\metrics.py:297: RuntimeWarning: invalid value encountered in longlong_scalars\n",
      "  precision_H = TP_H / (TP_H + FP_H)\n",
      "ic| TP_H + FN_H + FP_H + TN_H: 1105656\n",
      "    len(label_mask_current_deforestation_test): 36877090\n",
      "ic| TP_H + FN_H + FP_H + TN_H: 1105656\n",
      "    len(label_mask_current_deforestation_test): 36877090\n"
     ]
    },
    {
     "name": "stdout",
     "output_type": "stream",
     "text": [
      "[       nan 0.         0.         0.02998219        nan 0.\n",
      " 0.25187185]\n",
      "0.30596682444478496\n",
      "threshold 0.30596682444478496\n"
     ]
    },
    {
     "name": "stderr",
     "output_type": "stream",
     "text": [
      "ic| label_current_deforestation_test_classified_incorrect.shape: (1106291,)\n",
      "    predicted_test_classified_incorrect.shape: (1106291,)\n",
      "d:\\Jorge\\deforestation_uncertainty\\src\\metrics.py:294: RuntimeWarning: invalid value encountered in longlong_scalars\n",
      "  precision_L = TP_L / (TP_L + FP_L)\n",
      "d:\\Jorge\\deforestation_uncertainty\\src\\metrics.py:297: RuntimeWarning: invalid value encountered in longlong_scalars\n",
      "  precision_H = TP_H / (TP_H + FP_H)\n",
      "ic| TP_H + FN_H + FP_H + TN_H: 1106291\n",
      "    len(label_mask_current_deforestation_test): 36877090\n",
      "ic| TP_H + FN_H + FP_H + TN_H: 1106291\n",
      "    len(label_mask_current_deforestation_test): 36877090\n"
     ]
    },
    {
     "name": "stdout",
     "output_type": "stream",
     "text": [
      "[       nan 0.         0.         0.02999941        nan 0.\n",
      " 0.25173014]\n",
      "0.3059334865732302\n",
      "threshold 0.3059334865732302\n"
     ]
    },
    {
     "name": "stderr",
     "output_type": "stream",
     "text": [
      "ic| label_current_deforestation_test_classified_incorrect.shape: (1106503,)\n",
      "    predicted_test_classified_incorrect.shape: (1106503,)\n",
      "d:\\Jorge\\deforestation_uncertainty\\src\\metrics.py:294: RuntimeWarning: invalid value encountered in longlong_scalars\n",
      "  precision_L = TP_L / (TP_L + FP_L)\n",
      "d:\\Jorge\\deforestation_uncertainty\\src\\metrics.py:297: RuntimeWarning: invalid value encountered in longlong_scalars\n",
      "  precision_H = TP_H / (TP_H + FP_H)\n",
      "ic| TP_H + FN_H + FP_H + TN_H: 1106503\n",
      "    len(label_mask_current_deforestation_test): 36877090\n",
      "ic| TP_H + FN_H + FP_H + TN_H: 1106503\n",
      "    len(label_mask_current_deforestation_test): 36877090\n",
      "ic| self.threshold_optimal: 0.30596682444478496\n"
     ]
    },
    {
     "name": "stdout",
     "output_type": "stream",
     "text": [
      "[       nan 0.         0.         0.03000516        nan 0.\n",
      " 0.2516825 ]\n",
      "threshold:  0.30596682444478496\n",
      "threshold 0.30596682444478496\n"
     ]
    },
    {
     "name": "stderr",
     "output_type": "stream",
     "text": [
      "ic| label_current_deforestation_test_classified_incorrect.shape: (1106291,)\n",
      "    predicted_test_classified_incorrect.shape: (1106291,)\n",
      "d:\\Jorge\\deforestation_uncertainty\\src\\metrics.py:294: RuntimeWarning: invalid value encountered in longlong_scalars\n",
      "  precision_L = TP_L / (TP_L + FP_L)\n",
      "d:\\Jorge\\deforestation_uncertainty\\src\\metrics.py:297: RuntimeWarning: invalid value encountered in longlong_scalars\n",
      "  precision_H = TP_H / (TP_H + FP_H)\n",
      "ic| TP_H + FN_H + FP_H + TN_H: 1106291\n",
      "    len(label_mask_current_deforestation_test): 36877090\n",
      "ic| TP_H + FN_H + FP_H + TN_H: 1106291\n",
      "    len(label_mask_current_deforestation_test): 36877090\n"
     ]
    },
    {
     "name": "stdout",
     "output_type": "stream",
     "text": [
      "[       nan 0.         0.         0.02999941        nan 0.\n",
      " 0.25173014]\n",
      "threshold 0.30596682444478496\n",
      "(36877090,) (36877090,)\n"
     ]
    },
    {
     "name": "stderr",
     "output_type": "stream",
     "text": [
      "ic| self.m_optimal: {'AA': array([0.02999941]),\n",
      "                     'UEO': array([0.25173014]),\n",
      "                     'f1': 0.0,\n",
      "                     'f1_H': array([nan]),\n",
      "                     'f1_L': array([nan]),\n",
      "                     'precision_H': array([nan]),\n",
      "                     'precision_L': array([nan]),\n",
      "                     'recall_H': array([0.]),\n",
      "                     'recall_L': array([0.]),\n",
      "                     'recall_Ltotal': array([0.])}\n",
      "ic| self.m_audited_optimal: {'f1': array([0.97651548]),\n",
      "                             'precision': array([1.]),\n",
      "                             'recall': array([0.95410869])}\n"
     ]
    },
    {
     "name": "stdout",
     "output_type": "stream",
     "text": [
      "cm_audited [[36581631        0]\n",
      " [   13559   281900]]\n",
      "[1.         0.95410869]\n",
      "Result idx 17: {'uncertainty_result': {'metrics': {'precision_L': array([nan]), 'recall_L': array([0.]), 'recall_Ltotal': array([0.]), 'AA': array([0.02999941]), 'precision_H': array([nan]), 'recall_H': array([0.]), 'UEO': array([0.25173014]), 'f1_L': array([nan]), 'f1_H': array([nan]), 'f1': 0.0}, 'metrics_audited': {'precision': array([1.]), 'recall': array([0.95410869]), 'f1': array([0.97651548])}, 'exp': 41}}\n",
      "Grid execution idx: 17\n",
      "Beginning run number 18\n",
      "manager.config {'training': True, 'inferring': True, 'site': 'MS', 'training_date': 'current', 'mode': 'evidential2', 'training_times': 20, 'uncertainty_method': 'pred_entropy', 'loadInference': False, 'removePolygons': True, 'plotLandsat': False, 'plotPOI': False, 'training_experiment_id': 41, 'get_multiple_metrics': False, 'start_repetition_id': 0, 'end_repetition_id': 20, 'save_probabilities': False, 'addPastDeforestationInput': True, 'classes_mode': True, 'learning_rate': 0.0001, 'use_cloud_mask': False, 'mask_out_non_biome': False, 'log_filename': 'log.pkl', 'inference_times': 1, 'dropout_training': False}\n",
      "D:/Jorge/datasets/deforestation/MS/deforestation_past_years.tif\n",
      "Loaded deforestation past years\n"
     ]
    },
    {
     "name": "stderr",
     "output_type": "stream",
     "text": [
      "ic| np.unique(deforestation_past_years, return_counts=True): (array([   0, 2002, 2004, 2006, 2008, 2010, 2012, 2013, 2014, 2015, 2016,\n",
      "                                                                    2017, 2018, 2019, 2020, 2021], dtype=uint16),\n",
      "                                                              array([334024764,   8717093,   6541094,   3824922,   2096535,   1305948,\n",
      "                                                                      1003721,    903906,    318788,    701575,    310887,    440417,\n",
      "                                                                       316180,    560438,    600838,    776899], dtype=int64))\n"
     ]
    },
    {
     "name": "stdout",
     "output_type": "stream",
     "text": [
      "Label where deforestation past years is actual date (2020) = 1\n"
     ]
    },
    {
     "name": "stderr",
     "output_type": "stream",
     "text": [
      "ic| np.unique(deforestation_past_years, return_counts=True): (array([   0, 2002, 2004, 2006, 2008, 2010, 2012, 2013, 2014, 2015, 2016,\n",
      "                                                                    2017, 2018, 2019, 2020, 2021], dtype=uint16),\n",
      "                                                              array([334024764,   8717093,   6541094,   3824922,   2096535,   1305948,\n",
      "                                                                      1003721,    903906,    318788,    701575,    310887,    440417,\n",
      "                                                                       316180,    560438,    600838,    776899], dtype=int64))\n"
     ]
    },
    {
     "name": "stdout",
     "output_type": "stream",
     "text": [
      "Past deforestation different from 0 (no deforestation)\n"
     ]
    },
    {
     "name": "stderr",
     "output_type": "stream",
     "text": [
      "ic| np.unique(deforestation_past_years, return_counts=True): (array([   0, 2002, 2004, 2006, 2008, 2010, 2012, 2013, 2014, 2015, 2016,\n",
      "                                                                    2017, 2018, 2019, 2020, 2021], dtype=uint16),\n",
      "                                                              array([334024764,   8717093,   6541094,   3824922,   2096535,   1305948,\n",
      "                                                                      1003721,    903906,    318788,    701575,    310887,    440417,\n",
      "                                                                       316180,    560438,    600838,    776899], dtype=int64))\n"
     ]
    },
    {
     "name": "stdout",
     "output_type": "stream",
     "text": [
      "Past deforestation before 2008 is 2\n",
      "D:/Jorge/datasets/deforestation/MS/deforestation_before_2000_MS.tif\n"
     ]
    },
    {
     "name": "stderr",
     "output_type": "stream",
     "text": [
      "ic| np.unique(label_past_deforestation_before_2008, return_counts=True): (array([  0, 208], dtype=uint8), array([126708038, 235735967], dtype=int64))\n",
      "ic| np.unique(deforestation_past_years, return_counts=True): (array([   0, 2002, 2004, 2006, 2008, 2010, 2012, 2013, 2014, 2015, 2016,\n",
      "                                                                    2017, 2018, 2019, 2020, 2021], dtype=uint16),\n",
      "                                                              array([334024764,   8717093,   6541094,   3824922,   2096535,   1305948,\n",
      "                                                                      1003721,    903906,    318788,    701575,    310887,    440417,\n",
      "                                                                       316180,    560438,    600838,    776899], dtype=int64))\n",
      "ic| label_per_date.shape: (18605, 19481, 1)\n"
     ]
    },
    {
     "name": "stdout",
     "output_type": "stream",
     "text": [
      "Removing bufer................\n",
      "Mask label shape:  \n",
      " (18605, 19481, 1) \n",
      " Unique values:  \n",
      " [0 1 2]\n",
      "Tiles size:  3721 3896\n",
      "Mask size:  (18605, 19480)\n"
     ]
    },
    {
     "name": "stderr",
     "output_type": "stream",
     "text": [
      "ic| image_stack.shape: (18605, 19481, 9)\n"
     ]
    },
    {
     "name": "stdout",
     "output_type": "stream",
     "text": [
      "Image shape:  (18605, 19481, 9)\n",
      "mask:  (18605, 19480)\n",
      "image stack:  (18605, 19480, 9)\n",
      "ref : (18605, 19480, 1)\n",
      "Training tiles:  [2, 4, 5, 6, 7, 12, 14, 15, 18, 21, 23, 24]\n",
      "Validation tiles:  [9, 11, 25]\n",
      "Test tiles:  [1, 3, 8, 10, 13, 16, 17, 19, 20, 22]\n",
      "-35.0 -8.0\n"
     ]
    },
    {
     "name": "stderr",
     "output_type": "stream",
     "text": [
      "ic| self.path_models+ '/' + self.method +'_'+str(self.repetition_id)+'.h5': 'D:/Jorge/datasets/deforestation/experiments/MS/exp41/models/resunet_18.h5'\n"
     ]
    },
    {
     "name": "stdout",
     "output_type": "stream",
     "text": [
      "Dropout training mode: False\n",
      "time:  0\n",
      "alpha.shape (18640, 19488, 2)\n",
      "S.shape (18640, 19488)\n",
      "K 2\n",
      "u.shape (18640, 19488)\n",
      "belief.shape (18640, 19488, 2)\n",
      "Inference runtime 255.55\n",
      "(36877090,)\n",
      "(array([0, 1], dtype=uint8), array([36581631,   295459], dtype=int64))\n",
      "(18605, 19480, 2)\n"
     ]
    },
    {
     "name": "stderr",
     "output_type": "stream",
     "text": [
      "ic| predicted_test.shape: (144970160,)\n",
      "ic| predicted_test.shape: (36877090,)\n",
      "ic| np.unique(predicted, return_counts=True): (array([0, 1], dtype=int8), array([361309954,   1115446], dtype=int64))\n",
      "    np.unique(predicted_larger_than_min_area, return_counts=True): (array([0, 1], dtype=int8), array([361368464,   1056936], dtype=int64))\n",
      "ic| np.unique(ignored_polygons, return_counts=True): (array([0, 1], dtype=int8), array([362366890,     58510], dtype=int64))\n",
      "ic| self.f1: 86.3, self.precision: 87.66, self.recall: 84.98\n",
      "ic| self.label_mask_val.shape: (43491048,)\n",
      "ic| self.label_mask_val_valid.shape: (10770512,)\n",
      "ic| f1_val: 39.62\n",
      "    precision_val: 28.65\n",
      "    recall_val: 64.19\n",
      "    mAP_val: 53.28\n"
     ]
    },
    {
     "name": "stdout",
     "output_type": "stream",
     "text": [
      "(array([0, 1], dtype=int16), array([361699875,    725525], dtype=int64))\n",
      "[0 1]\n"
     ]
    },
    {
     "name": "stderr",
     "output_type": "stream",
     "text": [
      "ic| self.label_mask.shape: (18605, 19480)\n",
      "ic| self.mask_test.shape: (18605, 19480)\n",
      "ic| self.label_mask_test.shape: (144970160,)\n",
      "ic| self.error_mask_test.shape: (36853528,)\n",
      "ic| bounds: (0.00010578750008484349, 0.4985)\n"
     ]
    },
    {
     "name": "stdout",
     "output_type": "stream",
     "text": [
      "(0.00010578750008484349, 0.4985)\n",
      "0.19047543687881469\n",
      "threshold 0.19047543687881469\n"
     ]
    },
    {
     "name": "stderr",
     "output_type": "stream",
     "text": [
      "c:\\Users\\jchamorro\\Anaconda3\\envs\\tf2\\lib\\site-packages\\scipy\\optimize\\_minimize.py:783: RuntimeWarning: Method 'bounded' does not support relative tolerance in x; defaulting to absolute tolerance.\n",
      "  warn(\"Method 'bounded' does not support relative tolerance in x; \"\n",
      "ic| label_current_deforestation_test_classified_incorrect.shape: (2391850,)\n",
      "    predicted_test_classified_incorrect.shape: (2391850,)\n",
      "ic| TP_H + FN_H + FP_H + TN_H: 2391850\n",
      "    len(label_mask_current_deforestation_test): 36853528\n",
      "ic| TP_H + FN_H + FP_H + TN_H: 2391850\n",
      "    len(label_mask_current_deforestation_test): 36853528\n"
     ]
    },
    {
     "name": "stdout",
     "output_type": "stream",
     "text": [
      "[0.95223032 0.94166307 0.65786963 0.06490152 0.68896138 0.63692449\n",
      " 0.02342451]\n",
      "0.30813035062127003\n",
      "threshold 0.30813035062127003\n"
     ]
    },
    {
     "name": "stderr",
     "output_type": "stream",
     "text": [
      "ic| label_current_deforestation_test_classified_incorrect.shape: (1227851,)\n",
      "    predicted_test_classified_incorrect.shape: (1227851,)\n",
      "ic| TP_H + FN_H + FP_H + TN_H: 1227851\n",
      "    len(label_mask_current_deforestation_test): 36853528\n",
      "ic| TP_H + FN_H + FP_H + TN_H: 1227851\n",
      "    len(label_mask_current_deforestation_test): 36853528\n"
     ]
    },
    {
     "name": "stdout",
     "output_type": "stream",
     "text": [
      "[0.93506932 0.94361704 0.7397868  0.03331705 0.61704404 0.50940245\n",
      " 0.04001663]\n",
      "0.38084508625754454\n",
      "threshold 0.38084508625754454\n"
     ]
    },
    {
     "name": "stderr",
     "output_type": "stream",
     "text": [
      "ic| label_current_deforestation_test_classified_incorrect.shape: (823743,)\n",
      "    predicted_test_classified_incorrect.shape: (823743,)\n",
      "ic| TP_H + FN_H + FP_H + TN_H: 823743\n",
      "    len(label_mask_current_deforestation_test): 36853528\n",
      "ic| TP_H + FN_H + FP_H + TN_H: 823743\n",
      "    len(label_mask_current_deforestation_test): 36853528\n"
     ]
    },
    {
     "name": "stdout",
     "output_type": "stream",
     "text": [
      "[0.9181317  0.94430831 0.78333836 0.02235181 0.57167571 0.39002055\n",
      " 0.0517209 ]\n",
      "0.32720326814137435\n",
      "threshold 0.32720326814137435\n"
     ]
    },
    {
     "name": "stderr",
     "output_type": "stream",
     "text": [
      "ic| label_current_deforestation_test_classified_incorrect.shape: (1105407,)\n",
      "    predicted_test_classified_incorrect.shape: (1105407,)\n",
      "ic| TP_H + FN_H + FP_H + TN_H: 1105407\n",
      "    len(label_mask_current_deforestation_test): 36853528\n",
      "ic| TP_H + FN_H + FP_H + TN_H: 1105407\n",
      "    len(label_mask_current_deforestation_test): 36853528\n"
     ]
    },
    {
     "name": "stdout",
     "output_type": "stream",
     "text": [
      "[0.93161743 0.94391917 0.75183416 0.0299946  0.60313868 0.48152189\n",
      " 0.04320517]\n",
      "0.33763703408321677\n",
      "threshold 0.33763703408321677\n"
     ]
    },
    {
     "name": "stderr",
     "output_type": "stream",
     "text": [
      "ic| label_current_deforestation_test_classified_incorrect.shape: (1044223,)\n",
      "    predicted_test_classified_incorrect.shape: (1044223,)\n",
      "ic| TP_H + FN_H + FP_H + TN_H: 1044223\n",
      "    len(label_mask_current_deforestation_test): 36853528\n",
      "ic| TP_H + FN_H + FP_H + TN_H: 1044223\n",
      "    len(label_mask_current_deforestation_test): 36853528\n"
     ]
    },
    {
     "name": "stdout",
     "output_type": "stream",
     "text": [
      "[0.92966946 0.94406156 0.7583695  0.02833441 0.59484217 0.46494894\n",
      " 0.04498024]\n",
      "0.32536524108659265\n",
      "threshold 0.32536524108659265\n"
     ]
    },
    {
     "name": "stderr",
     "output_type": "stream",
     "text": [
      "ic| label_current_deforestation_test_classified_incorrect.shape: (1116565,)\n",
      "    predicted_test_classified_incorrect.shape: (1116565,)\n",
      "ic| TP_H + FN_H + FP_H + TN_H: 1116565\n",
      "    len(label_mask_current_deforestation_test): 36853528\n",
      "ic| TP_H + FN_H + FP_H + TN_H: 1116565\n",
      "    len(label_mask_current_deforestation_test): 36853528\n"
     ]
    },
    {
     "name": "stdout",
     "output_type": "stream",
     "text": [
      "[0.93192888 0.94389148 0.7506825  0.03029737 0.6046246  0.4843329\n",
      " 0.04288898]\n",
      "0.3293496474242463\n",
      "threshold 0.3293496474242463\n"
     ]
    },
    {
     "name": "stderr",
     "output_type": "stream",
     "text": [
      "ic| label_current_deforestation_test_classified_incorrect.shape: (1092473,)\n",
      "    predicted_test_classified_incorrect.shape: (1092473,)\n",
      "ic| TP_H + FN_H + FP_H + TN_H: 1092473\n",
      "    len(label_mask_current_deforestation_test): 36853528\n",
      "ic| TP_H + FN_H + FP_H + TN_H: 1092473\n",
      "    len(label_mask_current_deforestation_test): 36853528\n"
     ]
    },
    {
     "name": "stdout",
     "output_type": "stream",
     "text": [
      "[0.9311602  0.94395408 0.75308989 0.02964365 0.60187344 0.47840931\n",
      " 0.04356022]\n",
      "0.327265961249433\n",
      "threshold 0.327265961249433\n"
     ]
    },
    {
     "name": "stderr",
     "output_type": "stream",
     "text": [
      "ic| label_current_deforestation_test_classified_incorrect.shape: (1105026,)\n",
      "    predicted_test_classified_incorrect.shape: (1105026,)\n",
      "ic| TP_H + FN_H + FP_H + TN_H: 1105026\n",
      "    len(label_mask_current_deforestation_test): 36853528\n",
      "ic| TP_H + FN_H + FP_H + TN_H: 1105026\n",
      "    len(label_mask_current_deforestation_test): 36853528\n"
     ]
    },
    {
     "name": "stdout",
     "output_type": "stream",
     "text": [
      "[0.93159634 0.9439175  0.75186885 0.02998427 0.60313121 0.4814417\n",
      " 0.04321325]\n",
      "0.32675055568943273\n",
      "threshold 0.32675055568943273\n"
     ]
    },
    {
     "name": "stderr",
     "output_type": "stream",
     "text": [
      "ic| label_current_deforestation_test_classified_incorrect.shape: (1108212,)\n",
      "    predicted_test_classified_incorrect.shape: (1108212,)\n",
      "ic| TP_H + FN_H + FP_H + TN_H: 1108212\n",
      "    len(label_mask_current_deforestation_test): 36853528\n",
      "ic| TP_H + FN_H + FP_H + TN_H: 1108212\n",
      "    len(label_mask_current_deforestation_test): 36853528\n"
     ]
    },
    {
     "name": "stdout",
     "output_type": "stream",
     "text": [
      "[0.93170656 0.94390492 0.75151503 0.03007072 0.60354374 0.4823173\n",
      " 0.04312702]\n",
      "0.32703034737186293\n",
      "threshold 0.32703034737186293\n"
     ]
    },
    {
     "name": "stderr",
     "output_type": "stream",
     "text": [
      "ic| label_current_deforestation_test_classified_incorrect.shape: (1106438,)\n",
      "    predicted_test_classified_incorrect.shape: (1106438,)\n",
      "ic| TP_H + FN_H + FP_H + TN_H: 1106438\n",
      "    len(label_mask_current_deforestation_test): 36853528\n",
      "ic| TP_H + FN_H + FP_H + TN_H: 1106438\n",
      "    len(label_mask_current_deforestation_test): 36853528\n"
     ]
    },
    {
     "name": "stdout",
     "output_type": "stream",
     "text": [
      "[0.9316512  0.94391473 0.75171275 0.03002258 0.60329345 0.48182283\n",
      " 0.04317696]\n",
      "0.3271611074688946\n",
      "threshold 0.3271611074688946\n"
     ]
    },
    {
     "name": "stderr",
     "output_type": "stream",
     "text": [
      "ic| label_current_deforestation_test_classified_incorrect.shape: (1105689,)\n",
      "    predicted_test_classified_incorrect.shape: (1105689,)\n",
      "ic| TP_H + FN_H + FP_H + TN_H: 1105689\n",
      "    len(label_mask_current_deforestation_test): 36853528\n",
      "ic| TP_H + FN_H + FP_H + TN_H: 1105689\n",
      "    len(label_mask_current_deforestation_test): 36853528\n"
     ]
    },
    {
     "name": "stdout",
     "output_type": "stream",
     "text": [
      "[0.93163422 0.94391648 0.751796   0.03000226 0.60316749 0.48161909\n",
      " 0.04319903]\n",
      "0.3271277692829778\n",
      "threshold 0.3271277692829778\n"
     ]
    },
    {
     "name": "stderr",
     "output_type": "stream",
     "text": [
      "ic| label_current_deforestation_test_classified_incorrect.shape: (1105875,)\n",
      "    predicted_test_classified_incorrect.shape: (1105875,)\n",
      "ic| TP_H + FN_H + FP_H + TN_H: 1105875\n",
      "    len(label_mask_current_deforestation_test): 36853528\n",
      "ic| TP_H + FN_H + FP_H + TN_H: 1105875\n",
      "    len(label_mask_current_deforestation_test): 36853528\n",
      "ic| self.threshold_optimal: 0.3271611074688946\n"
     ]
    },
    {
     "name": "stdout",
     "output_type": "stream",
     "text": [
      "[0.93163216 0.94391477 0.75177172 0.0300073  0.60322677 0.48168092\n",
      " 0.04319195]\n",
      "threshold:  0.3271611074688946\n",
      "threshold 0.3271611074688946\n"
     ]
    },
    {
     "name": "stderr",
     "output_type": "stream",
     "text": [
      "ic| label_current_deforestation_test_classified_incorrect.shape: (1105689,)\n",
      "    predicted_test_classified_incorrect.shape: (1105689,)\n",
      "ic| TP_H + FN_H + FP_H + TN_H: 1105689\n",
      "    len(label_mask_current_deforestation_test): 36853528\n",
      "ic| TP_H + FN_H + FP_H + TN_H: 1105689\n",
      "    len(label_mask_current_deforestation_test): 36853528\n"
     ]
    },
    {
     "name": "stdout",
     "output_type": "stream",
     "text": [
      "[0.93163422 0.94391648 0.751796   0.03000226 0.60316749 0.48161909\n",
      " 0.04319903]\n",
      "threshold 0.3271611074688946\n",
      "(36853528,) (36853528,)\n"
     ]
    },
    {
     "name": "stderr",
     "output_type": "stream",
     "text": [
      "ic| self.m_optimal: {'AA': array([0.03000226]),\n",
      "                     'UEO': array([0.04319903]),\n",
      "                     'f1': 86.3,\n",
      "                     'f1_H': array([0.53558365]),\n",
      "                     'f1_L': array([0.93773513]),\n",
      "                     'precision_H': array([0.60316749]),\n",
      "                     'precision_L': array([0.93163422]),\n",
      "                     'recall_H': array([0.48161909]),\n",
      "                     'recall_L': array([0.94391648]),\n",
      "                     'recall_Ltotal': array([0.751796])}\n",
      "ic| self.m_audited_optimal: {'f1': array([0.95034206]),\n",
      "                             'precision': array([0.94540449]),\n",
      "                             'recall': array([0.95533147])}\n"
     ]
    },
    {
     "name": "stdout",
     "output_type": "stream",
     "text": [
      "cm_audited [[36549345    15904]\n",
      " [   12877   275402]]\n",
      "[0.94540449 0.95533147]\n",
      "Result idx 18: {'uncertainty_result': {'metrics': {'precision_L': array([0.93163422]), 'recall_L': array([0.94391648]), 'recall_Ltotal': array([0.751796]), 'AA': array([0.03000226]), 'precision_H': array([0.60316749]), 'recall_H': array([0.48161909]), 'UEO': array([0.04319903]), 'f1_L': array([0.93773513]), 'f1_H': array([0.53558365]), 'f1': 86.3}, 'metrics_audited': {'precision': array([0.94540449]), 'recall': array([0.95533147]), 'f1': array([0.95034206])}, 'exp': 41}}\n",
      "Grid execution idx: 18\n",
      "Beginning run number 19\n",
      "manager.config {'training': True, 'inferring': True, 'site': 'MS', 'training_date': 'current', 'mode': 'evidential2', 'training_times': 20, 'uncertainty_method': 'pred_entropy', 'loadInference': False, 'removePolygons': True, 'plotLandsat': False, 'plotPOI': False, 'training_experiment_id': 41, 'get_multiple_metrics': False, 'start_repetition_id': 0, 'end_repetition_id': 20, 'save_probabilities': False, 'addPastDeforestationInput': True, 'classes_mode': True, 'learning_rate': 0.0001, 'use_cloud_mask': False, 'mask_out_non_biome': False, 'log_filename': 'log.pkl', 'inference_times': 1, 'dropout_training': False}\n",
      "D:/Jorge/datasets/deforestation/MS/deforestation_past_years.tif\n",
      "Loaded deforestation past years\n"
     ]
    },
    {
     "name": "stderr",
     "output_type": "stream",
     "text": [
      "ic| np.unique(deforestation_past_years, return_counts=True): (array([   0, 2002, 2004, 2006, 2008, 2010, 2012, 2013, 2014, 2015, 2016,\n",
      "                                                                    2017, 2018, 2019, 2020, 2021], dtype=uint16),\n",
      "                                                              array([334024764,   8717093,   6541094,   3824922,   2096535,   1305948,\n",
      "                                                                      1003721,    903906,    318788,    701575,    310887,    440417,\n",
      "                                                                       316180,    560438,    600838,    776899], dtype=int64))\n"
     ]
    },
    {
     "name": "stdout",
     "output_type": "stream",
     "text": [
      "Label where deforestation past years is actual date (2020) = 1\n"
     ]
    },
    {
     "name": "stderr",
     "output_type": "stream",
     "text": [
      "ic| np.unique(deforestation_past_years, return_counts=True): (array([   0, 2002, 2004, 2006, 2008, 2010, 2012, 2013, 2014, 2015, 2016,\n",
      "                                                                    2017, 2018, 2019, 2020, 2021], dtype=uint16),\n",
      "                                                              array([334024764,   8717093,   6541094,   3824922,   2096535,   1305948,\n",
      "                                                                      1003721,    903906,    318788,    701575,    310887,    440417,\n",
      "                                                                       316180,    560438,    600838,    776899], dtype=int64))\n"
     ]
    },
    {
     "name": "stdout",
     "output_type": "stream",
     "text": [
      "Past deforestation different from 0 (no deforestation)\n"
     ]
    },
    {
     "name": "stderr",
     "output_type": "stream",
     "text": [
      "ic| np.unique(deforestation_past_years, return_counts=True): (array([   0, 2002, 2004, 2006, 2008, 2010, 2012, 2013, 2014, 2015, 2016,\n",
      "                                                                    2017, 2018, 2019, 2020, 2021], dtype=uint16),\n",
      "                                                              array([334024764,   8717093,   6541094,   3824922,   2096535,   1305948,\n",
      "                                                                      1003721,    903906,    318788,    701575,    310887,    440417,\n",
      "                                                                       316180,    560438,    600838,    776899], dtype=int64))\n"
     ]
    },
    {
     "name": "stdout",
     "output_type": "stream",
     "text": [
      "Past deforestation before 2008 is 2\n",
      "D:/Jorge/datasets/deforestation/MS/deforestation_before_2000_MS.tif\n"
     ]
    },
    {
     "name": "stderr",
     "output_type": "stream",
     "text": [
      "ic| np.unique(label_past_deforestation_before_2008, return_counts=True): (array([  0, 208], dtype=uint8), array([126708038, 235735967], dtype=int64))\n",
      "ic| np.unique(deforestation_past_years, return_counts=True): (array([   0, 2002, 2004, 2006, 2008, 2010, 2012, 2013, 2014, 2015, 2016,\n",
      "                                                                    2017, 2018, 2019, 2020, 2021], dtype=uint16),\n",
      "                                                              array([334024764,   8717093,   6541094,   3824922,   2096535,   1305948,\n",
      "                                                                      1003721,    903906,    318788,    701575,    310887,    440417,\n",
      "                                                                       316180,    560438,    600838,    776899], dtype=int64))\n",
      "ic| label_per_date.shape: (18605, 19481, 1)\n"
     ]
    },
    {
     "name": "stdout",
     "output_type": "stream",
     "text": [
      "Removing bufer................\n",
      "Mask label shape:  \n",
      " (18605, 19481, 1) \n",
      " Unique values:  \n",
      " [0 1 2]\n",
      "Tiles size:  3721 3896\n",
      "Mask size:  (18605, 19480)\n"
     ]
    },
    {
     "name": "stderr",
     "output_type": "stream",
     "text": [
      "ic| image_stack.shape: (18605, 19481, 9)\n"
     ]
    },
    {
     "name": "stdout",
     "output_type": "stream",
     "text": [
      "Image shape:  (18605, 19481, 9)\n",
      "mask:  (18605, 19480)\n",
      "image stack:  (18605, 19480, 9)\n",
      "ref : (18605, 19480, 1)\n",
      "Training tiles:  [2, 4, 5, 6, 7, 12, 14, 15, 18, 21, 23, 24]\n",
      "Validation tiles:  [9, 11, 25]\n",
      "Test tiles:  [1, 3, 8, 10, 13, 16, 17, 19, 20, 22]\n",
      "-35.0 -8.0\n"
     ]
    },
    {
     "name": "stderr",
     "output_type": "stream",
     "text": [
      "ic| self.path_models+ '/' + self.method +'_'+str(self.repetition_id)+'.h5': 'D:/Jorge/datasets/deforestation/experiments/MS/exp41/models/resunet_19.h5'\n"
     ]
    },
    {
     "name": "stdout",
     "output_type": "stream",
     "text": [
      "Dropout training mode: False\n",
      "time:  0\n",
      "alpha.shape (18640, 19488, 2)\n",
      "S.shape (18640, 19488)\n",
      "K 2\n",
      "u.shape (18640, 19488)\n",
      "belief.shape (18640, 19488, 2)\n",
      "Inference runtime 254.66\n",
      "(36877090,)\n",
      "(array([0, 1], dtype=uint8), array([36581631,   295459], dtype=int64))\n",
      "(18605, 19480, 2)\n"
     ]
    },
    {
     "name": "stderr",
     "output_type": "stream",
     "text": [
      "ic| predicted_test.shape: (144970160,)\n",
      "ic| predicted_test.shape: (36877090,)\n",
      "ic| np.unique(predicted, return_counts=True): (array([0, 1], dtype=int8), array([361376322,   1049078], dtype=int64))\n",
      "    np.unique(predicted_larger_than_min_area, return_counts=True): (array([0, 1], dtype=int8), array([361448990,    976410], dtype=int64))\n",
      "ic| np.unique(ignored_polygons, return_counts=True): (array([0, 1], dtype=int8), array([362352732,     72668], dtype=int64))\n",
      "ic| self.f1: 79.65, self.precision: 72.69, self.recall: 88.08\n",
      "ic| self.label_mask_val.shape: (43491048,)\n",
      "ic| self.label_mask_val_valid.shape: (10769758,)\n",
      "ic| f1_val: 41.38\n",
      "    precision_val: 30.5\n",
      "    recall_val: 64.37\n",
      "    mAP_val: 52.0\n"
     ]
    },
    {
     "name": "stdout",
     "output_type": "stream",
     "text": [
      "(array([0, 1], dtype=int16), array([361811679,    613721], dtype=int64))\n",
      "[0 1]\n"
     ]
    },
    {
     "name": "stderr",
     "output_type": "stream",
     "text": [
      "ic| self.label_mask.shape: (18605, 19480)\n",
      "ic| self.mask_test.shape: (18605, 19480)\n",
      "ic| self.label_mask_test.shape: (144970160,)\n",
      "ic| self.error_mask_test.shape: (36846296,)\n",
      "ic| bounds: (0.00010578750008484349, 0.4985)\n"
     ]
    },
    {
     "name": "stdout",
     "output_type": "stream",
     "text": [
      "(0.00010578750008484349, 0.4985)\n",
      "0.19047543687881469\n",
      "threshold 0.19047543687881469\n"
     ]
    },
    {
     "name": "stderr",
     "output_type": "stream",
     "text": [
      "c:\\Users\\jchamorro\\Anaconda3\\envs\\tf2\\lib\\site-packages\\scipy\\optimize\\_minimize.py:783: RuntimeWarning: Method 'bounded' does not support relative tolerance in x; defaulting to absolute tolerance.\n",
      "  warn(\"Method 'bounded' does not support relative tolerance in x; \"\n",
      "ic| label_current_deforestation_test_classified_incorrect.shape: (3828959,)\n",
      "    predicted_test_classified_incorrect.shape: (3828959,)\n",
      "ic| TP_H + FN_H + FP_H + TN_H: 3828959\n",
      "    len(label_mask_current_deforestation_test): 36846296\n",
      "ic| TP_H + FN_H + FP_H + TN_H: 3828959\n",
      "    len(label_mask_current_deforestation_test): 36846296\n"
     ]
    },
    {
     "name": "stdout",
     "output_type": "stream",
     "text": [
      "[0.98030441 0.94653049 0.70677042 0.10391707 0.35469695 0.68721477\n",
      " 0.02984282]\n",
      "0.30813035062127003\n",
      "threshold 0.30813035062127003\n"
     ]
    },
    {
     "name": "stderr",
     "output_type": "stream",
     "text": [
      "ic| label_current_deforestation_test_classified_incorrect.shape: (1855738,)\n",
      "    predicted_test_classified_incorrect.shape: (1855738,)\n",
      "ic| TP_H + FN_H + FP_H + TN_H: 1855738\n",
      "    len(label_mask_current_deforestation_test): 36846296\n",
      "ic| TP_H + FN_H + FP_H + TN_H: 1855738\n",
      "    len(label_mask_current_deforestation_test): 36846296\n"
     ]
    },
    {
     "name": "stdout",
     "output_type": "stream",
     "text": [
      "[0.88795482 0.94700402 0.79058284 0.0503643  0.28084133 0.54646304\n",
      " 0.04674124]\n",
      "0.38084508625754454\n",
      "threshold 0.38084508625754454\n"
     ]
    },
    {
     "name": "stderr",
     "output_type": "stream",
     "text": [
      "ic| label_current_deforestation_test_classified_incorrect.shape: (1068612,)\n",
      "    predicted_test_classified_incorrect.shape: (1068612,)\n",
      "ic| TP_H + FN_H + FP_H + TN_H: 1068612\n",
      "    len(label_mask_current_deforestation_test): 36846296\n",
      "ic| TP_H + FN_H + FP_H + TN_H: 1068612\n",
      "    len(label_mask_current_deforestation_test): 36846296\n"
     ]
    },
    {
     "name": "stdout",
     "output_type": "stream",
     "text": [
      "[0.81142114 0.94623045 0.82727492 0.02900188 0.27871737 0.42612061\n",
      " 0.0536763 ]\n",
      "0.42578526436372544\n",
      "threshold 0.42578526436372544\n"
     ]
    },
    {
     "name": "stderr",
     "output_type": "stream",
     "text": [
      "ic| label_current_deforestation_test_classified_incorrect.shape: (729528,)\n",
      "    predicted_test_classified_incorrect.shape: (729528,)\n",
      "ic| TP_H + FN_H + FP_H + TN_H: 729528\n",
      "    len(label_mask_current_deforestation_test): 36846296\n",
      "ic| TP_H + FN_H + FP_H + TN_H: 729528\n",
      "    len(label_mask_current_deforestation_test): 36846296\n"
     ]
    },
    {
     "name": "stdout",
     "output_type": "stream",
     "text": [
      "[0.7766438  0.94482546 0.84714448 0.01979922 0.27859873 0.32596796\n",
      " 0.05584272]\n",
      "0.3777446660395338\n",
      "threshold 0.3777446660395338\n"
     ]
    },
    {
     "name": "stderr",
     "output_type": "stream",
     "text": [
      "ic| label_current_deforestation_test_classified_incorrect.shape: (1095662,)\n",
      "    predicted_test_classified_incorrect.shape: (1095662,)\n",
      "ic| TP_H + FN_H + FP_H + TN_H: 1095662\n",
      "    len(label_mask_current_deforestation_test): 36846296\n",
      "ic| TP_H + FN_H + FP_H + TN_H: 1095662\n",
      "    len(label_mask_current_deforestation_test): 36846296\n"
     ]
    },
    {
     "name": "stdout",
     "output_type": "stream",
     "text": [
      "[0.81399888 0.94631095 0.82597053 0.02973601 0.27850363 0.43150982\n",
      " 0.05339297]\n",
      "0.35115436365331293\n",
      "threshold 0.35115436365331293\n"
     ]
    },
    {
     "name": "stderr",
     "output_type": "stream",
     "text": [
      "ic| label_current_deforestation_test_classified_incorrect.shape: (1350410,)\n",
      "    predicted_test_classified_incorrect.shape: (1350410,)\n",
      "ic| TP_H + FN_H + FP_H + TN_H: 1350410\n",
      "    len(label_mask_current_deforestation_test): 36846296\n",
      "ic| TP_H + FN_H + FP_H + TN_H: 1350410\n",
      "    len(label_mask_current_deforestation_test): 36846296\n"
     ]
    },
    {
     "name": "stdout",
     "output_type": "stream",
     "text": [
      "[0.83851782 0.94670303 0.81345112 0.03664982 0.27890836 0.47880556\n",
      " 0.05092124]\n",
      "0.3719246762778317\n",
      "threshold 0.3719246762778317\n"
     ]
    },
    {
     "name": "stderr",
     "output_type": "stream",
     "text": [
      "ic| label_current_deforestation_test_classified_incorrect.shape: (1147743,)\n",
      "    predicted_test_classified_incorrect.shape: (1147743,)\n",
      "ic| TP_H + FN_H + FP_H + TN_H: 1147743\n",
      "    len(label_mask_current_deforestation_test): 36846296\n",
      "ic| TP_H + FN_H + FP_H + TN_H: 1147743\n",
      "    len(label_mask_current_deforestation_test): 36846296\n"
     ]
    },
    {
     "name": "stdout",
     "output_type": "stream",
     "text": [
      "[0.8189018  0.94640746 0.8231547  0.03114948 0.27930833 0.44297827\n",
      " 0.05284908]\n",
      "0.37657947205607484\n",
      "threshold 0.37657947205607484\n"
     ]
    },
    {
     "name": "stderr",
     "output_type": "stream",
     "text": [
      "ic| label_current_deforestation_test_classified_incorrect.shape: (1106009,)\n",
      "    predicted_test_classified_incorrect.shape: (1106009,)\n",
      "ic| TP_H + FN_H + FP_H + TN_H: 1106009\n",
      "    len(label_mask_current_deforestation_test): 36846296\n",
      "ic| TP_H + FN_H + FP_H + TN_H: 1106009\n",
      "    len(label_mask_current_deforestation_test): 36846296\n"
     ]
    },
    {
     "name": "stdout",
     "output_type": "stream",
     "text": [
      "[0.8150017  0.94633044 0.82543566 0.03001683 0.27852559 0.4337268\n",
      " 0.05329116]\n",
      "0.3748014982794755\n",
      "threshold 0.3748014982794755\n"
     ]
    },
    {
     "name": "stderr",
     "output_type": "stream",
     "text": [
      "ic| label_current_deforestation_test_classified_incorrect.shape: (1121696,)\n",
      "    predicted_test_classified_incorrect.shape: (1121696,)\n",
      "ic| TP_H + FN_H + FP_H + TN_H: 1121696\n",
      "    len(label_mask_current_deforestation_test): 36846296\n",
      "ic| TP_H + FN_H + FP_H + TN_H: 1121696\n",
      "    len(label_mask_current_deforestation_test): 36846296\n"
     ]
    },
    {
     "name": "stdout",
     "output_type": "stream",
     "text": [
      "[0.81655379 0.94637857 0.82463508 0.03044257 0.27848253 0.43694842\n",
      " 0.05315147]\n",
      "0.37647082205965743\n",
      "threshold 0.37647082205965743\n"
     ]
    },
    {
     "name": "stderr",
     "output_type": "stream",
     "text": [
      "ic| label_current_deforestation_test_classified_incorrect.shape: (1106950,)\n",
      "    predicted_test_classified_incorrect.shape: (1106950,)\n",
      "ic| TP_H + FN_H + FP_H + TN_H: 1106950\n",
      "    len(label_mask_current_deforestation_test): 36846296\n",
      "ic| TP_H + FN_H + FP_H + TN_H: 1106950\n",
      "    len(label_mask_current_deforestation_test): 36846296\n"
     ]
    },
    {
     "name": "stdout",
     "output_type": "stream",
     "text": [
      "[0.81506686 0.94634117 0.82536664 0.03004237 0.27864051 0.43398569\n",
      " 0.05327716]\n",
      "0.3768599438166719\n",
      "threshold 0.3768599438166719\n"
     ]
    },
    {
     "name": "stderr",
     "output_type": "stream",
     "text": [
      "ic| label_current_deforestation_test_classified_incorrect.shape: (1103431,)\n",
      "    predicted_test_classified_incorrect.shape: (1103431,)\n",
      "ic| TP_H + FN_H + FP_H + TN_H: 1103431\n",
      "    len(label_mask_current_deforestation_test): 36846296\n",
      "ic| TP_H + FN_H + FP_H + TN_H: 1103431\n",
      "    len(label_mask_current_deforestation_test): 36846296\n"
     ]
    },
    {
     "name": "stdout",
     "output_type": "stream",
     "text": [
      "[0.81473233 0.9463229  0.82555644 0.02994686 0.27859503 0.43323779\n",
      " 0.05331043]\n",
      "0.3766866027357384\n",
      "threshold 0.3766866027357384\n"
     ]
    },
    {
     "name": "stderr",
     "output_type": "stream",
     "text": [
      "ic| label_current_deforestation_test_classified_incorrect.shape: (1105052,)\n",
      "    predicted_test_classified_incorrect.shape: (1105052,)\n",
      "ic| TP_H + FN_H + FP_H + TN_H: 1105052\n",
      "    len(label_mask_current_deforestation_test): 36846296\n",
      "ic| TP_H + FN_H + FP_H + TN_H: 1105052\n",
      "    len(label_mask_current_deforestation_test): 36846296\n"
     ]
    },
    {
     "name": "stdout",
     "output_type": "stream",
     "text": [
      "[0.8148837  0.94632904 0.82547362 0.02999086 0.27860541 0.43357021\n",
      " 0.05329333]\n",
      "0.37665326381523984\n",
      "threshold 0.37665326381523984\n"
     ]
    },
    {
     "name": "stderr",
     "output_type": "stream",
     "text": [
      "ic| label_current_deforestation_test_classified_incorrect.shape: (1105326,)\n",
      "    predicted_test_classified_incorrect.shape: (1105326,)\n",
      "ic| TP_H + FN_H + FP_H + TN_H: 1105326\n",
      "    len(label_mask_current_deforestation_test): 36846296\n",
      "ic| TP_H + FN_H + FP_H + TN_H: 1105326\n",
      "    len(label_mask_current_deforestation_test): 36846296\n"
     ]
    },
    {
     "name": "stdout",
     "output_type": "stream",
     "text": [
      "[0.81490364 0.94632734 0.82544601 0.02999829 0.27866206 0.43369263\n",
      " 0.05328897]\n",
      "0.37661992489523577\n",
      "threshold 0.37661992489523577\n"
     ]
    },
    {
     "name": "stderr",
     "output_type": "stream",
     "text": [
      "ic| label_current_deforestation_test_classified_incorrect.shape: (1105618,)\n",
      "    predicted_test_classified_incorrect.shape: (1105618,)\n",
      "ic| TP_H + FN_H + FP_H + TN_H: 1105618\n",
      "    len(label_mask_current_deforestation_test): 36846296\n",
      "ic| TP_H + FN_H + FP_H + TN_H: 1105618\n",
      "    len(label_mask_current_deforestation_test): 36846296\n",
      "ic| self.threshold_optimal: 0.37665326381523984\n"
     ]
    },
    {
     "name": "stdout",
     "output_type": "stream",
     "text": [
      "[0.81494529 0.94632734 0.82544601 0.03000622 0.27858953 0.43369263\n",
      " 0.05328917]\n",
      "threshold:  0.37665326381523984\n",
      "threshold 0.37665326381523984\n"
     ]
    },
    {
     "name": "stderr",
     "output_type": "stream",
     "text": [
      "ic| label_current_deforestation_test_classified_incorrect.shape: (1105326,)\n",
      "    predicted_test_classified_incorrect.shape: (1105326,)\n",
      "ic| TP_H + FN_H + FP_H + TN_H: 1105326\n",
      "    len(label_mask_current_deforestation_test): 36846296\n",
      "ic| TP_H + FN_H + FP_H + TN_H: 1105326\n",
      "    len(label_mask_current_deforestation_test): 36846296\n"
     ]
    },
    {
     "name": "stdout",
     "output_type": "stream",
     "text": [
      "[0.81490364 0.94632734 0.82544601 0.02999829 0.27866206 0.43369263\n",
      " 0.05328897]\n",
      "threshold 0.37665326381523984\n",
      "(36846296,) (36846296,)\n"
     ]
    },
    {
     "name": "stderr",
     "output_type": "stream",
     "text": [
      "ic| self.m_optimal: {'AA': array([0.02999829]),\n",
      "                     'UEO': array([0.05328897]),\n",
      "                     'f1': 79.65,\n",
      "                     'f1_H': array([0.3393076]),\n",
      "                     'f1_L': array([0.87571205]),\n",
      "                     'precision_H': array([0.27866206]),\n",
      "                     'precision_L': array([0.81490364]),\n",
      "                     'recall_H': array([0.43369263]),\n",
      "                     'recall_L': array([0.94632734]),\n",
      "                     'recall_Ltotal': array([0.82544601])}\n",
      "ic| self.m_audited_optimal: {'f1': array([0.89054495]),\n",
      "                             'precision': array([0.83563148]),\n",
      "                             'recall': array([0.95318334])}\n"
     ]
    },
    {
     "name": "stdout",
     "output_type": "stream",
     "text": [
      "cm_audited [[36502173    54333]\n",
      " [   13567   276223]]\n",
      "[0.83563148 0.95318334]\n",
      "Result idx 19: {'uncertainty_result': {'metrics': {'precision_L': array([0.81490364]), 'recall_L': array([0.94632734]), 'recall_Ltotal': array([0.82544601]), 'AA': array([0.02999829]), 'precision_H': array([0.27866206]), 'recall_H': array([0.43369263]), 'UEO': array([0.05328897]), 'f1_L': array([0.87571205]), 'f1_H': array([0.3393076]), 'f1': 79.65}, 'metrics_audited': {'precision': array([0.83563148]), 'recall': array([0.95318334]), 'f1': array([0.89054495])}, 'exp': 41}}\n",
      "Grid execution idx: 19\n"
     ]
    }
   ],
   "source": [
    "if config['inferring'] == True:\n",
    "    results = []\n",
    "    error_count = 0\n",
    "\n",
    "    # while idx < len(repetition_n):\n",
    "    # for idx in range(config['start_repetition_id'], repetition_n): # 10 repetitions\n",
    "    for idx in range(config['start_repetition_id'], config['end_repetition_id']): # 10 repetitions\n",
    "\n",
    "    # for idx in range(0, 4): # 10 repetitions\n",
    "\n",
    "\n",
    "        print(\"Beginning run number {}\".format(idx))\n",
    "        logger = Logger()\n",
    "        manager = manager_class(config, dataset, patchesHandler, logger)\n",
    "\n",
    "        print(\"manager.config\", manager.config)\n",
    "\n",
    "        manager.defineExperiment(exp) # fixed\n",
    "        manager.defineRepetitionId(idx) # varying from 0 to 10\n",
    "        manager.setExperimentPath()\n",
    "        manager.createLogFolders()\n",
    "\n",
    "        manager.loadDataset()\n",
    "\n",
    "        # %%\n",
    "        if config['get_multiple_metrics'] == False:\n",
    "            predictor_fcn = manager.run_predictor\n",
    "        else:\n",
    "            predictor_fcn = manager.run_predictor_multiple_metrics\n",
    "        result = predictor_fcn()\n",
    "        print(\"Result idx {}: {}\".format(idx, result))\n",
    "        results.append(result)\n",
    "\n",
    "        with open(manager.default_log_name, 'wb') as f:\n",
    "            pickle.dump(results, f)\n",
    "        print(\"Grid execution idx: {}\".format(idx))\n",
    "        del manager\n",
    "        gc.collect()\n",
    "        # idx += 1\n",
    "    "
   ]
  },
  {
   "cell_type": "markdown",
   "id": "3395c5fb",
   "metadata": {},
   "source": []
  },
  {
   "cell_type": "code",
   "execution_count": null,
   "id": "f07bf7d7",
   "metadata": {},
   "outputs": [
    {
     "data": {
      "text/plain": [
       "0"
      ]
     },
     "execution_count": 15,
     "metadata": {},
     "output_type": "execute_result"
    }
   ],
   "source": [
    "error_count"
   ]
  },
  {
   "cell_type": "code",
   "execution_count": null,
   "id": "64080745",
   "metadata": {},
   "outputs": [
    {
     "name": "stdout",
     "output_type": "stream",
     "text": [
      "[{'uncertainty_result': {'metrics': {'precision_L': array([0.94180393]), 'recall_L': array([0.94189787]), 'recall_Ltotal': array([0.78328622]), 'AA': array([0.02999771]), 'precision_H': array([0.4996835]), 'recall_H': array([0.72903583]), 'UEO': array([0.04303796]), 'f1_L': array([0.9418509]), 'f1_H': array([0.59295426]), 'f1': 87.23}, 'metrics_audited': {'precision': array([0.95160309]), 'recall': array([0.95168202]), 'f1': array([0.95164256])}, 'exp': 41}}, {'uncertainty_result': {'metrics': {'precision_L': array([0.98164181]), 'recall_L': array([0.9443531]), 'recall_Ltotal': array([0.76056992]), 'AA': array([0.02999691]), 'precision_H': array([0.78797191]), 'recall_H': array([0.68967544]), 'UEO': array([0.02480493]), 'f1_L': array([0.96263649]), 'f1_H': array([0.73555423]), 'f1': 92.0}, 'metrics_audited': {'precision': array([0.9853273]), 'recall': array([0.95518269]), 'f1': array([0.97002086])}, 'exp': 41}}, {'uncertainty_result': {'metrics': {'precision_L': array([0.91508893]), 'recall_L': array([0.94766918]), 'recall_Ltotal': array([0.80994819]), 'AA': array([0.02999687]), 'precision_H': array([0.53964534]), 'recall_H': array([0.41558997]), 'UEO': array([0.0346684]), 'f1_L': array([0.93109414]), 'f1_H': array([0.46956218]), 'f1': 87.16}, 'metrics_audited': {'precision': array([0.92706432]), 'recall': array([0.95527421]), 'f1': array([0.94095788])}, 'exp': 41}}, {'uncertainty_result': {'metrics': {'precision_L': array([0.97548443]), 'recall_L': array([0.94216806]), 'recall_Ltotal': array([0.68146436]), 'AA': array([0.02999907]), 'precision_H': array([0.87505567]), 'recall_H': array([0.61335514]), 'UEO': array([0.03382793]), 'f1_L': array([0.95853683]), 'f1_H': array([0.7211986]), 'f1': 89.95}, 'metrics_audited': {'precision': array([0.98243986]), 'recall': array([0.95817052]), 'f1': array([0.97015343])}, 'exp': 41}}, {'uncertainty_result': {'metrics': {'precision_L': array([nan]), 'recall_L': array([0.]), 'recall_Ltotal': array([0.]), 'AA': array([0.02999919]), 'precision_H': array([nan]), 'recall_H': array([0.]), 'UEO': array([0.25181802]), 'f1_L': array([nan]), 'f1_H': array([nan]), 'f1': 0.0}, 'metrics_audited': {'precision': array([1.]), 'recall': array([0.9543693]), 'f1': array([0.97665196])}, 'exp': 41}}, {'uncertainty_result': {'metrics': {'precision_L': array([0.93643424]), 'recall_L': array([0.94078698]), 'recall_Ltotal': array([0.78972081]), 'AA': array([0.02999968]), 'precision_H': array([0.47295427]), 'recall_H': array([0.39077235]), 'UEO': array([0.04263144]), 'f1_L': array([0.93860556]), 'f1_H': array([0.42795358]), 'f1': 86.28}, 'metrics_audited': {'precision': array([0.94660159]), 'recall': array([0.95029506]), 'f1': array([0.94844473])}, 'exp': 41}}, {'uncertainty_result': {'metrics': {'precision_L': array([0.89350639]), 'recall_L': array([0.94549422]), 'recall_Ltotal': array([0.75809658]), 'AA': array([0.03000045]), 'precision_H': array([0.53154787]), 'recall_H': array([0.54184038]), 'UEO': array([0.04687362]), 'f1_L': array([0.91876546]), 'f1_H': array([0.53664478]), 'f1': 84.42}, 'metrics_audited': {'precision': array([0.9136727]), 'recall': array([0.9562973]), 'f1': array([0.9344992])}, 'exp': 41}}, {'uncertainty_result': {'metrics': {'precision_L': array([0.95336232]), 'recall_L': array([0.94277114]), 'recall_Ltotal': array([0.85146072]), 'AA': array([0.03000507]), 'precision_H': array([0.4334014]), 'recall_H': array([0.39263607]), 'UEO': array([0.02781169]), 'f1_L': array([0.94803715]), 'f1_H': array([0.41201284]), 'f1': 89.81}, 'metrics_audited': {'precision': array([0.95792511]), 'recall': array([0.94831394]), 'f1': array([0.95309529])}, 'exp': 41}}, {'uncertainty_result': {'metrics': {'precision_L': array([0.86410044]), 'recall_L': array([0.94964322]), 'recall_Ltotal': array([0.81116499]), 'AA': array([0.02999655]), 'precision_H': array([0.36112325]), 'recall_H': array([0.58651866]), 'UEO': array([0.05310818]), 'f1_L': array([0.90485458]), 'f1_H': array([0.44701596]), 'f1': 82.43}, 'metrics_audited': {'precision': array([0.88237241]), 'recall': array([0.95698632]), 'f1': array([0.918166])}, 'exp': 41}}, {'uncertainty_result': {'metrics': {'precision_L': array([0.8647337]), 'recall_L': array([0.94548496]), 'recall_Ltotal': array([0.84149994]), 'AA': array([0.03000071]), 'precision_H': array([0.26439336]), 'recall_H': array([0.59794559]), 'UEO': array([0.05681879]), 'f1_L': array([0.90330823]), 'f1_H': array([0.36666057]), 'f1': 81.67}, 'metrics_audited': {'precision': array([0.87846881]), 'recall': array([0.95148056]), 'f1': array([0.91351817])}, 'exp': 41}}, {'uncertainty_result': {'metrics': {'precision_L': array([0.90837925]), 'recall_L': array([0.94380427]), 'recall_Ltotal': array([0.89873754]), 'AA': array([0.02999932]), 'precision_H': array([0.14815296]), 'recall_H': array([0.24705712]), 'UEO': array([0.02624097]), 'f1_L': array([0.92575299]), 'f1_H': array([0.1852293]), 'f1': 88.02}, 'metrics_audited': {'precision': array([0.9125975]), 'recall': array([0.94648763]), 'f1': array([0.92923367])}, 'exp': 41}}, {'uncertainty_result': {'metrics': {'precision_L': array([0.92761583]), 'recall_L': array([0.94830793]), 'recall_Ltotal': array([0.8607803]), 'AA': array([0.02999846]), 'precision_H': array([0.16090523]), 'recall_H': array([0.43604738]), 'UEO': array([0.06656613]), 'f1_L': array([0.93784776]), 'f1_H': array([0.23506826]), 'f1': 82.74}, 'metrics_audited': {'precision': array([0.93416421]), 'recall': array([0.95307905]), 'f1': array([0.94352684])}, 'exp': 41}}, {'uncertainty_result': {'metrics': {'precision_L': array([0.93226139]), 'recall_L': array([0.93815613]), 'recall_Ltotal': array([0.85691101]), 'AA': array([0.02999672]), 'precision_H': array([0.26895514]), 'recall_H': array([0.2714377]), 'UEO': array([0.03220515]), 'f1_L': array([0.93519947]), 'f1_H': array([0.27019072]), 'f1': 87.75}, 'metrics_audited': {'precision': array([0.93809393]), 'recall': array([0.94351186]), 'f1': array([0.94079509])}, 'exp': 41}}, {'uncertainty_result': {'metrics': {'precision_L': array([0.90562247]), 'recall_L': array([0.9467588]), 'recall_Ltotal': array([0.81598303]), 'AA': array([0.03000177]), 'precision_H': array([0.33456027]), 'recall_H': array([0.55138927]), 'UEO': array([0.05414007]), 'f1_L': array([0.92573387]), 'f1_H': array([0.4164412]), 'f1': 83.82}, 'metrics_audited': {'precision': array([0.9181677]), 'recall': array([0.954113]), 'f1': array([0.9357953])}, 'exp': 41}}, {'uncertainty_result': {'metrics': {'precision_L': array([0.93763518]), 'recall_L': array([0.94636063]), 'recall_Ltotal': array([0.79190566]), 'AA': array([0.03000045]), 'precision_H': array([0.52447437]), 'recall_H': array([0.53729133]), 'UEO': array([0.03959772]), 'f1_L': array([0.9419777]), 'f1_H': array([0.53080549]), 'f1': 87.44}, 'metrics_audited': {'precision': array([0.94773506]), 'recall': array([0.95511508]), 'f1': array([0.95141076])}, 'exp': 41}}, {'uncertainty_result': {'metrics': {'precision_L': array([0.96536342]), 'recall_L': array([0.93854976]), 'recall_Ltotal': array([0.82773286]), 'AA': array([0.02999876]), 'precision_H': array([0.38331537]), 'recall_H': array([0.59284273]), 'UEO': array([0.04120554]), 'f1_L': array([0.95176777]), 'f1_H': array([0.46559206]), 'f1': 88.01}, 'metrics_audited': {'precision': array([0.96955574]), 'recall': array([0.94580534]), 'f1': array([0.95753329])}, 'exp': 41}}, {'uncertainty_result': {'metrics': {'precision_L': array([nan]), 'recall_L': array([0.]), 'recall_Ltotal': array([0.]), 'AA': array([0.0299973]), 'precision_H': array([nan]), 'recall_H': array([0.]), 'UEO': array([0.25256313]), 'f1_L': array([nan]), 'f1_H': array([nan]), 'f1': 0.0}, 'metrics_audited': {'precision': array([1.]), 'recall': array([0.95657604]), 'f1': array([0.97780615])}, 'exp': 41}}, {'uncertainty_result': {'metrics': {'precision_L': array([nan]), 'recall_L': array([0.]), 'recall_Ltotal': array([0.]), 'AA': array([0.02999941]), 'precision_H': array([nan]), 'recall_H': array([0.]), 'UEO': array([0.25173014]), 'f1_L': array([nan]), 'f1_H': array([nan]), 'f1': 0.0}, 'metrics_audited': {'precision': array([1.]), 'recall': array([0.95410869]), 'f1': array([0.97651548])}, 'exp': 41}}, {'uncertainty_result': {'metrics': {'precision_L': array([0.93163422]), 'recall_L': array([0.94391648]), 'recall_Ltotal': array([0.751796]), 'AA': array([0.03000226]), 'precision_H': array([0.60316749]), 'recall_H': array([0.48161909]), 'UEO': array([0.04319903]), 'f1_L': array([0.93773513]), 'f1_H': array([0.53558365]), 'f1': 86.3}, 'metrics_audited': {'precision': array([0.94540449]), 'recall': array([0.95533147]), 'f1': array([0.95034206])}, 'exp': 41}}, {'uncertainty_result': {'metrics': {'precision_L': array([0.81490364]), 'recall_L': array([0.94632734]), 'recall_Ltotal': array([0.82544601]), 'AA': array([0.02999829]), 'precision_H': array([0.27866206]), 'recall_H': array([0.43369263]), 'UEO': array([0.05328897]), 'f1_L': array([0.87571205]), 'f1_H': array([0.3393076]), 'f1': 79.65}, 'metrics_audited': {'precision': array([0.83563148]), 'recall': array([0.95318334]), 'f1': array([0.89054495])}, 'exp': 41}}]\n"
     ]
    }
   ],
   "source": [
    "print(results)"
   ]
  },
  {
   "cell_type": "code",
   "execution_count": null,
   "id": "cd4f4d1d",
   "metadata": {},
   "outputs": [
    {
     "name": "stdout",
     "output_type": "stream",
     "text": [
      "20\n"
     ]
    }
   ],
   "source": [
    "print(len(results))"
   ]
  },
  {
   "cell_type": "code",
   "execution_count": null,
   "id": "6cc43863",
   "metadata": {},
   "outputs": [
    {
     "data": {
      "text/plain": [
       "{'uncertainty_result': {'metrics': {'precision_L': array([0.95336232]),\n",
       "   'recall_L': array([0.94277114]),\n",
       "   'recall_Ltotal': array([0.85146072]),\n",
       "   'AA': array([0.03000507]),\n",
       "   'precision_H': array([0.4334014]),\n",
       "   'recall_H': array([0.39263607]),\n",
       "   'UEO': array([0.02781169]),\n",
       "   'f1_L': array([0.94803715]),\n",
       "   'f1_H': array([0.41201284]),\n",
       "   'f1': 89.81},\n",
       "  'metrics_audited': {'precision': array([0.95792511]),\n",
       "   'recall': array([0.94831394]),\n",
       "   'f1': array([0.95309529])},\n",
       "  'exp': 41}}"
      ]
     },
     "execution_count": 18,
     "metadata": {},
     "output_type": "execute_result"
    }
   ],
   "source": [
    "results[7]"
   ]
  }
 ],
 "metadata": {
  "kernelspec": {
   "display_name": "Python 3.9.12 ('tf2')",
   "language": "python",
   "name": "python3"
  },
  "language_info": {
   "codemirror_mode": {
    "name": "ipython",
    "version": 3
   },
   "file_extension": ".py",
   "mimetype": "text/x-python",
   "name": "python",
   "nbconvert_exporter": "python",
   "pygments_lexer": "ipython3",
   "version": "3.9.12"
  },
  "vscode": {
   "interpreter": {
    "hash": "0593c6bd4eb743cc503a3c17025f83c5676f297db573750215a1bc8c88a990c4"
   }
  }
 },
 "nbformat": 4,
 "nbformat_minor": 5
}
