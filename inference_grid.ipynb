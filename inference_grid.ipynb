{
 "cells": [
  {
   "cell_type": "code",
   "execution_count": 1,
   "id": "dbd5b7cf",
   "metadata": {},
   "outputs": [],
   "source": [
    "from utils_v1 import *\n"
   ]
  },
  {
   "cell_type": "code",
   "execution_count": 2,
   "id": "123e793c",
   "metadata": {},
   "outputs": [],
   "source": [
    "from icecream import ic\n",
    "\n",
    "import numpy as np\n",
    "from src.dataset import (\n",
    "    MultipleDates,\n",
    "    PA, PADeforestationTime, PADistanceMap, PAMultipleDates,\n",
    "    MTDeforestationTime,\n",
    "    MTMultipleDates\n",
    ")\n",
    "\n",
    "# from src.dataset_legacy import MTDeforestationTime\n",
    "from src import training_generator as generator\n",
    "from src.patchesHandler import PatchesHandler, PatchesHandlerMultipleDates, PatchesHandlerEvidential\n",
    "\n",
    "from src.trainer.multioutput import TrainerMCDropout\n",
    "\n",
    "from mpl_toolkits.axes_grid1 import make_axes_locatable\n",
    "\n",
    "import cv2\n",
    "from src import metrics as _metric\n"
   ]
  },
  {
   "cell_type": "code",
   "execution_count": 3,
   "id": "603a5df7",
   "metadata": {},
   "outputs": [
    {
     "name": "stderr",
     "output_type": "stream",
     "text": [
      "ic| list(self.date_ids): [0]\n",
      "ic| self.image_channels: [[0, 1, 2, 3, 4, 5, 6, 7, 8, 9, 10, 11, 12, 13, 14, 15, 16, 17, 18, 19, 20]]\n",
      "ic| self.input_image_shape: 21\n",
      "ic| self.dataset.image_channels: [[0, 1, 2, 3, 4, 5, 6, 7, 8, 9, 10, 11, 12, 13, 14, 15, 16, 17, 18, 19, 20]]\n"
     ]
    }
   ],
   "source": [
    "\n",
    "uncertaintyMethod = \"pred_entropy\"\n",
    "config = {\n",
    "\t\"training\": False,\n",
    "\t\"save_probabilities\": False,\n",
    "\t\"loadInference\": False,\n",
    "\t\"addPastDeforestationInput\": True,\n",
    "\t\"inference_times\": 10,\n",
    "\t\"removePolygons\": True,\n",
    "\t\"uncertainty_method\": uncertaintyMethod\n",
    "}\n",
    "'''\n",
    "if config[\"training\"] == True:\n",
    "\tdates = [2017, 2018]\n",
    "else:\n",
    "\tdates = [2018, 2019]\n",
    "if config[\"training\"] == True:\n",
    "\tdates = [2018, 2019]\n",
    "else:\n",
    "\tdates = [2019, 2020]\n",
    "'''\n",
    "# dates = [2018, 2019]\n",
    "# ic(dates)\n",
    "# dataset = PAMultipleDates(dates = dates, # dates = [2017, 2018, 2019]. [2018, 2019]. [2015, 2016, 2017, 2018]\n",
    "# \taddPastDeforestationInput = config['addPastDeforestationInput'],\n",
    "# \tborderBuffer = 2)\t\n",
    "# exps = [123, 124, 125, 126, 127, 128, 129, 131, 1121, 1122] # earlier date\n",
    "dates = [2019, 2020]\n",
    "dataset = MTMultipleDates(dates = dates, # dates = [2016,2017,2018,2019]\n",
    "\taddPastDeforestationInput = config['addPastDeforestationInput'],\n",
    "\tborderBuffer = 2)\t\n",
    "exps = [130, 132, 133, 134, 135, 136, 137, 1125, 1124, 1123] # earlier date\n",
    "\n",
    "\n",
    "if issubclass(type(dataset), MultipleDates):\n",
    "\tpatchesHandler = PatchesHandlerMultipleDates(\n",
    "\t\tdataset)\n",
    "else:\n",
    "\tpatchesHandler = PatchesHandler()\n",
    "\n"
   ]
  },
  {
   "cell_type": "code",
   "execution_count": 4,
   "id": "55da0bd1",
   "metadata": {},
   "outputs": [
    {
     "name": "stderr",
     "output_type": "stream",
     "text": [
      "  0%|          | 0/10 [00:00<?, ?it/s]"
     ]
    },
    {
     "name": "stdout",
     "output_type": "stream",
     "text": [
      "D:/Jorge/datasets/deforestation/MT/deforestation_past_years.tif\n",
      "Loaded deforestation past years\n"
     ]
    },
    {
     "name": "stderr",
     "output_type": "stream",
     "text": [
      "ic| np.unique(deforestation_past_years, return_counts=True): (array([   0, 2008, 2009, 2010, 2011, 2012, 2013, 2014, 2015, 2016, 2017,\n",
      "                                                                    2018, 2019, 2020, 2021], dtype=uint16),\n",
      "                                                              array([161124576,   1332784,    240796,    338545,    313901,    287191,\n",
      "                                                                       708581,    648966,    876898,   1007787,   1098901,   1054092,\n",
      "                                                                      2096062,   2473828,   1400992], dtype=int64))\n"
     ]
    },
    {
     "name": "stdout",
     "output_type": "stream",
     "text": [
      "Label where deforestation past years is actual date (2020) = 1\n"
     ]
    },
    {
     "name": "stderr",
     "output_type": "stream",
     "text": [
      "ic| np.unique(deforestation_past_years, return_counts=True): (array([   0, 2008, 2009, 2010, 2011, 2012, 2013, 2014, 2015, 2016, 2017,\n",
      "                                                                    2018, 2019, 2020, 2021], dtype=uint16),\n",
      "                                                              array([161124576,   1332784,    240796,    338545,    313901,    287191,\n",
      "                                                                       708581,    648966,    876898,   1007787,   1098901,   1054092,\n",
      "                                                                      2096062,   2473828,   1400992], dtype=int64))\n"
     ]
    },
    {
     "name": "stdout",
     "output_type": "stream",
     "text": [
      "Past deforestation different from 0 (no deforestation)\n"
     ]
    },
    {
     "name": "stderr",
     "output_type": "stream",
     "text": [
      "ic| np.unique(deforestation_past_years, return_counts=True): (array([   0, 2008, 2009, 2010, 2011, 2012, 2013, 2014, 2015, 2016, 2017,\n",
      "                                                                    2018, 2019, 2020, 2021], dtype=uint16),\n",
      "                                                              array([161124576,   1332784,    240796,    338545,    313901,    287191,\n",
      "                                                                       708581,    648966,    876898,   1007787,   1098901,   1054092,\n",
      "                                                                      2096062,   2473828,   1400992], dtype=int64))\n"
     ]
    },
    {
     "name": "stdout",
     "output_type": "stream",
     "text": [
      "Past deforestation before 2008 is 2\n",
      "D:/Jorge/datasets/deforestation/MT/deforestation_before_2008/deforestation_before_2008_MT.tif\n"
     ]
    },
    {
     "name": "stderr",
     "output_type": "stream",
     "text": [
      "ic| np.unique(label_past_deforestation_before_2008, return_counts=True): (array([  0, 215], dtype=uint8), array([122623260,  52380640], dtype=int64))\n",
      "ic| np.unique(deforestation_past_years, return_counts=True): (array([   0, 2008, 2009, 2010, 2011, 2012, 2013, 2014, 2015, 2016, 2017,\n",
      "                                                                    2018, 2019, 2020, 2021], dtype=uint16),\n",
      "                                                              array([161124576,   1332784,    240796,    338545,    313901,    287191,\n",
      "                                                                       708581,    648966,    876898,   1007787,   1098901,   1054092,\n",
      "                                                                      2096062,   2473828,   1400992], dtype=int64))\n",
      "ic| label_per_date.shape: (16795, 10420, 1)\n"
     ]
    },
    {
     "name": "stdout",
     "output_type": "stream",
     "text": [
      "Mask label shape:  \n",
      " (16795, 10420, 1) \n",
      " Unique values:  \n",
      " [0 1 2]\n",
      "Tiles size:  3359 2084\n",
      "Mask size:  (16795, 10420)\n"
     ]
    },
    {
     "name": "stderr",
     "output_type": "stream",
     "text": [
      "ic| image_stack.shape: (16795, 10420, 21)\n"
     ]
    },
    {
     "name": "stdout",
     "output_type": "stream",
     "text": [
      "Image shape:  (16795, 10420, 21)\n",
      "mask:  (16795, 10420)\n",
      "image stack:  (16795, 10420, 21)\n",
      "ref : (16795, 10420, 1)\n",
      "Training tiles:  [2, 4, 5, 6, 7, 12, 14, 15, 18, 21, 23, 24]\n",
      "Validation tiles:  [9, 11, 25]\n",
      "Test tiles:  [1, 3, 8, 10, 13, 16, 17, 19, 20, 22]\n",
      "-5.0 -12.0\n"
     ]
    },
    {
     "name": "stderr",
     "output_type": "stream",
     "text": [
      "ic| self.path_models+ '/' + self.method +'_'+str(0)+'.h5': 'D:/Jorge/datasets/deforestation/experiments/MT/exp130/models/resunet_0.h5'\n"
     ]
    },
    {
     "name": "stdout",
     "output_type": "stream",
     "text": [
      "time:  0\n",
      "time:  1\n",
      "time:  2\n",
      "time:  3\n",
      "time:  4\n",
      "time:  5\n",
      "time:  6\n",
      "time:  7\n",
      "time:  8\n",
      "time:  9\n",
      "(44657480,)\n",
      "(array([0, 1], dtype=uint8), array([43783238,   874242], dtype=int64))\n",
      "(16795, 10420)\n",
      "(array([0., 1.], dtype=float32), array([172888985,   2114915], dtype=int64))\n"
     ]
    },
    {
     "name": "stderr",
     "output_type": "stream",
     "text": [
      "ic| self.predicted_unpad.shape: (16795, 10420)\n",
      "    self.predicted.shape: (16795, 10420)\n",
      "ic| predicted_test.shape: (70001560,)\n",
      "ic| predicted_test.shape: (44657480,)\n",
      "ic| np.unique(predicted, return_counts=True): (array([0., 1.], dtype=float32), array([172888985,   2114915], dtype=int64))\n",
      "    np.unique(predicted_larger_than_min_area, return_counts=True): (array([0., 1.], dtype=float32), array([173160905,   1842995], dtype=int64))\n",
      "ic| np.unique(ignored_polygons, return_counts=True): (array([0., 1.], dtype=float32), array([174731980,    271920], dtype=int64))\n",
      "ic| predicted.shape: (16795, 10420), label_mask.shape: (16795, 10420)\n",
      "ic| predicted_masked.shape: (70001560,)\n",
      "    label_masked.shape: (70001560,)\n",
      "ic| np.unique(label_masked, return_counts=True): (array([0, 1, 2], dtype=uint8),\n",
      "                                                  array([43702002,   854574, 25444984], dtype=int64))\n",
      "ic| predicted_masked.shape: (44556576,)\n",
      "    label_masked.shape: (44556576,)\n",
      "ic| self.f1: 79.77, self.precision: 90.5, self.recall: 71.31\n",
      "ic| self.label_mask_val.shape: (21000468,)\n",
      "ic| self.label_mask_val_valid.shape: (11775029,)\n",
      "ic| f1_val: 93.73\n",
      "    precision_val: 92.15\n",
      "    recall_val: 95.36\n",
      "    mAP_val: 97.92\n"
     ]
    },
    {
     "name": "stdout",
     "output_type": "stream",
     "text": [
      "(array([0., 1.], dtype=float32), array([174146793,    857107], dtype=int64))\n"
     ]
    },
    {
     "name": "stderr",
     "output_type": "stream",
     "text": [
      "ic| self.label_mask.shape: (16795, 10420)\n",
      "ic| self.mask_amazon_ts.shape: (16795, 10420)\n",
      "ic| self.label_mask_test.shape: (70001560,)\n",
      "ic| self.error_mask_test.shape: (44556576,)\n",
      "ic| bounds: (0.0015, 0.3663794801235199)\n",
      "c:\\Users\\jchamorro\\Anaconda3\\envs\\tf2\\lib\\site-packages\\scipy\\optimize\\_minimize.py:783: RuntimeWarning: Method 'bounded' does not support relative tolerance in x; defaulting to absolute tolerance.\n",
      "  warn(\"Method 'bounded' does not support relative tolerance in x; \"\n"
     ]
    },
    {
     "name": "stdout",
     "output_type": "stream",
     "text": [
      "0.1408715596097929\n",
      "threshold 0.1408715596097929\n",
      "(42440168,) (42440168,)\n"
     ]
    },
    {
     "name": "stderr",
     "output_type": "stream",
     "text": [
      "ic| label_current_deforestation_test_classified_incorrect.shape: (2116408,)\n",
      "    predicted_test_classified_incorrect.shape: (2116408,)\n"
     ]
    },
    {
     "name": "stdout",
     "output_type": "stream",
     "text": [
      "cm_correct [[41966422    11057]\n",
      " [   23101   439588]]\n"
     ]
    },
    {
     "name": "stderr",
     "output_type": "stream",
     "text": [
      "ic| TP_H + FN_H + FP_H + TN_H: 2116408\n",
      "    len(label_mask_current_deforestation_test): 44556576\n",
      "ic| TP_H + FN_H + FP_H + TN_H: 2116408\n",
      "    len(label_mask_current_deforestation_test): 44556576\n"
     ]
    },
    {
     "name": "stdout",
     "output_type": "stream",
     "text": [
      "cm_incorrect [[1671608   52915]\n",
      " [ 222085  169800]]\n",
      "[0.97546406 0.95007229 0.51439431 0.04749934 0.76240936 0.43329038]\n",
      "0.22700792051372695\n",
      "threshold 0.22700792051372695\n",
      "(43226676,) (43226676,)\n"
     ]
    },
    {
     "name": "stderr",
     "output_type": "stream",
     "text": [
      "ic| label_current_deforestation_test_classified_incorrect.shape: (1329900,)\n",
      "    predicted_test_classified_incorrect.shape: (1329900,)\n",
      "ic| TP_H + FN_H + FP_H + TN_H: 1329900\n",
      "    len(label_mask_current_deforestation_test): 44556576\n",
      "ic| TP_H + FN_H + FP_H + TN_H: 1329900\n",
      "    len(label_mask_current_deforestation_test): 44556576\n"
     ]
    },
    {
     "name": "stdout",
     "output_type": "stream",
     "text": [
      "cm_correct [[42632639    27509]\n",
      " [   60234   506294]]\n",
      "cm_incorrect [[1005391   36463]\n",
      " [ 184952  103094]]\n",
      "[0.94846601 0.89367869 0.59245191 0.02984745 0.73872325 0.35790811]\n",
      "0.28024311921958583\n",
      "threshold 0.28024311921958583\n",
      "(43606157,) (43606157,)\n"
     ]
    },
    {
     "name": "stderr",
     "output_type": "stream",
     "text": [
      "ic| label_current_deforestation_test_classified_incorrect.shape: (950419,)\n",
      "    predicted_test_classified_incorrect.shape: (950419,)\n",
      "ic| TP_H + FN_H + FP_H + TN_H: 950419\n",
      "    len(label_mask_current_deforestation_test): 44556576\n",
      "ic| TP_H + FN_H + FP_H + TN_H: 950419\n",
      "    len(label_mask_current_deforestation_test): 44556576\n"
     ]
    },
    {
     "name": "stdout",
     "output_type": "stream",
     "text": [
      "cm_correct [[42933382    40675]\n",
      " [   87387   544713]]\n",
      "cm_incorrect [[704648  23297]\n",
      " [157799  64675]]\n",
      "[0.93051617 0.86175131 0.63740881 0.02133061 0.7351771  0.29070813]\n",
      "0.22277458246807852\n",
      "threshold 0.22277458246807852\n",
      "(43194425,) (43194425,)\n"
     ]
    },
    {
     "name": "stderr",
     "output_type": "stream",
     "text": [
      "ic| label_current_deforestation_test_classified_incorrect.shape: (1362151,)\n",
      "    predicted_test_classified_incorrect.shape: (1362151,)\n",
      "ic| TP_H + FN_H + FP_H + TN_H: 1362151\n",
      "    len(label_mask_current_deforestation_test): 44556576\n",
      "ic| "
     ]
    },
    {
     "name": "stdout",
     "output_type": "stream",
     "text": [
      "cm_correct [[42606489    26586]\n",
      " [   58095   503255]]\n",
      "cm_incorrect [[1031541   37386]\n",
      " [ 187091  106133]]\n"
     ]
    },
    {
     "name": "stderr",
     "output_type": "stream",
     "text": [
      "TP_H + FN_H + FP_H + TN_H: 1362151\n",
      "    len(label_mask_current_deforestation_test): 44556576\n"
     ]
    },
    {
     "name": "stdout",
     "output_type": "stream",
     "text": [
      "[0.94982268 0.89650842 0.58889575 0.03057127 0.73950487 0.36195195]\n",
      "0.23586898818399935\n",
      "threshold 0.23586898818399935\n",
      "(43292717,) (43292717,)\n"
     ]
    },
    {
     "name": "stderr",
     "output_type": "stream",
     "text": [
      "ic| label_current_deforestation_test_classified_incorrect.shape: (1263859,)\n",
      "    predicted_test_classified_incorrect.shape: (1263859,)\n",
      "ic| TP_H + FN_H + FP_H + TN_H: 1263859\n",
      "    len(label_mask_current_deforestation_test): 44556576\n",
      "ic| TP_H + FN_H + FP_H + TN_H: 1263859\n",
      "    len(label_mask_current_deforestation_test): 44556576\n"
     ]
    },
    {
     "name": "stdout",
     "output_type": "stream",
     "text": [
      "cm_correct [[42685801    29616]\n",
      " [   64640   512660]]\n",
      "cm_incorrect [[952229  34356]\n",
      " [180546  96728]]\n",
      "[0.94538574 0.88803049 0.59990124 0.02836526 0.73790852 0.34885348]\n",
      "0.2273241171239784\n",
      "threshold 0.2273241171239784\n",
      "(43229081,) (43229081,)\n"
     ]
    },
    {
     "name": "stderr",
     "output_type": "stream",
     "text": [
      "ic| label_current_deforestation_test_classified_incorrect.shape: (1327495,)\n",
      "    predicted_test_classified_incorrect.shape: (1327495,)\n",
      "ic| TP_H + FN_H + FP_H + TN_H: 1327495\n",
      "    len(label_mask_current_deforestation_test): 44556576\n",
      "ic| TP_H + FN_H"
     ]
    },
    {
     "name": "stdout",
     "output_type": "stream",
     "text": [
      "cm_correct [[42634589    27600]\n",
      " [   60385   506507]]\n",
      "cm_incorrect [[1003441   36372]\n",
      " [ 184801  102881]]\n"
     ]
    },
    {
     "name": "stderr",
     "output_type": "stream",
     "text": [
      " + FP_H + TN_H: 1327495\n",
      "    len(label_mask_current_deforestation_test): 44556576\n"
     ]
    },
    {
     "name": "stdout",
     "output_type": "stream",
     "text": [
      "[0.94832496 0.89348059 0.59270116 0.02979347 0.73880635 0.35762057]\n",
      "0.22572575723707794\n",
      "threshold 0.22572575723707794\n",
      "(43216989,) (43216989,)\n"
     ]
    },
    {
     "name": "stderr",
     "output_type": "stream",
     "text": [
      "ic| label_current_deforestation_test_classified_incorrect.shape: (1339587,)\n",
      "    predicted_test_classified_incorrect.shape: (1339587,)\n",
      "ic| TP_H + FN_H + FP_H + TN_H: 1339587\n",
      "    len(label_mask_current_deforestation_test): 44556576\n",
      "ic| TP_H + FN_H + FP_H + TN_H: 1339587\n",
      "    "
     ]
    },
    {
     "name": "stdout",
     "output_type": "stream",
     "text": [
      "cm_correct [[42624823    27243]\n",
      " [   59588   505335]]\n",
      "cm_incorrect [[1013207   36729]\n",
      " [ 185598  104053]]\n"
     ]
    },
    {
     "name": "stderr",
     "output_type": "stream",
     "text": [
      "len(label_mask_current_deforestation_test): 44556576\n"
     ]
    },
    {
     "name": "stdout",
     "output_type": "stream",
     "text": [
      "[0.94884693 0.89452014 0.59132972 0.03006486 0.73910727 0.35923577]\n",
      "0.22583252704223997\n",
      "threshold 0.22583252704223997\n",
      "(43217790,) (43217790,)\n"
     ]
    },
    {
     "name": "stderr",
     "output_type": "stream",
     "text": [
      "ic| label_current_deforestation_test_classified_incorrect.shape: (1338786,)\n",
      "    predicted_test_classified_incorrect.shape: (1338786,)\n",
      "ic| TP_H + FN_H"
     ]
    },
    {
     "name": "stdout",
     "output_type": "stream",
     "text": [
      "cm_correct [[42625481    27261]\n",
      " [   59641   505407]]\n",
      "cm_incorrect [[1012549   36711]\n",
      " [ 185545  103981]]\n"
     ]
    },
    {
     "name": "stderr",
     "output_type": "stream",
     "text": [
      " + FP_H + TN_H: 1338786\n",
      "    len(label_mask_current_deforestation_test): 44556576\n",
      "ic| TP_H + FN_H + FP_H + TN_H: 1338786\n",
      "    len(label_mask_current_deforestation_test): 44556576\n"
     ]
    },
    {
     "name": "stdout",
     "output_type": "stream",
     "text": [
      "[0.94882178 0.89444968 0.59141397 0.03004688 0.73906832 0.35914218]\n",
      "0.22619706402121711\n",
      "threshold 0.22619706402121711\n",
      "(43220570,) (43220570,)\n"
     ]
    },
    {
     "name": "stderr",
     "output_type": "stream",
     "text": [
      "ic| label_current_deforestation_test_classified_incorrect.shape: (1336006,)\n",
      "    predicted_test_classified_incorrect.shape: (1336006,)\n",
      "ic| TP_H + FN_H + FP_H + TN_H: 1336006\n",
      "    len(label_mask_current_deforestation_test): 44556576\n",
      "ic| TP_H + FN_H + FP_H + TN_H: 1336006\n",
      "    "
     ]
    },
    {
     "name": "stdout",
     "output_type": "stream",
     "text": [
      "cm_correct [[42627730    27342]\n",
      " [   59824   505674]]\n",
      "cm_incorrect [[1010300   36630]\n",
      " [ 185362  103714]]\n"
     ]
    },
    {
     "name": "stderr",
     "output_type": "stream",
     "text": [
      "len(label_mask_current_deforestation_test): 44556576\n"
     ]
    },
    {
     "name": "stdout",
     "output_type": "stream",
     "text": [
      "[0.94870323 0.89421006 0.5917264  0.02998449 0.73899846 0.35877762]\n",
      "0.22650678364135735\n",
      "threshold 0.22650678364135735\n",
      "(43222925,) (43222925,)\n"
     ]
    },
    {
     "name": "stderr",
     "output_type": "stream",
     "text": [
      "ic| label_current_deforestation_test_classified_incorrect.shape: (1333651,)\n",
      "    predicted_test_classified_incorrect.shape: (1333651,)\n",
      "ic| TP_H + FN_H + FP_H + TN_H: 1333651\n",
      "    len(label_mask_current_deforestation_test): 44556576\n",
      "ic| TP_H + FN_H + FP_H + TN_H: 1333651\n",
      "    len(label_mask_current_deforestation_test): 44556576\n"
     ]
    },
    {
     "name": "stdout",
     "output_type": "stream",
     "text": [
      "cm_correct [[42629605    27408]\n",
      " [   59979   505933]]\n",
      "cm_incorrect [[1008425   36564]\n",
      " [ 185207  103455]]\n",
      "[0.94861074 0.89401356 0.59202948 0.02993163 0.73886401 0.35839494]\n",
      "0.22626103539589987\n",
      "threshold 0.22626103539589987\n",
      "(43221073,) (43221073,)\n"
     ]
    },
    {
     "name": "stderr",
     "output_type": "stream",
     "text": [
      "ic| label_current_deforestation_test_classified_incorrect.shape: (1335503,)\n",
      "    predicted_test_classified_incorrect.shape: (1335503,)\n",
      "ic| TP_H + FN_H + FP_H + TN_H: "
     ]
    },
    {
     "name": "stdout",
     "output_type": "stream",
     "text": [
      "cm_correct [[42628123    27357]\n",
      " [   59850   505743]]\n",
      "cm_incorrect [[1009907   36615]\n",
      " [ 185336  103645]]\n"
     ]
    },
    {
     "name": "stderr",
     "output_type": "stream",
     "text": [
      "1335503\n",
      "    len(label_mask_current_deforestation_test): 44556576\n",
      "ic| TP_H + FN_H + FP_H + TN_H: 1335503\n",
      "    len(label_mask_current_deforestation_test): 44556576\n"
     ]
    },
    {
     "name": "stdout",
     "output_type": "stream",
     "text": [
      "[0.94868317 0.89418186 0.59180715 0.0299732  0.73894909 0.3586568 ]\n",
      "0.22608501705437314\n",
      "threshold 0.22608501705437314\n",
      "(43219750,) (43219750,)\n"
     ]
    },
    {
     "name": "stderr",
     "output_type": "stream",
     "text": [
      "ic| label_current_deforestation_test_classified_incorrect.shape: (1336826,)\n",
      "    predicted_test_classified_incorrect.shape: (1336826,)\n",
      "ic| TP_H + FN_H + FP_H + TN_H: 1336826\n",
      "    len(label_mask_current_deforestation_test): 44556576\n",
      "ic| TP_H + FN_H + FP_H "
     ]
    },
    {
     "name": "stdout",
     "output_type": "stream",
     "text": [
      "cm_correct [[42627077    27320]\n",
      " [   59756   505597]]\n",
      "cm_incorrect [[1010953   36652]\n",
      " [ 185430  103791]]\n"
     ]
    },
    {
     "name": "stderr",
     "output_type": "stream",
     "text": [
      "+ TN_H: 1336826\n",
      "    len(label_mask_current_deforestation_test): 44556576\n"
     ]
    },
    {
     "name": "stdout",
     "output_type": "stream",
     "text": [
      "[0.94873498 0.89430321 0.5916363  0.03000289 0.7390258  0.35886398]\n",
      "0.22598857445155815\n",
      "threshold 0.22598857445155815\n",
      "(43218985,) (43218985,)\n"
     ]
    },
    {
     "name": "stderr",
     "output_type": "stream",
     "text": [
      "ic| label_current_deforestation_test_classified_incorrect.shape: (1337591,)\n",
      "    predicted_test_classified_incorrect.shape: (1337591,)\n",
      "ic| TP_H + FN_H + FP_H + TN_H: 1337591\n",
      "    len(label_mask_current_deforestation_test): 44556576\n",
      "ic| TP_H + FN_H + FP_H + TN_H: 1337591\n",
      "    len(label_mask_current_deforestation_test): 44556576\n"
     ]
    },
    {
     "name": "stdout",
     "output_type": "stream",
     "text": [
      "cm_correct [[42626478    27290]\n",
      " [   59704   505513]]\n",
      "cm_incorrect [[1011552   36682]\n",
      " [ 185482  103875]]\n",
      "[0.94878032 0.89436977 0.59153801 0.03002006 0.73902403 0.35898561]\n",
      "0.2261183537410892\n",
      "threshold 0.2261183537410892\n",
      "(43219991,) (43219991,)\n"
     ]
    },
    {
     "name": "stderr",
     "output_type": "stream",
     "text": [
      "ic| label_current_deforestation_test_classified_incorrect.shape: (1336585,)\n",
      "    predicted_test_classified_incorrect.shape: (1336585,)\n",
      "ic| TP_H + FN_H + FP_H + TN_H: 1336585\n",
      "    len(label_mask_current_deforestation_test): 44556576\n"
     ]
    },
    {
     "name": "stdout",
     "output_type": "stream",
     "text": [
      "cm_correct [[42627276    27327]\n",
      " [   59777   505611]]\n",
      "cm_incorrect [[1010754   36645]\n",
      " [ 185409  103777]]\n"
     ]
    },
    {
     "name": "stderr",
     "output_type": "stream",
     "text": [
      "ic| TP_H + FN_H + FP_H + TN_H: 1336585\n",
      "    len(label_mask_current_deforestation_test): 44556576\n"
     ]
    },
    {
     "name": "stdout",
     "output_type": "stream",
     "text": [
      "[0.94872387 0.89427261 0.59165268 0.02999748 0.73903662 0.358859  ]\n",
      "0.22615169042829972\n",
      "threshold 0.22615169042829972\n",
      "(43220243,) (43220243,)\n"
     ]
    },
    {
     "name": "stderr",
     "output_type": "stream",
     "text": [
      "ic| label_current_deforestation_test_classified_incorrect.shape: (1336333,)\n",
      "    predicted_test_classified_incorrect.shape: (1336333,)\n",
      "ic| TP_H + FN_H + FP_H + TN_H: 1336333\n",
      "    len(label_mask_current_deforestation_test): 44556576\n",
      "ic| TP_H + FN_H + FP_H + TN_H: 1336333\n",
      "    len(label_mask_current_deforestation_test): 44556576\n"
     ]
    },
    {
     "name": "stdout",
     "output_type": "stream",
     "text": [
      "cm_correct [[42627475    27336]\n",
      " [   59790   505642]]\n",
      "cm_incorrect [[1010555   36636]\n",
      " [ 185396  103746]]\n",
      "[0.94871083 0.89425784 0.59168896 0.02999182 0.73902637 0.3588064 ]\n"
     ]
    },
    {
     "name": "stderr",
     "output_type": "stream",
     "text": [
      "ic| self.threshold_optimal: 0.2261183537410892\n"
     ]
    },
    {
     "name": "stdout",
     "output_type": "stream",
     "text": [
      "threshold 0.2261183537410892\n",
      "(43219991,) (43219991,)\n"
     ]
    },
    {
     "name": "stderr",
     "output_type": "stream",
     "text": [
      "ic| label_current_deforestation_test_classified_incorrect.shape: (1336585,)\n",
      "    predicted_test_classified_incorrect.shape: (1336585,)\n",
      "ic| TP_H + FN_H + FP_H + TN_H: 1336585\n",
      "    len(label_mask_current_deforestation_test): 44556576\n",
      "ic| TP_H + FN_H + FP_H + "
     ]
    },
    {
     "name": "stdout",
     "output_type": "stream",
     "text": [
      "cm_correct [[42627276    27327]\n",
      " [   59777   505611]]\n",
      "cm_incorrect [[1010754   36645]\n",
      " [ 185409  103777]]\n"
     ]
    },
    {
     "name": "stderr",
     "output_type": "stream",
     "text": [
      "TN_H: 1336585\n",
      "    len(label_mask_current_deforestation_test): 44556576\n"
     ]
    },
    {
     "name": "stdout",
     "output_type": "stream",
     "text": [
      "[0.94872387 0.89427261 0.59165268 0.02999748 0.73903662 0.358859  ]\n",
      "threshold 0.2261183537410892\n",
      "(44556576,) (44556576,)\n"
     ]
    },
    {
     "name": "stderr",
     "output_type": "stream",
     "text": [
      "ic| self.m_optimal: {'AA': array([0.02999748]),\n",
      "                     'f1': 79.77,\n",
      "                     'f1_H': array([0.48312415]),\n",
      "                     'f1_L': array([0.92069386]),\n",
      "                     'precision_H': array([0.73903662]),\n",
      "                     'precision_L': array([0.94872387]),\n",
      "                     'recall_H': array([0.358859]),\n",
      "                     'recall_L': array([0.89427261]),\n",
      "                     'recall_Ltotal': array([0.59165268])}\n",
      "ic| self.m_audited_optimal: {'f1': array([0.94805028]),\n",
      "                             'precision': array([0.96676049]),\n",
      "                             'recall': array([0.93005053])}\n"
     ]
    },
    {
     "name": "stdout",
     "output_type": "stream",
     "text": [
      "cm_audited [[43674675    27327]\n",
      " [   59777   794797]]\n",
      "[0.96676049 0.93005053]\n"
     ]
    },
    {
     "name": "stderr",
     "output_type": "stream",
     "text": [
      "ic| self.label_mask.shape: (16795, 10420)\n",
      "ic| self.mask_amazon_ts.shape: (16795, 10420)\n",
      "ic| self.label_mask_test.shape: (70001560,)\n",
      "ic| self.error_mask_test.shape: (44556576,)\n",
      "ic| bounds: (0.0015, 0.12562499499320984)\n",
      "c:\\Users\\jchamorro\\Anaconda3\\envs\\tf2\\lib\\site-packages\\scipy\\optimize\\_minimize.py:783: RuntimeWarning: Method 'bounded' does not support relative tolerance in x; defaulting to absolute tolerance.\n",
      "  warn(\"Method 'bounded' does not support relative tolerance in x; \"\n"
     ]
    },
    {
     "name": "stdout",
     "output_type": "stream",
     "text": [
      "0.04891152923399563\n",
      "threshold 0.04891152923399563\n",
      "(44537654,) (44537654,)\n"
     ]
    },
    {
     "name": "stderr",
     "output_type": "stream",
     "text": [
      "ic| label_current_deforestation_test_classified_incorrect.shape: (18922,)\n",
      "    predicted_test_classified_incorrect.shape: (18922,)\n",
      "ic| TP_H + FN_H + FP_H + TN_H: 18922\n",
      "    len(label_mask_current_deforestation_test): 44556576\n",
      "ic| TP_H + FN_H + FP_H + TN_H: 18922\n",
      "    len(label_mask_current_deforestation_test): 44556576\n"
     ]
    },
    {
     "name": "stdout",
     "output_type": "stream",
     "text": [
      "cm_correct [[43633170    53641]\n",
      " [  244018   606825]]\n",
      "cm_incorrect [[ 4860 10331]\n",
      " [ 1168  2563]]\n",
      "[9.18783102e-01 7.13204434e-01 7.10090642e-01 4.24673566e-04\n",
      " 1.98774624e-01 6.86947199e-01]\n",
      "0.0782134657592142\n",
      "threshold 0.0782134657592142\n",
      "(44553465,) (44553465,)\n"
     ]
    },
    {
     "name": "stderr",
     "output_type": "stream",
     "text": [
      "ic| label_current_deforestation_test_classified_incorrect.shape: (3111,)\n",
      "    predicted_test_classified_incorrect.shape: (3111,)\n",
      "ic| TP_H + FN_H + FP_H + TN_H: 3111\n",
      "    len(label_mask_current_deforestation_test): 44556576\n",
      "ic| TP_H + FN_H + FP_H + TN_H: 3111\n",
      "    len(label_mask_current_deforestation_test): 44556576\n"
     ]
    },
    {
     "name": "stdout",
     "output_type": "stream",
     "text": [
      "cm_correct [[43637589    61666]\n",
      " [  244986   609224]]\n",
      "cm_incorrect [[ 441 2306]\n",
      " [ 200  164]]\n",
      "[9.08083292e-01 7.13201672e-01 7.12897888e-01 6.98213435e-05\n",
      " 6.63967611e-02 4.50549451e-01]\n",
      "0.03080193652521857\n",
      "threshold 0.03080193652521857\n",
      "(44495930,) (44495930,)\n"
     ]
    },
    {
     "name": "stderr",
     "output_type": "stream",
     "text": [
      "ic| label_current_deforestation_test_classified_incorrect.shape: (60646,)\n",
      "    predicted_test_classified_incorrect.shape: (60646,)\n",
      "ic| TP_H + FN_H + FP_H + TN_H: 60646\n",
      "    len(label_mask_current_deforestation_test): 44556576\n",
      "ic| TP_H + FN_H + FP_H + TN_H: 60646\n",
      "    len(label_mask_current_deforestation_test): 44556576\n"
     ]
    },
    {
     "name": "stdout",
     "output_type": "stream",
     "text": [
      "cm_correct [[43617193    42578]\n",
      " [  242085   594074]]\n",
      "cm_incorrect [[20837 21394]\n",
      " [ 3101 15314]]\n",
      "[0.93312202 0.71047971 0.69516976 0.0013611  0.41718427 0.83160467]\n",
      "0.019609592708777067\n",
      "threshold 0.019609592708777067\n",
      "(44398179,) (44398179,)\n"
     ]
    },
    {
     "name": "stderr",
     "output_type": "stream",
     "text": [
      "ic| label_current_deforestation_test_classified_incorrect.shape: (158397,)\n",
      "    predicted_test_classified_incorrect.shape: (158397,)\n",
      "ic| TP_H + FN_H + FP_H + TN_H: 158397\n",
      "    len(label_mask_current_deforestation_test): 44556576\n",
      "ic| TP_H + FN_H + FP_H + TN_H: 158397\n",
      "    len(label_mask_current_deforestation_test): 44556576\n"
     ]
    },
    {
     "name": "stdout",
     "output_type": "stream",
     "text": [
      "cm_correct [[43576239    28893]\n",
      " [  237763   555284]]\n",
      "cm_incorrect [[61791 35079]\n",
      " [ 7423 54104]]\n",
      "[0.95054068 0.70019053 0.64977872 0.00355496 0.6066627  0.87935378]\n",
      "0.012692343816441505\n",
      "threshold 0.012692343816441505\n",
      "(44242217,) (44242217,)\n"
     ]
    },
    {
     "name": "stderr",
     "output_type": "stream",
     "text": [
      "ic| label_current_deforestation_test_classified_incorrect.shape: (314359,)\n",
      "    predicted_test_classified_incorrect.shape: (314359,)\n",
      "ic| TP_H + FN_H + FP_H + TN_H: 314359\n",
      "    len(label_mask_current_deforestation_test): 44556576\n",
      "ic| TP_H + FN_H + FP_H + TN_H: 314359\n",
      "    len(label_mask_current_deforestation_test): 44556576\n"
     ]
    },
    {
     "name": "stdout",
     "output_type": "stream",
     "text": [
      "cm_correct [[43495400    17445]\n",
      " [  229240   500132]]\n",
      "cm_incorrect [[142630  46527]\n",
      " [ 15946 109256]]\n",
      "[0.96629487 0.68570222 0.5852413  0.00705528 0.70133455 0.87263782]\n",
      "0.008417248892335565\n",
      "threshold 0.008417248892335565\n",
      "(44030301,) (44030301,)\n"
     ]
    },
    {
     "name": "stderr",
     "output_type": "stream",
     "text": [
      "ic| label_current_deforestation_test_classified_incorrect.shape: (526275,)\n",
      "    predicted_test_classified_incorrect.shape: (526275,)\n",
      "ic| TP_H + FN_H + FP_H + TN_H: 526275\n",
      "    len(label_mask_current_deforestation_test): 44556576\n",
      "ic| TP_H + FN_H + FP_H + TN_H: 526275\n",
      "    len(label_mask_current_deforestation_test): 44556576\n"
     ]
    },
    {
     "name": "stdout",
     "output_type": "stream",
     "text": [
      "cm_correct [[43367847    12111]\n",
      " [  211976   438367]]\n",
      "cm_incorrect [[270183  51861]\n",
      " [ 33210 171021]]\n",
      "[0.97311522 0.67405508 0.51296552 0.01181139 0.76731634 0.83739001]\n",
      "0.005775094924105942\n",
      "threshold 0.005775094924105942\n",
      "(43763189,) (43763189,)\n"
     ]
    },
    {
     "name": "stderr",
     "output_type": "stream",
     "text": [
      "ic| label_current_deforestation_test_classified_incorrect.shape: (793387,)\n",
      "    predicted_test_classified_incorrect.shape: (793387,)\n",
      "ic| TP_H + FN_H + FP_H + TN_H: 793387\n",
      "    len(label_mask_current_deforestation_test): 44556576\n",
      "ic| TP_H + FN_H + FP_H + TN_H: 793387\n",
      "    len(label_mask_current_deforestation_test): 44556576\n"
     ]
    },
    {
     "name": "stdout",
     "output_type": "stream",
     "text": [
      "cm_correct [[43182384     8701]\n",
      " [  182703   389401]]\n",
      "cm_incorrect [[455646  55271]\n",
      " [ 62483 219987]]\n",
      "[0.97814379 0.68064722 0.4556668  0.01780628 0.79920293 0.77879775]\n",
      "0.004142153968229624\n",
      "threshold 0.004142153968229624\n",
      "(43421240,) (43421240,)\n"
     ]
    },
    {
     "name": "stderr",
     "output_type": "stream",
     "text": [
      "ic| label_current_deforestation_test_classified_incorrect.shape: (1135336,)\n",
      "    predicted_test_classified_incorrect.shape: (1135336,)\n",
      "ic| TP_H + FN_H + FP_H + TN_H: 1135336\n",
      "    len(label_mask_current_deforestation_test): 44556576\n",
      "ic| TP_H + FN_H + FP_H + TN_H: 1135336\n",
      "    len(label_mask_current_deforestation_test): 44556576\n"
     ]
    },
    {
     "name": "stdout",
     "output_type": "stream",
     "text": [
      "cm_correct [[42907808     6540]\n",
      " [  150451   356441]]\n",
      "cm_incorrect [[730222  57432]\n",
      " [ 94735 252947]]\n",
      "[0.98198253 0.70318924 0.41709788 0.02548077 0.81496171 0.727524  ]\n",
      "0.0031329409558763176\n",
      "threshold 0.0031329409558763176\n",
      "(42856949,) (42856949,)\n"
     ]
    },
    {
     "name": "stderr",
     "output_type": "stream",
     "text": [
      "ic| label_current_deforestation_test_classified_incorrect.shape: (1699627,)\n",
      "    predicted_test_classified_incorrect.shape: (1699627,)\n"
     ]
    },
    {
     "name": "stdout",
     "output_type": "stream",
     "text": [
      "cm_correct [[42402459     4951]\n",
      " [  115070   334469]]\n"
     ]
    },
    {
     "name": "stderr",
     "output_type": "stream",
     "text": [
      "ic| TP_H + FN_H + FP_H + TN_H: 1699627\n",
      "    len(label_mask_current_deforestation_test): 44556576\n",
      "ic| TP_H + FN_H + FP_H + TN_H: 1699627\n",
      "    len(label_mask_current_deforestation_test): 44556576\n"
     ]
    },
    {
     "name": "stdout",
     "output_type": "stream",
     "text": [
      "cm_incorrect [[1235571   59021]\n",
      " [ 130116  274919]]\n",
      "[0.98541335 0.74402666 0.39138682 0.03814537 0.82325867 0.67875369]\n",
      "0.0042099307988553375\n",
      "threshold 0.0042099307988553375\n",
      "(43443746,) (43443746,)\n"
     ]
    },
    {
     "name": "stderr",
     "output_type": "stream",
     "text": [
      "ic| label_current_deforestation_test_classified_incorrect.shape: (1112830,)\n",
      "    predicted_test_classified_incorrect.shape: (1112830,)\n",
      "ic| TP_H + FN_H + FP_H + TN_H: 1112830\n",
      "    len(label_mask_current_deforestation_test): 44556576\n",
      "ic| TP_H + FN_H + FP_H + TN_H: 1112830\n",
      "    len(label_mask_current_deforestation_test): 44556576\n"
     ]
    },
    {
     "name": "stdout",
     "output_type": "stream",
     "text": [
      "cm_correct [[42926966     6631]\n",
      " [  152244   357905]]\n",
      "cm_incorrect [[711064  57341]\n",
      " [ 92942 251483]]\n",
      "[0.98180975 0.70156954 0.41881101 0.02497566 0.81432466 0.73015315]\n",
      "0.0038127153096274755\n",
      "threshold 0.0038127153096274755\n",
      "(43291094,) (43291094,)\n"
     ]
    },
    {
     "name": "stderr",
     "output_type": "stream",
     "text": [
      "ic| label_current_deforestation_test_classified_incorrect.shape: (1265482,)\n",
      "    predicted_test_classified_incorrect.shape: (1265482,)\n",
      "ic| TP_H + FN_H + FP_H + TN_H: 1265482\n",
      "    len(label_mask_current_deforestation_test): 44556576\n",
      "ic| TP_H + FN_H + FP_H + TN_H: 1265482\n",
      "    len("
     ]
    },
    {
     "name": "stdout",
     "output_type": "stream",
     "text": [
      "cm_correct [[42794936     6060]\n",
      " [  140591   349507]]\n",
      "cm_incorrect [[843094  57912]\n",
      " [104595 259881]]\n"
     ]
    },
    {
     "name": "stderr",
     "output_type": "stream",
     "text": [
      "label_mask_current_deforestation_test): 44556576\n"
     ]
    },
    {
     "name": "stdout",
     "output_type": "stream",
     "text": [
      "[0.9829568  0.71313696 0.40898389 0.02840169 0.81776817 0.71302637]\n",
      "0.003553064611175028\n",
      "threshold 0.003553064611175028\n",
      "(43157707,) (43157707,)\n"
     ]
    },
    {
     "name": "stderr",
     "output_type": "stream",
     "text": [
      "ic| label_current_deforestation_test_classified_incorrect.shape: (1398869,)\n",
      "    predicted_test_classified_incorrect.shape: (1398869,)\n",
      "ic| TP_H + FN_H + FP_H + TN_H: 1398869\n",
      "    len(label_mask_current_deforestation_test): 44556576\n",
      "ic|"
     ]
    },
    {
     "name": "stdout",
     "output_type": "stream",
     "text": [
      "cm_correct [[42676280     5609]\n",
      " [  131813   344005]]\n",
      "cm_incorrect [[961750  58363]\n",
      " [113373 265383]]\n"
     ]
    },
    {
     "name": "stderr",
     "output_type": "stream",
     "text": [
      " TP_H + FN_H + FP_H + TN_H: 1398869\n",
      "    len(label_mask_current_deforestation_test): 44556576\n"
     ]
    },
    {
     "name": "stdout",
     "output_type": "stream",
     "text": [
      "[0.98395659 0.72297601 0.4025456  0.03139534 0.81972596 0.70067009]\n",
      "0.0036544107239273134\n",
      "threshold 0.0036544107239273134\n",
      "(43213695,) (43213695,)\n"
     ]
    },
    {
     "name": "stderr",
     "output_type": "stream",
     "text": [
      "ic| label_current_deforestation_test_classified_incorrect.shape: (1342881,)\n",
      "    predicted_test_classified_incorrect.shape: (1342881,)\n",
      "ic| TP_H + FN_H + FP_H + TN_H: 1342881\n",
      "    len(label_mask_current_deforestation_test): 44556576\n",
      "ic| TP_H + FN_H + FP_H + TN_H: 1342881"
     ]
    },
    {
     "name": "stdout",
     "output_type": "stream",
     "text": [
      "cm_correct [[42726345     5787]\n",
      " [  135409   346154]]\n",
      "cm_incorrect [[911685  58185]\n",
      " [109777 263234]]\n"
     ]
    },
    {
     "name": "stderr",
     "output_type": "stream",
     "text": [
      "\n",
      "    len(label_mask_current_deforestation_test): 44556576\n"
     ]
    },
    {
     "name": "stdout",
     "output_type": "stream",
     "text": [
      "[0.9835569  0.71881353 0.4050603  0.03013878 0.81897461 0.70570037]\n",
      "0.003687744111464317\n",
      "threshold 0.003687744111464317\n",
      "(43231040,) (43231040,)\n"
     ]
    },
    {
     "name": "stderr",
     "output_type": "stream",
     "text": [
      "ic| label_current_deforestation_test_classified_incorrect.shape: (1325536,)\n",
      "    predicted_test_classified_incorrect.shape: (1325536,)\n",
      "ic| TP_H + FN_H + FP_H + TN_H: 1325536\n",
      "    len(label_mask_current_deforestation_test): 44556576\n",
      "ic| TP_H + FN_H + FP_H + TN_H: 1325536\n",
      "    len(label_mask_current_deforestation_test): 44556576\n"
     ]
    },
    {
     "name": "stdout",
     "output_type": "stream",
     "text": [
      "cm_correct [[42741761     5845]\n",
      " [  136576   346858]]\n",
      "cm_incorrect [[896269  58127]\n",
      " [108610 262530]]\n",
      "[0.98342798 0.71748781 0.4058841  0.0297495  0.8187253  0.7073611 ]\n",
      "0.0036210773363903096\n",
      "threshold 0.0036210773363903096\n",
      "(43195918,) (43195918,)\n"
     ]
    },
    {
     "name": "stderr",
     "output_type": "stream",
     "text": [
      "ic| label_current_deforestation_test_classified_incorrect.shape: (1360658,)\n",
      "    predicted_test_classified_incorrect.shape: (1360658,)\n",
      "ic| TP_H + FN_H + FP_H + TN_H: 1360658\n",
      "    len(label_mask_current_deforestation_test): 44556576\n",
      "ic| TP_H + FN_H + FP_H +"
     ]
    },
    {
     "name": "stdout",
     "output_type": "stream",
     "text": [
      "cm_correct [[42710492     5721]\n",
      " [  134273   345432]]\n",
      "cm_incorrect [[927538  58251]\n",
      " [110913 263956]]\n"
     ]
    },
    {
     "name": "stderr",
     "output_type": "stream",
     "text": [
      " TN_H: 1360658\n",
      "    len(label_mask_current_deforestation_test): 44556576\n",
      "ic| self.threshold_optimal: 0.0036544107239273134\n"
     ]
    },
    {
     "name": "stdout",
     "output_type": "stream",
     "text": [
      "[0.98370796 0.72009256 0.40421543 0.03053776 0.81921249 0.70412864]\n",
      "threshold 0.0036544107239273134\n",
      "(43213695,) (43213695,)\n"
     ]
    },
    {
     "name": "stderr",
     "output_type": "stream",
     "text": [
      "ic| label_current_deforestation_test_classified_incorrect.shape: (1342881,)\n",
      "    predicted_test_classified_incorrect.shape: (1342881,)\n",
      "ic| TP_H + FN_H + FP_H + TN_H: 1342881\n",
      "    len(label_mask_current_deforestation_test): 44556576\n",
      "ic| TP_H + FN_H + FP_H + TN_H: 1342881\n",
      "    len(label_mask_current_deforestation_test): 44556576\n"
     ]
    },
    {
     "name": "stdout",
     "output_type": "stream",
     "text": [
      "cm_correct [[42726345     5787]\n",
      " [  135409   346154]]\n",
      "cm_incorrect [[911685  58185]\n",
      " [109777 263234]]\n",
      "[0.9835569  0.71881353 0.4050603  0.03013878 0.81897461 0.70570037]\n",
      "threshold 0.0036544107239273134\n",
      "(44556576,) (44556576,)\n"
     ]
    },
    {
     "name": "stderr",
     "output_type": "stream",
     "text": [
      "ic| self.m_optimal: {'AA': array([0.03013878]),\n",
      "                     'f1': 79.77,\n",
      "                     'f1_H': array([0.75812969]),\n",
      "                     'f1_L': array([0.83059949]),\n",
      "                     'precision_H': array([0.81897461]),\n",
      "                     'precision_L': array([0.9835569]),\n",
      "                     'recall_H': array([0.70570037]),\n",
      "                     'recall_L': array([0.71881353]),\n",
      "                     'recall_Ltotal': array([0.4050603])}\n",
      "ic| self.m_audited_optimal: {'f1': array([0.91060863]),\n",
      "                             'precision': array([0.9920174]),\n",
      "                             'recall': array([0.84154795])}\n"
     ]
    },
    {
     "name": "stdout",
     "output_type": "stream",
     "text": [
      "cm_audited [[43696215     5787]\n",
      " [  135409   719165]]\n",
      "[0.9920174  0.84154795]\n"
     ]
    },
    {
     "name": "stderr",
     "output_type": "stream",
     "text": [
      "ic| n: 10, K: 1\n",
      "ic| self.label_mask.shape: (16795, 10420)\n",
      "ic| self.mask_amazon_ts.shape: (16795, 10420)\n",
      "ic| self.label_mask_test.shape: (70001560,)\n",
      "ic| self.error_mask_test.shape: (44556576,)\n",
      "ic| bounds: (0.0015, 0.15988964891433716)\n",
      "c:\\Users\\jchamorro\\Anaconda3\\envs\\tf2\\lib\\site-packages\\scipy\\optimize\\_minimize.py:783: RuntimeWarning: Method 'bounded' does not support relative tolerance in x; defaulting to absolute tolerance.\n",
      "  warn(\"Method 'bounded' does not support relative tolerance in x; \"\n"
     ]
    },
    {
     "name": "stdout",
     "output_type": "stream",
     "text": [
      "0.0619994624191139\n",
      "threshold 0.0619994624191139\n",
      "(44532788,) (44532788,)\n"
     ]
    },
    {
     "name": "stderr",
     "output_type": "stream",
     "text": [
      "ic| label_current_deforestation_test_classified_incorrect.shape: (23788,)\n",
      "    predicted_test_classified_incorrect.shape: (23788,)\n",
      "ic| TP_H + FN_H + FP_H + TN_H: 23788\n",
      "    len(label_mask_current_deforestation_test): 44556576\n",
      "ic| TP_H + FN_H + FP_H + TN_H: 23788\n",
      "    len(label_mask_current_deforestation_test): 44556576\n"
     ]
    },
    {
     "name": "stdout",
     "output_type": "stream",
     "text": [
      "cm_correct [[43619088    60546]\n",
      " [  244174   608980]]\n",
      "cm_incorrect [[18942  3426]\n",
      " [ 1012   408]]\n",
      "[9.09568859e-01 7.13798447e-01 7.12612366e-01 5.33883034e-04\n",
      " 1.06416275e-01 2.87323944e-01]\n",
      "0.09939018649522324\n",
      "threshold 0.09939018649522324\n",
      "(44555507,) (44555507,)\n"
     ]
    },
    {
     "name": "stderr",
     "output_type": "stream",
     "text": [
      "ic| label_current_deforestation_test_classified_incorrect.shape: (1069,)\n",
      "    predicted_test_classified_incorrect.shape: (1069,)\n",
      "ic| TP_H + FN_H + FP_H + TN_H: 1069\n",
      "    len(label_mask_current_deforestation_test): 44556576\n",
      "ic| TP_H + FN_H + FP_H + TN_H: 1069\n",
      "    len(label_mask_current_deforestation_test): 44556576\n"
     ]
    },
    {
     "name": "stdout",
     "output_type": "stream",
     "text": [
      "cm_correct [[43637390    63738]\n",
      " [  245004   609375]]\n",
      "cm_incorrect [[640 234]\n",
      " [182  13]]\n",
      "[9.05308618e-01 7.13237334e-01 7.13074585e-01 2.39919692e-05\n",
      " 5.26315789e-02 6.66666667e-02]\n",
      "0.03889072407610933\n",
      "threshold 0.03889072407610933\n",
      "(43775169,) (43775169,)\n"
     ]
    },
    {
     "name": "stderr",
     "output_type": "stream",
     "text": [
      "ic| label_current_deforestation_test_classified_incorrect.shape: (781407,)\n",
      "    predicted_test_classified_incorrect.shape: (781407,)\n",
      "ic| TP_H + FN_H + FP_H + TN_H: 781407\n",
      "    len(label_mask_current_deforestation_test): 44556576\n",
      "ic| TP_H + FN_H + FP_H + TN_H: 781407\n",
      "    len(label_mask_current_deforestation_test): 44556576\n"
     ]
    },
    {
     "name": "stdout",
     "output_type": "stream",
     "text": [
      "cm_correct [[42874107    53720]\n",
      " [  241068   606274]]\n",
      "cm_incorrect [[763923  10252]\n",
      " [  4118   3114]]\n",
      "[0.91860532 0.71550094 0.70944588 0.01753741 0.2329792  0.43058628]\n",
      "0.024608738343004578\n",
      "threshold 0.024608738343004578\n",
      "(41596713,) (41596713,)\n"
     ]
    },
    {
     "name": "stderr",
     "output_type": "stream",
     "text": [
      "ic| label_current_deforestation_test_classified_incorrect.shape: (2959863,)\n",
      "    predicted_test_classified_incorrect.shape: (2959863,)\n"
     ]
    },
    {
     "name": "stdout",
     "output_type": "stream",
     "text": [
      "cm_correct [[40733145    43469]\n",
      " [  223517   596582]]\n"
     ]
    },
    {
     "name": "stderr",
     "output_type": "stream",
     "text": [
      "ic| TP_H + FN_H + FP_H + TN_H: 2959863\n",
      "    len(label_mask_current_deforestation_test): 44556576\n",
      "ic| TP_H + FN_H + FP_H + TN_H: 2959863\n",
      "    len(label_mask_current_deforestation_test): 44556576\n"
     ]
    },
    {
     "name": "stdout",
     "output_type": "stream",
     "text": [
      "cm_incorrect [[2904885   20503]\n",
      " [  21669   12806]]\n",
      "[0.9320851  0.7274512  0.69810455 0.06642932 0.38446066 0.37145758]\n",
      "0.04771747668600915\n",
      "threshold 0.04771747668600915\n",
      "(44408442,) (44408442,)\n"
     ]
    },
    {
     "name": "stderr",
     "output_type": "stream",
     "text": [
      "ic| label_current_deforestation_test_classified_incorrect.shape: (148134,)\n",
      "    predicted_test_classified_incorrect.shape: (148134,)\n",
      "ic| TP_H + FN_H + FP_H + TN_H: 148134\n",
      "    len(label_mask_current_deforestation_test): 44556576\n",
      "ic| TP_H + FN_H + FP_H + TN_H: 148134\n",
      "    len(label_mask_current_deforestation_test): 44556576\n"
     ]
    },
    {
     "name": "stdout",
     "output_type": "stream",
     "text": [
      "cm_correct [[43500295    57237]\n",
      " [  243021   607889]]\n",
      "cm_incorrect [[137735   6735]\n",
      " [  2165   1499]]\n",
      "[0.91394563 0.7143987  0.71133571 0.00332463 0.18205004 0.40911572]\n",
      "0.0334354909529044\n",
      "threshold 0.0334354909529044\n",
      "(42920604,) (42920604,)\n"
     ]
    },
    {
     "name": "stderr",
     "output_type": "stream",
     "text": [
      "ic| label_current_deforestation_test_classified_incorrect.shape: (1635972,)\n",
      "    predicted_test_classified_incorrect.shape: (1635972,)\n"
     ]
    },
    {
     "name": "stdout",
     "output_type": "stream",
     "text": [
      "cm_correct [[42028510    50552]\n",
      " [  237120   604422]]\n"
     ]
    },
    {
     "name": "stderr",
     "output_type": "stream",
     "text": [
      "ic| TP_H + FN_H + FP_H + TN_H: 1635972\n",
      "    len(label_mask_current_deforestation_test): 44556576\n",
      "ic| TP_H + FN_H + FP_H + TN_H: 1635972\n",
      "    len(label_mask_current_deforestation_test): 44556576\n"
     ]
    },
    {
     "name": "stdout",
     "output_type": "stream",
     "text": [
      "cm_incorrect [[1609520   13420]\n",
      " [   8066    4966]]\n",
      "[0.92281831 0.71823153 0.70727871 0.03671674 0.27009681 0.381062  ]\n",
      "0.03006397146620951\n",
      "threshold 0.03006397146620951\n",
      "(42343968,) (42343968,)\n"
     ]
    },
    {
     "name": "stderr",
     "output_type": "stream",
     "text": [
      "ic| label_current_deforestation_test_classified_incorrect.shape: (2212608,)\n",
      "    predicted_test_classified_incorrect.shape: (2212608,)\n"
     ]
    },
    {
     "name": "stdout",
     "output_type": "stream",
     "text": [
      "cm_correct [[41460749    48201]\n",
      " [  232537   602481]]\n"
     ]
    },
    {
     "name": "stderr",
     "output_type": "stream",
     "text": [
      "ic| TP_H + FN_H + FP_H + TN_H: 2212608\n",
      "    len(label_mask_current_deforestation_test): 44556576\n",
      "ic| TP_H + FN_H + FP_H + TN_H: 2212608\n",
      "    len(label_mask_current_deforestation_test): 44556576\n"
     ]
    },
    {
     "name": "stdout",
     "output_type": "stream",
     "text": [
      "cm_incorrect [[2177281   15771]\n",
      " [  12649    6907]]\n",
      "[0.92592234 0.72151858 0.70500741 0.04965839 0.3045683  0.35319084]\n",
      "0.035212844771899336\n",
      "threshold 0.035212844771899336\n",
      "(43226897,) (43226897,)\n"
     ]
    },
    {
     "name": "stderr",
     "output_type": "stream",
     "text": [
      "ic| label_current_deforestation_test_classified_incorrect.shape: (1329679,)\n",
      "    predicted_test_classified_incorrect.shape: (1329679,)\n",
      "ic| TP_H + FN_H + FP_H + TN_H: 1329679\n",
      "    len(label_mask_current_deforestation_test): 44556576\n"
     ]
    },
    {
     "name": "stdout",
     "output_type": "stream",
     "text": [
      "cm_correct [[42331165    51657]\n",
      " [  238914   605161]]\n",
      "cm_incorrect [[1306865   12315]\n",
      " [   6272    4227]]\n"
     ]
    },
    {
     "name": "stderr",
     "output_type": "stream",
     "text": [
      "ic| TP_H + FN_H + FP_H + TN_H: 1329679\n",
      "    len(label_mask_current_deforestation_test): 44556576\n"
     ]
    },
    {
     "name": "stdout",
     "output_type": "stream",
     "text": [
      "[0.92135264 0.71695169 0.70814347 0.02984249 0.25553137 0.40260977]\n",
      "0.035754797474448596\n",
      "threshold 0.035754797474448596\n",
      "(43316361,) (43316361,)\n"
     ]
    },
    {
     "name": "stderr",
     "output_type": "stream",
     "text": [
      "ic| label_current_deforestation_test_classified_incorrect.shape: (1240215,)\n",
      "    predicted_test_classified_incorrect.shape: (1240215,)\n",
      "ic| TP_H + FN_H + FP_H + TN_H: 1240215\n",
      "    len(label_mask_current_deforestation_test): 44556576\n",
      "ic| TP_H + FN_H + FP_H + TN_H: 1240215\n",
      "    len(label_mask_current_deforestation_test): 44556576\n"
     ]
    },
    {
     "name": "stdout",
     "output_type": "stream",
     "text": [
      "cm_correct [[42419667    52008]\n",
      " [  239333   605353]]\n",
      "cm_incorrect [[1218363   11964]\n",
      " [   5853    4035]]\n",
      "[0.92088365 0.71666039 0.70836815 0.02783461 0.25220326 0.40807039]\n",
      "0.034902861843680716\n",
      "threshold 0.034902861843680716\n",
      "(43174839,) (43174839,)\n"
     ]
    },
    {
     "name": "stderr",
     "output_type": "stream",
     "text": [
      "ic| label_current_deforestation_test_classified_incorrect.shape: (1381737,)\n",
      "    predicted_test_classified_incorrect.shape: (1381737,)\n",
      "ic| TP_H + FN_H + FP_H + TN_H: 1381737\n",
      "    len(label_mask_current_deforestation_test): 44556576\n",
      "ic| TP_H + FN_H + FP_H +"
     ]
    },
    {
     "name": "stdout",
     "output_type": "stream",
     "text": [
      "cm_correct [[42279706    51460]\n",
      " [  238644   605029]]\n",
      "cm_incorrect [[1358324   12512]\n",
      " [   6542    4359]]\n"
     ]
    },
    {
     "name": "stderr",
     "output_type": "stream",
     "text": [
      " TN_H: 1381737\n",
      "    len(label_mask_current_deforestation_test): 44556576\n"
     ]
    },
    {
     "name": "stdout",
     "output_type": "stream",
     "text": [
      "[0.92161331 0.71713685 0.70798901 0.03101084 0.25837235 0.39987157]\n",
      "0.035246178627523564\n",
      "threshold 0.035246178627523564\n",
      "(43232390,) (43232390,)\n"
     ]
    },
    {
     "name": "stderr",
     "output_type": "stream",
     "text": [
      "ic| label_current_deforestation_test_classified_incorrect.shape: (1324186,)\n",
      "    predicted_test_classified_incorrect.shape: (1324186,)\n",
      "ic| TP_H + FN_H + FP_H + TN_H: 1324186\n",
      "    len(label_mask_current_deforestation_test): 44556576\n",
      "ic| TP_H + FN_H + "
     ]
    },
    {
     "name": "stdout",
     "output_type": "stream",
     "text": [
      "cm_correct [[42336601    51676]\n",
      " [  238938   605175]]\n",
      "cm_incorrect [[1301429   12296]\n",
      " [   6248    4213]]\n"
     ]
    },
    {
     "name": "stderr",
     "output_type": "stream",
     "text": [
      "FP_H + TN_H: 1324186\n",
      "    len(label_mask_current_deforestation_test): 44556576\n"
     ]
    },
    {
     "name": "stdout",
     "output_type": "stream",
     "text": [
      "[0.92132767 0.716936   0.70815986 0.0297192  0.25519414 0.40273396]\n",
      "0.03513110246093479\n",
      "threshold 0.03513110246093479\n",
      "(43213150,) (43213150,)\n"
     ]
    },
    {
     "name": "stderr",
     "output_type": "stream",
     "text": [
      "ic| label_current_deforestation_test_classified_incorrect.shape: (1343426,)\n",
      "    predicted_test_classified_incorrect.shape: (1343426,)\n",
      "ic| TP_H + FN_H + FP_H + TN_H: 1343426\n",
      "    len(label_mask_current_deforestation_test): 44556576\n",
      "ic| TP_H + FN_H"
     ]
    },
    {
     "name": "stdout",
     "output_type": "stream",
     "text": [
      "cm_correct [[42317582    51602]\n",
      " [  238839   605127]]\n",
      "cm_incorrect [[1320448   12370]\n",
      " [   6347    4261]]\n"
     ]
    },
    {
     "name": "stderr",
     "output_type": "stream",
     "text": [
      " + FP_H + TN_H: 1343426\n",
      "    len(label_mask_current_deforestation_test): 44556576\n"
     ]
    },
    {
     "name": "stdout",
     "output_type": "stream",
     "text": [
      "[0.92142573 0.717004   0.70810369 0.03015102 0.25620829 0.40167798]\n",
      "0.03504392230275699\n",
      "threshold 0.03504392230275699\n",
      "(43198718,) (43198718,)\n"
     ]
    },
    {
     "name": "stderr",
     "output_type": "stream",
     "text": [
      "ic| label_current_deforestation_test_classified_incorrect.shape: (1357858,)\n",
      "    predicted_test_classified_incorrect.shape: (1357858,)\n",
      "ic| TP_H + FN_H + FP_H + TN_H: 1357858\n",
      "    len(label_mask_current_deforestation_test): 44556576\n",
      "ic| TP_H + FN_H + FP_H + TN_H: 1357858\n"
     ]
    },
    {
     "name": "stdout",
     "output_type": "stream",
     "text": [
      "cm_correct [[42303317    51552]\n",
      " [  238759   605090]]\n",
      "cm_incorrect [[1334713   12420]\n",
      " [   6427    4298]]\n"
     ]
    },
    {
     "name": "stderr",
     "output_type": "stream",
     "text": [
      "    len(label_mask_current_deforestation_test): 44556576\n"
     ]
    },
    {
     "name": "stdout",
     "output_type": "stream",
     "text": [
      "[0.92149147 0.71705957 0.70806039 0.03047492 0.25708817 0.40074592]\n",
      "0.035097768606523\n",
      "threshold 0.035097768606523\n",
      "(43207611,) (43207611,)\n"
     ]
    },
    {
     "name": "stderr",
     "output_type": "stream",
     "text": [
      "ic| label_current_deforestation_test_classified_incorrect.shape: (1348965,)\n",
      "    predicted_test_classified_incorrect.shape: (1348965,)\n",
      "ic| TP_H + FN_H + FP_H + TN_H: 1348965\n",
      "    len(label_mask_current_deforestation_test): 44556576\n"
     ]
    },
    {
     "name": "stdout",
     "output_type": "stream",
     "text": [
      "cm_correct [[42312114    51577]\n",
      " [  238804   605116]]\n",
      "cm_incorrect [[1325916   12395]\n",
      " [   6382    4272]]\n"
     ]
    },
    {
     "name": "stderr",
     "output_type": "stream",
     "text": [
      "ic| TP_H + FN_H + FP_H + TN_H: 1348965\n",
      "    len(label_mask_current_deforestation_test): 44556576\n"
     ]
    },
    {
     "name": "stdout",
     "output_type": "stream",
     "text": [
      "[0.92145949 0.71703005 0.70809081 0.03027533 0.25631487 0.40097616]\n",
      "0.035164436315346576\n",
      "threshold 0.035164436315346576\n",
      "(43218742,) (43218742,)\n"
     ]
    },
    {
     "name": "stderr",
     "output_type": "stream",
     "text": [
      "ic| label_current_deforestation_test_classified_incorrect.shape: (1337834,)\n",
      "    predicted_test_classified_incorrect.shape: (1337834,)\n",
      "ic| TP_H + FN_H + FP_H + TN_H: 1337834\n",
      "    len(label_mask_current_deforestation_test"
     ]
    },
    {
     "name": "stdout",
     "output_type": "stream",
     "text": [
      "cm_correct [[42323116    51623]\n",
      " [  238867   605136]]\n",
      "cm_incorrect [[1314914   12349]\n",
      " [   6319    4252]]\n"
     ]
    },
    {
     "name": "stderr",
     "output_type": "stream",
     "text": [
      "): 44556576\n",
      "ic| TP_H + FN_H + FP_H + TN_H: 1337834\n",
      "    len(label_mask_current_deforestation_test): 44556576\n",
      "ic| self.threshold_optimal: 0.035164436315346576\n"
     ]
    },
    {
     "name": "stdout",
     "output_type": "stream",
     "text": [
      "[0.92139735 0.71698323 0.70811422 0.03002551 0.25612915 0.40223252]\n",
      "threshold 0.035164436315346576\n",
      "(43218742,) (43218742,)\n"
     ]
    },
    {
     "name": "stderr",
     "output_type": "stream",
     "text": [
      "ic| label_current_deforestation_test_classified_incorrect.shape: (1337834,)\n",
      "    predicted_test_classified_incorrect.shape: (1337834,)\n",
      "ic| TP_H + FN_H + FP_H + TN_H: 1337834\n",
      "    len(label_mask_current_deforestation_test): 44556576\n",
      "ic| TP_H + FN_H + FP_H + TN_H: 1337834\n",
      "    len("
     ]
    },
    {
     "name": "stdout",
     "output_type": "stream",
     "text": [
      "cm_correct [[42323116    51623]\n",
      " [  238867   605136]]\n",
      "cm_incorrect [[1314914   12349]\n",
      " [   6319    4252]]\n"
     ]
    },
    {
     "name": "stderr",
     "output_type": "stream",
     "text": [
      "label_mask_current_deforestation_test): 44556576\n"
     ]
    },
    {
     "name": "stdout",
     "output_type": "stream",
     "text": [
      "[0.92139735 0.71698323 0.70811422 0.03002551 0.25612915 0.40223252]\n",
      "threshold 0.035164436315346576\n",
      "(44556576,) (44556576,)\n"
     ]
    },
    {
     "name": "stderr",
     "output_type": "stream",
     "text": [
      "ic| self.m_optimal: {'AA': array([0.03002551]),\n",
      "                     'f1': 79.77,\n",
      "                     'f1_H': array([0.31296923]),\n",
      "                     'f1_L': array([0.80643833]),\n",
      "                     'precision_H': array([0.25612915]),\n",
      "                     'precision_L': array([0.92139735]),\n",
      "                     'recall_H': array([0.40223252]),\n",
      "                     'recall_L': array([0.71698323]),\n",
      "                     'recall_Ltotal': array([0.70811422])}\n",
      "ic| self.m_audited_optimal: {'f1': array([0.80912725]),\n",
      "                             'precision': array([0.92264247]),\n",
      "                             'recall': array([0.72048412])}\n"
     ]
    },
    {
     "name": "stdout",
     "output_type": "stream",
     "text": [
      "cm_audited [[43650379    51623]\n",
      " [  238867   615707]]\n",
      "[0.92264247 0.72048412]\n"
     ]
    },
    {
     "name": "stderr",
     "output_type": "stream",
     "text": [
      "ic| self.label_mask.shape: (16795, 10420)\n",
      "ic| self.mask_amazon_ts.shape: (16795, 10420)\n",
      "ic| self.label_mask_test.shape: (70001560,)\n",
      "ic| self.error_mask_test.shape: (44556576,)\n",
      "ic| bounds: (0.0015, 0.3254520699977875)\n",
      "c:\\Users\\jchamorro\\Anaconda3\\envs\\tf2\\lib\\site-packages\\scipy\\optimize\\_minimize.py:783: RuntimeWarning: Method 'bounded' does not support relative tolerance in x; defaulting to absolute tolerance.\n",
      "  warn(\"Method 'bounded' does not support relative tolerance in x; \"\n"
     ]
    },
    {
     "name": "stdout",
     "output_type": "stream",
     "text": [
      "0.1252386800132697\n",
      "threshold 0.1252386800132697\n",
      "(44494802,) (44494802,)\n"
     ]
    },
    {
     "name": "stderr",
     "output_type": "stream",
     "text": [
      "ic| label_current_deforestation_test_classified_incorrect.shape: (61774,)\n",
      "    predicted_test_classified_incorrect.shape: (61774,)\n",
      "ic| TP_H + FN_H + FP_H + TN_H: 61774\n",
      "    len(label_mask_current_deforestation_test): 44556576\n",
      "ic| TP_H + FN_H + FP_H + TN_H: 61774\n",
      "    len(label_mask_current_deforestation_test): 44556576\n"
     ]
    },
    {
     "name": "stdout",
     "output_type": "stream",
     "text": [
      "cm_correct [[43576659    63749]\n",
      " [  245017   609377]]\n",
      "cm_incorrect [[61371   223]\n",
      " [  169    11]]\n",
      "[0.90529411 0.71322715 0.71307692 0.00138642 0.04700855 0.06111111]\n",
      "0.2017133899845177\n",
      "threshold 0.2017133899845177\n",
      "(44556419,) (44556419,)\n"
     ]
    },
    {
     "name": "stderr",
     "output_type": "stream",
     "text": [
      "ic| label_current_deforestation_test_classified_incorrect.shape: (157,)\n",
      "    predicted_test_classified_incorrect.shape: (157,)\n",
      "d:\\Jorge\\deforestation_uncertainty\\src\\metrics.py:299: RuntimeWarning: invalid value encountered in longlong_scalars\n",
      "  precision_H = TP_H / (TP_H + FP_H)\n",
      "ic| TP_H + FN_H + FP_H + TN_H: 157\n",
      "    len(label_mask_current_deforestation_test): 44556576\n",
      "ic| TP_H + FN_H + FP_H + TN_H: 157\n",
      "    len(label_mask_current_deforestation_test): 44556576\n"
     ]
    },
    {
     "name": "stdout",
     "output_type": "stream",
     "text": [
      "cm_correct [[43637875    63972]\n",
      " [  245184   609388]]\n",
      "cm_incorrect [[155   0]\n",
      " [  2   0]]\n",
      "[9.04995842e-01 7.13091466e-01 7.13089797e-01 3.52361007e-06\n",
      "            nan 0.00000000e+00]\n",
      "0.07797470997124797\n",
      "threshold 0.07797470997124797\n",
      "(42601186,) (42601186,)\n"
     ]
    },
    {
     "name": "stderr",
     "output_type": "stream",
     "text": [
      "ic| label_current_deforestation_test_classified_incorrect.shape: (1955390,)\n",
      "    predicted_test_classified_incorrect.shape: (1955390,)\n"
     ]
    },
    {
     "name": "stdout",
     "output_type": "stream",
     "text": [
      "cm_correct [[41686398    61220]\n",
      " [  244474   609094]]\n"
     ]
    },
    {
     "name": "stderr",
     "output_type": "stream",
     "text": [
      "ic| TP_H + FN_H + FP_H + TN_H: 1955390\n",
      "    len(label_mask_current_deforestation_test): 44556576\n",
      "ic| TP_H + FN_H + FP_H + TN_H: 1955390\n",
      "    len(label_mask_current_deforestation_test): 44556576\n"
     ]
    },
    {
     "name": "stdout",
     "output_type": "stream",
     "text": [
      "cm_incorrect [[1951632    2752]\n",
      " [    712     294]]\n",
      "[0.90866967 0.7135858  0.71274577 0.04388555 0.09652003 0.29224652]\n",
      "0.04876397004202175\n",
      "threshold 0.04876397004202175\n",
      "(41396039,) (41396039,)\n"
     ]
    },
    {
     "name": "stderr",
     "output_type": "stream",
     "text": [
      "ic| label_current_deforestation_test_classified_incorrect.shape: (3160537,)\n",
      "    predicted_test_classified_incorrect.shape: (3160537,)\n"
     ]
    },
    {
     "name": "stdout",
     "output_type": "stream",
     "text": [
      "cm_correct [[40494924    55419]\n",
      " [  238375   607321]]\n"
     ]
    },
    {
     "name": "stderr",
     "output_type": "stream",
     "text": [
      "ic| TP_H + FN_H + FP_H + TN_H: 3160537\n",
      "    len(label_mask_current_deforestation_test): 44556576\n",
      "ic| TP_H + FN_H + FP_H + TN_H: 3160537\n",
      "    len(label_mask_current_deforestation_test): 44556576\n"
     ]
    },
    {
     "name": "stdout",
     "output_type": "stream",
     "text": [
      "cm_incorrect [[3143106    8553]\n",
      " [   6811    2067]]\n",
      "[0.91637897 0.71813157 0.71067105 0.07093312 0.19463277 0.23282271]\n",
      "0.09602794008404347\n",
      "threshold 0.09602794008404347\n",
      "(43598577,) (43598577,)\n"
     ]
    },
    {
     "name": "stderr",
     "output_type": "stream",
     "text": [
      "ic| label_current_deforestation_test_classified_incorrect.shape: (957999,)\n",
      "    predicted_test_classified_incorrect.shape: (957999,)\n",
      "ic| TP_H + FN_H + FP_H + TN_H: 957999\n",
      "    len(label_mask_current_deforestation_test):"
     ]
    },
    {
     "name": "stdout",
     "output_type": "stream",
     "text": [
      "cm_correct [[42681618    62853]\n",
      " [  244813   609293]]\n",
      "cm_incorrect [[956412   1119]\n",
      " [   373     95]]\n"
     ]
    },
    {
     "name": "stderr",
     "output_type": "stream",
     "text": [
      " 44556576\n",
      "ic| TP_H + FN_H + FP_H + TN_H: 957999\n",
      "    len(label_mask_current_deforestation_test): 44556576\n"
     ]
    },
    {
     "name": "stdout",
     "output_type": "stream",
     "text": [
      "[0.90648907 0.7133693  0.71297863 0.02150073 0.07825371 0.20299145]\n",
      "0.09414530098055546\n",
      "threshold 0.09414530098055546\n",
      "(43489812,) (43489812,)\n"
     ]
    },
    {
     "name": "stderr",
     "output_type": "stream",
     "text": [
      "ic| label_current_deforestation_test_classified_incorrect.shape: (1066764,)\n",
      "    predicted_test_classified_incorrect.shape: (1066764,)\n",
      "ic| TP_H + FN_H + FP_H + TN_H: 1066764\n",
      "    len(label_mask_current_deforestation_test): 44556576\n",
      "ic| TP_H + FN_H + FP_H + TN_H: 1066764\n",
      "    len(label_mask_current_deforestation_test): 44556576\n"
     ]
    },
    {
     "name": "stdout",
     "output_type": "stream",
     "text": [
      "cm_correct [[42573015    62730]\n",
      " [  244790   609277]]\n",
      "cm_incorrect [[1065015    1242]\n",
      " [    396     111]]\n",
      "[0.90665276 0.71338314 0.71295991 0.02394179 0.08203991 0.21893491]\n",
      "0.08851376532101732\n",
      "threshold 0.08851376532101732\n",
      "(43153856,) (43153856,)\n"
     ]
    },
    {
     "name": "stderr",
     "output_type": "stream",
     "text": [
      "ic| label_current_deforestation_test_classified_incorrect.shape: (1402720,)\n",
      "    predicted_test_classified_incorrect.shape: (1402720,)\n",
      "ic"
     ]
    },
    {
     "name": "stdout",
     "output_type": "stream",
     "text": [
      "cm_correct [[42237615    62302]\n",
      " [  244705   609234]]\n",
      "cm_incorrect [[1400415    1670]\n",
      " [    481     154]]\n"
     ]
    },
    {
     "name": "stderr",
     "output_type": "stream",
     "text": [
      "| TP_H + FN_H + FP_H + TN_H: 1402720\n",
      "    len(label_mask_current_deforestation_test): 44556576\n",
      "ic| TP_H + FN_H + FP_H + TN_H: 1402720\n",
      "    len(label_mask_current_deforestation_test): 44556576\n"
     ]
    },
    {
     "name": "stdout",
     "output_type": "stream",
     "text": [
      "[0.90722463 0.71343972 0.71290959 0.03148177 0.08442982 0.24251969]\n",
      "0.08448820438672185\n",
      "threshold 0.08448820438672185\n",
      "(42921831,) (42921831,)\n"
     ]
    },
    {
     "name": "stderr",
     "output_type": "stream",
     "text": [
      "ic| label_current_deforestation_test_classified_incorrect.shape: (1634745,)\n",
      "    predicted_test_classified_incorrect.shape: (1634745,)\n",
      "ic"
     ]
    },
    {
     "name": "stdout",
     "output_type": "stream",
     "text": [
      "cm_correct [[42006071    61922]\n",
      " [  244634   609204]]\n",
      "cm_incorrect [[1631959    2050]\n",
      " [    552     184]]\n"
     ]
    },
    {
     "name": "stderr",
     "output_type": "stream",
     "text": [
      "| TP_H + FN_H + FP_H + TN_H: 1634745\n",
      "    len(label_mask_current_deforestation_test): 44556576\n",
      "ic| TP_H + FN_H + FP_H + TN_H: 1634745\n",
      "    len(label_mask_current_deforestation_test): 44556576\n"
     ]
    },
    {
     "name": "stdout",
     "output_type": "stream",
     "text": [
      "[0.90773417 0.71348898 0.71287448 0.0366892  0.08236347 0.25      ]\n",
      "0.0894665419797138\n",
      "threshold 0.0894665419797138\n",
      "(43210319,) (43210319,)\n"
     ]
    },
    {
     "name": "stderr",
     "output_type": "stream",
     "text": [
      "ic| label_current_deforestation_test_classified_incorrect.shape: (1346257,)\n",
      "    predicted_test_classified_incorrect.shape: (1346257,)\n",
      "ic| TP_H + FN_H + FP_H + TN_H: 1346257\n",
      "    len(label_mask_current_deforestation_test): 44556576\n",
      "ic| TP_H + FN_H + FP_H + TN_H: 1346257\n",
      "    len(label_mask_current_deforestation_test): 44556576\n"
     ]
    },
    {
     "name": "stdout",
     "output_type": "stream",
     "text": [
      "cm_correct [[42293956    62392]\n",
      " [  244728   609243]]\n",
      "cm_incorrect [[1344074    1580]\n",
      " [    458     145]]\n",
      "[0.90710431 0.71342352 0.71292012 0.03021455 0.08405797 0.24046434]\n",
      "0.09044228393836168\n",
      "threshold 0.09044228393836168\n",
      "(43268992,) (43268992,)\n"
     ]
    },
    {
     "name": "stderr",
     "output_type": "stream",
     "text": [
      "ic| label_current_deforestation_test_classified_incorrect.shape: (1287584,)\n",
      "    predicted_test_classified_incorrect.shape: (1287584,)\n",
      "ic| TP_H + FN_H + FP_H + TN_H"
     ]
    },
    {
     "name": "stdout",
     "output_type": "stream",
     "text": [
      "cm_correct [[42352525    62480]\n",
      " [  244738   609249]]\n",
      "cm_incorrect [[1285505    1492]\n",
      " [    448     139]]\n"
     ]
    },
    {
     "name": "stderr",
     "output_type": "stream",
     "text": [
      ": 1287584\n",
      "    len(label_mask_current_deforestation_test): 44556576\n",
      "ic| TP_H + FN_H + FP_H + TN_H: 1287584\n",
      "    len(label_mask_current_deforestation_test): 44556576\n"
     ]
    },
    {
     "name": "stdout",
     "output_type": "stream",
     "text": [
      "[0.9069863  0.71341718 0.71292714 0.02889773 0.08522379 0.23679727]\n",
      "0.08956274259291606\n",
      "threshold 0.08956274259291606\n",
      "(43216113,) (43216113,)\n"
     ]
    },
    {
     "name": "stderr",
     "output_type": "stream",
     "text": [
      "ic| label_current_deforestation_test_classified_incorrect.shape: (1340463,)\n",
      "    predicted_test_classified_incorrect.shape: (1340463,)\n",
      "ic| TP_H + FN_H + FP_H + TN_H: 1340463\n",
      "    len(label_mask_current_deforestation_test): 44556576\n",
      "ic| TP_H + FN_H + FP_H + TN_H: 1340463\n",
      "    len(label_mask_current_deforestation_test): 44556576\n"
     ]
    },
    {
     "name": "stdout",
     "output_type": "stream",
     "text": [
      "cm_correct [[42299741    62401]\n",
      " [  244728   609243]]\n",
      "cm_incorrect [[1338289    1571]\n",
      " [    458     145]]\n",
      "[0.90709215 0.71342352 0.71292012 0.03008452 0.08449883 0.24046434]\n",
      "0.0897774973152766\n",
      "threshold 0.0897774973152766\n",
      "(43229085,) (43229085,)\n"
     ]
    },
    {
     "name": "stderr",
     "output_type": "stream",
     "text": [
      "ic| label_current_deforestation_test_classified_incorrect.shape: (1327491,)\n",
      "    predicted_test_classified_incorrect.shape: (1327491,)\n",
      "ic| TP_H + FN_H + FP_H + TN_H: 1327491\n",
      "    len(label_mask_current_deforestation_test): 44556576\n",
      "ic| TP_H + FN_H + FP_H + TN_H: 1327491\n",
      "    len(label_mask_current_deforestation_test): 44556576\n"
     ]
    },
    {
     "name": "stdout",
     "output_type": "stream",
     "text": [
      "cm_correct [[42312684    62423]\n",
      " [  244733   609245]]\n",
      "cm_incorrect [[1325346    1549]\n",
      " [    453     143]]\n",
      "[0.90706272 0.71342002 0.71292246 0.02979338 0.08451537 0.23993289]\n",
      "0.08964477159761323\n",
      "threshold 0.08964477159761323\n",
      "(43220990,) (43220990,)\n"
     ]
    },
    {
     "name": "stderr",
     "output_type": "stream",
     "text": [
      "ic| label_current_deforestation_test_classified_incorrect.shape: (1335586,)\n",
      "    predicted_test_classified_incorrect.shape: (1335586,)\n",
      "ic| TP_H + FN_H + FP_H + TN_H"
     ]
    },
    {
     "name": "stdout",
     "output_type": "stream",
     "text": [
      "cm_correct [[42304607    62407]\n",
      " [  244731   609245]]\n",
      "cm_incorrect [[1333423    1565]\n",
      " [    455     143]]\n"
     ]
    },
    {
     "name": "stderr",
     "output_type": "stream",
     "text": [
      ": 1335586\n",
      "    len(label_mask_current_deforestation_test): 44556576\n",
      "ic| TP_H + FN_H + FP_H + TN_H: 1335586\n",
      "    len(label_mask_current_deforestation_test): 44556576\n"
     ]
    },
    {
     "name": "stdout",
     "output_type": "stream",
     "text": [
      "[0.90708432 0.71342169 0.71292246 0.02997506 0.08372365 0.23913043]\n",
      "0.08961143693463307\n",
      "threshold 0.08961143693463307\n",
      "(43219015,) (43219015,)\n"
     ]
    },
    {
     "name": "stderr",
     "output_type": "stream",
     "text": [
      "ic| label_current_deforestation_test_classified_incorrect.shape: (1337561,)\n",
      "    predicted_test_classified_incorrect.shape: (1337561,)\n",
      "ic| TP_H + FN_H + FP_H + TN_H: 1337561\n",
      "    len(label_mask_current_deforestation_test): 44556576\n"
     ]
    },
    {
     "name": "stdout",
     "output_type": "stream",
     "text": [
      "cm_correct [[42302639    62405]\n",
      " [  244728   609243]]\n",
      "cm_incorrect [[1335391    1567]\n",
      " [    458     145]]\n"
     ]
    },
    {
     "name": "stderr",
     "output_type": "stream",
     "text": [
      "ic| TP_H + FN_H + FP_H + TN_H: 1337561\n",
      "    len(label_mask_current_deforestation_test): 44556576\n",
      "ic| self.threshold_optimal: 0.08961143693463307\n"
     ]
    },
    {
     "name": "stdout",
     "output_type": "stream",
     "text": [
      "[0.90708675 0.71342352 0.71292012 0.03001938 0.08469626 0.24046434]\n",
      "threshold 0.08961143693463307\n",
      "(43219015,) (43219015,)\n"
     ]
    },
    {
     "name": "stderr",
     "output_type": "stream",
     "text": [
      "ic| label_current_deforestation_test_classified_incorrect.shape: (1337561,)\n",
      "    predicted_test_classified_incorrect.shape: (1337561,)\n",
      "ic| TP_H + FN_H + FP_H + TN_H: 1337561\n",
      "    len(label_mask_current_deforestation_test): 44556576\n"
     ]
    },
    {
     "name": "stdout",
     "output_type": "stream",
     "text": [
      "cm_correct [[42302639    62405]\n",
      " [  244728   609243]]\n",
      "cm_incorrect [[1335391    1567]\n",
      " [    458     145]]\n"
     ]
    },
    {
     "name": "stderr",
     "output_type": "stream",
     "text": [
      "ic| TP_H + FN_H + FP_H + TN_H: 1337561\n",
      "    len(label_mask_current_deforestation_test): 44556576\n"
     ]
    },
    {
     "name": "stdout",
     "output_type": "stream",
     "text": [
      "[0.90708675 0.71342352 0.71292012 0.03001938 0.08469626 0.24046434]\n",
      "threshold 0.08961143693463307\n",
      "(44556576,) (44556576,)\n"
     ]
    },
    {
     "name": "stderr",
     "output_type": "stream",
     "text": [
      "ic| self.m_optimal: {'AA': array([0.03001938]),\n",
      "                     'f1': 79.77,\n",
      "                     'f1_H': array([0.12526998]),\n",
      "                     'f1_L': array([0.79868303]),\n",
      "                     'precision_H': array([0.08469626]),\n",
      "                     'precision_L': array([0.90708675]),\n",
      "                     'recall_H': array([0.24046434]),\n",
      "                     'recall_L': array([0.71342352]),\n",
      "                     'recall_Ltotal': array([0.71292012])}\n",
      "ic| self.m_audited_optimal: {'f1': array([0.79884204]),\n",
      "                             'precision': array([0.90717009]),\n",
      "                             'recall': array([0.71362574])}\n",
      " 10%|█         | 1/10 [28:22<4:15:18, 1702.08s/it]"
     ]
    },
    {
     "name": "stdout",
     "output_type": "stream",
     "text": [
      "cm_audited [[43639597    62405]\n",
      " [  244728   609846]]\n",
      "[0.90717009 0.71362574]\n",
      "self.exp, results 130 {'pred_entropy': {'metrics': {'precision_L': array([0.94872387]), 'recall_L': array([0.89427261]), 'recall_Ltotal': array([0.59165268]), 'AA': array([0.02999748]), 'precision_H': array([0.73903662]), 'recall_H': array([0.358859]), 'f1_L': array([0.92069386]), 'f1_H': array([0.48312415]), 'f1': 79.77}, 'metrics_audited': {'precision': array([0.96676049]), 'recall': array([0.93005053]), 'f1': array([0.94805028])}}, 'pred_var': {'metrics': {'precision_L': array([0.9835569]), 'recall_L': array([0.71881353]), 'recall_Ltotal': array([0.4050603]), 'AA': array([0.03013878]), 'precision_H': array([0.81897461]), 'recall_H': array([0.70570037]), 'f1_L': array([0.83059949]), 'f1_H': array([0.75812969]), 'f1': 79.77}, 'metrics_audited': {'precision': array([0.9920174]), 'recall': array([0.84154795]), 'f1': array([0.91060863])}}, 'MI': {'metrics': {'precision_L': array([0.92139735]), 'recall_L': array([0.71698323]), 'recall_Ltotal': array([0.70811422]), 'AA': array([0.03002551]), 'precision_H': array([0.25612915]), 'recall_H': array([0.40223252]), 'f1_L': array([0.80643833]), 'f1_H': array([0.31296923]), 'f1': 79.77}, 'metrics_audited': {'precision': array([0.92264247]), 'recall': array([0.72048412]), 'f1': array([0.80912725])}}, 'KL': {'metrics': {'precision_L': array([0.90708675]), 'recall_L': array([0.71342352]), 'recall_Ltotal': array([0.71292012]), 'AA': array([0.03001938]), 'precision_H': array([0.08469626]), 'recall_H': array([0.24046434]), 'f1_L': array([0.79868303]), 'f1_H': array([0.12526998]), 'f1': 79.77}, 'metrics_audited': {'precision': array([0.90717009]), 'recall': array([0.71362574]), 'f1': array([0.79884204])}}}\n",
      "D:/Jorge/datasets/deforestation/MT/deforestation_past_years.tif\n",
      "Loaded deforestation past years\n"
     ]
    },
    {
     "name": "stderr",
     "output_type": "stream",
     "text": [
      "ic| np.unique(deforestation_past_years, return_counts=True): (array([   0, 2008, 2009, 2010, 2011, 2012, 2013, 2014, 2015, 2016, 2017,\n",
      "                                                                    2018, 2019, 2020, 2021], dtype=uint16),\n",
      "                                                              array([161124576,   1332784,    240796,    338545,    313901,    287191,\n",
      "                                                                       708581,    648966,    876898,   1007787,   1098901,   1054092,\n",
      "                                                                      2096062,   2473828,   1400992], dtype=int64))\n"
     ]
    },
    {
     "name": "stdout",
     "output_type": "stream",
     "text": [
      "Label where deforestation past years is actual date (2020) = 1\n"
     ]
    },
    {
     "name": "stderr",
     "output_type": "stream",
     "text": [
      "ic| np.unique(deforestation_past_years, return_counts=True): (array([   0, 2008, 2009, 2010, 2011, 2012, 2013, 2014, 2015, 2016, 2017,\n",
      "                                                                    2018, 2019, 2020, 2021], dtype=uint16),\n",
      "                                                              array([161124576,   1332784,    240796,    338545,    313901,    287191,\n",
      "                                                                       708581,    648966,    876898,   1007787,   1098901,   1054092,\n",
      "                                                                      2096062,   2473828,   1400992], dtype=int64))\n"
     ]
    },
    {
     "name": "stdout",
     "output_type": "stream",
     "text": [
      "Past deforestation different from 0 (no deforestation)\n"
     ]
    },
    {
     "name": "stderr",
     "output_type": "stream",
     "text": [
      "ic| np.unique(deforestation_past_years, return_counts=True): (array([   0, 2008, 2009, 2010, 2011, 2012, 2013, 2014, 2015, 2016, 2017,\n",
      "                                                                    2018, 2019, 2020, 2021], dtype=uint16),\n",
      "                                                              array([161124576,   1332784,    240796,    338545,    313901,    287191,\n",
      "                                                                       708581,    648966,    876898,   1007787,   1098901,   1054092,\n",
      "                                                                      2096062,   2473828,   1400992], dtype=int64))\n"
     ]
    },
    {
     "name": "stdout",
     "output_type": "stream",
     "text": [
      "Past deforestation before 2008 is 2\n",
      "D:/Jorge/datasets/deforestation/MT/deforestation_before_2008/deforestation_before_2008_MT.tif\n"
     ]
    },
    {
     "name": "stderr",
     "output_type": "stream",
     "text": [
      "ic| np.unique(label_past_deforestation_before_2008, return_counts=True): (array([  0, 215], dtype=uint8), array([122623260,  52380640], dtype=int64))\n",
      "ic| np.unique(deforestation_past_years, return_counts=True): (array([   0, 2008, 2009, 2010, 2011, 2012, 2013, 2014, 2015, 2016, 2017,\n",
      "                                                                    2018, 2019, 2020, 2021], dtype=uint16),\n",
      "                                                              array([161124576,   1332784,    240796,    338545,    313901,    287191,\n",
      "                                                                       708581,    648966,    876898,   1007787,   1098901,   1054092,\n",
      "                                                                      2096062,   2473828,   1400992], dtype=int64))\n",
      "ic| label_per_date.shape: (16795, 10420, 1)\n"
     ]
    },
    {
     "name": "stdout",
     "output_type": "stream",
     "text": [
      "Mask label shape:  \n",
      " (16795, 10420, 1) \n",
      " Unique values:  \n",
      " [0 1 2]\n",
      "Tiles size:  3359 2084\n",
      "Mask size:  (16795, 10420)\n"
     ]
    },
    {
     "name": "stderr",
     "output_type": "stream",
     "text": [
      "ic| image_stack.shape: (16795, 10420, 21)\n"
     ]
    },
    {
     "name": "stdout",
     "output_type": "stream",
     "text": [
      "Image shape:  (16795, 10420, 21)\n",
      "mask:  (16795, 10420)\n",
      "image stack:  (16795, 10420, 21)\n",
      "ref : (16795, 10420, 1)\n",
      "Training tiles:  [2, 4, 5, 6, 7, 12, 14, 15, 18, 21, 23, 24]\n",
      "Validation tiles:  [9, 11, 25]\n",
      "Test tiles:  [1, 3, 8, 10, 13, 16, 17, 19, 20, 22]\n",
      "-5.0 -12.0\n"
     ]
    },
    {
     "name": "stderr",
     "output_type": "stream",
     "text": [
      "ic| self.path_models+ '/' + self.method +'_'+str(0)+'.h5': 'D:/Jorge/datasets/deforestation/experiments/MT/exp132/models/resunet_0.h5'\n"
     ]
    },
    {
     "name": "stdout",
     "output_type": "stream",
     "text": [
      "time:  0\n",
      "time:  1\n",
      "time:  2\n",
      "time:  3\n",
      "time:  4\n",
      "time:  5\n",
      "time:  6\n",
      "time:  7\n",
      "time:  8\n",
      "time:  9\n",
      "(44657480,)\n",
      "(array([0, 1], dtype=uint8), array([43783238,   874242], dtype=int64))\n",
      "(16795, 10420)\n",
      "(array([0., 1.], dtype=float32), array([173016456,   1987444], dtype=int64))\n"
     ]
    },
    {
     "name": "stderr",
     "output_type": "stream",
     "text": [
      "ic| self.predicted_unpad.shape: (16795, 10420)\n",
      "    self.predicted.shape: (16795, 10420)\n",
      "ic| predicted_test.shape: (70001560,)\n",
      "ic| predicted_test.shape: (44657480,)\n",
      "ic| np.unique(predicted, return_counts=True): (array([0., 1.], dtype=float32), array([173016456,   1987444], dtype=int64))\n",
      "    np.unique(predicted_larger_than_min_area, return_counts=True): (array([0., 1.], dtype=float32), array([173222389,   1781511], dtype=int64))\n",
      "ic| np.unique(ignored_polygons, return_counts=True): (array([0., 1.], dtype=float32), array([174797967,    205933], dtype=int64))\n",
      "ic| predicted.shape: (16795, 10420), label_mask.shape: (16795, 10420)\n",
      "ic| predicted_masked.shape: (70001560,)\n",
      "    label_masked.shape: (70001560,)\n",
      "ic| np.unique(label_masked, return_counts=True): (array([0, 1, 2], dtype=uint8),\n",
      "                                                  array([43726728,   856813, 25418019], dtype=int64))\n",
      "ic| predicted_masked.shape: (44583541,)\n",
      "    label_masked.shape: (44583541,)\n",
      "ic| self.f1: 73.75, self.precision: 91.14, self.recall: 61.93\n",
      "ic| self.label_mask_val.shape: (21000468,)\n",
      "ic| self.label_mask_val_valid.shape: (11784242,)\n",
      "ic| f1_val: 95.67\n",
      "    precision_val: 96.03\n",
      "    recall_val: 95.31\n",
      "    mAP_val: 98.91\n"
     ]
    },
    {
     "name": "stdout",
     "output_type": "stream",
     "text": [
      "(array([0., 1.], dtype=float32), array([174064181,    939719], dtype=int64))\n"
     ]
    },
    {
     "name": "stderr",
     "output_type": "stream",
     "text": [
      "ic| self.label_mask.shape: (16795, 10420)\n",
      "ic| self.mask_amazon_ts.shape: (16795, 10420)\n",
      "ic| self.label_mask_test.shape: (70001560,)\n",
      "ic| self.error_mask_test.shape: (44583541,)\n",
      "ic| bounds: (0.0015, 0.3663794801235199)\n",
      "c:\\Users\\jchamorro\\Anaconda3\\envs\\tf2\\lib\\site-packages\\scipy\\optimize\\_minimize.py:783: RuntimeWarning: Method 'bounded' does not support relative tolerance in x; defaulting to absolute tolerance.\n",
      "  warn(\"Method 'bounded' does not support relative tolerance in x; \"\n"
     ]
    },
    {
     "name": "stdout",
     "output_type": "stream",
     "text": [
      "0.1408715596097929\n",
      "threshold 0.1408715596097929\n",
      "(42889254,) (42889254,)\n"
     ]
    },
    {
     "name": "stderr",
     "output_type": "stream",
     "text": [
      "ic| label_current_deforestation_test_classified_incorrect.shape: (1694287,)\n",
      "    predicted_test_classified_incorrect.shape: (1694287,)\n"
     ]
    },
    {
     "name": "stdout",
     "output_type": "stream",
     "text": [
      "cm_correct [[42461218    16061]\n",
      " [   55061   356914]]\n"
     ]
    },
    {
     "name": "stderr",
     "output_type": "stream",
     "text": [
      "ic| TP_H + FN_H + FP_H + TN_H: 1694287\n",
      "    len(label_mask_current_deforestation_test): 44583541\n",
      "ic| TP_H + FN_H + FP_H + TN_H: 1694287\n",
      "    len(label_mask_current_deforestation_test): 44583541\n"
     ]
    },
    {
     "name": "stdout",
     "output_type": "stream",
     "text": [
      "cm_incorrect [[1213958   35491]\n",
      " [ 271138  173700]]\n",
      "[0.95693813 0.86634869 0.41655997 0.03800252 0.83034165 0.39047923]\n",
      "0.22700792051372695\n",
      "threshold 0.22700792051372695\n",
      "(43445844,) (43445844,)\n"
     ]
    },
    {
     "name": "stderr",
     "output_type": "stream",
     "text": [
      "ic| label_current_deforestation_test_classified_incorrect.shape: (1137697,)\n",
      "    predicted_test_classified_incorrect.shape: (1137697,)\n",
      "ic| TP_H + FN_H + FP_H + TN_H: 1137697\n",
      "    len(label_mask_current_deforestation_test): 44583541\n",
      "ic| TP_H + FN_H + FP_H + TN_H: 1137697\n",
      "    len(label_mask_current_deforestation_test): 44583541\n"
     ]
    },
    {
     "name": "stdout",
     "output_type": "stream",
     "text": [
      "cm_correct [[42923003    26141]\n",
      " [   90539   406161]]\n",
      "cm_incorrect [[752173  25411]\n",
      " [235660 124453]]\n",
      "[0.9395307  0.81771895 0.47403693 0.02551832 0.8304396  0.3455943 ]\n",
      "0.28024311921958583\n",
      "threshold 0.28024311921958583\n",
      "(43751320,) (43751320,)\n"
     ]
    },
    {
     "name": "stderr",
     "output_type": "stream",
     "text": [
      "ic| label_current_deforestation_test_classified_incorrect.shape: (832221,)\n",
      "    predicted_test_classified_incorrect.shape: (832221,)\n",
      "ic| TP_H + FN_H + FP_H + TN_H: 832221\n",
      "    len(label_mask_current_deforestation_test): 44583541\n",
      "ic| TP_H + FN_H + FP_H + TN_H: 832221\n",
      "    len(label_mask_current_deforestation_test): 44583541\n"
     ]
    },
    {
     "name": "stdout",
     "output_type": "stream",
     "text": [
      "cm_correct [[43153377    35665]\n",
      " [  115672   446606]]\n",
      "cm_incorrect [[521799  15887]\n",
      " [210527  84008]]\n",
      "[0.9260478  0.7942797  0.52124092 0.01866655 0.84096301 0.28522247]\n",
      "0.200736388078663\n",
      "threshold 0.200736388078663\n",
      "(43295507,) (43295507,)\n"
     ]
    },
    {
     "name": "stderr",
     "output_type": "stream",
     "text": [
      "ic| label_current_deforestation_test_classified_incorrect.shape: (1288034,)\n",
      "    predicted_test_classified_incorrect.shape: (1288034,)\n",
      "ic| TP_H + FN_H + FP_H + TN_H: 1288034\n",
      "    len(label_mask_current_deforestation_test): 44583541\n",
      "ic| TP_H + FN_H + FP_H + TN_H: 1288034\n",
      "    len(label_mask_current_deforestation_test): 44583541\n"
     ]
    },
    {
     "name": "stdout",
     "output_type": "stream",
     "text": [
      "cm_correct [[42802484    22632]\n",
      " [   80256   390135]]\n",
      "cm_incorrect [[872692  28920]\n",
      " [245943 140479]]\n",
      "[0.94517004 0.82938449 0.45533273 0.02889035 0.8292788  0.36353779]\n",
      "0.19116958440685872\n",
      "threshold 0.19116958440685872\n",
      "(43238536,) (43238536,)\n"
     ]
    },
    {
     "name": "stderr",
     "output_type": "stream",
     "text": [
      "ic| label_current_deforestation_test_classified_incorrect.shape: (1345005,)\n",
      "    predicted_test_classified_incorrect.shape: (1345005,)\n",
      "ic| TP_H + FN_H + FP_H + TN_H: 1345005\n",
      "    len(label_mask_current_deforestation_test): 44583541\n",
      "ic| TP_H + FN_H + FP_H + TN_H: 1345005\n",
      "    len(label_mask_current_deforestation_test): "
     ]
    },
    {
     "name": "stdout",
     "output_type": "stream",
     "text": [
      "cm_correct [[42755908    21401]\n",
      " [   76478   384749]]\n",
      "cm_incorrect [[919268  30151]\n",
      " [249721 145865]]\n"
     ]
    },
    {
     "name": "stderr",
     "output_type": "stream",
     "text": [
      "44583541\n"
     ]
    },
    {
     "name": "stdout",
     "output_type": "stream",
     "text": [
      "[0.94730764 0.83418577 0.44904664 0.0301682  0.82870307 0.36873145]\n",
      "0.1719574485013646\n",
      "threshold 0.1719574485013646\n",
      "(43116206,) (43116206,)\n"
     ]
    },
    {
     "name": "stderr",
     "output_type": "stream",
     "text": [
      "ic| label_current_deforestation_test_classified_incorrect.shape: (1467335,)\n",
      "    predicted_test_classified_incorrect.shape: (1467335,)\n",
      "ic| TP_H + FN_H + FP_H"
     ]
    },
    {
     "name": "stdout",
     "output_type": "stream",
     "text": [
      "cm_correct [[42653906    19147]\n",
      " [   68834   374319]]\n",
      "cm_incorrect [[1021270   32405]\n",
      " [ 257365  156295]]\n"
     ]
    },
    {
     "name": "stderr",
     "output_type": "stream",
     "text": [
      " + TN_H: 1467335\n",
      "    len(label_mask_current_deforestation_test): 44583541\n",
      "ic| TP_H + FN_H + FP_H + TN_H: 1467335\n",
      "    len(label_mask_current_deforestation_test): 44583541\n"
     ]
    },
    {
     "name": "stdout",
     "output_type": "stream",
     "text": [
      "[0.9513376  0.84467216 0.43687362 0.03291203 0.82827239 0.37783445]\n",
      "0.1900827857832877\n",
      "threshold 0.1900827857832877\n",
      "(43231885,) (43231885,)\n"
     ]
    },
    {
     "name": "stderr",
     "output_type": "stream",
     "text": [
      "ic| label_current_deforestation_test_classified_incorrect.shape: (1351656,)\n",
      "    predicted_test_classified_incorrect.shape: (1351656,)\n",
      "ic"
     ]
    },
    {
     "name": "stdout",
     "output_type": "stream",
     "text": [
      "cm_correct [[42750417    21269]\n",
      " [   76057   384142]]\n",
      "cm_incorrect [[924759  30283]\n",
      " [250142 146472]]\n"
     ]
    },
    {
     "name": "stderr",
     "output_type": "stream",
     "text": [
      "| TP_H + FN_H + FP_H + TN_H: 1351656\n",
      "    len(label_mask_current_deforestation_test): 44583541\n",
      "ic| TP_H + FN_H + FP_H + TN_H: 1351656\n",
      "    len(label_mask_current_deforestation_test): 44583541\n"
     ]
    },
    {
     "name": "stdout",
     "output_type": "stream",
     "text": [
      "[0.94753719 0.83473019 0.4483382  0.03031738 0.82867246 0.36930618]\n",
      "0.19372872015884726\n",
      "threshold 0.19372872015884726\n",
      "(43254002,) (43254002,)\n"
     ]
    },
    {
     "name": "stderr",
     "output_type": "stream",
     "text": [
      "ic| label_current_deforestation_test_classified_incorrect.shape: (1329539,)\n",
      "    predicted_test_classified_incorrect.shape: (1329539,)\n",
      "ic| TP_H + FN_H + FP_H + TN_H: 1329539\n",
      "    len(label_mask_current_deforestation_test): 44583541\n",
      "ic| TP_H + FN_H + FP_H + TN_H: 1329539\n",
      "    len(label_mask_current_deforestation_test): 44583541\n"
     ]
    },
    {
     "name": "stdout",
     "output_type": "stream",
     "text": [
      "cm_correct [[42768703    21741]\n",
      " [   77433   386125]]\n",
      "cm_incorrect [[906473  29811]\n",
      " [248766 144489]]\n",
      "[0.94669573 0.83295941 0.45065259 0.0298213  0.8289673  0.36741809]\n",
      "0.19214708728229332\n",
      "threshold 0.19214708728229332\n",
      "(43244500,) (43244500,)\n"
     ]
    },
    {
     "name": "stderr",
     "output_type": "stream",
     "text": [
      "ic| label_current_deforestation_test_classified_incorrect.shape: (1339041,)\n",
      "    predicted_test_classified_incorrect.shape: (1339041,)\n",
      "ic| TP_H + FN_H + FP_H + TN_H: 1339041\n",
      "    len(label_mask_current_deforestation_test): 44583541\n",
      "ic| TP_H + FN_H + FP_H + TN_H: 1339041\n",
      "    len(label_mask_current_deforestation_test): 44583541\n"
     ]
    },
    {
     "name": "stdout",
     "output_type": "stream",
     "text": [
      "cm_correct [[42760870    21540]\n",
      " [   76828   385262]]\n",
      "cm_incorrect [[914306  30012]\n",
      " [249371 145352]]\n",
      "[0.94705041 0.83373802 0.44964537 0.03003442 0.82885883 0.36823798]\n",
      "0.1924261168198718\n",
      "threshold 0.1924261168198718\n",
      "(43246136,) (43246136,)\n"
     ]
    },
    {
     "name": "stderr",
     "output_type": "stream",
     "text": [
      "ic| label_current_deforestation_test_classified_incorrect.shape: (1337405,)\n",
      "    predicted_test_classified_incorrect.shape: (1337405,)\n",
      "ic"
     ]
    },
    {
     "name": "stdout",
     "output_type": "stream",
     "text": [
      "cm_correct [[42762210    21577]\n",
      " [   76932   385417]]\n",
      "cm_incorrect [[912966  29975]\n",
      " [249267 145197]]\n"
     ]
    },
    {
     "name": "stderr",
     "output_type": "stream",
     "text": [
      "| TP_H + FN_H + FP_H + TN_H: 1337405\n",
      "    len(label_mask_current_deforestation_test): 44583541\n",
      "ic| TP_H + FN_H + FP_H + TN_H: 1337405\n",
      "    len(label_mask_current_deforestation_test): 44583541\n"
     ]
    },
    {
     "name": "stdout",
     "output_type": "stream",
     "text": [
      "[0.94698448 0.83360622 0.44982627 0.02999773 0.82888247 0.36808682]\n",
      "0.19292366702150132\n",
      "threshold 0.19292366702150132\n",
      "(43249179,) (43249179,)\n"
     ]
    },
    {
     "name": "stderr",
     "output_type": "stream",
     "text": [
      "ic| label_current_deforestation_test_classified_incorrect.shape: (1334362,)\n",
      "    predicted_test_classified_incorrect.shape: (1334362,)\n",
      "ic| TP_H + FN_H + FP_H + TN_H: 1334362\n",
      "    len(label_mask_current_deforestation_test): 44583541\n",
      "ic| TP_H + FN_H + FP_H "
     ]
    },
    {
     "name": "stdout",
     "output_type": "stream",
     "text": [
      "cm_correct [[42764715    21650]\n",
      " [   77110   385704]]\n",
      "cm_incorrect [[910461  29902]\n",
      " [249089 144910]]\n"
     ]
    },
    {
     "name": "stderr",
     "output_type": "stream",
     "text": [
      "+ TN_H: 1334362\n",
      "    len(label_mask_current_deforestation_test): 44583541\n"
     ]
    },
    {
     "name": "stdout",
     "output_type": "stream",
     "text": [
      "[0.94685212 0.83338879 0.45016124 0.02992948 0.82894767 0.36779281]\n",
      "0.19246386821256967\n",
      "threshold 0.19246386821256967\n",
      "(43246388,) (43246388,)\n"
     ]
    },
    {
     "name": "stderr",
     "output_type": "stream",
     "text": [
      "ic| label_current_deforestation_test_classified_incorrect.shape: (1337153,)\n",
      "    predicted_test_classified_incorrect.shape: (1337153,)\n",
      "ic| TP_H + FN_H + FP_H + TN_H: 1337153\n",
      "    len(label_mask_current_deforestation_test): 44583541\n",
      "ic| TP_H + FN_H + FP_H + TN_H: 1337153\n",
      "    len(label_mask_current_deforestation_test): 44583541\n"
     ]
    },
    {
     "name": "stdout",
     "output_type": "stream",
     "text": [
      "cm_correct [[42762411    21582]\n",
      " [   76948   385447]]\n",
      "cm_incorrect [[912765  29970]\n",
      " [249251 145167]]\n",
      "[0.94697675 0.83358817 0.44986129 0.02999208 0.82887682 0.36805369]\n",
      "0.1923554885716355\n",
      "threshold 0.1923554885716355\n",
      "(43245714,) (43245714,)\n"
     ]
    },
    {
     "name": "stderr",
     "output_type": "stream",
     "text": [
      "ic| label_current_deforestation_test_classified_incorrect.shape: (1337827,)\n",
      "    predicted_test_classified_incorrect.shape: (1337827,)\n",
      "ic| TP_H + FN_H"
     ]
    },
    {
     "name": "stdout",
     "output_type": "stream",
     "text": [
      "cm_correct [[42761863    21568]\n",
      " [   76902   385381]]\n",
      "cm_incorrect [[913313  29984]\n",
      " [249297 145233]]\n"
     ]
    },
    {
     "name": "stderr",
     "output_type": "stream",
     "text": [
      " + FP_H + TN_H: 1337827\n",
      "    len(label_mask_current_deforestation_test): 44583541\n",
      "ic| TP_H + FN_H + FP_H + TN_H: 1337827\n",
      "    len(label_mask_current_deforestation_test): 44583541\n"
     ]
    },
    {
     "name": "stdout",
     "output_type": "stream",
     "text": [
      "[0.94700073 0.83364735 0.44978426 0.03000719 0.82887505 0.36811649]\n",
      "0.1923927806323979\n",
      "threshold 0.1923927806323979\n",
      "(43245925,) (43245925,)\n"
     ]
    },
    {
     "name": "stderr",
     "output_type": "stream",
     "text": [
      "ic| label_current_deforestation_test_classified_incorrect.shape: (1337616,)\n",
      "    predicted_test_classified_incorrect.shape: (1337616,)\n",
      "ic"
     ]
    },
    {
     "name": "stdout",
     "output_type": "stream",
     "text": [
      "cm_correct [[42762041    21571]\n",
      " [   76916   385397]]\n",
      "cm_incorrect [[913135  29981]\n",
      " [249283 145217]]\n"
     ]
    },
    {
     "name": "stderr",
     "output_type": "stream",
     "text": [
      "| TP_H + FN_H + FP_H + TN_H: 1337616\n",
      "    len(label_mask_current_deforestation_test): 44583541\n",
      "ic| TP_H + FN_H + FP_H + TN_H: 1337616\n",
      "    len(label_mask_current_deforestation_test): 44583541\n",
      "ic| self.threshold_optimal: 0.1924261168198718\n"
     ]
    },
    {
     "name": "stdout",
     "output_type": "stream",
     "text": [
      "[0.94699583 0.83362787 0.44980293 0.03000246 0.82887362 0.36810393]\n",
      "threshold 0.1924261168198718\n",
      "(43246136,) (43246136,)\n"
     ]
    },
    {
     "name": "stderr",
     "output_type": "stream",
     "text": [
      "ic| label_current_deforestation_test_classified_incorrect.shape: (1337405,)\n",
      "    predicted_test_classified_incorrect.shape: (1337405,)\n",
      "ic| TP_H + FN_H + FP_H + TN_H: 1337405\n",
      "    len(label_mask_current_deforestation_test): 44583541\n",
      "ic| TP_H "
     ]
    },
    {
     "name": "stdout",
     "output_type": "stream",
     "text": [
      "cm_correct [[42762210    21577]\n",
      " [   76932   385417]]\n",
      "cm_incorrect [[912966  29975]\n",
      " [249267 145197]]\n"
     ]
    },
    {
     "name": "stderr",
     "output_type": "stream",
     "text": [
      "+ FN_H + FP_H + TN_H: 1337405\n",
      "    len(label_mask_current_deforestation_test): 44583541\n"
     ]
    },
    {
     "name": "stdout",
     "output_type": "stream",
     "text": [
      "[0.94698448 0.83360622 0.44982627 0.02999773 0.82888247 0.36808682]\n",
      "threshold 0.1924261168198718\n",
      "(44583541,) (44583541,)\n"
     ]
    },
    {
     "name": "stderr",
     "output_type": "stream",
     "text": [
      "ic| self.m_optimal: {'AA': array([0.02999773]),\n",
      "                     'f1': 73.75,\n",
      "                     'f1_H': array([0.50978871]),\n",
      "                     'f1_L': array([0.88668569]),\n",
      "                     'precision_H': array([0.82888247]),\n",
      "                     'precision_L': array([0.94698448]),\n",
      "                     'recall_H': array([0.36808682]),\n",
      "                     'recall_L': array([0.83360622]),\n",
      "                     'recall_Ltotal': array([0.44982627])}\n",
      "ic| self.m_audited_optimal: {'f1': array([0.94059536]),\n",
      "                             'precision': array([0.97307782]),\n",
      "                             'recall': array([0.91021145])}\n"
     ]
    },
    {
     "name": "stdout",
     "output_type": "stream",
     "text": [
      "cm_audited [[43705151    21577]\n",
      " [   76932   779881]]\n",
      "[0.97307782 0.91021145]\n"
     ]
    },
    {
     "name": "stderr",
     "output_type": "stream",
     "text": [
      "ic| self.label_mask.shape: (16795, 10420)\n",
      "ic| self.mask_amazon_ts.shape: (16795, 10420)\n",
      "ic| self.label_mask_test.shape: (70001560,)\n",
      "ic| self.error_mask_test.shape: (44583541,)\n",
      "ic| bounds: (0.0015, 0.1864952847957611)\n",
      "c:\\Users\\jchamorro\\Anaconda3\\envs\\tf2\\lib\\site-packages\\scipy\\optimize\\_minimize.py:783: RuntimeWarning: Method 'bounded' does not support relative tolerance in x; defaulting to absolute tolerance.\n",
      "  warn(\"Method 'bounded' does not support relative tolerance in x; \"\n"
     ]
    },
    {
     "name": "stdout",
     "output_type": "stream",
     "text": [
      "0.07216191103351409\n",
      "threshold 0.07216191103351409\n",
      "(44578371,) (44578371,)\n"
     ]
    },
    {
     "name": "stderr",
     "output_type": "stream",
     "text": [
      "ic| label_current_deforestation_test_classified_incorrect.shape: (5170,)\n",
      "    predicted_test_classified_incorrect.shape: (5170,)\n",
      "ic| TP_H + FN_H + FP_H + TN_H: 5170\n",
      "    len(label_mask_current_deforestation_test): 44583541\n",
      "ic| TP_H + FN_H + FP_H + TN_H: 5170\n",
      "    len(label_mask_current_deforestation_test): 44583541\n"
     ]
    },
    {
     "name": "stdout",
     "output_type": "stream",
     "text": [
      "cm_correct [[43670874    51246]\n",
      " [  325820   530431]]\n",
      "cm_incorrect [[4302  306]\n",
      " [ 379  183]]\n",
      "[9.11899559e-01 6.19480736e-01 6.19074407e-01 1.15962077e-04\n",
      " 3.74233129e-01 3.25622776e-01]\n",
      "0.115833373762247\n",
      "threshold 0.115833373762247\n",
      "(44583368,) (44583368,)\n"
     ]
    },
    {
     "name": "stderr",
     "output_type": "stream",
     "text": [
      "ic| label_current_deforestation_test_classified_incorrect.shape: (173,)\n",
      "    predicted_test_classified_incorrect.shape: (173,)\n",
      "ic| TP_H + FN_H + FP_H + TN_H: 173\n",
      "    len(label_mask_current_deforestation_test): 44583541\n",
      "ic| TP_H + FN_H + FP_H + TN_H: 173\n",
      "    len(label_mask_current_deforestation_test): 44583541\n"
     ]
    },
    {
     "name": "stdout",
     "output_type": "stream",
     "text": [
      "cm_correct [[43675083    51511]\n",
      " [  326172   530602]]\n",
      "cm_incorrect [[93 41]\n",
      " [27 12]]\n",
      "[9.11510308e-01 6.19302173e-01 6.19273984e-01 3.88035576e-06\n",
      " 2.26415094e-01 3.07692308e-01]\n",
      "0.04517146272873292\n",
      "threshold 0.04517146272873292\n",
      "(44565451,) (44565451,)\n"
     ]
    },
    {
     "name": "stderr",
     "output_type": "stream",
     "text": [
      "ic| label_current_deforestation_test_classified_incorrect.shape: (18090,)\n",
      "    predicted_test_classified_incorrect.shape: (18090,)\n",
      "ic| TP_H + FN_H + FP_H + TN_H: 18090\n",
      "    len(label_mask_current_deforestation_test): 44583541\n",
      "ic| TP_H + FN_H + FP_H + TN_H: 18090\n",
      "    len(label_mask_current_deforestation_test): 44583541\n"
     ]
    },
    {
     "name": "stdout",
     "output_type": "stream",
     "text": [
      "cm_correct [[43660586    50567]\n",
      " [  324885   529413]]\n",
      "cm_incorrect [[14590   985]\n",
      " [ 1314  1201]]\n",
      "[9.12812511e-01 6.19705302e-01 6.17886283e-01 4.05755119e-04\n",
      " 5.49405306e-01 4.77534791e-01]\n",
      "0.028490448304781174\n",
      "threshold 0.028490448304781174\n",
      "(44531909,) (44531909,)\n"
     ]
    },
    {
     "name": "stderr",
     "output_type": "stream",
     "text": [
      "ic| label_current_deforestation_test_classified_incorrect.shape: (51632,)\n",
      "    predicted_test_classified_incorrect.shape: (51632,)\n",
      "ic| TP_H + FN_H + FP_H + TN_H: 51632\n",
      "    len(label_mask_current_deforestation_test): 44583541\n",
      "ic| TP_H + FN_H + FP_H + TN_H: 51632\n",
      "    len(label_mask_current_deforestation_test): 44583541\n"
     ]
    },
    {
     "name": "stdout",
     "output_type": "stream",
     "text": [
      "cm_correct [[43639947    48274]\n",
      " [  319225   524463]]\n",
      "cm_incorrect [[35229  3278]\n",
      " [ 6974  6151]]\n",
      "[0.9157135  0.62163146 0.61210906 0.0011581  0.65234914 0.46864762]\n",
      "0.01818101442395175\n",
      "threshold 0.01818101442395175\n",
      "(44436670,) (44436670,)\n"
     ]
    },
    {
     "name": "stderr",
     "output_type": "stream",
     "text": [
      "ic| label_current_deforestation_test_classified_incorrect.shape: (146871,)\n",
      "    predicted_test_classified_incorrect.shape: (146871,)\n",
      "ic| TP_H + FN_H + FP_H + TN_H: 146871\n",
      "    len(label_mask_current_deforestation_test): 44583541\n",
      "ic| TP_H + FN_H + FP_H + TN_H: 146871\n",
      "    len(label_mask_current_deforestation_test): 44583541\n"
     ]
    },
    {
     "name": "stdout",
     "output_type": "stream",
     "text": [
      "cm_correct [[43600616    35994]\n",
      " [  307244   492816]]\n",
      "cm_incorrect [[74560 15558]\n",
      " [18955 37798]]\n",
      "[0.93193396 0.6159738  0.57517335 0.00329429 0.70841143 0.66600885]\n",
      "0.011809433880829431\n",
      "threshold 0.011809433880829431\n",
      "(44259541,) (44259541,)\n"
     ]
    },
    {
     "name": "stderr",
     "output_type": "stream",
     "text": [
      "ic| label_current_deforestation_test_classified_incorrect.shape: (324000,)\n",
      "    predicted_test_classified_incorrect.shape: (324000,)\n",
      "ic| TP_H + FN_H + FP_H + TN_H: 324000\n",
      "    len(label_mask_current_deforestation_test): 44583541\n",
      "ic| TP_H + FN_H + FP_H + TN_H: 324000\n",
      "    len(label_mask_current_deforestation_test): 44583541\n"
     ]
    },
    {
     "name": "stdout",
     "output_type": "stream",
     "text": [
      "cm_correct [[43540286    22328]\n",
      " [  286152   410775]]\n",
      "cm_incorrect [[134890  29224]\n",
      " [ 40047 119839]]\n",
      "[0.94844644 0.58940893 0.479422   0.00726726 0.80394867 0.74952779]\n",
      "0.007871580543122321\n",
      "threshold 0.007871580543122321\n",
      "(44075544,) (44075544,)\n"
     ]
    },
    {
     "name": "stderr",
     "output_type": "stream",
     "text": [
      "ic| label_current_deforestation_test_classified_incorrect.shape: (507997,)\n",
      "    predicted_test_classified_incorrect.shape: (507997,)\n",
      "ic| TP_H + FN_H + FP_H + TN_H: 507997\n",
      "    len(label_mask_current_deforestation_test): 44583541\n",
      "ic| TP_H + FN_H + FP_H + TN_H: 507997\n",
      "    len(label_mask_current_deforestation_test): 44583541\n"
     ]
    },
    {
     "name": "stdout",
     "output_type": "stream",
     "text": [
      "cm_correct [[43455970    14022]\n",
      " [  259445   346107]]\n",
      "cm_incorrect [[219206  37530]\n",
      " [ 66754 184507]]\n",
      "[0.96106395 0.5715562  0.40394695 0.01139427 0.83097412 0.73432407]\n",
      "0.00543785333770711\n",
      "threshold 0.00543785333770711\n",
      "(43889470,) (43889470,)\n"
     ]
    },
    {
     "name": "stderr",
     "output_type": "stream",
     "text": [
      "ic| label_current_deforestation_test_classified_incorrect.shape: (694071,)\n",
      "    predicted_test_classified_incorrect.shape: (694071,)\n",
      "ic| TP_H + FN_H + FP_H + TN_H: 694071\n",
      "    len(label_mask_current_deforestation_test): 44583541\n",
      "ic| TP_H + FN_H + FP_H + TN_H: 694071\n",
      "    len(label_mask_current_deforestation_test): 44583541\n"
     ]
    },
    {
     "name": "stdout",
     "output_type": "stream",
     "text": [
      "cm_correct [[43341167    10148]\n",
      " [  230216   307939]]\n",
      "cm_incorrect [[334009  41404]\n",
      " [ 95983 222675]]\n",
      "[0.96809678 0.57221247 0.35940048 0.01556788 0.84321358 0.69878993]\n",
      "0.003933727205415212\n",
      "threshold 0.003933727205415212\n",
      "(43691559,) (43691559,)\n"
     ]
    },
    {
     "name": "stderr",
     "output_type": "stream",
     "text": [
      "ic| label_current_deforestation_test_classified_incorrect.shape: (891982,)\n",
      "    predicted_test_classified_incorrect.shape: (891982,)\n",
      "ic| TP_H + FN_H + FP_H + TN_H: 891982\n",
      "    len(label_mask_current_deforestation_test): 44583541\n",
      "ic| TP_H + FN_H + FP_H + TN_H: 891982\n",
      "    len(label_mask_current_deforestation_test): 44583541\n"
     ]
    },
    {
     "name": "stdout",
     "output_type": "stream",
     "text": [
      "cm_correct [[43200968     8327]\n",
      " [  200428   281836]]\n",
      "cm_incorrect [[474208  43225]\n",
      " [125771 248778]]\n",
      "[0.97130234 0.5844019  0.32893525 0.02000698 0.8519707  0.66420682]\n",
      "0.0030041261322918985\n",
      "threshold 0.0030041261322918985\n",
      "(43495410,) (43495410,)\n"
     ]
    },
    {
     "name": "stderr",
     "output_type": "stream",
     "text": [
      "ic| label_current_deforestation_test_classified_incorrect.shape: (1088131,)\n",
      "    predicted_test_classified_incorrect.shape: (1088131,)\n",
      "ic| TP_H + FN_H + FP_H + TN_H: 1088131\n",
      "    len(label_mask_current_deforestation_test): 44583541\n",
      "ic| TP_H + FN_H + FP_H + TN_H: 1088131\n",
      "    len(label_mask_current_deforestation_test): 44583541\n"
     ]
    },
    {
     "name": "stdout",
     "output_type": "stream",
     "text": [
      "cm_correct [[43053082     7374]\n",
      " [  170940   264014]]\n",
      "cm_incorrect [[622094  44178]\n",
      " [155259 266600]]\n",
      "[0.97282857 0.60699292 0.30813491 0.02440656 0.85784708 0.63196471]\n",
      "0.0024296010731233142\n",
      "threshold 0.0024296010731233142\n",
      "(43327759,) (43327759,)\n"
     ]
    },
    {
     "name": "stderr",
     "output_type": "stream",
     "text": [
      "ic| label_current_deforestation_test_classified_incorrect.shape: (1255782,)\n",
      "    predicted_test_classified_incorrect.shape: (1255782,)\n",
      "ic| TP_H + FN_H + FP_H + TN_H: 1255782\n",
      "    len(label_mask_current_deforestation_test): 44583541\n",
      "ic| TP_H + FN_H + FP_H + TN_H: 1255782\n",
      "    len(label_mask_current_deforestation_test): 44583541\n"
     ]
    },
    {
     "name": "stdout",
     "output_type": "stream",
     "text": [
      "cm_correct [[42922778     6655]\n",
      " [  146550   251776]]\n",
      "cm_incorrect [[752398  44897]\n",
      " [179649 278838]]\n",
      "[0.97424845 0.63208528 0.29385175 0.02816694 0.86131558 0.60816992]\n",
      "0.0020745250591685848\n",
      "threshold 0.0020745250591685848\n",
      "(43197810,) (43197810,)\n"
     ]
    },
    {
     "name": "stderr",
     "output_type": "stream",
     "text": [
      "ic| label_current_deforestation_test_classified_incorrect.shape: (1385731,)\n",
      "    predicted_test_classified_incorrect.shape: (1385731,)\n",
      "ic| TP_H + FN_H + FP_H + TN_H: 1385731\n",
      "    len(label_mask_current_deforestation_test): 44583541\n",
      "ic| "
     ]
    },
    {
     "name": "stdout",
     "output_type": "stream",
     "text": [
      "cm_correct [[42819330     6171]\n",
      " [  128579   243730]]\n",
      "cm_incorrect [[855846  45381]\n",
      " [197620 286884]]\n"
     ]
    },
    {
     "name": "stderr",
     "output_type": "stream",
     "text": [
      "TP_H + FN_H + FP_H + TN_H: 1385731\n",
      "    len(label_mask_current_deforestation_test): 44583541\n"
     ]
    },
    {
     "name": "stdout",
     "output_type": "stream",
     "text": [
      "[0.97530622 0.65464439 0.28446114 0.03108167 0.86341926 0.59211895]\n",
      "0.0020299898217903587\n",
      "threshold 0.0020299898217903587\n",
      "(43179636,) (43179636,)\n"
     ]
    },
    {
     "name": "stderr",
     "output_type": "stream",
     "text": [
      "ic| label_current_deforestation_test_classified_incorrect.shape: (1403905,)\n",
      "    predicted_test_classified_incorrect.shape: (1403905,)\n"
     ]
    },
    {
     "name": "stdout",
     "output_type": "stream",
     "text": [
      "cm_correct [[42804665     6115]\n",
      " [  126165   242691]]\n",
      "cm_incorrect [[870511  45437]\n",
      " [200034 287923]]\n"
     ]
    },
    {
     "name": "stderr",
     "output_type": "stream",
     "text": [
      "ic| TP_H + FN_H + FP_H + TN_H: 1403905\n",
      "    len(label_mask_current_deforestation_test): 44583541\n",
      "ic| TP_H + FN_H + FP_H + TN_H: 1403905\n",
      "    len(label_mask_current_deforestation_test): 44583541\n"
     ]
    },
    {
     "name": "stdout",
     "output_type": "stream",
     "text": [
      "[0.97542262 0.65795595 0.2832485  0.03148931 0.8636999  0.59005814]\n",
      "0.002214543982359572\n",
      "threshold 0.002214543982359572\n",
      "(43252176,) (43252176,)\n"
     ]
    },
    {
     "name": "stderr",
     "output_type": "stream",
     "text": [
      "ic| label_current_deforestation_test_classified_incorrect.shape: (1331365,)\n",
      "    predicted_test_classified_incorrect.shape: (1331365,)\n",
      "ic| TP_H + FN_H + FP_H + TN_H: 1331365\n",
      "    len(label_mask_current_deforestation_test): 44583541\n"
     ]
    },
    {
     "name": "stdout",
     "output_type": "stream",
     "text": [
      "cm_correct [[42862782     6377]\n",
      " [  136030   246987]]\n",
      "cm_incorrect [[812394  45175]\n",
      " [190169 283627]]\n"
     ]
    },
    {
     "name": "stderr",
     "output_type": "stream",
     "text": [
      "ic| TP_H + FN_H + FP_H + TN_H: 1331365\n",
      "    len(label_mask_current_deforestation_test): 44583541\n"
     ]
    },
    {
     "name": "stdout",
     "output_type": "stream",
     "text": [
      "[0.97483068 0.64484605 0.28826243 0.02986225 0.86260728 0.59862684]\n",
      "0.0022966884815096506\n",
      "threshold 0.0022966884815096506\n",
      "(43282079,) (43282079,)\n"
     ]
    },
    {
     "name": "stderr",
     "output_type": "stream",
     "text": [
      "ic| label_current_deforestation_test_classified_incorrect.shape: (1301462,)\n",
      "    predicted_test_classified_incorrect.shape: (1301462,)\n",
      "ic| TP_H + FN_H + FP_H + TN_H: 1301462\n",
      "    len(label_mask_current_deforestation_test): 44583541\n",
      "ic| TP_H + FN_H + FP_H + TN_H: 1301462\n",
      "    len(label_mask_current_deforestation_test): 44583541\n"
     ]
    },
    {
     "name": "stdout",
     "output_type": "stream",
     "text": [
      "cm_correct [[42886641     6478]\n",
      " [  140166   248794]]\n",
      "cm_incorrect [[788535  45074]\n",
      " [186033 281820]]\n",
      "[0.97462315 0.63963904 0.29037141 0.02919154 0.86211432 0.60236869]\n",
      "0.0021812106161792433\n",
      "threshold 0.0021812106161792433\n",
      "(43239682,) (43239682,)\n"
     ]
    },
    {
     "name": "stderr",
     "output_type": "stream",
     "text": [
      "ic| label_current_deforestation_test_classified_incorrect.shape: (1343859,)\n",
      "    predicted_test_classified_incorrect.shape: (1343859,)\n",
      "ic| TP_H + FN_H + FP_H + TN_H: 1343859\n",
      "    len(label_mask_current_deforestation_test): 44583541\n",
      "ic| TP_H + FN_H + FP_H + TN_H: 1343859\n",
      "    "
     ]
    },
    {
     "name": "stdout",
     "output_type": "stream",
     "text": [
      "cm_correct [[42852831     6335]\n",
      " [  134316   246200]]\n",
      "cm_incorrect [[822345  45217]\n",
      " [191883 284414]]\n"
     ]
    },
    {
     "name": "stderr",
     "output_type": "stream",
     "text": [
      "len(label_mask_current_deforestation_test): 44583541\n"
     ]
    },
    {
     "name": "stdout",
     "output_type": "stream",
     "text": [
      "[0.97491437 0.64701616 0.28734391 0.03014249 0.8628254  0.59713582]\n",
      "0.0022478773485399006\n",
      "threshold 0.0022478773485399006\n",
      "(43264452,) (43264452,)\n"
     ]
    },
    {
     "name": "stderr",
     "output_type": "stream",
     "text": [
      "ic| label_current_deforestation_test_classified_incorrect.shape: (1319089,)\n",
      "    predicted_test_classified_incorrect.shape: (1319089,)\n",
      "ic| TP_H + FN_H + FP_H + TN_H: 1319089\n",
      "    len(label_mask_current_deforestation_test): 44583541\n",
      "ic| TP_H + FN_H +"
     ]
    },
    {
     "name": "stdout",
     "output_type": "stream",
     "text": [
      "cm_correct [[42872624     6428]\n",
      " [  137685   247715]]\n",
      "cm_incorrect [[802552  45124]\n",
      " [188514 282899]]\n"
     ]
    },
    {
     "name": "stderr",
     "output_type": "stream",
     "text": [
      " FP_H + TN_H: 1319089\n",
      "    len(label_mask_current_deforestation_test): 44583541\n",
      "ic| self.threshold_optimal: 0.002214543982359572\n"
     ]
    },
    {
     "name": "stdout",
     "output_type": "stream",
     "text": [
      "[0.97470715 0.64274779 0.28911209 0.02958691 0.86243648 0.60010861]\n",
      "threshold 0.002214543982359572\n",
      "(43252176,) (43252176,)\n"
     ]
    },
    {
     "name": "stderr",
     "output_type": "stream",
     "text": [
      "ic| label_current_deforestation_test_classified_incorrect.shape: (1331365,)\n",
      "    predicted_test_classified_incorrect.shape: (1331365,)\n",
      "ic| TP_H + FN_H + FP_H + TN_H: 1331365\n",
      "    len(label_mask_current_deforestation_test): 44583541\n",
      "ic| TP_H + FN_H + FP_H + TN_H: 1331365\n",
      "    "
     ]
    },
    {
     "name": "stdout",
     "output_type": "stream",
     "text": [
      "cm_correct [[42862782     6377]\n",
      " [  136030   246987]]\n",
      "cm_incorrect [[812394  45175]\n",
      " [190169 283627]]\n"
     ]
    },
    {
     "name": "stderr",
     "output_type": "stream",
     "text": [
      "len(label_mask_current_deforestation_test): 44583541\n"
     ]
    },
    {
     "name": "stdout",
     "output_type": "stream",
     "text": [
      "[0.97483068 0.64484605 0.28826243 0.02986225 0.86260728 0.59862684]\n",
      "threshold 0.002214543982359572\n",
      "(44583541,) (44583541,)\n"
     ]
    },
    {
     "name": "stderr",
     "output_type": "stream",
     "text": [
      "ic| self.m_optimal: {'AA': array([0.02986225]),\n",
      "                     'f1': 73.75,\n",
      "                     'f1_H': array([0.70677226]),\n",
      "                     'f1_L': array([0.77622368]),\n",
      "                     'precision_H': array([0.86260728]),\n",
      "                     'precision_L': array([0.97483068]),\n",
      "                     'recall_H': array([0.59862684]),\n",
      "                     'recall_L': array([0.64484605]),\n",
      "                     'recall_Ltotal': array([0.28826243])}\n",
      "ic| self.m_audited_optimal: {'f1': array([0.91009506]),\n",
      "                             'precision': array([0.99123027]),\n",
      "                             'recall': array([0.84123724])}\n"
     ]
    },
    {
     "name": "stdout",
     "output_type": "stream",
     "text": [
      "cm_audited [[43720351     6377]\n",
      " [  136030   720783]]\n",
      "[0.99123027 0.84123724]\n"
     ]
    },
    {
     "name": "stderr",
     "output_type": "stream",
     "text": [
      "ic| n: 10, K: 1\n",
      "ic| self.label_mask.shape: (16795, 10420)\n",
      "ic| self.mask_amazon_ts.shape: (16795, 10420)\n",
      "ic| self.label_mask_test.shape: (70001560,)\n",
      "ic| self.error_mask_test.shape: (44583541,)\n",
      "ic| bounds: (0.0015, 0.24106759881973266)\n",
      "c:\\Users\\jchamorro\\Anaconda3\\envs\\tf2\\lib\\site-packages\\scipy\\optimize\\_minimize.py:783: RuntimeWarning: Method 'bounded' does not support relative tolerance in x; defaulting to absolute tolerance.\n",
      "  warn(\"Method 'bounded' does not support relative tolerance in x; \"\n"
     ]
    },
    {
     "name": "stdout",
     "output_type": "stream",
     "text": [
      "0.09300668014593867\n",
      "threshold 0.09300668014593867\n",
      "(44570391,) (44570391,)\n"
     ]
    },
    {
     "name": "stderr",
     "output_type": "stream",
     "text": [
      "ic| label_current_deforestation_test_classified_incorrect.shape: (13150,)\n",
      "    predicted_test_classified_incorrect.shape: (13150,)\n",
      "ic| TP_H + FN_H + FP_H + TN_H: 13150\n",
      "    len(label_mask_current_deforestation_test): 44583541\n",
      "ic| TP_H + FN_H + FP_H + TN_H: 13150\n",
      "    len(label_mask_current_deforestation_test): 44583541\n"
     ]
    },
    {
     "name": "stdout",
     "output_type": "stream",
     "text": [
      "cm_correct [[43662588    51471]\n",
      " [  325759   530573]]\n",
      "cm_incorrect [[12588    81]\n",
      " [  440    41]]\n",
      "[9.11568541e-01 6.19587964e-01 6.19240138e-01 2.94951897e-04\n",
      " 3.36065574e-01 8.52390852e-02]\n",
      "0.14956091867379395\n",
      "threshold 0.14956091867379395\n",
      "(44582788,) (44582788,)\n"
     ]
    },
    {
     "name": "stderr",
     "output_type": "stream",
     "text": [
      "ic| label_current_deforestation_test_classified_incorrect.shape: (753,)\n",
      "    predicted_test_classified_incorrect.shape: (753,)\n",
      "ic| TP_H + FN_H + FP_H + TN_H: 753\n",
      "    len(label_mask_current_deforestation_test): 44583541\n",
      "ic| TP_H + FN_H + FP_H + TN_H: 753\n",
      "    len(label_mask_current_deforestation_test): 44583541\n"
     ]
    },
    {
     "name": "stdout",
     "output_type": "stream",
     "text": [
      "cm_correct [[43674494    51550]\n",
      " [  326130   530614]]\n",
      "cm_incorrect [[682   2]\n",
      " [ 69   0]]\n",
      "[9.11451069e-01 6.19337865e-01 6.19287989e-01 1.68896410e-05\n",
      " 0.00000000e+00 0.00000000e+00]\n",
      "0.058054238527855295\n",
      "threshold 0.058054238527855295\n",
      "(44540179,) (44540179,)\n"
     ]
    },
    {
     "name": "stderr",
     "output_type": "stream",
     "text": [
      "ic| label_current_deforestation_test_classified_incorrect.shape: (43362,)\n",
      "    predicted_test_classified_incorrect.shape: (43362,)\n",
      "ic| TP_H + FN_H + FP_H + TN_H: 43362\n",
      "    len(label_mask_current_deforestation_test): 44583541\n",
      "ic| TP_H + FN_H + FP_H + TN_H: 43362\n",
      "    len(label_mask_current_deforestation_test): 44583541\n"
     ]
    },
    {
     "name": "stdout",
     "output_type": "stream",
     "text": [
      "cm_correct [[43634611    51147]\n",
      " [  324118   530303]]\n",
      "cm_incorrect [[40565   405]\n",
      " [ 2081   311]]\n",
      "[0.91203543 0.62065773 0.61892502 0.0009726  0.43435754 0.13001672]\n",
      "0.03645244161808339\n",
      "threshold 0.03645244161808339\n",
      "(44446746,) (44446746,)\n"
     ]
    },
    {
     "name": "stderr",
     "output_type": "stream",
     "text": [
      "ic| label_current_deforestation_test_classified_incorrect.shape: (136795,)\n",
      "    predicted_test_classified_incorrect.shape: (136795,)\n",
      "ic| TP_H + FN_H + FP_H + TN_H: 136795\n",
      "    len(label_mask_current_deforestation_test): 44583541\n",
      "ic| TP_H + FN_H + FP_H + TN_H: 136795\n",
      "    len(label_mask_current_deforestation_test): 44583541\n"
     ]
    },
    {
     "name": "stdout",
     "output_type": "stream",
     "text": [
      "cm_correct [[43550568    50192]\n",
      " [  316774   529212]]\n",
      "cm_incorrect [[124608   1360]\n",
      " [  9425   1402]]\n",
      "[0.91337305 0.62555645 0.61765169 0.00306828 0.50760319 0.12949109]\n",
      "0.02310179690977191\n",
      "threshold 0.02310179690977191\n",
      "(44200767,) (44200767,)\n"
     ]
    },
    {
     "name": "stderr",
     "output_type": "stream",
     "text": [
      "ic| label_current_deforestation_test_classified_incorrect.shape: (382774,)\n",
      "    predicted_test_classified_incorrect.shape: (382774,)\n",
      "ic| TP_H + FN_H + FP_H + TN_H: 382774\n",
      "    len(label_mask_current_deforestation_test): 44583541\n",
      "ic| TP_H + FN_H + FP_H + TN_H: 382774\n",
      "    len(label_mask_current_deforestation_test): 44583541\n"
     ]
    },
    {
     "name": "stdout",
     "output_type": "stream",
     "text": [
      "cm_correct [[43327331    48591]\n",
      " [  300712   524133]]\n",
      "cm_incorrect [[347845   2961]\n",
      " [ 25487   6481]]\n",
      "[0.91515809 0.63543211 0.61172391 0.00858555 0.68640119 0.20273398]\n",
      "0.014850644708311489\n",
      "threshold 0.014850644708311489\n",
      "(43665701,) (43665701,)\n"
     ]
    },
    {
     "name": "stderr",
     "output_type": "stream",
     "text": [
      "ic| label_current_deforestation_test_classified_incorrect.shape: (917840,)\n",
      "    predicted_test_classified_incorrect.shape: (917840,)\n",
      "ic| TP_H + FN_H + FP_H + TN_H: 917840\n",
      "    len(label_mask_current_deforestation_test): 44583541\n",
      "ic| TP_H + FN_H + FP_H + TN_H: 917840\n",
      "    len(label_mask_current_deforestation_test): 44583541\n"
     ]
    },
    {
     "name": "stdout",
     "output_type": "stream",
     "text": [
      "cm_correct [[42856868    40053]\n",
      " [  267179   501601]]\n",
      "cm_incorrect [[818308  11499]\n",
      " [ 59020  29013]]\n",
      "[0.92605427 0.65246364 0.58542646 0.02058697 0.71615818 0.32956959]\n",
      "0.009751152201460427\n",
      "threshold 0.009751152201460427\n",
      "(42706858,) (42706858,)\n"
     ]
    },
    {
     "name": "stderr",
     "output_type": "stream",
     "text": [
      "ic| label_current_deforestation_test_classified_incorrect.shape: (1876683,)\n",
      "    predicted_test_classified_incorrect.shape: (1876683,)\n"
     ]
    },
    {
     "name": "stdout",
     "output_type": "stream",
     "text": [
      "cm_correct [[42037089    25479]\n",
      " [  203717   440573]]\n"
     ]
    },
    {
     "name": "stderr",
     "output_type": "stream",
     "text": [
      "ic| TP_H + FN_H + FP_H + TN_H: 1876683\n",
      "    len(label_mask_current_deforestation_test): 44583541\n",
      "ic| TP_H + FN_H + FP_H + TN_H: 1876683\n",
      "    len(label_mask_current_deforestation_test): 44583541\n"
     ]
    },
    {
     "name": "stdout",
     "output_type": "stream",
     "text": [
      "cm_incorrect [[1638087   26073]\n",
      " [ 122482   90041]]\n",
      "[0.94533013 0.68381164 0.51419971 0.04209363 0.77545343 0.4236765 ]\n",
      "0.014072938081791216\n",
      "threshold 0.014072938081791216\n",
      "(43572485,) (43572485,)\n"
     ]
    },
    {
     "name": "stderr",
     "output_type": "stream",
     "text": [
      "ic| label_current_deforestation_test_classified_incorrect.shape: (1011056,)\n",
      "    predicted_test_classified_incorrect.shape: (1011056,)\n",
      "ic| TP_H + FN_H + FP_H + TN_H: 1011056\n",
      "    len(label_mask_current_deforestation_test): 44583541\n",
      "ic| TP_H + FN_H + FP_H + TN_H: 1011056\n",
      "    len(label_mask_current_deforestation_test): 44583541\n"
     ]
    },
    {
     "name": "stdout",
     "output_type": "stream",
     "text": [
      "cm_correct [[42776676    38351]\n",
      " [  261302   496156]]\n",
      "cm_incorrect [[898500  13201]\n",
      " [ 64897  34458]]\n",
      "[0.92824977 0.65502774 0.57907151 0.02267779 0.72301139 0.34681697]\n",
      "0.01265430842773878\n",
      "threshold 0.01265430842773878\n",
      "(43366336,) (43366336,)\n"
     ]
    },
    {
     "name": "stderr",
     "output_type": "stream",
     "text": [
      "ic| label_current_deforestation_test_classified_incorrect.shape: (1217205,)\n",
      "    predicted_test_classified_incorrect.shape: (1217205,)\n",
      "ic| TP_H + FN_H + FP_H + TN_H: 1217205\n",
      "    len(label_mask_current_deforestation_test): 44583541\n",
      "ic| TP_H + FN_H + FP_H + TN_H: 1217205\n",
      "    len(label_mask_current_deforestation_test): 44583541\n"
     ]
    },
    {
     "name": "stdout",
     "output_type": "stream",
     "text": [
      "cm_correct [[42600252    34688]\n",
      " [  248125   483271]]\n",
      "cm_incorrect [[1074924   16864]\n",
      " [  78074   47343]]\n",
      "[0.93302945 0.66075149 0.56403323 0.02730167 0.73734951 0.37748471]\n",
      "0.01154540142395133\n",
      "threshold 0.01154540142395133\n",
      "(43161402,) (43161402,)\n"
     ]
    },
    {
     "name": "stderr",
     "output_type": "stream",
     "text": [
      "ic| label_current_deforestation_test_classified_incorrect.shape: (1422139,)\n",
      "    predicted_test_classified_incorrect.shape: (1422139,)\n"
     ]
    },
    {
     "name": "stdout",
     "output_type": "stream",
     "text": [
      "cm_correct [[42425952    31369]\n",
      " [  234688   469393]]\n"
     ]
    },
    {
     "name": "stderr",
     "output_type": "stream",
     "text": [
      "ic| TP_H + FN_H + FP_H + TN_H: 1422139\n",
      "    len(label_mask_current_deforestation_test): 44583541\n",
      "ic| TP_H + FN_H + FP_H + TN_H: 1422139\n",
      "    len(label_mask_current_deforestation_test): 44583541\n"
     ]
    },
    {
     "name": "stdout",
     "output_type": "stream",
     "text": [
      "cm_incorrect [[1249224   20183]\n",
      " [  91511   61221]]\n",
      "[0.93735747 0.66667471 0.54783599 0.0318983  0.75206378 0.40083938]\n",
      "0.011740601014892013\n",
      "threshold 0.011740601014892013\n",
      "(43200929,) (43200929,)\n"
     ]
    },
    {
     "name": "stderr",
     "output_type": "stream",
     "text": [
      "ic| label_current_deforestation_test_classified_incorrect.shape: (1382612,)\n",
      "    predicted_test_classified_incorrect.shape: (1382612,)\n",
      "ic| TP_H + FN_H + FP_H + TN_H: 1382612\n",
      "    len(label_mask_current_deforestation_test): 44583541\n",
      "ic| TP_H + FN_H + FP_H + TN_H: 1382612\n"
     ]
    },
    {
     "name": "stdout",
     "output_type": "stream",
     "text": [
      "cm_correct [[42459398    32011]\n",
      " [  237436   472084]]\n",
      "cm_incorrect [[1215778   19541]\n",
      " [  88763   58530]]\n"
     ]
    },
    {
     "name": "stderr",
     "output_type": "stream",
     "text": [
      "    len(label_mask_current_deforestation_test): 44583541\n"
     ]
    },
    {
     "name": "stdout",
     "output_type": "stream",
     "text": [
      "[0.93649808 0.66535686 0.5509767  0.03101171 0.74970219 0.39737123]\n",
      "0.012037233062971468\n",
      "threshold 0.012037233062971468\n",
      "(43257897,) (43257897,)\n"
     ]
    },
    {
     "name": "stderr",
     "output_type": "stream",
     "text": [
      "ic| label_current_deforestation_test_classified_incorrect.shape: (1325644,)\n",
      "    predicted_test_classified_incorrect.shape: (1325644,)\n",
      "ic| TP_H + FN_H + FP_H + TN_H: 1325644\n",
      "    len(label_mask_current_deforestation_test): 44583541\n",
      "ic| TP_H + FN_H + FP_H + TN_H: 1325644\n",
      "    len(label_mask_current_deforestation_test): 44583541\n"
     ]
    },
    {
     "name": "stdout",
     "output_type": "stream",
     "text": [
      "cm_correct [[42507855    32879]\n",
      " [  241209   475954]]\n",
      "cm_incorrect [[1167321   18673]\n",
      " [  84990   54660]]\n",
      "[0.93538351 0.66366224 0.55549344 0.02973393 0.74536702 0.39140709]\n",
      "0.012272934878692342\n",
      "threshold 0.012272934878692342\n",
      "(43300704,) (43300704,)\n"
     ]
    },
    {
     "name": "stderr",
     "output_type": "stream",
     "text": [
      "ic| label_current_deforestation_test_classified_incorrect.shape: (1282837,)\n",
      "    predicted_test_classified_incorrect.shape: (1282837,)\n",
      "ic| TP_H + FN_H + FP_H + TN_H"
     ]
    },
    {
     "name": "stdout",
     "output_type": "stream",
     "text": [
      "cm_correct [[42544327    33569]\n",
      " [  243951   478857]]\n",
      "cm_incorrect [[1130849   17983]\n",
      " [  82248   51757]]\n"
     ]
    },
    {
     "name": "stderr",
     "output_type": "stream",
     "text": [
      ": 1282837\n",
      "    len(label_mask_current_deforestation_test): 44583541\n",
      "ic| TP_H + FN_H + FP_H + TN_H: 1282837\n",
      "    len(label_mask_current_deforestation_test): 44583541\n"
     ]
    },
    {
     "name": "stdout",
     "output_type": "stream",
     "text": [
      "[0.93449005 0.66249543 0.55888158 0.02877378 0.74214224 0.38623186]\n",
      "0.011990486115135883\n",
      "threshold 0.011990486115135883\n",
      "(43249125,) (43249125,)\n"
     ]
    },
    {
     "name": "stderr",
     "output_type": "stream",
     "text": [
      "ic| label_current_deforestation_test_classified_incorrect.shape: (1334416,)\n",
      "    predicted_test_classified_incorrect.shape: (1334416,)\n",
      "ic| TP_H + FN_H + FP_H + TN_H: 1334416\n",
      "    len(label_mask_current_deforestation_test): 44583541\n",
      "ic| "
     ]
    },
    {
     "name": "stdout",
     "output_type": "stream",
     "text": [
      "cm_correct [[42500370    32737]\n",
      " [  240645   475373]]\n",
      "cm_incorrect [[1174806   18815]\n",
      " [  85554   55241]]\n"
     ]
    },
    {
     "name": "stderr",
     "output_type": "stream",
     "text": [
      "TP_H + FN_H + FP_H + TN_H: 1334416\n",
      "    len(label_mask_current_deforestation_test): 44583541\n"
     ]
    },
    {
     "name": "stdout",
     "output_type": "stream",
     "text": [
      "[0.93557104 0.66391208 0.55481534 0.02993069 0.74593551 0.39235058]\n",
      "0.011935635218298383\n",
      "threshold 0.011935635218298383\n",
      "(43238663,) (43238663,)\n"
     ]
    },
    {
     "name": "stderr",
     "output_type": "stream",
     "text": [
      "ic| label_current_deforestation_test_classified_incorrect.shape: (1344878,)\n",
      "    predicted_test_classified_incorrect.shape: (1344878,)\n",
      "ic"
     ]
    },
    {
     "name": "stdout",
     "output_type": "stream",
     "text": [
      "cm_correct [[42491473    32579]\n",
      " [  239955   474656]]\n",
      "cm_incorrect [[1183703   18973]\n",
      " [  86244   55958]]\n"
     ]
    },
    {
     "name": "stderr",
     "output_type": "stream",
     "text": [
      "| TP_H + FN_H + FP_H + TN_H: 1344878\n",
      "    len(label_mask_current_deforestation_test): 44583541\n",
      "ic| TP_H + FN_H + FP_H + TN_H: 1344878\n",
      "    len(label_mask_current_deforestation_test): 44583541\n",
      "ic| self.threshold_optimal: 0.011990486115135883\n"
     ]
    },
    {
     "name": "stdout",
     "output_type": "stream",
     "text": [
      "[0.93577139 0.66421592 0.55397852 0.03016535 0.74679372 0.39351064]\n",
      "threshold 0.011990486115135883\n",
      "(43249125,) (43249125,)\n"
     ]
    },
    {
     "name": "stderr",
     "output_type": "stream",
     "text": [
      "ic| label_current_deforestation_test_classified_incorrect.shape: (1334416,)\n",
      "    predicted_test_classified_incorrect.shape: (1334416,)\n",
      "ic| TP_H + FN_H + FP_H + TN_H: 1334416\n",
      "    len(label_mask_current_deforestation_test): 44583541\n",
      "ic| TP_H + FN_H + FP_H + TN_H: 1334416\n",
      "    len(label_mask_current_deforestation_test): 44583541\n"
     ]
    },
    {
     "name": "stdout",
     "output_type": "stream",
     "text": [
      "cm_correct [[42500370    32737]\n",
      " [  240645   475373]]\n",
      "cm_incorrect [[1174806   18815]\n",
      " [  85554   55241]]\n",
      "[0.93557104 0.66391208 0.55481534 0.02993069 0.74593551 0.39235058]\n",
      "threshold 0.011990486115135883\n",
      "(44583541,) (44583541,)\n"
     ]
    },
    {
     "name": "stderr",
     "output_type": "stream",
     "text": [
      "ic| self.m_optimal: {'AA': array([0.02993069]),\n",
      "                     'f1': 73.75,\n",
      "                     'f1_H': array([0.51422614]),\n",
      "                     'f1_L': array([0.77667205]),\n",
      "                     'precision_H': array([0.74593551]),\n",
      "                     'precision_L': array([0.93557104]),\n",
      "                     'recall_H': array([0.39235058]),\n",
      "                     'recall_L': array([0.66391208]),\n",
      "                     'recall_Ltotal': array([0.55481534])}\n",
      "ic| self.m_audited_optimal: {'f1': array([0.81843745]),\n",
      "                             'precision': array([0.9495504]),\n",
      "                             'recall': array([0.71913942])}\n"
     ]
    },
    {
     "name": "stdout",
     "output_type": "stream",
     "text": [
      "cm_audited [[43693991    32737]\n",
      " [  240645   616168]]\n",
      "[0.9495504  0.71913942]\n"
     ]
    },
    {
     "name": "stderr",
     "output_type": "stream",
     "text": [
      "ic| self.label_mask.shape: (16795, 10420)\n",
      "ic| self.mask_amazon_ts.shape: (16795, 10420)\n",
      "ic| self.label_mask_test.shape: (70001560,)\n",
      "ic| self.error_mask_test.shape: (44583541,)\n",
      "ic| bounds: (0.0015, 1.014042984008789)\n",
      "c:\\Users\\jchamorro\\Anaconda3\\envs\\tf2\\lib\\site-packages\\scipy\\optimize\\_minimize.py:783: RuntimeWarning: Method 'bounded' does not support relative tolerance in x; defaulting to absolute tolerance.\n",
      "  warn(\"Method 'bounded' does not support relative tolerance in x; \"\n"
     ]
    },
    {
     "name": "stdout",
     "output_type": "stream",
     "text": [
      "0.3882570048211161\n",
      "threshold 0.3882570048211161\n",
      "(44583368,) (44583368,)\n"
     ]
    },
    {
     "name": "stderr",
     "output_type": "stream",
     "text": [
      "ic| label_current_deforestation_test_classified_incorrect.shape: (173,)\n",
      "    predicted_test_classified_incorrect.shape: (173,)\n",
      "ic| TP_H + FN_H + FP_H + TN_H: 173\n",
      "    len(label_mask_current_deforestation_test): 44583541\n",
      "ic| TP_H + FN_H + FP_H + TN_H: 173\n",
      "    len(label_mask_current_deforestation_test): 44583541\n"
     ]
    },
    {
     "name": "stdout",
     "output_type": "stream",
     "text": [
      "cm_correct [[43675010    51552]\n",
      " [  326193   530613]]\n",
      "cm_incorrect [[166   0]\n",
      " [  6   1]]\n",
      "[9.11447785e-01 6.19291882e-01 6.19286822e-01 3.88035576e-06\n",
      " 1.00000000e+00 1.42857143e-01]\n",
      "0.6272859791876728\n",
      "threshold 0.6272859791876728\n",
      "(44583527,) (44583527,)\n"
     ]
    },
    {
     "name": "stderr",
     "output_type": "stream",
     "text": [
      "ic| label_current_deforestation_test_classified_incorrect.shape: (14,)\n",
      "    predicted_test_classified_incorrect.shape: (14,)\n",
      "ic| np.all(label_current_deforestation_test_classified_incorrect) == 0: True\n",
      "ic| np.all(predicted_test_classified_incorrect) == 0: True\n"
     ]
    },
    {
     "name": "stdout",
     "output_type": "stream",
     "text": [
      "cm_correct [[43675162    51552]\n",
      " [  326199   530614]]\n",
      "cm_incorrect [[14]]\n",
      "[           nan            nan            nan 3.14017229e-07\n",
      "            nan            nan]\n",
      "0.2405289743665567\n",
      "threshold 0.2405289743665567\n",
      "(44582354,) (44582354,)\n"
     ]
    },
    {
     "name": "stderr",
     "output_type": "stream",
     "text": [
      "ic| label_current_deforestation_test_classified_incorrect.shape: (1187,)\n",
      "    predicted_test_classified_incorrect.shape: (1187,)\n",
      "ic| TP_H + FN_H + FP_H + TN_H: 1187\n",
      "    len(label_mask_current_deforestation_test): 44583541\n",
      "ic| TP_H + FN_H + FP_H + TN_H: 1187\n",
      "    len(label_mask_current_deforestation_test): 44583541\n"
     ]
    },
    {
     "name": "stdout",
     "output_type": "stream",
     "text": [
      "cm_correct [[43674048    51552]\n",
      " [  326142   530612]]\n",
      "cm_incorrect [[1128    0]\n",
      " [  57    2]]\n",
      "[9.11447633e-01 6.19328302e-01 6.19285655e-01 2.66241751e-05\n",
      " 1.00000000e+00 3.38983051e-02]\n",
      "0.14922803045455943\n",
      "threshold 0.14922803045455943\n",
      "(44575343,) (44575343,)\n"
     ]
    },
    {
     "name": "stderr",
     "output_type": "stream",
     "text": [
      "ic| label_current_deforestation_test_classified_incorrect.shape: (8198,)\n",
      "    predicted_test_classified_incorrect.shape: (8198,)\n",
      "ic| TP_H + FN_H + FP_H + TN_H: 8198\n",
      "    len(label_mask_current_deforestation_test): 44583541\n",
      "ic| TP_H + FN_H + FP_H + TN_H: 8198\n",
      "    len(label_mask_current_deforestation_test): 44583541\n"
     ]
    },
    {
     "name": "stdout",
     "output_type": "stream",
     "text": [
      "cm_correct [[43667191    51514]\n",
      " [  326045   530593]]\n",
      "cm_incorrect [[7985   38]\n",
      " [ 154   21]]\n",
      "[9.11504242e-01 6.19389987e-01 6.19263480e-01 1.83879517e-04\n",
      " 3.55932203e-01 1.20000000e-01]\n",
      "0.09280094391199731\n",
      "threshold 0.09280094391199731\n",
      "(44546699,) (44546699,)\n"
     ]
    },
    {
     "name": "stderr",
     "output_type": "stream",
     "text": [
      "ic| label_current_deforestation_test_classified_incorrect.shape: (36842,)\n",
      "    predicted_test_classified_incorrect.shape: (36842,)\n",
      "ic| TP_H + FN_H + FP_H + TN_H: 36842\n",
      "    len(label_mask_current_deforestation_test): 44583541\n",
      "ic| TP_H + FN_H + FP_H + TN_H: 36842\n",
      "    len(label_mask_current_deforestation_test): 44583541\n"
     ]
    },
    {
     "name": "stdout",
     "output_type": "stream",
     "text": [
      "cm_correct [[43639689    51212]\n",
      " [  325371   530427]]\n",
      "cm_incorrect [[35487   340]\n",
      " [  828   187]]\n",
      "[9.11952259e-01 6.19803972e-01 6.19069739e-01 8.26358768e-04\n",
      " 3.54838710e-01 1.84236453e-01]\n",
      "0.05792708654256213\n",
      "threshold 0.05792708654256213\n",
      "(44475761,) (44475761,)\n"
     ]
    },
    {
     "name": "stderr",
     "output_type": "stream",
     "text": [
      "ic| label_current_deforestation_test_classified_incorrect.shape: (107780,)\n",
      "    predicted_test_classified_incorrect.shape: (107780,)\n",
      "ic| TP_H + FN_H + FP_H + TN_H: 107780\n",
      "    len(label_mask_current_deforestation_test): 44583541\n",
      "ic| TP_H + FN_H + FP_H + TN_H: 107780\n",
      "    len(label_mask_current_deforestation_test): 44583541\n"
     ]
    },
    {
     "name": "stdout",
     "output_type": "stream",
     "text": [
      "cm_correct [[43572717    50590]\n",
      " [  322491   529963]]\n",
      "cm_incorrect [[102459    962]\n",
      " [  3708    651]]\n",
      "[0.91285895 0.62169102 0.6185282  0.00241748 0.40359578 0.14934618]\n",
      "0.036373857369435186\n",
      "threshold 0.036373857369435186\n",
      "(44299232,) (44299232,)\n"
     ]
    },
    {
     "name": "stderr",
     "output_type": "stream",
     "text": [
      "ic| label_current_deforestation_test_classified_incorrect.shape: (284309,)\n",
      "    predicted_test_classified_incorrect.shape: (284309,)\n",
      "ic| TP_H + FN_H + FP_H + TN_H: 284309\n",
      "    len(label_mask_current_deforestation_test): 44583541\n",
      "ic| TP_H + FN_H + FP_H + TN_H: 284309\n",
      "    len(label_mask_current_deforestation_test): 44583541\n"
     ]
    },
    {
     "name": "stdout",
     "output_type": "stream",
     "text": [
      "cm_correct [[43406337    49830]\n",
      " [  314608   528457]]\n",
      "cm_incorrect [[268839   1722]\n",
      " [ 11591   2157]]\n",
      "[0.91383171 0.6268283  0.61677052 0.00637699 0.55607115 0.15689555]\n",
      "0.023053229173126945\n",
      "threshold 0.023053229173126945\n",
      "(43858644,) (43858644,)\n"
     ]
    },
    {
     "name": "stderr",
     "output_type": "stream",
     "text": [
      "ic| label_current_deforestation_test_classified_incorrect.shape: (724897,)\n",
      "    predicted_test_classified_incorrect.shape: (724897,)\n",
      "ic| TP_H + FN_H + FP_H + TN_H: 724897\n",
      "    len(label_mask_current_deforestation_test): 44583541\n",
      "ic| TP_H + FN_H + FP_H + TN_H: 724897\n",
      "    len(label_mask_current_deforestation_test): 44583541\n"
     ]
    },
    {
     "name": "stdout",
     "output_type": "stream",
     "text": [
      "cm_correct [[42990550    48080]\n",
      " [  297194   522820]]\n",
      "cm_incorrect [[684626   3472]\n",
      " [ 29005   7794]]\n",
      "[0.9157821  0.63757448 0.61019149 0.0162593  0.69181608 0.21179923]\n",
      "0.014820628196308245\n",
      "threshold 0.014820628196308245\n",
      "(42514654,) (42514654,)\n"
     ]
    },
    {
     "name": "stderr",
     "output_type": "stream",
     "text": [
      "ic| label_current_deforestation_test_classified_incorrect.shape: (2068887,)\n",
      "    predicted_test_classified_incorrect.shape: (2068887,)\n"
     ]
    },
    {
     "name": "stdout",
     "output_type": "stream",
     "text": [
      "cm_correct [[41718335    38220]\n",
      " [  260012   498087]]\n"
     ]
    },
    {
     "name": "stderr",
     "output_type": "stream",
     "text": [
      "ic| TP_H + FN_H + FP_H + TN_H: 2068887\n",
      "    len(label_mask_current_deforestation_test): 44583541\n",
      "ic| TP_H + FN_H + FP_H + TN_H: 2068887\n",
      "    len(label_mask_current_deforestation_test): 44583541\n"
     ]
    },
    {
     "name": "stdout",
     "output_type": "stream",
     "text": [
      "cm_incorrect [[1956841   13332]\n",
      " [  66187   32527]]\n",
      "[0.92873485 0.65702105 0.58132521 0.04640473 0.7092828  0.32950747]\n",
      "0.022209886060342524\n",
      "threshold 0.022209886060342524\n",
      "(43796290,) (43796290,)\n"
     ]
    },
    {
     "name": "stderr",
     "output_type": "stream",
     "text": [
      "ic| label_current_deforestation_test_classified_incorrect.shape: (787251,)\n",
      "    predicted_test_classified_incorrect.shape: (787251,)\n",
      "ic| TP_H + FN_H + FP_H + TN_H: 787251\n",
      "    len(label_mask_current_deforestation_test): 44583541\n",
      "ic| TP_H + FN_H + FP_H + TN_H: 787251\n",
      "    len(label_mask_current_deforestation_test): 44583541\n"
     ]
    },
    {
     "name": "stdout",
     "output_type": "stream",
     "text": [
      "cm_correct [[42931894    47691]\n",
      " [  294925   521780]]\n",
      "cm_incorrect [[743282   3861]\n",
      " [ 31274   8834]]\n",
      "[0.91625386 0.6388843  0.60897769 0.01765788 0.69586451 0.22025531]\n",
      "0.019540144071299\n",
      "threshold 0.019540144071299\n",
      "(43520154,) (43520154,)\n"
     ]
    },
    {
     "name": "stderr",
     "output_type": "stream",
     "text": [
      "ic| label_current_deforestation_test_classified_incorrect.shape: (1063387,)\n",
      "    predicted_test_classified_incorrect.shape: (1063387,)\n",
      "ic| TP_H + FN_H + FP_H + TN_H: 1063387\n",
      "    len(label_mask_current_deforestation_test): 44583541\n",
      "ic| TP_H + FN_H + FP_H + TN_H: 1063387\n",
      "    len(label_mask_current_deforestation_test): 44583541\n"
     ]
    },
    {
     "name": "stdout",
     "output_type": "stream",
     "text": [
      "cm_correct [[42670903    45917]\n",
      " [  286102   517232]]\n",
      "cm_incorrect [[1004273    5635]\n",
      " [  40097   13382]]\n",
      "[0.91846385 0.64385673 0.60366965 0.02385156 0.70368618 0.25022906]\n",
      "0.01773744941749723\n",
      "threshold 0.01773744941749723\n",
      "(43233500,) (43233500,)\n"
     ]
    },
    {
     "name": "stderr",
     "output_type": "stream",
     "text": [
      "ic| label_current_deforestation_test_classified_incorrect.shape: (1350041,)\n",
      "    predicted_test_classified_incorrect.shape: (1350041,)\n",
      "ic| TP_H + FN_H"
     ]
    },
    {
     "name": "stdout",
     "output_type": "stream",
     "text": [
      "cm_correct [[42399327    43749]\n",
      " [  278245   512179]]\n",
      "cm_incorrect [[1275849    7803]\n",
      " [  47954   18435]]\n"
     ]
    },
    {
     "name": "stderr",
     "output_type": "stream",
     "text": [
      " + FP_H + TN_H: 1350041\n",
      "    len(label_mask_current_deforestation_test): 44583541\n",
      "ic| TP_H + FN_H + FP_H + TN_H: 1350041\n",
      "    len(label_mask_current_deforestation_test): 44583541\n"
     ]
    },
    {
     "name": "stdout",
     "output_type": "stream",
     "text": [
      "[0.92130456 0.64798007 0.59777221 0.03028115 0.70260691 0.27768154]\n",
      "0.016623322850110013\n",
      "threshold 0.016623322850110013\n",
      "(42999873,) (42999873,)\n"
     ]
    },
    {
     "name": "stderr",
     "output_type": "stream",
     "text": [
      "ic| label_current_deforestation_test_classified_incorrect.shape: (1583668,)\n",
      "    predicted_test_classified_incorrect.shape: (1583668,)\n",
      "ic"
     ]
    },
    {
     "name": "stdout",
     "output_type": "stream",
     "text": [
      "cm_correct [[42177752    41952]\n",
      " [  272246   507923]]\n",
      "cm_incorrect [[1497424    9600]\n",
      " [  53953   22691]]\n"
     ]
    },
    {
     "name": "stderr",
     "output_type": "stream",
     "text": [
      "| TP_H + FN_H + FP_H + TN_H: 1583668\n",
      "    len(label_mask_current_deforestation_test): 44583541\n",
      "ic| TP_H + FN_H + FP_H + TN_H: 1583668\n",
      "    len(label_mask_current_deforestation_test): 44583541\n"
     ]
    },
    {
     "name": "stdout",
     "output_type": "stream",
     "text": [
      "[0.9237063  0.65104227 0.59280496 0.03552136 0.70270354 0.2960571 ]\n",
      "0.018042334857040338\n",
      "threshold 0.018042334857040338\n",
      "(43289406,) (43289406,)\n"
     ]
    },
    {
     "name": "stderr",
     "output_type": "stream",
     "text": [
      "ic| label_current_deforestation_test_classified_incorrect.shape: (1294135,)\n",
      "    predicted_test_classified_incorrect.shape: (1294135,)\n",
      "ic| TP_H + FN_H + FP_H + TN_H: 1294135\n",
      "    len(label_mask_current_deforestation_test): 44583541\n",
      "ic| TP_H + FN_H + FP_H + TN_H: 1294135\n"
     ]
    },
    {
     "name": "stdout",
     "output_type": "stream",
     "text": [
      "cm_correct [[42452309    44198]\n",
      " [  279720   513179]]\n",
      "cm_incorrect [[1222867    7354]\n",
      " [  46479   17435]]\n"
     ]
    },
    {
     "name": "stderr",
     "output_type": "stream",
     "text": [
      "    len(label_mask_current_deforestation_test): 44583541\n"
     ]
    },
    {
     "name": "stdout",
     "output_type": "stream",
     "text": [
      "[0.92070358 0.64721862 0.59893933 0.02902719 0.70333616 0.27278843]\n",
      "0.017659030317179202\n",
      "threshold 0.017659030317179202\n",
      "(43218448,) (43218448,)\n"
     ]
    },
    {
     "name": "stderr",
     "output_type": "stream",
     "text": [
      "ic| label_current_deforestation_test_classified_incorrect.shape: (1365093,)\n",
      "    predicted_test_classified_incorrect.shape: (1365093,)\n",
      "ic| TP_H + FN_H + FP_H + TN_H: 1365093\n",
      "    len(label_mask_current_deforestation_test): 44583541\n",
      "ic| TP_H + FN_H + FP_H + TN_H: "
     ]
    },
    {
     "name": "stdout",
     "output_type": "stream",
     "text": [
      "cm_correct [[42385001    43632]\n",
      " [  277860   511955]]\n",
      "cm_incorrect [[1290175    7920]\n",
      " [  48339   18659]]\n"
     ]
    },
    {
     "name": "stderr",
     "output_type": "stream",
     "text": [
      "1365093\n",
      "    len(label_mask_current_deforestation_test): 44583541\n"
     ]
    },
    {
     "name": "stdout",
     "output_type": "stream",
     "text": [
      "[0.92146684 0.6481961  0.59751078 0.03061877 0.70202039 0.27850085]\n",
      "0.017823754384241566\n",
      "threshold 0.017823754384241566\n",
      "(43249553,) (43249553,)\n"
     ]
    },
    {
     "name": "stderr",
     "output_type": "stream",
     "text": [
      "ic| label_current_deforestation_test_classified_incorrect.shape: (1333988,)\n",
      "    predicted_test_classified_incorrect.shape: (1333988,)\n",
      "ic| TP_H + FN_H + FP_H + TN_H: 1333988\n",
      "    len(label_mask_current_deforestation_test): 44583541\n",
      "ic| TP_H + FN_H + FP_H + TN_H: 1333988\n",
      "    "
     ]
    },
    {
     "name": "stdout",
     "output_type": "stream",
     "text": [
      "cm_correct [[42414578    43883]\n",
      " [  278626   512466]]\n",
      "cm_incorrect [[1260598    7669]\n",
      " [  47573   18148]]\n"
     ]
    },
    {
     "name": "stderr",
     "output_type": "stream",
     "text": [
      "len(label_mask_current_deforestation_test): 44583541\n"
     ]
    },
    {
     "name": "stdout",
     "output_type": "stream",
     "text": [
      "[0.92112325 0.64779571 0.59810717 0.02992109 0.70294767 0.276137  ]\n",
      "0.017907244695573674\n",
      "threshold 0.017907244695573674\n",
      "(43264790,) (43264790,)\n"
     ]
    },
    {
     "name": "stderr",
     "output_type": "stream",
     "text": [
      "ic| label_current_deforestation_test_classified_incorrect.shape: (1318751,)\n",
      "    predicted_test_classified_incorrect.shape: (1318751,)\n",
      "ic"
     ]
    },
    {
     "name": "stdout",
     "output_type": "stream",
     "text": [
      "cm_correct [[42429005    44001]\n",
      " [  279054   512730]]\n",
      "cm_incorrect [[1246171    7551]\n",
      " [  47145   17884]]\n"
     ]
    },
    {
     "name": "stderr",
     "output_type": "stream",
     "text": [
      "| TP_H + FN_H + FP_H + TN_H: 1318751\n",
      "    len(label_mask_current_deforestation_test): 44583541\n",
      "ic| TP_H + FN_H + FP_H + TN_H: 1318751\n",
      "    len(label_mask_current_deforestation_test): 44583541\n"
     ]
    },
    {
     "name": "stdout",
     "output_type": "stream",
     "text": [
      "[0.92096542 0.64756297 0.59841529 0.02957932 0.70312561 0.27501576]\n",
      "0.01779042078653923\n",
      "threshold 0.01779042078653923\n",
      "(43243430,) (43243430,)\n"
     ]
    },
    {
     "name": "stderr",
     "output_type": "stream",
     "text": [
      "ic| label_current_deforestation_test_classified_incorrect.shape: (1340111,)\n",
      "    predicted_test_classified_incorrect.shape: (1340111,)\n",
      "ic| TP_H + FN_H + FP_H "
     ]
    },
    {
     "name": "stdout",
     "output_type": "stream",
     "text": [
      "cm_correct [[42408761    43832]\n",
      " [  278483   512354]]\n",
      "cm_incorrect [[1266415    7720]\n",
      " [  47716   18260]]\n"
     ]
    },
    {
     "name": "stderr",
     "output_type": "stream",
     "text": [
      "+ TN_H: 1340111\n",
      "    len(label_mask_current_deforestation_test): 44583541\n",
      "ic| TP_H + FN_H + FP_H + TN_H: 1340111\n",
      "    len(label_mask_current_deforestation_test): 44583541\n",
      "ic| self.threshold_optimal: 0.01779042078653923\n"
     ]
    },
    {
     "name": "stdout",
     "output_type": "stream",
     "text": [
      "[0.92119183 0.64786296 0.59797645 0.03005842 0.70284834 0.27676731]\n",
      "threshold 0.01779042078653923\n",
      "(43243430,) (43243430,)\n"
     ]
    },
    {
     "name": "stderr",
     "output_type": "stream",
     "text": [
      "ic| label_current_deforestation_test_classified_incorrect.shape: (1340111,)\n",
      "    predicted_test_classified_incorrect.shape: (1340111,)\n",
      "ic| TP_H + FN_H + FP_H + TN_H: 1340111\n",
      "    len"
     ]
    },
    {
     "name": "stdout",
     "output_type": "stream",
     "text": [
      "cm_correct [[42408761    43832]\n",
      " [  278483   512354]]\n",
      "cm_incorrect [[1266415    7720]\n",
      " [  47716   18260]]\n"
     ]
    },
    {
     "name": "stderr",
     "output_type": "stream",
     "text": [
      "(label_mask_current_deforestation_test): 44583541\n",
      "ic| TP_H + FN_H + FP_H + TN_H: 1340111\n",
      "    len(label_mask_current_deforestation_test): 44583541\n"
     ]
    },
    {
     "name": "stdout",
     "output_type": "stream",
     "text": [
      "[0.92119183 0.64786296 0.59797645 0.03005842 0.70284834 0.27676731]\n",
      "threshold 0.01779042078653923\n",
      "(44583541,) (44583541,)\n"
     ]
    },
    {
     "name": "stderr",
     "output_type": "stream",
     "text": [
      "ic| self.m_optimal: {'AA': array([0.03005842]),\n",
      "                     'f1': 73.75,\n",
      "                     'f1_H': array([0.39714646]),\n",
      "                     'f1_L': array([0.76072049]),\n",
      "                     'precision_H': array([0.70284834]),\n",
      "                     'precision_L': array([0.92119183]),\n",
      "                     'recall_H': array([0.27676731]),\n",
      "                     'recall_L': array([0.64786296]),\n",
      "                     'recall_Ltotal': array([0.59797645])}\n",
      "ic| self.m_audited_optimal: {'f1': array([0.78206866]),\n",
      "                             'precision': array([0.9295489]),\n",
      "                             'recall': array([0.67497809])}\n",
      " 20%|██        | 2/10 [55:45<3:42:19, 1667.39s/it]"
     ]
    },
    {
     "name": "stdout",
     "output_type": "stream",
     "text": [
      "cm_audited [[43682896    43832]\n",
      " [  278483   578330]]\n",
      "[0.9295489  0.67497809]\n",
      "self.exp, results 132 {'pred_entropy': {'metrics': {'precision_L': array([0.94698448]), 'recall_L': array([0.83360622]), 'recall_Ltotal': array([0.44982627]), 'AA': array([0.02999773]), 'precision_H': array([0.82888247]), 'recall_H': array([0.36808682]), 'f1_L': array([0.88668569]), 'f1_H': array([0.50978871]), 'f1': 73.75}, 'metrics_audited': {'precision': array([0.97307782]), 'recall': array([0.91021145]), 'f1': array([0.94059536])}}, 'pred_var': {'metrics': {'precision_L': array([0.97483068]), 'recall_L': array([0.64484605]), 'recall_Ltotal': array([0.28826243]), 'AA': array([0.02986225]), 'precision_H': array([0.86260728]), 'recall_H': array([0.59862684]), 'f1_L': array([0.77622368]), 'f1_H': array([0.70677226]), 'f1': 73.75}, 'metrics_audited': {'precision': array([0.99123027]), 'recall': array([0.84123724]), 'f1': array([0.91009506])}}, 'MI': {'metrics': {'precision_L': array([0.93557104]), 'recall_L': array([0.66391208]), 'recall_Ltotal': array([0.55481534]), 'AA': array([0.02993069]), 'precision_H': array([0.74593551]), 'recall_H': array([0.39235058]), 'f1_L': array([0.77667205]), 'f1_H': array([0.51422614]), 'f1': 73.75}, 'metrics_audited': {'precision': array([0.9495504]), 'recall': array([0.71913942]), 'f1': array([0.81843745])}}, 'KL': {'metrics': {'precision_L': array([0.92119183]), 'recall_L': array([0.64786296]), 'recall_Ltotal': array([0.59797645]), 'AA': array([0.03005842]), 'precision_H': array([0.70284834]), 'recall_H': array([0.27676731]), 'f1_L': array([0.76072049]), 'f1_H': array([0.39714646]), 'f1': 73.75}, 'metrics_audited': {'precision': array([0.9295489]), 'recall': array([0.67497809]), 'f1': array([0.78206866])}}}\n",
      "D:/Jorge/datasets/deforestation/MT/deforestation_past_years.tif\n",
      "Loaded deforestation past years\n"
     ]
    },
    {
     "name": "stderr",
     "output_type": "stream",
     "text": [
      "ic| np.unique(deforestation_past_years, return_counts=True): (array([   0, 2008, 2009, 2010, 2011, 2012, 2013, 2014, 2015, 2016, 2017,\n",
      "                                                                    2018, 2019, 2020, 2021], dtype=uint16),\n",
      "                                                              array([161124576,   1332784,    240796,    338545,    313901,    287191,\n",
      "                                                                       708581,    648966,    876898,   1007787,   1098901,   1054092,\n",
      "                                                                      2096062,   2473828,   1400992], dtype=int64))\n"
     ]
    },
    {
     "name": "stdout",
     "output_type": "stream",
     "text": [
      "Label where deforestation past years is actual date (2020) = 1\n"
     ]
    },
    {
     "name": "stderr",
     "output_type": "stream",
     "text": [
      "ic| np.unique(deforestation_past_years, return_counts=True): (array([   0, 2008, 2009, 2010, 2011, 2012, 2013, 2014, 2015, 2016, 2017,\n",
      "                                                                    2018, 2019, 2020, 2021], dtype=uint16),\n",
      "                                                              array([161124576,   1332784,    240796,    338545,    313901,    287191,\n",
      "                                                                       708581,    648966,    876898,   1007787,   1098901,   1054092,\n",
      "                                                                      2096062,   2473828,   1400992], dtype=int64))\n"
     ]
    },
    {
     "name": "stdout",
     "output_type": "stream",
     "text": [
      "Past deforestation different from 0 (no deforestation)\n"
     ]
    },
    {
     "name": "stderr",
     "output_type": "stream",
     "text": [
      "ic| np.unique(deforestation_past_years, return_counts=True): (array([   0, 2008, 2009, 2010, 2011, 2012, 2013, 2014, 2015, 2016, 2017,\n",
      "                                                                    2018, 2019, 2020, 2021], dtype=uint16),\n",
      "                                                              array([161124576,   1332784,    240796,    338545,    313901,    287191,\n",
      "                                                                       708581,    648966,    876898,   1007787,   1098901,   1054092,\n",
      "                                                                      2096062,   2473828,   1400992], dtype=int64))\n"
     ]
    },
    {
     "name": "stdout",
     "output_type": "stream",
     "text": [
      "Past deforestation before 2008 is 2\n",
      "D:/Jorge/datasets/deforestation/MT/deforestation_before_2008/deforestation_before_2008_MT.tif\n"
     ]
    },
    {
     "name": "stderr",
     "output_type": "stream",
     "text": [
      "ic| np.unique(label_past_deforestation_before_2008, return_counts=True): (array([  0, 215], dtype=uint8), array([122623260,  52380640], dtype=int64))\n",
      "ic| np.unique(deforestation_past_years, return_counts=True): (array([   0, 2008, 2009, 2010, 2011, 2012, 2013, 2014, 2015, 2016, 2017,\n",
      "                                                                    2018, 2019, 2020, 2021], dtype=uint16),\n",
      "                                                              array([161124576,   1332784,    240796,    338545,    313901,    287191,\n",
      "                                                                       708581,    648966,    876898,   1007787,   1098901,   1054092,\n",
      "                                                                      2096062,   2473828,   1400992], dtype=int64))\n",
      "ic| label_per_date.shape: (16795, 10420, 1)\n"
     ]
    },
    {
     "name": "stdout",
     "output_type": "stream",
     "text": [
      "Mask label shape:  \n",
      " (16795, 10420, 1) \n",
      " Unique values:  \n",
      " [0 1 2]\n",
      "Tiles size:  3359 2084\n",
      "Mask size:  (16795, 10420)\n"
     ]
    },
    {
     "name": "stderr",
     "output_type": "stream",
     "text": [
      "ic| image_stack.shape: (16795, 10420, 21)\n"
     ]
    },
    {
     "name": "stdout",
     "output_type": "stream",
     "text": [
      "Image shape:  (16795, 10420, 21)\n",
      "mask:  (16795, 10420)\n",
      "image stack:  (16795, 10420, 21)\n",
      "ref : (16795, 10420, 1)\n",
      "Training tiles:  [2, 4, 5, 6, 7, 12, 14, 15, 18, 21, 23, 24]\n",
      "Validation tiles:  [9, 11, 25]\n",
      "Test tiles:  [1, 3, 8, 10, 13, 16, 17, 19, 20, 22]\n",
      "-5.0 -12.0\n"
     ]
    },
    {
     "name": "stderr",
     "output_type": "stream",
     "text": [
      "ic| self.path_models+ '/' + self.method +'_'+str(0)+'.h5': 'D:/Jorge/datasets/deforestation/experiments/MT/exp133/models/resunet_0.h5'\n"
     ]
    },
    {
     "name": "stdout",
     "output_type": "stream",
     "text": [
      "time:  0\n",
      "time:  1\n",
      "time:  2\n",
      "time:  3\n",
      "time:  4\n",
      "time:  5\n",
      "time:  6\n",
      "time:  7\n",
      "time:  8\n",
      "time:  9\n",
      "(44657480,)\n",
      "(array([0, 1], dtype=uint8), array([43783238,   874242], dtype=int64))\n",
      "(16795, 10420)\n",
      "(array([0., 1.], dtype=float32), array([173389409,   1614491], dtype=int64))\n"
     ]
    },
    {
     "name": "stderr",
     "output_type": "stream",
     "text": [
      "ic| self.predicted_unpad.shape: (16795, 10420)\n",
      "    self.predicted.shape: (16795, 10420)\n",
      "ic| predicted_test.shape: (70001560,)\n",
      "ic| predicted_test.shape: (44657480,)\n",
      "ic| np.unique(predicted, return_counts=True): (array([0., 1.], dtype=float32), array([173389409,   1614491], dtype=int64))\n",
      "    np.unique(predicted_larger_than_min_area, return_counts=True): (array([0., 1.], dtype=float32), array([173588129,   1415771], dtype=int64))\n",
      "ic| np.unique(ignored_polygons, return_counts=True): (array([0., 1.], dtype=float32), array([174805180,    198720], dtype=int64))\n",
      "ic| predicted.shape: (16795, 10420), label_mask.shape: (16795, 10420)\n",
      "ic| predicted_masked.shape: (70001560,)\n",
      "    label_masked.shape: (70001560,)\n",
      "ic| np.unique(label_masked, return_counts=True): (array([0, 1, 2], dtype=uint8),\n",
      "                                                  array([43727163,   856386, 25418011], dtype=int64))\n",
      "ic| predicted_masked.shape: (44583549,)\n",
      "    label_masked.shape: (44583549,)\n",
      "ic| self.f1: 70.8, self.precision: 91.02, self.recall: 57.93\n",
      "ic| self.label_mask_val.shape: (21000468,)\n",
      "ic| self.label_mask_val_valid.shape: (11784252,)\n",
      "ic| f1_val: 93.2\n",
      "    precision_val: 97.5\n",
      "    recall_val: 89.25\n",
      "    mAP_val: 98.39\n"
     ]
    },
    {
     "name": "stdout",
     "output_type": "stream",
     "text": [
      "(array([0., 1.], dtype=float32), array([173868471,   1135429], dtype=int64))\n"
     ]
    },
    {
     "name": "stderr",
     "output_type": "stream",
     "text": [
      "ic| self.label_mask.shape: (16795, 10420)\n",
      "ic| self.mask_amazon_ts.shape: (16795, 10420)\n",
      "ic| self.label_mask_test.shape: (70001560,)\n",
      "ic| self.error_mask_test.shape: (44583549,)\n",
      "ic| bounds: (0.0015, 0.3663794801235199)\n",
      "c:\\Users\\jchamorro\\Anaconda3\\envs\\tf2\\lib\\site-packages\\scipy\\optimize\\_minimize.py:783: RuntimeWarning: Method 'bounded' does not support relative tolerance in x; defaulting to absolute tolerance.\n",
      "  warn(\"Method 'bounded' does not support relative tolerance in x; \"\n"
     ]
    },
    {
     "name": "stdout",
     "output_type": "stream",
     "text": [
      "0.1408715596097929\n",
      "threshold 0.1408715596097929\n",
      "(43317781,) (43317781,)\n"
     ]
    },
    {
     "name": "stderr",
     "output_type": "stream",
     "text": [
      "ic| label_current_deforestation_test_classified_incorrect.shape: (1265768,)\n",
      "    predicted_test_classified_incorrect.shape: (1265768,)\n",
      "ic| TP_H + FN_H + FP_H + TN_H: 1265768\n",
      "    len(label_mask_current_deforestation_test): 44583549\n",
      "ic| TP_H + FN_H +"
     ]
    },
    {
     "name": "stdout",
     "output_type": "stream",
     "text": [
      "cm_correct [[42864932    14374]\n",
      " [   87212   351263]]\n",
      "cm_incorrect [[813272  34585]\n",
      " [273031 144880]]\n"
     ]
    },
    {
     "name": "stderr",
     "output_type": "stream",
     "text": [
      " FP_H + TN_H: 1265768\n",
      "    len(label_mask_current_deforestation_test): 44583549\n"
     ]
    },
    {
     "name": "stdout",
     "output_type": "stream",
     "text": [
      "[0.96068779 0.80110155 0.41016901 0.02839092 0.80728833 0.34667668]\n",
      "0.22700792051372695\n",
      "threshold 0.22700792051372695\n",
      "(43808507,) (43808507,)\n"
     ]
    },
    {
     "name": "stderr",
     "output_type": "stream",
     "text": [
      "ic| label_current_deforestation_test_classified_incorrect.shape: (775042,)\n",
      "    predicted_test_classified_incorrect.shape: (775042,)\n",
      "ic| TP_H + FN_H + FP_H + TN_H: 775042\n",
      "    len(label_mask_current_deforestation_test): 44583549\n",
      "ic| TP_H + FN_H + FP_H + TN_H: 775042\n",
      "    len(label_mask_current_deforestation_test): 44583549\n"
     ]
    },
    {
     "name": "stdout",
     "output_type": "stream",
     "text": [
      "cm_correct [[43244918    25834]\n",
      " [  133271   404484]]\n",
      "cm_incorrect [[433286  23125]\n",
      " [226972  91659]]\n",
      "[0.93996533 0.75217153 0.47231505 0.01738404 0.79853464 0.28766504]\n",
      "0.08763636090393405\n",
      "threshold 0.08763636090393405\n",
      "(42720769,) (42720769,)\n"
     ]
    },
    {
     "name": "stderr",
     "output_type": "stream",
     "text": [
      "ic| label_current_deforestation_test_classified_incorrect.shape: (1862780,)\n",
      "    predicted_test_classified_incorrect.shape: (1862780,)\n"
     ]
    },
    {
     "name": "stdout",
     "output_type": "stream",
     "text": [
      "cm_correct [[42352788     8722]\n",
      " [   58300   300959]]\n"
     ]
    },
    {
     "name": "stderr",
     "output_type": "stream",
     "text": [
      "ic| TP_H + FN_H + FP_H + TN_H: 1862780\n",
      "    len(label_mask_current_deforestation_test): 44583549\n",
      "ic| TP_H + FN_H + FP_H + TN_H: 1862780\n",
      "    len(label_mask_current_deforestation_test): 44583549\n"
     ]
    },
    {
     "name": "stdout",
     "output_type": "stream",
     "text": [
      "cm_incorrect [[1325416   40237]\n",
      " [ 301943  195184]]\n",
      "[0.97183553 0.83772153 0.35142915 0.04178178 0.82908492 0.39262402]\n",
      "0.15601412426119096\n",
      "threshold 0.15601412426119096\n",
      "(43426720,) (43426720,)\n"
     ]
    },
    {
     "name": "stderr",
     "output_type": "stream",
     "text": [
      "ic| label_current_deforestation_test_classified_incorrect.shape: (1156829,)\n",
      "    predicted_test_classified_incorrect.shape: (1156829,)\n",
      "ic| TP_H + FN_H + FP_H + TN_H: 1156829\n",
      "    len(label_mask_current_deforestation_test): 44583549\n",
      "ic| TP_H + FN_H + FP_H + TN_H: 1156829\n",
      "    len(label_mask_current_deforestation_test): 44583549\n"
     ]
    },
    {
     "name": "stdout",
     "output_type": "stream",
     "text": [
      "cm_correct [[42953368    16372]\n",
      " [   95333   361647]]\n",
      "cm_incorrect [[724836  32587]\n",
      " [264910 134496]]\n",
      "[0.95669001 0.79138474 0.42229439 0.02594744 0.8049652  0.33674006]\n",
      "0.13279008374783408\n",
      "threshold 0.13279008374783408\n",
      "(43249033,) (43249033,)\n"
     ]
    },
    {
     "name": "stderr",
     "output_type": "stream",
     "text": [
      "ic| label_current_deforestation_test_classified_incorrect.shape: (1334516,)\n",
      "    predicted_test_classified_incorrect.shape: (1334516,)\n",
      "ic"
     ]
    },
    {
     "name": "stdout",
     "output_type": "stream",
     "text": [
      "cm_correct [[42807937    13270]\n",
      " [   82645   345181]]\n",
      "cm_incorrect [[870267  35689]\n",
      " [277598 150962]]\n"
     ]
    },
    {
     "name": "stderr",
     "output_type": "stream",
     "text": [
      "| TP_H + FN_H + FP_H + TN_H: 1334516\n",
      "    len(label_mask_current_deforestation_test): 44583549\n",
      "ic| TP_H + FN_H + FP_H + TN_H: 1334516\n",
      "    len(label_mask_current_deforestation_test): 44583549\n"
     ]
    },
    {
     "name": "stdout",
     "output_type": "stream",
     "text": [
      "[0.9629796  0.80682567 0.40306707 0.02993292 0.80879288 0.35225406]\n",
      "0.11554289634005682\n",
      "threshold 0.11554289634005682\n",
      "(43083932,) (43083932,)\n"
     ]
    },
    {
     "name": "stderr",
     "output_type": "stream",
     "text": [
      "ic| label_current_deforestation_test_classified_incorrect.shape: (1499617,)\n",
      "    predicted_test_classified_incorrect.shape: (1499617,)\n",
      "ic"
     ]
    },
    {
     "name": "stdout",
     "output_type": "stream",
     "text": [
      "cm_correct [[42668498    11240]\n",
      " [   73326   330868]]\n",
      "cm_incorrect [[1009706   37719]\n",
      " [ 286917  165275]]\n"
     ]
    },
    {
     "name": "stderr",
     "output_type": "stream",
     "text": [
      "| TP_H + FN_H + FP_H + TN_H: 1499617\n",
      "    len(label_mask_current_deforestation_test): 44583549\n",
      "ic| TP_H + FN_H + FP_H + TN_H: 1499617\n",
      "    len(label_mask_current_deforestation_test): 44583549\n"
     ]
    },
    {
     "name": "stdout",
     "output_type": "stream",
     "text": [
      "[0.96714488 0.81858711 0.38635382 0.03363611 0.81418663 0.3654974 ]\n",
      "0.13075540085347087\n",
      "threshold 0.13075540085347087\n",
      "(43230936,) (43230936,)\n"
     ]
    },
    {
     "name": "stderr",
     "output_type": "stream",
     "text": [
      "ic| label_current_deforestation_test_classified_incorrect.shape: (1352613,)\n",
      "    predicted_test_classified_incorrect.shape: (1352613,)\n",
      "ic| TP_H + FN_H + FP_H "
     ]
    },
    {
     "name": "stdout",
     "output_type": "stream",
     "text": [
      "cm_correct [[42792801    13015]\n",
      " [   81553   343567]]\n",
      "cm_incorrect [[885403  35944]\n",
      " [278690 152576]]\n"
     ]
    },
    {
     "name": "stderr",
     "output_type": "stream",
     "text": [
      "+ TN_H: 1352613\n",
      "    len(label_mask_current_deforestation_test): 44583549\n",
      "ic| TP_H + FN_H + FP_H + TN_H: 1352613\n",
      "    len(label_mask_current_deforestation_test): 44583549\n"
     ]
    },
    {
     "name": "stdout",
     "output_type": "stream",
     "text": [
      "[0.96350068 0.80816475 0.40118241 0.03033884 0.80933588 0.35378629]\n",
      "0.13385547311931356\n",
      "threshold 0.13385547311931356\n",
      "(43258332,) (43258332,)\n"
     ]
    },
    {
     "name": "stderr",
     "output_type": "stream",
     "text": [
      "ic| label_current_deforestation_test_classified_incorrect.shape: (1325217,)\n",
      "    predicted_test_classified_incorrect.shape: (1325217,)\n",
      "ic| TP_H + FN_H + FP_H + TN_H: 1325217\n",
      "    len(label_mask_current_deforestation_test): 44583549\n",
      "ic| TP_H + FN_H + FP_H + TN_H: 1325217\n",
      "    len"
     ]
    },
    {
     "name": "stdout",
     "output_type": "stream",
     "text": [
      "cm_correct [[42815657    13412]\n",
      " [   83254   346009]]\n",
      "cm_incorrect [[862547  35547]\n",
      " [276989 150134]]\n"
     ]
    },
    {
     "name": "stderr",
     "output_type": "stream",
     "text": [
      "(label_mask_current_deforestation_test): 44583549\n"
     ]
    },
    {
     "name": "stdout",
     "output_type": "stream",
     "text": [
      "[0.96268443 0.80605363 0.40403393 0.02972435 0.80855876 0.35150062]\n",
      "0.13240136609620445\n",
      "threshold 0.13240136609620445\n",
      "(43245539,) (43245539,)\n"
     ]
    },
    {
     "name": "stderr",
     "output_type": "stream",
     "text": [
      "ic| label_current_deforestation_test_classified_incorrect.shape: (1338010,)\n",
      "    predicted_test_classified_incorrect.shape: (1338010,)\n",
      "ic| TP_H + FN_H + FP_H + TN_H: 1338010\n",
      "    len(label_mask_current_deforestation_test): 44583549\n",
      "ic| TP_H + FN_H + FP_H"
     ]
    },
    {
     "name": "stdout",
     "output_type": "stream",
     "text": [
      "cm_correct [[42805017    13221]\n",
      " [   82439   344862]]\n",
      "cm_incorrect [[873187  35738]\n",
      " [277804 151281]]\n"
     ]
    },
    {
     "name": "stderr",
     "output_type": "stream",
     "text": [
      " + TN_H: 1338010\n",
      "    len(label_mask_current_deforestation_test): 44583549\n"
     ]
    },
    {
     "name": "stdout",
     "output_type": "stream",
     "text": [
      "[0.96307839 0.80707043 0.40269458 0.03001129 0.80890712 0.35256651]\n",
      "0.1317726633177812\n",
      "threshold 0.1317726633177812\n",
      "(43239932,) (43239932,)\n"
     ]
    },
    {
     "name": "stderr",
     "output_type": "stream",
     "text": [
      "ic| label_current_deforestation_test_classified_incorrect.shape: (1343617,)\n",
      "    predicted_test_classified_incorrect.shape: (1343617,)\n",
      "ic"
     ]
    },
    {
     "name": "stdout",
     "output_type": "stream",
     "text": [
      "cm_correct [[42800330    13126]\n",
      " [   82107   344369]]\n",
      "cm_incorrect [[877874  35833]\n",
      " [278136 151774]]\n"
     ]
    },
    {
     "name": "stderr",
     "output_type": "stream",
     "text": [
      "| TP_H + FN_H + FP_H + TN_H: 1343617\n",
      "    len(label_mask_current_deforestation_test): 44583549\n",
      "ic| TP_H + FN_H + FP_H + TN_H: 1343617\n",
      "    len(label_mask_current_deforestation_test): 44583549\n"
     ]
    },
    {
     "name": "stdout",
     "output_type": "stream",
     "text": [
      "[0.9632834  0.80747568 0.4021189  0.03013706 0.80899966 0.35303668]\n",
      "0.1323680307990415\n",
      "threshold 0.1323680307990415\n",
      "(43245250,) (43245250,)\n"
     ]
    },
    {
     "name": "stderr",
     "output_type": "stream",
     "text": [
      "ic| label_current_deforestation_test_classified_incorrect.shape: (1338299,)\n",
      "    predicted_test_classified_incorrect.shape: (1338299,)\n",
      "ic| TP_H + FN_H + FP_H + TN_H: 1338299\n",
      "    len(label_mask_current_deforestation_test): 44583549\n",
      "ic| TP_H + FN_H + FP_H + TN_H: 1338299\n",
      "    len(label_mask_current_deforestation_test): 44583549\n"
     ]
    },
    {
     "name": "stdout",
     "output_type": "stream",
     "text": [
      "cm_correct [[42804771    13218]\n",
      " [   82426   344835]]\n",
      "cm_incorrect [[873433  35741]\n",
      " [277817 151308]]\n",
      "[0.96308368 0.80708279 0.40266305 0.03001778 0.80892173 0.35259656]\n",
      "0.13250611982807092\n",
      "threshold 0.13250611982807092\n",
      "(43246438,) (43246438,)\n"
     ]
    },
    {
     "name": "stderr",
     "output_type": "stream",
     "text": [
      "ic| label_current_deforestation_test_classified_incorrect.shape: (1337111,)\n",
      "    predicted_test_classified_incorrect.shape: (1337111,)\n",
      "ic| TP_H + FN_H + FP_H + TN_H: 1337111\n",
      "    len(label_mask_current_deforestation_test): 44583549\n",
      "ic| TP_H + FN_H +"
     ]
    },
    {
     "name": "stdout",
     "output_type": "stream",
     "text": [
      "cm_correct [[42805758    13231]\n",
      " [   82497   344952]]\n",
      "cm_incorrect [[872446  35728]\n",
      " [277746 151191]]\n"
     ]
    },
    {
     "name": "stderr",
     "output_type": "stream",
     "text": [
      " FP_H + TN_H: 1337111\n",
      "    len(label_mask_current_deforestation_test): 44583549\n"
     ]
    },
    {
     "name": "stdout",
     "output_type": "stream",
     "text": [
      "[0.96306078 0.80700154 0.40279967 0.02999113 0.80885838 0.35247834]\n",
      "0.1326145843938418\n",
      "threshold 0.1326145843938418\n",
      "(43247421,) (43247421,)\n"
     ]
    },
    {
     "name": "stderr",
     "output_type": "stream",
     "text": [
      "ic| label_current_deforestation_test_classified_incorrect.shape: (1336128,)\n",
      "    predicted_test_classified_incorrect.shape: (1336128,)\n",
      "ic| TP_H + FN_H + FP_H + TN_H: 1336128\n",
      "    len(label_mask_current_deforestation_test): 44583549\n",
      "ic| TP_H + FN_H + FP_H"
     ]
    },
    {
     "name": "stdout",
     "output_type": "stream",
     "text": [
      "cm_correct [[42806584    13253]\n",
      " [   82548   345036]]\n",
      "cm_incorrect [[871620  35706]\n",
      " [277695 151107]]\n"
     ]
    },
    {
     "name": "stderr",
     "output_type": "stream",
     "text": [
      " + TN_H: 1336128\n",
      "    len(label_mask_current_deforestation_test): 44583549\n"
     ]
    },
    {
     "name": "stdout",
     "output_type": "stream",
     "text": [
      "[0.96301031 0.8069432  0.40289776 0.02996908 0.80886769 0.35239341]\n",
      "0.13253945512678764\n",
      "threshold 0.13253945512678764\n",
      "(43246762,) (43246762,)\n"
     ]
    },
    {
     "name": "stderr",
     "output_type": "stream",
     "text": [
      "ic| label_current_deforestation_test_classified_incorrect.shape: (1336787,)\n",
      "    predicted_test_classified_incorrect.shape: (1336787,)\n",
      "ic| TP_H + FN_H + FP_H + TN_H: 1336787\n",
      "    len(label_mask_current_deforestation_test): 44583549\n",
      "ic| TP_H + FN_H + FP_H + TN_H: 1336787\n",
      "    len(label_mask_current_deforestation_test): 44583549\n"
     ]
    },
    {
     "name": "stdout",
     "output_type": "stream",
     "text": [
      "cm_correct [[42806028    13240]\n",
      " [   82514   344980]]\n",
      "cm_incorrect [[872176  35719]\n",
      " [277729 151163]]\n",
      "[0.96303947 0.80698209 0.40283237 0.02998386 0.8088687  0.35245003]\n",
      "0.1324727845293542\n",
      "threshold 0.1324727845293542\n",
      "(43246158,) (43246158,)\n"
     ]
    },
    {
     "name": "stderr",
     "output_type": "stream",
     "text": [
      "ic| label_current_deforestation_test_classified_incorrect.shape: (1337391,)\n",
      "    predicted_test_classified_incorrect.shape: (1337391,)\n",
      "ic| TP_H + FN_H + FP_H + TN_H: 1337391\n",
      "    len(label_mask_current_deforestation_test): 44583549\n",
      "ic| TP_H + FN_H + FP_H + TN_H: 1337391\n",
      "    len(label_mask_current_deforestation_test): 44583549\n"
     ]
    },
    {
     "name": "stdout",
     "output_type": "stream",
     "text": [
      "cm_correct [[42805526    13228]\n",
      " [   82481   344923]]\n",
      "cm_incorrect [[872678  35731]\n",
      " [277762 151220]]\n",
      "[0.96306586 0.80701865 0.40276581 0.02999741 0.80887505 0.35250896]\n",
      "0.13243944923113196\n",
      "threshold 0.13243944923113196\n",
      "(43245881,) (43245881,)\n"
     ]
    },
    {
     "name": "stderr",
     "output_type": "stream",
     "text": [
      "ic| label_current_deforestation_test_classified_incorrect.shape: (1337668,)\n",
      "    predicted_test_classified_incorrect.shape: (1337668,)\n",
      "ic| TP_H + FN_H + FP_H + TN_H: 1337668\n",
      "    len(label_mask_current_deforestation_test): 44583549\n",
      "ic| TP_H + FN_H + FP_H + TN_H: 1337668"
     ]
    },
    {
     "name": "stdout",
     "output_type": "stream",
     "text": [
      "cm_correct [[42805298    13227]\n",
      " [   82461   344895]]\n",
      "cm_incorrect [[872906  35732]\n",
      " [277782 151248]]\n"
     ]
    },
    {
     "name": "stderr",
     "output_type": "stream",
     "text": [
      "\n",
      "    len(label_mask_current_deforestation_test): 44583549\n",
      "ic| self.threshold_optimal: 0.1324727845293542\n"
     ]
    },
    {
     "name": "stdout",
     "output_type": "stream",
     "text": [
      "[0.96306566 0.80704378 0.40273311 0.03000362 0.80889935 0.35253479]\n",
      "threshold 0.1324727845293542\n",
      "(43246158,) (43246158,)\n"
     ]
    },
    {
     "name": "stderr",
     "output_type": "stream",
     "text": [
      "ic| label_current_deforestation_test_classified_incorrect.shape: (1337391,)\n",
      "    predicted_test_classified_incorrect.shape: (1337391,)\n",
      "ic| TP_H + FN_H + FP_H + TN_H: 1337391\n",
      "    len(label_mask_current_deforestation_test): 44583549\n",
      "ic| TP_H + FN_H + FP_H + TN_H: 1337391\n",
      "    len(label_mask_current_deforestation_test): 44583549\n"
     ]
    },
    {
     "name": "stdout",
     "output_type": "stream",
     "text": [
      "cm_correct [[42805526    13228]\n",
      " [   82481   344923]]\n",
      "cm_incorrect [[872678  35731]\n",
      " [277762 151220]]\n",
      "[0.96306586 0.80701865 0.40276581 0.02999741 0.80887505 0.35250896]\n",
      "threshold 0.1324727845293542\n",
      "(44583549,) (44583549,)\n"
     ]
    },
    {
     "name": "stderr",
     "output_type": "stream",
     "text": [
      "ic| self.m_optimal: {'AA': array([0.02999741]),\n",
      "                     'f1': 70.8,\n",
      "                     'f1_H': array([0.49102743]),\n",
      "                     'f1_L': array([0.87816385]),\n",
      "                     'precision_H': array([0.80887505]),\n",
      "                     'precision_L': array([0.96306586]),\n",
      "                     'recall_H': array([0.35250896]),\n",
      "                     'recall_L': array([0.80701865]),\n",
      "                     'recall_Ltotal': array([0.40276581])}\n",
      "ic| self.m_audited_optimal: {'f1': array([0.94176581]),\n",
      "                             'precision': array([0.98319471]),\n",
      "                             'recall': array([0.90368712])}\n"
     ]
    },
    {
     "name": "stdout",
     "output_type": "stream",
     "text": [
      "cm_audited [[43713935    13228]\n",
      " [   82481   773905]]\n",
      "[0.98319471 0.90368712]\n"
     ]
    },
    {
     "name": "stderr",
     "output_type": "stream",
     "text": [
      "ic| self.label_mask.shape: (16795, 10420)\n",
      "ic| self.mask_amazon_ts.shape: (16795, 10420)\n",
      "ic| self.label_mask_test.shape: (70001560,)\n",
      "ic| self.error_mask_test.shape: (44583549,)\n",
      "ic| bounds: (0.0015, 0.15922216629981994)\n",
      "c:\\Users\\jchamorro\\Anaconda3\\envs\\tf2\\lib\\site-packages\\scipy\\optimize\\_minimize.py:783: RuntimeWarning: Method 'bounded' does not support relative tolerance in x; defaulting to absolute tolerance.\n",
      "  warn(\"Method 'bounded' does not support relative tolerance in x; \"\n"
     ]
    },
    {
     "name": "stdout",
     "output_type": "stream",
     "text": [
      "0.061744506747267974\n",
      "threshold 0.061744506747267974\n",
      "(44569954,) (44569954,)\n"
     ]
    },
    {
     "name": "stderr",
     "output_type": "stream",
     "text": [
      "ic| label_current_deforestation_test_classified_incorrect.shape: (13595,)\n",
      "    predicted_test_classified_incorrect.shape: (13595,)\n",
      "ic| TP_H + FN_H + FP_H + TN_H: 13595\n",
      "    len(label_mask_current_deforestation_test): 44583549\n",
      "ic| TP_H + FN_H + FP_H + TN_H: 13595\n",
      "    len(label_mask_current_deforestation_test): 44583549\n"
     ]
    },
    {
     "name": "stdout",
     "output_type": "stream",
     "text": [
      "cm_correct [[43667345    47105]\n",
      " [  359528   495976]]\n",
      "cm_incorrect [[10859  1854]\n",
      " [  715   167]]\n",
      "[9.13263399e-01 5.79747143e-01 5.79150056e-01 3.04933104e-04\n",
      " 8.26323602e-02 1.89342404e-01]\n",
      "0.09897765955255196\n",
      "threshold 0.09897765955255196\n",
      "(44583359,) (44583359,)\n"
     ]
    },
    {
     "name": "stderr",
     "output_type": "stream",
     "text": [
      "ic| label_current_deforestation_test_classified_incorrect.shape: (190,)\n",
      "    predicted_test_classified_incorrect.shape: (190,)\n",
      "d:\\Jorge\\deforestation_uncertainty\\src\\metrics.py:300: RuntimeWarning: invalid value encountered in longlong_scalars\n",
      "  recall_H = TP_H / (TP_H + FN_H)\n",
      "ic| TP_H + FN_H + FP_H + TN_H: 190\n",
      "    len(label_mask_current_deforestation_test): 44583549\n",
      "ic| TP_H + FN_H + FP_H + TN_H: 190\n",
      "    len(label_mask_current_deforestation_test): 44583549\n"
     ]
    },
    {
     "name": "stdout",
     "output_type": "stream",
     "text": [
      "cm_correct [[43678018    48955]\n",
      " [  360243   496143]]\n",
      "cm_incorrect [[186   4]\n",
      " [  0   0]]\n",
      "[9.10190461e-01 5.79345062e-01 5.79345062e-01 4.26166163e-06\n",
      " 0.00000000e+00            nan]\n",
      "0.038733152805283985\n",
      "threshold 0.038733152805283985\n",
      "(44522231,) (44522231,)\n"
     ]
    },
    {
     "name": "stderr",
     "output_type": "stream",
     "text": [
      "ic| label_current_deforestation_test_classified_incorrect.shape: (61318,)\n",
      "    predicted_test_classified_incorrect.shape: (61318,)\n",
      "ic| TP_H + FN_H + FP_H + TN_H: 61318\n",
      "    len(label_mask_current_deforestation_test): 44583549\n",
      "ic| TP_H + FN_H + FP_H + TN_H: 61318\n",
      "    len(label_mask_current_deforestation_test): 44583549\n"
     ]
    },
    {
     "name": "stdout",
     "output_type": "stream",
     "text": [
      "cm_correct [[43633487    42898]\n",
      " [  354443   491403]]\n",
      "cm_incorrect [[44717  6061]\n",
      " [ 5800  4740]]\n",
      "[0.91971192 0.58096036 0.57381017 0.00137535 0.43884825 0.44971537]\n",
      "0.024511353941984\n",
      "threshold 0.024511353941984\n",
      "(44428918,) (44428918,)\n"
     ]
    },
    {
     "name": "stderr",
     "output_type": "stream",
     "text": [
      "ic| label_current_deforestation_test_classified_incorrect.shape: (154631,)\n",
      "    predicted_test_classified_incorrect.shape: (154631,)\n",
      "ic| TP_H + FN_H + FP_H + TN_H: 154631\n",
      "    len(label_mask_current_deforestation_test): 44583549\n",
      "ic| TP_H + FN_H + FP_H + TN_H: 154631\n",
      "    len(label_mask_current_deforestation_test): 44583549\n"
     ]
    },
    {
     "name": "stdout",
     "output_type": "stream",
     "text": [
      "cm_correct [[43579081    37155]\n",
      " [  339790   472892]]\n",
      "cm_incorrect [[99123 11804]\n",
      " [20453 23251]]\n",
      "[0.92715377 0.58189058 0.55219492 0.00346834 0.663272   0.5320108 ]\n",
      "0.01572179886329999\n",
      "threshold 0.01572179886329999\n",
      "(44288245,) (44288245,)\n"
     ]
    },
    {
     "name": "stderr",
     "output_type": "stream",
     "text": [
      "ic| label_current_deforestation_test_classified_incorrect.shape: (295304,)\n",
      "    predicted_test_classified_incorrect.shape: (295304,)\n",
      "ic| TP_H + FN_H + FP_H + TN_H: 295304\n",
      "    len(label_mask_current_deforestation_test): 44583549\n",
      "ic| TP_H + FN_H + FP_H + TN_H: 295304\n",
      "    len(label_mask_current_deforestation_test): 44583549\n"
     ]
    },
    {
     "name": "stdout",
     "output_type": "stream",
     "text": [
      "cm_correct [[43505645    28300]\n",
      " [  313461   440839]]\n",
      "cm_incorrect [[172559  20659]\n",
      " [ 46782  55304]]\n",
      "[0.93967673 0.58443458 0.51476671 0.00662361 0.72803865 0.54173932]\n",
      "0.010289555078684013\n",
      "threshold 0.010289555078684013\n",
      "(44103348,) (44103348,)\n"
     ]
    },
    {
     "name": "stderr",
     "output_type": "stream",
     "text": [
      "ic| label_current_deforestation_test_classified_incorrect.shape: (480201,)\n",
      "    predicted_test_classified_incorrect.shape: (480201,)\n",
      "ic| TP_H + FN_H + FP_H + TN_H: 480201\n",
      "    len(label_mask_current_deforestation_test): 44583549\n",
      "ic| TP_H + FN_H + FP_H + TN_H: 480201\n",
      "    len(label_mask_current_deforestation_test): 44583549\n"
     ]
    },
    {
     "name": "stdout",
     "output_type": "stream",
     "text": [
      "cm_correct [[43407583    20500]\n",
      " [  279156   396109]]\n",
      "cm_incorrect [[270621  28459]\n",
      " [ 81087 100034]]\n",
      "[0.95079319 0.58659785 0.46253559 0.01077081 0.77851712 0.55230481]\n",
      "0.006932243784615977\n",
      "threshold 0.006932243784615977\n",
      "(43900021,) (43900021,)\n"
     ]
    },
    {
     "name": "stderr",
     "output_type": "stream",
     "text": [
      "ic| label_current_deforestation_test_classified_incorrect.shape: (683528,)\n",
      "    predicted_test_classified_incorrect.shape: (683528,)\n",
      "ic| TP_H + FN_H + FP_H + TN_H: 683528\n",
      "    len(label_mask_current_deforestation_test): 44583549\n",
      "ic| TP_H + FN_H + FP_H + TN_H: 683528\n",
      "    len(label_mask_current_deforestation_test): 44583549\n"
     ]
    },
    {
     "name": "stdout",
     "output_type": "stream",
     "text": [
      "cm_correct [[43291839    15445]\n",
      " [  239156   353581]]\n",
      "cm_incorrect [[386365  33514]\n",
      " [121087 142562]]\n",
      "[0.95814658 0.59652257 0.41287574 0.01533139 0.80966174 0.5407265 ]\n",
      "0.004857311294068037\n",
      "threshold 0.004857311294068037\n",
      "(43682618,) (43682618,)\n"
     ]
    },
    {
     "name": "stderr",
     "output_type": "stream",
     "text": [
      "ic| label_current_deforestation_test_classified_incorrect.shape: (900931,)\n",
      "    predicted_test_classified_incorrect.shape: (900931,)\n",
      "ic| TP_H + FN_H + FP_H + TN_H: 900931\n",
      "    len(label_mask_current_deforestation_test): 44583549\n",
      "ic| TP_H + FN_H + FP_H + TN_H: 900931\n",
      "    len(label_mask_current_deforestation_test): 44583549\n"
     ]
    },
    {
     "name": "stdout",
     "output_type": "stream",
     "text": [
      "cm_correct [[43151741    12283]\n",
      " [  197604   320990]]\n",
      "cm_incorrect [[526463  36676]\n",
      " [162639 175153]]\n",
      "[0.96314433 0.61896204 0.3748193  0.0202077  0.82686034 0.51852323]\n",
      "0.0035749324905479402\n",
      "threshold 0.0035749324905479402\n",
      "(43469335,) (43469335,)\n"
     ]
    },
    {
     "name": "stderr",
     "output_type": "stream",
     "text": [
      "ic| label_current_deforestation_test_classified_incorrect.shape: (1114214,)\n",
      "    predicted_test_classified_incorrect.shape: (1114214,)\n",
      "ic| TP_H + FN_H + FP_H + TN_H: 1114214\n",
      "    len(label_mask_current_deforestation_test): 44583549\n",
      "ic| TP_H + FN_H + FP_H + TN_H: 1114214\n",
      "    len(label_mask_current_deforestation_test): 44583549\n"
     ]
    },
    {
     "name": "stdout",
     "output_type": "stream",
     "text": [
      "cm_correct [[42999199    10568]\n",
      " [  162164   297404]]\n",
      "cm_incorrect [[679005  38391]\n",
      " [198079 198739]]\n",
      "[0.96568519 0.64713818 0.34727798 0.02499159 0.83810146 0.50083162]\n",
      "0.002782378803520097\n",
      "threshold 0.002782378803520097\n",
      "(43292727,) (43292727,)\n"
     ]
    },
    {
     "name": "stderr",
     "output_type": "stream",
     "text": [
      "ic| label_current_deforestation_test_classified_incorrect.shape: (1290822,)\n",
      "    predicted_test_classified_incorrect.shape: (1290822,)\n",
      "ic| TP_H + FN_H + FP_H + TN_H: 1290822\n",
      "    len(label_mask_current_deforestation_test): 44583549\n",
      "ic| TP_H + FN_H + FP_H + TN_H: 1290822\n",
      "    len(label_mask_current_deforestation_test): 44583549\n"
     ]
    },
    {
     "name": "stdout",
     "output_type": "stream",
     "text": [
      "cm_correct [[42866282     9514]\n",
      " [  136635   280296]]\n",
      "cm_incorrect [[811922  39445]\n",
      " [223608 215847]]\n",
      "[0.9671716  0.6722839  0.32730101 0.02895288 0.84549065 0.49116974]\n",
      "0.0022925536870278436\n",
      "threshold 0.0022925536870278436\n",
      "(43156096,) (43156096,)\n"
     ]
    },
    {
     "name": "stderr",
     "output_type": "stream",
     "text": [
      "ic| label_current_deforestation_test_classified_incorrect.shape: (1427453,)\n",
      "    predicted_test_classified_incorrect.shape: (1427453,)\n",
      "ic| TP_H "
     ]
    },
    {
     "name": "stdout",
     "output_type": "stream",
     "text": [
      "cm_correct [[42759467     8799]\n",
      " [  119900   267930]]\n",
      "cm_incorrect [[918737  40160]\n",
      " [240343 228213]]\n"
     ]
    },
    {
     "name": "stderr",
     "output_type": "stream",
     "text": [
      "+ FN_H + FP_H + TN_H: 1427453\n",
      "    len(label_mask_current_deforestation_test): 44583549\n",
      "ic| TP_H + FN_H + FP_H + TN_H: 1427453\n",
      "    len(label_mask_current_deforestation_test): 44583549\n"
     ]
    },
    {
     "name": "stdout",
     "output_type": "stream",
     "text": [
      "[0.96820355 0.69084393 0.31286126 0.03201748 0.85035752 0.48705598]\n",
      "0.002719467725169895\n",
      "threshold 0.002719467725169895\n",
      "(43277099,) (43277099,)\n"
     ]
    },
    {
     "name": "stderr",
     "output_type": "stream",
     "text": [
      "ic| label_current_deforestation_test_classified_incorrect.shape: (1306450,)\n",
      "    predicted_test_classified_incorrect.shape: (1306450,)\n",
      "ic| TP_H + FN_H + FP_H + TN_H: 1306450\n",
      "    len(label_mask_current_deforestation_test): 44583549\n",
      "ic| TP_H + FN_H + FP_H + TN_H: 1306450\n",
      "    len(label_mask_current_deforestation_test): 44583549\n"
     ]
    },
    {
     "name": "stdout",
     "output_type": "stream",
     "text": [
      "cm_correct [[42854205     9430]\n",
      " [  134598   278866]]\n",
      "cm_incorrect [[823999  39529]\n",
      " [225645 217277]]\n",
      "[0.96729056 0.67446259 0.3256312  0.02930341 0.84607447 0.49055364]\n",
      "0.0025934532980447355\n",
      "threshold 0.0025934532980447355\n",
      "(43243694,) (43243694,)\n"
     ]
    },
    {
     "name": "stderr",
     "output_type": "stream",
     "text": [
      "ic| label_current_deforestation_test_classified_incorrect.shape: (1339855,)\n",
      "    predicted_test_classified_incorrect.shape: (1339855,)\n",
      "ic| TP_H + FN_H + FP_H + TN_H: 1339855\n",
      "    len(label_mask_current_deforestation_test): 44583549\n",
      "ic| TP_H + FN_H + FP_H + TN_H: 1339855\n"
     ]
    },
    {
     "name": "stdout",
     "output_type": "stream",
     "text": [
      "cm_correct [[42828440     9264]\n",
      " [  130261   275729]]\n",
      "cm_incorrect [[849764  39695]\n",
      " [229982 220414]]\n"
     ]
    },
    {
     "name": "stderr",
     "output_type": "stream",
     "text": [
      "    len(label_mask_current_deforestation_test): 44583549\n"
     ]
    },
    {
     "name": "stdout",
     "output_type": "stream",
     "text": [
      "[0.96749394 0.6791522  0.32196813 0.03005268 0.8473909  0.48937824]\n",
      "0.002478519873837905\n",
      "threshold 0.002478519873837905\n",
      "(43211764,) (43211764,)\n"
     ]
    },
    {
     "name": "stderr",
     "output_type": "stream",
     "text": [
      "ic| label_current_deforestation_test_classified_incorrect.shape: (1371785,)\n",
      "    predicted_test_classified_incorrect.shape: (1371785,)\n",
      "ic| TP_H + FN_H + FP_H + TN_H: 1371785\n",
      "    len(label_mask_current_deforestation_test): 44583549\n",
      "ic| TP_H + FN_H + FP_H + TN_H: 1371785\n",
      "    len(label_mask_current_deforestation_test): 44583549"
     ]
    },
    {
     "name": "stdout",
     "output_type": "stream",
     "text": [
      "cm_correct [[42803422     9095]\n",
      " [  126386   272861]]\n",
      "cm_incorrect [[874782  39864]\n",
      " [233857 223282]]\n"
     ]
    },
    {
     "name": "stderr",
     "output_type": "stream",
     "text": [
      "\n"
     ]
    },
    {
     "name": "stdout",
     "output_type": "stream",
     "text": [
      "[0.96774319 0.68343907 0.31861917 0.03076886 0.84850995 0.4884335 ]\n",
      "0.002626786669845198\n",
      "threshold 0.002626786669845198\n",
      "(43252625,) (43252625,)\n"
     ]
    },
    {
     "name": "stderr",
     "output_type": "stream",
     "text": [
      "ic| label_current_deforestation_test_classified_incorrect.shape: (1330924,)\n",
      "    predicted_test_classified_incorrect.shape: (1330924,)\n",
      "ic| TP_H + FN_H + FP_H + TN_H: 1330924\n",
      "    len(label_mask_current_deforestation_test): 44583549\n",
      "ic| TP_H + FN_H + FP_H + TN_H: 1330924\n",
      "    len(label_mask_current_deforestation_test): 44583549\n"
     ]
    },
    {
     "name": "stdout",
     "output_type": "stream",
     "text": [
      "cm_correct [[42835405     9312]\n",
      " [  131363   276545]]\n",
      "cm_incorrect [[842799  39647]\n",
      " [228880 219598]]\n",
      "[0.96742427 0.67795925 0.32292097 0.02985236 0.84706745 0.48965167]\n",
      "0.0025517243595544934\n",
      "threshold 0.0025517243595544934\n",
      "(43232111,) (43232111,)\n"
     ]
    },
    {
     "name": "stderr",
     "output_type": "stream",
     "text": [
      "ic| label_current_deforestation_test_classified_incorrect.shape: (1351438,)\n",
      "    predicted_test_classified_incorrect.shape: (1351438,)\n",
      "ic| TP_H + FN_H + FP_H + TN_H: 1351438"
     ]
    },
    {
     "name": "stdout",
     "output_type": "stream",
     "text": [
      "cm_correct [[42819365     9205]\n",
      " [  128832   274709]]\n",
      "cm_incorrect [[858839  39754]\n",
      " [231411 221434]]\n"
     ]
    },
    {
     "name": "stderr",
     "output_type": "stream",
     "text": [
      "\n",
      "    len(label_mask_current_deforestation_test): 44583549\n",
      "ic| TP_H + FN_H + FP_H + TN_H: 1351438\n",
      "    len(label_mask_current_deforestation_test): 44583549\n",
      "ic| self.threshold_optimal: 0.0025934532980447355\n"
     ]
    },
    {
     "name": "stdout",
     "output_type": "stream",
     "text": [
      "[0.96757821 0.68074619 0.32077708 0.03031248 0.84779546 0.48898409]\n",
      "threshold 0.0025934532980447355\n",
      "(43243694,) (43243694,)\n"
     ]
    },
    {
     "name": "stderr",
     "output_type": "stream",
     "text": [
      "ic| label_current_deforestation_test_classified_incorrect.shape: (1339855,)\n",
      "    predicted_test_classified_incorrect.shape: (1339855,)\n",
      "ic| TP_H + FN_H + FP_H + TN_H: 1339855\n",
      "    len(label_mask_current_deforestation_test): 44583549\n",
      "ic| TP_H + FN_H + FP_H + TN_H: "
     ]
    },
    {
     "name": "stdout",
     "output_type": "stream",
     "text": [
      "cm_correct [[42828440     9264]\n",
      " [  130261   275729]]\n",
      "cm_incorrect [[849764  39695]\n",
      " [229982 220414]]\n"
     ]
    },
    {
     "name": "stderr",
     "output_type": "stream",
     "text": [
      "1339855\n",
      "    len(label_mask_current_deforestation_test): 44583549\n"
     ]
    },
    {
     "name": "stdout",
     "output_type": "stream",
     "text": [
      "[0.96749394 0.6791522  0.32196813 0.03005268 0.8473909  0.48937824]\n",
      "threshold 0.0025934532980447355\n",
      "(44583549,) (44583549,)\n"
     ]
    },
    {
     "name": "stderr",
     "output_type": "stream",
     "text": [
      "ic| self.m_optimal: {'AA': array([0.03005268]),\n",
      "                     'f1': 70.8,\n",
      "                     'f1_H': array([0.62044321]),\n",
      "                     'f1_L': array([0.79807752]),\n",
      "                     'precision_H': array([0.8473909]),\n",
      "                     'precision_L': array([0.96749394]),\n",
      "                     'recall_H': array([0.48937824]),\n",
      "                     'recall_L': array([0.6791522]),\n",
      "                     'recall_Ltotal': array([0.32196813])}\n",
      "ic| self.m_audited_optimal: {'f1': array([0.91234628]),\n",
      "                             'precision': array([0.98740259]),\n",
      "                             'recall': array([0.84789452])}\n"
     ]
    },
    {
     "name": "stdout",
     "output_type": "stream",
     "text": [
      "cm_audited [[43717899     9264]\n",
      " [  130261   726125]]\n",
      "[0.98740259 0.84789452]\n"
     ]
    },
    {
     "name": "stderr",
     "output_type": "stream",
     "text": [
      "ic| n: 10, K: 1\n",
      "ic| self.label_mask.shape: (16795, 10420)\n",
      "ic| self.mask_amazon_ts.shape: (16795, 10420)\n",
      "ic| self.label_mask_test.shape: (70001560,)\n",
      "ic| self.error_mask_test.shape: (44583549,)\n",
      "ic| bounds: (0.0015, 0.2374395236968994)\n",
      "c:\\Users\\jchamorro\\Anaconda3\\envs\\tf2\\lib\\site-packages\\scipy\\optimize\\_minimize.py:783: RuntimeWarning: Method 'bounded' does not support relative tolerance in x; defaulting to absolute tolerance.\n",
      "  warn(\"Method 'bounded' does not support relative tolerance in x; \"\n"
     ]
    },
    {
     "name": "stdout",
     "output_type": "stream",
     "text": [
      "0.09162087876275432\n",
      "threshold 0.09162087876275432\n",
      "(44516031,) (44516031,)\n"
     ]
    },
    {
     "name": "stderr",
     "output_type": "stream",
     "text": [
      "ic| label_current_deforestation_test_classified_incorrect.shape: (67518,)\n",
      "    predicted_test_classified_incorrect.shape: (67518,)\n",
      "ic| TP_H + FN_H + FP_H + TN_H: 67518\n",
      "    len(label_mask_current_deforestation_test): 44583549\n",
      "ic| TP_H + FN_H + FP_H + TN_H: 67518\n",
      "    len(label_mask_current_deforestation_test): 44583549\n"
     ]
    },
    {
     "name": "stdout",
     "output_type": "stream",
     "text": [
      "cm_correct [[43613705    48794]\n",
      " [  357389   496143]]\n",
      "cm_incorrect [[64499   165]\n",
      " [ 2854     0]]\n",
      "[0.91045937 0.58128225 0.57934506 0.00151442 0.         0.        ]\n",
      "0.14731864493414507\n",
      "threshold 0.14731864493414507\n",
      "(44566741,) (44566741,)\n"
     ]
    },
    {
     "name": "stderr",
     "output_type": "stream",
     "text": [
      "ic| label_current_deforestation_test_classified_incorrect.shape: (16808,)\n",
      "    predicted_test_classified_incorrect.shape: (16808,)\n",
      "d:\\Jorge\\deforestation_uncertainty\\src\\metrics.py:299: RuntimeWarning: invalid value encountered in longlong_scalars\n",
      "  precision_H = TP_H / (TP_H + FP_H)\n",
      "ic| TP_H + FN_H + FP_H + TN_H: 16808\n",
      "    len(label_mask_current_deforestation_test): 44583549\n",
      "ic| TP_H + FN_H + FP_H + TN_H: 16808\n",
      "    len(label_mask_current_deforestation_test): 44583549\n"
     ]
    },
    {
     "name": "stdout",
     "output_type": "stream",
     "text": [
      "cm_correct [[43661690    48959]\n",
      " [  359949   496143]]\n",
      "cm_incorrect [[16514     0]\n",
      " [  294     0]]\n",
      "[9.10183782e-01 5.79544021e-01 5.79345062e-01 3.77000045e-04\n",
      "            nan 0.00000000e+00]\n",
      "0.057197766171390746\n",
      "threshold 0.057197766171390746\n",
      "(44391428,) (44391428,)\n"
     ]
    },
    {
     "name": "stderr",
     "output_type": "stream",
     "text": [
      "ic| label_current_deforestation_test_classified_incorrect.shape: (192121,)\n",
      "    predicted_test_classified_incorrect.shape: (192121,)\n",
      "ic| TP_H + FN_H + FP_H + TN_H: 192121\n",
      "    len(label_mask_current_deforestation_test): 44583549\n",
      "ic| TP_H + FN_H + FP_H + TN_H: 192121\n",
      "    len(label_mask_current_deforestation_test): 44583549\n"
     ]
    },
    {
     "name": "stdout",
     "output_type": "stream",
     "text": [
      "cm_correct [[43496989    46964]\n",
      " [  351682   495793]]\n",
      "cm_incorrect [[181215   1995]\n",
      " [  8561    350]]\n",
      "[0.91347141 0.58502375 0.57893637 0.00430924 0.14925373 0.0392773 ]\n",
      "0.03592311259136359\n",
      "threshold 0.03592311259136359\n",
      "(44149605,) (44149605,)\n"
     ]
    },
    {
     "name": "stderr",
     "output_type": "stream",
     "text": [
      "ic| label_current_deforestation_test_classified_incorrect.shape: (433944,)\n",
      "    predicted_test_classified_incorrect.shape: (433944,)\n",
      "ic| TP_H + FN_H + FP_H + TN_H: 433944\n",
      "    len(label_mask_current_deforestation_test): 44583549\n",
      "ic| TP_H + FN_H + FP_H + TN_H: 433944\n",
      "    len(label_mask_current_deforestation_test): 44583549\n"
     ]
    },
    {
     "name": "stdout",
     "output_type": "stream",
     "text": [
      "cm_correct [[43279695    43716]\n",
      " [  334604   491590]]\n",
      "cm_incorrect [[398509   5243]\n",
      " [ 25639   4553]]\n",
      "[0.91833456 0.59500553 0.57402853 0.00973328 0.46478154 0.15080154]\n",
      "0.02277465358002717\n",
      "threshold 0.02277465358002717\n",
      "(43536156,) (43536156,)\n"
     ]
    },
    {
     "name": "stderr",
     "output_type": "stream",
     "text": [
      "ic| label_current_deforestation_test_classified_incorrect.shape: (1047393,)\n",
      "    predicted_test_classified_incorrect.shape: (1047393,)\n",
      "ic| TP_H + FN_H + FP_H + TN_H: 1047393\n",
      "    len(label_mask_current_deforestation_test): 44583549\n",
      "ic| TP_H + FN_H + FP_H + TN_H: 1047393\n",
      "    len(label_mask_current_deforestation_test): 44583549\n"
     ]
    },
    {
     "name": "stdout",
     "output_type": "stream",
     "text": [
      "cm_correct [[42742521    38972]\n",
      " [  277072   477591]]\n",
      "cm_incorrect [[935683   9987]\n",
      " [ 83171  18552]]\n",
      "[0.92455518 0.63285334 0.55768193 0.02349281 0.65005782 0.18237763]\n",
      "0.014648459011336424\n",
      "threshold 0.014648459011336424\n",
      "(42421293,) (42421293,)\n"
     ]
    },
    {
     "name": "stderr",
     "output_type": "stream",
     "text": [
      "ic| label_current_deforestation_test_classified_incorrect.shape: (2162256,)\n",
      "    predicted_test_classified_incorrect.shape: (2162256,)\n"
     ]
    },
    {
     "name": "stdout",
     "output_type": "stream",
     "text": [
      "cm_correct [[41741981    32418]\n",
      " [  192601   454293]]\n"
     ]
    },
    {
     "name": "stderr",
     "output_type": "stream",
     "text": [
      "ic| TP_H + FN_H + FP_H + TN_H: 2162256\n",
      "    len(label_mask_current_deforestation_test): 44583549\n",
      "ic| TP_H + FN_H + FP_H + TN_H: 2162256\n",
      "    len(label_mask_current_deforestation_test): 44583549\n"
     ]
    },
    {
     "name": "stdout",
     "output_type": "stream",
     "text": [
      "cm_incorrect [[1936223   16541]\n",
      " [ 167642   41850]]\n",
      "[0.93339374 0.70226807 0.53047691 0.04849897 0.71672004 0.19976896]\n",
      "0.024935341810114326\n",
      "threshold 0.024935341810114326\n",
      "(43697579,) (43697579,)\n"
     ]
    },
    {
     "name": "stderr",
     "output_type": "stream",
     "text": [
      "ic| label_current_deforestation_test_classified_incorrect.shape: (885970,)\n",
      "    predicted_test_classified_incorrect.shape: (885970,)\n",
      "ic| TP_H + FN_H + FP_H + TN_H: 885970\n",
      "    len(label_mask_current_deforestation_test): 44583549\n",
      "ic| TP_H + FN_H + FP_H + TN_H: 885970\n",
      "    len(label_mask_current_deforestation_test): 44583549\n"
     ]
    },
    {
     "name": "stdout",
     "output_type": "stream",
     "text": [
      "cm_correct [[42883895    40019]\n",
      " [  292229   481436]]\n",
      "cm_incorrect [[794309   8940]\n",
      " [ 68014  14707]]\n",
      "[0.92325512 0.62227967 0.56217173 0.01987213 0.62193936 0.1777904 ]\n",
      "0.02112005363450583\n",
      "threshold 0.02112005363450583\n",
      "(43384912,) (43384912,)\n"
     ]
    },
    {
     "name": "stderr",
     "output_type": "stream",
     "text": [
      "ic| label_current_deforestation_test_classified_incorrect.shape: (1198637,)\n",
      "    predicted_test_classified_incorrect.shape: (1198637,)\n",
      "ic| TP_H + FN_H + FP_H + TN_H: 1198637\n",
      "    len(label_mask_current_deforestation_test): 44583549\n",
      "ic| TP_H + FN_H + FP_H + TN_H: 1198637\n",
      "    len(label_mask_current_deforestation_test): 44583549\n"
     ]
    },
    {
     "name": "stdout",
     "output_type": "stream",
     "text": [
      "cm_correct [[42608911    37999]\n",
      " [  263807   474195]]\n",
      "cm_incorrect [[1069293   10960]\n",
      " [  96436   21948]]\n",
      "[0.92581131 0.64253891 0.55371643 0.02688519 0.66695029 0.18539668]\n",
      "0.018648124449866185\n",
      "threshold 0.018648124449866185\n",
      "(43097435,) (43097435,)\n"
     ]
    },
    {
     "name": "stderr",
     "output_type": "stream",
     "text": [
      "ic| label_current_deforestation_test_classified_incorrect.shape: (1486114,)\n",
      "    predicted_test_classified_incorrect.shape: (1486114,)\n",
      "ic"
     ]
    },
    {
     "name": "stdout",
     "output_type": "stream",
     "text": [
      "cm_correct [[42352596    36241]\n",
      " [  240545   468053]]\n",
      "cm_incorrect [[1325608   12718]\n",
      " [ 119698   28090]]\n"
     ]
    },
    {
     "name": "stderr",
     "output_type": "stream",
     "text": [
      "| TP_H + FN_H + FP_H + TN_H: 1486114\n",
      "    len(label_mask_current_deforestation_test): 44583549\n",
      "ic| TP_H + FN_H + FP_H + TN_H: 1486114\n",
      "    len(label_mask_current_deforestation_test): 44583549\n"
     ]
    },
    {
     "name": "stdout",
     "output_type": "stream",
     "text": [
      "[0.92813518 0.6605339  0.54654443 0.03333324 0.68834542 0.19006956]\n",
      "0.019969336477172635\n",
      "threshold 0.019969336477172635\n",
      "(43261103,) (43261103,)\n"
     ]
    },
    {
     "name": "stderr",
     "output_type": "stream",
     "text": [
      "ic| label_current_deforestation_test_classified_incorrect.shape: (1322446,)\n",
      "    predicted_test_classified_incorrect.shape: (1322446,)\n",
      "ic| "
     ]
    },
    {
     "name": "stdout",
     "output_type": "stream",
     "text": [
      "cm_correct [[42498851    37219]\n",
      " [  253550   471483]]\n",
      "cm_incorrect [[1179353   11740]\n",
      " [ 106693   24660]]\n"
     ]
    },
    {
     "name": "stderr",
     "output_type": "stream",
     "text": [
      "TP_H + FN_H + FP_H + TN_H: 1322446\n",
      "    len(label_mask_current_deforestation_test): 44583549\n",
      "ic| TP_H + FN_H + FP_H + TN_H: 1322446\n",
      "    len(label_mask_current_deforestation_test): 44583549\n"
     ]
    },
    {
     "name": "stdout",
     "output_type": "stream",
     "text": [
      "[0.92683536 0.65029178 0.55054964 0.0296622  0.67747253 0.18773838]\n",
      "0.019907422443378293\n",
      "threshold 0.019907422443378293\n",
      "(43253952,) (43253952,)\n"
     ]
    },
    {
     "name": "stderr",
     "output_type": "stream",
     "text": [
      "ic| label_current_deforestation_test_classified_incorrect.shape: (1329597,)\n",
      "    predicted_test_classified_incorrect.shape: (1329597,)\n",
      "ic| TP_H + FN_H + FP_H + TN_H: 1329597\n",
      "    len(label_mask_current_deforestation_test): 44583549\n",
      "ic| TP_H + FN_H + FP_H "
     ]
    },
    {
     "name": "stdout",
     "output_type": "stream",
     "text": [
      "cm_correct [[42492465    37183]\n",
      " [  252971   471333]]\n",
      "cm_incorrect [[1185739   11776]\n",
      " [ 107272   24810]]\n"
     ]
    },
    {
     "name": "stderr",
     "output_type": "stream",
     "text": [
      "+ TN_H: 1329597\n",
      "    len(label_mask_current_deforestation_test): 44583549\n"
     ]
    },
    {
     "name": "stdout",
     "output_type": "stream",
     "text": [
      "[0.92687939 0.65073919 0.55037448 0.02982259 0.67812825 0.18783786]\n",
      "0.019426413411821213\n",
      "threshold 0.019426413411821213\n",
      "(43196945,) (43196945,)\n"
     ]
    },
    {
     "name": "stderr",
     "output_type": "stream",
     "text": [
      "ic| label_current_deforestation_test_classified_incorrect.shape: (1386604,)\n",
      "    predicted_test_classified_incorrect.shape: (1386604,)\n",
      "ic| TP_H + FN_H + FP_H + TN_H: 1386604\n",
      "    len(label_mask_current_deforestation_test): 44583549\n",
      "ic| TP_H + FN_H + FP_H + TN_H: 1386604\n",
      "    len(label_mask_current_deforestation_test): 44583549\n"
     ]
    },
    {
     "name": "stdout",
     "output_type": "stream",
     "text": [
      "cm_correct [[42441720    36815]\n",
      " [  248285   470125]]\n",
      "cm_incorrect [[1236484   12144]\n",
      " [ 111958   26018]]\n",
      "[0.92737799 0.65439651 0.5489639  0.03110125 0.68177768 0.18856903]\n",
      "0.01978249065408643\n",
      "threshold 0.01978249065408643\n",
      "(43239219,) (43239219,)\n"
     ]
    },
    {
     "name": "stderr",
     "output_type": "stream",
     "text": [
      "ic| label_current_deforestation_test_classified_incorrect.shape: (1344330,)\n",
      "    predicted_test_classified_incorrect.shape: (1344330,)\n",
      "ic| TP_H + FN_H + FP_H + TN_H: 1344330\n",
      "    len(label_mask_current_deforestation_test): 44583549\n",
      "ic| TP_H + FN_H + FP_H + TN_H: 1344330\n",
      "    len(label_mask_current_deforestation_test): 44583549\n"
     ]
    },
    {
     "name": "stdout",
     "output_type": "stream",
     "text": [
      "cm_correct [[42479354    37089]\n",
      " [  251752   471024]]\n",
      "cm_incorrect [[1198850   11870]\n",
      " [ 108491   25119]]\n",
      "[0.92700639 0.65168738 0.55001366 0.03015305 0.67909378 0.1880024 ]\n",
      "0.0198373534923275\n",
      "threshold 0.0198373534923275\n",
      "(43245695,) (43245695,)\n"
     ]
    },
    {
     "name": "stderr",
     "output_type": "stream",
     "text": [
      "ic| label_current_deforestation_test_classified_incorrect.shape: (1337854,)\n",
      "    predicted_test_classified_incorrect.shape: (1337854,)\n",
      "ic| TP_H + FN_H + FP_H + TN_H: 1337854\n",
      "    len(label_mask_current_deforestation_test): 44583549\n",
      "ic| TP_H + FN_H + FP_H + TN_H: 1337854\n",
      "    len(label_mask_current_deforestation_test): 44583549\n"
     ]
    },
    {
     "name": "stdout",
     "output_type": "stream",
     "text": [
      "cm_correct [[42485126    37129]\n",
      " [  252272   471168]]\n",
      "cm_incorrect [[1193078   11830]\n",
      " [ 107971   24975]]\n",
      "[0.92695412 0.65128829 0.55018181 0.0300078  0.67857628 0.18785823]\n",
      "0.019870687119896334\n",
      "threshold 0.019870687119896334\n",
      "(43249572,) (43249572,)\n"
     ]
    },
    {
     "name": "stderr",
     "output_type": "stream",
     "text": [
      "ic| label_current_deforestation_test_classified_incorrect.shape: (1333977,)\n",
      "    predicted_test_classified_incorrect.shape: (1333977,)\n",
      "ic| TP_H + FN_H + FP_H + TN_H: 1333977\n",
      "    len(label_mask_current_deforestation_test): 44583549\n"
     ]
    },
    {
     "name": "stdout",
     "output_type": "stream",
     "text": [
      "cm_correct [[42488563    37158]\n",
      " [  252601   471250]]\n",
      "cm_incorrect [[1189641   11801]\n",
      " [ 107642   24893]]\n"
     ]
    },
    {
     "name": "stderr",
     "output_type": "stream",
     "text": [
      "ic| TP_H + FN_H + FP_H + TN_H: 1333977\n",
      "    len(label_mask_current_deforestation_test): 44583549\n",
      "ic| self.threshold_optimal: 0.0198373534923275\n"
     ]
    },
    {
     "name": "stdout",
     "output_type": "stream",
     "text": [
      "[0.92691303 0.65103177 0.55027756 0.02992083 0.67839429 0.18782208]\n",
      "threshold 0.0198373534923275\n",
      "(43245695,) (43245695,)\n"
     ]
    },
    {
     "name": "stderr",
     "output_type": "stream",
     "text": [
      "ic| label_current_deforestation_test_classified_incorrect.shape: (1337854,)\n",
      "    predicted_test_classified_incorrect.shape: (1337854,)\n",
      "ic| TP_H + FN_H + FP_H + TN_H: 1337854\n",
      "    len(label_mask_current_deforestation_test): 44583549\n",
      "ic| TP_H + FN_H + FP_H +"
     ]
    },
    {
     "name": "stdout",
     "output_type": "stream",
     "text": [
      "cm_correct [[42485126    37129]\n",
      " [  252272   471168]]\n",
      "cm_incorrect [[1193078   11830]\n",
      " [ 107971   24975]]\n"
     ]
    },
    {
     "name": "stderr",
     "output_type": "stream",
     "text": [
      " TN_H: 1337854\n",
      "    len(label_mask_current_deforestation_test): 44583549\n"
     ]
    },
    {
     "name": "stdout",
     "output_type": "stream",
     "text": [
      "[0.92695412 0.65128829 0.55018181 0.0300078  0.67857628 0.18785823]\n",
      "threshold 0.0198373534923275\n",
      "(44583549,) (44583549,)\n"
     ]
    },
    {
     "name": "stderr",
     "output_type": "stream",
     "text": [
      "ic| self.m_optimal: {'AA': array([0.0300078]),\n",
      "                     'f1': 70.8,\n",
      "                     'f1_H': array([0.29425453]),\n",
      "                     'f1_L': array([0.76504643]),\n",
      "                     'precision_H': array([0.67857628]),\n",
      "                     'precision_L': array([0.92695412]),\n",
      "                     'recall_H': array([0.18785823]),\n",
      "                     'recall_L': array([0.65128829]),\n",
      "                     'recall_Ltotal': array([0.55018181])}\n",
      "ic| self.m_audited_optimal: {'f1': array([0.80676055]),\n",
      "                             'precision': array([0.94209839]),\n",
      "                             'recall': array([0.70542255])}\n"
     ]
    },
    {
     "name": "stdout",
     "output_type": "stream",
     "text": [
      "cm_audited [[43690034    37129]\n",
      " [  252272   604114]]\n",
      "[0.94209839 0.70542255]\n"
     ]
    },
    {
     "name": "stderr",
     "output_type": "stream",
     "text": [
      "ic| self.label_mask.shape: (16795, 10420)\n",
      "ic| self.mask_amazon_ts.shape: (16795, 10420)\n",
      "ic| self.label_mask_test.shape: (70001560,)\n",
      "ic| self.error_mask_test.shape: (44583549,)\n",
      "ic| bounds: (0.0015, 0.8037398562431336)\n",
      "c:\\Users\\jchamorro\\Anaconda3\\envs\\tf2\\lib\\site-packages\\scipy\\optimize\\_minimize.py:783: RuntimeWarning: Method 'bounded' does not support relative tolerance in x; defaulting to absolute tolerance.\n",
      "  warn(\"Method 'bounded' does not support relative tolerance in x; \"\n"
     ]
    },
    {
     "name": "stdout",
     "output_type": "stream",
     "text": [
      "0.30792835795504747\n",
      "threshold 0.30792835795504747\n",
      "(44559722,) (44559722,)\n"
     ]
    },
    {
     "name": "stderr",
     "output_type": "stream",
     "text": [
      "ic| label_current_deforestation_test_classified_incorrect.shape: (23827,)\n",
      "    predicted_test_classified_incorrect.shape: (23827,)\n",
      "d:\\Jorge\\deforestation_uncertainty\\src\\metrics.py:299: RuntimeWarning: invalid value encountered in longlong_scalars\n",
      "  precision_H = TP_H / (TP_H + FP_H)\n",
      "ic| TP_H + FN_H + FP_H + TN_H: 23827\n",
      "    len(label_mask_current_deforestation_test): 44583549\n",
      "ic| TP_H + FN_H + FP_H + TN_H: 23827\n",
      "    len(label_mask_current_deforestation_test): 44583549\n"
     ]
    },
    {
     "name": "stdout",
     "output_type": "stream",
     "text": [
      "cm_correct [[43654635    48959]\n",
      " [  359985   496143]]\n",
      "cm_incorrect [[23569     0]\n",
      " [  258     0]]\n",
      "[9.10183782e-01 5.79519651e-01 5.79345062e-01 5.34434798e-04\n",
      "            nan 0.00000000e+00]\n",
      "0.4973114982880861\n",
      "threshold 0.4973114982880861\n",
      "(44582153,) (44582153,)\n"
     ]
    },
    {
     "name": "stderr",
     "output_type": "stream",
     "text": [
      "ic| label_current_deforestation_test_classified_incorrect.shape: (1396,)\n",
      "    predicted_test_classified_incorrect.shape: (1396,)\n",
      "ic| np.all(label_current_deforestation_test_classified_incorrect) == 0: True\n",
      "ic| np.all(predicted_test_classified_incorrect) == 0: True\n"
     ]
    },
    {
     "name": "stdout",
     "output_type": "stream",
     "text": [
      "cm_correct [[43676808    48959]\n",
      " [  360243   496143]]\n",
      "cm_incorrect [[1396]]\n",
      "[           nan            nan            nan 3.13119981e-05\n",
      "            nan            nan]\n",
      "0.19088314033303858\n",
      "threshold 0.19088314033303858\n",
      "(44510894,) (44510894,)\n"
     ]
    },
    {
     "name": "stderr",
     "output_type": "stream",
     "text": [
      "ic| label_current_deforestation_test_classified_incorrect.shape: (72655,)\n",
      "    predicted_test_classified_incorrect.shape: (72655,)\n",
      "ic| TP_H + FN_H + FP_H + TN_H: 72655\n",
      "    len(label_mask_current_deforestation_test): 44583549\n",
      "ic| TP_H + FN_H + FP_H + TN_H: 72655\n",
      "    len(label_mask_current_deforestation_test): 44583549\n"
     ]
    },
    {
     "name": "stdout",
     "output_type": "stream",
     "text": [
      "cm_correct [[43607035    48955]\n",
      " [  358761   496143]]\n",
      "cm_incorrect [[71169     4]\n",
      " [ 1482     0]]\n",
      "[0.91019046 0.58034937 0.57934506 0.00162964 0.         0.        ]\n",
      "0.11854521762200892\n",
      "threshold 0.11854521762200892\n",
      "(44425617,) (44425617,)\n"
     ]
    },
    {
     "name": "stderr",
     "output_type": "stream",
     "text": [
      "ic| label_current_deforestation_test_classified_incorrect.shape: (157932,)\n",
      "    predicted_test_classified_incorrect.shape: (157932,)\n",
      "ic| TP_H + FN_H + FP_H + TN_H: 157932\n",
      "    len(label_mask_current_deforestation_test): 44583549\n",
      "ic| TP_H + FN_H + FP_H + TN_H: 157932\n",
      "    len(label_mask_current_deforestation_test): 44583549\n"
     ]
    },
    {
     "name": "stdout",
     "output_type": "stream",
     "text": [
      "cm_correct [[43523806    48611]\n",
      " [  357076   496124]]\n",
      "cm_incorrect [[154398    348]\n",
      " [  3167     19]]\n",
      "[0.91076211 0.58148617 0.57932288 0.00354238 0.05177112 0.00596359]\n",
      "0.07383792271102967\n",
      "threshold 0.07383792271102967\n",
      "(44273353,) (44273353,)\n"
     ]
    },
    {
     "name": "stderr",
     "output_type": "stream",
     "text": [
      "ic| label_current_deforestation_test_classified_incorrect.shape: (310196,)\n",
      "    predicted_test_classified_incorrect.shape: (310196,)\n",
      "ic| TP_H + FN_H + FP_H + TN_H: 310196\n",
      "    len(label_mask_current_deforestation_test): 44583549\n",
      "ic| TP_H + FN_H + FP_H + TN_H: 310196\n",
      "    len(label_mask_current_deforestation_test): 44583549\n"
     ]
    },
    {
     "name": "stdout",
     "output_type": "stream",
     "text": [
      "cm_correct [[43378066    47294]\n",
      " [  352347   495646]]\n",
      "cm_incorrect [[300138   1665]\n",
      " [  7896    497]]\n",
      "[0.91289277 0.58449303 0.57876472 0.00695763 0.22987974 0.05921601]\n",
      "0.046207294910979274\n",
      "threshold 0.046207294910979274\n",
      "(43889060,) (43889060,)\n"
     ]
    },
    {
     "name": "stderr",
     "output_type": "stream",
     "text": [
      "ic| label_current_deforestation_test_classified_incorrect.shape: (694489,)\n",
      "    predicted_test_classified_incorrect.shape: (694489,)\n",
      "ic| TP_H + FN_H + FP_H + TN_H: 694489\n",
      "    len(label_mask_current_deforestation_test): 44583549\n",
      "ic| TP_H + FN_H + FP_H + TN_H: 694489\n",
      "    len(label_mask_current_deforestation_test): 44583549\n"
     ]
    },
    {
     "name": "stdout",
     "output_type": "stream",
     "text": [
      "cm_correct [[43015536    44845]\n",
      " [  336287   492392]]\n",
      "cm_incorrect [[662668   4114]\n",
      " [ 23956   3751]]\n",
      "[0.9165266  0.59418906 0.57496503 0.01557725 0.47692308 0.13538095]\n",
      "0.0291306278000504\n",
      "threshold 0.0291306278000504\n",
      "(42956746,) (42956746,)\n"
     ]
    },
    {
     "name": "stderr",
     "output_type": "stream",
     "text": [
      "ic| label_current_deforestation_test_classified_incorrect.shape: (1626803,)\n",
      "    predicted_test_classified_incorrect.shape: (1626803,)\n",
      "ic"
     ]
    },
    {
     "name": "stdout",
     "output_type": "stream",
     "text": [
      "cm_correct [[42147693    40753]\n",
      " [  285454   482846]]\n",
      "cm_incorrect [[1530511    8206]\n",
      " [  74789   13297]]\n"
     ]
    },
    {
     "name": "stderr",
     "output_type": "stream",
     "text": [
      "| TP_H + FN_H + FP_H + TN_H: 1626803\n",
      "    len(label_mask_current_deforestation_test): 44583549\n",
      "ic| TP_H + FN_H + FP_H + TN_H: 1626803\n",
      "    len(label_mask_current_deforestation_test): 44583549\n"
     ]
    },
    {
     "name": "stdout",
     "output_type": "stream",
     "text": [
      "[0.92216754 0.62846024 0.56381818 0.03648886 0.61837883 0.15095475]\n",
      "0.018576667110928882\n",
      "threshold 0.018576667110928882\n",
      "(41607698,) (41607698,)\n"
     ]
    },
    {
     "name": "stderr",
     "output_type": "stream",
     "text": [
      "ic| label_current_deforestation_test_classified_incorrect.shape: (2975851,)\n",
      "    predicted_test_classified_incorrect.shape: (2975851,)\n"
     ]
    },
    {
     "name": "stdout",
     "output_type": "stream",
     "text": [
      "cm_correct [[40898049    35423]\n",
      " [  210003   464223]]\n"
     ]
    },
    {
     "name": "stderr",
     "output_type": "stream",
     "text": [
      "ic| TP_H + FN_H + FP_H + TN_H: 2975851\n",
      "    len(label_mask_current_deforestation_test): 44583549\n",
      "ic| TP_H + FN_H + FP_H + TN_H: 2975851\n",
      "    len(label_mask_current_deforestation_test): 44583549\n"
     ]
    },
    {
     "name": "stdout",
     "output_type": "stream",
     "text": [
      "cm_incorrect [[2780155   13536]\n",
      " [ 150240   31920]]\n",
      "[0.92910381 0.68852729 0.54207215 0.06674774 0.70221753 0.17523057]\n",
      "0.035653334221857756\n",
      "threshold 0.035653334221857756\n",
      "(43437285,) (43437285,)\n"
     ]
    },
    {
     "name": "stderr",
     "output_type": "stream",
     "text": [
      "ic| label_current_deforestation_test_classified_incorrect.shape: (1146264,)\n",
      "    predicted_test_classified_incorrect.shape: (1146264,)\n",
      "ic| TP_H + FN_H + FP_H + TN_H: 1146264\n",
      "    len(label_mask_current_deforestation_test): 44583549\n",
      "ic| TP_H + FN_H + FP_H + TN_H: 1146264\n",
      "    len(label_mask_current_deforestation_test): 44583549\n"
     ]
    },
    {
     "name": "stdout",
     "output_type": "stream",
     "text": [
      "cm_correct [[42594193    42650]\n",
      " [  312268   488174]]\n",
      "cm_incorrect [[1084011    6309]\n",
      " [  47975    7969]]\n",
      "[0.91965322 0.60988054 0.57003968 0.02571047 0.55813139 0.14244602]\n",
      "0.03461115119898272\n",
      "threshold 0.03461115119898272\n",
      "(43373038,) (43373038,)\n"
     ]
    },
    {
     "name": "stderr",
     "output_type": "stream",
     "text": [
      "ic| label_current_deforestation_test_classified_incorrect.shape: (1210511,)\n",
      "    predicted_test_classified_incorrect.shape: (1210511,)\n",
      "ic| TP_H + FN_H + FP_H + TN_H: 1210511\n",
      "    len(label_mask_current_deforestation_test): 44583549\n",
      "ic| TP_H + FN_H + FP_H + TN_H: 1210511\n",
      "    len(label_mask_current_deforestation_test): 44583549\n"
     ]
    },
    {
     "name": "stdout",
     "output_type": "stream",
     "text": [
      "cm_correct [[42534570    42363]\n",
      " [  308613   487492]]\n",
      "cm_incorrect [[1143634    6596]\n",
      " [  51630    8651]]\n",
      "[0.92004794 0.61234636 0.56924331 0.02715152 0.56739031 0.14351122]\n",
      "0.03292920044892746\n",
      "threshold 0.03292920044892746\n",
      "(43259882,) (43259882,)\n"
     ]
    },
    {
     "name": "stderr",
     "output_type": "stream",
     "text": [
      "ic| label_current_deforestation_test_classified_incorrect.shape: (1323667,)\n",
      "    predicted_test_classified_incorrect.shape: (1323667,)\n",
      "ic| TP_H + FN_H + FP_H + TN_H: 1323667\n",
      "    len(label_mask_current_deforestation_test): 44583549\n",
      "ic| TP_H + FN_H +"
     ]
    },
    {
     "name": "stdout",
     "output_type": "stream",
     "text": [
      "cm_correct [[42429438    41884]\n",
      " [  302272   486288]]\n",
      "cm_incorrect [[1248766    7075]\n",
      " [  57971    9855]]\n"
     ]
    },
    {
     "name": "stderr",
     "output_type": "stream",
     "text": [
      " FP_H + TN_H: 1323667\n",
      "    len(label_mask_current_deforestation_test): 44583549\n"
     ]
    },
    {
     "name": "stdout",
     "output_type": "stream",
     "text": [
      "[0.92070007 0.6166785  0.5678374  0.02968958 0.58210278 0.14529826]\n",
      "0.03147827480579215\n",
      "threshold 0.03147827480579215\n",
      "(43152075,) (43152075,)\n"
     ]
    },
    {
     "name": "stderr",
     "output_type": "stream",
     "text": [
      "ic| label_current_deforestation_test_classified_incorrect.shape: (1431474,)\n",
      "    predicted_test_classified_incorrect.shape: (1431474,)\n",
      "ic"
     ]
    },
    {
     "name": "stdout",
     "output_type": "stream",
     "text": [
      "cm_correct [[42329205    41462]\n",
      " [  296329   485079]]\n",
      "cm_incorrect [[1348999    7497]\n",
      " [  63914   11064]]\n"
     ]
    },
    {
     "name": "stderr",
     "output_type": "stream",
     "text": [
      "| TP_H + FN_H + FP_H + TN_H: 1431474\n",
      "    len(label_mask_current_deforestation_test): 44583549\n",
      "ic| TP_H + FN_H + FP_H + TN_H: 1431474\n",
      "    len(label_mask_current_deforestation_test): 44583549\n"
     ]
    },
    {
     "name": "stdout",
     "output_type": "stream",
     "text": [
      "[0.92125589 0.62077557 0.56642565 0.03210767 0.59608857 0.14756329]\n",
      "0.032895866627175155\n",
      "threshold 0.032895866627175155\n",
      "(43257500,) (43257500,)\n"
     ]
    },
    {
     "name": "stderr",
     "output_type": "stream",
     "text": [
      "ic| label_current_deforestation_test_classified_incorrect.shape: (1326049,)\n",
      "    predicted_test_classified_incorrect.shape: (1326049,)\n",
      "ic| TP_H + FN_H + FP_H + TN_H: 1326049\n",
      "    len(label_mask_current_deforestation_test): 44583549\n",
      "ic| TP_H + FN_H + FP_H + TN_H: 1326049"
     ]
    },
    {
     "name": "stdout",
     "output_type": "stream",
     "text": [
      "cm_correct [[42427226    41876]\n",
      " [  302133   486265]]\n",
      "cm_incorrect [[1250978    7083]\n",
      " [  58110    9878]]\n"
     ]
    },
    {
     "name": "stderr",
     "output_type": "stream",
     "text": [
      "\n",
      "    len(label_mask_current_deforestation_test): 44583549\n"
     ]
    },
    {
     "name": "stdout",
     "output_type": "stream",
     "text": [
      "[0.92071057 0.61677604 0.56781054 0.02974301 0.58239491 0.14529035]\n",
      "0.03251272265479459\n",
      "threshold 0.03251272265479459\n",
      "(43230120,) (43230120,)\n"
     ]
    },
    {
     "name": "stderr",
     "output_type": "stream",
     "text": [
      "ic| label_current_deforestation_test_classified_incorrect.shape: (1353429,)\n",
      "    predicted_test_classified_incorrect.shape: (1353429,)\n",
      "ic| TP_H + FN_H + FP_H + TN_H: 1353429\n",
      "    len(label_mask_current_deforestation_test): 44583549\n",
      "ic| TP_H + FN_H + FP_H + TN_H: 1353429\n",
      "    len(label_mask_current_deforestation_test): 44583549\n"
     ]
    },
    {
     "name": "stdout",
     "output_type": "stream",
     "text": [
      "cm_correct [[42401714    41767]\n",
      " [  300677   485962]]\n",
      "cm_incorrect [[1276490    7192]\n",
      " [  59566   10181]]\n",
      "[0.92085521 0.61777003 0.56745673 0.03035714 0.58602429 0.14597044]\n",
      "0.032749518652310426\n",
      "threshold 0.032749518652310426\n",
      "(43247052,) (43247052,)\n"
     ]
    },
    {
     "name": "stderr",
     "output_type": "stream",
     "text": [
      "ic| label_current_deforestation_test_classified_incorrect.shape: (1336497,)\n",
      "    predicted_test_classified_incorrect.shape: (1336497,)\n",
      "ic| TP_H + FN_H + FP_H + TN_H"
     ]
    },
    {
     "name": "stdout",
     "output_type": "stream",
     "text": [
      "cm_correct [[42417487    41833]\n",
      " [  301573   486159]]\n",
      "cm_incorrect [[1260717    7126]\n",
      " [  58670    9984]]\n"
     ]
    },
    {
     "name": "stderr",
     "output_type": "stream",
     "text": [
      ": 1336497\n",
      "    len(label_mask_current_deforestation_test): 44583549\n",
      "ic| TP_H + FN_H + FP_H + TN_H: 1336497\n",
      "    len(label_mask_current_deforestation_test): 44583549\n"
     ]
    },
    {
     "name": "stdout",
     "output_type": "stream",
     "text": [
      "[0.92076963 0.61716294 0.56768677 0.02997736 0.58351841 0.14542488]\n",
      "0.03265907062965931\n",
      "threshold 0.03265907062965931\n",
      "(43240662,) (43240662,)\n"
     ]
    },
    {
     "name": "stderr",
     "output_type": "stream",
     "text": [
      "ic| label_current_deforestation_test_classified_incorrect.shape: (1342887,)\n",
      "    predicted_test_classified_incorrect.shape: (1342887,)\n",
      "ic| TP_H + FN_H + FP_H + TN_H: 1342887\n",
      "    len(label_mask_current_deforestation_test): 44583549\n",
      "ic| TP_H + FN_H + FP_H + TN_H: 1342887\n",
      "    len(label_mask_current_deforestation_test): "
     ]
    },
    {
     "name": "stdout",
     "output_type": "stream",
     "text": [
      "cm_correct [[42411544    41804]\n",
      " [  301223   486091]]\n",
      "cm_incorrect [[1266660    7155]\n",
      " [  59020   10052]]\n"
     ]
    },
    {
     "name": "stderr",
     "output_type": "stream",
     "text": [
      "44583549\n"
     ]
    },
    {
     "name": "stdout",
     "output_type": "stream",
     "text": [
      "[0.92081001 0.61740424 0.56760736 0.03012068 0.58418086 0.1455293 ]\n",
      "0.032782852471397624\n",
      "threshold 0.032782852471397624\n",
      "(43249459,) (43249459,)\n"
     ]
    },
    {
     "name": "stderr",
     "output_type": "stream",
     "text": [
      "ic| label_current_deforestation_test_classified_incorrect.shape: (1334090,)\n",
      "    predicted_test_classified_incorrect.shape: (1334090,)\n",
      "ic| TP_H + FN_H + FP_H + TN_H: 1334090\n",
      "    len(label_mask_current_deforestation_test): 44583549\n",
      "ic| TP_H + FN_H + FP_H + TN_H: 1334090\n",
      "    len(label_mask_current_deforestation_test): 44583549\n"
     ]
    },
    {
     "name": "stdout",
     "output_type": "stream",
     "text": [
      "cm_correct [[42419736    41845]\n",
      " [  301699   486179]]\n",
      "cm_incorrect [[1258468    7114]\n",
      " [  58544    9964]]\n",
      "[0.92075171 0.61707396 0.56771012 0.02992337 0.58344068 0.14544287]\n",
      "0.03271618483322323\n",
      "threshold 0.03271618483322323\n",
      "(43244722,) (43244722,)\n"
     ]
    },
    {
     "name": "stderr",
     "output_type": "stream",
     "text": [
      "ic| label_current_deforestation_test_classified_incorrect.shape: (1338827,)\n",
      "    predicted_test_classified_incorrect.shape: (1338827,)\n",
      "ic| TP_H + FN_H + FP_H + TN_H: 1338827\n",
      "    len(label_mask_current_deforestation_test): 44583549\n",
      "ic| TP_H + FN_H + FP_H + TN_H: 1338827\n",
      "    len(label_mask_current_deforestation_test): 44583549\n"
     ]
    },
    {
     "name": "stdout",
     "output_type": "stream",
     "text": [
      "cm_correct [[42415313    41821]\n",
      " [  301448   486140]]\n",
      "cm_incorrect [[1262891    7138]\n",
      " [  58795   10003]]\n",
      "[0.92078771 0.61725166 0.56766458 0.03002962 0.58357155 0.14539667]\n"
     ]
    },
    {
     "name": "stderr",
     "output_type": "stream",
     "text": [
      "ic| self.threshold_optimal: 0.032749518652310426\n"
     ]
    },
    {
     "name": "stdout",
     "output_type": "stream",
     "text": [
      "threshold 0.032749518652310426\n",
      "(43247052,) (43247052,)\n"
     ]
    },
    {
     "name": "stderr",
     "output_type": "stream",
     "text": [
      "ic| label_current_deforestation_test_classified_incorrect.shape: (1336497,)\n",
      "    predicted_test_classified_incorrect.shape: (1336497,)\n",
      "ic| TP_H + FN_H + FP_H + TN_H: 1336497\n",
      "    len(label_mask_current_deforestation_test): 44583549\n",
      "ic| TP_H + FN_H + FP_H + TN_H: "
     ]
    },
    {
     "name": "stdout",
     "output_type": "stream",
     "text": [
      "cm_correct [[42417487    41833]\n",
      " [  301573   486159]]\n",
      "cm_incorrect [[1260717    7126]\n",
      " [  58670    9984]]\n"
     ]
    },
    {
     "name": "stderr",
     "output_type": "stream",
     "text": [
      "1336497\n",
      "    len(label_mask_current_deforestation_test): 44583549\n"
     ]
    },
    {
     "name": "stdout",
     "output_type": "stream",
     "text": [
      "[0.92076963 0.61716294 0.56768677 0.02997736 0.58351841 0.14542488]\n",
      "threshold 0.032749518652310426\n",
      "(44583549,) (44583549,)\n"
     ]
    },
    {
     "name": "stderr",
     "output_type": "stream",
     "text": [
      "ic| self.m_optimal: {'AA': array([0.02997736]),\n",
      "                     'f1': 70.8,\n",
      "                     'f1_H': array([0.23282496]),\n",
      "                     'f1_L': array([0.73899845]),\n",
      "                     'precision_H': array([0.58351841]),\n",
      "                     'precision_L': array([0.92076963]),\n",
      "                     'recall_H': array([0.14542488]),\n",
      "                     'recall_L': array([0.61716294]),\n",
      "                     'recall_Ltotal': array([0.56768677])}\n",
      "ic| self.m_audited_optimal: {'f1': array([0.76366247]),\n",
      "                             'precision': array([0.9298864]),\n",
      "                             'recall': array([0.64785389])}\n",
      " 30%|███       | 3/10 [1:22:24<3:10:54, 1636.40s/it]"
     ]
    },
    {
     "name": "stdout",
     "output_type": "stream",
     "text": [
      "cm_audited [[43685330    41833]\n",
      " [  301573   554813]]\n",
      "[0.9298864  0.64785389]\n",
      "self.exp, results 133 {'pred_entropy': {'metrics': {'precision_L': array([0.96306586]), 'recall_L': array([0.80701865]), 'recall_Ltotal': array([0.40276581]), 'AA': array([0.02999741]), 'precision_H': array([0.80887505]), 'recall_H': array([0.35250896]), 'f1_L': array([0.87816385]), 'f1_H': array([0.49102743]), 'f1': 70.8}, 'metrics_audited': {'precision': array([0.98319471]), 'recall': array([0.90368712]), 'f1': array([0.94176581])}}, 'pred_var': {'metrics': {'precision_L': array([0.96749394]), 'recall_L': array([0.6791522]), 'recall_Ltotal': array([0.32196813]), 'AA': array([0.03005268]), 'precision_H': array([0.8473909]), 'recall_H': array([0.48937824]), 'f1_L': array([0.79807752]), 'f1_H': array([0.62044321]), 'f1': 70.8}, 'metrics_audited': {'precision': array([0.98740259]), 'recall': array([0.84789452]), 'f1': array([0.91234628])}}, 'MI': {'metrics': {'precision_L': array([0.92695412]), 'recall_L': array([0.65128829]), 'recall_Ltotal': array([0.55018181]), 'AA': array([0.0300078]), 'precision_H': array([0.67857628]), 'recall_H': array([0.18785823]), 'f1_L': array([0.76504643]), 'f1_H': array([0.29425453]), 'f1': 70.8}, 'metrics_audited': {'precision': array([0.94209839]), 'recall': array([0.70542255]), 'f1': array([0.80676055])}}, 'KL': {'metrics': {'precision_L': array([0.92076963]), 'recall_L': array([0.61716294]), 'recall_Ltotal': array([0.56768677]), 'AA': array([0.02997736]), 'precision_H': array([0.58351841]), 'recall_H': array([0.14542488]), 'f1_L': array([0.73899845]), 'f1_H': array([0.23282496]), 'f1': 70.8}, 'metrics_audited': {'precision': array([0.9298864]), 'recall': array([0.64785389]), 'f1': array([0.76366247])}}}\n",
      "D:/Jorge/datasets/deforestation/MT/deforestation_past_years.tif\n",
      "Loaded deforestation past years\n"
     ]
    },
    {
     "name": "stderr",
     "output_type": "stream",
     "text": [
      "ic| np.unique(deforestation_past_years, return_counts=True): (array([   0, 2008, 2009, 2010, 2011, 2012, 2013, 2014, 2015, 2016, 2017,\n",
      "                                                                    2018, 2019, 2020, 2021], dtype=uint16),\n",
      "                                                              array([161124576,   1332784,    240796,    338545,    313901,    287191,\n",
      "                                                                       708581,    648966,    876898,   1007787,   1098901,   1054092,\n",
      "                                                                      2096062,   2473828,   1400992], dtype=int64))\n"
     ]
    },
    {
     "name": "stdout",
     "output_type": "stream",
     "text": [
      "Label where deforestation past years is actual date (2020) = 1\n"
     ]
    },
    {
     "name": "stderr",
     "output_type": "stream",
     "text": [
      "ic| np.unique(deforestation_past_years, return_counts=True): (array([   0, 2008, 2009, 2010, 2011, 2012, 2013, 2014, 2015, 2016, 2017,\n",
      "                                                                    2018, 2019, 2020, 2021], dtype=uint16),\n",
      "                                                              array([161124576,   1332784,    240796,    338545,    313901,    287191,\n",
      "                                                                       708581,    648966,    876898,   1007787,   1098901,   1054092,\n",
      "                                                                      2096062,   2473828,   1400992], dtype=int64))\n"
     ]
    },
    {
     "name": "stdout",
     "output_type": "stream",
     "text": [
      "Past deforestation different from 0 (no deforestation)\n"
     ]
    },
    {
     "name": "stderr",
     "output_type": "stream",
     "text": [
      "ic| np.unique(deforestation_past_years, return_counts=True): (array([   0, 2008, 2009, 2010, 2011, 2012, 2013, 2014, 2015, 2016, 2017,\n",
      "                                                                    2018, 2019, 2020, 2021], dtype=uint16),\n",
      "                                                              array([161124576,   1332784,    240796,    338545,    313901,    287191,\n",
      "                                                                       708581,    648966,    876898,   1007787,   1098901,   1054092,\n",
      "                                                                      2096062,   2473828,   1400992], dtype=int64))\n"
     ]
    },
    {
     "name": "stdout",
     "output_type": "stream",
     "text": [
      "Past deforestation before 2008 is 2\n",
      "D:/Jorge/datasets/deforestation/MT/deforestation_before_2008/deforestation_before_2008_MT.tif\n"
     ]
    },
    {
     "name": "stderr",
     "output_type": "stream",
     "text": [
      "ic| np.unique(label_past_deforestation_before_2008, return_counts=True): (array([  0, 215], dtype=uint8), array([122623260,  52380640], dtype=int64))\n",
      "ic| np.unique(deforestation_past_years, return_counts=True): (array([   0, 2008, 2009, 2010, 2011, 2012, 2013, 2014, 2015, 2016, 2017,\n",
      "                                                                    2018, 2019, 2020, 2021], dtype=uint16),\n",
      "                                                              array([161124576,   1332784,    240796,    338545,    313901,    287191,\n",
      "                                                                       708581,    648966,    876898,   1007787,   1098901,   1054092,\n",
      "                                                                      2096062,   2473828,   1400992], dtype=int64))\n",
      "ic| label_per_date.shape: (16795, 10420, 1)\n"
     ]
    },
    {
     "name": "stdout",
     "output_type": "stream",
     "text": [
      "Mask label shape:  \n",
      " (16795, 10420, 1) \n",
      " Unique values:  \n",
      " [0 1 2]\n",
      "Tiles size:  3359 2084\n",
      "Mask size:  (16795, 10420)\n"
     ]
    },
    {
     "name": "stderr",
     "output_type": "stream",
     "text": [
      "ic| image_stack.shape: (16795, 10420, 21)\n"
     ]
    },
    {
     "name": "stdout",
     "output_type": "stream",
     "text": [
      "Image shape:  (16795, 10420, 21)\n",
      "mask:  (16795, 10420)\n",
      "image stack:  (16795, 10420, 21)\n",
      "ref : (16795, 10420, 1)\n",
      "Training tiles:  [2, 4, 5, 6, 7, 12, 14, 15, 18, 21, 23, 24]\n",
      "Validation tiles:  [9, 11, 25]\n",
      "Test tiles:  [1, 3, 8, 10, 13, 16, 17, 19, 20, 22]\n",
      "-5.0 -12.0\n"
     ]
    },
    {
     "name": "stderr",
     "output_type": "stream",
     "text": [
      "ic| self.path_models+ '/' + self.method +'_'+str(0)+'.h5': 'D:/Jorge/datasets/deforestation/experiments/MT/exp134/models/resunet_0.h5'\n"
     ]
    },
    {
     "name": "stdout",
     "output_type": "stream",
     "text": [
      "time:  0\n",
      "time:  1\n",
      "time:  2\n",
      "time:  3\n",
      "time:  4\n",
      "time:  5\n",
      "time:  6\n",
      "time:  7\n",
      "time:  8\n",
      "time:  9\n",
      "(44657480,)\n",
      "(array([0, 1], dtype=uint8), array([43783238,   874242], dtype=int64))\n",
      "(16795, 10420)\n",
      "(array([0., 1.], dtype=float32), array([172155365,   2848535], dtype=int64))\n"
     ]
    },
    {
     "name": "stderr",
     "output_type": "stream",
     "text": [
      "ic| self.predicted_unpad.shape: (16795, 10420)\n",
      "    self.predicted.shape: (16795, 10420)\n",
      "ic| predicted_test.shape: (70001560,)\n",
      "ic| predicted_test.shape: (44657480,)\n",
      "ic| np.unique(predicted, return_counts=True): (array([0., 1.], dtype=float32), array([172155365,   2848535], dtype=int64))\n",
      "    np.unique(predicted_larger_than_min_area, return_counts=True): (array([0., 1.], dtype=float32), array([172382254,   2621646], dtype=int64))\n",
      "ic| np.unique(ignored_polygons, return_counts=True): (array([0., 1.], dtype=float32), array([174777011,    226889], dtype=int64))\n",
      "ic| predicted.shape: (16795, 10420), label_mask.shape: (16795, 10420)\n",
      "ic| predicted_masked.shape: (70001560,)\n",
      "    label_masked.shape: (70001560,)\n",
      "ic| np.unique(label_masked, return_counts=True): (array([0, 1, 2], dtype=uint8),\n",
      "                                                  array([43713434,   859255, 25428871], dtype=int64))\n",
      "ic| predicted_masked.shape: (44572689,)\n",
      "    label_masked.shape: (44572689,)\n",
      "ic| self.f1: 81.67, self.precision: 79.1, self.recall: 84.4\n",
      "ic| self.label_mask_val.shape: (21000468,)\n",
      "ic| self.label_mask_val_valid.shape: (11783669,)\n",
      "ic| f1_val: 95.61\n",
      "    precision_val: 95.23\n",
      "    recall_val: 95.99\n",
      "    mAP_val: 99.16\n"
     ]
    },
    {
     "name": "stdout",
     "output_type": "stream",
     "text": [
      "(array([0., 1.], dtype=float32), array([173981176,   1022724], dtype=int64))\n"
     ]
    },
    {
     "name": "stderr",
     "output_type": "stream",
     "text": [
      "ic| self.label_mask.shape: (16795, 10420)\n",
      "ic| self.mask_amazon_ts.shape: (16795, 10420)\n",
      "ic| self.label_mask_test.shape: (70001560,)\n",
      "ic| self.error_mask_test.shape: (44572689,)\n",
      "ic| bounds: (0.0015, 0.3663794801235199)\n",
      "c:\\Users\\jchamorro\\Anaconda3\\envs\\tf2\\lib\\site-packages\\scipy\\optimize\\_minimize.py:783: RuntimeWarning: Method 'bounded' does not support relative tolerance in x; defaulting to absolute tolerance.\n",
      "  warn(\"Method 'bounded' does not support relative tolerance in x; \"\n"
     ]
    },
    {
     "name": "stdout",
     "output_type": "stream",
     "text": [
      "0.1408715596097929\n",
      "threshold 0.1408715596097929\n",
      "(43166871,) (43166871,)\n"
     ]
    },
    {
     "name": "stderr",
     "output_type": "stream",
     "text": [
      "ic| label_current_deforestation_test_classified_incorrect.shape: (1405818,)\n",
      "    predicted_test_classified_incorrect.shape: (1405818,)\n",
      "ic| TP_H + FN_H + FP_H + TN_H: 1405818\n",
      "    len(label_mask_current_deforestation_test): 44572689\n",
      "ic| TP_H + "
     ]
    },
    {
     "name": "stdout",
     "output_type": "stream",
     "text": [
      "cm_correct [[42490853    89332]\n",
      " [   16507   570179]]\n",
      "cm_incorrect [[1031000  102249]\n",
      " [ 117501  155068]]\n"
     ]
    },
    {
     "name": "stderr",
     "output_type": "stream",
     "text": [
      "FN_H + FP_H + TN_H: 1405818\n",
      "    len(label_mask_current_deforestation_test): 44572689\n"
     ]
    },
    {
     "name": "stdout",
     "output_type": "stream",
     "text": [
      "[0.86454813 0.971864   0.66357368 0.0315399  0.60263411 0.56891283]\n",
      "0.22700792051372695\n",
      "threshold 0.22700792051372695\n",
      "(43670175,) (43670175,)\n"
     ]
    },
    {
     "name": "stderr",
     "output_type": "stream",
     "text": [
      "ic| label_current_deforestation_test_classified_incorrect.shape: (902514,)\n",
      "    predicted_test_classified_incorrect.shape: (902514,)\n",
      "ic| TP_H + FN_H + FP_H + TN_H: 902514\n",
      "    len(label_mask_current_deforestation_test): 44572689\n",
      "ic| TP_H + FN_H + FP_H + TN_H: 902514\n",
      "    len(label_mask_current_deforestation_test): 44572689\n"
     ]
    },
    {
     "name": "stdout",
     "output_type": "stream",
     "text": [
      "cm_correct [[42880166   123955]\n",
      " [   27484   638570]]\n",
      "cm_incorrect [[641687  67626]\n",
      " [106524  86677]]\n",
      "[0.8374414  0.95873608 0.74316705 0.02024814 0.56173244 0.44863639]\n",
      "0.08763636090393405\n",
      "threshold 0.08763636090393405\n",
      "(42576034,) (42576034,)\n"
     ]
    },
    {
     "name": "stderr",
     "output_type": "stream",
     "text": [
      "ic| label_current_deforestation_test_classified_incorrect.shape: (1996655,)\n",
      "    predicted_test_classified_incorrect.shape: (1996655,)\n"
     ]
    },
    {
     "name": "stdout",
     "output_type": "stream",
     "text": [
      "cm_correct [[41983696    68799]\n",
      " [   10045   513494]]\n"
     ]
    },
    {
     "name": "stderr",
     "output_type": "stream",
     "text": [
      "ic| TP_H + FN_H + FP_H + TN_H: 1996655\n",
      "    len(label_mask_current_deforestation_test): 44572689\n",
      "ic| TP_H + FN_H + FP_H + TN_H: 1996655\n",
      "    len(label_mask_current_deforestation_test): 44572689\n"
     ]
    },
    {
     "name": "stdout",
     "output_type": "stream",
     "text": [
      "cm_incorrect [[1538157  122782]\n",
      " [ 123963  211753]]\n",
      "[0.88184814 0.98081327 0.59760374 0.04479548 0.63297712 0.6307504 ]\n",
      "0.16464580438984652\n",
      "threshold 0.16464580438984652\n",
      "(43331020,) (43331020,)\n"
     ]
    },
    {
     "name": "stderr",
     "output_type": "stream",
     "text": [
      "ic| label_current_deforestation_test_classified_incorrect.shape: (1241669,)\n",
      "    predicted_test_classified_incorrect.shape: (1241669,)\n",
      "ic| TP_H + FN_H + FP_H + TN_H: 1241669\n",
      "    len(label_mask_current_deforestation_test): 44572689\n",
      "ic| TP_H + FN_H + FP_H + TN_H: 1241669\n",
      "    len(label_mask_current_deforestation_test): 44572689\n"
     ]
    },
    {
     "name": "stdout",
     "output_type": "stream",
     "text": [
      "cm_correct [[42622040    98432]\n",
      " [   19315   591233]]\n",
      "cm_incorrect [[899813  93149]\n",
      " [114693 134014]]\n",
      "[0.85727563 0.96836449 0.6880763  0.02785717 0.58994643 0.5388429 ]\n",
      "0.14145802334339969\n",
      "threshold 0.14145802334339969\n",
      "(43171246,) (43171246,)\n"
     ]
    },
    {
     "name": "stderr",
     "output_type": "stream",
     "text": [
      "ic| label_current_deforestation_test_classified_incorrect.shape: (1401443,)\n",
      "    predicted_test_classified_incorrect.shape: (1401443,)\n",
      "ic| TP_H + FN_H + FP_H + TN_H: 1401443\n",
      "    len(label_mask_current_deforestation_test): 44572689\n",
      "ic| TP_H + FN_H + FP_H + TN_H"
     ]
    },
    {
     "name": "stdout",
     "output_type": "stream",
     "text": [
      "cm_correct [[42494373    89550]\n",
      " [   16580   570743]]\n",
      "cm_incorrect [[1027480  102031]\n",
      " [ 117428  154504]]\n"
     ]
    },
    {
     "name": "stderr",
     "output_type": "stream",
     "text": [
      ": 1401443\n",
      "    len(label_mask_current_deforestation_test): 44572689\n"
     ]
    },
    {
     "name": "stdout",
     "output_type": "stream",
     "text": [
      "[0.86437839 0.97177022 0.66423006 0.03144174 0.60227259 0.56817145]\n",
      "0.15123305381319865\n",
      "threshold 0.15123305381319865\n",
      "(43241860,) (43241860,)\n"
     ]
    },
    {
     "name": "stderr",
     "output_type": "stream",
     "text": [
      "ic| label_current_deforestation_test_classified_incorrect.shape: (1330829,)\n",
      "    predicted_test_classified_incorrect.shape: (1330829,)\n",
      "ic| TP_H + FN_H + FP_H + TN_H: 1330829\n",
      "    len(label_mask_current_deforestation_test): 44572689\n",
      "ic| TP_H + FN_H + FP_H + TN_H:"
     ]
    },
    {
     "name": "stdout",
     "output_type": "stream",
     "text": [
      "cm_correct [[42551206    93224]\n",
      " [   17732   579698]]\n",
      "cm_incorrect [[970647  98357]\n",
      " [116276 145549]]\n"
     ]
    },
    {
     "name": "stderr",
     "output_type": "stream",
     "text": [
      " 1330829\n",
      "    len(label_mask_current_deforestation_test): 44572689\n"
     ]
    },
    {
     "name": "stdout",
     "output_type": "stream",
     "text": [
      "[0.86146388 0.97031954 0.67465188 0.0298575  0.59674219 0.55590184]\n",
      "0.1563562686508534\n",
      "threshold 0.1563562686508534\n",
      "(43276817,) (43276817,)\n"
     ]
    },
    {
     "name": "stderr",
     "output_type": "stream",
     "text": [
      "ic| label_current_deforestation_test_classified_incorrect.shape: (1295872,)\n",
      "    predicted_test_classified_incorrect.shape: (1295872,)\n",
      "ic| TP_H + FN_H + FP_H + TN_H: 1295872\n",
      "    len(label_mask_current_deforestation_test): 44572689\n",
      "ic| TP_H + FN_H + FP_H + TN_H: 1295872\n",
      "    len(label_mask_current_deforestation_test): 44572689\n"
     ]
    },
    {
     "name": "stdout",
     "output_type": "stream",
     "text": [
      "cm_correct [[42579195    95133]\n",
      " [   18309   584180]]\n",
      "cm_incorrect [[942658  96448]\n",
      " [115699 141067]]\n",
      "[0.85995704 0.96961106 0.67986803 0.02907323 0.5939288  0.54939906]\n",
      "0.14980745896316952\n",
      "threshold 0.14980745896316952\n",
      "(43231973,) (43231973,)\n"
     ]
    },
    {
     "name": "stderr",
     "output_type": "stream",
     "text": [
      "ic| label_current_deforestation_test_classified_incorrect.shape: (1340716,)\n",
      "    predicted_test_classified_incorrect.shape: (1340716,)\n",
      "ic| TP_H + FN_H + FP_H + TN_H: 1340716\n",
      "    len(label_mask_current_deforestation_test): 44572689\n",
      "ic| TP_H + FN_H + FP_H + TN_H: "
     ]
    },
    {
     "name": "stdout",
     "output_type": "stream",
     "text": [
      "cm_correct [[42543265    92685]\n",
      " [   17548   578475]]\n",
      "cm_incorrect [[978588  98896]\n",
      " [116460 146772]]\n"
     ]
    },
    {
     "name": "stderr",
     "output_type": "stream",
     "text": [
      "1340716\n",
      "    len(label_mask_current_deforestation_test): 44572689\n"
     ]
    },
    {
     "name": "stdout",
     "output_type": "stream",
     "text": [
      "[0.86190327 0.97055818 0.67322855 0.03007932 0.59744045 0.55757659]\n",
      "0.14918585783917138\n",
      "threshold 0.14918585783917138\n",
      "(43227639,) (43227639,)\n"
     ]
    },
    {
     "name": "stderr",
     "output_type": "stream",
     "text": [
      "ic| label_current_deforestation_test_classified_incorrect.shape: (1345050,)\n",
      "    predicted_test_classified_incorrect.shape: (1345050,)\n",
      "ic| TP_H + FN_H + FP_H + TN_H: 1345050\n",
      "    len(label_mask_current_deforestation_test)"
     ]
    },
    {
     "name": "stdout",
     "output_type": "stream",
     "text": [
      "cm_correct [[42539788    92456]\n",
      " [   17479   577916]]\n",
      "cm_incorrect [[982065  99125]\n",
      " [116529 147331]]\n"
     ]
    },
    {
     "name": "stderr",
     "output_type": "stream",
     "text": [
      ": 44572689\n",
      "ic| TP_H + FN_H + FP_H + TN_H: 1345050\n",
      "    len(label_mask_current_deforestation_test): 44572689\n"
     ]
    },
    {
     "name": "stdout",
     "output_type": "stream",
     "text": [
      "[0.86208255 0.97064302 0.67257799 0.03017655 0.59779839 0.55836807]\n",
      "0.15029426147304467\n",
      "threshold 0.15029426147304467\n",
      "(43235461,) (43235461,)\n"
     ]
    },
    {
     "name": "stderr",
     "output_type": "stream",
     "text": [
      "ic| label_current_deforestation_test_classified_incorrect.shape: (1337228,)\n",
      "    predicted_test_classified_incorrect.shape: (1337228,)\n",
      "ic| TP_H + FN_H + FP_H + TN_H: 1337228\n",
      "    len(label_mask_current_deforestation_test): 44572689\n",
      "ic| TP_H + FN_H + FP_H + TN_H: 1337228\n",
      "    len(label_mask_current_deforestation_test): 44572689\n"
     ]
    },
    {
     "name": "stdout",
     "output_type": "stream",
     "text": [
      "cm_correct [[42546072    92866]\n",
      " [   17612   578911]]\n",
      "cm_incorrect [[975781  98715]\n",
      " [116396 146336]]\n",
      "[0.86176067 0.97047557 0.67373597 0.03000106 0.59716549 0.55697821]\n",
      "0.1504188068398322\n",
      "threshold 0.1504188068398322\n",
      "(43236310,) (43236310,)\n"
     ]
    },
    {
     "name": "stderr",
     "output_type": "stream",
     "text": [
      "ic| label_current_deforestation_test_classified_incorrect.shape: (1336379,)\n",
      "    predicted_test_classified_incorrect.shape: (1336379,)\n",
      "ic| TP_H + FN_H + FP_H + TN_H: 1336379\n",
      "    len(label_mask_current_deforestation_test): 44572689\n",
      "ic| TP_H + FN_H + FP_H + TN_H: 1336379\n"
     ]
    },
    {
     "name": "stdout",
     "output_type": "stream",
     "text": [
      "cm_correct [[42546751    92908]\n",
      " [   17625   579026]]\n",
      "cm_incorrect [[975102  98673]\n",
      " [116383 146221]]\n"
     ]
    },
    {
     "name": "stderr",
     "output_type": "stream",
     "text": [
      "    len(label_mask_current_deforestation_test): 44572689\n"
     ]
    },
    {
     "name": "stdout",
     "output_type": "stream",
     "text": [
      "[0.86173047 0.97046012 0.67386981 0.02998201 0.59707874 0.55681178]\n",
      "0.1502165093365194\n",
      "threshold 0.1502165093365194\n",
      "(43234911,) (43234911,)\n"
     ]
    },
    {
     "name": "stderr",
     "output_type": "stream",
     "text": [
      "ic| label_current_deforestation_test_classified_incorrect.shape: (1337778,)\n",
      "    predicted_test_classified_incorrect.shape: (1337778,)\n",
      "ic| TP_H + FN_H + FP_H + TN_H: 1337778\n",
      "    len(label_mask_current_deforestation_test): 44572689\n",
      "ic| TP_H + FN_H + FP_H + TN_H: 1337778\n",
      "    len(label_mask_current_deforestation_test): 44572689\n"
     ]
    },
    {
     "name": "stdout",
     "output_type": "stream",
     "text": [
      "cm_correct [[42545627    92829]\n",
      " [   17603   578852]]\n",
      "cm_incorrect [[976226  98752]\n",
      " [116405 146395]]\n",
      "[0.861796   0.9704873  0.6736673  0.0300134  0.59717231 0.5570586 ]\n",
      "0.15032759703560217\n",
      "threshold 0.15032759703560217\n",
      "(43235676,) (43235676,)\n"
     ]
    },
    {
     "name": "stderr",
     "output_type": "stream",
     "text": [
      "ic| label_current_deforestation_test_classified_incorrect.shape: (1337013,)\n",
      "    predicted_test_classified_incorrect.shape: (1337013,)\n",
      "ic| TP_H + FN_H"
     ]
    },
    {
     "name": "stdout",
     "output_type": "stream",
     "text": [
      "cm_correct [[42546234    92881]\n",
      " [   17615   578946]]\n",
      "cm_incorrect [[975619  98700]\n",
      " [116393 146301]]\n"
     ]
    },
    {
     "name": "stderr",
     "output_type": "stream",
     "text": [
      " + FP_H + TN_H: 1337013\n",
      "    len(label_mask_current_deforestation_test): 44572689\n",
      "ic| TP_H + FN_H + FP_H + TN_H: 1337013\n",
      "    len(label_mask_current_deforestation_test): 44572689\n"
     ]
    },
    {
     "name": "stdout",
     "output_type": "stream",
     "text": [
      "[0.86174863 0.97047242 0.6737767  0.02999624 0.5971445  0.55692555]\n",
      "0.15026092591048718\n",
      "threshold 0.15026092591048718\n",
      "(43235229,) (43235229,)\n"
     ]
    },
    {
     "name": "stderr",
     "output_type": "stream",
     "text": [
      "ic| label_current_deforestation_test_classified_incorrect.shape: (1337460,)\n",
      "    predicted_test_classified_incorrect.shape: (1337460,)\n",
      "ic| TP_H + FN_H + FP_H + TN_H: 1337460\n",
      "    len(label_mask_current_deforestation_test): 44572689\n",
      "ic| TP_H + FN_H + FP_H + TN_H: 1337460\n",
      "    len(label_mask_current_deforestation_test): 44572689\n"
     ]
    },
    {
     "name": "stdout",
     "output_type": "stream",
     "text": [
      "cm_correct [[42545884    92852]\n",
      " [   17608   578885]]\n",
      "cm_incorrect [[975969  98729]\n",
      " [116400 146362]]\n",
      "[0.86177328 0.97048079 0.67370571 0.03000627 0.59717411 0.55701357]\n"
     ]
    },
    {
     "name": "stderr",
     "output_type": "stream",
     "text": [
      "ic| self.threshold_optimal: 0.15029426147304467\n"
     ]
    },
    {
     "name": "stdout",
     "output_type": "stream",
     "text": [
      "threshold 0.15029426147304467\n",
      "(43235461,) (43235461,)\n"
     ]
    },
    {
     "name": "stderr",
     "output_type": "stream",
     "text": [
      "ic| label_current_deforestation_test_classified_incorrect.shape: (1337228,)\n",
      "    predicted_test_classified_incorrect.shape: (1337228,)\n",
      "ic| TP_H + FN_H + FP_H + TN_H: 1337228\n",
      "    len(label_mask_current_deforestation_test): 44572689\n",
      "ic| TP_H + FN_H + FP_H + TN_H: 1337228\n",
      "    len(label_mask_current_deforestation_test): 44572689\n"
     ]
    },
    {
     "name": "stdout",
     "output_type": "stream",
     "text": [
      "cm_correct [[42546072    92866]\n",
      " [   17612   578911]]\n",
      "cm_incorrect [[975781  98715]\n",
      " [116396 146336]]\n",
      "[0.86176067 0.97047557 0.67373597 0.03000106 0.59716549 0.55697821]\n",
      "threshold 0.15029426147304467\n",
      "(44572689,) (44572689,)\n"
     ]
    },
    {
     "name": "stderr",
     "output_type": "stream",
     "text": [
      "ic| self.m_optimal: {'AA': array([0.03000106]),\n",
      "                     'f1': 81.67,\n",
      "                     'f1_H': array([0.57637219]),\n",
      "                     'f1_L': array([0.91289285]),\n",
      "                     'precision_H': array([0.59716549]),\n",
      "                     'precision_L': array([0.86176067]),\n",
      "                     'recall_H': array([0.55697821]),\n",
      "                     'recall_L': array([0.97047557]),\n",
      "                     'recall_Ltotal': array([0.67373597])}\n",
      "ic| self.m_audited_optimal: {'f1': array([0.93840996]),\n",
      "                             'precision': array([0.90062589]),\n",
      "                             'recall': array([0.97950317])}\n"
     ]
    },
    {
     "name": "stdout",
     "output_type": "stream",
     "text": [
      "cm_audited [[43620568    92866]\n",
      " [   17612   841643]]\n",
      "[0.90062589 0.97950317]\n"
     ]
    },
    {
     "name": "stderr",
     "output_type": "stream",
     "text": [
      "ic| self.label_mask.shape: (16795, 10420)\n",
      "ic| self.mask_amazon_ts.shape: (16795, 10420)\n",
      "ic| self.label_mask_test.shape: (70001560,)\n",
      "ic| self.error_mask_test.shape: (44572689,)\n",
      "ic| bounds: (0.0015, 0.16510656034946442)\n",
      "c:\\Users\\jchamorro\\Anaconda3\\envs\\tf2\\lib\\site-packages\\scipy\\optimize\\_minimize.py:783: RuntimeWarning: Method 'bounded' does not support relative tolerance in x; defaulting to absolute tolerance.\n",
      "  warn(\"Method 'bounded' does not support relative tolerance in x; \"\n"
     ]
    },
    {
     "name": "stdout",
     "output_type": "stream",
     "text": [
      "0.06399214527103451\n",
      "threshold 0.06399214527103451\n",
      "(44515728,) (44515728,)\n"
     ]
    },
    {
     "name": "stderr",
     "output_type": "stream",
     "text": [
      "ic| label_current_deforestation_test_classified_incorrect.shape: (56961,)\n",
      "    predicted_test_classified_incorrect.shape: (56961,)\n",
      "ic| TP_H + FN_H + FP_H + TN_H: 56961\n",
      "    len(label_mask_current_deforestation_test): 44572689\n",
      "ic| TP_H + FN_H + FP_H + TN_H: 56961\n",
      "    len(label_mask_current_deforestation_test): 44572689\n"
     ]
    },
    {
     "name": "stdout",
     "output_type": "stream",
     "text": [
      "cm_correct [[43490336   184857]\n",
      " [  125041   715494]]\n",
      "cm_incorrect [[31517  6724]\n",
      " [ 8967  9753]]\n",
      "[0.79468341 0.85123641 0.83269111 0.00127794 0.591916   0.52099359]\n",
      "0.10261441507842986\n",
      "threshold 0.10261441507842986\n",
      "(44560236,) (44560236,)\n"
     ]
    },
    {
     "name": "stderr",
     "output_type": "stream",
     "text": [
      "ic| label_current_deforestation_test_classified_incorrect.shape: (12453,)\n",
      "    predicted_test_classified_incorrect.shape: (12453,)\n",
      "ic| TP_H + FN_H + FP_H + TN_H: 12453\n",
      "    len(label_mask_current_deforestation_test): 44572689\n",
      "ic| TP_H + FN_H + FP_H + TN_H: 12453\n",
      "    len(label_mask_current_deforestation_test): 44572689\n"
     ]
    },
    {
     "name": "stdout",
     "output_type": "stream",
     "text": [
      "cm_correct [[43518701   191266]\n",
      " [  130900   719369]]\n",
      "cm_incorrect [[3152  315]\n",
      " [3108 5878]]\n",
      "[7.89964146e-01 8.46048721e-01 8.37200831e-01 2.79386330e-04\n",
      " 9.49136121e-01 6.54128645e-01]\n",
      "0.04012226980739535\n",
      "threshold 0.04012226980739535\n",
      "(44433006,) (44433006,)\n"
     ]
    },
    {
     "name": "stderr",
     "output_type": "stream",
     "text": [
      "ic| label_current_deforestation_test_classified_incorrect.shape: (139683,)\n",
      "    predicted_test_classified_incorrect.shape: (139683,)\n",
      "ic| TP_H + FN_H + FP_H + TN_H: 139683\n",
      "    len(label_mask_current_deforestation_test): 44572689\n",
      "ic| TP_H + FN_H + FP_H + TN_H: 139683\n",
      "    len(label_mask_current_deforestation_test): 44572689\n"
     ]
    },
    {
     "name": "stdout",
     "output_type": "stream",
     "text": [
      "cm_correct [[43444032   168981]\n",
      " [  114390   705603]]\n",
      "cm_incorrect [[77821 22600]\n",
      " [19618 19644]]\n",
      "[0.806787   0.86049881 0.82117998 0.00313382 0.46501278 0.50033111]\n",
      "0.025369875463639183\n",
      "threshold 0.025369875463639183\n",
      "(44296508,) (44296508,)\n"
     ]
    },
    {
     "name": "stderr",
     "output_type": "stream",
     "text": [
      "ic| label_current_deforestation_test_classified_incorrect.shape: (276181,)\n",
      "    predicted_test_classified_incorrect.shape: (276181,)\n",
      "ic| TP_H + FN_H + FP_H + TN_H: 276181\n",
      "    len(label_mask_current_deforestation_test): 44572689\n",
      "ic| TP_H + FN_H + FP_H + TN_H: 276181\n",
      "    len(label_mask_current_deforestation_test): 44572689\n"
     ]
    },
    {
     "name": "stdout",
     "output_type": "stream",
     "text": [
      "cm_correct [[43374781   145586]\n",
      " [   98829   677312]]\n",
      "cm_incorrect [[147072  45995]\n",
      " [ 35179  47935]]\n",
      "[0.82308135 0.87266618 0.78825494 0.00619619 0.51032684 0.57673797]\n",
      "0.016252394343756173\n",
      "threshold 0.016252394343756173\n",
      "(44110752,) (44110752,)\n"
     ]
    },
    {
     "name": "stderr",
     "output_type": "stream",
     "text": [
      "ic| label_current_deforestation_test_classified_incorrect.shape: (461937,)\n",
      "    predicted_test_classified_incorrect.shape: (461937,)\n",
      "ic| TP_H + FN_H + FP_H + TN_H: 461937\n",
      "    len(label_mask_current_deforestation_test): 44572689\n",
      "ic| TP_H + FN_H + FP_H + TN_H: 461937\n",
      "    len(label_mask_current_deforestation_test): 44572689\n"
     ]
    },
    {
     "name": "stdout",
     "output_type": "stream",
     "text": [
      "cm_correct [[43272868   120162]\n",
      " [   80681   637041]]\n",
      "cm_incorrect [[248985  71419]\n",
      " [ 53327  88206]]\n",
      "[0.84130808 0.88758739 0.7413876  0.01036368 0.55258262 0.62321861]\n",
      "0.010617481119883015\n",
      "threshold 0.010617481119883015\n",
      "(43900951,) (43900951,)\n"
     ]
    },
    {
     "name": "stderr",
     "output_type": "stream",
     "text": [
      "ic| label_current_deforestation_test_classified_incorrect.shape: (671738,)\n",
      "    predicted_test_classified_incorrect.shape: (671738,)\n",
      "ic| TP_H + FN_H + FP_H + TN_H: 671738\n",
      "    len(label_mask_current_deforestation_test): 44572689\n",
      "ic| TP_H + FN_H + FP_H + TN_H: 671738\n",
      "    len(label_mask_current_deforestation_test): 44572689\n"
     ]
    },
    {
     "name": "stdout",
     "output_type": "stream",
     "text": [
      "cm_correct [[43149261    97524]\n",
      " [   64205   589961]]\n",
      "cm_incorrect [[372592  94057]\n",
      " [ 69803 135286]]\n",
      "[0.85814381 0.90185213 0.68659595 0.01507062 0.58988502 0.65964532]\n",
      "0.0071349132238731575\n",
      "threshold 0.0071349132238731575\n",
      "(43692028,) (43692028,)\n"
     ]
    },
    {
     "name": "stderr",
     "output_type": "stream",
     "text": [
      "ic| label_current_deforestation_test_classified_incorrect.shape: (880661,)\n",
      "    predicted_test_classified_incorrect.shape: (880661,)\n",
      "ic| TP_H + FN_H + FP_H + TN_H: 880661\n",
      "    len(label_mask_current_deforestation_test): 44572689\n",
      "ic| TP_H + FN_H + FP_H + TN_H: 880661\n",
      "    len(label_mask_current_deforestation_test): 44572689\n"
     ]
    },
    {
     "name": "stdout",
     "output_type": "stream",
     "text": [
      "cm_correct [[43018602    78421]\n",
      " [   49355   545650]]\n",
      "cm_incorrect [[503251 113160]\n",
      " [ 84653 179597]]\n",
      "[0.87433962 0.91705112 0.63502685 0.01975786 0.61346782 0.67964806]\n",
      "0.004982567896009857\n",
      "threshold 0.004982567896009857\n",
      "(43504706,) (43504706,)\n"
     ]
    },
    {
     "name": "stderr",
     "output_type": "stream",
     "text": [
      "ic| label_current_deforestation_test_classified_incorrect.shape: (1067983,)\n",
      "    predicted_test_classified_incorrect.shape: (1067983,)\n",
      "ic| TP_H + FN_H + FP_H + TN_H: 1067983\n",
      "    len(label_mask_current_deforestation_test): 44572689\n",
      "ic| TP_H + FN_H + FP_H + TN_H: 1067983\n",
      "    len(label_mask_current_deforestation_test): 44572689\n"
     ]
    },
    {
     "name": "stdout",
     "output_type": "stream",
     "text": [
      "cm_correct [[42892659    64984]\n",
      " [   37878   509185]]\n",
      "cm_incorrect [[629194 126597]\n",
      " [ 96130 216062]]\n",
      "[0.88682078 0.93076117 0.59258893 0.02396048 0.63054524 0.69208051]\n",
      "0.003652345327863301\n",
      "threshold 0.003652345327863301\n",
      "(43344338,) (43344338,)\n"
     ]
    },
    {
     "name": "stderr",
     "output_type": "stream",
     "text": [
      "ic| label_current_deforestation_test_classified_incorrect.shape: (1228351,)\n",
      "    predicted_test_classified_incorrect.shape: (1228351,)\n",
      "ic| TP_H + FN_H + FP_H + TN_H: 1228351\n",
      "    len(label_mask_current_deforestation_test): 44572689\n",
      "ic| TP_H + FN_H + FP_H + TN_H: 1228351\n",
      "    len(label_mask_current_deforestation_test): 44572689\n"
     ]
    },
    {
     "name": "stdout",
     "output_type": "stream",
     "text": [
      "cm_correct [[42777716    56896]\n",
      " [   29957   479769]]\n",
      "cm_incorrect [[744137 134685]\n",
      " [104051 245478]]\n",
      "[0.89398228 0.94122921 0.55835462 0.02755838 0.64571776 0.70231082]\n",
      "0.002830222568146556\n",
      "threshold 0.002830222568146556\n",
      "(43204936,) (43204936,)\n"
     ]
    },
    {
     "name": "stderr",
     "output_type": "stream",
     "text": [
      "ic| label_current_deforestation_test_classified_incorrect.shape: (1367753,)\n",
      "    predicted_test_classified_incorrect.shape: (1367753,)\n",
      "ic| TP_H + FN_H + FP_H + TN_H: 1367753\n",
      "    len(label_mask_current_deforestation_test): 44572689\n",
      "ic| TP_H + FN_H + FP_H + TN_H: 1367753\n",
      "    len(label_mask_current_deforestation_test): 44572689\n"
     ]
    },
    {
     "name": "stdout",
     "output_type": "stream",
     "text": [
      "cm_correct [[42672091    51426]\n",
      " [   24690   456729]]\n",
      "cm_incorrect [[849762 140155]\n",
      " [109318 268518]]\n",
      "[0.89879859 0.94871411 0.5315407  0.0306859  0.65704854 0.71067341]\n",
      "0.002322122759716745\n",
      "threshold 0.002322122759716745\n",
      "(43083074,) (43083074,)\n"
     ]
    },
    {
     "name": "stderr",
     "output_type": "stream",
     "text": [
      "ic| label_current_deforestation_test_classified_incorrect.shape: (1489615,)\n",
      "    predicted_test_classified_incorrect.shape: (1489615,)\n",
      "ic"
     ]
    },
    {
     "name": "stdout",
     "output_type": "stream",
     "text": [
      "cm_correct [[42574535    47996]\n",
      " [   21537   439006]]\n",
      "cm_incorrect [[947318 143585]\n",
      " [112471 286241]]\n"
     ]
    },
    {
     "name": "stderr",
     "output_type": "stream",
     "text": [
      "| TP_H + FN_H + FP_H + TN_H: 1489615\n",
      "    len(label_mask_current_deforestation_test): 44572689\n",
      "ic| TP_H + FN_H + FP_H + TN_H: 1489615\n",
      "    len(label_mask_current_deforestation_test): 44572689\n"
     ]
    },
    {
     "name": "stdout",
     "output_type": "stream",
     "text": [
      "[0.90144599 0.95323564 0.51091469 0.0334199  0.66594622 0.71791418]\n",
      "0.003052310173922391\n",
      "threshold 0.003052310173922391\n",
      "(43247512,) (43247512,)\n"
     ]
    },
    {
     "name": "stderr",
     "output_type": "stream",
     "text": [
      "ic| label_current_deforestation_test_classified_incorrect.shape: (1325177,)\n",
      "    predicted_test_classified_incorrect.shape: (1325177,)\n",
      "ic| TP_H + FN_H + FP_H + TN_H: 1325177\n",
      "    len(label_mask_current_deforestation_test): 44572689\n",
      "ic| TP_H + FN_H + FP_H + TN_H: 1325177\n",
      "    len(label_mask_current_deforestation_test): 44572689\n"
     ]
    },
    {
     "name": "stdout",
     "output_type": "stream",
     "text": [
      "cm_correct [[42705022    52876]\n",
      " [   26105   463509]]\n",
      "cm_incorrect [[816831 138705]\n",
      " [107903 261738]]\n",
      "[0.89760353 0.94668249 0.53943125 0.02973069 0.65362111 0.70808704]\n",
      "0.003085643552528801\n",
      "threshold 0.003085643552528801\n",
      "(43253603,) (43253603,)\n"
     ]
    },
    {
     "name": "stderr",
     "output_type": "stream",
     "text": [
      "ic| label_current_deforestation_test_classified_incorrect.shape: (1319086,)\n",
      "    predicted_test_classified_incorrect.shape: (1319086,)\n",
      "ic| TP_H + FN_H + FP_H + TN_H: 1319086\n",
      "    len(label_mask_current_deforestation_test): 44572689\n",
      "ic| TP_H + FN_H + FP_H + TN_H: 1319086\n",
      "    len(label_mask_current_deforestation_test): 44572689\n"
     ]
    },
    {
     "name": "stdout",
     "output_type": "stream",
     "text": [
      "cm_correct [[42709639    53111]\n",
      " [   26323   464530]]\n",
      "cm_incorrect [[812214 138470]\n",
      " [107685 260717]]\n",
      "[0.897398   0.94637295 0.54061949 0.02959404 0.65311997 0.70769703]\n",
      "0.0029813574229910966\n",
      "threshold 0.0029813574229910966\n",
      "(43234384,) (43234384,)\n"
     ]
    },
    {
     "name": "stderr",
     "output_type": "stream",
     "text": [
      "ic| label_current_deforestation_test_classified_incorrect.shape: (1338305,)\n",
      "    predicted_test_classified_incorrect.shape: (1338305,)\n",
      "ic| TP_H + FN_H + FP_H + TN_H: 1338305\n",
      "    len(label_mask_current_deforestation_test): 44572689\n",
      "ic| TP_H + FN_H + FP_H + TN_H: 1338305\n",
      "    len(label_mask_current_deforestation_test): 44572689\n"
     ]
    },
    {
     "name": "stdout",
     "output_type": "stream",
     "text": [
      "cm_correct [[42694916    52412]\n",
      " [   25671   461385]]\n",
      "cm_incorrect [[826937 139169]\n",
      " [108337 263862]]\n",
      "[0.89799084 0.94729354 0.53695934 0.03002522 0.65469406 0.70892721]\n",
      "0.002923629045325264\n",
      "threshold 0.002923629045325264\n",
      "(43223518,) (43223518,)\n"
     ]
    },
    {
     "name": "stderr",
     "output_type": "stream",
     "text": [
      "ic| label_current_deforestation_test_classified_incorrect.shape: (1349171,)\n",
      "    predicted_test_classified_incorrect.shape: (1349171,)\n",
      "ic| TP_H + FN_H + FP_H + TN_H: 1349171\n",
      "    len(label_mask_current_deforestation_test): 44572689\n",
      "ic| TP_H + FN_H + FP_H + TN_H: 1349171\n",
      "    len(label_mask_current_deforestation_test): 44572689\n"
     ]
    },
    {
     "name": "stdout",
     "output_type": "stream",
     "text": [
      "cm_correct [[42686511    52049]\n",
      " [   25306   459652]]\n",
      "cm_incorrect [[835342 139532]\n",
      " [108702 265595]]\n",
      "[0.8982824  0.94781816 0.53494248 0.03026901 0.65558455 0.70958357]\n",
      "0.0030146908005451068\n",
      "threshold 0.0030146908005451068\n",
      "(43240547,) (43240547,)\n"
     ]
    },
    {
     "name": "stderr",
     "output_type": "stream",
     "text": [
      "ic| label_current_deforestation_test_classified_incorrect.shape: (1332142,)\n",
      "    predicted_test_classified_incorrect.shape: (1332142,)\n",
      "ic| TP_H + FN_H + FP_H + TN_H: 1332142\n",
      "    len(label_mask_current_deforestation_test): 44572689\n",
      "ic| TP_H + FN_H + FP_H + TN_H: 1332142\n",
      "    len(label_mask_current_deforestation_test): 44572689\n"
     ]
    },
    {
     "name": "stdout",
     "output_type": "stream",
     "text": [
      "cm_correct [[42699648    52631]\n",
      " [   25857   462411]]\n",
      "cm_incorrect [[822205 138950]\n",
      " [108151 262836]]\n",
      "[0.89781222 0.94704343 0.5381534  0.02988696 0.65416913 0.70847766]\n"
     ]
    },
    {
     "name": "stderr",
     "output_type": "stream",
     "text": [
      "ic| self.threshold_optimal: 0.0029813574229910966\n"
     ]
    },
    {
     "name": "stdout",
     "output_type": "stream",
     "text": [
      "threshold 0.0029813574229910966\n",
      "(43234384,) (43234384,)\n"
     ]
    },
    {
     "name": "stderr",
     "output_type": "stream",
     "text": [
      "ic| label_current_deforestation_test_classified_incorrect.shape: (1338305,)\n",
      "    predicted_test_classified_incorrect.shape: (1338305,)\n",
      "ic| TP_H + FN_H + FP_H + TN_H: 1338305\n",
      "    len(label_mask_current_deforestation_test): 44572689\n",
      "ic| TP_H + FN_H + FP_H + TN_H: 1338305\n",
      "    len(label_mask_current_deforestation_test): 44572689\n"
     ]
    },
    {
     "name": "stdout",
     "output_type": "stream",
     "text": [
      "cm_correct [[42694916    52412]\n",
      " [   25671   461385]]\n",
      "cm_incorrect [[826937 139169]\n",
      " [108337 263862]]\n",
      "[0.89799084 0.94729354 0.53695934 0.03002522 0.65469406 0.70892721]\n",
      "threshold 0.0029813574229910966\n",
      "(44572689,) (44572689,)\n"
     ]
    },
    {
     "name": "stderr",
     "output_type": "stream",
     "text": [
      "ic| self.m_optimal: {'AA': array([0.03002522]),\n",
      "                     'f1': 81.67,\n",
      "                     'f1_H': array([0.68073217]),\n",
      "                     'f1_L': array([0.92198355]),\n",
      "                     'precision_H': array([0.65469406]),\n",
      "                     'precision_L': array([0.89799084]),\n",
      "                     'recall_H': array([0.70892721]),\n",
      "                     'recall_L': array([0.94729354]),\n",
      "                     'recall_Ltotal': array([0.53695934])}\n",
      "ic| self.m_audited_optimal: {'f1': array([0.95525973]),\n",
      "                             'precision': array([0.94084398]),\n",
      "                             'recall': array([0.97012412])}\n"
     ]
    },
    {
     "name": "stdout",
     "output_type": "stream",
     "text": [
      "cm_audited [[43661022    52412]\n",
      " [   25671   833584]]\n",
      "[0.94084398 0.97012412]\n"
     ]
    },
    {
     "name": "stderr",
     "output_type": "stream",
     "text": [
      "ic| n: 10, K: 1\n",
      "ic| self.label_mask.shape: (16795, 10420)\n",
      "ic| self.mask_amazon_ts.shape: (16795, 10420)\n",
      "ic| self.label_mask_test.shape: (70001560,)\n",
      "ic| self.error_mask_test.shape: (44572689,)\n",
      "ic| bounds: (0.0015, 0.26349560475349426)\n",
      "c:\\Users\\jchamorro\\Anaconda3\\envs\\tf2\\lib\\site-packages\\scipy\\optimize\\_minimize.py:783: RuntimeWarning: Method 'bounded' does not support relative tolerance in x; defaulting to absolute tolerance.\n",
      "  warn(\"Method 'bounded' does not support relative tolerance in x; \"\n"
     ]
    },
    {
     "name": "stdout",
     "output_type": "stream",
     "text": [
      "0.10157341611275128\n",
      "threshold 0.10157341611275128\n",
      "(44507952,) (44507952,)\n"
     ]
    },
    {
     "name": "stderr",
     "output_type": "stream",
     "text": [
      "ic| label_current_deforestation_test_classified_incorrect.shape: (64737,)\n",
      "    predicted_test_classified_incorrect.shape: (64737,)\n",
      "ic| TP_H + FN_H + FP_H + TN_H: 64737\n",
      "    len(label_mask_current_deforestation_test): 44572689\n",
      "ic| TP_H + FN_H + FP_H + TN_H: 64737\n",
      "    len(label_mask_current_deforestation_test): 44572689\n"
     ]
    },
    {
     "name": "stdout",
     "output_type": "stream",
     "text": [
      "cm_correct [[43474647   190795]\n",
      " [  123608   718902]]\n",
      "cm_incorrect [[47206   786]\n",
      " [10400  6345]]\n",
      "[0.79026533 0.85328601 0.83665734 0.00145239 0.88977703 0.37891908]\n",
      "0.16342218864074295\n",
      "threshold 0.16342218864074295\n",
      "(44559215,) (44559215,)\n"
     ]
    },
    {
     "name": "stderr",
     "output_type": "stream",
     "text": [
      "ic| label_current_deforestation_test_classified_incorrect.shape: (13474,)\n",
      "    predicted_test_classified_incorrect.shape: (13474,)\n",
      "ic| TP_H + FN_H + FP_H + TN_H: 13474\n",
      "    len(label_mask_current_deforestation_test): 44572689\n",
      "ic| TP_H + FN_H + FP_H + TN_H: 13474\n",
      "    len(label_mask_current_deforestation_test): 44572689\n"
     ]
    },
    {
     "name": "stdout",
     "output_type": "stream",
     "text": [
      "cm_correct [[43512514   191581]\n",
      " [  130564   724556]]\n",
      "cm_incorrect [[9339    0]\n",
      " [3444  691]]\n",
      "[7.90881713e-01 8.47314997e-01 8.43237456e-01 3.02292734e-04\n",
      " 1.00000000e+00 1.67110036e-01]\n",
      "0.06334877252799168\n",
      "threshold 0.06334877252799168\n",
      "(44408563,) (44408563,)\n"
     ]
    },
    {
     "name": "stderr",
     "output_type": "stream",
     "text": [
      "ic| label_current_deforestation_test_classified_incorrect.shape: (164126,)\n",
      "    predicted_test_classified_incorrect.shape: (164126,)\n",
      "ic| TP_H + FN_H + FP_H + TN_H: 164126\n",
      "    len(label_mask_current_deforestation_test): 44572689\n",
      "ic| TP_H + FN_H + FP_H + TN_H: 164126\n",
      "    len(label_mask_current_deforestation_test): 44572689\n"
     ]
    },
    {
     "name": "stdout",
     "output_type": "stream",
     "text": [
      "cm_correct [[43394433   185824]\n",
      " [  112462   715844]]\n",
      "cm_incorrect [[127420   5757]\n",
      " [ 21546   9403]]\n",
      "[0.79391084 0.86422651 0.83309844 0.00368221 0.62025066 0.30382242]\n",
      "0.03972464358475962\n",
      "threshold 0.03972464358475962\n",
      "(44209994,) (44209994,)\n"
     ]
    },
    {
     "name": "stderr",
     "output_type": "stream",
     "text": [
      "ic| label_current_deforestation_test_classified_incorrect.shape: (362695,)\n",
      "    predicted_test_classified_incorrect.shape: (362695,)\n",
      "ic| TP_H + FN_H + FP_H + TN_H: 362695\n",
      "    len(label_mask_current_deforestation_test): 44572689\n",
      "ic| TP_H + FN_H + FP_H + TN_H: 362695\n",
      "    len(label_mask_current_deforestation_test): 44572689\n"
     ]
    },
    {
     "name": "stdout",
     "output_type": "stream",
     "text": [
      "cm_correct [[43230921   174778]\n",
      " [   94635   709660]]\n",
      "cm_incorrect [[290932  16803]\n",
      " [ 39373  15587]]\n",
      "[0.80238524 0.88233795 0.82590151 0.00813716 0.48122877 0.28360626]\n",
      "0.02512412894323207\n",
      "threshold 0.02512412894323207\n",
      "(43594313,) (43594313,)\n"
     ]
    },
    {
     "name": "stderr",
     "output_type": "stream",
     "text": [
      "ic| label_current_deforestation_test_classified_incorrect.shape: (978376,)\n",
      "    predicted_test_classified_incorrect.shape: (978376,)\n",
      "ic| TP_H + FN_H + FP_H + TN_H: 978376\n",
      "    len(label_mask_current_deforestation_test): 44572689\n",
      "ic| TP_H + FN_H + FP_H + TN_H: 978376\n",
      "    len(label_mask_current_deforestation_test): 44572689\n"
     ]
    },
    {
     "name": "stdout",
     "output_type": "stream",
     "text": [
      "cm_correct [[42674775   158122]\n",
      " [   67955   693461]]\n",
      "cm_incorrect [[847078  33459]\n",
      " [ 66053  31786]]\n",
      "[0.81431992 0.91075181 0.80704913 0.02195012 0.48717909 0.32488067]\n",
      "0.016100514641527557\n",
      "threshold 0.016100514641527557\n",
      "(41119972,) (41119972,)\n"
     ]
    },
    {
     "name": "stderr",
     "output_type": "stream",
     "text": [
      "ic| label_current_deforestation_test_classified_incorrect.shape: (3452717,)\n",
      "    predicted_test_classified_incorrect.shape: (3452717,)\n"
     ]
    },
    {
     "name": "stdout",
     "output_type": "stream",
     "text": [
      "cm_correct [[40275360   136727]\n",
      " [   43218   664667]]\n"
     ]
    },
    {
     "name": "stderr",
     "output_type": "stream",
     "text": [
      "ic| TP_H + FN_H + FP_H + TN_H: 3452717\n",
      "    len(label_mask_current_deforestation_test): 44572689\n",
      "ic| TP_H + FN_H + FP_H + TN_H: 3452717\n",
      "    len(label_mask_current_deforestation_test): 44572689\n"
     ]
    },
    {
     "name": "stdout",
     "output_type": "stream",
     "text": [
      "cm_incorrect [[3246493   54854]\n",
      " [  90790   60580]]\n",
      "[0.82938854 0.93894771 0.77353871 0.07746261 0.52480205 0.4002114 ]\n",
      "0.03070102928305511\n",
      "threshold 0.03070102928305511\n",
      "(43994653,) (43994653,)\n"
     ]
    },
    {
     "name": "stderr",
     "output_type": "stream",
     "text": [
      "ic| label_current_deforestation_test_classified_incorrect.shape: (578036,)\n",
      "    predicted_test_classified_incorrect.shape: (578036,)\n",
      "ic| TP_H + FN_H + FP_H + TN_H: 578036\n",
      "    len(label_mask_current_deforestation_test): 44572689\n",
      "ic| TP_H + FN_H + FP_H + TN_H: 578036\n",
      "    len(label_mask_current_deforestation_test): 44572689\n"
     ]
    },
    {
     "name": "stdout",
     "output_type": "stream",
     "text": [
      "cm_correct [[43045302   166425]\n",
      " [   80386   702540]]\n",
      "cm_incorrect [[476551  25156]\n",
      " [ 53622  22707]]\n",
      "[0.80847905 0.89732618 0.81761526 0.01296839 0.47441656 0.2974885 ]\n",
      "0.021677414981350597\n",
      "threshold 0.021677414981350597\n",
      "(42987649,) (42987649,)\n"
     ]
    },
    {
     "name": "stderr",
     "output_type": "stream",
     "text": [
      "ic| label_current_deforestation_test_classified_incorrect.shape: (1585040,)\n",
      "    predicted_test_classified_incorrect.shape: (1585040,)\n",
      "ic"
     ]
    },
    {
     "name": "stdout",
     "output_type": "stream",
     "text": [
      "cm_correct [[42092101   151336]\n",
      " [   59231   684981]]\n",
      "cm_incorrect [[1429752   40245]\n",
      " [  74777   40266]]\n"
     ]
    },
    {
     "name": "stderr",
     "output_type": "stream",
     "text": [
      "| TP_H + FN_H + FP_H + TN_H: 1585040\n",
      "    len(label_mask_current_deforestation_test): 44572689\n",
      "ic| TP_H + FN_H + FP_H + TN_H: 1585040\n",
      "    len(label_mask_current_deforestation_test): 44572689\n"
     ]
    },
    {
     "name": "stdout",
     "output_type": "stream",
     "text": [
      "[0.81904469 0.92041112 0.79718012 0.03556079 0.50013042 0.35000826]\n",
      "0.01973305585600517\n",
      "threshold 0.01973305585600517\n",
      "(42456363,) (42456363,)\n"
     ]
    },
    {
     "name": "stderr",
     "output_type": "stream",
     "text": [
      "ic| label_current_deforestation_test_classified_incorrect.shape: (2116326,)\n",
      "    predicted_test_classified_incorrect.shape: (2116326,)\n"
     ]
    },
    {
     "name": "stdout",
     "output_type": "stream",
     "text": [
      "cm_correct [[41576551   146913]\n",
      " [   54061   678838]]\n"
     ]
    },
    {
     "name": "stderr",
     "output_type": "stream",
     "text": [
      "ic| TP_H + FN_H + FP_H + TN_H: 2116326\n",
      "    len(label_mask_current_deforestation_test): 44572689\n",
      "ic| TP_H + FN_H + FP_H + TN_H: 2116326\n",
      "    len(label_mask_current_deforestation_test): 44572689\n"
     ]
    },
    {
     "name": "stdout",
     "output_type": "stream",
     "text": [
      "cm_incorrect [[1945302   44668]\n",
      " [  79947   46409]]\n",
      "[0.82208559 0.92623677 0.7900309  0.04748033 0.50955785 0.36728766]\n",
      "0.022993942565290512\n",
      "threshold 0.022993942565290512\n",
      "(43268528,) (43268528,)\n"
     ]
    },
    {
     "name": "stderr",
     "output_type": "stream",
     "text": [
      "ic| label_current_deforestation_test_classified_incorrect.shape: (1304161,)\n",
      "    predicted_test_classified_incorrect.shape: (1304161,)\n",
      "ic| TP_H + FN_H + FP_H + TN_H: 1304161\n",
      "    len(label_mask_current_deforestation_test): 44572689\n",
      "ic| TP_H + FN_H + FP_H + TN_H: 1304161\n",
      "    len(label_mask_current_deforestation_test): 44572689\n"
     ]
    },
    {
     "name": "stdout",
     "output_type": "stream",
     "text": [
      "cm_correct [[42363296   154066]\n",
      " [   62623   688543]]\n",
      "cm_incorrect [[1158557   37515]\n",
      " [  71385   36704]]\n",
      "[0.817156   0.91663228 0.80132557 0.0292592  0.49453644 0.33957202]\n",
      "0.023225294353131337\n",
      "threshold 0.023225294353131337\n",
      "(43311389,) (43311389,)\n"
     ]
    },
    {
     "name": "stderr",
     "output_type": "stream",
     "text": [
      "ic| label_current_deforestation_test_classified_incorrect.shape: (1261300,)\n",
      "    predicted_test_classified_incorrect.shape: (1261300,)\n",
      "ic| TP_H + FN_H + FP_H + TN_H: 1261300\n",
      "    len(label_mask_current_deforestation_test): 44572689\n",
      "ic| TP_H + FN_H + FP_H + TN_H: 1261300\n",
      "    len(label_mask_current_deforestation_test): 44572689\n"
     ]
    },
    {
     "name": "stdout",
     "output_type": "stream",
     "text": [
      "cm_correct [[42404503   154529]\n",
      " [   63223   689134]]\n",
      "cm_incorrect [[1117350   37052]\n",
      " [  70785   36113]]\n",
      "[0.81683563 0.91596676 0.80201337 0.0282976  0.493583   0.33782671]\n",
      "0.022698131393051508\n",
      "threshold 0.022698131393051508\n",
      "(43211394,) (43211394,)\n"
     ]
    },
    {
     "name": "stderr",
     "output_type": "stream",
     "text": [
      "ic| label_current_deforestation_test_classified_incorrect.shape: (1361295,)\n",
      "    predicted_test_classified_incorrect.shape: (1361295,)\n",
      "ic| TP_H + FN_H + FP_H + TN_H: 1361295\n",
      "    len(label_mask_current_deforestation_test): 44572689\n",
      "ic| TP_H + FN_H + FP_H + TN_H: 1361295\n",
      "    len(label_mask_current_deforestation_test): 44572689\n"
     ]
    },
    {
     "name": "stdout",
     "output_type": "stream",
     "text": [
      "cm_correct [[42308212   153475]\n",
      " [   61916   687791]]\n",
      "cm_incorrect [[1213641   38106]\n",
      " [  72092   37456]]\n",
      "[0.81756662 0.91741307 0.80045039 0.03054101 0.4956989  0.34191405]\n",
      "0.02279489527020339\n",
      "threshold 0.02279489527020339\n",
      "(43230379,) (43230379,)\n"
     ]
    },
    {
     "name": "stderr",
     "output_type": "stream",
     "text": [
      "ic| label_current_deforestation_test_classified_incorrect.shape: (1342310,)\n",
      "    predicted_test_classified_incorrect.shape: (1342310,)\n",
      "ic| TP_H + FN_H + FP_H + TN_H: 1342310\n",
      "    len(label_mask_current_deforestation_test): 44572689\n",
      "ic| TP_H + FN_H + FP_H + TN_H: 1342310\n",
      "    len(label_mask_current_deforestation_test): 44572689\n"
     ]
    },
    {
     "name": "stdout",
     "output_type": "stream",
     "text": [
      "cm_correct [[42326546   153657]\n",
      " [   62146   688030]]\n",
      "cm_incorrect [[1195307   37924]\n",
      " [  71862   37217]]\n",
      "[0.81744164 0.91715811 0.80072854 0.03011508 0.49529551 0.34119308]\n",
      "0.02283279753146163\n",
      "threshold 0.02283279753146163\n",
      "(43237674,) (43237674,)\n"
     ]
    },
    {
     "name": "stderr",
     "output_type": "stream",
     "text": [
      "ic| label_current_deforestation_test_classified_incorrect.shape: (1335015,)\n",
      "    predicted_test_classified_incorrect.shape: (1335015,)\n",
      "ic| TP_H + FN_H + FP_H + TN_H: 1335015\n",
      "    len(label_mask_current_deforestation_test): 44572689\n",
      "ic| TP_H + FN_H + FP_H + TN_H: 1335015\n",
      "    len(label_mask_current_deforestation_test): 44572689\n"
     ]
    },
    {
     "name": "stdout",
     "output_type": "stream",
     "text": [
      "cm_correct [[42333591   153728]\n",
      " [   62232   688123]]\n",
      "cm_incorrect [[1188262   37853]\n",
      " [  71776   37124]]\n",
      "[0.81739286 0.91706326 0.80083677 0.02995141 0.49513851 0.34089991]\n",
      "0.02286613120346008\n",
      "threshold 0.02286613120346008\n",
      "(43244115,) (43244115,)\n"
     ]
    },
    {
     "name": "stderr",
     "output_type": "stream",
     "text": [
      "ic| label_current_deforestation_test_classified_incorrect.shape: (1328574,)\n",
      "    predicted_test_classified_incorrect.shape: (1328574,)\n",
      "ic| TP_H + FN_H + FP_H + TN_H: 1328574\n",
      "    len(label_mask_current_deforestation_test): 44572689\n",
      "ic| TP_H + FN_H + FP_H + TN_H: 1328574\n",
      "    len(label_mask_current_deforestation_test): 44572689\n"
     ]
    },
    {
     "name": "stdout",
     "output_type": "stream",
     "text": [
      "cm_correct [[42339759   153817]\n",
      " [   62320   688219]]\n",
      "cm_incorrect [[1182094   37764]\n",
      " [  71688   37028]]\n",
      "[0.81732729 0.91696634 0.8009485  0.02980691 0.49507969 0.34059384]\n"
     ]
    },
    {
     "name": "stderr",
     "output_type": "stream",
     "text": [
      "ic| self.threshold_optimal: 0.02283279753146163\n"
     ]
    },
    {
     "name": "stdout",
     "output_type": "stream",
     "text": [
      "threshold 0.02283279753146163\n",
      "(43237674,) (43237674,)\n"
     ]
    },
    {
     "name": "stderr",
     "output_type": "stream",
     "text": [
      "ic| label_current_deforestation_test_classified_incorrect.shape: (1335015,)\n",
      "    predicted_test_classified_incorrect.shape: (1335015,)\n",
      "ic| TP_H + FN_H + FP_H + TN_H: 1335015\n",
      "    len(label_mask_current_deforestation_test): 44572689\n",
      "ic| TP_H + FN_H + FP_H "
     ]
    },
    {
     "name": "stdout",
     "output_type": "stream",
     "text": [
      "cm_correct [[42333591   153728]\n",
      " [   62232   688123]]\n",
      "cm_incorrect [[1188262   37853]\n",
      " [  71776   37124]]\n"
     ]
    },
    {
     "name": "stderr",
     "output_type": "stream",
     "text": [
      "+ TN_H: 1335015\n",
      "    len(label_mask_current_deforestation_test): 44572689\n"
     ]
    },
    {
     "name": "stdout",
     "output_type": "stream",
     "text": [
      "[0.81739286 0.91706326 0.80083677 0.02995141 0.49513851 0.34089991]\n",
      "threshold 0.02283279753146163\n",
      "(44572689,) (44572689,)\n"
     ]
    },
    {
     "name": "stderr",
     "output_type": "stream",
     "text": [
      "ic| self.m_optimal: {'AA': array([0.02995141]),\n",
      "                     'f1': 81.67,\n",
      "                     'f1_H': array([0.40379167]),\n",
      "                     'f1_L': array([0.86436428]),\n",
      "                     'precision_H': array([0.49513851]),\n",
      "                     'precision_L': array([0.81739286]),\n",
      "                     'recall_H': array([0.34089991]),\n",
      "                     'recall_L': array([0.91706326]),\n",
      "                     'recall_Ltotal': array([0.80083677])}\n",
      "ic| self.m_audited_optimal: {'f1': array([0.88068548]),\n",
      "                             'precision': array([0.83830887]),\n",
      "                             'recall': array([0.92757447])}\n"
     ]
    },
    {
     "name": "stdout",
     "output_type": "stream",
     "text": [
      "cm_audited [[43559706   153728]\n",
      " [   62232   797023]]\n",
      "[0.83830887 0.92757447]\n"
     ]
    },
    {
     "name": "stderr",
     "output_type": "stream",
     "text": [
      "ic| self.label_mask.shape: (16795, 10420)\n",
      "ic| self.mask_amazon_ts.shape: (16795, 10420)\n",
      "ic| self.label_mask_test.shape: (70001560,)\n",
      "ic| self.error_mask_test.shape: (44572689,)\n",
      "ic| bounds: (0.0015, 0.7563152418136597)\n",
      "c:\\Users\\jchamorro\\Anaconda3\\envs\\tf2\\lib\\site-packages\\scipy\\optimize\\_minimize.py:783: RuntimeWarning: Method 'bounded' does not support relative tolerance in x; defaulting to absolute tolerance.\n",
      "  warn(\"Method 'bounded' does not support relative tolerance in x; \"\n"
     ]
    },
    {
     "name": "stdout",
     "output_type": "stream",
     "text": [
      "0.28981376714634716\n",
      "threshold 0.28981376714634716\n",
      "(44556139,) (44556139,)\n"
     ]
    },
    {
     "name": "stderr",
     "output_type": "stream",
     "text": [
      "ic| label_current_deforestation_test_classified_incorrect.shape: (16550,)\n",
      "    predicted_test_classified_incorrect.shape: (16550,)\n",
      "ic| TP_H + FN_H + FP_H + TN_H: 16550\n",
      "    len(label_mask_current_deforestation_test): 44572689\n",
      "ic| TP_H + FN_H + FP_H + TN_H: 16550\n",
      "    len(label_mask_current_deforestation_test): 44572689\n"
     ]
    },
    {
     "name": "stdout",
     "output_type": "stream",
     "text": [
      "cm_correct [[43513919   191581]\n",
      " [  129658   720981]]\n",
      "cm_incorrect [[7934    0]\n",
      " [4350 4266]]\n",
      "[7.90062483e-01 8.47575764e-01 8.39076875e-01 3.71303603e-04\n",
      " 1.00000000e+00 4.95125348e-01]\n",
      "0.46800147466731246\n",
      "threshold 0.46800147466731246\n",
      "(44569829,) (44569829,)\n"
     ]
    },
    {
     "name": "stderr",
     "output_type": "stream",
     "text": [
      "ic| label_current_deforestation_test_classified_incorrect.shape: (2860,)\n",
      "    predicted_test_classified_incorrect.shape: (2860,)\n",
      "ic| TP_H + FN_H + FP_H + TN_H: 2860\n",
      "    len(label_mask_current_deforestation_test): 44572689\n",
      "ic| TP_H + FN_H + FP_H + TN_H: 2860\n",
      "    len(label_mask_current_deforestation_test): 44572689\n"
     ]
    },
    {
     "name": "stdout",
     "output_type": "stream",
     "text": [
      "cm_correct [[43521802   191581]\n",
      " [  132446   724000]]\n",
      "cm_incorrect [[  51    0]\n",
      " [1562 1247]]\n",
      "[7.90754723e-01 8.45353939e-01 8.42590384e-01 6.41648522e-05\n",
      " 1.00000000e+00 4.43930224e-01]\n",
      "0.17968770752096536\n",
      "threshold 0.17968770752096536\n",
      "(44519687,) (44519687,)\n"
     ]
    },
    {
     "name": "stderr",
     "output_type": "stream",
     "text": [
      "ic| label_current_deforestation_test_classified_incorrect.shape: (53002,)\n",
      "    predicted_test_classified_incorrect.shape: (53002,)\n",
      "ic| TP_H + FN_H + FP_H + TN_H: 53002\n",
      "    len(label_mask_current_deforestation_test): 44572689\n",
      "ic| TP_H + FN_H + FP_H + TN_H: 53002\n",
      "    len(label_mask_current_deforestation_test): 44572689\n"
     ]
    },
    {
     "name": "stdout",
     "output_type": "stream",
     "text": [
      "cm_correct [[43484536   190973]\n",
      " [  125276   718902]]\n",
      "cm_incorrect [[37317   608]\n",
      " [ 8732  6345]]\n",
      "[0.79011073 0.85160002 0.83665734 0.00118911 0.91255573 0.42083969]\n",
      "0.11162605962538187\n",
      "threshold 0.11162605962538187\n",
      "(44452619,) (44452619,)\n"
     ]
    },
    {
     "name": "stderr",
     "output_type": "stream",
     "text": [
      "ic| label_current_deforestation_test_classified_incorrect.shape: (120070,)\n",
      "    predicted_test_classified_incorrect.shape: (120070,)\n",
      "ic| TP_H + FN_H + FP_H + TN_H: 120070\n",
      "    len(label_mask_current_deforestation_test): 44572689\n",
      "ic| TP_H + FN_H + FP_H + TN_H: 120070\n",
      "    len(label_mask_current_deforestation_test): 44572689\n"
     ]
    },
    {
     "name": "stdout",
     "output_type": "stream",
     "text": [
      "cm_correct [[43428445   188607]\n",
      " [  118680   716887]]\n",
      "cm_incorrect [[93408  2974]\n",
      " [15328  8360]]\n",
      "[0.79170817 0.85796471 0.83431228 0.0026938  0.73760367 0.35292131]\n",
      "0.06956164789558351\n",
      "threshold 0.06956164789558351\n",
      "(44271318,) (44271318,)\n"
     ]
    },
    {
     "name": "stderr",
     "output_type": "stream",
     "text": [
      "ic| label_current_deforestation_test_classified_incorrect.shape: (301371,)\n",
      "    predicted_test_classified_incorrect.shape: (301371,)\n",
      "ic| TP_H + FN_H + FP_H + TN_H: 301371\n",
      "    len(label_mask_current_deforestation_test): 44572689\n",
      "ic| TP_H + FN_H + FP_H + TN_H: 301371\n",
      "    len(label_mask_current_deforestation_test): 44572689\n"
     ]
    },
    {
     "name": "stdout",
     "output_type": "stream",
     "text": [
      "cm_correct [[43266198   183758]\n",
      " [  107413   713949]]\n",
      "cm_incorrect [[255655   7823]\n",
      " [ 26595  11298]]\n",
      "[0.79530292 0.86922575 0.83089304 0.00676134 0.59086868 0.29815533]\n",
      "0.04356441172979837\n",
      "threshold 0.04356441172979837\n",
      "(43060956,) (43060956,)\n"
     ]
    },
    {
     "name": "stderr",
     "output_type": "stream",
     "text": [
      "ic| label_current_deforestation_test_classified_incorrect.shape: (1511733,)\n",
      "    predicted_test_classified_incorrect.shape: (1511733,)\n",
      "ic"
     ]
    },
    {
     "name": "stdout",
     "output_type": "stream",
     "text": [
      "cm_correct [[42088999   173945]\n",
      " [   89778   708234]]\n",
      "cm_incorrect [[1432854   17636]\n",
      " [  44230   17013]]\n"
     ]
    },
    {
     "name": "stderr",
     "output_type": "stream",
     "text": [
      "| TP_H + FN_H + FP_H + TN_H: 1511733\n",
      "    len(label_mask_current_deforestation_test): 44572689\n",
      "ic| TP_H + FN_H + FP_H + TN_H: 1511733\n",
      "    len(label_mask_current_deforestation_test): 44572689\n"
     ]
    },
    {
     "name": "stdout",
     "output_type": "stream",
     "text": [
      "[0.80282346 0.88749793 0.82424193 0.03391613 0.49100984 0.27779501]\n",
      "0.027497236165785154\n",
      "threshold 0.027497236165785154\n",
      "(39229717,) (39229717,)\n"
     ]
    },
    {
     "name": "stderr",
     "output_type": "stream",
     "text": [
      "ic| label_current_deforestation_test_classified_incorrect.shape: (5342972,)\n",
      "    predicted_test_classified_incorrect.shape: (5342972,)\n"
     ]
    },
    {
     "name": "stdout",
     "output_type": "stream",
     "text": [
      "cm_correct [[38312707   158899]\n",
      " [   64255   693856]]\n"
     ]
    },
    {
     "name": "stderr",
     "output_type": "stream",
     "text": [
      "ic| TP_H + FN_H + FP_H + TN_H: 5342972\n",
      "    len(label_mask_current_deforestation_test): 44572689\n",
      "ic| TP_H + FN_H + FP_H + TN_H: 5342972\n",
      "    len(label_mask_current_deforestation_test): 44572689\n"
     ]
    },
    {
     "name": "stdout",
     "output_type": "stream",
     "text": [
      "cm_incorrect [[5209146   32682]\n",
      " [  69753   31391]]\n",
      "[0.81366395 0.91524328 0.80750883 0.11987098 0.48992555 0.31035949]\n",
      "0.0534944723315703\n",
      "threshold 0.0534944723315703\n",
      "(43872649,) (43872649,)\n"
     ]
    },
    {
     "name": "stderr",
     "output_type": "stream",
     "text": [
      "ic| label_current_deforestation_test_classified_incorrect.shape: (700040,)\n",
      "    predicted_test_classified_incorrect.shape: (700040,)\n",
      "ic| TP_H + FN_H + FP_H + TN_H: 700040\n",
      "    len(label_mask_current_deforestation_test): 44572689\n",
      "ic| TP_H + FN_H + FP_H + TN_H: 700040\n",
      "    len(label_mask_current_deforestation_test): 44572689\n"
     ]
    },
    {
     "name": "stdout",
     "output_type": "stream",
     "text": [
      "cm_correct [[42883942   178837]\n",
      " [   98521   711349]]\n",
      "cm_incorrect [[637911  12744]\n",
      " [ 35487  13898]]\n",
      "[0.79910154 0.87834961 0.82786716 0.01570558 0.52165753 0.28142148]\n",
      "0.037427296767557086\n",
      "threshold 0.037427296767557086\n",
      "(42024559,) (42024559,)\n"
     ]
    },
    {
     "name": "stderr",
     "output_type": "stream",
     "text": [
      "ic| label_current_deforestation_test_classified_incorrect.shape: (2548130,)\n",
      "    predicted_test_classified_incorrect.shape: (2548130,)\n"
     ]
    },
    {
     "name": "stdout",
     "output_type": "stream",
     "text": [
      "cm_correct [[41068085   169847]\n",
      " [   81771   704856]]\n"
     ]
    },
    {
     "name": "stderr",
     "output_type": "stream",
     "text": [
      "ic| TP_H + FN_H + FP_H + TN_H: 2548130\n",
      "    len(label_mask_current_deforestation_test): 44572689\n",
      "ic| TP_H + FN_H + FP_H + TN_H: 2548130\n",
      "    len(label_mask_current_deforestation_test): 44572689\n"
     ]
    },
    {
     "name": "stdout",
     "output_type": "stream",
     "text": [
      "cm_incorrect [[2453768   21734]\n",
      " [  52237   20391]]\n",
      "[0.80582323 0.89604857 0.82031062 0.05716797 0.48405935 0.28075949]\n",
      "0.047357357369329015\n",
      "threshold 0.047357357369329015\n",
      "(43467626,) (43467626,)\n"
     ]
    },
    {
     "name": "stderr",
     "output_type": "stream",
     "text": [
      "ic| label_current_deforestation_test_classified_incorrect.shape: (1105063,)\n",
      "    predicted_test_classified_incorrect.shape: (1105063,)\n",
      "ic| TP_H + FN_H + FP_H + TN_H: 1105063\n",
      "    len(label_mask_current_deforestation_test): 44572689\n",
      "ic| TP_H + FN_H + FP_H + TN_H: 1105063\n",
      "    len(label_mask_current_deforestation_test): 44572689\n"
     ]
    },
    {
     "name": "stdout",
     "output_type": "stream",
     "text": [
      "cm_correct [[42488286   176111]\n",
      " [   93529   709700]]\n",
      "cm_incorrect [[1033567   15470]\n",
      " [  40479   15547]]\n",
      "[0.80118671 0.88355874 0.82594806 0.02479238 0.50124125 0.27749616]\n",
      "0.043978084329309865\n",
      "threshold 0.043978084329309865\n",
      "(43112850,) (43112850,)\n"
     ]
    },
    {
     "name": "stderr",
     "output_type": "stream",
     "text": [
      "ic| label_current_deforestation_test_classified_incorrect.shape: (1459839,)\n",
      "    predicted_test_classified_incorrect.shape: (1459839,)\n",
      "ic| TP_H + FN_H + FP_H "
     ]
    },
    {
     "name": "stdout",
     "output_type": "stream",
     "text": [
      "cm_correct [[42139970   174216]\n",
      " [   90252   708412]]\n",
      "cm_incorrect [[1381883   17365]\n",
      " [  43756   16835]]\n"
     ]
    },
    {
     "name": "stderr",
     "output_type": "stream",
     "text": [
      "+ TN_H: 1459839\n",
      "    len(label_mask_current_deforestation_test): 44572689\n",
      "ic| TP_H + FN_H + FP_H + TN_H: 1459839\n",
      "    len(label_mask_current_deforestation_test): 44572689\n"
     ]
    },
    {
     "name": "stdout",
     "output_type": "stream",
     "text": [
      "[0.80261673 0.88699628 0.82444909 0.03275187 0.49225146 0.27784654]\n",
      "0.04527852926400732\n",
      "threshold 0.04527852926400732\n",
      "(43262901,) (43262901,)\n"
     ]
    },
    {
     "name": "stderr",
     "output_type": "stream",
     "text": [
      "ic| label_current_deforestation_test_classified_incorrect.shape: (1309788,)\n",
      "    predicted_test_classified_incorrect.shape: (1309788,)\n",
      "ic| TP_H + FN_H + FP_H + TN_H: 1309788\n",
      "    len(label_mask_current_deforestation_test): 44572689\n",
      "ic| TP_H + FN_H + FP_H + TN_H: 1309788\n",
      "    len(label_mask_current_deforestation_test): 44572689\n"
     ]
    },
    {
     "name": "stdout",
     "output_type": "stream",
     "text": [
      "cm_correct [[42287375   174968]\n",
      " [   91616   708942]]\n",
      "cm_incorrect [[1234478   16613]\n",
      " [  42392   16305]]\n",
      "[0.80205225 0.88555982 0.8250659  0.02938544 0.49532171 0.27778251]\n",
      "0.04607257094347166\n",
      "threshold 0.04607257094347166\n",
      "(43345613,) (43345613,)\n"
     ]
    },
    {
     "name": "stderr",
     "output_type": "stream",
     "text": [
      "ic| label_current_deforestation_test_classified_incorrect.shape: (1227076,)\n",
      "    predicted_test_classified_incorrect.shape: (1227076,)\n",
      "ic| TP_H + FN_H + FP_H + TN_H: 1227076\n",
      "    len(label_mask_current_deforestation_test): 44572689\n",
      "ic| TP_H + FN_H + FP_H + TN_H: 1227076\n",
      "    len(label_mask_current_deforestation_test): 44572689\n"
     ]
    },
    {
     "name": "stdout",
     "output_type": "stream",
     "text": [
      "cm_correct [[42368596   175433]\n",
      " [   92346   709238]]\n",
      "cm_incorrect [[1153257   16148]\n",
      " [  41662   16009]]\n",
      "[0.8016969  0.8847956  0.82541038 0.02752977 0.49783873 0.27759186]\n",
      "0.04506070560109445\n",
      "threshold 0.04506070560109445\n",
      "(43238821,) (43238821,)\n"
     ]
    },
    {
     "name": "stderr",
     "output_type": "stream",
     "text": [
      "ic| label_current_deforestation_test_classified_incorrect.shape: (1333868,)\n",
      "    predicted_test_classified_incorrect.shape: (1333868,)\n",
      "ic| TP_H + FN_H + FP_H + TN_H: 1333868\n",
      "    len(label_mask_current_deforestation_test): 44572689\n",
      "ic| TP_H + FN_H + FP_H + TN_H: 1333868\n",
      "    len(label_mask_current_deforestation_test)"
     ]
    },
    {
     "name": "stdout",
     "output_type": "stream",
     "text": [
      "cm_correct [[42263710   174846]\n",
      " [   91397   708868]]\n",
      "cm_incorrect [[1258143   16735]\n",
      " [  42611   16379]]\n"
     ]
    },
    {
     "name": "stderr",
     "output_type": "stream",
     "text": [
      ": 44572689\n"
     ]
    },
    {
     "name": "stdout",
     "output_type": "stream",
     "text": [
      "[0.8021464  0.88579158 0.82497978 0.02992568 0.49462463 0.27765723]\n",
      "0.04464718107221638\n",
      "threshold 0.04464718107221638\n",
      "(43192235,) (43192235,)\n"
     ]
    },
    {
     "name": "stderr",
     "output_type": "stream",
     "text": [
      "ic| label_current_deforestation_test_classified_incorrect.shape: (1380454,)\n",
      "    predicted_test_classified_incorrect.shape: (1380454,)\n",
      "ic| TP_H "
     ]
    },
    {
     "name": "stdout",
     "output_type": "stream",
     "text": [
      "cm_correct [[42217988   174604]\n",
      " [   90962   708681]]\n",
      "cm_incorrect [[1303865   16977]\n",
      " [  43046   16566]]\n"
     ]
    },
    {
     "name": "stderr",
     "output_type": "stream",
     "text": [
      "+ FN_H + FP_H + TN_H: 1380454\n",
      "    len(label_mask_current_deforestation_test): 44572689\n",
      "ic| TP_H + FN_H + FP_H + TN_H: 1380454\n",
      "    len(label_mask_current_deforestation_test): 44572689\n"
     ]
    },
    {
     "name": "stdout",
     "output_type": "stream",
     "text": [
      "[0.80232428 0.88624674 0.82476215 0.03097085 0.49387354 0.27789707]\n",
      "0.045001180469832966\n",
      "threshold 0.045001180469832966\n",
      "(43232243,) (43232243,)\n"
     ]
    },
    {
     "name": "stderr",
     "output_type": "stream",
     "text": [
      "ic| label_current_deforestation_test_classified_incorrect.shape: (1340446,)\n",
      "    predicted_test_classified_incorrect.shape: (1340446,)\n",
      "ic| TP_H + FN_H + FP_H + TN_H: 1340446\n",
      "    len(label_mask_current_deforestation_test): 44572689\n",
      "ic| TP_H + FN_H + FP_H + TN_H: 1340446\n",
      "    len(label_mask_current_deforestation_test): 44572689\n"
     ]
    },
    {
     "name": "stdout",
     "output_type": "stream",
     "text": [
      "cm_correct [[42257234   174812]\n",
      " [   91349   708848]]\n",
      "cm_incorrect [[1264619   16769]\n",
      " [  42659   16399]]\n",
      "[0.80217278 0.88584186 0.8249565  0.03007326 0.49442233 0.27767618]\n",
      "0.04496784646902426\n",
      "threshold 0.04496784646902426\n",
      "(43228553,) (43228553,)\n"
     ]
    },
    {
     "name": "stderr",
     "output_type": "stream",
     "text": [
      "ic| label_current_deforestation_test_classified_incorrect.shape: (1344136,)\n",
      "    predicted_test_classified_incorrect.shape: (1344136,)\n",
      "ic| TP_H + FN_H + FP_H + TN_H: 1344136\n",
      "    len(label_mask_current_deforestation_test): 44572689\n",
      "ic| TP_H + FN_H + FP_H + TN_H: 1344136\n",
      "    len(label_mask_current_deforestation_test): 44572689\n"
     ]
    },
    {
     "name": "stdout",
     "output_type": "stream",
     "text": [
      "cm_correct [[42253621   174791]\n",
      " [   91309   708832]]\n",
      "cm_incorrect [[1268232   16790]\n",
      " [  42699   16415]]\n",
      "[0.80218826 0.88588386 0.82493788 0.03015604 0.49435326 0.2776838 ]\n"
     ]
    },
    {
     "name": "stderr",
     "output_type": "stream",
     "text": [
      "ic| self.threshold_optimal: 0.045001180469832966\n"
     ]
    },
    {
     "name": "stdout",
     "output_type": "stream",
     "text": [
      "threshold 0.045001180469832966\n",
      "(43232243,) (43232243,)\n"
     ]
    },
    {
     "name": "stderr",
     "output_type": "stream",
     "text": [
      "ic| label_current_deforestation_test_classified_incorrect.shape: (1340446,)\n",
      "    predicted_test_classified_incorrect.shape: (1340446,)\n",
      "ic| TP_H + FN_H + FP_H + TN_H: 1340446\n",
      "    len(label_mask_current_deforestation_test): 44572689\n"
     ]
    },
    {
     "name": "stdout",
     "output_type": "stream",
     "text": [
      "cm_correct [[42257234   174812]\n",
      " [   91349   708848]]\n",
      "cm_incorrect [[1264619   16769]\n",
      " [  42659   16399]]\n"
     ]
    },
    {
     "name": "stderr",
     "output_type": "stream",
     "text": [
      "ic| TP_H + FN_H + FP_H + TN_H: 1340446\n",
      "    len(label_mask_current_deforestation_test): 44572689\n"
     ]
    },
    {
     "name": "stdout",
     "output_type": "stream",
     "text": [
      "[0.80217278 0.88584186 0.8249565  0.03007326 0.49442233 0.27767618]\n",
      "threshold 0.045001180469832966\n",
      "(44572689,) (44572689,)\n"
     ]
    },
    {
     "name": "stderr",
     "output_type": "stream",
     "text": [
      "ic| self.m_optimal: {'AA': array([0.03007326]),\n",
      "                     'f1': 81.67,\n",
      "                     'f1_H': array([0.3556264]),\n",
      "                     'f1_L': array([0.84193373]),\n",
      "                     'precision_H': array([0.49442233]),\n",
      "                     'precision_L': array([0.80217278]),\n",
      "                     'recall_H': array([0.27767618]),\n",
      "                     'recall_L': array([0.88584186]),\n",
      "                     'recall_Ltotal': array([0.8249565])}\n",
      "ic| self.m_audited_optimal: {'f1': array([0.85229468]),\n",
      "                             'precision': array([0.81456597]),\n",
      "                             'recall': array([0.89368814])}\n",
      " 40%|████      | 4/10 [1:51:57<2:49:02, 1690.43s/it]"
     ]
    },
    {
     "name": "stdout",
     "output_type": "stream",
     "text": [
      "cm_audited [[43538622   174812]\n",
      " [   91349   767906]]\n",
      "[0.81456597 0.89368814]\n",
      "self.exp, results 134 {'pred_entropy': {'metrics': {'precision_L': array([0.86176067]), 'recall_L': array([0.97047557]), 'recall_Ltotal': array([0.67373597]), 'AA': array([0.03000106]), 'precision_H': array([0.59716549]), 'recall_H': array([0.55697821]), 'f1_L': array([0.91289285]), 'f1_H': array([0.57637219]), 'f1': 81.67}, 'metrics_audited': {'precision': array([0.90062589]), 'recall': array([0.97950317]), 'f1': array([0.93840996])}}, 'pred_var': {'metrics': {'precision_L': array([0.89799084]), 'recall_L': array([0.94729354]), 'recall_Ltotal': array([0.53695934]), 'AA': array([0.03002522]), 'precision_H': array([0.65469406]), 'recall_H': array([0.70892721]), 'f1_L': array([0.92198355]), 'f1_H': array([0.68073217]), 'f1': 81.67}, 'metrics_audited': {'precision': array([0.94084398]), 'recall': array([0.97012412]), 'f1': array([0.95525973])}}, 'MI': {'metrics': {'precision_L': array([0.81739286]), 'recall_L': array([0.91706326]), 'recall_Ltotal': array([0.80083677]), 'AA': array([0.02995141]), 'precision_H': array([0.49513851]), 'recall_H': array([0.34089991]), 'f1_L': array([0.86436428]), 'f1_H': array([0.40379167]), 'f1': 81.67}, 'metrics_audited': {'precision': array([0.83830887]), 'recall': array([0.92757447]), 'f1': array([0.88068548])}}, 'KL': {'metrics': {'precision_L': array([0.80217278]), 'recall_L': array([0.88584186]), 'recall_Ltotal': array([0.8249565]), 'AA': array([0.03007326]), 'precision_H': array([0.49442233]), 'recall_H': array([0.27767618]), 'f1_L': array([0.84193373]), 'f1_H': array([0.3556264]), 'f1': 81.67}, 'metrics_audited': {'precision': array([0.81456597]), 'recall': array([0.89368814]), 'f1': array([0.85229468])}}}\n",
      "D:/Jorge/datasets/deforestation/MT/deforestation_past_years.tif\n",
      "Loaded deforestation past years\n"
     ]
    },
    {
     "name": "stderr",
     "output_type": "stream",
     "text": [
      "ic| np.unique(deforestation_past_years, return_counts=True): (array([   0, 2008, 2009, 2010, 2011, 2012, 2013, 2014, 2015, 2016, 2017,\n",
      "                                                                    2018, 2019, 2020, 2021], dtype=uint16),\n",
      "                                                              array([161124576,   1332784,    240796,    338545,    313901,    287191,\n",
      "                                                                       708581,    648966,    876898,   1007787,   1098901,   1054092,\n",
      "                                                                      2096062,   2473828,   1400992], dtype=int64))\n"
     ]
    },
    {
     "name": "stdout",
     "output_type": "stream",
     "text": [
      "Label where deforestation past years is actual date (2020) = 1\n"
     ]
    },
    {
     "name": "stderr",
     "output_type": "stream",
     "text": [
      "ic| np.unique(deforestation_past_years, return_counts=True): (array([   0, 2008, 2009, 2010, 2011, 2012, 2013, 2014, 2015, 2016, 2017,\n",
      "                                                                    2018, 2019, 2020, 2021], dtype=uint16),\n",
      "                                                              array([161124576,   1332784,    240796,    338545,    313901,    287191,\n",
      "                                                                       708581,    648966,    876898,   1007787,   1098901,   1054092,\n",
      "                                                                      2096062,   2473828,   1400992], dtype=int64))\n"
     ]
    },
    {
     "name": "stdout",
     "output_type": "stream",
     "text": [
      "Past deforestation different from 0 (no deforestation)\n"
     ]
    },
    {
     "name": "stderr",
     "output_type": "stream",
     "text": [
      "ic| np.unique(deforestation_past_years, return_counts=True): (array([   0, 2008, 2009, 2010, 2011, 2012, 2013, 2014, 2015, 2016, 2017,\n",
      "                                                                    2018, 2019, 2020, 2021], dtype=uint16),\n",
      "                                                              array([161124576,   1332784,    240796,    338545,    313901,    287191,\n",
      "                                                                       708581,    648966,    876898,   1007787,   1098901,   1054092,\n",
      "                                                                      2096062,   2473828,   1400992], dtype=int64))\n"
     ]
    },
    {
     "name": "stdout",
     "output_type": "stream",
     "text": [
      "Past deforestation before 2008 is 2\n",
      "D:/Jorge/datasets/deforestation/MT/deforestation_before_2008/deforestation_before_2008_MT.tif\n"
     ]
    },
    {
     "name": "stderr",
     "output_type": "stream",
     "text": [
      "ic| np.unique(label_past_deforestation_before_2008, return_counts=True): (array([  0, 215], dtype=uint8), array([122623260,  52380640], dtype=int64))\n",
      "ic| np.unique(deforestation_past_years, return_counts=True): (array([   0, 2008, 2009, 2010, 2011, 2012, 2013, 2014, 2015, 2016, 2017,\n",
      "                                                                    2018, 2019, 2020, 2021], dtype=uint16),\n",
      "                                                              array([161124576,   1332784,    240796,    338545,    313901,    287191,\n",
      "                                                                       708581,    648966,    876898,   1007787,   1098901,   1054092,\n",
      "                                                                      2096062,   2473828,   1400992], dtype=int64))\n",
      "ic| label_per_date.shape: (16795, 10420, 1)\n"
     ]
    },
    {
     "name": "stdout",
     "output_type": "stream",
     "text": [
      "Mask label shape:  \n",
      " (16795, 10420, 1) \n",
      " Unique values:  \n",
      " [0 1 2]\n",
      "Tiles size:  3359 2084\n",
      "Mask size:  (16795, 10420)\n"
     ]
    },
    {
     "name": "stderr",
     "output_type": "stream",
     "text": [
      "ic| image_stack.shape: (16795, 10420, 21)\n"
     ]
    },
    {
     "name": "stdout",
     "output_type": "stream",
     "text": [
      "Image shape:  (16795, 10420, 21)\n",
      "mask:  (16795, 10420)\n",
      "image stack:  (16795, 10420, 21)\n",
      "ref : (16795, 10420, 1)\n",
      "Training tiles:  [2, 4, 5, 6, 7, 12, 14, 15, 18, 21, 23, 24]\n",
      "Validation tiles:  [9, 11, 25]\n",
      "Test tiles:  [1, 3, 8, 10, 13, 16, 17, 19, 20, 22]\n",
      "-5.0 -12.0\n"
     ]
    },
    {
     "name": "stderr",
     "output_type": "stream",
     "text": [
      "ic| self.path_models+ '/' + self.method +'_'+str(0)+'.h5': 'D:/Jorge/datasets/deforestation/experiments/MT/exp135/models/resunet_0.h5'\n"
     ]
    },
    {
     "name": "stdout",
     "output_type": "stream",
     "text": [
      "time:  0\n",
      "time:  1\n",
      "time:  2\n",
      "time:  3\n",
      "time:  4\n",
      "time:  5\n",
      "time:  6\n",
      "time:  7\n",
      "time:  8\n",
      "time:  9\n",
      "(44657480,)\n",
      "(array([0, 1], dtype=uint8), array([43783238,   874242], dtype=int64))\n",
      "(16795, 10420)\n",
      "(array([0., 1.], dtype=float32), array([173015966,   1987934], dtype=int64))\n"
     ]
    },
    {
     "name": "stderr",
     "output_type": "stream",
     "text": [
      "ic| self.predicted_unpad.shape: (16795, 10420)\n",
      "    self.predicted.shape: (16795, 10420)\n",
      "ic| predicted_test.shape: (70001560,)\n",
      "ic| predicted_test.shape: (44657480,)\n",
      "ic| np.unique(predicted, return_counts=True): (array([0., 1.], dtype=float32), array([173015966,   1987934], dtype=int64))\n",
      "    np.unique(predicted_larger_than_min_area, return_counts=True): (array([0., 1.], dtype=float32), array([173139139,   1864761], dtype=int64))\n",
      "ic| np.unique(ignored_polygons, return_counts=True): (array([0., 1.], dtype=float32), array([174880727,    123173], dtype=int64))\n",
      "ic| predicted.shape: (16795, 10420), label_mask.shape: (16795, 10420)\n",
      "ic| predicted_masked.shape: (70001560,)\n",
      "    label_masked.shape: (70001560,)\n",
      "ic| np.unique(label_masked, return_counts=True): (array([0, 1, 2], dtype=uint8),\n",
      "                                                  array([43749713,   863386, 25388461], dtype=int64))\n",
      "ic| predicted_masked.shape: (44613099,)\n",
      "    label_masked.shape: (44613099,)\n",
      "ic| self.f1: 77.77, self.precision: 88.21, self.recall: 69.55\n",
      "ic| self.label_mask_val.shape: (21000468,)\n",
      "ic| self.label_mask_val_valid.shape: (11793292,)\n",
      "ic| f1_val: 95.12\n",
      "    precision_val: 97.91\n",
      "    recall_val: 92.48\n",
      "    mAP_val: 98.95\n"
     ]
    },
    {
     "name": "stdout",
     "output_type": "stream",
     "text": [
      "(array([0., 1.], dtype=float32), array([173926859,   1077041], dtype=int64))\n"
     ]
    },
    {
     "name": "stderr",
     "output_type": "stream",
     "text": [
      "ic| self.label_mask.shape: (16795, 10420)\n",
      "ic| self.mask_amazon_ts.shape: (16795, 10420)\n",
      "ic| self.label_mask_test.shape: (70001560,)\n",
      "ic| self.error_mask_test.shape: (44613099,)\n",
      "ic| bounds: (0.0015, 0.3663794801235199)\n",
      "c:\\Users\\jchamorro\\Anaconda3\\envs\\tf2\\lib\\site-packages\\scipy\\optimize\\_minimize.py:783: RuntimeWarning: Method 'bounded' does not support relative tolerance in x; defaulting to absolute tolerance.\n",
      "  warn(\"Method 'bounded' does not support relative tolerance in x; \"\n"
     ]
    },
    {
     "name": "stdout",
     "output_type": "stream",
     "text": [
      "0.1408715596097929\n",
      "threshold 0.1408715596097929\n",
      "(43670867,) (43670867,)\n"
     ]
    },
    {
     "name": "stderr",
     "output_type": "stream",
     "text": [
      "ic| label_current_deforestation_test_classified_incorrect.shape: (942232,)\n",
      "    predicted_test_classified_incorrect.shape: (942232,)\n",
      "ic| TP_H + FN_H + FP_H + TN_H: 942232\n",
      "    len(label_mask_current_deforestation_test): 44613099\n",
      "ic| TP_H + "
     ]
    },
    {
     "name": "stdout",
     "output_type": "stream",
     "text": [
      "cm_correct [[43089214    25697]\n",
      " [   86820   469136]]\n",
      "cm_incorrect [[580202  54600]\n",
      " [176085 131345]]\n"
     ]
    },
    {
     "name": "stderr",
     "output_type": "stream",
     "text": [
      "FN_H + FP_H + TN_H: 942232\n",
      "    len(label_mask_current_deforestation_test): 44613099\n"
     ]
    },
    {
     "name": "stdout",
     "output_type": "stream",
     "text": [
      "[0.94806935 0.84383656 0.54336762 0.02112008 0.70636479 0.42723547]\n",
      "0.22700792051372695\n",
      "threshold 0.22700792051372695\n",
      "(44025467,) (44025467,)\n"
     ]
    },
    {
     "name": "stderr",
     "output_type": "stream",
     "text": [
      "ic| label_current_deforestation_test_classified_incorrect.shape: (587632,)\n",
      "    predicted_test_classified_incorrect.shape: (587632,)\n",
      "ic| TP_H + FN_H + FP_H + TN_H: 587632\n",
      "    len(label_mask_current_deforestation_test): 44613099\n",
      "ic| TP_H + FN_H + FP_H + TN_H: 587632\n",
      "    len(label_mask_current_deforestation_test): 44613099\n"
     ]
    },
    {
     "name": "stdout",
     "output_type": "stream",
     "text": [
      "cm_correct [[43342124    43692]\n",
      " [  115335   524316]]\n",
      "cm_incorrect [[327292  36605]\n",
      " [147570  76165]]\n",
      "[0.92307855 0.81969074 0.60727878 0.01317174 0.67540126 0.34042506]\n",
      "0.08763636090393405\n",
      "threshold 0.08763636090393405\n",
      "(42159308,) (42159308,)\n"
     ]
    },
    {
     "name": "stderr",
     "output_type": "stream",
     "text": [
      "ic| label_current_deforestation_test_classified_incorrect.shape: (2453791,)\n",
      "    predicted_test_classified_incorrect.shape: (2453791,)\n"
     ]
    },
    {
     "name": "stdout",
     "output_type": "stream",
     "text": [
      "cm_correct [[41653153    16720]\n",
      " [   69133   420302]]\n"
     ]
    },
    {
     "name": "stderr",
     "output_type": "stream",
     "text": [
      "ic| TP_H + FN_H + FP_H + TN_H: 2453791\n",
      "    len(label_mask_current_deforestation_test): 44613099\n",
      "ic| TP_H + FN_H + FP_H + TN_H: 2453791\n",
      "    len(label_mask_current_deforestation_test): 44613099\n"
     ]
    },
    {
     "name": "stdout",
     "output_type": "stream",
     "text": [
      "cm_incorrect [[2016263   63577]\n",
      " [ 193772  180179]]\n",
      "[0.96174106 0.85874937 0.4868066  0.05500158 0.7391777  0.48182516]\n",
      "0.16766511473060797\n",
      "threshold 0.16766511473060797\n",
      "(43803921,) (43803921,)\n"
     ]
    },
    {
     "name": "stderr",
     "output_type": "stream",
     "text": [
      "ic| label_current_deforestation_test_classified_incorrect.shape: (809178,)\n",
      "    predicted_test_classified_incorrect.shape: (809178,)\n",
      "ic| TP_H + FN_H + FP_H + TN_H: 809178\n",
      "    len(label_mask_current_deforestation_test): 44613099\n",
      "ic| TP_H + FN_H + FP_H + TN_H: 809178\n",
      "    len(label_mask_current_deforestation_test): 44613099\n"
     ]
    },
    {
     "name": "stdout",
     "output_type": "stream",
     "text": [
      "cm_correct [[43190837    30458]\n",
      " [   95272   487354]]\n",
      "cm_incorrect [[478579  49839]\n",
      " [167633 113127]]\n",
      "[0.94117942 0.83647829 0.56446827 0.01813768 0.69417547 0.40293133]\n",
      "0.12053752310200923\n",
      "threshold 0.12053752310200923\n",
      "(43518127,) (43518127,)\n"
     ]
    },
    {
     "name": "stderr",
     "output_type": "stream",
     "text": [
      "ic| label_current_deforestation_test_classified_incorrect.shape: (1094972,)\n",
      "    predicted_test_classified_incorrect.shape: (1094972,)\n",
      "ic| TP_H + FN_H + FP_H + TN_H: 1094972\n",
      "    len(label_mask_current_deforestation_test): 44613099\n",
      "ic| TP_H + FN_H + FP_H + TN_H: 1094972\n",
      "    len(label_mask_current_deforestation_test): 44613099\n"
     ]
    },
    {
     "name": "stdout",
     "output_type": "stream",
     "text": [
      "cm_correct [[42962487    22116]\n",
      " [   80320   453204]]\n",
      "cm_incorrect [[706929  58181]\n",
      " [182585 147277]]\n",
      "[0.95347135 0.84945382 0.5249147  0.02454373 0.7168229  0.44648065]\n",
      "0.10797039741171771\n",
      "threshold 0.10797039741171771\n",
      "(43266564,) (43266564,)\n"
     ]
    },
    {
     "name": "stderr",
     "output_type": "stream",
     "text": [
      "ic| label_current_deforestation_test_classified_incorrect.shape: (1346535,)\n",
      "    predicted_test_classified_incorrect.shape: (1346535,)\n",
      "ic| TP_H + FN_H + FP_H + TN_H: 1346535\n",
      "    len(label_mask_current_deforestation_test): 44613099\n",
      "ic| TP_H + FN_H + FP_H + TN_H: 1346535\n",
      "    len(label_mask_current_deforestation_test): 44613099\n"
     ]
    },
    {
     "name": "stdout",
     "output_type": "stream",
     "text": [
      "cm_correct [[42728405    20136]\n",
      " [   76094   441929]]\n",
      "cm_incorrect [[941011  60161]\n",
      " [186811 158552]]\n",
      "[0.95642172 0.85310691 0.51185565 0.0301825  0.72493176 0.45908797]\n",
      "0.10020348659422557\n",
      "threshold 0.10020348659422557\n",
      "(42896210,) (42896210,)\n"
     ]
    },
    {
     "name": "stderr",
     "output_type": "stream",
     "text": [
      "ic| label_current_deforestation_test_classified_incorrect.shape: (1716889,)\n",
      "    predicted_test_classified_incorrect.shape: (1716889,)\n"
     ]
    },
    {
     "name": "stdout",
     "output_type": "stream",
     "text": [
      "cm_correct [[42369662    18843]\n",
      " [   73376   434329]]\n"
     ]
    },
    {
     "name": "stderr",
     "output_type": "stream",
     "text": [
      "ic| TP_H + FN_H + FP_H + TN_H: 1716889\n",
      "    len(label_mask_current_deforestation_test): 44613099\n",
      "ic| TP_H + FN_H + FP_H + TN_H: 1716889\n",
      "    len(label_mask_current_deforestation_test): 44613099\n"
     ]
    },
    {
     "name": "stdout",
     "output_type": "stream",
     "text": [
      "cm_incorrect [[1299754   61454]\n",
      " [ 189529  166152]]\n",
      "[0.95841976 0.85547513 0.5030531  0.03848397 0.72999833 0.46713769]\n",
      "0.11138755447561725\n",
      "threshold 0.11138755447561725\n",
      "(43367723,) (43367723,)\n"
     ]
    },
    {
     "name": "stderr",
     "output_type": "stream",
     "text": [
      "ic| label_current_deforestation_test_classified_incorrect.shape: (1245376,)\n",
      "    predicted_test_classified_incorrect.shape: (1245376,)\n",
      "ic| TP_H + FN_H + FP_H + TN_H: 1245376\n",
      "    len(label_mask_current_deforestation_test): 44613099\n",
      "ic| TP_H + FN_H + FP_H + TN_H: 1245376\n",
      "    len(label_mask_current_deforestation_test): 44613099\n"
     ]
    },
    {
     "name": "stdout",
     "output_type": "stream",
     "text": [
      "cm_correct [[42824598    20711]\n",
      " [   77294   445120]]\n",
      "cm_incorrect [[844818  59586]\n",
      " [185611 155361]]\n",
      "[0.95553967 0.85204455 0.51555156 0.02791503 0.72278748 0.45564152]\n",
      "0.10500370146702494\n",
      "threshold 0.10500370146702494\n",
      "(43147492,) (43147492,)\n"
     ]
    },
    {
     "name": "stderr",
     "output_type": "stream",
     "text": [
      "ic| label_current_deforestation_test_classified_incorrect.shape: (1465607,)\n",
      "    predicted_test_classified_incorrect.shape: (1465607,)\n",
      "ic| TP_H + FN_H + FP_H + TN_H: 1465607\n",
      "    "
     ]
    },
    {
     "name": "stdout",
     "output_type": "stream",
     "text": [
      "cm_correct [[42613649    19648]\n",
      " [   75053   439142]]\n",
      "cm_incorrect [[1055767   60649]\n",
      " [ 187852  161339]]\n"
     ]
    },
    {
     "name": "stderr",
     "output_type": "stream",
     "text": [
      "len(label_mask_current_deforestation_test): 44613099\n",
      "ic| TP_H + FN_H + FP_H + TN_H: 1465607\n",
      "    len(label_mask_current_deforestation_test): 44613099\n"
     ]
    },
    {
     "name": "stdout",
     "output_type": "stream",
     "text": [
      "[0.95717431 0.85403787 0.50862766 0.0328515  0.72679154 0.46203654]\n",
      "0.10845878708128107\n",
      "threshold 0.10845878708128107\n",
      "(43283081,) (43283081,)\n"
     ]
    },
    {
     "name": "stderr",
     "output_type": "stream",
     "text": [
      "ic| label_current_deforestation_test_classified_incorrect.shape: (1330018,)\n",
      "    predicted_test_classified_incorrect.shape: (1330018,)\n",
      "ic| TP_H + FN_H + FP_H + TN_H: 1330018\n",
      "    len(label_mask_current_deforestation_test): 44613099\n",
      "ic| TP_H + FN_H + FP_H + TN_H: 1330018\n",
      "    len(label_mask_current_deforestation_test): 44613099\n"
     ]
    },
    {
     "name": "stdout",
     "output_type": "stream",
     "text": [
      "cm_correct [[42744175    20216]\n",
      " [   76277   442413]]\n",
      "cm_incorrect [[925241  60081]\n",
      " [186628 158068]]\n",
      "[0.95630192 0.85294299 0.51241623 0.02981228 0.72458732 0.45857219]\n",
      "0.1081859215197775\n",
      "threshold 0.1081859215197775\n",
      "(43273982,) (43273982,)\n"
     ]
    },
    {
     "name": "stderr",
     "output_type": "stream",
     "text": [
      "ic| label_current_deforestation_test_classified_incorrect.shape: (1339117,)\n",
      "    predicted_test_classified_incorrect.shape: (1339117,)\n",
      "ic| TP_H + FN_H + FP_H + TN_H: 1339117\n",
      "    len(label_mask_current_deforestation_test): 44613099\n",
      "ic| TP_H + FN_H + FP_H + TN_H: 1339117\n",
      "    len(label_mask_current_deforestation_test): 44613099\n"
     ]
    },
    {
     "name": "stdout",
     "output_type": "stream",
     "text": [
      "cm_correct [[42735504    20174]\n",
      " [   76162   442142]]\n",
      "cm_incorrect [[933912  60123]\n",
      " [186743 158339]]\n",
      "[0.95636318 0.85305535 0.51210235 0.03001623 0.72478967 0.45884456]\n",
      "0.10821925645776737\n",
      "threshold 0.10821925645776737\n",
      "(43275095,) (43275095,)\n"
     ]
    },
    {
     "name": "stderr",
     "output_type": "stream",
     "text": [
      "ic| label_current_deforestation_test_classified_incorrect.shape: (1338004,)\n",
      "    predicted_test_classified_incorrect.shape: (1338004,)\n",
      "ic| TP_H + FN_H + FP_H + TN_H: 1338004\n",
      "    len(label_mask_current_deforestation_test): 44613099\n",
      "ic| TP_H + FN_H + FP_H + TN_H: 1338004\n",
      "    len(label_mask_current_deforestation_test): 44613099\n"
     ]
    },
    {
     "name": "stdout",
     "output_type": "stream",
     "text": [
      "cm_correct [[42736571    20174]\n",
      " [   76178   442172]]\n",
      "cm_incorrect [[932845  60123]\n",
      " [186727 158309]]\n",
      "[0.95636601 0.85303752 0.5121371  0.02999128 0.72475187 0.45881879]\n",
      "0.10825391557667732\n",
      "threshold 0.10825391557667732\n",
      "(43276277,) (43276277,)\n"
     ]
    },
    {
     "name": "stderr",
     "output_type": "stream",
     "text": [
      "ic| label_current_deforestation_test_classified_incorrect.shape: (1336822,)\n",
      "    predicted_test_classified_incorrect.shape: (1336822,)\n",
      "ic| TP_H + FN_H + FP_H + TN_H: 1336822\n",
      "    len(label_mask_current_deforestation_test): 44613099\n",
      "ic| TP_H + FN_H + FP_H + TN_H: 1336822\n",
      "    len(label_mask_current_deforestation_test): 44613099\n"
     ]
    },
    {
     "name": "stdout",
     "output_type": "stream",
     "text": [
      "cm_correct [[42737704    20181]\n",
      " [   76192   442200]]\n",
      "cm_incorrect [[931712  60116]\n",
      " [186713 158281]]\n",
      "[0.95635418 0.85302242 0.51216953 0.02996479 0.72473981 0.45879349]\n"
     ]
    },
    {
     "name": "stderr",
     "output_type": "stream",
     "text": [
      "ic| self.threshold_optimal: 0.10821925645776737\n"
     ]
    },
    {
     "name": "stdout",
     "output_type": "stream",
     "text": [
      "threshold 0.10821925645776737\n",
      "(43275095,) (43275095,)\n"
     ]
    },
    {
     "name": "stderr",
     "output_type": "stream",
     "text": [
      "ic| label_current_deforestation_test_classified_incorrect.shape: (1338004,)\n",
      "    predicted_test_classified_incorrect.shape: (1338004,)\n",
      "ic| TP_H + FN_H + FP_H + TN_H: 1338004\n",
      "    len(label_mask_current_deforestation_test): 44613099\n",
      "ic| TP_H + FN_H + FP_H + TN_H: 1338004\n",
      "    len(label_mask_current_deforestation_test): 44613099\n"
     ]
    },
    {
     "name": "stdout",
     "output_type": "stream",
     "text": [
      "cm_correct [[42736571    20174]\n",
      " [   76178   442172]]\n",
      "cm_incorrect [[932845  60123]\n",
      " [186727 158309]]\n",
      "[0.95636601 0.85303752 0.5121371  0.02999128 0.72475187 0.45881879]\n",
      "threshold 0.10821925645776737\n",
      "(44613099,) (44613099,)\n"
     ]
    },
    {
     "name": "stderr",
     "output_type": "stream",
     "text": [
      "ic| self.m_optimal: {'AA': array([0.02999128]),\n",
      "                     'f1': 77.77,\n",
      "                     'f1_H': array([0.56190946]),\n",
      "                     'f1_L': array([0.90175141]),\n",
      "                     'precision_H': array([0.72475187]),\n",
      "                     'precision_L': array([0.95636601]),\n",
      "                     'recall_H': array([0.45881879]),\n",
      "                     'recall_L': array([0.85303752]),\n",
      "                     'recall_Ltotal': array([0.5121371])}\n",
      "ic| self.m_audited_optimal: {'f1': array([0.94233071]),\n",
      "                             'precision': array([0.97501307]),\n",
      "                             'recall': array([0.91176832])}\n"
     ]
    },
    {
     "name": "stdout",
     "output_type": "stream",
     "text": [
      "cm_audited [[43729539    20174]\n",
      " [   76178   787208]]\n",
      "[0.97501307 0.91176832]\n"
     ]
    },
    {
     "name": "stderr",
     "output_type": "stream",
     "text": [
      "ic| self.label_mask.shape: (16795, 10420)\n",
      "ic| self.mask_amazon_ts.shape: (16795, 10420)\n",
      "ic| self.label_mask_test.shape: (70001560,)\n",
      "ic| self.error_mask_test.shape: (44613099,)\n",
      "ic| bounds: (0.0015, 0.2134525135755539)\n",
      "c:\\Users\\jchamorro\\Anaconda3\\envs\\tf2\\lib\\site-packages\\scipy\\optimize\\_minimize.py:783: RuntimeWarning: Method 'bounded' does not support relative tolerance in x; defaulting to absolute tolerance.\n",
      "  warn(\"Method 'bounded' does not support relative tolerance in x; \"\n"
     ]
    },
    {
     "name": "stdout",
     "output_type": "stream",
     "text": [
      "0.08245865618488807\n",
      "threshold 0.08245865618488807\n",
      "(44593631,) (44593631,)\n"
     ]
    },
    {
     "name": "stderr",
     "output_type": "stream",
     "text": [
      "ic| label_current_deforestation_test_classified_incorrect.shape: (19468,)\n",
      "    predicted_test_classified_incorrect.shape: (19468,)\n",
      "ic| TP_H + FN_H + FP_H + TN_H: 19468\n",
      "    len(label_mask_current_deforestation_test): 44613099\n",
      "ic| TP_H + FN_H + FP_H + TN_H: 19468\n",
      "    len(label_mask_current_deforestation_test): 44613099\n"
     ]
    },
    {
     "name": "stdout",
     "output_type": "stream",
     "text": [
      "cm_correct [[43665117    70091]\n",
      " [  260925   597498]]\n",
      "cm_incorrect [[ 4299 10206]\n",
      " [ 1980  2983]]\n",
      "[8.95008755e-01 6.96041462e-01 6.92040408e-01 4.36374079e-04\n",
      " 2.26173326e-01 6.01047753e-01]\n",
      "0.1324938573906658\n",
      "threshold 0.1324938573906658\n",
      "(44606174,) (44606174,)\n"
     ]
    },
    {
     "name": "stderr",
     "output_type": "stream",
     "text": [
      "ic| label_current_deforestation_test_classified_incorrect.shape: (6925,)\n",
      "    predicted_test_classified_incorrect.shape: (6925,)\n",
      "ic| TP_H + FN_H + FP_H + TN_H: 6925\n",
      "    len(label_mask_current_deforestation_test): 44613099\n",
      "ic| TP_H + FN_H + FP_H + TN_H: 6925\n",
      "    len(label_mask_current_deforestation_test): 44613099\n"
     ]
    },
    {
     "name": "stdout",
     "output_type": "stream",
     "text": [
      "cm_correct [[43668749    74149]\n",
      " [  262815   600461]]\n",
      "cm_incorrect [[ 667 6148]\n",
      " [  90   20]]\n",
      "[8.90086124e-01 6.95560864e-01 6.95472245e-01 1.55223469e-04\n",
      " 3.24254215e-03 1.81818182e-01]\n",
      "0.051535201205777724\n",
      "threshold 0.051535201205777724\n",
      "(44550737,) (44550737,)\n"
     ]
    },
    {
     "name": "stderr",
     "output_type": "stream",
     "text": [
      "ic| label_current_deforestation_test_classified_incorrect.shape: (62362,)\n",
      "    predicted_test_classified_incorrect.shape: (62362,)\n",
      "ic| TP_H + FN_H + FP_H + TN_H: 62362\n",
      "    len(label_mask_current_deforestation_test): 44613099\n",
      "ic| TP_H + FN_H + FP_H + TN_H: 62362\n",
      "    len(label_mask_current_deforestation_test): 44613099\n"
     ]
    },
    {
     "name": "stdout",
     "output_type": "stream",
     "text": [
      "cm_correct [[43650170    61984]\n",
      " [  254973   583610]]\n",
      "cm_incorrect [[19246 18313]\n",
      " [ 7932 16871]]\n",
      "[0.90398919 0.69594781 0.6759549  0.00139784 0.47950773 0.68019998]\n",
      "0.03242345497911036\n",
      "threshold 0.03242345497911036\n",
      "(44471757,) (44471757,)\n"
     ]
    },
    {
     "name": "stderr",
     "output_type": "stream",
     "text": [
      "ic| label_current_deforestation_test_classified_incorrect.shape: (141342,)\n",
      "    predicted_test_classified_incorrect.shape: (141342,)\n",
      "ic| TP_H + FN_H + FP_H + TN_H: 141342\n",
      "    len(label_mask_current_deforestation_test): 44613099\n",
      "ic| TP_H + FN_H + FP_H + TN_H: 141342\n",
      "    len(label_mask_current_deforestation_test): 44613099\n"
     ]
    },
    {
     "name": "stdout",
     "output_type": "stream",
     "text": [
      "cm_correct [[43626627    46373]\n",
      " [  242243   556514]]\n",
      "cm_incorrect [[42789 33924]\n",
      " [20662 43967]]\n",
      "[0.92308177 0.69672504 0.64457149 0.00316817 0.5644683  0.68029832]\n",
      "0.020611746226667373\n",
      "threshold 0.020611746226667373\n",
      "(44365162,) (44365162,)\n"
     ]
    },
    {
     "name": "stderr",
     "output_type": "stream",
     "text": [
      "ic| label_current_deforestation_test_classified_incorrect.shape: (247937,)\n",
      "    predicted_test_classified_incorrect.shape: (247937,)\n",
      "ic| TP_H + FN_H + FP_H + TN_H: 247937\n",
      "    len(label_mask_current_deforestation_test): 44613099\n",
      "ic| TP_H + FN_H + FP_H + TN_H: 247937\n",
      "    len(label_mask_current_deforestation_test): 44613099\n"
     ]
    },
    {
     "name": "stdout",
     "output_type": "stream",
     "text": [
      "cm_correct [[43596790    30929]\n",
      " [  226864   510579]]\n",
      "cm_incorrect [[72626 49368]\n",
      " [36041 89902]]\n",
      "[0.94288358 0.69236402 0.59136817 0.00555749 0.64552308 0.71383086]\n",
      "0.01331170875244299\n",
      "threshold 0.01331170875244299\n",
      "(44215915,) (44215915,)\n"
     ]
    },
    {
     "name": "stderr",
     "output_type": "stream",
     "text": [
      "ic| label_current_deforestation_test_classified_incorrect.shape: (397184,)\n",
      "    predicted_test_classified_incorrect.shape: (397184,)\n",
      "ic| TP_H + FN_H + FP_H + TN_H: 397184\n",
      "    len(label_mask_current_deforestation_test): 44613099\n",
      "ic| TP_H + FN_H + FP_H + TN_H: 397184\n",
      "    len(label_mask_current_deforestation_test): 44613099\n"
     ]
    },
    {
     "name": "stdout",
     "output_type": "stream",
     "text": [
      "cm_correct [[43553614    23730]\n",
      " [  208039   430532]]\n",
      "cm_incorrect [[115802  56567]\n",
      " [ 54866 169949]]\n",
      "[0.94776142 0.67421164 0.49865529 0.00890286 0.75027371 0.75595045]\n",
      "0.008800037474224386\n",
      "threshold 0.008800037474224386\n",
      "(44063766,) (44063766,)\n"
     ]
    },
    {
     "name": "stderr",
     "output_type": "stream",
     "text": [
      "ic| label_current_deforestation_test_classified_incorrect.shape: (549333,)\n",
      "    predicted_test_classified_incorrect.shape: (549333,)\n",
      "ic| TP_H + FN_H + FP_H + TN_H: 549333\n",
      "    len(label_mask_current_deforestation_test): 44613099\n",
      "ic| TP_H + FN_H + FP_H + TN_H: 549333\n",
      "    len(label_mask_current_deforestation_test): 44613099\n"
     ]
    },
    {
     "name": "stdout",
     "output_type": "stream",
     "text": [
      "cm_correct [[43481549    19386]\n",
      " [  184716   378115]]\n",
      "cm_incorrect [[187867  60911]\n",
      " [ 78189 222366]]\n",
      "[0.95123031 0.67180912 0.43794433 0.01231327 0.78497725 0.73985128]\n",
      "0.006011671278218605\n",
      "threshold 0.006011671278218605\n",
      "(43901808,) (43901808,)\n"
     ]
    },
    {
     "name": "stderr",
     "output_type": "stream",
     "text": [
      "ic| label_current_deforestation_test_classified_incorrect.shape: (711291,)\n",
      "    predicted_test_classified_incorrect.shape: (711291,)\n",
      "ic| TP_H + FN_H + FP_H + TN_H: 711291\n",
      "    len(label_mask_current_deforestation_test): 44613099\n",
      "ic| TP_H + FN_H + FP_H + TN_H: 711291\n",
      "    len(label_mask_current_deforestation_test): 44613099\n"
     ]
    },
    {
     "name": "stdout",
     "output_type": "stream",
     "text": [
      "cm_correct [[43381181    16425]\n",
      " [  158569   345633]]\n",
      "cm_incorrect [[288235  63872]\n",
      " [104336 254848]]\n",
      "[0.95463434 0.68550502 0.40032268 0.01594355 0.79959839 0.70951935]\n",
      "0.004288366196005781\n",
      "threshold 0.004288366196005781\n",
      "(43523422,) (43523422,)\n"
     ]
    },
    {
     "name": "stderr",
     "output_type": "stream",
     "text": [
      "ic| label_current_deforestation_test_classified_incorrect.shape: (1089677,)\n",
      "    predicted_test_classified_incorrect.shape: (1089677,)\n",
      "ic| TP_H + FN_H + FP_H + TN_H: 1089677\n",
      "    len(label_mask_current_deforestation_test): 44613099\n",
      "ic| TP_H + FN_H + FP_H + TN_H: 1089677\n",
      "    len(label_mask_current_deforestation_test): 44613099\n"
     ]
    },
    {
     "name": "stdout",
     "output_type": "stream",
     "text": [
      "cm_correct [[43051148    14694]\n",
      " [  134026   323554]]\n",
      "cm_incorrect [[618268  65603]\n",
      " [128879 276927]]\n",
      "[0.9565585  0.70709821 0.37475011 0.02442505 0.80847517 0.68241229]\n",
      "0.0032233050822128243\n",
      "threshold 0.0032233050822128243\n",
      "(42718122,) (42718122,)\n"
     ]
    },
    {
     "name": "stderr",
     "output_type": "stream",
     "text": [
      "ic| label_current_deforestation_test_classified_incorrect.shape: (1894977,)\n",
      "    predicted_test_classified_incorrect.shape: (1894977,)\n"
     ]
    },
    {
     "name": "stdout",
     "output_type": "stream",
     "text": [
      "cm_correct [[42280066    13416]\n",
      " [  115965   308675]]\n",
      "cm_incorrect [[1389350   66881]\n",
      " [ 146940  291806]]\n"
     ]
    },
    {
     "name": "stderr",
     "output_type": "stream",
     "text": [
      "ic| TP_H + FN_H + FP_H + TN_H: 1894977\n",
      "    len(label_mask_current_deforestation_test): 44613099\n",
      "ic| TP_H + FN_H + FP_H + TN_H: 1894977\n",
      "    len(label_mask_current_deforestation_test): 44613099\n"
     ]
    },
    {
     "name": "stdout",
     "output_type": "stream",
     "text": [
      "[0.95834718 0.72690985 0.3575168  0.0424758  0.81353938 0.66509096]\n",
      "0.004548166912045582\n",
      "threshold 0.004548166912045582\n",
      "(43659412,) (43659412,)\n"
     ]
    },
    {
     "name": "stderr",
     "output_type": "stream",
     "text": [
      "ic| label_current_deforestation_test_classified_incorrect.shape: (953687,)\n",
      "    predicted_test_classified_incorrect.shape: (953687,)\n",
      "ic| TP_H + FN_H + FP_H + TN_H: 953687\n",
      "    len(label_mask_current_deforestation_test): 44613099\n",
      "ic| TP_H + FN_H + FP_H + TN_H: 953687\n",
      "    len(label_mask_current_deforestation_test): 44613099\n"
     ]
    },
    {
     "name": "stdout",
     "output_type": "stream",
     "text": [
      "cm_correct [[43179234    14996]\n",
      " [  138149   327033]]\n",
      "cm_incorrect [[490182  65301]\n",
      " [124756 273448]]\n",
      "[0.95615576 0.70302161 0.3787796  0.02137684 0.80722895 0.6867033 ]\n",
      "0.0039915069718082265\n",
      "threshold 0.0039915069718082265\n",
      "(43306745,) (43306745,)\n"
     ]
    },
    {
     "name": "stderr",
     "output_type": "stream",
     "text": [
      "ic| label_current_deforestation_test_classified_incorrect.shape: (1306354,)\n",
      "    predicted_test_classified_incorrect.shape: (1306354,)\n",
      "ic| TP_H + FN_H + FP_H + TN_H: 1306354\n",
      "    len(label_mask_current_deforestation_test): 44613099\n",
      "ic| TP_H + FN_H + FP_H + TN_H: 1306354\n",
      "    len(label_mask_current_deforestation_test): 44613099\n"
     ]
    },
    {
     "name": "stdout",
     "output_type": "stream",
     "text": [
      "cm_correct [[42843754    14365]\n",
      " [  129184   319442]]\n",
      "cm_incorrect [[825662  65932]\n",
      " [133721 281039]]\n",
      "[0.95696615 0.71204522 0.36998747 0.02928185 0.80997836 0.67759427]\n",
      "0.003698079960204677\n",
      "threshold 0.003698079960204677\n",
      "(43061132,) (43061132,)\n"
     ]
    },
    {
     "name": "stderr",
     "output_type": "stream",
     "text": [
      "ic| label_current_deforestation_test_classified_incorrect.shape: (1551967,)\n",
      "    predicted_test_classified_incorrect.shape: (1551967,)\n",
      "ic"
     ]
    },
    {
     "name": "stdout",
     "output_type": "stream",
     "text": [
      "cm_correct [[42607493    14014]\n",
      " [  124163   315462]]\n",
      "cm_incorrect [[1061923   66283]\n",
      " [ 138742  285019]]\n"
     ]
    },
    {
     "name": "stderr",
     "output_type": "stream",
     "text": [
      "| TP_H + FN_H + FP_H + TN_H: 1551967\n",
      "    len(label_mask_current_deforestation_test): 44613099\n",
      "ic| TP_H + FN_H + FP_H + TN_H: 1551967\n",
      "    len(label_mask_current_deforestation_test): 44613099\n"
     ]
    },
    {
     "name": "stdout",
     "output_type": "stream",
     "text": [
      "[0.95746579 0.71757066 0.36537771 0.03478725 0.81132188 0.67259375]\n",
      "0.003958173579271277\n",
      "threshold 0.003958173579271277\n",
      "(43279437,) (43279437,)\n"
     ]
    },
    {
     "name": "stderr",
     "output_type": "stream",
     "text": [
      "ic| label_current_deforestation_test_classified_incorrect.shape: (1333662,)\n",
      "    predicted_test_classified_incorrect.shape: (1333662,)\n",
      "ic| TP_H + FN_H + FP_H + TN_H: 1333662\n",
      "    len(label_mask_current_deforestation_test): 44613099\n",
      "ic| TP_H + FN_H + FP_H + TN_H: 1333662\n",
      "    len(label_mask_current_deforestation_test): 44613099\n"
     ]
    },
    {
     "name": "stdout",
     "output_type": "stream",
     "text": [
      "cm_correct [[42817528    14327]\n",
      " [  128568   319014]]\n",
      "cm_incorrect [[851888  65970]\n",
      " [134337 281467]]\n",
      "[0.95701999 0.71274984 0.36949175 0.02989396 0.81012385 0.6769223 ]\n",
      "0.0039007470967516705\n",
      "threshold 0.0039007470967516705\n",
      "(43231714,) (43231714,)\n"
     ]
    },
    {
     "name": "stderr",
     "output_type": "stream",
     "text": [
      "ic| label_current_deforestation_test_classified_incorrect.shape: (1381385,)\n",
      "    predicted_test_classified_incorrect.shape: (1381385,)\n",
      "ic| TP_H + FN_H + FP_H + TN_H: 1381385\n",
      "    len(label_mask_current_deforestation_test): 44613099\n",
      "ic| TP_H + FN_H + FP_H + TN_H: 1381385\n",
      "    len(label_mask_current_deforestation_test): 44613099\n"
     ]
    },
    {
     "name": "stdout",
     "output_type": "stream",
     "text": [
      "cm_correct [[42771565    14253]\n",
      " [  127600   318296]]\n",
      "cm_incorrect [[897851  66044]\n",
      " [135305 282185]]\n",
      "[0.95714015 0.71383462 0.36866014 0.03096366 0.81034319 0.6759084 ]\n"
     ]
    },
    {
     "name": "stderr",
     "output_type": "stream",
     "text": [
      "ic| self.threshold_optimal: 0.003958173579271277\n"
     ]
    },
    {
     "name": "stdout",
     "output_type": "stream",
     "text": [
      "threshold 0.003958173579271277\n",
      "(43279437,) (43279437,)\n"
     ]
    },
    {
     "name": "stderr",
     "output_type": "stream",
     "text": [
      "ic| label_current_deforestation_test_classified_incorrect.shape: (1333662,)\n",
      "    predicted_test_classified_incorrect.shape: (1333662,)\n",
      "ic| TP_H + FN_H + FP_H + TN_H: 1333662\n",
      "    len(label_mask_current_deforestation_test): 44613099\n",
      "ic| TP_H + FN_H + FP_H + TN_H: 1333662\n",
      "    len(label_mask_current_deforestation_test): 44613099\n"
     ]
    },
    {
     "name": "stdout",
     "output_type": "stream",
     "text": [
      "cm_correct [[42817528    14327]\n",
      " [  128568   319014]]\n",
      "cm_incorrect [[851888  65970]\n",
      " [134337 281467]]\n",
      "[0.95701999 0.71274984 0.36949175 0.02989396 0.81012385 0.6769223 ]\n",
      "threshold 0.003958173579271277\n",
      "(44613099,) (44613099,)\n"
     ]
    },
    {
     "name": "stderr",
     "output_type": "stream",
     "text": [
      "ic| self.m_optimal: {'AA': array([0.02989396]),\n",
      "                     'f1': 77.77,\n",
      "                     'f1_H': array([0.73755734]),\n",
      "                     'f1_L': array([0.81701781]),\n",
      "                     'precision_H': array([0.81012385]),\n",
      "                     'precision_L': array([0.95701999]),\n",
      "                     'recall_H': array([0.6769223]),\n",
      "                     'recall_L': array([0.71274984]),\n",
      "                     'recall_Ltotal': array([0.36949175])}\n",
      "ic| self.m_audited_optimal: {'f1': array([0.91138465]),\n",
      "                             'precision': array([0.98087553]),\n",
      "                             'recall': array([0.85108862])}\n"
     ]
    },
    {
     "name": "stdout",
     "output_type": "stream",
     "text": [
      "cm_audited [[43735386    14327]\n",
      " [  128568   734818]]\n",
      "[0.98087553 0.85108862]\n"
     ]
    },
    {
     "name": "stderr",
     "output_type": "stream",
     "text": [
      "ic| n: 10, K: 1\n",
      "ic| self.label_mask.shape: (16795, 10420)\n",
      "ic| self.mask_amazon_ts.shape: (16795, 10420)\n",
      "ic| self.label_mask_test.shape: (70001560,)\n",
      "ic| self.error_mask_test.shape: (44613099,)\n",
      "ic| bounds: (0.0015, 0.25778372144699097)\n",
      "c:\\Users\\jchamorro\\Anaconda3\\envs\\tf2\\lib\\site-packages\\scipy\\optimize\\_minimize.py:783: RuntimeWarning: Method 'bounded' does not support relative tolerance in x; defaulting to absolute tolerance.\n",
      "  warn(\"Method 'bounded' does not support relative tolerance in x; \"\n"
     ]
    },
    {
     "name": "stdout",
     "output_type": "stream",
     "text": [
      "0.09939167082944016\n",
      "threshold 0.09939167082944016\n",
      "(44584843,) (44584843,)\n"
     ]
    },
    {
     "name": "stderr",
     "output_type": "stream",
     "text": [
      "ic| label_current_deforestation_test_classified_incorrect.shape: (28256,)\n",
      "    predicted_test_classified_incorrect.shape: (28256,)\n",
      "ic| TP_H + FN_H + FP_H + TN_H: 28256\n",
      "    len(label_mask_current_deforestation_test): 44613099\n",
      "ic| TP_H + FN_H + FP_H + TN_H: 28256\n",
      "    len(label_mask_current_deforestation_test): 44613099\n"
     ]
    },
    {
     "name": "stdout",
     "output_type": "stream",
     "text": [
      "cm_correct [[43655057    72247]\n",
      " [  257867   599672]]\n",
      "cm_incorrect [[14359  8050]\n",
      " [ 5038   809]]\n",
      "[8.92476623e-01 6.99294143e-01 6.94558401e-01 6.33356584e-04\n",
      " 9.13195620e-02 1.38361553e-01]\n",
      "0.1598920506175508\n",
      "threshold 0.1598920506175508\n",
      "(44605285,) (44605285,)\n"
     ]
    },
    {
     "name": "stderr",
     "output_type": "stream",
     "text": [
      "ic| label_current_deforestation_test_classified_incorrect.shape: (7814,)\n",
      "    predicted_test_classified_incorrect.shape: (7814,)\n",
      "ic| TP_H + FN_H + FP_H + TN_H: 7814\n",
      "    len(label_mask_current_deforestation_test): 44613099\n",
      "ic| TP_H + FN_H + FP_H + TN_H: 7814\n",
      "    len(label_mask_current_deforestation_test): 44613099\n"
     ]
    },
    {
     "name": "stdout",
     "output_type": "stream",
     "text": [
      "cm_correct [[43667178    75163]\n",
      " [  262484   600460]]\n",
      "cm_incorrect [[2238 5134]\n",
      " [ 421   21]]\n",
      "[8.88750087e-01 6.95827307e-01 6.95471087e-01 1.75150352e-04\n",
      " 4.07371484e-03 4.75113122e-02]\n",
      "0.062000379788110634\n",
      "threshold 0.062000379788110634\n",
      "(44528425,) (44528425,)\n"
     ]
    },
    {
     "name": "stderr",
     "output_type": "stream",
     "text": [
      "ic| label_current_deforestation_test_classified_incorrect.shape: (84674,)\n",
      "    predicted_test_classified_incorrect.shape: (84674,)\n",
      "ic| TP_H + FN_H + FP_H + TN_H: 84674\n",
      "    len(label_mask_current_deforestation_test): 44613099\n",
      "ic| TP_H + FN_H + FP_H + TN_H: 84674\n",
      "    len(label_mask_current_deforestation_test): 44613099\n"
     ]
    },
    {
     "name": "stdout",
     "output_type": "stream",
     "text": [
      "cm_correct [[43621887    67311]\n",
      " [  245595   593632]]\n",
      "cm_incorrect [[47529 12986]\n",
      " [17310  6849]]\n",
      "[0.89815915 0.7073557  0.68756269 0.00189796 0.34529871 0.28349683]\n",
      "0.03889129104132954\n",
      "threshold 0.03889129104132954\n",
      "(43811662,) (43811662,)\n"
     ]
    },
    {
     "name": "stderr",
     "output_type": "stream",
     "text": [
      "ic| label_current_deforestation_test_classified_incorrect.shape: (801437,)\n",
      "    predicted_test_classified_incorrect.shape: (801437,)\n",
      "ic| TP_H + FN_H + FP_H + TN_H: 801437\n",
      "    len(label_mask_current_deforestation_test): 44613099\n",
      "ic| TP_H + FN_H + FP_H + TN_H: 801437\n",
      "    len(label_mask_current_deforestation_test): 44613099\n"
     ]
    },
    {
     "name": "stdout",
     "output_type": "stream",
     "text": [
      "cm_correct [[42953333    58410]\n",
      " [  220468   579451]]\n",
      "cm_incorrect [[716083  21887]\n",
      " [ 42437  21030]]\n",
      "[0.90842833 0.72438709 0.67113782 0.01796416 0.49001561 0.3313533 ]\n",
      "0.024609088746781107\n",
      "threshold 0.024609088746781107\n",
      "(42057060,) (42057060,)\n"
     ]
    },
    {
     "name": "stderr",
     "output_type": "stream",
     "text": [
      "ic| label_current_deforestation_test_classified_incorrect.shape: (2556039,)\n",
      "    predicted_test_classified_incorrect.shape: (2556039,)\n"
     ]
    },
    {
     "name": "stdout",
     "output_type": "stream",
     "text": [
      "cm_correct [[41274249    45763]\n",
      " [  180311   556737]]\n"
     ]
    },
    {
     "name": "stderr",
     "output_type": "stream",
     "text": [
      "ic| TP_H + FN_H + FP_H + TN_H: 2556039\n",
      "    len(label_mask_current_deforestation_test): 44613099\n",
      "ic| TP_H + FN_H + FP_H + TN_H: 2556039\n",
      "    len(label_mask_current_deforestation_test): 44613099\n"
     ]
    },
    {
     "name": "stdout",
     "output_type": "stream",
     "text": [
      "cm_incorrect [[2395167   34534]\n",
      " [  82594   43744]]\n",
      "[0.92404481 0.75536057 0.64482977 0.05729346 0.55882879 0.34624579]\n",
      "0.043075485816975026\n",
      "threshold 0.043075485816975026\n",
      "(44329305,) (44329305,)\n"
     ]
    },
    {
     "name": "stderr",
     "output_type": "stream",
     "text": [
      "ic| label_current_deforestation_test_classified_incorrect.shape: (283794,)\n",
      "    predicted_test_classified_incorrect.shape: (283794,)\n",
      "ic| TP_H + FN_H + FP_H + TN_H: 283794\n",
      "    len(label_mask_current_deforestation_test): 44613099\n",
      "ic| TP_H + FN_H + FP_H + TN_H: 283794\n",
      "    len(label_mask_current_deforestation_test): 44613099\n"
     ]
    },
    {
     "name": "stdout",
     "output_type": "stream",
     "text": [
      "cm_correct [[43457253    60934]\n",
      " [  227316   583802]]\n",
      "cm_incorrect [[212163  19363]\n",
      " [ 35589  16679]]\n",
      "[0.90549    0.71974978 0.67617728 0.00636123 0.46276566 0.31910538]\n",
      "0.03431799289515117\n",
      "threshold 0.03431799289515117\n",
      "(43209409,) (43209409,)\n"
     ]
    },
    {
     "name": "stderr",
     "output_type": "stream",
     "text": [
      "ic| label_current_deforestation_test_classified_incorrect.shape: (1403690,)\n",
      "    predicted_test_classified_incorrect.shape: (1403690,)\n",
      "ic| TP_H + FN_H + FP_H + TN_H: 1403690\n",
      "    len(label_mask_current_deforestation_test): 44613099\n",
      "ic| TP_H + FN_H + FP_H + TN_H: 1403690"
     ]
    },
    {
     "name": "stdout",
     "output_type": "stream",
     "text": [
      "cm_correct [[42369797    55027]\n",
      " [  210898   573687]]\n",
      "cm_incorrect [[1299619   25270]\n",
      " [  52007   26794]]\n"
     ]
    },
    {
     "name": "stderr",
     "output_type": "stream",
     "text": [
      "\n",
      "    len(label_mask_current_deforestation_test): 44613099\n"
     ]
    },
    {
     "name": "stdout",
     "output_type": "stream",
     "text": [
      "[0.9124769  0.73119802 0.66446178 0.03146363 0.51463583 0.34002107]\n",
      "0.030609521503988657\n",
      "threshold 0.030609521503988657\n",
      "(42888101,) (42888101,)\n"
     ]
    },
    {
     "name": "stderr",
     "output_type": "stream",
     "text": [
      "ic| label_current_deforestation_test_classified_incorrect.shape: (1724998,)\n",
      "    predicted_test_classified_incorrect.shape: (1724998,)\n"
     ]
    },
    {
     "name": "stdout",
     "output_type": "stream",
     "text": [
      "cm_correct [[42066853    51878]\n",
      " [  201428   567942]]\n",
      "cm_incorrect [[1602563   28419]\n",
      " [  61477   32539]]\n"
     ]
    },
    {
     "name": "stderr",
     "output_type": "stream",
     "text": [
      "ic| TP_H + FN_H + FP_H + TN_H: 1724998\n",
      "    len(label_mask_current_deforestation_test): 44613099\n",
      "ic| TP_H + FN_H + FP_H + TN_H: 1724998\n",
      "    len(label_mask_current_deforestation_test): 44613099\n"
     ]
    },
    {
     "name": "stdout",
     "output_type": "stream",
     "text": [
      "[0.91630151 0.73819099 0.65780775 0.03866573 0.53379376 0.34610066]\n",
      "0.0343542764761118\n",
      "threshold 0.0343542764761118\n",
      "(43212747,) (43212747,)\n"
     ]
    },
    {
     "name": "stderr",
     "output_type": "stream",
     "text": [
      "ic| label_current_deforestation_test_classified_incorrect.shape: (1400352,)\n",
      "    predicted_test_classified_incorrect.shape: (1400352,)\n",
      "ic| TP_H + FN_H + FP_H + TN_H: 1400352\n",
      "    len(label_mask_current_deforestation_test): 44613099\n",
      "ic| TP_H + FN_H + FP_H + TN_H: 1400352\n",
      "    len(label_mask_current_deforestation_test): 44613099\n"
     ]
    },
    {
     "name": "stdout",
     "output_type": "stream",
     "text": [
      "cm_correct [[42372959    55064]\n",
      " [  210981   573743]]\n",
      "cm_incorrect [[1296457   25233]\n",
      " [  51924   26738]]\n",
      "[0.912431   0.73113987 0.66452664 0.03138881 0.51447923 0.33990999]\n",
      "0.036087261832571646\n",
      "threshold 0.036087261832571646\n",
      "(43391729,) (43391729,)\n"
     ]
    },
    {
     "name": "stderr",
     "output_type": "stream",
     "text": [
      "ic| label_current_deforestation_test_classified_incorrect.shape: (1221370,)\n",
      "    predicted_test_classified_incorrect.shape: (1221370,)\n",
      "ic| TP_H + FN_H + FP_H + TN_H: 1221370\n",
      "    len(label_mask_current_deforestation_test): 44613099\n",
      "ic| TP_H + FN_H + FP_H + TN_H: 1221370\n",
      "    len(label_mask_current_deforestation_test): 44613099\n"
     ]
    },
    {
     "name": "stdout",
     "output_type": "stream",
     "text": [
      "cm_correct [[42544383    56396]\n",
      " [  214815   576135]]\n",
      "cm_incorrect [[1125033   23901]\n",
      " [  48090   24346]]\n",
      "[0.91084073 0.72840888 0.66729713 0.02737694 0.50461169 0.33610359]\n",
      "0.03499367009090434\n",
      "threshold 0.03499367009090434\n",
      "(43272778,) (43272778,)\n"
     ]
    },
    {
     "name": "stderr",
     "output_type": "stream",
     "text": [
      "ic| label_current_deforestation_test_classified_incorrect.shape: (1340321,)\n",
      "    predicted_test_classified_incorrect.shape: (1340321,)\n",
      "ic| TP_H + FN_H + FP_H + TN_H: 1340321\n",
      "    len(label_mask_current_deforestation_test): 44613099\n",
      "ic| TP_H + FN_H + FP_H + TN_H: "
     ]
    },
    {
     "name": "stdout",
     "output_type": "stream",
     "text": [
      "cm_correct [[42430151    55546]\n",
      " [  212451   574630]]\n",
      "cm_incorrect [[1239265   24751]\n",
      " [  50454   25851]]\n"
     ]
    },
    {
     "name": "stderr",
     "output_type": "stream",
     "text": [
      "1340321\n",
      "    len(label_mask_current_deforestation_test): 44613099\n"
     ]
    },
    {
     "name": "stdout",
     "output_type": "stream",
     "text": [
      "[0.91185637 0.73007734 0.66555399 0.03004322 0.51086914 0.33878514]\n",
      "0.03541138496640506\n",
      "threshold 0.03541138496640506\n",
      "(43315603,) (43315603,)\n"
     ]
    },
    {
     "name": "stderr",
     "output_type": "stream",
     "text": [
      "ic| label_current_deforestation_test_classified_incorrect.shape: (1297496,)\n",
      "    predicted_test_classified_incorrect.shape: (1297496,)\n",
      "ic| TP_H + FN_H + FP_H + TN_H: 1297496\n",
      "    len(label_mask_current_deforestation_test): 44613099\n",
      "ic| TP_H + FN_H + FP_H + TN_H: 1297496\n",
      "    len(label_mask_current_deforestation_test): 44613099\n"
     ]
    },
    {
     "name": "stdout",
     "output_type": "stream",
     "text": [
      "cm_correct [[42471178    55885]\n",
      " [  213325   575215]]\n",
      "cm_incorrect [[1198238   24412]\n",
      " [  49580   25266]]\n",
      "[0.91144826 0.72946838 0.66623156 0.0290833  0.50859535 0.33757315]\n",
      "0.03493909278791982\n",
      "threshold 0.03493909278791982\n",
      "(43267404,) (43267404,)\n"
     ]
    },
    {
     "name": "stderr",
     "output_type": "stream",
     "text": [
      "ic| label_current_deforestation_test_classified_incorrect.shape: (1345695,)\n",
      "    predicted_test_classified_incorrect.shape: (1345695,)\n",
      "ic| TP_H + FN_H + FP_H + TN_H: 1345695\n",
      "    len(label_mask_current_deforestation_test): 44613099\n",
      "ic| TP_H + FN_H + FP_H + TN_H: 1345695\n",
      "    len(label_mask_current_deforestation_test): 44613099\n"
     ]
    },
    {
     "name": "stdout",
     "output_type": "stream",
     "text": [
      "cm_correct [[42425015    55486]\n",
      " [  212339   574564]]\n",
      "cm_incorrect [[1244401   24811]\n",
      " [  50566   25917]]\n",
      "[0.91193397 0.73015861 0.66547755 0.03016367 0.51090128 0.33885962]\n",
      "0.03508764100780372\n",
      "threshold 0.03508764100780372\n",
      "(43282241,) (43282241,)\n"
     ]
    },
    {
     "name": "stderr",
     "output_type": "stream",
     "text": [
      "ic| label_current_deforestation_test_classified_incorrect.shape: (1330858,)\n",
      "    predicted_test_classified_incorrect.shape: (1330858,)\n",
      "ic| TP_H + FN_H + FP_H + TN_H: 1330858\n",
      "    len(label_mask_current_deforestation_test): 44613099\n",
      "ic| TP_H + FN_H + FP_H + TN_H: 1330858"
     ]
    },
    {
     "name": "stdout",
     "output_type": "stream",
     "text": [
      "cm_correct [[42439206    55618]\n",
      " [  212645   574772]]\n",
      "cm_incorrect [[1230210   24679]\n",
      " [  50260   25709]]\n"
     ]
    },
    {
     "name": "stderr",
     "output_type": "stream",
     "text": [
      "\n",
      "    len(label_mask_current_deforestation_test): 44613099\n"
     ]
    },
    {
     "name": "stdout",
     "output_type": "stream",
     "text": [
      "[0.91177208 0.72994614 0.66571846 0.0298311  0.51022069 0.33841435]\n",
      "0.03502700394327768\n",
      "threshold 0.03502700394327768\n",
      "(43276167,) (43276167,)\n"
     ]
    },
    {
     "name": "stderr",
     "output_type": "stream",
     "text": [
      "ic| label_current_deforestation_test_classified_incorrect.shape: (1336932,)\n",
      "    predicted_test_classified_incorrect.shape: (1336932,)\n",
      "ic| TP_H + FN_H + FP_H + TN_H: 1336932\n",
      "    len(label_mask_current_deforestation_test): 44613099\n",
      "ic| TP_H + FN_H + FP_H + TN_H: 1336932\n",
      "    len(label_mask_current_deforestation_test): 44613099\n"
     ]
    },
    {
     "name": "stdout",
     "output_type": "stream",
     "text": [
      "cm_correct [[42433402    55571]\n",
      " [  212518   574676]]\n",
      "cm_incorrect [[1236014   24726]\n",
      " [  50387   25805]]\n",
      "[0.91182663 0.73003097 0.66560727 0.02996725 0.51067661 0.33868385]\n"
     ]
    },
    {
     "name": "stderr",
     "output_type": "stream",
     "text": [
      "ic| self.threshold_optimal: 0.03502700394327768\n"
     ]
    },
    {
     "name": "stdout",
     "output_type": "stream",
     "text": [
      "threshold 0.03502700394327768\n",
      "(43276167,) (43276167,)\n"
     ]
    },
    {
     "name": "stderr",
     "output_type": "stream",
     "text": [
      "ic| label_current_deforestation_test_classified_incorrect.shape: (1336932,)\n",
      "    predicted_test_classified_incorrect.shape: (1336932,)\n",
      "ic| TP_H + FN_H + FP_H + TN_H: 1336932\n",
      "    len(label_mask_current_deforestation_test): 44613099\n",
      "ic| TP_H + FN_H + FP_H + TN_H: 1336932\n",
      "    len(label_mask_current_deforestation_test): 44613099\n"
     ]
    },
    {
     "name": "stdout",
     "output_type": "stream",
     "text": [
      "cm_correct [[42433402    55571]\n",
      " [  212518   574676]]\n",
      "cm_incorrect [[1236014   24726]\n",
      " [  50387   25805]]\n",
      "[0.91182663 0.73003097 0.66560727 0.02996725 0.51067661 0.33868385]\n",
      "threshold 0.03502700394327768\n",
      "(44613099,) (44613099,)\n"
     ]
    },
    {
     "name": "stderr",
     "output_type": "stream",
     "text": [
      "ic| self.m_optimal: {'AA': array([0.02996725]),\n",
      "                     'f1': 77.77,\n",
      "                     'f1_H': array([0.40726624]),\n",
      "                     'f1_L': array([0.81086409]),\n",
      "                     'precision_H': array([0.51067661]),\n",
      "                     'precision_L': array([0.91182663]),\n",
      "                     'recall_H': array([0.33868385]),\n",
      "                     'recall_L': array([0.73003097]),\n",
      "                     'recall_Ltotal': array([0.66560727])}\n",
      "ic| self.m_audited_optimal: {'f1': array([0.82922364]),\n",
      "                             'precision': array([0.92133645]),\n",
      "                             'recall': array([0.75385517])}\n"
     ]
    },
    {
     "name": "stdout",
     "output_type": "stream",
     "text": [
      "cm_audited [[43694142    55571]\n",
      " [  212518   650868]]\n",
      "[0.92133645 0.75385517]\n"
     ]
    },
    {
     "name": "stderr",
     "output_type": "stream",
     "text": [
      "ic| self.label_mask.shape: (16795, 10420)\n",
      "ic| self.mask_amazon_ts.shape: (16795, 10420)\n",
      "ic| self.label_mask_test.shape: (70001560,)\n",
      "ic| self.error_mask_test.shape: (44613099,)\n",
      "ic| bounds: (0.0015, 1.5761876211166381)\n",
      "c:\\Users\\jchamorro\\Anaconda3\\envs\\tf2\\lib\\site-packages\\scipy\\optimize\\_minimize.py:783: RuntimeWarning: Method 'bounded' does not support relative tolerance in x; defaulting to absolute tolerance.\n",
      "  warn(\"Method 'bounded' does not support relative tolerance in x; \"\n"
     ]
    },
    {
     "name": "stdout",
     "output_type": "stream",
     "text": [
      "0.602977149602839\n",
      "threshold 0.602977149602839\n",
      "(44608063,) (44608063,)\n"
     ]
    },
    {
     "name": "stderr",
     "output_type": "stream",
     "text": [
      "ic| label_current_deforestation_test_classified_incorrect.shape: (5036,)\n",
      "    predicted_test_classified_incorrect.shape: (5036,)\n",
      "d:\\Jorge\\deforestation_uncertainty\\src\\metrics.py:300: RuntimeWarning: invalid value encountered in longlong_scalars\n",
      "  recall_H = TP_H / (TP_H + FN_H)\n",
      "ic| TP_H + FN_H + FP_H + TN_H: 5036\n",
      "    len(label_mask_current_deforestation_test): 44613099\n",
      "ic| TP_H + FN_H + FP_H + TN_H: 5036\n",
      "    len(label_mask_current_deforestation_test): 44613099\n"
     ]
    },
    {
     "name": "stdout",
     "output_type": "stream",
     "text": [
      "cm_correct [[43668092    76585]\n",
      " [  262905   600481]]\n",
      "cm_incorrect [[1324 3712]\n",
      " [   0    0]]\n",
      "[8.86886950e-01 6.95495410e-01 6.95495410e-01 1.12881645e-04\n",
      " 0.00000000e+00            nan]\n",
      "0.9747104715137989\n",
      "threshold 0.9747104715137989\n",
      "(44609711,) (44609711,)\n"
     ]
    },
    {
     "name": "stderr",
     "output_type": "stream",
     "text": [
      "ic| label_current_deforestation_test_classified_incorrect.shape: (3388,)\n",
      "    predicted_test_classified_incorrect.shape: (3388,)\n",
      "d:\\Jorge\\deforestation_uncertainty\\src\\metrics.py:300: RuntimeWarning: invalid value encountered in longlong_scalars\n",
      "  recall_H = TP_H / (TP_H + FN_H)\n",
      "ic| TP_H + FN_H + FP_H + TN_H: 3388\n",
      "    len(label_mask_current_deforestation_test): 44613099\n",
      "ic| TP_H + FN_H + FP_H + TN_H: 3388\n",
      "    len(label_mask_current_deforestation_test): 44613099\n"
     ]
    },
    {
     "name": "stdout",
     "output_type": "stream",
     "text": [
      "cm_correct [[43668945    77380]\n",
      " [  262905   600481]]\n",
      "cm_incorrect [[ 471 2917]\n",
      " [   0    0]]\n",
      "[8.85846803e-01 6.95495410e-01 6.95495410e-01 7.59418215e-05\n",
      " 0.00000000e+00            nan]\n",
      "0.3732333219109598\n",
      "threshold 0.3732333219109598\n",
      "(44605720,) (44605720,)\n"
     ]
    },
    {
     "name": "stderr",
     "output_type": "stream",
     "text": [
      "ic| label_current_deforestation_test_classified_incorrect.shape: (7379,)\n",
      "    predicted_test_classified_incorrect.shape: (7379,)\n",
      "ic| TP_H + FN_H + FP_H + TN_H: 7379\n",
      "    len(label_mask_current_deforestation_test): 44613099\n",
      "ic| TP_H + FN_H + FP_H + TN_H: 7379\n",
      "    len(label_mask_current_deforestation_test): 44613099\n"
     ]
    },
    {
     "name": "stdout",
     "output_type": "stream",
     "text": [
      "cm_correct [[43666831    75689]\n",
      " [  262763   600437]]\n",
      "cm_incorrect [[2585 4608]\n",
      " [ 142   44]]\n",
      "[8.88054889e-01 6.95594300e-01 6.95444448e-01 1.65399853e-04\n",
      " 9.45829751e-03 2.36559140e-01]\n",
      "0.2312438276918792\n",
      "threshold 0.2312438276918792\n",
      "(44596785,) (44596785,)\n"
     ]
    },
    {
     "name": "stderr",
     "output_type": "stream",
     "text": [
      "ic| label_current_deforestation_test_classified_incorrect.shape: (16314,)\n",
      "    predicted_test_classified_incorrect.shape: (16314,)\n",
      "ic| TP_H + FN_H + FP_H + TN_H: 16314\n",
      "    len(label_mask_current_deforestation_test): 44613099\n",
      "ic| TP_H + FN_H + FP_H + TN_H: 16314\n",
      "    len(label_mask_current_deforestation_test): 44613099\n"
     ]
    },
    {
     "name": "stdout",
     "output_type": "stream",
     "text": [
      "cm_correct [[43662651    74060]\n",
      " [  260117   599957]]\n",
      "cm_incorrect [[6765 6237]\n",
      " [2788  524]]\n",
      "[8.90121466e-01 6.97564396e-01 6.94888497e-01 3.65677354e-04\n",
      " 7.75033279e-02 1.58212560e-01]\n",
      "0.14348949421908067\n",
      "threshold 0.14348949421908067\n",
      "(44570391,) (44570391,)\n"
     ]
    },
    {
     "name": "stderr",
     "output_type": "stream",
     "text": [
      "ic| label_current_deforestation_test_classified_incorrect.shape: (42708,)\n",
      "    predicted_test_classified_incorrect.shape: (42708,)\n",
      "ic| TP_H + FN_H + FP_H + TN_H: 42708\n",
      "    len(label_mask_current_deforestation_test): 44613099\n",
      "ic| TP_H + FN_H + FP_H + TN_H: 42708\n",
      "    len(label_mask_current_deforestation_test): 44613099\n"
     ]
    },
    {
     "name": "stdout",
     "output_type": "stream",
     "text": [
      "cm_correct [[43645835    71734]\n",
      " [  254357   598465]]\n",
      "cm_incorrect [[23581  8563]\n",
      " [ 8548  2016]]\n",
      "[0.89296612 0.70174667 0.69316042 0.0009573  0.19056622 0.1908368 ]\n",
      "0.08925433347279857\n",
      "threshold 0.08925433347279857\n",
      "(44465679,) (44465679,)\n"
     ]
    },
    {
     "name": "stderr",
     "output_type": "stream",
     "text": [
      "ic| label_current_deforestation_test_classified_incorrect.shape: (147420,)\n",
      "    predicted_test_classified_incorrect.shape: (147420,)\n",
      "ic| TP_H + FN_H + FP_H + TN_H: 147420\n",
      "    len(label_mask_current_deforestation_test): 44613099\n",
      "ic| TP_H + FN_H + FP_H + TN_H: 147420\n",
      "    len(label_mask_current_deforestation_test): 44613099\n"
     ]
    },
    {
     "name": "stdout",
     "output_type": "stream",
     "text": [
      "cm_correct [[43560275    68281]\n",
      " [  242452   594671]]\n",
      "cm_incorrect [[109141  12016]\n",
      " [ 20453   5810]]\n",
      "[0.89700461 0.7103747  0.68876609 0.00330441 0.32592842 0.22122377]\n",
      "0.05573516074628212\n",
      "threshold 0.05573516074628212\n",
      "(42639680,) (42639680,)\n"
     ]
    },
    {
     "name": "stderr",
     "output_type": "stream",
     "text": [
      "ic| label_current_deforestation_test_classified_incorrect.shape: (1973419,)\n",
      "    predicted_test_classified_incorrect.shape: (1973419,)\n"
     ]
    },
    {
     "name": "stdout",
     "output_type": "stream",
     "text": [
      "cm_correct [[41769145    62424]\n",
      " [  221433   586678]]\n"
     ]
    },
    {
     "name": "stderr",
     "output_type": "stream",
     "text": [
      "ic| TP_H + FN_H + FP_H + TN_H: 1973419\n",
      "    len(label_mask_current_deforestation_test): 44613099\n",
      "ic| TP_H + FN_H + FP_H + TN_H: 1973419\n",
      "    len(label_mask_current_deforestation_test): 44613099\n"
     ]
    },
    {
     "name": "stdout",
     "output_type": "stream",
     "text": [
      "cm_incorrect [[1900271   17873]\n",
      " [  41472   13803]]\n",
      "[0.90383021 0.7259869  0.67950835 0.04423407 0.43575578 0.24971506]\n",
      "0.035019172726516466\n",
      "threshold 0.035019172726516466\n",
      "(41357193,) (41357193,)\n"
     ]
    },
    {
     "name": "stderr",
     "output_type": "stream",
     "text": [
      "ic| label_current_deforestation_test_classified_incorrect.shape: (3255906,)\n",
      "    predicted_test_classified_incorrect.shape: (3255906,)\n"
     ]
    },
    {
     "name": "stdout",
     "output_type": "stream",
     "text": [
      "cm_correct [[40548742    52120]\n",
      " [  187530   568801]]\n"
     ]
    },
    {
     "name": "stderr",
     "output_type": "stream",
     "text": [
      "ic| TP_H + FN_H + FP_H + TN_H: 3255906\n",
      "    len(label_mask_current_deforestation_test): 44613099\n",
      "ic| TP_H + FN_H + FP_H + TN_H: 3255906\n",
      "    len(label_mask_current_deforestation_test): 44613099\n"
     ]
    },
    {
     "name": "stdout",
     "output_type": "stream",
     "text": [
      "cm_incorrect [[3120674   28177]\n",
      " [  75375   31680]]\n",
      "[0.91606018 0.752053   0.65880267 0.07298094 0.52926141 0.29592266]\n",
      "0.06853834545303292\n",
      "threshold 0.06853834545303292\n",
      "(43863797,) (43863797,)\n"
     ]
    },
    {
     "name": "stderr",
     "output_type": "stream",
     "text": [
      "ic| label_current_deforestation_test_classified_incorrect.shape: (749302,)\n",
      "    predicted_test_classified_incorrect.shape: (749302,)\n",
      "ic| TP_H + FN_H + FP_H + TN_H: 749302\n",
      "    len(label_mask_current_deforestation_test): 44613099\n",
      "ic| TP_H + FN_H + FP_H + TN_H: 749302\n",
      "    len(label_mask_current_deforestation_test): 44613099\n"
     ]
    },
    {
     "name": "stdout",
     "output_type": "stream",
     "text": [
      "cm_correct [[42975466    65470]\n",
      " [  231828   591033]]\n",
      "cm_incorrect [[693950  14827]\n",
      " [ 31077   9448]]\n",
      "[0.90027464 0.7182659  0.68455245 0.01679556 0.389207   0.23314004]\n",
      "0.06397886450045884\n",
      "threshold 0.06397886450045884\n",
      "(43494482,) (43494482,)\n"
     ]
    },
    {
     "name": "stderr",
     "output_type": "stream",
     "text": [
      "ic| label_current_deforestation_test_classified_incorrect.shape: (1118617,)\n",
      "    predicted_test_classified_incorrect.shape: (1118617,)\n",
      "ic| TP_H + FN_H + FP_H + TN_H: 1118617\n",
      "    len(label_mask_current_deforestation_test): 44613099\n",
      "ic| TP_H + FN_H + FP_H + TN_H: 1118617\n",
      "    len(label_mask_current_deforestation_test): 44613099\n"
     ]
    },
    {
     "name": "stdout",
     "output_type": "stream",
     "text": [
      "cm_correct [[42611629    64555]\n",
      " [  228585   589713]]\n",
      "cm_incorrect [[1057787   15742]\n",
      " [  34320   10768]]\n",
      "[0.90133248 0.720658   0.68302358 0.02507373 0.40618634 0.23882186]\n",
      "0.06231158244880349\n",
      "threshold 0.06231158244880349\n",
      "(43328633,) (43328633,)\n"
     ]
    },
    {
     "name": "stderr",
     "output_type": "stream",
     "text": [
      "ic| label_current_deforestation_test_classified_incorrect.shape: (1284466,)\n",
      "    predicted_test_classified_incorrect.shape: (1284466,)\n",
      "ic| TP_H + FN_H + FP_H + TN_H: 1284466\n",
      "    len(label_mask_current_deforestation_test): 44613099\n",
      "ic| TP_H + FN_H + FP_H + TN_H: 1284466\n",
      "    len(label_mask_current_deforestation_test): 44613099\n"
     ]
    },
    {
     "name": "stdout",
     "output_type": "stream",
     "text": [
      "cm_correct [[42447972    64172]\n",
      " [  227321   589168]]\n",
      "cm_incorrect [[1221444   16125]\n",
      " [  35584   11313]]\n",
      "[0.90177855 0.72158719 0.68239235 0.02879123 0.41231139 0.24123078]\n",
      "0.05979961288279278\n",
      "threshold 0.05979961288279278\n",
      "(43058971,) (43058971,)\n"
     ]
    },
    {
     "name": "stderr",
     "output_type": "stream",
     "text": [
      "ic| label_current_deforestation_test_classified_incorrect.shape: (1554128,)\n",
      "    predicted_test_classified_incorrect.shape: (1554128,)\n",
      "ic"
     ]
    },
    {
     "name": "stdout",
     "output_type": "stream",
     "text": [
      "cm_correct [[42181915    63530]\n",
      " [  225224   588302]]\n",
      "cm_incorrect [[1487501   16767]\n",
      " [  37681   12179]]\n"
     ]
    },
    {
     "name": "stderr",
     "output_type": "stream",
     "text": [
      "| TP_H + FN_H + FP_H + TN_H: 1554128\n",
      "    len(label_mask_current_deforestation_test): 44613099\n",
      "ic| TP_H + FN_H + FP_H + TN_H: 1554128\n",
      "    len(label_mask_current_deforestation_test): 44613099\n"
     ]
    },
    {
     "name": "stdout",
     "output_type": "stream",
     "text": [
      "[0.90253624 0.72315083 0.68138932 0.03483569 0.42074898 0.24426394]\n",
      "0.06187691029476826\n",
      "threshold 0.06187691029476826\n",
      "(43283049,) (43283049,)\n"
     ]
    },
    {
     "name": "stderr",
     "output_type": "stream",
     "text": [
      "ic| label_current_deforestation_test_classified_incorrect.shape: (1330050,)\n",
      "    predicted_test_classified_incorrect.shape: (1330050,)\n",
      "ic| TP_H + FN_H + FP_H + TN_H: 1330050\n",
      "    len(label_mask_current_deforestation_test): 44613099\n",
      "ic| TP_H + FN_H + FP_H + TN_H: 1330050\n",
      "    len(label_mask_current_deforestation_test): 44613099\n"
     ]
    },
    {
     "name": "stdout",
     "output_type": "stream",
     "text": [
      "cm_correct [[42403006    64062]\n",
      " [  226955   589026]]\n",
      "cm_incorrect [[1266410   16235]\n",
      " [  35950   11455]]\n",
      "[0.90190908 0.7218624  0.68222788 0.02981299 0.41368725 0.24164118]\n",
      "0.0614508157963024\n",
      "threshold 0.0614508157963024\n",
      "(43237778,) (43237778,)\n"
     ]
    },
    {
     "name": "stderr",
     "output_type": "stream",
     "text": [
      "ic| label_current_deforestation_test_classified_incorrect.shape: (1375321,)\n",
      "    predicted_test_classified_incorrect.shape: (1375321,)\n",
      "ic| TP_H + FN_H + FP_H + TN_H: 1375321\n",
      "    len(label_mask_current_deforestation_test): 44613099"
     ]
    },
    {
     "name": "stdout",
     "output_type": "stream",
     "text": [
      "cm_correct [[42358329    63952]\n",
      " [  226622   588875]]\n",
      "cm_incorrect [[1311087   16345]\n",
      " [  36283   11606]]\n"
     ]
    },
    {
     "name": "stderr",
     "output_type": "stream",
     "text": [
      "\n",
      "ic| TP_H + FN_H + FP_H + TN_H: 1375321\n",
      "    len(label_mask_current_deforestation_test): 44613099\n"
     ]
    },
    {
     "name": "stdout",
     "output_type": "stream",
     "text": [
      "[0.90203837 0.72210566 0.68205299 0.03082774 0.41522665 0.24235211]\n",
      "0.06183177096637732\n",
      "threshold 0.06183177096637732\n",
      "(43278298,) (43278298,)\n"
     ]
    },
    {
     "name": "stderr",
     "output_type": "stream",
     "text": [
      "ic| label_current_deforestation_test_classified_incorrect.shape: (1334801,)\n",
      "    predicted_test_classified_incorrect.shape: (1334801,)\n",
      "ic| TP_H + FN_H + FP_H + TN_H: 1334801\n",
      "    len(label_mask_current_deforestation_test): 44613099\n",
      "ic| TP_H + "
     ]
    },
    {
     "name": "stdout",
     "output_type": "stream",
     "text": [
      "cm_correct [[42398318    64048]\n",
      " [  226921   589011]]\n",
      "cm_incorrect [[1271098   16249]\n",
      " [  35984   11470]]\n"
     ]
    },
    {
     "name": "stderr",
     "output_type": "stream",
     "text": [
      "FN_H + FP_H + TN_H: 1334801\n",
      "    len(label_mask_current_deforestation_test): 44613099\n"
     ]
    },
    {
     "name": "stdout",
     "output_type": "stream",
     "text": [
      "[0.90192617 0.72188736 0.68221051 0.02991949 0.41379559 0.24170776]\n",
      "0.06173801041799915\n",
      "threshold 0.06173801041799915\n",
      "(43268590,) (43268590,)\n"
     ]
    },
    {
     "name": "stderr",
     "output_type": "stream",
     "text": [
      "ic| label_current_deforestation_test_classified_incorrect.shape: (1344509,)\n",
      "    predicted_test_classified_incorrect.shape: (1344509,)\n",
      "ic| TP_H + FN_H + FP_H + TN_H: 1344509\n"
     ]
    },
    {
     "name": "stdout",
     "output_type": "stream",
     "text": [
      "cm_correct [[42388741    64024]\n",
      " [  226847   588978]]\n",
      "cm_incorrect [[1280675   16273]\n",
      " [  36058   11503]]\n"
     ]
    },
    {
     "name": "stderr",
     "output_type": "stream",
     "text": [
      "    len(label_mask_current_deforestation_test): 44613099\n",
      "ic| TP_H + FN_H + FP_H + TN_H: 1344509\n",
      "    len(label_mask_current_deforestation_test): 44613099\n"
     ]
    },
    {
     "name": "stdout",
     "output_type": "stream",
     "text": [
      "[0.90195436 0.72194159 0.68217228 0.03013709 0.4141345  0.24185782]\n",
      "0.06179595762370069\n",
      "threshold 0.06179595762370069\n",
      "(43274536,) (43274536,)\n"
     ]
    },
    {
     "name": "stderr",
     "output_type": "stream",
     "text": [
      "ic| label_current_deforestation_test_classified_incorrect.shape: (1338563,)\n",
      "    predicted_test_classified_incorrect.shape: (1338563,)\n",
      "ic| TP_H + FN_H + FP_H + TN_H: 1338563\n",
      "    len(label_mask_current_deforestation_test): 44613099\n",
      "ic| TP_H + FN_H + FP_H + TN_H: 1338563\n",
      "    len(label_mask_current_deforestation_test): 44613099\n"
     ]
    },
    {
     "name": "stdout",
     "output_type": "stream",
     "text": [
      "cm_correct [[42394607    64037]\n",
      " [  226894   588998]]\n",
      "cm_incorrect [[1274809   16260]\n",
      " [  36011   11483]]\n",
      "[0.90193941 0.72190682 0.68219545 0.03000381 0.41390621 0.24177791]\n"
     ]
    },
    {
     "name": "stderr",
     "output_type": "stream",
     "text": [
      "ic| self.threshold_optimal: 0.06179595762370069\n"
     ]
    },
    {
     "name": "stdout",
     "output_type": "stream",
     "text": [
      "threshold 0.06179595762370069\n",
      "(43274536,) (43274536,)\n"
     ]
    },
    {
     "name": "stderr",
     "output_type": "stream",
     "text": [
      "ic| label_current_deforestation_test_classified_incorrect.shape: (1338563,)\n",
      "    predicted_test_classified_incorrect.shape: (1338563,)\n",
      "ic| TP_H + FN_H + FP_H + TN_H: 1338563\n",
      "    len(label_mask_current_deforestation_test): 44613099\n",
      "ic| TP_H + FN_H + FP_H + TN_H: 1338563\n",
      "    len(label_mask_current_deforestation_test): 44613099\n"
     ]
    },
    {
     "name": "stdout",
     "output_type": "stream",
     "text": [
      "cm_correct [[42394607    64037]\n",
      " [  226894   588998]]\n",
      "cm_incorrect [[1274809   16260]\n",
      " [  36011   11483]]\n",
      "[0.90193941 0.72190682 0.68219545 0.03000381 0.41390621 0.24177791]\n",
      "threshold 0.06179595762370069\n",
      "(44613099,) (44613099,)\n"
     ]
    },
    {
     "name": "stderr",
     "output_type": "stream",
     "text": [
      "ic| self.m_optimal: {'AA': array([0.03000381]),\n",
      "                     'f1': 77.77,\n",
      "                     'f1_H': array([0.30524875]),\n",
      "                     'f1_L': array([0.80194319]),\n",
      "                     'precision_H': array([0.41390621]),\n",
      "                     'precision_L': array([0.90193941]),\n",
      "                     'recall_H': array([0.24177791]),\n",
      "                     'recall_L': array([0.72190682]),\n",
      "                     'recall_Ltotal': array([0.68219545])}\n",
      "ic| self.m_audited_optimal: {'f1': array([0.81397263]),\n",
      "                             'precision': array([0.90858765]),\n",
      "                             'recall': array([0.73720445])}\n",
      " 50%|█████     | 5/10 [2:19:09<2:19:06, 1669.22s/it]"
     ]
    },
    {
     "name": "stdout",
     "output_type": "stream",
     "text": [
      "cm_audited [[43685676    64037]\n",
      " [  226894   636492]]\n",
      "[0.90858765 0.73720445]\n",
      "self.exp, results 135 {'pred_entropy': {'metrics': {'precision_L': array([0.95636601]), 'recall_L': array([0.85303752]), 'recall_Ltotal': array([0.5121371]), 'AA': array([0.02999128]), 'precision_H': array([0.72475187]), 'recall_H': array([0.45881879]), 'f1_L': array([0.90175141]), 'f1_H': array([0.56190946]), 'f1': 77.77}, 'metrics_audited': {'precision': array([0.97501307]), 'recall': array([0.91176832]), 'f1': array([0.94233071])}}, 'pred_var': {'metrics': {'precision_L': array([0.95701999]), 'recall_L': array([0.71274984]), 'recall_Ltotal': array([0.36949175]), 'AA': array([0.02989396]), 'precision_H': array([0.81012385]), 'recall_H': array([0.6769223]), 'f1_L': array([0.81701781]), 'f1_H': array([0.73755734]), 'f1': 77.77}, 'metrics_audited': {'precision': array([0.98087553]), 'recall': array([0.85108862]), 'f1': array([0.91138465])}}, 'MI': {'metrics': {'precision_L': array([0.91182663]), 'recall_L': array([0.73003097]), 'recall_Ltotal': array([0.66560727]), 'AA': array([0.02996725]), 'precision_H': array([0.51067661]), 'recall_H': array([0.33868385]), 'f1_L': array([0.81086409]), 'f1_H': array([0.40726624]), 'f1': 77.77}, 'metrics_audited': {'precision': array([0.92133645]), 'recall': array([0.75385517]), 'f1': array([0.82922364])}}, 'KL': {'metrics': {'precision_L': array([0.90193941]), 'recall_L': array([0.72190682]), 'recall_Ltotal': array([0.68219545]), 'AA': array([0.03000381]), 'precision_H': array([0.41390621]), 'recall_H': array([0.24177791]), 'f1_L': array([0.80194319]), 'f1_H': array([0.30524875]), 'f1': 77.77}, 'metrics_audited': {'precision': array([0.90858765]), 'recall': array([0.73720445]), 'f1': array([0.81397263])}}}\n",
      "D:/Jorge/datasets/deforestation/MT/deforestation_past_years.tif\n",
      "Loaded deforestation past years\n"
     ]
    },
    {
     "name": "stderr",
     "output_type": "stream",
     "text": [
      "ic| np.unique(deforestation_past_years, return_counts=True): (array([   0, 2008, 2009, 2010, 2011, 2012, 2013, 2014, 2015, 2016, 2017,\n",
      "                                                                    2018, 2019, 2020, 2021], dtype=uint16),\n",
      "                                                              array([161124576,   1332784,    240796,    338545,    313901,    287191,\n",
      "                                                                       708581,    648966,    876898,   1007787,   1098901,   1054092,\n",
      "                                                                      2096062,   2473828,   1400992], dtype=int64))\n"
     ]
    },
    {
     "name": "stdout",
     "output_type": "stream",
     "text": [
      "Label where deforestation past years is actual date (2020) = 1\n"
     ]
    },
    {
     "name": "stderr",
     "output_type": "stream",
     "text": [
      "ic| np.unique(deforestation_past_years, return_counts=True): (array([   0, 2008, 2009, 2010, 2011, 2012, 2013, 2014, 2015, 2016, 2017,\n",
      "                                                                    2018, 2019, 2020, 2021], dtype=uint16),\n",
      "                                                              array([161124576,   1332784,    240796,    338545,    313901,    287191,\n",
      "                                                                       708581,    648966,    876898,   1007787,   1098901,   1054092,\n",
      "                                                                      2096062,   2473828,   1400992], dtype=int64))\n"
     ]
    },
    {
     "name": "stdout",
     "output_type": "stream",
     "text": [
      "Past deforestation different from 0 (no deforestation)\n"
     ]
    },
    {
     "name": "stderr",
     "output_type": "stream",
     "text": [
      "ic| np.unique(deforestation_past_years, return_counts=True): (array([   0, 2008, 2009, 2010, 2011, 2012, 2013, 2014, 2015, 2016, 2017,\n",
      "                                                                    2018, 2019, 2020, 2021], dtype=uint16),\n",
      "                                                              array([161124576,   1332784,    240796,    338545,    313901,    287191,\n",
      "                                                                       708581,    648966,    876898,   1007787,   1098901,   1054092,\n",
      "                                                                      2096062,   2473828,   1400992], dtype=int64))\n"
     ]
    },
    {
     "name": "stdout",
     "output_type": "stream",
     "text": [
      "Past deforestation before 2008 is 2\n",
      "D:/Jorge/datasets/deforestation/MT/deforestation_before_2008/deforestation_before_2008_MT.tif\n"
     ]
    },
    {
     "name": "stderr",
     "output_type": "stream",
     "text": [
      "ic| np.unique(label_past_deforestation_before_2008, return_counts=True): (array([  0, 215], dtype=uint8), array([122623260,  52380640], dtype=int64))\n",
      "ic| np.unique(deforestation_past_years, return_counts=True): (array([   0, 2008, 2009, 2010, 2011, 2012, 2013, 2014, 2015, 2016, 2017,\n",
      "                                                                    2018, 2019, 2020, 2021], dtype=uint16),\n",
      "                                                              array([161124576,   1332784,    240796,    338545,    313901,    287191,\n",
      "                                                                       708581,    648966,    876898,   1007787,   1098901,   1054092,\n",
      "                                                                      2096062,   2473828,   1400992], dtype=int64))\n",
      "ic| label_per_date.shape: (16795, 10420, 1)\n"
     ]
    },
    {
     "name": "stdout",
     "output_type": "stream",
     "text": [
      "Mask label shape:  \n",
      " (16795, 10420, 1) \n",
      " Unique values:  \n",
      " [0 1 2]\n",
      "Tiles size:  3359 2084\n",
      "Mask size:  (16795, 10420)\n"
     ]
    },
    {
     "name": "stderr",
     "output_type": "stream",
     "text": [
      "ic| image_stack.shape: (16795, 10420, 21)\n"
     ]
    },
    {
     "name": "stdout",
     "output_type": "stream",
     "text": [
      "Image shape:  (16795, 10420, 21)\n",
      "mask:  (16795, 10420)\n",
      "image stack:  (16795, 10420, 21)\n",
      "ref : (16795, 10420, 1)\n",
      "Training tiles:  [2, 4, 5, 6, 7, 12, 14, 15, 18, 21, 23, 24]\n",
      "Validation tiles:  [9, 11, 25]\n",
      "Test tiles:  [1, 3, 8, 10, 13, 16, 17, 19, 20, 22]\n",
      "-5.0 -12.0\n"
     ]
    },
    {
     "name": "stderr",
     "output_type": "stream",
     "text": [
      "ic| self.path_models+ '/' + self.method +'_'+str(0)+'.h5': 'D:/Jorge/datasets/deforestation/experiments/MT/exp136/models/resunet_0.h5'\n"
     ]
    },
    {
     "name": "stdout",
     "output_type": "stream",
     "text": [
      "time:  0\n",
      "time:  1\n",
      "time:  2\n",
      "time:  3\n",
      "time:  4\n",
      "time:  5\n",
      "time:  6\n",
      "time:  7\n",
      "time:  8\n",
      "time:  9\n",
      "(44657480,)\n",
      "(array([0, 1], dtype=uint8), array([43783238,   874242], dtype=int64))\n",
      "(16795, 10420)\n",
      "(array([0., 1.], dtype=float32), array([173227252,   1776648], dtype=int64))\n"
     ]
    },
    {
     "name": "stderr",
     "output_type": "stream",
     "text": [
      "ic| self.predicted_unpad.shape: (16795, 10420)\n",
      "    self.predicted.shape: (16795, 10420)\n",
      "ic| predicted_test.shape: (70001560,)\n",
      "ic| predicted_test.shape: (44657480,)\n",
      "ic| np.unique(predicted, return_counts=True): (array([0., 1.], dtype=float32), array([173227252,   1776648], dtype=int64))\n",
      "    np.unique(predicted_larger_than_min_area, return_counts=True): (array([0., 1.], dtype=float32), array([173369574,   1634326], dtype=int64))\n",
      "ic| np.unique(ignored_polygons, return_counts=True): (array([0., 1.], dtype=float32), array([174861578,    142322], dtype=int64))\n",
      "ic| predicted.shape: (16795, 10420), label_mask.shape: (16795, 10420)\n",
      "ic| predicted_masked.shape: (70001560,)\n",
      "    label_masked.shape: (70001560,)\n",
      "ic| np.unique(label_masked, return_counts=True): (array([0, 1, 2], dtype=uint8),\n",
      "                                                  array([43748020,   857750, 25395790], dtype=int64))\n",
      "ic| predicted_masked.shape: (44605770,)\n",
      "    label_masked.shape: (44605770,)\n",
      "ic| self.f1: 77.93, self.precision: 90.35, self.recall: 68.51\n",
      "ic| self.label_mask_val.shape: (21000468,)\n",
      "ic| self.label_mask_val_valid.shape: (11793012,)\n",
      "ic| f1_val: 97.11\n",
      "    precision_val: 99.56\n",
      "    recall_val: 94.77\n",
      "    mAP_val: 99.39\n"
     ]
    },
    {
     "name": "stdout",
     "output_type": "stream",
     "text": [
      "(array([0., 1.], dtype=float32), array([174015922,    987978], dtype=int64))\n"
     ]
    },
    {
     "name": "stderr",
     "output_type": "stream",
     "text": [
      "ic| self.label_mask.shape: (16795, 10420)\n",
      "ic| self.mask_amazon_ts.shape: (16795, 10420)\n",
      "ic| self.label_mask_test.shape: (70001560,)\n",
      "ic| self.error_mask_test.shape: (44605770,)\n",
      "ic| bounds: (0.0015, 0.3663794801235199)\n",
      "c:\\Users\\jchamorro\\Anaconda3\\envs\\tf2\\lib\\site-packages\\scipy\\optimize\\_minimize.py:783: RuntimeWarning: Method 'bounded' does not support relative tolerance in x; defaulting to absolute tolerance.\n",
      "  warn(\"Method 'bounded' does not support relative tolerance in x; \"\n"
     ]
    },
    {
     "name": "stdout",
     "output_type": "stream",
     "text": [
      "0.1408715596097929\n",
      "threshold 0.1408715596097929\n",
      "(43173277,) (43173277,)\n"
     ]
    },
    {
     "name": "stderr",
     "output_type": "stream",
     "text": [
      "ic| label_current_deforestation_test_classified_incorrect.shape: (1432493,)\n",
      "    predicted_test_classified_incorrect.shape: (1432493,)\n",
      "ic| TP_H + FN_H "
     ]
    },
    {
     "name": "stdout",
     "output_type": "stream",
     "text": [
      "cm_correct [[42685884    18732]\n",
      " [   65241   403420]]\n",
      "cm_incorrect [[999369  44035]\n",
      " [204844 184245]]\n"
     ]
    },
    {
     "name": "stderr",
     "output_type": "stream",
     "text": [
      "+ FP_H + TN_H: 1432493\n",
      "    len(label_mask_current_deforestation_test): 44605770\n",
      "ic| TP_H + FN_H + FP_H + TN_H: 1432493\n",
      "    len(label_mask_current_deforestation_test): 44605770\n"
     ]
    },
    {
     "name": "stdout",
     "output_type": "stream",
     "text": [
      "[0.95562736 0.86079277 0.47032352 0.03211452 0.80710093 0.47352919]\n",
      "0.22700792051372695\n",
      "threshold 0.22700792051372695\n",
      "(43697213,) (43697213,)\n"
     ]
    },
    {
     "name": "stderr",
     "output_type": "stream",
     "text": [
      "ic| label_current_deforestation_test_classified_incorrect.shape: (908557,)\n",
      "    predicted_test_classified_incorrect.shape: (908557,)\n",
      "ic| TP_H + FN_H + FP_H + TN_H: 908557\n",
      "    len(label_mask_current_deforestation_test): 44605770\n",
      "ic| TP_H + FN_H + FP_H + TN_H: 908557\n",
      "    len(label_mask_current_deforestation_test): 44605770\n"
     ]
    },
    {
     "name": "stdout",
     "output_type": "stream",
     "text": [
      "cm_correct [[43093877    35277]\n",
      " [   98036   470023]]\n",
      "cm_incorrect [[591376  27490]\n",
      " [172049 117642]]\n",
      "[0.93018603 0.82741933 0.54797202 0.0203686  0.81058622 0.40609477]\n",
      "0.08763636090393405\n",
      "threshold 0.08763636090393405\n",
      "(42578771,) (42578771,)\n"
     ]
    },
    {
     "name": "stderr",
     "output_type": "stream",
     "text": [
      "ic| label_current_deforestation_test_classified_incorrect.shape: (2026999,)\n",
      "    predicted_test_classified_incorrect.shape: (2026999,)\n"
     ]
    },
    {
     "name": "stdout",
     "output_type": "stream",
     "text": [
      "cm_correct [[42164730    10607]\n",
      " [   47876   355558]]\n"
     ]
    },
    {
     "name": "stderr",
     "output_type": "stream",
     "text": [
      "ic| TP_H + FN_H + FP_H + TN_H: 2026999\n",
      "    len(label_mask_current_deforestation_test): 44605770\n",
      "ic| TP_H + FN_H + FP_H + TN_H: 2026999\n",
      "    len(label_mask_current_deforestation_test): 44605770\n"
     ]
    },
    {
     "name": "stdout",
     "output_type": "stream",
     "text": [
      "cm_incorrect [[1520523   52160]\n",
      " [ 222209  232107]]\n",
      "[0.97103218 0.88132879 0.41452405 0.04544253 0.81651053 0.5108933 ]\n",
      "0.16592795407520136\n",
      "threshold 0.16592795407520136\n",
      "(43349674,) (43349674,)\n"
     ]
    },
    {
     "name": "stderr",
     "output_type": "stream",
     "text": [
      "ic| label_current_deforestation_test_classified_incorrect.shape: (1256096,)\n",
      "    predicted_test_classified_incorrect.shape: (1256096,)\n",
      "ic| TP_H + FN_H + FP_H + TN_H: 1256096\n",
      "    len(label_mask_current_deforestation_test): 44605770\n",
      "ic| TP_H + FN_H + FP_H + TN_H: 1256096\n",
      "    len(label_mask_current_deforestation_test): 44605770\n"
     ]
    },
    {
     "name": "stdout",
     "output_type": "stream",
     "text": [
      "cm_correct [[42830285    23435]\n",
      " [   74083   421871]]\n",
      "cm_incorrect [[854968  39332]\n",
      " [196002 165794]]\n",
      "[0.94737327 0.85062526 0.49183445 0.02815994 0.80825444 0.45825272]\n",
      "0.15680568001434247\n",
      "threshold 0.15680568001434247\n",
      "(43289209,) (43289209,)\n"
     ]
    },
    {
     "name": "stderr",
     "output_type": "stream",
     "text": [
      "ic| label_current_deforestation_test_classified_incorrect.shape: (1316561,)\n",
      "    predicted_test_classified_incorrect.shape: (1316561,)\n",
      "ic| TP_H + FN_H + FP_H + TN_H: 1316561\n",
      "    len(label_mask_current_deforestation_test): 44605770\n",
      "ic| TP_H + FN_H + FP_H + TN_H: 1316561\n",
      "    len(label_mask_current_deforestation_test): 44605770\n"
     ]
    },
    {
     "name": "stdout",
     "output_type": "stream",
     "text": [
      "cm_correct [[42781547    21500]\n",
      " [   70749   415413]]\n",
      "cm_incorrect [[903706  41267]\n",
      " [199336 172252]]\n",
      "[0.95079112 0.85447443 0.48430545 0.02951549 0.80672914 0.46355641]\n",
      "0.15394673495199374\n",
      "threshold 0.15394673495199374\n",
      "(43269629,) (43269629,)\n"
     ]
    },
    {
     "name": "stderr",
     "output_type": "stream",
     "text": [
      "ic| label_current_deforestation_test_classified_incorrect.shape: (1336141,)\n",
      "    predicted_test_classified_incorrect.shape: (1336141,)\n",
      "ic| TP_H + FN_H + FP_H + TN_H: 1336141\n",
      "    len(label_mask_current_deforestation_test): 44605770\n",
      "ic| TP_H + FN_H + FP_H + TN_H: 1336141\n",
      "    len(label_mask_current_deforestation_test): 44605770\n"
     ]
    },
    {
     "name": "stdout",
     "output_type": "stream",
     "text": [
      "cm_correct [[42765623    20940]\n",
      " [   69680   413386]]\n",
      "cm_incorrect [[919630  41827]\n",
      " [200405 174279]]\n",
      "[0.95178737 0.8557547  0.48194229 0.02995444 0.80645146 0.46513595]\n",
      "0.14895246238013754\n",
      "threshold 0.14895246238013754\n",
      "(43234105,) (43234105,)\n"
     ]
    },
    {
     "name": "stderr",
     "output_type": "stream",
     "text": [
      "ic| label_current_deforestation_test_classified_incorrect.shape: (1371665,)\n",
      "    predicted_test_classified_incorrect.shape: (1371665,)\n",
      "ic| TP_H + FN_H + FP_H + TN_H: 1371665\n",
      "    len(label_mask_current_deforestation_test): 44605770\n",
      "ic| TP_H + FN_H + FP_H + TN_H: 1371665\n",
      "    len(label_mask_current_deforestation_test): 44605770\n"
     ]
    },
    {
     "name": "stdout",
     "output_type": "stream",
     "text": [
      "cm_correct [[42736432    20017]\n",
      " [   68006   409650]]\n",
      "cm_incorrect [[948821  42750]\n",
      " [202079 178015]]\n",
      "[0.95341276 0.85762557 0.47758671 0.03075084 0.80635517 0.46834467]\n",
      "0.1533308482895101\n",
      "threshold 0.1533308482895101\n",
      "(43265274,) (43265274,)\n"
     ]
    },
    {
     "name": "stderr",
     "output_type": "stream",
     "text": [
      "ic| label_current_deforestation_test_classified_incorrect.shape: (1340496,)\n",
      "    predicted_test_classified_incorrect.shape: (1340496,)\n",
      "ic| TP_H + FN_H + FP_H + TN_H: 1340496\n",
      "    len(label_mask_current_deforestation_test): 44605770\n"
     ]
    },
    {
     "name": "stdout",
     "output_type": "stream",
     "text": [
      "cm_correct [[42762037    20806]\n",
      " [   69495   412936]]\n",
      "cm_incorrect [[923216  41961]\n",
      " [200590 174729]]\n"
     ]
    },
    {
     "name": "stderr",
     "output_type": "stream",
     "text": [
      "ic| TP_H + FN_H + FP_H + TN_H: 1340496\n",
      "    len(label_mask_current_deforestation_test): 44605770\n"
     ]
    },
    {
     "name": "stdout",
     "output_type": "stream",
     "text": [
      "[0.95203139 0.85594831 0.48141766 0.03005208 0.8063547  0.46554797]\n",
      "0.15375084789609558\n",
      "threshold 0.15375084789609558\n",
      "(43268251,) (43268251,)\n"
     ]
    },
    {
     "name": "stderr",
     "output_type": "stream",
     "text": [
      "ic| label_current_deforestation_test_classified_incorrect.shape: (1337519,)\n",
      "    predicted_test_classified_incorrect.shape: (1337519,)\n",
      "ic| TP_H + FN_H + FP_H + TN_H: 1337519\n",
      "    len(label_mask_current_deforestation_test): 44605770\n",
      "ic| TP_H + FN_H + FP_H + TN_H: 1337519\n",
      "    len(label_mask_current_deforestation_test): 44605770\n"
     ]
    },
    {
     "name": "stdout",
     "output_type": "stream",
     "text": [
      "cm_correct [[42764498    20890]\n",
      " [   69609   413254]]\n",
      "cm_incorrect [[920755  41877]\n",
      " [200476 174411]]\n",
      "[0.95188232 0.8558411  0.4817884  0.02998534 0.80638316 0.46523619]\n",
      "0.1536520001927407\n",
      "threshold 0.1536520001927407\n",
      "(43267558,) (43267558,)\n"
     ]
    },
    {
     "name": "stderr",
     "output_type": "stream",
     "text": [
      "ic| label_current_deforestation_test_classified_incorrect.shape: (1338212,)\n",
      "    predicted_test_classified_incorrect.shape: (1338212,)\n",
      "ic| TP_H + FN_H + FP_H + TN_H: 1338212\n",
      "    len(label_mask_current_deforestation_test): 44605770\n",
      "ic| TP_H + FN_H + FP_H + TN_H: 1338212\n",
      "    len(label_mask_current_deforestation_test): 44605770\n"
     ]
    },
    {
     "name": "stdout",
     "output_type": "stream",
     "text": [
      "cm_correct [[42763926    20865]\n",
      " [   69586   413181]]\n",
      "cm_incorrect [[921327  41902]\n",
      " [200499 174484]]\n",
      "[0.95192906 0.85586007 0.48170329 0.03000087 0.80635531 0.46531176]\n",
      "0.15352933108125832\n",
      "threshold 0.15352933108125832\n",
      "(43266696,) (43266696,)\n"
     ]
    },
    {
     "name": "stderr",
     "output_type": "stream",
     "text": [
      "ic| label_current_deforestation_test_classified_incorrect.shape: (1339074,)\n",
      "    predicted_test_classified_incorrect.shape: (1339074,)\n",
      "ic| TP_H + FN_H + FP_H + TN_H: 1339074\n",
      "    len(label_mask_current_deforestation_test): 44605770\n",
      "ic| TP_H + FN_H + FP_H + TN_H: 1339074\n",
      "    len(label_mask_current_deforestation_test): 44605770\n"
     ]
    },
    {
     "name": "stdout",
     "output_type": "stream",
     "text": [
      "cm_correct [[42763218    20846]\n",
      " [   69552   413080]]\n",
      "cm_incorrect [[922035  41921]\n",
      " [200533 174585]]\n",
      "[0.95195955 0.8558902  0.48158554 0.0300202  0.80637488 0.46541355]\n",
      "0.1536186645803799\n",
      "threshold 0.1536186645803799\n",
      "(43267331,) (43267331,)\n"
     ]
    },
    {
     "name": "stderr",
     "output_type": "stream",
     "text": [
      "ic| label_current_deforestation_test_classified_incorrect.shape: (1338439,)\n",
      "    predicted_test_classified_incorrect.shape: (1338439,)\n",
      "ic| TP_H + FN_H + FP_H + TN_H: 1338439\n",
      "    len(label_mask_current_deforestation_test): 44605770\n",
      "ic| TP_H + FN_H + FP_H + TN_H: 1338439\n",
      "    len(label_mask_current_deforestation_test): 44605770\n"
     ]
    },
    {
     "name": "stdout",
     "output_type": "stream",
     "text": [
      "cm_correct [[42763739    20860]\n",
      " [   69575   413157]]\n",
      "cm_incorrect [[921514  41907]\n",
      " [200510 174508]]\n",
      "[0.95193737 0.85587241 0.48167531 0.03000596 0.80635815 0.46533233]\n",
      "0.1536853358051015\n",
      "threshold 0.1536853358051015\n",
      "(43267802,) (43267802,)\n"
     ]
    },
    {
     "name": "stderr",
     "output_type": "stream",
     "text": [
      "ic| label_current_deforestation_test_classified_incorrect.shape: (1337968,)\n",
      "    predicted_test_classified_incorrect.shape: (1337968,)\n",
      "ic| TP_H + FN_H + FP_H + TN_H: 1337968\n",
      "    len(label_mask_current_deforestation_test): 44605770\n",
      "ic| TP_H + FN_H + FP_H + TN_H: 1337968\n",
      "    len(label_mask_current_deforestation_test): 44605770\n"
     ]
    },
    {
     "name": "stdout",
     "output_type": "stream",
     "text": [
      "cm_correct [[42764115    20877]\n",
      " [   69597   413213]]\n",
      "cm_incorrect [[921138  41890]\n",
      " [200488 174452]]\n",
      "[0.95190629 0.85585013 0.4817406  0.0299954  0.80637139 0.46527978]\n"
     ]
    },
    {
     "name": "stderr",
     "output_type": "stream",
     "text": [
      "ic| self.threshold_optimal: 0.1536520001927407\n"
     ]
    },
    {
     "name": "stdout",
     "output_type": "stream",
     "text": [
      "threshold 0.1536520001927407\n",
      "(43267558,) (43267558,)\n"
     ]
    },
    {
     "name": "stderr",
     "output_type": "stream",
     "text": [
      "ic| label_current_deforestation_test_classified_incorrect.shape: (1338212,)\n",
      "    predicted_test_classified_incorrect.shape: (1338212,)\n",
      "ic| TP_H + FN_H + FP_H + TN_H: 1338212\n",
      "    len(label_mask_current_deforestation_test): 44605770\n",
      "ic| TP_H + FN_H + FP_H + TN_H: 1338212\n",
      "    len(label_mask_current_deforestation_test): 44605770\n"
     ]
    },
    {
     "name": "stdout",
     "output_type": "stream",
     "text": [
      "cm_correct [[42763926    20865]\n",
      " [   69586   413181]]\n",
      "cm_incorrect [[921327  41902]\n",
      " [200499 174484]]\n",
      "[0.95192906 0.85586007 0.48170329 0.03000087 0.80635531 0.46531176]\n",
      "threshold 0.1536520001927407\n",
      "(44605770,) (44605770,)\n"
     ]
    },
    {
     "name": "stderr",
     "output_type": "stream",
     "text": [
      "ic| self.m_optimal: {'AA': array([0.03000087]),\n",
      "                     'f1': 77.93,\n",
      "                     'f1_H': array([0.59010195]),\n",
      "                     'f1_L': array([0.90134193]),\n",
      "                     'precision_H': array([0.80635531]),\n",
      "                     'precision_L': array([0.95192906]),\n",
      "                     'recall_H': array([0.46531176]),\n",
      "                     'recall_L': array([0.85586007]),\n",
      "                     'recall_Ltotal': array([0.48170329])}\n",
      "ic| self.m_audited_optimal: {'f1': array([0.94573306]),\n",
      "                             'precision': array([0.97420982]),\n",
      "                             'recall': array([0.9188738])}\n"
     ]
    },
    {
     "name": "stdout",
     "output_type": "stream",
     "text": [
      "cm_audited [[43727155    20865]\n",
      " [   69586   788164]]\n",
      "[0.97420982 0.9188738 ]\n"
     ]
    },
    {
     "name": "stderr",
     "output_type": "stream",
     "text": [
      "ic| self.label_mask.shape: (16795, 10420)\n",
      "ic| self.mask_amazon_ts.shape: (16795, 10420)\n",
      "ic| self.label_mask_test.shape: (70001560,)\n",
      "ic| self.error_mask_test.shape: (44605770,)\n",
      "ic| bounds: (0.0015, 0.1981050626039505)\n",
      "c:\\Users\\jchamorro\\Anaconda3\\envs\\tf2\\lib\\site-packages\\scipy\\optimize\\_minimize.py:783: RuntimeWarning: Method 'bounded' does not support relative tolerance in x; defaulting to absolute tolerance.\n",
      "  warn(\"Method 'bounded' does not support relative tolerance in x; \"\n"
     ]
    },
    {
     "name": "stdout",
     "output_type": "stream",
     "text": [
      "0.07659645155440817\n",
      "threshold 0.07659645155440817\n",
      "(44601581,) (44601581,)\n"
     ]
    },
    {
     "name": "stderr",
     "output_type": "stream",
     "text": [
      "ic| label_current_deforestation_test_classified_incorrect.shape: (4189,)\n",
      "    predicted_test_classified_incorrect.shape: (4189,)\n",
      "ic| TP_H + FN_H + FP_H + TN_H: 4189\n",
      "    len(label_mask_current_deforestation_test): 44605770\n",
      "ic| TP_H + FN_H + FP_H + TN_H: 4189\n",
      "    len(label_mask_current_deforestation_test): 44605770\n"
     ]
    },
    {
     "name": "stdout",
     "output_type": "stream",
     "text": [
      "cm_correct [[43683246    60632]\n",
      " [  270079   587624]]\n",
      "cm_incorrect [[2007 2135]\n",
      " [   6   41]]\n",
      "[9.06469049e-01 6.85113612e-01 6.85076071e-01 9.39116173e-05\n",
      " 1.88419118e-02 8.72340426e-01]\n",
      "0.1230086110495423\n",
      "threshold 0.1230086110495423\n",
      "(44603570,) (44603570,)\n"
     ]
    },
    {
     "name": "stderr",
     "output_type": "stream",
     "text": [
      "ic| label_current_deforestation_test_classified_incorrect.shape: (2200,)\n",
      "    predicted_test_classified_incorrect.shape: (2200,)\n",
      "d:\\Jorge\\deforestation_uncertainty\\src\\metrics.py:300: RuntimeWarning: invalid value encountered in longlong_scalars\n",
      "  recall_H = TP_H / (TP_H + FN_H)\n",
      "ic| TP_H + FN_H + FP_H + TN_H: 2200\n",
      "    len(label_mask_current_deforestation_test): 44605770\n",
      "ic| TP_H + FN_H + FP_H + TN_H: 2200\n",
      "    len(label_mask_current_deforestation_test): 44605770\n"
     ]
    },
    {
     "name": "stdout",
     "output_type": "stream",
     "text": [
      "cm_correct [[43683937    61883]\n",
      " [  270085   587665]]\n",
      "cm_incorrect [[1316  884]\n",
      " [   0    0]]\n",
      "[9.04729135e-01 6.85123871e-01 6.85123871e-01 4.93209735e-05\n",
      " 0.00000000e+00            nan]\n",
      "0.047912159495134124\n",
      "threshold 0.047912159495134124\n",
      "(44594489,) (44594489,)\n"
     ]
    },
    {
     "name": "stderr",
     "output_type": "stream",
     "text": [
      "ic| label_current_deforestation_test_classified_incorrect.shape: (11281,)\n",
      "    predicted_test_classified_incorrect.shape: (11281,)\n",
      "ic| TP_H + FN_H + FP_H + TN_H: 11281\n",
      "    len(label_mask_current_deforestation_test): 44605770\n",
      "ic| TP_H + FN_H + FP_H + TN_H: 11281\n",
      "    len(label_mask_current_deforestation_test): 44605770\n"
     ]
    },
    {
     "name": "stdout",
     "output_type": "stream",
     "text": [
      "cm_correct [[43678905    58992]\n",
      " [  269853   586739]]\n",
      "cm_incorrect [[6348 3775]\n",
      " [ 232  926]]\n",
      "[9.08643073e-01 6.84969040e-01 6.84044302e-01 2.52904501e-04\n",
      " 1.96979366e-01 7.99654577e-01]\n",
      "0.030184292059274052\n",
      "threshold 0.030184292059274052\n",
      "(44566153,) (44566153,)\n"
     ]
    },
    {
     "name": "stderr",
     "output_type": "stream",
     "text": [
      "ic| label_current_deforestation_test_classified_incorrect.shape: (39617,)\n",
      "    predicted_test_classified_incorrect.shape: (39617,)\n",
      "ic| TP_H + FN_H + FP_H + TN_H: 39617\n",
      "    len(label_mask_current_deforestation_test): 44605770\n",
      "ic| TP_H + FN_H + FP_H + TN_H: 39617\n",
      "    len(label_mask_current_deforestation_test): 44605770\n"
     ]
    },
    {
     "name": "stdout",
     "output_type": "stream",
     "text": [
      "cm_correct [[43665157    49922]\n",
      " [  268313   582761]]\n",
      "cm_incorrect [[20096 12845]\n",
      " [ 1772  4904]]\n",
      "[9.21094766e-01 6.84735992e-01 6.79406587e-01 8.88158640e-04\n",
      " 2.76297256e-01 7.34571600e-01]\n",
      "0.01922786743586008\n",
      "threshold 0.01922786743586008\n",
      "(44486153,) (44486153,)\n"
     ]
    },
    {
     "name": "stderr",
     "output_type": "stream",
     "text": [
      "ic| label_current_deforestation_test_classified_incorrect.shape: (119617,)\n",
      "    predicted_test_classified_incorrect.shape: (119617,)\n",
      "ic| TP_H + FN_H + FP_H + TN_H: 119617\n",
      "    len(label_mask_current_deforestation_test): 44605770\n",
      "ic| TP_H + FN_H + FP_H + TN_H: 119617\n",
      "    len(label_mask_current_deforestation_test): 44605770\n"
     ]
    },
    {
     "name": "stdout",
     "output_type": "stream",
     "text": [
      "cm_correct [[43624449    35681]\n",
      " [  259617   566406]]\n",
      "cm_incorrect [[60804 27086]\n",
      " [10468 21259]]\n",
      "[0.9407378  0.68570246 0.66033926 0.00268165 0.43973524 0.6700602 ]\n",
      "0.012456424623413977\n",
      "threshold 0.012456424623413977\n",
      "(44317751,) (44317751,)\n"
     ]
    },
    {
     "name": "stderr",
     "output_type": "stream",
     "text": [
      "ic| label_current_deforestation_test_classified_incorrect.shape: (288019,)\n",
      "    predicted_test_classified_incorrect.shape: (288019,)\n",
      "ic| TP_H + FN_H + FP_H + TN_H: 288019\n",
      "    len(label_mask_current_deforestation_test): 44605770\n",
      "ic| TP_H + FN_H + FP_H + TN_H: 288019\n",
      "    len(label_mask_current_deforestation_test): 44605770\n"
     ]
    },
    {
     "name": "stdout",
     "output_type": "stream",
     "text": [
      "cm_correct [[43541854    23820]\n",
      " [  231031   521046]]\n",
      "cm_incorrect [[143399  38947]\n",
      " [ 39054  66619]]\n",
      "[0.95628283 0.69280938 0.60745672 0.00645699 0.63106493 0.63042594]\n",
      "0.008271442812446106\n",
      "threshold 0.008271442812446106\n",
      "(44089459,) (44089459,)\n"
     ]
    },
    {
     "name": "stderr",
     "output_type": "stream",
     "text": [
      "ic| label_current_deforestation_test_classified_incorrect.shape: (516311,)\n",
      "    predicted_test_classified_incorrect.shape: (516311,)\n",
      "ic| TP_H + FN_H + FP_H + TN_H: 516311\n",
      "    len(label_mask_current_deforestation_test): 44605770\n",
      "ic| TP_H + FN_H + FP_H + TN_H: 516311\n",
      "    len(label_mask_current_deforestation_test): 44605770\n"
     ]
    },
    {
     "name": "stdout",
     "output_type": "stream",
     "text": [
      "cm_correct [[43427356    16993]\n",
      " [  196937   448173]]\n",
      "cm_incorrect [[257897  45774]\n",
      " [ 73148 139492]]\n",
      "[0.96346896 0.69472338 0.5224984  0.01157498 0.75292822 0.65600075]\n",
      "0.005684981810967873\n",
      "threshold 0.005684981810967873\n",
      "(43844184,) (43844184,)\n"
     ]
    },
    {
     "name": "stderr",
     "output_type": "stream",
     "text": [
      "ic| label_current_deforestation_test_classified_incorrect.shape: (761586,)\n",
      "    predicted_test_classified_incorrect.shape: (761586,)\n",
      "ic| TP_H + FN_H + FP_H + TN_H: 761586\n",
      "    len(label_mask_current_deforestation_test): 44605770\n",
      "ic| TP_H + FN_H + FP_H + TN_H: 761586\n",
      "    len(label_mask_current_deforestation_test): 44605770\n"
     ]
    },
    {
     "name": "stdout",
     "output_type": "stream",
     "text": [
      "cm_correct [[43285989    13110]\n",
      " [  164673   380412]]\n",
      "cm_incorrect [[399264  49657]\n",
      " [105412 207253]]\n",
      "[0.96668547 0.69789482 0.44349985 0.01707371 0.80671441 0.66285961]\n",
      "0.004086461001478233\n",
      "threshold 0.004086461001478233\n",
      "(43605491,) (43605491,)\n"
     ]
    },
    {
     "name": "stderr",
     "output_type": "stream",
     "text": [
      "ic| label_current_deforestation_test_classified_incorrect.shape: (1000279,)\n",
      "    predicted_test_classified_incorrect.shape: (1000279,)\n",
      "ic| TP_H + FN_H + FP_H + TN_H: 1000279\n",
      "    len(label_mask_current_deforestation_test): 44605770\n",
      "ic| TP_H + FN_H + FP_H + TN_H: 1000279\n",
      "    len(label_mask_current_deforestation_test): 44605770\n"
     ]
    },
    {
     "name": "stdout",
     "output_type": "stream",
     "text": [
      "cm_correct [[43132451    10488]\n",
      " [  136964   325588]]\n",
      "cm_incorrect [[552802  52279]\n",
      " [133121 262077]]\n",
      "[0.96879277 0.70389491 0.37958379 0.02242488 0.83369492 0.66315366]\n",
      "0.00309852080948964\n",
      "threshold 0.00309852080948964\n",
      "(43393393,) (43393393,)\n"
     ]
    },
    {
     "name": "stderr",
     "output_type": "stream",
     "text": [
      "ic| label_current_deforestation_test_classified_incorrect.shape: (1212377,)\n",
      "    predicted_test_classified_incorrect.shape: (1212377,)\n",
      "ic| TP_H + FN_H + FP_H + TN_H: 1212377\n",
      "    len(label_mask_current_deforestation_test): 44605770\n",
      "ic| TP_H + FN_H + FP_H + TN_H: 1212377\n",
      "    len(label_mask_current_deforestation_test): 44605770\n"
     ]
    },
    {
     "name": "stdout",
     "output_type": "stream",
     "text": [
      "cm_correct [[42985391     9200]\n",
      " [  115736   283066]]\n",
      "cm_incorrect [[699862  53567]\n",
      " [154349 304599]]\n",
      "[0.96852183 0.70979082 0.33000991 0.02717982 0.85044086 0.66368957]\n",
      "0.002487940191988593\n",
      "threshold 0.002487940191988593\n",
      "(43224371,) (43224371,)\n"
     ]
    },
    {
     "name": "stderr",
     "output_type": "stream",
     "text": [
      "ic| label_current_deforestation_test_classified_incorrect.shape: (1381399,)\n",
      "    predicted_test_classified_incorrect.shape: (1381399,)\n",
      "ic| TP_H + FN_H + FP_H + TN_H: 1381399\n",
      "    len(label_mask_current_deforestation_test): 44605770\n",
      "ic| TP_H + FN_H + FP_H + TN_H: 1381399\n",
      "    len(label_mask_current_deforestation_test): "
     ]
    },
    {
     "name": "stdout",
     "output_type": "stream",
     "text": [
      "cm_correct [[42858514     8484]\n",
      " [  101690   255683]]\n",
      "cm_incorrect [[826739  54283]\n",
      " [168395 331982]]\n"
     ]
    },
    {
     "name": "stderr",
     "output_type": "stream",
     "text": [
      "44605770\n"
     ]
    },
    {
     "name": "stdout",
     "output_type": "stream",
     "text": [
      "[0.96788395 0.71545136 0.29808569 0.03096907 0.85946695 0.66346375]\n",
      "0.002110580617501047\n",
      "threshold 0.002110580617501047\n",
      "(43097206,) (43097206,)\n"
     ]
    },
    {
     "name": "stderr",
     "output_type": "stream",
     "text": [
      "ic| label_current_deforestation_test_classified_incorrect.shape: (1508564,)\n",
      "    predicted_test_classified_incorrect.shape: (1508564,)\n",
      "ic| TP_H "
     ]
    },
    {
     "name": "stdout",
     "output_type": "stream",
     "text": [
      "cm_correct [[42757073     8042]\n",
      " [   92464   239627]]\n",
      "cm_incorrect [[928180  54725]\n",
      " [177621 348038]]\n"
     ]
    },
    {
     "name": "stderr",
     "output_type": "stream",
     "text": [
      "+ FN_H + FP_H + TN_H: 1508564\n",
      "    len(label_mask_current_deforestation_test): 44605770\n",
      "ic| TP_H + FN_H + FP_H + TN_H: 1508564\n",
      "    len(label_mask_current_deforestation_test): 44605770\n"
     ]
    },
    {
     "name": "stdout",
     "output_type": "stream",
     "text": [
      "[0.96752924 0.72157029 0.27936695 0.03381993 0.86412605 0.66209843]\n",
      "0.0026517691044915023\n",
      "threshold 0.0026517691044915023\n",
      "(43273465,) (43273465,)\n"
     ]
    },
    {
     "name": "stderr",
     "output_type": "stream",
     "text": [
      "ic| label_current_deforestation_test_classified_incorrect.shape: (1332305,)\n",
      "    predicted_test_classified_incorrect.shape: (1332305,)\n",
      "ic| TP_H + FN_H + FP_H + TN_H: 1332305\n",
      "    len(label_mask_current_deforestation_test): 44605770\n",
      "ic| TP_H + FN_H + FP_H + TN_H: 1332305\n",
      "    len(label_mask_current_deforestation_test): 44605770\n"
     ]
    },
    {
     "name": "stdout",
     "output_type": "stream",
     "text": [
      "cm_correct [[42896585     8664]\n",
      " [  105436   262780]]\n",
      "cm_incorrect [[788668  54103]\n",
      " [164649 324885]]\n",
      "[0.96808181 0.7136572  0.30635966 0.02986845 0.8572435  0.66366177]\n",
      "0.002710073840414462\n",
      "threshold 0.002710073840414462\n",
      "(43290157,) (43290157,)\n"
     ]
    },
    {
     "name": "stderr",
     "output_type": "stream",
     "text": [
      "ic| label_current_deforestation_test_classified_incorrect.shape: (1315613,)\n",
      "    predicted_test_classified_incorrect.shape: (1315613,)\n",
      "ic| TP_H + FN_H + FP_H + TN_H: 1315613\n",
      "    len(label_mask_current_deforestation_test): 44605770\n",
      "ic| TP_H + FN_H + FP_H + TN_H: 1315613\n",
      "    len(label_mask_current_deforestation_test): 44605770\n"
     ]
    },
    {
     "name": "stdout",
     "output_type": "stream",
     "text": [
      "cm_correct [[42909202     8732]\n",
      " [  106809   265414]]\n",
      "cm_incorrect [[776051  54035]\n",
      " [163276 322251]]\n",
      "[0.96814836 0.71305105 0.30943049 0.02949423 0.85639912 0.66371386]\n",
      "0.002618435731826077\n",
      "threshold 0.002618435731826077\n",
      "(43263716,) (43263716,)\n"
     ]
    },
    {
     "name": "stderr",
     "output_type": "stream",
     "text": [
      "ic| label_current_deforestation_test_classified_incorrect.shape: (1342054,)\n",
      "    predicted_test_classified_incorrect.shape: (1342054,)\n",
      "ic| TP_H + FN_H + FP_H + TN_H: 1342054\n",
      "    len(label_mask_current_deforestation_test): 44605770\n",
      "ic| TP_H + FN_H + FP_H "
     ]
    },
    {
     "name": "stdout",
     "output_type": "stream",
     "text": [
      "cm_correct [[42889114     8628]\n",
      " [  104652   261322]]\n",
      "cm_incorrect [[796139  54139]\n",
      " [165433 326343]]\n"
     ]
    },
    {
     "name": "stderr",
     "output_type": "stream",
     "text": [
      "+ TN_H: 1342054\n",
      "    len(label_mask_current_deforestation_test): 44605770\n"
     ]
    },
    {
     "name": "stdout",
     "output_type": "stream",
     "text": [
      "[0.96803853 0.71404526 0.30465987 0.030087   0.85770943 0.66360091]\n",
      "0.0025851023596550654\n",
      "threshold 0.0025851023596550654\n",
      "(43253886,) (43253886,)\n"
     ]
    },
    {
     "name": "stderr",
     "output_type": "stream",
     "text": [
      "ic| label_current_deforestation_test_classified_incorrect.shape: (1351884,)\n",
      "    predicted_test_classified_incorrect.shape: (1351884,)\n",
      "ic| TP_H + FN_H + FP_H + TN_H: 1351884\n",
      "    len(label_mask_current_deforestation_test): 44605770\n",
      "ic| TP_H + FN_H + FP_H + TN_H: 1351884\n",
      "    len(label_mask_current_deforestation_test): 44605770\n"
     ]
    },
    {
     "name": "stdout",
     "output_type": "stream",
     "text": [
      "cm_correct [[42881526     8592]\n",
      " [  103905   259863]]\n",
      "cm_incorrect [[803727  54175]\n",
      " [166180 327802]]\n",
      "[0.96799464 0.71436465 0.3029589  0.03030738 0.85817209 0.66359098]\n"
     ]
    },
    {
     "name": "stderr",
     "output_type": "stream",
     "text": [
      "ic| self.threshold_optimal: 0.002618435731826077\n"
     ]
    },
    {
     "name": "stdout",
     "output_type": "stream",
     "text": [
      "threshold 0.002618435731826077\n",
      "(43263716,) (43263716,)\n"
     ]
    },
    {
     "name": "stderr",
     "output_type": "stream",
     "text": [
      "ic| label_current_deforestation_test_classified_incorrect.shape: (1342054,)\n",
      "    predicted_test_classified_incorrect.shape: (1342054,)\n",
      "ic| TP_H + FN_H + FP_H + TN_H: 1342054\n",
      "    len(label_mask_current_deforestation_test): 44605770"
     ]
    },
    {
     "name": "stdout",
     "output_type": "stream",
     "text": [
      "cm_correct [[42889114     8628]\n",
      " [  104652   261322]]\n",
      "cm_incorrect [[796139  54139]\n",
      " [165433 326343]]\n"
     ]
    },
    {
     "name": "stderr",
     "output_type": "stream",
     "text": [
      "\n",
      "ic| TP_H + FN_H + FP_H + TN_H: 1342054\n",
      "    len(label_mask_current_deforestation_test): 44605770\n"
     ]
    },
    {
     "name": "stdout",
     "output_type": "stream",
     "text": [
      "[0.96803853 0.71404526 0.30465987 0.030087   0.85770943 0.66360091]\n",
      "threshold 0.002618435731826077\n",
      "(44605770,) (44605770,)\n"
     ]
    },
    {
     "name": "stderr",
     "output_type": "stream",
     "text": [
      "ic| self.m_optimal: {'AA': array([0.030087]),\n",
      "                     'f1': 77.93,\n",
      "                     'f1_H': array([0.74827173]),\n",
      "                     'f1_L': array([0.82186551]),\n",
      "                     'precision_H': array([0.85770943]),\n",
      "                     'precision_L': array([0.96803853]),\n",
      "                     'recall_H': array([0.66360091]),\n",
      "                     'recall_L': array([0.71404526]),\n",
      "                     'recall_Ltotal': array([0.30465987])}\n",
      "ic| self.m_audited_optimal: {'f1': array([0.93005145]),\n",
      "                             'precision': array([0.98867309]),\n",
      "                             'recall': array([0.87799242])}\n"
     ]
    },
    {
     "name": "stdout",
     "output_type": "stream",
     "text": [
      "cm_audited [[43739392     8628]\n",
      " [  104652   753098]]\n",
      "[0.98867309 0.87799242]\n"
     ]
    },
    {
     "name": "stderr",
     "output_type": "stream",
     "text": [
      "ic| n: 10, K: 1\n",
      "ic| self.label_mask.shape: (16795, 10420)\n",
      "ic| self.mask_amazon_ts.shape: (16795, 10420)\n",
      "ic| self.label_mask_test.shape: (70001560,)\n",
      "ic| self.error_mask_test.shape: (44605770,)\n",
      "ic| bounds: (0.0015, 0.24772679364681244)\n",
      "c:\\Users\\jchamorro\\Anaconda3\\envs\\tf2\\lib\\site-packages\\scipy\\optimize\\_minimize.py:783: RuntimeWarning: Method 'bounded' does not support relative tolerance in x; defaulting to absolute tolerance.\n",
      "  warn(\"Method 'bounded' does not support relative tolerance in x; \"\n"
     ]
    },
    {
     "name": "stdout",
     "output_type": "stream",
     "text": [
      "0.09555026623217566\n",
      "threshold 0.09555026623217566\n",
      "(44597921,) (44597921,)\n"
     ]
    },
    {
     "name": "stderr",
     "output_type": "stream",
     "text": [
      "ic| label_current_deforestation_test_classified_incorrect.shape: (7849,)\n",
      "    predicted_test_classified_incorrect.shape: (7849,)\n",
      "ic| TP_H + FN_H + FP_H + TN_H: 7849\n",
      "    len(label_mask_current_deforestation_test): 44605770\n",
      "ic| TP_H + FN_H + FP_H + TN_H: 7849\n",
      "    len(label_mask_current_deforestation_test): 44605770\n"
     ]
    },
    {
     "name": "stdout",
     "output_type": "stream",
     "text": [
      "cm_correct [[43678856    61341]\n",
      " [  270060   587664]]\n",
      "cm_incorrect [[6397 1426]\n",
      " [  25    1]]\n",
      "[9.05484549e-01 6.85143473e-01 6.85122705e-01 1.75963782e-04\n",
      " 7.00770848e-04 3.84615385e-02]\n",
      "0.15367652741463675\n",
      "threshold 0.15367652741463675\n",
      "(44604071,) (44604071,)\n"
     ]
    },
    {
     "name": "stderr",
     "output_type": "stream",
     "text": [
      "ic| label_current_deforestation_test_classified_incorrect.shape: (1699,)\n",
      "    predicted_test_classified_incorrect.shape: (1699,)\n",
      "d:\\Jorge\\deforestation_uncertainty\\src\\metrics.py:300: RuntimeWarning: invalid value encountered in longlong_scalars\n",
      "  recall_H = TP_H / (TP_H + FN_H)\n",
      "ic| TP_H + FN_H + FP_H + TN_H: 1699\n",
      "    len(label_mask_current_deforestation_test): 44605770\n",
      "ic| TP_H + FN_H + FP_H + TN_H: 1699\n",
      "    len(label_mask_current_deforestation_test): 44605770\n"
     ]
    },
    {
     "name": "stdout",
     "output_type": "stream",
     "text": [
      "cm_correct [[43683789    62532]\n",
      " [  270085   587665]]\n",
      "cm_incorrect [[1464  235]\n",
      " [   0    0]]\n",
      "[9.03826071e-01 6.85123871e-01 6.85123871e-01 3.80892427e-05\n",
      " 0.00000000e+00            nan]\n",
      "0.059626261182461074\n",
      "threshold 0.059626261182461074\n",
      "(44567908,) (44567908,)\n"
     ]
    },
    {
     "name": "stderr",
     "output_type": "stream",
     "text": [
      "ic| label_current_deforestation_test_classified_incorrect.shape: (37862,)\n",
      "    predicted_test_classified_incorrect.shape: (37862,)\n",
      "ic| TP_H + FN_H + FP_H + TN_H: 37862\n",
      "    len(label_mask_current_deforestation_test): 44605770\n",
      "ic| TP_H + FN_H + FP_H + TN_H: 37862\n",
      "    len(label_mask_current_deforestation_test): 44605770\n"
     ]
    },
    {
     "name": "stdout",
     "output_type": "stream",
     "text": [
      "cm_correct [[43650382    60452]\n",
      " [  269532   587542]]\n",
      "cm_incorrect [[34871  2315]\n",
      " [  553   123]]\n",
      "[9.06709013e-01 6.85520737e-01 6.84980472e-01 8.48813954e-04\n",
      " 5.04511895e-02 1.81952663e-01]\n",
      "0.037424005049714604\n",
      "threshold 0.037424005049714604\n",
      "(44429103,) (44429103,)\n"
     ]
    },
    {
     "name": "stderr",
     "output_type": "stream",
     "text": [
      "ic| label_current_deforestation_test_classified_incorrect.shape: (176667,)\n",
      "    predicted_test_classified_incorrect.shape: (176667,)\n",
      "ic| TP_H + FN_H + FP_H + TN_H: 176667\n",
      "    len(label_mask_current_deforestation_test): 44605770\n",
      "ic| TP_H + FN_H + FP_H + TN_H: 176667\n",
      "    len(label_mask_current_deforestation_test): 44605770\n"
     ]
    },
    {
     "name": "stdout",
     "output_type": "stream",
     "text": [
      "cm_correct [[43520604    58204]\n",
      " [  263801   586494]]\n",
      "cm_incorrect [[164649   4563]\n",
      " [  6284   1171]]\n",
      "[0.90971897 0.68975356 0.68375867 0.00396063 0.20422044 0.15707579]\n",
      "0.023702256132746485\n",
      "threshold 0.023702256132746485\n",
      "(43969538,) (43969538,)\n"
     ]
    },
    {
     "name": "stderr",
     "output_type": "stream",
     "text": [
      "ic| label_current_deforestation_test_classified_incorrect.shape: (636232,)\n",
      "    predicted_test_classified_incorrect.shape: (636232,)\n",
      "ic| TP_H + FN_H + FP_H + TN_H: 636232\n",
      "    len(label_mask_current_deforestation_test): 44605770\n",
      "ic| TP_H + FN_H + FP_H + TN_H: 636232\n",
      "    len(label_mask_current_deforestation_test): 44605770\n"
     ]
    },
    {
     "name": "stdout",
     "output_type": "stream",
     "text": [
      "cm_correct [[43105711    50004]\n",
      " [  232454   581369]]\n",
      "cm_incorrect [[579542  12763]\n",
      " [ 37631   6296]]\n",
      "[0.92080117 0.71436787 0.67778374 0.01426345 0.33034262 0.1433287 ]\n",
      "0.015221748916968127\n",
      "threshold 0.015221748916968127\n",
      "(42498562,) (42498562,)\n"
     ]
    },
    {
     "name": "stderr",
     "output_type": "stream",
     "text": [
      "ic| label_current_deforestation_test_classified_incorrect.shape: (2107208,)\n",
      "    predicted_test_classified_incorrect.shape: (2107208,)\n"
     ]
    },
    {
     "name": "stdout",
     "output_type": "stream",
     "text": [
      "cm_correct [[41720846    37984]\n",
      " [  172837   566895]]\n"
     ]
    },
    {
     "name": "stderr",
     "output_type": "stream",
     "text": [
      "ic| TP_H + FN_H + FP_H + TN_H: 2107208\n",
      "    len(label_mask_current_deforestation_test): 44605770\n",
      "ic| TP_H + FN_H + FP_H + TN_H: 2107208\n",
      "    len(label_mask_current_deforestation_test): 44605770\n"
     ]
    },
    {
     "name": "stdout",
     "output_type": "stream",
     "text": [
      "cm_incorrect [[1964407   24783]\n",
      " [  97248   20770]]\n",
      "[0.93720397 0.76635187 0.66090936 0.0472407  0.45595241 0.1759901 ]\n",
      "0.02158325911700165\n",
      "threshold 0.02158325911700165\n",
      "(43824032,) (43824032,)\n"
     ]
    },
    {
     "name": "stderr",
     "output_type": "stream",
     "text": [
      "ic| label_current_deforestation_test_classified_incorrect.shape: (781738,)\n",
      "    predicted_test_classified_incorrect.shape: (781738,)\n",
      "ic| TP_H + FN_H + FP_H + TN_H: 781738\n",
      "    len(label_mask_current_deforestation_test): 44605770\n",
      "ic| TP_H + FN_H + FP_H + TN_H: 781738\n",
      "    len(label_mask_current_deforestation_test): 44605770\n"
     ]
    },
    {
     "name": "stdout",
     "output_type": "stream",
     "text": [
      "cm_correct [[42975195    47758]\n",
      " [  221796   579283]]\n",
      "cm_incorrect [[710058  15009]\n",
      " [ 48289   8382]]\n",
      "[0.92383592 0.72312843 0.67535179 0.01752549 0.35834295 0.14790634]\n",
      "0.0197906130984837\n",
      "threshold 0.0197906130984837\n",
      "(43644872,) (43644872,)\n"
     ]
    },
    {
     "name": "stderr",
     "output_type": "stream",
     "text": [
      "ic| label_current_deforestation_test_classified_incorrect.shape: (960898,)\n",
      "    predicted_test_classified_incorrect.shape: (960898,)\n",
      "ic| TP_H + FN_H + FP_H + TN_H: 960898\n",
      "    len(label_mask_current_deforestation_test): 44605770\n",
      "ic| TP_H + FN_H + FP_H + TN_H: 960898\n",
      "    len(label_mask_current_deforestation_test): 44605770\n"
     ]
    },
    {
     "name": "stdout",
     "output_type": "stream",
     "text": [
      "cm_correct [[42811136    45498]\n",
      " [  211334   576904]]\n",
      "cm_incorrect [[874117  17269]\n",
      " [ 58751  10761]]\n",
      "[0.92689934 0.73189062 0.67257826 0.02154201 0.3839101  0.1548078 ]\n",
      "0.01804546227112672\n",
      "threshold 0.01804546227112672\n",
      "(43357324,) (43357324,)\n"
     ]
    },
    {
     "name": "stderr",
     "output_type": "stream",
     "text": [
      "ic| label_current_deforestation_test_classified_incorrect.shape: (1248446,)\n",
      "    predicted_test_classified_incorrect.shape: (1248446,)\n",
      "ic| TP_H + FN_H + FP_H + TN_H: 1248446\n",
      "    len(label_mask_current_deforestation_test): 44605770\n",
      "ic| TP_H + FN_H + FP_H + TN_H: 1248446\n",
      "    len(label_mask_current_deforestation_test): 44605770\n"
     ]
    },
    {
     "name": "stdout",
     "output_type": "stream",
     "text": [
      "cm_correct [[42541605    42803]\n",
      " [  198927   573989]]\n",
      "cm_incorrect [[1143648   19964]\n",
      " [  71158   13676]]\n",
      "[0.93060383 0.74262792 0.66917983 0.02798844 0.40653983 0.16120895]\n",
      "0.016966899744325106\n",
      "threshold 0.016966899744325106\n",
      "(43090858,) (43090858,)\n"
     ]
    },
    {
     "name": "stderr",
     "output_type": "stream",
     "text": [
      "ic| label_current_deforestation_test_classified_incorrect.shape: (1514912,)\n",
      "    predicted_test_classified_incorrect.shape: (1514912,)\n",
      "ic"
     ]
    },
    {
     "name": "stdout",
     "output_type": "stream",
     "text": [
      "cm_correct [[42288064    41060]\n",
      " [  190119   571615]]\n",
      "cm_incorrect [[1397189   21707]\n",
      " [  79966   16050]]\n"
     ]
    },
    {
     "name": "stderr",
     "output_type": "stream",
     "text": [
      "| TP_H + FN_H + FP_H + TN_H: 1514912\n",
      "    len(label_mask_current_deforestation_test): 44605770\n",
      "ic| TP_H + FN_H + FP_H + TN_H: 1514912\n",
      "    len(label_mask_current_deforestation_test): 44605770\n"
     ]
    },
    {
     "name": "stdout",
     "output_type": "stream",
     "text": [
      "[0.93298241 0.75041287 0.66641212 0.03396224 0.42508674 0.16715964]\n",
      "0.0179702384884751\n",
      "threshold 0.0179702384884751\n",
      "(43341325,) (43341325,)\n"
     ]
    },
    {
     "name": "stderr",
     "output_type": "stream",
     "text": [
      "ic| label_current_deforestation_test_classified_incorrect.shape: (1264445,)\n",
      "    predicted_test_classified_incorrect.shape: (1264445,)\n",
      "ic| TP_H + FN_H + FP_H + TN_H: 1264445\n",
      "    len(label_mask_current_deforestation_test): 44605770\n",
      "ic| TP_H + FN_H + FP_H + TN_H: 1264445\n",
      "    len(label_mask_current_deforestation_test): 44605770\n"
     ]
    },
    {
     "name": "stdout",
     "output_type": "stream",
     "text": [
      "cm_correct [[42526467    42691]\n",
      " [  198339   573828]]\n",
      "cm_incorrect [[1158786   20076]\n",
      " [  71746   13837]]\n",
      "[0.93075477 0.74313976 0.66899213 0.02834712 0.40801463 0.16167931]\n",
      "0.01764414019289922\n",
      "threshold 0.01764414019289922\n",
      "(43267139,) (43267139,)\n"
     ]
    },
    {
     "name": "stderr",
     "output_type": "stream",
     "text": [
      "ic| label_current_deforestation_test_classified_incorrect.shape: (1338631,)\n",
      "    predicted_test_classified_incorrect.shape: (1338631,)\n",
      "ic| TP_H + FN_H + FP_H + TN_H: 1338631\n",
      "    len(label_mask_current_deforestation_test): 44605770\n",
      "ic| TP_H + FN_H + FP_H + TN_H: 1338631"
     ]
    },
    {
     "name": "stdout",
     "output_type": "stream",
     "text": [
      "cm_correct [[42456063    42163]\n",
      " [  195773   573140]]\n",
      "cm_incorrect [[1229190   20604]\n",
      " [  74312   14525]]\n"
     ]
    },
    {
     "name": "stderr",
     "output_type": "stream",
     "text": [
      "\n",
      "    len(label_mask_current_deforestation_test): 44605770\n"
     ]
    },
    {
     "name": "stdout",
     "output_type": "stream",
     "text": [
      "[0.93147604 0.74538992 0.66819003 0.03001027 0.41347605 0.16350169]\n",
      "0.017385457360100134\n",
      "threshold 0.017385457360100134\n",
      "(43203494,) (43203494,)\n"
     ]
    },
    {
     "name": "stderr",
     "output_type": "stream",
     "text": [
      "ic| label_current_deforestation_test_classified_incorrect.shape: (1402276,)\n",
      "    predicted_test_classified_incorrect.shape: (1402276,)\n",
      "ic"
     ]
    },
    {
     "name": "stdout",
     "output_type": "stream",
     "text": [
      "cm_correct [[42395507    41737]\n",
      " [  193658   572592]]\n",
      "cm_incorrect [[1289746   21030]\n",
      " [  76427   15073]]\n"
     ]
    },
    {
     "name": "stderr",
     "output_type": "stream",
     "text": [
      "| TP_H + FN_H + FP_H + TN_H: 1402276\n",
      "    len(label_mask_current_deforestation_test): 44605770\n",
      "ic| TP_H + FN_H + FP_H + TN_H: 1402276\n",
      "    len(label_mask_current_deforestation_test): 44605770\n"
     ]
    },
    {
     "name": "stdout",
     "output_type": "stream",
     "text": [
      "[0.93206083 0.74726525 0.66755115 0.0314371  0.41749993 0.16473224]\n",
      "0.017677473787937444\n",
      "threshold 0.017677473787937444\n",
      "(43274991,) (43274991,)\n"
     ]
    },
    {
     "name": "stderr",
     "output_type": "stream",
     "text": [
      "ic| label_current_deforestation_test_classified_incorrect.shape: (1330779,)\n",
      "    predicted_test_classified_incorrect.shape: (1330779,)\n",
      "ic| TP_H + FN_H + FP_H + TN_H: 1330779\n",
      "    len(label_mask_current_deforestation_test): 44605770\n",
      "ic| TP_H + FN_H + FP_H + TN_H: 1330779\n",
      "    len(label_mask_current_deforestation_test): 44605770\n"
     ]
    },
    {
     "name": "stdout",
     "output_type": "stream",
     "text": [
      "cm_correct [[42463510    42222]\n",
      " [  196049   573210]]\n",
      "cm_incorrect [[1221743   20545]\n",
      " [  74036   14455]]\n",
      "[0.93139453 0.74514565 0.66827164 0.02983423 0.413      0.16334995]\n",
      "0.017593903799583747\n",
      "threshold 0.017593903799583747\n",
      "(43255032,) (43255032,)\n"
     ]
    },
    {
     "name": "stderr",
     "output_type": "stream",
     "text": [
      "ic| label_current_deforestation_test_classified_incorrect.shape: (1350738,)\n",
      "    predicted_test_classified_incorrect.shape: (1350738,)\n",
      "ic| TP_H + FN_H + FP_H + TN_H: 1350738\n",
      "    len(label_mask_current_deforestation_test): 44605770\n",
      "ic| TP_H + FN_H + FP_H + TN_H: 1350738\n",
      "    len(label_mask_current_deforestation_test"
     ]
    },
    {
     "name": "stdout",
     "output_type": "stream",
     "text": [
      "cm_correct [[42444543    42079]\n",
      " [  195372   573038]]\n",
      "cm_incorrect [[1240710   20688]\n",
      " [  74713   14627]]\n"
     ]
    },
    {
     "name": "stderr",
     "output_type": "stream",
     "text": [
      "): 44605770\n",
      "ic| self.threshold_optimal: 0.01764414019289922\n"
     ]
    },
    {
     "name": "stdout",
     "output_type": "stream",
     "text": [
      "[0.93159188 0.74574511 0.66807112 0.03028169 0.41418661 0.16372286]\n",
      "threshold 0.01764414019289922\n",
      "(43267139,) (43267139,)\n"
     ]
    },
    {
     "name": "stderr",
     "output_type": "stream",
     "text": [
      "ic| label_current_deforestation_test_classified_incorrect.shape: (1338631,)\n",
      "    predicted_test_classified_incorrect.shape: (1338631,)\n",
      "ic| TP_H + FN_H + FP_H + TN_H: 1338631\n",
      "    len(label_mask_current_deforestation_test): 44605770\n",
      "ic| TP_H + FN_H + FP_H"
     ]
    },
    {
     "name": "stdout",
     "output_type": "stream",
     "text": [
      "cm_correct [[42456063    42163]\n",
      " [  195773   573140]]\n",
      "cm_incorrect [[1229190   20604]\n",
      " [  74312   14525]]\n"
     ]
    },
    {
     "name": "stderr",
     "output_type": "stream",
     "text": [
      " + TN_H: 1338631\n",
      "    len(label_mask_current_deforestation_test): 44605770\n"
     ]
    },
    {
     "name": "stdout",
     "output_type": "stream",
     "text": [
      "[0.93147604 0.74538992 0.66819003 0.03001027 0.41347605 0.16350169]\n",
      "threshold 0.01764414019289922\n",
      "(44605770,) (44605770,)\n"
     ]
    },
    {
     "name": "stderr",
     "output_type": "stream",
     "text": [
      "ic| self.m_optimal: {'AA': array([0.03001027]),\n",
      "                     'f1': 77.93,\n",
      "                     'f1_H': array([0.23433845]),\n",
      "                     'f1_L': array([0.82810775]),\n",
      "                     'precision_H': array([0.41347605]),\n",
      "                     'precision_L': array([0.93147604]),\n",
      "                     'recall_H': array([0.16350169]),\n",
      "                     'recall_L': array([0.74538992]),\n",
      "                     'recall_Ltotal': array([0.66819003])}\n",
      "ic| self.m_audited_optimal: {'f1': array([0.84766149]),\n",
      "                             'precision': array([0.94012128]),\n",
      "                             'recall': array([0.77175984])}\n"
     ]
    },
    {
     "name": "stdout",
     "output_type": "stream",
     "text": [
      "cm_audited [[43705857    42163]\n",
      " [  195773   661977]]\n",
      "[0.94012128 0.77175984]\n"
     ]
    },
    {
     "name": "stderr",
     "output_type": "stream",
     "text": [
      "ic| self.label_mask.shape: (16795, 10420)\n",
      "ic| self.mask_amazon_ts.shape: (16795, 10420)\n",
      "ic| self.label_mask_test.shape: (70001560,)\n",
      "ic| self.error_mask_test.shape: (44605770,)\n",
      "ic| bounds: (0.0015, 0.44043291664123535)\n",
      "c:\\Users\\jchamorro\\Anaconda3\\envs\\tf2\\lib\\site-packages\\scipy\\optimize\\_minimize.py:783: RuntimeWarning: Method 'bounded' does not support relative tolerance in x; defaulting to absolute tolerance.\n",
      "  warn(\"Method 'bounded' does not support relative tolerance in x; \"\n"
     ]
    },
    {
     "name": "stdout",
     "output_type": "stream",
     "text": [
      "0.16915745537582755\n",
      "threshold 0.16915745537582755\n",
      "(44597812,) (44597812,)\n"
     ]
    },
    {
     "name": "stderr",
     "output_type": "stream",
     "text": [
      "ic| label_current_deforestation_test_classified_incorrect.shape: (7958,)\n",
      "    predicted_test_classified_incorrect.shape: (7958,)\n",
      "ic| TP_H + FN_H + FP_H + TN_H: 7958\n",
      "    len(label_mask_current_deforestation_test): 44605770\n",
      "ic| TP_H + FN_H + FP_H + TN_H: 7958\n",
      "    len(label_mask_current_deforestation_test): 44605770\n"
     ]
    },
    {
     "name": "stdout",
     "output_type": "stream",
     "text": [
      "cm_correct [[43678086    62013]\n",
      " [  270050   587663]]\n",
      "cm_incorrect [[7167  754]\n",
      " [  35    2]]\n",
      "[9.04547805e-01 6.85151094e-01 6.85121539e-01 1.78407412e-04\n",
      " 2.64550265e-03 5.40540541e-02]\n",
      "0.27277546126540775\n",
      "threshold 0.27277546126540775\n",
      "(44604768,) (44604768,)\n"
     ]
    },
    {
     "name": "stderr",
     "output_type": "stream",
     "text": [
      "ic| label_current_deforestation_test_classified_incorrect.shape: (1002,)\n",
      "    predicted_test_classified_incorrect.shape: (1002,)\n",
      "ic| TP_H + FN_H + FP_H + TN_H: 1002\n",
      "    len(label_mask_current_deforestation_test): 44605770\n",
      "ic| TP_H + FN_H + FP_H + TN_H: 1002\n",
      "    len(label_mask_current_deforestation_test): 44605770\n"
     ]
    },
    {
     "name": "stdout",
     "output_type": "stream",
     "text": [
      "cm_correct [[43684273    62746]\n",
      " [  270085   587664]]\n",
      "cm_incorrect [[980  21]\n",
      " [  0   1]]\n",
      "[9.03528544e-01 6.85123503e-01 6.85122705e-01 2.24634616e-05\n",
      " 4.54545455e-02 1.00000000e+00]\n",
      "0.10511800588958022\n",
      "threshold 0.10511800588958022\n",
      "(44571995,) (44571995,)\n"
     ]
    },
    {
     "name": "stderr",
     "output_type": "stream",
     "text": [
      "ic| label_current_deforestation_test_classified_incorrect.shape: (33775,)\n",
      "    predicted_test_classified_incorrect.shape: (33775,)\n",
      "ic| TP_H + FN_H + FP_H + TN_H: 33775\n",
      "    len(label_mask_current_deforestation_test): 44605770\n",
      "ic| TP_H + FN_H + FP_H + TN_H: 33775\n",
      "    len(label_mask_current_deforestation_test): 44605770\n"
     ]
    },
    {
     "name": "stdout",
     "output_type": "stream",
     "text": [
      "cm_correct [[43653433    61099]\n",
      " [  269879   587584]]\n",
      "cm_incorrect [[31820  1668]\n",
      " [  206    81]]\n",
      "[9.05810696e-01 6.85258723e-01 6.85029437e-01 7.57189036e-04\n",
      " 4.63121784e-02 2.82229965e-01]\n",
      "0.06553944948624736\n",
      "threshold 0.06553944948624736\n",
      "(44498259,) (44498259,)\n"
     ]
    },
    {
     "name": "stderr",
     "output_type": "stream",
     "text": [
      "ic| label_current_deforestation_test_classified_incorrect.shape: (107511,)\n",
      "    predicted_test_classified_incorrect.shape: (107511,)\n",
      "ic| TP_H + FN_H + FP_H + TN_H: 107511\n",
      "    len(label_mask_current_deforestation_test): 44605770\n",
      "ic| TP_H + FN_H + FP_H + TN_H: 107511\n",
      "    len(label_mask_current_deforestation_test): 44605770\n"
     ]
    },
    {
     "name": "stdout",
     "output_type": "stream",
     "text": [
      "cm_correct [[43583252    60235]\n",
      " [  267446   587326]]\n",
      "cm_incorrect [[102001   2532]\n",
      " [  2639    339]]\n",
      "[0.90698174 0.68711422 0.68472865 0.00241025 0.11807732 0.11383479]\n",
      "0.04107855640333287\n",
      "threshold 0.04107855640333287\n",
      "(44298105,) (44298105,)\n"
     ]
    },
    {
     "name": "stderr",
     "output_type": "stream",
     "text": [
      "ic| label_current_deforestation_test_classified_incorrect.shape: (307665,)\n",
      "    predicted_test_classified_incorrect.shape: (307665,)\n",
      "ic| TP_H + FN_H + FP_H + TN_H: 307665\n",
      "    len(label_mask_current_deforestation_test): 44605770\n",
      "ic| TP_H + FN_H + FP_H + TN_H: 307665\n",
      "    len(label_mask_current_deforestation_test): 44605770\n"
     ]
    },
    {
     "name": "stdout",
     "output_type": "stream",
     "text": [
      "cm_correct [[43401581    57316]\n",
      " [  253745   585463]]\n",
      "cm_incorrect [[283672   5451]\n",
      " [ 16340   2202]]\n",
      "[0.91083094 0.69763753 0.68255669 0.00689743 0.2877303  0.11875742]\n",
      "0.025960893082914507\n",
      "threshold 0.025960893082914507\n",
      "(42988861,) (42988861,)\n"
     ]
    },
    {
     "name": "stderr",
     "output_type": "stream",
     "text": [
      "ic| label_current_deforestation_test_classified_incorrect.shape: (1616909,)\n",
      "    predicted_test_classified_incorrect.shape: (1616909,)\n",
      "ic"
     ]
    },
    {
     "name": "stdout",
     "output_type": "stream",
     "text": [
      "cm_correct [[42138427    49814]\n",
      " [  220851   579769]]\n",
      "cm_incorrect [[1546826   12953]\n",
      " [  49234    7896]]\n"
     ]
    },
    {
     "name": "stderr",
     "output_type": "stream",
     "text": [
      "| TP_H + FN_H + FP_H + TN_H: 1616909\n",
      "    len(label_mask_current_deforestation_test): 44605770\n",
      "ic| TP_H + FN_H + FP_H + TN_H: 1616909\n",
      "    len(label_mask_current_deforestation_test): 44605770\n"
     ]
    },
    {
     "name": "stdout",
     "output_type": "stream",
     "text": [
      "[0.92087779 0.72415003 0.67591839 0.03624888 0.3787232  0.1382111 ]\n",
      "0.016617663320418367\n",
      "threshold 0.016617663320418367\n",
      "(39377783,) (39377783,)\n"
     ]
    },
    {
     "name": "stderr",
     "output_type": "stream",
     "text": [
      "ic| label_current_deforestation_test_classified_incorrect.shape: (5227987,)\n",
      "    predicted_test_classified_incorrect.shape: (5227987,)\n"
     ]
    },
    {
     "name": "stdout",
     "output_type": "stream",
     "text": [
      "cm_correct [[38613929    38679]\n",
      " [  158255   566920]]\n"
     ]
    },
    {
     "name": "stderr",
     "output_type": "stream",
     "text": [
      "ic| TP_H + FN_H + FP_H + TN_H: 5227987\n",
      "    len(label_mask_current_deforestation_test): 44605770\n",
      "ic| TP_H + FN_H + FP_H + TN_H: 5227987\n",
      "    len(label_mask_current_deforestation_test): 44605770\n"
     ]
    },
    {
     "name": "stdout",
     "output_type": "stream",
     "text": [
      "cm_incorrect [[5071324   24088]\n",
      " [ 111830   20745]]\n",
      "[0.936131   0.78176992 0.6609385  0.11720428 0.46271719 0.15647747]\n",
      "0.031735326640836725\n",
      "threshold 0.031735326640836725\n",
      "(43991422,) (43991422,)\n"
     ]
    },
    {
     "name": "stderr",
     "output_type": "stream",
     "text": [
      "ic| label_current_deforestation_test_classified_incorrect.shape: (614348,)\n",
      "    predicted_test_classified_incorrect.shape: (614348,)\n",
      "ic| TP_H + FN_H + FP_H + TN_H: 614348\n",
      "    len(label_mask_current_deforestation_test): 44605770\n",
      "ic| TP_H + FN_H + FP_H + TN_H: 614348\n",
      "    len(label_mask_current_deforestation_test): 44605770\n"
     ]
    },
    {
     "name": "stdout",
     "output_type": "stream",
     "text": [
      "cm_correct [[43117120    53483]\n",
      " [  237815   583004]]\n",
      "cm_incorrect [[568133   9284]\n",
      " [ 32270   4661]]\n",
      "[0.91597158 0.71027108 0.67968989 0.01377284 0.33424166 0.12620833]\n",
      "0.022392096878340588\n",
      "threshold 0.022392096878340588\n",
      "(41587363,) (41587363,)\n"
     ]
    },
    {
     "name": "stderr",
     "output_type": "stream",
     "text": [
      "ic| label_current_deforestation_test_classified_incorrect.shape: (3018407,)\n",
      "    predicted_test_classified_incorrect.shape: (3018407,)\n"
     ]
    },
    {
     "name": "stdout",
     "output_type": "stream",
     "text": [
      "cm_correct [[40759997    46404]\n",
      " [  204348   576614]]\n"
     ]
    },
    {
     "name": "stderr",
     "output_type": "stream",
     "text": [
      "ic| TP_H + FN_H + FP_H + TN_H: 3018407\n",
      "    len(label_mask_current_deforestation_test): 44605770\n",
      "ic| TP_H + FN_H + FP_H + TN_H: 3018407\n",
      "    len(label_mask_current_deforestation_test): 44605770\n"
     ]
    },
    {
     "name": "stdout",
     "output_type": "stream",
     "text": [
      "cm_incorrect [[2925256   16363]\n",
      " [  65737   11051]]\n",
      "[0.9255174  0.7383381  0.67224016 0.06766853 0.4031152  0.14391572]\n",
      "0.02816653043626281\n",
      "threshold 0.02816653043626281\n",
      "(43580736,) (43580736,)\n"
     ]
    },
    {
     "name": "stderr",
     "output_type": "stream",
     "text": [
      "ic| label_current_deforestation_test_classified_incorrect.shape: (1025034,)\n",
      "    predicted_test_classified_incorrect.shape: (1025034,)\n",
      "ic| TP_H + FN_H + FP_H + TN_H: 1025034\n",
      "    len(label_mask_current_deforestation_test): 44605770\n",
      "ic| TP_H + FN_H + FP_H + TN_H: 1025034\n",
      "    len(label_mask_current_deforestation_test): 44605770\n"
     ]
    },
    {
     "name": "stdout",
     "output_type": "stream",
     "text": [
      "cm_correct [[42719699    51427]\n",
      " [  228387   581223]]\n",
      "cm_incorrect [[965554  11340]\n",
      " [ 41698   6442]]\n",
      "[0.91871177 0.71790492 0.67761352 0.02297985 0.36227646 0.13381803]\n",
      "0.026611009669641368\n",
      "threshold 0.026611009669641368\n",
      "(43198023,) (43198023,)\n"
     ]
    },
    {
     "name": "stderr",
     "output_type": "stream",
     "text": [
      "ic| label_current_deforestation_test_classified_incorrect.shape: (1407747,)\n",
      "    predicted_test_classified_incorrect.shape: (1407747,)\n",
      "ic| TP_H + FN_H + FP_H + TN_H: 1407747\n",
      "    len(label_mask_current_deforestation_test): 44605770\n",
      "ic| TP_H + FN_H + FP_H + TN_H: 1407747\n",
      "    len(label_mask_current_deforestation_test): 44605770"
     ]
    },
    {
     "name": "stdout",
     "output_type": "stream",
     "text": [
      "cm_correct [[42344169    50346]\n",
      " [  223276   580232]]\n",
      "cm_incorrect [[1341084   12421]\n",
      " [  46809    7433]]\n"
     ]
    },
    {
     "name": "stderr",
     "output_type": "stream",
     "text": [
      "\n"
     ]
    },
    {
     "name": "stdout",
     "output_type": "stream",
     "text": [
      "[0.92015897 0.72212349 0.67645818 0.03155975 0.374383   0.13703403]\n",
      "0.027027748556080936\n",
      "threshold 0.027027748556080936\n",
      "(43317049,) (43317049,)\n"
     ]
    },
    {
     "name": "stderr",
     "output_type": "stream",
     "text": [
      "ic| label_current_deforestation_test_classified_incorrect.shape: (1288721,)\n",
      "    predicted_test_classified_incorrect.shape: (1288721,)\n",
      "ic| TP_H + FN_H + FP_H + TN_H: 1288721\n",
      "    len(label_mask_current_deforestation_test): 44605770\n",
      "ic| TP_H + FN_H + FP_H + TN_H: 1288721\n",
      "    len(label_mask_current_deforestation_test): 44605770\n"
     ]
    },
    {
     "name": "stdout",
     "output_type": "stream",
     "text": [
      "cm_correct [[42461183    50670]\n",
      " [  224698   580498]]\n",
      "cm_incorrect [[1224070   12097]\n",
      " [  45387    7167]]\n",
      "[0.91972026 0.72093999 0.67676829 0.02889135 0.37204111 0.13637402]\n",
      "0.026913569539818907\n",
      "threshold 0.026913569539818907\n",
      "(43285408,) (43285408,)\n"
     ]
    },
    {
     "name": "stderr",
     "output_type": "stream",
     "text": [
      "ic| label_current_deforestation_test_classified_incorrect.shape: (1320362,)\n",
      "    predicted_test_classified_incorrect.shape: (1320362,)\n",
      "ic| TP_H + FN_H + FP_H + TN_H: 1320362\n",
      "    len(label_mask_current_deforestation_test): 44605770\n",
      "ic| TP_H + FN_H + FP_H + TN_H: 1320362\n",
      "    len(label_mask_current_deforestation_test): 44605770\n"
     ]
    },
    {
     "name": "stdout",
     "output_type": "stream",
     "text": [
      "cm_correct [[42430075    50591]\n",
      " [  224313   580429]]\n",
      "cm_incorrect [[1255178   12176]\n",
      " [  45772    7236]]\n",
      "[0.91982663 0.72126098 0.67668785 0.0296007  0.37275912 0.1365077 ]\n",
      "0.026841826442628357\n",
      "threshold 0.026841826442628357\n",
      "(43265257,) (43265257,)\n"
     ]
    },
    {
     "name": "stderr",
     "output_type": "stream",
     "text": [
      "ic| label_current_deforestation_test_classified_incorrect.shape: (1340513,)\n",
      "    predicted_test_classified_incorrect.shape: (1340513,)\n",
      "ic| TP_H + FN_H + FP_H + TN_H"
     ]
    },
    {
     "name": "stdout",
     "output_type": "stream",
     "text": [
      "cm_correct [[42410265    50532]\n",
      " [  224075   580385]]\n",
      "cm_incorrect [[1274988   12235]\n",
      " [  46010    7280]]\n"
     ]
    },
    {
     "name": "stderr",
     "output_type": "stream",
     "text": [
      ": 1340513\n",
      "    len(label_mask_current_deforestation_test): 44605770\n",
      "ic| TP_H + FN_H + FP_H + TN_H: 1340513\n",
      "    len(label_mask_current_deforestation_test): 44605770\n"
     ]
    },
    {
     "name": "stdout",
     "output_type": "stream",
     "text": [
      "[0.91990706 0.72145912 0.67663655 0.03005246 0.37304637 0.136611  ]\n",
      "0.026753662280520896\n",
      "threshold 0.026753662280520896\n",
      "(43239961,) (43239961,)\n"
     ]
    },
    {
     "name": "stderr",
     "output_type": "stream",
     "text": [
      "ic| label_current_deforestation_test_classified_incorrect.shape: (1365809,)\n",
      "    predicted_test_classified_incorrect.shape: (1365809,)\n",
      "ic| TP_H + FN_H + FP_H + TN_H: 1365809\n",
      "    len(label_mask_current_deforestation_test): 44605770\n",
      "ic| TP_H + FN_H + FP_H + TN_H: 1365809\n",
      "    len(label_mask_current_deforestation_test): 44605770\n"
     ]
    },
    {
     "name": "stdout",
     "output_type": "stream",
     "text": [
      "cm_correct [[42385378    50473]\n",
      " [  223791   580319]]\n",
      "cm_incorrect [[1299875   12294]\n",
      " [  46294    7346]]\n",
      "[0.91998472 0.72169106 0.6765596  0.03061956 0.37403259 0.13695004]\n",
      "0.026875160174090314\n",
      "threshold 0.026875160174090314\n",
      "(43274693,) (43274693,)\n"
     ]
    },
    {
     "name": "stderr",
     "output_type": "stream",
     "text": [
      "ic| label_current_deforestation_test_classified_incorrect.shape: (1331077,)\n",
      "    predicted_test_classified_incorrect.shape: (1331077,)\n",
      "ic| TP_H + FN_H + FP_H + TN_H: 1331077\n",
      "    len(label_mask_current_deforestation_test): 44605770\n",
      "ic| TP_H + FN_H + FP_H + TN_H: 1331077\n",
      "    len(label_mask_current_deforestation_test): 44605770\n"
     ]
    },
    {
     "name": "stdout",
     "output_type": "stream",
     "text": [
      "cm_correct [[42419544    50556]\n",
      " [  224189   580404]]\n",
      "cm_incorrect [[1265709   12211]\n",
      " [  45896    7261]]\n",
      "[0.91987448 0.72136347 0.6766587  0.02984092 0.37289441 0.13659537]\n",
      "0.0268084927111664\n",
      "threshold 0.0268084927111664\n",
      "(43255809,) (43255809,)\n"
     ]
    },
    {
     "name": "stderr",
     "output_type": "stream",
     "text": [
      "ic| label_current_deforestation_test_classified_incorrect.shape: (1349961,)\n",
      "    predicted_test_classified_incorrect.shape: (1349961,)\n",
      "ic| TP_H + FN_H + FP_H + TN_H: 1349961\n",
      "    len(label_mask_current_deforestation_test): 44605770\n",
      "ic| TP_H + FN_H + FP_H "
     ]
    },
    {
     "name": "stdout",
     "output_type": "stream",
     "text": [
      "cm_correct [[42400982    50507]\n",
      " [  223954   580366]]\n",
      "cm_incorrect [[1284271   12260]\n",
      " [  46131    7299]]\n"
     ]
    },
    {
     "name": "stderr",
     "output_type": "stream",
     "text": [
      "+ TN_H: 1349961\n",
      "    len(label_mask_current_deforestation_test): 44605770\n",
      "ic| self.threshold_optimal: 0.026841826442628357\n"
     ]
    },
    {
     "name": "stdout",
     "output_type": "stream",
     "text": [
      "[0.9199411  0.72156107 0.6766144  0.03026427 0.37317859 0.13660865]\n",
      "threshold 0.026841826442628357\n",
      "(43265257,) (43265257,)\n"
     ]
    },
    {
     "name": "stderr",
     "output_type": "stream",
     "text": [
      "ic| label_current_deforestation_test_classified_incorrect.shape: (1340513,)\n",
      "    predicted_test_classified_incorrect.shape: (1340513,)\n",
      "ic| TP_H + FN_H + FP_H + TN_H: 1340513\n",
      "    len(label_mask_current_deforestation_test): 44605770\n",
      "ic| TP_H + FN_H + FP_H + TN_H: 1340513\n",
      "    len(label_mask_current_deforestation_test): 44605770\n"
     ]
    },
    {
     "name": "stdout",
     "output_type": "stream",
     "text": [
      "cm_correct [[42410265    50532]\n",
      " [  224075   580385]]\n",
      "cm_incorrect [[1274988   12235]\n",
      " [  46010    7280]]\n",
      "[0.91990706 0.72145912 0.67663655 0.03005246 0.37304637 0.136611  ]\n",
      "threshold 0.026841826442628357\n",
      "(44605770,) (44605770,)\n"
     ]
    },
    {
     "name": "stderr",
     "output_type": "stream",
     "text": [
      "ic| self.m_optimal: {'AA': array([0.03005246]),\n",
      "                     'f1': 77.93,\n",
      "                     'f1_H': array([0.19998626]),\n",
      "                     'f1_L': array([0.8086865]),\n",
      "                     'precision_H': array([0.37304637]),\n",
      "                     'precision_L': array([0.91990706]),\n",
      "                     'recall_H': array([0.136611]),\n",
      "                     'recall_L': array([0.72145912]),\n",
      "                     'recall_Ltotal': array([0.67663655])}\n",
      "ic| self.m_audited_optimal: {'f1': array([0.82191008]),\n",
      "                             'precision': array([0.92614516]),\n",
      "                             'recall': array([0.73876421])}\n",
      " 60%|██████    | 6/10 [2:45:46<1:49:38, 1644.66s/it]"
     ]
    },
    {
     "name": "stdout",
     "output_type": "stream",
     "text": [
      "cm_audited [[43697488    50532]\n",
      " [  224075   633675]]\n",
      "[0.92614516 0.73876421]\n",
      "self.exp, results 136 {'pred_entropy': {'metrics': {'precision_L': array([0.95192906]), 'recall_L': array([0.85586007]), 'recall_Ltotal': array([0.48170329]), 'AA': array([0.03000087]), 'precision_H': array([0.80635531]), 'recall_H': array([0.46531176]), 'f1_L': array([0.90134193]), 'f1_H': array([0.59010195]), 'f1': 77.93}, 'metrics_audited': {'precision': array([0.97420982]), 'recall': array([0.9188738]), 'f1': array([0.94573306])}}, 'pred_var': {'metrics': {'precision_L': array([0.96803853]), 'recall_L': array([0.71404526]), 'recall_Ltotal': array([0.30465987]), 'AA': array([0.030087]), 'precision_H': array([0.85770943]), 'recall_H': array([0.66360091]), 'f1_L': array([0.82186551]), 'f1_H': array([0.74827173]), 'f1': 77.93}, 'metrics_audited': {'precision': array([0.98867309]), 'recall': array([0.87799242]), 'f1': array([0.93005145])}}, 'MI': {'metrics': {'precision_L': array([0.93147604]), 'recall_L': array([0.74538992]), 'recall_Ltotal': array([0.66819003]), 'AA': array([0.03001027]), 'precision_H': array([0.41347605]), 'recall_H': array([0.16350169]), 'f1_L': array([0.82810775]), 'f1_H': array([0.23433845]), 'f1': 77.93}, 'metrics_audited': {'precision': array([0.94012128]), 'recall': array([0.77175984]), 'f1': array([0.84766149])}}, 'KL': {'metrics': {'precision_L': array([0.91990706]), 'recall_L': array([0.72145912]), 'recall_Ltotal': array([0.67663655]), 'AA': array([0.03005246]), 'precision_H': array([0.37304637]), 'recall_H': array([0.136611]), 'f1_L': array([0.8086865]), 'f1_H': array([0.19998626]), 'f1': 77.93}, 'metrics_audited': {'precision': array([0.92614516]), 'recall': array([0.73876421]), 'f1': array([0.82191008])}}}\n",
      "D:/Jorge/datasets/deforestation/MT/deforestation_past_years.tif\n",
      "Loaded deforestation past years\n"
     ]
    },
    {
     "name": "stderr",
     "output_type": "stream",
     "text": [
      "ic| np.unique(deforestation_past_years, return_counts=True): (array([   0, 2008, 2009, 2010, 2011, 2012, 2013, 2014, 2015, 2016, 2017,\n",
      "                                                                    2018, 2019, 2020, 2021], dtype=uint16),\n",
      "                                                              array([161124576,   1332784,    240796,    338545,    313901,    287191,\n",
      "                                                                       708581,    648966,    876898,   1007787,   1098901,   1054092,\n",
      "                                                                      2096062,   2473828,   1400992], dtype=int64))\n"
     ]
    },
    {
     "name": "stdout",
     "output_type": "stream",
     "text": [
      "Label where deforestation past years is actual date (2020) = 1\n"
     ]
    },
    {
     "name": "stderr",
     "output_type": "stream",
     "text": [
      "ic| np.unique(deforestation_past_years, return_counts=True): (array([   0, 2008, 2009, 2010, 2011, 2012, 2013, 2014, 2015, 2016, 2017,\n",
      "                                                                    2018, 2019, 2020, 2021], dtype=uint16),\n",
      "                                                              array([161124576,   1332784,    240796,    338545,    313901,    287191,\n",
      "                                                                       708581,    648966,    876898,   1007787,   1098901,   1054092,\n",
      "                                                                      2096062,   2473828,   1400992], dtype=int64))\n"
     ]
    },
    {
     "name": "stdout",
     "output_type": "stream",
     "text": [
      "Past deforestation different from 0 (no deforestation)\n"
     ]
    },
    {
     "name": "stderr",
     "output_type": "stream",
     "text": [
      "ic| np.unique(deforestation_past_years, return_counts=True): (array([   0, 2008, 2009, 2010, 2011, 2012, 2013, 2014, 2015, 2016, 2017,\n",
      "                                                                    2018, 2019, 2020, 2021], dtype=uint16),\n",
      "                                                              array([161124576,   1332784,    240796,    338545,    313901,    287191,\n",
      "                                                                       708581,    648966,    876898,   1007787,   1098901,   1054092,\n",
      "                                                                      2096062,   2473828,   1400992], dtype=int64))\n"
     ]
    },
    {
     "name": "stdout",
     "output_type": "stream",
     "text": [
      "Past deforestation before 2008 is 2\n",
      "D:/Jorge/datasets/deforestation/MT/deforestation_before_2008/deforestation_before_2008_MT.tif\n"
     ]
    },
    {
     "name": "stderr",
     "output_type": "stream",
     "text": [
      "ic| np.unique(label_past_deforestation_before_2008, return_counts=True): (array([  0, 215], dtype=uint8), array([122623260,  52380640], dtype=int64))\n",
      "ic| np.unique(deforestation_past_years, return_counts=True): (array([   0, 2008, 2009, 2010, 2011, 2012, 2013, 2014, 2015, 2016, 2017,\n",
      "                                                                    2018, 2019, 2020, 2021], dtype=uint16),\n",
      "                                                              array([161124576,   1332784,    240796,    338545,    313901,    287191,\n",
      "                                                                       708581,    648966,    876898,   1007787,   1098901,   1054092,\n",
      "                                                                      2096062,   2473828,   1400992], dtype=int64))\n",
      "ic| label_per_date.shape: (16795, 10420, 1)\n"
     ]
    },
    {
     "name": "stdout",
     "output_type": "stream",
     "text": [
      "Mask label shape:  \n",
      " (16795, 10420, 1) \n",
      " Unique values:  \n",
      " [0 1 2]\n",
      "Tiles size:  3359 2084\n",
      "Mask size:  (16795, 10420)\n"
     ]
    },
    {
     "name": "stderr",
     "output_type": "stream",
     "text": [
      "ic| image_stack.shape: (16795, 10420, 21)\n"
     ]
    },
    {
     "name": "stdout",
     "output_type": "stream",
     "text": [
      "Image shape:  (16795, 10420, 21)\n",
      "mask:  (16795, 10420)\n",
      "image stack:  (16795, 10420, 21)\n",
      "ref : (16795, 10420, 1)\n",
      "Training tiles:  [2, 4, 5, 6, 7, 12, 14, 15, 18, 21, 23, 24]\n",
      "Validation tiles:  [9, 11, 25]\n",
      "Test tiles:  [1, 3, 8, 10, 13, 16, 17, 19, 20, 22]\n",
      "-5.0 -12.0\n"
     ]
    },
    {
     "name": "stderr",
     "output_type": "stream",
     "text": [
      "ic| self.path_models+ '/' + self.method +'_'+str(0)+'.h5': 'D:/Jorge/datasets/deforestation/experiments/MT/exp137/models/resunet_0.h5'\n"
     ]
    },
    {
     "name": "stdout",
     "output_type": "stream",
     "text": [
      "time:  0\n",
      "time:  1\n",
      "time:  2\n",
      "time:  3\n",
      "time:  4\n",
      "time:  5\n",
      "time:  6\n",
      "time:  7\n",
      "time:  8\n",
      "time:  9\n",
      "(44657480,)\n",
      "(array([0, 1], dtype=uint8), array([43783238,   874242], dtype=int64))\n",
      "(16795, 10420)\n",
      "(array([0., 1.], dtype=float32), array([173229811,   1774089], dtype=int64))\n"
     ]
    },
    {
     "name": "stderr",
     "output_type": "stream",
     "text": [
      "ic| self.predicted_unpad.shape: (16795, 10420)\n",
      "    self.predicted.shape: (16795, 10420)\n",
      "ic| predicted_test.shape: (70001560,)\n",
      "ic| predicted_test.shape: (44657480,)\n",
      "ic| np.unique(predicted, return_counts=True): (array([0., 1.], dtype=float32), array([173229811,   1774089], dtype=int64))\n",
      "    np.unique(predicted_larger_than_min_area, return_counts=True): (array([0., 1.], dtype=float32), array([173454465,   1549435], dtype=int64))\n",
      "ic| np.unique(ignored_polygons, return_counts=True): (array([0., 1.], dtype=float32), array([174779246,    224654], dtype=int64))\n",
      "ic| predicted.shape: (16795, 10420), label_mask.shape: (16795, 10420)\n",
      "ic| predicted_masked.shape: (70001560,)\n",
      "    label_masked.shape: (70001560,)\n",
      "ic| np.unique(label_masked, return_counts=True): (array([0, 1, 2], dtype=uint8),\n",
      "                                                  array([43726271,   845668, 25429621], dtype=int64))\n",
      "ic| predicted_masked.shape: (44571939,)\n",
      "    label_masked.shape: (44571939,)\n",
      "ic| self.f1: 77.44, self.precision: 93.06, self.recall: 66.3\n",
      "ic| self.label_mask_val.shape: (21000468,)\n",
      "ic| self.label_mask_val_valid.shape: (11781417,)\n",
      "ic| f1_val: 91.43\n",
      "    precision_val: 97.33\n",
      "    recall_val: 86.21\n",
      "    mAP_val: 97.78\n"
     ]
    },
    {
     "name": "stdout",
     "output_type": "stream",
     "text": [
      "(array([0., 1.], dtype=float32), array([173994305,   1009595], dtype=int64))\n"
     ]
    },
    {
     "name": "stderr",
     "output_type": "stream",
     "text": [
      "ic| self.label_mask.shape: (16795, 10420)\n",
      "ic| self.mask_amazon_ts.shape: (16795, 10420)\n",
      "ic| self.label_mask_test.shape: (70001560,)\n",
      "ic| self.error_mask_test.shape: (44571939,)\n",
      "ic| bounds: (0.0015, 0.3663794801235199)\n",
      "c:\\Users\\jchamorro\\Anaconda3\\envs\\tf2\\lib\\site-packages\\scipy\\optimize\\_minimize.py:783: RuntimeWarning: Method 'bounded' does not support relative tolerance in x; defaulting to absolute tolerance.\n",
      "  warn(\"Method 'bounded' does not support relative tolerance in x; \"\n"
     ]
    },
    {
     "name": "stdout",
     "output_type": "stream",
     "text": [
      "0.1408715596097929\n",
      "threshold 0.1408715596097929\n",
      "(42922502,) (42922502,)\n"
     ]
    },
    {
     "name": "stderr",
     "output_type": "stream",
     "text": [
      "ic| label_current_deforestation_test_classified_incorrect.shape: (1649437,)\n",
      "    predicted_test_classified_incorrect.shape: (1649437,)\n"
     ]
    },
    {
     "name": "stdout",
     "output_type": "stream",
     "text": [
      "cm_correct [[42473299    12640]\n",
      " [   49024   387539]]\n",
      "cm_incorrect [[1211138   29194]\n",
      " [ 235928  173177]]\n"
     ]
    },
    {
     "name": "stderr",
     "output_type": "stream",
     "text": [
      "ic| TP_H + FN_H + FP_H + TN_H: 1649437\n",
      "    len(label_mask_current_deforestation_test): 44571939\n",
      "ic| TP_H + FN_H + FP_H + TN_H: 1649437\n",
      "    len(label_mask_current_deforestation_test): 44571939\n"
     ]
    },
    {
     "name": "stdout",
     "output_type": "stream",
     "text": [
      "[0.96841413 0.88770464 0.45826376 0.03700618 0.8557402  0.42330697]\n",
      "0.22700792051372695\n",
      "threshold 0.22700792051372695\n",
      "(43505447,) (43505447,)\n"
     ]
    },
    {
     "name": "stderr",
     "output_type": "stream",
     "text": [
      "ic| label_current_deforestation_test_classified_incorrect.shape: (1066492,)\n",
      "    predicted_test_classified_incorrect.shape: (1066492,)\n",
      "ic| TP_H + FN_H + FP_H + TN_H: 1066492\n",
      "    len(label_mask_current_deforestation_test): 44571939\n",
      "ic| TP_H + FN_H + FP_H + TN_H: 1066492\n",
      "    len(label_mask_current_deforestation_test): 44571939\n"
     ]
    },
    {
     "name": "stdout",
     "output_type": "stream",
     "text": [
      "cm_correct [[42954929    19828]\n",
      " [   77358   453332]]\n",
      "cm_incorrect [[729508  22006]\n",
      " [207594 107384]]\n",
      "[0.95809451 0.85423128 0.5360638  0.02392743 0.82992503 0.3409254 ]\n",
      "0.28024311921958583\n",
      "threshold 0.28024311921958583\n",
      "(43784897,) (43784897,)\n"
     ]
    },
    {
     "name": "stderr",
     "output_type": "stream",
     "text": [
      "ic| label_current_deforestation_test_classified_incorrect.shape: (787042,)\n",
      "    predicted_test_classified_incorrect.shape: (787042,)\n",
      "ic| TP_H + FN_H + FP_H + TN_H: 787042\n",
      "    len(label_mask_current_deforestation_test): 44571939\n",
      "ic| TP_H + FN_H + FP_H + TN_H: 787042\n",
      "    len(label_mask_current_deforestation_test): 44571939\n"
     ]
    },
    {
     "name": "stdout",
     "output_type": "stream",
     "text": [
      "cm_correct [[43166472    27711]\n",
      " [   96097   494617]]\n",
      "cm_incorrect [[517965  14123]\n",
      " [188855  66099]]\n",
      "[0.94694713 0.8373206  0.58488319 0.01765779 0.82395104 0.25925853]\n",
      "0.18981250957028695\n",
      "threshold 0.18981250957028695\n",
      "(43285346,) (43285346,)\n"
     ]
    },
    {
     "name": "stderr",
     "output_type": "stream",
     "text": [
      "ic| label_current_deforestation_test_classified_incorrect.shape: (1286593,)\n",
      "    predicted_test_classified_incorrect.shape: (1286593,)\n",
      "ic| TP_H + FN_H + FP_H + TN_H: 1286593\n",
      "    len(label_mask_current_deforestation_test): 44571939\n",
      "ic| TP_H + FN_H + FP_H + TN_H: 1286593\n",
      "    len(label_mask_current_deforestation_test): 44571939\n"
     ]
    },
    {
     "name": "stdout",
     "output_type": "stream",
     "text": [
      "cm_correct [[42778804    16114]\n",
      " [   65445   424983]]\n",
      "cm_incorrect [[905633  25720]\n",
      " [219507 135733]]\n",
      "[0.96346835 0.86655534 0.50254119 0.02886554 0.84069667 0.38208817]\n",
      "0.18578673503698862\n",
      "threshold 0.18578673503698862\n",
      "(43258875,) (43258875,)\n"
     ]
    },
    {
     "name": "stderr",
     "output_type": "stream",
     "text": [
      "ic| label_current_deforestation_test_classified_incorrect.shape: (1313064,)\n",
      "    predicted_test_classified_incorrect.shape: (1313064,)\n",
      "ic| TP_H + FN_H + FP_H + TN_H: 1313064\n",
      "    len(label_mask_current_deforestation_test): 44571939\n",
      "ic| TP_H + FN_H + FP_H + TN_H: 1313064\n",
      "    len(label_mask_current_deforestation_test): 44571939\n"
     ]
    },
    {
     "name": "stdout",
     "output_type": "stream",
     "text": [
      "cm_correct [[42757186    15769]\n",
      " [   64199   421721]]\n",
      "cm_incorrect [[927251  26065]\n",
      " [220753 138995]]\n",
      "[0.96395575 0.86788154 0.49868388 0.02945943 0.84208773 0.38636768]\n",
      "0.16863066463446394\n",
      "threshold 0.16863066463446394\n",
      "(43140590,) (43140590,)\n"
     ]
    },
    {
     "name": "stderr",
     "output_type": "stream",
     "text": [
      "ic| label_current_deforestation_test_classified_incorrect.shape: (1431349,)\n",
      "    predicted_test_classified_incorrect.shape: (1431349,)\n",
      "ic| TP_H + FN_H + FP_H + TN_H: 1431349\n",
      "    len(label_mask_current_deforestation_test):"
     ]
    },
    {
     "name": "stdout",
     "output_type": "stream",
     "text": [
      "cm_correct [[42659184    14487]\n",
      " [   58671   408248]]\n",
      "cm_incorrect [[1025253   27347]\n",
      " [ 226281  152468]]\n"
     ]
    },
    {
     "name": "stderr",
     "output_type": "stream",
     "text": [
      " 44571939\n",
      "ic| TP_H + FN_H + FP_H + TN_H: 1431349\n",
      "    len(label_mask_current_deforestation_test): 44571939\n"
     ]
    },
    {
     "name": "stdout",
     "output_type": "stream",
     "text": [
      "[0.9657303  0.87434437 0.4827521  0.03211323 0.84791591 0.40255684]\n",
      "0.18126758786731692\n",
      "threshold 0.18126758786731692\n",
      "(43228770,) (43228770,)\n"
     ]
    },
    {
     "name": "stderr",
     "output_type": "stream",
     "text": [
      "ic| label_current_deforestation_test_classified_incorrect.shape: (1343169,)\n",
      "    predicted_test_classified_incorrect.shape: (1343169,)\n",
      "ic| TP_H + FN_H + FP_H + TN_H: 1343169\n",
      "    len(label_mask_current_deforestation_test): 44571939\n",
      "ic| TP_H + FN_H + FP_H + TN_H: 1343169\n",
      "    len(label_mask_current_deforestation_test): 44571939\n"
     ]
    },
    {
     "name": "stdout",
     "output_type": "stream",
     "text": [
      "cm_correct [[42732378    15417]\n",
      " [   62771   418204]]\n",
      "cm_incorrect [[952059  26417]\n",
      " [222181 142512]]\n",
      "[0.96444591 0.86949218 0.49452504 0.03013486 0.84362069 0.39077251]\n",
      "0.17688497861881552\n",
      "threshold 0.17688497861881552\n",
      "(43198917,) (43198917,)\n"
     ]
    },
    {
     "name": "stderr",
     "output_type": "stream",
     "text": [
      "ic| label_current_deforestation_test_classified_incorrect.shape: (1373022,)\n",
      "    predicted_test_classified_incorrect.shape: (1373022,)\n",
      "ic|"
     ]
    },
    {
     "name": "stdout",
     "output_type": "stream",
     "text": [
      "cm_correct [[42707725    15082]\n",
      " [   61370   414740]]\n",
      "cm_incorrect [[976712  26752]\n",
      " [223582 145976]]\n"
     ]
    },
    {
     "name": "stderr",
     "output_type": "stream",
     "text": [
      " TP_H + FN_H + FP_H + TN_H: 1373022\n",
      "    len(label_mask_current_deforestation_test): 44571939\n",
      "ic| TP_H + FN_H + FP_H + TN_H: 1373022\n",
      "    len(label_mask_current_deforestation_test): 44571939\n"
     ]
    },
    {
     "name": "stdout",
     "output_type": "stream",
     "text": [
      "[0.96491106 0.87110122 0.49042887 0.03080463 0.84512065 0.3950016 ]\n",
      "0.18188008385699023\n",
      "threshold 0.18188008385699023\n",
      "(43232896,) (43232896,)\n"
     ]
    },
    {
     "name": "stderr",
     "output_type": "stream",
     "text": [
      "ic| label_current_deforestation_test_classified_incorrect.shape: (1339043,)\n",
      "    predicted_test_classified_incorrect.shape: (1339043,)\n",
      "ic| TP_H + FN_H + FP_H + TN_H: 1339043\n",
      "    len(label_mask_current_deforestation_test): 44571939\n",
      "ic| TP_H + FN_H + FP_H + TN_H: 1339043\n",
      "    len(label_mask_current_deforestation_test): 44571939\n"
     ]
    },
    {
     "name": "stdout",
     "output_type": "stream",
     "text": [
      "cm_correct [[42735775    15471]\n",
      " [   62964   418686]]\n",
      "cm_incorrect [[948662  26363]\n",
      " [221988 142030]]\n",
      "[0.96436543 0.86927437 0.495095   0.03004229 0.84344361 0.39017301]\n",
      "0.18279924944956782\n",
      "threshold 0.18279924944956782\n",
      "(43239099,) (43239099,)\n"
     ]
    },
    {
     "name": "stderr",
     "output_type": "stream",
     "text": [
      "ic| label_current_deforestation_test_classified_incorrect.shape: (1332840,)\n",
      "    predicted_test_classified_incorrect.shape: (1332840,)\n",
      "ic| TP_H + FN_H + FP_H + TN_H"
     ]
    },
    {
     "name": "stdout",
     "output_type": "stream",
     "text": [
      "cm_correct [[42740932    15532]\n",
      " [   63262   419373]]\n",
      "cm_incorrect [[943505  26302]\n",
      " [221690 141343]]\n"
     ]
    },
    {
     "name": "stderr",
     "output_type": "stream",
     "text": [
      ": 1332840\n",
      "    len(label_mask_current_deforestation_test): 44571939\n",
      "ic| TP_H + FN_H + FP_H + TN_H: 1332840\n",
      "    len(label_mask_current_deforestation_test): 44571939\n"
     ]
    },
    {
     "name": "stdout",
     "output_type": "stream",
     "text": [
      "[0.96428645 0.86892372 0.49590738 0.02990312 0.84310895 0.38933926]\n",
      "0.182123610098645\n",
      "threshold 0.182123610098645\n",
      "(43234516,) (43234516,)\n"
     ]
    },
    {
     "name": "stderr",
     "output_type": "stream",
     "text": [
      "ic| label_current_deforestation_test_classified_incorrect.shape: (1337423,)\n",
      "    predicted_test_classified_incorrect.shape: (1337423,)\n",
      "ic| TP_H + FN_H + FP_H + TN_H: 1337423\n",
      "    len(label_mask_current_deforestation_test): 44571939\n"
     ]
    },
    {
     "name": "stdout",
     "output_type": "stream",
     "text": [
      "cm_correct [[42737124    15490]\n",
      " [   63042   418860]]\n",
      "cm_incorrect [[947313  26344]\n",
      " [221910 141856]]\n"
     ]
    },
    {
     "name": "stderr",
     "output_type": "stream",
     "text": [
      "ic| TP_H + FN_H + FP_H + TN_H: 1337423\n",
      "    len(label_mask_current_deforestation_test): 44571939\n"
     ]
    },
    {
     "name": "stdout",
     "output_type": "stream",
     "text": [
      "[0.96433752 0.86918087 0.49530076 0.03000594 0.84337693 0.38996498]\n",
      "0.18224349880936314\n",
      "threshold 0.18224349880936314\n",
      "(43235358,) (43235358,)\n"
     ]
    },
    {
     "name": "stderr",
     "output_type": "stream",
     "text": [
      "ic| label_current_deforestation_test_classified_incorrect.shape: (1336581,)\n",
      "    predicted_test_classified_incorrect.shape: (1336581,)\n",
      "ic| TP_H + FN_H + FP_H + TN_H: 1336581\n",
      "    len(label_mask_current_deforestation_test): 44571939\n",
      "ic| TP_H + FN_H + FP_H + TN_H: 1336581\n",
      "    len(label_mask_current_deforestation_test): 44571939\n"
     ]
    },
    {
     "name": "stdout",
     "output_type": "stream",
     "text": [
      "cm_correct [[42737832    15491]\n",
      " [   63082   418953]]\n",
      "cm_incorrect [[946605  26343]\n",
      " [221870 141763]]\n",
      "[0.96434293 0.86913398 0.49541073 0.02998705 0.8432953  0.38985186]\n",
      "0.18215694613330802\n",
      "threshold 0.18215694613330802\n",
      "(43234719,) (43234719,)\n"
     ]
    },
    {
     "name": "stderr",
     "output_type": "stream",
     "text": [
      "ic| label_current_deforestation_test_classified_incorrect.shape: (1337220,)\n",
      "    predicted_test_classified_incorrect.shape: (1337220,)\n",
      "ic| TP_H + FN_H + FP_H + TN_H: 1337220\n",
      "    len(label_mask_current_deforestation_test): 44571939\n",
      "ic| TP_H + FN_H + FP_H + TN_H: 1337220\n",
      "    "
     ]
    },
    {
     "name": "stdout",
     "output_type": "stream",
     "text": [
      "cm_correct [[42737301    15490]\n",
      " [   63047   418881]]\n",
      "cm_incorrect [[947136  26344]\n",
      " [221905 141835]]\n"
     ]
    },
    {
     "name": "stderr",
     "output_type": "stream",
     "text": [
      "len(label_mask_current_deforestation_test): 44571939\n"
     ]
    },
    {
     "name": "stdout",
     "output_type": "stream",
     "text": [
      "[0.96433924 0.86917755 0.49532559 0.03000139 0.84335738 0.38993512]\n",
      "0.1821902821684655\n",
      "threshold 0.1821902821684655\n",
      "(43234975,) (43234975,)\n"
     ]
    },
    {
     "name": "stderr",
     "output_type": "stream",
     "text": [
      "ic| label_current_deforestation_test_classified_incorrect.shape: (1336964,)\n",
      "    predicted_test_classified_incorrect.shape: (1336964,)\n",
      "ic| TP_H + FN_H + FP_H + TN_H: 1336964\n",
      "    len(label_mask_current_deforestation_test): 44571939\n",
      "ic| TP_H + FN_H + FP_H + TN_H: 1336964\n",
      "    len(label_mask_current_deforestation_test): 44571939\n"
     ]
    },
    {
     "name": "stdout",
     "output_type": "stream",
     "text": [
      "cm_correct [[42737517    15490]\n",
      " [   63061   418907]]\n",
      "cm_incorrect [[946920  26344]\n",
      " [221891 141809]]\n",
      "[0.96434137 0.86915936 0.49535633 0.02999564 0.84333315 0.38990652]\n"
     ]
    },
    {
     "name": "stderr",
     "output_type": "stream",
     "text": [
      "ic| self.threshold_optimal: 0.18215694613330802\n"
     ]
    },
    {
     "name": "stdout",
     "output_type": "stream",
     "text": [
      "threshold 0.18215694613330802\n",
      "(43234719,) (43234719,)\n"
     ]
    },
    {
     "name": "stderr",
     "output_type": "stream",
     "text": [
      "ic| label_current_deforestation_test_classified_incorrect.shape: (1337220,)\n",
      "    predicted_test_classified_incorrect.shape: (1337220,)\n",
      "ic| TP_H + FN_H + FP_H + TN_H: 1337220\n",
      "    len(label_mask_current_deforestation_test): 44571939\n",
      "ic| TP_H + FN_H + FP_H + TN_H: 1337220\n",
      "    len(label_mask_current_deforestation_test): "
     ]
    },
    {
     "name": "stdout",
     "output_type": "stream",
     "text": [
      "cm_correct [[42737301    15490]\n",
      " [   63047   418881]]\n",
      "cm_incorrect [[947136  26344]\n",
      " [221905 141835]]\n"
     ]
    },
    {
     "name": "stderr",
     "output_type": "stream",
     "text": [
      "44571939\n"
     ]
    },
    {
     "name": "stdout",
     "output_type": "stream",
     "text": [
      "[0.96433924 0.86917755 0.49532559 0.03000139 0.84335738 0.38993512]\n",
      "threshold 0.18215694613330802\n",
      "(44571939,) (44571939,)\n"
     ]
    },
    {
     "name": "stderr",
     "output_type": "stream",
     "text": [
      "ic| self.m_optimal: {'AA': array([0.03000139]),\n",
      "                     'f1': 77.44,\n",
      "                     'f1_H': array([0.53329548]),\n",
      "                     'f1_L': array([0.91428889]),\n",
      "                     'precision_H': array([0.84335738]),\n",
      "                     'precision_L': array([0.96433924]),\n",
      "                     'recall_H': array([0.38993512]),\n",
      "                     'recall_L': array([0.86917755]),\n",
      "                     'recall_Ltotal': array([0.49532559])}\n",
      "ic| self.m_audited_optimal: {'f1': array([0.95222168]),\n",
      "                             'precision': array([0.98059167]),\n",
      "                             'recall': array([0.9254471])}\n"
     ]
    },
    {
     "name": "stdout",
     "output_type": "stream",
     "text": [
      "cm_audited [[43710781    15490]\n",
      " [   63047   782621]]\n",
      "[0.98059167 0.9254471 ]\n"
     ]
    },
    {
     "name": "stderr",
     "output_type": "stream",
     "text": [
      "ic| self.label_mask.shape: (16795, 10420)\n",
      "ic| self.mask_amazon_ts.shape: (16795, 10420)\n",
      "ic| self.label_mask_test.shape: (70001560,)\n",
      "ic| self.error_mask_test.shape: (44571939,)\n",
      "ic| bounds: (0.0015, 0.1602756187915802)\n",
      "c:\\Users\\jchamorro\\Anaconda3\\envs\\tf2\\lib\\site-packages\\scipy\\optimize\\_minimize.py:783: RuntimeWarning: Method 'bounded' does not support relative tolerance in x; defaulting to absolute tolerance.\n",
      "  warn(\"Method 'bounded' does not support relative tolerance in x; \"\n"
     ]
    },
    {
     "name": "stdout",
     "output_type": "stream",
     "text": [
      "0.06214688979358712\n",
      "threshold 0.06214688979358712\n",
      "(44567282,) (44567282,)\n"
     ]
    },
    {
     "name": "stderr",
     "output_type": "stream",
     "text": [
      "ic| label_current_deforestation_test_classified_incorrect.shape: (4657,)\n",
      "    predicted_test_classified_incorrect.shape: (4657,)\n",
      "ic| TP_H + FN_H + FP_H + TN_H: 4657\n",
      "    len(label_mask_current_deforestation_test): 44571939\n",
      "ic| TP_H + FN_H + FP_H + TN_H: 4657\n",
      "    len(label_mask_current_deforestation_test): 44571939\n"
     ]
    },
    {
     "name": "stdout",
     "output_type": "stream",
     "text": [
      "cm_correct [[43681888    41776]\n",
      " [  283730   559888]]\n",
      "cm_incorrect [[2549   58]\n",
      " [1222  828]]\n",
      "[9.30565897e-01 6.63674791e-01 6.62065964e-01 1.04482778e-04\n",
      " 9.34537246e-01 4.03902439e-01]\n",
      "0.09962872899799306\n",
      "threshold 0.09962872899799306\n",
      "(44571659,) (44571659,)\n"
     ]
    },
    {
     "name": "stderr",
     "output_type": "stream",
     "text": [
      "ic| label_current_deforestation_test_classified_incorrect.shape: (280,)\n",
      "    predicted_test_classified_incorrect.shape: (280,)\n",
      "ic| TP_H + FN_H + FP_H + TN_H: 280\n",
      "    len(label_mask_current_deforestation_test): 44571939\n",
      "ic| TP_H + FN_H + FP_H + TN_H: 280\n",
      "    len(label_mask_current_deforestation_test): 44571939\n"
     ]
    },
    {
     "name": "stdout",
     "output_type": "stream",
     "text": [
      "cm_correct [[43684320    41834]\n",
      " [  284844   560661]]\n",
      "cm_incorrect [[117   0]\n",
      " [108  55]]\n",
      "[9.30565399e-01 6.63107847e-01 6.62980035e-01 6.28197934e-06\n",
      " 1.00000000e+00 3.37423313e-01]\n",
      "0.03898183920440594\n",
      "threshold 0.03898183920440594\n",
      "(44533079,) (44533079,)\n"
     ]
    },
    {
     "name": "stderr",
     "output_type": "stream",
     "text": [
      "ic| label_current_deforestation_test_classified_incorrect.shape: (38860,)\n",
      "    predicted_test_classified_incorrect.shape: (38860,)\n",
      "ic| TP_H + FN_H + FP_H + TN_H: 38860\n",
      "    len(label_mask_current_deforestation_test): 44571939\n",
      "ic| TP_H + FN_H + FP_H + TN_H: 38860\n",
      "    len(label_mask_current_deforestation_test): 44571939\n"
     ]
    },
    {
     "name": "stdout",
     "output_type": "stream",
     "text": [
      "cm_correct [[43657702    40764]\n",
      " [  280197   554416]]\n",
      "cm_incorrect [[26735  1070]\n",
      " [ 4755  6300]]\n",
      "[9.31509795e-01 6.64279133e-01 6.55595340e-01 8.71848990e-04\n",
      " 8.54816825e-01 5.69877883e-01]\n",
      "0.02466505058918119\n",
      "threshold 0.02466505058918119\n",
      "(44447238,) (44447238,)\n"
     ]
    },
    {
     "name": "stderr",
     "output_type": "stream",
     "text": [
      "ic| label_current_deforestation_test_classified_incorrect.shape: (124701,)\n",
      "    predicted_test_classified_incorrect.shape: (124701,)\n",
      "ic| TP_H + FN_H + FP_H + TN_H: 124701\n",
      "    len(label_mask_current_deforestation_test): 44571939\n",
      "ic| TP_H + FN_H + FP_H + TN_H: 124701\n",
      "    len(label_mask_current_deforestation_test): 44571939\n"
     ]
    },
    {
     "name": "stdout",
     "output_type": "stream",
     "text": [
      "cm_correct [[43600170    38466]\n",
      " [  272058   536544]]\n",
      "cm_incorrect [[84267  3368]\n",
      " [12894 24172]]\n",
      "[0.93310377 0.66354523 0.63446175 0.00279775 0.87770516 0.65213403]\n",
      "0.015816788615224755\n",
      "threshold 0.015816788615224755\n",
      "(44307683,) (44307683,)\n"
     ]
    },
    {
     "name": "stderr",
     "output_type": "stream",
     "text": [
      "ic| label_current_deforestation_test_classified_incorrect.shape: (264256,)\n",
      "    predicted_test_classified_incorrect.shape: (264256,)\n",
      "ic| TP_H + FN_H + FP_H + TN_H: 264256\n",
      "    len(label_mask_current_deforestation_test): 44571939\n",
      "ic| TP_H + FN_H + FP_H + TN_H: 264256\n",
      "    len(label_mask_current_deforestation_test): 44571939\n"
     ]
    },
    {
     "name": "stdout",
     "output_type": "stream",
     "text": [
      "cm_correct [[43518728    34646]\n",
      " [  254171   500138]]\n",
      "cm_incorrect [[165709   7188]\n",
      " [ 30781  60578]]\n",
      "[0.93521497 0.66304127 0.59141176 0.00592875 0.89392911 0.66307643]\n",
      "0.010348261973956439\n",
      "threshold 0.010348261973956439\n",
      "(44123595,) (44123595,)\n"
     ]
    },
    {
     "name": "stderr",
     "output_type": "stream",
     "text": [
      "ic| label_current_deforestation_test_classified_incorrect.shape: (448344,)\n",
      "    predicted_test_classified_incorrect.shape: (448344,)\n",
      "ic| TP_H + FN_H + FP_H + TN_H: 448344\n",
      "    len(label_mask_current_deforestation_test): 44571939\n",
      "ic| TP_H + FN_H + FP_H + TN_H: 448344\n",
      "    len(label_mask_current_deforestation_test): 44571939\n"
     ]
    },
    {
     "name": "stdout",
     "output_type": "stream",
     "text": [
      "cm_correct [[43418749    26244]\n",
      " [  223964   454638]]\n",
      "cm_incorrect [[265688  15590]\n",
      " [ 60988 106078]]\n",
      "[0.94542528 0.66996266 0.53760814 0.01005888 0.87186442 0.63494667]\n",
      "0.006968526641268317\n",
      "threshold 0.006968526641268317\n",
      "(43902937,) (43902937,)\n"
     ]
    },
    {
     "name": "stderr",
     "output_type": "stream",
     "text": [
      "ic| label_current_deforestation_test_classified_incorrect.shape: (669002,)\n",
      "    predicted_test_classified_incorrect.shape: (669002,)\n",
      "ic| TP_H + FN_H + FP_H + TN_H: 669002\n",
      "    len(label_mask_current_deforestation_test): 44571939\n",
      "ic| TP_H + FN_H + FP_H + TN_H: 669002\n",
      "    len(label_mask_current_deforestation_test): 44571939\n"
     ]
    },
    {
     "name": "stdout",
     "output_type": "stream",
     "text": [
      "cm_correct [[43295312    17452]\n",
      " [  189342   400831]]\n",
      "cm_incorrect [[389125  24382]\n",
      " [ 95610 159885]]\n",
      "[0.95827705 0.67917543 0.47398152 0.01500949 0.86768114 0.62578524]\n",
      "0.004879735332688123\n",
      "threshold 0.004879735332688123\n",
      "(43671363,) (43671363,)\n"
     ]
    },
    {
     "name": "stderr",
     "output_type": "stream",
     "text": [
      "ic| label_current_deforestation_test_classified_incorrect.shape: (900576,)\n",
      "    predicted_test_classified_incorrect.shape: (900576,)\n",
      "ic| TP_H + FN_H + FP_H + TN_H: 900576\n",
      "    len(label_mask_current_deforestation_test): 44571939\n",
      "ic| TP_H + FN_H + FP_H + TN_H: 900576\n",
      "    len(label_mask_current_deforestation_test): 44571939\n"
     ]
    },
    {
     "name": "stdout",
     "output_type": "stream",
     "text": [
      "cm_correct [[43143959    12197]\n",
      " [  156026   359181]]\n",
      "cm_incorrect [[540478  29637]\n",
      " [128926 201535]]\n",
      "[0.96715745 0.69715862 0.42473051 0.020205   0.87179676 0.60986017]\n",
      "0.0035887913085801935\n",
      "threshold 0.0035887913085801935\n",
      "(43436952,) (43436952,)\n"
     ]
    },
    {
     "name": "stderr",
     "output_type": "stream",
     "text": [
      "ic| label_current_deforestation_test_classified_incorrect.shape: (1134987,)\n",
      "    predicted_test_classified_incorrect.shape: (1134987,)\n",
      "ic| TP_H + FN_H + FP_H + TN_H: 1134987\n",
      "    len(label_mask_current_deforestation_test): 44571939\n",
      "ic| TP_H + FN_H + FP_H + TN_H: 1134987\n",
      "    len(label_mask_current_deforestation_test): 44571939\n"
     ]
    },
    {
     "name": "stdout",
     "output_type": "stream",
     "text": [
      "cm_correct [[42977552     9128]\n",
      " [  127025   323247]]\n",
      "cm_incorrect [[706885  32706]\n",
      " [157927 237469]]\n",
      "[0.97253704 0.71789274 0.38223866 0.02546416 0.87894513 0.60058524]\n",
      "0.0027909440241079297\n",
      "threshold 0.0027909440241079297\n",
      "(43228018,) (43228018,)\n"
     ]
    },
    {
     "name": "stderr",
     "output_type": "stream",
     "text": [
      "ic| label_current_deforestation_test_classified_incorrect.shape: (1343921,)\n",
      "    predicted_test_classified_incorrect.shape: (1343921,)\n",
      "ic| TP_H + FN_H + FP_H + TN_H: 1343921\n",
      "    len(label_mask_current_deforestation_test): 44571939\n",
      "ic| TP_H + FN_H + FP_H + TN_H: 1343921\n",
      "    len(label_mask_current_deforestation_test): 44571939\n"
     ]
    },
    {
     "name": "stdout",
     "output_type": "stream",
     "text": [
      "cm_correct [[42819533     7689]\n",
      " [  107753   293043]]\n",
      "cm_incorrect [[864904  34145]\n",
      " [177199 267673]]\n",
      "[0.97443238 0.73115251 0.34652251 0.03015173 0.88686891 0.60168543]\n",
      "0.0022978472844722643\n",
      "threshold 0.0022978472844722643\n",
      "(43062671,) (43062671,)\n"
     ]
    },
    {
     "name": "stderr",
     "output_type": "stream",
     "text": [
      "ic| label_current_deforestation_test_classified_incorrect.shape: (1509268,)\n",
      "    predicted_test_classified_incorrect.shape: (1509268,)\n",
      "ic| TP_H "
     ]
    },
    {
     "name": "stdout",
     "output_type": "stream",
     "text": [
      "cm_correct [[42689827     6907]\n",
      " [   95644   270293]]\n",
      "cm_incorrect [[994610  34927]\n",
      " [189308 290423]]\n"
     ]
    },
    {
     "name": "stderr",
     "output_type": "stream",
     "text": [
      "+ FN_H + FP_H + TN_H: 1509268\n",
      "    len(label_mask_current_deforestation_test): 44571939\n",
      "ic| TP_H + FN_H + FP_H + TN_H: 1509268\n",
      "    len(label_mask_current_deforestation_test): 44571939\n"
     ]
    },
    {
     "name": "stdout",
     "output_type": "stream",
     "text": [
      "[0.97508297 0.73863261 0.3196207  0.03386139 0.89264792 0.60538719]\n",
      "0.0029174152069954017\n",
      "threshold 0.0029174152069954017\n",
      "(43265608,) (43265608,)\n"
     ]
    },
    {
     "name": "stderr",
     "output_type": "stream",
     "text": [
      "ic| label_current_deforestation_test_classified_incorrect.shape: (1306331,)\n",
      "    predicted_test_classified_incorrect.shape: (1306331,)\n",
      "ic| TP_H + FN_H + FP_H + TN_H: 1306331\n",
      "    len(label_mask_current_deforestation_test): 44571939\n",
      "ic| TP_H + FN_H + FP_H + TN_H: 1306331\n",
      "    len(label_mask_current_deforestation_test): 44571939\n"
     ]
    },
    {
     "name": "stdout",
     "output_type": "stream",
     "text": [
      "cm_correct [[42848645     7909]\n",
      " [  110809   298245]]\n",
      "cm_incorrect [[835792  33925]\n",
      " [174143 262471]]\n",
      "[0.9741666  0.72910912 0.35267386 0.02930837 0.88554164 0.60115113]\n",
      "0.0027420328308373565\n",
      "threshold 0.0027420328308373565\n",
      "(43213092,) (43213092,)\n"
     ]
    },
    {
     "name": "stderr",
     "output_type": "stream",
     "text": [
      "ic| label_current_deforestation_test_classified_incorrect.shape: (1358847,)\n",
      "    predicted_test_classified_incorrect.shape: (1358847,)\n",
      "ic| TP_H + FN_H + FP_H + TN_H: 1358847\n",
      "    len(label_mask_current_deforestation_test): 44571939\n",
      "ic| TP_H + FN_H + FP_H + TN_H: 1358847\n",
      "    len(label_mask_current_deforestation_test"
     ]
    },
    {
     "name": "stdout",
     "output_type": "stream",
     "text": [
      "cm_correct [[42807938     7605]\n",
      " [  106617   290932]]\n",
      "cm_incorrect [[876499  34229]\n",
      " [178335 269784]]\n"
     ]
    },
    {
     "name": "stderr",
     "output_type": "stream",
     "text": [
      "): 44571939\n"
     ]
    },
    {
     "name": "stdout",
     "output_type": "stream",
     "text": [
      "[0.97452577 0.73181419 0.34402626 0.0304866  0.88740942 0.60203651]\n",
      "0.0028242773988376526\n",
      "threshold 0.0028242773988376526\n",
      "(43238169,) (43238169,)\n"
     ]
    },
    {
     "name": "stderr",
     "output_type": "stream",
     "text": [
      "ic| label_current_deforestation_test_classified_incorrect.shape: (1333770,)\n",
      "    predicted_test_classified_incorrect.shape: (1333770,)\n",
      "ic| TP_H + FN_H + FP_H + TN_H: 1333770\n",
      "    len(label_mask_current_deforestation_test): 44571939\n",
      "ic| TP_H + FN_H + FP_H + TN_H: 1333770\n",
      "    len(label_mask_current_deforestation_test): 44571939\n"
     ]
    },
    {
     "name": "stdout",
     "output_type": "stream",
     "text": [
      "cm_correct [[42827474     7730]\n",
      " [  108556   294409]]\n",
      "cm_incorrect [[856963  34104]\n",
      " [176396 266307]]\n",
      "[0.97441575 0.73060688 0.3481378  0.02992398 0.88647553 0.60154776]\n",
      "0.0028576107740617895\n",
      "threshold 0.0028576107740617895\n",
      "(43248035,) (43248035,)\n"
     ]
    },
    {
     "name": "stderr",
     "output_type": "stream",
     "text": [
      "ic| label_current_deforestation_test_classified_incorrect.shape: (1323904,)\n",
      "    predicted_test_classified_incorrect.shape: (1323904,)\n",
      "ic| TP_H + FN_H + FP_H + TN_H: 1323904\n",
      "    len(label_mask_current_deforestation_test): 44571939\n",
      "ic| TP_H + FN_H + FP_H + TN_H: 1323904\n",
      "    len(label_mask_current_deforestation_test): 44571939\n",
      "ic| self"
     ]
    },
    {
     "name": "stdout",
     "output_type": "stream",
     "text": [
      "cm_correct [[42835137     7789]\n",
      " [  109356   295753]]\n",
      "cm_incorrect [[849300  34045]\n",
      " [175596 264963]]\n",
      "[0.97433963 0.73005784 0.34972708 0.02970263 0.88614017 0.60142455]\n"
     ]
    },
    {
     "name": "stderr",
     "output_type": "stream",
     "text": [
      ".threshold_optimal: 0.0028242773988376526\n"
     ]
    },
    {
     "name": "stdout",
     "output_type": "stream",
     "text": [
      "threshold 0.0028242773988376526\n",
      "(43238169,) (43238169,)\n"
     ]
    },
    {
     "name": "stderr",
     "output_type": "stream",
     "text": [
      "ic| label_current_deforestation_test_classified_incorrect.shape: (1333770,)\n",
      "    predicted_test_classified_incorrect.shape: (1333770,)\n",
      "ic| TP_H + FN_H + FP_H + TN_H: 1333770\n",
      "    len(label_mask_current_deforestation_test): 44571939\n",
      "ic| TP_H + FN_H + FP_H + TN_H: 1333770\n",
      "    len(label_mask_current_deforestation_test): 44571939\n"
     ]
    },
    {
     "name": "stdout",
     "output_type": "stream",
     "text": [
      "cm_correct [[42827474     7730]\n",
      " [  108556   294409]]\n",
      "cm_incorrect [[856963  34104]\n",
      " [176396 266307]]\n",
      "[0.97441575 0.73060688 0.3481378  0.02992398 0.88647553 0.60154776]\n",
      "threshold 0.0028242773988376526\n",
      "(44571939,) (44571939,)\n"
     ]
    },
    {
     "name": "stderr",
     "output_type": "stream",
     "text": [
      "ic| self.m_optimal: {'AA': array([0.02992398]),\n",
      "                     'f1': 77.44,\n",
      "                     'f1_H': array([0.71673256]),\n",
      "                     'f1_L': array([0.83507965]),\n",
      "                     'precision_H': array([0.88647553]),\n",
      "                     'precision_L': array([0.97441575]),\n",
      "                     'recall_H': array([0.60154776]),\n",
      "                     'recall_L': array([0.73060688]),\n",
      "                     'recall_Ltotal': array([0.3481378])}\n",
      "ic| self.m_audited_optimal: {'f1': array([0.9268876]),\n",
      "                             'precision': array([0.98962196]),\n",
      "                             'recall': array([0.87163284])}\n"
     ]
    },
    {
     "name": "stdout",
     "output_type": "stream",
     "text": [
      "cm_audited [[43718541     7730]\n",
      " [  108556   737112]]\n",
      "[0.98962196 0.87163284]\n"
     ]
    },
    {
     "name": "stderr",
     "output_type": "stream",
     "text": [
      "ic| n: 10, K: 1\n",
      "ic| self.label_mask.shape: (16795, 10420)\n",
      "ic| self.mask_amazon_ts.shape: (16795, 10420)\n",
      "ic| self.label_mask_test.shape: (70001560,)\n",
      "ic| self.error_mask_test.shape: (44571939,)\n",
      "ic| bounds: (0.0015, 0.27921656823158264)\n",
      "c:\\Users\\jchamorro\\Anaconda3\\envs\\tf2\\lib\\site-packages\\scipy\\optimize\\_minimize.py:783: RuntimeWarning: Method 'bounded' does not support relative tolerance in x; defaulting to absolute tolerance.\n",
      "  warn(\"Method 'bounded' does not support relative tolerance in x; \"\n"
     ]
    },
    {
     "name": "stdout",
     "output_type": "stream",
     "text": [
      "0.10757828982548527\n",
      "threshold 0.10757828982548527\n",
      "(44568800,) (44568800,)\n"
     ]
    },
    {
     "name": "stderr",
     "output_type": "stream",
     "text": [
      "ic| label_current_deforestation_test_classified_incorrect.shape: (3139,)\n",
      "    predicted_test_classified_incorrect.shape: (3139,)\n",
      "ic| TP_H + FN_H + FP_H + TN_H: 3139\n",
      "    len(label_mask_current_deforestation_test): 44571939\n",
      "ic| TP_H + FN_H + FP_H + TN_H: 3139\n",
      "    len(label_mask_current_deforestation_test): 44571939\n"
     ]
    },
    {
     "name": "stdout",
     "output_type": "stream",
     "text": [
      "cm_correct [[43681754    41834]\n",
      " [  284547   560665]]\n",
      "cm_incorrect [[2683    0]\n",
      " [ 405   51]]\n",
      "[9.30565860e-01 6.63342451e-01 6.62984765e-01 7.04254755e-05\n",
      " 1.00000000e+00 1.11842105e-01]\n",
      "0.17313827840609733\n",
      "threshold 0.17313827840609733\n",
      "(44571865,) (44571865,)\n"
     ]
    },
    {
     "name": "stderr",
     "output_type": "stream",
     "text": [
      "ic| label_current_deforestation_test_classified_incorrect.shape: (74,)\n",
      "    predicted_test_classified_incorrect.shape: (74,)\n",
      "d:\\Jorge\\deforestation_uncertainty\\src\\metrics.py:299: RuntimeWarning: invalid value encountered in longlong_scalars\n",
      "  precision_H = TP_H / (TP_H + FP_H)\n",
      "ic| TP_H + FN_H + FP_H + TN_H: 74\n",
      "    len(label_mask_current_deforestation_test): 44571939\n",
      "ic| TP_H + FN_H + FP_H + TN_H: 74\n",
      "    len(label_mask_current_deforestation_test): 44571939\n"
     ]
    },
    {
     "name": "stdout",
     "output_type": "stream",
     "text": [
      "cm_correct [[43684371    41834]\n",
      " [  284944   560716]]\n",
      "cm_incorrect [[66  0]\n",
      " [ 8  0]]\n",
      "[9.30571737e-01 6.63051345e-01 6.63045072e-01 1.66023740e-06\n",
      "            nan 0.00000000e+00]\n",
      "0.06705998858061205\n",
      "threshold 0.06705998858061205\n",
      "(44522421,) (44522421,)\n"
     ]
    },
    {
     "name": "stderr",
     "output_type": "stream",
     "text": [
      "ic| label_current_deforestation_test_classified_incorrect.shape: (49518,)\n",
      "    predicted_test_classified_incorrect.shape: (49518,)\n",
      "ic| TP_H + FN_H + FP_H + TN_H: 49518\n",
      "    len(label_mask_current_deforestation_test): 44571939\n",
      "ic| TP_H + FN_H + FP_H + TN_H: 49518\n",
      "    len(label_mask_current_deforestation_test): 44571939\n"
     ]
    },
    {
     "name": "stdout",
     "output_type": "stream",
     "text": [
      "cm_correct [[43637997    41804]\n",
      " [  282370   560250]]\n",
      "cm_incorrect [[46440    30]\n",
      " [ 2582   466]]\n",
      "[0.93056437 0.66489046 0.66249403 0.00111097 0.93951613 0.15288714]\n",
      "0.04201830124487323\n",
      "threshold 0.04201830124487323\n",
      "(44329602,) (44329602,)\n"
     ]
    },
    {
     "name": "stderr",
     "output_type": "stream",
     "text": [
      "ic| label_current_deforestation_test_classified_incorrect.shape: (242337,)\n",
      "    predicted_test_classified_incorrect.shape: (242337,)\n",
      "ic| TP_H + FN_H + FP_H + TN_H: 242337\n",
      "    len(label_mask_current_deforestation_test): 44571939\n",
      "ic| TP_H + FN_H + FP_H + TN_H: 242337\n",
      "    len(label_mask_current_deforestation_test): 44571939\n"
     ]
    },
    {
     "name": "stdout",
     "output_type": "stream",
     "text": [
      "cm_correct [[43454899    41345]\n",
      " [  275736   557622]]\n",
      "cm_incorrect [[229538    489]\n",
      " [  9216   3094]]\n",
      "[0.93097282 0.66912659 0.65938643 0.00543699 0.86352219 0.25134037]\n",
      "0.026541687335738834\n",
      "threshold 0.026541687335738834\n",
      "(43905606,) (43905606,)\n"
     ]
    },
    {
     "name": "stderr",
     "output_type": "stream",
     "text": [
      "ic| label_current_deforestation_test_classified_incorrect.shape: (666333,)\n",
      "    predicted_test_classified_incorrect.shape: (666333,)\n",
      "ic| TP_H + FN_H + FP_H + TN_H: 666333\n",
      "    len(label_mask_current_deforestation_test): 44571939\n",
      "ic| TP_H + FN_H + FP_H + TN_H: 666333\n",
      "    len(label_mask_current_deforestation_test): 44571939\n"
     ]
    },
    {
     "name": "stdout",
     "output_type": "stream",
     "text": [
      "cm_correct [[43056883    40040]\n",
      " [  260966   547717]]\n",
      "cm_incorrect [[627554   1794]\n",
      " [ 23986  12999]]\n",
      "[0.93187661 0.67729506 0.64767379 0.01494961 0.87872642 0.35146681]\n",
      "0.0169766139091344\n",
      "threshold 0.0169766139091344\n",
      "(43239773,) (43239773,)\n"
     ]
    },
    {
     "name": "stderr",
     "output_type": "stream",
     "text": [
      "ic| label_current_deforestation_test_classified_incorrect.shape: (1332166,)\n",
      "    predicted_test_classified_incorrect.shape: (1332166,)\n",
      "ic| TP_H + FN_H + FP_H + TN_H: 1332166\n",
      "    len(label_mask_current_deforestation_test): 44571939\n",
      "ic| TP_H + FN_H + FP_H + TN_H: "
     ]
    },
    {
     "name": "stdout",
     "output_type": "stream",
     "text": [
      "cm_correct [[42450843    37914]\n",
      " [  227213   523803]]\n",
      "cm_incorrect [[1233594    3920]\n",
      " [  57739   36913]]\n"
     ]
    },
    {
     "name": "stderr",
     "output_type": "stream",
     "text": [
      "1332166\n",
      "    len(label_mask_current_deforestation_test): 44571939\n"
     ]
    },
    {
     "name": "stdout",
     "output_type": "stream",
     "text": [
      "[0.93250338 0.69745918 0.61939555 0.029888   0.90399922 0.38998648]\n",
      "0.011065073426604437\n",
      "threshold 0.011065073426604437\n",
      "(42013118,) (42013118,)\n"
     ]
    },
    {
     "name": "stderr",
     "output_type": "stream",
     "text": [
      "ic| label_current_deforestation_test_classified_incorrect.shape: (2558821,)\n",
      "    predicted_test_classified_incorrect.shape: (2558821,)\n"
     ]
    },
    {
     "name": "stdout",
     "output_type": "stream",
     "text": [
      "cm_correct [[41326387    34347]\n",
      " [  160394   491990]]\n"
     ]
    },
    {
     "name": "stderr",
     "output_type": "stream",
     "text": [
      "ic| TP_H + FN_H + FP_H + TN_H: 2558821\n",
      "    len(label_mask_current_deforestation_test): 44571939\n",
      "ic| TP_H + FN_H + FP_H + TN_H: 2558821\n",
      "    len(label_mask_current_deforestation_test): 44571939\n"
     ]
    },
    {
     "name": "stdout",
     "output_type": "stream",
     "text": [
      "cm_incorrect [[2358050    7487]\n",
      " [ 124558   68726]]\n",
      "[0.93474333 0.75414173 0.58177677 0.05740879 0.90176217 0.35557004]\n",
      "0.02063014685320887\n",
      "threshold 0.02063014685320887\n",
      "(43570836,) (43570836,)\n"
     ]
    },
    {
     "name": "stderr",
     "output_type": "stream",
     "text": [
      "ic| label_current_deforestation_test_classified_incorrect.shape: (1001103,)\n",
      "    predicted_test_classified_incorrect.shape: (1001103,)\n",
      "ic| TP_H + FN_H + FP_H + TN_H: 1001103\n",
      "    len(label_mask_current_deforestation_test): 44571939\n",
      "ic| TP_H + FN_H + FP_H + TN_H: 1001103\n",
      "    len(label_mask_current_deforestation_test): 44571939\n"
     ]
    },
    {
     "name": "stdout",
     "output_type": "stream",
     "text": [
      "cm_correct [[42749646    39024]\n",
      " [  245709   536457]]\n",
      "cm_incorrect [[934791   2810]\n",
      " [ 39243  24259]]\n",
      "[0.9321889  0.6858608  0.63435887 0.02246039 0.89619122 0.38201946]\n",
      "0.01471860637067891\n",
      "threshold 0.01471860637067891\n",
      "(42934052,) (42934052,)\n"
     ]
    },
    {
     "name": "stderr",
     "output_type": "stream",
     "text": [
      "ic| label_current_deforestation_test_classified_incorrect.shape: (1637887,)\n",
      "    predicted_test_classified_incorrect.shape: (1637887,)\n",
      "ic"
     ]
    },
    {
     "name": "stdout",
     "output_type": "stream",
     "text": [
      "cm_correct [[42175107    36859]\n",
      " [  208570   513516]]\n",
      "cm_incorrect [[1509330    4975]\n",
      " [  76382   47200]]\n"
     ]
    },
    {
     "name": "stderr",
     "output_type": "stream",
     "text": [
      "| TP_H + FN_H + FP_H + TN_H: 1637887\n",
      "    len(label_mask_current_deforestation_test): 44571939\n",
      "ic| TP_H + FN_H + FP_H + TN_H: 1637887\n",
      "    len(label_mask_current_deforestation_test): 44571939\n"
     ]
    },
    {
     "name": "stdout",
     "output_type": "stream",
     "text": [
      "[0.9330293  0.71115629 0.60723121 0.03674704 0.90464782 0.38193264]\n",
      "0.01759466444682699\n",
      "threshold 0.01759466444682699\n",
      "(43306515,) (43306515,)\n"
     ]
    },
    {
     "name": "stderr",
     "output_type": "stream",
     "text": [
      "ic| label_current_deforestation_test_classified_incorrect.shape: (1265424,)\n",
      "    predicted_test_classified_incorrect.shape: (1265424,)\n",
      "ic| TP_H + FN_H + FP_H + TN_H: 1265424\n",
      "    len(label_mask_current_deforestation_test): 44571939\n",
      "ic| TP_H + FN_H + FP_H + TN_H: 1265424\n",
      "    len(label_mask_current_deforestation_test): 44571939\n"
     ]
    },
    {
     "name": "stdout",
     "output_type": "stream",
     "text": [
      "cm_correct [[42510907    38135]\n",
      " [  231175   526298]]\n",
      "cm_incorrect [[1173530    3699]\n",
      " [  53777   34418]]\n",
      "[0.93243662 0.6948076  0.62234589 0.0283906  0.90295669 0.39024888]\n",
      "0.016635783265599082\n",
      "threshold 0.016635783265599082\n",
      "(43200169,) (43200169,)\n"
     ]
    },
    {
     "name": "stderr",
     "output_type": "stream",
     "text": [
      "ic| label_current_deforestation_test_classified_incorrect.shape: (1371770,)\n",
      "    predicted_test_classified_incorrect.shape: (1371770,)\n",
      "ic| TP_H + FN_H + FP_H + TN_H: 1371770\n",
      "    len(label_mask_current_deforestation_test): 44571939\n",
      "ic| TP_H + FN_H + FP_H + TN_H: 1371770\n",
      "    len(label_mask_current_deforestation_test): 44571939\n"
     ]
    },
    {
     "name": "stdout",
     "output_type": "stream",
     "text": [
      "cm_correct [[42415138    37789]\n",
      " [  224836   522406]]\n",
      "cm_incorrect [[1269299    4045]\n",
      " [  60116   38310]]\n",
      "[0.93254313 0.6991122  0.61774361 0.03077654 0.9044977  0.38922642]\n",
      "0.017019985752016086\n",
      "threshold 0.017019985752016086\n",
      "(43244670,) (43244670,)\n"
     ]
    },
    {
     "name": "stderr",
     "output_type": "stream",
     "text": [
      "ic| label_current_deforestation_test_classified_incorrect.shape: (1327269,)\n",
      "    predicted_test_classified_incorrect.shape: (1327269,)\n",
      "ic| TP_H + FN_H + FP_H + TN_H: 1327269\n",
      "    len(label_mask_current_deforestation_test): 44571939\n",
      "ic| TP_H + FN_H + FP_H + TN_H: 1327269\n",
      "    len(label_mask_current_deforestation_test): 44571939\n"
     ]
    },
    {
     "name": "stdout",
     "output_type": "stream",
     "text": [
      "cm_correct [[42455209    37932]\n",
      " [  227530   523999]]\n",
      "cm_incorrect [[1229228    3902]\n",
      " [  57422   36717]]\n",
      "[0.93249705 0.69724389 0.61962732 0.02977813 0.90393658 0.39002964]\n",
      "0.01688974940852558\n",
      "threshold 0.01688974940852558\n",
      "(43229807,) (43229807,)\n"
     ]
    },
    {
     "name": "stderr",
     "output_type": "stream",
     "text": [
      "ic| label_current_deforestation_test_classified_incorrect.shape: (1342132,)\n",
      "    predicted_test_classified_incorrect.shape: (1342132,)\n",
      "ic| TP_H + FN_H + FP_H + TN_H: 1342132\n",
      "    len(label_mask_current_deforestation_test): 44571939\n",
      "ic| TP_H + FN_H + FP_H + TN_H: 1342132\n",
      "    len(label_mask_current_deforestation_test): 44571939\n"
     ]
    },
    {
     "name": "stdout",
     "output_type": "stream",
     "text": [
      "cm_correct [[42441877    37878]\n",
      " [  226620   523432]]\n",
      "cm_incorrect [[1242560    3956]\n",
      " [  58332   37284]]\n",
      "[0.93251857 0.69786095 0.61895685 0.03011159 0.90407371 0.38993474]\n",
      "0.01679274297391937\n",
      "threshold 0.01679274297391937\n",
      "(43218739,) (43218739,)\n"
     ]
    },
    {
     "name": "stderr",
     "output_type": "stream",
     "text": [
      "ic| label_current_deforestation_test_classified_incorrect.shape: (1353200,)\n",
      "    predicted_test_classified_incorrect.shape: (1353200,)\n",
      "ic| TP_H + FN_H + FP_H + TN_H: 1353200\n",
      "    len(label_mask_current_deforestation_test): 44571939\n",
      "ic| TP_H + FN_H + FP_H + TN_H: 1353200\n",
      "    len(label_mask_current_deforestation_test): 44571939"
     ]
    },
    {
     "name": "stdout",
     "output_type": "stream",
     "text": [
      "cm_correct [[42431895    37847]\n",
      " [  225941   523056]]\n",
      "cm_incorrect [[1252542    3987]\n",
      " [  59011   37660]]\n"
     ]
    },
    {
     "name": "stderr",
     "output_type": "stream",
     "text": [
      "\n"
     ]
    },
    {
     "name": "stdout",
     "output_type": "stream",
     "text": [
      "[0.93252488 0.69834192 0.61851223 0.03035991 0.90426681 0.38956874]\n",
      "0.016856415824676778\n",
      "threshold 0.016856415824676778\n",
      "(43226043,) (43226043,)\n"
     ]
    },
    {
     "name": "stderr",
     "output_type": "stream",
     "text": [
      "ic| label_current_deforestation_test_classified_incorrect.shape: (1345896,)\n",
      "    predicted_test_classified_incorrect.shape: (1345896,)\n",
      "ic| TP_H + FN_H + FP_H + TN_H: 1345896\n",
      "    len(label_mask_current_deforestation_test): 44571939\n",
      "ic| TP_H + FN_H + FP_H + TN_H: 1345896\n",
      "    len(label_mask_current_deforestation_test): 44571939\n"
     ]
    },
    {
     "name": "stdout",
     "output_type": "stream",
     "text": [
      "cm_correct [[42438503    37867]\n",
      " [  226376   523297]]\n",
      "cm_incorrect [[1245934    3967]\n",
      " [  58576   37419]]\n",
      "[0.93252062 0.69803368 0.61879721 0.03019604 0.90414633 0.38980155]\n",
      "0.016923082992374383\n",
      "threshold 0.016923082992374383\n",
      "(43233686,) (43233686,)\n"
     ]
    },
    {
     "name": "stderr",
     "output_type": "stream",
     "text": [
      "ic| label_current_deforestation_test_classified_incorrect.shape: (1338253,)\n",
      "    predicted_test_classified_incorrect.shape: (1338253,)\n",
      "ic| TP_H + FN_H + FP_H + TN_H: 1338253\n",
      "    len(label_mask_current_deforestation_test): 44571939\n",
      "ic| TP_H + FN_H + FP_H + TN_H: 1338253\n",
      "    len(label_mask_current_deforestation_test): 44571939\n"
     ]
    },
    {
     "name": "stdout",
     "output_type": "stream",
     "text": [
      "cm_correct [[42445356    37892]\n",
      " [  226856   523582]]\n",
      "cm_incorrect [[1239081    3942]\n",
      " [  58096   37134]]\n",
      "[0.93251335 0.69770188 0.61913422 0.03002456 0.90403155 0.38994014]\n"
     ]
    },
    {
     "name": "stderr",
     "output_type": "stream",
     "text": [
      "ic| self.threshold_optimal: 0.016923082992374383\n"
     ]
    },
    {
     "name": "stdout",
     "output_type": "stream",
     "text": [
      "threshold 0.016923082992374383\n",
      "(43233686,) (43233686,)\n"
     ]
    },
    {
     "name": "stderr",
     "output_type": "stream",
     "text": [
      "ic| label_current_deforestation_test_classified_incorrect.shape: (1338253,)\n",
      "    predicted_test_classified_incorrect.shape: (1338253,)\n",
      "ic| TP_H + FN_H + FP_H + TN_H: 1338253\n",
      "    len(label_mask_current_deforestation_test): 44571939\n",
      "ic| TP_H + FN_H + FP_H + TN_H: 1338253\n",
      "    len(label_mask_current_deforestation_test): 44571939\n"
     ]
    },
    {
     "name": "stdout",
     "output_type": "stream",
     "text": [
      "cm_correct [[42445356    37892]\n",
      " [  226856   523582]]\n",
      "cm_incorrect [[1239081    3942]\n",
      " [  58096   37134]]\n",
      "[0.93251335 0.69770188 0.61913422 0.03002456 0.90403155 0.38994014]\n",
      "threshold 0.016923082992374383\n",
      "(44571939,) (44571939,)\n"
     ]
    },
    {
     "name": "stderr",
     "output_type": "stream",
     "text": [
      "ic| self.m_optimal: {'AA': array([0.03002456]),\n",
      "                     'f1': 77.44,\n",
      "                     'f1_H': array([0.5448623]),\n",
      "                     'f1_L': array([0.79819683]),\n",
      "                     'precision_H': array([0.90403155]),\n",
      "                     'precision_L': array([0.93251335]),\n",
      "                     'recall_H': array([0.38994014]),\n",
      "                     'recall_L': array([0.69770188]),\n",
      "                     'recall_Ltotal': array([0.61913422])}\n",
      "ic| self.m_audited_optimal: {'f1': array([0.82378]),\n",
      "                             'precision': array([0.94229973]),\n",
      "                             'recall': array([0.73174343])}\n"
     ]
    },
    {
     "name": "stdout",
     "output_type": "stream",
     "text": [
      "cm_audited [[43688379    37892]\n",
      " [  226856   618812]]\n",
      "[0.94229973 0.73174343]\n"
     ]
    },
    {
     "name": "stderr",
     "output_type": "stream",
     "text": [
      "ic| self.label_mask.shape: (16795, 10420)\n",
      "ic| self.mask_amazon_ts.shape: (16795, 10420)\n",
      "ic| self.label_mask_test.shape: (70001560,)\n",
      "ic| self.error_mask_test.shape: (44571939,)\n",
      "ic| bounds: (0.0015, 0.6940584287643433)\n",
      "c:\\Users\\jchamorro\\Anaconda3\\envs\\tf2\\lib\\site-packages\\scipy\\optimize\\_minimize.py:783: RuntimeWarning: Method 'bounded' does not support relative tolerance in x; defaulting to absolute tolerance.\n",
      "  warn(\"Method 'bounded' does not support relative tolerance in x; \"\n"
     ]
    },
    {
     "name": "stdout",
     "output_type": "stream",
     "text": [
      "0.2660337805927563\n",
      "threshold 0.2660337805927563\n",
      "(44571672,) (44571672,)\n"
     ]
    },
    {
     "name": "stderr",
     "output_type": "stream",
     "text": [
      "ic| label_current_deforestation_test_classified_incorrect.shape: (267,)\n",
      "    predicted_test_classified_incorrect.shape: (267,)\n",
      "d:\\Jorge\\deforestation_uncertainty\\src\\metrics.py:299: RuntimeWarning: invalid value encountered in longlong_scalars\n",
      "  precision_H = TP_H / (TP_H + FP_H)\n",
      "ic| TP_H + FN_H + FP_H + TN_H: 267\n",
      "    len(label_mask_current_deforestation_test): 44571939\n",
      "ic| TP_H + FN_H + FP_H + TN_H: 267\n",
      "    len(label_mask_current_deforestation_test): 44571939\n"
     ]
    },
    {
     "name": "stdout",
     "output_type": "stream",
     "text": [
      "cm_correct [[43684195    41834]\n",
      " [  284927   560716]]\n",
      "cm_incorrect [[242   0]\n",
      " [ 25   0]]\n",
      "[9.30571737e-01 6.63064674e-01 6.63045072e-01 5.99031601e-06\n",
      "            nan 0.00000000e+00]\n",
      "0.429524648171587\n",
      "threshold 0.429524648171587\n",
      "(44571926,) (44571926,)\n"
     ]
    },
    {
     "name": "stderr",
     "output_type": "stream",
     "text": [
      "ic| label_current_deforestation_test_classified_incorrect.shape: (13,)\n",
      "    predicted_test_classified_incorrect.shape: (13,)\n",
      "ic| np.all(label_current_deforestation_test_classified_incorrect) == 0: True\n",
      "ic| np.all(predicted_test_classified_incorrect) == 0: True\n"
     ]
    },
    {
     "name": "stdout",
     "output_type": "stream",
     "text": [
      "cm_correct [[43684424    41834]\n",
      " [  284952   560716]]\n",
      "cm_incorrect [[13]]\n",
      "[           nan            nan            nan 2.91663327e-07\n",
      "            nan            nan]\n",
      "0.1649908675788307\n",
      "threshold 0.1649908675788307\n",
      "(44566198,) (44566198,)\n"
     ]
    },
    {
     "name": "stderr",
     "output_type": "stream",
     "text": [
      "ic| label_current_deforestation_test_classified_incorrect.shape: (5741,)\n",
      "    predicted_test_classified_incorrect.shape: (5741,)\n",
      "ic| TP_H + FN_H + FP_H + TN_H: 5741\n",
      "    len(label_mask_current_deforestation_test): 44571939\n",
      "ic| TP_H + FN_H + FP_H + TN_H: 5741\n",
      "    len(label_mask_current_deforestation_test): 44571939\n"
     ]
    },
    {
     "name": "stdout",
     "output_type": "stream",
     "text": [
      "cm_correct [[43679026    41834]\n",
      " [  284674   560664]]\n",
      "cm_incorrect [[5411    0]\n",
      " [ 278   52]]\n",
      "[9.30565745e-01 6.63242395e-01 6.62983582e-01 1.28803012e-04\n",
      " 1.00000000e+00 1.57575758e-01]\n",
      "0.1025429130139256\n",
      "threshold 0.1025429130139256\n",
      "(44520808,) (44520808,)\n"
     ]
    },
    {
     "name": "stderr",
     "output_type": "stream",
     "text": [
      "ic| label_current_deforestation_test_classified_incorrect.shape: (51131,)\n",
      "    predicted_test_classified_incorrect.shape: (51131,)\n",
      "ic| TP_H + FN_H + FP_H + TN_H: 51131\n",
      "    len(label_mask_current_deforestation_test): 44571939\n",
      "ic| TP_H + FN_H + FP_H + TN_H: 51131\n",
      "    len(label_mask_current_deforestation_test): 44571939\n"
     ]
    },
    {
     "name": "stdout",
     "output_type": "stream",
     "text": [
      "cm_correct [[43635128    41818]\n",
      " [  283414   560448]]\n",
      "cm_incorrect [[49309    16]\n",
      " [ 1538   268]]\n",
      "[0.93056556 0.66414651 0.66272816 0.00114716 0.94366197 0.14839424]\n",
      "0.0639479545649051\n",
      "threshold 0.0639479545649051\n",
      "(44327658,) (44327658,)\n"
     ]
    },
    {
     "name": "stderr",
     "output_type": "stream",
     "text": [
      "ic| label_current_deforestation_test_classified_incorrect.shape: (244281,)\n",
      "    predicted_test_classified_incorrect.shape: (244281,)\n",
      "ic| TP_H + FN_H + FP_H + TN_H: 244281\n",
      "    len(label_mask_current_deforestation_test): 44571939\n",
      "ic| TP_H + FN_H + FP_H + TN_H: 244281\n",
      "    len(label_mask_current_deforestation_test): 44571939\n"
     ]
    },
    {
     "name": "stdout",
     "output_type": "stream",
     "text": [
      "cm_correct [[43446328    41715]\n",
      " [  280111   559504]]\n",
      "cm_incorrect [[238109    119]\n",
      " [  4841   1212]]\n",
      "[0.93061597 0.66638162 0.66161189 0.0054806  0.91059354 0.20023129]\n",
      "0.0400949584490205\n",
      "threshold 0.0400949584490205\n",
      "(43795641,) (43795641,)\n"
     ]
    },
    {
     "name": "stderr",
     "output_type": "stream",
     "text": [
      "ic| label_current_deforestation_test_classified_incorrect.shape: (776298,)\n",
      "    predicted_test_classified_incorrect.shape: (776298,)\n",
      "ic| TP_H + FN_H + FP_H + TN_H: 776298\n",
      "    len(label_mask_current_deforestation_test): 44571939\n",
      "ic| TP_H + FN_H + FP_H + TN_H: 776298\n",
      "    len(label_mask_current_deforestation_test): 44571939\n"
     ]
    },
    {
     "name": "stdout",
     "output_type": "stream",
     "text": [
      "cm_correct [[42927200    41005]\n",
      " [  271623   555813]]\n",
      "cm_incorrect [[757237    829]\n",
      " [ 13329   4903]]\n",
      "[0.93129396 0.67172929 0.65724729 0.01741674 0.85537334 0.26892277]\n",
      "0.025352996115884596\n",
      "threshold 0.025352996115884596\n",
      "(42282739,) (42282739,)\n"
     ]
    },
    {
     "name": "stderr",
     "output_type": "stream",
     "text": [
      "ic| label_current_deforestation_test_classified_incorrect.shape: (2289200,)\n",
      "    predicted_test_classified_incorrect.shape: (2289200,)\n"
     ]
    },
    {
     "name": "stdout",
     "output_type": "stream",
     "text": [
      "cm_correct [[41445097    39624]\n",
      " [  254441   543577]]\n"
     ]
    },
    {
     "name": "stderr",
     "output_type": "stream",
     "text": [
      "ic| TP_H + FN_H + FP_H + TN_H: 2289200\n",
      "    len(label_mask_current_deforestation_test): 44571939\n",
      "ic| TP_H + FN_H + FP_H + TN_H: 2289200\n",
      "    len(label_mask_current_deforestation_test): 44571939\n"
     ]
    },
    {
     "name": "stdout",
     "output_type": "stream",
     "text": [
      "cm_incorrect [[2239340    2210]\n",
      " [  30511   17139]]\n",
      "[0.93205773 0.68115882 0.64277825 0.05135967 0.88578221 0.3596852 ]\n",
      "0.04320864969336867\n",
      "threshold 0.04320864969336867\n",
      "(43916772,) (43916772,)\n"
     ]
    },
    {
     "name": "stderr",
     "output_type": "stream",
     "text": [
      "ic| label_current_deforestation_test_classified_incorrect.shape: (655167,)\n",
      "    predicted_test_classified_incorrect.shape: (655167,)\n",
      "ic| TP_H + FN_H + FP_H + TN_H: 655167\n",
      "    len(label_mask_current_deforestation_test): 44571939\n",
      "ic| TP_H + FN_H + FP_H + TN_H: 655167\n",
      "    len(label_mask_current_deforestation_test): 44571939\n"
     ]
    },
    {
     "name": "stdout",
     "output_type": "stream",
     "text": [
      "cm_correct [[43045411    41169]\n",
      " [  273385   556807]]\n",
      "cm_incorrect [[639026    665]\n",
      " [ 11567   3909]]\n",
      "[0.93115276 0.67069666 0.65842269 0.01469909 0.85461303 0.25258465]\n",
      "0.03634423300588451\n",
      "threshold 0.03634423300588451\n",
      "(43604707,) (43604707,)\n"
     ]
    },
    {
     "name": "stderr",
     "output_type": "stream",
     "text": [
      "ic| label_current_deforestation_test_classified_incorrect.shape: (967232,)\n",
      "    predicted_test_classified_incorrect.shape: (967232,)\n",
      "ic| TP_H + FN_H + FP_H + TN_H: 967232\n",
      "    len(label_mask_current_deforestation_test): 44571939\n",
      "ic| TP_H + FN_H + FP_H + TN_H: 967232\n",
      "    len(label_mask_current_deforestation_test): 44571939\n"
     ]
    },
    {
     "name": "stdout",
     "output_type": "stream",
     "text": [
      "cm_correct [[42740788    40742]\n",
      " [  268945   554232]]\n",
      "cm_incorrect [[943649   1092]\n",
      " [ 16007   6484]]\n",
      "[0.93152306 0.67328412 0.65537776 0.02170047 0.85586061 0.2882931 ]\n",
      "0.032145954092306236\n",
      "threshold 0.032145954092306236\n",
      "(43295165,) (43295165,)\n"
     ]
    },
    {
     "name": "stderr",
     "output_type": "stream",
     "text": [
      "ic| label_current_deforestation_test_classified_incorrect.shape: (1276774,)\n",
      "    predicted_test_classified_incorrect.shape: (1276774,)\n",
      "ic| TP_H + FN_H + FP_H + TN_H: 1276774\n",
      "    len(label_mask_current_deforestation_test): 44571939\n",
      "ic| TP_H + FN_H + FP_H +"
     ]
    },
    {
     "name": "stdout",
     "output_type": "stream",
     "text": [
      "cm_correct [[42438417    40381]\n",
      " [  264945   551422]]\n",
      "cm_incorrect [[1246020    1453]\n",
      " [  20007    9294]]\n"
     ]
    },
    {
     "name": "stderr",
     "output_type": "stream",
     "text": [
      " TN_H: 1276774\n",
      "    len(label_mask_current_deforestation_test): 44571939\n"
     ]
    },
    {
     "name": "stdout",
     "output_type": "stream",
     "text": [
      "[0.93176615 0.67545846 0.65205494 0.02864524 0.86479948 0.31719054]\n",
      "0.02955127502946288\n",
      "threshold 0.02955127502946288\n",
      "(43021055,) (43021055,)\n"
     ]
    },
    {
     "name": "stderr",
     "output_type": "stream",
     "text": [
      "ic| label_current_deforestation_test_classified_incorrect.shape: (1550884,)\n",
      "    predicted_test_classified_incorrect.shape: (1550884,)\n",
      "ic"
     ]
    },
    {
     "name": "stdout",
     "output_type": "stream",
     "text": [
      "cm_correct [[42170128    40124]\n",
      " [  261777   549026]]\n",
      "cm_incorrect [[1514309    1710]\n",
      " [  23175   11690]]\n"
     ]
    },
    {
     "name": "stderr",
     "output_type": "stream",
     "text": [
      "| TP_H + FN_H + FP_H + TN_H: 1550884\n",
      "    len(label_mask_current_deforestation_test): 44571939\n",
      "ic| TP_H + FN_H + FP_H + TN_H: 1550884\n",
      "    len(label_mask_current_deforestation_test): 44571939\n"
     ]
    },
    {
     "name": "stdout",
     "output_type": "stream",
     "text": [
      "[0.9318951  0.67713859 0.64922168 0.03479508 0.87238806 0.33529327]\n",
      "0.03235977959911166\n",
      "threshold 0.03235977959911166\n",
      "(43314379,) (43314379,)\n"
     ]
    },
    {
     "name": "stderr",
     "output_type": "stream",
     "text": [
      "ic| label_current_deforestation_test_classified_incorrect.shape: (1257560,)\n",
      "    predicted_test_classified_incorrect.shape: (1257560,)\n",
      "ic| TP_H + FN_H + FP_H + TN_H: 1257560\n",
      "    len(label_mask_current_deforestation_test): 44571939\n",
      "ic| TP_H + FN_H + FP_H + TN_H: 1257560\n",
      "    len(label_mask_current_deforestation_test): 44571939\n"
     ]
    },
    {
     "name": "stdout",
     "output_type": "stream",
     "text": [
      "cm_correct [[42457179    40402]\n",
      " [  265201   551597]]\n",
      "cm_incorrect [[1227258    1432]\n",
      " [  19751    9119]]\n",
      "[0.93175326 0.6753163  0.65226188 0.02821416 0.86427827 0.31586422]\n",
      "0.03140575059609694\n",
      "threshold 0.03140575059609694\n",
      "(43225409,) (43225409,)\n"
     ]
    },
    {
     "name": "stderr",
     "output_type": "stream",
     "text": [
      "ic| label_current_deforestation_test_classified_incorrect.shape: (1346530,)\n",
      "    predicted_test_classified_incorrect.shape: (1346530,)\n",
      "ic| TP_H + FN_H + FP_H + TN_H: 1346530\n",
      "    len(label_mask_current_deforestation_test"
     ]
    },
    {
     "name": "stdout",
     "output_type": "stream",
     "text": [
      "cm_correct [[42370183    40311]\n",
      " [  264121   550794]]\n",
      "cm_incorrect [[1314254    1523]\n",
      " [  20831    9922]]\n"
     ]
    },
    {
     "name": "stderr",
     "output_type": "stream",
     "text": [
      "): 44571939\n",
      "ic| TP_H + FN_H + FP_H + TN_H: 1346530\n",
      "    len(label_mask_current_deforestation_test): 44571939\n"
     ]
    },
    {
     "name": "stdout",
     "output_type": "stream",
     "text": [
      "[0.93180399 0.67589135 0.65131234 0.03021026 0.86692879 0.32263519]\n",
      "0.030697403960948947\n",
      "threshold 0.030697403960948947\n",
      "(43152950,) (43152950,)\n"
     ]
    },
    {
     "name": "stderr",
     "output_type": "stream",
     "text": [
      "ic| label_current_deforestation_test_classified_incorrect.shape: (1418989,)\n",
      "    predicted_test_classified_incorrect.shape: (1418989,)\n",
      "ic"
     ]
    },
    {
     "name": "stdout",
     "output_type": "stream",
     "text": [
      "cm_correct [[42299288    40242]\n",
      " [  263266   550154]]\n",
      "cm_incorrect [[1385149    1592]\n",
      " [  21686   10562]]\n"
     ]
    },
    {
     "name": "stderr",
     "output_type": "stream",
     "text": [
      "| TP_H + FN_H + FP_H + TN_H: 1418989\n",
      "    len(label_mask_current_deforestation_test): 44571939\n",
      "ic| TP_H + FN_H + FP_H + TN_H: 1418989\n",
      "    len(label_mask_current_deforestation_test): 44571939\n"
     ]
    },
    {
     "name": "stdout",
     "output_type": "stream",
     "text": [
      "[0.93183897 0.67634678 0.65055554 0.03183593 0.86901432 0.32752419]\n",
      "0.031688483173057384\n",
      "threshold 0.031688483173057384\n",
      "(43252714,) (43252714,)\n"
     ]
    },
    {
     "name": "stderr",
     "output_type": "stream",
     "text": [
      "ic| label_current_deforestation_test_classified_incorrect.shape: (1319225,)\n",
      "    predicted_test_classified_incorrect.shape: (1319225,)\n",
      "ic| TP_H + FN_H + FP_H + TN_H: 1319225\n",
      "    len(label_mask_current_deforestation_test): 44571939\n",
      "ic| "
     ]
    },
    {
     "name": "stdout",
     "output_type": "stream",
     "text": [
      "cm_correct [[42396907    40339]\n",
      " [  264431   551037]]\n",
      "cm_incorrect [[1287530    1495]\n",
      " [  20521    9679]]\n"
     ]
    },
    {
     "name": "stderr",
     "output_type": "stream",
     "text": [
      "TP_H + FN_H + FP_H + TN_H: 1319225\n",
      "    len(label_mask_current_deforestation_test): 44571939\n"
     ]
    },
    {
     "name": "stdout",
     "output_type": "stream",
     "text": [
      "[0.9317879  0.67573099 0.65159968 0.02959766 0.86620727 0.32049669]\n",
      "0.031367846784706985\n",
      "threshold 0.031367846784706985\n",
      "(43221781,) (43221781,)\n"
     ]
    },
    {
     "name": "stderr",
     "output_type": "stream",
     "text": [
      "ic| label_current_deforestation_test_classified_incorrect.shape: (1350158,)\n",
      "    predicted_test_classified_incorrect.shape: (1350158,)\n",
      "ic| TP_H + FN_H + FP_H + TN_H: 1350158\n",
      "    len(label_mask_current_deforestation_test): 44571939\n",
      "ic| TP_H + FN_H +"
     ]
    },
    {
     "name": "stdout",
     "output_type": "stream",
     "text": [
      "cm_correct [[42366638    40305]\n",
      " [  264072   550766]]\n",
      "cm_incorrect [[1317799    1529]\n",
      " [  20880    9950]]\n"
     ]
    },
    {
     "name": "stderr",
     "output_type": "stream",
     "text": [
      " FP_H + TN_H: 1350158\n",
      "    len(label_mask_current_deforestation_test): 44571939\n"
     ]
    },
    {
     "name": "stdout",
     "output_type": "stream",
     "text": [
      "[0.93181022 0.67592086 0.65127923 0.03029166 0.86680024 0.32273759]\n",
      "0.03150858771495986\n",
      "threshold 0.03150858771495986\n",
      "(43235554,) (43235554,)\n"
     ]
    },
    {
     "name": "stderr",
     "output_type": "stream",
     "text": [
      "ic| label_current_deforestation_test_classified_incorrect.shape: (1336385,)\n",
      "    predicted_test_classified_incorrect.shape: (1336385,)\n",
      "ic| TP_H + FN_H + FP_H + TN_H: 1336385\n",
      "    len(label_mask_current_deforestation_test): 44571939\n",
      "ic| TP_H + "
     ]
    },
    {
     "name": "stdout",
     "output_type": "stream",
     "text": [
      "cm_correct [[42380123    40319]\n",
      " [  264230   550882]]\n",
      "cm_incorrect [[1304314    1515]\n",
      " [  20722    9834]]\n"
     ]
    },
    {
     "name": "stderr",
     "output_type": "stream",
     "text": [
      "FN_H + FP_H + TN_H: 1336385\n",
      "    len(label_mask_current_deforestation_test): 44571939\n"
     ]
    },
    {
     "name": "stdout",
     "output_type": "stream",
     "text": [
      "[0.93180154 0.67583596 0.6514164  0.02998265 0.86650806 0.32183532]\n",
      "0.03157730166553138\n",
      "threshold 0.03157730166553138\n",
      "(43242100,) (43242100,)\n"
     ]
    },
    {
     "name": "stderr",
     "output_type": "stream",
     "text": [
      "ic| label_current_deforestation_test_classified_incorrect.shape: (1329839,)\n",
      "    predicted_test_classified_incorrect.shape: (1329839,)\n",
      "ic| TP_H + FN_H + FP_H + TN_H: 1329839\n",
      "    len(label_mask_current_deforestation_test): 44571939\n",
      "ic| TP_H + FN_H + FP_H + TN_H: 1329839\n",
      "    len(label_mask_current_deforestation_test): 44571939\n"
     ]
    },
    {
     "name": "stdout",
     "output_type": "stream",
     "text": [
      "cm_correct [[42386535    40327]\n",
      " [  264296   550942]]\n",
      "cm_incorrect [[1297902    1507]\n",
      " [  20656    9774]]\n",
      "[0.93179585 0.6758051  0.65148734 0.02983579 0.86641255 0.32119619]\n",
      "0.03147525391427865\n",
      "threshold 0.03147525391427865\n",
      "(43232290,) (43232290,)\n"
     ]
    },
    {
     "name": "stderr",
     "output_type": "stream",
     "text": [
      "ic| label_current_deforestation_test_classified_incorrect.shape: (1339649,)\n",
      "    predicted_test_classified_incorrect.shape: (1339649,)\n",
      "ic| TP_H + FN_H + FP_H + TN_H: 1339649\n",
      "    len(label_mask_current_deforestation_test): 44571939\n",
      "ic| TP_H "
     ]
    },
    {
     "name": "stdout",
     "output_type": "stream",
     "text": [
      "cm_correct [[42376924    40317]\n",
      " [  264200   550849]]\n",
      "cm_incorrect [[1307513    1517]\n",
      " [  20752    9867]]\n"
     ]
    },
    {
     "name": "stderr",
     "output_type": "stream",
     "text": [
      "+ FN_H + FP_H + TN_H: 1339649\n",
      "    len(label_mask_current_deforestation_test): 44571939\n"
     ]
    },
    {
     "name": "stdout",
     "output_type": "stream",
     "text": [
      "[0.93180088 0.67584771 0.65137737 0.03005588 0.8667428  0.32225089]\n",
      "0.03154192151564107\n",
      "threshold 0.03154192151564107\n",
      "(43238710,) (43238710,)\n"
     ]
    },
    {
     "name": "stderr",
     "output_type": "stream",
     "text": [
      "ic| label_current_deforestation_test_classified_incorrect.shape: (1333229,)\n",
      "    predicted_test_classified_incorrect.shape: (1333229,)\n",
      "ic| TP_H + FN_H + FP_H + TN_H: 1333229\n",
      "    len(label_mask_current_deforestation_test): 44571939\n",
      "ic| TP_H + FN_H + FP_H + TN_H: 1333229\n",
      "    len(label_mask_current_deforestation_test): 44571939"
     ]
    },
    {
     "name": "stdout",
     "output_type": "stream",
     "text": [
      "cm_correct [[42383211    40323]\n",
      " [  264263   550913]]\n",
      "cm_incorrect [[1301226    1511]\n",
      " [  20689    9803]]\n"
     ]
    },
    {
     "name": "stderr",
     "output_type": "stream",
     "text": [
      "\n",
      "ic| self.threshold_optimal: 0.03150858771495986\n"
     ]
    },
    {
     "name": "stdout",
     "output_type": "stream",
     "text": [
      "[0.93179881 0.67582093 0.65145305 0.02991185 0.86644865 0.32149416]\n",
      "threshold 0.03150858771495986\n",
      "(43235554,) (43235554,)\n"
     ]
    },
    {
     "name": "stderr",
     "output_type": "stream",
     "text": [
      "ic| label_current_deforestation_test_classified_incorrect.shape: (1336385,)\n",
      "    predicted_test_classified_incorrect.shape: (1336385,)\n",
      "ic| TP_H + FN_H + FP_H + TN_H: 1336385\n",
      "    len(label_mask_current_deforestation_test): 44571939\n",
      "ic| TP_H + FN_H + FP_H + TN_H: 1336385\n",
      "    len(label_mask_current_deforestation_test): 44571939\n"
     ]
    },
    {
     "name": "stdout",
     "output_type": "stream",
     "text": [
      "cm_correct [[42380123    40319]\n",
      " [  264230   550882]]\n",
      "cm_incorrect [[1304314    1515]\n",
      " [  20722    9834]]\n",
      "[0.93180154 0.67583596 0.6514164  0.02998265 0.86650806 0.32183532]\n",
      "threshold 0.03150858771495986\n",
      "(44571939,) (44571939,)\n"
     ]
    },
    {
     "name": "stderr",
     "output_type": "stream",
     "text": [
      "ic| self.m_optimal: {'AA': array([0.02998265]),\n",
      "                     'f1': 77.44,\n",
      "                     'f1_H': array([0.46934733]),\n",
      "                     'f1_L': array([0.78344152]),\n",
      "                     'precision_H': array([0.86650806]),\n",
      "                     'precision_L': array([0.93180154]),\n",
      "                     'recall_H': array([0.32183532]),\n",
      "                     'recall_L': array([0.67583596]),\n",
      "                     'recall_Ltotal': array([0.6514164])}\n",
      "ic| self.m_audited_optimal: {'f1': array([0.79246026]),\n",
      "                             'precision': array([0.93515312]),\n",
      "                             'recall': array([0.68754878])}\n",
      " 70%|███████   | 7/10 [3:12:52<1:21:55, 1638.38s/it]"
     ]
    },
    {
     "name": "stdout",
     "output_type": "stream",
     "text": [
      "cm_audited [[43685952    40319]\n",
      " [  264230   581438]]\n",
      "[0.93515312 0.68754878]\n",
      "self.exp, results 137 {'pred_entropy': {'metrics': {'precision_L': array([0.96433924]), 'recall_L': array([0.86917755]), 'recall_Ltotal': array([0.49532559]), 'AA': array([0.03000139]), 'precision_H': array([0.84335738]), 'recall_H': array([0.38993512]), 'f1_L': array([0.91428889]), 'f1_H': array([0.53329548]), 'f1': 77.44}, 'metrics_audited': {'precision': array([0.98059167]), 'recall': array([0.9254471]), 'f1': array([0.95222168])}}, 'pred_var': {'metrics': {'precision_L': array([0.97441575]), 'recall_L': array([0.73060688]), 'recall_Ltotal': array([0.3481378]), 'AA': array([0.02992398]), 'precision_H': array([0.88647553]), 'recall_H': array([0.60154776]), 'f1_L': array([0.83507965]), 'f1_H': array([0.71673256]), 'f1': 77.44}, 'metrics_audited': {'precision': array([0.98962196]), 'recall': array([0.87163284]), 'f1': array([0.9268876])}}, 'MI': {'metrics': {'precision_L': array([0.93251335]), 'recall_L': array([0.69770188]), 'recall_Ltotal': array([0.61913422]), 'AA': array([0.03002456]), 'precision_H': array([0.90403155]), 'recall_H': array([0.38994014]), 'f1_L': array([0.79819683]), 'f1_H': array([0.5448623]), 'f1': 77.44}, 'metrics_audited': {'precision': array([0.94229973]), 'recall': array([0.73174343]), 'f1': array([0.82378])}}, 'KL': {'metrics': {'precision_L': array([0.93180154]), 'recall_L': array([0.67583596]), 'recall_Ltotal': array([0.6514164]), 'AA': array([0.02998265]), 'precision_H': array([0.86650806]), 'recall_H': array([0.32183532]), 'f1_L': array([0.78344152]), 'f1_H': array([0.46934733]), 'f1': 77.44}, 'metrics_audited': {'precision': array([0.93515312]), 'recall': array([0.68754878]), 'f1': array([0.79246026])}}}\n",
      "D:/Jorge/datasets/deforestation/MT/deforestation_past_years.tif\n",
      "Loaded deforestation past years\n"
     ]
    },
    {
     "name": "stderr",
     "output_type": "stream",
     "text": [
      "ic| np.unique(deforestation_past_years, return_counts=True): (array([   0, 2008, 2009, 2010, 2011, 2012, 2013, 2014, 2015, 2016, 2017,\n",
      "                                                                    2018, 2019, 2020, 2021], dtype=uint16),\n",
      "                                                              array([161124576,   1332784,    240796,    338545,    313901,    287191,\n",
      "                                                                       708581,    648966,    876898,   1007787,   1098901,   1054092,\n",
      "                                                                      2096062,   2473828,   1400992], dtype=int64))\n"
     ]
    },
    {
     "name": "stdout",
     "output_type": "stream",
     "text": [
      "Label where deforestation past years is actual date (2020) = 1\n"
     ]
    },
    {
     "name": "stderr",
     "output_type": "stream",
     "text": [
      "ic| np.unique(deforestation_past_years, return_counts=True): (array([   0, 2008, 2009, 2010, 2011, 2012, 2013, 2014, 2015, 2016, 2017,\n",
      "                                                                    2018, 2019, 2020, 2021], dtype=uint16),\n",
      "                                                              array([161124576,   1332784,    240796,    338545,    313901,    287191,\n",
      "                                                                       708581,    648966,    876898,   1007787,   1098901,   1054092,\n",
      "                                                                      2096062,   2473828,   1400992], dtype=int64))\n"
     ]
    },
    {
     "name": "stdout",
     "output_type": "stream",
     "text": [
      "Past deforestation different from 0 (no deforestation)\n"
     ]
    },
    {
     "name": "stderr",
     "output_type": "stream",
     "text": [
      "ic| np.unique(deforestation_past_years, return_counts=True): (array([   0, 2008, 2009, 2010, 2011, 2012, 2013, 2014, 2015, 2016, 2017,\n",
      "                                                                    2018, 2019, 2020, 2021], dtype=uint16),\n",
      "                                                              array([161124576,   1332784,    240796,    338545,    313901,    287191,\n",
      "                                                                       708581,    648966,    876898,   1007787,   1098901,   1054092,\n",
      "                                                                      2096062,   2473828,   1400992], dtype=int64))\n"
     ]
    },
    {
     "name": "stdout",
     "output_type": "stream",
     "text": [
      "Past deforestation before 2008 is 2\n",
      "D:/Jorge/datasets/deforestation/MT/deforestation_before_2008/deforestation_before_2008_MT.tif\n"
     ]
    },
    {
     "name": "stderr",
     "output_type": "stream",
     "text": [
      "ic| np.unique(label_past_deforestation_before_2008, return_counts=True): (array([  0, 215], dtype=uint8), array([122623260,  52380640], dtype=int64))\n",
      "ic| np.unique(deforestation_past_years, return_counts=True): (array([   0, 2008, 2009, 2010, 2011, 2012, 2013, 2014, 2015, 2016, 2017,\n",
      "                                                                    2018, 2019, 2020, 2021], dtype=uint16),\n",
      "                                                              array([161124576,   1332784,    240796,    338545,    313901,    287191,\n",
      "                                                                       708581,    648966,    876898,   1007787,   1098901,   1054092,\n",
      "                                                                      2096062,   2473828,   1400992], dtype=int64))\n",
      "ic| label_per_date.shape: (16795, 10420, 1)\n"
     ]
    },
    {
     "name": "stdout",
     "output_type": "stream",
     "text": [
      "Mask label shape:  \n",
      " (16795, 10420, 1) \n",
      " Unique values:  \n",
      " [0 1 2]\n",
      "Tiles size:  3359 2084\n",
      "Mask size:  (16795, 10420)\n"
     ]
    },
    {
     "name": "stderr",
     "output_type": "stream",
     "text": [
      "ic| image_stack.shape: (16795, 10420, 21)\n"
     ]
    },
    {
     "name": "stdout",
     "output_type": "stream",
     "text": [
      "Image shape:  (16795, 10420, 21)\n",
      "mask:  (16795, 10420)\n",
      "image stack:  (16795, 10420, 21)\n",
      "ref : (16795, 10420, 1)\n",
      "Training tiles:  [2, 4, 5, 6, 7, 12, 14, 15, 18, 21, 23, 24]\n",
      "Validation tiles:  [9, 11, 25]\n",
      "Test tiles:  [1, 3, 8, 10, 13, 16, 17, 19, 20, 22]\n",
      "-5.0 -12.0\n"
     ]
    },
    {
     "name": "stderr",
     "output_type": "stream",
     "text": [
      "ic| self.path_models+ '/' + self.method +'_'+str(0)+'.h5': 'D:/Jorge/datasets/deforestation/experiments/MT/exp1125/models/resunet_0.h5'\n"
     ]
    },
    {
     "name": "stdout",
     "output_type": "stream",
     "text": [
      "time:  0\n",
      "time:  1\n",
      "time:  2\n",
      "time:  3\n",
      "time:  4\n",
      "time:  5\n",
      "time:  6\n",
      "time:  7\n",
      "time:  8\n",
      "time:  9\n",
      "(44657480,)\n",
      "(array([0, 1], dtype=uint8), array([43783238,   874242], dtype=int64))\n",
      "(16795, 10420)\n",
      "(array([0., 1.], dtype=float32), array([172368748,   2635152], dtype=int64))\n"
     ]
    },
    {
     "name": "stderr",
     "output_type": "stream",
     "text": [
      "ic| self.predicted_unpad.shape: (16795, 10420)\n",
      "    self.predicted.shape: (16795, 10420)\n",
      "ic| predicted_test.shape: (70001560,)\n",
      "ic| predicted_test.shape: (44657480,)\n",
      "ic| np.unique(predicted, return_counts=True): (array([0., 1.], dtype=float32), array([172368748,   2635152], dtype=int64))\n",
      "    np.unique(predicted_larger_than_min_area, return_counts=True): (array([0., 1.], dtype=float32), array([172652044,   2351856], dtype=int64))\n",
      "ic| np.unique(ignored_polygons, return_counts=True): (array([0., 1.], dtype=float32), array([174720604,    283296], dtype=int64))\n",
      "ic| predicted.shape: (16795, 10420), label_mask.shape: (16795, 10420)\n",
      "ic| predicted_masked.shape: (70001560,)\n",
      "    label_masked.shape: (70001560,)\n",
      "ic| np.unique(label_masked, return_counts=True): (array([0, 1, 2], dtype=uint8),\n",
      "                                                  array([43691357,   858139, 25452064], dtype=int64))\n",
      "ic| predicted_masked.shape: (44549496,)\n",
      "    label_masked.shape: (44549496,)\n",
      "ic| self.f1: 80.79, self.precision: 82.34, self.recall: 79.29\n",
      "ic| self.label_mask_val.shape: (21000468,)\n",
      "ic| self.label_mask_val_valid.shape: (11779798,)\n",
      "ic| f1_val: 96.75\n",
      "    precision_val: 96.56\n",
      "    recall_val: 96.93\n",
      "    mAP_val: 99.31\n"
     ]
    },
    {
     "name": "stdout",
     "output_type": "stream",
     "text": [
      "(array([0., 1.], dtype=float32), array([174016298,    987602], dtype=int64))\n"
     ]
    },
    {
     "name": "stderr",
     "output_type": "stream",
     "text": [
      "ic| self.label_mask.shape: (16795, 10420)\n",
      "ic| self.mask_amazon_ts.shape: (16795, 10420)\n",
      "ic| self.label_mask_test.shape: (70001560,)\n",
      "ic| self.error_mask_test.shape: (44549496,)\n",
      "ic| bounds: (0.0015, 0.3663794801235199)\n",
      "c:\\Users\\jchamorro\\Anaconda3\\envs\\tf2\\lib\\site-packages\\scipy\\optimize\\_minimize.py:783: RuntimeWarning: Method 'bounded' does not support relative tolerance in x; defaulting to absolute tolerance.\n",
      "  warn(\"Method 'bounded' does not support relative tolerance in x; \"\n"
     ]
    },
    {
     "name": "stdout",
     "output_type": "stream",
     "text": [
      "0.1408715596097929\n",
      "threshold 0.1408715596097929\n",
      "(43094911,) (43094911,)\n"
     ]
    },
    {
     "name": "stderr",
     "output_type": "stream",
     "text": [
      "ic| label_current_deforestation_test_classified_incorrect.shape: (1454585,)\n",
      "    predicted_test_classified_incorrect.shape: (1454585,)\n",
      "ic"
     ]
    },
    {
     "name": "stdout",
     "output_type": "stream",
     "text": [
      "cm_correct [[42406328    67202]\n",
      " [   54890   566491]]\n",
      "cm_incorrect [[1139118   78709]\n",
      " [ 122794  113964]]\n"
     ]
    },
    {
     "name": "stderr",
     "output_type": "stream",
     "text": [
      "| TP_H + FN_H + FP_H + TN_H: 1454585\n",
      "    len(label_mask_current_deforestation_test): 44549496\n",
      "ic| TP_H + FN_H + FP_H + TN_H: 1454585\n",
      "    len(label_mask_current_deforestation_test): 44549496\n"
     ]
    },
    {
     "name": "stdout",
     "output_type": "stream",
     "text": [
      "[0.8939518  0.9116645  0.66013898 0.03265099 0.59148921 0.48135227]\n",
      "0.22700792051372695\n",
      "threshold 0.22700792051372695\n",
      "(43641713,) (43641713,)\n"
     ]
    },
    {
     "name": "stderr",
     "output_type": "stream",
     "text": [
      "ic| label_current_deforestation_test_classified_incorrect.shape: (907783,)\n",
      "    predicted_test_classified_incorrect.shape: (907783,)\n",
      "ic| TP_H + FN_H + FP_H + TN_H: 907783\n",
      "    len(label_mask_current_deforestation_test): 44549496\n",
      "ic| TP_H + FN_H + FP_H + TN_H: 907783\n",
      "    len(label_mask_current_deforestation_test): 44549496\n"
     ]
    },
    {
     "name": "stdout",
     "output_type": "stream",
     "text": [
      "cm_correct [[42854426    94068]\n",
      " [   78508   614711]]\n",
      "cm_incorrect [[691020  51843]\n",
      " [ 99176  65744]]\n",
      "[0.86728162 0.88674863 0.71633034 0.02037695 0.55910943 0.39864177]\n",
      "0.08763636090393405\n",
      "threshold 0.08763636090393405\n",
      "(42407912,) (42407912,)\n"
     ]
    },
    {
     "name": "stderr",
     "output_type": "stream",
     "text": [
      "ic| label_current_deforestation_test_classified_incorrect.shape: (2141584,)\n",
      "    predicted_test_classified_incorrect.shape: (2141584,)\n"
     ]
    },
    {
     "name": "stdout",
     "output_type": "stream",
     "text": [
      "cm_correct [[41791040    51858]\n",
      " [   36497   528517]]\n"
     ]
    },
    {
     "name": "stderr",
     "output_type": "stream",
     "text": [
      "ic| TP_H + FN_H + FP_H + TN_H: 2141584\n",
      "    len(label_mask_current_deforestation_test): 44549496\n",
      "ic| TP_H + FN_H + FP_H + TN_H: 2141584\n",
      "    len(label_mask_current_deforestation_test): 44549496\n"
     ]
    },
    {
     "name": "stdout",
     "output_type": "stream",
     "text": [
      "cm_incorrect [[1754406   94053]\n",
      " [ 141187  151938]]\n",
      "[0.91064743 0.93540514 0.6158874  0.04807201 0.61765674 0.51833859]\n",
      "0.1687205825778123\n",
      "threshold 0.1687205825778123\n",
      "(43306673,) (43306673,)\n"
     ]
    },
    {
     "name": "stderr",
     "output_type": "stream",
     "text": [
      "ic| label_current_deforestation_test_classified_incorrect.shape: (1242823,)\n",
      "    predicted_test_classified_incorrect.shape: (1242823,)\n",
      "ic| TP_H + FN_H + FP_H + TN_H: 1242823\n",
      "    len(label_mask_current_deforestation_test): 44549496\n",
      "ic| TP_H + FN_H + FP_H + TN_H: 1242823\n",
      "    len(label_mask_current_deforestation_test): 44549496\n"
     ]
    },
    {
     "name": "stdout",
     "output_type": "stream",
     "text": [
      "cm_correct [[42585834    75465]\n",
      " [   62938   582436]]\n",
      "cm_incorrect [[959612  70446]\n",
      " [114746  98019]]\n",
      "[0.88529429 0.90247825 0.67871988 0.02789758 0.58183599 0.46069137]\n",
      "0.16050022454666965\n",
      "threshold 0.16050022454666965\n",
      "(43249080,) (43249080,)\n"
     ]
    },
    {
     "name": "stderr",
     "output_type": "stream",
     "text": [
      "ic| label_current_deforestation_test_classified_incorrect.shape: (1300416,)\n",
      "    predicted_test_classified_incorrect.shape: (1300416,)\n",
      "ic| TP_H + FN_H + FP_H + TN_H: 1300416\n",
      "    len(label_mask_current_deforestation_test): 44549496\n",
      "ic| TP_H + FN_H + FP_H + TN_H: 1300416\n",
      "    len"
     ]
    },
    {
     "name": "stdout",
     "output_type": "stream",
     "text": [
      "cm_correct [[42537632    73020]\n",
      " [   60632   577796]]\n",
      "cm_incorrect [[1007814   72891]\n",
      " [ 117052  102659]]\n"
     ]
    },
    {
     "name": "stderr",
     "output_type": "stream",
     "text": [
      "(label_mask_current_deforestation_test): 44549496\n"
     ]
    },
    {
     "name": "stdout",
     "output_type": "stream",
     "text": [
      "[0.88780239 0.90502923 0.67331283 0.02919036 0.58478496 0.46724561]\n",
      "0.15588849796858228\n",
      "threshold 0.15588849796858228\n",
      "(43215222,) (43215222,)\n"
     ]
    },
    {
     "name": "stderr",
     "output_type": "stream",
     "text": [
      "ic| label_current_deforestation_test_classified_incorrect.shape: (1334274,)\n",
      "    predicted_test_classified_incorrect.shape: (1334274,)\n",
      "ic| TP_H + FN_H + FP_H + TN_H: 1334274\n",
      "    len(label_mask_current_deforestation_test): 44549496\n",
      "ic|"
     ]
    },
    {
     "name": "stdout",
     "output_type": "stream",
     "text": [
      "cm_correct [[42509047    71706]\n",
      " [   59299   575170]]\n",
      "cm_incorrect [[1036399   74205]\n",
      " [ 118385  105285]]\n"
     ]
    },
    {
     "name": "stderr",
     "output_type": "stream",
     "text": [
      " TP_H + FN_H + FP_H + TN_H: 1334274\n",
      "    len(label_mask_current_deforestation_test): 44549496\n"
     ]
    },
    {
     "name": "stdout",
     "output_type": "stream",
     "text": [
      "[0.88915032 0.90653759 0.67025272 0.02995037 0.58657864 0.47071579]\n",
      "0.1501525379224868\n",
      "threshold 0.1501525379224868\n",
      "(43171324,) (43171324,)\n"
     ]
    },
    {
     "name": "stderr",
     "output_type": "stream",
     "text": [
      "ic| label_current_deforestation_test_classified_incorrect.shape: (1378172,)\n",
      "    predicted_test_classified_incorrect.shape: (1378172,)\n",
      "ic| TP_H + FN_H +"
     ]
    },
    {
     "name": "stdout",
     "output_type": "stream",
     "text": [
      "cm_correct [[42471757    70012]\n",
      " [   57630   571925]]\n",
      "cm_incorrect [[1073689   75899]\n",
      " [ 120054  108530]]\n"
     ]
    },
    {
     "name": "stderr",
     "output_type": "stream",
     "text": [
      " FP_H + TN_H: 1378172\n",
      "    len(label_mask_current_deforestation_test): 44549496\n",
      "ic| TP_H + FN_H + FP_H + TN_H: 1378172\n",
      "    len(label_mask_current_deforestation_test): 44549496\n"
     ]
    },
    {
     "name": "stdout",
     "output_type": "stream",
     "text": [
      "[0.89093634 0.90845915 0.66647128 0.03093575 0.58846494 0.47479264]\n",
      "0.15552387340240864\n",
      "threshold 0.15552387340240864\n",
      "(43212544,) (43212544,)\n"
     ]
    },
    {
     "name": "stderr",
     "output_type": "stream",
     "text": [
      "ic| label_current_deforestation_test_classified_incorrect.shape: (1336952,)\n",
      "    predicted_test_classified_incorrect.shape: (1336952,)\n",
      "ic| TP_H + FN_H + FP_H + TN_H: "
     ]
    },
    {
     "name": "stdout",
     "output_type": "stream",
     "text": [
      "cm_correct [[42506784    71607]\n",
      " [   59187   574966]]\n",
      "cm_incorrect [[1038662   74304]\n",
      " [ 118497  105489]]\n"
     ]
    },
    {
     "name": "stderr",
     "output_type": "stream",
     "text": [
      "1336952\n",
      "    len(label_mask_current_deforestation_test): 44549496\n",
      "ic| TP_H + FN_H + FP_H + TN_H: 1336952\n",
      "    len(label_mask_current_deforestation_test): 44549496\n"
     ]
    },
    {
     "name": "stdout",
     "output_type": "stream",
     "text": [
      "[0.88925148 0.90666763 0.670015   0.03001049 0.58672473 0.47096247]\n",
      "0.15347220581405674\n",
      "threshold 0.15347220581405674\n",
      "(43196985,) (43196985,)\n"
     ]
    },
    {
     "name": "stderr",
     "output_type": "stream",
     "text": [
      "ic| label_current_deforestation_test_classified_incorrect.shape: (1352511,)\n",
      "    predicted_test_classified_incorrect.shape: (1352511,)\n",
      "ic| TP_H + FN_H + FP_H + TN_H: 1352511\n",
      "    len(label_mask_current_deforestation_test): 44549496\n",
      "ic| TP_H + FN_H + FP_H + TN_H: 1352511\n",
      "    len(label_mask_current_deforestation_test): 44549496\n"
     ]
    },
    {
     "name": "stdout",
     "output_type": "stream",
     "text": [
      "cm_correct [[42493632    70998]\n",
      " [   58574   573781]]\n",
      "cm_incorrect [[1051814   74913]\n",
      " [ 119110  106674]]\n",
      "[0.88988785 0.90737165 0.6686341  0.03035974 0.58745395 0.4724604 ]\n",
      "0.1552389527817752\n",
      "threshold 0.1552389527817752\n",
      "(43210445,) (43210445,)\n"
     ]
    },
    {
     "name": "stderr",
     "output_type": "stream",
     "text": [
      "ic| label_current_deforestation_test_classified_incorrect.shape: (1339051,)\n",
      "    predicted_test_classified_incorrect.shape: (1339051,)\n",
      "ic| TP_H + FN_H + FP_H + TN_H: 1339051\n",
      "    len(label_mask_current_deforestation_test): 44549496\n",
      "ic| TP_H + FN_H + FP_H + TN_H: 1339051\n",
      "    len(label_mask_current_deforestation_test): 44549496\n"
     ]
    },
    {
     "name": "stdout",
     "output_type": "stream",
     "text": [
      "cm_correct [[42505023    71528]\n",
      " [   59094   574800]]\n",
      "cm_incorrect [[1040423   74383]\n",
      " [ 118590  105655]]\n",
      "[0.88933173 0.90677621 0.66982156 0.0300576  0.58684833 0.47115878]\n",
      "0.15557834513804558\n",
      "threshold 0.15557834513804558\n",
      "(43212921,) (43212921,)\n"
     ]
    },
    {
     "name": "stderr",
     "output_type": "stream",
     "text": [
      "ic| label_current_deforestation_test_classified_incorrect.shape: (1336575,)\n",
      "    predicted_test_classified_incorrect.shape: (1336575,)\n",
      "ic| TP_H + FN_H + FP_H + TN_H: 1336575\n",
      "    len(label_mask_current_deforestation_test): 44549496\n",
      "ic| TP_H + FN_H + FP_H + TN_H: 1336575\n",
      "    len(label_mask_current_deforestation_test): 44549496\n"
     ]
    },
    {
     "name": "stdout",
     "output_type": "stream",
     "text": [
      "cm_correct [[42507106    71618]\n",
      " [   59200   574997]]\n",
      "cm_incorrect [[1038340   74293]\n",
      " [ 118484  105458]]\n",
      "[0.88924167 0.90665361 0.67005112 0.03000202 0.58668936 0.47091658]\n",
      "0.15564281683662992\n",
      "threshold 0.15564281683662992\n",
      "(43213397,) (43213397,)\n"
     ]
    },
    {
     "name": "stderr",
     "output_type": "stream",
     "text": [
      "ic| label_current_deforestation_test_classified_incorrect.shape: (1336099,)\n",
      "    predicted_test_classified_incorrect.shape: (1336099,)\n",
      "ic| TP_H + FN_H + FP_H + TN_H: 1336099\n",
      "    len(label_mask_current_deforestation_test): 44549496\n",
      "ic| TP_H + FN_H + FP_H + TN_H: 1336099\n",
      "    len(label_mask_current_deforestation_test): "
     ]
    },
    {
     "name": "stdout",
     "output_type": "stream",
     "text": [
      "cm_correct [[42507494    71642]\n",
      " [   59219   575042]]\n",
      "cm_incorrect [[1037952   74269]\n",
      " [ 118465  105413]]\n"
     ]
    },
    {
     "name": "stderr",
     "output_type": "stream",
     "text": [
      "44549496\n",
      "ic| self.threshold_optimal: 0.15557834513804558\n"
     ]
    },
    {
     "name": "stdout",
     "output_type": "stream",
     "text": [
      "[0.88921637 0.90663307 0.67010356 0.02999134 0.58666422 0.4708502 ]\n",
      "threshold 0.15557834513804558\n",
      "(43212921,) (43212921,)\n"
     ]
    },
    {
     "name": "stderr",
     "output_type": "stream",
     "text": [
      "ic| label_current_deforestation_test_classified_incorrect.shape: (1336575,)\n",
      "    predicted_test_classified_incorrect.shape: (1336575,)\n",
      "ic| TP_H + FN_H + FP_H + TN_H: 1336575\n",
      "    len(label_mask_current_deforestation_test): 44549496\n",
      "ic| TP_H + FN_H + FP_H + TN_H: 1336575\n",
      "    len(label_mask_current_deforestation_test): 44549496\n"
     ]
    },
    {
     "name": "stdout",
     "output_type": "stream",
     "text": [
      "cm_correct [[42507106    71618]\n",
      " [   59200   574997]]\n",
      "cm_incorrect [[1038340   74293]\n",
      " [ 118484  105458]]\n",
      "[0.88924167 0.90665361 0.67005112 0.03000202 0.58668936 0.47091658]\n",
      "threshold 0.15557834513804558\n",
      "(44549496,) (44549496,)\n"
     ]
    },
    {
     "name": "stderr",
     "output_type": "stream",
     "text": [
      "ic| self.m_optimal: {'AA': array([0.03000202]),\n",
      "                     'f1': 80.79,\n",
      "                     'f1_H': array([0.52246633]),\n",
      "                     'f1_L': array([0.89786323]),\n",
      "                     'precision_H': array([0.58668936]),\n",
      "                     'precision_L': array([0.88924167]),\n",
      "                     'recall_H': array([0.47091658]),\n",
      "                     'recall_L': array([0.90665361]),\n",
      "                     'recall_Ltotal': array([0.67005112])}\n",
      "ic| self.m_audited_optimal: {'f1': array([0.92432562]),\n",
      "                             'precision': array([0.91773313]),\n",
      "                             'recall': array([0.93101351])}\n"
     ]
    },
    {
     "name": "stdout",
     "output_type": "stream",
     "text": [
      "cm_audited [[43619739    71618]\n",
      " [   59200   798939]]\n",
      "[0.91773313 0.93101351]\n"
     ]
    },
    {
     "name": "stderr",
     "output_type": "stream",
     "text": [
      "ic| self.label_mask.shape: (16795, 10420)\n",
      "ic| self.mask_amazon_ts.shape: (16795, 10420)\n",
      "ic| self.label_mask_test.shape: (70001560,)\n",
      "ic| self.error_mask_test.shape: (44549496,)\n",
      "ic| bounds: (0.0015, 0.1998661414384842)\n",
      "c:\\Users\\jchamorro\\Anaconda3\\envs\\tf2\\lib\\site-packages\\scipy\\optimize\\_minimize.py:783: RuntimeWarning: Method 'bounded' does not support relative tolerance in x; defaulting to absolute tolerance.\n",
      "  warn(\"Method 'bounded' does not support relative tolerance in x; \"\n"
     ]
    },
    {
     "name": "stdout",
     "output_type": "stream",
     "text": [
      "0.07726912381233199\n",
      "threshold 0.07726912381233199\n",
      "(44517282,) (44517282,)\n"
     ]
    },
    {
     "name": "stderr",
     "output_type": "stream",
     "text": [
      "ic| label_current_deforestation_test_classified_incorrect.shape: (32214,)\n",
      "    predicted_test_classified_incorrect.shape: (32214,)\n",
      "ic| TP_H + FN_H + FP_H + TN_H: 32214\n",
      "    len(label_mask_current_deforestation_test): 44549496\n",
      "ic| TP_H + FN_H + FP_H + TN_H: 32214\n",
      "    len(label_mask_current_deforestation_test): 44549496\n"
     ]
    },
    {
     "name": "stdout",
     "output_type": "stream",
     "text": [
      "cm_correct [[43530868   133201]\n",
      " [  176381   676832]]\n",
      "cm_incorrect [[14578 12710]\n",
      " [ 1303  3623]]\n",
      "[8.35561020e-01 7.93274364e-01 7.88720708e-01 7.23105824e-04\n",
      " 2.21820853e-01 7.35485181e-01]\n",
      "0.12409701762615218\n",
      "threshold 0.12409701762615218\n",
      "(44543971,) (44543971,)\n"
     ]
    },
    {
     "name": "stderr",
     "output_type": "stream",
     "text": [
      "ic| label_current_deforestation_test_classified_incorrect.shape: (5525,)\n",
      "    predicted_test_classified_incorrect.shape: (5525,)\n",
      "ic| TP_H + FN_H + FP_H + TN_H: 5525\n",
      "    len(label_mask_current_deforestation_test): 44549496\n",
      "ic| TP_H + FN_H + FP_H + TN_H: 5525\n",
      "    len(label_mask_current_deforestation_test): 44549496\n"
     ]
    },
    {
     "name": "stdout",
     "output_type": "stream",
     "text": [
      "cm_correct [[43543475   143599]\n",
      " [  177430   679467]]\n",
      "cm_incorrect [[1971 2312]\n",
      " [ 254  988]]\n",
      "[8.25531610e-01 7.92938941e-01 7.91791307e-01 1.24019360e-04\n",
      " 2.99393939e-01 7.95491143e-01]\n",
      "0.04832789381382018\n",
      "threshold 0.04832789381382018\n",
      "(44468964,) (44468964,)\n"
     ]
    },
    {
     "name": "stderr",
     "output_type": "stream",
     "text": [
      "ic| label_current_deforestation_test_classified_incorrect.shape: (80532,)\n",
      "    predicted_test_classified_incorrect.shape: (80532,)\n",
      "ic| TP_H + FN_H + FP_H + TN_H: 80532\n",
      "    len(label_mask_current_deforestation_test): 44549496\n",
      "ic| TP_H + FN_H + FP_H + TN_H: 80532\n",
      "    len(label_mask_current_deforestation_test): 44549496\n"
     ]
    },
    {
     "name": "stdout",
     "output_type": "stream",
     "text": [
      "cm_correct [[43505203   120794]\n",
      " [  172988   669979]]\n",
      "cm_incorrect [[40243 25117]\n",
      " [ 4696 10476]]\n",
      "[0.84724567 0.79478675 0.78073482 0.0018077  0.29432754 0.69048247]\n",
      "0.030441229998511815\n",
      "threshold 0.030441229998511815\n",
      "(44373289,) (44373289,)\n"
     ]
    },
    {
     "name": "stderr",
     "output_type": "stream",
     "text": [
      "ic| label_current_deforestation_test_classified_incorrect.shape: (176207,)\n",
      "    predicted_test_classified_incorrect.shape: (176207,)\n",
      "ic| TP_H + FN_H + FP_H + TN_H: 176207\n",
      "    len(label_mask_current_deforestation_test): 44549496\n",
      "ic| TP_H + FN_H + FP_H + TN_H: 176207\n",
      "    len(label_mask_current_deforestation_test): 44549496\n"
     ]
    },
    {
     "name": "stdout",
     "output_type": "stream",
     "text": [
      "cm_correct [[43450367   103129]\n",
      " [  164233   655560]]\n",
      "cm_incorrect [[95079 42782]\n",
      " [13451 24895]]\n",
      "[0.86406947 0.79966528 0.76393218 0.00395531 0.36785023 0.64922026]\n",
      "0.019386663815308375\n",
      "threshold 0.019386663815308375\n",
      "(44232115,) (44232115,)\n"
     ]
    },
    {
     "name": "stderr",
     "output_type": "stream",
     "text": [
      "ic| label_current_deforestation_test_classified_incorrect.shape: (317381,)\n",
      "    predicted_test_classified_incorrect.shape: (317381,)\n",
      "ic| TP_H + FN_H + FP_H + TN_H: 317381\n",
      "    len(label_mask_current_deforestation_test): 44549496\n",
      "ic| TP_H + FN_H + FP_H + TN_H: 317381\n",
      "    len(label_mask_current_deforestation_test): 44549496\n"
     ]
    },
    {
     "name": "stdout",
     "output_type": "stream",
     "text": [
      "cm_correct [[43364240    85410]\n",
      " [  150710   631755]]\n",
      "cm_incorrect [[181206  60501]\n",
      " [ 26974  48700]]\n",
      "[0.88090607 0.80739075 0.73619192 0.00712423 0.44596661 0.64354996]\n",
      "0.012554566183203449\n",
      "threshold 0.012554566183203449\n",
      "(44061843,) (44061843,)\n"
     ]
    },
    {
     "name": "stderr",
     "output_type": "stream",
     "text": [
      "ic| label_current_deforestation_test_classified_incorrect.shape: (487653,)\n",
      "    predicted_test_classified_incorrect.shape: (487653,)\n",
      "ic| TP_H + FN_H + FP_H + TN_H: 487653\n",
      "    len(label_mask_current_deforestation_test): 44549496\n",
      "ic| TP_H + FN_H + FP_H + TN_H: 487653\n",
      "    len(label_mask_current_deforestation_test): 44549496\n"
     ]
    },
    {
     "name": "stdout",
     "output_type": "stream",
     "text": [
      "cm_correct [[43254608    70685]\n",
      " [  135633   600917]]\n",
      "cm_incorrect [[290838  75226]\n",
      " [ 42051  79538]]\n",
      "[0.89475165 0.81585364 0.70025602 0.01094632 0.51393089 0.65415457]\n",
      "0.008332097632104928\n",
      "threshold 0.008332097632104928\n",
      "(43883279,) (43883279,)\n"
     ]
    },
    {
     "name": "stderr",
     "output_type": "stream",
     "text": [
      "ic| label_current_deforestation_test_classified_incorrect.shape: (666217,)\n",
      "    predicted_test_classified_incorrect.shape: (666217,)\n",
      "ic| TP_H + FN_H + FP_H + TN_H: 666217\n",
      "    len(label_mask_current_deforestation_test): 44549496\n",
      "ic| TP_H + FN_H + FP_H + TN_H: 666217\n",
      "    len(label_mask_current_deforestation_test): 44549496\n"
     ]
    },
    {
     "name": "stdout",
     "output_type": "stream",
     "text": [
      "cm_correct [[43132896    59979]\n",
      " [  120204   570200]]\n",
      "cm_incorrect [[412550  85932]\n",
      " [ 57480 110255]]\n",
      "[0.90482228 0.82589325 0.66446112 0.01495454 0.56198933 0.6573166 ]\n",
      "0.005722468551098521\n",
      "threshold 0.005722468551098521\n",
      "(43701621,) (43701621,)\n"
     ]
    },
    {
     "name": "stderr",
     "output_type": "stream",
     "text": [
      "ic| label_current_deforestation_test_classified_incorrect.shape: (847875,)\n",
      "    predicted_test_classified_incorrect.shape: (847875,)\n",
      "ic| TP_H + FN_H + FP_H + TN_H: 847875\n",
      "    len(label_mask_current_deforestation_test): 44549496\n",
      "ic| TP_H + FN_H + FP_H + TN_H: 847875\n",
      "    len(label_mask_current_deforestation_test): 44549496\n"
     ]
    },
    {
     "name": "stdout",
     "output_type": "stream",
     "text": [
      "cm_correct [[43000096    52381]\n",
      " [  104889   544255]]\n",
      "cm_incorrect [[545350  93530]\n",
      " [ 72795 136200]]\n",
      "[0.9122061  0.83841952 0.63422709 0.0190322  0.59286989 0.65169023]\n",
      "0.004109629081006408\n",
      "threshold 0.004109629081006408\n",
      "(43520168,) (43520168,)\n"
     ]
    },
    {
     "name": "stderr",
     "output_type": "stream",
     "text": [
      "ic| label_current_deforestation_test_classified_incorrect.shape: (1029328,)\n",
      "    predicted_test_classified_incorrect.shape: (1029328,)\n",
      "ic| TP_H + FN_H + FP_H + TN_H: 1029328\n",
      "    len(label_mask_current_deforestation_test): 44549496\n",
      "ic| TP_H + FN_H + FP_H + TN_H: 1029328\n",
      "    len(label_mask_current_deforestation_test): 44549496\n"
     ]
    },
    {
     "name": "stdout",
     "output_type": "stream",
     "text": [
      "cm_correct [[42857544    46987]\n",
      " [   91717   523920]]\n",
      "cm_incorrect [[687902  98924]\n",
      " [ 85967 156535]]\n",
      "[0.91769763 0.85102098 0.61053046 0.02310527 0.61275978 0.64549983]\n",
      "0.003112839470092113\n",
      "threshold 0.003112839470092113\n",
      "(43355189,) (43355189,)\n"
     ]
    },
    {
     "name": "stderr",
     "output_type": "stream",
     "text": [
      "ic| label_current_deforestation_test_classified_incorrect.shape: (1194307,)\n",
      "    predicted_test_classified_incorrect.shape: (1194307,)\n",
      "ic| TP_H + FN_H + FP_H + TN_H: 1194307\n",
      "    len(label_mask_current_deforestation_test): 44549496\n",
      "ic| TP_H + FN_H + FP_H + TN_H: 1194307\n",
      "    len(label_mask_current_deforestation_test): 44549496\n"
     ]
    },
    {
     "name": "stdout",
     "output_type": "stream",
     "text": [
      "cm_correct [[42722420    42981]\n",
      " [   81898   507890]]\n",
      "cm_incorrect [[823026 102930]\n",
      " [ 95786 172565]]\n",
      "[0.92197629 0.86113994 0.5918505  0.02680854 0.6263816  0.64305704]\n",
      "0.0024967896109142954\n",
      "threshold 0.0024967896109142954\n",
      "(43217127,) (43217127,)\n"
     ]
    },
    {
     "name": "stderr",
     "output_type": "stream",
     "text": [
      "ic| label_current_deforestation_test_classified_incorrect.shape: (1332369,)\n",
      "    predicted_test_classified_incorrect.shape: (1332369,)\n",
      "ic| TP_H + FN_H + FP_H + TN_H: 1332369\n",
      "    len(label_mask_current_deforestation_test): 44549496\n",
      "ic| TP_H + FN_H + FP_H + TN_H: 1332369\n",
      "    len(label_mask_current_deforestation_test): 44549496\n"
     ]
    },
    {
     "name": "stdout",
     "output_type": "stream",
     "text": [
      "cm_correct [[42606043    40099]\n",
      " [   74799   496186]]\n",
      "cm_incorrect [[939403 105812]\n",
      " [102885 184269]]\n",
      "[0.92522819 0.86900006 0.57821169 0.02990761 0.63523292 0.64170793]\n",
      "0.002116049859177818\n",
      "threshold 0.002116049859177818\n",
      "(43110753,) (43110753,)\n"
     ]
    },
    {
     "name": "stderr",
     "output_type": "stream",
     "text": [
      "ic| label_current_deforestation_test_classified_incorrect.shape: (1438743,)\n",
      "    predicted_test_classified_incorrect.shape: (1438743,)\n",
      "ic| TP_H + FN_H + FP_H + TN_H: 1438743\n",
      "    len(label_mask_current_deforestation_test): 44549496\n",
      "ic| TP_H + FN_H + FP_H + TN_H"
     ]
    },
    {
     "name": "stdout",
     "output_type": "stream",
     "text": [
      "cm_correct [[42514935    38110]\n",
      " [   69978   487730]]\n",
      "cm_incorrect [[1030511  107801]\n",
      " [ 107706  192725]]\n"
     ]
    },
    {
     "name": "stderr",
     "output_type": "stream",
     "text": [
      ": 1438743\n",
      "    len(label_mask_current_deforestation_test): 44549496\n"
     ]
    },
    {
     "name": "stdout",
     "output_type": "stream",
     "text": [
      "[0.92752548 0.87452574 0.56835781 0.03229538 0.64129227 0.64149505]\n",
      "0.0025730234465520863\n",
      "threshold 0.0025730234465520863\n",
      "(43236373,) (43236373,)\n"
     ]
    },
    {
     "name": "stderr",
     "output_type": "stream",
     "text": [
      "ic| label_current_deforestation_test_classified_incorrect.shape: (1313123,)\n",
      "    predicted_test_classified_incorrect.shape: (1313123,)\n",
      "ic| TP_H + FN_H + FP_H + TN_H: 1313123\n",
      "    len(label_mask_current_deforestation_test): 44549496\n",
      "ic| TP_H + FN_H + FP_H + TN_H: 1313123\n",
      "    len(label_mask_current_deforestation_test): 44549496\n"
     ]
    },
    {
     "name": "stdout",
     "output_type": "stream",
     "text": [
      "cm_correct [[42622528    40453]\n",
      " [   75738   497654]]\n",
      "cm_incorrect [[922918 105458]\n",
      " [101946 182801]]\n",
      "[0.9248235  0.86791235 0.57992237 0.0294756  0.63415539 0.64197691]\n",
      "0.002421851445072717\n",
      "threshold 0.002421851445072717\n",
      "(43197719,) (43197719,)\n"
     ]
    },
    {
     "name": "stderr",
     "output_type": "stream",
     "text": [
      "ic| label_current_deforestation_test_classified_incorrect.shape: (1351777,)\n",
      "    predicted_test_classified_incorrect.shape: (1351777,)\n",
      "ic| TP_H + FN_H + FP_H + TN_H: 1351777\n",
      "    len(label_mask_current_deforestation_test): 44549496\n",
      "ic| TP_H + FN_H + FP_H + TN_H: 1351777\n",
      "    len(label_mask_current_deforestation_test): 44549496\n"
     ]
    },
    {
     "name": "stdout",
     "output_type": "stream",
     "text": [
      "cm_correct [[42589523    39728]\n",
      " [   73871   494597]]\n",
      "cm_incorrect [[955923 106183]\n",
      " [103813 185858]]\n",
      "[0.92564825 0.87005249 0.57636001 0.03034326 0.63641064 0.64161756]\n",
      "0.0025301229812810036\n",
      "threshold 0.0025301229812810036\n",
      "(43225469,) (43225469,)\n"
     ]
    },
    {
     "name": "stderr",
     "output_type": "stream",
     "text": [
      "ic| label_current_deforestation_test_classified_incorrect.shape: (1324027,)\n",
      "    predicted_test_classified_incorrect.shape: (1324027,)\n",
      "ic| TP_H + FN_H + FP_H + TN_H: 1324027\n",
      "    len(label_mask_current_deforestation_test): 44549496\n",
      "ic| TP_H + FN_H + FP_H + TN_H: 1324027\n"
     ]
    },
    {
     "name": "stdout",
     "output_type": "stream",
     "text": [
      "cm_correct [[42613196    40244]\n",
      " [   75209   496820]]\n",
      "cm_incorrect [[932250 105667]\n",
      " [102475 183635]]\n"
     ]
    },
    {
     "name": "stderr",
     "output_type": "stream",
     "text": [
      "    len(label_mask_current_deforestation_test): 44549496\n"
     ]
    },
    {
     "name": "stdout",
     "output_type": "stream",
     "text": [
      "[0.92506666 0.8685224  0.5789505  0.02972036 0.63475192 0.64183356]\n",
      "0.002463456240547587\n",
      "threshold 0.002463456240547587\n",
      "(43208502,) (43208502,)\n"
     ]
    },
    {
     "name": "stderr",
     "output_type": "stream",
     "text": [
      "ic| label_current_deforestation_test_classified_incorrect.shape: (1340994,)\n",
      "    predicted_test_classified_incorrect.shape: (1340994,)\n",
      "ic| TP_H + FN_H + FP_H + TN_H: 1340994\n",
      "    len(label_mask_current_deforestation_test): 44549496\n",
      "ic| TP_H + FN_H + FP_H + TN_H: 1340994\n",
      "    len(label_mask_current_deforestation_test): 44549496\n"
     ]
    },
    {
     "name": "stdout",
     "output_type": "stream",
     "text": [
      "cm_correct [[42598688    39938]\n",
      " [   74387   495489]]\n",
      "cm_incorrect [[946758 105973]\n",
      " [103297 184966]]\n",
      "[0.92540907 0.86946809 0.57739947 0.03010122 0.63575526 0.6416571 ]\n"
     ]
    },
    {
     "name": "stderr",
     "output_type": "stream",
     "text": [
      "ic| self.threshold_optimal: 0.0024967896109142954\n"
     ]
    },
    {
     "name": "stdout",
     "output_type": "stream",
     "text": [
      "threshold 0.0024967896109142954\n",
      "(43217127,) (43217127,)\n"
     ]
    },
    {
     "name": "stderr",
     "output_type": "stream",
     "text": [
      "ic| label_current_deforestation_test_classified_incorrect.shape: (1332369,)\n",
      "    predicted_test_classified_incorrect.shape: (1332369,)\n",
      "ic| TP_H + FN_H + FP_H + TN_H: 1332369\n",
      "    len(label_mask_current_deforestation_test): 44549496\n",
      "ic| TP_H + FN_H + FP_H + TN_H: 1332369\n",
      "    len(label_mask_current_deforestation_test): 44549496\n"
     ]
    },
    {
     "name": "stdout",
     "output_type": "stream",
     "text": [
      "cm_correct [[42606043    40099]\n",
      " [   74799   496186]]\n",
      "cm_incorrect [[939403 105812]\n",
      " [102885 184269]]\n",
      "[0.92522819 0.86900006 0.57821169 0.02990761 0.63523292 0.64170793]\n",
      "threshold 0.0024967896109142954\n",
      "(44549496,) (44549496,)\n"
     ]
    },
    {
     "name": "stderr",
     "output_type": "stream",
     "text": [
      "ic| self.m_optimal: {'AA': array([0.02990761]),\n",
      "                     'f1': 80.79,\n",
      "                     'f1_H': array([0.63845401]),\n",
      "                     'f1_L': array([0.89623308]),\n",
      "                     'precision_H': array([0.63523292]),\n",
      "                     'precision_L': array([0.92522819]),\n",
      "                     'recall_H': array([0.64170793]),\n",
      "                     'recall_L': array([0.86900006]),\n",
      "                     'recall_Ltotal': array([0.57821169])}\n",
      "ic| self.m_audited_optimal: {'f1': array([0.93167251]),\n",
      "                             'precision': array([0.95130301]),\n",
      "                             'recall': array([0.9128358])}\n"
     ]
    },
    {
     "name": "stdout",
     "output_type": "stream",
     "text": [
      "cm_audited [[43651258    40099]\n",
      " [   74799   783340]]\n",
      "[0.95130301 0.9128358 ]\n"
     ]
    },
    {
     "name": "stderr",
     "output_type": "stream",
     "text": [
      "ic| n: 10, K: 1\n",
      "ic| self.label_mask.shape: (16795, 10420)\n",
      "ic| self.mask_amazon_ts.shape: (16795, 10420)\n",
      "ic| self.label_mask_test.shape: (70001560,)\n",
      "ic| self.error_mask_test.shape: (44549496,)\n",
      "ic| bounds: (0.0015, 0.24215586042404175)\n",
      "c:\\Users\\jchamorro\\Anaconda3\\envs\\tf2\\lib\\site-packages\\scipy\\optimize\\_minimize.py:783: RuntimeWarning: Method 'bounded' does not support relative tolerance in x; defaulting to absolute tolerance.\n",
      "  warn(\"Method 'bounded' does not support relative tolerance in x; \"\n"
     ]
    },
    {
     "name": "stdout",
     "output_type": "stream",
     "text": [
      "0.09342235909013326\n",
      "threshold 0.09342235909013326\n",
      "(44498445,) (44498445,)\n"
     ]
    },
    {
     "name": "stderr",
     "output_type": "stream",
     "text": [
      "ic| label_current_deforestation_test_classified_incorrect.shape: (51051,)\n",
      "    predicted_test_classified_incorrect.shape: (51051,)\n",
      "ic| TP_H + FN_H + FP_H + TN_H: 51051\n",
      "    len(label_mask_current_deforestation_test): 44549496\n",
      "ic| TP_H + FN_H + FP_H + TN_H: 51051\n",
      "    len(label_mask_current_deforestation_test): 44549496\n"
     ]
    },
    {
     "name": "stdout",
     "output_type": "stream",
     "text": [
      "cm_correct [[43509128   137949]\n",
      " [  173249   678119]]\n",
      "cm_incorrect [[36318  7962]\n",
      " [ 4435  2336]]\n",
      "[0.83095894 0.79650515 0.79022047 0.00114594 0.22684016 0.34500074]\n",
      "0.15023350133390848\n",
      "threshold 0.15023350133390848\n",
      "(44538649,) (44538649,)\n"
     ]
    },
    {
     "name": "stderr",
     "output_type": "stream",
     "text": [
      "ic| label_current_deforestation_test_classified_incorrect.shape: (10847,)\n",
      "    predicted_test_classified_incorrect.shape: (10847,)\n",
      "ic| TP_H + FN_H + FP_H + TN_H: 10847\n",
      "    len(label_mask_current_deforestation_test): 44549496\n",
      "ic| TP_H + FN_H + FP_H + TN_H: 10847\n",
      "    len(label_mask_current_deforestation_test): 44549496\n"
     ]
    },
    {
     "name": "stdout",
     "output_type": "stream",
     "text": [
      "cm_correct [[43537539   144433]\n",
      " [  176905   679772]]\n",
      "cm_incorrect [[7907 1478]\n",
      " [ 779  683]]\n",
      "[8.24760830e-01 7.93498600e-01 7.92146727e-01 2.43481991e-04\n",
      " 3.16057381e-01 4.67168263e-01]\n",
      "0.05831114224377522\n",
      "threshold 0.05831114224377522\n",
      "(44404602,) (44404602,)\n"
     ]
    },
    {
     "name": "stderr",
     "output_type": "stream",
     "text": [
      "ic| label_current_deforestation_test_classified_incorrect.shape: (144894,)\n",
      "    predicted_test_classified_incorrect.shape: (144894,)\n",
      "ic| TP_H + FN_H + FP_H + TN_H: 144894\n",
      "    len(label_mask_current_deforestation_test): 44549496\n",
      "ic| TP_H + FN_H + FP_H + TN_H: 144894\n",
      "    len(label_mask_current_deforestation_test): 44549496\n"
     ]
    },
    {
     "name": "stdout",
     "output_type": "stream",
     "text": [
      "cm_correct [[43436184   128032]\n",
      " [  164957   675429]]\n",
      "cm_incorrect [[109262  17879]\n",
      " [ 12727   5026]]\n",
      "[0.84064939 0.80371282 0.78708578 0.00325243 0.21942807 0.28310708]\n",
      "0.036611216846358055\n",
      "threshold 0.036611216846358055\n",
      "(44178656,) (44178656,)\n"
     ]
    },
    {
     "name": "stderr",
     "output_type": "stream",
     "text": [
      "ic| label_current_deforestation_test_classified_incorrect.shape: (370840,)\n",
      "    predicted_test_classified_incorrect.shape: (370840,)\n",
      "ic| TP_H + FN_H + FP_H + TN_H: 370840\n",
      "    len(label_mask_current_deforestation_test): 44549496\n",
      "ic| TP_H + FN_H + FP_H + TN_H: 370840\n",
      "    len(label_mask_current_deforestation_test): 44549496\n"
     ]
    },
    {
     "name": "stdout",
     "output_type": "stream",
     "text": [
      "cm_correct [[43244555   116078]\n",
      " [  150142   667881]]\n",
      "cm_incorrect [[300891  29833]\n",
      " [ 27542  12574]]\n",
      "[0.85193358 0.81645748 0.77829    0.00832422 0.29650765 0.31344102]\n",
      "0.023199925397417175\n",
      "threshold 0.023199925397417175\n",
      "(43706735,) (43706735,)\n"
     ]
    },
    {
     "name": "stderr",
     "output_type": "stream",
     "text": [
      "ic| label_current_deforestation_test_classified_incorrect.shape: (842761,)\n",
      "    predicted_test_classified_incorrect.shape: (842761,)\n",
      "ic| TP_H + FN_H + FP_H + TN_H: 842761\n",
      "    len(label_mask_current_deforestation_test): 44549496\n",
      "ic| TP_H + FN_H + FP_H + TN_H: 842761\n",
      "    len(label_mask_current_deforestation_test): 44549496\n"
     ]
    },
    {
     "name": "stdout",
     "output_type": "stream",
     "text": [
      "cm_correct [[42824766   101252]\n",
      " [  126094   654623]]\n",
      "cm_incorrect [[720680  44659]\n",
      " [ 51590  25832]]\n",
      "[0.86604663 0.83848949 0.76284029 0.01891741 0.36645813 0.33365193]\n",
      "0.014911291448940886\n",
      "threshold 0.014911291448940886\n",
      "(42944829,) (42944829,)\n"
     ]
    },
    {
     "name": "stderr",
     "output_type": "stream",
     "text": [
      "ic| label_current_deforestation_test_classified_incorrect.shape: (1604667,)\n",
      "    predicted_test_classified_incorrect.shape: (1604667,)\n",
      "ic"
     ]
    },
    {
     "name": "stdout",
     "output_type": "stream",
     "text": [
      "cm_correct [[42129024    86469]\n",
      " [   94926   634410]]\n",
      "cm_incorrect [[1416422   59442]\n",
      " [  82758   46045]]\n"
     ]
    },
    {
     "name": "stderr",
     "output_type": "stream",
     "text": [
      "| TP_H + FN_H + FP_H + TN_H: 1604667\n",
      "    len(label_mask_current_deforestation_test): 44549496\n",
      "ic| TP_H + FN_H + FP_H + TN_H: 1604667\n",
      "    len(label_mask_current_deforestation_test): 44549496\n"
     ]
    },
    {
     "name": "stdout",
     "output_type": "stream",
     "text": [
      "[0.8800506  0.869846   0.73928583 0.03601987 0.43649928 0.35748391]\n",
      "0.009788633948476292\n",
      "threshold 0.009788633948476292\n",
      "(41785752,) (41785752,)\n"
     ]
    },
    {
     "name": "stderr",
     "output_type": "stream",
     "text": [
      "ic| label_current_deforestation_test_classified_incorrect.shape: (2763744,)\n",
      "    predicted_test_classified_incorrect.shape: (2763744,)\n"
     ]
    },
    {
     "name": "stdout",
     "output_type": "stream",
     "text": [
      "cm_correct [[41041084    73778]\n",
      " [   61967   608923]]\n"
     ]
    },
    {
     "name": "stderr",
     "output_type": "stream",
     "text": [
      "ic| TP_H + FN_H + FP_H + TN_H: 2763744\n",
      "    len(label_mask_current_deforestation_test): 44549496\n",
      "ic| TP_H + FN_H + FP_H + TN_H: 2763744\n",
      "    len(label_mask_current_deforestation_test): 44549496\n"
     ]
    },
    {
     "name": "stdout",
     "output_type": "stream",
     "text": [
      "cm_incorrect [[2504362   72133]\n",
      " [ 115717   71532]]\n",
      "[0.89193219 0.90763463 0.70958551 0.0620376  0.49790833 0.38201539]\n",
      "0.018077267896952583\n",
      "threshold 0.018077267896952583\n",
      "(43322086,) (43322086,)\n"
     ]
    },
    {
     "name": "stderr",
     "output_type": "stream",
     "text": [
      "ic| label_current_deforestation_test_classified_incorrect.shape: (1227410,)\n",
      "    predicted_test_classified_incorrect.shape: (1227410,)\n",
      "ic| TP_H + FN_H + FP_H + TN_H: 1227410\n",
      "    len(label_mask_current_deforestation_test): 44549496\n",
      "ic| TP_H + FN_H + FP_H + TN_H: 1227410\n",
      "    len(label_mask_current_deforestation_test): 44549496\n"
     ]
    },
    {
     "name": "stdout",
     "output_type": "stream",
     "text": [
      "cm_correct [[42475885    92799]\n",
      " [  109275   644127]]\n",
      "cm_incorrect [[1069561   53112]\n",
      " [  68409   36328]]\n",
      "[0.87407284 0.85495791 0.75060917 0.0275516  0.40617174 0.34684973]\n",
      "0.018155911084357573\n",
      "threshold 0.018155911084357573\n",
      "(43329798,) (43329798,)\n"
     ]
    },
    {
     "name": "stderr",
     "output_type": "stream",
     "text": [
      "ic| label_current_deforestation_test_classified_incorrect.shape: (1219698,)\n",
      "    predicted_test_classified_incorrect.shape: (1219698,)\n",
      "ic| TP_H + FN_H + FP_H + TN_H: 1219698\n",
      "    len(label_mask_current_deforestation_test): 44549496\n",
      "ic| TP_H + FN_H + FP_H + TN_H: 1219698\n",
      "    len(label_mask_current_deforestation_test): 44549496\n"
     ]
    },
    {
     "name": "stdout",
     "output_type": "stream",
     "text": [
      "cm_correct [[42482911    92943]\n",
      " [  109606   644338]]\n",
      "cm_incorrect [[1062535   52968]\n",
      " [  68078   36117]]\n",
      "[0.87393816 0.85462316 0.75085505 0.02737849 0.40542179 0.34662892]\n",
      "0.017043973295682593\n",
      "threshold 0.017043973295682593\n",
      "(43214821,) (43214821,)\n"
     ]
    },
    {
     "name": "stderr",
     "output_type": "stream",
     "text": [
      "ic| label_current_deforestation_test_classified_incorrect.shape: (1334675,)\n",
      "    predicted_test_classified_incorrect.shape: (1334675,)\n",
      "ic| TP_H + FN_H + FP_H + TN_H: 1334675\n",
      "    len(label_mask_current_deforestation_test): 44549496\n",
      "ic| TP_H + FN_H + FP_H + TN_H: 1334675\n",
      "    len(label_mask_current_deforestation_test): 44549496\n"
     ]
    },
    {
     "name": "stdout",
     "output_type": "stream",
     "text": [
      "cm_correct [[42377591    90804]\n",
      " [  105107   641319]]\n",
      "cm_incorrect [[1167855   55107]\n",
      " [  72577   39136]]\n",
      "[0.87597166 0.85918631 0.74733697 0.02995937 0.41526692 0.35032628]\n",
      "0.016229361317417156\n",
      "threshold 0.016229361317417156\n",
      "(43120539,) (43120539,)\n"
     ]
    },
    {
     "name": "stderr",
     "output_type": "stream",
     "text": [
      "ic| label_current_deforestation_test_classified_incorrect.shape: (1428957,)\n",
      "    predicted_test_classified_incorrect.shape: (1428957,)\n",
      "ic| TP_H + "
     ]
    },
    {
     "name": "stdout",
     "output_type": "stream",
     "text": [
      "cm_correct [[42290994    89211]\n",
      " [  101437   638897]]\n",
      "cm_incorrect [[1254452   56700]\n",
      " [  76247   41558]]\n"
     ]
    },
    {
     "name": "stderr",
     "output_type": "stream",
     "text": [
      "FN_H + FP_H + TN_H: 1428957\n",
      "    len(label_mask_current_deforestation_test): 44549496\n",
      "ic| TP_H + FN_H + FP_H + TN_H: 1428957\n",
      "    len(label_mask_current_deforestation_test): 44549496\n"
     ]
    },
    {
     "name": "stdout",
     "output_type": "stream",
     "text": [
      "[0.87747559 0.86298481 0.74451458 0.03207572 0.42294775 0.35276941]\n",
      "0.017114722156854244\n",
      "threshold 0.017114722156854244\n",
      "(43222659,) (43222659,)\n"
     ]
    },
    {
     "name": "stderr",
     "output_type": "stream",
     "text": [
      "ic| label_current_deforestation_test_classified_incorrect.shape: (1326837,)\n",
      "    predicted_test_classified_incorrect.shape: (1326837,)\n",
      "ic| TP_H + FN_H + FP_H + TN_H: 1326837\n",
      "    len(label_mask_current_deforestation_test): 44549496\n",
      "ic| TP_H + FN_H + FP_H + TN_H: 1326837\n",
      "    len(label_mask_current_deforestation_test): 44549496\n"
     ]
    },
    {
     "name": "stdout",
     "output_type": "stream",
     "text": [
      "cm_correct [[42384793    90937]\n",
      " [  105409   641520]]\n",
      "cm_incorrect [[1160653   54974]\n",
      " [  72275   38935]]\n",
      "[0.87584664 0.85887681 0.7475712  0.02978343 0.4146035  0.35010341]\n",
      "0.016858514583081505\n",
      "threshold 0.016858514583081505\n",
      "(43194330,) (43194330,)\n"
     ]
    },
    {
     "name": "stderr",
     "output_type": "stream",
     "text": [
      "ic| label_current_deforestation_test_classified_incorrect.shape: (1355166,)\n",
      "    predicted_test_classified_incorrect.shape: (1355166,)\n",
      "ic| TP_H + FN_H + FP_H + TN_H: 1355166\n",
      "    len(label_mask_current_deforestation_test): 44549496\n",
      "ic| TP_H + FN_H + FP_H + TN_H: 1355166\n",
      "    len(label_mask_current_deforestation_test): 44549496\n"
     ]
    },
    {
     "name": "stdout",
     "output_type": "stream",
     "text": [
      "cm_correct [[42358850    90418]\n",
      " [  104299   640763]]\n",
      "cm_incorrect [[1186596   55493]\n",
      " [  73385   39692]]\n",
      "[0.87633978 0.86001299 0.74668906 0.03041933 0.41699848 0.35101745]\n",
      "0.017009004853509906\n",
      "threshold 0.017009004853509906\n",
      "(43211032,) (43211032,)\n"
     ]
    },
    {
     "name": "stderr",
     "output_type": "stream",
     "text": [
      "ic| label_current_deforestation_test_classified_incorrect.shape: (1338464,)\n",
      "    predicted_test_classified_incorrect.shape: (1338464,)\n",
      "ic| TP_H + FN_H + FP_H + TN_H: 1338464\n",
      "    len(label_mask_current_deforestation_test): 44549496\n",
      "ic| TP_H + FN_H + FP_H + TN_H: 1338464\n",
      "    len(label_mask_current_deforestation_test): 44549496\n"
     ]
    },
    {
     "name": "stdout",
     "output_type": "stream",
     "text": [
      "cm_correct [[42374111    90725]\n",
      " [  104967   641229]]\n",
      "cm_incorrect [[1171335   55186]\n",
      " [  72717   39226]]\n",
      "[0.87605095 0.85933052 0.74723209 0.03004443 0.41547685 0.35041048]\n",
      "0.017077306881818903\n",
      "threshold 0.017077306881818903\n",
      "(43218525,) (43218525,)\n"
     ]
    },
    {
     "name": "stderr",
     "output_type": "stream",
     "text": [
      "ic| label_current_deforestation_test_classified_incorrect.shape: (1330971,)\n",
      "    predicted_test_classified_incorrect.shape: (1330971,)\n",
      "ic| TP_H + FN_H + FP_H + TN_H: 1330971\n",
      "    len(label_mask_current_deforestation_test): 44549496\n",
      "ic| TP_H + FN_H + FP_H + TN_H: 1330971\n"
     ]
    },
    {
     "name": "stdout",
     "output_type": "stream",
     "text": [
      "cm_correct [[42381014    90861]\n",
      " [  105236   641414]]\n",
      "cm_incorrect [[1164432   55050]\n",
      " [  72448   39041]]\n"
     ]
    },
    {
     "name": "stderr",
     "output_type": "stream",
     "text": [
      "    len(label_mask_current_deforestation_test): 44549496\n",
      "ic| self.threshold_optimal: 0.017043973295682593\n"
     ]
    },
    {
     "name": "stdout",
     "output_type": "stream",
     "text": [
      "[0.87591957 0.85905578 0.74744767 0.02987623 0.4149281  0.35017804]\n",
      "threshold 0.017043973295682593\n",
      "(43214821,) (43214821,)\n"
     ]
    },
    {
     "name": "stderr",
     "output_type": "stream",
     "text": [
      "ic| label_current_deforestation_test_classified_incorrect.shape: (1334675,)\n",
      "    predicted_test_classified_incorrect.shape: (1334675,)\n",
      "ic| TP_H + FN_H + FP_H + TN_H: 1334675\n",
      "    len(label_mask_current_deforestation_test): 44549496\n",
      "ic| TP_H + FN_H + FP_H + TN_H: 1334675\n",
      "    len(label_mask_current_deforestation_test): 44549496\n"
     ]
    },
    {
     "name": "stdout",
     "output_type": "stream",
     "text": [
      "cm_correct [[42377591    90804]\n",
      " [  105107   641319]]\n",
      "cm_incorrect [[1167855   55107]\n",
      " [  72577   39136]]\n",
      "[0.87597166 0.85918631 0.74733697 0.02995937 0.41526692 0.35032628]\n",
      "threshold 0.017043973295682593\n",
      "(44549496,) (44549496,)\n"
     ]
    },
    {
     "name": "stderr",
     "output_type": "stream",
     "text": [
      "ic| self.m_optimal: {'AA': array([0.02995937]),\n",
      "                     'f1': 80.79,\n",
      "                     'f1_H': array([0.38004234]),\n",
      "                     'f1_L': array([0.8674978]),\n",
      "                     'precision_H': array([0.41526692]),\n",
      "                     'precision_L': array([0.87597166]),\n",
      "                     'recall_H': array([0.35032628]),\n",
      "                     'recall_L': array([0.85918631]),\n",
      "                     'recall_Ltotal': array([0.74733697])}\n",
      "ic| self.m_audited_optimal: {'f1': array([0.88489196]),\n",
      "                             'precision': array([0.89239141]),\n",
      "                             'recall': array([0.87751751])}\n"
     ]
    },
    {
     "name": "stdout",
     "output_type": "stream",
     "text": [
      "cm_audited [[43600553    90804]\n",
      " [  105107   753032]]\n",
      "[0.89239141 0.87751751]\n"
     ]
    },
    {
     "name": "stderr",
     "output_type": "stream",
     "text": [
      "ic| self.label_mask.shape: (16795, 10420)\n",
      "ic| self.mask_amazon_ts.shape: (16795, 10420)\n",
      "ic| self.label_mask_test.shape: (70001560,)\n",
      "ic| self.error_mask_test.shape: (44549496,)\n",
      "ic| bounds: (0.0015, 1.0340149507522582)\n",
      "c:\\Users\\jchamorro\\Anaconda3\\envs\\tf2\\lib\\site-packages\\scipy\\optimize\\_minimize.py:783: RuntimeWarning: Method 'bounded' does not support relative tolerance in x; defaulting to absolute tolerance.\n",
      "  warn(\"Method 'bounded' does not support relative tolerance in x; \"\n"
     ]
    },
    {
     "name": "stdout",
     "output_type": "stream",
     "text": [
      "0.39588561729493876\n",
      "threshold 0.39588561729493876\n",
      "(44544385,) (44544385,)\n"
     ]
    },
    {
     "name": "stderr",
     "output_type": "stream",
     "text": [
      "ic| label_current_deforestation_test_classified_incorrect.shape: (5111,)\n",
      "    predicted_test_classified_incorrect.shape: (5111,)\n",
      "ic| TP_H + FN_H + FP_H + TN_H: 5111\n",
      "    len(label_mask_current_deforestation_test): 44549496\n",
      "ic| TP_H + FN_H + FP_H + TN_H: 5111\n",
      "    len(label_mask_current_deforestation_test): 44549496\n"
     ]
    },
    {
     "name": "stdout",
     "output_type": "stream",
     "text": [
      "cm_correct [[43542712   144899]\n",
      " [  176894   679880]]\n",
      "cm_incorrect [[2734 1012]\n",
      " [ 790  575]]\n",
      "[8.24317787e-01 7.93534818e-01 7.92272581e-01 1.14726326e-04\n",
      " 3.62318841e-01 4.21245421e-01]\n",
      "0.6396293334573193\n",
      "threshold 0.6396293334573193\n",
      "(44548746,) (44548746,)\n"
     ]
    },
    {
     "name": "stderr",
     "output_type": "stream",
     "text": [
      "ic| label_current_deforestation_test_classified_incorrect.shape: (750,)\n",
      "    predicted_test_classified_incorrect.shape: (750,)\n",
      "ic| TP_H + FN_H + FP_H + TN_H: 750\n",
      "    len(label_mask_current_deforestation_test): 44549496\n",
      "ic| TP_H + FN_H + FP_H + TN_H: 750\n",
      "    len(label_mask_current_deforestation_test): 44549496\n"
     ]
    },
    {
     "name": "stdout",
     "output_type": "stream",
     "text": [
      "cm_correct [[43545080   145741]\n",
      " [  177598   680327]]\n",
      "cm_incorrect [[366 170]\n",
      " [ 86 128]]\n",
      "[8.23572636e-01 7.92991229e-01 7.92793475e-01 1.68352073e-05\n",
      " 4.29530201e-01 5.98130841e-01]\n",
      "0.24524371616238055\n",
      "threshold 0.24524371616238055\n",
      "(44528763,) (44528763,)\n"
     ]
    },
    {
     "name": "stderr",
     "output_type": "stream",
     "text": [
      "ic| label_current_deforestation_test_classified_incorrect.shape: (20733,)\n",
      "    predicted_test_classified_incorrect.shape: (20733,)\n",
      "ic| TP_H + FN_H + FP_H + TN_H: 20733\n",
      "    len(label_mask_current_deforestation_test): 44549496\n",
      "ic| TP_H + FN_H + FP_H + TN_H: 20733\n",
      "    len(label_mask_current_deforestation_test): 44549496\n"
     ]
    },
    {
     "name": "stdout",
     "output_type": "stream",
     "text": [
      "cm_correct [[43532890   141708]\n",
      " [  174973   679192]]\n",
      "cm_incorrect [[12556  4203]\n",
      " [ 2711  1263]]\n",
      "[8.27374833e-01 7.95153161e-01 7.91470846e-01 4.65392470e-04\n",
      " 2.31064764e-01 3.17815803e-01]\n",
      "0.15214190113255827\n",
      "threshold 0.15214190113255827\n",
      "(44493129,) (44493129,)\n"
     ]
    },
    {
     "name": "stderr",
     "output_type": "stream",
     "text": [
      "ic| label_current_deforestation_test_classified_incorrect.shape: (56367,)\n",
      "    predicted_test_classified_incorrect.shape: (56367,)\n",
      "ic| TP_H + FN_H + FP_H + TN_H: 56367\n",
      "    len(label_mask_current_deforestation_test): 44549496\n",
      "ic| TP_H + FN_H + FP_H + TN_H: 56367\n",
      "    len(label_mask_current_deforestation_test): 44549496\n"
     ]
    },
    {
     "name": "stdout",
     "output_type": "stream",
     "text": [
      "cm_correct [[43508917   136018]\n",
      " [  170354   677840]]\n",
      "cm_incorrect [[36529  9893]\n",
      " [ 7330  2615]]\n",
      "[0.83287256 0.7991568  0.78989534 0.00126527 0.2090662  0.2629462 ]\n",
      "0.09460181502982229\n",
      "threshold 0.09460181502982229\n",
      "(44418478,) (44418478,)\n"
     ]
    },
    {
     "name": "stderr",
     "output_type": "stream",
     "text": [
      "ic| label_current_deforestation_test_classified_incorrect.shape: (131018,)\n",
      "    predicted_test_classified_incorrect.shape: (131018,)\n",
      "ic| TP_H + FN_H + FP_H + TN_H: 131018\n",
      "    len(label_mask_current_deforestation_test): 44549496\n",
      "ic| TP_H + FN_H + FP_H + TN_H: 131018\n",
      "    len(label_mask_current_deforestation_test): 44549496\n"
     ]
    },
    {
     "name": "stdout",
     "output_type": "stream",
     "text": [
      "cm_correct [[43448297   129564]\n",
      " [  164397   676220]]\n",
      "cm_incorrect [[97149 16347]\n",
      " [13287  4235]]\n",
      "[0.83920753 0.80443293 0.78800754 0.00294095 0.20576232 0.24169615]\n",
      "0.059040086102735985\n",
      "threshold 0.059040086102735985\n",
      "(44239742,) (44239742,)\n"
     ]
    },
    {
     "name": "stderr",
     "output_type": "stream",
     "text": [
      "ic| label_current_deforestation_test_classified_incorrect.shape: (309754,)\n",
      "    predicted_test_classified_incorrect.shape: (309754,)\n",
      "ic| TP_H + FN_H + FP_H + TN_H: 309754\n",
      "    len(label_mask_current_deforestation_test): 44549496\n",
      "ic| TP_H + FN_H + FP_H + TN_H: 309754\n",
      "    len(label_mask_current_deforestation_test): 44549496\n"
     ]
    },
    {
     "name": "stdout",
     "output_type": "stream",
     "text": [
      "cm_correct [[43289885   121999]\n",
      " [  154588   673270]]\n",
      "cm_incorrect [[255561  23912]\n",
      " [ 23096   7185]]\n",
      "[0.84659405 0.81326749 0.78456987 0.00695303 0.23105123 0.2372775 ]\n",
      "0.03706172892708631\n",
      "threshold 0.03706172892708631\n",
      "(43843671,) (43843671,)\n"
     ]
    },
    {
     "name": "stderr",
     "output_type": "stream",
     "text": [
      "ic| label_current_deforestation_test_classified_incorrect.shape: (705825,)\n",
      "    predicted_test_classified_incorrect.shape: (705825,)\n",
      "ic| TP_H + FN_H + FP_H + TN_H: 705825\n",
      "    len(label_mask_current_deforestation_test): 44549496\n",
      "ic| TP_H + FN_H + FP_H + TN_H: 705825\n",
      "    len(label_mask_current_deforestation_test): 44549496\n"
     ]
    },
    {
     "name": "stdout",
     "output_type": "stream",
     "text": [
      "cm_correct [[42929443   111923]\n",
      " [  137222   665083]]\n",
      "cm_incorrect [[616003  33988]\n",
      " [ 40462  15372]]\n",
      "[0.85595607 0.82896529 0.77502945 0.01584361 0.31142626 0.27531612]\n",
      "0.023478357175649674\n",
      "threshold 0.023478357175649674\n",
      "(43092170,) (43092170,)\n"
     ]
    },
    {
     "name": "stderr",
     "output_type": "stream",
     "text": [
      "ic| label_current_deforestation_test_classified_incorrect.shape: (1457326,)\n",
      "    predicted_test_classified_incorrect.shape: (1457326,)\n",
      "ic| TP_H + FN_H + FP_H + TN_H: 1457326\n",
      "    len(label_mask_current_deforestation_test)"
     ]
    },
    {
     "name": "stdout",
     "output_type": "stream",
     "text": [
      "cm_correct [[42232293    97878]\n",
      " [  110077   651922]]\n",
      "cm_incorrect [[1313153   48033]\n",
      " [  67607   28533]]\n"
     ]
    },
    {
     "name": "stderr",
     "output_type": "stream",
     "text": [
      ": 44549496\n",
      "ic| TP_H + FN_H + FP_H + TN_H: 1457326\n",
      "    len(label_mask_current_deforestation_test): 44549496\n"
     ]
    },
    {
     "name": "stdout",
     "output_type": "stream",
     "text": [
      "[0.86946119 0.85554181 0.75969278 0.03271251 0.37265888 0.29678594]\n",
      "0.015083371751436642\n",
      "threshold 0.015083371751436642\n",
      "(41755259,) (41755259,)\n"
     ]
    },
    {
     "name": "stderr",
     "output_type": "stream",
     "text": [
      "ic| label_current_deforestation_test_classified_incorrect.shape: (2794237,)\n",
      "    predicted_test_classified_incorrect.shape: (2794237,)\n"
     ]
    },
    {
     "name": "stdout",
     "output_type": "stream",
     "text": [
      "cm_correct [[40963090    84199]\n",
      " [   76588   631382]]\n"
     ]
    },
    {
     "name": "stderr",
     "output_type": "stream",
     "text": [
      "ic| TP_H + FN_H + FP_H + TN_H: 2794237\n",
      "    len(label_mask_current_deforestation_test): 44549496\n",
      "ic| TP_H + FN_H + FP_H + TN_H: 2794237\n",
      "    len(label_mask_current_deforestation_test): 44549496\n"
     ]
    },
    {
     "name": "stdout",
     "output_type": "stream",
     "text": [
      "cm_incorrect [[2582356   61712]\n",
      " [ 101096   49073]]\n",
      "[0.88233477 0.89182027 0.73575726 0.06272208 0.44295708 0.32678516]\n",
      "0.02866674350287328\n",
      "threshold 0.02866674350287328\n",
      "(43482165,) (43482165,)\n"
     ]
    },
    {
     "name": "stderr",
     "output_type": "stream",
     "text": [
      "ic| label_current_deforestation_test_classified_incorrect.shape: (1067331,)\n",
      "    predicted_test_classified_incorrect.shape: (1067331,)\n",
      "ic| TP_H + FN_H + FP_H + TN_H: 1067331\n",
      "    len(label_mask_current_deforestation_test): 44549496\n",
      "ic| TP_H + FN_H + FP_H + TN_H: 1067331\n",
      "    len(label_mask_current_deforestation_test): 44549496\n"
     ]
    },
    {
     "name": "stdout",
     "output_type": "stream",
     "text": [
      "cm_correct [[42595790   104360]\n",
      " [  123452   658563]]\n",
      "cm_incorrect [[949656  41551]\n",
      " [ 54232  21892]]\n",
      "[0.86321031 0.84213602 0.76743162 0.02395832 0.34506565 0.28758342]\n",
      "0.02027175807866025\n",
      "threshold 0.02027175807866025\n",
      "(42735785,) (42735785,)\n"
     ]
    },
    {
     "name": "stderr",
     "output_type": "stream",
     "text": [
      "ic| label_current_deforestation_test_classified_incorrect.shape: (1813711,)\n",
      "    predicted_test_classified_incorrect.shape: (1813711,)\n"
     ]
    },
    {
     "name": "stdout",
     "output_type": "stream",
     "text": [
      "cm_correct [[41897486    93337]\n",
      " [   99165   645797]]\n"
     ]
    },
    {
     "name": "stderr",
     "output_type": "stream",
     "text": [
      "ic| TP_H + FN_H + FP_H + TN_H: 1813711\n",
      "    len(label_mask_current_deforestation_test): 44549496\n",
      "ic| TP_H + FN_H + FP_H + TN_H: 1813711\n",
      "    len(label_mask_current_deforestation_test): 44549496\n"
     ]
    },
    {
     "name": "stdout",
     "output_type": "stream",
     "text": [
      "cm_incorrect [[1647960   52574]\n",
      " [  78519   34658]]\n",
      "[0.87372114 0.86688583 0.75255524 0.04071227 0.39730833 0.3062283 ]\n",
      "0.02521381974276584\n",
      "threshold 0.02521381974276584\n",
      "(43243230,) (43243230,)\n"
     ]
    },
    {
     "name": "stderr",
     "output_type": "stream",
     "text": [
      "ic| label_current_deforestation_test_classified_incorrect.shape: (1306266,)\n",
      "    predicted_test_classified_incorrect.shape: (1306266,)\n",
      "ic| TP_H + FN_H + FP_H + TN_H: 1306266\n",
      "    len(label_mask_current_deforestation_test): 44549496\n",
      "ic| TP_H + FN_H +"
     ]
    },
    {
     "name": "stdout",
     "output_type": "stream",
     "text": [
      "cm_correct [[42373454   100132]\n",
      " [  115087   654557]]\n",
      "cm_incorrect [[1171992   45779]\n",
      " [  62597   25898]]\n"
     ]
    },
    {
     "name": "stderr",
     "output_type": "stream",
     "text": [
      " FP_H + TN_H: 1306266\n",
      "    len(label_mask_current_deforestation_test): 44549496\n"
     ]
    },
    {
     "name": "stdout",
     "output_type": "stream",
     "text": [
      "[0.86732018 0.85046723 0.76276338 0.02932168 0.36131535 0.2926493 ]\n",
      "0.02546178647952689\n",
      "threshold 0.02546178647952689\n",
      "(43263016,) (43263016,)\n"
     ]
    },
    {
     "name": "stderr",
     "output_type": "stream",
     "text": [
      "ic| label_current_deforestation_test_classified_incorrect.shape: (1286480,)\n",
      "    predicted_test_classified_incorrect.shape: (1286480,)\n",
      "ic| TP_H + FN_H + FP_H + TN_H: 1286480\n",
      "    len(label_mask_current_deforestation_test): 44549496\n",
      "ic| TP_H + FN_H + FP_H + TN_H: 1286480\n",
      "    len(label_mask_current_deforestation_test): 44549496\n"
     ]
    },
    {
     "name": "stdout",
     "output_type": "stream",
     "text": [
      "cm_correct [[42391888   100431]\n",
      " [  115791   654906]]\n",
      "cm_incorrect [[1153558   45480]\n",
      " [  61893   25549]]\n",
      "[0.86703816 0.84975808 0.76317007 0.02887754 0.35969815 0.29218225]\n",
      "0.024738368809998267\n",
      "threshold 0.024738368809998267\n",
      "(43204393,) (43204393,)\n"
     ]
    },
    {
     "name": "stderr",
     "output_type": "stream",
     "text": [
      "ic| label_current_deforestation_test_classified_incorrect.shape: (1345103,)\n",
      "    predicted_test_classified_incorrect.shape: (1345103,)\n",
      "ic| TP_H + FN_H + FP_H + TN_H: 1345103\n",
      "    len(label_mask_current_deforestation_test): 44549496\n",
      "ic|"
     ]
    },
    {
     "name": "stdout",
     "output_type": "stream",
     "text": [
      "cm_correct [[42337259    99527]\n",
      " [  113770   653837]]\n",
      "cm_incorrect [[1208187   46384]\n",
      " [  63914   26618]]\n"
     ]
    },
    {
     "name": "stderr",
     "output_type": "stream",
     "text": [
      " TP_H + FN_H + FP_H + TN_H: 1345103\n",
      "    len(label_mask_current_deforestation_test): 44549496\n"
     ]
    },
    {
     "name": "stdout",
     "output_type": "stream",
     "text": [
      "[0.86788989 0.85178614 0.76192435 0.03019345 0.36462015 0.29401758]\n",
      "0.024257087191897408\n",
      "threshold 0.024257087191897408\n",
      "(43163097,) (43163097,)\n"
     ]
    },
    {
     "name": "stderr",
     "output_type": "stream",
     "text": [
      "ic| label_current_deforestation_test_classified_incorrect.shape: (1386399,)\n",
      "    predicted_test_classified_incorrect.shape: (1386399,)\n",
      "ic| TP_H + FN_H + FP_H + TN_H: 1386399\n",
      "    len(label_mask_current_deforestation_test): 44549496\n",
      "ic| TP_H + FN_H + "
     ]
    },
    {
     "name": "stdout",
     "output_type": "stream",
     "text": [
      "cm_correct [[42298673    98913]\n",
      " [  112385   653126]]\n",
      "cm_incorrect [[1246773   46998]\n",
      " [  65299   27329]]\n"
     ]
    },
    {
     "name": "stderr",
     "output_type": "stream",
     "text": [
      "FP_H + TN_H: 1386399\n",
      "    len(label_mask_current_deforestation_test): 44549496\n"
     ]
    },
    {
     "name": "stdout",
     "output_type": "stream",
     "text": [
      "[0.86847358 0.85318957 0.76109581 0.03112042 0.36768604 0.29504038]\n",
      "0.02481049073588138\n",
      "threshold 0.02481049073588138\n",
      "(43210408,) (43210408,)\n"
     ]
    },
    {
     "name": "stderr",
     "output_type": "stream",
     "text": [
      "ic| label_current_deforestation_test_classified_incorrect.shape: (1339088,)\n",
      "    predicted_test_classified_incorrect.shape: (1339088,)\n",
      "ic| TP_H + FN_H + FP_H + TN_H: 1339088\n",
      "    len(label_mask_current_deforestation_test): 44549496\n",
      "ic| TP_H + FN_H + FP_H + TN_H: 1339088\n",
      "    len(label_mask_current_deforestation_test): 44549496\n"
     ]
    },
    {
     "name": "stdout",
     "output_type": "stream",
     "text": [
      "cm_correct [[42342888    99617]\n",
      " [  113971   653932]]\n",
      "cm_incorrect [[1202558   46294]\n",
      " [  63713   26523]]\n",
      "[0.86780289 0.85158151 0.76203505 0.03005843 0.36424187 0.29392925]\n",
      "0.024904978320081848\n",
      "threshold 0.024904978320081848\n",
      "(43218063,) (43218063,)\n"
     ]
    },
    {
     "name": "stderr",
     "output_type": "stream",
     "text": [
      "ic| label_current_deforestation_test_classified_incorrect.shape: (1331433,)\n",
      "    predicted_test_classified_incorrect.shape: (1331433,)\n",
      "ic| TP_H + FN_H + FP_H + TN_H: 1331433\n",
      "    len(label_mask_current_deforestation_test): 44549496\n",
      "ic| TP_H + FN_H + FP_H + TN_H: 1331433\n",
      "    len(label_mask_current_deforestation_test): 44549496\n"
     ]
    },
    {
     "name": "stdout",
     "output_type": "stream",
     "text": [
      "cm_correct [[42350012    99727]\n",
      " [  114223   654101]]\n",
      "cm_incorrect [[1195434   46184]\n",
      " [  63461   26354]]\n",
      "[0.8677059  0.85133485 0.76223199 0.0298866  0.36331302 0.29342537]\n",
      "0.024843824437213762\n",
      "threshold 0.024843824437213762\n",
      "(43213209,) (43213209,)\n"
     ]
    },
    {
     "name": "stderr",
     "output_type": "stream",
     "text": [
      "ic| label_current_deforestation_test_classified_incorrect.shape: (1336287,)\n",
      "    predicted_test_classified_incorrect.shape: (1336287,)\n",
      "ic| TP_H + FN_H + FP_H + TN_H: 1336287\n",
      "    len(label_mask_current_deforestation_test): 44549496\n",
      "ic| TP_H + FN_H + FP_H + TN_H: 1336287\n",
      "    len(label_mask_current_deforestation_test): 44549496\n"
     ]
    },
    {
     "name": "stdout",
     "output_type": "stream",
     "text": [
      "cm_correct [[42345498    99661]\n",
      " [  114070   653980]]\n",
      "cm_incorrect [[1199948   46250]\n",
      " [  63614   26475]]\n",
      "[0.86776064 0.85148102 0.76209099 0.02999556 0.36404263 0.29387606]\n"
     ]
    },
    {
     "name": "stderr",
     "output_type": "stream",
     "text": [
      "ic| self.threshold_optimal: 0.024843824437213762\n"
     ]
    },
    {
     "name": "stdout",
     "output_type": "stream",
     "text": [
      "threshold 0.024843824437213762\n",
      "(43213209,) (43213209,)\n"
     ]
    },
    {
     "name": "stderr",
     "output_type": "stream",
     "text": [
      "ic| label_current_deforestation_test_classified_incorrect.shape: (1336287,)\n",
      "    predicted_test_classified_incorrect.shape: (1336287,)\n",
      "ic| TP_H + FN_H + FP_H + TN_H: 1336287\n",
      "    len(label_mask_current_deforestation_test): 44549496\n",
      "ic| TP_H + FN_H + FP_H + "
     ]
    },
    {
     "name": "stdout",
     "output_type": "stream",
     "text": [
      "cm_correct [[42345498    99661]\n",
      " [  114070   653980]]\n",
      "cm_incorrect [[1199948   46250]\n",
      " [  63614   26475]]\n"
     ]
    },
    {
     "name": "stderr",
     "output_type": "stream",
     "text": [
      "TN_H: 1336287\n",
      "    len(label_mask_current_deforestation_test): 44549496\n"
     ]
    },
    {
     "name": "stdout",
     "output_type": "stream",
     "text": [
      "[0.86776064 0.85148102 0.76209099 0.02999556 0.36404263 0.29387606]\n",
      "threshold 0.024843824437213762\n",
      "(44549496,) (44549496,)\n"
     ]
    },
    {
     "name": "stderr",
     "output_type": "stream",
     "text": [
      "ic| self.m_optimal: {'AA': array([0.02999556]),\n",
      "                     'f1': 80.79,\n",
      "                     'f1_H': array([0.32521773]),\n",
      "                     'f1_L': array([0.85954376]),\n",
      "                     'precision_H': array([0.36404263]),\n",
      "                     'precision_L': array([0.86776064]),\n",
      "                     'recall_H': array([0.29387606]),\n",
      "                     'recall_L': array([0.85148102]),\n",
      "                     'recall_Ltotal': array([0.76209099])}\n",
      "ic| self.m_audited_optimal: {'f1': array([0.87441395]),\n",
      "                             'precision': array([0.88188046]),\n",
      "                             'recall': array([0.86707282])}\n",
      " 80%|████████  | 8/10 [3:40:27<54:47, 1643.87s/it]  "
     ]
    },
    {
     "name": "stdout",
     "output_type": "stream",
     "text": [
      "cm_audited [[43591696    99661]\n",
      " [  114070   744069]]\n",
      "[0.88188046 0.86707282]\n",
      "self.exp, results 1125 {'pred_entropy': {'metrics': {'precision_L': array([0.88924167]), 'recall_L': array([0.90665361]), 'recall_Ltotal': array([0.67005112]), 'AA': array([0.03000202]), 'precision_H': array([0.58668936]), 'recall_H': array([0.47091658]), 'f1_L': array([0.89786323]), 'f1_H': array([0.52246633]), 'f1': 80.79}, 'metrics_audited': {'precision': array([0.91773313]), 'recall': array([0.93101351]), 'f1': array([0.92432562])}}, 'pred_var': {'metrics': {'precision_L': array([0.92522819]), 'recall_L': array([0.86900006]), 'recall_Ltotal': array([0.57821169]), 'AA': array([0.02990761]), 'precision_H': array([0.63523292]), 'recall_H': array([0.64170793]), 'f1_L': array([0.89623308]), 'f1_H': array([0.63845401]), 'f1': 80.79}, 'metrics_audited': {'precision': array([0.95130301]), 'recall': array([0.9128358]), 'f1': array([0.93167251])}}, 'MI': {'metrics': {'precision_L': array([0.87597166]), 'recall_L': array([0.85918631]), 'recall_Ltotal': array([0.74733697]), 'AA': array([0.02995937]), 'precision_H': array([0.41526692]), 'recall_H': array([0.35032628]), 'f1_L': array([0.8674978]), 'f1_H': array([0.38004234]), 'f1': 80.79}, 'metrics_audited': {'precision': array([0.89239141]), 'recall': array([0.87751751]), 'f1': array([0.88489196])}}, 'KL': {'metrics': {'precision_L': array([0.86776064]), 'recall_L': array([0.85148102]), 'recall_Ltotal': array([0.76209099]), 'AA': array([0.02999556]), 'precision_H': array([0.36404263]), 'recall_H': array([0.29387606]), 'f1_L': array([0.85954376]), 'f1_H': array([0.32521773]), 'f1': 80.79}, 'metrics_audited': {'precision': array([0.88188046]), 'recall': array([0.86707282]), 'f1': array([0.87441395])}}}\n",
      "D:/Jorge/datasets/deforestation/MT/deforestation_past_years.tif\n",
      "Loaded deforestation past years\n"
     ]
    },
    {
     "name": "stderr",
     "output_type": "stream",
     "text": [
      "ic| np.unique(deforestation_past_years, return_counts=True): (array([   0, 2008, 2009, 2010, 2011, 2012, 2013, 2014, 2015, 2016, 2017,\n",
      "                                                                    2018, 2019, 2020, 2021], dtype=uint16),\n",
      "                                                              array([161124576,   1332784,    240796,    338545,    313901,    287191,\n",
      "                                                                       708581,    648966,    876898,   1007787,   1098901,   1054092,\n",
      "                                                                      2096062,   2473828,   1400992], dtype=int64))\n"
     ]
    },
    {
     "name": "stdout",
     "output_type": "stream",
     "text": [
      "Label where deforestation past years is actual date (2020) = 1\n"
     ]
    },
    {
     "name": "stderr",
     "output_type": "stream",
     "text": [
      "ic| np.unique(deforestation_past_years, return_counts=True): (array([   0, 2008, 2009, 2010, 2011, 2012, 2013, 2014, 2015, 2016, 2017,\n",
      "                                                                    2018, 2019, 2020, 2021], dtype=uint16),\n",
      "                                                              array([161124576,   1332784,    240796,    338545,    313901,    287191,\n",
      "                                                                       708581,    648966,    876898,   1007787,   1098901,   1054092,\n",
      "                                                                      2096062,   2473828,   1400992], dtype=int64))\n"
     ]
    },
    {
     "name": "stdout",
     "output_type": "stream",
     "text": [
      "Past deforestation different from 0 (no deforestation)\n"
     ]
    },
    {
     "name": "stderr",
     "output_type": "stream",
     "text": [
      "ic| np.unique(deforestation_past_years, return_counts=True): (array([   0, 2008, 2009, 2010, 2011, 2012, 2013, 2014, 2015, 2016, 2017,\n",
      "                                                                    2018, 2019, 2020, 2021], dtype=uint16),\n",
      "                                                              array([161124576,   1332784,    240796,    338545,    313901,    287191,\n",
      "                                                                       708581,    648966,    876898,   1007787,   1098901,   1054092,\n",
      "                                                                      2096062,   2473828,   1400992], dtype=int64))\n"
     ]
    },
    {
     "name": "stdout",
     "output_type": "stream",
     "text": [
      "Past deforestation before 2008 is 2\n",
      "D:/Jorge/datasets/deforestation/MT/deforestation_before_2008/deforestation_before_2008_MT.tif\n"
     ]
    },
    {
     "name": "stderr",
     "output_type": "stream",
     "text": [
      "ic| np.unique(label_past_deforestation_before_2008, return_counts=True): (array([  0, 215], dtype=uint8), array([122623260,  52380640], dtype=int64))\n",
      "ic| np.unique(deforestation_past_years, return_counts=True): (array([   0, 2008, 2009, 2010, 2011, 2012, 2013, 2014, 2015, 2016, 2017,\n",
      "                                                                    2018, 2019, 2020, 2021], dtype=uint16),\n",
      "                                                              array([161124576,   1332784,    240796,    338545,    313901,    287191,\n",
      "                                                                       708581,    648966,    876898,   1007787,   1098901,   1054092,\n",
      "                                                                      2096062,   2473828,   1400992], dtype=int64))\n",
      "ic| label_per_date.shape: (16795, 10420, 1)\n"
     ]
    },
    {
     "name": "stdout",
     "output_type": "stream",
     "text": [
      "Mask label shape:  \n",
      " (16795, 10420, 1) \n",
      " Unique values:  \n",
      " [0 1 2]\n",
      "Tiles size:  3359 2084\n",
      "Mask size:  (16795, 10420)\n"
     ]
    },
    {
     "name": "stderr",
     "output_type": "stream",
     "text": [
      "ic| image_stack.shape: (16795, 10420, 21)\n"
     ]
    },
    {
     "name": "stdout",
     "output_type": "stream",
     "text": [
      "Image shape:  (16795, 10420, 21)\n",
      "mask:  (16795, 10420)\n",
      "image stack:  (16795, 10420, 21)\n",
      "ref : (16795, 10420, 1)\n",
      "Training tiles:  [2, 4, 5, 6, 7, 12, 14, 15, 18, 21, 23, 24]\n",
      "Validation tiles:  [9, 11, 25]\n",
      "Test tiles:  [1, 3, 8, 10, 13, 16, 17, 19, 20, 22]\n",
      "-5.0 -12.0\n"
     ]
    },
    {
     "name": "stderr",
     "output_type": "stream",
     "text": [
      "ic| self.path_models+ '/' + self.method +'_'+str(0)+'.h5': 'D:/Jorge/datasets/deforestation/experiments/MT/exp1124/models/resunet_0.h5'\n"
     ]
    },
    {
     "name": "stdout",
     "output_type": "stream",
     "text": [
      "time:  0\n",
      "time:  1\n",
      "time:  2\n",
      "time:  3\n",
      "time:  4\n",
      "time:  5\n",
      "time:  6\n",
      "time:  7\n",
      "time:  8\n",
      "time:  9\n",
      "(44657480,)\n",
      "(array([0, 1], dtype=uint8), array([43783238,   874242], dtype=int64))\n",
      "(16795, 10420)\n",
      "(array([0., 1.], dtype=float32), array([173312253,   1691647], dtype=int64))\n"
     ]
    },
    {
     "name": "stderr",
     "output_type": "stream",
     "text": [
      "ic| self.predicted_unpad.shape: (16795, 10420)\n",
      "    self.predicted.shape: (16795, 10420)\n",
      "ic| predicted_test.shape: (70001560,)\n",
      "ic| predicted_test.shape: (44657480,)\n",
      "ic| np.unique(predicted, return_counts=True): (array([0., 1.], dtype=float32), array([173312253,   1691647], dtype=int64))\n",
      "    np.unique(predicted_larger_than_min_area, return_counts=True): (array([0., 1.], dtype=float32), array([173508530,   1495370], dtype=int64))\n",
      "ic| np.unique(ignored_polygons, return_counts=True): (array([0., 1.], dtype=float32), array([174807623,    196277], dtype=int64))\n",
      "ic| predicted.shape: (16795, 10420), label_mask.shape: (16795, 10420)\n",
      "ic| predicted_masked.shape: (70001560,)\n",
      "    label_masked.shape: (70001560,)\n",
      "ic| np.unique(label_masked, return_counts=True): (array([0, 1, 2], dtype=uint8),\n",
      "                                                  array([43724289,   855289, 25421982], dtype=int64))\n",
      "ic| predicted_masked.shape: (44579578,)\n",
      "    label_masked.shape: (44579578,)\n",
      "ic| self.f1: 74.94, self.precision: 94.04, self.recall: 62.29\n",
      "ic| self.label_mask_val.shape: (21000468,)\n",
      "ic| self.label_mask_val_valid.shape: (11785401,)\n",
      "ic| f1_val: 94.7\n",
      "    precision_val: 97.97\n",
      "    recall_val: 91.65\n",
      "    mAP_val: 98.72\n"
     ]
    },
    {
     "name": "stdout",
     "output_type": "stream",
     "text": [
      "(array([0., 1.], dtype=float32), array([174040978,    962922], dtype=int64))\n"
     ]
    },
    {
     "name": "stderr",
     "output_type": "stream",
     "text": [
      "ic| self.label_mask.shape: (16795, 10420)\n",
      "ic| self.mask_amazon_ts.shape: (16795, 10420)\n",
      "ic| self.label_mask_test.shape: (70001560,)\n",
      "ic| self.error_mask_test.shape: (44579578,)\n",
      "ic| bounds: (0.0015, 0.3663794801235199)\n",
      "c:\\Users\\jchamorro\\Anaconda3\\envs\\tf2\\lib\\site-packages\\scipy\\optimize\\_minimize.py:783: RuntimeWarning: Method 'bounded' does not support relative tolerance in x; defaulting to absolute tolerance.\n",
      "  warn(\"Method 'bounded' does not support relative tolerance in x; \"\n"
     ]
    },
    {
     "name": "stdout",
     "output_type": "stream",
     "text": [
      "0.1408715596097929\n",
      "threshold 0.1408715596097929\n",
      "(43130965,) (43130965,)\n"
     ]
    },
    {
     "name": "stderr",
     "output_type": "stream",
     "text": [
      "ic| label_current_deforestation_test_classified_incorrect.shape: (1448613,)\n",
      "    predicted_test_classified_incorrect.shape: (1448613,)\n",
      "ic| TP_H + FN_H +"
     ]
    },
    {
     "name": "stdout",
     "output_type": "stream",
     "text": [
      "cm_correct [[42681473     9105]\n",
      " [   72896   367491]]\n",
      "cm_incorrect [[1009028   24683]\n",
      " [ 249594  165308]]\n"
     ]
    },
    {
     "name": "stderr",
     "output_type": "stream",
     "text": [
      " FP_H + TN_H: 1448613\n",
      "    len(label_mask_current_deforestation_test): 44579578\n",
      "ic| TP_H + FN_H + FP_H + TN_H: 1448613\n",
      "    len(label_mask_current_deforestation_test): 44579578\n"
     ]
    },
    {
     "name": "stdout",
     "output_type": "stream",
     "text": [
      "[0.9758229  0.83447286 0.4296688  0.03249499 0.87008332 0.39842662]\n",
      "0.22700792051372695\n",
      "threshold 0.22700792051372695\n",
      "(43691871,) (43691871,)\n"
     ]
    },
    {
     "name": "stderr",
     "output_type": "stream",
     "text": [
      "ic| label_current_deforestation_test_classified_incorrect.shape: (887707,)\n",
      "    predicted_test_classified_incorrect.shape: (887707,)\n",
      "ic| TP_H + FN_H + FP_H + TN_H: 887707\n",
      "    len(label_mask_current_deforestation_test): 44579578\n",
      "ic| TP_H + FN_H + FP_H + TN_H: 887707\n",
      "    len(label_mask_current_deforestation_test): 44579578\n"
     ]
    },
    {
     "name": "stdout",
     "output_type": "stream",
     "text": [
      "cm_correct [[43138240    16429]\n",
      " [  108100   429102]]\n",
      "cm_incorrect [[552261  17359]\n",
      " [214390 103697]]\n",
      "[0.9631249  0.79877216 0.5017041  0.01991286 0.85660356 0.32600201]\n",
      "0.08763636090393405\n",
      "threshold 0.08763636090393405\n",
      "(42481651,) (42481651,)\n"
     ]
    },
    {
     "name": "stderr",
     "output_type": "stream",
     "text": [
      "ic| label_current_deforestation_test_classified_incorrect.shape: (2097927,)\n",
      "    predicted_test_classified_incorrect.shape: (2097927,)\n"
     ]
    },
    {
     "name": "stdout",
     "output_type": "stream",
     "text": [
      "cm_correct [[42099779     6885]\n",
      " [   47028   327959]]\n"
     ]
    },
    {
     "name": "stderr",
     "output_type": "stream",
     "text": [
      "ic| TP_H + FN_H + FP_H + TN_H: 2097927\n",
      "    len(label_mask_current_deforestation_test): 44579578\n",
      "ic| TP_H + FN_H + FP_H + TN_H: 2097927\n",
      "    len(label_mask_current_deforestation_test): 44579578\n"
     ]
    },
    {
     "name": "stdout",
     "output_type": "stream",
     "text": [
      "cm_incorrect [[1590722   26903]\n",
      " [ 275462  204840]]\n",
      "[0.97943819 0.87458765 0.38344817 0.04706027 0.88391019 0.42648167]\n",
      "0.16696037068864164\n",
      "threshold 0.16696037068864164\n",
      "(43333519,) (43333519,)\n"
     ]
    },
    {
     "name": "stderr",
     "output_type": "stream",
     "text": [
      "ic| label_current_deforestation_test_classified_incorrect.shape: (1246059,)\n",
      "    predicted_test_classified_incorrect.shape: (1246059,)\n",
      "ic| TP_H + FN_H + FP_H + TN_H: 1246059\n",
      "    len(label_mask_current_deforestation_test): 44579578\n",
      "ic| TP_H + FN_H + FP_H + TN_H: 1246059\n",
      "    len(label_mask_current_deforestation_test): 44579578\n"
     ]
    },
    {
     "name": "stdout",
     "output_type": "stream",
     "text": [
      "cm_correct [[42854503    10807]\n",
      " [   82272   385937]]\n",
      "cm_incorrect [[835998  22981]\n",
      " [240218 146862]]\n",
      "[0.97276077 0.8242836  0.45123578 0.02795134 0.86469269 0.37940994]\n",
      "0.15879631287634025\n",
      "threshold 0.15879631287634025\n",
      "(43274637,) (43274637,)\n"
     ]
    },
    {
     "name": "stderr",
     "output_type": "stream",
     "text": [
      "ic| label_current_deforestation_test_classified_incorrect.shape: (1304941,)\n",
      "    predicted_test_classified_incorrect.shape: (1304941,)\n",
      "ic| TP_H + FN_H + FP_H + TN_H: 1304941\n",
      "    len(label_mask_current_deforestation_test): 44579578\n",
      "ic| TP_H + FN_H + FP_H + TN_H: 1304941\n",
      "    len(label_mask_current_deforestation_test): 44579578\n"
     ]
    },
    {
     "name": "stdout",
     "output_type": "stream",
     "text": [
      "cm_correct [[42804747    10218]\n",
      " [   79413   380259]]\n",
      "cm_incorrect [[885754  23570]\n",
      " [243077 152540]]\n",
      "[0.97383201 0.82723986 0.44459709 0.02927217 0.86616319 0.38557494]\n",
      "0.15477306543842348\n",
      "threshold 0.15477306543842348\n",
      "(43244249,) (43244249,)\n"
     ]
    },
    {
     "name": "stderr",
     "output_type": "stream",
     "text": [
      "ic| label_current_deforestation_test_classified_incorrect.shape: (1335329,)\n",
      "    predicted_test_classified_incorrect.shape: (1335329,)\n",
      "ic| TP_H + FN_H + FP_H + TN_H: 1335329\n",
      "    len(label_mask_current_deforestation_test): 44579578\n",
      "ic| TP_H + FN_H + FP_H + TN_H: 1335329\n",
      "    len(label_mask_current_deforestation_test): 44579578\n"
     ]
    },
    {
     "name": "stdout",
     "output_type": "stream",
     "text": [
      "cm_correct [[42778867     9958]\n",
      " [   77961   377463]]\n",
      "cm_incorrect [[911634  23830]\n",
      " [244529 155336]]\n",
      "[0.9742967  0.82881666 0.44132802 0.02995383 0.86699485 0.38847111]\n",
      "0.14946316270669135\n",
      "threshold 0.14946316270669135\n",
      "(43202562,) (43202562,)\n"
     ]
    },
    {
     "name": "stderr",
     "output_type": "stream",
     "text": [
      "ic| label_current_deforestation_test_classified_incorrect.shape: (1377016,)\n",
      "    predicted_test_classified_incorrect.shape: (1377016,)\n",
      "ic| TP_H + FN_H + FP_H + TN_H: 1377016\n",
      "    len(label_mask_current_deforestation_test): 44579578\n"
     ]
    },
    {
     "name": "stdout",
     "output_type": "stream",
     "text": [
      "cm_correct [[42743236     9590]\n",
      " [   76095   373641]]\n",
      "cm_incorrect [[947265  24198]\n",
      " [246395 159158]]\n"
     ]
    },
    {
     "name": "stderr",
     "output_type": "stream",
     "text": [
      "ic| TP_H + FN_H + FP_H + TN_H: 1377016\n",
      "    len(label_mask_current_deforestation_test): 44579578\n"
     ]
    },
    {
     "name": "stdout",
     "output_type": "stream",
     "text": [
      "[0.97497593 0.83080074 0.43685935 0.03088894 0.86802723 0.39244686]\n",
      "0.15437522639816895\n",
      "threshold 0.15437522639816895\n",
      "(43241195,) (43241195,)\n"
     ]
    },
    {
     "name": "stderr",
     "output_type": "stream",
     "text": [
      "ic| label_current_deforestation_test_classified_incorrect.shape: (1338383,)\n",
      "    predicted_test_classified_incorrect.shape: (1338383,)\n",
      "ic| TP_H + FN_H + FP_H + TN_H: 1338383\n",
      "    len(label_mask_current_deforestation_test): 44579578\n",
      "ic| TP_H + FN_H + FP_H + TN_H: 1338383\n",
      "    len(label_mask_current_deforestation_test"
     ]
    },
    {
     "name": "stdout",
     "output_type": "stream",
     "text": [
      "cm_correct [[42776308     9927]\n",
      " [   77812   377148]]\n",
      "cm_incorrect [[914193  23861]\n",
      " [244678 155651]]\n"
     ]
    },
    {
     "name": "stderr",
     "output_type": "stream",
     "text": [
      "): 44579578\n"
     ]
    },
    {
     "name": "stdout",
     "output_type": "stream",
     "text": [
      "[0.97435381 0.82896958 0.44095972 0.03002233 0.86707852 0.38880771]\n",
      "0.15336466548718056\n",
      "threshold 0.15336466548718056\n",
      "(43233327,) (43233327,)\n"
     ]
    },
    {
     "name": "stderr",
     "output_type": "stream",
     "text": [
      "ic| label_current_deforestation_test_classified_incorrect.shape: (1346251,)\n",
      "    predicted_test_classified_incorrect.shape: (1346251,)\n",
      "ic| TP_H + FN_H + FP_H + TN_H: 1346251\n",
      "    len(label_mask_current_deforestation_test): 44579578\n",
      "ic| TP_H + FN_H + FP_H + TN_H: 1346251\n",
      "    len(label_mask_current_deforestation_test): 44579578\n"
     ]
    },
    {
     "name": "stdout",
     "output_type": "stream",
     "text": [
      "cm_correct [[42769569     9856]\n",
      " [   77446   376456]]\n",
      "cm_incorrect [[920932  23932]\n",
      " [245044 156343]]\n",
      "[0.97448694 0.82937727 0.44015064 0.03019883 0.86724726 0.38950688]\n",
      "0.1544085620212569\n",
      "threshold 0.1544085620212569\n",
      "(43241426,) (43241426,)\n"
     ]
    },
    {
     "name": "stderr",
     "output_type": "stream",
     "text": [
      "ic| label_current_deforestation_test_classified_incorrect.shape: (1338152,)\n",
      "    predicted_test_classified_incorrect.shape: (1338152,)\n",
      "ic| TP_H + FN_H + FP_H + TN_H: 1338152\n",
      "    len(label_mask_current_deforestation_test): 44579578\n",
      "ic| TP_H + FN_H + FP_H + TN_H: 1338152\n",
      "    len(label_mask_current_deforestation_test): "
     ]
    },
    {
     "name": "stdout",
     "output_type": "stream",
     "text": [
      "cm_correct [[42776497     9931]\n",
      " [   77823   377175]]\n",
      "cm_incorrect [[914004  23857]\n",
      " [244667 155624]]\n"
     ]
    },
    {
     "name": "stderr",
     "output_type": "stream",
     "text": [
      "44579578\n"
     ]
    },
    {
     "name": "stdout",
     "output_type": "stream",
     "text": [
      "[0.97434553 0.82895969 0.44099129 0.03001715 0.86707785 0.38877716]\n",
      "0.15452343915662103\n",
      "threshold 0.15452343915662103\n",
      "(43242335,) (43242335,)\n"
     ]
    },
    {
     "name": "stderr",
     "output_type": "stream",
     "text": [
      "ic| label_current_deforestation_test_classified_incorrect.shape: (1337243,)\n",
      "    predicted_test_classified_incorrect.shape: (1337243,)\n",
      "ic| TP_H + FN_H + FP_H + TN_H: 1337243\n",
      "    len(label_mask_current_deforestation_test): 44579578\n",
      "ic| TP_H + FN_H"
     ]
    },
    {
     "name": "stdout",
     "output_type": "stream",
     "text": [
      "cm_correct [[42777260     9941]\n",
      " [   77857   377277]]\n",
      "cm_incorrect [[913241  23847]\n",
      " [244633 155522]]\n"
     ]
    },
    {
     "name": "stderr",
     "output_type": "stream",
     "text": [
      " + FP_H + TN_H: 1337243\n",
      "    len(label_mask_current_deforestation_test): 44579578\n"
     ]
    },
    {
     "name": "stdout",
     "output_type": "stream",
     "text": [
      "[0.97432712 0.82893609 0.44111055 0.02999676 0.86705061 0.3886544 ]\n",
      "0.15461878791178432\n",
      "threshold 0.15461878791178432\n",
      "(43243054,) (43243054,)\n"
     ]
    },
    {
     "name": "stderr",
     "output_type": "stream",
     "text": [
      "ic| label_current_deforestation_test_classified_incorrect.shape: (1336524,)\n",
      "    predicted_test_classified_incorrect.shape: (1336524,)\n",
      "ic| TP_H + FN_H + FP_H + TN_H: 1336524\n",
      "    len(label_mask_current_deforestation_test): 44579578\n",
      "ic| TP_H + FN_H + FP_H + TN_H: 1336524\n",
      "    len(label_mask_current_deforestation_test): 44579578\n"
     ]
    },
    {
     "name": "stdout",
     "output_type": "stream",
     "text": [
      "cm_correct [[42777872     9944]\n",
      " [   77890   377348]]\n",
      "cm_incorrect [[912629  23844]\n",
      " [244600 155451]]\n",
      "[0.97432428 0.82890268 0.44119356 0.02998063 0.86701247 0.38857796]\n",
      "0.15449010353133472\n",
      "threshold 0.15449010353133472\n",
      "(43242083,) (43242083,)\n"
     ]
    },
    {
     "name": "stderr",
     "output_type": "stream",
     "text": [
      "ic| label_current_deforestation_test_classified_incorrect.shape: (1337495,)\n",
      "    predicted_test_classified_incorrect.shape: (1337495,)\n",
      "ic| TP_H + FN_H + FP_H + TN_H: 1337495\n",
      "    len(label_mask_current_deforestation_test): 44579578\n",
      "ic| TP_H + FN_H + FP_H + TN_H: 1337495\n",
      "    len(label_mask_current_deforestation_test): 44579578\n"
     ]
    },
    {
     "name": "stdout",
     "output_type": "stream",
     "text": [
      "cm_correct [[42777043     9937]\n",
      " [   77846   377257]]\n",
      "cm_incorrect [[913458  23851]\n",
      " [244644 155542]]\n",
      "[0.97433586 0.82894861 0.44108716 0.03000242 0.86704609 0.38867427]\n",
      "0.15445676790654284\n",
      "threshold 0.15445676790654284\n",
      "(43241791,) (43241791,)\n"
     ]
    },
    {
     "name": "stderr",
     "output_type": "stream",
     "text": [
      "ic| label_current_deforestation_test_classified_incorrect.shape: (1337787,)\n",
      "    predicted_test_classified_incorrect.shape: (1337787,)\n",
      "ic| TP_H + FN_H + FP_H + TN_H: 1337787\n",
      "    len(label_mask_current_deforestation_test): 44579578\n",
      "ic| TP_H + FN_H + FP_H + TN_H: 1337787\n",
      "    len(label_mask_current_deforestation_test): 44579578\n"
     ]
    },
    {
     "name": "stdout",
     "output_type": "stream",
     "text": [
      "cm_correct [[42776796     9933]\n",
      " [   77837   377225]]\n",
      "cm_incorrect [[913705  23855]\n",
      " [244653 155574]]\n",
      "[0.97434381 0.82895298 0.44104975 0.03000897 0.86705048 0.3887144 ]\n"
     ]
    },
    {
     "name": "stderr",
     "output_type": "stream",
     "text": [
      "ic| self.threshold_optimal: 0.15449010353133472\n"
     ]
    },
    {
     "name": "stdout",
     "output_type": "stream",
     "text": [
      "threshold 0.15449010353133472\n",
      "(43242083,) (43242083,)\n"
     ]
    },
    {
     "name": "stderr",
     "output_type": "stream",
     "text": [
      "ic| label_current_deforestation_test_classified_incorrect.shape: (1337495,)\n",
      "    predicted_test_classified_incorrect.shape: (1337495,)\n",
      "ic| TP_H + FN_H + FP_H + TN_H: 1337495\n",
      "    len(label_mask_current_deforestation_test): 44579578\n",
      "ic| TP_H + FN_H + FP_H + TN_H: 1337495\n",
      "    len(label_mask_current_deforestation_test): 44579578\n"
     ]
    },
    {
     "name": "stdout",
     "output_type": "stream",
     "text": [
      "cm_correct [[42777043     9937]\n",
      " [   77846   377257]]\n",
      "cm_incorrect [[913458  23851]\n",
      " [244644 155542]]\n",
      "[0.97433586 0.82894861 0.44108716 0.03000242 0.86704609 0.38867427]\n",
      "threshold 0.15449010353133472\n",
      "(44579578,) (44579578,)\n"
     ]
    },
    {
     "name": "stderr",
     "output_type": "stream",
     "text": [
      "ic| self.m_optimal: {'AA': array([0.03000242]),\n",
      "                     'f1': 74.94,\n",
      "                     'f1_H': array([0.53674132]),\n",
      "                     'f1_L': array([0.89578142]),\n",
      "                     'precision_H': array([0.86704609]),\n",
      "                     'precision_L': array([0.97433586]),\n",
      "                     'recall_H': array([0.38867427]),\n",
      "                     'recall_L': array([0.82894861]),\n",
      "                     'recall_Ltotal': array([0.44108716])}\n",
      "ic| self.m_audited_optimal: {'f1': array([0.94656075]),\n",
      "                             'precision': array([0.98737966]),\n",
      "                             'recall': array([0.90898281])}\n"
     ]
    },
    {
     "name": "stdout",
     "output_type": "stream",
     "text": [
      "cm_audited [[43714352     9937]\n",
      " [   77846   777443]]\n",
      "[0.98737966 0.90898281]\n"
     ]
    },
    {
     "name": "stderr",
     "output_type": "stream",
     "text": [
      "ic| self.label_mask.shape: (16795, 10420)\n",
      "ic| self.mask_amazon_ts.shape: (16795, 10420)\n",
      "ic| self.label_mask_test.shape: (70001560,)\n",
      "ic| self.error_mask_test.shape: (44579578,)\n",
      "ic| bounds: (0.0015, 0.13738432085514068)\n",
      "c:\\Users\\jchamorro\\Anaconda3\\envs\\tf2\\lib\\site-packages\\scipy\\optimize\\_minimize.py:783: RuntimeWarning: Method 'bounded' does not support relative tolerance in x; defaulting to absolute tolerance.\n",
      "  warn(\"Method 'bounded' does not support relative tolerance in x; \"\n"
     ]
    },
    {
     "name": "stdout",
     "output_type": "stream",
     "text": [
      "0.05340319202846756\n",
      "threshold 0.05340319202846756\n",
      "(44567574,) (44567574,)\n"
     ]
    },
    {
     "name": "stderr",
     "output_type": "stream",
     "text": [
      "ic| label_current_deforestation_test_classified_incorrect.shape: (12004,)\n",
      "    predicted_test_classified_incorrect.shape: (12004,)\n",
      "ic| TP_H + FN_H + FP_H + TN_H: 12004\n",
      "    len(label_mask_current_deforestation_test): 44579578\n",
      "ic| TP_H + FN_H + FP_H + TN_H: 12004\n",
      "    len(label_mask_current_deforestation_test): 44579578\n"
     ]
    },
    {
     "name": "stdout",
     "output_type": "stream",
     "text": [
      "cm_correct [[43685477    31457]\n",
      " [  320348   530292]]\n",
      "cm_incorrect [[5024 2331]\n",
      " [2142 2507]]\n",
      "[9.44001680e-01 6.23403555e-01 6.20014989e-01 2.69271279e-04\n",
      " 5.18189334e-01 5.39255754e-01]\n",
      "0.08548112882667311\n",
      "threshold 0.08548112882667311\n",
      "(44577785,) (44577785,)\n"
     ]
    },
    {
     "name": "stderr",
     "output_type": "stream",
     "text": [
      "ic| label_current_deforestation_test_classified_incorrect.shape: (1793,)\n",
      "    predicted_test_classified_incorrect.shape: (1793,)\n",
      "ic| TP_H + FN_H + FP_H + TN_H: 1793\n",
      "    len(label_mask_current_deforestation_test): 44579578\n",
      "ic| TP_H + FN_H + FP_H + TN_H: 1793\n",
      "    len(label_mask_current_deforestation_test): 44579578\n"
     ]
    },
    {
     "name": "stdout",
     "output_type": "stream",
     "text": [
      "cm_correct [[43689318    33569]\n",
      " [  322205   532693]]\n",
      "cm_incorrect [[1183  219]\n",
      " [ 285  106]]\n",
      "[9.40718254e-01 6.23107084e-01 6.22822227e-01 4.02202102e-05\n",
      " 3.26153846e-01 2.71099744e-01]\n",
      "0.03357793679820555\n",
      "threshold 0.03357793679820555\n",
      "(44538355,) (44538355,)\n"
     ]
    },
    {
     "name": "stderr",
     "output_type": "stream",
     "text": [
      "ic| label_current_deforestation_test_classified_incorrect.shape: (41223,)\n",
      "    predicted_test_classified_incorrect.shape: (41223,)\n",
      "ic| TP_H + FN_H + FP_H + TN_H: 41223\n",
      "    len(label_mask_current_deforestation_test): 44579578\n",
      "ic| TP_H + FN_H + FP_H + TN_H: 41223\n",
      "    len(label_mask_current_deforestation_test): 44579578\n"
     ]
    },
    {
     "name": "stdout",
     "output_type": "stream",
     "text": [
      "cm_correct [[43675535    29985]\n",
      " [  315633   517202]]\n",
      "cm_incorrect [[14966  3803]\n",
      " [ 6857 15597]]\n",
      "[9.45201549e-01 6.21013766e-01 6.04710221e-01 9.24705927e-04\n",
      " 8.03969072e-01 6.94620112e-01]\n",
      "0.021325255230262012\n",
      "threshold 0.021325255230262012\n",
      "(44470896,) (44470896,)\n"
     ]
    },
    {
     "name": "stderr",
     "output_type": "stream",
     "text": [
      "ic| label_current_deforestation_test_classified_incorrect.shape: (108682,)\n",
      "    predicted_test_classified_incorrect.shape: (108682,)\n",
      "ic| TP_H + FN_H + FP_H + TN_H: 108682\n",
      "    len(label_mask_current_deforestation_test): 44579578\n",
      "ic| TP_H + FN_H + FP_H + TN_H: 108682\n",
      "    len(label_mask_current_deforestation_test): 44579578\n"
     ]
    },
    {
     "name": "stdout",
     "output_type": "stream",
     "text": [
      "cm_correct [[43651165    28687]\n",
      " [  303355   487689]]\n",
      "cm_incorrect [[39336  5101]\n",
      " [19135 45110]]\n",
      "[0.94444552 0.61651311 0.57020376 0.00243793 0.89840872 0.70215581]\n",
      "0.013752681567943549\n",
      "threshold 0.013752681567943549\n",
      "(44361917,) (44361917,)\n"
     ]
    },
    {
     "name": "stderr",
     "output_type": "stream",
     "text": [
      "ic| label_current_deforestation_test_classified_incorrect.shape: (217661,)\n",
      "    predicted_test_classified_incorrect.shape: (217661,)\n",
      "ic| TP_H + FN_H + FP_H + TN_H: 217661\n",
      "    len(label_mask_current_deforestation_test): 44579578\n",
      "ic| TP_H + FN_H + FP_H + TN_H: 217661\n",
      "    len(label_mask_current_deforestation_test): 44579578\n"
     ]
    },
    {
     "name": "stdout",
     "output_type": "stream",
     "text": [
      "cm_correct [[43602984    25241]\n",
      " [  284757   448935]]\n",
      "cm_incorrect [[87517  8547]\n",
      " [37733 83864]]\n",
      "[0.94676871 0.61188482 0.52489276 0.00488253 0.90751101 0.68968807]\n",
      "0.009072573662318468\n",
      "threshold 0.009072573662318468\n",
      "(44195047,) (44195047,)\n"
     ]
    },
    {
     "name": "stderr",
     "output_type": "stream",
     "text": [
      "ic| label_current_deforestation_test_classified_incorrect.shape: (384531,)\n",
      "    predicted_test_classified_incorrect.shape: (384531,)\n",
      "ic| TP_H + FN_H + FP_H + TN_H: 384531\n",
      "    len(label_mask_current_deforestation_test): 44579578\n",
      "ic| TP_H + FN_H + FP_H + TN_H: 384531\n",
      "    len(label_mask_current_deforestation_test): 44579578\n"
     ]
    },
    {
     "name": "stdout",
     "output_type": "stream",
     "text": [
      "cm_correct [[43516561    18442]\n",
      " [  259816   400228]]\n",
      "cm_incorrect [[173940  15346]\n",
      " [ 62674 132571]]\n",
      "[0.95595099 0.60636564 0.46794475 0.00862572 0.89625263 0.67899818]\n",
      "0.0061801079056250825\n",
      "threshold 0.0061801079056250825\n",
      "(43937613,) (43937613,)\n"
     ]
    },
    {
     "name": "stderr",
     "output_type": "stream",
     "text": [
      "ic| label_current_deforestation_test_classified_incorrect.shape: (641965,)\n",
      "    predicted_test_classified_incorrect.shape: (641965,)\n",
      "ic| TP_H + FN_H + FP_H + TN_H: 641965\n",
      "    len(label_mask_current_deforestation_test): 44579578\n",
      "ic| TP_H + FN_H + FP_H + TN_H: 641965\n",
      "    len(label_mask_current_deforestation_test): 44579578\n"
     ]
    },
    {
     "name": "stdout",
     "output_type": "stream",
     "text": [
      "cm_correct [[43347848    12579]\n",
      " [  224422   352764]]\n",
      "cm_incorrect [[342653  21209]\n",
      " [ 98068 180035]]\n",
      "[0.96556934 0.61117907 0.41245006 0.01440043 0.89461052 0.64736806]\n",
      "0.004392465756693387\n",
      "threshold 0.004392465756693387\n",
      "(43630635,) (43630635,)\n"
     ]
    },
    {
     "name": "stderr",
     "output_type": "stream",
     "text": [
      "ic| label_current_deforestation_test_classified_incorrect.shape: (948943,)\n",
      "    predicted_test_classified_incorrect.shape: (948943,)\n",
      "ic| TP_H + FN_H + FP_H + TN_H: 948943\n",
      "    len(label_mask_current_deforestation_test): 44579578\n",
      "ic| TP_H + FN_H + FP_H + TN_H: 948943\n",
      "    len(label_mask_current_deforestation_test): 44579578\n"
     ]
    },
    {
     "name": "stdout",
     "output_type": "stream",
     "text": [
      "cm_correct [[43118411     9244]\n",
      " [  181772   321208]]\n",
      "cm_incorrect [[572090  24544]\n",
      " [140718 211591]]\n",
      "[0.97202619 0.63860989 0.37555493 0.0212865  0.89605946 0.60058358]\n",
      "0.0032876421489316967\n",
      "threshold 0.0032876421489316967\n",
      "(43356371,) (43356371,)\n"
     ]
    },
    {
     "name": "stderr",
     "output_type": "stream",
     "text": [
      "ic| label_current_deforestation_test_classified_incorrect.shape: (1223207,)\n",
      "    predicted_test_classified_incorrect.shape: (1223207,)\n",
      "ic| TP_H + FN_H + FP_H + TN_H: 1223207\n",
      "    len(label_mask_current_deforestation_test): 44579578\n",
      "ic| TP_H + FN_H + FP_H + TN_H: 1223207\n",
      "    len(label_mask_current_deforestation_test): 44579578\n"
     ]
    },
    {
     "name": "stdout",
     "output_type": "stream",
     "text": [
      "cm_correct [[42904448     7320]\n",
      " [  141616   302987]]\n",
      "cm_incorrect [[786053  26468]\n",
      " [180874 229812]]\n",
      "[0.97641046 0.68147763 0.35425102 0.02743873 0.89672233 0.5595808 ]\n",
      "0.00260482360776169\n",
      "threshold 0.00260482360776169\n",
      "(43148897,) (43148897,)\n"
     ]
    },
    {
     "name": "stderr",
     "output_type": "stream",
     "text": [
      "ic| label_current_deforestation_test_classified_incorrect.shape: (1430681,)\n",
      "    predicted_test_classified_incorrect.shape: (1430681,)\n",
      "ic"
     ]
    },
    {
     "name": "stdout",
     "output_type": "stream",
     "text": [
      "cm_correct [[42736538     6203]\n",
      " [  114348   291808]]\n",
      "cm_incorrect [[953963  27585]\n",
      " [208142 240991]]\n"
     ]
    },
    {
     "name": "stderr",
     "output_type": "stream",
     "text": [
      "| TP_H + FN_H + FP_H + TN_H: 1430681\n",
      "    len(label_mask_current_deforestation_test): 44579578\n",
      "ic| TP_H + FN_H + FP_H + TN_H: 1430681\n",
      "    len(label_mask_current_deforestation_test): 44579578\n"
     ]
    },
    {
     "name": "stdout",
     "output_type": "stream",
     "text": [
      "[0.97918533 0.71846286 0.34118058 0.03209274 0.89729164 0.53656935]\n",
      "0.002820615653982703\n",
      "threshold 0.002820615653982703\n",
      "(43218002,) (43218002,)\n"
     ]
    },
    {
     "name": "stderr",
     "output_type": "stream",
     "text": [
      "ic| label_current_deforestation_test_classified_incorrect.shape: (1361576,)\n",
      "    predicted_test_classified_incorrect.shape: (1361576,)\n",
      "ic| TP_H + FN_H + FP_H + TN_H: 1361576\n",
      "    len(label_mask_current_deforestation_test): 44579578\n"
     ]
    },
    {
     "name": "stdout",
     "output_type": "stream",
     "text": [
      "cm_correct [[42793044     6537]\n",
      " [  122989   295432]]\n",
      "cm_incorrect [[897457  27251]\n",
      " [199501 237367]]\n"
     ]
    },
    {
     "name": "stderr",
     "output_type": "stream",
     "text": [
      "ic| TP_H + FN_H + FP_H + TN_H: 1361576\n",
      "    len(label_mask_current_deforestation_test): 44579578\n"
     ]
    },
    {
     "name": "stdout",
     "output_type": "stream",
     "text": [
      "[0.97835208 0.70606399 0.34541775 0.0305426  0.89701759 0.54333803]\n",
      "0.002925872696493372\n",
      "threshold 0.002925872696493372\n",
      "(43250285,) (43250285,)\n"
     ]
    },
    {
     "name": "stderr",
     "output_type": "stream",
     "text": [
      "ic| label_current_deforestation_test_classified_incorrect.shape: (1329293,)\n",
      "    predicted_test_classified_incorrect.shape: (1329293,)\n",
      "ic| TP_H + FN_H + FP_H + TN_H: 1329293\n",
      "    len(label_mask_current_deforestation_test): 44579578\n",
      "ic| TP_H + FN_H + FP_H + TN_H: 1329293\n",
      "    len(label_mask_current_deforestation_test): 44579578\n"
     ]
    },
    {
     "name": "stdout",
     "output_type": "stream",
     "text": [
      "cm_correct [[42819244     6691]\n",
      " [  127175   297175]]\n",
      "cm_incorrect [[871257  27097]\n",
      " [195315 235624]]\n",
      "[0.97798043 0.70030635 0.34745566 0.02981843 0.89686017 0.5467688 ]\n",
      "0.0030199268675319144\n",
      "threshold 0.0030199268675319144\n",
      "(43278558,) (43278558,)\n"
     ]
    },
    {
     "name": "stderr",
     "output_type": "stream",
     "text": [
      "ic| label_current_deforestation_test_classified_incorrect.shape: (1301020,)\n",
      "    predicted_test_classified_incorrect.shape: (1301020,)\n",
      "ic| TP_H + FN_H + FP_H + TN_H: 1301020\n",
      "    len(label_mask_current_deforestation_test): 44579578\n",
      "ic| TP_H + FN_H + FP_H + TN_H: 1301020\n",
      "    len(label_mask_current_deforestation_test): 44579578\n"
     ]
    },
    {
     "name": "stdout",
     "output_type": "stream",
     "text": [
      "cm_correct [[42841989     6845]\n",
      " [  130963   298761]]\n",
      "cm_incorrect [[848512  26943]\n",
      " [191527 234038]]\n",
      "[0.97760188 0.69523927 0.34931    0.02918422 0.8967626  0.54994654]\n",
      "0.0028925393197623333\n",
      "threshold 0.0028925393197623333\n",
      "(43240009,) (43240009,)\n"
     ]
    },
    {
     "name": "stderr",
     "output_type": "stream",
     "text": [
      "ic| label_current_deforestation_test_classified_incorrect.shape: (1339569,)\n",
      "    predicted_test_classified_incorrect.shape: (1339569,)\n",
      "ic| TP_H + FN_H + FP_H + TN_H: 1339569\n",
      "    len(label_mask_current_deforestation_test): 44579578\n",
      "ic| TP_H + FN_H + FP_H + TN_H: 1339569\n",
      "    len(label_mask_current_deforestation_test): 44579578\n"
     ]
    },
    {
     "name": "stdout",
     "output_type": "stream",
     "text": [
      "cm_correct [[42810948     6635]\n",
      " [  125796   296630]]\n",
      "cm_incorrect [[879553  27153]\n",
      " [196694 236169]]\n",
      "[0.97812144 0.70220583 0.34681844 0.03004894 0.8968829  0.54559757]\n",
      "0.0028592059435257086\n",
      "threshold 0.0028592059435257086\n",
      "(43229787,) (43229787,)\n"
     ]
    },
    {
     "name": "stderr",
     "output_type": "stream",
     "text": [
      "ic| label_current_deforestation_test_classified_incorrect.shape: (1349791,)\n",
      "    predicted_test_classified_incorrect.shape: (1349791,)\n",
      "ic| TP_H + FN_H + FP_H + TN_H: 1349791\n",
      "    len(label_mask_current_deforestation_test): 44579578\n",
      "ic| TP_H + FN_H + FP_H + TN_H: 1349791\n",
      "    len(label_mask_current_deforestation_test): 44579578\n"
     ]
    },
    {
     "name": "stdout",
     "output_type": "stream",
     "text": [
      "cm_correct [[42802651     6590]\n",
      " [  124466   296080]]\n",
      "cm_incorrect [[887850  27198]\n",
      " [198024 236719]]\n",
      "[0.97822711 0.70403713 0.34617539 0.03027824 0.89694487 0.5445033 ]\n"
     ]
    },
    {
     "name": "stderr",
     "output_type": "stream",
     "text": [
      "ic| self.threshold_optimal: 0.0028925393197623333\n"
     ]
    },
    {
     "name": "stdout",
     "output_type": "stream",
     "text": [
      "threshold 0.0028925393197623333\n",
      "(43240009,) (43240009,)\n"
     ]
    },
    {
     "name": "stderr",
     "output_type": "stream",
     "text": [
      "ic| label_current_deforestation_test_classified_incorrect.shape: (1339569,)\n",
      "    predicted_test_classified_incorrect.shape: (1339569,)\n",
      "ic| TP_H + FN_H + FP_H + TN_H: 1339569\n",
      "    len(label_mask_current_deforestation_test): 44579578\n",
      "ic| TP_H + FN_H + FP_H + TN_H: 1339569\n",
      "    len(label_mask_current_deforestation_test): 44579578\n"
     ]
    },
    {
     "name": "stdout",
     "output_type": "stream",
     "text": [
      "cm_correct [[42810948     6635]\n",
      " [  125796   296630]]\n",
      "cm_incorrect [[879553  27153]\n",
      " [196694 236169]]\n",
      "[0.97812144 0.70220583 0.34681844 0.03004894 0.8968829  0.54559757]\n",
      "threshold 0.0028925393197623333\n",
      "(44579578,) (44579578,)\n"
     ]
    },
    {
     "name": "stderr",
     "output_type": "stream",
     "text": [
      "ic| self.m_optimal: {'AA': array([0.03004894]),\n",
      "                     'f1': 74.94,\n",
      "                     'f1_H': array([0.67846621]),\n",
      "                     'f1_L': array([0.81751048]),\n",
      "                     'precision_H': array([0.8968829]),\n",
      "                     'precision_L': array([0.97812144]),\n",
      "                     'recall_H': array([0.54559757]),\n",
      "                     'recall_L': array([0.70220583]),\n",
      "                     'recall_Ltotal': array([0.34681844])}\n",
      "ic| self.m_audited_optimal: {'f1': array([0.91678422]),\n",
      "                             'precision': array([0.99098662]),\n",
      "                             'recall': array([0.85291989])}\n"
     ]
    },
    {
     "name": "stdout",
     "output_type": "stream",
     "text": [
      "cm_audited [[43717654     6635]\n",
      " [  125796   729493]]\n",
      "[0.99098662 0.85291989]\n"
     ]
    },
    {
     "name": "stderr",
     "output_type": "stream",
     "text": [
      "ic| n: 10, K: 1\n",
      "ic| self.label_mask.shape: (16795, 10420)\n",
      "ic| self.mask_amazon_ts.shape: (16795, 10420)\n",
      "ic| self.label_mask_test.shape: (70001560,)\n",
      "ic| self.error_mask_test.shape: (44579578,)\n",
      "ic| bounds: (0.0015, 0.20881931042671203)\n",
      "c:\\Users\\jchamorro\\Anaconda3\\envs\\tf2\\lib\\site-packages\\scipy\\optimize\\_minimize.py:783: RuntimeWarning: Method 'bounded' does not support relative tolerance in x; defaulting to absolute tolerance.\n",
      "  warn(\"Method 'bounded' does not support relative tolerance in x; \"\n"
     ]
    },
    {
     "name": "stdout",
     "output_type": "stream",
     "text": [
      "0.08068893005881352\n",
      "threshold 0.08068893005881352\n",
      "(44571961,) (44571961,)\n"
     ]
    },
    {
     "name": "stderr",
     "output_type": "stream",
     "text": [
      "ic| label_current_deforestation_test_classified_incorrect.shape: (7617,)\n",
      "    predicted_test_classified_incorrect.shape: (7617,)\n",
      "ic| TP_H + FN_H + FP_H + TN_H: 7617\n",
      "    len(label_mask_current_deforestation_test): 44579578\n",
      "ic| TP_H + FN_H + FP_H + TN_H: 7617\n",
      "    len(label_mask_current_deforestation_test): 44579578\n"
     ]
    },
    {
     "name": "stdout",
     "output_type": "stream",
     "text": [
      "cm_correct [[43684285    33571]\n",
      " [  321431   532674]]\n",
      "cm_incorrect [[6216  217]\n",
      " [1059  125]]\n",
      "[9.40712942e-01 6.23663367e-01 6.22800013e-01 1.70862990e-04\n",
      " 3.65497076e-01 1.05574324e-01]\n",
      "0.12963038036789848\n",
      "threshold 0.12963038036789848\n",
      "(44578732,) (44578732,)\n"
     ]
    },
    {
     "name": "stderr",
     "output_type": "stream",
     "text": [
      "ic| label_current_deforestation_test_classified_incorrect.shape: (846,)\n",
      "    predicted_test_classified_incorrect.shape: (846,)\n",
      "d:\\Jorge\\deforestation_uncertainty\\src\\metrics.py:299: RuntimeWarning: invalid value encountered in longlong_scalars\n",
      "  precision_H = TP_H / (TP_H + FP_H)\n",
      "ic| TP_H + FN_H + FP_H + TN_H: 846\n",
      "    len(label_mask_current_deforestation_test): 44579578\n",
      "ic| TP_H + FN_H + FP_H + TN_H: 846\n",
      "    len(label_mask_current_deforestation_test): 44579578\n"
     ]
    },
    {
     "name": "stdout",
     "output_type": "stream",
     "text": [
      "cm_correct [[43689697    33788]\n",
      " [  322448   532799]]\n",
      "cm_incorrect [[804   0]\n",
      " [ 42   0]]\n",
      "[9.40365734e-01 6.22976754e-01 6.22946162e-01 1.89772994e-05\n",
      "            nan 0.00000000e+00]\n",
      "0.050441450309084965\n",
      "threshold 0.050441450309084965\n",
      "(44533846,) (44533846,)\n"
     ]
    },
    {
     "name": "stderr",
     "output_type": "stream",
     "text": [
      "ic| label_current_deforestation_test_classified_incorrect.shape: (45732,)\n",
      "    predicted_test_classified_incorrect.shape: (45732,)\n",
      "ic| TP_H + FN_H + FP_H + TN_H: 45732\n",
      "    len(label_mask_current_deforestation_test): 44579578\n",
      "ic| TP_H + FN_H + FP_H + TN_H: 45732\n",
      "    len(label_mask_current_deforestation_test): 44579578\n"
     ]
    },
    {
     "name": "stdout",
     "output_type": "stream",
     "text": [
      "cm_correct [[43653161    31982]\n",
      " [  317661   531042]]\n",
      "cm_incorrect [[37340  1806]\n",
      " [ 4829  1757]]\n",
      "[0.94319603 0.62571005 0.62089189 0.00102585 0.49312377 0.26677801]\n",
      "0.03174747974972856\n",
      "threshold 0.03174747974972856\n",
      "(44159821,) (44159821,)\n"
     ]
    },
    {
     "name": "stderr",
     "output_type": "stream",
     "text": [
      "ic| label_current_deforestation_test_classified_incorrect.shape: (419757,)\n",
      "    predicted_test_classified_incorrect.shape: (419757,)\n",
      "ic| TP_H + FN_H + FP_H + TN_H: 419757\n",
      "    len(label_mask_current_deforestation_test): 44579578\n",
      "ic| TP_H + FN_H + FP_H + TN_H: 419757\n",
      "    len(label_mask_current_deforestation_test): 44579578\n"
     ]
    },
    {
     "name": "stdout",
     "output_type": "stream",
     "text": [
      "cm_correct [[43304264    30518]\n",
      " [  303556   521483]]\n",
      "cm_incorrect [[386237   3270]\n",
      " [ 18934  11316]]\n",
      "[0.94471387 0.63207073 0.60971555 0.0094159  0.77581242 0.37408264]\n",
      "0.020193970559356414\n",
      "threshold 0.020193970559356414\n",
      "(43158665,) (43158665,)\n"
     ]
    },
    {
     "name": "stderr",
     "output_type": "stream",
     "text": [
      "ic| label_current_deforestation_test_classified_incorrect.shape: (1420913,)\n",
      "    predicted_test_classified_incorrect.shape: (1420913,)\n",
      "ic| TP_H + FN_H + FP_H + TN_H: 1420913\n",
      "    len(label_mask_current_deforestation_test): 44579578\n",
      "ic| TP_H + FN_H + FP_H + TN_H: 1420913\n",
      "    len(label_mask_current_deforestation_test): 44579578\n"
     ]
    },
    {
     "name": "stdout",
     "output_type": "stream",
     "text": [
      "cm_correct [[42380668    29178]\n",
      " [  248322   500497]]\n",
      "cm_incorrect [[1309833    4610]\n",
      " [  74168   32302]]\n",
      "[0.94491339 0.66838181 0.58517881 0.03187363 0.87510837 0.30339063]\n",
      "0.01305350919037215\n",
      "threshold 0.01305350919037215\n",
      "(41649887,) (41649887,)\n"
     ]
    },
    {
     "name": "stderr",
     "output_type": "stream",
     "text": [
      "ic| label_current_deforestation_test_classified_incorrect.shape: (2929691,)\n",
      "    predicted_test_classified_incorrect.shape: (2929691,)\n"
     ]
    },
    {
     "name": "stdout",
     "output_type": "stream",
     "text": [
      "cm_correct [[40978890    27184]\n",
      " [  171157   472656]]\n"
     ]
    },
    {
     "name": "stderr",
     "output_type": "stream",
     "text": [
      "ic| TP_H + FN_H + FP_H + TN_H: 2929691\n",
      "    len(label_mask_current_deforestation_test): 44579578\n",
      "ic| TP_H + FN_H + FP_H + TN_H: 2929691\n",
      "    len(label_mask_current_deforestation_test): 44579578\n"
     ]
    },
    {
     "name": "stdout",
     "output_type": "stream",
     "text": [
      "cm_incorrect [[2711611    6604]\n",
      " [ 151333   60143]]\n",
      "[0.9456146  0.73415107 0.55262724 0.06571823 0.90105922 0.28439634]\n",
      "0.02460701838074429\n",
      "threshold 0.02460701838074429\n",
      "(43704007,) (43704007,)\n"
     ]
    },
    {
     "name": "stderr",
     "output_type": "stream",
     "text": [
      "ic| label_current_deforestation_test_classified_incorrect.shape: (875571,)\n",
      "    predicted_test_classified_incorrect.shape: (875571,)\n",
      "ic| TP_H + FN_H + FP_H + TN_H: 875571\n",
      "    len(label_mask_current_deforestation_test): 44579578\n",
      "ic| TP_H + FN_H + FP_H + TN_H: 875571\n",
      "    len(label_mask_current_deforestation_test): 44579578\n"
     ]
    },
    {
     "name": "stdout",
     "output_type": "stream",
     "text": [
      "cm_correct [[42885041    29799]\n",
      " [  278080   511087]]\n",
      "cm_incorrect [[805460   3989]\n",
      " [ 44410  21712]]\n",
      "[0.94490706 0.64762845 0.59756059 0.01964063 0.84479203 0.32836272]\n",
      "0.01746655701176003\n",
      "threshold 0.01746655701176003\n",
      "(42670397,) (42670397,)\n"
     ]
    },
    {
     "name": "stderr",
     "output_type": "stream",
     "text": [
      "ic| label_current_deforestation_test_classified_incorrect.shape: (1909181,)\n",
      "    predicted_test_classified_incorrect.shape: (1909181,)\n"
     ]
    },
    {
     "name": "stdout",
     "output_type": "stream",
     "text": [
      "cm_correct [[41924980    28688]\n",
      " [  225093   491636]]\n"
     ]
    },
    {
     "name": "stderr",
     "output_type": "stream",
     "text": [
      "ic| TP_H + FN_H + FP_H + TN_H: 1909181\n",
      "    len(label_mask_current_deforestation_test): 44579578\n",
      "ic| TP_H + FN_H + FP_H + TN_H: 1909181\n",
      "    len(label_mask_current_deforestation_test): 44579578\n"
     ]
    },
    {
     "name": "stdout",
     "output_type": "stream",
     "text": [
      "cm_incorrect [[1765521    5100]\n",
      " [  97397   41163]]\n",
      "[0.94486512 0.68594406 0.57481857 0.04282636 0.88976072 0.29707708]\n",
      "0.021244493263678815\n",
      "threshold 0.021244493263678815\n",
      "(43314920,) (43314920,)\n"
     ]
    },
    {
     "name": "stderr",
     "output_type": "stream",
     "text": [
      "ic| label_current_deforestation_test_classified_incorrect.shape: (1264658,)\n",
      "    predicted_test_classified_incorrect.shape: (1264658,)\n",
      "ic| TP_H + FN_H + FP_H + TN_H: 1264658\n",
      "    len(label_mask_current_deforestation_test): 44579578\n",
      "ic| TP_H + FN_H + FP_H + TN_H: 1264658\n",
      "    len(label_mask_current_deforestation_test): 44579578\n"
     ]
    },
    {
     "name": "stdout",
     "output_type": "stream",
     "text": [
      "cm_correct [[42526006    29368]\n",
      " [  256114   503432]]\n",
      "cm_incorrect [[1164495    4420]\n",
      " [  66376   29367]]\n",
      "[0.94487988 0.66280647 0.5886104  0.02836855 0.86918045 0.30672738]\n",
      "0.020899219863827354\n",
      "threshold 0.020899219863827354\n",
      "(43265644,) (43265644,)\n"
     ]
    },
    {
     "name": "stderr",
     "output_type": "stream",
     "text": [
      "ic| label_current_deforestation_test_classified_incorrect.shape: (1313934,)\n",
      "    predicted_test_classified_incorrect.shape: (1313934,)\n",
      "ic| TP_H + FN_H + FP_H + TN_H: 1313934\n",
      "    len(label_mask_current_deforestation_test): 44579578\n",
      "ic| TP_H + FN_H + FP_H + TN_H: 1313934\n",
      "    len(label_mask_current_deforestation_test): 44579578\n"
     ]
    },
    {
     "name": "stdout",
     "output_type": "stream",
     "text": [
      "cm_correct [[42480238    29301]\n",
      " [  253630   502475]]\n",
      "cm_incorrect [[1210263    4487]\n",
      " [  68860   30324]]\n",
      "[0.94489973 0.66455717 0.58749148 0.0294739  0.87110396 0.3057348 ]\n",
      "0.02074291898826372\n",
      "threshold 0.02074291898826372\n",
      "(43242558,) (43242558,)\n"
     ]
    },
    {
     "name": "stderr",
     "output_type": "stream",
     "text": [
      "ic| label_current_deforestation_test_classified_incorrect.shape: (1337020,)\n",
      "    predicted_test_classified_incorrect.shape: (1337020,)\n",
      "ic| TP_H + FN_H + FP_H + TN_H: 1337020\n",
      "    len(label_mask_current_deforestation_test): 44579578\n",
      "ic| TP_H + FN_H + FP_H + TN_H: 1337020\n",
      "    len(label_mask_current_deforestation_test): 44579578\n"
     ]
    },
    {
     "name": "stdout",
     "output_type": "stream",
     "text": [
      "cm_correct [[42458789    29273]\n",
      " [  252503   501993]]\n",
      "cm_incorrect [[1231712    4515]\n",
      " [  69987   30806]]\n",
      "[0.94489954 0.66533554 0.58692793 0.02999176 0.87217236 0.3056363 ]\n",
      "0.020533239346491983\n",
      "threshold 0.020533239346491983\n",
      "(43211220,) (43211220,)\n"
     ]
    },
    {
     "name": "stderr",
     "output_type": "stream",
     "text": [
      "ic| label_current_deforestation_test_classified_incorrect.shape: (1368358,)\n",
      "    predicted_test_classified_incorrect.shape: (1368358,)\n",
      "ic| TP_H + FN_H + FP_H + TN_H: 1368358\n",
      "    len(label_mask_current_deforestation_test): 44579578\n",
      "ic| TP_H + FN_H + FP_H + TN_H: 1368358\n",
      "    len(label_mask_current_deforestation_test): 44579578\n"
     ]
    },
    {
     "name": "stdout",
     "output_type": "stream",
     "text": [
      "cm_correct [[42429634    29234]\n",
      " [  250918   501434]]\n",
      "cm_incorrect [[1260867    4554]\n",
      " [  71572   31365]]\n",
      "[0.94491094 0.66648856 0.58627435 0.03069473 0.87321473 0.30470093]\n",
      "0.02070958534726318\n",
      "threshold 0.02070958534726318\n",
      "(43237590,) (43237590,)\n"
     ]
    },
    {
     "name": "stderr",
     "output_type": "stream",
     "text": [
      "ic| label_current_deforestation_test_classified_incorrect.shape: (1341988,)\n",
      "    predicted_test_classified_incorrect.shape: (1341988,)\n",
      "ic| TP_H + FN_H + FP_H + TN_H: 1341988\n",
      "    len(label_mask_current_deforestation_test): 44579578\n",
      "ic| TP_H + "
     ]
    },
    {
     "name": "stdout",
     "output_type": "stream",
     "text": [
      "cm_correct [[42454175    29265]\n",
      " [  252246   501904]]\n",
      "cm_incorrect [[1236326    4523]\n",
      " [  70244   30895]]\n"
     ]
    },
    {
     "name": "stderr",
     "output_type": "stream",
     "text": [
      "FN_H + FP_H + TN_H: 1341988\n",
      "    len(label_mask_current_deforestation_test): 44579578\n"
     ]
    },
    {
     "name": "stdout",
     "output_type": "stream",
     "text": [
      "[0.94490454 0.66552277 0.58682387 0.0301032  0.87229657 0.30547069]\n",
      "0.02077625262926426\n",
      "threshold 0.02077625262926426\n",
      "(43247627,) (43247627,)\n"
     ]
    },
    {
     "name": "stderr",
     "output_type": "stream",
     "text": [
      "ic| label_current_deforestation_test_classified_incorrect.shape: (1331951,)\n",
      "    predicted_test_classified_incorrect.shape: (1331951,)\n",
      "ic| TP_H + FN_H + FP_H + TN_H: 1331951\n",
      "    len(label_mask_current_deforestation_test): 44579578\n",
      "ic| TP_H + FN_H + FP_H + TN_H: 1331951\n",
      "    len(label_mask_current_deforestation_test): 44579578\n"
     ]
    },
    {
     "name": "stdout",
     "output_type": "stream",
     "text": [
      "cm_correct [[42463511    29284]\n",
      " [  252733   502099]]\n",
      "cm_incorrect [[1226990    4504]\n",
      " [  69757   30700]]\n",
      "[0.94489097 0.6651798  0.58705186 0.02987805 0.87205999 0.30560339]\n"
     ]
    },
    {
     "name": "stderr",
     "output_type": "stream",
     "text": [
      "ic| self.threshold_optimal: 0.02074291898826372\n"
     ]
    },
    {
     "name": "stdout",
     "output_type": "stream",
     "text": [
      "threshold 0.02074291898826372\n",
      "(43242558,) (43242558,)\n"
     ]
    },
    {
     "name": "stderr",
     "output_type": "stream",
     "text": [
      "ic| label_current_deforestation_test_classified_incorrect.shape: (1337020,)\n",
      "    predicted_test_classified_incorrect.shape: (1337020,)\n",
      "ic| TP_H + FN_H + FP_H + TN_H: 1337020\n",
      "    len(label_mask_current_deforestation_test): 44579578\n",
      "ic| TP_H + FN_H + FP_H + TN_H: 1337020\n",
      "    len(label_mask_current_deforestation_test): 44579578\n"
     ]
    },
    {
     "name": "stdout",
     "output_type": "stream",
     "text": [
      "cm_correct [[42458789    29273]\n",
      " [  252503   501993]]\n",
      "cm_incorrect [[1231712    4515]\n",
      " [  69987   30806]]\n",
      "[0.94489954 0.66533554 0.58692793 0.02999176 0.87217236 0.3056363 ]\n",
      "threshold 0.02074291898826372\n",
      "(44579578,) (44579578,)\n"
     ]
    },
    {
     "name": "stderr",
     "output_type": "stream",
     "text": [
      "ic| self.m_optimal: {'AA': array([0.02999176]),\n",
      "                     'f1': 74.94,\n",
      "                     'f1_H': array([0.45264998]),\n",
      "                     'f1_L': array([0.78084902]),\n",
      "                     'precision_H': array([0.87217236]),\n",
      "                     'precision_L': array([0.94489954]),\n",
      "                     'recall_H': array([0.3056363]),\n",
      "                     'recall_L': array([0.66533554]),\n",
      "                     'recall_Ltotal': array([0.58692793])}\n",
      "ic| self.m_audited_optimal: {'f1': array([0.8105514]),\n",
      "                             'precision': array([0.95368629]),\n",
      "                             'recall': array([0.70477464])}\n"
     ]
    },
    {
     "name": "stdout",
     "output_type": "stream",
     "text": [
      "cm_audited [[43695016    29273]\n",
      " [  252503   602786]]\n",
      "[0.95368629 0.70477464]\n"
     ]
    },
    {
     "name": "stderr",
     "output_type": "stream",
     "text": [
      "ic| self.label_mask.shape: (16795, 10420)\n",
      "ic| self.mask_amazon_ts.shape: (16795, 10420)\n",
      "ic| self.label_mask_test.shape: (70001560,)\n",
      "ic| self.error_mask_test.shape: (44579578,)\n",
      "ic| bounds: (0.0015, 0.4911268458366394)\n",
      "c:\\Users\\jchamorro\\Anaconda3\\envs\\tf2\\lib\\site-packages\\scipy\\optimize\\_minimize.py:783: RuntimeWarning: Method 'bounded' does not support relative tolerance in x; defaulting to absolute tolerance.\n",
      "  warn(\"Method 'bounded' does not support relative tolerance in x; \"\n"
     ]
    },
    {
     "name": "stdout",
     "output_type": "stream",
     "text": [
      "0.18852081330519127\n",
      "threshold 0.18852081330519127\n",
      "(44578928,) (44578928,)\n"
     ]
    },
    {
     "name": "stderr",
     "output_type": "stream",
     "text": [
      "ic| label_current_deforestation_test_classified_incorrect.shape: (650,)\n",
      "    predicted_test_classified_incorrect.shape: (650,)\n",
      "ic| TP_H + FN_H + FP_H + TN_H: 650\n",
      "    len(label_mask_current_deforestation_test): 44579578\n",
      "ic| TP_H + FN_H + FP_H + TN_H: 650\n",
      "    len(label_mask_current_deforestation_test): 44579578\n"
     ]
    },
    {
     "name": "stdout",
     "output_type": "stream",
     "text": [
      "cm_correct [[43689858    33784]\n",
      " [  322488   532798]]\n",
      "cm_incorrect [[643   4]\n",
      " [  2   1]]\n",
      "[9.40372267e-01 6.22947178e-01 6.22944993e-01 1.45806674e-05\n",
      " 2.00000000e-01 3.33333333e-01]\n",
      "0.3041060325314481\n",
      "threshold 0.3041060325314481\n",
      "(44579532,) (44579532,)\n"
     ]
    },
    {
     "name": "stderr",
     "output_type": "stream",
     "text": [
      "ic| label_current_deforestation_test_classified_incorrect.shape: (46,)\n",
      "    predicted_test_classified_incorrect.shape: (46,)\n",
      "ic| np.all(label_current_deforestation_test_classified_incorrect) == 0: True\n",
      "ic| np.all(predicted_test_classified_incorrect) == 0: True\n"
     ]
    },
    {
     "name": "stdout",
     "output_type": "stream",
     "text": [
      "cm_correct [[43690455    33788]\n",
      " [  322490   532799]]\n",
      "cm_incorrect [[46]]\n",
      "[           nan            nan            nan 1.03186262e-06\n",
      "            nan            nan]\n",
      "0.11708521922625678\n",
      "threshold 0.11708521922625678\n",
      "(44574800,) (44574800,)\n"
     ]
    },
    {
     "name": "stderr",
     "output_type": "stream",
     "text": [
      "ic| label_current_deforestation_test_classified_incorrect.shape: (4778,)\n",
      "    predicted_test_classified_incorrect.shape: (4778,)\n",
      "ic| TP_H + FN_H + FP_H + TN_H: 4778\n",
      "    len(label_mask_current_deforestation_test): 44579578\n",
      "ic| TP_H + FN_H + FP_H + TN_H: 4778\n",
      "    len(label_mask_current_deforestation_test): 44579578\n"
     ]
    },
    {
     "name": "stdout",
     "output_type": "stream",
     "text": [
      "cm_correct [[43686105    33711]\n",
      " [  322260   532724]]\n",
      "cm_incorrect [[4396   77]\n",
      " [ 230   75]]\n",
      "[9.40485669e-01 6.23080666e-01 6.22858472e-01 1.07179121e-04\n",
      " 4.93421053e-01 2.45901639e-01]\n",
      "0.07293559407893452\n",
      "threshold 0.07293559407893452\n",
      "(44522540,) (44522540,)\n"
     ]
    },
    {
     "name": "stderr",
     "output_type": "stream",
     "text": [
      "ic| label_current_deforestation_test_classified_incorrect.shape: (57038,)\n",
      "    predicted_test_classified_incorrect.shape: (57038,)\n",
      "ic| TP_H + FN_H + FP_H + TN_H: 57038\n",
      "    len(label_mask_current_deforestation_test): 44579578\n",
      "ic| TP_H + FN_H + FP_H + TN_H: 57038\n",
      "    len(label_mask_current_deforestation_test): 44579578\n"
     ]
    },
    {
     "name": "stdout",
     "output_type": "stream",
     "text": [
      "cm_correct [[43637335    32775]\n",
      " [  320352   532078]]\n",
      "cm_incorrect [[53166  1013]\n",
      " [ 2138   721]]\n",
      "[0.94197605 0.62418967 0.62210317 0.00127946 0.41580161 0.25218608]\n",
      "0.04564962514732228\n",
      "threshold 0.04564962514732228\n",
      "(43987633,) (43987633,)\n"
     ]
    },
    {
     "name": "stderr",
     "output_type": "stream",
     "text": [
      "ic| label_current_deforestation_test_classified_incorrect.shape: (591945,)\n",
      "    predicted_test_classified_incorrect.shape: (591945,)\n",
      "ic| TP_H + FN_H + FP_H + TN_H: 591945\n",
      "    len(label_mask_current_deforestation_test): 44579578\n",
      "ic| TP_H + FN_H + FP_H + TN_H: 591945\n",
      "    len(label_mask_current_deforestation_test): 44579578\n"
     ]
    },
    {
     "name": "stdout",
     "output_type": "stream",
     "text": [
      "cm_correct [[43115724    31210]\n",
      " [  313154   527545]]\n",
      "cm_incorrect [[574777   2578]\n",
      " [  9336   5254]]\n",
      "[0.94414368 0.62750759 0.61680321 0.01327839 0.67083759 0.36010966]\n",
      "0.028785968931612255\n",
      "threshold 0.028785968931612255\n",
      "(42948921,) (42948921,)\n"
     ]
    },
    {
     "name": "stderr",
     "output_type": "stream",
     "text": [
      "ic| label_current_deforestation_test_classified_incorrect.shape: (1630657,)\n",
      "    predicted_test_classified_incorrect.shape: (1630657,)\n",
      "ic"
     ]
    },
    {
     "name": "stdout",
     "output_type": "stream",
     "text": [
      "cm_correct [[42126841    29990]\n",
      " [  277957   514133]]\n",
      "cm_incorrect [[1563660    3798]\n",
      " [  44533   18666]]\n"
     ]
    },
    {
     "name": "stderr",
     "output_type": "stream",
     "text": [
      "| TP_H + FN_H + FP_H + TN_H: 1630657\n",
      "    len(label_mask_current_deforestation_test): 44579578\n",
      "ic| TP_H + FN_H + FP_H + TN_H: 1630657\n",
      "    len(label_mask_current_deforestation_test): 44579578\n"
     ]
    },
    {
     "name": "stdout",
     "output_type": "stream",
     "text": [
      "[0.94488379 0.64908407 0.60112196 0.03657857 0.83092949 0.29535277]\n",
      "0.018363656215710032\n",
      "threshold 0.018363656215710032\n",
      "(41565624,) (41565624,)\n"
     ]
    },
    {
     "name": "stderr",
     "output_type": "stream",
     "text": [
      "ic| label_current_deforestation_test_classified_incorrect.shape: (3013954,)\n",
      "    predicted_test_classified_incorrect.shape: (3013954,)\n"
     ]
    },
    {
     "name": "stdout",
     "output_type": "stream",
     "text": [
      "cm_correct [[40839143    28612]\n",
      " [  206731   491138]]\n"
     ]
    },
    {
     "name": "stderr",
     "output_type": "stream",
     "text": [
      "ic| TP_H + FN_H + FP_H + TN_H: 3013954\n",
      "    len(label_mask_current_deforestation_test): 44579578\n",
      "ic| TP_H + FN_H + FP_H + TN_H: 3013954\n",
      "    len(label_mask_current_deforestation_test): 44579578\n"
     ]
    },
    {
     "name": "stdout",
     "output_type": "stream",
     "text": [
      "cm_incorrect [[2851358    5176]\n",
      " [ 115759   41661]]\n",
      "[0.94495046 0.70376819 0.57423631 0.0676084  0.88948908 0.26464871]\n",
      "0.035227312431420056\n",
      "threshold 0.035227312431420056\n",
      "(43463269,) (43463269,)\n"
     ]
    },
    {
     "name": "stderr",
     "output_type": "stream",
     "text": [
      "ic| label_current_deforestation_test_classified_incorrect.shape: (1116309,)\n",
      "    predicted_test_classified_incorrect.shape: (1116309,)\n",
      "ic| TP_H + FN_H + FP_H + TN_H: 1116309\n",
      "    len(label_mask_current_deforestation_test): 44579578\n",
      "ic| TP_H + FN_H + FP_H + TN_H: 1116309\n",
      "    len(label_mask_current_deforestation_test): 44579578\n"
     ]
    },
    {
     "name": "stdout",
     "output_type": "stream",
     "text": [
      "cm_correct [[42611195    30525]\n",
      " [  300326   521223]]\n",
      "cm_incorrect [[1079306    3263]\n",
      " [  22164   11576]]\n",
      "[0.94467583 0.63443933 0.60941156 0.02504082 0.78010648 0.34309425]\n",
      "0.03354274182567982\n",
      "threshold 0.03354274182567982\n",
      "(43345684,) (43345684,)\n"
     ]
    },
    {
     "name": "stderr",
     "output_type": "stream",
     "text": [
      "ic| label_current_deforestation_test_classified_incorrect.shape: (1233894,)\n",
      "    predicted_test_classified_incorrect.shape: (1233894,)\n",
      "ic| TP_H + FN_H + FP_H + TN_H: 1233894\n",
      "    len(label_mask_current_deforestation_test): 44579578\n",
      "ic| TP_H + FN_H + FP_H + TN_H: 1233894\n",
      "    len(label_mask_current_deforestation_test): 44579578\n"
     ]
    },
    {
     "name": "stdout",
     "output_type": "stream",
     "text": [
      "cm_correct [[42499766    30402]\n",
      " [  295845   519671]]\n",
      "cm_incorrect [[1190735    3386]\n",
      " [  26645   13128]]\n",
      "[0.94473097 0.63722968 0.60759696 0.02767846 0.79496185 0.33007317]\n",
      "0.032335688845070654\n",
      "threshold 0.032335688845070654\n",
      "(43254353,) (43254353,)\n"
     ]
    },
    {
     "name": "stderr",
     "output_type": "stream",
     "text": [
      "ic| label_current_deforestation_test_classified_incorrect.shape: (1325225,)\n",
      "    predicted_test_classified_incorrect.shape: (1325225,)\n",
      "ic| TP_H + FN_H + FP_H + TN_H: 1325225\n",
      "    len(label_mask_current_deforestation_test): 44579578\n",
      "ic| TP_H + FN_H + FP_H + TN_H: 1325225\n",
      "    len(label_mask_current_deforestation_test): 44579578\n"
     ]
    },
    {
     "name": "stdout",
     "output_type": "stream",
     "text": [
      "cm_correct [[42413533    30307]\n",
      " [  292047   518466]]\n",
      "cm_incorrect [[1276968    3481]\n",
      " [  30443   14333]]\n",
      "[0.94477316 0.63967635 0.60618808 0.02972718 0.80459189 0.32010452]\n",
      "0.03097981648867188\n",
      "threshold 0.03097981648867188\n",
      "(43143898,) (43143898,)\n"
     ]
    },
    {
     "name": "stderr",
     "output_type": "stream",
     "text": [
      "ic| label_current_deforestation_test_classified_incorrect.shape: (1435680,)\n",
      "    predicted_test_classified_incorrect.shape: (1435680,)\n",
      "ic| TP_H + FN_H + FP_H + TN_H: 1435680\n",
      "    len(label_mask_current_deforestation_test): 44579578\n",
      "ic| TP_H + FN_H + FP_H + TN_H: 1435680\n",
      "    len(label_mask_current_deforestation_test): "
     ]
    },
    {
     "name": "stdout",
     "output_type": "stream",
     "text": [
      "cm_correct [[42309566    30190]\n",
      " [  287272   516870]]\n",
      "cm_incorrect [[1380935    3598]\n",
      " [  35218   15929]]\n"
     ]
    },
    {
     "name": "stderr",
     "output_type": "stream",
     "text": [
      "44579578\n"
     ]
    },
    {
     "name": "stdout",
     "output_type": "stream",
     "text": [
      "[0.9448141  0.64275961 0.60432205 0.03220488 0.81574231 0.31143567]\n",
      "0.03224259699216282\n",
      "threshold 0.03224259699216282\n",
      "(43247054,) (43247054,)\n"
     ]
    },
    {
     "name": "stderr",
     "output_type": "stream",
     "text": [
      "ic| label_current_deforestation_test_classified_incorrect.shape: (1332524,)\n",
      "    predicted_test_classified_incorrect.shape: (1332524,)\n",
      "ic| TP_H + FN_H + FP_H + TN_H: 1332524\n",
      "    len(label_mask_current_deforestation_test): 44579578\n",
      "ic| TP_H + FN_H + FP_H + TN_H: 1332524\n",
      "    len(label_mask_current_deforestation_test): 44579578\n"
     ]
    },
    {
     "name": "stdout",
     "output_type": "stream",
     "text": [
      "cm_correct [[42406628    30299]\n",
      " [  291757   518370]]\n",
      "cm_incorrect [[1283873    3489]\n",
      " [  30733   14429]]\n",
      "[0.94477727 0.63986264 0.60607584 0.02989091 0.80527961 0.31949427]\n",
      "0.031940344667490204\n",
      "threshold 0.031940344667490204\n",
      "(43223061,) (43223061,)\n"
     ]
    },
    {
     "name": "stderr",
     "output_type": "stream",
     "text": [
      "ic| label_current_deforestation_test_classified_incorrect.shape: (1356517,)\n",
      "    predicted_test_classified_incorrect.shape: (1356517,)\n",
      "ic| TP_H + FN_H + FP_H + TN_H: 1356517\n",
      "    len(label_mask_current_deforestation_test): 44579578\n",
      "ic| TP_H + FN_H + FP_H + TN_H: 1356517\n",
      "    len(label_mask_current_deforestation_test): 44579578\n"
     ]
    },
    {
     "name": "stdout",
     "output_type": "stream",
     "text": [
      "cm_correct [[42384064    30273]\n",
      " [  290708   518016]]\n",
      "cm_incorrect [[1306437    3515]\n",
      " [  31782   14783]]\n",
      "[0.94478642 0.64053497 0.60566195 0.03042911 0.8079025  0.3174702 ]\n",
      "0.03212714687731655\n",
      "threshold 0.03212714687731655\n",
      "(43237896,) (43237896,)\n"
     ]
    },
    {
     "name": "stderr",
     "output_type": "stream",
     "text": [
      "ic| label_current_deforestation_test_classified_incorrect.shape: (1341682,)\n",
      "    predicted_test_classified_incorrect.shape: (1341682,)\n",
      "ic| TP_H + FN_H + FP_H + TN_H: 1341682\n",
      "    len(label_mask_current_deforestation_test): 44579578\n",
      "ic| TP_H + FN_H"
     ]
    },
    {
     "name": "stdout",
     "output_type": "stream",
     "text": [
      "cm_correct [[42398036    30288]\n",
      " [  291342   518230]]\n",
      "cm_incorrect [[1292465    3500]\n",
      " [  31148   14569]]\n"
     ]
    },
    {
     "name": "stderr",
     "output_type": "stream",
     "text": [
      " + FP_H + TN_H: 1341682\n",
      "    len(label_mask_current_deforestation_test): 44579578\n"
     ]
    },
    {
     "name": "stdout",
     "output_type": "stream",
     "text": [
      "[0.94478212 0.64012836 0.60591215 0.03009634 0.80629808 0.31867795]\n",
      "0.03209381306746062\n",
      "threshold 0.03209381306746062\n",
      "(43235177,) (43235177,)\n"
     ]
    },
    {
     "name": "stderr",
     "output_type": "stream",
     "text": [
      "ic| label_current_deforestation_test_classified_incorrect.shape: (1344401,)\n",
      "    predicted_test_classified_incorrect.shape: (1344401,)\n",
      "ic| TP_H + FN_H + FP_H + TN_H: 1344401\n",
      "    len(label_mask_current_deforestation_test): 44579578\n",
      "ic| TP_H + FN_H + FP_H + TN_H: 1344401\n",
      "    len(label_mask_current_deforestation_test): 44579578\n"
     ]
    },
    {
     "name": "stdout",
     "output_type": "stream",
     "text": [
      "cm_correct [[42395500    30284]\n",
      " [  291194   518199]]\n",
      "cm_incorrect [[1295001    3504]\n",
      " [  31296   14600]]\n",
      "[0.94478589 0.64023163 0.60587591 0.03015733 0.80645161 0.31811051]\n",
      "0.03216048068717248\n",
      "threshold 0.03216048068717248\n",
      "(43240624,) (43240624,)\n"
     ]
    },
    {
     "name": "stderr",
     "output_type": "stream",
     "text": [
      "ic| label_current_deforestation_test_classified_incorrect.shape: (1338954,)\n",
      "    predicted_test_classified_incorrect.shape: (1338954,)\n",
      "ic| TP_H + FN_H + FP_H + TN_H: 1338954\n",
      "    len(label_mask_current_deforestation_test): 44579578\n",
      "ic| TP_H + FN_H + FP_H + TN_H: "
     ]
    },
    {
     "name": "stdout",
     "output_type": "stream",
     "text": [
      "cm_correct [[42400601    30291]\n",
      " [  291465   518267]]\n",
      "cm_incorrect [[1289900    3497]\n",
      " [  31025   14532]]\n"
     ]
    },
    {
     "name": "stderr",
     "output_type": "stream",
     "text": [
      "1338954\n",
      "    len(label_mask_current_deforestation_test): 44579578\n"
     ]
    },
    {
     "name": "stdout",
     "output_type": "stream",
     "text": [
      "[0.94478068 0.64004757 0.60595541 0.03003514 0.80603472 0.31898501]\n",
      "0.03219381449752283\n",
      "threshold 0.03219381449752283\n",
      "(43243165,) (43243165,)\n"
     ]
    },
    {
     "name": "stderr",
     "output_type": "stream",
     "text": [
      "ic| label_current_deforestation_test_classified_incorrect.shape: (1336413,)\n",
      "    predicted_test_classified_incorrect.shape: (1336413,)\n",
      "ic| TP_H + FN_H + FP_H + TN_H: 1336413\n",
      "    len(label_mask_current_deforestation_test): 44579578\n",
      "ic| TP_H + FN_H + FP_H + TN_H: 1336413\n",
      "    len(label_mask_current_deforestation_test): 44579578\n"
     ]
    },
    {
     "name": "stdout",
     "output_type": "stream",
     "text": [
      "cm_correct [[42402985    30296]\n",
      " [  291581   518303]]\n",
      "cm_incorrect [[1287516    3492]\n",
      " [  30909   14496]]\n",
      "[0.94477569 0.6399719  0.6059975  0.02997814 0.80587058 0.31925999]\n"
     ]
    },
    {
     "name": "stderr",
     "output_type": "stream",
     "text": [
      "ic| self.threshold_optimal: 0.03219381449752283\n"
     ]
    },
    {
     "name": "stdout",
     "output_type": "stream",
     "text": [
      "threshold 0.03219381449752283\n",
      "(43243165,) (43243165,)\n"
     ]
    },
    {
     "name": "stderr",
     "output_type": "stream",
     "text": [
      "ic| label_current_deforestation_test_classified_incorrect.shape: (1336413,)\n",
      "    predicted_test_classified_incorrect.shape: (1336413,)\n",
      "ic| TP_H + FN_H + FP_H + TN_H: 1336413\n",
      "    len(label_mask_current_deforestation_test): 44579578\n",
      "ic| TP_H + FN_H + FP_H + TN_H: 1336413\n",
      "    len(label_mask_current_deforestation_test): 44579578\n"
     ]
    },
    {
     "name": "stdout",
     "output_type": "stream",
     "text": [
      "cm_correct [[42402985    30296]\n",
      " [  291581   518303]]\n",
      "cm_incorrect [[1287516    3492]\n",
      " [  30909   14496]]\n",
      "[0.94477569 0.6399719  0.6059975  0.02997814 0.80587058 0.31925999]\n",
      "threshold 0.03219381449752283\n",
      "(44579578,) (44579578,)\n"
     ]
    },
    {
     "name": "stderr",
     "output_type": "stream",
     "text": [
      "ic| self.m_optimal: {'AA': array([0.02997814]),\n",
      "                     'f1': 74.94,\n",
      "                     'f1_H': array([0.45733756]),\n",
      "                     'f1_L': array([0.76306144]),\n",
      "                     'precision_H': array([0.80587058]),\n",
      "                     'precision_L': array([0.94477569]),\n",
      "                     'recall_H': array([0.31925999]),\n",
      "                     'recall_L': array([0.6399719]),\n",
      "                     'recall_Ltotal': array([0.6059975])}\n",
      "ic| self.m_audited_optimal: {'f1': array([0.77790757]),\n",
      "                             'precision': array([0.94899698]),\n",
      "                             'recall': array([0.65908482])}\n",
      " 90%|█████████ | 9/10 [4:07:30<27:17, 1637.39s/it]"
     ]
    },
    {
     "name": "stdout",
     "output_type": "stream",
     "text": [
      "cm_audited [[43693993    30296]\n",
      " [  291581   563708]]\n",
      "[0.94899698 0.65908482]\n",
      "self.exp, results 1124 {'pred_entropy': {'metrics': {'precision_L': array([0.97433586]), 'recall_L': array([0.82894861]), 'recall_Ltotal': array([0.44108716]), 'AA': array([0.03000242]), 'precision_H': array([0.86704609]), 'recall_H': array([0.38867427]), 'f1_L': array([0.89578142]), 'f1_H': array([0.53674132]), 'f1': 74.94}, 'metrics_audited': {'precision': array([0.98737966]), 'recall': array([0.90898281]), 'f1': array([0.94656075])}}, 'pred_var': {'metrics': {'precision_L': array([0.97812144]), 'recall_L': array([0.70220583]), 'recall_Ltotal': array([0.34681844]), 'AA': array([0.03004894]), 'precision_H': array([0.8968829]), 'recall_H': array([0.54559757]), 'f1_L': array([0.81751048]), 'f1_H': array([0.67846621]), 'f1': 74.94}, 'metrics_audited': {'precision': array([0.99098662]), 'recall': array([0.85291989]), 'f1': array([0.91678422])}}, 'MI': {'metrics': {'precision_L': array([0.94489954]), 'recall_L': array([0.66533554]), 'recall_Ltotal': array([0.58692793]), 'AA': array([0.02999176]), 'precision_H': array([0.87217236]), 'recall_H': array([0.3056363]), 'f1_L': array([0.78084902]), 'f1_H': array([0.45264998]), 'f1': 74.94}, 'metrics_audited': {'precision': array([0.95368629]), 'recall': array([0.70477464]), 'f1': array([0.8105514])}}, 'KL': {'metrics': {'precision_L': array([0.94477569]), 'recall_L': array([0.6399719]), 'recall_Ltotal': array([0.6059975]), 'AA': array([0.02997814]), 'precision_H': array([0.80587058]), 'recall_H': array([0.31925999]), 'f1_L': array([0.76306144]), 'f1_H': array([0.45733756]), 'f1': 74.94}, 'metrics_audited': {'precision': array([0.94899698]), 'recall': array([0.65908482]), 'f1': array([0.77790757])}}}\n",
      "D:/Jorge/datasets/deforestation/MT/deforestation_past_years.tif\n",
      "Loaded deforestation past years\n"
     ]
    },
    {
     "name": "stderr",
     "output_type": "stream",
     "text": [
      "ic| np.unique(deforestation_past_years, return_counts=True): (array([   0, 2008, 2009, 2010, 2011, 2012, 2013, 2014, 2015, 2016, 2017,\n",
      "                                                                    2018, 2019, 2020, 2021], dtype=uint16),\n",
      "                                                              array([161124576,   1332784,    240796,    338545,    313901,    287191,\n",
      "                                                                       708581,    648966,    876898,   1007787,   1098901,   1054092,\n",
      "                                                                      2096062,   2473828,   1400992], dtype=int64))\n"
     ]
    },
    {
     "name": "stdout",
     "output_type": "stream",
     "text": [
      "Label where deforestation past years is actual date (2020) = 1\n"
     ]
    },
    {
     "name": "stderr",
     "output_type": "stream",
     "text": [
      "ic| np.unique(deforestation_past_years, return_counts=True): (array([   0, 2008, 2009, 2010, 2011, 2012, 2013, 2014, 2015, 2016, 2017,\n",
      "                                                                    2018, 2019, 2020, 2021], dtype=uint16),\n",
      "                                                              array([161124576,   1332784,    240796,    338545,    313901,    287191,\n",
      "                                                                       708581,    648966,    876898,   1007787,   1098901,   1054092,\n",
      "                                                                      2096062,   2473828,   1400992], dtype=int64))\n"
     ]
    },
    {
     "name": "stdout",
     "output_type": "stream",
     "text": [
      "Past deforestation different from 0 (no deforestation)\n"
     ]
    },
    {
     "name": "stderr",
     "output_type": "stream",
     "text": [
      "ic| np.unique(deforestation_past_years, return_counts=True): (array([   0, 2008, 2009, 2010, 2011, 2012, 2013, 2014, 2015, 2016, 2017,\n",
      "                                                                    2018, 2019, 2020, 2021], dtype=uint16),\n",
      "                                                              array([161124576,   1332784,    240796,    338545,    313901,    287191,\n",
      "                                                                       708581,    648966,    876898,   1007787,   1098901,   1054092,\n",
      "                                                                      2096062,   2473828,   1400992], dtype=int64))\n"
     ]
    },
    {
     "name": "stdout",
     "output_type": "stream",
     "text": [
      "Past deforestation before 2008 is 2\n",
      "D:/Jorge/datasets/deforestation/MT/deforestation_before_2008/deforestation_before_2008_MT.tif\n"
     ]
    },
    {
     "name": "stderr",
     "output_type": "stream",
     "text": [
      "ic| np.unique(label_past_deforestation_before_2008, return_counts=True): (array([  0, 215], dtype=uint8), array([122623260,  52380640], dtype=int64))\n",
      "ic| np.unique(deforestation_past_years, return_counts=True): (array([   0, 2008, 2009, 2010, 2011, 2012, 2013, 2014, 2015, 2016, 2017,\n",
      "                                                                    2018, 2019, 2020, 2021], dtype=uint16),\n",
      "                                                              array([161124576,   1332784,    240796,    338545,    313901,    287191,\n",
      "                                                                       708581,    648966,    876898,   1007787,   1098901,   1054092,\n",
      "                                                                      2096062,   2473828,   1400992], dtype=int64))\n",
      "ic| label_per_date.shape: (16795, 10420, 1)\n"
     ]
    },
    {
     "name": "stdout",
     "output_type": "stream",
     "text": [
      "Mask label shape:  \n",
      " (16795, 10420, 1) \n",
      " Unique values:  \n",
      " [0 1 2]\n",
      "Tiles size:  3359 2084\n",
      "Mask size:  (16795, 10420)\n"
     ]
    },
    {
     "name": "stderr",
     "output_type": "stream",
     "text": [
      "ic| image_stack.shape: (16795, 10420, 21)\n"
     ]
    },
    {
     "name": "stdout",
     "output_type": "stream",
     "text": [
      "Image shape:  (16795, 10420, 21)\n",
      "mask:  (16795, 10420)\n",
      "image stack:  (16795, 10420, 21)\n",
      "ref : (16795, 10420, 1)\n",
      "Training tiles:  [2, 4, 5, 6, 7, 12, 14, 15, 18, 21, 23, 24]\n",
      "Validation tiles:  [9, 11, 25]\n",
      "Test tiles:  [1, 3, 8, 10, 13, 16, 17, 19, 20, 22]\n",
      "-5.0 -12.0\n"
     ]
    },
    {
     "name": "stderr",
     "output_type": "stream",
     "text": [
      "ic| self.path_models+ '/' + self.method +'_'+str(0)+'.h5': 'D:/Jorge/datasets/deforestation/experiments/MT/exp1123/models/resunet_0.h5'\n"
     ]
    },
    {
     "name": "stdout",
     "output_type": "stream",
     "text": [
      "time:  0\n",
      "time:  1\n",
      "time:  2\n",
      "time:  3\n",
      "time:  4\n",
      "time:  5\n",
      "time:  6\n",
      "time:  7\n",
      "time:  8\n",
      "time:  9\n",
      "(44657480,)\n",
      "(array([0, 1], dtype=uint8), array([43783238,   874242], dtype=int64))\n",
      "(16795, 10420)\n",
      "(array([0., 1.], dtype=float32), array([173054567,   1949333], dtype=int64))\n"
     ]
    },
    {
     "name": "stderr",
     "output_type": "stream",
     "text": [
      "ic| self.predicted_unpad.shape: (16795, 10420)\n",
      "    self.predicted.shape: (16795, 10420)\n",
      "ic| predicted_test.shape: (70001560,)\n",
      "ic| predicted_test.shape: (44657480,)\n",
      "ic| np.unique(predicted, return_counts=True): (array([0., 1.], dtype=float32), array([173054567,   1949333], dtype=int64))\n",
      "    np.unique(predicted_larger_than_min_area, return_counts=True): (array([0., 1.], dtype=float32), array([173236867,   1767033], dtype=int64))\n",
      "ic| np.unique(ignored_polygons, return_counts=True): (array([0., 1.], dtype=float32), array([174821600,    182300], dtype=int64))\n",
      "ic| predicted.shape: (16795, 10420), label_mask.shape: (16795, 10420)\n",
      "ic| predicted_masked.shape: (70001560,)\n",
      "    label_masked.shape: (70001560,)\n",
      "ic| np.unique(label_masked, return_counts=True): (array([0, 1, 2], dtype=uint8),\n",
      "                                                  array([43735457,   856458, 25409645], dtype=int64))\n",
      "ic| predicted_masked.shape: (44591915,)\n",
      "    label_masked.shape: (44591915,)\n",
      "ic| self.f1: 80.69, self.precision: 93.86, self.recall: 70.76\n",
      "ic| self.label_mask_val.shape: (21000468,)\n",
      "ic| self.label_mask_val_valid.shape: (11786259,)\n",
      "ic| f1_val: 96.72\n",
      "    precision_val: 98.86\n",
      "    recall_val: 94.67\n",
      "    mAP_val: 99.11\n"
     ]
    },
    {
     "name": "stdout",
     "output_type": "stream",
     "text": [
      "(array([0., 1.], dtype=float32), array([174192397,    811503], dtype=int64))\n"
     ]
    },
    {
     "name": "stderr",
     "output_type": "stream",
     "text": [
      "ic| self.label_mask.shape: (16795, 10420)\n",
      "ic| self.mask_amazon_ts.shape: (16795, 10420)\n",
      "ic| self.label_mask_test.shape: (70001560,)\n",
      "ic| self.error_mask_test.shape: (44591915,)\n",
      "ic| bounds: (0.0015, 0.3663794801235199)\n",
      "c:\\Users\\jchamorro\\Anaconda3\\envs\\tf2\\lib\\site-packages\\scipy\\optimize\\_minimize.py:783: RuntimeWarning: Method 'bounded' does not support relative tolerance in x; defaulting to absolute tolerance.\n",
      "  warn(\"Method 'bounded' does not support relative tolerance in x; \"\n"
     ]
    },
    {
     "name": "stdout",
     "output_type": "stream",
     "text": [
      "0.1408715596097929\n",
      "threshold 0.1408715596097929\n",
      "(42842576,) (42842576,)\n"
     ]
    },
    {
     "name": "stderr",
     "output_type": "stream",
     "text": [
      "ic| label_current_deforestation_test_classified_incorrect.shape: (1749339,)\n",
      "    predicted_test_classified_incorrect.shape: (1749339,)\n"
     ]
    },
    {
     "name": "stdout",
     "output_type": "stream",
     "text": [
      "cm_correct [[42394299    10267]\n",
      " [   48316   389694]]\n",
      "cm_incorrect [[1301500   29391]\n",
      " [ 202144  216304]]\n"
     ]
    },
    {
     "name": "stderr",
     "output_type": "stream",
     "text": [
      "ic| TP_H + FN_H + FP_H + TN_H: 1749339\n",
      "    len(label_mask_current_deforestation_test): 44591915\n",
      "ic| TP_H + FN_H + FP_H + TN_H: 1749339\n",
      "    len(label_mask_current_deforestation_test): 44591915\n"
     ]
    },
    {
     "name": "stdout",
     "output_type": "stream",
     "text": [
      "[0.97433    0.88969202 0.45500655 0.03922996 0.88037608 0.51691967]\n",
      "0.22700792051372695\n",
      "threshold 0.22700792051372695\n",
      "(43503386,) (43503386,)\n"
     ]
    },
    {
     "name": "stderr",
     "output_type": "stream",
     "text": [
      "ic| label_current_deforestation_test_classified_incorrect.shape: (1088529,)\n",
      "    predicted_test_classified_incorrect.shape: (1088529,)\n",
      "ic| TP_H + FN_H + FP_H + TN_H: 1088529\n",
      "    len(label_mask_current_deforestation_test): 44591915\n",
      "ic| TP_H + FN_H + FP_H + TN_H: 1088529\n",
      "    len(label_mask_current_deforestation_test): 44591915\n"
     ]
    },
    {
     "name": "stdout",
     "output_type": "stream",
     "text": [
      "cm_correct [[42947755    16400]\n",
      " [   81081   458150]]\n",
      "cm_incorrect [[748044  23258]\n",
      " [169379 147848]]\n",
      "[0.96544094 0.84963587 0.53493575 0.0244109  0.86407256 0.46606373]\n",
      "0.28024311921958583\n",
      "threshold 0.28024311921958583\n",
      "(43833667,) (43833667,)\n"
     ]
    },
    {
     "name": "stderr",
     "output_type": "stream",
     "text": [
      "ic| label_current_deforestation_test_classified_incorrect.shape: (758248,)\n",
      "    predicted_test_classified_incorrect.shape: (758248,)\n",
      "ic| TP_H + FN_H + FP_H + TN_H: 758248\n",
      "    len(label_mask_current_deforestation_test): 44591915\n",
      "ic| TP_H + FN_H + FP_H + TN_H: 758248\n",
      "    len(label_mask_current_deforestation_test): 44591915\n"
     ]
    },
    {
     "name": "stdout",
     "output_type": "stream",
     "text": [
      "cm_correct [[43192803    23704]\n",
      " [  102849   514311]]\n",
      "cm_incorrect [[502996  15954]\n",
      " [147611  91687]]\n",
      "[0.95594175 0.83335116 0.60050931 0.01700416 0.8517851  0.38314988]\n",
      "0.20017735254996558\n",
      "threshold 0.20017735254996558\n",
      "(43323501,) (43323501,)\n"
     ]
    },
    {
     "name": "stderr",
     "output_type": "stream",
     "text": [
      "ic| label_current_deforestation_test_classified_incorrect.shape: (1268414,)\n",
      "    predicted_test_classified_incorrect.shape: (1268414,)\n",
      "ic| TP_H + FN_H + FP_H + TN_H: 1268414\n",
      "    len(label_mask_current_deforestation_test): 44591915\n",
      "ic| TP_H + FN_H + FP_H + TN_H: 1268414\n",
      "    len(label_mask_current_deforestation_test): 44591915\n"
     ]
    },
    {
     "name": "stdout",
     "output_type": "stream",
     "text": [
      "cm_correct [[42803634    13927]\n",
      " [   70994   434946]]\n",
      "cm_incorrect [[892165  25731]\n",
      " [179466 171052]]\n",
      "[0.96897341 0.85967901 0.50784277 0.02844493 0.86924175 0.48799776]\n",
      "0.1904467655683015\n",
      "threshold 0.1904467655683015\n",
      "(43254574,) (43254574,)\n"
     ]
    },
    {
     "name": "stderr",
     "output_type": "stream",
     "text": [
      "ic| label_current_deforestation_test_classified_incorrect.shape: (1337341,)\n",
      "    predicted_test_classified_incorrect.shape: (1337341,)\n",
      "ic| TP_H + FN_H + FP_H + TN_H: 1337341\n",
      "    len(label_mask_current_deforestation_test): 44591915\n",
      "ic| TP_H + FN_H + FP_H + TN_H: 1337341\n",
      "    len(label_mask_current_deforestation_test): 44591915\n"
     ]
    },
    {
     "name": "stdout",
     "output_type": "stream",
     "text": [
      "cm_correct [[42746934    13192]\n",
      " [   67302   427146]]\n",
      "cm_incorrect [[948865  26466]\n",
      " [183158 178852]]\n",
      "[0.9700412  0.86388457 0.49873549 0.02999066 0.87109752 0.49405265]\n",
      "0.17151072189142752\n",
      "threshold 0.17151072189142752\n",
      "(43110991,) (43110991,)\n"
     ]
    },
    {
     "name": "stderr",
     "output_type": "stream",
     "text": [
      "ic| label_current_deforestation_test_classified_incorrect.shape: (1480924,)\n",
      "    predicted_test_classified_incorrect.shape: (1480924,)\n",
      "ic| TP_H +"
     ]
    },
    {
     "name": "stdout",
     "output_type": "stream",
     "text": [
      "cm_correct [[42626613    12043]\n",
      " [   59627   412708]]\n",
      "cm_incorrect [[1069186   27615]\n",
      " [ 190833  193290]]\n"
     ]
    },
    {
     "name": "stderr",
     "output_type": "stream",
     "text": [
      " FN_H + FP_H + TN_H: 1480924\n",
      "    len(label_mask_current_deforestation_test): 44591915\n",
      "ic| TP_H + FN_H + FP_H + TN_H: 1480924\n",
      "    len(label_mask_current_deforestation_test): 44591915\n"
     ]
    },
    {
     "name": "stdout",
     "output_type": "stream",
     "text": [
      "[0.97164692 0.87376121 0.48187769 0.03321059 0.87499151 0.50319819]\n",
      "0.1883684081428241\n",
      "threshold 0.1883684081428241\n",
      "(43239339,) (43239339,)\n"
     ]
    },
    {
     "name": "stderr",
     "output_type": "stream",
     "text": [
      "ic| label_current_deforestation_test_classified_incorrect.shape: (1352576,)\n",
      "    predicted_test_classified_incorrect.shape: (1352576,)\n",
      "ic| TP_H + FN_H + FP_H + TN_H: 1352576\n",
      "    len(label_mask_current_deforestation_test): 44591915\n",
      "ic| TP_H + FN_H + FP_H + TN_H: 1352576"
     ]
    },
    {
     "name": "stdout",
     "output_type": "stream",
     "text": [
      "cm_correct [[42734333    13053]\n",
      " [   66446   425507]]\n",
      "cm_incorrect [[961466  26605]\n",
      " [184014 180491]]\n"
     ]
    },
    {
     "name": "stderr",
     "output_type": "stream",
     "text": [
      "\n",
      "    len(label_mask_current_deforestation_test): 44591915\n"
     ]
    },
    {
     "name": "stdout",
     "output_type": "stream",
     "text": [
      "[0.97023668 0.86493425 0.49682179 0.03033231 0.87153301 0.49516742]\n",
      "0.19232738272315955\n",
      "threshold 0.19232738272315955\n",
      "(43268198,) (43268198,)\n"
     ]
    },
    {
     "name": "stderr",
     "output_type": "stream",
     "text": [
      "ic| label_current_deforestation_test_classified_incorrect.shape: (1323717,)\n",
      "    predicted_test_classified_incorrect.shape: (1323717,)\n",
      "ic| TP_H + FN_H + FP_H + TN_H: 1323717\n",
      "    len(label_mask_current_deforestation_test): 44591915\n",
      "ic| TP_H + FN_H + FP_H + TN_H: 1323717\n",
      "    len(label_mask_current_deforestation_test): 44591915\n"
     ]
    },
    {
     "name": "stdout",
     "output_type": "stream",
     "text": [
      "cm_correct [[42758149    13318]\n",
      " [   68043   428688]]\n",
      "cm_incorrect [[937650  26340]\n",
      " [182417 177310]]\n",
      "[0.96986919 0.86301841 0.50053593 0.02968513 0.87066045 0.49290156]\n",
      "0.19037534359847424\n",
      "threshold 0.19037534359847424\n",
      "(43254055,) (43254055,)\n"
     ]
    },
    {
     "name": "stderr",
     "output_type": "stream",
     "text": [
      "ic| label_current_deforestation_test_classified_incorrect.shape: (1337860,)\n",
      "    predicted_test_classified_incorrect.shape: (1337860,)\n",
      "ic| TP_H + FN_H + FP_H + TN_H: 1337860\n",
      "    len(label_mask_current_deforestation_test): 44591915\n",
      "ic| TP_H + FN_H + FP_H + TN_H: 1337860\n",
      "    len(label_mask_current_deforestation_test): 44591915\n"
     ]
    },
    {
     "name": "stdout",
     "output_type": "stream",
     "text": [
      "cm_correct [[42746502    13189]\n",
      " [   67267   427097]]\n",
      "cm_incorrect [[949297  26469]\n",
      " [183193 178901]]\n",
      "[0.97004447 0.86393224 0.49867828 0.0300023  0.87111555 0.49407336]\n",
      "0.18960876246764316\n",
      "threshold 0.18960876246764316\n",
      "(43248427,) (43248427,)\n"
     ]
    },
    {
     "name": "stderr",
     "output_type": "stream",
     "text": [
      "ic| label_current_deforestation_test_classified_incorrect.shape: (1343488,)\n",
      "    predicted_test_classified_incorrect.shape: (1343488,)\n",
      "ic| TP_H + FN_H + FP_H + TN_H: 1343488\n",
      "    len(label_mask_current_deforestation_test): 44591915\n",
      "ic| TP_H + FN_H + FP_H + TN_H: "
     ]
    },
    {
     "name": "stdout",
     "output_type": "stream",
     "text": [
      "cm_correct [[42741891    13128]\n",
      " [   66957   426451]]\n",
      "cm_incorrect [[953908  26530]\n",
      " [183503 179547]]\n"
     ]
    },
    {
     "name": "stderr",
     "output_type": "stream",
     "text": [
      "1343488\n",
      "    len(label_mask_current_deforestation_test): 44591915\n"
     ]
    },
    {
     "name": "stdout",
     "output_type": "stream",
     "text": [
      "[0.97013506 0.86429689 0.49792401 0.03012851 0.87126171 0.49455171]\n",
      "0.19025415228408402\n",
      "threshold 0.19025415228408402\n",
      "(43253155,) (43253155,)\n"
     ]
    },
    {
     "name": "stderr",
     "output_type": "stream",
     "text": [
      "ic| label_current_deforestation_test_classified_incorrect.shape: (1338760,)\n",
      "    predicted_test_classified_incorrect.shape: (1338760,)\n",
      "ic| TP_H + FN_H + FP_H + TN_H: 1338760\n",
      "    len(label_mask_current_deforestation_test): 44591915\n",
      "ic| TP_H + FN_H + FP_H + TN_H: 1338760\n",
      "    len(label_mask_current_deforestation_test): 44591915\n"
     ]
    },
    {
     "name": "stdout",
     "output_type": "stream",
     "text": [
      "cm_correct [[42745750    13179]\n",
      " [   67221   427005]]\n",
      "cm_incorrect [[950049  26479]\n",
      " [183239 178993]]\n",
      "[0.97006025 0.86398733 0.49857086 0.03002248 0.87113086 0.49413912]\n",
      "0.19034200744141824\n",
      "threshold 0.19034200744141824\n",
      "(43253794,) (43253794,)\n"
     ]
    },
    {
     "name": "stderr",
     "output_type": "stream",
     "text": [
      "ic| label_current_deforestation_test_classified_incorrect.shape: (1338121,)\n",
      "    predicted_test_classified_incorrect.shape: (1338121,)\n",
      "ic| TP_H + FN_H + FP_H + TN_H: 1338121\n",
      "    len(label_mask_current_deforestation_test): 44591915\n",
      "ic| TP_H + FN_H + FP_H + TN_H: 1338121\n",
      "    len(label_mask_current_deforestation_test): 44591915\n"
     ]
    },
    {
     "name": "stdout",
     "output_type": "stream",
     "text": [
      "cm_correct [[42746290    13185]\n",
      " [   67254   427065]]\n",
      "cm_incorrect [[949509  26473]\n",
      " [183206 178933]]\n",
      "[0.97005111 0.86394616 0.49864091 0.03000815 0.87111866 0.49410033]\n",
      "0.19040867975553025\n",
      "threshold 0.19040867975553025\n",
      "(43254294,) (43254294,)\n"
     ]
    },
    {
     "name": "stderr",
     "output_type": "stream",
     "text": [
      "ic| label_current_deforestation_test_classified_incorrect.shape: (1337621,)\n",
      "    predicted_test_classified_incorrect.shape: (1337621,)\n",
      "ic| TP_H + FN_H + FP_H + TN_H: 1337621\n",
      "    len(label_mask_current_deforestation_test): 44591915\n",
      "ic| TP_H + FN_H + FP_H + TN_H: 1337621\n",
      "    len(label_mask_current_deforestation_test): 44591915\n"
     ]
    },
    {
     "name": "stdout",
     "output_type": "stream",
     "text": [
      "cm_correct [[42746705    13190]\n",
      " [   67279   427120]]\n",
      "cm_incorrect [[949094  26468]\n",
      " [183181 178878]]\n",
      "[0.97004383 0.86391761 0.49870513 0.02999694 0.87110535 0.4940576 ]\n"
     ]
    },
    {
     "name": "stderr",
     "output_type": "stream",
     "text": [
      "ic| self.threshold_optimal: 0.19037534359847424\n"
     ]
    },
    {
     "name": "stdout",
     "output_type": "stream",
     "text": [
      "threshold 0.19037534359847424\n",
      "(43254055,) (43254055,)\n"
     ]
    },
    {
     "name": "stderr",
     "output_type": "stream",
     "text": [
      "ic| label_current_deforestation_test_classified_incorrect.shape: (1337860,)\n",
      "    predicted_test_classified_incorrect.shape: (1337860,)\n",
      "ic| TP_H + FN_H + FP_H + TN_H: 1337860\n",
      "    len(label_mask_current_deforestation_test): 44591915\n",
      "ic| TP_H + FN_H + FP_H + TN_H: 1337860\n",
      "    len(label_mask_current_deforestation_test): "
     ]
    },
    {
     "name": "stdout",
     "output_type": "stream",
     "text": [
      "cm_correct [[42746502    13189]\n",
      " [   67267   427097]]\n",
      "cm_incorrect [[949297  26469]\n",
      " [183193 178901]]\n"
     ]
    },
    {
     "name": "stderr",
     "output_type": "stream",
     "text": [
      "44591915\n"
     ]
    },
    {
     "name": "stdout",
     "output_type": "stream",
     "text": [
      "[0.97004447 0.86393224 0.49867828 0.0300023  0.87111555 0.49407336]\n",
      "threshold 0.19037534359847424\n",
      "(44591915,) (44591915,)\n"
     ]
    },
    {
     "name": "stderr",
     "output_type": "stream",
     "text": [
      "ic| self.m_optimal: {'AA': array([0.0300023]),\n",
      "                     'f1': 80.69,\n",
      "                     'f1_H': array([0.6305281]),\n",
      "                     'f1_L': array([0.91391858]),\n",
      "                     'precision_H': array([0.87111555]),\n",
      "                     'precision_L': array([0.97004447]),\n",
      "                     'recall_H': array([0.49407336]),\n",
      "                     'recall_L': array([0.86393224]),\n",
      "                     'recall_Ltotal': array([0.49867828])}\n",
      "ic| self.m_audited_optimal: {'f1': array([0.95149858]),\n",
      "                             'precision': array([0.98356265]),\n",
      "                             'recall': array([0.92145908])}\n"
     ]
    },
    {
     "name": "stdout",
     "output_type": "stream",
     "text": [
      "cm_audited [[43722268    13189]\n",
      " [   67267   789191]]\n",
      "[0.98356265 0.92145908]\n"
     ]
    },
    {
     "name": "stderr",
     "output_type": "stream",
     "text": [
      "ic| self.label_mask.shape: (16795, 10420)\n",
      "ic| self.mask_amazon_ts.shape: (16795, 10420)\n",
      "ic| self.label_mask_test.shape: (70001560,)\n",
      "ic| self.error_mask_test.shape: (44591915,)\n",
      "ic| bounds: (0.0015, 0.13313279604911804)\n",
      "c:\\Users\\jchamorro\\Anaconda3\\envs\\tf2\\lib\\site-packages\\scipy\\optimize\\_minimize.py:783: RuntimeWarning: Method 'bounded' does not support relative tolerance in x; defaulting to absolute tolerance.\n",
      "  warn(\"Method 'bounded' does not support relative tolerance in x; \"\n"
     ]
    },
    {
     "name": "stdout",
     "output_type": "stream",
     "text": [
      "0.05177925405658021\n",
      "threshold 0.05177925405658021\n",
      "(44577524,) (44577524,)\n"
     ]
    },
    {
     "name": "stderr",
     "output_type": "stream",
     "text": [
      "ic| label_current_deforestation_test_classified_incorrect.shape: (14391,)\n",
      "    predicted_test_classified_incorrect.shape: (14391,)\n",
      "ic| TP_H + FN_H + FP_H + TN_H: 14391\n",
      "    len(label_mask_current_deforestation_test): 44591915\n",
      "ic| TP_H + FN_H + FP_H + TN_H: 14391\n",
      "    len(label_mask_current_deforestation_test): 44591915\n"
     ]
    },
    {
     "name": "stdout",
     "output_type": "stream",
     "text": [
      "cm_correct [[43687799    37225]\n",
      " [  249347   603153]]\n",
      "cm_incorrect [[8000 2433]\n",
      " [1113 2845]]\n",
      "[9.41870270e-01 7.07510850e-01 7.04241189e-01 3.22726665e-04\n",
      " 5.39029936e-01 7.18797372e-01]\n",
      "0.0828535419925378\n",
      "threshold 0.0828535419925378\n",
      "(44589302,) (44589302,)\n"
     ]
    },
    {
     "name": "stderr",
     "output_type": "stream",
     "text": [
      "ic| label_current_deforestation_test_classified_incorrect.shape: (2613,)\n",
      "    predicted_test_classified_incorrect.shape: (2613,)\n",
      "ic| TP_H + FN_H + FP_H + TN_H: 2613\n",
      "    len(label_mask_current_deforestation_test): 44591915\n",
      "ic| TP_H + FN_H + FP_H + TN_H: 2613\n",
      "    len(label_mask_current_deforestation_test): 44591915\n"
     ]
    },
    {
     "name": "stdout",
     "output_type": "stream",
     "text": [
      "cm_correct [[43694315    39458]\n",
      " [  250119   605410]]\n",
      "cm_incorrect [[1484  200]\n",
      " [ 341  588]]\n",
      "[9.38812284e-01 7.07644042e-01 7.06876461e-01 5.85980665e-05\n",
      " 7.46192893e-01 6.32938644e-01]\n",
      "0.032574287935957597\n",
      "threshold 0.032574287935957597\n",
      "(44551017,) (44551017,)\n"
     ]
    },
    {
     "name": "stderr",
     "output_type": "stream",
     "text": [
      "ic| label_current_deforestation_test_classified_incorrect.shape: (40898,)\n",
      "    predicted_test_classified_incorrect.shape: (40898,)\n",
      "ic| TP_H + FN_H + FP_H + TN_H: 40898\n",
      "    len(label_mask_current_deforestation_test): 44591915\n",
      "ic| TP_H + FN_H + FP_H + TN_H: 40898\n",
      "    len(label_mask_current_deforestation_test): 44591915\n"
     ]
    },
    {
     "name": "stdout",
     "output_type": "stream",
     "text": [
      "cm_correct [[43672427    34472]\n",
      " [  246837   597281]]\n",
      "cm_incorrect [[23372  5186]\n",
      " [ 3623  8717]]\n",
      "[9.45434371e-01 7.07579983e-01 6.97385044e-01 9.17161777e-04\n",
      " 6.26986981e-01 7.06401945e-01]\n",
      "0.020704966120622614\n",
      "threshold 0.020704966120622614\n",
      "(44492131,) (44492131,)\n"
     ]
    },
    {
     "name": "stderr",
     "output_type": "stream",
     "text": [
      "ic| label_current_deforestation_test_classified_incorrect.shape: (99784,)\n",
      "    predicted_test_classified_incorrect.shape: (99784,)\n",
      "ic| TP_H + FN_H + FP_H + TN_H: 99784\n",
      "    len(label_mask_current_deforestation_test): 44591915\n",
      "ic| TP_H + FN_H + FP_H + TN_H: 99784\n",
      "    len(label_mask_current_deforestation_test): 44591915\n"
     ]
    },
    {
     "name": "stdout",
     "output_type": "stream",
     "text": [
      "cm_correct [[43641239    31948]\n",
      " [  239880   579064]]\n",
      "cm_incorrect [[54560  7710]\n",
      " [10580 26934]]\n",
      "[0.94771297 0.7070862  0.67611488 0.00223772 0.77745064 0.71797196]\n",
      "0.01336932181533499\n",
      "threshold 0.01336932181533499\n",
      "(44380453,) (44380453,)\n"
     ]
    },
    {
     "name": "stderr",
     "output_type": "stream",
     "text": [
      "ic| label_current_deforestation_test_classified_incorrect.shape: (211462,)\n",
      "    predicted_test_classified_incorrect.shape: (211462,)\n",
      "ic| TP_H + FN_H + FP_H + TN_H: 211462\n",
      "    len(label_mask_current_deforestation_test): 44591915\n",
      "ic| TP_H + FN_H + FP_H + TN_H: 211462\n",
      "    len(label_mask_current_deforestation_test): 44591915\n"
     ]
    },
    {
     "name": "stdout",
     "output_type": "stream",
     "text": [
      "cm_correct [[43588009    28458]\n",
      " [  226481   537505]]\n",
      "cm_incorrect [[107790  11200]\n",
      " [ 23979  68493]]\n",
      "[0.94971756 0.70355347 0.62759061 0.00474216 0.85946068 0.74068907]\n",
      "0.008835644305287629\n",
      "threshold 0.008835644305287629\n",
      "(44202124,) (44202124,)\n"
     ]
    },
    {
     "name": "stderr",
     "output_type": "stream",
     "text": [
      "ic| label_current_deforestation_test_classified_incorrect.shape: (389791,)\n",
      "    predicted_test_classified_incorrect.shape: (389791,)\n",
      "ic| TP_H + FN_H + FP_H + TN_H: 389791\n",
      "    len(label_mask_current_deforestation_test): 44591915\n",
      "ic| TP_H + FN_H + FP_H + TN_H: 389791\n",
      "    len(label_mask_current_deforestation_test): 44591915\n"
     ]
    },
    {
     "name": "stdout",
     "output_type": "stream",
     "text": [
      "cm_correct [[43512631    22048]\n",
      " [  205982   461463]]\n",
      "cm_incorrect [[183168  17610]\n",
      " [ 44478 144535]]\n",
      "[0.95440021 0.69138731 0.538804   0.00874129 0.89139351 0.76468285]\n",
      "0.006033677510047365\n",
      "threshold 0.006033677510047365\n",
      "(43991844,) (43991844,)\n"
     ]
    },
    {
     "name": "stderr",
     "output_type": "stream",
     "text": [
      "ic| label_current_deforestation_test_classified_incorrect.shape: (600071,)\n",
      "    predicted_test_classified_incorrect.shape: (600071,)\n",
      "ic| TP_H + FN_H + FP_H + TN_H: 600071\n",
      "    len(label_mask_current_deforestation_test): 44591915\n",
      "ic| TP_H + FN_H + FP_H + TN_H: 600071\n",
      "    len(label_mask_current_deforestation_test): 44591915\n"
     ]
    },
    {
     "name": "stdout",
     "output_type": "stream",
     "text": [
      "cm_correct [[43408616    13279]\n",
      " [  179477   390472]]\n",
      "cm_incorrect [[287183  26379]\n",
      " [ 70983 215526]]\n",
      "[0.96711092 0.68509989 0.45591494 0.01345695 0.89095306 0.75224862]\n",
      "0.004301966795240264\n",
      "threshold 0.004301966795240264\n",
      "(43722386,) (43722386,)\n"
     ]
    },
    {
     "name": "stderr",
     "output_type": "stream",
     "text": [
      "ic| label_current_deforestation_test_classified_incorrect.shape: (869529,)\n",
      "    predicted_test_classified_incorrect.shape: (869529,)\n",
      "ic| TP_H + FN_H + FP_H + TN_H: 869529\n",
      "    len(label_mask_current_deforestation_test): 44591915\n",
      "ic| TP_H + FN_H + FP_H + TN_H: 869529\n",
      "    len(label_mask_current_deforestation_test): 44591915\n"
     ]
    },
    {
     "name": "stdout",
     "output_type": "stream",
     "text": [
      "cm_correct [[43216826     8490]\n",
      " [  146980   350090]]\n",
      "cm_incorrect [[478973  31168]\n",
      " [103480 255908]]\n",
      "[0.97632328 0.70430724 0.40876494 0.0194997  0.89142945 0.71206607]\n",
      "0.0032317107148071003\n",
      "threshold 0.0032317107148071003\n",
      "(43420115,) (43420115,)\n"
     ]
    },
    {
     "name": "stderr",
     "output_type": "stream",
     "text": [
      "ic| label_current_deforestation_test_classified_incorrect.shape: (1171800,)\n",
      "    predicted_test_classified_incorrect.shape: (1171800,)\n",
      "ic| TP_H + FN_H + FP_H + TN_H: 1171800\n",
      "    len(label_mask_current_deforestation_test): 44591915\n",
      "ic| TP_H + FN_H + FP_H + TN_H: 1171800\n",
      "    len(label_mask_current_deforestation_test): 44591915\n"
     ]
    },
    {
     "name": "stdout",
     "output_type": "stream",
     "text": [
      "cm_correct [[42966263     6845]\n",
      " [  117569   329438]]\n",
      "cm_incorrect [[729536  32813]\n",
      " [132891 276560]]\n",
      "[0.97964512 0.73698622 0.38465167 0.02627831 0.89393709 0.67544102]\n",
      "0.002570256080433164\n",
      "threshold 0.002570256080433164\n",
      "(43204410,) (43204410,)\n"
     ]
    },
    {
     "name": "stderr",
     "output_type": "stream",
     "text": [
      "ic| label_current_deforestation_test_classified_incorrect.shape: (1387505,)\n",
      "    predicted_test_classified_incorrect.shape: (1387505,)\n",
      "ic| TP_H + FN_H + FP_H + TN_H: 1387505\n",
      "    len(label_mask_current_deforestation_test): 44591915\n",
      "ic| TP_H + FN_H + FP_H + TN_H: 1387505\n",
      "    len(label_mask_current_deforestation_test): 44591915\n"
     ]
    },
    {
     "name": "stdout",
     "output_type": "stream",
     "text": [
      "cm_correct [[42784026     6368]\n",
      " [   97580   316436]]\n",
      "cm_incorrect [[911773  33290]\n",
      " [152880 289562]]\n",
      "[0.98027286 0.76430863 0.36947054 0.03111562 0.89688774 0.65446318]\n",
      "0.0021614546343739368\n",
      "threshold 0.0021614546343739368\n",
      "(43050285,) (43050285,)\n"
     ]
    },
    {
     "name": "stderr",
     "output_type": "stream",
     "text": [
      "ic| label_current_deforestation_test_classified_incorrect.shape: (1541630,)\n",
      "    predicted_test_classified_incorrect.shape: (1541630,)\n",
      "ic"
     ]
    },
    {
     "name": "stdout",
     "output_type": "stream",
     "text": [
      "cm_correct [[42650287     6120]\n",
      " [   85514   308364]]\n",
      "cm_incorrect [[1045512   33538]\n",
      " [ 164946  297634]]\n"
     ]
    },
    {
     "name": "stderr",
     "output_type": "stream",
     "text": [
      "| TP_H + FN_H + FP_H + TN_H: 1541630\n",
      "    len(label_mask_current_deforestation_test): 44591915\n",
      "ic| TP_H + FN_H + FP_H + TN_H: 1541630\n",
      "    len(label_mask_current_deforestation_test): 44591915\n"
     ]
    },
    {
     "name": "stdout",
     "output_type": "stream",
     "text": [
      "[0.98053955 0.78289216 0.36004568 0.03457196 0.89872936 0.64342168]\n",
      "0.00273088224590678\n",
      "threshold 0.00273088224590678\n",
      "(43260100,) (43260100,)\n"
     ]
    },
    {
     "name": "stderr",
     "output_type": "stream",
     "text": [
      "ic| label_current_deforestation_test_classified_incorrect.shape: (1331815,)\n",
      "    predicted_test_classified_incorrect.shape: (1331815,)\n",
      "ic| TP_H + FN_H + FP_H + TN_H: 1331815\n",
      "    len(label_mask_current_deforestation_test): 44591915\n",
      "ic| TP_H + FN_H + FP_H + TN_H: 1331815\n",
      "    len(label_mask_current_deforestation_test): 44591915\n"
     ]
    },
    {
     "name": "stdout",
     "output_type": "stream",
     "text": [
      "cm_correct [[42831543     6469]\n",
      " [  102458   319630]]\n",
      "cm_incorrect [[864256  33189]\n",
      " [148002 286368]]\n",
      "[0.98016247 0.75725915 0.37319985 0.02986674 0.89614059 0.65927205]\n",
      "0.002802868810959218\n",
      "threshold 0.002802868810959218\n",
      "(43284390,) (43284390,)\n"
     ]
    },
    {
     "name": "stderr",
     "output_type": "stream",
     "text": [
      "ic| label_current_deforestation_test_classified_incorrect.shape: (1307525,)\n",
      "    predicted_test_classified_incorrect.shape: (1307525,)\n",
      "ic| TP_H + FN_H + FP_H + TN_H: 1307525\n",
      "    len(label_mask_current_deforestation_test): 44591915\n",
      "ic| TP_H + FN_H + FP_H + TN_H: 1307525\n",
      "    len(label_mask_current_deforestation_test): 44591915\n"
     ]
    },
    {
     "name": "stdout",
     "output_type": "stream",
     "text": [
      "cm_correct [[42852142     6518]\n",
      " [  104647   321083]]\n",
      "cm_incorrect [[843657  33140]\n",
      " [145813 284915]]\n",
      "[0.98010385 0.75419397 0.37489638 0.02932202 0.89580418 0.66147313]\n",
      "0.002697548872067917\n",
      "threshold 0.002697548872067917\n",
      "(43248523,) (43248523,)\n"
     ]
    },
    {
     "name": "stderr",
     "output_type": "stream",
     "text": [
      "ic| label_current_deforestation_test_classified_incorrect.shape: (1343392,)\n",
      "    predicted_test_classified_incorrect.shape: (1343392,)\n",
      "ic| TP_H + FN_H + FP_H + TN_H: 1343392\n",
      "    len(label_mask_current_deforestation_test): 44591915\n",
      "ic| TP_H + FN_H + FP_H + TN_H: 1343392\n",
      "    len(label_mask_current_deforestation_test): 44591915\n"
     ]
    },
    {
     "name": "stdout",
     "output_type": "stream",
     "text": [
      "cm_correct [[42821700     6444]\n",
      " [  101427   318952]]\n",
      "cm_incorrect [[874099  33214]\n",
      " [149033 287046]]\n",
      "[0.98019644 0.75872486 0.37240822 0.03012636 0.89629051 0.65824312]\n",
      "0.002664215498723468\n",
      "threshold 0.002664215498723468\n",
      "(43237096,) (43237096,)\n"
     ]
    },
    {
     "name": "stderr",
     "output_type": "stream",
     "text": [
      "ic| label_current_deforestation_test_classified_incorrect.shape: (1354819,)\n",
      "    predicted_test_classified_incorrect.shape: (1354819,)\n",
      "ic| TP_H + FN_H + FP_H + TN_H: 1354819\n",
      "    len(label_mask_current_deforestation_test): 44591915\n",
      "ic| TP_H + FN_H + FP_H + TN_H: 1354819"
     ]
    },
    {
     "name": "stdout",
     "output_type": "stream",
     "text": [
      "cm_correct [[42811887     6425]\n",
      " [  100455   318329]]\n",
      "cm_incorrect [[883912  33233]\n",
      " [150005 287669]]\n"
     ]
    },
    {
     "name": "stderr",
     "output_type": "stream",
     "text": [
      "\n",
      "    len(label_mask_current_deforestation_test): 44591915\n",
      "ic| self.threshold_optimal: 0.002697548872067917\n"
     ]
    },
    {
     "name": "stdout",
     "output_type": "stream",
     "text": [
      "[0.98021579 0.76012694 0.37168081 0.03038262 0.89643879 0.65726774]\n",
      "threshold 0.002697548872067917\n",
      "(43248523,) (43248523,)\n"
     ]
    },
    {
     "name": "stderr",
     "output_type": "stream",
     "text": [
      "ic| label_current_deforestation_test_classified_incorrect.shape: (1343392,)\n",
      "    predicted_test_classified_incorrect.shape: (1343392,)\n",
      "ic| TP_H + FN_H + FP_H + TN_H: 1343392\n",
      "    len(label_mask_current_deforestation_test): 44591915\n",
      "ic| TP_H + FN_H + FP_H + TN_H: 1343392\n",
      "    len(label_mask_current_deforestation_test): 44591915\n"
     ]
    },
    {
     "name": "stdout",
     "output_type": "stream",
     "text": [
      "cm_correct [[42821700     6444]\n",
      " [  101427   318952]]\n",
      "cm_incorrect [[874099  33214]\n",
      " [149033 287046]]\n",
      "[0.98019644 0.75872486 0.37240822 0.03012636 0.89629051 0.65824312]\n",
      "threshold 0.002697548872067917\n",
      "(44591915,) (44591915,)\n"
     ]
    },
    {
     "name": "stderr",
     "output_type": "stream",
     "text": [
      "ic| self.m_optimal: {'AA': array([0.03012636]),\n",
      "                     'f1': 80.69,\n",
      "                     'f1_H': array([0.75904059]),\n",
      "                     'f1_L': array([0.85535718]),\n",
      "                     'precision_H': array([0.89629051]),\n",
      "                     'precision_L': array([0.98019644]),\n",
      "                     'recall_H': array([0.65824312]),\n",
      "                     'recall_L': array([0.75872486]),\n",
      "                     'recall_Ltotal': array([0.37240822])}\n",
      "ic| self.m_audited_optimal: {'f1': array([0.93332789]),\n",
      "                             'precision': array([0.99153748]),\n",
      "                             'recall': array([0.88157388])}\n"
     ]
    },
    {
     "name": "stdout",
     "output_type": "stream",
     "text": [
      "cm_audited [[43729013     6444]\n",
      " [  101427   755031]]\n",
      "[0.99153748 0.88157388]\n"
     ]
    },
    {
     "name": "stderr",
     "output_type": "stream",
     "text": [
      "ic| n: 10, K: 1\n",
      "ic| self.label_mask.shape: (16795, 10420)\n",
      "ic| self.mask_amazon_ts.shape: (16795, 10420)\n",
      "ic| self.label_mask_test.shape: (70001560,)\n",
      "ic| self.error_mask_test.shape: (44591915,)\n",
      "ic| bounds: (0.0015, 0.23814567482471466)\n",
      "c:\\Users\\jchamorro\\Anaconda3\\envs\\tf2\\lib\\site-packages\\scipy\\optimize\\_minimize.py:783: RuntimeWarning: Method 'bounded' does not support relative tolerance in x; defaulting to absolute tolerance.\n",
      "  warn(\"Method 'bounded' does not support relative tolerance in x; \"\n"
     ]
    },
    {
     "name": "stdout",
     "output_type": "stream",
     "text": [
      "0.09189060449238567\n",
      "threshold 0.09189060449238567\n",
      "(44583158,) (44583158,)\n"
     ]
    },
    {
     "name": "stderr",
     "output_type": "stream",
     "text": [
      "ic| label_current_deforestation_test_classified_incorrect.shape: (8757,)\n",
      "    predicted_test_classified_incorrect.shape: (8757,)\n",
      "ic| TP_H + FN_H + FP_H + TN_H: 8757\n",
      "    len(label_mask_current_deforestation_test): 44591915\n",
      "ic| TP_H + FN_H + FP_H + TN_H: 8757\n",
      "    len(label_mask_current_deforestation_test): 44591915\n"
     ]
    },
    {
     "name": "stdout",
     "output_type": "stream",
     "text": [
      "cm_correct [[43687910    39569]\n",
      " [  249812   605867]]\n",
      "cm_incorrect [[7889   89]\n",
      " [ 648  131]]\n",
      "[9.38694154e-01 7.08054072e-01 7.07410054e-01 1.96380891e-04\n",
      " 5.95454545e-01 1.68164313e-01]\n",
      "0.14775507033232896\n",
      "threshold 0.14775507033232896\n",
      "(44589948,) (44589948,)\n"
     ]
    },
    {
     "name": "stderr",
     "output_type": "stream",
     "text": [
      "ic| label_current_deforestation_test_classified_incorrect.shape: (1967,)\n",
      "    predicted_test_classified_incorrect.shape: (1967,)\n",
      "d:\\Jorge\\deforestation_uncertainty\\src\\metrics.py:299: RuntimeWarning: invalid value encountered in longlong_scalars\n",
      "  precision_H = TP_H / (TP_H + FP_H)\n",
      "ic| TP_H + FN_H + FP_H + TN_H: 1967\n",
      "    len(label_mask_current_deforestation_test): 44591915\n",
      "ic| TP_H + FN_H + FP_H + TN_H: 1967\n",
      "    len(label_mask_current_deforestation_test): 44591915\n"
     ]
    },
    {
     "name": "stdout",
     "output_type": "stream",
     "text": [
      "cm_correct [[43694105    39658]\n",
      " [  250187   605998]]\n",
      "cm_incorrect [[1694    0]\n",
      " [ 273    0]]\n",
      "[9.38577199e-01 7.07788620e-01 7.07563010e-01 4.41111354e-05\n",
      "            nan 0.00000000e+00]\n",
      "0.057364465839943285\n",
      "threshold 0.057364465839943285\n",
      "(44559963,) (44559963,)\n"
     ]
    },
    {
     "name": "stderr",
     "output_type": "stream",
     "text": [
      "ic| label_current_deforestation_test_classified_incorrect.shape: (31952,)\n",
      "    predicted_test_classified_incorrect.shape: (31952,)\n",
      "ic| TP_H + FN_H + FP_H + TN_H: 31952\n",
      "    len(label_mask_current_deforestation_test): 44591915\n",
      "ic| TP_H + FN_H + FP_H + TN_H: 31952\n",
      "    len(label_mask_current_deforestation_test): 44591915\n"
     ]
    },
    {
     "name": "stdout",
     "output_type": "stream",
     "text": [
      "cm_correct [[43668791    38225]\n",
      " [  248349   604598]]\n",
      "cm_incorrect [[27008  1433]\n",
      " [ 2111  1400]]\n",
      "[9.40535731e-01 7.08834195e-01 7.05928370e-01 7.16542449e-04\n",
      " 4.94175785e-01 3.98746796e-01]\n",
      "0.0360261386524424\n",
      "threshold 0.0360261386524424\n",
      "(44483723,) (44483723,)\n"
     ]
    },
    {
     "name": "stderr",
     "output_type": "stream",
     "text": [
      "ic| label_current_deforestation_test_classified_incorrect.shape: (108192,)\n",
      "    predicted_test_classified_incorrect.shape: (108192,)\n",
      "ic| TP_H + FN_H + FP_H + TN_H: 108192\n",
      "    len(label_mask_current_deforestation_test): 44591915\n",
      "ic| TP_H + FN_H + FP_H + TN_H: 108192\n",
      "    len(label_mask_current_deforestation_test): 44591915\n"
     ]
    },
    {
     "name": "stdout",
     "output_type": "stream",
     "text": [
      "cm_correct [[43604115    35767]\n",
      " [  242304   601537]]\n",
      "cm_incorrect [[91684  3891]\n",
      " [ 8156  4461]]\n",
      "[0.94387765 0.71285586 0.70235435 0.00242627 0.53412356 0.35357058]\n",
      "0.022838327187500895\n",
      "threshold 0.022838327187500895\n",
      "(44046357,) (44046357,)\n"
     ]
    },
    {
     "name": "stderr",
     "output_type": "stream",
     "text": [
      "ic| label_current_deforestation_test_classified_incorrect.shape: (545558,)\n",
      "    predicted_test_classified_incorrect.shape: (545558,)\n",
      "ic| TP_H + FN_H + FP_H + TN_H: 545558\n",
      "    len(label_mask_current_deforestation_test): 44591915\n",
      "ic| TP_H + FN_H + FP_H + TN_H: 545558\n",
      "    len(label_mask_current_deforestation_test): 44591915\n"
     ]
    },
    {
     "name": "stdout",
     "output_type": "stream",
     "text": [
      "cm_correct [[43202685    33733]\n",
      " [  216064   593875]]\n",
      "cm_incorrect [[493114   5925]\n",
      " [ 34396  12123]]\n",
      "[0.94625148 0.73323423 0.6934082  0.01223446 0.67170878 0.26060319]\n",
      "0.014687811464941506\n",
      "threshold 0.014687811464941506\n",
      "(43223548,) (43223548,)\n"
     ]
    },
    {
     "name": "stderr",
     "output_type": "stream",
     "text": [
      "ic| label_current_deforestation_test_classified_incorrect.shape: (1368367,)\n",
      "    predicted_test_classified_incorrect.shape: (1368367,)\n",
      "ic| TP_H + FN_H + FP_H + TN_H: 1368367\n",
      "    len(label_mask_current_deforestation_test): "
     ]
    },
    {
     "name": "stdout",
     "output_type": "stream",
     "text": [
      "cm_correct [[42439515    31541]\n",
      " [  178893   573599]]\n",
      "cm_incorrect [[1256284    8117]\n",
      " [  71567   32399]]\n"
     ]
    },
    {
     "name": "stderr",
     "output_type": "stream",
     "text": [
      "44591915\n",
      "ic| TP_H + FN_H + FP_H + TN_H: 1368367\n",
      "    len(label_mask_current_deforestation_test): 44591915\n"
     ]
    },
    {
     "name": "stdout",
     "output_type": "stream",
     "text": [
      "[0.94787818 0.76226591 0.66973395 0.03068644 0.79965939 0.31163073]\n",
      "0.009650515722559393\n",
      "threshold 0.009650515722559393\n",
      "(41881057,) (41881057,)\n"
     ]
    },
    {
     "name": "stderr",
     "output_type": "stream",
     "text": [
      "ic| label_current_deforestation_test_classified_incorrect.shape: (2710858,)\n",
      "    predicted_test_classified_incorrect.shape: (2710858,)\n"
     ]
    },
    {
     "name": "stdout",
     "output_type": "stream",
     "text": [
      "cm_correct [[41189811    27601]\n",
      " [  131005   532640]]\n"
     ]
    },
    {
     "name": "stderr",
     "output_type": "stream",
     "text": [
      "ic| TP_H + FN_H + FP_H + TN_H: 2710858\n",
      "    len(label_mask_current_deforestation_test): 44591915\n",
      "ic| TP_H + FN_H + FP_H + TN_H: 2710858\n",
      "    len(label_mask_current_deforestation_test): 44591915\n"
     ]
    },
    {
     "name": "stdout",
     "output_type": "stream",
     "text": [
      "cm_incorrect [[2505988   12057]\n",
      " [ 119455   73358]]\n",
      "[0.9507337  0.80259777 0.62191024 0.06079259 0.85884212 0.3804619 ]\n",
      "0.017801031445118784\n",
      "threshold 0.017801031445118784\n",
      "(43654109,) (43654109,)\n"
     ]
    },
    {
     "name": "stderr",
     "output_type": "stream",
     "text": [
      "ic| label_current_deforestation_test_classified_incorrect.shape: (937806,)\n",
      "    predicted_test_classified_incorrect.shape: (937806,)\n",
      "ic| TP_H + FN_H + FP_H + TN_H: 937806\n",
      "    len(label_mask_current_deforestation_test): 44591915\n",
      "ic| TP_H + FN_H + FP_H + TN_H: 937806\n",
      "    len(label_mask_current_deforestation_test): 44591915\n"
     ]
    },
    {
     "name": "stdout",
     "output_type": "stream",
     "text": [
      "cm_correct [[42840889    32595]\n",
      " [  196658   583967]]\n",
      "cm_incorrect [[854910   7063]\n",
      " [ 53802  22031]]\n",
      "[0.94713427 0.74807622 0.68183962 0.02103085 0.75723517 0.29051996]\n",
      "0.012763735702736673\n",
      "threshold 0.012763735702736673\n",
      "(42841513,) (42841513,)\n"
     ]
    },
    {
     "name": "stderr",
     "output_type": "stream",
     "text": [
      "ic| label_current_deforestation_test_classified_incorrect.shape: (1750402,)\n",
      "    predicted_test_classified_incorrect.shape: (1750402,)\n"
     ]
    },
    {
     "name": "stdout",
     "output_type": "stream",
     "text": [
      "cm_correct [[42083142    30577]\n",
      " [  164407   563387]]\n"
     ]
    },
    {
     "name": "stderr",
     "output_type": "stream",
     "text": [
      "ic| TP_H + FN_H + FP_H + TN_H: 1750402\n",
      "    len(label_mask_current_deforestation_test): 44591915\n",
      "ic| TP_H + FN_H + FP_H + TN_H: 1750402\n",
      "    len(label_mask_current_deforestation_test): 44591915\n"
     ]
    },
    {
     "name": "stdout",
     "output_type": "stream",
     "text": [
      "cm_incorrect [[1612657    9081]\n",
      " [  86053   42611]]\n",
      "[0.94852045 0.77410229 0.65781042 0.0392538  0.82432485 0.33118044]\n",
      "0.015302392137040908\n",
      "threshold 0.015302392137040908\n",
      "(43323782,) (43323782,)\n"
     ]
    },
    {
     "name": "stderr",
     "output_type": "stream",
     "text": [
      "ic| label_current_deforestation_test_classified_incorrect.shape: (1268133,)\n",
      "    predicted_test_classified_incorrect.shape: (1268133,)\n",
      "ic| TP_H + FN_H + FP_H + TN_H: 1268133\n",
      "    len(label_mask_current_deforestation_test): 44591915\n",
      "ic| TP_H + FN_H + FP_H + TN_H: 1268133\n",
      "    len(label_mask_current_deforestation_test): 44591915\n"
     ]
    },
    {
     "name": "stdout",
     "output_type": "stream",
     "text": [
      "cm_correct [[42533124    31791]\n",
      " [  182817   576050]]\n",
      "cm_incorrect [[1162675    7867]\n",
      " [  67643   29948]]\n",
      "[0.94769849 0.75909217 0.67259574 0.02843863 0.79196086 0.30687256]\n",
      "0.01395287992070912\n",
      "threshold 0.01395287992070912\n",
      "(43090472,) (43090472,)\n"
     ]
    },
    {
     "name": "stderr",
     "output_type": "stream",
     "text": [
      "ic| label_current_deforestation_test_classified_incorrect.shape: (1501443,)\n",
      "    predicted_test_classified_incorrect.shape: (1501443,)\n",
      "ic"
     ]
    },
    {
     "name": "stdout",
     "output_type": "stream",
     "text": [
      "cm_correct [[42315444    31222]\n",
      " [  173696   570110]]\n",
      "cm_incorrect [[1380355    8436]\n",
      " [  76764   35888]]\n"
     ]
    },
    {
     "name": "stderr",
     "output_type": "stream",
     "text": [
      "| TP_H + FN_H + FP_H + TN_H: 1501443\n",
      "    len(label_mask_current_deforestation_test): 44591915\n",
      "ic| TP_H + FN_H + FP_H + TN_H: 1501443\n",
      "    len(label_mask_current_deforestation_test): 44591915\n"
     ]
    },
    {
     "name": "stdout",
     "output_type": "stream",
     "text": [
      "[0.9480786  0.76647674 0.6656602  0.03367075 0.80967422 0.31857402]\n",
      "0.014819946919327753\n",
      "threshold 0.014819946919327753\n",
      "(43245831,) (43245831,)\n"
     ]
    },
    {
     "name": "stderr",
     "output_type": "stream",
     "text": [
      "ic| label_current_deforestation_test_classified_incorrect.shape: (1346084,)\n",
      "    predicted_test_classified_incorrect.shape: (1346084,)\n",
      "ic| TP_H + FN_H + FP_H + TN_H: 1346084\n",
      "    len(label_mask_current_deforestation_test): 44591915\n",
      "ic| TP_H + FN_H + FP_H + TN_H: 1346084\n",
      "    len(label_mask_current_deforestation_test): 44591915\n"
     ]
    },
    {
     "name": "stdout",
     "output_type": "stream",
     "text": [
      "cm_correct [[42460334    31603]\n",
      " [  179775   574119]]\n",
      "cm_incorrect [[1235465    8055]\n",
      " [  70685   31879]]\n",
      "[0.9478259  0.76153809 0.6703411  0.03018673 0.79829218 0.31082056]\n",
      "0.014929130111388456\n",
      "threshold 0.014929130111388456\n",
      "(43264076,) (43264076,)\n"
     ]
    },
    {
     "name": "stderr",
     "output_type": "stream",
     "text": [
      "ic| label_current_deforestation_test_classified_incorrect.shape: (1327839,)\n",
      "    predicted_test_classified_incorrect.shape: (1327839,)\n",
      "ic| TP_H + FN_H + FP_H + TN_H: 1327839\n",
      "    len(label_mask_current_deforestation_test): 44591915\n",
      "ic| TP_H + FN_H + FP_H + TN_H: 1327839\n",
      "    len(label_mask_current_deforestation_test): 44591915\n"
     ]
    },
    {
     "name": "stdout",
     "output_type": "stream",
     "text": [
      "cm_correct [[42477415    31650]\n",
      " [  180444   574567]]\n",
      "cm_incorrect [[1218384    8008]\n",
      " [  70016   31431]]\n",
      "[0.94779097 0.76100481 0.67086419 0.02977757 0.79695226 0.30982681]\n",
      "0.014786613366179084\n",
      "threshold 0.014786613366179084\n",
      "(43240201,) (43240201,)\n"
     ]
    },
    {
     "name": "stderr",
     "output_type": "stream",
     "text": [
      "ic| label_current_deforestation_test_classified_incorrect.shape: (1351714,)\n",
      "    predicted_test_classified_incorrect.shape: (1351714,)\n",
      "ic| TP_H + FN_H + FP_H + TN_H: 1351714\n",
      "    len(label_mask_current_deforestation_test): 44591915\n",
      "ic| TP_H + FN_H + FP_H + "
     ]
    },
    {
     "name": "stdout",
     "output_type": "stream",
     "text": [
      "cm_correct [[42455082    31586]\n",
      " [  179539   573994]]\n",
      "cm_incorrect [[1240717    8072]\n",
      " [  70921   32004]]\n"
     ]
    },
    {
     "name": "stderr",
     "output_type": "stream",
     "text": [
      "TN_H: 1351714\n",
      "    len(label_mask_current_deforestation_test): 44591915\n"
     ]
    },
    {
     "name": "stdout",
     "output_type": "stream",
     "text": [
      "[0.94784174 0.76173704 0.67019515 0.03031298 0.79858269 0.31094486]\n",
      "0.014853280472476423\n",
      "threshold 0.014853280472476423\n",
      "(43251467,) (43251467,)\n"
     ]
    },
    {
     "name": "stderr",
     "output_type": "stream",
     "text": [
      "ic| label_current_deforestation_test_classified_incorrect.shape: (1340448,)\n",
      "    predicted_test_classified_incorrect.shape: (1340448,)\n",
      "ic| TP_H + FN_H + FP_H + TN_H: 1340448\n",
      "    len(label_mask_current_deforestation_test): 44591915\n",
      "ic| TP_H + FN_H + FP_H + TN_H: 1340448\n",
      "    len(label_mask_current_deforestation_test): 44591915\n"
     ]
    },
    {
     "name": "stdout",
     "output_type": "stream",
     "text": [
      "cm_correct [[42465591    31624]\n",
      " [  179986   574266]]\n",
      "cm_incorrect [[1230208    8034]\n",
      " [  70474   31732]]\n",
      "[0.94780571 0.76137153 0.67051274 0.03006034 0.79796811 0.31047101]\n",
      "0.014886614026119509\n",
      "threshold 0.014886614026119509\n",
      "(43257100,) (43257100,)\n"
     ]
    },
    {
     "name": "stderr",
     "output_type": "stream",
     "text": [
      "ic| label_current_deforestation_test_classified_incorrect.shape: (1334815,)\n",
      "    predicted_test_classified_incorrect.shape: (1334815,)\n",
      "ic| TP_H + FN_H + FP_H + TN_H: 1334815\n",
      "    len(label_mask_current_deforestation_test): 44591915\n",
      "ic| TP_H + FN_H + FP_H + TN_H: 1334815\n",
      "    len(label_mask_current_deforestation_test): 44591915\n"
     ]
    },
    {
     "name": "stdout",
     "output_type": "stream",
     "text": [
      "cm_correct [[42470882    31635]\n",
      " [  180188   574395]]\n",
      "cm_incorrect [[1224917    8023]\n",
      " [  70272   31603]]\n",
      "[0.94779961 0.76120851 0.67066336 0.02993401 0.79753192 0.3102135 ]\n"
     ]
    },
    {
     "name": "stderr",
     "output_type": "stream",
     "text": [
      "ic| self.threshold_optimal: 0.014853280472476423\n"
     ]
    },
    {
     "name": "stdout",
     "output_type": "stream",
     "text": [
      "threshold 0.014853280472476423\n",
      "(43251467,) (43251467,)\n"
     ]
    },
    {
     "name": "stderr",
     "output_type": "stream",
     "text": [
      "ic| label_current_deforestation_test_classified_incorrect.shape: (1340448,)\n",
      "    predicted_test_classified_incorrect.shape: (1340448,)\n",
      "ic"
     ]
    },
    {
     "name": "stdout",
     "output_type": "stream",
     "text": [
      "cm_correct [[42465591    31624]\n",
      " [  179986   574266]]\n",
      "cm_incorrect [[1230208    8034]\n",
      " [  70474   31732]]\n"
     ]
    },
    {
     "name": "stderr",
     "output_type": "stream",
     "text": [
      "| TP_H + FN_H + FP_H + TN_H: 1340448\n",
      "    len(label_mask_current_deforestation_test): 44591915\n",
      "ic| TP_H + FN_H + FP_H + TN_H: 1340448\n",
      "    len(label_mask_current_deforestation_test): 44591915\n"
     ]
    },
    {
     "name": "stdout",
     "output_type": "stream",
     "text": [
      "[0.94780571 0.76137153 0.67051274 0.03006034 0.79796811 0.31047101]\n",
      "threshold 0.014853280472476423\n",
      "(44591915,) (44591915,)\n"
     ]
    },
    {
     "name": "stderr",
     "output_type": "stream",
     "text": [
      "ic| self.m_optimal: {'AA': array([0.03006034]),\n",
      "                     'f1': 80.69,\n",
      "                     'f1_H': array([0.44701772]),\n",
      "                     'f1_L': array([0.84442066]),\n",
      "                     'precision_H': array([0.79796811]),\n",
      "                     'precision_L': array([0.94780571]),\n",
      "                     'recall_H': array([0.31047101]),\n",
      "                     'recall_L': array([0.76137153]),\n",
      "                     'recall_Ltotal': array([0.67051274])}\n",
      "ic| self.m_audited_optimal: {'f1': array([0.8647474]),\n",
      "                             'precision': array([0.95533939]),\n",
      "                             'recall': array([0.78984842])}\n"
     ]
    },
    {
     "name": "stdout",
     "output_type": "stream",
     "text": [
      "cm_audited [[43703833    31624]\n",
      " [  179986   676472]]\n",
      "[0.95533939 0.78984842]\n"
     ]
    },
    {
     "name": "stderr",
     "output_type": "stream",
     "text": [
      "ic| self.label_mask.shape: (16795, 10420)\n",
      "ic| self.mask_amazon_ts.shape: (16795, 10420)\n",
      "ic| self.label_mask_test.shape: (70001560,)\n",
      "ic| self.error_mask_test.shape: (44591915,)\n",
      "ic| bounds: (0.0015, 0.408490519285202)\n",
      "c:\\Users\\jchamorro\\Anaconda3\\envs\\tf2\\lib\\site-packages\\scipy\\optimize\\_minimize.py:783: RuntimeWarning: Method 'bounded' does not support relative tolerance in x; defaulting to absolute tolerance.\n",
      "  warn(\"Method 'bounded' does not support relative tolerance in x; \"\n"
     ]
    },
    {
     "name": "stdout",
     "output_type": "stream",
     "text": [
      "0.1569565452679776\n",
      "threshold 0.1569565452679776\n",
      "(44588225,) (44588225,)\n"
     ]
    },
    {
     "name": "stderr",
     "output_type": "stream",
     "text": [
      "ic| label_current_deforestation_test_classified_incorrect.shape: (3690,)\n",
      "    predicted_test_classified_incorrect.shape: (3690,)\n",
      "ic| TP_H + FN_H + FP_H + TN_H: 3690\n",
      "    len(label_mask_current_deforestation_test): 44591915\n",
      "ic| TP_H + FN_H + FP_H + TN_H: 3690\n",
      "    len(label_mask_current_deforestation_test): 44591915\n"
     ]
    },
    {
     "name": "stdout",
     "output_type": "stream",
     "text": [
      "cm_correct [[43692528    39614]\n",
      " [  250093   605990]]\n",
      "cm_incorrect [[3271   44]\n",
      " [ 367    8]]\n",
      "[9.38640405e-01 7.07863607e-01 7.07553669e-01 8.27504268e-05\n",
      " 1.53846154e-01 2.13333333e-02]\n",
      "0.2530339740172244\n",
      "threshold 0.2530339740172244\n",
      "(44591560,) (44591560,)\n"
     ]
    },
    {
     "name": "stderr",
     "output_type": "stream",
     "text": [
      "ic| label_current_deforestation_test_classified_incorrect.shape: (355,)\n",
      "    predicted_test_classified_incorrect.shape: (355,)\n",
      "d:\\Jorge\\deforestation_uncertainty\\src\\metrics.py:299: RuntimeWarning: invalid value encountered in longlong_scalars\n",
      "  precision_H = TP_H / (TP_H + FP_H)\n",
      "ic| TP_H + FN_H + FP_H + TN_H: 355\n",
      "    len(label_mask_current_deforestation_test): 44591915\n",
      "ic| TP_H + FN_H + FP_H + TN_H: 355\n",
      "    len(label_mask_current_deforestation_test): 44591915\n"
     ]
    },
    {
     "name": "stdout",
     "output_type": "stream",
     "text": [
      "cm_correct [[43695576    39658]\n",
      " [  250328   605998]]\n",
      "cm_incorrect [[223   0]\n",
      " [132   0]]\n",
      "[9.38577199e-01 7.07672078e-01 7.07563010e-01 7.96108443e-06\n",
      "            nan 0.00000000e+00]\n",
      "0.0975774287492468\n",
      "threshold 0.0975774287492468\n",
      "(44577600,) (44577600,)\n"
     ]
    },
    {
     "name": "stderr",
     "output_type": "stream",
     "text": [
      "ic| label_current_deforestation_test_classified_incorrect.shape: (14315,)\n",
      "    predicted_test_classified_incorrect.shape: (14315,)\n",
      "ic| TP_H + FN_H + FP_H + TN_H: 14315\n",
      "    len(label_mask_current_deforestation_test): 44591915\n",
      "ic| TP_H + FN_H + FP_H + TN_H: 14315\n",
      "    len(label_mask_current_deforestation_test): 44591915\n"
     ]
    },
    {
     "name": "stdout",
     "output_type": "stream",
     "text": [
      "cm_correct [[43683981    38752]\n",
      " [  249525   605342]]\n",
      "cm_incorrect [[11818   906]\n",
      " [  935   656]]\n",
      "[9.39834869e-01 7.08112490e-01 7.06797064e-01 3.21022320e-04\n",
      " 4.19974392e-01 4.12319296e-01]\n",
      "0.060879116518730826\n",
      "threshold 0.060879116518730826\n",
      "(44540475,) (44540475,)\n"
     ]
    },
    {
     "name": "stderr",
     "output_type": "stream",
     "text": [
      "ic| label_current_deforestation_test_classified_incorrect.shape: (51440,)\n",
      "    predicted_test_classified_incorrect.shape: (51440,)\n",
      "ic| TP_H + FN_H + FP_H + TN_H: 51440\n",
      "    len(label_mask_current_deforestation_test): 44591915\n",
      "ic| TP_H + FN_H + FP_H + TN_H: 51440\n",
      "    len(label_mask_current_deforestation_test): 44591915\n"
     ]
    },
    {
     "name": "stdout",
     "output_type": "stream",
     "text": [
      "cm_correct [[43652005    37021]\n",
      " [  247553   603896]]\n",
      "cm_incorrect [[43794  2637]\n",
      " [ 2907  2102]]\n",
      "[0.94223745 0.70925681 0.70510872 0.00115357 0.44355349 0.41964464]\n",
      "0.038198312230515986\n",
      "threshold 0.038198312230515986\n",
      "(44265356,) (44265356,)\n"
     ]
    },
    {
     "name": "stderr",
     "output_type": "stream",
     "text": [
      "ic| label_current_deforestation_test_classified_incorrect.shape: (326559,)\n",
      "    predicted_test_classified_incorrect.shape: (326559,)\n",
      "ic| TP_H + FN_H + FP_H + TN_H: 326559\n",
      "    len(label_mask_current_deforestation_test): 44591915\n",
      "ic| TP_H + FN_H + FP_H + TN_H: 326559\n",
      "    len(label_mask_current_deforestation_test): 44591915\n"
     ]
    },
    {
     "name": "stdout",
     "output_type": "stream",
     "text": [
      "cm_correct [[43391720    35221]\n",
      " [  237439   600976]]\n",
      "cm_incorrect [[304079   4437]\n",
      " [ 13021   5022]]\n",
      "[0.94463822 0.71680015 0.70169932 0.00732328 0.53092293 0.27833509]\n",
      "0.024180804288214848\n",
      "threshold 0.024180804288214848\n",
      "(43535697,) (43535697,)\n"
     ]
    },
    {
     "name": "stderr",
     "output_type": "stream",
     "text": [
      "ic| label_current_deforestation_test_classified_incorrect.shape: (1056218,)\n",
      "    predicted_test_classified_incorrect.shape: (1056218,)\n",
      "ic| TP_H + FN_H + FP_H + TN_H: 1056218\n",
      "    len(label_mask_current_deforestation_test): 44591915\n",
      "ic| TP_H + FN_H + FP_H + TN_H: 1056218\n",
      "    len(label_mask_current_deforestation_test): 44591915\n"
     ]
    },
    {
     "name": "stdout",
     "output_type": "stream",
     "text": [
      "cm_correct [[42695752    33493]\n",
      " [  212987   593465]]\n",
      "cm_incorrect [[1000047    6165]\n",
      " [  37473   12533]]\n",
      "[0.94657856 0.73589625 0.69292948 0.02368631 0.67028559 0.25062992]\n",
      "0.015517507942301143\n",
      "threshold 0.015517507942301143\n",
      "(41875633,) (41875633,)\n"
     ]
    },
    {
     "name": "stderr",
     "output_type": "stream",
     "text": [
      "ic| label_current_deforestation_test_classified_incorrect.shape: (2716282,)\n",
      "    predicted_test_classified_incorrect.shape: (2716282,)\n"
     ]
    },
    {
     "name": "stdout",
     "output_type": "stream",
     "text": [
      "cm_correct [[41092381    31445]\n",
      " [  177756   574051]]\n"
     ]
    },
    {
     "name": "stderr",
     "output_type": "stream",
     "text": [
      "ic| TP_H + FN_H + FP_H + TN_H: 2716282\n",
      "    len(label_mask_current_deforestation_test): 44591915\n",
      "ic| TP_H + FN_H + FP_H + TN_H: 2716282\n",
      "    len(label_mask_current_deforestation_test): 44591915\n"
     ]
    },
    {
     "name": "stdout",
     "output_type": "stream",
     "text": [
      "cm_incorrect [[2603418    8213]\n",
      " [  72704   31947]]\n",
      "[0.94806737 0.76356166 0.67026171 0.06091423 0.79549303 0.30527181]\n",
      "0.02953501588460228\n",
      "threshold 0.02953501588460228\n",
      "(43927475,) (43927475,)\n"
     ]
    },
    {
     "name": "stderr",
     "output_type": "stream",
     "text": [
      "ic| label_current_deforestation_test_classified_incorrect.shape: (664440,)\n",
      "    predicted_test_classified_incorrect.shape: (664440,)\n",
      "ic| TP_H + FN_H + FP_H + TN_H: 664440\n",
      "    len(label_mask_current_deforestation_test): 44591915\n",
      "ic| TP_H + FN_H + FP_H + TN_H: 664440\n",
      "    len(label_mask_current_deforestation_test): 44591915\n"
     ]
    },
    {
     "name": "stdout",
     "output_type": "stream",
     "text": [
      "cm_correct [[43070041    34348]\n",
      " [  225279   597807]]\n",
      "cm_incorrect [[625758   5310]\n",
      " [ 25181   8191]]\n",
      "[0.94566522 0.72629956 0.6979992  0.01490046 0.6066958  0.24544528]\n",
      "0.02087171953868858\n",
      "threshold 0.02087171953868858\n",
      "(43139390,) (43139390,)\n"
     ]
    },
    {
     "name": "stderr",
     "output_type": "stream",
     "text": [
      "ic| label_current_deforestation_test_classified_incorrect.shape: (1452525,)\n",
      "    predicted_test_classified_incorrect.shape: (1452525,)\n",
      "ic| TP_H + FN_H + FP_H + TN_H: 1452525\n",
      "    len(label_mask_current_deforestation_test): 44591915\n"
     ]
    },
    {
     "name": "stdout",
     "output_type": "stream",
     "text": [
      "cm_correct [[42315250    32894]\n",
      " [  202525   588721]]\n",
      "cm_incorrect [[1380549    6764]\n",
      " [  47935   17277]]\n"
     ]
    },
    {
     "name": "stderr",
     "output_type": "stream",
     "text": [
      "ic| TP_H + FN_H + FP_H + TN_H: 1452525\n",
      "    len(label_mask_current_deforestation_test): 44591915\n"
     ]
    },
    {
     "name": "stdout",
     "output_type": "stream",
     "text": [
      "[0.947083   0.74404294 0.68739039 0.03257373 0.71864731 0.2649359 ]\n",
      "0.018826592691827414\n",
      "threshold 0.018826592691827414\n",
      "(42789921,) (42789921,)\n"
     ]
    },
    {
     "name": "stderr",
     "output_type": "stream",
     "text": [
      "ic| label_current_deforestation_test_classified_incorrect.shape: (1801994,)\n",
      "    predicted_test_classified_incorrect.shape: (1801994,)\n"
     ]
    },
    {
     "name": "stdout",
     "output_type": "stream",
     "text": [
      "cm_correct [[41978642    32425]\n",
      " [  194585   584269]]\n"
     ]
    },
    {
     "name": "stderr",
     "output_type": "stream",
     "text": [
      "ic| TP_H + FN_H + FP_H + TN_H: 1801994\n",
      "    len(label_mask_current_deforestation_test): 44591915\n",
      "ic| TP_H + FN_H + FP_H + TN_H: 1801994\n",
      "    len(label_mask_current_deforestation_test): 44591915\n"
     ]
    },
    {
     "name": "stdout",
     "output_type": "stream",
     "text": [
      "cm_incorrect [[1717157    7233]\n",
      " [  55875   21729]]\n",
      "[0.94742125 0.75016499 0.68219224 0.04041078 0.75025896 0.27999845]\n",
      "0.021916522759287547\n",
      "threshold 0.021916522759287547\n",
      "(43283218,) (43283218,)\n"
     ]
    },
    {
     "name": "stderr",
     "output_type": "stream",
     "text": [
      "ic| label_current_deforestation_test_classified_incorrect.shape: (1308697,)\n",
      "    predicted_test_classified_incorrect.shape: (1308697,)\n",
      "ic| TP_H + FN_H + FP_H + TN_H: 1308697\n",
      "    len(label_mask_current_deforestation_test): 44591915\n",
      "ic| TP_H + FN_H + FP_H + TN_H: 1308697\n",
      "    len(label_mask_current_deforestation_test): 44591915\n"
     ]
    },
    {
     "name": "stdout",
     "output_type": "stream",
     "text": [
      "cm_correct [[42453486    33098]\n",
      " [  206160   590474]]\n",
      "cm_incorrect [[1242313    6560]\n",
      " [  44300   15524]]\n",
      "[0.94692193 0.74121115 0.68943719 0.0293483  0.70295236 0.25949452]\n",
      "0.022095409018442622\n",
      "threshold 0.022095409018442622\n",
      "(43305943,) (43305943,)\n"
     ]
    },
    {
     "name": "stderr",
     "output_type": "stream",
     "text": [
      "ic| label_current_deforestation_test_classified_incorrect.shape: (1285972,)\n",
      "    predicted_test_classified_incorrect.shape: (1285972,)\n",
      "ic| TP_H + FN_H + FP_H + TN_H: 1285972\n",
      "    len(label_mask_current_deforestation_test): 44591915\n",
      "ic| TP_H + FN_H + FP_H + TN_H: 1285972\n",
      "    len(label_mask_current_deforestation_test): 44591915\n"
     ]
    },
    {
     "name": "stdout",
     "output_type": "stream",
     "text": [
      "cm_correct [[42475267    33140]\n",
      " [  206763   590773]]\n",
      "cm_incorrect [[1220532    6518]\n",
      " [  43697   15225]]\n",
      "[0.94688362 0.74074775 0.68978631 0.02883868 0.70022536 0.25839245]\n",
      "0.02163419026700832\n",
      "threshold 0.02163419026700832\n",
      "(43246381,) (43246381,)\n"
     ]
    },
    {
     "name": "stderr",
     "output_type": "stream",
     "text": [
      "ic| label_current_deforestation_test_classified_incorrect.shape: (1345534,)\n",
      "    predicted_test_classified_incorrect.shape: (1345534,)\n",
      "ic| TP_H + FN_H + FP_H + TN_H: 1345534\n",
      "    len(label_mask_current_deforestation_test): 44591915\n",
      "ic| TP_H + FN_H + FP_H + TN_H: 1345534\n",
      "    len(label_mask_current_deforestation_test): 44591915\n"
     ]
    },
    {
     "name": "stdout",
     "output_type": "stream",
     "text": [
      "cm_correct [[42418114    33040]\n",
      " [  205198   590029]]\n",
      "cm_incorrect [[1277685    6618]\n",
      " [  45262   15969]]\n",
      "[0.94697217 0.74196299 0.68891761 0.03017439 0.7069996  0.26079927]\n",
      "0.021342952364217065\n",
      "threshold 0.021342952364217065\n",
      "(43206813,) (43206813,)\n"
     ]
    },
    {
     "name": "stderr",
     "output_type": "stream",
     "text": [
      "ic| label_current_deforestation_test_classified_incorrect.shape: (1385102,)\n",
      "    predicted_test_classified_incorrect.shape: (1385102,)\n",
      "ic| TP_H + FN_H + FP_H + TN_H: 1385102\n",
      "    len(label_mask_current_deforestation_test): 44591915\n",
      "ic| TP_H + FN_H + FP_H + TN_H: 1385102\n",
      "    len(label_mask_current_deforestation_test): 44591915\n"
     ]
    },
    {
     "name": "stdout",
     "output_type": "stream",
     "text": [
      "cm_correct [[42380082    32978]\n",
      " [  204217   589536]]\n",
      "cm_incorrect [[1315717    6680]\n",
      " [  46243   16462]]\n",
      "[0.94702448 0.74271971 0.68834199 0.03106173 0.71134733 0.2625309 ]\n",
      "0.021673014075651222\n",
      "threshold 0.021673014075651222\n",
      "(43251587,) (43251587,)\n"
     ]
    },
    {
     "name": "stderr",
     "output_type": "stream",
     "text": [
      "ic| label_current_deforestation_test_classified_incorrect.shape: (1340328,)\n",
      "    predicted_test_classified_incorrect.shape: (1340328,)\n",
      "ic| TP_H + FN_H + FP_H + TN_H: 1340328\n",
      "    len(label_mask_current_deforestation_test): 44591915\n",
      "ic| "
     ]
    },
    {
     "name": "stdout",
     "output_type": "stream",
     "text": [
      "cm_correct [[42423116    33044]\n",
      " [  205337   590090]]\n",
      "cm_incorrect [[1272683    6614]\n",
      " [  45123   15908]]\n"
     ]
    },
    {
     "name": "stderr",
     "output_type": "stream",
     "text": [
      "TP_H + FN_H + FP_H + TN_H: 1340328\n",
      "    len(label_mask_current_deforestation_test): 44591915\n"
     ]
    },
    {
     "name": "stdout",
     "output_type": "stream",
     "text": [
      "[0.94697128 0.74185312 0.68898884 0.03005765 0.70633159 0.26065442]\n",
      "0.02173154033518148\n",
      "threshold 0.02173154033518148\n",
      "(43259328,) (43259328,)\n"
     ]
    },
    {
     "name": "stderr",
     "output_type": "stream",
     "text": [
      "ic| label_current_deforestation_test_classified_incorrect.shape: (1332587,)\n",
      "    predicted_test_classified_incorrect.shape: (1332587,)\n",
      "ic| TP_H + FN_H + FP_H + TN_H: 1332587\n",
      "    len(label_mask_current_deforestation_test): 44591915\n",
      "ic| TP_H + FN_H +"
     ]
    },
    {
     "name": "stdout",
     "output_type": "stream",
     "text": [
      "cm_correct [[42430549    33051]\n",
      " [  205556   590172]]\n",
      "cm_incorrect [[1265250    6607]\n",
      " [  44904   15826]]\n"
     ]
    },
    {
     "name": "stderr",
     "output_type": "stream",
     "text": [
      " FP_H + TN_H: 1332587\n",
      "    len(label_mask_current_deforestation_test): 44591915\n",
      "ic| self.threshold_optimal: 0.021673014075651222\n"
     ]
    },
    {
     "name": "stdout",
     "output_type": "stream",
     "text": [
      "[0.94696762 0.74167555 0.68908458 0.02988405 0.70547854 0.26059608]\n",
      "threshold 0.021673014075651222\n",
      "(43251587,) (43251587,)\n"
     ]
    },
    {
     "name": "stderr",
     "output_type": "stream",
     "text": [
      "ic| label_current_deforestation_test_classified_incorrect.shape: (1340328,)\n",
      "    predicted_test_classified_incorrect.shape: (1340328,)\n",
      "ic| TP_H + FN_H + FP_H + TN_H: 1340328\n",
      "    len(label_mask_current_deforestation_test): 44591915\n",
      "ic|"
     ]
    },
    {
     "name": "stdout",
     "output_type": "stream",
     "text": [
      "cm_correct [[42423116    33044]\n",
      " [  205337   590090]]\n",
      "cm_incorrect [[1272683    6614]\n",
      " [  45123   15908]]\n"
     ]
    },
    {
     "name": "stderr",
     "output_type": "stream",
     "text": [
      " TP_H + FN_H + FP_H + TN_H: 1340328\n",
      "    len(label_mask_current_deforestation_test): 44591915\n"
     ]
    },
    {
     "name": "stdout",
     "output_type": "stream",
     "text": [
      "[0.94697128 0.74185312 0.68898884 0.03005765 0.70633159 0.26065442]\n",
      "threshold 0.021673014075651222\n",
      "(44591915,) (44591915,)\n"
     ]
    },
    {
     "name": "stderr",
     "output_type": "stream",
     "text": [
      "ic| self.m_optimal: {'AA': array([0.03005765]),\n",
      "                     'f1': 80.69,\n",
      "                     'f1_H': array([0.38078824]),\n",
      "                     'f1_L': array([0.83195576]),\n",
      "                     'precision_H': array([0.70633159]),\n",
      "                     'precision_L': array([0.94697128]),\n",
      "                     'recall_H': array([0.26065442]),\n",
      "                     'recall_L': array([0.74185312]),\n",
      "                     'recall_Ltotal': array([0.68898884])}\n",
      "ic| self.m_audited_optimal: {'f1': array([0.84526974]),\n",
      "                             'precision': array([0.95170171]),\n",
      "                             'recall': array([0.76024861])}\n",
      "100%|██████████| 10/10 [4:35:16<00:00, 1651.62s/it]"
     ]
    },
    {
     "name": "stdout",
     "output_type": "stream",
     "text": [
      "cm_audited [[43702413    33044]\n",
      " [  205337   651121]]\n",
      "[0.95170171 0.76024861]\n",
      "self.exp, results 1123 {'pred_entropy': {'metrics': {'precision_L': array([0.97004447]), 'recall_L': array([0.86393224]), 'recall_Ltotal': array([0.49867828]), 'AA': array([0.0300023]), 'precision_H': array([0.87111555]), 'recall_H': array([0.49407336]), 'f1_L': array([0.91391858]), 'f1_H': array([0.6305281]), 'f1': 80.69}, 'metrics_audited': {'precision': array([0.98356265]), 'recall': array([0.92145908]), 'f1': array([0.95149858])}}, 'pred_var': {'metrics': {'precision_L': array([0.98019644]), 'recall_L': array([0.75872486]), 'recall_Ltotal': array([0.37240822]), 'AA': array([0.03012636]), 'precision_H': array([0.89629051]), 'recall_H': array([0.65824312]), 'f1_L': array([0.85535718]), 'f1_H': array([0.75904059]), 'f1': 80.69}, 'metrics_audited': {'precision': array([0.99153748]), 'recall': array([0.88157388]), 'f1': array([0.93332789])}}, 'MI': {'metrics': {'precision_L': array([0.94780571]), 'recall_L': array([0.76137153]), 'recall_Ltotal': array([0.67051274]), 'AA': array([0.03006034]), 'precision_H': array([0.79796811]), 'recall_H': array([0.31047101]), 'f1_L': array([0.84442066]), 'f1_H': array([0.44701772]), 'f1': 80.69}, 'metrics_audited': {'precision': array([0.95533939]), 'recall': array([0.78984842]), 'f1': array([0.8647474])}}, 'KL': {'metrics': {'precision_L': array([0.94697128]), 'recall_L': array([0.74185312]), 'recall_Ltotal': array([0.68898884]), 'AA': array([0.03005765]), 'precision_H': array([0.70633159]), 'recall_H': array([0.26065442]), 'f1_L': array([0.83195576]), 'f1_H': array([0.38078824]), 'f1': 80.69}, 'metrics_audited': {'precision': array([0.95170171]), 'recall': array([0.76024861]), 'f1': array([0.84526974])}}}\n"
     ]
    },
    {
     "name": "stderr",
     "output_type": "stream",
     "text": [
      "\n"
     ]
    }
   ],
   "source": [
    "from tqdm import tqdm\n",
    "\n",
    "# \n",
    "\n",
    "results_for_exps = []\n",
    "for exp in tqdm(exps):\n",
    "\n",
    "    trainer = TrainerMCDropout(config, dataset, patchesHandler)\n",
    "\n",
    "    trainer.defineExperiment(exp)\n",
    "\n",
    "    trainer.createLogFolders()\n",
    "\n",
    "    trainer.loadDataset()\n",
    "\n",
    "    # %%\n",
    "    if config[\"training\"] == True:\n",
    "        trainer.run()\n",
    "\n",
    "    # %%\n",
    "    results = trainer.run_predictor_repetition()\n",
    "    results_for_exps.append(results)"
   ]
  },
  {
   "cell_type": "code",
   "execution_count": 5,
   "id": "57f5f4f7",
   "metadata": {},
   "outputs": [
    {
     "name": "stdout",
     "output_type": "stream",
     "text": [
      "[{'pred_entropy': {'metrics': {'precision_L': array([0.94872387]), 'recall_L': array([0.89427261]), 'recall_Ltotal': array([0.59165268]), 'AA': array([0.02999748]), 'precision_H': array([0.73903662]), 'recall_H': array([0.358859]), 'f1_L': array([0.92069386]), 'f1_H': array([0.48312415]), 'f1': 79.77}, 'metrics_audited': {'precision': array([0.96676049]), 'recall': array([0.93005053]), 'f1': array([0.94805028])}}, 'pred_var': {'metrics': {'precision_L': array([0.9835569]), 'recall_L': array([0.71881353]), 'recall_Ltotal': array([0.4050603]), 'AA': array([0.03013878]), 'precision_H': array([0.81897461]), 'recall_H': array([0.70570037]), 'f1_L': array([0.83059949]), 'f1_H': array([0.75812969]), 'f1': 79.77}, 'metrics_audited': {'precision': array([0.9920174]), 'recall': array([0.84154795]), 'f1': array([0.91060863])}}, 'MI': {'metrics': {'precision_L': array([0.92139735]), 'recall_L': array([0.71698323]), 'recall_Ltotal': array([0.70811422]), 'AA': array([0.03002551]), 'precision_H': array([0.25612915]), 'recall_H': array([0.40223252]), 'f1_L': array([0.80643833]), 'f1_H': array([0.31296923]), 'f1': 79.77}, 'metrics_audited': {'precision': array([0.92264247]), 'recall': array([0.72048412]), 'f1': array([0.80912725])}}, 'KL': {'metrics': {'precision_L': array([0.90708675]), 'recall_L': array([0.71342352]), 'recall_Ltotal': array([0.71292012]), 'AA': array([0.03001938]), 'precision_H': array([0.08469626]), 'recall_H': array([0.24046434]), 'f1_L': array([0.79868303]), 'f1_H': array([0.12526998]), 'f1': 79.77}, 'metrics_audited': {'precision': array([0.90717009]), 'recall': array([0.71362574]), 'f1': array([0.79884204])}}}, {'pred_entropy': {'metrics': {'precision_L': array([0.94698448]), 'recall_L': array([0.83360622]), 'recall_Ltotal': array([0.44982627]), 'AA': array([0.02999773]), 'precision_H': array([0.82888247]), 'recall_H': array([0.36808682]), 'f1_L': array([0.88668569]), 'f1_H': array([0.50978871]), 'f1': 73.75}, 'metrics_audited': {'precision': array([0.97307782]), 'recall': array([0.91021145]), 'f1': array([0.94059536])}}, 'pred_var': {'metrics': {'precision_L': array([0.97483068]), 'recall_L': array([0.64484605]), 'recall_Ltotal': array([0.28826243]), 'AA': array([0.02986225]), 'precision_H': array([0.86260728]), 'recall_H': array([0.59862684]), 'f1_L': array([0.77622368]), 'f1_H': array([0.70677226]), 'f1': 73.75}, 'metrics_audited': {'precision': array([0.99123027]), 'recall': array([0.84123724]), 'f1': array([0.91009506])}}, 'MI': {'metrics': {'precision_L': array([0.93557104]), 'recall_L': array([0.66391208]), 'recall_Ltotal': array([0.55481534]), 'AA': array([0.02993069]), 'precision_H': array([0.74593551]), 'recall_H': array([0.39235058]), 'f1_L': array([0.77667205]), 'f1_H': array([0.51422614]), 'f1': 73.75}, 'metrics_audited': {'precision': array([0.9495504]), 'recall': array([0.71913942]), 'f1': array([0.81843745])}}, 'KL': {'metrics': {'precision_L': array([0.92119183]), 'recall_L': array([0.64786296]), 'recall_Ltotal': array([0.59797645]), 'AA': array([0.03005842]), 'precision_H': array([0.70284834]), 'recall_H': array([0.27676731]), 'f1_L': array([0.76072049]), 'f1_H': array([0.39714646]), 'f1': 73.75}, 'metrics_audited': {'precision': array([0.9295489]), 'recall': array([0.67497809]), 'f1': array([0.78206866])}}}, {'pred_entropy': {'metrics': {'precision_L': array([0.96306586]), 'recall_L': array([0.80701865]), 'recall_Ltotal': array([0.40276581]), 'AA': array([0.02999741]), 'precision_H': array([0.80887505]), 'recall_H': array([0.35250896]), 'f1_L': array([0.87816385]), 'f1_H': array([0.49102743]), 'f1': 70.8}, 'metrics_audited': {'precision': array([0.98319471]), 'recall': array([0.90368712]), 'f1': array([0.94176581])}}, 'pred_var': {'metrics': {'precision_L': array([0.96749394]), 'recall_L': array([0.6791522]), 'recall_Ltotal': array([0.32196813]), 'AA': array([0.03005268]), 'precision_H': array([0.8473909]), 'recall_H': array([0.48937824]), 'f1_L': array([0.79807752]), 'f1_H': array([0.62044321]), 'f1': 70.8}, 'metrics_audited': {'precision': array([0.98740259]), 'recall': array([0.84789452]), 'f1': array([0.91234628])}}, 'MI': {'metrics': {'precision_L': array([0.92695412]), 'recall_L': array([0.65128829]), 'recall_Ltotal': array([0.55018181]), 'AA': array([0.0300078]), 'precision_H': array([0.67857628]), 'recall_H': array([0.18785823]), 'f1_L': array([0.76504643]), 'f1_H': array([0.29425453]), 'f1': 70.8}, 'metrics_audited': {'precision': array([0.94209839]), 'recall': array([0.70542255]), 'f1': array([0.80676055])}}, 'KL': {'metrics': {'precision_L': array([0.92076963]), 'recall_L': array([0.61716294]), 'recall_Ltotal': array([0.56768677]), 'AA': array([0.02997736]), 'precision_H': array([0.58351841]), 'recall_H': array([0.14542488]), 'f1_L': array([0.73899845]), 'f1_H': array([0.23282496]), 'f1': 70.8}, 'metrics_audited': {'precision': array([0.9298864]), 'recall': array([0.64785389]), 'f1': array([0.76366247])}}}, {'pred_entropy': {'metrics': {'precision_L': array([0.86176067]), 'recall_L': array([0.97047557]), 'recall_Ltotal': array([0.67373597]), 'AA': array([0.03000106]), 'precision_H': array([0.59716549]), 'recall_H': array([0.55697821]), 'f1_L': array([0.91289285]), 'f1_H': array([0.57637219]), 'f1': 81.67}, 'metrics_audited': {'precision': array([0.90062589]), 'recall': array([0.97950317]), 'f1': array([0.93840996])}}, 'pred_var': {'metrics': {'precision_L': array([0.89799084]), 'recall_L': array([0.94729354]), 'recall_Ltotal': array([0.53695934]), 'AA': array([0.03002522]), 'precision_H': array([0.65469406]), 'recall_H': array([0.70892721]), 'f1_L': array([0.92198355]), 'f1_H': array([0.68073217]), 'f1': 81.67}, 'metrics_audited': {'precision': array([0.94084398]), 'recall': array([0.97012412]), 'f1': array([0.95525973])}}, 'MI': {'metrics': {'precision_L': array([0.81739286]), 'recall_L': array([0.91706326]), 'recall_Ltotal': array([0.80083677]), 'AA': array([0.02995141]), 'precision_H': array([0.49513851]), 'recall_H': array([0.34089991]), 'f1_L': array([0.86436428]), 'f1_H': array([0.40379167]), 'f1': 81.67}, 'metrics_audited': {'precision': array([0.83830887]), 'recall': array([0.92757447]), 'f1': array([0.88068548])}}, 'KL': {'metrics': {'precision_L': array([0.80217278]), 'recall_L': array([0.88584186]), 'recall_Ltotal': array([0.8249565]), 'AA': array([0.03007326]), 'precision_H': array([0.49442233]), 'recall_H': array([0.27767618]), 'f1_L': array([0.84193373]), 'f1_H': array([0.3556264]), 'f1': 81.67}, 'metrics_audited': {'precision': array([0.81456597]), 'recall': array([0.89368814]), 'f1': array([0.85229468])}}}, {'pred_entropy': {'metrics': {'precision_L': array([0.95636601]), 'recall_L': array([0.85303752]), 'recall_Ltotal': array([0.5121371]), 'AA': array([0.02999128]), 'precision_H': array([0.72475187]), 'recall_H': array([0.45881879]), 'f1_L': array([0.90175141]), 'f1_H': array([0.56190946]), 'f1': 77.77}, 'metrics_audited': {'precision': array([0.97501307]), 'recall': array([0.91176832]), 'f1': array([0.94233071])}}, 'pred_var': {'metrics': {'precision_L': array([0.95701999]), 'recall_L': array([0.71274984]), 'recall_Ltotal': array([0.36949175]), 'AA': array([0.02989396]), 'precision_H': array([0.81012385]), 'recall_H': array([0.6769223]), 'f1_L': array([0.81701781]), 'f1_H': array([0.73755734]), 'f1': 77.77}, 'metrics_audited': {'precision': array([0.98087553]), 'recall': array([0.85108862]), 'f1': array([0.91138465])}}, 'MI': {'metrics': {'precision_L': array([0.91182663]), 'recall_L': array([0.73003097]), 'recall_Ltotal': array([0.66560727]), 'AA': array([0.02996725]), 'precision_H': array([0.51067661]), 'recall_H': array([0.33868385]), 'f1_L': array([0.81086409]), 'f1_H': array([0.40726624]), 'f1': 77.77}, 'metrics_audited': {'precision': array([0.92133645]), 'recall': array([0.75385517]), 'f1': array([0.82922364])}}, 'KL': {'metrics': {'precision_L': array([0.90193941]), 'recall_L': array([0.72190682]), 'recall_Ltotal': array([0.68219545]), 'AA': array([0.03000381]), 'precision_H': array([0.41390621]), 'recall_H': array([0.24177791]), 'f1_L': array([0.80194319]), 'f1_H': array([0.30524875]), 'f1': 77.77}, 'metrics_audited': {'precision': array([0.90858765]), 'recall': array([0.73720445]), 'f1': array([0.81397263])}}}, {'pred_entropy': {'metrics': {'precision_L': array([0.95192906]), 'recall_L': array([0.85586007]), 'recall_Ltotal': array([0.48170329]), 'AA': array([0.03000087]), 'precision_H': array([0.80635531]), 'recall_H': array([0.46531176]), 'f1_L': array([0.90134193]), 'f1_H': array([0.59010195]), 'f1': 77.93}, 'metrics_audited': {'precision': array([0.97420982]), 'recall': array([0.9188738]), 'f1': array([0.94573306])}}, 'pred_var': {'metrics': {'precision_L': array([0.96803853]), 'recall_L': array([0.71404526]), 'recall_Ltotal': array([0.30465987]), 'AA': array([0.030087]), 'precision_H': array([0.85770943]), 'recall_H': array([0.66360091]), 'f1_L': array([0.82186551]), 'f1_H': array([0.74827173]), 'f1': 77.93}, 'metrics_audited': {'precision': array([0.98867309]), 'recall': array([0.87799242]), 'f1': array([0.93005145])}}, 'MI': {'metrics': {'precision_L': array([0.93147604]), 'recall_L': array([0.74538992]), 'recall_Ltotal': array([0.66819003]), 'AA': array([0.03001027]), 'precision_H': array([0.41347605]), 'recall_H': array([0.16350169]), 'f1_L': array([0.82810775]), 'f1_H': array([0.23433845]), 'f1': 77.93}, 'metrics_audited': {'precision': array([0.94012128]), 'recall': array([0.77175984]), 'f1': array([0.84766149])}}, 'KL': {'metrics': {'precision_L': array([0.91990706]), 'recall_L': array([0.72145912]), 'recall_Ltotal': array([0.67663655]), 'AA': array([0.03005246]), 'precision_H': array([0.37304637]), 'recall_H': array([0.136611]), 'f1_L': array([0.8086865]), 'f1_H': array([0.19998626]), 'f1': 77.93}, 'metrics_audited': {'precision': array([0.92614516]), 'recall': array([0.73876421]), 'f1': array([0.82191008])}}}, {'pred_entropy': {'metrics': {'precision_L': array([0.96433924]), 'recall_L': array([0.86917755]), 'recall_Ltotal': array([0.49532559]), 'AA': array([0.03000139]), 'precision_H': array([0.84335738]), 'recall_H': array([0.38993512]), 'f1_L': array([0.91428889]), 'f1_H': array([0.53329548]), 'f1': 77.44}, 'metrics_audited': {'precision': array([0.98059167]), 'recall': array([0.9254471]), 'f1': array([0.95222168])}}, 'pred_var': {'metrics': {'precision_L': array([0.97441575]), 'recall_L': array([0.73060688]), 'recall_Ltotal': array([0.3481378]), 'AA': array([0.02992398]), 'precision_H': array([0.88647553]), 'recall_H': array([0.60154776]), 'f1_L': array([0.83507965]), 'f1_H': array([0.71673256]), 'f1': 77.44}, 'metrics_audited': {'precision': array([0.98962196]), 'recall': array([0.87163284]), 'f1': array([0.9268876])}}, 'MI': {'metrics': {'precision_L': array([0.93251335]), 'recall_L': array([0.69770188]), 'recall_Ltotal': array([0.61913422]), 'AA': array([0.03002456]), 'precision_H': array([0.90403155]), 'recall_H': array([0.38994014]), 'f1_L': array([0.79819683]), 'f1_H': array([0.5448623]), 'f1': 77.44}, 'metrics_audited': {'precision': array([0.94229973]), 'recall': array([0.73174343]), 'f1': array([0.82378])}}, 'KL': {'metrics': {'precision_L': array([0.93180154]), 'recall_L': array([0.67583596]), 'recall_Ltotal': array([0.6514164]), 'AA': array([0.02998265]), 'precision_H': array([0.86650806]), 'recall_H': array([0.32183532]), 'f1_L': array([0.78344152]), 'f1_H': array([0.46934733]), 'f1': 77.44}, 'metrics_audited': {'precision': array([0.93515312]), 'recall': array([0.68754878]), 'f1': array([0.79246026])}}}, {'pred_entropy': {'metrics': {'precision_L': array([0.88924167]), 'recall_L': array([0.90665361]), 'recall_Ltotal': array([0.67005112]), 'AA': array([0.03000202]), 'precision_H': array([0.58668936]), 'recall_H': array([0.47091658]), 'f1_L': array([0.89786323]), 'f1_H': array([0.52246633]), 'f1': 80.79}, 'metrics_audited': {'precision': array([0.91773313]), 'recall': array([0.93101351]), 'f1': array([0.92432562])}}, 'pred_var': {'metrics': {'precision_L': array([0.92522819]), 'recall_L': array([0.86900006]), 'recall_Ltotal': array([0.57821169]), 'AA': array([0.02990761]), 'precision_H': array([0.63523292]), 'recall_H': array([0.64170793]), 'f1_L': array([0.89623308]), 'f1_H': array([0.63845401]), 'f1': 80.79}, 'metrics_audited': {'precision': array([0.95130301]), 'recall': array([0.9128358]), 'f1': array([0.93167251])}}, 'MI': {'metrics': {'precision_L': array([0.87597166]), 'recall_L': array([0.85918631]), 'recall_Ltotal': array([0.74733697]), 'AA': array([0.02995937]), 'precision_H': array([0.41526692]), 'recall_H': array([0.35032628]), 'f1_L': array([0.8674978]), 'f1_H': array([0.38004234]), 'f1': 80.79}, 'metrics_audited': {'precision': array([0.89239141]), 'recall': array([0.87751751]), 'f1': array([0.88489196])}}, 'KL': {'metrics': {'precision_L': array([0.86776064]), 'recall_L': array([0.85148102]), 'recall_Ltotal': array([0.76209099]), 'AA': array([0.02999556]), 'precision_H': array([0.36404263]), 'recall_H': array([0.29387606]), 'f1_L': array([0.85954376]), 'f1_H': array([0.32521773]), 'f1': 80.79}, 'metrics_audited': {'precision': array([0.88188046]), 'recall': array([0.86707282]), 'f1': array([0.87441395])}}}, {'pred_entropy': {'metrics': {'precision_L': array([0.97433586]), 'recall_L': array([0.82894861]), 'recall_Ltotal': array([0.44108716]), 'AA': array([0.03000242]), 'precision_H': array([0.86704609]), 'recall_H': array([0.38867427]), 'f1_L': array([0.89578142]), 'f1_H': array([0.53674132]), 'f1': 74.94}, 'metrics_audited': {'precision': array([0.98737966]), 'recall': array([0.90898281]), 'f1': array([0.94656075])}}, 'pred_var': {'metrics': {'precision_L': array([0.97812144]), 'recall_L': array([0.70220583]), 'recall_Ltotal': array([0.34681844]), 'AA': array([0.03004894]), 'precision_H': array([0.8968829]), 'recall_H': array([0.54559757]), 'f1_L': array([0.81751048]), 'f1_H': array([0.67846621]), 'f1': 74.94}, 'metrics_audited': {'precision': array([0.99098662]), 'recall': array([0.85291989]), 'f1': array([0.91678422])}}, 'MI': {'metrics': {'precision_L': array([0.94489954]), 'recall_L': array([0.66533554]), 'recall_Ltotal': array([0.58692793]), 'AA': array([0.02999176]), 'precision_H': array([0.87217236]), 'recall_H': array([0.3056363]), 'f1_L': array([0.78084902]), 'f1_H': array([0.45264998]), 'f1': 74.94}, 'metrics_audited': {'precision': array([0.95368629]), 'recall': array([0.70477464]), 'f1': array([0.8105514])}}, 'KL': {'metrics': {'precision_L': array([0.94477569]), 'recall_L': array([0.6399719]), 'recall_Ltotal': array([0.6059975]), 'AA': array([0.02997814]), 'precision_H': array([0.80587058]), 'recall_H': array([0.31925999]), 'f1_L': array([0.76306144]), 'f1_H': array([0.45733756]), 'f1': 74.94}, 'metrics_audited': {'precision': array([0.94899698]), 'recall': array([0.65908482]), 'f1': array([0.77790757])}}}, {'pred_entropy': {'metrics': {'precision_L': array([0.97004447]), 'recall_L': array([0.86393224]), 'recall_Ltotal': array([0.49867828]), 'AA': array([0.0300023]), 'precision_H': array([0.87111555]), 'recall_H': array([0.49407336]), 'f1_L': array([0.91391858]), 'f1_H': array([0.6305281]), 'f1': 80.69}, 'metrics_audited': {'precision': array([0.98356265]), 'recall': array([0.92145908]), 'f1': array([0.95149858])}}, 'pred_var': {'metrics': {'precision_L': array([0.98019644]), 'recall_L': array([0.75872486]), 'recall_Ltotal': array([0.37240822]), 'AA': array([0.03012636]), 'precision_H': array([0.89629051]), 'recall_H': array([0.65824312]), 'f1_L': array([0.85535718]), 'f1_H': array([0.75904059]), 'f1': 80.69}, 'metrics_audited': {'precision': array([0.99153748]), 'recall': array([0.88157388]), 'f1': array([0.93332789])}}, 'MI': {'metrics': {'precision_L': array([0.94780571]), 'recall_L': array([0.76137153]), 'recall_Ltotal': array([0.67051274]), 'AA': array([0.03006034]), 'precision_H': array([0.79796811]), 'recall_H': array([0.31047101]), 'f1_L': array([0.84442066]), 'f1_H': array([0.44701772]), 'f1': 80.69}, 'metrics_audited': {'precision': array([0.95533939]), 'recall': array([0.78984842]), 'f1': array([0.8647474])}}, 'KL': {'metrics': {'precision_L': array([0.94697128]), 'recall_L': array([0.74185312]), 'recall_Ltotal': array([0.68898884]), 'AA': array([0.03005765]), 'precision_H': array([0.70633159]), 'recall_H': array([0.26065442]), 'f1_L': array([0.83195576]), 'f1_H': array([0.38078824]), 'f1': 80.69}, 'metrics_audited': {'precision': array([0.95170171]), 'recall': array([0.76024861]), 'f1': array([0.84526974])}}}]\n"
     ]
    }
   ],
   "source": [
    "print(results_for_exps)"
   ]
  },
  {
   "cell_type": "code",
   "execution_count": 6,
   "id": "65bb5b53",
   "metadata": {},
   "outputs": [
    {
     "name": "stdout",
     "output_type": "stream",
     "text": [
      "{'metrics': {'precision_L': array([0.94872387]), 'recall_L': array([0.89427261]), 'recall_Ltotal': array([0.59165268]), 'AA': array([0.02999748]), 'precision_H': array([0.73903662]), 'recall_H': array([0.358859]), 'f1_L': array([0.92069386]), 'f1_H': array([0.48312415]), 'f1': 79.77}, 'metrics_audited': {'precision': array([0.96676049]), 'recall': array([0.93005053]), 'f1': array([0.94805028])}}\n",
      "{'metrics': {'precision_L': array([0.9835569]), 'recall_L': array([0.71881353]), 'recall_Ltotal': array([0.4050603]), 'AA': array([0.03013878]), 'precision_H': array([0.81897461]), 'recall_H': array([0.70570037]), 'f1_L': array([0.83059949]), 'f1_H': array([0.75812969]), 'f1': 79.77}, 'metrics_audited': {'precision': array([0.9920174]), 'recall': array([0.84154795]), 'f1': array([0.91060863])}}\n",
      "{'metrics': {'precision_L': array([0.92139735]), 'recall_L': array([0.71698323]), 'recall_Ltotal': array([0.70811422]), 'AA': array([0.03002551]), 'precision_H': array([0.25612915]), 'recall_H': array([0.40223252]), 'f1_L': array([0.80643833]), 'f1_H': array([0.31296923]), 'f1': 79.77}, 'metrics_audited': {'precision': array([0.92264247]), 'recall': array([0.72048412]), 'f1': array([0.80912725])}}\n",
      "{'metrics': {'precision_L': array([0.90708675]), 'recall_L': array([0.71342352]), 'recall_Ltotal': array([0.71292012]), 'AA': array([0.03001938]), 'precision_H': array([0.08469626]), 'recall_H': array([0.24046434]), 'f1_L': array([0.79868303]), 'f1_H': array([0.12526998]), 'f1': 79.77}, 'metrics_audited': {'precision': array([0.90717009]), 'recall': array([0.71362574]), 'f1': array([0.79884204])}}\n"
     ]
    }
   ],
   "source": [
    "print(results_for_exps[0]['pred_entropy'])\n",
    "print(results_for_exps[0]['pred_var'])\n",
    "print(results_for_exps[0]['MI'])\n",
    "print(results_for_exps[0]['KL'])\n",
    "# print(results_for_exps[0]['pred_entropy_single'])\n"
   ]
  },
  {
   "cell_type": "code",
   "execution_count": 21,
   "id": "9807b814",
   "metadata": {},
   "outputs": [
    {
     "ename": "KeyError",
     "evalue": "'pred_entropy_single'",
     "output_type": "error",
     "traceback": [
      "\u001b[1;31m---------------------------------------------------------------------------\u001b[0m",
      "\u001b[1;31mKeyError\u001b[0m                                  Traceback (most recent call last)",
      "\u001b[1;32md:\\Jorge\\deforestation_uncertainty\\inference_grid.ipynb Cell 7\u001b[0m in \u001b[0;36m<cell line: 1>\u001b[1;34m()\u001b[0m\n\u001b[1;32m----> <a href='vscode-notebook-cell:/d%3A/Jorge/deforestation_uncertainty/inference_grid.ipynb#X12sZmlsZQ%3D%3D?line=0'>1</a>\u001b[0m \u001b[39mprint\u001b[39m(results_for_exps[\u001b[39m0\u001b[39;49m][\u001b[39m'\u001b[39;49m\u001b[39mpred_entropy_single\u001b[39;49m\u001b[39m'\u001b[39;49m][\u001b[39m'\u001b[39m\u001b[39mmetrics\u001b[39m\u001b[39m'\u001b[39m][\u001b[39m'\u001b[39m\u001b[39mf1_H\u001b[39m\u001b[39m'\u001b[39m])\n\u001b[0;32m      <a href='vscode-notebook-cell:/d%3A/Jorge/deforestation_uncertainty/inference_grid.ipynb#X12sZmlsZQ%3D%3D?line=1'>2</a>\u001b[0m \u001b[39mprint\u001b[39m(results_for_exps[\u001b[39m1\u001b[39m][\u001b[39m'\u001b[39m\u001b[39mpred_entropy_single\u001b[39m\u001b[39m'\u001b[39m][\u001b[39m'\u001b[39m\u001b[39mmetrics\u001b[39m\u001b[39m'\u001b[39m][\u001b[39m'\u001b[39m\u001b[39mf1_H\u001b[39m\u001b[39m'\u001b[39m])\n\u001b[0;32m      <a href='vscode-notebook-cell:/d%3A/Jorge/deforestation_uncertainty/inference_grid.ipynb#X12sZmlsZQ%3D%3D?line=2'>3</a>\u001b[0m \u001b[39mprint\u001b[39m(results_for_exps[\u001b[39m2\u001b[39m][\u001b[39m'\u001b[39m\u001b[39mpred_entropy_single\u001b[39m\u001b[39m'\u001b[39m][\u001b[39m'\u001b[39m\u001b[39mmetrics\u001b[39m\u001b[39m'\u001b[39m][\u001b[39m'\u001b[39m\u001b[39mf1_H\u001b[39m\u001b[39m'\u001b[39m])\n",
      "\u001b[1;31mKeyError\u001b[0m: 'pred_entropy_single'"
     ]
    }
   ],
   "source": [
    "print(results_for_exps[0]['pred_entropy_single']['metrics']['f1_H'])\n",
    "print(results_for_exps[1]['pred_entropy_single']['metrics']['f1_H'])\n",
    "print(results_for_exps[2]['pred_entropy_single']['metrics']['f1_H'])\n",
    "print(results_for_exps[3]['pred_entropy_single']['metrics']['f1_H'])\n",
    "print(results_for_exps[4]['pred_entropy_single']['metrics']['f1_H'])\n",
    "print(results_for_exps[5]['pred_entropy_single']['metrics']['f1_H'])\n",
    "print(results_for_exps[6]['pred_entropy_single']['metrics']['f1_H'])\n",
    "print(results_for_exps[7]['pred_entropy_single']['metrics']['f1_H'])\n",
    "print(results_for_exps[8]['pred_entropy_single']['metrics']['f1_H'])\n",
    "print(results_for_exps[9]['pred_entropy_single']['metrics']['f1_H'])\n"
   ]
  }
 ],
 "metadata": {
  "kernelspec": {
   "display_name": "Python 3.9.12 ('tf2')",
   "language": "python",
   "name": "python3"
  },
  "language_info": {
   "codemirror_mode": {
    "name": "ipython",
    "version": 3
   },
   "file_extension": ".py",
   "mimetype": "text/x-python",
   "name": "python",
   "nbconvert_exporter": "python",
   "pygments_lexer": "ipython3",
   "version": "3.9.12"
  },
  "vscode": {
   "interpreter": {
    "hash": "0593c6bd4eb743cc503a3c17025f83c5676f297db573750215a1bc8c88a990c4"
   }
  }
 },
 "nbformat": 4,
 "nbformat_minor": 5
}
