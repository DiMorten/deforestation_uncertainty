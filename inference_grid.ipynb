{
 "cells": [
  {
   "cell_type": "code",
   "execution_count": 1,
   "id": "dbd5b7cf",
   "metadata": {},
   "outputs": [],
   "source": [
    "from utils_v1 import *\n"
   ]
  },
  {
   "cell_type": "code",
   "execution_count": 2,
   "id": "123e793c",
   "metadata": {},
   "outputs": [],
   "source": [
    "from icecream import ic\n",
    "\n",
    "import numpy as np\n",
    "from src.dataset import (\n",
    "    MultipleDates,\n",
    "    PA, PADeforestationTime, PADistanceMap, PAMultipleDates,\n",
    "    MTDeforestationTime,\n",
    "    MTMultipleDates\n",
    ")\n",
    "\n",
    "# from src.dataset_legacy import MTDeforestationTime\n",
    "from src import training_generator as generator\n",
    "from src.patchesHandler import PatchesHandler, PatchesHandlerMultipleDates, PatchesHandlerEvidential\n",
    "\n",
    "from src.trainer.mcdropout import TrainerMCDropout\n",
    "\n",
    "from mpl_toolkits.axes_grid1 import make_axes_locatable\n",
    "\n",
    "import cv2\n",
    "from src import metrics as _metric\n"
   ]
  },
  {
   "cell_type": "code",
   "execution_count": 3,
   "id": "603a5df7",
   "metadata": {},
   "outputs": [
    {
     "name": "stderr",
     "output_type": "stream",
     "text": [
      "ic| dates: [2018, 2019]\n",
      "ic| list(self.date_ids): [0]\n",
      "ic| self.image_channels: [[0, 1, 2, 3, 4, 5, 6, 7, 8, 9, 10, 11, 12, 13, 14, 15, 16, 17, 18, 19, 20]]\n",
      "ic| self.input_image_shape: 21\n",
      "ic| self.dataset.image_channels: [[0, 1, 2, 3, 4, 5, 6, 7, 8, 9, 10, 11, 12, 13, 14, 15, 16, 17, 18, 19, 20]]\n"
     ]
    }
   ],
   "source": [
    "\n",
    "uncertaintyMethod = \"pred_entropy\"\n",
    "config = {\n",
    "\t\"training\": False,\n",
    "\t\"save_probabilities\": False,\n",
    "\t\"loadInference\": False,\n",
    "\t\"addPastDeforestationInput\": True,\n",
    "\t\"inference_times\": 10,\n",
    "\t\"removePolygons\": True,\n",
    "\t\"uncertainty_method\": uncertaintyMethod\n",
    "}\n",
    "'''\n",
    "if config[\"training\"] == True:\n",
    "\tdates = [2017, 2018]\n",
    "else:\n",
    "\tdates = [2018, 2019]\n",
    "if config[\"training\"] == True:\n",
    "\tdates = [2018, 2019]\n",
    "else:\n",
    "\tdates = [2019, 2020]\n",
    "'''\n",
    "dates = [2018, 2019]\n",
    "ic(dates)\n",
    "dataset = PAMultipleDates(dates = dates, # dates = [2017, 2018, 2019]. [2018, 2019]. [2015, 2016, 2017, 2018]\n",
    "\taddPastDeforestationInput = config['addPastDeforestationInput'],\n",
    "\tborderBuffer = 2)\t\n",
    "# dataset = MTMultipleDates(dates = dates, # dates = [2016,2017,2018,2019]\n",
    "# \taddPastDeforestationInput = addPastDeforestationInput,\n",
    "# \tborderBuffer = 2)\t\n",
    "# dataset = MTDeforestationTime()\t\n",
    "# [2016, 2017, 2018]\n",
    "\n",
    "\n",
    "if issubclass(type(dataset), MultipleDates):\n",
    "\tpatchesHandler = PatchesHandlerMultipleDates(\n",
    "\t\tdataset)\n",
    "else:\n",
    "\tpatchesHandler = PatchesHandler()\n",
    "\n"
   ]
  },
  {
   "cell_type": "code",
   "execution_count": 4,
   "id": "55da0bd1",
   "metadata": {},
   "outputs": [
    {
     "name": "stderr",
     "output_type": "stream",
     "text": [
      "  0%|          | 0/10 [00:00<?, ?it/s]"
     ]
    },
    {
     "name": "stdout",
     "output_type": "stream",
     "text": [
      "D:/Jorge/datasets/deforestation/Para/deforestation_past_years.tif\n",
      "Loaded deforestation past years\n"
     ]
    },
    {
     "name": "stderr",
     "output_type": "stream",
     "text": [
      "ic| np.unique(deforestation_past_years, return_counts=True): (array([   0, 2008, 2009, 2010, 2011, 2012, 2013, 2014, 2015, 2016, 2017,\n",
      "                                                                    2018, 2019, 2020, 2021], dtype=uint16),\n",
      "                                                              array([132185553,   3150503,   4571354,    864429,    903608,   1299506,\n",
      "                                                                      2477971,   1561686,   1459696,    969060,    644976,   2209014,\n",
      "                                                                      2100204,   5257014,   3514616], dtype=int64))\n"
     ]
    },
    {
     "name": "stdout",
     "output_type": "stream",
     "text": [
      "Label where deforestation past years is actual date (2019) = 1\n"
     ]
    },
    {
     "name": "stderr",
     "output_type": "stream",
     "text": [
      "ic| np.unique(deforestation_past_years, return_counts=True): (array([   0, 2008, 2009, 2010, 2011, 2012, 2013, 2014, 2015, 2016, 2017,\n",
      "                                                                    2018, 2019, 2020, 2021], dtype=uint16),\n",
      "                                                              array([132185553,   3150503,   4571354,    864429,    903608,   1299506,\n",
      "                                                                      2477971,   1561686,   1459696,    969060,    644976,   2209014,\n",
      "                                                                      2100204,   5257014,   3514616], dtype=int64))\n"
     ]
    },
    {
     "name": "stdout",
     "output_type": "stream",
     "text": [
      "Past deforestation different from 0 (no deforestation)\n"
     ]
    },
    {
     "name": "stderr",
     "output_type": "stream",
     "text": [
      "ic| np.unique(deforestation_past_years, return_counts=True): (array([   0, 2008, 2009, 2010, 2011, 2012, 2013, 2014, 2015, 2016, 2017,\n",
      "                                                                    2018, 2019, 2020, 2021], dtype=uint16),\n",
      "                                                              array([132185553,   3150503,   4571354,    864429,    903608,   1299506,\n",
      "                                                                      2477971,   1561686,   1459696,    969060,    644976,   2209014,\n",
      "                                                                      2100204,   5257014,   3514616], dtype=int64))\n"
     ]
    },
    {
     "name": "stdout",
     "output_type": "stream",
     "text": [
      "Past deforestation before 2008 is 2\n",
      "D:/Jorge/datasets/deforestation/deforestation_before_2008/deforestation_before_2008_para.tif\n"
     ]
    },
    {
     "name": "stderr",
     "output_type": "stream",
     "text": [
      "ic| np.unique(label_past_deforestation_before_2008, return_counts=True): (array([  0, 215], dtype=uint8), array([124211220,  38957970], dtype=int64))\n",
      "ic| np.unique(deforestation_past_years, return_counts=True): (array([   0, 2008, 2009, 2010, 2011, 2012, 2013, 2014, 2015, 2016, 2017,\n",
      "                                                                    2018, 2019, 2020, 2021], dtype=uint16),\n",
      "                                                              array([132185553,   3150503,   4571354,    864429,    903608,   1299506,\n",
      "                                                                      2477971,   1561686,   1459696,    969060,    644976,   2209014,\n",
      "                                                                      2100204,   5257014,   3514616], dtype=int64))\n",
      "ic| label_per_date.shape: (17730, 9203, 1)\n"
     ]
    },
    {
     "name": "stdout",
     "output_type": "stream",
     "text": [
      "Mask label shape:  \n",
      " (17730, 9203, 1) \n",
      " Unique values:  \n",
      " [0 1 2]\n",
      "Tiles size:  3546 2300\n",
      "Mask size:  (17730, 9200)\n"
     ]
    },
    {
     "name": "stderr",
     "output_type": "stream",
     "text": [
      "ic| image_stack.shape: (17730, 9203, 21)\n"
     ]
    },
    {
     "name": "stdout",
     "output_type": "stream",
     "text": [
      "Image shape:  (17730, 9203, 21)\n",
      "mask:  (17730, 9200)\n",
      "image stack:  (17730, 9200, 21)\n",
      "ref : (17730, 9200, 1)\n",
      "Training tiles:  [1, 3, 5, 8, 11, 13, 14, 20]\n",
      "Validation tiles:  [6, 19]\n",
      "Test tiles:  [2, 4, 7, 9, 10, 12, 15, 16, 17, 18]\n",
      "-30.0 -16.0\n"
     ]
    },
    {
     "name": "stderr",
     "output_type": "stream",
     "text": [
      "ic| self.path_models+ '/' + self.method +'_'+str(0)+'.h5': 'D:/Jorge/datasets/deforestation/experiments/exp123/models/resunet_0.h5'\n"
     ]
    },
    {
     "name": "stdout",
     "output_type": "stream",
     "text": [
      "time:  0\n",
      "time:  1\n",
      "time:  2\n",
      "time:  3\n",
      "time:  4\n",
      "time:  5\n",
      "time:  6\n",
      "time:  7\n",
      "time:  8\n",
      "time:  9\n",
      "(54236371,)\n",
      "(array([0, 1], dtype=uint8), array([53470765,   765606], dtype=int64))\n",
      "(17730, 9200)\n",
      "(array([0., 1.], dtype=float32), array([161642061,   1473939], dtype=int64))\n"
     ]
    },
    {
     "name": "stderr",
     "output_type": "stream",
     "text": [
      "ic| self.predicted_unpad.shape: (17730, 9200)\n",
      "    self.predicted.shape: (17730, 9200)\n",
      "ic| predicted_test.shape: (81558000,)\n",
      "ic| predicted_test.shape: (54236371,)\n"
     ]
    }
   ],
   "source": [
    "from tqdm import tqdm\n",
    "\n",
    "exps = [123, 124, 125, 126, 127, 128, 129, 131, 1121, 1122]\n",
    "results_for_exps = []\n",
    "for exp in tqdm(exps):\n",
    "\n",
    "    trainer = TrainerMCDropout(config, dataset, patchesHandler)\n",
    "\n",
    "    trainer.defineExperiment(exp)\n",
    "\n",
    "    trainer.createLogFolders()\n",
    "\n",
    "    trainer.loadDataset()\n",
    "\n",
    "    # %%\n",
    "    if config[\"training\"] == True:\n",
    "        trainer.run()\n",
    "\n",
    "    # %%\n",
    "    results = trainer.run_predictor_repetition()\n",
    "    results_for_exps.append(results)"
   ]
  },
  {
   "cell_type": "code",
   "execution_count": null,
   "id": "57f5f4f7",
   "metadata": {},
   "outputs": [],
   "source": [
    "print(results_for_exps)"
   ]
  }
 ],
 "metadata": {
  "kernelspec": {
   "display_name": "Python 3.9.12 ('tf2')",
   "language": "python",
   "name": "python3"
  },
  "language_info": {
   "codemirror_mode": {
    "name": "ipython",
    "version": 3
   },
   "file_extension": ".py",
   "mimetype": "text/x-python",
   "name": "python",
   "nbconvert_exporter": "python",
   "pygments_lexer": "ipython3",
   "version": "3.9.12"
  },
  "vscode": {
   "interpreter": {
    "hash": "0593c6bd4eb743cc503a3c17025f83c5676f297db573750215a1bc8c88a990c4"
   }
  }
 },
 "nbformat": 4,
 "nbformat_minor": 5
}
