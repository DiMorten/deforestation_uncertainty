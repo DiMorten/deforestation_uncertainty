{
 "cells": [
  {
   "cell_type": "code",
   "execution_count": 1,
   "metadata": {},
   "outputs": [],
   "source": [
    "import numpy as np\n",
    "import os\n",
    "from pathlib import Path\n",
    "import shutil\n",
    "from src.dataset import (\n",
    "    PAMultipleDates, MTMultipleDates, MAMultipleDates\n",
    ")"
   ]
  },
  {
   "cell_type": "code",
   "execution_count": 2,
   "metadata": {},
   "outputs": [
    {
     "name": "stderr",
     "output_type": "stream",
     "text": [
      "ic| list(self.date_ids): [0, 1]\n",
      "ic| self.image_channels: [[0, 2, 3, 4, 5, 6, 7, 8, 9, 10, 11, 12, 13, 14, 15, 16, 17, 18, 19, 20, 21],\n",
      "                          [1,\n",
      "                           12,\n",
      "                           13,\n",
      "                           14,\n",
      "                           15,\n",
      "                           16,\n",
      "                           17,\n",
      "                           18,\n",
      "                           19,\n",
      "                           20,\n",
      "                           21,\n",
      "                           22,\n",
      "                           23,\n",
      "                           24,\n",
      "                           25,\n",
      "                           26,\n",
      "                           27,\n",
      "                           28,\n",
      "                           29,\n",
      "                           30,\n",
      "                           31]]\n"
     ]
    }
   ],
   "source": [
    "config = {\n",
    "    'dataset': 'MT',\n",
    "    'exp_id_new': 8\n",
    "}\n",
    "exp_id_new = config['exp_id_new']\n",
    "if config['dataset'] == 'PA':\n",
    "    dataset = PAMultipleDates()\n",
    "elif config['dataset'] == 'MT':\n",
    "    dataset = MTMultipleDates()"
   ]
  },
  {
   "cell_type": "code",
   "execution_count": 3,
   "metadata": {},
   "outputs": [
    {
     "name": "stdout",
     "output_type": "stream",
     "text": [
      "D:/Jorge/datasets/deforestation/experiments/MT/\n"
     ]
    }
   ],
   "source": [
    "exp_folder = dataset.paths.experiment\n",
    "print(exp_folder)"
   ]
  },
  {
   "cell_type": "code",
   "execution_count": 4,
   "metadata": {},
   "outputs": [],
   "source": [
    "\n",
    "\n",
    "if exp_id_new == 0:\n",
    "    exp_ids_old = [103, 104, 105, 106, 107, 118, 119, 120, 121, 122] \n",
    "elif exp_id_new == 1:\n",
    "    exp_ids_old = [123, 124, 125, 126, 127, 128, 129, 131, 1122, 1121] \n",
    "elif exp_id_new == 2:\n",
    "    exp_ids_old = [108, 109, 110, 111, 112, 113, 114, 115, 116, 117] \n",
    "\n",
    "elif exp_id_new == 3:\n",
    "    exp_ids_old = [130, 132, 133, 134, 135, 136, 137, 1125, 1124, 1123]\n",
    "\n",
    "# evidential\n",
    "elif exp_id_new == 4: # wDICE PA current\n",
    "    exp_ids_old = [194, 195, 196, 197, 198, 199, 200, 201, 202, 203]\n",
    "elif exp_id_new == 5: # wMSE PA current\n",
    "    # exp_ids_old = [205, 207, 208, 209, 210, 211, 212, 216, 217, 218, 219, 220, 221]\n",
    "    exp_ids_old = [*range(204, 224)]\n",
    "\n",
    "elif exp_id_new == 6: # wDICE PA earlier\n",
    "    exp_ids_old = [*range(224, 234)]\n",
    "elif exp_id_new == 7: # wDICE MT current\n",
    "    exp_ids_old = [*range(196, 206)]    \n",
    "elif exp_id_new == 8: # wDICE MT current\n",
    "    exp_ids_old = [*range(206, 216)]    \n",
    "\n",
    "exp_id_new = str(exp_id_new)"
   ]
  },
  {
   "cell_type": "code",
   "execution_count": 5,
   "metadata": {},
   "outputs": [
    {
     "data": {
      "text/plain": [
       "'8'"
      ]
     },
     "execution_count": 5,
     "metadata": {},
     "output_type": "execute_result"
    }
   ],
   "source": [
    "exp_id_new"
   ]
  },
  {
   "cell_type": "code",
   "execution_count": 6,
   "metadata": {},
   "outputs": [],
   "source": [
    "exp_new_folder = Path(os.path.join(exp_folder, \"exp{}\".format(exp_id_new)))"
   ]
  },
  {
   "cell_type": "code",
   "execution_count": 7,
   "metadata": {},
   "outputs": [
    {
     "name": "stdout",
     "output_type": "stream",
     "text": [
      "D:\\Jorge\\datasets\\deforestation\\experiments\\MT\\exp8\n"
     ]
    }
   ],
   "source": [
    "print(exp_new_folder)"
   ]
  },
  {
   "cell_type": "code",
   "execution_count": 8,
   "metadata": {},
   "outputs": [
    {
     "name": "stdout",
     "output_type": "stream",
     "text": [
      "Copying from D:/Jorge/datasets/deforestation/experiments/MT/exp206\\models\\resunet_0.h5 to D:\\Jorge\\datasets\\deforestation\\experiments\\MT\\exp8\\models\\resunet_0.h5\n",
      "Copying from D:/Jorge/datasets/deforestation/experiments/MT/exp207\\models\\resunet_0.h5 to D:\\Jorge\\datasets\\deforestation\\experiments\\MT\\exp8\\models\\resunet_1.h5\n",
      "Copying from D:/Jorge/datasets/deforestation/experiments/MT/exp208\\models\\resunet_0.h5 to D:\\Jorge\\datasets\\deforestation\\experiments\\MT\\exp8\\models\\resunet_2.h5\n",
      "Copying from D:/Jorge/datasets/deforestation/experiments/MT/exp209\\models\\resunet_0.h5 to D:\\Jorge\\datasets\\deforestation\\experiments\\MT\\exp8\\models\\resunet_3.h5\n",
      "Copying from D:/Jorge/datasets/deforestation/experiments/MT/exp210\\models\\resunet_0.h5 to D:\\Jorge\\datasets\\deforestation\\experiments\\MT\\exp8\\models\\resunet_4.h5\n",
      "Copying from D:/Jorge/datasets/deforestation/experiments/MT/exp211\\models\\resunet_0.h5 to D:\\Jorge\\datasets\\deforestation\\experiments\\MT\\exp8\\models\\resunet_5.h5\n",
      "Copying from D:/Jorge/datasets/deforestation/experiments/MT/exp212\\models\\resunet_0.h5 to D:\\Jorge\\datasets\\deforestation\\experiments\\MT\\exp8\\models\\resunet_6.h5\n",
      "Copying from D:/Jorge/datasets/deforestation/experiments/MT/exp213\\models\\resunet_0.h5 to D:\\Jorge\\datasets\\deforestation\\experiments\\MT\\exp8\\models\\resunet_7.h5\n",
      "Copying from D:/Jorge/datasets/deforestation/experiments/MT/exp214\\models\\resunet_0.h5 to D:\\Jorge\\datasets\\deforestation\\experiments\\MT\\exp8\\models\\resunet_8.h5\n",
      "Copying from D:/Jorge/datasets/deforestation/experiments/MT/exp215\\models\\resunet_0.h5 to D:\\Jorge\\datasets\\deforestation\\experiments\\MT\\exp8\\models\\resunet_9.h5\n"
     ]
    }
   ],
   "source": [
    "exp_new_folder.mkdir(parents=True, exist_ok=True)\n",
    "\n",
    "(exp_new_folder / \"models\").mkdir(parents=True, exist_ok=True)\n",
    "(exp_new_folder / \"pred_maps\").mkdir(parents=True, exist_ok=True)\n",
    "\n",
    "for idx, exp_id_old in enumerate(exp_ids_old):\n",
    "    model_path_old = os.path.join(exp_folder, \"exp{}\".format(exp_id_old), 'models', 'resunet_0.h5')\n",
    "    model_path_new = os.path.join(exp_new_folder, 'models', 'resunet_{}.h5'.format(idx))\n",
    "    print(\"Copying from {} to {}\".format(model_path_old, model_path_new))\n",
    "    shutil.copyfile(model_path_old, model_path_new)\n",
    "    "
   ]
  }
 ],
 "metadata": {
  "kernelspec": {
   "display_name": "tf2",
   "language": "python",
   "name": "python3"
  },
  "language_info": {
   "codemirror_mode": {
    "name": "ipython",
    "version": 3
   },
   "file_extension": ".py",
   "mimetype": "text/x-python",
   "name": "python",
   "nbconvert_exporter": "python",
   "pygments_lexer": "ipython3",
   "version": "3.9.12"
  },
  "orig_nbformat": 4
 },
 "nbformat": 4,
 "nbformat_minor": 2
}
